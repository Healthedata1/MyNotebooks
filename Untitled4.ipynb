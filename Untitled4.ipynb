{
 "cells": [
  {
   "cell_type": "code",
   "execution_count": 3,
   "metadata": {},
   "outputs": [
    {
     "name": "stdout",
     "output_type": "stream",
     "text": [
      "Before deleting attribute from object A1\n",
      "Does A1 has x? True\n",
      "Does A1 has y? True\n",
      "\n",
      "After deleting attribute from object A1\n",
      "Does A1 has x? False\n",
      "Does A1 has y? True\n"
     ]
    },
    {
     "ename": "TypeError",
     "evalue": "delattr expected 2 arguments, got 3",
     "output_type": "error",
     "traceback": [
      "\u001b[0;31m---------------------------------------------------------------------------\u001b[0m",
      "\u001b[0;31mTypeError\u001b[0m                                 Traceback (most recent call last)",
      "\u001b[0;32m<ipython-input-3-7702ac8e3c36>\u001b[0m in \u001b[0;36m<module>\u001b[0;34m\u001b[0m\n\u001b[1;32m     21\u001b[0m \u001b[0mprint\u001b[0m\u001b[0;34m(\u001b[0m\u001b[0;34mf'Does A1 has y? {result}'\u001b[0m\u001b[0;34m)\u001b[0m\u001b[0;34m\u001b[0m\u001b[0;34m\u001b[0m\u001b[0m\n\u001b[1;32m     22\u001b[0m \u001b[0;34m\u001b[0m\u001b[0m\n\u001b[0;32m---> 23\u001b[0;31m \u001b[0mdelattr\u001b[0m\u001b[0;34m(\u001b[0m\u001b[0mA1\u001b[0m\u001b[0;34m,\u001b[0m \u001b[0;34m'Z'\u001b[0m\u001b[0;34m,\u001b[0m \u001b[0;32mNone\u001b[0m\u001b[0;34m)\u001b[0m\u001b[0;34m\u001b[0m\u001b[0;34m\u001b[0m\u001b[0m\n\u001b[0m",
      "\u001b[0;31mTypeError\u001b[0m: delattr expected 2 arguments, got 3"
     ]
    }
   ],
   "source": [
    "class A:\n",
    "    def __init__(self, x, y):\n",
    "        self.x = x\n",
    "        self.y = y\n",
    "\n",
    "\n",
    "A1 = A(2, 3)\n",
    "\n",
    "print('Before deleting attribute from object A1')\n",
    "result = hasattr(A1, 'x')\n",
    "print(f'Does A1 has x? {result}')\n",
    "result = hasattr(A1, 'y')\n",
    "print(f'Does A1 has y? {result}')\n",
    "\n",
    "#delete the attribute x\n",
    "delattr(A1, 'x')\n",
    "print('\\nAfter deleting attribute from object A1')\n",
    "result = hasattr(A1, 'x')\n",
    "print(f'Does A1 has x? {result}')\n",
    "result = hasattr(A1, 'y')\n",
    "print(f'Does A1 has y? {result}')\n",
    "\n",
    "delattr(A1, 'Z')"
   ]
  }
 ],
 "metadata": {
  "kernelspec": {
   "display_name": "Python 3.7.3 64-bit ('venv37': venv)",
   "language": "python",
   "name": "python37364bitvenv37venv2b400d68decb43d5b2206c004a019450"
  },
  "language_info": {
   "codemirror_mode": {
    "name": "ipython",
    "version": 3
   },
   "file_extension": ".py",
   "mimetype": "text/x-python",
   "name": "python",
   "nbconvert_exporter": "python",
   "pygments_lexer": "ipython3",
   "version": "3.7.3"
  }
 },
 "nbformat": 4,
 "nbformat_minor": 4
}
