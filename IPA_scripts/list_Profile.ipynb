{
 "cells": [
  {
   "cell_type": "code",
   "execution_count": 3,
   "metadata": {},
   "outputs": [
    {
     "name": "stdout",
     "output_type": "stream",
     "text": [
      "IPA-AllergyIntolerance\n",
      "IPA-Condition\n",
      "IPA-DocumentReference\n",
      "IPA-Immunization\n",
      "IPA-MedicationRequest\n",
      "IPA-MedicationStatement\n",
      "IPA-Observation\n",
      "IPA-Patient\n",
      "IPA-Medication\n",
      "IPA-Practitioner\n",
      "IPA-PractitionerRole\n"
     ]
    }
   ],
   "source": [
    "IPA_profiles = ['IPA-AllergyIntolerance', 'IPA-Condition', 'IPA-DocumentReference', 'IPA-Immunization', 'IPA-MedicationRequest', 'IPA-MedicationStatement', 'IPA-Observation', 'IPA-Patient', 'IPA-Medication', 'IPA-Practitioner', 'IPA-PractitionerRole']\n",
    "\n",
    "for i in IPA_profiles:\n",
    "    print(i)"
   ]
  }
 ],
 "metadata": {
  "kernelspec": {
   "display_name": "Python 3.10.2 64-bit ('jupyter')",
   "language": "python",
   "name": "python3"
  },
  "language_info": {
   "codemirror_mode": {
    "name": "ipython",
    "version": 3
   },
   "file_extension": ".py",
   "mimetype": "text/x-python",
   "name": "python",
   "nbconvert_exporter": "python",
   "pygments_lexer": "ipython3",
   "version": "3.10.2"
  },
  "orig_nbformat": 4,
  "vscode": {
   "interpreter": {
    "hash": "18672f2fb81dcbb023a0ac48a86c775a19488782369d96ffbd3382a22fd285cf"
   }
  }
 },
 "nbformat": 4,
 "nbformat_minor": 2
}
