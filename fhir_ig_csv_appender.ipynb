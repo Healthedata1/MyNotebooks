{
 "cells": [
  {
   "cell_type": "markdown",
   "metadata": {},
   "source": [
    "### Append csv files from directory into one\n",
    "\n",
    "- get csv files from the local builds output folder\n",
    "- add columns for url name and title\n",
    "- create and append a master csv for whole IG"
   ]
  },
  {
   "cell_type": "code",
   "execution_count": 11,
   "metadata": {},
   "outputs": [
    {
     "name": "stdout",
     "output_type": "stream",
     "text": [
      "/Users/ehaas/Documents/Python/MyNotebooks\n"
     ]
    }
   ],
   "source": [
    "%cd /Users/ehaas/Documents/Python/MyNotebooks"
   ]
  },
  {
   "cell_type": "code",
   "execution_count": 12,
   "metadata": {},
   "outputs": [],
   "source": [
    "from pathlib import Path\n",
    "import pandas as pd\n",
    "import csv\n",
    "from json import loads"
   ]
  },
  {
   "cell_type": "code",
   "execution_count": 13,
   "metadata": {},
   "outputs": [],
   "source": [
    "# get path from IG output dir\n",
    "in_path = Path(r'/Users/ehaas/Documents/FHIR/US-Core-R4/output')\n",
    "out_path = Path() / 'test_resources' / 'master.csv'"
   ]
  },
  {
   "cell_type": "code",
   "execution_count": 14,
   "metadata": {},
   "outputs": [],
   "source": [
    "# get all the output csv from the ig\n",
    "my_files = [f for f in in_path.glob('*csv')]  "
   ]
  },
  {
   "cell_type": "code",
   "execution_count": 15,
   "metadata": {},
   "outputs": [
    {
     "name": "stdout",
     "output_type": "stream",
     "text": [
      "should have 48 profiles\n",
      "appending 0: US Core Birth Sex Extension to test_resources/master.csv ...\n",
      "appending 1: US Core Sexual Orientation Observation Profile to test_resources/master.csv ...\n",
      "appending 2: US Core Pediatric Weight for Height Observation Profile to test_resources/master.csv ...\n",
      "appending 3: US Core Medication Profile to test_resources/master.csv ...\n",
      "appending 4: US Core Blood Pressure Profile to test_resources/master.csv ...\n",
      "appending 5: US Core Heart Rate Profile to test_resources/master.csv ...\n",
      "appending 6: US Core Provenance Profile to test_resources/master.csv ...\n",
      "appending 7: US Core Social History Assessment Observation Profile to test_resources/master.csv ...\n",
      "appending 8: US Core CarePlan Profile to test_resources/master.csv ...\n",
      "appending 9: US Core DiagnosticReport Profile for Report and Note exchange to test_resources/master.csv ...\n",
      "appending 10: US Core Location Profile to test_resources/master.csv ...\n",
      "appending 11: US Core Head Circumference Profile to test_resources/master.csv ...\n",
      "appending 12: US Core Direct email Extension to test_resources/master.csv ...\n",
      "appending 13: US Core Implantable Device Profile to test_resources/master.csv ...\n",
      "appending 14: US Core Pediatric Head Occipital-frontal Circumference Percentile Profile to test_resources/master.csv ...\n",
      "appending 15: US Core PractitionerRole Profile to test_resources/master.csv ...\n",
      "appending 16: US Core Patient Profile to test_resources/master.csv ...\n",
      "appending 17: US Core BMI Profile to test_resources/master.csv ...\n",
      "appending 18: US Core Immunization Profile to test_resources/master.csv ...\n",
      "appending 19: US Core Service Request to test_resources/master.csv ...\n",
      "appending 20: US Core Clinical Test Result Observation Profile to test_resources/master.csv ...\n",
      "appending 21: US Core Pulse Oximetry Profile to test_resources/master.csv ...\n",
      "appending 22: US Core Condition Profile to test_resources/master.csv ...\n",
      "appending 23: US Core Organization Profile to test_resources/master.csv ...\n",
      "appending 24: US Core AllergyIntolerance Profile to test_resources/master.csv ...\n",
      "appending 25: US Core Race Extension to test_resources/master.csv ...\n",
      "appending 26: US Core Laboratory Result Observation Profile to test_resources/master.csv ...\n",
      "appending 27: US Core Vital Signs Profile to test_resources/master.csv ...\n",
      "appending 28: US Core MedicationRequest Profile to test_resources/master.csv ...\n",
      "appending 29: US Core Ethnicity Extension to test_resources/master.csv ...\n",
      "appending 30: US Core Body Height Profile to test_resources/master.csv ...\n",
      "appending 31: US Core Procedure Profile to test_resources/master.csv ...\n",
      "appending 32: US Core DocumentReference Profile to test_resources/master.csv ...\n",
      "33: ****unable to access uscore-profiles ****  [Errno 2] No such file or directory: '/Users/ehaas/Documents/FHIR/US-Core-R4/output/uscore-profiles.json'\n",
      "appending 34: US Core Gender Identity Extension to test_resources/master.csv ...\n",
      "appending 35: US Core CareTeam Profile to test_resources/master.csv ...\n",
      "appending 36: US Core Pediatric BMI for Age Observation Profile to test_resources/master.csv ...\n",
      "appending 37: US Core Practitioner Profile to test_resources/master.csv ...\n",
      "appending 38: US Core Imaging Result Observation Profile to test_resources/master.csv ...\n",
      "appending 39: US Core Goal Profile to test_resources/master.csv ...\n",
      "appending 40: US Core Related Person to test_resources/master.csv ...\n",
      "appending 41: US Core Screening Response Observation Profile to test_resources/master.csv ...\n",
      "appending 42: US Core DiagnosticReport Profile for Laboratory Results Reporting to test_resources/master.csv ...\n",
      "appending 43: US Core Respiratory Rate Profile to test_resources/master.csv ...\n",
      "appending 44: US Core Smoking Status Observation Profile to test_resources/master.csv ...\n",
      "appending 45: US Core Body Weight Profile to test_resources/master.csv ...\n",
      "appending 46: US Core Encounter Profile to test_resources/master.csv ...\n",
      "appending 47: US Core Body Temperature Profile to test_resources/master.csv ...\n"
     ]
    }
   ],
   "source": [
    "print(f'should have {len(my_files)} profiles')\n",
    "                     \n",
    "for i,f in enumerate(my_files):\n",
    "\n",
    "    # get SD stem(name) for first file\n",
    "    SD_file_name = f.stem\n",
    "\n",
    "    # get SD url, name and title for first file\n",
    "    sd_path = in_path / f'{SD_file_name}.json'\n",
    "    try:\n",
    "        my_sd = loads(sd_path.read_text())\n",
    "    except FileNotFoundError as e:\n",
    "        print(f\"{i}: ****unable to access {SD_file_name} ****  {e}\")\n",
    "        continue\n",
    "                                        \n",
    "    # load CSV using pandas\n",
    "    try:\n",
    "        df = pd.read_csv(f)\n",
    "    except Exception as e:\n",
    "        print(f\"{i}: ****unable make dataframe for {SD_file_name} **** {e}\")\n",
    "        continue\n",
    "\n",
    "    # add new columns 'url', 'name', 'Title'\n",
    "    df.insert(loc=0, column='title',value = my_sd['title'])\n",
    "    df.insert(loc=0, column='name',value = my_sd['name'])\n",
    "    df.insert(loc=0, column='url',value = my_sd['url'])\n",
    "    #print(df.head)\n",
    "    \n",
    "    print(f\"appending {i}: {my_sd['title']} to {out_path} ...\")\n",
    "    if i == 0:\n",
    "        # create new master_csv\n",
    "        df.to_csv(out_path, mode='w', index=False, quoting=csv.QUOTE_ALL)\n",
    "    else:\n",
    "        #append to master_csv\n",
    "        df.to_csv(out_path, mode='a', index=False, header=False, quoting=csv.QUOTE_ALL)       "
   ]
  }
 ],
 "metadata": {
  "kernelspec": {
   "display_name": "Python 3.7.3 64-bit ('venv37': venv)",
   "language": "python",
   "name": "python37364bitvenv37venv2b400d68decb43d5b2206c004a019450"
  },
  "language_info": {
   "codemirror_mode": {
    "name": "ipython",
    "version": 3
   },
   "file_extension": ".py",
   "mimetype": "text/x-python",
   "name": "python",
   "nbconvert_exporter": "python",
   "pygments_lexer": "ipython3",
   "version": "3.7.3"
  }
 },
 "nbformat": 4,
 "nbformat_minor": 4
}
