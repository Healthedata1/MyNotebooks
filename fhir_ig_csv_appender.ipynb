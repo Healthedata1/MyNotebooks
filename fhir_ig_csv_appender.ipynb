{
 "cells": [
  {
   "cell_type": "markdown",
   "metadata": {},
   "source": [
    "### Append csv files from directory into one\n",
    "\n",
    "- get csv files from the local builds output folder\n",
    "- add columns for url name and title\n",
    "- create and append a master csv for whole IG"
   ]
  },
  {
   "cell_type": "code",
   "execution_count": 5,
   "metadata": {},
   "outputs": [
    {
     "name": "stdout",
     "output_type": "stream",
     "text": [
      "/Users/ehaas/Documents/Python/MyNotebooks\n"
     ]
    }
   ],
   "source": [
    "%cd /Users/ehaas/Documents/Python/MyNotebooks"
   ]
  },
  {
   "cell_type": "code",
   "execution_count": 6,
   "metadata": {},
   "outputs": [],
   "source": [
    "from pathlib import Path\n",
    "import pandas as pd\n",
    "from json import loads"
   ]
  },
  {
   "cell_type": "code",
   "execution_count": 7,
   "metadata": {},
   "outputs": [],
   "source": [
    "# get path from IG output dir\n",
    "in_path = Path(r'/Users/ehaas/Documents/FHIR/US-Core-R4/output')\n",
    "out_path = Path() / 'test_resources' / 'master.csv'"
   ]
  },
  {
   "cell_type": "code",
   "execution_count": 8,
   "metadata": {},
   "outputs": [
    {
     "name": "stdout",
     "output_type": "stream",
     "text": [
      "should have 0 profiles\n"
     ]
    }
   ],
   "source": [
    "# get all the output csv from the ig\n",
    "my_files = [f for f in in_path.glob('*csv')]\n",
    "print(f'should have {len(my_files)} profiles')\n",
    "                     \n",
    "for i,f in enumerate(my_files):\n",
    "    print(i)\n",
    "    # get SD stem(name) for first file\n",
    "    SD_file_name = f.stem\n",
    "    SD_file_name\n",
    "\n",
    "    # get SD url, name and title for first file\n",
    "    sd_path = in_path / f'{SD_file_name}.json'\n",
    "    my_sd = loads(sd_path.read_text())\n",
    "    #my_sd['url'], my_sd['name'], my_sd['title']\n",
    "                                       \n",
    "    # load CSV using pandas\n",
    "    df = pd.read_csv(f)\n",
    "    \n",
    "    # add new columns 'url', 'name', 'Title'\n",
    "    df.insert(loc=0, column='title',value = my_sd['title'])\n",
    "    df.insert(loc=0, column='name',value = my_sd['name'])\n",
    "    df.insert(loc=0, column='url',value = my_sd['url'])\n",
    "    #print(df.head)\n",
    "    \n",
    "    if i == 0:\n",
    "        # create new master_csv\n",
    "        \n",
    "        \n",
    "        df.to_csv(out_path, mode='w', index=False)\n",
    "\n",
    "    else:\n",
    "        #append to master_csv\n",
    "        df.to_csv(out_path, mode='a', index=False, header=False)\n",
    "        "
   ]
  }
 ],
 "metadata": {
  "kernelspec": {
   "display_name": "Python 3.7.3 64-bit ('venv37': venv)",
   "language": "python",
   "name": "python37364bitvenv37venv2b400d68decb43d5b2206c004a019450"
  },
  "language_info": {
   "codemirror_mode": {
    "name": "ipython",
    "version": 3
   },
   "file_extension": ".py",
   "mimetype": "text/x-python",
   "name": "python",
   "nbconvert_exporter": "python",
   "pygments_lexer": "ipython3",
   "version": "3.7.3"
  }
 },
 "nbformat": 4,
 "nbformat_minor": 4
}
