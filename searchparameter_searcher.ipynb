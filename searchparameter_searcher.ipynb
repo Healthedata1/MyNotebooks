{
 "cells": [
  {
   "cell_type": "markdown",
   "metadata": {},
   "source": [
    "\n",
    "## Search through SearchParameter properties summaries\n",
    "\n",
    "*USE Python 3.7 to maintain order of Json files*\n",
    "\n",
    "- Fetch package for IG\n",
    "- Fetch package for core\n",
    "- search for SP parameters\n",
    "\n",
    "\n",
    "*Note need a successful build to generate since based on ig output local file\n",
    "alternatively use package.files to generate*"
   ]
  },
  {
   "cell_type": "markdown",
   "metadata": {},
   "source": [
    "### import python modules"
   ]
  },
  {
   "cell_type": "code",
   "execution_count": 4,
   "metadata": {},
   "outputs": [],
   "source": [
    "import Summary_maker.title_map as tm\n",
    "import os, json"
   ]
  },
  {
   "cell_type": "markdown",
   "metadata": {},
   "source": [
    "### Get file and return as dict"
   ]
  },
  {
   "cell_type": "markdown",
   "metadata": {},
   "source": [
    "### Write to file"
   ]
  },
  {
   "cell_type": "markdown",
   "metadata": {},
   "source": [
    "### Loop through SPs"
   ]
  },
  {
   "cell_type": "code",
   "execution_count": 5,
   "metadata": {},
   "outputs": [
    {
     "data": {
      "text/plain": [
       "['SearchParameter-us-core-immunization-status.json',\n",
       " 'SearchParameter-us-core-condition-category.json',\n",
       " 'SearchParameter-us-core-patient-identifier.json',\n",
       " 'SearchParameter-us-core-practitioner-identifier.json',\n",
       " 'SearchParameter-us-core-documentreference-category.json',\n",
       " 'SearchParameter-us-core-careteam-status.json',\n",
       " 'SearchParameter-us-core-location-address-city.json',\n",
       " 'SearchParameter-us-core-patient-id.json',\n",
       " 'SearchParameter-us-core-immunization-patient.json',\n",
       " 'SearchParameter-us-core-goal-patient.json',\n",
       " 'SearchParameter-us-core-device-type.json',\n",
       " 'SearchParameter-us-core-patient-name.json',\n",
       " 'SearchParameter-us-core-practitionerrole-specialty.json',\n",
       " 'SearchParameter-us-core-encounter-identifier.json',\n",
       " 'SearchParameter-us-core-immunization-date.json',\n",
       " 'SearchParameter-us-core-careteam-patient.json',\n",
       " 'SearchParameter-us-core-careplan-date.json',\n",
       " 'SearchParameter-us-core-diagnosticreport-patient.json',\n",
       " 'SearchParameter-us-core-goal-target-date.json',\n",
       " 'SearchParameter-us-core-procedure-patient.json',\n",
       " 'SearchParameter-us-core-documentreference-status.json',\n",
       " 'SearchParameter-us-core-medicationrequest-authoredon.json',\n",
       " 'SearchParameter-us-core-encounter-id.json',\n",
       " 'SearchParameter-us-core-location-address-postalcode.json',\n",
       " 'SearchParameter-us-core-medicationrequest-status.json',\n",
       " 'SearchParameter-us-core-race.json',\n",
       " 'SearchParameter-us-core-patient-family.json',\n",
       " 'SearchParameter-us-core-careplan-patient.json',\n",
       " 'SearchParameter-us-core-observation-patient.json',\n",
       " 'SearchParameter-us-core-condition-code.json',\n",
       " 'SearchParameter-us-core-device-patient.json',\n",
       " 'SearchParameter-us-core-allergyintolerance-patient.json',\n",
       " 'SearchParameter-us-core-condition-patient.json',\n",
       " 'SearchParameter-us-core-careplan-status.json',\n",
       " 'SearchParameter-us-core-encounter-status.json',\n",
       " 'SearchParameter-us-core-procedure-status.json',\n",
       " 'SearchParameter-us-core-patient-birthdate.json',\n",
       " 'SearchParameter-us-core-encounter-date.json',\n",
       " 'SearchParameter-us-core-documentreference-type.json',\n",
       " 'SearchParameter-us-core-observation-status.json',\n",
       " 'SearchParameter-us-core-diagnosticreport-category.json',\n",
       " 'SearchParameter-us-core-observation-date.json',\n",
       " 'SearchParameter-us-core-diagnosticreport-status.json',\n",
       " 'SearchParameter-us-core-observation-category.json',\n",
       " 'SearchParameter-us-core-organization-address.json',\n",
       " 'SearchParameter-us-core-encounter-patient.json',\n",
       " 'SearchParameter-us-core-medicationrequest-encounter.json',\n",
       " 'SearchParameter-us-core-encounter-type.json',\n",
       " 'SearchParameter-us-core-patient-given.json',\n",
       " 'SearchParameter-us-core-condition-onset-date.json',\n",
       " 'SearchParameter-us-core-location-name.json',\n",
       " 'SearchParameter-us-core-observation-code.json',\n",
       " 'SearchParameter-us-core-documentreference-period.json',\n",
       " 'SearchParameter-us-core-practitioner-name.json',\n",
       " 'SearchParameter-us-core-location-address.json',\n",
       " 'SearchParameter-us-core-medicationrequest-intent.json',\n",
       " 'SearchParameter-us-core-documentreference-date.json',\n",
       " 'SearchParameter-us-core-allergyintolerance-clinical-status.json',\n",
       " 'SearchParameter-us-core-ethnicity.json',\n",
       " 'SearchParameter-us-core-procedure-date.json',\n",
       " 'SearchParameter-us-core-diagnosticreport-date.json',\n",
       " 'SearchParameter-us-core-documentreference-patient.json',\n",
       " 'SearchParameter-us-core-medicationrequest-patient.json',\n",
       " 'SearchParameter-us-core-encounter-class.json',\n",
       " 'SearchParameter-us-core-careplan-category.json',\n",
       " 'SearchParameter-us-core-documentreference-id.json',\n",
       " 'SearchParameter-us-core-condition-clinical-status.json',\n",
       " 'SearchParameter-us-core-patient-gender.json',\n",
       " 'SearchParameter-us-core-procedure-code.json',\n",
       " 'SearchParameter-us-core-goal-lifecycle-status.json',\n",
       " 'SearchParameter-us-core-diagnosticreport-code.json',\n",
       " 'SearchParameter-us-core-organization-name.json',\n",
       " 'SearchParameter-us-core-practitionerrole-practitioner.json',\n",
       " 'SearchParameter-us-core-location-address-state.json']"
      ]
     },
     "execution_count": 5,
     "metadata": {},
     "output_type": "execute_result"
    }
   ],
   "source": [
    "us_core = '/Users/ehaas/.fhir/packages/hl7.fhir.us.core#dev/package'\n",
    "fhir_r4 = '/Users/ehaas/.fhir/packages/hl7.fhir.r4.core#4.0.1/package'\n",
    "#f_name = 'us-core-patient'\n",
    "#n_path = '/Users/ehaas/.fhir/packages/hl7.fhir.us.core#dev' # package file keeps disappearing\n",
    "#in_path = '//ERICS-AIR-2/ehaas/Documents/FHIR/US-Core-R4/output'  # use local build dir.\n",
    "us_core_files = [x for x in os.listdir(us_core) if x.startswith(\"SearchParameter\") and x.endswith('json')]\n",
    "us_core_files"
   ]
  },
  {
   "cell_type": "markdown",
   "metadata": {},
   "source": [
    "loop through all sd and print out the element the element you want\n",
    "\n",
    "filter on the element properties you want"
   ]
  },
  {
   "cell_type": "code",
   "execution_count": 14,
   "metadata": {},
   "outputs": [
    {
     "name": "stdout",
     "output_type": "stream",
     "text": [
      "Immunization\n",
      "CarePlan\n",
      "Goal\n",
      "MedicationRequest\n",
      "Patient\n",
      "Encounter\n",
      "Observation\n",
      "Condition\n",
      "DocumentReference\n",
      "DocumentReference\n",
      "Procedure\n",
      "DiagnosticReport\n"
     ]
    }
   ],
   "source": [
    "def open_file(in_path, f_name): # get files\n",
    "    with open(f'{in_path}/{f_name}', encoding=\"utf8\") as f:\n",
    "        r = f.read()\n",
    "        return(json.loads(r))\n",
    "\n",
    "for i in us_core_files: \n",
    "    constraints = {}\n",
    "    sp_dict = open_file(us_core,i)\n",
    "    if sp_dict['type'] == 'date':\n",
    "\n",
    "\n",
    "\n",
    "        print(sp_dict[\"base\"][0])\n",
    " "
   ]
  },
  {
   "cell_type": "code",
   "execution_count": null,
   "metadata": {},
   "outputs": [],
   "source": []
  }
 ],
 "metadata": {
  "kernelspec": {
   "display_name": "Python 3",
   "language": "python",
   "name": "python3"
  },
  "language_info": {
   "codemirror_mode": {
    "name": "ipython",
    "version": 3
   },
   "file_extension": ".py",
   "mimetype": "text/x-python",
   "name": "python",
   "nbconvert_exporter": "python",
   "pygments_lexer": "ipython3",
   "version": "3.6.2"
  }
 },
 "nbformat": 4,
 "nbformat_minor": 4
}
