{
 "cells": [
  {
   "cell_type": "markdown",
   "metadata": {},
   "source": [
    "## Flatten FHIR instances to CSV\n",
    "\n",
    "- see this chat: https://chat.fhir.org/#narrow/stream/179166-implementers/topic/What.20is.20the.20state.20of.20FHIR-.3ECSV.20export.3F\n",
    "- and this one too: https://chat.fhir.org/#narrow/stream/179218-python/topic/FHIR.20to.20Dataset\n",
    "\n",
    "idea is to simply use a flatten library to flatten the resource and convert to csv using pandas"
   ]
  },
  {
   "cell_type": "markdown",
   "metadata": {},
   "source": [
    "### Import the Necessary Modules"
   ]
  },
  {
   "cell_type": "code",
   "execution_count": 76,
   "metadata": {},
   "outputs": [],
   "source": [
    "#from pandas import *\n",
    "from pandas.io.json import json_normalize\n",
    "from json import loads\n",
    "from flatten_json import flatten_json as flt"
   ]
  },
  {
   "cell_type": "markdown",
   "metadata": {},
   "source": [
    "### Flatten a Couple of Sample Instances and Transform into a Dataframe"
   ]
  },
  {
   "cell_type": "code",
   "execution_count": 77,
   "metadata": {},
   "outputs": [
    {
     "data": {
      "text/html": [
       "<div>\n",
       "<style scoped>\n",
       "    .dataframe tbody tr th:only-of-type {\n",
       "        vertical-align: middle;\n",
       "    }\n",
       "\n",
       "    .dataframe tbody tr th {\n",
       "        vertical-align: top;\n",
       "    }\n",
       "\n",
       "    .dataframe thead th {\n",
       "        text-align: right;\n",
       "    }\n",
       "</style>\n",
       "<table border=\"1\" class=\"dataframe\">\n",
       "  <thead>\n",
       "    <tr style=\"text-align: right;\">\n",
       "      <th></th>\n",
       "      <th>active</th>\n",
       "      <th>contact_0_address_city</th>\n",
       "      <th>contact_0_address_line_0</th>\n",
       "      <th>contact_0_address_line_1</th>\n",
       "      <th>contact_0_address_postalCode</th>\n",
       "      <th>contact_0_address_state</th>\n",
       "      <th>contact_0_address_text</th>\n",
       "      <th>contact_0_address_use</th>\n",
       "      <th>contact_0_telecom_0_system</th>\n",
       "      <th>contact_0_telecom_0_value</th>\n",
       "      <th>...</th>\n",
       "      <th>gender</th>\n",
       "      <th>identifier_0_system</th>\n",
       "      <th>identifier_0_value</th>\n",
       "      <th>identifier_1_system</th>\n",
       "      <th>identifier_1_value</th>\n",
       "      <th>name_0_family</th>\n",
       "      <th>name_0_given_0</th>\n",
       "      <th>name_0_given_1</th>\n",
       "      <th>name_0_text</th>\n",
       "      <th>resourceType</th>\n",
       "    </tr>\n",
       "  </thead>\n",
       "  <tbody>\n",
       "    <tr>\n",
       "      <th>0</th>\n",
       "      <td>True</td>\n",
       "      <td>Napa</td>\n",
       "      <td>100 Main St</td>\n",
       "      <td>NaN</td>\n",
       "      <td>94559</td>\n",
       "      <td>CA</td>\n",
       "      <td>100 Main St, Napa, CA 94559</td>\n",
       "      <td>home</td>\n",
       "      <td>phone</td>\n",
       "      <td>5555555555</td>\n",
       "      <td>...</td>\n",
       "      <td>female</td>\n",
       "      <td>http://example.org</td>\n",
       "      <td>123</td>\n",
       "      <td>NaN</td>\n",
       "      <td>NaN</td>\n",
       "      <td>Brown</td>\n",
       "      <td>Amy</td>\n",
       "      <td>NaN</td>\n",
       "      <td>Amy Brown</td>\n",
       "      <td>Patient</td>\n",
       "    </tr>\n",
       "    <tr>\n",
       "      <th>1</th>\n",
       "      <td>True</td>\n",
       "      <td>Napa</td>\n",
       "      <td>100 Oak St</td>\n",
       "      <td>Apt 1A</td>\n",
       "      <td>94558</td>\n",
       "      <td>CA</td>\n",
       "      <td>100 Oak St, Apt 1A, Napa, CA 94558</td>\n",
       "      <td>home</td>\n",
       "      <td>phone</td>\n",
       "      <td>5555555555</td>\n",
       "      <td>...</td>\n",
       "      <td>male</td>\n",
       "      <td>http://example.org</td>\n",
       "      <td>234</td>\n",
       "      <td>http://example.org</td>\n",
       "      <td>foo</td>\n",
       "      <td>Black</td>\n",
       "      <td>Bert</td>\n",
       "      <td>Ernie</td>\n",
       "      <td>Bert Black</td>\n",
       "      <td>Patient</td>\n",
       "    </tr>\n",
       "  </tbody>\n",
       "</table>\n",
       "<p>2 rows × 23 columns</p>\n",
       "</div>"
      ],
      "text/plain": [
       "   active contact_0_address_city contact_0_address_line_0  \\\n",
       "0    True                   Napa              100 Main St   \n",
       "1    True                   Napa               100 Oak St   \n",
       "\n",
       "  contact_0_address_line_1 contact_0_address_postalCode  \\\n",
       "0                      NaN                        94559   \n",
       "1                   Apt 1A                        94558   \n",
       "\n",
       "  contact_0_address_state              contact_0_address_text  \\\n",
       "0                      CA         100 Main St, Napa, CA 94559   \n",
       "1                      CA  100 Oak St, Apt 1A, Napa, CA 94558   \n",
       "\n",
       "  contact_0_address_use contact_0_telecom_0_system contact_0_telecom_0_value  \\\n",
       "0                  home                      phone                5555555555   \n",
       "1                  home                      phone                5555555555   \n",
       "\n",
       "   ...  gender identifier_0_system  identifier_0_value identifier_1_system  \\\n",
       "0  ...  female  http://example.org                 123                 NaN   \n",
       "1  ...    male  http://example.org                 234  http://example.org   \n",
       "\n",
       "  identifier_1_value name_0_family name_0_given_0 name_0_given_1 name_0_text  \\\n",
       "0                NaN         Brown            Amy            NaN   Amy Brown   \n",
       "1                foo         Black           Bert          Ernie  Bert Black   \n",
       "\n",
       "  resourceType  \n",
       "0      Patient  \n",
       "1      Patient  \n",
       "\n",
       "[2 rows x 23 columns]"
      ]
     },
     "execution_count": 77,
     "metadata": {},
     "output_type": "execute_result"
    }
   ],
   "source": [
    "my_patient1 ='''\n",
    "{\n",
    "    \"resourceType\": \"Patient\",\n",
    "    \"identifier\": [\n",
    "        {\n",
    "            \"system\": \"http://example.org\",\n",
    "            \"value\": \"123\"\n",
    "        }\n",
    "    ],\n",
    "    \"active\": true,\n",
    "    \"name\": [\n",
    "        {\n",
    "            \"text\": \"Amy Brown\",\n",
    "            \"family\": \"Brown\",\n",
    "            \"given\": [\n",
    "                \"Amy\"\n",
    "            ]\n",
    "        }\n",
    "    ],\n",
    "    \"gender\": \"female\",\n",
    "    \"deceasedBoolean\": false,\n",
    "    \"contact\": [\n",
    "        {\n",
    "            \"telecom\": [\n",
    "                {\n",
    "                    \"system\": \"phone\",\n",
    "                    \"value\": \"5555555555\"\n",
    "                }\n",
    "            ],\n",
    "            \"address\": {\n",
    "                \"use\": \"home\",\n",
    "                \"text\": \"100 Main St, Napa, CA 94559\",\n",
    "                \"line\": [\n",
    "                    \"100 Main St\"\n",
    "                ],\n",
    "                \"city\": \"Napa\",\n",
    "                \"state\": \"CA\",\n",
    "                \"postalCode\": \"94559\"\n",
    "            }\n",
    "        }\n",
    "    ]\n",
    "}\n",
    "'''\n",
    "\n",
    "my_patient2='''\n",
    "{\n",
    "    \"resourceType\": \"Patient\",\n",
    "    \"identifier\": [\n",
    "        {\n",
    "            \"system\": \"http://example.org\",\n",
    "            \"value\": \"234\"\n",
    "        },\n",
    "        {\n",
    "            \"system\": \"http://example.org\",\n",
    "            \"value\": \"foo\"\n",
    "        }\n",
    "    ],\n",
    "    \"active\": true,\n",
    "    \"name\": [\n",
    "        {\n",
    "            \"text\": \"Bert Black\",\n",
    "            \"family\": \"Black\",\n",
    "            \"given\": [\n",
    "                \"Bert\",\n",
    "                \"Ernie\"\n",
    "            ]\n",
    "        }\n",
    "    ],\n",
    "    \"gender\": \"male\",\n",
    "    \"deceasedBoolean\": false,\n",
    "    \"contact\": [\n",
    "        {\n",
    "            \"telecom\": [\n",
    "                {\n",
    "                    \"system\": \"phone\",\n",
    "                    \"value\": \"5555555555\"\n",
    "                },\n",
    "                {\n",
    "                    \"system\": \"email\",\n",
    "                    \"value\": \"myemail@email.com\"\n",
    "                }\n",
    "            ],\n",
    "            \"address\": {\n",
    "                \"use\": \"home\",\n",
    "                \"text\": \"100 Oak St, Apt 1A, Napa, CA 94558\",\n",
    "                \"line\": [\n",
    "                    \"100 Oak St\",\n",
    "                    \"Apt 1A\"\n",
    "                ],\n",
    "                \"city\": \"Napa\",\n",
    "                \"state\": \"CA\",\n",
    "                \"postalCode\": \"94558\"\n",
    "            }\n",
    "        }\n",
    "    ]\n",
    "}\n",
    "'''\n",
    "\n",
    "flat = flt(loads(my_patient1))\n",
    "df1 = json_normalize(flat)\n",
    "\n",
    "flat = flt(loads(my_patient2))\n",
    "df2 = json_normalize(flat)\n",
    "\n",
    "df3 = df1.append(df2, ignore_index=True)\n",
    "\n",
    "df3"
   ]
  },
  {
   "cell_type": "markdown",
   "metadata": {},
   "source": [
    "### Convert the DataFrame to csv"
   ]
  },
  {
   "cell_type": "code",
   "execution_count": 78,
   "metadata": {},
   "outputs": [
    {
     "data": {
      "text/plain": [
       "'active,contact_0_address_city,contact_0_address_line_0,contact_0_address_line_1,contact_0_address_postalCode,contact_0_address_state,contact_0_address_text,contact_0_address_use,contact_0_telecom_0_system,contact_0_telecom_0_value,contact_0_telecom_1_system,contact_0_telecom_1_value,deceasedBoolean,gender,identifier_0_system,identifier_0_value,identifier_1_system,identifier_1_value,name_0_family,name_0_given_0,name_0_given_1,name_0_text,resourceType\\nTrue,Napa,100 Main St,,94559,CA,\"100 Main St, Napa, CA 94559\",home,phone,5555555555,,,False,female,http://example.org,123,,,Brown,Amy,,Amy Brown,Patient\\nTrue,Napa,100 Oak St,Apt 1A,94558,CA,\"100 Oak St, Apt 1A, Napa, CA 94558\",home,phone,5555555555,email,myemail@email.com,False,male,http://example.org,234,http://example.org,foo,Black,Bert,Ernie,Bert Black,Patient\\n'"
      ]
     },
     "execution_count": 78,
     "metadata": {},
     "output_type": "execute_result"
    }
   ],
   "source": [
    "my_csv = df3.to_csv(index=False)\n",
    "my_csv"
   ]
  },
  {
   "cell_type": "markdown",
   "metadata": {},
   "source": [
    "### Save (or load to datastore...)"
   ]
  },
  {
   "cell_type": "code",
   "execution_count": 79,
   "metadata": {},
   "outputs": [
    {
     "name": "stdout",
     "output_type": "stream",
     "text": [
      "writing file Patient-123-234.csv to r4\n"
     ]
    }
   ],
   "source": [
    "out_path ='r4'\n",
    "with open(f'{out_path}/{df3[\"resourceType\"][0]}-{df3[\"identifier_0_value\"].iloc[0]}-{df3[\"identifier_0_value\"].iloc[-1]}.csv', 'w') as f:\n",
    "    print(f'writing file {df3[\"resourceType\"][0]}-{df3[\"identifier_0_value\"].iloc[0]}-{df3[\"identifier_0_value\"].iloc[-1]}.csv to {out_path}' )\n",
    "    f.write(my_csv)\n",
    "    "
   ]
  }
 ],
 "metadata": {
  "kernelspec": {
   "display_name": "Python 3",
   "language": "python",
   "name": "python3"
  },
  "language_info": {
   "codemirror_mode": {
    "name": "ipython",
    "version": 3
   },
   "file_extension": ".py",
   "mimetype": "text/x-python",
   "name": "python",
   "nbconvert_exporter": "python",
   "pygments_lexer": "ipython3",
   "version": "3.7.3"
  }
 },
 "nbformat": 4,
 "nbformat_minor": 4
}
