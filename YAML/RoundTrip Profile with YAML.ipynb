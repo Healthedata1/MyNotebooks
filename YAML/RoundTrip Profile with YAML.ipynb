{
 "cells": [
  {
   "cell_type": "markdown",
   "metadata": {},
   "source": [
    "## RoundTrip Profile with YAML"
   ]
  },
  {
   "cell_type": "markdown",
   "metadata": {},
   "source": [
    "### Steps:\n",
    " - Get US Core Patient Profile as JSON\n",
    " - Convert to YML\n",
    " - Convert back to JSON\n",
    " - Run in ig-pub to see if works"
   ]
  },
  {
   "cell_type": "markdown",
   "metadata": {},
   "source": [
    "### Imports"
   ]
  },
  {
   "cell_type": "code",
   "execution_count": null,
   "metadata": {},
   "outputs": [],
   "source": [
    "from json import dumps, loads, load\n",
    "from pprint import pprint\n",
    "from requests import get, post, put\n",
    "import os\n",
    "from pathlib import Path\n",
    "from csv import reader as csvreader\n",
    "from IPython.display import display as Display, HTML, Markdown\n",
    "from yaml import load as y_load, dump as y_dump\n",
    "try:\n",
    "    from yaml import CLoader as Loader, CDumper as Dumper\n",
    "except ImportError:\n",
    "    from yaml import Loader, Dumper"
   ]
  },
  {
   "cell_type": "markdown",
   "metadata": {},
   "source": [
    "### Get US Core Patient Profile as JSON"
   ]
  },
  {
   "cell_type": "code",
   "execution_count": null,
   "metadata": {},
   "outputs": [],
   "source": [
    "my_path = Path.home() / 'Documents' / 'FHIR' / 'US-Core-R4' / 'output'\n",
    "my_path"
   ]
  },
  {
   "cell_type": "code",
   "execution_count": null,
   "metadata": {},
   "outputs": [],
   "source": [
    "f=sorted(my_path.glob('Struct*patient*.json'))\n",
    "f"
   ]
  },
  {
   "cell_type": "code",
   "execution_count": null,
   "metadata": {},
   "outputs": [],
   "source": [
    "f[0].as_posix()"
   ]
  },
  {
   "cell_type": "code",
   "execution_count": null,
   "metadata": {},
   "outputs": [],
   "source": [
    "f[0].as_uri()"
   ]
  },
  {
   "cell_type": "code",
   "execution_count": null,
   "metadata": {},
   "outputs": [],
   "source": [
    "r_json=f[0].read_text()\n",
    "print(r_json)"
   ]
  },
  {
   "cell_type": "code",
   "execution_count": null,
   "metadata": {},
   "outputs": [],
   "source": [
    "r_dict=loads(r_json)\n",
    "r_dict"
   ]
  },
  {
   "cell_type": "markdown",
   "metadata": {},
   "source": [
    "### Strip the resouce down to meta + diff (omit text and mapping)"
   ]
  },
  {
   "cell_type": "code",
   "execution_count": null,
   "metadata": {},
   "outputs": [],
   "source": [
    "for i in ['snapshot', 'text',]: # 'mapping']:\n",
    "    del r_dict[i]\n",
    "r_dict"
   ]
  },
  {
   "cell_type": "markdown",
   "metadata": {},
   "source": [
    "### Convert to YML Using the PyYAML Module and Maintain the Order"
   ]
  },
  {
   "cell_type": "code",
   "execution_count": null,
   "metadata": {},
   "outputs": [],
   "source": [
    "r_yml = y_dump(r_dict, Dumper=Dumper, sort_keys=False)\n",
    "print(r_yml)"
   ]
  },
  {
   "cell_type": "markdown",
   "metadata": {},
   "source": [
    "### Convert Back to Dict\n",
    "\n",
    "- change to id and url to 'yaml-rtrip'"
   ]
  },
  {
   "cell_type": "code",
   "execution_count": null,
   "metadata": {},
   "outputs": [],
   "source": [
    "r_dict = y_load(r_yml, Loader=Loader)\n",
    "r_dict['id'] = 'yaml-rtrip'\n",
    "r_dict['url'] = 'http://www.fhir.org/guides/test3/StructureDefinition/yaml-rtrip'\n",
    "r_dict"
   ]
  },
  {
   "cell_type": "markdown",
   "metadata": {},
   "source": [
    "### ... And to JSON"
   ]
  },
  {
   "cell_type": "code",
   "execution_count": null,
   "metadata": {},
   "outputs": [],
   "source": [
    "r_json = dumps(r_dict, indent=4)\n",
    "\n",
    "print(r_json)"
   ]
  },
  {
   "cell_type": "markdown",
   "metadata": {},
   "source": [
    "### Validate in test server"
   ]
  },
  {
   "cell_type": "code",
   "execution_count": null,
   "metadata": {},
   "outputs": [],
   "source": [
    "# *********************** validate Resource ********************************\n",
    "\n",
    "fhir_test_server = 'http://test.fhir.org/r4'\n",
    "headers = {\n",
    "'Accept':'application/fhir+json',\n",
    "'Content-Type':'application/fhir+json'\n",
    "}\n",
    "params = dict(\n",
    "  # profile = 'http://hl7.org/fhir/us/core/StructureDefinition/us-core-patient' # The official URL for this profile is: http://hl7.org/fhir/us/core/StructureDefinition/us-core-patient\n",
    "    )\n",
    "r = post(f'{fhir_test_server}/Questionnaire/$validate', params = params, headers = headers, data = r_json)\n",
    "display(HTML(f'<h1>Validation output</h1><h3>Status Code = {r.status_code}</h3> {r.json()[\"text\"][\"div\"]}'))"
   ]
  },
  {
   "cell_type": "markdown",
   "metadata": {},
   "source": [
    "###  Load into Test IG and Run"
   ]
  },
  {
   "cell_type": "code",
   "execution_count": null,
   "metadata": {},
   "outputs": [],
   "source": [
    "out_path = Path.home() / 'Documents' / 'FHIR' / 'IG-Template2' / 'source' / 'resources' / f'StructureDefinition-{r_dict[\"id\"]}.json'\n",
    "out_path"
   ]
  },
  {
   "cell_type": "code",
   "execution_count": null,
   "metadata": {},
   "outputs": [],
   "source": [
    "out_path.write_text(r_json)"
   ]
  },
  {
   "cell_type": "markdown",
   "metadata": {},
   "source": [
    "### Run the ig publisher locally\n",
    "1. run ig publisher to validate examples **it will take a couple of minutes to run** "
   ]
  },
  {
   "cell_type": "code",
   "execution_count": null,
   "metadata": {},
   "outputs": [],
   "source": [
    "%%bash\n",
    "set -e\n",
    "cd /Users/ehaas/Documents/FHIR/IG-Template2/\n",
    "path1=/Users/ehaas/Downloads/org.hl7.fhir.igpublisher.jar\n",
    "path3=/Users/ehaas/Documents/FHIR/IG-tools/\n",
    "echo \"=================================================================\"\n",
    "echo === use definition files from relative path ../$SOURCE ===\n",
    "echo \"=================================================================\"\n",
    "echo getting rid of .DS_Store files since they gum up the igpublisher....\n",
    "echo \"=================================================================\"\n",
    "echo === run definitions maker with optional source directory name as first argument ===\n",
    "echo === create ig.json and ig.xml in $PWD and ../$SOURCE ===\n",
    "echo \"=================================================================\"\n",
    "find . -name '.DS_Store' -type f -delete\n",
    "python3.5 ${path3}definitions.py\n",
    "java -jar ${path1} -ig ig.json"
   ]
  },
  {
   "cell_type": "markdown",
   "metadata": {},
   "source": [
    "### Get qa.html output and display"
   ]
  },
  {
   "cell_type": "code",
   "execution_count": null,
   "metadata": {},
   "outputs": [],
   "source": [
    "p = Path(r'/Users/ehaas/Documents/FHIR/IG-Template2/docs/qa.html')\n",
    "\n",
    "display(HTML(p.read_text()))"
   ]
  }
 ],
 "metadata": {
  "kernelspec": {
   "display_name": "Python 3.10.2 64-bit ('jupyter')",
   "language": "python",
   "name": "python3"
  },
  "language_info": {
   "codemirror_mode": {
    "name": "ipython",
    "version": 3
   },
   "file_extension": ".py",
   "mimetype": "text/x-python",
   "name": "python",
   "nbconvert_exporter": "python",
   "pygments_lexer": "ipython3",
   "version": "3.10.2"
  },
  "vscode": {
   "interpreter": {
    "hash": "18672f2fb81dcbb023a0ac48a86c775a19488782369d96ffbd3382a22fd285cf"
   }
  }
 },
 "nbformat": 4,
 "nbformat_minor": 2
}
