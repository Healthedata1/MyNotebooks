{
 "cells": [
  {
   "cell_type": "markdown",
   "metadata": {},
   "source": [
    "## take YAML Profile and Run in IG-Pub"
   ]
  },
  {
   "cell_type": "markdown",
   "metadata": {},
   "source": [
    "### Steps:\n",
    " - Get YAML files\n",
    " - Convert to JSON\n",
    " - load into resources directory\n",
    " - Run in ig-pub to see if works"
   ]
  },
  {
   "cell_type": "markdown",
   "metadata": {},
   "source": [
    "### Imports"
   ]
  },
  {
   "cell_type": "code",
   "execution_count": null,
   "metadata": {},
   "outputs": [],
   "source": [
    "from json import dumps, loads, load\n",
    "from pprint import pprint\n",
    "from requests import get, post, put\n",
    "import os\n",
    "from pathlib import Path\n",
    "from csv import reader as csvreader\n",
    "from IPython.display import display as Display, HTML, Markdown\n",
    "from yaml import load as y_load, dump as y_dump\n",
    "try:\n",
    "    from yaml import CLoader as Loader, CDumper as Dumper\n",
    "except ImportError:\n",
    "    from yaml import Loader, Dumper"
   ]
  },
  {
   "cell_type": "markdown",
   "metadata": {},
   "source": [
    "### Get  Profile as YML"
   ]
  },
  {
   "cell_type": "code",
   "execution_count": null,
   "metadata": {},
   "outputs": [],
   "source": [
    "my_path = Path.home() / 'Documents' / 'FHIR' / 'IG-Template2' / 'source' / 'YAML'\n",
    "my_path"
   ]
  },
  {
   "cell_type": "code",
   "execution_count": null,
   "metadata": {},
   "outputs": [],
   "source": [
    "y_files=sorted(my_path.glob('*.yml'))\n",
    "y_files"
   ]
  },
  {
   "cell_type": "code",
   "execution_count": null,
   "metadata": {},
   "outputs": [],
   "source": [
    "y_files[0].as_posix()"
   ]
  },
  {
   "cell_type": "markdown",
   "metadata": {},
   "source": [
    "- Get files in directory\n",
    "- Convert to Dict files Using the PyYAML Module\n",
    "  - Maintains the Order\n",
    "- Write to resources directory as JSON string"
   ]
  },
  {
   "cell_type": "code",
   "execution_count": null,
   "metadata": {},
   "outputs": [],
   "source": [
    "r_dicts= []\n",
    "for f_path in y_files:\n",
    "    y_file = f_path.read_text()\n",
    "    r_dict=y_load(y_file, Loader=Loader)\n",
    "    r_json= dumps(r_dict, indent = 4)\n",
    "    id = r_dict['id']\n",
    "    print(id)\n",
    "    f_name = f'StructureDefinition-{id}.json'\n",
    "    print(f_name)\n",
    "    out_path = Path.home() / 'Documents' / 'FHIR' / 'IG-Template2' / 'source' / 'resources' / f_name\n",
    "    out_path.write_text(r_json)\n",
    "my_path = Path.home() / 'Documents' / 'FHIR' / 'IG-Template2' / 'source' / 'resources'\n",
    "y_files=sorted(my_path.glob('Struc*.json'))\n",
    "y_files"
   ]
  },
  {
   "cell_type": "markdown",
   "metadata": {},
   "source": [
    "### Run the ig publisher locally\n",
    "1. run ig publisher to validate examples **it will take a couple of minutes to run** "
   ]
  },
  {
   "cell_type": "code",
   "execution_count": null,
   "metadata": {},
   "outputs": [],
   "source": [
    "%%bash\n",
    "set -e\n",
    "cd /Users/ehaas/Documents/FHIR/IG-Template2/\n",
    "path1=/Users/ehaas/Downloads/org.hl7.fhir.igpublisher.jar\n",
    "path3=/Users/ehaas/Documents/FHIR/IG-tools/\n",
    "echo \"=================================================================\"\n",
    "echo === use definition files from relative path ../$SOURCE ===\n",
    "echo \"=================================================================\"\n",
    "echo getting rid of .DS_Store files since they gum up the igpublisher....\n",
    "echo \"=================================================================\"\n",
    "echo === run definitions maker with optional source directory name as first argument ===\n",
    "echo === create ig.json and ig.xml in $PWD and ../$SOURCE ===\n",
    "echo \"=================================================================\"\n",
    "find . -name '.DS_Store' -type f -delete\n",
    "python3.5 ${path3}definitions.py\n",
    "java -jar ${path1} -ig ig.json"
   ]
  },
  {
   "cell_type": "markdown",
   "metadata": {},
   "source": [
    "### Get qa.html output and display"
   ]
  },
  {
   "cell_type": "code",
   "execution_count": null,
   "metadata": {},
   "outputs": [],
   "source": [
    "p = Path(r'/Users/ehaas/Documents/FHIR/IG-Template2/docs/qa.html')\n",
    "\n",
    "display(HTML(p.read_text()))"
   ]
  },
  {
   "cell_type": "code",
   "execution_count": null,
   "metadata": {},
   "outputs": [],
   "source": []
  }
 ],
 "metadata": {
  "kernelspec": {
   "display_name": "Python 3",
   "language": "python",
   "name": "python3"
  },
  "language_info": {
   "codemirror_mode": {
    "name": "ipython",
    "version": 3
   },
   "file_extension": ".py",
   "mimetype": "text/x-python",
   "name": "python",
   "nbconvert_exporter": "python",
   "pygments_lexer": "ipython3",
   "version": "3.7.3"
  }
 },
 "nbformat": 4,
 "nbformat_minor": 4
}
