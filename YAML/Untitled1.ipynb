{
 "cells": [
  {
   "cell_type": "code",
   "execution_count": 1,
   "id": "c7d14ce3-7f9f-45ce-bec8-337f9d61f19a",
   "metadata": {},
   "outputs": [
    {
     "data": {
      "text/plain": [
       "('a', list)"
      ]
     },
     "execution_count": 1,
     "metadata": {},
     "output_type": "execute_result"
    }
   ],
   "source": [
    "my_list = [{'a':'b'},{'c':'d'},{'e':'f'}]\n",
    "list(my_list[0].keys())[0], type(my_list)"
   ]
  },
  {
   "cell_type": "code",
   "execution_count": 2,
   "id": "fbe2e26f-4457-47b4-9ea3-5ee5268a00c7",
   "metadata": {},
   "outputs": [
    {
     "data": {
      "text/plain": [
       "{'b': {'a': 'b'}, 'd': {'c': 'd'}, 'f': {'e': 'f'}}"
      ]
     },
     "execution_count": 2,
     "metadata": {},
     "output_type": "execute_result"
    }
   ],
   "source": [
    "#dict_variable = {key:value for (key,value) in dictonary.items()}\n",
    "my_dict = {list(k.values())[0]:k for k in my_list}\n",
    "my_dict"
   ]
  },
  {
   "cell_type": "code",
   "execution_count": 3,
   "id": "c1eec7c6-1141-41fd-b12c-cc8d468a8036",
   "metadata": {},
   "outputs": [],
   "source": [
    "del my_dict['b']"
   ]
  },
  {
   "cell_type": "code",
   "execution_count": 4,
   "id": "63a9e2d7-6021-46f6-8600-cb838031da66",
   "metadata": {},
   "outputs": [
    {
     "data": {
      "text/plain": [
       "{'d': {'c': 'd'}, 'f': {'e': 'f'}}"
      ]
     },
     "execution_count": 4,
     "metadata": {},
     "output_type": "execute_result"
    }
   ],
   "source": [
    "my_dict"
   ]
  },
  {
   "cell_type": "code",
   "execution_count": 5,
   "id": "36043104-2e93-4551-b973-462a061ac4e2",
   "metadata": {},
   "outputs": [
    {
     "data": {
      "text/plain": [
       "{'d': {'c': 'd'}, 'f': {'e': 'f'}}"
      ]
     },
     "execution_count": 5,
     "metadata": {},
     "output_type": "execute_result"
    }
   ],
   "source": [
    "new_dict = my_dict.copy()\n",
    "new_dict"
   ]
  },
  {
   "cell_type": "code",
   "execution_count": 10,
   "id": "34065249-2de0-4c52-a403-09cedd811203",
   "metadata": {},
   "outputs": [
    {
     "data": {
      "text/plain": [
       "({'d': {'c': 456}, 'f': {'e': 'f'}}, {'d': {'c': 456}, 'f': {'e': 'f'}})"
      ]
     },
     "execution_count": 10,
     "metadata": {},
     "output_type": "execute_result"
    }
   ],
   "source": [
    "new_dict['d']['c']= 456\n",
    "new_dict, my_dict"
   ]
  },
  {
   "cell_type": "code",
   "execution_count": 7,
   "id": "523df5f5-ec36-4a17-b998-478ef7198665",
   "metadata": {},
   "outputs": [
    {
     "data": {
      "text/plain": [
       "{'d': {'c': 456}, 'f': {'e': 'f'}}"
      ]
     },
     "execution_count": 7,
     "metadata": {},
     "output_type": "execute_result"
    }
   ],
   "source": [
    "my_dict"
   ]
  },
  {
   "cell_type": "code",
   "execution_count": 9,
   "id": "7b7a29c6-25d0-4a8b-872a-d3f644f7a1aa",
   "metadata": {},
   "outputs": [
    {
     "data": {
      "text/plain": [
       "({1: 2}, {1: 4})"
      ]
     },
     "execution_count": 9,
     "metadata": {},
     "output_type": "execute_result"
    }
   ],
   "source": [
    "a = {1:2}\n",
    "b = a.copy()\n",
    "\n",
    "\n",
    "b[1] = 4\n",
    "\n",
    "a, b"
   ]
  }
 ],
 "metadata": {
  "kernelspec": {
   "display_name": "Python 3 (ipykernel)",
   "language": "python",
   "name": "python3"
  },
  "language_info": {
   "codemirror_mode": {
    "name": "ipython",
    "version": 3
   },
   "file_extension": ".py",
   "mimetype": "text/x-python",
   "name": "python",
   "nbconvert_exporter": "python",
   "pygments_lexer": "ipython3",
   "version": "3.10.2"
  }
 },
 "nbformat": 4,
 "nbformat_minor": 5
}
