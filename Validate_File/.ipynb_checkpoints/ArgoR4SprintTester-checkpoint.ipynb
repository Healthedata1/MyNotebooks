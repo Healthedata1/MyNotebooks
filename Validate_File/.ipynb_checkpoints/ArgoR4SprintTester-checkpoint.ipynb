{
 "cells": [
  {
   "cell_type": "markdown",
   "metadata": {},
   "source": [
    "## Validate ARGO R4 Resources from Servers\n",
    "\n",
    "- Get Resources\n",
    "- Load into R4 IG\n",
    "- Run IG \n",
    "- Review QA report for Examples\n",
    "\n",
    "(Python 3.7)"
   ]
  },
  {
   "cell_type": "markdown",
   "metadata": {},
   "source": [
    "### Import modules and asign globals"
   ]
  },
  {
   "cell_type": "code",
   "execution_count": 2,
   "metadata": {},
   "outputs": [],
   "source": [
    "import os #os module imported here\n",
    "from json import load, dumps, loads\n",
    "from IPython import display as D\n",
    "from requests import get, post, put\n",
    "from IPython.display import display, Markdown, HTML\n",
    "from pathlib import Path\n",
    "from pandas import *\n",
    "from collections import namedtuple\n",
    "\n",
    "#Globals\n",
    "\n",
    "source_path = '/Users/ehaas/Documents/FHIR/USCoreR4Validator'\n",
    "examples_path = '/Users/ehaas/Documents/FHIR/USCoreR4Validator/source/examples'\n",
    "\n",
    "\n",
    "headers = {\n",
    "    'Accept':'application/fhir+json',\n",
    "    'Content-Type':'application/fhir+json'\n",
    "    }\n",
    "\n",
    "# US Core R4 Profiles\n",
    "profiles ={\n",
    "'CareTeam': 'http://hl7.org/fhir/us/core/StructureDefinition/us-core-careteam',\n",
    "'MedicationStatement': 'http://hl7.org/fhir/us/core/StructureDefinition/us-core-medicationstatement',\n",
    "'Device': 'http://hl7.org/fhir/us/core/StructureDefinition/us-core-device',\n",
    "'Practitioner': 'http://hl7.org/fhir/us/core/StructureDefinition/us-core-practitioner',\n",
    "'Patient': 'http://hl7.org/fhir/us/core/StructureDefinition/us-core-patient',\n",
    "'Immunization': 'http://hl7.org/fhir/us/core/StructureDefinition/us-core-immunization',\n",
    "'Observation1': 'http://hl7.org/fhir/us/core/StructureDefinition/us-core-smokingstatus',\n",
    "'DocumentReference': 'http://hl7.org/fhir/us/core/StructureDefinition/us-core-documentreference',\n",
    "'MedicationRequest': 'http://hl7.org/fhir/us/core/StructureDefinition/us-core-medicationrequest',\n",
    "'Condition': 'http://hl7.org/fhir/us/core/StructureDefinition/us-core-condition',\n",
    "'Encounter': 'http://hl7.org/fhir/us/core/StructureDefinition/us-core-encounter',\n",
    "'Organization': 'http://hl7.org/fhir/us/core/StructureDefinition/us-core-organization',\n",
    "'Observation2': 'http://hl7.org/fhir/us/core/StructureDefinition/pediatric-weight-for-height',\n",
    "'Procedure': 'http://hl7.org/fhir/us/core/StructureDefinition/us-core-procedure',\n",
    "'Medication': 'http://hl7.org/fhir/us/core/StructureDefinition/us-core-medication',\n",
    "'Observation3': 'http://hl7.org/fhir/us/core/StructureDefinition/us-core-observation-lab',\n",
    "'DiagnosticReport1': 'http://hl7.org/fhir/us/core/StructureDefinition/us-core-diagnosticreport-note',\n",
    "'PractitionerRole': 'http://hl7.org/fhir/us/core/StructureDefinition/us-core-practitionerrole',\n",
    "'CarePlan': 'http://hl7.org/fhir/us/core/StructureDefinition/us-core-careplan',\n",
    "'Goal': 'http://hl7.org/fhir/us/core/StructureDefinition/us-core-goal',\n",
    "'Location': 'http://hl7.org/fhir/us/core/StructureDefinition/us-core-location',\n",
    "'Observation4': 'http://hl7.org/fhir/us/core/StructureDefinition/pediatric-bmi-for-age',\n",
    "'DiagnosticReport2': 'http://hl7.org/fhir/us/core/StructureDefinition/us-core-diagnosticreport-lab',\n",
    "'AllergyIntolerance': 'http://hl7.org/fhir/us/core/StructureDefinition/us-core-allergyintolerance',\n",
    "}\n",
    "\n",
    "f_servers = dict(epic='https://connectathon.epic.com/Interconnect-Fhir-Unsecure/api/FHIR/R4/')"
   ]
  },
  {
   "cell_type": "markdown",
   "metadata": {},
   "source": [
    "### Get examples from FHIR Server\n",
    "\n",
    "- import data from spreadsheet\n",
    "- convert to pandas df and access using dot notation\n"
   ]
  },
  {
   "cell_type": "code",
   "execution_count": 3,
   "metadata": {},
   "outputs": [
    {
     "data": {
      "text/html": [
       "<div>\n",
       "<style scoped>\n",
       "    .dataframe tbody tr th:only-of-type {\n",
       "        vertical-align: middle;\n",
       "    }\n",
       "\n",
       "    .dataframe tbody tr th {\n",
       "        vertical-align: top;\n",
       "    }\n",
       "\n",
       "    .dataframe thead th {\n",
       "        text-align: right;\n",
       "    }\n",
       "</style>\n",
       "<table border=\"1\" class=\"dataframe\">\n",
       "  <thead>\n",
       "    <tr style=\"text-align: right;\">\n",
       "      <th></th>\n",
       "      <th>resource_type</th>\n",
       "      <th>id</th>\n",
       "    </tr>\n",
       "  </thead>\n",
       "  <tbody>\n",
       "    <tr>\n",
       "      <th>0</th>\n",
       "      <td>Patient</td>\n",
       "      <td>eroCd17NbCffM3E3WXi7eOQ3</td>\n",
       "    </tr>\n",
       "    <tr>\n",
       "      <th>1</th>\n",
       "      <td>Practitioner</td>\n",
       "      <td>e7D.u41Zv3VPrLmUp-mWnrQ3</td>\n",
       "    </tr>\n",
       "    <tr>\n",
       "      <th>2</th>\n",
       "      <td>Organization</td>\n",
       "      <td>enRyWnSP963FYDpoks4NHOA3</td>\n",
       "    </tr>\n",
       "    <tr>\n",
       "      <th>3</th>\n",
       "      <td>AllergyIntolerance</td>\n",
       "      <td>eyHIVsZwhzaZhX9XvFesx5A3</td>\n",
       "    </tr>\n",
       "    <tr>\n",
       "      <th>4</th>\n",
       "      <td>Encounter</td>\n",
       "      <td>ehoN2kZnYuW5z0Di4Kkno5w3,eiSX3g2gt4tJIs7-6h7nJ...</td>\n",
       "    </tr>\n",
       "    <tr>\n",
       "      <th>5</th>\n",
       "      <td>Location</td>\n",
       "      <td>e4W4rmGe9QzuGm2Dy4NBqVc0KDe6yGld6HW95UuN-Qd03</td>\n",
       "    </tr>\n",
       "  </tbody>\n",
       "</table>\n",
       "</div>"
      ],
      "text/plain": [
       "        resource_type                                                 id\n",
       "0             Patient                           eroCd17NbCffM3E3WXi7eOQ3\n",
       "1        Practitioner                           e7D.u41Zv3VPrLmUp-mWnrQ3\n",
       "2        Organization                           enRyWnSP963FYDpoks4NHOA3\n",
       "3  AllergyIntolerance                           eyHIVsZwhzaZhX9XvFesx5A3\n",
       "4           Encounter  ehoN2kZnYuW5z0Di4Kkno5w3,eiSX3g2gt4tJIs7-6h7nJ...\n",
       "5            Location      e4W4rmGe9QzuGm2Dy4NBqVc0KDe6yGld6HW95UuN-Qd03"
      ]
     },
     "execution_count": 3,
     "metadata": {},
     "output_type": "execute_result"
    }
   ],
   "source": [
    "server = 'epic'  # sheet name = server\n",
    "xls = ExcelFile('test_resources.xlsx')\n",
    "df = read_excel(xls,server,na_false = False)\n",
    "\n",
    "df"
   ]
  },
  {
   "cell_type": "markdown",
   "metadata": {},
   "source": [
    "### Add meta profile to example\n",
    "\n",
    "- for each resource type fetching instance\n",
    "  - instance are comma separated list of ids\n",
    "- convert json to dict\n",
    "- insert profile\n",
    "- update all references to relative references using same server ids\n",
    "- convert back to json\n",
    "\n",
    "- save as example in examples folder in ig publisher "
   ]
  },
  {
   "cell_type": "code",
   "execution_count": 4,
   "metadata": {},
   "outputs": [
    {
     "name": "stdout",
     "output_type": "stream",
     "text": [
      "Patient eroCd17NbCffM3E3WXi7eOQ3\n",
      "200\n"
     ]
    },
    {
     "ename": "NameError",
     "evalue": "name 'find_ref' is not defined",
     "output_type": "error",
     "traceback": [
      "\u001b[0;31m---------------------------------------------------------------------------\u001b[0m",
      "\u001b[0;31mNameError\u001b[0m                                 Traceback (most recent call last)",
      "\u001b[0;32m<ipython-input-4-919ce3d9b524>\u001b[0m in \u001b[0;36m<module>\u001b[0;34m\u001b[0m\n\u001b[1;32m     39\u001b[0m             \u001b[0;32mexcept\u001b[0m \u001b[0mKeyError\u001b[0m\u001b[0;34m:\u001b[0m\u001b[0;34m\u001b[0m\u001b[0;34m\u001b[0m\u001b[0m\n\u001b[1;32m     40\u001b[0m                 \u001b[0mfhir_d\u001b[0m\u001b[0;34m[\u001b[0m\u001b[0;34m'meta'\u001b[0m\u001b[0;34m]\u001b[0m\u001b[0;34m=\u001b[0m \u001b[0mdict\u001b[0m\u001b[0;34m(\u001b[0m\u001b[0mprofile\u001b[0m \u001b[0;34m=\u001b[0m \u001b[0;34m[\u001b[0m\u001b[0mprofiles\u001b[0m\u001b[0;34m[\u001b[0m\u001b[0mi\u001b[0m\u001b[0;34m.\u001b[0m\u001b[0mresource_type\u001b[0m\u001b[0;34m]\u001b[0m\u001b[0;34m]\u001b[0m\u001b[0;34m)\u001b[0m\u001b[0;34m\u001b[0m\u001b[0;34m\u001b[0m\u001b[0m\n\u001b[0;32m---> 41\u001b[0;31m             \u001b[0mfhir_d\u001b[0m \u001b[0;34m=\u001b[0m \u001b[0mmake_rel_ref\u001b[0m\u001b[0;34m(\u001b[0m\u001b[0mfhir_d\u001b[0m\u001b[0;34m)\u001b[0m  \u001b[0;31m# make rel ref assuming is Type/id\u001b[0m\u001b[0;34m\u001b[0m\u001b[0;34m\u001b[0m\u001b[0m\n\u001b[0m\u001b[1;32m     42\u001b[0m             \u001b[0mprint\u001b[0m\u001b[0;34m(\u001b[0m\u001b[0;34mf'{\"*\"*10} {server}-{fhir_d[\"resourceType\"].lower()}-{fhir_d[\"id\"]}.json {\"*\"*10}'\u001b[0m\u001b[0;34m)\u001b[0m\u001b[0;34m\u001b[0m\u001b[0;34m\u001b[0m\u001b[0m\n\u001b[1;32m     43\u001b[0m             \u001b[0mprint\u001b[0m\u001b[0;34m(\u001b[0m\u001b[0mfhir_json\u001b[0m\u001b[0;34m)\u001b[0m\u001b[0;34m\u001b[0m\u001b[0;34m\u001b[0m\u001b[0m\n",
      "\u001b[0;32m<ipython-input-4-919ce3d9b524>\u001b[0m in \u001b[0;36mmake_rel_ref\u001b[0;34m(dictionary)\u001b[0m\n\u001b[1;32m     10\u001b[0m             \u001b[0;32mfor\u001b[0m \u001b[0md\u001b[0m \u001b[0;32min\u001b[0m \u001b[0mv\u001b[0m\u001b[0;34m:\u001b[0m\u001b[0;34m\u001b[0m\u001b[0;34m\u001b[0m\u001b[0m\n\u001b[1;32m     11\u001b[0m                 \u001b[0;32mif\u001b[0m \u001b[0misinstance\u001b[0m\u001b[0;34m(\u001b[0m\u001b[0md\u001b[0m\u001b[0;34m,\u001b[0m \u001b[0mdict\u001b[0m\u001b[0;34m)\u001b[0m\u001b[0;34m:\u001b[0m\u001b[0;34m\u001b[0m\u001b[0;34m\u001b[0m\u001b[0m\n\u001b[0;32m---> 12\u001b[0;31m                     \u001b[0mfind_ref\u001b[0m\u001b[0;34m(\u001b[0m\u001b[0md\u001b[0m\u001b[0;34m)\u001b[0m\u001b[0;34m\u001b[0m\u001b[0;34m\u001b[0m\u001b[0m\n\u001b[0m\u001b[1;32m     13\u001b[0m     \u001b[0;32mreturn\u001b[0m\u001b[0;34m(\u001b[0m\u001b[0mdictionary\u001b[0m\u001b[0;34m)\u001b[0m\u001b[0;34m\u001b[0m\u001b[0;34m\u001b[0m\u001b[0m\n\u001b[1;32m     14\u001b[0m \u001b[0;34m\u001b[0m\u001b[0m\n",
      "\u001b[0;31mNameError\u001b[0m: name 'find_ref' is not defined"
     ]
    }
   ],
   "source": [
    "def make_rel_ref(dictionary): # replace all absolute references with relative references\n",
    "    for k, v in dictionary.items():\n",
    "        if k == 'reference':                \n",
    "            # make rel ref assuming is Type/id\n",
    "            ref_path = dictionary[k].split('/')\n",
    "            dictionary[k] = f'{ref_path[-2]}/{ref_path[-1]}'\n",
    "        elif isinstance(v, dict):\n",
    "            make_rel_ref(v)\n",
    "        elif isinstance(v, list):\n",
    "            for d in v:\n",
    "                if isinstance(d, dict):\n",
    "                    make_rel_ref(d)\n",
    "    return(dictionary)\n",
    "\n",
    "\n",
    "for i in df.itertuples(index=True):\n",
    "    for j in i.id.split(','):\n",
    "        print(i.resource_type,j)\n",
    "        params = dict(\n",
    "            _id = j\n",
    "            )\n",
    "        # Open Server\n",
    "        r = get(f'{f_servers[server]}{i.resource_type}/{j}', headers = headers)\n",
    "        fhir_d = r.json() if r.status_code==200 else None\n",
    "        print(r.status_code)\n",
    "\n",
    "        if r.status_code!=200:\n",
    "            print(f'Fetching of {f_servers[server]}{i.resource_type}/{j} failed: Status code= {r.status_code}')\n",
    "            r = get(f'{f_servers[server]}{i.resource_type}',params = params, headers = headers ) # try other syntax\n",
    "\n",
    "            fhir_d = r.json()['entry'][0]['resource'] if r.status_code==200 else None #unbundle\n",
    "            # wait for error to do try pattern\n",
    "            print(r.status_code)\n",
    "        if r.status_code!=200:\n",
    "            print(f'Seaching using {f_servers[server]}{i.resource_type}?_id={j} failed: Status code= {r.status_code}')     \n",
    "        else: # r.status_code==200\n",
    "            try:\n",
    "                fhir_d['meta']['profile'].append(profiles[i.resource_type])\n",
    "            except KeyError:\n",
    "                fhir_d['meta']= dict(profile = [profiles[i.resource_type]])\n",
    "            fhir_d = make_rel_ref(fhir_d)  # make rel ref assuming is Type/id\n",
    "            print(f'{\"*\"*10} {server}-{fhir_d[\"resourceType\"].lower()}-{fhir_d[\"id\"]}.json {\"*\"*10}')\n",
    "            print(fhir_json)\n",
    "            p = Path(examples_path) / f'{server}-{fhir_d[\"resourceType\"].lower()}-{fhir_d[\"id\"]}.json'\n",
    "            #print(p)\n",
    "            p.write_text(fhir_json, encoding='utf-8')\n",
    "            print('writing to examples folder......')"
   ]
  },
  {
   "cell_type": "markdown",
   "metadata": {},
   "source": [
    "### Validate using IG Build\n",
    "\n",
    "1. run py script to update ig.json and ig.xml\n",
    "1. run ig publisher to validate examples **it will take a couple of minutes to run** ( until I can use a more stripped down template )"
   ]
  },
  {
   "cell_type": "code",
   "execution_count": null,
   "metadata": {},
   "outputs": [],
   "source": [
    "%%bash\n",
    "set -e\n",
    "cd /Users/ehaas/Documents/FHIR/IG-Template2\n",
    "path1=/Users/ehaas/Downloads/org.hl7.fhir.igpublisher.jar\n",
    "SOURCE=USCoreR4Validator\n",
    "source_path=/Users/ehaas/Documents/FHIR/USCoreR4Validator\n",
    "path3=/Users/ehaas/Documents/FHIR/IG-tools/\n",
    "echo \"=================================================================\"\n",
    "echo === use definition files from relative path ../$SOURCE ===\n",
    "echo \"=================================================================\"\n",
    "echo getting rid of .DS_Store files since they gum up the igpublisher....\n",
    "echo \"=================================================================\"\n",
    "echo === run definitions maker with optional source directory name as first argument ===\n",
    "echo === create ig.json and ig.xml in $PWD and ../$SOURCE ===\n",
    "echo \"=================================================================\"\n",
    "find . -name '.DS_Store' -type f -delete\n",
    "python3.5 ${path3}definitions.py $SOURCE\n",
    "java -jar ${path1} -ig ${PWD}/ig.json"
   ]
  },
  {
   "cell_type": "markdown",
   "metadata": {},
   "source": [
    "### Get qa.html output and display\n",
    "(or alternatively go here: consider using autopublish to share)"
   ]
  },
  {
   "cell_type": "code",
   "execution_count": null,
   "metadata": {},
   "outputs": [],
   "source": [
    "p = Path(r'/Users/ehaas/Documents/FHIR/IG-Template2/docs/qa.html')\n",
    "\n",
    "display(HTML(p.read_text()))"
   ]
  },
  {
   "cell_type": "code",
   "execution_count": null,
   "metadata": {},
   "outputs": [],
   "source": []
  }
 ],
 "metadata": {
  "kernelspec": {
   "display_name": "Python 3",
   "language": "python",
   "name": "python3"
  },
  "language_info": {
   "codemirror_mode": {
    "name": "ipython",
    "version": 3
   },
   "file_extension": ".py",
   "mimetype": "text/x-python",
   "name": "python",
   "nbconvert_exporter": "python",
   "pygments_lexer": "ipython3",
   "version": "3.7.3"
  }
 },
 "nbformat": 4,
 "nbformat_minor": 2
}
