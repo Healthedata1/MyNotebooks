{
 "cells": [
  {
   "cell_type": "markdown",
   "metadata": {},
   "source": [
    "## Script to validate file on test server\n",
    "\n",
    "- python version 3.6+\n",
    "\n",
    "- upload example\n",
    "- run $validate on test server\n",
    "- print output as html\n"
   ]
  },
  {
   "cell_type": "code",
   "execution_count": 5,
   "metadata": {},
   "outputs": [],
   "source": [
    "from json import load, dumps, loads\n",
    "from IPython import display as D\n",
    "from requests import get, post, put\n",
    "from IPython.display import display, Markdown, HTML"
   ]
  },
  {
   "cell_type": "markdown",
   "metadata": {},
   "source": [
    "### Get file from folder"
   ]
  },
  {
   "cell_type": "code",
   "execution_count": 6,
   "metadata": {},
   "outputs": [
    {
     "name": "stdout",
     "output_type": "stream",
     "text": [
      "DocumentReference\n",
      "{\n",
      "    \"resourceType\": \"DocumentReference\",\n",
      "    \"type\": {\n",
      "        \"coding\": [{\n",
      "            \"system\": \"http://loinc.org\",\n",
      "            \"code\": \"11506-3\",\n",
      "            \"display\": \"Progress Note\"\n",
      "        }],\n",
      "        \"text\": \"Progress Note\"\n",
      "    },\n",
      "     \"class\": {\n",
      "        \"coding\": [{\n",
      "            \"system\": \"http://fhir.org/guides/argonaut-clinicalnotes/CodeSystem/documentreference-category\",\n",
      "            \"code\": \"clinical-note\",\n",
      "            \"display\": \"Clinical Notes\"\n",
      "        }],\n",
      "        \"text\": \"Progress Note\"\n",
      "    },\n",
      "    \"created\": \"2018-05-15T21:39:30.000Z\",\n",
      "    \"indexed\": \"2018-05-15T21:39:30.000Z\",\n",
      "    \"status\": \"current\",\n",
      "    \"subject\": {\"reference\": \"Patient/1316024\"},\n",
      "    \"content\": [{\"attachment\": {\n",
      "        \"contentType\": \"application/xhtml\",\n",
      "        \"data\": \"PD94bWwgdmVyc2lvbj0iMS4wIiBlbmNvZGluZz0iaXNvLTg4NTktMSI/Pgo8IURPQ1RZUEUgaHRtbCBQVUJMSUMgIi0vL1czQy8vRFREIFhIVE1MIDEuMCBUcmFuc2l0aW9uYWwvL0VOIiAiRFREL3hodG1sMS10cmFuc2l0aW9uYWwuZHRkIj4KPGh0bWwgeG1sOmxhbmc9ImVuIiBsYW5nPSJlbiIgeG1sbnM9Imh0dHA6Ly93d3cudzMub3JnLzE5OTkveGh0bWwiPgoJPGhlYWQ+CgkJPHRpdGxlPlByb2dyZXNzIE5vdGUgLSBEci4gQm9iIC0gMDEvMjUvMjAxODwvdGl0bGU+Cgk8L2hlYWQ+Cgk8Ym9keT4KCQk8cD5CZW56b2NhaW5lIHdhcyBwbGFjZWQgb24gdGhlIHBhbGF0ZSwgYWRqYWNlbnQgdG8gdG9vdGggMS4gCiAgICAgICAgICAgICAgICAgICAgQSB0b3RhbCBvZiAyIGNhcnB1bGVzIG9mIEFydGljYWluZSwgNCUgd2l0aCBFcGluZXBocmluZSAxOjEwMCwwMDAgCiAgICAgICAgICAgICAgICAgICAgd2FzIGluamVjdGVkIGludG8gdGhlIHBhbGF0ZSB1c2luZyBhIGxvbmcsIDI1LWdhdWdlIG5lZWRsZS4gQSBzdWNrLWJhY2sgCiAgICAgICAgICAgICAgICAgICAgc2FmZXR5IHN5cmluZ2Ugd2FzIHVzZWQgdG8gYXZvaWQgaW50ZXItdmVzaWN1bGFyIGluamVjdGlvbi4gVGhlIHBhdGllbnQgCiAgICAgICAgICAgICAgICAgICAgdG9sZXJhdGVkIHRoZSBpbmplY3Rpb24gYW5kIGhhZCBubyBhZHZlcnNlIHJlYWN0aW9ucyB0byB0aGUgYW5lc3RoZXRpYy4uPC9wPgoJPC9ib2R5Pgo8L2h0bWw+\"\n",
      "   }}]\n",
      "}\n"
     ]
    }
   ],
   "source": [
    "#in_path = '/Users/ehaas/Documents/FHIR/Argo-Questionnaire/source/examples/'\n",
    "in_path = ''\n",
    "\n",
    "#f_name = 'discharge-summary-note'\n",
    "f_name = 'progress-note'\n",
    "\n",
    "def open_file(): # get files\n",
    "    with open(f'{in_path}{f_name}.json') as f:\n",
    "        r = f.read()\n",
    "        return(r)\n",
    "    \n",
    "r = open_file()\n",
    "\n",
    "print(loads(r)['resourceType'])\n",
    "print(r)"
   ]
  },
  {
   "cell_type": "markdown",
   "metadata": {},
   "source": [
    "### validate"
   ]
  },
  {
   "cell_type": "code",
   "execution_count": 7,
   "metadata": {},
   "outputs": [
    {
     "name": "stdout",
     "output_type": "stream",
     "text": [
      "...validating file \"progress-note\" as DocumentReference\n"
     ]
    },
    {
     "data": {
      "text/html": [
       "<h1>Validation output</h1><h3>Status Code = 412</h3> <div xmlns=\"http://www.w3.org/1999/xhtml\"><h1>Operation Outcome</h1><table border=\"0\"><tr><td style=\"font-weight: bold;\">ERROR</td><td>[DocumentReference.type.coding]</td><td><pre>The Coding references a value set, not a code system (\"http://loinc.org\")</pre></td>\n",
       "\t\t\t\t\t\n",
       "\t\t\t\t\n",
       "\t\t\t</tr>\n",
       "\t\t</table>\n",
       "\t</div>"
      ],
      "text/plain": [
       "<IPython.core.display.HTML object>"
      ]
     },
     "metadata": {},
     "output_type": "display_data"
    }
   ],
   "source": [
    "# *********************** validate Resource ********************************\n",
    "\n",
    "def validate(r):\n",
    "    fhir_test_server = 'http://fhirtest.uhn.ca/baseDstu3'\n",
    "    #fhir_test_server = 'http://test.fhir.org/r3'\n",
    "\n",
    "    headers = {\n",
    "    'Accept':'application/fhir+json',\n",
    "    'Content-Type':'application/fhir+json'\n",
    "    }\n",
    "\n",
    "    # profile = 'http://hl7.org/fhir/us/core/StructureDefinition/us-core-patient' # The official URL for this profile is: http://hl7.org/fhir/us/core/StructureDefinition/us-core-patient\n",
    " \n",
    "    params = dict(\n",
    "      # profile = 'http://hl7.org/fhir/us/core/StructureDefinition/us-core-patient' # The official URL for this profile is: http://hl7.org/fhir/us/core/StructureDefinition/us-core-patient\n",
    "        )\n",
    "    \n",
    "    #   r = requests.post('https://httpbin.org/post', data = {'key':'value'})\n",
    "    r = post(f'{fhir_test_server}/{loads(r)[\"resourceType\"]}/$validate', params = params, headers = headers, data = r )   # return r.status_code\n",
    "    # view  output\n",
    "    # return (r.json()[\"text\"][\"div\"])\n",
    "    return r\n",
    "\n",
    "print(f'...validating file \\\"{f_name}\\\" as {loads(r)[\"resourceType\"]}')\n",
    "r = validate(r)\n",
    "display(HTML(f'<h1>Validation output</h1><h3>Status Code = {r.status_code}</h3> {r.json()[\"text\"][\"div\"]}'))\n",
    "\n",
    "    "
   ]
  },
  {
   "cell_type": "code",
   "execution_count": null,
   "metadata": {},
   "outputs": [],
   "source": []
  }
 ],
 "metadata": {
  "kernelspec": {
   "display_name": "Python 3",
   "language": "python",
   "name": "python3"
  },
  "language_info": {
   "codemirror_mode": {
    "name": "ipython",
    "version": 3
   },
   "file_extension": ".py",
   "mimetype": "text/x-python",
   "name": "python",
   "nbconvert_exporter": "python",
   "pygments_lexer": "ipython3",
   "version": "3.7.1"
  }
 },
 "nbformat": 4,
 "nbformat_minor": 2
}
