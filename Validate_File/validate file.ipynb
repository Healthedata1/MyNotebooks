{
 "cells": [
  {
   "cell_type": "markdown",
   "metadata": {},
   "source": [
    "## Script to validate file on test server\n",
    "\n",
    "- python version 3.6+\n",
    "\n",
    "- upload example\n",
    "- run $validate on test server\n",
    "- print output as html\n"
   ]
  },
  {
   "cell_type": "code",
   "execution_count": 22,
   "metadata": {},
   "outputs": [],
   "source": [
    "import os #os module imported here\n",
    "from json import load, dumps, loads\n",
    "from IPython import display as D\n",
    "from requests import get, post, put\n",
    "from IPython.display import display, Markdown, HTML"
   ]
  },
  {
   "cell_type": "markdown",
   "metadata": {},
   "source": [
    "### Get file from folder"
   ]
  },
  {
   "cell_type": "code",
   "execution_count": 23,
   "metadata": {},
   "outputs": [],
   "source": [
    "#in_path = '/Users/ehaas/Documents/FHIR/Argo-Questionnaire/source/examples/'\n",
    "in_path = '/Users/ehaas/Documents/Python/MyNotebooks/unbundle_save/'\n",
    "\n",
    "#f_name = 'discharge-summary-note'\n",
    "#f_name = 'progress-note'"
   ]
  },
  {
   "cell_type": "code",
   "execution_count": 24,
   "metadata": {},
   "outputs": [],
   "source": [
    "def open_file(f_name): # get files\n",
    "    with open(f'{in_path}{f_name}') as f:\n",
    "        r = f.read()\n",
    "        return(r)"
   ]
  },
  {
   "cell_type": "code",
   "execution_count": 25,
   "metadata": {},
   "outputs": [],
   "source": [
    "def validate(r):\n",
    "    fhir_test_server = 'http://fhirtest.uhn.ca/baseDstu3'\n",
    "    #fhir_test_server = 'http://test.fhir.org/r3'\n",
    "\n",
    "    headers = {\n",
    "    'Accept':'application/fhir+json',\n",
    "    'Content-Type':'application/fhir+json'\n",
    "    }\n",
    "\n",
    "    # profile = 'http://hl7.org/fhir/us/core/StructureDefinition/us-core-patient' # The official URL for this profile is: http://hl7.org/fhir/us/core/StructureDefinition/us-core-patient\n",
    " \n",
    "    params = dict(\n",
    "      # profile = 'http://hl7.org/fhir/us/core/StructureDefinition/us-core-patient' # The official URL for this profile is: http://hl7.org/fhir/us/core/StructureDefinition/us-core-patient\n",
    "        )\n",
    "    \n",
    "    #   r = requests.post('https://httpbin.org/post', data = {'key':'value'})\n",
    "    r = post(f'{fhir_test_server}/{loads(r)[\"resourceType\"]}/$validate', params = params, headers = headers, data = r )   # return r.status_code\n",
    "    # view  output\n",
    "    # return (r.json()[\"text\"][\"div\"])\n",
    "    return r"
   ]
  },
  {
   "cell_type": "code",
   "execution_count": 27,
   "metadata": {},
   "outputs": [
    {
     "name": "stdout",
     "output_type": "stream",
     "text": [
      "json file found:\t MeasureReport-measurereport01.json\n",
      "MeasureReport\n",
      "{\n",
      "  \"resourceType\": \"MeasureReport\",\n",
      "  \"id\": \"measurereport01\",\n",
      "  \"meta\": {\n",
      "    \"versionId\": \"1\",\n",
      "    \"lastUpdated\": \"2018-09-05T16:59:53.000+00:00\",\n",
      "    \"profile\": [\n",
      "      \"http://hl7.org/fhir/ig/davinci/StructureDefinition/measurereport-mrp\"\n",
      "    ]\n",
      "  },\n",
      "  \"status\": \"complete\",\n",
      "  \"_type\": {\n",
      "    \"extension\": [\n",
      "      {\n",
      "        \"url\": \"http://hl7.org/fhir/us/davinci-deqm/STU3/StructureDefinition/extension-dataCollectionType\",\n",
      "        \"valueBoolean\": true\n",
      "      }\n",
      "    ]\n",
      "  },\n",
      "  \"measure\": {\n",
      "    \"reference\": \"https://ncqa.org/fhir/ig/Measure/measure-mrp\"\n",
      "  },\n",
      "  \"patient\": {\n",
      "    \"reference\": \"Patient/patient01\"\n",
      "  },\n",
      "  \"date\": \"2018-09-05T16:59:52.404Z\",\n",
      "  \"period\": {\n",
      "    \"start\": \"2018-08-01\",\n",
      "    \"end\": \"2018-09-01\"\n",
      "  },\n",
      "  \"evaluatedResources\": {\n",
      "    \"extension\": [\n",
      "      {\n",
      "        \"url\": \"http://hl7.org/fhir/ig/davinci/StructureDefinition/extension-referenceAny\",\n",
      "        \"valueReference\": {\n",
      "          \"reference\": \"Task/task01\"\n",
      "        }\n",
      "      }\n",
      "    ]\n",
      "  }\n",
      "}\n",
      "...validating file \"MeasureReport-measurereport01.json\" as MeasureReport\n"
     ]
    },
    {
     "data": {
      "text/html": [
       "<h1>Validation output</h1><h3>Status Code = 200</h3> <div xmlns=\"http://www.w3.org/1999/xhtml\"><h1>Operation Outcome</h1><table border=\"0\"><tr><td style=\"font-weight: bold;\">WARNING</td><td>[MeasureReport.meta.profile[0]]</td><td><pre>StructureDefinition reference \"http://hl7.org/fhir/ig/davinci/StructureDefinition/measurereport-mrp\" could not be resolved</pre></td>\n",
       "\t\t\t\t\t\n",
       "\t\t\t\t\n",
       "\t\t\t</tr>\n",
       "\t\t\t<tr>\n",
       "\t\t\t\t<td style=\"font-weight: bold;\">INFORMATION</td>\n",
       "\t\t\t\t<td>[MeasureReport.type.extension]</td>\n",
       "\t\t\t\t\n",
       "\t\t\t\t\t\n",
       "\t\t\t\t\t\n",
       "\t\t\t\t\t\t<td><pre>Unknown extension http://hl7.org/fhir/us/davinci-deqm/STU3/StructureDefinition/extension-dataCollectionType</pre></td>\n",
       "\t\t\t\t\t\n",
       "\t\t\t\t\n",
       "\t\t\t</tr>\n",
       "\t\t\t<tr>\n",
       "\t\t\t\t<td style=\"font-weight: bold;\">WARNING</td>\n",
       "\t\t\t\t<td>[MeasureReport.evaluatedResources]</td>\n",
       "\t\t\t\t\n",
       "\t\t\t\t\t\n",
       "\t\t\t\t\t\n",
       "\t\t\t\t\t\t<td><pre>A Reference without an actual reference or identifier should have a display</pre></td>\n",
       "\t\t\t\t\t\n",
       "\t\t\t\t\n",
       "\t\t\t</tr>\n",
       "\t\t\t<tr>\n",
       "\t\t\t\t<td style=\"font-weight: bold;\">INFORMATION</td>\n",
       "\t\t\t\t<td>[MeasureReport.evaluatedResources.extension]</td>\n",
       "\t\t\t\t\n",
       "\t\t\t\t\t\n",
       "\t\t\t\t\t\n",
       "\t\t\t\t\t\t<td><pre>Unknown extension http://hl7.org/fhir/ig/davinci/StructureDefinition/extension-referenceAny</pre></td>\n",
       "\t\t\t\t\t\n",
       "\t\t\t\t\n",
       "\t\t\t</tr>\n",
       "\t\t</table>\n",
       "\t</div>"
      ],
      "text/plain": [
       "<IPython.core.display.HTML object>"
      ]
     },
     "metadata": {},
     "output_type": "display_data"
    },
    {
     "name": "stdout",
     "output_type": "stream",
     "text": [
      "json file found:\t Task-measurereport01.json\n",
      "Task\n",
      "{\n",
      "   \"resourceType\": \"Task\",\n",
      "   \"id\": \"task01\",\n",
      "   \"meta\": {\n",
      "      \"versionId\": \"1\",\n",
      "      \"lastUpdated\": \"2018-09-29T14:15:06.000+00:00\",\n",
      "      \"profile\": [\n",
      "         \"http://hl7.org/fhir/us/hedis/StructureDefinition/hedis-task\"\n",
      "      ]\n",
      "   },\n",
      "   \"status\": \"completed\",\n",
      "   \"intent\": \"plan\",\n",
      "   \"code\": {\n",
      "      \"coding\": [\n",
      "         {\n",
      "            \"system\": \"http://www.ama-assn.org/go/cpt\",\n",
      "            \"code\": \"1111F\",\n",
      "            \"display\": \"Medication Reconciliation\"\n",
      "         }\n",
      "      ]\n",
      "   },\n",
      "   \"for\": {\n",
      "      \"reference\": \"Patient/patient01\"\n",
      "   },\n",
      "   \"context\": {\n",
      "      \"reference\": \"Encounter/encounter01\"\n",
      "   },\n",
      "   \"executionPeriod\": {\n",
      "      \"start\": \"2018-09-29T14:15:04.424Z\",\n",
      "      \"end\": \"2018-09-29T14:15:04.424Z\"\n",
      "   },\n",
      "   \"authoredOn\": \"2018-09-29T14:15:04.424Z\",\n",
      "   \"owner\": {\n",
      "      \"reference\": \"Practitioner/practitioner01\"\n",
      "   }\n",
      "}\n",
      "...validating file \"Task-measurereport01.json\" as Task\n"
     ]
    },
    {
     "data": {
      "text/html": [
       "<h1>Validation output</h1><h3>Status Code = 200</h3> <div xmlns=\"http://www.w3.org/1999/xhtml\"><h1>Operation Outcome</h1><table border=\"0\"><tr><td style=\"font-weight: bold;\">WARNING</td><td>[Task.meta.profile[0]]</td><td><pre>StructureDefinition reference \"http://hl7.org/fhir/us/hedis/StructureDefinition/hedis-task\" could not be resolved</pre></td>\n",
       "\t\t\t\t\t\n",
       "\t\t\t\t\n",
       "\t\t\t</tr>\n",
       "\t\t\t<tr>\n",
       "\t\t\t\t<td style=\"font-weight: bold;\">INFORMATION</td>\n",
       "\t\t\t\t<td>[Task.code]</td>\n",
       "\t\t\t\t\n",
       "\t\t\t\t\t\n",
       "\t\t\t\t\t\n",
       "\t\t\t\t\t\t<td><pre>Binding for path Task.code has no source, so can't be checked</pre></td>\n",
       "\t\t\t\t\t\n",
       "\t\t\t\t\n",
       "\t\t\t</tr>\n",
       "\t\t</table>\n",
       "\t</div>"
      ],
      "text/plain": [
       "<IPython.core.display.HTML object>"
      ]
     },
     "metadata": {},
     "output_type": "display_data"
    }
   ],
   "source": [
    "for file in os.listdir(in_path):\n",
    "\n",
    "        if file.endswith(\".json\"):\n",
    "            print(\"json file found:\\t\", file)\n",
    "            r = open_file(file)\n",
    "\n",
    "            print(loads(r)['resourceType'])\n",
    "            print(r)\n",
    "\n",
    "            print(f'...validating file \\\"{file}\\\" as {loads(r)[\"resourceType\"]}')\n",
    "            r = validate(r)\n",
    "            display(HTML(f'<h1>Validation output</h1><h3>Status Code = {r.status_code}</h3> {r.json()[\"text\"][\"div\"]}'))\n",
    "  "
   ]
  },
  {
   "cell_type": "code",
   "execution_count": null,
   "metadata": {},
   "outputs": [],
   "source": []
  },
  {
   "cell_type": "code",
   "execution_count": null,
   "metadata": {},
   "outputs": [],
   "source": []
  }
 ],
 "metadata": {
  "kernelspec": {
   "display_name": "Python 3",
   "language": "python",
   "name": "python3"
  },
  "language_info": {
   "codemirror_mode": {
    "name": "ipython",
    "version": 3
   },
   "file_extension": ".py",
   "mimetype": "text/x-python",
   "name": "python",
   "nbconvert_exporter": "python",
   "pygments_lexer": "ipython3",
   "version": "3.6.2"
  }
 },
 "nbformat": 4,
 "nbformat_minor": 2
}
