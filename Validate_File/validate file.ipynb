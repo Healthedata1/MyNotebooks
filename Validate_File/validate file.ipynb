{
 "cells": [
  {
   "cell_type": "markdown",
   "metadata": {},
   "source": [
    "## Script to validate file on test server\n",
    "\n",
    "- python version 3.6+\n",
    "\n",
    "- upload example\n",
    "- run $validate on test server\n",
    "- print output as html\n"
   ]
  },
  {
   "cell_type": "code",
   "execution_count": 37,
   "metadata": {},
   "outputs": [],
   "source": [
    "from json import load, dumps, loads\n",
    "from IPython import display as D\n",
    "from requests import get, post, put\n",
    "from IPython.display import display, Markdown, HTML"
   ]
  },
  {
   "cell_type": "markdown",
   "metadata": {},
   "source": [
    "### Get file from folder"
   ]
  },
  {
   "cell_type": "code",
   "execution_count": 38,
   "metadata": {},
   "outputs": [
    {
     "name": "stdout",
     "output_type": "stream",
     "text": [
      "DocumentReference\n",
      "{\n",
      "    \"resourceType\": \"DocumentReference\",\n",
      "    \"type\": {\n",
      "        \"coding\": [{\n",
      "            \"system\": \"http://loinc.org\",\n",
      "            \"code\": \"8648-8\",\n",
      "            \"display\": \"Discharge Summary\"\n",
      "        }],\n",
      "        \"text\": \"Discharge Summary\"\n",
      "    },\n",
      "     \"class\": {\n",
      "        \"coding\": [{\n",
      "            \"system\": \"http://fhir.org/guides/argonaut-clinicalnotes/CodeSystem/documentreference-category\",\n",
      "            \"code\": \"clinical-note\",\n",
      "            \"display\": \"Clinical Notes\"\n",
      "        }],\n",
      "        \"text\": \"Discharge Summary\"\n",
      "    },\n",
      "    \"created\": \"2018-05-10T21:39:30.000Z\",\n",
      "    \"indexed\": \"2018-05-10T21:39:30.000Z\",\n",
      "    \"status\": \"current\",\n",
      "    \"subject\": {\"reference\": \"Patient/1316024\"},\n",
      "    \"content\": [{\"attachment\": {\n",
      "        \"contentType\": \"application/xhtml\",\n",
      "        \"data\": \"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\"\n",
      "   }}]\n",
      "}\n"
     ]
    }
   ],
   "source": [
    "#in_path = '/Users/ehaas/Documents/FHIR/Argo-Questionnaire/source/examples/'\n",
    "in_path = ''\n",
    "\n",
    "f_name = 'discharge-summary-note'\n",
    "\n",
    "def open_file(): # get files\n",
    "    with open(f'{in_path}{f_name}.json') as f:\n",
    "        r = f.read()\n",
    "        return(r)\n",
    "    \n",
    "r = open_file()\n",
    "\n",
    "print(loads(r)['resourceType'])\n",
    "print(r)"
   ]
  },
  {
   "cell_type": "markdown",
   "metadata": {},
   "source": [
    "### validate"
   ]
  },
  {
   "cell_type": "code",
   "execution_count": 39,
   "metadata": {},
   "outputs": [
    {
     "name": "stdout",
     "output_type": "stream",
     "text": [
      "...validating file \"discharge-summary-note\" as DocumentReference\n"
     ]
    },
    {
     "data": {
      "text/html": [
       "<h1>Validation output</h1><h3>Status Code = 412</h3> <div xmlns=\"http://www.w3.org/1999/xhtml\"><h1>Operation Outcome</h1><table border=\"0\"><tr><td style=\"font-weight: bold;\">WARNING</td><td>[DocumentReference.type]</td><td><pre>Error maxClauseCount is set to 1024 validating CodeableConcept</pre></td>\n",
       "\t\t\t\t\t\n",
       "\t\t\t\t\n",
       "\t\t\t</tr>\n",
       "\t\t\t<tr>\n",
       "\t\t\t\t<td style=\"font-weight: bold;\">ERROR</td>\n",
       "\t\t\t\t<td>[DocumentReference.type.coding]</td>\n",
       "\t\t\t\t\n",
       "\t\t\t\t\t\n",
       "\t\t\t\t\t\n",
       "\t\t\t\t\t\t<td><pre>The Coding references a value set, not a code system (\"http://loinc.org\")</pre></td>\n",
       "\t\t\t\t\t\n",
       "\t\t\t\t\n",
       "\t\t\t</tr>\n",
       "\t\t</table>\n",
       "\t</div>"
      ],
      "text/plain": [
       "<IPython.core.display.HTML object>"
      ]
     },
     "metadata": {},
     "output_type": "display_data"
    }
   ],
   "source": [
    "# *********************** validate Resource ********************************\n",
    "\n",
    "def validate(r):\n",
    "    fhir_test_server = 'http://fhirtest.uhn.ca/baseDstu3'\n",
    "    #fhir_test_server = 'http://test.fhir.org/r3'\n",
    "\n",
    "    headers = {\n",
    "    'Accept':'application/fhir+json',\n",
    "    'Content-Type':'application/fhir+json'\n",
    "    }\n",
    "\n",
    "    # profile = 'http://hl7.org/fhir/us/core/StructureDefinition/us-core-patient' # The official URL for this profile is: http://hl7.org/fhir/us/core/StructureDefinition/us-core-patient\n",
    " \n",
    "    params = dict(\n",
    "      # profile = 'http://hl7.org/fhir/us/core/StructureDefinition/us-core-patient' # The official URL for this profile is: http://hl7.org/fhir/us/core/StructureDefinition/us-core-patient\n",
    "        )\n",
    "    \n",
    "    #   r = requests.post('https://httpbin.org/post', data = {'key':'value'})\n",
    "    r = post(f'{fhir_test_server}/{loads(r)[\"resourceType\"]}/$validate', params = params, headers = headers, data = r )   # return r.status_code\n",
    "    # view  output\n",
    "    # return (r.json()[\"text\"][\"div\"])\n",
    "    return r\n",
    "\n",
    "print(f'...validating file \\\"{f_name}\\\" as {loads(r)[\"resourceType\"]}')\n",
    "r = validate(r)\n",
    "display(HTML(f'<h1>Validation output</h1><h3>Status Code = {r.status_code}</h3> {r.json()[\"text\"][\"div\"]}'))\n",
    "\n",
    "    "
   ]
  },
  {
   "cell_type": "code",
   "execution_count": null,
   "metadata": {},
   "outputs": [],
   "source": []
  }
 ],
 "metadata": {
  "kernelspec": {
   "display_name": "Python 3",
   "language": "python",
   "name": "python3"
  },
  "language_info": {
   "codemirror_mode": {
    "name": "ipython",
    "version": 3
   },
   "file_extension": ".py",
   "mimetype": "text/x-python",
   "name": "python",
   "nbconvert_exporter": "python",
   "pygments_lexer": "ipython3",
   "version": "3.7.1"
  }
 },
 "nbformat": 4,
 "nbformat_minor": 2
}
