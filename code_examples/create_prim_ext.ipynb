{
 "cells": [
  {
   "cell_type": "markdown",
   "metadata": {},
   "source": [
    "### Example python code to add the extension to the element\n",
    "\n",
    "- using the fhir.resources library ( note that the SMART FHIR client library does not support extensions on primitives yet)\n",
    "- can do this with Python dicts too"
   ]
  },
  {
   "cell_type": "code",
   "execution_count": 72,
   "metadata": {},
   "outputs": [],
   "source": [
    "from fhir.resources import construct_fhir_element"
   ]
  },
  {
   "cell_type": "code",
   "execution_count": 73,
   "metadata": {},
   "outputs": [],
   "source": [
    "my_basic_example = {\n",
    "    \"resourceType\": \"Basic\",\n",
    "    \"id\": \"basic-example\",\n",
    "    \"code\": {\n",
    "        \"text\": \"basic-example\"\n",
    "    },\n",
    "    \"created\": \"2019-06-01\"\n",
    "}\n",
    "\n",
    "my_ext = {\n",
    "          \"url\": \"http://example.org/fhir/StructureDefinition/my-extension\",\n",
    "          \"valueString\": \"FOO\"\n",
    "        }"
   ]
  },
  {
   "cell_type": "code",
   "execution_count": 74,
   "metadata": {},
   "outputs": [],
   "source": [
    "def get_prim_ext():\n",
    "    conf_ext = construct_fhir_element('FHIRPrimitiveExtension', dict(\n",
    "                    extension = [my_ext],\n",
    "                    ))\n",
    "    return conf_ext"
   ]
  },
  {
   "cell_type": "code",
   "execution_count": 75,
   "metadata": {},
   "outputs": [
    {
     "name": "stdout",
     "output_type": "stream",
     "text": [
      "{\n",
      "  \"resourceType\": \"Basic\",\n",
      "  \"id\": \"basic-example\",\n",
      "  \"code\": {\n",
      "    \"text\": \"basic-example\"\n",
      "  },\n",
      "  \"created\": \"2019-06-01\"\n",
      "}\n"
     ]
    }
   ],
   "source": [
    "basic_obj = construct_fhir_element('Basic', my_basic_example)\n",
    "print(basic_obj.json(indent=4))"
   ]
  },
  {
   "cell_type": "code",
   "execution_count": 81,
   "metadata": {},
   "outputs": [
    {
     "name": "stdout",
     "output_type": "stream",
     "text": [
      "{\n",
      "  \"resourceType\": \"Basic\",\n",
      "  \"id\": \"basic-example\",\n",
      "  \"code\": {\n",
      "    \"text\": \"basic-example\"\n",
      "  },\n",
      "  \"created\": \"2019-06-01\",\n",
      "  \"_created\": {\n",
      "    \"extension\": [\n",
      "      {\n",
      "        \"url\": \"http://example.org/fhir/StructureDefinition/my-extension\",\n",
      "        \"valueString\": \"FOO\"\n",
      "      }\n",
      "    ]\n",
      "  }\n",
      "}\n"
     ]
    }
   ],
   "source": [
    "date_ext = get_prim_ext()\n",
    "basic_obj.created__ext = date_ext\n",
    "print(basic_obj.json(indent=4))"
   ]
  }
 ],
 "metadata": {
  "kernelspec": {
   "display_name": "jupyter",
   "language": "python",
   "name": "python3"
  },
  "language_info": {
   "codemirror_mode": {
    "name": "ipython",
    "version": 3
   },
   "file_extension": ".py",
   "mimetype": "text/x-python",
   "name": "python",
   "nbconvert_exporter": "python",
   "pygments_lexer": "ipython3",
   "version": "3.10.2"
  }
 },
 "nbformat": 4,
 "nbformat_minor": 2
}
