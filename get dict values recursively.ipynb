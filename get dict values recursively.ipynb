{
 "cells": [
  {
   "cell_type": "code",
   "execution_count": 22,
   "metadata": {},
   "outputs": [
    {
     "name": "stdout",
     "output_type": "stream",
     "text": [
      "{'bar': 'bar1',\n",
      " 'baz': {'bar': 'bar2',\n",
      "         'baz': [3, 4, 5, {'bar': 'bar2', 'foo': 'foo3'}],\n",
      "         'foo': 'foo2'},\n",
      " 'foo': 'foo1'}\n",
      "\n",
      "get_recursively(search_dict,\"foo\") = ['foo1', 'foo2', 'foo3'] (should return [foo1, foo2, foo3])\n"
     ]
    }
   ],
   "source": [
    "def get_recursively(search_dict, field):\n",
    "    \"\"\"\n",
    "    Takes a dict with nested lists and dicts,\n",
    "    and searches all dicts for a key of the field\n",
    "    provided.\n",
    "    \"\"\"\n",
    "    fields_found = []\n",
    "\n",
    "    for key, value in search_dict.items():\n",
    "\n",
    "        if key == field:\n",
    "            fields_found.append(value)\n",
    "\n",
    "        elif isinstance(value, dict):\n",
    "            results = get_recursively(value, field)\n",
    "            for result in results:\n",
    "                fields_found.append(result)\n",
    "\n",
    "        elif isinstance(value, list):\n",
    "            #print(f'{value} is list')\n",
    "            for item in value:\n",
    "                if isinstance(item, dict):\n",
    "                    more_results = get_recursively(item, field)\n",
    "                    for another_result in more_results:\n",
    "                        fields_found.append(another_result)\n",
    "\n",
    "    return fields_found\n",
    "\n",
    "if __name__ == '__main__':\n",
    "    search_dict = dict(\n",
    "    foo = 'foo1',\n",
    "    bar = 'bar1',\n",
    "    baz = dict(\n",
    "        foo = 'foo2',\n",
    "        bar = 'bar2',\n",
    "        baz = [\n",
    "          3,\n",
    "          4,\n",
    "          5,\n",
    "          dict(\n",
    "        foo = 'foo3',\n",
    "        bar = 'bar2',\n",
    "          ),\n",
    "       ],    \n",
    "     ),\n",
    "    )   \n",
    "    from pprint import pprint\n",
    "    pprint(search_dict)\n",
    "    print()\n",
    "    print(f'get_recursively(search_dict,\"foo\") = {get_recursively(search_dict,\"foo\")} (should return [foo1, foo2, foo3])')  # should return [foo1, foo2, foo3]\n"
   ]
  }
 ],
 "metadata": {
  "kernelspec": {
   "display_name": "Python 3.7.3 64-bit ('venv37': venv)",
   "language": "python",
   "name": "python37364bitvenv37venv2b400d68decb43d5b2206c004a019450"
  },
  "language_info": {
   "codemirror_mode": {
    "name": "ipython",
    "version": 3
   },
   "file_extension": ".py",
   "mimetype": "text/x-python",
   "name": "python",
   "nbconvert_exporter": "python",
   "pygments_lexer": "ipython3",
   "version": "3.7.3"
  }
 },
 "nbformat": 4,
 "nbformat_minor": 4
}
