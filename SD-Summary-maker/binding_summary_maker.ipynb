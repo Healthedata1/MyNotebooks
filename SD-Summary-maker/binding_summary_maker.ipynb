{
 "cells": [
  {
   "cell_type": "markdown",
   "metadata": {},
   "source": [
    "## Code Binding summaries using Jinja2 and Python Modele\n",
    "\n",
    "- Fetch SD file from IG\n",
    "- Transform to Python model\n",
    "- use Jinja2 template to create a summary markdown file\n",
    "- save markdown file\n",
    "\n"
   ]
  },
  {
   "cell_type": "markdown",
   "metadata": {},
   "source": [
    "### import python modules including R4 fhirclient models"
   ]
  },
  {
   "cell_type": "code",
   "execution_count": null,
   "metadata": {},
   "outputs": [],
   "source": [
    "from fhirclient.r4models import structuredefinition as SD\n",
    "from fhirclient.r4models import narrative as N\n",
    "from fhirclient.r4models import valueset as VS\n",
    "import fhirclient.r4models.identifier as I\n",
    "import fhirclient.r4models.coding as C\n",
    "import fhirclient.r4models.codeableconcept as CC\n",
    "import fhirclient.r4models.fhirdate as D\n",
    "import fhirclient.r4models.extension as X\n",
    "import fhirclient.r4models.contactdetail as CD\n",
    "import fhirclient.r4models.fhirreference as FR\n",
    "from fhirclient.r4models.fhirabstractbase import FHIRValidationError\n",
    "from json import dumps, loads, load\n",
    "from requests import get, post, put\n",
    "import os\n",
    "from pathlib import Path\n",
    "from csv import reader as csvreader\n",
    "from pprint import pprint\n",
    "from stringcase import snakecase, titlecase\n",
    "from collections import namedtuple\n",
    "from pandas import *\n",
    "from datetime import date\n",
    "from jinja2 import Environment, FileSystemLoader, select_autoescape\n",
    "from commonmark import commonmark\n",
    "from IPython.display import display, HTML, Markdown\n",
    "from lxml import etree"
   ]
  },
  {
   "cell_type": "markdown",
   "metadata": {},
   "source": [
    "### Get US Core SD file names"
   ]
  },
  {
   "cell_type": "code",
   "execution_count": 37,
   "metadata": {},
   "outputs": [
    {
     "data": {
      "text/plain": [
       "['StructureDefinition-us-core-careteam.json',\n",
       " 'StructureDefinition-us-core-medicationstatement.json',\n",
       " 'StructureDefinition-us-core-direct.json',\n",
       " 'StructureDefinition-us-core-profile-link.json',\n",
       " 'StructureDefinition-us-core-device.json',\n",
       " 'StructureDefinition-us-core-practitioner.json',\n",
       " 'StructureDefinition-us-core-patient.json',\n",
       " 'StructureDefinition-us-core-immunization.json',\n",
       " 'StructureDefinition-us-core-smokingstatus.json',\n",
       " 'StructureDefinition-us-core-documentreference.json',\n",
       " 'StructureDefinition-new-us-core-diagnosticreport.json',\n",
       " 'StructureDefinition-us-core-race.json',\n",
       " 'StructureDefinition-us-core-medicationrequest.json',\n",
       " 'StructureDefinition-us-core-diagnosticreport.json',\n",
       " 'StructureDefinition-us-core-condition.json',\n",
       " 'StructureDefinition-us-core-birthsex.json',\n",
       " 'StructureDefinition-us-core-encounter.json',\n",
       " 'StructureDefinition-us-core-organization.json',\n",
       " 'StructureDefinition-us-core-pediatric-weight.json',\n",
       " 'StructureDefinition-us-core-procedure.json',\n",
       " 'StructureDefinition-us-core-medication.json',\n",
       " 'StructureDefinition-us-core-observationresults.json',\n",
       " 'StructureDefinition-us-core-practitionerrole.json',\n",
       " 'StructureDefinition-new-us-core-documentreference.json',\n",
       " 'StructureDefinition-us-core-careplan.json',\n",
       " 'StructureDefinition-us-core-goal.json',\n",
       " 'StructureDefinition-us-core-ethnicity.json',\n",
       " 'StructureDefinition-us-core-location.json',\n",
       " 'StructureDefinition-us-core-pediatric-bmi.json',\n",
       " 'StructureDefinition-us-core-inspired-oxygen.json',\n",
       " 'StructureDefinition-us-core-allergyintolerance.json']"
      ]
     },
     "execution_count": 37,
     "metadata": {},
     "output_type": "execute_result"
    }
   ],
   "source": [
    "canon = 'http://hl7.org/fhir/us/core/'  # ig canonical base\n",
    "\n",
    "#in_path = '/Users/ehaas/Documents/FHIR/US-Core-R4/output/StructureDefinition-'\n",
    "#f_name = 'us-core-inspired-oxygen'\n",
    "ig_path = '/Users/ehaas/.fhir/packages/hl7.fhir.us.core.r4#dev/package'\n",
    "\n",
    "ig_files = [x for x in os.listdir(ig_path) if x.startswith(\"StructureDefinition\")]\n",
    "ig_files"
   ]
  },
  {
   "cell_type": "markdown",
   "metadata": {},
   "source": [
    "### Get matchin FHIR core SD file names"
   ]
  },
  {
   "cell_type": "code",
   "execution_count": null,
   "metadata": {},
   "outputs": [],
   "source": [
    "\n",
    "\n",
    "core_path = '/Users/ehaas/.fhir/packages/hl7.fhir.core#current/package'\n",
    "core_files = [x for x in os.listdir(core_path) if x.startswith(\"StructureDefinition\")]\n",
    "\n",
    "core_files"
   ]
  },
  {
   "cell_type": "code",
   "execution_count": null,
   "metadata": {},
   "outputs": [],
   "source": [
    "def open_file(in_path, f_name): # get files\n",
    "    with open(f'{in_path}/{f_name}') as f:\n",
    "        r = f.read()\n",
    "        return(loads(r))\n",
    "   "
   ]
  },
  {
   "cell_type": "code",
   "execution_count": null,
   "metadata": {},
   "outputs": [],
   "source": [
    " \n",
    "def expand(vs):\n",
    "    print(vs)\n",
    "    #fhir_test_server = 'http://fhirtest.uhn.ca/baseDstu3'\n",
    "    #fhir_test_server = 'http://test.fhir.org/r4'\n",
    "    fhir_test_server = 'https://r4.ontoserver.csiro.au/fhir'\n",
    "\n",
    "    headers = {\n",
    "    'Accept':'application/fhir+json',\n",
    "    'Content-Type':'application/fhir+json'\n",
    "    }\n",
    "\n",
    "    # profile = 'http://hl7.org/fhir/us/core/StructureDefinition/us-core-patient' # The official URL for this profile is: http://hl7.org/fhir/us/core/StructureDefinition/us-core-patient\n",
    " \n",
    "    params = dict(\n",
    "          url = vs.split('|')[0],\n",
    "          count = 20,\n",
    "            )\n",
    "    \n",
    "    r = get(f'{fhir_test_server}/ValueSet/$expand', params = params, headers = headers )\n",
    "    # return r.status_code\n",
    "    # view  output\n",
    "\n",
    "    \n",
    "    if r.status_code == 200:\n",
    "        return VS.ValueSet(r.json(),strict= False)"
   ]
  },
  {
   "cell_type": "code",
   "execution_count": 53,
   "metadata": {},
   "outputs": [
    {
     "name": "stdout",
     "output_type": "stream",
     "text": [
      "http://hl7.org/fhir/ValueSet/care-team-status\n"
     ]
    },
    {
     "name": "stderr",
     "output_type": "stream",
     "text": [
      "WARNING:root:'Non-optional property \"status\" on <fhirclient.r4models.valueset.ValueSet object at 0x118410ba8> is missing'\n"
     ]
    },
    {
     "name": "stdout",
     "output_type": "stream",
     "text": [
      "http://hl7.org/fhir/ValueSet/medication-statement-status\n"
     ]
    },
    {
     "name": "stderr",
     "output_type": "stream",
     "text": [
      "WARNING:root:'Non-optional property \"status\" on <fhirclient.r4models.valueset.ValueSet object at 0x11db9a0b8> is missing'\n"
     ]
    },
    {
     "name": "stdout",
     "output_type": "stream",
     "text": [
      "http://hl7.org/fhir/ValueSet/contact-point-system\n"
     ]
    },
    {
     "name": "stderr",
     "output_type": "stream",
     "text": [
      "WARNING:root:'Non-optional property \"status\" on <fhirclient.r4models.valueset.ValueSet object at 0x11f185400> is missing'\n"
     ]
    },
    {
     "name": "stdout",
     "output_type": "stream",
     "text": [
      "http://hl7.org/fhir/ValueSet/administrative-gender\n"
     ]
    },
    {
     "name": "stderr",
     "output_type": "stream",
     "text": [
      "WARNING:root:'Non-optional property \"status\" on <fhirclient.r4models.valueset.ValueSet object at 0x11e25d780> is missing'\n"
     ]
    },
    {
     "name": "stdout",
     "output_type": "stream",
     "text": [
      "http://hl7.org/fhir/ValueSet/immunization-status\n",
      "http://hl7.org/fhir/ValueSet/observation-status\n"
     ]
    },
    {
     "name": "stderr",
     "output_type": "stream",
     "text": [
      "WARNING:root:'Non-optional property \"status\" on <fhirclient.r4models.valueset.ValueSet object at 0x11f3b59b0> is missing'\n"
     ]
    },
    {
     "name": "stdout",
     "output_type": "stream",
     "text": [
      "http://hl7.org/fhir/ValueSet/document-reference-status\n"
     ]
    },
    {
     "name": "stderr",
     "output_type": "stream",
     "text": [
      "WARNING:root:'Non-optional property \"status\" on <fhirclient.r4models.valueset.ValueSet object at 0x11f1abc88> is missing'\n"
     ]
    },
    {
     "name": "stdout",
     "output_type": "stream",
     "text": [
      "http://hl7.org/fhir/ValueSet/c80-doc-typecodes\n",
      "http://hl7.org/fhir/ValueSet/mimetypes|4.0.0\n",
      "http://hl7.org/fhir/ValueSet/diagnostic-report-status\n"
     ]
    },
    {
     "name": "stderr",
     "output_type": "stream",
     "text": [
      "WARNING:root:'Non-optional property \"status\" on <fhirclient.r4models.valueset.ValueSet object at 0x11f3f8ba8> is missing'\n"
     ]
    },
    {
     "name": "stdout",
     "output_type": "stream",
     "text": [
      "http://hl7.org/fhir/us/core/ValueSet/omb-race-category\n",
      "http://hl7.org/fhir/us/core/ValueSet/detailed-race\n",
      "http://hl7.org/fhir/ValueSet/medicationrequest-status\n"
     ]
    },
    {
     "name": "stderr",
     "output_type": "stream",
     "text": [
      "WARNING:root:'Non-optional property \"status\" on <fhirclient.r4models.valueset.ValueSet object at 0x11f5d6208> is missing'\n"
     ]
    },
    {
     "name": "stdout",
     "output_type": "stream",
     "text": [
      "http://hl7.org/fhir/ValueSet/diagnostic-report-status\n"
     ]
    },
    {
     "name": "stderr",
     "output_type": "stream",
     "text": [
      "WARNING:root:'Non-optional property \"status\" on <fhirclient.r4models.valueset.ValueSet object at 0x11f56c860> is missing'\n"
     ]
    },
    {
     "name": "stdout",
     "output_type": "stream",
     "text": [
      "http://hl7.org/fhir/ValueSet/condition-ver-status\n"
     ]
    },
    {
     "name": "stderr",
     "output_type": "stream",
     "text": [
      "WARNING:root:'Non-optional property \"status\" on <fhirclient.r4models.valueset.ValueSet object at 0x11f68ec88> is missing'\n"
     ]
    },
    {
     "name": "stdout",
     "output_type": "stream",
     "text": [
      "http://hl7.org/fhir/ValueSet/encounter-status|4.0.0\n"
     ]
    },
    {
     "name": "stderr",
     "output_type": "stream",
     "text": [
      "WARNING:root:'Non-optional property \"status\" on <fhirclient.r4models.valueset.ValueSet object at 0x11f6196a0> is missing'\n"
     ]
    },
    {
     "name": "stdout",
     "output_type": "stream",
     "text": [
      "http://hl7.org/fhir/ValueSet/event-status\n"
     ]
    },
    {
     "name": "stderr",
     "output_type": "stream",
     "text": [
      "WARNING:root:'Non-optional property \"status\" on <fhirclient.r4models.valueset.ValueSet object at 0x1208dd400> is missing'\n"
     ]
    },
    {
     "name": "stdout",
     "output_type": "stream",
     "text": [
      "http://hl7.org/fhir/ValueSet/observation-status\n"
     ]
    },
    {
     "name": "stderr",
     "output_type": "stream",
     "text": [
      "WARNING:root:'Non-optional property \"status\" on <fhirclient.r4models.valueset.ValueSet object at 0x1208e0710> is missing'\n"
     ]
    },
    {
     "name": "stdout",
     "output_type": "stream",
     "text": [
      "http://hl7.org/fhir/ValueSet/contact-point-system|4.0.0\n"
     ]
    },
    {
     "name": "stderr",
     "output_type": "stream",
     "text": [
      "WARNING:root:'Non-optional property \"status\" on <fhirclient.r4models.valueset.ValueSet object at 0x1209166d8> is missing'\n"
     ]
    },
    {
     "name": "stdout",
     "output_type": "stream",
     "text": [
      "http://hl7.org/fhir/us/core/ValueSet/us-core-narrative-status\n",
      "http://hl7.org/fhir/ValueSet/request-status\n"
     ]
    },
    {
     "name": "stderr",
     "output_type": "stream",
     "text": [
      "WARNING:root:'Non-optional property \"status\" on <fhirclient.r4models.valueset.ValueSet object at 0x120ac1208> is missing'\n"
     ]
    },
    {
     "name": "stdout",
     "output_type": "stream",
     "text": [
      "http://hl7.org/fhir/ValueSet/care-plan-intent\n",
      "http://hl7.org/fhir/ValueSet/goal-status\n"
     ]
    },
    {
     "name": "stderr",
     "output_type": "stream",
     "text": [
      "WARNING:root:'Non-optional property \"status\" on <fhirclient.r4models.valueset.ValueSet object at 0x11f7a7a90> is missing'\n"
     ]
    },
    {
     "name": "stdout",
     "output_type": "stream",
     "text": [
      "http://hl7.org/fhir/us/core/ValueSet/omb-ethnicity-category\n",
      "http://hl7.org/fhir/us/core/ValueSet/detailed-ethnicity\n",
      "http://hl7.org/fhir/ValueSet/allergyintolerance-verification\n"
     ]
    },
    {
     "name": "stderr",
     "output_type": "stream",
     "text": [
      "WARNING:root:'Non-optional property \"status\" on <fhirclient.r4models.valueset.ValueSet object at 0x120b5e358> is missing'\n"
     ]
    },
    {
     "data": {
      "text/plain": [
       "[(<fhirclient.r4models.elementdefinition.ElementDefinition at 0x11d726dd8>,\n",
       "  <fhirclient.r4models.valueset.ValueSet at 0x118410ba8>,\n",
       "  'http://hl7.org/fhir/us/core/StructureDefinition-us-core-careteam-definitions.html#CareTeam.status',\n",
       "  <fhirclient.r4models.elementdefinition.ElementDefinition at 0x11e757470>,\n",
       "  'https://build.fhir.org/careteam-definitions.html#CareTeam.status'),\n",
       " (<fhirclient.r4models.elementdefinition.ElementDefinition at 0x11d7b7710>,\n",
       "  <fhirclient.r4models.valueset.ValueSet at 0x11db9a0b8>,\n",
       "  'http://hl7.org/fhir/us/core/StructureDefinition-us-core-medicationstatement-definitions.html#MedicationStatement.status',\n",
       "  <fhirclient.r4models.elementdefinition.ElementDefinition at 0x11dc0fc88>,\n",
       "  'https://build.fhir.org/medicationstatement-definitions.html#MedicationStatement.status'),\n",
       " (<fhirclient.r4models.elementdefinition.ElementDefinition at 0x11d7acd68>,\n",
       "  <fhirclient.r4models.valueset.ValueSet at 0x11f185400>,\n",
       "  'http://hl7.org/fhir/us/core/StructureDefinition-us-core-patient-definitions.html#Patient.telecom.system',\n",
       "  None,\n",
       "  'https://build.fhir.org/medicationstatement-definitions.html#MedicationStatement.status'),\n",
       " (<fhirclient.r4models.elementdefinition.ElementDefinition at 0x11f16e390>,\n",
       "  <fhirclient.r4models.valueset.ValueSet at 0x11e25d780>,\n",
       "  'http://hl7.org/fhir/us/core/StructureDefinition-us-core-patient-definitions.html#Patient.gender',\n",
       "  <fhirclient.r4models.elementdefinition.ElementDefinition at 0x11e691cc0>,\n",
       "  'https://build.fhir.org/patient-definitions.html#Patient.gender'),\n",
       " (<fhirclient.r4models.elementdefinition.ElementDefinition at 0x11e394400>,\n",
       "  <fhirclient.r4models.valueset.ValueSet at 0x11f1c2080>,\n",
       "  'http://hl7.org/fhir/us/core/StructureDefinition-us-core-immunization-definitions.html#Immunization.status',\n",
       "  <fhirclient.r4models.elementdefinition.ElementDefinition at 0x11f1cfeb8>,\n",
       "  'https://build.fhir.org/immunization-definitions.html#Immunization.status'),\n",
       " (<fhirclient.r4models.elementdefinition.ElementDefinition at 0x11f193550>,\n",
       "  <fhirclient.r4models.valueset.ValueSet at 0x11f3b59b0>,\n",
       "  'http://hl7.org/fhir/us/core/StructureDefinition-us-core-smokingstatus-definitions.html#Observation.status',\n",
       "  None,\n",
       "  'https://build.fhir.org/immunization-definitions.html#Immunization.status'),\n",
       " (<fhirclient.r4models.elementdefinition.ElementDefinition at 0x11e395208>,\n",
       "  <fhirclient.r4models.valueset.ValueSet at 0x11f1abc88>,\n",
       "  'http://hl7.org/fhir/us/core/StructureDefinition-us-core-documentreference-definitions.html#DocumentReference.status',\n",
       "  <fhirclient.r4models.elementdefinition.ElementDefinition at 0x11f46b8d0>,\n",
       "  'https://build.fhir.org/documentreference-definitions.html#DocumentReference.status'),\n",
       " (<fhirclient.r4models.elementdefinition.ElementDefinition at 0x11e3955f8>,\n",
       "  <fhirclient.r4models.valueset.ValueSet at 0x11f484198>,\n",
       "  'http://hl7.org/fhir/us/core/StructureDefinition-us-core-documentreference-definitions.html#DocumentReference.type',\n",
       "  <fhirclient.r4models.elementdefinition.ElementDefinition at 0x11f491080>,\n",
       "  'https://build.fhir.org/documentreference-definitions.html#DocumentReference.type'),\n",
       " (<fhirclient.r4models.elementdefinition.ElementDefinition at 0x11f1b4a58>,\n",
       "  None,\n",
       "  'http://hl7.org/fhir/us/core/StructureDefinition-us-core-documentreference-definitions.html#DocumentReference.content.attachment.contentType',\n",
       "  None,\n",
       "  'https://build.fhir.org/documentreference-definitions.html#DocumentReference.type'),\n",
       " (<fhirclient.r4models.elementdefinition.ElementDefinition at 0x11f4e82b0>,\n",
       "  <fhirclient.r4models.valueset.ValueSet at 0x11f3f8ba8>,\n",
       "  'http://hl7.org/fhir/us/core/StructureDefinition-new-us-core-diagnosticreport-definitions.html#DiagnosticReport.status',\n",
       "  None,\n",
       "  'https://build.fhir.org/documentreference-definitions.html#DocumentReference.type'),\n",
       " (<fhirclient.r4models.elementdefinition.ElementDefinition at 0x11f4d2208>,\n",
       "  None,\n",
       "  'http://hl7.org/fhir/us/core/StructureDefinition-us-core-race-definitions.html#Extension.extension.valueCoding',\n",
       "  None,\n",
       "  'https://build.fhir.org/documentreference-definitions.html#DocumentReference.type'),\n",
       " (<fhirclient.r4models.elementdefinition.ElementDefinition at 0x11f4d26a0>,\n",
       "  None,\n",
       "  'http://hl7.org/fhir/us/core/StructureDefinition-us-core-race-definitions.html#Extension.extension.valueCoding',\n",
       "  None,\n",
       "  'https://build.fhir.org/documentreference-definitions.html#DocumentReference.type'),\n",
       " (<fhirclient.r4models.elementdefinition.ElementDefinition at 0x11f44b6d8>,\n",
       "  <fhirclient.r4models.valueset.ValueSet at 0x11f5d6208>,\n",
       "  'http://hl7.org/fhir/us/core/StructureDefinition-us-core-medicationrequest-definitions.html#MedicationRequest.status',\n",
       "  <fhirclient.r4models.elementdefinition.ElementDefinition at 0x11f5e3f28>,\n",
       "  'https://build.fhir.org/medicationrequest-definitions.html#MedicationRequest.status'),\n",
       " (<fhirclient.r4models.elementdefinition.ElementDefinition at 0x11f569ba8>,\n",
       "  <fhirclient.r4models.valueset.ValueSet at 0x11f56c860>,\n",
       "  'http://hl7.org/fhir/us/core/StructureDefinition-us-core-diagnosticreport-definitions.html#DiagnosticReport.status',\n",
       "  <fhirclient.r4models.elementdefinition.ElementDefinition at 0x11f62fc88>,\n",
       "  'https://build.fhir.org/diagnosticreport-definitions.html#DiagnosticReport.status'),\n",
       " (<fhirclient.r4models.elementdefinition.ElementDefinition at 0x11f70dc50>,\n",
       "  <fhirclient.r4models.valueset.ValueSet at 0x11f68ec88>,\n",
       "  'http://hl7.org/fhir/us/core/StructureDefinition-us-core-condition-definitions.html#Condition.verificationStatus',\n",
       "  <fhirclient.r4models.elementdefinition.ElementDefinition at 0x11f69a358>,\n",
       "  'https://build.fhir.org/condition-definitions.html#Condition.verificationStatus'),\n",
       " (<fhirclient.r4models.elementdefinition.ElementDefinition at 0x11f701e10>,\n",
       "  <fhirclient.r4models.valueset.ValueSet at 0x11f6196a0>,\n",
       "  'http://hl7.org/fhir/us/core/StructureDefinition-us-core-encounter-definitions.html#Encounter.status',\n",
       "  <fhirclient.r4models.elementdefinition.ElementDefinition at 0x120848be0>,\n",
       "  'https://build.fhir.org/encounter-definitions.html#Encounter.status'),\n",
       " (<fhirclient.r4models.elementdefinition.ElementDefinition at 0x12094cf60>,\n",
       "  <fhirclient.r4models.valueset.ValueSet at 0x1208dd400>,\n",
       "  'http://hl7.org/fhir/us/core/StructureDefinition-us-core-procedure-definitions.html#Procedure.status',\n",
       "  <fhirclient.r4models.elementdefinition.ElementDefinition at 0x120965dd8>,\n",
       "  'https://build.fhir.org/procedure-definitions.html#Procedure.status'),\n",
       " (<fhirclient.r4models.elementdefinition.ElementDefinition at 0x11f7ba198>,\n",
       "  <fhirclient.r4models.valueset.ValueSet at 0x1208e0710>,\n",
       "  'http://hl7.org/fhir/us/core/StructureDefinition-us-core-observationresults-definitions.html#Observation.status',\n",
       "  None,\n",
       "  'https://build.fhir.org/procedure-definitions.html#Procedure.status'),\n",
       " (<fhirclient.r4models.elementdefinition.ElementDefinition at 0x1208f42e8>,\n",
       "  <fhirclient.r4models.valueset.ValueSet at 0x1209166d8>,\n",
       "  'http://hl7.org/fhir/us/core/StructureDefinition-us-core-practitionerrole-definitions.html#PractitionerRole.telecom.system',\n",
       "  None,\n",
       "  'https://build.fhir.org/procedure-definitions.html#Procedure.status'),\n",
       " (<fhirclient.r4models.elementdefinition.ElementDefinition at 0x120a84780>,\n",
       "  None,\n",
       "  'http://hl7.org/fhir/us/core/StructureDefinition-us-core-careplan-definitions.html#CarePlan.text.status',\n",
       "  None,\n",
       "  'https://build.fhir.org/procedure-definitions.html#Procedure.status'),\n",
       " (<fhirclient.r4models.elementdefinition.ElementDefinition at 0x120a85320>,\n",
       "  <fhirclient.r4models.valueset.ValueSet at 0x120ac1208>,\n",
       "  'http://hl7.org/fhir/us/core/StructureDefinition-us-core-careplan-definitions.html#CarePlan.status',\n",
       "  <fhirclient.r4models.elementdefinition.ElementDefinition at 0x120accfd0>,\n",
       "  'https://build.fhir.org/careplan-definitions.html#CarePlan.status'),\n",
       " (<fhirclient.r4models.elementdefinition.ElementDefinition at 0x120a85358>,\n",
       "  <fhirclient.r4models.valueset.ValueSet at 0x120b49438>,\n",
       "  'http://hl7.org/fhir/us/core/StructureDefinition-us-core-careplan-definitions.html#CarePlan.intent',\n",
       "  <fhirclient.r4models.elementdefinition.ElementDefinition at 0x1208e5390>,\n",
       "  'https://build.fhir.org/careplan-definitions.html#CarePlan.intent'),\n",
       " (<fhirclient.r4models.elementdefinition.ElementDefinition at 0x11f7afd30>,\n",
       "  <fhirclient.r4models.valueset.ValueSet at 0x11f7a7a90>,\n",
       "  'http://hl7.org/fhir/us/core/StructureDefinition-us-core-goal-definitions.html#Goal.lifecycleStatus',\n",
       "  <fhirclient.r4models.elementdefinition.ElementDefinition at 0x120a3fef0>,\n",
       "  'https://build.fhir.org/goal-definitions.html#Goal.lifecycleStatus'),\n",
       " (<fhirclient.r4models.elementdefinition.ElementDefinition at 0x12090cda0>,\n",
       "  None,\n",
       "  'http://hl7.org/fhir/us/core/StructureDefinition-us-core-ethnicity-definitions.html#Extension.extension.valueCoding',\n",
       "  None,\n",
       "  'https://build.fhir.org/goal-definitions.html#Goal.lifecycleStatus'),\n",
       " (<fhirclient.r4models.elementdefinition.ElementDefinition at 0x12090f278>,\n",
       "  None,\n",
       "  'http://hl7.org/fhir/us/core/StructureDefinition-us-core-ethnicity-definitions.html#Extension.extension.valueCoding',\n",
       "  None,\n",
       "  'https://build.fhir.org/goal-definitions.html#Goal.lifecycleStatus'),\n",
       " (<fhirclient.r4models.elementdefinition.ElementDefinition at 0x120b4ae80>,\n",
       "  <fhirclient.r4models.valueset.ValueSet at 0x120b5e358>,\n",
       "  'http://hl7.org/fhir/us/core/StructureDefinition-us-core-allergyintolerance-definitions.html#AllergyIntolerance.verificationStatus',\n",
       "  <fhirclient.r4models.elementdefinition.ElementDefinition at 0x120ba72e8>,\n",
       "  'https://build.fhir.org/allergyintolerance-definitions.html#AllergyIntolerance.verificationStatus')]"
      ]
     },
     "execution_count": 53,
     "metadata": {},
     "output_type": "execute_result"
    }
   ],
   "source": [
    "j_list = []    \n",
    "for i in ig_files:\n",
    "    sd_dict = open_file(ig_path,i)\n",
    "    try:\n",
    "        core_sd_dict = open_file(core_path,i.replace(\"-us-core\",\"\"))\n",
    "    except FileNotFoundError:\n",
    "        pass\n",
    "    try:\n",
    "        sd = SD.StructureDefinition(sd_dict)\n",
    "        diff_e = [i.path for i in sd.differential.element]\n",
    "        for j in sd.snapshot.element:\n",
    "            if j.min == 1 and j.binding and j.path in diff_e:\n",
    "                j_url = f'{canon}{i.replace(\".json\",\"-definitions.html#\")}{j.path}'\n",
    "                if j.binding.strength == 'required' and j.min ==1:\n",
    "                    vs = expand(j.binding.valueSet)\n",
    "                    try:\n",
    "                        core_sd = SD.StructureDefinition(core_sd_dict)\n",
    "                        j_core = next(k for k in core_sd.snapshot.element if k.path == j.path)\n",
    "                        j_core_url = f'https://build.fhir.org/{j.path.split(\".\")[0].lower()}-definitions.html#{j.path}'\n",
    "                    except StopIteration:\n",
    "                        j_core = None\n",
    "                    j_list.append((j,vs,j_url,j_core, j_core_url))\n",
    "    except FHIRValidationError as e:\n",
    "        print(e)\n",
    "    except AttributeError:\n",
    "        pass \n",
    "j_list"
   ]
  },
  {
   "cell_type": "markdown",
   "metadata": {},
   "source": [
    "### Using Jinja2 Template create md file for summary view"
   ]
  },
  {
   "cell_type": "code",
   "execution_count": 54,
   "metadata": {},
   "outputs": [
    {
     "data": {
      "text/plain": [
       "[(<fhirclient.r4models.elementdefinition.ElementDefinition at 0x11d726dd8>,\n",
       "  <fhirclient.r4models.valueset.ValueSet at 0x118410ba8>,\n",
       "  'http://hl7.org/fhir/us/core/StructureDefinition-us-core-careteam-definitions.html#CareTeam.status',\n",
       "  <fhirclient.r4models.elementdefinition.ElementDefinition at 0x11e757470>,\n",
       "  'https://build.fhir.org/careteam-definitions.html#CareTeam.status'),\n",
       " (<fhirclient.r4models.elementdefinition.ElementDefinition at 0x11d7b7710>,\n",
       "  <fhirclient.r4models.valueset.ValueSet at 0x11db9a0b8>,\n",
       "  'http://hl7.org/fhir/us/core/StructureDefinition-us-core-medicationstatement-definitions.html#MedicationStatement.status',\n",
       "  <fhirclient.r4models.elementdefinition.ElementDefinition at 0x11dc0fc88>,\n",
       "  'https://build.fhir.org/medicationstatement-definitions.html#MedicationStatement.status',\n",
       "  'unknown'),\n",
       " (<fhirclient.r4models.elementdefinition.ElementDefinition at 0x11d7acd68>,\n",
       "  <fhirclient.r4models.valueset.ValueSet at 0x11f185400>,\n",
       "  'http://hl7.org/fhir/us/core/StructureDefinition-us-core-patient-definitions.html#Patient.telecom.system',\n",
       "  None,\n",
       "  'https://build.fhir.org/medicationstatement-definitions.html#MedicationStatement.status',\n",
       "  'other'),\n",
       " (<fhirclient.r4models.elementdefinition.ElementDefinition at 0x11f16e390>,\n",
       "  <fhirclient.r4models.valueset.ValueSet at 0x11e25d780>,\n",
       "  'http://hl7.org/fhir/us/core/StructureDefinition-us-core-patient-definitions.html#Patient.gender',\n",
       "  <fhirclient.r4models.elementdefinition.ElementDefinition at 0x11e691cc0>,\n",
       "  'https://build.fhir.org/patient-definitions.html#Patient.gender',\n",
       "  'other',\n",
       "  'unknown'),\n",
       " (<fhirclient.r4models.elementdefinition.ElementDefinition at 0x11e394400>,\n",
       "  <fhirclient.r4models.valueset.ValueSet at 0x11f1c2080>,\n",
       "  'http://hl7.org/fhir/us/core/StructureDefinition-us-core-immunization-definitions.html#Immunization.status',\n",
       "  <fhirclient.r4models.elementdefinition.ElementDefinition at 0x11f1cfeb8>,\n",
       "  'https://build.fhir.org/immunization-definitions.html#Immunization.status'),\n",
       " (<fhirclient.r4models.elementdefinition.ElementDefinition at 0x11f193550>,\n",
       "  <fhirclient.r4models.valueset.ValueSet at 0x11f3b59b0>,\n",
       "  'http://hl7.org/fhir/us/core/StructureDefinition-us-core-smokingstatus-definitions.html#Observation.status',\n",
       "  None,\n",
       "  'https://build.fhir.org/immunization-definitions.html#Immunization.status',\n",
       "  'unknown'),\n",
       " (<fhirclient.r4models.elementdefinition.ElementDefinition at 0x11e395208>,\n",
       "  <fhirclient.r4models.valueset.ValueSet at 0x11f1abc88>,\n",
       "  'http://hl7.org/fhir/us/core/StructureDefinition-us-core-documentreference-definitions.html#DocumentReference.status',\n",
       "  <fhirclient.r4models.elementdefinition.ElementDefinition at 0x11f46b8d0>,\n",
       "  'https://build.fhir.org/documentreference-definitions.html#DocumentReference.status'),\n",
       " (<fhirclient.r4models.elementdefinition.ElementDefinition at 0x11e3955f8>,\n",
       "  <fhirclient.r4models.valueset.ValueSet at 0x11f484198>,\n",
       "  'http://hl7.org/fhir/us/core/StructureDefinition-us-core-documentreference-definitions.html#DocumentReference.type',\n",
       "  <fhirclient.r4models.elementdefinition.ElementDefinition at 0x11f491080>,\n",
       "  'https://build.fhir.org/documentreference-definitions.html#DocumentReference.type'),\n",
       " (<fhirclient.r4models.elementdefinition.ElementDefinition at 0x11f1b4a58>,\n",
       "  None,\n",
       "  'http://hl7.org/fhir/us/core/StructureDefinition-us-core-documentreference-definitions.html#DocumentReference.content.attachment.contentType',\n",
       "  None,\n",
       "  'https://build.fhir.org/documentreference-definitions.html#DocumentReference.type'),\n",
       " (<fhirclient.r4models.elementdefinition.ElementDefinition at 0x11f4e82b0>,\n",
       "  <fhirclient.r4models.valueset.ValueSet at 0x11f3f8ba8>,\n",
       "  'http://hl7.org/fhir/us/core/StructureDefinition-new-us-core-diagnosticreport-definitions.html#DiagnosticReport.status',\n",
       "  None,\n",
       "  'https://build.fhir.org/documentreference-definitions.html#DocumentReference.type',\n",
       "  'unknown'),\n",
       " (<fhirclient.r4models.elementdefinition.ElementDefinition at 0x11f4d2208>,\n",
       "  None,\n",
       "  'http://hl7.org/fhir/us/core/StructureDefinition-us-core-race-definitions.html#Extension.extension.valueCoding',\n",
       "  None,\n",
       "  'https://build.fhir.org/documentreference-definitions.html#DocumentReference.type'),\n",
       " (<fhirclient.r4models.elementdefinition.ElementDefinition at 0x11f4d26a0>,\n",
       "  None,\n",
       "  'http://hl7.org/fhir/us/core/StructureDefinition-us-core-race-definitions.html#Extension.extension.valueCoding',\n",
       "  None,\n",
       "  'https://build.fhir.org/documentreference-definitions.html#DocumentReference.type'),\n",
       " (<fhirclient.r4models.elementdefinition.ElementDefinition at 0x11f44b6d8>,\n",
       "  <fhirclient.r4models.valueset.ValueSet at 0x11f5d6208>,\n",
       "  'http://hl7.org/fhir/us/core/StructureDefinition-us-core-medicationrequest-definitions.html#MedicationRequest.status',\n",
       "  <fhirclient.r4models.elementdefinition.ElementDefinition at 0x11f5e3f28>,\n",
       "  'https://build.fhir.org/medicationrequest-definitions.html#MedicationRequest.status',\n",
       "  'unknown'),\n",
       " (<fhirclient.r4models.elementdefinition.ElementDefinition at 0x11f569ba8>,\n",
       "  <fhirclient.r4models.valueset.ValueSet at 0x11f56c860>,\n",
       "  'http://hl7.org/fhir/us/core/StructureDefinition-us-core-diagnosticreport-definitions.html#DiagnosticReport.status',\n",
       "  <fhirclient.r4models.elementdefinition.ElementDefinition at 0x11f62fc88>,\n",
       "  'https://build.fhir.org/diagnosticreport-definitions.html#DiagnosticReport.status',\n",
       "  'unknown'),\n",
       " (<fhirclient.r4models.elementdefinition.ElementDefinition at 0x11f70dc50>,\n",
       "  <fhirclient.r4models.valueset.ValueSet at 0x11f68ec88>,\n",
       "  'http://hl7.org/fhir/us/core/StructureDefinition-us-core-condition-definitions.html#Condition.verificationStatus',\n",
       "  <fhirclient.r4models.elementdefinition.ElementDefinition at 0x11f69a358>,\n",
       "  'https://build.fhir.org/condition-definitions.html#Condition.verificationStatus'),\n",
       " (<fhirclient.r4models.elementdefinition.ElementDefinition at 0x11f701e10>,\n",
       "  <fhirclient.r4models.valueset.ValueSet at 0x11f6196a0>,\n",
       "  'http://hl7.org/fhir/us/core/StructureDefinition-us-core-encounter-definitions.html#Encounter.status',\n",
       "  <fhirclient.r4models.elementdefinition.ElementDefinition at 0x120848be0>,\n",
       "  'https://build.fhir.org/encounter-definitions.html#Encounter.status',\n",
       "  'unknown'),\n",
       " (<fhirclient.r4models.elementdefinition.ElementDefinition at 0x12094cf60>,\n",
       "  <fhirclient.r4models.valueset.ValueSet at 0x1208dd400>,\n",
       "  'http://hl7.org/fhir/us/core/StructureDefinition-us-core-procedure-definitions.html#Procedure.status',\n",
       "  <fhirclient.r4models.elementdefinition.ElementDefinition at 0x120965dd8>,\n",
       "  'https://build.fhir.org/procedure-definitions.html#Procedure.status',\n",
       "  'unknown'),\n",
       " (<fhirclient.r4models.elementdefinition.ElementDefinition at 0x11f7ba198>,\n",
       "  <fhirclient.r4models.valueset.ValueSet at 0x1208e0710>,\n",
       "  'http://hl7.org/fhir/us/core/StructureDefinition-us-core-observationresults-definitions.html#Observation.status',\n",
       "  None,\n",
       "  'https://build.fhir.org/procedure-definitions.html#Procedure.status',\n",
       "  'unknown'),\n",
       " (<fhirclient.r4models.elementdefinition.ElementDefinition at 0x1208f42e8>,\n",
       "  <fhirclient.r4models.valueset.ValueSet at 0x1209166d8>,\n",
       "  'http://hl7.org/fhir/us/core/StructureDefinition-us-core-practitionerrole-definitions.html#PractitionerRole.telecom.system',\n",
       "  None,\n",
       "  'https://build.fhir.org/procedure-definitions.html#Procedure.status',\n",
       "  'other'),\n",
       " (<fhirclient.r4models.elementdefinition.ElementDefinition at 0x120a84780>,\n",
       "  None,\n",
       "  'http://hl7.org/fhir/us/core/StructureDefinition-us-core-careplan-definitions.html#CarePlan.text.status',\n",
       "  None,\n",
       "  'https://build.fhir.org/procedure-definitions.html#Procedure.status'),\n",
       " (<fhirclient.r4models.elementdefinition.ElementDefinition at 0x120a85320>,\n",
       "  <fhirclient.r4models.valueset.ValueSet at 0x120ac1208>,\n",
       "  'http://hl7.org/fhir/us/core/StructureDefinition-us-core-careplan-definitions.html#CarePlan.status',\n",
       "  <fhirclient.r4models.elementdefinition.ElementDefinition at 0x120accfd0>,\n",
       "  'https://build.fhir.org/careplan-definitions.html#CarePlan.status',\n",
       "  'unknown'),\n",
       " (<fhirclient.r4models.elementdefinition.ElementDefinition at 0x120a85358>,\n",
       "  <fhirclient.r4models.valueset.ValueSet at 0x120b49438>,\n",
       "  'http://hl7.org/fhir/us/core/StructureDefinition-us-core-careplan-definitions.html#CarePlan.intent',\n",
       "  <fhirclient.r4models.elementdefinition.ElementDefinition at 0x1208e5390>,\n",
       "  'https://build.fhir.org/careplan-definitions.html#CarePlan.intent'),\n",
       " (<fhirclient.r4models.elementdefinition.ElementDefinition at 0x11f7afd30>,\n",
       "  <fhirclient.r4models.valueset.ValueSet at 0x11f7a7a90>,\n",
       "  'http://hl7.org/fhir/us/core/StructureDefinition-us-core-goal-definitions.html#Goal.lifecycleStatus',\n",
       "  <fhirclient.r4models.elementdefinition.ElementDefinition at 0x120a3fef0>,\n",
       "  'https://build.fhir.org/goal-definitions.html#Goal.lifecycleStatus'),\n",
       " (<fhirclient.r4models.elementdefinition.ElementDefinition at 0x12090cda0>,\n",
       "  None,\n",
       "  'http://hl7.org/fhir/us/core/StructureDefinition-us-core-ethnicity-definitions.html#Extension.extension.valueCoding',\n",
       "  None,\n",
       "  'https://build.fhir.org/goal-definitions.html#Goal.lifecycleStatus'),\n",
       " (<fhirclient.r4models.elementdefinition.ElementDefinition at 0x12090f278>,\n",
       "  None,\n",
       "  'http://hl7.org/fhir/us/core/StructureDefinition-us-core-ethnicity-definitions.html#Extension.extension.valueCoding',\n",
       "  None,\n",
       "  'https://build.fhir.org/goal-definitions.html#Goal.lifecycleStatus'),\n",
       " (<fhirclient.r4models.elementdefinition.ElementDefinition at 0x120b4ae80>,\n",
       "  <fhirclient.r4models.valueset.ValueSet at 0x120b5e358>,\n",
       "  'http://hl7.org/fhir/us/core/StructureDefinition-us-core-allergyintolerance-definitions.html#AllergyIntolerance.verificationStatus',\n",
       "  <fhirclient.r4models.elementdefinition.ElementDefinition at 0x120ba72e8>,\n",
       "  'https://build.fhir.org/allergyintolerance-definitions.html#AllergyIntolerance.verificationStatus')]"
      ]
     },
     "execution_count": 54,
     "metadata": {},
     "output_type": "execute_result"
    }
   ],
   "source": [
    "k_list = []\n",
    "for j in j_list:\n",
    "    try:\n",
    "     k_list.append(tuple(list(j) + [c.code for c in j[1].expansion.contains if c.code in ['unknown','other']]))\n",
    "    except AttributeError:\n",
    "        k_list.append(j)\n",
    "k_list"
   ]
  },
  {
   "cell_type": "code",
   "execution_count": 55,
   "metadata": {},
   "outputs": [
    {
     "data": {
      "text/markdown": [
       "## All Required Bindings for Required Coded Elements:\n",
       "\n",
       "\n",
       "1. **[CareTeam.status](http://hl7.org/fhir/us/core/StructureDefinition-us-core-careteam-definitions.html#CareTeam.status)**\n",
       "    - [base](https://build.fhir.org/careteam-definitions.html#CareTeam.status) cardinality= 0..1\n",
       "    - base valueSet = [http://hl7.org/fhir/ValueSet/care-team-status|4.0.0](http://hl7.org/fhir/ValueSet/care-team-status|4.0.0)\n",
       "    - base binding strength = required\n",
       "    - http://hl7.org/fhir/ValueSet/care-team-status\n",
       "    (\n",
       "     entered-in-error, \n",
       "     inactive, \n",
       "     active, \n",
       "     suspended, \n",
       "     proposed)\n",
       "1. **[MedicationStatement.status](http://hl7.org/fhir/us/core/StructureDefinition-us-core-medicationstatement-definitions.html#MedicationStatement.status)**\n",
       "    - [base](https://build.fhir.org/medicationstatement-definitions.html#MedicationStatement.status) cardinality= 1..1\n",
       "    - base valueSet = [http://hl7.org/fhir/ValueSet/medication-statement-status|4.0.0](http://hl7.org/fhir/ValueSet/medication-statement-status|4.0.0)\n",
       "    - base binding strength = required\n",
       "    - http://hl7.org/fhir/ValueSet/medication-statement-status\n",
       "    (\n",
       "     completed, \n",
       "     active, \n",
       "     entered-in-error, \n",
       "     on-hold, \n",
       "     **unknown**, \n",
       "     stopped, \n",
       "     intended, \n",
       "     not-taken)\n",
       "1. **[Patient.telecom.system](http://hl7.org/fhir/us/core/StructureDefinition-us-core-patient-definitions.html#Patient.telecom.system)**\n",
       "    - [base](https://build.fhir.org/medicationstatement-definitions.html#MedicationStatement.status) cardinality= ..\n",
       "    - http://hl7.org/fhir/ValueSet/contact-point-system\n",
       "    (\n",
       "     phone, \n",
       "     pager, \n",
       "     url, \n",
       "     fax, \n",
       "     other, \n",
       "     sms, \n",
       "     email)\n",
       "1. **[Patient.gender](http://hl7.org/fhir/us/core/StructureDefinition-us-core-patient-definitions.html#Patient.gender)**\n",
       "    - [base](https://build.fhir.org/patient-definitions.html#Patient.gender) cardinality= 0..1\n",
       "    - base valueSet = [http://hl7.org/fhir/ValueSet/administrative-gender|4.0.0](http://hl7.org/fhir/ValueSet/administrative-gender|4.0.0)\n",
       "    - base binding strength = required\n",
       "    - http://hl7.org/fhir/ValueSet/administrative-gender\n",
       "    (\n",
       "     male, \n",
       "     female, \n",
       "     other, \n",
       "     **unknown**)\n",
       "1. **[Immunization.status](http://hl7.org/fhir/us/core/StructureDefinition-us-core-immunization-definitions.html#Immunization.status)**\n",
       "    - [base](https://build.fhir.org/immunization-definitions.html#Immunization.status) cardinality= 1..1\n",
       "    - base valueSet = [http://hl7.org/fhir/ValueSet/immunization-status|4.0.0](http://hl7.org/fhir/ValueSet/immunization-status|4.0.0)\n",
       "    - base binding strength = required\n",
       "    - http://hl7.org/fhir/ValueSet/immunization-status\n",
       "    (\n",
       "     completed, \n",
       "     not-done, \n",
       "     entered-in-error)\n",
       "1. **[Observation.status](http://hl7.org/fhir/us/core/StructureDefinition-us-core-smokingstatus-definitions.html#Observation.status)**\n",
       "    - [base](https://build.fhir.org/immunization-definitions.html#Immunization.status) cardinality= ..\n",
       "    - http://hl7.org/fhir/ValueSet/observation-status\n",
       "    (\n",
       "     corrected, \n",
       "     amended, \n",
       "     final, \n",
       "     registered, \n",
       "     entered-in-error, \n",
       "     preliminary, \n",
       "     cancelled, \n",
       "     **unknown**)\n",
       "1. **[DocumentReference.status](http://hl7.org/fhir/us/core/StructureDefinition-us-core-documentreference-definitions.html#DocumentReference.status)**\n",
       "    - [base](https://build.fhir.org/documentreference-definitions.html#DocumentReference.status) cardinality= 1..1\n",
       "    - base valueSet = [http://hl7.org/fhir/ValueSet/document-reference-status|4.0.0](http://hl7.org/fhir/ValueSet/document-reference-status|4.0.0)\n",
       "    - base binding strength = required\n",
       "    - http://hl7.org/fhir/ValueSet/document-reference-status\n",
       "    (\n",
       "     entered-in-error, \n",
       "     superseded, \n",
       "     current)\n",
       "1. **[DocumentReference.type](http://hl7.org/fhir/us/core/StructureDefinition-us-core-documentreference-definitions.html#DocumentReference.type)**\n",
       "    - [base](https://build.fhir.org/documentreference-definitions.html#DocumentReference.type) cardinality= 0..1\n",
       "    - base valueSet = [http://hl7.org/fhir/ValueSet/c80-doc-typecodes](http://hl7.org/fhir/ValueSet/c80-doc-typecodes)\n",
       "    - base binding strength = preferred\n",
       "    - http://hl7.org/fhir/ValueSet/c80-doc-typecodes\n",
       "    (\n",
       "     36325-9, \n",
       "     39337-1, \n",
       "     42473-9, \n",
       "     47522-8, \n",
       "     43458-9, \n",
       "     39920-4, \n",
       "     34751-8, \n",
       "     37393-6, \n",
       "     38019-6, \n",
       "     46349-7, \n",
       "     57177-8, \n",
       "     39670-5, \n",
       "     30688-6, \n",
       "     24659-5, \n",
       "     37764-8, \n",
       "     58744-4, \n",
       "     24909-4, \n",
       "     39336-3, \n",
       "     43791-3, \n",
       "     51392-9)\n",
       "1. **[DocumentReference.content.attachment.contentType](http://hl7.org/fhir/us/core/StructureDefinition-us-core-documentreference-definitions.html#DocumentReference.content.attachment.contentType)**\n",
       "    - [base](https://build.fhir.org/documentreference-definitions.html#DocumentReference.type) cardinality= ..\n",
       "    - http://hl7.org/fhir/ValueSet/mimetypes|4.0.0\n",
       "1. **[DiagnosticReport.status](http://hl7.org/fhir/us/core/StructureDefinition-new-us-core-diagnosticreport-definitions.html#DiagnosticReport.status)**\n",
       "    - [base](https://build.fhir.org/documentreference-definitions.html#DocumentReference.type) cardinality= ..\n",
       "    - http://hl7.org/fhir/ValueSet/diagnostic-report-status\n",
       "    (\n",
       "     registered, \n",
       "     cancelled, \n",
       "     partial, \n",
       "     entered-in-error, \n",
       "     **unknown**, \n",
       "     appended, \n",
       "     final, \n",
       "     preliminary, \n",
       "     corrected, \n",
       "     amended)\n",
       "1. **[Extension.extension.valueCoding](http://hl7.org/fhir/us/core/StructureDefinition-us-core-race-definitions.html#Extension.extension.valueCoding)**\n",
       "    - [base](https://build.fhir.org/documentreference-definitions.html#DocumentReference.type) cardinality= ..\n",
       "    - http://hl7.org/fhir/us/core/ValueSet/omb-race-category\n",
       "1. **[Extension.extension.valueCoding](http://hl7.org/fhir/us/core/StructureDefinition-us-core-race-definitions.html#Extension.extension.valueCoding)**\n",
       "    - [base](https://build.fhir.org/documentreference-definitions.html#DocumentReference.type) cardinality= ..\n",
       "    - http://hl7.org/fhir/us/core/ValueSet/detailed-race\n",
       "1. **[MedicationRequest.status](http://hl7.org/fhir/us/core/StructureDefinition-us-core-medicationrequest-definitions.html#MedicationRequest.status)**\n",
       "    - [base](https://build.fhir.org/medicationrequest-definitions.html#MedicationRequest.status) cardinality= 1..1\n",
       "    - base valueSet = [http://hl7.org/fhir/ValueSet/medicationrequest-status|4.0.0](http://hl7.org/fhir/ValueSet/medicationrequest-status|4.0.0)\n",
       "    - base binding strength = required\n",
       "    - http://hl7.org/fhir/ValueSet/medicationrequest-status\n",
       "    (\n",
       "     stopped, \n",
       "     active, \n",
       "     entered-in-error, \n",
       "     cancelled, \n",
       "     completed, \n",
       "     draft, \n",
       "     **unknown**, \n",
       "     on-hold)\n",
       "1. **[DiagnosticReport.status](http://hl7.org/fhir/us/core/StructureDefinition-us-core-diagnosticreport-definitions.html#DiagnosticReport.status)**\n",
       "    - [base](https://build.fhir.org/diagnosticreport-definitions.html#DiagnosticReport.status) cardinality= 1..1\n",
       "    - base valueSet = [http://hl7.org/fhir/ValueSet/diagnostic-report-status|4.0.0](http://hl7.org/fhir/ValueSet/diagnostic-report-status|4.0.0)\n",
       "    - base binding strength = required\n",
       "    - http://hl7.org/fhir/ValueSet/diagnostic-report-status\n",
       "    (\n",
       "     registered, \n",
       "     cancelled, \n",
       "     partial, \n",
       "     entered-in-error, \n",
       "     **unknown**, \n",
       "     appended, \n",
       "     final, \n",
       "     preliminary, \n",
       "     corrected, \n",
       "     amended)\n",
       "1. **[Condition.verificationStatus](http://hl7.org/fhir/us/core/StructureDefinition-us-core-condition-definitions.html#Condition.verificationStatus)**\n",
       "    - [base](https://build.fhir.org/condition-definitions.html#Condition.verificationStatus) cardinality= 0..1\n",
       "    - base valueSet = [http://hl7.org/fhir/ValueSet/condition-ver-status|4.0.0](http://hl7.org/fhir/ValueSet/condition-ver-status|4.0.0)\n",
       "    - base binding strength = required\n",
       "    - http://hl7.org/fhir/ValueSet/condition-ver-status\n",
       "    (\n",
       "     differential, \n",
       "     entered-in-error, \n",
       "     unconfirmed, \n",
       "     confirmed, \n",
       "     refuted, \n",
       "     provisional)\n",
       "1. **[Encounter.status](http://hl7.org/fhir/us/core/StructureDefinition-us-core-encounter-definitions.html#Encounter.status)**\n",
       "    - [base](https://build.fhir.org/encounter-definitions.html#Encounter.status) cardinality= 1..1\n",
       "    - base valueSet = [http://hl7.org/fhir/ValueSet/encounter-status|4.0.0](http://hl7.org/fhir/ValueSet/encounter-status|4.0.0)\n",
       "    - base binding strength = required\n",
       "    - http://hl7.org/fhir/ValueSet/encounter-status|4.0.0\n",
       "    (\n",
       "     planned, \n",
       "     **unknown**, \n",
       "     in-progress, \n",
       "     finished, \n",
       "     cancelled, \n",
       "     triaged, \n",
       "     arrived, \n",
       "     onleave, \n",
       "     entered-in-error)\n",
       "1. **[Procedure.status](http://hl7.org/fhir/us/core/StructureDefinition-us-core-procedure-definitions.html#Procedure.status)**\n",
       "    - [base](https://build.fhir.org/procedure-definitions.html#Procedure.status) cardinality= 1..1\n",
       "    - base valueSet = [http://hl7.org/fhir/ValueSet/event-status|4.0.0](http://hl7.org/fhir/ValueSet/event-status|4.0.0)\n",
       "    - base binding strength = required\n",
       "    - http://hl7.org/fhir/ValueSet/event-status\n",
       "    (\n",
       "     completed, \n",
       "     **unknown**, \n",
       "     not-done, \n",
       "     stopped, \n",
       "     entered-in-error, \n",
       "     on-hold, \n",
       "     preparation, \n",
       "     in-progress)\n",
       "1. **[Observation.status](http://hl7.org/fhir/us/core/StructureDefinition-us-core-observationresults-definitions.html#Observation.status)**\n",
       "    - [base](https://build.fhir.org/procedure-definitions.html#Procedure.status) cardinality= ..\n",
       "    - http://hl7.org/fhir/ValueSet/observation-status\n",
       "    (\n",
       "     corrected, \n",
       "     amended, \n",
       "     final, \n",
       "     registered, \n",
       "     entered-in-error, \n",
       "     preliminary, \n",
       "     cancelled, \n",
       "     **unknown**)\n",
       "1. **[PractitionerRole.telecom.system](http://hl7.org/fhir/us/core/StructureDefinition-us-core-practitionerrole-definitions.html#PractitionerRole.telecom.system)**\n",
       "    - [base](https://build.fhir.org/procedure-definitions.html#Procedure.status) cardinality= ..\n",
       "    - http://hl7.org/fhir/ValueSet/contact-point-system|4.0.0\n",
       "    (\n",
       "     phone, \n",
       "     pager, \n",
       "     url, \n",
       "     fax, \n",
       "     other, \n",
       "     sms, \n",
       "     email)\n",
       "1. **[CarePlan.text.status](http://hl7.org/fhir/us/core/StructureDefinition-us-core-careplan-definitions.html#CarePlan.text.status)**\n",
       "    - [base](https://build.fhir.org/procedure-definitions.html#Procedure.status) cardinality= ..\n",
       "    - http://hl7.org/fhir/us/core/ValueSet/us-core-narrative-status\n",
       "1. **[CarePlan.status](http://hl7.org/fhir/us/core/StructureDefinition-us-core-careplan-definitions.html#CarePlan.status)**\n",
       "    - [base](https://build.fhir.org/careplan-definitions.html#CarePlan.status) cardinality= 1..1\n",
       "    - base valueSet = [http://hl7.org/fhir/ValueSet/request-status|4.0.0](http://hl7.org/fhir/ValueSet/request-status|4.0.0)\n",
       "    - base binding strength = required\n",
       "    - http://hl7.org/fhir/ValueSet/request-status\n",
       "    (\n",
       "     active, \n",
       "     draft, \n",
       "     completed, \n",
       "     entered-in-error, \n",
       "     **unknown**, \n",
       "     on-hold, \n",
       "     revoked)\n",
       "1. **[CarePlan.intent](http://hl7.org/fhir/us/core/StructureDefinition-us-core-careplan-definitions.html#CarePlan.intent)**\n",
       "    - [base](https://build.fhir.org/careplan-definitions.html#CarePlan.intent) cardinality= 1..1\n",
       "    - base valueSet = [http://hl7.org/fhir/ValueSet/care-plan-intent|4.0.0](http://hl7.org/fhir/ValueSet/care-plan-intent|4.0.0)\n",
       "    - base binding strength = required\n",
       "    - http://hl7.org/fhir/ValueSet/care-plan-intent\n",
       "    (\n",
       "     proposal, \n",
       "     option, \n",
       "     plan, \n",
       "     order)\n",
       "1. **[Goal.lifecycleStatus](http://hl7.org/fhir/us/core/StructureDefinition-us-core-goal-definitions.html#Goal.lifecycleStatus)**\n",
       "    - [base](https://build.fhir.org/goal-definitions.html#Goal.lifecycleStatus) cardinality= 1..1\n",
       "    - base valueSet = [http://hl7.org/fhir/ValueSet/goal-status|4.0.0](http://hl7.org/fhir/ValueSet/goal-status|4.0.0)\n",
       "    - base binding strength = required\n",
       "    - http://hl7.org/fhir/ValueSet/goal-status\n",
       "    (\n",
       "     active, \n",
       "     completed, \n",
       "     rejected, \n",
       "     cancelled, \n",
       "     planned, \n",
       "     entered-in-error, \n",
       "     accepted, \n",
       "     on-hold, \n",
       "     proposed)\n",
       "1. **[Extension.extension.valueCoding](http://hl7.org/fhir/us/core/StructureDefinition-us-core-ethnicity-definitions.html#Extension.extension.valueCoding)**\n",
       "    - [base](https://build.fhir.org/goal-definitions.html#Goal.lifecycleStatus) cardinality= ..\n",
       "    - http://hl7.org/fhir/us/core/ValueSet/omb-ethnicity-category\n",
       "1. **[Extension.extension.valueCoding](http://hl7.org/fhir/us/core/StructureDefinition-us-core-ethnicity-definitions.html#Extension.extension.valueCoding)**\n",
       "    - [base](https://build.fhir.org/goal-definitions.html#Goal.lifecycleStatus) cardinality= ..\n",
       "    - http://hl7.org/fhir/us/core/ValueSet/detailed-ethnicity\n",
       "1. **[AllergyIntolerance.verificationStatus](http://hl7.org/fhir/us/core/StructureDefinition-us-core-allergyintolerance-definitions.html#AllergyIntolerance.verificationStatus)**\n",
       "    - [base](https://build.fhir.org/allergyintolerance-definitions.html#AllergyIntolerance.verificationStatus) cardinality= 0..1\n",
       "    - base valueSet = [http://hl7.org/fhir/ValueSet/allergyintolerance-verification|4.0.0](http://hl7.org/fhir/ValueSet/allergyintolerance-verification|4.0.0)\n",
       "    - base binding strength = required\n",
       "    - http://hl7.org/fhir/ValueSet/allergyintolerance-verification\n",
       "    (\n",
       "     confirmed, \n",
       "     refuted, \n",
       "     entered-in-error, \n",
       "     unconfirmed)"
      ],
      "text/plain": [
       "<IPython.core.display.Markdown object>"
      ]
     },
     "metadata": {},
     "output_type": "display_data"
    }
   ],
   "source": [
    "in_path = ''\n",
    "template_path = 'binding_summary_template4.j2'\n",
    "\n",
    "def markdown(text, *args, **kwargs):\n",
    "    return commonmark(text, *args, **kwargs)\n",
    "\n",
    "env = Environment(\n",
    "    loader=FileSystemLoader(searchpath = in_path),\n",
    "    autoescape=select_autoescape(['html','xml','xhtml','j2','md'])\n",
    "    )\n",
    "\n",
    "env.filters['markdown'] = markdown\n",
    "\n",
    "template = env.get_template(template_path)\n",
    "\n",
    "\n",
    "\n",
    "d = template.render(elements = k_list)\n",
    "display(Markdown(d))"
   ]
  },
  {
   "cell_type": "markdown",
   "metadata": {},
   "source": [
    "### write to file"
   ]
  },
  {
   "cell_type": "code",
   "execution_count": 56,
   "metadata": {},
   "outputs": [],
   "source": [
    "out_path = ''\n",
    "out_file = 'binding_summary5.md'\n",
    "\n",
    "def write_file(path, f_name, data): # write file\n",
    "    with open(f'{path}{f_name}', 'w') as f:\n",
    "        f.write(data)\n",
    "\n",
    "write_file(out_path,out_file,d)"
   ]
  },
  {
   "cell_type": "markdown",
   "metadata": {},
   "source": [
    "## Fin"
   ]
  },
  {
   "cell_type": "code",
   "execution_count": null,
   "metadata": {},
   "outputs": [],
   "source": []
  }
 ],
 "metadata": {
  "kernelspec": {
   "display_name": "Python 3",
   "language": "python",
   "name": "python3"
  },
  "language_info": {
   "codemirror_mode": {
    "name": "ipython",
    "version": 3
   },
   "file_extension": ".py",
   "mimetype": "text/x-python",
   "name": "python",
   "nbconvert_exporter": "python",
   "pygments_lexer": "ipython3",
   "version": "3.6.2"
  }
 },
 "nbformat": 4,
 "nbformat_minor": 2
}
