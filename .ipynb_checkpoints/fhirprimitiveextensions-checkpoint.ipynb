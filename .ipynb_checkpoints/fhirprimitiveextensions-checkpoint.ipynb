{
 "metadata": {
  "language_info": {
   "codemirror_mode": {
    "name": "ipython",
    "version": 3
   },
   "file_extension": ".py",
   "mimetype": "text/x-python",
   "name": "python",
   "nbconvert_exporter": "python",
   "pygments_lexer": "ipython3",
   "version": "3.7.1"
  },
  "orig_nbformat": 2,
  "kernelspec": {
   "name": "python371jvsc74a57bd0ebeadc18554c2629c665c746d7854b5da3a4d13209170200208b05d000b9b6d4",
   "display_name": "Python 3.7.1 32-bit"
  }
 },
 "nbformat": 4,
 "nbformat_minor": 2,
 "cells": [
  {
   "cell_type": "code",
   "execution_count": 26,
   "metadata": {},
   "outputs": [
    {
     "output_type": "stream",
     "name": "stdout",
     "text": [
      "{\n  \"start\": \"2021-06-19\"\n}\n"
     ]
    }
   ],
   "source": [
    "from fhir.resources import construct_fhir_element as genr\n",
    "p = genr('Period', dict(\n",
    "start = '2021-06-19',\n",
    "))\n",
    "print(p.json(indent=2))"
   ]
  },
  {
   "cell_type": "code",
   "execution_count": 50,
   "metadata": {},
   "outputs": [
    {
     "output_type": "stream",
     "name": "stdout",
     "text": [
      "{\n  \"url\": \"http://hl7.org/fhir/StructureDefinition/data-absent-reason\",\n  \"valueCode\": \"unknown\"\n}\n"
     ]
    }
   ],
   "source": [
    "my_ext = genr('Extension',{\n",
    "              \"url\": \"http://hl7.org/fhir/StructureDefinition/data-absent-reason\",                              \"valueCode\": \"unknown\" })\n",
    "print(my_ext.json(indent=2))"
   ]
  },
  {
   "cell_type": "code",
   "execution_count": 61,
   "metadata": {},
   "outputs": [
    {
     "output_type": "stream",
     "name": "stdout",
     "text": [
      "{\n  \"start\": \"2021-06-19\",\n  \"_start\": {\n    \"extension\": [\n      {\n        \"url\": \"http://hl7.org/fhir/StructureDefinition/data-absent-reason\",\n        \"valueCode\": \"unknown\"\n      }\n    ]\n  }\n}\n"
     ]
    }
   ],
   "source": [
    "p.start__ext = genr('FHIRPrimitiveExtension',  dict(\n",
    "    extension = [my_ext],\n",
    "))\n",
    "      \n",
    "print(p.json(indent=2))"
   ]
  },
  {
   "cell_type": "code",
   "execution_count": 59,
   "metadata": {},
   "outputs": [
    {
     "output_type": "stream",
     "name": "stdout",
     "text": [
      "Help on class FHIRPrimitiveExtension in module fhir.resources.fhirprimitiveextension:\n\nclass FHIRPrimitiveExtension(fhir.resources.fhirabstractmodel.FHIRAbstractModel)\n |  FHIRPrimitiveExtension(*, resource_type: str = 'FHIRPrimitiveExtension', fhir_comments: Union[str, List[str]] = None, id: fhir.resources.fhirtypes.String = None, extension: List[fhir.resources.fhirtypes.ExtensionType] = None) -> None\n |  \n |  Method resolution order:\n |      FHIRPrimitiveExtension\n |      fhir.resources.fhirabstractmodel.FHIRAbstractModel\n |      pydantic.main.BaseModel\n |      pydantic.utils.Representation\n |      abc.ABC\n |      builtins.object\n |  \n |  Class methods defined here:\n |  \n |  validate_extension_or_fhir_comment_required(values: Dict[str, Any]) -> Dict[str, Any] from pydantic.main.ModelMetaclass\n |      Conditional Required Validation\n |  \n |  ----------------------------------------------------------------------\n |  Static methods defined here:\n |  \n |  __json_encoder__ = pydantic_encoder(obj: Any) -> Any\n |  \n |  ----------------------------------------------------------------------\n |  Data and other attributes defined here:\n |  \n |  __abstractmethods__ = frozenset()\n |  \n |  __annotations__ = {'extension': typing.List[fhir.resources.fhirtypes.E...\n |  \n |  __class_vars__ = set()\n |  \n |  __config__ = <class 'pydantic.main.Config'>\n |  \n |  \n |  __custom_root_type__ = False\n |  \n |  __fields__ = {'extension': ModelField(name='extension', type=Optional[...\n |  \n |  __hash__ = None\n |  \n |  __post_root_validators__ = []\n |  \n |  __pre_root_validators__ = [<function FHIRPrimitiveExtension.validate_e...\n |  \n |  __private_attributes__ = {}\n |  \n |  __schema_cache__ = {}\n |  \n |  __signature__ = <Signature (*, resource_type: str = 'FHIRPrimiti...sou...\n |  \n |  __validators__ = {}\n |  \n |  ----------------------------------------------------------------------\n |  Methods inherited from fhir.resources.fhirabstractmodel.FHIRAbstractModel:\n |  \n |  __init__(__pydantic_self__, **data: Any) -> None\n |  \n |  dict(self, *, include: Union[ForwardRef('AbstractSetIntStr'), ForwardRef('MappingIntStrAny')] = None, exclude: Union[ForwardRef('AbstractSetIntStr'), ForwardRef('MappingIntStrAny')] = None, by_alias: bool = None, skip_defaults: bool = None, exclude_unset: bool = False, exclude_defaults: bool = False, exclude_none: bool = None) -> 'DictStrAny'\n |  \n |  json(self, *, include: Union[ForwardRef('AbstractSetIntStr'), ForwardRef('MappingIntStrAny')] = None, exclude: Union[ForwardRef('AbstractSetIntStr'), ForwardRef('MappingIntStrAny')] = None, by_alias: bool = None, exclude_unset: bool = False, exclude_defaults: bool = False, exclude_none: bool = None, exclude_comments: bool = False, encoder: Union[Callable[[Any], Any], NoneType] = None, return_bytes: bool = False, **dumps_kwargs: Any) -> Union[str, bytes]\n |      Fully overridden method but codes are copied from BaseMode and business logic added\n |      in according to support ``fhir_comments``filter and other FHIR specific requirments.\n |  \n |  ----------------------------------------------------------------------\n |  Class methods inherited from fhir.resources.fhirabstractmodel.FHIRAbstractModel:\n |  \n |  add_root_validator(validator: Union[Callable[..., Any], classmethod], *, pre: bool = False, skip_on_failure: bool = False, allow_reuse: bool = True, index: int = -1) from pydantic.main.ModelMetaclass\n |  \n |  element_properties() -> Generator[pydantic.fields.ModelField, NoneType, NoneType] from pydantic.main.ModelMetaclass\n |  \n |  get_json_encoder() -> Callable[[Any], Any] from pydantic.main.ModelMetaclass\n |  \n |  get_resource_type() -> str from pydantic.main.ModelMetaclass\n |  \n |  has_resource_base() -> bool from pydantic.main.ModelMetaclass\n |  \n |  ----------------------------------------------------------------------\n |  Data and other attributes inherited from fhir.resources.fhirabstractmodel.FHIRAbstractModel:\n |  \n |  Config = <class 'fhir.resources.fhirabstractmodel.FHIRAbstractModel.Co...\n |  \n |  \n |  ----------------------------------------------------------------------\n |  Methods inherited from pydantic.main.BaseModel:\n |  \n |  __eq__(self, other: Any) -> bool\n |      Return self==value.\n |  \n |  __getstate__(self) -> 'DictAny'\n |  \n |  __iter__(self) -> 'TupleGenerator'\n |      so `dict(model)` works\n |  \n |  __repr_args__(self) -> 'ReprArgs'\n |      Returns the attributes to show in __str__, __repr__, and __pretty__ this is generally overridden.\n |      \n |      Can either return:\n |      * name - value pairs, e.g.: `[('foo_name', 'foo'), ('bar_name', ['b', 'a', 'r'])]`\n |      * or, just values, e.g.: `[(None, 'foo'), (None, ['b', 'a', 'r'])]`\n |  \n |  __setattr__(self, name, value)\n |      Implement setattr(self, name, value).\n |  \n |  __setstate__(self, state: 'DictAny') -> None\n |  \n |  copy(self: 'Model', *, include: Union[ForwardRef('AbstractSetIntStr'), ForwardRef('MappingIntStrAny')] = None, exclude: Union[ForwardRef('AbstractSetIntStr'), ForwardRef('MappingIntStrAny')] = None, update: 'DictStrAny' = None, deep: bool = False) -> 'Model'\n |      Duplicate a model, optionally choose which fields to include, exclude and change.\n |      \n |      :param include: fields to include in new model\n |      :param exclude: fields to exclude from new model, as with values this takes precedence over include\n |      :param update: values to change/add in the new model. Note: the data is not validated before creating\n |          the new model: you should trust this data\n |      :param deep: set to `True` to make a deep copy of the model\n |      :return: new model instance\n |  \n |  ----------------------------------------------------------------------\n |  Class methods inherited from pydantic.main.BaseModel:\n |  \n |  __get_validators__() -> 'CallableGenerator' from pydantic.main.ModelMetaclass\n |  \n |  construct(_fields_set: Union[ForwardRef('SetStr'), NoneType] = None, **values: Any) -> 'Model' from pydantic.main.ModelMetaclass\n |      Creates a new model setting __dict__ and __fields_set__ from trusted or pre-validated data.\n |      Default values are respected, but no other validation is performed.\n |      Behaves as if `Config.extra = 'allow'` was set since it adds all passed values\n |  \n |  from_orm(obj: Any) -> 'Model' from pydantic.main.ModelMetaclass\n |  \n |  parse_file(path: Union[str, pathlib.Path], *, content_type: str = None, encoding: str = 'utf8', proto: pydantic.parse.Protocol = None, allow_pickle: bool = False) -> 'Model' from pydantic.main.ModelMetaclass\n |  \n |  parse_obj(obj: Any) -> 'Model' from pydantic.main.ModelMetaclass\n |  \n |  parse_raw(b: Union[str, bytes], *, content_type: str = None, encoding: str = 'utf8', proto: pydantic.parse.Protocol = None, allow_pickle: bool = False) -> 'Model' from pydantic.main.ModelMetaclass\n |  \n |  schema(by_alias: bool = True, ref_template: str = '#/definitions/{model}') -> 'DictStrAny' from pydantic.main.ModelMetaclass\n |  \n |  schema_json(*, by_alias: bool = True, ref_template: str = '#/definitions/{model}', **dumps_kwargs: Any) -> str from pydantic.main.ModelMetaclass\n |  \n |  update_forward_refs(**localns: Any) -> None from pydantic.main.ModelMetaclass\n |      Try to update ForwardRefs on fields based on this Model, globalns and localns.\n |  \n |  validate(value: Any) -> 'Model' from pydantic.main.ModelMetaclass\n |  \n |  ----------------------------------------------------------------------\n |  Data descriptors inherited from pydantic.main.BaseModel:\n |  \n |  __dict__\n |      dictionary for instance variables (if defined)\n |  \n |  __fields_set__\n |  \n |  ----------------------------------------------------------------------\n |  Methods inherited from pydantic.utils.Representation:\n |  \n |  __pretty__(self, fmt: Callable[[Any], Any], **kwargs: Any) -> Generator[Any, NoneType, NoneType]\n |      Used by devtools (https://python-devtools.helpmanual.io/) to provide a human readable representations of objects\n |  \n |  __repr__(self) -> str\n |      Return repr(self).\n |  \n |  __repr_name__(self) -> str\n |      Name of the instance's class, used in __repr__.\n |  \n |  __repr_str__(self, join_str: str) -> str\n |  \n |  __str__(self) -> str\n |      Return str(self).\n\nNone\n"
     ]
    }
   ],
   "source": [
    "from fhir.resources.fhirprimitiveextension import FHIRPrimitiveExtension as F\n",
    "\n",
    "print(help(F))"
   ]
  }
 ]
}