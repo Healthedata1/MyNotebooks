{
 "cells": [
  {
   "cell_type": "markdown",
   "metadata": {},
   "source": [
    "\n",
    "## Search through Profile properties summaries using Jinja2 and Python Modele\n",
    "\n",
    "*USE Python 3.7 to maintain order of Json files*\n",
    "\n",
    "- Fetch SD file from IG\n",
    "- Spec_internals from IG Package.tgz\n",
    "- search for element properties\n",
    "\n",
    "\n",
    "\n",
    "*Note need a successful build to generate since based on ig output local file\n",
    "alternatively use package.files to generate*"
   ]
  },
  {
   "cell_type": "markdown",
   "metadata": {},
   "source": [
    "### import python modules including R4 fhirclient models"
   ]
  },
  {
   "cell_type": "code",
   "execution_count": 1,
   "metadata": {},
   "outputs": [],
   "source": [
    "from fhirclient.r4models import structuredefinition as SD\n",
    "import Summary_maker.title_map as tm\n",
    "import os, json, copy\n",
    "from pathlib import Path"
   ]
  },
  {
   "cell_type": "markdown",
   "metadata": {},
   "source": [
    "### Get file and return as dict"
   ]
  },
  {
   "cell_type": "markdown",
   "metadata": {},
   "source": [
    "### Write to file"
   ]
  },
  {
   "cell_type": "markdown",
   "metadata": {},
   "source": [
    "### Loop through profiles in source dir"
   ]
  },
  {
   "cell_type": "code",
   "execution_count": 2,
   "metadata": {},
   "outputs": [],
   "source": [
    "duplicate_elements = set()\n",
    "\n",
    "#us_core = '/Users/ehaas/.fhir/packages/hl7.fhir.us.core#dev/package'\n",
    "us_core = '/Users/ehaas/Documents/FHIR/US-Core-R4/input/resources'\n",
    "fhir_r4 = '/Users/ehaas/.fhir/packages/hl7.fhir.r4.core#4.0.1/package'\n",
    "#f_name = 'us-core-patient'\n",
    "#n_path = '/Users/ehaas/.fhir/packages/hl7.fhir.us.core#dev' # package file keeps disappearing\n",
    "#in_path = '//ERICS-AIR-2/ehaas/Documents/FHIR/US-Core-R4/output'  # use local build dir.\n",
    "us_core_files = [x for x in os.listdir(us_core) if x.startswith(\"StructureDefinition\")]\n",
    "us_core_files\n",
    "\n",
    "remove_list = ['alias', 'definition', 'isModifier', 'max', 'min', 'type']"
   ]
  },
  {
   "cell_type": "code",
   "execution_count": 3,
   "metadata": {},
   "outputs": [],
   "source": [
    "def open_file(in_path, f_name): # get files\n",
    "    with open(f'{in_path}/{f_name}', encoding=\"utf8\") as f:\n",
    "        r = f.read()\n",
    "        return(json.loads(r))"
   ]
  },
  {
   "cell_type": "code",
   "execution_count": 4,
   "metadata": {},
   "outputs": [],
   "source": [
    "def save_to_file(sd_dict,f_name): # save in resources folder\n",
    "\n",
    "    print('writing to file .......')\n",
    "    #write_path = '/Users/ehaas/Documents/FHIR/US-Core-R4/input/resources'\n",
    "    write_path = 'test_resources'\n",
    "    path = Path.cwd() / write_path  / f_name\n",
    "    path.write_text(json.dumps(sd_dict, indent=2))"
   ]
  },
  {
   "cell_type": "markdown",
   "metadata": {},
   "source": [
    "loop through all sd source files and compare to the fhir package snapshot\n",
    "\n",
    "print out the element the element you want to scrub out\n",
    "\n",
    "filter on the element properties you want"
   ]
  },
  {
   "cell_type": "code",
   "execution_count": 5,
   "metadata": {},
   "outputs": [
    {
     "name": "stdout",
     "output_type": "stream",
     "text": [
      "StructureDefinition-us-core-observation-lab.json\n",
      "*******************************************************************************\n",
      "******** US Core Laboratory Result Observation Profile ************\n",
      "*******************************************************************************\n",
      "base = http://hl7.org/fhir/StructureDefinition/Observation type = Observation\n",
      "******** Element = Observation ************\n",
      "******** Element = Observation.status ************\n",
      "******** Element = Observation.category ************\n",
      "******** Element = Observation.category ************\n",
      "Observation.category [{'code': 'CodeableConcept'}]\n"
     ]
    },
    {
     "ename": "TypeError",
     "evalue": "unhashable type: 'list'",
     "output_type": "error",
     "traceback": [
      "\u001b[0;31m---------------------------------------------------------------------------\u001b[0m",
      "\u001b[0;31mTypeError\u001b[0m                                 Traceback (most recent call last)",
      "\u001b[0;32m<ipython-input-5-db97dc581db0>\u001b[0m in \u001b[0;36m<module>\u001b[0;34m\u001b[0m\n\u001b[1;32m     38\u001b[0m                     \u001b[0mprint\u001b[0m\u001b[0;34m(\u001b[0m\u001b[0mbase_e\u001b[0m\u001b[0;34m[\u001b[0m\u001b[0;34m'id'\u001b[0m\u001b[0;34m]\u001b[0m\u001b[0;34m,\u001b[0m \u001b[0mbase_e\u001b[0m\u001b[0;34m[\u001b[0m\u001b[0;34m'type'\u001b[0m\u001b[0;34m]\u001b[0m\u001b[0;34m)\u001b[0m\u001b[0;34m\u001b[0m\u001b[0;34m\u001b[0m\u001b[0m\n\u001b[1;32m     39\u001b[0m                     \u001b[0;31m#get base SD\u001b[0m\u001b[0;34m\u001b[0m\u001b[0;34m\u001b[0m\u001b[0;34m\u001b[0m\u001b[0m\n\u001b[0;32m---> 40\u001b[0;31m                     \u001b[0mbase_datatype\u001b[0m \u001b[0;34m=\u001b[0m \u001b[0mopen_file\u001b[0m\u001b[0;34m(\u001b[0m\u001b[0mfhir_r4\u001b[0m\u001b[0;34m,\u001b[0m\u001b[0;34mf'StructureDefinition-{sd_dict[base_e[\"type\"]]}.json'\u001b[0m\u001b[0;34m)\u001b[0m\u001b[0;34m\u001b[0m\u001b[0;34m\u001b[0m\u001b[0m\n\u001b[0m\u001b[1;32m     41\u001b[0m                     \u001b[0mprint\u001b[0m\u001b[0;34m(\u001b[0m\u001b[0mbase_datatype\u001b[0m\u001b[0;34m[\u001b[0m\u001b[0;34m'title'\u001b[0m\u001b[0;34m]\u001b[0m\u001b[0;34m)\u001b[0m\u001b[0;34m\u001b[0m\u001b[0;34m\u001b[0m\u001b[0m\n\u001b[1;32m     42\u001b[0m                 \u001b[0;32mexcept\u001b[0m \u001b[0mKeyError\u001b[0m\u001b[0;34m:\u001b[0m\u001b[0;34m\u001b[0m\u001b[0;34m\u001b[0m\u001b[0m\n",
      "\u001b[0;31mTypeError\u001b[0m: unhashable type: 'list'"
     ]
    }
   ],
   "source": [
    "for i in us_core_files:\n",
    "    print(i)\n",
    "    constraints = {}\n",
    "    sd_dict = open_file(us_core,i)\n",
    "    if sd_dict['type'] != 'Extension':\n",
    "        print('*'*79)\n",
    "        print(f'******** {sd_dict[\"title\"]} ************')\n",
    "        print('*'*79)\n",
    "        print(f\"base = {sd_dict['baseDefinition']} type = {sd_dict['type']}\")\n",
    "        #get base SD\n",
    "        if sd_dict['baseDefinition'] == 'http://hl7.org/fhir/us/core/StructureDefinition/us-core-vital-signs':\n",
    "            base_dict = open_file(us_core,'StructureDefinition-us-core-vital-signs.json')\n",
    "            element_backbone = \"differential\"\n",
    "        elif sd_dict['baseDefinition'] == 'http://hl7.org/fhir/StructureDefinition/vitalsigns':\n",
    "            base_dict = open_file(fhir_r4,'StructureDefinition-vitalsigns.json')\n",
    "            element_backbone = \"snapshot\"\n",
    "            break\n",
    "        else:\n",
    "            base_dict = open_file(fhir_r4,f'StructureDefinition-{sd_dict[\"type\"]}.json')\n",
    "            element_backbone = \"snapshot\"\n",
    "        assert base_dict['url'] == sd_dict['baseDefinition']\n",
    "\n",
    "        #print(fhir_r4_sd.name,fhir_r4_sd.url) \n",
    "#         print(sd_dict['differential'].as_json())\n",
    "        diff_copy = copy.deepcopy(sd_dict['differential']['element'])\n",
    "        for el_index,e in enumerate(diff_copy):  #loop through all element properties in  and delete items from original\n",
    "            print(f'******** Element = {e[\"path\"]} ************')\n",
    "#             print(\"Before:\", json.dumps(e, indent=2))\n",
    "            for j in base_dict[element_backbone]['element']:  # loop through the base to find matching element\n",
    "                    if e['id'] == j['id']:\n",
    "                        base_e = j\n",
    "                        \n",
    "    \n",
    "            \n",
    "                        break     \n",
    "            if e['id'] != base_e[\"id\"]:\n",
    "                try:\n",
    "                    print(base_e['id'], base_e['type'])\n",
    "                    #get base datatype\n",
    "                    base_datatype = open_file(fhir_r4,f'StructureDefinition-{sd_dict[base_e[\"type\"]]}.json')\n",
    "                    print(base_datatype['title'])\n",
    "                except KeyError:\n",
    "\n",
    "                      print(base_e['id'])\n",
    "            for k,v in e.items():\n",
    "     \n",
    "                #print(f'k={k}, base_e[k]= {base_e[k]}')\n",
    "                try:\n",
    "                    assert k not in ['id','path']\n",
    "                    assert k in remove_list\n",
    "                    assert v==base_e[k]\n",
    "                    print(f'{k} = {v} IS THE SAME AS BASE = {base_e[k]}')\n",
    "                    sd_dict['differential']['element'][el_index].pop(k)\n",
    "\n",
    "                except KeyError as r:\n",
    "                    pass\n",
    "#                     print(f'k={k} NOT THE SAME')\n",
    "#                     print(r)\n",
    "                except AssertionError as r:\n",
    "                    pass\n",
    "#                     print(f'k={k} NOT THE SAME')\n",
    "#                     print(r)\n",
    "                # loop through the base to see if different\n",
    "#             print(\"After\", json.dumps( sd_dict['differential']['element'][el_index], indent=2))\n",
    "#         save_to_file(sd_dict,i)\n",
    "\n"
   ]
  }
 ],
 "metadata": {
  "kernelspec": {
   "display_name": "Python 3",
   "language": "python",
   "name": "python3"
  },
  "language_info": {
   "codemirror_mode": {
    "name": "ipython",
    "version": 3
   },
   "file_extension": ".py",
   "mimetype": "text/x-python",
   "name": "python",
   "nbconvert_exporter": "python",
   "pygments_lexer": "ipython3",
   "version": "3.7.3"
  }
 },
 "nbformat": 4,
 "nbformat_minor": 4
}
