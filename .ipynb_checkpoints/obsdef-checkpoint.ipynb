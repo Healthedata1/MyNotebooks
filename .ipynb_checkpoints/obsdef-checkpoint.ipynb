{
 "cells": [
  {
   "cell_type": "markdown",
   "metadata": {
    "inputHidden": false,
    "outputHidden": false
   },
   "source": [
    "## Using OperationDefinition to generate Observation instances\n",
    "\n",
    "See discussion on [Zulip](https://chat.fhir.org/#narrow/stream/179256-Orders-and.20Observation.20WG/topic/ObservationDefinition.20does.20not.20work.20for.20the.20simple.20stuff) regarding the common and simple need for a way to use [ObservationDefinition](http://build.fhir.org/observationdefinition.html) as table or spreadsheet to create Observation instances based on a few 'base' profiles.ObservationDefinition needs to be structured simply and flat enough to be able to directly transform into a table to contain the stuff you need for creating an Observation.\n",
    "\n",
    "The following proof of concept Python script demonstrates this.  It takes:\n",
    "\n",
    "1. patients results\n",
    "2. data about the test (i.e. observationdefinition) in the form of a CSV file and applies them to\n",
    "3. a common Observation template (i.e. a declared Observation Profile)\n",
    "\n",
    "to generates Observation instances.\n",
    "\n",
    "\n",
    "The set of data about the tests whether represented as a bundle or as a in a table is like a \"Dictionary of Observation type\" for use.  This is a shortcut to creating 100s or 1000s of individual profiles.\n",
    "\n",
    "This use case extends ObservationDefinition scope to include *both* for informing the contents of a Service Catalog or Instrument Specification as well as providing the constraints for the Observations.  This scope would overlap with StructureDefinition.\n",
    "\n",
    "**Skip down to [Create Observations](#another_cell) to see this in action  the first part is a bunch of Python code to set it up.**"
   ]
  },
  {
   "cell_type": "markdown",
   "metadata": {
    "inputHidden": false,
    "outputHidden": false
   },
   "source": [
    "General Python Instructions:\n",
    "Run in python 3.6\n",
    "\n",
    "Outline:\n",
    "    \n",
    "1. Read rows from ObservationDefinition(OD) spreadsheet representation to namedTuple\n",
    "2. Apply OD data to named profile (SD)\n",
    "3. Write/display/validate profile"
   ]
  },
  {
   "cell_type": "markdown",
   "metadata": {
    "inputHidden": false,
    "outputHidden": false
   },
   "source": [
    "## Imports"
   ]
  },
  {
   "cell_type": "code",
   "execution_count": 40,
   "metadata": {
    "inputHidden": false,
    "outputHidden": false
   },
   "outputs": [],
   "source": [
    "import json, os, sys, csv\n",
    "from datetime import datetime\n",
    "from collections import namedtuple\n",
    "from pandas import read_csv, DataFrame\n",
    "from json import dumps\n",
    "from requests import post, get\n",
    "from IPython.display import display, Markdown"
   ]
  },
  {
   "cell_type": "markdown",
   "metadata": {
    "inputHidden": false,
    "outputHidden": false
   },
   "source": [
    "## Global Variables "
   ]
  },
  {
   "cell_type": "code",
   "execution_count": 8,
   "metadata": {
    "inputHidden": false,
    "outputHidden": false
   },
   "outputs": [],
   "source": [
    "# in_file = '/Users/ehaas/Documents/Python/Notebooks/OD - od.csv'\n",
    "in_file = '/Users/ehaas/Documents/Python/MyNotebooks/OD_to_Obs.csv'\n",
    "sheet_name = 'od'\n",
    "now = f'{datetime.utcnow().isoformat()}Z'\n",
    "outfile = 'outfile'  # name of output file\n",
    "headers = {\n",
    "'Accept':'application/fhir+json',\n",
    "'Content-Type':'application/fhir+json'\n",
    "}\n",
    "fhir_test_server = 'http://test.fhir.org/r4'"
   ]
  },
  {
   "cell_type": "markdown",
   "metadata": {},
   "source": [
    "## Fetch data from csv file"
   ]
  },
  {
   "cell_type": "code",
   "execution_count": 9,
   "metadata": {
    "inputHidden": false,
    "outputHidden": false
   },
   "outputs": [],
   "source": [
    "# dataframes are a pain so will reload as a csv and\n",
    "# use named tuple structure\n",
    "def get_testinfo():\n",
    "    with open(in_file, encoding = \"ISO-8859-1\") as f:\n",
    "        reader = csv.reader(f)\n",
    "        top_row = next(reader)\n",
    "        # top_row = [t.lower().split(' ') for t in top_row]\n",
    "        # top_row = ['_'.join(t) for t in top_row]\n",
    "        # for t in top_row:\n",
    "            # print(t)\n",
    "        Data = namedtuple(\"Data\", top_row)\n",
    "        # next(reader) # skip 2nd row of definitions\n",
    "        data = [Data(*r) for r in reader]\n",
    "        return data\n",
    "\n",
    "    # using named tuple structure make getting data all nice n pretty like\n",
    "    # allow one to use dot notation like 'data[0].name'\n",
    "\n",
    "    #print(f'name = {data[0].Name}\\\n",
    "    #      \\ndescription = {data[0].Description}\\\n",
    "    #      \\ncode = {data[0].codeCoding_0_Code}')\n",
    "# d = get_testinfo()\n",
    "# print(d[0].OD_id)\n"
   ]
  },
  {
   "cell_type": "markdown",
   "metadata": {},
   "source": [
    "<a id='another_cell'></a>\n",
    "## Create Observations"
   ]
  },
  {
   "cell_type": "markdown",
   "metadata": {},
   "source": [
    "### Gather patient information (just a namedtuple for this demo instead of FHIR object)"
   ]
  },
  {
   "cell_type": "code",
   "execution_count": 10,
   "metadata": {
    "inputHidden": false,
    "outputHidden": false
   },
   "outputs": [
    {
     "name": "stdout",
     "output_type": "stream",
     "text": [
      "Patient Name = Jane Doe,  Patient Id = 1234\n"
     ]
    }
   ],
   "source": [
    "obs_list=[]\n",
    "# get patient (just a namedtuple for this demo instead of FHIR object)\n",
    "Patient = namedtuple('Patient','id name')\n",
    "patient = Patient('1234','Jane Doe')\n",
    "\n",
    "print(f'Patient Name = {patient.name},  Patient Id = {patient.id}')"
   ]
  },
  {
   "cell_type": "markdown",
   "metadata": {
    "inputHidden": false,
    "outputHidden": false
   },
   "source": [
    "### Preview ObservationDefinition Data about the test  from csv file"
   ]
  },
  {
   "cell_type": "code",
   "execution_count": 11,
   "metadata": {
    "inputHidden": false,
    "outputHidden": false
   },
   "outputs": [
    {
     "name": "stdout",
     "output_type": "stream",
     "text": [
      "Test=ObservationDefinition data:\n"
     ]
    },
    {
     "data": {
      "text/html": [
       "<div>\n",
       "<style scoped>\n",
       "    .dataframe tbody tr th:only-of-type {\n",
       "        vertical-align: middle;\n",
       "    }\n",
       "\n",
       "    .dataframe tbody tr th {\n",
       "        vertical-align: top;\n",
       "    }\n",
       "\n",
       "    .dataframe thead th {\n",
       "        text-align: right;\n",
       "    }\n",
       "</style>\n",
       "<table border=\"1\" class=\"dataframe\">\n",
       "  <thead>\n",
       "    <tr style=\"text-align: right;\">\n",
       "      <th></th>\n",
       "      <th>OD_id</th>\n",
       "      <th>OD_code_coding_0_code</th>\n",
       "      <th>OD_code_coding_0_display</th>\n",
       "      <th>OD_code_coding_0_system</th>\n",
       "      <th>OD_code_text</th>\n",
       "      <th>OD_identifier_0_value</th>\n",
       "      <th>OD_name</th>\n",
       "      <th>OD_qualifiedInterval_0_context_coding_0_code</th>\n",
       "      <th>OD_qualifiedInterval_0_range_high_code</th>\n",
       "      <th>OD_qualifiedInterval_0_range_high_system</th>\n",
       "      <th>OD_qualifiedInterval_0_range_high_unit</th>\n",
       "      <th>OD_qualifiedInterval_0_range_high_value</th>\n",
       "      <th>OD_qualifiedInterval_0_range_low_code</th>\n",
       "      <th>OD_qualifiedInterval_0_range_low_system</th>\n",
       "      <th>OD_qualifiedInterval_0_range_low_unit</th>\n",
       "      <th>OD_qualifiedInterval_0_range_low_value</th>\n",
       "      <th>OD_quantitativeDetails_customaryUnit_coding_0_code</th>\n",
       "      <th>OD_quantitativeDetails_customaryUnit_coding_0_system</th>\n",
       "      <th>OD_quantitativeDetails_unit_coding_0_code</th>\n",
       "      <th>OD_quantitativeDetails_unit_coding_0_system</th>\n",
       "    </tr>\n",
       "  </thead>\n",
       "  <tbody>\n",
       "    <tr>\n",
       "      <th>0</th>\n",
       "      <td>bg</td>\n",
       "      <td>2339-0</td>\n",
       "      <td>Glucose Bld-mCnc</td>\n",
       "      <td>http://loinc.org</td>\n",
       "      <td>Glucose Bld-mCnc</td>\n",
       "      <td>bg</td>\n",
       "      <td>Blood Glucose OperationDefinition</td>\n",
       "      <td>normal</td>\n",
       "      <td>mg/dL</td>\n",
       "      <td>mg/dL</td>\n",
       "      <td>http://unitsofmeasure.org</td>\n",
       "      <td>99</td>\n",
       "      <td>mg/dL</td>\n",
       "      <td>mg/dL</td>\n",
       "      <td>http://unitsofmeasure.org</td>\n",
       "      <td>70</td>\n",
       "      <td>mg/dL</td>\n",
       "      <td>http://unitsofmeasure.org</td>\n",
       "      <td>mg/dL</td>\n",
       "      <td>http://unitsofmeasure.org</td>\n",
       "    </tr>\n",
       "    <tr>\n",
       "      <th>1</th>\n",
       "      <td>bun</td>\n",
       "      <td>3094-0</td>\n",
       "      <td>BUN SerPl-mCnc</td>\n",
       "      <td>http://loinc.org</td>\n",
       "      <td>BUN SerPl-mCnc</td>\n",
       "      <td>bun</td>\n",
       "      <td>BUN OperationDefinition</td>\n",
       "      <td>normal</td>\n",
       "      <td>mg/dL</td>\n",
       "      <td>mg/dL</td>\n",
       "      <td>http://unitsofmeasure.org</td>\n",
       "      <td>20</td>\n",
       "      <td>mg/dL</td>\n",
       "      <td>mg/dL</td>\n",
       "      <td>http://unitsofmeasure.org</td>\n",
       "      <td>7</td>\n",
       "      <td>mg/dL</td>\n",
       "      <td>http://unitsofmeasure.org</td>\n",
       "      <td>mg/dL</td>\n",
       "      <td>http://unitsofmeasure.org</td>\n",
       "    </tr>\n",
       "    <tr>\n",
       "      <th>2</th>\n",
       "      <td>na</td>\n",
       "      <td>2951-2</td>\n",
       "      <td>Sodium SerPl-sCnc</td>\n",
       "      <td>http://loinc.org</td>\n",
       "      <td>Sodium SerPl-sCnc</td>\n",
       "      <td>na</td>\n",
       "      <td>Serum Sodium OperationDefinition</td>\n",
       "      <td>normal</td>\n",
       "      <td>mmol/L</td>\n",
       "      <td>mmol/L</td>\n",
       "      <td>http://unitsofmeasure.org</td>\n",
       "      <td>145</td>\n",
       "      <td>mmol/L</td>\n",
       "      <td>mmol/L</td>\n",
       "      <td>http://unitsofmeasure.org</td>\n",
       "      <td>135</td>\n",
       "      <td>mmol/L</td>\n",
       "      <td>http://unitsofmeasure.org</td>\n",
       "      <td>mmol/L</td>\n",
       "      <td>http://unitsofmeasure.org</td>\n",
       "    </tr>\n",
       "  </tbody>\n",
       "</table>\n",
       "</div>"
      ],
      "text/plain": [
       "  OD_id OD_code_coding_0_code OD_code_coding_0_display  \\\n",
       "0    bg                2339-0         Glucose Bld-mCnc   \n",
       "1   bun                3094-0           BUN SerPl-mCnc   \n",
       "2    na                2951-2        Sodium SerPl-sCnc   \n",
       "\n",
       "  OD_code_coding_0_system       OD_code_text OD_identifier_0_value  \\\n",
       "0        http://loinc.org   Glucose Bld-mCnc                    bg   \n",
       "1        http://loinc.org     BUN SerPl-mCnc                   bun   \n",
       "2        http://loinc.org  Sodium SerPl-sCnc                    na   \n",
       "\n",
       "                             OD_name  \\\n",
       "0  Blood Glucose OperationDefinition   \n",
       "1            BUN OperationDefinition   \n",
       "2   Serum Sodium OperationDefinition   \n",
       "\n",
       "  OD_qualifiedInterval_0_context_coding_0_code  \\\n",
       "0                                       normal   \n",
       "1                                       normal   \n",
       "2                                       normal   \n",
       "\n",
       "  OD_qualifiedInterval_0_range_high_code  \\\n",
       "0                                  mg/dL   \n",
       "1                                  mg/dL   \n",
       "2                                 mmol/L   \n",
       "\n",
       "  OD_qualifiedInterval_0_range_high_system  \\\n",
       "0                                    mg/dL   \n",
       "1                                    mg/dL   \n",
       "2                                   mmol/L   \n",
       "\n",
       "  OD_qualifiedInterval_0_range_high_unit  \\\n",
       "0              http://unitsofmeasure.org   \n",
       "1              http://unitsofmeasure.org   \n",
       "2              http://unitsofmeasure.org   \n",
       "\n",
       "   OD_qualifiedInterval_0_range_high_value  \\\n",
       "0                                       99   \n",
       "1                                       20   \n",
       "2                                      145   \n",
       "\n",
       "  OD_qualifiedInterval_0_range_low_code  \\\n",
       "0                                 mg/dL   \n",
       "1                                 mg/dL   \n",
       "2                                mmol/L   \n",
       "\n",
       "  OD_qualifiedInterval_0_range_low_system  \\\n",
       "0                                   mg/dL   \n",
       "1                                   mg/dL   \n",
       "2                                  mmol/L   \n",
       "\n",
       "  OD_qualifiedInterval_0_range_low_unit  \\\n",
       "0             http://unitsofmeasure.org   \n",
       "1             http://unitsofmeasure.org   \n",
       "2             http://unitsofmeasure.org   \n",
       "\n",
       "   OD_qualifiedInterval_0_range_low_value  \\\n",
       "0                                      70   \n",
       "1                                       7   \n",
       "2                                     135   \n",
       "\n",
       "  OD_quantitativeDetails_customaryUnit_coding_0_code  \\\n",
       "0                                              mg/dL   \n",
       "1                                              mg/dL   \n",
       "2                                             mmol/L   \n",
       "\n",
       "  OD_quantitativeDetails_customaryUnit_coding_0_system  \\\n",
       "0                          http://unitsofmeasure.org     \n",
       "1                          http://unitsofmeasure.org     \n",
       "2                          http://unitsofmeasure.org     \n",
       "\n",
       "  OD_quantitativeDetails_unit_coding_0_code  \\\n",
       "0                                     mg/dL   \n",
       "1                                     mg/dL   \n",
       "2                                    mmol/L   \n",
       "\n",
       "  OD_quantitativeDetails_unit_coding_0_system  \n",
       "0                   http://unitsofmeasure.org  \n",
       "1                   http://unitsofmeasure.org  \n",
       "2                   http://unitsofmeasure.org  "
      ]
     },
     "execution_count": 11,
     "metadata": {},
     "output_type": "execute_result"
    }
   ],
   "source": [
    "df = read_csv(in_file, encoding = \"ISO-8859-1\")\n",
    "# to convert to named tuple\n",
    "#Data = namedtuple('Data', df.columns)\n",
    "#data = [Data(*r[1:]) for r in df.itertuples() if r[0] > 0]\n",
    "print('Test=ObservationDefinition data:')\n",
    "df.dropna(axis='columns')"
   ]
  },
  {
   "cell_type": "markdown",
   "metadata": {},
   "source": [
    "###  Get Test Result Data - (just a dictionary or hash for this example)"
   ]
  },
  {
   "cell_type": "code",
   "execution_count": 12,
   "metadata": {
    "inputHidden": false,
    "outputHidden": false
   },
   "outputs": [
    {
     "name": "stdout",
     "output_type": "stream",
     "text": [
      "Test Result Values:\n"
     ]
    },
    {
     "data": {
      "text/html": [
       "<div>\n",
       "<style scoped>\n",
       "    .dataframe tbody tr th:only-of-type {\n",
       "        vertical-align: middle;\n",
       "    }\n",
       "\n",
       "    .dataframe tbody tr th {\n",
       "        vertical-align: top;\n",
       "    }\n",
       "\n",
       "    .dataframe thead th {\n",
       "        text-align: right;\n",
       "    }\n",
       "</style>\n",
       "<table border=\"1\" class=\"dataframe\">\n",
       "  <thead>\n",
       "    <tr style=\"text-align: right;\">\n",
       "      <th></th>\n",
       "      <th>Test Name</th>\n",
       "      <th>Value</th>\n",
       "      <th>TimeStamp</th>\n",
       "    </tr>\n",
       "  </thead>\n",
       "  <tbody>\n",
       "    <tr>\n",
       "      <th>0</th>\n",
       "      <td>bg</td>\n",
       "      <td>96.0</td>\n",
       "      <td>2019-01-23T22:48:10.155796Z</td>\n",
       "    </tr>\n",
       "    <tr>\n",
       "      <th>1</th>\n",
       "      <td>bun</td>\n",
       "      <td>20.0</td>\n",
       "      <td>2019-01-23T22:48:10.155796Z</td>\n",
       "    </tr>\n",
       "    <tr>\n",
       "      <th>2</th>\n",
       "      <td>na</td>\n",
       "      <td>135.0</td>\n",
       "      <td>2019-01-23T22:48:10.155796Z</td>\n",
       "    </tr>\n",
       "  </tbody>\n",
       "</table>\n",
       "</div>"
      ],
      "text/plain": [
       "  Test Name  Value                    TimeStamp\n",
       "0        bg   96.0  2019-01-23T22:48:10.155796Z\n",
       "1       bun   20.0  2019-01-23T22:48:10.155796Z\n",
       "2        na  135.0  2019-01-23T22:48:10.155796Z"
      ]
     },
     "execution_count": 12,
     "metadata": {},
     "output_type": "execute_result"
    }
   ],
   "source": [
    "# get test result data - (just a dictionary or hash for this example)\n",
    "# k = test name : v = (result value, timestamp)\n",
    "results = dict(\n",
    "    bg = (96.0, now),\n",
    "    bun = (20.0, now),\n",
    "    na = (135.0, now)\n",
    "    ) \n",
    "print('Test Result Values:')\n",
    "DataFrame([[k] + list(v) for k,v in results.items()], columns=['Test Name', 'Value', \"TimeStamp\"])"
   ]
  },
  {
   "cell_type": "markdown",
   "metadata": {},
   "source": [
    "### Observation template (profile instance)\n",
    "\n",
    "This is a function that returns a fully populated template."
   ]
  },
  {
   "cell_type": "code",
   "execution_count": 13,
   "metadata": {
    "inputHidden": false,
    "outputHidden": false
   },
   "outputs": [],
   "source": [
    "def get_obs(t, p, r, s):# apply od spreadsheet data , patient info, results and status to profile \n",
    "    value, effective = r\n",
    "    return {\n",
    "      'resourceType': 'Observation',\n",
    "      'meta': { 'profile': ['http://hl7.org/fhir/us/core/StructureDefinition/us-core-observationresults'],\n",
    "      },\n",
    "      'status': s,\n",
    "      'category': [{\n",
    "        'coding': [\n",
    "          {\n",
    "            'system': 'http://hl7.org/fhir/observation-category',\n",
    "            'code': 'laboratory',\n",
    "            'display': 'Laboratory'\n",
    "          }\n",
    "        ],\n",
    "        'text': 'Laboratory'\n",
    "      }],\n",
    "      'code': {\n",
    "        'coding': [\n",
    "          {\n",
    "            'system': 'http://loinc.org',\n",
    "            'code': t.OD_code_coding_0_code,\n",
    "            'display': t.OD_code_coding_0_display\n",
    "          }\n",
    "        ],\n",
    "        'text': t.OD_code_text\n",
    "      },\n",
    "      'subject': {\n",
    "        'reference': f'Patient/{p.id}',\n",
    "          'display': p.name\n",
    "      },\n",
    "        \n",
    "      'effectiveDateTime': effective,\n",
    "      'valueQuantity': {\n",
    "        'value': value,\n",
    "        'unit': t.OD_quantitativeDetails_customaryUnit_coding_0_code,\n",
    "        'system': t.OD_quantitativeDetails_unit_coding_0_system,\n",
    "        'code': t.OD_quantitativeDetails_unit_coding_0_code\n",
    "          },\n",
    "      'referenceRange': [\n",
    "        {\n",
    "          'low': {\n",
    "            'value': float(t.OD_qualifiedInterval_0_range_low_value),\n",
    "            'unit': t.OD_quantitativeDetails_customaryUnit_coding_0_code,\n",
    "            'system': t.OD_quantitativeDetails_unit_coding_0_system,\n",
    "            'code': t.OD_quantitativeDetails_unit_coding_0_code\n",
    "          },\n",
    "          'high': {\n",
    "            'value': float(t.OD_qualifiedInterval_0_range_high_value),\n",
    "            'unit': t.OD_quantitativeDetails_customaryUnit_coding_0_code,\n",
    "            'system': t.OD_quantitativeDetails_unit_coding_0_system,\n",
    "            'code': t.OD_quantitativeDetails_unit_coding_0_code\n",
    "          },\n",
    "          'type': {\n",
    "            'coding': [\n",
    "              {\n",
    "                'system': 'http://hl7.org/fhir/referencerange-meaning',\n",
    "                'code': t.OD_qualifiedInterval_0_context_coding_0_code,\n",
    "              }\n",
    "            ]\n",
    "           }\n",
    "         }\n",
    "       ]     \n",
    "     }\n",
    "\n",
    "\n"
   ]
  },
  {
   "cell_type": "markdown",
   "metadata": {},
   "source": [
    "### Create Observation Instance with above data as inputs "
   ]
  },
  {
   "cell_type": "code",
   "execution_count": 14,
   "metadata": {
    "inputHidden": false,
    "outputHidden": false
   },
   "outputs": [
    {
     "name": "stdout",
     "output_type": "stream",
     "text": [
      "get test information from od spreadsheets:\n",
      "\n",
      "\n",
      "=============================================================================== \n",
      " ============================== Jane Doe Blood Glucose OperationDefinition results ============================== \n",
      " ===============================================================================\n",
      "Observation = {\n",
      "   \"resourceType\": \"Observation\",\n",
      "   \"meta\": {\n",
      "      \"profile\": [\n",
      "         \"http://hl7.org/fhir/us/core/StructureDefinition/us-core-observationresults\"\n",
      "      ]\n",
      "   },\n",
      "   \"status\": \"preliminary\",\n",
      "   \"category\": [\n",
      "      {\n",
      "         \"coding\": [\n",
      "            {\n",
      "               \"system\": \"http://hl7.org/fhir/observation-category\",\n",
      "               \"code\": \"laboratory\",\n",
      "               \"display\": \"Laboratory\"\n",
      "            }\n",
      "         ],\n",
      "         \"text\": \"Laboratory\"\n",
      "      }\n",
      "   ],\n",
      "   \"code\": {\n",
      "      \"coding\": [\n",
      "         {\n",
      "            \"system\": \"http://loinc.org\",\n",
      "            \"code\": \"2339-0\",\n",
      "            \"display\": \"Glucose Bld-mCnc\"\n",
      "         }\n",
      "      ],\n",
      "      \"text\": \"Glucose Bld-mCnc\"\n",
      "   },\n",
      "   \"subject\": {\n",
      "      \"reference\": \"Patient/1234\",\n",
      "      \"display\": \"Jane Doe\"\n",
      "   },\n",
      "   \"effectiveDateTime\": \"2019-01-23T22:48:10.155796Z\",\n",
      "   \"valueQuantity\": {\n",
      "      \"value\": 96.0,\n",
      "      \"unit\": \"mg/dL\",\n",
      "      \"system\": \"http://unitsofmeasure.org\",\n",
      "      \"code\": \"mg/dL\"\n",
      "   },\n",
      "   \"referenceRange\": [\n",
      "      {\n",
      "         \"low\": {\n",
      "            \"value\": 70.0,\n",
      "            \"unit\": \"mg/dL\",\n",
      "            \"system\": \"http://unitsofmeasure.org\",\n",
      "            \"code\": \"mg/dL\"\n",
      "         },\n",
      "         \"high\": {\n",
      "            \"value\": 99.0,\n",
      "            \"unit\": \"mg/dL\",\n",
      "            \"system\": \"http://unitsofmeasure.org\",\n",
      "            \"code\": \"mg/dL\"\n",
      "         },\n",
      "         \"type\": {\n",
      "            \"coding\": [\n",
      "               {\n",
      "                  \"system\": \"http://hl7.org/fhir/referencerange-meaning\",\n",
      "                  \"code\": \"normal\"\n",
      "               }\n",
      "            ]\n",
      "         }\n",
      "      }\n",
      "   ]\n",
      "}\n",
      "=============================================================================== \n",
      " ============================== Jane Doe BUN OperationDefinition results ============================== \n",
      " ===============================================================================\n",
      "Observation = {\n",
      "   \"resourceType\": \"Observation\",\n",
      "   \"meta\": {\n",
      "      \"profile\": [\n",
      "         \"http://hl7.org/fhir/us/core/StructureDefinition/us-core-observationresults\"\n",
      "      ]\n",
      "   },\n",
      "   \"status\": \"preliminary\",\n",
      "   \"category\": [\n",
      "      {\n",
      "         \"coding\": [\n",
      "            {\n",
      "               \"system\": \"http://hl7.org/fhir/observation-category\",\n",
      "               \"code\": \"laboratory\",\n",
      "               \"display\": \"Laboratory\"\n",
      "            }\n",
      "         ],\n",
      "         \"text\": \"Laboratory\"\n",
      "      }\n",
      "   ],\n",
      "   \"code\": {\n",
      "      \"coding\": [\n",
      "         {\n",
      "            \"system\": \"http://loinc.org\",\n",
      "            \"code\": \"3094-0\",\n",
      "            \"display\": \"BUN SerPl-mCnc\"\n",
      "         }\n",
      "      ],\n",
      "      \"text\": \"BUN SerPl-mCnc\"\n",
      "   },\n",
      "   \"subject\": {\n",
      "      \"reference\": \"Patient/1234\",\n",
      "      \"display\": \"Jane Doe\"\n",
      "   },\n",
      "   \"effectiveDateTime\": \"2019-01-23T22:48:10.155796Z\",\n",
      "   \"valueQuantity\": {\n",
      "      \"value\": 20.0,\n",
      "      \"unit\": \"mg/dL\",\n",
      "      \"system\": \"http://unitsofmeasure.org\",\n",
      "      \"code\": \"mg/dL\"\n",
      "   },\n",
      "   \"referenceRange\": [\n",
      "      {\n",
      "         \"low\": {\n",
      "            \"value\": 7.0,\n",
      "            \"unit\": \"mg/dL\",\n",
      "            \"system\": \"http://unitsofmeasure.org\",\n",
      "            \"code\": \"mg/dL\"\n",
      "         },\n",
      "         \"high\": {\n",
      "            \"value\": 20.0,\n",
      "            \"unit\": \"mg/dL\",\n",
      "            \"system\": \"http://unitsofmeasure.org\",\n",
      "            \"code\": \"mg/dL\"\n",
      "         },\n",
      "         \"type\": {\n",
      "            \"coding\": [\n",
      "               {\n",
      "                  \"system\": \"http://hl7.org/fhir/referencerange-meaning\",\n",
      "                  \"code\": \"normal\"\n",
      "               }\n",
      "            ]\n",
      "         }\n",
      "      }\n",
      "   ]\n",
      "}\n",
      "=============================================================================== \n",
      " ============================== Jane Doe Serum Sodium OperationDefinition results ============================== \n",
      " ===============================================================================\n",
      "Observation = {\n",
      "   \"resourceType\": \"Observation\",\n",
      "   \"meta\": {\n",
      "      \"profile\": [\n",
      "         \"http://hl7.org/fhir/us/core/StructureDefinition/us-core-observationresults\"\n",
      "      ]\n",
      "   },\n",
      "   \"status\": \"preliminary\",\n",
      "   \"category\": [\n",
      "      {\n",
      "         \"coding\": [\n",
      "            {\n",
      "               \"system\": \"http://hl7.org/fhir/observation-category\",\n",
      "               \"code\": \"laboratory\",\n",
      "               \"display\": \"Laboratory\"\n",
      "            }\n",
      "         ],\n",
      "         \"text\": \"Laboratory\"\n",
      "      }\n",
      "   ],\n",
      "   \"code\": {\n",
      "      \"coding\": [\n",
      "         {\n",
      "            \"system\": \"http://loinc.org\",\n",
      "            \"code\": \"2951-2\",\n",
      "            \"display\": \"Sodium SerPl-sCnc\"\n",
      "         }\n",
      "      ],\n",
      "      \"text\": \"Sodium SerPl-sCnc\"\n",
      "   },\n",
      "   \"subject\": {\n",
      "      \"reference\": \"Patient/1234\",\n",
      "      \"display\": \"Jane Doe\"\n",
      "   },\n",
      "   \"effectiveDateTime\": \"2019-01-23T22:48:10.155796Z\",\n",
      "   \"valueQuantity\": {\n",
      "      \"value\": 135.0,\n",
      "      \"unit\": \"mmol/L\",\n",
      "      \"system\": \"http://unitsofmeasure.org\",\n",
      "      \"code\": \"mmol/L\"\n",
      "   },\n",
      "   \"referenceRange\": [\n",
      "      {\n",
      "         \"low\": {\n",
      "            \"value\": 135.0,\n",
      "            \"unit\": \"mmol/L\",\n",
      "            \"system\": \"http://unitsofmeasure.org\",\n",
      "            \"code\": \"mmol/L\"\n",
      "         },\n",
      "         \"high\": {\n",
      "            \"value\": 145.0,\n",
      "            \"unit\": \"mmol/L\",\n",
      "            \"system\": \"http://unitsofmeasure.org\",\n",
      "            \"code\": \"mmol/L\"\n",
      "         },\n",
      "         \"type\": {\n",
      "            \"coding\": [\n",
      "               {\n",
      "                  \"system\": \"http://hl7.org/fhir/referencerange-meaning\",\n",
      "                  \"code\": \"normal\"\n",
      "               }\n",
      "            ]\n",
      "         }\n",
      "      }\n",
      "   ]\n",
      "}\n"
     ]
    }
   ],
   "source": [
    "print('get test information from od spreadsheets:\\n\\n')\n",
    "tests = get_testinfo()\n",
    "\n",
    "for t in tests:\n",
    "    new_obs = get_obs(t=t, p=patient, r=results[t.OD_id], s='preliminary' )\n",
    "    print('='*79,'\\n','='*30,f'{patient.name} {t.OD_name} results','='*30,'\\n','='*79)\n",
    "    print(f'Observation = {dumps(new_obs,indent = 3)}')\n",
    "    obs_list.append(new_obs)"
   ]
  },
  {
   "cell_type": "markdown",
   "metadata": {},
   "source": [
    "\n",
    "##  Add Narrative By POSTing and GETting One Resource from the Test Server\n",
    "By POSTING it to the FHIR reference implementation server, the example is validated and text narrative generated.  The results are displayed below in the human readable text as xhtml.\n"
   ]
  },
  {
   "cell_type": "code",
   "execution_count": 49,
   "metadata": {},
   "outputs": [
    {
     "data": {
      "text/markdown": [
       "<h1>Output</h1><div xmlns=\"http://www.w3.org/1999/xhtml\"><p><b>Generated Narrative with Details</b></p><p><b>meta</b>: </p><p><b>status</b>: preliminary</p><p><b>category</b>: Laboratory <span style=\"background: LightGoldenRodYellow \">(Details : {http://hl7.org/fhir/observation-category code \"laboratory\" := \"laboratory\", given as \"Laboratory\"})</span></p><p><b>code</b>: Glucose Bld-mCnc <span style=\"background: LightGoldenRodYellow \">(Details : {LOINC code \"2339-0\" := \"2339-0\", given as \"Glucose Bld-mCnc\"})</span></p><p><b>subject</b>: <a href=\"Patient/1234\">Jane Doe</a></p><p><b>effective</b>: 1/23/2019 10:48:10 PM</p><p><b>value</b>: 96.0 mg/dL<span style=\"background: LightGoldenRodYellow \"> (Details: http://unitsofmeasure.org code mg/dL := \"mg/dL\")</span></p></div>"
      ],
      "text/plain": [
       "<IPython.core.display.Markdown object>"
      ]
     },
     "metadata": {},
     "output_type": "display_data"
    },
    {
     "data": {
      "text/markdown": [
       "```{\"resourceType\" : \"Observation\",\"id\" : \"686\",\"meta\" : {\"versionId\" : \"1\",\"lastUpdated\" : \"2019-01-23T22:54:28.951Z\",\"profile\" : [\"http://hl7.org/fhir/us/core/StructureDefinition/us-core-observationresults\"]},\"text\" : {\"status\" : \"generated\",\"div\" : \"<div xmlns=\\\"http://www.w3.org/1999/xhtml\\\"><p><b>Generated Narrative with Details</b></p><p><b>meta</b>: </p><p><b>status</b>: preliminary</p><p><b>category</b>: Laboratory <span style=\\\"background: LightGoldenRodYellow \\\">(Details : {http://hl7.org/fhir/observation-category code \\\"laboratory\\\" := \\\"laboratory\\\", given as \\\"Laboratory\\\"})</span></p><p><b>code</b>: Glucose Bld-mCnc <span style=\\\"background: LightGoldenRodYellow \\\">(Details : {LOINC code \\\"2339-0\\\" := \\\"2339-0\\\", given as \\\"Glucose Bld-mCnc\\\"})</span></p><p><b>subject</b>: <a href=\\\"Patient/1234\\\">Jane Doe</a></p><p><b>effective</b>: 1/23/2019 10:48:10 PM</p><p><b>value</b>: 96.0 mg/dL<span style=\\\"background: LightGoldenRodYellow \\\"> (Details: http://unitsofmeasure.org code mg/dL := \\\"mg/dL\\\")</span></p></div>\"},\"status\" : \"preliminary\",\"category\" : [{\"coding\" : [{\"system\" : \"http://hl7.org/fhir/observation-category\",\"code\" : \"laboratory\",\"display\" : \"Laboratory\"}],\"text\" : \"Laboratory\"}],\"code\" : {\"coding\" : [{\"system\" : \"http://loinc.org\",\"code\" : \"2339-0\",\"display\" : \"Glucose Bld-mCnc\"}],\"text\" : \"Glucose Bld-mCnc\"},\"subject\" : {\"reference\" : \"Patient/1234\",\"display\" : \"Jane Doe\"},\"effectiveDateTime\" : \"2019-01-23T22:48:10.001557Z\",\"valueQuantity\" : {\"value\" : 96.0,\"unit\" : \"mg/dL\",\"system\" : \"http://unitsofmeasure.org\",\"code\" : \"mg/dL\"},\"referenceRange\" : [{\"low\" : {\"value\" : 70.0,\"unit\" : \"mg/dL\",\"system\" : \"http://unitsofmeasure.org\",\"code\" : \"mg/dL\"},\"high\" : {\"value\" : 99.0,\"unit\" : \"mg/dL\",\"system\" : \"http://unitsofmeasure.org\",\"code\" : \"mg/dL\"},\"type\" : {\"coding\" : [{\"system\" : \"http://hl7.org/fhir/referencerange-meaning\",\"code\" : \"normal\"}]}}]}```"
      ],
      "text/plain": [
       "<IPython.core.display.Markdown object>"
      ]
     },
     "metadata": {},
     "output_type": "display_data"
    }
   ],
   "source": [
    "\n",
    "# validate using requests\n",
    "rp = post(f'{fhir_test_server}/Observation',headers = headers, data = dumps(obs_list[0]))\n",
    "# print(rp.status_code)\n",
    "# print(rp.json()['id'])\n",
    "rg = get(f'{fhir_test_server}/Observation/{rp.json()[\"id\"]}',headers = headers )\n",
    "# view  output\n",
    "display(Markdown(f'<h1>Output</h1>{rg.json()[\"text\"][\"div\"]}'))\n",
    "display(Markdown(f'```{r.text}```'))\n"
   ]
  },
  {
   "cell_type": "markdown",
   "metadata": {},
   "source": [
    "## FIN"
   ]
  },
  {
   "cell_type": "code",
   "execution_count": null,
   "metadata": {},
   "outputs": [],
   "source": []
  }
 ],
 "metadata": {
  "kernelspec": {
   "display_name": "Python 3",
   "language": "python",
   "name": "python3"
  },
  "language_info": {
   "codemirror_mode": {
    "name": "ipython",
    "version": 3
   },
   "file_extension": ".py",
   "mimetype": "text/x-python",
   "name": "python",
   "nbconvert_exporter": "python",
   "pygments_lexer": "ipython3",
   "version": "3.6.2"
  }
 },
 "nbformat": 4,
 "nbformat_minor": 4
}
