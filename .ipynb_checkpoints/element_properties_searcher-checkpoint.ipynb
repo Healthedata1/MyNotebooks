{
 "cells": [
  {
   "cell_type": "markdown",
   "metadata": {},
   "source": [
    "\n",
    "## Search through Profile properties summaries using Jinja2 and Python Modele\n",
    "\n",
    "*USE Python 3.7 to maintain order of Json files*\n",
    "\n",
    "- Fetch SD file from IG\n",
    "- Spec_internals from IG Package.tgz\n",
    "- search for element properties\n",
    "\n",
    "\n",
    "\n",
    "*Note need a successful build to generate since based on ig output local file\n",
    "alternatively use package.files to generate*"
   ]
  },
  {
   "cell_type": "markdown",
   "metadata": {},
   "source": [
    "### import python modules including R4 fhirclient models"
   ]
  },
  {
   "cell_type": "code",
   "execution_count": 24,
   "metadata": {},
   "outputs": [],
   "source": [
    "from fhirclient.r4models import structuredefinition as SD\n",
    "import Summary_maker.title_map as tm\n",
    "import os, json"
   ]
  },
  {
   "cell_type": "markdown",
   "metadata": {},
   "source": [
    "### Get file and return as dict"
   ]
  },
  {
   "cell_type": "markdown",
   "metadata": {},
   "source": [
    "### Write to file"
   ]
  },
  {
   "cell_type": "markdown",
   "metadata": {},
   "source": [
    "### Loop through profiles"
   ]
  },
  {
   "cell_type": "code",
   "execution_count": 31,
   "metadata": {},
   "outputs": [
    {
     "data": {
      "text/plain": [
       "[]"
      ]
     },
     "execution_count": 31,
     "metadata": {},
     "output_type": "execute_result"
    }
   ],
   "source": [
    "#us_core = '/Users/ehaas/.fhir/packages/hl7.fhir.us.core#dev/package'\n",
    "us_core = '/Users/ehaas/Documents/FHIR/US-Core-R4/input/resources'\n",
    "us_core = '/Users/ehaas/Documents/FHIR/US-Core-R4/input/examples'\n",
    "fhir_r4 = '/Users/ehaas/.fhir/packages/hl7.fhir.r4.core#4.0.1/package'\n",
    "#f_name = 'us-core-patient'\n",
    "#n_path = '/Users/ehaas/.fhir/packages/hl7.fhir.us.core#dev' # package file keeps disappearing\n",
    "#in_path = '//ERICS-AIR-2/ehaas/Documents/FHIR/US-Core-R4/output'  # use local build dir.\n",
    "us_core_files = [x for x in os.listdir(us_core) if x.startswith(\"\") and x.endswith('json')]\n",
    "us_core_files"
   ]
  },
  {
   "cell_type": "code",
   "execution_count": null,
   "metadata": {},
   "outputs": [],
   "source": []
  },
  {
   "cell_type": "code",
   "execution_count": 26,
   "metadata": {},
   "outputs": [
    {
     "data": {
      "text/plain": [
       "['StructureDefinition-vitalspanel.json', 'StructureDefinition-vitalsigns.json']"
      ]
     },
     "execution_count": 26,
     "metadata": {},
     "output_type": "execute_result"
    }
   ],
   "source": [
    "fhir_r4_files = [x for x in os.listdir(fhir_r4) if x.startswith(\"StructureDefinition\") and x.endswith('json')]\n",
    "vitals = [x for x in fhir_r4_files if 'vital' in x]\n",
    "vitals"
   ]
  },
  {
   "cell_type": "markdown",
   "metadata": {},
   "source": [
    "loop through all sd and print out the element the element you want\n",
    "\n",
    "filter on the element properties you want"
   ]
  },
  {
   "cell_type": "code",
   "execution_count": 30,
   "metadata": {},
   "outputs": [
    {
     "name": "stdout",
     "output_type": "stream",
     "text": [
      "set()\n"
     ]
    },
    {
     "data": {
      "text/plain": [
       "{'pd-1',\n",
       " 'us-core-1',\n",
       " 'us-core-13',\n",
       " 'us-core-14',\n",
       " 'us-core-2',\n",
       " 'us-core-3',\n",
       " 'us-core-4',\n",
       " 'us-core-6'}"
      ]
     },
     "execution_count": 30,
     "metadata": {},
     "output_type": "execute_result"
    }
   ],
   "source": [
    "def open_file(in_path, f_name): # get files\n",
    "    with open(f'{in_path}/{f_name}', encoding=\"utf8\") as f:\n",
    "        r = f.read()\n",
    "        return(json.loads(r))\n",
    "condition_list = set()\n",
    "print(condition_list)\n",
    "for i in us_core_files: \n",
    "    constraints = {}\n",
    "    sd_dict = open_file(us_core,i)\n",
    "    us_core_sd = SD.StructureDefinition(sd_dict)\n",
    "#     if us_core_sd.type != 'Extension':\n",
    "# #         print('*'*79)\n",
    "# #         print(f'******** {us_core_sd.title} ************')\n",
    "# #         print('*'*79)\n",
    "# #         print(f'base = {us_core_sd.baseDefinition} type = {us_core_sd.type}')\n",
    "#         # get base SD\n",
    "#         if us_core_sd.baseDefinition == 'http://hl7.org/fhir/us/core/StructureDefinition/us-core-vital-signs':\n",
    "#             base_dict = open_file(us_core,'StructureDefinition-us-core-vital-signs.json')\n",
    "#         elif us_core_sd.baseDefinition == 'http://hl7.org/fhir/StructureDefinition/vitalsigns':\n",
    "#             base_dict = open_file(fhir_r4,'StructureDefinition-vitalsigns.json')\n",
    "#         else:\n",
    "#             base_dict = open_file(fhir_r4,f'StructureDefinition-{us_core_sd.type}.json')\n",
    "#         assert base_dict['url'] == us_core_sd.baseDefinition\n",
    "\n",
    "        \n",
    "#         base_sd = SD.StructureDefinition(base_dict)\n",
    "        #print(fhir_r4_sd.name,fhir_r4_sd.url)        \n",
    "    for i in us_core_sd.differential.element:  #loop through all element properties \n",
    "\n",
    "        if i.condition:\n",
    "            for j in i.condition:\n",
    "               condition_list.add(j)\n",
    "# #             print(f'******** Element = {i.path} ************')\n",
    "#             for j in base_sd.snapshot.element:  # loop through the base to find matching element\n",
    "#                 try:\n",
    "#                     assert i.id == j.id\n",
    "#                     assert i.binding\n",
    "#                     assert j.max == \"*\" and (i.max == None or i.max == \"*\")\n",
    "#                     print(f'max = {i.max}({j.max}) element = {i.id}')\n",
    "#                     print()\n",
    "#                 except:\n",
    "#                     pass\n",
    "     \n",
    "# #                 #print(f'k={k}, base_e[k]= {base_e[k]}')\n",
    "# #                 try:\n",
    "# #                     assert k not in ['id','path']\n",
    "# #                     assert v==base_e[k]\n",
    "# #                     print(f'{k} = {v} IS THE SAME AS BASE = {base_e[k]}')\n",
    "# #                 except KeyError as e:\n",
    "# #                     pass\n",
    "# # #                     print(f'k={k} NOT THE SAME')\n",
    "# # #                     print(e)\n",
    "# #                 except AssertionError as e:\n",
    "# #                     pass\n",
    "# # #                     print(f'k={k} NOT THE SAME')\n",
    "# # #                     print(e)\n",
    "# #                 # loop through the base to see if different\n",
    "condition_list           "
   ]
  },
  {
   "cell_type": "code",
   "execution_count": null,
   "metadata": {},
   "outputs": [],
   "source": []
  }
 ],
 "metadata": {
  "kernelspec": {
   "display_name": "Python 3",
   "language": "python",
   "name": "python3"
  },
  "language_info": {
   "codemirror_mode": {
    "name": "ipython",
    "version": 3
   },
   "file_extension": ".py",
   "mimetype": "text/x-python",
   "name": "python",
   "nbconvert_exporter": "python",
   "pygments_lexer": "ipython3",
   "version": "3.7.3"
  }
 },
 "nbformat": 4,
 "nbformat_minor": 4
}
