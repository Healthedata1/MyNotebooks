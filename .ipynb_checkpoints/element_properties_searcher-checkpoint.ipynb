{
 "cells": [
  {
   "cell_type": "markdown",
   "metadata": {},
   "source": [
    "\n",
    "## Search through Profile properties summaries using Jinja2 and Python Modele\n",
    "\n",
    "*USE Python 3.7 to maintain order of Json files*\n",
    "\n",
    "- Fetch SD file from IG\n",
    "- Spec_internals from IG Package.tgz\n",
    "- search for element properties\n",
    "\n",
    "\n",
    "\n",
    "*Note need a successful build to generate since based on ig output local file\n",
    "alternatively use package.files to generate*"
   ]
  },
  {
   "cell_type": "markdown",
   "metadata": {},
   "source": [
    "### import python modules including R4 fhirclient models"
   ]
  },
  {
   "cell_type": "code",
   "execution_count": 1,
   "metadata": {},
   "outputs": [],
   "source": [
    "from fhirclient.r4models import structuredefinition as SD\n",
    "from fhirclient.r4models import narrative as N\n",
    "from fhirclient.r4models import valueset as VS\n",
    "import fhirclient.r4models.identifier as I\n",
    "import fhirclient.r4models.coding as C\n",
    "import fhirclient.r4models.codeableconcept as CC\n",
    "import fhirclient.r4models.fhirdate as D\n",
    "import fhirclient.r4models.extension as X\n",
    "import fhirclient.r4models.contactdetail as CD\n",
    "import fhirclient.r4models.fhirreference as FR\n",
    "from json import dumps, loads, load\n",
    "from pprint import pprint\n",
    "from jinja2 import Environment, FileSystemLoader, select_autoescape\n",
    "from commonmark import commonmark\n",
    "from IPython.display import display, HTML, Markdown\n",
    "import title_map as tm\n",
    "import os\n",
    "from stringcase import snakecase, titlecase"
   ]
  },
  {
   "cell_type": "markdown",
   "metadata": {},
   "source": [
    "### Get file and return as dict"
   ]
  },
  {
   "cell_type": "markdown",
   "metadata": {},
   "source": [
    "### Write to file"
   ]
  },
  {
   "cell_type": "markdown",
   "metadata": {},
   "source": [
    "### Get spec_internal from package.tgz a json file which includes canonical to local relative page links"
   ]
  },
  {
   "cell_type": "code",
   "execution_count": 15,
   "metadata": {},
   "outputs": [
    {
     "ename": "FileNotFoundError",
     "evalue": "[Errno 2] No such file or directory: '/Users/ehaas/.fhir/packages/hl7.fhir.us.core#dev/package.tgz'",
     "output_type": "error",
     "traceback": [
      "\u001b[0;31m---------------------------------------------------------------------------\u001b[0m",
      "\u001b[0;31mFileNotFoundError\u001b[0m                         Traceback (most recent call last)",
      "\u001b[0;32m<ipython-input-15-5065511ac1d7>\u001b[0m in \u001b[0;36m<module>\u001b[0;34m\u001b[0m\n\u001b[1;32m      9\u001b[0m \u001b[0;34m\u001b[0m\u001b[0m\n\u001b[1;32m     10\u001b[0m \u001b[0;34m\u001b[0m\u001b[0m\n\u001b[0;32m---> 11\u001b[0;31m \u001b[0msi\u001b[0m \u001b[0;34m=\u001b[0m \u001b[0mget_si\u001b[0m\u001b[0;34m(\u001b[0m\u001b[0min_path\u001b[0m\u001b[0;34m)\u001b[0m\u001b[0;34m\u001b[0m\u001b[0;34m\u001b[0m\u001b[0m\n\u001b[0m\u001b[1;32m     12\u001b[0m \u001b[0mpath_map\u001b[0m \u001b[0;34m=\u001b[0m \u001b[0msi\u001b[0m\u001b[0;34m[\u001b[0m\u001b[0;34m'paths'\u001b[0m\u001b[0;34m]\u001b[0m\u001b[0;34m\u001b[0m\u001b[0;34m\u001b[0m\u001b[0m\n\u001b[1;32m     13\u001b[0m \u001b[0;34m\u001b[0m\u001b[0m\n",
      "\u001b[0;32m<ipython-input-15-5065511ac1d7>\u001b[0m in \u001b[0;36mget_si\u001b[0;34m(path)\u001b[0m\n\u001b[1;32m      2\u001b[0m \u001b[0;32mfrom\u001b[0m \u001b[0mpprint\u001b[0m \u001b[0;32mimport\u001b[0m \u001b[0mpprint\u001b[0m\u001b[0;34m\u001b[0m\u001b[0;34m\u001b[0m\u001b[0m\n\u001b[1;32m      3\u001b[0m \u001b[0;32mdef\u001b[0m \u001b[0mget_si\u001b[0m\u001b[0;34m(\u001b[0m\u001b[0mpath\u001b[0m\u001b[0;34m)\u001b[0m\u001b[0;34m:\u001b[0m\u001b[0;34m\u001b[0m\u001b[0;34m\u001b[0m\u001b[0m\n\u001b[0;32m----> 4\u001b[0;31m     \u001b[0;32mwith\u001b[0m \u001b[0mtarfile\u001b[0m\u001b[0;34m.\u001b[0m\u001b[0mopen\u001b[0m\u001b[0;34m(\u001b[0m\u001b[0mname\u001b[0m\u001b[0;34m=\u001b[0m\u001b[0mos\u001b[0m\u001b[0;34m.\u001b[0m\u001b[0mpath\u001b[0m\u001b[0;34m.\u001b[0m\u001b[0mjoin\u001b[0m\u001b[0;34m(\u001b[0m\u001b[0mpath\u001b[0m\u001b[0;34m,\u001b[0m\u001b[0;34m'package.tgz'\u001b[0m\u001b[0;34m)\u001b[0m\u001b[0;34m,\u001b[0m \u001b[0mmode\u001b[0m\u001b[0;34m=\u001b[0m\u001b[0;34m'r'\u001b[0m\u001b[0;34m)\u001b[0m \u001b[0;32mas\u001b[0m \u001b[0mtf\u001b[0m\u001b[0;34m:\u001b[0m\u001b[0;34m\u001b[0m\u001b[0;34m\u001b[0m\u001b[0m\n\u001b[0m\u001b[1;32m      5\u001b[0m         \u001b[0;31m#pprint(tf.getnames())\u001b[0m\u001b[0;34m\u001b[0m\u001b[0;34m\u001b[0m\u001b[0;34m\u001b[0m\u001b[0m\n\u001b[1;32m      6\u001b[0m         \u001b[0mf\u001b[0m \u001b[0;34m=\u001b[0m \u001b[0mtf\u001b[0m\u001b[0;34m.\u001b[0m\u001b[0mextractfile\u001b[0m\u001b[0;34m(\u001b[0m\u001b[0;34m'other/spec.internals'\u001b[0m\u001b[0;34m)\u001b[0m\u001b[0;34m\u001b[0m\u001b[0;34m\u001b[0m\u001b[0m\n",
      "\u001b[0;32m/Library/Frameworks/Python.framework/Versions/3.7/lib/python3.7/tarfile.py\u001b[0m in \u001b[0;36mopen\u001b[0;34m(cls, name, mode, fileobj, bufsize, **kwargs)\u001b[0m\n\u001b[1;32m   1571\u001b[0m                     \u001b[0msaved_pos\u001b[0m \u001b[0;34m=\u001b[0m \u001b[0mfileobj\u001b[0m\u001b[0;34m.\u001b[0m\u001b[0mtell\u001b[0m\u001b[0;34m(\u001b[0m\u001b[0;34m)\u001b[0m\u001b[0;34m\u001b[0m\u001b[0;34m\u001b[0m\u001b[0m\n\u001b[1;32m   1572\u001b[0m                 \u001b[0;32mtry\u001b[0m\u001b[0;34m:\u001b[0m\u001b[0;34m\u001b[0m\u001b[0;34m\u001b[0m\u001b[0m\n\u001b[0;32m-> 1573\u001b[0;31m                     \u001b[0;32mreturn\u001b[0m \u001b[0mfunc\u001b[0m\u001b[0;34m(\u001b[0m\u001b[0mname\u001b[0m\u001b[0;34m,\u001b[0m \u001b[0;34m\"r\"\u001b[0m\u001b[0;34m,\u001b[0m \u001b[0mfileobj\u001b[0m\u001b[0;34m,\u001b[0m \u001b[0;34m**\u001b[0m\u001b[0mkwargs\u001b[0m\u001b[0;34m)\u001b[0m\u001b[0;34m\u001b[0m\u001b[0;34m\u001b[0m\u001b[0m\n\u001b[0m\u001b[1;32m   1574\u001b[0m                 \u001b[0;32mexcept\u001b[0m \u001b[0;34m(\u001b[0m\u001b[0mReadError\u001b[0m\u001b[0;34m,\u001b[0m \u001b[0mCompressionError\u001b[0m\u001b[0;34m)\u001b[0m\u001b[0;34m:\u001b[0m\u001b[0;34m\u001b[0m\u001b[0;34m\u001b[0m\u001b[0m\n\u001b[1;32m   1575\u001b[0m                     \u001b[0;32mif\u001b[0m \u001b[0mfileobj\u001b[0m \u001b[0;32mis\u001b[0m \u001b[0;32mnot\u001b[0m \u001b[0;32mNone\u001b[0m\u001b[0;34m:\u001b[0m\u001b[0;34m\u001b[0m\u001b[0;34m\u001b[0m\u001b[0m\n",
      "\u001b[0;32m/Library/Frameworks/Python.framework/Versions/3.7/lib/python3.7/tarfile.py\u001b[0m in \u001b[0;36mgzopen\u001b[0;34m(cls, name, mode, fileobj, compresslevel, **kwargs)\u001b[0m\n\u001b[1;32m   1636\u001b[0m \u001b[0;34m\u001b[0m\u001b[0m\n\u001b[1;32m   1637\u001b[0m         \u001b[0;32mtry\u001b[0m\u001b[0;34m:\u001b[0m\u001b[0;34m\u001b[0m\u001b[0;34m\u001b[0m\u001b[0m\n\u001b[0;32m-> 1638\u001b[0;31m             \u001b[0mfileobj\u001b[0m \u001b[0;34m=\u001b[0m \u001b[0mgzip\u001b[0m\u001b[0;34m.\u001b[0m\u001b[0mGzipFile\u001b[0m\u001b[0;34m(\u001b[0m\u001b[0mname\u001b[0m\u001b[0;34m,\u001b[0m \u001b[0mmode\u001b[0m \u001b[0;34m+\u001b[0m \u001b[0;34m\"b\"\u001b[0m\u001b[0;34m,\u001b[0m \u001b[0mcompresslevel\u001b[0m\u001b[0;34m,\u001b[0m \u001b[0mfileobj\u001b[0m\u001b[0;34m)\u001b[0m\u001b[0;34m\u001b[0m\u001b[0;34m\u001b[0m\u001b[0m\n\u001b[0m\u001b[1;32m   1639\u001b[0m         \u001b[0;32mexcept\u001b[0m \u001b[0mOSError\u001b[0m\u001b[0;34m:\u001b[0m\u001b[0;34m\u001b[0m\u001b[0;34m\u001b[0m\u001b[0m\n\u001b[1;32m   1640\u001b[0m             \u001b[0;32mif\u001b[0m \u001b[0mfileobj\u001b[0m \u001b[0;32mis\u001b[0m \u001b[0;32mnot\u001b[0m \u001b[0;32mNone\u001b[0m \u001b[0;32mand\u001b[0m \u001b[0mmode\u001b[0m \u001b[0;34m==\u001b[0m \u001b[0;34m'r'\u001b[0m\u001b[0;34m:\u001b[0m\u001b[0;34m\u001b[0m\u001b[0;34m\u001b[0m\u001b[0m\n",
      "\u001b[0;32m/Library/Frameworks/Python.framework/Versions/3.7/lib/python3.7/gzip.py\u001b[0m in \u001b[0;36m__init__\u001b[0;34m(self, filename, mode, compresslevel, fileobj, mtime)\u001b[0m\n\u001b[1;32m    161\u001b[0m             \u001b[0mmode\u001b[0m \u001b[0;34m+=\u001b[0m \u001b[0;34m'b'\u001b[0m\u001b[0;34m\u001b[0m\u001b[0;34m\u001b[0m\u001b[0m\n\u001b[1;32m    162\u001b[0m         \u001b[0;32mif\u001b[0m \u001b[0mfileobj\u001b[0m \u001b[0;32mis\u001b[0m \u001b[0;32mNone\u001b[0m\u001b[0;34m:\u001b[0m\u001b[0;34m\u001b[0m\u001b[0;34m\u001b[0m\u001b[0m\n\u001b[0;32m--> 163\u001b[0;31m             \u001b[0mfileobj\u001b[0m \u001b[0;34m=\u001b[0m \u001b[0mself\u001b[0m\u001b[0;34m.\u001b[0m\u001b[0mmyfileobj\u001b[0m \u001b[0;34m=\u001b[0m \u001b[0mbuiltins\u001b[0m\u001b[0;34m.\u001b[0m\u001b[0mopen\u001b[0m\u001b[0;34m(\u001b[0m\u001b[0mfilename\u001b[0m\u001b[0;34m,\u001b[0m \u001b[0mmode\u001b[0m \u001b[0;32mor\u001b[0m \u001b[0;34m'rb'\u001b[0m\u001b[0;34m)\u001b[0m\u001b[0;34m\u001b[0m\u001b[0;34m\u001b[0m\u001b[0m\n\u001b[0m\u001b[1;32m    164\u001b[0m         \u001b[0;32mif\u001b[0m \u001b[0mfilename\u001b[0m \u001b[0;32mis\u001b[0m \u001b[0;32mNone\u001b[0m\u001b[0;34m:\u001b[0m\u001b[0;34m\u001b[0m\u001b[0;34m\u001b[0m\u001b[0m\n\u001b[1;32m    165\u001b[0m             \u001b[0mfilename\u001b[0m \u001b[0;34m=\u001b[0m \u001b[0mgetattr\u001b[0m\u001b[0;34m(\u001b[0m\u001b[0mfileobj\u001b[0m\u001b[0;34m,\u001b[0m \u001b[0;34m'name'\u001b[0m\u001b[0;34m,\u001b[0m \u001b[0;34m''\u001b[0m\u001b[0;34m)\u001b[0m\u001b[0;34m\u001b[0m\u001b[0;34m\u001b[0m\u001b[0m\n",
      "\u001b[0;31mFileNotFoundError\u001b[0m: [Errno 2] No such file or directory: '/Users/ehaas/.fhir/packages/hl7.fhir.us.core#dev/package.tgz'"
     ]
    }
   ],
   "source": [
    "import tarfile\n",
    "from pprint import pprint\n",
    "def get_si(path):\n",
    "    with tarfile.open(name=os.path.join(path,'package.tgz'), mode='r') as tf:\n",
    "        #pprint(tf.getnames())\n",
    "        f = tf.extractfile('other/spec.internals')\n",
    "        r = f.read()\n",
    "        return(loads(r))\n",
    "        \n",
    "\n",
    "si = get_si(in_path)\n",
    "path_map = si['paths']\n",
    "\n",
    "c = 'http://hl7.org/fhir/us/core/ValueSet/birthsex'\n",
    "\n",
    "\n",
    "path_map[c]"
   ]
  },
  {
   "cell_type": "markdown",
   "metadata": {},
   "source": [
    "### Loop through profiles"
   ]
  },
  {
   "cell_type": "code",
   "execution_count": 16,
   "metadata": {},
   "outputs": [
    {
     "data": {
      "text/plain": [
       "['StructureDefinition-us-core-observation-lab.json',\n",
       " 'StructureDefinition-us-core-careteam.json',\n",
       " 'StructureDefinition-us-core-direct.json',\n",
       " 'StructureDefinition-us-core-respiratory-rate.json',\n",
       " 'StructureDefinition-us-core-heart-rate.json',\n",
       " 'StructureDefinition-us-core-body-temperature.json',\n",
       " 'StructureDefinition-us-core-practitioner.json',\n",
       " 'StructureDefinition-pediatric-bmi-for-age.json',\n",
       " 'StructureDefinition-pediatric-weight-for-height.json',\n",
       " 'StructureDefinition-us-core-patient.json',\n",
       " 'StructureDefinition-us-core-pulse-oximetry.json',\n",
       " 'StructureDefinition-us-core-immunization.json',\n",
       " 'StructureDefinition-us-core-provenance.json',\n",
       " 'StructureDefinition-us-core-smokingstatus.json',\n",
       " 'StructureDefinition-us-core-documentreference.json',\n",
       " 'StructureDefinition-us-core-head-circumference.json',\n",
       " 'StructureDefinition-us-core-race.json',\n",
       " 'StructureDefinition-us-core-medicationrequest.json',\n",
       " 'StructureDefinition-us-core-condition.json',\n",
       " 'StructureDefinition-us-core-birthsex.json',\n",
       " 'StructureDefinition-us-core-encounter.json',\n",
       " 'StructureDefinition-us-core-body-height.json',\n",
       " 'StructureDefinition-us-core-bmi.json',\n",
       " 'StructureDefinition-us-core-organization.json',\n",
       " 'StructureDefinition-us-core-procedure.json',\n",
       " 'StructureDefinition-us-core-medication.json',\n",
       " 'StructureDefinition-us-core-blood-pressure.json',\n",
       " 'StructureDefinition-us-core-diagnosticreport-note.json',\n",
       " 'StructureDefinition-us-core-practitionerrole.json',\n",
       " 'StructureDefinition-us-core-careplan.json',\n",
       " 'StructureDefinition-us-core-goal.json',\n",
       " 'StructureDefinition-us-core-ethnicity.json',\n",
       " 'StructureDefinition-us-core-location.json',\n",
       " 'StructureDefinition-us-core-diagnosticreport-lab.json',\n",
       " 'StructureDefinition-us-core-implantable-device.json',\n",
       " 'StructureDefinition-us-core-allergyintolerance.json',\n",
       " 'StructureDefinition-head-occipital-frontal-circumference-percentile.json',\n",
       " 'StructureDefinition-us-core-body-weight.json',\n",
       " 'StructureDefinition-us-core-vital-signs.json']"
      ]
     },
     "execution_count": 16,
     "metadata": {},
     "output_type": "execute_result"
    }
   ],
   "source": [
    "in_path = '/Users/ehaas/.fhir/packages/hl7.fhir.us.core#dev/package'\n",
    "#f_name = 'us-core-patient'\n",
    "#n_path = '/Users/ehaas/.fhir/packages/hl7.fhir.us.core#dev' # package file keeps disappearing\n",
    "#in_path = '//ERICS-AIR-2/ehaas/Documents/FHIR/US-Core-R4/output'  # use local build dir.\n",
    "files = [x for x in os.listdir(in_path) if x.startswith(\"StructureDefinition\") and x.endswith('json')]\n",
    "files"
   ]
  },
  {
   "cell_type": "markdown",
   "metadata": {},
   "source": [
    "loop through all sd and print out the element the element you want\n",
    "\n",
    "filter on the element properties you want"
   ]
  },
  {
   "cell_type": "code",
   "execution_count": 36,
   "metadata": {},
   "outputs": [
    {
     "name": "stdout",
     "output_type": "stream",
     "text": [
      "1) DocumentReference.category 1..*, valueset = http://hl7.org/fhir/us/core/ValueSet/us-core-documentreference-category, binding = extensible\n",
      "2) MedicationRequest.category 0..*, valueset = http://hl7.org/fhir/ValueSet/medicationrequest-category, binding = preferred\n",
      "3) Condition.category 1..*, valueset = http://hl7.org/fhir/us/core/ValueSet/us-core-condition-category, binding = extensible\n",
      "4) Encounter.type 1..*, valueset = http://hl7.org/fhir/us/core/ValueSet/us-core-encounter-type, binding = extensible\n",
      "5) PractitionerRole.code 0..*, valueset = http://hl7.org/fhir/us/core/ValueSet/us-core-provider-role, binding = extensible\n",
      "6) PractitionerRole.specialty 0..*, valueset = http://cts.nlm.nih.gov/fhir/ValueSet/2.16.840.1.114222.4.11.1066, binding = extensible\n",
      "7) AllergyIntolerance.reaction.manifestation 1..*, valueset = http://hl7.org/fhir/ValueSet/clinical-findings, binding = extensible\n"
     ]
    }
   ],
   "source": [
    "count = 1\n",
    "for i in files:\n",
    "    constraints = {}\n",
    "    sd_dict = open_file(in_path,i)\n",
    "    sd = SD.StructureDefinition(sd_dict)\n",
    "    profile_id = sd.id\n",
    "    if sd.type != 'Extension':\n",
    "        #print(f'{sd.url}\\t{sd.title}\\tSHALL\\t{sd.type}')\n",
    "          \n",
    "        for i in sd.differential.element:  #loop through all sd and print out the element the element you want\n",
    "            if i.max == '*' and i.binding: #filter on the element properties you want\n",
    "               \n",
    "               print(f'{count}) {i.path} {i.min}..{i.max}, valueset = {i.binding.valueSet}, binding = {i.binding.strength}')\n",
    "               count += 1\n"
   ]
  },
  {
   "cell_type": "code",
   "execution_count": null,
   "metadata": {},
   "outputs": [],
   "source": []
  }
 ],
 "metadata": {
  "kernelspec": {
   "display_name": "Python 3",
   "language": "python",
   "name": "python3"
  },
  "language_info": {
   "codemirror_mode": {
    "name": "ipython",
    "version": 3
   },
   "file_extension": ".py",
   "mimetype": "text/x-python",
   "name": "python",
   "nbconvert_exporter": "python",
   "pygments_lexer": "ipython3",
   "version": "3.7.3"
  }
 },
 "nbformat": 4,
 "nbformat_minor": 4
}
