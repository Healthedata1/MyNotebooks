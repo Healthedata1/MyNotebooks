{
 "cells": [
  {
   "cell_type": "markdown",
   "metadata": {},
   "source": [
    "  ## Script to generate the `package-list.json` file"
   ]
  },
  {
   "cell_type": "markdown",
   "metadata": {},
   "source": [
    "package-list contents:\n",
    "\n",
    "~~~\n",
    "\"package-id\": \"hl7.org.fhir.us.meds \",\n",
    "   \"title\": \"US Meds Implementation Guide\",\n",
    "   \"canonical\": \"http://hl7.org/fhir/us/meds\",\n",
    "   \"introduction\": \"The US-Medication FHIR Implementation Guide promotes consistent use of the FHIR pharmacy resources in the US for providing patient and provider access to patient medications.\",\n",
    "   \"list\": [(see below for list contents)]\n",
    "~~~\n",
    "\n",
    "- id: The NPM package id for the IG\n",
    "- title: a human readable name for the IG\n",
    "- canonical: the URL at which this package-list.json will be published\n",
    "- introduction: an optional commonmark markdown describing the purpose and contents of the IG\n",
    "- version list 1..* Publication objects\n",
    "- The first entry SHALL be a reference to the CI build. This has current = true, no date, 'current' for the version, etc:"
   ]
  },
  {
   "cell_type": "markdown",
   "metadata": {},
   "source": [
    "~~~\n",
    "     {\n",
    "         \"version\": \"current\",\n",
    "         \"desc\": \"Continuous Integration Build (latest in version control)\",\n",
    "         \"path\": \"http://build.fhir.org/ig/HL7/FHIR-ONC-Meds\",\n",
    "         \"status\": \"ci-build\",\n",
    "         \"current\": true\n",
    "      },\n",
    "       {\n",
    "         \"version\": \"1.1.0\",\n",
    "         \"date\": \"2019-01-31\",\n",
    "         \"desc\": \"STU 2\",\n",
    "         \"changes\": \"n/a\",\n",
    "         \"path\": \"us/meds/STU2\",\n",
    "         \"status\": \"trial-use\",\n",
    "         \"sequence\": \"STU2\"\n",
    "      },\n",
    "      ...\n",
    "~~~\n",
    "\n",
    "- version: the stated version of the IG for the publication\n",
    "- date: the date at which the publication was made [yyyy-mm-dd]\n",
    "- path: where the publication is found. Usually at [canonica]/version or similar (absolute URL)\n",
    "- desc: a text description of the publication (e.g. reason for publication)\n",
    "- changes: a link within the published spec that details the changes in this version (relative URL to path)\n",
    "- status: the status of the publication - one of 'draft', 'ballot', 'trial-use', or 'normative'\n",
    "- sequence: which group to publish this as part of (typically, 'STU 1' etc). Groups all the ballot publications and the final publication for the ballot sequence\n",
    "- current: true if this version should be listed in the current versions summary at the top of the history page. True for the CI-Build, and the version currently posted to the canonical URL\n",
    "- Note: the order of publication entries matters. The list should be ordered, with the ci-build entry first, then gr"
   ]
  },
  {
   "cell_type": "markdown",
   "metadata": {},
   "source": [
    "Note: run this script in python version 3.6+"
   ]
  },
  {
   "cell_type": "code",
   "execution_count": 41,
   "metadata": {},
   "outputs": [],
   "source": [
    "from json import loads, dumps\n",
    "from pprint import pprint\n",
    "from pandas import *"
   ]
  },
  {
   "cell_type": "markdown",
   "metadata": {},
   "source": [
    "## Assign the input  and output paths\n",
    "\n",
    "- you will need to change these to your local directory"
   ]
  },
  {
   "cell_type": "code",
   "execution_count": 42,
   "metadata": {},
   "outputs": [],
   "source": [
    "in_path = \"/Users/ehaas/Documents/Python/testing/package_list_maker/\"\n",
    "in_file = \"package_list.xlsx\"\n",
    "out_path = \"/Users/ehaas/Desktop/\""
   ]
  },
  {
   "cell_type": "markdown",
   "metadata": {},
   "source": [
    "### Package list string templates:"
   ]
  },
  {
   "cell_type": "code",
   "execution_count": 43,
   "metadata": {},
   "outputs": [],
   "source": [
    "package_list_string = '''{{\n",
    " \"package-id\" : \"{package_id}\",\n",
    " \"title\" : \"{title}\",\n",
    " \"canonical\" : \"{canonical}\",\n",
    " \"introduction\" : \"{introduction}\",\n",
    " \"list\" : [{{\n",
    "  \"version\" : \"current\",\n",
    "  \"desc\" : \"Continuous Integration Build (latest in version control)\",\n",
    "  \"path\" : \"http://build.fhir.org/ig/HL7/{ci_path}\",\n",
    "  \"status\" : \"ci-build\",\n",
    "  \"current\" : true\n",
    " }},\n",
    "  {version_list_string}\n",
    " ]\n",
    "}}'''\n",
    "\n",
    "version_list_string = '''{{\n",
    "\"version\" : \"{version}\",\n",
    " \"date\" : \"{date}\",\n",
    " \"desc\" : \"{desc}\",\n",
    " \"changes\" : \"{changes}\",\n",
    " \"path\" : \"{path}\",\n",
    " \"status\" : \"{status}\",\n",
    " \"sequence\" : \"{sequence}\"\n",
    "}}'''"
   ]
  },
  {
   "cell_type": "markdown",
   "metadata": {},
   "source": [
    "### Read read package data as excel file from in_path:\n",
    "\n",
    "See the [example excel file](#)\n",
    "\n",
    "- first the header data for the 'package_list' sheet...\n"
   ]
  },
  {
   "cell_type": "code",
   "execution_count": 44,
   "metadata": {},
   "outputs": [
    {
     "data": {
      "text/html": [
       "<div>\n",
       "<style scoped>\n",
       "    .dataframe tbody tr th:only-of-type {\n",
       "        vertical-align: middle;\n",
       "    }\n",
       "\n",
       "    .dataframe tbody tr th {\n",
       "        vertical-align: top;\n",
       "    }\n",
       "\n",
       "    .dataframe thead th {\n",
       "        text-align: right;\n",
       "    }\n",
       "</style>\n",
       "<table border=\"1\" class=\"dataframe\">\n",
       "  <thead>\n",
       "    <tr style=\"text-align: right;\">\n",
       "      <th></th>\n",
       "      <th>package_id</th>\n",
       "      <th>title</th>\n",
       "      <th>canonical</th>\n",
       "      <th>introduction</th>\n",
       "      <th>ci_path</th>\n",
       "    </tr>\n",
       "  </thead>\n",
       "  <tbody>\n",
       "    <tr>\n",
       "      <th>0</th>\n",
       "      <td>hl7.org.fhir.us.meds</td>\n",
       "      <td>US Meds Implementation Guide</td>\n",
       "      <td>http://hl7.org/fhir/us/meds</td>\n",
       "      <td>The US-Medication FHIR Implementation Guide pr...</td>\n",
       "      <td>FHIR-ONC-Meds</td>\n",
       "    </tr>\n",
       "  </tbody>\n",
       "</table>\n",
       "</div>"
      ],
      "text/plain": [
       "              package_id                         title  \\\n",
       "0  hl7.org.fhir.us.meds   US Meds Implementation Guide   \n",
       "\n",
       "                     canonical  \\\n",
       "0  http://hl7.org/fhir/us/meds   \n",
       "\n",
       "                                        introduction        ci_path  \n",
       "0  The US-Medication FHIR Implementation Guide pr...  FHIR-ONC-Meds  "
      ]
     },
     "execution_count": 44,
     "metadata": {},
     "output_type": "execute_result"
    }
   ],
   "source": [
    "xls = ExcelFile(f'{in_path}{in_file}')\n",
    "df = read_excel(xls,'package_list',na_filter = False)\n",
    "package_dict = df.squeeze().to_dict()\n",
    "\n",
    "df # display the sheet contents"
   ]
  },
  {
   "cell_type": "markdown",
   "metadata": {},
   "source": [
    "- then the versions data from the 'versions' sheet..."
   ]
  },
  {
   "cell_type": "code",
   "execution_count": 45,
   "metadata": {},
   "outputs": [
    {
     "data": {
      "text/html": [
       "<div>\n",
       "<style scoped>\n",
       "    .dataframe tbody tr th:only-of-type {\n",
       "        vertical-align: middle;\n",
       "    }\n",
       "\n",
       "    .dataframe tbody tr th {\n",
       "        vertical-align: top;\n",
       "    }\n",
       "\n",
       "    .dataframe thead th {\n",
       "        text-align: right;\n",
       "    }\n",
       "</style>\n",
       "<table border=\"1\" class=\"dataframe\">\n",
       "  <thead>\n",
       "    <tr style=\"text-align: right;\">\n",
       "      <th></th>\n",
       "      <th>date</th>\n",
       "      <th>version</th>\n",
       "      <th>desc</th>\n",
       "      <th>changes</th>\n",
       "      <th>path</th>\n",
       "      <th>status</th>\n",
       "      <th>sequence</th>\n",
       "    </tr>\n",
       "  </thead>\n",
       "  <tbody>\n",
       "    <tr>\n",
       "      <th>0</th>\n",
       "      <td>2019-01-31</td>\n",
       "      <td>1.1.0</td>\n",
       "      <td>STU 2</td>\n",
       "      <td>n/a</td>\n",
       "      <td>us/meds/STU2</td>\n",
       "      <td>trial-use</td>\n",
       "      <td>STU2</td>\n",
       "    </tr>\n",
       "    <tr>\n",
       "      <th>1</th>\n",
       "      <td>2018-06-14</td>\n",
       "      <td>1.1.0</td>\n",
       "      <td>STU 2 Ballot</td>\n",
       "      <td>n/a</td>\n",
       "      <td>us/meds/2018May</td>\n",
       "      <td>ballot</td>\n",
       "      <td>STU2</td>\n",
       "    </tr>\n",
       "    <tr>\n",
       "      <th>2</th>\n",
       "      <td>2017-06-14</td>\n",
       "      <td>1.0.0</td>\n",
       "      <td>STU 1 (Permanent Home - v1.0.0)</td>\n",
       "      <td>n/a</td>\n",
       "      <td>us/meds/STU1</td>\n",
       "      <td>trial-use</td>\n",
       "      <td>STU1</td>\n",
       "    </tr>\n",
       "    <tr>\n",
       "      <th>3</th>\n",
       "      <td>2016-12-06</td>\n",
       "      <td>n/a</td>\n",
       "      <td>1st Draft</td>\n",
       "      <td>n/a</td>\n",
       "      <td>us/meds/2017Jan</td>\n",
       "      <td>draft</td>\n",
       "      <td>STU1</td>\n",
       "    </tr>\n",
       "  </tbody>\n",
       "</table>\n",
       "</div>"
      ],
      "text/plain": [
       "         date version                             desc changes  \\\n",
       "0  2019-01-31   1.1.0                            STU 2     n/a   \n",
       "1  2018-06-14   1.1.0                     STU 2 Ballot     n/a   \n",
       "2  2017-06-14   1.0.0  STU 1 (Permanent Home - v1.0.0)     n/a   \n",
       "3  2016-12-06     n/a                        1st Draft     n/a   \n",
       "\n",
       "              path     status sequence  \n",
       "0     us/meds/STU2  trial-use     STU2  \n",
       "1  us/meds/2018May     ballot     STU2  \n",
       "2     us/meds/STU1  trial-use     STU1  \n",
       "3  us/meds/2017Jan      draft     STU1  "
      ]
     },
     "execution_count": 45,
     "metadata": {},
     "output_type": "execute_result"
    }
   ],
   "source": [
    "df = read_excel(xls,'versions',na_filter = False)\n",
    "versions = df.to_dict('records')\n",
    "\n",
    "df # display the sheet contents"
   ]
  },
  {
   "cell_type": "markdown",
   "metadata": {},
   "source": [
    "### Using String formatting, Create package-list.json"
   ]
  },
  {
   "cell_type": "code",
   "execution_count": 46,
   "metadata": {},
   "outputs": [
    {
     "name": "stdout",
     "output_type": "stream",
     "text": [
      "{\n",
      "   \"package-id\": \"hl7.org.fhir.us.meds \",\n",
      "   \"title\": \"US Meds Implementation Guide\",\n",
      "   \"canonical\": \"http://hl7.org/fhir/us/meds\",\n",
      "   \"introduction\": \"The US-Medication FHIR Implementation Guide promotes consistent use of the FHIR pharmacy resources in the US for providing patient and provider access to patient medications.\",\n",
      "   \"list\": [\n",
      "      {\n",
      "         \"version\": \"current\",\n",
      "         \"desc\": \"Continuous Integration Build (latest in version control)\",\n",
      "         \"path\": \"http://build.fhir.org/ig/HL7/FHIR-ONC-Meds\",\n",
      "         \"status\": \"ci-build\",\n",
      "         \"current\": true\n",
      "      },\n",
      "      {\n",
      "         \"version\": \"1.1.0\",\n",
      "         \"date\": \"2019-01-31\",\n",
      "         \"desc\": \"STU 2\",\n",
      "         \"changes\": \"n/a\",\n",
      "         \"path\": \"us/meds/STU2\",\n",
      "         \"status\": \"trial-use\",\n",
      "         \"sequence\": \"STU2\"\n",
      "      },\n",
      "      {\n",
      "         \"version\": \"1.1.0\",\n",
      "         \"date\": \"2018-06-14\",\n",
      "         \"desc\": \"STU 2 Ballot\",\n",
      "         \"changes\": \"n/a\",\n",
      "         \"path\": \"us/meds/2018May\",\n",
      "         \"status\": \"ballot\",\n",
      "         \"sequence\": \"STU2\"\n",
      "      },\n",
      "      {\n",
      "         \"version\": \"1.0.0\",\n",
      "         \"date\": \"2017-06-14\",\n",
      "         \"desc\": \"STU 1 (Permanent Home - v1.0.0)\",\n",
      "         \"changes\": \"n/a\",\n",
      "         \"path\": \"us/meds/STU1\",\n",
      "         \"status\": \"trial-use\",\n",
      "         \"sequence\": \"STU1\"\n",
      "      },\n",
      "      {\n",
      "         \"version\": \"n/a\",\n",
      "         \"date\": \"2016-12-06\",\n",
      "         \"desc\": \"1st Draft\",\n",
      "         \"changes\": \"n/a\",\n",
      "         \"path\": \"us/meds/2017Jan\",\n",
      "         \"status\": \"draft\",\n",
      "         \"sequence\": \"STU1\"\n",
      "      }\n",
      "   ]\n",
      "}\n"
     ]
    }
   ],
   "source": [
    "version_list = []\n",
    "for v in versions:\n",
    "    version_list.append(version_list_string.format(**v))\n",
    "    \n",
    "version_list_string = ', '.join(version_list)\n",
    "\n",
    "my_pl = package_list_string.format(\n",
    "version_list_string=version_list_string,\n",
    "**package_dict)\n",
    "\n",
    "print(dumps(loads(my_pl), indent=3))   # display the package-list.json"
   ]
  },
  {
   "cell_type": "markdown",
   "metadata": {},
   "source": [
    "### Write file to out_path:"
   ]
  },
  {
   "cell_type": "code",
   "execution_count": 47,
   "metadata": {},
   "outputs": [],
   "source": [
    "\n",
    "with open('{out_path}package-list.json'.format(out_path=out_path),'w') as f:\n",
    "    f.write((dumps(loads(my_pl), indent=3)))"
   ]
  },
  {
   "cell_type": "markdown",
   "metadata": {},
   "source": [
    "## FIN"
   ]
  },
  {
   "cell_type": "code",
   "execution_count": null,
   "metadata": {},
   "outputs": [],
   "source": []
  }
 ],
 "metadata": {
  "kernelspec": {
   "display_name": "Python 3",
   "language": "python",
   "name": "python3"
  },
  "language_info": {
   "codemirror_mode": {
    "name": "ipython",
    "version": 3
   },
   "file_extension": ".py",
   "mimetype": "text/x-python",
   "name": "python",
   "nbconvert_exporter": "python",
   "pygments_lexer": "ipython3",
   "version": "3.6.2"
  }
 },
 "nbformat": 4,
 "nbformat_minor": 2
}
