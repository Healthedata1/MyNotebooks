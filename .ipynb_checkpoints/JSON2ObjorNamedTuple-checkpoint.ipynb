{
 "cells": [
  {
   "cell_type": "markdown",
   "metadata": {},
   "source": [
    "# Ways to Create object from  FHIR Instance"
   ]
  },
  {
   "cell_type": "code",
   "execution_count": null,
   "metadata": {},
   "outputs": [],
   "source": [
    "import sys, os\n",
    "from pprint import pprint\n",
    "from json import dumps, loads"
   ]
  },
  {
   "cell_type": "markdown",
   "metadata": {},
   "source": [
    "### define utility to convert json string to python object using object_hook method - able to access elements using dot notation"
   ]
  },
  {
   "cell_type": "code",
   "execution_count": null,
   "metadata": {},
   "outputs": [],
   "source": [
    "def _json_object_hook(d):\n",
    "     return type('r', (object,), d)()\n",
    "\n",
    "\n",
    "def json2obj(data):\n",
    "     return loads(data, object_hook=_json_object_hook)"
   ]
  },
  {
   "cell_type": "markdown",
   "metadata": {},
   "source": [
    "### Get FHIR Instance as JSON"
   ]
  },
  {
   "cell_type": "code",
   "execution_count": null,
   "metadata": {},
   "outputs": [],
   "source": [
    "in_path = '/Users/ehaas/Documents/FHIR/synthea/output/fhir/'\n",
    "f_name = 'Denisse335_Stracke611_e760e08d-a0ff-4cd7-83c0-36b27dae6ec3'\n",
    "\n",
    "def open_file(): # get files\n",
    "    with open(f'{in_path}{f_name}.json',encoding='utf-8', errors='ignore') as f:\n",
    "        r = f.read()\n",
    "       \n",
    "        return(r)\n",
    "b = open_file() \n",
    "print(b)"
   ]
  },
  {
   "cell_type": "markdown",
   "metadata": {},
   "source": [
    "### Convert json string to py object"
   ]
  },
  {
   "cell_type": "code",
   "execution_count": null,
   "metadata": {},
   "outputs": [],
   "source": [
    "f = json2obj(b)\n",
    "\n",
    "f"
   ]
  },
  {
   "cell_type": "code",
   "execution_count": null,
   "metadata": {},
   "outputs": [],
   "source": [
    "f.resourceType"
   ]
  },
  {
   "cell_type": "code",
   "execution_count": null,
   "metadata": {},
   "outputs": [],
   "source": [
    "f.entry[0].fullUrl = 'foo'\n",
    "f.entry[0]._fullUrl= 'foo_2'\n",
    "for i in f.entry:\n",
    "    print(i.resource.resourceType,i.resource.id)   \n"
   ]
  },
  {
   "cell_type": "markdown",
   "metadata": {},
   "source": [
    "## Try same thing using namedtuples"
   ]
  },
  {
   "cell_type": "code",
   "execution_count": null,
   "metadata": {},
   "outputs": [],
   "source": [
    "import namedtupled\n",
    "b = b.replace(\"class\", \"FHIRClass\")  # ======= keywords cause problems will need to map back and forth ==========\n",
    "\n",
    "f = namedtupled.json(b)\n",
    "\n",
    "for i in f.entry:\n",
    "    print(i.resource.resourceType,i.resource.id) \n",
    "    print(dumps(i.resource._asdict(),indent=4))\n"
   ]
  },
  {
   "cell_type": "markdown",
   "metadata": {},
   "source": [
    "### finally use FHIRclient models and dynamically create"
   ]
  },
  {
   "cell_type": "code",
   "execution_count": null,
   "metadata": {},
   "outputs": [],
   "source": [
    "# Standard import\n",
    "import importlib\n",
    "d = loads(b)\n",
    "type = d['resourceType']\n",
    "\n",
    "# Instantiate the class (pass arguments to the constructor, if needed)\n",
    "t = getattr(importlib.import_module(f'fhirclient.r4models.{type.lower()}'), type)\n",
    "\n",
    "bundle = t(d, strict = False)\n",
    "print(dumps(bundle.as_json(), indent = 4))  # THIS DOES NOT WORK FOR BUNDLE"
   ]
  },
  {
   "cell_type": "code",
   "execution_count": null,
   "metadata": {},
   "outputs": [],
   "source": [
    "def write_file(r_json,type,id): # write file\n",
    "    out_path = '/Users/ehaas/Documents/FHIR/USCoreR4Validator/source/examples/'  # append forward slash\n",
    "    with open(f'{out_path}{type}-{id}.json', 'w') as f:\n",
    "        f.write(r_json)"
   ]
  }
 ],
 "metadata": {
  "kernelspec": {
   "display_name": "Python 3",
   "language": "python",
   "name": "python3"
  },
  "language_info": {
   "codemirror_mode": {
    "name": "ipython",
    "version": 3
   },
   "file_extension": ".py",
   "mimetype": "text/x-python",
   "name": "python",
   "nbconvert_exporter": "python",
   "pygments_lexer": "ipython3",
   "version": "3.6.2"
  }
 },
 "nbformat": 4,
 "nbformat_minor": 2
}
