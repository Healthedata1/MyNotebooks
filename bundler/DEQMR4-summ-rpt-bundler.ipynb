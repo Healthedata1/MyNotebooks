{
 "cells": [
  {
   "cell_type": "markdown",
   "metadata": {},
   "source": [
    "**\\*\\*\\*\\*\\*\\*\\*Remember to restart Kerne\n",
    "l for new run since the template are not refreshed\\*\\*\\*\\*\\*\\*\\***\n",
    "\n",
    "## Script to create a transaction bundle of multiple indiv and summary Reports\n"
   ]
  },
  {
   "cell_type": "code",
   "execution_count": 1,
   "metadata": {},
   "outputs": [],
   "source": [
    "from json import load, dumps, loads\n",
    "from IPython import display as D\n",
    "from requests import get, post, put\n",
    "from IPython.display import display, Markdown, HTML\n",
    "import fhirclient.r4models.bundle as B\n",
    "import fhirclient.r4models.parameters as P\n",
    "import fhirclient.r4models.fhirdate as D\n",
    "from fhirclient.models.fhirabstractbase import FHIRValidationError \n",
    "import os, uuid\n",
    "from datetime import datetime\n",
    "from pprint import pprint\n",
    "from pathlib import Path\n",
    "#******* select for ind or summ reports ******\n",
    "import ind_resource_templates_new as t \n",
    "#import summ_resource_templates as t"
   ]
  },
  {
   "cell_type": "markdown",
   "metadata": {},
   "source": [
    "### Fetch MeasureReports create List \n",
    "\n",
    "-  *******changed to fetching mr from source using pathlib********"
   ]
  },
  {
   "cell_type": "code",
   "execution_count": 2,
   "metadata": {},
   "outputs": [
    {
     "ename": "FileNotFoundError",
     "evalue": "[Errno 2] No such file or directory: '/Users/ehaas/Documents/FHIR/Davinci-DEQM/source/examples/MeasureReport-measurereport03.json'",
     "output_type": "error",
     "traceback": [
      "\u001b[0;31m---------------------------------------------------------------------------\u001b[0m",
      "\u001b[0;31mFileNotFoundError\u001b[0m                         Traceback (most recent call last)",
      "\u001b[0;32m<ipython-input-2-973153bdc33d>\u001b[0m in \u001b[0;36m<module>\u001b[0;34m\u001b[0m\n\u001b[1;32m     10\u001b[0m     \u001b[0;31m#print(path)\u001b[0m\u001b[0;34m\u001b[0m\u001b[0;34m\u001b[0m\u001b[0;34m\u001b[0m\u001b[0m\n\u001b[1;32m     11\u001b[0m     \u001b[0;31m#print( path.read_text() )\u001b[0m\u001b[0;34m\u001b[0m\u001b[0;34m\u001b[0m\u001b[0;34m\u001b[0m\u001b[0m\n\u001b[0;32m---> 12\u001b[0;31m     \u001b[0mbr_list\u001b[0m\u001b[0;34m.\u001b[0m\u001b[0mappend\u001b[0m\u001b[0;34m(\u001b[0m\u001b[0mloads\u001b[0m\u001b[0;34m(\u001b[0m\u001b[0mpath\u001b[0m\u001b[0;34m.\u001b[0m\u001b[0mread_text\u001b[0m\u001b[0;34m(\u001b[0m\u001b[0;34m)\u001b[0m\u001b[0;34m)\u001b[0m\u001b[0;34m)\u001b[0m\u001b[0;34m\u001b[0m\u001b[0;34m\u001b[0m\u001b[0m\n\u001b[0m\u001b[1;32m     13\u001b[0m \u001b[0;34m\u001b[0m\u001b[0m\n\u001b[1;32m     14\u001b[0m \u001b[0;31m#source/examples/MeasureReport-summ-measurereport02.json\u001b[0m\u001b[0;34m\u001b[0m\u001b[0;34m\u001b[0m\u001b[0;34m\u001b[0m\u001b[0m\n",
      "\u001b[0;32m/Library/Frameworks/Python.framework/Versions/3.7/lib/python3.7/pathlib.py\u001b[0m in \u001b[0;36mread_text\u001b[0;34m(self, encoding, errors)\u001b[0m\n\u001b[1;32m   1197\u001b[0m         \u001b[0mOpen\u001b[0m \u001b[0mthe\u001b[0m \u001b[0mfile\u001b[0m \u001b[0;32min\u001b[0m \u001b[0mtext\u001b[0m \u001b[0mmode\u001b[0m\u001b[0;34m,\u001b[0m \u001b[0mread\u001b[0m \u001b[0mit\u001b[0m\u001b[0;34m,\u001b[0m \u001b[0;32mand\u001b[0m \u001b[0mclose\u001b[0m \u001b[0mthe\u001b[0m \u001b[0mfile\u001b[0m\u001b[0;34m.\u001b[0m\u001b[0;34m\u001b[0m\u001b[0;34m\u001b[0m\u001b[0m\n\u001b[1;32m   1198\u001b[0m         \"\"\"\n\u001b[0;32m-> 1199\u001b[0;31m         \u001b[0;32mwith\u001b[0m \u001b[0mself\u001b[0m\u001b[0;34m.\u001b[0m\u001b[0mopen\u001b[0m\u001b[0;34m(\u001b[0m\u001b[0mmode\u001b[0m\u001b[0;34m=\u001b[0m\u001b[0;34m'r'\u001b[0m\u001b[0;34m,\u001b[0m \u001b[0mencoding\u001b[0m\u001b[0;34m=\u001b[0m\u001b[0mencoding\u001b[0m\u001b[0;34m,\u001b[0m \u001b[0merrors\u001b[0m\u001b[0;34m=\u001b[0m\u001b[0merrors\u001b[0m\u001b[0;34m)\u001b[0m \u001b[0;32mas\u001b[0m \u001b[0mf\u001b[0m\u001b[0;34m:\u001b[0m\u001b[0;34m\u001b[0m\u001b[0;34m\u001b[0m\u001b[0m\n\u001b[0m\u001b[1;32m   1200\u001b[0m             \u001b[0;32mreturn\u001b[0m \u001b[0mf\u001b[0m\u001b[0;34m.\u001b[0m\u001b[0mread\u001b[0m\u001b[0;34m(\u001b[0m\u001b[0;34m)\u001b[0m\u001b[0;34m\u001b[0m\u001b[0;34m\u001b[0m\u001b[0m\n\u001b[1;32m   1201\u001b[0m \u001b[0;34m\u001b[0m\u001b[0m\n",
      "\u001b[0;32m/Library/Frameworks/Python.framework/Versions/3.7/lib/python3.7/pathlib.py\u001b[0m in \u001b[0;36mopen\u001b[0;34m(self, mode, buffering, encoding, errors, newline)\u001b[0m\n\u001b[1;32m   1184\u001b[0m             \u001b[0mself\u001b[0m\u001b[0;34m.\u001b[0m\u001b[0m_raise_closed\u001b[0m\u001b[0;34m(\u001b[0m\u001b[0;34m)\u001b[0m\u001b[0;34m\u001b[0m\u001b[0;34m\u001b[0m\u001b[0m\n\u001b[1;32m   1185\u001b[0m         return io.open(self, mode, buffering, encoding, errors, newline,\n\u001b[0;32m-> 1186\u001b[0;31m                        opener=self._opener)\n\u001b[0m\u001b[1;32m   1187\u001b[0m \u001b[0;34m\u001b[0m\u001b[0m\n\u001b[1;32m   1188\u001b[0m     \u001b[0;32mdef\u001b[0m \u001b[0mread_bytes\u001b[0m\u001b[0;34m(\u001b[0m\u001b[0mself\u001b[0m\u001b[0;34m)\u001b[0m\u001b[0;34m:\u001b[0m\u001b[0;34m\u001b[0m\u001b[0;34m\u001b[0m\u001b[0m\n",
      "\u001b[0;32m/Library/Frameworks/Python.framework/Versions/3.7/lib/python3.7/pathlib.py\u001b[0m in \u001b[0;36m_opener\u001b[0;34m(self, name, flags, mode)\u001b[0m\n\u001b[1;32m   1037\u001b[0m     \u001b[0;32mdef\u001b[0m \u001b[0m_opener\u001b[0m\u001b[0;34m(\u001b[0m\u001b[0mself\u001b[0m\u001b[0;34m,\u001b[0m \u001b[0mname\u001b[0m\u001b[0;34m,\u001b[0m \u001b[0mflags\u001b[0m\u001b[0;34m,\u001b[0m \u001b[0mmode\u001b[0m\u001b[0;34m=\u001b[0m\u001b[0;36m0o666\u001b[0m\u001b[0;34m)\u001b[0m\u001b[0;34m:\u001b[0m\u001b[0;34m\u001b[0m\u001b[0;34m\u001b[0m\u001b[0m\n\u001b[1;32m   1038\u001b[0m         \u001b[0;31m# A stub for the opener argument to built-in open()\u001b[0m\u001b[0;34m\u001b[0m\u001b[0;34m\u001b[0m\u001b[0;34m\u001b[0m\u001b[0m\n\u001b[0;32m-> 1039\u001b[0;31m         \u001b[0;32mreturn\u001b[0m \u001b[0mself\u001b[0m\u001b[0;34m.\u001b[0m\u001b[0m_accessor\u001b[0m\u001b[0;34m.\u001b[0m\u001b[0mopen\u001b[0m\u001b[0;34m(\u001b[0m\u001b[0mself\u001b[0m\u001b[0;34m,\u001b[0m \u001b[0mflags\u001b[0m\u001b[0;34m,\u001b[0m \u001b[0mmode\u001b[0m\u001b[0;34m)\u001b[0m\u001b[0;34m\u001b[0m\u001b[0;34m\u001b[0m\u001b[0m\n\u001b[0m\u001b[1;32m   1040\u001b[0m \u001b[0;34m\u001b[0m\u001b[0m\n\u001b[1;32m   1041\u001b[0m     \u001b[0;32mdef\u001b[0m \u001b[0m_raw_open\u001b[0m\u001b[0;34m(\u001b[0m\u001b[0mself\u001b[0m\u001b[0;34m,\u001b[0m \u001b[0mflags\u001b[0m\u001b[0;34m,\u001b[0m \u001b[0mmode\u001b[0m\u001b[0;34m=\u001b[0m\u001b[0;36m0o777\u001b[0m\u001b[0;34m)\u001b[0m\u001b[0;34m:\u001b[0m\u001b[0;34m\u001b[0m\u001b[0;34m\u001b[0m\u001b[0m\n",
      "\u001b[0;31mFileNotFoundError\u001b[0m: [Errno 2] No such file or directory: '/Users/ehaas/Documents/FHIR/Davinci-DEQM/source/examples/MeasureReport-measurereport03.json'"
     ]
    }
   ],
   "source": [
    "out_path = t.out_path\n",
    "b_ref_list = {x for i in t.mrs for x in i } # unique set of core-references\n",
    "#print(b_ref_list)\n",
    "b_url_list = [f'{i.replace(\"/\",\"-\")}.json' for i in b_ref_list]\n",
    "#print(b_url_list)\n",
    "ref_map = dict(zip(b_ref_list,b_ref_list))\n",
    "br_list = []\n",
    "for i in b_url_list:\n",
    "    path = Path() / t.base / t.source / i\n",
    "    #print(path)\n",
    "    #print( path.read_text() )\n",
    "    br_list.append(loads(path.read_text()))\n",
    "    \n",
    "#source/examples/MeasureReport-summ-measurereport02.json\n",
    "b_ref_list, b_url_list, ref_map, br_list, "
   ]
  },
  {
   "cell_type": "markdown",
   "metadata": {},
   "source": [
    "### global variables"
   ]
  },
  {
   "cell_type": "code",
   "execution_count": null,
   "metadata": {},
   "outputs": [],
   "source": [
    "\"\"\"summ = True\n",
    "use_bundle=True\n",
    "single_patient = False\n",
    "use_task = False\n",
    "uc = ''#'mrp\"\"\"\n",
    "\n",
    "\n",
    "bundle_id = (f'{\"single\" if t.single_patient else \"multiple\"}-{\"summ\" if t.summ else \"ind\"}-{t.uc}'\n",
    "            f'{\"\" if t.summ else (\"-task-\" if use_task else \"-obs-\")}report')\n",
    "print(bundle_id)"
   ]
  },
  {
   "cell_type": "code",
   "execution_count": null,
   "metadata": {},
   "outputs": [],
   "source": [
    "bundle_type = 'transaction'\n",
    "                         \n",
    "'''parameter_id = '' #f'{uc}-submit-data-example'\n",
    "print(parameter_id)'''"
   ]
  },
  {
   "cell_type": "code",
   "execution_count": null,
   "metadata": {},
   "outputs": [],
   "source": [
    "'''#in_path =  \"//ERICS-AIR-2/ehaas/Documents/FHIR/synthea/output/us_core_r4/fhir_10yr_hx\" # local source of Synthea bundles from PC to Mac\n",
    "in_path = \"/Users/ehaas/Documents/Documents/FHIR/synthea/output/us_core_r4/fhir_10yr_hx\"\n",
    "#out_path = '/Users/ehaas/Documents/FHIR/Davinci-DEQM/source/examples/'  # append forward slash\n",
    "out_path ='r4'  #local output dir\n",
    "#out_path = \"//ERICS-AIR-2/ehaas/Documents/FHIR/Davinci-DEQM/source/examples\"  # DEqm source'''\n",
    "\n",
    "t.out_path"
   ]
  },
  {
   "cell_type": "code",
   "execution_count": null,
   "metadata": {},
   "outputs": [],
   "source": [
    "'''\n",
    "if single_patient:\n",
    "    ref_map = dict(zip(t.mrp1_core_references,t.mrp1_core_references)) # init the ref with old:new=old\n",
    "    my_resources = t.mrp1  # get all core resource templates from use case list\n",
    "\n",
    "else: # mult patients or summ\n",
    "    mult_ref_mrp = (i['core_references'] for i in t.mrs)\n",
    "    # mult_ref_mrp =  set(t.mrp1_core_references + t.mrp2_core_references + t.mrp3_core_references)\n",
    "    #ref_map = dict(zip(mult_ref_mrp,mult_ref_mrp))\n",
    "\n",
    "    #mult_mrp = t.mrp1 + t.mrp2 + t.mrp3  # take three list and combine\n",
    "    my_resources = [i['id'] for i in t.mrs]\n",
    "    \n",
    "mult_ref_mrp, my_resources'''"
   ]
  },
  {
   "cell_type": "markdown",
   "metadata": {},
   "source": [
    "## Some Functions"
   ]
  },
  {
   "cell_type": "markdown",
   "metadata": {},
   "source": [
    "###  write to file"
   ]
  },
  {
   "cell_type": "code",
   "execution_count": null,
   "metadata": {},
   "outputs": [],
   "source": [
    "def write_file(r): # write file\n",
    "    with open(f'{out_path}/Bundle-{bundle_id}.json', 'w', encoding='utf-8') as f:\n",
    "        f.write(r)"
   ]
  },
  {
   "cell_type": "markdown",
   "metadata": {},
   "source": [
    "\n"
   ]
  },
  {
   "cell_type": "markdown",
   "metadata": {},
   "source": [
    "### validate"
   ]
  },
  {
   "cell_type": "code",
   "execution_count": null,
   "metadata": {},
   "outputs": [],
   "source": [
    "# *********************** validate Resource ********************************\n",
    "\n",
    "def validate(r):\n",
    "\n",
    "    #fhir_test_server = 'http://test.fhir.org/r4'\n",
    "    #fhir_test_server = 'http://hapi.fhir.org/baseR4'\n",
    "    fhir_test_server ='http://wildfhir4.aegis.net/fhir4-0-1'\n",
    "    headers = {\n",
    "    'Accept':'application/fhir+json',\n",
    "    'Content-Type':'application/fhir+json'\n",
    "    }\n",
    "\n",
    "    # profile = 'http://hl7.org/fhir/us/core/StructureDefinition/us-core-patient' # The official URL for this profile is: http://hl7.org/fhir/us/core/StructureDefinition/us-core-patient\n",
    " \n",
    "    params = dict(\n",
    "      # profile = 'http://hl7.org/fhir/us/core/StructureDefinition/us-core-patient' # The official URL for this profile is: http://hl7.org/fhir/us/core/StructureDefinition/us-core-patient\n",
    "        )\n",
    "    \n",
    "    #   r = requests.post('https://httpbin.org/post', data = {'key':'value'})\n",
    "    r = post(f'{fhir_test_server}/{r.resource_type}/$validate', params = params, headers = headers, data = dumps(r.as_json()))\n",
    "    # return r.status_code\n",
    "    # view  output\n",
    "    # return (r.json()[\"text\"][\"div\"])\n",
    "    return r"
   ]
  },
  {
   "cell_type": "markdown",
   "metadata": {},
   "source": [
    "### parse out patient url from Synthea bundle object\n"
   ]
  },
  {
   "cell_type": "code",
   "execution_count": null,
   "metadata": {},
   "outputs": [],
   "source": [
    "def get_resource_url(b, type):\n",
    "    my_url = [e.fullUrl for e in b.entry if e.resource.resource_type ==type]\n",
    "    return(my_url[0]) "
   ]
  },
  {
   "cell_type": "markdown",
   "metadata": {},
   "source": [
    "### get resource from Synthea bundle object by id\n",
    "\n",
    "-  return as dict\n",
    "-  make generic later"
   ]
  },
  {
   "cell_type": "code",
   "execution_count": null,
   "metadata": {},
   "outputs": [],
   "source": [
    "def get_resource_by_url(b,my_url):\n",
    "    '''my_encounters = [e.resource for e in b.entry\n",
    "        if e.resource.resource_type == 'Encounter']\n",
    "    for my_encounter in my_encounters:\n",
    "        print( my_encounter.id, my_encounter.type[0].coding[0].as_json() )\n",
    "        #return(my_encounter[0].as_json())# assume only one / Bundle'''\n",
    "    my_resource = [e.resource for e in b.entry\n",
    "        if e.fullUrl == my_url]\n",
    "    print(my_url, my_resource)\n",
    "    return(my_resource[0].as_json())# assume only one / Bundle\n",
    " "
   ]
  },
  {
   "cell_type": "markdown",
   "metadata": {},
   "source": [
    "### update my_resources list and reference map\n"
   ]
  },
  {
   "cell_type": "code",
   "execution_count": null,
   "metadata": {},
   "outputs": [],
   "source": [
    "def add_resource_by_url(my_patient_data,my_url,r_type,num=0):\n",
    "    ref_map[f'{r_type}/{r_type.lower()}0{num+1}'] = my_url\n",
    "    my_resource = get_resource_by_url(my_patient_data,my_url)\n",
    "    # if organization make sure has an NPI\n",
    "    if my_resource[\"resourceType\"] == \"Organization\":\n",
    "        my_resource[\"identifier\"] = t.org_npi\n",
    "    # if encoounter make an inpatient encounter\n",
    "    elif my_resource[\"resourceType\"] == \"Encounter\":\n",
    "        my_resource[\"class\"]['code'] == \"AMB\"\n",
    "        my_resource[\"type\"] = t.enc_type\n",
    "        # use the same organization for all the reports in the bundle\n",
    "        if num != 0:\n",
    "            my_resource[\"serviceProvider\"] = {\"reference\":ref_map[\"Organization/organization01\"]}\n",
    "            my_resource[\"location\"][0][\"location\"] = {\"reference\":ref_map[\"Location/location01\"]}\n",
    "    elif my_resource[\"resourceType\"] == \"Patient\": \n",
    "        my_resource.pop('deceasedDateTime', None) # make sure is alive...\n",
    "        # remove illegal extensions\n",
    "        my_resource['extension'].pop()\n",
    "        my_resource['extension'].pop() \n",
    "    my_resources.append(my_resource)\n",
    "return"
   ]
  },
  {
   "cell_type": "markdown",
   "metadata": {},
   "source": [
    "### Get files in current path\n",
    "\n",
    "- get only 1\n",
    "- convert the files to FHIR Bundle object\n"
   ]
  },
  {
   "cell_type": "code",
   "execution_count": null,
   "metadata": {},
   "outputs": [],
   "source": [
    "def get_synth_patient_data(num=1):\n",
    "    pyfhir = []\n",
    "    my_patient_files = [x for i,x in enumerate(os.listdir(in_path)) if i < num]\n",
    "    pprint(my_patient_files)\n",
    "    for my_patient_file in my_patient_files:\n",
    "        with open(f'{in_path}/{my_patient_file}', encoding='utf-8') as f:\n",
    "            r = f.read()\n",
    "            pyfhir.append(B.Bundle(loads(r)))\n",
    "    return(pyfhir)"
   ]
  },
  {
   "cell_type": "markdown",
   "metadata": {},
   "source": [
    "## Main part of Code"
   ]
  },
  {
   "cell_type": "markdown",
   "metadata": {},
   "source": [
    "\n"
   ]
  },
  {
   "cell_type": "markdown",
   "metadata": {},
   "source": [
    "### 1. create Bundle 'b'  change the id for unique Bundles!!!"
   ]
  },
  {
   "cell_type": "code",
   "execution_count": null,
   "metadata": {},
   "outputs": [],
   "source": [
    "b = B.Bundle()\n",
    "b.id =  bundle_id\n",
    "b.type = bundle_type\n",
    "b.timestamp = D.FHIRDate(f'{datetime.utcnow().isoformat()}Z')\n",
    "b.as_json()"
   ]
  },
  {
   "cell_type": "markdown",
   "metadata": {},
   "source": [
    "### 1. create Parameters resource 'p'  change the id for unique Bundles!!!"
   ]
  },
  {
   "cell_type": "code",
   "execution_count": null,
   "metadata": {},
   "outputs": [],
   "source": [
    "p = P.Parameters()\n",
    "p.id =  bundle_id\n",
    "p.as_json()"
   ]
  },
  {
   "cell_type": "markdown",
   "metadata": {},
   "source": [
    "### 2.  Add Core resources to resource bundle list\n",
    "\n",
    "- get all core resource templates from use case list\n",
    "\n",
    "### 3.  Add Patient resources to resource bundle list\n",
    "\n",
    "- first get synthea patient bundle for 1 patient\n",
    "- parse out patient resource\n",
    "- add to list as patient01\n",
    "- make alive if deceased\n",
    "\n",
    "### 3.  Add Encounter resources to resource bundle list\n",
    "\n",
    "- use synthea patient bundle for same patient as above\n",
    "- parse out encounter resources and look at type\n",
    "- choose id for inpatient encounter\n",
    "- use id to:\n",
    "    - add to list as encounter\n",
    "    - replace all references id\n",
    "    \n",
    "### based upon the Encounter add in the organization01, Location and patient01\n",
    "\n",
    "- use the uuid to add in these resources\n",
    "- update the ref_map\n",
    "\n",
    "### Create a mapping of ids to uuids\n",
    "\n",
    "- get id from resource\n",
    "- map to uuid (create a dict of {urn:old_ref})\n",
    "- remove id element\n",
    "- replace all old refs in bundle with new urns\n"
   ]
  },
  {
   "cell_type": "code",
   "execution_count": null,
   "metadata": {},
   "outputs": [],
   "source": [
    "first = True\n",
    "b.entry = []\n",
    "'''\n",
    "num = 1 if single_patient else 3\n",
    "\n",
    "# get patient data as fhir object\n",
    "my_patient_data_list = get_synth_patient_data(num)\n",
    "\n",
    "\n",
    "for i,my_patient_data in enumerate(my_patient_data_list):\n",
    "    # get patient0n as dict\n",
    "    r_type = 'Patient'\n",
    "    print(f'i={i}')\n",
    "    \n",
    "    \n",
    "    my_url = get_resource_url(my_patient_data, r_type)\n",
    "    add_resource_by_url(my_patient_data,my_url,r_type,i)\n",
    "\n",
    "    # get encounter as dict\n",
    "    r_type = 'Encounter'\n",
    "    my_url = get_resource_url(my_patient_data, r_type)\n",
    "    add_resource_by_url(my_patient_data,my_url,r_type,i)\n",
    "\n",
    "    my_encounter = my_resources[-1]\n",
    "    # get practitioner01 from encounter\n",
    "    my_url = my_encounter['participant'][0]['individual']['reference']\n",
    "    r_type = 'Practitioner'\n",
    "    add_resource_by_url(my_patient_data,my_url,r_type,i)\n",
    "\n",
    "    if i == 0:\n",
    "        # get organization01 from encounter\n",
    "        my_url = my_encounter['serviceProvider']['reference']\n",
    "        r_type = 'Organization'\n",
    "        add_resource_by_url(my_patient_data,my_url,r_type)\n",
    "        # get location01 from encounter\n",
    "        my_url = my_encounter['location'][0]['location']['reference']\n",
    "        r_type = 'Location'\n",
    "        add_resource_by_url(my_patient_data,my_url,r_type)\n",
    "'''   \n",
    "#if use_bundle:\n",
    "\n",
    "\n",
    "'''\n",
    "variables=\n",
    "b_id_list, \n",
    "b_mrref_list, \n",
    "b_ref_list, \n",
    "b_ref_list, \n",
    "b_url_list, \n",
    "ref_map, \n",
    "br_list, \n",
    "'''\n",
    "\n",
    "for resource in br_list:  # look at each dict in list and bundle\n",
    "    resource_type= resource[\"resourceType\"]\n",
    "    \n",
    "    # make sure that evaluatedResource is aligned\n",
    "    if resource_type == 'MeasureReport' and not t.use_task:\n",
    "        try:\n",
    "            er = resource['evaluatedResource'][0]['reference']\n",
    "        except KeyError:\n",
    "            pass\n",
    "        else:\n",
    "            er = er.replace('Task', 'Observation')\n",
    "            er = er.replace('task', 'observation')\n",
    "            resource['evaluatedResource'][0]['reference'] = er\n",
    "\n",
    "\n",
    "    # remove text from resource\n",
    "    resource.pop('text', None)       \n",
    "    # remove id from resource if not a uuid and replace with uuid\n",
    "    #print(template[\"id\"])\n",
    "    old_id =  resource.pop('id',None)\n",
    "    try: # check if a valid UUID\n",
    "        val = uuid.UUID(old_id, version=4)\n",
    "        new_urn = f'urn:uuid:{old_id}'\n",
    "    except ValueError:\n",
    "        # If it's a value error, then the string \n",
    "        # is not a valid hex code for a UUID.\n",
    "        # print('invalid')\n",
    "        new_urn = uuid.uuid1().urn # new urn for resource\n",
    "        ref_map[f'{resource_type}/{old_id}'] = new_urn #update the maps to uuid\n",
    "    #print(ref_map , '\\n')\n",
    "    e = B.BundleEntry(dict\n",
    "        (\n",
    "        resource = resource,\n",
    "        fullUrl = new_urn,\n",
    "        )\n",
    "      )\n",
    "    if bundle_type in ['transaction', 'batch']:\n",
    "        e.request = B.BundleEntryRequest(dict\n",
    "                    (\n",
    "                    method = 'POST',\n",
    "                    url =  resource['resourceType']\n",
    "                    )\n",
    "                    )\n",
    "\n",
    "    if( (resource_type != 'Observation' and t.use_task)\n",
    "        or (resource_type != 'Task' and not t.use_task) ): \n",
    "        b.entry.append(e)\n",
    "pprint(ref_map)\n",
    "b_json = dumps(b.as_json(),indent =3)\n",
    "# print(b_json)\n",
    "for old_ref, new_ref in ref_map.items():\n",
    "    b_json = b_json.replace(old_ref,new_ref)\n",
    "\"\"\"for bad, good in t.qa_issues.items():\n",
    "    b_json = b_json.replace(bad,good)\"\"\"\n",
    "print(b_json)\n",
    "print('.......validating')\n",
    "r = validate(b)\n",
    "display(HTML(f'<h1>Validation output</h1><h3>Status Code = {r.status_code}</h3> {r.json()[\"text\"][\"div\"]}'))\n",
    "write_file(b_json)\n",
    "                 \n",
    "'''else:  # use parameters\n",
    "    p = P.Parameters()\n",
    "    p.id =  bundle_id\n",
    "    pprint(ref_map)             \n",
    "\n",
    "    for resource in my_resources:  # all templates as dict in mrp\n",
    "        resource_type= resource[\"resourceType\"]\n",
    "'''\n",
    "        \n",
    "        \n",
    "              "
   ]
  },
  {
   "cell_type": "code",
   "execution_count": null,
   "metadata": {},
   "outputs": [],
   "source": []
  },
  {
   "cell_type": "code",
   "execution_count": null,
   "metadata": {},
   "outputs": [],
   "source": []
  }
 ],
 "metadata": {
  "kernelspec": {
   "display_name": "Python 3",
   "language": "python",
   "name": "python3"
  },
  "language_info": {
   "codemirror_mode": {
    "name": "ipython",
    "version": 3
   },
   "file_extension": ".py",
   "mimetype": "text/x-python",
   "name": "python",
   "nbconvert_exporter": "python",
   "pygments_lexer": "ipython3",
   "version": "3.7.3"
  }
 },
 "nbformat": 4,
 "nbformat_minor": 4
}
