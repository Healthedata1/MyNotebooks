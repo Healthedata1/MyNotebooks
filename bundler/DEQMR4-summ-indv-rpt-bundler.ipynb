{
 "cells": [
  {
   "cell_type": "markdown",
   "metadata": {},
   "source": [
    "**\\*\\*\\*\\*\\*\\*\\*Remember to restart Kerne\n",
    "l for new run since the template are not refreshed\\*\\*\\*\\*\\*\\*\\***\n",
    "\n",
    "## Script to create a transaction bundle of multiple indiv and summary Reports\n"
   ]
  },
  {
   "cell_type": "code",
   "execution_count": null,
   "metadata": {},
   "outputs": [],
   "source": [
    "from json import load, dumps, loads\n",
    "from IPython import display as D\n",
    "from requests import get, post, put\n",
    "from IPython.display import display, Markdown, HTML\n",
    "import fhirclient.r4models.bundle as B\n",
    "import fhirclient.r4models.parameters as P\n",
    "import fhirclient.r4models.fhirdate as D\n",
    "from fhirclient.models.fhirabstractbase import FHIRValidationError \n",
    "import os, uuid\n",
    "from datetime import datetime\n",
    "from pprint import pprint\n",
    "from pathlib import Path\n",
    "#******* select for ind or summ reports ******\n",
    "import ind_resource_templates_new as t \n",
    "#import summ_resource_templates as t"
   ]
  },
  {
   "cell_type": "markdown",
   "metadata": {},
   "source": [
    "### Fetch MeasureReports create List \n",
    "\n",
    "-  *******changed to fetching mr from source using pathlib********"
   ]
  },
  {
   "cell_type": "code",
   "execution_count": null,
   "metadata": {},
   "outputs": [],
   "source": [
    "print(t.out_path, t.base, t.source)\n",
    "out_path = t.out_path\n",
    "#print(out_path)\n",
    "\n",
    "\n",
    "pprint(t.refs)\n",
    "ref_map = dict(zip(t.refs,t.refs))\n",
    "br_list = []\n",
    "for i in t.refs:\n",
    "    try: #from local dict file\n",
    "        k = i.split('/')[-1]\n",
    "        print(k)\n",
    "        br_list.append(t.mrs[k])\n",
    "    except KeyError: #fetch from project folder\n",
    "        r_file = f'{i.replace(\"/\",\"-\")}.json'\n",
    "        path = Path() / t.base / t.source / r_file\n",
    "        print(path)\n",
    "        try:\n",
    "            br_list.append(loads(path.read_text()))\n",
    "        except FileNotFoundError:  # PC to Mac\n",
    "           path = Path() / t.base.replace('/Users','//ERICS-AIR-2') / t.source / r_file\n",
    "           print(path)\n",
    "           br_list.append(loads(path.read_text()))\n",
    "\n",
    "pprint(br_list)"
   ]
  },
  {
   "cell_type": "markdown",
   "metadata": {},
   "source": [
    "### global variables"
   ]
  },
  {
   "cell_type": "code",
   "execution_count": null,
   "metadata": {},
   "outputs": [],
   "source": [
    "\"\"\"summ = True\n",
    "use_bundle=True\n",
    "single_patient = False\n",
    "use_task = False\n",
    "uc = ''#'mrp\"\"\"\n",
    "\n",
    "\n",
    "bundle_id = (f'{\"single\" if t.single_patient else \"multiple\"}-{\"summ\" if t.summ else \"indv\"}-{t.uc}'\n",
    "            f'{\"\" if t.summ else (\"-task-\" if t.use_task else \"-obs-\")}report')\n",
    "print(bundle_id)"
   ]
  },
  {
   "cell_type": "code",
   "execution_count": null,
   "metadata": {},
   "outputs": [],
   "source": [
    "bundle_type = 'transaction'"
   ]
  },
  {
   "cell_type": "markdown",
   "metadata": {},
   "source": [
    "## Some Functions"
   ]
  },
  {
   "cell_type": "markdown",
   "metadata": {},
   "source": [
    "###  write to file"
   ]
  },
  {
   "cell_type": "code",
   "execution_count": null,
   "metadata": {},
   "outputs": [],
   "source": [
    "def write_file(r): # write file\n",
    "    try:\n",
    "        with open(f'{out_path}/Bundle-{bundle_id}.json', 'w', encoding='utf-8') as f:\n",
    "            f.write(r)\n",
    "    except FileNotFoundError:\n",
    "        with open(f'{out_path.replace(\"/Users\", \"//ERICS-AIR-2\")}/Bundle-{bundle_id}.json', 'w', encoding='utf-8') as f:\n",
    "            f.write(r)\n",
    "        "
   ]
  },
  {
   "cell_type": "markdown",
   "metadata": {},
   "source": [
    "\n"
   ]
  },
  {
   "cell_type": "markdown",
   "metadata": {},
   "source": [
    "### validate"
   ]
  },
  {
   "cell_type": "code",
   "execution_count": null,
   "metadata": {},
   "outputs": [],
   "source": [
    "# *********************** validate Resource ********************************\n",
    "\n",
    "def validate(r):\n",
    "\n",
    "    #fhir_test_server = 'http://test.fhir.org/r4'\n",
    "    #fhir_test_server = 'http://hapi.fhir.org/baseR4'\n",
    "    fhir_test_server ='http://wildfhir4.aegis.net/fhir4-0-1'\n",
    "    headers = {\n",
    "    'Accept':'application/fhir+json',\n",
    "    'Content-Type':'application/fhir+json'\n",
    "    }\n",
    "\n",
    "    # profile = 'http://hl7.org/fhir/us/core/StructureDefinition/us-core-patient' # The official URL for this profile is: http://hl7.org/fhir/us/core/StructureDefinition/us-core-patient\n",
    " \n",
    "    params = dict(\n",
    "      # profile = 'http://hl7.org/fhir/us/core/StructureDefinition/us-core-patient' # The official URL for this profile is: http://hl7.org/fhir/us/core/StructureDefinition/us-core-patient\n",
    "        )\n",
    "    \n",
    "    #   r = requests.post('https://httpbin.org/post', data = {'key':'value'})\n",
    "    r = post(f'{fhir_test_server}/{r.resource_type}/$validate', params = params, headers = headers, data = dumps(r.as_json()))\n",
    "    # return r.status_code\n",
    "    # view  output\n",
    "    # return (r.json()[\"text\"][\"div\"])\n",
    "    return r"
   ]
  },
  {
   "cell_type": "markdown",
   "metadata": {},
   "source": [
    "### parse out patient url from Synthea bundle object\n"
   ]
  },
  {
   "cell_type": "code",
   "execution_count": null,
   "metadata": {},
   "outputs": [],
   "source": [
    "def get_resource_url(b, type):\n",
    "    my_url = [e.fullUrl for e in b.entry if e.resource.resource_type ==type]\n",
    "    return(my_url[0]) "
   ]
  },
  {
   "cell_type": "markdown",
   "metadata": {},
   "source": [
    "### get resource from Synthea bundle object by id\n",
    "\n",
    "-  return as dict\n",
    "-  make generic later"
   ]
  },
  {
   "cell_type": "code",
   "execution_count": null,
   "metadata": {},
   "outputs": [],
   "source": [
    "def get_resource_by_url(b,my_url):\n",
    "    '''my_encounters = [e.resource for e in b.entry\n",
    "        if e.resource.resource_type == 'Encounter']\n",
    "    for my_encounter in my_encounters:\n",
    "        print( my_encounter.id, my_encounter.type[0].coding[0].as_json() )\n",
    "        #return(my_encounter[0].as_json())# assume only one / Bundle'''\n",
    "    my_resource = [e.resource for e in b.entry\n",
    "        if e.fullUrl == my_url]\n",
    "    print(my_url, my_resource)\n",
    "    return(my_resource[0].as_json())# assume only one / Bundle\n",
    " "
   ]
  },
  {
   "cell_type": "markdown",
   "metadata": {},
   "source": [
    "### update my_resources list and reference map\n"
   ]
  },
  {
   "cell_type": "code",
   "execution_count": null,
   "metadata": {},
   "outputs": [],
   "source": [
    "def add_resource_by_url(my_patient_data,my_url,r_type,num=0):\n",
    "    ref_map[f'{r_type}/{r_type.lower()}0{num+1}'] = my_url\n",
    "    my_resource = get_resource_by_url(my_patient_data,my_url)\n",
    "    # if organization make sure has an NPI\n",
    "    if my_resource[\"resourceType\"] == \"Organization\":\n",
    "        my_resource[\"identifier\"] = t.org_npi\n",
    "    # if encoounter make an inpatient encounter\n",
    "    elif my_resource[\"resourceType\"] == \"Encounter\":\n",
    "        my_resource[\"class\"]['code'] == \"AMB\"\n",
    "        my_resource[\"type\"] = t.enc_type\n",
    "        # use the same organization for all the reports in the bundle\n",
    "        if num != 0:\n",
    "            my_resource[\"serviceProvider\"] = {\"reference\":ref_map[\"Organization/organization01\"]}\n",
    "            my_resource[\"location\"][0][\"location\"] = {\"reference\":ref_map[\"Location/location01\"]}\n",
    "    elif my_resource[\"resourceType\"] == \"Patient\": \n",
    "        my_resource.pop('deceasedDateTime', None) # make sure is alive...\n",
    "        # remove illegal extensions\n",
    "        my_resource['extension'].pop()\n",
    "        my_resource['extension'].pop() \n",
    "    my_resources.append(my_resource)\n",
    "return"
   ]
  },
  {
   "cell_type": "markdown",
   "metadata": {},
   "source": [
    "### Get files in current path\n",
    "\n",
    "- get only 1\n",
    "- convert the files to FHIR Bundle object\n"
   ]
  },
  {
   "cell_type": "code",
   "execution_count": null,
   "metadata": {},
   "outputs": [],
   "source": [
    "def get_synth_patient_data(num=1):\n",
    "    pyfhir = []\n",
    "    my_patient_files = [x for i,x in enumerate(os.listdir(in_path)) if i < num]\n",
    "    pprint(my_patient_files)\n",
    "    for my_patient_file in my_patient_files:\n",
    "        with open(f'{in_path}/{my_patient_file}', encoding='utf-8') as f:\n",
    "            r = f.read()\n",
    "            pyfhir.append(B.Bundle(loads(r)))\n",
    "    return(pyfhir)"
   ]
  },
  {
   "cell_type": "markdown",
   "metadata": {},
   "source": [
    "## Main part of Code"
   ]
  },
  {
   "cell_type": "markdown",
   "metadata": {},
   "source": [
    "\n"
   ]
  },
  {
   "cell_type": "markdown",
   "metadata": {},
   "source": [
    "### 1. create Bundle 'b'  change the id for unique Bundles!!!"
   ]
  },
  {
   "cell_type": "code",
   "execution_count": null,
   "metadata": {},
   "outputs": [],
   "source": [
    "b = B.Bundle()\n",
    "b.id =  bundle_id\n",
    "b.type = bundle_type\n",
    "b.timestamp = D.FHIRDate(f'{datetime.utcnow().isoformat()}Z')\n",
    "b.as_json()"
   ]
  },
  {
   "cell_type": "markdown",
   "metadata": {},
   "source": [
    "### 1. create Parameters resource 'p'  change the id for unique Bundles!!!"
   ]
  },
  {
   "cell_type": "code",
   "execution_count": null,
   "metadata": {},
   "outputs": [],
   "source": [
    "p = P.Parameters()\n",
    "p.id =  bundle_id\n",
    "p.as_json()"
   ]
  },
  {
   "cell_type": "markdown",
   "metadata": {},
   "source": [
    "### 2.  Add Core resources to resource bundle list\n",
    "\n",
    "- get all core resource templates from use case list\n",
    "\n",
    "### 3.  Add Patient resources to resource bundle list\n",
    "\n",
    "- first get synthea patient bundle for 1 patient\n",
    "- parse out patient resource\n",
    "- add to list as patient01\n",
    "- make alive if deceased\n",
    "\n",
    "### 3.  Add Encounter resources to resource bundle list\n",
    "\n",
    "- use synthea patient bundle for same patient as above\n",
    "- parse out encounter resources and look at type\n",
    "- choose id for inpatient encounter\n",
    "- use id to:\n",
    "    - add to list as encounter\n",
    "    - replace all references id\n",
    "    \n",
    "### based upon the Encounter add in the organization01, Location and patient01\n",
    "\n",
    "- use the uuid to add in these resources\n",
    "- update the ref_map\n",
    "\n",
    "### Create a mapping of ids to uuids\n",
    "\n",
    "- get id from resource\n",
    "- map to uuid (create a dict of {urn:old_ref})\n",
    "- remove id element\n",
    "- replace all old refs in bundle with new urns\n"
   ]
  },
  {
   "cell_type": "code",
   "execution_count": null,
   "metadata": {},
   "outputs": [],
   "source": [
    "\n",
    "b.entry = []\n",
    "\n",
    "for resource in br_list:  # look at each dict in list and bundle\n",
    "    resource_type= resource[\"resourceType\"]\n",
    "    resource_id = resource[\"id\"]\n",
    "    print(resource_id)\n",
    "\n",
    "    \n",
    "    # make sure that evaluatedResource is aligned\n",
    "    if resource_type == 'MeasureReport' and t.use_task:\n",
    "        try:\n",
    "            er = resource['evaluatedResource'][0]['reference']\n",
    "        except KeyError:\n",
    "            pass\n",
    "        else:\n",
    "            er = er.replace('Observation', 'Task')\n",
    "            er = er.replace('observation', 'task')\n",
    "            resource['evaluatedResource'][0]['reference'] = er\n",
    "\n",
    "\n",
    "    # remove text from resource\n",
    "    resource.pop('text', None)   \n",
    "    \n",
    "    e = B.BundleEntry(dict\n",
    "        (\n",
    "        resource = resource,\n",
    "        #fullUrl = new_urn,\n",
    "        fullUrl = f'http://example.org/fhir/receiver/{resource_type}/{resource_id}'\n",
    "        )\n",
    "      )\n",
    "    print(e.fullUrl)\n",
    "    if bundle_type in ['transaction', 'batch']:\n",
    "        e.request = B.BundleEntryRequest(dict\n",
    "                    (\n",
    "                    method = 'POST',\n",
    "                    url =  resource['resourceType']\n",
    "                    )\n",
    "                    )\n",
    "\n",
    "    if( (resource_type != 'Observation' and t.use_task)\n",
    "        or (resource_type != 'Task' and not t.use_task) ): \n",
    "        b.entry.append(e)\n",
    "\n",
    "b_json = dumps(b.as_json(),indent =3)\n",
    "# print(b_json)\n",
    "print('.......validating')\n",
    "r = validate(b)\n",
    "display(HTML(f'<h1>Validation output</h1><h3>Status Code = {r.status_code}</h3> {r.json()[\"text\"][\"div\"]}'))\n",
    "write_file(b_json)\n",
    "                 \n",
    "'''else:  # use parameters\n",
    "    p = P.Parameters()\n",
    "    p.id =  bundle_id\n",
    "    pprint(ref_map)             \n",
    "\n",
    "    for resource in my_resources:  # all templates as dict in mrp\n",
    "        resource_type= resource[\"resourceType\"]\n",
    "'''\n",
    "        \n",
    "        \n",
    "              "
   ]
  },
  {
   "cell_type": "code",
   "execution_count": null,
   "metadata": {},
   "outputs": [],
   "source": []
  }
 ],
 "metadata": {
  "kernelspec": {
   "display_name": "Python 3",
   "language": "python",
   "name": "python3"
  },
  "language_info": {
   "codemirror_mode": {
    "name": "ipython",
    "version": 3
   },
   "file_extension": ".py",
   "mimetype": "text/x-python",
   "name": "python",
   "nbconvert_exporter": "python",
   "pygments_lexer": "ipython3",
   "version": "3.7.3"
  }
 },
 "nbformat": 4,
 "nbformat_minor": 4
}
