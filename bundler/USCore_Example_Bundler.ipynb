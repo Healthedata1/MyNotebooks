{
 "cells": [
  {
   "cell_type": "markdown",
   "metadata": {},
   "source": [
    "## US Core Examples Transaction Bundle Maker\n",
    "### bundle all resources in folder as a transaction using PUT interactions\n",
    "\n",
    "- python version 3.6+\n",
    "- get data from folder\n",
    "- add meta tag \"2022-05-US-Core\"\n",
    "- bundle\n",
    "- update and resolve ids\n",
    "- validate and save"
   ]
  },
  {
   "cell_type": "code",
   "execution_count": 63,
   "metadata": {},
   "outputs": [],
   "source": [
    "from fhir.resources import construct_fhir_element\n",
    "from json import load, dumps, loads\n",
    "from IPython import display as D\n",
    "from requests import get, post, put\n",
    "from IPython.display import display, Markdown, HTML\n",
    "#from fhirclient.r4models import bundle as B\n",
    "#import fhirclient.r4models.fhirdate as D\n",
    "import os, uuid\n",
    "from datetime import datetime\n",
    "\n",
    "bundle_id = '2022-05-US-Core-upload'\n",
    "bundle_type = 'transaction'\n",
    "base_url = 'http://hapi.fhir.org/baseR4'"
   ]
  },
  {
   "cell_type": "markdown",
   "metadata": {},
   "source": [
    "###  write to file"
   ]
  },
  {
   "cell_type": "code",
   "execution_count": 64,
   "metadata": {},
   "outputs": [],
   "source": [
    "def write_file(r): # write file\n",
    "    \n",
    "    #out_path = '/Users/ehaas/Documents/FHIR/Davinci-DEQM/source/examples/'  # append forward slash\n",
    "    out_path ='r4'\n",
    "    print(f'writing to ... {out_path}/Bundle-{bundle_id}.json') \n",
    "    with open(f'{out_path}/Bundle-{bundle_id}.json', 'w') as f:\n",
    "        f.write(r)\n"
   ]
  },
  {
   "cell_type": "markdown",
   "metadata": {},
   "source": [
    "### Validate Resource"
   ]
  },
  {
   "cell_type": "code",
   "execution_count": 65,
   "metadata": {},
   "outputs": [],
   "source": [
    "def validate(resource_type,data): #as json data\n",
    " \n",
    "    #fhir_test_server = 'http://test.fhir.org/r4'\n",
    "    fhir_test_server = 'http://hapi.fhir.org/baseR4'\n",
    "    headers = {\n",
    "    'Accept':'application/fhir+json',\n",
    "    'Content-Type':'application/fhir+json'\n",
    "    }\n",
    "\n",
    "    # profile = 'http://hl7.org/fhir/us/core/StructureDefinition/us-core-patient' # The official URL for this profile is: http://hl7.org/fhir/us/core/StructureDefinition/us-core-patient\n",
    " \n",
    "    params = dict(\n",
    "      # profile = 'http://hl7.org/fhir/us/core/StructureDefinition/us-core-patient' # The official URL for this profile is: http://hl7.org/fhir/us/core/StructureDefinition/us-core-patient\n",
    "        )\n",
    "    \n",
    "    #   r = requests.post('https://httpbin.org/post', data = {'key':'value'})\n",
    "    r = post(f'{fhir_test_server}/{resource_type}/$validate', params = params, headers = headers, data = data)\n",
    "    display(Markdown(f'# {r.status_code} {r.reason}\\n\\n{r.json()[\"text\"][\"div\"]}'))\n",
    "    # view  output\n",
    "    # return (r.json()[\"text\"][\"div\"])"
   ]
  },
  {
   "cell_type": "markdown",
   "metadata": {},
   "source": [
    "### open json file and return as dict"
   ]
  },
  {
   "cell_type": "code",
   "execution_count": 66,
   "metadata": {},
   "outputs": [],
   "source": [
    "def open_file(f_name): # get files\n",
    "    with open(f'{in_path}/{f_name}') as f:\n",
    "        r = f.read()\n",
    "        return(loads(r))"
   ]
  },
  {
   "cell_type": "markdown",
   "metadata": {},
   "source": [
    "### Get files in current path"
   ]
  },
  {
   "cell_type": "code",
   "execution_count": 67,
   "metadata": {},
   "outputs": [
    {
     "name": "stdout",
     "output_type": "stream",
     "text": [
      "1) AllergyIntolerance-example.json\n",
      "2) Bundle-66c8856b-ba11-4876-8aa8-467aad8c11a2.json\n",
      "3) Bundle-c887e62f-6166-419f-8268-b5ecd6c7b901.json\n",
      "4) Bundle-uscore-mo3.json\n",
      "5) CarePlan-colonoscopy.json\n",
      "6) CareTeam-example.json\n",
      "7) Condition-condition-SDOH-example.json\n",
      "8) Condition-encounter-diagnosis-example1.json\n",
      "9) Condition-encounter-diagnosis-example2.json\n",
      "10) Condition-health-concern-example.json\n",
      "11) Device-udi-1.json\n",
      "12) Device-udi-2.json\n",
      "13) Device-udi-3.json\n",
      "14) DiagnosticReport-bone-density-report.json\n",
      "15) DiagnosticReport-cardiology-report.json\n",
      "16) DiagnosticReport-cbc.json\n",
      "17) DiagnosticReport-chest-xray-report.json\n",
      "18) DiagnosticReport-metabolic-panel.json\n",
      "19) DocumentReference-episode-summary.json\n",
      "20) Encounter-1036.json\n",
      "21) Encounter-delivery.json\n",
      "22) Encounter-example-1.json\n",
      "23) Goal-goal-1.json\n",
      "24) Goal-goal-sdoh-2.json\n",
      "25) Immunization-imm-1.json\n",
      "26) Location-hl7east.json\n",
      "27) Location-hospital.json\n",
      "28) Media-chest-xray.json\n",
      "29) Media-ekg-strip.json\n",
      "30) Medication-uscore-med1.json\n",
      "31) Medication-uscore-med2.json\n",
      "32) MedicationRequest-self-tylenol.json\n",
      "33) MedicationRequest-uscore-mo1.json\n",
      "34) MedicationRequest-uscore-mo2.json\n",
      "35) Observation-10-minute-apgar-color.json\n",
      "36) Observation-10-minute-apgar-heart-rate.json\n",
      "37) Observation-10-minute-apgar-muscle-tone.json\n",
      "38) Observation-10-minute-apgar-reflex-irritability.json\n",
      "39) Observation-10-minute-apgar-respiratory-effort.json\n",
      "40) Observation-10-minute-apgar-score-panel.json\n",
      "41) Observation-10-minute-apgar-score.json\n",
      "42) Observation-AHC-HRSN-item-example-44250-9.json\n",
      "43) Observation-AHC-HRSN-item-example-44255-8.json\n",
      "44) Observation-AHC-HRSN-item-example-68516-4.json\n",
      "45) Observation-AHC-HRSN-item-example-68517-2.json\n",
      "46) Observation-AHC-HRSN-item-example-68524-8.json\n",
      "47) Observation-AHC-HRSN-item-example-69858-9.json\n",
      "48) Observation-AHC-HRSN-item-example-69861-3.json\n",
      "49) Observation-AHC-HRSN-item-example-76513-1.json\n",
      "50) Observation-AHC-HRSN-item-example-89555-7.json\n",
      "51) Observation-AHC-HRSN-item-example-93038-8.json\n",
      "52) Observation-AHC-HRSN-item-example-93159-2.json\n",
      "53) Observation-AHC-HRSN-item-example-95530-2.json\n",
      "54) Observation-AHC-HRSN-item-example-96780-2.json\n",
      "55) Observation-AHC-HRSN-item-example-96781-0.json\n",
      "56) Observation-AHC-HRSN-item-example-96782-8.json\n",
      "57) Observation-AHC-HRSN-item-example-96842-0.json\n",
      "58) Observation-AHC-HRSN-item-example-97027-7.json\n",
      "59) Observation-AHC-HRSN-panel-example-96777-8.json\n",
      "60) Observation-HVS-item-example-88122-7.json\n",
      "61) Observation-HVS-item-example-88123-5.json\n",
      "62) Observation-HVS-item-example-88124-3.json\n",
      "63) Observation-HVS-panel-example-88121-9.json\n",
      "64) Observation-PRAPARE-item-example-54899-0.json\n",
      "65) Observation-PRAPARE-item-example-56051-6.json\n",
      "66) Observation-PRAPARE-item-example-56799-0.json\n",
      "67) Observation-PRAPARE-item-example-63512-8.json\n",
      "68) Observation-PRAPARE-item-example-63586-2.json\n",
      "69) Observation-PRAPARE-item-example-67875-5.json\n",
      "70) Observation-PRAPARE-item-example-71802-3.json\n",
      "71) Observation-PRAPARE-item-example-76437-3.json\n",
      "72) Observation-PRAPARE-item-example-76501-6.json\n",
      "73) Observation-PRAPARE-item-example-82589-3.json\n",
      "74) Observation-PRAPARE-item-example-93026-3.json\n",
      "75) Observation-PRAPARE-item-example-93027-1.json\n",
      "76) Observation-PRAPARE-item-example-93028-9.json\n",
      "77) Observation-PRAPARE-item-example-93029-7.json\n",
      "78) Observation-PRAPARE-item-example-93030-5.json\n",
      "79) Observation-PRAPARE-item-example-93033-9.json\n",
      "80) Observation-PRAPARE-item-example-93034-7.json\n",
      "81) Observation-PRAPARE-item-example-93035-4.json\n",
      "82) Observation-PRAPARE-item-example-93038-8.json\n",
      "83) Observation-PRAPARE-multiselect-item-example-32624-9-answer0.json\n",
      "84) Observation-PRAPARE-multiselect-item-example-32624-9-answer1.json\n",
      "85) Observation-PRAPARE-multiselect-item-example-93031-3-answer0.json\n",
      "86) Observation-PRAPARE-multiselect-item-example-93031-3-answer1.json\n",
      "87) Observation-PRAPARE-panel-example-93025-5.json\n",
      "88) Observation-PRAPARE-panel-example-93039-6.json\n",
      "89) Observation-PRAPARE-panel-example-93040-4.json\n",
      "90) Observation-PRAPARE-panel-example-93041-2.json\n",
      "91) Observation-PRAPARE-panel-example-93042-0.json\n",
      "92) Observation-PRAPARE-panel-example-93043-8.json\n",
      "93) Observation-blood-glucose.json\n",
      "94) Observation-blood-pressure.json\n",
      "95) Observation-bmi.json\n",
      "96) Observation-bp-data-absent.json\n",
      "97) Observation-bun.json\n",
      "98) Observation-capillary-refill-time-nail-bed.json\n",
      "99) Observation-dxa-femur-l-armass-bmd.json\n",
      "100) Observation-dxa-femur-l-t-score-bmd.json\n",
      "101) Observation-dxa-femur-l-z-score-bmd.json\n",
      "102) Observation-dxa-hip-l-armass-bmd.json\n",
      "103) Observation-dxa-hip-l-t-score-bmd.json\n",
      "104) Observation-dxa-hip-l-z-score-bmd.json\n",
      "105) Observation-ekg-impression.json\n",
      "106) Observation-ekg-lead.json\n",
      "107) Observation-erythrocytes.json\n",
      "108) Observation-head-circumference.json\n",
      "109) Observation-heart-rate-rhythm.json\n",
      "110) Observation-heart-rate.json\n",
      "111) Observation-height.json\n",
      "112) Observation-hemoglobin.json\n",
      "113) Observation-jugular-vein-distension.json\n",
      "114) Observation-length.json\n",
      "115) Observation-mchc.json\n",
      "116) Observation-neutrophils.json\n",
      "117) Observation-ofc-percentile.json\n",
      "118) Observation-oxygen-saturation.json\n",
      "119) Observation-p-r-interval-ekg-lead.json\n",
      "120) Observation-pediatric-bmi-example.json\n",
      "121) Observation-pediatric-wt-example.json\n",
      "122) Observation-pulse-intensity-palpation.json\n",
      "123) Observation-q-t-interval-ekg-lead.json\n",
      "124) Observation-qrs-dur-ekg-lead.json\n",
      "125) Observation-respiratory-rate.json\n",
      "126) Observation-satO2-fiO2.json\n",
      "127) Observation-serum-calcium.json\n",
      "128) Observation-serum-chloride.json\n",
      "129) Observation-serum-co2.json\n",
      "130) Observation-serum-creatinine.json\n",
      "131) Observation-serum-potassium.json\n",
      "132) Observation-serum-sodium.json\n",
      "133) Observation-serum-total-bilirubin.json\n",
      "134) Observation-sexual-orientation-example.json\n",
      "135) Observation-socialhistory-assessment-example.json\n",
      "136) Observation-some-day-smoker.json\n",
      "137) Observation-temperature.json\n",
      "138) Observation-urobilinogen.json\n",
      "139) Observation-weight.json\n",
      "140) Observation-xray-chest-findings.json\n",
      "141) Observation-xray-chest-impression.json\n",
      "142) Organization-acme-lab.json\n",
      "143) Organization-example-organization-2.json\n",
      "144) Organization-saint-luke-w-endpoint.json\n",
      "145) Patient-child-example.json\n",
      "146) Patient-example.json\n",
      "147) Patient-infant-example.json\n",
      "148) Practitioner-practitioner-1.json\n",
      "149) Practitioner-practitioner-2.json\n",
      "150) Procedure-defib-implant.json\n",
      "151) Procedure-rehab.json\n",
      "152) QuestionnaireResponse-AHC-HRSN-screening-example.json\n",
      "153) QuestionnaireResponse-PRAPARE-example.json\n",
      "154) QuestionnaireResponse-glascow-coma-score.json\n",
      "155) QuestionnaireResponse-hunger-vital-sign-example.json\n",
      "156) RelatedPerson-shaw-niece.json\n",
      "157) ServiceRequest-foodpantry-referral.json\n"
     ]
    }
   ],
   "source": [
    "in_path = '/Users/ehaas/.fhir/packages/hl7.fhir.us.core#dev/package/example' #'r4'\n",
    "\n",
    "files = [x for x in os.listdir(in_path) if x.endswith(\".json\") and x not in [\".index.json\"]]\n",
    "for i,f in enumerate(sorted(files)):\n",
    "    print(f\"{i+1}) {f}\")\n"
   ]
  },
  {
   "cell_type": "markdown",
   "metadata": {},
   "source": [
    "### create Bundle 'b'  change the id for unique Bundles!!!"
   ]
  },
  {
   "cell_type": "code",
   "execution_count": 68,
   "metadata": {},
   "outputs": [
    {
     "data": {
      "text/plain": [
       "(Bundle(resource_type='Bundle', fhir_comments=None, id='2022-05-US-Core-upload', id__ext=None, implicitRules=None, implicitRules__ext=None, language=None, language__ext=None, meta=None, entry=None, identifier=None, link=None, signature=None, timestamp=datetime.datetime(2022, 4, 29, 15, 14, 7, 163453), timestamp__ext=None, total=None, total__ext=None, type='transaction', type__ext=None),\n",
       " '{\"resourceType\":\"Bundle\",\"id\":\"2022-05-US-Core-upload\",\"type\":\"transaction\",\"timestamp\":\"2022-04-29T15:14:07.163453\"}')"
      ]
     },
     "execution_count": 68,
     "metadata": {},
     "output_type": "execute_result"
    }
   ],
   "source": [
    "#b = B.Bundle()\n",
    "\n",
    "b_dict =dict(\n",
    "id =  bundle_id,\n",
    "type = bundle_type,\n",
    "timestamp = datetime.utcnow(),\n",
    ")\n",
    "\n",
    "b = construct_fhir_element('Bundle',b_dict\n",
    ")\n",
    "\n",
    "#b.as_json()\n",
    "b, b.json()    "
   ]
  },
  {
   "cell_type": "markdown",
   "metadata": {},
   "source": [
    "### Add resources to bundle\n",
    "\n",
    " - add tag to each resource first\n",
    " - remove text elements"
   ]
  },
  {
   "cell_type": "code",
   "execution_count": 69,
   "metadata": {},
   "outputs": [],
   "source": [
    "def get_recursively(search_dict, field):\n",
    "    \"\"\"\n",
    "    Takes a dict with nested lists and dicts,\n",
    "    and searches all dicts for a key of the field\n",
    "    provided.\n",
    "    \"\"\"\n",
    "    fields_found = []\n",
    "\n",
    "    for key, value in search_dict.items():\n",
    "\n",
    "        if key == field:\n",
    "            fields_found.append(value)\n",
    "\n",
    "        elif isinstance(value, dict):\n",
    "            results = get_recursively(value, field)\n",
    "            for result in results:\n",
    "                fields_found.append(result)\n",
    "\n",
    "        elif isinstance(value, list):\n",
    "            #print(f'{value} is list')\n",
    "            for item in value:\n",
    "                if isinstance(item, dict):\n",
    "                    more_results = get_recursively(item, field)\n",
    "                    for another_result in more_results:\n",
    "                        fields_found.append(another_result)\n",
    "\n",
    "    return fields_found"
   ]
  },
  {
   "cell_type": "code",
   "execution_count": 75,
   "metadata": {},
   "outputs": [
    {
     "name": "stdout",
     "output_type": "stream",
     "text": [
      "Observation/202201uscore-observation-example-1\n",
      "Observation/202201uscore-observation-example-2\n",
      "RelatedPerson/202201uscore-relatedperson-example-1\n",
      "Encounter/202201uscore-encounter-example-1\n",
      "Observation/202201uscore-observation-example-3\n",
      "MedicationRequest/202201uscore-medicationrequest-example-1\n",
      "ServiceRequest/202201uscore-servicerequest-example-1\n",
      "Observation/202201uscore-observation-example-4\n",
      "Observation/202201uscore-observation-example-5\n",
      "Observation/202201uscore-observation-example-6\n",
      "Observation/202201uscore-observation-example-7\n",
      "Observation/202201uscore-observation-example-8\n",
      "Observation/202201uscore-observation-example-9\n",
      "Observation/202201uscore-observation-example-10\n",
      "Observation/202201uscore-observation-example-11\n",
      "Observation/202201uscore-observation-example-12\n",
      "Observation/202201uscore-observation-example-13\n",
      "Organization/202201uscore-organization-example-1\n",
      "QuestionnaireResponse/202201uscore-questionnaireresponse-example-1\n",
      "Observation/202201uscore-observation-example-14\n",
      "Observation/202201uscore-observation-example-15\n",
      "Goal/202201uscore-goal-example-1\n",
      "Observation/202201uscore-observation-example-16\n",
      "Observation/202201uscore-observation-example-17\n",
      "Observation/202201uscore-observation-example-18\n",
      "Observation/202201uscore-observation-example-19\n",
      "Procedure/202201uscore-procedure-example-1\n",
      "Observation/202201uscore-observation-example-20\n",
      "Observation/202201uscore-observation-example-21\n",
      "Observation/202201uscore-observation-example-22\n",
      "AllergyIntolerance/202201uscore-allergyintolerance-example-1\n",
      "Observation/202201uscore-observation-example-23\n",
      "Observation/202201uscore-observation-example-24\n",
      "Observation/202201uscore-observation-example-25\n",
      "Observation/202201uscore-observation-example-26\n",
      "Observation/202201uscore-observation-example-27\n",
      "CareTeam/202201uscore-careteam-example-1\n",
      "Media/202201uscore-media-example-1\n",
      "Observation/202201uscore-observation-example-28\n",
      "Observation/202201uscore-observation-example-29\n",
      "Observation/202201uscore-observation-example-30\n",
      "Observation/202201uscore-observation-example-31\n",
      "Observation/202201uscore-observation-example-32\n",
      "DiagnosticReport/202201uscore-diagnosticreport-example-1\n",
      "Observation/202201uscore-observation-example-33\n",
      "Observation/202201uscore-observation-example-34\n",
      "Location/202201uscore-location-example-1\n",
      "Observation/202201uscore-observation-example-35\n",
      "DiagnosticReport/202201uscore-diagnosticreport-example-2\n",
      "Observation/202201uscore-observation-example-36\n",
      "Observation/202201uscore-observation-example-37\n",
      "Observation/202201uscore-observation-example-38\n",
      "Condition/202201uscore-condition-example-1\n",
      "Organization/202201uscore-organization-example-2\n",
      "Observation/202201uscore-observation-example-39\n",
      "DocumentReference/202201uscore-documentreference-example-1\n"
     ]
    },
    {
     "ename": "NameError",
     "evalue": "name 'ValidationError' is not defined",
     "output_type": "error",
     "traceback": [
      "\u001b[0;31m---------------------------------------------------------------------------\u001b[0m",
      "\u001b[0;31mValidationError\u001b[0m                           Traceback (most recent call last)",
      "Input \u001b[0;32mIn [75]\u001b[0m, in \u001b[0;36m<cell line: 5>\u001b[0;34m()\u001b[0m\n\u001b[1;32m     33\u001b[0m \u001b[38;5;28;01mtry\u001b[39;00m:\n\u001b[0;32m---> 34\u001b[0m     be \u001b[38;5;241m=\u001b[39m \u001b[43mconstruct_fhir_element\u001b[49m\u001b[43m(\u001b[49m\u001b[38;5;124;43m'\u001b[39;49m\u001b[38;5;124;43mBundleEntry\u001b[39;49m\u001b[38;5;124;43m'\u001b[39;49m\u001b[43m,\u001b[49m\u001b[43me\u001b[49m\u001b[43m)\u001b[49m\n\u001b[1;32m     35\u001b[0m \u001b[38;5;28;01mexcept\u001b[39;00m ValidationError \u001b[38;5;28;01mas\u001b[39;00m e:\n",
      "File \u001b[0;32m~/.pyenv/versions/3.10.2/envs/jupyter/lib/python3.10/site-packages/fhir/resources/__init__.py:26\u001b[0m, in \u001b[0;36mconstruct_fhir_element\u001b[0;34m(element_type, data)\u001b[0m\n\u001b[1;32m     25\u001b[0m     \u001b[38;5;28;01mreturn\u001b[39;00m klass\u001b[38;5;241m.\u001b[39mparse_file(data)\n\u001b[0;32m---> 26\u001b[0m \u001b[38;5;28;01mreturn\u001b[39;00m \u001b[43mklass\u001b[49m\u001b[38;5;241;43m.\u001b[39;49m\u001b[43mparse_obj\u001b[49m\u001b[43m(\u001b[49m\u001b[43mdata\u001b[49m\u001b[43m)\u001b[49m\n",
      "File \u001b[0;32m~/.pyenv/versions/3.10.2/envs/jupyter/lib/python3.10/site-packages/pydantic/main.py:511\u001b[0m, in \u001b[0;36mpydantic.main.BaseModel.parse_obj\u001b[0;34m()\u001b[0m\n",
      "File \u001b[0;32m~/.pyenv/versions/3.10.2/envs/jupyter/lib/python3.10/site-packages/fhir/resources/fhirabstractmodel.py:105\u001b[0m, in \u001b[0;36mFHIRAbstractModel.__init__\u001b[0;34m(__pydantic_self__, **data)\u001b[0m\n\u001b[1;32m    103\u001b[0m     \u001b[38;5;28;01mraise\u001b[39;00m ValidationError(errors, __pydantic_self__\u001b[38;5;241m.\u001b[39m\u001b[38;5;18m__class__\u001b[39m)\n\u001b[0;32m--> 105\u001b[0m \u001b[43mBaseModel\u001b[49m\u001b[38;5;241;43m.\u001b[39;49m\u001b[38;5;21;43m__init__\u001b[39;49m\u001b[43m(\u001b[49m\u001b[43m__pydantic_self__\u001b[49m\u001b[43m,\u001b[49m\u001b[43m \u001b[49m\u001b[38;5;241;43m*\u001b[39;49m\u001b[38;5;241;43m*\u001b[39;49m\u001b[43mdata\u001b[49m\u001b[43m)\u001b[49m\n",
      "File \u001b[0;32m~/.pyenv/versions/3.10.2/envs/jupyter/lib/python3.10/site-packages/pydantic/main.py:331\u001b[0m, in \u001b[0;36mpydantic.main.BaseModel.__init__\u001b[0;34m()\u001b[0m\n",
      "\u001b[0;31mValidationError\u001b[0m: 1 validation error for BundleEntry\nresource -> content -> 0 -> attachment -> url\n  invalid or missing URL scheme (type=value_error.url.scheme)",
      "\nDuring handling of the above exception, another exception occurred:\n",
      "\u001b[0;31mNameError\u001b[0m                                 Traceback (most recent call last)",
      "Input \u001b[0;32mIn [75]\u001b[0m, in \u001b[0;36m<cell line: 5>\u001b[0;34m()\u001b[0m\n\u001b[1;32m     33\u001b[0m \u001b[38;5;28;01mtry\u001b[39;00m:\n\u001b[1;32m     34\u001b[0m     be \u001b[38;5;241m=\u001b[39m construct_fhir_element(\u001b[38;5;124m'\u001b[39m\u001b[38;5;124mBundleEntry\u001b[39m\u001b[38;5;124m'\u001b[39m,e)\n\u001b[0;32m---> 35\u001b[0m \u001b[38;5;28;01mexcept\u001b[39;00m \u001b[43mValidationError\u001b[49m \u001b[38;5;28;01mas\u001b[39;00m e:\n\u001b[1;32m     36\u001b[0m     \u001b[38;5;28mprint\u001b[39m(e\u001b[38;5;241m.\u001b[39mmessage)\n\u001b[1;32m     38\u001b[0m b\u001b[38;5;241m.\u001b[39mentry\u001b[38;5;241m.\u001b[39mappend(be)\n",
      "\u001b[0;31mNameError\u001b[0m: name 'ValidationError' is not defined"
     ]
    }
   ],
   "source": [
    "from fhir.resources import \n",
    "b.entry = []\n",
    "type_list = []\n",
    "ref_map = {}\n",
    "\n",
    "for i in files:\n",
    "    r = open_file(i)\n",
    "    if r[\"resourceType\"] in [\"Bundle\"]: # no bundles for now!\n",
    "        continue\n",
    "    \n",
    "    #update ids to new unique ids for upload\n",
    "    type_list.append(r[\"resourceType\"])\n",
    "    old_ref = f'{r[\"resourceType\"]}/{r[\"id\"]}'\n",
    "    new_id = f'202201uscore-{r[\"resourceType\"].lower()}-example-{type_list.count(r[\"resourceType\"])}'\n",
    "    new_ref = f'{r[\"resourceType\"]}/{new_id}'\n",
    "    #print(old_ref, new_ref)\n",
    "    ref_map[old_ref] = new_ref\n",
    "\n",
    "    r.pop('text', None) # remove text elements from Bundle\n",
    "    r['meta']['tag']= [{\"code\":\"202201uscore\",}] # add meta tag\n",
    "    r[\"id\"] = new_id\n",
    "    \n",
    "    e = dict(\n",
    "        resource = r,\n",
    "        fullUrl = f'{base_url}/{new_ref}'\n",
    "        )\n",
    "\n",
    "    if bundle_type in ['transaction', 'batch']:\n",
    "        e['request'] = dict(\n",
    "                    method = 'PUT',\n",
    "                    url = new_ref,\n",
    "                    )\n",
    "    print(new_ref)\n",
    "    try:\n",
    "        be = construct_fhir_element('BundleEntry',e)\n",
    "    except ValidationError as e:\n",
    "        print(e.message)\n",
    "        \n",
    "    b.entry.append(be)\n",
    "    b.json()"
   ]
  },
  {
   "cell_type": "markdown",
   "metadata": {},
   "source": [
    "\n",
    "### Resort bundle for transaction\n",
    " - resort for transaction to make sure all the referred to resources are before the referring ones\n",
    " - rename ids for PUT to server\n"
   ]
  },
  {
   "cell_type": "code",
   "execution_count": null,
   "metadata": {},
   "outputs": [],
   "source": [
    "\n",
    "transaction_order = dict(\n",
    "Patient = 0,\n",
    "Organization = 1,\n",
    "Practitioner = 2,\n",
    "Location = 4,\n",
    "PractitionerRole = 5,\n",
    "Encounter = 6,\n",
    "Observation = 7,\n",
    "Media = 8,\n",
    "Medication = 9,\n",
    "RelatedPerson = 10,\n",
    ")\n",
    "\n",
    "b.entry.sort(key=lambda x: transaction_order.get(x.resource.resource_type,11))\n",
    "# for i,r in enumerate(b.entry):\n",
    "#     print(f'{i+1})',r.resource.resource_type)\n",
    "\n",
    "# change all the references to the new ids\n",
    "b_json = dumps(b.as_json(),indent=3,)\n",
    "for old_ref, new_ref in ref_map.items():\n",
    "     b_json = b_json.replace(old_ref,new_ref)  \n",
    "# display\n",
    "print(f'{b_json[0:1000]}\\n...\\n{b_json[-1000:]}')"
   ]
  },
  {
   "cell_type": "markdown",
   "metadata": {},
   "source": [
    "### Validate as JSON String"
   ]
  },
  {
   "cell_type": "code",
   "execution_count": null,
   "metadata": {},
   "outputs": [],
   "source": [
    "data = b_json\n",
    "resource_type = b.resource_type\n",
    "\n",
    "validate(resource_type,data)"
   ]
  },
  {
   "cell_type": "markdown",
   "metadata": {},
   "source": [
    "### Write to file"
   ]
  },
  {
   "cell_type": "code",
   "execution_count": null,
   "metadata": {},
   "outputs": [],
   "source": [
    "write_file(b_json)"
   ]
  },
  {
   "cell_type": "markdown",
   "metadata": {},
   "source": [
    "### print out FHIR_id Mapping table"
   ]
  },
  {
   "cell_type": "code",
   "execution_count": null,
   "metadata": {},
   "outputs": [],
   "source": [
    "my_table = '|US Core IG FHIR ID|US Core Connectathon 29 FHIR ID|\\n|---|---|'\n",
    "for k,v in ref_map.items():\n",
    "    my_table = (f'{my_table}\\n| {k} | {v} |')\n",
    "display(Markdown(my_table))\n",
    "print(my_table)"
   ]
  }
 ],
 "metadata": {
  "kernelspec": {
   "display_name": "Python 3 (ipykernel)",
   "language": "python",
   "name": "python3"
  },
  "language_info": {
   "codemirror_mode": {
    "name": "ipython",
    "version": 3
   },
   "file_extension": ".py",
   "mimetype": "text/x-python",
   "name": "python",
   "nbconvert_exporter": "python",
   "pygments_lexer": "ipython3",
   "version": "3.10.2"
  }
 },
 "nbformat": 4,
 "nbformat_minor": 4
}
