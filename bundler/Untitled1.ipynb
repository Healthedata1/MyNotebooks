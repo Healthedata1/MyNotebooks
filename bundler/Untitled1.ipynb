{
 "cells": [
  {
   "cell_type": "code",
   "execution_count": 6,
   "metadata": {},
   "outputs": [
    {
     "name": "stdout",
     "output_type": "stream",
     "text": [
      "OK\n"
     ]
    }
   ],
   "source": [
    "import os, uuid\n",
    "\n",
    "old_id = \"d3aa6b0b-f3fd-4b19-93c8-ccdd8b9da518\"\n",
    "try: # check if a valid UUID\n",
    "    val = uuid.UUID(old_id, version=4)\n",
    "    print('OK')\n",
    "except ValueError:\n",
    "    # If it's a value error, then the string \n",
    "    # is not a valid hex code for a UUID.\n",
    "    print('invalid')"
   ]
  },
  {
   "cell_type": "code",
   "execution_count": 10,
   "metadata": {},
   "outputs": [
    {
     "name": "stdout",
     "output_type": "stream",
     "text": [
      "{}\n"
     ]
    }
   ],
   "source": [
    "mrp_core_references = [\n",
    "    'Organization/organization01',\n",
    "    'Organization/organization04',\n",
    "    'Task/Task01',\n",
    "    'Organization/organization02',\n",
    "    'Patient/patient01',\n",
    "    'Encounter/Encounter01',\n",
    "    'Coverage/Coverage01',\n",
    "    'MeasureReport/MeasureReport01',\n",
    "]\n",
    "\n",
    "c = zip(mrp_core_references,[])\n",
    "\n",
    "print(dict(c))"
   ]
  },
  {
   "cell_type": "code",
   "execution_count": 19,
   "metadata": {},
   "outputs": [
    {
     "data": {
      "text/plain": [
       "{'a': 'a'}"
      ]
     },
     "execution_count": 19,
     "metadata": {},
     "output_type": "execute_result"
    }
   ],
   "source": [
    "a = ['a']\n",
    "b = ['a']\n",
    "\n",
    "\n",
    "dict(zip(set(a + b),set(a + b)))"
   ]
  }
 ],
 "metadata": {
  "kernelspec": {
   "display_name": "Python 3",
   "language": "python",
   "name": "python3"
  },
  "language_info": {
   "codemirror_mode": {
    "name": "ipython",
    "version": 3
   },
   "file_extension": ".py",
   "mimetype": "text/x-python",
   "name": "python",
   "nbconvert_exporter": "python",
   "pygments_lexer": "ipython3",
   "version": "3.7.1"
  }
 },
 "nbformat": 4,
 "nbformat_minor": 2
}
