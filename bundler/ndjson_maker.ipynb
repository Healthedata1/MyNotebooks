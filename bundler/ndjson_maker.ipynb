{
 "cells": [
  {
   "cell_type": "markdown",
   "metadata": {},
   "source": [
    "## Create ndjson File from FHIR Resource in a Folder"
   ]
  },
  {
   "cell_type": "code",
   "execution_count": 15,
   "metadata": {},
   "outputs": [
    {
     "name": "stdout",
     "output_type": "stream",
     "text": [
      "Observation-member123-hba1c-example1.json\n",
      "2022-06-16T10:21:08-07:00 no\n",
      "skipping\n",
      "Observation-member789-hba1c-example1.json\n",
      "2022-07-19T09:10:08-07:00 no\n",
      "skipping\n",
      "Observation-member456-hba1c-example1.json\n",
      "2022-10-10T10:21:08-07:00 no\n",
      "skipping\n",
      "Observation-member456-hba1c-example3.json\n",
      "2023-10-12T10:15:15-08:00 yes\n",
      "Observation-member456-hba1c-example2.json\n",
      "2023-04-10T10:21:08-08:00 yes\n",
      "Observation-member123-hba1c-example3.json\n",
      "2023-08-10T08:21:08-07:00 yes\n",
      "Observation-member789-hba1c-example2.json\n",
      "2022-12-21T09:15:08-07:00 no\n",
      "skipping\n",
      "Observation-member789-hba1c-example3.json\n",
      "2023-05-29T10:10:08-07:00 yes\n",
      "Observation-member123-hba1c-example2.json\n",
      "2023-02-15T10:21:08-08:00 yes\n"
     ]
    }
   ],
   "source": [
    "import ndjson\n",
    "from pathlib import Path\n",
    "from json import loads\n",
    "\n",
    "my_folder = Path(r'/Users/ehaas/Documents/Python/Jupyter/MyNotebooks/bundler/r4/CDex_Bulk_Data')\n",
    "out_file =  my_folder / 'member_observations.ndjson'\n",
    "my_files = my_folder.glob('Observation*.json')\n",
    "\n",
    "\n",
    "# Writing items to a ndjson file\n",
    "with open(out_file, 'w') as f:\n",
    "    writer = ndjson.writer(f, ensure_ascii=False)\n",
    "    for file in my_files:\n",
    "        print(file.name)\n",
    "        my_obj=loads(file.read_text())\n",
    "        print(my_obj['effectiveDateTime'], \"yes\" if '2023' in my_obj['effectiveDateTime'] else \"no\")\n",
    "\n",
    "        writer.writerow(my_obj) if '2023' in my_obj['effectiveDateTime'] else print('skipping')\n"
   ]
  },
  {
   "cell_type": "code",
   "execution_count": 16,
   "metadata": {},
   "outputs": [
    {
     "name": "stdout",
     "output_type": "stream",
     "text": [
      "{\"resourceType\": \"Observation\", \"id\": \"member456-hba1c-example3\", \"status\": \"final\", \"category\": [{\"coding\": [{\"system\": \"http://terminology.hl7.org/CodeSystem/observation-category\", \"code\": \"laboratory\", \"display\": \"Laboratory\"}], \"text\": \"Laboratory\"}], \"code\": {\"coding\": [{\"system\": \"http://loinc.org\", \"code\": \"4548-4\", \"display\": \"Hemoglobin A1c/Hemoglobin.total in Blood\"}, {\"system\": \"http://www.ama-assn.org/go/cpt\", \"code\": \"83036\", \"display\": \"Hemoglobin; glycosylated (A1c)\"}, {\"system\": \"http://example.org/lab-results\", \"code\": \"HBA1C\", \"display\": \"Glycated hemoglobin (HbA1c)\"}], \"text\": \"glycated hemoglobin (HbA1c)\"}, \"subject\": {\"display\": \"Patient/example-2\"}, \"effectiveDateTime\": \"2023-10-12T10:15:15-08:00\", \"valueQuantity\": {\"value\": 6.0, \"unit\": \"%\", \"system\": \"http://unitsofmeasure.org\", \"code\": \"%\"}}\n",
      "{\"resourceType\": \"Observation\", \"id\": \"member456-hba1c-example2\", \"status\": \"final\", \"category\": [{\"coding\": [{\"system\": \"http://terminology.hl7.org/CodeSystem/observation-category\", \"code\": \"laboratory\", \"display\": \"Laboratory\"}], \"text\": \"Laboratory\"}], \"code\": {\"coding\": [{\"system\": \"http://loinc.org\", \"code\": \"4548-4\", \"display\": \"Hemoglobin A1c/Hemoglobin.total in Blood\"}, {\"system\": \"http://www.ama-assn.org/go/cpt\", \"code\": \"83036\", \"display\": \"Hemoglobin; glycosylated (A1c)\"}, {\"system\": \"http://example.org/lab-results\", \"code\": \"HBA1C\", \"display\": \"Glycated hemoglobin (HbA1c)\"}], \"text\": \"glycated hemoglobin (HbA1c)\"}, \"subject\": {\"display\": \"Patient/example-2\"}, \"effectiveDateTime\": \"2023-04-10T10:21:08-08:00\", \"valueQuantity\": {\"value\": 6.4, \"unit\": \"%\", \"system\": \"http://unitsofmeasure.org\", \"code\": \"%\"}}\n",
      "{\"resourceType\": \"Observation\", \"id\": \"member123-hba1c-example3\", \"status\": \"final\", \"category\": [{\"coding\": [{\"system\": \"http://terminology.hl7.org/CodeSystem/observation-category\", \"code\": \"laboratory\", \"display\": \"Laboratory\"}], \"text\": \"Laboratory\"}], \"code\": {\"coding\": [{\"system\": \"http://loinc.org\", \"code\": \"4548-4\", \"display\": \"Hemoglobin A1c/Hemoglobin.total in Blood\"}, {\"system\": \"http://www.ama-assn.org/go/cpt\", \"code\": \"83036\", \"display\": \"Hemoglobin; glycosylated (A1c)\"}, {\"system\": \"http://example.org/lab-results\", \"code\": \"HBA1C\", \"display\": \"Glycated hemoglobin (HbA1c)\"}], \"text\": \"glycated hemoglobin (HbA1c)\"}, \"subject\": {\"display\": \"Patient/example-1\"}, \"effectiveDateTime\": \"2023-08-10T08:21:08-07:00\", \"valueQuantity\": {\"value\": 7.9, \"unit\": \"%\", \"system\": \"http://unitsofmeasure.org\", \"code\": \"%\"}}\n",
      "{\"resourceType\": \"Observation\", \"id\": \"member789-hba1c-example3\", \"status\": \"final\", \"category\": [{\"coding\": [{\"system\": \"http://terminology.hl7.org/CodeSystem/observation-category\", \"code\": \"laboratory\", \"display\": \"Laboratory\"}], \"text\": \"Laboratory\"}], \"code\": {\"coding\": [{\"system\": \"http://loinc.org\", \"code\": \"4548-4\", \"display\": \"Hemoglobin A1c/Hemoglobin.total in Blood\"}, {\"system\": \"http://www.ama-assn.org/go/cpt\", \"code\": \"83036\", \"display\": \"Hemoglobin; glycosylated (A1c)\"}, {\"system\": \"http://example.org/lab-results\", \"code\": \"HBA1C\", \"display\": \"Glycated hemoglobin (HbA1c)\"}], \"text\": \"glycated hemoglobin (HbA1c)\"}, \"subject\": {\"display\": \"Patient/example-3\"}, \"effectiveDateTime\": \"2023-05-29T10:10:08-07:00\", \"valueQuantity\": {\"value\": 6.8, \"unit\": \"%\", \"system\": \"http://unitsofmeasure.org\", \"code\": \"%\"}}\n",
      "{\"resourceType\": \"Observation\", \"id\": \"member123-hba1c-example2\", \"status\": \"final\", \"category\": [{\"coding\": [{\"system\": \"http://terminology.hl7.org/CodeSystem/observation-category\", \"code\": \"laboratory\", \"display\": \"Laboratory\"}], \"text\": \"Laboratory\"}], \"code\": {\"coding\": [{\"system\": \"http://loinc.org\", \"code\": \"4548-4\", \"display\": \"Hemoglobin A1c/Hemoglobin.total in Blood\"}, {\"system\": \"http://www.ama-assn.org/go/cpt\", \"code\": \"83036\", \"display\": \"Hemoglobin; glycosylated (A1c)\"}, {\"system\": \"http://example.org/lab-results\", \"code\": \"HBA1C\", \"display\": \"Glycated hemoglobin (HbA1c)\"}], \"text\": \"glycated hemoglobin (HbA1c)\"}, \"subject\": {\"display\": \"Patient/example-1\"}, \"effectiveDateTime\": \"2023-02-15T10:21:08-08:00\", \"valueQuantity\": {\"value\": 6.0, \"unit\": \"%\", \"system\": \"http://unitsofmeasure.org\", \"code\": \"%\"}}\n",
      "\n"
     ]
    }
   ],
   "source": [
    "print(out_file.read_text())"
   ]
  }
 ],
 "metadata": {
  "kernelspec": {
   "display_name": "jupyter",
   "language": "python",
   "name": "python3"
  },
  "language_info": {
   "codemirror_mode": {
    "name": "ipython",
    "version": 3
   },
   "file_extension": ".py",
   "mimetype": "text/x-python",
   "name": "python",
   "nbconvert_exporter": "python",
   "pygments_lexer": "ipython3",
   "version": "3.10.2"
  },
  "orig_nbformat": 4
 },
 "nbformat": 4,
 "nbformat_minor": 2
}
