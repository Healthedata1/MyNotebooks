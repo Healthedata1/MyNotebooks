{
 "cells": [
  {
   "cell_type": "markdown",
   "metadata": {},
   "source": [
    "###  Read all FHIR Valueset and SD and find all code systems\n",
    "\n",
    "- load package data to inspect\n",
    "- read valuesets\n",
    "- save code systems\n",
    "- read SDs\n",
    "- save bindings\n"
   ]
  },
  {
   "cell_type": "code",
   "execution_count": 1,
   "metadata": {},
   "outputs": [],
   "source": [
    "from pathlib import Path\n",
    "from json import load, dumps, loads"
   ]
  },
  {
   "cell_type": "markdown",
   "metadata": {},
   "source": [
    "### get package"
   ]
  },
  {
   "cell_type": "code",
   "execution_count": 4,
   "metadata": {},
   "outputs": [],
   "source": [
    "path = Path(r'/Users/ehaas/.fhir/packages/hl7.fhir.us.core#dev/package')\n",
    "\n",
    "print(path)"
   ]
  },
  {
   "cell_type": "markdown",
   "metadata": {},
   "source": [
    "### read valuesets\n"
   ]
  },
  {
   "cell_type": "code",
   "execution_count": 22,
   "metadata": {},
   "outputs": [
    {
     "name": "stdout",
     "output_type": "stream",
     "text": [
      "### ValueSet-us-core-narrative-status.json\n",
      "- http://hl7.org/fhir/narrative-status\n",
      "### ValueSet-us-core-provenance-participant-type.json\n",
      "- http://hl7.org/fhir/us/core/CodeSystem/us-core-provenance-participant-type\n",
      "- http://terminology.hl7.org/CodeSystem/provenance-participant-type\n",
      "### ValueSet-us-core-observation-smoking-status-status.json\n",
      "- http://hl7.org/fhir/observation-status\n",
      "### ValueSet-us-core-procedure-code.json\n",
      "- http://www.ama-assn.org/go/cpt\n",
      "- http://snomed.info/sct\n",
      "- http://www.cms.gov/Medicare/Coding/HCPCSReleaseCodeSets\n",
      "- http://www.cms.gov/Medicare/Coding/ICD10\n",
      "- urn:oid:2.16.840.1.113883.6.13\n",
      "### ValueSet-us-core-documentreference-category.json\n",
      "- http://hl7.org/fhir/us/core/CodeSystem/us-core-documentreference-category\n",
      "### ValueSet-birthsex.json\n",
      "- http://terminology.hl7.org/CodeSystem/v3-AdministrativeGender\n",
      "- http://terminology.hl7.org/CodeSystem/v3-NullFlavor\n",
      "### ValueSet-us-core-encounter-type.json\n",
      "- http://snomed.info/sct\n",
      "- http://www.ama-assn.org/go/cpt\n",
      "### ValueSet-us-core-observation-smokingstatus-max.json\n",
      "- http://snomed.info/sct\n",
      "### ValueSet-us-core-diagnosticreport-report-and-note-codes.json\n",
      "- http://loinc.org\n",
      "### ValueSet-us-core-observation-value-codes.json\n",
      "- http://snomed.info/sct\n",
      "### ValueSet-simple-language.json\n",
      "- urn:ietf:bcp:47\n",
      "### ValueSet-us-core-condition-code.json\n",
      "- http://snomed.info/sct\n",
      "- http://snomed.info/sct\n",
      "- http://snomed.info/sct\n",
      "- http://snomed.info/sct\n",
      "- http://hl7.org/fhir/sid/icd-10-cm\n",
      "- http://hl7.org/fhir/sid/icd-9-cm\n",
      "### ValueSet-us-core-clinical-note-type.json\n",
      "- http://loinc.org\n",
      "### ValueSet-omb-race-category.json\n",
      "- urn:oid:2.16.840.1.113883.6.238\n",
      "- http://terminology.hl7.org/CodeSystem/v3-NullFlavor\n",
      "### ValueSet-us-core-provider-role.json\n",
      "- http://nucc.org/provider-taxonomy\n",
      "### ValueSet-us-core-documentreference-type.json\n",
      "- http://terminology.hl7.org/CodeSystem/v3-NullFlavor\n",
      "- http://loinc.org\n",
      "### ValueSet-us-core-diagnosticreport-category.json\n",
      "- http://loinc.org\n",
      "### ValueSet-us-core-diagnosticreport-lab-codes.json\n",
      "- http://loinc.org\n",
      "### ValueSet-us-core-vital-signs.json\n",
      "- http://loinc.org\n",
      "- No System!\n",
      "### ValueSet-us-core-condition-category.json\n",
      "- http://terminology.hl7.org/CodeSystem/condition-category\n",
      "- http://hl7.org/fhir/us/core/CodeSystem/condition-category\n",
      "- http://snomed.info/sct\n",
      "### ValueSet-us-core-usps-state.json\n",
      "- https://www.usps.com/\n",
      "### ValueSet-us-core-smoking-status-observation-codes.json\n",
      "- http://loinc.org\n"
     ]
    }
   ],
   "source": [
    "for f in path.iterdir():\n",
    "    if str(f.name).startswith('ValueSet'):\n",
    "        print(f'### {f.name}')\n",
    "        v_dict=loads(f.read_text())\n",
    "        for v_include in v_dict['compose']['include']:\n",
    "            print(f\"- {v_include.get('system','No System!')}\")"
   ]
  },
  {
   "cell_type": "markdown",
   "metadata": {},
   "source": [
    "### Get SDs"
   ]
  },
  {
   "cell_type": "code",
   "execution_count": 23,
   "metadata": {},
   "outputs": [
    {
     "name": "stdout",
     "output_type": "stream",
     "text": [
      "### StructureDefinition-us-core-observation-lab.json\n",
      "- http://hl7.org/fhir/ValueSet/observation-status\n",
      "- http://hl7.org/fhir/ValueSet/observation-codes\n",
      "- http://hl7.org/fhir/ValueSet/data-absent-reason\n",
      "### StructureDefinition-us-core-careteam.json\n",
      "- http://hl7.org/fhir/ValueSet/care-team-status\n",
      "- http://cts.nlm.nih.gov/fhir/ValueSet/2.16.840.1.113762.1.4.1099.30\n",
      "### StructureDefinition-us-core-direct.json\n",
      "### StructureDefinition-us-core-respiratory-rate.json\n",
      "### StructureDefinition-us-core-heart-rate.json\n",
      "### StructureDefinition-us-core-body-temperature.json\n",
      "- http://hl7.org/fhir/ValueSet/ucum-bodytemp|4.0.1\n",
      "### StructureDefinition-us-core-practitioner.json\n",
      "### StructureDefinition-pediatric-bmi-for-age.json\n",
      "### StructureDefinition-pediatric-weight-for-height.json\n",
      "### StructureDefinition-us-core-patient.json\n",
      "- http://hl7.org/fhir/ValueSet/contact-point-system\n",
      "- http://hl7.org/fhir/ValueSet/contact-point-use\n",
      "- http://hl7.org/fhir/ValueSet/administrative-gender\n",
      "- http://hl7.org/fhir/us/core/ValueSet/us-core-usps-state\n",
      "- http://hl7.org/fhir/us/core/ValueSet/simple-language\n",
      "### StructureDefinition-us-core-pulse-oximetry.json\n",
      "### StructureDefinition-us-core-immunization.json\n",
      "- http://hl7.org/fhir/ValueSet/immunization-status\n",
      "- http://hl7.org/fhir/ValueSet/immunization-status-reason\n",
      "- http://cts.nlm.nih.gov/fhir/ValueSet/2.16.840.1.113762.1.4.1010.6\n",
      "### StructureDefinition-us-core-provenance.json\n",
      "- http://hl7.org/fhir/us/core/ValueSet/us-core-provenance-participant-type\n",
      "### StructureDefinition-us-core-smokingstatus.json\n",
      "- http://hl7.org/fhir/us/core/ValueSet/us-core-observation-smoking-status-status\n",
      "- http://hl7.org/fhir/us/core/ValueSet/us-core-smoking-status-observation-codes\n",
      "- http://cts.nlm.nih.gov/fhir/ValueSet/2.16.840.1.113883.11.20.9.38\n",
      "### StructureDefinition-us-core-documentreference.json\n",
      "- http://hl7.org/fhir/ValueSet/document-reference-status\n",
      "- http://hl7.org/fhir/us/core/ValueSet/us-core-documentreference-type\n",
      "- http://hl7.org/fhir/us/core/ValueSet/us-core-documentreference-category\n",
      "- http://hl7.org/fhir/ValueSet/formatcodes\n",
      "### StructureDefinition-us-core-head-circumference.json\n",
      "- http://hl7.org/fhir/ValueSet/ucum-bodylength|4.0.1\n",
      "### StructureDefinition-us-core-race.json\n",
      "- http://hl7.org/fhir/us/core/ValueSet/omb-race-category\n",
      "- http://cts.nlm.nih.gov/fhir/ValueSet/2.16.840.1.113883.1.11.14914\n",
      "### StructureDefinition-us-core-medicationrequest.json\n",
      "- http://hl7.org/fhir/ValueSet/medicationrequest-status\n",
      "- http://hl7.org/fhir/ValueSet/medicationrequest-intent\n",
      "- http://cts.nlm.nih.gov/fhir/ValueSet/2.16.840.1.113762.1.4.1010.4\n",
      "### StructureDefinition-us-core-condition.json\n",
      "- http://hl7.org/fhir/ValueSet/condition-clinical\n",
      "- http://hl7.org/fhir/ValueSet/condition-ver-status\n",
      "- http://hl7.org/fhir/us/core/ValueSet/us-core-condition-category\n",
      "- http://hl7.org/fhir/us/core/ValueSet/us-core-condition-code\n",
      "- http://hl7.org/fhir/us/core/ValueSet/us-core-condition-code\n",
      "- http://hl7.org/fhir/us/core/ValueSet/us-core-condition-code\n",
      "### StructureDefinition-us-core-birthsex.json\n",
      "- http://hl7.org/fhir/us/core/ValueSet/birthsex\n",
      "### StructureDefinition-us-core-encounter.json\n",
      "- http://hl7.org/fhir/us/core/ValueSet/us-core-encounter-type\n",
      "### StructureDefinition-us-core-body-height.json\n",
      "- http://hl7.org/fhir/ValueSet/ucum-bodylength|4.0.1\n",
      "### StructureDefinition-us-core-bmi.json\n",
      "### StructureDefinition-us-core-organization.json\n",
      "- http://hl7.org/fhir/us/core/ValueSet/us-core-usps-state\n",
      "### StructureDefinition-us-core-procedure.json\n",
      "- http://hl7.org/fhir/ValueSet/event-status\n",
      "- http://hl7.org/fhir/us/core/ValueSet/us-core-procedure-code\n",
      "### StructureDefinition-us-core-medication.json\n",
      "- http://cts.nlm.nih.gov/fhir/ValueSet/2.16.840.1.113762.1.4.1010.4\n",
      "### StructureDefinition-us-core-blood-pressure.json\n",
      "### StructureDefinition-us-core-diagnosticreport-note.json\n",
      "- http://hl7.org/fhir/ValueSet/diagnostic-report-status\n",
      "- http://hl7.org/fhir/us/core/ValueSet/us-core-diagnosticreport-category\n",
      "- http://hl7.org/fhir/us/core/ValueSet/us-core-diagnosticreport-report-and-note-codes\n",
      "### StructureDefinition-us-core-practitionerrole.json\n",
      "- http://hl7.org/fhir/us/core/ValueSet/us-core-provider-role\n",
      "- http://cts.nlm.nih.gov/fhir/ValueSet/2.16.840.1.114222.4.11.1066\n",
      "### StructureDefinition-us-core-careplan.json\n",
      "- http://hl7.org/fhir/us/core/ValueSet/us-core-narrative-status\n",
      "- http://hl7.org/fhir/ValueSet/request-status\n",
      "- http://hl7.org/fhir/ValueSet/care-plan-intent\n",
      "### StructureDefinition-us-core-goal.json\n",
      "- http://hl7.org/fhir/ValueSet/goal-status\n",
      "### StructureDefinition-us-core-ethnicity.json\n",
      "- http://cts.nlm.nih.gov/fhir/ValueSet/2.16.840.1.114222.4.11.837\n",
      "- http://cts.nlm.nih.gov/fhir/ValueSet/2.16.840.1.114222.4.11.877\n",
      "### StructureDefinition-us-core-location.json\n",
      "- http://hl7.org/fhir/us/core/ValueSet/us-core-usps-state\n",
      "### StructureDefinition-us-core-diagnosticreport-lab.json\n",
      "- http://hl7.org/fhir/ValueSet/diagnostic-report-status\n",
      "- http://hl7.org/fhir/us/core/ValueSet/us-core-diagnosticreport-lab-codes\n",
      "### StructureDefinition-us-core-implantable-device.json\n",
      "- http://hl7.org/fhir/ValueSet/device-kind\n",
      "### StructureDefinition-us-core-allergyintolerance.json\n",
      "- http://hl7.org/fhir/ValueSet/allergyintolerance-clinical\n",
      "- http://hl7.org/fhir/ValueSet/allergyintolerance-verification\n",
      "- http://cts.nlm.nih.gov/fhir/ValueSet/2.16.840.1.113762.1.4.1186.8\n",
      "- http://hl7.org/fhir/ValueSet/clinical-findings\n",
      "### StructureDefinition-head-occipital-frontal-circumference-percentile.json\n",
      "### StructureDefinition-us-core-body-weight.json\n",
      "- http://hl7.org/fhir/ValueSet/ucum-bodyweight|4.0.1\n",
      "### StructureDefinition-us-core-vital-signs.json\n",
      "- http://hl7.org/fhir/us/core/ValueSet/us-core-vital-signs\n",
      "- http://hl7.org/fhir/ValueSet/ucum-vitals-common|4.0.1\n",
      "- http://hl7.org/fhir/us/core/ValueSet/us-core-vital-signs\n",
      "- http://hl7.org/fhir/ValueSet/ucum-vitals-common|4.0.1\n"
     ]
    }
   ],
   "source": [
    "for f in path.iterdir():\n",
    "    if str(f.name).startswith('StructureDefinition'):\n",
    "        print(f'### {f.name}')\n",
    "        sd_dict=loads(f.read_text())\n",
    "        for element in sd_dict['differential']['element']:\n",
    "            if element.get('binding'):\n",
    "                vs = element['binding'].get('valueSet','No ValueSet')\n",
    "                print(f'- {vs}')"
   ]
  },
  {
   "cell_type": "code",
   "execution_count": null,
   "metadata": {},
   "outputs": [],
   "source": []
  }
 ],
 "metadata": {
  "kernelspec": {
   "display_name": "Python 3.7.3 64-bit ('venv37': venv)",
   "language": "python",
   "name": "python37364bitvenv37venv2b400d68decb43d5b2206c004a019450"
  },
  "language_info": {
   "codemirror_mode": {
    "name": "ipython",
    "version": 3
   },
   "file_extension": ".py",
   "mimetype": "text/x-python",
   "name": "python",
   "nbconvert_exporter": "python",
   "pygments_lexer": "ipython3",
   "version": "3.7.3"
  }
 },
 "nbformat": 4,
 "nbformat_minor": 4
}
