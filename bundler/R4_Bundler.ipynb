{
 "cells": [
  {
   "attachments": {},
   "cell_type": "markdown",
   "metadata": {},
   "source": [
    "## Script to bundle all resources in folder as a batch, transaction, collection, or message\n",
    "\n",
    "- python version 3.6+\n",
    "- get data from folder\n",
    "- bundle\n",
    "- validate and save"
   ]
  },
  {
   "cell_type": "code",
   "execution_count": 14,
   "metadata": {},
   "outputs": [
    {
     "data": {
      "text/plain": [
       "PosixPath('/Users/ehaas/Documents/Python/Jupyter/MyNotebooks/bundler/in_folder/cdex-scenario3-provider')"
      ]
     },
     "execution_count": 14,
     "metadata": {},
     "output_type": "execute_result"
    }
   ],
   "source": [
    "from json import load, dumps, loads\n",
    "from yaml import safe_load as yloads, safe_dump as ydumps\n",
    "from IPython import display as D\n",
    "from requests import get, post, put\n",
    "from IPython.display import display, Markdown, HTML\n",
    "from fhir.resources.bundle import Bundle as B, BundleEntry as BE, BundleEntryRequest as BER, BundleEntryResponse as BERes, BundleEntrySearch as BES \n",
    "from fhir.resources.meta import Meta as M\n",
    "from fhir.resources.extension import Extension as X\n",
    "import uuid\n",
    "from datetime import datetime\n",
    "from pprint import pprint\n",
    "from pathlib import Path\n",
    "\n",
    "#===============bundle variables=================\n",
    "# bundle_id = 'CDEX-provider-docref-transaction-bundle' #'cdex-provider-load-transaction-bundle'\n",
    "bundle_type = 'transaction' #'collection'\n",
    "transaction_method = 'POST' # or 'POST' or \"GET\"\n",
    "title = False #True # if True add meta extension title and description to bundle\n",
    "bundle_description = 'This is an Bundle example for CDEX Scenario3 l'\n",
    "bundle_profile = '' #'http://hl7.org/fhir/smart-app-launch/StructureDefinition/patient-access-brands-bundle'\n",
    "last_updated = True # if True add last updated to bundle\n",
    "\n",
    "\n",
    "keep_ids = False # if False strip FHIR ids from all resources\n",
    "use_uuid = True #False # if False use references\n",
    "base = '' #'https://ehr.example.org'  #  if using reference instead of UUIDs\n",
    "\n",
    "# in_folder = '/Users/ehaas/Documents/Python/Jupyter/MyNotebooks/resource_maker/examples/CDex-Provider-Documents'  # copy/paste absolute path\n",
    "# in_folder = '/Users/ehaas/Documents/Python/Jupyter/MyNotebooks/unbundle_save/out'  # copy/paste absolute path\n",
    "# in_folder = '/Users/ehaas/Documents/FHIR/US-Core/input/resources'\n",
    "#in_folder = '/Users/ehaas/Documents/Python/Jupyter/MyNotebooks/resource_maker/examples/CDex-Provider-Documents'\n",
    "# in_folder = '/Users/ehaas/Documents/Python/Jupyter/MyNotebooks/bundler/in_folder/cdex-scenario3-payer'\n",
    "in_folder = '/Users/ehaas/Documents/Python/Jupyter/MyNotebooks/bundler/in_folder/cdex-scenario3-provider'\n",
    "\n",
    "bundle_id = in_folder.split('/')[-1]\n",
    "\n",
    "\n",
    "in_path = Path(in_folder)\n",
    "\n",
    "\n",
    "in_path"
   ]
  },
  {
   "attachments": {},
   "cell_type": "markdown",
   "metadata": {},
   "source": [
    "###  write to file"
   ]
  },
  {
   "cell_type": "code",
   "execution_count": 15,
   "metadata": {},
   "outputs": [],
   "source": [
    "def write_file(r_dict): # write file\n",
    "    out_path =  Path(r'/Users/ehaas/Documents/Python/Jupyter/MyNotebooks/bundler/r4')/f'Bundle-{bundle_id}.yml' #in_path / f'Bundle-{bundle_id}.yml'\n",
    "    print(out_path)\n",
    "    out_path.write_text(ydumps(r_dict, sort_keys=False))  # dump bundle to file"
   ]
  },
  {
   "attachments": {},
   "cell_type": "markdown",
   "metadata": {},
   "source": [
    "### open json file and return as dict"
   ]
  },
  {
   "cell_type": "code",
   "execution_count": 16,
   "metadata": {},
   "outputs": [
    {
     "name": "stdout",
     "output_type": "stream",
     "text": [
      "resource_type='Meta' fhir_comments=None extension=None id=None lastUpdated=None lastUpdated__ext=None profile=None profile__ext=None security=None source=None source__ext=None tag=None versionId=None versionId__ext=None\n"
     ]
    },
    {
     "data": {
      "text/plain": [
       "'{\"resourceType\":\"Bundle\",\"id\":\"cdex-scenario3-provider\",\"meta\":{\"lastUpdated\":\"2024-08-13T17:44:15.995052-07:00\"},\"type\":\"transaction\",\"timestamp\":\"2024-08-13T17:44:15.975917-07:00\"}'"
      ]
     },
     "execution_count": 16,
     "metadata": {},
     "output_type": "execute_result"
    }
   ],
   "source": [
    "\n",
    "\n",
    "b = B(\n",
    "    id = bundle_id,\n",
    "    type = bundle_type,\n",
    "    timestamp = datetime.now().astimezone().isoformat(),\n",
    ")\n",
    "\n",
    "meta = M()\n",
    "print(meta)\n",
    "meta.profile = [bundle_profile] if bundle_profile else None\n",
    "\n",
    "if title:\n",
    "    \n",
    "    meta.extension = []\n",
    "    meta.extension.append ({ 'url': 'http://hl7.org/fhir/StructureDefinition/instance-name', \"valueString\": f'Bundle {bundle_id.title()}'})\n",
    "    meta.extension.append({ 'url': 'http://hl7.org/fhir/StructureDefinition/instance-description', \"valueMarkdown\": bundle_description})\n",
    "\n",
    "if last_updated:\n",
    "    meta.lastUpdated = datetime.now().astimezone().isoformat()\n",
    "    \n",
    "b.meta = meta\n",
    "b.json()\n"
   ]
  },
  {
   "cell_type": "code",
   "execution_count": 17,
   "metadata": {},
   "outputs": [],
   "source": [
    "def open_file(f_name): # get files\n",
    "    \n",
    "    try:\n",
    "        return(loads(f_name.read_text(encoding='utf-8')))\n",
    "    except ValueError as e:\n",
    "\n",
    "        return(yloads(f_name.read_text()))"
   ]
  },
  {
   "attachments": {},
   "cell_type": "markdown",
   "metadata": {},
   "source": [
    "### Get files in current path"
   ]
  },
  {
   "cell_type": "code",
   "execution_count": 18,
   "metadata": {},
   "outputs": [
    {
     "name": "stdout",
     "output_type": "stream",
     "text": [
      "patient-member123.json\n",
      "task-trackingid1012.json\n",
      "organization-1234567893.json\n",
      "practitioner-9941339100.json\n"
     ]
    }
   ],
   "source": [
    "files = [path for path in in_path.iterdir() if path.suffix == '.json'] #\"valueset\" in path.stem.lower() and path.is_file()] #if 'Bundle' not in path.stem and path.is_file()]\n",
    "for file in files:\n",
    "    print(file.name)"
   ]
  },
  {
   "attachments": {},
   "cell_type": "markdown",
   "metadata": {},
   "source": [
    "### create Bundle 'b'  change the id for unique Bundles!!!"
   ]
  },
  {
   "attachments": {},
   "cell_type": "markdown",
   "metadata": {},
   "source": [
    "### Add resources to bundle\n",
    "\n",
    "#### Create a mapping of ids to uuids\n",
    "\n",
    "- get id from resource\n",
    "- map to uuid (create a dict of {urn, (old_ref)})\n",
    "- remove id element\n",
    "- replace all old refs in bundle with new urns\n"
   ]
  },
  {
   "cell_type": "code",
   "execution_count": 19,
   "metadata": {},
   "outputs": [
    {
     "name": "stdout",
     "output_type": "stream",
     "text": [
      "{'resourceType': 'Organization', 'id': 'holy-healthcare', 'meta': {'profile': ['http://hl7.org/fhir/us/core/StructureDefinition/us-core-organization|7.0.0']}, 'identifier': [{'system': 'http://hl7.org/fhir/sid/us-npi', 'value': '1234567893'}], 'active': True, 'type': [{'coding': [{'system': 'http://terminology.hl7.org/CodeSystem/organization-type', 'code': 'prov'}], 'text': 'Provider'}], 'name': 'Holy Healthcare', 'telecom': [{'system': 'phone', 'value': '(+1) 555-555-5555'}, {'system': 'email', 'value': 'hq@holyhealthcare.org'}], 'address': [{'line': ['100 MANAGING ORGANIZATION AVE'], 'city': 'Amherst', 'state': 'MA', 'postalCode': '01002', 'country': 'USA'}]}\n",
      "r['id'] = holy-healthcare  r['resourceType'] = Organization\n",
      "{'resourceType': 'Patient', 'meta': {'profile': ['http://hl7.org/fhir/us/davinci-cdex/StructureDefinition/cdex-patient-demographics']}, 'identifier': [{'use': 'usual', 'type': {'coding': [{'system': 'http://hl7.org/fhir/us/davinci-hrex/CodeSystem/hrex-temp', 'code': 'UMB', 'display': 'Member Number'}], 'text': 'Member Number'}, 'system': 'http://example.org/cdex/payer/member-ids', 'value': 'Member123'}], 'name': [{'family': 'Shaw', 'given': ['Amy']}], 'birthDate': '1987-02-20'}\n",
      "no fhir id,  r['resourceType'] = Patient\n",
      "{'resourceType': 'Practitioner', 'id': 'practitioner-1', 'meta': {'profile': ['http://hl7.org/fhir/us/core/StructureDefinition/us-core-practitioner|7.0.0']}, 'identifier': [{'system': 'http://hl7.org/fhir/sid/us-npi', 'value': '9941339100'}, {'system': 'http://www.acme.org/practitioners', 'value': '25456', 'extension': [{'url': 'http://hl7.org/fhir/us/core/StructureDefinition/us-core-jurisdiction', 'valueCodeableConcept': {'coding': [{'system': 'https://www.usps.com/', 'code': 'MA'}], 'text': 'Massachusetts'}}]}], 'name': [{'family': 'Bone', 'given': ['Ronald'], 'prefix': ['Dr']}], 'address': [{'use': 'work', 'line': ['1003 HEALTHCARE DR'], 'city': 'AMHERST', 'state': 'MA', 'postalCode': '01002'}]}\n",
      "r['id'] = practitioner-1  r['resourceType'] = Practitioner\n",
      "{'resourceType': 'Task', 'meta': {'profile': ['http://hl7.org/fhir/us/davinci-cdex/StructureDefinition/cdex-task-attachment-request']}, 'contained': [{'resourceType': 'Patient', 'id': 'patient', 'meta': {'profile': ['http://hl7.org/fhir/us/davinci-cdex/StructureDefinition/cdex-patient-demographics']}, 'identifier': [{'use': 'usual', 'type': {'coding': [{'system': 'http://hl7.org/fhir/us/davinci-hrex/CodeSystem/hrex-temp', 'code': 'UMB', 'display': 'Member Number'}], 'text': 'Member Number'}, 'system': 'http://example.org/cdex/payer/member-ids', 'value': 'Member123'}, {'use': 'usual', 'type': {'coding': [{'system': 'http://hl7.org/fhir/us/carin-bb/CodeSystem/C4BBIdentifierType', 'code': 'pat', 'display': 'Patient Account Number'}], 'text': 'Patient Account Number'}, 'system': 'http://example.org/cdex/provider/patient-ids', 'value': 'PA-123'}], 'name': [{'family': 'Shaw', 'given': ['Amy']}], 'birthDate': '1987-02-20'}, {'resourceType': 'PractitionerRole', 'id': 'practitionerrole', 'meta': {'profile': ['http://hl7.org/fhir/us/davinci-cdex/StructureDefinition/cdex-practitionerrole']}, 'practitioner': {'identifier': {'system': 'http://hl7.org/fhir/sid/us-npi', 'value': '9941339100'}}, 'organization': {'identifier': {'system': 'http://hl7.org/fhir/sid/us-npi', 'value': '1234567893'}}}], 'identifier': [{'type': {'coding': [{'system': 'http://hl7.org/fhir/us/davinci-cdex/CodeSystem/cdex-temp', 'code': 'tracking-id', 'display': 'Tracking Id'}], 'text': 'Re-Association Tracking Control Number'}, 'system': 'http://example.org/payer', 'value': 'trackingid1012'}], 'status': 'requested', 'intent': 'order', 'code': {'coding': [{'system': 'http://hl7.org/fhir/us/davinci-cdex/CodeSystem/cdex-temp', 'code': 'attachment-request-questionnaire'}], 'text': 'Attachment Request Questionnaire'}, 'for': {'reference': '#patient'}, 'authoredOn': '2022-06-17T16:16:06Z', 'lastModified': '2022-06-17T16:16:06Z', 'requester': {'identifier': {'system': 'http://example.org/cdex/payer/payer-ids', 'value': 'Payer123'}}, 'owner': {'reference': '#practitionerrole'}, 'reasonCode': {'coding': [{'system': 'http://hl7.org/fhir/claim-use', 'code': 'claim', 'display': 'Claim'}], 'text': 'Claim'}, 'reasonReference': {'identifier': {'system': 'http://example.org/cdex/payer/claim-ids', 'value': 'Claim123'}, 'restriction': {'period': {'end': '2022-06-21'}}}, 'input': [{'extension': [{'url': 'http://hl7.org/fhir/us/davinci-pas/StructureDefinition/extension-serviceLineNumber', 'valuePositiveInt': 1}], 'type': {'coding': [{'system': 'http://hl7.org/fhir/uv/sdc/CodeSystem/temp', 'code': 'questionnaire'}]}, 'valueCanonical': 'https://gist.githubusercontent.com/Healthedata1/af831e374f818d34ebb25dcdf4b795eb/raw/147e38c6afa7e9c6997c7095d7a93d8069798cde/cdex-test-questionnaire.json', '_valueCanonical': {'extension': [{'url': 'http://hl7.org/fhir/StructureDefinition/display', 'valueString': 'Home Oxygen Therapy Questionnaire'}]}}, {'type': {'coding': [{'system': 'http://hl7.org/fhir/us/davinci-cdex/CodeSystem/cdex-temp', 'code': 'payer-url'}]}, 'valueUrl': 'http://example.org/cdex/payer/$submit-attachment'}, {'type': {'coding': [{'system': 'http://hl7.org/fhir/us/davinci-cdex/CodeSystem/cdex-temp', 'code': 'purpose-of-use'}]}, 'valueCodeableConcept': {'coding': [{'system': 'http://terminology.hl7.org/CodeSystem/v3-ActReason', 'code': 'COVAUTH', 'display': 'coverage authorization'}]}}]}\n",
      "no fhir id,  r['resourceType'] = Task\n",
      "{\"resourceType\":\"Bundle\",\"id\":\"cdex-scenario3-provider\",\"meta\":{\"lastUpdated\":\"2024-08-13T17:44:15.995052-07:00\"},\"type\":\"transaction\",\"timestamp\":\"2024-08-13T17:44:15.975917-07:00\",\"entry\":[{\"fullUrl\":\"urn:uuid:55516c4e-59d6-11ef-8fd5-daaf18ab2cbb\",\"resource\":{\"resourceType\":\"Organization\",\"meta\":{\"profile\":[\"http://hl7.org/fhir/us/core/StructureDefinition/us-core-organization|7.0.0\"]},\"identifier\":[{\"system\":\"http://hl7.org/fhir/sid/us-npi\",\"value\":\"1234567893\"}],\"active\":true,\"type\":[{\"coding\":[{\"system\":\"http://terminology.hl7.org/CodeSystem/organization-type\",\"code\":\"prov\"}],\"text\":\"Provider\"}],\"name\":\"Holy Healthcare\",\"telecom\":[{\"system\":\"phone\",\"value\":\"(+1) 555-555-5555\"},{\"system\":\"email\",\"value\":\"hq@holyhealthcare.org\"}],\"address\":[{\"line\":[\"100 MANAGING ORGANIZATION AVE\"],\"city\":\"Amherst\",\"state\":\"MA\",\"postalCode\":\"01002\",\"country\":\"USA\"}],\"id\":null},\"request\":{\"method\":\"POST\",\"url\":\"Organization\"}},{\"fullUrl\":\"urn:uuid:55519494-59d6-11ef-8fd5-daaf18ab2cbb\",\"resource\":{\"resourceType\":\"Patient\",\"meta\":{\"profile\":[\"http://hl7.org/fhir/us/davinci-cdex/StructureDefinition/cdex-patient-demographics\"]},\"identifier\":[{\"use\":\"usual\",\"type\":{\"coding\":[{\"system\":\"http://hl7.org/fhir/us/davinci-hrex/CodeSystem/hrex-temp\",\"code\":\"UMB\",\"display\":\"Member Number\"}],\"text\":\"Member Number\"},\"system\":\"http://example.org/cdex/payer/member-ids\",\"value\":\"Member123\"}],\"name\":[{\"family\":\"Shaw\",\"given\":[\"Amy\"]}],\"birthDate\":\"1987-02-20\",\"id\":null},\"request\":{\"method\":\"POST\",\"url\":\"Patient\"}},{\"fullUrl\":\"urn:uuid:5551a8b2-59d6-11ef-8fd5-daaf18ab2cbb\",\"resource\":{\"resourceType\":\"Practitioner\",\"meta\":{\"profile\":[\"http://hl7.org/fhir/us/core/StructureDefinition/us-core-practitioner|7.0.0\"]},\"identifier\":[{\"system\":\"http://hl7.org/fhir/sid/us-npi\",\"value\":\"9941339100\"},{\"system\":\"http://www.acme.org/practitioners\",\"value\":\"25456\",\"extension\":[{\"url\":\"http://hl7.org/fhir/us/core/StructureDefinition/us-core-jurisdiction\",\"valueCodeableConcept\":{\"coding\":[{\"system\":\"https://www.usps.com/\",\"code\":\"MA\"}],\"text\":\"Massachusetts\"}}]}],\"name\":[{\"family\":\"Bone\",\"given\":[\"Ronald\"],\"prefix\":[\"Dr\"]}],\"address\":[{\"use\":\"work\",\"line\":[\"1003 HEALTHCARE DR\"],\"city\":\"AMHERST\",\"state\":\"MA\",\"postalCode\":\"01002\"}],\"id\":null},\"request\":{\"method\":\"POST\",\"url\":\"Practitioner\"}},{\"fullUrl\":\"urn:uuid:5551bb7c-59d6-11ef-8fd5-daaf18ab2cbb\",\"resource\":{\"resourceType\":\"Task\",\"meta\":{\"profile\":[\"http://hl7.org/fhir/us/davinci-cdex/StructureDefinition/cdex-task-attachment-request\"]},\"contained\":[{\"resourceType\":\"Patient\",\"id\":\"patient\",\"meta\":{\"profile\":[\"http://hl7.org/fhir/us/davinci-cdex/StructureDefinition/cdex-patient-demographics\"]},\"identifier\":[{\"use\":\"usual\",\"type\":{\"coding\":[{\"system\":\"http://hl7.org/fhir/us/davinci-hrex/CodeSystem/hrex-temp\",\"code\":\"UMB\",\"display\":\"Member Number\"}],\"text\":\"Member Number\"},\"system\":\"http://example.org/cdex/payer/member-ids\",\"value\":\"Member123\"},{\"use\":\"usual\",\"type\":{\"coding\":[{\"system\":\"http://hl7.org/fhir/us/carin-bb/CodeSystem/C4BBIdentifierType\",\"code\":\"pat\",\"display\":\"Patient Account Number\"}],\"text\":\"Patient Account Number\"},\"system\":\"http://example.org/cdex/provider/patient-ids\",\"value\":\"PA-123\"}],\"name\":[{\"family\":\"Shaw\",\"given\":[\"Amy\"]}],\"birthDate\":\"1987-02-20\"},{\"resourceType\":\"PractitionerRole\",\"id\":\"practitionerrole\",\"meta\":{\"profile\":[\"http://hl7.org/fhir/us/davinci-cdex/StructureDefinition/cdex-practitionerrole\"]},\"practitioner\":{\"identifier\":{\"system\":\"http://hl7.org/fhir/sid/us-npi\",\"value\":\"9941339100\"}},\"organization\":{\"identifier\":{\"system\":\"http://hl7.org/fhir/sid/us-npi\",\"value\":\"1234567893\"}}}],\"identifier\":[{\"type\":{\"coding\":[{\"system\":\"http://hl7.org/fhir/us/davinci-cdex/CodeSystem/cdex-temp\",\"code\":\"tracking-id\",\"display\":\"Tracking Id\"}],\"text\":\"Re-Association Tracking Control Number\"},\"system\":\"http://example.org/payer\",\"value\":\"trackingid1012\"}],\"status\":\"requested\",\"intent\":\"order\",\"code\":{\"coding\":[{\"system\":\"http://hl7.org/fhir/us/davinci-cdex/CodeSystem/cdex-temp\",\"code\":\"attachment-request-questionnaire\"}],\"text\":\"Attachment Request Questionnaire\"},\"for\":{\"reference\":\"#patient\"},\"authoredOn\":\"2022-06-17T16:16:06Z\",\"lastModified\":\"2022-06-17T16:16:06Z\",\"requester\":{\"identifier\":{\"system\":\"http://example.org/cdex/payer/payer-ids\",\"value\":\"Payer123\"}},\"owner\":{\"reference\":\"#practitionerrole\"},\"reasonCode\":{\"coding\":[{\"system\":\"http://hl7.org/fhir/claim-use\",\"code\":\"claim\",\"display\":\"Claim\"}],\"text\":\"Claim\"},\"reasonReference\":{\"identifier\":{\"system\":\"http://example.org/cdex/payer/claim-ids\",\"value\":\"Claim123\"},\"restriction\":{\"period\":{\"end\":\"2022-06-21\"}}},\"input\":[{\"extension\":[{\"url\":\"http://hl7.org/fhir/us/davinci-pas/StructureDefinition/extension-serviceLineNumber\",\"valuePositiveInt\":1}],\"type\":{\"coding\":[{\"system\":\"http://hl7.org/fhir/uv/sdc/CodeSystem/temp\",\"code\":\"questionnaire\"}]},\"valueCanonical\":\"https://gist.githubusercontent.com/Healthedata1/af831e374f818d34ebb25dcdf4b795eb/raw/147e38c6afa7e9c6997c7095d7a93d8069798cde/cdex-test-questionnaire.json\",\"_valueCanonical\":{\"extension\":[{\"url\":\"http://hl7.org/fhir/StructureDefinition/display\",\"valueString\":\"Home Oxygen Therapy Questionnaire\"}]}},{\"type\":{\"coding\":[{\"system\":\"http://hl7.org/fhir/us/davinci-cdex/CodeSystem/cdex-temp\",\"code\":\"payer-url\"}]},\"valueUrl\":\"http://example.org/cdex/payer/$submit-attachment\"},{\"type\":{\"coding\":[{\"system\":\"http://hl7.org/fhir/us/davinci-cdex/CodeSystem/cdex-temp\",\"code\":\"purpose-of-use\"}]},\"valueCodeableConcept\":{\"coding\":[{\"system\":\"http://terminology.hl7.org/CodeSystem/v3-ActReason\",\"code\":\"COVAUTH\",\"display\":\"coverage authorization\"}]}}],\"id\":null},\"request\":{\"method\":\"POST\",\"url\":\"Task\"}}]}\n",
      "/Users/ehaas/Documents/Python/Jupyter/MyNotebooks/bundler/r4/Bundle-cdex-scenario3-provider.yml\n"
     ]
    }
   ],
   "source": [
    "b.entry = []\n",
    "ref_map = {}\n",
    "for i in sorted(files):\n",
    "    r = open_file(i)\n",
    "    print(r)\n",
    "    try:\n",
    "        print(f\"r['id'] = {r['id']}  r['resourceType'] = {r['resourceType']}\")\n",
    "    except KeyError:\n",
    "        print(f\"no fhir id,  r['resourceType'] = {r['resourceType']}\")\n",
    "\n",
    "    # remove text,id, meta.extension elements from file \n",
    "    try:\n",
    "        r[\"meta\"].pop('extension', None)\n",
    "    except KeyError:\n",
    "        pass\n",
    "    r.pop('text', None) # remove id elements from files\n",
    "    if keep_ids:\n",
    "        old_id = r['id'] # map old id to new urn\n",
    "    else:\n",
    "        old_id = r.pop('id',None) # map old id to new urn\n",
    "    if use_uuid:\n",
    "        try:\n",
    "            print(r['url'])\n",
    "            new_urn = r['url']\n",
    "            r['id'] = new_urn if keep_ids else None # update id to new urn\n",
    "        except:\n",
    "            new_urn = uuid.uuid1().urn # new urn for resource\n",
    "            r['id'] = new_urn.split(':')[-1] if keep_ids else None # update id to new urn}\n",
    "        # ref_map[new_urn] = f'{r[\"resourceType\"]}/{old_id}'\n",
    "        # print( f\"id_map = {old_id} --> {new_urn}\" , '\\n')\n",
    "\n",
    "        \n",
    "        # print(f\"r['id'] = {r['id']}\")\n",
    "        if transaction_method in ['PUT', 'POST']:\n",
    "            e = dict( \n",
    "                fullUrl = new_urn,\n",
    "                resource = r,\n",
    "                )\n",
    "        else:\n",
    "            e = dict(\n",
    "                )\n",
    "    else: # use resources assume the references the ids are correct\n",
    "        if transaction_method in ['PUT', 'POST']:\n",
    "            e = dict( \n",
    "                fullUrl = f'{base}/{r[\"resourceType\"]}/{old_id}',\n",
    "                resource = r,\n",
    "            )\n",
    "        else:\n",
    "            e = dict(\n",
    "            )\n",
    "    # print(e)\n",
    "    if bundle_type in ['transaction', 'batch']:\n",
    "        if transaction_method in ['PUT', 'POST']:\n",
    "            url = r['resourceType']\n",
    "        elif transaction_method == 'GET':\n",
    "            if r[\"url\"]:\n",
    "                url = f'{r[\"resourceType\"]}?url={r[\"url\"]}'\n",
    "            else:\n",
    "                url = f'{r[\"resourceType\"]}?_id={old_id}'   ###### TODO fix this\n",
    "        e['request'] = dict(\n",
    "                    method = transaction_method,\n",
    "                    url = url,\n",
    "                    )\n",
    "             \n",
    "    # if for a PAS request or response Bundle\n",
    "    if r['resourceType'] in ['ClaimResponse','Claim']:\n",
    "        b.entry.insert(0,e)\n",
    "    else:\n",
    "        b.entry.append(e)\n",
    "b_json = b.json()\n",
    "if use_uuid:\n",
    "\n",
    "    for new_ref, old_ref in ref_map.items():\n",
    "        b_json = b_json.replace(old_ref,new_ref)\n",
    "    # print(b_json)\n",
    "    # b_obj = B.parse_raw(b_json)\n",
    "\n",
    "print(b_json)\n",
    "\n",
    "write_file(loads(b_json))\n"
   ]
  },
  {
   "cell_type": "code",
   "execution_count": null,
   "metadata": {},
   "outputs": [],
   "source": [
    "\n"
   ]
  }
 ],
 "metadata": {
  "kernelspec": {
   "display_name": "Python 3",
   "language": "python",
   "name": "python3"
  },
  "language_info": {
   "codemirror_mode": {
    "name": "ipython",
    "version": 3
   },
   "file_extension": ".py",
   "mimetype": "text/x-python",
   "name": "python",
   "nbconvert_exporter": "python",
   "pygments_lexer": "ipython3",
   "version": "3.10.2"
  }
 },
 "nbformat": 4,
 "nbformat_minor": 2
}
