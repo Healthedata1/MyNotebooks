{
 "cells": [
  {
   "attachments": {},
   "cell_type": "markdown",
   "metadata": {},
   "source": [
    "## Script to bundle all resources in folder as a batch, transaction, collection, or message\n",
    "\n",
    "- python version 3.6+\n",
    "- get data from folder\n",
    "- bundle\n",
    "- validate and save"
   ]
  },
  {
   "cell_type": "code",
   "execution_count": 93,
   "metadata": {},
   "outputs": [
    {
     "data": {
      "text/plain": [
       "PosixPath('/Users/ehaas/Documents/Python/Jupyter/MyNotebooks/bundler/r4/CDex_PAS_Payer_Load')"
      ]
     },
     "execution_count": 93,
     "metadata": {},
     "output_type": "execute_result"
    }
   ],
   "source": [
    "from json import load, dumps, loads\n",
    "from yaml import safe_load as yloads, safe_dump as ydumps\n",
    "from IPython import display as D\n",
    "from requests import get, post, put\n",
    "from IPython.display import display, Markdown, HTML\n",
    "from fhir.resources.bundle import Bundle as B, BundleEntry as BE, BundleEntryRequest as BER, BundleEntryResponse as BERes, BundleEntrySearch as BES \n",
    "from fhir.resources.meta import Meta as M\n",
    "from fhir.resources.extension import Extension as X\n",
    "import uuid\n",
    "from datetime import datetime\n",
    "from pprint import pprint\n",
    "from pathlib import Path\n",
    "\n",
    "#===============bundle variables=================\n",
    "bundle_id = 'cdex-scenario7-payer-load-transaction-bundle'\n",
    "bundle_type = 'transaction' #'collection'\n",
    "transaction_method = 'POST' # 'PUT' or 'POST'\n",
    "title = False #True # if True add meta extension title and description to bundle\n",
    "bundle_description = 'This is an Bundle example for the **Patient Access Brands Bundle Profile**. and represents Example 5 - EHR and EHR Customer Hosted Brands Bundles'\n",
    "bundle_profile = 'http://hl7.org/fhir/smart-app-launch/StructureDefinition/patient-access-brands-bundle'\n",
    "last_updated = True # if True add last updated to bundle\n",
    "\n",
    "\n",
    "keep_ids = False #True # if False strip FHIR ids from all resources\n",
    "use_uuid = True #False # if False use references\n",
    "base = 'https://ehr.example.org'  #  if using reference instead of UUIDs\n",
    "\n",
    "in_folder = '/Users/ehaas/Documents/Python/Jupyter/MyNotebooks/bundler/r4/CDex_PAS_Payer_Load'  # copy/paste absolute path\n",
    "in_path = Path(in_folder)\n",
    "\n",
    "in_path"
   ]
  },
  {
   "attachments": {},
   "cell_type": "markdown",
   "metadata": {},
   "source": [
    "###  write to file"
   ]
  },
  {
   "cell_type": "code",
   "execution_count": 94,
   "metadata": {},
   "outputs": [],
   "source": [
    "def write_file(r_dict): # write file\n",
    "    out_path = in_path / f'Bundle-{bundle_id}.yml'\n",
    "    print(out_path)\n",
    "    out_path.write_text(ydumps(r_dict, sort_keys=False))  # dump bundle to file"
   ]
  },
  {
   "attachments": {},
   "cell_type": "markdown",
   "metadata": {},
   "source": [
    "### open json file and return as dict"
   ]
  },
  {
   "cell_type": "code",
   "execution_count": 95,
   "metadata": {},
   "outputs": [
    {
     "name": "stdout",
     "output_type": "stream",
     "text": [
      "resource_type='Meta' fhir_comments=None extension=None id=None lastUpdated=None lastUpdated__ext=None profile=None profile__ext=None security=None source=None source__ext=None tag=None versionId=None versionId__ext=None\n"
     ]
    },
    {
     "data": {
      "text/plain": [
       "'{\"resourceType\":\"Bundle\",\"id\":\"cdex-scenario7-payer-load-transaction-bundle\",\"meta\":{\"lastUpdated\":\"2023-09-10T07:46:52.632979-07:00\",\"profile\":[\"http://hl7.org/fhir/smart-app-launch/StructureDefinition/patient-access-brands-bundle\"]},\"type\":\"transaction\",\"timestamp\":\"2023-09-10T07:46:52.632632-07:00\"}'"
      ]
     },
     "execution_count": 95,
     "metadata": {},
     "output_type": "execute_result"
    }
   ],
   "source": [
    "\n",
    "\n",
    "b = B(\n",
    "    id = bundle_id,\n",
    "    type = bundle_type,\n",
    "    timestamp = datetime.now().astimezone().isoformat(),\n",
    ")\n",
    "\n",
    "meta = M()\n",
    "print(meta)\n",
    "meta.profile = [bundle_profile] if bundle_profile else None\n",
    "\n",
    "if title:\n",
    "    \n",
    "    meta.extension = []\n",
    "    meta.extension.append ({ 'url': 'http://hl7.org/fhir/StructureDefinition/instance-name', \"valueString\": f'Bundle {bundle_id.title()}'})\n",
    "    meta.extension.append({ 'url': 'http://hl7.org/fhir/StructureDefinition/instance-description', \"valueMarkdown\": bundle_description})\n",
    "\n",
    "if last_updated:\n",
    "    meta.lastUpdated = datetime.now().astimezone().isoformat()\n",
    "    \n",
    "b.meta = meta\n",
    "b.json()\n"
   ]
  },
  {
   "cell_type": "code",
   "execution_count": 96,
   "metadata": {},
   "outputs": [],
   "source": [
    "def open_file(f_name): # get files\n",
    "    \n",
    "    try:\n",
    "        return(loads(f_name.read_text()))\n",
    "    except ValueError as e:\n",
    "\n",
    "        return(yloads(f_name.read_text()))"
   ]
  },
  {
   "attachments": {},
   "cell_type": "markdown",
   "metadata": {},
   "source": [
    "### Get files in current path"
   ]
  },
  {
   "cell_type": "code",
   "execution_count": 97,
   "metadata": {},
   "outputs": [
    {
     "name": "stdout",
     "output_type": "stream",
     "text": [
      "PractitionerRole-referral-example.yml\n",
      "example-1-patient.json\n",
      "ServiceRequest-referralrequest-example.yml\n",
      "Practitioner-referral-example.yml\n",
      "Coverage-insurance-example.yml\n",
      "Location-referral-example.yml\n",
      "Organization-UMO-example.yml\n",
      "cdex-claim-MRIAuthorizationRIExample.yml\n",
      "Organization-insurer-example.yml\n"
     ]
    }
   ],
   "source": [
    "files = [path for path in in_path.iterdir() if 'Bundle' not in path.stem]\n",
    "for file in files:\n",
    "    print(file.name)"
   ]
  },
  {
   "attachments": {},
   "cell_type": "markdown",
   "metadata": {},
   "source": [
    "\n"
   ]
  },
  {
   "attachments": {},
   "cell_type": "markdown",
   "metadata": {},
   "source": [
    "### create Bundle 'b'  change the id for unique Bundles!!!"
   ]
  },
  {
   "attachments": {},
   "cell_type": "markdown",
   "metadata": {},
   "source": [
    "### Add resources to bundle\n",
    "\n",
    "#### Create a mapping of ids to uuids\n",
    "\n",
    "- get id from resource\n",
    "- map to uuid (create a dict of {urn, (old_ref)})\n",
    "- remove id element\n",
    "- replace all old refs in bundle with new urns\n"
   ]
  },
  {
   "cell_type": "code",
   "execution_count": 98,
   "metadata": {},
   "outputs": [
    {
     "name": "stdout",
     "output_type": "stream",
     "text": [
      "{'fullUrl': 'urn:uuid:e154b866-4fe8-11ee-9291-daaf18ab2cbb', 'resource': {'resourceType': 'Coverage', 'meta': {'profile': ['http://hl7.org/fhir/us/davinci-pas/StructureDefinition/profile-coverage']}, 'status': 'active', 'beneficiary': {'reference': 'Patient/SubscriberExample'}, 'payor': [{'reference': 'Organization/InsurerExample'}], 'id': None}}\n",
      "{'fullUrl': 'urn:uuid:e154ea02-4fe8-11ee-9291-daaf18ab2cbb', 'resource': {'resourceType': 'Location', 'meta': {'profile': ['http://hl7.org/fhir/us/davinci-pas/StructureDefinition/profile-locaation']}, 'name': 'REFERRAL CLINIC', 'address': {'line': ['111 1ST STREET'], 'city': 'SAN DIEGO', 'state': 'CA', 'postalCode': '92101', 'country': 'US'}, 'id': None}}\n",
      "{'fullUrl': 'urn:uuid:e155488a-4fe8-11ee-9291-daaf18ab2cbb', 'resource': {'resourceType': 'Organization', 'meta': {'profile': ['http://hl7.org/fhir/us/davinci-pas/StructureDefinition/profile-requestor']}, 'identifier': [{'system': 'http://hl7.org/fhir/sid/us-npi', 'value': '8189991234'}], 'active': True, 'type': [{'coding': [{'system': 'https://codesystem.x12.org/005010/98', 'code': 'X3'}]}], 'name': 'DR. JOE SMITH CORPORATION', 'address': [{'line': ['111 1ST STREET'], 'city': 'SAN DIEGO', 'state': 'CA', 'postalCode': '92101', 'country': 'US'}], 'id': None}}\n",
      "{'fullUrl': 'urn:uuid:e1558ae8-4fe8-11ee-9291-daaf18ab2cbb', 'resource': {'resourceType': 'Organization', 'meta': {'profile': ['http://hl7.org/fhir/us/davinci-pas/StructureDefinition/profile-insurer']}, 'identifier': [{'system': 'http://hl7.org/fhir/sid/us-npi', 'value': '789312'}], 'active': True, 'type': [{'coding': [{'system': 'https://codesystem.x12.org/005010/98', 'code': 'PR'}]}], 'name': 'MARYLAND CAPITAL INSURANCE COMPANY', 'id': None}}\n",
      "{'fullUrl': 'urn:uuid:e155c288-4fe8-11ee-9291-daaf18ab2cbb', 'resource': {'resourceType': 'Practitioner', 'meta': {'profile': ['http://hl7.org/fhir/us/davinci-pas/StructureDefinition/profile-practitioner']}, 'identifier': [{'system': 'http://hl7.org/fhir/sid/us-npi', 'value': '987654321'}], 'name': [{'family': 'WATSON', 'given': ['SUSAN']}], 'telecom': [{'system': 'phone', 'value': '4029993456'}], 'id': None}}\n",
      "{'fullUrl': 'urn:uuid:e155eef2-4fe8-11ee-9291-daaf18ab2cbb', 'resource': {'resourceType': 'PractitionerRole', 'meta': {'profile': ['http://hl7.org/fhir/us/davinci-pas/StructureDefinition/profile-practitionerrole']}, 'practitioner': {'reference': 'Practitioner/ReferralPractitionerExample'}, 'location': [{'reference': 'Location/ReferralLocationExample'}], 'id': None}}\n",
      "{'fullUrl': 'urn:uuid:e15626a6-4fe8-11ee-9291-daaf18ab2cbb', 'resource': {'resourceType': 'ServiceRequest', 'meta': {'profile': ['http://hl7.org/fhir/us/davinci-pas/StructureDefinition/profile-servicerequest']}, 'status': 'active', 'intent': 'order', 'code': {'coding': [{'system': 'https://codesystem.x12.org/005010/1365', 'code': '3', 'display': 'Consultation'}]}, 'quantityQuantity': {'value': 1, 'system': 'http://unitsofmeasure.org', 'code': '{visit}'}, 'subject': {'reference': 'Patient/SubscriberExample'}, 'id': None}}\n",
      "{'fullUrl': 'urn:uuid:e1576426-4fe8-11ee-9291-daaf18ab2cbb', 'resource': {'resourceType': 'Claim', 'meta': {'profile': ['http://hl7.org/fhir/us/davinci-pas/StructureDefinition/profile-claim']}, 'extension': [{'url': 'http://hl7.org/fhir/us/davinci-pas/StructureDefinition/extension-levelOfServiceCode', 'valueCodeableConcept': {'coding': [{'system': 'https://codesystem.x12.org/005010/1338', 'code': 'U', 'display': 'Urgent'}]}}], 'identifier': [{'system': 'https://prior-auth.davinci.hl7.org/fhir', 'value': 'a6fbc757-fb41-407b-a702-de4d85995a9c'}, {'system': 'http://example.org/payer/PATIENT_EVENT_TRACE_NUMBER', 'value': '1726712'}, {'extension': [{'url': 'http://hl7.org/fhir/us/davinci-pas/StructureDefinition/extension-identifierJurisdiction', 'valueCodeableConcept': {'coding': [{'system': 'https://www.usps.com/', 'code': 'MA'}]}}, {'url': 'http://hl7.org/fhir/us/davinci-pas/StructureDefinition/extension-identifierSubDepartment', 'valueString': '223412'}], 'system': 'http://example.org/provider/PATIENT_EVENT_TRACE_NUMBER', 'value': '222088', 'assigner': {'identifier': {'system': 'http://example.org/USER_ASSIGNED', 'value': '9012345678'}}}], 'status': 'active', 'type': {'coding': [{'system': 'http://terminology.hl7.org/CodeSystem/claim-type', 'code': 'institutional', 'display': 'Institutional'}]}, 'use': 'preauthorization', 'patient': {'reference': 'Patient/SubscriberExample'}, 'created': '2023-08-21T12:02:00+05:00', 'insurer': {'reference': 'Organization/InsurerExample'}, 'provider': {'reference': 'Organization/UMOExample'}, 'priority': {'coding': [{'system': 'http://terminology.hl7.org/CodeSystem/processpriority', 'code': 'normal'}]}, 'careTeam': [{'extension': [{'url': 'http://hl7.org/fhir/us/davinci-pas/StructureDefinition/extension-careTeamClaimScope', 'valueBoolean': True}], 'sequence': 1, 'provider': {'reference': 'PractitionerRole/ReferralPractitionerRoleExample'}}], 'diagnosis': [{'extension': [{'url': 'http://hl7.org/fhir/us/davinci-pas/StructureDefinition/extension-diagnosisRecordedDate', 'valueDate': '2023-08-10'}], 'sequence': 1, 'diagnosisCodeableConcept': {'coding': [{'system': 'http://hl7.org/fhir/sid/icd-10-cm', 'code': 'S83.53', 'display': 'Sprain and strain of knee: Tear of anterior cruciate ligament'}]}}], 'insurance': [{'sequence': 1, 'focal': True, 'coverage': {'reference': 'Coverage/InsuranceExample'}}], 'item': [{'extension': [{'url': 'http://hl7.org/fhir/us/davinci-pas/StructureDefinition/extension-serviceItemRequestType', 'valueCodeableConcept': {'coding': [{'system': 'https://codesystem.x12.org/005010/1525', 'code': 'SC', 'display': 'Specialty Care Review'}]}}, {'url': 'http://hl7.org/fhir/us/davinci-pas/StructureDefinition/extension-certificationType', 'valueCodeableConcept': {'coding': [{'system': 'https://codesystem.x12.org/005010/1322', 'code': 'I', 'display': 'Initial'}]}}, {'url': 'http://hl7.org/fhir/us/davinci-pas/StructureDefinition/extension-requestedService', 'valueReference': {'reference': 'ServiceRequest/ReferralRequestExample'}}, {'url': 'http://hl7.org/fhir/us/davinci-pas/StructureDefinition/extension-epsdtIndicator', 'valueBoolean': False}, {'url': 'http://hl7.org/fhir/us/davinci-pas/StructureDefinition/extension-revenueUnitRateLimit', 'valueDecimal': 800}], 'sequence': 1, 'careTeamSequence': [1], 'diagnosisSequence': [1], 'category': {'coding': [{'system': 'https://codesystem.x12.org/005010/1365', 'code': '62', 'display': 'MRI/CAT Scan'}]}, 'productOrService': {'coding': [{'system': 'http://www.ama-assn.org/go/cpt', 'code': '73722', 'display': 'Magnetic resonance (eg, proton) imaging, any joint of lower extremity'}]}, 'servicedDate': '2023-09-10', 'locationCodeableConcept': {'coding': [{'system': 'https://www.cms.gov/Medicare/Coding/place-of-service-codes/Place_of_Service_Code_Set', 'code': '19', 'display': 'Off Campus-Outpatient Hospital'}]}}], 'id': None}}\n",
      "{'fullUrl': 'urn:uuid:e1577b14-4fe8-11ee-9291-daaf18ab2cbb', 'resource': {'resourceType': 'Patient', 'meta': {'profile': ['http: //hl7.org/fhir/us/davinci-pas/StructureDefinition/profile-subscriber']}, 'extension': [{'url': 'http: //hl7.org/fhir/us/davinci-pas/StructureDefinition/extension-militaryStatus', 'valueCodeableConcept': {'coding': [{'system': 'https: //codesystem.x12.org/005010/584', 'code': 'RU'}]}}], 'identifier': [{'system': 'http: //example.org/MIN', 'value': '12345678901'}], 'name': [{'family': 'SMITH', 'given': ['JOE']}], 'gender': 'male', 'id': None}}\n",
      "{\"resourceType\":\"Bundle\",\"id\":\"cdex-scenario7-payer-load-transaction-bundle\",\"meta\":{\"lastUpdated\":\"2023-09-10T07:46:52.632979-07:00\",\"profile\":[\"http://hl7.org/fhir/smart-app-launch/StructureDefinition/patient-access-brands-bundle\"]},\"type\":\"transaction\",\"timestamp\":\"2023-09-10T07:46:52.632632-07:00\",\"entry\":[{\"fullUrl\":\"urn:uuid:e1576426-4fe8-11ee-9291-daaf18ab2cbb\",\"resource\":{\"resourceType\":\"Claim\",\"meta\":{\"profile\":[\"http://hl7.org/fhir/us/davinci-pas/StructureDefinition/profile-claim\"]},\"extension\":[{\"url\":\"http://hl7.org/fhir/us/davinci-pas/StructureDefinition/extension-levelOfServiceCode\",\"valueCodeableConcept\":{\"coding\":[{\"system\":\"https://codesystem.x12.org/005010/1338\",\"code\":\"U\",\"display\":\"Urgent\"}]}}],\"identifier\":[{\"system\":\"https://prior-auth.davinci.hl7.org/fhir\",\"value\":\"a6fbc757-fb41-407b-a702-de4d85995a9c\"},{\"system\":\"http://example.org/payer/PATIENT_EVENT_TRACE_NUMBER\",\"value\":\"1726712\"},{\"extension\":[{\"url\":\"http://hl7.org/fhir/us/davinci-pas/StructureDefinition/extension-identifierJurisdiction\",\"valueCodeableConcept\":{\"coding\":[{\"system\":\"https://www.usps.com/\",\"code\":\"MA\"}]}},{\"url\":\"http://hl7.org/fhir/us/davinci-pas/StructureDefinition/extension-identifierSubDepartment\",\"valueString\":\"223412\"}],\"system\":\"http://example.org/provider/PATIENT_EVENT_TRACE_NUMBER\",\"value\":\"222088\",\"assigner\":{\"identifier\":{\"system\":\"http://example.org/USER_ASSIGNED\",\"value\":\"9012345678\"}}}],\"status\":\"active\",\"type\":{\"coding\":[{\"system\":\"http://terminology.hl7.org/CodeSystem/claim-type\",\"code\":\"institutional\",\"display\":\"Institutional\"}]},\"use\":\"preauthorization\",\"patient\":{\"reference\":\"urn:uuid:e1577b14-4fe8-11ee-9291-daaf18ab2cbb\"},\"created\":\"2023-08-21T12:02:00+05:00\",\"insurer\":{\"reference\":\"urn:uuid:e1558ae8-4fe8-11ee-9291-daaf18ab2cbb\"},\"provider\":{\"reference\":\"urn:uuid:e155488a-4fe8-11ee-9291-daaf18ab2cbb\"},\"priority\":{\"coding\":[{\"system\":\"http://terminology.hl7.org/CodeSystem/processpriority\",\"code\":\"normal\"}]},\"careTeam\":[{\"extension\":[{\"url\":\"http://hl7.org/fhir/us/davinci-pas/StructureDefinition/extension-careTeamClaimScope\",\"valueBoolean\":true}],\"sequence\":1,\"provider\":{\"reference\":\"urn:uuid:e155eef2-4fe8-11ee-9291-daaf18ab2cbb\"}}],\"diagnosis\":[{\"extension\":[{\"url\":\"http://hl7.org/fhir/us/davinci-pas/StructureDefinition/extension-diagnosisRecordedDate\",\"valueDate\":\"2023-08-10\"}],\"sequence\":1,\"diagnosisCodeableConcept\":{\"coding\":[{\"system\":\"http://hl7.org/fhir/sid/icd-10-cm\",\"code\":\"S83.53\",\"display\":\"Sprain and strain of knee: Tear of anterior cruciate ligament\"}]}}],\"insurance\":[{\"sequence\":1,\"focal\":true,\"coverage\":{\"reference\":\"urn:uuid:e154b866-4fe8-11ee-9291-daaf18ab2cbb\"}}],\"item\":[{\"extension\":[{\"url\":\"http://hl7.org/fhir/us/davinci-pas/StructureDefinition/extension-serviceItemRequestType\",\"valueCodeableConcept\":{\"coding\":[{\"system\":\"https://codesystem.x12.org/005010/1525\",\"code\":\"SC\",\"display\":\"Specialty Care Review\"}]}},{\"url\":\"http://hl7.org/fhir/us/davinci-pas/StructureDefinition/extension-certificationType\",\"valueCodeableConcept\":{\"coding\":[{\"system\":\"https://codesystem.x12.org/005010/1322\",\"code\":\"I\",\"display\":\"Initial\"}]}},{\"url\":\"http://hl7.org/fhir/us/davinci-pas/StructureDefinition/extension-requestedService\",\"valueReference\":{\"reference\":\"urn:uuid:e15626a6-4fe8-11ee-9291-daaf18ab2cbb\"}},{\"url\":\"http://hl7.org/fhir/us/davinci-pas/StructureDefinition/extension-epsdtIndicator\",\"valueBoolean\":false},{\"url\":\"http://hl7.org/fhir/us/davinci-pas/StructureDefinition/extension-revenueUnitRateLimit\",\"valueDecimal\":800}],\"sequence\":1,\"careTeamSequence\":[1],\"diagnosisSequence\":[1],\"category\":{\"coding\":[{\"system\":\"https://codesystem.x12.org/005010/1365\",\"code\":\"62\",\"display\":\"MRI/CAT Scan\"}]},\"productOrService\":{\"coding\":[{\"system\":\"http://www.ama-assn.org/go/cpt\",\"code\":\"73722\",\"display\":\"Magnetic resonance (eg, proton) imaging, any joint of lower extremity\"}]},\"servicedDate\":\"2023-09-10\",\"locationCodeableConcept\":{\"coding\":[{\"system\":\"https://www.cms.gov/Medicare/Coding/place-of-service-codes/Place_of_Service_Code_Set\",\"code\":\"19\",\"display\":\"Off Campus-Outpatient Hospital\"}]}}],\"id\":null},\"request\":{\"method\":\"POST\",\"url\":\"Claim\"}},{\"fullUrl\":\"urn:uuid:e154b866-4fe8-11ee-9291-daaf18ab2cbb\",\"resource\":{\"resourceType\":\"Coverage\",\"meta\":{\"profile\":[\"http://hl7.org/fhir/us/davinci-pas/StructureDefinition/profile-coverage\"]},\"status\":\"active\",\"beneficiary\":{\"reference\":\"urn:uuid:e1577b14-4fe8-11ee-9291-daaf18ab2cbb\"},\"payor\":[{\"reference\":\"urn:uuid:e1558ae8-4fe8-11ee-9291-daaf18ab2cbb\"}],\"id\":null},\"request\":{\"method\":\"POST\",\"url\":\"Coverage\"}},{\"fullUrl\":\"urn:uuid:e154ea02-4fe8-11ee-9291-daaf18ab2cbb\",\"resource\":{\"resourceType\":\"Location\",\"meta\":{\"profile\":[\"http://hl7.org/fhir/us/davinci-pas/StructureDefinition/profile-locaation\"]},\"name\":\"REFERRAL CLINIC\",\"address\":{\"line\":[\"111 1ST STREET\"],\"city\":\"SAN DIEGO\",\"state\":\"CA\",\"postalCode\":\"92101\",\"country\":\"US\"},\"id\":null},\"request\":{\"method\":\"POST\",\"url\":\"Location\"}},{\"fullUrl\":\"urn:uuid:e155488a-4fe8-11ee-9291-daaf18ab2cbb\",\"resource\":{\"resourceType\":\"Organization\",\"meta\":{\"profile\":[\"http://hl7.org/fhir/us/davinci-pas/StructureDefinition/profile-requestor\"]},\"identifier\":[{\"system\":\"http://hl7.org/fhir/sid/us-npi\",\"value\":\"8189991234\"}],\"active\":true,\"type\":[{\"coding\":[{\"system\":\"https://codesystem.x12.org/005010/98\",\"code\":\"X3\"}]}],\"name\":\"DR. JOE SMITH CORPORATION\",\"address\":[{\"line\":[\"111 1ST STREET\"],\"city\":\"SAN DIEGO\",\"state\":\"CA\",\"postalCode\":\"92101\",\"country\":\"US\"}],\"id\":null},\"request\":{\"method\":\"POST\",\"url\":\"Organization\"}},{\"fullUrl\":\"urn:uuid:e1558ae8-4fe8-11ee-9291-daaf18ab2cbb\",\"resource\":{\"resourceType\":\"Organization\",\"meta\":{\"profile\":[\"http://hl7.org/fhir/us/davinci-pas/StructureDefinition/profile-insurer\"]},\"identifier\":[{\"system\":\"http://hl7.org/fhir/sid/us-npi\",\"value\":\"789312\"}],\"active\":true,\"type\":[{\"coding\":[{\"system\":\"https://codesystem.x12.org/005010/98\",\"code\":\"PR\"}]}],\"name\":\"MARYLAND CAPITAL INSURANCE COMPANY\",\"id\":null},\"request\":{\"method\":\"POST\",\"url\":\"Organization\"}},{\"fullUrl\":\"urn:uuid:e155c288-4fe8-11ee-9291-daaf18ab2cbb\",\"resource\":{\"resourceType\":\"Practitioner\",\"meta\":{\"profile\":[\"http://hl7.org/fhir/us/davinci-pas/StructureDefinition/profile-practitioner\"]},\"identifier\":[{\"system\":\"http://hl7.org/fhir/sid/us-npi\",\"value\":\"987654321\"}],\"name\":[{\"family\":\"WATSON\",\"given\":[\"SUSAN\"]}],\"telecom\":[{\"system\":\"phone\",\"value\":\"4029993456\"}],\"id\":null},\"request\":{\"method\":\"POST\",\"url\":\"Practitioner\"}},{\"fullUrl\":\"urn:uuid:e155eef2-4fe8-11ee-9291-daaf18ab2cbb\",\"resource\":{\"resourceType\":\"PractitionerRole\",\"meta\":{\"profile\":[\"http://hl7.org/fhir/us/davinci-pas/StructureDefinition/profile-practitionerrole\"]},\"practitioner\":{\"reference\":\"urn:uuid:e155c288-4fe8-11ee-9291-daaf18ab2cbb\"},\"location\":[{\"reference\":\"urn:uuid:e154ea02-4fe8-11ee-9291-daaf18ab2cbb\"}],\"id\":null},\"request\":{\"method\":\"POST\",\"url\":\"PractitionerRole\"}},{\"fullUrl\":\"urn:uuid:e15626a6-4fe8-11ee-9291-daaf18ab2cbb\",\"resource\":{\"resourceType\":\"ServiceRequest\",\"meta\":{\"profile\":[\"http://hl7.org/fhir/us/davinci-pas/StructureDefinition/profile-servicerequest\"]},\"status\":\"active\",\"intent\":\"order\",\"code\":{\"coding\":[{\"system\":\"https://codesystem.x12.org/005010/1365\",\"code\":\"3\",\"display\":\"Consultation\"}]},\"quantityQuantity\":{\"value\":1,\"system\":\"http://unitsofmeasure.org\",\"code\":\"{visit}\"},\"subject\":{\"reference\":\"urn:uuid:e1577b14-4fe8-11ee-9291-daaf18ab2cbb\"},\"id\":null},\"request\":{\"method\":\"POST\",\"url\":\"ServiceRequest\"}},{\"fullUrl\":\"urn:uuid:e1577b14-4fe8-11ee-9291-daaf18ab2cbb\",\"resource\":{\"resourceType\":\"Patient\",\"meta\":{\"profile\":[\"http: //hl7.org/fhir/us/davinci-pas/StructureDefinition/profile-subscriber\"]},\"extension\":[{\"url\":\"http: //hl7.org/fhir/us/davinci-pas/StructureDefinition/extension-militaryStatus\",\"valueCodeableConcept\":{\"coding\":[{\"system\":\"https: //codesystem.x12.org/005010/584\",\"code\":\"RU\"}]}}],\"identifier\":[{\"system\":\"http: //example.org/MIN\",\"value\":\"12345678901\"}],\"name\":[{\"family\":\"SMITH\",\"given\":[\"JOE\"]}],\"gender\":\"male\",\"id\":null},\"request\":{\"method\":\"POST\",\"url\":\"Patient\"}}]}\n",
      "/Users/ehaas/Documents/Python/Jupyter/MyNotebooks/bundler/r4/CDex_PAS_Payer_Load/Bundle-cdex-scenario7-payer-load-transaction-bundle.yml\n"
     ]
    }
   ],
   "source": [
    "b.entry = []\n",
    "ref_map = {}\n",
    "for i in sorted(files):\n",
    "    r = open_file(i)\n",
    "    # remove text,id, meta.extension elements from file \n",
    "    try:\n",
    "        r[\"meta\"].pop('extension', None)\n",
    "    except KeyError:\n",
    "        pass\n",
    "    r.pop('text', None) # remove id elements from files\n",
    "    if keep_ids:\n",
    "        old_id = r['id'] # map old id to new urn\n",
    "    else:\n",
    "        old_id = r.pop('id',None) # map old id to new urn\n",
    "    if use_uuid:\n",
    "        try:\n",
    "            print(r['url'])\n",
    "            new_urn = r['url']\n",
    "        except:\n",
    "            new_urn = uuid.uuid1().urn # new urn for resource\n",
    "        ref_map[new_urn] = f'{r[\"resourceType\"]}/{old_id}'\n",
    "        # print( id_map , '\\n')\n",
    "\n",
    "        r['id'] = new_urn.split(':')[-1] if keep_ids else None # update id to new urn}\n",
    "        e = dict( \n",
    "            fullUrl = new_urn,\n",
    "            resource = r,\n",
    "        )\n",
    "    else: # use resources assume the references the ids are correct\n",
    "        e = dict( \n",
    "            fullUrl = f'{base}/{r[\"resourceType\"]}/{old_id}',\n",
    "            resource = r,\n",
    "        )\n",
    "    print(e)\n",
    "    if bundle_type in ['transaction', 'batch']:\n",
    "        e['request'] = dict(\n",
    "                    method = transaction_method,\n",
    "                    url = r['resourceType']\n",
    "                    )\n",
    "                    \n",
    "    # if for a PAS request or response Bundle\n",
    "    if r['resourceType'] in ['ClaimResponse','Claim']:\n",
    "        b.entry.insert(0,e)\n",
    "    else:\n",
    "        b.entry.append(e)\n",
    "b_json = b.json()\n",
    "if use_uuid:\n",
    "\n",
    "    for new_ref, old_ref in ref_map.items():\n",
    "        b_json = b_json.replace(old_ref,new_ref)\n",
    "    # print(b_json)\n",
    "    b_obj = B.parse_raw(b_json)\n",
    "\n",
    "print(b_json)\n",
    "\n",
    "write_file(loads(b_json))\n"
   ]
  }
 ],
 "metadata": {
  "kernelspec": {
   "display_name": "Python 3",
   "language": "python",
   "name": "python3"
  },
  "language_info": {
   "codemirror_mode": {
    "name": "ipython",
    "version": 3
   },
   "file_extension": ".py",
   "mimetype": "text/x-python",
   "name": "python",
   "nbconvert_exporter": "python",
   "pygments_lexer": "ipython3",
   "version": "3.10.2"
  }
 },
 "nbformat": 4,
 "nbformat_minor": 2
}
