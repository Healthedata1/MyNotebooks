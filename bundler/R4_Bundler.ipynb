{
 "cells": [
  {
   "attachments": {},
   "cell_type": "markdown",
   "metadata": {},
   "source": [
    "## Script to bundle all resources in folder as a batch, transaction, collection, or message\n",
    "\n",
    "- python version 3.6+\n",
    "- get data from folder\n",
    "- bundle\n",
    "- validate and save"
   ]
  },
  {
   "cell_type": "code",
   "execution_count": null,
   "metadata": {},
   "outputs": [],
   "source": [
    "from json import load, dumps, loads\n",
    "from yaml import safe_load as yloads, safe_dump as ydumps\n",
    "from IPython import display as D\n",
    "from requests import get, post, put\n",
    "from IPython.display import display, Markdown, HTML\n",
    "from fhir.resources.bundle import Bundle as B, BundleEntry as BE, BundleEntryRequest as BER, BundleEntryResponse as BERes, BundleEntrySearch as BES \n",
    "from fhir.resources.meta import Meta as M\n",
    "from fhir.resources.extension import Extension as X\n",
    "import uuid\n",
    "from datetime import datetime\n",
    "from pprint import pprint\n",
    "from pathlib import Path\n",
    "\n",
    "#===============bundle variables=================\n",
    "bundle_id = 'sample-valueset-read-transaction-bundle' #'cdex-provider-load-transaction-bundle'\n",
    "bundle_type = 'transaction' #'collection'\n",
    "transaction_method = 'GET' # 'PUT' or 'POST' or \"GET\"\n",
    "title = False #True # if True add meta extension title and description to bundle\n",
    "bundle_description = 'This is an Bundle example for the **Patient Access Brands Bundle Profile**. and represents Example 5 - EHR and EHR Customer Hosted Brands Bundles'\n",
    "bundle_profile = '' #'http://hl7.org/fhir/smart-app-launch/StructureDefinition/patient-access-brands-bundle'\n",
    "last_updated = True # if True add last updated to bundle\n",
    "\n",
    "\n",
    "keep_ids = True # if False strip FHIR ids from all resources\n",
    "use_uuid = True #False # if False use references\n",
    "base = '' #'https://ehr.example.org'  #  if using reference instead of UUIDs\n",
    "\n",
    "# in_folder = '/Users/ehaas/Documents/Python/Jupyter/MyNotebooks/bundler/r4/CDex_PAS_Payer_Load'  # copy/paste absolute path\n",
    "# in_folder = '/Users/ehaas/Documents/Python/Jupyter/MyNotebooks/unbundle_save/out'  # copy/paste absolute path\n",
    "in_folder = '/Users/ehaas/Documents/FHIR/US-Core/input/resources'\n",
    "in_path = Path(in_folder)\n",
    "\n",
    "in_path"
   ]
  },
  {
   "attachments": {},
   "cell_type": "markdown",
   "metadata": {},
   "source": [
    "###  write to file"
   ]
  },
  {
   "cell_type": "code",
   "execution_count": null,
   "metadata": {},
   "outputs": [],
   "source": [
    "def write_file(r_dict): # write file\n",
    "    out_path =  Path(r'/Users/ehaas/Documents/Python/Jupyter/MyNotebooks/bundler/r4')/f'Bundle-{bundle_id}.yml' #in_path / f'Bundle-{bundle_id}.yml'\n",
    "    print(out_path)\n",
    "    out_path.write_text(ydumps(r_dict, sort_keys=False))  # dump bundle to file"
   ]
  },
  {
   "attachments": {},
   "cell_type": "markdown",
   "metadata": {},
   "source": [
    "### open json file and return as dict"
   ]
  },
  {
   "cell_type": "code",
   "execution_count": null,
   "metadata": {},
   "outputs": [],
   "source": [
    "\n",
    "\n",
    "b = B(\n",
    "    id = bundle_id,\n",
    "    type = bundle_type,\n",
    "    timestamp = datetime.now().astimezone().isoformat(),\n",
    ")\n",
    "\n",
    "meta = M()\n",
    "print(meta)\n",
    "meta.profile = [bundle_profile] if bundle_profile else None\n",
    "\n",
    "if title:\n",
    "    \n",
    "    meta.extension = []\n",
    "    meta.extension.append ({ 'url': 'http://hl7.org/fhir/StructureDefinition/instance-name', \"valueString\": f'Bundle {bundle_id.title()}'})\n",
    "    meta.extension.append({ 'url': 'http://hl7.org/fhir/StructureDefinition/instance-description', \"valueMarkdown\": bundle_description})\n",
    "\n",
    "if last_updated:\n",
    "    meta.lastUpdated = datetime.now().astimezone().isoformat()\n",
    "    \n",
    "b.meta = meta\n",
    "b.json()\n"
   ]
  },
  {
   "cell_type": "code",
   "execution_count": null,
   "metadata": {},
   "outputs": [],
   "source": [
    "def open_file(f_name): # get files\n",
    "    \n",
    "    try:\n",
    "        return(loads(f_name.read_text(encoding='utf-8')))\n",
    "    except ValueError as e:\n",
    "\n",
    "        return(yloads(f_name.read_text()))"
   ]
  },
  {
   "attachments": {},
   "cell_type": "markdown",
   "metadata": {},
   "source": [
    "### Get files in current path"
   ]
  },
  {
   "cell_type": "code",
   "execution_count": null,
   "metadata": {},
   "outputs": [],
   "source": [
    "files = [path for path in in_path.iterdir() if \"valueset\" in path.stem.lower() and path.is_file()] #if 'Bundle' not in path.stem and path.is_file()]\n",
    "for file in files:\n",
    "    print(file.name)"
   ]
  },
  {
   "attachments": {},
   "cell_type": "markdown",
   "metadata": {},
   "source": [
    "### create Bundle 'b'  change the id for unique Bundles!!!"
   ]
  },
  {
   "attachments": {},
   "cell_type": "markdown",
   "metadata": {},
   "source": [
    "### Add resources to bundle\n",
    "\n",
    "#### Create a mapping of ids to uuids\n",
    "\n",
    "- get id from resource\n",
    "- map to uuid (create a dict of {urn, (old_ref)})\n",
    "- remove id element\n",
    "- replace all old refs in bundle with new urns\n"
   ]
  },
  {
   "cell_type": "code",
   "execution_count": null,
   "metadata": {},
   "outputs": [],
   "source": [
    "b.entry = []\n",
    "ref_map = {}\n",
    "for i in sorted(files):\n",
    "    r = open_file(i)\n",
    "    print(f\"r['id'] = {r['id']}  r['resourceType'] = {r['resourceType']}\")\n",
    "    # remove text,id, meta.extension elements from file \n",
    "    try:\n",
    "        r[\"meta\"].pop('extension', None)\n",
    "    except KeyError:\n",
    "        pass\n",
    "    r.pop('text', None) # remove id elements from files\n",
    "    if keep_ids:\n",
    "        old_id = r['id'] # map old id to new urn\n",
    "    else:\n",
    "        old_id = r.pop('id',None) # map old id to new urn\n",
    "    if use_uuid:\n",
    "        try:\n",
    "            print(r['url'])\n",
    "            new_urn = r['url']\n",
    "            r['id'] = new_urn if keep_ids else None # update id to new urn\n",
    "        except:\n",
    "            new_urn = uuid.uuid1().urn # new urn for resource\n",
    "            r['id'] = new_urn.split(':')[-1] if keep_ids else None # update id to new urn}\n",
    "        # ref_map[new_urn] = f'{r[\"resourceType\"]}/{old_id}'\n",
    "        # print( f\"id_map = {old_id} --> {new_urn}\" , '\\n')\n",
    "\n",
    "        \n",
    "        # print(f\"r['id'] = {r['id']}\")\n",
    "        if transaction_method in ['PUT', 'POST']:\n",
    "            e = dict( \n",
    "                fullUrl = new_urn,\n",
    "                resource = r,\n",
    "                )\n",
    "        else:\n",
    "            e = dict(\n",
    "                )\n",
    "    else: # use resources assume the references the ids are correct\n",
    "        if transaction_method in ['PUT', 'POST']:\n",
    "            e = dict( \n",
    "                fullUrl = f'{base}/{r[\"resourceType\"]}/{old_id}',\n",
    "                resource = r,\n",
    "            )\n",
    "        else:\n",
    "            e = dict(\n",
    "            )\n",
    "    # print(e)\n",
    "    if bundle_type in ['transaction', 'batch']:\n",
    "        if transaction_method in ['PUT', 'POST']:\n",
    "            url = r['resourceType']\n",
    "        elif transaction_method == 'GET':\n",
    "            if r[\"url\"]:\n",
    "                url = f'{r[\"resourceType\"]}?url={r[\"url\"]}'\n",
    "            else:\n",
    "                url = f'{r[\"resourceType\"]}?_id={old_id}'   ###### TODO fix this\n",
    "        e['request'] = dict(\n",
    "                    method = transaction_method,\n",
    "                    url = url,\n",
    "                    )\n",
    "             \n",
    "    # if for a PAS request or response Bundle\n",
    "    if r['resourceType'] in ['ClaimResponse','Claim']:\n",
    "        b.entry.insert(0,e)\n",
    "    else:\n",
    "        b.entry.append(e)\n",
    "b_json = b.json()\n",
    "if use_uuid:\n",
    "\n",
    "    for new_ref, old_ref in ref_map.items():\n",
    "        b_json = b_json.replace(old_ref,new_ref)\n",
    "    # print(b_json)\n",
    "    # b_obj = B.parse_raw(b_json)\n",
    "\n",
    "print(b_json)\n",
    "\n",
    "write_file(loads(b_json))\n"
   ]
  },
  {
   "cell_type": "code",
   "execution_count": null,
   "metadata": {},
   "outputs": [],
   "source": [
    "\n"
   ]
  }
 ],
 "metadata": {
  "kernelspec": {
   "display_name": "Python 3",
   "language": "python",
   "name": "python3"
  },
  "language_info": {
   "codemirror_mode": {
    "name": "ipython",
    "version": 3
   },
   "file_extension": ".py",
   "mimetype": "text/x-python",
   "name": "python",
   "nbconvert_exporter": "python",
   "pygments_lexer": "ipython3",
   "version": "3.10.2"
  }
 },
 "nbformat": 4,
 "nbformat_minor": 2
}
