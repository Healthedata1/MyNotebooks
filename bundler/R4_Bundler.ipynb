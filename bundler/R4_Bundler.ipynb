{
 "cells": [
  {
   "attachments": {},
   "cell_type": "markdown",
   "metadata": {},
   "source": [
    "## Script to bundle all resources in folder as a batch, transaction, collection, or message\n",
    "\n",
    "- python version 3.6+\n",
    "- get data from folder\n",
    "- bundle\n",
    "- validate and save"
   ]
  },
  {
   "cell_type": "code",
   "execution_count": 37,
   "metadata": {},
   "outputs": [],
   "source": [
    "from json import load, dumps, loads\n",
    "from IPython import display as D\n",
    "from requests import get, post, put\n",
    "from IPython.display import display, Markdown, HTML\n",
    "from fhir.resources.bundle import Bundle as B, BundleEntry as BE, BundleEntryRequest as BER, BundleEntryResponse as BERes, BundleEntrySearch as BES \n",
    "import os, uuid\n",
    "from datetime import datetime\n",
    "from pprint import pprint\n",
    "\n",
    "# bundle_id = 'cdex-data-requirements-bundle-example1'\n",
    "bundle_id = 'cdex-scenario7-payer-load-transaction-bundle'\n",
    "bundle_type = 'transaction'\n"
   ]
  },
  {
   "attachments": {},
   "cell_type": "markdown",
   "metadata": {},
   "source": [
    "###  write to file"
   ]
  },
  {
   "cell_type": "code",
   "execution_count": 38,
   "metadata": {},
   "outputs": [],
   "source": [
    "def write_file(r): # write file\n",
    "    #out_path  '/Users/ehaas/Documents/FHIR/Davinci-DEQM/source/examples/'  # append forward slash\n",
    "    out_path = in_path\n",
    "    with open(f'{out_path}/Bundle-{bundle_id}.json', 'w') as f:\n",
    "        f.write(r)\n"
   ]
  },
  {
   "attachments": {},
   "cell_type": "markdown",
   "metadata": {},
   "source": [
    "### open json file and return as dict"
   ]
  },
  {
   "cell_type": "code",
   "execution_count": 39,
   "metadata": {},
   "outputs": [],
   "source": [
    "def open_file(f_name): # get files\n",
    "    with open(f'{in_path}/{f_name}') as f:\n",
    "        r = f.read()\n",
    "        return(loads(r))"
   ]
  },
  {
   "attachments": {},
   "cell_type": "markdown",
   "metadata": {},
   "source": [
    "### Get files in current path"
   ]
  },
  {
   "cell_type": "code",
   "execution_count": 40,
   "metadata": {},
   "outputs": [
    {
     "name": "stdout",
     "output_type": "stream",
     "text": [
      "['example-1-patient.json', 'cdex-claim-MRIAuthorizationBundleRIExample.json']\n"
     ]
    }
   ],
   "source": [
    "in_path = 'r4/CDex_PAS_Payer_Load'\n",
    "\n",
    "files = [x for x in os.listdir(in_path) if x.endswith(\".json\") and not x.startswith(\"Bundle\")]\n",
    "pprint(files)\n"
   ]
  },
  {
   "attachments": {},
   "cell_type": "markdown",
   "metadata": {},
   "source": [
    "\n"
   ]
  },
  {
   "attachments": {},
   "cell_type": "markdown",
   "metadata": {},
   "source": [
    "### create Bundle 'b'  change the id for unique Bundles!!!"
   ]
  },
  {
   "cell_type": "code",
   "execution_count": 41,
   "metadata": {},
   "outputs": [
    {
     "data": {
      "text/plain": [
       "'{\"resourceType\":\"Bundle\",\"id\":\"cdex-scenario7-payer-load-transaction-bundle\",\"type\":\"transaction\",\"timestamp\":\"2023-08-23T23:55:01.066830-07:00\"}'"
      ]
     },
     "execution_count": 41,
     "metadata": {},
     "output_type": "execute_result"
    }
   ],
   "source": [
    "b = B(\n",
    "    id = bundle_id,\n",
    "    type = bundle_type,\n",
    "    timestamp = datetime.now().astimezone().isoformat(),\n",
    ")\n",
    "b.json()"
   ]
  },
  {
   "attachments": {},
   "cell_type": "markdown",
   "metadata": {},
   "source": [
    "### Add resources to bundle\n",
    "\n",
    "#### Create a mapping of ids to uuids\n",
    "\n",
    "- get id from resource\n",
    "- map to uuid (create a dict of {urn, (old_ref)})\n",
    "- remove id element\n",
    "- replace all old refs in bundle with new urns\n"
   ]
  },
  {
   "cell_type": "code",
   "execution_count": 42,
   "metadata": {},
   "outputs": [
    {
     "name": "stdout",
     "output_type": "stream",
     "text": [
      "{'fullUrl': 'urn:uuid:254c080e-424b-11ee-a1fc-daaf18ab2cba', 'resource': {'resourceType': 'Patient', 'meta': {'profile': ['http://hl7.org/fhir/us/davinci-cdex/StructureDefinition/cdex-patient-demographics']}, 'identifier': [{'use': 'usual', 'type': {'coding': [{'system': 'http://hl7.org/fhir/us/davinci-hrex/CodeSystem/hrex-temp', 'code': 'UMB', 'display': 'Member Number'}], 'text': 'Member Number'}, 'system': 'http://example.org/cdex/payer/member-ids', 'value': 'Member123'}], 'name': [{'family': 'Shaw', 'given': ['Amy']}], 'birthDate': '1987-02-20'}}\n",
      "{'fullUrl': 'urn:uuid:254c19e8-424b-11ee-a1fc-daaf18ab2cba', 'resource': {'resourceType': 'Claim', 'identifier': [{'system': 'http://example.org/payer', 'value': 'trackingid123'}, {'system': 'http://CedarArmsMedicalCenter.com/claim', 'value': 'MED-Claim123'}], 'status': 'active', 'type': {'coding': [{'system': 'http://terminology.hl7.org/CodeSystem/claim-type', 'code': 'professional', 'display': 'Professional'}]}, 'use': 'preauthorization', 'patient': {'identifier': {'system': 'http://example.org/cdex/payer/member-ids', 'value': 'Member123'}}, 'created': '2023-08-23', 'provider': {'type': 'Organization', 'identifier': {'system': 'http://hl7.org/fhir/sid/us-npi', 'value': '9941339100'}}, 'priority': {'coding': [{'system': 'http://terminology.hl7.org/CodeSystem/processpriority', 'code': 'normal', 'display': 'Normal'}]}, 'insurance': [{'sequence': 1, 'focal': True, 'identifier': {'system': 'http://CedarArmsMedicalCenter.com/claim', 'value': 'MED-00050'}, 'coverage': {'identifier': [{'type': {'coding': [{'system': 'http: //terminology.hl7.org/CodeSystem/v2-0203', 'code': 'MB', 'display': 'Member Number'}]}, 'system': 'http: /example.org/cdex/payer/member-ids', 'value': 'Member123'}]}}], 'item': [{'extension': [{'url': 'http: //hl7.org/fhir/us/davinci-pas/StructureDefinition/extension-itemTraceNumber', 'valueIdentifier': {'system': 'http: //example.org/ITEM_TRACE_NUMBER', 'value': '1'}}, {'url': 'http: //hl7.org/fhir/us/davinci-pas/StructureDefinition/extension-authorizationNumber', 'valueString': '1122445'}, {'url': 'http: //hl7.org/fhir/us/davinci-pas/StructureDefinition/extension-administrationReferenceNumber', 'valueString': '9988311'}, {'url': 'http: //hl7.org/fhir/us/davinci-pas/StructureDefinition/extension-serviceItemRequestType', 'valueCodeableConcept': {'coding': [{'system': 'https: //codesystem.x12.org/005010/1525', 'code': 'SC', 'display': 'Specialty Care Review'}]}}, {'url': 'http: //hl7.org/fhir/us/davinci-pas/StructureDefinition/extension-certificationType', 'valueCodeableConcept': {'coding': [{'system': 'https: //codesystem.x12.org/005010/1322', 'code': 'I', 'display': 'Initial'}]}}, {'url': 'http: //hl7.org/fhir/us/davinci-pas/StructureDefinition/extension-requestedService', 'valueReference': {'reference': 'ServiceRequest/ReferralRequestExample'}}, {'url': 'http: //hl7.org/fhir/us/davinci-pas/StructureDefinition/extension-epsdtIndicator', 'valueBoolean': False}, {'url': 'http: //hl7.org/fhir/us/davinci-pas/StructureDefinition/extension-revenueUnitRateLimit', 'valueDecimal': 800}], 'sequence': 1, 'category': {'coding': [{'system': 'https://codesystem.x12.org/005010/1365', 'code': '62', 'display': 'MRI/CAT Scan'}]}, 'productOrService': {'coding': [{'system': 'http://www.ama-assn.org/go/cpt', 'code': '73722', 'display': 'Magnetic resonance (eg, proton) imaging, any joint of lower extremity'}]}, 'servicedDate': '2023-08-23', 'locationCodeableConcept': {'coding': [{'system': 'https://www.cms.gov/Medicare/Coding/place-of-service-codes/Place_of_Service_Code_Set', 'code': '19', 'display': 'Off Campus-Outpatient Hospital'}]}}]}}\n",
      "{\"resourceType\":\"Bundle\",\"id\":\"cdex-scenario7-payer-load-transaction-bundle\",\"type\":\"transaction\",\"timestamp\":\"2023-08-23T23:55:01.066830-07:00\",\"entry\":[{\"fullUrl\":\"urn:uuid:254c080e-424b-11ee-a1fc-daaf18ab2cba\",\"resource\":{\"resourceType\":\"Patient\",\"meta\":{\"profile\":[\"http://hl7.org/fhir/us/davinci-cdex/StructureDefinition/cdex-patient-demographics\"]},\"identifier\":[{\"use\":\"usual\",\"type\":{\"coding\":[{\"system\":\"http://hl7.org/fhir/us/davinci-hrex/CodeSystem/hrex-temp\",\"code\":\"UMB\",\"display\":\"Member Number\"}],\"text\":\"Member Number\"},\"system\":\"http://example.org/cdex/payer/member-ids\",\"value\":\"Member123\"}],\"name\":[{\"family\":\"Shaw\",\"given\":[\"Amy\"]}],\"birthDate\":\"1987-02-20\"},\"request\":{\"method\":\"POST\",\"url\":\"Patient\"}},{\"fullUrl\":\"urn:uuid:254c19e8-424b-11ee-a1fc-daaf18ab2cba\",\"resource\":{\"resourceType\":\"Claim\",\"identifier\":[{\"system\":\"http://example.org/payer\",\"value\":\"trackingid123\"},{\"system\":\"http://CedarArmsMedicalCenter.com/claim\",\"value\":\"MED-Claim123\"}],\"status\":\"active\",\"type\":{\"coding\":[{\"system\":\"http://terminology.hl7.org/CodeSystem/claim-type\",\"code\":\"professional\",\"display\":\"Professional\"}]},\"use\":\"preauthorization\",\"patient\":{\"identifier\":{\"system\":\"http://example.org/cdex/payer/member-ids\",\"value\":\"Member123\"}},\"created\":\"2023-08-23\",\"provider\":{\"type\":\"Organization\",\"identifier\":{\"system\":\"http://hl7.org/fhir/sid/us-npi\",\"value\":\"9941339100\"}},\"priority\":{\"coding\":[{\"system\":\"http://terminology.hl7.org/CodeSystem/processpriority\",\"code\":\"normal\",\"display\":\"Normal\"}]},\"insurance\":[{\"sequence\":1,\"focal\":true,\"identifier\":{\"system\":\"http://CedarArmsMedicalCenter.com/claim\",\"value\":\"MED-00050\"},\"coverage\":{\"identifier\":[{\"type\":{\"coding\":[{\"system\":\"http: //terminology.hl7.org/CodeSystem/v2-0203\",\"code\":\"MB\",\"display\":\"Member Number\"}]},\"system\":\"http: /example.org/cdex/payer/member-ids\",\"value\":\"Member123\"}]}}],\"item\":[{\"extension\":[{\"url\":\"http: //hl7.org/fhir/us/davinci-pas/StructureDefinition/extension-itemTraceNumber\",\"valueIdentifier\":{\"system\":\"http: //example.org/ITEM_TRACE_NUMBER\",\"value\":\"1\"}},{\"url\":\"http: //hl7.org/fhir/us/davinci-pas/StructureDefinition/extension-authorizationNumber\",\"valueString\":\"1122445\"},{\"url\":\"http: //hl7.org/fhir/us/davinci-pas/StructureDefinition/extension-administrationReferenceNumber\",\"valueString\":\"9988311\"},{\"url\":\"http: //hl7.org/fhir/us/davinci-pas/StructureDefinition/extension-serviceItemRequestType\",\"valueCodeableConcept\":{\"coding\":[{\"system\":\"https: //codesystem.x12.org/005010/1525\",\"code\":\"SC\",\"display\":\"Specialty Care Review\"}]}},{\"url\":\"http: //hl7.org/fhir/us/davinci-pas/StructureDefinition/extension-certificationType\",\"valueCodeableConcept\":{\"coding\":[{\"system\":\"https: //codesystem.x12.org/005010/1322\",\"code\":\"I\",\"display\":\"Initial\"}]}},{\"url\":\"http: //hl7.org/fhir/us/davinci-pas/StructureDefinition/extension-requestedService\",\"valueReference\":{\"reference\":\"ServiceRequest/ReferralRequestExample\"}},{\"url\":\"http: //hl7.org/fhir/us/davinci-pas/StructureDefinition/extension-epsdtIndicator\",\"valueBoolean\":false},{\"url\":\"http: //hl7.org/fhir/us/davinci-pas/StructureDefinition/extension-revenueUnitRateLimit\",\"valueDecimal\":800}],\"sequence\":1,\"category\":{\"coding\":[{\"system\":\"https://codesystem.x12.org/005010/1365\",\"code\":\"62\",\"display\":\"MRI/CAT Scan\"}]},\"productOrService\":{\"coding\":[{\"system\":\"http://www.ama-assn.org/go/cpt\",\"code\":\"73722\",\"display\":\"Magnetic resonance (eg, proton) imaging, any joint of lower extremity\"}]},\"servicedDate\":\"2023-08-23\",\"locationCodeableConcept\":{\"coding\":[{\"system\":\"https://www.cms.gov/Medicare/Coding/place-of-service-codes/Place_of_Service_Code_Set\",\"code\":\"19\",\"display\":\"Off Campus-Outpatient Hospital\"}]}}]},\"request\":{\"method\":\"POST\",\"url\":\"Claim\"}}]}\n"
     ]
    }
   ],
   "source": [
    "b.entry = []\n",
    "ref_map = {}\n",
    "for i in files:\n",
    "    r = open_file(i)\n",
    "    # remove text adn id elements from Bundle\n",
    "    r.pop('text', None) # remove id elements from Bundle\n",
    "    old_id = r.pop('id',None) # remove text elements from Bundle\n",
    "    try:\n",
    "        print(r['url'])\n",
    "        new_urn = r['url']\n",
    "    except:\n",
    "        new_urn = uuid.uuid1().urn # new urn for resource\n",
    "    ref_map[new_urn] = f'{r[\"resourceType\"]}/{old_id}'\n",
    "    # print( id_map , '\\n')\n",
    "    e = dict( \n",
    "        fullUrl = new_urn,\n",
    "        resource = r,\n",
    "      )\n",
    "    print(e)\n",
    "    if bundle_type in ['transaction', 'batch']:\n",
    "        e['request'] = dict(\n",
    "                    method = 'POST',\n",
    "                    url = r['resourceType']\n",
    "                    )\n",
    "                    \n",
    "    \n",
    "    b.entry.append(e)\n",
    "b_json = b.json()\n",
    "for new_ref, old_ref in ref_map.items():\n",
    "    b_json = b_json.replace(old_ref,new_ref)\n",
    "print(b_json)\n",
    "write_file(b_json)\n"
   ]
  }
 ],
 "metadata": {
  "kernelspec": {
   "display_name": "Python 3",
   "language": "python",
   "name": "python3"
  },
  "language_info": {
   "codemirror_mode": {
    "name": "ipython",
    "version": 3
   },
   "file_extension": ".py",
   "mimetype": "text/x-python",
   "name": "python",
   "nbconvert_exporter": "python",
   "pygments_lexer": "ipython3",
   "version": "3.10.2"
  }
 },
 "nbformat": 4,
 "nbformat_minor": 2
}
