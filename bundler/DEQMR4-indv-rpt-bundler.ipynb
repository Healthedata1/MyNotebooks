{
 "cells": [
  {
   "cell_type": "markdown",
   "metadata": {},
   "source": [
    "**\\*\\*\\*\\*\\*\\*\\*Remember to restart Kerne\n",
    "l for new run since the template are not refreshed\\*\\*\\*\\*\\*\\*\\***\n",
    "\n",
    "## Script to create a transaction bundle of multiple indiv Reports\n",
    "\n",
    "- python version 3.6+\n",
    "- multiple measures per patient\n",
    "- create for each patient       [\n",
    "        'MeasureReport',\n",
    "        'Task',\n",
    "        'Coverage'\n",
    "        ]\n",
    "      - using dictionary templates\n",
    "- Build Bundle stepwise....        \n",
    "  - Create Empty Bundle\n",
    "       - POST method\n",
    "       - unique id (increment for now)\n",
    "  - fullURL= uuid\n",
    "  - Add Core resources from templates\n",
    "  - Add patient\n",
    "  - Create a dict of uuid to resource id\n",
    "  - remove id elements\n",
    "  - replace the relative refs with uuids\n",
    "  - Get encounter\n",
    "  - Get referenced Organizations, Practitioners, Locations\n",
    "    - check if in dict - if not addscxaz \n",
    "  - replace the relative refs with uuids\n",
    "\n",
    "  \n",
    "  \n",
    "  - multiple US Core Synthea patient bundle in folder\n",
    "    - cycle through entries to get patient resource\n",
    " \n",
    "  - multiple reports per patient\n",
    "    - MRP\n",
    "      - Resources:\n",
    "        [\n",
    "        'MeasureReport',\n",
    "        'Task',\n",
    "        'Encounter',\n",
    "        'Location',\n",
    "        'Organization',\n",
    "        'Practititioner',\n",
    "        'Patient',\n",
    "        'Coverage',\n",
    "        ]\n",
    "    - Col\n",
    "      - Resources:    \n",
    "    - VTE\n",
    "      - Resources:\n",
    "  - reuse encounters, practitioner and organizations and patients where possible!!!\n",
    "- bundle\n",
    "  - POST method\n",
    "  - replace all references with uuids\n",
    "- validate and save"
   ]
  },
  {
   "cell_type": "code",
   "execution_count": 12,
   "metadata": {},
   "outputs": [
    {
     "name": "stdout",
     "output_type": "stream",
     "text": [
      "MeasureReport\n",
      "Task\n",
      "Coverage\n",
      "Organization\n",
      "Organization\n",
      "Observation\n"
     ]
    }
   ],
   "source": [
    "from json import load, dumps, loads\n",
    "from IPython import display as D\n",
    "from requests import get, post, put\n",
    "from IPython.display import display, Markdown, HTML\n",
    "import fhirclient.r4models.bundle as B\n",
    "import fhirclient.r4models.parameters as P\n",
    "import fhirclient.r4models.fhirdate as D\n",
    "from fhirclient.models.fhirabstractbase import FHIRValidationError \n",
    "import os, uuid\n",
    "from datetime import datetime\n",
    "from pprint import pprint\n",
    "import mrp_resource_templates as t\n",
    "\n",
    "for i in t.mrp1:\n",
    "    print(i['resourceType'])"
   ]
  },
  {
   "cell_type": "markdown",
   "metadata": {},
   "source": [
    "### global variables"
   ]
  },
  {
   "cell_type": "code",
   "execution_count": 25,
   "metadata": {},
   "outputs": [
    {
     "name": "stdout",
     "output_type": "stream",
     "text": [
      "multiple-indv-mrp-task-report\n",
      "mrp-submit-data-example\n",
      "measurereport01\n",
      "task01\n",
      "coverage01\n",
      "organization02\n",
      "organization04\n",
      "observation01\n",
      "measurereport02\n",
      "task02\n",
      "coverage02\n",
      "observation02\n",
      "measurereport03\n",
      "task03\n",
      "coverage03\n",
      "observation03\n"
     ]
    }
   ],
   "source": [
    "use_bundle=False\n",
    "single_patient = False\n",
    "use_task = True\n",
    "uc = 'mrp'\n",
    "\n",
    "bundle_id = (f'{\"single\" if single_patient else \"multiple\"}-indv-{uc}-'\n",
    "            f'{\"task\" if use_task else \"obs\"}-report')\n",
    "print(bundle_id)\n",
    "bundle_type = 'transaction'\n",
    "                         \n",
    "parameter_id = f'{uc}-submit-data-example'\n",
    "print(parameter_id)\n",
    "\n",
    "#in_path =  \"//ERICS-AIR-2/ehaas/Documents/FHIR/synthea/output/us_core_r4/fhir_10yr_hx\" # local source of Synthea bundles from PC to Mac\n",
    "in_path = '/Users/ehaas/Documents/FHIR/synthea/output/us_core_r4/fhir_10yr_hx'\n",
    "#out_path = '/Users/ehaas/Documents/FHIR/Davinci-DEQM/source/examples/'  # append forward slash\n",
    "out_path ='r4'  #local output dir\n",
    "#out_path = \"//ERICS-AIR-2/ehaas/Documents/FHIR/Davinci-DEQM/source/examples\"  # DEqm source\n",
    "\n",
    "\n",
    "\n",
    "if single_patient:\n",
    "    ref_map = dict(zip(t.mrp1_core_references,t.mrp1_core_references)) # init the ref with old:new=old\n",
    "    my_resources = t.mrp1  # get all core resource templates from use case list\n",
    "\n",
    "else: # mult patients\n",
    "    mult_ref_mrp =  set(t.mrp1_core_references + t.mrp2_core_references + t.mrp3_core_references)\n",
    "    ref_map = dict(zip(mult_ref_mrp,mult_ref_mrp))\n",
    "\n",
    "    mult_mrp = t.mrp1 + t.mrp2 + t.mrp3  # take three list and combine\n",
    "    my_resources = list({v['id']:v for v in mult_mrp}.values())\n",
    "    \n",
    "for i in my_resources:\n",
    "    print( i['id'])"
   ]
  },
  {
   "cell_type": "markdown",
   "metadata": {},
   "source": [
    "###  write to file"
   ]
  },
  {
   "cell_type": "code",
   "execution_count": 14,
   "metadata": {},
   "outputs": [],
   "source": [
    "def write_file(r): # write file\n",
    "    with open(f'{out_path}/Bundle-{bundle_id}.json', 'w', encoding='utf-8') as f:\n",
    "        f.write(r)"
   ]
  },
  {
   "cell_type": "markdown",
   "metadata": {},
   "source": [
    "\n"
   ]
  },
  {
   "cell_type": "markdown",
   "metadata": {},
   "source": [
    "### validate"
   ]
  },
  {
   "cell_type": "code",
   "execution_count": 15,
   "metadata": {},
   "outputs": [],
   "source": [
    "# *********************** validate Resource ********************************\n",
    "\n",
    "def validate(r):\n",
    "\n",
    "    #fhir_test_server = 'http://test.fhir.org/r4'\n",
    "    fhir_test_server = 'http://hapi.fhir.org/baseR4'\n",
    "    headers = {\n",
    "    'Accept':'application/fhir+json',\n",
    "    'Content-Type':'application/fhir+json'\n",
    "    }\n",
    "\n",
    "    # profile = 'http://hl7.org/fhir/us/core/StructureDefinition/us-core-patient' # The official URL for this profile is: http://hl7.org/fhir/us/core/StructureDefinition/us-core-patient\n",
    " \n",
    "    params = dict(\n",
    "      # profile = 'http://hl7.org/fhir/us/core/StructureDefinition/us-core-patient' # The official URL for this profile is: http://hl7.org/fhir/us/core/StructureDefinition/us-core-patient\n",
    "        )\n",
    "    \n",
    "    #   r = requests.post('https://httpbin.org/post', data = {'key':'value'})\n",
    "    r = post(f'{fhir_test_server}/{r.resource_type}/$validate', params = params, headers = headers, data = dumps(r.as_json()))\n",
    "    # return r.status_code\n",
    "    # view  output\n",
    "    # return (r.json()[\"text\"][\"div\"])\n",
    "    return r"
   ]
  },
  {
   "cell_type": "markdown",
   "metadata": {},
   "source": [
    "### parse out patient url from Synthea bundle object\n"
   ]
  },
  {
   "cell_type": "code",
   "execution_count": 16,
   "metadata": {},
   "outputs": [],
   "source": [
    "def get_resource_url(b, type):\n",
    "    my_url = [e.fullUrl for e in b.entry if e.resource.resource_type ==type]\n",
    "    return(my_url[0]) "
   ]
  },
  {
   "cell_type": "markdown",
   "metadata": {},
   "source": [
    "### get resource from Synthea bundle object by id\n",
    "\n",
    "-  return as dict\n",
    "-  make generic later"
   ]
  },
  {
   "cell_type": "code",
   "execution_count": 17,
   "metadata": {},
   "outputs": [],
   "source": [
    "def get_resource_by_url(b,my_url):\n",
    "    '''my_encounters = [e.resource for e in b.entry\n",
    "        if e.resource.resource_type == 'Encounter']\n",
    "    for my_encounter in my_encounters:\n",
    "        print( my_encounter.id, my_encounter.type[0].coding[0].as_json() )\n",
    "        #return(my_encounter[0].as_json())# assume only one / Bundle'''\n",
    "    my_resource = [e.resource for e in b.entry\n",
    "        if e.fullUrl == my_url]\n",
    "    print(my_url, my_resource)\n",
    "    return(my_resource[0].as_json())# assume only one / Bundle\n",
    " "
   ]
  },
  {
   "cell_type": "markdown",
   "metadata": {},
   "source": [
    "### update my_resources list and reference map\n"
   ]
  },
  {
   "cell_type": "code",
   "execution_count": 18,
   "metadata": {},
   "outputs": [],
   "source": [
    "def add_resource_by_url(my_patient_data,my_url,r_type,num=0):\n",
    "    ref_map[f'{r_type}/{r_type.lower()}0{num+1}'] = my_url\n",
    "    my_resource = get_resource_by_url(my_patient_data,my_url)\n",
    "    # if organization make sure has an NPI\n",
    "    if my_resource[\"resourceType\"] == \"Organization\":\n",
    "        my_resource[\"identifier\"] = t.org_npi\n",
    "    # if encoounter make an inpatient encounter\n",
    "    elif my_resource[\"resourceType\"] == \"Encounter\":\n",
    "        my_resource[\"class\"]['code'] == \"AMB\"\n",
    "        my_resource[\"type\"] = t.enc_type\n",
    "        # use the same organization for all the reports in the bundle\n",
    "        if num != 0:\n",
    "            my_resource[\"serviceProvider\"] = {\"reference\":ref_map[\"Organization/organization01\"]}\n",
    "            my_resource[\"location\"][0][\"location\"] = {\"reference\":ref_map[\"Location/location01\"]}\n",
    "    elif my_resource[\"resourceType\"] == \"Patient\": \n",
    "        my_resource.pop('deceasedDateTime', None) # make sure is alive...\n",
    "        # remove illegal extensions\n",
    "        my_resource['extension'].pop()\n",
    "        my_resource['extension'].pop() \n",
    "    my_resources.append(my_resource)\n",
    "return"
   ]
  },
  {
   "cell_type": "markdown",
   "metadata": {},
   "source": [
    "### Get files in current path\n",
    "\n",
    "- get only 1\n",
    "- convert the files to FHIR Bundle object\n"
   ]
  },
  {
   "cell_type": "code",
   "execution_count": 19,
   "metadata": {},
   "outputs": [],
   "source": [
    "def get_synth_patient_data(num=1):\n",
    "    pyfhir = []\n",
    "    my_patient_files = [x for i,x in enumerate(os.listdir(in_path)) if i < num]\n",
    "    pprint(my_patient_files)\n",
    "    for my_patient_file in my_patient_files:\n",
    "        with open(f'{in_path}/{my_patient_file}', encoding='utf-8') as f:\n",
    "            r = f.read()\n",
    "            pyfhir.append(B.Bundle(loads(r)))\n",
    "    return(pyfhir)"
   ]
  },
  {
   "cell_type": "markdown",
   "metadata": {},
   "source": [
    "\n"
   ]
  },
  {
   "cell_type": "markdown",
   "metadata": {},
   "source": [
    "### 1. create Bundle 'b'  change the id for unique Bundles!!!"
   ]
  },
  {
   "cell_type": "code",
   "execution_count": 20,
   "metadata": {},
   "outputs": [
    {
     "data": {
      "text/plain": [
       "{'id': 'multiple-indv-mrp-task-report',\n",
       " 'timestamp': '2020-06-18T21:28:07.977202Z',\n",
       " 'type': 'transaction',\n",
       " 'resourceType': 'Bundle'}"
      ]
     },
     "execution_count": 20,
     "metadata": {},
     "output_type": "execute_result"
    }
   ],
   "source": [
    "b = B.Bundle()\n",
    "b.id =  bundle_id\n",
    "b.type = bundle_type\n",
    "b.timestamp = D.FHIRDate(f'{datetime.utcnow().isoformat()}Z')\n",
    "b.as_json()"
   ]
  },
  {
   "cell_type": "markdown",
   "metadata": {},
   "source": [
    "### 1. create Parameters resource 'p'  change the id for unique Bundles!!!"
   ]
  },
  {
   "cell_type": "code",
   "execution_count": 21,
   "metadata": {},
   "outputs": [
    {
     "data": {
      "text/plain": [
       "{'id': 'multiple-indv-mrp-task-report', 'resourceType': 'Parameters'}"
      ]
     },
     "execution_count": 21,
     "metadata": {},
     "output_type": "execute_result"
    }
   ],
   "source": [
    "p = P.Parameters()\n",
    "p.id =  bundle_id\n",
    "p.as_json()"
   ]
  },
  {
   "cell_type": "markdown",
   "metadata": {},
   "source": [
    "### 2.  Add Core resources to resource bundle list\n",
    "\n",
    "- get all core resource templates from use case list\n",
    "\n",
    "### 3.  Add Patient resources to resource bundle list\n",
    "\n",
    "- first get synthea patient bundle for 1 patient\n",
    "- parse out patient resource\n",
    "- add to list as patient01\n",
    "- make alive if deceased\n",
    "\n",
    "### 3.  Add Encounter resources to resource bundle list\n",
    "\n",
    "- use synthea patient bundle for same patient as above\n",
    "- parse out encounter resources and look at type\n",
    "- choose id for inpatient encounter\n",
    "- use id to:\n",
    "    - add to list as encounter\n",
    "    - replace all references id\n",
    "    \n",
    "### based upon the Encounter add in the organization01, Location and patient01\n",
    "\n",
    "- use the uuid to add in these resources\n",
    "- update the ref_map\n",
    "\n",
    "### Create a mapping of ids to uuids\n",
    "\n",
    "- get id from resource\n",
    "- map to uuid (create a dict of {urn:old_ref})\n",
    "- remove id element\n",
    "- replace all old refs in bundle with new urns\n"
   ]
  },
  {
   "cell_type": "code",
   "execution_count": 22,
   "metadata": {},
   "outputs": [
    {
     "name": "stdout",
     "output_type": "stream",
     "text": [
      "['Debbie941_McDermott739_0156e3a9-c4e1-4c0a-a53e-03ce3984ac65.json',\n",
      " 'Royce974_Hegmann834_f605b676-acb4-4cb0-bd77-f8c87f7b83a2.json',\n",
      " 'José3_Mota271_4b83a64c-8947-4048-822c-6ea95d8bb33f.json']\n",
      "i=0\n",
      "urn:uuid:6f0cef31-2235-4d66-82e2-fa861fc909a8 [<fhirclient.r4models.patient.Patient object at 0x10e61add8>]\n",
      "urn:uuid:1f33ae07-0891-4c2a-a376-fcd18800cb71 [<fhirclient.r4models.encounter.Encounter object at 0x10e681160>]\n",
      "urn:uuid:0000016d-235f-39b3-0000-0000000000fa [<fhirclient.r4models.practitioner.Practitioner object at 0x10e67a320>]\n",
      "urn:uuid:ebc3f5c4-6700-34af-8323-85621c313726 [<fhirclient.r4models.organization.Organization object at 0x10e67a208>]\n",
      "urn:uuid:8938e769-59f7-40ff-a541-50b0bfcd6742 [<fhirclient.r4models.location.Location object at 0x10e66cd30>]\n",
      "i=1\n",
      "urn:uuid:b40a7b60-acc6-4f89-88ad-349a291921c9 [<fhirclient.r4models.patient.Patient object at 0x10e3327f0>]\n",
      "urn:uuid:d3aa6b0b-f3fd-4b19-93c8-ccdd8b9da518 [<fhirclient.r4models.encounter.Encounter object at 0x10e423908>]\n",
      "urn:uuid:0000016d-235f-39b3-0000-000000011fc6 [<fhirclient.r4models.practitioner.Practitioner object at 0x10e4234e0>]\n",
      "i=2\n",
      "urn:uuid:e70497fc-35a3-40ef-a94a-71acb56ce073 [<fhirclient.r4models.patient.Patient object at 0x110781278>]\n",
      "urn:uuid:39fd3052-6b0f-4ed1-bcc5-4ae041f1e016 [<fhirclient.r4models.encounter.Encounter object at 0x1107842e8>]\n",
      "urn:uuid:0000016d-235f-39b3-0000-000000001298 [<fhirclient.r4models.practitioner.Practitioner object at 0x110781e80>]\n",
      "{'Coverage/coverage01': 'Coverage/coverage01',\n",
      " 'Coverage/coverage02': 'Coverage/coverage02',\n",
      " 'Coverage/coverage03': 'Coverage/coverage03',\n",
      " 'Encounter/encounter01': 'urn:uuid:1f33ae07-0891-4c2a-a376-fcd18800cb71',\n",
      " 'Encounter/encounter02': 'urn:uuid:d3aa6b0b-f3fd-4b19-93c8-ccdd8b9da518',\n",
      " 'Encounter/encounter03': 'urn:uuid:39fd3052-6b0f-4ed1-bcc5-4ae041f1e016',\n",
      " 'Location/location01': 'urn:uuid:8938e769-59f7-40ff-a541-50b0bfcd6742',\n",
      " 'MeasureReport/measurereport01': 'MeasureReport/measurereport01',\n",
      " 'MeasureReport/measurereport02': 'MeasureReport/measurereport02',\n",
      " 'MeasureReport/measurereport03': 'MeasureReport/measurereport03',\n",
      " 'Observation/observation01': 'Observation/observation01',\n",
      " 'Observation/observation02': 'Observation/observation02',\n",
      " 'Observation/observation03': 'Observation/observation03',\n",
      " 'Organization/organization01': 'urn:uuid:ebc3f5c4-6700-34af-8323-85621c313726',\n",
      " 'Organization/organization02': 'Organization/organization02',\n",
      " 'Organization/organization04': 'Organization/organization04',\n",
      " 'Patient/patient01': 'urn:uuid:6f0cef31-2235-4d66-82e2-fa861fc909a8',\n",
      " 'Patient/patient02': 'urn:uuid:b40a7b60-acc6-4f89-88ad-349a291921c9',\n",
      " 'Patient/patient03': 'urn:uuid:e70497fc-35a3-40ef-a94a-71acb56ce073',\n",
      " 'Practitioner/practitioner01': 'urn:uuid:0000016d-235f-39b3-0000-0000000000fa',\n",
      " 'Practitioner/practitioner02': 'urn:uuid:0000016d-235f-39b3-0000-000000011fc6',\n",
      " 'Practitioner/practitioner03': 'urn:uuid:0000016d-235f-39b3-0000-000000001298',\n",
      " 'Task/task01': 'Task/task01',\n",
      " 'Task/task02': 'Task/task02',\n",
      " 'Task/task03': 'Task/task03'}\n"
     ]
    }
   ],
   "source": [
    "first = True\n",
    "b.entry = []\n",
    "\n",
    "num = 1 if single_patient else 3\n",
    "\n",
    "# get patient data as fhir object\n",
    "my_patient_data_list = get_synth_patient_data(num)\n",
    "\n",
    "\n",
    "for i,my_patient_data in enumerate(my_patient_data_list):\n",
    "    # get patient0n as dict\n",
    "    r_type = 'Patient'\n",
    "    print(f'i={i}')\n",
    "    \n",
    "    \n",
    "    my_url = get_resource_url(my_patient_data, r_type)\n",
    "    add_resource_by_url(my_patient_data,my_url,r_type,i)\n",
    "\n",
    "    # get encounter as dict\n",
    "    r_type = 'Encounter'\n",
    "    my_url = get_resource_url(my_patient_data, r_type)\n",
    "    add_resource_by_url(my_patient_data,my_url,r_type,i)\n",
    "\n",
    "    my_encounter = my_resources[-1]\n",
    "    # get practitioner01 from encounter\n",
    "    my_url = my_encounter['participant'][0]['individual']['reference']\n",
    "    r_type = 'Practitioner'\n",
    "    add_resource_by_url(my_patient_data,my_url,r_type,i)\n",
    "\n",
    "    if i == 0:\n",
    "        # get organization01 from encounter\n",
    "        my_url = my_encounter['serviceProvider']['reference']\n",
    "        r_type = 'Organization'\n",
    "        add_resource_by_url(my_patient_data,my_url,r_type)\n",
    "        # get location01 from encounter\n",
    "        my_url = my_encounter['location'][0]['location']['reference']\n",
    "        r_type = 'Location'\n",
    "        add_resource_by_url(my_patient_data,my_url,r_type)\n",
    "    \n",
    "if use_bundle:\n",
    "    for resource in my_resources:  # all templates as dict in mrp\n",
    "        resource_type= resource[\"resourceType\"]\n",
    "        # make sure that evaluatedResource is aligned\n",
    "        if resource_type == 'MeasureReport' and not use_task:\n",
    "            er = resource['evaluatedResource'][0]['reference']\n",
    "            er = er.replace('Task', 'Observation')\n",
    "            er = er.replace('task', 'observation')\n",
    "            resource['evaluatedResource'][0]['reference'] = er\n",
    "\n",
    "\n",
    "        # remove text from resource\n",
    "        resource.pop('text', None)       \n",
    "        # remove id from resource if not a uuid and replace with uuid\n",
    "        #print(template[\"id\"])\n",
    "        old_id =  resource.pop('id',None)\n",
    "        try: # check if a valid UUID\n",
    "            val = uuid.UUID(old_id, version=4)\n",
    "            new_urn = f'urn:uuid:{old_id}'\n",
    "        except ValueError:\n",
    "            # If it's a value error, then the string \n",
    "            # is not a valid hex code for a UUID.\n",
    "            # print('invalid')\n",
    "            new_urn = uuid.uuid1().urn # new urn for resource\n",
    "            ref_map[f'{resource_type}/{old_id}'] = new_urn #update the maps to uuid\n",
    "        #print(ref_map , '\\n')\n",
    "        e = B.BundleEntry(dict\n",
    "            (\n",
    "            resource = resource,\n",
    "            fullUrl = new_urn,\n",
    "            )\n",
    "          )\n",
    "        if bundle_type in ['transaction', 'batch']:\n",
    "            e.request = B.BundleEntryRequest(dict\n",
    "                        (\n",
    "                        method = 'POST',\n",
    "                        url =  resource['resourceType']\n",
    "                        )\n",
    "                        )\n",
    "\n",
    "        if( (resource_type != 'Observation' and use_task)\n",
    "            or (resource_type != 'Task' and not use_task) ): \n",
    "            b.entry.append(e)\n",
    "    pprint(ref_map)\n",
    "    b_json = dumps(b.as_json(),indent =3)\n",
    "    # print(b_json)\n",
    "    for old_ref, new_ref in ref_map.items():\n",
    "        b_json = b_json.replace(old_ref,new_ref)\n",
    "    for bad, good in t.qa_issues.items():\n",
    "        b_json = b_json.replace(bad,good)\n",
    "    print(b_json)\n",
    "    print('.......validating')\n",
    "    r = validate(b)\n",
    "    display(HTML(f'<h1>Validation output</h1><h3>Status Code = {r.status_code}</h3> {r.json()[\"text\"][\"div\"]}'))\n",
    "    write_file(b_json)\n",
    "                 \n",
    "else:  # use parameters\n",
    "    p = P.Parameters()\n",
    "    p.id =  bundle_id\n",
    "    pprint(ref_map)             \n",
    "\n",
    "    for resource in my_resources:  # all templates as dict in mrp\n",
    "        resource_type= resource[\"resourceType\"]\n",
    "        \n",
    "        \n",
    "              "
   ]
  },
  {
   "cell_type": "code",
   "execution_count": null,
   "metadata": {},
   "outputs": [],
   "source": []
  }
 ],
 "metadata": {
  "kernelspec": {
   "display_name": "Python 3",
   "language": "python",
   "name": "python3"
  },
  "language_info": {
   "codemirror_mode": {
    "name": "ipython",
    "version": 3
   },
   "file_extension": ".py",
   "mimetype": "text/x-python",
   "name": "python",
   "nbconvert_exporter": "python",
   "pygments_lexer": "ipython3",
   "version": "3.7.3"
  }
 },
 "nbformat": 4,
 "nbformat_minor": 4
}
