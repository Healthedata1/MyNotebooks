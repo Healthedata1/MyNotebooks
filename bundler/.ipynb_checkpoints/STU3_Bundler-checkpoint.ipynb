{
 "cells": [
  {
   "cell_type": "markdown",
   "metadata": {},
   "source": [
    "## Script to bundle all resources in folder as a batch or transaction\n",
    "\n",
    "- python version 3.6+\n",
    "- get data from folder\n",
    "- bundle\n",
    "- validate and save"
   ]
  },
  {
   "cell_type": "code",
   "execution_count": null,
   "metadata": {},
   "outputs": [],
   "source": [
    "from json import load, dumps, loads\n",
    "from IPython import display as D\n",
    "from requests import get, post, put\n",
    "from IPython.display import display, Markdown, HTML\n",
    "from fhirclient.models import bundle as B\n",
    "import os, uuid"
   ]
  },
  {
   "cell_type": "markdown",
   "metadata": {},
   "source": [
    "###  write to file"
   ]
  },
  {
   "cell_type": "code",
   "execution_count": null,
   "metadata": {},
   "outputs": [],
   "source": [
    "def write_file(r): # write file\n",
    "    out_path = ''  # append forward slash\n",
    "    with open(f'{out_path}{r['resourceType']}-{r['id']}.json', 'w') as f:\n",
    "        f.write(dumps(r.as_json(), indent=3))\n"
   ]
  },
  {
   "cell_type": "markdown",
   "metadata": {},
   "source": [
    "### Get files in current path"
   ]
  },
  {
   "cell_type": "code",
   "execution_count": null,
   "metadata": {},
   "outputs": [],
   "source": [
    "in_path = ''\n",
    "files = [x for x in os.listdir() if x.endswith(\".json\")]\n",
    "print(files)\n"
   ]
  },
  {
   "cell_type": "markdown",
   "metadata": {},
   "source": [
    "### open json file and return as dict"
   ]
  },
  {
   "cell_type": "code",
   "execution_count": null,
   "metadata": {},
   "outputs": [],
   "source": [
    "def open_file(f_name): # get files\n",
    "    with open(f'{in_path}{f_name}') as f:\n",
    "        r = f.read()\n",
    "        return(loads(r))"
   ]
  },
  {
   "cell_type": "markdown",
   "metadata": {},
   "source": [
    "### create Bundle 'b'"
   ]
  },
  {
   "cell_type": "code",
   "execution_count": null,
   "metadata": {},
   "outputs": [],
   "source": [
    "b = B.Bundle()\n",
    "b.id = 'indv-report01'\n",
    "b.type = 'transaction'\n",
    "b.as_json()"
   ]
  },
  {
   "cell_type": "markdown",
   "metadata": {},
   "source": [
    "### Add resources to bundle"
   ]
  },
  {
   "cell_type": "code",
   "execution_count": null,
   "metadata": {},
   "outputs": [],
   "source": [
    "b.entry = []\n",
    "for i in files:\n",
    "    r =open_file(i)\n",
    "    r.pop('text', None) # remove text elements from Bundle\n",
    "    e = B.BundleEntry(dict\n",
    "        (\n",
    "        resource = r,\n",
    "        fullUrl = f'urn:uuid:{uuid.uuid1()}',\n",
    "        )\n",
    "      )\n",
    "    \n",
    "    e.request = B.BundleEntryRequest(dict\n",
    "                (\n",
    "                 method = 'POST',\n",
    "                url = r['resourceType']\n",
    "                )\n",
    "                )\n",
    "    \n",
    "    b.entry.append(e)\n",
    "print(dumps(b.as_json(),indent =3))\n",
    "write_file(b)"
   ]
  }
 ],
 "metadata": {
  "kernelspec": {
   "display_name": "Python 3",
   "language": "python",
   "name": "python3"
  },
  "language_info": {
   "codemirror_mode": {
    "name": "ipython",
    "version": 3
   },
   "file_extension": ".py",
   "mimetype": "text/x-python",
   "name": "python",
   "nbconvert_exporter": "python",
   "pygments_lexer": "ipython3",
   "version": "3.7.1"
  }
 },
 "nbformat": 4,
 "nbformat_minor": 2
}
