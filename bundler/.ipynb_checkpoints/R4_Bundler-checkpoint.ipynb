{
 "cells": [
  {
   "cell_type": "markdown",
   "metadata": {},
   "source": [
    "## Script to bundle all resources in folder as a batch, transaction, collection, or message\n",
    "\n",
    "- python version 3.6+\n",
    "- get data from folder\n",
    "- bundle\n",
    "- validate and save"
   ]
  },
  {
   "cell_type": "code",
   "execution_count": 213,
   "metadata": {},
   "outputs": [],
   "source": [
    "from json import load, dumps, loads\n",
    "from IPython import display as D\n",
    "from requests import get, post, put\n",
    "from IPython.display import display, Markdown, HTML\n",
    "from fhirclient.r4models import bundle as B\n",
    "import fhirclient.r4models.fhirdate as D\n",
    "import os, uuid\n",
    "from datetime import datetime\n",
    "\n",
    "bundle_id = 'indv-report09'\n",
    "bundle_type = 'transaction'"
   ]
  },
  {
   "cell_type": "markdown",
   "metadata": {},
   "source": [
    "###  write to file"
   ]
  },
  {
   "cell_type": "code",
   "execution_count": 214,
   "metadata": {},
   "outputs": [],
   "source": [
    "def write_file(r): # write file\n",
    "    #out_path = '/Users/ehaas/Documents/FHIR/Davinci-DEQM/source/examples/'  # append forward slash\n",
    "    out_path ='r3'\n",
    "    with open(f'{out_path}/Bundle-{bundle_id}.json', 'w') as f:\n",
    "        f.write(r)\n"
   ]
  },
  {
   "cell_type": "markdown",
   "metadata": {},
   "source": [
    "### open json file and return as dict"
   ]
  },
  {
   "cell_type": "code",
   "execution_count": 215,
   "metadata": {},
   "outputs": [],
   "source": [
    "def open_file(f_name): # get files\n",
    "    with open(f'{in_path}{f_name}') as f:\n",
    "        r = f.read()\n",
    "        return(loads(r))"
   ]
  },
  {
   "cell_type": "markdown",
   "metadata": {},
   "source": [
    "### Get files in current path"
   ]
  },
  {
   "cell_type": "code",
   "execution_count": 216,
   "metadata": {},
   "outputs": [
    {
     "name": "stdout",
     "output_type": "stream",
     "text": [
      "[]\n"
     ]
    }
   ],
   "source": [
    "in_path = 'r3'\n",
    "files = [x for x in os.listdir() if x.endswith(\".json\") and not x.startswith(\"Bundle\")]\n",
    "print(files)\n"
   ]
  },
  {
   "cell_type": "markdown",
   "metadata": {},
   "source": [
    "\n"
   ]
  },
  {
   "cell_type": "code",
   "execution_count": null,
   "metadata": {},
   "outputs": [],
   "source": []
  },
  {
   "cell_type": "markdown",
   "metadata": {},
   "source": [
    "### create Bundle 'b'  change the id for unique Bundles!!!"
   ]
  },
  {
   "cell_type": "code",
   "execution_count": 217,
   "metadata": {},
   "outputs": [
    {
     "data": {
      "text/plain": [
       "{'id': 'indv-report09', 'type': 'transaction', 'resourceType': 'Bundle'}"
      ]
     },
     "execution_count": 217,
     "metadata": {},
     "output_type": "execute_result"
    }
   ],
   "source": [
    "b = B.Bundle()\n",
    "b.id =  bundle_id\n",
    "b.type = bundle_type\n",
    "#b.foo = D.FHIRDate(f'{datetime.utcnow().isoformat()}Z')\n",
    "b.as_json()"
   ]
  },
  {
   "cell_type": "markdown",
   "metadata": {},
   "source": [
    "### Add resources to bundle\n",
    "\n",
    "#### Create a mapping of ids to uuids\n",
    "\n",
    "- get id from resource\n",
    "- map to uuid (create a dict of {urn, (old_ref)})\n",
    "- remove id element\n",
    "- replace all old refs in bundle with new urns\n"
   ]
  },
  {
   "cell_type": "code",
   "execution_count": 218,
   "metadata": {},
   "outputs": [
    {
     "name": "stdout",
     "output_type": "stream",
     "text": [
      "{\n",
      "   \"id\": \"indv-report09\",\n",
      "   \"type\": \"transaction\",\n",
      "   \"resourceType\": \"Bundle\"\n",
      "}\n"
     ]
    }
   ],
   "source": [
    "b.entry = []\n",
    "ref_map = {}\n",
    "for i in files:\n",
    "    r =open_file(i)\n",
    "    # remove text adn id elements from Bundle\n",
    "    r.pop('text', None) # remove text elements from Bundle\n",
    "    old_id = r.pop('id',None) # remove text elements from Bundle\n",
    "    new_urn = uuid.uuid1().urn # new urn for resource\n",
    "    ref_map[new_urn] = f'{r[\"resourceType\"]}/{old_id}'\n",
    "    # print( id_map , '\\n')\n",
    "    e = B.BundleEntry(dict\n",
    "        (\n",
    "        resource = r,\n",
    "        fullUrl = new_urn,\n",
    "        )\n",
    "      )\n",
    "    if bundle_type in ['transaction', 'batch']:\n",
    "        e.request = B.BundleEntryRequest(dict\n",
    "                    (\n",
    "                    method = 'POST',\n",
    "                    url = r['resourceType']\n",
    "                    )\n",
    "                    )\n",
    "    \n",
    "    b.entry.append(e)\n",
    "\n",
    "b_json = dumps(b.as_json(),indent =3)\n",
    "# print(b_json)\n",
    "for new_ref, old_ref in ref_map.items():\n",
    "    b_json = b_json.replace(old_ref,new_ref)\n",
    "print(b_json)    \n",
    "write_file(b_json)"
   ]
  }
 ],
 "metadata": {
  "kernelspec": {
   "display_name": "Python 3",
   "language": "python",
   "name": "python3"
  },
  "language_info": {
   "codemirror_mode": {
    "name": "ipython",
    "version": 3
   },
   "file_extension": ".py",
   "mimetype": "text/x-python",
   "name": "python",
   "nbconvert_exporter": "python",
   "pygments_lexer": "ipython3",
   "version": "3.7.1"
  }
 },
 "nbformat": 4,
 "nbformat_minor": 2
}
