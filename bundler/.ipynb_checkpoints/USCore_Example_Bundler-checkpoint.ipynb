{
 "cells": [
  {
   "cell_type": "markdown",
   "metadata": {},
   "source": [
    "## Script to bundle all resources in folder as a batch, transaction, collection, or message\n",
    "\n",
    "- python version 3.6+\n",
    "- get data from folder\n",
    "- add meta tag \"2022-01-US-Core\"\n",
    "- bundle\n",
    "- update and resolve ids\n",
    "- validate and save"
   ]
  },
  {
   "cell_type": "code",
   "execution_count": null,
   "metadata": {},
   "outputs": [],
   "source": [
    "from json import load, dumps, loads\n",
    "from IPython import display as D\n",
    "from requests import get, post, put\n",
    "from IPython.display import display, Markdown, HTML\n",
    "from fhirclient.r4models import bundle as B\n",
    "import fhirclient.r4models.fhirdate as D\n",
    "import os, uuid\n",
    "from datetime import datetime\n",
    "\n",
    "bundle_id = '2022-01-US-Core-upload'\n",
    "bundle_type = 'transaction'\n",
    "base_url = 'http://hapi.fhir.org/baseR4'"
   ]
  },
  {
   "cell_type": "markdown",
   "metadata": {},
   "source": [
    "###  write to file"
   ]
  },
  {
   "cell_type": "code",
   "execution_count": null,
   "metadata": {},
   "outputs": [],
   "source": [
    "def write_file(r): # write file\n",
    "    \n",
    "    #out_path = '/Users/ehaas/Documents/FHIR/Davinci-DEQM/source/examples/'  # append forward slash\n",
    "    out_path ='r4'\n",
    "    print(f'writing to ... {out_path}/Bundle-{bundle_id}.json') \n",
    "    with open(f'{out_path}/Bundle-{bundle_id}.json', 'w') as f:\n",
    "        f.write(r)\n"
   ]
  },
  {
   "cell_type": "markdown",
   "metadata": {},
   "source": [
    "### *********************** validate Resource ********************************"
   ]
  },
  {
   "cell_type": "code",
   "execution_count": null,
   "metadata": {},
   "outputs": [],
   "source": [
    "def validate(r): # r as dict\n",
    "\n",
    "    #fhir_test_server = 'http://test.fhir.org/r4'\n",
    "    fhir_test_server = 'http://hapi.fhir.org/baseR4'\n",
    "    headers = {\n",
    "    'Accept':'application/fhir+json',\n",
    "    'Content-Type':'application/fhir+json'\n",
    "    }\n",
    "\n",
    "    # profile = 'http://hl7.org/fhir/us/core/StructureDefinition/us-core-patient' # The official URL for this profile is: http://hl7.org/fhir/us/core/StructureDefinition/us-core-patient\n",
    " \n",
    "    params = dict(\n",
    "      # profile = 'http://hl7.org/fhir/us/core/StructureDefinition/us-core-patient' # The official URL for this profile is: http://hl7.org/fhir/us/core/StructureDefinition/us-core-patient\n",
    "        )\n",
    "    \n",
    "    #   r = requests.post('https://httpbin.org/post', data = {'key':'value'})\n",
    "    r = post(f'{fhir_test_server}/{r.resource_type}/$validate', params = params, headers = headers, data = dumps(r.as_json()))\n",
    "    display(Markdown(f'# {r.status_code} {r.reason}\\n\\n{r.json()[\"text\"][\"div\"]}'))\n",
    "    # view  output\n",
    "    # return (r.json()[\"text\"][\"div\"])"
   ]
  },
  {
   "cell_type": "markdown",
   "metadata": {},
   "source": [
    "### open json file and return as dict"
   ]
  },
  {
   "cell_type": "code",
   "execution_count": null,
   "metadata": {},
   "outputs": [],
   "source": [
    "def open_file(f_name): # get files\n",
    "    with open(f'{in_path}/{f_name}') as f:\n",
    "        r = f.read()\n",
    "        return(loads(r))"
   ]
  },
  {
   "cell_type": "markdown",
   "metadata": {},
   "source": [
    "### Get files in current path"
   ]
  },
  {
   "cell_type": "code",
   "execution_count": null,
   "metadata": {},
   "outputs": [],
   "source": [
    "in_path = '/Users/ehaas/.fhir/packages/hl7.fhir.us.core#dev/package/example' #'r4'\n",
    "\n",
    "files = [x for x in os.listdir(in_path) if x.endswith(\".json\") and x not in [\".index.json\"]]\n",
    "for i,f in enumerate(sorted(files)):\n",
    "    print(f\"{i+1}) {f}\")\n"
   ]
  },
  {
   "cell_type": "markdown",
   "metadata": {},
   "source": [
    "### create Bundle 'b'  change the id for unique Bundles!!!"
   ]
  },
  {
   "cell_type": "code",
   "execution_count": null,
   "metadata": {},
   "outputs": [],
   "source": [
    "b = B.Bundle()\n",
    "b.id =  bundle_id\n",
    "b.type = bundle_type\n",
    "b.timestamp = D.FHIRDate(f'{datetime.utcnow().isoformat()}Z')\n",
    "b.as_json()"
   ]
  },
  {
   "cell_type": "markdown",
   "metadata": {},
   "source": [
    "### Add resources to bundle\n",
    "\n",
    " - add tag to each resource first\n",
    " - resort bundle for transaction"
   ]
  },
  {
   "cell_type": "code",
   "execution_count": null,
   "metadata": {},
   "outputs": [],
   "source": [
    "def get_recursively(search_dict, field):\n",
    "    \"\"\"\n",
    "    Takes a dict with nested lists and dicts,\n",
    "    and searches all dicts for a key of the field\n",
    "    provided.\n",
    "    \"\"\"\n",
    "    fields_found = []\n",
    "\n",
    "    for key, value in search_dict.items():\n",
    "\n",
    "        if key == field:\n",
    "            fields_found.append(value)\n",
    "\n",
    "        elif isinstance(value, dict):\n",
    "            results = get_recursively(value, field)\n",
    "            for result in results:\n",
    "                fields_found.append(result)\n",
    "\n",
    "        elif isinstance(value, list):\n",
    "            #print(f'{value} is list')\n",
    "            for item in value:\n",
    "                if isinstance(item, dict):\n",
    "                    more_results = get_recursively(item, field)\n",
    "                    for another_result in more_results:\n",
    "                        fields_found.append(another_result)\n",
    "\n",
    "    return fields_found\n",
    "\n",
    "\n",
    "\n",
    "for i in files:\n",
    "    r = open_file(i)\n",
    "\n",
    "    if r[\"resourceType\"] == \"Observation\":\n",
    "\n",
    "        ref_list = get_recursively(r,\"reference\")\n",
    "#         matches = [match for match in ref_list if \"Observation\" in match]\n",
    "#         ifr[\"encounter\"] if r[\"encounter\"] else None matches: print(i,matches)\n",
    "        try:\n",
    "            enc = r[\"encounter\"]\n",
    "            print(i,enc,ref_list)\n",
    "        except KeyError:\n",
    "            pass\n",
    "\n"
   ]
  },
  {
   "cell_type": "code",
   "execution_count": null,
   "metadata": {},
   "outputs": [],
   "source": [
    "b.entry = []\n",
    "ref_map = {}\n",
    "for i in files:\n",
    "    r = open_file(i)\n",
    "    if r[\"resourceType\"] == \"Bundle\": # no bundles for now!\n",
    "        continue\n",
    "    ref_map[i] = f'{r[\"resourceType\"]}/{r[\"id\"]}'\n",
    "    # remove text  from Bundle\n",
    "    r.pop('text', None) # remove text elements from Bundle\n",
    "    r['meta']['tag']= [{\"code\":\"2022-01-US-Core\",}] # add meta tag\n",
    "    # old_id = r.pop('id',None) # remove text elements from Bundle\n",
    "    # new_urn = uuid.uuid1().urn # new urn for resource\n",
    "\n",
    "    e = B.BundleEntry(dict\n",
    "        (\n",
    "        resource = r,\n",
    "        fullUrl = f'{base_url}/{ref_map[i]}'\n",
    "        )\n",
    "      )\n",
    "    if bundle_type in ['transaction', 'batch']:\n",
    "        e.request = B.BundleEntryRequest(dict\n",
    "                    (\n",
    "                    method = 'PUT',\n",
    "                    url = ref_map[i],\n",
    "                    )\n",
    "                    )\n",
    "\n",
    "    b.entry.append(e)  \n",
    "    \n",
    "    \n",
    "    \n",
    "#     if r[\"resourceType\"] in ['Patient', 'Practitioner', 'Organization', 'Location', 'Medication']:\n",
    "#         print(i,ref_map[i])\n",
    "    \n",
    "# # for i in files:\n",
    "\n",
    "#     r =open_file(i)\n",
    "#     if r[\"resourceType\"]==\"CareTeam\":\n",
    "#         for j in get_recursively(r,\"reference\"):\n",
    "#             #if j not in ref_map.values():\n",
    "#                 print('*'*20,i,'*'*20) \n",
    "#                 print(i,j)\n",
    "#                 print('*'*80)\n",
    "    \n",
    "           \n",
    "\n",
    "\n",
    "\n",
    "transaction_order = dict(\n",
    "Patient = 0,\n",
    "Organization = 1,\n",
    "Practitioner = 2,\n",
    "Location = 4,\n",
    "PractitionerRole = 5,\n",
    "Encounter = 6,\n",
    "Observation = 7,\n",
    "Media = 8,\n",
    "Medication = 9,\n",
    "RelatedPerson = 10,\n",
    ")\n",
    "\n",
    "b.entry.sort(key=lambda x: transaction_order.get(x.resource.resource_type,11))\n",
    "\n",
    "for i,r in enumerate(b.entry):\n",
    "    print(f'{i+1})',r.resource.resource_type)\n",
    "\n",
    "\n",
    "b_json = dumps(b.as_json(),indent=3,)\n",
    "# for k,v in ref_map.items():\n",
    "#     print(k,v)\n",
    "# print(b_json)\n",
    "# for new_ref, old_ref in ref_map.items():\n",
    "#     b_json = b_json.replace(old_ref,new_ref)\n",
    "print(f'{b_json[0:300]}\\n...\\n{b_json[-300:]}')"
   ]
  },
  {
   "cell_type": "markdown",
   "metadata": {},
   "source": [
    "### Validate"
   ]
  },
  {
   "cell_type": "code",
   "execution_count": null,
   "metadata": {},
   "outputs": [],
   "source": [
    "for r in b.entry:\n",
    "    print('foo')\n",
    "\n",
    "    if r.resource.resource_type == \"Observation\":\n",
    "        print(type(r.resource))\n",
    "        ref_list = get_recursively(r.resource.as_json(),\"reference\")\n",
    "        matches = [match for match in ref_list if \"Observation\" in match]\n",
    "        if  matches: print(i,r.resource.resourceType,matches)\n",
    "#         try:\n",
    "#             enc = r[\"encounter\"]\n",
    "#             print(i.resource.resourceType,enc,ref_list)\n",
    "#         except KeyError:\n",
    "#             pass\n",
    "\n",
    "\n",
    "\n",
    "#validate(b)\n",
    "\n"
   ]
  },
  {
   "cell_type": "markdown",
   "metadata": {},
   "source": [
    "### Write to file"
   ]
  },
  {
   "cell_type": "code",
   "execution_count": null,
   "metadata": {},
   "outputs": [],
   "source": [
    "write_file(b_json)"
   ]
  }
 ],
 "metadata": {
  "kernelspec": {
   "display_name": "Python 3",
   "language": "python",
   "name": "python3"
  },
  "language_info": {
   "codemirror_mode": {
    "name": "ipython",
    "version": 3
   },
   "file_extension": ".py",
   "mimetype": "text/x-python",
   "name": "python",
   "nbconvert_exporter": "python",
   "pygments_lexer": "ipython3",
   "version": "3.7.3"
  }
 },
 "nbformat": 4,
 "nbformat_minor": 4
}
