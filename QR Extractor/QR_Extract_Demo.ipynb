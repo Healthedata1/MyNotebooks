{
 "cells": [
  {
   "cell_type": "markdown",
   "metadata": {},
   "source": [
    "## QR Extractor Demo\n",
    "\n",
    "This is a simple demonstration script to show *Observation-based extraction*  using Questionnaire and QuestionnaireResponse Data.\n",
    "\n",
    "### Background\n",
    "\n",
    "**Observation-based extraction**\n",
    "\n",
    "This is the simplest of the extraction mechanisms. It leverages the same data elements as are used for the Observation-based population mechanism. It takes advantage of the fact that most questions in the healthcare space typically correspond to the value element of an Observation. It also takes advantage of the Questionnaire.item.code element that identifies what a concept each question or group corresponds to.\n",
    "\n",
    "To use this method:\n",
    "\n",
    "- Include the item.code element on each question to be extracted. Typically, this will be a LOINC code, but in some jurisdictions/environments, SNOMED CT or other codes may be relevant\n",
    "- Groups can also have an item.code present - this might represent the code of the a panel or the Observation.code of an Observation with no value but with multiple Observation.component elements. Child question items can then assert the item.code of the \"member-of\" Observations or the Observation.component.code values\n",
    "- To signal that the item.code is intended for use in extraction (as opposed to just providing metadata about the Questionnaire item, the `questionnaire-observationLinkPeriod` extension must also be included. This extension indicates the period of time over which to search for matching observations.\n",
    "- Multiple item.code elements might be present. If so, each are considered one of the Observation.code Codings in the resulting extracted Observation.\n",
    "                                                                  \n",
    "### Mapping to Observation         \n",
    "                                                                  \n",
    "- Observation.basedOn and Observation.partOf - copy from QuestionnaireResponse elements of the same name\n",
    "- Observation.status - set to 'final'\n",
    "- Observation.category - if this can be inferred from any of the Questionnaire.item.code values or from known context of the Questionnaire itself, then fill it in, otherwise omit.\n",
    "- Observation.code - add all the Questionnaire.item.code values as Observation.code.coding instances\n",
    "- Observation.subject - set to QuestionnaireResponse.subject\n",
    "- Observation.encounter - set to QuestionnaireResponse.context (if an Encounter)\n",
    "- Observation.effectiveDateTime - set to QuestionnaireResponse.authored.\n",
    "\n",
    "Note, this is an inference. It is important that the question text implies that the value is 'current' not 'historical' for this to be safe - otherwise don't include the 'observationLinkPeriod' extension that marks the question as appropriate for population and extraction.\n",
    "\n",
    "- Observation.issued - set to QuestionnaireResponse.authored\n",
    "- Observation.performer - set to QuestionnaireResponse.author\n",
    "- Observation.value[x] - set to QuestionnaireResponse.item.answer.value[x]\n",
    "- Observation.derivedFrom - set to a reference to the QuestionnaireResponse\n",
    "- Observation.interpretation and Observation.referenceRange - if these can be inferred from the QuestionnaireResponse.item.code (and for interpretation the answer value too), they can be populated, otherwise omit"
   ]
  },
  {
   "cell_type": "markdown",
   "metadata": {},
   "source": [
    "### imports and constants"
   ]
  },
  {
   "cell_type": "code",
   "execution_count": 2,
   "metadata": {},
   "outputs": [],
   "source": [
    "from fhirclient.r4models import questionnaire as Q\n",
    "from fhirclient.r4models import questionnaireresponse as QR\n",
    "import fhirclient.r4models.coding as C\n",
    "import fhirclient.r4models.codeableconcept as CC\n",
    "import fhirclient.r4models.fhirdate as D\n",
    "import fhirclient.r4models.extension as X\n",
    "from json import dumps, loads, load, dump\n",
    "from requests import get, post, put\n",
    "from IPython.display import display as Display, HTML, Markdown, Javascript\n",
    "import ipywidgets as widgets\n",
    "from ipywidgets import Layout\n",
    "from pprint import pprint\n",
    "\n",
    "headers = {\n",
    "    'Accept':'application/fhir+json',\n",
    "    'Content-Type':'application/fhir+json'\n",
    "    }\n",
    "\n",
    "params = dict()\n",
    "\n",
    "R4fhir_server = 'http://hapi.fhir.org/baseR4'"
   ]
  },
  {
   "cell_type": "code",
   "execution_count": 3,
   "metadata": {},
   "outputs": [
    {
     "data": {
      "text/markdown": [
       "### Copy and Paste QR Example from which Responses are to be extracted  (examples test files can be found [here](#))"
      ],
      "text/plain": [
       "<IPython.core.display.Markdown object>"
      ]
     },
     "metadata": {},
     "output_type": "display_data"
    },
    {
     "data": {
      "application/vnd.jupyter.widget-view+json": {
       "model_id": "3eb536a5d991492a9b2ad038521d10e8",
       "version_major": 2,
       "version_minor": 0
      },
      "text/plain": [
       "Textarea(value='', description='QR Example', layout=Layout(align_items='stretch', border='solid', display='fle…"
      ]
     },
     "metadata": {},
     "output_type": "display_data"
    },
    {
     "data": {
      "text/markdown": [
       "### Scroll down to see the Extractions steps and FHIR Observation"
      ],
      "text/plain": [
       "<IPython.core.display.Markdown object>"
      ]
     },
     "metadata": {},
     "output_type": "display_data"
    }
   ],
   "source": [
    "box_layout = Layout(display='flex',\n",
    "                    flex_flow='column',\n",
    "                    align_items='stretch',\n",
    "                    border='solid',\n",
    "                    width='80%',\n",
    "                   height = '550px')\n",
    "\n",
    "\n",
    "w = widgets.Textarea(\n",
    "    placeholder='copy and paste QR example here',\n",
    "    description='QR Example',\n",
    "    disabled=False,\n",
    "    layout=box_layout\n",
    ")\n",
    "\n",
    "\n",
    "display(Markdown('### Copy and Paste QR Example from which Responses are to be extracted  (examples test files can be found [here](#))'),w)\n",
    "               \n",
    "display(Markdown('### Scroll down to see the Extractions steps and FHIR Observation'))"
   ]
  },
  {
   "cell_type": "markdown",
   "metadata": {},
   "source": [
    "### Inspect QR for Q url and Fetch test Q from FHIR Server\n",
    "\n",
    "- instantiate copy and pasted QR as a QR pyfhirclient model\n",
    "- fetch Q and instantiate as a Q pyfhirclient model"
   ]
  },
  {
   "cell_type": "code",
   "execution_count": 4,
   "metadata": {},
   "outputs": [
    {
     "data": {
      "text/markdown": [
       "### Fetching Questionnaire `[base]Questionniare?questionnaire={QR.questionnaire}`"
      ],
      "text/plain": [
       "<IPython.core.display.Markdown object>"
      ]
     },
     "metadata": {},
     "output_type": "display_data"
    },
    {
     "data": {
      "text/markdown": [
       "**QR.questionnaire** = http://devdays2019/Questionnaire/devdays-q-1"
      ],
      "text/plain": [
       "<IPython.core.display.Markdown object>"
      ]
     },
     "metadata": {},
     "output_type": "display_data"
    },
    {
     "data": {
      "text/markdown": [
       "**Status** = 200"
      ],
      "text/plain": [
       "<IPython.core.display.Markdown object>"
      ]
     },
     "metadata": {},
     "output_type": "display_data"
    },
    {
     "name": "stdout",
     "output_type": "stream",
     "text": [
      "{\n",
      "    \"id\": \"devdays-q-1\",\n",
      "    \"meta\": {\n",
      "        \"lastUpdated\": \"2019-06-09T07:31:29.583+00:00\",\n",
      "        \"profile\": [\n",
      "            \"http://hl7.org/fhir/uv/sdc/StructureDefinition/sdc-questionnaire|3.5.0\"\n",
      "        ],\n",
      "        \"versionId\": \"3\"\n",
      "    },\n",
      "    \"item\": [\n",
      "        {\n",
      "            \"code\": [\n",
      "                {\n",
      "                    \"code\": \"[H1]\",\n",
      "                    \"display\": \"Answer Me These Questions Three\",\n",
      "                    \"system\": \"http://devdays2019/q\"\n",
      "                }\n",
      "            ],\n",
      "            \"item\": [\n",
      "                {\n",
      "                    \"extension\": [\n",
      "                        {\n",
      "                            \"url\": \"http://hl7.org/fhir/StructureDefinition/questionnaire-minOccurs\",\n",
      "                            \"valueInteger\": 1\n",
      "                        }\n",
      "                    ],\n",
      "                    \"code\": [\n",
      "                        {\n",
      "                            \"code\": \"[Q1]\",\n",
      "                            \"display\": \"1   WHAT... is your name ?\",\n",
      "                            \"system\": \"http://devdays2019/q\"\n",
      "                        }\n",
      "                    ],\n",
      "                    \"linkId\": \"/[H1]/[Q1]\",\n",
      "                    \"required\": true,\n",
      "                    \"text\": \"1   WHAT... is your name ?\",\n",
      "                    \"type\": \"string\"\n",
      "                },\n",
      "                {\n",
      "                    \"extension\": [\n",
      "                        {\n",
      "                            \"url\": \"http://hl7.org/fhir/StructureDefinition/questionnaire-itemControl\",\n",
      "                            \"valueCodeableConcept\": {\n",
      "                                \"coding\": [\n",
      "                                    {\n",
      "                                        \"code\": \"drop-down\",\n",
      "                                        \"display\": \"Drop down\",\n",
      "                                        \"system\": \"http://hl7.org/fhir/questionnaire-item-control\"\n",
      "                                    }\n",
      "                                ],\n",
      "                                \"text\": \"Drop down\"\n",
      "                            }\n",
      "                        }\n",
      "                    ],\n",
      "                    \"answerOption\": [\n",
      "                        {\n",
      "                            \"extension\": [\n",
      "                                {\n",
      "                                    \"url\": \"http://hl7.org/fhir/StructureDefinition/questionnaire-optionPrefix\",\n",
      "                                    \"valueString\": \"1\"\n",
      "                                }\n",
      "                            ],\n",
      "                            \"valueCoding\": {\n",
      "                                \"code\": \"c1\",\n",
      "                                \"display\": \"Seek the Holy Grail\"\n",
      "                            }\n",
      "                        },\n",
      "                        {\n",
      "                            \"extension\": [\n",
      "                                {\n",
      "                                    \"url\": \"http://hl7.org/fhir/StructureDefinition/questionnaire-optionPrefix\",\n",
      "                                    \"valueString\": \"2\"\n",
      "                                }\n",
      "                            ],\n",
      "                            \"valueCoding\": {\n",
      "                                \"code\": \"c2\",\n",
      "                                \"display\": \"Find the Castle Anthrax\"\n",
      "                            }\n",
      "                        },\n",
      "                        {\n",
      "                            \"extension\": [\n",
      "                                {\n",
      "                                    \"url\": \"http://hl7.org/fhir/StructureDefinition/questionnaire-optionPrefix\",\n",
      "                                    \"valueString\": \"3\"\n",
      "                                }\n",
      "                            ],\n",
      "                            \"valueCoding\": {\n",
      "                                \"code\": \"c3\",\n",
      "                                \"display\": \"Fetch a shrubbery\"\n",
      "                            }\n",
      "                        }\n",
      "                    ],\n",
      "                    \"code\": [\n",
      "                        {\n",
      "                            \"code\": \"[Q2]\",\n",
      "                            \"display\": \"WHAT... is your Quest\",\n",
      "                            \"system\": \"http://devdays2019/q\"\n",
      "                        }\n",
      "                    ],\n",
      "                    \"linkId\": \"/[H1]/[Q2]\",\n",
      "                    \"required\": false,\n",
      "                    \"text\": \"WHAT... is your Quest\",\n",
      "                    \"type\": \"choice\"\n",
      "                },\n",
      "                {\n",
      "                    \"code\": [\n",
      "                        {\n",
      "                            \"code\": \"[Q3]\",\n",
      "                            \"display\": \"WHAT... is the air speed velocity of an unladen swallow?\",\n",
      "                            \"system\": \"http://devdays2019/q\"\n",
      "                        }\n",
      "                    ],\n",
      "                    \"linkId\": \"/[H1]/[Q3]\",\n",
      "                    \"required\": false,\n",
      "                    \"text\": \"WHAT... is the air speed velocity of an unladen swallow?\",\n",
      "                    \"type\": \"integer\"\n",
      "                }\n",
      "            ],\n",
      "            \"linkId\": \"/[H1]\",\n",
      "            \"required\": false,\n",
      "            \"text\": \"Answer Me These Questions Three\",\n",
      "            \"type\": \"group\"\n",
      "        }\n",
      "    ],\n",
      "    \"name\": \"QuestionsThree\",\n",
      "    \"status\": \"draft\",\n",
      "    \"subjectType\": [\n",
      "        \"Patient\",\n",
      "        \"Person\"\n",
      "    ],\n",
      "    \"title\": \"Questions Three\",\n",
      "    \"url\": \"http://devdays2019/Questionnaire/devdays-q-1\",\n",
      "    \"resourceType\": \"Questionnaire\"\n",
      "}\n"
     ]
    }
   ],
   "source": [
    "#w.close()\n",
    "qr = QR.QuestionnaireResponse(loads(w.value))\n",
    "#print(dumps(qr.as_json(), indent = 4))\n",
    "\n",
    "display(Markdown(f'### Fetching Questionnaire `[base]Questionniare?questionnaire={{QR.questionnaire}}`'))\n",
    "r_id = qr.questionnaire.split('/')[-1]\n",
    "display(Markdown(f'**QR.questionnaire** = {qr.questionnaire}'))                        \n",
    "r = get(f'{R4fhir_server}/Questionnaire/{r_id}', params = params, headers = headers)   # return r.status_code\n",
    "display(Markdown(f'**Status** = {r.status_code}'))\n",
    "q = Q.Questionnaire(r.json())\n",
    "print(dumps(q.as_json(), indent = 4))                             "
   ]
  },
  {
   "cell_type": "markdown",
   "metadata": {},
   "source": [
    "### Inspect Q and choose which items get exported"
   ]
  },
  {
   "cell_type": "code",
   "execution_count": 5,
   "metadata": {},
   "outputs": [
    {
     "data": {
      "application/vnd.jupyter.widget-view+json": {
       "model_id": "08426855c04d4868abd2ac87f872b59f",
       "version_major": 2,
       "version_minor": 0
      },
      "text/plain": [
       "SelectMultiple(description='Choose items to Extract', layout=Layout(width='initial'), options=(('linkId = /[H1…"
      ]
     },
     "metadata": {},
     "output_type": "display_data"
    }
   ],
   "source": [
    "q_items=[]\n",
    "for i in q.item:  # list all the main items\n",
    "    for j in i.item:    # list all the 2nd level items         \n",
    "        q_items.append((f'linkId = {j.linkId}, text = {j.text}',j.code[0].code))\n",
    "#print(q_items)\n",
    "\n",
    "exports = widgets.SelectMultiple(\n",
    "    options=q_items,\n",
    "    description='Choose items to Extract', \n",
    "    style={'description_width': 'initial'},\n",
    "    layout={'width': 'initial'},\n",
    "    disabled=False\n",
    ")\n",
    "display(exports)"
   ]
  },
  {
   "cell_type": "markdown",
   "metadata": {},
   "source": [
    "### Update Q with the link period extension and gather data for extraction"
   ]
  },
  {
   "cell_type": "code",
   "execution_count": 6,
   "metadata": {},
   "outputs": [
    {
     "data": {
      "text/markdown": [
       "### Q data to be exported into Observations\n",
       "                 (Python dict data structure)"
      ],
      "text/plain": [
       "<IPython.core.display.Markdown object>"
      ]
     },
     "metadata": {},
     "output_type": "display_data"
    },
    {
     "name": "stdout",
     "output_type": "stream",
     "text": [
      "{'/[H1]/[Q2]': (<fhirclient.r4models.coding.Coding object at 0x01313510>,\n",
      "                'WHAT... is your Quest')}\n"
     ]
    },
    {
     "data": {
      "text/markdown": [
       "### Updated Q with observationLinkPeriod added to items to be exported"
      ],
      "text/plain": [
       "<IPython.core.display.Markdown object>"
      ]
     },
     "metadata": {},
     "output_type": "display_data"
    },
    {
     "name": "stdout",
     "output_type": "stream",
     "text": [
      "{\n",
      "    \"id\": \"devdays-q-1\",\n",
      "    \"meta\": {\n",
      "        \"lastUpdated\": \"2019-06-09T07:31:29.583+00:00\",\n",
      "        \"profile\": [\n",
      "            \"http://hl7.org/fhir/uv/sdc/StructureDefinition/sdc-questionnaire|3.5.0\"\n",
      "        ],\n",
      "        \"versionId\": \"3\"\n",
      "    },\n",
      "    \"item\": [\n",
      "        {\n",
      "            \"code\": [\n",
      "                {\n",
      "                    \"code\": \"[H1]\",\n",
      "                    \"display\": \"Answer Me These Questions Three\",\n",
      "                    \"system\": \"http://devdays2019/q\"\n",
      "                }\n",
      "            ],\n",
      "            \"item\": [\n",
      "                {\n",
      "                    \"extension\": [\n",
      "                        {\n",
      "                            \"url\": \"http://hl7.org/fhir/StructureDefinition/questionnaire-minOccurs\",\n",
      "                            \"valueInteger\": 1\n",
      "                        }\n",
      "                    ],\n",
      "                    \"code\": [\n",
      "                        {\n",
      "                            \"code\": \"[Q1]\",\n",
      "                            \"display\": \"1   WHAT... is your name ?\",\n",
      "                            \"system\": \"http://devdays2019/q\"\n",
      "                        }\n",
      "                    ],\n",
      "                    \"linkId\": \"/[H1]/[Q1]\",\n",
      "                    \"required\": true,\n",
      "                    \"text\": \"1   WHAT... is your name ?\",\n",
      "                    \"type\": \"string\"\n",
      "                },\n",
      "                {\n",
      "                    \"extension\": [\n",
      "                        {\n",
      "                            \"url\": \"http://hl7.org/fhir/StructureDefinition/questionnaire-itemControl\",\n",
      "                            \"valueCodeableConcept\": {\n",
      "                                \"coding\": [\n",
      "                                    {\n",
      "                                        \"code\": \"drop-down\",\n",
      "                                        \"display\": \"Drop down\",\n",
      "                                        \"system\": \"http://hl7.org/fhir/questionnaire-item-control\"\n",
      "                                    }\n",
      "                                ],\n",
      "                                \"text\": \"Drop down\"\n",
      "                            }\n",
      "                        },\n",
      "                        {\n",
      "                            \"url\": \"http://hl7.org/fhir/StructureDefinition/questionnaire-observationLinkPeriod\",\n",
      "                            \"valueDuration\": {\n",
      "                                \"code\": \"s\",\n",
      "                                \"system\": \"http://unitsofmeasure.org\",\n",
      "                                \"value\": 0\n",
      "                            }\n",
      "                        }\n",
      "                    ],\n",
      "                    \"answerOption\": [\n",
      "                        {\n",
      "                            \"extension\": [\n",
      "                                {\n",
      "                                    \"url\": \"http://hl7.org/fhir/StructureDefinition/questionnaire-optionPrefix\",\n",
      "                                    \"valueString\": \"1\"\n",
      "                                }\n",
      "                            ],\n",
      "                            \"valueCoding\": {\n",
      "                                \"code\": \"c1\",\n",
      "                                \"display\": \"Seek the Holy Grail\"\n",
      "                            }\n",
      "                        },\n",
      "                        {\n",
      "                            \"extension\": [\n",
      "                                {\n",
      "                                    \"url\": \"http://hl7.org/fhir/StructureDefinition/questionnaire-optionPrefix\",\n",
      "                                    \"valueString\": \"2\"\n",
      "                                }\n",
      "                            ],\n",
      "                            \"valueCoding\": {\n",
      "                                \"code\": \"c2\",\n",
      "                                \"display\": \"Find the Castle Anthrax\"\n",
      "                            }\n",
      "                        },\n",
      "                        {\n",
      "                            \"extension\": [\n",
      "                                {\n",
      "                                    \"url\": \"http://hl7.org/fhir/StructureDefinition/questionnaire-optionPrefix\",\n",
      "                                    \"valueString\": \"3\"\n",
      "                                }\n",
      "                            ],\n",
      "                            \"valueCoding\": {\n",
      "                                \"code\": \"c3\",\n",
      "                                \"display\": \"Fetch a shrubbery\"\n",
      "                            }\n",
      "                        }\n",
      "                    ],\n",
      "                    \"code\": [\n",
      "                        {\n",
      "                            \"code\": \"[Q2]\",\n",
      "                            \"display\": \"WHAT... is your Quest\",\n",
      "                            \"system\": \"http://devdays2019/q\"\n",
      "                        }\n",
      "                    ],\n",
      "                    \"linkId\": \"/[H1]/[Q2]\",\n",
      "                    \"required\": false,\n",
      "                    \"text\": \"WHAT... is your Quest\",\n",
      "                    \"type\": \"choice\"\n",
      "                },\n",
      "                {\n",
      "                    \"code\": [\n",
      "                        {\n",
      "                            \"code\": \"[Q3]\",\n",
      "                            \"display\": \"WHAT... is the air speed velocity of an unladen swallow?\",\n",
      "                            \"system\": \"http://devdays2019/q\"\n",
      "                        }\n",
      "                    ],\n",
      "                    \"linkId\": \"/[H1]/[Q3]\",\n",
      "                    \"required\": false,\n",
      "                    \"text\": \"WHAT... is the air speed velocity of an unladen swallow?\",\n",
      "                    \"type\": \"integer\"\n",
      "                }\n",
      "            ],\n",
      "            \"linkId\": \"/[H1]\",\n",
      "            \"required\": false,\n",
      "            \"text\": \"Answer Me These Questions Three\",\n",
      "            \"type\": \"group\"\n",
      "        }\n",
      "    ],\n",
      "    \"name\": \"QuestionsThree\",\n",
      "    \"status\": \"draft\",\n",
      "    \"subjectType\": [\n",
      "        \"Patient\",\n",
      "        \"Person\"\n",
      "    ],\n",
      "    \"title\": \"Questions Three\",\n",
      "    \"url\": \"http://devdays2019/Questionnaire/devdays-q-1\",\n",
      "    \"resourceType\": \"Questionnaire\"\n",
      "}\n"
     ]
    }
   ],
   "source": [
    "#exports.close()\n",
    "extract_items = dict()\n",
    "\n",
    "x_link_period = X.Extension(            {\n",
    "              \"url\": \"http://hl7.org/fhir/StructureDefinition/questionnaire-observationLinkPeriod\",\n",
    "              \"valueDuration\": {\n",
    "                \"value\": 0,\n",
    "                \"system\": \"http://unitsofmeasure.org\",\n",
    "                \"code\": \"s\"\n",
    "              }\n",
    "            })\n",
    "\n",
    "\n",
    "for i in q.item:\n",
    "     for j in i.item:\n",
    "        if j.code[0].code in exports.value:\n",
    "            #add link period extension\n",
    "            if not j.extension or 'http://hl7.org/fhir/StructureDefinition/questionnaire-observationLinkPeriod' not in [x.url for x in j.extension]:\n",
    "                try:\n",
    "                    j.extension.append(x_link_period)\n",
    "                except AttributeError:\n",
    "                    j.extension = [x_link_period]\n",
    "            extract_items[j.linkId]=(j.code[0],j.text) #extract_items for conversion\n",
    "\n",
    "display(Markdown('''### Q data to be exported into Observations\n",
    "                 (Python dict data structure)'''))\n",
    "pprint(extract_items)\n",
    "\n",
    "display(Markdown('### Updated Q with observationLinkPeriod added to items to be exported'))\n",
    "            \n",
    "print(dumps(q.as_json(), indent=4))"
   ]
  },
  {
   "cell_type": "markdown",
   "metadata": {},
   "source": [
    "### Export these items from QR into the Observation template\n",
    "\n",
    "- Observation template for this simple demo is a Python dict"
   ]
  },
  {
   "cell_type": "code",
   "execution_count": 23,
   "metadata": {},
   "outputs": [
    {
     "data": {
      "text/markdown": [
       "### Question = WHAT... is your Quest, valueCodeableConcept = {'coding': [{'code': 'c3', 'display': 'Fetch a shrubbery'}]}"
      ],
      "text/plain": [
       "<IPython.core.display.Markdown object>"
      ]
     },
     "metadata": {},
     "output_type": "display_data"
    },
    {
     "name": "stdout",
     "output_type": "stream",
     "text": [
      "{\n",
      "    \"resourceType\": \"Observation\",\n",
      "    \"id\": \"devdays-o-h1-q2\",\n",
      "    \"status\": \"final\",\n",
      "    \"code\": {\n",
      "        \"coding\": [\n",
      "            {\n",
      "                \"code\": \"[Q2]\",\n",
      "                \"display\": \"WHAT... is your Quest\",\n",
      "                \"system\": \"http://devdays2019/q\"\n",
      "            }\n",
      "        ],\n",
      "        \"text\": \"WHAT... is your Quest\"\n",
      "    },\n",
      "    \"subject\": {\n",
      "        \"display\": \"Markus Gutmann\",\n",
      "        \"reference\": \"Patient/28ee432c-fd33-4101-a767-5ebd7087a187\"\n",
      "    },\n",
      "    \"effectiveDateTime\": \"2019-06-08T16:11:49-07:00\",\n",
      "    \"issued\": \"2019-06-08T16:11:49-07:00\",\n",
      "    \"valueCodeableConcept\": {\n",
      "        \"coding\": [\n",
      "            {\n",
      "                \"code\": \"c3\",\n",
      "                \"display\": \"Fetch a shrubbery\"\n",
      "            }\n",
      "        ]\n",
      "    },\n",
      "    \"derivedFrom\": [\n",
      "        {\n",
      "            \"reference\": \"QuestionnaireResponse/devdays-qr-1\"\n",
      "        }\n",
      "    ]\n",
      "}\n"
     ]
    }
   ],
   "source": [
    "derived_obs=[]\n",
    "for link_id, (item_code,item_text) in extract_items.items():\n",
    "    #print( item_code, item_text)\n",
    "    value_pair = [j.answer[0] for j in qr.item[0].item if j.linkId == link_id][0]\n",
    "    #print(value_pair)\n",
    "    (k, v), = value_pair.as_json().items()\n",
    "    v = {'coding': [v]} if k == 'valueCoding' else v\n",
    "    k = 'valueCodeableConcept' if k == 'valueCoding' else k\n",
    "    display(Markdown(f'### Question = {item_text}, {k} = {v}'))\n",
    "    o_id = f'devdays-o{link_id.lower().replace(\"/\",\"-\").replace(\"[\",\"\").replace(\"]\",\"\")}'\n",
    "    \n",
    "    '''{{\n",
    "      \"resourceType\": \"Observation\",\n",
    "      \"id\": \"{o_id}\",\n",
    "      \"status\": \"final\",\n",
    "      \"code\": {{\n",
    "      \"coding\":[\n",
    "            {dumps(item_code.as_json())}\n",
    "        ],\n",
    "        \"text\": \"{item_text}\"\n",
    "      }},\n",
    "      \"subject\": {dumps(qr.subject.as_json())},\n",
    "      \"effectiveDateTime\": {dumps(qr.authored.as_json())},\n",
    "      \"issued\": {dumps(qr.authored.as_json())},\n",
    "      \"{k}\": {v},\n",
    "      \"derivedFrom\": [{{\"reference\":\"QuestionnaireResponse/{qr.id}\"}}]\n",
    "    }}'''\n",
    "    \n",
    "    o_dict = {\n",
    "          'resourceType': 'Observation',\n",
    "          'id': o_id,\n",
    "          'status': 'final',\n",
    "          'code': {\n",
    "          'coding':[\n",
    "                item_code.as_json()\n",
    "            ],\n",
    "            'text': item_text\n",
    "          },\n",
    "          'subject': qr.subject.as_json(),\n",
    "          'effectiveDateTime': qr.authored.as_json(),\n",
    "          'issued': qr.authored.as_json(),\n",
    "           k: v,\n",
    "          'derivedFrom': [{'reference':f'QuestionnaireResponse/{qr.id}'}]\n",
    "        }\n",
    "\n",
    "    #print(o_dict)\n",
    "    o_json = dumps(o_dict, indent=4)\n",
    "    derived_obs.append(tuple([o_id,o_json]))\n",
    "    print(o_json)\n",
    "    "
   ]
  },
  {
   "cell_type": "markdown",
   "metadata": {},
   "source": [
    "### Validate Observations"
   ]
  },
  {
   "cell_type": "code",
   "execution_count": 24,
   "metadata": {},
   "outputs": [
    {
     "data": {
      "text/html": [
       "<h1>Validation output</h1><h3>Status Code = 200</h3> <div xmlns=\"http://www.w3.org/1999/xhtml\"><h1>Operation Outcome</h1><table border=\"0\"><tr><td style=\"font-weight: bold;\">WARNING</td><td>[Observation]</td><td><pre>All observations should have a performer</pre></td>\n",
       "\t\t\t\t\t\n",
       "\t\t\t\t\n",
       "\t\t\t</tr>\n",
       "\t\t\t<tr>\n",
       "\t\t\t\t<td style=\"font-weight: bold;\">WARNING</td>\n",
       "\t\t\t\t<td>[Observation]</td>\n",
       "\t\t\t\t\n",
       "\t\t\t\t\t\n",
       "\t\t\t\t\t\n",
       "\t\t\t\t\t\t<td><pre>A resource should have narrative for robust management [text.div.exists()]</pre></td>\n",
       "\t\t\t\t\t\n",
       "\t\t\t\t\n",
       "\t\t\t</tr>\n",
       "\t\t\t<tr>\n",
       "\t\t\t\t<td style=\"font-weight: bold;\">WARNING</td>\n",
       "\t\t\t\t<td>[Observation]</td>\n",
       "\t\t\t\t\n",
       "\t\t\t\t\t\n",
       "\t\t\t\t\t\n",
       "\t\t\t\t\t\t<td><pre>A resource should have narrative for robust management [text.div.exists()]</pre></td>\n",
       "\t\t\t\t\t\n",
       "\t\t\t\t\n",
       "\t\t\t</tr>\n",
       "\t\t</table>\n",
       "\t</div>"
      ],
      "text/plain": [
       "<IPython.core.display.HTML object>"
      ]
     },
     "metadata": {},
     "output_type": "display_data"
    }
   ],
   "source": [
    "for o_id,o_json in derived_obs:\n",
    "    r =  post(f'{R4fhir_server}/Observation/$validate', params = params, headers = headers, data = o_json.encode('utf-8'))   # return r.status_code\n",
    "    display(HTML(f'<h1>Validation output</h1><h3>Status Code = {r.status_code}</h3> {r.json()[\"text\"][\"div\"]}'))"
   ]
  },
  {
   "cell_type": "markdown",
   "metadata": {},
   "source": [
    "### Save Observations"
   ]
  },
  {
   "cell_type": "code",
   "execution_count": 25,
   "metadata": {},
   "outputs": [
    {
     "data": {
      "text/html": [
       "<h1>Create/Update: http://hapi.fhir.org/baseR4/Observation/devdays-o-h1-q2</h1><h3>Status Code = 200</h3> ,<pre>{\n",
       "    \"resourceType\": \"Observation\",\n",
       "    \"id\": \"devdays-o-h1-q2\",\n",
       "    \"meta\": {\n",
       "        \"versionId\": \"2\",\n",
       "        \"lastUpdated\": \"2019-06-09T04:55:06.854+00:00\"\n",
       "    },\n",
       "    \"status\": \"final\",\n",
       "    \"code\": {\n",
       "        \"coding\": [\n",
       "            {\n",
       "                \"system\": \"http://devdays2019/q\",\n",
       "                \"code\": \"[Q2]\",\n",
       "                \"display\": \"WHAT... is your Quest\"\n",
       "            }\n",
       "        ],\n",
       "        \"text\": \"WHAT... is your Quest\"\n",
       "    },\n",
       "    \"subject\": {\n",
       "        \"reference\": \"Patient/28ee432c-fd33-4101-a767-5ebd7087a187\",\n",
       "        \"display\": \"Markus Gutmann\"\n",
       "    },\n",
       "    \"effectiveDateTime\": \"2019-06-08T16:11:49-07:00\",\n",
       "    \"issued\": \"2019-06-08T16:11:49-07:00\",\n",
       "    \"valueCodeableConcept\": {\n",
       "        \"coding\": [\n",
       "            {\n",
       "                \"code\": \"c3\",\n",
       "                \"display\": \"Fetch a shrubbery\"\n",
       "            }\n",
       "        ]\n",
       "    },\n",
       "    \"derivedFrom\": [\n",
       "        {\n",
       "            \"reference\": \"QuestionnaireResponse/devdays-qr-1\"\n",
       "        }\n",
       "    ]\n",
       "}</pre>"
      ],
      "text/plain": [
       "<IPython.core.display.HTML object>"
      ]
     },
     "metadata": {},
     "output_type": "display_data"
    }
   ],
   "source": [
    "for o_id,o_json in derived_obs:\n",
    "    r =  put(f'{R4fhir_server}/Observation/{o_id}', params = params, headers = headers, data = o_json.encode('utf-8'))   # return r.status_code\n",
    "    display(HTML(f'<h1>Create/Update: {R4fhir_server}/Observation/{o_id}</h1><h3>Status Code = {r.status_code}</h3> ,<pre>{dumps(r.json(),indent=4)}</pre>'))"
   ]
  }
 ],
 "metadata": {
  "kernelspec": {
   "display_name": "Python 3",
   "language": "python",
   "name": "python3"
  },
  "language_info": {
   "codemirror_mode": {
    "name": "ipython",
    "version": 3
   },
   "file_extension": ".py",
   "mimetype": "text/x-python",
   "name": "python",
   "nbconvert_exporter": "python",
   "pygments_lexer": "ipython3",
   "version": "3.7.1"
  }
 },
 "nbformat": 4,
 "nbformat_minor": 2
}
