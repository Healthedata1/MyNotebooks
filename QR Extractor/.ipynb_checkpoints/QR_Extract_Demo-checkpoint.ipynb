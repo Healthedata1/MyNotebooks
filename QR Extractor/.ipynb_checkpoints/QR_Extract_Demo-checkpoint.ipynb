{
 "cells": [
  {
   "cell_type": "markdown",
   "metadata": {},
   "source": [
    "## QR Extractor Demo\n",
    "\n",
    "This is a simple demonstration script to show *Observation-based extraction*  using Questionnaire and QuestionnaireResponse Data.\n",
    "\n",
    "### Background\n",
    "\n",
    "**Observation-based extraction**\n",
    "\n",
    "This is the simplest of the extraction mechanisms. It leverages the same data elements as are used for the Observation-based population mechanism. It takes advantage of the fact that most questions in the healthcare space typically correspond to the value element of an Observation. It also takes advantage of the Questionnaire.item.code element that identifies what a concept each question or group corresponds to.\n",
    "\n",
    "To use this method:\n",
    "\n",
    "- Include the item.code element on each question to be extracted. Typically, this will be a LOINC code, but in some jurisdictions/environments, SNOMED CT or other codes may be relevant\n",
    "- Groups can also have an item.code present - this might represent the code of the a panel or the Observation.code of an Observation with no value but with multiple Observation.component elements. Child question items can then assert the item.code of the \"member-of\" Observations or the Observation.component.code values\n",
    "- To signal that the item.code is intended for use in extraction (as opposed to just providing metadata about the Questionnaire item, the `questionnaire-observationLinkPeriod` extension must also be included. This extension indicates the period of time over which to search for matching observations.\n",
    "- Multiple item.code elements might be present. If so, each are considered one of the Observation.code Codings in the resulting extracted Observation.\n",
    "                                                                  \n",
    "### Mapping to Observation         \n",
    "                                                                  \n",
    "- Observation.basedOn and Observation.partOf - copy from QuestionnaireResponse elements of the same name\n",
    "- Observation.status - set to 'final'\n",
    "- Observation.category - if this can be inferred from any of the Questionnaire.item.code values or from known context of the Questionnaire itself, then fill it in, otherwise omit.\n",
    "- Observation.code - add all the Questionnaire.item.code values as Observation.code.coding instances\n",
    "- Observation.subject - set to QuestionnaireResponse.subject\n",
    "- Observation.encounter - set to QuestionnaireResponse.context (if an Encounter)\n",
    "- Observation.effectiveDateTime - set to QuestionnaireResponse.authored.\n",
    "\n",
    "Note, this is an inference. It is important that the question text implies that the value is 'current' not 'historical' for this to be safe - otherwise don't include the 'observationLinkPeriod' extension that marks the question as appropriate for population and extraction.\n",
    "\n",
    "- Observation.issued - set to QuestionnaireResponse.authored\n",
    "- Observation.performer - set to QuestionnaireResponse.author\n",
    "- Observation.value[x] - set to QuestionnaireResponse.item.answer.value[x]\n",
    "- Observation.derivedFrom - set to a reference to the QuestionnaireResponse\n",
    "- Observation.interpretation and Observation.referenceRange - if these can be inferred from the QuestionnaireResponse.item.code (and for interpretation the answer value too), they can be populated, otherwise omit"
   ]
  },
  {
   "cell_type": "markdown",
   "metadata": {},
   "source": [
    "### imports and constants"
   ]
  },
  {
   "cell_type": "code",
   "execution_count": null,
   "metadata": {},
   "outputs": [],
   "source": [
    "from fhirclient.r4models.fhirabstractbase import FHIRValidationError\n",
    "from fhirclient.r4models import bundle as B\n",
    "from fhirclient.r4models import narrative as N\n",
    "from fhirclient.r4models import questionnaire as Q\n",
    "from fhirclient.r4models import questionnaireresponse as QR\n",
    "import fhirclient.r4models.identifier as I\n",
    "import fhirclient.r4models.coding as C\n",
    "import fhirclient.r4models.codeableconcept as CC\n",
    "import fhirclient.r4models.fhirdate as D\n",
    "import fhirclient.r4models.extension as X\n",
    "import fhirclient.r4models.contactdetail as CD\n",
    "import fhirclient.r4models.fhirreference as FR\n",
    "from json import dumps, loads, load\n",
    "from requests import get, post, put\n",
    "import os\n",
    "from pathlib import Path\n",
    "from IPython.display import display as Display, HTML, Markdown, Javascript\n",
    "from pprint import pprint\n",
    "from datetime import datetime, date\n",
    "import ipywidgets as widgets\n",
    "from ipywidgets import Layout\n",
    "\n",
    "headers = {\n",
    "    'Accept':'application/fhir+json',\n",
    "    'Content-Type':'application/fhir+json'\n",
    "    }\n",
    "\n",
    "params = dict()\n",
    "\n",
    "R4fhir_server = 'http://hapi.fhir.org/baseR4'\n",
    "\n",
    "r_id = 'devdays-qr-1'"
   ]
  },
  {
   "cell_type": "code",
   "execution_count": null,
   "metadata": {},
   "outputs": [],
   "source": [
    "box_layout = Layout(display='flex',\n",
    "                    flex_flow='column',\n",
    "                    align_items='stretch',\n",
    "                    border='solid',\n",
    "                    width='80%',\n",
    "                   height = '550px')\n",
    "\n",
    "\n",
    "w = widgets.Textarea(\n",
    "    placeholder='copy and paste QR example here',\n",
    "    description='QR Example',\n",
    "    disabled=False,\n",
    "    layout=box_layout\n",
    ")\n",
    "\n",
    "\n",
    "display(Markdown('### Copy and Paste QR Example from which Responses are to be extracted  (examples test files can be found [here](#))'),w)"
   ]
  },
  {
   "cell_type": "code",
   "execution_count": null,
   "metadata": {},
   "outputs": [],
   "source": [
    "\n",
    "### Fetch test QR from FHIR Server\n",
    "\n",
    "- instantiate as a QR pyfhirclient model"
   ]
  },
  {
   "cell_type": "code",
   "execution_count": null,
   "metadata": {},
   "outputs": [],
   "source": [
    "# print(f'{R4fhir_server}/QuestionnaireResponse/{r_id}')\n",
    "#r = get(f'{R4fhir_server}/QuestionnaireResponse/{r_id}', params = params, headers = headers)   # return r.status_code\n",
    "#print(f'Status={r.status_code}')\n",
    "#qr = QR.QuestionnaireResponse(r.json())\n",
    "#print(dumps(qr.as_json(), indent = 4))"
   ]
  },
  {
   "cell_type": "markdown",
   "metadata": {},
   "source": [
    "### instantiate as a QR pyfhirclient model"
   ]
  },
  {
   "cell_type": "code",
   "execution_count": null,
   "metadata": {},
   "outputs": [],
   "source": [
    "qr = QR.QuestionnaireResponse(loads(w.value))\n",
    "print(dumps(qr.as_json(), indent = 4))"
   ]
  },
  {
   "cell_type": "markdown",
   "metadata": {},
   "source": [
    "### Inspect QR for Q url and Fetch test Q from FHIR Server\n",
    "\n",
    "- instantiate as a Q pyfhirclient model"
   ]
  },
  {
   "cell_type": "code",
   "execution_count": null,
   "metadata": {},
   "outputs": [],
   "source": [
    "print(f'Fetching Questionnaire url={qr.questionnaire}')\n",
    "r_id = qr.questionnaire.split('/')[-1]\n",
    "print(f'Q Resource id = {r_id}')                          \n",
    "r = get(f'{R4fhir_server}/Questionnaire/{r_id}', params = params, headers = headers)   # return r.status_code\n",
    "print(f'Status={r.status_code}')\n",
    "q = Q.Questionnaire(r.json())\n",
    "print(dumps(q.as_json(), indent = 4))                             "
   ]
  },
  {
   "cell_type": "markdown",
   "metadata": {},
   "source": [
    "### Inspect Q and choose which items get exported"
   ]
  },
  {
   "cell_type": "code",
   "execution_count": 46,
   "metadata": {},
   "outputs": [
    {
     "data": {
      "application/vnd.jupyter.widget-view+json": {
       "model_id": "c816c671196a44aa880e59229d3a25db",
       "version_major": 2,
       "version_minor": 0
      },
      "text/plain": [
       "SelectMultiple(description='Choose items to Extract', layout=Layout(width='initial'), options=(('linkId = /[H1…"
      ]
     },
     "metadata": {},
     "output_type": "display_data"
    }
   ],
   "source": [
    "q_items=[]\n",
    "for i in q.item:  # list all the main items\n",
    "    for j in i.item:    # list all the 2nd level items         \n",
    "        q_items.append((f'linkId = {j.linkId}, text = {j.text}',j.code[0].code))\n",
    "#print(q_items)\n",
    "\n",
    "w = widgets.SelectMultiple(\n",
    "    options=q_items,\n",
    "    description='Choose items to Extract', \n",
    "    style={'description_width': 'initial'},\n",
    "    layout={'width': 'initial'},\n",
    "    disabled=False\n",
    ")\n",
    "display(w)"
   ]
  },
  {
   "cell_type": "code",
   "execution_count": 49,
   "metadata": {},
   "outputs": [
    {
     "name": "stdout",
     "output_type": "stream",
     "text": [
      "{\n",
      "    \"id\": \"devdays-q-1\",\n",
      "    \"meta\": {\n",
      "        \"lastUpdated\": \"2019-06-09T07:31:29.583+00:00\",\n",
      "        \"profile\": [\n",
      "            \"http://hl7.org/fhir/uv/sdc/StructureDefinition/sdc-questionnaire|3.5.0\"\n",
      "        ],\n",
      "        \"versionId\": \"3\"\n",
      "    },\n",
      "    \"item\": [\n",
      "        {\n",
      "            \"code\": [\n",
      "                {\n",
      "                    \"code\": \"[H1]\",\n",
      "                    \"display\": \"Answer Me These Questions Three\",\n",
      "                    \"system\": \"http://devdays2019/q\"\n",
      "                }\n",
      "            ],\n",
      "            \"item\": [\n",
      "                {\n",
      "                    \"extension\": [\n",
      "                        {\n",
      "                            \"url\": \"http://hl7.org/fhir/StructureDefinition/questionnaire-minOccurs\",\n",
      "                            \"valueInteger\": 1\n",
      "                        },\n",
      "                        {\n",
      "                            \"url\": \"http://hl7.org/fhir/StructureDefinition/questionnaire-observationLinkPeriod\",\n",
      "                            \"valueDuration\": {\n",
      "                                \"code\": \"s\",\n",
      "                                \"system\": \"http://unitsofmeasure.org\",\n",
      "                                \"value\": 0\n",
      "                            }\n",
      "                        }\n",
      "                    ],\n",
      "                    \"code\": [\n",
      "                        {\n",
      "                            \"code\": \"[Q1]\",\n",
      "                            \"display\": \"1   WHAT... is your name ?\",\n",
      "                            \"system\": \"http://devdays2019/q\"\n",
      "                        }\n",
      "                    ],\n",
      "                    \"linkId\": \"/[H1]/[Q1]\",\n",
      "                    \"required\": true,\n",
      "                    \"text\": \"1   WHAT... is your name ?\",\n",
      "                    \"type\": \"string\"\n",
      "                },\n",
      "                {\n",
      "                    \"extension\": [\n",
      "                        {\n",
      "                            \"url\": \"http://hl7.org/fhir/StructureDefinition/questionnaire-itemControl\",\n",
      "                            \"valueCodeableConcept\": {\n",
      "                                \"coding\": [\n",
      "                                    {\n",
      "                                        \"code\": \"drop-down\",\n",
      "                                        \"display\": \"Drop down\",\n",
      "                                        \"system\": \"http://hl7.org/fhir/questionnaire-item-control\"\n",
      "                                    }\n",
      "                                ],\n",
      "                                \"text\": \"Drop down\"\n",
      "                            }\n",
      "                        },\n",
      "                        {\n",
      "                            \"url\": \"http://hl7.org/fhir/StructureDefinition/questionnaire-observationLinkPeriod\",\n",
      "                            \"valueDuration\": {\n",
      "                                \"code\": \"s\",\n",
      "                                \"system\": \"http://unitsofmeasure.org\",\n",
      "                                \"value\": 0\n",
      "                            }\n",
      "                        }\n",
      "                    ],\n",
      "                    \"answerOption\": [\n",
      "                        {\n",
      "                            \"extension\": [\n",
      "                                {\n",
      "                                    \"url\": \"http://hl7.org/fhir/StructureDefinition/questionnaire-optionPrefix\",\n",
      "                                    \"valueString\": \"1\"\n",
      "                                }\n",
      "                            ],\n",
      "                            \"valueCoding\": {\n",
      "                                \"code\": \"c1\",\n",
      "                                \"display\": \"Seek the Holy Grail\"\n",
      "                            }\n",
      "                        },\n",
      "                        {\n",
      "                            \"extension\": [\n",
      "                                {\n",
      "                                    \"url\": \"http://hl7.org/fhir/StructureDefinition/questionnaire-optionPrefix\",\n",
      "                                    \"valueString\": \"2\"\n",
      "                                }\n",
      "                            ],\n",
      "                            \"valueCoding\": {\n",
      "                                \"code\": \"c2\",\n",
      "                                \"display\": \"Find the Castle Anthrax\"\n",
      "                            }\n",
      "                        },\n",
      "                        {\n",
      "                            \"extension\": [\n",
      "                                {\n",
      "                                    \"url\": \"http://hl7.org/fhir/StructureDefinition/questionnaire-optionPrefix\",\n",
      "                                    \"valueString\": \"3\"\n",
      "                                }\n",
      "                            ],\n",
      "                            \"valueCoding\": {\n",
      "                                \"code\": \"c3\",\n",
      "                                \"display\": \"Fetch a shrubbery\"\n",
      "                            }\n",
      "                        }\n",
      "                    ],\n",
      "                    \"code\": [\n",
      "                        {\n",
      "                            \"code\": \"[Q2]\",\n",
      "                            \"display\": \"WHAT... is your Quest\",\n",
      "                            \"system\": \"http://devdays2019/q\"\n",
      "                        }\n",
      "                    ],\n",
      "                    \"linkId\": \"/[H1]/[Q2]\",\n",
      "                    \"required\": false,\n",
      "                    \"text\": \"WHAT... is your Quest\",\n",
      "                    \"type\": \"choice\"\n",
      "                },\n",
      "                {\n",
      "                    \"extension\": [\n",
      "                        {\n",
      "                            \"url\": \"http://hl7.org/fhir/StructureDefinition/questionnaire-observationLinkPeriod\",\n",
      "                            \"valueDuration\": {\n",
      "                                \"code\": \"s\",\n",
      "                                \"system\": \"http://unitsofmeasure.org\",\n",
      "                                \"value\": 0\n",
      "                            }\n",
      "                        }\n",
      "                    ],\n",
      "                    \"code\": [\n",
      "                        {\n",
      "                            \"code\": \"[Q3]\",\n",
      "                            \"display\": \"WHAT... is the air speed velocity of an unladen swallow?\",\n",
      "                            \"system\": \"http://devdays2019/q\"\n",
      "                        }\n",
      "                    ],\n",
      "                    \"linkId\": \"/[H1]/[Q3]\",\n",
      "                    \"required\": false,\n",
      "                    \"text\": \"WHAT... is the air speed velocity of an unladen swallow?\",\n",
      "                    \"type\": \"integer\"\n",
      "                }\n",
      "            ],\n",
      "            \"linkId\": \"/[H1]\",\n",
      "            \"required\": false,\n",
      "            \"text\": \"Answer Me These Questions Three\",\n",
      "            \"type\": \"group\"\n",
      "        }\n",
      "    ],\n",
      "    \"name\": \"QuestionsThree\",\n",
      "    \"status\": \"draft\",\n",
      "    \"subjectType\": [\n",
      "        \"Patient\",\n",
      "        \"Person\"\n",
      "    ],\n",
      "    \"title\": \"Questions Three\",\n",
      "    \"url\": \"http://devdays2019/Questionnaire/devdays-q-1\",\n",
      "    \"resourceType\": \"Questionnaire\"\n",
      "}\n"
     ]
    },
    {
     "data": {
      "text/plain": [
       "{'/[H1]/[Q3]': (<fhirclient.r4models.coding.Coding at 0x12de9f0>,\n",
       "  'WHAT... is the air speed velocity of an unladen swallow?')}"
      ]
     },
     "execution_count": 49,
     "metadata": {},
     "output_type": "execute_result"
    }
   ],
   "source": [
    "extract_items = dict()\n",
    "\n",
    "x_link_period = X.Extension(            {\n",
    "              \"url\": \"http://hl7.org/fhir/StructureDefinition/questionnaire-observationLinkPeriod\",\n",
    "              \"valueDuration\": {\n",
    "                \"value\": 0,\n",
    "                \"system\": \"http://unitsofmeasure.org\",\n",
    "                \"code\": \"s\"\n",
    "              }\n",
    "            })\n",
    "\n",
    "\n",
    "for i in q.item:\n",
    "     for j in i.item:\n",
    "        if j.code[0].code in w.value:\n",
    "            #add link period extension\n",
    "            if not j.extension or 'http://hl7.org/fhir/StructureDefinition/questionnaire-observationLinkPeriod' not in [x.url for x in j.extension]:\n",
    "                try:\n",
    "                    j.extension.append(x_link_period)\n",
    "                except AttributeError:\n",
    "                    j.extension = [x_link_period]\n",
    "            extract_items[j.linkId]=(j.code[0],j.text) #extract_items for conversion\n",
    "print(dumps(q.as_json(), indent=4))\n",
    "extract_items"
   ]
  },
  {
   "cell_type": "markdown",
   "metadata": {},
   "source": [
    "### Export these items from QR into the Observation template\n",
    "\n",
    "- Observation template for this simple demo is a Python f string"
   ]
  },
  {
   "cell_type": "code",
   "execution_count": 50,
   "metadata": {},
   "outputs": [
    {
     "name": "stdout",
     "output_type": "stream",
     "text": [
      "**************question = WHAT... is the air speed velocity of an unladen swallow?, valueInteger = 11*******************\n",
      "{\n",
      "      \"resourceType\": \"Observation\",\n",
      "      \"id\": \"devdays-o-h1-q3\",\n",
      "      \"status\": \"final\",\n",
      "      \"code\": {\n",
      "      \"coding\":[\n",
      "            {\"code\": \"[Q3]\", \"display\": \"WHAT... is the air speed velocity of an unladen swallow?\", \"system\": \"http://devdays2019/q\"}\n",
      "        ],\n",
      "        \"text\": \"WHAT... is the air speed velocity of an unladen swallow?\"\n",
      "      },\n",
      "      \"subject\": {\"display\": \"Markus Gutmann\", \"reference\": \"Patient/28ee432c-fd33-4101-a767-5ebd7087a187\"},\n",
      "      \"effectiveDateTime\": \"2019-06-08T16:11:49-07:00\",\n",
      "      \"issued\": \"2019-06-08T16:11:49-07:00\",\n",
      "      \"valueInteger\": 11,\n",
      "      \"derivedFrom\": [{\"reference\":\"QuestionnaireResponse/devdays-qr-1\"}]\n",
      "    }\n"
     ]
    }
   ],
   "source": [
    "derived_obs=[]\n",
    "for link_id, (item_code,item_text) in extract_items.items():\n",
    "    #print( item_code, item_text)\n",
    "    value_pair = [j.answer[0] for j in qr.item[0].item if j.linkId == link_id][0]\n",
    "    #print(value_pair)\n",
    "    (k, v), = value_pair.as_json().items()\n",
    "    v =f'{{\"coding\": [{dumps(v)}]}}' if k == 'valueCoding' else dumps(v)\n",
    "    k = 'valueCodeableConcept' if k == 'valueCoding' else k\n",
    "    print(f'**************question = {item_text}, {k} = {v}*******************')\n",
    "    o_id = f'devdays-o{link_id.lower().replace(\"/\",\"-\").replace(\"[\",\"\").replace(\"]\",\"\")}'\n",
    "    \n",
    "    o = f'''{{\n",
    "      \"resourceType\": \"Observation\",\n",
    "      \"id\": \"{o_id}\",\n",
    "      \"status\": \"final\",\n",
    "      \"code\": {{\n",
    "      \"coding\":[\n",
    "            {dumps(item_code.as_json())}\n",
    "        ],\n",
    "        \"text\": \"{item_text}\"\n",
    "      }},\n",
    "      \"subject\": {dumps(qr.subject.as_json())},\n",
    "      \"effectiveDateTime\": {dumps(qr.authored.as_json())},\n",
    "      \"issued\": {dumps(qr.authored.as_json())},\n",
    "      \"{k}\": {v},\n",
    "      \"derivedFrom\": [{{\"reference\":\"QuestionnaireResponse/{qr.id}\"}}]\n",
    "    }}'''\n",
    "\n",
    "    print(o)\n",
    "    derived_obs.append(tuple([o_id,o]))"
   ]
  },
  {
   "cell_type": "markdown",
   "metadata": {},
   "source": [
    "### Validate Observations"
   ]
  },
  {
   "cell_type": "code",
   "execution_count": null,
   "metadata": {},
   "outputs": [],
   "source": [
    "for o_id,o in derived_obs:\n",
    "    r =  post(f'{R4fhir_server}/Observation/$validate', params = params, headers = headers, data = o.encode('utf-8'))   # return r.status_code\n",
    "    display(HTML(f'<h1>Validation output</h1><h3>Status Code = {r.status_code}</h3> {r.json()[\"text\"][\"div\"]}'))"
   ]
  },
  {
   "cell_type": "markdown",
   "metadata": {},
   "source": [
    "### Save Observations"
   ]
  },
  {
   "cell_type": "code",
   "execution_count": null,
   "metadata": {},
   "outputs": [],
   "source": [
    "for o_id,o in derived_obs:\n",
    "    r =  put(f'{R4fhir_server}/Observation/{o_id}', params = params, headers = headers, data = o.encode('utf-8'))   # return r.status_code\n",
    "    display(HTML(f'<h1>Create/Update: {R4fhir_server}/Observation/{o_id}</h1><h3>Status Code = {r.status_code}</h3> ,<pre>{dumps(r.json(),indent=4)}</pre>'))"
   ]
  },
  {
   "cell_type": "code",
   "execution_count": null,
   "metadata": {},
   "outputs": [],
   "source": []
  }
 ],
 "metadata": {
  "kernelspec": {
   "display_name": "Python 3",
   "language": "python",
   "name": "python3"
  },
  "language_info": {
   "codemirror_mode": {
    "name": "ipython",
    "version": 3
   },
   "file_extension": ".py",
   "mimetype": "text/x-python",
   "name": "python",
   "nbconvert_exporter": "python",
   "pygments_lexer": "ipython3",
   "version": "3.7.1"
  }
 },
 "nbformat": 4,
 "nbformat_minor": 2
}
