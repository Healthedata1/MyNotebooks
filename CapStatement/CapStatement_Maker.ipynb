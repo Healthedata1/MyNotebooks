{
 "cells": [
  {
   "cell_type": "markdown",
   "metadata": {},
   "source": [
    "## Create FHIR STU3 CapStatement Resource\n",
    "\n",
    "### Outline:\n",
    "\n",
    "- Source excel with requirements\n",
    "- pandas to convert in python Ordered Dict\n",
    "- build json\n",
    "- generate narrative using Jinja2 templates\n",
    "\n",
    "### Prerequisites:\n",
    "\n",
    "- Python 3.6 or greater"
   ]
  },
  {
   "cell_type": "markdown",
   "metadata": {},
   "source": [
    "### Import FHIRClient and other libraries"
   ]
  },
  {
   "cell_type": "code",
   "execution_count": 401,
   "metadata": {},
   "outputs": [],
   "source": [
    "%config IPCompleter.greedy=True"
   ]
  },
  {
   "cell_type": "code",
   "execution_count": 402,
   "metadata": {},
   "outputs": [],
   "source": [
    "from fhirclient.models import searchparameter as SP\n",
    "from fhirclient.models import capabilitystatement as CS\n",
    "from fhirclient.models import bundle as B\n",
    "import fhirclient.models.identifier as I\n",
    "import fhirclient.models.coding as C\n",
    "import fhirclient.models.codeableconcept as CC\n",
    "import fhirclient.models.fhirdate as D\n",
    "import fhirclient.models.extension as X\n",
    "import fhirclient.models.contactdetail as CD\n",
    "import fhirclient.models.fhirreference as FR\n",
    "from json import dumps, loads, load\n",
    "from requests import get, post, put\n",
    "import os\n",
    "from pathlib import Path\n",
    "from csv import reader as csvreader\n",
    "from IPython import display as Display\n",
    "from pprint import pprint\n",
    "from stringcase import snakecase, titlecase\n",
    "from collections import namedtuple\n",
    "from pandas import *\n",
    "from datetime import datetime\n",
    "from jinja2 import Environment, FileSystemLoader, select_autoescape"
   ]
  },
  {
   "cell_type": "markdown",
   "metadata": {},
   "source": [
    "#### Inspect ElementProperties as reference"
   ]
  },
  {
   "cell_type": "code",
   "execution_count": 403,
   "metadata": {},
   "outputs": [
    {
     "data": {
      "text/plain": [
       "[('extension',\n",
       "  'extension',\n",
       "  fhirclient.models.extension.Extension,\n",
       "  True,\n",
       "  None,\n",
       "  False),\n",
       " ('id', 'id', str, False, None, False),\n",
       " ('modifierExtension',\n",
       "  'modifierExtension',\n",
       "  fhirclient.models.extension.Extension,\n",
       "  True,\n",
       "  None,\n",
       "  False),\n",
       " ('conditionalCreate', 'conditionalCreate', bool, False, None, False),\n",
       " ('conditionalDelete', 'conditionalDelete', str, False, None, False),\n",
       " ('conditionalRead', 'conditionalRead', str, False, None, False),\n",
       " ('conditionalUpdate', 'conditionalUpdate', bool, False, None, False),\n",
       " ('documentation', 'documentation', str, False, None, False),\n",
       " ('interaction',\n",
       "  'interaction',\n",
       "  fhirclient.models.capabilitystatement.CapabilityStatementRestResourceInteraction,\n",
       "  True,\n",
       "  None,\n",
       "  True),\n",
       " ('profile',\n",
       "  'profile',\n",
       "  fhirclient.models.fhirreference.FHIRReference,\n",
       "  False,\n",
       "  None,\n",
       "  False),\n",
       " ('readHistory', 'readHistory', bool, False, None, False),\n",
       " ('referencePolicy', 'referencePolicy', str, True, None, False),\n",
       " ('searchInclude', 'searchInclude', str, True, None, False),\n",
       " ('searchParam',\n",
       "  'searchParam',\n",
       "  fhirclient.models.capabilitystatement.CapabilityStatementRestResourceSearchParam,\n",
       "  True,\n",
       "  None,\n",
       "  False),\n",
       " ('searchRevInclude', 'searchRevInclude', str, True, None, False),\n",
       " ('type', 'type', str, False, None, True),\n",
       " ('updateCreate', 'updateCreate', bool, False, None, False),\n",
       " ('versioning', 'versioning', str, False, None, False)]"
      ]
     },
     "execution_count": 403,
     "metadata": {},
     "output_type": "execute_result"
    }
   ],
   "source": [
    "CS.CapabilityStatementRestResource().elementProperties()"
   ]
  },
  {
   "cell_type": "markdown",
   "metadata": {},
   "source": [
    "####  Assign Global Variables\n",
    "\n",
    "\n",
    "Here is where we assign all the global variables for this example such as the local paths for file input and output"
   ]
  },
  {
   "cell_type": "code",
   "execution_count": 404,
   "metadata": {},
   "outputs": [],
   "source": [
    "md_templates = ['templ_1.j2']\n",
    "\n",
    "env = Environment(\n",
    "    loader=FileSystemLoader(searchpath = in_path),\n",
    "    autoescape=select_autoescape(['html','xml','xhtml','j2','md'])\n",
    "    )\n",
    "\n",
    "fhir_term_server = 'http://test.fhir.org/r3'\n",
    "fhir_test_server = 'http://test.fhir.org/r3'\n",
    "\n",
    "headers = {\n",
    "'Accept':'application/fhir+json',\n",
    "'Content-Type':'application/fhir+json'\n",
    "}\n",
    "\n",
    "fhir_base_url = 'http://hl7.org/fhir/'\n",
    "\n",
    "base_id = \"argo-q\"\n",
    "\n",
    "canon = \"http://fhir.org/guides/argonaut-questionnaire/\"\n",
    "\n",
    "pre = \"Argonaut\"\n",
    "\n",
    "publisher = 'The Argonaut Project'\n",
    "\n",
    "publisher_endpoint = dict(\n",
    "                        system = 'url',\n",
    "                        value = 'https://github.com/argonautproject/questionnaire/issues'\n",
    "                        )\n",
    "\n",
    "f_jurisdiction =  CC.CodeableConcept({\n",
    "      \"coding\" : [\n",
    "        {\n",
    "          \"system\" : \"urn:iso:std:iso:3166\",\n",
    "          \"code\" : \"US\"\n",
    "        }\n",
    "      ]\n",
    "    })\n",
    "\n",
    "conf_url = 'http://hl7.org/fhir/StructureDefinition/capabilitystatement-expectation'\n",
    "\n",
    "none_list = ['', ' ', 'none', 'n/a', 'N/A', 'N', 'False']\n",
    "\n",
    "sep_list = (',', ';', ' ', ', ', '; ')\n",
    "\n",
    "f_now = D.FHIRDate(f'{datetime.now().isoformat()}Z')"
   ]
  },
  {
   "cell_type": "markdown",
   "metadata": {},
   "source": [
    "#### Conformance Extension"
   ]
  },
  {
   "cell_type": "code",
   "execution_count": 405,
   "metadata": {},
   "outputs": [],
   "source": [
    "def get_conf(conf='MAY'):\n",
    "    return [X.Extension(dict(\n",
    "        url = conf_url,\n",
    "        valueCode = conf\n",
    "        ))]"
   ]
  },
  {
   "cell_type": "markdown",
   "metadata": {},
   "source": [
    "### validate"
   ]
  },
  {
   "cell_type": "code",
   "execution_count": 406,
   "metadata": {},
   "outputs": [],
   "source": [
    "# *********************** validate Resource ********************************\n",
    "\n",
    "def validate(r):\n",
    "    fhir_test_server = 'http://fhirtest.uhn.ca/baseDstu3'\n",
    "    #fhir_test_server = 'http://test.fhir.org/r3'\n",
    "\n",
    "    headers = {\n",
    "    'Accept':'application/fhir+json',\n",
    "    'Content-Type':'application/fhir+json'\n",
    "    }\n",
    "\n",
    "    # profile = 'http://hl7.org/fhir/us/core/StructureDefinition/us-core-patient' # The official URL for this profile is: http://hl7.org/fhir/us/core/StructureDefinition/us-core-patient\n",
    " \n",
    "    params = dict(\n",
    "      # profile = 'http://hl7.org/fhir/us/core/StructureDefinition/us-core-patient' # The official URL for this profile is: http://hl7.org/fhir/us/core/StructureDefinition/us-core-patient\n",
    "        )\n",
    "    \n",
    "    #   r = requests.post('https://httpbin.org/post', data = {'key':'value'})\n",
    "    r = post(f'{fhir_test_server}/Questionnaire/$validate', params = params, headers = headers, data = dumps(r.as_json()))\n",
    "    # return r.status_code\n",
    "    # view  output\n",
    "    # return (r.json()[\"text\"][\"div\"])\n",
    "    return r"
   ]
  },
  {
   "cell_type": "markdown",
   "metadata": {},
   "source": [
    "### Write to File"
   ]
  },
  {
   "cell_type": "code",
   "execution_count": 407,
   "metadata": {},
   "outputs": [],
   "source": [
    " def write_file(name, data): # write file\n",
    "    # out_path = ''\n",
    "    out_path = '//ERICS-AIR-2/ehaas/Documents/FHIR/Argo-Questionnaire/source/resources/'\n",
    "    with open(f'{Path(out_path)}/{name}.json', 'w') as f:\n",
    "        f.write(data)"
   ]
  },
  {
   "cell_type": "markdown",
   "metadata": {},
   "source": [
    "### Get Search Parameter input data"
   ]
  },
  {
   "cell_type": "markdown",
   "metadata": {},
   "source": [
    "#### first the meta sheet"
   ]
  },
  {
   "cell_type": "code",
   "execution_count": 408,
   "metadata": {},
   "outputs": [
    {
     "data": {
      "text/html": [
       "<div>\n",
       "<style scoped>\n",
       "    .dataframe tbody tr th:only-of-type {\n",
       "        vertical-align: middle;\n",
       "    }\n",
       "\n",
       "    .dataframe tbody tr th {\n",
       "        vertical-align: top;\n",
       "    }\n",
       "\n",
       "    .dataframe thead th {\n",
       "        text-align: right;\n",
       "    }\n",
       "</style>\n",
       "<table border=\"1\" class=\"dataframe\">\n",
       "  <thead>\n",
       "    <tr style=\"text-align: right;\">\n",
       "      <th></th>\n",
       "      <th>Element</th>\n",
       "      <th>Value</th>\n",
       "    </tr>\n",
       "  </thead>\n",
       "  <tbody>\n",
       "    <tr>\n",
       "      <th>0</th>\n",
       "      <td>id</td>\n",
       "      <td>assessmentbank</td>\n",
       "    </tr>\n",
       "    <tr>\n",
       "      <th>1</th>\n",
       "      <td>description</td>\n",
       "      <td>This section outlines conformance requirements...</td>\n",
       "    </tr>\n",
       "    <tr>\n",
       "      <th>2</th>\n",
       "      <td>ig</td>\n",
       "      <td>http://fhir.org/guides/argonaut-questionnaire/...</td>\n",
       "    </tr>\n",
       "    <tr>\n",
       "      <th>3</th>\n",
       "      <td>mode</td>\n",
       "      <td>server</td>\n",
       "    </tr>\n",
       "    <tr>\n",
       "      <th>4</th>\n",
       "      <td>documentation</td>\n",
       "      <td>The Argonaut questionnaire Assessment-Bank **S...</td>\n",
       "    </tr>\n",
       "    <tr>\n",
       "      <th>5</th>\n",
       "      <td>security</td>\n",
       "      <td>For general security consideration refer to th...</td>\n",
       "    </tr>\n",
       "  </tbody>\n",
       "</table>\n",
       "</div>"
      ],
      "text/plain": [
       "         Element                                              Value\n",
       "0             id                                     assessmentbank\n",
       "1    description  This section outlines conformance requirements...\n",
       "2             ig  http://fhir.org/guides/argonaut-questionnaire/...\n",
       "3           mode                                             server\n",
       "4  documentation  The Argonaut questionnaire Assessment-Bank **S...\n",
       "5       security  For general security consideration refer to th..."
      ]
     },
     "execution_count": 408,
     "metadata": {},
     "output_type": "execute_result"
    }
   ],
   "source": [
    "#in_path = Path('/Users/ehaas/Documents/FHIR/pyfhir/test/')\n",
    "in_path =''\n",
    "#out_path = '/Users/ehaas/Documents/FHIR/pyfhir/test/'\n",
    "out_path=''\n",
    "#out_path = Path(\"C:/Users/Eric/Documents/Jan_2019_FHIR_Experience\")\n",
    "\n",
    "in_file = ['AssBank']\n",
    "\n",
    "xls = ExcelFile(f'{in_path}{in_file[0]}.xlsx')\n",
    "df = read_excel(xls,'meta',na_filter = False)\n",
    "\n",
    "\n",
    "df"
   ]
  },
  {
   "cell_type": "markdown",
   "metadata": {},
   "source": [
    "#### Create NamedTuple from df to use dot notation"
   ]
  },
  {
   "cell_type": "code",
   "execution_count": 409,
   "metadata": {},
   "outputs": [
    {
     "data": {
      "text/plain": [
       "'assessmentbank'"
      ]
     },
     "execution_count": 409,
     "metadata": {},
     "output_type": "execute_result"
    }
   ],
   "source": [
    "d = dict(zip(df.Element, df.Value))\n",
    "meta = namedtuple(\"Meta\", d.keys())(*d.values())      \n",
    "         \n",
    "meta.id"
   ]
  },
  {
   "cell_type": "markdown",
   "metadata": {},
   "source": [
    "### Create CS instance"
   ]
  },
  {
   "cell_type": "code",
   "execution_count": 410,
   "metadata": {},
   "outputs": [
    {
     "data": {
      "text/plain": [
       "{'id': 'assessmentbank',\n",
       " 'acceptUnknown': 'both',\n",
       " 'contact': [{'telecom': [{'system': 'url',\n",
       "     'value': 'https://github.com/argonautproject/questionnaire/issues'}]}],\n",
       " 'date': '2019-02-19T17:31:53.088515Z',\n",
       " 'description': 'This section outlines conformance requirements for the Argonaut Questionnaire Assessment-Bank Server which is responsible for storing Questionnaires and providing responses to the requests submitted by the  Form Author/Editor and Provider EHRs. The Argonaut Questionnaire Profile and the various interactions outlined in this guide are the RESTful artifacts and interactions that need to be supported. Note that the Argonaut Profiles identify the structural constraints, terminology bindings and invariants and the individual Argonaut SearchParameter resources define the definitions, comparators, modifiers and usage constraints.',\n",
       " 'experimental': False,\n",
       " 'fhirVersion': '3.0.1',\n",
       " 'format': ['application/fhir+xml', 'application/fhir+json'],\n",
       " 'implementationGuide': ['http://fhir.org/guides/argonaut-questionnaire/ImplementationGuide/ig',\n",
       "  'http://hl7.org/fhir/us/core/ImplementationGuide/ig'],\n",
       " 'jurisdiction': [{'coding': [{'code': 'US',\n",
       "     'system': 'urn:iso:std:iso:3166'}]}],\n",
       " 'kind': 'requirements',\n",
       " 'name': 'assessmentbank',\n",
       " 'patchFormat': ['application/json-patch+json'],\n",
       " 'publisher': 'The Argonaut Project',\n",
       " 'rest': [{'documentation': 'The Argonaut questionnaire Assessment-Bank **SHALL**:\\n\\n1. Implement the RESTful behavior according to the FHIR specification including returning the appropriate response classes as described in the FHIR specification for [FHIR RESTful API](http://hl7.org/fhir/STU3/http.html).\\n1. Support json resource formats for all Argonaut Questionnaire interactions.\\n1. Declare a CapabilityStatement identifying the list of profiles, operations, search parameter supported.\\n\\nThe Argonaut questionnaire Assessment-Bank **SHOULD**:\\n\\n1. Support xml resource formats for all Argonaut questionnaire interactions.',\n",
       "   'mode': 'server',\n",
       "   'security': {'description': \"For general security consideration refer to the [Security and Privacy Considerations](https://argonautproject.github.io/questionnaire/index.html#security-and-privacy-considerations) in the US Core Implementation Guide.'\"}}],\n",
       " 'status': 'active',\n",
       " 'title': 'Argonaut Assessmentbank CapabilityStatement',\n",
       " 'url': 'http://fhir.org/guides/argonaut-questionnaire/assessmentbank',\n",
       " 'version': '0.0.0',\n",
       " 'resourceType': 'CapabilityStatement'}"
      ]
     },
     "execution_count": 410,
     "metadata": {},
     "output_type": "execute_result"
    }
   ],
   "source": [
    "cs = CS.CapabilityStatement()\n",
    "cs.id = meta.id\n",
    "cs.url = f'{canon}{meta.id}'\n",
    "cs.version = '0.0.0'  # placeholder changed by build\n",
    "cs.name = snakecase(meta.id)\n",
    "cs.title = f'{pre} {titlecase(meta.id)} {cs.resource_type}'\n",
    "cs.status = 'active'\n",
    "cs.experimental = False\n",
    "cs.date = f_now  # as FHIRDate\n",
    "cs.publisher = publisher\n",
    "cs.contact = [CD.ContactDetail( {\"telecom\" : [ publisher_endpoint ] })]\n",
    "cs.description = meta.description\n",
    "cs.jurisdiction = [f_jurisdiction]\n",
    "cs.kind = 'requirements'\n",
    "cs.fhirVersion = '3.0.1'\n",
    "cs.acceptUnknown = 'both'\n",
    "cs.format = [\n",
    "    \"application/fhir+xml\",\n",
    "    \"application/fhir+json\"\n",
    "  ]\n",
    "cs.patchFormat = [\n",
    "    \"application/json-patch+json\",\n",
    "  ]\n",
    "cs.implementationGuide = meta.ig.split(\",\")\n",
    "rest = CS.CapabilityStatementRest(dict(\n",
    "    mode = meta.mode,\n",
    "    documentation = meta.documentation,\n",
    "    security = dict(\n",
    "        description = meta.security\n",
    "        )\n",
    "    ))\n",
    "cs.rest = [rest]\n",
    "\n",
    "\n",
    "\n",
    "\n",
    "cs.as_json()"
   ]
  },
  {
   "cell_type": "markdown",
   "metadata": {},
   "source": [
    "#### Then the list of IG profiles ( for STU3 )"
   ]
  },
  {
   "cell_type": "code",
   "execution_count": 411,
   "metadata": {},
   "outputs": [
    {
     "name": "stdout",
     "output_type": "stream",
     "text": [
      "http://fhir.org/guides/argonaut-questionnaire/StructureDefinition/argo-questionnaire-valueset SHALL\n",
      "http://fhir.org/guides/argonaut-questionnaire/StructureDefinition/argo-questionnaire SHALL\n",
      "http://fhir.org/guides/argonaut-questionnaire/StructureDefinition/argo-questionnaireresponse SHALL\n",
      "http://fhir.org/guides/argonaut-questionnaire/StructureDefinition/extension-multipleAnd SHALL\n",
      "http://fhir.org/guides/argonaut-questionnaire/StructureDefinition/extension-multipleOr SHALL\n",
      "http://fhir.org/guides/argonaut-questionnaire/StructureDefinition/extension-itemOrder SHALL\n",
      "http://fhir.org/guides/argonaut-questionnaire/StructureDefinition/extension-responsePeriod SHALL\n",
      "http://fhir.org/guides/argonaut-questionnaire/StructureDefinition/extension-timeLimit SHALL\n"
     ]
    },
    {
     "data": {
      "text/plain": [
       "{'id': 'assessmentbank',\n",
       " 'acceptUnknown': 'both',\n",
       " 'contact': [{'telecom': [{'system': 'url',\n",
       "     'value': 'https://github.com/argonautproject/questionnaire/issues'}]}],\n",
       " 'date': '2019-02-19T17:31:53.088515Z',\n",
       " 'description': 'This section outlines conformance requirements for the Argonaut Questionnaire Assessment-Bank Server which is responsible for storing Questionnaires and providing responses to the requests submitted by the  Form Author/Editor and Provider EHRs. The Argonaut Questionnaire Profile and the various interactions outlined in this guide are the RESTful artifacts and interactions that need to be supported. Note that the Argonaut Profiles identify the structural constraints, terminology bindings and invariants and the individual Argonaut SearchParameter resources define the definitions, comparators, modifiers and usage constraints.',\n",
       " 'experimental': False,\n",
       " 'fhirVersion': '3.0.1',\n",
       " 'format': ['application/fhir+xml', 'application/fhir+json'],\n",
       " 'implementationGuide': ['http://fhir.org/guides/argonaut-questionnaire/ImplementationGuide/ig',\n",
       "  'http://hl7.org/fhir/us/core/ImplementationGuide/ig'],\n",
       " 'jurisdiction': [{'coding': [{'code': 'US',\n",
       "     'system': 'urn:iso:std:iso:3166'}]}],\n",
       " 'kind': 'requirements',\n",
       " 'name': 'assessmentbank',\n",
       " 'patchFormat': ['application/json-patch+json'],\n",
       " 'profile': [{'extension': [{'url': 'http://hl7.org/fhir/StructureDefinition/capabilitystatement-expectation',\n",
       "     'valueCode': 'SHALL'}],\n",
       "   'reference': 'http://fhir.org/guides/argonaut-questionnaire/StructureDefinition/argo-questionnaire-valueset'},\n",
       "  {'extension': [{'url': 'http://hl7.org/fhir/StructureDefinition/capabilitystatement-expectation',\n",
       "     'valueCode': 'SHALL'}],\n",
       "   'reference': 'http://fhir.org/guides/argonaut-questionnaire/StructureDefinition/argo-questionnaire'},\n",
       "  {'extension': [{'url': 'http://hl7.org/fhir/StructureDefinition/capabilitystatement-expectation',\n",
       "     'valueCode': 'SHALL'}],\n",
       "   'reference': 'http://fhir.org/guides/argonaut-questionnaire/StructureDefinition/argo-questionnaireresponse'},\n",
       "  {'extension': [{'url': 'http://hl7.org/fhir/StructureDefinition/capabilitystatement-expectation',\n",
       "     'valueCode': 'SHALL'}],\n",
       "   'reference': 'http://fhir.org/guides/argonaut-questionnaire/StructureDefinition/extension-multipleAnd'},\n",
       "  {'extension': [{'url': 'http://hl7.org/fhir/StructureDefinition/capabilitystatement-expectation',\n",
       "     'valueCode': 'SHALL'}],\n",
       "   'reference': 'http://fhir.org/guides/argonaut-questionnaire/StructureDefinition/extension-multipleOr'},\n",
       "  {'extension': [{'url': 'http://hl7.org/fhir/StructureDefinition/capabilitystatement-expectation',\n",
       "     'valueCode': 'SHALL'}],\n",
       "   'reference': 'http://fhir.org/guides/argonaut-questionnaire/StructureDefinition/extension-itemOrder'},\n",
       "  {'extension': [{'url': 'http://hl7.org/fhir/StructureDefinition/capabilitystatement-expectation',\n",
       "     'valueCode': 'SHALL'}],\n",
       "   'reference': 'http://fhir.org/guides/argonaut-questionnaire/StructureDefinition/extension-responsePeriod'},\n",
       "  {'extension': [{'url': 'http://hl7.org/fhir/StructureDefinition/capabilitystatement-expectation',\n",
       "     'valueCode': 'SHALL'}],\n",
       "   'reference': 'http://fhir.org/guides/argonaut-questionnaire/StructureDefinition/extension-timeLimit'}],\n",
       " 'publisher': 'The Argonaut Project',\n",
       " 'rest': [{'documentation': 'The Argonaut questionnaire Assessment-Bank **SHALL**:\\n\\n1. Implement the RESTful behavior according to the FHIR specification including returning the appropriate response classes as described in the FHIR specification for [FHIR RESTful API](http://hl7.org/fhir/STU3/http.html).\\n1. Support json resource formats for all Argonaut Questionnaire interactions.\\n1. Declare a CapabilityStatement identifying the list of profiles, operations, search parameter supported.\\n\\nThe Argonaut questionnaire Assessment-Bank **SHOULD**:\\n\\n1. Support xml resource formats for all Argonaut questionnaire interactions.',\n",
       "   'mode': 'server',\n",
       "   'security': {'description': \"For general security consideration refer to the [Security and Privacy Considerations](https://argonautproject.github.io/questionnaire/index.html#security-and-privacy-considerations) in the US Core Implementation Guide.'\"}}],\n",
       " 'status': 'active',\n",
       " 'title': 'Argonaut Assessmentbank CapabilityStatement',\n",
       " 'url': 'http://fhir.org/guides/argonaut-questionnaire/assessmentbank',\n",
       " 'version': '0.0.0',\n",
       " 'resourceType': 'CapabilityStatement'}"
      ]
     },
     "execution_count": 411,
     "metadata": {},
     "output_type": "execute_result"
    }
   ],
   "source": [
    "xls = ExcelFile(f'{in_path}{in_file[0]}.xlsx')\n",
    "df = read_excel(xls,'profiles',na_filter = False)\n",
    "\n",
    "cs.profile = [] \n",
    "for p in df.itertuples(index=True):\n",
    "    print(p.Profile, p.Conformance)\n",
    "    ref = FR.FHIRReference(dict(reference = p.Profile))\n",
    "    ref.extension = get_conf(p.Conformance)\n",
    "    cs.profile.append(ref)\n",
    "                                           \n",
    "    \n",
    "cs.as_json()"
   ]
  },
  {
   "cell_type": "markdown",
   "metadata": {},
   "source": [
    "\n",
    "#### add Resources"
   ]
  },
  {
   "cell_type": "code",
   "execution_count": 412,
   "metadata": {},
   "outputs": [
    {
     "name": "stdout",
     "output_type": "stream",
     "text": [
      "http://hl7.org/fhir/SearchParameter/Resource-_id\n",
      "http://hl7.org/fhir/SearchParameter/Questionnaire-url\n",
      "http://fhir.org/guides/argonaut-questionnaire/SearchParameter/Questionnaire-status\n",
      "http://fhir.org/guides/argonaut-questionnaire/SearchParameter/Questionnaire-title\n",
      "http://fhir.org/guides/argonaut-questionnaire/SearchParameter/Questionnaire-publisher\n",
      "http://fhir.org/guides/argonaut-questionnaire/SearchParameter/Questionnaire-version\n",
      "http://fhir.org/guides/argonaut-questionnaire/SearchParameter/Questionnaire-context-type-value\n",
      "{\n",
      "   \"id\": \"assessmentbank\",\n",
      "   \"acceptUnknown\": \"both\",\n",
      "   \"contact\": [\n",
      "      {\n",
      "         \"telecom\": [\n",
      "            {\n",
      "               \"system\": \"url\",\n",
      "               \"value\": \"https://github.com/argonautproject/questionnaire/issues\"\n",
      "            }\n",
      "         ]\n",
      "      }\n",
      "   ],\n",
      "   \"date\": \"2019-02-19T17:31:53.088515Z\",\n",
      "   \"description\": \"This section outlines conformance requirements for the Argonaut Questionnaire Assessment-Bank Server which is responsible for storing Questionnaires and providing responses to the requests submitted by the  Form Author/Editor and Provider EHRs. The Argonaut Questionnaire Profile and the various interactions outlined in this guide are the RESTful artifacts and interactions that need to be supported. Note that the Argonaut Profiles identify the structural constraints, terminology bindings and invariants and the individual Argonaut SearchParameter resources define the definitions, comparators, modifiers and usage constraints.\",\n",
      "   \"experimental\": false,\n",
      "   \"fhirVersion\": \"3.0.1\",\n",
      "   \"format\": [\n",
      "      \"application/fhir+xml\",\n",
      "      \"application/fhir+json\"\n",
      "   ],\n",
      "   \"implementationGuide\": [\n",
      "      \"http://fhir.org/guides/argonaut-questionnaire/ImplementationGuide/ig\",\n",
      "      \"http://hl7.org/fhir/us/core/ImplementationGuide/ig\"\n",
      "   ],\n",
      "   \"jurisdiction\": [\n",
      "      {\n",
      "         \"coding\": [\n",
      "            {\n",
      "               \"code\": \"US\",\n",
      "               \"system\": \"urn:iso:std:iso:3166\"\n",
      "            }\n",
      "         ]\n",
      "      }\n",
      "   ],\n",
      "   \"kind\": \"requirements\",\n",
      "   \"name\": \"assessmentbank\",\n",
      "   \"patchFormat\": [\n",
      "      \"application/json-patch+json\"\n",
      "   ],\n",
      "   \"profile\": [\n",
      "      {\n",
      "         \"extension\": [\n",
      "            {\n",
      "               \"url\": \"http://hl7.org/fhir/StructureDefinition/capabilitystatement-expectation\",\n",
      "               \"valueCode\": \"SHALL\"\n",
      "            }\n",
      "         ],\n",
      "         \"reference\": \"http://fhir.org/guides/argonaut-questionnaire/StructureDefinition/argo-questionnaire-valueset\"\n",
      "      },\n",
      "      {\n",
      "         \"extension\": [\n",
      "            {\n",
      "               \"url\": \"http://hl7.org/fhir/StructureDefinition/capabilitystatement-expectation\",\n",
      "               \"valueCode\": \"SHALL\"\n",
      "            }\n",
      "         ],\n",
      "         \"reference\": \"http://fhir.org/guides/argonaut-questionnaire/StructureDefinition/argo-questionnaire\"\n",
      "      },\n",
      "      {\n",
      "         \"extension\": [\n",
      "            {\n",
      "               \"url\": \"http://hl7.org/fhir/StructureDefinition/capabilitystatement-expectation\",\n",
      "               \"valueCode\": \"SHALL\"\n",
      "            }\n",
      "         ],\n",
      "         \"reference\": \"http://fhir.org/guides/argonaut-questionnaire/StructureDefinition/argo-questionnaireresponse\"\n",
      "      },\n",
      "      {\n",
      "         \"extension\": [\n",
      "            {\n",
      "               \"url\": \"http://hl7.org/fhir/StructureDefinition/capabilitystatement-expectation\",\n",
      "               \"valueCode\": \"SHALL\"\n",
      "            }\n",
      "         ],\n",
      "         \"reference\": \"http://fhir.org/guides/argonaut-questionnaire/StructureDefinition/extension-multipleAnd\"\n",
      "      },\n",
      "      {\n",
      "         \"extension\": [\n",
      "            {\n",
      "               \"url\": \"http://hl7.org/fhir/StructureDefinition/capabilitystatement-expectation\",\n",
      "               \"valueCode\": \"SHALL\"\n",
      "            }\n",
      "         ],\n",
      "         \"reference\": \"http://fhir.org/guides/argonaut-questionnaire/StructureDefinition/extension-multipleOr\"\n",
      "      },\n",
      "      {\n",
      "         \"extension\": [\n",
      "            {\n",
      "               \"url\": \"http://hl7.org/fhir/StructureDefinition/capabilitystatement-expectation\",\n",
      "               \"valueCode\": \"SHALL\"\n",
      "            }\n",
      "         ],\n",
      "         \"reference\": \"http://fhir.org/guides/argonaut-questionnaire/StructureDefinition/extension-itemOrder\"\n",
      "      },\n",
      "      {\n",
      "         \"extension\": [\n",
      "            {\n",
      "               \"url\": \"http://hl7.org/fhir/StructureDefinition/capabilitystatement-expectation\",\n",
      "               \"valueCode\": \"SHALL\"\n",
      "            }\n",
      "         ],\n",
      "         \"reference\": \"http://fhir.org/guides/argonaut-questionnaire/StructureDefinition/extension-responsePeriod\"\n",
      "      },\n",
      "      {\n",
      "         \"extension\": [\n",
      "            {\n",
      "               \"url\": \"http://hl7.org/fhir/StructureDefinition/capabilitystatement-expectation\",\n",
      "               \"valueCode\": \"SHALL\"\n",
      "            }\n",
      "         ],\n",
      "         \"reference\": \"http://fhir.org/guides/argonaut-questionnaire/StructureDefinition/extension-timeLimit\"\n",
      "      }\n",
      "   ],\n",
      "   \"publisher\": \"The Argonaut Project\",\n",
      "   \"rest\": [\n",
      "      {\n",
      "         \"documentation\": \"The Argonaut questionnaire Assessment-Bank **SHALL**:\\n\\n1. Implement the RESTful behavior according to the FHIR specification including returning the appropriate response classes as described in the FHIR specification for [FHIR RESTful API](http://hl7.org/fhir/STU3/http.html).\\n1. Support json resource formats for all Argonaut Questionnaire interactions.\\n1. Declare a CapabilityStatement identifying the list of profiles, operations, search parameter supported.\\n\\nThe Argonaut questionnaire Assessment-Bank **SHOULD**:\\n\\n1. Support xml resource formats for all Argonaut questionnaire interactions.\",\n",
      "         \"mode\": \"server\",\n",
      "         \"resource\": [\n",
      "            {\n",
      "               \"extension\": [\n",
      "                  {\n",
      "                     \"url\": \"http://hl7.org/fhir/StructureDefinition/capabilitystatement-expectation\",\n",
      "                     \"valueCode\": \"SHALL\"\n",
      "                  }\n",
      "               ],\n",
      "               \"documentation\": \"\\u2026todo\\u2026\",\n",
      "               \"interaction\": [\n",
      "                  {\n",
      "                     \"extension\": [\n",
      "                        {\n",
      "                           \"url\": \"http://hl7.org/fhir/StructureDefinition/capabilitystatement-expectation\",\n",
      "                           \"valueCode\": \"SHALL\"\n",
      "                        }\n",
      "                     ],\n",
      "                     \"code\": \"create\"\n",
      "                  },\n",
      "                  {\n",
      "                     \"extension\": [\n",
      "                        {\n",
      "                           \"url\": \"http://hl7.org/fhir/StructureDefinition/capabilitystatement-expectation\",\n",
      "                           \"valueCode\": \"SHALL\"\n",
      "                        }\n",
      "                     ],\n",
      "                     \"code\": \"search-type\"\n",
      "                  },\n",
      "                  {\n",
      "                     \"extension\": [\n",
      "                        {\n",
      "                           \"url\": \"http://hl7.org/fhir/StructureDefinition/capabilitystatement-expectation\",\n",
      "                           \"valueCode\": \"SHALL\"\n",
      "                        }\n",
      "                     ],\n",
      "                     \"code\": \"read\"\n",
      "                  },\n",
      "                  {\n",
      "                     \"extension\": [\n",
      "                        {\n",
      "                           \"url\": \"http://hl7.org/fhir/StructureDefinition/capabilitystatement-expectation\",\n",
      "                           \"valueCode\": \"SHALL\"\n",
      "                        }\n",
      "                     ],\n",
      "                     \"code\": \"vread\"\n",
      "                  },\n",
      "                  {\n",
      "                     \"extension\": [\n",
      "                        {\n",
      "                           \"url\": \"http://hl7.org/fhir/StructureDefinition/capabilitystatement-expectation\",\n",
      "                           \"valueCode\": \"SHOULD\"\n",
      "                        }\n",
      "                     ],\n",
      "                     \"code\": \"update\"\n",
      "                  },\n",
      "                  {\n",
      "                     \"extension\": [\n",
      "                        {\n",
      "                           \"url\": \"http://hl7.org/fhir/StructureDefinition/capabilitystatement-expectation\",\n",
      "                           \"valueCode\": \"MAY\"\n",
      "                        }\n",
      "                     ],\n",
      "                     \"code\": \"patch\"\n",
      "                  },\n",
      "                  {\n",
      "                     \"extension\": [\n",
      "                        {\n",
      "                           \"url\": \"http://hl7.org/fhir/StructureDefinition/capabilitystatement-expectation\",\n",
      "                           \"valueCode\": \"SHALL\"\n",
      "                        }\n",
      "                     ],\n",
      "                     \"code\": \"delete\"\n",
      "                  },\n",
      "                  {\n",
      "                     \"extension\": [\n",
      "                        {\n",
      "                           \"url\": \"http://hl7.org/fhir/StructureDefinition/capabilitystatement-expectation\",\n",
      "                           \"valueCode\": \"SHALL\"\n",
      "                        }\n",
      "                     ],\n",
      "                     \"code\": \"history-instance\"\n",
      "                  },\n",
      "                  {\n",
      "                     \"extension\": [\n",
      "                        {\n",
      "                           \"url\": \"http://hl7.org/fhir/StructureDefinition/capabilitystatement-expectation\",\n",
      "                           \"valueCode\": \"MAY\"\n",
      "                        }\n",
      "                     ],\n",
      "                     \"code\": \"history-type\"\n",
      "                  }\n",
      "               ],\n",
      "               \"readHistory\": false,\n",
      "               \"referencePolicy\": [\n",
      "                  \"resolves\"\n",
      "               ],\n",
      "               \"searchParam\": [\n",
      "                  {\n",
      "                     \"extension\": [\n",
      "                        {\n",
      "                           \"url\": \"http://hl7.org/fhir/StructureDefinition/capabilitystatement-expectation\",\n",
      "                           \"valueCode\": \"SHALL\"\n",
      "                        }\n",
      "                     ],\n",
      "                     \"definition\": \"http://hl7.org/fhir/SearchParameter/Resource-_id\",\n",
      "                     \"name\": \"_id\",\n",
      "                     \"type\": \"token\"\n",
      "                  },\n",
      "                  {\n",
      "                     \"extension\": [\n",
      "                        {\n",
      "                           \"url\": \"http://hl7.org/fhir/StructureDefinition/capabilitystatement-expectation\",\n",
      "                           \"valueCode\": \"SHALL\"\n",
      "                        }\n",
      "                     ],\n",
      "                     \"definition\": \"http://hl7.org/fhir/SearchParameter/Questionnaire-url\",\n",
      "                     \"name\": \"url\",\n",
      "                     \"type\": \"uri\"\n",
      "                  },\n",
      "                  {\n",
      "                     \"extension\": [\n",
      "                        {\n",
      "                           \"url\": \"http://hl7.org/fhir/StructureDefinition/capabilitystatement-expectation\",\n",
      "                           \"valueCode\": \"SHALL\"\n",
      "                        }\n",
      "                     ],\n",
      "                     \"definition\": \"http://fhir.org/guides/argonaut-questionnaire/SearchParameter/Questionnaire-status\",\n",
      "                     \"name\": \"status\",\n",
      "                     \"type\": \"token\"\n",
      "                  },\n",
      "                  {\n",
      "                     \"extension\": [\n",
      "                        {\n",
      "                           \"url\": \"http://hl7.org/fhir/StructureDefinition/capabilitystatement-expectation\",\n",
      "                           \"valueCode\": \"SHALL\"\n",
      "                        }\n",
      "                     ],\n",
      "                     \"definition\": \"http://fhir.org/guides/argonaut-questionnaire/SearchParameter/Questionnaire-title\",\n",
      "                     \"name\": \"title\",\n",
      "                     \"type\": \"string\"\n",
      "                  },\n",
      "                  {\n",
      "                     \"extension\": [\n",
      "                        {\n",
      "                           \"url\": \"http://hl7.org/fhir/StructureDefinition/capabilitystatement-expectation\",\n",
      "                           \"valueCode\": \"SHALL\"\n",
      "                        }\n",
      "                     ],\n",
      "                     \"definition\": \"http://fhir.org/guides/argonaut-questionnaire/SearchParameter/Questionnaire-publisher\",\n",
      "                     \"name\": \"publisher\",\n",
      "                     \"type\": \"string\"\n",
      "                  },\n",
      "                  {\n",
      "                     \"extension\": [\n",
      "                        {\n",
      "                           \"url\": \"http://hl7.org/fhir/StructureDefinition/capabilitystatement-expectation\",\n",
      "                           \"valueCode\": \"SHOULD\"\n",
      "                        }\n",
      "                     ],\n",
      "                     \"definition\": \"http://fhir.org/guides/argonaut-questionnaire/SearchParameter/Questionnaire-version\",\n",
      "                     \"name\": \"version\",\n",
      "                     \"type\": \"token\"\n",
      "                  },\n",
      "                  {\n",
      "                     \"extension\": [\n",
      "                        {\n",
      "                           \"url\": \"http://hl7.org/fhir/StructureDefinition/capabilitystatement-expectation\",\n",
      "                           \"valueCode\": \"SHOULD\"\n",
      "                        }\n",
      "                     ],\n",
      "                     \"definition\": \"http://fhir.org/guides/argonaut-questionnaire/SearchParameter/Questionnaire-context-type-value\",\n",
      "                     \"name\": \"context-type-value\",\n",
      "                     \"type\": \"composite\"\n",
      "                  }\n",
      "               ],\n",
      "               \"type\": \"Questionnaire\",\n",
      "               \"updateCreate\": false,\n",
      "               \"versioning\": \"versioned\"\n",
      "            }\n",
      "         ],\n",
      "         \"security\": {\n",
      "            \"description\": \"For general security consideration refer to the [Security and Privacy Considerations](https://argonautproject.github.io/questionnaire/index.html#security-and-privacy-considerations) in the US Core Implementation Guide.'\"\n",
      "         }\n",
      "      }\n",
      "   ],\n",
      "   \"status\": \"active\",\n",
      "   \"title\": \"Argonaut Assessmentbank CapabilityStatement\",\n",
      "   \"url\": \"http://fhir.org/guides/argonaut-questionnaire/assessmentbank\",\n",
      "   \"version\": \"0.0.0\",\n",
      "   \"resourceType\": \"CapabilityStatement\"\n",
      "}\n"
     ]
    }
   ],
   "source": [
    "df = read_excel(xls,'resources',na_filter = False)\n",
    "df_i = read_excel(xls,'interactions',na_filter = False)\n",
    "df_sp = read_excel(xls,'sps',na_filter = False)\n",
    "\n",
    "def get_i():\n",
    "    int_list = []\n",
    "    for i in df_i.itertuples(index=True):\n",
    "        # print(i.code, i.conf)\n",
    "        int  = CS.CapabilityStatementRestResourceInteraction()\n",
    "        int.code = i.code\n",
    "        int.extension = get_conf(i.conf)    \n",
    "        int_list.append(int.as_json())\n",
    "    return int_list\n",
    "\n",
    "\n",
    "def get_sp(r_type):\n",
    "    sp_list = []\n",
    "    for i in df_sp.itertuples(index=True):\n",
    "        if i.Resource == r_type:\n",
    "            # print(i.Parameter, i.Resource, i.Conformance)\n",
    "            sp  = CS.CapabilityStatementRestResourceSearchParam()\n",
    "            sp.name = i.Parameter\n",
    "            sp.definition = (f'{canon}SearchParameter/{i.Resource}-{i.Parameter}' if i.Update == 'Y' or i.Exists =='N'\n",
    "                             else f'{fhir_base_url}SearchParameter/{i.Base}-{i.Parameter}')\n",
    "            print(sp.definition)\n",
    "            sp.type = i.Type\n",
    "            sp.extension = get_conf(i.Conformance)    \n",
    "            sp_list.append(sp.as_json())\n",
    "    return sp_list\n",
    "\n",
    "\n",
    "rest.resource =  []\n",
    "for r in df.itertuples(index=True):\n",
    "    # print(r.type, r.conformance, r.readHistory)\n",
    "    res = CS.CapabilityStatementRestResource(\n",
    "    dict(\n",
    "        type = r.type,\n",
    "        documentation = r.documentation,\n",
    "        versioning = r.versioning,\n",
    "        readHistory = None if r.readHistory is None else r.readHistory == 'True',\n",
    "        updateCreate = None if r.readHistory is None else r.readHistory == 'True',\n",
    "        referencePolicy = r.referencePolicy.split(\",\"),\n",
    "        interaction = get_i(),\n",
    "        searchParam = get_sp(r.type)\n",
    "        \n",
    "        ) \n",
    "    )\n",
    "    res.extension = get_conf(r.conformance)\n",
    "    \n",
    "    rest.resource.append(res)\n",
    "cs.rest = [rest]\n",
    "    \n",
    "print(dumps(cs.as_json(),indent=3))"
   ]
  },
  {
   "cell_type": "markdown",
   "metadata": {},
   "source": [
    "### Validate"
   ]
  },
  {
   "cell_type": "code",
   "execution_count": 413,
   "metadata": {},
   "outputs": [
    {
     "name": "stdout",
     "output_type": "stream",
     "text": [
      "...validating\n"
     ]
    },
    {
     "data": {
      "text/html": [
       "<h1>Validation output</h1><h3>Status Code = 200</h3> <div xmlns=\"http://www.w3.org/1999/xhtml\"><h1>Operation Outcome</h1><table border=\"0\"><tr><td style=\"font-weight: bold;\">WARNING</td><td>[CapabilityStatement.jurisdiction]</td><td><pre>None of the codes provided are in the value set http://hl7.org/fhir/ValueSet/jurisdiction (http://hl7.org/fhir/ValueSet/jurisdiction, and a code should come from this value set unless it has no suitable code) (codes = urn:iso:std:iso:3166#US)</pre></td>\n",
       "\t\t\t\t\t\n",
       "\t\t\t\t\n",
       "\t\t\t</tr>\n",
       "\t\t</table>\n",
       "\t</div>"
      ],
      "text/plain": [
       "<IPython.core.display.HTML object>"
      ]
     },
     "metadata": {},
     "output_type": "display_data"
    }
   ],
   "source": [
    " #validate and write to file\n",
    "\n",
    "print('...validating')\n",
    "r = validate(cs)\n",
    "display(Display.HTML(f'<h1>Validation output</h1><h3>Status Code = {r.status_code}</h3> {r.json()[\"text\"][\"div\"]}'))\n",
    "\n"
   ]
  },
  {
   "cell_type": "markdown",
   "metadata": {},
   "source": [
    "### Write to folder"
   ]
  },
  {
   "cell_type": "code",
   "execution_count": 414,
   "metadata": {},
   "outputs": [
    {
     "name": "stdout",
     "output_type": "stream",
     "text": [
      "capabilitystatement-assessmentbank\n"
     ]
    }
   ],
   "source": [
    "# save to file\n",
    "\n",
    "rjson = dumps(cs.as_json(), indent=3)\n",
    "name =f'capabilitystatement-{cs.id.lower()}'\n",
    "print(name)\n",
    "write_file(name, rjson)"
   ]
  },
  {
   "cell_type": "markdown",
   "metadata": {},
   "source": [
    "### Display SP resources"
   ]
  },
  {
   "cell_type": "markdown",
   "metadata": {},
   "source": [
    "### Create Markdown Text for Search.\n",
    "\n",
    "- Using Jinja2 Template create markdown file for search section in profiles profiles"
   ]
  },
  {
   "cell_type": "code",
   "execution_count": 567,
   "metadata": {},
   "outputs": [
    {
     "data": {
      "text/markdown": [
       "### Quick Start\n",
       "Below is an overview of the required set of RESTful FHIR interactions - for\n",
       "example, search and read operations - for this profile. See the [Conformance requirements]\n",
       "for a complete list of supported RESTful interactions for this IG.\n",
       "\n",
       "#### Supported Searches\n",
       "\n",
       "{% include link-list.md %}"
      ],
      "text/plain": [
       "<IPython.core.display.Markdown object>"
      ]
     },
     "metadata": {},
     "output_type": "display_data"
    },
    {
     "data": {
      "text/markdown": [
       "### Quick Start\n",
       "Below is an overview of the required set of RESTful FHIR interactions - for\n",
       "example, search and read operations - for this profile. See the [Conformance requirements]\n",
       "for a complete list of supported RESTful interactions for this IG.\n",
       "\n",
       "#### Supported Searches\n",
       "\n",
       "{% include link-list.md %}"
      ],
      "text/plain": [
       "<IPython.core.display.Markdown object>"
      ]
     },
     "metadata": {},
     "output_type": "display_data"
    },
    {
     "data": {
      "text/markdown": [
       "### Quick Start\n",
       "Below is an overview of the required set of RESTful FHIR interactions - for\n",
       "example, search and read operations - for this profile. See the [Conformance requirements]\n",
       "for a complete list of supported RESTful interactions for this IG.\n",
       "\n",
       "#### Supported Searches\n",
       "\n",
       "{% include link-list.md %}"
      ],
      "text/plain": [
       "<IPython.core.display.Markdown object>"
      ]
     },
     "metadata": {},
     "output_type": "display_data"
    }
   ],
   "source": [
    "r_type = ['Questionnaire', 'QuestionnaireResponse', 'Patient']  # TODO  loop over all types in sp_list\n",
    "\n",
    "template = env.get_template(md_template[0])\n",
    "for t in r_type:\n",
    "    sp_bytype = [i for i in sp_list if i.base[0] == r_type]\n",
    "    display(Markdown(template.render(sp_bytype=sp_bytype,search_type=search_type)))\n",
    "    search_md = template.render(sp_bytype=sp_bytype,search_type=search_type)\n",
    "\n",
    "with open(f'{out_path}{r_type}-search.md','w') as f:\n",
    "    f.write(search_md)\n",
    "\n"
   ]
  },
  {
   "cell_type": "markdown",
   "metadata": {},
   "source": [
    "### Create Markdown Text for SearchParameters Page\n",
    "\n",
    "- Using Jinja2 Template create markdown file for searchparameters page"
   ]
  },
  {
   "cell_type": "code",
   "execution_count": 571,
   "metadata": {},
   "outputs": [
    {
     "data": {
      "text/markdown": [
       "---\n",
       "title: Operations and Search Parameters\n",
       "layout: default\n",
       "topofpage: true\n",
       "sectionnumbering: true\n",
       "---\n",
       "\n",
       "The following search parameters have been defined for the {{site.data.fhir.igName}} Implementation Guide.  For more information on the [FHIR RESTful search api]and the standard [Search Param Registry] see the FHIR specification.\n",
       "\n",
       "<!-- Operations\n",
       "\n",
       "\n",
       "  { % include list-simple-operationdefinitions.xhtml % }\n",
       "\n",
       "\n",
       "-->\n",
       "\n",
       "Search Parameter\n",
       "\n",
       "\n",
       "**HealthcareService**\n",
       "  - [active](SearchParameter-HealthcareService-active.html)\n",
       "\n",
       "**Patient**\n",
       "\n",
       "**Person**\n",
       "\n",
       "**Questionnaire**\n",
       "  - [url](SearchParameter-Questionnaire-url.html)\n",
       "  - [status](SearchParameter-Questionnaire-status.html)\n",
       "  - [title](SearchParameter-Questionnaire-title.html)\n",
       "  - [publisher](SearchParameter-Questionnaire-publisher.html)\n",
       "  - [version](SearchParameter-Questionnaire-version.html)\n",
       "\n",
       "**QuestionnaireResponse**\n",
       "  - [questionnaire](SearchParameter-QuestionnaireResponse-questionnaire.html)\n",
       "  - [patient](SearchParameter-QuestionnaireResponse-patient.html)\n",
       "  - [context](SearchParameter-QuestionnaireResponse-context.html)\n",
       "  - [status](SearchParameter-QuestionnaireResponse-status.html)\n",
       "  - [author](SearchParameter-QuestionnaireResponse-author.html)\n",
       "  - [source](SearchParameter-QuestionnaireResponse-source.html)\n",
       "\n",
       "**RelatedPerson**\n",
       "  - [birthdate](SearchParameter-individual-birthdate.html)\n",
       "\n",
       "{% include link_list.md %}"
      ],
      "text/plain": [
       "<IPython.core.display.Markdown object>"
      ]
     },
     "metadata": {},
     "output_type": "display_data"
    }
   ],
   "source": [
    "# get types:\n",
    "r_list = []\n",
    "for i in sp_list:\n",
    "    for j in i.base:\n",
    "        r_list.append(j)\n",
    "\n",
    "r_list = sorted(set(r_list))\n",
    "\n",
    "# md_template = 'sp_list_page.j2'\n",
    "\n",
    "template = env.get_template(md_template[1])\n",
    "display(Markdown(template.render(sp_list=sp_list,r_list=r_list)))\n",
    "searchparameters_md = template.render(sp_list=sp_list,r_list=r_list)\n",
    "with open(f'{out_path}searchparameters.md','w') as f:\n",
    "    f.write(searchparameters_md)"
   ]
  },
  {
   "cell_type": "markdown",
   "metadata": {},
   "source": [
    "### Update CapabilityStatement for Search\n",
    "- instantiate new or existing CapStatement as fhir model\n",
    "- add combination extensions\n",
    "- add markdown descriptions from above"
   ]
  },
  {
   "cell_type": "code",
   "execution_count": null,
   "metadata": {},
   "outputs": [],
   "source": [
    "# instantiate new or existing CapStatement:\n",
    "\n",
    "def interaction(code):\n",
    "    return CS.CapabilityStatementRestResourceInteraction({'code' : code})\n",
    "\n",
    "def search_cs(sp):\n",
    "    template = env.get_template(md_template[2])\n",
    "    return CS.CapabilityStatementRestResourceSearchParam(\n",
    "    dict(\n",
    "    name = sp.code,\n",
    "    definition = sp.url,\n",
    "    type = sp.type,\n",
    "    documentation = template.render(sp=sp, search_type=search_type)\n",
    "    )\n",
    "    )\n",
    "\n",
    "cs = CS.CapabilityStatement(dict(\n",
    "                            date = now,\n",
    "                            status = 'active',\n",
    "                            acceptUnknown = 'both',\n",
    "                            format = ['json','xml'],\n",
    "                            fhirVersion = '3.0.1',\n",
    "                            kind = 'requirements'     \n",
    "                            ))\n",
    "\n",
    "\n",
    "\n",
    "cs.rest = [CS.CapabilityStatementRest()]  \n",
    "cs.rest[0].mode = 'server'\n",
    "cs.rest[0].resource = []\n",
    "\n",
    "\n",
    "\n",
    "print(r_list)    \n",
    "for r in r_list:\n",
    "    rest_resource = CS.CapabilityStatementRestResource()\n",
    "    rest_resource.type = r\n",
    "    rest_resource.interaction = [interaction(code) for code in ['read','vread', 'history-instance', 'search-type']]\n",
    "    cs.rest[0].resource.append(rest_resource)\n",
    "    rest_resource.searchParam = [search_cs(sp=sp) for sp in sp_list if sp.base[0] == r]\n",
    "print(dumps(cs.as_json(),indent = 3))\n",
    "    \n",
    "    \n",
    "\n"
   ]
  },
  {
   "cell_type": "markdown",
   "metadata": {},
   "source": [
    "### TODO\n",
    "\n",
    "- Save SearchParameters and CapabilityStatements.\n",
    "- Cycle through the quick starts\n",
    "- Update the CSV files"
   ]
  },
  {
   "cell_type": "code",
   "execution_count": null,
   "metadata": {},
   "outputs": [],
   "source": []
  },
  {
   "cell_type": "code",
   "execution_count": null,
   "metadata": {},
   "outputs": [],
   "source": []
  }
 ],
 "metadata": {
  "kernelspec": {
   "display_name": "Python 3",
   "language": "python",
   "name": "python3"
  },
  "language_info": {
   "codemirror_mode": {
    "name": "ipython",
    "version": 3
   },
   "file_extension": ".py",
   "mimetype": "text/x-python",
   "name": "python",
   "nbconvert_exporter": "python",
   "pygments_lexer": "ipython3",
   "version": "3.7.1"
  }
 },
 "nbformat": 4,
 "nbformat_minor": 2
}
