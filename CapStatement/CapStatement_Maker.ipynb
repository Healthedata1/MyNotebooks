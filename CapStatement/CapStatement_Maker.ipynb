{
 "cells": [
  {
   "cell_type": "markdown",
   "metadata": {},
   "source": [
    "## Create FHIR STU3 CapStatement Resource\n",
    "\n",
    "### Outline:\n",
    "\n",
    "- Source excel with requirements\n",
    "- pandas to convert in python Ordered Dict\n",
    "- build json\n",
    "- generate narrative using Jinja2 templates\n",
    "\n",
    "### Prerequisites:\n",
    "\n",
    "- Python 3.6 or greater"
   ]
  },
  {
   "cell_type": "markdown",
   "metadata": {},
   "source": [
    "### Import FHIRClient and other libraries"
   ]
  },
  {
   "cell_type": "code",
   "execution_count": 1509,
   "metadata": {},
   "outputs": [],
   "source": [
    "%config IPCompleter.greedy=True"
   ]
  },
  {
   "cell_type": "code",
   "execution_count": 1510,
   "metadata": {},
   "outputs": [],
   "source": [
    "from fhirclient.models import searchparameter as SP\n",
    "from fhirclient.models import capabilitystatement as CS\n",
    "from fhirclient.models import bundle as B\n",
    "from fhirclient.models import narrative as N\n",
    "import fhirclient.models.identifier as I\n",
    "import fhirclient.models.coding as C\n",
    "import fhirclient.models.codeableconcept as CC\n",
    "import fhirclient.models.fhirdate as D\n",
    "import fhirclient.models.extension as X\n",
    "import fhirclient.models.contactdetail as CD\n",
    "import fhirclient.models.fhirreference as FR\n",
    "\n",
    "from json import dumps, loads, load\n",
    "from requests import get, post, put\n",
    "import os\n",
    "from pathlib import Path\n",
    "from csv import reader as csvreader\n",
    "from pprint import pprint\n",
    "from stringcase import snakecase, titlecase\n",
    "from collections import namedtuple\n",
    "from pandas import *\n",
    "from datetime import date\n",
    "from jinja2 import Environment, FileSystemLoader, select_autoescape\n",
    "from commonmark import commonmark\n",
    "from IPython.display import display, HTML\n",
    "from lxml import etree"
   ]
  },
  {
   "cell_type": "markdown",
   "metadata": {},
   "source": [
    "#### Inspect ElementProperties as reference"
   ]
  },
  {
   "cell_type": "code",
   "execution_count": 1511,
   "metadata": {},
   "outputs": [
    {
     "data": {
      "text/plain": [
       "[('extension',\n",
       "  'extension',\n",
       "  fhirclient.models.extension.Extension,\n",
       "  True,\n",
       "  None,\n",
       "  False),\n",
       " ('id', 'id', str, False, None, False),\n",
       " ('modifierExtension',\n",
       "  'modifierExtension',\n",
       "  fhirclient.models.extension.Extension,\n",
       "  True,\n",
       "  None,\n",
       "  False),\n",
       " ('compartment', 'compartment', str, True, None, False),\n",
       " ('documentation', 'documentation', str, False, None, False),\n",
       " ('interaction',\n",
       "  'interaction',\n",
       "  fhirclient.models.capabilitystatement.CapabilityStatementRestInteraction,\n",
       "  True,\n",
       "  None,\n",
       "  False),\n",
       " ('mode', 'mode', str, False, None, True),\n",
       " ('operation',\n",
       "  'operation',\n",
       "  fhirclient.models.capabilitystatement.CapabilityStatementRestOperation,\n",
       "  True,\n",
       "  None,\n",
       "  False),\n",
       " ('resource',\n",
       "  'resource',\n",
       "  fhirclient.models.capabilitystatement.CapabilityStatementRestResource,\n",
       "  True,\n",
       "  None,\n",
       "  False),\n",
       " ('searchParam',\n",
       "  'searchParam',\n",
       "  fhirclient.models.capabilitystatement.CapabilityStatementRestResourceSearchParam,\n",
       "  True,\n",
       "  None,\n",
       "  False),\n",
       " ('security',\n",
       "  'security',\n",
       "  fhirclient.models.capabilitystatement.CapabilityStatementRestSecurity,\n",
       "  False,\n",
       "  None,\n",
       "  False)]"
      ]
     },
     "execution_count": 1511,
     "metadata": {},
     "output_type": "execute_result"
    }
   ],
   "source": [
    "CS.CapabilityStatementRest().elementProperties()"
   ]
  },
  {
   "cell_type": "markdown",
   "metadata": {},
   "source": [
    "####  Assign Global Variables\n",
    "\n",
    "\n",
    "Here is where we assign all the global variables for this example such as the local paths for file input and output"
   ]
  },
  {
   "cell_type": "code",
   "execution_count": 1512,
   "metadata": {},
   "outputs": [],
   "source": [
    "fhir_term_server = 'http://test.fhir.org/r3'\n",
    "fhir_test_server = 'http://test.fhir.org/r3'\n",
    "\n",
    "headers = {\n",
    "'Accept':'application/fhir+json',\n",
    "'Content-Type':'application/fhir+json'\n",
    "}\n",
    "\n",
    "fhir_base_url = 'http://hl7.org/fhir/'\n",
    "\n",
    "base_id = \"argo-q\"\n",
    "\n",
    "canon = \"http://fhir.org/guides/argonaut-questionnaire/\"\n",
    "\n",
    "pre = \"Argonaut\"\n",
    "\n",
    "publisher = 'The Argonaut Project'\n",
    "\n",
    "publisher_endpoint = dict(\n",
    "                        system = 'url',\n",
    "                        value = 'https://github.com/argonautproject/questionnaire/issues'\n",
    "                        )\n",
    "\n",
    "f_jurisdiction =  CC.CodeableConcept({\n",
    "      \"coding\" : [\n",
    "        {\n",
    "          \"system\" : \"urn:iso:std:iso:3166\",\n",
    "          \"code\" : \"US\"\n",
    "        }\n",
    "      ]\n",
    "    })\n",
    "\n",
    "conf_url = 'http://hl7.org/fhir/StructureDefinition/capabilitystatement-expectation'\n",
    "\n",
    "none_list = ['', ' ', 'none', 'n/a', 'N/A', 'N', 'False']\n",
    "\n",
    "sep_list = (',', ';', ' ', ', ', '; ')\n",
    "\n",
    "f_now = D.FHIRDate(str(date.today()))"
   ]
  },
  {
   "cell_type": "markdown",
   "metadata": {},
   "source": [
    "#### Conformance Extension"
   ]
  },
  {
   "cell_type": "code",
   "execution_count": 1513,
   "metadata": {},
   "outputs": [],
   "source": [
    "def get_conf(conf='MAY'):\n",
    "    return [X.Extension(dict(\n",
    "        url = conf_url,\n",
    "        valueCode = conf\n",
    "        ))]"
   ]
  },
  {
   "cell_type": "markdown",
   "metadata": {},
   "source": [
    "### validate"
   ]
  },
  {
   "cell_type": "code",
   "execution_count": 1514,
   "metadata": {},
   "outputs": [],
   "source": [
    "# *********************** validate Resource ********************************\n",
    "\n",
    "def validate(r):\n",
    "    fhir_test_server = 'http://fhirtest.uhn.ca/baseDstu3'\n",
    "    #fhir_test_server = 'http://test.fhir.org/r3'\n",
    "\n",
    "    headers = {\n",
    "    'Accept':'application/fhir+json',\n",
    "    'Content-Type':'application/fhir+json'\n",
    "    }\n",
    "\n",
    "    # profile = 'http://hl7.org/fhir/us/core/StructureDefinition/us-core-patient' # The official URL for this profile is: http://hl7.org/fhir/us/core/StructureDefinition/us-core-patient\n",
    " \n",
    "    params = dict(\n",
    "      # profile = 'http://hl7.org/fhir/us/core/StructureDefinition/us-core-patient' # The official URL for this profile is: http://hl7.org/fhir/us/core/StructureDefinition/us-core-patient\n",
    "        )\n",
    "    \n",
    "    #   r = requests.post('https://httpbin.org/post', data = {'key':'value'})\n",
    "    r = post(f'{fhir_test_server}/Questionnaire/$validate', params = params, headers = headers, data = dumps(r.as_json()))\n",
    "    # return r.status_code\n",
    "    # view  output\n",
    "    # return (r.json()[\"text\"][\"div\"])\n",
    "    return r"
   ]
  },
  {
   "cell_type": "markdown",
   "metadata": {},
   "source": [
    "### Write to File"
   ]
  },
  {
   "cell_type": "code",
   "execution_count": 1515,
   "metadata": {},
   "outputs": [],
   "source": [
    " def write_file(name, data): # write file\n",
    "    # out_path = ''\n",
    "    out_path = '//ERICS-AIR-2/ehaas/Documents/FHIR/Argo-Questionnaire/source/resources/'\n",
    "    with open(f'{Path(out_path)}/{name}.json', 'w') as f:\n",
    "        f.write(data)"
   ]
  },
  {
   "cell_type": "markdown",
   "metadata": {},
   "source": [
    "### Get Cap Statement input data"
   ]
  },
  {
   "cell_type": "markdown",
   "metadata": {},
   "source": [
    "#### first the meta sheet"
   ]
  },
  {
   "cell_type": "code",
   "execution_count": 1516,
   "metadata": {},
   "outputs": [
    {
     "data": {
      "text/html": [
       "<div>\n",
       "<style scoped>\n",
       "    .dataframe tbody tr th:only-of-type {\n",
       "        vertical-align: middle;\n",
       "    }\n",
       "\n",
       "    .dataframe tbody tr th {\n",
       "        vertical-align: top;\n",
       "    }\n",
       "\n",
       "    .dataframe thead th {\n",
       "        text-align: right;\n",
       "    }\n",
       "</style>\n",
       "<table border=\"1\" class=\"dataframe\">\n",
       "  <thead>\n",
       "    <tr style=\"text-align: right;\">\n",
       "      <th></th>\n",
       "      <th>Element</th>\n",
       "      <th>Value</th>\n",
       "    </tr>\n",
       "  </thead>\n",
       "  <tbody>\n",
       "    <tr>\n",
       "      <th>0</th>\n",
       "      <td>id</td>\n",
       "      <td>adaptive-questionnaire-service</td>\n",
       "    </tr>\n",
       "    <tr>\n",
       "      <th>1</th>\n",
       "      <td>description</td>\n",
       "      <td>This section outlines conformance requirements...</td>\n",
       "    </tr>\n",
       "    <tr>\n",
       "      <th>2</th>\n",
       "      <td>ig</td>\n",
       "      <td>http://fhir.org/guides/argonaut-questionnaire/...</td>\n",
       "    </tr>\n",
       "    <tr>\n",
       "      <th>3</th>\n",
       "      <td>mode</td>\n",
       "      <td>server</td>\n",
       "    </tr>\n",
       "    <tr>\n",
       "      <th>4</th>\n",
       "      <td>documentation</td>\n",
       "      <td>The Argonaut Adaptive Questionnaire Service **...</td>\n",
       "    </tr>\n",
       "    <tr>\n",
       "      <th>5</th>\n",
       "      <td>security</td>\n",
       "      <td>For general security consideration refer to th...</td>\n",
       "    </tr>\n",
       "  </tbody>\n",
       "</table>\n",
       "</div>"
      ],
      "text/plain": [
       "         Element                                              Value\n",
       "0             id                     adaptive-questionnaire-service\n",
       "1    description  This section outlines conformance requirements...\n",
       "2             ig  http://fhir.org/guides/argonaut-questionnaire/...\n",
       "3           mode                                             server\n",
       "4  documentation  The Argonaut Adaptive Questionnaire Service **...\n",
       "5       security  For general security consideration refer to th..."
      ]
     },
     "execution_count": 1516,
     "metadata": {},
     "output_type": "execute_result"
    }
   ],
   "source": [
    "#in_path = Path('/Users/ehaas/Documents/FHIR/pyfhir/test/')\n",
    "in_path =''\n",
    "#out_path = '/Users/ehaas/Documents/FHIR/pyfhir/test/'\n",
    "out_path=''\n",
    "#out_path = Path(\"C:/Users/Eric/Documents/Jan_2019_FHIR_Experience\")\n",
    "\n",
    "#in_file = 'AssBank'\n",
    "#in_file = 'AnsBank'\n",
    "#in_file = 'EHRProvider'\n",
    "in_file = 'AdaptService'\n",
    "\n",
    "xls = ExcelFile(f'{in_path}{in_file}.xlsx')\n",
    "df = read_excel(xls,'meta',na_filter = False)\n",
    "\n",
    "\n",
    "df"
   ]
  },
  {
   "cell_type": "markdown",
   "metadata": {},
   "source": [
    "#### Create NamedTuple from df to use dot notation"
   ]
  },
  {
   "cell_type": "code",
   "execution_count": 1517,
   "metadata": {},
   "outputs": [
    {
     "data": {
      "text/plain": [
       "'adaptive-questionnaire-service'"
      ]
     },
     "execution_count": 1517,
     "metadata": {},
     "output_type": "execute_result"
    }
   ],
   "source": [
    "d = dict(zip(df.Element, df.Value))\n",
    "meta = namedtuple(\"Meta\", d.keys())(*d.values())      \n",
    "         \n",
    "meta.id"
   ]
  },
  {
   "cell_type": "markdown",
   "metadata": {},
   "source": [
    "\n",
    "### Create CS instance"
   ]
  },
  {
   "cell_type": "code",
   "execution_count": 1518,
   "metadata": {},
   "outputs": [
    {
     "data": {
      "text/plain": [
       "{'id': 'adaptive-questionnaire-service',\n",
       " 'acceptUnknown': 'both',\n",
       " 'contact': [{'telecom': [{'system': 'url',\n",
       "     'value': 'https://github.com/argonautproject/questionnaire/issues'}]}],\n",
       " 'date': '2019-02-20',\n",
       " 'description': 'This section outlines conformance requirements for the Argonaut Questionnaire Adaptive QuestionService.  It is responsible for providing questions in response to requests and  determining the next question and calculation of the score for an Adaptive Questionnaires.  It supports the Argonaut Adaptive QuestionnaireResponse Profile and the transactions associated with the adaptive questionnaires.   Note that the Argonaut Profile and next-question OperationDefinition identify the structural constraints, terminology bindings and invariants.',\n",
       " 'experimental': False,\n",
       " 'fhirVersion': '3.0.1',\n",
       " 'format': ['xml', 'json'],\n",
       " 'implementationGuide': ['http://fhir.org/guides/argonaut-questionnaire/ImplementationGuide/ig',\n",
       "  'http://hl7.org/fhir/us/core/ImplementationGuide/ig'],\n",
       " 'jurisdiction': [{'coding': [{'code': 'US',\n",
       "     'system': 'urn:iso:std:iso:3166'}]}],\n",
       " 'kind': 'requirements',\n",
       " 'name': 'adaptive_questionnaire_service',\n",
       " 'patchFormat': ['application/json-patch+json'],\n",
       " 'publisher': 'The Argonaut Project',\n",
       " 'rest': [{'documentation': 'The Argonaut Adaptive Questionnaire Service **SHALL**:\\n\\n1. Implement the RESTful behavior according to the FHIR specification including returning the appropriate response classes as described in the FHIR specification for [FHIR RESTful API](http://hl7.org/fhir/STU3/http.html).\\n1. Support json resource formats for all Argonaut Questionnaire interactions.\\n1. Declare a CapabilityStatement identifying the list of profiles, operations, search parameter supported.\\n\\nThe Argonaut Adaptive Questionnaire Service **SHOULD**:\\n\\n1. Support xml resource formats for all Argonaut questionnaire interactions.\\n1. Provide a mechanism for discovery of the adaptive forms it offers.',\n",
       "   'mode': 'server',\n",
       "   'operation': [{'extension': [{'url': 'http://hl7.org/fhir/StructureDefinition/capabilitystatement-expectation',\n",
       "       'valueCode': 'SHALL'}],\n",
       "     'definition': {'reference': 'http://fhir.org/guides/argonaut-questionnaire/OperationDefinition/next-question'},\n",
       "     'name': 'next-question'}],\n",
       "   'security': {'description': 'For general security consideration refer to the [Security and Privacy Considerations](https://argonautproject.github.io/questionnaire/index.html#security-and-privacy-considerations).'}}],\n",
       " 'status': 'active',\n",
       " 'title': 'Argonaut Adaptive Questionnaire Service CapabilityStatement',\n",
       " 'url': 'http://fhir.org/guides/argonaut-questionnaire/CapabilityStatement/adaptive-questionnaire-service',\n",
       " 'version': '0.0.0',\n",
       " 'resourceType': 'CapabilityStatement'}"
      ]
     },
     "execution_count": 1518,
     "metadata": {},
     "output_type": "execute_result"
    }
   ],
   "source": [
    "def get_op():\n",
    "    op_list = []\n",
    "    df_op = read_excel(xls,'ops',na_filter = False)\n",
    "    for i in df_op.itertuples(index=True):\n",
    "        op = CS.CapabilityStatementRestOperation()\n",
    "        op.name = i.name\n",
    "        ref = FR.FHIRReference()\n",
    "        ref.reference = f'{canon}OperationDefinition/{i.name}'\n",
    "        op.definition = ref\n",
    "        op.extension = get_conf(i.conf) \n",
    "        op_list.append(op)\n",
    "    return op_list\n",
    "\n",
    "\n",
    "cs = CS.CapabilityStatement()\n",
    "cs.id = meta.id\n",
    "cs.url = f'{canon}CapabilityStatement/{meta.id}'\n",
    "cs.version = '0.0.0'  # placeholder changed by build\n",
    "cs.name = snakecase(meta.id)\n",
    "cs.title = f'{pre} {titlecase(meta.id)} {cs.resource_type}'\n",
    "cs.status = 'active'\n",
    "cs.experimental = False\n",
    "cs.date = f_now  # as FHIRDate\n",
    "cs.publisher = publisher\n",
    "cs.contact = [CD.ContactDetail( {\"telecom\" : [ publisher_endpoint ] })]\n",
    "cs.description = meta.description\n",
    "cs.jurisdiction = [f_jurisdiction]\n",
    "cs.kind = 'requirements'\n",
    "cs.fhirVersion = '3.0.1'\n",
    "cs.acceptUnknown = 'both'\n",
    "cs.format = [\n",
    "    \"xml\",\n",
    "    \"json\"\n",
    "  ]\n",
    "cs.patchFormat = [\n",
    "    \"application/json-patch+json\",\n",
    "  ]\n",
    "cs.implementationGuide = meta.ig.split(\",\")\n",
    "rest = CS.CapabilityStatementRest(dict(\n",
    "    mode = meta.mode,\n",
    "    documentation = meta.documentation,\n",
    "    security = dict(\n",
    "        description = meta.security\n",
    "        )\n",
    "    ))\n",
    "rest.operation = get_op()\n",
    "cs.rest = [rest]\n",
    "\n",
    "\n",
    "cs.as_json()"
   ]
  },
  {
   "cell_type": "markdown",
   "metadata": {},
   "source": [
    "#### Then the list of IG profiles ( for STU3 )"
   ]
  },
  {
   "cell_type": "code",
   "execution_count": 1519,
   "metadata": {},
   "outputs": [
    {
     "data": {
      "text/html": [
       "<div>\n",
       "<style scoped>\n",
       "    .dataframe tbody tr th:only-of-type {\n",
       "        vertical-align: middle;\n",
       "    }\n",
       "\n",
       "    .dataframe tbody tr th {\n",
       "        vertical-align: top;\n",
       "    }\n",
       "\n",
       "    .dataframe thead th {\n",
       "        text-align: right;\n",
       "    }\n",
       "</style>\n",
       "<table border=\"1\" class=\"dataframe\">\n",
       "  <thead>\n",
       "    <tr style=\"text-align: right;\">\n",
       "      <th></th>\n",
       "      <th>Profile</th>\n",
       "      <th>Conformance</th>\n",
       "      <th>Name</th>\n",
       "      <th>Type</th>\n",
       "    </tr>\n",
       "  </thead>\n",
       "  <tbody>\n",
       "    <tr>\n",
       "      <th>0</th>\n",
       "      <td>http://fhir.org/guides/argonaut-questionnaire/...</td>\n",
       "      <td>SHALL</td>\n",
       "      <td>Argonaut Adaptive QuestionnaireResponse Profile</td>\n",
       "      <td>QuestionnaireResponse</td>\n",
       "    </tr>\n",
       "  </tbody>\n",
       "</table>\n",
       "</div>"
      ],
      "text/plain": [
       "                                             Profile Conformance  \\\n",
       "0  http://fhir.org/guides/argonaut-questionnaire/...       SHALL   \n",
       "\n",
       "                                              Name                   Type  \n",
       "0  Argonaut Adaptive QuestionnaireResponse Profile  QuestionnaireResponse  "
      ]
     },
     "execution_count": 1519,
     "metadata": {},
     "output_type": "execute_result"
    }
   ],
   "source": [
    "xls = ExcelFile(f'{in_path}{in_file}.xlsx')\n",
    "df = read_excel(xls,'profiles',na_filter = False)\n",
    "\n",
    "df"
   ]
  },
  {
   "cell_type": "code",
   "execution_count": 1520,
   "metadata": {},
   "outputs": [
    {
     "name": "stdout",
     "output_type": "stream",
     "text": [
      "http://fhir.org/guides/argonaut-questionnaire/StructureDefinition/argo-adap-questionnaireresponse SHALL Argonaut Adaptive QuestionnaireResponse Profile QuestionnaireResponse\n",
      "{'QuestionnaireResponse': ['[Argonaut Adaptive QuestionnaireResponse '\n",
      "                           'Profile](http://fhir.org/guides/argonaut-questionnaire/StructureDefinition/argo-adap-questionnaireresponse)']}\n"
     ]
    }
   ],
   "source": [
    "\n",
    "p_map ={}\n",
    "cs.profile = [] \n",
    "for p in df.itertuples(index=True):\n",
    "    print(p.Profile, p.Conformance, p.Name, p.Type)\n",
    "    try: # for mapping stu3 profiles to resources :-(\n",
    "        p_map[p.Type].append(f'[{p.Name}]({p.Profile})')\n",
    "    except KeyError:\n",
    "        p_map[p.Type]=[f'[{p.Name}]({p.Profile})']\n",
    "        \n",
    "    ref = FR.FHIRReference(dict(\n",
    "        reference = p.Profile,\n",
    "        display = p.Name\n",
    "        ))\n",
    "    ref.extension = get_conf(p.Conformance)\n",
    "\n",
    " \n",
    "    cs.profile.append(ref)\n",
    "                                           \n",
    "    \n",
    "pprint(p_map)"
   ]
  },
  {
   "cell_type": "markdown",
   "metadata": {},
   "source": [
    "\n",
    "#### add Resources"
   ]
  },
  {
   "cell_type": "code",
   "execution_count": 1521,
   "metadata": {},
   "outputs": [
    {
     "name": "stdout",
     "output_type": "stream",
     "text": [
      "create \n",
      "search-type MAY\n",
      "read MAY\n",
      "vread MAY\n",
      "update \n",
      "patch \n",
      "delete \n",
      "history-instance \n",
      "history-type \n",
      "{\n",
      "   \"id\": \"adaptive-questionnaire-service\",\n",
      "   \"acceptUnknown\": \"both\",\n",
      "   \"contact\": [\n",
      "      {\n",
      "         \"telecom\": [\n",
      "            {\n",
      "               \"system\": \"url\",\n",
      "               \"value\": \"https://github.com/argonautproject/questionnaire/issues\"\n",
      "            }\n",
      "         ]\n",
      "      }\n",
      "   ],\n",
      "   \"date\": \"2019-02-20\",\n",
      "   \"description\": \"This section outlines conformance requirements for the Argonaut Questionnaire Adaptive QuestionService.  It is responsible for providing questions in response to requests and  determining the next question and calculation of the score for an Adaptive Questionnaires.  It supports the Argonaut Adaptive QuestionnaireResponse Profile and the transactions associated with the adaptive questionnaires.   Note that the Argonaut Profile and next-question OperationDefinition identify the structural constraints, terminology bindings and invariants.\",\n",
      "   \"experimental\": false,\n",
      "   \"fhirVersion\": \"3.0.1\",\n",
      "   \"format\": [\n",
      "      \"xml\",\n",
      "      \"json\"\n",
      "   ],\n",
      "   \"implementationGuide\": [\n",
      "      \"http://fhir.org/guides/argonaut-questionnaire/ImplementationGuide/ig\",\n",
      "      \"http://hl7.org/fhir/us/core/ImplementationGuide/ig\"\n",
      "   ],\n",
      "   \"jurisdiction\": [\n",
      "      {\n",
      "         \"coding\": [\n",
      "            {\n",
      "               \"code\": \"US\",\n",
      "               \"system\": \"urn:iso:std:iso:3166\"\n",
      "            }\n",
      "         ]\n",
      "      }\n",
      "   ],\n",
      "   \"kind\": \"requirements\",\n",
      "   \"name\": \"adaptive_questionnaire_service\",\n",
      "   \"patchFormat\": [\n",
      "      \"application/json-patch+json\"\n",
      "   ],\n",
      "   \"profile\": [\n",
      "      {\n",
      "         \"extension\": [\n",
      "            {\n",
      "               \"url\": \"http://hl7.org/fhir/StructureDefinition/capabilitystatement-expectation\",\n",
      "               \"valueCode\": \"SHALL\"\n",
      "            }\n",
      "         ],\n",
      "         \"display\": \"Argonaut Adaptive QuestionnaireResponse Profile\",\n",
      "         \"reference\": \"http://fhir.org/guides/argonaut-questionnaire/StructureDefinition/argo-adap-questionnaireresponse\"\n",
      "      }\n",
      "   ],\n",
      "   \"publisher\": \"The Argonaut Project\",\n",
      "   \"rest\": [\n",
      "      {\n",
      "         \"documentation\": \"The Argonaut Adaptive Questionnaire Service **SHALL**:\\n\\n1. Implement the RESTful behavior according to the FHIR specification including returning the appropriate response classes as described in the FHIR specification for [FHIR RESTful API](http://hl7.org/fhir/STU3/http.html).\\n1. Support json resource formats for all Argonaut Questionnaire interactions.\\n1. Declare a CapabilityStatement identifying the list of profiles, operations, search parameter supported.\\n\\nThe Argonaut Adaptive Questionnaire Service **SHOULD**:\\n\\n1. Support xml resource formats for all Argonaut questionnaire interactions.\\n1. Provide a mechanism for discovery of the adaptive forms it offers.\",\n",
      "         \"mode\": \"server\",\n",
      "         \"operation\": [\n",
      "            {\n",
      "               \"extension\": [\n",
      "                  {\n",
      "                     \"url\": \"http://hl7.org/fhir/StructureDefinition/capabilitystatement-expectation\",\n",
      "                     \"valueCode\": \"SHALL\"\n",
      "                  }\n",
      "               ],\n",
      "               \"definition\": {\n",
      "                  \"reference\": \"http://fhir.org/guides/argonaut-questionnaire/OperationDefinition/next-question\"\n",
      "               },\n",
      "               \"name\": \"next-question\"\n",
      "            }\n",
      "         ],\n",
      "         \"resource\": [\n",
      "            {\n",
      "               \"extension\": [\n",
      "                  {\n",
      "                     \"url\": \"http://hl7.org/fhir/StructureDefinition/capabilitystatement-expectation\",\n",
      "                     \"valueCode\": \"SHALL\"\n",
      "                  }\n",
      "               ],\n",
      "               \"interaction\": [\n",
      "                  {\n",
      "                     \"extension\": [\n",
      "                        {\n",
      "                           \"url\": \"http://hl7.org/fhir/StructureDefinition/capabilitystatement-expectation\",\n",
      "                           \"valueCode\": \"MAY\"\n",
      "                        }\n",
      "                     ],\n",
      "                     \"code\": \"search-type\"\n",
      "                  },\n",
      "                  {\n",
      "                     \"extension\": [\n",
      "                        {\n",
      "                           \"url\": \"http://hl7.org/fhir/StructureDefinition/capabilitystatement-expectation\",\n",
      "                           \"valueCode\": \"MAY\"\n",
      "                        }\n",
      "                     ],\n",
      "                     \"code\": \"read\"\n",
      "                  },\n",
      "                  {\n",
      "                     \"extension\": [\n",
      "                        {\n",
      "                           \"url\": \"http://hl7.org/fhir/StructureDefinition/capabilitystatement-expectation\",\n",
      "                           \"valueCode\": \"MAY\"\n",
      "                        }\n",
      "                     ],\n",
      "                     \"code\": \"vread\"\n",
      "                  }\n",
      "               ],\n",
      "               \"readHistory\": false,\n",
      "               \"type\": \"QuestionnaireResponse\",\n",
      "               \"updateCreate\": false\n",
      "            }\n",
      "         ],\n",
      "         \"security\": {\n",
      "            \"description\": \"For general security consideration refer to the [Security and Privacy Considerations](https://argonautproject.github.io/questionnaire/index.html#security-and-privacy-considerations).\"\n",
      "         }\n",
      "      }\n",
      "   ],\n",
      "   \"status\": \"active\",\n",
      "   \"title\": \"Argonaut Adaptive Questionnaire Service CapabilityStatement\",\n",
      "   \"url\": \"http://fhir.org/guides/argonaut-questionnaire/CapabilityStatement/adaptive-questionnaire-service\",\n",
      "   \"version\": \"0.0.0\",\n",
      "   \"resourceType\": \"CapabilityStatement\"\n",
      "}\n"
     ]
    }
   ],
   "source": [
    "df = read_excel(xls,'resources',na_filter = False)\n",
    "df_i = read_excel(xls,'interactions',na_filter = False)\n",
    "df_sp = read_excel(xls,'sps',na_filter = False)\n",
    "\n",
    "def get_i(type):\n",
    "    int_list = []\n",
    "    for i in df_i.itertuples(index=True):\n",
    "        print(i.code, getattr(i,f'conf_{type}'))\n",
    "        if getattr(i,f'conf_{type}') not in none_list:\n",
    "            int  = CS.CapabilityStatementRestResourceInteraction()\n",
    "            int.code = i.code  \n",
    "            int.extension = get_conf(getattr(i,f'conf_{type}'))    \n",
    "            int_list.append(int.as_json())\n",
    "        \n",
    "    return int_list\n",
    "\n",
    "\n",
    "def get_sp(r_type):\n",
    "    sp_list = []\n",
    "    for i in df_sp.itertuples(index=True):\n",
    "        if i.Resource == r_type:\n",
    "            # print(i.Parameter, i.Resource, i.Conformance)\n",
    "            sp  = CS.CapabilityStatementRestResourceSearchParam()\n",
    "            sp.name = i.Parameter\n",
    "            sp.definition = (f'{canon}SearchParameter/{i.Resource}-{i.Parameter}' if i.Update == 'Y' or i.Exists =='N'\n",
    "                             else f'{fhir_base_url}SearchParameter/{i.Base}-{i.Parameter}')\n",
    "            print(sp.definition)\n",
    "            sp.type = i.Type\n",
    "            sp.extension = get_conf(i.Conformance)    \n",
    "            sp_list.append(sp.as_json())\n",
    "    return sp_list\n",
    "\n",
    "\n",
    "\n",
    "rest.resource =  []\n",
    "for r in df.itertuples(index=True):\n",
    "    # print(r.type, r.conformance, r.readHistory)\n",
    "    res = CS.CapabilityStatementRestResource(\n",
    "    dict(\n",
    "        type = r.type,\n",
    "        documentation = r.documentation if r.documentation not in none_list else None,\n",
    "        versioning = r.versioning if r.versioning not in none_list else None,\n",
    "        readHistory = None if r.readHistory is None else r.readHistory == 'True',\n",
    "        updateCreate = None if r.readHistory is None else r.readHistory == 'True',\n",
    "        referencePolicy = r.referencePolicy.split(\",\") if r.referencePolicy not in none_list else [],\n",
    "        interaction = get_i(r.type),\n",
    "        searchParam = get_sp(r.type),\n",
    "        searchInclude = r.searchInclude.split(\",\") if r.searchInclude not in none_list else []\n",
    "        \n",
    "        ) \n",
    "    )\n",
    "    res.extension = get_conf(r.conformance)\n",
    "    \n",
    "    rest.resource.append(res)\n",
    "cs.rest = [rest]\n",
    "    \n",
    "print(dumps(cs.as_json(),indent=3))"
   ]
  },
  {
   "cell_type": "markdown",
   "metadata": {},
   "source": [
    "### Validate"
   ]
  },
  {
   "cell_type": "code",
   "execution_count": 1522,
   "metadata": {},
   "outputs": [
    {
     "name": "stdout",
     "output_type": "stream",
     "text": [
      "...validating\n"
     ]
    },
    {
     "data": {
      "text/html": [
       "<h1>Validation output</h1><h3>Status Code = 200</h3> <div xmlns=\"http://www.w3.org/1999/xhtml\"><h1>Operation Outcome</h1><table border=\"0\"><tr><td style=\"font-weight: bold;\">WARNING</td><td>[CapabilityStatement.jurisdiction]</td><td><pre>None of the codes provided are in the value set http://hl7.org/fhir/ValueSet/jurisdiction (http://hl7.org/fhir/ValueSet/jurisdiction, and a code should come from this value set unless it has no suitable code) (codes = urn:iso:std:iso:3166#US)</pre></td>\n",
       "\t\t\t\t\t\n",
       "\t\t\t\t\n",
       "\t\t\t</tr>\n",
       "\t\t</table>\n",
       "\t</div>"
      ],
      "text/plain": [
       "<IPython.core.display.HTML object>"
      ]
     },
     "metadata": {},
     "output_type": "display_data"
    }
   ],
   "source": [
    " #validate and write to file\n",
    "\n",
    "print('...validating')\n",
    "r = validate(cs)\n",
    "display(Display.HTML(f'<h1>Validation output</h1><h3>Status Code = {r.status_code}</h3> {r.json()[\"text\"][\"div\"]}'))\n",
    "\n"
   ]
  },
  {
   "cell_type": "markdown",
   "metadata": {},
   "source": [
    "### Create Narrative\n",
    "\n",
    "- Using Jinja2 Template create xhtml for narrative"
   ]
  },
  {
   "cell_type": "code",
   "execution_count": 1523,
   "metadata": {},
   "outputs": [
    {
     "name": "stdout",
     "output_type": "stream",
     "text": [
      "{'QuestionnaireResponse': ['[Argonaut Adaptive QuestionnaireResponse Profile](http://fhir.org/guides/argonaut-questionnaire/StructureDefinition/argo-adap-questionnaireresponse)']}\n"
     ]
    },
    {
     "data": {
      "text/html": [
       "<?xml version=\"1.0\"?>\n",
       "<!DOCTYPE html PUBLIC \"-//W3C//DTD XHTML 1.0 Transitional//EN\"\n",
       "\t\"http://www.w3.org/TR/xhtml1/DTD/xhtml1-transitional.dtd\">\n",
       "<html xmlns=\"http://www.w3.org/1999/xhtml\" xml:lang=\"en\" lang=\"en\">\n",
       "\t<head>\n",
       "\t\t<title>Enter your title here</title>\n",
       "\t</head>\n",
       "\t<body>\n",
       "\t\t<div xmlns=\"http://www.w3.org/1999/xhtml\">\n",
       "\t\t<h2 id=\"title\">Argonaut Adaptive Questionnaire Service CapabilityStatement</h2>\n",
       "\t\t\t<p>This section outlines conformance requirements for the Argonaut Questionnaire Adaptive QuestionService.  It is responsible for providing questions in response to requests and  determining the next question and calculation of the score for an Adaptive Questionnaires.  It supports the Argonaut Adaptive QuestionnaireResponse Profile and the transactions associated with the adaptive questionnaires.   Note that the Argonaut Profile and next-question OperationDefinition identify the structural constraints, terminology bindings and invariants.</p>\n",
       "\t\t\t<ul>\n",
       "\t\t\t\t<li>FHIR Version: 3.0.1</li>\n",
       "\t\t\t\t<li>Supported formats: xml, json</li>\n",
       "\t\t\t\t<li>Published: 2019-02-20</li>\n",
       "\t\t\t\t<li>Published by: The Argonaut Project</li>\n",
       "\t\t\t</ul>\n",
       "\t\t\t<h3 id=\"behavior\">FHIR RESTful Capabilities</h3>\n",
       "\n",
       "\t\t\t<p>The Argonaut Adaptive Questionnaire Service <strong>SHALL</strong>:</p>\n",
       "<ol>\n",
       "<li>Implement the RESTful behavior according to the FHIR specification including returning the appropriate response classes as described in the FHIR specification for <a href=\"http://hl7.org/fhir/STU3/http.html\">FHIR RESTful API</a>.</li>\n",
       "<li>Support json resource formats for all Argonaut Questionnaire interactions.</li>\n",
       "<li>Declare a CapabilityStatement identifying the list of profiles, operations, search parameter supported.</li>\n",
       "</ol>\n",
       "<p>The Argonaut Adaptive Questionnaire Service <strong>SHOULD</strong>:</p>\n",
       "<ol>\n",
       "<li>Support xml resource formats for all Argonaut questionnaire interactions.</li>\n",
       "<li>Provide a mechanism for discovery of the adaptive forms it offers.</li>\n",
       "</ol>\n",
       "\n",
       "\t\t\t<p id=\"security\"><strong>Security:</strong></p>\n",
       "\t\t\t<p><p>For general security consideration refer to the <a href=\"https://argonautproject.github.io/questionnaire/index.html#security-and-privacy-considerations\">Security and Privacy Considerations</a>.</p>\n",
       "</p>\n",
       "\n",
       "\n",
       "\t\t\t<h3 class=\"no_toc\" id=\"resource--details\">RESTful Capabilities by Resource/Profile:</h3>\n",
       "\n",
       "\t\t\t\n",
       "\t<p><strong>Summary of Operations</strong></p>\n",
       "\t<br />\n",
       "\t\t\t\n",
       "\t\t\t\t<li><strong>SHALL</strong> support the\t<a href=\"#&lt;fhirclient.models.fhirreference.FHIRReference object at 0x10933950&gt;\">next-question</a> operation.</li>\n",
       "\t\t\t\n",
       "\t\t\t\n",
       "\n",
       "\t\t\t<p><strong>Summary of Search Criteria</strong></p>\n",
       "\t\t\t<table class=\"grid\">\n",
       "\t\t\t\t<thead>\n",
       "\t\t\t\t\t<tr>\n",
       "\t\t\t\t\t\t<th>Resource Type</th>\n",
       "\t\t\t\t\t\t<th>Supported Profiles</th>\n",
       "\t\t\t\t\t\t<th>Supported Searches</th>\n",
       "\t\t\t\t\t\t<th>Supported Includes</th>\n",
       "\t\t\t\t\t</tr>\n",
       "\t\t\t\t</thead>\n",
       "\t\t\t\t<tbody>\n",
       "\t\t\t\t\t\n",
       "\t\t\t\t\t<tr>\n",
       "\t\t\t\t\t\t<td>\n",
       "\t\t\t\t\t\t\t<a href=\"#questionnaireresponse\">QuestionnaireResponse</a>\n",
       "\t\t\t\t\t\t</td>\n",
       "\t\t\t\t\t\t<td>\n",
       "\n",
       "\t\t\t\t\t\t\t<p><a href=\"http://fhir.org/guides/argonaut-questionnaire/StructureDefinition/argo-adap-questionnaireresponse\">Argonaut Adaptive QuestionnaireResponse Profile</a></p>\n",
       "\n",
       "\n",
       "\t\t\t\t\t\t</td>\n",
       "\t\t\t\t\t\t<td>\n",
       "\t\t\t\t\t\t\t\n",
       "\t\t\t\t\t\t</td>\n",
       "\t\t\t\t\t\t<td>\n",
       "\t\t\t\t\t\t\t\n",
       "\t\t\t\t\t\t</td>\n",
       "\t\t\t\t\t</tr>\n",
       "\t\t\t\t\t\n",
       "\t\t\t\t</tbody>\n",
       "\t\t\t</table>\n",
       "\t\t\t<br />\n",
       "\n",
       "\t\t\t\n",
       "\t\t\t<h4 class=\"no_toc\" id=\"questionnaireresponse\">QuestionnaireResponse</h4>\n",
       "\n",
       "\t\t\t<p>Supported Profiles:\n",
       "\t\t\t<p><a href=\"http://fhir.org/guides/argonaut-questionnaire/StructureDefinition/argo-adap-questionnaireresponse\">Argonaut Adaptive QuestionnaireResponse Profile</a></p>\n",
       "\n",
       "\t\t\t\t</p>\n",
       "\n",
       "\t\t\t\t<p>Profile Interaction Summary:</p>\n",
       "\t\t\t\t\n",
       "\t\t\t\t\n",
       "    \t\t\n",
       "        \n",
       "    \t\t\n",
       "    \t\t\n",
       "        \n",
       "    \t\t\n",
       "    \t\t\n",
       "        \n",
       "    \t\t\n",
       "\n",
       "\t\t\t\t<ul>\n",
       "\t\t\t\t\t\n",
       "\t\t\t\t\t\n",
       "\t\t\t\t\t<li><strong>MAY</strong> support \n",
       "\t\t\t\t\t\t\t\t\t\t\t\t\t\t\t\t\t\t\t\t\t\t\t<code>search-type</code>, \n",
       "\t\t\t\t\t\t\t\t\t\t\t\t\t\t\t\t\t\t\t\t\t\t\t<code>read</code>, \n",
       "\t\t\t\t\t\t\t\t\t\t\t\t\t\t\t\t\t\t\t\t\t\t\t<code>vread</code>.</li>\n",
       "\n",
       "\n",
       "\n",
       "\t\t\t\t</ul>\n",
       "\n",
       "\t\t\t<p>Fetch and Search Criteria:</p>\n",
       "\t\t\t<ul>\n",
       "\t\t\t\t\n",
       "\t\t\t\t<li>\n",
       "\t\t\t\t\tA server <strong>MAY</strong> be capable of returning a QuestionnaireResponse resource using:\n",
       "\t\t\t\t\t<br />\n",
       "\t\t\t\t\t\t<code class=\"highlighter-rouge\">GET [base]/QuestionnaireResponse/[id]</code>\n",
       "\t\t\t\t</li><br />\n",
       "\t\t\t\t\n",
       "\t\t\t\t\n",
       "\t\t\t</ul>\n",
       "\n",
       "\t\t\t\n",
       "\t\t\t\n",
       "\t\t\t<br />\n",
       "\t\t</div>\n",
       "\t</body>\n",
       "</html>"
      ],
      "text/plain": [
       "<IPython.core.display.HTML object>"
      ]
     },
     "metadata": {},
     "output_type": "display_data"
    }
   ],
   "source": [
    "in_path = ''\n",
    "in_file = 'STU3capabilitystatement-server.xhtml'\n",
    "\n",
    "\n",
    "def markdown(text, *args, **kwargs):\n",
    "    return commonmark(text, *args, **kwargs)\n",
    "\n",
    "\n",
    "\n",
    "env = Environment(\n",
    "    loader=FileSystemLoader(searchpath = in_path),\n",
    "    autoescape=select_autoescape(['html','xml','xhtml','j2','md'])\n",
    "    )\n",
    "\n",
    "env.filters['markdown'] = markdown\n",
    "\n",
    "\n",
    "template = env.get_template(in_file)\n",
    "\n",
    "print(p_map)\n",
    "display(HTML(template.render(cs=cs, p_map=p_map)))\n",
    "rendered = template.render(cs=cs, p_map=p_map)\n",
    "#print(rendered)\n",
    "\n",
    "parser = etree.XMLParser(remove_blank_text=True)\n",
    "root = etree.fromstring(rendered, parser=parser)\n",
    "\n",
    "div = (etree.tostring(root[1][0], encoding='unicode', method='html'))\n",
    "narr = N.Narrative()\n",
    "narr.status = 'generated'\n",
    "narr.div = div\n",
    "cs.text = narr\n",
    "\n",
    "\n",
    "#print(dumps(cs.as_json(),indent=3))"
   ]
  },
  {
   "cell_type": "markdown",
   "metadata": {},
   "source": [
    "### validate again"
   ]
  },
  {
   "cell_type": "code",
   "execution_count": 1524,
   "metadata": {},
   "outputs": [
    {
     "name": "stdout",
     "output_type": "stream",
     "text": [
      "...validating\n"
     ]
    },
    {
     "data": {
      "text/html": [
       "<h1>Validation output</h1><h3>Status Code = 200</h3> <div xmlns=\"http://www.w3.org/1999/xhtml\"><h1>Operation Outcome</h1><table border=\"0\"><tr><td style=\"font-weight: bold;\">WARNING</td><td>[CapabilityStatement.jurisdiction]</td><td><pre>None of the codes provided are in the value set http://hl7.org/fhir/ValueSet/jurisdiction (http://hl7.org/fhir/ValueSet/jurisdiction, and a code should come from this value set unless it has no suitable code) (codes = urn:iso:std:iso:3166#US)</pre></td>\n",
       "\t\t\t\t\t\n",
       "\t\t\t\t\n",
       "\t\t\t</tr>\n",
       "\t\t</table>\n",
       "\t</div>"
      ],
      "text/plain": [
       "<IPython.core.display.HTML object>"
      ]
     },
     "metadata": {},
     "output_type": "display_data"
    }
   ],
   "source": [
    "print('...validating')\n",
    "r = validate(cs)\n",
    "display(Display.HTML(f'<h1>Validation output</h1><h3>Status Code = {r.status_code}</h3> {r.json()[\"text\"][\"div\"]}'))\n"
   ]
  },
  {
   "cell_type": "markdown",
   "metadata": {},
   "source": [
    "### Write to folder"
   ]
  },
  {
   "cell_type": "code",
   "execution_count": 1525,
   "metadata": {},
   "outputs": [
    {
     "name": "stdout",
     "output_type": "stream",
     "text": [
      "capabilitystatement-adaptive-questionnaire-service\n"
     ]
    }
   ],
   "source": [
    "# save to file\n",
    "\n",
    "rjson = dumps(cs.as_json(), indent=3)\n",
    "name =f'capabilitystatement-{cs.id.lower()}'\n",
    "print(name)\n",
    "write_file(name, rjson)"
   ]
  },
  {
   "cell_type": "code",
   "execution_count": null,
   "metadata": {},
   "outputs": [],
   "source": []
  }
 ],
 "metadata": {
  "kernelspec": {
   "display_name": "Python 3",
   "language": "python",
   "name": "python3"
  },
  "language_info": {
   "codemirror_mode": {
    "name": "ipython",
    "version": 3
   },
   "file_extension": ".py",
   "mimetype": "text/x-python",
   "name": "python",
   "nbconvert_exporter": "python",
   "pygments_lexer": "ipython3",
   "version": "3.7.1"
  }
 },
 "nbformat": 4,
 "nbformat_minor": 2
}
