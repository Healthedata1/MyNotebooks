{
 "cells": [
  {
   "cell_type": "markdown",
   "metadata": {},
   "source": [
    "## Create FHIR R4 CapStatement Resource\n",
    "\n",
    "\n",
    "### Outline:\n",
    "\n",
    "- Source excel with requirements\n",
    "- pandas to convert in python Ordered Dict\n",
    "- build json\n",
    "- generate narrative using Jinja2 templates\n",
    "\n",
    "### Prerequisites:\n",
    "\n",
    "- Python 3.6 or greater"
   ]
  },
  {
   "cell_type": "markdown",
   "metadata": {},
   "source": [
    "## STEP1: Choose Source Spreadsheet to use\n",
    "\n",
    "*note:  Jupyteralab and widgets issues: see https://stackoverflow.com/questions/4\n",
    "9542417/how-to-get-ipywidgets-working-in-jupyter-lab for solution "
   ]
  },
  {
   "cell_type": "code",
   "execution_count": null,
   "metadata": {},
   "outputs": [],
   "source": [
    "#******************** NEED TO UPDATE WHEN Adding new IGS ************************************************\n",
    "\n",
    "from os import name as os_name\n",
    "my_base = '/Users/ehaas/' if os_name == 'posix' else '//ERICS-AIR-2/ehaas/'\n",
    "\n",
    "in_path_list = [\n",
    "        \"---pick one below---\",\n",
    "        \"Documents/Python/MyNotebooks/CapStatement/temp_source_spreadsheets/test-spreadsheet.xlsx\",\n",
    "        \"Documents/FHIR/US-Core-R4/input/resources_spreadsheets/uscore-client.xlsx\",\n",
    "        \"Documents/FHIR/US-Core-R4/input/resources_spreadsheets/uscore-server.xlsx\",\n",
    "        'Documents/FHIR/Davinci-Alerts/input/resources/source-data/capstatements-spreadsheets/alert-initiator.xlsx',\n",
    "         'Documents/FHIR/Davinci-Alerts/input/resources/source-data/capstatements-spreadsheets/notification-forwarder.xlsx',\n",
    "         'Documents/FHIR/Davinci-Alerts/input/resources/source-data/capstatements-spreadsheets/alert-receiver.xlsx',\n",
    "         'Documents/FHIR/Davinci-Alerts/input/resources/source-data/capstatements-spreadsheets/query-responder.xlsx',\n",
    "         'Documents/FHIR/Davinci-Alerts/input/resources/source-data/capstatements-spreadsheets/query-requester.xlsx',\n",
    "         'Documents/FHIR/Davinci-DEQM/input/resources/source-data/DEQM_Capability_Statement_Consumer_Client.xlsx',\n",
    "         'Documents/FHIR/Davinci-DEQM/input/resources/source-data/DEQM_Capability_Statement_Reporter_Client.xlsx',\n",
    "         'Documents/FHIR/Davinci-DEQM/input/resources/source-data/DEQM_Capability_Statement_Consumer_Server.xlsx',\n",
    "         'Documents/FHIR/Davinci-DEQM/input/resources/source-data/DEQM_Capability_Statement_Producer_Client.xlsx',\n",
    "         'Documents/FHIR/Davinci-DEQM/input/resources/source-data/DEQM_Capability_Statement_Producer_Server.xlsx',\n",
    "         'Documents/FHIR/Davinci-DEQM/input/resources/source-data/DEQM_Capability_Statement_Receiver_Server.xlsx',\n",
    "         \"Documents/FHIR/Davinci-DEQM/input/resources/source-data/DEQM_Capability_Statement_GIC_Reporter_Client.xlsx\",\n",
    "          \"Documents/FHIR/Davinci-DEQM/input/resources/source-data/DEQM_Capability_Statement_GIC_Receiver_Server.xlsx\",\n",
    "         'C:/Users/Administrator/Downloads/plan-net-server.xlsx',\n",
    "        'Documents/FHIR/Davinci-CDEX/input/resources-spreadsheet/data-source-client.xlsx',\n",
    "        'Documents/FHIR/Davinci-CDEX/input/resources-spreadsheet/data-source-server.xlsx',\n",
    "        'Documents/FHIR/Davinci-CDEX/input/resources-spreadsheet/data-consumer-client.xlsx',\n",
    "        'Documents/FHIR/Davinci-CDEX/input/resources-spreadsheet/data-consumer-server.xlsx',\n",
    "        'Documents/FHIR/Argo-PL/input/resources-spreadsheet/client.xlsx',\n",
    "        'Documents/FHIR/Argo-PL/input/resources-spreadsheet/server.xlsx',   \n",
    "        ]\n",
    "\n",
    "\n",
    "# ----------spreadsheet source---------------\n",
    "from IPython.display import display as Display, HTML, Markdown, Javascript\n",
    "from ipywidgets import Dropdown\n",
    "menu = Dropdown(\n",
    "       options=[my_base + x for x in in_path_list],\n",
    "       description='Choose Spreadsheet Source file',\n",
    "       style = {'description_width': 'initial',},\n",
    "       layout={'width': 'initial'},\n",
    "        )\n",
    "\n",
    "\n",
    "menu"
   ]
  },
  {
   "cell_type": "markdown",
   "metadata": {},
   "source": [
    "## STEP2:  *CLICK HERE* and then 'Select Run Selected Cell and All Below'  from menu bar to continue\""
   ]
  },
  {
   "cell_type": "code",
   "execution_count": null,
   "metadata": {},
   "outputs": [],
   "source": [
    "xls = menu.value\n",
    "xls"
   ]
  },
  {
   "cell_type": "markdown",
   "metadata": {},
   "source": [
    "### Import FHIRClient and other libraries"
   ]
  },
  {
   "cell_type": "code",
   "execution_count": null,
   "metadata": {},
   "outputs": [],
   "source": [
    "%config IPCompleter.greedy=True"
   ]
  },
  {
   "cell_type": "code",
   "execution_count": null,
   "metadata": {},
   "outputs": [],
   "source": [
    "from fhir.resources import construct_fhir_element\n",
    "from json import dumps, loads\n",
    "from requests import get, post, put\n",
    "from pathlib import Path\n",
    "from IPython.display import display as Display, HTML, Markdown, Javascript\n",
    "import ipywidgets as widgets\n",
    "from pprint import pprint\n",
    "from collections import namedtuple\n",
    "from pandas import *\n",
    "from datetime import datetime, date, timezone, timedelta\n",
    "from jinja2 import Environment, FileSystemLoader, select_autoescape\n",
    "from stringcase import snakecase, titlecase\n",
    "from commonmark import commonmark\n",
    "from htmlmin import minify"
   ]
  },
  {
   "cell_type": "markdown",
   "metadata": {},
   "source": [
    "####  Assign Global Variables\n",
    "\n",
    "Here is where we assign all the global variables for this example such as the canonical base and project information"
   ]
  },
  {
   "cell_type": "code",
   "execution_count": null,
   "metadata": {},
   "outputs": [],
   "source": [
    "fhir_base_url = 'http://hl7.org/fhir/'\n",
    "f_jurisdiction =  construct_fhir_element('CodeableConcept',{\n",
    "      \"coding\" : [\n",
    "        {\n",
    "          \"system\" : \"urn:iso:std:iso:3166\",\n",
    "          \"code\" : \"US\"\n",
    "        }\n",
    "      ]\n",
    "    })\n",
    "\n",
    "conf_url = 'http://hl7.org/fhir/StructureDefinition/capabilitystatement-expectation'\n",
    "combo_url = 'http://hl7.org/fhir/StructureDefinition/capabilitystatement-search-parameter-combination'\n",
    "sp_specials = {'us-core-includeprovenance':'http://hl7.org/fhir/us/core/SearchParameter/us-core-includeprovenance'}  # dict to for SP to get right canonicals, may use spreadsheet or package file in future.\n",
    "\n",
    "none_list = ['', ' ', 'none', 'n/a', 'N/A', 'N', 'False', None,]\n",
    "\n",
    "sep_list = (',', ';', ' ', ', ', '; ')\n",
    "\n",
    "\n",
    "timezone_offset = -8.0  # Pacific Standard Time (UTC−08:00)\n",
    "tzinfo = timezone(timedelta(hours=timezone_offset))\n",
    "f_now = datetime.now(tzinfo)\n",
    "f_now"
   ]
  },
  {
   "cell_type": "markdown",
   "metadata": {},
   "source": [
    "#### To PascalCase Utility"
   ]
  },
  {
   "cell_type": "code",
   "execution_count": null,
   "metadata": {},
   "outputs": [],
   "source": [
    "def kebab_to_pascal(word):\n",
    "    return ''.join(x.capitalize() for x in word.split('-'))"
   ]
  },
  {
   "cell_type": "markdown",
   "metadata": {},
   "source": [
    "#### Set Simple Attributes"
   ]
  },
  {
   "cell_type": "code",
   "execution_count": null,
   "metadata": {},
   "outputs": [],
   "source": [
    "def set_attr(v=None):\n",
    "    if v and v not in none_list:\n",
    "        return v\n",
    "    else:\n",
    "        return"
   ]
  },
  {
   "cell_type": "markdown",
   "metadata": {},
   "source": [
    "#### Set List Attributes"
   ]
  },
  {
   "cell_type": "code",
   "execution_count": null,
   "metadata": {},
   "outputs": [],
   "source": [
    "def set_attr_list(v=None):\n",
    "    if v:\n",
    "        return [i for i in v.split(\",\")]\n",
    "    else:\n",
    "        return"
   ]
  },
  {
   "cell_type": "markdown",
   "metadata": {},
   "source": [
    "#### Conformance Extension"
   ]
  },
  {
   "cell_type": "code",
   "execution_count": null,
   "metadata": {},
   "outputs": [],
   "source": [
    "def get_conf(conf='MAY',as_dict=False):\n",
    "    if as_dict:\n",
    "        return [construct_fhir_element('Extension',dict(\n",
    "            url = conf_url,\n",
    "            valueCode = conf\n",
    "            )).json()]\n",
    "    else:\n",
    "        return [construct_fhir_element('Extension',dict(\n",
    "            url = conf_url,\n",
    "            valueCode = conf if conf else \"MAY\"\n",
    "            ))]\n",
    "        "
   ]
  },
  {
   "cell_type": "markdown",
   "metadata": {},
   "source": [
    "#### Primitive Conformance Extension"
   ]
  },
  {
   "cell_type": "code",
   "execution_count": null,
   "metadata": {},
   "outputs": [],
   "source": [
    "def get_prim_ext(conf=None):\n",
    "    if not set(conf).issubset(none_list):\n",
    "        conf_list = []\n",
    "        try: # is comma sep string\n",
    "            conf = conf.split(',')\n",
    "        except AttributeError: # is list\n",
    "            pass         \n",
    "        for i in conf:\n",
    "            if i not in none_list:\n",
    "                conf_ext = construct_fhir_element('FHIRPrimitiveExtension', dict(\n",
    "                    extension = get_conf(conf=i),\n",
    "                    ))\n",
    "            else:\n",
    "                conf_ext = None\n",
    "            conf_list.append(conf_ext)\n",
    "        \n",
    "        return conf_list\n",
    "    else:\n",
    "        return"
   ]
  },
  {
   "cell_type": "markdown",
   "metadata": {},
   "source": [
    "### Addin Extensions"
   ]
  },
  {
   "cell_type": "code",
   "execution_count": null,
   "metadata": {},
   "outputs": [],
   "source": [
    "def get_addin_ext(py_ext, json_ext):            \n",
    "    print(py_ext)\n",
    "    if json_ext:   # ie not ''\n",
    "        addin_ext = construct_fhir_element('Extension',loads(json_ext))            \n",
    "        # addin_ext.extension =  get_conf('SHALL') violates invariant   - DONT USE           \n",
    "        print(addin_ext)                 \n",
    "        py_ext.append(addin_ext) # add in other extensions\n",
    "    print(py_ext)\n",
    "    return py_ext"
   ]
  },
  {
   "cell_type": "markdown",
   "metadata": {},
   "source": [
    "### validate"
   ]
  },
  {
   "cell_type": "code",
   "execution_count": null,
   "metadata": {},
   "outputs": [],
   "source": [
    "# *********************** validate Resource ********************************\n",
    "\n",
    "def validate(r):\n",
    "\n",
    "    #fhir_test_server = 'http://test.fhir.org/r4'\n",
    "    #fhir_test_server = 'http://hapi.fhir.org/baseR4'\n",
    "    fhir_test_server = 'http://wildfhir4.aegis.net/fhir4-0-1'\n",
    "    \n",
    "    headers = {\n",
    "    'Accept':'application/fhir+json',\n",
    "    'Content-Type':'application/fhir+json'\n",
    "    }\n",
    "\n",
    "    # profile = 'http://hl7.org/fhir/us/core/StructureDefinition/us-core-patient' # The official URL for this profile is: http://hl7.org/fhir/us/core/StructureDefinition/us-core-patient\n",
    " \n",
    "    params = dict(\n",
    "      # profile = 'http://hl7.org/fhir/us/core/StructureDefinition/us-core-patient' # The official URL for this profile is: http://hl7.org/fhir/us/core/StructureDefinition/us-core-patient\n",
    "        )\n",
    "    \n",
    "    #   r = requests.post('https://httpbin.org/post', data = {'key':'value'})\n",
    "    r = post(f'{fhir_test_server}/Questionnaire/$validate', params = params, headers = headers, data = r.json())\n",
    "    # return r.status_code\n",
    "    # view  output\n",
    "    # return (r.json()[\"text\"][\"div\"])\n",
    "    return r"
   ]
  },
  {
   "cell_type": "markdown",
   "metadata": {},
   "source": [
    "### Get Cap Statement input data"
   ]
  },
  {
   "cell_type": "markdown",
   "metadata": {},
   "source": [
    "function to convert to dataframe series to namedtuple for easy peasy dot notation use."
   ]
  },
  {
   "cell_type": "markdown",
   "metadata": {},
   "source": [
    "#### first the config data"
   ]
  },
  {
   "cell_type": "code",
   "execution_count": null,
   "metadata": {},
   "outputs": [],
   "source": [
    "df = read_excel(xls,'config',na_filter = False,index_col=0)  # use the index_col = 0 for setting the first rwo as the index\n",
    "\n",
    "df"
   ]
  },
  {
   "cell_type": "markdown",
   "metadata": {},
   "source": [
    "#### assign globals e.g. publisher parameter etc..."
   ]
  },
  {
   "cell_type": "code",
   "execution_count": null,
   "metadata": {},
   "outputs": [],
   "source": [
    "#df.[Column].[row] to get a value df.loc[[row],[Column]] or df.at[[column],[col]] works too\n",
    "df.Value.source #, df.loc['source','Value'], df.at['source' ,'Value']"
   ]
  },
  {
   "cell_type": "code",
   "execution_count": null,
   "metadata": {},
   "outputs": [],
   "source": [
    "\n",
    "ig_source_path = df.Value.source\n",
    "ig_package_tar_path =  df.Value.packagepath\n",
    "# --------- ig specific variable -------------------\n",
    "pre = df.Value.pre  # for Titles - not sure this is actually used\n",
    "canon = df.Value.canon # don't forget the slash  - fix using os.join or path\n",
    "#\n",
    "publisher = df.Value.publisher\n",
    "#\n",
    "publisher_endpoint = dict(\n",
    "                    system = df.Value.publishersystem,\n",
    "                    value = df.Value.publishervalue,\n",
    "                  )\n",
    "\n",
    "pprint(publisher_endpoint)\n"
   ]
  },
  {
   "cell_type": "markdown",
   "metadata": {},
   "source": [
    "#### Get IG Names\n",
    "\n",
    "until able to support primitive extensions in pyfhir"
   ]
  },
  {
   "cell_type": "code",
   "execution_count": null,
   "metadata": {},
   "outputs": [],
   "source": [
    "def get_igs():\n",
    "    ig_dict = {}\n",
    "    df_igs = read_excel(xls,'igs',na_filter = False)\n",
    "    for ig in df_igs.itertuples(index=True):\n",
    "        try:\n",
    "            ig_dict[ig.canonical] = (ig.name, ig.canonical, ig.conformance)\n",
    "        except Exception as e:\n",
    "            print(e)\n",
    "    return ig_dict\n",
    "\n",
    "ig_dict = get_igs()\n",
    "shall_igs = {k:v for k,v in ig_dict.items() if v[2] == \"SHALL\"}\n",
    "should_igs = {k:v for k,v in ig_dict.items() if v[2] == \"SHOULD\"}\n",
    "\n",
    "ig_dict, shall_igs, should_igs"
   ]
  },
  {
   "cell_type": "markdown",
   "metadata": {},
   "source": [
    "#### then the meta sheet"
   ]
  },
  {
   "cell_type": "code",
   "execution_count": null,
   "metadata": {},
   "outputs": [],
   "source": [
    "df = read_excel(xls,'meta',na_filter = False)\n",
    "\n",
    "df"
   ]
  },
  {
   "cell_type": "markdown",
   "metadata": {},
   "source": [
    "#### Create NamedTuple from df to use dot notation"
   ]
  },
  {
   "cell_type": "code",
   "execution_count": null,
   "metadata": {},
   "outputs": [],
   "source": [
    "d = dict(zip(df.Element, df.Value))\n",
    "meta = namedtuple(\"Meta\", d.keys())(*d.values())      \n",
    "         \n",
    "meta.id"
   ]
  },
  {
   "cell_type": "markdown",
   "metadata": {},
   "source": [
    "\n",
    "### Create CS instance"
   ]
  },
  {
   "cell_type": "code",
   "execution_count": null,
   "metadata": {},
   "outputs": [],
   "source": [
    "cs = construct_fhir_element('CapabilityStatement',dict(\n",
    "id = meta.id,\n",
    "url = f'{canon}CapabilityStatement/{meta.id}',\n",
    "version = meta.version,\n",
    "name = f'{kebab_to_pascal(meta.id)}CapabilityStatement',\n",
    "title = f'{titlecase(meta.id).replace(\"Us \", \"US \")} CapabilityStatement',\n",
    "status = 'active',\n",
    "experimental = False,\n",
    "date = f_now, # as FHIRDate\n",
    "publisher = publisher,\n",
    "contact = [construct_fhir_element('ContactDetail', {\"telecom\" : [ publisher_endpoint ] })],\n",
    "description = meta.description,\n",
    "jurisdiction = [f_jurisdiction],\n",
    "kind = 'requirements',\n",
    "fhirVersion = meta.fhirVersion,\n",
    "format = set_attr_list(meta.format),\n",
    "format__ext = get_prim_ext(meta.format_conf),\n",
    "patchFormat = set_attr_list(meta.patchFormat),\n",
    "patchFormat__ext = get_prim_ext(meta.patchFormat_conf),\n",
    "))\n",
    "\n",
    "print(cs.json(indent=2))"
   ]
  },
  {
   "cell_type": "markdown",
   "metadata": {},
   "source": [
    "#### Add in Rest"
   ]
  },
  {
   "cell_type": "code",
   "execution_count": 472,
   "metadata": {},
   "outputs": [
    {
     "data": {
      "text/plain": [
       "'SHOULD'"
      ]
     },
     "execution_count": 472,
     "metadata": {},
     "output_type": "execute_result"
    }
   ],
   "source": [
    "# get primitive extension\n",
    "\n",
    "cs.patchFormat__ext[0].extension[0].valueCode"
   ]
  },
  {
   "cell_type": "code",
   "execution_count": null,
   "metadata": {},
   "outputs": [],
   "source": [
    "def get_sys_op():\n",
    "    op_list = []\n",
    "    df_op = read_excel(xls,'ops',na_filter = False)\n",
    "    for i in df_op.itertuples(index=True):\n",
    "        if i.type == 'system':\n",
    "            op = CS.CapabilityStatementRestResourceOperation()\n",
    "            op.name = i.name \n",
    "            op.definition = i.definition\n",
    "            op.extension = get_conf(i.conf)           \n",
    "            op_list.append(op.json())\n",
    "    return op_list if op_list else None\n",
    "\n",
    "\n",
    "def get_rest_ints():\n",
    "    ri_list = []\n",
    "    df_ri = read_excel(xls,'rest_interactions',na_filter = False)\n",
    "    for i in df_ri.itertuples(index=True):\n",
    "        ri = construct_fhir_element('CapabilityStatementRestInteraction', dict(\n",
    "        code = i.code,\n",
    "        documentation = i.doc if i.doc not in none_list else None,\n",
    "        extension = get_conf(i.conf),\n",
    "        ))                         \n",
    "        print(ri.json(indent=2))\n",
    "        ri_list.append(ri.json())        \n",
    "    return ri_list  if ri_list else None\n",
    "\n",
    "rest = construct_fhir_element('CapabilityStatementRest',(dict(\n",
    "    mode = meta.mode,\n",
    "    documentation = meta.documentation,\n",
    "    security = dict(\n",
    "        description = meta.security\n",
    "        ) if meta.security else None,\n",
    "    interaction = get_rest_ints(),\n",
    "    operation = get_sys_op()\n",
    "    )))\n",
    "                              \n",
    "cs.rest = [rest]\n",
    "\n",
    "print(cs.json(indent=2))"
   ]
  },
  {
   "cell_type": "markdown",
   "metadata": {},
   "source": [
    "#### Add in IG, and Capstatements and their conformance"
   ]
  },
  {
   "cell_type": "code",
   "execution_count": null,
   "metadata": {},
   "outputs": [],
   "source": [
    "df_igs = read_excel(xls,'igs',na_filter = False)\n",
    "cs.implementationGuide = set_attr([ig.canonical for ig in df_igs.itertuples(index=True)])\n",
    "#print([ig.conformance for ig in df_igs.itertuples(index=True) if ig.imports not in none_list])\n",
    "cs.implementationGuide__ext = get_prim_ext([ig.conformance for ig in df_igs.itertuples(index=True)])\n",
    "\n",
    "df_capstatements = read_excel(xls,'capstatements',na_filter = False)\n",
    "cs.imports = set_attr([ig.canonical for ig in df_capstatements.itertuples(index=True) if ig.imports not in none_list])\n",
    "cs.imports__ext = get_prim_ext([ig.conformance for ig in df_capstatements.itertuples(index=True)])\n",
    "cs.instantiates = set_attr([ig.canonical for ig in df_capstatements.itertuples(index=True) if ig.instantiates not in none_list])\n",
    "cs.instantiates__ext = get_prim_ext([ig.conformance for ig in df_capstatements.itertuples(index=True)])\n",
    "\n",
    "print(cs.json(indent=2))"
   ]
  },
  {
   "cell_type": "markdown",
   "metadata": {},
   "source": [
    "#### add Resources\n",
    "\n",
    "- read sheets for resource attributes, interaction attributes,  search attributes, profiles, and combo search parameters"
   ]
  },
  {
   "cell_type": "code",
   "execution_count": null,
   "metadata": {},
   "outputs": [],
   "source": [
    "df_resources = read_excel(xls,'resources',na_filter = False)\n",
    "df_resources = df_resources[df_resources.type.str[0] != '!']\n",
    "df_resources"
   ]
  },
  {
   "cell_type": "code",
   "execution_count": null,
   "metadata": {},
   "outputs": [],
   "source": [
    "df_profiles = read_excel(xls,'profiles',na_filter = False)  #df1 = df[df.Hostname.str[0] != \"abc\"]\n",
    "df_profiles = df_profiles[df_profiles.Profile.str[0] != '!']\n",
    "df_profiles"
   ]
  },
  {
   "cell_type": "code",
   "execution_count": null,
   "metadata": {},
   "outputs": [],
   "source": [
    "df_i = read_excel(xls,'interactions',na_filter = False)\n",
    "df_sp = read_excel(xls,'sps',na_filter = False)\n",
    "df_combos = read_excel(xls,'sp_combos',na_filter = False)\n",
    "df_op = read_excel(xls,'ops',na_filter = False)\n",
    "\n",
    "\n",
    "def get_i(type):\n",
    "    int_list = []\n",
    "    for i in df_i.itertuples(index=True):\n",
    "        #print(i.code, getattr(i,f'conf_{type}'))\n",
    "        if getattr(i,f'conf_{type}') not in none_list:\n",
    "            try:\n",
    "                documentation = getattr(i,f'doc_{type}') if getattr(i,f'doc_{type}') not in none_list else None\n",
    "            except AttributeError:\n",
    "                documentation = None\n",
    "            int  = construct_fhir_element('CapabilityStatementRestResourceInteraction', dict(\n",
    "            code = i.code,\n",
    "            documentation = documentation,\n",
    "            extension = get_conf(getattr(i,f'conf_{type}')),\n",
    "            ))\n",
    "            int_list.append(int.json()),               \n",
    "    return int_list\n",
    "\n",
    "\n",
    "def get_sp(r_type):\n",
    "    sp_list = []\n",
    "    for i in df_sp.itertuples(index=True):\n",
    "        if i.base == r_type:\n",
    "            # TODO need to fix this to reference the package file to reconcile definition to names\n",
    "            if i.code in sp_specials: #special case temp fix for us-core\n",
    "                definition = sp_specials[i.code]\n",
    "            elif i.update == 'Y' or i.exists =='N':\n",
    "                definition = f'{canon}SearchParameter/{pre.lower()}-{i.base.lower()}-{i.code.split(\"_\")[-1]}'                  \n",
    "            elif i.code.startswith('_'): #common sp\n",
    "                definition = f'{fhir_base_url}SearchParameter/{i.code.replace(\"_\",\"Resource-\")}'\n",
    "            else:  # use base definition\n",
    "                definition = f'{fhir_base_url}SearchParameter/{i.base}-{i.code}'\n",
    "            # print(definition)\n",
    "            \n",
    "            sp  = construct_fhir_element('CapabilityStatementRestResourceSearchParam', dict(\n",
    "            name = i.code,\n",
    "            definition = definition,\n",
    "            documentation = i.documentation if i.documentation not in none_list else None,               \n",
    "            type = i.type,\n",
    "            extension = get_conf(i.base_conf),\n",
    "            ))\n",
    "            #print(sp.json())                \n",
    "            sp_list.append(sp.json())                            \n",
    "    return sp_list\n",
    "\n",
    "\n",
    "def get_combo_ext(r_type,combos):\n",
    "    x_list = []\n",
    "    for combo in combos:\n",
    "        # convert to extension\n",
    "        combo_ext = construct_fhir_element('Extension', dict (\n",
    "        url = combo_url,\n",
    "        extension=get_conf(combo[1]),\n",
    "        ))\n",
    "        for param in combo[0].split(','):\n",
    "            req_combo = construct_fhir_element('Extension', dict (\n",
    "                    url = 'required',\n",
    "                    valueString = param,   #http://hl7.org/fhir/us/core/SearchParameter/us-core-patient-family\n",
    "                ))\n",
    "            combo_ext.extension.append(req_combo)\n",
    "        x_list.append(combo_ext)\n",
    "        # print(x_list)\n",
    "    return x_list\n",
    "  \n",
    "    \n",
    "def get_op(r_type):\n",
    "    op_list = []\n",
    "    for i in df_op.itertuples(index=True):\n",
    "         if i.type == r_type:\n",
    "            op = construct_fhir_element('CapabilityStatementRestResourceOperation', dict(\n",
    "            name = i.name, \n",
    "            definition = i.definition,\n",
    "            documentation = i.documentation if i.documentation not in none_list else None,\n",
    "            extension = get_conf(i.conf),\n",
    "            ))\n",
    "            try:                     \n",
    "                op.extension =  get_addin_ext(op.extension, i.ext)\n",
    "            except AttributeError:\n",
    "                print(\"---- no addin extensions found-----\")\n",
    "            op_list.append(op.json())                           \n",
    "    return op_list  \n",
    "\n",
    "\n",
    "rest.resource =  []\n",
    "for r in df_resources.itertuples(index=True):\n",
    "    # print(r.type, r.conformance, r.readHistory\n",
    "    supported_profile = [p.Profile for p in df_profiles.itertuples(index=True) if p.Type == r.type]\n",
    "    #pprint(supported_profile)                         \n",
    "    res = construct_fhir_element('CapabilityStatementRestResource', dict(\n",
    "        type = r.type,\n",
    "        documentation = set_attr(r.documentation),\n",
    "        versioning = set_attr(r.versioning),\n",
    "        readHistory = set_attr(r.readHistory),\n",
    "        updateCreate = set_attr(r.updateCreate),\n",
    "        conditionalCreate = set_attr(r.conditionalCreate),\n",
    "        conditionalRead = set_attr(r.conditionalRead),\n",
    "        conditionalUpdate = set_attr(r.conditionalUpdate),\n",
    "        conditionalDelete = set_attr(r.conditionalDelete),\n",
    "        referencePolicy = set_attr_list(r.referencePolicy),\n",
    "        searchInclude = set_attr_list(r.include),\n",
    "        searchInclude__ext = get_prim_ext(r.include_conf),\n",
    "        searchRevInclude = set_attr_list(r.revinclude),\n",
    "        searchRevInclude__ext = get_prim_ext(r.revinclude_conf),\n",
    "        interaction = get_i(r.type),\n",
    "        searchParam = get_sp(r.type),\n",
    "        operation = get_op(r.type),\n",
    "        profile = set_attr(r.profile),\n",
    "        supportedProfile = supported_profile,\n",
    "        )\n",
    "    )\n",
    "    res.extension = get_conf(r.conformance)\n",
    "    combos = {(i.combo,i.combo_conf) for i in df_combos.itertuples(index=True) if i.base == r.type}\n",
    "    res.extension = res.extension + get_combo_ext(r.type,combos) # convert list to  lst of combo extension                              \n",
    "    rest.resource.append(res)\n",
    "\n",
    "rest.resource =  sorted(rest.resource,key = lambda x: x.type)  # sort resources                         \n",
    "cs.rest = [rest]\n",
    "    \n",
    "print(cs.json(indent=2))          "
   ]
  },
  {
   "cell_type": "markdown",
   "metadata": {},
   "source": [
    "### Validate"
   ]
  },
  {
   "cell_type": "code",
   "execution_count": null,
   "metadata": {},
   "outputs": [],
   "source": [
    " #validate and write to file\n",
    "\n",
    "print('...validating')\n",
    "r = validate(cs)\n",
    "display(HTML(f'<h1>Validation output</h1><h3>Status Code = {r.status_code}</h3> {r.json()[\"text\"][\"div\"]}'))"
   ]
  },
  {
   "cell_type": "markdown",
   "metadata": {},
   "source": [
    "### Create Narrative\n",
    "\n",
    "- Using Jinja2 Template create xhtml for narrative"
   ]
  },
  {
   "cell_type": "markdown",
   "metadata": {},
   "source": [
    "#### First: Get spec_internal from package.tgz a json file which includes canonical to local relative page links\n",
    "\n",
    "Note for this to work you have to have a working build that already contains all the needed artifacts."
   ]
  },
  {
   "cell_type": "code",
   "execution_count": null,
   "metadata": {},
   "outputs": [],
   "source": [
    "import tarfile\n",
    "package_path = Path.cwd() / 'tarfiles'/'package.tgz'  #get_si(path)\n",
    "\n",
    "def get_si(package_path):\n",
    "    with tarfile.open(package_path, mode='r') as tf:\n",
    "        #pprint(tf.getnames())\n",
    "        f = tf.extractfile('package/other/spec.internals')\n",
    "        r = f.read()\n",
    "        si = loads(r)\n",
    "        return si\n",
    "\n",
    "    \n",
    "def get_si3(path):\n",
    "    tf = get(path)\n",
    "    print(tf)\n",
    "    return tf\n",
    "\n",
    "\"e.g. https://build.fhir.org/ig/HL7/davinci-deqm/package.tgz\" \n",
    "try:   \n",
    "    tf= get_si3(ig_package_tar_path) # get from remote server\n",
    "except:\n",
    "   in_path = Path() / ig_package_tar_path /'package.tgz'\n",
    "   tf = in_path.read_bytes()\n",
    "   package_path.write_bytes(tf)  # get from package (json) file in local .fhir directory\n",
    "else:\n",
    "    package_path.write_bytes(tf.content)    #save in temp file\n",
    "    \n",
    "si = get_si(package_path) #unpack from file\n",
    "\n",
    "path_map = si['paths']\n",
    "path_map"
   ]
  },
  {
   "cell_type": "markdown",
   "metadata": {},
   "source": [
    "#### Then Use Jinja2 template to create narrative"
   ]
  },
  {
   "cell_type": "code",
   "execution_count": 525,
   "metadata": {},
   "outputs": [
    {
     "name": "stdout",
     "output_type": "stream",
     "text": [
      "2021-05-26 17:23:23.007182-08:00\n"
     ]
    }
   ],
   "source": [
    "in_path = ''\n",
    "in_file = 'R4capabilitystatement-server.j2'\n",
    "\n",
    "print(cs.date)"
   ]
  },
  {
   "cell_type": "code",
   "execution_count": 526,
   "metadata": {},
   "outputs": [],
   "source": [
    "def markdown(text, *args, **kwargs):\n",
    "    return commonmark(text, *args, **kwargs)\n",
    "\n",
    "env = Environment(\n",
    "    loader=FileSystemLoader(searchpath = in_path),\n",
    "    autoescape=select_autoescape(['html','xml','xhtml','j2','md'],),\n",
    "    trim_blocks = True,\n",
    "    lstrip_blocks = True,\n",
    "    )\n",
    "\n",
    "env.filters['markdown'] = markdown\n",
    "\n",
    "template = env.get_template(in_file)\n",
    "\n",
    "sp_map = {sp.code:sp.type for sp in df_sp.itertuples(index=True)}\n",
    "pname_map = {p.Profile:p.Name for p in df_profiles.itertuples(index=True)}\n",
    "#pprint(sp_map)\n",
    "rendered = template.render(cs=cs, path_map=path_map, pname_map=pname_map, sp_map=sp_map, shall_igs=shall_igs, should_igs=should_igs) #ig_dict=ig_dict )"
   ]
  },
  {
   "cell_type": "markdown",
   "metadata": {},
   "source": [
    "### Minify the xhtml"
   ]
  },
  {
   "cell_type": "code",
   "execution_count": 527,
   "metadata": {},
   "outputs": [
    {
     "data": {
      "text/html": [
       "<div xmlns=\"http://www.w3.org/1999/xhtml\"> <h2 id=\"title\">US Core Server CapabilityStatement</h2> <ul> <li>Implementation Guide Version: 3.1.1</li> <li>FHIR Version: 4.0.1</li> <li>Supported formats: JSON, XML</li> <li>Published: 2021-05-26 17:23:23.007182-08:00</li> <li>Published by: HL7 International - US Realm Steering Committee</li> </ul> <p>This Section describes the expected capabilities of the US Core Server actor which is responsible for providing responses to the queries submitted by the US Core Requestors. The complete list of FHIR profiles, RESTful operations, and search parameters supported by US Core Servers are defined. Systems implementing this capability statement should meet the ONC 2015 Common Clinical Data Set (CCDS) access requirement for Patient Selection 170.315(g)(7) and Application Access - Data Category Request 170.315(g)(8) and and the ONC <a href=\"https://www.healthit.gov/isa/sites/isa/files/2020-03/USCDI-Version1-2020-Final-Standard.pdf\">U.S. Core Data for Interoperability (USCDI)</a>. US Core Clients have the option of choosing from this list to access necessary data based on their local use cases and other contextual requirements.</p> <h3 class=\"no_toc\" id=\"shall_igs\">SHOULD Support the Following Implementation Guides:</h3> <ul> <li><a href=\"bazindex.html\">baz</a></li> </ul> <h3 class=\"no_toc\" id=\"shall_igs\">MAY Support the Following Implementation Guides:</h3> <ul> <li><a href=\"fooindex.html\">foo</a></li> </ul> <ul> <li><a href=\"barindex.html\">bar</a></li> </ul> <h3 class=\"no_toc\" id=\"resource--details\">RESTful Capabilities by Resource/Profile:</h3> <p><strong>Summary of Search Criteria</strong></p> <table class=\"grid\"> <thead> <tr> <th>Resource Type</th> <th>Supported Profiles</th> <th>Supported Searches</th> <th>Supported <code>_includes</code></th> <th>Supported <code>_revincludes</code></th> <th>Supported Operations</th> </tr> </thead> <tbody> <tr> <td> <a href=\"#allergyintolerance\">AllergyIntolerance</a> </td> <td> <a href=\"StructureDefinition-us-core-allergyintolerance.html\">US Core AllergyIntolerance Profile</a> </td> <td> clinical-status, patient patient+clinical-status </td> <td> </td> <td> Provenance:target </td> <td> </td> </tr> <tr> <td> <a href=\"#careplan\">CarePlan</a> </td> <td> <a href=\"StructureDefinition-us-core-careplan.html\">US Core CarePlan Profile</a> </td> <td> category, date, patient, status patient+category, patient+category+date, patient+category+status, patient+category+status+date </td> <td> </td> <td> Provenance:target </td> <td> </td> </tr> <tr> <td> <a href=\"#careteam\">CareTeam</a> </td> <td> <a href=\"StructureDefinition-us-core-careteam.html\">US Core CareTeam Profile</a> </td> <td> patient, status patient+status </td> <td> </td> <td> Provenance:target </td> <td> </td> </tr> <tr> <td> <a href=\"#condition\">Condition</a> </td> <td> <a href=\"StructureDefinition-us-core-condition.html\">US Core Condition Profile</a> </td> <td> category, clinical-status, patient, onset-date, code patient+category, patient+code, patient+clinical-status, patient+onset-date </td> <td> </td> <td> Provenance:target </td> <td> </td> </tr> <tr> <td> <a href=\"#device\">Device</a> </td> <td> <a href=\"StructureDefinition-us-core-implantable-device.html\">US Core Implantable Device Profile</a> </td> <td> patient, type patient+type </td> <td> </td> <td> Provenance:target </td> <td> </td> </tr> <tr> <td> <a href=\"#diagnosticreport\">DiagnosticReport</a> </td> <td> <a href=\"StructureDefinition-us-core-diagnosticreport-lab.html\">US Core DiagnosticReport Profile for Laboratory Results Reporting</a>, <a href=\"StructureDefinition-us-core-diagnosticreport-note.html\">US Core DiagnosticReport Profile for Report and Note exchange</a> </td> <td> status, patient, category, code, date patient+category+date, patient+code+date, patient+category, patient+code, patient+status </td> <td> </td> <td> Provenance:target </td> <td> </td> </tr> <tr> <td> <a href=\"#documentreference\">DocumentReference</a> </td> <td> <a href=\"StructureDefinition-us-core-documentreference.html\">US Core DocumentReference Profile</a> </td> <td> _id, status, patient, category, type, date, period patient+category+date, patient+category, patient+status, patient+type, patient+type+period </td> <td> </td> <td> Provenance:target </td> <td> docref </td> </tr> <tr> <td> <a href=\"#encounter\">Encounter</a> </td> <td> <a href=\"StructureDefinition-us-core-encounter.html\">US Core Encounter Profile</a> </td> <td> _id, class, date, identifier, patient, status, type patient+type, class+patient, patient+status, date+patient </td> <td> </td> <td> Provenance:target </td> <td> </td> </tr> <tr> <td> <a href=\"#goal\">Goal</a> </td> <td> <a href=\"StructureDefinition-us-core-goal.html\">US Core Goal Profile</a> </td> <td> lifecycle-status, patient, target-date patient+lifecycle-status, patient+target-date </td> <td> </td> <td> Provenance:target </td> <td> </td> </tr> <tr> <td> <a href=\"#immunization\">Immunization</a> </td> <td> <a href=\"StructureDefinition-us-core-immunization.html\">US Core Immunization Profile</a> </td> <td> patient, status, date patient+status, patient+date </td> <td> </td> <td> Provenance:target </td> <td> </td> </tr> <tr> <td> <a href=\"#location\">Location</a> </td> <td> <a href=\"StructureDefinition-us-core-location.html\">US Core Location Profile</a> </td> <td> name, address, address-city, address-state, address-postalcode </td> <td> </td> <td> </td> <td> </td> </tr> <tr> <td> <a href=\"#medication\">Medication</a> </td> <td> <a href=\"StructureDefinition-us-core-medication.html\">US Core Medication Profile</a> </td> <td> </td> <td> </td> <td> </td> <td> </td> </tr> <tr> <td> <a href=\"#medicationrequest\">MedicationRequest</a> </td> <td> <a href=\"StructureDefinition-us-core-medicationrequest.html\">US Core MedicationRequest Profile</a> </td> <td> status, intent, patient, encounter, authoredon patient+intent, patient+intent+encounter, patient+intent+authoredon, patient+intent+status </td> <td> MedicationRequest:medication </td> <td> Provenance:target </td> <td> </td> </tr> <tr> <td> <a href=\"#observation\">Observation</a> </td> <td> <a href=\"StructureDefinition-us-core-observation-lab.html\">US Core Laboratory Result Observation Profile</a>, <a href=\"StructureDefinition-us-core-vital-signs.html\">US Core Vital Signs Profile</a>, <a href=\"StructureDefinition-us-core-blood-pressure.html\">US Core Blood Pressure Profile</a>, <a href=\"StructureDefinition-us-core-bmi.html\">US Core BMI Profile</a>, <a href=\"StructureDefinition-us-core-head-circumference.html\">US Core Head Circumference Profile</a>, <a href=\"StructureDefinition-us-core-body-height.html\">US Core Body Height Profile</a>, <a href=\"StructureDefinition-us-core-body-weight.html\">US Core Body Weight Profile</a>, <a href=\"StructureDefinition-us-core-body-temperature.html\">US Core Body Temperature Profile</a>, <a href=\"StructureDefinition-us-core-heart-rate.html\">US Core Heart Rate Profile</a>, <a href=\"StructureDefinition-pediatric-bmi-for-age.html\">US Core Pediatric BMI for Age Observation Profile</a>, <a href=\"StructureDefinition-head-occipital-frontal-circumference-percentile.html\">US Core Pediatric Head Occipital-frontal Circumference Percentile Profile</a>, <a href=\"StructureDefinition-pediatric-weight-for-height.html\">US Core Pediatric Weight for Height Observation Profile</a>, <a href=\"StructureDefinition-us-core-pulse-oximetry.html\">US Core Pulse Oximetry Profile</a>, <a href=\"StructureDefinition-us-core-respiratory-rate.html\">US Core Respiratory Rate Profile</a>, <a href=\"StructureDefinition-us-core-smokingstatus.html\">US Core Smoking Status Observation Profile</a> </td> <td> status, category, code, date, patient patient+category+date, patient+code+date, patient+code, patient+category, patient+category+status </td> <td> </td> <td> Provenance:target </td> <td> </td> </tr> <tr> <td> <a href=\"#organization\">Organization</a> </td> <td> <a href=\"StructureDefinition-us-core-organization.html\">US Core Organization Profile</a> </td> <td> name, address </td> <td> </td> <td> </td> <td> </td> </tr> <tr> <td> <a href=\"#patient\">Patient</a> </td> <td> <a href=\"StructureDefinition-us-core-patient.html\">US Core Patient Profile</a> </td> <td> _id, birthdate, family, gender, given, identifier, name family+gender, gender+name, birthdate+family, birthdate+name </td> <td> </td> <td> Provenance:target </td> <td> </td> </tr> <tr> <td> <a href=\"#practitioner\">Practitioner</a> </td> <td> <a href=\"StructureDefinition-us-core-practitioner.html\">US Core Practitioner Profile</a> </td> <td> name, identifier </td> <td> </td> <td> </td> <td> </td> </tr> <tr> <td> <a href=\"#practitionerrole\">PractitionerRole</a> </td> <td> <a href=\"StructureDefinition-us-core-practitionerrole.html\">US Core PractitionerRole Profile</a> </td> <td> specialty, practitioner </td> <td> PractitionerRole:endpoint, PractitionerRole:practitioner </td> <td> </td> <td> </td> </tr> <tr> <td> <a href=\"#procedure\">Procedure</a> </td> <td> <a href=\"StructureDefinition-us-core-procedure.html\">US Core Procedure Profile</a> </td> <td> status, patient, date, code patient+status, patient+date, patient+code+date </td> <td> </td> <td> Provenance:target </td> <td> </td> </tr> <tr> <td> <a href=\"#provenance\">Provenance</a> </td> <td> <a href=\"StructureDefinition-us-core-provenance.html\">US Core Provenance Profile</a> </td> <td> </td> <td> </td> <td> </td> <td> </td> </tr> <tr> <td> <a href=\"#valueset\">ValueSet</a> </td> <td> </td> <td> </td> <td> </td> <td> </td> <td> expand </td> </tr> </tbody> </table> <h4 class=\"no_toc\" id=\"allergyintolerance\">AllergyIntolerance</h4> <p>Conformance Expectation: <strong>SHALL</strong></p> <p>Supported Profiles: <a href=\"StructureDefinition-us-core-allergyintolerance.html\">US Core AllergyIntolerance Profile</a> </p> <p>Reference Policy: <code>resolves</code></p> <p>Profile Interaction Summary:</p> <ul> <li><strong>SHALL</strong> support <code>search-type</code>, <code>read</code>.</li><li><strong>SHOULD</strong> support <code>vread</code>, <code>history-instance</code>.</li><li><strong>MAY</strong> support <code>create</code>, <code>update</code>, <code>patch</code>, <code>delete</code>, <code>history-type</code>.</li> </ul> <p>Fetch and Search Criteria:</p> <ul> <li> A Server <strong>SHALL</strong> be capable of returning a AllergyIntolerance resource using: <code class=\"highlighter-rouge\">GET [base]/AllergyIntolerance/[id]</code> </li> <li> A Server <strong>SHALL</strong> be capable of supporting the following _revincludes: Provenance:target - <code class=\"highlighter-rouge\">GET [base]/AllergyIntolerance?[parameter=value]&amp;_revinclude=Provenance:target</code> </li> </ul> <p>Search Parameter Summary:</p> <table class=\"grid\"> <thead> <tr> <th>Conformance</th> <th>Parameter</th> <th>Type</th> <th>Documentation</th> </tr> </thead> <tbody><tr> <td> <strong>MAY</strong> </td> <td> <a href=\"SearchParameter-us-core-allergyintolerance-clinical-status.html\"> clinical-status</a> </td> <td> token </td> <td align=\"left\"> <p>The client <strong>SHALL</strong> provide at least a code value and <strong>MAY</strong> provide both the system and code values.</p> <p>The server <strong>SHALL</strong> support both.</p> </td> </tr><tr> <td> <strong>SHALL</strong> </td> <td> <a href=\"SearchParameter-us-core-allergyintolerance-patient.html\"> patient</a> </td> <td> reference </td> <td align=\"left\"> <p>The client <strong>SHALL</strong> provide at least a id value and <strong>MAY</strong> provide both the Type and id values.</p> <p>The server <strong>SHALL</strong> support both.</p> </td> </tr> </tbody> </table> <p>Search Parameter Combination Summary:</p> <table class=\"grid\"> <thead> <tr> <th>Conformance</th> <th>Parameter Combination</th> <th>Types</th> </tr> </thead> <tbody> <tr> <td><strong>SHOULD</strong> </td> <td>patient+clinical-status </td> <td>reference+token </td> </tr> </tbody> </table> <hr /> <h4 class=\"no_toc\" id=\"careplan\">CarePlan</h4> <p>Conformance Expectation: <strong>SHALL</strong></p> <p>Supported Profiles: <a href=\"StructureDefinition-us-core-careplan.html\">US Core CarePlan Profile</a> </p> <p>Resource Specific Documentation:</p> <blockquote><ul> <li>Additional considerations for systems aligning with <a href=\"http://www.hl7.org/implement/standards/product_brief.cfm?product_id=492\">HL7 Consolidated (C-CDA)</a> Care Plan requirements: <ul> <li>US Core Goal <strong>SHOULD</strong> be present in CarePlan.goal</li> <li>US Core Condition <strong>SHOULD</strong> be present in CarePlan.addresses</li> <li>Assement and Plan <strong>MAY</strong> be included as narrative text</li> </ul> </li> </ul> </blockquote> <p>Reference Policy: <code>resolves</code></p> <p>Profile Interaction Summary:</p> <ul> <li><strong>SHALL</strong> support <code>search-type</code>, <code>read</code>.</li><li><strong>SHOULD</strong> support <code>vread</code>, <code>history-instance</code>.</li><li><strong>MAY</strong> support <code>create</code>, <code>update</code>, <code>patch</code>, <code>delete</code>, <code>history-type</code>.</li> </ul> <p>Fetch and Search Criteria:</p> <ul> <li> A Server <strong>SHALL</strong> be capable of returning a CarePlan resource using: <code class=\"highlighter-rouge\">GET [base]/CarePlan/[id]</code> </li> <li> A Server <strong>SHALL</strong> be capable of supporting the following _revincludes: Provenance:target - <code class=\"highlighter-rouge\">GET [base]/CarePlan?[parameter=value]&amp;_revinclude=Provenance:target</code> </li> </ul> <p>Search Parameter Summary:</p> <table class=\"grid\"> <thead> <tr> <th>Conformance</th> <th>Parameter</th> <th>Type</th> <th>Documentation</th> </tr> </thead> <tbody><tr> <td> <strong>MAY</strong> </td> <td> <a href=\"SearchParameter-us-core-careplan-category.html\"> category</a> </td> <td> token </td> <td align=\"left\"> <p>The client <strong>SHALL</strong> provide at least a code value and <strong>MAY</strong> provide both the system and code values.</p> <p>The server <strong>SHALL</strong> support both.</p> </td> </tr><tr> <td> <strong>MAY</strong> </td> <td> <a href=\"SearchParameter-us-core-careplan-date.html\"> date</a> </td> <td> date </td> <td align=\"left\"> <p>A client <strong>SHALL</strong> provide a value precise to the <em>second + time offset</em>.</p> <p>A server <strong>SHALL</strong> support a value precise to the <em>second + time offset</em>.</p> </td> </tr><tr> <td> <strong>MAY</strong> </td> <td> <a href=\"SearchParameter-us-core-careplan-patient.html\"> patient</a> </td> <td> reference </td> <td align=\"left\"> <p>The client <strong>SHALL</strong> provide at least a id value and <strong>MAY</strong> provide both the Type and id values.</p> <p>The server <strong>SHALL</strong> support both.</p> </td> </tr><tr> <td> <strong>MAY</strong> </td> <td> <a href=\"SearchParameter-us-core-careplan-status.html\"> status</a> </td> <td> token </td> <td align=\"left\"> <p>The client <strong>SHALL</strong> provide at least a code value and <strong>MAY</strong> provide both the system and code values.</p> <p>The server <strong>SHALL</strong> support both.</p> </td> </tr> </tbody> </table> <p>Search Parameter Combination Summary:</p> <table class=\"grid\"> <thead> <tr> <th>Conformance</th> <th>Parameter Combination</th> <th>Types</th> </tr> </thead> <tbody> <tr> <td><strong>SHALL</strong> </td> <td>patient+category </td> <td>reference+token </td> </tr> <tr> <td><strong>SHOULD</strong> </td> <td>patient+category+date </td> <td>reference+token+date </td> </tr> <tr> <td><strong>SHOULD</strong> </td> <td>patient+category+status </td> <td>reference+token+token </td> </tr> <tr> <td><strong>SHOULD</strong> </td> <td>patient+category+status+date </td> <td>reference+token+token+date </td> </tr> </tbody> </table> <hr /> <h4 class=\"no_toc\" id=\"careteam\">CareTeam</h4> <p>Conformance Expectation: <strong>SHALL</strong></p> <p>Supported Profiles: <a href=\"StructureDefinition-us-core-careteam.html\">US Core CareTeam Profile</a> </p> <p>Reference Policy: <code>resolves</code></p> <p>Profile Interaction Summary:</p> <ul> <li><strong>SHALL</strong> support <code>search-type</code>, <code>read</code>.</li><li><strong>SHOULD</strong> support <code>vread</code>, <code>history-instance</code>.</li><li><strong>MAY</strong> support <code>create</code>, <code>update</code>, <code>patch</code>, <code>delete</code>, <code>history-type</code>.</li> </ul> <p>Fetch and Search Criteria:</p> <ul> <li> A Server <strong>SHALL</strong> be capable of returning a CareTeam resource using: <code class=\"highlighter-rouge\">GET [base]/CareTeam/[id]</code> </li> <li> A Server <strong>SHALL</strong> be capable of supporting the following _revincludes: Provenance:target - <code class=\"highlighter-rouge\">GET [base]/CareTeam?[parameter=value]&amp;_revinclude=Provenance:target</code> </li> </ul> <p>Search Parameter Summary:</p> <table class=\"grid\"> <thead> <tr> <th>Conformance</th> <th>Parameter</th> <th>Type</th> <th>Documentation</th> </tr> </thead> <tbody><tr> <td> <strong>MAY</strong> </td> <td> <a href=\"SearchParameter-us-core-careteam-patient.html\"> patient</a> </td> <td> reference </td> <td align=\"left\"> <p>The client <strong>SHALL</strong> provide at least a id value and <strong>MAY</strong> provide both the Type and id values.</p> <p>The server <strong>SHALL</strong> support both.</p> </td> </tr><tr> <td> <strong>MAY</strong> </td> <td> <a href=\"SearchParameter-us-core-careteam-status.html\"> status</a> </td> <td> token </td> <td align=\"left\"> <p>The client <strong>SHALL</strong> provide at least a code value and <strong>MAY</strong> provide both the system and code values.</p> <p>The server <strong>SHALL</strong> support both.</p> </td> </tr> </tbody> </table> <p>Search Parameter Combination Summary:</p> <table class=\"grid\"> <thead> <tr> <th>Conformance</th> <th>Parameter Combination</th> <th>Types</th> </tr> </thead> <tbody> <tr> <td><strong>SHALL</strong> </td> <td>patient+status </td> <td>reference+token </td> </tr> </tbody> </table> <hr /> <h4 class=\"no_toc\" id=\"condition\">Condition</h4> <p>Conformance Expectation: <strong>SHALL</strong></p> <p>Supported Profiles: <a href=\"StructureDefinition-us-core-condition.html\">US Core Condition Profile</a> </p> <p>Reference Policy: <code>resolves</code></p> <p>Profile Interaction Summary:</p> <ul> <li><strong>SHALL</strong> support <code>search-type</code>, <code>read</code>.</li><li><strong>SHOULD</strong> support <code>vread</code>, <code>history-instance</code>.</li><li><strong>MAY</strong> support <code>create</code>, <code>update</code>, <code>patch</code>, <code>delete</code>, <code>history-type</code>.</li> </ul> <p>Fetch and Search Criteria:</p> <ul> <li> A Server <strong>SHALL</strong> be capable of returning a Condition resource using: <code class=\"highlighter-rouge\">GET [base]/Condition/[id]</code> </li> <li> A Server <strong>SHALL</strong> be capable of supporting the following _revincludes: Provenance:target - <code class=\"highlighter-rouge\">GET [base]/Condition?[parameter=value]&amp;_revinclude=Provenance:target</code> </li> </ul> <p>Search Parameter Summary:</p> <table class=\"grid\"> <thead> <tr> <th>Conformance</th> <th>Parameter</th> <th>Type</th> <th>Documentation</th> </tr> </thead> <tbody><tr> <td> <strong>MAY</strong> </td> <td> <a href=\"SearchParameter-us-core-condition-category.html\"> category</a> </td> <td> token </td> <td align=\"left\"> <p>The client <strong>SHALL</strong> provide at least a code value and <strong>MAY</strong> provide both the system and code values.</p> <p>The server <strong>SHALL</strong> support both.</p> </td> </tr><tr> <td> <strong>MAY</strong> </td> <td> <a href=\"SearchParameter-us-core-condition-clinical-status.html\"> clinical-status</a> </td> <td> token </td> <td align=\"left\"> <p>The client <strong>SHALL</strong> provide at least a code value and <strong>MAY</strong> provide both the system and code values.</p> <p>The server <strong>SHALL</strong> support both.</p> </td> </tr><tr> <td> <strong>SHALL</strong> </td> <td> <a href=\"SearchParameter-us-core-condition-patient.html\"> patient</a> </td> <td> reference </td> <td align=\"left\"> <p>The client <strong>SHALL</strong> provide at least a id value and <strong>MAY</strong> provide both the Type and id values.</p> <p>The server <strong>SHALL</strong> support both.</p> </td> </tr><tr> <td> <strong>MAY</strong> </td> <td> <a href=\"SearchParameter-us-core-condition-onset-date.html\"> onset-date</a> </td> <td> date </td> <td align=\"left\"> <p>A client <strong>SHALL</strong> provide a value precise to the <em>second + time offset</em>.</p> <p>A server <strong>SHALL</strong> support a value precise to the <em>second + time offset</em>.</p> </td> </tr><tr> <td> <strong>MAY</strong> </td> <td> <a href=\"SearchParameter-us-core-condition-code.html\"> code</a> </td> <td> token </td> <td align=\"left\"> <p>The client <strong>SHALL</strong> provide at least a code value and <strong>MAY</strong> provide both the system and code values.</p> <p>The server <strong>SHALL</strong> support both.</p> </td> </tr> </tbody> </table> <p>Search Parameter Combination Summary:</p> <table class=\"grid\"> <thead> <tr> <th>Conformance</th> <th>Parameter Combination</th> <th>Types</th> </tr> </thead> <tbody> <tr> <td><strong>SHOULD</strong> </td> <td>patient+category </td> <td>reference+token </td> </tr> <tr> <td><strong>SHOULD</strong> </td> <td>patient+code </td> <td>reference+token </td> </tr> <tr> <td><strong>SHOULD</strong> </td> <td>patient+clinical-status </td> <td>reference+token </td> </tr> <tr> <td><strong>SHOULD</strong> </td> <td>patient+onset-date </td> <td>reference+date </td> </tr> </tbody> </table> <hr /> <h4 class=\"no_toc\" id=\"device\">Device</h4> <p>Conformance Expectation: <strong>SHALL</strong></p> <p>Supported Profiles: <a href=\"StructureDefinition-us-core-implantable-device.html\">US Core Implantable Device Profile</a> </p> <p>Resource Specific Documentation:</p> <blockquote><ul> <li> <p>Implantable medical devices that have UDI information <strong>SHALL</strong> represent this information in either <code>carrierAIDC</code> or <code>carrierHRF</code>.</p> <ul> <li>Although both are marked as must support, the server systems are not required to support both <code>carrierAIDC</code> and <code>carrierHRF</code>, but <strong>SHALL</strong> support at least one of these elements.</li> <li>The client application <strong>SHALL</strong> support both elements.</li> <li>UDI may not be present in all scenarios such as historical implantable devices, patient reported implant information, payer reported devices, or improperly documented implants. If UDI is not present and the manufacturer (<code>manufacturer</code>) and model number (<code>model</code>) information is available, they <strong>SHOULD</strong> be included to support historical reports of implantable medical devices</li> </ul> </li> <li> <p>For Implantable medical devices that have UDI information, at least one of the Production Identifiers (UDI-PI) <strong>SHALL</strong> be present.</p> </li> <li> <p>Servers <strong>SHOULD</strong> support query by Device.type to allow clients to request the patient's devices by a specific type. Note: The Device.type is too granular to differentiate implantable vs. non-implantable devices.</p> </li> <li> <p>In the Quick Start section below, searching for all devices is described. Records of implanted devices <strong>MAY</strong> be queried against UDI data including:</p> <ul> <li>UDI HRF string (<code>udi-carrier</code>)</li> <li>UDI Device Identifier (<code>udi-di</code>)</li> <li>Manufacturer (<code>manufacturer</code>)</li> <li>Model number (<code>model</code>)</li> </ul> <p>Implementers <strong>MAY</strong> also adopt custom SearchParameters for searching by:</p> <ul> <li>lot numbers</li> <li>serial number</li> <li>expiration date</li> <li>manufacture date</li> <li>distinct identifier</li> </ul> </li> </ul> </blockquote> <p>Reference Policy: <code>resolves</code></p> <p>Profile Interaction Summary:</p> <ul> <li><strong>SHALL</strong> support <code>search-type</code>, <code>read</code>.</li><li><strong>SHOULD</strong> support <code>vread</code>, <code>history-instance</code>.</li><li><strong>MAY</strong> support <code>create</code>, <code>update</code>, <code>patch</code>, <code>delete</code>, <code>history-type</code>.</li> </ul> <p>Fetch and Search Criteria:</p> <ul> <li> A Server <strong>SHALL</strong> be capable of returning a Device resource using: <code class=\"highlighter-rouge\">GET [base]/Device/[id]</code> </li> <li> A Server <strong>SHALL</strong> be capable of supporting the following _revincludes: Provenance:target - <code class=\"highlighter-rouge\">GET [base]/Device?[parameter=value]&amp;_revinclude=Provenance:target</code> </li> </ul> <p>Search Parameter Summary:</p> <table class=\"grid\"> <thead> <tr> <th>Conformance</th> <th>Parameter</th> <th>Type</th> <th>Documentation</th> </tr> </thead> <tbody><tr> <td> <strong>SHALL</strong> </td> <td> <a href=\"SearchParameter-us-core-device-patient.html\"> patient</a> </td> <td> reference </td> <td align=\"left\"> <p>The client <strong>SHALL</strong> provide at least a id value and <strong>MAY</strong> provide both the Type and id values.</p> <p>The server <strong>SHALL</strong> support both.</p> </td> </tr><tr> <td> <strong>MAY</strong> </td> <td> <a href=\"SearchParameter-us-core-device-type.html\"> type</a> </td> <td> token </td> <td align=\"left\"> <p>The client <strong>SHALL</strong> provide at least a code value and <strong>MAY</strong> provide both the system and code values.</p> <p>The server <strong>SHALL</strong> support both.</p> </td> </tr> </tbody> </table> <p>Search Parameter Combination Summary:</p> <table class=\"grid\"> <thead> <tr> <th>Conformance</th> <th>Parameter Combination</th> <th>Types</th> </tr> </thead> <tbody> <tr> <td><strong>SHOULD</strong> </td> <td>patient+type </td> <td>reference+token </td> </tr> </tbody> </table> <hr /> <h4 class=\"no_toc\" id=\"diagnosticreport\">DiagnosticReport</h4> <p>Conformance Expectation: <strong>SHALL</strong></p> <p>Supported Profiles: <a href=\"StructureDefinition-us-core-diagnosticreport-lab.html\">US Core DiagnosticReport Profile for Laboratory Results Reporting</a>, <a href=\"StructureDefinition-us-core-diagnosticreport-note.html\">US Core DiagnosticReport Profile for Report and Note exchange</a> </p> <p>Reference Policy: <code>resolves</code></p> <p>Profile Interaction Summary:</p> <ul> <li><strong>SHALL</strong> support <code>create</code><sup>&#8224;</sup>, <code>search-type</code>, <code>read</code>.</li><li><strong>SHOULD</strong> support <code>vread</code>, <code>history-instance</code>.</li><li><strong>MAY</strong> support <code>update</code>, <code>patch</code>, <code>delete</code>, <code>history-type</code>.</li> </ul> <blockquote>create<sup>&#8224;</sup><p>This conformance expectation applies <strong>only</strong> to the <em>US Core DiagnosticReport Profile for Report and Note exchange</em> profile. The conformance expectation for the <em>US Core DiagnosticReport Profile for Laboratory Results Reporting</em> is <strong>MAY</strong>.</p> </blockquote> <p>Fetch and Search Criteria:</p> <ul> <li> A Server <strong>SHALL</strong> be capable of returning a DiagnosticReport resource using: <code class=\"highlighter-rouge\">GET [base]/DiagnosticReport/[id]</code> </li> <li> A Server <strong>SHALL</strong> be capable of supporting the following _revincludes: Provenance:target - <code class=\"highlighter-rouge\">GET [base]/DiagnosticReport?[parameter=value]&amp;_revinclude=Provenance:target</code> </li> </ul> <p>Search Parameter Summary:</p> <table class=\"grid\"> <thead> <tr> <th>Conformance</th> <th>Parameter</th> <th>Type</th> <th>Documentation</th> </tr> </thead> <tbody><tr> <td> <strong>MAY</strong> </td> <td> <a href=\"SearchParameter-us-core-diagnosticreport-status.html\"> status</a> </td> <td> token </td> <td align=\"left\"> <p>The client <strong>SHALL</strong> provide at least a code value and <strong>MAY</strong> provide both the system and code values.</p> <p>The server <strong>SHALL</strong> support both.</p> </td> </tr><tr> <td> <strong>SHALL</strong> </td> <td> <a href=\"SearchParameter-us-core-diagnosticreport-patient.html\"> patient</a> </td> <td> reference </td> <td align=\"left\"> <p>The client <strong>SHALL</strong> provide at least a id value and <strong>MAY</strong> provide both the Type and id values.</p> <p>The server <strong>SHALL</strong> support both.</p> </td> </tr><tr> <td> <strong>MAY</strong> </td> <td> <a href=\"SearchParameter-us-core-diagnosticreport-category.html\"> category</a> </td> <td> token </td> <td align=\"left\"> <p>The client <strong>SHALL</strong> provide at least a code value and <strong>MAY</strong> provide both the system and code values.</p> <p>The server <strong>SHALL</strong> support both.</p> </td> </tr><tr> <td> <strong>MAY</strong> </td> <td> <a href=\"SearchParameter-us-core-diagnosticreport-code.html\"> code</a> </td> <td> token </td> <td align=\"left\"> <p>The client <strong>SHALL</strong> provide at least a code value and <strong>MAY</strong> provide both the system and code values.</p> <p>The server <strong>SHALL</strong> support both.</p> </td> </tr><tr> <td> <strong>MAY</strong> </td> <td> <a href=\"SearchParameter-us-core-diagnosticreport-date.html\"> date</a> </td> <td> date </td> <td align=\"left\"> <p>A client <strong>SHALL</strong> provide a value precise to the <em>second + time offset</em>.</p> <p>A server <strong>SHALL</strong> support a value precise to the <em>second + time offset</em>.</p> </td> </tr> </tbody> </table> <p>Search Parameter Combination Summary:</p> <table class=\"grid\"> <thead> <tr> <th>Conformance</th> <th>Parameter Combination</th> <th>Types</th> </tr> </thead> <tbody> <tr> <td><strong>SHALL</strong> </td> <td>patient+category+date </td> <td>reference+token+date </td> </tr> <tr> <td><strong>SHOULD</strong> </td> <td>patient+code+date </td> <td>reference+token+date </td> </tr> <tr> <td><strong>SHALL</strong> </td> <td>patient+category </td> <td>reference+token </td> </tr> <tr> <td><strong>SHALL</strong> </td> <td>patient+code </td> <td>reference+token </td> </tr> <tr> <td><strong>SHOULD</strong> </td> <td>patient+status </td> <td>reference+token </td> </tr> </tbody> </table> <hr /> <h4 class=\"no_toc\" id=\"documentreference\">DocumentReference</h4> <p>Conformance Expectation: <strong>SHALL</strong></p> <p>Supported Profiles: <a href=\"StructureDefinition-us-core-documentreference.html\">US Core DocumentReference Profile</a> </p> <p>Resource Specific Documentation:</p> <blockquote><p>The DocumentReference.type binding SHALL support at a minimum the <a href=\"ValueSet-us-core-clinical-note-type.html\">5 Common Clinical Notes</a> and may extend to the full US Core DocumentReference Type Value Set</p> </blockquote> <p>Reference Policy: <code>resolves</code></p> <p>Profile Interaction Summary:</p> <ul> <li><strong>SHALL</strong> support <code>create</code>, <code>search-type</code>, <code>read</code>.</li><li><strong>SHOULD</strong> support <code>vread</code>, <code>history-instance</code>.</li><li><strong>MAY</strong> support <code>update</code>, <code>patch</code>, <code>delete</code>, <code>history-type</code>.</li> </ul> <p>Operation Summary:</p> <ul> <li><strong>SHALL</strong> support the <a href=\"OperationDefinition-docref.html\">$docref</a> operation <p>A server <strong>SHALL</strong> be capable of responding to a $docref operation and capable of returning at least a reference to a generated CCD document, if available. <strong>MAY</strong> provide references to other 'on-demand' and 'stable' documents (or 'delayed/deferred assembly') that meet the query parameters as well. If a context date range is supplied the server ** SHOULD** provide references to any document that falls within the date range If no date range is supplied, then the server <strong>SHALL</strong> provide references to last or current encounter. <strong>SHOULD</strong> document what resources, if any, are returned as included resources</p> <p><code>GET [base]/DocumentReference/$docref?patient=[id]</code></p> </li> </ul> <p>Fetch and Search Criteria:</p> <ul> <li> A Server <strong>SHALL</strong> be capable of returning a DocumentReference resource using: <code class=\"highlighter-rouge\">GET [base]/DocumentReference/[id]</code> </li> <li> A Server <strong>SHALL</strong> be capable of supporting the following _revincludes: Provenance:target - <code class=\"highlighter-rouge\">GET [base]/DocumentReference?[parameter=value]&amp;_revinclude=Provenance:target</code> </li> </ul> <p>Search Parameter Summary:</p> <table class=\"grid\"> <thead> <tr> <th>Conformance</th> <th>Parameter</th> <th>Type</th> <th>Documentation</th> </tr> </thead> <tbody><tr> <td> <strong>SHALL</strong> </td> <td> <a href=\"SearchParameter-us-core-documentreference-id.html\"> _id</a> </td> <td> token </td> <td align=\"left\"> - </td> </tr><tr> <td> <strong>MAY</strong> </td> <td> <a href=\"SearchParameter-us-core-documentreference-status.html\"> status</a> </td> <td> token </td> <td align=\"left\"> <p>The client <strong>SHALL</strong> provide at least a code value and <strong>MAY</strong> provide both the system and code values.</p> <p>The server <strong>SHALL</strong> support both.</p> </td> </tr><tr> <td> <strong>SHALL</strong> </td> <td> <a href=\"SearchParameter-us-core-documentreference-patient.html\"> patient</a> </td> <td> reference </td> <td align=\"left\"> <p>The client <strong>SHALL</strong> provide at least a id value and <strong>MAY</strong> provide both the Type and id values.</p> <p>The server <strong>SHALL</strong> support both.</p> </td> </tr><tr> <td> <strong>MAY</strong> </td> <td> <a href=\"SearchParameter-us-core-documentreference-category.html\"> category</a> </td> <td> token </td> <td align=\"left\"> <p>The client <strong>SHALL</strong> provide at least a code value and <strong>MAY</strong> provide both the system and code values.</p> <p>The server <strong>SHALL</strong> support both.</p> </td> </tr><tr> <td> <strong>MAY</strong> </td> <td> <a href=\"SearchParameter-us-core-documentreference-type.html\"> type</a> </td> <td> token </td> <td align=\"left\"> <p>The client <strong>SHALL</strong> provide at least a code value and <strong>MAY</strong> provide both the system and code values.</p> <p>The server <strong>SHALL</strong> support both.</p> </td> </tr><tr> <td> <strong>MAY</strong> </td> <td> <a href=\"SearchParameter-us-core-documentreference-date.html\"> date</a> </td> <td> date </td> <td align=\"left\"> <p>A client <strong>SHALL</strong> provide a value precise to the <em>second + time offset</em>.</p> <p>A server <strong>SHALL</strong> support a value precise to the <em>second + time offset</em>.</p> </td> </tr><tr> <td> <strong>MAY</strong> </td> <td> <a href=\"SearchParameter-us-core-documentreference-period.html\"> period</a> </td> <td> date </td> <td align=\"left\"> <p>A client <strong>SHALL</strong> provide a value precise to the <em>second + time offset</em>.</p> <p>A server <strong>SHALL</strong> support a value precise to the <em>second + time offset</em>.</p> </td> </tr> </tbody> </table> <p>Search Parameter Combination Summary:</p> <table class=\"grid\"> <thead> <tr> <th>Conformance</th> <th>Parameter Combination</th> <th>Types</th> </tr> </thead> <tbody> <tr> <td><strong>SHALL</strong> </td> <td>patient+category+date </td> <td>reference+token+date </td> </tr> <tr> <td><strong>SHALL</strong> </td> <td>patient+category </td> <td>reference+token </td> </tr> <tr> <td><strong>SHOULD</strong> </td> <td>patient+status </td> <td>reference+token </td> </tr> <tr> <td><strong>SHALL</strong> </td> <td>patient+type </td> <td>reference+token </td> </tr> <tr> <td><strong>SHOULD</strong> </td> <td>patient+type+period </td> <td>reference+token+date </td> </tr> </tbody> </table> <hr /> <h4 class=\"no_toc\" id=\"encounter\">Encounter</h4> <p>Conformance Expectation: <strong>SHALL</strong></p> <p>Supported Profiles: <a href=\"StructureDefinition-us-core-encounter.html\">US Core Encounter Profile</a> </p> <p>Resource Specific Documentation:</p> <blockquote><ul> <li>The Encounter resource can represent a reason using either a code with <code>Encounter.reasonCode</code>, or a reference with <code>Encounter.reasonReference</code> to Condition or other resource. <ul> <li>Although both are marked as must support, the server systems are not required to support both a code and a reference, but they <strong>SHALL</strong> support <em>at least one</em> of these elements.</li> <li>The client application <strong>SHALL</strong> support both elements.</li> <li>if <code>Encounter.reasonReference</code> references an Observation, it <strong>SHOULD</strong> conform to a US Core Observation if applicable. (for example, a laboratory result should conform to the US Core Laboratory Result Observation Profile)</li> </ul> </li> <li>The intent of this profile is to support <em>where the encounter occurred</em>. The location address can be represented by either by the Location referenced by <code>Encounter.location.location</code> or indirectly through the Organization referenced by <code>Encounter.serviceProvider</code>. <ul> <li>Although both are marked as must support, the server systems are not required to support both <code>Encounter.location.location</code> and <code>Encounter.serviceProvider</code>, but they <strong>SHALL</strong> support <em>at least one</em> of these elements.</li> <li>The client application <strong>SHALL</strong> support both elements.</li> <li>if using <code>Encounter.locatison.location</code> it <strong>SHOULD</strong> conform to US Core Location. However, as a result of implementation feedback, it <strong>MAY</strong> reference the base FHIR Location resource. See this guidance on [Referencing US Core Profiles]</li> </ul> </li> </ul> </blockquote> <p>Reference Policy: <code>resolves</code></p> <p>Profile Interaction Summary:</p> <ul> <li><strong>SHALL</strong> support <code>search-type</code>, <code>read</code>.</li><li><strong>SHOULD</strong> support <code>vread</code>, <code>history-instance</code>.</li><li><strong>MAY</strong> support <code>create</code>, <code>update</code>, <code>patch</code>, <code>delete</code>, <code>history-type</code>.</li> </ul> <p>Fetch and Search Criteria:</p> <ul> <li> A Server <strong>SHALL</strong> be capable of returning a Encounter resource using: <code class=\"highlighter-rouge\">GET [base]/Encounter/[id]</code> </li> <li> A Server <strong>SHALL</strong> be capable of supporting the following _revincludes: Provenance:target - <code class=\"highlighter-rouge\">GET [base]/Encounter?[parameter=value]&amp;_revinclude=Provenance:target</code> </li> </ul> <p>Search Parameter Summary:</p> <table class=\"grid\"> <thead> <tr> <th>Conformance</th> <th>Parameter</th> <th>Type</th> <th>Documentation</th> </tr> </thead> <tbody><tr> <td> <strong>SHALL</strong> </td> <td> <a href=\"SearchParameter-us-core-encounter-id.html\"> _id</a> </td> <td> token </td> <td align=\"left\"> - </td> </tr><tr> <td> <strong>MAY</strong> </td> <td> <a href=\"SearchParameter-us-core-encounter-class.html\"> class</a> </td> <td> token </td> <td align=\"left\"> <p>The client <strong>SHALL</strong> provide at least a code value and <strong>MAY</strong> provide both the system and code values.</p> <p>The server <strong>SHALL</strong> support both.</p> </td> </tr><tr> <td> <strong>MAY</strong> </td> <td> <a href=\"SearchParameter-us-core-encounter-date.html\"> date</a> </td> <td> date </td> <td align=\"left\"> <p>A client <strong>SHALL</strong> provide a value precise to the <em>second + time offset</em>.</p> <p>A server <strong>SHALL</strong> support a value precise to the <em>second + time offset</em>.</p> </td> </tr><tr> <td> <strong>SHOULD</strong> </td> <td> <a href=\"SearchParameter-us-core-encounter-identifier.html\"> identifier</a> </td> <td> token </td> <td align=\"left\"> <p>The client <strong>SHALL</strong> provide at least a code value and <strong>MAY</strong> provide both the system and code values.</p> <p>The server <strong>SHALL</strong> support both.</p> </td> </tr><tr> <td> <strong>SHALL</strong> </td> <td> <a href=\"SearchParameter-us-core-encounter-patient.html\"> patient</a> </td> <td> reference </td> <td align=\"left\"> <p>The client <strong>SHALL</strong> provide at least a id value and <strong>MAY</strong> provide both the Type and id values.</p> <p>The server <strong>SHALL</strong> support both.</p> </td> </tr><tr> <td> <strong>MAY</strong> </td> <td> <a href=\"SearchParameter-us-core-encounter-status.html\"> status</a> </td> <td> token </td> <td align=\"left\"> <p>The client <strong>SHALL</strong> provide at least a code value and <strong>MAY</strong> provide both the system and code values.</p> <p>The server <strong>SHALL</strong> support both.</p> </td> </tr><tr> <td> <strong>MAY</strong> </td> <td> <a href=\"SearchParameter-us-core-encounter-type.html\"> type</a> </td> <td> token </td> <td align=\"left\"> <p>The client <strong>SHALL</strong> provide at least a code value and <strong>MAY</strong> provide both the system and code values.</p> <p>The server <strong>SHALL</strong> support both.</p> </td> </tr> </tbody> </table> <p>Search Parameter Combination Summary:</p> <table class=\"grid\"> <thead> <tr> <th>Conformance</th> <th>Parameter Combination</th> <th>Types</th> </tr> </thead> <tbody> <tr> <td><strong>SHOULD</strong> </td> <td>patient+type </td> <td>reference+token </td> </tr> <tr> <td><strong>SHOULD</strong> </td> <td>class+patient </td> <td>token+reference </td> </tr> <tr> <td><strong>SHOULD</strong> </td> <td>patient+status </td> <td>reference+token </td> </tr> <tr> <td><strong>SHALL</strong> </td> <td>date+patient </td> <td>date+reference </td> </tr> </tbody> </table> <hr /> <h4 class=\"no_toc\" id=\"goal\">Goal</h4> <p>Conformance Expectation: <strong>SHALL</strong></p> <p>Supported Profiles: <a href=\"StructureDefinition-us-core-goal.html\">US Core Goal Profile</a> </p> <p>Reference Policy: <code>resolves</code></p> <p>Profile Interaction Summary:</p> <ul> <li><strong>SHALL</strong> support <code>search-type</code>, <code>read</code>.</li><li><strong>SHOULD</strong> support <code>vread</code>, <code>history-instance</code>.</li><li><strong>MAY</strong> support <code>create</code>, <code>update</code>, <code>patch</code>, <code>delete</code>, <code>history-type</code>.</li> </ul> <p>Fetch and Search Criteria:</p> <ul> <li> A Server <strong>SHALL</strong> be capable of returning a Goal resource using: <code class=\"highlighter-rouge\">GET [base]/Goal/[id]</code> </li> <li> A Server <strong>SHALL</strong> be capable of supporting the following _revincludes: Provenance:target - <code class=\"highlighter-rouge\">GET [base]/Goal?[parameter=value]&amp;_revinclude=Provenance:target</code> </li> </ul> <p>Search Parameter Summary:</p> <table class=\"grid\"> <thead> <tr> <th>Conformance</th> <th>Parameter</th> <th>Type</th> <th>Documentation</th> </tr> </thead> <tbody><tr> <td> <strong>MAY</strong> </td> <td> <a href=\"SearchParameter-us-core-goal-lifecycle-status.html\"> lifecycle-status</a> </td> <td> token </td> <td align=\"left\"> <p>The client <strong>SHALL</strong> provide at least a code value and <strong>MAY</strong> provide both the system and code values.</p> <p>The server <strong>SHALL</strong> support both.</p> </td> </tr><tr> <td> <strong>SHALL</strong> </td> <td> <a href=\"SearchParameter-us-core-goal-patient.html\"> patient</a> </td> <td> reference </td> <td align=\"left\"> <p>The client <strong>SHALL</strong> provide at least a id value and <strong>MAY</strong> provide both the Type and id values.</p> <p>The server <strong>SHALL</strong> support both.</p> </td> </tr><tr> <td> <strong>MAY</strong> </td> <td> <a href=\"SearchParameter-us-core-goal-target-date.html\"> target-date</a> </td> <td> date </td> <td align=\"left\"> <p>A client <strong>SHALL</strong> provide a value precise to the <em>day</em>.</p> <p>A server <strong>SHALL</strong> support a value a value precise to the <em>day</em>.</p> </td> </tr> </tbody> </table> <p>Search Parameter Combination Summary:</p> <table class=\"grid\"> <thead> <tr> <th>Conformance</th> <th>Parameter Combination</th> <th>Types</th> </tr> </thead> <tbody> <tr> <td><strong>SHOULD</strong> </td> <td>patient+lifecycle-status </td> <td>reference+token </td> </tr> <tr> <td><strong>SHOULD</strong> </td> <td>patient+target-date </td> <td>reference+date </td> </tr> </tbody> </table> <hr /> <h4 class=\"no_toc\" id=\"immunization\">Immunization</h4> <p>Conformance Expectation: <strong>SHALL</strong></p> <p>Supported Profiles: <a href=\"StructureDefinition-us-core-immunization.html\">US Core Immunization Profile</a> </p> <p>Resource Specific Documentation:</p> <blockquote><ul> <li>Based upon the ONC U.S. Core Data for Interoperability (USCDI) v1 requirements, CVX vaccine codes are required and the NDC vaccine codes <strong>SHOULD</strong> be supported as translations to them.</li> </ul> </blockquote> <p>Reference Policy: <code>resolves</code></p> <p>Profile Interaction Summary:</p> <ul> <li><strong>SHALL</strong> support <code>search-type</code>, <code>read</code>.</li><li><strong>SHOULD</strong> support <code>vread</code>, <code>history-instance</code>.</li><li><strong>MAY</strong> support <code>create</code>, <code>update</code>, <code>patch</code>, <code>delete</code>, <code>history-type</code>.</li> </ul> <p>Fetch and Search Criteria:</p> <ul> <li> A Server <strong>SHALL</strong> be capable of returning a Immunization resource using: <code class=\"highlighter-rouge\">GET [base]/Immunization/[id]</code> </li> <li> A Server <strong>SHALL</strong> be capable of supporting the following _revincludes: Provenance:target - <code class=\"highlighter-rouge\">GET [base]/Immunization?[parameter=value]&amp;_revinclude=Provenance:target</code> </li> </ul> <p>Search Parameter Summary:</p> <table class=\"grid\"> <thead> <tr> <th>Conformance</th> <th>Parameter</th> <th>Type</th> <th>Documentation</th> </tr> </thead> <tbody><tr> <td> <strong>SHALL</strong> </td> <td> <a href=\"SearchParameter-us-core-immunization-patient.html\"> patient</a> </td> <td> reference </td> <td align=\"left\"> <p>The client <strong>SHALL</strong> provide at least a id value and <strong>MAY</strong> provide both the Type and id values.</p> <p>The server <strong>SHALL</strong> support both.</p> </td> </tr><tr> <td> <strong>MAY</strong> </td> <td> <a href=\"SearchParameter-us-core-immunization-status.html\"> status</a> </td> <td> token </td> <td align=\"left\"> <p>The client <strong>SHALL</strong> provide at least a code value and <strong>MAY</strong> provide both the system and code values.</p> <p>The server <strong>SHALL</strong> support both.</p> </td> </tr><tr> <td> <strong>MAY</strong> </td> <td> <a href=\"SearchParameter-us-core-immunization-date.html\"> date</a> </td> <td> date </td> <td align=\"left\"> <p>A client <strong>SHALL</strong> provide a value precise to the <em>second + time offset</em>.</p> <p>A server <strong>SHALL</strong> support a value precise to the <em>second + time offset</em>.</p> </td> </tr> </tbody> </table> <p>Search Parameter Combination Summary:</p> <table class=\"grid\"> <thead> <tr> <th>Conformance</th> <th>Parameter Combination</th> <th>Types</th> </tr> </thead> <tbody> <tr> <td><strong>SHOULD</strong> </td> <td>patient+status </td> <td>reference+token </td> </tr> <tr> <td><strong>SHOULD</strong> </td> <td>patient+date </td> <td>reference+date </td> </tr> </tbody> </table> <hr /> <h4 class=\"no_toc\" id=\"location\">Location</h4> <p>Conformance Expectation: <strong>SHALL</strong></p> <p>Supported Profiles: <a href=\"StructureDefinition-us-core-location.html\">US Core Location Profile</a> </p> <p>Resource Specific Documentation:</p> <blockquote><ul> <li>The US Core Location and PractitionerRole Profiles are not explicitly referenced in any US Core Profile. However they <strong>SHOULD</strong> be used as the default profile if referenced by another US Core profile.</li> </ul> </blockquote> <p>Reference Policy: <code>resolves</code></p> <p>Profile Interaction Summary:</p> <ul> <li><strong>SHALL</strong> support <code>search-type</code>, <code>read</code>.</li><li><strong>SHOULD</strong> support <code>vread</code>, <code>history-instance</code>.</li><li><strong>MAY</strong> support <code>create</code>, <code>update</code>, <code>patch</code>, <code>delete</code>, <code>history-type</code>.</li> </ul> <p>Fetch and Search Criteria:</p> <ul> <li> A Server <strong>SHALL</strong> be capable of returning a Location resource using: <code class=\"highlighter-rouge\">GET [base]/Location/[id]</code> </li> </ul> <p>Search Parameter Summary:</p> <table class=\"grid\"> <thead> <tr> <th>Conformance</th> <th>Parameter</th> <th>Type</th> <th>Documentation</th> </tr> </thead> <tbody><tr> <td> <strong>SHALL</strong> </td> <td> <a href=\"SearchParameter-us-core-location-name.html\"> name</a> </td> <td> string </td> <td align=\"left\"> - </td> </tr><tr> <td> <strong>SHALL</strong> </td> <td> <a href=\"SearchParameter-us-core-location-address.html\"> address</a> </td> <td> string </td> <td align=\"left\"> - </td> </tr><tr> <td> <strong>SHOULD</strong> </td> <td> <a href=\"SearchParameter-us-core-location-address-city.html\"> address-city</a> </td> <td> string </td> <td align=\"left\"> - </td> </tr><tr> <td> <strong>SHOULD</strong> </td> <td> <a href=\"SearchParameter-us-core-location-address-state.html\"> address-state</a> </td> <td> string </td> <td align=\"left\"> - </td> </tr><tr> <td> <strong>SHOULD</strong> </td> <td> <a href=\"SearchParameter-us-core-location-address-postalcode.html\"> address-postalcode</a> </td> <td> string </td> <td align=\"left\"> - </td> </tr> </tbody> </table> <hr /> <h4 class=\"no_toc\" id=\"medication\">Medication</h4> <p>Conformance Expectation: <strong>SHALL</strong></p> <p>Supported Profiles: <a href=\"StructureDefinition-us-core-medication.html\">US Core Medication Profile</a> </p> <p>Resource Specific Documentation:</p> <blockquote><ul> <li>The MedicationRequest resource can represent a medication, using an external reference to a Medication resource. If an external Medication Resource is used in a MedicationRequest, then the READ <strong>SHALL</strong> be supported.</li> </ul> </blockquote> <p>Reference Policy: <code>resolves</code></p> <p>Profile Interaction Summary:</p> <ul> <li><strong>SHALL</strong> support <code>read</code>.</li><li><strong>SHOULD</strong> support <code>vread</code>, <code>history-instance</code>.</li><li><strong>MAY</strong> support <code>create</code>, <code>search-type</code>, <code>update</code>, <code>patch</code>, <code>delete</code>, <code>history-type</code>.</li> </ul> <p>Fetch and Search Criteria:</p> <ul> <li> A Server <strong>SHALL</strong> be capable of returning a Medication resource using: <code class=\"highlighter-rouge\">GET [base]/Medication/[id]</code> </li> </ul> <hr /> <h4 class=\"no_toc\" id=\"medicationrequest\">MedicationRequest</h4> <p>Conformance Expectation: <strong>SHALL</strong></p> <p>Supported Profiles: <a href=\"StructureDefinition-us-core-medicationrequest.html\">US Core MedicationRequest Profile</a> </p> <p>Resource Specific Documentation:</p> <blockquote><ul> <li>The MedicationRequest resources can represent a medication using either a code or refer to the Medication resource. When referencing Medication, the resource may be <a href=\"http://hl7.org/fhir/R4/references.html#contained\">contained</a> or an external resource. The server application <strong>MAY</strong> choose any one way or more than one method, but if an external reference to Medication is used, the server <strong>SHALL</strong> support the _include` parameter for searching this element. The client application must support all methods.</li> </ul> <p>For example, A server <strong>SHALL</strong> be capable of returning all medications for a patient using one of or both:</p> <p><code>GET /MedicationRequest?patient=[id]</code></p> <p><code>GET /MedicationRequest?patient=[id]&amp;_include=MedicationRequest:medication</code></p> <ul> <li>The MedicationRequest resource can represent that information is from a secondary source using either a boolean flag or reference in <code>MedicationRequest.reportedBoolean</code>, or a reference using <code>MedicationRequest.reportedReference</code> to Practitioner or other resource. <ul> <li>Although both are marked as must support, the server systems are not required to support both a boolean and a reference, but <strong>SHALL</strong> choose to support at least one of these elements.</li> <li>The client application <strong>SHALL</strong> support both elements.</li> </ul> </li> </ul> </blockquote> <p>Reference Policy: <code>resolves</code></p> <p>Profile Interaction Summary:</p> <ul> <li><strong>SHALL</strong> support <code>search-type</code>, <code>read</code>.</li><li><strong>SHOULD</strong> support <code>vread</code>, <code>history-instance</code>.</li><li><strong>MAY</strong> support <code>create</code>, <code>update</code>, <code>patch</code>, <code>delete</code>, <code>history-type</code>.</li> </ul> <p>Fetch and Search Criteria:</p> <ul> <li> A Server <strong>SHALL</strong> be capable of returning a MedicationRequest resource using: <code class=\"highlighter-rouge\">GET [base]/MedicationRequest/[id]</code> </li> <li> A Server <strong>SHOULD</strong> be capable of supporting the following _includes: MedicationRequest:medication - <code class=\"highlighter-rouge\">GET [base]/MedicationRequest?[parameter=value]&amp;_include=MedicationRequest:medication</code> </li> <li> A Server <strong>SHALL</strong> be capable of supporting the following _revincludes: Provenance:target - <code class=\"highlighter-rouge\">GET [base]/MedicationRequest?[parameter=value]&amp;_revinclude=Provenance:target</code> </li> </ul> <p>Search Parameter Summary:</p> <table class=\"grid\"> <thead> <tr> <th>Conformance</th> <th>Parameter</th> <th>Type</th> <th>Documentation</th> </tr> </thead> <tbody><tr> <td> <strong>MAY</strong> </td> <td> <a href=\"SearchParameter-us-core-medicationrequest-status.html\"> status</a> </td> <td> token </td> <td align=\"left\"> <p>The client <strong>SHALL</strong> provide at least a code value and <strong>MAY</strong> provide both the system and code values.</p> <p>The server <strong>SHALL</strong> support both.</p> </td> </tr><tr> <td> <strong>MAY</strong> </td> <td> <a href=\"SearchParameter-us-core-medicationrequest-intent.html\"> intent</a> </td> <td> token </td> <td align=\"left\"> <p>The client <strong>SHALL</strong> provide at least a code value and <strong>MAY</strong> provide both the system and code values.</p> <p>The server <strong>SHALL</strong> support both.</p> </td> </tr><tr> <td> <strong>MAY</strong> </td> <td> <a href=\"SearchParameter-us-core-medicationrequest-patient.html\"> patient</a> </td> <td> reference </td> <td align=\"left\"> <p>The client <strong>SHALL</strong> provide at least a id value and <strong>MAY</strong> provide both the Type and id values.</p> <p>The server <strong>SHALL</strong> support both.</p> </td> </tr><tr> <td> <strong>MAY</strong> </td> <td> <a href=\"SearchParameter-us-core-medicationrequest-encounter.html\"> encounter</a> </td> <td> reference </td> <td align=\"left\"> <p>The client <strong>SHALL</strong> provide at least a id value and <strong>MAY</strong> provide both the Type and id values.</p> <p>The server <strong>SHALL</strong> support both.</p> </td> </tr><tr> <td> <strong>MAY</strong> </td> <td> <a href=\"SearchParameter-us-core-medicationrequest-authoredon.html\"> authoredon</a> </td> <td> date </td> <td align=\"left\"> <p>A client <strong>SHALL</strong> provide a value precise to the <em>second + time offset</em>.</p> <p>A server <strong>SHALL</strong> support a value precise to the <em>second + time offset</em>.</p> </td> </tr> </tbody> </table> <p>Search Parameter Combination Summary:</p> <table class=\"grid\"> <thead> <tr> <th>Conformance</th> <th>Parameter Combination</th> <th>Types</th> </tr> </thead> <tbody> <tr> <td><strong>SHALL</strong> </td> <td>patient+intent </td> <td>reference+token </td> </tr> <tr> <td><strong>SHOULD</strong> </td> <td>patient+intent+encounter </td> <td>reference+token+reference </td> </tr> <tr> <td><strong>SHOULD</strong> </td> <td>patient+intent+authoredon </td> <td>reference+token+date </td> </tr> <tr> <td><strong>SHALL</strong> </td> <td>patient+intent+status </td> <td>reference+token+token </td> </tr> </tbody> </table> <hr /> <h4 class=\"no_toc\" id=\"observation\">Observation</h4> <p>Conformance Expectation: <strong>SHALL</strong></p> <p>Supported Profiles: <a href=\"StructureDefinition-us-core-observation-lab.html\">US Core Laboratory Result Observation Profile</a>, <a href=\"StructureDefinition-us-core-vital-signs.html\">US Core Vital Signs Profile</a>, <a href=\"StructureDefinition-us-core-blood-pressure.html\">US Core Blood Pressure Profile</a>, <a href=\"StructureDefinition-us-core-bmi.html\">US Core BMI Profile</a>, <a href=\"StructureDefinition-us-core-head-circumference.html\">US Core Head Circumference Profile</a>, <a href=\"StructureDefinition-us-core-body-height.html\">US Core Body Height Profile</a>, <a href=\"StructureDefinition-us-core-body-weight.html\">US Core Body Weight Profile</a>, <a href=\"StructureDefinition-us-core-body-temperature.html\">US Core Body Temperature Profile</a>, <a href=\"StructureDefinition-us-core-heart-rate.html\">US Core Heart Rate Profile</a>, <a href=\"StructureDefinition-pediatric-bmi-for-age.html\">US Core Pediatric BMI for Age Observation Profile</a>, <a href=\"StructureDefinition-head-occipital-frontal-circumference-percentile.html\">US Core Pediatric Head Occipital-frontal Circumference Percentile Profile</a>, <a href=\"StructureDefinition-pediatric-weight-for-height.html\">US Core Pediatric Weight for Height Observation Profile</a>, <a href=\"StructureDefinition-us-core-pulse-oximetry.html\">US Core Pulse Oximetry Profile</a>, <a href=\"StructureDefinition-us-core-respiratory-rate.html\">US Core Respiratory Rate Profile</a>, <a href=\"StructureDefinition-us-core-smokingstatus.html\">US Core Smoking Status Observation Profile</a> </p> <p>Resource Specific Documentation:</p> <blockquote><ul> <li>Systems <strong>SHOULD</strong> support <code>Observation.effectivePeriod</code> to accurately represent laboratory tests that are collected over a period of time (for example, a 24-Hour Urine Collection test).</li> <li>An Observation without a value, <strong>SHALL</strong> include a reason why the data is absent unless there are component observations, or references to other Observations that are grouped within it.</li> </ul> </blockquote> <p>Reference Policy: <code>resolves</code></p> <p>Profile Interaction Summary:</p> <ul> <li><strong>SHALL</strong> support <code>search-type</code>, <code>read</code>.</li><li><strong>SHOULD</strong> support <code>vread</code>, <code>history-instance</code>.</li><li><strong>MAY</strong> support <code>create</code>, <code>update</code>, <code>patch</code>, <code>delete</code>, <code>history-type</code>.</li> </ul> <p>Fetch and Search Criteria:</p> <ul> <li> A Server <strong>SHALL</strong> be capable of returning a Observation resource using: <code class=\"highlighter-rouge\">GET [base]/Observation/[id]</code> </li> <li> A Server <strong>SHALL</strong> be capable of supporting the following _revincludes: Provenance:target - <code class=\"highlighter-rouge\">GET [base]/Observation?[parameter=value]&amp;_revinclude=Provenance:target</code> </li> </ul> <p>Search Parameter Summary:</p> <table class=\"grid\"> <thead> <tr> <th>Conformance</th> <th>Parameter</th> <th>Type</th> <th>Documentation</th> </tr> </thead> <tbody><tr> <td> <strong>MAY</strong> </td> <td> <a href=\"SearchParameter-us-core-observation-status.html\"> status</a> </td> <td> token </td> <td align=\"left\"> <p>The client <strong>SHALL</strong> provide at least a code value and <strong>MAY</strong> provide both the system and code values.</p> <p>The server <strong>SHALL</strong> support both.</p> </td> </tr><tr> <td> <strong>MAY</strong> </td> <td> <a href=\"SearchParameter-us-core-observation-category.html\"> category</a> </td> <td> token </td> <td align=\"left\"> <p>The client <strong>SHALL</strong> provide at least a code value and <strong>MAY</strong> provide both the system and code values.</p> <p>The server <strong>SHALL</strong> support both.</p> </td> </tr><tr> <td> <strong>MAY</strong> </td> <td> <a href=\"SearchParameter-us-core-observation-code.html\"> code</a> </td> <td> token </td> <td align=\"left\"> <p>The client <strong>SHALL</strong> provide at least a code value and <strong>MAY</strong> provide both the system and code values.</p> <p>The server <strong>SHALL</strong> support both.</p> </td> </tr><tr> <td> <strong>MAY</strong> </td> <td> <a href=\"SearchParameter-us-core-observation-date.html\"> date</a> </td> <td> date </td> <td align=\"left\"> <p>A client <strong>SHALL</strong> provide a value precise to the <em>second + time offset</em>.</p> <p>A server <strong>SHALL</strong> support a value precise to the <em>second + time offset</em>.</p> </td> </tr><tr> <td> <strong>MAY</strong> </td> <td> <a href=\"SearchParameter-us-core-observation-patient.html\"> patient</a> </td> <td> reference </td> <td align=\"left\"> <p>The client <strong>SHALL</strong> provide at least a id value and <strong>MAY</strong> provide both the Type and id values.</p> <p>The server <strong>SHALL</strong> support both.</p> </td> </tr> </tbody> </table> <p>Search Parameter Combination Summary:</p> <table class=\"grid\"> <thead> <tr> <th>Conformance</th> <th>Parameter Combination</th> <th>Types</th> </tr> </thead> <tbody> <tr> <td><strong>SHALL</strong> </td> <td>patient+category+date </td> <td>reference+token+date </td> </tr> <tr> <td><strong>SHOULD</strong> </td> <td>patient+code+date </td> <td>reference+token+date </td> </tr> <tr> <td><strong>SHALL</strong> </td> <td>patient+code </td> <td>reference+token </td> </tr> <tr> <td><strong>SHALL</strong> </td> <td>patient+category </td> <td>reference+token </td> </tr> <tr> <td><strong>SHOULD</strong> </td> <td>patient+category+status </td> <td>reference+token+token </td> </tr> </tbody> </table> <hr /> <h4 class=\"no_toc\" id=\"organization\">Organization</h4> <p>Conformance Expectation: <strong>SHALL</strong></p> <p>Supported Profiles: <a href=\"StructureDefinition-us-core-organization.html\">US Core Organization Profile</a> </p> <p>Reference Policy: <code>resolves</code></p> <p>Profile Interaction Summary:</p> <ul> <li><strong>SHALL</strong> support <code>search-type</code>, <code>read</code>.</li><li><strong>SHOULD</strong> support <code>vread</code>, <code>history-instance</code>.</li><li><strong>MAY</strong> support <code>create</code>, <code>update</code>, <code>patch</code>, <code>delete</code>, <code>history-type</code>.</li> </ul> <p>Fetch and Search Criteria:</p> <ul> <li> A Server <strong>SHALL</strong> be capable of returning a Organization resource using: <code class=\"highlighter-rouge\">GET [base]/Organization/[id]</code> </li> </ul> <p>Search Parameter Summary:</p> <table class=\"grid\"> <thead> <tr> <th>Conformance</th> <th>Parameter</th> <th>Type</th> <th>Documentation</th> </tr> </thead> <tbody><tr> <td> <strong>SHALL</strong> </td> <td> <a href=\"SearchParameter-us-core-organization-name.html\"> name</a> </td> <td> string </td> <td align=\"left\"> - </td> </tr><tr> <td> <strong>SHALL</strong> </td> <td> <a href=\"SearchParameter-us-core-organization-address.html\"> address</a> </td> <td> string </td> <td align=\"left\"> - </td> </tr> </tbody> </table> <hr /> <h4 class=\"no_toc\" id=\"patient\">Patient</h4> <p>Conformance Expectation: <strong>SHALL</strong></p> <p>Supported Profiles: <a href=\"StructureDefinition-us-core-patient.html\">US Core Patient Profile</a> </p> <p>Resource Specific Documentation:</p> <blockquote><ul> <li>For ONC's USCDI requirements, each Patient must support the following additional elements. These elements are included in the formal definition of the profile. The patient examples include all of these elements.</li> </ul> <ol> <li>contact detail (e.g. a telephone number or an email address)</li> <li>a communication language</li> <li>a race</li> <li>an ethnicity</li> <li>a birth sex*</li> <li>previous name <ul> <li>Previous name is represented by providing an end date in the <code>Patient.name.period</code> element for a previous name.</li> </ul> </li> <li>suffix <ul> <li>Suffix is represented using the <code>Patient.name.suffix</code> element.</li> </ul> </li> </ol> </blockquote> <p>Reference Policy: <code>resolves</code></p> <p>Profile Interaction Summary:</p> <ul> <li><strong>SHALL</strong> support <code>search-type</code>, <code>read</code>.</li><li><strong>SHOULD</strong> support <code>vread</code>, <code>history-instance</code>.</li><li><strong>MAY</strong> support <code>create</code>, <code>update</code>, <code>patch</code>, <code>delete</code>, <code>history-type</code>.</li> </ul> <p>Fetch and Search Criteria:</p> <ul> <li> A Server <strong>SHALL</strong> be capable of returning a Patient resource using: <code class=\"highlighter-rouge\">GET [base]/Patient/[id]</code> </li> <li> A Server <strong>SHALL</strong> be capable of supporting the following _revincludes: Provenance:target - <code class=\"highlighter-rouge\">GET [base]/Patient?[parameter=value]&amp;_revinclude=Provenance:target</code> </li> </ul> <p>Search Parameter Summary:</p> <table class=\"grid\"> <thead> <tr> <th>Conformance</th> <th>Parameter</th> <th>Type</th> <th>Documentation</th> </tr> </thead> <tbody><tr> <td> <strong>SHALL</strong> </td> <td> <a href=\"SearchParameter-us-core-patient-id.html\"> _id</a> </td> <td> token </td> <td align=\"left\"> - </td> </tr><tr> <td> <strong>MAY</strong> </td> <td> <a href=\"SearchParameter-us-core-patient-birthdate.html\"> birthdate</a> </td> <td> date </td> <td align=\"left\"> <p>A client <strong>SHALL</strong> provide a value precise to the <em>day</em>.</p> <p>A server <strong>SHALL</strong> support a value a value precise to the <em>day</em>.</p> </td> </tr><tr> <td> <strong>MAY</strong> </td> <td> <a href=\"SearchParameter-us-core-patient-family.html\"> family</a> </td> <td> string </td> <td align=\"left\"> <ul> <li>A server <strong>SHALL</strong> support a value precise to the <em>day</em>.</li> </ul> </td> </tr><tr> <td> <strong>MAY</strong> </td> <td> <a href=\"SearchParameter-us-core-patient-gender.html\"> gender</a> </td> <td> token </td> <td align=\"left\"> <p>The client <strong>SHALL</strong> provide at least a code value and <strong>MAY</strong> provide both the system and code values.</p> <p>The server <strong>SHALL</strong> support both.</p> </td> </tr><tr> <td> <strong>MAY</strong> </td> <td> <a href=\"SearchParameter-us-core-patient-given.html\"> given</a> </td> <td> string </td> <td align=\"left\"> - </td> </tr><tr> <td> <strong>SHALL</strong> </td> <td> <a href=\"SearchParameter-us-core-patient-identifier.html\"> identifier</a> </td> <td> token </td> <td align=\"left\"> <p>The client <strong>SHALL</strong> provide at least a code value and <strong>MAY</strong> provide both the system and code values.</p> <p>The server <strong>SHALL</strong> support both.</p> </td> </tr><tr> <td> <strong>SHALL</strong> </td> <td> <a href=\"SearchParameter-us-core-patient-name.html\"> name</a> </td> <td> string </td> <td align=\"left\"> - </td> </tr> </tbody> </table> <p>Search Parameter Combination Summary:</p> <table class=\"grid\"> <thead> <tr> <th>Conformance</th> <th>Parameter Combination</th> <th>Types</th> </tr> </thead> <tbody> <tr> <td><strong>SHOULD</strong> </td> <td>family+gender </td> <td>string+token </td> </tr> <tr> <td><strong>SHALL</strong> </td> <td>gender+name </td> <td>token+string </td> </tr> <tr> <td><strong>SHOULD</strong> </td> <td>birthdate+family </td> <td>date+string </td> </tr> <tr> <td><strong>SHALL</strong> </td> <td>birthdate+name </td> <td>date+string </td> </tr> </tbody> </table> <hr /> <h4 class=\"no_toc\" id=\"practitioner\">Practitioner</h4> <p>Conformance Expectation: <strong>SHALL</strong></p> <p>Supported Profiles: <a href=\"StructureDefinition-us-core-practitioner.html\">US Core Practitioner Profile</a> </p> <p>Reference Policy: <code>resolves</code></p> <p>Profile Interaction Summary:</p> <ul> <li><strong>SHALL</strong> support <code>search-type</code>, <code>read</code>.</li><li><strong>SHOULD</strong> support <code>vread</code>, <code>history-instance</code>.</li><li><strong>MAY</strong> support <code>create</code>, <code>update</code>, <code>patch</code>, <code>delete</code>, <code>history-type</code>.</li> </ul> <p>Fetch and Search Criteria:</p> <ul> <li> A Server <strong>SHALL</strong> be capable of returning a Practitioner resource using: <code class=\"highlighter-rouge\">GET [base]/Practitioner/[id]</code> </li> </ul> <p>Search Parameter Summary:</p> <table class=\"grid\"> <thead> <tr> <th>Conformance</th> <th>Parameter</th> <th>Type</th> <th>Documentation</th> </tr> </thead> <tbody><tr> <td> <strong>SHALL</strong> </td> <td> <a href=\"SearchParameter-us-core-practitioner-name.html\"> name</a> </td> <td> string </td> <td align=\"left\"> - </td> </tr><tr> <td> <strong>SHALL</strong> </td> <td> <a href=\"SearchParameter-us-core-practitioner-identifier.html\"> identifier</a> </td> <td> token </td> <td align=\"left\"> <p>The client <strong>SHALL</strong> provide at least a code value and <strong>MAY</strong> provide both the system and code values.</p> <p>The server <strong>SHALL</strong> support both.</p> </td> </tr> </tbody> </table> <hr /> <h4 class=\"no_toc\" id=\"practitionerrole\">PractitionerRole</h4> <p>Conformance Expectation: <strong>SHALL</strong></p> <p>Supported Profiles: <a href=\"StructureDefinition-us-core-practitionerrole.html\">US Core PractitionerRole Profile</a> </p> <p>Resource Specific Documentation:</p> <blockquote><ul> <li>The US Core Location and PractitionerRole Profiles are not explicitly referenced in any US Core Profile. However they <strong>SHOULD</strong> be used as the default profile if referenced by another US Core profile.</li> </ul> </blockquote> <p>Reference Policy: <code>resolves</code></p> <p>Profile Interaction Summary:</p> <ul> <li><strong>SHALL</strong> support <code>search-type</code>, <code>read</code>.</li><li><strong>SHOULD</strong> support <code>vread</code>, <code>history-instance</code>.</li><li><strong>MAY</strong> support <code>create</code>, <code>update</code>, <code>patch</code>, <code>delete</code>, <code>history-type</code>.</li> </ul> <p>Fetch and Search Criteria:</p> <ul> <li> A Server <strong>SHALL</strong> be capable of returning a PractitionerRole resource using: <code class=\"highlighter-rouge\">GET [base]/PractitionerRole/[id]</code> </li> <li> A Server <strong>SHOULD</strong> be capable of supporting the following _includes: PractitionerRole:endpoint - <code class=\"highlighter-rouge\">GET [base]/PractitionerRole?[parameter=value]&amp;_include=PractitionerRole:endpoint</code> PractitionerRole:practitioner - <code class=\"highlighter-rouge\">GET [base]/PractitionerRole?[parameter=value]&amp;_include=PractitionerRole:practitioner</code> </li> </ul> <p>Search Parameter Summary:</p> <table class=\"grid\"> <thead> <tr> <th>Conformance</th> <th>Parameter</th> <th>Type</th> <th>Documentation</th> </tr> </thead> <tbody><tr> <td> <strong>SHALL</strong> </td> <td> <a href=\"SearchParameter-us-core-practitionerrole-specialty.html\"> specialty</a> </td> <td> token </td> <td align=\"left\"> <p>The client <strong>SHALL</strong> provide at least a code value and <strong>MAY</strong> provide both the system and code values.</p> <p>The server <strong>SHALL</strong> support both.</p> </td> </tr><tr> <td> <strong>SHALL</strong> </td> <td> <a href=\"SearchParameter-us-core-practitionerrole-practitioner.html\"> practitioner</a> </td> <td> reference </td> <td align=\"left\"> <p>The client <strong>SHALL</strong> provide at least a id value and <strong>MAY</strong> provide both the Type and id values.</p> <p>The server <strong>SHALL</strong> support both.</p> </td> </tr> </tbody> </table> <hr /> <h4 class=\"no_toc\" id=\"procedure\">Procedure</h4> <p>Conformance Expectation: <strong>SHALL</strong></p> <p>Supported Profiles: <a href=\"StructureDefinition-us-core-procedure.html\">US Core Procedure Profile</a> </p> <p>Resource Specific Documentation:</p> <blockquote><ul> <li>A procedure including an implantable device <strong>SHOULD</strong> use <code>Procedure.focalDevice</code> with a reference to the [US Core Implantable Device Profile].</li> </ul> </blockquote> <p>Reference Policy: <code>resolves</code></p> <p>Profile Interaction Summary:</p> <ul> <li><strong>SHALL</strong> support <code>search-type</code>, <code>read</code>.</li><li><strong>SHOULD</strong> support <code>vread</code>, <code>history-instance</code>.</li><li><strong>MAY</strong> support <code>create</code>, <code>update</code>, <code>patch</code>, <code>delete</code>, <code>history-type</code>.</li> </ul> <p>Fetch and Search Criteria:</p> <ul> <li> A Server <strong>SHALL</strong> be capable of returning a Procedure resource using: <code class=\"highlighter-rouge\">GET [base]/Procedure/[id]</code> </li> <li> A Server <strong>SHALL</strong> be capable of supporting the following _revincludes: Provenance:target - <code class=\"highlighter-rouge\">GET [base]/Procedure?[parameter=value]&amp;_revinclude=Provenance:target</code> </li> </ul> <p>Search Parameter Summary:</p> <table class=\"grid\"> <thead> <tr> <th>Conformance</th> <th>Parameter</th> <th>Type</th> <th>Documentation</th> </tr> </thead> <tbody><tr> <td> <strong>MAY</strong> </td> <td> <a href=\"SearchParameter-us-core-procedure-status.html\"> status</a> </td> <td> token </td> <td align=\"left\"> <p>The client <strong>SHALL</strong> provide at least a code value and <strong>MAY</strong> provide both the system and code values.</p> <p>The server <strong>SHALL</strong> support both.</p> </td> </tr><tr> <td> <strong>SHALL</strong> </td> <td> <a href=\"SearchParameter-us-core-procedure-patient.html\"> patient</a> </td> <td> reference </td> <td align=\"left\"> <p>The client <strong>SHALL</strong> provide at least a id value and <strong>MAY</strong> provide both the Type and id values.</p> <p>The server <strong>SHALL</strong> support both.</p> </td> </tr><tr> <td> <strong>MAY</strong> </td> <td> <a href=\"SearchParameter-us-core-procedure-date.html\"> date</a> </td> <td> date </td> <td align=\"left\"> <p>A client <strong>SHALL</strong> provide a value precise to the <em>second + time offset</em>.</p> <p>A server <strong>SHALL</strong> support a value precise to the <em>second + time offset</em>.</p> </td> </tr><tr> <td> <strong>MAY</strong> </td> <td> <a href=\"SearchParameter-us-core-procedure-code.html\"> code</a> </td> <td> token </td> <td align=\"left\"> <p>The client <strong>SHALL</strong> provide at least a code value and <strong>MAY</strong> provide both the system and code values.</p> <p>The server <strong>SHALL</strong> support both.</p> </td> </tr> </tbody> </table> <p>Search Parameter Combination Summary:</p> <table class=\"grid\"> <thead> <tr> <th>Conformance</th> <th>Parameter Combination</th> <th>Types</th> </tr> </thead> <tbody> <tr> <td><strong>SHOULD</strong> </td> <td>patient+status </td> <td>reference+token </td> </tr> <tr> <td><strong>SHALL</strong> </td> <td>patient+date </td> <td>reference+date </td> </tr> <tr> <td><strong>SHOULD</strong> </td> <td>patient+code+date </td> <td>reference+token+date </td> </tr> </tbody> </table> <hr /> <h4 class=\"no_toc\" id=\"provenance\">Provenance</h4> <p>Conformance Expectation: <strong>SHALL</strong></p> <p>Supported Profiles: <a href=\"StructureDefinition-us-core-provenance.html\">US Core Provenance Profile</a> </p> <p>Resource Specific Documentation:</p> <blockquote><ul> <li>If a system receives a provider in <code>Provenance.agent.who</code> as free text they must capture who sent them the information as the organization. On request they <strong>SHALL</strong> provide this organization as the source and <strong>MAY</strong> include the free text provider.</li> <li>Systems that need to know the activity has occurred <strong>SHOULD</strong> populate the activity.</li> </ul> </blockquote> <p>Reference Policy: <code>resolves</code></p> <p>Profile Interaction Summary:</p> <ul> <li><strong>SHALL</strong> support <code>read</code>.</li><li><strong>SHOULD</strong> support <code>vread</code>, <code>history-instance</code>.</li><li><strong>MAY</strong> support <code>create</code>, <code>search-type</code>, <code>update</code>, <code>patch</code>, <code>delete</code>, <code>history-type</code>.</li> </ul> <p>Fetch and Search Criteria:</p> <ul> <li> A Server <strong>SHALL</strong> be capable of returning a Provenance resource using: <code class=\"highlighter-rouge\">GET [base]/Provenance/[id]</code> </li> </ul> <hr /> <h4 class=\"no_toc\" id=\"valueset\">ValueSet</h4> <p>Conformance Expectation: <strong>SHOULD</strong></p> <p>Operation Summary:</p> <ul> <li><strong>SHOULD</strong> support the <a href=\"http://hl7.org/fhir/OperationDefinition/ValueSet-expand\">$expand</a> operation <p>A client can determine the note and report types support by a server by invoking the standard FHIR Value Set Expansion ($expand) operation defined in the FHIR R4 specification. Because servers may support different read and write formats, it also is used to determine the formats (for example, text, pdf) the server supports read and write transactions.</p> </li> </ul> <hr /> </div>"
      ],
      "text/plain": [
       "<IPython.core.display.HTML object>"
      ]
     },
     "metadata": {},
     "output_type": "display_data"
    }
   ],
   "source": [
    "def x_minify(xhtml):\n",
    "    h_min=minify(xhtml, remove_optional_attribute_quotes=False, remove_comments=True)\n",
    "    x_min = h_min.replace('<br>','<br />')\n",
    "    x_min = x_min.replace('<hr>','<hr />')\n",
    "    return x_min\n",
    "\n",
    "mini = x_minify(rendered)\n",
    "#print(type(mini))\n",
    "#display(HTML(rendered))\n",
    "display(HTML(mini))\n",
    "\n",
    "'''\n",
    "#======== write to temp file to debug =======\n",
    "path = Path.cwd() / 'debug' / 'narrative_pre.xhtml'\n",
    "path.write_text(rendered, encoding=\"utf-8\")\n",
    "path = Path.cwd() / 'debug' / 'narrative_mini_pre.xhtml'\n",
    "path.write_text(mini, encoding=\"utf-8\")\n",
    "#===================================================\n",
    "'''\n",
    "narr = construct_fhir_element('Narrative', dict(\n",
    "        status = 'generated',\n",
    "        div = mini,\n",
    "        ))\n",
    "cs.text = narr\n",
    "#print(cs.json(indent=2))"
   ]
  },
  {
   "cell_type": "markdown",
   "metadata": {},
   "source": [
    "### validate again"
   ]
  },
  {
   "cell_type": "code",
   "execution_count": 528,
   "metadata": {},
   "outputs": [
    {
     "name": "stdout",
     "output_type": "stream",
     "text": [
      "...validating\n"
     ]
    },
    {
     "data": {
      "text/html": [
       "<h1>Validation output</h1><h3>Status Code = 200</h3> <div xmlns=\"http://www.w3.org/1999/xhtml\"><table class=\"grid\"><tr><td><b>Severity</b></td><td><b>Location</b></td><td><b>Code</b></td><td><b>Details</b></td><td><b>Diagnostics</b></td><td><b>Source</b></td></tr><tr><td>ERROR</td><td>CapabilityStatement.instantiates[1], CapabilityStatement.instantiates[1]</td><td>Structural Issue</td><td>Primitive types must have a value or must have child extensions</td><td/><td>InstanceValidator</td></tr><tr><td>ERROR</td><td>CapabilityStatement.imports[1], CapabilityStatement.imports[1]</td><td>Structural Issue</td><td>Primitive types must have a value or must have child extensions</td><td/><td>InstanceValidator</td></tr><tr><td>ERROR</td><td>CapabilityStatement.instantiates[0] (line 1, col 79331), CapabilityStatement.instantiates[0] (line 1, col 79331)</td><td>Structural Issue</td><td>Canonical URLs must be absolute URLs if they are not fragment references (bar)</td><td/><td>InstanceValidator</td></tr><tr><td>ERROR</td><td>CapabilityStatement.implementationGuide[1] (line 1, col 80139), CapabilityStatement.implementationGuide[1] (line 1, col 80139)</td><td>Structural Issue</td><td>Canonical URLs must be absolute URLs if they are not fragment references (bar)</td><td/><td>InstanceValidator</td></tr><tr><td>ERROR</td><td>CapabilityStatement.implementationGuide[2] (line 1, col 80145), CapabilityStatement.implementationGuide[2] (line 1, col 80145)</td><td>Structural Issue</td><td>Canonical URLs must be absolute URLs if they are not fragment references (baz)</td><td/><td>InstanceValidator</td></tr><tr><td>ERROR</td><td>CapabilityStatement.imports[0] (line 1, col 79490), CapabilityStatement.imports[0] (line 1, col 79490)</td><td>Structural Issue</td><td>Canonical URLs must be absolute URLs if they are not fragment references (foo)</td><td/><td>InstanceValidator</td></tr><tr><td>ERROR</td><td>CapabilityStatement.implementationGuide[0] (line 1, col 80133), CapabilityStatement.implementationGuide[0] (line 1, col 80133)</td><td>Structural Issue</td><td>Canonical URLs must be absolute URLs if they are not fragment references (foo)</td><td/><td>InstanceValidator</td></tr><tr><td>ERROR</td><td>CapabilityStatement.format[0] (line 1, col 79699), CapabilityStatement.format[0] (line 1, col 79699)</td><td>Structural Issue</td><td>The extension http://hl7.org/fhir/StructureDefinition/capabilitystatement-expectation is not allowed to be used at this point (allowed = e:CapabilityStatement.rest.resource.interaction, e:CapabilityStatement.rest.resource.searchParam, e:CapabilityStatement.rest.searchParam, e:CapabilityStatement.rest.operation, e:CapabilityStatement.document, e:CapabilityStatement.rest.interaction, e:CapabilityStatement.rest.resource.searchInclude, e:CapabilityStatement.rest.resource.searchRevInclude; this element is [[CapabilityStatement.format, code])</td><td/><td>InstanceValidator</td></tr><tr><td>ERROR</td><td>CapabilityStatement.format[1] (line 1, col 79817), CapabilityStatement.format[1] (line 1, col 79817)</td><td>Structural Issue</td><td>The extension http://hl7.org/fhir/StructureDefinition/capabilitystatement-expectation is not allowed to be used at this point (allowed = e:CapabilityStatement.rest.resource.interaction, e:CapabilityStatement.rest.resource.searchParam, e:CapabilityStatement.rest.searchParam, e:CapabilityStatement.rest.operation, e:CapabilityStatement.document, e:CapabilityStatement.rest.interaction, e:CapabilityStatement.rest.resource.searchInclude, e:CapabilityStatement.rest.resource.searchRevInclude; this element is [[CapabilityStatement.format, code])</td><td/><td>InstanceValidator</td></tr><tr><td>ERROR</td><td>CapabilityStatement.implementationGuide[2] (line 1, col 80195), CapabilityStatement.implementationGuide[2] (line 1, col 80195)</td><td>Structural Issue</td><td>The extension http://hl7.org/fhir/StructureDefinition/capabilitystatement-expectation is not allowed to be used at this point (allowed = e:CapabilityStatement.rest.resource.interaction, e:CapabilityStatement.rest.resource.searchParam, e:CapabilityStatement.rest.searchParam, e:CapabilityStatement.rest.operation, e:CapabilityStatement.document, e:CapabilityStatement.rest.interaction, e:CapabilityStatement.rest.resource.searchInclude, e:CapabilityStatement.rest.resource.searchRevInclude; this element is [[CapabilityStatement.implementationGuide, canonical])</td><td/><td>InstanceValidator</td></tr><tr><td>ERROR</td><td>CapabilityStatement.imports[0] (line 1, col 79518), CapabilityStatement.imports[0] (line 1, col 79518)</td><td>Structural Issue</td><td>The extension http://hl7.org/fhir/StructureDefinition/capabilitystatement-expectation is not allowed to be used at this point (allowed = e:CapabilityStatement.rest.resource.interaction, e:CapabilityStatement.rest.resource.searchParam, e:CapabilityStatement.rest.searchParam, e:CapabilityStatement.rest.operation, e:CapabilityStatement.document, e:CapabilityStatement.rest.interaction, e:CapabilityStatement.rest.resource.searchInclude, e:CapabilityStatement.rest.resource.searchRevInclude; this element is [[CapabilityStatement.imports, canonical])</td><td/><td>InstanceValidator</td></tr><tr><td>ERROR</td><td>CapabilityStatement.instantiates[0] (line 1, col 79364), CapabilityStatement.instantiates[0] (line 1, col 79364)</td><td>Structural Issue</td><td>The extension http://hl7.org/fhir/StructureDefinition/capabilitystatement-expectation is not allowed to be used at this point (allowed = e:CapabilityStatement.rest.resource.interaction, e:CapabilityStatement.rest.resource.searchParam, e:CapabilityStatement.rest.searchParam, e:CapabilityStatement.rest.operation, e:CapabilityStatement.document, e:CapabilityStatement.rest.interaction, e:CapabilityStatement.rest.resource.searchInclude, e:CapabilityStatement.rest.resource.searchRevInclude; this element is [[CapabilityStatement.instantiates, canonical])</td><td/><td>InstanceValidator</td></tr><tr><td>ERROR</td><td>CapabilityStatement.patchFormat[0] (line 1, col 79999), CapabilityStatement.patchFormat[0] (line 1, col 79999)</td><td>Structural Issue</td><td>The extension http://hl7.org/fhir/StructureDefinition/capabilitystatement-expectation is not allowed to be used at this point (allowed = e:CapabilityStatement.rest.resource.interaction, e:CapabilityStatement.rest.resource.searchParam, e:CapabilityStatement.rest.searchParam, e:CapabilityStatement.rest.operation, e:CapabilityStatement.document, e:CapabilityStatement.rest.interaction, e:CapabilityStatement.rest.resource.searchInclude, e:CapabilityStatement.rest.resource.searchRevInclude; this element is [[CapabilityStatement.patchFormat, code])</td><td/><td>InstanceValidator</td></tr><tr><td>ERROR</td><td>CapabilityStatement.rest[0].resource[0].extension[1] (line 1, col 81522), CapabilityStatement.rest[0].resource[0].extension[1] (line 1, col 81522)</td><td>Structural Issue</td><td>The extension http://hl7.org/fhir/StructureDefinition/capabilitystatement-expectation is not allowed to be used at this point (allowed = e:CapabilityStatement.rest.resource.interaction, e:CapabilityStatement.rest.resource.searchParam, e:CapabilityStatement.rest.searchParam, e:CapabilityStatement.rest.operation, e:CapabilityStatement.document, e:CapabilityStatement.rest.interaction, e:CapabilityStatement.rest.resource.searchInclude, e:CapabilityStatement.rest.resource.searchRevInclude; this element is [[CapabilityStatement.rest.resource.extension, Extension])</td><td/><td>InstanceValidator</td></tr><tr><td>ERROR</td><td>CapabilityStatement.rest[0].resource[1].extension[1] (line 1, col 84370), CapabilityStatement.rest[0].resource[1].extension[1] (line 1, col 84370)</td><td>Structural Issue</td><td>The extension http://hl7.org/fhir/StructureDefinition/capabilitystatement-expectation is not allowed to be used at this point (allowed = e:CapabilityStatement.rest.resource.interaction, e:CapabilityStatement.rest.resource.searchParam, e:CapabilityStatement.rest.searchParam, e:CapabilityStatement.rest.operation, e:CapabilityStatement.document, e:CapabilityStatement.rest.interaction, e:CapabilityStatement.rest.resource.searchInclude, e:CapabilityStatement.rest.resource.searchRevInclude; this element is [[CapabilityStatement.rest.resource.extension, Extension])</td><td/><td>InstanceValidator</td></tr><tr><td>ERROR</td><td>CapabilityStatement.rest[0].resource[1].extension[2] (line 1, col 84672), CapabilityStatement.rest[0].resource[1].extension[2] (line 1, col 84672)</td><td>Structural Issue</td><td>The extension http://hl7.org/fhir/StructureDefinition/capabilitystatement-expectation is not allowed to be used at this point (allowed = e:CapabilityStatement.rest.resource.interaction, e:CapabilityStatement.rest.resource.searchParam, e:CapabilityStatement.rest.searchParam, e:CapabilityStatement.rest.operation, e:CapabilityStatement.document, e:CapabilityStatement.rest.interaction, e:CapabilityStatement.rest.resource.searchInclude, e:CapabilityStatement.rest.resource.searchRevInclude; this element is [[CapabilityStatement.rest.resource.extension, Extension])</td><td/><td>InstanceValidator</td></tr><tr><td>ERROR</td><td>CapabilityStatement.rest[0].resource[1].extension[3] (line 1, col 85015), CapabilityStatement.rest[0].resource[1].extension[3] (line 1, col 85015)</td><td>Structural Issue</td><td>The extension http://hl7.org/fhir/StructureDefinition/capabilitystatement-expectation is not allowed to be used at this point (allowed = e:CapabilityStatement.rest.resource.interaction, e:CapabilityStatement.rest.resource.searchParam, e:CapabilityStatement.rest.searchParam, e:CapabilityStatement.rest.operation, e:CapabilityStatement.document, e:CapabilityStatement.rest.interaction, e:CapabilityStatement.rest.resource.searchInclude, e:CapabilityStatement.rest.resource.searchRevInclude; this element is [[CapabilityStatement.rest.resource.extension, Extension])</td><td/><td>InstanceValidator</td></tr><tr><td>ERROR</td><td>CapabilityStatement.rest[0].resource[1].extension[4] (line 1, col 85360), CapabilityStatement.rest[0].resource[1].extension[4] (line 1, col 85360)</td><td>Structural Issue</td><td>The extension http://hl7.org/fhir/StructureDefinition/capabilitystatement-expectation is not allowed to be used at this point (allowed = e:CapabilityStatement.rest.resource.interaction, e:CapabilityStatement.rest.resource.searchParam, e:CapabilityStatement.rest.searchParam, e:CapabilityStatement.rest.operation, e:CapabilityStatement.document, e:CapabilityStatement.rest.interaction, e:CapabilityStatement.rest.resource.searchInclude, e:CapabilityStatement.rest.resource.searchRevInclude; this element is [[CapabilityStatement.rest.resource.extension, Extension])</td><td/><td>InstanceValidator</td></tr><tr><td>ERROR</td><td>CapabilityStatement.rest[0].resource[2].extension[1] (line 1, col 89398), CapabilityStatement.rest[0].resource[2].extension[1] (line 1, col 89398)</td><td>Structural Issue</td><td>The extension http://hl7.org/fhir/StructureDefinition/capabilitystatement-expectation is not allowed to be used at this point (allowed = e:CapabilityStatement.rest.resource.interaction, e:CapabilityStatement.rest.resource.searchParam, e:CapabilityStatement.rest.searchParam, e:CapabilityStatement.rest.operation, e:CapabilityStatement.document, e:CapabilityStatement.rest.interaction, e:CapabilityStatement.rest.resource.searchInclude, e:CapabilityStatement.rest.resource.searchRevInclude; this element is [[CapabilityStatement.rest.resource.extension, Extension])</td><td/><td>InstanceValidator</td></tr><tr><td>ERROR</td><td>CapabilityStatement.rest[0].resource[3].extension[1] (line 1, col 92176), CapabilityStatement.rest[0].resource[3].extension[1] (line 1, col 92176)</td><td>Structural Issue</td><td>The extension http://hl7.org/fhir/StructureDefinition/capabilitystatement-expectation is not allowed to be used at this point (allowed = e:CapabilityStatement.rest.resource.interaction, e:CapabilityStatement.rest.resource.searchParam, e:CapabilityStatement.rest.searchParam, e:CapabilityStatement.rest.operation, e:CapabilityStatement.document, e:CapabilityStatement.rest.interaction, e:CapabilityStatement.rest.resource.searchInclude, e:CapabilityStatement.rest.resource.searchRevInclude; this element is [[CapabilityStatement.rest.resource.extension, Extension])</td><td/><td>InstanceValidator</td></tr><tr><td>ERROR</td><td>CapabilityStatement.rest[0].resource[3].extension[2] (line 1, col 92479), CapabilityStatement.rest[0].resource[3].extension[2] (line 1, col 92479)</td><td>Structural Issue</td><td>The extension http://hl7.org/fhir/StructureDefinition/capabilitystatement-expectation is not allowed to be used at this point (allowed = e:CapabilityStatement.rest.resource.interaction, e:CapabilityStatement.rest.resource.searchParam, e:CapabilityStatement.rest.searchParam, e:CapabilityStatement.rest.operation, e:CapabilityStatement.document, e:CapabilityStatement.rest.interaction, e:CapabilityStatement.rest.resource.searchInclude, e:CapabilityStatement.rest.resource.searchRevInclude; this element is [[CapabilityStatement.rest.resource.extension, Extension])</td><td/><td>InstanceValidator</td></tr><tr><td>ERROR</td><td>CapabilityStatement.rest[0].resource[3].extension[3] (line 1, col 92778), CapabilityStatement.rest[0].resource[3].extension[3] (line 1, col 92778)</td><td>Structural Issue</td><td>The extension http://hl7.org/fhir/StructureDefinition/capabilitystatement-expectation is not allowed to be used at this point (allowed = e:CapabilityStatement.rest.resource.interaction, e:CapabilityStatement.rest.resource.searchParam, e:CapabilityStatement.rest.searchParam, e:CapabilityStatement.rest.operation, e:CapabilityStatement.document, e:CapabilityStatement.rest.interaction, e:CapabilityStatement.rest.resource.searchInclude, e:CapabilityStatement.rest.resource.searchRevInclude; this element is [[CapabilityStatement.rest.resource.extension, Extension])</td><td/><td>InstanceValidator</td></tr><tr><td>ERROR</td><td>CapabilityStatement.rest[0].resource[3].extension[4] (line 1, col 93088), CapabilityStatement.rest[0].resource[3].extension[4] (line 1, col 93088)</td><td>Structural Issue</td><td>The extension http://hl7.org/fhir/StructureDefinition/capabilitystatement-expectation is not allowed to be used at this point (allowed = e:CapabilityStatement.rest.resource.interaction, e:CapabilityStatement.rest.resource.searchParam, e:CapabilityStatement.rest.searchParam, e:CapabilityStatement.rest.operation, e:CapabilityStatement.document, e:CapabilityStatement.rest.interaction, e:CapabilityStatement.rest.resource.searchInclude, e:CapabilityStatement.rest.resource.searchRevInclude; this element is [[CapabilityStatement.rest.resource.extension, Extension])</td><td/><td>InstanceValidator</td></tr><tr><td>ERROR</td><td>CapabilityStatement.rest[0].resource[4].extension[1] (line 1, col 97084), CapabilityStatement.rest[0].resource[4].extension[1] (line 1, col 97084)</td><td>Structural Issue</td><td>The extension http://hl7.org/fhir/StructureDefinition/capabilitystatement-expectation is not allowed to be used at this point (allowed = e:CapabilityStatement.rest.resource.interaction, e:CapabilityStatement.rest.resource.searchParam, e:CapabilityStatement.rest.searchParam, e:CapabilityStatement.rest.operation, e:CapabilityStatement.document, e:CapabilityStatement.rest.interaction, e:CapabilityStatement.rest.resource.searchInclude, e:CapabilityStatement.rest.resource.searchRevInclude; this element is [[CapabilityStatement.rest.resource.extension, Extension])</td><td/><td>InstanceValidator</td></tr><tr><td>ERROR</td><td>CapabilityStatement.rest[0].resource[5].extension[1] (line 1, col 101504), CapabilityStatement.rest[0].resource[5].extension[1] (line 1, col 101504)</td><td>Structural Issue</td><td>The extension http://hl7.org/fhir/StructureDefinition/capabilitystatement-expectation is not allowed to be used at this point (allowed = e:CapabilityStatement.rest.resource.interaction, e:CapabilityStatement.rest.resource.searchParam, e:CapabilityStatement.rest.searchParam, e:CapabilityStatement.rest.operation, e:CapabilityStatement.document, e:CapabilityStatement.rest.interaction, e:CapabilityStatement.rest.resource.searchInclude, e:CapabilityStatement.rest.resource.searchRevInclude; this element is [[CapabilityStatement.rest.resource.extension, Extension])</td><td/><td>InstanceValidator</td></tr><tr><td>ERROR</td><td>CapabilityStatement.rest[0].resource[5].extension[2] (line 1, col 101846), CapabilityStatement.rest[0].resource[5].extension[2] (line 1, col 101846)</td><td>Structural Issue</td><td>The extension http://hl7.org/fhir/StructureDefinition/capabilitystatement-expectation is not allowed to be used at this point (allowed = e:CapabilityStatement.rest.resource.interaction, e:CapabilityStatement.rest.resource.searchParam, e:CapabilityStatement.rest.searchParam, e:CapabilityStatement.rest.operation, e:CapabilityStatement.document, e:CapabilityStatement.rest.interaction, e:CapabilityStatement.rest.resource.searchInclude, e:CapabilityStatement.rest.resource.searchRevInclude; this element is [[CapabilityStatement.rest.resource.extension, Extension])</td><td/><td>InstanceValidator</td></tr><tr><td>ERROR</td><td>CapabilityStatement.rest[0].resource[5].extension[3] (line 1, col 102185), CapabilityStatement.rest[0].resource[5].extension[3] (line 1, col 102185)</td><td>Structural Issue</td><td>The extension http://hl7.org/fhir/StructureDefinition/capabilitystatement-expectation is not allowed to be used at this point (allowed = e:CapabilityStatement.rest.resource.interaction, e:CapabilityStatement.rest.resource.searchParam, e:CapabilityStatement.rest.searchParam, e:CapabilityStatement.rest.operation, e:CapabilityStatement.document, e:CapabilityStatement.rest.interaction, e:CapabilityStatement.rest.resource.searchInclude, e:CapabilityStatement.rest.resource.searchRevInclude; this element is [[CapabilityStatement.rest.resource.extension, Extension])</td><td/><td>InstanceValidator</td></tr><tr><td>ERROR</td><td>CapabilityStatement.rest[0].resource[5].extension[4] (line 1, col 102487), CapabilityStatement.rest[0].resource[5].extension[4] (line 1, col 102487)</td><td>Structural Issue</td><td>The extension http://hl7.org/fhir/StructureDefinition/capabilitystatement-expectation is not allowed to be used at this point (allowed = e:CapabilityStatement.rest.resource.interaction, e:CapabilityStatement.rest.resource.searchParam, e:CapabilityStatement.rest.searchParam, e:CapabilityStatement.rest.operation, e:CapabilityStatement.document, e:CapabilityStatement.rest.interaction, e:CapabilityStatement.rest.resource.searchInclude, e:CapabilityStatement.rest.resource.searchRevInclude; this element is [[CapabilityStatement.rest.resource.extension, Extension])</td><td/><td>InstanceValidator</td></tr><tr><td>ERROR</td><td>CapabilityStatement.rest[0].resource[5].extension[5] (line 1, col 102785), CapabilityStatement.rest[0].resource[5].extension[5] (line 1, col 102785)</td><td>Structural Issue</td><td>The extension http://hl7.org/fhir/StructureDefinition/capabilitystatement-expectation is not allowed to be used at this point (allowed = e:CapabilityStatement.rest.resource.interaction, e:CapabilityStatement.rest.resource.searchParam, e:CapabilityStatement.rest.searchParam, e:CapabilityStatement.rest.operation, e:CapabilityStatement.document, e:CapabilityStatement.rest.interaction, e:CapabilityStatement.rest.resource.searchInclude, e:CapabilityStatement.rest.resource.searchRevInclude; this element is [[CapabilityStatement.rest.resource.extension, Extension])</td><td/><td>InstanceValidator</td></tr><tr><td>ERROR</td><td>CapabilityStatement.rest[0].resource[6].extension[1] (line 1, col 107145), CapabilityStatement.rest[0].resource[6].extension[1] (line 1, col 107145)</td><td>Structural Issue</td><td>The extension http://hl7.org/fhir/StructureDefinition/capabilitystatement-expectation is not allowed to be used at this point (allowed = e:CapabilityStatement.rest.resource.interaction, e:CapabilityStatement.rest.resource.searchParam, e:CapabilityStatement.rest.searchParam, e:CapabilityStatement.rest.operation, e:CapabilityStatement.document, e:CapabilityStatement.rest.interaction, e:CapabilityStatement.rest.resource.searchInclude, e:CapabilityStatement.rest.resource.searchRevInclude; this element is [[CapabilityStatement.rest.resource.extension, Extension])</td><td/><td>InstanceValidator</td></tr><tr><td>ERROR</td><td>CapabilityStatement.rest[0].resource[6].extension[2] (line 1, col 107487), CapabilityStatement.rest[0].resource[6].extension[2] (line 1, col 107487)</td><td>Structural Issue</td><td>The extension http://hl7.org/fhir/StructureDefinition/capabilitystatement-expectation is not allowed to be used at this point (allowed = e:CapabilityStatement.rest.resource.interaction, e:CapabilityStatement.rest.resource.searchParam, e:CapabilityStatement.rest.searchParam, e:CapabilityStatement.rest.operation, e:CapabilityStatement.document, e:CapabilityStatement.rest.interaction, e:CapabilityStatement.rest.resource.searchInclude, e:CapabilityStatement.rest.resource.searchRevInclude; this element is [[CapabilityStatement.rest.resource.extension, Extension])</td><td/><td>InstanceValidator</td></tr><tr><td>ERROR</td><td>CapabilityStatement.rest[0].resource[6].extension[3] (line 1, col 107789), CapabilityStatement.rest[0].resource[6].extension[3] (line 1, col 107789)</td><td>Structural Issue</td><td>The extension http://hl7.org/fhir/StructureDefinition/capabilitystatement-expectation is not allowed to be used at this point (allowed = e:CapabilityStatement.rest.resource.interaction, e:CapabilityStatement.rest.resource.searchParam, e:CapabilityStatement.rest.searchParam, e:CapabilityStatement.rest.operation, e:CapabilityStatement.document, e:CapabilityStatement.rest.interaction, e:CapabilityStatement.rest.resource.searchInclude, e:CapabilityStatement.rest.resource.searchRevInclude; this element is [[CapabilityStatement.rest.resource.extension, Extension])</td><td/><td>InstanceValidator</td></tr><tr><td>ERROR</td><td>CapabilityStatement.rest[0].resource[6].extension[4] (line 1, col 108090), CapabilityStatement.rest[0].resource[6].extension[4] (line 1, col 108090)</td><td>Structural Issue</td><td>The extension http://hl7.org/fhir/StructureDefinition/capabilitystatement-expectation is not allowed to be used at this point (allowed = e:CapabilityStatement.rest.resource.interaction, e:CapabilityStatement.rest.resource.searchParam, e:CapabilityStatement.rest.searchParam, e:CapabilityStatement.rest.operation, e:CapabilityStatement.document, e:CapabilityStatement.rest.interaction, e:CapabilityStatement.rest.resource.searchInclude, e:CapabilityStatement.rest.resource.searchRevInclude; this element is [[CapabilityStatement.rest.resource.extension, Extension])</td><td/><td>InstanceValidator</td></tr><tr><td>ERROR</td><td>CapabilityStatement.rest[0].resource[6].extension[5] (line 1, col 108388), CapabilityStatement.rest[0].resource[6].extension[5] (line 1, col 108388)</td><td>Structural Issue</td><td>The extension http://hl7.org/fhir/StructureDefinition/capabilitystatement-expectation is not allowed to be used at this point (allowed = e:CapabilityStatement.rest.resource.interaction, e:CapabilityStatement.rest.resource.searchParam, e:CapabilityStatement.rest.searchParam, e:CapabilityStatement.rest.operation, e:CapabilityStatement.document, e:CapabilityStatement.rest.interaction, e:CapabilityStatement.rest.resource.searchInclude, e:CapabilityStatement.rest.resource.searchRevInclude; this element is [[CapabilityStatement.rest.resource.extension, Extension])</td><td/><td>InstanceValidator</td></tr><tr><td>ERROR</td><td>CapabilityStatement.rest[0].resource[7].extension[1] (line 1, col 114199), CapabilityStatement.rest[0].resource[7].extension[1] (line 1, col 114199)</td><td>Structural Issue</td><td>The extension http://hl7.org/fhir/StructureDefinition/capabilitystatement-expectation is not allowed to be used at this point (allowed = e:CapabilityStatement.rest.resource.interaction, e:CapabilityStatement.rest.resource.searchParam, e:CapabilityStatement.rest.searchParam, e:CapabilityStatement.rest.operation, e:CapabilityStatement.document, e:CapabilityStatement.rest.interaction, e:CapabilityStatement.rest.resource.searchInclude, e:CapabilityStatement.rest.resource.searchRevInclude; this element is [[CapabilityStatement.rest.resource.extension, Extension])</td><td/><td>InstanceValidator</td></tr><tr><td>ERROR</td><td>CapabilityStatement.rest[0].resource[7].extension[2] (line 1, col 114498), CapabilityStatement.rest[0].resource[7].extension[2] (line 1, col 114498)</td><td>Structural Issue</td><td>The extension http://hl7.org/fhir/StructureDefinition/capabilitystatement-expectation is not allowed to be used at this point (allowed = e:CapabilityStatement.rest.resource.interaction, e:CapabilityStatement.rest.resource.searchParam, e:CapabilityStatement.rest.searchParam, e:CapabilityStatement.rest.operation, e:CapabilityStatement.document, e:CapabilityStatement.rest.interaction, e:CapabilityStatement.rest.resource.searchInclude, e:CapabilityStatement.rest.resource.searchRevInclude; this element is [[CapabilityStatement.rest.resource.extension, Extension])</td><td/><td>InstanceValidator</td></tr><tr><td>ERROR</td><td>CapabilityStatement.rest[0].resource[7].extension[3] (line 1, col 114798), CapabilityStatement.rest[0].resource[7].extension[3] (line 1, col 114798)</td><td>Structural Issue</td><td>The extension http://hl7.org/fhir/StructureDefinition/capabilitystatement-expectation is not allowed to be used at this point (allowed = e:CapabilityStatement.rest.resource.interaction, e:CapabilityStatement.rest.resource.searchParam, e:CapabilityStatement.rest.searchParam, e:CapabilityStatement.rest.operation, e:CapabilityStatement.document, e:CapabilityStatement.rest.interaction, e:CapabilityStatement.rest.resource.searchInclude, e:CapabilityStatement.rest.resource.searchRevInclude; this element is [[CapabilityStatement.rest.resource.extension, Extension])</td><td/><td>InstanceValidator</td></tr><tr><td>ERROR</td><td>CapabilityStatement.rest[0].resource[7].extension[4] (line 1, col 115099), CapabilityStatement.rest[0].resource[7].extension[4] (line 1, col 115099)</td><td>Structural Issue</td><td>The extension http://hl7.org/fhir/StructureDefinition/capabilitystatement-expectation is not allowed to be used at this point (allowed = e:CapabilityStatement.rest.resource.interaction, e:CapabilityStatement.rest.resource.searchParam, e:CapabilityStatement.rest.searchParam, e:CapabilityStatement.rest.operation, e:CapabilityStatement.document, e:CapabilityStatement.rest.interaction, e:CapabilityStatement.rest.resource.searchInclude, e:CapabilityStatement.rest.resource.searchRevInclude; this element is [[CapabilityStatement.rest.resource.extension, Extension])</td><td/><td>InstanceValidator</td></tr><tr><td>ERROR</td><td>CapabilityStatement.rest[0].resource[8].extension[1] (line 1, col 121151), CapabilityStatement.rest[0].resource[8].extension[1] (line 1, col 121151)</td><td>Structural Issue</td><td>The extension http://hl7.org/fhir/StructureDefinition/capabilitystatement-expectation is not allowed to be used at this point (allowed = e:CapabilityStatement.rest.resource.interaction, e:CapabilityStatement.rest.resource.searchParam, e:CapabilityStatement.rest.searchParam, e:CapabilityStatement.rest.operation, e:CapabilityStatement.document, e:CapabilityStatement.rest.interaction, e:CapabilityStatement.rest.resource.searchInclude, e:CapabilityStatement.rest.resource.searchRevInclude; this element is [[CapabilityStatement.rest.resource.extension, Extension])</td><td/><td>InstanceValidator</td></tr><tr><td>ERROR</td><td>CapabilityStatement.rest[0].resource[8].extension[2] (line 1, col 121462), CapabilityStatement.rest[0].resource[8].extension[2] (line 1, col 121462)</td><td>Structural Issue</td><td>The extension http://hl7.org/fhir/StructureDefinition/capabilitystatement-expectation is not allowed to be used at this point (allowed = e:CapabilityStatement.rest.resource.interaction, e:CapabilityStatement.rest.resource.searchParam, e:CapabilityStatement.rest.searchParam, e:CapabilityStatement.rest.operation, e:CapabilityStatement.document, e:CapabilityStatement.rest.interaction, e:CapabilityStatement.rest.resource.searchInclude, e:CapabilityStatement.rest.resource.searchRevInclude; this element is [[CapabilityStatement.rest.resource.extension, Extension])</td><td/><td>InstanceValidator</td></tr><tr><td>ERROR</td><td>CapabilityStatement.rest[0].resource[9].extension[1] (line 1, col 124630), CapabilityStatement.rest[0].resource[9].extension[1] (line 1, col 124630)</td><td>Structural Issue</td><td>The extension http://hl7.org/fhir/StructureDefinition/capabilitystatement-expectation is not allowed to be used at this point (allowed = e:CapabilityStatement.rest.resource.interaction, e:CapabilityStatement.rest.resource.searchParam, e:CapabilityStatement.rest.searchParam, e:CapabilityStatement.rest.operation, e:CapabilityStatement.document, e:CapabilityStatement.rest.interaction, e:CapabilityStatement.rest.resource.searchInclude, e:CapabilityStatement.rest.resource.searchRevInclude; this element is [[CapabilityStatement.rest.resource.extension, Extension])</td><td/><td>InstanceValidator</td></tr><tr><td>ERROR</td><td>CapabilityStatement.rest[0].resource[9].extension[2] (line 1, col 124931), CapabilityStatement.rest[0].resource[9].extension[2] (line 1, col 124931)</td><td>Structural Issue</td><td>The extension http://hl7.org/fhir/StructureDefinition/capabilitystatement-expectation is not allowed to be used at this point (allowed = e:CapabilityStatement.rest.resource.interaction, e:CapabilityStatement.rest.resource.searchParam, e:CapabilityStatement.rest.searchParam, e:CapabilityStatement.rest.operation, e:CapabilityStatement.document, e:CapabilityStatement.rest.interaction, e:CapabilityStatement.rest.resource.searchInclude, e:CapabilityStatement.rest.resource.searchRevInclude; this element is [[CapabilityStatement.rest.resource.extension, Extension])</td><td/><td>InstanceValidator</td></tr><tr><td>ERROR</td><td>CapabilityStatement.rest[0].resource[12].extension[1] (line 1, col 133047), CapabilityStatement.rest[0].resource[12].extension[1] (line 1, col 133047)</td><td>Structural Issue</td><td>The extension http://hl7.org/fhir/StructureDefinition/capabilitystatement-expectation is not allowed to be used at this point (allowed = e:CapabilityStatement.rest.resource.interaction, e:CapabilityStatement.rest.resource.searchParam, e:CapabilityStatement.rest.searchParam, e:CapabilityStatement.rest.operation, e:CapabilityStatement.document, e:CapabilityStatement.rest.interaction, e:CapabilityStatement.rest.resource.searchInclude, e:CapabilityStatement.rest.resource.searchRevInclude; this element is [[CapabilityStatement.rest.resource.extension, Extension])</td><td/><td>InstanceValidator</td></tr><tr><td>ERROR</td><td>CapabilityStatement.rest[0].resource[12].extension[2] (line 1, col 133347), CapabilityStatement.rest[0].resource[12].extension[2] (line 1, col 133347)</td><td>Structural Issue</td><td>The extension http://hl7.org/fhir/StructureDefinition/capabilitystatement-expectation is not allowed to be used at this point (allowed = e:CapabilityStatement.rest.resource.interaction, e:CapabilityStatement.rest.resource.searchParam, e:CapabilityStatement.rest.searchParam, e:CapabilityStatement.rest.operation, e:CapabilityStatement.document, e:CapabilityStatement.rest.interaction, e:CapabilityStatement.rest.resource.searchInclude, e:CapabilityStatement.rest.resource.searchRevInclude; this element is [[CapabilityStatement.rest.resource.extension, Extension])</td><td/><td>InstanceValidator</td></tr><tr><td>ERROR</td><td>CapabilityStatement.rest[0].resource[12].extension[3] (line 1, col 133693), CapabilityStatement.rest[0].resource[12].extension[3] (line 1, col 133693)</td><td>Structural Issue</td><td>The extension http://hl7.org/fhir/StructureDefinition/capabilitystatement-expectation is not allowed to be used at this point (allowed = e:CapabilityStatement.rest.resource.interaction, e:CapabilityStatement.rest.resource.searchParam, e:CapabilityStatement.rest.searchParam, e:CapabilityStatement.rest.operation, e:CapabilityStatement.document, e:CapabilityStatement.rest.interaction, e:CapabilityStatement.rest.resource.searchInclude, e:CapabilityStatement.rest.resource.searchRevInclude; this element is [[CapabilityStatement.rest.resource.extension, Extension])</td><td/><td>InstanceValidator</td></tr><tr><td>ERROR</td><td>CapabilityStatement.rest[0].resource[12].extension[4] (line 1, col 134040), CapabilityStatement.rest[0].resource[12].extension[4] (line 1, col 134040)</td><td>Structural Issue</td><td>The extension http://hl7.org/fhir/StructureDefinition/capabilitystatement-expectation is not allowed to be used at this point (allowed = e:CapabilityStatement.rest.resource.interaction, e:CapabilityStatement.rest.resource.searchParam, e:CapabilityStatement.rest.searchParam, e:CapabilityStatement.rest.operation, e:CapabilityStatement.document, e:CapabilityStatement.rest.interaction, e:CapabilityStatement.rest.resource.searchInclude, e:CapabilityStatement.rest.resource.searchRevInclude; this element is [[CapabilityStatement.rest.resource.extension, Extension])</td><td/><td>InstanceValidator</td></tr><tr><td>ERROR</td><td>CapabilityStatement.rest[0].resource[13].extension[1] (line 1, col 139588), CapabilityStatement.rest[0].resource[13].extension[1] (line 1, col 139588)</td><td>Structural Issue</td><td>The extension http://hl7.org/fhir/StructureDefinition/capabilitystatement-expectation is not allowed to be used at this point (allowed = e:CapabilityStatement.rest.resource.interaction, e:CapabilityStatement.rest.resource.searchParam, e:CapabilityStatement.rest.searchParam, e:CapabilityStatement.rest.operation, e:CapabilityStatement.document, e:CapabilityStatement.rest.interaction, e:CapabilityStatement.rest.resource.searchInclude, e:CapabilityStatement.rest.resource.searchRevInclude; this element is [[CapabilityStatement.rest.resource.extension, Extension])</td><td/><td>InstanceValidator</td></tr><tr><td>ERROR</td><td>CapabilityStatement.rest[0].resource[13].extension[2] (line 1, col 139930), CapabilityStatement.rest[0].resource[13].extension[2] (line 1, col 139930)</td><td>Structural Issue</td><td>The extension http://hl7.org/fhir/StructureDefinition/capabilitystatement-expectation is not allowed to be used at this point (allowed = e:CapabilityStatement.rest.resource.interaction, e:CapabilityStatement.rest.resource.searchParam, e:CapabilityStatement.rest.searchParam, e:CapabilityStatement.rest.operation, e:CapabilityStatement.document, e:CapabilityStatement.rest.interaction, e:CapabilityStatement.rest.resource.searchInclude, e:CapabilityStatement.rest.resource.searchRevInclude; this element is [[CapabilityStatement.rest.resource.extension, Extension])</td><td/><td>InstanceValidator</td></tr><tr><td>ERROR</td><td>CapabilityStatement.rest[0].resource[13].extension[3] (line 1, col 140269), CapabilityStatement.rest[0].resource[13].extension[3] (line 1, col 140269)</td><td>Structural Issue</td><td>The extension http://hl7.org/fhir/StructureDefinition/capabilitystatement-expectation is not allowed to be used at this point (allowed = e:CapabilityStatement.rest.resource.interaction, e:CapabilityStatement.rest.resource.searchParam, e:CapabilityStatement.rest.searchParam, e:CapabilityStatement.rest.operation, e:CapabilityStatement.document, e:CapabilityStatement.rest.interaction, e:CapabilityStatement.rest.resource.searchInclude, e:CapabilityStatement.rest.resource.searchRevInclude; this element is [[CapabilityStatement.rest.resource.extension, Extension])</td><td/><td>InstanceValidator</td></tr><tr><td>ERROR</td><td>CapabilityStatement.rest[0].resource[13].extension[4] (line 1, col 140567), CapabilityStatement.rest[0].resource[13].extension[4] (line 1, col 140567)</td><td>Structural Issue</td><td>The extension http://hl7.org/fhir/StructureDefinition/capabilitystatement-expectation is not allowed to be used at this point (allowed = e:CapabilityStatement.rest.resource.interaction, e:CapabilityStatement.rest.resource.searchParam, e:CapabilityStatement.rest.searchParam, e:CapabilityStatement.rest.operation, e:CapabilityStatement.document, e:CapabilityStatement.rest.interaction, e:CapabilityStatement.rest.resource.searchInclude, e:CapabilityStatement.rest.resource.searchRevInclude; this element is [[CapabilityStatement.rest.resource.extension, Extension])</td><td/><td>InstanceValidator</td></tr><tr><td>ERROR</td><td>CapabilityStatement.rest[0].resource[13].extension[5] (line 1, col 140869), CapabilityStatement.rest[0].resource[13].extension[5] (line 1, col 140869)</td><td>Structural Issue</td><td>The extension http://hl7.org/fhir/StructureDefinition/capabilitystatement-expectation is not allowed to be used at this point (allowed = e:CapabilityStatement.rest.resource.interaction, e:CapabilityStatement.rest.resource.searchParam, e:CapabilityStatement.rest.searchParam, e:CapabilityStatement.rest.operation, e:CapabilityStatement.document, e:CapabilityStatement.rest.interaction, e:CapabilityStatement.rest.resource.searchInclude, e:CapabilityStatement.rest.resource.searchRevInclude; this element is [[CapabilityStatement.rest.resource.extension, Extension])</td><td/><td>InstanceValidator</td></tr><tr><td>ERROR</td><td>CapabilityStatement.rest[0].resource[15].extension[1] (line 1, col 148319), CapabilityStatement.rest[0].resource[15].extension[1] (line 1, col 148319)</td><td>Structural Issue</td><td>The extension http://hl7.org/fhir/StructureDefinition/capabilitystatement-expectation is not allowed to be used at this point (allowed = e:CapabilityStatement.rest.resource.interaction, e:CapabilityStatement.rest.resource.searchParam, e:CapabilityStatement.rest.searchParam, e:CapabilityStatement.rest.operation, e:CapabilityStatement.document, e:CapabilityStatement.rest.interaction, e:CapabilityStatement.rest.resource.searchInclude, e:CapabilityStatement.rest.resource.searchRevInclude; this element is [[CapabilityStatement.rest.resource.extension, Extension])</td><td/><td>InstanceValidator</td></tr><tr><td>ERROR</td><td>CapabilityStatement.rest[0].resource[15].extension[2] (line 1, col 148619), CapabilityStatement.rest[0].resource[15].extension[2] (line 1, col 148619)</td><td>Structural Issue</td><td>The extension http://hl7.org/fhir/StructureDefinition/capabilitystatement-expectation is not allowed to be used at this point (allowed = e:CapabilityStatement.rest.resource.interaction, e:CapabilityStatement.rest.resource.searchParam, e:CapabilityStatement.rest.searchParam, e:CapabilityStatement.rest.operation, e:CapabilityStatement.document, e:CapabilityStatement.rest.interaction, e:CapabilityStatement.rest.resource.searchInclude, e:CapabilityStatement.rest.resource.searchRevInclude; this element is [[CapabilityStatement.rest.resource.extension, Extension])</td><td/><td>InstanceValidator</td></tr><tr><td>ERROR</td><td>CapabilityStatement.rest[0].resource[15].extension[3] (line 1, col 148916), CapabilityStatement.rest[0].resource[15].extension[3] (line 1, col 148916)</td><td>Structural Issue</td><td>The extension http://hl7.org/fhir/StructureDefinition/capabilitystatement-expectation is not allowed to be used at this point (allowed = e:CapabilityStatement.rest.resource.interaction, e:CapabilityStatement.rest.resource.searchParam, e:CapabilityStatement.rest.searchParam, e:CapabilityStatement.rest.operation, e:CapabilityStatement.document, e:CapabilityStatement.rest.interaction, e:CapabilityStatement.rest.resource.searchInclude, e:CapabilityStatement.rest.resource.searchRevInclude; this element is [[CapabilityStatement.rest.resource.extension, Extension])</td><td/><td>InstanceValidator</td></tr><tr><td>ERROR</td><td>CapabilityStatement.rest[0].resource[15].extension[4] (line 1, col 149219), CapabilityStatement.rest[0].resource[15].extension[4] (line 1, col 149219)</td><td>Structural Issue</td><td>The extension http://hl7.org/fhir/StructureDefinition/capabilitystatement-expectation is not allowed to be used at this point (allowed = e:CapabilityStatement.rest.resource.interaction, e:CapabilityStatement.rest.resource.searchParam, e:CapabilityStatement.rest.searchParam, e:CapabilityStatement.rest.operation, e:CapabilityStatement.document, e:CapabilityStatement.rest.interaction, e:CapabilityStatement.rest.resource.searchInclude, e:CapabilityStatement.rest.resource.searchRevInclude; this element is [[CapabilityStatement.rest.resource.extension, Extension])</td><td/><td>InstanceValidator</td></tr><tr><td>ERROR</td><td>CapabilityStatement.rest[0].resource[18].extension[1] (line 1, col 159029), CapabilityStatement.rest[0].resource[18].extension[1] (line 1, col 159029)</td><td>Structural Issue</td><td>The extension http://hl7.org/fhir/StructureDefinition/capabilitystatement-expectation is not allowed to be used at this point (allowed = e:CapabilityStatement.rest.resource.interaction, e:CapabilityStatement.rest.resource.searchParam, e:CapabilityStatement.rest.searchParam, e:CapabilityStatement.rest.operation, e:CapabilityStatement.document, e:CapabilityStatement.rest.interaction, e:CapabilityStatement.rest.resource.searchInclude, e:CapabilityStatement.rest.resource.searchRevInclude; this element is [[CapabilityStatement.rest.resource.extension, Extension])</td><td/><td>InstanceValidator</td></tr><tr><td>ERROR</td><td>CapabilityStatement.rest[0].resource[18].extension[2] (line 1, col 159330), CapabilityStatement.rest[0].resource[18].extension[2] (line 1, col 159330)</td><td>Structural Issue</td><td>The extension http://hl7.org/fhir/StructureDefinition/capabilitystatement-expectation is not allowed to be used at this point (allowed = e:CapabilityStatement.rest.resource.interaction, e:CapabilityStatement.rest.resource.searchParam, e:CapabilityStatement.rest.searchParam, e:CapabilityStatement.rest.operation, e:CapabilityStatement.document, e:CapabilityStatement.rest.interaction, e:CapabilityStatement.rest.resource.searchInclude, e:CapabilityStatement.rest.resource.searchRevInclude; this element is [[CapabilityStatement.rest.resource.extension, Extension])</td><td/><td>InstanceValidator</td></tr><tr><td>ERROR</td><td>CapabilityStatement.rest[0].resource[18].extension[3] (line 1, col 159628), CapabilityStatement.rest[0].resource[18].extension[3] (line 1, col 159628)</td><td>Structural Issue</td><td>The extension http://hl7.org/fhir/StructureDefinition/capabilitystatement-expectation is not allowed to be used at this point (allowed = e:CapabilityStatement.rest.resource.interaction, e:CapabilityStatement.rest.resource.searchParam, e:CapabilityStatement.rest.searchParam, e:CapabilityStatement.rest.operation, e:CapabilityStatement.document, e:CapabilityStatement.rest.interaction, e:CapabilityStatement.rest.resource.searchInclude, e:CapabilityStatement.rest.resource.searchRevInclude; this element is [[CapabilityStatement.rest.resource.extension, Extension])</td><td/><td>InstanceValidator</td></tr><tr><td>ERROR</td><td>CapabilityStatement.rest[0].resource[6].operation[0] (line 1, col 113190), CapabilityStatement.rest[0].resource[6].operation[0] (line 1, col 113190)</td><td>Structural Issue</td><td>The extension http://hl7.org/fhir/StructureDefinition/capabilitystatement-expectation is not allowed to be used at this point (allowed = e:CapabilityStatement.rest.resource.interaction, e:CapabilityStatement.rest.resource.searchParam, e:CapabilityStatement.rest.searchParam, e:CapabilityStatement.rest.operation, e:CapabilityStatement.document, e:CapabilityStatement.rest.interaction, e:CapabilityStatement.rest.resource.searchInclude, e:CapabilityStatement.rest.resource.searchRevInclude; this element is [[CapabilityStatement.rest.resource.operation])</td><td/><td>InstanceValidator</td></tr><tr><td>ERROR</td><td>CapabilityStatement.rest[0].resource[20].operation[0] (line 1, col 165367), CapabilityStatement.rest[0].resource[20].operation[0] (line 1, col 165367)</td><td>Structural Issue</td><td>The extension http://hl7.org/fhir/StructureDefinition/capabilitystatement-expectation is not allowed to be used at this point (allowed = e:CapabilityStatement.rest.resource.interaction, e:CapabilityStatement.rest.resource.searchParam, e:CapabilityStatement.rest.searchParam, e:CapabilityStatement.rest.operation, e:CapabilityStatement.document, e:CapabilityStatement.rest.interaction, e:CapabilityStatement.rest.resource.searchInclude, e:CapabilityStatement.rest.resource.searchRevInclude; this element is [[CapabilityStatement.rest.resource.operation])</td><td/><td>InstanceValidator</td></tr><tr><td>ERROR</td><td>CapabilityStatement.rest[0].resource[0] (line 1, col 81406), CapabilityStatement.rest[0].resource[0] (line 1, col 81406)</td><td>Structural Issue</td><td>The extension http://hl7.org/fhir/StructureDefinition/capabilitystatement-expectation is not allowed to be used at this point (allowed = e:CapabilityStatement.rest.resource.interaction, e:CapabilityStatement.rest.resource.searchParam, e:CapabilityStatement.rest.searchParam, e:CapabilityStatement.rest.operation, e:CapabilityStatement.document, e:CapabilityStatement.rest.interaction, e:CapabilityStatement.rest.resource.searchInclude, e:CapabilityStatement.rest.resource.searchRevInclude; this element is [[CapabilityStatement.rest.resource])</td><td/><td>InstanceValidator</td></tr><tr><td>ERROR</td><td>CapabilityStatement.rest[0].resource[1] (line 1, col 84254), CapabilityStatement.rest[0].resource[1] (line 1, col 84254)</td><td>Structural Issue</td><td>The extension http://hl7.org/fhir/StructureDefinition/capabilitystatement-expectation is not allowed to be used at this point (allowed = e:CapabilityStatement.rest.resource.interaction, e:CapabilityStatement.rest.resource.searchParam, e:CapabilityStatement.rest.searchParam, e:CapabilityStatement.rest.operation, e:CapabilityStatement.document, e:CapabilityStatement.rest.interaction, e:CapabilityStatement.rest.resource.searchInclude, e:CapabilityStatement.rest.resource.searchRevInclude; this element is [[CapabilityStatement.rest.resource])</td><td/><td>InstanceValidator</td></tr><tr><td>ERROR</td><td>CapabilityStatement.rest[0].resource[2] (line 1, col 89282), CapabilityStatement.rest[0].resource[2] (line 1, col 89282)</td><td>Structural Issue</td><td>The extension http://hl7.org/fhir/StructureDefinition/capabilitystatement-expectation is not allowed to be used at this point (allowed = e:CapabilityStatement.rest.resource.interaction, e:CapabilityStatement.rest.resource.searchParam, e:CapabilityStatement.rest.searchParam, e:CapabilityStatement.rest.operation, e:CapabilityStatement.document, e:CapabilityStatement.rest.interaction, e:CapabilityStatement.rest.resource.searchInclude, e:CapabilityStatement.rest.resource.searchRevInclude; this element is [[CapabilityStatement.rest.resource])</td><td/><td>InstanceValidator</td></tr><tr><td>ERROR</td><td>CapabilityStatement.rest[0].resource[3] (line 1, col 92060), CapabilityStatement.rest[0].resource[3] (line 1, col 92060)</td><td>Structural Issue</td><td>The extension http://hl7.org/fhir/StructureDefinition/capabilitystatement-expectation is not allowed to be used at this point (allowed = e:CapabilityStatement.rest.resource.interaction, e:CapabilityStatement.rest.resource.searchParam, e:CapabilityStatement.rest.searchParam, e:CapabilityStatement.rest.operation, e:CapabilityStatement.document, e:CapabilityStatement.rest.interaction, e:CapabilityStatement.rest.resource.searchInclude, e:CapabilityStatement.rest.resource.searchRevInclude; this element is [[CapabilityStatement.rest.resource])</td><td/><td>InstanceValidator</td></tr><tr><td>ERROR</td><td>CapabilityStatement.rest[0].resource[4] (line 1, col 96968), CapabilityStatement.rest[0].resource[4] (line 1, col 96968)</td><td>Structural Issue</td><td>The extension http://hl7.org/fhir/StructureDefinition/capabilitystatement-expectation is not allowed to be used at this point (allowed = e:CapabilityStatement.rest.resource.interaction, e:CapabilityStatement.rest.resource.searchParam, e:CapabilityStatement.rest.searchParam, e:CapabilityStatement.rest.operation, e:CapabilityStatement.document, e:CapabilityStatement.rest.interaction, e:CapabilityStatement.rest.resource.searchInclude, e:CapabilityStatement.rest.resource.searchRevInclude; this element is [[CapabilityStatement.rest.resource])</td><td/><td>InstanceValidator</td></tr><tr><td>ERROR</td><td>CapabilityStatement.rest[0].resource[5] (line 1, col 101388), CapabilityStatement.rest[0].resource[5] (line 1, col 101388)</td><td>Structural Issue</td><td>The extension http://hl7.org/fhir/StructureDefinition/capabilitystatement-expectation is not allowed to be used at this point (allowed = e:CapabilityStatement.rest.resource.interaction, e:CapabilityStatement.rest.resource.searchParam, e:CapabilityStatement.rest.searchParam, e:CapabilityStatement.rest.operation, e:CapabilityStatement.document, e:CapabilityStatement.rest.interaction, e:CapabilityStatement.rest.resource.searchInclude, e:CapabilityStatement.rest.resource.searchRevInclude; this element is [[CapabilityStatement.rest.resource])</td><td/><td>InstanceValidator</td></tr><tr><td>ERROR</td><td>CapabilityStatement.rest[0].resource[6] (line 1, col 107029), CapabilityStatement.rest[0].resource[6] (line 1, col 107029)</td><td>Structural Issue</td><td>The extension http://hl7.org/fhir/StructureDefinition/capabilitystatement-expectation is not allowed to be used at this point (allowed = e:CapabilityStatement.rest.resource.interaction, e:CapabilityStatement.rest.resource.searchParam, e:CapabilityStatement.rest.searchParam, e:CapabilityStatement.rest.operation, e:CapabilityStatement.document, e:CapabilityStatement.rest.interaction, e:CapabilityStatement.rest.resource.searchInclude, e:CapabilityStatement.rest.resource.searchRevInclude; this element is [[CapabilityStatement.rest.resource])</td><td/><td>InstanceValidator</td></tr><tr><td>ERROR</td><td>CapabilityStatement.rest[0].resource[7] (line 1, col 114083), CapabilityStatement.rest[0].resource[7] (line 1, col 114083)</td><td>Structural Issue</td><td>The extension http://hl7.org/fhir/StructureDefinition/capabilitystatement-expectation is not allowed to be used at this point (allowed = e:CapabilityStatement.rest.resource.interaction, e:CapabilityStatement.rest.resource.searchParam, e:CapabilityStatement.rest.searchParam, e:CapabilityStatement.rest.operation, e:CapabilityStatement.document, e:CapabilityStatement.rest.interaction, e:CapabilityStatement.rest.resource.searchInclude, e:CapabilityStatement.rest.resource.searchRevInclude; this element is [[CapabilityStatement.rest.resource])</td><td/><td>InstanceValidator</td></tr><tr><td>ERROR</td><td>CapabilityStatement.rest[0].resource[8] (line 1, col 121035), CapabilityStatement.rest[0].resource[8] (line 1, col 121035)</td><td>Structural Issue</td><td>The extension http://hl7.org/fhir/StructureDefinition/capabilitystatement-expectation is not allowed to be used at this point (allowed = e:CapabilityStatement.rest.resource.interaction, e:CapabilityStatement.rest.resource.searchParam, e:CapabilityStatement.rest.searchParam, e:CapabilityStatement.rest.operation, e:CapabilityStatement.document, e:CapabilityStatement.rest.interaction, e:CapabilityStatement.rest.resource.searchInclude, e:CapabilityStatement.rest.resource.searchRevInclude; this element is [[CapabilityStatement.rest.resource])</td><td/><td>InstanceValidator</td></tr><tr><td>ERROR</td><td>CapabilityStatement.rest[0].resource[9] (line 1, col 124514), CapabilityStatement.rest[0].resource[9] (line 1, col 124514)</td><td>Structural Issue</td><td>The extension http://hl7.org/fhir/StructureDefinition/capabilitystatement-expectation is not allowed to be used at this point (allowed = e:CapabilityStatement.rest.resource.interaction, e:CapabilityStatement.rest.resource.searchParam, e:CapabilityStatement.rest.searchParam, e:CapabilityStatement.rest.operation, e:CapabilityStatement.document, e:CapabilityStatement.rest.interaction, e:CapabilityStatement.rest.resource.searchInclude, e:CapabilityStatement.rest.resource.searchRevInclude; this element is [[CapabilityStatement.rest.resource])</td><td/><td>InstanceValidator</td></tr><tr><td>ERROR</td><td>CapabilityStatement.rest[0].resource[10] (line 1, col 128214), CapabilityStatement.rest[0].resource[10] (line 1, col 128214)</td><td>Structural Issue</td><td>The extension http://hl7.org/fhir/StructureDefinition/capabilitystatement-expectation is not allowed to be used at this point (allowed = e:CapabilityStatement.rest.resource.interaction, e:CapabilityStatement.rest.resource.searchParam, e:CapabilityStatement.rest.searchParam, e:CapabilityStatement.rest.operation, e:CapabilityStatement.document, e:CapabilityStatement.rest.interaction, e:CapabilityStatement.rest.resource.searchInclude, e:CapabilityStatement.rest.resource.searchRevInclude; this element is [[CapabilityStatement.rest.resource])</td><td/><td>InstanceValidator</td></tr><tr><td>ERROR</td><td>CapabilityStatement.rest[0].resource[11] (line 1, col 131170), CapabilityStatement.rest[0].resource[11] (line 1, col 131170)</td><td>Structural Issue</td><td>The extension http://hl7.org/fhir/StructureDefinition/capabilitystatement-expectation is not allowed to be used at this point (allowed = e:CapabilityStatement.rest.resource.interaction, e:CapabilityStatement.rest.resource.searchParam, e:CapabilityStatement.rest.searchParam, e:CapabilityStatement.rest.operation, e:CapabilityStatement.document, e:CapabilityStatement.rest.interaction, e:CapabilityStatement.rest.resource.searchInclude, e:CapabilityStatement.rest.resource.searchRevInclude; this element is [[CapabilityStatement.rest.resource])</td><td/><td>InstanceValidator</td></tr><tr><td>ERROR</td><td>CapabilityStatement.rest[0].resource[12] (line 1, col 132931), CapabilityStatement.rest[0].resource[12] (line 1, col 132931)</td><td>Structural Issue</td><td>The extension http://hl7.org/fhir/StructureDefinition/capabilitystatement-expectation is not allowed to be used at this point (allowed = e:CapabilityStatement.rest.resource.interaction, e:CapabilityStatement.rest.resource.searchParam, e:CapabilityStatement.rest.searchParam, e:CapabilityStatement.rest.operation, e:CapabilityStatement.document, e:CapabilityStatement.rest.interaction, e:CapabilityStatement.rest.resource.searchInclude, e:CapabilityStatement.rest.resource.searchRevInclude; this element is [[CapabilityStatement.rest.resource])</td><td/><td>InstanceValidator</td></tr><tr><td>ERROR</td><td>CapabilityStatement.rest[0].resource[13] (line 1, col 139472), CapabilityStatement.rest[0].resource[13] (line 1, col 139472)</td><td>Structural Issue</td><td>The extension http://hl7.org/fhir/StructureDefinition/capabilitystatement-expectation is not allowed to be used at this point (allowed = e:CapabilityStatement.rest.resource.interaction, e:CapabilityStatement.rest.resource.searchParam, e:CapabilityStatement.rest.searchParam, e:CapabilityStatement.rest.operation, e:CapabilityStatement.document, e:CapabilityStatement.rest.interaction, e:CapabilityStatement.rest.resource.searchInclude, e:CapabilityStatement.rest.resource.searchRevInclude; this element is [[CapabilityStatement.rest.resource])</td><td/><td>InstanceValidator</td></tr><tr><td>ERROR</td><td>CapabilityStatement.rest[0].resource[14] (line 1, col 146206), CapabilityStatement.rest[0].resource[14] (line 1, col 146206)</td><td>Structural Issue</td><td>The extension http://hl7.org/fhir/StructureDefinition/capabilitystatement-expectation is not allowed to be used at this point (allowed = e:CapabilityStatement.rest.resource.interaction, e:CapabilityStatement.rest.resource.searchParam, e:CapabilityStatement.rest.searchParam, e:CapabilityStatement.rest.operation, e:CapabilityStatement.document, e:CapabilityStatement.rest.interaction, e:CapabilityStatement.rest.resource.searchInclude, e:CapabilityStatement.rest.resource.searchRevInclude; this element is [[CapabilityStatement.rest.resource])</td><td/><td>InstanceValidator</td></tr><tr><td>ERROR</td><td>CapabilityStatement.rest[0].resource[15] (line 1, col 148203), CapabilityStatement.rest[0].resource[15] (line 1, col 148203)</td><td>Structural Issue</td><td>The extension http://hl7.org/fhir/StructureDefinition/capabilitystatement-expectation is not allowed to be used at this point (allowed = e:CapabilityStatement.rest.resource.interaction, e:CapabilityStatement.rest.resource.searchParam, e:CapabilityStatement.rest.searchParam, e:CapabilityStatement.rest.operation, e:CapabilityStatement.document, e:CapabilityStatement.rest.interaction, e:CapabilityStatement.rest.resource.searchInclude, e:CapabilityStatement.rest.resource.searchRevInclude; this element is [[CapabilityStatement.rest.resource])</td><td/><td>InstanceValidator</td></tr><tr><td>ERROR</td><td>CapabilityStatement.rest[0].resource[16] (line 1, col 153844), CapabilityStatement.rest[0].resource[16] (line 1, col 153844)</td><td>Structural Issue</td><td>The extension http://hl7.org/fhir/StructureDefinition/capabilitystatement-expectation is not allowed to be used at this point (allowed = e:CapabilityStatement.rest.resource.interaction, e:CapabilityStatement.rest.resource.searchParam, e:CapabilityStatement.rest.searchParam, e:CapabilityStatement.rest.operation, e:CapabilityStatement.document, e:CapabilityStatement.rest.interaction, e:CapabilityStatement.rest.resource.searchInclude, e:CapabilityStatement.rest.resource.searchRevInclude; this element is [[CapabilityStatement.rest.resource])</td><td/><td>InstanceValidator</td></tr><tr><td>ERROR</td><td>CapabilityStatement.rest[0].resource[17] (line 1, col 156006), CapabilityStatement.rest[0].resource[17] (line 1, col 156006)</td><td>Structural Issue</td><td>The extension http://hl7.org/fhir/StructureDefinition/capabilitystatement-expectation is not allowed to be used at this point (allowed = e:CapabilityStatement.rest.resource.interaction, e:CapabilityStatement.rest.resource.searchParam, e:CapabilityStatement.rest.searchParam, e:CapabilityStatement.rest.operation, e:CapabilityStatement.document, e:CapabilityStatement.rest.interaction, e:CapabilityStatement.rest.resource.searchInclude, e:CapabilityStatement.rest.resource.searchRevInclude; this element is [[CapabilityStatement.rest.resource])</td><td/><td>InstanceValidator</td></tr><tr><td>ERROR</td><td>CapabilityStatement.rest[0].resource[18] (line 1, col 158913), CapabilityStatement.rest[0].resource[18] (line 1, col 158913)</td><td>Structural Issue</td><td>The extension http://hl7.org/fhir/StructureDefinition/capabilitystatement-expectation is not allowed to be used at this point (allowed = e:CapabilityStatement.rest.resource.interaction, e:CapabilityStatement.rest.resource.searchParam, e:CapabilityStatement.rest.searchParam, e:CapabilityStatement.rest.operation, e:CapabilityStatement.document, e:CapabilityStatement.rest.interaction, e:CapabilityStatement.rest.resource.searchInclude, e:CapabilityStatement.rest.resource.searchRevInclude; this element is [[CapabilityStatement.rest.resource])</td><td/><td>InstanceValidator</td></tr><tr><td>ERROR</td><td>CapabilityStatement.rest[0].resource[19] (line 1, col 163283), CapabilityStatement.rest[0].resource[19] (line 1, col 163283)</td><td>Structural Issue</td><td>The extension http://hl7.org/fhir/StructureDefinition/capabilitystatement-expectation is not allowed to be used at this point (allowed = e:CapabilityStatement.rest.resource.interaction, e:CapabilityStatement.rest.resource.searchParam, e:CapabilityStatement.rest.searchParam, e:CapabilityStatement.rest.operation, e:CapabilityStatement.document, e:CapabilityStatement.rest.interaction, e:CapabilityStatement.rest.resource.searchInclude, e:CapabilityStatement.rest.resource.searchRevInclude; this element is [[CapabilityStatement.rest.resource])</td><td/><td>InstanceValidator</td></tr><tr><td>ERROR</td><td>CapabilityStatement.rest[0].resource[20] (line 1, col 165162), CapabilityStatement.rest[0].resource[20] (line 1, col 165162)</td><td>Structural Issue</td><td>The extension http://hl7.org/fhir/StructureDefinition/capabilitystatement-expectation is not allowed to be used at this point (allowed = e:CapabilityStatement.rest.resource.interaction, e:CapabilityStatement.rest.resource.searchParam, e:CapabilityStatement.rest.searchParam, e:CapabilityStatement.rest.operation, e:CapabilityStatement.document, e:CapabilityStatement.rest.interaction, e:CapabilityStatement.rest.resource.searchInclude, e:CapabilityStatement.rest.resource.searchRevInclude; this element is [[CapabilityStatement.rest.resource])</td><td/><td>InstanceValidator</td></tr><tr><td>ERROR</td><td>CapabilityStatement.instantiates[1], CapabilityStatement.instantiates[1]</td><td>Validation rule failed</td><td>All FHIR elements must have a @value or children [hasValue() or (children().count() &gt; id.count())]</td><td/><td>InstanceValidator</td></tr><tr><td>ERROR</td><td>CapabilityStatement.imports[1], CapabilityStatement.imports[1]</td><td>Validation rule failed</td><td>All FHIR elements must have a @value or children [hasValue() or (children().count() &gt; id.count())]</td><td/><td>InstanceValidator</td></tr><tr><td>INFORMATION</td><td>CapabilityStatement.rest[0].resource[0].extension[1].extension[0] (line 1, col 81522), CapabilityStatement.rest[0].resource[0].extension[1].extension[0] (line 1, col 81522)</td><td>Structural Issue</td><td>This element does not match any known slice for the profile http://hl7.org/fhir/StructureDefinition/capabilitystatement-search-parameter-combination</td><td/><td>InstanceValidator</td></tr><tr><td>INFORMATION</td><td>CapabilityStatement.rest[0].resource[1].extension[1].extension[0] (line 1, col 84370), CapabilityStatement.rest[0].resource[1].extension[1].extension[0] (line 1, col 84370)</td><td>Structural Issue</td><td>This element does not match any known slice for the profile http://hl7.org/fhir/StructureDefinition/capabilitystatement-search-parameter-combination</td><td/><td>InstanceValidator</td></tr><tr><td>INFORMATION</td><td>CapabilityStatement.rest[0].resource[1].extension[2].extension[0] (line 1, col 84672), CapabilityStatement.rest[0].resource[1].extension[2].extension[0] (line 1, col 84672)</td><td>Structural Issue</td><td>This element does not match any known slice for the profile http://hl7.org/fhir/StructureDefinition/capabilitystatement-search-parameter-combination</td><td/><td>InstanceValidator</td></tr><tr><td>INFORMATION</td><td>CapabilityStatement.rest[0].resource[1].extension[3].extension[0] (line 1, col 85015), CapabilityStatement.rest[0].resource[1].extension[3].extension[0] (line 1, col 85015)</td><td>Structural Issue</td><td>This element does not match any known slice for the profile http://hl7.org/fhir/StructureDefinition/capabilitystatement-search-parameter-combination</td><td/><td>InstanceValidator</td></tr><tr><td>INFORMATION</td><td>CapabilityStatement.rest[0].resource[1].extension[4].extension[0] (line 1, col 85360), CapabilityStatement.rest[0].resource[1].extension[4].extension[0] (line 1, col 85360)</td><td>Structural Issue</td><td>This element does not match any known slice for the profile http://hl7.org/fhir/StructureDefinition/capabilitystatement-search-parameter-combination</td><td/><td>InstanceValidator</td></tr><tr><td>INFORMATION</td><td>CapabilityStatement.rest[0].resource[2].extension[1].extension[0] (line 1, col 89398), CapabilityStatement.rest[0].resource[2].extension[1].extension[0] (line 1, col 89398)</td><td>Structural Issue</td><td>This element does not match any known slice for the profile http://hl7.org/fhir/StructureDefinition/capabilitystatement-search-parameter-combination</td><td/><td>InstanceValidator</td></tr><tr><td>INFORMATION</td><td>CapabilityStatement.rest[0].resource[3].extension[1].extension[0] (line 1, col 92176), CapabilityStatement.rest[0].resource[3].extension[1].extension[0] (line 1, col 92176)</td><td>Structural Issue</td><td>This element does not match any known slice for the profile http://hl7.org/fhir/StructureDefinition/capabilitystatement-search-parameter-combination</td><td/><td>InstanceValidator</td></tr><tr><td>INFORMATION</td><td>CapabilityStatement.rest[0].resource[3].extension[2].extension[0] (line 1, col 92479), CapabilityStatement.rest[0].resource[3].extension[2].extension[0] (line 1, col 92479)</td><td>Structural Issue</td><td>This element does not match any known slice for the profile http://hl7.org/fhir/StructureDefinition/capabilitystatement-search-parameter-combination</td><td/><td>InstanceValidator</td></tr><tr><td>INFORMATION</td><td>CapabilityStatement.rest[0].resource[3].extension[3].extension[0] (line 1, col 92778), CapabilityStatement.rest[0].resource[3].extension[3].extension[0] (line 1, col 92778)</td><td>Structural Issue</td><td>This element does not match any known slice for the profile http://hl7.org/fhir/StructureDefinition/capabilitystatement-search-parameter-combination</td><td/><td>InstanceValidator</td></tr><tr><td>INFORMATION</td><td>CapabilityStatement.rest[0].resource[3].extension[4].extension[0] (line 1, col 93088), CapabilityStatement.rest[0].resource[3].extension[4].extension[0] (line 1, col 93088)</td><td>Structural Issue</td><td>This element does not match any known slice for the profile http://hl7.org/fhir/StructureDefinition/capabilitystatement-search-parameter-combination</td><td/><td>InstanceValidator</td></tr><tr><td>INFORMATION</td><td>CapabilityStatement.rest[0].resource[4].extension[1].extension[0] (line 1, col 97084), CapabilityStatement.rest[0].resource[4].extension[1].extension[0] (line 1, col 97084)</td><td>Structural Issue</td><td>This element does not match any known slice for the profile http://hl7.org/fhir/StructureDefinition/capabilitystatement-search-parameter-combination</td><td/><td>InstanceValidator</td></tr><tr><td>INFORMATION</td><td>CapabilityStatement.rest[0].resource[5].extension[1].extension[0] (line 1, col 101504), CapabilityStatement.rest[0].resource[5].extension[1].extension[0] (line 1, col 101504)</td><td>Structural Issue</td><td>This element does not match any known slice for the profile http://hl7.org/fhir/StructureDefinition/capabilitystatement-search-parameter-combination</td><td/><td>InstanceValidator</td></tr><tr><td>INFORMATION</td><td>CapabilityStatement.rest[0].resource[5].extension[2].extension[0] (line 1, col 101846), CapabilityStatement.rest[0].resource[5].extension[2].extension[0] (line 1, col 101846)</td><td>Structural Issue</td><td>This element does not match any known slice for the profile http://hl7.org/fhir/StructureDefinition/capabilitystatement-search-parameter-combination</td><td/><td>InstanceValidator</td></tr><tr><td>INFORMATION</td><td>CapabilityStatement.rest[0].resource[5].extension[3].extension[0] (line 1, col 102185), CapabilityStatement.rest[0].resource[5].extension[3].extension[0] (line 1, col 102185)</td><td>Structural Issue</td><td>This element does not match any known slice for the profile http://hl7.org/fhir/StructureDefinition/capabilitystatement-search-parameter-combination</td><td/><td>InstanceValidator</td></tr><tr><td>INFORMATION</td><td>CapabilityStatement.rest[0].resource[5].extension[4].extension[0] (line 1, col 102487), CapabilityStatement.rest[0].resource[5].extension[4].extension[0] (line 1, col 102487)</td><td>Structural Issue</td><td>This element does not match any known slice for the profile http://hl7.org/fhir/StructureDefinition/capabilitystatement-search-parameter-combination</td><td/><td>InstanceValidator</td></tr><tr><td>INFORMATION</td><td>CapabilityStatement.rest[0].resource[5].extension[5].extension[0] (line 1, col 102785), CapabilityStatement.rest[0].resource[5].extension[5].extension[0] (line 1, col 102785)</td><td>Structural Issue</td><td>This element does not match any known slice for the profile http://hl7.org/fhir/StructureDefinition/capabilitystatement-search-parameter-combination</td><td/><td>InstanceValidator</td></tr><tr><td>INFORMATION</td><td>CapabilityStatement.rest[0].resource[6].extension[1].extension[0] (line 1, col 107145), CapabilityStatement.rest[0].resource[6].extension[1].extension[0] (line 1, col 107145)</td><td>Structural Issue</td><td>This element does not match any known slice for the profile http://hl7.org/fhir/StructureDefinition/capabilitystatement-search-parameter-combination</td><td/><td>InstanceValidator</td></tr><tr><td>INFORMATION</td><td>CapabilityStatement.rest[0].resource[6].extension[2].extension[0] (line 1, col 107487), CapabilityStatement.rest[0].resource[6].extension[2].extension[0] (line 1, col 107487)</td><td>Structural Issue</td><td>This element does not match any known slice for the profile http://hl7.org/fhir/StructureDefinition/capabilitystatement-search-parameter-combination</td><td/><td>InstanceValidator</td></tr><tr><td>INFORMATION</td><td>CapabilityStatement.rest[0].resource[6].extension[3].extension[0] (line 1, col 107789), CapabilityStatement.rest[0].resource[6].extension[3].extension[0] (line 1, col 107789)</td><td>Structural Issue</td><td>This element does not match any known slice for the profile http://hl7.org/fhir/StructureDefinition/capabilitystatement-search-parameter-combination</td><td/><td>InstanceValidator</td></tr><tr><td>INFORMATION</td><td>CapabilityStatement.rest[0].resource[6].extension[4].extension[0] (line 1, col 108090), CapabilityStatement.rest[0].resource[6].extension[4].extension[0] (line 1, col 108090)</td><td>Structural Issue</td><td>This element does not match any known slice for the profile http://hl7.org/fhir/StructureDefinition/capabilitystatement-search-parameter-combination</td><td/><td>InstanceValidator</td></tr><tr><td>INFORMATION</td><td>CapabilityStatement.rest[0].resource[6].extension[5].extension[0] (line 1, col 108388), CapabilityStatement.rest[0].resource[6].extension[5].extension[0] (line 1, col 108388)</td><td>Structural Issue</td><td>This element does not match any known slice for the profile http://hl7.org/fhir/StructureDefinition/capabilitystatement-search-parameter-combination</td><td/><td>InstanceValidator</td></tr><tr><td>INFORMATION</td><td>CapabilityStatement.rest[0].resource[7].extension[1].extension[0] (line 1, col 114199), CapabilityStatement.rest[0].resource[7].extension[1].extension[0] (line 1, col 114199)</td><td>Structural Issue</td><td>This element does not match any known slice for the profile http://hl7.org/fhir/StructureDefinition/capabilitystatement-search-parameter-combination</td><td/><td>InstanceValidator</td></tr><tr><td>INFORMATION</td><td>CapabilityStatement.rest[0].resource[7].extension[2].extension[0] (line 1, col 114498), CapabilityStatement.rest[0].resource[7].extension[2].extension[0] (line 1, col 114498)</td><td>Structural Issue</td><td>This element does not match any known slice for the profile http://hl7.org/fhir/StructureDefinition/capabilitystatement-search-parameter-combination</td><td/><td>InstanceValidator</td></tr><tr><td>INFORMATION</td><td>CapabilityStatement.rest[0].resource[7].extension[3].extension[0] (line 1, col 114798), CapabilityStatement.rest[0].resource[7].extension[3].extension[0] (line 1, col 114798)</td><td>Structural Issue</td><td>This element does not match any known slice for the profile http://hl7.org/fhir/StructureDefinition/capabilitystatement-search-parameter-combination</td><td/><td>InstanceValidator</td></tr><tr><td>INFORMATION</td><td>CapabilityStatement.rest[0].resource[7].extension[4].extension[0] (line 1, col 115099), CapabilityStatement.rest[0].resource[7].extension[4].extension[0] (line 1, col 115099)</td><td>Structural Issue</td><td>This element does not match any known slice for the profile http://hl7.org/fhir/StructureDefinition/capabilitystatement-search-parameter-combination</td><td/><td>InstanceValidator</td></tr><tr><td>INFORMATION</td><td>CapabilityStatement.rest[0].resource[8].extension[1].extension[0] (line 1, col 121151), CapabilityStatement.rest[0].resource[8].extension[1].extension[0] (line 1, col 121151)</td><td>Structural Issue</td><td>This element does not match any known slice for the profile http://hl7.org/fhir/StructureDefinition/capabilitystatement-search-parameter-combination</td><td/><td>InstanceValidator</td></tr><tr><td>INFORMATION</td><td>CapabilityStatement.rest[0].resource[8].extension[2].extension[0] (line 1, col 121462), CapabilityStatement.rest[0].resource[8].extension[2].extension[0] (line 1, col 121462)</td><td>Structural Issue</td><td>This element does not match any known slice for the profile http://hl7.org/fhir/StructureDefinition/capabilitystatement-search-parameter-combination</td><td/><td>InstanceValidator</td></tr><tr><td>INFORMATION</td><td>CapabilityStatement.rest[0].resource[9].extension[1].extension[0] (line 1, col 124630), CapabilityStatement.rest[0].resource[9].extension[1].extension[0] (line 1, col 124630)</td><td>Structural Issue</td><td>This element does not match any known slice for the profile http://hl7.org/fhir/StructureDefinition/capabilitystatement-search-parameter-combination</td><td/><td>InstanceValidator</td></tr><tr><td>INFORMATION</td><td>CapabilityStatement.rest[0].resource[9].extension[2].extension[0] (line 1, col 124931), CapabilityStatement.rest[0].resource[9].extension[2].extension[0] (line 1, col 124931)</td><td>Structural Issue</td><td>This element does not match any known slice for the profile http://hl7.org/fhir/StructureDefinition/capabilitystatement-search-parameter-combination</td><td/><td>InstanceValidator</td></tr><tr><td>INFORMATION</td><td>CapabilityStatement.rest[0].resource[12].extension[1].extension[0] (line 1, col 133047), CapabilityStatement.rest[0].resource[12].extension[1].extension[0] (line 1, col 133047)</td><td>Structural Issue</td><td>This element does not match any known slice for the profile http://hl7.org/fhir/StructureDefinition/capabilitystatement-search-parameter-combination</td><td/><td>InstanceValidator</td></tr><tr><td>INFORMATION</td><td>CapabilityStatement.rest[0].resource[12].extension[2].extension[0] (line 1, col 133347), CapabilityStatement.rest[0].resource[12].extension[2].extension[0] (line 1, col 133347)</td><td>Structural Issue</td><td>This element does not match any known slice for the profile http://hl7.org/fhir/StructureDefinition/capabilitystatement-search-parameter-combination</td><td/><td>InstanceValidator</td></tr><tr><td>INFORMATION</td><td>CapabilityStatement.rest[0].resource[12].extension[3].extension[0] (line 1, col 133693), CapabilityStatement.rest[0].resource[12].extension[3].extension[0] (line 1, col 133693)</td><td>Structural Issue</td><td>This element does not match any known slice for the profile http://hl7.org/fhir/StructureDefinition/capabilitystatement-search-parameter-combination</td><td/><td>InstanceValidator</td></tr><tr><td>INFORMATION</td><td>CapabilityStatement.rest[0].resource[12].extension[4].extension[0] (line 1, col 134040), CapabilityStatement.rest[0].resource[12].extension[4].extension[0] (line 1, col 134040)</td><td>Structural Issue</td><td>This element does not match any known slice for the profile http://hl7.org/fhir/StructureDefinition/capabilitystatement-search-parameter-combination</td><td/><td>InstanceValidator</td></tr><tr><td>INFORMATION</td><td>CapabilityStatement.rest[0].resource[13].extension[1].extension[0] (line 1, col 139588), CapabilityStatement.rest[0].resource[13].extension[1].extension[0] (line 1, col 139588)</td><td>Structural Issue</td><td>This element does not match any known slice for the profile http://hl7.org/fhir/StructureDefinition/capabilitystatement-search-parameter-combination</td><td/><td>InstanceValidator</td></tr><tr><td>INFORMATION</td><td>CapabilityStatement.rest[0].resource[13].extension[2].extension[0] (line 1, col 139930), CapabilityStatement.rest[0].resource[13].extension[2].extension[0] (line 1, col 139930)</td><td>Structural Issue</td><td>This element does not match any known slice for the profile http://hl7.org/fhir/StructureDefinition/capabilitystatement-search-parameter-combination</td><td/><td>InstanceValidator</td></tr><tr><td>INFORMATION</td><td>CapabilityStatement.rest[0].resource[13].extension[3].extension[0] (line 1, col 140269), CapabilityStatement.rest[0].resource[13].extension[3].extension[0] (line 1, col 140269)</td><td>Structural Issue</td><td>This element does not match any known slice for the profile http://hl7.org/fhir/StructureDefinition/capabilitystatement-search-parameter-combination</td><td/><td>InstanceValidator</td></tr><tr><td>INFORMATION</td><td>CapabilityStatement.rest[0].resource[13].extension[4].extension[0] (line 1, col 140567), CapabilityStatement.rest[0].resource[13].extension[4].extension[0] (line 1, col 140567)</td><td>Structural Issue</td><td>This element does not match any known slice for the profile http://hl7.org/fhir/StructureDefinition/capabilitystatement-search-parameter-combination</td><td/><td>InstanceValidator</td></tr><tr><td>INFORMATION</td><td>CapabilityStatement.rest[0].resource[13].extension[5].extension[0] (line 1, col 140869), CapabilityStatement.rest[0].resource[13].extension[5].extension[0] (line 1, col 140869)</td><td>Structural Issue</td><td>This element does not match any known slice for the profile http://hl7.org/fhir/StructureDefinition/capabilitystatement-search-parameter-combination</td><td/><td>InstanceValidator</td></tr><tr><td>INFORMATION</td><td>CapabilityStatement.rest[0].resource[15].extension[1].extension[0] (line 1, col 148319), CapabilityStatement.rest[0].resource[15].extension[1].extension[0] (line 1, col 148319)</td><td>Structural Issue</td><td>This element does not match any known slice for the profile http://hl7.org/fhir/StructureDefinition/capabilitystatement-search-parameter-combination</td><td/><td>InstanceValidator</td></tr><tr><td>INFORMATION</td><td>CapabilityStatement.rest[0].resource[15].extension[2].extension[0] (line 1, col 148619), CapabilityStatement.rest[0].resource[15].extension[2].extension[0] (line 1, col 148619)</td><td>Structural Issue</td><td>This element does not match any known slice for the profile http://hl7.org/fhir/StructureDefinition/capabilitystatement-search-parameter-combination</td><td/><td>InstanceValidator</td></tr><tr><td>INFORMATION</td><td>CapabilityStatement.rest[0].resource[15].extension[3].extension[0] (line 1, col 148916), CapabilityStatement.rest[0].resource[15].extension[3].extension[0] (line 1, col 148916)</td><td>Structural Issue</td><td>This element does not match any known slice for the profile http://hl7.org/fhir/StructureDefinition/capabilitystatement-search-parameter-combination</td><td/><td>InstanceValidator</td></tr><tr><td>INFORMATION</td><td>CapabilityStatement.rest[0].resource[15].extension[4].extension[0] (line 1, col 149219), CapabilityStatement.rest[0].resource[15].extension[4].extension[0] (line 1, col 149219)</td><td>Structural Issue</td><td>This element does not match any known slice for the profile http://hl7.org/fhir/StructureDefinition/capabilitystatement-search-parameter-combination</td><td/><td>InstanceValidator</td></tr><tr><td>INFORMATION</td><td>CapabilityStatement.rest[0].resource[18].extension[1].extension[0] (line 1, col 159029), CapabilityStatement.rest[0].resource[18].extension[1].extension[0] (line 1, col 159029)</td><td>Structural Issue</td><td>This element does not match any known slice for the profile http://hl7.org/fhir/StructureDefinition/capabilitystatement-search-parameter-combination</td><td/><td>InstanceValidator</td></tr><tr><td>INFORMATION</td><td>CapabilityStatement.rest[0].resource[18].extension[2].extension[0] (line 1, col 159330), CapabilityStatement.rest[0].resource[18].extension[2].extension[0] (line 1, col 159330)</td><td>Structural Issue</td><td>This element does not match any known slice for the profile http://hl7.org/fhir/StructureDefinition/capabilitystatement-search-parameter-combination</td><td/><td>InstanceValidator</td></tr><tr><td>INFORMATION</td><td>CapabilityStatement.rest[0].resource[18].extension[3].extension[0] (line 1, col 159628), CapabilityStatement.rest[0].resource[18].extension[3].extension[0] (line 1, col 159628)</td><td>Structural Issue</td><td>This element does not match any known slice for the profile http://hl7.org/fhir/StructureDefinition/capabilitystatement-search-parameter-combination</td><td/><td>InstanceValidator</td></tr></table></div>"
      ],
      "text/plain": [
       "<IPython.core.display.HTML object>"
      ]
     },
     "metadata": {},
     "output_type": "display_data"
    },
    {
     "data": {
      "text/plain": [
       "72670"
      ]
     },
     "execution_count": 528,
     "metadata": {},
     "output_type": "execute_result"
    }
   ],
   "source": [
    "print('...validating')\n",
    "r = validate(cs)\n",
    "d = display(HTML(f'<h1>Validation output</h1><h3>Status Code = {r.status_code}</h3> {r.json()[\"text\"][\"div\"]}'))\n",
    "           \n",
    "#======== write to temp file to debug =======\n",
    "from html.parser import HTMLParser\n",
    "\n",
    "class HTMLFilter(HTMLParser):\n",
    "    text = \"\"\n",
    "    def handle_data(self, data):\n",
    "        self.text += data\n",
    "\n",
    "f = HTMLFilter()\n",
    "f.feed(f'<h1>Validation output</h1><h3>Status Code = {r.status_code}</h3> {r.json()[\"text\"][\"div\"]}')\n",
    "path = Path.cwd() / 'debug' / 'validation.txt'\n",
    "path.write_text(f.text)\n",
    "#===================================================\n"
   ]
  },
  {
   "cell_type": "markdown",
   "metadata": {},
   "source": [
    "### Write to folder"
   ]
  },
  {
   "cell_type": "code",
   "execution_count": 529,
   "metadata": {},
   "outputs": [
    {
     "name": "stdout",
     "output_type": "stream",
     "text": [
      "...........saving to file /Users/ehaas/Documents/Python/MyNotebooks/CapStatement/resources/capabilitystatement-us-core-server.json............\n"
     ]
    },
    {
     "data": {
      "text/plain": [
       "231347"
      ]
     },
     "execution_count": 529,
     "metadata": {},
     "output_type": "execute_result"
    }
   ],
   "source": [
    "# save to file\n",
    "#save in ig_source folder\n",
    "ig_source_path = ''\n",
    "\n",
    "path = Path.cwd() / ig_source_path / 'resources' / f'capabilitystatement-{cs.id.lower()}.json'\n",
    "\n",
    "#path = Path.cwd() /  'resources' / f'capabilitystatement-{cs.id.lower()}.json' # write locally \n",
    "\n",
    "\n",
    "print(f'...........saving to file {path}............')\n",
    "path.write_text(cs.json(indent=2))"
   ]
  },
  {
   "cell_type": "code",
   "execution_count": null,
   "metadata": {},
   "outputs": [],
   "source": []
  }
 ],
 "metadata": {
  "kernelspec": {
   "display_name": "Python 3",
   "language": "python",
   "name": "python3"
  },
  "language_info": {
   "codemirror_mode": {
    "name": "ipython",
    "version": 3
   },
   "file_extension": ".py",
   "mimetype": "text/x-python",
   "name": "python",
   "nbconvert_exporter": "python",
   "pygments_lexer": "ipython3",
   "version": "3.7.3"
  }
 },
 "nbformat": 4,
 "nbformat_minor": 4
}
