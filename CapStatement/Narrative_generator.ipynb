{
 "cells": [
  {
   "cell_type": "markdown",
   "metadata": {},
   "source": [
    "## generate narrative from resource"
   ]
  },
  {
   "cell_type": "markdown",
   "metadata": {},
   "source": [
    "### import modules"
   ]
  },
  {
   "cell_type": "code",
   "execution_count": 68,
   "metadata": {},
   "outputs": [],
   "source": [
    "from fhirclient.r4models.fhirabstractbase import FHIRValidationError\n",
    "#from fhirclient.r4models import searchparameter as SP\n",
    "from fhirclient.r4models import capabilitystatement as CS\n",
    "#from fhirclient.r4models import bundle as B\n",
    "from fhirclient.r4models import narrative as N\n",
    "#import fhirclient.models.identifier as I\n",
    "#import fhirclient.r4models.identifier as I\n",
    "#import fhirclient.r4models.coding as C\n",
    "#import fhirclient.r4models.codeableconcept as CC\n",
    "#import fhirclient.r4models.fhirdate as D\n",
    "#import fhirclient.r4models.extension as X\n",
    "#import fhirclient.r4models.contactdetail as CD\n",
    "#import fhirclient.r4models.fhirreference as FR\n",
    "from json import dumps, loads, load, JSONDecodeError\n",
    "from requests import get, post, put\n",
    "#import os\n",
    "from pathlib import Path\n",
    "#from csv import reader as csvreader\n",
    "from IPython.display import display as Display, HTML, Markdown\n",
    "#from pprint import pprint\n",
    "#from collections import namedtuple\n",
    "#from pandas import *\n",
    "from datetime import datetime, date\n",
    "from jinja2 import Environment, FileSystemLoader, select_autoescape\n",
    "from stringcase import snakecase, titlecase\n",
    "#from itertools import zip_longest\n",
    "from commonmark import commonmark\n",
    "from htmlmin import minify"
   ]
  },
  {
   "cell_type": "markdown",
   "metadata": {},
   "source": [
    "### Define variables"
   ]
  },
  {
   "cell_type": "markdown",
   "metadata": {},
   "source": [
    "#### get CapStatement as json"
   ]
  },
  {
   "cell_type": "code",
   "execution_count": 69,
   "metadata": {},
   "outputs": [
    {
     "name": "stdin",
     "output_type": "stream",
     "text": [
      "enter the CapStatment file name: pdex-server.json\n"
     ]
    }
   ],
   "source": [
    "fname = input('enter the CapStatment file name:')"
   ]
  },
  {
   "cell_type": "code",
   "execution_count": 71,
   "metadata": {},
   "outputs": [
    {
     "name": "stdout",
     "output_type": "stream",
     "text": [
      "pdex-server\n",
      "{'http://hl7.org/fhir/us/core/StructureDefinition/us-core-allergyintolerance': 'Us Core Allergyintolerance', 'http://hl7.org/fhir/us/core/StructureDefinition/us-core-careplan': 'Us Core Careplan', 'http://hl7.org/fhir/us/core/StructureDefinition/us-core-careteam': 'Us Core Careteam', 'http://hl7.org/fhir/us/core/StructureDefinition/us-core-condition': 'Us Core Condition', 'http://hl7.org/fhir/us/davinci-hrex/StructureDefinition/hrex-coverage': 'Hrex Coverage', 'http://hl7.org/fhir/us/davinci-pdex/StructureDefinition/pdex-device': 'Pdex Device', 'http://hl7.org/fhir/us/core/StructureDefinition/us-core-implantable-device': 'Us Core Implantable Device', 'http://hl7.org/fhir/us/core/StructureDefinition/us-core-diagnosticreport-note': 'Us Core Diagnosticreport Note', 'http://hl7.org/fhir/us/core/StructureDefinition/us-core-diagnosticreport-lab': 'Us Core Diagnosticreport Lab', 'http://hl7.org/fhir/us/core/StructureDefinition/us-core-documentreference': 'Us Core Documentreference', 'http://hl7.org/fhir/us/core/StructureDefinition/us-core-encounter': 'Us Core Encounter', 'http://hl7.org/fhir/us/core/StructureDefinition/us-core-goal': 'Us Core Goal', 'http://hl7.org/fhir/us/core/StructureDefinition/us-core-immunization': 'Us Core Immunization', 'http://hl7.org/fhir/us/core/StructureDefinition/us-core-location': 'Us Core Location', 'http://hl7.org/fhir/us/core/StructureDefinition/us-core-medication': 'Us Core Medication', 'http://hl7.org/fhir/us/core/StructureDefinition/us-core-medicationrequest': 'Us Core Medicationrequest', 'http://hl7.org/fhir/us/davinci-pdex/StructureDefinition/pdex-medicationdispense': 'Pdex Medicationdispense', 'http://hl7.org/fhir/us/core/StructureDefinition/us-core-smokingstatus': 'Us Core Smokingstatus', 'http://hl7.org/fhir/us/core/StructureDefinition/pediatric-weight-for-height': 'Pediatric Weight For Height', 'http://hl7.org/fhir/us/core/StructureDefinition/us-core-observation-lab': 'Us Core Observation Lab', 'http://hl7.org/fhir/us/core/StructureDefinition/pediatric-bmi-for-age': 'Pediatric Bmi For Age', 'http://hl7.org/fhir/us/core/StructureDefinition/us-core-pulse-oximetry': 'Us Core Pulse Oximetry', 'http://hl7.org/fhir/us/core/StructureDefinition/head-occipital-frontal-circumference-percentile': 'Head Occipital Frontal Circumference Percentile', 'http://hl7.org/fhir/us/core/StructureDefinition/us-core-organization': 'Us Core Organization', 'http://hl7.org/fhir/us/core/StructureDefinition/us-core-patient': 'Us Core Patient', 'http://hl7.org/fhir/us/core/StructureDefinition/us-core-practitioner': 'Us Core Practitioner', 'http://hl7.org/fhir/us/core/StructureDefinition/us-core-practitionerrole': 'Us Core Practitionerrole', 'http://hl7.org/fhir/us/core/StructureDefinition/us-core-procedure': 'Us Core Procedure', 'http://hl7.org/fhir/us/davinci-pdex/StructureDefinition/pdex-provenance': 'Pdex Provenance', 'http://hl7.org/fhir/us/core/StructureDefinition/us-core-provenance': 'Us Core Provenance'}\n"
     ]
    }
   ],
   "source": [
    "path = Path.cwd() / 'cs_source_file'/ fname\n",
    "cs_json = path.read_text()\n",
    "cs_py = CS.CapabilityStatement(loads(cs_json))\n",
    "print(cs_py.id)\n",
    "# sp_map = {sp.code:sp.type for sp in df_sp.itertuples(index=True)}\n",
    "# pname_map = {p.Profile:p.Name for p in df_profiles.itertuples(index=True)}\n",
    "\n",
    "# this is wrong if for most IGs should be supportedProfiles not Profiles\n",
    "pname_map = {r.profile:titlecase(r.profile.split('/')[-1]) for r in cs_py.rest[0].resource if r.profile}\n",
    "#add in supported Profiles too\n",
    "spname_map = {sp:titlecase(sp.split('/')[-1]) for \\\n",
    "              r in cs_py.rest[0].resource if r.supportedProfile for sp in r.supportedProfile}\n",
    "#flatten_matrix = [val for sublist in matrix for val in sublist] \n",
    "\n",
    "# Adding elements from dict2 to dict1\n",
    "pname_map.update(spname_map)\n",
    "\n",
    "sp_map = None\n",
    "\n",
    "print(pname_map)"
   ]
  },
  {
   "cell_type": "markdown",
   "metadata": {},
   "source": [
    "### get pathmap from package file\n",
    "- Get spec_internal from package a json file which includes canonical to local relative page links"
   ]
  },
  {
   "cell_type": "code",
   "execution_count": 72,
   "metadata": {},
   "outputs": [
    {
     "name": "stdin",
     "output_type": "stream",
     "text": [
      "Get package path to download: http://build.fhir.org/ig/HL7/davinci-epdx/package.tgz\n"
     ]
    }
   ],
   "source": [
    "ig_package = input(\"Get package path to download:\")"
   ]
  },
  {
   "cell_type": "code",
   "execution_count": 73,
   "metadata": {},
   "outputs": [
    {
     "data": {
      "text/plain": [
       "86288"
      ]
     },
     "execution_count": 73,
     "metadata": {},
     "output_type": "execute_result"
    }
   ],
   "source": [
    "r = get(ig_package, verify=False)\n",
    "r.status_code\n",
    "#write to file\n",
    "path = Path.cwd() /  'cs_source_file' / ig_package.split('/')[-1]\n",
    "path.write_bytes(r.content)"
   ]
  },
  {
   "cell_type": "code",
   "execution_count": 74,
   "metadata": {},
   "outputs": [
    {
     "name": "stdout",
     "output_type": "stream",
     "text": [
      "C:\\Users\\Eric\\Documents\\Python\\MyNotebooks\\CapStatement\\cs_source_file\\package.tgz\n"
     ]
    },
    {
     "data": {
      "text/plain": [
       "{'http://hl7.org/fhir/us/davinci-pdex/ImplementationGuide/hl7.fhir.us.davinci-pdex|1.0.0': '1.0.0/ImplementationGuide-hl7.fhir.us.davinci-pdex.html',\n",
       " 'http://hl7.org/fhir/us/davinci-pdex/ImplementationGuide/hl7.fhir.us.davinci-pdex': 'ImplementationGuide-hl7.fhir.us.davinci-pdex.html',\n",
       " 'http://hl7.org/fhir/us/davinci-pdex/StructureDefinition/hrex-coverage|1.0.0': '1.0.0/StructureDefinition-hrex-coverage.html',\n",
       " 'http://hl7.org/fhir/us/davinci-pdex/StructureDefinition/hrex-coverage': 'StructureDefinition-hrex-coverage.html',\n",
       " 'http://hl7.org/fhir/us/davinci-pdex/StructureDefinition/pdex-device|1.0.0': '1.0.0/StructureDefinition-pdex-device.html',\n",
       " 'http://hl7.org/fhir/us/davinci-pdex/StructureDefinition/pdex-device': 'StructureDefinition-pdex-device.html',\n",
       " 'http://hl7.org/fhir/us/davinci-pdex/StructureDefinition/pdex-medicationdispense|1.0.0': '1.0.0/StructureDefinition-pdex-medicationdispense.html',\n",
       " 'http://hl7.org/fhir/us/davinci-pdex/StructureDefinition/pdex-medicationdispense': 'StructureDefinition-pdex-medicationdispense.html',\n",
       " 'http://hl7.org/fhir/us/davinci-pdex/StructureDefinition/pdex-provenance|1.0.0': '1.0.0/StructureDefinition-pdex-provenance.html',\n",
       " 'http://hl7.org/fhir/us/davinci-pdex/StructureDefinition/pdex-provenance': 'StructureDefinition-pdex-provenance.html',\n",
       " 'http://hl7.org/fhir/us/davinci-pdex/StructureDefinition/DispenseRefill|1.0.0': '1.0.0/StructureDefinition-DispenseRefill.html',\n",
       " 'http://hl7.org/fhir/us/davinci-pdex/StructureDefinition/DispenseRefill': 'StructureDefinition-DispenseRefill.html',\n",
       " 'http://hl7.org/fhir/us/davinci-pdex/StructureDefinition/ProvenanceSourceFrom|1.0.0': '1.0.0/StructureDefinition-ProvenanceSourceFrom.html',\n",
       " 'http://hl7.org/fhir/us/davinci-pdex/StructureDefinition/ProvenanceSourceFrom': 'StructureDefinition-ProvenanceSourceFrom.html',\n",
       " 'http://hl7.org/fhir/us/davinci-pdex/ValueSet/FDANationalDrugCode|1.0.0': '1.0.0/ValueSet-FDANationalDrugCode.html',\n",
       " 'http://hl7.org/fhir/us/davinci-pdex/ValueSet/FDANationalDrugCode': 'ValueSet-FDANationalDrugCode.html',\n",
       " 'http://hl7.org/fhir/us/davinci-pdex/ValueSet/ProvenanceAgentType|1.0.0': '1.0.0/ValueSet-ProvenanceAgentType.html',\n",
       " 'http://hl7.org/fhir/us/davinci-pdex/ValueSet/ProvenanceAgentType': 'ValueSet-ProvenanceAgentType.html',\n",
       " 'http://hl7.org/fhir/us/davinci-pdex/ValueSet/ProvenancePayerSourceFormat|1.0.0': '1.0.0/ValueSet-ProvenancePayerSourceFormat.html',\n",
       " 'http://hl7.org/fhir/us/davinci-pdex/ValueSet/ProvenancePayerSourceFormat': 'ValueSet-ProvenancePayerSourceFormat.html',\n",
       " 'http://hl7.org/fhir/us/davinci-pdex/CodeSystem/IdentifierTypeCS|1.0.0': '1.0.0/CodeSystem-IdentifierTypeCS.html',\n",
       " 'http://hl7.org/fhir/us/davinci-pdex/CodeSystem/IdentifierTypeCS': 'CodeSystem-IdentifierTypeCS.html',\n",
       " 'http://hl7.org/fhir/us/davinci-pdex/CodeSystem/ProvenanceAgentRoleType|1.0.0': '1.0.0/CodeSystem-ProvenanceAgentRoleType.html',\n",
       " 'http://hl7.org/fhir/us/davinci-pdex/CodeSystem/ProvenanceAgentRoleType': 'CodeSystem-ProvenanceAgentRoleType.html',\n",
       " 'http://hl7.org/fhir/us/davinci-pdex/CodeSystem/ProvenancePayerDataSource|1.0.0': '1.0.0/CodeSystem-ProvenancePayerDataSource.html',\n",
       " 'http://hl7.org/fhir/us/davinci-pdex/CodeSystem/ProvenancePayerDataSource': 'CodeSystem-ProvenancePayerDataSource.html',\n",
       " 'http://hl7.org/fhir/us/davinci-pdex/Patient/1': 'Patient-1.html',\n",
       " 'http://hl7.org/fhir/us/davinci-pdex/MedicationDispense/1000001': 'MedicationDispense-1000001.html',\n",
       " 'http://hl7.org/fhir/us/davinci-pdex/Provenance/1000001': 'Provenance-1000001.html',\n",
       " 'http://hl7.org/fhir/us/davinci-pdex/Provenance/1000002': 'Provenance-1000002.html',\n",
       " 'http://hl7.org/fhir/us/davinci-pdex/Provenance/1000003': 'Provenance-1000003.html',\n",
       " 'http://hl7.org/fhir/us/davinci-pdex/Provenance/1000004': 'Provenance-1000004.html',\n",
       " 'http://hl7.org/fhir/us/davinci-pdex/Provenance/1000005': 'Provenance-1000005.html',\n",
       " 'http://hl7.org/fhir/us/davinci-pdex/Provenance/1000006': 'Provenance-1000006.html',\n",
       " 'http://hl7.org/fhir/us/davinci-pdex/Provenance/1000017': 'Provenance-1000017.html',\n",
       " 'http://hl7.org/fhir/us/davinci-pdex/DocumentReference/123456': 'DocumentReference-123456.html',\n",
       " 'http://hl7.org/fhir/us/davinci-pdex/Organization/2': 'Organization-2.html',\n",
       " 'http://hl7.org/fhir/us/davinci-pdex/Bundle/2000002': 'Bundle-2000002.html',\n",
       " 'http://hl7.org/fhir/us/davinci-pdex/Organization/3': 'Organization-3.html',\n",
       " 'http://hl7.org/fhir/us/davinci-pdex/Bundle/3000002': 'Bundle-3000002.html',\n",
       " 'http://hl7.org/fhir/us/davinci-pdex/Practitioner/4': 'Practitioner-4.html',\n",
       " 'http://hl7.org/fhir/us/davinci-pdex/Location/5': 'Location-5.html',\n",
       " 'http://hl7.org/fhir/us/davinci-pdex/Device/543210': 'Device-543210.html',\n",
       " 'http://hl7.org/fhir/us/davinci-pdex/Encounter/6': 'Encounter-6.html',\n",
       " 'http://hl7.org/fhir/us/davinci-pdex/Encounter/7': 'Encounter-7.html',\n",
       " 'http://hl7.org/fhir/us/davinci-pdex/Coverage/883210': 'Coverage-883210.html',\n",
       " 'http://hl7.org/fhir/us/davinci-pdex/CapabilityStatement/PdexServerCapabilityStatement|1.0.0': '1.0.0/CapabilityStatement-PdexServerCapabilityStatement.html',\n",
       " 'http://hl7.org/fhir/us/davinci-pdex/CapabilityStatement/PdexServerCapabilityStatement': 'CapabilityStatement-PdexServerCapabilityStatement.html',\n",
       " 'http://hl7.org/fhir/us/core/CapabilityStatement/pdex-server': 'CapabilityStatement-pdex-server.html',\n",
       " 'http://hl7.org/fhir/us/core/CapabilityStatement/pdex-server|1.0.0': '1.0.0/CapabilityStatement-pdex-server.html',\n",
       " 'http://hl7.org/fhir/us/davinci-pdex/CapabilityStatement/pdex-server': 'CapabilityStatement-pdex-server.html',\n",
       " 'http://hl7.org/fhir/us/davinci-pdex/SearchParameter/pdex-medicationdispense-patient|1.0.0': '1.0.0/SearchParameter-pdex-medicationdispense-patient.html',\n",
       " 'http://hl7.org/fhir/us/davinci-pdex/SearchParameter/pdex-medicationdispense-patient': 'SearchParameter-pdex-medicationdispense-patient.html',\n",
       " 'http://hl7.org/fhir/us/davinci-pdex/SearchParameter/pdex-medicationdispense-status|1.0.0': '1.0.0/SearchParameter-pdex-medicationdispense-status.html',\n",
       " 'http://hl7.org/fhir/us/davinci-pdex/SearchParameter/pdex-medicationdispense-status': 'SearchParameter-pdex-medicationdispense-status.html'}"
      ]
     },
     "execution_count": 74,
     "metadata": {},
     "output_type": "execute_result"
    }
   ],
   "source": [
    "import tarfile\n",
    "\n",
    "def get_si(tar_file):\n",
    "    print(path)\n",
    "    with tarfile.open(tar_file, mode='r') as tf:\n",
    "        #pprint(tf.getnames())\n",
    "        f = tf.extractfile('package/other/spec.internals')\n",
    "        r = f.read()\n",
    "        return(loads(r))\n",
    "\n",
    "\n",
    "si = get_si(path)\n",
    "       \n",
    "path_map = si['paths']\n",
    "path_map"
   ]
  },
  {
   "cell_type": "markdown",
   "metadata": {},
   "source": [
    "### Get URL:Name/Title mapping from package file"
   ]
  },
  {
   "cell_type": "code",
   "execution_count": 75,
   "metadata": {},
   "outputs": [
    {
     "name": "stdout",
     "output_type": "stream",
     "text": [
      "C:\\Users\\Eric\\Documents\\Python\\MyNotebooks\\CapStatement\\cs_source_file\\package.tgz\n",
      "Da Vinci Payer Data exchange\n",
      "Da Vinci Payer Data exchange\n",
      "Da Vinci Payer Data exchange\n",
      "HRex Coverage Profile\n",
      "PDex Device\n",
      "PDex MedicationDispense Profile\n",
      "PDex Provenance\n",
      "An attribute to express the refill number of a prescription\n",
      "An attribute to describe the data source a resource was constructed from\n",
      "FDA National Drug Code (NDC)\n",
      "Provenance Agent Type\n",
      "Payer source of data\n",
      "Identifier Type\n",
      "Provenance Roles\n",
      "Provenance Payer Data Source Format\n",
      "****package/example/Patient-1.jsonis not a conf resource***\n",
      "****package/example/MedicationDispense-1000001.jsonis not a conf resource***\n",
      "****package/example/Provenance-1000001.jsonis not a conf resource***\n",
      "****package/example/Provenance-1000002.jsonis not a conf resource***\n",
      "****package/example/Provenance-1000003.jsonis not a conf resource***\n",
      "****package/example/Provenance-1000004.jsonis not a conf resource***\n",
      "****package/example/Provenance-1000005.jsonis not a conf resource***\n",
      "****package/example/Provenance-1000006.jsonis not a conf resource***\n",
      "****package/example/Provenance-1000017.jsonis not a conf resource***\n",
      "****package/example/DocumentReference-123456.jsonis not a conf resource***\n",
      "****package/example/Organization-2.jsonis not a conf resource***\n",
      "****package/example/Bundle-2000002.jsonis not a conf resource***\n",
      "****package/example/Organization-3.jsonis not a conf resource***\n",
      "****package/example/Bundle-3000002.jsonis not a conf resource***\n",
      "****package/example/Practitioner-4.jsonis not a conf resource***\n",
      "****package/example/Location-5.jsonis not a conf resource***\n",
      "****package/example/Device-543210.jsonis not a conf resource***\n",
      "****package/example/Encounter-6.jsonis not a conf resource***\n",
      "****package/example/Encounter-7.jsonis not a conf resource***\n",
      "****package/example/Coverage-883210.jsonis not a conf resource***\n",
      "PdexServerCapabilityStatement1\n",
      "PDEX Server CapabilityStatement\n",
      "PdexMedicationDispensePatient\n",
      "PdexMedicationDispenseStatus\n",
      "****package/openapi/PdexServerCapabilityStatement.openapi.jsonis not a conf resource***\n",
      "****package/openapi/pdex-server.openapi.jsonis not a conf resource***\n",
      "****package/other/spec.internalsis not a conf resource***\n",
      "****package/.index.jsonis not a conf resource***\n"
     ]
    },
    {
     "data": {
      "text/plain": [
       "{'https://build.fhir.org/ig/HL7/davinci-epdx/': 'Da Vinci Payer Data exchange',\n",
       " 'http://hl7.org/fhir/us/davinci-pdex/ImplementationGuide/hl7.fhir.us.davinci-pdex': 'Da Vinci Payer Data exchange',\n",
       " 'http://hl7.org/fhir/us/davinci-pdex/StructureDefinition/hrex-coverage': 'HRex Coverage Profile',\n",
       " 'http://hl7.org/fhir/us/davinci-pdex/StructureDefinition/pdex-device': 'PDex Device',\n",
       " 'http://hl7.org/fhir/us/davinci-pdex/StructureDefinition/pdex-medicationdispense': 'PDex MedicationDispense Profile',\n",
       " 'http://hl7.org/fhir/us/davinci-pdex/StructureDefinition/pdex-provenance': 'PDex Provenance',\n",
       " 'http://hl7.org/fhir/us/davinci-pdex/StructureDefinition/DispenseRefill': 'An attribute to express the refill number of a prescription',\n",
       " 'http://hl7.org/fhir/us/davinci-pdex/StructureDefinition/ProvenanceSourceFrom': 'An attribute to describe the data source a resource was constructed from',\n",
       " 'http://hl7.org/fhir/us/davinci-pdex/ValueSet/FDANationalDrugCode': 'FDA National Drug Code (NDC)',\n",
       " 'http://hl7.org/fhir/us/davinci-pdex/ValueSet/ProvenanceAgentType': 'Provenance Agent Type',\n",
       " 'http://hl7.org/fhir/us/davinci-pdex/ValueSet/ProvenancePayerSourceFormat': 'Payer source of data',\n",
       " 'http://hl7.org/fhir/us/davinci-pdex/CodeSystem/IdentifierTypeCS': 'Identifier Type',\n",
       " 'http://hl7.org/fhir/us/davinci-pdex/CodeSystem/ProvenanceAgentRoleType': 'Provenance Roles',\n",
       " 'http://hl7.org/fhir/us/davinci-pdex/CodeSystem/ProvenancePayerDataSource': 'Provenance Payer Data Source Format',\n",
       " 'http://hl7.org/fhir/us/davinci-pdex/CapabilityStatement/PdexServerCapabilityStatement': 'PdexServerCapabilityStatement1',\n",
       " 'http://hl7.org/fhir/us/core/CapabilityStatement/pdex-server': 'PDEX Server CapabilityStatement',\n",
       " 'http://hl7.org/fhir/us/davinci-pdex/SearchParameter/pdex-medicationdispense-patient': 'PdexMedicationDispensePatient',\n",
       " 'http://hl7.org/fhir/us/davinci-pdex/SearchParameter/pdex-medicationdispense-status': 'PdexMedicationDispenseStatus'}"
      ]
     },
     "execution_count": 75,
     "metadata": {},
     "output_type": "execute_result"
    }
   ],
   "source": [
    "from json import JSONDecodeError\n",
    "def get_name_map(tar_file):\n",
    "    print(path)\n",
    "    name_map = {}\n",
    "    with tarfile.open(tar_file, mode='r') as tf:\n",
    "        for p_file in tf.getnames():\n",
    "            #print(p_file)\n",
    "            f = tf.extractfile(p_file)\n",
    "            r = f.read()\n",
    "            #print(type(r))\n",
    "            try:\n",
    "                r_dict = loads(r)\n",
    "            except JSONDecodeError: # not a json file\n",
    "                continue\n",
    "            try:\n",
    "                name_map[r_dict['url']] = r_dict['title']\n",
    "                print(r_dict['title'])\n",
    "            except KeyError:\n",
    "                try:\n",
    "                    name_map[r_dict['url']] = r_dict['name']\n",
    "                    print(r_dict['name'])\n",
    "                except KeyError: # not a conf resource\n",
    "                    print(f'****{p_file}is not a conf resource***')\n",
    "        return(name_map)\n",
    "\n",
    "\n",
    "name_map = get_name_map(path)\n",
    "name_map       "
   ]
  },
  {
   "cell_type": "markdown",
   "metadata": {},
   "source": [
    "### Get SearchParameter parameter name: type mapping from package file"
   ]
  },
  {
   "cell_type": "code",
   "execution_count": 76,
   "metadata": {},
   "outputs": [
    {
     "name": "stdout",
     "output_type": "stream",
     "text": [
      "C:\\Users\\Eric\\Documents\\Python\\MyNotebooks\\CapStatement\\cs_source_file\\package.tgz\n",
      "**********package/SearchParameter-pdex-medicationdispense-patient.json\n",
      "reference\n",
      "**********package/SearchParameter-pdex-medicationdispense-status.json\n",
      "token\n"
     ]
    },
    {
     "data": {
      "text/plain": [
       "{'patient': 'reference', 'status': 'token'}"
      ]
     },
     "execution_count": 76,
     "metadata": {},
     "output_type": "execute_result"
    }
   ],
   "source": [
    "def get_sp_map(tar_file):\n",
    "    print(path)\n",
    "    sp_map = {}\n",
    "    with tarfile.open(tar_file, mode='r') as tf:\n",
    "        for p_file in tf.getnames():\n",
    "            #print(p_file)\n",
    "            if 'searchparameter' in p_file.lower():\n",
    "                print(f'**********{p_file}')\n",
    "                f = tf.extractfile(p_file)\n",
    "                r = f.read()\n",
    "                #print(type(r))\n",
    "                try:\n",
    "                    r_dict = loads(r)\n",
    "                except JSONDecodeError: # not a json file\n",
    "                    continue\n",
    "                try:\n",
    "                    sp_map[r_dict['code']] = r_dict['type']\n",
    "                    print(r_dict['type'])\n",
    "                except KeyError:\n",
    "                    print(f'{p_file} has no type')\n",
    "        return(sp_map)\n",
    "\n",
    "\n",
    "sp_map = get_sp_map(path)\n",
    "sp_map       "
   ]
  },
  {
   "cell_type": "markdown",
   "metadata": {},
   "source": [
    "### render using Jinja2 templates"
   ]
  },
  {
   "cell_type": "code",
   "execution_count": 77,
   "metadata": {},
   "outputs": [],
   "source": [
    "in_path = ''\n",
    "in_file = 'R4capabilitystatement-server.j2'\n",
    "\n",
    "def markdown(text, *args, **kwargs):\n",
    "    return commonmark(text, *args, **kwargs)\n",
    "\n",
    "env = Environment(\n",
    "    loader=FileSystemLoader(searchpath = in_path),\n",
    "    autoescape=select_autoescape(['html','xml','xhtml','j2','md'],),\n",
    "    trim_blocks = True,\n",
    "    lstrip_blocks = True,\n",
    "    )\n",
    "\n",
    "env.filters['markdown'] = markdown\n",
    "\n",
    "template = env.get_template(in_file)\n",
    "\n",
    "rendered = template.render(cs=cs_py, path_map=path_map, pname_map=name_map, sp_map=sp_map )"
   ]
  },
  {
   "cell_type": "markdown",
   "metadata": {},
   "source": [
    "### Minify the xhtml"
   ]
  },
  {
   "cell_type": "code",
   "execution_count": 78,
   "metadata": {},
   "outputs": [
    {
     "data": {
      "text/html": [
       "<div xmlns=\"http://www.w3.org/1999/xhtml\"> <h2 id=\"title\">PDEX Server CapabilityStatement</h2> <ul> <li>Implementation Guide Version: 1.0.0</li> <li>FHIR Version: 4.0.1</li> <li>Supported formats: json</li> <li>Published: 2020-11-03</li> <li>Published by: HL7 International - Da Vinci Accelerator</li> </ul> <p>This Section describes the expected capabilities of the PDEX Server actor which is responsible for providing responses to the queries submitted by the PDEX Requestors. The complete list of FHIR profiles, RESTful operations, and search parameters supported by PDEX Servers are defined. PDEX Clients have the option of choosing from this list to access necessary data based on their local use cases and other contextual requirements.</p> <h3 id=\"behavior\">FHIR RESTful Capabilities</h3> <p>The PDEX Server <strong>SHALL</strong>:1. Support the US Core Patient resource profile.1. Support at least one additional resource profile from the list of US Core and PDEX Profiles.1. Implement the RESTful behavior according to the FHIR specification.1. Return the following response classes: - (Status 400): invalid parameter - (Status 401/4xx): unauthorized request - (Status 403): insufficient scope - (Status 404): unknown resource - (Status 410): deleted resource.1. Support json source formats for all US Core and PDEX interactions.The PDEX Server <strong>SHOULD</strong>:1. Support xml source formats for all US Core interactions.1. Identify the US Core profiles supported as part of the FHIR <code>meta.profile</code> attribute for each instance.</p> <p id=\"security\"><strong>Security:</strong></p> <ol> <li>See the <a href=\"http://hl7.org/fhir/us/core/security.html\">US Core Security Considerations</a> section for requirements and recommendations.1. A server <strong>SHALL</strong> reject any unauthorized requests by returning an <code>HTTP 401</code> unauthorized response code.</li> </ol> <p><strong>Summary of System Wide Interactions</strong></p> <ul> <li><strong>MAY</strong> support the <code>transaction</code> interaction.</li> <li><strong>MAY</strong> support the <code>batch</code> interaction.</li> <li><strong>MAY</strong> support the <code>search-system</code> interaction.</li> <li><strong>MAY</strong> support the <code>history-system</code> interaction.</li> </ul> <h3 class=\"no_toc\" id=\"resource--details\">RESTful Capabilities by Resource/Profile:</h3> <p><strong>Summary of Search Criteria</strong></p> <table class=\"grid\"> <thead> <tr> <th>Resource Type</th> <th>Supported Profiles</th> <th>Supported Searches</th> <th>Supported <code>_includes</code></th> <th>Supported <code>_revincludes</code></th> <th>Supported Operations</th> </tr> </thead> <tbody> <tr> <td> <a href=\"#allergyintolerance\">AllergyIntolerance</a> </td> <td> <a href=\"http://hl7.org/fhir/us/core/StructureDefinition/us-core-allergyintolerance\"></a> </td> <td> patient patient </td> <td> </td> <td> Provenance:target </td> <td> </td> </tr> <tr> <td> <a href=\"#careplan\">CarePlan</a> </td> <td> <a href=\"http://hl7.org/fhir/us/core/StructureDefinition/us-core-careplan\"></a> </td> <td> category, date, patient, status patient+category+status+date, patient+category+status, patient+category, patient+category+date </td> <td> </td> <td> Provenance:target </td> <td> </td> </tr> <tr> <td> <a href=\"#careteam\">CareTeam</a> </td> <td> <a href=\"http://hl7.org/fhir/us/core/StructureDefinition/us-core-careteam\"></a> </td> <td> patient, status patient+status </td> <td> </td> <td> Provenance:target </td> <td> </td> </tr> <tr> <td> <a href=\"#condition\">Condition</a> </td> <td> <a href=\"http://hl7.org/fhir/us/core/StructureDefinition/us-core-condition\"></a> </td> <td> category, clinical-status, patient, onset-date, code patient+onset-date, patient+category, patient+clinical-status, patient+code </td> <td> </td> <td> Provenance:target </td> <td> </td> </tr> <tr> <td> <a href=\"#coverage\">Coverage</a> </td> <td> <a href=\"http://hl7.org/fhir/us/davinci-hrex/StructureDefinition/hrex-coverage\"></a> </td> <td> _id </td> <td> </td> <td> Provenance </td> <td> </td> </tr> <tr> <td> <a href=\"#device\">Device</a> </td> <td> <a href=\"StructureDefinition-pdex-device.html\">PDex Device</a>, <a href=\"http://hl7.org/fhir/us/core/StructureDefinition/us-core-implantable-device\"></a> </td> <td> patient, type patient+type </td> <td> </td> <td> Provenance:target </td> <td> </td> </tr> <tr> <td> <a href=\"#diagnosticreport\">DiagnosticReport</a> </td> <td> <a href=\"http://hl7.org/fhir/us/core/StructureDefinition/us-core-diagnosticreport-note\"></a>, <a href=\"http://hl7.org/fhir/us/core/StructureDefinition/us-core-diagnosticreport-lab\"></a> </td> <td> status, patient, category, code, date patient+category+date, patient+status, patient+code+date, patient+code, patient+category </td> <td> </td> <td> Provenance:target </td> <td> </td> </tr> <tr> <td> <a href=\"#documentreference\">DocumentReference</a> </td> <td> <a href=\"http://hl7.org/fhir/us/core/StructureDefinition/us-core-documentreference\"></a> </td> <td> _id, status, patient, category, type, date, period patient+type+period, patient+type, patient+category+date, patient+status, patient+category </td> <td> </td> <td> Provenance:target </td> <td> docref </td> </tr> <tr> <td> <a href=\"#encounter\">Encounter</a> </td> <td> <a href=\"http://hl7.org/fhir/us/core/StructureDefinition/us-core-encounter\"></a> </td> <td> _id, class, date, identifier, patient, status, type class+patient, patient+status, patient+type, date+patient </td> <td> </td> <td> Provenance:target </td> <td> </td> </tr> <tr> <td> <a href=\"#goal\">Goal</a> </td> <td> <a href=\"http://hl7.org/fhir/us/core/StructureDefinition/us-core-goal\"></a> </td> <td> lifecycle-status, patient, target-date patient+lifecycle-status, patient+target-date </td> <td> </td> <td> Provenance:target </td> <td> </td> </tr> <tr> <td> <a href=\"#immunization\">Immunization</a> </td> <td> <a href=\"http://hl7.org/fhir/us/core/StructureDefinition/us-core-immunization\"></a> </td> <td> patient, status, date patient+date, patient+status </td> <td> </td> <td> Provenance:target </td> <td> </td> </tr> <tr> <td> <a href=\"#location\">Location</a> </td> <td> <a href=\"http://hl7.org/fhir/us/core/StructureDefinition/us-core-location\"></a> </td> <td> name, address, address-city, address-state, address-postalcode </td> <td> </td> <td> </td> <td> </td> </tr> <tr> <td> <a href=\"#medication\">Medication</a> </td> <td> <a href=\"http://hl7.org/fhir/us/core/StructureDefinition/us-core-medication\"></a> </td> <td> </td> <td> </td> <td> </td> <td> </td> </tr> <tr> <td> <a href=\"#medicationrequest\">MedicationRequest</a> </td> <td> <a href=\"http://hl7.org/fhir/us/core/StructureDefinition/us-core-medicationrequest\"></a> </td> <td> status, intent, patient, encounter, authoredon patient+intent, patient+intent+encounter, patient+intent+authoredon, patient+intent+status </td> <td> MedicationRequest:medication </td> <td> Provenance:target </td> <td> </td> </tr> <tr> <td> <a href=\"#medicationdispense\">MedicationDispense</a> </td> <td> <a href=\"StructureDefinition-pdex-medicationdispense.html\">PDex MedicationDispense Profile</a> </td> <td> status, patient patient+intent, patient+intent, patient+intent, patient+intent+status </td> <td> MedicationDispense:medication </td> <td> Provenance:target </td> <td> </td> </tr> <tr> <td> <a href=\"#observation\">Observation</a> </td> <td> <a href=\"http://hl7.org/fhir/us/core/StructureDefinition/us-core-smokingstatus\"></a>, <a href=\"http://hl7.org/fhir/us/core/StructureDefinition/pediatric-weight-for-height\"></a>, <a href=\"http://hl7.org/fhir/us/core/StructureDefinition/us-core-observation-lab\"></a>, <a href=\"http://hl7.org/fhir/us/core/StructureDefinition/pediatric-bmi-for-age\"></a>, <a href=\"http://hl7.org/fhir/us/core/StructureDefinition/us-core-pulse-oximetry\"></a>, <a href=\"http://hl7.org/fhir/us/core/StructureDefinition/head-occipital-frontal-circumference-percentile\"></a> </td> <td> status, category, code, date, patient patient+category+date, patient+category+status, patient+code+date, patient+code, patient+category </td> <td> </td> <td> Provenance:target </td> <td> </td> </tr> <tr> <td> <a href=\"#organization\">Organization</a> </td> <td> <a href=\"http://hl7.org/fhir/us/core/StructureDefinition/us-core-organization\"></a> </td> <td> name, address </td> <td> </td> <td> </td> <td> </td> </tr> <tr> <td> <a href=\"#patient\">Patient</a> </td> <td> <a href=\"http://hl7.org/fhir/us/core/StructureDefinition/us-core-patient\"></a> </td> <td> _id, birthdate, family, gender, given, identifier, name birthdate+family, family+gender, birthdate+name, gender+name </td> <td> </td> <td> Provenance:target </td> <td> member-match </td> </tr> <tr> <td> <a href=\"#practitioner\">Practitioner</a> </td> <td> <a href=\"http://hl7.org/fhir/us/core/StructureDefinition/us-core-practitioner\"></a> </td> <td> name, identifier </td> <td> </td> <td> </td> <td> </td> </tr> <tr> <td> <a href=\"#practitionerrole\">PractitionerRole</a> </td> <td> <a href=\"http://hl7.org/fhir/us/core/StructureDefinition/us-core-practitionerrole\"></a> </td> <td> specialty, practitioner </td> <td> PractitionerRole:endpoint, PractitionerRole:practitioner </td> <td> </td> <td> </td> </tr> <tr> <td> <a href=\"#procedure\">Procedure</a> </td> <td> <a href=\"http://hl7.org/fhir/us/core/StructureDefinition/us-core-procedure\"></a> </td> <td> status, patient, date, code patient+date, patient+status, patient+code+date </td> <td> </td> <td> Provenance:target </td> <td> </td> </tr> <tr> <td> <a href=\"#provenance\">Provenance</a> </td> <td> <a href=\"StructureDefinition-pdex-provenance.html\">PDex Provenance</a>, <a href=\"http://hl7.org/fhir/us/core/StructureDefinition/us-core-provenance\"></a> </td> <td> </td> <td> </td> <td> </td> <td> </td> </tr> <tr> <td> <a href=\"#valueset\">ValueSet</a> </td> <td> </td> <td> </td> <td> </td> <td> </td> <td> expand </td> </tr> </tbody> </table> <h4 class=\"no_toc\" id=\"allergyintolerance\">AllergyIntolerance</h4> <p>Conformance Expectation: <strong>SHALL</strong></p> <p>Supported Profiles: <a href=\"http://hl7.org/fhir/us/core/StructureDefinition/us-core-allergyintolerance\"></a> </p> <p>Reference Policy: <code>resolves</code></p> <p>Profile Interaction Summary:</p> <ul> <li><strong>SHALL</strong> support <code>search-type</code>, <code>read</code>.</li><li><strong>SHOULD</strong> support <code>vread</code>, <code>history-instance</code>.</li><li><strong>MAY</strong> support <code>history-type</code>.</li> </ul> <p>Fetch and Search Criteria:</p> <ul> <li> A Server <strong>SHALL</strong> be capable of returning a AllergyIntolerance resource using: <code class=\"highlighter-rouge\">GET [base]/AllergyIntolerance/[id]</code> </li> <li> A Server <strong>SHALL</strong> be capable of supporting the following _revincludes: Provenance:target - <code class=\"highlighter-rouge\">GET [base]/AllergyIntolerance?[parameter=value]&amp;_revinclude=Provenance:target</code> </li> </ul> <p>Search Parameter Summary:</p> <table class=\"grid\"> <thead> <tr> <th>Conformance</th> <th>Parameter</th> <th>Type</th> <th>Documentation</th> </tr> </thead> <tbody><tr> <td> <strong>SHALL</strong> </td> <td> <a href=\"http://hl7.org/fhir/R4/search.html\">patient</a> </td> <td> reference </td> <td align=\"left\"> - </td> </tr> </tbody> </table> <p>Search Parameter Combination Summary:</p> <table class=\"grid\"> <thead> <tr> <th>Conformance</th> <th>Parameter Combination</th> <th>Types</th> </tr> </thead> <tbody> <tr> <td><strong>SHOULD</strong> </td> <td>patient </td> <td>reference </td> </tr> </tbody> </table> <hr /> <h4 class=\"no_toc\" id=\"careplan\">CarePlan</h4> <p>Conformance Expectation: <strong>SHALL</strong></p> <p>Supported Profiles: <a href=\"http://hl7.org/fhir/us/core/StructureDefinition/us-core-careplan\"></a> </p> <p>Reference Policy: <code>resolves</code></p> <p>Profile Interaction Summary:</p> <ul> <li><strong>SHALL</strong> support <code>search-type</code>, <code>read</code>.</li><li><strong>SHOULD</strong> support <code>vread</code>, <code>history-instance</code>.</li><li><strong>MAY</strong> support <code>history-type</code>.</li> </ul> <p>Fetch and Search Criteria:</p> <ul> <li> A Server <strong>SHALL</strong> be capable of returning a CarePlan resource using: <code class=\"highlighter-rouge\">GET [base]/CarePlan/[id]</code> </li> <li> A Server <strong>SHALL</strong> be capable of supporting the following _revincludes: Provenance:target - <code class=\"highlighter-rouge\">GET [base]/CarePlan?[parameter=value]&amp;_revinclude=Provenance:target</code> </li> </ul> <p>Search Parameter Summary:</p> <table class=\"grid\"> <thead> <tr> <th>Conformance</th> <th>Parameter</th> <th>Type</th> <th>Documentation</th> </tr> </thead> <tbody><tr> <td> <strong>MAY</strong> </td> <td> <a href=\"http://hl7.org/fhir/R4/search.html\">category</a> </td> <td> token </td> <td align=\"left\"> - </td> </tr><tr> <td> <strong>MAY</strong> </td> <td> <a href=\"http://hl7.org/fhir/R4/search.html\">date</a> </td> <td> date </td> <td align=\"left\"> - </td> </tr><tr> <td> <strong>MAY</strong> </td> <td> <a href=\"http://hl7.org/fhir/R4/search.html\">patient</a> </td> <td> reference </td> <td align=\"left\"> - </td> </tr><tr> <td> <strong>MAY</strong> </td> <td> <a href=\"http://hl7.org/fhir/R4/search.html\">status</a> </td> <td> token </td> <td align=\"left\"> - </td> </tr> </tbody> </table> <p>Search Parameter Combination Summary:</p> <table class=\"grid\"> <thead> <tr> <th>Conformance</th> <th>Parameter Combination</th> <th>Types</th> </tr> </thead> <tbody> <tr> <td><strong>SHOULD</strong> </td> <td>patient+category+status+date </td> <td>reference++token+ </td> </tr> <tr> <td><strong>SHOULD</strong> </td> <td>patient+category+status </td> <td>reference++token </td> </tr> <tr> <td><strong>SHALL</strong> </td> <td>patient+category </td> <td>reference+ </td> </tr> <tr> <td><strong>SHOULD</strong> </td> <td>patient+category+date </td> <td>reference++ </td> </tr> </tbody> </table> <hr /> <h4 class=\"no_toc\" id=\"careteam\">CareTeam</h4> <p>Conformance Expectation: <strong>SHALL</strong></p> <p>Supported Profiles: <a href=\"http://hl7.org/fhir/us/core/StructureDefinition/us-core-careteam\"></a> </p> <p>Reference Policy: <code>resolves</code></p> <p>Profile Interaction Summary:</p> <ul> <li><strong>SHALL</strong> support <code>search-type</code>, <code>read</code>.</li><li><strong>SHOULD</strong> support <code>vread</code>, <code>history-instance</code>.</li><li><strong>MAY</strong> support <code>history-type</code>.</li> </ul> <p>Fetch and Search Criteria:</p> <ul> <li> A Server <strong>SHALL</strong> be capable of returning a CareTeam resource using: <code class=\"highlighter-rouge\">GET [base]/CareTeam/[id]</code> </li> <li> A Server <strong>SHALL</strong> be capable of supporting the following _revincludes: Provenance:target - <code class=\"highlighter-rouge\">GET [base]/CareTeam?[parameter=value]&amp;_revinclude=Provenance:target</code> </li> </ul> <p>Search Parameter Summary:</p> <table class=\"grid\"> <thead> <tr> <th>Conformance</th> <th>Parameter</th> <th>Type</th> <th>Documentation</th> </tr> </thead> <tbody><tr> <td> <strong>MAY</strong> </td> <td> <a href=\"http://hl7.org/fhir/R4/search.html\">patient</a> </td> <td> reference </td> <td align=\"left\"> - </td> </tr><tr> <td> <strong>MAY</strong> </td> <td> <a href=\"http://hl7.org/fhir/R4/search.html\">status</a> </td> <td> token </td> <td align=\"left\"> - </td> </tr> </tbody> </table> <p>Search Parameter Combination Summary:</p> <table class=\"grid\"> <thead> <tr> <th>Conformance</th> <th>Parameter Combination</th> <th>Types</th> </tr> </thead> <tbody> <tr> <td><strong>SHALL</strong> </td> <td>patient+status </td> <td>reference+token </td> </tr> </tbody> </table> <hr /> <h4 class=\"no_toc\" id=\"condition\">Condition</h4> <p>Conformance Expectation: <strong>SHALL</strong></p> <p>Supported Profiles: <a href=\"http://hl7.org/fhir/us/core/StructureDefinition/us-core-condition\"></a> </p> <p>Reference Policy: <code>resolves</code></p> <p>Profile Interaction Summary:</p> <ul> <li><strong>SHALL</strong> support <code>search-type</code>, <code>read</code>.</li><li><strong>SHOULD</strong> support <code>vread</code>, <code>history-instance</code>.</li><li><strong>MAY</strong> support <code>history-type</code>.</li> </ul> <p>Fetch and Search Criteria:</p> <ul> <li> A Server <strong>SHALL</strong> be capable of returning a Condition resource using: <code class=\"highlighter-rouge\">GET [base]/Condition/[id]</code> </li> <li> A Server <strong>SHALL</strong> be capable of supporting the following _revincludes: Provenance:target - <code class=\"highlighter-rouge\">GET [base]/Condition?[parameter=value]&amp;_revinclude=Provenance:target</code> </li> </ul> <p>Search Parameter Summary:</p> <table class=\"grid\"> <thead> <tr> <th>Conformance</th> <th>Parameter</th> <th>Type</th> <th>Documentation</th> </tr> </thead> <tbody><tr> <td> <strong>MAY</strong> </td> <td> <a href=\"http://hl7.org/fhir/R4/search.html\">category</a> </td> <td> token </td> <td align=\"left\"> - </td> </tr><tr> <td> <strong>MAY</strong> </td> <td> <a href=\"http://hl7.org/fhir/R4/search.html\">clinical-status</a> </td> <td> token </td> <td align=\"left\"> - </td> </tr><tr> <td> <strong>SHALL</strong> </td> <td> <a href=\"http://hl7.org/fhir/R4/search.html\">patient</a> </td> <td> reference </td> <td align=\"left\"> - </td> </tr><tr> <td> <strong>MAY</strong> </td> <td> <a href=\"http://hl7.org/fhir/R4/search.html\">onset-date</a> </td> <td> date </td> <td align=\"left\"> - </td> </tr><tr> <td> <strong>MAY</strong> </td> <td> <a href=\"http://hl7.org/fhir/R4/search.html\">code</a> </td> <td> token </td> <td align=\"left\"> - </td> </tr> </tbody> </table> <p>Search Parameter Combination Summary:</p> <table class=\"grid\"> <thead> <tr> <th>Conformance</th> <th>Parameter Combination</th> <th>Types</th> </tr> </thead> <tbody> <tr> <td><strong>SHOULD</strong> </td> <td>patient+onset-date </td> <td>reference+ </td> </tr> <tr> <td><strong>SHOULD</strong> </td> <td>patient+category </td> <td>reference+ </td> </tr> <tr> <td><strong>SHOULD</strong> </td> <td>patient+clinical-status </td> <td>reference+ </td> </tr> <tr> <td><strong>SHOULD</strong> </td> <td>patient+code </td> <td>reference+ </td> </tr> </tbody> </table> <hr /> <h4 class=\"no_toc\" id=\"coverage\">Coverage</h4> <p>Conformance Expectation: <strong>undefined</strong></p> <p>Supported Profiles: <a href=\"http://hl7.org/fhir/us/davinci-hrex/StructureDefinition/hrex-coverage\"></a> </p> <p>Reference Policy: <code>resolves</code></p><p>Server returns past versions as part of the vRead operation.</p> <p>Profile Interaction Summary:</p> <ul> </ul> <p>Fetch and Search Criteria:</p> <ul> <li> A Server <strong>undefined</strong> be capable of returning a Coverage resource using: <code class=\"highlighter-rouge\">GET [base]/Coverage/[id]</code> </li> <li> A Server <strong>SHALL</strong> be capable of supporting the following _revincludes: Provenance - <code class=\"highlighter-rouge\">GET [base]/Coverage?[parameter=value]&amp;_revinclude=Provenance</code> </li> </ul> <p>Search Parameter Summary:</p> <table class=\"grid\"> <thead> <tr> <th>Conformance</th> <th>Parameter</th> <th>Type</th> <th>Documentation</th> </tr> </thead> <tbody><tr> <td> <strong>undefined</strong> </td> <td> <a href=\"http://hl7.org/fhir/R4/search.html\">_id</a> </td> <td> string </td> <td align=\"left\"> - </td> </tr> </tbody> </table> <hr /> <h4 class=\"no_toc\" id=\"device\">Device</h4> <p>Conformance Expectation: <strong>SHALL</strong></p> <p>Supported Profiles: <a href=\"StructureDefinition-pdex-device.html\">PDex Device</a>, <a href=\"http://hl7.org/fhir/us/core/StructureDefinition/us-core-implantable-device\"></a> </p> <p>Reference Policy: <code>resolves</code></p> <p>Profile Interaction Summary:</p> <ul> <li><strong>SHALL</strong> support <code>search-type</code>, <code>read</code>.</li><li><strong>SHOULD</strong> support <code>vread</code>, <code>history-instance</code>.</li><li><strong>MAY</strong> support <code>history-type</code>.</li> </ul> <p>Fetch and Search Criteria:</p> <ul> <li> A Server <strong>SHALL</strong> be capable of returning a Device resource using: <code class=\"highlighter-rouge\">GET [base]/Device/[id]</code> </li> <li> A Server <strong>SHALL</strong> be capable of supporting the following _revincludes: Provenance:target - <code class=\"highlighter-rouge\">GET [base]/Device?[parameter=value]&amp;_revinclude=Provenance:target</code> </li> </ul> <p>Search Parameter Summary:</p> <table class=\"grid\"> <thead> <tr> <th>Conformance</th> <th>Parameter</th> <th>Type</th> <th>Documentation</th> </tr> </thead> <tbody><tr> <td> <strong>SHALL</strong> </td> <td> <a href=\"http://hl7.org/fhir/R4/search.html\">patient</a> </td> <td> reference </td> <td align=\"left\"> - </td> </tr><tr> <td> <strong>MAY</strong> </td> <td> <a href=\"http://hl7.org/fhir/R4/search.html\">type</a> </td> <td> token </td> <td align=\"left\"> - </td> </tr> </tbody> </table> <p>Search Parameter Combination Summary:</p> <table class=\"grid\"> <thead> <tr> <th>Conformance</th> <th>Parameter Combination</th> <th>Types</th> </tr> </thead> <tbody> <tr> <td><strong>SHOULD</strong> </td> <td>patient+type </td> <td>reference+ </td> </tr> </tbody> </table> <hr /> <h4 class=\"no_toc\" id=\"diagnosticreport\">DiagnosticReport</h4> <p>Conformance Expectation: <strong>SHALL</strong></p> <p>Supported Profiles: <a href=\"http://hl7.org/fhir/us/core/StructureDefinition/us-core-diagnosticreport-note\"></a>, <a href=\"http://hl7.org/fhir/us/core/StructureDefinition/us-core-diagnosticreport-lab\"></a> </p> <p>Reference Policy: <code>resolves</code></p> <p>Profile Interaction Summary:</p> <ul> <li><strong>SHALL</strong> support <code>create</code><sup>&#8224;</sup>, <code>search-type</code>, <code>read</code>.</li><li><strong>SHOULD</strong> support <code>vread</code>, <code>history-instance</code>.</li><li><strong>MAY</strong> support <code>history-type</code>.</li> </ul> <blockquote>create<sup>&#8224;</sup><p>This conformance expectation applies <strong>only</strong> to the <em>US Core DiagnosticReport Profile for Report and Note exchange</em> profile. The conformance expectation for the <em>US Core DiagnosticReport Profile for Laboratory Results Reporting</em> is <strong>MAY</strong>.</p> </blockquote> <p>Fetch and Search Criteria:</p> <ul> <li> A Server <strong>SHALL</strong> be capable of returning a DiagnosticReport resource using: <code class=\"highlighter-rouge\">GET [base]/DiagnosticReport/[id]</code> </li> <li> A Server <strong>SHALL</strong> be capable of supporting the following _revincludes: Provenance:target - <code class=\"highlighter-rouge\">GET [base]/DiagnosticReport?[parameter=value]&amp;_revinclude=Provenance:target</code> </li> </ul> <p>Search Parameter Summary:</p> <table class=\"grid\"> <thead> <tr> <th>Conformance</th> <th>Parameter</th> <th>Type</th> <th>Documentation</th> </tr> </thead> <tbody><tr> <td> <strong>MAY</strong> </td> <td> <a href=\"http://hl7.org/fhir/R4/search.html\">status</a> </td> <td> token </td> <td align=\"left\"> - </td> </tr><tr> <td> <strong>SHALL</strong> </td> <td> <a href=\"http://hl7.org/fhir/R4/search.html\">patient</a> </td> <td> reference </td> <td align=\"left\"> - </td> </tr><tr> <td> <strong>MAY</strong> </td> <td> <a href=\"http://hl7.org/fhir/R4/search.html\">category</a> </td> <td> token </td> <td align=\"left\"> - </td> </tr><tr> <td> <strong>MAY</strong> </td> <td> <a href=\"http://hl7.org/fhir/R4/search.html\">code</a> </td> <td> token </td> <td align=\"left\"> - </td> </tr><tr> <td> <strong>MAY</strong> </td> <td> <a href=\"http://hl7.org/fhir/R4/search.html\">date</a> </td> <td> date </td> <td align=\"left\"> - </td> </tr> </tbody> </table> <p>Search Parameter Combination Summary:</p> <table class=\"grid\"> <thead> <tr> <th>Conformance</th> <th>Parameter Combination</th> <th>Types</th> </tr> </thead> <tbody> <tr> <td><strong>SHALL</strong> </td> <td>patient+category+date </td> <td>reference++ </td> </tr> <tr> <td><strong>SHOULD</strong> </td> <td>patient+status </td> <td>reference+token </td> </tr> <tr> <td><strong>SHOULD</strong> </td> <td>patient+code+date </td> <td>reference++ </td> </tr> <tr> <td><strong>SHALL</strong> </td> <td>patient+code </td> <td>reference+ </td> </tr> <tr> <td><strong>SHALL</strong> </td> <td>patient+category </td> <td>reference+ </td> </tr> </tbody> </table> <hr /> <h4 class=\"no_toc\" id=\"documentreference\">DocumentReference</h4> <p>Conformance Expectation: <strong>SHALL</strong></p> <p>Supported Profiles: <a href=\"http://hl7.org/fhir/us/core/StructureDefinition/us-core-documentreference\"></a> </p> <p>Resource Specific Documentation:</p> <blockquote><p>The DocumentReference.type binding SHALL support at a minimum the <a href=\"http://hl7.org/fhir/us/core/ValueSet-us-core-clinical-note-type.html\">5 Common Clinical Notes</a> and may extend to the full US Core DocumentReference Type Value Set</p> </blockquote> <p>Reference Policy: <code>resolves</code></p> <p>Profile Interaction Summary:</p> <ul> <li><strong>SHALL</strong> support <code>search-type</code>, <code>read</code>.</li><li><strong>SHOULD</strong> support <code>vread</code>, <code>history-instance</code>.</li><li><strong>MAY</strong> support <code>history-type</code>.</li> </ul> <p>Operation Summary:</p> <ul> <li><strong>SHALL</strong> support the <a href=\"http://hl7.org/fhir/us/core/OperationDefinition/docref\">$docref</a> operation <p>A server <strong>SHALL</strong> be capable of responding to a $docref operation and capable of returning at least a reference to a generated CCD document, if available. <strong>MAY</strong> provide references to other 'on-demand' and 'stable' documents (or 'delayed/deferred assembly') that meet the query parameters as well. If a context date range is supplied the server ** SHOULD** provide references to any document that falls within the date range If no date range is supplied, then the server <strong>SHALL</strong> provide references to last or current encounter. <strong>SHOULD</strong> document what resources, if any, are returned as included resources<code>GET [base]/DocumentReference/$docref?patient=[id]</code></p> </li> </ul> <p>Fetch and Search Criteria:</p> <ul> <li> A Server <strong>SHALL</strong> be capable of returning a DocumentReference resource using: <code class=\"highlighter-rouge\">GET [base]/DocumentReference/[id]</code> </li> <li> A Server <strong>SHALL</strong> be capable of supporting the following _revincludes: Provenance:target - <code class=\"highlighter-rouge\">GET [base]/DocumentReference?[parameter=value]&amp;_revinclude=Provenance:target</code> </li> </ul> <p>Search Parameter Summary:</p> <table class=\"grid\"> <thead> <tr> <th>Conformance</th> <th>Parameter</th> <th>Type</th> <th>Documentation</th> </tr> </thead> <tbody><tr> <td> <strong>SHALL</strong> </td> <td> <a href=\"http://hl7.org/fhir/R4/search.html\">_id</a> </td> <td> token </td> <td align=\"left\"> - </td> </tr><tr> <td> <strong>MAY</strong> </td> <td> <a href=\"http://hl7.org/fhir/R4/search.html\">status</a> </td> <td> token </td> <td align=\"left\"> - </td> </tr><tr> <td> <strong>SHALL</strong> </td> <td> <a href=\"http://hl7.org/fhir/R4/search.html\">patient</a> </td> <td> reference </td> <td align=\"left\"> - </td> </tr><tr> <td> <strong>MAY</strong> </td> <td> <a href=\"http://hl7.org/fhir/R4/search.html\">category</a> </td> <td> token </td> <td align=\"left\"> - </td> </tr><tr> <td> <strong>MAY</strong> </td> <td> <a href=\"http://hl7.org/fhir/R4/search.html\">type</a> </td> <td> token </td> <td align=\"left\"> - </td> </tr><tr> <td> <strong>MAY</strong> </td> <td> <a href=\"http://hl7.org/fhir/R4/search.html\">date</a> </td> <td> date </td> <td align=\"left\"> - </td> </tr><tr> <td> <strong>MAY</strong> </td> <td> <a href=\"http://hl7.org/fhir/R4/search.html\">period</a> </td> <td> date </td> <td align=\"left\"> - </td> </tr> </tbody> </table> <p>Search Parameter Combination Summary:</p> <table class=\"grid\"> <thead> <tr> <th>Conformance</th> <th>Parameter Combination</th> <th>Types</th> </tr> </thead> <tbody> <tr> <td><strong>SHOULD</strong> </td> <td>patient+type+period </td> <td>reference++ </td> </tr> <tr> <td><strong>SHALL</strong> </td> <td>patient+type </td> <td>reference+ </td> </tr> <tr> <td><strong>SHALL</strong> </td> <td>patient+category+date </td> <td>reference++ </td> </tr> <tr> <td><strong>SHOULD</strong> </td> <td>patient+status </td> <td>reference+token </td> </tr> <tr> <td><strong>SHALL</strong> </td> <td>patient+category </td> <td>reference+ </td> </tr> </tbody> </table> <hr /> <h4 class=\"no_toc\" id=\"encounter\">Encounter</h4> <p>Conformance Expectation: <strong>SHALL</strong></p> <p>Supported Profiles: <a href=\"http://hl7.org/fhir/us/core/StructureDefinition/us-core-encounter\"></a> </p> <p>Reference Policy: <code>resolves</code></p> <p>Profile Interaction Summary:</p> <ul> <li><strong>SHALL</strong> support <code>search-type</code>, <code>read</code>.</li><li><strong>SHOULD</strong> support <code>vread</code>, <code>history-instance</code>.</li><li><strong>MAY</strong> support <code>history-type</code>.</li> </ul> <p>Fetch and Search Criteria:</p> <ul> <li> A Server <strong>SHALL</strong> be capable of returning a Encounter resource using: <code class=\"highlighter-rouge\">GET [base]/Encounter/[id]</code> </li> <li> A Server <strong>SHALL</strong> be capable of supporting the following _revincludes: Provenance:target - <code class=\"highlighter-rouge\">GET [base]/Encounter?[parameter=value]&amp;_revinclude=Provenance:target</code> </li> </ul> <p>Search Parameter Summary:</p> <table class=\"grid\"> <thead> <tr> <th>Conformance</th> <th>Parameter</th> <th>Type</th> <th>Documentation</th> </tr> </thead> <tbody><tr> <td> <strong>SHALL</strong> </td> <td> <a href=\"http://hl7.org/fhir/R4/search.html\">_id</a> </td> <td> token </td> <td align=\"left\"> - </td> </tr><tr> <td> <strong>MAY</strong> </td> <td> <a href=\"http://hl7.org/fhir/R4/search.html\">class</a> </td> <td> token </td> <td align=\"left\"> - </td> </tr><tr> <td> <strong>MAY</strong> </td> <td> <a href=\"http://hl7.org/fhir/R4/search.html\">date</a> </td> <td> date </td> <td align=\"left\"> - </td> </tr><tr> <td> <strong>SHOULD</strong> </td> <td> <a href=\"http://hl7.org/fhir/R4/search.html\">identifier</a> </td> <td> token </td> <td align=\"left\"> - </td> </tr><tr> <td> <strong>SHALL</strong> </td> <td> <a href=\"http://hl7.org/fhir/R4/search.html\">patient</a> </td> <td> reference </td> <td align=\"left\"> - </td> </tr><tr> <td> <strong>MAY</strong> </td> <td> <a href=\"http://hl7.org/fhir/R4/search.html\">status</a> </td> <td> token </td> <td align=\"left\"> - </td> </tr><tr> <td> <strong>MAY</strong> </td> <td> <a href=\"http://hl7.org/fhir/R4/search.html\">type</a> </td> <td> token </td> <td align=\"left\"> - </td> </tr> </tbody> </table> <p>Search Parameter Combination Summary:</p> <table class=\"grid\"> <thead> <tr> <th>Conformance</th> <th>Parameter Combination</th> <th>Types</th> </tr> </thead> <tbody> <tr> <td><strong>SHOULD</strong> </td> <td>class+patient </td> <td>+reference </td> </tr> <tr> <td><strong>SHOULD</strong> </td> <td>patient+status </td> <td>reference+token </td> </tr> <tr> <td><strong>SHOULD</strong> </td> <td>patient+type </td> <td>reference+ </td> </tr> <tr> <td><strong>SHALL</strong> </td> <td>date+patient </td> <td>+reference </td> </tr> </tbody> </table> <hr /> <h4 class=\"no_toc\" id=\"goal\">Goal</h4> <p>Conformance Expectation: <strong>SHALL</strong></p> <p>Supported Profiles: <a href=\"http://hl7.org/fhir/us/core/StructureDefinition/us-core-goal\"></a> </p> <p>Reference Policy: <code>resolves</code></p> <p>Profile Interaction Summary:</p> <ul> <li><strong>SHALL</strong> support <code>search-type</code>, <code>read</code>.</li><li><strong>SHOULD</strong> support <code>vread</code>, <code>history-instance</code>.</li><li><strong>MAY</strong> support <code>history-type</code>.</li> </ul> <p>Fetch and Search Criteria:</p> <ul> <li> A Server <strong>SHALL</strong> be capable of returning a Goal resource using: <code class=\"highlighter-rouge\">GET [base]/Goal/[id]</code> </li> <li> A Server <strong>SHALL</strong> be capable of supporting the following _revincludes: Provenance:target - <code class=\"highlighter-rouge\">GET [base]/Goal?[parameter=value]&amp;_revinclude=Provenance:target</code> </li> </ul> <p>Search Parameter Summary:</p> <table class=\"grid\"> <thead> <tr> <th>Conformance</th> <th>Parameter</th> <th>Type</th> <th>Documentation</th> </tr> </thead> <tbody><tr> <td> <strong>MAY</strong> </td> <td> <a href=\"http://hl7.org/fhir/R4/search.html\">lifecycle-status</a> </td> <td> token </td> <td align=\"left\"> - </td> </tr><tr> <td> <strong>SHALL</strong> </td> <td> <a href=\"http://hl7.org/fhir/R4/search.html\">patient</a> </td> <td> reference </td> <td align=\"left\"> - </td> </tr><tr> <td> <strong>MAY</strong> </td> <td> <a href=\"http://hl7.org/fhir/R4/search.html\">target-date</a> </td> <td> date </td> <td align=\"left\"> - </td> </tr> </tbody> </table> <p>Search Parameter Combination Summary:</p> <table class=\"grid\"> <thead> <tr> <th>Conformance</th> <th>Parameter Combination</th> <th>Types</th> </tr> </thead> <tbody> <tr> <td><strong>SHOULD</strong> </td> <td>patient+lifecycle-status </td> <td>reference+ </td> </tr> <tr> <td><strong>SHOULD</strong> </td> <td>patient+target-date </td> <td>reference+ </td> </tr> </tbody> </table> <hr /> <h4 class=\"no_toc\" id=\"immunization\">Immunization</h4> <p>Conformance Expectation: <strong>SHALL</strong></p> <p>Supported Profiles: <a href=\"http://hl7.org/fhir/us/core/StructureDefinition/us-core-immunization\"></a> </p> <p>Reference Policy: <code>resolves</code></p> <p>Profile Interaction Summary:</p> <ul> <li><strong>SHALL</strong> support <code>search-type</code>, <code>read</code>.</li><li><strong>SHOULD</strong> support <code>vread</code>, <code>history-instance</code>.</li><li><strong>MAY</strong> support <code>history-type</code>.</li> </ul> <p>Fetch and Search Criteria:</p> <ul> <li> A Server <strong>SHALL</strong> be capable of returning a Immunization resource using: <code class=\"highlighter-rouge\">GET [base]/Immunization/[id]</code> </li> <li> A Server <strong>SHALL</strong> be capable of supporting the following _revincludes: Provenance:target - <code class=\"highlighter-rouge\">GET [base]/Immunization?[parameter=value]&amp;_revinclude=Provenance:target</code> </li> </ul> <p>Search Parameter Summary:</p> <table class=\"grid\"> <thead> <tr> <th>Conformance</th> <th>Parameter</th> <th>Type</th> <th>Documentation</th> </tr> </thead> <tbody><tr> <td> <strong>SHALL</strong> </td> <td> <a href=\"http://hl7.org/fhir/R4/search.html\">patient</a> </td> <td> reference </td> <td align=\"left\"> - </td> </tr><tr> <td> <strong>MAY</strong> </td> <td> <a href=\"http://hl7.org/fhir/R4/search.html\">status</a> </td> <td> token </td> <td align=\"left\"> - </td> </tr><tr> <td> <strong>MAY</strong> </td> <td> <a href=\"http://hl7.org/fhir/R4/search.html\">date</a> </td> <td> date </td> <td align=\"left\"> - </td> </tr> </tbody> </table> <p>Search Parameter Combination Summary:</p> <table class=\"grid\"> <thead> <tr> <th>Conformance</th> <th>Parameter Combination</th> <th>Types</th> </tr> </thead> <tbody> <tr> <td><strong>SHOULD</strong> </td> <td>patient+date </td> <td>reference+ </td> </tr> <tr> <td><strong>SHOULD</strong> </td> <td>patient+status </td> <td>reference+token </td> </tr> </tbody> </table> <hr /> <h4 class=\"no_toc\" id=\"location\">Location</h4> <p>Conformance Expectation: <strong>SHALL</strong></p> <p>Supported Profiles: <a href=\"http://hl7.org/fhir/us/core/StructureDefinition/us-core-location\"></a> </p> <p>Reference Policy: <code>resolves</code></p> <p>Profile Interaction Summary:</p> <ul> <li><strong>SHALL</strong> support <code>search-type</code>, <code>read</code>.</li><li><strong>SHOULD</strong> support <code>vread</code>, <code>history-instance</code>.</li><li><strong>MAY</strong> support <code>history-type</code>.</li> </ul> <p>Fetch and Search Criteria:</p> <ul> <li> A Server <strong>SHALL</strong> be capable of returning a Location resource using: <code class=\"highlighter-rouge\">GET [base]/Location/[id]</code> </li> </ul> <p>Search Parameter Summary:</p> <table class=\"grid\"> <thead> <tr> <th>Conformance</th> <th>Parameter</th> <th>Type</th> <th>Documentation</th> </tr> </thead> <tbody><tr> <td> <strong>SHALL</strong> </td> <td> <a href=\"http://hl7.org/fhir/R4/search.html\">name</a> </td> <td> string </td> <td align=\"left\"> - </td> </tr><tr> <td> <strong>SHALL</strong> </td> <td> <a href=\"http://hl7.org/fhir/R4/search.html\">address</a> </td> <td> string </td> <td align=\"left\"> - </td> </tr><tr> <td> <strong>SHOULD</strong> </td> <td> <a href=\"http://hl7.org/fhir/R4/search.html\">address-city</a> </td> <td> string </td> <td align=\"left\"> - </td> </tr><tr> <td> <strong>SHOULD</strong> </td> <td> <a href=\"http://hl7.org/fhir/R4/search.html\">address-state</a> </td> <td> string </td> <td align=\"left\"> - </td> </tr><tr> <td> <strong>SHOULD</strong> </td> <td> <a href=\"http://hl7.org/fhir/R4/search.html\">address-postalcode</a> </td> <td> string </td> <td align=\"left\"> - </td> </tr> </tbody> </table> <hr /> <h4 class=\"no_toc\" id=\"medication\">Medication</h4> <p>Conformance Expectation: <strong>SHALL</strong></p> <p>Supported Profiles: <a href=\"http://hl7.org/fhir/us/core/StructureDefinition/us-core-medication\"></a> </p> <p>Resource Specific Documentation:</p> <blockquote><p>The MedicationRequest resource can represent a medication, using an external reference to a Medication resource. If an external Medication Resourcse is used in a MedicationRequest, then the READ <strong>SHALL</strong> be supported.</p> </blockquote> <p>Reference Policy: <code>resolves</code></p> <p>Profile Interaction Summary:</p> <ul> <li><strong>SHALL</strong> support <code>read</code>.</li><li><strong>SHOULD</strong> support <code>vread</code>, <code>history-instance</code>.</li><li><strong>MAY</strong> support <code>search-type</code>, <code>history-type</code>.</li> </ul> <p>Fetch and Search Criteria:</p> <ul> <li> A Server <strong>SHALL</strong> be capable of returning a Medication resource using: <code class=\"highlighter-rouge\">GET [base]/Medication/[id]</code> </li> </ul> <hr /> <h4 class=\"no_toc\" id=\"medicationrequest\">MedicationRequest</h4> <p>Conformance Expectation: <strong>SHALL</strong></p> <p>Supported Profiles: <a href=\"http://hl7.org/fhir/us/core/StructureDefinition/us-core-medicationrequest\"></a> </p> <p>Resource Specific Documentation:</p> <blockquote><p>The MedicationRequest resources can represent a medication using either a code or refer to the Medication resource. When referencing Medication, the resource may be <a href=\"http://hl7.org/fhir/R4/references.html#contained\">contained</a> or an external resource. The server application <strong>MAY</strong> choose any one way or more than one method, but if an external reference to Medication is used, the server <strong>SHALL</strong> support the _include<code>parameter for searching this element. The client application must support all methods. For example, A server **SHALL** be capable of returning all medications for a patient using one of or both:</code>GET /MedicationRequest?patient=[id]<code></code>GET /MedicationRequest?patient=[id]&amp;_include=MedicationRequest:medication`</p> </blockquote> <p>Reference Policy: <code>resolves</code></p> <p>Profile Interaction Summary:</p> <ul> <li><strong>SHALL</strong> support <code>search-type</code>, <code>read</code>.</li><li><strong>SHOULD</strong> support <code>vread</code>, <code>history-instance</code>.</li><li><strong>MAY</strong> support <code>history-type</code>.</li> </ul> <p>Fetch and Search Criteria:</p> <ul> <li> A Server <strong>SHALL</strong> be capable of returning a MedicationRequest resource using: <code class=\"highlighter-rouge\">GET [base]/MedicationRequest/[id]</code> </li> <li> A Server <strong>SHOULD</strong> be capable of supporting the following _includes: MedicationRequest:medication - <code class=\"highlighter-rouge\">GET [base]/MedicationRequest?[parameter=value]&amp;_include=MedicationRequest:medication</code> </li> <li> A Server <strong>SHALL</strong> be capable of supporting the following _revincludes: Provenance:target - <code class=\"highlighter-rouge\">GET [base]/MedicationRequest?[parameter=value]&amp;_revinclude=Provenance:target</code> </li> </ul> <p>Search Parameter Summary:</p> <table class=\"grid\"> <thead> <tr> <th>Conformance</th> <th>Parameter</th> <th>Type</th> <th>Documentation</th> </tr> </thead> <tbody><tr> <td> <strong>MAY</strong> </td> <td> <a href=\"http://hl7.org/fhir/R4/search.html\">status</a> </td> <td> token </td> <td align=\"left\"> - </td> </tr><tr> <td> <strong>MAY</strong> </td> <td> <a href=\"http://hl7.org/fhir/R4/search.html\">intent</a> </td> <td> token </td> <td align=\"left\"> - </td> </tr><tr> <td> <strong>MAY</strong> </td> <td> <a href=\"http://hl7.org/fhir/R4/search.html\">patient</a> </td> <td> reference </td> <td align=\"left\"> - </td> </tr><tr> <td> <strong>MAY</strong> </td> <td> <a href=\"http://hl7.org/fhir/R4/search.html\">encounter</a> </td> <td> reference </td> <td align=\"left\"> - </td> </tr><tr> <td> <strong>MAY</strong> </td> <td> <a href=\"http://hl7.org/fhir/R4/search.html\">authoredon</a> </td> <td> date </td> <td align=\"left\"> - </td> </tr> </tbody> </table> <p>Search Parameter Combination Summary:</p> <table class=\"grid\"> <thead> <tr> <th>Conformance</th> <th>Parameter Combination</th> <th>Types</th> </tr> </thead> <tbody> <tr> <td><strong>SHALL</strong> </td> <td>patient+intent </td> <td>reference+ </td> </tr> <tr> <td><strong>SHOULD</strong> </td> <td>patient+intent+encounter </td> <td>reference++ </td> </tr> <tr> <td><strong>SHOULD</strong> </td> <td>patient+intent+authoredon </td> <td>reference++ </td> </tr> <tr> <td><strong>SHALL</strong> </td> <td>patient+intent+status </td> <td>reference++token </td> </tr> </tbody> </table> <hr /> <h4 class=\"no_toc\" id=\"medicationdispense\">MedicationDispense</h4> <p>Conformance Expectation: <strong>SHALL</strong></p> <p>Supported Profiles: <a href=\"StructureDefinition-pdex-medicationdispense.html\">PDex MedicationDispense Profile</a> </p> <p>Resource Specific Documentation:</p> <blockquote><p>The MedicationDispense resources can represent a medication using either a code or refer to the Medication resource. When referencing Medication, the resource may be <a href=\"http://hl7.org/fhir/R4/references.html#contained\">contained</a> or an external resource. The server application <strong>MAY</strong> choose any one way or more than one method, but if an external reference to Medication is used, the server <strong>SHALL</strong> support the _include<code>parameter for searching this element. The client application must support all methods. For example, A server **SHALL** be capable of returning all medications for a patient using one of or both:</code>GET /MedicationDispense?patient=[id]<code></code>GET /MedicationDispense?patient=[id]&amp;_include=MedicationDispense:medication`</p> </blockquote> <p>Reference Policy: <code>resolves</code></p> <p>Profile Interaction Summary:</p> <ul> <li><strong>SHALL</strong> support <code>search-type</code>, <code>read</code>.</li><li><strong>SHOULD</strong> support <code>vread</code>, <code>history-instance</code>.</li><li><strong>MAY</strong> support <code>history-type</code>.</li> </ul> <p>Fetch and Search Criteria:</p> <ul> <li> A Server <strong>SHALL</strong> be capable of returning a MedicationDispense resource using: <code class=\"highlighter-rouge\">GET [base]/MedicationDispense/[id]</code> </li> <li> A Server <strong>SHOULD</strong> be capable of supporting the following _includes: MedicationDispense:medication - <code class=\"highlighter-rouge\">GET [base]/MedicationDispense?[parameter=value]&amp;_include=MedicationDispense:medication</code> </li> <li> A Server <strong>SHALL</strong> be capable of supporting the following _revincludes: Provenance:target - <code class=\"highlighter-rouge\">GET [base]/MedicationDispense?[parameter=value]&amp;_revinclude=Provenance:target</code> </li> </ul> <p>Search Parameter Summary:</p> <table class=\"grid\"> <thead> <tr> <th>Conformance</th> <th>Parameter</th> <th>Type</th> <th>Documentation</th> </tr> </thead> <tbody><tr> <td> <strong>MAY</strong> </td> <td> <a href=\"SearchParameter-pdex-medicationdispense-status.html\">status</a> </td> <td> token </td> <td align=\"left\"> - </td> </tr><tr> <td> <strong>MAY</strong> </td> <td> <a href=\"SearchParameter-pdex-medicationdispense-patient.html\">patient</a> </td> <td> reference </td> <td align=\"left\"> - </td> </tr> </tbody> </table> <p>Search Parameter Combination Summary:</p> <table class=\"grid\"> <thead> <tr> <th>Conformance</th> <th>Parameter Combination</th> <th>Types</th> </tr> </thead> <tbody> <tr> <td><strong>SHALL</strong> </td> <td>patient+intent </td> <td>reference+ </td> </tr> <tr> <td><strong>SHOULD</strong> </td> <td>patient+intent </td> <td>reference+ </td> </tr> <tr> <td><strong>SHOULD</strong> </td> <td>patient+intent </td> <td>reference+ </td> </tr> <tr> <td><strong>SHALL</strong> </td> <td>patient+intent+status </td> <td>reference++token </td> </tr> </tbody> </table> <hr /> <h4 class=\"no_toc\" id=\"observation\">Observation</h4> <p>Conformance Expectation: <strong>SHALL</strong></p> <p>Supported Profiles: <a href=\"http://hl7.org/fhir/us/core/StructureDefinition/us-core-smokingstatus\"></a>, <a href=\"http://hl7.org/fhir/us/core/StructureDefinition/pediatric-weight-for-height\"></a>, <a href=\"http://hl7.org/fhir/us/core/StructureDefinition/us-core-observation-lab\"></a>, <a href=\"http://hl7.org/fhir/us/core/StructureDefinition/pediatric-bmi-for-age\"></a>, <a href=\"http://hl7.org/fhir/us/core/StructureDefinition/us-core-pulse-oximetry\"></a>, <a href=\"http://hl7.org/fhir/us/core/StructureDefinition/head-occipital-frontal-circumference-percentile\"></a> </p> <p>Reference Policy: <code>resolves</code></p> <p>Profile Interaction Summary:</p> <ul> <li><strong>SHALL</strong> support <code>search-type</code>, <code>read</code>.</li><li><strong>SHOULD</strong> support <code>vread</code>, <code>history-instance</code>.</li><li><strong>MAY</strong> support <code>history-type</code>.</li> </ul> <p>Fetch and Search Criteria:</p> <ul> <li> A Server <strong>SHALL</strong> be capable of returning a Observation resource using: <code class=\"highlighter-rouge\">GET [base]/Observation/[id]</code> </li> <li> A Server <strong>SHALL</strong> be capable of supporting the following _revincludes: Provenance:target - <code class=\"highlighter-rouge\">GET [base]/Observation?[parameter=value]&amp;_revinclude=Provenance:target</code> </li> </ul> <p>Search Parameter Summary:</p> <table class=\"grid\"> <thead> <tr> <th>Conformance</th> <th>Parameter</th> <th>Type</th> <th>Documentation</th> </tr> </thead> <tbody><tr> <td> <strong>MAY</strong> </td> <td> <a href=\"http://hl7.org/fhir/R4/search.html\">status</a> </td> <td> token </td> <td align=\"left\"> - </td> </tr><tr> <td> <strong>MAY</strong> </td> <td> <a href=\"http://hl7.org/fhir/R4/search.html\">category</a> </td> <td> token </td> <td align=\"left\"> - </td> </tr><tr> <td> <strong>MAY</strong> </td> <td> <a href=\"http://hl7.org/fhir/R4/search.html\">code</a> </td> <td> token </td> <td align=\"left\"> - </td> </tr><tr> <td> <strong>MAY</strong> </td> <td> <a href=\"http://hl7.org/fhir/R4/search.html\">date</a> </td> <td> date </td> <td align=\"left\"> - </td> </tr><tr> <td> <strong>MAY</strong> </td> <td> <a href=\"http://hl7.org/fhir/R4/search.html\">patient</a> </td> <td> reference </td> <td align=\"left\"> - </td> </tr> </tbody> </table> <p>Search Parameter Combination Summary:</p> <table class=\"grid\"> <thead> <tr> <th>Conformance</th> <th>Parameter Combination</th> <th>Types</th> </tr> </thead> <tbody> <tr> <td><strong>SHALL</strong> </td> <td>patient+category+date </td> <td>reference++ </td> </tr> <tr> <td><strong>SHOULD</strong> </td> <td>patient+category+status </td> <td>reference++token </td> </tr> <tr> <td><strong>SHOULD</strong> </td> <td>patient+code+date </td> <td>reference++ </td> </tr> <tr> <td><strong>SHALL</strong> </td> <td>patient+code </td> <td>reference+ </td> </tr> <tr> <td><strong>SHALL</strong> </td> <td>patient+category </td> <td>reference+ </td> </tr> </tbody> </table> <hr /> <h4 class=\"no_toc\" id=\"organization\">Organization</h4> <p>Conformance Expectation: <strong>SHALL</strong></p> <p>Supported Profiles: <a href=\"http://hl7.org/fhir/us/core/StructureDefinition/us-core-organization\"></a> </p> <p>Reference Policy: <code>resolves</code></p> <p>Profile Interaction Summary:</p> <ul> <li><strong>SHALL</strong> support <code>search-type</code>, <code>read</code>.</li><li><strong>SHOULD</strong> support <code>vread</code>, <code>history-instance</code>.</li><li><strong>MAY</strong> support <code>history-type</code>.</li> </ul> <p>Fetch and Search Criteria:</p> <ul> <li> A Server <strong>SHALL</strong> be capable of returning a Organization resource using: <code class=\"highlighter-rouge\">GET [base]/Organization/[id]</code> </li> </ul> <p>Search Parameter Summary:</p> <table class=\"grid\"> <thead> <tr> <th>Conformance</th> <th>Parameter</th> <th>Type</th> <th>Documentation</th> </tr> </thead> <tbody><tr> <td> <strong>SHALL</strong> </td> <td> <a href=\"http://hl7.org/fhir/R4/search.html\">name</a> </td> <td> string </td> <td align=\"left\"> - </td> </tr><tr> <td> <strong>SHALL</strong> </td> <td> <a href=\"http://hl7.org/fhir/R4/search.html\">address</a> </td> <td> string </td> <td align=\"left\"> - </td> </tr> </tbody> </table> <hr /> <h4 class=\"no_toc\" id=\"patient\">Patient</h4> <p>Conformance Expectation: <strong>SHALL</strong></p> <p>Supported Profiles: <a href=\"http://hl7.org/fhir/us/core/StructureDefinition/us-core-patient\"></a> </p> <p>Reference Policy: <code>resolves</code></p> <p>Profile Interaction Summary:</p> <ul> <li><strong>SHALL</strong> support <code>search-type</code>, <code>read</code>.</li><li><strong>SHOULD</strong> support <code>vread</code>, <code>history-instance</code>.</li><li><strong>MAY</strong> support <code>history-type</code>.</li> </ul> <p>Operation Summary:</p> <ul> <li><strong>undefined</strong> support the <a href=\"http://hl7.org/fhir/us/davinci-hrex/OperationDefinition/member-match\">$member-match</a> operation </li> </ul> <p>Fetch and Search Criteria:</p> <ul> <li> A Server <strong>SHALL</strong> be capable of returning a Patient resource using: <code class=\"highlighter-rouge\">GET [base]/Patient/[id]</code> </li> <li> A Server <strong>SHALL</strong> be capable of supporting the following _revincludes: Provenance:target - <code class=\"highlighter-rouge\">GET [base]/Patient?[parameter=value]&amp;_revinclude=Provenance:target</code> </li> </ul> <p>Search Parameter Summary:</p> <table class=\"grid\"> <thead> <tr> <th>Conformance</th> <th>Parameter</th> <th>Type</th> <th>Documentation</th> </tr> </thead> <tbody><tr> <td> <strong>SHALL</strong> </td> <td> <a href=\"http://hl7.org/fhir/R4/search.html\">_id</a> </td> <td> token </td> <td align=\"left\"> - </td> </tr><tr> <td> <strong>MAY</strong> </td> <td> <a href=\"http://hl7.org/fhir/R4/search.html\">birthdate</a> </td> <td> date </td> <td align=\"left\"> - </td> </tr><tr> <td> <strong>MAY</strong> </td> <td> <a href=\"http://hl7.org/fhir/R4/search.html\">family</a> </td> <td> string </td> <td align=\"left\"> - </td> </tr><tr> <td> <strong>MAY</strong> </td> <td> <a href=\"http://hl7.org/fhir/R4/search.html\">gender</a> </td> <td> token </td> <td align=\"left\"> - </td> </tr><tr> <td> <strong>MAY</strong> </td> <td> <a href=\"http://hl7.org/fhir/R4/search.html\">given</a> </td> <td> string </td> <td align=\"left\"> - </td> </tr><tr> <td> <strong>SHALL</strong> </td> <td> <a href=\"http://hl7.org/fhir/R4/search.html\">identifier</a> </td> <td> token </td> <td align=\"left\"> - </td> </tr><tr> <td> <strong>SHALL</strong> </td> <td> <a href=\"http://hl7.org/fhir/R4/search.html\">name</a> </td> <td> string </td> <td align=\"left\"> - </td> </tr> </tbody> </table> <p>Search Parameter Combination Summary:</p> <table class=\"grid\"> <thead> <tr> <th>Conformance</th> <th>Parameter Combination</th> <th>Types</th> </tr> </thead> <tbody> <tr> <td><strong>SHOULD</strong> </td> <td>birthdate+family </td> <td>+ </td> </tr> <tr> <td><strong>SHOULD</strong> </td> <td>family+gender </td> <td>+ </td> </tr> <tr> <td><strong>SHALL</strong> </td> <td>birthdate+name </td> <td>+ </td> </tr> <tr> <td><strong>SHALL</strong> </td> <td>gender+name </td> <td>+ </td> </tr> </tbody> </table> <hr /> <h4 class=\"no_toc\" id=\"practitioner\">Practitioner</h4> <p>Conformance Expectation: <strong>SHALL</strong></p> <p>Supported Profiles: <a href=\"http://hl7.org/fhir/us/core/StructureDefinition/us-core-practitioner\"></a> </p> <p>Reference Policy: <code>resolves</code></p> <p>Profile Interaction Summary:</p> <ul> <li><strong>SHALL</strong> support <code>search-type</code>, <code>read</code>.</li><li><strong>SHOULD</strong> support <code>vread</code>, <code>history-instance</code>.</li><li><strong>MAY</strong> support <code>history-type</code>.</li> </ul> <p>Fetch and Search Criteria:</p> <ul> <li> A Server <strong>SHALL</strong> be capable of returning a Practitioner resource using: <code class=\"highlighter-rouge\">GET [base]/Practitioner/[id]</code> </li> </ul> <p>Search Parameter Summary:</p> <table class=\"grid\"> <thead> <tr> <th>Conformance</th> <th>Parameter</th> <th>Type</th> <th>Documentation</th> </tr> </thead> <tbody><tr> <td> <strong>SHALL</strong> </td> <td> <a href=\"http://hl7.org/fhir/R4/search.html\">name</a> </td> <td> string </td> <td align=\"left\"> - </td> </tr><tr> <td> <strong>SHALL</strong> </td> <td> <a href=\"http://hl7.org/fhir/R4/search.html\">identifier</a> </td> <td> token </td> <td align=\"left\"> - </td> </tr> </tbody> </table> <hr /> <h4 class=\"no_toc\" id=\"practitionerrole\">PractitionerRole</h4> <p>Conformance Expectation: <strong>SHALL</strong></p> <p>Supported Profiles: <a href=\"http://hl7.org/fhir/us/core/StructureDefinition/us-core-practitionerrole\"></a> </p> <p>Reference Policy: <code>resolves</code></p> <p>Profile Interaction Summary:</p> <ul> <li><strong>SHALL</strong> support <code>search-type</code>, <code>read</code>.</li><li><strong>SHOULD</strong> support <code>vread</code>, <code>history-instance</code>.</li><li><strong>MAY</strong> support <code>history-type</code>.</li> </ul> <p>Fetch and Search Criteria:</p> <ul> <li> A Server <strong>SHALL</strong> be capable of returning a PractitionerRole resource using: <code class=\"highlighter-rouge\">GET [base]/PractitionerRole/[id]</code> </li> <li> A Server <strong>SHOULD</strong> be capable of supporting the following _includes: PractitionerRole:endpoint - <code class=\"highlighter-rouge\">GET [base]/PractitionerRole?[parameter=value]&amp;_include=PractitionerRole:endpoint</code> PractitionerRole:practitioner - <code class=\"highlighter-rouge\">GET [base]/PractitionerRole?[parameter=value]&amp;_include=PractitionerRole:practitioner</code> </li> </ul> <p>Search Parameter Summary:</p> <table class=\"grid\"> <thead> <tr> <th>Conformance</th> <th>Parameter</th> <th>Type</th> <th>Documentation</th> </tr> </thead> <tbody><tr> <td> <strong>SHALL</strong> </td> <td> <a href=\"http://hl7.org/fhir/R4/search.html\">specialty</a> </td> <td> token </td> <td align=\"left\"> - </td> </tr><tr> <td> <strong>SHALL</strong> </td> <td> <a href=\"http://hl7.org/fhir/R4/search.html\">practitioner</a> </td> <td> reference </td> <td align=\"left\"> - </td> </tr> </tbody> </table> <hr /> <h4 class=\"no_toc\" id=\"procedure\">Procedure</h4> <p>Conformance Expectation: <strong>SHALL</strong></p> <p>Supported Profiles: <a href=\"http://hl7.org/fhir/us/core/StructureDefinition/us-core-procedure\"></a> </p> <p>Reference Policy: <code>resolves</code></p> <p>Profile Interaction Summary:</p> <ul> <li><strong>SHALL</strong> support <code>search-type</code>, <code>read</code>.</li><li><strong>SHOULD</strong> support <code>vread</code>, <code>history-instance</code>.</li><li><strong>MAY</strong> support <code>history-type</code>.</li> </ul> <p>Fetch and Search Criteria:</p> <ul> <li> A Server <strong>SHALL</strong> be capable of returning a Procedure resource using: <code class=\"highlighter-rouge\">GET [base]/Procedure/[id]</code> </li> <li> A Server <strong>SHALL</strong> be capable of supporting the following _revincludes: Provenance:target - <code class=\"highlighter-rouge\">GET [base]/Procedure?[parameter=value]&amp;_revinclude=Provenance:target</code> </li> </ul> <p>Search Parameter Summary:</p> <table class=\"grid\"> <thead> <tr> <th>Conformance</th> <th>Parameter</th> <th>Type</th> <th>Documentation</th> </tr> </thead> <tbody><tr> <td> <strong>MAY</strong> </td> <td> <a href=\"http://hl7.org/fhir/R4/search.html\">status</a> </td> <td> token </td> <td align=\"left\"> - </td> </tr><tr> <td> <strong>SHALL</strong> </td> <td> <a href=\"http://hl7.org/fhir/R4/search.html\">patient</a> </td> <td> reference </td> <td align=\"left\"> - </td> </tr><tr> <td> <strong>MAY</strong> </td> <td> <a href=\"http://hl7.org/fhir/R4/search.html\">date</a> </td> <td> date </td> <td align=\"left\"> - </td> </tr><tr> <td> <strong>MAY</strong> </td> <td> <a href=\"http://hl7.org/fhir/R4/search.html\">code</a> </td> <td> token </td> <td align=\"left\"> - </td> </tr> </tbody> </table> <p>Search Parameter Combination Summary:</p> <table class=\"grid\"> <thead> <tr> <th>Conformance</th> <th>Parameter Combination</th> <th>Types</th> </tr> </thead> <tbody> <tr> <td><strong>SHALL</strong> </td> <td>patient+date </td> <td>reference+ </td> </tr> <tr> <td><strong>SHOULD</strong> </td> <td>patient+status </td> <td>reference+token </td> </tr> <tr> <td><strong>SHOULD</strong> </td> <td>patient+code+date </td> <td>reference++ </td> </tr> </tbody> </table> <hr /> <h4 class=\"no_toc\" id=\"provenance\">Provenance</h4> <p>Conformance Expectation: <strong>SHALL</strong></p> <p>Supported Profiles: <a href=\"StructureDefinition-pdex-provenance.html\">PDex Provenance</a>, <a href=\"http://hl7.org/fhir/us/core/StructureDefinition/us-core-provenance\"></a> </p> <p>Resource Specific Documentation:</p> <blockquote><p>If a system receives a provider in <code>Provenance.agent.who</code> as free text they must capture who sent them the information as the organization. On request they <strong>SHALL</strong> provide this organization as the source and <strong>MAY</strong> include the free text provider.</p> </blockquote> <p>Reference Policy: <code>resolves</code></p> <p>Profile Interaction Summary:</p> <ul> <li><strong>SHALL</strong> support <code>read</code>.</li><li><strong>SHOULD</strong> support <code>vread</code>, <code>history-instance</code>.</li><li><strong>MAY</strong> support <code>search-type</code>, <code>patch</code>, <code>history-type</code>.</li> </ul> <p>Fetch and Search Criteria:</p> <ul> <li> A Server <strong>SHALL</strong> be capable of returning a Provenance resource using: <code class=\"highlighter-rouge\">GET [base]/Provenance/[id]</code> </li> </ul> <hr /> <h4 class=\"no_toc\" id=\"valueset\">ValueSet</h4> <p>Conformance Expectation: <strong>SHOULD</strong></p> <p>Operation Summary:</p> <ul> <li><strong>SHOULD</strong> support the <a href=\"http://hl7.org/fhir/OperationDefinition/ValueSet-expand\">$expand</a> operation <p>A client can determine the note and report types support by a server by invoking the standard FHIR Value Set Expansion ($expand) operation defined in the FHIR R4 specification. Because servers may support different read and write formats, it also is used to determine the formats (for example, text, pdf) the server supports read and write transactions.</p> </li> </ul> <hr /> </div>"
      ],
      "text/plain": [
       "<IPython.core.display.HTML object>"
      ]
     },
     "metadata": {},
     "output_type": "display_data"
    }
   ],
   "source": [
    "def x_minify(xhtml):\n",
    "    h_min=minify(xhtml, remove_optional_attribute_quotes=False, remove_comments=True)\n",
    "    x_min = h_min.replace('<br>','<br />')\n",
    "    x_min = x_min.replace('<hr>','<hr />')\n",
    "    return x_min\n",
    "\n",
    "mini = x_minify(rendered)\n",
    "#print(type(mini))\n",
    "#print(mini)\n",
    "#display(HTML(rendered))\n",
    "display(HTML(mini))\n",
    "\n",
    "'''\n",
    "#======== write to temp file to debug =======\n",
    "path = Path.cwd() / 'debug' / 'narrative_pre.xhtml'\n",
    "path.write_text(rendered, encoding=\"utf-8\")\n",
    "path = Path.cwd() / 'debug' / 'narrative_mini_pre.xhtml'\n",
    "path.write_text(mini, encoding=\"utf-8\")\n",
    "#===================================================\n",
    "'''\n",
    "narr = N.Narrative()\n",
    "narr.status = 'generated'\n",
    "narr.div = mini\n",
    "cs_py.text = narr"
   ]
  },
  {
   "cell_type": "markdown",
   "metadata": {},
   "source": [
    "### TODO: add validation step"
   ]
  },
  {
   "cell_type": "code",
   "execution_count": 79,
   "metadata": {},
   "outputs": [
    {
     "data": {
      "text/html": [
       "<h1>Validation output</h1><h3>Status Code = 500</h3> <div xmlns=\"http://www.w3.org/1999/xhtml\"><h1>Operation Outcome</h1><table border=\"0\"><tr><td style=\"font-weight: bold;\">ERROR</td><td>[]</td><td><pre>Failed to call access method: org.springframework.dao.InvalidDataAccessApiUsageException: Can't fetch resource type: SearchParameter; nested exception is java.lang.IllegalArgumentException: Can't fetch resource type: SearchParameter</pre></td>\n",
       "\t\t\t\t\t\n",
       "\t\t\t\t\n",
       "\t\t\t</tr>\n",
       "\t\t</table>\n",
       "\t</div>"
      ],
      "text/plain": [
       "<IPython.core.display.HTML object>"
      ]
     },
     "metadata": {},
     "output_type": "display_data"
    }
   ],
   "source": [
    "def validate(r):\n",
    "    #fhir_test_server = 'http://fhirtest.uhn.ca/baseDstu3'\n",
    "    #fhir_test_server = 'http://test.fhir.org/r3'\n",
    "    #fhir_test_server = 'http://test.fhir.org/r4'\n",
    "    #fhir_test_server ='http://wildfhir4.aegis.net/fhir4-0-0'\n",
    "    #fhir_test_server ='http://wildfhir4.aegis.net/fhir4-0-0'\n",
    "    fhir_test_server ='http://hapi.fhir.org/baseR4'\n",
    "  \n",
    "\n",
    "    headers = {\n",
    "    'Accept':'application/fhir+json',\n",
    "    'Content-Type':'application/fhir+json'\n",
    "    }\n",
    "    \n",
    "    r = post(f'{fhir_test_server}/CapabilityStatement/$validate', headers = headers, data = dumps(cs_py.as_json()) )   # return r.status_code\n",
    "    display(HTML(f'<h1>Validation output</h1><h3>Status Code = {r.status_code}</h3> {r.json()[\"text\"][\"div\"]}'))\n",
    "\n",
    "validate(cs_py)"
   ]
  },
  {
   "cell_type": "markdown",
   "metadata": {},
   "source": [
    "### Save to local dir"
   ]
  },
  {
   "cell_type": "code",
   "execution_count": 80,
   "metadata": {},
   "outputs": [
    {
     "name": "stdout",
     "output_type": "stream",
     "text": [
      "...........saving to file............\n"
     ]
    },
    {
     "data": {
      "text/plain": [
       "221589"
      ]
     },
     "execution_count": 80,
     "metadata": {},
     "output_type": "execute_result"
    }
   ],
   "source": [
    "# save to file\n",
    "ig_source_path = ''\n",
    "print('...........saving to file............')\n",
    "#save in ig_source folder\n",
    "path = Path.cwd() / ig_source_path / 'resources' / f'capabilitystatement-{cs_py.id.lower()}.json'\n",
    "path.write_text(dumps(cs_py.as_json(), indent=4))"
   ]
  },
  {
   "cell_type": "code",
   "execution_count": null,
   "metadata": {},
   "outputs": [],
   "source": []
  }
 ],
 "metadata": {
  "kernelspec": {
   "display_name": "Python 3",
   "language": "python",
   "name": "python3"
  },
  "language_info": {
   "codemirror_mode": {
    "name": "ipython",
    "version": 3
   },
   "file_extension": ".py",
   "mimetype": "text/x-python",
   "name": "python",
   "nbconvert_exporter": "python",
   "pygments_lexer": "ipython3",
   "version": "3.7.1"
  }
 },
 "nbformat": 4,
 "nbformat_minor": 2
}
