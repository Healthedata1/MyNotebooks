{
 "cells": [
  {
   "cell_type": "markdown",
   "metadata": {},
   "source": [
    "## generate narrative from resource"
   ]
  },
  {
   "cell_type": "markdown",
   "metadata": {},
   "source": [
    "### import modules"
   ]
  },
  {
   "cell_type": "code",
   "execution_count": 50,
   "metadata": {},
   "outputs": [],
   "source": [
    "from fhir.resources import construct_fhir_element\n",
    "from json import dumps, loads\n",
    "from requests import get, post, put\n",
    "from pathlib import Path\n",
    "from IPython.display import display as Display, HTML, Markdown, Javascript\n",
    "import ipywidgets as widgets\n",
    "from pprint import pprint\n",
    "from collections import namedtuple\n",
    "from pandas import *\n",
    "from datetime import datetime, date, timezone, timedelta\n",
    "from jinja2 import Environment, FileSystemLoader, select_autoescape\n",
    "from stringcase import snakecase, titlecase\n",
    "from commonmark import commonmark\n",
    "from htmlmin import minify"
   ]
  },
  {
   "cell_type": "markdown",
   "metadata": {},
   "source": [
    "### Define variables"
   ]
  },
  {
   "cell_type": "markdown",
   "metadata": {},
   "source": [
    "#### get CapStatement as json"
   ]
  },
  {
   "cell_type": "code",
   "execution_count": 51,
   "metadata": {},
   "outputs": [
    {
     "name": "stdin",
     "output_type": "stream",
     "text": [
      "enter the CapStatment file name: capabilitystatement-data-consumer-client.json\n"
     ]
    }
   ],
   "source": [
    "fname = input('enter the CapStatment file name:')"
   ]
  },
  {
   "cell_type": "code",
   "execution_count": 52,
   "metadata": {},
   "outputs": [
    {
     "name": "stdout",
     "output_type": "stream",
     "text": [
      "data-consumer-client\n"
     ]
    }
   ],
   "source": [
    "path = Path.cwd() / 'cs_source_file'/ fname\n",
    "cs_py = construct_fhir_element('CapabilityStatement',path.read_text())\n",
    "print(cs_py.id)"
   ]
  },
  {
   "cell_type": "markdown",
   "metadata": {},
   "source": [
    "### Create Profile url:Name mappings"
   ]
  },
  {
   "cell_type": "code",
   "execution_count": 53,
   "metadata": {},
   "outputs": [
    {
     "data": {
      "text/plain": [
       "{'http://hl7.org/fhir/us/davinci-pas/StructureDefinition/profile-claim': 'Profile Claim',\n",
       " 'http://hl7.org/fhir/us/davinci-cdex/StructureDefinition/cdex-task-data-request': 'Cdex Task Data Request'}"
      ]
     },
     "execution_count": 53,
     "metadata": {},
     "output_type": "execute_result"
    }
   ],
   "source": [
    "# this is wrong if for most IGs should be supportedProfiles not Profiles\n",
    "pname_map = {r.profile:titlecase(r.profile.split('/')[-1]) for r in cs_py.rest[0].resource if r.profile}\n",
    "#add in supported Profiles too\n",
    "spname_map = {sp:titlecase(sp.split('/')[-1]) for \\\n",
    "              r in cs_py.rest[0].resource if r.supportedProfile for sp in r.supportedProfile}\n",
    "#flatten_matrix = [val for sublist in matrix for val in sublist] \n",
    "\n",
    "# Adding elements from dict2 to dict1\n",
    "pname_map.update(spname_map)\n",
    "pname_map"
   ]
  },
  {
   "cell_type": "markdown",
   "metadata": {},
   "source": [
    "### get pathmap from package file\n",
    "- Get spec_internal from package a json file which includes canonical to local relative page links"
   ]
  },
  {
   "cell_type": "code",
   "execution_count": 54,
   "metadata": {},
   "outputs": [
    {
     "name": "stdin",
     "output_type": "stream",
     "text": [
      "Get package path to download: http://build.fhir.org/ig/HL7/davinci-ecdx/package.tgz\n"
     ]
    }
   ],
   "source": [
    "ig_package = input(\"Get package path to download:\")"
   ]
  },
  {
   "cell_type": "code",
   "execution_count": 55,
   "metadata": {},
   "outputs": [
    {
     "data": {
      "text/plain": [
       "261656"
      ]
     },
     "execution_count": 55,
     "metadata": {},
     "output_type": "execute_result"
    }
   ],
   "source": [
    "r = get(ig_package, verify=False)\n",
    "r.status_code\n",
    "#write to file\n",
    "path = Path.cwd() /  'cs_source_file' / ig_package.split('/')[-1]\n",
    "path.write_bytes(r.content)"
   ]
  },
  {
   "cell_type": "code",
   "execution_count": 56,
   "metadata": {},
   "outputs": [
    {
     "name": "stdout",
     "output_type": "stream",
     "text": [
      "/Users/ehaas/Documents/Python/MyNotebooks/CapStatement/cs_source_file/package.tgz\n",
      "['package/package.json',\n",
      " 'package/ig-r4.json',\n",
      " 'package/ImplementationGuide-hl7.fhir.us.davinci-cdex.json',\n",
      " 'package/StructureDefinition-cdex-task-data-request.json',\n",
      " 'package/CapabilityStatement-data-consumer-server.json',\n",
      " 'package/ValueSet-cdex-attachment-reason.json',\n",
      " 'package/CapabilityStatement-data-consumer-client.json',\n",
      " 'package/CapabilityStatement-data-source-server.json',\n",
      " 'package/CodeSystem-cdex-temp.json',\n",
      " 'package/ValueSet-cdex-POU.json',\n",
      " 'package/OperationDefinition-submit-attachment.json',\n",
      " 'package/CapabilityStatement-data-source-client.json',\n",
      " 'package/ValueSet-cdex-work-queue.json',\n",
      " 'package/example/Task-cdex-example1-authorized-request.json',\n",
      " 'package/example/Bundle-cdex-document-digital-sig-example.json',\n",
      " 'package/example/Task-cdex-example1-query-completed-contained.json',\n",
      " 'package/example/Task-cdex-example1s-query-requested-withsig.json',\n",
      " 'package/example/Bundle-cdex-electronic-sig-example.json',\n",
      " 'package/example/Task-cdex-example3-query-requested.json',\n",
      " 'package/example/Task-cdex-example3-query-completed.json',\n",
      " 'package/example/Task-cdex-example1s-query-withsig-completed.json',\n",
      " 'package/example/Task-cdex-example2-query-requested.json',\n",
      " 'package/example/Task-cdex-example2-query-failed.json',\n",
      " 'package/example/Bundle-cdex-searchset-digital-sig-example.json',\n",
      " 'package/example/Task-cdex-example1-query-requested.json',\n",
      " 'package/example/Task-cdex-example1p-free-text-completed.json',\n",
      " 'package/example/Task-cdex-example1-query-completed.json',\n",
      " 'package/example/Task-cdex-example1-free-text-completed.json',\n",
      " 'package/example/Task-cdex-example1-authorized-completed.json',\n",
      " 'package/example/Task-cdex-example1-free-text-request.json',\n",
      " 'package/example/Task-cdex-example1p-query-completed.json',\n",
      " 'package/xml/StructureDefinition-cdex-task-data-request.sch',\n",
      " 'package/openapi/data-consumer-server.openapi.json',\n",
      " 'package/openapi/data-consumer-client.openapi.json',\n",
      " 'package/openapi/data-source-server.openapi.json',\n",
      " 'package/openapi/data-source-client.openapi.json',\n",
      " 'package/other/spec.internals',\n",
      " 'package/other/validation-summary.json',\n",
      " 'package/other/validation-oo.json',\n",
      " 'package/.index.json']\n"
     ]
    },
    {
     "data": {
      "text/plain": [
       "{'http://hl7.org/fhir/us/davinci-cdex/ImplementationGuide/hl7.fhir.us.davinci-cdex|1.0.0': '1.0.0/ImplementationGuide-hl7.fhir.us.davinci-cdex.html',\n",
       " 'http://hl7.org/fhir/us/davinci-cdex/ImplementationGuide/hl7.fhir.us.davinci-cdex': 'ImplementationGuide-hl7.fhir.us.davinci-cdex.html',\n",
       " 'http://hl7.org/fhir/us/davinci-cdex/StructureDefinition/cdex-task-data-request|1.0.0': '1.0.0/StructureDefinition-cdex-task-data-request.html',\n",
       " 'http://hl7.org/fhir/us/davinci-cdex/StructureDefinition/cdex-task-data-request': 'StructureDefinition-cdex-task-data-request.html',\n",
       " 'http://hl7.org/fhir/us/davinci-cdex/CapabilityStatement/data-consumer-server|1.0.0': '1.0.0/CapabilityStatement-data-consumer-server.html',\n",
       " 'http://hl7.org/fhir/us/davinci-cdex/CapabilityStatement/data-consumer-server': 'CapabilityStatement-data-consumer-server.html',\n",
       " 'http://hl7.org/fhir/us/davinci-cdex/ValueSet/cdex-attachment-reason|1.0.0': '1.0.0/ValueSet-cdex-attachment-reason.html',\n",
       " 'http://hl7.org/fhir/us/davinci-cdex/ValueSet/cdex-attachment-reason': 'ValueSet-cdex-attachment-reason.html',\n",
       " 'http://hl7.org/fhir/us/davinci-cdex/CapabilityStatement/data-consumer-client|1.0.0': '1.0.0/CapabilityStatement-data-consumer-client.html',\n",
       " 'http://hl7.org/fhir/us/davinci-cdex/CapabilityStatement/data-consumer-client': 'CapabilityStatement-data-consumer-client.html',\n",
       " 'http://hl7.org/fhir/us/davinci-cdex/CapabilityStatement/data-source-server|1.0.0': '1.0.0/CapabilityStatement-data-source-server.html',\n",
       " 'http://hl7.org/fhir/us/davinci-cdex/CapabilityStatement/data-source-server': 'CapabilityStatement-data-source-server.html',\n",
       " 'http://hl7.org/fhir/us/davinci-cdex/CodeSystem/cdex-temp|1.0.0': '1.0.0/CodeSystem-cdex-temp.html',\n",
       " 'http://hl7.org/fhir/us/davinci-cdex/CodeSystem/cdex-temp': 'CodeSystem-cdex-temp.html',\n",
       " 'http://hl7.org/fhir/us/davinci-cdex/ValueSet/cdex-POU|1.0.0': '1.0.0/ValueSet-cdex-POU.html',\n",
       " 'http://hl7.org/fhir/us/davinci-cdex/ValueSet/cdex-POU': 'ValueSet-cdex-POU.html',\n",
       " 'http://hl7.org/fhir/us/davinci-cdex/OperationDefinition/submit-attachment|1.0.0': '1.0.0/OperationDefinition-submit-attachment.html',\n",
       " 'http://hl7.org/fhir/us/davinci-cdex/OperationDefinition/submit-attachment': 'OperationDefinition-submit-attachment.html',\n",
       " 'http://hl7.org/fhir/us/davinci-cdex/CapabilityStatement/data-source-client|1.0.0': '1.0.0/CapabilityStatement-data-source-client.html',\n",
       " 'http://hl7.org/fhir/us/davinci-cdex/CapabilityStatement/data-source-client': 'CapabilityStatement-data-source-client.html',\n",
       " 'http://hl7.org/fhir/us/davinci-cdex/ValueSet/cdex-work-queue|1.0.0': '1.0.0/ValueSet-cdex-work-queue.html',\n",
       " 'http://hl7.org/fhir/us/davinci-cdex/ValueSet/cdex-work-queue': 'ValueSet-cdex-work-queue.html',\n",
       " 'http://hl7.org/fhir/us/davinci-cdex/Task/cdex-example1-authorized-request': 'Task-cdex-example1-authorized-request.html',\n",
       " 'http://hl7.org/fhir/us/davinci-cdex/Bundle/cdex-document-digital-sig-example': 'Bundle-cdex-document-digital-sig-example.html',\n",
       " 'http://hl7.org/fhir/us/davinci-cdex/Task/cdex-example1-query-completed-contained': 'Task-cdex-example1-query-completed-contained.html',\n",
       " 'http://hl7.org/fhir/us/davinci-cdex/Task/cdex-example1s-query-requested-withsig': 'Task-cdex-example1s-query-requested-withsig.html',\n",
       " 'http://hl7.org/fhir/us/davinci-cdex/Bundle/cdex-electronic-sig-example': 'Bundle-cdex-electronic-sig-example.html',\n",
       " 'http://hl7.org/fhir/us/davinci-cdex/Task/cdex-example3-query-requested': 'Task-cdex-example3-query-requested.html',\n",
       " 'http://hl7.org/fhir/us/davinci-cdex/Task/cdex-example3-query-completed': 'Task-cdex-example3-query-completed.html',\n",
       " 'http://hl7.org/fhir/us/davinci-cdex/Task/cdex-example1s-query-withsig-completed': 'Task-cdex-example1s-query-withsig-completed.html',\n",
       " 'http://hl7.org/fhir/us/davinci-cdex/Task/cdex-example2-query-requested': 'Task-cdex-example2-query-requested.html',\n",
       " 'http://hl7.org/fhir/us/davinci-cdex/Task/cdex-example2-query-failed': 'Task-cdex-example2-query-failed.html',\n",
       " 'http://hl7.org/fhir/us/davinci-cdex/Bundle/cdex-searchset-digital-sig-example': 'Bundle-cdex-searchset-digital-sig-example.html',\n",
       " 'http://hl7.org/fhir/us/davinci-cdex/Task/cdex-example1-query-requested': 'Task-cdex-example1-query-requested.html',\n",
       " 'http://hl7.org/fhir/us/davinci-cdex/Task/cdex-example1p-free-text-completed': 'Task-cdex-example1p-free-text-completed.html',\n",
       " 'http://hl7.org/fhir/us/davinci-cdex/Task/cdex-example1-query-completed': 'Task-cdex-example1-query-completed.html',\n",
       " 'http://hl7.org/fhir/us/davinci-cdex/Task/cdex-example1-free-text-completed': 'Task-cdex-example1-free-text-completed.html',\n",
       " 'http://hl7.org/fhir/us/davinci-cdex/Task/cdex-example1-authorized-completed': 'Task-cdex-example1-authorized-completed.html',\n",
       " 'http://hl7.org/fhir/us/davinci-cdex/Task/cdex-example1-free-text-request': 'Task-cdex-example1-free-text-request.html',\n",
       " 'http://hl7.org/fhir/us/davinci-cdex/Task/cdex-example1p-query-completed': 'Task-cdex-example1p-query-completed.html'}"
      ]
     },
     "execution_count": 56,
     "metadata": {},
     "output_type": "execute_result"
    }
   ],
   "source": [
    "import tarfile\n",
    "\n",
    "def get_si(tar_file):\n",
    "    print(path)\n",
    "    with tarfile.open(tar_file, mode='r') as tf:\n",
    "        pprint(tf.getnames())\n",
    "        f = tf.extractfile('package/other/spec.internals')\n",
    "        r = f.read()\n",
    "        return(loads(r))\n",
    "\n",
    "\n",
    "si = get_si(path)\n",
    "       \n",
    "path_map = si['paths']\n",
    "\n",
    "\n",
    "#can = 'http://hl7.org/fhir/us/carin/StructureDefinition/carin-bb-explanationofbenefit-inpatient-facility'\n",
    "#path_map[can]\n",
    "path_map"
   ]
  },
  {
   "cell_type": "markdown",
   "metadata": {},
   "source": [
    "### Get URL:Name/Title mapping from package file"
   ]
  },
  {
   "cell_type": "code",
   "execution_count": 57,
   "metadata": {},
   "outputs": [
    {
     "name": "stdout",
     "output_type": "stream",
     "text": [
      "/Users/ehaas/Documents/Python/MyNotebooks/CapStatement/cs_source_file/package.tgz\n",
      "****package/example/Task-cdex-example1-authorized-request.jsonis not a conf resource***\n",
      "****package/example/Bundle-cdex-document-digital-sig-example.jsonis not a conf resource***\n",
      "****package/example/Task-cdex-example1-query-completed-contained.jsonis not a conf resource***\n",
      "****package/example/Task-cdex-example1s-query-requested-withsig.jsonis not a conf resource***\n",
      "****package/example/Bundle-cdex-electronic-sig-example.jsonis not a conf resource***\n",
      "****package/example/Task-cdex-example3-query-requested.jsonis not a conf resource***\n",
      "****package/example/Task-cdex-example3-query-completed.jsonis not a conf resource***\n",
      "****package/example/Task-cdex-example1s-query-withsig-completed.jsonis not a conf resource***\n",
      "****package/example/Task-cdex-example2-query-requested.jsonis not a conf resource***\n",
      "****package/example/Task-cdex-example2-query-failed.jsonis not a conf resource***\n",
      "****package/example/Bundle-cdex-searchset-digital-sig-example.jsonis not a conf resource***\n",
      "****package/example/Task-cdex-example1-query-requested.jsonis not a conf resource***\n",
      "****package/example/Task-cdex-example1p-free-text-completed.jsonis not a conf resource***\n",
      "****package/example/Task-cdex-example1-query-completed.jsonis not a conf resource***\n",
      "****package/example/Task-cdex-example1-free-text-completed.jsonis not a conf resource***\n",
      "****package/example/Task-cdex-example1-authorized-completed.jsonis not a conf resource***\n",
      "****package/example/Task-cdex-example1-free-text-request.jsonis not a conf resource***\n",
      "****package/example/Task-cdex-example1p-query-completed.jsonis not a conf resource***\n",
      "****package/openapi/data-consumer-server.openapi.jsonis not a conf resource***\n",
      "****package/openapi/data-consumer-client.openapi.jsonis not a conf resource***\n",
      "****package/openapi/data-source-server.openapi.jsonis not a conf resource***\n",
      "****package/openapi/data-source-client.openapi.jsonis not a conf resource***\n",
      "****package/other/spec.internalsis not a conf resource***\n",
      "****package/other/validation-summary.jsonis not a conf resource***\n",
      "****package/other/validation-oo.jsonis not a conf resource***\n",
      "****package/.index.jsonis not a conf resource***\n"
     ]
    },
    {
     "data": {
      "text/plain": [
       "{'https://build.fhir.org/ig/HL7/davinci-ecdx/': 'Da Vinci Clinical Data Exchange (CDex) Implementation Guide',\n",
       " 'http://hl7.org/fhir/us/davinci-cdex/ImplementationGuide/hl7.fhir.us.davinci-cdex': 'Da Vinci Clinical Data Exchange (CDex) Implementation Guide',\n",
       " 'http://hl7.org/fhir/us/davinci-cdex/StructureDefinition/cdex-task-data-request': 'CDex Task Data Request Profile',\n",
       " 'http://hl7.org/fhir/us/davinci-cdex/CapabilityStatement/data-consumer-server': 'Data Consumer Server CapabilityStatement',\n",
       " 'http://hl7.org/fhir/us/davinci-cdex/ValueSet/cdex-attachment-reason': 'CDex Attachment Reason Value Set',\n",
       " 'http://hl7.org/fhir/us/davinci-cdex/CapabilityStatement/data-consumer-client': 'Data Consumer Client CapabilityStatement',\n",
       " 'http://hl7.org/fhir/us/davinci-cdex/CapabilityStatement/data-source-server': 'Data Source Server CapabilityStatement',\n",
       " 'http://hl7.org/fhir/us/davinci-cdex/CodeSystem/cdex-temp': 'CDex Temporary Code System',\n",
       " 'http://hl7.org/fhir/us/davinci-cdex/ValueSet/cdex-POU': 'CDex Purpose of Use Value Set',\n",
       " 'http://hl7.org/fhir/us/davinci-cdex/OperationDefinition/submit-attachment': 'Submit Attachment Operation',\n",
       " 'http://hl7.org/fhir/us/davinci-cdex/CapabilityStatement/data-source-client': 'Data Source Client CapabilityStatement',\n",
       " 'http://hl7.org/fhir/us/davinci-cdex/ValueSet/cdex-work-queue': 'CDex Work Queue Value Set'}"
      ]
     },
     "execution_count": 57,
     "metadata": {},
     "output_type": "execute_result"
    }
   ],
   "source": [
    "from json import JSONDecodeError\n",
    "def get_name_map(tar_file):\n",
    "    print(path)\n",
    "    name_map = {}\n",
    "    with tarfile.open(tar_file, mode='r') as tf:\n",
    "        for p_file in tf.getnames():\n",
    "            #print(p_file)\n",
    "            f = tf.extractfile(p_file)\n",
    "            r = f.read()\n",
    "            #print(type(r))\n",
    "            try:\n",
    "                r_dict = loads(r)\n",
    "            except JSONDecodeError: # not a json file\n",
    "                continue\n",
    "            try:\n",
    "                name_map[r_dict['url']] = r_dict['title']\n",
    "                #print(r_dict['title'])\n",
    "            except KeyError:\n",
    "                try:\n",
    "                    name_map[r_dict['url']] = r_dict['name']\n",
    "                    #print(r_dict['name'])\n",
    "                except KeyError: # not a conf resource\n",
    "                    print(f'****{p_file}is not a conf resource***')\n",
    "        return(name_map)\n",
    "\n",
    "\n",
    "name_map = get_name_map(path)\n",
    "name_map       "
   ]
  },
  {
   "cell_type": "markdown",
   "metadata": {},
   "source": [
    "### Get SearchParameter parameter name: type mapping from package file"
   ]
  },
  {
   "cell_type": "code",
   "execution_count": 58,
   "metadata": {},
   "outputs": [
    {
     "name": "stdout",
     "output_type": "stream",
     "text": [
      "/Users/ehaas/Documents/Python/MyNotebooks/CapStatement/cs_source_file/package.tgz\n"
     ]
    },
    {
     "data": {
      "text/plain": [
       "{}"
      ]
     },
     "execution_count": 58,
     "metadata": {},
     "output_type": "execute_result"
    }
   ],
   "source": [
    "def get_sp_map(tar_file):\n",
    "    print(path)\n",
    "    sp_map = {}\n",
    "    with tarfile.open(tar_file, mode='r') as tf:\n",
    "        for p_file in tf.getnames():\n",
    "            #print(p_file)\n",
    "            if 'searchparameter' in p_file.lower():\n",
    "                print(f'**********{p_file}')\n",
    "                f = tf.extractfile(p_file)\n",
    "                r = f.read()\n",
    "                #print(type(r))\n",
    "                try:\n",
    "                    r_dict = loads(r)\n",
    "                except JSONDecodeError: # not a json file\n",
    "                    continue\n",
    "                try:\n",
    "                    sp_map[r_dict['code']] = r_dict['type']\n",
    "                    print(r_dict['type'])\n",
    "                except KeyError:\n",
    "                    print(f'{p_file} has no type')\n",
    "        return(sp_map)\n",
    "\n",
    "\n",
    "sp_map = get_sp_map(path)\n",
    "sp_map       "
   ]
  },
  {
   "cell_type": "markdown",
   "metadata": {},
   "source": [
    "### render using Jinja2 templates\n",
    "\n",
    "create all maps:\n",
    "- purl_map (canon:url)\n",
    "- cs_map just canon:canon for now \n",
    "- ig_map just canon:canon for now "
   ]
  },
  {
   "cell_type": "code",
   "execution_count": 59,
   "metadata": {},
   "outputs": [],
   "source": [
    "in_path = ''\n",
    "in_file = 'R4capabilitystatement-server.j2'\n",
    "\n",
    "def markdown(text, *args, **kwargs):\n",
    "    return commonmark(text, *args, **kwargs)\n",
    "\n",
    "env = Environment(\n",
    "    loader=FileSystemLoader(searchpath = in_path),\n",
    "    autoescape=select_autoescape(['html','xml','xhtml','j2','md'],),\n",
    "    trim_blocks = True,\n",
    "    lstrip_blocks = True,\n",
    "    )\n",
    "\n",
    "env.filters['markdown'] = markdown\n",
    "\n",
    "template = env.get_template(in_file)\n",
    "\n",
    "purl_map={} # canon:url, \n",
    "for p,n in pname_map.items():\n",
    "    try:\n",
    "        purl_map[p] = pname_map[p]\n",
    "    except KeyError:\n",
    "        purl_map[p] = p\n",
    "try:\n",
    "    cs_list = cs_py.instantiates + cs_py.imports\n",
    "except TypeError:\n",
    "    cs_list =[]\n",
    "cs_map = {k:k for k in cs_list} # just canon:canon for now \n",
    "#-TODO see how can look up fhir registry and populate\n",
    "ig_map = {k:k for k in cs_py.implementationGuide}\n",
    "\n",
    "rendered = template.render(cs=cs_py, path_map=path_map, pname_map=name_map, purl_map=purl_map, sp_map=sp_map, \n",
    "                          csname_map=cs_map, csurl_map=cs_map, igname_map=ig_map, igurl_map=ig_map)"
   ]
  },
  {
   "cell_type": "markdown",
   "metadata": {},
   "source": [
    "### Minify the xhtml"
   ]
  },
  {
   "cell_type": "code",
   "execution_count": 60,
   "metadata": {},
   "outputs": [
    {
     "data": {
      "text/html": [
       "<div xmlns=\"http://www.w3.org/1999/xhtml\"> <h3 class=\"no_toc\" id=\"shall_igs\">SHALL Support the Following Implementation Guides:</h3> <ul> <li><a href=\"http://hl7.org/fhir/us/core/ImplementationGuide/hl7.fhir.us.core|3.1.1\">http://hl7.org/fhir/us/core/ImplementationGuide/hl7.fhir.us.core|3.1.1</a></li> </ul> <h3 class=\"no_toc\" id=\"should_igs\">SHOULD Support the Following Implementation Guides:</h3> <ul> <li><a href=\"http://hl7.org/fhir/us/davinci-hrex/ImplementationGuide/hl7.fhir.us.davinci-hrex|0.2.0\">http://hl7.org/fhir/us/davinci-hrex/ImplementationGuide/hl7.fhir.us.davinci-hrex|0.2.0</a></li> </ul> <h3 class=\"no_toc\" id=\"shall_css\">SHALL Implement All Or Parts Of The Following Capability Statements:</h3> <ul> <li><a href></a></li> </ul> <ul> <li><a href></a></li> </ul> <h3 id=\"behavior\">FHIR RESTful Capabilities</h3> <p>The Da Vinci CDex Data Consumer <strong>SHALL</strong>:</p> <ol> <li>Support at least one of these FHIR transaction approaches for exchanging clinical information as defined in this Guide: <ol> <li>Direct Query</li> <li>Task Based Approach</li> </ol> </li> <li>Follow the guidelines for <a href=\"signatures.html\">Generating and Verifying Signed Resources</a> <em>if signatures are required</em>.</li> <li>Support JSON source formats for all Da Vinci CDex interactions.</li> <li>Declare a CapabilityStatement identifying the scenarios, transactions and profiles supported.</li> </ol> <p>The Da Vinci CDex Data Consumer <strong>SHOULD</strong>:</p> <ol> <li>Support xml source formats for all Da Vinci CDex interactions.</li> </ol> <p id=\"security\"><strong>Security:</strong></p> <ol> <li>For general security consideration refer to the <a href=\"http://build.fhir.org/secpriv-module.html\">Security and Privacy Considerations</a>.</li> <li>For security considerations specific to this guide refer to the Da Vinci HRex Implementation Guide section on <a href=\"http://hl7.org/fhir/us/davinci-hrex/2020Sep/security.html\">Security and Privacy</a></li> </ol> <p><strong>Summary of System Wide Interactions</strong></p> <ul> <li><strong>MAY</strong> support the <code>transaction</code> interaction.</li> <li><strong>MAY</strong> support the <code>batch</code> interaction.</li> <li><strong>MAY</strong> support the <code>search-system</code> interaction.</li> <li><strong>MAY</strong> support the <code>history-system</code> interaction.</li> </ul> <h3 class=\"no_toc\" id=\"resource-details\">RESTful Capabilities by Resource/Profile:</h3> <h4>Summary</h4> <table class=\"grid\"> <thead> <tr> <th>Resource Type</th> <th>Supported Profiles</th> <th>Supported Searches</th> <th>Supported <code>_includes</code></th> <th>Supported <code>_revincludes</code></th> <th>Supported Operations</th> </tr> </thead> <tbody> <tr> <td> <a href=\"#bundle\">Bundle</a> </td> <td> - </td> <td> - </td> <td> - </td> <td> - </td> <td> - </td> </tr> <tr> <td> <a href=\"#claim\">Claim</a> </td> <td> <a href=\"Profile Claim\"></a> </td> <td> - </td> <td> - </td> <td> - </td> <td> - </td> </tr> <tr> <td> <a href=\"#subscription\">Subscription</a> </td> <td> - </td> <td> - </td> <td> - </td> <td> - </td> <td> - </td> </tr> <tr> <td> <a href=\"#task\">Task</a> </td> <td> <a href=\"StructureDefinition-cdex-task-data-request.html\">CDex Task Data Request Profile</a> </td> <td> - </td> <td> - </td> <td> - </td> <td> - </td> </tr> </tbody> </table> <h4 class=\"no_toc\" id=\"bundle\">Bundle</h4> <p>Conformance Expectation: <strong>SHOULD</strong></p> <p>Resource Specific Documentation:</p> <blockquote><p>Required resource type to fetch Clinical Information from data source.</p> </blockquote> <p>Profile Interaction Summary:</p> <ul> <li><strong>SHOULD</strong> support <code>search-type</code>, <code>read</code>, <code>vread</code>.</li><li><strong>MAY</strong> support <code>create</code>, <code>update</code>, <code>patch</code>, <code>delete</code>, <code>history-instance</code>, <code>history-type</code>.</li> </ul> <p>Fetch and Search Criteria:</p> <ul> <li> A Client <strong>SHOULD</strong> be capable of fetching a Bundle resource using: <code class=\"highlighter-rouge\">GET [base]/Bundle/[id]</code> </li> </ul> <hr /> <h4 class=\"no_toc\" id=\"claim\">Claim</h4> <p>Conformance Expectation: <strong>SHOULD</strong></p> <p>Resource Specific Documentation:</p> <blockquote><p>Resource type to carry information regarding reason for requesting information to support claim submission, medical necessity and other reasons for attachments between payers and providers, and 2) additional information to support prior authorization requests.</p> </blockquote> <p>Supported Profiles:</p> <ul> <li><strong>SHOULD</strong> support: <a href=\"Profile Claim\"></a> </li> </ul> <p>Profile Interaction Summary:</p> <ul> <li><strong>SHOULD</strong> support <code>read</code>, <code>vread</code>.</li><li><strong>MAY</strong> support <code>create</code>, <code>search-type</code>, <code>update</code>, <code>patch</code>, <code>delete</code>, <code>history-instance</code>, <code>history-type</code>.</li> </ul> <p>Fetch and Search Criteria:</p> <ul> <li> A Client <strong>SHOULD</strong> be capable of fetching a Claim resource using: <code class=\"highlighter-rouge\">GET [base]/Claim/[id]</code> </li> </ul> <hr /> <h4 class=\"no_toc\" id=\"subscription\">Subscription</h4> <p>Conformance Expectation: <strong>SHOULD</strong></p> <p>Resource Specific Documentation:</p> <blockquote><p>Required resource type to subscribe to data source</p> </blockquote> <p>Profile Interaction Summary:</p> <ul> <li><strong>SHOULD</strong> support <code>create</code>, <code>search-type</code>, <code>read</code>, <code>vread</code>, <code>update</code>.</li><li><strong>MAY</strong> support <code>patch</code>, <code>delete</code>, <code>history-instance</code>, <code>history-type</code>.</li> </ul> <p>Fetch and Search Criteria:</p> <ul> <li> A Client <strong>SHOULD</strong> be capable of fetching a Subscription resource using: <code class=\"highlighter-rouge\">GET [base]/Subscription/[id]</code> </li> </ul> <hr /> <h4 class=\"no_toc\" id=\"task\">Task</h4> <p>Conformance Expectation: <strong>SHOULD</strong></p> <p>Resource Specific Documentation:</p> <blockquote><p>Required resource type to request and fetch clinical information from data source</p> </blockquote> <p>Supported Profiles:</p> <ul> <li><strong>SHALL</strong> support: <a href=\"StructureDefinition-cdex-task-data-request.html\">CDex Task Data Request Profile</a> </li> </ul> <p>Profile Interaction Summary:</p> <ul> <li><strong>SHOULD</strong> support <code>create</code>, <code>search-type</code>, <code>read</code>, <code>vread</code>, <code>update</code>.</li><li><strong>MAY</strong> support <code>patch</code>, <code>delete</code>, <code>history-instance</code>, <code>history-type</code>.</li> </ul> <p>Fetch and Search Criteria:</p> <ul> <li> A Client <strong>SHOULD</strong> be capable of fetching a Task resource using: <code class=\"highlighter-rouge\">GET [base]/Task/[id]</code> </li> </ul> <hr /> </div>"
      ],
      "text/plain": [
       "<IPython.core.display.HTML object>"
      ]
     },
     "metadata": {},
     "output_type": "display_data"
    }
   ],
   "source": [
    "def x_minify(xhtml):\n",
    "    h_min=minify(xhtml, remove_optional_attribute_quotes=False, remove_comments=True)\n",
    "    x_min = h_min.replace('<br>','<br />')\n",
    "    x_min = x_min.replace('<hr>','<hr />')\n",
    "    return x_min\n",
    "\n",
    "mini = x_minify(rendered)\n",
    "#print(type(mini))\n",
    "#print(mini)\n",
    "#display(HTML(rendered))\n",
    "display(HTML(mini))\n",
    "\n",
    "'''\n",
    "#======== write to temp file to debug =======\n",
    "path = Path.cwd() / 'debug' / 'narrative_pre.xhtml'\n",
    "path.write_text(rendered, encoding=\"utf-8\")\n",
    "path = Path.cwd() / 'debug' / 'narrative_mini_pre.xhtml'\n",
    "path.write_text(mini, encoding=\"utf-8\")\n",
    "#===================================================\n",
    "'''\n",
    "narr = construct_fhir_element('Narrative',dict(\n",
    "    status = 'generated',\n",
    "    div = mini,\n",
    " ))\n",
    "cs_py.text = narr"
   ]
  },
  {
   "cell_type": "markdown",
   "metadata": {},
   "source": [
    "### Validation"
   ]
  },
  {
   "cell_type": "code",
   "execution_count": 61,
   "metadata": {},
   "outputs": [
    {
     "data": {
      "text/html": [
       "<h1>Validation output</h1><h3>Status Code = 400</h3> <div xmlns=\"http://www.w3.org/1999/xhtml\"><h1>Operation Outcome</h1><table border=\"0\"><tr><td style=\"font-weight: bold;\">ERROR</td><td>[]</td><td><pre>Failed to parse request body as JSON resource. Error was: String does not appear to be valid XML/XHTML (error is &quot;Unexpected character '&gt;' (code 62) expected '='\n",
       " at [row,col {unknown-source}]: [1,734]&quot;): &lt;div xmlns=&quot;http://www.w3.org/1999/xhtml&quot;&gt; &lt;h3 class=&quot;no_toc&quot; id=&quot;shall_igs&quot;&gt;SHALL Support the Following Implementation Guides:&lt;/h3&gt; &lt;ul&gt; &lt;li&gt;&lt;a href=&quot;http://hl7.org/fhir/us/core/ImplementationGuide/hl7.fhir.us.core|3.1.1&quot;&gt;http://hl7.org/fhir/us/core/ImplementationGuide/hl7.fhir.us.core|3.1.1&lt;/a&gt;&lt;/li&gt; &lt;/ul&gt; &lt;h3 class=&quot;no_toc&quot; id=&quot;should_igs&quot;&gt;SHOULD Support the Following Implementation Guides:&lt;/h3&gt; &lt;ul&gt; &lt;li&gt;&lt;a href=&quot;http://hl7.org/fhir/us/davinci-hrex/ImplementationGuide/hl7.fhir.us.davinci-hrex|0.2.0&quot;&gt;http://hl7.org/fhir/us/davinci-hrex/ImplementationGuide/hl7.fhir.us.davinci-hrex|0.2.0&lt;/a&gt;&lt;/li&gt; &lt;/ul&gt; &lt;h3 class=&quot;no_toc&quot; id=&quot;shall_css&quot;&gt;SHALL Implement All Or Parts Of The Following Capability Statements:&lt;/h3&gt; &lt;ul&gt; &lt;li&gt;&lt;a href&gt;&lt;/a&gt;&lt;/li&gt; &lt;/ul&gt; &lt;ul&gt; &lt;li&gt;&lt;a href&gt;&lt;/a&gt;&lt;/li&gt; &lt;/ul&gt; &lt;h3 id=&quot;behavior&quot;&gt;FHIR RESTful Capabilities&lt;/h3&gt; &lt;p&gt;The Da Vinci CDex Data Consumer &lt;strong&gt;SHALL&lt;/strong&gt;:&lt;/p&gt; &lt;ol&gt; &lt;li&gt;Support at least one of these FHIR transaction approaches for exchanging clinical information as defined in this Guide: &lt;ol&gt; &lt;li&gt;Direct Query&lt;/li&gt; &lt;li&gt;Task Based Approach&lt;/li&gt; &lt;/ol&gt; &lt;/li&gt; &lt;li&gt;Follow the guidelines for &lt;a href=&quot;signatures.html&quot;&gt;Generating and Verifying Signed Resources&lt;/a&gt; &lt;em&gt;if signatures are required&lt;/em&gt;.&lt;/li&gt; &lt;li&gt;Support JSON source formats for all Da Vinci CDex interactions.&lt;/li&gt; &lt;li&gt;Declare a CapabilityStatement identifying the scenarios, transactions and profiles supported.&lt;/li&gt; &lt;/ol&gt; &lt;p&gt;The Da Vinci CDex Data Consumer &lt;strong&gt;SHOULD&lt;/strong&gt;:&lt;/p&gt; &lt;ol&gt; &lt;li&gt;Support xml source formats for all Da Vinci CDex interactions.&lt;/li&gt; &lt;/ol&gt; &lt;p id=&quot;security&quot;&gt;&lt;strong&gt;Security:&lt;/strong&gt;&lt;/p&gt; &lt;ol&gt; &lt;li&gt;For general security consideration refer to the &lt;a href=&quot;http://build.fhir.org/secpriv-module.html&quot;&gt;Security and Privacy Considerations&lt;/a&gt;.&lt;/li&gt; &lt;li&gt;For security considerations specific to this guide refer to the Da Vinci HRex Implementation Guide section on &lt;a href=&quot;http://hl7.org/fhir/us/davinci-hrex/2020Sep/security.html&quot;&gt;Security and Privacy&lt;/a&gt;&lt;/li&gt; &lt;/ol&gt; &lt;p&gt;&lt;strong&gt;Summary of System Wide Interactions&lt;/strong&gt;&lt;/p&gt; &lt;ul&gt; &lt;li&gt;&lt;strong&gt;MAY&lt;/strong&gt; support the &lt;code&gt;transaction&lt;/code&gt; interaction.&lt;/li&gt; &lt;li&gt;&lt;strong&gt;MAY&lt;/strong&gt; support the &lt;code&gt;batch&lt;/code&gt; interaction.&lt;/li&gt; &lt;li&gt;&lt;strong&gt;MAY&lt;/strong&gt; support the &lt;code&gt;search-system&lt;/code&gt; interaction.&lt;/li&gt; &lt;li&gt;&lt;strong&gt;MAY&lt;/strong&gt; support the &lt;code&gt;history-system&lt;/code&gt; interaction.&lt;/li&gt; &lt;/ul&gt; &lt;h3 class=&quot;no_toc&quot; id=&quot;resource-details&quot;&gt;RESTful Capabilities by Resource/Profile:&lt;/h3&gt; &lt;h4&gt;Summary&lt;/h4&gt; &lt;table class=&quot;grid&quot;&gt; &lt;thead&gt; &lt;tr&gt; &lt;th&gt;Resource Type&lt;/th&gt; &lt;th&gt;Supported Profiles&lt;/th&gt; &lt;th&gt;Supported Searches&lt;/th&gt; &lt;th&gt;Supported &lt;code&gt;_includes&lt;/code&gt;&lt;/th&gt; &lt;th&gt;Supported &lt;code&gt;_revincludes&lt;/code&gt;&lt;/th&gt; &lt;th&gt;Supported Operations&lt;/th&gt; &lt;/tr&gt; &lt;/thead&gt; &lt;tbody&gt; &lt;tr&gt; &lt;td&gt; &lt;a href=&quot;#bundle&quot;&gt;Bundle&lt;/a&gt; &lt;/td&gt; &lt;td&gt; - &lt;/td&gt; &lt;td&gt; - &lt;/td&gt; &lt;td&gt; - &lt;/td&gt; &lt;td&gt; - &lt;/td&gt; &lt;td&gt; - &lt;/td&gt; &lt;/tr&gt; &lt;tr&gt; &lt;td&gt; &lt;a href=&quot;#claim&quot;&gt;Claim&lt;/a&gt; &lt;/td&gt; &lt;td&gt; &lt;a href=&quot;Profile Claim&quot;&gt;&lt;/a&gt; &lt;/td&gt; &lt;td&gt; - &lt;/td&gt; &lt;td&gt; - &lt;/td&gt; &lt;td&gt; - &lt;/td&gt; &lt;td&gt; - &lt;/td&gt; &lt;/tr&gt; &lt;tr&gt; &lt;td&gt; &lt;a href=&quot;#subscription&quot;&gt;Subscription&lt;/a&gt; &lt;/td&gt; &lt;td&gt; - &lt;/td&gt; &lt;td&gt; - &lt;/td&gt; &lt;td&gt; - &lt;/td&gt; &lt;td&gt; - &lt;/td&gt; &lt;td&gt; - &lt;/td&gt; &lt;/tr&gt; &lt;tr&gt; &lt;td&gt; &lt;a href=&quot;#task&quot;&gt;Task&lt;/a&gt; &lt;/td&gt; &lt;td&gt; &lt;a href=&quot;StructureDefinition-cdex-task-data-request.html&quot;&gt;CDex Task Data Request Profile&lt;/a&gt; &lt;/td&gt; &lt;td&gt; - &lt;/td&gt; &lt;td&gt; - &lt;/td&gt; &lt;td&gt; - &lt;/td&gt; &lt;td&gt; - &lt;/td&gt; &lt;/tr&gt; &lt;/tbody&gt; &lt;/table&gt; &lt;h4 class=&quot;no_toc&quot; id=&quot;bundle&quot;&gt;Bundle&lt;/h4&gt; &lt;p&gt;Conformance Expectation: &lt;strong&gt;SHOULD&lt;/strong&gt;&lt;/p&gt; &lt;p&gt;Resource Specific Documentation:&lt;/p&gt; &lt;blockquote&gt;&lt;p&gt;Required resource type to fetch Clinical Information from data source.&lt;/p&gt; &lt;/blockquote&gt; &lt;p&gt;Profile Interaction Summary:&lt;/p&gt; &lt;ul&gt; &lt;li&gt;&lt;strong&gt;SHOULD&lt;/strong&gt; support &lt;code&gt;search-type&lt;/code&gt;, &lt;code&gt;read&lt;/code&gt;, &lt;code&gt;vread&lt;/code&gt;.&lt;/li&gt;&lt;li&gt;&lt;strong&gt;MAY&lt;/strong&gt; support &lt;code&gt;create&lt;/code&gt;, &lt;code&gt;update&lt;/code&gt;, &lt;code&gt;patch&lt;/code&gt;, &lt;code&gt;delete&lt;/code&gt;, &lt;code&gt;history-instance&lt;/code&gt;, &lt;code&gt;history-type&lt;/code&gt;.&lt;/li&gt; &lt;/ul&gt; &lt;p&gt;Fetch and Search Criteria:&lt;/p&gt; &lt;ul&gt; &lt;li&gt; A Client &lt;strong&gt;SHOULD&lt;/strong&gt; be capable of fetching a Bundle resource using: &lt;code class=&quot;highlighter-rouge&quot;&gt;GET [base]/Bundle/[id]&lt;/code&gt; &lt;/li&gt; &lt;/ul&gt; &lt;hr /&gt; &lt;h4 class=&quot;no_toc&quot; id=&quot;claim&quot;&gt;Claim&lt;/h4&gt; &lt;p&gt;Conformance Expectation: &lt;strong&gt;SHOULD&lt;/strong&gt;&lt;/p&gt; &lt;p&gt;Resource Specific Documentation:&lt;/p&gt; &lt;blockquote&gt;&lt;p&gt;Resource type to carry information regarding reason for requesting information to support claim submission, medical necessity and other reasons for attachments between payers and providers, and 2) additional information to support prior authorization requests.&lt;/p&gt; &lt;/blockquote&gt; &lt;p&gt;Supported Profiles:&lt;/p&gt; &lt;ul&gt; &lt;li&gt;&lt;strong&gt;SHOULD&lt;/strong&gt; support: &lt;a href=&quot;Profile Claim&quot;&gt;&lt;/a&gt; &lt;/li&gt; &lt;/ul&gt; &lt;p&gt;Profile Interaction Summary:&lt;/p&gt; &lt;ul&gt; &lt;li&gt;&lt;strong&gt;SHOULD&lt;/strong&gt; support &lt;code&gt;read&lt;/code&gt;, &lt;code&gt;vread&lt;/code&gt;.&lt;/li&gt;&lt;li&gt;&lt;strong&gt;MAY&lt;/strong&gt; support &lt;code&gt;create&lt;/code&gt;, &lt;code&gt;search-type&lt;/code&gt;, &lt;code&gt;update&lt;/code&gt;, &lt;code&gt;patch&lt;/code&gt;, &lt;code&gt;delete&lt;/code&gt;, &lt;code&gt;history-instance&lt;/code&gt;, &lt;code&gt;history-type&lt;/code&gt;.&lt;/li&gt; &lt;/ul&gt; &lt;p&gt;Fetch and Search Criteria:&lt;/p&gt; &lt;ul&gt; &lt;li&gt; A Client &lt;strong&gt;SHOULD&lt;/strong&gt; be capable of fetching a Claim resource using: &lt;code class=&quot;highlighter-rouge&quot;&gt;GET [base]/Claim/[id]&lt;/code&gt; &lt;/li&gt; &lt;/ul&gt; &lt;hr /&gt; &lt;h4 class=&quot;no_toc&quot; id=&quot;subscription&quot;&gt;Subscription&lt;/h4&gt; &lt;p&gt;Conformance Expectation: &lt;strong&gt;SHOULD&lt;/strong&gt;&lt;/p&gt; &lt;p&gt;Resource Specific Documentation:&lt;/p&gt; &lt;blockquote&gt;&lt;p&gt;Required resource type to subscribe to data source&lt;/p&gt; &lt;/blockquote&gt; &lt;p&gt;Profile Interaction Summary:&lt;/p&gt; &lt;ul&gt; &lt;li&gt;&lt;strong&gt;SHOULD&lt;/strong&gt; support &lt;code&gt;create&lt;/code&gt;, &lt;code&gt;search-type&lt;/code&gt;, &lt;code&gt;read&lt;/code&gt;, &lt;code&gt;vread&lt;/code&gt;, &lt;code&gt;update&lt;/code&gt;.&lt;/li&gt;&lt;li&gt;&lt;strong&gt;MAY&lt;/strong&gt; support &lt;code&gt;patch&lt;/code&gt;, &lt;code&gt;delete&lt;/code&gt;, &lt;code&gt;history-instance&lt;/code&gt;, &lt;code&gt;history-type&lt;/code&gt;.&lt;/li&gt; &lt;/ul&gt; &lt;p&gt;Fetch and Search Criteria:&lt;/p&gt; &lt;ul&gt; &lt;li&gt; A Client &lt;strong&gt;SHOULD&lt;/strong&gt; be capable of fetching a Subscription resource using: &lt;code class=&quot;highlighter-rouge&quot;&gt;GET [base]/Subscription/[id]&lt;/code&gt; &lt;/li&gt; &lt;/ul&gt; &lt;hr /&gt; &lt;h4 class=&quot;no_toc&quot; id=&quot;task&quot;&gt;Task&lt;/h4&gt; &lt;p&gt;Conformance Expectation: &lt;strong&gt;SHOULD&lt;/strong&gt;&lt;/p&gt; &lt;p&gt;Resource Specific Documentation:&lt;/p&gt; &lt;blockquote&gt;&lt;p&gt;Required resource type to request and fetch clinical information from data source&lt;/p&gt; &lt;/blockquote&gt; &lt;p&gt;Supported Profiles:&lt;/p&gt; &lt;ul&gt; &lt;li&gt;&lt;strong&gt;SHALL&lt;/strong&gt; support: &lt;a href=&quot;StructureDefinition-cdex-task-data-request.html&quot;&gt;CDex Task Data Request Profile&lt;/a&gt; &lt;/li&gt; &lt;/ul&gt; &lt;p&gt;Profile Interaction Summary:&lt;/p&gt; &lt;ul&gt; &lt;li&gt;&lt;strong&gt;SHOULD&lt;/strong&gt; support &lt;code&gt;create&lt;/code&gt;, &lt;code&gt;search-type&lt;/code&gt;, &lt;code&gt;read&lt;/code&gt;, &lt;code&gt;vread&lt;/code&gt;, &lt;code&gt;update&lt;/code&gt;.&lt;/li&gt;&lt;li&gt;&lt;strong&gt;MAY&lt;/strong&gt; support &lt;code&gt;patch&lt;/code&gt;, &lt;code&gt;delete&lt;/code&gt;, &lt;code&gt;history-instance&lt;/code&gt;, &lt;code&gt;history-type&lt;/code&gt;.&lt;/li&gt; &lt;/ul&gt; &lt;p&gt;Fetch and Search Criteria:&lt;/p&gt; &lt;ul&gt; &lt;li&gt; A Client &lt;strong&gt;SHOULD&lt;/strong&gt; be capable of fetching a Task resource using: &lt;code class=&quot;highlighter-rouge&quot;&gt;GET [base]/Task/[id]&lt;/code&gt; &lt;/li&gt; &lt;/ul&gt; &lt;hr /&gt; &lt;/div&gt;</pre></td>\n",
       "\t\t\t</tr>\n",
       "\t\t</table>\n",
       "\t</div>"
      ],
      "text/plain": [
       "<IPython.core.display.HTML object>"
      ]
     },
     "metadata": {},
     "output_type": "display_data"
    }
   ],
   "source": [
    "\n",
    "def validate(r):\n",
    "    #fhir_test_server = 'http://fhirtest.uhn.ca/baseDstu3'\n",
    "    #fhir_test_server = 'http://test.fhir.org/r3'\n",
    "    #fhir_test_server = 'http://test.fhir.org/r4'\n",
    "    #fhir_test_server ='http://wildfhir4.aegis.net/fhir4-0-0'\n",
    "    #fhir_test_server ='http://wildfhir4.aegis.net/fhir4-0-0'\n",
    "    fhir_test_server ='http://hapi.fhir.org/baseR4'\n",
    "  \n",
    "\n",
    "    headers = {\n",
    "    'Accept':'application/fhir+json',\n",
    "    'Content-Type':'application/fhir+json'\n",
    "    }\n",
    "    \n",
    "    r = post(f'{fhir_test_server}/CapabilityStatement/$validate', headers = headers, data = cs_py.json())   # return r.status_code\n",
    "    display(HTML(f'<h1>Validation output</h1><h3>Status Code = {r.status_code}</h3> {r.json()[\"text\"][\"div\"]}'))\n",
    "\n",
    "validate(cs_py)"
   ]
  },
  {
   "cell_type": "markdown",
   "metadata": {},
   "source": [
    "### Save to local dir"
   ]
  },
  {
   "cell_type": "code",
   "execution_count": 62,
   "metadata": {},
   "outputs": [
    {
     "name": "stdout",
     "output_type": "stream",
     "text": [
      "...........saving to file............\n"
     ]
    },
    {
     "data": {
      "text/plain": [
       "25138"
      ]
     },
     "execution_count": 62,
     "metadata": {},
     "output_type": "execute_result"
    }
   ],
   "source": [
    "# save to file\n",
    "ig_source_path = ''\n",
    "print('...........saving to file............')\n",
    "#save in ig_source folder\n",
    "path = Path.cwd() / ig_source_path / 'resources' / f'capabilitystatement-{cs_py.id.lower()}.json'\n",
    "path.write_text(cs_py.json(indent=2))"
   ]
  },
  {
   "cell_type": "code",
   "execution_count": null,
   "metadata": {},
   "outputs": [],
   "source": []
  }
 ],
 "metadata": {
  "kernelspec": {
   "display_name": "Python 3",
   "language": "python",
   "name": "python3"
  },
  "language_info": {
   "codemirror_mode": {
    "name": "ipython",
    "version": 3
   },
   "file_extension": ".py",
   "mimetype": "text/x-python",
   "name": "python",
   "nbconvert_exporter": "python",
   "pygments_lexer": "ipython3",
   "version": "3.7.3"
  }
 },
 "nbformat": 4,
 "nbformat_minor": 4
}
