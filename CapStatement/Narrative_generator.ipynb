{
 "cells": [
  {
   "cell_type": "markdown",
   "metadata": {},
   "source": [
    "## generate narrative from resource"
   ]
  },
  {
   "cell_type": "markdown",
   "metadata": {},
   "source": [
    "### import modules"
   ]
  },
  {
   "cell_type": "code",
   "execution_count": null,
   "metadata": {},
   "outputs": [],
   "source": [
    "from fhir.resources import construct_fhir_element\n",
    "from json import dumps, loads\n",
    "from requests import get, post, put\n",
    "from pathlib import Path\n",
    "from IPython.display import display as Display, HTML, Markdown, Javascript\n",
    "import ipywidgets as widgets\n",
    "from pprint import pprint\n",
    "from collections import namedtuple\n",
    "from pandas import *\n",
    "from datetime import datetime, date, timezone, timedelta\n",
    "from jinja2 import Environment, FileSystemLoader, select_autoescape\n",
    "from stringcase import snakecase, titlecase\n",
    "from commonmark import commonmark\n",
    "from htmlmin import minify"
   ]
  },
  {
   "cell_type": "markdown",
   "metadata": {},
   "source": [
    "### Define variables"
   ]
  },
  {
   "cell_type": "markdown",
   "metadata": {},
   "source": [
    "#### get CapStatement as json"
   ]
  },
  {
   "cell_type": "code",
   "execution_count": 70,
   "metadata": {},
   "outputs": [
    {
     "name": "stdin",
     "output_type": "stream",
     "text": [
      "enter the CapStatment file name: CapabilityStatement-c4bb.json\n"
     ]
    }
   ],
   "source": [
    "fname = input('enter the CapStatment file name:')"
   ]
  },
  {
   "cell_type": "code",
   "execution_count": 71,
   "metadata": {},
   "outputs": [
    {
     "name": "stdout",
     "output_type": "stream",
     "text": [
      "c4bb\n"
     ]
    }
   ],
   "source": [
    "path = Path.cwd() / 'cs_source_file'/ fname\n",
    "cs_py = construct_fhir_element('CapabilityStatement',path.read_text())\n",
    "print(cs_py.id)"
   ]
  },
  {
   "cell_type": "markdown",
   "metadata": {},
   "source": [
    "### Create Profile url:Name mappings"
   ]
  },
  {
   "cell_type": "code",
   "execution_count": 72,
   "metadata": {},
   "outputs": [
    {
     "data": {
      "text/plain": [
       "{'http://hl7.org/fhir/us/carin-bb/StructureDefinition/C4BB-Coverage': 'C4 B B  Coverage',\n",
       " 'http://hl7.org/fhir/us/carin-bb/StructureDefinition/C4BB-ExplanationOfBenefit': 'C4 B B  Explanation Of Benefit',\n",
       " 'http://hl7.org/fhir/us/carin-bb/StructureDefinition/C4BB-ExplanationOfBenefit-Inpatient-Institutional': 'C4 B B  Explanation Of Benefit  Inpatient  Institutional',\n",
       " 'http://hl7.org/fhir/us/carin-bb/StructureDefinition/C4BB-ExplanationOfBenefit-Outpatient-Institutional': 'C4 B B  Explanation Of Benefit  Outpatient  Institutional',\n",
       " 'http://hl7.org/fhir/us/carin-bb/StructureDefinition/C4BB-ExplanationOfBenefit-Pharmacy': 'C4 B B  Explanation Of Benefit  Pharmacy',\n",
       " 'http://hl7.org/fhir/us/carin-bb/StructureDefinition/C4BB-ExplanationOfBenefit-Professional-NonClinician': 'C4 B B  Explanation Of Benefit  Professional  Non Clinician',\n",
       " 'http://hl7.org/fhir/us/carin-bb/StructureDefinition/C4BB-Organization': 'C4 B B  Organization',\n",
       " 'http://hl7.org/fhir/us/carin-bb/StructureDefinition/C4BB-Patient': 'C4 B B  Patient',\n",
       " 'http://hl7.org/fhir/us/carin-bb/StructureDefinition/C4BB-Practitioner': 'C4 B B  Practitioner'}"
      ]
     },
     "execution_count": 72,
     "metadata": {},
     "output_type": "execute_result"
    }
   ],
   "source": [
    "# this is wrong if for most IGs should be supportedProfiles not Profiles\n",
    "pname_map = {r.profile:titlecase(r.profile.split('/')[-1]) for r in cs_py.rest[0].resource if r.profile}\n",
    "#add in supported Profiles too\n",
    "spname_map = {sp:titlecase(sp.split('/')[-1]) for \\\n",
    "              r in cs_py.rest[0].resource if r.supportedProfile for sp in r.supportedProfile}\n",
    "#flatten_matrix = [val for sublist in matrix for val in sublist] \n",
    "\n",
    "# Adding elements from dict2 to dict1\n",
    "pname_map.update(spname_map)\n",
    "pname_map"
   ]
  },
  {
   "cell_type": "markdown",
   "metadata": {},
   "source": [
    "### get pathmap from package file\n",
    "- Get spec_internal from package a json file which includes canonical to local relative page links"
   ]
  },
  {
   "cell_type": "code",
   "execution_count": 73,
   "metadata": {},
   "outputs": [
    {
     "name": "stdin",
     "output_type": "stream",
     "text": [
      "Get package path to download: http://build.fhir.org/ig/HL7/carin-bb/package.tgz\n"
     ]
    }
   ],
   "source": [
    "ig_package = input(\"Get package path to download:\")"
   ]
  },
  {
   "cell_type": "code",
   "execution_count": 74,
   "metadata": {},
   "outputs": [
    {
     "data": {
      "text/plain": [
       "405504"
      ]
     },
     "execution_count": 74,
     "metadata": {},
     "output_type": "execute_result"
    }
   ],
   "source": [
    "r = get(ig_package, verify=False)\n",
    "r.status_code\n",
    "#write to file\n",
    "path = Path.cwd() /  'cs_source_file' / ig_package.split('/')[-1]\n",
    "path.write_bytes(r.content)"
   ]
  },
  {
   "cell_type": "code",
   "execution_count": 75,
   "metadata": {},
   "outputs": [
    {
     "name": "stdout",
     "output_type": "stream",
     "text": [
      "/Users/ehaas/Documents/Python/MyNotebooks/CapStatement/cs_source_file/package.tgz\n"
     ]
    },
    {
     "data": {
      "text/plain": [
       "{'http://hl7.org/fhir/us/carin-bb/ImplementationGuide/hl7.fhir.us.carin-bb|1.1.0': '1.1.0/ImplementationGuide-hl7.fhir.us.carin-bb.html',\n",
       " 'http://hl7.org/fhir/us/carin-bb/ImplementationGuide/hl7.fhir.us.carin-bb': 'ImplementationGuide-hl7.fhir.us.carin-bb.html',\n",
       " 'http://hl7.org/fhir/us/carin-bb/Organization/ProviderOrganization1': 'Organization-ProviderOrganization1.html',\n",
       " 'http://hl7.org/fhir/us/carin-bb/Organization/ProviderOrganization5': 'Organization-ProviderOrganization5.html',\n",
       " 'http://hl7.org/fhir/us/carin-bb/Coverage/CoverageEx2': 'Coverage-CoverageEx2.html',\n",
       " 'http://hl7.org/fhir/us/carin-bb/Practitioner/Practitioner2': 'Practitioner-Practitioner2.html',\n",
       " 'http://hl7.org/fhir/us/carin-bb/Organization/ProviderOrganization4': 'Organization-ProviderOrganization4.html',\n",
       " 'http://hl7.org/fhir/us/carin-bb/Coverage/CoverageEx1': 'Coverage-CoverageEx1.html',\n",
       " 'http://hl7.org/fhir/us/carin-bb/Organization/PayerOrganizationExample1': 'Organization-PayerOrganizationExample1.html',\n",
       " 'http://hl7.org/fhir/us/carin-bb/Organization/ProviderOrganization6': 'Organization-ProviderOrganization6.html',\n",
       " 'http://hl7.org/fhir/us/carin-bb/ExplanationOfBenefit/InpatientEOBExample1': 'ExplanationOfBenefit-InpatientEOBExample1.html',\n",
       " 'http://hl7.org/fhir/us/carin-bb/Patient/ExamplePatient1': 'Patient-ExamplePatient1.html',\n",
       " 'http://hl7.org/fhir/us/carin-bb/Practitioner/Practitioner3': 'Practitioner-Practitioner3.html',\n",
       " 'http://hl7.org/fhir/us/carin-bb/ExplanationOfBenefit/ProfessionalEOBExample1': 'ExplanationOfBenefit-ProfessionalEOBExample1.html',\n",
       " 'http://hl7.org/fhir/us/carin-bb/Practitioner/Practitioner1': 'Practitioner-Practitioner1.html',\n",
       " 'http://hl7.org/fhir/us/carin-bb/ExplanationOfBenefit/OutpatientEOBExample1': 'ExplanationOfBenefit-OutpatientEOBExample1.html',\n",
       " 'http://hl7.org/fhir/us/carin-bb/Organization/ProviderOrganization3': 'Organization-ProviderOrganization3.html',\n",
       " 'http://hl7.org/fhir/us/carin-bb/SearchParameter/explanationofbenefit-type|1.1.0': '1.1.0/SearchParameter-explanationofbenefit-type.html',\n",
       " 'http://hl7.org/fhir/us/carin-bb/SearchParameter/explanationofbenefit-type': 'SearchParameter-explanationofbenefit-type.html',\n",
       " 'http://hl7.org/fhir/us/carin-bb/SearchParameter/explanationofbenefit-coverage|1.1.0': '1.1.0/SearchParameter-explanationofbenefit-coverage.html',\n",
       " 'http://hl7.org/fhir/us/carin-bb/SearchParameter/explanationofbenefit-coverage': 'SearchParameter-explanationofbenefit-coverage.html',\n",
       " 'http://hl7.org/fhir/us/carin-bb/SearchParameter/practitionerrole-practitioner|1.1.0': '1.1.0/SearchParameter-practitionerrole-practitioner.html',\n",
       " 'http://hl7.org/fhir/us/carin-bb/SearchParameter/practitionerrole-practitioner': 'SearchParameter-practitionerrole-practitioner.html',\n",
       " 'http://hl7.org/fhir/us/carin-bb/SearchParameter/explanationofbenefit-service-date|1.1.0': '1.1.0/SearchParameter-explanationofbenefit-service-date.html',\n",
       " 'http://hl7.org/fhir/us/carin-bb/SearchParameter/explanationofbenefit-service-date': 'SearchParameter-explanationofbenefit-service-date.html',\n",
       " 'http://hl7.org/fhir/us/carin-bb/SearchParameter/explanationofbenefit-patient|1.1.0': '1.1.0/SearchParameter-explanationofbenefit-patient.html',\n",
       " 'http://hl7.org/fhir/us/carin-bb/SearchParameter/explanationofbenefit-patient': 'SearchParameter-explanationofbenefit-patient.html',\n",
       " 'http://hl7.org/fhir/us/carin-bb/SearchParameter/practitionerrole-organization|1.1.0': '1.1.0/SearchParameter-practitionerrole-organization.html',\n",
       " 'http://hl7.org/fhir/us/carin-bb/SearchParameter/practitionerrole-organization': 'SearchParameter-practitionerrole-organization.html',\n",
       " 'http://hl7.org/fhir/us/carin-bb/SearchParameter/explanationofbenefit-identifier|1.1.0': '1.1.0/SearchParameter-explanationofbenefit-identifier.html',\n",
       " 'http://hl7.org/fhir/us/carin-bb/SearchParameter/explanationofbenefit-identifier': 'SearchParameter-explanationofbenefit-identifier.html',\n",
       " 'http://hl7.org/fhir/us/carin-bb/CapabilityStatement/c4bb|1.1.0': '1.1.0/CapabilityStatement-c4bb.html',\n",
       " 'http://hl7.org/fhir/us/carin-bb/CapabilityStatement/c4bb': 'CapabilityStatement-c4bb.html',\n",
       " 'http://hl7.org/fhir/us/carin-bb/SearchParameter/coverage-payor|1.1.0': '1.1.0/SearchParameter-coverage-payor.html',\n",
       " 'http://hl7.org/fhir/us/carin-bb/SearchParameter/coverage-payor': 'SearchParameter-coverage-payor.html',\n",
       " 'http://hl7.org/fhir/us/carin-bb/SearchParameter/explanationofbenefit-insurer|1.1.0': '1.1.0/SearchParameter-explanationofbenefit-insurer.html',\n",
       " 'http://hl7.org/fhir/us/carin-bb/SearchParameter/explanationofbenefit-insurer': 'SearchParameter-explanationofbenefit-insurer.html',\n",
       " 'http://hl7.org/fhir/us/carin-bb/SearchParameter/explanationofbenefit-provider|1.1.0': '1.1.0/SearchParameter-explanationofbenefit-provider.html',\n",
       " 'http://hl7.org/fhir/us/carin-bb/SearchParameter/explanationofbenefit-provider': 'SearchParameter-explanationofbenefit-provider.html',\n",
       " 'http://hl7.org/fhir/us/carin-bb/SearchParameter/explanationofbenefit-care-team|1.1.0': '1.1.0/SearchParameter-explanationofbenefit-care-team.html',\n",
       " 'http://hl7.org/fhir/us/carin-bb/SearchParameter/explanationofbenefit-care-team': 'SearchParameter-explanationofbenefit-care-team.html',\n",
       " 'http://hl7.org/fhir/us/carin-bb/ValueSet/AHANUBCPointOfOriginForAdmissionOrVisit|1.1.0': '1.1.0/ValueSet-AHANUBCPointOfOriginForAdmissionOrVisit.html',\n",
       " 'http://hl7.org/fhir/us/carin-bb/ValueSet/AHANUBCPointOfOriginForAdmissionOrVisit': 'ValueSet-AHANUBCPointOfOriginForAdmissionOrVisit.html',\n",
       " 'http://hl7.org/fhir/us/carin-bb/ValueSet/C4BBPractitionerIdentifierType|1.1.0': '1.1.0/ValueSet-C4BBPractitionerIdentifierType.html',\n",
       " 'http://hl7.org/fhir/us/carin-bb/ValueSet/C4BBPractitionerIdentifierType': 'ValueSet-C4BBPractitionerIdentifierType.html',\n",
       " 'http://terminology.hl7.org/CodeSystem/NCPDPCompoundCode': 'CodeSystem-NCPDPCompoundCode.html',\n",
       " 'http://terminology.hl7.org/CodeSystem/NCPDPCompoundCode|1.1.0': '1.1.0/CodeSystem-NCPDPCompoundCode.html',\n",
       " 'http://hl7.org/fhir/us/carin-bb/CodeSystem/NCPDPCompoundCode': 'CodeSystem-NCPDPCompoundCode.html',\n",
       " 'http://hl7.org/fhir/us/carin-bb/Organization/OrganizationProvider1': 'Organization-OrganizationProvider1.html',\n",
       " 'http://hl7.org/fhir/us/carin-bb/Coverage/Coverage1': 'Coverage-Coverage1.html',\n",
       " 'http://hl7.org/fhir/us/carin-bb/ValueSet/C4BBClaimPharmacyTeamRole|1.1.0': '1.1.0/ValueSet-C4BBClaimPharmacyTeamRole.html',\n",
       " 'http://hl7.org/fhir/us/carin-bb/ValueSet/C4BBClaimPharmacyTeamRole': 'ValueSet-C4BBClaimPharmacyTeamRole.html',\n",
       " 'http://hl7.org/fhir/us/carin-bb/ValueSet/C4BBClaimInpatientInstitutionalDiagnosisType|1.1.0': '1.1.0/ValueSet-C4BBClaimInpatientInstitutionalDiagnosisType.html',\n",
       " 'http://hl7.org/fhir/us/carin-bb/ValueSet/C4BBClaimInpatientInstitutionalDiagnosisType': 'ValueSet-C4BBClaimInpatientInstitutionalDiagnosisType.html',\n",
       " 'http://hl7.org/fhir/us/carin-bb/Patient/Patient1': 'Patient-Patient1.html',\n",
       " 'http://hl7.org/fhir/us/carin-bb/ValueSet/FDANDCOrCompound|1.1.0': '1.1.0/ValueSet-FDANDCOrCompound.html',\n",
       " 'http://hl7.org/fhir/us/carin-bb/ValueSet/FDANDCOrCompound': 'ValueSet-FDANDCOrCompound.html',\n",
       " 'http://hl7.org/fhir/us/carin-bb/ValueSet/AHANUBCRevenueCodes|1.1.0': '1.1.0/ValueSet-AHANUBCRevenueCodes.html',\n",
       " 'http://hl7.org/fhir/us/carin-bb/ValueSet/AHANUBCRevenueCodes': 'ValueSet-AHANUBCRevenueCodes.html',\n",
       " 'http://hl7.org/fhir/us/carin-bb/ValueSet/C4BBPayerProviderContractingStatus|1.1.0': '1.1.0/ValueSet-C4BBPayerProviderContractingStatus.html',\n",
       " 'http://hl7.org/fhir/us/carin-bb/ValueSet/C4BBPayerProviderContractingStatus': 'ValueSet-C4BBPayerProviderContractingStatus.html',\n",
       " 'http://hl7.org/fhir/us/carin-bb/StructureDefinition/C4BB-ExplanationOfBenefit|1.1.0': '1.1.0/StructureDefinition-C4BB-ExplanationOfBenefit.html',\n",
       " 'http://hl7.org/fhir/us/carin-bb/StructureDefinition/C4BB-ExplanationOfBenefit': 'StructureDefinition-C4BB-ExplanationOfBenefit.html',\n",
       " 'http://hl7.org/fhir/us/carin-bb/CodeSystem/C4BBAdjudication|1.1.0': '1.1.0/CodeSystem-C4BBAdjudication.html',\n",
       " 'http://hl7.org/fhir/us/carin-bb/CodeSystem/C4BBAdjudication': 'CodeSystem-C4BBAdjudication.html',\n",
       " 'http://terminology.hl7.org/CodeSystem/NCPDPBrandGenericIndicator': 'CodeSystem-NCPDPBrandGenericIndicator.html',\n",
       " 'http://terminology.hl7.org/CodeSystem/NCPDPBrandGenericIndicator|1.1.0': '1.1.0/CodeSystem-NCPDPBrandGenericIndicator.html',\n",
       " 'http://hl7.org/fhir/us/carin-bb/CodeSystem/NCPDPBrandGenericIndicator': 'CodeSystem-NCPDPBrandGenericIndicator.html',\n",
       " 'http://hl7.org/fhir/us/carin-bb/CodeSystem/C4BBRelatedClaimRelationshipCodes|1.1.0': '1.1.0/CodeSystem-C4BBRelatedClaimRelationshipCodes.html',\n",
       " 'http://hl7.org/fhir/us/carin-bb/CodeSystem/C4BBRelatedClaimRelationshipCodes': 'CodeSystem-C4BBRelatedClaimRelationshipCodes.html',\n",
       " 'https://www.nubc.org/CodeSystem/PointOfOriginNewborn': 'CodeSystem-AHANUBCPointOfOriginForAdmissionOrVisitNewborn.html',\n",
       " 'https://www.nubc.org/CodeSystem/PointOfOriginNewborn|1.1.0': '1.1.0/CodeSystem-AHANUBCPointOfOriginForAdmissionOrVisitNewborn.html',\n",
       " 'http://hl7.org/fhir/us/carin-bb/CodeSystem/AHANUBCPointOfOriginForAdmissionOrVisitNewborn': 'CodeSystem-AHANUBCPointOfOriginForAdmissionOrVisitNewborn.html',\n",
       " 'http://hl7.org/fhir/us/carin-bb/Organization/Payer1': 'Organization-Payer1.html',\n",
       " 'http://hl7.org/fhir/us/carin-bb/ValueSet/C4BBOrganizationIdentifierType|1.1.0': '1.1.0/ValueSet-C4BBOrganizationIdentifierType.html',\n",
       " 'http://hl7.org/fhir/us/carin-bb/ValueSet/C4BBOrganizationIdentifierType': 'ValueSet-C4BBOrganizationIdentifierType.html',\n",
       " 'http://hl7.org/fhir/us/carin-bb/ValueSet/C4BBClaimInstitutionalCareTeamRole|1.1.0': '1.1.0/ValueSet-C4BBClaimInstitutionalCareTeamRole.html',\n",
       " 'http://hl7.org/fhir/us/carin-bb/ValueSet/C4BBClaimInstitutionalCareTeamRole': 'ValueSet-C4BBClaimInstitutionalCareTeamRole.html',\n",
       " 'http://hl7.org/fhir/us/carin-bb/ValueSet/FDANationalDrugCode|1.1.0': '1.1.0/ValueSet-FDANationalDrugCode.html',\n",
       " 'http://hl7.org/fhir/us/carin-bb/ValueSet/FDANationalDrugCode': 'ValueSet-FDANationalDrugCode.html',\n",
       " 'http://terminology.hl7.org/CodeSystem/NCPDPPrescriptionOriginCode': 'CodeSystem-NCPDPPrescriptionOriginCode.html',\n",
       " 'http://terminology.hl7.org/CodeSystem/NCPDPPrescriptionOriginCode|1.1.0': '1.1.0/CodeSystem-NCPDPPrescriptionOriginCode.html',\n",
       " 'http://hl7.org/fhir/us/carin-bb/CodeSystem/NCPDPPrescriptionOriginCode': 'CodeSystem-NCPDPPrescriptionOriginCode.html',\n",
       " 'http://www.cms.gov/Medicare/Coding/HCPCSReleaseCodeSets': 'CodeSystem-CMSHCPCSCodes.html',\n",
       " 'http://www.cms.gov/Medicare/Coding/HCPCSReleaseCodeSets|1.1.0': '1.1.0/CodeSystem-CMSHCPCSCodes.html',\n",
       " 'http://hl7.org/fhir/us/carin-bb/CodeSystem/CMSHCPCSCodes': 'CodeSystem-CMSHCPCSCodes.html',\n",
       " 'http://hl7.org/fhir/us/carin-bb/ValueSet/CDCICD910CMDiagnosisCodes|1.1.0': '1.1.0/ValueSet-CDCICD910CMDiagnosisCodes.html',\n",
       " 'http://hl7.org/fhir/us/carin-bb/ValueSet/CDCICD910CMDiagnosisCodes': 'ValueSet-CDCICD910CMDiagnosisCodes.html',\n",
       " 'http://hl7.org/fhir/us/carin-bb/ValueSet/AMACPTCMSHCPCSProcedureCodes|1.1.0': '1.1.0/ValueSet-AMACPTCMSHCPCSProcedureCodes.html',\n",
       " 'http://hl7.org/fhir/us/carin-bb/ValueSet/AMACPTCMSHCPCSProcedureCodes': 'ValueSet-AMACPTCMSHCPCSProcedureCodes.html',\n",
       " 'http://hl7.org/fhir/us/carin-bb/CodeSystem/C4BBSupportingInfoType|1.1.0': '1.1.0/CodeSystem-C4BBSupportingInfoType.html',\n",
       " 'http://hl7.org/fhir/us/carin-bb/CodeSystem/C4BBSupportingInfoType': 'CodeSystem-C4BBSupportingInfoType.html',\n",
       " 'http://uri.hddaccess.com/cs/aprdrg': 'CodeSystem-THREEMAPRDRG.html',\n",
       " 'http://uri.hddaccess.com/cs/aprdrg|1.1.0': '1.1.0/CodeSystem-THREEMAPRDRG.html',\n",
       " 'http://hl7.org/fhir/us/carin-bb/CodeSystem/THREEMAPRDRG': 'CodeSystem-THREEMAPRDRG.html',\n",
       " 'http://hl7.org/fhir/us/carin-bb/CodeSystem/C4BBInstitutionalClaimSubType|1.1.0': '1.1.0/CodeSystem-C4BBInstitutionalClaimSubType.html',\n",
       " 'http://hl7.org/fhir/us/carin-bb/CodeSystem/C4BBInstitutionalClaimSubType': 'CodeSystem-C4BBInstitutionalClaimSubType.html',\n",
       " 'https://www.nubc.org/CodeSystem/TypeOfBill': 'CodeSystem-AHANUBCTypeOfBill.html',\n",
       " 'https://www.nubc.org/CodeSystem/TypeOfBill|1.1.0': '1.1.0/CodeSystem-AHANUBCTypeOfBill.html',\n",
       " 'http://hl7.org/fhir/us/carin-bb/CodeSystem/AHANUBCTypeOfBill': 'CodeSystem-AHANUBCTypeOfBill.html',\n",
       " 'http://hl7.org/fhir/us/carin-bb/ValueSet/NCPDPRejectCode|1.1.0': '1.1.0/ValueSet-NCPDPRejectCode.html',\n",
       " 'http://hl7.org/fhir/us/carin-bb/ValueSet/NCPDPRejectCode': 'ValueSet-NCPDPRejectCode.html',\n",
       " 'http://hl7.org/fhir/us/carin-bb/ValueSet/C4BBClaimIdentifierType|1.1.0': '1.1.0/ValueSet-C4BBClaimIdentifierType.html',\n",
       " 'http://hl7.org/fhir/us/carin-bb/ValueSet/C4BBClaimIdentifierType': 'ValueSet-C4BBClaimIdentifierType.html',\n",
       " 'http://hl7.org/fhir/us/carin-bb/ValueSet/C4BBPayerBenefitPaymentStatus|1.1.0': '1.1.0/ValueSet-C4BBPayerBenefitPaymentStatus.html',\n",
       " 'http://hl7.org/fhir/us/carin-bb/ValueSet/C4BBPayerBenefitPaymentStatus': 'ValueSet-C4BBPayerBenefitPaymentStatus.html',\n",
       " 'http://hl7.org/fhir/us/carin-bb/StructureDefinition/C4BB-ExplanationOfBenefit-Outpatient-Institutional|1.1.0': '1.1.0/StructureDefinition-C4BB-ExplanationOfBenefit-Outpatient-Institutional.html',\n",
       " 'http://hl7.org/fhir/us/carin-bb/StructureDefinition/C4BB-ExplanationOfBenefit-Outpatient-Institutional': 'StructureDefinition-C4BB-ExplanationOfBenefit-Outpatient-Institutional.html',\n",
       " 'http://hl7.org/fhir/us/carin-bb/ValueSet/C4BBClaimOutpatientInstitutionalDiagnosisType|1.1.0': '1.1.0/ValueSet-C4BBClaimOutpatientInstitutionalDiagnosisType.html',\n",
       " 'http://hl7.org/fhir/us/carin-bb/ValueSet/C4BBClaimOutpatientInstitutionalDiagnosisType': 'ValueSet-C4BBClaimOutpatientInstitutionalDiagnosisType.html',\n",
       " 'http://hl7.org/fhir/us/carin-bb/ExplanationOfBenefit/EOBInpatient1': 'ExplanationOfBenefit-EOBInpatient1.html',\n",
       " 'http://hl7.org/fhir/us/carin-bb/ValueSet/C4BBRelatedClaimRelationshipCodes|1.1.0': '1.1.0/ValueSet-C4BBRelatedClaimRelationshipCodes.html',\n",
       " 'http://hl7.org/fhir/us/carin-bb/ValueSet/C4BBRelatedClaimRelationshipCodes': 'ValueSet-C4BBRelatedClaimRelationshipCodes.html',\n",
       " 'http://hl7.org/fhir/us/carin-bb/ValueSet/C4BBPayerClaimPaymentStatusCode|1.1.0': '1.1.0/ValueSet-C4BBPayerClaimPaymentStatusCode.html',\n",
       " 'http://hl7.org/fhir/us/carin-bb/ValueSet/C4BBPayerClaimPaymentStatusCode': 'ValueSet-C4BBPayerClaimPaymentStatusCode.html',\n",
       " 'http://hl7.org/fhir/us/carin-bb/ValueSet/NCPDPDispensedAsWrittenOrProductSelectionCode|1.1.0': '1.1.0/ValueSet-NCPDPDispensedAsWrittenOrProductSelectionCode.html',\n",
       " 'http://hl7.org/fhir/us/carin-bb/ValueSet/NCPDPDispensedAsWrittenOrProductSelectionCode': 'ValueSet-NCPDPDispensedAsWrittenOrProductSelectionCode.html',\n",
       " 'http://hl7.org/fhir/us/carin-bb/CodeSystem/C4BBClaimDiagnosisType|1.1.0': '1.1.0/CodeSystem-C4BBClaimDiagnosisType.html',\n",
       " 'http://hl7.org/fhir/us/carin-bb/CodeSystem/C4BBClaimDiagnosisType': 'CodeSystem-C4BBClaimDiagnosisType.html',\n",
       " 'https://www.nubc.org/CodeSystem/PresentOnAdmissionIndicator': 'CodeSystem-AHANUBCPresentOnAdmission.html',\n",
       " 'https://www.nubc.org/CodeSystem/PresentOnAdmissionIndicator|1.1.0': '1.1.0/CodeSystem-AHANUBCPresentOnAdmission.html',\n",
       " 'http://hl7.org/fhir/us/carin-bb/CodeSystem/AHANUBCPresentOnAdmission': 'CodeSystem-AHANUBCPresentOnAdmission.html',\n",
       " 'http://hl7.org/fhir/us/carin-bb/ValueSet/C4BBAdjudication|1.1.0': '1.1.0/ValueSet-C4BBAdjudication.html',\n",
       " 'http://hl7.org/fhir/us/carin-bb/ValueSet/C4BBAdjudication': 'ValueSet-C4BBAdjudication.html',\n",
       " 'https://www.nubc.org/CodeSystem/PointOfOrigin': 'CodeSystem-AHANUBCPointOfOriginForAdmissionOrVisitNonnewborn.html',\n",
       " 'https://www.nubc.org/CodeSystem/PointOfOrigin|1.1.0': '1.1.0/CodeSystem-AHANUBCPointOfOriginForAdmissionOrVisitNonnewborn.html',\n",
       " 'http://hl7.org/fhir/us/carin-bb/CodeSystem/AHANUBCPointOfOriginForAdmissionOrVisitNonnewborn': 'CodeSystem-AHANUBCPointOfOriginForAdmissionOrVisitNonnewborn.html',\n",
       " 'http://hl7.org/fhir/us/carin-bb/ExplanationOfBenefit/EOBOutpatientInstitutional1': 'ExplanationOfBenefit-EOBOutpatientInstitutional1.html',\n",
       " 'http://terminology.hl7.org/CodeSystem/NCPDPDispensedAsWrittenOrProductSelectionCode': 'CodeSystem-NCPDPDispensedAsWrittenOrProductSelectionCode.html',\n",
       " 'http://terminology.hl7.org/CodeSystem/NCPDPDispensedAsWrittenOrProductSelectionCode|1.1.0': '1.1.0/CodeSystem-NCPDPDispensedAsWrittenOrProductSelectionCode.html',\n",
       " 'http://hl7.org/fhir/us/carin-bb/CodeSystem/NCPDPDispensedAsWrittenOrProductSelectionCode': 'CodeSystem-NCPDPDispensedAsWrittenOrProductSelectionCode.html',\n",
       " 'http://hl7.org/fhir/us/carin-bb/ValueSet/C4BBInstitutionalClaimSubType|1.1.0': '1.1.0/ValueSet-C4BBInstitutionalClaimSubType.html',\n",
       " 'http://hl7.org/fhir/us/carin-bb/ValueSet/C4BBInstitutionalClaimSubType': 'ValueSet-C4BBInstitutionalClaimSubType.html',\n",
       " 'http://hl7.org/fhir/us/carin-bb/StructureDefinition/C4BB-ExplanationOfBenefit-Inpatient-Institutional|1.1.0': '1.1.0/StructureDefinition-C4BB-ExplanationOfBenefit-Inpatient-Institutional.html',\n",
       " 'http://hl7.org/fhir/us/carin-bb/StructureDefinition/C4BB-ExplanationOfBenefit-Inpatient-Institutional': 'StructureDefinition-C4BB-ExplanationOfBenefit-Inpatient-Institutional.html',\n",
       " 'http://hl7.org/fhir/us/carin-bb/ValueSet/AHANUBCPriorityTypeOfAdmissionOrVisit|1.1.0': '1.1.0/ValueSet-AHANUBCPriorityTypeOfAdmissionOrVisit.html',\n",
       " 'http://hl7.org/fhir/us/carin-bb/ValueSet/AHANUBCPriorityTypeOfAdmissionOrVisit': 'ValueSet-AHANUBCPriorityTypeOfAdmissionOrVisit.html',\n",
       " 'http://hl7.org/fhir/us/carin-bb/ValueSet/CMSMS3MAPAPRDRG|1.1.0': '1.1.0/ValueSet-CMSMS3MAPAPRDRG.html',\n",
       " 'http://hl7.org/fhir/us/carin-bb/ValueSet/CMSMS3MAPAPRDRG': 'ValueSet-CMSMS3MAPAPRDRG.html',\n",
       " 'http://hl7.org/fhir/us/carin-bb/ValueSet/NCPDPPrescriptionOriginCode|1.1.0': '1.1.0/ValueSet-NCPDPPrescriptionOriginCode.html',\n",
       " 'http://hl7.org/fhir/us/carin-bb/ValueSet/NCPDPPrescriptionOriginCode': 'ValueSet-NCPDPPrescriptionOriginCode.html',\n",
       " 'https://www.cms.gov/Medicare/Medicare-Fee-for-Service-Payment/AcuteInpatientPPS/MS-DRG-Classifications-and-Software': 'CodeSystem-CMSMSDRG.html',\n",
       " 'https://www.cms.gov/Medicare/Medicare-Fee-for-Service-Payment/AcuteInpatientPPS/MS-DRG-Classifications-and-Software|1.1.0': '1.1.0/CodeSystem-CMSMSDRG.html',\n",
       " 'http://hl7.org/fhir/us/carin-bb/CodeSystem/CMSMSDRG': 'CodeSystem-CMSMSDRG.html',\n",
       " 'http://hl7.org/fhir/us/carin-bb/ValueSet/C4BBAdjudicationCategoryDiscriminator|1.1.0': '1.1.0/ValueSet-C4BBAdjudicationCategoryDiscriminator.html',\n",
       " 'http://hl7.org/fhir/us/carin-bb/ValueSet/C4BBAdjudicationCategoryDiscriminator': 'ValueSet-C4BBAdjudicationCategoryDiscriminator.html',\n",
       " 'http://terminology.hl7.org/CodeSystem/NCPDPRejectCode': 'CodeSystem-NCPDPRejectCode.html',\n",
       " 'http://terminology.hl7.org/CodeSystem/NCPDPRejectCode|1.1.0': '1.1.0/CodeSystem-NCPDPRejectCode.html',\n",
       " 'http://hl7.org/fhir/us/carin-bb/CodeSystem/NCPDPRejectCode': 'CodeSystem-NCPDPRejectCode.html',\n",
       " 'https://www.nubc.org/CodeSystem/PriorityTypeOfAdmitOrVisit': 'CodeSystem-AHANUBCPriorityTypeOfAdmissionOrVisit.html',\n",
       " 'https://www.nubc.org/CodeSystem/PriorityTypeOfAdmitOrVisit|1.1.0': '1.1.0/CodeSystem-AHANUBCPriorityTypeOfAdmissionOrVisit.html',\n",
       " 'http://hl7.org/fhir/us/carin-bb/CodeSystem/AHANUBCPriorityTypeOfAdmissionOrVisit': 'CodeSystem-AHANUBCPriorityTypeOfAdmissionOrVisit.html',\n",
       " 'http://hl7.org/fhir/us/carin-bb/ValueSet/C4BBClaimProcedureType|1.1.0': '1.1.0/ValueSet-C4BBClaimProcedureType.html',\n",
       " 'http://hl7.org/fhir/us/carin-bb/ValueSet/C4BBClaimProcedureType': 'ValueSet-C4BBClaimProcedureType.html',\n",
       " 'http://hl7.org/fhir/us/carin-bb/ValueSet/C4BBPatientIdentifierType|1.1.0': '1.1.0/ValueSet-C4BBPatientIdentifierType.html',\n",
       " 'http://hl7.org/fhir/us/carin-bb/ValueSet/C4BBPatientIdentifierType': 'ValueSet-C4BBPatientIdentifierType.html',\n",
       " 'http://hl7.org/fhir/us/carin-bb/ValueSet/NCPDPCompoundCode|1.1.0': '1.1.0/ValueSet-NCPDPCompoundCode.html',\n",
       " 'http://hl7.org/fhir/us/carin-bb/ValueSet/NCPDPCompoundCode': 'ValueSet-NCPDPCompoundCode.html',\n",
       " 'https://www.nubc.org/CodeSystem/RevenueCodes': 'CodeSystem-AHANUBCRevenueCodes.html',\n",
       " 'https://www.nubc.org/CodeSystem/RevenueCodes|1.1.0': '1.1.0/CodeSystem-AHANUBCRevenueCodes.html',\n",
       " 'http://hl7.org/fhir/us/carin-bb/CodeSystem/AHANUBCRevenueCodes': 'CodeSystem-AHANUBCRevenueCodes.html',\n",
       " 'http://hl7.org/fhir/us/carin-bb/CodeSystem/C4BBClaimProcedureType|1.1.0': '1.1.0/CodeSystem-C4BBClaimProcedureType.html',\n",
       " 'http://hl7.org/fhir/us/carin-bb/CodeSystem/C4BBClaimProcedureType': 'CodeSystem-C4BBClaimProcedureType.html',\n",
       " 'http://hl7.org/fhir/us/carin-bb/ExplanationOfBenefit/EOBProfessional1a': 'ExplanationOfBenefit-EOBProfessional1a.html',\n",
       " 'http://hl7.org/fhir/us/carin-bb/CodeSystem/C4BBPayerAdjudicationStatus|1.1.0': '1.1.0/CodeSystem-C4BBPayerAdjudicationStatus.html',\n",
       " 'http://hl7.org/fhir/us/carin-bb/CodeSystem/C4BBPayerAdjudicationStatus': 'CodeSystem-C4BBPayerAdjudicationStatus.html',\n",
       " 'http://hl7.org/fhir/us/carin-bb/StructureDefinition/C4BB-ExplanationOfBenefit-Pharmacy|1.1.0': '1.1.0/StructureDefinition-C4BB-ExplanationOfBenefit-Pharmacy.html',\n",
       " 'http://hl7.org/fhir/us/carin-bb/StructureDefinition/C4BB-ExplanationOfBenefit-Pharmacy': 'StructureDefinition-C4BB-ExplanationOfBenefit-Pharmacy.html',\n",
       " 'http://hl7.org/fhir/us/carin-bb/ValueSet/NCPDPBrandGenericIndicator|1.1.0': '1.1.0/ValueSet-NCPDPBrandGenericIndicator.html',\n",
       " 'http://hl7.org/fhir/us/carin-bb/ValueSet/NCPDPBrandGenericIndicator': 'ValueSet-NCPDPBrandGenericIndicator.html',\n",
       " 'http://hl7.org/fhir/us/carin-bb/ValueSet/AHANUBCPatientDischargeStatus|1.1.0': '1.1.0/ValueSet-AHANUBCPatientDischargeStatus.html',\n",
       " 'http://hl7.org/fhir/us/carin-bb/ValueSet/AHANUBCPatientDischargeStatus': 'ValueSet-AHANUBCPatientDischargeStatus.html',\n",
       " 'https://x12.org/codes/remittance-advice-remark-codes': 'CodeSystem-CMSRemittanceAdviceRemarkCodes.html',\n",
       " 'https://x12.org/codes/remittance-advice-remark-codes|1.1.0': '1.1.0/CodeSystem-CMSRemittanceAdviceRemarkCodes.html',\n",
       " 'http://hl7.org/fhir/us/carin-bb/CodeSystem/CMSRemittanceAdviceRemarkCodes': 'CodeSystem-CMSRemittanceAdviceRemarkCodes.html',\n",
       " 'http://hl7.org/fhir/us/carin-bb/ExplanationOfBenefit/EOBPharmacy1': 'ExplanationOfBenefit-EOBPharmacy1.html',\n",
       " 'http://hl7.org/fhir/us/carin-bb/ValueSet/AHANUBCPresentOnAdmission|1.1.0': '1.1.0/ValueSet-AHANUBCPresentOnAdmission.html',\n",
       " 'http://hl7.org/fhir/us/carin-bb/ValueSet/AHANUBCPresentOnAdmission': 'ValueSet-AHANUBCPresentOnAdmission.html',\n",
       " 'http://hl7.org/fhir/us/carin-bb/StructureDefinition/C4BB-Practitioner|1.1.0': '1.1.0/StructureDefinition-C4BB-Practitioner.html',\n",
       " 'http://hl7.org/fhir/us/carin-bb/StructureDefinition/C4BB-Practitioner': 'StructureDefinition-C4BB-Practitioner.html',\n",
       " 'https://www.cms.gov/Medicare/Medicare-Fee-for-Service-Payment/ProspMedicareFeeSvcPmtGen/HIPPSCodes': 'CodeSystem-CMSHIPPSCodes.html',\n",
       " 'https://www.cms.gov/Medicare/Medicare-Fee-for-Service-Payment/ProspMedicareFeeSvcPmtGen/HIPPSCodes|1.1.0': '1.1.0/CodeSystem-CMSHIPPSCodes.html',\n",
       " 'http://hl7.org/fhir/us/carin-bb/CodeSystem/CMSHIPPSCodes': 'CodeSystem-CMSHIPPSCodes.html',\n",
       " 'http://hl7.org/fhir/us/carin-bb/ValueSet/CMSICD910PCSProcedureCodes|1.1.0': '1.1.0/ValueSet-CMSICD910PCSProcedureCodes.html',\n",
       " 'http://hl7.org/fhir/us/carin-bb/ValueSet/CMSICD910PCSProcedureCodes': 'ValueSet-CMSICD910PCSProcedureCodes.html',\n",
       " 'http://hl7.org/fhir/us/carin-bb/ValueSet/AHANUBCTypeOfBill|1.1.0': '1.1.0/ValueSet-AHANUBCTypeOfBill.html',\n",
       " 'http://hl7.org/fhir/us/carin-bb/ValueSet/AHANUBCTypeOfBill': 'ValueSet-AHANUBCTypeOfBill.html',\n",
       " 'http://hl7.org/fhir/us/carin-bb/CodeSystem/C4BBPayeeType|1.1.0': '1.1.0/CodeSystem-C4BBPayeeType.html',\n",
       " 'http://hl7.org/fhir/us/carin-bb/CodeSystem/C4BBPayeeType': 'CodeSystem-C4BBPayeeType.html',\n",
       " 'http://hl7.org/fhir/us/carin-bb/ValueSet/C4BBEOBInstitutionalProcedureCodes|1.1.0': '1.1.0/ValueSet-C4BBEOBInstitutionalProcedureCodes.html',\n",
       " 'http://hl7.org/fhir/us/carin-bb/ValueSet/C4BBEOBInstitutionalProcedureCodes': 'ValueSet-C4BBEOBInstitutionalProcedureCodes.html',\n",
       " 'http://hl7.org/fhir/us/carin-bb/CodeSystem/C4BBIdentifierType|1.1.0': '1.1.0/CodeSystem-C4BBIdentifierType.html',\n",
       " 'http://hl7.org/fhir/us/carin-bb/CodeSystem/C4BBIdentifierType': 'CodeSystem-C4BBIdentifierType.html',\n",
       " 'http://hl7.org/fhir/us/carin-bb/ValueSet/C4BBClaimProfessionalAndNonClinicianDiagnosisType|1.1.0': '1.1.0/ValueSet-C4BBClaimProfessionalAndNonClinicianDiagnosisType.html',\n",
       " 'http://hl7.org/fhir/us/carin-bb/ValueSet/C4BBClaimProfessionalAndNonClinicianDiagnosisType': 'ValueSet-C4BBClaimProfessionalAndNonClinicianDiagnosisType.html',\n",
       " 'http://hl7.org/fhir/us/carin-bb/ValueSet/AMACPTCMSHCPCSModifiers|1.1.0': '1.1.0/ValueSet-AMACPTCMSHCPCSModifiers.html',\n",
       " 'http://hl7.org/fhir/us/carin-bb/ValueSet/AMACPTCMSHCPCSModifiers': 'ValueSet-AMACPTCMSHCPCSModifiers.html',\n",
       " 'http://hl7.org/fhir/us/carin-bb/CodeSystem/C4BBCompoundLiteral|1.1.0': '1.1.0/CodeSystem-C4BBCompoundLiteral.html',\n",
       " 'http://hl7.org/fhir/us/carin-bb/CodeSystem/C4BBCompoundLiteral': 'CodeSystem-C4BBCompoundLiteral.html',\n",
       " 'https://x12.org/codes/claim-adjustment-reason-codes': 'CodeSystem-X12ClaimAdjustmentReasonCodes.html',\n",
       " 'https://x12.org/codes/claim-adjustment-reason-codes|1.1.0': '1.1.0/CodeSystem-X12ClaimAdjustmentReasonCodes.html',\n",
       " 'http://hl7.org/fhir/us/carin-bb/CodeSystem/X12ClaimAdjustmentReasonCodes': 'CodeSystem-X12ClaimAdjustmentReasonCodes.html',\n",
       " 'http://hl7.org/fhir/us/carin-bb/ValueSet/C4BBPayeeType|1.1.0': '1.1.0/ValueSet-C4BBPayeeType.html',\n",
       " 'http://hl7.org/fhir/us/carin-bb/ValueSet/C4BBPayeeType': 'ValueSet-C4BBPayeeType.html',\n",
       " 'https://www.nubc.org/CodeSystem/PatDischargeStatus': 'CodeSystem-AHANUBCPatientDischargeStatus.html',\n",
       " 'https://www.nubc.org/CodeSystem/PatDischargeStatus|1.1.0': '1.1.0/CodeSystem-AHANUBCPatientDischargeStatus.html',\n",
       " 'http://hl7.org/fhir/us/carin-bb/CodeSystem/AHANUBCPatientDischargeStatus': 'CodeSystem-AHANUBCPatientDischargeStatus.html',\n",
       " 'http://hl7.org/fhir/us/carin-bb/StructureDefinition/C4BB-ExplanationOfBenefit-Professional-NonClinician|1.1.0': '1.1.0/StructureDefinition-C4BB-ExplanationOfBenefit-Professional-NonClinician.html',\n",
       " 'http://hl7.org/fhir/us/carin-bb/StructureDefinition/C4BB-ExplanationOfBenefit-Professional-NonClinician': 'StructureDefinition-C4BB-ExplanationOfBenefit-Professional-NonClinician.html',\n",
       " 'http://uri.hddaccess.com/cs/apdrg': 'CodeSystem-THREEMAPDRG.html',\n",
       " 'http://uri.hddaccess.com/cs/apdrg|1.1.0': '1.1.0/CodeSystem-THREEMAPDRG.html',\n",
       " 'http://hl7.org/fhir/us/carin-bb/CodeSystem/THREEMAPDRG': 'CodeSystem-THREEMAPDRG.html',\n",
       " 'http://hl7.org/fhir/us/carin-bb/CodeSystem/C4BBAdjudicationDiscriminator|1.1.0': '1.1.0/CodeSystem-C4BBAdjudicationDiscriminator.html',\n",
       " 'http://hl7.org/fhir/us/carin-bb/CodeSystem/C4BBAdjudicationDiscriminator': 'CodeSystem-C4BBAdjudicationDiscriminator.html',\n",
       " 'http://hl7.org/fhir/us/carin-bb/StructureDefinition/C4BB-Coverage|1.1.0': '1.1.0/StructureDefinition-C4BB-Coverage.html',\n",
       " 'http://hl7.org/fhir/us/carin-bb/StructureDefinition/C4BB-Coverage': 'StructureDefinition-C4BB-Coverage.html',\n",
       " 'http://hl7.org/fhir/us/carin-bb/StructureDefinition/C4BB-Organization|1.1.0': '1.1.0/StructureDefinition-C4BB-Organization.html',\n",
       " 'http://hl7.org/fhir/us/carin-bb/StructureDefinition/C4BB-Organization': 'StructureDefinition-C4BB-Organization.html',\n",
       " 'http://hl7.org/fhir/us/carin-bb/ValueSet/CMSPlaceofServiceCodes|1.1.0': '1.1.0/ValueSet-CMSPlaceofServiceCodes.html',\n",
       " 'http://hl7.org/fhir/us/carin-bb/ValueSet/CMSPlaceofServiceCodes': 'ValueSet-CMSPlaceofServiceCodes.html',\n",
       " 'http://hl7.org/fhir/us/carin-bb/ValueSet/X12ClaimAdjustmentReasonCodesCMSRemittanceAdviceRemarkCodes|1.1.0': '1.1.0/ValueSet-X12ClaimAdjustmentReasonCodesCMSRemittanceAdviceRemarkCodes.html',\n",
       " 'http://hl7.org/fhir/us/carin-bb/ValueSet/X12ClaimAdjustmentReasonCodesCMSRemittanceAdviceRemarkCodes': 'ValueSet-X12ClaimAdjustmentReasonCodesCMSRemittanceAdviceRemarkCodes.html',\n",
       " 'https://www.cms.gov/Medicare/Coding/place-of-service-codes/Place_of_Service_Code_Set': 'CodeSystem-CMSPlaceofServiceCodes.html',\n",
       " 'https://www.cms.gov/Medicare/Coding/place-of-service-codes/Place_of_Service_Code_Set|1.1.0': '1.1.0/CodeSystem-CMSPlaceofServiceCodes.html',\n",
       " 'http://hl7.org/fhir/us/carin-bb/CodeSystem/CMSPlaceofServiceCodes': 'CodeSystem-CMSPlaceofServiceCodes.html',\n",
       " 'http://hl7.org/fhir/us/carin-bb/StructureDefinition/C4BB-Patient|1.1.0': '1.1.0/StructureDefinition-C4BB-Patient.html',\n",
       " 'http://hl7.org/fhir/us/carin-bb/StructureDefinition/C4BB-Patient': 'StructureDefinition-C4BB-Patient.html',\n",
       " 'http://hl7.org/fhir/us/carin-bb/ValueSet/C4BBClaimProfessionalAndNonClinicianCareTeamRole|1.1.0': '1.1.0/ValueSet-C4BBClaimProfessionalAndNonClinicianCareTeamRole.html',\n",
       " 'http://hl7.org/fhir/us/carin-bb/ValueSet/C4BBClaimProfessionalAndNonClinicianCareTeamRole': 'ValueSet-C4BBClaimProfessionalAndNonClinicianCareTeamRole.html',\n",
       " 'http://hl7.org/fhir/us/carin-bb/ValueSet/C4BBTotalCategoryDiscriminator|1.1.0': '1.1.0/ValueSet-C4BBTotalCategoryDiscriminator.html',\n",
       " 'http://hl7.org/fhir/us/carin-bb/ValueSet/C4BBTotalCategoryDiscriminator': 'ValueSet-C4BBTotalCategoryDiscriminator.html',\n",
       " 'http://hl7.org/fhir/us/carin-bb/ValueSet/C4BBSupportingInfoType|1.1.0': '1.1.0/ValueSet-C4BBSupportingInfoType.html',\n",
       " 'http://hl7.org/fhir/us/carin-bb/ValueSet/C4BBSupportingInfoType': 'ValueSet-C4BBSupportingInfoType.html',\n",
       " 'http://hl7.org/fhir/us/carin-bb/CodeSystem/C4BBClaimCareTeamRole|1.1.0': '1.1.0/CodeSystem-C4BBClaimCareTeamRole.html',\n",
       " 'http://hl7.org/fhir/us/carin-bb/CodeSystem/C4BBClaimCareTeamRole': 'CodeSystem-C4BBClaimCareTeamRole.html'}"
      ]
     },
     "execution_count": 75,
     "metadata": {},
     "output_type": "execute_result"
    }
   ],
   "source": [
    "import tarfile\n",
    "\n",
    "def get_si(tar_file):\n",
    "    print(path)\n",
    "    with tarfile.open(tar_file, mode='r') as tf:\n",
    "        #pprint(tf.getnames())\n",
    "        f = tf.extractfile('package/other/spec.internals')\n",
    "        r = f.read()\n",
    "        return(loads(r))\n",
    "\n",
    "\n",
    "si = get_si(path)\n",
    "       \n",
    "path_map = si['paths']\n",
    "\n",
    "\n",
    "#can = 'http://hl7.org/fhir/us/carin/StructureDefinition/carin-bb-explanationofbenefit-inpatient-facility'\n",
    "#path_map[can]\n",
    "path_map"
   ]
  },
  {
   "cell_type": "markdown",
   "metadata": {},
   "source": [
    "### Get URL:Name/Title mapping from package file"
   ]
  },
  {
   "cell_type": "code",
   "execution_count": 76,
   "metadata": {},
   "outputs": [
    {
     "name": "stdout",
     "output_type": "stream",
     "text": [
      "/Users/ehaas/Documents/Python/MyNotebooks/CapStatement/cs_source_file/package.tgz\n",
      "****package/example/Organization-ProviderOrganization1.jsonis not a conf resource***\n",
      "****package/example/Organization-ProviderOrganization5.jsonis not a conf resource***\n",
      "****package/example/Coverage-CoverageEx2.jsonis not a conf resource***\n",
      "****package/example/Practitioner-Practitioner2.jsonis not a conf resource***\n",
      "****package/example/Organization-ProviderOrganization4.jsonis not a conf resource***\n",
      "****package/example/Coverage-CoverageEx1.jsonis not a conf resource***\n",
      "****package/example/Organization-PayerOrganizationExample1.jsonis not a conf resource***\n",
      "****package/example/Organization-ProviderOrganization6.jsonis not a conf resource***\n",
      "****package/example/ExplanationOfBenefit-InpatientEOBExample1.jsonis not a conf resource***\n",
      "****package/example/Patient-ExamplePatient1.jsonis not a conf resource***\n",
      "****package/example/Practitioner-Practitioner3.jsonis not a conf resource***\n",
      "****package/example/ExplanationOfBenefit-ProfessionalEOBExample1.jsonis not a conf resource***\n",
      "****package/example/Practitioner-Practitioner1.jsonis not a conf resource***\n",
      "****package/example/ExplanationOfBenefit-OutpatientEOBExample1.jsonis not a conf resource***\n",
      "****package/example/Organization-ProviderOrganization3.jsonis not a conf resource***\n",
      "****package/example/Organization-OrganizationProvider1.jsonis not a conf resource***\n",
      "****package/example/Coverage-Coverage1.jsonis not a conf resource***\n",
      "****package/example/Patient-Patient1.jsonis not a conf resource***\n",
      "****package/example/Organization-Payer1.jsonis not a conf resource***\n",
      "****package/example/ExplanationOfBenefit-EOBInpatient1.jsonis not a conf resource***\n",
      "****package/example/ExplanationOfBenefit-EOBOutpatientInstitutional1.jsonis not a conf resource***\n",
      "****package/example/ExplanationOfBenefit-EOBProfessional1a.jsonis not a conf resource***\n",
      "****package/example/ExplanationOfBenefit-EOBPharmacy1.jsonis not a conf resource***\n",
      "****package/openapi/c4bb.openapi.jsonis not a conf resource***\n",
      "****package/other/spec.internalsis not a conf resource***\n",
      "****package/other/validation-summary.jsonis not a conf resource***\n",
      "****package/other/validation-oo.jsonis not a conf resource***\n",
      "****package/.index.jsonis not a conf resource***\n"
     ]
    },
    {
     "data": {
      "text/plain": [
       "{'https://build.fhir.org/ig/HL7/carin-bb/': 'CARIN Consumer Directed Payer Data Exchange (CARIN IG for Blue Button®)',\n",
       " 'http://hl7.org/fhir/us/carin-bb/ImplementationGuide/hl7.fhir.us.carin-bb': 'CARIN Consumer Directed Payer Data Exchange (CARIN IG for Blue Button®)',\n",
       " 'http://hl7.org/fhir/us/carin-bb/SearchParameter/explanationofbenefit-type': 'ExplanationOfBenefit_Type',\n",
       " 'http://hl7.org/fhir/us/carin-bb/SearchParameter/explanationofbenefit-coverage': 'ExplanationOfBenefit_Coverage',\n",
       " 'http://hl7.org/fhir/us/carin-bb/SearchParameter/practitionerrole-practitioner': 'ExplanationOfBenefit_Practitioner',\n",
       " 'http://hl7.org/fhir/us/carin-bb/SearchParameter/explanationofbenefit-service-date': 'ExplanationOfBenefit_ServiceDate',\n",
       " 'http://hl7.org/fhir/us/carin-bb/SearchParameter/explanationofbenefit-patient': 'ExplanationOfBenefit_Patient',\n",
       " 'http://hl7.org/fhir/us/carin-bb/SearchParameter/practitionerrole-organization': 'ExplanationOfBenefit_Organization',\n",
       " 'http://hl7.org/fhir/us/carin-bb/SearchParameter/explanationofbenefit-identifier': 'ExplanationOfBenefit_Identifier',\n",
       " 'http://hl7.org/fhir/us/carin-bb/CapabilityStatement/c4bb': 'C4BB CapabilityStatement',\n",
       " 'http://hl7.org/fhir/us/carin-bb/SearchParameter/coverage-payor': 'Coverage_Payor',\n",
       " 'http://hl7.org/fhir/us/carin-bb/SearchParameter/explanationofbenefit-insurer': 'ExplanationOfBenefit_Insurer',\n",
       " 'http://hl7.org/fhir/us/carin-bb/SearchParameter/explanationofbenefit-provider': 'ExplanationOfBenefit_Provider',\n",
       " 'http://hl7.org/fhir/us/carin-bb/SearchParameter/explanationofbenefit-care-team': 'ExplanationOfBenefit_Careteam',\n",
       " 'http://hl7.org/fhir/us/carin-bb/ValueSet/AHANUBCPointOfOriginForAdmissionOrVisit': 'NUBC Point Of Origin',\n",
       " 'http://hl7.org/fhir/us/carin-bb/ValueSet/C4BBPractitionerIdentifierType': 'C4BB Practitioner Identifier Type',\n",
       " 'http://terminology.hl7.org/CodeSystem/NCPDPCompoundCode': 'NCPDP Compound Code',\n",
       " 'http://hl7.org/fhir/us/carin-bb/ValueSet/C4BBClaimPharmacyTeamRole': 'C4BB Claim Pharmacy CareTeam Roles',\n",
       " 'http://hl7.org/fhir/us/carin-bb/ValueSet/C4BBClaimInpatientInstitutionalDiagnosisType': 'C4BB Claim Inpatient Institutional Diagnosis Type',\n",
       " 'http://hl7.org/fhir/us/carin-bb/ValueSet/FDANDCOrCompound': 'NDC or Compound',\n",
       " 'http://hl7.org/fhir/us/carin-bb/ValueSet/AHANUBCRevenueCodes': 'NUBC Revenue Codes',\n",
       " 'http://hl7.org/fhir/us/carin-bb/ValueSet/C4BBPayerProviderContractingStatus': 'C4BB Payer Provider Contracting Status',\n",
       " 'http://hl7.org/fhir/us/carin-bb/StructureDefinition/C4BB-ExplanationOfBenefit': 'C4BB Explanation Of Benefit',\n",
       " 'http://hl7.org/fhir/us/carin-bb/CodeSystem/C4BBAdjudication': 'C4BB Adjudication',\n",
       " 'http://terminology.hl7.org/CodeSystem/NCPDPBrandGenericIndicator': 'NCPDP Brand Generic Indicator',\n",
       " 'http://hl7.org/fhir/us/carin-bb/CodeSystem/C4BBRelatedClaimRelationshipCodes': 'C4BB Related Claim Relationship Codes',\n",
       " 'https://www.nubc.org/CodeSystem/PointOfOriginNewborn': 'NUBC Point Of Origin for Newborn',\n",
       " 'http://hl7.org/fhir/us/carin-bb/ValueSet/C4BBOrganizationIdentifierType': 'C4BB Organization Identifier Type',\n",
       " 'http://hl7.org/fhir/us/carin-bb/ValueSet/C4BBClaimInstitutionalCareTeamRole': 'C4BB Claim Institutional Care Team Role',\n",
       " 'http://hl7.org/fhir/us/carin-bb/ValueSet/FDANationalDrugCode': 'National Drug Code (NDC)',\n",
       " 'http://terminology.hl7.org/CodeSystem/NCPDPPrescriptionOriginCode': 'NCPDP Prescription Origin Code',\n",
       " 'http://www.cms.gov/Medicare/Coding/HCPCSReleaseCodeSets': 'Healthcare Common Procedure Coding System (HCPCS) level II alphanumeric codes',\n",
       " 'http://hl7.org/fhir/us/carin-bb/ValueSet/CDCICD910CMDiagnosisCodes': 'Diagnosis Codes - International Classification of Diseases, Clinical Modification (ICD-9-CM, ICD-10-CM)',\n",
       " 'http://hl7.org/fhir/us/carin-bb/ValueSet/AMACPTCMSHCPCSProcedureCodes': 'Procedure Codes - AMA CPT - CMS HCPCS',\n",
       " 'http://hl7.org/fhir/us/carin-bb/CodeSystem/C4BBSupportingInfoType': 'C4BB Supporting Info Type',\n",
       " 'http://uri.hddaccess.com/cs/aprdrg': 'All Patient Refined Diagnosis Related Groups (APR-DRGs)',\n",
       " 'http://hl7.org/fhir/us/carin-bb/CodeSystem/C4BBInstitutionalClaimSubType': 'C4BB Institutional Claim SubType',\n",
       " 'https://www.nubc.org/CodeSystem/TypeOfBill': 'NUBC Type Of Bill Codes',\n",
       " 'http://hl7.org/fhir/us/carin-bb/ValueSet/NCPDPRejectCode': 'NCPDP Reject Code',\n",
       " 'http://hl7.org/fhir/us/carin-bb/ValueSet/C4BBClaimIdentifierType': 'C4BB Claim Identifier Type',\n",
       " 'http://hl7.org/fhir/us/carin-bb/ValueSet/C4BBPayerBenefitPaymentStatus': 'C4BB Payer Benefit Payment Status',\n",
       " 'http://hl7.org/fhir/us/carin-bb/StructureDefinition/C4BB-ExplanationOfBenefit-Outpatient-Institutional': 'C4BB ExplanationOfBenefit Outpatient Institutional',\n",
       " 'http://hl7.org/fhir/us/carin-bb/ValueSet/C4BBClaimOutpatientInstitutionalDiagnosisType': 'C4BB Claim Outpatient Institutional Diagnosis Type',\n",
       " 'http://hl7.org/fhir/us/carin-bb/ValueSet/C4BBRelatedClaimRelationshipCodes': 'C4BB Related Claim Relationship Codes',\n",
       " 'http://hl7.org/fhir/us/carin-bb/ValueSet/C4BBPayerClaimPaymentStatusCode': 'C4BB Payer Claim Payment Status Code',\n",
       " 'http://hl7.org/fhir/us/carin-bb/ValueSet/NCPDPDispensedAsWrittenOrProductSelectionCode': 'NCPDP Dispense As Written (DAW)/Product Selection Code',\n",
       " 'http://hl7.org/fhir/us/carin-bb/CodeSystem/C4BBClaimDiagnosisType': 'C4BB Claim Diagnosis Type',\n",
       " 'https://www.nubc.org/CodeSystem/PresentOnAdmissionIndicator': 'NUBC Present On Admission Indicator Codes',\n",
       " 'http://hl7.org/fhir/us/carin-bb/ValueSet/C4BBAdjudication': 'C4BB Adjudication',\n",
       " 'https://www.nubc.org/CodeSystem/PointOfOrigin': 'NUBC Point Of Origin for Non-newborn',\n",
       " 'http://terminology.hl7.org/CodeSystem/NCPDPDispensedAsWrittenOrProductSelectionCode': 'NCPDP Dispense As Written (DAW)/Product Selection Code',\n",
       " 'http://hl7.org/fhir/us/carin-bb/ValueSet/C4BBInstitutionalClaimSubType': 'C4BB Institutional Claim SubType',\n",
       " 'http://hl7.org/fhir/us/carin-bb/StructureDefinition/C4BB-ExplanationOfBenefit-Inpatient-Institutional': 'C4BB ExplanationOfBenefit Inpatient Institutional',\n",
       " 'http://hl7.org/fhir/us/carin-bb/ValueSet/AHANUBCPriorityTypeOfAdmissionOrVisit': 'NUBC Priority (Type) of Admission or Visit',\n",
       " 'http://hl7.org/fhir/us/carin-bb/ValueSet/CMSMS3MAPAPRDRG': 'MS-DRGs - AP-DRGs - APR-DRGs',\n",
       " 'http://hl7.org/fhir/us/carin-bb/ValueSet/NCPDPPrescriptionOriginCode': 'NCPDP Prescription Origin Code',\n",
       " 'https://www.cms.gov/Medicare/Medicare-Fee-for-Service-Payment/AcuteInpatientPPS/MS-DRG-Classifications-and-Software': 'Medicare Severity Diagnosis Related Groups (MS-DRGs)',\n",
       " 'http://hl7.org/fhir/us/carin-bb/ValueSet/C4BBAdjudicationCategoryDiscriminator': 'C4BB Adjudication Category Discriminator',\n",
       " 'http://terminology.hl7.org/CodeSystem/NCPDPRejectCode': 'NCPDP Reject Code',\n",
       " 'https://www.nubc.org/CodeSystem/PriorityTypeOfAdmitOrVisit': 'NUBC Priority (Type) of Admission or Visit',\n",
       " 'http://hl7.org/fhir/us/carin-bb/ValueSet/C4BBClaimProcedureType': 'C4BB Claim Procedure Type',\n",
       " 'http://hl7.org/fhir/us/carin-bb/ValueSet/C4BBPatientIdentifierType': 'C4BB Patient Identifier Type',\n",
       " 'http://hl7.org/fhir/us/carin-bb/ValueSet/NCPDPCompoundCode': 'NCPDP Compound Code',\n",
       " 'https://www.nubc.org/CodeSystem/RevenueCodes': 'NUBC Revenue Codes',\n",
       " 'http://hl7.org/fhir/us/carin-bb/CodeSystem/C4BBClaimProcedureType': 'C4BB Claim Procedure Type',\n",
       " 'http://hl7.org/fhir/us/carin-bb/CodeSystem/C4BBPayerAdjudicationStatus': 'C4BB Payer Adjudication Status',\n",
       " 'http://hl7.org/fhir/us/carin-bb/StructureDefinition/C4BB-ExplanationOfBenefit-Pharmacy': 'C4BB ExplanationOfBenefit Pharmacy',\n",
       " 'http://hl7.org/fhir/us/carin-bb/ValueSet/NCPDPBrandGenericIndicator': 'NCPDP Brand Generic Indicator',\n",
       " 'http://hl7.org/fhir/us/carin-bb/ValueSet/AHANUBCPatientDischargeStatus': 'NUBC Patient Discharge Status Codes',\n",
       " 'https://x12.org/codes/remittance-advice-remark-codes': 'X12 Remittance Advice Remark Codes',\n",
       " 'http://hl7.org/fhir/us/carin-bb/ValueSet/AHANUBCPresentOnAdmission': 'NUBC Present On Admission Indicator Codes',\n",
       " 'http://hl7.org/fhir/us/carin-bb/StructureDefinition/C4BB-Practitioner': 'C4BB Practitioner',\n",
       " 'https://www.cms.gov/Medicare/Medicare-Fee-for-Service-Payment/ProspMedicareFeeSvcPmtGen/HIPPSCodes': 'Health Insurance Prospective Payment System (HIPPS)',\n",
       " 'http://hl7.org/fhir/us/carin-bb/ValueSet/CMSICD910PCSProcedureCodes': 'Procedure Codes - International Classification of Diseases, Ninth Revision, Clinical Modification (ICD-9-CM) - ICD-10 Procedure Coding System',\n",
       " 'http://hl7.org/fhir/us/carin-bb/ValueSet/AHANUBCTypeOfBill': 'NUBC Type of Bill Codes',\n",
       " 'http://hl7.org/fhir/us/carin-bb/CodeSystem/C4BBPayeeType': 'C4BB Payee Type',\n",
       " 'http://hl7.org/fhir/us/carin-bb/ValueSet/C4BBEOBInstitutionalProcedureCodes': 'Procedure Codes - AMA CPT - CMS HCPCS - CMS HIPPS',\n",
       " 'http://hl7.org/fhir/us/carin-bb/CodeSystem/C4BBIdentifierType': 'C4BB Identifier Type',\n",
       " 'http://hl7.org/fhir/us/carin-bb/ValueSet/C4BBClaimProfessionalAndNonClinicianDiagnosisType': 'C4BB Claim Professional And Non Clinician Diagnosis Type',\n",
       " 'http://hl7.org/fhir/us/carin-bb/ValueSet/AMACPTCMSHCPCSModifiers': 'Procedure Modifier Codes - AMA CPT - CMS HCPCS',\n",
       " 'http://hl7.org/fhir/us/carin-bb/CodeSystem/C4BBCompoundLiteral': 'C4BB Compound Literal',\n",
       " 'https://x12.org/codes/claim-adjustment-reason-codes': 'X12 Claim Adjustment Reason Codes',\n",
       " 'http://hl7.org/fhir/us/carin-bb/ValueSet/C4BBPayeeType': 'C4BB Payee Type',\n",
       " 'https://www.nubc.org/CodeSystem/PatDischargeStatus': 'NUBC Patient Discharge Status Codes',\n",
       " 'http://hl7.org/fhir/us/carin-bb/StructureDefinition/C4BB-ExplanationOfBenefit-Professional-NonClinician': 'C4BB ExplanationOfBenefit Professional NonClinician',\n",
       " 'http://uri.hddaccess.com/cs/apdrg': 'All Patient Diagnosis Related Groups (AP-DRGs)',\n",
       " 'http://hl7.org/fhir/us/carin-bb/CodeSystem/C4BBAdjudicationDiscriminator': 'C4BB Adjudication Discriminator',\n",
       " 'http://hl7.org/fhir/us/carin-bb/StructureDefinition/C4BB-Coverage': 'C4BB Coverage',\n",
       " 'http://hl7.org/fhir/us/carin-bb/StructureDefinition/C4BB-Organization': 'C4BB Organization',\n",
       " 'http://hl7.org/fhir/us/carin-bb/ValueSet/CMSPlaceofServiceCodes': 'CMS Place of Service Codes (POS)',\n",
       " 'http://hl7.org/fhir/us/carin-bb/ValueSet/X12ClaimAdjustmentReasonCodesCMSRemittanceAdviceRemarkCodes': 'X12 Claim Adjustment Reason Codes - Remittance Advice Remark Codes',\n",
       " 'https://www.cms.gov/Medicare/Coding/place-of-service-codes/Place_of_Service_Code_Set': 'CMS Place of Service Codes (POS)',\n",
       " 'http://hl7.org/fhir/us/carin-bb/StructureDefinition/C4BB-Patient': 'C4BB Patient',\n",
       " 'http://hl7.org/fhir/us/carin-bb/ValueSet/C4BBClaimProfessionalAndNonClinicianCareTeamRole': 'C4BB Claim Professional And Non Clinician Care Team Role',\n",
       " 'http://hl7.org/fhir/us/carin-bb/ValueSet/C4BBTotalCategoryDiscriminator': 'C4BB Total Category Discriminator',\n",
       " 'http://hl7.org/fhir/us/carin-bb/ValueSet/C4BBSupportingInfoType': 'C4BB SupportingInfo Type',\n",
       " 'http://hl7.org/fhir/us/carin-bb/CodeSystem/C4BBClaimCareTeamRole': 'C4BB Claim Care Team Role'}"
      ]
     },
     "execution_count": 76,
     "metadata": {},
     "output_type": "execute_result"
    }
   ],
   "source": [
    "from json import JSONDecodeError\n",
    "def get_name_map(tar_file):\n",
    "    print(path)\n",
    "    name_map = {}\n",
    "    with tarfile.open(tar_file, mode='r') as tf:\n",
    "        for p_file in tf.getnames():\n",
    "            #print(p_file)\n",
    "            f = tf.extractfile(p_file)\n",
    "            r = f.read()\n",
    "            #print(type(r))\n",
    "            try:\n",
    "                r_dict = loads(r)\n",
    "            except JSONDecodeError: # not a json file\n",
    "                continue\n",
    "            try:\n",
    "                name_map[r_dict['url']] = r_dict['title']\n",
    "                #print(r_dict['title'])\n",
    "            except KeyError:\n",
    "                try:\n",
    "                    name_map[r_dict['url']] = r_dict['name']\n",
    "                    #print(r_dict['name'])\n",
    "                except KeyError: # not a conf resource\n",
    "                    print(f'****{p_file}is not a conf resource***')\n",
    "        return(name_map)\n",
    "\n",
    "\n",
    "name_map = get_name_map(path)\n",
    "name_map       "
   ]
  },
  {
   "cell_type": "markdown",
   "metadata": {},
   "source": [
    "### Get SearchParameter parameter name: type mapping from package file"
   ]
  },
  {
   "cell_type": "code",
   "execution_count": 77,
   "metadata": {},
   "outputs": [
    {
     "name": "stdout",
     "output_type": "stream",
     "text": [
      "/Users/ehaas/Documents/Python/MyNotebooks/CapStatement/cs_source_file/package.tgz\n",
      "**********package/SearchParameter-explanationofbenefit-type.json\n",
      "token\n",
      "**********package/SearchParameter-explanationofbenefit-coverage.json\n",
      "reference\n",
      "**********package/SearchParameter-practitionerrole-practitioner.json\n",
      "reference\n",
      "**********package/SearchParameter-explanationofbenefit-service-date.json\n",
      "date\n",
      "**********package/SearchParameter-explanationofbenefit-patient.json\n",
      "reference\n",
      "**********package/SearchParameter-practitionerrole-organization.json\n",
      "reference\n",
      "**********package/SearchParameter-explanationofbenefit-identifier.json\n",
      "token\n",
      "**********package/SearchParameter-coverage-payor.json\n",
      "reference\n",
      "**********package/SearchParameter-explanationofbenefit-insurer.json\n",
      "reference\n",
      "**********package/SearchParameter-explanationofbenefit-provider.json\n",
      "reference\n",
      "**********package/SearchParameter-explanationofbenefit-care-team.json\n",
      "reference\n"
     ]
    },
    {
     "data": {
      "text/plain": [
       "{'type': 'token',\n",
       " 'coverage': 'reference',\n",
       " 'practitioner': 'reference',\n",
       " 'service-date': 'date',\n",
       " 'patient': 'reference',\n",
       " 'organization': 'reference',\n",
       " 'identifier': 'token',\n",
       " 'payor': 'reference',\n",
       " 'insurer': 'reference',\n",
       " 'provider': 'reference',\n",
       " 'care-team': 'reference'}"
      ]
     },
     "execution_count": 77,
     "metadata": {},
     "output_type": "execute_result"
    }
   ],
   "source": [
    "def get_sp_map(tar_file):\n",
    "    print(path)\n",
    "    sp_map = {}\n",
    "    with tarfile.open(tar_file, mode='r') as tf:\n",
    "        for p_file in tf.getnames():\n",
    "            #print(p_file)\n",
    "            if 'searchparameter' in p_file.lower():\n",
    "                print(f'**********{p_file}')\n",
    "                f = tf.extractfile(p_file)\n",
    "                r = f.read()\n",
    "                #print(type(r))\n",
    "                try:\n",
    "                    r_dict = loads(r)\n",
    "                except JSONDecodeError: # not a json file\n",
    "                    continue\n",
    "                try:\n",
    "                    sp_map[r_dict['code']] = r_dict['type']\n",
    "                    print(r_dict['type'])\n",
    "                except KeyError:\n",
    "                    print(f'{p_file} has no type')\n",
    "        return(sp_map)\n",
    "\n",
    "\n",
    "sp_map = get_sp_map(path)\n",
    "sp_map       "
   ]
  },
  {
   "cell_type": "markdown",
   "metadata": {},
   "source": [
    "### render using Jinja2 templates\n",
    "\n",
    "create all maps:\n",
    "- purl_map (canon:url)\n",
    "- cs_map just canon:canon for now \n",
    "- ig_map just canon:canon for now "
   ]
  },
  {
   "cell_type": "code",
   "execution_count": 80,
   "metadata": {},
   "outputs": [],
   "source": [
    "in_path = ''\n",
    "in_file = 'R4capabilitystatement-server.j2'\n",
    "\n",
    "def markdown(text, *args, **kwargs):\n",
    "    return commonmark(text, *args, **kwargs)\n",
    "\n",
    "env = Environment(\n",
    "    loader=FileSystemLoader(searchpath = in_path),\n",
    "    autoescape=select_autoescape(['html','xml','xhtml','j2','md'],),\n",
    "    trim_blocks = True,\n",
    "    lstrip_blocks = True,\n",
    "    )\n",
    "\n",
    "env.filters['markdown'] = markdown\n",
    "\n",
    "template = env.get_template(in_file)\n",
    "\n",
    "purl_map={} # canon:url, \n",
    "for p,n in pname_map.items():\n",
    "    try:\n",
    "        purl_map[p] = pname_map[p]\n",
    "    except KeyError:\n",
    "        purl_map[p] = p\n",
    "try:\n",
    "    cs_list = cs_py.instantiates + cs_py.imports\n",
    "except TypeError:\n",
    "    cs_list =[]\n",
    "cs_map = {k:k for k in cs_list} # just canon:canon for now \n",
    "#-TODO see how can look up fhir registry and populate\n",
    "ig_map = {k:k for k in cs_py.implementationGuide}\n",
    "\n",
    "rendered = template.render(cs=cs_py, path_map=path_map, pname_map=name_map, purl_map=purl_map, sp_map=sp_map, \n",
    "                          csname_map=cs_map, csurl_map=cs_map, igname_map=ig_map, igurl_map=ig_map)"
   ]
  },
  {
   "cell_type": "markdown",
   "metadata": {},
   "source": [
    "### Minify the xhtml"
   ]
  },
  {
   "cell_type": "code",
   "execution_count": 81,
   "metadata": {},
   "outputs": [
    {
     "data": {
      "text/html": [
       "<div xmlns=\"http://www.w3.org/1999/xhtml\"> <h2 id=\"title\">C4BB CapabilityStatement</h2> <ul> <li>Official URL: <code>http://hl7.org/fhir/us/carin-bb/CapabilityStatement/c4bb</code></li> <li>Implementation Guide Version: 1.1.0</li> <li>FHIR Version: 4.0.1</li> <li>Supported formats: XML, JSON </li> <li>Published: 2021-04-23</li> <li>Published by: HL7 Financial Management Working Group</li> </ul> <p>This Section describes the expected capabilities of the C4BB Server actor which is responsible for providing responses to the queries submitted by the C4BB Requestors.</p> <p>The EOB Resource is the focal Consumer-Directed Payer Data Exchange (CDPDE) Resource. Several Reference Resources are defined directly/indirectly from the EOB: Coverage, Patient, Organization (Payer ID), Practioner, and Organization (Facility).</p> <p>The Coverage Reference Resource SHALL be returned with data that was effective as of the date of service of the claim; for example, the data will reflect the employer name in effect at that time. However, for other reference resources, payers MAY decide to provide either the data that was in effect as of the date of service or the current data. All reference resources within the EOB will have meta.lastUpdated flagged as must support. Payers SHALL provide the last time the data was updated or the date of creation in the payers system of record, whichever comes last. Apps will use the meta.lastUpdated values to determine if the reference resources are as of the current date or date of service.</p> <h3 id=\"behavior\">FHIR RESTful Capabilities</h3> <p>The C4BB Server <strong>SHALL</strong>:</p> <ol> <li>Support all profiles defined in this Implementation Guide..</li> <li>Implement the RESTful behavior according to the FHIR specification.</li> <li>Return the following response classes: <ul> <li>(Status 400): invalid parameter</li> <li>(Status 401/4xx): unauthorized request</li> <li>(Status 403): insufficient scope</li> <li>(Status 404): unknown resource</li> <li>(Status 410): deleted resource.</li> </ul> </li> <li>Support json source formats for all CARIN-BB interactions.</li> <li>Identify the CARIN-BB profiles supported as part of the FHIR <code>meta.profile</code> attribute for each instance.</li> <li>Support the searchParameters on each profile individually and in combination.</li> </ol> <p>The C4BB Server <strong>SHOULD</strong>:</p> <ol> <li>Support xml source formats for all C4BB interactions.</li> </ol> <p id=\"security\"><strong>Security:</strong></p> <ol> <li>See the <a href=\"7_Authorization_Authentication_and_Registration.html\">General Security Considerations</a> section for requirements and recommendations.</li> <li>A server <strong>SHALL</strong> reject any unauthorized requests by returning an <code>HTTP 401</code> unauthorized response code.</li> </ol> <h3 class=\"no_toc\" id=\"resource-details\">RESTful Capabilities by Resource/Profile:</h3> <h4>Summary</h4> <table class=\"grid\"> <thead> <tr> <th>Resource Type</th> <th>Supported Profiles</th> <th>Supported Searches</th> <th>Supported <code>_includes</code></th> <th>Supported <code>_revincludes</code></th> <th>Supported Operations</th> </tr> </thead> <tbody> <tr> <td> <a href=\"#coverage\">Coverage</a> </td> <td> <a href=\"StructureDefinition-C4BB-Coverage.html\">C4BB Coverage</a> </td> <td> - </td> <td> Coverage:payor </td> <td> - </td> <td> - </td> </tr> <tr> <td> <a href=\"#explanationofbenefit\">ExplanationOfBenefit</a> </td> <td> <a href=\"StructureDefinition-C4BB-ExplanationOfBenefit.html\">C4BB Explanation Of Benefit</a>, <a href=\"StructureDefinition-C4BB-ExplanationOfBenefit-Inpatient-Institutional.html\">C4BB ExplanationOfBenefit Inpatient Institutional</a>, <a href=\"StructureDefinition-C4BB-ExplanationOfBenefit-Outpatient-Institutional.html\">C4BB ExplanationOfBenefit Outpatient Institutional</a>, <a href=\"StructureDefinition-C4BB-ExplanationOfBenefit-Pharmacy.html\">C4BB ExplanationOfBenefit Pharmacy</a>, <a href=\"StructureDefinition-C4BB-ExplanationOfBenefit-Professional-NonClinician.html\">C4BB ExplanationOfBenefit Professional NonClinician</a> </td> <td> _id, patient, _lastUpdated, type, identifier, service-date </td> <td> ExplanationOfBenefit:patient, ExplanationOfBenefit:provider, ExplanationOfBenefit:care-team, ExplanationOfBenefit:coverage, ExplanationOfBenefit:insurer, ExplanationOfBenefit:* </td> <td> - </td> <td> - </td> </tr> <tr> <td> <a href=\"#organization\">Organization</a> </td> <td> <a href=\"StructureDefinition-C4BB-Organization.html\">C4BB Organization</a> </td> <td> - </td> <td> - </td> <td> - </td> <td> - </td> </tr> <tr> <td> <a href=\"#patient\">Patient</a> </td> <td> <a href=\"StructureDefinition-C4BB-Patient.html\">C4BB Patient</a> </td> <td> - </td> <td> - </td> <td> - </td> <td> - </td> </tr> <tr> <td> <a href=\"#practitioner\">Practitioner</a> </td> <td> <a href=\"StructureDefinition-C4BB-Practitioner.html\">C4BB Practitioner</a> </td> <td> - </td> <td> - </td> <td> - </td> <td> - </td> </tr> </tbody> </table> <h4 class=\"no_toc\" id=\"coverage\">Coverage</h4> <p>Conformance Expectation: <strong>SHALL</strong></p> <p>Supported Profiles:</p> <ul> <li> <a href=\"StructureDefinition-C4BB-Coverage.html\">C4BB Coverage</a> </li> </ul> <p>Reference Policy: <code>resolves</code></p> <p>Profile Interaction Summary:</p> <ul> <li><strong>SHALL</strong> support <code>read</code>.</li> </ul> <p>Fetch and Search Criteria:</p> <ul> <li> A Server <strong>SHALL</strong> be capable of returning a Coverage resource using: <code class=\"highlighter-rouge\">GET [base]/Coverage/[id]</code> </li> <li> A Server <strong>SHOULD</strong> be capable of supporting the following _includes: Coverage:payor - <code class=\"highlighter-rouge\">GET [base]/Coverage?[parameter=value]&amp;_include=Coverage:payor</code> </li> </ul> <hr /> <h4 class=\"no_toc\" id=\"explanationofbenefit\">ExplanationOfBenefit</h4> <p>Conformance Expectation: <strong>SHALL</strong></p> <p>Resource Specific Documentation:</p> <blockquote><p>When an EOB references another resource (e.g., Patient or Practitioner), the reference may be versioned or versionless. Payers SHALL use versioned references whenever they maintain point-in-time data (data that was effective as of the date of service or date of admission on the claim), but MAY use versionless references when they do not maintain versioned data. Clients MAY request referenced resources as part of an EOB search (by supplying the _include parameter) or directly using read or vread. Payers SHALL support both approaches, and SHALL return the same content for referenced resources in either case. “:iterate&quot; should be used if you request to include Coverage:payor in the EOB response bundle, e.g. GET [base]/ExplanationOfBenefit?[parameter=value]&amp;_include=ExplanationOfBenefit:coverage&amp;_include:iterate=Coverage:payor.</p> </blockquote> <p>Supported Profiles:</p> <ul> <li> <a href=\"StructureDefinition-C4BB-ExplanationOfBenefit.html\">C4BB Explanation Of Benefit</a>, </li> <li> <a href=\"StructureDefinition-C4BB-ExplanationOfBenefit-Inpatient-Institutional.html\">C4BB ExplanationOfBenefit Inpatient Institutional</a>, </li> <li> <a href=\"StructureDefinition-C4BB-ExplanationOfBenefit-Outpatient-Institutional.html\">C4BB ExplanationOfBenefit Outpatient Institutional</a>, </li> <li> <a href=\"StructureDefinition-C4BB-ExplanationOfBenefit-Pharmacy.html\">C4BB ExplanationOfBenefit Pharmacy</a>, </li> <li> <a href=\"StructureDefinition-C4BB-ExplanationOfBenefit-Professional-NonClinician.html\">C4BB ExplanationOfBenefit Professional NonClinician</a> </li> </ul> <p>Reference Policy: <code>resolves</code></p> <p>Profile Interaction Summary:</p> <ul> <li><strong>SHALL</strong> support <code>search-type</code>, <code>read</code><sup>&#8224;</sup>.</li> </ul> <blockquote>read<sup>&#8224;</sup><p>Searches using service-date, _lastUpdated, or type require a patient search argument.</p> <p>_include:* SHALL be supported.</p> </blockquote> <p>Fetch and Search Criteria:</p> <ul> <li> A Server <strong>SHALL</strong> be capable of returning a ExplanationOfBenefit resource using: <code class=\"highlighter-rouge\">GET [base]/ExplanationOfBenefit/[id]</code> </li> <li> A Server <strong>SHOULD</strong> be capable of supporting the following _includes: ExplanationOfBenefit:patient - <code class=\"highlighter-rouge\">GET [base]/ExplanationOfBenefit?[parameter=value]&amp;_include=ExplanationOfBenefit:patient</code> ExplanationOfBenefit:provider - <code class=\"highlighter-rouge\">GET [base]/ExplanationOfBenefit?[parameter=value]&amp;_include=ExplanationOfBenefit:provider</code> ExplanationOfBenefit:care-team - <code class=\"highlighter-rouge\">GET [base]/ExplanationOfBenefit?[parameter=value]&amp;_include=ExplanationOfBenefit:care-team</code> ExplanationOfBenefit:coverage - <code class=\"highlighter-rouge\">GET [base]/ExplanationOfBenefit?[parameter=value]&amp;_include=ExplanationOfBenefit:coverage</code> ExplanationOfBenefit:insurer - <code class=\"highlighter-rouge\">GET [base]/ExplanationOfBenefit?[parameter=value]&amp;_include=ExplanationOfBenefit:insurer</code> ExplanationOfBenefit:* - <code class=\"highlighter-rouge\">GET [base]/ExplanationOfBenefit?[parameter=value]&amp;_include=ExplanationOfBenefit:*</code> </li> </ul> <p>Search Parameter Summary:</p> <table class=\"grid\"> <thead> <tr> <th>Conformance</th> <th>Parameter</th> <th>Type</th> </tr> </thead> <tbody><tr> <td> <strong>SHALL</strong> </td> <td> <a href=\"http://hl7.org/fhir/R4/search.html\"> _id</a> </td> <td> token </td> </tr><tr> <td> <strong>SHALL</strong> </td> <td> <a href=\"SearchParameter-explanationofbenefit-patient.html\"> patient</a> </td> <td> reference </td> </tr><tr> <td> <strong>SHALL</strong> </td> <td> <a href=\"http://hl7.org/fhir/R4/search.html\"> _lastUpdated</a> </td> <td> date </td> </tr><tr> <td> <strong>SHALL</strong> </td> <td> <a href=\"SearchParameter-explanationofbenefit-type.html\"> type</a> </td> <td> token </td> </tr><tr> <td> <strong>SHALL</strong> </td> <td> <a href=\"SearchParameter-explanationofbenefit-identifier.html\"> identifier</a> </td> <td> token </td> </tr><tr> <td> <strong>SHALL</strong> </td> <td> <a href=\"SearchParameter-explanationofbenefit-service-date.html\"> service-date</a> </td> <td> date </td> </tr> </tbody> </table> <hr /> <h4 class=\"no_toc\" id=\"organization\">Organization</h4> <p>Conformance Expectation: <strong>SHALL</strong></p> <p>Supported Profiles:</p> <ul> <li> <a href=\"StructureDefinition-C4BB-Organization.html\">C4BB Organization</a> </li> </ul> <p>Reference Policy: <code>resolves</code></p> <p>Profile Interaction Summary:</p> <ul> <li><strong>SHALL</strong> support <code>read</code>.</li><li><strong>SHOULD</strong> support <code>vread</code>.</li> </ul> <p>Fetch and Search Criteria:</p> <ul> <li> A Server <strong>SHALL</strong> be capable of returning a Organization resource using: <code class=\"highlighter-rouge\">GET [base]/Organization/[id]</code> </li> </ul> <hr /> <h4 class=\"no_toc\" id=\"patient\">Patient</h4> <p>Conformance Expectation: <strong>SHALL</strong></p> <p>Supported Profiles:</p> <ul> <li> <a href=\"StructureDefinition-C4BB-Patient.html\">C4BB Patient</a> </li> </ul> <p>Reference Policy: <code>resolves</code></p> <p>Profile Interaction Summary:</p> <ul> <li><strong>SHALL</strong> support <code>read</code>.</li><li><strong>SHOULD</strong> support <code>vread</code>.</li> </ul> <p>Fetch and Search Criteria:</p> <ul> <li> A Server <strong>SHALL</strong> be capable of returning a Patient resource using: <code class=\"highlighter-rouge\">GET [base]/Patient/[id]</code> </li> </ul> <hr /> <h4 class=\"no_toc\" id=\"practitioner\">Practitioner</h4> <p>Conformance Expectation: <strong>SHALL</strong></p> <p>Supported Profiles:</p> <ul> <li> <a href=\"StructureDefinition-C4BB-Practitioner.html\">C4BB Practitioner</a> </li> </ul> <p>Reference Policy: <code>resolves</code></p> <p>Profile Interaction Summary:</p> <ul> <li><strong>SHALL</strong> support <code>read</code>.</li><li><strong>SHOULD</strong> support <code>vread</code>.</li> </ul> <p>Fetch and Search Criteria:</p> <ul> <li> A Server <strong>SHALL</strong> be capable of returning a Practitioner resource using: <code class=\"highlighter-rouge\">GET [base]/Practitioner/[id]</code> </li> </ul> <hr /> </div>"
      ],
      "text/plain": [
       "<IPython.core.display.HTML object>"
      ]
     },
     "metadata": {},
     "output_type": "display_data"
    }
   ],
   "source": [
    "def x_minify(xhtml):\n",
    "    h_min=minify(xhtml, remove_optional_attribute_quotes=False, remove_comments=True)\n",
    "    x_min = h_min.replace('<br>','<br />')\n",
    "    x_min = x_min.replace('<hr>','<hr />')\n",
    "    return x_min\n",
    "\n",
    "mini = x_minify(rendered)\n",
    "#print(type(mini))\n",
    "#print(mini)\n",
    "#display(HTML(rendered))\n",
    "display(HTML(mini))\n",
    "\n",
    "'''\n",
    "#======== write to temp file to debug =======\n",
    "path = Path.cwd() / 'debug' / 'narrative_pre.xhtml'\n",
    "path.write_text(rendered, encoding=\"utf-8\")\n",
    "path = Path.cwd() / 'debug' / 'narrative_mini_pre.xhtml'\n",
    "path.write_text(mini, encoding=\"utf-8\")\n",
    "#===================================================\n",
    "'''\n",
    "narr = construct_fhir_element('Narrative',dict(\n",
    "    status = 'generated',\n",
    "    div = mini,\n",
    " ))\n",
    "cs_py.text = narr"
   ]
  },
  {
   "cell_type": "markdown",
   "metadata": {},
   "source": [
    "### TODO: add validation step"
   ]
  },
  {
   "cell_type": "code",
   "execution_count": null,
   "metadata": {},
   "outputs": [],
   "source": [
    "def validate(r):\n",
    "    #fhir_test_server = 'http://fhirtest.uhn.ca/baseDstu3'\n",
    "    #fhir_test_server = 'http://test.fhir.org/r3'\n",
    "    #fhir_test_server = 'http://test.fhir.org/r4'\n",
    "    #fhir_test_server ='http://wildfhir4.aegis.net/fhir4-0-0'\n",
    "    #fhir_test_server ='http://wildfhir4.aegis.net/fhir4-0-0'\n",
    "    fhir_test_server ='http://hapi.fhir.org/baseR4'\n",
    "  \n",
    "\n",
    "    headers = {\n",
    "    'Accept':'application/fhir+json',\n",
    "    'Content-Type':'application/fhir+json'\n",
    "    }\n",
    "    \n",
    "    r = post(f'{fhir_test_server}/CapabilityStatement/$validate', headers = headers, data = dumps(cs_py.as_json()) )   # return r.status_code\n",
    "    display(HTML(f'<h1>Validation output</h1><h3>Status Code = {r.status_code}</h3> {r.json()[\"text\"][\"div\"]}'))\n",
    "\n",
    "validate(cs_py)"
   ]
  },
  {
   "cell_type": "markdown",
   "metadata": {},
   "source": [
    "### Save to local dir"
   ]
  },
  {
   "cell_type": "code",
   "execution_count": null,
   "metadata": {},
   "outputs": [],
   "source": [
    "# save to file\n",
    "ig_source_path = ''\n",
    "print('...........saving to file............')\n",
    "#save in ig_source folder\n",
    "path = Path.cwd() / ig_source_path / 'resources' / f'capabilitystatement-{cs_py.id.lower()}.json'\n",
    "path.write_text(dumps(cs_py.as_json(), indent=4))"
   ]
  },
  {
   "cell_type": "code",
   "execution_count": null,
   "metadata": {},
   "outputs": [],
   "source": []
  }
 ],
 "metadata": {
  "kernelspec": {
   "display_name": "Python 3",
   "language": "python",
   "name": "python3"
  },
  "language_info": {
   "codemirror_mode": {
    "name": "ipython",
    "version": 3
   },
   "file_extension": ".py",
   "mimetype": "text/x-python",
   "name": "python",
   "nbconvert_exporter": "python",
   "pygments_lexer": "ipython3",
   "version": "3.7.3"
  }
 },
 "nbformat": 4,
 "nbformat_minor": 4
}
