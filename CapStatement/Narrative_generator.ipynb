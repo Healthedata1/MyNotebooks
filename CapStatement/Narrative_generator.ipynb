{
 "cells": [
  {
   "cell_type": "markdown",
   "metadata": {},
   "source": [
    "## generate narrative from resource"
   ]
  },
  {
   "cell_type": "markdown",
   "metadata": {},
   "source": [
    "### import modules"
   ]
  },
  {
   "cell_type": "code",
   "execution_count": 1,
   "metadata": {},
   "outputs": [],
   "source": [
    "from fhir.resources import construct_fhir_element\n",
    "from json import dumps, loads\n",
    "from requests import get, post, put\n",
    "from pathlib import Path\n",
    "from IPython.display import display as Display, HTML, Markdown, Javascript\n",
    "import ipywidgets as widgets\n",
    "from pprint import pprint\n",
    "from collections import namedtuple\n",
    "from pandas import *\n",
    "from datetime import datetime, date, timezone, timedelta\n",
    "from jinja2 import Environment, FileSystemLoader, select_autoescape\n",
    "from stringcase import snakecase, titlecase\n",
    "from commonmark import commonmark\n",
    "from htmlmin import minify"
   ]
  },
  {
   "cell_type": "markdown",
   "metadata": {},
   "source": [
    "### Define variables"
   ]
  },
  {
   "cell_type": "markdown",
   "metadata": {},
   "source": [
    "#### get CapStatement as json"
   ]
  },
  {
   "cell_type": "code",
   "execution_count": 2,
   "metadata": {},
   "outputs": [
    {
     "name": "stdin",
     "output_type": "stream",
     "text": [
      "enter the CapStatment file name: CapabilityStatement-backport-subscription-server.json\n"
     ]
    }
   ],
   "source": [
    "fname = input('enter the CapStatment file name:')"
   ]
  },
  {
   "cell_type": "code",
   "execution_count": 3,
   "metadata": {},
   "outputs": [
    {
     "name": "stdout",
     "output_type": "stream",
     "text": [
      "backport-subscription-server\n"
     ]
    }
   ],
   "source": [
    "path = Path.cwd() / 'cs_source_file'/ fname\n",
    "cs_py = construct_fhir_element('CapabilityStatement',path.read_text())\n",
    "print(cs_py.id)"
   ]
  },
  {
   "cell_type": "markdown",
   "metadata": {},
   "source": [
    "### Create Profile url:Name mappings"
   ]
  },
  {
   "cell_type": "code",
   "execution_count": 4,
   "metadata": {},
   "outputs": [
    {
     "data": {
      "text/plain": [
       "{'http://hl7.org/fhir/uv/subscriptions-backport/StructureDefinition/backport-subscription': 'Backport Subscription'}"
      ]
     },
     "execution_count": 4,
     "metadata": {},
     "output_type": "execute_result"
    }
   ],
   "source": [
    "# this is wrong if for most IGs should be supportedProfiles not Profiles\n",
    "pname_map = {r.profile:titlecase(r.profile.split('/')[-1]) for r in cs_py.rest[0].resource if r.profile}\n",
    "#add in supported Profiles too\n",
    "spname_map = {sp:titlecase(sp.split('/')[-1]) for \\\n",
    "              r in cs_py.rest[0].resource if r.supportedProfile for sp in r.supportedProfile}\n",
    "#flatten_matrix = [val for sublist in matrix for val in sublist] \n",
    "\n",
    "# Adding elements from dict2 to dict1\n",
    "pname_map.update(spname_map)\n",
    "pname_map"
   ]
  },
  {
   "cell_type": "markdown",
   "metadata": {},
   "source": [
    "### get pathmap from package file\n",
    "- Get spec_internal from package a json file which includes canonical to local relative page links"
   ]
  },
  {
   "cell_type": "code",
   "execution_count": 6,
   "metadata": {},
   "outputs": [
    {
     "name": "stdin",
     "output_type": "stream",
     "text": [
      "Get package path to download: http://build.fhir.org/ig/HL7/fhir-subscription-backport-ig/package.tgz\n"
     ]
    }
   ],
   "source": [
    "ig_package = input(\"Get package path to download:\")"
   ]
  },
  {
   "cell_type": "code",
   "execution_count": 7,
   "metadata": {},
   "outputs": [
    {
     "data": {
      "text/plain": [
       "44564"
      ]
     },
     "execution_count": 7,
     "metadata": {},
     "output_type": "execute_result"
    }
   ],
   "source": [
    "r = get(ig_package, verify=False)\n",
    "r.status_code\n",
    "#write to file\n",
    "path = Path.cwd() /  'cs_source_file' / ig_package.split('/')[-1]\n",
    "path.write_bytes(r.content)"
   ]
  },
  {
   "cell_type": "code",
   "execution_count": 8,
   "metadata": {},
   "outputs": [
    {
     "name": "stdout",
     "output_type": "stream",
     "text": [
      "/Users/ehaas/Documents/Python/Jupyter/MyNotebooks/CapStatement/cs_source_file/package.tgz\n",
      "['package/package.json',\n",
      " 'package/ig-r4.json',\n",
      " 'package/ImplementationGuide-hl7.fhir.uv.subscriptions-backport.json',\n",
      " 'package/CapabilityStatement-backport-subscription-server.json',\n",
      " 'package/example/Bundle-notification-handshake.json',\n",
      " 'package/OperationDefinition-backport-subscription-status.json',\n",
      " 'package/CodeSystem-backport-content-code-system.json',\n",
      " 'package/OperationDefinition-backport-subscription-events.json',\n",
      " 'package/example/Bundle-notification-id-only.json',\n",
      " 'package/OperationDefinition-backport-subscription-get-ws-binding-token.json',\n",
      " 'package/StructureDefinition-backport-channel-type.json',\n",
      " 'package/example/Subscription-subscription-multi-resource.json',\n",
      " 'package/StructureDefinition-backport-subscription-notification.json',\n",
      " 'package/StructureDefinition-backport-heartbeat-period.json',\n",
      " 'package/example/SubscriptionStatus-notification-status.json',\n",
      " 'package/example/Bundle-notification-empty.json',\n",
      " 'package/StructureDefinition-backport-timeout.json',\n",
      " 'package/example/Bundle-notification-error.json',\n",
      " 'package/example/Subscription-subscription-admission.json',\n",
      " 'package/example/Bundle-notification-full-resource.json',\n",
      " 'package/StructureDefinition-backport-max-count.json',\n",
      " 'package/example/Bundle-notification-multi-resource.json',\n",
      " 'package/example/Bundle-notification-heartbeat.json',\n",
      " 'package/StructureDefinition-backport-filter-criteria.json',\n",
      " 'package/ValueSet-backport-content-value-set.json',\n",
      " 'package/StructureDefinition-backport-subscription.json',\n",
      " 'package/StructureDefinition-backport-payload-content.json',\n",
      " 'package/openapi/backport-subscription-server.openapi.json',\n",
      " 'package/xml/StructureDefinition-backport-channel-type.sch',\n",
      " 'package/xml/StructureDefinition-backport-subscription-notification.sch',\n",
      " 'package/xml/StructureDefinition-backport-heartbeat-period.sch',\n",
      " 'package/xml/StructureDefinition-backport-timeout.sch',\n",
      " 'package/xml/StructureDefinition-backport-max-count.sch',\n",
      " 'package/xml/StructureDefinition-backport-filter-criteria.sch',\n",
      " 'package/xml/StructureDefinition-backport-subscription.sch',\n",
      " 'package/xml/StructureDefinition-backport-payload-content.sch',\n",
      " 'package/other/spec.internals',\n",
      " 'package/other/validation-summary.json',\n",
      " 'package/other/validation-oo.json',\n",
      " 'package/.index.json']\n"
     ]
    },
    {
     "data": {
      "text/plain": [
       "{'http://hl7.org/fhir/uv/subscriptions-backport/ImplementationGuide/hl7.fhir.uv.subscriptions-backport|0.1.0': '0.1.0/ImplementationGuide-hl7.fhir.uv.subscriptions-backport.html',\n",
       " 'http://hl7.org/fhir/uv/subscriptions-backport/ImplementationGuide/hl7.fhir.uv.subscriptions-backport': 'ImplementationGuide-hl7.fhir.uv.subscriptions-backport.html',\n",
       " 'http://hl7.org/fhir/uv/subscriptions-backport/CapabilityStatement/CapabilitySubscriptionServer': 'CapabilityStatement-backport-subscription-server.html',\n",
       " 'http://hl7.org/fhir/uv/subscriptions-backport/CapabilityStatement/CapabilitySubscriptionServer|0.1.0': '0.1.0/CapabilityStatement-backport-subscription-server.html',\n",
       " 'http://hl7.org/fhir/uv/subscriptions-backport/CapabilityStatement/backport-subscription-server': 'CapabilityStatement-backport-subscription-server.html',\n",
       " 'http://hl7.org/fhir/uv/subscriptions-backport/Bundle/notification-handshake': 'Bundle-notification-handshake.html',\n",
       " 'http://hl7.org/fhir/uv/subscriptions-backport/OperationDefinition/OperationBackportSubscriptionStatus': 'OperationDefinition-backport-subscription-status.html',\n",
       " 'http://hl7.org/fhir/uv/subscriptions-backport/OperationDefinition/OperationBackportSubscriptionStatus|0.1.0': '0.1.0/OperationDefinition-backport-subscription-status.html',\n",
       " 'http://hl7.org/fhir/uv/subscriptions-backport/OperationDefinition/backport-subscription-status': 'OperationDefinition-backport-subscription-status.html',\n",
       " 'http://hl7.org/fhir/uv/subscriptions-backport/CodeSystem/backport-content-code-system|0.1.0': '0.1.0/CodeSystem-backport-content-code-system.html',\n",
       " 'http://hl7.org/fhir/uv/subscriptions-backport/CodeSystem/backport-content-code-system': 'CodeSystem-backport-content-code-system.html',\n",
       " 'http://hl7.org/fhir/uv/subscriptions-backport/OperationDefinition/OperationBackportSubscriptionEvents': 'OperationDefinition-backport-subscription-events.html',\n",
       " 'http://hl7.org/fhir/uv/subscriptions-backport/OperationDefinition/OperationBackportSubscriptionEvents|0.1.0': '0.1.0/OperationDefinition-backport-subscription-events.html',\n",
       " 'http://hl7.org/fhir/uv/subscriptions-backport/OperationDefinition/backport-subscription-events': 'OperationDefinition-backport-subscription-events.html',\n",
       " 'http://hl7.org/fhir/uv/subscriptions-backport/Bundle/notification-id-only': 'Bundle-notification-id-only.html',\n",
       " 'http://hl7.org/fhir/uv/subscriptions-backport/OperationDefinition/OperationBackportSubscriptionGetWsBindingToken': 'OperationDefinition-backport-subscription-get-ws-binding-token.html',\n",
       " 'http://hl7.org/fhir/uv/subscriptions-backport/OperationDefinition/OperationBackportSubscriptionGetWsBindingToken|0.1.0': '0.1.0/OperationDefinition-backport-subscription-get-ws-binding-token.html',\n",
       " 'http://hl7.org/fhir/uv/subscriptions-backport/OperationDefinition/backport-subscription-get-ws-binding-token': 'OperationDefinition-backport-subscription-get-ws-binding-token.html',\n",
       " 'http://hl7.org/fhir/uv/subscriptions-backport/StructureDefinition/backport-channel-type|0.1.0': '0.1.0/StructureDefinition-backport-channel-type.html',\n",
       " 'http://hl7.org/fhir/uv/subscriptions-backport/StructureDefinition/backport-channel-type': 'StructureDefinition-backport-channel-type.html',\n",
       " 'http://hl7.org/fhir/uv/subscriptions-backport/Subscription/subscription-multi-resource': 'Subscription-subscription-multi-resource.html',\n",
       " 'http://hl7.org/fhir/uv/subscriptions-backport/StructureDefinition/backport-subscription-notification|0.1.0': '0.1.0/StructureDefinition-backport-subscription-notification.html',\n",
       " 'http://hl7.org/fhir/uv/subscriptions-backport/StructureDefinition/backport-subscription-notification': 'StructureDefinition-backport-subscription-notification.html',\n",
       " 'http://hl7.org/fhir/uv/subscriptions-backport/StructureDefinition/backport-heartbeat-period|0.1.0': '0.1.0/StructureDefinition-backport-heartbeat-period.html',\n",
       " 'http://hl7.org/fhir/uv/subscriptions-backport/StructureDefinition/backport-heartbeat-period': 'StructureDefinition-backport-heartbeat-period.html',\n",
       " 'http://hl7.org/fhir/uv/subscriptions-backport/SubscriptionStatus/notification-status': 'SubscriptionStatus-notification-status.html',\n",
       " 'http://hl7.org/fhir/uv/subscriptions-backport/Bundle/notification-empty': 'Bundle-notification-empty.html',\n",
       " 'http://hl7.org/fhir/uv/subscriptions-backport/StructureDefinition/backport-timeout|0.1.0': '0.1.0/StructureDefinition-backport-timeout.html',\n",
       " 'http://hl7.org/fhir/uv/subscriptions-backport/StructureDefinition/backport-timeout': 'StructureDefinition-backport-timeout.html',\n",
       " 'http://hl7.org/fhir/uv/subscriptions-backport/Bundle/notification-error': 'Bundle-notification-error.html',\n",
       " 'http://hl7.org/fhir/uv/subscriptions-backport/Subscription/subscription-admission': 'Subscription-subscription-admission.html',\n",
       " 'http://hl7.org/fhir/uv/subscriptions-backport/Bundle/notification-full-resource': 'Bundle-notification-full-resource.html',\n",
       " 'http://hl7.org/fhir/uv/subscriptions-backport/StructureDefinition/backport-max-count|0.1.0': '0.1.0/StructureDefinition-backport-max-count.html',\n",
       " 'http://hl7.org/fhir/uv/subscriptions-backport/StructureDefinition/backport-max-count': 'StructureDefinition-backport-max-count.html',\n",
       " 'http://hl7.org/fhir/uv/subscriptions-backport/Bundle/notification-multi-resource': 'Bundle-notification-multi-resource.html',\n",
       " 'http://hl7.org/fhir/uv/subscriptions-backport/Bundle/notification-heartbeat': 'Bundle-notification-heartbeat.html',\n",
       " 'http://hl7.org/fhir/uv/subscriptions-backport/StructureDefinition/backport-filter-criteria|0.1.0': '0.1.0/StructureDefinition-backport-filter-criteria.html',\n",
       " 'http://hl7.org/fhir/uv/subscriptions-backport/StructureDefinition/backport-filter-criteria': 'StructureDefinition-backport-filter-criteria.html',\n",
       " 'http://hl7.org/fhir/uv/subscriptions-backport/ValueSet/backport-content-value-set|0.1.0': '0.1.0/ValueSet-backport-content-value-set.html',\n",
       " 'http://hl7.org/fhir/uv/subscriptions-backport/ValueSet/backport-content-value-set': 'ValueSet-backport-content-value-set.html',\n",
       " 'http://hl7.org/fhir/uv/subscriptions-backport/StructureDefinition/backport-subscription|0.1.0': '0.1.0/StructureDefinition-backport-subscription.html',\n",
       " 'http://hl7.org/fhir/uv/subscriptions-backport/StructureDefinition/backport-subscription': 'StructureDefinition-backport-subscription.html',\n",
       " 'http://hl7.org/fhir/uv/subscriptions-backport/StructureDefinition/backport-payload-content|0.1.0': '0.1.0/StructureDefinition-backport-payload-content.html',\n",
       " 'http://hl7.org/fhir/uv/subscriptions-backport/StructureDefinition/backport-payload-content': 'StructureDefinition-backport-payload-content.html'}"
      ]
     },
     "execution_count": 8,
     "metadata": {},
     "output_type": "execute_result"
    }
   ],
   "source": [
    "import tarfile\n",
    "\n",
    "def get_si(tar_file):\n",
    "    print(path)\n",
    "    with tarfile.open(tar_file, mode='r') as tf:\n",
    "        pprint(tf.getnames())\n",
    "        f = tf.extractfile('package/other/spec.internals')\n",
    "        r = f.read()\n",
    "        return(loads(r))\n",
    "\n",
    "\n",
    "si = get_si(path)\n",
    "       \n",
    "path_map = si['paths']\n",
    "\n",
    "\n",
    "#can = 'http://hl7.org/fhir/us/carin/StructureDefinition/carin-bb-explanationofbenefit-inpatient-facility'\n",
    "#path_map[can]\n",
    "path_map"
   ]
  },
  {
   "cell_type": "markdown",
   "metadata": {},
   "source": [
    "### Get URL:Name/Title mapping from package file"
   ]
  },
  {
   "cell_type": "code",
   "execution_count": 9,
   "metadata": {},
   "outputs": [
    {
     "name": "stdout",
     "output_type": "stream",
     "text": [
      "/Users/ehaas/Documents/Python/Jupyter/MyNotebooks/CapStatement/cs_source_file/package.tgz\n",
      "****package/example/Bundle-notification-handshake.jsonis not a conf resource***\n",
      "****package/example/Bundle-notification-id-only.jsonis not a conf resource***\n",
      "****package/example/Subscription-subscription-multi-resource.jsonis not a conf resource***\n",
      "****package/example/SubscriptionStatus-notification-status.jsonis not a conf resource***\n",
      "****package/example/Bundle-notification-empty.jsonis not a conf resource***\n",
      "****package/example/Bundle-notification-error.jsonis not a conf resource***\n",
      "****package/example/Subscription-subscription-admission.jsonis not a conf resource***\n",
      "****package/example/Bundle-notification-full-resource.jsonis not a conf resource***\n",
      "****package/example/Bundle-notification-multi-resource.jsonis not a conf resource***\n",
      "****package/example/Bundle-notification-heartbeat.jsonis not a conf resource***\n",
      "****package/openapi/backport-subscription-server.openapi.jsonis not a conf resource***\n",
      "****package/other/spec.internalsis not a conf resource***\n",
      "****package/other/validation-summary.jsonis not a conf resource***\n",
      "****package/other/validation-oo.jsonis not a conf resource***\n",
      "****package/.index.jsonis not a conf resource***\n"
     ]
    },
    {
     "data": {
      "text/plain": [
       "{'https://build.fhir.org/ig/HL7/fhir-subscription-backport-ig/': 'Subscriptions R5 Backport',\n",
       " 'http://hl7.org/fhir/uv/subscriptions-backport/ImplementationGuide/hl7.fhir.uv.subscriptions-backport': 'Subscriptions R5 Backport',\n",
       " 'http://hl7.org/fhir/uv/subscriptions-backport/CapabilityStatement/CapabilitySubscriptionServer': 'BackportSubscriptionCapabilityStatement',\n",
       " 'http://hl7.org/fhir/uv/subscriptions-backport/OperationDefinition/OperationBackportSubscriptionStatus': 'R5SubscriptionStatus',\n",
       " 'http://hl7.org/fhir/uv/subscriptions-backport/CodeSystem/backport-content-code-system': 'Backported R5 Subscription Content Code System',\n",
       " 'http://hl7.org/fhir/uv/subscriptions-backport/OperationDefinition/OperationBackportSubscriptionEvents': 'R5SubscriptionEvents',\n",
       " 'http://hl7.org/fhir/uv/subscriptions-backport/OperationDefinition/OperationBackportSubscriptionGetWsBindingToken': 'R5SubscriptionGetWsBindingToken',\n",
       " 'http://hl7.org/fhir/uv/subscriptions-backport/StructureDefinition/backport-channel-type': 'Backported R5 Additional Channel Types',\n",
       " 'http://hl7.org/fhir/uv/subscriptions-backport/StructureDefinition/backport-subscription-notification': 'Backported R5 Subscription Notification Bundle',\n",
       " 'http://hl7.org/fhir/uv/subscriptions-backport/StructureDefinition/backport-heartbeat-period': 'Backport R5 Subscription Heartbeat Period',\n",
       " 'http://hl7.org/fhir/uv/subscriptions-backport/StructureDefinition/backport-timeout': 'Backport R5 Subscription Timeout',\n",
       " 'http://hl7.org/fhir/uv/subscriptions-backport/StructureDefinition/backport-max-count': 'Backported R5 Subscription MaxCount',\n",
       " 'http://hl7.org/fhir/uv/subscriptions-backport/StructureDefinition/backport-filter-criteria': 'Backported R5 FilterBy Criteria',\n",
       " 'http://hl7.org/fhir/uv/subscriptions-backport/ValueSet/backport-content-value-set': 'Backported R5 Subscription Content Value Set',\n",
       " 'http://hl7.org/fhir/uv/subscriptions-backport/StructureDefinition/backport-subscription': 'Backported R5 Subscription',\n",
       " 'http://hl7.org/fhir/uv/subscriptions-backport/StructureDefinition/backport-payload-content': 'Backport R5 Subscription Payload Content Information'}"
      ]
     },
     "execution_count": 9,
     "metadata": {},
     "output_type": "execute_result"
    }
   ],
   "source": [
    "from json import JSONDecodeError\n",
    "def get_name_map(tar_file):\n",
    "    print(path)\n",
    "    name_map = {}\n",
    "    with tarfile.open(tar_file, mode='r') as tf:\n",
    "        for p_file in tf.getnames():\n",
    "            #print(p_file)\n",
    "            f = tf.extractfile(p_file)\n",
    "            r = f.read()\n",
    "            #print(type(r))\n",
    "            try:\n",
    "                r_dict = loads(r)\n",
    "            except JSONDecodeError: # not a json file\n",
    "                continue\n",
    "            try:\n",
    "                name_map[r_dict['url']] = r_dict['title']\n",
    "                #print(r_dict['title'])\n",
    "            except KeyError:\n",
    "                try:\n",
    "                    name_map[r_dict['url']] = r_dict['name']\n",
    "                    #print(r_dict['name'])\n",
    "                except KeyError: # not a conf resource\n",
    "                    print(f'****{p_file}is not a conf resource***')\n",
    "        return(name_map)\n",
    "\n",
    "\n",
    "name_map = get_name_map(path)\n",
    "name_map       "
   ]
  },
  {
   "cell_type": "markdown",
   "metadata": {},
   "source": [
    "### Get SearchParameter parameter name: type mapping from package file"
   ]
  },
  {
   "cell_type": "code",
   "execution_count": 15,
   "metadata": {},
   "outputs": [
    {
     "name": "stdout",
     "output_type": "stream",
     "text": [
      "/Users/ehaas/Documents/Python/Jupyter/MyNotebooks/CapStatement/cs_source_file/package.tgz\n"
     ]
    },
    {
     "data": {
      "text/plain": [
       "{}"
      ]
     },
     "execution_count": 15,
     "metadata": {},
     "output_type": "execute_result"
    }
   ],
   "source": [
    "def get_sp_map(tar_file):\n",
    "    print(path)\n",
    "    sp_map = {}\n",
    "    with tarfile.open(tar_file, mode='r') as tf:\n",
    "        for p_file in tf.getnames():\n",
    "            #print(p_file)\n",
    "            if 'searchparameter' in p_file.lower():\n",
    "                print(f'**********{p_file}')\n",
    "                f = tf.extractfile(p_file)\n",
    "                r = f.read()\n",
    "                #print(type(r))\n",
    "                try:\n",
    "                    r_dict = loads(r)\n",
    "                except JSONDecodeError: # not a json file\n",
    "                    continue\n",
    "                try:\n",
    "                    sp_map[r_dict['code']] = r_dict['type']\n",
    "                    print(r_dict['type'])\n",
    "                except KeyError:\n",
    "                    print(f'{p_file} has no type')\n",
    "        return(sp_map)\n",
    "\n",
    "\n",
    "sp_map = get_sp_map(path)\n",
    "sp_map       "
   ]
  },
  {
   "cell_type": "markdown",
   "metadata": {},
   "source": [
    "### render using Jinja2 templates\n",
    "\n",
    "create all maps:\n",
    "- purl_map (canon:url)\n",
    "- cs_map just canon:canon for now \n",
    "- ig_map just canon:canon for now "
   ]
  },
  {
   "cell_type": "code",
   "execution_count": 16,
   "metadata": {},
   "outputs": [],
   "source": [
    "in_path = ''\n",
    "in_file = 'R4capabilitystatement-server.j2'\n",
    "\n",
    "def markdown(text, *args, **kwargs):\n",
    "    return commonmark(text, *args, **kwargs)\n",
    "\n",
    "env = Environment(\n",
    "    loader=FileSystemLoader(searchpath = in_path),\n",
    "    autoescape=select_autoescape(['html','xml','xhtml','j2','md'],),\n",
    "    trim_blocks = True,\n",
    "    lstrip_blocks = True,\n",
    "    )\n",
    "\n",
    "env.filters['markdown'] = markdown\n",
    "\n",
    "template = env.get_template(in_file)\n",
    "\n",
    "purl_map={} # canon:url, \n",
    "for p,n in pname_map.items():\n",
    "    try:\n",
    "        purl_map[p] = pname_map[p]\n",
    "    except KeyError:\n",
    "        purl_map[p] = p\n",
    "try:\n",
    "    cs_list = cs_py.instantiates + cs_py.imports\n",
    "except TypeError:\n",
    "    cs_list =[]\n",
    "cs_map = {k:k for k in cs_list} # just canon:canon for now \n",
    "#-TODO see how can look up fhir registry and populate\n",
    "ig_map = {k:k for k in cs_py.implementationGuide}\n",
    "\n",
    "rendered = template.render(cs=cs_py, path_map=path_map, pname_map=name_map, purl_map=purl_map, sp_map=sp_map, \n",
    "                          csname_map=cs_map, csurl_map=cs_map, igname_map=ig_map, igurl_map=ig_map)"
   ]
  },
  {
   "cell_type": "markdown",
   "metadata": {},
   "source": [
    "### Minify the xhtml"
   ]
  },
  {
   "cell_type": "code",
   "execution_count": 17,
   "metadata": {},
   "outputs": [
    {
     "data": {
      "text/html": [
       "<div xmlns=\"http://www.w3.org/1999/xhtml\"> <h3 id=\"behavior\">FHIR RESTful Capabilities</h3> <h3 class=\"no_toc\" id=\"resource-details\">RESTful Capabilities by Resource/Profile:</h3> <h4>Summary</h4> <table class=\"grid\"> <thead> <tr> <th>Resource Type</th> <th>Supported Profiles</th> <th>Supported Searches</th> <th>Supported <code>_includes</code></th> <th>Supported <code>_revincludes</code></th> <th>Supported Operations</th> </tr> </thead> <tbody> <tr> <td> <a href=\"#subscriptiontopic\">SubscriptionTopic</a> </td> <td> - </td> <td> url, derived-or-self, resource, title, trigger-description </td> <td> - </td> <td> - </td> <td> - </td> </tr> <tr> <td> <a href=\"#subscription\">Subscription</a> </td> <td> <a href=\"StructureDefinition-backport-subscription.html\">Backported R5 Subscription</a> </td> <td> url, status </td> <td> - </td> <td> - </td> <td> $status, $events, $get-ws-binding-token </td> </tr> </tbody> </table> <h4 class=\"no_toc\" id=\"subscriptiontopic\">SubscriptionTopic</h4> <p>Conformance Expectation: <strong>SHALL</strong></p> <p>Resource Specific Documentation:</p> <blockquote><p>Test documentation..what happens with it?</p> </blockquote> <p>Profile Interaction Summary:</p> <ul> </ul> <p>Fetch and Search Criteria:</p> <ul> <li> A Server <strong>(conformance expectation undefined)</strong> be capable of returning a SubscriptionTopic resource using: <code class=\"highlighter-rouge\">GET [base]/SubscriptionTopic/[id]</code> </li> </ul> <p>Search Parameter Summary:</p> <table class=\"grid\"> <thead> <tr> <th>Conformance</th> <th>Parameter</th> <th>Type</th> </tr> </thead> <tbody><tr> <td> <strong>SHALL</strong> </td> <td> <a href=\"http://hl7.org/fhir/R4/subscriptiontopic.html#search\"> url</a> </td> <td> uri </td> </tr><tr> <td> <strong>SHALL</strong> </td> <td> <a href=\"http://hl7.org/fhir/R4/subscriptiontopic.html#search\"> derived-or-self</a> </td> <td> uri </td> </tr><tr> <td> <strong>SHOULD</strong> </td> <td> <a href=\"http://hl7.org/fhir/R4/subscriptiontopic.html#search\"> resource</a> </td> <td> uri </td> </tr><tr> <td> <strong>SHOULD</strong> </td> <td> <a href=\"http://hl7.org/fhir/R4/subscriptiontopic.html#search\"> title</a> </td> <td> string </td> </tr><tr> <td> <strong>SHOULD</strong> </td> <td> <a href=\"http://hl7.org/fhir/R4/subscriptiontopic.html#search\"> trigger-description</a> </td> <td> string </td> </tr> </tbody> </table> <hr /> <h4 class=\"no_toc\" id=\"subscription\">Subscription</h4> <p>Conformance Expectation: <strong>SHALL</strong></p> <p>Supported Profiles:</p> <ul> <li><strong>SHALL</strong> support: <a href=\"StructureDefinition-backport-subscription.html\">Backported R5 Subscription</a> </li> </ul> <p>Profile Interaction Summary:</p> <ul> </ul> <p>Operation Summary:</p> <ul> <li><strong>SHALL</strong> support the <a href=\"OperationDefinition-backport-subscription-status.html\">$status</a> operation </li> <li><strong>MAY</strong> support the <a href=\"OperationDefinition-backport-subscription-events.html\">$events</a> operation , <a href=\"OperationDefinition-backport-subscription-get-ws-binding-token.html\">$get-ws-binding-token</a> operation </li> </ul> <p>Fetch and Search Criteria:</p> <ul> <li> A Server <strong>(conformance expectation undefined)</strong> be capable of returning a Subscription resource using: <code class=\"highlighter-rouge\">GET [base]/Subscription/[id]</code> </li> </ul> <p>Search Parameter Summary:</p> <table class=\"grid\"> <thead> <tr> <th>Conformance</th> <th>Parameter</th> <th>Type</th> </tr> </thead> <tbody><tr> <td> <strong>SHOULD</strong> </td> <td> <a href=\"http://hl7.org/fhir/R4/subscription.html#search\"> url</a> </td> <td> uri </td> </tr><tr> <td> <strong>SHOULD</strong> </td> <td> <a href=\"http://hl7.org/fhir/R4/subscription.html#search\"> status</a> </td> <td> token </td> </tr> </tbody> </table> <hr /> </div>"
      ],
      "text/plain": [
       "<IPython.core.display.HTML object>"
      ]
     },
     "metadata": {},
     "output_type": "display_data"
    }
   ],
   "source": [
    "def x_minify(xhtml):\n",
    "    h_min=minify(xhtml, remove_optional_attribute_quotes=False, remove_comments=True)\n",
    "    x_min = h_min.replace('<br>','<br />')\n",
    "    x_min = x_min.replace('<hr>','<hr />')\n",
    "    return x_min\n",
    "\n",
    "mini = x_minify(rendered)\n",
    "#print(type(mini))\n",
    "#print(mini)\n",
    "#display(HTML(rendered))\n",
    "display(HTML(mini))\n",
    "\n",
    "'''\n",
    "#======== write to temp file to debug =======\n",
    "path = Path.cwd() / 'debug' / 'narrative_pre.xhtml'\n",
    "path.write_text(rendered, encoding=\"utf-8\")\n",
    "path = Path.cwd() / 'debug' / 'narrative_mini_pre.xhtml'\n",
    "path.write_text(mini, encoding=\"utf-8\")\n",
    "#===================================================\n",
    "'''\n",
    "narr = construct_fhir_element('Narrative',dict(\n",
    "    status = 'generated',\n",
    "    div = mini,\n",
    " ))\n",
    "cs_py.text = narr"
   ]
  },
  {
   "cell_type": "markdown",
   "metadata": {},
   "source": [
    "### Validation"
   ]
  },
  {
   "cell_type": "code",
   "execution_count": 18,
   "metadata": {},
   "outputs": [
    {
     "data": {
      "text/html": [
       "<h1>Validation output</h1><h3>Status Code = 412</h3> <div xmlns=\"http://www.w3.org/1999/xhtml\"><h1>Operation Outcome</h1><table border=\"0\"><tr><td style=\"font-weight: bold;\">WARNING</td><td>[CapabilityStatement.jurisdiction[0], Line 1, Col 4497]</td><td><pre>None of the codings provided are in the value set 'Jurisdiction' (http://hl7.org/fhir/ValueSet/jurisdiction), and a coding should come from this value set unless it has no suitable code (note that the validator cannot judge what is suitable) (codes = http://unstats.un.org/unsd/methods/m49/m49.htm#001)</pre></td>\n",
       "\t\t\t</tr>\n",
       "\t\t\t<tr>\n",
       "\t\t\t\t<td style=\"font-weight: bold;\">ERROR</td>\n",
       "\t\t\t\t<td>[CapabilityStatement.fhirVersion, Line 1, Col 4627]</td>\n",
       "\t\t\t\t<td><pre>The value provided ('4.1.0') is not in the value set 'FHIRVersion' (http://hl7.org/fhir/ValueSet/FHIR-version|4.0.1), and a code is required from this value set) (error message = Unknown code '4.1.0' for in-memory expansion of ValueSet 'http://hl7.org/fhir/ValueSet/FHIR-version')</pre></td>\n",
       "\t\t\t</tr>\n",
       "\t\t\t<tr>\n",
       "\t\t\t\t<td style=\"font-weight: bold;\">ERROR</td>\n",
       "\t\t\t\t<td>[CapabilityStatement.rest[0].resource[0].type, Line 1, Col 4959]</td>\n",
       "\t\t\t\t<td><pre>The value provided ('SubscriptionTopic') is not in the value set 'ResourceType' (http://hl7.org/fhir/ValueSet/resource-types|4.0.1), and a code is required from this value set) (error message = Unknown code 'SubscriptionTopic' for in-memory expansion of ValueSet 'http://hl7.org/fhir/ValueSet/resource-types')</pre></td>\n",
       "\t\t\t</tr>\n",
       "\t\t</table>\n",
       "\t</div>"
      ],
      "text/plain": [
       "<IPython.core.display.HTML object>"
      ]
     },
     "metadata": {},
     "output_type": "display_data"
    }
   ],
   "source": [
    "\n",
    "def validate(r):\n",
    "    #fhir_test_server = 'http://fhirtest.uhn.ca/baseDstu3'\n",
    "    #fhir_test_server = 'http://test.fhir.org/r3'\n",
    "    #fhir_test_server = 'http://test.fhir.org/r4'\n",
    "    #fhir_test_server ='http://wildfhir4.aegis.net/fhir4-0-0'\n",
    "    #fhir_test_server ='http://wildfhir4.aegis.net/fhir4-0-0'\n",
    "    fhir_test_server ='http://hapi.fhir.org/baseR4'\n",
    "  \n",
    "\n",
    "    headers = {\n",
    "    'Accept':'application/fhir+json',\n",
    "    'Content-Type':'application/fhir+json'\n",
    "    }\n",
    "    \n",
    "    r = post(f'{fhir_test_server}/CapabilityStatement/$validate', headers = headers, data = cs_py.json())   # return r.status_code\n",
    "    display(HTML(f'<h1>Validation output</h1><h3>Status Code = {r.status_code}</h3> {r.json()[\"text\"][\"div\"]}'))\n",
    "\n",
    "validate(cs_py)"
   ]
  },
  {
   "cell_type": "markdown",
   "metadata": {},
   "source": [
    "### Save to local dir"
   ]
  },
  {
   "cell_type": "code",
   "execution_count": 19,
   "metadata": {},
   "outputs": [
    {
     "name": "stdout",
     "output_type": "stream",
     "text": [
      "...........saving to file............\n"
     ]
    },
    {
     "data": {
      "text/plain": [
       "12973"
      ]
     },
     "execution_count": 19,
     "metadata": {},
     "output_type": "execute_result"
    }
   ],
   "source": [
    "# save to file\n",
    "ig_source_path = ''\n",
    "print('...........saving to file............')\n",
    "#save in ig_source folder\n",
    "path = Path.cwd() / ig_source_path / 'resources' / f'capabilitystatement-{cs_py.id.lower()}.json'\n",
    "path.write_text(cs_py.json(indent=2))"
   ]
  },
  {
   "cell_type": "code",
   "execution_count": null,
   "metadata": {},
   "outputs": [],
   "source": []
  }
 ],
 "metadata": {
  "kernelspec": {
   "display_name": "Python 3 (ipykernel)",
   "language": "python",
   "name": "python3"
  },
  "language_info": {
   "codemirror_mode": {
    "name": "ipython",
    "version": 3
   },
   "file_extension": ".py",
   "mimetype": "text/x-python",
   "name": "python",
   "nbconvert_exporter": "python",
   "pygments_lexer": "ipython3",
   "version": "3.10.2"
  }
 },
 "nbformat": 4,
 "nbformat_minor": 4
}
