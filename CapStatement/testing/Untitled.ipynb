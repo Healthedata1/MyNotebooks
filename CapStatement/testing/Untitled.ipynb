{
 "cells": [
  {
   "cell_type": "code",
   "execution_count": 23,
   "metadata": {},
   "outputs": [
    {
     "name": "stdout",
     "output_type": "stream",
     "text": [
      "\n",
      "\n",
      "<?xml version=\"1.0\"?>\n",
      "<!DOCTYPE html PUBLIC \"-//W3C//DTD XHTML 1.0 Transitional//EN\"\n",
      "\t\"http://www.w3.org/TR/xhtml1/DTD/xhtml1-transitional.dtd\">\n",
      "<html xmlns=\"http://www.w3.org/1999/xhtml\" xml:lang=\"en\" lang=\"en\">\n",
      "\t<head>\n",
      "\t\t<title>Enter your title here</title>\n",
      "\t</head>\n",
      "\t<body>\n",
      "\t\t<div xmlns=\"http://www.w3.org/1999/xhtml\">\n",
      "\t\t<h2 id='title'>US Core Client CapabilityStatement</h2><br></br>\n",
      "\n",
      "\n",
      " <?xml version=\"1.0\"?> <!DOCTYPE html PUBLIC \"-//W3C//DTD XHTML 1.0 Transitional//EN\"\n",
      "\t\"http://www.w3.org/TR/xhtml1/DTD/xhtml1-transitional.dtd\"><html xmlns=\"http://www.w3.org/1999/xhtml\" xml:lang=\"en\" lang=\"en\"> <head><title>Enter your title here</title></head> <body> <div xmlns=\"http://www.w3.org/1999/xhtml\"> <h2 id=\"title\">US Core Client CapabilityStatement</h2><br /> \n"
     ]
    }
   ],
   "source": [
    "from jinja2 import Environment\n",
    "from htmlmin import minify\n",
    "\n",
    "template_string = \"\"\"\n",
    "\n",
    "<?xml version=\"1.0\"?>\n",
    "<!DOCTYPE html PUBLIC \"-//W3C//DTD XHTML 1.0 Transitional//EN\"\n",
    "\t\"http://www.w3.org/TR/xhtml1/DTD/xhtml1-transitional.dtd\">\n",
    "<html xmlns=\"http://www.w3.org/1999/xhtml\" xml:lang=\"en\" lang=\"en\">\n",
    "\t<head>\n",
    "\t\t<title>Enter your title here</title>\n",
    "\t</head>\n",
    "\t<body>\n",
    "\t\t<div xmlns=\"http://www.w3.org/1999/xhtml\">\n",
    "\t\t<h2 id='title'>US Core Client CapabilityStatement</h2><br></br>\n",
    "\n",
    "\n",
    "\"\"\"\n",
    "def x_minify(xhtml):\n",
    "    h_min=minify(xhtml, remove_optional_attribute_quotes=False)\n",
    "    x_min = h_min.replace('<br>','<br />')\n",
    "    return x_min\n",
    "\n",
    "env = Environment(trim_blocks=True, lstrip_blocks=True)\n",
    "\n",
    "template = env.from_string(template_string)\n",
    "\n",
    "print(template.render())\n",
    "\n",
    "print(x_minify(template.render(),))"
   ]
  },
  {
   "cell_type": "code",
   "execution_count": null,
   "metadata": {},
   "outputs": [],
   "source": []
  }
 ],
 "metadata": {
  "kernelspec": {
   "display_name": "Python 3",
   "language": "python",
   "name": "python3"
  },
  "language_info": {
   "codemirror_mode": {
    "name": "ipython",
    "version": 3
   },
   "file_extension": ".py",
   "mimetype": "text/x-python",
   "name": "python",
   "nbconvert_exporter": "python",
   "pygments_lexer": "ipython3",
   "version": "3.7.1"
  }
 },
 "nbformat": 4,
 "nbformat_minor": 2
}
