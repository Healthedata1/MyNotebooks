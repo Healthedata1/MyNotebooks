{
 "cells": [
  {
   "cell_type": "code",
   "execution_count": 45,
   "metadata": {},
   "outputs": [],
   "source": [
    "#from fhir.resources.fhirabstractbase import FHIRValidationError  #using pydantic\n",
    "#from fhir.resources.fhirdate import FHIRDate as D #using datetime\n",
    "from fhir.resources.searchparameter import SearchParameter as SP\n",
    "from fhir.resources.capabilitystatement import CapabilityStatement as CS\n",
    "from fhir.resources.bundle import Bundle  as B\n",
    "from fhir.resources.narrative import Narrative as N\n",
    "from fhir.resources.identifier import Identifier as I\n",
    "from fhir.resources.coding import Coding as C\n",
    "from fhir.resources.codeableconcept import CodeableConcept as CC\n",
    "from fhir.resources.extension import Extension as X\n",
    "from fhir.resources.contactdetail import ContactDetail as CD\n",
    "from fhir.resources.reference import Reference as R  # was fhirreference\n",
    "from json import dumps, loads, load\n",
    "from requests import get, post, put\n",
    "import os\n",
    "from pathlib import Path\n",
    "from csv import reader as csvreader\n",
    "from IPython.display import display as Display, HTML, Markdown, Javascript\n",
    "import ipywidgets as widgets\n",
    "from pprint import pprint\n",
    "from collections import namedtuple\n",
    "from pandas import *\n",
    "from datetime import datetime, date, timezone, timedelta\n",
    "from jinja2 import Environment, FileSystemLoader, select_autoescape\n",
    "from stringcase import snakecase, titlecase\n",
    "#from itertools import zip_longest\n",
    "from openpyxl import load_workbook\n",
    "from commonmark import commonmark\n",
    "from htmlmin import minify"
   ]
  },
  {
   "cell_type": "code",
   "execution_count": null,
   "metadata": {},
   "outputs": [],
   "source": []
  }
 ],
 "metadata": {
  "kernelspec": {
   "display_name": "Python 3.7.3 64-bit ('venv37': venv)",
   "language": "python",
   "name": "python37364bitvenv37venv2b400d68decb43d5b2206c004a019450"
  },
  "language_info": {
   "codemirror_mode": {
    "name": "ipython",
    "version": 3
   },
   "file_extension": ".py",
   "mimetype": "text/x-python",
   "name": "python",
   "nbconvert_exporter": "python",
   "pygments_lexer": "ipython3",
   "version": "3.7.3"
  }
 },
 "nbformat": 4,
 "nbformat_minor": 4
}
