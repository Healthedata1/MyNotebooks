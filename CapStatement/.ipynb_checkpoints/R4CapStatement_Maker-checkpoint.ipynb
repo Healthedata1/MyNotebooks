{
 "cells": [
  {
   "cell_type": "markdown",
   "metadata": {},
   "source": [
    "## Create FHIR R4 CapStatement Resource\n",
    "\n",
    "### Outline:\n",
    "\n",
    "- Source excel with requirements\n",
    "- pandas to convert in python Ordered Dict\n",
    "- build json\n",
    "- generate narrative using Jinja2 templates\n",
    "\n",
    "### Prerequisites:\n",
    "\n",
    "- Python 3.6 or greater"
   ]
  },
  {
   "cell_type": "markdown",
   "metadata": {},
   "source": [
    "### Import FHIRClient and other libraries"
   ]
  },
  {
   "cell_type": "code",
   "execution_count": null,
   "metadata": {},
   "outputs": [],
   "source": [
    "%config IPCompleter.greedy=True"
   ]
  },
  {
   "cell_type": "code",
   "execution_count": 1,
   "metadata": {},
   "outputs": [],
   "source": [
    "from fhirclient.r4models.fhirabstractbase import FHIRValidationError\n",
    "from fhirclient.r4models import searchparameter as SP\n",
    "from fhirclient.r4models import capabilitystatement as CS\n",
    "from fhirclient.r4models import bundle as B\n",
    "from fhirclient.r4models import narrative as N\n",
    "import fhirclient.models.identifier as I\n",
    "import fhirclient.r4models.identifier as I\n",
    "import fhirclient.r4models.coding as C\n",
    "import fhirclient.r4models.codeableconcept as CC\n",
    "import fhirclient.r4models.fhirdate as D\n",
    "import fhirclient.r4models.extension as X\n",
    "import fhirclient.r4models.contactdetail as CD\n",
    "import fhirclient.r4models.fhirreference as FR\n",
    "from json import dumps, loads, load\n",
    "from requests import get, post, put\n",
    "import os\n",
    "from pathlib import Path\n",
    "from csv import reader as csvreader\n",
    "from IPython.display import display as Display, HTML, Markdown\n",
    "from pprint import pprint\n",
    "from collections import namedtuple\n",
    "from pandas import *\n",
    "from datetime import datetime, date\n",
    "from jinja2 import Environment, FileSystemLoader, select_autoescape\n",
    "from stringcase import snakecase, titlecase, pascalcase\n",
    "from itertools import zip_longest\n",
    "from openpyxl import load_workbook\n",
    "from commonmark import commonmark\n",
    "from lxml import etree"
   ]
  },
  {
   "cell_type": "markdown",
   "metadata": {},
   "source": [
    "#### Inspect ElementProperties as reference"
   ]
  },
  {
   "cell_type": "code",
   "execution_count": 2,
   "metadata": {},
   "outputs": [
    {
     "data": {
      "text/plain": [
       "[('extension',\n",
       "  'extension',\n",
       "  fhirclient.r4models.extension.Extension,\n",
       "  True,\n",
       "  None,\n",
       "  False),\n",
       " ('id', 'id', str, False, None, False),\n",
       " ('modifierExtension',\n",
       "  'modifierExtension',\n",
       "  fhirclient.r4models.extension.Extension,\n",
       "  True,\n",
       "  None,\n",
       "  False),\n",
       " ('compartment', 'compartment', str, True, None, False),\n",
       " ('_compartment',\n",
       "  '_compartment',\n",
       "  fhirclient.r4models.fhirprimitive.FHIRPrimitive,\n",
       "  False,\n",
       "  None,\n",
       "  False),\n",
       " ('documentation', 'documentation', str, False, None, False),\n",
       " ('_documentation',\n",
       "  '_documentation',\n",
       "  fhirclient.r4models.fhirprimitive.FHIRPrimitive,\n",
       "  False,\n",
       "  None,\n",
       "  False),\n",
       " ('interaction',\n",
       "  'interaction',\n",
       "  fhirclient.r4models.capabilitystatement.CapabilityStatementRestInteraction,\n",
       "  True,\n",
       "  None,\n",
       "  False),\n",
       " ('mode', 'mode', str, False, None, True),\n",
       " ('_mode',\n",
       "  '_mode',\n",
       "  fhirclient.r4models.fhirprimitive.FHIRPrimitive,\n",
       "  False,\n",
       "  None,\n",
       "  False),\n",
       " ('operation',\n",
       "  'operation',\n",
       "  fhirclient.r4models.capabilitystatement.CapabilityStatementRestResourceOperation,\n",
       "  True,\n",
       "  None,\n",
       "  False),\n",
       " ('resource',\n",
       "  'resource',\n",
       "  fhirclient.r4models.capabilitystatement.CapabilityStatementRestResource,\n",
       "  True,\n",
       "  None,\n",
       "  False),\n",
       " ('searchParam',\n",
       "  'searchParam',\n",
       "  fhirclient.r4models.capabilitystatement.CapabilityStatementRestResourceSearchParam,\n",
       "  True,\n",
       "  None,\n",
       "  False),\n",
       " ('security',\n",
       "  'security',\n",
       "  fhirclient.r4models.capabilitystatement.CapabilityStatementRestSecurity,\n",
       "  False,\n",
       "  None,\n",
       "  False)]"
      ]
     },
     "execution_count": 2,
     "metadata": {},
     "output_type": "execute_result"
    }
   ],
   "source": [
    "CS.CapabilityStatementRest().elementProperties()"
   ]
  },
  {
   "cell_type": "markdown",
   "metadata": {},
   "source": [
    "####  Assign Global Variables\n",
    "\n",
    "\n",
    "Here is where we assign all the global variables for this example such as the canonical base and project information"
   ]
  },
  {
   "cell_type": "code",
   "execution_count": null,
   "metadata": {},
   "outputs": [],
   "source": [
    "#******************** Need to update *************************************************\n",
    "fhir_base_url = 'http://hl7.org/fhir/'\n",
    "pre = \"US-Core\"\n",
    "canon = \"http://hl7.org/fhir/us/core/\"\n",
    "ig_folder = 'US-Core'\n",
    "publisher = 'HL7 International - Structured Documents Work Group'\n",
    "publisher_endpoint = dict(\n",
    "                        system = 'url',\n",
    "                        value = 'http://www.hl7.org/Special/committees/structure/index.cfm'\n",
    "                        ) \n",
    "ig_source_path = \"//ERICS-AIR-2/ehaas/Documents/FHIR/US-Core-R4/source/\"\n",
    "#ig_source_path = \"/Users/ehaas/Documents/FHIR/US-Core-R4/source/\"\n",
    "ig_source_path = ''\n",
    "#******************** Need to update *************************************************\n",
    "\n",
    "f_jurisdiction =  CC.CodeableConcept({\n",
    "      \"coding\" : [\n",
    "        {\n",
    "          \"system\" : \"urn:iso:std:iso:3166\",\n",
    "          \"code\" : \"US\"\n",
    "        }\n",
    "      ]\n",
    "    })\n",
    "\n",
    "conf_url = 'http://hl7.org/fhir/StructureDefinition/capabilitystatement-expectation'\n",
    "combo_url = 'http://hl7.org/fhir/StructureDefinition/capabilitystatement-search-parameter-combination'\n",
    "\n",
    "none_list = ['', ' ', 'none', 'n/a', 'N/A', 'N', 'False']\n",
    "\n",
    "sep_list = (',', ';', ' ', ', ', '; ')\n",
    "\n",
    "f_now = D.FHIRDate(str(date.today()))\n",
    "f_now.as_json()"
   ]
  },
  {
   "cell_type": "markdown",
   "metadata": {},
   "source": [
    "#### Conformance Extension"
   ]
  },
  {
   "cell_type": "code",
   "execution_count": null,
   "metadata": {},
   "outputs": [],
   "source": [
    "def get_conf(conf='MAY'):\n",
    "    return [X.Extension(dict(\n",
    "        url = conf_url,\n",
    "        valueCode = conf\n",
    "        ))]"
   ]
  },
  {
   "cell_type": "markdown",
   "metadata": {},
   "source": [
    "### validate"
   ]
  },
  {
   "cell_type": "code",
   "execution_count": null,
   "metadata": {},
   "outputs": [],
   "source": [
    "# *********************** validate Resource ********************************\n",
    "\n",
    "def validate(r):\n",
    "\n",
    "    fhir_test_server = 'http://test.fhir.org/r4'\n",
    "\n",
    "    headers = {\n",
    "    'Accept':'application/fhir+json',\n",
    "    'Content-Type':'application/fhir+json'\n",
    "    }\n",
    "\n",
    "    # profile = 'http://hl7.org/fhir/us/core/StructureDefinition/us-core-patient' # The official URL for this profile is: http://hl7.org/fhir/us/core/StructureDefinition/us-core-patient\n",
    " \n",
    "    params = dict(\n",
    "      # profile = 'http://hl7.org/fhir/us/core/StructureDefinition/us-core-patient' # The official URL for this profile is: http://hl7.org/fhir/us/core/StructureDefinition/us-core-patient\n",
    "        )\n",
    "    \n",
    "    #   r = requests.post('https://httpbin.org/post', data = {'key':'value'})\n",
    "    r = post(f'{fhir_test_server}/Questionnaire/$validate', params = params, headers = headers, data = dumps(r.as_json()))\n",
    "    # return r.status_code\n",
    "    # view  output\n",
    "    # return (r.json()[\"text\"][\"div\"])\n",
    "    return r"
   ]
  },
  {
   "cell_type": "markdown",
   "metadata": {},
   "source": [
    "### Get Cap Statement input data"
   ]
  },
  {
   "cell_type": "markdown",
   "metadata": {},
   "source": [
    "#### first the meta sheet"
   ]
  },
  {
   "cell_type": "code",
   "execution_count": null,
   "metadata": {},
   "outputs": [],
   "source": [
    "#in_path = '/Users/ehaas/Documents/FHIR/pyfhir/test/'\n",
    "in_path ='../SP/'\n",
    "\n",
    "in_file =\"uscore-server\"\n",
    "\n",
    "xls = ExcelFile(f'{in_path}{in_file}.xlsx')\n",
    "df = read_excel(xls,'meta',na_filter = False)\n",
    "\n",
    "df"
   ]
  },
  {
   "cell_type": "markdown",
   "metadata": {},
   "source": [
    "#### Create NamedTuple from df to use dot notation"
   ]
  },
  {
   "cell_type": "code",
   "execution_count": null,
   "metadata": {},
   "outputs": [],
   "source": [
    "d = dict(zip(df.Element, df.Value))\n",
    "meta = namedtuple(\"Meta\", d.keys())(*d.values())      \n",
    "         \n",
    "meta.id"
   ]
  },
  {
   "cell_type": "markdown",
   "metadata": {},
   "source": [
    "\n",
    "### Create CS instance"
   ]
  },
  {
   "cell_type": "code",
   "execution_count": null,
   "metadata": {},
   "outputs": [],
   "source": [
    "def get_op():\n",
    "    op_list = []\n",
    "    df_op = read_excel(xls,'ops',na_filter = False)\n",
    "    for i in df_op.itertuples(index=True):\n",
    "        op = CS.CapabilityStatementRestResourceOperation()\n",
    "        op.name = i.name \n",
    "        op.definition = i.definition\n",
    "        op.extension = get_conf(i.conf) \n",
    "        op_list.append(op)\n",
    "    return op_list\n",
    "\n",
    "def get_igs():\n",
    "    ig_list = []\n",
    "    df_igs = read_excel(xls,'igs',na_filter = False)\n",
    "    for ig in df_igs.itertuples(index=True):\n",
    "        ig_list.append(ig.uri)\n",
    "    return ig_list\n",
    "\n",
    "\n",
    "cs = CS.CapabilityStatement()\n",
    "cs.id = meta.id\n",
    "cs.url = f'{canon}CapabilityStatement/{meta.id}'\n",
    "cs.version = '0.0.0'  # placeholder changed by build\n",
    "cs.name = f'{pre}{titlecase(meta.id)}{cs.resource_type}'\n",
    "cs.title = f'{pre} {titlecase(meta.id)} {cs.resource_type}'\n",
    "cs.status = 'active'\n",
    "cs.experimental = False\n",
    "cs.date = f_now  # as FHIRDate\n",
    "cs.publisher = publisher\n",
    "cs.contact = [CD.ContactDetail( {\"telecom\" : [ publisher_endpoint ] })]\n",
    "cs.description = meta.description\n",
    "cs.jurisdiction = [f_jurisdiction]\n",
    "cs.kind = 'requirements'\n",
    "cs.fhirVersion = '4.0.0'\n",
    "cs.acceptUnknown = 'both'\n",
    "cs.format = [\n",
    "    \"xml\",\n",
    "    \"json\"\n",
    "  ]\n",
    "cs.patchFormat = [\n",
    "    \"application/json-patch+json\",\n",
    "  ]\n",
    "cs.implementationGuide = meta.ig.split(\",\") + get_igs()\n",
    "rest = CS.CapabilityStatementRest(dict(\n",
    "    mode = meta.mode,\n",
    "    documentation = meta.documentation,\n",
    "    security = dict(\n",
    "        description = meta.security\n",
    "        )\n",
    "    ))\n",
    "rest.operation = get_op()\n",
    "cs.rest = [rest]\n",
    "\n",
    "\n",
    "cs.as_json()"
   ]
  },
  {
   "cell_type": "markdown",
   "metadata": {},
   "source": [
    "#### Then the list of IG profiles"
   ]
  },
  {
   "cell_type": "code",
   "execution_count": null,
   "metadata": {},
   "outputs": [],
   "source": [
    "xls = ExcelFile(f'{in_path}{in_file}.xlsx')\n",
    "df = read_excel(xls,'profiles',na_filter = False)\n",
    "\n",
    "df"
   ]
  },
  {
   "cell_type": "markdown",
   "metadata": {},
   "source": [
    "#### add Resources\n",
    "\n",
    "- read sheets for reasource attributes, interaction attributes,  search attributes, profiles, and combo search parameters"
   ]
  },
  {
   "cell_type": "code",
   "execution_count": null,
   "metadata": {
    "scrolled": false
   },
   "outputs": [],
   "source": [
    "df_resources = read_excel(xls,'resources',na_filter = False)\n",
    "df_profiles = read_excel(xls,'profiles',na_filter = False)\n",
    "df_i = read_excel(xls,'interactions',na_filter = False)\n",
    "df_sp = read_excel(xls,'sps',na_filter = False)\n",
    "df_combos = read_excel(xls,'sp_combos',na_filter = False)\n",
    "\n",
    "\n",
    "def get_i(type):\n",
    "    int_list = []\n",
    "    for i in df_i.itertuples(index=True):\n",
    "        print(i.code, getattr(i,f'conf_{type}'))\n",
    "        if getattr(i,f'conf_{type}') not in none_list:\n",
    "            int  = CS.CapabilityStatementRestResourceInteraction()\n",
    "            int.code = i.code  \n",
    "            int.extension = get_conf(getattr(i,f'conf_{type}'))    \n",
    "            int_list.append(int.as_json())\n",
    "        \n",
    "    return int_list\n",
    "\n",
    "\n",
    "def get_sp(r_type):\n",
    "    sp_list = []\n",
    "    for i in df_sp.itertuples(index=True):\n",
    "        if i.base == r_type:\n",
    "            sp  = CS.CapabilityStatementRestResourceSearchParam()\n",
    "            sp.name = i.code\n",
    "            \n",
    "            # TODO need to fix this to reference a mapping see SP directory\n",
    "       \n",
    "            sp.definition = (f'{canon}SearchParameter/{pre.lower()}-{i.base.lower()}-{i.code.split(\"_\")[-1]}' if i.update == 'Y' or i.exists =='N'\n",
    "                             else f'{fhir_base_url}SearchParameter/{i.base}-{i.code.split(\"_\")[-1]}')  # removes the '_' for things like _id\n",
    "            # print(sp.definition)\n",
    "            sp.type = i.type\n",
    "            sp.extension = get_conf(i.base_conf)\n",
    "            #print(sp.as_json())                \n",
    "            sp_list.append(sp.as_json())\n",
    "                             \n",
    "    return sp_list\n",
    "\n",
    "\n",
    "def get_combo_ext(r_type,combos):\n",
    "    x_list = []\n",
    "    for combo in combos:\n",
    "        # convert to extension\n",
    "        combo_ext = X.Extension()\n",
    "        combo_ext.url = combo_url\n",
    "        combo_conf_ext = get_conf(combo[1])\n",
    "        combo_ext.extension=combo_conf_ext\n",
    "        for param in combo[0].split(','):\n",
    "            req_combo = X.Extension(\n",
    "                dict (\n",
    "                    url = 'required',\n",
    "                    valueString = param   #http://hl7.org/fhir/us/core/SearchParameter/us-core-patient-family\n",
    "                    )\n",
    "                )\n",
    "            combo_ext.extension.append(req_combo)\n",
    "        x_list.append(combo_ext)\n",
    "        # print(x_list)\n",
    "    return x_list\n",
    " \n",
    "\n",
    "rest.resource =  []\n",
    "for r in df_resources.itertuples(index=True):\n",
    "    # print(r.type, r.conformance, r.readHistory)\n",
    "    supported_profile = [p.Profile for p in df_profiles.itertuples(index=True) if p.Type == r.type]\n",
    "    #pprint(supported_profile)                         \n",
    "    res = CS.CapabilityStatementRestResource(\n",
    "    dict(\n",
    "        type = r.type,\n",
    "        documentation = r.documentation if r.documentation not in none_list else None,\n",
    "        versioning = r.versioning if r.versioning not in none_list else None,\n",
    "        readHistory = None if r.readHistory is None else r.readHistory == 'True',\n",
    "        updateCreate = None if r.readHistory is None else r.readHistory == 'True',\n",
    "        conditionalCreate = None if r.conditionalCreate is None else r.conditionalCreate == 'True',\n",
    "        conditionalRead = None if r.conditionalRead is None else r.conditionalRead == 'True',\n",
    "        conditionalCreate = None if r.conditionalCreate is None else r.conditionalCreate == 'True',\n",
    "        conditionalRead = None if r.conditionalRead is None else r.conditionalRead == 'True',\n",
    "        referencePolicy = r.referencePolicy.split(\",\") if r.referencePolicy not in none_list else [],\n",
    "        interaction = get_i(r.type),\n",
    "        searchParam = get_sp(r.type),\n",
    "        searchInclude = (r.shall_include.split(\",\") + r.should_include.split(\",\") \n",
    "                         if r.shall_include not in none_list or r.should_include not in none_list else []),\n",
    "        searchRevInclude = (r.shall_revinclude.split(\",\") + r.should_revinclude.split(\",\") \n",
    "                 if r.shall_revinclude not in none_list or r.should_revinclude not in none_list else []),\n",
    "        profile = f'{fhir_base_url}{r.type}',\n",
    "        supportedProfile = supported_profile,\n",
    "        ) \n",
    "    )\n",
    "    res.extension = get_conf(r.conformance)\n",
    "    combos = {(i.combo,i.combo_conf) for i in df_combos.itertuples(index=True) if i.base == r.type}\n",
    "    res.extension = res.extension + get_combo_ext(r.type,combos) # convert list to  lst of combo extensions\n",
    "\n",
    "    rest.resource.append(res)\n",
    "cs.rest = [rest]\n",
    "    \n",
    "print(dumps(cs.as_json(),indent=3))"
   ]
  },
  {
   "cell_type": "markdown",
   "metadata": {},
   "source": [
    "### Validate"
   ]
  },
  {
   "cell_type": "code",
   "execution_count": null,
   "metadata": {},
   "outputs": [],
   "source": [
    " #validate and write to file\n",
    "\n",
    "print('...validating')\n",
    "r = validate(cs)\n",
    "display(HTML(f'<h1>Validation output</h1><h3>Status Code = {r.status_code}</h3> {r.json()[\"text\"][\"div\"]}'))\n",
    "\n"
   ]
  },
  {
   "cell_type": "markdown",
   "metadata": {},
   "source": [
    "### Create Narrative\n",
    "\n",
    "- Using Jinja2 Template create xhtml for narrative"
   ]
  },
  {
   "cell_type": "code",
   "execution_count": null,
   "metadata": {},
   "outputs": [],
   "source": [
    "in_path = ''\n",
    "in_file = 'R4capabilitystatement-server.j2'\n",
    "\n",
    "\n",
    "def markdown(text, *args, **kwargs):\n",
    "    return commonmark(text, *args, **kwargs)\n",
    "\n",
    "\n",
    "\n",
    "env = Environment(\n",
    "    loader=FileSystemLoader(searchpath = in_path),\n",
    "    autoescape=select_autoescape(['html','xml','xhtml','j2','md'])\n",
    "    )\n",
    "\n",
    "env.filters['markdown'] = markdown\n",
    "\n",
    "\n",
    "template = env.get_template(in_file)\n",
    "\n",
    "sp_map = {sp.code:(sp.type,sp.rel_url,) for sp in df_sp.itertuples(index=True)}\n",
    "\n",
    "rendered = template.render(cs=cs, p_map = {p.Profile:p.Name for p in df_profiles.itertuples(index=True)}, sp_map =sp_map )\n",
    "\n",
    "display(HTML(rendered))\n",
    "\n",
    "\n",
    "parser = etree.XMLParser(remove_blank_text=True)\n",
    "root = etree.fromstring(rendered, parser=parser)\n",
    "\n",
    "div = (etree.tostring(root[1][0], encoding='unicode', method='html'))\n",
    "narr = N.Narrative()\n",
    "narr.status = 'generated'\n",
    "narr.div = div\n",
    "cs.text = narr\n",
    "\n",
    "\n",
    "#print(dumps(cs.as_json(),indent=3))"
   ]
  },
  {
   "cell_type": "markdown",
   "metadata": {},
   "source": [
    "### validate again"
   ]
  },
  {
   "cell_type": "code",
   "execution_count": null,
   "metadata": {},
   "outputs": [],
   "source": [
    "print('...validating')\n",
    "r = validate(cs)\n",
    "display(HTML(f'<h1>Validation output</h1><h3>Status Code = {r.status_code}</h3> {r.json()[\"text\"][\"div\"]}'))\n"
   ]
  },
  {
   "cell_type": "markdown",
   "metadata": {},
   "source": [
    "### Write to folder"
   ]
  },
  {
   "cell_type": "code",
   "execution_count": null,
   "metadata": {},
   "outputs": [],
   "source": [
    "# save to file\n",
    "print('...........saving to file............')\n",
    "#save in ig_source folder\n",
    "path = Path.cwd() / ig_source_path / 'resources' / f'capabilitystatement-{cs.id.lower()}.json'\n",
    "path.write_text(dumps(cs.as_json(), indent=4))"
   ]
  }
 ],
 "metadata": {
  "kernelspec": {
   "display_name": "Python 3",
   "language": "python",
   "name": "python3"
  },
  "language_info": {
   "codemirror_mode": {
    "name": "ipython",
    "version": 3
   },
   "file_extension": ".py",
   "mimetype": "text/x-python",
   "name": "python",
   "nbconvert_exporter": "python",
   "pygments_lexer": "ipython3",
   "version": "3.7.1"
  }
 },
 "nbformat": 4,
 "nbformat_minor": 2
}
