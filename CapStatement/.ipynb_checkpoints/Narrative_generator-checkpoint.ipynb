{
 "cells": [
  {
   "cell_type": "markdown",
   "metadata": {},
   "source": [
    "## generate narrative from resource"
   ]
  },
  {
   "cell_type": "markdown",
   "metadata": {},
   "source": [
    "### import modules"
   ]
  },
  {
   "cell_type": "code",
   "execution_count": null,
   "metadata": {},
   "outputs": [],
   "source": [
    "from fhir.resources import construct_fhir_element\n",
    "from json import dumps, loads\n",
    "from requests import get, post, put\n",
    "from pathlib import Path\n",
    "from IPython.display import display as Display, HTML, Markdown, Javascript\n",
    "import ipywidgets as widgets\n",
    "from pprint import pprint\n",
    "from collections import namedtuple\n",
    "from pandas import *\n",
    "from datetime import datetime, date, timezone, timedelta\n",
    "from jinja2 import Environment, FileSystemLoader, select_autoescape\n",
    "from stringcase import snakecase, titlecase\n",
    "from commonmark import commonmark\n",
    "from htmlmin import minify"
   ]
  },
  {
   "cell_type": "markdown",
   "metadata": {},
   "source": [
    "### Define variables"
   ]
  },
  {
   "cell_type": "markdown",
   "metadata": {},
   "source": [
    "#### get CapStatement as json"
   ]
  },
  {
   "cell_type": "code",
   "execution_count": null,
   "metadata": {},
   "outputs": [],
   "source": [
    "fname = input('enter the CapStatment file name:')"
   ]
  },
  {
   "cell_type": "code",
   "execution_count": null,
   "metadata": {},
   "outputs": [],
   "source": [
    "path = Path.cwd() / 'cs_source_file'/ fname\n",
    "cs_py = construct_fhir_element('CapabilityStatement',path.read_text())\n",
    "print(cs_py.id)"
   ]
  },
  {
   "cell_type": "markdown",
   "metadata": {},
   "source": [
    "### Create Profile url:Name mappings"
   ]
  },
  {
   "cell_type": "code",
   "execution_count": null,
   "metadata": {},
   "outputs": [],
   "source": [
    "# this is wrong if for most IGs should be supportedProfiles not Profiles\n",
    "pname_map = {r.profile:titlecase(r.profile.split('/')[-1]) for r in cs_py.rest[0].resource if r.profile}\n",
    "#add in supported Profiles too\n",
    "spname_map = {sp:titlecase(sp.split('/')[-1]) for \\\n",
    "              r in cs_py.rest[0].resource if r.supportedProfile for sp in r.supportedProfile}\n",
    "#flatten_matrix = [val for sublist in matrix for val in sublist] \n",
    "\n",
    "# Adding elements from dict2 to dict1\n",
    "pname_map.update(spname_map)\n",
    "pname_map"
   ]
  },
  {
   "cell_type": "markdown",
   "metadata": {},
   "source": [
    "### get pathmap from package file\n",
    "- Get spec_internal from package a json file which includes canonical to local relative page links"
   ]
  },
  {
   "cell_type": "code",
   "execution_count": null,
   "metadata": {},
   "outputs": [],
   "source": [
    "ig_package = input(\"Get package path to download:\")"
   ]
  },
  {
   "cell_type": "code",
   "execution_count": null,
   "metadata": {},
   "outputs": [],
   "source": [
    "r = get(ig_package, verify=False)\n",
    "r.status_code\n",
    "#write to file\n",
    "path = Path.cwd() /  'cs_source_file' / ig_package.split('/')[-1]\n",
    "path.write_bytes(r.content)"
   ]
  },
  {
   "cell_type": "code",
   "execution_count": null,
   "metadata": {},
   "outputs": [],
   "source": [
    "import tarfile\n",
    "\n",
    "def get_si(tar_file):\n",
    "    print(path)\n",
    "    with tarfile.open(tar_file, mode='r') as tf:\n",
    "        #pprint(tf.getnames())\n",
    "        f = tf.extractfile('package/other/spec.internals')\n",
    "        r = f.read()\n",
    "        return(loads(r))\n",
    "\n",
    "\n",
    "si = get_si(path)\n",
    "       \n",
    "path_map = si['paths']\n",
    "\n",
    "\n",
    "#can = 'http://hl7.org/fhir/us/carin/StructureDefinition/carin-bb-explanationofbenefit-inpatient-facility'\n",
    "#path_map[can]\n",
    "path_map"
   ]
  },
  {
   "cell_type": "markdown",
   "metadata": {},
   "source": [
    "### Get URL:Name/Title mapping from package file"
   ]
  },
  {
   "cell_type": "code",
   "execution_count": null,
   "metadata": {},
   "outputs": [],
   "source": [
    "from json import JSONDecodeError\n",
    "def get_name_map(tar_file):\n",
    "    print(path)\n",
    "    name_map = {}\n",
    "    with tarfile.open(tar_file, mode='r') as tf:\n",
    "        for p_file in tf.getnames():\n",
    "            #print(p_file)\n",
    "            f = tf.extractfile(p_file)\n",
    "            r = f.read()\n",
    "            #print(type(r))\n",
    "            try:\n",
    "                r_dict = loads(r)\n",
    "            except JSONDecodeError: # not a json file\n",
    "                continue\n",
    "            try:\n",
    "                name_map[r_dict['url']] = r_dict['title']\n",
    "                #print(r_dict['title'])\n",
    "            except KeyError:\n",
    "                try:\n",
    "                    name_map[r_dict['url']] = r_dict['name']\n",
    "                    #print(r_dict['name'])\n",
    "                except KeyError: # not a conf resource\n",
    "                    print(f'****{p_file}is not a conf resource***')\n",
    "        return(name_map)\n",
    "\n",
    "\n",
    "name_map = get_name_map(path)\n",
    "name_map       "
   ]
  },
  {
   "cell_type": "markdown",
   "metadata": {},
   "source": [
    "### Get SearchParameter parameter name: type mapping from package file"
   ]
  },
  {
   "cell_type": "code",
   "execution_count": null,
   "metadata": {},
   "outputs": [],
   "source": [
    "def get_sp_map(tar_file):\n",
    "    print(path)\n",
    "    sp_map = {}\n",
    "    with tarfile.open(tar_file, mode='r') as tf:\n",
    "        for p_file in tf.getnames():\n",
    "            #print(p_file)\n",
    "            if 'searchparameter' in p_file.lower():\n",
    "                print(f'**********{p_file}')\n",
    "                f = tf.extractfile(p_file)\n",
    "                r = f.read()\n",
    "                #print(type(r))\n",
    "                try:\n",
    "                    r_dict = loads(r)\n",
    "                except JSONDecodeError: # not a json file\n",
    "                    continue\n",
    "                try:\n",
    "                    sp_map[r_dict['code']] = r_dict['type']\n",
    "                    print(r_dict['type'])\n",
    "                except KeyError:\n",
    "                    print(f'{p_file} has no type')\n",
    "        return(sp_map)\n",
    "\n",
    "\n",
    "sp_map = get_sp_map(path)\n",
    "sp_map       "
   ]
  },
  {
   "cell_type": "markdown",
   "metadata": {},
   "source": [
    "### render using Jinja2 templates\n",
    "\n",
    "create all maps:\n",
    "- purl_map (canon:url)\n",
    "- cs_map just canon:canon for now \n",
    "- ig_map just canon:canon for now "
   ]
  },
  {
   "cell_type": "code",
   "execution_count": null,
   "metadata": {},
   "outputs": [],
   "source": [
    "in_path = ''\n",
    "in_file = 'R4capabilitystatement-server.j2'\n",
    "\n",
    "def markdown(text, *args, **kwargs):\n",
    "    return commonmark(text, *args, **kwargs)\n",
    "\n",
    "env = Environment(\n",
    "    loader=FileSystemLoader(searchpath = in_path),\n",
    "    autoescape=select_autoescape(['html','xml','xhtml','j2','md'],),\n",
    "    trim_blocks = True,\n",
    "    lstrip_blocks = True,\n",
    "    )\n",
    "\n",
    "env.filters['markdown'] = markdown\n",
    "\n",
    "template = env.get_template(in_file)\n",
    "\n",
    "purl_map={} # canon:url, \n",
    "for p,n in pname_map.items():\n",
    "    try:\n",
    "        purl_map[p] = pname_map[p]\n",
    "    except KeyError:\n",
    "        purl_map[p] = p\n",
    "try:\n",
    "    cs_list = cs_py.instantiates + cs_py.imports\n",
    "except TypeError:\n",
    "    cs_list =[]\n",
    "cs_map = {k:k for k in cs_list} # just canon:canon for now \n",
    "#-TODO see how can look up fhir registry and populate\n",
    "ig_map = {k:k for k in cs_py.implementationGuide}\n",
    "\n",
    "rendered = template.render(cs=cs_py, path_map=path_map, pname_map=name_map, purl_map=purl_map, sp_map=sp_map, \n",
    "                          csname_map=cs_map, csurl_map=cs_map, igname_map=ig_map, igurl_map=ig_map)"
   ]
  },
  {
   "cell_type": "markdown",
   "metadata": {},
   "source": [
    "### Minify the xhtml"
   ]
  },
  {
   "cell_type": "code",
   "execution_count": null,
   "metadata": {},
   "outputs": [],
   "source": [
    "def x_minify(xhtml):\n",
    "    h_min=minify(xhtml, remove_optional_attribute_quotes=False, remove_comments=True)\n",
    "    x_min = h_min.replace('<br>','<br />')\n",
    "    x_min = x_min.replace('<hr>','<hr />')\n",
    "    return x_min\n",
    "\n",
    "mini = x_minify(rendered)\n",
    "#print(type(mini))\n",
    "#print(mini)\n",
    "#display(HTML(rendered))\n",
    "display(HTML(mini))\n",
    "\n",
    "'''\n",
    "#======== write to temp file to debug =======\n",
    "path = Path.cwd() / 'debug' / 'narrative_pre.xhtml'\n",
    "path.write_text(rendered, encoding=\"utf-8\")\n",
    "path = Path.cwd() / 'debug' / 'narrative_mini_pre.xhtml'\n",
    "path.write_text(mini, encoding=\"utf-8\")\n",
    "#===================================================\n",
    "'''\n",
    "narr = construct_fhir_element('Narrative',dict(\n",
    "    status = 'generated',\n",
    "    div = mini,\n",
    " ))\n",
    "cs_py.text = narr"
   ]
  },
  {
   "cell_type": "markdown",
   "metadata": {},
   "source": [
    "### Validation"
   ]
  },
  {
   "cell_type": "code",
   "execution_count": null,
   "metadata": {},
   "outputs": [],
   "source": [
    "\n",
    "def validate(r):\n",
    "    #fhir_test_server = 'http://fhirtest.uhn.ca/baseDstu3'\n",
    "    #fhir_test_server = 'http://test.fhir.org/r3'\n",
    "    #fhir_test_server = 'http://test.fhir.org/r4'\n",
    "    #fhir_test_server ='http://wildfhir4.aegis.net/fhir4-0-0'\n",
    "    #fhir_test_server ='http://wildfhir4.aegis.net/fhir4-0-0'\n",
    "    fhir_test_server ='http://hapi.fhir.org/baseR4'\n",
    "  \n",
    "\n",
    "    headers = {\n",
    "    'Accept':'application/fhir+json',\n",
    "    'Content-Type':'application/fhir+json'\n",
    "    }\n",
    "    \n",
    "    r = post(f'{fhir_test_server}/CapabilityStatement/$validate', headers = headers, data = cs_py.json())   # return r.status_code\n",
    "    display(HTML(f'<h1>Validation output</h1><h3>Status Code = {r.status_code}</h3> {r.json()[\"text\"][\"div\"]}'))\n",
    "\n",
    "validate(cs_py)"
   ]
  },
  {
   "cell_type": "markdown",
   "metadata": {},
   "source": [
    "### Save to local dir"
   ]
  },
  {
   "cell_type": "code",
   "execution_count": null,
   "metadata": {},
   "outputs": [],
   "source": [
    "# save to file\n",
    "ig_source_path = ''\n",
    "print('...........saving to file............')\n",
    "#save in ig_source folder\n",
    "path = Path.cwd() / ig_source_path / 'resources' / f'capabilitystatement-{cs_py.id.lower()}.json'\n",
    "path.write_text(cs_py.json(indent=2))"
   ]
  },
  {
   "cell_type": "code",
   "execution_count": null,
   "metadata": {},
   "outputs": [],
   "source": []
  }
 ],
 "metadata": {
  "kernelspec": {
   "display_name": "Python 3",
   "language": "python",
   "name": "python3"
  },
  "language_info": {
   "codemirror_mode": {
    "name": "ipython",
    "version": 3
   },
   "file_extension": ".py",
   "mimetype": "text/x-python",
   "name": "python",
   "nbconvert_exporter": "python",
   "pygments_lexer": "ipython3",
   "version": "3.7.3"
  }
 },
 "nbformat": 4,
 "nbformat_minor": 4
}
