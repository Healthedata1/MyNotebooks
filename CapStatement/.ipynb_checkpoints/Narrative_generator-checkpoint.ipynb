{
 "cells": [
  {
   "cell_type": "markdown",
   "metadata": {},
   "source": [
    "## generate narrative from resource"
   ]
  },
  {
   "cell_type": "markdown",
   "metadata": {},
   "source": [
    "### import modules"
   ]
  },
  {
   "cell_type": "code",
   "execution_count": null,
   "metadata": {},
   "outputs": [],
   "source": [
    "from fhirclient.r4models.fhirabstractbase import FHIRValidationError\n",
    "from fhirclient.r4models import searchparameter as SP\n",
    "from fhirclient.r4models import capabilitystatement as CS\n",
    "from fhirclient.r4models import bundle as B\n",
    "from fhirclient.r4models import narrative as N\n",
    "import fhirclient.models.identifier as I\n",
    "import fhirclient.r4models.identifier as I\n",
    "import fhirclient.r4models.coding as C\n",
    "import fhirclient.r4models.codeableconcept as CC\n",
    "import fhirclient.r4models.fhirdate as D\n",
    "import fhirclient.r4models.extension as X\n",
    "import fhirclient.r4models.contactdetail as CD\n",
    "import fhirclient.r4models.fhirreference as FR\n",
    "from json import dumps, loads, load, JSONDecodeError\n",
    "from requests import get, post, put\n",
    "import os\n",
    "from pathlib import Path\n",
    "from csv import reader as csvreader\n",
    "from IPython.display import display as Display, HTML, Markdown\n",
    "from pprint import pprint\n",
    "from collections import namedtuple\n",
    "from pandas import *\n",
    "from datetime import datetime, date\n",
    "from jinja2 import Environment, FileSystemLoader, select_autoescape\n",
    "from stringcase import snakecase, titlecase\n",
    "from itertools import zip_longest\n",
    "from openpyxl import load_workbook\n",
    "from commonmark import commonmark\n",
    "from lxml import etree"
   ]
  },
  {
   "cell_type": "markdown",
   "metadata": {},
   "source": [
    "### Define variables"
   ]
  },
  {
   "cell_type": "markdown",
   "metadata": {},
   "source": [
    "#### get CapStatement as json"
   ]
  },
  {
   "cell_type": "code",
   "execution_count": null,
   "metadata": {},
   "outputs": [],
   "source": [
    "fname = input('enter the CapStatment file name:')"
   ]
  },
  {
   "cell_type": "code",
   "execution_count": null,
   "metadata": {},
   "outputs": [],
   "source": [
    "path = Path.cwd() / 'cs_source_file'/ fname\n",
    "cs_json = path.read_text()\n",
    "cs_py = CS.CapabilityStatement(loads(cs_json))\n",
    "print(cs_py.id)\n",
    "# sp_map = {sp.code:sp.type for sp in df_sp.itertuples(index=True)}\n",
    "# pname_map = {p.Profile:p.Name for p in df_profiles.itertuples(index=True)}\n",
    "\n",
    "# this is wrong if for most IGs should be supportedProfiles not Profiles\n",
    "pname_map = {r.profile:titlecase(r.profile.split('/')[-1]) for r in cs_py.rest[0].resource if r.profile}\n",
    "#add in supported Profiles too\n",
    "spname_map = {sp:titlecase(sp.split('/')[-1]) for \\\n",
    "              r in cs_py.rest[0].resource if r.supportedProfile for sp in r.supportedProfile}\n",
    "#flatten_matrix = [val for sublist in matrix for val in sublist] \n",
    "\n",
    "# Adding elements from dict2 to dict1\n",
    "pname_map.update(spname_map)\n",
    "\n",
    "sp_map = None\n",
    "\n",
    "print(pname_map)"
   ]
  },
  {
   "cell_type": "markdown",
   "metadata": {},
   "source": [
    "### get pathmap from package file\n",
    "- Get spec_internal from package a json file which includes canonical to local relative page links"
   ]
  },
  {
   "cell_type": "code",
   "execution_count": null,
   "metadata": {},
   "outputs": [],
   "source": [
    "ig_package = input(\"Get package path to download:\")"
   ]
  },
  {
   "cell_type": "code",
   "execution_count": null,
   "metadata": {},
   "outputs": [],
   "source": [
    "r = get(ig_package)\n",
    "r.status_code\n",
    "#write to file\n",
    "path = Path.cwd() /  'cs_source_file' / ig_package.split('/')[-1]\n",
    "path.write_bytes(r.content)"
   ]
  },
  {
   "cell_type": "code",
   "execution_count": null,
   "metadata": {},
   "outputs": [],
   "source": [
    "import tarfile\n",
    "\n",
    "def get_si(tar_file):\n",
    "    print(path)\n",
    "    with tarfile.open(tar_file, mode='r') as tf:\n",
    "        #pprint(tf.getnames())\n",
    "        f = tf.extractfile('package/other/spec.internals')\n",
    "        r = f.read()\n",
    "        return(loads(r))\n",
    "\n",
    "\n",
    "si = get_si(path)\n",
    "       \n",
    "path_map = si['paths']\n",
    "path_map"
   ]
  },
  {
   "cell_type": "markdown",
   "metadata": {},
   "source": [
    "### Get URL:Name/Title mapping from package file"
   ]
  },
  {
   "cell_type": "code",
   "execution_count": null,
   "metadata": {},
   "outputs": [],
   "source": [
    "from json import JSONDecodeError\n",
    "def get_name_map(tar_file):\n",
    "    print(path)\n",
    "    name_map = {}\n",
    "    with tarfile.open(tar_file, mode='r') as tf:\n",
    "        for p_file in tf.getnames():\n",
    "            #print(p_file)\n",
    "            f = tf.extractfile(p_file)\n",
    "            r = f.read()\n",
    "            #print(type(r))\n",
    "            try:\n",
    "                r_dict = loads(r)\n",
    "            except JSONDecodeError: # not a json file\n",
    "                continue\n",
    "            try:\n",
    "                name_map[r_dict['url']] = r_dict['title']\n",
    "                print(r_dict['title'])\n",
    "            except KeyError:\n",
    "                try:\n",
    "                    name_map[r_dict['url']] = r_dict['name']\n",
    "                    print(r_dict['name'])\n",
    "                except KeyError: # not a conf resource\n",
    "                    print(f'****{p_file}is not a conf resource***')\n",
    "        return(name_map)\n",
    "\n",
    "\n",
    "name_map = get_name_map(path)\n",
    "name_map       "
   ]
  },
  {
   "cell_type": "markdown",
   "metadata": {},
   "source": [
    "### Get SearchParameter parameter name: type mapping from package file"
   ]
  },
  {
   "cell_type": "code",
   "execution_count": null,
   "metadata": {},
   "outputs": [],
   "source": [
    "def get_sp_map(tar_file):\n",
    "    print(path)\n",
    "    sp_map = {}\n",
    "    with tarfile.open(tar_file, mode='r') as tf:\n",
    "        for p_file in tf.getnames():\n",
    "            #print(p_file)\n",
    "            if 'searchparameter' in p_file.lower():\n",
    "                print(f'**********{p_file}')\n",
    "                f = tf.extractfile(p_file)\n",
    "                r = f.read()\n",
    "                #print(type(r))\n",
    "                try:\n",
    "                    r_dict = loads(r)\n",
    "                except JSONDecodeError: # not a json file\n",
    "                    continue\n",
    "                try:\n",
    "                    sp_map[r_dict['code']] = r_dict['type']\n",
    "                    print(r_dict['type'])\n",
    "                except KeyError:\n",
    "                    print(f'{p_file} has no type')\n",
    "        return(sp_map)\n",
    "\n",
    "\n",
    "sp_map = get_sp_map(path)\n",
    "sp_map       "
   ]
  },
  {
   "cell_type": "markdown",
   "metadata": {},
   "source": [
    "### render using Jinja2 templates"
   ]
  },
  {
   "cell_type": "code",
   "execution_count": null,
   "metadata": {},
   "outputs": [],
   "source": [
    "in_path = ''\n",
    "in_file = 'R4capabilitystatement-server.j2'\n",
    "\n",
    "def markdown(text, *args, **kwargs):\n",
    "    return commonmark(text, *args, **kwargs)\n",
    "\n",
    "env = Environment(\n",
    "    loader=FileSystemLoader(searchpath = in_path),\n",
    "    autoescape=select_autoescape(['html','xml','xhtml','j2','md'])\n",
    "    )\n",
    "\n",
    "env.filters['markdown'] = markdown\n",
    "\n",
    "template = env.get_template(in_file)\n",
    "\n",
    "rendered = template.render(cs=cs_py, path_map=path_map, pname_map = name_map, sp_map =sp_map )\n",
    "\n",
    "display(HTML(rendered))\n",
    "\n",
    "\n",
    "parser = etree.XMLParser(remove_blank_text=True)\n",
    "root = etree.fromstring(rendered, parser=parser)\n",
    "\n",
    "div = (etree.tostring(root[1][0], encoding='unicode', method='html'))\n",
    "narr = N.Narrative()\n",
    "narr.status = 'generated'\n",
    "narr.div = div\n",
    "cs_py.text = narr\n",
    "\n",
    "\n",
    "#print(dumps(cs.as_json(),indent=3))"
   ]
  },
  {
   "cell_type": "code",
   "execution_count": null,
   "metadata": {},
   "outputs": [],
   "source": []
  },
  {
   "cell_type": "markdown",
   "metadata": {},
   "source": [
    "### Save to local dir"
   ]
  },
  {
   "cell_type": "code",
   "execution_count": null,
   "metadata": {},
   "outputs": [],
   "source": [
    "# save to file\n",
    "ig_source_path = ''\n",
    "print('...........saving to file............')\n",
    "#save in ig_source folder\n",
    "path = Path.cwd() / ig_source_path / 'resources' / f'capabilitystatement-{cs_py.id.lower()}.json'\n",
    "path.write_text(dumps(cs_py.as_json(), indent=4))"
   ]
  }
 ],
 "metadata": {
  "kernelspec": {
   "display_name": "Python 3",
   "language": "python",
   "name": "python3"
  },
  "language_info": {
   "codemirror_mode": {
    "name": "ipython",
    "version": 3
   },
   "file_extension": ".py",
   "mimetype": "text/x-python",
   "name": "python",
   "nbconvert_exporter": "python",
   "pygments_lexer": "ipython3",
   "version": "3.7.3"
  }
 },
 "nbformat": 4,
 "nbformat_minor": 2
}
