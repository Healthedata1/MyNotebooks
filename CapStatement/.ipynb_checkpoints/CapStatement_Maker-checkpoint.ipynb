{
 "cells": [
  {
   "cell_type": "markdown",
   "metadata": {},
   "source": [
    "## Create FHIR STU3 CapStatement Resource\n",
    "\n",
    "### Outline:\n",
    "\n",
    "- Source excel with requirements\n",
    "- pandas to convert in python Ordered Dict\n",
    "- build json\n",
    "- generate narrative using Jinja2 templates\n",
    "\n",
    "### Prerequisites:\n",
    "\n",
    "- Python 3.6 or greater"
   ]
  },
  {
   "cell_type": "markdown",
   "metadata": {},
   "source": [
    "### Import FHIRClient and other libraries"
   ]
  },
  {
   "cell_type": "code",
   "execution_count": 545,
   "metadata": {},
   "outputs": [],
   "source": [
    "%config IPCompleter.greedy=True"
   ]
  },
  {
   "cell_type": "code",
   "execution_count": 7,
   "metadata": {},
   "outputs": [],
   "source": [
    "from fhirclient.models import searchparameter as SP\n",
    "from fhirclient.models import capabilitystatement as CS\n",
    "from fhirclient.models import bundle as B\n",
    "import fhirclient.models.identifier as I\n",
    "import fhirclient.models.coding as C\n",
    "import fhirclient.models.codeableconcept as CC\n",
    "import fhirclient.models.fhirdate as D\n",
    "import fhirclient.models.extension as X\n",
    "import fhirclient.models.contactdetail as CD\n",
    "from json import dumps, loads, load\n",
    "from requests import get, post, put\n",
    "import os\n",
    "from pathlib import Path\n",
    "from csv import reader as csvreader\n",
    "from IPython import display as Display\n",
    "from pprint import pprint\n",
    "from collections import namedtuple\n",
    "from pandas import *\n",
    "from datetime import datetime\n",
    "from jinja2 import Environment, FileSystemLoader, select_autoescape"
   ]
  },
  {
   "cell_type": "markdown",
   "metadata": {},
   "source": [
    "#### Inspect ElementProperties as reference"
   ]
  },
  {
   "cell_type": "code",
   "execution_count": 8,
   "metadata": {},
   "outputs": [
    {
     "data": {
      "text/plain": [
       "[('id', 'id', str, False, None, False),\n",
       " ('implicitRules', 'implicitRules', str, False, None, False),\n",
       " ('language', 'language', str, False, None, False),\n",
       " ('meta', 'meta', fhirclient.models.meta.Meta, False, None, False),\n",
       " ('contained',\n",
       "  'contained',\n",
       "  fhirclient.models.resource.Resource,\n",
       "  True,\n",
       "  None,\n",
       "  False),\n",
       " ('extension',\n",
       "  'extension',\n",
       "  fhirclient.models.extension.Extension,\n",
       "  True,\n",
       "  None,\n",
       "  False),\n",
       " ('modifierExtension',\n",
       "  'modifierExtension',\n",
       "  fhirclient.models.extension.Extension,\n",
       "  True,\n",
       "  None,\n",
       "  False),\n",
       " ('text', 'text', fhirclient.models.narrative.Narrative, False, None, False),\n",
       " ('acceptUnknown', 'acceptUnknown', str, False, None, True),\n",
       " ('contact',\n",
       "  'contact',\n",
       "  fhirclient.models.contactdetail.ContactDetail,\n",
       "  True,\n",
       "  None,\n",
       "  False),\n",
       " ('copyright', 'copyright', str, False, None, False),\n",
       " ('date', 'date', fhirclient.models.fhirdate.FHIRDate, False, None, True),\n",
       " ('description', 'description', str, False, None, False),\n",
       " ('document',\n",
       "  'document',\n",
       "  fhirclient.models.capabilitystatement.CapabilityStatementDocument,\n",
       "  True,\n",
       "  None,\n",
       "  False),\n",
       " ('experimental', 'experimental', bool, False, None, False),\n",
       " ('fhirVersion', 'fhirVersion', str, False, None, True),\n",
       " ('format', 'format', str, True, None, True),\n",
       " ('implementation',\n",
       "  'implementation',\n",
       "  fhirclient.models.capabilitystatement.CapabilityStatementImplementation,\n",
       "  False,\n",
       "  None,\n",
       "  False),\n",
       " ('implementationGuide', 'implementationGuide', str, True, None, False),\n",
       " ('instantiates', 'instantiates', str, True, None, False),\n",
       " ('jurisdiction',\n",
       "  'jurisdiction',\n",
       "  fhirclient.models.codeableconcept.CodeableConcept,\n",
       "  True,\n",
       "  None,\n",
       "  False),\n",
       " ('kind', 'kind', str, False, None, True),\n",
       " ('messaging',\n",
       "  'messaging',\n",
       "  fhirclient.models.capabilitystatement.CapabilityStatementMessaging,\n",
       "  True,\n",
       "  None,\n",
       "  False),\n",
       " ('name', 'name', str, False, None, False),\n",
       " ('patchFormat', 'patchFormat', str, True, None, False),\n",
       " ('profile',\n",
       "  'profile',\n",
       "  fhirclient.models.fhirreference.FHIRReference,\n",
       "  True,\n",
       "  None,\n",
       "  False),\n",
       " ('publisher', 'publisher', str, False, None, False),\n",
       " ('purpose', 'purpose', str, False, None, False),\n",
       " ('rest',\n",
       "  'rest',\n",
       "  fhirclient.models.capabilitystatement.CapabilityStatementRest,\n",
       "  True,\n",
       "  None,\n",
       "  False),\n",
       " ('software',\n",
       "  'software',\n",
       "  fhirclient.models.capabilitystatement.CapabilityStatementSoftware,\n",
       "  False,\n",
       "  None,\n",
       "  False),\n",
       " ('status', 'status', str, False, None, True),\n",
       " ('title', 'title', str, False, None, False),\n",
       " ('url', 'url', str, False, None, False),\n",
       " ('useContext',\n",
       "  'useContext',\n",
       "  fhirclient.models.usagecontext.UsageContext,\n",
       "  True,\n",
       "  None,\n",
       "  False),\n",
       " ('version', 'version', str, False, None, False)]"
      ]
     },
     "execution_count": 8,
     "metadata": {},
     "output_type": "execute_result"
    }
   ],
   "source": [
    "CS.CapabilityStatement().elementProperties()"
   ]
  },
  {
   "cell_type": "markdown",
   "metadata": {},
   "source": [
    "####  Assign Global Variables\n",
    "\n",
    "\n",
    "Here is where we assign all the global variables for this example such as the local paths for file input and output"
   ]
  },
  {
   "cell_type": "code",
   "execution_count": 9,
   "metadata": {},
   "outputs": [],
   "source": [
    "md_templates = ['templ_1.j2']\n",
    "\n",
    "env = Environment(\n",
    "    loader=FileSystemLoader(searchpath = in_path),\n",
    "    autoescape=select_autoescape(['html','xml','xhtml','j2','md'])\n",
    "    )\n",
    "\n",
    "fhir_term_server = 'http://test.fhir.org/r3'\n",
    "fhir_test_server = 'http://test.fhir.org/r3'\n",
    "\n",
    "headers = {\n",
    "'Accept':'application/fhir+json',\n",
    "'Content-Type':'application/fhir+json'\n",
    "}\n",
    "\n",
    "fhir_base_url = 'http://hl7.org/fhir/'\n",
    "\n",
    "base_id = \"argo-q\"\n",
    "\n",
    "canon_base = \"http://fhir.org/guides/argonaut-questionnaire/\"\n",
    "\n",
    "publisher = 'The Argonaut Project'\n",
    "\n",
    "publisher_endpoint = dict(\n",
    "                        system = 'url',\n",
    "                        value = 'https://github.com/argonautproject/questionnaire/issues'\n",
    "                        )\n",
    "\n",
    "none_list = ['', ' ', 'none', 'n/a', 'N/A', 'N', 'False']\n",
    "\n",
    "sep_list = (',', ';', ' ', ', ', '; ')"
   ]
  },
  {
   "cell_type": "markdown",
   "metadata": {},
   "source": [
    "### validate"
   ]
  },
  {
   "cell_type": "code",
   "execution_count": 10,
   "metadata": {},
   "outputs": [],
   "source": [
    "# *********************** validate Resource ********************************\n",
    "\n",
    "def validate(r):\n",
    "    fhir_term_server = 'http://test.fhir.org/r3'\n",
    "    fhir_test_server = 'http://test.fhir.org/r3'\n",
    "\n",
    "    headers = {\n",
    "    'Accept':'application/fhir+json',\n",
    "    'Content-Type':'application/fhir+json'\n",
    "    }\n",
    "\n",
    "    # profile = 'http://hl7.org/fhir/us/core/StructureDefinition/us-core-patient' # The official URL for this profile is: http://hl7.org/fhir/us/core/StructureDefinition/us-core-patient\n",
    " \n",
    "    params = dict(\n",
    "      # profile = 'http://hl7.org/fhir/us/core/StructureDefinition/us-core-patient' # The official URL for this profile is: http://hl7.org/fhir/us/core/StructureDefinition/us-core-patient\n",
    "        )\n",
    "    \n",
    "    #   r = requests.post('https://httpbin.org/post', data = {'key':'value'})\n",
    "    r = post(f'{fhir_test_server}/Questionnaire/$validate', params = params, headers = headers, data = dumps(r.as_json()))\n",
    "    # return r.status_code\n",
    "    # view  output\n",
    "    # return (r.json()[\"text\"][\"div\"])\n",
    "    return r"
   ]
  },
  {
   "cell_type": "markdown",
   "metadata": {},
   "source": [
    "### Write to File"
   ]
  },
  {
   "cell_type": "code",
   "execution_count": 11,
   "metadata": {},
   "outputs": [],
   "source": [
    " def write_file(name, data): # write file\n",
    "    out_path = ''\n",
    "    # out_path = '//ERICS-AIR-2/ehaas/Documents/FHIR/Argo-Questionnaire/source/resources/'\n",
    "    with open(f'{Path(out_path)}/{name}.json', 'w') as f:\n",
    "        f.write(data)"
   ]
  },
  {
   "cell_type": "markdown",
   "metadata": {},
   "source": [
    "### Get Search Parameter input data"
   ]
  },
  {
   "cell_type": "markdown",
   "metadata": {},
   "source": [
    "#### first the meta sheet"
   ]
  },
  {
   "cell_type": "code",
   "execution_count": 47,
   "metadata": {},
   "outputs": [
    {
     "data": {
      "text/html": [
       "<div>\n",
       "<style scoped>\n",
       "    .dataframe tbody tr th:only-of-type {\n",
       "        vertical-align: middle;\n",
       "    }\n",
       "\n",
       "    .dataframe tbody tr th {\n",
       "        vertical-align: top;\n",
       "    }\n",
       "\n",
       "    .dataframe thead th {\n",
       "        text-align: right;\n",
       "    }\n",
       "</style>\n",
       "<table border=\"1\" class=\"dataframe\">\n",
       "  <thead>\n",
       "    <tr style=\"text-align: right;\">\n",
       "      <th></th>\n",
       "      <th>Element</th>\n",
       "      <th>Value</th>\n",
       "    </tr>\n",
       "  </thead>\n",
       "  <tbody>\n",
       "    <tr>\n",
       "      <th>0</th>\n",
       "      <td>id</td>\n",
       "      <td>assessmentbank</td>\n",
       "    </tr>\n",
       "    <tr>\n",
       "      <th>1</th>\n",
       "      <td>description</td>\n",
       "      <td>This section outlines conformance requirements...</td>\n",
       "    </tr>\n",
       "    <tr>\n",
       "      <th>2</th>\n",
       "      <td>ig</td>\n",
       "      <td>http://fhir.org/guides/argonaut-questionnaire/...</td>\n",
       "    </tr>\n",
       "  </tbody>\n",
       "</table>\n",
       "</div>"
      ],
      "text/plain": [
       "       Element                                              Value\n",
       "0           id                                     assessmentbank\n",
       "1  description  This section outlines conformance requirements...\n",
       "2           ig  http://fhir.org/guides/argonaut-questionnaire/..."
      ]
     },
     "execution_count": 47,
     "metadata": {},
     "output_type": "execute_result"
    }
   ],
   "source": [
    "#in_path = Path('/Users/ehaas/Documents/FHIR/pyfhir/test/')\n",
    "in_path =''\n",
    "#out_path = '/Users/ehaas/Documents/FHIR/pyfhir/test/'\n",
    "out_path=''\n",
    "#out_path = Path(\"C:/Users/Eric/Documents/Jan_2019_FHIR_Experience\")\n",
    "\n",
    "in_file = ['AssBank']\n",
    "\n",
    "xls = ExcelFile(f'{in_path}{in_file[0]}.xlsx')\n",
    "df = read_excel(xls,'meta',na_filter = False)\n",
    "\n",
    "\n",
    "df"
   ]
  },
  {
   "cell_type": "markdown",
   "metadata": {},
   "source": [
    "#### Create NamedTuple from df to use dot notation"
   ]
  },
  {
   "cell_type": "code",
   "execution_count": 49,
   "metadata": {},
   "outputs": [
    {
     "data": {
      "text/plain": [
       "'http://fhir.org/guides/argonaut-questionnaire/ImplementationGuide/ig'"
      ]
     },
     "execution_count": 49,
     "metadata": {},
     "output_type": "execute_result"
    }
   ],
   "source": [
    "d = dict(zip(df.Element, df.Value))\n",
    "meta = namedtuple(\"Meta\", d.keys())(*d.values())      \n",
    "         \n",
    "meta.id"
   ]
  },
  {
   "cell_type": "markdown",
   "metadata": {},
   "source": [
    "#### Then the list of IG profiles ( for STU3 )"
   ]
  },
  {
   "cell_type": "code",
   "execution_count": 69,
   "metadata": {},
   "outputs": [
    {
     "name": "stdout",
     "output_type": "stream",
     "text": [
      "http://fhir.org/guides/argonaut-questionnaire/StructureDefinition/argo-questionnaire-valueset SHALL\n",
      "http://fhir.org/guides/argonaut-questionnaire/StructureDefinition/argo-questionnaire SHALL\n",
      "http://fhir.org/guides/argonaut-questionnaire/StructureDefinition/argo-questionnaireresponse SHALL\n",
      "http://fhir.org/guides/argonaut-questionnaire/StructureDefinition/extension-multipleAnd SHALL\n",
      "http://fhir.org/guides/argonaut-questionnaire/StructureDefinition/extension-multipleOr SHALL\n",
      "http://fhir.org/guides/argonaut-questionnaire/StructureDefinition/extension-itemOrder SHALL\n",
      "http://fhir.org/guides/argonaut-questionnaire/StructureDefinition/extension-responsePeriod SHALL\n",
      "http://fhir.org/guides/argonaut-questionnaire/StructureDefinition/extension-timeLimit SHALL\n"
     ]
    }
   ],
   "source": [
    "xls = ExcelFile(f'{in_path}{in_file[0]}.xlsx')\n",
    "df = read_excel(xls,'profiles',na_filter = False)\n",
    "\n",
    " \n",
    "for p in df.itertuples(index=True):\n",
    "    print(p.Profile, p.Conformance)"
   ]
  },
  {
   "cell_type": "markdown",
   "metadata": {},
   "source": [
    "### Display SP resources"
   ]
  },
  {
   "cell_type": "markdown",
   "metadata": {},
   "source": [
    "### Create Markdown Text for Search.\n",
    "\n",
    "- Using Jinja2 Template create markdown file for search section in profiles profiles"
   ]
  },
  {
   "cell_type": "code",
   "execution_count": 567,
   "metadata": {},
   "outputs": [
    {
     "data": {
      "text/markdown": [
       "### Quick Start\n",
       "Below is an overview of the required set of RESTful FHIR interactions - for\n",
       "example, search and read operations - for this profile. See the [Conformance requirements]\n",
       "for a complete list of supported RESTful interactions for this IG.\n",
       "\n",
       "#### Supported Searches\n",
       "\n",
       "{% include link-list.md %}"
      ],
      "text/plain": [
       "<IPython.core.display.Markdown object>"
      ]
     },
     "metadata": {},
     "output_type": "display_data"
    },
    {
     "data": {
      "text/markdown": [
       "### Quick Start\n",
       "Below is an overview of the required set of RESTful FHIR interactions - for\n",
       "example, search and read operations - for this profile. See the [Conformance requirements]\n",
       "for a complete list of supported RESTful interactions for this IG.\n",
       "\n",
       "#### Supported Searches\n",
       "\n",
       "{% include link-list.md %}"
      ],
      "text/plain": [
       "<IPython.core.display.Markdown object>"
      ]
     },
     "metadata": {},
     "output_type": "display_data"
    },
    {
     "data": {
      "text/markdown": [
       "### Quick Start\n",
       "Below is an overview of the required set of RESTful FHIR interactions - for\n",
       "example, search and read operations - for this profile. See the [Conformance requirements]\n",
       "for a complete list of supported RESTful interactions for this IG.\n",
       "\n",
       "#### Supported Searches\n",
       "\n",
       "{% include link-list.md %}"
      ],
      "text/plain": [
       "<IPython.core.display.Markdown object>"
      ]
     },
     "metadata": {},
     "output_type": "display_data"
    }
   ],
   "source": [
    "r_type = ['Questionnaire', 'QuestionnaireResponse', 'Patient']  # TODO  loop over all types in sp_list\n",
    "\n",
    "template = env.get_template(md_template[0])\n",
    "for t in r_type:\n",
    "    sp_bytype = [i for i in sp_list if i.base[0] == r_type]\n",
    "    display(Markdown(template.render(sp_bytype=sp_bytype,search_type=search_type)))\n",
    "    search_md = template.render(sp_bytype=sp_bytype,search_type=search_type)\n",
    "\n",
    "with open(f'{out_path}{r_type}-search.md','w') as f:\n",
    "    f.write(search_md)\n",
    "\n"
   ]
  },
  {
   "cell_type": "markdown",
   "metadata": {},
   "source": [
    "### Create Markdown Text for SearchParameters Page\n",
    "\n",
    "- Using Jinja2 Template create markdown file for searchparameters page"
   ]
  },
  {
   "cell_type": "code",
   "execution_count": 571,
   "metadata": {},
   "outputs": [
    {
     "data": {
      "text/markdown": [
       "---\n",
       "title: Operations and Search Parameters\n",
       "layout: default\n",
       "topofpage: true\n",
       "sectionnumbering: true\n",
       "---\n",
       "\n",
       "The following search parameters have been defined for the {{site.data.fhir.igName}} Implementation Guide.  For more information on the [FHIR RESTful search api]and the standard [Search Param Registry] see the FHIR specification.\n",
       "\n",
       "<!-- Operations\n",
       "\n",
       "\n",
       "  { % include list-simple-operationdefinitions.xhtml % }\n",
       "\n",
       "\n",
       "-->\n",
       "\n",
       "Search Parameter\n",
       "\n",
       "\n",
       "**HealthcareService**\n",
       "  - [active](SearchParameter-HealthcareService-active.html)\n",
       "\n",
       "**Patient**\n",
       "\n",
       "**Person**\n",
       "\n",
       "**Questionnaire**\n",
       "  - [url](SearchParameter-Questionnaire-url.html)\n",
       "  - [status](SearchParameter-Questionnaire-status.html)\n",
       "  - [title](SearchParameter-Questionnaire-title.html)\n",
       "  - [publisher](SearchParameter-Questionnaire-publisher.html)\n",
       "  - [version](SearchParameter-Questionnaire-version.html)\n",
       "\n",
       "**QuestionnaireResponse**\n",
       "  - [questionnaire](SearchParameter-QuestionnaireResponse-questionnaire.html)\n",
       "  - [patient](SearchParameter-QuestionnaireResponse-patient.html)\n",
       "  - [context](SearchParameter-QuestionnaireResponse-context.html)\n",
       "  - [status](SearchParameter-QuestionnaireResponse-status.html)\n",
       "  - [author](SearchParameter-QuestionnaireResponse-author.html)\n",
       "  - [source](SearchParameter-QuestionnaireResponse-source.html)\n",
       "\n",
       "**RelatedPerson**\n",
       "  - [birthdate](SearchParameter-individual-birthdate.html)\n",
       "\n",
       "{% include link_list.md %}"
      ],
      "text/plain": [
       "<IPython.core.display.Markdown object>"
      ]
     },
     "metadata": {},
     "output_type": "display_data"
    }
   ],
   "source": [
    "# get types:\n",
    "r_list = []\n",
    "for i in sp_list:\n",
    "    for j in i.base:\n",
    "        r_list.append(j)\n",
    "\n",
    "r_list = sorted(set(r_list))\n",
    "\n",
    "# md_template = 'sp_list_page.j2'\n",
    "\n",
    "template = env.get_template(md_template[1])\n",
    "display(Markdown(template.render(sp_list=sp_list,r_list=r_list)))\n",
    "searchparameters_md = template.render(sp_list=sp_list,r_list=r_list)\n",
    "with open(f'{out_path}searchparameters.md','w') as f:\n",
    "    f.write(searchparameters_md)"
   ]
  },
  {
   "cell_type": "markdown",
   "metadata": {},
   "source": [
    "### Update CapabilityStatement for Search\n",
    "- instantiate new or existing CapStatement as fhir model\n",
    "- add combination extensions\n",
    "- add markdown descriptions from above"
   ]
  },
  {
   "cell_type": "code",
   "execution_count": null,
   "metadata": {},
   "outputs": [],
   "source": [
    "# instantiate new or existing CapStatement:\n",
    "\n",
    "def interaction(code):\n",
    "    return CS.CapabilityStatementRestResourceInteraction({'code' : code})\n",
    "\n",
    "def search_cs(sp):\n",
    "    template = env.get_template(md_template[2])\n",
    "    return CS.CapabilityStatementRestResourceSearchParam(\n",
    "    dict(\n",
    "    name = sp.code,\n",
    "    definition = sp.url,\n",
    "    type = sp.type,\n",
    "    documentation = template.render(sp=sp, search_type=search_type)\n",
    "    )\n",
    "    )\n",
    "\n",
    "cs = CS.CapabilityStatement(dict(\n",
    "                            date = now,\n",
    "                            status = 'active',\n",
    "                            acceptUnknown = 'both',\n",
    "                            format = ['json','xml'],\n",
    "                            fhirVersion = '3.0.1',\n",
    "                            kind = 'requirements'     \n",
    "                            ))\n",
    "\n",
    "\n",
    "\n",
    "cs.rest = [CS.CapabilityStatementRest()]  \n",
    "cs.rest[0].mode = 'server'\n",
    "cs.rest[0].resource = []\n",
    "\n",
    "\n",
    "\n",
    "print(r_list)    \n",
    "for r in r_list:\n",
    "    rest_resource = CS.CapabilityStatementRestResource()\n",
    "    rest_resource.type = r\n",
    "    rest_resource.interaction = [interaction(code) for code in ['read','vread', 'history-instance', 'search-type']]\n",
    "    cs.rest[0].resource.append(rest_resource)\n",
    "    rest_resource.searchParam = [search_cs(sp=sp) for sp in sp_list if sp.base[0] == r]\n",
    "print(dumps(cs.as_json(),indent = 3))\n",
    "    \n",
    "    \n",
    "\n"
   ]
  },
  {
   "cell_type": "markdown",
   "metadata": {},
   "source": [
    "### TODO\n",
    "\n",
    "- Save SearchParameters and CapabilityStatements.\n",
    "- Cycle through the quick starts\n",
    "- Update the CSV files"
   ]
  },
  {
   "cell_type": "code",
   "execution_count": null,
   "metadata": {},
   "outputs": [],
   "source": []
  },
  {
   "cell_type": "code",
   "execution_count": null,
   "metadata": {},
   "outputs": [],
   "source": []
  }
 ],
 "metadata": {
  "kernelspec": {
   "display_name": "Python 3",
   "language": "python",
   "name": "python3"
  },
  "language_info": {
   "codemirror_mode": {
    "name": "ipython",
    "version": 3
   },
   "file_extension": ".py",
   "mimetype": "text/x-python",
   "name": "python",
   "nbconvert_exporter": "python",
   "pygments_lexer": "ipython3",
   "version": "3.7.1"
  }
 },
 "nbformat": 4,
 "nbformat_minor": 2
}
