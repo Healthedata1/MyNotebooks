{
 "cells": [
  {
   "cell_type": "code",
   "execution_count": 21,
   "metadata": {},
   "outputs": [
    {
     "name": "stdout",
     "output_type": "stream",
     "text": [
      "/Users/ehaas/Documents/Python/MyNotebooks/Obs_maker\n",
      "{foo}\n"
     ]
    }
   ],
   "source": [
    "%cd '/Users/ehaas/Documents/Python/MyNotebooks/Obs_maker'\n",
    "from fhir.resources.observation import Observation\n",
    "\n",
    "from fhir.resources.organization import Organization\n",
    "\n",
    "\n",
    "org = obs_obj = Observation.parse_file(\"fhir_templates/Obs_clintest.yml\")#\"Observation_wt.yml\")\n",
    "#print(obs_obj.yaml())\n",
    "my_id = \"f001\"\n",
    "org.id = my_id\n",
    "\n",
    "def kebab(s):\n",
    "    '''\n",
    "    change to kebab case\n",
    "    '''\n",
    "    s_list = s.lower().split()\n",
    "    s = '-'.join(s_list)\n",
    "    #print(s, type(s))\n",
    "    return(s)\n",
    "\n",
    "\n",
    "org.id = kebab('foo bar')\n",
    "#print(obs_obj.yaml())\n",
    "\n",
    "foo = 'foo'\n",
    "print(f\"{{{foo}}}\")"
   ]
  },
  {
   "cell_type": "code",
   "execution_count": 16,
   "metadata": {},
   "outputs": [
    {
     "name": "stdout",
     "output_type": "stream",
     "text": [
      "P-R interval {EKG lead} <class 'str'>\n",
      "-R interval {EKG lead}\n"
     ]
    }
   ],
   "source": [
    "s = 'P-R interval {EKG lead}'\n",
    "print(s, type(s))\n",
    "s=s.replace('P','')\n",
    "print(s)"
   ]
  }
 ],
 "metadata": {
  "kernelspec": {
   "display_name": "Python 3.7.3 64-bit ('venv37': venv)",
   "language": "python",
   "name": "python37364bitvenv37venv2b400d68decb43d5b2206c004a019450"
  },
  "language_info": {
   "codemirror_mode": {
    "name": "ipython",
    "version": 3
   },
   "file_extension": ".py",
   "mimetype": "text/x-python",
   "name": "python",
   "nbconvert_exporter": "python",
   "pygments_lexer": "ipython3",
   "version": "3.7.3"
  }
 },
 "nbformat": 4,
 "nbformat_minor": 4
}
