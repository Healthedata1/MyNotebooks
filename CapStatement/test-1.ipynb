{
 "cells": [
  {
   "cell_type": "code",
   "execution_count": 1,
   "metadata": {},
   "outputs": [
    {
     "name": "stdout",
     "output_type": "stream",
     "text": [
      "addl_uscdi=False\n",
      "return mydict, type_map, title_map\n",
      "addl_uscdi=True\n",
      "return mydict, type_map, title_map\n",
      "return references_summary\n",
      "<a href=\"http://hl7.org/fhir/us/core/StructureDefinition/us-core-observation-lab\">US Core Laboratory Result Observation Profile</a>\n"
     ]
    },
    {
     "data": {
      "text/html": [
       " <h3 class=\"no_toc\" id=\"resource-details\">RESTful Capabilities by Resource/Profile:</h3> <h4>Summary of RESTful interactions</h4> <table class=\"grid\"> <thead> <tr> <th>Resource Type</th> <th>Supported Profiles</th> <th>Supported Searches</th> <th>Supported <code>_includes</code></th> <th>Supported <code>_revincludes</code></th> <th>Supported Operations</th> </tr> </thead> <tbody> </tbody> </table> ------ ------ <h4>Summary of Must Support References Between Profiles</h4> <ul> <li>US Core Profile: The profile referencing another profile or resource (Target Profile).</li> <li>Resource Type, The resource type of the source profile.</li> <li>Target Profile: The profile or resource that is being referenced by another profile (US Core Profile).</li> <li>Target Resource Type, The resource type of the target profile.</li> </ul> <table class=\"grid\"> <thead> <tr> <th>US Core Profile</th> <th>Resource Type</th> <th>Target Profile</th> <th>Target Resource Type</th> </tr> </thead> <tbody> <tr> <td> <a href=\"http://hl7.org/fhir/us/core/StructureDefinition/us-core-observation-lab\">US Core Laboratory Result Observation Profile</a> </td> <td> <a href=\"#observation\">Observation</a> </td> <td> - </td> <td> - </td> </tr> <tr> <td> <a href=\"http://hl7.org/fhir/us/core/StructureDefinition/us-core-careteam\">US Core CareTeam Profile</a> </td> <td> <a href=\"#careteam\">CareTeam</a> </td> <td> - </td> <td> - </td> </tr> <tr> <td> <a href=\"http://hl7.org/fhir/us/core/StructureDefinition/us-core-observation-pregnancystatus\">US Core Observation Pregnancy Status Profile</a> </td> <td> <a href=\"#observation\">Observation</a> </td> <td> - </td> <td> - </td> </tr> <tr> <td> <a href=\"http://hl7.org/fhir/us/core/StructureDefinition/us-core-respiratory-rate\">US Core Respiratory Rate Profile</a> </td> <td> <a href=\"#observation\">Observation</a> </td> <td> - </td> <td> - </td> </tr> <tr> <td> <a href=\"http://hl7.org/fhir/us/core/StructureDefinition/us-core-heart-rate\">US Core Heart Rate Profile</a> </td> <td> <a href=\"#observation\">Observation</a> </td> <td> - </td> <td> - </td> </tr> <tr> <td> <a href=\"http://hl7.org/fhir/us/core/StructureDefinition/us-core-body-temperature\">US Core Body Temperature Profile</a> </td> <td> <a href=\"#observation\">Observation</a> </td> <td> - </td> <td> - </td> </tr> <tr> <td> <a href=\"http://hl7.org/fhir/us/core/StructureDefinition/us-core-practitioner\">US Core Practitioner Profile</a> </td> <td> <a href=\"#practitioner\">Practitioner</a> </td> <td> - </td> <td> - </td> </tr> <tr> <td> <a href=\"http://hl7.org/fhir/us/core/StructureDefinition/pediatric-bmi-for-age\">US Core Pediatric BMI for Age Observation Profile</a> </td> <td> <a href=\"#observation\">Observation</a> </td> <td> - </td> <td> - </td> </tr> <tr> <td> <a href=\"http://hl7.org/fhir/us/core/StructureDefinition/pediatric-weight-for-height\">US Core Pediatric Weight for Height Observation Profile</a> </td> <td> <a href=\"#observation\">Observation</a> </td> <td> - </td> <td> - </td> </tr> <tr> <td> <a href=\"http://hl7.org/fhir/us/core/StructureDefinition/us-core-patient\">US Core Patient Profile</a> </td> <td> <a href=\"#patient\">Patient</a> </td> <td> - </td> <td> - </td> </tr> <tr> <td> <a href=\"http://hl7.org/fhir/us/core/StructureDefinition/us-core-pulse-oximetry\">US Core Pulse Oximetry Profile</a> </td> <td> <a href=\"#observation\">Observation</a> </td> <td> - </td> <td> - </td> </tr> <tr> <td> <a href=\"http://hl7.org/fhir/us/core/StructureDefinition/us-core-condition-encounter-diagnosis\">US Core Condition Encounter Diagnosis Profile</a> </td> <td> <a href=\"#condition\">Condition</a> </td> <td> - </td> <td> - </td> </tr> <tr> <td> <a href=\"http://hl7.org/fhir/us/core/StructureDefinition/us-core-coverage\">US Core Coverage Profile</a> </td> <td> <a href=\"#coverage\">Coverage</a> </td> <td> - </td> <td> - </td> </tr> <tr> <td> <a href=\"http://hl7.org/fhir/us/core/StructureDefinition/us-core-immunization\">US Core Immunization Profile</a> </td> <td> <a href=\"#immunization\">Immunization</a> </td> <td> - </td> <td> - </td> </tr> <tr> <td> <a href=\"http://hl7.org/fhir/us/core/StructureDefinition/us-core-provenance\">US Core Provenance Profile</a> </td> <td> <a href=\"#provenance\">Provenance</a> </td> <td> - </td> <td> - </td> </tr> <tr> <td> <a href=\"http://hl7.org/fhir/us/core/StructureDefinition/us-core-care-experience-preference\">US Core Care Experience Preference Profile</a> </td> <td> <a href=\"#observation\">Observation</a> </td> <td> <a href=\"http://hl7.org/fhir/us/core/StructureDefinition/us-core-questionnaireresponse\">US Core QuestionnaireResponse Profile</a><br><a href=\"http://hl7.org/fhir/us/core/StructureDefinition/us-core-documentreference\">US Core DocumentReference Profile</a><br><a href=\"#media\">Media</a><br><a href=\"#molecularsequence\">MolecularSequence</a><br><a href=\"#imagingstudy\">ImagingStudy</a><br><a href=\"#observation\">Observation</a> </td> <td> <a href=\"#questionnaireresponse\">QuestionnaireResponse</a> <br><a href=\"#documentreference\">DocumentReference</a> <br><a href=\"#media\">Media</a> <br><a href=\"#molecularsequence\">MolecularSequence</a> <br><a href=\"#imagingstudy\">ImagingStudy</a> <br><a href=\"#observation\">Observation</a> </td> </tr> <tr> <td> <a href=\"http://hl7.org/fhir/us/core/StructureDefinition/us-core-smokingstatus\">US Core Smoking Status Observation Profile</a> </td> <td> <a href=\"#observation\">Observation</a> </td> <td> - </td> <td> - </td> </tr> <tr> <td> <a href=\"http://hl7.org/fhir/us/core/StructureDefinition/us-core-relatedperson\">US Core RelatedPerson Profile</a> </td> <td> <a href=\"#relatedperson\">RelatedPerson</a> </td> <td> - </td> <td> - </td> </tr> <tr> <td> <a href=\"http://hl7.org/fhir/us/core/StructureDefinition/us-core-observation-sexual-orientation\">US Core Observation Sexual Orientation Profile</a> </td> <td> <a href=\"#observation\">Observation</a> </td> <td> - </td> <td> - </td> </tr> <tr> <td> <a href=\"http://hl7.org/fhir/us/core/StructureDefinition/us-core-documentreference\">US Core DocumentReference Profile</a> </td> <td> <a href=\"#documentreference\">DocumentReference</a> </td> <td> - </td> <td> - </td> </tr> <tr> <td> <a href=\"http://hl7.org/fhir/us/core/StructureDefinition/us-core-head-circumference\">US Core Head Circumference Profile</a> </td> <td> <a href=\"#observation\">Observation</a> </td> <td> - </td> <td> - </td> </tr> <tr> <td> <a href=\"http://hl7.org/fhir/us/core/StructureDefinition/us-core-treatment-intervention-preference\">US Core Treatment Intervention Preference Profile</a> </td> <td> <a href=\"#observation\">Observation</a> </td> <td> <a href=\"http://hl7.org/fhir/us/core/StructureDefinition/us-core-questionnaireresponse\">US Core QuestionnaireResponse Profile</a><br><a href=\"http://hl7.org/fhir/us/core/StructureDefinition/us-core-documentreference\">US Core DocumentReference Profile</a><br><a href=\"#media\">Media</a><br><a href=\"#molecularsequence\">MolecularSequence</a><br><a href=\"#imagingstudy\">ImagingStudy</a><br><a href=\"#observation\">Observation</a> </td> <td> <a href=\"#questionnaireresponse\">QuestionnaireResponse</a> <br><a href=\"#documentreference\">DocumentReference</a> <br><a href=\"#media\">Media</a> <br><a href=\"#molecularsequence\">MolecularSequence</a> <br><a href=\"#imagingstudy\">ImagingStudy</a> <br><a href=\"#observation\">Observation</a> </td> </tr> <tr> <td> <a href=\"http://hl7.org/fhir/us/core/StructureDefinition/us-core-medicationrequest\">US Core MedicationRequest Profile</a> </td> <td> <a href=\"#medicationrequest\">MedicationRequest</a> </td> <td> <a href=\"#condition\">Condition</a><br><a href=\"#observation\">Observation</a> </td> <td> <a href=\"#condition\">Condition</a> <br><a href=\"#observation\">Observation</a> </td> </tr> <tr> <td> <a href=\"http://hl7.org/fhir/us/core/StructureDefinition/us-core-specimen\">US Core Specimen Profile</a> </td> <td> <a href=\"#specimen\">Specimen</a> </td> <td> - </td> <td> - </td> </tr> <tr> <td> <a href=\"http://hl7.org/fhir/us/core/StructureDefinition/us-core-encounter\">US Core Encounter Profile</a> </td> <td> <a href=\"#encounter\">Encounter</a> </td> <td> - </td> <td> - </td> </tr> <tr> <td> <a href=\"http://hl7.org/fhir/us/core/StructureDefinition/us-core-body-height\">US Core Body Height Profile</a> </td> <td> <a href=\"#observation\">Observation</a> </td> <td> - </td> <td> - </td> </tr> <tr> <td> <a href=\"http://hl7.org/fhir/us/core/StructureDefinition/us-core-observation-occupation\">US Core Observation Occupation Profile</a> </td> <td> <a href=\"#observation\">Observation</a> </td> <td> - </td> <td> - </td> </tr> <tr> <td> <a href=\"http://hl7.org/fhir/us/core/StructureDefinition/us-core-bmi\">US Core BMI Profile</a> </td> <td> <a href=\"#observation\">Observation</a> </td> <td> - </td> <td> - </td> </tr> <tr> <td> <a href=\"http://hl7.org/fhir/us/core/StructureDefinition/us-core-organization\">US Core Organization Profile</a> </td> <td> <a href=\"#organization\">Organization</a> </td> <td> - </td> <td> - </td> </tr> <tr> <td> <a href=\"http://hl7.org/fhir/us/core/StructureDefinition/us-core-procedure\">US Core Procedure Profile</a> </td> <td> <a href=\"#procedure\">Procedure</a> </td> <td> <a href=\"#condition\">Condition</a><br><a href=\"#procedure\">Procedure</a><br><a href=\"#documentreference\">DocumentReference</a><br><a href=\"#diagnosticreport\">DiagnosticReport</a><br><a href=\"#observation\">Observation</a> </td> <td> <a href=\"#condition\">Condition</a> <br><a href=\"#procedure\">Procedure</a> <br><a href=\"#documentreference\">DocumentReference</a> <br><a href=\"#diagnosticreport\">DiagnosticReport</a> <br><a href=\"#observation\">Observation</a> </td> </tr> <tr> <td> <a href=\"http://hl7.org/fhir/us/core/StructureDefinition/us-core-average-blood-pressure\">US Core Average Blood Pressure Profile</a> </td> <td> <a href=\"#observation\">Observation</a> </td> <td> - </td> <td> - </td> </tr> <tr> <td> <a href=\"http://hl7.org/fhir/us/core/StructureDefinition/us-core-medication\">US Core Medication Profile</a> </td> <td> <a href=\"#medication\">Medication</a> </td> <td> - </td> <td> - </td> </tr> <tr> <td> <a href=\"http://hl7.org/fhir/us/core/StructureDefinition/us-core-observation-screening-assessment\">US Core Observation Screening Assessment Profile</a> </td> <td> <a href=\"#observation\">Observation</a> </td> <td> - </td> <td> - </td> </tr> <tr> <td> <a href=\"http://hl7.org/fhir/us/core/StructureDefinition/us-core-blood-pressure\">US Core Blood Pressure Profile</a> </td> <td> <a href=\"#observation\">Observation</a> </td> <td> - </td> <td> - </td> </tr> <tr> <td> <a href=\"http://hl7.org/fhir/us/core/StructureDefinition/us-core-observation-clinical-result\">US Core Observation Clinical Result Profile</a> </td> <td> <a href=\"#observation\">Observation</a> </td> <td> - </td> <td> - </td> </tr> <tr> <td> <a href=\"http://hl7.org/fhir/us/core/StructureDefinition/us-core-condition-problems-health-concerns\">US Core Condition Problems and Health Concerns Profile</a> </td> <td> <a href=\"#condition\">Condition</a> </td> <td> - </td> <td> - </td> </tr> <tr> <td> <a href=\"http://hl7.org/fhir/us/core/StructureDefinition/us-core-diagnosticreport-note\">US Core DiagnosticReport Profile for Report and Note Exchange</a> </td> <td> <a href=\"#diagnosticreport\">DiagnosticReport</a> </td> <td> - </td> <td> - </td> </tr> <tr> <td> <a href=\"http://hl7.org/fhir/us/core/StructureDefinition/us-core-simple-observation\">US Core Simple Observation Profile</a> </td> <td> <a href=\"#observation\">Observation</a> </td> <td> - </td> <td> - </td> </tr> <tr> <td> <a href=\"http://hl7.org/fhir/us/core/StructureDefinition/us-core-practitionerrole\">US Core PractitionerRole Profile</a> </td> <td> <a href=\"#practitionerrole\">PractitionerRole</a> </td> <td> <a href=\"#healthcareservice\">HealthcareService</a> </td> <td> <a href=\"#healthcareservice\">HealthcareService</a> </td> </tr> <tr> <td> <a href=\"http://hl7.org/fhir/us/core/StructureDefinition/us-core-careplan\">US Core CarePlan Profile</a> </td> <td> <a href=\"#careplan\">CarePlan</a> </td> <td> - </td> <td> - </td> </tr> <tr> <td> <a href=\"http://hl7.org/fhir/us/core/StructureDefinition/us-core-servicerequest\">US Core ServiceRequest Profile</a> </td> <td> <a href=\"#servicerequest\">ServiceRequest</a> </td> <td> <a href=\"#documentreference\">DocumentReference</a><br><a href=\"#condition\">Condition</a><br><a href=\"#diagnosticreport\">DiagnosticReport</a><br><a href=\"#observation\">Observation</a> </td> <td> <a href=\"#documentreference\">DocumentReference</a> <br><a href=\"#condition\">Condition</a> <br><a href=\"#diagnosticreport\">DiagnosticReport</a> <br><a href=\"#observation\">Observation</a> </td> </tr> <tr> <td> <a href=\"http://hl7.org/fhir/us/core/StructureDefinition/us-core-goal\">US Core Goal Profile</a> </td> <td> <a href=\"#goal\">Goal</a> </td> <td> - </td> <td> - </td> </tr> <tr> <td> <a href=\"http://hl7.org/fhir/us/core/StructureDefinition/us-core-location\">US Core Location Profile</a> </td> <td> <a href=\"#location\">Location</a> </td> <td> - </td> <td> - </td> </tr> <tr> <td> <a href=\"http://hl7.org/fhir/us/core/StructureDefinition/us-core-diagnosticreport-lab\">US Core DiagnosticReport Profile for Laboratory Results Reporting</a> </td> <td> <a href=\"#diagnosticreport\">DiagnosticReport</a> </td> <td> - </td> <td> - </td> </tr> <tr> <td> <a href=\"http://hl7.org/fhir/us/core/StructureDefinition/us-core-implantable-device\">US Core Implantable Device Profile</a> </td> <td> <a href=\"#device\">Device</a> </td> <td> - </td> <td> - </td> </tr> <tr> <td> <a href=\"http://hl7.org/fhir/us/core/StructureDefinition/us-core-allergyintolerance\">US Core AllergyIntolerance Profile</a> </td> <td> <a href=\"#allergyintolerance\">AllergyIntolerance</a> </td> <td> - </td> <td> - </td> </tr> <tr> <td> <a href=\"http://hl7.org/fhir/us/core/StructureDefinition/us-core-questionnaireresponse\">US Core QuestionnaireResponse Profile</a> </td> <td> <a href=\"#questionnaireresponse\">QuestionnaireResponse</a> </td> <td> - </td> <td> - </td> </tr> <tr> <td> <a href=\"http://hl7.org/fhir/us/core/StructureDefinition/head-occipital-frontal-circumference-percentile\">US Core Pediatric Head Occipital Frontal Circumference Percentile Profile</a> </td> <td> <a href=\"#observation\">Observation</a> </td> <td> - </td> <td> - </td> </tr> <tr> <td> <a href=\"http://hl7.org/fhir/us/core/StructureDefinition/us-core-body-weight\">US Core Body Weight Profile</a> </td> <td> <a href=\"#observation\">Observation</a> </td> <td> - </td> <td> - </td> </tr> <tr> <td> <a href=\"http://hl7.org/fhir/us/core/StructureDefinition/us-core-medicationdispense\">US Core MedicationDispense Profile</a> </td> <td> <a href=\"#medicationdispense\">MedicationDispense</a> </td> <td> - </td> <td> - </td> </tr> <tr> <td> <a href=\"http://hl7.org/fhir/us/core/StructureDefinition/us-core-observation-pregnancyintent\">US Core Observation Pregnancy Intent Profile</a> </td> <td> <a href=\"#observation\">Observation</a> </td> <td> - </td> <td> - </td> </tr> <tr> <td> <a href=\"http://hl7.org/fhir/us/core/StructureDefinition/us-core-vital-signs\">US Core Vital Signs Profile</a> </td> <td> <a href=\"#observation\">Observation</a> </td> <td> - </td> <td> - </td> </tr> </tbody> </table> "
      ],
      "text/plain": [
       "<IPython.core.display.HTML object>"
      ]
     },
     "metadata": {},
     "output_type": "display_data"
    }
   ],
   "source": [
    "import ms_references\n",
    "from IPython.display import display, HTML\n",
    "from htmlmin import minify\n",
    "from jinja2 import Environment, FileSystemLoader, select_autoescape\n",
    "in_path = ''\n",
    "in_file = 'test.j2'\n",
    "def markdown(text, *args, **kwargs):\n",
    "    return commonmark(text, *args, **kwargs)\n",
    "\n",
    "env = Environment(\n",
    "    loader=FileSystemLoader(searchpath = in_path),\n",
    "    autoescape=select_autoescape(['html','xml','xhtml','j2','md'],),\n",
    "    trim_blocks = True,\n",
    "    lstrip_blocks = True,\n",
    "    )\n",
    "env.filters['markdown'] = markdown\n",
    "template = env.get_template(in_file)\n",
    "\n",
    "references_summary = ms_references.get_references_summary(addl_uscdi=True)\n",
    "print(references_summary['US Core Profile'][0])\n",
    "rendered = template.render(references_summary=references_summary)\n",
    "# print(rendered)\n",
    "\n",
    "def x_minify(xhtml):\n",
    "    h_min=minify(xhtml, remove_optional_attribute_quotes=False, remove_comments=True)\n",
    "    x_min = h_min.replace('<br>','<br />')\n",
    "    x_min = x_min.replace('<hr>','<hr />')\n",
    "    return h_min\n",
    "\n",
    "mini = x_minify(rendered)\n",
    "# print(mini)\n",
    "display(HTML(mini))"
   ]
  }
 ],
 "metadata": {
  "kernelspec": {
   "display_name": "jupyter",
   "language": "python",
   "name": "python3"
  },
  "language_info": {
   "codemirror_mode": {
    "name": "ipython",
    "version": 3
   },
   "file_extension": ".py",
   "mimetype": "text/x-python",
   "name": "python",
   "nbconvert_exporter": "python",
   "pygments_lexer": "ipython3",
   "version": "3.10.2"
  }
 },
 "nbformat": 4,
 "nbformat_minor": 2
}
