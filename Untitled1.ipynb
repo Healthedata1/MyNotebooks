{
 "cells": [
  {
   "cell_type": "code",
   "execution_count": 93,
   "metadata": {},
   "outputs": [],
   "source": [
    "from typing import List\n",
    "from pydantic import BaseModel, ValidationError, conint\n",
    "\n",
    "\n",
    "class Location(BaseModel):\n",
    "    lat = 0.1\n",
    "    lng = 10.1\n",
    "\n",
    "\n",
    "class Model(BaseModel):\n",
    "    is_required: float = None\n",
    "    gt_int: str = None\n",
    "    list_of_ints: List = None\n",
    "\n",
    "        \n",
    "    class Config:\n",
    "        validate_assignment = True  # <<< !!!\n",
    "\n",
    "\n",
    "data = dict(\n",
    "    list_of_ints='1',\n",
    "    gt_int=21,\n",
    ")"
   ]
  },
  {
   "cell_type": "code",
   "execution_count": 97,
   "metadata": {},
   "outputs": [
    {
     "name": "stdout",
     "output_type": "stream",
     "text": [
      "1 validation error for Model\n",
      "list_of_ints\n",
      "  value is not a valid list (type=type_error.list)\n",
      "--------------------------------------------------------------------------------\n",
      "is_required=None gt_int='21' list_of_ints=['1']\n"
     ]
    }
   ],
   "source": [
    "m = Model()\n",
    "for k,v in data.items():\n",
    "    try:\n",
    "        setattr(m,k,v)\n",
    "    \n",
    "    except ValidationError as e:\n",
    "        print(e)\n",
    "        print('-'*80)\n",
    "        setattr(m,k,[v])\n",
    "\n",
    "print(m)      "
   ]
  },
  {
   "cell_type": "code",
   "execution_count": 3,
   "metadata": {},
   "outputs": [
    {
     "name": "stdout",
     "output_type": "stream",
     "text": [
      "[\n",
      "  {\n",
      "    \"loc\": [\n",
      "      \"is_required\"\n",
      "    ],\n",
      "    \"msg\": \"field required\",\n",
      "    \"type\": \"value_error.missing\"\n",
      "  },\n",
      "  {\n",
      "    \"loc\": [\n",
      "      \"gt_int\"\n",
      "    ],\n",
      "    \"msg\": \"ensure this value is greater than 42\",\n",
      "    \"type\": \"value_error.number.not_gt\",\n",
      "    \"ctx\": {\n",
      "      \"limit_value\": 42\n",
      "    }\n",
      "  },\n",
      "  {\n",
      "    \"loc\": [\n",
      "      \"list_of_ints\",\n",
      "      2\n",
      "    ],\n",
      "    \"msg\": \"value is not a valid integer\",\n",
      "    \"type\": \"type_error.integer\"\n",
      "  },\n",
      "  {\n",
      "    \"loc\": [\n",
      "      \"a_float\"\n",
      "    ],\n",
      "    \"msg\": \"value is not a valid float\",\n",
      "    \"type\": \"type_error.float\"\n",
      "  },\n",
      "  {\n",
      "    \"loc\": [\n",
      "      \"recursive_model\",\n",
      "      \"lng\"\n",
      "    ],\n",
      "    \"msg\": \"value is not a valid float\",\n",
      "    \"type\": \"type_error.float\"\n",
      "  }\n",
      "]\n"
     ]
    }
   ],
   "source": [
    "try:\n",
    "    Model(**data)\n",
    "except ValidationError as e:\n",
    "    print(e.json())\n",
    " "
   ]
  },
  {
   "cell_type": "code",
   "execution_count": null,
   "metadata": {},
   "outputs": [],
   "source": []
  }
 ],
 "metadata": {
  "kernelspec": {
   "display_name": "Python 3.7.3 64-bit ('venv37': venv)",
   "language": "python",
   "name": "python37364bitvenv37venv2b400d68decb43d5b2206c004a019450"
  },
  "language_info": {
   "codemirror_mode": {
    "name": "ipython",
    "version": 3
   },
   "file_extension": ".py",
   "mimetype": "text/x-python",
   "name": "python",
   "nbconvert_exporter": "python",
   "pygments_lexer": "ipython3",
   "version": "3.7.3"
  }
 },
 "nbformat": 4,
 "nbformat_minor": 4
}
