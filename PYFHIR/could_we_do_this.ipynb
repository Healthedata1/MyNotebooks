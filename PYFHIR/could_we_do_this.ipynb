{
 "cells": [
  {
   "cell_type": "markdown",
   "metadata": {},
   "source": [
    "## Function to create PyFHIR Class instances\n",
    "\n",
    "- use hs_model in local Jupyter folder \n",
    "- function parameters for PyFHIR\n",
    "    - input is resource(or datatype) instance as key value pairs\n",
    "    - requires 'ResourceType' parameter for fhir ResourceType\n",
    "    - optionally 'BackboneElement' parameter for instantiating BackboneElement\n",
    "    - optionally other resource elements as parameters\n",
    "    - output is fhirclient class instance"
   ]
  },
  {
   "cell_type": "code",
   "execution_count": 16,
   "metadata": {},
   "outputs": [],
   "source": [
    "from importlib import import_module"
   ]
  },
  {
   "cell_type": "code",
   "execution_count": 19,
   "metadata": {},
   "outputs": [],
   "source": [
    "def pyfhir(ResourceType, BackboneElement=None, **kwargs):\n",
    "    '''\n",
    "    input is resource(or datatype) instance as key value pairs\n",
    "    requires 'ResourceType' parameter for fhir ResourceType\n",
    "    optionally 'BackboneElement' parameter for instantiating BackboneElement\n",
    "    optionally other resource elements as parameters\n",
    "    output is fhirclient class instance\n",
    "    '''\n",
    "    try:\n",
    "        MyClass = getattr(import_module(\n",
    "        f\"hs_model.{ResourceType.lower()}\"),BackboneElement\n",
    "        )\n",
    "    except TypeError:\n",
    "            MyClass = getattr(import_module(\n",
    "        f\"hs_model.{ResourceType.lower()}\"),ResourceType\n",
    "        )    \n",
    "    # Instantiate the class (pass arguments to the constructor, if needed)\n",
    "    instance = MyClass(dict(kwargs), strict=False)\n",
    "    return(instance)"
   ]
  },
  {
   "cell_type": "code",
   "execution_count": 20,
   "metadata": {},
   "outputs": [
    {
     "name": "stderr",
     "output_type": "stream",
     "text": [
      "Superfluous entry \"type\" in data for BundleEntry(id=None, extension=None, link=None, fullUrl=None, resource=None, search=None, request=None, response=None)\n",
      "Superfluous entry \"foo\" in data for BundleEntry(id=None, extension=None, link=None, fullUrl=None, resource=None, search=None, request=None, response=None)\n"
     ]
    },
    {
     "data": {
      "text/plain": [
       "BundleEntry(id=None, extension=None, link=None, fullUrl=None, resource=None, search=None, request=None, response=None)"
      ]
     },
     "execution_count": 20,
     "metadata": {},
     "output_type": "execute_result"
    }
   ],
   "source": [
    "py_res = pyfhir(\n",
    "    ResourceType ='Bundle',\n",
    "    type = 'message',\n",
    "    foo = 'bar',\n",
    "    BackboneElement = 'BundleEntry'\n",
    "    )\n",
    "py_res"
   ]
  },
  {
   "cell_type": "code",
   "execution_count": 28,
   "metadata": {},
   "outputs": [
    {
     "name": "stderr",
     "output_type": "stream",
     "text": [
      "Superfluous entry \"foo\" in data for CodeableConcept(id=None, extension=None, coding=[Coding(id=None, extension=None, system='bar', version=None, code='foo', display=None, userSelected=None)], text='example')\n"
     ]
    },
    {
     "data": {
      "text/plain": [
       "{'coding': [{'system': 'bar', 'code': 'foo'}], 'text': 'example'}"
      ]
     },
     "execution_count": 28,
     "metadata": {},
     "output_type": "execute_result"
    }
   ],
   "source": [
    "py_res = pyfhir(\n",
    "    ResourceType ='CodeableConcept',\n",
    "    text = 'example',\n",
    "    foo = 'bar',\n",
    "    coding = [\n",
    "        pyfhir(ResourceType ='Coding',\n",
    "                    code = 'foo',\n",
    "                    system = 'bar',\n",
    "                   ).as_json()\n",
    "             ],\n",
    "       )\n",
    "py_res.as_json()"
   ]
  },
  {
   "cell_type": "markdown",
   "metadata": {},
   "source": [
    "## What would be really nice would be able to instantiate the model like directly like so..."
   ]
  },
  {
   "cell_type": "code",
   "execution_count": 29,
   "metadata": {},
   "outputs": [
    {
     "ename": "NameError",
     "evalue": "name 'CodeableConcept' is not defined",
     "output_type": "error",
     "traceback": [
      "\u001b[0;31m---------------------------------------------------------------------------\u001b[0m",
      "\u001b[0;31mNameError\u001b[0m                                 Traceback (most recent call last)",
      "\u001b[0;32m<ipython-input-29-27a9e51e7385>\u001b[0m in \u001b[0;36m<module>\u001b[0;34m\u001b[0m\n\u001b[1;32m      1\u001b[0m \u001b[0;32mfrom\u001b[0m \u001b[0mhs_model\u001b[0m \u001b[0;32mimport\u001b[0m \u001b[0;34m*\u001b[0m\u001b[0;34m\u001b[0m\u001b[0;34m\u001b[0m\u001b[0m\n\u001b[1;32m      2\u001b[0m \u001b[0;34m\u001b[0m\u001b[0m\n\u001b[0;32m----> 3\u001b[0;31m py_res= CodeableConcept(\n\u001b[0m\u001b[1;32m      4\u001b[0m     \u001b[0mid\u001b[0m\u001b[0;34m=\u001b[0m\u001b[0;32mNone\u001b[0m\u001b[0;34m,\u001b[0m\u001b[0;34m\u001b[0m\u001b[0;34m\u001b[0m\u001b[0m\n\u001b[1;32m      5\u001b[0m     \u001b[0mextension\u001b[0m\u001b[0;34m=\u001b[0m\u001b[0;32mNone\u001b[0m\u001b[0;34m,\u001b[0m\u001b[0;34m\u001b[0m\u001b[0;34m\u001b[0m\u001b[0m\n",
      "\u001b[0;31mNameError\u001b[0m: name 'CodeableConcept' is not defined"
     ]
    }
   ],
   "source": [
    "from hs_model import *\n",
    "\n",
    "py_res = CodeableConcept(\n",
    "    id=None,\n",
    "    extension=None,\n",
    "    coding=[\n",
    "        Coding(\n",
    "            id=None,\n",
    "            extension=None,\n",
    "            system='bar',\n",
    "            version=None,\n",
    "            code='foo',\n",
    "            display=None,\n",
    "            userSelected=None)\n",
    "    ],\n",
    "    text='example',\n",
    ")\n",
    "py_res"
   ]
  },
  {
   "cell_type": "markdown",
   "metadata": {},
   "source": [
    "###  of course this doesn't work but could the fhir parser be constructed so could instantiate directly? "
   ]
  },
  {
   "cell_type": "code",
   "execution_count": null,
   "metadata": {},
   "outputs": [],
   "source": []
  }
 ],
 "metadata": {
  "kernelspec": {
   "display_name": "Python 3",
   "language": "python",
   "name": "python3"
  },
  "language_info": {
   "codemirror_mode": {
    "name": "ipython",
    "version": 3
   },
   "file_extension": ".py",
   "mimetype": "text/x-python",
   "name": "python",
   "nbconvert_exporter": "python",
   "pygments_lexer": "ipython3",
   "version": "3.7.3"
  }
 },
 "nbformat": 4,
 "nbformat_minor": 4
}
