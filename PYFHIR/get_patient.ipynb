{
 "cells": [
  {
   "cell_type": "markdown",
   "metadata": {},
   "source": [
    "# Get patient and use client_py model"
   ]
  },
  {
   "cell_type": "code",
   "execution_count": 10,
   "metadata": {},
   "outputs": [],
   "source": [
    "from requests import get\n",
    "from json import loads, dumps\n",
    "from fhirclient.r4models import patient as P"
   ]
  },
  {
   "cell_type": "markdown",
   "metadata": {},
   "source": [
    "## some global variables..."
   ]
  },
  {
   "cell_type": "code",
   "execution_count": 27,
   "metadata": {},
   "outputs": [],
   "source": [
    "base = 'http://test.fhir.org/r4'\n",
    "#base = 'http://hapi.fhir.org/baseR4'\n",
    "#base = 'http://wildfhir4.aegis.net/fhir4-0-1'\n",
    "\n",
    "headers = {\n",
    "        'Accept':'application/fhir+json',\n",
    "        'Content-Type':'application/fhir+json'\n",
    "        }\n",
    "\n",
    "p_id  = ''"
   ]
  },
  {
   "cell_type": "markdown",
   "metadata": {},
   "source": [
    "## Read Patient using requests package"
   ]
  },
  {
   "cell_type": "code",
   "execution_count": 49,
   "metadata": {},
   "outputs": [
    {
     "name": "stdout",
     "output_type": "stream",
     "text": [
      "['0b327bc5-13e5-4510-8a17-91bc0bf081', '0ecdf6ab-a506-4c44-8b70-b413274c4e', '1', '20217344', '20217345', '20217346', '20217347', '20217348', '20217349', '20217351', '20217352', '20217353', '20217354', '20217355', '20217356', '20217357', '20217358', '20217359', '20217360', '20217361', '20217362', '20217363', '20217364', '20217365', '20217366', '20217367', '20217368', '20217369', '20217382', '20217383', '20217395', '20217412', '20217416', '20217417', '20217419', '20217425', '20217433', '20217435', '20217437', '20217438', '20217439', '20217440', '20217441', '20217442', '20217468', '20217501', '20217530', '20217531', '20217532', '20217533']\n",
      "<fhirclient.r4models.patient.Patient object at 0x1031a74e0>\n",
      "pyfhir_patient.id = 0b327bc5-13e5-4510-8a17-91bc0bf081\n",
      "pyfhir_patient.name.family.given = Jason\n",
      "pyfhir_patient.name.family = Lee\n"
     ]
    }
   ],
   "source": [
    "def get_patients():\n",
    "\n",
    "    r = get(f'{base}/Patient', headers = headers)\n",
    "    #print(r.json()['entry'])\n",
    "    try: \n",
    "        ids = [i['resource']['id'] for i in r.json()['entry'] if i['resource']['resourceType']=='Patient']\n",
    "    except Exception as e:\n",
    "        pass\n",
    "        #print(f'Error: {e}')\n",
    "    else:\n",
    "        print(ids)\n",
    "    return ids[0]\n",
    "        \n",
    "        \n",
    "def get_patient(p_id):\n",
    "\n",
    "    r = get(f'{base}/Patient/{p_id}', headers = headers)\n",
    "\n",
    "    try: \n",
    "        pyfhir_patient = P.Patient(r.json())\n",
    "    except Exception as e:\n",
    "        pass\n",
    "        #print(f'Error: {e}')\n",
    "    else:\n",
    "        print(pyfhir_patient)\n",
    "        print(f'pyfhir_patient.id = {pyfhir_patient.id}')\n",
    "        print(f'pyfhir_patient.name.family.given = {pyfhir_patient.name[0].given[0]}')\n",
    "        print(f'pyfhir_patient.name.family = {pyfhir_patient.name[0].family}')\n",
    "        \n",
    "p_id = get_patients()\n",
    "get_patient(p_id)"
   ]
  },
  {
   "cell_type": "code",
   "execution_count": null,
   "metadata": {},
   "outputs": [],
   "source": []
  }
 ],
 "metadata": {
  "kernelspec": {
   "display_name": "Python 3.7.3 64-bit ('venv37': venv)",
   "language": "python",
   "name": "python37364bitvenv37venv2b400d68decb43d5b2206c004a019450"
  },
  "language_info": {
   "codemirror_mode": {
    "name": "ipython",
    "version": 3
   },
   "file_extension": ".py",
   "mimetype": "text/x-python",
   "name": "python",
   "nbconvert_exporter": "python",
   "pygments_lexer": "ipython3",
   "version": "3.7.3"
  }
 },
 "nbformat": 4,
 "nbformat_minor": 4
}
