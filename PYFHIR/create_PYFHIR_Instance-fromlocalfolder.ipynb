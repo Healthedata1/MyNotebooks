{
 "cells": [
  {
   "cell_type": "markdown",
   "metadata": {},
   "source": [
    "## Function to create PyFHIR Class instances\n",
    "\n",
    "- use hs_model in local Jupyter folder \n",
    "- function parameters for PyFHIR\n",
    "    - input is resource(or datatype) instance as key value pairs\n",
    "    - requires 'ResourceType' parameter for fhir ResourceType\n",
    "    - optionally 'BackboneElement' parameter for instantiating BackboneElement\n",
    "    - optionally other resource elements as parameters\n",
    "    - output is fhirclient class instance"
   ]
  },
  {
   "cell_type": "code",
   "execution_count": 1,
   "metadata": {},
   "outputs": [],
   "source": [
    "from json import load, dumps, loads\n",
    "from importlib import import_module\n",
    "from pathlib import Path\n",
    "from collections import namedtuple\n",
    "from pandas import *\n",
    "from datetime import datetime, date"
   ]
  },
  {
   "cell_type": "code",
   "execution_count": 2,
   "metadata": {},
   "outputs": [
    {
     "data": {
      "text/plain": [
       "'2020-03-10T02:50:17.748834Z'"
      ]
     },
     "execution_count": 2,
     "metadata": {},
     "output_type": "execute_result"
    }
   ],
   "source": [
    "now = f'{str(datetime.utcnow().isoformat())}Z' # get url freindly time stamp\n",
    "now"
   ]
  },
  {
   "cell_type": "code",
   "execution_count": 7,
   "metadata": {},
   "outputs": [],
   "source": [
    "def pyfhir(ResourceType, BackboneElement=None, **kwargs):\n",
    "    '''\n",
    "    input is resource(or datatype) instance as key value pairs\n",
    "    requires 'ResourceType' parameter for fhir ResourceType\n",
    "    optionally 'BackboneElement' parameter for instantiating BackboneElement\n",
    "    optionally other resource elements as parameters\n",
    "    output is fhirclient class instance\n",
    "    '''\n",
    "    try:\n",
    "        MyClass = getattr(import_module(\n",
    "        f\"hs_model.{ResourceType.lower()}\"),BackboneElement\n",
    "        )\n",
    "    except TypeError:\n",
    "            MyClass = getattr(import_module(\n",
    "        f\"hs_model.{ResourceType.lower()}\"),ResourceType\n",
    "        )    \n",
    "    # Instantiate the class (pass arguments to the constructor, if needed)\n",
    "    instance = MyClass(dict(kwargs), strict=False)\n",
    "    return(instance)"
   ]
  },
  {
   "cell_type": "code",
   "execution_count": 8,
   "metadata": {},
   "outputs": [
    {
     "name": "stderr",
     "output_type": "stream",
     "text": [
      "Superfluous entry \"type\" in data for BundleEntry(id=None, extension=None, link=None, fullUrl=None, resource=None, search=None, request=None, response=None)\n",
      "Superfluous entry \"foo\" in data for BundleEntry(id=None, extension=None, link=None, fullUrl=None, resource=None, search=None, request=None, response=None)\n"
     ]
    },
    {
     "data": {
      "text/plain": [
       "BundleEntry(id=None, extension=None, link=None, fullUrl=None, resource=None, search=None, request=None, response=None)"
      ]
     },
     "execution_count": 8,
     "metadata": {},
     "output_type": "execute_result"
    }
   ],
   "source": [
    "py_res = pyfhir(ResourceType ='Bundle', type = 'message',  foo = 'bar', BackboneElement = 'BundleEntry')\n",
    "py_res"
   ]
  },
  {
   "cell_type": "code",
   "execution_count": 9,
   "metadata": {},
   "outputs": [
    {
     "name": "stderr",
     "output_type": "stream",
     "text": [
      "Superfluous entry \"foo\" in data for CodeableConcept(id=None, extension=None, coding=[Coding(id=None, extension=None, system='bar', version=None, code='foo', display=None, userSelected=None)], text='example')\n"
     ]
    },
    {
     "data": {
      "text/plain": [
       "{'coding': [{'system': 'bar', 'code': 'foo'}], 'text': 'example'}"
      ]
     },
     "execution_count": 9,
     "metadata": {},
     "output_type": "execute_result"
    }
   ],
   "source": [
    "py_res = pyfhir(ResourceType ='CodeableConcept',\n",
    "                text = 'example',\n",
    "                foo = 'bar',\n",
    "                coding = [\n",
    "                    pyfhir(ResourceType ='Coding',\n",
    "                                code = 'foo',\n",
    "                                system = 'bar',\n",
    "                               ).as_json()\n",
    "                         ],\n",
    "               )\n",
    "py_res.as_json()"
   ]
  }
 ],
 "metadata": {
  "kernelspec": {
   "display_name": "Python 3",
   "language": "python",
   "name": "python3"
  },
  "language_info": {
   "codemirror_mode": {
    "name": "ipython",
    "version": 3
   },
   "file_extension": ".py",
   "mimetype": "text/x-python",
   "name": "python",
   "nbconvert_exporter": "python",
   "pygments_lexer": "ipython3",
   "version": "3.7.3"
  }
 },
 "nbformat": 4,
 "nbformat_minor": 4
}
