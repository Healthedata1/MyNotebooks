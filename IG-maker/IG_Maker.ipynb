{
 "cells": [
  {
   "cell_type": "markdown",
   "metadata": {},
   "source": [
    "### Create ImplementationGuide Resource from an excel based configuration file\n",
    "python 3.7+\n",
    "\n",
    "- Load Excel file using Pandas and access as dict\n",
    "- Assign appropriate fields to IG resource ( including defaults )\n",
    "- Add resources and pages based on the files in the target ig folders\n",
    "- Validate resource\n",
    "- Write resource to target ig folder"
   ]
  },
  {
   "cell_type": "markdown",
   "metadata": {},
   "source": [
    "### Imports and globals"
   ]
  },
  {
   "cell_type": "code",
   "execution_count": null,
   "metadata": {},
   "outputs": [],
   "source": [
    "import os #os module imported here\n",
    "from json import load, dumps, loads\n",
    "from requests import get, post, put\n",
    "from IPython.display import display, Markdown, HTML\n",
    "from pathlib import Path\n",
    "from pandas import *\n",
    "from datetime import datetime, date\n",
    "from fhirclient.r4models import implementationguide as IG\n",
    "import fhirclient.r4models.identifier as I\n",
    "import fhirclient.r4models.coding as C\n",
    "import fhirclient.r4models.codeableconcept as CC\n",
    "import fhirclient.r4models.fhirdate as D\n",
    "import fhirclient.r4models.extension as X\n",
    "import fhirclient.r4models.contactdetail as CD\n",
    "import fhirclient.r4models.fhirreference as FR\n",
    "\n",
    "#Globals\n",
    "\n",
    "headers = {\n",
    "    'Accept':'application/fhir+json',\n",
    "    'Content-Type':'application/fhir+json'\n",
    "    }"
   ]
  },
  {
   "cell_type": "markdown",
   "metadata": {},
   "source": [
    "### Get definition spreadsheet from folder\n",
    "\n",
    "\n",
    "- right this is hard coded location - make a user input\n",
    "- import data from spreadsheet\n",
    "- convert to pandas df and then dict"
   ]
  },
  {
   "cell_type": "code",
   "execution_count": null,
   "metadata": {},
   "outputs": [],
   "source": [
    "def_path=''\n",
    "\n",
    "xls = ExcelFile(f'{def_path}test_ig_definition.xlsx')\n",
    "df = read_excel(xls,sheet1,na_false = False)\n",
    "\n",
    "df"
   ]
  },
  {
   "cell_type": "code",
   "execution_count": null,
   "metadata": {},
   "outputs": [],
   "source": [
    "d = dict(zip(df.Element, df.Value))"
   ]
  },
  {
   "cell_type": "markdown",
   "metadata": {},
   "source": [
    "### Assign appropriate fields to IG resource ( including defaults )\n",
    "- Initiate ig resource instance\n",
    "- assign id and defaults"
   ]
  },
  {
   "cell_type": "code",
   "execution_count": null,
   "metadata": {},
   "outputs": [],
   "source": [
    "ig = IG.ImplementationGuide()\n",
    "ig.id = f'{d[\"canonical\"]}-{d[\"version\"]}'"
   ]
  },
  {
   "cell_type": "markdown",
   "metadata": {},
   "source": [
    "### Add resources and pages based on the files in the target ig folders\n",
    "\n",
    "- for all files in folders inspect and add\n",
    "- including spreadsheets using lmxml to get data"
   ]
  },
  {
   "cell_type": "code",
   "execution_count": null,
   "metadata": {},
   "outputs": [],
   "source": []
  },
  {
   "cell_type": "markdown",
   "metadata": {},
   "source": [
    "### Validate resource using the $validate operation\n",
    "\n",
    "- using UHN R4 reference server"
   ]
  },
  {
   "cell_type": "code",
   "execution_count": null,
   "metadata": {},
   "outputs": [],
   "source": []
  },
  {
   "cell_type": "markdown",
   "metadata": {},
   "source": [
    "### Write resource to target ig folder\n",
    "\n",
    "- use Pathlib here"
   ]
  },
  {
   "cell_type": "code",
   "execution_count": null,
   "metadata": {},
   "outputs": [],
   "source": []
  }
 ],
 "metadata": {
  "kernelspec": {
   "display_name": "Python 3",
   "language": "python",
   "name": "python3"
  },
  "language_info": {
   "codemirror_mode": {
    "name": "ipython",
    "version": 3
   },
   "file_extension": ".py",
   "mimetype": "text/x-python",
   "name": "python",
   "nbconvert_exporter": "python",
   "pygments_lexer": "ipython3",
   "version": "3.7.3"
  }
 },
 "nbformat": 4,
 "nbformat_minor": 2
}
