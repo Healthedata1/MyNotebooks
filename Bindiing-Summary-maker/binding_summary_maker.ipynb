{
 "cells": [
  {
   "cell_type": "markdown",
   "metadata": {},
   "source": [
    "## Code Binding summaries using Jinja2 and Python Modele\n",
    "\n",
    "- Fetch SD file from IG\n",
    "- Transform to Python model\n",
    "- use Jinja2 template to create a summary markdown file\n",
    "- save markdown file\n",
    "\n"
   ]
  },
  {
   "cell_type": "markdown",
   "metadata": {},
   "source": [
    "### import python modules including R4 fhirclient models"
   ]
  },
  {
   "cell_type": "code",
   "execution_count": null,
   "metadata": {},
   "outputs": [],
   "source": [
    "from fhirclient.r4models import structuredefinition as SD\n",
    "from fhirclient.r4models import narrative as N\n",
    "from fhirclient.r4models import valueset as VS\n",
    "import fhirclient.r4models.identifier as I\n",
    "import fhirclient.r4models.coding as C\n",
    "import fhirclient.r4models.codeableconcept as CC\n",
    "import fhirclient.r4models.fhirdate as D\n",
    "import fhirclient.r4models.extension as X\n",
    "import fhirclient.r4models.contactdetail as CD\n",
    "import fhirclient.r4models.fhirreference as FR\n",
    "from fhirclient.r4models.fhirabstractbase import FHIRValidationError\n",
    "from json import dumps, loads, load\n",
    "from requests import get, post, put\n",
    "import os\n",
    "from pathlib import Path\n",
    "from csv import reader as csvreader\n",
    "from pprint import pprint\n",
    "from stringcase import snakecase, titlecase\n",
    "from collections import namedtuple\n",
    "from pandas import *\n",
    "from datetime import date\n",
    "from jinja2 import Environment, FileSystemLoader, select_autoescape\n",
    "from commonmark import commonmark\n",
    "from IPython.display import display, HTML, Markdown\n",
    "from lxml import etree"
   ]
  },
  {
   "cell_type": "markdown",
   "metadata": {},
   "source": [
    "### Get US Core SD file names"
   ]
  },
  {
   "cell_type": "code",
   "execution_count": null,
   "metadata": {},
   "outputs": [],
   "source": [
    "canon = 'http://hl7.org/fhir/us/core/'  # ig canonical base\n",
    "\n",
    "#in_path = '/Users/ehaas/Documents/FHIR/US-Core-R4/output/StructureDefinition-'\n",
    "#f_name = 'us-core-inspired-oxygen'\n",
    "ig_path = '/Users/ehaas/.fhir/packages/hl7.fhir.us.core.r4#dev/package'\n",
    "ig_path = \"//ERICS-AIR-2/ehaas/.fhir/packages/hl7.fhir.us.core.r4#dev/package\"\n",
    "\n",
    "ig_files = [x for x in os.listdir(ig_path) if x.startswith(\"StructureDefinition\")]\n",
    "ig_files"
   ]
  },
  {
   "cell_type": "markdown",
   "metadata": {},
   "source": [
    "### Get matchin FHIR core SD file names"
   ]
  },
  {
   "cell_type": "code",
   "execution_count": null,
   "metadata": {},
   "outputs": [],
   "source": [
    "\n",
    "\n",
    "#core_path = '/Users/ehaas/.fhir/packages/hl7.fhir.core#current/package'\n",
    "core_path = '/Users/ehaas/.fhir/packages/hl7.fhir.core#4.0.0/package'\n",
    "core_files = [x for x in os.listdir(core_path) if x.startswith(\"StructureDefinition\")]\n",
    "\n",
    "core_files"
   ]
  },
  {
   "cell_type": "code",
   "execution_count": null,
   "metadata": {},
   "outputs": [],
   "source": [
    "def open_file(in_path, f_name): # get files\n",
    "    with open(f'{in_path}/{f_name}') as f:\n",
    "        r = f.read()\n",
    "        return(loads(r))\n",
    "   "
   ]
  },
  {
   "cell_type": "code",
   "execution_count": null,
   "metadata": {},
   "outputs": [],
   "source": [
    " \n",
    "def expand(vs):\n",
    "    print(vs)\n",
    "    #fhir_test_server = 'http://fhirtest.uhn.ca/baseDstu3'\n",
    "    #fhir_test_server = 'http://test.fhir.org/r4'\n",
    "    fhir_test_server = 'https://r4.ontoserver.csiro.au/fhir'\n",
    "\n",
    "    headers = {\n",
    "    'Accept':'application/fhir+json',\n",
    "    'Content-Type':'application/fhir+json'\n",
    "    }\n",
    "\n",
    "    # profile = 'http://hl7.org/fhir/us/core/StructureDefinition/us-core-patient' # The official URL for this profile is: http://hl7.org/fhir/us/core/StructureDefinition/us-core-patient\n",
    " \n",
    "    params = dict(\n",
    "          url = vs.split('|')[0],\n",
    "          count = 20,\n",
    "            )\n",
    "    \n",
    "    r = get(f'{fhir_test_server}/ValueSet/$expand', params = params, headers = headers )\n",
    "    # return r.status_code\n",
    "    # view  output\n",
    "\n",
    "    \n",
    "    if r.status_code == 200:\n",
    "        return VS.ValueSet(r.json(),strict= False)"
   ]
  },
  {
   "cell_type": "code",
   "execution_count": null,
   "metadata": {},
   "outputs": [],
   "source": [
    "j_list = []    \n",
    "for i in ig_files:\n",
    "    sd_dict = open_file(ig_path,i)\n",
    "    try:\n",
    "        core_sd_dict = open_file(core_path,i.replace(\"-us-core\",\"\"))\n",
    "    except FileNotFoundError:\n",
    "        pass\n",
    "    try:\n",
    "        sd = SD.StructureDefinition(sd_dict)\n",
    "        diff_e = [i.path for i in sd.differential.element]\n",
    "        for j in sd.snapshot.element:\n",
    "            if j.min == 1 and j.binding and j.path in diff_e:\n",
    "                j_url = f'{canon}{i.replace(\".json\",\"-definitions.html#\")}{j.path}'\n",
    "                if j.binding.strength == 'required' and j.min ==1:\n",
    "                    vs = expand(j.binding.valueSet)\n",
    "                    try:\n",
    "                        core_sd = SD.StructureDefinition(core_sd_dict)\n",
    "                        j_core = next(k for k in core_sd.snapshot.element if k.path == j.path)\n",
    "                        j_core_url = f'https://build.fhir.org/{j.path.split(\".\")[0].lower()}-definitions.html#{j.path}'\n",
    "                    except StopIteration:\n",
    "                        j_core = None\n",
    "                    j_list.append((j,vs,j_url,j_core, j_core_url))\n",
    "    except FHIRValidationError as e:\n",
    "        print(e)\n",
    "    except AttributeError:\n",
    "        pass \n",
    "j_list"
   ]
  },
  {
   "cell_type": "code",
   "execution_count": null,
   "metadata": {},
   "outputs": [],
   "source": [
    "for i in j_list:\n",
    "    pprint(i[1].__dict__)"
   ]
  },
  {
   "cell_type": "markdown",
   "metadata": {},
   "source": [
    "### Using Jinja2 Template create md file for summary view"
   ]
  },
  {
   "cell_type": "code",
   "execution_count": null,
   "metadata": {},
   "outputs": [],
   "source": [
    "k_list = []\n",
    "for j in j_list:\n",
    "    try:\n",
    "     k_list.append(tuple(list(j) + [c.code for c in j[1].expansion.contains if c.code in ['unknown','other']]))\n",
    "    except AttributeError:\n",
    "        k_list.append(j)\n",
    "k_list"
   ]
  },
  {
   "cell_type": "code",
   "execution_count": null,
   "metadata": {},
   "outputs": [],
   "source": [
    "in_path = ''\n",
    "template_path = 'binding_summary_template4.j2'\n",
    "\n",
    "def markdown(text, *args, **kwargs):\n",
    "    return commonmark(text, *args, **kwargs)\n",
    "\n",
    "env = Environment(\n",
    "    loader=FileSystemLoader(searchpath = in_path),\n",
    "    autoescape=select_autoescape(['html','xml','xhtml','j2','md'])\n",
    "    )\n",
    "\n",
    "env.filters['markdown'] = markdown\n",
    "\n",
    "template = env.get_template(template_path)\n",
    "\n",
    "\n",
    "\n",
    "d = template.render(elements = k_list)\n",
    "display(Markdown(d))"
   ]
  },
  {
   "cell_type": "markdown",
   "metadata": {},
   "source": [
    "### write to file"
   ]
  },
  {
   "cell_type": "code",
   "execution_count": null,
   "metadata": {},
   "outputs": [],
   "source": [
    "out_path = ''\n",
    "out_file = 'binding_summary5.md'\n",
    "\n",
    "def write_file(path, f_name, data): # write file\n",
    "    with open(f'{path}{f_name}', 'w') as f:\n",
    "        f.write(data)\n",
    "\n",
    "write_file(out_path,out_file,d)"
   ]
  },
  {
   "cell_type": "markdown",
   "metadata": {},
   "source": [
    "## Fin"
   ]
  },
  {
   "cell_type": "code",
   "execution_count": null,
   "metadata": {},
   "outputs": [],
   "source": []
  }
 ],
 "metadata": {
  "kernelspec": {
   "display_name": "Python 3",
   "language": "python",
   "name": "python3"
  },
  "language_info": {
   "codemirror_mode": {
    "name": "ipython",
    "version": 3
   },
   "file_extension": ".py",
   "mimetype": "text/x-python",
   "name": "python",
   "nbconvert_exporter": "python",
   "pygments_lexer": "ipython3",
   "version": "3.7.3"
  }
 },
 "nbformat": 4,
 "nbformat_minor": 2
}
