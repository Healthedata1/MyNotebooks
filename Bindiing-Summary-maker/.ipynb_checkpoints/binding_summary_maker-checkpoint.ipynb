{
 "cells": [
  {
   "cell_type": "markdown",
   "metadata": {},
   "source": [
    "## Code Binding summaries using Jinja2 and Python Modele\n",
    "\n",
    "- Fetch SD file from IG\n",
    "- Transform to Python model\n",
    "- use Jinja2 template to create a summary markdown file\n",
    "- save markdown file\n",
    "\n"
   ]
  },
  {
   "cell_type": "markdown",
   "metadata": {},
   "source": [
    "### import python modules including R4 fhirclient models"
   ]
  },
  {
   "cell_type": "code",
   "execution_count": null,
   "metadata": {},
   "outputs": [],
   "source": [
    "from fhirclient.r4models import structuredefinition as SD\n",
    "from fhirclient.r4models import narrative as N\n",
    "from fhirclient.r4models import valueset as VS\n",
    "import fhirclient.r4models.identifier as I\n",
    "import fhirclient.r4models.coding as C\n",
    "import fhirclient.r4models.codeableconcept as CC\n",
    "import fhirclient.r4models.fhirdate as D\n",
    "import fhirclient.r4models.extension as X\n",
    "import fhirclient.r4models.contactdetail as CD\n",
    "import fhirclient.r4models.fhirreference as FR\n",
    "from fhirclient.r4models.fhirabstractbase import FHIRValidationError\n",
    "from json import dumps, loads, load\n",
    "from requests import get, post, put\n",
    "import os\n",
    "from pathlib import Path\n",
    "from csv import reader as csvreader\n",
    "from pprint import pprint\n",
    "from stringcase import snakecase, titlecase\n",
    "from collections import namedtuple\n",
    "from pandas import *\n",
    "from datetime import date\n",
    "from jinja2 import Environment, FileSystemLoader, select_autoescape\n",
    "from commonmark import commonmark\n",
    "from IPython.display import display, HTML, Markdown\n",
    "from lxml import etree"
   ]
  },
  {
   "cell_type": "markdown",
   "metadata": {},
   "source": [
    "### Get US Core SD file names"
   ]
  },
  {
   "cell_type": "code",
   "execution_count": 37,
   "metadata": {},
   "outputs": [
    {
     "data": {
      "text/plain": [
       "['StructureDefinition-us-core-careteam.json',\n",
       " 'StructureDefinition-us-core-medicationstatement.json',\n",
       " 'StructureDefinition-us-core-direct.json',\n",
       " 'StructureDefinition-us-core-profile-link.json',\n",
       " 'StructureDefinition-us-core-device.json',\n",
       " 'StructureDefinition-us-core-practitioner.json',\n",
       " 'StructureDefinition-us-core-patient.json',\n",
       " 'StructureDefinition-us-core-immunization.json',\n",
       " 'StructureDefinition-us-core-smokingstatus.json',\n",
       " 'StructureDefinition-us-core-documentreference.json',\n",
       " 'StructureDefinition-new-us-core-diagnosticreport.json',\n",
       " 'StructureDefinition-us-core-race.json',\n",
       " 'StructureDefinition-us-core-medicationrequest.json',\n",
       " 'StructureDefinition-us-core-diagnosticreport.json',\n",
       " 'StructureDefinition-us-core-condition.json',\n",
       " 'StructureDefinition-us-core-birthsex.json',\n",
       " 'StructureDefinition-us-core-encounter.json',\n",
       " 'StructureDefinition-us-core-organization.json',\n",
       " 'StructureDefinition-us-core-pediatric-weight.json',\n",
       " 'StructureDefinition-us-core-procedure.json',\n",
       " 'StructureDefinition-us-core-medication.json',\n",
       " 'StructureDefinition-us-core-observationresults.json',\n",
       " 'StructureDefinition-us-core-practitionerrole.json',\n",
       " 'StructureDefinition-new-us-core-documentreference.json',\n",
       " 'StructureDefinition-us-core-careplan.json',\n",
       " 'StructureDefinition-us-core-goal.json',\n",
       " 'StructureDefinition-us-core-ethnicity.json',\n",
       " 'StructureDefinition-us-core-location.json',\n",
       " 'StructureDefinition-us-core-pediatric-bmi.json',\n",
       " 'StructureDefinition-us-core-inspired-oxygen.json',\n",
       " 'StructureDefinition-us-core-allergyintolerance.json']"
      ]
     },
     "execution_count": 37,
     "metadata": {},
     "output_type": "execute_result"
    }
   ],
   "source": [
    "canon = 'http://hl7.org/fhir/us/core/'  # ig canonical base\n",
    "\n",
    "#in_path = '/Users/ehaas/Documents/FHIR/US-Core-R4/output/StructureDefinition-'\n",
    "#f_name = 'us-core-inspired-oxygen'\n",
    "ig_path = '/Users/ehaas/.fhir/packages/hl7.fhir.us.core.r4#dev/package'\n",
    "\n",
    "ig_files = [x for x in os.listdir(ig_path) if x.startswith(\"StructureDefinition\")]\n",
    "ig_files"
   ]
  },
  {
   "cell_type": "markdown",
   "metadata": {},
   "source": [
    "### Get matchin FHIR core SD file names"
   ]
  },
  {
   "cell_type": "code",
   "execution_count": null,
   "metadata": {},
   "outputs": [],
   "source": [
    "\n",
    "\n",
    "core_path = '/Users/ehaas/.fhir/packages/hl7.fhir.core#current/package'\n",
    "core_files = [x for x in os.listdir(core_path) if x.startswith(\"StructureDefinition\")]\n",
    "\n",
    "core_files"
   ]
  },
  {
   "cell_type": "code",
   "execution_count": null,
   "metadata": {},
   "outputs": [],
   "source": [
    "def open_file(in_path, f_name): # get files\n",
    "    with open(f'{in_path}/{f_name}') as f:\n",
    "        r = f.read()\n",
    "        return(loads(r))\n",
    "   "
   ]
  },
  {
   "cell_type": "code",
   "execution_count": null,
   "metadata": {},
   "outputs": [],
   "source": [
    " \n",
    "def expand(vs):\n",
    "    print(vs)\n",
    "    #fhir_test_server = 'http://fhirtest.uhn.ca/baseDstu3'\n",
    "    #fhir_test_server = 'http://test.fhir.org/r4'\n",
    "    fhir_test_server = 'https://r4.ontoserver.csiro.au/fhir'\n",
    "\n",
    "    headers = {\n",
    "    'Accept':'application/fhir+json',\n",
    "    'Content-Type':'application/fhir+json'\n",
    "    }\n",
    "\n",
    "    # profile = 'http://hl7.org/fhir/us/core/StructureDefinition/us-core-patient' # The official URL for this profile is: http://hl7.org/fhir/us/core/StructureDefinition/us-core-patient\n",
    " \n",
    "    params = dict(\n",
    "          url = vs.split('|')[0],\n",
    "          count = 20,\n",
    "            )\n",
    "    \n",
    "    r = get(f'{fhir_test_server}/ValueSet/$expand', params = params, headers = headers )\n",
    "    # return r.status_code\n",
    "    # view  output\n",
    "\n",
    "    \n",
    "    if r.status_code == 200:\n",
    "        return VS.ValueSet(r.json(),strict= False)"
   ]
  },
  {
   "cell_type": "code",
   "execution_count": 51,
   "metadata": {},
   "outputs": [
    {
     "name": "stdout",
     "output_type": "stream",
     "text": [
      "http://hl7.org/fhir/ValueSet/care-team-status\n"
     ]
    },
    {
     "name": "stderr",
     "output_type": "stream",
     "text": [
      "WARNING:root:'Non-optional property \"status\" on <fhirclient.r4models.valueset.ValueSet object at 0x11dd2ea90> is missing'\n"
     ]
    },
    {
     "name": "stdout",
     "output_type": "stream",
     "text": [
      "http://hl7.org/fhir/ValueSet/medication-statement-status\n"
     ]
    },
    {
     "name": "stderr",
     "output_type": "stream",
     "text": [
      "WARNING:root:'Non-optional property \"status\" on <fhirclient.r4models.valueset.ValueSet object at 0x11dfd1e10> is missing'\n"
     ]
    },
    {
     "name": "stdout",
     "output_type": "stream",
     "text": [
      "http://hl7.org/fhir/ValueSet/contact-point-system\n"
     ]
    },
    {
     "name": "stderr",
     "output_type": "stream",
     "text": [
      "WARNING:root:'Non-optional property \"status\" on <fhirclient.r4models.valueset.ValueSet object at 0x11e0fa9b0> is missing'\n"
     ]
    },
    {
     "name": "stdout",
     "output_type": "stream",
     "text": [
      "http://hl7.org/fhir/ValueSet/administrative-gender\n"
     ]
    },
    {
     "name": "stderr",
     "output_type": "stream",
     "text": [
      "WARNING:root:'Non-optional property \"status\" on <fhirclient.r4models.valueset.ValueSet object at 0x11df99b00> is missing'\n"
     ]
    },
    {
     "name": "stdout",
     "output_type": "stream",
     "text": [
      "http://hl7.org/fhir/ValueSet/immunization-status\n",
      "http://hl7.org/fhir/ValueSet/observation-status\n"
     ]
    },
    {
     "name": "stderr",
     "output_type": "stream",
     "text": [
      "WARNING:root:'Non-optional property \"status\" on <fhirclient.r4models.valueset.ValueSet object at 0x11e24fb00> is missing'\n"
     ]
    },
    {
     "name": "stdout",
     "output_type": "stream",
     "text": [
      "http://hl7.org/fhir/ValueSet/document-reference-status\n"
     ]
    },
    {
     "name": "stderr",
     "output_type": "stream",
     "text": [
      "WARNING:root:'Non-optional property \"status\" on <fhirclient.r4models.valueset.ValueSet object at 0x11e2cfdd8> is missing'\n"
     ]
    },
    {
     "name": "stdout",
     "output_type": "stream",
     "text": [
      "http://hl7.org/fhir/ValueSet/c80-doc-typecodes\n",
      "http://hl7.org/fhir/ValueSet/mimetypes|4.0.0\n",
      "http://hl7.org/fhir/ValueSet/diagnostic-report-status\n"
     ]
    },
    {
     "name": "stderr",
     "output_type": "stream",
     "text": [
      "WARNING:root:'Non-optional property \"status\" on <fhirclient.r4models.valueset.ValueSet object at 0x11e282cf8> is missing'\n"
     ]
    },
    {
     "name": "stdout",
     "output_type": "stream",
     "text": [
      "http://hl7.org/fhir/us/core/ValueSet/omb-race-category\n",
      "http://hl7.org/fhir/us/core/ValueSet/detailed-race\n",
      "http://hl7.org/fhir/ValueSet/medicationrequest-status\n"
     ]
    },
    {
     "name": "stderr",
     "output_type": "stream",
     "text": [
      "WARNING:root:'Non-optional property \"status\" on <fhirclient.r4models.valueset.ValueSet object at 0x11e40d358> is missing'\n"
     ]
    },
    {
     "name": "stdout",
     "output_type": "stream",
     "text": [
      "http://hl7.org/fhir/ValueSet/diagnostic-report-status\n"
     ]
    },
    {
     "name": "stderr",
     "output_type": "stream",
     "text": [
      "WARNING:root:'Non-optional property \"status\" on <fhirclient.r4models.valueset.ValueSet object at 0x11e3ea9b0> is missing'\n"
     ]
    },
    {
     "name": "stdout",
     "output_type": "stream",
     "text": [
      "http://hl7.org/fhir/ValueSet/condition-ver-status\n"
     ]
    },
    {
     "name": "stderr",
     "output_type": "stream",
     "text": [
      "WARNING:root:'Non-optional property \"status\" on <fhirclient.r4models.valueset.ValueSet object at 0x11e50add8> is missing'\n"
     ]
    },
    {
     "name": "stdout",
     "output_type": "stream",
     "text": [
      "http://hl7.org/fhir/ValueSet/encounter-status|4.0.0\n"
     ]
    },
    {
     "name": "stderr",
     "output_type": "stream",
     "text": [
      "WARNING:root:'Non-optional property \"status\" on <fhirclient.r4models.valueset.ValueSet object at 0x11e5c17f0> is missing'\n"
     ]
    },
    {
     "name": "stdout",
     "output_type": "stream",
     "text": [
      "http://hl7.org/fhir/ValueSet/event-status\n"
     ]
    },
    {
     "name": "stderr",
     "output_type": "stream",
     "text": [
      "WARNING:root:'Non-optional property \"status\" on <fhirclient.r4models.valueset.ValueSet object at 0x11e53f550> is missing'\n"
     ]
    },
    {
     "name": "stdout",
     "output_type": "stream",
     "text": [
      "http://hl7.org/fhir/ValueSet/observation-status\n"
     ]
    },
    {
     "name": "stderr",
     "output_type": "stream",
     "text": [
      "WARNING:root:'Non-optional property \"status\" on <fhirclient.r4models.valueset.ValueSet object at 0x11e66da90> is missing'\n"
     ]
    },
    {
     "name": "stdout",
     "output_type": "stream",
     "text": [
      "http://hl7.org/fhir/ValueSet/contact-point-system|4.0.0\n"
     ]
    },
    {
     "name": "stderr",
     "output_type": "stream",
     "text": [
      "WARNING:root:'Non-optional property \"status\" on <fhirclient.r4models.valueset.ValueSet object at 0x11e69e860> is missing'\n"
     ]
    },
    {
     "name": "stdout",
     "output_type": "stream",
     "text": [
      "http://hl7.org/fhir/us/core/ValueSet/us-core-narrative-status\n",
      "http://hl7.org/fhir/ValueSet/request-status\n"
     ]
    },
    {
     "name": "stderr",
     "output_type": "stream",
     "text": [
      "WARNING:root:'Non-optional property \"status\" on <fhirclient.r4models.valueset.ValueSet object at 0x11f08e390> is missing'\n"
     ]
    },
    {
     "name": "stdout",
     "output_type": "stream",
     "text": [
      "http://hl7.org/fhir/ValueSet/care-plan-intent\n",
      "http://hl7.org/fhir/ValueSet/goal-status\n"
     ]
    },
    {
     "name": "stderr",
     "output_type": "stream",
     "text": [
      "WARNING:root:'Non-optional property \"status\" on <fhirclient.r4models.valueset.ValueSet object at 0x11e2754e0> is missing'\n"
     ]
    },
    {
     "name": "stdout",
     "output_type": "stream",
     "text": [
      "http://hl7.org/fhir/us/core/ValueSet/omb-ethnicity-category\n",
      "http://hl7.org/fhir/us/core/ValueSet/detailed-ethnicity\n",
      "http://hl7.org/fhir/ValueSet/allergyintolerance-verification\n"
     ]
    },
    {
     "name": "stderr",
     "output_type": "stream",
     "text": [
      "WARNING:root:'Non-optional property \"status\" on <fhirclient.r4models.valueset.ValueSet object at 0x11e38cd30> is missing'\n"
     ]
    },
    {
     "data": {
      "text/plain": [
       "[(<fhirclient.r4models.elementdefinition.ElementDefinition at 0x11dc6fd30>,\n",
       "  <fhirclient.r4models.valueset.ValueSet at 0x11dd2ea90>,\n",
       "  'http://hl7.org/fhir/us/core/StructureDefinition-us-core-careteam-definitions.html#CareTeam.status',\n",
       "  <fhirclient.r4models.elementdefinition.ElementDefinition at 0x11dc6bb00>,\n",
       "  'https://build.fhir.org/careteam-definitions.html#CareTeam.status'),\n",
       " (<fhirclient.r4models.elementdefinition.ElementDefinition at 0x11dfe9ba8>,\n",
       "  <fhirclient.r4models.valueset.ValueSet at 0x11dfd1e10>,\n",
       "  'http://hl7.org/fhir/us/core/StructureDefinition-us-core-medicationstatement-definitions.html#MedicationStatement.status',\n",
       "  <fhirclient.r4models.elementdefinition.ElementDefinition at 0x11df40e80>,\n",
       "  'https://build.fhir.org/medicationstatement-definitions.html#MedicationStatement.status'),\n",
       " (<fhirclient.r4models.elementdefinition.ElementDefinition at 0x11e0e1390>,\n",
       "  <fhirclient.r4models.valueset.ValueSet at 0x11e0fa9b0>,\n",
       "  'http://hl7.org/fhir/us/core/StructureDefinition-us-core-patient-definitions.html#Patient.telecom.system',\n",
       "  None,\n",
       "  'https://build.fhir.org/medicationstatement-definitions.html#MedicationStatement.status'),\n",
       " (<fhirclient.r4models.elementdefinition.ElementDefinition at 0x11e0e1978>,\n",
       "  <fhirclient.r4models.valueset.ValueSet at 0x11df99b00>,\n",
       "  'http://hl7.org/fhir/us/core/StructureDefinition-us-core-patient-definitions.html#Patient.gender',\n",
       "  <fhirclient.r4models.elementdefinition.ElementDefinition at 0x11df72400>,\n",
       "  'https://build.fhir.org/patient-definitions.html#Patient.gender'),\n",
       " (<fhirclient.r4models.elementdefinition.ElementDefinition at 0x11e0ce4e0>,\n",
       "  <fhirclient.r4models.valueset.ValueSet at 0x11e1ad1d0>,\n",
       "  'http://hl7.org/fhir/us/core/StructureDefinition-us-core-immunization-definitions.html#Immunization.status',\n",
       "  <fhirclient.r4models.elementdefinition.ElementDefinition at 0x11e1bc4a8>,\n",
       "  'https://build.fhir.org/immunization-definitions.html#Immunization.status'),\n",
       " (<fhirclient.r4models.elementdefinition.ElementDefinition at 0x11dfa86a0>,\n",
       "  <fhirclient.r4models.valueset.ValueSet at 0x11e24fb00>,\n",
       "  'http://hl7.org/fhir/us/core/StructureDefinition-us-core-smokingstatus-definitions.html#Observation.status',\n",
       "  None,\n",
       "  'https://build.fhir.org/immunization-definitions.html#Immunization.status'),\n",
       " (<fhirclient.r4models.elementdefinition.ElementDefinition at 0x11e11b358>,\n",
       "  <fhirclient.r4models.valueset.ValueSet at 0x11e2cfdd8>,\n",
       "  'http://hl7.org/fhir/us/core/StructureDefinition-us-core-documentreference-definitions.html#DocumentReference.status',\n",
       "  <fhirclient.r4models.elementdefinition.ElementDefinition at 0x11e2daa20>,\n",
       "  'https://build.fhir.org/documentreference-definitions.html#DocumentReference.status'),\n",
       " (<fhirclient.r4models.elementdefinition.ElementDefinition at 0x11e11b748>,\n",
       "  <fhirclient.r4models.valueset.ValueSet at 0x11e2f32e8>,\n",
       "  'http://hl7.org/fhir/us/core/StructureDefinition-us-core-documentreference-definitions.html#DocumentReference.type',\n",
       "  <fhirclient.r4models.elementdefinition.ElementDefinition at 0x11e306208>,\n",
       "  'https://build.fhir.org/documentreference-definitions.html#DocumentReference.type'),\n",
       " (<fhirclient.r4models.elementdefinition.ElementDefinition at 0x11e122ba8>,\n",
       "  None,\n",
       "  'http://hl7.org/fhir/us/core/StructureDefinition-us-core-documentreference-definitions.html#DocumentReference.content.attachment.contentType',\n",
       "  None,\n",
       "  'https://build.fhir.org/documentreference-definitions.html#DocumentReference.type'),\n",
       " (<fhirclient.r4models.elementdefinition.ElementDefinition at 0x11e288128>,\n",
       "  <fhirclient.r4models.valueset.ValueSet at 0x11e282cf8>,\n",
       "  'http://hl7.org/fhir/us/core/StructureDefinition-new-us-core-diagnosticreport-definitions.html#DiagnosticReport.status',\n",
       "  None,\n",
       "  'https://build.fhir.org/documentreference-definitions.html#DocumentReference.type'),\n",
       " (<fhirclient.r4models.elementdefinition.ElementDefinition at 0x11e38e358>,\n",
       "  None,\n",
       "  'http://hl7.org/fhir/us/core/StructureDefinition-us-core-race-definitions.html#Extension.extension.valueCoding',\n",
       "  None,\n",
       "  'https://build.fhir.org/documentreference-definitions.html#DocumentReference.type'),\n",
       " (<fhirclient.r4models.elementdefinition.ElementDefinition at 0x11e38e7f0>,\n",
       "  None,\n",
       "  'http://hl7.org/fhir/us/core/StructureDefinition-us-core-race-definitions.html#Extension.extension.valueCoding',\n",
       "  None,\n",
       "  'https://build.fhir.org/documentreference-definitions.html#DocumentReference.type'),\n",
       " (<fhirclient.r4models.elementdefinition.ElementDefinition at 0x11e2b9828>,\n",
       "  <fhirclient.r4models.valueset.ValueSet at 0x11e40d358>,\n",
       "  'http://hl7.org/fhir/us/core/StructureDefinition-us-core-medicationrequest-definitions.html#MedicationRequest.status',\n",
       "  <fhirclient.r4models.elementdefinition.ElementDefinition at 0x11e419588>,\n",
       "  'https://build.fhir.org/medicationrequest-definitions.html#MedicationRequest.status'),\n",
       " (<fhirclient.r4models.elementdefinition.ElementDefinition at 0x11e427cf8>,\n",
       "  <fhirclient.r4models.valueset.ValueSet at 0x11e3ea9b0>,\n",
       "  'http://hl7.org/fhir/us/core/StructureDefinition-us-core-diagnosticreport-definitions.html#DiagnosticReport.status',\n",
       "  <fhirclient.r4models.elementdefinition.ElementDefinition at 0x11e464dd8>,\n",
       "  'https://build.fhir.org/diagnosticreport-definitions.html#DiagnosticReport.status'),\n",
       " (<fhirclient.r4models.elementdefinition.ElementDefinition at 0x11e506da0>,\n",
       "  <fhirclient.r4models.valueset.ValueSet at 0x11e50add8>,\n",
       "  'http://hl7.org/fhir/us/core/StructureDefinition-us-core-condition-definitions.html#Condition.verificationStatus',\n",
       "  <fhirclient.r4models.elementdefinition.ElementDefinition at 0x11e522208>,\n",
       "  'https://build.fhir.org/condition-definitions.html#Condition.verificationStatus'),\n",
       " (<fhirclient.r4models.elementdefinition.ElementDefinition at 0x11e5b3f60>,\n",
       "  <fhirclient.r4models.valueset.ValueSet at 0x11e5c17f0>,\n",
       "  'http://hl7.org/fhir/us/core/StructureDefinition-us-core-encounter-definitions.html#Encounter.status',\n",
       "  <fhirclient.r4models.elementdefinition.ElementDefinition at 0x11e5d4da0>,\n",
       "  'https://build.fhir.org/encounter-definitions.html#Encounter.status'),\n",
       " (<fhirclient.r4models.elementdefinition.ElementDefinition at 0x11e6db978>,\n",
       "  <fhirclient.r4models.valueset.ValueSet at 0x11e53f550>,\n",
       "  'http://hl7.org/fhir/us/core/StructureDefinition-us-core-procedure-definitions.html#Procedure.status',\n",
       "  <fhirclient.r4models.elementdefinition.ElementDefinition at 0x11e6f4f28>,\n",
       "  'https://build.fhir.org/procedure-definitions.html#Procedure.status'),\n",
       " (<fhirclient.r4models.elementdefinition.ElementDefinition at 0x11e6712e8>,\n",
       "  <fhirclient.r4models.valueset.ValueSet at 0x11e66da90>,\n",
       "  'http://hl7.org/fhir/us/core/StructureDefinition-us-core-observationresults-definitions.html#Observation.status',\n",
       "  None,\n",
       "  'https://build.fhir.org/procedure-definitions.html#Procedure.status'),\n",
       " (<fhirclient.r4models.elementdefinition.ElementDefinition at 0x11e67f438>,\n",
       "  <fhirclient.r4models.valueset.ValueSet at 0x11e69e860>,\n",
       "  'http://hl7.org/fhir/us/core/StructureDefinition-us-core-practitionerrole-definitions.html#PractitionerRole.telecom.system',\n",
       "  None,\n",
       "  'https://build.fhir.org/procedure-definitions.html#Procedure.status'),\n",
       " (<fhirclient.r4models.elementdefinition.ElementDefinition at 0x11e68f908>,\n",
       "  None,\n",
       "  'http://hl7.org/fhir/us/core/StructureDefinition-us-core-careplan-definitions.html#CarePlan.text.status',\n",
       "  None,\n",
       "  'https://build.fhir.org/procedure-definitions.html#Procedure.status'),\n",
       " (<fhirclient.r4models.elementdefinition.ElementDefinition at 0x11f0534a8>,\n",
       "  <fhirclient.r4models.valueset.ValueSet at 0x11f08e390>,\n",
       "  'http://hl7.org/fhir/us/core/StructureDefinition-us-core-careplan-definitions.html#CarePlan.status',\n",
       "  <fhirclient.r4models.elementdefinition.ElementDefinition at 0x11f0a0208>,\n",
       "  'https://build.fhir.org/careplan-definitions.html#CarePlan.status'),\n",
       " (<fhirclient.r4models.elementdefinition.ElementDefinition at 0x11f0534e0>,\n",
       "  <fhirclient.r4models.valueset.ValueSet at 0x11f0b65c0>,\n",
       "  'http://hl7.org/fhir/us/core/StructureDefinition-us-core-careplan-definitions.html#CarePlan.intent',\n",
       "  <fhirclient.r4models.elementdefinition.ElementDefinition at 0x11e7c1cf8>,\n",
       "  'https://build.fhir.org/careplan-definitions.html#CarePlan.intent'),\n",
       " (<fhirclient.r4models.elementdefinition.ElementDefinition at 0x11e3b0518>,\n",
       "  <fhirclient.r4models.valueset.ValueSet at 0x11e2754e0>,\n",
       "  'http://hl7.org/fhir/us/core/StructureDefinition-us-core-goal-definitions.html#Goal.lifecycleStatus',\n",
       "  <fhirclient.r4models.elementdefinition.ElementDefinition at 0x11e25c390>,\n",
       "  'https://build.fhir.org/goal-definitions.html#Goal.lifecycleStatus'),\n",
       " (<fhirclient.r4models.elementdefinition.ElementDefinition at 0x11e1029e8>,\n",
       "  None,\n",
       "  'http://hl7.org/fhir/us/core/StructureDefinition-us-core-ethnicity-definitions.html#Extension.extension.valueCoding',\n",
       "  None,\n",
       "  'https://build.fhir.org/goal-definitions.html#Goal.lifecycleStatus'),\n",
       " (<fhirclient.r4models.elementdefinition.ElementDefinition at 0x11e0f5e48>,\n",
       "  None,\n",
       "  'http://hl7.org/fhir/us/core/StructureDefinition-us-core-ethnicity-definitions.html#Extension.extension.valueCoding',\n",
       "  None,\n",
       "  'https://build.fhir.org/goal-definitions.html#Goal.lifecycleStatus'),\n",
       " (<fhirclient.r4models.elementdefinition.ElementDefinition at 0x11c4bf630>,\n",
       "  <fhirclient.r4models.valueset.ValueSet at 0x11e38cd30>,\n",
       "  'http://hl7.org/fhir/us/core/StructureDefinition-us-core-allergyintolerance-definitions.html#AllergyIntolerance.verificationStatus',\n",
       "  <fhirclient.r4models.elementdefinition.ElementDefinition at 0x11f0c4470>,\n",
       "  'https://build.fhir.org/allergyintolerance-definitions.html#AllergyIntolerance.verificationStatus')]"
      ]
     },
     "execution_count": 51,
     "metadata": {},
     "output_type": "execute_result"
    }
   ],
   "source": [
    "j_list = []    \n",
    "for i in ig_files:\n",
    "    sd_dict = open_file(ig_path,i)\n",
    "    try:\n",
    "        core_sd_dict = open_file(core_path,i.replace(\"-us-core\",\"\"))\n",
    "    except FileNotFoundError:\n",
    "        pass\n",
    "    try:\n",
    "        sd = SD.StructureDefinition(sd_dict)\n",
    "        diff_e = [i.path for i in sd.differential.element]\n",
    "        for j in sd.snapshot.element:\n",
    "            if j.min == 1 and j.binding and j.path in diff_e:\n",
    "                j_url = f'{canon}{i.replace(\".json\",\"-definitions.html#\")}{j.path}'\n",
    "                if j.binding.strength == 'required' and j.min ==1:\n",
    "                    vs = expand(j.binding.valueSet)\n",
    "                    try:\n",
    "                        core_sd = SD.StructureDefinition(core_sd_dict)\n",
    "                        j_core = next(k for k in core_sd.snapshot.element if k.path == j.path)\n",
    "                        j_core_url = f'https://build.fhir.org/{j.path.split(\".\")[0].lower()}-definitions.html#{j.path}'\n",
    "                    except StopIteration:\n",
    "                        j_core = None\n",
    "                    j_list.append((j,vs,j_url,j_core, j_core_url))\n",
    "    except FHIRValidationError as e:\n",
    "        print(e)\n",
    "    except AttributeError:\n",
    "        pass \n",
    "j_list"
   ]
  },
  {
   "cell_type": "markdown",
   "metadata": {},
   "source": [
    "### Using Jinja2 Template create md file for summary view"
   ]
  },
  {
   "cell_type": "code",
   "execution_count": 49,
   "metadata": {},
   "outputs": [
    {
     "data": {
      "text/plain": [
       "[(<fhirclient.r4models.elementdefinition.ElementDefinition at 0x11d2d06a0>,\n",
       "  <fhirclient.r4models.valueset.ValueSet at 0x11d075908>,\n",
       "  'http://hl7.org/fhir/us/core/StructureDefinition-us-core-careteam-definition.html#CareTeam.status',\n",
       "  <fhirclient.r4models.elementdefinition.ElementDefinition at 0x11d251a90>,\n",
       "  'https://build.fhir.org/careteam-definitions.html#CareTeam.status'),\n",
       " (<fhirclient.r4models.elementdefinition.ElementDefinition at 0x11d3b0390>,\n",
       "  <fhirclient.r4models.valueset.ValueSet at 0x11d3a05f8>,\n",
       "  'http://hl7.org/fhir/us/core/StructureDefinition-us-core-medicationstatement-definition.html#MedicationStatement.status',\n",
       "  <fhirclient.r4models.elementdefinition.ElementDefinition at 0x11d39d6d8>,\n",
       "  'https://build.fhir.org/medicationstatement-definitions.html#MedicationStatement.status',\n",
       "  'unknown'),\n",
       " (<fhirclient.r4models.elementdefinition.ElementDefinition at 0x11d57fb38>,\n",
       "  <fhirclient.r4models.valueset.ValueSet at 0x11d514a20>,\n",
       "  'http://hl7.org/fhir/us/core/StructureDefinition-us-core-patient-definition.html#Patient.telecom.system',\n",
       "  None,\n",
       "  'https://build.fhir.org/medicationstatement-definitions.html#MedicationStatement.status',\n",
       "  'other'),\n",
       " (<fhirclient.r4models.elementdefinition.ElementDefinition at 0x11d582160>,\n",
       "  <fhirclient.r4models.valueset.ValueSet at 0x11d594080>,\n",
       "  'http://hl7.org/fhir/us/core/StructureDefinition-us-core-patient-definition.html#Patient.gender',\n",
       "  <fhirclient.r4models.elementdefinition.ElementDefinition at 0x11d4ef518>,\n",
       "  'https://build.fhir.org/patient-definitions.html#Patient.gender',\n",
       "  'other',\n",
       "  'unknown'),\n",
       " (<fhirclient.r4models.elementdefinition.ElementDefinition at 0x11d568198>,\n",
       "  <fhirclient.r4models.valueset.ValueSet at 0x11d5fafd0>,\n",
       "  'http://hl7.org/fhir/us/core/StructureDefinition-us-core-immunization-definition.html#Immunization.status',\n",
       "  <fhirclient.r4models.elementdefinition.ElementDefinition at 0x11d60bc50>,\n",
       "  'https://build.fhir.org/immunization-definitions.html#Immunization.status'),\n",
       " (<fhirclient.r4models.elementdefinition.ElementDefinition at 0x11d7152e8>,\n",
       "  <fhirclient.r4models.valueset.ValueSet at 0x11d71b710>,\n",
       "  'http://hl7.org/fhir/us/core/StructureDefinition-us-core-smokingstatus-definition.html#Observation.status',\n",
       "  None,\n",
       "  'https://build.fhir.org/immunization-definitions.html#Immunization.status',\n",
       "  'unknown'),\n",
       " (<fhirclient.r4models.elementdefinition.ElementDefinition at 0x11d4007b8>,\n",
       "  <fhirclient.r4models.valueset.ValueSet at 0x11d1b2e10>,\n",
       "  'http://hl7.org/fhir/us/core/StructureDefinition-us-core-documentreference-definition.html#DocumentReference.status',\n",
       "  <fhirclient.r4models.elementdefinition.ElementDefinition at 0x11c5f4208>,\n",
       "  'https://build.fhir.org/documentreference-definitions.html#DocumentReference.status'),\n",
       " (<fhirclient.r4models.elementdefinition.ElementDefinition at 0x11d4b87f0>,\n",
       "  <fhirclient.r4models.valueset.ValueSet at 0x11c35c3c8>,\n",
       "  'http://hl7.org/fhir/us/core/StructureDefinition-us-core-documentreference-definition.html#DocumentReference.type',\n",
       "  <fhirclient.r4models.elementdefinition.ElementDefinition at 0x11bfbc898>,\n",
       "  'https://build.fhir.org/documentreference-definitions.html#DocumentReference.type'),\n",
       " (<fhirclient.r4models.elementdefinition.ElementDefinition at 0x11d502eb8>,\n",
       "  None,\n",
       "  'http://hl7.org/fhir/us/core/StructureDefinition-us-core-documentreference-definition.html#DocumentReference.content.attachment.contentType',\n",
       "  None,\n",
       "  'https://build.fhir.org/documentreference-definitions.html#DocumentReference.type'),\n",
       " (<fhirclient.r4models.elementdefinition.ElementDefinition at 0x11d75ce10>,\n",
       "  <fhirclient.r4models.valueset.ValueSet at 0x11d748a20>,\n",
       "  'http://hl7.org/fhir/us/core/StructureDefinition-new-us-core-diagnosticreport-definition.html#DiagnosticReport.status',\n",
       "  None,\n",
       "  'https://build.fhir.org/documentreference-definitions.html#DocumentReference.type',\n",
       "  'unknown'),\n",
       " (<fhirclient.r4models.elementdefinition.ElementDefinition at 0x11c4d5a20>,\n",
       "  None,\n",
       "  'http://hl7.org/fhir/us/core/StructureDefinition-us-core-race-definition.html#Extension.extension.valueCoding',\n",
       "  None,\n",
       "  'https://build.fhir.org/documentreference-definitions.html#DocumentReference.type'),\n",
       " (<fhirclient.r4models.elementdefinition.ElementDefinition at 0x11c4d2518>,\n",
       "  None,\n",
       "  'http://hl7.org/fhir/us/core/StructureDefinition-us-core-race-definition.html#Extension.extension.valueCoding',\n",
       "  None,\n",
       "  'https://build.fhir.org/documentreference-definitions.html#DocumentReference.type'),\n",
       " (<fhirclient.r4models.elementdefinition.ElementDefinition at 0x11d788550>,\n",
       "  <fhirclient.r4models.valueset.ValueSet at 0x11d7fe080>,\n",
       "  'http://hl7.org/fhir/us/core/StructureDefinition-us-core-medicationrequest-definition.html#MedicationRequest.status',\n",
       "  <fhirclient.r4models.elementdefinition.ElementDefinition at 0x11d808da0>,\n",
       "  'https://build.fhir.org/medicationrequest-definitions.html#MedicationRequest.status',\n",
       "  'unknown'),\n",
       " (<fhirclient.r4models.elementdefinition.ElementDefinition at 0x11d7e9a20>,\n",
       "  <fhirclient.r4models.valueset.ValueSet at 0x11d84e6d8>,\n",
       "  'http://hl7.org/fhir/us/core/StructureDefinition-us-core-diagnosticreport-definition.html#DiagnosticReport.status',\n",
       "  <fhirclient.r4models.elementdefinition.ElementDefinition at 0x11d852b70>,\n",
       "  'https://build.fhir.org/diagnosticreport-definitions.html#DiagnosticReport.status',\n",
       "  'unknown'),\n",
       " (<fhirclient.r4models.elementdefinition.ElementDefinition at 0x11d8f0ac8>,\n",
       "  <fhirclient.r4models.valueset.ValueSet at 0x11d8f3b00>,\n",
       "  'http://hl7.org/fhir/us/core/StructureDefinition-us-core-condition-definition.html#Condition.verificationStatus',\n",
       "  <fhirclient.r4models.elementdefinition.ElementDefinition at 0x11d961ef0>,\n",
       "  'https://build.fhir.org/condition-definitions.html#Condition.verificationStatus'),\n",
       " (<fhirclient.r4models.elementdefinition.ElementDefinition at 0x11d8e3c88>,\n",
       "  <fhirclient.r4models.valueset.ValueSet at 0x11da7a518>,\n",
       "  'http://hl7.org/fhir/us/core/StructureDefinition-us-core-encounter-definition.html#Encounter.status',\n",
       "  <fhirclient.r4models.elementdefinition.ElementDefinition at 0x11da8ca58>,\n",
       "  'https://build.fhir.org/encounter-definitions.html#Encounter.status',\n",
       "  'unknown'),\n",
       " (<fhirclient.r4models.elementdefinition.ElementDefinition at 0x11db98dd8>,\n",
       "  <fhirclient.r4models.valueset.ValueSet at 0x11d987278>,\n",
       "  'http://hl7.org/fhir/us/core/StructureDefinition-us-core-procedure-definition.html#Procedure.status',\n",
       "  <fhirclient.r4models.elementdefinition.ElementDefinition at 0x11dbe8c50>,\n",
       "  'https://build.fhir.org/procedure-definitions.html#Procedure.status',\n",
       "  'unknown'),\n",
       " (<fhirclient.r4models.elementdefinition.ElementDefinition at 0x11da6c278>,\n",
       "  <fhirclient.r4models.valueset.ValueSet at 0x11db2ae80>,\n",
       "  'http://hl7.org/fhir/us/core/StructureDefinition-us-core-observationresults-definition.html#Observation.status',\n",
       "  None,\n",
       "  'https://build.fhir.org/procedure-definitions.html#Procedure.status',\n",
       "  'unknown'),\n",
       " (<fhirclient.r4models.elementdefinition.ElementDefinition at 0x11db5d0f0>,\n",
       "  <fhirclient.r4models.valueset.ValueSet at 0x11db5b5c0>,\n",
       "  'http://hl7.org/fhir/us/core/StructureDefinition-us-core-practitionerrole-definition.html#PractitionerRole.telecom.system',\n",
       "  None,\n",
       "  'https://build.fhir.org/procedure-definitions.html#Procedure.status',\n",
       "  'other'),\n",
       " (<fhirclient.r4models.elementdefinition.ElementDefinition at 0x11dcff668>,\n",
       "  None,\n",
       "  'http://hl7.org/fhir/us/core/StructureDefinition-us-core-careplan-definition.html#CarePlan.text.status',\n",
       "  None,\n",
       "  'https://build.fhir.org/procedure-definitions.html#Procedure.status'),\n",
       " (<fhirclient.r4models.elementdefinition.ElementDefinition at 0x11dd00208>,\n",
       "  <fhirclient.r4models.valueset.ValueSet at 0x11dd3b0f0>,\n",
       "  'http://hl7.org/fhir/us/core/StructureDefinition-us-core-careplan-definition.html#CarePlan.status',\n",
       "  <fhirclient.r4models.elementdefinition.ElementDefinition at 0x11dd4af28>,\n",
       "  'https://build.fhir.org/careplan-definitions.html#CarePlan.status',\n",
       "  'unknown'),\n",
       " (<fhirclient.r4models.elementdefinition.ElementDefinition at 0x11dd00240>,\n",
       "  <fhirclient.r4models.valueset.ValueSet at 0x11dd65320>,\n",
       "  'http://hl7.org/fhir/us/core/StructureDefinition-us-core-careplan-definition.html#CarePlan.intent',\n",
       "  <fhirclient.r4models.elementdefinition.ElementDefinition at 0x11dc85a58>,\n",
       "  'https://build.fhir.org/careplan-definitions.html#CarePlan.intent'),\n",
       " (<fhirclient.r4models.elementdefinition.ElementDefinition at 0x11db2a828>,\n",
       "  <fhirclient.r4models.valueset.ValueSet at 0x11da5be48>,\n",
       "  'http://hl7.org/fhir/us/core/StructureDefinition-us-core-goal-definition.html#Goal.lifecycleStatus',\n",
       "  <fhirclient.r4models.elementdefinition.ElementDefinition at 0x11db2e2b0>,\n",
       "  'https://build.fhir.org/goal-definitions.html#Goal.lifecycleStatus'),\n",
       " (<fhirclient.r4models.elementdefinition.ElementDefinition at 0x11dd66198>,\n",
       "  None,\n",
       "  'http://hl7.org/fhir/us/core/StructureDefinition-us-core-ethnicity-definition.html#Extension.extension.valueCoding',\n",
       "  None,\n",
       "  'https://build.fhir.org/goal-definitions.html#Goal.lifecycleStatus'),\n",
       " (<fhirclient.r4models.elementdefinition.ElementDefinition at 0x11dd66630>,\n",
       "  None,\n",
       "  'http://hl7.org/fhir/us/core/StructureDefinition-us-core-ethnicity-definition.html#Extension.extension.valueCoding',\n",
       "  None,\n",
       "  'https://build.fhir.org/goal-definitions.html#Goal.lifecycleStatus'),\n",
       " (<fhirclient.r4models.elementdefinition.ElementDefinition at 0x11df0fcf8>,\n",
       "  <fhirclient.r4models.valueset.ValueSet at 0x11df15780>,\n",
       "  'http://hl7.org/fhir/us/core/StructureDefinition-us-core-allergyintolerance-definition.html#AllergyIntolerance.verificationStatus',\n",
       "  <fhirclient.r4models.elementdefinition.ElementDefinition at 0x11dfe0668>,\n",
       "  'https://build.fhir.org/allergyintolerance-definitions.html#AllergyIntolerance.verificationStatus')]"
      ]
     },
     "execution_count": 49,
     "metadata": {},
     "output_type": "execute_result"
    }
   ],
   "source": [
    "k_list = []\n",
    "for j in j_list:\n",
    "    try:\n",
    "     k_list.append(tuple(list(j) + [c.code for c in j[1].expansion.contains if c.code in ['unknown','other']]))\n",
    "    except AttributeError:\n",
    "        k_list.append(j)\n",
    "k_list"
   ]
  },
  {
   "cell_type": "code",
   "execution_count": 52,
   "metadata": {},
   "outputs": [
    {
     "data": {
      "text/markdown": [
       "## All Required Bindings for Required Coded Elements:\n",
       "\n",
       "\n",
       "1. **[CareTeam.status](http://hl7.org/fhir/us/core/StructureDefinition-us-core-careteam-definition.html#CareTeam.status)**\n",
       "    - [base](https://build.fhir.org/careteam-definitions.html#CareTeam.status) cardinality= 0..1\n",
       "    - base valueSet = [http://hl7.org/fhir/ValueSet/care-team-status|4.0.0](http://hl7.org/fhir/ValueSet/care-team-status|4.0.0)\n",
       "    - base binding strength = required\n",
       "    - http://hl7.org/fhir/ValueSet/care-team-status\n",
       "    (\n",
       "     entered-in-error, \n",
       "     inactive, \n",
       "     active, \n",
       "     suspended, \n",
       "     proposed)\n",
       "1. **[MedicationStatement.status](http://hl7.org/fhir/us/core/StructureDefinition-us-core-medicationstatement-definition.html#MedicationStatement.status)**\n",
       "    - [base](https://build.fhir.org/medicationstatement-definitions.html#MedicationStatement.status) cardinality= 1..1\n",
       "    - base valueSet = [http://hl7.org/fhir/ValueSet/medication-statement-status|4.0.0](http://hl7.org/fhir/ValueSet/medication-statement-status|4.0.0)\n",
       "    - base binding strength = required\n",
       "    - http://hl7.org/fhir/ValueSet/medication-statement-status\n",
       "    (\n",
       "     completed, \n",
       "     active, \n",
       "     entered-in-error, \n",
       "     on-hold, \n",
       "     **unknown**, \n",
       "     stopped, \n",
       "     intended, \n",
       "     not-taken)\n",
       "1. **[Patient.telecom.system](http://hl7.org/fhir/us/core/StructureDefinition-us-core-patient-definition.html#Patient.telecom.system)**\n",
       "    - [base](https://build.fhir.org/medicationstatement-definitions.html#MedicationStatement.status) cardinality= ..\n",
       "    - http://hl7.org/fhir/ValueSet/contact-point-system\n",
       "    (\n",
       "     phone, \n",
       "     pager, \n",
       "     url, \n",
       "     fax, \n",
       "     other, \n",
       "     sms, \n",
       "     email)\n",
       "1. **[Patient.gender](http://hl7.org/fhir/us/core/StructureDefinition-us-core-patient-definition.html#Patient.gender)**\n",
       "    - [base](https://build.fhir.org/patient-definitions.html#Patient.gender) cardinality= 0..1\n",
       "    - base valueSet = [http://hl7.org/fhir/ValueSet/administrative-gender|4.0.0](http://hl7.org/fhir/ValueSet/administrative-gender|4.0.0)\n",
       "    - base binding strength = required\n",
       "    - http://hl7.org/fhir/ValueSet/administrative-gender\n",
       "    (\n",
       "     male, \n",
       "     female, \n",
       "     other, \n",
       "     **unknown**)\n",
       "1. **[Immunization.status](http://hl7.org/fhir/us/core/StructureDefinition-us-core-immunization-definition.html#Immunization.status)**\n",
       "    - [base](https://build.fhir.org/immunization-definitions.html#Immunization.status) cardinality= 1..1\n",
       "    - base valueSet = [http://hl7.org/fhir/ValueSet/immunization-status|4.0.0](http://hl7.org/fhir/ValueSet/immunization-status|4.0.0)\n",
       "    - base binding strength = required\n",
       "    - http://hl7.org/fhir/ValueSet/immunization-status\n",
       "    (\n",
       "     completed, \n",
       "     not-done, \n",
       "     entered-in-error)\n",
       "1. **[Observation.status](http://hl7.org/fhir/us/core/StructureDefinition-us-core-smokingstatus-definition.html#Observation.status)**\n",
       "    - [base](https://build.fhir.org/immunization-definitions.html#Immunization.status) cardinality= ..\n",
       "    - http://hl7.org/fhir/ValueSet/observation-status\n",
       "    (\n",
       "     corrected, \n",
       "     amended, \n",
       "     final, \n",
       "     registered, \n",
       "     entered-in-error, \n",
       "     preliminary, \n",
       "     cancelled, \n",
       "     **unknown**)\n",
       "1. **[DocumentReference.status](http://hl7.org/fhir/us/core/StructureDefinition-us-core-documentreference-definition.html#DocumentReference.status)**\n",
       "    - [base](https://build.fhir.org/documentreference-definitions.html#DocumentReference.status) cardinality= 1..1\n",
       "    - base valueSet = [http://hl7.org/fhir/ValueSet/document-reference-status|4.0.0](http://hl7.org/fhir/ValueSet/document-reference-status|4.0.0)\n",
       "    - base binding strength = required\n",
       "    - http://hl7.org/fhir/ValueSet/document-reference-status\n",
       "    (\n",
       "     entered-in-error, \n",
       "     superseded, \n",
       "     current)\n",
       "1. **[DocumentReference.type](http://hl7.org/fhir/us/core/StructureDefinition-us-core-documentreference-definition.html#DocumentReference.type)**\n",
       "    - [base](https://build.fhir.org/documentreference-definitions.html#DocumentReference.type) cardinality= 0..1\n",
       "    - base valueSet = [http://hl7.org/fhir/ValueSet/c80-doc-typecodes](http://hl7.org/fhir/ValueSet/c80-doc-typecodes)\n",
       "    - base binding strength = preferred\n",
       "    - http://hl7.org/fhir/ValueSet/c80-doc-typecodes\n",
       "    (\n",
       "     36325-9, \n",
       "     39337-1, \n",
       "     42473-9, \n",
       "     47522-8, \n",
       "     43458-9, \n",
       "     39920-4, \n",
       "     34751-8, \n",
       "     37393-6, \n",
       "     38019-6, \n",
       "     46349-7, \n",
       "     57177-8, \n",
       "     39670-5, \n",
       "     30688-6, \n",
       "     24659-5, \n",
       "     37764-8, \n",
       "     58744-4, \n",
       "     24909-4, \n",
       "     39336-3, \n",
       "     43791-3, \n",
       "     51392-9)\n",
       "1. **[DocumentReference.content.attachment.contentType](http://hl7.org/fhir/us/core/StructureDefinition-us-core-documentreference-definition.html#DocumentReference.content.attachment.contentType)**\n",
       "    - [base](https://build.fhir.org/documentreference-definitions.html#DocumentReference.type) cardinality= ..\n",
       "    - http://hl7.org/fhir/ValueSet/mimetypes|4.0.0\n",
       "1. **[DiagnosticReport.status](http://hl7.org/fhir/us/core/StructureDefinition-new-us-core-diagnosticreport-definition.html#DiagnosticReport.status)**\n",
       "    - [base](https://build.fhir.org/documentreference-definitions.html#DocumentReference.type) cardinality= ..\n",
       "    - http://hl7.org/fhir/ValueSet/diagnostic-report-status\n",
       "    (\n",
       "     registered, \n",
       "     cancelled, \n",
       "     partial, \n",
       "     entered-in-error, \n",
       "     **unknown**, \n",
       "     appended, \n",
       "     final, \n",
       "     preliminary, \n",
       "     corrected, \n",
       "     amended)\n",
       "1. **[Extension.extension.valueCoding](http://hl7.org/fhir/us/core/StructureDefinition-us-core-race-definition.html#Extension.extension.valueCoding)**\n",
       "    - [base](https://build.fhir.org/documentreference-definitions.html#DocumentReference.type) cardinality= ..\n",
       "    - http://hl7.org/fhir/us/core/ValueSet/omb-race-category\n",
       "1. **[Extension.extension.valueCoding](http://hl7.org/fhir/us/core/StructureDefinition-us-core-race-definition.html#Extension.extension.valueCoding)**\n",
       "    - [base](https://build.fhir.org/documentreference-definitions.html#DocumentReference.type) cardinality= ..\n",
       "    - http://hl7.org/fhir/us/core/ValueSet/detailed-race\n",
       "1. **[MedicationRequest.status](http://hl7.org/fhir/us/core/StructureDefinition-us-core-medicationrequest-definition.html#MedicationRequest.status)**\n",
       "    - [base](https://build.fhir.org/medicationrequest-definitions.html#MedicationRequest.status) cardinality= 1..1\n",
       "    - base valueSet = [http://hl7.org/fhir/ValueSet/medicationrequest-status|4.0.0](http://hl7.org/fhir/ValueSet/medicationrequest-status|4.0.0)\n",
       "    - base binding strength = required\n",
       "    - http://hl7.org/fhir/ValueSet/medicationrequest-status\n",
       "    (\n",
       "     stopped, \n",
       "     active, \n",
       "     entered-in-error, \n",
       "     cancelled, \n",
       "     completed, \n",
       "     draft, \n",
       "     **unknown**, \n",
       "     on-hold)\n",
       "1. **[DiagnosticReport.status](http://hl7.org/fhir/us/core/StructureDefinition-us-core-diagnosticreport-definition.html#DiagnosticReport.status)**\n",
       "    - [base](https://build.fhir.org/diagnosticreport-definitions.html#DiagnosticReport.status) cardinality= 1..1\n",
       "    - base valueSet = [http://hl7.org/fhir/ValueSet/diagnostic-report-status|4.0.0](http://hl7.org/fhir/ValueSet/diagnostic-report-status|4.0.0)\n",
       "    - base binding strength = required\n",
       "    - http://hl7.org/fhir/ValueSet/diagnostic-report-status\n",
       "    (\n",
       "     registered, \n",
       "     cancelled, \n",
       "     partial, \n",
       "     entered-in-error, \n",
       "     **unknown**, \n",
       "     appended, \n",
       "     final, \n",
       "     preliminary, \n",
       "     corrected, \n",
       "     amended)\n",
       "1. **[Condition.verificationStatus](http://hl7.org/fhir/us/core/StructureDefinition-us-core-condition-definition.html#Condition.verificationStatus)**\n",
       "    - [base](https://build.fhir.org/condition-definitions.html#Condition.verificationStatus) cardinality= 0..1\n",
       "    - base valueSet = [http://hl7.org/fhir/ValueSet/condition-ver-status|4.0.0](http://hl7.org/fhir/ValueSet/condition-ver-status|4.0.0)\n",
       "    - base binding strength = required\n",
       "    - http://hl7.org/fhir/ValueSet/condition-ver-status\n",
       "    (\n",
       "     differential, \n",
       "     entered-in-error, \n",
       "     unconfirmed, \n",
       "     confirmed, \n",
       "     refuted, \n",
       "     provisional)\n",
       "1. **[Encounter.status](http://hl7.org/fhir/us/core/StructureDefinition-us-core-encounter-definition.html#Encounter.status)**\n",
       "    - [base](https://build.fhir.org/encounter-definitions.html#Encounter.status) cardinality= 1..1\n",
       "    - base valueSet = [http://hl7.org/fhir/ValueSet/encounter-status|4.0.0](http://hl7.org/fhir/ValueSet/encounter-status|4.0.0)\n",
       "    - base binding strength = required\n",
       "    - http://hl7.org/fhir/ValueSet/encounter-status|4.0.0\n",
       "    (\n",
       "     planned, \n",
       "     **unknown**, \n",
       "     in-progress, \n",
       "     finished, \n",
       "     cancelled, \n",
       "     triaged, \n",
       "     arrived, \n",
       "     onleave, \n",
       "     entered-in-error)\n",
       "1. **[Procedure.status](http://hl7.org/fhir/us/core/StructureDefinition-us-core-procedure-definition.html#Procedure.status)**\n",
       "    - [base](https://build.fhir.org/procedure-definitions.html#Procedure.status) cardinality= 1..1\n",
       "    - base valueSet = [http://hl7.org/fhir/ValueSet/event-status|4.0.0](http://hl7.org/fhir/ValueSet/event-status|4.0.0)\n",
       "    - base binding strength = required\n",
       "    - http://hl7.org/fhir/ValueSet/event-status\n",
       "    (\n",
       "     completed, \n",
       "     **unknown**, \n",
       "     not-done, \n",
       "     stopped, \n",
       "     entered-in-error, \n",
       "     on-hold, \n",
       "     preparation, \n",
       "     in-progress)\n",
       "1. **[Observation.status](http://hl7.org/fhir/us/core/StructureDefinition-us-core-observationresults-definition.html#Observation.status)**\n",
       "    - [base](https://build.fhir.org/procedure-definitions.html#Procedure.status) cardinality= ..\n",
       "    - http://hl7.org/fhir/ValueSet/observation-status\n",
       "    (\n",
       "     corrected, \n",
       "     amended, \n",
       "     final, \n",
       "     registered, \n",
       "     entered-in-error, \n",
       "     preliminary, \n",
       "     cancelled, \n",
       "     **unknown**)\n",
       "1. **[PractitionerRole.telecom.system](http://hl7.org/fhir/us/core/StructureDefinition-us-core-practitionerrole-definition.html#PractitionerRole.telecom.system)**\n",
       "    - [base](https://build.fhir.org/procedure-definitions.html#Procedure.status) cardinality= ..\n",
       "    - http://hl7.org/fhir/ValueSet/contact-point-system|4.0.0\n",
       "    (\n",
       "     phone, \n",
       "     pager, \n",
       "     url, \n",
       "     fax, \n",
       "     other, \n",
       "     sms, \n",
       "     email)\n",
       "1. **[CarePlan.text.status](http://hl7.org/fhir/us/core/StructureDefinition-us-core-careplan-definition.html#CarePlan.text.status)**\n",
       "    - [base](https://build.fhir.org/procedure-definitions.html#Procedure.status) cardinality= ..\n",
       "    - http://hl7.org/fhir/us/core/ValueSet/us-core-narrative-status\n",
       "1. **[CarePlan.status](http://hl7.org/fhir/us/core/StructureDefinition-us-core-careplan-definition.html#CarePlan.status)**\n",
       "    - [base](https://build.fhir.org/careplan-definitions.html#CarePlan.status) cardinality= 1..1\n",
       "    - base valueSet = [http://hl7.org/fhir/ValueSet/request-status|4.0.0](http://hl7.org/fhir/ValueSet/request-status|4.0.0)\n",
       "    - base binding strength = required\n",
       "    - http://hl7.org/fhir/ValueSet/request-status\n",
       "    (\n",
       "     active, \n",
       "     draft, \n",
       "     completed, \n",
       "     entered-in-error, \n",
       "     **unknown**, \n",
       "     on-hold, \n",
       "     revoked)\n",
       "1. **[CarePlan.intent](http://hl7.org/fhir/us/core/StructureDefinition-us-core-careplan-definition.html#CarePlan.intent)**\n",
       "    - [base](https://build.fhir.org/careplan-definitions.html#CarePlan.intent) cardinality= 1..1\n",
       "    - base valueSet = [http://hl7.org/fhir/ValueSet/care-plan-intent|4.0.0](http://hl7.org/fhir/ValueSet/care-plan-intent|4.0.0)\n",
       "    - base binding strength = required\n",
       "    - http://hl7.org/fhir/ValueSet/care-plan-intent\n",
       "    (\n",
       "     proposal, \n",
       "     option, \n",
       "     plan, \n",
       "     order)\n",
       "1. **[Goal.lifecycleStatus](http://hl7.org/fhir/us/core/StructureDefinition-us-core-goal-definition.html#Goal.lifecycleStatus)**\n",
       "    - [base](https://build.fhir.org/goal-definitions.html#Goal.lifecycleStatus) cardinality= 1..1\n",
       "    - base valueSet = [http://hl7.org/fhir/ValueSet/goal-status|4.0.0](http://hl7.org/fhir/ValueSet/goal-status|4.0.0)\n",
       "    - base binding strength = required\n",
       "    - http://hl7.org/fhir/ValueSet/goal-status\n",
       "    (\n",
       "     active, \n",
       "     completed, \n",
       "     rejected, \n",
       "     cancelled, \n",
       "     planned, \n",
       "     entered-in-error, \n",
       "     accepted, \n",
       "     on-hold, \n",
       "     proposed)\n",
       "1. **[Extension.extension.valueCoding](http://hl7.org/fhir/us/core/StructureDefinition-us-core-ethnicity-definition.html#Extension.extension.valueCoding)**\n",
       "    - [base](https://build.fhir.org/goal-definitions.html#Goal.lifecycleStatus) cardinality= ..\n",
       "    - http://hl7.org/fhir/us/core/ValueSet/omb-ethnicity-category\n",
       "1. **[Extension.extension.valueCoding](http://hl7.org/fhir/us/core/StructureDefinition-us-core-ethnicity-definition.html#Extension.extension.valueCoding)**\n",
       "    - [base](https://build.fhir.org/goal-definitions.html#Goal.lifecycleStatus) cardinality= ..\n",
       "    - http://hl7.org/fhir/us/core/ValueSet/detailed-ethnicity\n",
       "1. **[AllergyIntolerance.verificationStatus](http://hl7.org/fhir/us/core/StructureDefinition-us-core-allergyintolerance-definition.html#AllergyIntolerance.verificationStatus)**\n",
       "    - [base](https://build.fhir.org/allergyintolerance-definitions.html#AllergyIntolerance.verificationStatus) cardinality= 0..1\n",
       "    - base valueSet = [http://hl7.org/fhir/ValueSet/allergyintolerance-verification|4.0.0](http://hl7.org/fhir/ValueSet/allergyintolerance-verification|4.0.0)\n",
       "    - base binding strength = required\n",
       "    - http://hl7.org/fhir/ValueSet/allergyintolerance-verification\n",
       "    (\n",
       "     confirmed, \n",
       "     refuted, \n",
       "     entered-in-error, \n",
       "     unconfirmed)"
      ],
      "text/plain": [
       "<IPython.core.display.Markdown object>"
      ]
     },
     "metadata": {},
     "output_type": "display_data"
    }
   ],
   "source": [
    "in_path = ''\n",
    "template_path = 'binding_summary_template4.j2'\n",
    "\n",
    "def markdown(text, *args, **kwargs):\n",
    "    return commonmark(text, *args, **kwargs)\n",
    "\n",
    "env = Environment(\n",
    "    loader=FileSystemLoader(searchpath = in_path),\n",
    "    autoescape=select_autoescape(['html','xml','xhtml','j2','md'])\n",
    "    )\n",
    "\n",
    "env.filters['markdown'] = markdown\n",
    "\n",
    "template = env.get_template(template_path)\n",
    "\n",
    "\n",
    "\n",
    "d = template.render(elements = k_list)\n",
    "display(Markdown(d))"
   ]
  },
  {
   "cell_type": "markdown",
   "metadata": {},
   "source": [
    "### write to file"
   ]
  },
  {
   "cell_type": "code",
   "execution_count": 47,
   "metadata": {},
   "outputs": [],
   "source": [
    "out_path = ''\n",
    "out_file = 'binding_summary5.md'\n",
    "\n",
    "def write_file(path, f_name, data): # write file\n",
    "    with open(f'{path}{f_name}', 'w') as f:\n",
    "        f.write(data)\n",
    "\n",
    "write_file(out_path,out_file,d)"
   ]
  },
  {
   "cell_type": "markdown",
   "metadata": {},
   "source": [
    "## Fin"
   ]
  },
  {
   "cell_type": "code",
   "execution_count": null,
   "metadata": {},
   "outputs": [],
   "source": []
  }
 ],
 "metadata": {
  "kernelspec": {
   "display_name": "Python 3",
   "language": "python",
   "name": "python3"
  },
  "language_info": {
   "codemirror_mode": {
    "name": "ipython",
    "version": 3
   },
   "file_extension": ".py",
   "mimetype": "text/x-python",
   "name": "python",
   "nbconvert_exporter": "python",
   "pygments_lexer": "ipython3",
   "version": "3.6.2"
  }
 },
 "nbformat": 4,
 "nbformat_minor": 2
}
