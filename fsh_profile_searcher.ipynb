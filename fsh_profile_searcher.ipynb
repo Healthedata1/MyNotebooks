{
 "cells": [
  {
   "cell_type": "code",
   "execution_count": 1,
   "metadata": {},
   "outputs": [
    {
     "name": "stdout",
     "output_type": "stream",
     "text": [
      "*************************************\n",
      "1: https://raw.githubusercontent.com/HL7/dme-orders/b11211e5aa26ee2e1343f13e0f3cc088436026cf/input/resources/structuredefinition/PAOX-coverage.xml\n",
      "*************************************\n",
      "project_code: dme-orders\n",
      "\u001b[97m\u001b[42minfo \u001b[49m\u001b[39m Running SUSHI v2.6.1 (implements FHIR Shorthand specification v2.0.0)\n",
      "\u001b[97m\u001b[42minfo \u001b[49m\u001b[39m Arguments:\n",
      "\u001b[97m\u001b[42minfo \u001b[49m\u001b[39m   /Users/ehaas/Documents/Python/Jupyter/MyNotebooks/utils/test_files/my-project\n",
      "^C\n",
      "============= process the json file ==============\n",
      "zsh:1: no matches found: /Users/ehaas/Documents/Python/Jupyter/MyNotebooks/utils/test_files/my-project/input/fsh-generated/*\n",
      "*************************************\n",
      "2: https://raw.githubusercontent.com/HL7/davinci-deqm/168acbe28688e4ea9641a57389017be77c4a3da7/input/resources/StructureDefinition-coverage-deqm.xml\n",
      "*************************************\n",
      "project_code: davinci-deqm\n",
      "\u001b[97m\u001b[42minfo \u001b[49m\u001b[39m Running SUSHI v2.6.1 (implements FHIR Shorthand specification v2.0.0)\n",
      "\u001b[97m\u001b[42minfo \u001b[49m\u001b[39m Arguments:\n",
      "\u001b[97m\u001b[42minfo \u001b[49m\u001b[39m   /Users/ehaas/Documents/Python/Jupyter/MyNotebooks/utils/test_files/my-project\n",
      "^C\n",
      "============= process the json file ==============\n",
      "zsh:1: no matches found: /Users/ehaas/Documents/Python/Jupyter/MyNotebooks/utils/test_files/my-project/input/fsh-generated/*\n",
      "*************************************\n",
      "3: https://raw.githubusercontent.com/HL7/davinci-pcde/58ace3091511bbfe7bc125a71485f07bfff972ac/input/resources/structuredefinition-pcde-task-request.xml\n",
      "*************************************\n",
      "project_code: davinci-pcde\n",
      "\u001b[97m\u001b[42minfo \u001b[49m\u001b[39m Running SUSHI v2.6.1 (implements FHIR Shorthand specification v2.0.0)\n",
      "\u001b[97m\u001b[42minfo \u001b[49m\u001b[39m Arguments:\n",
      "\u001b[97m\u001b[42minfo \u001b[49m\u001b[39m   /Users/ehaas/Documents/Python/Jupyter/MyNotebooks/utils/test_files/my-project\n"
     ]
    }
   ],
   "source": [
    "from fhir.resources import structuredefinition\n",
    "from pathlib import Path\n",
    "import pandas as pd\n",
    "\n",
    "in_path = Path(r'/Users/ehaas/Documents/FHIR/US-Core/my-notes/SD_URL.md.csv')\n",
    "fsh_project = '/Users/ehaas/Documents/Python/Jupyter/MyNotebooks/utils/test_files/my-project'\n",
    "config_path = Path(r'/Users/ehaas/Documents/Python/Jupyter/MyNotebooks/utils/test_files/my-project/input/fsh/config.yaml')\n",
    "# fsh_dir = '/input/fsh'\n",
    "\n",
    "# update the sushi-config.yaml file\n",
    "\n",
    "df = pd.read_csv(in_path, header=0, encoding='utf-8')\n",
    "for i,my_file in enumerate(df.url):\n",
    "    print(f'*************************************\\n{i+1}: {my_file}\\n*************************************')    \n",
    "    project_code  = my_file.split('/')[4:5][0]\n",
    "    print(f'project_code: {project_code}')\n",
    "    sushi_config = f'''\n",
    "FSHOnly: true\n",
    "fhirVersion: 4.0.1\n",
    "canonical: \"http://hl7.org/fhir/us/{project_code}\"\n",
    "name: Temp\n",
    "status: draft\n",
    "'''\n",
    "    config_path.write_text(sushi_config)\n",
    "    # update the sushi-config.yaml file\n",
    "\n",
    "    #build the SD and FSH files\n",
    "    !sushi '/Users/ehaas/Documents/Python/Jupyter/MyNotebooks/utils/test_files/my-project'\n",
    "\n",
    "    print( '============= process the json file ==============')\n",
    "\n",
    "    my_path = Path('/Users/ehaas/Documents/Python/Jupyter/MyNotebooks/utils/test_files/my-project/fsh-generated/resources')\n",
    "    for file in my_path.glob('*.json'):\n",
    "        print(file)\n",
    "        sd = structuredefinition.StructureDefinition.parse_file(file)\n",
    "        print(sd.id, sd.url)\n",
    "\n",
    "    # process the object\n",
    "\n",
    "    # delete the SD and FSH files\n",
    "    !rm //Users/ehaas/Documents/Python/Jupyter/MyNotebooks/utils/test_files/my-project/input/fsh/*\n",
    "    !rm -rf /Users/ehaas/Documents/Python/Jupyter/MyNotebooks/utils/test_files/my-project/input/fsh-generated/*\n"
   ]
  }
 ],
 "metadata": {
  "kernelspec": {
   "display_name": "Python 3.10.2 64-bit ('jupyter')",
   "language": "python",
   "name": "python3"
  },
  "language_info": {
   "codemirror_mode": {
    "name": "ipython",
    "version": 3
   },
   "file_extension": ".py",
   "mimetype": "text/x-python",
   "name": "python",
   "nbconvert_exporter": "python",
   "pygments_lexer": "ipython3",
   "version": "3.10.2"
  },
  "orig_nbformat": 4,
  "vscode": {
   "interpreter": {
    "hash": "18672f2fb81dcbb023a0ac48a86c775a19488782369d96ffbd3382a22fd285cf"
   }
  }
 },
 "nbformat": 4,
 "nbformat_minor": 2
}
