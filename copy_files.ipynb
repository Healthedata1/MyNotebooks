{
 "cells": [
  {
   "cell_type": "markdown",
   "metadata": {},
   "source": [
    "#### move files around"
   ]
  },
  {
   "cell_type": "code",
   "execution_count": 2,
   "metadata": {},
   "outputs": [],
   "source": [
    "import shutil, os\n",
    "\n",
    "\n",
    "out_path = '/Users/ehaas/Documents/FHIR/US-Core-R4/source/includes_archive'\n",
    "in_path = '/Users/ehaas/Documents/FHIR/US-Core-R4/source/pages/_includes'\n",
    "\n",
    "endings =['-search.md',\n",
    "'-summary.md',\n",
    "'-intro.md',\n",
    " ]"
   ]
  },
  {
   "cell_type": "markdown",
   "metadata": {},
   "source": [
    "### Get files names"
   ]
  },
  {
   "cell_type": "code",
   "execution_count": 6,
   "metadata": {},
   "outputs": [
    {
     "data": {
      "text/plain": [
       "['us-core-birthsex-summary.md',\n",
       " 'us-core-observationresults-summary.md',\n",
       " 'us-core-medicationrequest-summary.md',\n",
       " 'us-core-practitioner-summary.md',\n",
       " 'us-core-patient-summary.md',\n",
       " 'us-core-pediatric-bmi-summary.md',\n",
       " 'new-us-core-documentreference-summary.md',\n",
       " 'us-core-goal-summary.md',\n",
       " 'us-core-ethnicity-summary.md',\n",
       " 'us-core-profile-link-summary.md',\n",
       " 'us-core-documentreference-summary.md',\n",
       " 'new-us-core-diagnosticreport-summary.md',\n",
       " 'us-core-practitionerrole-summary.md',\n",
       " 'us-core-procedure-summary.md',\n",
       " 'us-core-encounter-summary.md',\n",
       " 'us-core-diagnosticreport-summary.md',\n",
       " 'us-core-careplan-summary.md',\n",
       " 'us-core-medicationstatement-summary.md',\n",
       " 'us-core-device-summary.md',\n",
       " 'us-core-organization-summary.md',\n",
       " 'us-core-condition-summary.md',\n",
       " 'us-core-allergyintolerance-summary.md',\n",
       " 'us-core-location-summary.md',\n",
       " 'us-core-race-summary.md',\n",
       " 'us-core-careteam-summary.md',\n",
       " 'us-core-medication-summary.md',\n",
       " 'us-core-immunization-summary.md',\n",
       " 'us-core-pediatric-weight-summary.md',\n",
       " 'us-core-inspired-oxygen-summary.md',\n",
       " 'us-core-smokingstatus-summary.md',\n",
       " 'us-core-direct-summary.md']"
      ]
     },
     "execution_count": 6,
     "metadata": {},
     "output_type": "execute_result"
    }
   ],
   "source": [
    "files = [x for x in os.listdir(in_path) if x.endswith(endings[1])]\n",
    "files"
   ]
  },
  {
   "cell_type": "markdown",
   "metadata": {},
   "source": [
    "### Using shutil to copy file to new directory"
   ]
  },
  {
   "cell_type": "code",
   "execution_count": 8,
   "metadata": {},
   "outputs": [],
   "source": [
    "#os.mkdir('my_new_folder')\n",
    "for f in files:\n",
    "    shutil.copy(f'{in_path}/{f}', out_path)  #shutil.copy(source, destination)"
   ]
  },
  {
   "cell_type": "code",
   "execution_count": 9,
   "metadata": {},
   "outputs": [
    {
     "data": {
      "text/plain": [
       "['us-core-birthsex-summary.md',\n",
       " 'us-core-observationresults-summary.md',\n",
       " 'us-core-medicationrequest-summary.md',\n",
       " 'us-core-practitioner-summary.md',\n",
       " 'us-core-patient-summary.md',\n",
       " 'us-core-pediatric-bmi-summary.md',\n",
       " 'new-us-core-documentreference-summary.md',\n",
       " 'us-core-goal-summary.md',\n",
       " 'us-core-ethnicity-summary.md',\n",
       " 'us-core-profile-link-summary.md',\n",
       " 'us-core-documentreference-summary.md',\n",
       " 'new-us-core-diagnosticreport-summary.md',\n",
       " 'us-core-practitionerrole-summary.md',\n",
       " 'us-core-procedure-summary.md',\n",
       " 'us-core-encounter-summary.md',\n",
       " 'us-core-diagnosticreport-summary.md',\n",
       " 'us-core-careplan-summary.md',\n",
       " 'us-core-medicationstatement-summary.md',\n",
       " 'us-core-device-summary.md',\n",
       " 'us-core-organization-summary.md',\n",
       " 'us-core-condition-summary.md',\n",
       " 'us-core-allergyintolerance-summary.md',\n",
       " 'us-core-location-summary.md',\n",
       " 'us-core-race-summary.md',\n",
       " 'us-core-careteam-summary.md',\n",
       " 'us-core-medication-summary.md',\n",
       " 'us-core-immunization-summary.md',\n",
       " 'us-core-pediatric-weight-summary.md',\n",
       " 'us-core-inspired-oxygen-summary.md',\n",
       " 'us-core-smokingstatus-summary.md',\n",
       " 'us-core-direct-summary.md']"
      ]
     },
     "execution_count": 9,
     "metadata": {},
     "output_type": "execute_result"
    }
   ],
   "source": [
    "files = [x for x in os.listdir(out_path) if x.endswith(endings[1])]\n",
    "files"
   ]
  }
 ],
 "metadata": {
  "kernelspec": {
   "display_name": "Python 3",
   "language": "python",
   "name": "python3"
  },
  "language_info": {
   "codemirror_mode": {
    "name": "ipython",
    "version": 3
   },
   "file_extension": ".py",
   "mimetype": "text/x-python",
   "name": "python",
   "nbconvert_exporter": "python",
   "pygments_lexer": "ipython3",
   "version": "3.7.3"
  }
 },
 "nbformat": 4,
 "nbformat_minor": 2
}
