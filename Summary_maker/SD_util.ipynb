{
 "cells": [
  {
   "cell_type": "markdown",
   "metadata": {},
   "source": [
    "**Don't know what this is used for - may be an early version**\n",
    "## Make Profile summaries using Jinja2 and Python Modele\n",
    "\n",
    "*USE Python 3.7 to maintain order of Json files*\n",
    "\n",
    "- Fetch SD file from IG\n",
    "- Spec_internals from IG Package.tgz\n",
    "- Create and use import Title map from ?Package?\n",
    "- Transform to Python model\n",
    "- use Jinja2 template to create a summary markdown file\n",
    "- save markdown file\n",
    "\n",
    "\n",
    "\n",
    "*Note need a successful build to generate since based on ig output local file\n",
    "alternatively use package.files to generate*"
   ]
  },
  {
   "cell_type": "markdown",
   "metadata": {},
   "source": [
    "### import python modules including R4 fhirclient models"
   ]
  },
  {
   "cell_type": "code",
   "execution_count": null,
   "metadata": {},
   "outputs": [],
   "source": [
    "from fhirclient.r4models import structuredefinition as SD\n",
    "from fhirclient.r4models import narrative as N\n",
    "from fhirclient.r4models import valueset as VS\n",
    "import fhirclient.r4models.identifier as I\n",
    "import fhirclient.r4models.coding as C\n",
    "import fhirclient.r4models.codeableconcept as CC\n",
    "import fhirclient.r4models.fhirdate as D\n",
    "import fhirclient.r4models.extension as X\n",
    "import fhirclient.r4models.contactdetail as CD\n",
    "import fhirclient.r4models.fhirreference as FR\n",
    "from json import dumps, loads, load\n",
    "from pprint import pprint\n",
    "from jinja2 import Environment, FileSystemLoader, select_autoescape\n",
    "from commonmark import commonmark\n",
    "from IPython.display import display, HTML, Markdown\n",
    "import title_map as tm\n",
    "import os\n",
    "from stringcase import snakecase, titlecase"
   ]
  },
  {
   "cell_type": "markdown",
   "metadata": {},
   "source": [
    "### Get file and return as dict"
   ]
  },
  {
   "cell_type": "code",
   "execution_count": null,
   "metadata": {},
   "outputs": [],
   "source": [
    "\n",
    "def open_file(in_path, f_name): # get files\n",
    "    with open(f'{in_path}/{f_name}', encoding=\"utf8\") as f:\n",
    "        r = f.read()\n",
    "        return(loads(r))\n",
    "   "
   ]
  },
  {
   "cell_type": "markdown",
   "metadata": {},
   "source": [
    "### Write to file"
   ]
  },
  {
   "cell_type": "code",
   "execution_count": null,
   "metadata": {},
   "outputs": [],
   "source": [
    "def write_file(f_name, data): # write file\n",
    "    #path = ''\n",
    "    path = '/Users/ehaas/Documents/FHIR/US-Core-R4/source/pages/_includes'\n",
    "    with open(os.path.join(path,f_name), 'w') as f:\n",
    "        f.write(data)"
   ]
  },
  {
   "cell_type": "markdown",
   "metadata": {},
   "source": [
    "### Get spec_internal from package.tgz a json file which includes canonical to local relative page links"
   ]
  },
  {
   "cell_type": "code",
   "execution_count": null,
   "metadata": {},
   "outputs": [],
   "source": [
    "import tarfile\n",
    "from pprint import pprint\n",
    "def get_si(path):\n",
    "    with tarfile.open(name=os.path.join(path,'package.tgz'), mode='r') as tf:\n",
    "        #pprint(tf.getnames())\n",
    "        f = tf.extractfile('other/spec.internals')\n",
    "        r = f.read()\n",
    "        return(loads(r))\n",
    "        \n",
    "\n",
    "si = get_si(in_path)\n",
    "path_map = si['paths']\n",
    "\n",
    "c = 'http://hl7.org/fhir/us/core/ValueSet/birthsex'\n",
    "\n",
    "\n",
    "path_map[c]"
   ]
  },
  {
   "cell_type": "markdown",
   "metadata": {},
   "source": [
    "### Loop through profiles"
   ]
  },
  {
   "cell_type": "code",
   "execution_count": null,
   "metadata": {},
   "outputs": [],
   "source": [
    "#in_path = '/Users/ehaas/Documents/FHIR/US-Core-R4/output/StructureDefinition-'\n",
    "#f_name = 'us-core-patient'\n",
    "#in_path = '/Users/ehaas/.fhir/packages/hl7.fhir.us.core.r4#dev/package/' # package file keeps disappearing\n",
    "in_path = '//ERICS-AIR-2/ehaas/Documents/FHIR/US-Core-R4/output'  # use local build dir.\n",
    "files = [x for x in os.listdir(in_path) if x.startswith(\"StructureDefinition\") and x.endswith('json')]\n",
    "files"
   ]
  },
  {
   "cell_type": "code",
   "execution_count": null,
   "metadata": {},
   "outputs": [],
   "source": [
    "summ_elements =[\n",
    "       'label',\n",
    "       'short',\n",
    "       'min',\n",
    "       'max',\n",
    "       'type',\n",
    "       'binding',\n",
    "        ]\n",
    "\n",
    "choice_types = {'valueQuantity': 'value[x]',\n",
    "                'valueCodeableConcept': 'value[x]',\n",
    "                'valueString': 'value[x]',\n",
    "                'valueInteger': 'value[x]',\n",
    "                'valueDecimal': 'value[x]',\n",
    "                'valueDateTime': 'value[x]',\n",
    "                'valueRange': 'value[x]',\n",
    "                'valuePeriod': 'value[x]',\n",
    "                'effectivedateTime': 'effective[x]',\n",
    "                'effectivePeriod': 'effective[x]',\n",
    "               } "
   ]
  },
  {
   "cell_type": "code",
   "execution_count": null,
   "metadata": {},
   "outputs": [],
   "source": [
    "for i in files:\n",
    "    constraints = {}\n",
    "    sd_dict = open_file(in_path,i)\n",
    "    sd = SD.StructureDefinition(sd_dict)\n",
    "    profile_id = sd.id\n",
    "    if sd.type != 'Extension':\n",
    "        print(f'{sd.url}\\t{sd.title}\\tSHALL\\t{sd.type}')"
   ]
  },
  {
   "cell_type": "code",
   "execution_count": null,
   "metadata": {},
   "outputs": [],
   "source": [
    "    #print(f'========{profile_id}=======')\n",
    "    for i in sd.differential.element:\n",
    "        path = i.path\n",
    "        #print(f'====Path = {path} =====')\n",
    "        # GET Invariant Dict  path: human readable invariant list.\n",
    "        try:\n",
    "            k = next((k for k in sd.snapshot.element if k.path == path))\n",
    "            constraint = [j.human for j in k.constraint if 'dom-' not in j.key and 'ele-' not in j.key  and 'ext-' not in j.key]\n",
    "        except TypeError:\n",
    "            constraint = []\n",
    "        except StopIteration:\n",
    "            constraint = []\n",
    "        if constraint:\n",
    "            constraints[path]=constraint         \n",
    "\n",
    "        for k in summ_elements:\n",
    "            #print(f'differential = {path}.{k} = {getattr(i,k)}')\n",
    "            if getattr(i,k) == None:\n",
    "                try:\n",
    "                    snap_element = (s for s in sd.snapshot.element if s.path == path)           \n",
    "                    new_val = getattr(next(snap_element),k)\n",
    "                    #print(f'snapshot = {path}.{k} = {new_val}')\n",
    "                    setattr(i,k,new_val)\n",
    "                except StopIteration: # assume is an choice data type\n",
    "                    print(f'no snapshot element for {path}.{k} = {getattr(i,k)} assume is an choice data type')\n",
    "                    new_plist = []\n",
    "                    for p in path.split('.'):\n",
    "                        try:\n",
    "                            new_plist.append(choice_types[p])\n",
    "                        except KeyError:\n",
    "                            new_plist.append(p)\n",
    "                    new_path = '.'.join(new_plist)\n",
    "                    print(path,new_path)\n",
    "                    snap_element = (s for s in sd.snapshot.element if s.path == new_path)           \n",
    "                    new_val = getattr(next(snap_element),k)\n",
    "                    #print(f'snapshot = {path}.{k} = {new_val}')\n",
    "                    setattr(i,k,new_val)\n",
    "            #print(f'differential post if = {path}.{k} = {getattr(i,k)}')\n",
    "    summ_file = get_summary(profile_id,sd.differential.element,constraints)\n",
    "    summ_file = os.linesep.join([s for s in summ_file.splitlines() if s]) # remove empty lines\n",
    "    summ_file = summ_file.replace('####', '\\n####')  #add a line before Must Supports\n",
    "    \n",
    "\n",
    "    f_name = f'{profile_id}-summary.md'\n",
    "    write_file(f_name,summ_file)    "
   ]
  },
  {
   "cell_type": "code",
   "execution_count": null,
   "metadata": {},
   "outputs": [],
   "source": []
  }
 ],
 "metadata": {
  "kernelspec": {
   "display_name": "Python 3",
   "language": "python",
   "name": "python3"
  },
  "language_info": {
   "codemirror_mode": {
    "name": "ipython",
    "version": 3
   },
   "file_extension": ".py",
   "mimetype": "text/x-python",
   "name": "python",
   "nbconvert_exporter": "python",
   "pygments_lexer": "ipython3",
   "version": "3.7.1"
  }
 },
 "nbformat": 4,
 "nbformat_minor": 2
}
