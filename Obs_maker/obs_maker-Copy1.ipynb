{
 "cells": [
  {
   "cell_type": "markdown",
   "metadata": {},
   "source": [
    "## Observation Maker from QR\n",
    "\n",
    "1.  Enter source data in QR file to simulate patient generated  observations\n",
    "\n",
    "\n",
    "Patient use existing US Core patient:\n",
    "\n",
    "- Add example name and description\n",
    "- Validate\n",
    "- Save"
   ]
  },
  {
   "cell_type": "code",
   "execution_count": 1,
   "metadata": {},
   "outputs": [
    {
     "name": "stdout",
     "output_type": "stream",
     "text": [
      "/Users/ehaas/Documents/Python/MyNotebooks/Obs_maker\n"
     ]
    }
   ],
   "source": [
    "%cd '/Users/ehaas/Documents/Python/MyNotebooks/Obs_maker'"
   ]
  },
  {
   "cell_type": "code",
   "execution_count": 2,
   "metadata": {},
   "outputs": [],
   "source": [
    "from fhir.resources.observation import Observation\n",
    "from fhir.resources.questionnaireresponse import QuestionnaireResponse\n",
    "from fhir.resources.quantity import Quantity\n",
    "from fhir.resources import construct_fhir_element\n",
    "from pathlib import Path\n",
    "from datetime import datetime, date, timezone, timedelta\n",
    "from stringcase import snakecase, titlecase, spinalcase\n",
    "from requests import post\n",
    "from IPython.display import display as Display, HTML\n",
    "\n",
    "timezone_offset = -8.0  # Pacific Standard Time (UTC−08:00)\n",
    "tzinfo = timezone(timedelta(hours=timezone_offset))\n",
    "f_now = datetime.now(tzinfo)\n",
    "\n",
    "#ig_source_path = 'examples'\n",
    "ig_source_path = '/Users/ehaas/Documents/FHIR/US-Core-R4/input/examples'"
   ]
  },
  {
   "cell_type": "markdown",
   "metadata": {},
   "source": [
    "### Write to file Function"
   ]
  },
  {
   "cell_type": "code",
   "execution_count": 3,
   "metadata": {},
   "outputs": [],
   "source": [
    "def write(obs_obj):\n",
    "\n",
    "    path = Path.cwd() / ig_source_path / f'{obs_obj.id}.json'   \n",
    "    print(f'...........saving to file {path}............')\n",
    "    path.write_text(obs_obj.json(indent=2))"
   ]
  },
  {
   "cell_type": "markdown",
   "metadata": {},
   "source": [
    "### Validate  Function"
   ]
  },
  {
   "cell_type": "code",
   "execution_count": 4,
   "metadata": {},
   "outputs": [],
   "source": [
    "def validate(data):\n",
    "    \n",
    "    print('...validating')\n",
    "\n",
    "    fhir_test_server = 'http://test.fhir.org/r4'\n",
    "    #fhir_test_server = 'http://hapi.fhir.org/baseR4'\n",
    "    fhir_test_server = 'http://wildfhir4.aegis.net/fhir4-0-1'\n",
    "    \n",
    "    headers = {\n",
    "    'Accept':'application/fhir+json',\n",
    "    'Content-Type':'application/fhir+json'\n",
    "    }\n",
    "    r = post(f'{fhir_test_server}/Observation/$validate', headers = headers, data = data)\n",
    "    r.status_code, r.json()\n",
    "    Display(HTML(f'<h1>Validation output</h1><h3>Status Code = {r.status_code}</h3> {r.json()[\"text\"][\"div\"]}'))"
   ]
  },
  {
   "cell_type": "markdown",
   "metadata": {},
   "source": [
    "###  Import completed QR YAML file"
   ]
  },
  {
   "cell_type": "code",
   "execution_count": 6,
   "metadata": {},
   "outputs": [
    {
     "name": "stdout",
     "output_type": "stream",
     "text": [
      "resourceType: QuestionnaireResponse\n",
      "id: '5770426'\n",
      "meta:\n",
      "  versionId: '1'\n",
      "  lastUpdated: 2021-11-10 22:02:19-05:00\n",
      "  source: '#UgU1K2o2WfbL2QDl'\n",
      "  profile:\n",
      "  - http://hl7.org/fhir/uv/sdc/StructureDefinition/sdc-questionnaireresponse|2.7\n",
      "  tag:\n",
      "  - code: 'lformsVersion: 29.1.0'\n",
      "questionnaire: Questionnaire/5770424\n",
      "status: completed\n",
      "subject:\n",
      "  reference: Patient/pat-12346\n",
      "  display: LEIGH AMIN\n",
      "authored: 2021-11-11 03:02:15.888000+00:00\n",
      "item:\n",
      "- linkId: /80954-1\n",
      "  text: DXA Femur-L ArMass BMD\n",
      "  answer:\n",
      "  - valueDecimal: 0.631\n",
      "- linkId: /80948-3\n",
      "  text: DXA Femur-L T-score BMD\n",
      "  answer:\n",
      "  - valueDecimal: -1.48\n",
      "- linkId: /80940-0\n",
      "  text: DXA Femur-L Z-score BMD\n",
      "  answer:\n",
      "  - valueDecimal: 0.05\n",
      "- linkId: /46278-8\n",
      "  text: DXA Hip-L ArMass BMD\n",
      "  answer:\n",
      "  - valueDecimal: 0.734\n",
      "- linkId: /80946-7\n",
      "  text: DXA Hip-L T-score BMD\n",
      "  answer:\n",
      "  - valueDecimal: -1.62\n",
      "- linkId: /80938-4\n",
      "  text: DXA Hip-L Z-score BMD\n",
      "  answer:\n",
      "  - valueDecimal: -0.19\n",
      "\n"
     ]
    }
   ],
   "source": [
    "qr = 'bone_qr' #'cardio_qr' #\"Observation_wt.yml\")\n",
    "qr_obj = QuestionnaireResponse.parse_file(f\"source_data/{qr}.yml\")\n",
    "print(qr_obj.yaml())"
   ]
  },
  {
   "cell_type": "markdown",
   "metadata": {},
   "source": [
    "###  Import from YAML file Observation template and fill in with QR values"
   ]
  },
  {
   "cell_type": "code",
   "execution_count": 9,
   "metadata": {},
   "outputs": [
    {
     "name": "stdout",
     "output_type": "stream",
     "text": [
      "resourceType: Observation\n",
      "id: pulse-intensity-palpation\n",
      "meta:\n",
      "  extension:\n",
      "  - url: http://hl7.org/fhir/StructureDefinition/instance-name\n",
      "    valueString: Pulse intensity Palpation Example\n",
      "  - url: http://hl7.org/fhir/StructureDefinition/instance-description\n",
      "    valueMarkdown: This is a Pulse intensity Palpation Example for the *Clinical Test\n",
      "      Result Observation Profile*.\n",
      "  profile:\n",
      "  - http://hl7.org/fhir/us/core/StructureDefinition/us-core-observation-clinical-test\n",
      "status: final\n",
      "category:\n",
      "- coding:\n",
      "  - system: http://terminology.hl7.org/CodeSystem/observation-category\n",
      "    code: exam\n",
      "    display: Exam\n",
      "  text: Exam\n",
      "code:\n",
      "  coding:\n",
      "  - system: http://loinc.org\n",
      "    code: 44974-4\n",
      "    display: Pulse intensity Palpation\n",
      "  text: Pulse intensity Palpation\n",
      "subject:\n",
      "  reference: Patient/example\n",
      "  display: Amy Shaw\n",
      "encounter:\n",
      "  display: Bone Scan\n",
      "effectiveDateTime: 2021-11-10\n",
      "valueCodeableConcept:\n",
      "  coding:\n",
      "  - system: http://loinc.org\n",
      "    code: LA11841-6\n",
      "    display: 1+\n",
      "  text: 1+\n",
      "\n",
      "DXA Femur-L ArMass BMD dxa-femur-l-armass-bmd\n"
     ]
    },
    {
     "name": "stdin",
     "output_type": "stream",
     "text": [
      "What category is DXA Femur-L ArMass BMD?  exam|procedure|activity|imaging? imaging\n",
      "What is the unit for DXA Femur-L ArMass BMD? s|ms? g/cm2\n",
      "is this a score Y/N ? n\n"
     ]
    },
    {
     "name": "stdout",
     "output_type": "stream",
     "text": [
      "value: 0.631\n",
      "unit: g/cm2\n",
      "system: http://unitsofmeasure.org\n",
      "code: g/cm2\n",
      "\n",
      "resourceType: Observation\n",
      "id: dxa-femur-l-armass-bmd\n",
      "meta:\n",
      "  extension:\n",
      "  - url: http://hl7.org/fhir/StructureDefinition/instance-name\n",
      "    valueString: DXA Femur-L ArMass BMD Example\n",
      "  - url: http://hl7.org/fhir/StructureDefinition/instance-description\n",
      "    valueMarkdown: This is a DXA Femur-L ArMass BMD Example for the *Clinical Test\n",
      "      Result Observation Profile*.\n",
      "  profile:\n",
      "  - http://hl7.org/fhir/us/core/StructureDefinition/us-core-observation-clinical-test\n",
      "status: final\n",
      "category:\n",
      "- coding:\n",
      "  - system: http://terminology.hl7.org/CodeSystem/observation-category\n",
      "    code: imaging\n",
      "    display: Imaging\n",
      "  text: Imaging\n",
      "code:\n",
      "  coding:\n",
      "  - system: http://loinc.org\n",
      "    code: 80954-1\n",
      "    display: DXA Femur-L ArMass BMD\n",
      "  text: DXA Femur-L ArMass BMD\n",
      "subject:\n",
      "  reference: Patient/example\n",
      "  display: Amy Shaw\n",
      "encounter:\n",
      "  display: Bone Scan\n",
      "effectiveDateTime: 2021-11-10 19:14:41.088720-08:00\n",
      "valueQuantity:\n",
      "  value: 0.631\n",
      "  unit: g/cm2\n",
      "  system: http://unitsofmeasure.org\n",
      "  code: g/cm2\n",
      "\n",
      "...validating\n"
     ]
    },
    {
     "data": {
      "text/html": [
       "<h1>Validation output</h1><h3>Status Code = 200</h3> <div xmlns=\"http://www.w3.org/1999/xhtml\"><table class=\"grid\"><tr><td><b>Severity</b></td><td><b>Location</b></td><td><b>Code</b></td><td><b>Details</b></td><td><b>Diagnostics</b></td><td><b>Source</b></td></tr><tr><td>INFORMATION</td><td>Observation.meta.extension[1] (line 1, col 194), Observation.meta.extension[1] (line 1, col 194)</td><td>Structural Issue</td><td>Unknown extension http://hl7.org/fhir/StructureDefinition/instance-description</td><td/><td>InstanceValidator</td></tr><tr><td>INFORMATION</td><td>Observation.meta.extension[0] (line 1, col 83), Observation.meta.extension[0] (line 1, col 83)</td><td>Structural Issue</td><td>Unknown extension http://hl7.org/fhir/StructureDefinition/instance-name</td><td/><td>InstanceValidator</td></tr><tr><td>WARNING</td><td>Observation.meta.profile[0] (line 1, col 2), Observation.meta.profile[0] (line 1, col 2)</td><td>Structural Issue</td><td>StructureDefinition reference &quot;http://hl7.org/fhir/us/core/StructureDefinition/us-core-observation-clinical-test&quot; could not be resolved</td><td/><td>InstanceValidator</td></tr><tr><td>WARNING</td><td>Observation (line 1, col 2), Observation (line 1, col 2)</td><td>Validation rule failed</td><td>A resource should have narrative for robust management [text.div.exists()]</td><td/><td>InstanceValidator</td></tr></table></div>"
      ],
      "text/plain": [
       "<IPython.core.display.HTML object>"
      ]
     },
     "metadata": {},
     "output_type": "display_data"
    },
    {
     "name": "stdout",
     "output_type": "stream",
     "text": [
      "...........saving to file /Users/ehaas/Documents/FHIR/US-Core-R4/input/examples/dxa-femur-l-armass-bmd.json............\n",
      "resourceType: Observation\n",
      "id: pulse-intensity-palpation\n",
      "meta:\n",
      "  extension:\n",
      "  - url: http://hl7.org/fhir/StructureDefinition/instance-name\n",
      "    valueString: Pulse intensity Palpation Example\n",
      "  - url: http://hl7.org/fhir/StructureDefinition/instance-description\n",
      "    valueMarkdown: This is a Pulse intensity Palpation Example for the *Clinical Test\n",
      "      Result Observation Profile*.\n",
      "  profile:\n",
      "  - http://hl7.org/fhir/us/core/StructureDefinition/us-core-observation-clinical-test\n",
      "status: final\n",
      "category:\n",
      "- coding:\n",
      "  - system: http://terminology.hl7.org/CodeSystem/observation-category\n",
      "    code: exam\n",
      "    display: Exam\n",
      "  text: Exam\n",
      "code:\n",
      "  coding:\n",
      "  - system: http://loinc.org\n",
      "    code: 44974-4\n",
      "    display: Pulse intensity Palpation\n",
      "  text: Pulse intensity Palpation\n",
      "subject:\n",
      "  reference: Patient/example\n",
      "  display: Amy Shaw\n",
      "encounter:\n",
      "  display: Bone Scan\n",
      "effectiveDateTime: 2021-11-10\n",
      "valueCodeableConcept:\n",
      "  coding:\n",
      "  - system: http://loinc.org\n",
      "    code: LA11841-6\n",
      "    display: 1+\n",
      "  text: 1+\n",
      "\n",
      "DXA Femur-L T-score BMD dxa-femur-l-t-score-bmd\n"
     ]
    },
    {
     "name": "stdin",
     "output_type": "stream",
     "text": [
      "What category is DXA Femur-L T-score BMD?  exam|procedure|activity|imaging? imaging\n",
      "What is the unit for DXA Femur-L T-score BMD? s|ms? T-Score\n",
      "is this a score Y/N ? Y\n"
     ]
    },
    {
     "name": "stdout",
     "output_type": "stream",
     "text": [
      "value: -1.48\n",
      "unit: T-Score\n",
      "system: http://unitsofmeasure.org\n",
      "code: '{T-Score}'\n",
      "\n",
      "resourceType: Observation\n",
      "id: dxa-femur-l-t-score-bmd\n",
      "meta:\n",
      "  extension:\n",
      "  - url: http://hl7.org/fhir/StructureDefinition/instance-name\n",
      "    valueString: DXA Femur-L T-score BMD Example\n",
      "  - url: http://hl7.org/fhir/StructureDefinition/instance-description\n",
      "    valueMarkdown: This is a DXA Femur-L T-score BMD Example for the *Clinical Test\n",
      "      Result Observation Profile*.\n",
      "  profile:\n",
      "  - http://hl7.org/fhir/us/core/StructureDefinition/us-core-observation-clinical-test\n",
      "status: final\n",
      "category:\n",
      "- coding:\n",
      "  - system: http://terminology.hl7.org/CodeSystem/observation-category\n",
      "    code: imaging\n",
      "    display: Imaging\n",
      "  text: Imaging\n",
      "code:\n",
      "  coding:\n",
      "  - system: http://loinc.org\n",
      "    code: 80948-3\n",
      "    display: DXA Femur-L T-score BMD\n",
      "  text: DXA Femur-L T-score BMD\n",
      "subject:\n",
      "  reference: Patient/example\n",
      "  display: Amy Shaw\n",
      "encounter:\n",
      "  display: Bone Scan\n",
      "effectiveDateTime: 2021-11-10 19:14:41.088720-08:00\n",
      "valueQuantity:\n",
      "  value: -1.48\n",
      "  unit: T-Score\n",
      "  system: http://unitsofmeasure.org\n",
      "  code: '{T-Score}'\n",
      "\n",
      "...validating\n"
     ]
    },
    {
     "data": {
      "text/html": [
       "<h1>Validation output</h1><h3>Status Code = 200</h3> <div xmlns=\"http://www.w3.org/1999/xhtml\"><table class=\"grid\"><tr><td><b>Severity</b></td><td><b>Location</b></td><td><b>Code</b></td><td><b>Details</b></td><td><b>Diagnostics</b></td><td><b>Source</b></td></tr><tr><td>INFORMATION</td><td>Observation.meta.extension[1] (line 1, col 196), Observation.meta.extension[1] (line 1, col 196)</td><td>Structural Issue</td><td>Unknown extension http://hl7.org/fhir/StructureDefinition/instance-description</td><td/><td>InstanceValidator</td></tr><tr><td>INFORMATION</td><td>Observation.meta.extension[0] (line 1, col 84), Observation.meta.extension[0] (line 1, col 84)</td><td>Structural Issue</td><td>Unknown extension http://hl7.org/fhir/StructureDefinition/instance-name</td><td/><td>InstanceValidator</td></tr><tr><td>WARNING</td><td>Observation.meta.profile[0] (line 1, col 2), Observation.meta.profile[0] (line 1, col 2)</td><td>Structural Issue</td><td>StructureDefinition reference &quot;http://hl7.org/fhir/us/core/StructureDefinition/us-core-observation-clinical-test&quot; could not be resolved</td><td/><td>InstanceValidator</td></tr><tr><td>WARNING</td><td>Observation (line 1, col 2), Observation (line 1, col 2)</td><td>Validation rule failed</td><td>A resource should have narrative for robust management [text.div.exists()]</td><td/><td>InstanceValidator</td></tr></table></div>"
      ],
      "text/plain": [
       "<IPython.core.display.HTML object>"
      ]
     },
     "metadata": {},
     "output_type": "display_data"
    },
    {
     "name": "stdout",
     "output_type": "stream",
     "text": [
      "...........saving to file /Users/ehaas/Documents/FHIR/US-Core-R4/input/examples/dxa-femur-l-t-score-bmd.json............\n",
      "resourceType: Observation\n",
      "id: pulse-intensity-palpation\n",
      "meta:\n",
      "  extension:\n",
      "  - url: http://hl7.org/fhir/StructureDefinition/instance-name\n",
      "    valueString: Pulse intensity Palpation Example\n",
      "  - url: http://hl7.org/fhir/StructureDefinition/instance-description\n",
      "    valueMarkdown: This is a Pulse intensity Palpation Example for the *Clinical Test\n",
      "      Result Observation Profile*.\n",
      "  profile:\n",
      "  - http://hl7.org/fhir/us/core/StructureDefinition/us-core-observation-clinical-test\n",
      "status: final\n",
      "category:\n",
      "- coding:\n",
      "  - system: http://terminology.hl7.org/CodeSystem/observation-category\n",
      "    code: exam\n",
      "    display: Exam\n",
      "  text: Exam\n",
      "code:\n",
      "  coding:\n",
      "  - system: http://loinc.org\n",
      "    code: 44974-4\n",
      "    display: Pulse intensity Palpation\n",
      "  text: Pulse intensity Palpation\n",
      "subject:\n",
      "  reference: Patient/example\n",
      "  display: Amy Shaw\n",
      "encounter:\n",
      "  display: Bone Scan\n",
      "effectiveDateTime: 2021-11-10\n",
      "valueCodeableConcept:\n",
      "  coding:\n",
      "  - system: http://loinc.org\n",
      "    code: LA11841-6\n",
      "    display: 1+\n",
      "  text: 1+\n",
      "\n",
      "DXA Femur-L Z-score BMD dxa-femur-l-z-score-bmd\n"
     ]
    },
    {
     "name": "stdin",
     "output_type": "stream",
     "text": [
      "What category is DXA Femur-L Z-score BMD?  exam|procedure|activity|imaging? imaging\n",
      "What is the unit for DXA Femur-L Z-score BMD? s|ms? Z-Score\n",
      "is this a score Y/N ? Y\n"
     ]
    },
    {
     "name": "stdout",
     "output_type": "stream",
     "text": [
      "value: 0.05\n",
      "unit: Z-Score\n",
      "system: http://unitsofmeasure.org\n",
      "code: '{Z-Score}'\n",
      "\n",
      "resourceType: Observation\n",
      "id: dxa-femur-l-z-score-bmd\n",
      "meta:\n",
      "  extension:\n",
      "  - url: http://hl7.org/fhir/StructureDefinition/instance-name\n",
      "    valueString: DXA Femur-L Z-score BMD Example\n",
      "  - url: http://hl7.org/fhir/StructureDefinition/instance-description\n",
      "    valueMarkdown: This is a DXA Femur-L Z-score BMD Example for the *Clinical Test\n",
      "      Result Observation Profile*.\n",
      "  profile:\n",
      "  - http://hl7.org/fhir/us/core/StructureDefinition/us-core-observation-clinical-test\n",
      "status: final\n",
      "category:\n",
      "- coding:\n",
      "  - system: http://terminology.hl7.org/CodeSystem/observation-category\n",
      "    code: imaging\n",
      "    display: Imaging\n",
      "  text: Imaging\n",
      "code:\n",
      "  coding:\n",
      "  - system: http://loinc.org\n",
      "    code: 80940-0\n",
      "    display: DXA Femur-L Z-score BMD\n",
      "  text: DXA Femur-L Z-score BMD\n",
      "subject:\n",
      "  reference: Patient/example\n",
      "  display: Amy Shaw\n",
      "encounter:\n",
      "  display: Bone Scan\n",
      "effectiveDateTime: 2021-11-10 19:14:41.088720-08:00\n",
      "valueQuantity:\n",
      "  value: 0.05\n",
      "  unit: Z-Score\n",
      "  system: http://unitsofmeasure.org\n",
      "  code: '{Z-Score}'\n",
      "\n",
      "...validating\n"
     ]
    },
    {
     "data": {
      "text/html": [
       "<h1>Validation output</h1><h3>Status Code = 200</h3> <div xmlns=\"http://www.w3.org/1999/xhtml\"><table class=\"grid\"><tr><td><b>Severity</b></td><td><b>Location</b></td><td><b>Code</b></td><td><b>Details</b></td><td><b>Diagnostics</b></td><td><b>Source</b></td></tr><tr><td>INFORMATION</td><td>Observation.meta.extension[1] (line 1, col 196), Observation.meta.extension[1] (line 1, col 196)</td><td>Structural Issue</td><td>Unknown extension http://hl7.org/fhir/StructureDefinition/instance-description</td><td/><td>InstanceValidator</td></tr><tr><td>INFORMATION</td><td>Observation.meta.extension[0] (line 1, col 84), Observation.meta.extension[0] (line 1, col 84)</td><td>Structural Issue</td><td>Unknown extension http://hl7.org/fhir/StructureDefinition/instance-name</td><td/><td>InstanceValidator</td></tr><tr><td>WARNING</td><td>Observation.meta.profile[0] (line 1, col 2), Observation.meta.profile[0] (line 1, col 2)</td><td>Structural Issue</td><td>StructureDefinition reference &quot;http://hl7.org/fhir/us/core/StructureDefinition/us-core-observation-clinical-test&quot; could not be resolved</td><td/><td>InstanceValidator</td></tr><tr><td>WARNING</td><td>Observation (line 1, col 2), Observation (line 1, col 2)</td><td>Validation rule failed</td><td>A resource should have narrative for robust management [text.div.exists()]</td><td/><td>InstanceValidator</td></tr></table></div>"
      ],
      "text/plain": [
       "<IPython.core.display.HTML object>"
      ]
     },
     "metadata": {},
     "output_type": "display_data"
    },
    {
     "name": "stdout",
     "output_type": "stream",
     "text": [
      "...........saving to file /Users/ehaas/Documents/FHIR/US-Core-R4/input/examples/dxa-femur-l-z-score-bmd.json............\n",
      "resourceType: Observation\n",
      "id: pulse-intensity-palpation\n",
      "meta:\n",
      "  extension:\n",
      "  - url: http://hl7.org/fhir/StructureDefinition/instance-name\n",
      "    valueString: Pulse intensity Palpation Example\n",
      "  - url: http://hl7.org/fhir/StructureDefinition/instance-description\n",
      "    valueMarkdown: This is a Pulse intensity Palpation Example for the *Clinical Test\n",
      "      Result Observation Profile*.\n",
      "  profile:\n",
      "  - http://hl7.org/fhir/us/core/StructureDefinition/us-core-observation-clinical-test\n",
      "status: final\n",
      "category:\n",
      "- coding:\n",
      "  - system: http://terminology.hl7.org/CodeSystem/observation-category\n",
      "    code: exam\n",
      "    display: Exam\n",
      "  text: Exam\n",
      "code:\n",
      "  coding:\n",
      "  - system: http://loinc.org\n",
      "    code: 44974-4\n",
      "    display: Pulse intensity Palpation\n",
      "  text: Pulse intensity Palpation\n",
      "subject:\n",
      "  reference: Patient/example\n",
      "  display: Amy Shaw\n",
      "encounter:\n",
      "  display: Bone Scan\n",
      "effectiveDateTime: 2021-11-10\n",
      "valueCodeableConcept:\n",
      "  coding:\n",
      "  - system: http://loinc.org\n",
      "    code: LA11841-6\n",
      "    display: 1+\n",
      "  text: 1+\n",
      "\n",
      "DXA Hip-L ArMass BMD dxa-hip-l-armass-bmd\n"
     ]
    },
    {
     "name": "stdin",
     "output_type": "stream",
     "text": [
      "What category is DXA Hip-L ArMass BMD?  exam|procedure|activity|imaging? imaging\n",
      "What is the unit for DXA Hip-L ArMass BMD? s|ms? g/cm2\n",
      "is this a score Y/N ? n\n"
     ]
    },
    {
     "name": "stdout",
     "output_type": "stream",
     "text": [
      "value: 0.734\n",
      "unit: g/cm2\n",
      "system: http://unitsofmeasure.org\n",
      "code: g/cm2\n",
      "\n",
      "resourceType: Observation\n",
      "id: dxa-hip-l-armass-bmd\n",
      "meta:\n",
      "  extension:\n",
      "  - url: http://hl7.org/fhir/StructureDefinition/instance-name\n",
      "    valueString: DXA Hip-L ArMass BMD Example\n",
      "  - url: http://hl7.org/fhir/StructureDefinition/instance-description\n",
      "    valueMarkdown: This is a DXA Hip-L ArMass BMD Example for the *Clinical Test Result\n",
      "      Observation Profile*.\n",
      "  profile:\n",
      "  - http://hl7.org/fhir/us/core/StructureDefinition/us-core-observation-clinical-test\n",
      "status: final\n",
      "category:\n",
      "- coding:\n",
      "  - system: http://terminology.hl7.org/CodeSystem/observation-category\n",
      "    code: imaging\n",
      "    display: Imaging\n",
      "  text: Imaging\n",
      "code:\n",
      "  coding:\n",
      "  - system: http://loinc.org\n",
      "    code: 46278-8\n",
      "    display: DXA Hip-L ArMass BMD\n",
      "  text: DXA Hip-L ArMass BMD\n",
      "subject:\n",
      "  reference: Patient/example\n",
      "  display: Amy Shaw\n",
      "encounter:\n",
      "  display: Bone Scan\n",
      "effectiveDateTime: 2021-11-10 19:14:41.088720-08:00\n",
      "valueQuantity:\n",
      "  value: 0.734\n",
      "  unit: g/cm2\n",
      "  system: http://unitsofmeasure.org\n",
      "  code: g/cm2\n",
      "\n",
      "...validating\n"
     ]
    },
    {
     "data": {
      "text/html": [
       "<h1>Validation output</h1><h3>Status Code = 200</h3> <div xmlns=\"http://www.w3.org/1999/xhtml\"><table class=\"grid\"><tr><td><b>Severity</b></td><td><b>Location</b></td><td><b>Code</b></td><td><b>Details</b></td><td><b>Diagnostics</b></td><td><b>Source</b></td></tr><tr><td>INFORMATION</td><td>Observation.meta.extension[1] (line 1, col 190), Observation.meta.extension[1] (line 1, col 190)</td><td>Structural Issue</td><td>Unknown extension http://hl7.org/fhir/StructureDefinition/instance-description</td><td/><td>InstanceValidator</td></tr><tr><td>INFORMATION</td><td>Observation.meta.extension[0] (line 1, col 81), Observation.meta.extension[0] (line 1, col 81)</td><td>Structural Issue</td><td>Unknown extension http://hl7.org/fhir/StructureDefinition/instance-name</td><td/><td>InstanceValidator</td></tr><tr><td>WARNING</td><td>Observation.meta.profile[0] (line 1, col 2), Observation.meta.profile[0] (line 1, col 2)</td><td>Structural Issue</td><td>StructureDefinition reference &quot;http://hl7.org/fhir/us/core/StructureDefinition/us-core-observation-clinical-test&quot; could not be resolved</td><td/><td>InstanceValidator</td></tr><tr><td>WARNING</td><td>Observation (line 1, col 2), Observation (line 1, col 2)</td><td>Validation rule failed</td><td>A resource should have narrative for robust management [text.div.exists()]</td><td/><td>InstanceValidator</td></tr></table></div>"
      ],
      "text/plain": [
       "<IPython.core.display.HTML object>"
      ]
     },
     "metadata": {},
     "output_type": "display_data"
    },
    {
     "name": "stdout",
     "output_type": "stream",
     "text": [
      "...........saving to file /Users/ehaas/Documents/FHIR/US-Core-R4/input/examples/dxa-hip-l-armass-bmd.json............\n",
      "resourceType: Observation\n",
      "id: pulse-intensity-palpation\n",
      "meta:\n",
      "  extension:\n",
      "  - url: http://hl7.org/fhir/StructureDefinition/instance-name\n",
      "    valueString: Pulse intensity Palpation Example\n",
      "  - url: http://hl7.org/fhir/StructureDefinition/instance-description\n",
      "    valueMarkdown: This is a Pulse intensity Palpation Example for the *Clinical Test\n",
      "      Result Observation Profile*.\n",
      "  profile:\n",
      "  - http://hl7.org/fhir/us/core/StructureDefinition/us-core-observation-clinical-test\n",
      "status: final\n",
      "category:\n",
      "- coding:\n",
      "  - system: http://terminology.hl7.org/CodeSystem/observation-category\n",
      "    code: exam\n",
      "    display: Exam\n",
      "  text: Exam\n",
      "code:\n",
      "  coding:\n",
      "  - system: http://loinc.org\n",
      "    code: 44974-4\n",
      "    display: Pulse intensity Palpation\n",
      "  text: Pulse intensity Palpation\n",
      "subject:\n",
      "  reference: Patient/example\n",
      "  display: Amy Shaw\n",
      "encounter:\n",
      "  display: Bone Scan\n",
      "effectiveDateTime: 2021-11-10\n",
      "valueCodeableConcept:\n",
      "  coding:\n",
      "  - system: http://loinc.org\n",
      "    code: LA11841-6\n",
      "    display: 1+\n",
      "  text: 1+\n",
      "\n",
      "DXA Hip-L T-score BMD dxa-hip-l-t-score-bmd\n"
     ]
    },
    {
     "name": "stdin",
     "output_type": "stream",
     "text": [
      "What category is DXA Hip-L T-score BMD?  exam|procedure|activity|imaging? imaging\n",
      "What is the unit for DXA Hip-L T-score BMD? s|ms? T-Score\n",
      "is this a score Y/N ? Y\n"
     ]
    },
    {
     "name": "stdout",
     "output_type": "stream",
     "text": [
      "value: -1.62\n",
      "unit: T-Score\n",
      "system: http://unitsofmeasure.org\n",
      "code: '{T-Score}'\n",
      "\n",
      "resourceType: Observation\n",
      "id: dxa-hip-l-t-score-bmd\n",
      "meta:\n",
      "  extension:\n",
      "  - url: http://hl7.org/fhir/StructureDefinition/instance-name\n",
      "    valueString: DXA Hip-L T-score BMD Example\n",
      "  - url: http://hl7.org/fhir/StructureDefinition/instance-description\n",
      "    valueMarkdown: This is a DXA Hip-L T-score BMD Example for the *Clinical Test\n",
      "      Result Observation Profile*.\n",
      "  profile:\n",
      "  - http://hl7.org/fhir/us/core/StructureDefinition/us-core-observation-clinical-test\n",
      "status: final\n",
      "category:\n",
      "- coding:\n",
      "  - system: http://terminology.hl7.org/CodeSystem/observation-category\n",
      "    code: imaging\n",
      "    display: Imaging\n",
      "  text: Imaging\n",
      "code:\n",
      "  coding:\n",
      "  - system: http://loinc.org\n",
      "    code: 80946-7\n",
      "    display: DXA Hip-L T-score BMD\n",
      "  text: DXA Hip-L T-score BMD\n",
      "subject:\n",
      "  reference: Patient/example\n",
      "  display: Amy Shaw\n",
      "encounter:\n",
      "  display: Bone Scan\n",
      "effectiveDateTime: 2021-11-10 19:14:41.088720-08:00\n",
      "valueQuantity:\n",
      "  value: -1.62\n",
      "  unit: T-Score\n",
      "  system: http://unitsofmeasure.org\n",
      "  code: '{T-Score}'\n",
      "\n",
      "...validating\n"
     ]
    },
    {
     "data": {
      "text/html": [
       "<h1>Validation output</h1><h3>Status Code = 200</h3> <div xmlns=\"http://www.w3.org/1999/xhtml\"><table class=\"grid\"><tr><td><b>Severity</b></td><td><b>Location</b></td><td><b>Code</b></td><td><b>Details</b></td><td><b>Diagnostics</b></td><td><b>Source</b></td></tr><tr><td>INFORMATION</td><td>Observation.meta.extension[1] (line 1, col 192), Observation.meta.extension[1] (line 1, col 192)</td><td>Structural Issue</td><td>Unknown extension http://hl7.org/fhir/StructureDefinition/instance-description</td><td/><td>InstanceValidator</td></tr><tr><td>INFORMATION</td><td>Observation.meta.extension[0] (line 1, col 82), Observation.meta.extension[0] (line 1, col 82)</td><td>Structural Issue</td><td>Unknown extension http://hl7.org/fhir/StructureDefinition/instance-name</td><td/><td>InstanceValidator</td></tr><tr><td>WARNING</td><td>Observation.meta.profile[0] (line 1, col 2), Observation.meta.profile[0] (line 1, col 2)</td><td>Structural Issue</td><td>StructureDefinition reference &quot;http://hl7.org/fhir/us/core/StructureDefinition/us-core-observation-clinical-test&quot; could not be resolved</td><td/><td>InstanceValidator</td></tr><tr><td>WARNING</td><td>Observation (line 1, col 2), Observation (line 1, col 2)</td><td>Validation rule failed</td><td>A resource should have narrative for robust management [text.div.exists()]</td><td/><td>InstanceValidator</td></tr></table></div>"
      ],
      "text/plain": [
       "<IPython.core.display.HTML object>"
      ]
     },
     "metadata": {},
     "output_type": "display_data"
    },
    {
     "name": "stdout",
     "output_type": "stream",
     "text": [
      "...........saving to file /Users/ehaas/Documents/FHIR/US-Core-R4/input/examples/dxa-hip-l-t-score-bmd.json............\n",
      "resourceType: Observation\n",
      "id: pulse-intensity-palpation\n",
      "meta:\n",
      "  extension:\n",
      "  - url: http://hl7.org/fhir/StructureDefinition/instance-name\n",
      "    valueString: Pulse intensity Palpation Example\n",
      "  - url: http://hl7.org/fhir/StructureDefinition/instance-description\n",
      "    valueMarkdown: This is a Pulse intensity Palpation Example for the *Clinical Test\n",
      "      Result Observation Profile*.\n",
      "  profile:\n",
      "  - http://hl7.org/fhir/us/core/StructureDefinition/us-core-observation-clinical-test\n",
      "status: final\n",
      "category:\n",
      "- coding:\n",
      "  - system: http://terminology.hl7.org/CodeSystem/observation-category\n",
      "    code: exam\n",
      "    display: Exam\n",
      "  text: Exam\n",
      "code:\n",
      "  coding:\n",
      "  - system: http://loinc.org\n",
      "    code: 44974-4\n",
      "    display: Pulse intensity Palpation\n",
      "  text: Pulse intensity Palpation\n",
      "subject:\n",
      "  reference: Patient/example\n",
      "  display: Amy Shaw\n",
      "encounter:\n",
      "  display: Bone Scan\n",
      "effectiveDateTime: 2021-11-10\n",
      "valueCodeableConcept:\n",
      "  coding:\n",
      "  - system: http://loinc.org\n",
      "    code: LA11841-6\n",
      "    display: 1+\n",
      "  text: 1+\n",
      "\n",
      "DXA Hip-L Z-score BMD dxa-hip-l-z-score-bmd\n"
     ]
    },
    {
     "name": "stdin",
     "output_type": "stream",
     "text": [
      "What category is DXA Hip-L Z-score BMD?  exam|procedure|activity|imaging? imaging\n",
      "What is the unit for DXA Hip-L Z-score BMD? s|ms? Z-Score\n",
      "is this a score Y/N ? Y\n"
     ]
    },
    {
     "name": "stdout",
     "output_type": "stream",
     "text": [
      "value: -0.19\n",
      "unit: Z-Score\n",
      "system: http://unitsofmeasure.org\n",
      "code: '{Z-Score}'\n",
      "\n",
      "resourceType: Observation\n",
      "id: dxa-hip-l-z-score-bmd\n",
      "meta:\n",
      "  extension:\n",
      "  - url: http://hl7.org/fhir/StructureDefinition/instance-name\n",
      "    valueString: DXA Hip-L Z-score BMD Example\n",
      "  - url: http://hl7.org/fhir/StructureDefinition/instance-description\n",
      "    valueMarkdown: This is a DXA Hip-L Z-score BMD Example for the *Clinical Test\n",
      "      Result Observation Profile*.\n",
      "  profile:\n",
      "  - http://hl7.org/fhir/us/core/StructureDefinition/us-core-observation-clinical-test\n",
      "status: final\n",
      "category:\n",
      "- coding:\n",
      "  - system: http://terminology.hl7.org/CodeSystem/observation-category\n",
      "    code: imaging\n",
      "    display: Imaging\n",
      "  text: Imaging\n",
      "code:\n",
      "  coding:\n",
      "  - system: http://loinc.org\n",
      "    code: 80938-4\n",
      "    display: DXA Hip-L Z-score BMD\n",
      "  text: DXA Hip-L Z-score BMD\n",
      "subject:\n",
      "  reference: Patient/example\n",
      "  display: Amy Shaw\n",
      "encounter:\n",
      "  display: Bone Scan\n",
      "effectiveDateTime: 2021-11-10 19:14:41.088720-08:00\n",
      "valueQuantity:\n",
      "  value: -0.19\n",
      "  unit: Z-Score\n",
      "  system: http://unitsofmeasure.org\n",
      "  code: '{Z-Score}'\n",
      "\n",
      "...validating\n"
     ]
    },
    {
     "data": {
      "text/html": [
       "<h1>Validation output</h1><h3>Status Code = 200</h3> <div xmlns=\"http://www.w3.org/1999/xhtml\"><table class=\"grid\"><tr><td><b>Severity</b></td><td><b>Location</b></td><td><b>Code</b></td><td><b>Details</b></td><td><b>Diagnostics</b></td><td><b>Source</b></td></tr><tr><td>INFORMATION</td><td>Observation.meta.extension[1] (line 1, col 192), Observation.meta.extension[1] (line 1, col 192)</td><td>Structural Issue</td><td>Unknown extension http://hl7.org/fhir/StructureDefinition/instance-description</td><td/><td>InstanceValidator</td></tr><tr><td>INFORMATION</td><td>Observation.meta.extension[0] (line 1, col 82), Observation.meta.extension[0] (line 1, col 82)</td><td>Structural Issue</td><td>Unknown extension http://hl7.org/fhir/StructureDefinition/instance-name</td><td/><td>InstanceValidator</td></tr><tr><td>WARNING</td><td>Observation.meta.profile[0] (line 1, col 2), Observation.meta.profile[0] (line 1, col 2)</td><td>Structural Issue</td><td>StructureDefinition reference &quot;http://hl7.org/fhir/us/core/StructureDefinition/us-core-observation-clinical-test&quot; could not be resolved</td><td/><td>InstanceValidator</td></tr><tr><td>WARNING</td><td>Observation (line 1, col 2), Observation (line 1, col 2)</td><td>Validation rule failed</td><td>A resource should have narrative for robust management [text.div.exists()]</td><td/><td>InstanceValidator</td></tr></table></div>"
      ],
      "text/plain": [
       "<IPython.core.display.HTML object>"
      ]
     },
     "metadata": {},
     "output_type": "display_data"
    },
    {
     "name": "stdout",
     "output_type": "stream",
     "text": [
      "...........saving to file /Users/ehaas/Documents/FHIR/US-Core-R4/input/examples/dxa-hip-l-z-score-bmd.json............\n"
     ]
    }
   ],
   "source": [
    "def kebab(s):\n",
    "    '''\n",
    "    change to kebab case\n",
    "    '''\n",
    "    s=s.replace('(','').replace(')','').replace('{','').replace('}','')\n",
    "    s_list = s.lower().split()\n",
    "    s = '-'.join(s_list)\n",
    "    return(s)\n",
    "\n",
    "for i in qr_obj.item:\n",
    "    obs_obj = Observation.parse_file(\"fhir_templates/Obs_clintest.yml\")#\"Observation_wt.yml\")\n",
    "    obs_obj.encounter.display = \"Bone Scan\"\n",
    "    print(obs_obj.yaml())\n",
    "    print((i.text), kebab(i.text))\n",
    "    obs_obj.id = kebab(i.text)\n",
    "    obs_obj.effectiveDateTime = f_now\n",
    "    obs_obj.meta.extension[0].valueString = f'{i.text} Example'\n",
    "    obs_obj.meta.extension[1].valueMarkdown = f'This is a {i.text} Example for the *Clinical Test Result Observation Profile*.'\n",
    "    cat = input(f\"What category is {i.text}?  exam|procedure|activity|imaging?\")\n",
    "    obs_obj.category[0].coding[0].code = cat\n",
    "    obs_obj.category[0].coding[0].display = cat.capitalize()\n",
    "    obs_obj.category[0].text = cat.capitalize()\n",
    "    obs_obj.code.coding[0].code = i.linkId[1:]\n",
    "    obs_obj.code.coding[0].display = i.text\n",
    "    obs_obj.code.text = i.text\n",
    "    \n",
    "    if i.answer[0].valueCoding:\n",
    "        obs_obj.valueCodeableConcept.coding[0].code = i.answer[0].valueCoding.code\n",
    "        obs_obj.valueCodeableConcept.coding[0].display = i.answer[0].valueCoding.display\n",
    "        obs_obj.valueCodeableConcept.text = i.answer[0].valueCoding.display\n",
    "    elif i.answer[0].valueString:\n",
    "        obs_obj.valueCodeableConcept=None\n",
    "        obs_obj.valueString = i.answer[0].valueString\n",
    "    else: # i.answer[0].valueDecimal\n",
    "        obs_obj.valueCodeableConcept=None\n",
    "        quant = construct_fhir_element('Quantity', {})\n",
    "        quant.value = i.answer[0].valueDecimal\n",
    "        quant.unit = input(f\"What is the unit for {i.text}? s|ms?\")\n",
    "        quant.system = \"http://unitsofmeasure.org\"\n",
    "        score = input(f\"is this a score Y/N ?\")\n",
    "        if score == 'Y':\n",
    "            quant.code = f\"{{{quant.unit}}}\"\n",
    "        else:\n",
    "            quant.code = quant.unit\n",
    "        print(quant.yaml())\n",
    "        obs_obj.valueQuantity=quant\n",
    "    print(obs_obj.yaml())\n",
    "    validate(obs_obj.json())\n",
    "    write(obs_obj)\n"
   ]
  },
  {
   "cell_type": "code",
   "execution_count": null,
   "metadata": {},
   "outputs": [],
   "source": []
  }
 ],
 "metadata": {
  "kernelspec": {
   "display_name": "Python 3.7.3 64-bit ('venv37': venv)",
   "language": "python",
   "name": "python37364bitvenv37venv2b400d68decb43d5b2206c004a019450"
  },
  "language_info": {
   "codemirror_mode": {
    "name": "ipython",
    "version": 3
   },
   "file_extension": ".py",
   "mimetype": "text/x-python",
   "name": "python",
   "nbconvert_exporter": "python",
   "pygments_lexer": "ipython3",
   "version": "3.7.3"
  }
 },
 "nbformat": 4,
 "nbformat_minor": 4
}
