{
 "cells": [
  {
   "cell_type": "code",
   "execution_count": 1,
   "metadata": {},
   "outputs": [],
   "source": [
    "from fhir.resources.provenance import Provenance\n",
    "from fhir.resources import construct_fhir_element\n",
    "from utils import new_dict, update_obj, validate"
   ]
  },
  {
   "cell_type": "code",
   "execution_count": 2,
   "metadata": {},
   "outputs": [
    {
     "data": {
      "text/plain": [
       "'Device/789'"
      ]
     },
     "execution_count": 2,
     "metadata": {},
     "output_type": "execute_result"
    }
   ],
   "source": [
    "class Row:\n",
    "    def __init__(self):\n",
    "        self.device_fhirid = 'Device/123'\n",
    "        self.device_identifier = 'dev456'\n",
    "        self.device_display = 'My Measuring Device'\n",
    "        self.gateway_fhirid = 'Device/789'\n",
    "        self.gateway_identifier = 'gateway2000'\n",
    "        self.gateway_display = 'My Phone App'  \n",
    "row = Row()\n",
    "row.gateway_fhirid\n",
    "row.gateway_fhirid"
   ]
  },
  {
   "cell_type": "code",
   "execution_count": 3,
   "metadata": {},
   "outputs": [
    {
     "name": "stdout",
     "output_type": "stream",
     "text": [
      "resourceType: Provenance\n",
      "target:\n",
      "- reference: Observation/123\n",
      "recorded: 2019-07-09 15:26:23.217000+00:00\n",
      "agent:\n",
      "- type:\n",
      "    coding:\n",
      "    - system: http://terminology.hl7.org/CodeSystem/provenance-participant-type\n",
      "      code: author\n",
      "      display: Author\n",
      "  who:\n",
      "    reference: Device/123\n",
      "\n"
     ]
    }
   ],
   "source": [
    "none_list = [None,{}]\n",
    "prov_obj = Provenance.parse_file(\"Provenance.yml\")\n",
    "print(prov_obj.yaml())"
   ]
  },
  {
   "cell_type": "markdown",
   "metadata": {},
   "source": [
    "### update the effective dataTime"
   ]
  },
  {
   "cell_type": "code",
   "execution_count": 4,
   "metadata": {},
   "outputs": [
    {
     "name": "stdout",
     "output_type": "stream",
     "text": [
      "resourceType: Provenance\n",
      "target:\n",
      "- reference: Observation/123\n",
      "recorded: 2021-07-07 19:13:20.372477-08:00\n",
      "agent:\n",
      "- type:\n",
      "    coding:\n",
      "    - system: http://terminology.hl7.org/CodeSystem/provenance-participant-type\n",
      "      code: author\n",
      "      display: Author\n",
      "  who:\n",
      "    reference: Device/123\n",
      "\n"
     ]
    }
   ],
   "source": [
    "from datetime import datetime, date, timezone, timedelta\n",
    "timezone_offset = -8.0  # Pacific Standard Time (UTC−08:00)\n",
    "tzinfo = timezone(timedelta(hours=timezone_offset))\n",
    "f_now = datetime.now(tzinfo)\n",
    "prov_obj.recorded = f_now\n",
    "print(prov_obj.yaml())"
   ]
  },
  {
   "cell_type": "markdown",
   "metadata": {},
   "source": [
    "### Add the device as Author"
   ]
  },
  {
   "cell_type": "code",
   "execution_count": 5,
   "metadata": {},
   "outputs": [
    {
     "name": "stdout",
     "output_type": "stream",
     "text": [
      "resourceType: Provenance\n",
      "target:\n",
      "- reference: Observation/123\n",
      "recorded: 2021-07-07 19:13:20.372477-08:00\n",
      "agent:\n",
      "- type:\n",
      "    coding:\n",
      "    - system: http://terminology.hl7.org/CodeSystem/provenance-participant-type\n",
      "      code: author\n",
      "      display: Author\n",
      "  who:\n",
      "    reference: Device/123\n",
      "    identifier:\n",
      "      value: dev456\n",
      "    display: My Measuring Device\n",
      "\n"
     ]
    }
   ],
   "source": [
    "element = 'who'\n",
    "element_dict = new_dict(\n",
    "            reference = row.device_fhirid,\n",
    "            identifier = new_dict(value = row.device_identifier),  # business identifier\n",
    "            display = row.device_display,\n",
    "            )\n",
    "update_obj(element,element_dict,prov_obj.agent[0])\n",
    "print(prov_obj.yaml())"
   ]
  },
  {
   "cell_type": "markdown",
   "metadata": {},
   "source": [
    "### Add the gateway as transmitter\n",
    "\n",
    "use transmitter for now and consider other types later"
   ]
  },
  {
   "cell_type": "code",
   "execution_count": 6,
   "metadata": {},
   "outputs": [
    {
     "name": "stdout",
     "output_type": "stream",
     "text": [
      "resourceType: Provenance\n",
      "target:\n",
      "- reference: Observation/123\n",
      "recorded: 2021-07-07 19:13:20.372477-08:00\n",
      "agent:\n",
      "- type:\n",
      "    coding:\n",
      "    - system: http://terminology.hl7.org/CodeSystem/provenance-participant-type\n",
      "      code: author\n",
      "      display: Author\n",
      "  who:\n",
      "    reference: Device/123\n",
      "    identifier:\n",
      "      value: dev456\n",
      "    display: My Measuring Device\n",
      "- type:\n",
      "    coding:\n",
      "    - system: http://hl7.org/fhir/us/core/CodeSystem/us-core-provenance-participant-type\n",
      "      code: transmitter\n",
      "      display: Transmitter\n",
      "    text: Transmitter\n",
      "  who:\n",
      "    reference: Device/789\n",
      "    identifier:\n",
      "      value: gateway2000\n",
      "    display: My Phone App\n",
      "\n"
     ]
    }
   ],
   "source": [
    "element = 'agent'\n",
    "agent_type_system = \"http://hl7.org/fhir/us/core/CodeSystem/us-core-provenance-participant-type\"\n",
    "agent_type_code = \"transmitter\"\n",
    "agent_type_display = \"Transmitter\"\n",
    "\n",
    "who_dict = new_dict(\n",
    "            reference = row.gateway_fhirid,\n",
    "            identifier = new_dict(value = row.gateway_identifier),  # business identifier\n",
    "            display = row.gateway_display,\n",
    "            )\n",
    "\n",
    "coding_dict = new_dict(\n",
    "            system = agent_type_system,\n",
    "            code = agent_type_code,\n",
    "            display = agent_type_display,\n",
    "            )\n",
    "\n",
    "element_dict =  new_dict(\n",
    "      type = new_dict(coding = [coding_dict],\n",
    "             text='Transmitter'),\n",
    "      who = who_dict,\n",
    "    )\n",
    "\n",
    "update_obj(element,element_dict,prov_obj)\n",
    "print(prov_obj.yaml())"
   ]
  },
  {
   "cell_type": "markdown",
   "metadata": {},
   "source": [
    "### Validate"
   ]
  },
  {
   "cell_type": "code",
   "execution_count": 8,
   "metadata": {},
   "outputs": [
    {
     "name": "stdout",
     "output_type": "stream",
     "text": [
      "foo\n"
     ]
    }
   ],
   "source": [
    "validate(prov_obj)"
   ]
  },
  {
   "cell_type": "markdown",
   "metadata": {},
   "source": [
    "### Save Locally"
   ]
  },
  {
   "cell_type": "code",
   "execution_count": null,
   "metadata": {},
   "outputs": [],
   "source": [
    "from pathlib import Path\n",
    "ig_source_path = 'examples/Provenance'\n",
    "path = Path.cwd() / ig_source_path / f'example.yaml' \n",
    "print(f'...........saving to file {path}............')\n",
    "path.write_text(prov_obj.yaml())"
   ]
  }
 ],
 "metadata": {
  "kernelspec": {
   "display_name": "Python 3.7.3 64-bit ('venv37': venv)",
   "language": "python",
   "name": "python37364bitvenv37venv2b400d68decb43d5b2206c004a019450"
  },
  "language_info": {
   "codemirror_mode": {
    "name": "ipython",
    "version": 3
   },
   "file_extension": ".py",
   "mimetype": "text/x-python",
   "name": "python",
   "nbconvert_exporter": "python",
   "pygments_lexer": "ipython3",
   "version": "3.7.3"
  }
 },
 "nbformat": 4,
 "nbformat_minor": 4
}
