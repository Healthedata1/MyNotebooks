{
 "cells": [
  {
   "cell_type": "markdown",
   "metadata": {},
   "source": [
    "## Observation Maker\n",
    "\n",
    "1.  Enter source data in csv file to simulate patient generated wt observations\n",
    "\n",
    " - Hard Code: \n",
    "\n",
    "Patient use existing Synthea patient: Eldon718 Halvorson124  Patient/06e1f0dd-5fbe-4480-9bb4-6b54ec02d31b\n",
    "\n",
    " - Variables: \n",
    "\n",
    "    - measurement\n",
    "    - datetime\n",
    "    - context ? ( see OMH )\n",
    "    - device info\n",
    "    - sensed or entered\n",
    "    - SR Key?\n",
    "    \n",
    "- Add Reliability Tags \n",
    "\n",
    "- Validate\n",
    "- Save"
   ]
  },
  {
   "cell_type": "code",
   "execution_count": 111,
   "metadata": {},
   "outputs": [
    {
     "name": "stdout",
     "output_type": "stream",
     "text": [
      "/Users/ehaas/Documents/Python/MyNotebooks/Obs_maker\n"
     ]
    }
   ],
   "source": [
    "%cd '/Users/ehaas/Documents/Python/MyNotebooks/Obs_maker'"
   ]
  },
  {
   "cell_type": "markdown",
   "metadata": {},
   "source": [
    "###  Import from YAML file Observation template"
   ]
  },
  {
   "cell_type": "code",
   "execution_count": 112,
   "metadata": {},
   "outputs": [],
   "source": [
    "from fhir.resources.observation import Observation\n",
    "from fhir.resources import construct_fhir_element"
   ]
  },
  {
   "cell_type": "code",
   "execution_count": 113,
   "metadata": {},
   "outputs": [
    {
     "data": {
      "text/plain": [
       "'Reference'"
      ]
     },
     "execution_count": 113,
     "metadata": {},
     "output_type": "execute_result"
    }
   ],
   "source": [
    "obs_obj = Observation.parse_file(\"Observation_wt.yml\")\n",
    "\n",
    "#for obj in obs_obj:\n",
    "    #print(obj)\n",
    "my_type = next(i.type_.__resource_type__ for i in obs_obj.element_properties() if i.name == \"basedOn\")\n",
    "my_type"
   ]
  },
  {
   "cell_type": "markdown",
   "metadata": {},
   "source": [
    "### function to add complex elements to resource"
   ]
  },
  {
   "cell_type": "code",
   "execution_count": 114,
   "metadata": {},
   "outputs": [],
   "source": [
    "def update_obs(element,element_dict, resource = obs_obj):\n",
    "    element_type = next(i.type_.__resource_type__ for i in resource.element_properties() if i.name == element)\n",
    "    print(element,element_dict, element_type)\n",
    "    new_element=construct_fhir_element(element_type,element_dict)\n",
    "    try: # assume not a list \n",
    "        setattr(resource,element,new_element) # not a list \n",
    "        print(getattr(resource,element).yaml())\n",
    "    except: # treat as list\n",
    "        try: # assume list already exists\n",
    "            getattr(resource,element).append(new_element)\n",
    "        except: # list does not exist\n",
    "            setattr(resource,element,[new_element])\n",
    "        print(getattr(resource,element)[0].yaml())"
   ]
  },
  {
   "cell_type": "markdown",
   "metadata": {},
   "source": [
    "### update the effective dataTime"
   ]
  },
  {
   "cell_type": "code",
   "execution_count": 115,
   "metadata": {
    "jupyter": {
     "source_hidden": true
    }
   },
   "outputs": [
    {
     "data": {
      "text/plain": [
       "datetime.datetime(2021, 7, 1, 15, 55, 32, 39320, tzinfo=datetime.timezone(datetime.timedelta(days=-1, seconds=57600)))"
      ]
     },
     "execution_count": 115,
     "metadata": {},
     "output_type": "execute_result"
    }
   ],
   "source": [
    "from datetime import datetime, timezone, timedelta\n",
    "\n",
    "timezone_offset = -8.0  # Pacific Standard Time (UTC−08:00)\n",
    "tzinfo = timezone(timedelta(hours=timezone_offset))\n",
    "now = datetime.now(tzinfo)\n",
    "now"
   ]
  },
  {
   "cell_type": "code",
   "execution_count": 116,
   "metadata": {
    "jupyter": {
     "source_hidden": true
    }
   },
   "outputs": [
    {
     "name": "stdout",
     "output_type": "stream",
     "text": [
      "2021-07-01 15:55:32.039320-08:00\n"
     ]
    }
   ],
   "source": [
    "obs_obj.effectiveDateTime = now\n",
    "print(obs_obj.effectiveDateTime)"
   ]
  },
  {
   "cell_type": "markdown",
   "metadata": {},
   "source": [
    "### update the encounter\n",
    "\n",
    "what code or codes should be used for this  ( \"at home measuremet\")?\n",
    "\n",
    "todo ... review patent empowerment work.\n",
    "\n",
    "for now diplay only"
   ]
  },
  {
   "cell_type": "code",
   "execution_count": 117,
   "metadata": {
    "jupyter": {
     "source_hidden": true
    }
   },
   "outputs": [
    {
     "name": "stdout",
     "output_type": "stream",
     "text": [
      "encounter {'display': 'At Home Monitoring'} Reference\n",
      "display: At Home Monitoring\n",
      "\n"
     ]
    }
   ],
   "source": [
    "display = \"At Home Monitoring\"\n",
    "element = 'encounter'\n",
    "element_dict = dict(\n",
    "            #reference = reference,\n",
    "            #identifier = dict(value = identifier),  # business identifier\n",
    "            display = display,\n",
    "            )\n",
    "\n",
    "update_obs(element,element_dict)"
   ]
  },
  {
   "cell_type": "markdown",
   "metadata": {},
   "source": [
    "### update the value\n",
    "\n",
    " for now assume in pounds and only update the decimal value"
   ]
  },
  {
   "cell_type": "code",
   "execution_count": 118,
   "metadata": {
    "jupyter": {
     "source_hidden": true
    }
   },
   "outputs": [
    {
     "name": "stdout",
     "output_type": "stream",
     "text": [
      "value: 160.0\n",
      "unit: pounds\n",
      "system: http://unitsofmeasure.org\n",
      "code: '[lb_av]'\n",
      "\n"
     ]
    }
   ],
   "source": [
    "my_wt = 160\n",
    "obs_obj.valueQuantity.value = my_wt\n",
    "print(obs_obj.valueQuantity.yaml())"
   ]
  },
  {
   "cell_type": "markdown",
   "metadata": {},
   "source": [
    "### Add Device info which provides data provenance\n",
    "\n",
    "options\n",
    "\n",
    "- fhir id\n",
    "- identifier  ( can this be overloaded to indicate the identifier for device without doing a reference ? )\n",
    "- string "
   ]
  },
  {
   "cell_type": "code",
   "execution_count": 119,
   "metadata": {
    "jupyter": {
     "source_hidden": true
    }
   },
   "outputs": [
    {
     "name": "stdout",
     "output_type": "stream",
     "text": [
      "device {'reference': 'Device/123', 'identifier': {'value': 'Dev123456'}, 'display': 'WiTscale S200 Bluetooth scale'} Reference\n",
      "reference: Device/123\n",
      "identifier:\n",
      "  value: Dev123456\n",
      "display: WiTscale S200 Bluetooth scale\n",
      "\n"
     ]
    }
   ],
   "source": [
    "reference = 'Device/123'\n",
    "identifier = 'Dev123456'  # business identifier\n",
    "display = 'WiTscale S200 Bluetooth scale'\n",
    "element = 'device'\n",
    "element_dict = dict(\n",
    "            reference = reference,\n",
    "            identifier = dict(value = identifier),  # business identifier\n",
    "            display = display,\n",
    "            )\n",
    "\n",
    "update_obs(element,element_dict)"
   ]
  },
  {
   "cell_type": "markdown",
   "metadata": {},
   "source": [
    "### Add SR Key to `basedOn` element\n",
    "\n",
    "options \n",
    "\n",
    "- fhir id\n",
    "- identifier ( can this be overloaded to indicate the identifier for device without doing a reference ? )\n",
    "- string\n"
   ]
  },
  {
   "cell_type": "code",
   "execution_count": 120,
   "metadata": {
    "jupyter": {
     "source_hidden": true
    }
   },
   "outputs": [
    {
     "name": "stdout",
     "output_type": "stream",
     "text": [
      "basedOn {'reference': 'ServiceRequest/123', 'identifier': {'value': 'SR123456'}, 'display': 'Provider X Home weight monitoring'} Reference\n",
      "reference: ServiceRequest/123\n",
      "identifier:\n",
      "  value: SR123456\n",
      "display: Provider X Home weight monitoring\n",
      "\n"
     ]
    }
   ],
   "source": [
    "reference = 'ServiceRequest/123'\n",
    "identifier = 'SR123456'  # business identifier\n",
    "display = 'Provider X Home weight monitoring'\n",
    "element = 'basedOn'\n",
    "element_dict = dict(\n",
    "            reference = reference,\n",
    "            identifier = dict(value = identifier),  # business identifier\n",
    "            display = display,\n",
    "            )\n",
    "\n",
    "update_obs(element,element_dict)"
   ]
  },
  {
   "cell_type": "markdown",
   "metadata": {},
   "source": [
    "### Add any device/gateway/service created identifier to observation\n",
    "\n",
    "see OMH for examples"
   ]
  },
  {
   "cell_type": "code",
   "execution_count": 121,
   "metadata": {
    "jupyter": {
     "source_hidden": true
    }
   },
   "outputs": [
    {
     "name": "stdout",
     "output_type": "stream",
     "text": [
      "identifier {'value': '6f3a11a2-0e34-4ef5-a226-1fd7277e82d0', 'assigner': {'display': 'Provider X Home weight monitoring'}} Identifier\n",
      "value: 6f3a11a2-0e34-4ef5-a226-1fd7277e82d0\n",
      "assigner:\n",
      "  display: Provider X Home weight monitoring\n",
      "\n"
     ]
    }
   ],
   "source": [
    "source_identifier = \"6f3a11a2-0e34-4ef5-a226-1fd7277e82d0\"\n",
    "element ='identifier'\n",
    "element_dict = dict(\n",
    "                value = source_identifier,\n",
    "                assigner = dict(display=display,)\n",
    "                )\n",
    "\n",
    "update_obs(element,element_dict)"
   ]
  },
  {
   "cell_type": "markdown",
   "metadata": {},
   "source": [
    "### Add more context to observation\n",
    "\n",
    "see OMH"
   ]
  },
  {
   "cell_type": "code",
   "execution_count": 122,
   "metadata": {
    "jupyter": {
     "source_hidden": true
    }
   },
   "outputs": [],
   "source": [
    "#...TODO..."
   ]
  },
  {
   "cell_type": "markdown",
   "metadata": {},
   "source": [
    "### Add modality extension observation\n",
    "\n",
    "uri: `http://www.fhir.org/guides/omhtofhir/StructureDefinition/extension-modality`\n",
    "\n",
    "see [OMH](https://healthedata1.github.io/mFHIR/StructureDefinition-extension-modality.html)\n",
    "\n",
    "*NOTE: This extension was originally defined to go on the device element, but think is better on the Obervation*\n",
    "\n",
    "|Code|Display|Definition|\n",
    "|---|---|---|\n",
    "|sensed|Sensed|Device measurement is sensed directly by the device|\n",
    "|self-reported|Self Reported|Device measurement is entered by the user|\n",
    "\n"
   ]
  },
  {
   "cell_type": "code",
   "execution_count": 123,
   "metadata": {},
   "outputs": [
    {
     "name": "stdout",
     "output_type": "stream",
     "text": [
      "extension {'valueCode': 'sensed', 'url': 'http://www.fhir.org/guides/omhtofhir/StructureDefinition/extension-modality'} Extension\n",
      "url: http://www.fhir.org/guides/omhtofhir/StructureDefinition/extension-modality\n",
      "valueCode: sensed\n",
      "\n"
     ]
    }
   ],
   "source": [
    "url = 'http://www.fhir.org/guides/omhtofhir/StructureDefinition/extension-modality'\n",
    "modality = \"sensed\"\n",
    "\n",
    "element = 'extension'\n",
    "element_dict = dict(\n",
    "                valueCode = modality,\n",
    "                url = url,\n",
    "                )\n",
    "\n",
    "update_obs(element,element_dict)"
   ]
  },
  {
   "cell_type": "markdown",
   "metadata": {},
   "source": [
    "### Add reliability tags to observation\n",
    "\n",
    "Using Josh's suggested codes as a starting point...\n",
    "\n",
    ">All data coming via the patient are submitted with a tag like {\"system\": \"http://terminology.hl7.org/CodeSystem/common-tags\", \"code\": \"patient-supplied\"}\n",
    "FHIR searches find resources with this tag by default; clients that don't want them can filter them out, through search params\n",
    "Providers and EHRs can do what they want with these data (e.g., leaving them tagged; reviewing and adding a provider-reviewed tag; reviewing and stripping the patient-supplied tag; deleting them...)\n",
    "\n",
    "for now need own system:\n",
    "\n",
    "url = `http://www.fhir.org/guides/argonaut/argo-write/CodeSystem/tags`\n",
    "\n",
    "|Code|Display|Definition|\n",
    "|---|---|---|\n",
    "|patient-supplied|Patient Supplied Data|Data is supplied by patient - either patient generated data or data generated elsewhere and forwarded by patient (todo get references to definitions of PGD)|\n",
    "|provider-reviewed|Provider Reviewed Data|Data is supplied by patient and has been reviewed by provider ( either manully or through some automated fashion)|"
   ]
  },
  {
   "cell_type": "code",
   "execution_count": 124,
   "metadata": {},
   "outputs": [
    {
     "name": "stdout",
     "output_type": "stream",
     "text": [
      "tag {'system': 'http://www.fhir.org/guides/argonaut/argo-write/CodeSystem/tags', 'code': 'patient-supplied'} Coding\n",
      "system: http://www.fhir.org/guides/argonaut/argo-write/CodeSystem/tags\n",
      "code: patient-supplied\n",
      "\n"
     ]
    }
   ],
   "source": [
    "url = 'http://www.fhir.org/guides/argonaut/argo-write/CodeSystem/tags'\n",
    "tag = \"patient-supplied\"\n",
    "element = 'tag'\n",
    "element_dict = dict(system = url,\n",
    "                            code = tag,\n",
    "                           )\n",
    "resource = obs_obj.meta\n",
    "update_obs(element,element_dict,resource)"
   ]
  },
  {
   "cell_type": "markdown",
   "metadata": {},
   "source": [
    "### Add description and example name extension to observation\n",
    "\n",
    "this annotates each example for future documentation"
   ]
  },
  {
   "cell_type": "code",
   "execution_count": 126,
   "metadata": {},
   "outputs": [
    {
     "name": "stdout",
     "output_type": "stream",
     "text": [
      "extension {'valueString': 'Patient Supplied WT Example 1', 'url': 'http://hl7.org/fhir/StructureDefinition/instance-name'} Extension\n",
      "url: http://hl7.org/fhir/StructureDefinition/instance-name\n",
      "valueString: Weight Example\n",
      "\n"
     ]
    }
   ],
   "source": [
    "url = 'http://hl7.org/fhir/StructureDefinition/instance-name'\n",
    "instance_name = \"Patient Supplied WT Example 1\"\n",
    "element = 'extension'\n",
    "element_dict = dict(\n",
    "                valueString = instance_name,\n",
    "                url = url,\n",
    "                )\n",
    "update_obs(element,element_dict,resource)"
   ]
  },
  {
   "cell_type": "code",
   "execution_count": 124,
   "metadata": {},
   "outputs": [
    {
     "name": "stdout",
     "output_type": "stream",
     "text": [
      "tag {'system': 'http://www.fhir.org/guides/argonaut/argo-write/CodeSystem/tags', 'code': 'patient-supplied'} Coding\n",
      "system: http://www.fhir.org/guides/argonaut/argo-write/CodeSystem/tags\n",
      "code: patient-supplied\n",
      "\n"
     ]
    }
   ],
   "source": [
    "url = 'http://www.fhir.org/guides/argonaut/argo-write/CodeSystem/tags'\n",
    "tag = url = 'http://hl7.org/fhir/StructureDefinition/instance-name'\n",
    "instance_name = \"Patient Supplied WT Example 1\"\n",
    "element = 'extension'\n",
    "element_dict = dict(\n",
    "                valueString = instance_name,\n",
    "                url = url,\n",
    "                )\n",
    "update_obs(element,element_dict,resource)\"patient-supplied\"\n",
    "element = 'tag'\n",
    "element_dict = dict(system = url,\n",
    "                            code = tag,\n",
    "                           )\n",
    "resource = obs_obj.meta\n",
    "update_obs(element,element_dict,resource)"
   ]
  },
  {
   "cell_type": "code",
   "execution_count": 127,
   "metadata": {},
   "outputs": [
    {
     "name": "stdout",
     "output_type": "stream",
     "text": [
      "resourceType: Observation\n",
      "id: weight\n",
      "meta:\n",
      "  extension:\n",
      "  - url: http://hl7.org/fhir/StructureDefinition/instance-name\n",
      "    valueString: Weight Example\n",
      "  - url: http://hl7.org/fhir/StructureDefinition/instance-description\n",
      "    valueMarkdown: This is a weight example for the *Vitalsigns Profile*.\n",
      "  - url: http://hl7.org/fhir/StructureDefinition/instance-name\n",
      "    valueString: Patient Supplied WT Example 1\n",
      "  profile:\n",
      "  - http://hl7.org/fhir/us/core/StructureDefinition/us-core-body-weight\n",
      "  tag:\n",
      "  - system: http://www.fhir.org/guides/argonaut/argo-write/CodeSystem/tags\n",
      "    code: patient-supplied\n",
      "extension:\n",
      "- url: http://www.fhir.org/guides/omhtofhir/StructureDefinition/extension-modality\n",
      "  valueCode: sensed\n",
      "identifier:\n",
      "- value: 6f3a11a2-0e34-4ef5-a226-1fd7277e82d0\n",
      "  assigner:\n",
      "    display: Provider X Home weight monitoring\n",
      "basedOn:\n",
      "- reference: ServiceRequest/123\n",
      "  identifier:\n",
      "    value: SR123456\n",
      "  display: Provider X Home weight monitoring\n",
      "status: final\n",
      "category:\n",
      "- coding:\n",
      "  - system: http://terminology.hl7.org/CodeSystem/observation-category\n",
      "    code: vital-signs\n",
      "    display: Vital Signs\n",
      "  text: Vital Signs\n",
      "code:\n",
      "  coding:\n",
      "  - system: http://loinc.org\n",
      "    code: 29463-7\n",
      "    display: Body Weight\n",
      "  text: weight\n",
      "subject:\n",
      "  reference: Patient/06e1f0dd-5fbe-4480-9bb4-6b54ec02d31b\n",
      "  display: Eldon718 Halvorson124\n",
      "encounter:\n",
      "  display: At Home Monitoring\n",
      "effectiveDateTime: 2021-07-01 15:55:32.039320-08:00\n",
      "valueQuantity:\n",
      "  value: 160.0\n",
      "  unit: pounds\n",
      "  system: http://unitsofmeasure.org\n",
      "  code: '[lb_av]'\n",
      "device:\n",
      "  reference: Device/123\n",
      "  identifier:\n",
      "    value: Dev123456\n",
      "  display: WiTscale S200 Bluetooth scale\n",
      "\n"
     ]
    }
   ],
   "source": [
    "print(obs_obj.yaml())"
   ]
  }
 ],
 "metadata": {
  "kernelspec": {
   "display_name": "Python 3.7.3 64-bit ('venv37': venv)",
   "language": "python",
   "name": "python37364bitvenv37venv2b400d68decb43d5b2206c004a019450"
  },
  "language_info": {
   "codemirror_mode": {
    "name": "ipython",
    "version": 3
   },
   "file_extension": ".py",
   "mimetype": "text/x-python",
   "name": "python",
   "nbconvert_exporter": "python",
   "pygments_lexer": "ipython3",
   "version": "3.7.3"
  }
 },
 "nbformat": 4,
 "nbformat_minor": 4
}
