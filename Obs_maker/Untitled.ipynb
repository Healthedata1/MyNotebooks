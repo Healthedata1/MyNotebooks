{
 "cells": [
  {
   "cell_type": "code",
   "execution_count": 4,
   "metadata": {},
   "outputs": [
    {
     "name": "stdout",
     "output_type": "stream",
     "text": [
      "resourceType: Observation\n",
      "meta:\n",
      "  profile:\n",
      "  - http://hl7.org/fhir/us/core/StructureDefinition/us-core-body-weight\n",
      "status: final\n",
      "category:\n",
      "- coding:\n",
      "  - system: http://terminology.hl7.org/CodeSystem/observation-category\n",
      "    code: vital-signs\n",
      "    display: Vital Signs\n",
      "  text: Vital Signs\n",
      "code:\n",
      "  coding:\n",
      "  - system: http://loinc.org\n",
      "    code: 29463-7\n",
      "    display: Body Weight\n",
      "  text: weight\n",
      "subject:\n",
      "  reference: Patient/06e1f0dd-5fbe-4480-9bb4-6b54ec02d31b\n",
      "  display: Eldon718 Halvorson124\n",
      "encounter:\n",
      "  reference: row.encounter_fhirid\n",
      "  identifier:\n",
      "    value: row.encounter_identifier\n",
      "  display: row.encounter_display\n",
      "effectiveDateTime: 1999-07-02\n",
      "valueQuantity:\n",
      "  value: 165.0\n",
      "  unit: pounds\n",
      "  system: http://unitsofmeasure.org\n",
      "  code: '[lb_av]'\n",
      "\n",
      "foo\n",
      "Observation\n",
      "...validating\n"
     ]
    },
    {
     "data": {
      "text/html": [
       "<h1>Validation output</h1><h3>Status Code = 200</h3> <div><p><b>Operation Outcome for :Validate resource </b></p><table class=\"grid\"><tr><td><b>Severity</b></td><td><b>Location</b></td><td><b>Details</b></td><td><b>Diagnostics</b></td><td><b>Type</b></td></tr><tr><td>warning</td><td/><td>StructureDefinition reference \"http://hl7.org/fhir/us/core/StructureDefinition/us-core-body-weight\" could not be resolved</td><td/><td>invalid</td></tr><tr><td>warning</td><td/><td>A resource should have narrative for robust management () text.`div`.exists()</td><td/><td>invariant</td></tr><tr><td>information</td><td/><td>Unable to determine type of target resource</td><td/><td>structure</td></tr></table></div>"
      ],
      "text/plain": [
       "<IPython.core.display.HTML object>"
      ]
     },
     "metadata": {},
     "output_type": "display_data"
    }
   ],
   "source": [
    "%run ./utils.py"
   ]
  },
  {
   "cell_type": "code",
   "execution_count": null,
   "metadata": {},
   "outputs": [],
   "source": []
  }
 ],
 "metadata": {
  "kernelspec": {
   "display_name": "Python 3.7.3 64-bit ('venv37': venv)",
   "language": "python",
   "name": "python37364bitvenv37venv2b400d68decb43d5b2206c004a019450"
  },
  "language_info": {
   "codemirror_mode": {
    "name": "ipython",
    "version": 3
   },
   "file_extension": ".py",
   "mimetype": "text/x-python",
   "name": "python",
   "nbconvert_exporter": "python",
   "pygments_lexer": "ipython3",
   "version": "3.7.3"
  }
 },
 "nbformat": 4,
 "nbformat_minor": 4
}
