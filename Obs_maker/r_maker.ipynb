{
 "cells": [
  {
   "cell_type": "markdown",
   "metadata": {},
   "source": [
    "# Resource Maker\n",
    "\n",
    "- creates resources using fhir.resources library\n",
    "     1. load a skeleton yaml instance of a resource of type r_type\n",
    "     2. create pymodel using costruct method\n",
    "     3. update resource with elements defined elswhere like in a csv file based on:\n",
    "         - element name\n",
    "         - value\n",
    "         \n",
    "*step three is a work in progress*\n"
   ]
  },
  {
   "cell_type": "markdown",
   "metadata": {},
   "source": [
    "### Set the current working directory"
   ]
  },
  {
   "cell_type": "code",
   "execution_count": 9,
   "metadata": {},
   "outputs": [
    {
     "name": "stdout",
     "output_type": "stream",
     "text": [
      "/Users/ehaas/Documents/Python/MyNotebooks/Obs_maker\n"
     ]
    }
   ],
   "source": [
    "%cd '/Users/ehaas/Documents/Python/MyNotebooks/Obs_maker'"
   ]
  },
  {
   "cell_type": "markdown",
   "metadata": {},
   "source": [
    "### Import modules"
   ]
  },
  {
   "cell_type": "code",
   "execution_count": 22,
   "metadata": {},
   "outputs": [],
   "source": [
    "from pathlib import Path\n",
    "from fhir.resources import construct_fhir_element\n",
    "from utils import new_dict, update_obj, validate\n",
    "from yaml import load, FullLoader\n",
    "from datetime import datetime, date, timezone, timedelta"
   ]
  },
  {
   "cell_type": "markdown",
   "metadata": {},
   "source": [
    "### Provide test data\n",
    "\n",
    "(need to start doing unit testing !!!)"
   ]
  },
  {
   "cell_type": "code",
   "execution_count": 26,
   "metadata": {},
   "outputs": [
    {
     "data": {
      "text/plain": [
       "('Device/789',\n",
       " datetime.datetime(2021, 7, 8, 10, 19, 27, 740794, tzinfo=datetime.timezone(datetime.timedelta(days=-1, seconds=57600))))"
      ]
     },
     "execution_count": 26,
     "metadata": {},
     "output_type": "execute_result"
    }
   ],
   "source": [
    "timezone_offset = -8.0  # Pacific Standard Time (UTC−08:00)\n",
    "tzinfo = timezone(timedelta(hours=timezone_offset))\n",
    "f_now = datetime.now(tzinfo)\n",
    "\n",
    "class Row:\n",
    "    def __init__(self):\n",
    "        self.device_fhirid = 'Device/123'\n",
    "        self.device_identifier = 'dev456'\n",
    "        self.device_display = 'My Measuring Device'\n",
    "        self.gateway_fhirid = 'Device/789'\n",
    "        self.gateway_identifier = 'gateway2000'\n",
    "        self.gateway_display = 'My Phone App'  \n",
    "row = Row()\n",
    "\n",
    "row.gateway_fhirid, f_now"
   ]
  },
  {
   "cell_type": "markdown",
   "metadata": {},
   "source": [
    "### Get skeleton resource to create resource model\n",
    "\n",
    "this is a short cut to get started instead of building from the ground up."
   ]
  },
  {
   "cell_type": "code",
   "execution_count": 27,
   "metadata": {},
   "outputs": [
    {
     "name": "stdout",
     "output_type": "stream",
     "text": [
      "resourceType: Provenance\n",
      "target:\n",
      "- reference: Observation/123\n",
      "recorded: 2019-07-09 15:26:23.217000+00:00\n",
      "agent:\n",
      "- type:\n",
      "    coding:\n",
      "    - system: http://terminology.hl7.org/CodeSystem/provenance-participant-type\n",
      "      code: author\n",
      "      display: Author\n",
      "  who:\n",
      "    reference: Device/123\n",
      "\n"
     ]
    }
   ],
   "source": [
    "none_list = [None,{}]\n",
    "r_type = 'Provenance'\n",
    "#/Users/ehaas/Documents/Python/MyNotebooks/Obs_maker/Provenance.yml\n",
    "path = Path.cwd() /  f'{r_type}.yml'\n",
    "r_dict = load(path.read_text(), Loader=FullLoader)\n",
    "r_obj = construct_fhir_element(r_type,r_dict)\n",
    "print(r_obj.yaml())"
   ]
  },
  {
   "cell_type": "markdown",
   "metadata": {},
   "source": [
    "### update the effective dataTime"
   ]
  },
  {
   "cell_type": "code",
   "execution_count": 28,
   "metadata": {},
   "outputs": [
    {
     "name": "stdout",
     "output_type": "stream",
     "text": [
      "resourceType: Provenance\n",
      "target:\n",
      "- reference: Observation/123\n",
      "recorded: 2021-07-08 10:19:27.740794-08:00\n",
      "agent:\n",
      "- type:\n",
      "    coding:\n",
      "    - system: http://terminology.hl7.org/CodeSystem/provenance-participant-type\n",
      "      code: author\n",
      "      display: Author\n",
      "  who:\n",
      "    reference: Device/123\n",
      "\n"
     ]
    }
   ],
   "source": [
    "r_obj.recorded = f_now\n",
    "print(r_obj.yaml())"
   ]
  },
  {
   "cell_type": "markdown",
   "metadata": {},
   "source": [
    "### Add the device as Author"
   ]
  },
  {
   "cell_type": "code",
   "execution_count": 29,
   "metadata": {},
   "outputs": [
    {
     "name": "stdout",
     "output_type": "stream",
     "text": [
      "resourceType: Provenance\n",
      "target:\n",
      "- reference: Observation/123\n",
      "recorded: 2021-07-08 10:19:27.740794-08:00\n",
      "agent:\n",
      "- type:\n",
      "    coding:\n",
      "    - system: http://terminology.hl7.org/CodeSystem/provenance-participant-type\n",
      "      code: author\n",
      "      display: Author\n",
      "  who:\n",
      "    reference: Device/123\n",
      "    identifier:\n",
      "      value: dev456\n",
      "    display: My Measuring Device\n",
      "\n"
     ]
    }
   ],
   "source": [
    "element = 'who'\n",
    "element_dict = new_dict(\n",
    "            reference = row.device_fhirid,\n",
    "            identifier = new_dict(value = row.device_identifier),  # business identifier\n",
    "            display = row.device_display,\n",
    "            )\n",
    "update_obj(element,element_dict,r_obj.agent[0])\n",
    "print(r_obj.yaml())"
   ]
  },
  {
   "cell_type": "markdown",
   "metadata": {},
   "source": [
    "### Add the gateway as transmitter\n",
    "\n",
    "use transmitter for now and consider other types later"
   ]
  },
  {
   "cell_type": "code",
   "execution_count": 30,
   "metadata": {},
   "outputs": [
    {
     "name": "stdout",
     "output_type": "stream",
     "text": [
      "resourceType: Provenance\n",
      "target:\n",
      "- reference: Observation/123\n",
      "recorded: 2021-07-08 10:19:27.740794-08:00\n",
      "agent:\n",
      "- type:\n",
      "    coding:\n",
      "    - system: http://terminology.hl7.org/CodeSystem/provenance-participant-type\n",
      "      code: author\n",
      "      display: Author\n",
      "  who:\n",
      "    reference: Device/123\n",
      "    identifier:\n",
      "      value: dev456\n",
      "    display: My Measuring Device\n",
      "- type:\n",
      "    coding:\n",
      "    - system: http://hl7.org/fhir/us/core/CodeSystem/us-core-provenance-participant-type\n",
      "      code: transmitter\n",
      "      display: Transmitter\n",
      "    text: Transmitter\n",
      "  who:\n",
      "    reference: Device/789\n",
      "    identifier:\n",
      "      value: gateway2000\n",
      "    display: My Phone App\n",
      "\n"
     ]
    }
   ],
   "source": [
    "element = 'agent'\n",
    "agent_type_system = \"http://hl7.org/fhir/us/core/CodeSystem/us-core-provenance-participant-type\"\n",
    "agent_type_code = \"transmitter\"\n",
    "agent_type_display = \"Transmitter\"\n",
    "\n",
    "who_dict = new_dict(\n",
    "            reference = row.gateway_fhirid,\n",
    "            identifier = new_dict(value = row.gateway_identifier),  # business identifier\n",
    "            display = row.gateway_display,\n",
    "            )\n",
    "\n",
    "coding_dict = new_dict(\n",
    "            system = agent_type_system,\n",
    "            code = agent_type_code,\n",
    "            display = agent_type_display,\n",
    "            )\n",
    "\n",
    "element_dict =  new_dict(\n",
    "      type = new_dict(coding = [coding_dict],\n",
    "             text='Transmitter'),\n",
    "      who = who_dict,\n",
    "    )\n",
    "\n",
    "update_obj(element,element_dict,r_obj)\n",
    "print(r_obj.yaml())"
   ]
  },
  {
   "cell_type": "markdown",
   "metadata": {},
   "source": [
    "### Validate"
   ]
  },
  {
   "cell_type": "code",
   "execution_count": 31,
   "metadata": {},
   "outputs": [
    {
     "name": "stdout",
     "output_type": "stream",
     "text": [
      "foo\n",
      "Provenance\n",
      "...validating\n"
     ]
    },
    {
     "data": {
      "text/html": [
       "<h1>Validation output</h1><h3>Status Code = 200</h3> <div><p><b>Operation Outcome for :Validate resource </b></p><table class=\"grid\"><tr><td><b>Severity</b></td><td><b>Location</b></td><td><b>Details</b></td><td><b>Diagnostics</b></td><td><b>Type</b></td></tr><tr><td>warning</td><td/><td>A resource should have narrative for robust management () text.`div`.exists()</td><td/><td>invariant</td></tr><tr><td>warning</td><td/><td>None of the codes provided are in the value set http://hl7.org/fhir/ValueSet/provenance-agent-type (http://hl7.org/fhir/ValueSet/provenance-agent-type, and a code should come from this value set unless it has no suitable code</td><td/><td>code-invalid</td></tr></table></div>"
      ],
      "text/plain": [
       "<IPython.core.display.HTML object>"
      ]
     },
     "metadata": {},
     "output_type": "display_data"
    }
   ],
   "source": [
    "validate(r_obj)"
   ]
  },
  {
   "cell_type": "markdown",
   "metadata": {},
   "source": [
    "### Save Locally"
   ]
  },
  {
   "cell_type": "code",
   "execution_count": 32,
   "metadata": {},
   "outputs": [
    {
     "name": "stdout",
     "output_type": "stream",
     "text": [
      "...........saving to file /Users/ehaas/Documents/Python/MyNotebooks/Obs_maker/examples/Provenance/example.yaml............\n"
     ]
    },
    {
     "data": {
      "text/plain": [
       "637"
      ]
     },
     "execution_count": 32,
     "metadata": {},
     "output_type": "execute_result"
    }
   ],
   "source": [
    "ig_source_path = f'examples/{r_type}'\n",
    "path = Path.cwd() / ig_source_path / f'example.yaml' \n",
    "print(f'...........saving to file {path}............')\n",
    "path.write_text(r_obj.yaml())"
   ]
  },
  {
   "cell_type": "code",
   "execution_count": null,
   "metadata": {},
   "outputs": [],
   "source": []
  }
 ],
 "metadata": {
  "kernelspec": {
   "display_name": "Python 3.7.3 64-bit ('venv37': venv)",
   "language": "python",
   "name": "python37364bitvenv37venv2b400d68decb43d5b2206c004a019450"
  },
  "language_info": {
   "codemirror_mode": {
    "name": "ipython",
    "version": 3
   },
   "file_extension": ".py",
   "mimetype": "text/x-python",
   "name": "python",
   "nbconvert_exporter": "python",
   "pygments_lexer": "ipython3",
   "version": "3.7.3"
  }
 },
 "nbformat": 4,
 "nbformat_minor": 4
}
