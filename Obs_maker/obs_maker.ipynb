{
 "cells": [
  {
   "cell_type": "markdown",
   "metadata": {},
   "source": [
    "## Observation Maker\n",
    "\n",
    "1.  Enter source data in csv file to simulate patient generated wt observations\n",
    "\n",
    " - Hard Code: \n",
    "\n",
    "Patient use existing Synthea patient: Eldon718 Halvorson124  Patient/06e1f0dd-5fbe-4480-9bb4-6b54ec02d31b\n",
    "\n",
    " - Variables: \n",
    "\n",
    "    - measurement\n",
    "    - datetime\n",
    "    - context ? ( see OMH )\n",
    "    - device info\n",
    "    - sensed or entered\n",
    "    - SR Key?\n",
    "    \n",
    "- Add Reliability Tags \n",
    "- Add example name and description\n",
    "- Validate\n",
    "- Save"
   ]
  },
  {
   "cell_type": "code",
   "execution_count": 1,
   "metadata": {},
   "outputs": [
    {
     "name": "stdout",
     "output_type": "stream",
     "text": [
      "/Users/ehaas/Documents/Python/MyNotebooks/Obs_maker\n"
     ]
    }
   ],
   "source": [
    "%cd '/Users/ehaas/Documents/Python/MyNotebooks/Obs_maker'"
   ]
  },
  {
   "cell_type": "code",
   "execution_count": 3,
   "metadata": {},
   "outputs": [],
   "source": [
    "from fhir.resources.observation import Observation\n",
    "from fhir.resources import construct_fhir_element\n",
    "\n",
    "none_list = [None,{}]\n",
    "tag = True # add reliability tags to Observation \n",
    "#tag = False # no reliability tags to Observation \n",
    "# usually done on the server side see notes below..."
   ]
  },
  {
   "cell_type": "markdown",
   "metadata": {},
   "source": [
    "###  Import from YAML file Observation template\n",
    "\n",
    "for now fixed:\n",
    "\n",
    "- patient\n",
    "- code\n",
    "- category\n",
    "- status\n",
    "- valueQuantiry units, code"
   ]
  },
  {
   "cell_type": "code",
   "execution_count": 11,
   "metadata": {},
   "outputs": [
    {
     "name": "stdout",
     "output_type": "stream",
     "text": [
      "[Coding(resource_type='Coding', fhir_comments=None, extension=None, id=None, id__ext=None, code='laboratory', code__ext=None, display='Laboratory', display__ext=None, system='http://terminology.hl7.org/CodeSystem/observation-category', system__ext=None, userSelected=None, userSelected__ext=None, version=None, version__ext=None)]\n"
     ]
    }
   ],
   "source": [
    "obs_obj = Observation.parse_file(\"fhir_templates/Observation_a1c.yml\")#\"Observation_wt.yml\")\n",
    "#print(obs_obj.yaml())\n",
    "print(obs_obj.category[0].coding)"
   ]
  },
  {
   "cell_type": "markdown",
   "metadata": {},
   "source": [
    "### Functions to create fhir type dicts from data\n",
    "\n",
    "scrubs null from data too\n",
    "\n",
    "return only if object not empty else return None\n",
    "\n",
    "datatypes covered:\n",
    "\n",
    "- Identifier\n",
    "- Reference\n",
    "- Coding\n",
    "- Extension"
   ]
  },
  {
   "cell_type": "code",
   "execution_count": 5,
   "metadata": {},
   "outputs": [],
   "source": [
    "def new_dict(**kwargs):\n",
    "    none_list = [None,{}]\n",
    "    new_dict = {}\n",
    "    for k,v in kwargs.items():\n",
    "        #print(k,v)\n",
    "        new_dict[k] = v\n",
    "        #print(new_dict)\n",
    "    new_dict = {k: v for k, v in new_dict.items() if v==v and v not in none_list} # scrub dict of None   \n",
    "    if new_dict:\n",
    "        return new_dict"
   ]
  },
  {
   "cell_type": "markdown",
   "metadata": {},
   "source": [
    "### function to add complex elements to resource"
   ]
  },
  {
   "cell_type": "code",
   "execution_count": 6,
   "metadata": {},
   "outputs": [],
   "source": [
    "def update_obs(element,element_dict, resource = obs_obj):\n",
    "    element_type = next(i.type_.__resource_type__ for i in resource.element_properties() if i.name == element)\n",
    "    #print(f'element={element}\\nelement_dict={element_dict}\\nelement_type={element_type}')\n",
    "    if element_dict:\n",
    "        new_element=construct_fhir_element(element_type,element_dict)\n",
    "    else:\n",
    "        return\n",
    "    try: # assume not a list \n",
    "        setattr(resource,element,new_element) # not a list \n",
    "        #print(getattr(resource,element).yaml())\n",
    "    except: # treat as list\n",
    "        try: # assume list already exists\n",
    "            getattr(resource,element).append(new_element)\n",
    "        except: # list does not exist\n",
    "            setattr(resource,element,[new_element])\n",
    "        #print(getattr(resource,element)[0].yaml())"
   ]
  },
  {
   "cell_type": "markdown",
   "metadata": {},
   "source": [
    "### update the effective dataTime"
   ]
  },
  {
   "cell_type": "code",
   "execution_count": 7,
   "metadata": {},
   "outputs": [
    {
     "ename": "NameError",
     "evalue": "name 'row' is not defined",
     "output_type": "error",
     "traceback": [
      "\u001b[0;31m---------------------------------------------------------------------------\u001b[0m",
      "\u001b[0;31mNameError\u001b[0m                                 Traceback (most recent call last)",
      "\u001b[0;32m<ipython-input-7-8c6f7a28f6de>\u001b[0m in \u001b[0;36m<module>\u001b[0;34m\u001b[0m\n\u001b[0;32m----> 1\u001b[0;31m \u001b[0mobs_obj\u001b[0m\u001b[0;34m.\u001b[0m\u001b[0meffectiveDateTime\u001b[0m \u001b[0;34m=\u001b[0m \u001b[0mrow\u001b[0m\u001b[0;34m.\u001b[0m\u001b[0meffective_datetime\u001b[0m\u001b[0;34m\u001b[0m\u001b[0;34m\u001b[0m\u001b[0m\n\u001b[0m",
      "\u001b[0;31mNameError\u001b[0m: name 'row' is not defined"
     ]
    }
   ],
   "source": [
    "obs_obj.effectiveDateTime = row.effective_datetime"
   ]
  },
  {
   "cell_type": "markdown",
   "metadata": {},
   "source": [
    "### update the encounter\n",
    "\n",
    "what code or codes should be used for this  ( \"at home measuremet\")?\n",
    "\n",
    "todo ... review patent empowerment work."
   ]
  },
  {
   "cell_type": "code",
   "execution_count": null,
   "metadata": {},
   "outputs": [],
   "source": [
    "element = 'encounter'\n",
    "element_dict = new_dict(\n",
    "            reference = row.encounter_fhirid,\n",
    "            identifier = new_dict(value = row.encounter_identifier),  # business identifier\n",
    "            display = row.encounter_display,\n",
    "            )\n",
    "update_obs(element,element_dict)"
   ]
  },
  {
   "cell_type": "markdown",
   "metadata": {},
   "source": [
    "### update the value\n",
    "\n",
    " for now assume in pounds and only update the decimal value"
   ]
  },
  {
   "cell_type": "code",
   "execution_count": null,
   "metadata": {},
   "outputs": [],
   "source": [
    "\n",
    "obs_obj.valueQuantity.value = row.value\n",
    "#print(obs_obj.valueQuantity.yaml())"
   ]
  },
  {
   "cell_type": "markdown",
   "metadata": {},
   "source": [
    "### Add Device info which provides data provenance\n",
    "\n",
    "options\n",
    "\n",
    "- fhir id\n",
    "- identifier  ( can this be overloaded to indicate the identifier for device without doing a reference ? )\n",
    "- string "
   ]
  },
  {
   "cell_type": "code",
   "execution_count": null,
   "metadata": {},
   "outputs": [],
   "source": [
    "element = 'device'\n",
    "element_dict = new_dict(\n",
    "            reference = row.device_fhirid,\n",
    "            identifier = new_dict(value = row.device_identifier),  # business identifier\n",
    "            display = row.device_display,\n",
    "            )\n",
    "update_obs(element,element_dict)"
   ]
  },
  {
   "cell_type": "markdown",
   "metadata": {},
   "source": [
    "### Add SR Key to `basedOn` element\n",
    "\n",
    "options \n",
    "\n",
    "- fhir id\n",
    "- identifier ( can this be overloaded to indicate the identifier for device without doing a reference ? )\n",
    "- string\n"
   ]
  },
  {
   "cell_type": "code",
   "execution_count": null,
   "metadata": {},
   "outputs": [],
   "source": [
    "element = 'basedOn'\n",
    "element_dict = new_dict(\n",
    "            reference = row.servicerequest_fhirid,\n",
    "            identifier = new_dict(value = row.servicerequest_identifier),  # business identifier\n",
    "            display = row.servicerequest_display,\n",
    "            )\n",
    "update_obs(element,element_dict)"
   ]
  },
  {
   "cell_type": "markdown",
   "metadata": {},
   "source": [
    "### Add any device/gateway/service created identifier to observation\n",
    "\n",
    "see OMH for examples"
   ]
  },
  {
   "cell_type": "code",
   "execution_count": null,
   "metadata": {},
   "outputs": [],
   "source": [
    "element ='identifier'\n",
    "element_dict = new_dict(\n",
    "                value = row.identifier,\n",
    "                assigner = new_dict(display=row.assigner,)\n",
    "                )\n",
    "update_obs(element,element_dict)"
   ]
  },
  {
   "cell_type": "markdown",
   "metadata": {},
   "source": [
    "\n",
    "### Add source to observation\n",
    "\n",
    "[meta.source](http://build.fhir.org/resource-definitions.html#Meta.source) is one way to provide a simple provenance using for example, a business identifier\n",
    "\n",
    "this one option for providing provenance in addition to or instead of Device, basedOn, Identifier, Encounter or a full Provenance resource."
   ]
  },
  {
   "cell_type": "code",
   "execution_count": null,
   "metadata": {},
   "outputs": [],
   "source": [
    "if row.source == row.source:\n",
    "    obs_obj.meta.source = row.source"
   ]
  },
  {
   "cell_type": "markdown",
   "metadata": {},
   "source": [
    "### Add modality extension observation\n",
    "\n",
    "uri: `http://www.fhir.org/guides/omhtofhir/StructureDefinition/extension-modality`\n",
    "\n",
    "see [OMH](https://healthedata1.github.io/mFHIR/StructureDefinition-extension-modality.html)\n",
    "\n",
    "*NOTE: This extension was originally defined to go on the device element, but think is better on the Obervation*\n",
    "\n",
    "|Code|Display|Definition|\n",
    "|---|---|---|\n",
    "|sensed|Sensed|Device measurement is sensed directly by the device|\n",
    "|self-reported|Self Reported|Device measurement is entered by the user|\n",
    "\n"
   ]
  },
  {
   "cell_type": "code",
   "execution_count": null,
   "metadata": {},
   "outputs": [],
   "source": [
    "element = 'extension'\n",
    "if row.modality==row.modality:\n",
    "    element_dict = new_dict(\n",
    "                    valueCode = row.modality,\n",
    "                    url = 'http://www.fhir.org/guides/omhtofhir/StructureDefinition/extension-modality',\n",
    "                    )\n",
    "    update_obs(element,element_dict)"
   ]
  },
  {
   "cell_type": "markdown",
   "metadata": {},
   "source": [
    "### Add reliability tags to observation\n",
    "\n",
    "Using Josh's suggested codes as a starting point...\n",
    "\n",
    ">All data coming via the patient are submitted with a tag like {\"system\": \"http://terminology.hl7.org/CodeSystem/common-tags\", \"code\": \"patient-supplied\"}\n",
    "FHIR searches find resources with this tag by default; clients that don't want them can filter them out, through search params\n",
    "Providers and EHRs can do what they want with these data (e.g., leaving them tagged; reviewing and adding a provider-reviewed tag; reviewing and stripping the patient-supplied tag; deleting them...)\n",
    "\n",
    "for now need own system:\n",
    "\n",
    "url = `http://www.fhir.org/guides/argonaut/argo-write/CodeSystem/tags`\n",
    "\n",
    "|Code|Display|Definition|\n",
    "|---|---|---|\n",
    "|patient-supplied|Patient Supplied Data|Data is supplied by patient - either patient generated data or data generated elsewhere and forwarded by patient (todo get references to definitions of PGD)|\n",
    "|provider-reviewed|Provider Reviewed Data|Data is supplied by patient and has been reviewed by provider ( either manully or through some automated fashion)|"
   ]
  },
  {
   "cell_type": "code",
   "execution_count": null,
   "metadata": {},
   "outputs": [],
   "source": [
    "if tag:\n",
    "    url = 'http://www.fhir.org/guides/argonaut/argo-write/CodeSystem/tags'\n",
    "    tag = \"patient-supplied\"\n",
    "    element = 'tag'\n",
    "    element_dict = new_dict(system = 'http://www.fhir.org/guides/argonaut/argo-write/CodeSystem/tags',\n",
    "                        code = tag,\n",
    "                                   )\n",
    "\n",
    "    update_obs(element,element_dict,resource = obs_obj.meta)"
   ]
  },
  {
   "cell_type": "markdown",
   "metadata": {},
   "source": [
    "### Add description and example name extension to observation\n",
    "\n",
    "this annotates each example for future documentation"
   ]
  },
  {
   "cell_type": "code",
   "execution_count": null,
   "metadata": {},
   "outputs": [],
   "source": [
    "element = 'extension'\n",
    "if row.instance_name==row.instance_name:\n",
    "    element_dict = new_dict(\n",
    "                    valueString = row.instance_name,\n",
    "                    url = 'http://hl7.org/fhir/StructureDefinition/instance-name',\n",
    "                    )\n",
    "    update_obs(element,element_dict,resource = obs_obj.meta)"
   ]
  },
  {
   "cell_type": "code",
   "execution_count": null,
   "metadata": {},
   "outputs": [],
   "source": [
    "element = 'extension'\n",
    "if row.instance_description==row.instance_description:\n",
    "    element_dict = dict(\n",
    "                    valueMarkdown = row.instance_description,\n",
    "                    url = 'http://hl7.org/fhir/StructureDefinition/instance-description',\n",
    "                    )\n",
    "    update_obs(element,element_dict,resource = obs_obj.meta)"
   ]
  },
  {
   "cell_type": "code",
   "execution_count": null,
   "metadata": {},
   "outputs": [],
   "source": [
    "print(obs_obj.yaml())"
   ]
  },
  {
   "cell_type": "markdown",
   "metadata": {},
   "source": [
    "### Validate"
   ]
  },
  {
   "cell_type": "code",
   "execution_count": null,
   "metadata": {},
   "outputs": [],
   "source": [
    "from requests import post\n",
    "from IPython.display import display as Display, HTML\n",
    "def validate(data):\n",
    "\n",
    "    #fhir_test_server = 'http://test.fhir.org/r4'\n",
    "    #fhir_test_server = 'http://hapi.fhir.org/baseR4'\n",
    "    fhir_test_server = 'http://wildfhir4.aegis.net/fhir4-0-1'\n",
    "    \n",
    "    headers = {\n",
    "    'Accept':'application/fhir+json',\n",
    "    'Content-Type':'application/fhir+json'\n",
    "    }\n",
    "    r = post(f'{fhir_test_server}/Observation/$validate', headers = headers, data = data)\n",
    "    return r\n",
    "\n",
    "print('...validating')\n",
    "r = validate(obs_obj.json())\n",
    "r.status_code, r.json()\n",
    "Display(HTML(f'<h1>Validation output</h1><h3>Status Code = {r.status_code}</h3> {r.json()[\"text\"][\"div\"]}'))"
   ]
  },
  {
   "cell_type": "markdown",
   "metadata": {},
   "source": [
    "### Save Locally"
   ]
  },
  {
   "cell_type": "code",
   "execution_count": null,
   "metadata": {},
   "outputs": [],
   "source": [
    "from pathlib import Path\n",
    "ig_source_path = 'examples'\n",
    "if tag:\n",
    "    path = Path.cwd() / ig_source_path / f'{obs_obj.meta.extension[0].valueString}_tagged.yaml'\n",
    "else:\n",
    "    path = Path.cwd() / ig_source_path / f'{obs_obj.meta.extension[0].valueString}.yaml'   \n",
    "print(f'...........saving to file {path}............')\n",
    "path.write_text(obs_obj.yaml())"
   ]
  },
  {
   "cell_type": "code",
   "execution_count": null,
   "metadata": {},
   "outputs": [],
   "source": []
  }
 ],
 "metadata": {
  "kernelspec": {
   "display_name": "Python 3.7.3 64-bit ('venv37': venv)",
   "language": "python",
   "name": "python37364bitvenv37venv2b400d68decb43d5b2206c004a019450"
  },
  "language_info": {
   "codemirror_mode": {
    "name": "ipython",
    "version": 3
   },
   "file_extension": ".py",
   "mimetype": "text/x-python",
   "name": "python",
   "nbconvert_exporter": "python",
   "pygments_lexer": "ipython3",
   "version": "3.7.3"
  }
 },
 "nbformat": 4,
 "nbformat_minor": 4
}
