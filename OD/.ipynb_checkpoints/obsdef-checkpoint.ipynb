{
 "cells": [
  {
   "cell_type": "markdown",
   "metadata": {
    "inputHidden": false,
    "outputHidden": false
   },
   "source": [
    "## Using OperationDefinition to generate Observation instances\n",
    "\n",
    "See discussion on [Zulip](https://chat.fhir.org/#narrow/stream/179166-implementers/topic/Generic.20or.20specific.20profiles.3F) regarding the common and simple need for a way to use [ObservationDefinition](http://build.fhir.org/observationdefinition.html) as table or spreadsheet to create Observation instances based on a few 'base' profiles.ObservationDefinition needs to be structured simply and flat enough to be able to directly transform into a table to contain the stuff you need for creating an Observation.\n",
    "\n",
    "The following proof of concept Python script demonstrates this.  It takes the following input artifacts:\n",
    "\n",
    "1. patients results\n",
    "2. ObservationDefinition instances **represented by a row in a CSV file**\n",
    "3. a common Observation template (i.e. a declared Observation Profile)\n",
    "\n",
    "to generates Observation instances.\n",
    "\n",
    "Each row of the ObservationDefinition table is applied to a nominated Observation profile to create an Observation \"form\".  The patient data is inserted into this \"form\" to create the FHIR Observation for that instance.\n",
    "\n",
    "The set of data about the tests whether represented as a bundle or as a in a table is like a \"Dictionary of Observation type\" for use.  This is a shortcut to creating 100s or 1000s of individual profiles.  Instead you would need only a few common Observation Profile for each type ( e.g. quantitative ) of Observation.\n",
    "\n",
    "This use case extends ObservationDefinition scope to include *both* for informing the contents of a Service Catalog or Instrument Specification as well as providing the constraints for the Observations.  This scope would overlap with StructureDefinition.\n",
    "\n",
    "**Skip down to [Create Observations](#another_cell) to see this in action  the first part is a bunch of Python code to set it up.**"
   ]
  },
  {
   "cell_type": "markdown",
   "metadata": {
    "inputHidden": false,
    "outputHidden": false
   },
   "source": [
    "General Python Instructions:\n",
    "Run in python 3.6\n",
    "\n",
    "Outline:\n",
    "    \n",
    "1. Read rows from ObservationDefinition(OD) spreadsheet representation to namedTuple\n",
    "2. Apply OD data to named profile (SD)\n",
    "3. Write/display/validate profile"
   ]
  },
  {
   "cell_type": "markdown",
   "metadata": {
    "inputHidden": false,
    "outputHidden": false
   },
   "source": [
    "## Imports"
   ]
  },
  {
   "cell_type": "code",
   "execution_count": 72,
   "metadata": {
    "inputHidden": false,
    "outputHidden": false
   },
   "outputs": [],
   "source": [
    "from csv import reader\n",
    "from datetime import datetime\n",
    "from collections import namedtuple\n",
    "from pandas import read_csv, DataFrame\n",
    "from json import dumps\n",
    "from requests import post, get\n",
    "from IPython.display import display, Markdown\n",
    "from pathlib import Path"
   ]
  },
  {
   "cell_type": "markdown",
   "metadata": {
    "inputHidden": false,
    "outputHidden": false
   },
   "source": [
    "## Global Variables "
   ]
  },
  {
   "cell_type": "code",
   "execution_count": 73,
   "metadata": {
    "inputHidden": false,
    "outputHidden": false
   },
   "outputs": [
    {
     "data": {
      "text/plain": [
       "PosixPath('/Users/ehaas/Documents/Python/MyNotebooks/OD')"
      ]
     },
     "execution_count": 73,
     "metadata": {},
     "output_type": "execute_result"
    }
   ],
   "source": [
    "# in_file = '/Users/ehaas/Documents/Python/Notebooks/OD - od.csv'\n",
    "p = Path.cwd()\n",
    "p"
   ]
  },
  {
   "cell_type": "code",
   "execution_count": 74,
   "metadata": {
    "inputHidden": false,
    "outputHidden": false
   },
   "outputs": [
    {
     "data": {
      "text/plain": [
       "PosixPath('/Users/ehaas/Documents/Python/MyNotebooks/OD/OD_to_Obs.csv')"
      ]
     },
     "execution_count": 74,
     "metadata": {},
     "output_type": "execute_result"
    }
   ],
   "source": [
    "in_file = p / 'OD_to_Obs.csv'\n",
    "in_file"
   ]
  },
  {
   "cell_type": "code",
   "execution_count": 75,
   "metadata": {
    "inputHidden": false,
    "outputHidden": false
   },
   "outputs": [],
   "source": [
    "sheet_name = 'od'\n",
    "now = f'{datetime.utcnow().isoformat()}Z'\n",
    "outfile = 'outfile'  # name of output file\n",
    "headers = {\n",
    "'Accept':'application/fhir+json',\n",
    "'Content-Type':'application/fhir+json'\n",
    "}\n",
    "fhir_test_server = 'http://test.fhir.org/r4'"
   ]
  },
  {
   "cell_type": "markdown",
   "metadata": {},
   "source": [
    "## Fetch data from csv file"
   ]
  },
  {
   "cell_type": "code",
   "execution_count": 76,
   "metadata": {
    "inputHidden": false,
    "outputHidden": false
   },
   "outputs": [],
   "source": [
    "# dataframes are a pain so will reload as a csv and\n",
    "# use named tuple structure\n",
    "def get_testinfo():\n",
    "\n",
    "    with in_file.open(mode='r', encoding = \"ISO-8859-1\") as f:\n",
    "        rows = reader(f)\n",
    "        top_row = next(rows)\n",
    "        # top_row = [t.lower().split(' ') for t in top_row]\n",
    "        # top_row = ['_'.join(t) for t in top_row]\n",
    "        # for t in top_row:\n",
    "            # print(t)\n",
    "        Data = namedtuple(\"Data\", top_row)\n",
    "        # next(reader) # skip 2nd row of definitions\n",
    "        data = [Data(*r) for r in rows]\n",
    "        return data\n",
    "\n",
    "    # using named tuple structure make getting data all nice n pretty like\n",
    "    # allow one to use dot notation like 'data[0].name'\n",
    "\n",
    "    #print(f'name = {data[0].Name}\\\n",
    "    #      \\ndescription = {data[0].Description}\\\n",
    "    #      \\ncode = {data[0].codeCoding_0_Code}')\n",
    "\n",
    "# d = get_testinfo()\n",
    "# print(d[0].OD_id)"
   ]
  },
  {
   "cell_type": "markdown",
   "metadata": {},
   "source": [
    "<a id='another_cell'></a>\n",
    "## Create Observations"
   ]
  },
  {
   "cell_type": "markdown",
   "metadata": {},
   "source": [
    "### Gather patient information (just a namedtuple for this demo instead of FHIR object)"
   ]
  },
  {
   "cell_type": "code",
   "execution_count": 77,
   "metadata": {
    "inputHidden": false,
    "outputHidden": false
   },
   "outputs": [
    {
     "name": "stdout",
     "output_type": "stream",
     "text": [
      "Patient Name = Jane Doe,  Patient Id = 1234\n"
     ]
    }
   ],
   "source": [
    "obs_list=[]\n",
    "# get patient (just a namedtuple for this demo instead of FHIR object)\n",
    "Patient = namedtuple('Patient','id name')\n",
    "patient = Patient('1234','Jane Doe')\n",
    "\n",
    "print(f'Patient Name = {patient.name},  Patient Id = {patient.id}')"
   ]
  },
  {
   "cell_type": "markdown",
   "metadata": {
    "inputHidden": false,
    "outputHidden": false
   },
   "source": [
    "### Preview ObservationDefinition Data about the test  from csv file"
   ]
  },
  {
   "cell_type": "code",
   "execution_count": 78,
   "metadata": {
    "inputHidden": false,
    "outputHidden": false
   },
   "outputs": [
    {
     "name": "stdout",
     "output_type": "stream",
     "text": [
      "Test=ObservationDefinition data:\n"
     ]
    },
    {
     "data": {
      "text/html": [
       "<div>\n",
       "<style scoped>\n",
       "    .dataframe tbody tr th:only-of-type {\n",
       "        vertical-align: middle;\n",
       "    }\n",
       "\n",
       "    .dataframe tbody tr th {\n",
       "        vertical-align: top;\n",
       "    }\n",
       "\n",
       "    .dataframe thead th {\n",
       "        text-align: right;\n",
       "    }\n",
       "</style>\n",
       "<table border=\"1\" class=\"dataframe\">\n",
       "  <thead>\n",
       "    <tr style=\"text-align: right;\">\n",
       "      <th></th>\n",
       "      <th>OD_id</th>\n",
       "      <th>OD_code_coding_0_code</th>\n",
       "      <th>OD_code_coding_0_display</th>\n",
       "      <th>OD_code_coding_0_system</th>\n",
       "      <th>OD_code_text</th>\n",
       "      <th>OD_identifier_0_value</th>\n",
       "      <th>OD_name</th>\n",
       "      <th>OD_qualifiedInterval_0_context_coding_0_code</th>\n",
       "      <th>OD_qualifiedInterval_0_range_high_code</th>\n",
       "      <th>OD_qualifiedInterval_0_range_high_system</th>\n",
       "      <th>OD_qualifiedInterval_0_range_high_unit</th>\n",
       "      <th>OD_qualifiedInterval_0_range_high_value</th>\n",
       "      <th>OD_qualifiedInterval_0_range_low_code</th>\n",
       "      <th>OD_qualifiedInterval_0_range_low_system</th>\n",
       "      <th>OD_qualifiedInterval_0_range_low_unit</th>\n",
       "      <th>OD_qualifiedInterval_0_range_low_value</th>\n",
       "      <th>OD_quantitativeDetails_customaryUnit_coding_0_code</th>\n",
       "      <th>OD_quantitativeDetails_customaryUnit_coding_0_system</th>\n",
       "      <th>OD_quantitativeDetails_unit_coding_0_code</th>\n",
       "      <th>OD_quantitativeDetails_unit_coding_0_system</th>\n",
       "    </tr>\n",
       "  </thead>\n",
       "  <tbody>\n",
       "    <tr>\n",
       "      <th>0</th>\n",
       "      <td>bg</td>\n",
       "      <td>2339-0</td>\n",
       "      <td>Glucose Bld-mCnc</td>\n",
       "      <td>http://loinc.org</td>\n",
       "      <td>Glucose Bld-mCnc</td>\n",
       "      <td>bg</td>\n",
       "      <td>Blood Glucose OperationDefinition</td>\n",
       "      <td>normal</td>\n",
       "      <td>mg/dL</td>\n",
       "      <td>mg/dL</td>\n",
       "      <td>http://unitsofmeasure.org</td>\n",
       "      <td>99</td>\n",
       "      <td>mg/dL</td>\n",
       "      <td>mg/dL</td>\n",
       "      <td>http://unitsofmeasure.org</td>\n",
       "      <td>70</td>\n",
       "      <td>mg/dL</td>\n",
       "      <td>http://unitsofmeasure.org</td>\n",
       "      <td>mg/dL</td>\n",
       "      <td>http://unitsofmeasure.org</td>\n",
       "    </tr>\n",
       "    <tr>\n",
       "      <th>1</th>\n",
       "      <td>bun</td>\n",
       "      <td>3094-0</td>\n",
       "      <td>BUN SerPl-mCnc</td>\n",
       "      <td>http://loinc.org</td>\n",
       "      <td>BUN SerPl-mCnc</td>\n",
       "      <td>bun</td>\n",
       "      <td>BUN OperationDefinition</td>\n",
       "      <td>normal</td>\n",
       "      <td>mg/dL</td>\n",
       "      <td>mg/dL</td>\n",
       "      <td>http://unitsofmeasure.org</td>\n",
       "      <td>20</td>\n",
       "      <td>mg/dL</td>\n",
       "      <td>mg/dL</td>\n",
       "      <td>http://unitsofmeasure.org</td>\n",
       "      <td>7</td>\n",
       "      <td>mg/dL</td>\n",
       "      <td>http://unitsofmeasure.org</td>\n",
       "      <td>mg/dL</td>\n",
       "      <td>http://unitsofmeasure.org</td>\n",
       "    </tr>\n",
       "    <tr>\n",
       "      <th>2</th>\n",
       "      <td>na</td>\n",
       "      <td>2951-2</td>\n",
       "      <td>Sodium SerPl-sCnc</td>\n",
       "      <td>http://loinc.org</td>\n",
       "      <td>Sodium SerPl-sCnc</td>\n",
       "      <td>na</td>\n",
       "      <td>Serum Sodium OperationDefinition</td>\n",
       "      <td>normal</td>\n",
       "      <td>mmol/L</td>\n",
       "      <td>mmol/L</td>\n",
       "      <td>http://unitsofmeasure.org</td>\n",
       "      <td>145</td>\n",
       "      <td>mmol/L</td>\n",
       "      <td>mmol/L</td>\n",
       "      <td>http://unitsofmeasure.org</td>\n",
       "      <td>135</td>\n",
       "      <td>mmol/L</td>\n",
       "      <td>http://unitsofmeasure.org</td>\n",
       "      <td>mmol/L</td>\n",
       "      <td>http://unitsofmeasure.org</td>\n",
       "    </tr>\n",
       "  </tbody>\n",
       "</table>\n",
       "</div>"
      ],
      "text/plain": [
       "  OD_id OD_code_coding_0_code OD_code_coding_0_display  \\\n",
       "0    bg                2339-0         Glucose Bld-mCnc   \n",
       "1   bun                3094-0           BUN SerPl-mCnc   \n",
       "2    na                2951-2        Sodium SerPl-sCnc   \n",
       "\n",
       "  OD_code_coding_0_system       OD_code_text OD_identifier_0_value  \\\n",
       "0        http://loinc.org   Glucose Bld-mCnc                    bg   \n",
       "1        http://loinc.org     BUN SerPl-mCnc                   bun   \n",
       "2        http://loinc.org  Sodium SerPl-sCnc                    na   \n",
       "\n",
       "                             OD_name  \\\n",
       "0  Blood Glucose OperationDefinition   \n",
       "1            BUN OperationDefinition   \n",
       "2   Serum Sodium OperationDefinition   \n",
       "\n",
       "  OD_qualifiedInterval_0_context_coding_0_code  \\\n",
       "0                                       normal   \n",
       "1                                       normal   \n",
       "2                                       normal   \n",
       "\n",
       "  OD_qualifiedInterval_0_range_high_code  \\\n",
       "0                                  mg/dL   \n",
       "1                                  mg/dL   \n",
       "2                                 mmol/L   \n",
       "\n",
       "  OD_qualifiedInterval_0_range_high_system  \\\n",
       "0                                    mg/dL   \n",
       "1                                    mg/dL   \n",
       "2                                   mmol/L   \n",
       "\n",
       "  OD_qualifiedInterval_0_range_high_unit  \\\n",
       "0              http://unitsofmeasure.org   \n",
       "1              http://unitsofmeasure.org   \n",
       "2              http://unitsofmeasure.org   \n",
       "\n",
       "   OD_qualifiedInterval_0_range_high_value  \\\n",
       "0                                       99   \n",
       "1                                       20   \n",
       "2                                      145   \n",
       "\n",
       "  OD_qualifiedInterval_0_range_low_code  \\\n",
       "0                                 mg/dL   \n",
       "1                                 mg/dL   \n",
       "2                                mmol/L   \n",
       "\n",
       "  OD_qualifiedInterval_0_range_low_system  \\\n",
       "0                                   mg/dL   \n",
       "1                                   mg/dL   \n",
       "2                                  mmol/L   \n",
       "\n",
       "  OD_qualifiedInterval_0_range_low_unit  \\\n",
       "0             http://unitsofmeasure.org   \n",
       "1             http://unitsofmeasure.org   \n",
       "2             http://unitsofmeasure.org   \n",
       "\n",
       "   OD_qualifiedInterval_0_range_low_value  \\\n",
       "0                                      70   \n",
       "1                                       7   \n",
       "2                                     135   \n",
       "\n",
       "  OD_quantitativeDetails_customaryUnit_coding_0_code  \\\n",
       "0                                              mg/dL   \n",
       "1                                              mg/dL   \n",
       "2                                             mmol/L   \n",
       "\n",
       "  OD_quantitativeDetails_customaryUnit_coding_0_system  \\\n",
       "0                          http://unitsofmeasure.org     \n",
       "1                          http://unitsofmeasure.org     \n",
       "2                          http://unitsofmeasure.org     \n",
       "\n",
       "  OD_quantitativeDetails_unit_coding_0_code  \\\n",
       "0                                     mg/dL   \n",
       "1                                     mg/dL   \n",
       "2                                    mmol/L   \n",
       "\n",
       "  OD_quantitativeDetails_unit_coding_0_system  \n",
       "0                   http://unitsofmeasure.org  \n",
       "1                   http://unitsofmeasure.org  \n",
       "2                   http://unitsofmeasure.org  "
      ]
     },
     "execution_count": 78,
     "metadata": {},
     "output_type": "execute_result"
    }
   ],
   "source": [
    "df = read_csv(in_file, encoding = \"ISO-8859-1\")\n",
    "# to convert to named tuple\n",
    "#Data = namedtuple('Data', df.columns)\n",
    "#data = [Data(*r[1:]) for r in df.itertuples() if r[0] > 0]\n",
    "print('Test=ObservationDefinition data:')\n",
    "df.dropna(axis='columns')"
   ]
  },
  {
   "cell_type": "markdown",
   "metadata": {},
   "source": [
    "###  Get Test Result Data - (just a dictionary or hash for this example)"
   ]
  },
  {
   "cell_type": "code",
   "execution_count": 79,
   "metadata": {
    "inputHidden": false,
    "outputHidden": false
   },
   "outputs": [
    {
     "name": "stdout",
     "output_type": "stream",
     "text": [
      "Test Result Values:\n"
     ]
    },
    {
     "data": {
      "text/html": [
       "<div>\n",
       "<style scoped>\n",
       "    .dataframe tbody tr th:only-of-type {\n",
       "        vertical-align: middle;\n",
       "    }\n",
       "\n",
       "    .dataframe tbody tr th {\n",
       "        vertical-align: top;\n",
       "    }\n",
       "\n",
       "    .dataframe thead th {\n",
       "        text-align: right;\n",
       "    }\n",
       "</style>\n",
       "<table border=\"1\" class=\"dataframe\">\n",
       "  <thead>\n",
       "    <tr style=\"text-align: right;\">\n",
       "      <th></th>\n",
       "      <th>Test Name</th>\n",
       "      <th>Value</th>\n",
       "      <th>TimeStamp</th>\n",
       "    </tr>\n",
       "  </thead>\n",
       "  <tbody>\n",
       "    <tr>\n",
       "      <th>0</th>\n",
       "      <td>bg</td>\n",
       "      <td>96.0</td>\n",
       "      <td>2020-01-16T21:43:18.119417Z</td>\n",
       "    </tr>\n",
       "    <tr>\n",
       "      <th>1</th>\n",
       "      <td>bun</td>\n",
       "      <td>20.0</td>\n",
       "      <td>2020-01-16T21:43:18.119417Z</td>\n",
       "    </tr>\n",
       "    <tr>\n",
       "      <th>2</th>\n",
       "      <td>na</td>\n",
       "      <td>135.0</td>\n",
       "      <td>2020-01-16T21:43:18.119417Z</td>\n",
       "    </tr>\n",
       "  </tbody>\n",
       "</table>\n",
       "</div>"
      ],
      "text/plain": [
       "  Test Name  Value                    TimeStamp\n",
       "0        bg   96.0  2020-01-16T21:43:18.119417Z\n",
       "1       bun   20.0  2020-01-16T21:43:18.119417Z\n",
       "2        na  135.0  2020-01-16T21:43:18.119417Z"
      ]
     },
     "execution_count": 79,
     "metadata": {},
     "output_type": "execute_result"
    }
   ],
   "source": [
    "# get test result data - (just a dictionary or hash for this example)\n",
    "# k = test name : v = (result value, timestamp)\n",
    "results = dict(\n",
    "    bg = (96.0, now),\n",
    "    bun = (20.0, now),\n",
    "    na = (135.0, now)\n",
    "    ) \n",
    "print('Test Result Values:')\n",
    "DataFrame([[k] + list(v) for k,v in results.items()], columns=['Test Name', 'Value', \"TimeStamp\"])"
   ]
  },
  {
   "cell_type": "markdown",
   "metadata": {},
   "source": [
    "### Observation template (profile instance)\n",
    "\n",
    "This is a function that returns a fully populated template."
   ]
  },
  {
   "cell_type": "code",
   "execution_count": 80,
   "metadata": {
    "inputHidden": false,
    "outputHidden": false
   },
   "outputs": [],
   "source": [
    "def get_obs(t, p, r, s):# apply od spreadsheet data , patient info, results and status to profile \n",
    "    value, effective = r\n",
    "    return {\n",
    "      'resourceType': 'Observation',\n",
    "      'meta': { 'profile': ['http://hl7.org/fhir/us/core/StructureDefinition/us-core-observationresults'],\n",
    "      },\n",
    "      'status': s,\n",
    "      'category': [{\n",
    "        'coding': [\n",
    "          {\n",
    "            'system': 'http://hl7.org/fhir/observation-category',\n",
    "            'code': 'laboratory',\n",
    "            'display': 'Laboratory'\n",
    "          }\n",
    "        ],\n",
    "        'text': 'Laboratory'\n",
    "      }],\n",
    "      'code': {\n",
    "        'coding': [\n",
    "          {\n",
    "            'system': 'http://loinc.org',\n",
    "            'code': t.OD_code_coding_0_code,\n",
    "            'display': t.OD_code_coding_0_display\n",
    "          }\n",
    "        ],\n",
    "        'text': t.OD_code_text\n",
    "      },\n",
    "      'subject': {\n",
    "        'reference': f'Patient/{p.id}',\n",
    "          'display': p.name\n",
    "      },\n",
    "        \n",
    "      'effectiveDateTime': effective,\n",
    "      'valueQuantity': {\n",
    "        'value': value,\n",
    "        'unit': t.OD_quantitativeDetails_customaryUnit_coding_0_code,\n",
    "        'system': t.OD_quantitativeDetails_unit_coding_0_system,\n",
    "        'code': t.OD_quantitativeDetails_unit_coding_0_code\n",
    "          },\n",
    "      'referenceRange': [\n",
    "        {\n",
    "          'low': {\n",
    "            'value': float(t.OD_qualifiedInterval_0_range_low_value),\n",
    "            'unit': t.OD_quantitativeDetails_customaryUnit_coding_0_code,\n",
    "            'system': t.OD_quantitativeDetails_unit_coding_0_system,\n",
    "            'code': t.OD_quantitativeDetails_unit_coding_0_code\n",
    "          },\n",
    "          'high': {\n",
    "            'value': float(t.OD_qualifiedInterval_0_range_high_value),\n",
    "            'unit': t.OD_quantitativeDetails_customaryUnit_coding_0_code,\n",
    "            'system': t.OD_quantitativeDetails_unit_coding_0_system,\n",
    "            'code': t.OD_quantitativeDetails_unit_coding_0_code\n",
    "          },\n",
    "          'type': {\n",
    "            'coding': [\n",
    "              {\n",
    "                'system': 'http://hl7.org/fhir/referencerange-meaning',\n",
    "                'code': t.OD_qualifiedInterval_0_context_coding_0_code,\n",
    "              }\n",
    "            ]\n",
    "           }\n",
    "         }\n",
    "       ]     \n",
    "     }\n",
    "\n",
    "\n"
   ]
  },
  {
   "cell_type": "markdown",
   "metadata": {},
   "source": [
    "### Create Observation Instance with above data as inputs "
   ]
  },
  {
   "cell_type": "code",
   "execution_count": 81,
   "metadata": {
    "inputHidden": false,
    "outputHidden": false
   },
   "outputs": [
    {
     "name": "stdout",
     "output_type": "stream",
     "text": [
      "get test information from od spreadsheets:\n",
      "\n",
      "\n",
      "=============================================================================== \n",
      " ============================== Jane Doe Blood Glucose OperationDefinition results ============================== \n",
      " ===============================================================================\n",
      "Observation = {\n",
      "   \"resourceType\": \"Observation\",\n",
      "   \"meta\": {\n",
      "      \"profile\": [\n",
      "         \"http://hl7.org/fhir/us/core/StructureDefinition/us-core-observationresults\"\n",
      "      ]\n",
      "   },\n",
      "   \"status\": \"preliminary\",\n",
      "   \"category\": [\n",
      "      {\n",
      "         \"coding\": [\n",
      "            {\n",
      "               \"system\": \"http://hl7.org/fhir/observation-category\",\n",
      "               \"code\": \"laboratory\",\n",
      "               \"display\": \"Laboratory\"\n",
      "            }\n",
      "         ],\n",
      "         \"text\": \"Laboratory\"\n",
      "      }\n",
      "   ],\n",
      "   \"code\": {\n",
      "      \"coding\": [\n",
      "         {\n",
      "            \"system\": \"http://loinc.org\",\n",
      "            \"code\": \"2339-0\",\n",
      "            \"display\": \"Glucose Bld-mCnc\"\n",
      "         }\n",
      "      ],\n",
      "      \"text\": \"Glucose Bld-mCnc\"\n",
      "   },\n",
      "   \"subject\": {\n",
      "      \"reference\": \"Patient/1234\",\n",
      "      \"display\": \"Jane Doe\"\n",
      "   },\n",
      "   \"effectiveDateTime\": \"2020-01-16T21:43:18.119417Z\",\n",
      "   \"valueQuantity\": {\n",
      "      \"value\": 96.0,\n",
      "      \"unit\": \"mg/dL\",\n",
      "      \"system\": \"http://unitsofmeasure.org\",\n",
      "      \"code\": \"mg/dL\"\n",
      "   },\n",
      "   \"referenceRange\": [\n",
      "      {\n",
      "         \"low\": {\n",
      "            \"value\": 70.0,\n",
      "            \"unit\": \"mg/dL\",\n",
      "            \"system\": \"http://unitsofmeasure.org\",\n",
      "            \"code\": \"mg/dL\"\n",
      "         },\n",
      "         \"high\": {\n",
      "            \"value\": 99.0,\n",
      "            \"unit\": \"mg/dL\",\n",
      "            \"system\": \"http://unitsofmeasure.org\",\n",
      "            \"code\": \"mg/dL\"\n",
      "         },\n",
      "         \"type\": {\n",
      "            \"coding\": [\n",
      "               {\n",
      "                  \"system\": \"http://hl7.org/fhir/referencerange-meaning\",\n",
      "                  \"code\": \"normal\"\n",
      "               }\n",
      "            ]\n",
      "         }\n",
      "      }\n",
      "   ]\n",
      "}\n",
      "=============================================================================== \n",
      " ============================== Jane Doe BUN OperationDefinition results ============================== \n",
      " ===============================================================================\n",
      "Observation = {\n",
      "   \"resourceType\": \"Observation\",\n",
      "   \"meta\": {\n",
      "      \"profile\": [\n",
      "         \"http://hl7.org/fhir/us/core/StructureDefinition/us-core-observationresults\"\n",
      "      ]\n",
      "   },\n",
      "   \"status\": \"preliminary\",\n",
      "   \"category\": [\n",
      "      {\n",
      "         \"coding\": [\n",
      "            {\n",
      "               \"system\": \"http://hl7.org/fhir/observation-category\",\n",
      "               \"code\": \"laboratory\",\n",
      "               \"display\": \"Laboratory\"\n",
      "            }\n",
      "         ],\n",
      "         \"text\": \"Laboratory\"\n",
      "      }\n",
      "   ],\n",
      "   \"code\": {\n",
      "      \"coding\": [\n",
      "         {\n",
      "            \"system\": \"http://loinc.org\",\n",
      "            \"code\": \"3094-0\",\n",
      "            \"display\": \"BUN SerPl-mCnc\"\n",
      "         }\n",
      "      ],\n",
      "      \"text\": \"BUN SerPl-mCnc\"\n",
      "   },\n",
      "   \"subject\": {\n",
      "      \"reference\": \"Patient/1234\",\n",
      "      \"display\": \"Jane Doe\"\n",
      "   },\n",
      "   \"effectiveDateTime\": \"2020-01-16T21:43:18.119417Z\",\n",
      "   \"valueQuantity\": {\n",
      "      \"value\": 20.0,\n",
      "      \"unit\": \"mg/dL\",\n",
      "      \"system\": \"http://unitsofmeasure.org\",\n",
      "      \"code\": \"mg/dL\"\n",
      "   },\n",
      "   \"referenceRange\": [\n",
      "      {\n",
      "         \"low\": {\n",
      "            \"value\": 7.0,\n",
      "            \"unit\": \"mg/dL\",\n",
      "            \"system\": \"http://unitsofmeasure.org\",\n",
      "            \"code\": \"mg/dL\"\n",
      "         },\n",
      "         \"high\": {\n",
      "            \"value\": 20.0,\n",
      "            \"unit\": \"mg/dL\",\n",
      "            \"system\": \"http://unitsofmeasure.org\",\n",
      "            \"code\": \"mg/dL\"\n",
      "         },\n",
      "         \"type\": {\n",
      "            \"coding\": [\n",
      "               {\n",
      "                  \"system\": \"http://hl7.org/fhir/referencerange-meaning\",\n",
      "                  \"code\": \"normal\"\n",
      "               }\n",
      "            ]\n",
      "         }\n",
      "      }\n",
      "   ]\n",
      "}\n",
      "=============================================================================== \n",
      " ============================== Jane Doe Serum Sodium OperationDefinition results ============================== \n",
      " ===============================================================================\n",
      "Observation = {\n",
      "   \"resourceType\": \"Observation\",\n",
      "   \"meta\": {\n",
      "      \"profile\": [\n",
      "         \"http://hl7.org/fhir/us/core/StructureDefinition/us-core-observationresults\"\n",
      "      ]\n",
      "   },\n",
      "   \"status\": \"preliminary\",\n",
      "   \"category\": [\n",
      "      {\n",
      "         \"coding\": [\n",
      "            {\n",
      "               \"system\": \"http://hl7.org/fhir/observation-category\",\n",
      "               \"code\": \"laboratory\",\n",
      "               \"display\": \"Laboratory\"\n",
      "            }\n",
      "         ],\n",
      "         \"text\": \"Laboratory\"\n",
      "      }\n",
      "   ],\n",
      "   \"code\": {\n",
      "      \"coding\": [\n",
      "         {\n",
      "            \"system\": \"http://loinc.org\",\n",
      "            \"code\": \"2951-2\",\n",
      "            \"display\": \"Sodium SerPl-sCnc\"\n",
      "         }\n",
      "      ],\n",
      "      \"text\": \"Sodium SerPl-sCnc\"\n",
      "   },\n",
      "   \"subject\": {\n",
      "      \"reference\": \"Patient/1234\",\n",
      "      \"display\": \"Jane Doe\"\n",
      "   },\n",
      "   \"effectiveDateTime\": \"2020-01-16T21:43:18.119417Z\",\n",
      "   \"valueQuantity\": {\n",
      "      \"value\": 135.0,\n",
      "      \"unit\": \"mmol/L\",\n",
      "      \"system\": \"http://unitsofmeasure.org\",\n",
      "      \"code\": \"mmol/L\"\n",
      "   },\n",
      "   \"referenceRange\": [\n",
      "      {\n",
      "         \"low\": {\n",
      "            \"value\": 135.0,\n",
      "            \"unit\": \"mmol/L\",\n",
      "            \"system\": \"http://unitsofmeasure.org\",\n",
      "            \"code\": \"mmol/L\"\n",
      "         },\n",
      "         \"high\": {\n",
      "            \"value\": 145.0,\n",
      "            \"unit\": \"mmol/L\",\n",
      "            \"system\": \"http://unitsofmeasure.org\",\n",
      "            \"code\": \"mmol/L\"\n",
      "         },\n",
      "         \"type\": {\n",
      "            \"coding\": [\n",
      "               {\n",
      "                  \"system\": \"http://hl7.org/fhir/referencerange-meaning\",\n",
      "                  \"code\": \"normal\"\n",
      "               }\n",
      "            ]\n",
      "         }\n",
      "      }\n",
      "   ]\n",
      "}\n"
     ]
    }
   ],
   "source": [
    "print('get test information from od spreadsheets:\\n\\n')\n",
    "tests = get_testinfo()\n",
    "\n",
    "for t in tests:\n",
    "    new_obs = get_obs(t=t, p=patient, r=results[t.OD_id], s='preliminary' )\n",
    "    print('='*79,'\\n','='*30,f'{patient.name} {t.OD_name} results','='*30,'\\n','='*79)\n",
    "    print(f'Observation = {dumps(new_obs,indent = 3)}')\n",
    "    obs_list.append(new_obs)"
   ]
  },
  {
   "cell_type": "markdown",
   "metadata": {},
   "source": [
    "\n",
    "##  Add Narrative By POSTing and GETting a Resource from the Test Server\n",
    "By POSTING it to the FHIR reference implementation server, the example is validated and text narrative generated.  (you can create your own narrative using Jinja2 for example but this is an easy hack)  The results are displayed below in the human readable text as xhtml.\n"
   ]
  },
  {
   "cell_type": "code",
   "execution_count": 82,
   "metadata": {},
   "outputs": [
    {
     "ename": "KeyboardInterrupt",
     "evalue": "",
     "output_type": "error",
     "traceback": [
      "\u001b[0;31m---------------------------------------------------------------------------\u001b[0m",
      "\u001b[0;31mKeyboardInterrupt\u001b[0m                         Traceback (most recent call last)",
      "\u001b[0;32m<ipython-input-82-9804c8c1d301>\u001b[0m in \u001b[0;36m<module>\u001b[0;34m\u001b[0m\n\u001b[1;32m      1\u001b[0m \u001b[0;31m# validate using requests\u001b[0m\u001b[0;34m\u001b[0m\u001b[0;34m\u001b[0m\u001b[0;34m\u001b[0m\u001b[0m\n\u001b[0;32m----> 2\u001b[0;31m \u001b[0mrp\u001b[0m \u001b[0;34m=\u001b[0m \u001b[0mpost\u001b[0m\u001b[0;34m(\u001b[0m\u001b[0;34mf'{fhir_test_server}/Observation'\u001b[0m\u001b[0;34m,\u001b[0m\u001b[0mheaders\u001b[0m \u001b[0;34m=\u001b[0m \u001b[0mheaders\u001b[0m\u001b[0;34m,\u001b[0m \u001b[0mdata\u001b[0m \u001b[0;34m=\u001b[0m \u001b[0mdumps\u001b[0m\u001b[0;34m(\u001b[0m\u001b[0mobs_list\u001b[0m\u001b[0;34m[\u001b[0m\u001b[0;36m0\u001b[0m\u001b[0;34m]\u001b[0m\u001b[0;34m)\u001b[0m\u001b[0;34m)\u001b[0m\u001b[0;34m\u001b[0m\u001b[0;34m\u001b[0m\u001b[0m\n\u001b[0m\u001b[1;32m      3\u001b[0m \u001b[0mprint\u001b[0m\u001b[0;34m(\u001b[0m\u001b[0mrp\u001b[0m\u001b[0;34m.\u001b[0m\u001b[0mstatus_code\u001b[0m\u001b[0;34m)\u001b[0m\u001b[0;34m\u001b[0m\u001b[0;34m\u001b[0m\u001b[0m\n\u001b[1;32m      4\u001b[0m \u001b[0mprint\u001b[0m\u001b[0;34m(\u001b[0m\u001b[0mrp\u001b[0m\u001b[0;34m.\u001b[0m\u001b[0mjson\u001b[0m\u001b[0;34m(\u001b[0m\u001b[0;34m)\u001b[0m\u001b[0;34m[\u001b[0m\u001b[0;34m'id'\u001b[0m\u001b[0;34m]\u001b[0m\u001b[0;34m)\u001b[0m\u001b[0;34m\u001b[0m\u001b[0;34m\u001b[0m\u001b[0m\n\u001b[1;32m      5\u001b[0m \u001b[0mrg\u001b[0m \u001b[0;34m=\u001b[0m \u001b[0mget\u001b[0m\u001b[0;34m(\u001b[0m\u001b[0;34mf'{fhir_test_server}/Observation/{rp.json()[\"id\"]}'\u001b[0m\u001b[0;34m,\u001b[0m\u001b[0mheaders\u001b[0m \u001b[0;34m=\u001b[0m \u001b[0mheaders\u001b[0m \u001b[0;34m)\u001b[0m\u001b[0;34m\u001b[0m\u001b[0;34m\u001b[0m\u001b[0m\n",
      "\u001b[0;32m~/Documents/Python/Venv/venv37/lib/python3.7/site-packages/requests/api.py\u001b[0m in \u001b[0;36mpost\u001b[0;34m(url, data, json, **kwargs)\u001b[0m\n\u001b[1;32m    114\u001b[0m     \"\"\"\n\u001b[1;32m    115\u001b[0m \u001b[0;34m\u001b[0m\u001b[0m\n\u001b[0;32m--> 116\u001b[0;31m     \u001b[0;32mreturn\u001b[0m \u001b[0mrequest\u001b[0m\u001b[0;34m(\u001b[0m\u001b[0;34m'post'\u001b[0m\u001b[0;34m,\u001b[0m \u001b[0murl\u001b[0m\u001b[0;34m,\u001b[0m \u001b[0mdata\u001b[0m\u001b[0;34m=\u001b[0m\u001b[0mdata\u001b[0m\u001b[0;34m,\u001b[0m \u001b[0mjson\u001b[0m\u001b[0;34m=\u001b[0m\u001b[0mjson\u001b[0m\u001b[0;34m,\u001b[0m \u001b[0;34m**\u001b[0m\u001b[0mkwargs\u001b[0m\u001b[0;34m)\u001b[0m\u001b[0;34m\u001b[0m\u001b[0;34m\u001b[0m\u001b[0m\n\u001b[0m\u001b[1;32m    117\u001b[0m \u001b[0;34m\u001b[0m\u001b[0m\n\u001b[1;32m    118\u001b[0m \u001b[0;34m\u001b[0m\u001b[0m\n",
      "\u001b[0;32m~/Documents/Python/Venv/venv37/lib/python3.7/site-packages/requests/api.py\u001b[0m in \u001b[0;36mrequest\u001b[0;34m(method, url, **kwargs)\u001b[0m\n\u001b[1;32m     58\u001b[0m     \u001b[0;31m# cases, and look like a memory leak in others.\u001b[0m\u001b[0;34m\u001b[0m\u001b[0;34m\u001b[0m\u001b[0;34m\u001b[0m\u001b[0m\n\u001b[1;32m     59\u001b[0m     \u001b[0;32mwith\u001b[0m \u001b[0msessions\u001b[0m\u001b[0;34m.\u001b[0m\u001b[0mSession\u001b[0m\u001b[0;34m(\u001b[0m\u001b[0;34m)\u001b[0m \u001b[0;32mas\u001b[0m \u001b[0msession\u001b[0m\u001b[0;34m:\u001b[0m\u001b[0;34m\u001b[0m\u001b[0;34m\u001b[0m\u001b[0m\n\u001b[0;32m---> 60\u001b[0;31m         \u001b[0;32mreturn\u001b[0m \u001b[0msession\u001b[0m\u001b[0;34m.\u001b[0m\u001b[0mrequest\u001b[0m\u001b[0;34m(\u001b[0m\u001b[0mmethod\u001b[0m\u001b[0;34m=\u001b[0m\u001b[0mmethod\u001b[0m\u001b[0;34m,\u001b[0m \u001b[0murl\u001b[0m\u001b[0;34m=\u001b[0m\u001b[0murl\u001b[0m\u001b[0;34m,\u001b[0m \u001b[0;34m**\u001b[0m\u001b[0mkwargs\u001b[0m\u001b[0;34m)\u001b[0m\u001b[0;34m\u001b[0m\u001b[0;34m\u001b[0m\u001b[0m\n\u001b[0m\u001b[1;32m     61\u001b[0m \u001b[0;34m\u001b[0m\u001b[0m\n\u001b[1;32m     62\u001b[0m \u001b[0;34m\u001b[0m\u001b[0m\n",
      "\u001b[0;32m~/Documents/Python/Venv/venv37/lib/python3.7/site-packages/requests/sessions.py\u001b[0m in \u001b[0;36mrequest\u001b[0;34m(self, method, url, params, data, headers, cookies, files, auth, timeout, allow_redirects, proxies, hooks, stream, verify, cert, json)\u001b[0m\n\u001b[1;32m    522\u001b[0m         }\n\u001b[1;32m    523\u001b[0m         \u001b[0msend_kwargs\u001b[0m\u001b[0;34m.\u001b[0m\u001b[0mupdate\u001b[0m\u001b[0;34m(\u001b[0m\u001b[0msettings\u001b[0m\u001b[0;34m)\u001b[0m\u001b[0;34m\u001b[0m\u001b[0;34m\u001b[0m\u001b[0m\n\u001b[0;32m--> 524\u001b[0;31m         \u001b[0mresp\u001b[0m \u001b[0;34m=\u001b[0m \u001b[0mself\u001b[0m\u001b[0;34m.\u001b[0m\u001b[0msend\u001b[0m\u001b[0;34m(\u001b[0m\u001b[0mprep\u001b[0m\u001b[0;34m,\u001b[0m \u001b[0;34m**\u001b[0m\u001b[0msend_kwargs\u001b[0m\u001b[0;34m)\u001b[0m\u001b[0;34m\u001b[0m\u001b[0;34m\u001b[0m\u001b[0m\n\u001b[0m\u001b[1;32m    525\u001b[0m \u001b[0;34m\u001b[0m\u001b[0m\n\u001b[1;32m    526\u001b[0m         \u001b[0;32mreturn\u001b[0m \u001b[0mresp\u001b[0m\u001b[0;34m\u001b[0m\u001b[0;34m\u001b[0m\u001b[0m\n",
      "\u001b[0;32m~/Documents/Python/Venv/venv37/lib/python3.7/site-packages/requests/sessions.py\u001b[0m in \u001b[0;36msend\u001b[0;34m(self, request, **kwargs)\u001b[0m\n\u001b[1;32m    635\u001b[0m \u001b[0;34m\u001b[0m\u001b[0m\n\u001b[1;32m    636\u001b[0m         \u001b[0;31m# Send the request\u001b[0m\u001b[0;34m\u001b[0m\u001b[0;34m\u001b[0m\u001b[0;34m\u001b[0m\u001b[0m\n\u001b[0;32m--> 637\u001b[0;31m         \u001b[0mr\u001b[0m \u001b[0;34m=\u001b[0m \u001b[0madapter\u001b[0m\u001b[0;34m.\u001b[0m\u001b[0msend\u001b[0m\u001b[0;34m(\u001b[0m\u001b[0mrequest\u001b[0m\u001b[0;34m,\u001b[0m \u001b[0;34m**\u001b[0m\u001b[0mkwargs\u001b[0m\u001b[0;34m)\u001b[0m\u001b[0;34m\u001b[0m\u001b[0;34m\u001b[0m\u001b[0m\n\u001b[0m\u001b[1;32m    638\u001b[0m \u001b[0;34m\u001b[0m\u001b[0m\n\u001b[1;32m    639\u001b[0m         \u001b[0;31m# Total elapsed time of the request (approximately)\u001b[0m\u001b[0;34m\u001b[0m\u001b[0;34m\u001b[0m\u001b[0;34m\u001b[0m\u001b[0m\n",
      "\u001b[0;32m~/Documents/Python/Venv/venv37/lib/python3.7/site-packages/requests/adapters.py\u001b[0m in \u001b[0;36msend\u001b[0;34m(self, request, stream, timeout, verify, cert, proxies)\u001b[0m\n\u001b[1;32m    447\u001b[0m                     \u001b[0mdecode_content\u001b[0m\u001b[0;34m=\u001b[0m\u001b[0;32mFalse\u001b[0m\u001b[0;34m,\u001b[0m\u001b[0;34m\u001b[0m\u001b[0;34m\u001b[0m\u001b[0m\n\u001b[1;32m    448\u001b[0m                     \u001b[0mretries\u001b[0m\u001b[0;34m=\u001b[0m\u001b[0mself\u001b[0m\u001b[0;34m.\u001b[0m\u001b[0mmax_retries\u001b[0m\u001b[0;34m,\u001b[0m\u001b[0;34m\u001b[0m\u001b[0;34m\u001b[0m\u001b[0m\n\u001b[0;32m--> 449\u001b[0;31m                     \u001b[0mtimeout\u001b[0m\u001b[0;34m=\u001b[0m\u001b[0mtimeout\u001b[0m\u001b[0;34m\u001b[0m\u001b[0;34m\u001b[0m\u001b[0m\n\u001b[0m\u001b[1;32m    450\u001b[0m                 )\n\u001b[1;32m    451\u001b[0m \u001b[0;34m\u001b[0m\u001b[0m\n",
      "\u001b[0;32m~/Documents/Python/Venv/venv37/lib/python3.7/site-packages/urllib3/connectionpool.py\u001b[0m in \u001b[0;36murlopen\u001b[0;34m(self, method, url, body, headers, retries, redirect, assert_same_host, timeout, pool_timeout, release_conn, chunked, body_pos, **response_kw)\u001b[0m\n\u001b[1;32m    598\u001b[0m                                                   \u001b[0mtimeout\u001b[0m\u001b[0;34m=\u001b[0m\u001b[0mtimeout_obj\u001b[0m\u001b[0;34m,\u001b[0m\u001b[0;34m\u001b[0m\u001b[0;34m\u001b[0m\u001b[0m\n\u001b[1;32m    599\u001b[0m                                                   \u001b[0mbody\u001b[0m\u001b[0;34m=\u001b[0m\u001b[0mbody\u001b[0m\u001b[0;34m,\u001b[0m \u001b[0mheaders\u001b[0m\u001b[0;34m=\u001b[0m\u001b[0mheaders\u001b[0m\u001b[0;34m,\u001b[0m\u001b[0;34m\u001b[0m\u001b[0;34m\u001b[0m\u001b[0m\n\u001b[0;32m--> 600\u001b[0;31m                                                   chunked=chunked)\n\u001b[0m\u001b[1;32m    601\u001b[0m \u001b[0;34m\u001b[0m\u001b[0m\n\u001b[1;32m    602\u001b[0m             \u001b[0;31m# If we're going to release the connection in ``finally:``, then\u001b[0m\u001b[0;34m\u001b[0m\u001b[0;34m\u001b[0m\u001b[0;34m\u001b[0m\u001b[0m\n",
      "\u001b[0;32m~/Documents/Python/Venv/venv37/lib/python3.7/site-packages/urllib3/connectionpool.py\u001b[0m in \u001b[0;36m_make_request\u001b[0;34m(self, conn, method, url, timeout, chunked, **httplib_request_kw)\u001b[0m\n\u001b[1;32m    352\u001b[0m             \u001b[0mconn\u001b[0m\u001b[0;34m.\u001b[0m\u001b[0mrequest_chunked\u001b[0m\u001b[0;34m(\u001b[0m\u001b[0mmethod\u001b[0m\u001b[0;34m,\u001b[0m \u001b[0murl\u001b[0m\u001b[0;34m,\u001b[0m \u001b[0;34m**\u001b[0m\u001b[0mhttplib_request_kw\u001b[0m\u001b[0;34m)\u001b[0m\u001b[0;34m\u001b[0m\u001b[0;34m\u001b[0m\u001b[0m\n\u001b[1;32m    353\u001b[0m         \u001b[0;32melse\u001b[0m\u001b[0;34m:\u001b[0m\u001b[0;34m\u001b[0m\u001b[0;34m\u001b[0m\u001b[0m\n\u001b[0;32m--> 354\u001b[0;31m             \u001b[0mconn\u001b[0m\u001b[0;34m.\u001b[0m\u001b[0mrequest\u001b[0m\u001b[0;34m(\u001b[0m\u001b[0mmethod\u001b[0m\u001b[0;34m,\u001b[0m \u001b[0murl\u001b[0m\u001b[0;34m,\u001b[0m \u001b[0;34m**\u001b[0m\u001b[0mhttplib_request_kw\u001b[0m\u001b[0;34m)\u001b[0m\u001b[0;34m\u001b[0m\u001b[0;34m\u001b[0m\u001b[0m\n\u001b[0m\u001b[1;32m    355\u001b[0m \u001b[0;34m\u001b[0m\u001b[0m\n\u001b[1;32m    356\u001b[0m         \u001b[0;31m# Reset the timeout for the recv() on the socket\u001b[0m\u001b[0;34m\u001b[0m\u001b[0;34m\u001b[0m\u001b[0;34m\u001b[0m\u001b[0m\n",
      "\u001b[0;32m/Library/Frameworks/Python.framework/Versions/3.7/lib/python3.7/http/client.py\u001b[0m in \u001b[0;36mrequest\u001b[0;34m(self, method, url, body, headers, encode_chunked)\u001b[0m\n\u001b[1;32m   1227\u001b[0m                 encode_chunked=False):\n\u001b[1;32m   1228\u001b[0m         \u001b[0;34m\"\"\"Send a complete request to the server.\"\"\"\u001b[0m\u001b[0;34m\u001b[0m\u001b[0;34m\u001b[0m\u001b[0m\n\u001b[0;32m-> 1229\u001b[0;31m         \u001b[0mself\u001b[0m\u001b[0;34m.\u001b[0m\u001b[0m_send_request\u001b[0m\u001b[0;34m(\u001b[0m\u001b[0mmethod\u001b[0m\u001b[0;34m,\u001b[0m \u001b[0murl\u001b[0m\u001b[0;34m,\u001b[0m \u001b[0mbody\u001b[0m\u001b[0;34m,\u001b[0m \u001b[0mheaders\u001b[0m\u001b[0;34m,\u001b[0m \u001b[0mencode_chunked\u001b[0m\u001b[0;34m)\u001b[0m\u001b[0;34m\u001b[0m\u001b[0;34m\u001b[0m\u001b[0m\n\u001b[0m\u001b[1;32m   1230\u001b[0m \u001b[0;34m\u001b[0m\u001b[0m\n\u001b[1;32m   1231\u001b[0m     \u001b[0;32mdef\u001b[0m \u001b[0m_send_request\u001b[0m\u001b[0;34m(\u001b[0m\u001b[0mself\u001b[0m\u001b[0;34m,\u001b[0m \u001b[0mmethod\u001b[0m\u001b[0;34m,\u001b[0m \u001b[0murl\u001b[0m\u001b[0;34m,\u001b[0m \u001b[0mbody\u001b[0m\u001b[0;34m,\u001b[0m \u001b[0mheaders\u001b[0m\u001b[0;34m,\u001b[0m \u001b[0mencode_chunked\u001b[0m\u001b[0;34m)\u001b[0m\u001b[0;34m:\u001b[0m\u001b[0;34m\u001b[0m\u001b[0;34m\u001b[0m\u001b[0m\n",
      "\u001b[0;32m/Library/Frameworks/Python.framework/Versions/3.7/lib/python3.7/http/client.py\u001b[0m in \u001b[0;36m_send_request\u001b[0;34m(self, method, url, body, headers, encode_chunked)\u001b[0m\n\u001b[1;32m   1273\u001b[0m             \u001b[0;31m# default charset of iso-8859-1.\u001b[0m\u001b[0;34m\u001b[0m\u001b[0;34m\u001b[0m\u001b[0;34m\u001b[0m\u001b[0m\n\u001b[1;32m   1274\u001b[0m             \u001b[0mbody\u001b[0m \u001b[0;34m=\u001b[0m \u001b[0m_encode\u001b[0m\u001b[0;34m(\u001b[0m\u001b[0mbody\u001b[0m\u001b[0;34m,\u001b[0m \u001b[0;34m'body'\u001b[0m\u001b[0;34m)\u001b[0m\u001b[0;34m\u001b[0m\u001b[0;34m\u001b[0m\u001b[0m\n\u001b[0;32m-> 1275\u001b[0;31m         \u001b[0mself\u001b[0m\u001b[0;34m.\u001b[0m\u001b[0mendheaders\u001b[0m\u001b[0;34m(\u001b[0m\u001b[0mbody\u001b[0m\u001b[0;34m,\u001b[0m \u001b[0mencode_chunked\u001b[0m\u001b[0;34m=\u001b[0m\u001b[0mencode_chunked\u001b[0m\u001b[0;34m)\u001b[0m\u001b[0;34m\u001b[0m\u001b[0;34m\u001b[0m\u001b[0m\n\u001b[0m\u001b[1;32m   1276\u001b[0m \u001b[0;34m\u001b[0m\u001b[0m\n\u001b[1;32m   1277\u001b[0m     \u001b[0;32mdef\u001b[0m \u001b[0mgetresponse\u001b[0m\u001b[0;34m(\u001b[0m\u001b[0mself\u001b[0m\u001b[0;34m)\u001b[0m\u001b[0;34m:\u001b[0m\u001b[0;34m\u001b[0m\u001b[0;34m\u001b[0m\u001b[0m\n",
      "\u001b[0;32m/Library/Frameworks/Python.framework/Versions/3.7/lib/python3.7/http/client.py\u001b[0m in \u001b[0;36mendheaders\u001b[0;34m(self, message_body, encode_chunked)\u001b[0m\n\u001b[1;32m   1222\u001b[0m         \u001b[0;32melse\u001b[0m\u001b[0;34m:\u001b[0m\u001b[0;34m\u001b[0m\u001b[0;34m\u001b[0m\u001b[0m\n\u001b[1;32m   1223\u001b[0m             \u001b[0;32mraise\u001b[0m \u001b[0mCannotSendHeader\u001b[0m\u001b[0;34m(\u001b[0m\u001b[0;34m)\u001b[0m\u001b[0;34m\u001b[0m\u001b[0;34m\u001b[0m\u001b[0m\n\u001b[0;32m-> 1224\u001b[0;31m         \u001b[0mself\u001b[0m\u001b[0;34m.\u001b[0m\u001b[0m_send_output\u001b[0m\u001b[0;34m(\u001b[0m\u001b[0mmessage_body\u001b[0m\u001b[0;34m,\u001b[0m \u001b[0mencode_chunked\u001b[0m\u001b[0;34m=\u001b[0m\u001b[0mencode_chunked\u001b[0m\u001b[0;34m)\u001b[0m\u001b[0;34m\u001b[0m\u001b[0;34m\u001b[0m\u001b[0m\n\u001b[0m\u001b[1;32m   1225\u001b[0m \u001b[0;34m\u001b[0m\u001b[0m\n\u001b[1;32m   1226\u001b[0m     def request(self, method, url, body=None, headers={}, *,\n",
      "\u001b[0;32m/Library/Frameworks/Python.framework/Versions/3.7/lib/python3.7/http/client.py\u001b[0m in \u001b[0;36m_send_output\u001b[0;34m(self, message_body, encode_chunked)\u001b[0m\n\u001b[1;32m   1014\u001b[0m         \u001b[0mmsg\u001b[0m \u001b[0;34m=\u001b[0m \u001b[0;34mb\"\\r\\n\"\u001b[0m\u001b[0;34m.\u001b[0m\u001b[0mjoin\u001b[0m\u001b[0;34m(\u001b[0m\u001b[0mself\u001b[0m\u001b[0;34m.\u001b[0m\u001b[0m_buffer\u001b[0m\u001b[0;34m)\u001b[0m\u001b[0;34m\u001b[0m\u001b[0;34m\u001b[0m\u001b[0m\n\u001b[1;32m   1015\u001b[0m         \u001b[0;32mdel\u001b[0m \u001b[0mself\u001b[0m\u001b[0;34m.\u001b[0m\u001b[0m_buffer\u001b[0m\u001b[0;34m[\u001b[0m\u001b[0;34m:\u001b[0m\u001b[0;34m]\u001b[0m\u001b[0;34m\u001b[0m\u001b[0;34m\u001b[0m\u001b[0m\n\u001b[0;32m-> 1016\u001b[0;31m         \u001b[0mself\u001b[0m\u001b[0;34m.\u001b[0m\u001b[0msend\u001b[0m\u001b[0;34m(\u001b[0m\u001b[0mmsg\u001b[0m\u001b[0;34m)\u001b[0m\u001b[0;34m\u001b[0m\u001b[0;34m\u001b[0m\u001b[0m\n\u001b[0m\u001b[1;32m   1017\u001b[0m \u001b[0;34m\u001b[0m\u001b[0m\n\u001b[1;32m   1018\u001b[0m         \u001b[0;32mif\u001b[0m \u001b[0mmessage_body\u001b[0m \u001b[0;32mis\u001b[0m \u001b[0;32mnot\u001b[0m \u001b[0;32mNone\u001b[0m\u001b[0;34m:\u001b[0m\u001b[0;34m\u001b[0m\u001b[0;34m\u001b[0m\u001b[0m\n",
      "\u001b[0;32m/Library/Frameworks/Python.framework/Versions/3.7/lib/python3.7/http/client.py\u001b[0m in \u001b[0;36msend\u001b[0;34m(self, data)\u001b[0m\n\u001b[1;32m    954\u001b[0m         \u001b[0;32mif\u001b[0m \u001b[0mself\u001b[0m\u001b[0;34m.\u001b[0m\u001b[0msock\u001b[0m \u001b[0;32mis\u001b[0m \u001b[0;32mNone\u001b[0m\u001b[0;34m:\u001b[0m\u001b[0;34m\u001b[0m\u001b[0;34m\u001b[0m\u001b[0m\n\u001b[1;32m    955\u001b[0m             \u001b[0;32mif\u001b[0m \u001b[0mself\u001b[0m\u001b[0;34m.\u001b[0m\u001b[0mauto_open\u001b[0m\u001b[0;34m:\u001b[0m\u001b[0;34m\u001b[0m\u001b[0;34m\u001b[0m\u001b[0m\n\u001b[0;32m--> 956\u001b[0;31m                 \u001b[0mself\u001b[0m\u001b[0;34m.\u001b[0m\u001b[0mconnect\u001b[0m\u001b[0;34m(\u001b[0m\u001b[0;34m)\u001b[0m\u001b[0;34m\u001b[0m\u001b[0;34m\u001b[0m\u001b[0m\n\u001b[0m\u001b[1;32m    957\u001b[0m             \u001b[0;32melse\u001b[0m\u001b[0;34m:\u001b[0m\u001b[0;34m\u001b[0m\u001b[0;34m\u001b[0m\u001b[0m\n\u001b[1;32m    958\u001b[0m                 \u001b[0;32mraise\u001b[0m \u001b[0mNotConnected\u001b[0m\u001b[0;34m(\u001b[0m\u001b[0;34m)\u001b[0m\u001b[0;34m\u001b[0m\u001b[0;34m\u001b[0m\u001b[0m\n",
      "\u001b[0;32m~/Documents/Python/Venv/venv37/lib/python3.7/site-packages/urllib3/connection.py\u001b[0m in \u001b[0;36mconnect\u001b[0;34m(self)\u001b[0m\n\u001b[1;32m    179\u001b[0m \u001b[0;34m\u001b[0m\u001b[0m\n\u001b[1;32m    180\u001b[0m     \u001b[0;32mdef\u001b[0m \u001b[0mconnect\u001b[0m\u001b[0;34m(\u001b[0m\u001b[0mself\u001b[0m\u001b[0;34m)\u001b[0m\u001b[0;34m:\u001b[0m\u001b[0;34m\u001b[0m\u001b[0;34m\u001b[0m\u001b[0m\n\u001b[0;32m--> 181\u001b[0;31m         \u001b[0mconn\u001b[0m \u001b[0;34m=\u001b[0m \u001b[0mself\u001b[0m\u001b[0;34m.\u001b[0m\u001b[0m_new_conn\u001b[0m\u001b[0;34m(\u001b[0m\u001b[0;34m)\u001b[0m\u001b[0;34m\u001b[0m\u001b[0;34m\u001b[0m\u001b[0m\n\u001b[0m\u001b[1;32m    182\u001b[0m         \u001b[0mself\u001b[0m\u001b[0;34m.\u001b[0m\u001b[0m_prepare_conn\u001b[0m\u001b[0;34m(\u001b[0m\u001b[0mconn\u001b[0m\u001b[0;34m)\u001b[0m\u001b[0;34m\u001b[0m\u001b[0;34m\u001b[0m\u001b[0m\n\u001b[1;32m    183\u001b[0m \u001b[0;34m\u001b[0m\u001b[0m\n",
      "\u001b[0;32m~/Documents/Python/Venv/venv37/lib/python3.7/site-packages/urllib3/connection.py\u001b[0m in \u001b[0;36m_new_conn\u001b[0;34m(self)\u001b[0m\n\u001b[1;32m    157\u001b[0m         \u001b[0;32mtry\u001b[0m\u001b[0;34m:\u001b[0m\u001b[0;34m\u001b[0m\u001b[0;34m\u001b[0m\u001b[0m\n\u001b[1;32m    158\u001b[0m             conn = connection.create_connection(\n\u001b[0;32m--> 159\u001b[0;31m                 (self._dns_host, self.port), self.timeout, **extra_kw)\n\u001b[0m\u001b[1;32m    160\u001b[0m \u001b[0;34m\u001b[0m\u001b[0m\n\u001b[1;32m    161\u001b[0m         \u001b[0;32mexcept\u001b[0m \u001b[0mSocketTimeout\u001b[0m \u001b[0;32mas\u001b[0m \u001b[0me\u001b[0m\u001b[0;34m:\u001b[0m\u001b[0;34m\u001b[0m\u001b[0;34m\u001b[0m\u001b[0m\n",
      "\u001b[0;32m~/Documents/Python/Venv/venv37/lib/python3.7/site-packages/urllib3/util/connection.py\u001b[0m in \u001b[0;36mcreate_connection\u001b[0;34m(address, timeout, source_address, socket_options)\u001b[0m\n\u001b[1;32m     68\u001b[0m             \u001b[0;32mif\u001b[0m \u001b[0msource_address\u001b[0m\u001b[0;34m:\u001b[0m\u001b[0;34m\u001b[0m\u001b[0;34m\u001b[0m\u001b[0m\n\u001b[1;32m     69\u001b[0m                 \u001b[0msock\u001b[0m\u001b[0;34m.\u001b[0m\u001b[0mbind\u001b[0m\u001b[0;34m(\u001b[0m\u001b[0msource_address\u001b[0m\u001b[0;34m)\u001b[0m\u001b[0;34m\u001b[0m\u001b[0;34m\u001b[0m\u001b[0m\n\u001b[0;32m---> 70\u001b[0;31m             \u001b[0msock\u001b[0m\u001b[0;34m.\u001b[0m\u001b[0mconnect\u001b[0m\u001b[0;34m(\u001b[0m\u001b[0msa\u001b[0m\u001b[0;34m)\u001b[0m\u001b[0;34m\u001b[0m\u001b[0;34m\u001b[0m\u001b[0m\n\u001b[0m\u001b[1;32m     71\u001b[0m             \u001b[0;32mreturn\u001b[0m \u001b[0msock\u001b[0m\u001b[0;34m\u001b[0m\u001b[0;34m\u001b[0m\u001b[0m\n\u001b[1;32m     72\u001b[0m \u001b[0;34m\u001b[0m\u001b[0m\n",
      "\u001b[0;31mKeyboardInterrupt\u001b[0m: "
     ]
    }
   ],
   "source": [
    "# validate using requests\n",
    "rp = post(f'{fhir_test_server}/Observation',headers = headers, data = dumps(obs_list[0]))\n",
    "print(rp.status_code)\n",
    "print(rp.json()['id'])\n",
    "rg = get(f'{fhir_test_server}/Observation/{rp.json()[\"id\"]}',headers = headers )\n",
    "# view  output\n",
    "display(Markdown(f'<h1>Output</h1>{rg.json()[\"text\"][\"div\"]}'))\n",
    "display(Markdown('### Json:'))\n",
    "display(Markdown(dumps(rg.json(), indent=3)))\n"
   ]
  },
  {
   "cell_type": "markdown",
   "metadata": {},
   "source": [
    "## FIN"
   ]
  },
  {
   "cell_type": "code",
   "execution_count": null,
   "metadata": {},
   "outputs": [],
   "source": []
  }
 ],
 "metadata": {
  "kernelspec": {
   "display_name": "Python 3",
   "language": "python",
   "name": "python3"
  },
  "language_info": {
   "codemirror_mode": {
    "name": "ipython",
    "version": 3
   },
   "file_extension": ".py",
   "mimetype": "text/x-python",
   "name": "python",
   "nbconvert_exporter": "python",
   "pygments_lexer": "ipython3",
   "version": "3.7.3"
  }
 },
 "nbformat": 4,
 "nbformat_minor": 4
}
