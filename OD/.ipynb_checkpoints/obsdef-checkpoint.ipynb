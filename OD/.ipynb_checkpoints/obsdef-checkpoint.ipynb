{
 "cells": [
  {
   "cell_type": "markdown",
   "metadata": {
    "inputHidden": false,
    "outputHidden": false
   },
   "source": [
    "## Using OperationDefinition to generate Observation instances\n",
    "\n",
    "See discussion on [Zulip](https://chat.fhir.org/#narrow/stream/179166-implementers/topic/Generic.20or.20specific.20profiles.3F) regarding the common and simple need for a way to use [ObservationDefinition](http://build.fhir.org/observationdefinition.html) as table or spreadsheet to create Observation instances based on a few 'base' profiles.ObservationDefinition needs to be structured simply and flat enough to be able to directly transform into a table to contain the stuff you need for creating an Observation.\n",
    "\n",
    "The following proof of concept Python script demonstrates this.  It takes the following input artifacts:\n",
    "\n",
    "1. patients results\n",
    "2. ObservationDefinition instances **represented by a row in a CSV file**\n",
    "3. a common Observation template (i.e. a declared Observation Profile)\n",
    "\n",
    "to generates Observation instances.\n",
    "\n",
    "Each row of the ObservationDefinition table is applied to a nominated Observation profile to create an Observation \"form\".  The patient data is inserted into this \"form\" to create the FHIR Observation for that instance.\n",
    "\n",
    "The set of data about the tests whether represented as a bundle or as a in a table is like a \"Dictionary of Observation type\" for use.  This is a shortcut to creating 100s or 1000s of individual profiles.  Instead you would need only a few common Observation Profile for each type ( e.g. quantitative ) of Observation.\n",
    "\n",
    "This use case extends ObservationDefinition scope to include *both* for informing the contents of a Service Catalog or Instrument Specification as well as providing the constraints for the Observations.  This scope would overlap with StructureDefinition.\n",
    "\n",
    "**Skip down to [Create Observations](#another_cell) to see this in action  the first part is a bunch of Python code to set it up.**"
   ]
  },
  {
   "cell_type": "markdown",
   "metadata": {
    "inputHidden": false,
    "outputHidden": false
   },
   "source": [
    "General Python Instructions:\n",
    "Run in python 3.6\n",
    "\n",
    "Outline:\n",
    "    \n",
    "1. Read rows from ObservationDefinition(OD) spreadsheet representation to namedTuple\n",
    "2. Apply OD data to named profile (SD)\n",
    "3. Write/display/validate profile"
   ]
  },
  {
   "cell_type": "markdown",
   "metadata": {
    "inputHidden": false,
    "outputHidden": false
   },
   "source": [
    "## Imports"
   ]
  },
  {
   "cell_type": "code",
   "execution_count": null,
   "metadata": {
    "inputHidden": false,
    "outputHidden": false
   },
   "outputs": [],
   "source": [
    "from datetime import datetime\n",
    "from collections import namedtuple\n",
    "from pandas import read_csv, DataFrame\n",
    "from json import dumps\n",
    "from requests import post, get\n",
    "from IPython.display import display, Markdown"
   ]
  },
  {
   "cell_type": "markdown",
   "metadata": {
    "inputHidden": false,
    "outputHidden": false
   },
   "source": [
    "## Global Variables "
   ]
  },
  {
   "cell_type": "code",
   "execution_count": null,
   "metadata": {
    "inputHidden": false,
    "outputHidden": false
   },
   "outputs": [],
   "source": [
    "# in_file = '/Users/ehaas/Documents/Python/Notebooks/OD - od.csv'\n",
    "in_file = 'OD_to_Obs.csv'\n",
    "sheet_name = 'od'\n",
    "now = f'{datetime.utcnow().isoformat()}Z'\n",
    "outfile = 'outfile'  # name of output file\n",
    "headers = {\n",
    "'Accept':'application/fhir+json',\n",
    "'Content-Type':'application/fhir+json'\n",
    "}\n",
    "fhir_test_server = 'http://test.fhir.org/r4'"
   ]
  },
  {
   "cell_type": "markdown",
   "metadata": {},
   "source": [
    "## Fetch data from csv file"
   ]
  },
  {
   "cell_type": "code",
   "execution_count": null,
   "metadata": {
    "inputHidden": false,
    "outputHidden": false
   },
   "outputs": [],
   "source": [
    "# dataframes are a pain so will reload as a csv and\n",
    "# use named tuple structure\n",
    "def get_testinfo():\n",
    "    with open(in_file, encoding = \"ISO-8859-1\") as f:\n",
    "        reader = csv.reader(f)\n",
    "        top_row = next(reader)\n",
    "        # top_row = [t.lower().split(' ') for t in top_row]\n",
    "        # top_row = ['_'.join(t) for t in top_row]\n",
    "        # for t in top_row:\n",
    "            # print(t)\n",
    "        Data = namedtuple(\"Data\", top_row)\n",
    "        # next(reader) # skip 2nd row of definitions\n",
    "        data = [Data(*r) for r in reader]\n",
    "        return data\n",
    "\n",
    "    # using named tuple structure make getting data all nice n pretty like\n",
    "    # allow one to use dot notation like 'data[0].name'\n",
    "\n",
    "    #print(f'name = {data[0].Name}\\\n",
    "    #      \\ndescription = {data[0].Description}\\\n",
    "    #      \\ncode = {data[0].codeCoding_0_Code}')\n",
    "# d = get_testinfo()\n",
    "# print(d[0].OD_id)\n"
   ]
  },
  {
   "cell_type": "markdown",
   "metadata": {},
   "source": [
    "<a id='another_cell'></a>\n",
    "## Create Observations"
   ]
  },
  {
   "cell_type": "markdown",
   "metadata": {},
   "source": [
    "### Gather patient information (just a namedtuple for this demo instead of FHIR object)"
   ]
  },
  {
   "cell_type": "code",
   "execution_count": null,
   "metadata": {
    "inputHidden": false,
    "outputHidden": false
   },
   "outputs": [],
   "source": [
    "obs_list=[]\n",
    "# get patient (just a namedtuple for this demo instead of FHIR object)\n",
    "Patient = namedtuple('Patient','id name')\n",
    "patient = Patient('1234','Jane Doe')\n",
    "\n",
    "print(f'Patient Name = {patient.name},  Patient Id = {patient.id}')"
   ]
  },
  {
   "cell_type": "markdown",
   "metadata": {
    "inputHidden": false,
    "outputHidden": false
   },
   "source": [
    "### Preview ObservationDefinition Data about the test  from csv file"
   ]
  },
  {
   "cell_type": "code",
   "execution_count": null,
   "metadata": {
    "inputHidden": false,
    "outputHidden": false
   },
   "outputs": [],
   "source": [
    "df = read_csv(in_file, encoding = \"ISO-8859-1\")\n",
    "# to convert to named tuple\n",
    "#Data = namedtuple('Data', df.columns)\n",
    "#data = [Data(*r[1:]) for r in df.itertuples() if r[0] > 0]\n",
    "print('Test=ObservationDefinition data:')\n",
    "df.dropna(axis='columns')"
   ]
  },
  {
   "cell_type": "markdown",
   "metadata": {},
   "source": [
    "###  Get Test Result Data - (just a dictionary or hash for this example)"
   ]
  },
  {
   "cell_type": "code",
   "execution_count": null,
   "metadata": {
    "inputHidden": false,
    "outputHidden": false
   },
   "outputs": [],
   "source": [
    "# get test result data - (just a dictionary or hash for this example)\n",
    "# k = test name : v = (result value, timestamp)\n",
    "results = dict(\n",
    "    bg = (96.0, now),\n",
    "    bun = (20.0, now),\n",
    "    na = (135.0, now)\n",
    "    ) \n",
    "print('Test Result Values:')\n",
    "DataFrame([[k] + list(v) for k,v in results.items()], columns=['Test Name', 'Value', \"TimeStamp\"])"
   ]
  },
  {
   "cell_type": "markdown",
   "metadata": {},
   "source": [
    "### Observation template (profile instance)\n",
    "\n",
    "This is a function that returns a fully populated template."
   ]
  },
  {
   "cell_type": "code",
   "execution_count": null,
   "metadata": {
    "inputHidden": false,
    "outputHidden": false
   },
   "outputs": [],
   "source": [
    "def get_obs(t, p, r, s):# apply od spreadsheet data , patient info, results and status to profile \n",
    "    value, effective = r\n",
    "    return {\n",
    "      'resourceType': 'Observation',\n",
    "      'meta': { 'profile': ['http://hl7.org/fhir/us/core/StructureDefinition/us-core-observationresults'],\n",
    "      },\n",
    "      'status': s,\n",
    "      'category': [{\n",
    "        'coding': [\n",
    "          {\n",
    "            'system': 'http://hl7.org/fhir/observation-category',\n",
    "            'code': 'laboratory',\n",
    "            'display': 'Laboratory'\n",
    "          }\n",
    "        ],\n",
    "        'text': 'Laboratory'\n",
    "      }],\n",
    "      'code': {\n",
    "        'coding': [\n",
    "          {\n",
    "            'system': 'http://loinc.org',\n",
    "            'code': t.OD_code_coding_0_code,\n",
    "            'display': t.OD_code_coding_0_display\n",
    "          }\n",
    "        ],\n",
    "        'text': t.OD_code_text\n",
    "      },\n",
    "      'subject': {\n",
    "        'reference': f'Patient/{p.id}',\n",
    "          'display': p.name\n",
    "      },\n",
    "        \n",
    "      'effectiveDateTime': effective,\n",
    "      'valueQuantity': {\n",
    "        'value': value,\n",
    "        'unit': t.OD_quantitativeDetails_customaryUnit_coding_0_code,\n",
    "        'system': t.OD_quantitativeDetails_unit_coding_0_system,\n",
    "        'code': t.OD_quantitativeDetails_unit_coding_0_code\n",
    "          },\n",
    "      'referenceRange': [\n",
    "        {\n",
    "          'low': {\n",
    "            'value': float(t.OD_qualifiedInterval_0_range_low_value),\n",
    "            'unit': t.OD_quantitativeDetails_customaryUnit_coding_0_code,\n",
    "            'system': t.OD_quantitativeDetails_unit_coding_0_system,\n",
    "            'code': t.OD_quantitativeDetails_unit_coding_0_code\n",
    "          },\n",
    "          'high': {\n",
    "            'value': float(t.OD_qualifiedInterval_0_range_high_value),\n",
    "            'unit': t.OD_quantitativeDetails_customaryUnit_coding_0_code,\n",
    "            'system': t.OD_quantitativeDetails_unit_coding_0_system,\n",
    "            'code': t.OD_quantitativeDetails_unit_coding_0_code\n",
    "          },\n",
    "          'type': {\n",
    "            'coding': [\n",
    "              {\n",
    "                'system': 'http://hl7.org/fhir/referencerange-meaning',\n",
    "                'code': t.OD_qualifiedInterval_0_context_coding_0_code,\n",
    "              }\n",
    "            ]\n",
    "           }\n",
    "         }\n",
    "       ]     \n",
    "     }\n",
    "\n",
    "\n"
   ]
  },
  {
   "cell_type": "markdown",
   "metadata": {},
   "source": [
    "### Create Observation Instance with above data as inputs "
   ]
  },
  {
   "cell_type": "code",
   "execution_count": null,
   "metadata": {
    "inputHidden": false,
    "outputHidden": false
   },
   "outputs": [],
   "source": [
    "print('get test information from od spreadsheets:\\n\\n')\n",
    "tests = get_testinfo()\n",
    "\n",
    "for t in tests:\n",
    "    new_obs = get_obs(t=t, p=patient, r=results[t.OD_id], s='preliminary' )\n",
    "    print('='*79,'\\n','='*30,f'{patient.name} {t.OD_name} results','='*30,'\\n','='*79)\n",
    "    print(f'Observation = {dumps(new_obs,indent = 3)}')\n",
    "    obs_list.append(new_obs)"
   ]
  },
  {
   "cell_type": "markdown",
   "metadata": {},
   "source": [
    "\n",
    "##  Add Narrative By POSTing and GETting a Resource from the Test Server\n",
    "By POSTING it to the FHIR reference implementation server, the example is validated and text narrative generated.  (you can create your own narrative using Jinja2 for example but this is an easy hack)  The results are displayed below in the human readable text as xhtml.\n"
   ]
  },
  {
   "cell_type": "code",
   "execution_count": null,
   "metadata": {},
   "outputs": [],
   "source": [
    "# validate using requests\n",
    "rp = post(f'{fhir_test_server}/Observation',headers = headers, data = dumps(obs_list[0]))\n",
    "print(rp.status_code)\n",
    "print(rp.json()['id'])\n",
    "rg = get(f'{fhir_test_server}/Observation/{rp.json()[\"id\"]}',headers = headers )\n",
    "# view  output\n",
    "display(Markdown(f'<h1>Output</h1>{rg.json()[\"text\"][\"div\"]}'))\n",
    "display(Markdown('### Json:'))\n",
    "display(Markdown(dumps(rg.json(), indent=3)))\n"
   ]
  },
  {
   "cell_type": "markdown",
   "metadata": {},
   "source": [
    "## FIN"
   ]
  },
  {
   "cell_type": "code",
   "execution_count": null,
   "metadata": {},
   "outputs": [],
   "source": []
  }
 ],
 "metadata": {
  "kernelspec": {
   "display_name": "Python 3",
   "language": "python",
   "name": "python3"
  },
  "language_info": {
   "codemirror_mode": {
    "name": "ipython",
    "version": 3
   },
   "file_extension": ".py",
   "mimetype": "text/x-python",
   "name": "python",
   "nbconvert_exporter": "python",
   "pygments_lexer": "ipython3",
   "version": "3.7.3"
  }
 },
 "nbformat": 4,
 "nbformat_minor": 4
}
