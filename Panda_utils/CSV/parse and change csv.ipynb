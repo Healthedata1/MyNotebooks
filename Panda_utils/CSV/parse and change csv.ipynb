{
 "cells": [
  {
   "cell_type": "markdown",
   "metadata": {},
   "source": [
    "### How to read a csv, filter what you want and write a new csv"
   ]
  },
  {
   "cell_type": "code",
   "execution_count": null,
   "metadata": {},
   "outputs": [],
   "source": [
    "from pandas import *\n",
    "from pathlib import Path"
   ]
  },
  {
   "cell_type": "code",
   "execution_count": null,
   "metadata": {},
   "outputs": [],
   "source": [
    "in_path = Path(r'/Users/ehaas/Documents/FHIR/synthea/output/csv/')\n",
    "r_type = \"encounters\"\n",
    "csv_file = in_path / f'{r_type}.csv'"
   ]
  },
  {
   "cell_type": "markdown",
   "metadata": {},
   "source": [
    "#### Read csv as panda dataframe"
   ]
  },
  {
   "cell_type": "code",
   "execution_count": null,
   "metadata": {},
   "outputs": [],
   "source": [
    "df = read_csv(csv_file)\n",
    "df.head()"
   ]
  },
  {
   "cell_type": "markdown",
   "metadata": {},
   "source": [
    "#### filter what you want ...\n",
    "\n",
    "- choose only encounters of type [1234,261665006]"
   ]
  },
  {
   "cell_type": "code",
   "execution_count": null,
   "metadata": {},
   "outputs": [],
   "source": [
    "df.columns"
   ]
  },
  {
   "cell_type": "code",
   "execution_count": null,
   "metadata": {},
   "outputs": [],
   "source": [
    "df.shape"
   ]
  },
  {
   "cell_type": "code",
   "execution_count": null,
   "metadata": {},
   "outputs": [],
   "source": [
    "is_code_filter = df.CODE.isin([1234,261665006])\n",
    "\n",
    "print(type(is_code_filter))\n",
    "\n",
    "is_code_filter"
   ]
  },
  {
   "cell_type": "code",
   "execution_count": null,
   "metadata": {},
   "outputs": [],
   "source": [
    "df[is_code_filter]"
   ]
  },
  {
   "cell_type": "markdown",
   "metadata": {},
   "source": [
    "#### remove stop date for unknown encounter code types to create in-progress encounters"
   ]
  },
  {
   "cell_type": "code",
   "execution_count": null,
   "metadata": {},
   "outputs": [],
   "source": [
    "df.loc[df.CODE==1234, 'STOP'] = None\n",
    "\n",
    "\n",
    "df[is_code_filter]"
   ]
  },
  {
   "cell_type": "markdown",
   "metadata": {},
   "source": [
    "#### overwrite csv for encounters"
   ]
  },
  {
   "cell_type": "code",
   "execution_count": null,
   "metadata": {},
   "outputs": [],
   "source": [
    "new_csv_file = in_path / f'{r_type}.csv'\n",
    "df[is_code_filter].to_csv(new_csv_file)"
   ]
  },
  {
   "cell_type": "markdown",
   "metadata": {},
   "source": [
    "### delete selected files  ( only simple encounter for now )"
   ]
  },
  {
   "cell_type": "code",
   "execution_count": null,
   "metadata": {},
   "outputs": [],
   "source": [
    "rem_files =[\n",
    "'allergies.csv',\n",
    "'careplans.csv',\n",
    "'imaging_studies.csv',\n",
    "'immunizations.csv',\n",
    "'medications.csv',\n",
    "'observations.csv',\n",
    "]\n",
    "\n",
    "for rem_file in rem_files:\n",
    "    rem_path = in_path / rem_file\n",
    "    try:\n",
    "        rem_path.unlink()\n",
    "    except FileNotFoundError:\n",
    "            pass"
   ]
  },
  {
   "cell_type": "markdown",
   "metadata": {},
   "source": [
    "### make subdir amd move all csv to it. directory to save"
   ]
  },
  {
   "cell_type": "code",
   "execution_count": null,
   "metadata": {},
   "outputs": [],
   "source": [
    "new_dir = input('What is new directory name?')"
   ]
  },
  {
   "cell_type": "code",
   "execution_count": null,
   "metadata": {},
   "outputs": [],
   "source": [
    "out_path = in_path / new_dir\n",
    "print(f'out_path = {out_path}')\n",
    "out_path.mkdir()\n",
    "for source in in_path.glob(\"*.csv\"):\n",
    "    print(f'source = {source}, source.name = {source.name}')\n",
    "    destination = out_path / source.name\n",
    "    print(f'destination = {destination}')\n",
    "    source.replace(destination)"
   ]
  }
 ],
 "metadata": {
  "kernelspec": {
   "display_name": "Python 3",
   "language": "python",
   "name": "python3"
  },
  "language_info": {
   "codemirror_mode": {
    "name": "ipython",
    "version": 3
   },
   "file_extension": ".py",
   "mimetype": "text/x-python",
   "name": "python",
   "nbconvert_exporter": "python",
   "pygments_lexer": "ipython3",
   "version": "3.7.3"
  }
 },
 "nbformat": 4,
 "nbformat_minor": 2
}
