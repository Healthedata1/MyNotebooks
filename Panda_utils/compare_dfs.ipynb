{
 "cells": [
  {
   "cell_type": "code",
   "execution_count": 1,
   "metadata": {},
   "outputs": [
    {
     "data": {
      "text/html": [
       "<div>\n",
       "<style scoped>\n",
       "    .dataframe tbody tr th:only-of-type {\n",
       "        vertical-align: middle;\n",
       "    }\n",
       "\n",
       "    .dataframe tbody tr th {\n",
       "        vertical-align: top;\n",
       "    }\n",
       "\n",
       "    .dataframe thead th {\n",
       "        text-align: right;\n",
       "    }\n",
       "</style>\n",
       "<table border=\"1\" class=\"dataframe\">\n",
       "  <thead>\n",
       "    <tr style=\"text-align: right;\">\n",
       "      <th></th>\n",
       "      <th>CVX Code</th>\n",
       "      <th>CVX Short Description</th>\n",
       "      <th>Full Vaccine Name</th>\n",
       "      <th>Note</th>\n",
       "      <th>VaccineStatus</th>\n",
       "      <th>internalID</th>\n",
       "      <th>nonvaccine</th>\n",
       "      <th>update_date</th>\n",
       "    </tr>\n",
       "  </thead>\n",
       "  <tbody>\n",
       "    <tr>\n",
       "      <th>18</th>\n",
       "      <td>01</td>\n",
       "      <td>DTP</td>\n",
       "      <td>diphtheria, tetanus toxoids and pertussis vaccine</td>\n",
       "      <td>NaN</td>\n",
       "      <td>Inactive</td>\n",
       "      <td>21</td>\n",
       "      <td>False</td>\n",
       "      <td>28-May-10</td>\n",
       "    </tr>\n",
       "    <tr>\n",
       "      <th>55</th>\n",
       "      <td>02</td>\n",
       "      <td>OPV</td>\n",
       "      <td>trivalent poliovirus vaccine, live, oral</td>\n",
       "      <td>This is the OPV that was used in the US</td>\n",
       "      <td>Inactive</td>\n",
       "      <td>61</td>\n",
       "      <td>False</td>\n",
       "      <td>10-Feb-17</td>\n",
       "    </tr>\n",
       "    <tr>\n",
       "      <th>...</th>\n",
       "      <td>...</td>\n",
       "      <td>...</td>\n",
       "      <td>...</td>\n",
       "      <td>...</td>\n",
       "      <td>...</td>\n",
       "      <td>...</td>\n",
       "      <td>...</td>\n",
       "      <td>...</td>\n",
       "    </tr>\n",
       "    <tr>\n",
       "      <th>123</th>\n",
       "      <td>998</td>\n",
       "      <td>no vaccine administered</td>\n",
       "      <td>no vaccine administered</td>\n",
       "      <td>Code 998 was added for use in VXU HL7 messages...</td>\n",
       "      <td>Inactive</td>\n",
       "      <td>137</td>\n",
       "      <td>True</td>\n",
       "      <td>9-Mar-23</td>\n",
       "    </tr>\n",
       "    <tr>\n",
       "      <th>124</th>\n",
       "      <td>999</td>\n",
       "      <td>unknown</td>\n",
       "      <td>unknown vaccine or immune globulin</td>\n",
       "      <td>This CVX code has little utility and should ra...</td>\n",
       "      <td>Inactive</td>\n",
       "      <td>138</td>\n",
       "      <td>True</td>\n",
       "      <td>27-Oct-20</td>\n",
       "    </tr>\n",
       "  </tbody>\n",
       "</table>\n",
       "<p>280 rows × 8 columns</p>\n",
       "</div>"
      ],
      "text/plain": [
       "    CVX Code    CVX Short Description  \\\n",
       "18        01                      DTP   \n",
       "55        02                      OPV   \n",
       "..       ...                      ...   \n",
       "123      998  no vaccine administered   \n",
       "124      999                  unknown   \n",
       "\n",
       "                                     Full Vaccine Name  \\\n",
       "18   diphtheria, tetanus toxoids and pertussis vaccine   \n",
       "55            trivalent poliovirus vaccine, live, oral   \n",
       "..                                                 ...   \n",
       "123                            no vaccine administered   \n",
       "124                 unknown vaccine or immune globulin   \n",
       "\n",
       "                                                  Note VaccineStatus  \\\n",
       "18                                                 NaN      Inactive   \n",
       "55             This is the OPV that was used in the US      Inactive   \n",
       "..                                                 ...           ...   \n",
       "123  Code 998 was added for use in VXU HL7 messages...      Inactive   \n",
       "124  This CVX code has little utility and should ra...      Inactive   \n",
       "\n",
       "    internalID nonvaccine update_date  \n",
       "18          21      False   28-May-10  \n",
       "55          61      False   10-Feb-17  \n",
       "..         ...        ...         ...  \n",
       "123        137       True    9-Mar-23  \n",
       "124        138       True   27-Oct-20  \n",
       "\n",
       "[280 rows x 8 columns]"
      ]
     },
     "execution_count": 1,
     "metadata": {},
     "output_type": "execute_result"
    }
   ],
   "source": [
    "from pathlib import Path\n",
    "import pandas\n",
    "pandas.set_option('display.max_rows',5)\n",
    "vsac_csv = Path(r'/Users/ehaas/Documents/FHIR/US-Core/my-notes/ver8_ballot_recon/VSAC_CVX.csv')\n",
    "vads_csv = Path(r'/Users/ehaas/Documents/FHIR/US-Core/my-notes/ver8_ballot_recon/VADS_CVX.csv')\n",
    "\n",
    "vads_df = pandas.read_csv(vads_csv, dtype=\"str\")\n",
    "vads_df.sort_values('CVX Code')"
   ]
  },
  {
   "cell_type": "code",
   "execution_count": null,
   "metadata": {},
   "outputs": [],
   "source": [
    "\n",
    "vads_df[vads_df['CVX Code'] == '311']"
   ]
  },
  {
   "cell_type": "code",
   "execution_count": null,
   "metadata": {},
   "outputs": [],
   "source": [
    "vsac_df = pandas.read_csv(vsac_csv, dtype=\"str\")\n",
    "vsac_df"
   ]
  },
  {
   "cell_type": "code",
   "execution_count": null,
   "metadata": {},
   "outputs": [],
   "source": [
    "vsac_df[vsac_df['Code'] == '311']"
   ]
  },
  {
   "cell_type": "code",
   "execution_count": null,
   "metadata": {},
   "outputs": [],
   "source": [
    "# Find values in vads_df['CVX Code'] that are not in vsac_df['Code']\n",
    "missing_in_vsac = vads_df[~vads_df['CVX Code'].isin(vsac_df['Code'])]\n",
    "pandas.set_option('display.max_rows', None)\n",
    "missing_in_vsac = missing_in_vsac[missing_in_vsac['nonvaccine'] == 'False']\n",
    "missing_in_vsac.sort_values('CVX Code')[['CVX Code','CVX Short Description','VaccineStatus','nonvaccine']].style.hide_index()"
   ]
  },
  {
   "cell_type": "code",
   "execution_count": null,
   "metadata": {},
   "outputs": [],
   "source": [
    "# Find values in vsac_df['CVX Code'] that are not in vads_df['Code']\n",
    "missing_in_vads = vsac_df[~vsac_df['Code'].isin(vads_df['CVX Code'])]\n",
    "pandas.set_option('display.max_rows', None)\n",
    "missing_in_vads"
   ]
  }
 ],
 "metadata": {
  "kernelspec": {
   "display_name": "jupyter",
   "language": "python",
   "name": "python3"
  },
  "language_info": {
   "codemirror_mode": {
    "name": "ipython",
    "version": 3
   },
   "file_extension": ".py",
   "mimetype": "text/x-python",
   "name": "python",
   "nbconvert_exporter": "python",
   "pygments_lexer": "ipython3",
   "version": "3.10.2"
  }
 },
 "nbformat": 4,
 "nbformat_minor": 2
}
