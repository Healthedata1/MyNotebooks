{
 "cells": [
  {
   "cell_type": "markdown",
   "metadata": {},
   "source": [
    "\n",
    "## Search through Profile properties summaries using Jinja2 and Python Modele\n",
    "\n",
    "*USE Python 3.7 to maintain order of Json files*\n",
    "\n",
    "- Fetch SD file from IG\n",
    "- Spec_internals from IG Package.tgz\n",
    "- search for element properties\n",
    "\n",
    "\n",
    "\n",
    "*Note need a successful build to generate since based on ig output local file\n",
    "alternatively use package.files to generate*"
   ]
  },
  {
   "cell_type": "markdown",
   "metadata": {},
   "source": [
    "### import python modules including R4 fhirclient models"
   ]
  },
  {
   "cell_type": "code",
   "execution_count": 1,
   "metadata": {},
   "outputs": [],
   "source": [
    "from fhirclient.r4models import structuredefinition as SD\n",
    "import Summary_maker.title_map as tm\n",
    "import os, json\n",
    "from pathlib import Path"
   ]
  },
  {
   "cell_type": "markdown",
   "metadata": {},
   "source": [
    "### Get file and return as dict"
   ]
  },
  {
   "cell_type": "markdown",
   "metadata": {},
   "source": [
    "### Write to file"
   ]
  },
  {
   "cell_type": "markdown",
   "metadata": {},
   "source": [
    "### Loop through profiles"
   ]
  },
  {
   "cell_type": "code",
   "execution_count": 2,
   "metadata": {},
   "outputs": [],
   "source": [
    "#us_core = '/Users/ehaas/.fhir/packages/hl7.fhir.us.core#dev/package'\n",
    "us_core = '/Users/ehaas/Documents/FHIR/US-Core-R4/input/resources'\n",
    "#us_core = '/Users/ehaas/Documents/FHIR/US-Core-R4/input/examples'\n",
    "fhir_r4 = '/Users/ehaas/.fhir/packages/hl7.fhir.r4.core#4.0.1/package'\n",
    "#f_name = 'us-core-patient'\n",
    "#n_path = '/Users/ehaas/.fhir/packages/hl7.fhir.us.core#dev' # package file keeps disappearing\n",
    "#in_path = '//ERICS-AIR-2/ehaas/Documents/FHIR/US-Core-R4/output'  # use local build dir.\n",
    "#us_core_files = [x for x in os.listdir(us_core) if x.startswith(\"StructureDefinition\") and x.endswith('json')]\n",
    "us_core_files = [x for x in os.listdir(us_core) if x.startswith('StructureDefinition') and x.endswith('json')]\n",
    "#us_core_files"
   ]
  },
  {
   "cell_type": "code",
   "execution_count": 3,
   "metadata": {},
   "outputs": [],
   "source": [
    "def save_new(f_name,data): # save in resources folder\n",
    "\n",
    "    print('writing to file .......')\n",
    "    write_path = '/Users/ehaas/Documents/FHIR/US-Core-R4/input/examples'\n",
    "    #write_path = 'test_resources'\n",
    "    path = Path.cwd() / write_path  / f_name\n",
    "    path.write_text(json.dumps(data, indent=2))"
   ]
  },
  {
   "cell_type": "markdown",
   "metadata": {},
   "source": [
    "loop through all sd and print out the element the element you want\n",
    "\n",
    "filter on the element properties you want"
   ]
  },
  {
   "cell_type": "code",
   "execution_count": 35,
   "metadata": {},
   "outputs": [
    {
     "name": "stdout",
     "output_type": "stream",
     "text": [
      "StructureDefinition-us-core-race.json\n",
      "MS is True for Extension.extension:text, last = ('Extension.extension:detailed.value[x]', False)\n",
      "StructureDefinition-us-core-organization.json\n",
      "MS is True for Organization.active, last = ('Organization.identifier:CLIA', False)\n",
      "StructureDefinition-us-core-practitionerrole.json\n",
      "MS is True for PractitionerRole.telecom, last = ('PractitionerRole.healthcareService', False)\n",
      "StructureDefinition-us-core-ethnicity.json\n",
      "MS is True for Extension.extension:text, last = ('Extension.extension:detailed.value[x]', False)\n",
      "StructureDefinition-us-core-implantable-device.json\n",
      "MS is True for Device.manufactureDate, last = ('Device.distinctIdentifier', False)\n",
      "StructureDefinition-us-core-observation-screening-response.json\n",
      "MS is True for Observation.component.code, last = ('Observation.component', False)\n"
     ]
    }
   ],
   "source": [
    "def open_file(in_path, f_name): # get files\n",
    "    with open(f'{in_path}/{f_name}', encoding=\"utf8\") as f:\n",
    "        r = f.read()\n",
    "        return(json.loads(r))\n",
    "my_set = set()\n",
    "last = ()\n",
    "for i in us_core_files:\n",
    "    #print(i)\n",
    "    constraints = {}\n",
    "    sd_dict = open_file(us_core,i)\n",
    "    for e in sd_dict['differential']['element']:\n",
    "        try:\n",
    "\n",
    "            assert e['mustSupport'] and (last[1] == False)  and '.' in last[0]\n",
    "            print(i)\n",
    "            print(f\"MS is True for {e['id']}, last = {last}\")\n",
    "            last = (e['id'], e['mustSupport']) \n",
    "            \n",
    "        except AssertionError:\n",
    "            #print(f\"MS is False for {e['id']}, last = {last}\")\n",
    "            last = (e['id'], e['mustSupport'] ) \n",
    "            \n",
    "        except KeyError:\n",
    "            #print(f\"no MS elemnt for {e['id']}\")\n",
    "            last = (e['id'], False )\n",
    "        "
   ]
  },
  {
   "cell_type": "code",
   "execution_count": null,
   "metadata": {},
   "outputs": [],
   "source": []
  }
 ],
 "metadata": {
  "kernelspec": {
   "display_name": "Python 3",
   "language": "python",
   "name": "python3"
  },
  "language_info": {
   "codemirror_mode": {
    "name": "ipython",
    "version": 3
   },
   "file_extension": ".py",
   "mimetype": "text/x-python",
   "name": "python",
   "nbconvert_exporter": "python",
   "pygments_lexer": "ipython3",
   "version": "3.7.3"
  }
 },
 "nbformat": 4,
 "nbformat_minor": 4
}
