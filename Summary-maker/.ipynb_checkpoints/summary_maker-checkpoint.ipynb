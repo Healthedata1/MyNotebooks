{
 "cells": [
  {
   "cell_type": "markdown",
   "metadata": {},
   "source": [
    "## Make Profile summaries using Jinja2 and Python Modele\n",
    "\n",
    "*USE Python 3.7 to maintain order of Json files*\n",
    "\n",
    "- Fetch SD file from IG\n",
    "- Transform to Python model\n",
    "- use Jinja2 template to create a summary markdown file\n",
    "- save markdown file\n",
    "\n"
   ]
  },
  {
   "cell_type": "markdown",
   "metadata": {},
   "source": [
    "### import python modules including R4 fhirclient models"
   ]
  },
  {
   "cell_type": "code",
   "execution_count": 8,
   "metadata": {},
   "outputs": [],
   "source": [
    "from fhirclient.r4models import structuredefinition as SD\n",
    "from fhirclient.r4models import narrative as N\n",
    "from fhirclient.r4models import valueset as VS\n",
    "import fhirclient.r4models.identifier as I\n",
    "import fhirclient.r4models.coding as C\n",
    "import fhirclient.r4models.codeableconcept as CC\n",
    "import fhirclient.r4models.fhirdate as D\n",
    "import fhirclient.r4models.extension as X\n",
    "import fhirclient.r4models.contactdetail as CD\n",
    "import fhirclient.r4models.fhirreference as FR\n",
    "from json import dumps, loads, load\n",
    "from pprint import pprint\n",
    "from jinja2 import Environment, FileSystemLoader, select_autoescape\n",
    "from commonmark import commonmark\n",
    "from IPython.display import display, HTML, Markdown\n",
    "import title_map as tm\n",
    "import os\n",
    "from stringcase import snakecase, titlecase"
   ]
  },
  {
   "cell_type": "markdown",
   "metadata": {},
   "source": [
    "### Get file and return as dict"
   ]
  },
  {
   "cell_type": "code",
   "execution_count": 9,
   "metadata": {},
   "outputs": [],
   "source": [
    "def open_file(in_path, f_name): # get files\n",
    "    with open(f'{in_path}/{f_name}') as f:\n",
    "        r = f.read()\n",
    "        return(loads(r))\n",
    "   "
   ]
  },
  {
   "cell_type": "markdown",
   "metadata": {},
   "source": [
    "### Write to file"
   ]
  },
  {
   "cell_type": "code",
   "execution_count": 10,
   "metadata": {},
   "outputs": [],
   "source": [
    "def write_file(f_name, data): # write file\n",
    "    path = ''\n",
    "    with open(f'{path}{f_name}', 'w') as f:\n",
    "        f.write(data)"
   ]
  },
  {
   "cell_type": "markdown",
   "metadata": {},
   "source": [
    "### Using Jinja2 Template create md file for summary view\n",
    "\n",
    "uses these elements:\n",
    " -   'label',\n",
    " -   'short',\n",
    " -  'min',\n",
    " -  'max',\n",
    " -   'type',\n",
    " -   'binding',\n",
    " \n",
    " plus:\n",
    " an invariant list\n",
    " a hash table of value set urls to valueset titles.\n"
   ]
  },
  {
   "cell_type": "code",
   "execution_count": 11,
   "metadata": {},
   "outputs": [],
   "source": [
    "def get_summary(profile_id,diff,constraints):\n",
    "\n",
    "    in_path = ''\n",
    "    template_path = 'summary-template.j2'\n",
    "    core_path = 'http://hl7.org/fhir/R4/'\n",
    "\n",
    "    bindings = dict(\n",
    "        required = f'{core_path}terminologies.html#required',\n",
    "        extensible = f'{core_path}terminologies.html#extensible',\n",
    "        preferred =f'{core_path}terminologies.html#preferred',\n",
    "        example = f'{core_path}terminologies.html#example',\n",
    "    )\n",
    "\n",
    "    def markdown(text, *args, **kwargs):\n",
    "        return commonmark(text, *args, **kwargs)\n",
    "\n",
    "    env = Environment(\n",
    "        loader=FileSystemLoader(searchpath = in_path),\n",
    "        autoescape=select_autoescape(['html','xml','xhtml','j2','md'])\n",
    "        )\n",
    "\n",
    "    env.filters['markdown'] = markdown\n",
    "\n",
    "    template = env.get_template(template_path)\n",
    "    d = template.render(elements = diff, title_map=tm.title_map, bindings=bindings, constraints=constraints)\n",
    "\n",
    "    print(f'============== file_name = {profile_id}-summary.md ================')\n",
    "    display(Markdown(d))\n",
    "    return d"
   ]
  },
  {
   "cell_type": "markdown",
   "metadata": {},
   "source": [
    "### Loop through profiles and update missing stuff in Differential with Snapshot then generate Markdown summary file and save"
   ]
  },
  {
   "cell_type": "code",
   "execution_count": 12,
   "metadata": {},
   "outputs": [
    {
     "data": {
      "text/plain": [
       "['StructureDefinition-us-core-careteam.json',\n",
       " 'StructureDefinition-us-core-medicationstatement.json',\n",
       " 'StructureDefinition-us-core-direct.json',\n",
       " 'StructureDefinition-us-core-profile-link.json',\n",
       " 'StructureDefinition-us-core-device.json',\n",
       " 'StructureDefinition-us-core-practitioner.json',\n",
       " 'StructureDefinition-us-core-patient.json',\n",
       " 'StructureDefinition-us-core-immunization.json',\n",
       " 'StructureDefinition-us-core-smokingstatus.json',\n",
       " 'StructureDefinition-us-core-documentreference.json',\n",
       " 'StructureDefinition-new-us-core-diagnosticreport.json',\n",
       " 'StructureDefinition-us-core-race.json',\n",
       " 'StructureDefinition-us-core-medicationrequest.json',\n",
       " 'StructureDefinition-us-core-diagnosticreport.json',\n",
       " 'StructureDefinition-us-core-condition.json',\n",
       " 'StructureDefinition-us-core-birthsex.json',\n",
       " 'StructureDefinition-us-core-encounter.json',\n",
       " 'StructureDefinition-us-core-organization.json',\n",
       " 'StructureDefinition-us-core-pediatric-weight.json',\n",
       " 'StructureDefinition-us-core-procedure.json',\n",
       " 'StructureDefinition-us-core-medication.json',\n",
       " 'StructureDefinition-us-core-observationresults.json',\n",
       " 'StructureDefinition-us-core-practitionerrole.json',\n",
       " 'StructureDefinition-new-us-core-documentreference.json',\n",
       " 'StructureDefinition-us-core-careplan.json',\n",
       " 'StructureDefinition-us-core-goal.json',\n",
       " 'StructureDefinition-us-core-ethnicity.json',\n",
       " 'StructureDefinition-us-core-location.json',\n",
       " 'StructureDefinition-us-core-pediatric-bmi.json',\n",
       " 'StructureDefinition-us-core-allergyintolerance.json']"
      ]
     },
     "execution_count": 12,
     "metadata": {},
     "output_type": "execute_result"
    }
   ],
   "source": [
    "#in_path = '/Users/ehaas/Documents/FHIR/US-Core-R4/output/StructureDefinition-'\n",
    "#f_name = 'us-core-patient'\n",
    "#in_path = '/Users/ehaas/.fhir/packages/hl7.fhir.us.core.r4#dev/package/' # package file keeps disappearing\n",
    "in_path = '/Users/ehaas/Documents/FHIR/US-Core-R4/output'  # use local build dir.\n",
    "files = [x for x in os.listdir(in_path) if x.startswith(\"StructureDefinition\") and x.endswith('json')]\n",
    "\n",
    "summ_elements =[\n",
    "       'label',\n",
    "       'short',\n",
    "       'min',\n",
    "       'max',\n",
    "       'type',\n",
    "       'binding',\n",
    "        ]\n",
    "\n",
    "choice_types = {'valueQuantity': 'value[x]',\n",
    "                'valueCodeableConcept': 'value[x]',\n",
    "                'valueString': 'value[x]',\n",
    "                'valueInteger': 'value[x]',\n",
    "                'valueDecimal': 'value[x]',\n",
    "                'valueDateTime': 'value[x]',\n",
    "                'valueRange': 'value[x]',\n",
    "                'valuePeriod': 'value[x]',\n",
    "                'effectivedateTime': 'effective[x]',\n",
    "                'effectivePeriod': 'effective[x]',\n",
    "               } \n",
    "\n",
    "files"
   ]
  },
  {
   "cell_type": "code",
   "execution_count": 18,
   "metadata": {},
   "outputs": [
    {
     "name": "stdout",
     "output_type": "stream",
     "text": [
      "============== file_name = us-core-careteam-summary.md ================\n"
     ]
    },
    {
     "data": {
      "text/markdown": [
       "\n",
       "\n",
       "## CareTeam\n",
       "### Summary of the Mandatory Requirements\n",
       "\n",
       "\n",
       "1.  A Patient Reference  in `CareTeam.subject`\n",
       "\n",
       "1. One or more Participants  in `CareTeam.participant`\n",
       " with the following constraints: *CareTeam.participant.onBehalfOf can only be populated when CareTeam.participant.member is a Practitioner*\n",
       "   - which must have a  CodeableConcept value  in `CareTeam.participant.role`\n",
       "with an [extensible](http://hl7.org/fhir/R4/terminologies.html#extensible)\\+ [MaxValueSet](general-guidance.html#max-binding)\n",
       " binding to [CareTeam Provider Roles](http://hl7.org/fhir/us/core/ValueSet/us-core-careteam-provider-roles)\n",
       "   - which must have a Member Reference value  in `CareTeam.participant.member`\n",
       "\n",
       "### Summary of the Must Support Requirements\n",
       "\n",
       "\n",
       "1.  A  code  in `CareTeam.status`\n",
       "with a [required](http://hl7.org/fhir/R4/terminologies.html#required)\n",
       " binding to [CareTeamStatus](http://hl7.org/fhir/ValueSet/care-team-status)\n",
       "### Summary of Constraints\n",
       "1. CareTeam.participant.onBehalfOf can only be populated when CareTeam.participant.member is a Practitioner"
      ],
      "text/plain": [
       "<IPython.core.display.Markdown object>"
      ]
     },
     "metadata": {},
     "output_type": "display_data"
    },
    {
     "name": "stdout",
     "output_type": "stream",
     "text": [
      "============== file_name = us-core-medicationstatement-summary.md ================\n"
     ]
    },
    {
     "data": {
      "text/markdown": [
       "\n",
       "\n",
       "## MedicationStatement\n",
       "### Summary of the Mandatory Requirements\n",
       "\n",
       "\n",
       "1.  A  code  in `MedicationStatement.status`\n",
       "with a [required](http://hl7.org/fhir/R4/terminologies.html#required)\n",
       " binding to [Medication  status  codes](http://hl7.org/fhir/ValueSet/medication-statement-status)\n",
       "1.  A  CodeableConcept  in `MedicationStatement.medication[x]`\n",
       "with an [extensible](http://hl7.org/fhir/R4/terminologies.html#extensible)\n",
       " binding to [Medication Clinical Drug (RxNorm)](http://hl7.org/fhir/us/core/ValueSet/us-core-medication-codes)\n",
       "1.  A Patient Reference  in `MedicationStatement.subject`\n",
       "\n",
       "1.  A  dateTime  in `MedicationStatement.dateAsserted`\n",
       "\n",
       "### Summary of the Must Support Requirements\n",
       "\n",
       "\n",
       "1.  A  dateTime  in `MedicationStatement.effective[x]`\n",
       "\n",
       "1. One or more DerivedfromReferences  in `MedicationStatement.derivedFrom`\n",
       "\n",
       "### Summary of Constraints"
      ],
      "text/plain": [
       "<IPython.core.display.Markdown object>"
      ]
     },
     "metadata": {},
     "output_type": "display_data"
    },
    {
     "name": "stdout",
     "output_type": "stream",
     "text": [
      "============== file_name = us-core-direct-summary.md ================\n"
     ]
    },
    {
     "data": {
      "text/markdown": [
       "\n",
       "\n",
       "## Extension\n",
       "### Summary of the Mandatory Requirements\n",
       "\n",
       "\n",
       "1.  A  uri  in `Extension.url`\n",
       "\n",
       "### Summary of the Must Support Requirements\n",
       "\n",
       "\n",
       "1.  A  boolean  in `Extension.valueBoolean`\n",
       "\n",
       "### Summary of Constraints"
      ],
      "text/plain": [
       "<IPython.core.display.Markdown object>"
      ]
     },
     "metadata": {},
     "output_type": "display_data"
    },
    {
     "name": "stdout",
     "output_type": "stream",
     "text": [
      "============== file_name = us-core-profile-link-summary.md ================\n"
     ]
    },
    {
     "data": {
      "text/markdown": [
       "\n",
       "\n",
       "## Extension\n",
       "### Summary of the Mandatory Requirements\n",
       "\n",
       "\n",
       "1.  A  uri  in `Extension.url`\n",
       "\n",
       "### Summary of the Must Support Requirements\n",
       "\n",
       "\n",
       "1.  A  code  in `Extension.valueCode`\n",
       "with a [required](http://hl7.org/fhir/R4/terminologies.html#required)\n",
       " binding to [ResourceType](http://hl7.org/fhir/ValueSet/resource-types)\n",
       "### Summary of Constraints"
      ],
      "text/plain": [
       "<IPython.core.display.Markdown object>"
      ]
     },
     "metadata": {},
     "output_type": "display_data"
    },
    {
     "name": "stdout",
     "output_type": "stream",
     "text": [
      "============== file_name = us-core-device-summary.md ================\n"
     ]
    },
    {
     "data": {
      "text/markdown": [
       "\n",
       "\n",
       "## Device\n",
       "### Summary of the Mandatory Requirements\n",
       "\n",
       "\n",
       "1.  A  Udicarrier  in `Device.udiCarrier`\n",
       "\n",
       "   - which should have a  base64Binary value  in `Device.udiCarrier.carrierAIDC`\n",
       "\n",
       "   - which should have a  string value  in `Device.udiCarrier.carrierHRF`\n",
       "\n",
       "1.  A  CodeableConcept  in `Device.type`\n",
       "with an [extensible](http://hl7.org/fhir/R4/terminologies.html#extensible)\n",
       " binding to [FHIR Device Types](http://hl7.org/fhir/ValueSet/device-kind)\n",
       "1.  A Patient Reference  in `Device.patient`\n",
       "\n",
       "\n",
       "\n",
       "### Summary of Constraints"
      ],
      "text/plain": [
       "<IPython.core.display.Markdown object>"
      ]
     },
     "metadata": {},
     "output_type": "display_data"
    },
    {
     "name": "stdout",
     "output_type": "stream",
     "text": [
      "============== file_name = us-core-practitioner-summary.md ================\n"
     ]
    },
    {
     "data": {
      "text/markdown": [
       "\n",
       "\n",
       "## Practitioner\n",
       "### Summary of the Mandatory Requirements\n",
       "\n",
       "\n",
       "1. One or more Identifiers  in `Practitioner.identifier`\n",
       "\n",
       "   - which must have a  uri value  in `Practitioner.identifier.system`\n",
       "\n",
       "   - which must have a  string value  in `Practitioner.identifier.value`\n",
       "\n",
       "1. One or more HumanNames  in `Practitioner.name`\n",
       "\n",
       "   - which must have a  string value  in `Practitioner.name.family`\n",
       "\n",
       "\n",
       "\n",
       "### Summary of Constraints"
      ],
      "text/plain": [
       "<IPython.core.display.Markdown object>"
      ]
     },
     "metadata": {},
     "output_type": "display_data"
    },
    {
     "name": "stdout",
     "output_type": "stream",
     "text": [
      "============== file_name = us-core-patient-summary.md ================\n"
     ]
    },
    {
     "data": {
      "text/markdown": [
       "\n",
       "\n",
       "## Patient\n",
       "### Summary of the Mandatory Requirements\n",
       "\n",
       "\n",
       "1. One or more Identifiers  in `Patient.identifier`\n",
       "\n",
       "   - which must have a  uri value  in `Patient.identifier.system`\n",
       "\n",
       "   - which must have a  string value  in `Patient.identifier.value`\n",
       "\n",
       "1. One or more HumanNames  in `Patient.name`\n",
       "\n",
       "   - which must have a  string value  in `Patient.name.family`\n",
       "\n",
       "   - which must have one or more string values  in `Patient.name.given`\n",
       "\n",
       "1.  A  code  in `Patient.gender`\n",
       "with a [required](http://hl7.org/fhir/R4/terminologies.html#required)\n",
       " binding to [AdministrativeGender](http://hl7.org/fhir/ValueSet/administrative-gender)\n",
       "### Summary of the Must Support Requirements\n",
       "\n",
       "\n",
       "1.  A [Race]([&#39;http://hl7.org/fhir/us/core/StructureDefinition/us-core-race&#39;]) Extension  in `Patient.extension`\n",
       "\n",
       "1.  A [Ethnicity]([&#39;http://hl7.org/fhir/us/core/StructureDefinition/us-core-ethnicity&#39;]) Extension  in `Patient.extension`\n",
       "\n",
       "1.  A [Birthsex]([&#39;http://hl7.org/fhir/us/core/StructureDefinition/us-core-birthsex&#39;]) Extension  in `Patient.extension`\n",
       "with a [required](http://hl7.org/fhir/R4/terminologies.html#required)\n",
       " binding to [Birth Sex](http://hl7.org/fhir/us/core/ValueSet/birthsex)\n",
       "1. One or more ContactPoints  in `Patient.telecom`\n",
       "\n",
       "   - which must have a  code value  in `Patient.telecom.system`\n",
       "with a [required](http://hl7.org/fhir/R4/terminologies.html#required)\n",
       " binding to [ContactPointSystem](http://hl7.org/fhir/ValueSet/contact-point-system)\n",
       "   - which must have a  string value  in `Patient.telecom.value`\n",
       "\n",
       "1.  A  date  in `Patient.birthDate`\n",
       "\n",
       "1. One or more Addresses  in `Patient.address`\n",
       "\n",
       "   - which should have one or more string values  in `Patient.address.line`\n",
       "\n",
       "   - which should have a  string value  in `Patient.address.city`\n",
       "\n",
       "   - which should have a  string value  in `Patient.address.state`\n",
       "with an [extensible](http://hl7.org/fhir/R4/terminologies.html#extensible)\n",
       " binding to [USPS Two Letter Alphabetic Codes](http://hl7.org/fhir/us/core/ValueSet/us-core-usps-state)\n",
       "   - which should have a  string value  in `Patient.address.postalCode`\n",
       "\n",
       "1. One or more Communications  in `Patient.communication`\n",
       "\n",
       "   - which must have a  CodeableConcept value  in `Patient.communication.language`\n",
       "with an [extensible](http://hl7.org/fhir/R4/terminologies.html#extensible)\\+ [MaxValueSet](general-guidance.html#max-binding)\n",
       " binding to [Language codes with language and optionally a region modifier](http://hl7.org/fhir/us/core/ValueSet/simple-language)\n",
       "### Summary of Constraints"
      ],
      "text/plain": [
       "<IPython.core.display.Markdown object>"
      ]
     },
     "metadata": {},
     "output_type": "display_data"
    },
    {
     "name": "stdout",
     "output_type": "stream",
     "text": [
      "============== file_name = us-core-immunization-summary.md ================\n"
     ]
    },
    {
     "data": {
      "text/markdown": [
       "\n",
       "\n",
       "## Immunization\n",
       "### Summary of the Mandatory Requirements\n",
       "\n",
       "\n",
       "1.  A  code  in `Immunization.status`\n",
       "with a [required](http://hl7.org/fhir/R4/terminologies.html#required)\n",
       " binding to [Immunization Status Codes](http://hl7.org/fhir/ValueSet/immunization-status)\n",
       "1.  A  CodeableConcept  in `Immunization.vaccineCode`\n",
       "with an [extensible](http://hl7.org/fhir/R4/terminologies.html#extensible)\\+ [MaxValueSet](general-guidance.html#max-binding)\n",
       " binding to [Vaccine Administered Value Set (CVX)](http://hl7.org/fhir/us/core/ValueSet/us-core-cvx) with the following constraints: *SHOULD have a translation to the NDC value set*\n",
       "1.  A Patient Reference  in `Immunization.patient`\n",
       "\n",
       "1.  A  dateTime  in `Immunization.occurrence[x]`\n",
       "\n",
       "1.  A  boolean  in `Immunization.primarySource`\n",
       "\n",
       "### Summary of the Must Support Requirements\n",
       "\n",
       "\n",
       "1.  A  CodeableConcept  in `Immunization.statusReason`\n",
       "with an [example](http://hl7.org/fhir/R4/terminologies.html#example)\n",
       " binding to [Immunization Status Reason Codes](http://hl7.org/fhir/ValueSet/immunization-status-reason)\n",
       "### Summary of Constraints\n",
       "1. SHOULD have a translation to the NDC value set"
      ],
      "text/plain": [
       "<IPython.core.display.Markdown object>"
      ]
     },
     "metadata": {},
     "output_type": "display_data"
    },
    {
     "name": "stdout",
     "output_type": "stream",
     "text": [
      "============== file_name = us-core-smokingstatus-summary.md ================\n"
     ]
    },
    {
     "data": {
      "text/markdown": [
       "\n",
       "\n",
       "## Observation\n",
       "### Summary of the Mandatory Requirements\n",
       "\n",
       "\n",
       "1.  A  code  in `Observation.status`\n",
       "with a [required](http://hl7.org/fhir/R4/terminologies.html#required)\n",
       " binding to [ObservationStatus](http://hl7.org/fhir/ValueSet/observation-status)\n",
       "1.  A  CodeableConcept  in `Observation.code`\n",
       "with an [example](http://hl7.org/fhir/R4/terminologies.html#example)\n",
       " binding to [LOINC Codes](http://hl7.org/fhir/ValueSet/observation-codes)\n",
       "1.  A Patient Reference  in `Observation.subject`\n",
       "\n",
       "1.  A  instant  in `Observation.issued`\n",
       "\n",
       "1.  A  CodeableConcept  in `Observation.valueCodeableConcept`\n",
       "with an [extensible](http://hl7.org/fhir/R4/terminologies.html#extensible)\\+ [MaxValueSet](general-guidance.html#max-binding)\n",
       " binding to [Smoking Status](http://hl7.org/fhir/us/core/ValueSet/us-core-observation-ccdasmokingstatus)\n",
       "\n",
       "\n",
       "### Summary of Constraints\n",
       "1. If Observation.code is the same as an Observation.component.code then the value element associated with the code SHALL NOT be present\n",
       "1. dataAbsentReason SHALL only be present if Observation.value[x] is not present"
      ],
      "text/plain": [
       "<IPython.core.display.Markdown object>"
      ]
     },
     "metadata": {},
     "output_type": "display_data"
    },
    {
     "name": "stdout",
     "output_type": "stream",
     "text": [
      "============== file_name = us-core-documentreference-summary.md ================\n"
     ]
    },
    {
     "data": {
      "text/markdown": [
       "\n",
       "\n",
       "## DocumentReference\n",
       "### Summary of the Mandatory Requirements\n",
       "\n",
       "\n",
       "1.  A  code  in `DocumentReference.status`\n",
       "with a [required](http://hl7.org/fhir/R4/terminologies.html#required)\n",
       " binding to [DocumentReferenceStatus](http://hl7.org/fhir/ValueSet/document-reference-status)\n",
       "1.  A  CodeableConcept  in `DocumentReference.type`\n",
       "with a [required](http://hl7.org/fhir/R4/terminologies.html#required)\n",
       " binding to [US Core DocumentReference Type Value Set](http://hl7.org/fhir/us/core/ValueSet/us-core-documentreference-type)\n",
       "1. One or more CodeableConcepts  in `DocumentReference.category`\n",
       "with an [extensible](http://hl7.org/fhir/R4/terminologies.html#extensible)\n",
       " binding to [US Core DocumentReference Category Value Set](http://hl7.org/fhir/us/core/ValueSet/us-core-documentreference-category)\n",
       "1.  A Patient Reference  in `DocumentReference.subject`\n",
       "\n",
       "1.  A  Content  in `DocumentReference.content`\n",
       "\n",
       "   - which must have a  Attachment value  in `DocumentReference.content.attachment`\n",
       "\n",
       "   - which must have a  code value  in `DocumentReference.content.attachment.contentType`\n",
       "with a [required](http://hl7.org/fhir/R4/terminologies.html#required)\n",
       " binding to [MimeType](http://hl7.org/fhir/ValueSet/mimetypes|4.0.0)\n",
       "   - which should have a  base64Binary value  in `DocumentReference.content.attachment.data`\n",
       "\n",
       "   - which should have a  url value  in `DocumentReference.content.attachment.url`\n",
       "\n",
       "   - which should have a  Coding value  in `DocumentReference.content.format`\n",
       "with an [extensible](http://hl7.org/fhir/R4/terminologies.html#extensible)\n",
       " binding to [DocumentReference Format Code Set](http://hl7.org/fhir/ValueSet/formatcodes)\n",
       "### Summary of the Must Support Requirements\n",
       "\n",
       "\n",
       "1.  A  Identifier  in `DocumentReference.identifier`\n",
       "\n",
       "1.  A  instant  in `DocumentReference.date`\n",
       "\n",
       "1. One or more AuthorReferences  in `DocumentReference.author`\n",
       "\n",
       "1.  A Custodian Reference  in `DocumentReference.custodian`\n",
       "\n",
       "1.  A  Context  in `DocumentReference.context`\n",
       "\n",
       "   - which should have an Encounter Reference value  in `DocumentReference.context.encounter`\n",
       "\n",
       "### Summary of Constraints\n",
       "1. There shall be a url referencing the data or inline content."
      ],
      "text/plain": [
       "<IPython.core.display.Markdown object>"
      ]
     },
     "metadata": {},
     "output_type": "display_data"
    },
    {
     "name": "stdout",
     "output_type": "stream",
     "text": [
      "============== file_name = new-us-core-diagnosticreport-summary.md ================\n"
     ]
    },
    {
     "data": {
      "text/markdown": [
       "\n",
       "\n",
       "## DiagnosticReport\n",
       "### Summary of the Mandatory Requirements\n",
       "\n",
       "\n",
       "1.  A  code  in `DiagnosticReport.status`\n",
       "with a [required](http://hl7.org/fhir/R4/terminologies.html#required)\n",
       " binding to [DiagnosticReportStatus](http://hl7.org/fhir/ValueSet/diagnostic-report-status)\n",
       "1. One or more CodeableConcepts  in `DiagnosticReport.category`\n",
       "with an [extensible](http://hl7.org/fhir/R4/terminologies.html#extensible)\n",
       " binding to [US Core DiagnosticReport Category Codes Value Set](http://hl7.org/fhir/us/core/ValueSet/us-core-diagnosticreport-category)\n",
       "1.  A  CodeableConcept  in `DiagnosticReport.code`\n",
       "with an [extensible](http://hl7.org/fhir/R4/terminologies.html#extensible)\n",
       " binding to [LOINC Diagnostic Report Codes](http://hl7.org/fhir/ValueSet/report-codes)\n",
       "1.  A Patient Reference  in `DiagnosticReport.subject`\n",
       "\n",
       "1.  A  dateTime  in `DiagnosticReport.effective[x]`\n",
       "\n",
       "### Summary of the Must Support Requirements\n",
       "\n",
       "\n",
       "1.  An Encounter Reference  in `DiagnosticReport.encounter`\n",
       "\n",
       "1.  A  instant  in `DiagnosticReport.issued`\n",
       "\n",
       "1. One or more PerformerReferences  in `DiagnosticReport.performer`\n",
       "\n",
       "1. One or more Medias  in `DiagnosticReport.media`\n",
       "\n",
       "1. One or more Attachments  in `DiagnosticReport.presentedForm`\n",
       "\n",
       "### Summary of Constraints"
      ],
      "text/plain": [
       "<IPython.core.display.Markdown object>"
      ]
     },
     "metadata": {},
     "output_type": "display_data"
    },
    {
     "name": "stdout",
     "output_type": "stream",
     "text": [
      "============== file_name = us-core-race-summary.md ================\n"
     ]
    },
    {
     "data": {
      "text/markdown": [
       "\n",
       "\n",
       "## Extension\n",
       "### Summary of the Mandatory Requirements\n",
       "\n",
       "\n",
       "1.  A [Text](None) Extension  in `Extension.extension`\n",
       "\n",
       "   - which must have a fixed `Extension.extension.url` = `text`\n",
       "   - which must have a  string value  in `Extension.extension.valueString`\n",
       "\n",
       "1.  A  uri  in `Extension.url`\n",
       "\n",
       "### Summary of the Must Support Requirements\n",
       "\n",
       "\n",
       "1. One or more [Ombcategory](None)Extensions  in `Extension.extension`\n",
       "\n",
       "   - which must have a fixed `Extension.extension.url` = `ombCategory`\n",
       "   - which must have a  Coding value  in `Extension.extension.valueCoding`\n",
       "with a [required](http://hl7.org/fhir/R4/terminologies.html#required)\n",
       " binding to [OMB Race Categories](http://hl7.org/fhir/us/core/ValueSet/omb-race-category)\n",
       "1. One or more [Detailed](None)Extensions  in `Extension.extension`\n",
       "\n",
       "   - which must have a fixed `Extension.extension.url` = `detailed`\n",
       "   - which must have a  Coding value  in `Extension.extension.valueCoding`\n",
       "with a [required](http://hl7.org/fhir/R4/terminologies.html#required)\n",
       " binding to [US-Core Detailed Race](http://hl7.org/fhir/us/core/ValueSet/detailed-race)\n",
       "### Summary of Constraints"
      ],
      "text/plain": [
       "<IPython.core.display.Markdown object>"
      ]
     },
     "metadata": {},
     "output_type": "display_data"
    },
    {
     "name": "stdout",
     "output_type": "stream",
     "text": [
      "============== file_name = us-core-medicationrequest-summary.md ================\n"
     ]
    },
    {
     "data": {
      "text/markdown": [
       "\n",
       "\n",
       "## MedicationRequest\n",
       "### Summary of the Mandatory Requirements\n",
       "\n",
       "\n",
       "1.  A  code  in `MedicationRequest.status`\n",
       "with a [required](http://hl7.org/fhir/R4/terminologies.html#required)\n",
       " binding to [Medicationrequest  status](http://hl7.org/fhir/ValueSet/medicationrequest-status)\n",
       "1.  A  CodeableConcept  in `MedicationRequest.medication[x]`\n",
       "with an [extensible](http://hl7.org/fhir/R4/terminologies.html#extensible)\n",
       " binding to [Medication Clinical Drug (RxNorm)](http://hl7.org/fhir/us/core/ValueSet/us-core-medication-codes)\n",
       "1.  A Patient Reference  in `MedicationRequest.subject`\n",
       "\n",
       "1.  A  dateTime  in `MedicationRequest.authoredOn`\n",
       "\n",
       "1.  A Requester Reference  in `MedicationRequest.requester`\n",
       "\n",
       "### Summary of the Must Support Requirements\n",
       "\n",
       "\n",
       "1. One or more Dosages  in `MedicationRequest.dosageInstruction`\n",
       "\n",
       "   - which should have a  string value  in `MedicationRequest.dosageInstruction.text`\n",
       "\n",
       "### Summary of Constraints"
      ],
      "text/plain": [
       "<IPython.core.display.Markdown object>"
      ]
     },
     "metadata": {},
     "output_type": "display_data"
    },
    {
     "name": "stdout",
     "output_type": "stream",
     "text": [
      "============== file_name = us-core-diagnosticreport-summary.md ================\n"
     ]
    },
    {
     "data": {
      "text/markdown": [
       "\n",
       "\n",
       "## DiagnosticReport\n",
       "### Summary of the Mandatory Requirements\n",
       "\n",
       "\n",
       "1.  A  code  in `DiagnosticReport.status`\n",
       "with a [required](http://hl7.org/fhir/R4/terminologies.html#required)\n",
       " binding to [DiagnosticReportStatus](http://hl7.org/fhir/ValueSet/diagnostic-report-status)\n",
       "1.  A  CodeableConcept  in `DiagnosticReport.category`\n",
       "with an [example](http://hl7.org/fhir/R4/terminologies.html#example)\n",
       " binding to [Diagnostic Service Section Codes](http://hl7.org/fhir/ValueSet/diagnostic-service-sections)\n",
       "1.  A  CodeableConcept  in `DiagnosticReport.code`\n",
       "with an [extensible](http://hl7.org/fhir/R4/terminologies.html#extensible)\n",
       " binding to [LOINC Diagnostic Report Codes](http://hl7.org/fhir/ValueSet/report-codes)\n",
       "1.  A Patient Reference  in `DiagnosticReport.subject`\n",
       "\n",
       "1.  A  dateTime  in `DiagnosticReport.effective[x]`\n",
       "\n",
       "1.  A  instant  in `DiagnosticReport.issued`\n",
       "\n",
       "### Summary of the Must Support Requirements\n",
       "\n",
       "\n",
       "1. One or more PerformerReferences  in `DiagnosticReport.performer`\n",
       "\n",
       "1. One or more ResultReferences  in `DiagnosticReport.result`\n",
       "\n",
       "1. One or more Medias  in `DiagnosticReport.media`\n",
       "\n",
       "1. One or more Attachments  in `DiagnosticReport.presentedForm`\n",
       "\n",
       "### Summary of Constraints"
      ],
      "text/plain": [
       "<IPython.core.display.Markdown object>"
      ]
     },
     "metadata": {},
     "output_type": "display_data"
    },
    {
     "name": "stdout",
     "output_type": "stream",
     "text": [
      "============== file_name = us-core-condition-summary.md ================\n"
     ]
    },
    {
     "data": {
      "text/markdown": [
       "\n",
       "\n",
       "## Condition\n",
       "### Summary of the Mandatory Requirements\n",
       "\n",
       "\n",
       "1. One or more CodeableConcepts  in `Condition.category`\n",
       "with a [preferred](http://hl7.org/fhir/R4/terminologies.html#preferred)\n",
       " binding to [US Core Condition Category Codes](http://hl7.org/fhir/us/core/ValueSet/us-core-condition-category)\n",
       "1.  A  CodeableConcept  in `Condition.code`\n",
       "with an [extensible](http://hl7.org/fhir/R4/terminologies.html#extensible)\n",
       " binding to [Problem Value Set](http://hl7.org/fhir/us/core/ValueSet/us-core-problem)\n",
       "1.  A Patient Reference  in `Condition.subject`\n",
       "\n",
       "### Summary of the Must Support Requirements\n",
       "\n",
       "\n",
       "1.  A  CodeableConcept  in `Condition.clinicalStatus`\n",
       "with a [required](http://hl7.org/fhir/R4/terminologies.html#required)\n",
       " binding to [Condition Clinical Status Codes](http://hl7.org/fhir/ValueSet/condition-clinical)\n",
       "1.  A  CodeableConcept  in `Condition.verificationStatus`\n",
       "with a [required](http://hl7.org/fhir/R4/terminologies.html#required)\n",
       " binding to [ConditionVerificationStatus](http://hl7.org/fhir/ValueSet/condition-ver-status)\n",
       "### Summary of Constraints\n",
       "1. Condition.clinicalStatus SHALL NOT be present if verification Status is entered-in-error\n",
       "1. If condition is abated, then clinicalStatus must be either inactive, resolved, or remission\n",
       "1. Condition.clinicalStatus SHALL be present if verificationStatus is not entered-in-error and category is problem-list-item\n",
       "1. A code in Condition.category SHOULD be from US Core Condition Category Codes value set."
      ],
      "text/plain": [
       "<IPython.core.display.Markdown object>"
      ]
     },
     "metadata": {},
     "output_type": "display_data"
    },
    {
     "name": "stdout",
     "output_type": "stream",
     "text": [
      "============== file_name = us-core-birthsex-summary.md ================\n"
     ]
    },
    {
     "data": {
      "text/markdown": [
       "\n",
       "\n",
       "## Extension\n",
       "### Summary of the Mandatory Requirements\n",
       "\n",
       "\n",
       "1.  A  uri  in `Extension.url`\n",
       "\n",
       "### Summary of the Must Support Requirements\n",
       "\n",
       "\n",
       "1.  A  code  in `Extension.valueCode`\n",
       "with a [required](http://hl7.org/fhir/R4/terminologies.html#required)\n",
       " binding to [Birth Sex](http://hl7.org/fhir/us/core/ValueSet/birthsex)\n",
       "### Summary of Constraints"
      ],
      "text/plain": [
       "<IPython.core.display.Markdown object>"
      ]
     },
     "metadata": {},
     "output_type": "display_data"
    },
    {
     "name": "stdout",
     "output_type": "stream",
     "text": [
      "============== file_name = us-core-encounter-summary.md ================\n"
     ]
    },
    {
     "data": {
      "text/markdown": [
       "\n",
       "\n",
       "## Encounter\n",
       "### Summary of the Mandatory Requirements\n",
       "\n",
       "\n",
       "1.  A  code  in `Encounter.status`\n",
       "with a [required](http://hl7.org/fhir/R4/terminologies.html#required)\n",
       " binding to [EncounterStatus](http://hl7.org/fhir/ValueSet/encounter-status|4.0.0)\n",
       "1.  A  Coding  in `Encounter.class`\n",
       "with an [extensible](http://hl7.org/fhir/R4/terminologies.html#extensible)\n",
       " binding to [V3 Value SetActEncounterCode](http://terminology.hl7.org/ValueSet/v3-ActEncounterCode)\n",
       "1. One or more CodeableConcepts  in `Encounter.type`\n",
       "with an [extensible](http://hl7.org/fhir/R4/terminologies.html#extensible)\n",
       " binding to [US Core Encounter Type](http://hl7.org/fhir/us/core/ValueSet/us-core-encounter-type)\n",
       "1.  A Patient Reference  in `Encounter.subject`\n",
       "\n",
       "### Summary of the Must Support Requirements\n",
       "\n",
       "\n",
       "1. One or more Identifiers  in `Encounter.identifier`\n",
       "\n",
       "   - which must have a  uri value  in `Encounter.identifier.system`\n",
       "\n",
       "   - which must have a  string value  in `Encounter.identifier.value`\n",
       "\n",
       "1. One or more Participants  in `Encounter.participant`\n",
       "\n",
       "   - which should have one or more CodeableConcept values  in `Encounter.participant.type`\n",
       "with an [extensible](http://hl7.org/fhir/R4/terminologies.html#extensible)\n",
       " binding to [Participant type](http://hl7.org/fhir/ValueSet/encounter-participant-type)\n",
       "   - which should have a  Period value  in `Encounter.participant.period`\n",
       "\n",
       "   - which should have an Individual Reference value  in `Encounter.participant.individual`\n",
       "\n",
       "1.  A  Period  in `Encounter.period`\n",
       "\n",
       "1. One or more CodeableConcepts  in `Encounter.reasonCode`\n",
       "with a [preferred](http://hl7.org/fhir/R4/terminologies.html#preferred)\n",
       " binding to [Encounter Reason Codes](http://hl7.org/fhir/ValueSet/encounter-reason)\n",
       "1. One or more Diagnosises  in `Encounter.diagnosis`\n",
       "\n",
       "   - which must have a Condition Reference value  in `Encounter.diagnosis.condition`\n",
       "\n",
       "   - which should have a  positiveInt value  in `Encounter.diagnosis.rank`\n",
       "\n",
       "1.  A  Hospitalization  in `Encounter.hospitalization`\n",
       "\n",
       "   - which should have a  CodeableConcept value  in `Encounter.hospitalization.dischargeDisposition`\n",
       "with an [example](http://hl7.org/fhir/R4/terminologies.html#example)\n",
       " binding to [Discharge disposition](http://hl7.org/fhir/ValueSet/encounter-discharge-disposition)\n",
       "1. One or more Locations  in `Encounter.location`\n",
       "\n",
       "   - which must have a Location Reference value  in `Encounter.location.location`\n",
       "\n",
       "### Summary of Constraints"
      ],
      "text/plain": [
       "<IPython.core.display.Markdown object>"
      ]
     },
     "metadata": {},
     "output_type": "display_data"
    },
    {
     "name": "stdout",
     "output_type": "stream",
     "text": [
      "============== file_name = us-core-organization-summary.md ================\n"
     ]
    },
    {
     "data": {
      "text/markdown": [
       "\n",
       "\n",
       "## Organization\n",
       "### Summary of the Mandatory Requirements\n",
       "\n",
       "\n",
       "1. One or more Identifiers  in `Organization.identifier`\n",
       "\n",
       "   - which must have a  uri value  in `Organization.identifier.system`\n",
       "\n",
       "1.  A  boolean  in `Organization.active`\n",
       "\n",
       "1.  A  string  in `Organization.name`\n",
       "\n",
       "1. One or more ContactPoints  in `Organization.telecom`\n",
       " with the following constraints: *The telecom of an organization can never be of use &#39;home&#39;*\n",
       "1. One or more Addresses  in `Organization.address`\n",
       " with the following constraints: *An address of an organization can never be of use &#39;home&#39;*\n",
       "   - which should have one or more string values  in `Organization.address.line`\n",
       "\n",
       "   - which should have a  string value  in `Organization.address.city`\n",
       "\n",
       "   - which should have a  string value  in `Organization.address.state`\n",
       "with an [extensible](http://hl7.org/fhir/R4/terminologies.html#extensible)\n",
       " binding to [USPS Two Letter Alphabetic Codes](http://hl7.org/fhir/us/core/ValueSet/us-core-usps-state)\n",
       "   - which should have a  string value  in `Organization.address.postalCode`\n",
       "\n",
       "### Summary of the Must Support Requirements\n",
       "\n",
       "\n",
       "1. One or more EndpointReferences  in `Organization.endpoint`\n",
       "\n",
       "### Summary of Constraints\n",
       "1. The organization SHALL at least have a name or an identifier, and possibly more than one\n",
       "1. The telecom of an organization can never be of use &#39;home&#39;\n",
       "1. An address of an organization can never be of use &#39;home&#39;"
      ],
      "text/plain": [
       "<IPython.core.display.Markdown object>"
      ]
     },
     "metadata": {},
     "output_type": "display_data"
    },
    {
     "name": "stdout",
     "output_type": "stream",
     "text": [
      "no snapshot element for Observation.valueQuantity.label = None assume is an choice data type\n",
      "Observation.valueQuantity Observation.value[x]\n",
      "no snapshot element for Observation.valueQuantity.short = None assume is an choice data type\n",
      "Observation.valueQuantity Observation.value[x]\n",
      "no snapshot element for Observation.valueQuantity.type = None assume is an choice data type\n",
      "Observation.valueQuantity Observation.value[x]\n",
      "no snapshot element for Observation.valueQuantity.binding = None assume is an choice data type\n",
      "Observation.valueQuantity Observation.value[x]\n",
      "no snapshot element for Observation.valueQuantity.value.label = None assume is an choice data type\n",
      "Observation.valueQuantity.value Observation.value[x].value\n",
      "no snapshot element for Observation.valueQuantity.value.short = None assume is an choice data type\n",
      "Observation.valueQuantity.value Observation.value[x].value\n",
      "no snapshot element for Observation.valueQuantity.value.binding = None assume is an choice data type\n",
      "Observation.valueQuantity.value Observation.value[x].value\n",
      "no snapshot element for Observation.valueQuantity.unit.label = None assume is an choice data type\n",
      "Observation.valueQuantity.unit Observation.value[x].unit\n",
      "no snapshot element for Observation.valueQuantity.unit.short = None assume is an choice data type\n",
      "Observation.valueQuantity.unit Observation.value[x].unit\n",
      "no snapshot element for Observation.valueQuantity.unit.binding = None assume is an choice data type\n",
      "Observation.valueQuantity.unit Observation.value[x].unit\n",
      "no snapshot element for Observation.valueQuantity.system.label = None assume is an choice data type\n",
      "Observation.valueQuantity.system Observation.value[x].system\n",
      "no snapshot element for Observation.valueQuantity.system.short = None assume is an choice data type\n",
      "Observation.valueQuantity.system Observation.value[x].system\n",
      "no snapshot element for Observation.valueQuantity.system.binding = None assume is an choice data type\n",
      "Observation.valueQuantity.system Observation.value[x].system\n",
      "no snapshot element for Observation.valueQuantity.code.label = None assume is an choice data type\n",
      "Observation.valueQuantity.code Observation.value[x].code\n",
      "no snapshot element for Observation.valueQuantity.code.binding = None assume is an choice data type\n",
      "Observation.valueQuantity.code Observation.value[x].code\n",
      "============== file_name = us-core-pediatric-weight-summary.md ================\n"
     ]
    },
    {
     "data": {
      "text/markdown": [
       "\n",
       "\n",
       "## Observation\n",
       "### Summary of the Mandatory Requirements\n",
       "\n",
       "\n",
       "1.  A  CodeableConcept  in `Observation.code`\n",
       "with an [extensible](http://hl7.org/fhir/R4/terminologies.html#extensible)\n",
       " binding to [Vital Signs](http://hl7.org/fhir/ValueSet/observation-vitalsignresult)\n",
       "   - which should have one or more Coding values  in `Observation.code.coding`\n",
       "\n",
       "   - which must have a  Coding value  in `Observation.code.coding`\n",
       "\n",
       "   - which must have a fixed `Observation.code.coding.system` = `http://loinc.org`\n",
       "   - which must have a fixed `Observation.code.coding.code` = `77606-2`\n",
       "1.  A  Quantity  in `Observation.valueQuantity`\n",
       "\n",
       "   - which must have a  decimal value  in `Observation.valueQuantity.value`\n",
       "\n",
       "   - which must have a  string value  in `Observation.valueQuantity.unit`\n",
       "\n",
       "   - which must have a fixed `Observation.valueQuantity.system` = `http://unitsofmeasure.org`\n",
       "   - which must have a fixed `Observation.valueQuantity.code` = `%`\n",
       "\n",
       "\n",
       "### Summary of Constraints\n",
       "1. If Observation.code is the same as an Observation.component.code then the value element associated with the code SHALL NOT be present\n",
       "1. dataAbsentReason SHALL only be present if Observation.value[x] is not present\n",
       "1. If there is no component or hasMember element then either a value[x] or a data absent reason must be present."
      ],
      "text/plain": [
       "<IPython.core.display.Markdown object>"
      ]
     },
     "metadata": {},
     "output_type": "display_data"
    },
    {
     "name": "stdout",
     "output_type": "stream",
     "text": [
      "============== file_name = us-core-procedure-summary.md ================\n"
     ]
    },
    {
     "data": {
      "text/markdown": [
       "\n",
       "\n",
       "## Procedure\n",
       "### Summary of the Mandatory Requirements\n",
       "\n",
       "\n",
       "1.  A  code  in `Procedure.status`\n",
       "with a [required](http://hl7.org/fhir/R4/terminologies.html#required)\n",
       " binding to [EventStatus](http://hl7.org/fhir/ValueSet/event-status)\n",
       "1.  A  CodeableConcept  in `Procedure.code`\n",
       "with an [extensible](http://hl7.org/fhir/R4/terminologies.html#extensible)\\+ [MaxValueSet](general-guidance.html#max-binding)\n",
       " binding to [US Core Procedure Codes](http://hl7.org/fhir/us/core/ValueSet/us-core-procedure-code)\n",
       "1.  A Patient Reference  in `Procedure.subject`\n",
       "\n",
       "1.  A  dateTime  in `Procedure.performed[x]`\n",
       "\n",
       "\n",
       "\n",
       "### Summary of Constraints"
      ],
      "text/plain": [
       "<IPython.core.display.Markdown object>"
      ]
     },
     "metadata": {},
     "output_type": "display_data"
    },
    {
     "name": "stdout",
     "output_type": "stream",
     "text": [
      "============== file_name = us-core-medication-summary.md ================\n"
     ]
    },
    {
     "data": {
      "text/markdown": [
       "\n",
       "\n",
       "## Medication\n",
       "### Summary of the Mandatory Requirements\n",
       "\n",
       "\n",
       "1.  A  CodeableConcept  in `Medication.code`\n",
       "with an [extensible](http://hl7.org/fhir/R4/terminologies.html#extensible)\n",
       " binding to [Medication Clinical Drug (RxNorm)](http://hl7.org/fhir/us/core/ValueSet/us-core-medication-codes)\n",
       "\n",
       "\n",
       "### Summary of Constraints"
      ],
      "text/plain": [
       "<IPython.core.display.Markdown object>"
      ]
     },
     "metadata": {},
     "output_type": "display_data"
    },
    {
     "name": "stdout",
     "output_type": "stream",
     "text": [
      "============== file_name = us-core-observationresults-summary.md ================\n"
     ]
    },
    {
     "data": {
      "text/markdown": [
       "\n",
       "\n",
       "## Observation\n",
       "### Summary of the Mandatory Requirements\n",
       "\n",
       "\n",
       "1.  A  code  in `Observation.status`\n",
       "with a [required](http://hl7.org/fhir/R4/terminologies.html#required)\n",
       " binding to [ObservationStatus](http://hl7.org/fhir/ValueSet/observation-status)\n",
       "1. One or more CodeableConcepts  in `Observation.category`\n",
       "with a [preferred](http://hl7.org/fhir/R4/terminologies.html#preferred)\n",
       " binding to [Observation Category Codes](http://hl7.org/fhir/ValueSet/observation-category) with the following constraints: *Must have a category of &#39;laboratory&#39; and a code system &#39;http://hl7.org/fhir/observation-category&#39;*\n",
       "1.  A  CodeableConcept  in `Observation.code`\n",
       "with an [extensible](http://hl7.org/fhir/R4/terminologies.html#extensible)\n",
       " binding to [LOINC Codes](http://hl7.org/fhir/ValueSet/observation-codes)\n",
       "1.  A Patient Reference  in `Observation.subject`\n",
       "\n",
       "### Summary of the Must Support Requirements\n",
       "\n",
       "\n",
       "1.  A  dateTime  in `Observation.effective[x]`\n",
       " with the following constraints: *Datetime must be at least to day.*\n",
       "1.  A  Quantity  in `Observation.value[x]`\n",
       " with the following constraints: *SHOULD use Snomed CT for coded Results, SHALL use UCUM for coded quantity units.*\n",
       "1.  A  CodeableConcept  in `Observation.dataAbsentReason`\n",
       "with an [extensible](http://hl7.org/fhir/R4/terminologies.html#extensible)\n",
       " binding to [DataAbsentReason](http://hl7.org/fhir/ValueSet/data-absent-reason)\n",
       "### Summary of Constraints\n",
       "1. If Observation.code is the same as an Observation.component.code then the value element associated with the code SHALL NOT be present\n",
       "1. dataAbsentReason SHALL only be present if Observation.value[x] is not present\n",
       "1. If there is no component or related element then either a value[x] or a data absent reason must be present\n",
       "1. Must have a category of &#39;laboratory&#39; and a code system &#39;http://hl7.org/fhir/observation-category&#39;\n",
       "1. Datetime must be at least to day.\n",
       "1. SHOULD use Snomed CT for coded Results\n",
       "1. SHALL use UCUM for coded quantity units."
      ],
      "text/plain": [
       "<IPython.core.display.Markdown object>"
      ]
     },
     "metadata": {},
     "output_type": "display_data"
    },
    {
     "name": "stdout",
     "output_type": "stream",
     "text": [
      "============== file_name = us-core-practitionerrole-summary.md ================\n"
     ]
    },
    {
     "data": {
      "text/markdown": [
       "\n",
       "\n",
       "## PractitionerRole\n",
       "### Summary of the Mandatory Requirements\n",
       "\n",
       "\n",
       "1.  A Practitioner Reference  in `PractitionerRole.practitioner`\n",
       "\n",
       "1.  An Organization Reference  in `PractitionerRole.organization`\n",
       "\n",
       "1.  A  CodeableConcept  in `PractitionerRole.code`\n",
       "with an [extensible](http://hl7.org/fhir/R4/terminologies.html#extensible)\n",
       " binding to [US Core Provider Role (NUCC)](http://hl7.org/fhir/us/core/ValueSet/us-core-provider-role)\n",
       "1.  A  CodeableConcept  in `PractitionerRole.specialty`\n",
       "with an [extensible](http://hl7.org/fhir/R4/terminologies.html#extensible)\n",
       " binding to [US Core Provider Speciality (NUCC)](http://hl7.org/fhir/us/core/ValueSet/us-core-provider-specialty)\n",
       "### Summary of the Must Support Requirements\n",
       "\n",
       "\n",
       "1. One or more LocationReferences  in `PractitionerRole.location`\n",
       "\n",
       "1. One or more ContactPoints  in `PractitionerRole.telecom`\n",
       "\n",
       "   - which must have a  code value  in `PractitionerRole.telecom.system`\n",
       "with a [required](http://hl7.org/fhir/R4/terminologies.html#required)\n",
       " binding to [ContactPointSystem](http://hl7.org/fhir/ValueSet/contact-point-system|4.0.0)\n",
       "   - which must have a  string value  in `PractitionerRole.telecom.value`\n",
       "\n",
       "1. One or more EndpointReferences  in `PractitionerRole.endpoint`\n",
       "\n",
       "### Summary of Constraints\n",
       "1. SHALL have contact information or a reference to an Endpoint"
      ],
      "text/plain": [
       "<IPython.core.display.Markdown object>"
      ]
     },
     "metadata": {},
     "output_type": "display_data"
    },
    {
     "name": "stdout",
     "output_type": "stream",
     "text": [
      "============== file_name = new-us-core-documentreference-summary.md ================\n"
     ]
    },
    {
     "data": {
      "text/markdown": [
       "\n",
       "\n",
       "## DocumentReference\n",
       "### Summary of the Mandatory Requirements\n",
       "\n",
       "\n",
       "1. One or more CodeableConcepts  in `DocumentReference.category`\n",
       "with an [extensible](http://hl7.org/fhir/R4/terminologies.html#extensible)\n",
       " binding to [US Core DocumentReference Category Value Set](http://hl7.org/fhir/us/core/ValueSet/us-core-documentreference-category)\n",
       "### Summary of the Must Support Requirements\n",
       "\n",
       "\n",
       "1. One or more AuthorReferences  in `DocumentReference.author`\n",
       "\n",
       "1.  A Custodian Reference  in `DocumentReference.custodian`\n",
       "\n",
       "### Summary of Constraints\n",
       "1. There shall be a url referencing the data or inline content."
      ],
      "text/plain": [
       "<IPython.core.display.Markdown object>"
      ]
     },
     "metadata": {},
     "output_type": "display_data"
    },
    {
     "name": "stdout",
     "output_type": "stream",
     "text": [
      "============== file_name = us-core-careplan-summary.md ================\n"
     ]
    },
    {
     "data": {
      "text/markdown": [
       "\n",
       "\n",
       "## CarePlan\n",
       "### Summary of the Mandatory Requirements\n",
       "\n",
       "\n",
       "1.  A  Narrative  in `CarePlan.text`\n",
       "\n",
       "   - which must have a  code value  in `CarePlan.text.status`\n",
       "with a [required](http://hl7.org/fhir/R4/terminologies.html#required)\n",
       " binding to [Narrative Status](http://hl7.org/fhir/us/core/ValueSet/us-core-narrative-status)\n",
       "1.  A  code  in `CarePlan.status`\n",
       "with a [required](http://hl7.org/fhir/R4/terminologies.html#required)\n",
       " binding to [RequestStatus](http://hl7.org/fhir/ValueSet/request-status)\n",
       "1.  A  code  in `CarePlan.intent`\n",
       "with a [required](http://hl7.org/fhir/R4/terminologies.html#required)\n",
       " binding to [Care Plan Intent](http://hl7.org/fhir/ValueSet/care-plan-intent)\n",
       "1. One or more CodeableConcepts  in `CarePlan.category`\n",
       "with an [example](http://hl7.org/fhir/R4/terminologies.html#example)\n",
       " binding to [Care Plan Category](http://hl7.org/fhir/ValueSet/care-plan-category) with the following constraints: *Must have a category of &#39;assess-plan&#39; and a code system &#39;http://hl7.org/fhir/us/core/CodeSystem/careplan-category&#39;*\n",
       "1.  A Patient Reference  in `CarePlan.subject`\n",
       "\n",
       "\n",
       "\n",
       "### Summary of Constraints\n",
       "1. Must have a category of &#39;assess-plan&#39; and a code system &#39;http://hl7.org/fhir/us/core/CodeSystem/careplan-category&#39;"
      ],
      "text/plain": [
       "<IPython.core.display.Markdown object>"
      ]
     },
     "metadata": {},
     "output_type": "display_data"
    },
    {
     "name": "stdout",
     "output_type": "stream",
     "text": [
      "============== file_name = us-core-goal-summary.md ================\n"
     ]
    },
    {
     "data": {
      "text/markdown": [
       "\n",
       "\n",
       "## Goal\n",
       "### Summary of the Mandatory Requirements\n",
       "\n",
       "\n",
       "1.  A  code  in `Goal.lifecycleStatus`\n",
       "with a [required](http://hl7.org/fhir/R4/terminologies.html#required)\n",
       " binding to [GoalLifecycleStatus](http://hl7.org/fhir/ValueSet/goal-status)\n",
       "1.  A  CodeableConcept  in `Goal.description`\n",
       "with an [example](http://hl7.org/fhir/R4/terminologies.html#example)\n",
       " binding to [SNOMED CT Clinical Findings](http://hl7.org/fhir/ValueSet/clinical-findings)\n",
       "1.  A Patient Reference  in `Goal.subject`\n",
       "\n",
       "\n",
       "\n",
       "### Summary of Constraints"
      ],
      "text/plain": [
       "<IPython.core.display.Markdown object>"
      ]
     },
     "metadata": {},
     "output_type": "display_data"
    },
    {
     "name": "stdout",
     "output_type": "stream",
     "text": [
      "============== file_name = us-core-ethnicity-summary.md ================\n"
     ]
    },
    {
     "data": {
      "text/markdown": [
       "\n",
       "\n",
       "## Extension\n",
       "### Summary of the Mandatory Requirements\n",
       "\n",
       "\n",
       "1.  A [Text](None) Extension  in `Extension.extension`\n",
       "\n",
       "   - which must have a fixed `Extension.extension.url` = `text`\n",
       "   - which must have a  string value  in `Extension.extension.valueString`\n",
       "\n",
       "1.  A  uri  in `Extension.url`\n",
       "\n",
       "### Summary of the Must Support Requirements\n",
       "\n",
       "\n",
       "1.  A [Ombcategory](None) Extension  in `Extension.extension`\n",
       "\n",
       "   - which must have a fixed `Extension.extension.url` = `ombCategory`\n",
       "   - which must have a  Coding value  in `Extension.extension.valueCoding`\n",
       "with a [required](http://hl7.org/fhir/R4/terminologies.html#required)\n",
       " binding to [OMB Ethnicity Categories](http://hl7.org/fhir/us/core/ValueSet/omb-ethnicity-category)\n",
       "1. One or more [Detailed](None)Extensions  in `Extension.extension`\n",
       "\n",
       "   - which must have a fixed `Extension.extension.url` = `detailed`\n",
       "   - which must have a  Coding value  in `Extension.extension.valueCoding`\n",
       "with a [required](http://hl7.org/fhir/R4/terminologies.html#required)\n",
       " binding to [US-Core Detailed ethnicity](http://hl7.org/fhir/us/core/ValueSet/detailed-ethnicity)\n",
       "### Summary of Constraints"
      ],
      "text/plain": [
       "<IPython.core.display.Markdown object>"
      ]
     },
     "metadata": {},
     "output_type": "display_data"
    },
    {
     "name": "stdout",
     "output_type": "stream",
     "text": [
      "============== file_name = us-core-location-summary.md ================\n"
     ]
    },
    {
     "data": {
      "text/markdown": [
       "\n",
       "\n",
       "## Location\n",
       "### Summary of the Mandatory Requirements\n",
       "\n",
       "\n",
       "1.  A  string  in `Location.name`\n",
       "\n",
       "### Summary of the Must Support Requirements\n",
       "\n",
       "\n",
       "1.  A  code  in `Location.status`\n",
       "with a [required](http://hl7.org/fhir/R4/terminologies.html#required)\n",
       " binding to [LocationStatus](http://hl7.org/fhir/ValueSet/location-status|4.0.0)\n",
       "1. One or more ContactPoints  in `Location.telecom`\n",
       "\n",
       "1.  A  Address  in `Location.address`\n",
       "\n",
       "   - which should have one or more string values  in `Location.address.line`\n",
       "\n",
       "   - which should have a  string value  in `Location.address.city`\n",
       "\n",
       "   - which should have a  string value  in `Location.address.state`\n",
       "with an [extensible](http://hl7.org/fhir/R4/terminologies.html#extensible)\n",
       " binding to [USPS Two Letter Alphabetic Codes](http://hl7.org/fhir/us/core/ValueSet/us-core-usps-state)\n",
       "   - which should have a  string value  in `Location.address.postalCode`\n",
       "\n",
       "1.  A Managingorganization Reference  in `Location.managingOrganization`\n",
       "\n",
       "### Summary of Constraints"
      ],
      "text/plain": [
       "<IPython.core.display.Markdown object>"
      ]
     },
     "metadata": {},
     "output_type": "display_data"
    },
    {
     "name": "stdout",
     "output_type": "stream",
     "text": [
      "no snapshot element for Observation.valueQuantity.label = None assume is an choice data type\n",
      "Observation.valueQuantity Observation.value[x]\n",
      "no snapshot element for Observation.valueQuantity.short = None assume is an choice data type\n",
      "Observation.valueQuantity Observation.value[x]\n",
      "no snapshot element for Observation.valueQuantity.type = None assume is an choice data type\n",
      "Observation.valueQuantity Observation.value[x]\n",
      "no snapshot element for Observation.valueQuantity.binding = None assume is an choice data type\n",
      "Observation.valueQuantity Observation.value[x]\n",
      "no snapshot element for Observation.valueQuantity.value.label = None assume is an choice data type\n",
      "Observation.valueQuantity.value Observation.value[x].value\n",
      "no snapshot element for Observation.valueQuantity.value.short = None assume is an choice data type\n",
      "Observation.valueQuantity.value Observation.value[x].value\n",
      "no snapshot element for Observation.valueQuantity.value.binding = None assume is an choice data type\n",
      "Observation.valueQuantity.value Observation.value[x].value\n",
      "no snapshot element for Observation.valueQuantity.unit.label = None assume is an choice data type\n",
      "Observation.valueQuantity.unit Observation.value[x].unit\n",
      "no snapshot element for Observation.valueQuantity.unit.short = None assume is an choice data type\n",
      "Observation.valueQuantity.unit Observation.value[x].unit\n",
      "no snapshot element for Observation.valueQuantity.unit.binding = None assume is an choice data type\n",
      "Observation.valueQuantity.unit Observation.value[x].unit\n",
      "no snapshot element for Observation.valueQuantity.system.label = None assume is an choice data type\n",
      "Observation.valueQuantity.system Observation.value[x].system\n",
      "no snapshot element for Observation.valueQuantity.system.short = None assume is an choice data type\n",
      "Observation.valueQuantity.system Observation.value[x].system\n",
      "no snapshot element for Observation.valueQuantity.system.binding = None assume is an choice data type\n",
      "Observation.valueQuantity.system Observation.value[x].system\n",
      "no snapshot element for Observation.valueQuantity.code.label = None assume is an choice data type\n",
      "Observation.valueQuantity.code Observation.value[x].code\n",
      "no snapshot element for Observation.valueQuantity.code.binding = None assume is an choice data type\n",
      "Observation.valueQuantity.code Observation.value[x].code\n",
      "============== file_name = us-core-pediatric-bmi-summary.md ================\n"
     ]
    },
    {
     "data": {
      "text/markdown": [
       "\n",
       "\n",
       "## Observation\n",
       "### Summary of the Mandatory Requirements\n",
       "\n",
       "\n",
       "1.  A  CodeableConcept  in `Observation.code`\n",
       "with an [extensible](http://hl7.org/fhir/R4/terminologies.html#extensible)\n",
       " binding to [Vital Signs](http://hl7.org/fhir/ValueSet/observation-vitalsignresult)\n",
       "   - which must have one or more Coding values  in `Observation.code.coding`\n",
       "\n",
       "   - which must have a  Coding value  in `Observation.code.coding`\n",
       "\n",
       "   - which must have a fixed `Observation.code.coding.system` = `http://loinc.org`\n",
       "   - which must have a fixed `Observation.code.coding.code` = `59576-9`\n",
       "1.  A  Quantity  in `Observation.valueQuantity`\n",
       "\n",
       "   - which must have a  decimal value  in `Observation.valueQuantity.value`\n",
       "\n",
       "   - which must have a  string value  in `Observation.valueQuantity.unit`\n",
       "\n",
       "   - which must have a fixed `Observation.valueQuantity.system` = `http://unitsofmeasure.org`\n",
       "   - which must have a fixed `Observation.valueQuantity.code` = `%`\n",
       "\n",
       "\n",
       "### Summary of Constraints\n",
       "1. If Observation.code is the same as an Observation.component.code then the value element associated with the code SHALL NOT be present\n",
       "1. dataAbsentReason SHALL only be present if Observation.value[x] is not present\n",
       "1. If there is no component or hasMember element then either a value[x] or a data absent reason must be present.\n",
       "1. Must have a category of &#39;laboratory&#39; and a code system &#39;http://hl7.org/fhir/observation-category&#39;\n",
       "1. Datetime must be at least to day.\n",
       "1. SHOULD use Snomed CT for coded Results\n",
       "1. SHALL use UCUM for coded quantity units."
      ],
      "text/plain": [
       "<IPython.core.display.Markdown object>"
      ]
     },
     "metadata": {},
     "output_type": "display_data"
    },
    {
     "name": "stdout",
     "output_type": "stream",
     "text": [
      "============== file_name = us-core-allergyintolerance-summary.md ================\n"
     ]
    },
    {
     "data": {
      "text/markdown": [
       "\n",
       "\n",
       "## AllergyIntolerance\n",
       "### Summary of the Mandatory Requirements\n",
       "\n",
       "\n",
       "1.  A  CodeableConcept  in `AllergyIntolerance.code`\n",
       "with an [extensible](http://hl7.org/fhir/R4/terminologies.html#extensible)\n",
       " binding to [](https://vsac.nlm.nih.gov/valueset/2.16.840.1.113762.1.4.1186.8/expansion)\n",
       "1.  A Patient Reference  in `AllergyIntolerance.patient`\n",
       "\n",
       "### Summary of the Must Support Requirements\n",
       "\n",
       "\n",
       "1.  A  CodeableConcept  in `AllergyIntolerance.clinicalStatus`\n",
       "with a [required](http://hl7.org/fhir/R4/terminologies.html#required)\n",
       " binding to [AllergyIntolerance Clinical Status Codes](http://hl7.org/fhir/ValueSet/allergyintolerance-clinical)\n",
       "1.  A  CodeableConcept  in `AllergyIntolerance.verificationStatus`\n",
       "with a [required](http://hl7.org/fhir/R4/terminologies.html#required)\n",
       " binding to [AllergyIntolerance Verification Status Codes](http://hl7.org/fhir/ValueSet/allergyintolerance-verification)\n",
       "### Summary of Constraints\n",
       "1. AllergyIntolerance.clinicalStatus SHALL be present if verificationStatus is not entered-in-error.\n",
       "1. AllergyIntolerance.clinicalStatus SHALL NOT be present if verification Status is entered-in-error"
      ],
      "text/plain": [
       "<IPython.core.display.Markdown object>"
      ]
     },
     "metadata": {},
     "output_type": "display_data"
    },
    {
     "data": {
      "text/plain": [
       "{'CareTeam.participant': ['CareTeam.participant.onBehalfOf can only be populated when CareTeam.participant.member is a Practitioner'],\n",
       " 'Immunization.vaccineCode': ['SHOULD have a translation to the NDC value set'],\n",
       " 'Observation': ['If Observation.code is the same as an Observation.component.code then the value element associated with the code SHALL NOT be present',\n",
       "  'dataAbsentReason SHALL only be present if Observation.value[x] is not present',\n",
       "  'If there is no component or hasMember element then either a value[x] or a data absent reason must be present.'],\n",
       " 'DocumentReference.content.attachment': ['There shall be a url referencing the data or inline content.'],\n",
       " 'Condition': ['Condition.clinicalStatus SHALL NOT be present if verification Status is entered-in-error',\n",
       "  'If condition is abated, then clinicalStatus must be either inactive, resolved, or remission',\n",
       "  'Condition.clinicalStatus SHALL be present if verificationStatus is not entered-in-error and category is problem-list-item',\n",
       "  'A code in Condition.category SHOULD be from US Core Condition Category Codes value set.'],\n",
       " 'Organization': ['The organization SHALL at least have a name or an identifier, and possibly more than one'],\n",
       " 'Organization.telecom': [\"The telecom of an organization can never be of use 'home'\"],\n",
       " 'Organization.address': [\"An address of an organization can never be of use 'home'\"],\n",
       " 'Observation.category': [\"Must have a category of 'laboratory' and a code system 'http://hl7.org/fhir/observation-category'\"],\n",
       " 'Observation.effective[x]': ['Datetime must be at least to day.'],\n",
       " 'Observation.value[x]': ['SHOULD use Snomed CT for coded Results',\n",
       "  'SHALL use UCUM for coded quantity units.'],\n",
       " 'PractitionerRole': ['SHALL have contact information or a reference to an Endpoint'],\n",
       " 'CarePlan.category': [\"Must have a category of 'assess-plan' and a code system 'http://hl7.org/fhir/us/core/CodeSystem/careplan-category'\"],\n",
       " 'AllergyIntolerance': ['AllergyIntolerance.clinicalStatus SHALL be present if verificationStatus is not entered-in-error.',\n",
       "  'AllergyIntolerance.clinicalStatus SHALL NOT be present if verification Status is entered-in-error']}"
      ]
     },
     "execution_count": 18,
     "metadata": {},
     "output_type": "execute_result"
    }
   ],
   "source": [
    "constraints = {}\n",
    "for i in files:\n",
    "    sd_dict = open_file(in_path,i)\n",
    "    sd = SD.StructureDefinition(sd_dict)\n",
    "    profile_id = sd.id\n",
    "    #print(f'========{profile_id}=======')\n",
    "    for i in sd.differential.element:\n",
    "        path = i.path\n",
    "        #print(f'====Path = {path} =====')\n",
    "        # GET Invariant Dict  path: human readable invariant list.\n",
    "        try:\n",
    "            k = next((k for k in sd.snapshot.element if k.path == path))\n",
    "            constraint = [j.human for j in k.constraint if 'dom-' not in j.key and 'ele-' not in j.key  and 'ext-' not in j.key]\n",
    "        except TypeError:\n",
    "            constraint = []\n",
    "        except StopIteration:\n",
    "            constraint = []\n",
    "        if constraint:\n",
    "            constraints[path]=constraint         \n",
    "\n",
    "        for k in summ_elements:\n",
    "            #print(f'differential = {path}.{k} = {getattr(i,k)}')\n",
    "            if getattr(i,k) == None:\n",
    "                try:\n",
    "                    snap_element = (s for s in sd.snapshot.element if s.path == path)           \n",
    "                    new_val = getattr(next(snap_element),k)\n",
    "                    #print(f'snapshot = {path}.{k} = {new_val}')\n",
    "                    setattr(i,k,new_val)\n",
    "                except StopIteration: # assume is an choice data type\n",
    "                    print(f'no snapshot element for {path}.{k} = {getattr(i,k)} assume is an choice data type')\n",
    "                    new_plist = []\n",
    "                    for p in path.split('.'):\n",
    "                        try:\n",
    "                            new_plist.append(choice_types[p])\n",
    "                        except KeyError:\n",
    "                            new_plist.append(p)\n",
    "                    new_path = '.'.join(new_plist)\n",
    "                    print(path,new_path)\n",
    "                    snap_element = (s for s in sd.snapshot.element if s.path == new_path)           \n",
    "                    new_val = getattr(next(snap_element),k)\n",
    "                    #print(f'snapshot = {path}.{k} = {new_val}')\n",
    "                    setattr(i,k,new_val)\n",
    "            #print(f'differential post if = {path}.{k} = {getattr(i,k)}')\n",
    "    summ_file = get_summary(profile_id,sd.differential.element,constraints)\n",
    "    summ_file = os.linesep.join([s for s in summ_file.splitlines() if s]) # remove empty lines\n",
    "    summ_file = summ_file.replace('###', '\\n###')  #add a line before Must Supports\n",
    "    \n",
    "\n",
    "    f_name = f'{profile_id}-summary.md'\n",
    "    write_file(f_name,summ_file)\n",
    "\n",
    "constraints      "
   ]
  },
  {
   "cell_type": "code",
   "execution_count": null,
   "metadata": {},
   "outputs": [],
   "source": []
  }
 ],
 "metadata": {
  "kernelspec": {
   "display_name": "Python 3",
   "language": "python",
   "name": "python3"
  },
  "language_info": {
   "codemirror_mode": {
    "name": "ipython",
    "version": 3
   },
   "file_extension": ".py",
   "mimetype": "text/x-python",
   "name": "python",
   "nbconvert_exporter": "python",
   "pygments_lexer": "ipython3",
   "version": "3.7.3"
  }
 },
 "nbformat": 4,
 "nbformat_minor": 2
}
