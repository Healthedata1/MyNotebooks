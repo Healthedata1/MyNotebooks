{
 "cells": [
  {
   "cell_type": "markdown",
   "metadata": {},
   "source": [
    "## Make Profile summaries using Jinja2 and Python Modele\n",
    "\n",
    "- Fetch SD file from IG\n",
    "- Transform to Python model\n",
    "- use Jinja2 template to create a summary markdown file\n",
    "- save markdown file\n",
    "\n"
   ]
  },
  {
   "cell_type": "markdown",
   "metadata": {},
   "source": [
    "### import python modules including R4 fhirclient models"
   ]
  },
  {
   "cell_type": "code",
   "execution_count": 1,
   "metadata": {},
   "outputs": [],
   "source": [
    "from fhirclient.r4models import structuredefinition as SD\n",
    "from fhirclient.r4models import narrative as N\n",
    "from fhirclient.r4models import valueset as VS\n",
    "import fhirclient.r4models.identifier as I\n",
    "import fhirclient.r4models.coding as C\n",
    "import fhirclient.r4models.codeableconcept as CC\n",
    "import fhirclient.r4models.fhirdate as D\n",
    "import fhirclient.r4models.extension as X\n",
    "import fhirclient.r4models.contactdetail as CD\n",
    "import fhirclient.r4models.fhirreference as FR\n",
    "from json import dumps, loads, load\n",
    "from pprint import pprint\n",
    "from jinja2 import Environment, FileSystemLoader, select_autoescape\n",
    "from commonmark import commonmark\n",
    "from IPython.display import display, HTML, Markdown\n",
    "import title_map as tm\n",
    "import os\n",
    "from stringcase import snakecase, titlecase"
   ]
  },
  {
   "cell_type": "markdown",
   "metadata": {},
   "source": [
    "### Get file and return as dict"
   ]
  },
  {
   "cell_type": "code",
   "execution_count": 2,
   "metadata": {},
   "outputs": [],
   "source": [
    "def open_file(in_path, f_name): # get files\n",
    "    with open(f'{in_path}/{f_name}') as f:\n",
    "        r = f.read()\n",
    "        return(loads(r))\n",
    "   "
   ]
  },
  {
   "cell_type": "markdown",
   "metadata": {},
   "source": [
    "### Write to file"
   ]
  },
  {
   "cell_type": "code",
   "execution_count": 3,
   "metadata": {},
   "outputs": [],
   "source": [
    "def write_file(f_name, data): # write file\n",
    "    path = ''\n",
    "    with open(f'{path}{f_name}', 'w') as f:\n",
    "        f.write(data)"
   ]
  },
  {
   "cell_type": "markdown",
   "metadata": {},
   "source": [
    "### Using Jinja2 Template create md file for summary view\n",
    "\n",
    "uses these elements:\n",
    " -   'label',\n",
    " -   'short',\n",
    " -  'min',\n",
    " -  'max',\n",
    " -   'type',\n",
    " -   'binding',\n"
   ]
  },
  {
   "cell_type": "code",
   "execution_count": 4,
   "metadata": {},
   "outputs": [],
   "source": [
    "def get_summary(profile_id,diff):\n",
    "\n",
    "    in_path = ''\n",
    "    template_path = 'summary-template.j2'\n",
    "    core_path = 'http://hl7.org/fhir/R4/'\n",
    "\n",
    "    bindings = dict(\n",
    "        required = f'{core_path}terminologies.html#required',\n",
    "        extensible = f'{core_path}terminologies.html#extensible',\n",
    "        preferred =f'{core_path}terminologies.html#preferred',\n",
    "        example = f'{core_path}terminologies.html#example',\n",
    "    )\n",
    "\n",
    "    def markdown(text, *args, **kwargs):\n",
    "        return commonmark(text, *args, **kwargs)\n",
    "\n",
    "    env = Environment(\n",
    "        loader=FileSystemLoader(searchpath = in_path),\n",
    "        autoescape=select_autoescape(['html','xml','xhtml','j2','md'])\n",
    "        )\n",
    "\n",
    "    env.filters['markdown'] = markdown\n",
    "\n",
    "    template = env.get_template(template_path)\n",
    "    d = template.render(elements = diff, title_map=tm.title_map, bindings=bindings,)\n",
    "\n",
    "    print(f'============== file_name = {profile_id}-summary.md ================')\n",
    "    display(Markdown(d))\n",
    "    return d"
   ]
  },
  {
   "cell_type": "markdown",
   "metadata": {},
   "source": [
    "### Loop through profiles and update missing stuff in Differential with Snapshot then generate Markdown summary file and save"
   ]
  },
  {
   "cell_type": "code",
   "execution_count": 5,
   "metadata": {},
   "outputs": [
    {
     "data": {
      "text/plain": [
       "[]"
      ]
     },
     "execution_count": 5,
     "metadata": {},
     "output_type": "execute_result"
    }
   ],
   "source": [
    "#in_path = '/Users/ehaas/Documents/FHIR/US-Core-R4/output/StructureDefinition-'\n",
    "#f_name = 'us-core-patient'\n",
    "in_path = '/Users/ehaas/.fhir/packages/hl7.fhir.us.core.r4#dev/package'\n",
    "files = [x for x in os.listdir(in_path) if x.startswith(\"StructureDefinition\")]\n",
    "\n",
    "summ_elements =[\n",
    "       'label',\n",
    "       'short',\n",
    "       'min',\n",
    "       'max',\n",
    "       'type',\n",
    "       'binding',\n",
    "        ]\n",
    "\n",
    "choice_types = {'valueQuantity': 'value[x]',\n",
    "                'valueCodeableConcept': 'value[x]',\n",
    "                'valueString': 'value[x]',\n",
    "                'valueInteger': 'value[x]',\n",
    "                'valueDecimal': 'value[x]',\n",
    "                'valueDateTime': 'value[x]',\n",
    "                'valueRange': 'value[x]',\n",
    "                'valuePeriod': 'value[x]',\n",
    "                'effectivedateTime': 'effective[x]',\n",
    "                'effectivePeriod': 'effective[x]',\n",
    "               } \n",
    "\n",
    "files"
   ]
  },
  {
   "cell_type": "code",
   "execution_count": 6,
   "metadata": {},
   "outputs": [],
   "source": [
    "\n",
    "for i in files:\n",
    "\n",
    "    sd_dict = open_file(in_path,i)\n",
    "    sd = SD.StructureDefinition(sd_dict)\n",
    "    profile_id = sd.id\n",
    "    print(f'========{profile_id}=======')\n",
    "    for i in sd.differential.element:\n",
    "        path = i.path\n",
    "        print(f'====Path = {path} =====')\n",
    "        for k in summ_elements:\n",
    "            #print(f'differential = {path}.{k} = {getattr(i,k)}')\n",
    "            if getattr(i,k) == None:\n",
    "                try:\n",
    "                    snap_element = (s for s in sd.snapshot.element if s.path == path)           \n",
    "                    new_val = getattr(next(snap_element),k)\n",
    "                    #print(f'snapshot = {path}.{k} = {new_val}')\n",
    "                    setattr(i,k,new_val)\n",
    "                except StopIteration: # assume is an choice data type\n",
    "                    print(f'no snapshot element for {path}.{k} = {getattr(i,k)} assume is an choice data type')\n",
    "                    new_plist = []\n",
    "                    for p in path.split('.'):\n",
    "                        try:\n",
    "                            new_plist.append(choice_types[p])\n",
    "                        except KeyError:\n",
    "                            new_plist.append(p)\n",
    "                    new_path = '.'.join(new_plist)\n",
    "                    print(path,new_path)\n",
    "                    snap_element = (s for s in sd.snapshot.element if s.path == new_path)           \n",
    "                    new_val = getattr(next(snap_element),k)\n",
    "                    #print(f'snapshot = {path}.{k} = {new_val}')\n",
    "                    setattr(i,k,new_val)\n",
    "            #print(f'differential post if = {path}.{k} = {getattr(i,k)}')\n",
    "    summ_file = get_summary(profile_id,sd.differential.element)\n",
    "    f_name = f'{profile_id}-summary.md'\n",
    "    write_file(f_name,summ_file)\n",
    "\n",
    "            "
   ]
  },
  {
   "cell_type": "code",
   "execution_count": null,
   "metadata": {},
   "outputs": [],
   "source": []
  }
 ],
 "metadata": {
  "kernelspec": {
   "display_name": "Python 3",
   "language": "python",
   "name": "python3"
  },
  "language_info": {
   "codemirror_mode": {
    "name": "ipython",
    "version": 3
   },
   "file_extension": ".py",
   "mimetype": "text/x-python",
   "name": "python",
   "nbconvert_exporter": "python",
   "pygments_lexer": "ipython3",
   "version": "3.6.2"
  }
 },
 "nbformat": 4,
 "nbformat_minor": 2
}
