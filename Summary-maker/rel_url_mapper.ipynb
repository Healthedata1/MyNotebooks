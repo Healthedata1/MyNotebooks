{
 "cells": [
  {
   "cell_type": "markdown",
   "metadata": {},
   "source": [
    "## Get Rel urls from package file as dict\n",
    "\n",
    "*USE Python 3.7 to maintain order of Json files*\n",
    "\n",
    "- Fetch Spec_internals from R4 Package\n",
    "- Transform to Python dict\n",
    "- save"
   ]
  },
  {
   "cell_type": "markdown",
   "metadata": {},
   "source": [
    "### import python modules including R4 fhirclient models"
   ]
  },
  {
   "cell_type": "code",
   "execution_count": null,
   "metadata": {},
   "outputs": [],
   "source": [
    "from json import dumps, loads, load\n",
    "from pprint import pprint\n",
    "import os\n",
    "from pathlib import Path"
   ]
  },
  {
   "cell_type": "markdown",
   "metadata": {},
   "source": [
    "### Get file and return as dict"
   ]
  },
  {
   "cell_type": "code",
   "execution_count": null,
   "metadata": {},
   "outputs": [],
   "source": [
    "\n",
    "def open_file(in_path, f_name): # get files\n",
    "    with open(f'{in_path}/{f_name}', encoding=\"utf8\") as f:\n",
    "        r = f.read()\n",
    "        return(loads(r))\n",
    "   "
   ]
  },
  {
   "cell_type": "markdown",
   "metadata": {},
   "source": [
    "### Write to file"
   ]
  },
  {
   "cell_type": "code",
   "execution_count": null,
   "metadata": {},
   "outputs": [],
   "source": [
    "def write_file(f_name, data): # write file\n",
    "    #path = ''\n",
    "    path = '/Users/ehaas/Documents/FHIR/US-Core-R4/source/pages/_includes'\n",
    "    with open(os.path.join(path,f_name), 'w') as f:\n",
    "        f.write(data)"
   ]
  },
  {
   "cell_type": "markdown",
   "metadata": {},
   "source": [
    "### Get spec_internal from FHIR package file as a dict"
   ]
  },
  {
   "cell_type": "code",
   "execution_count": null,
   "metadata": {},
   "outputs": [],
   "source": [
    "# \"\\\\ERICS-AIR-2\\ehaas\\.fhir\\packages\\hl7.fhir.core#4.0.0\\other\\spec.internals\"\n",
    "path = Path('//ERICS-AIR-2/ehaas/.fhir/packages/hl7.fhir.core#4.0.0/other/spec.internals')\n",
    "\n",
    "d = loads(path.read_bytes())"
   ]
  },
  {
   "cell_type": "markdown",
   "metadata": {},
   "source": [
    "### Get paths "
   ]
  },
  {
   "cell_type": "code",
   "execution_count": null,
   "metadata": {},
   "outputs": [],
   "source": [
    "d['paths']"
   ]
  },
  {
   "cell_type": "code",
   "execution_count": null,
   "metadata": {},
   "outputs": [],
   "source": []
  },
  {
   "cell_type": "code",
   "execution_count": null,
   "metadata": {},
   "outputs": [],
   "source": []
  }
 ],
 "metadata": {
  "kernelspec": {
   "display_name": "Python 3",
   "language": "python",
   "name": "python3"
  },
  "language_info": {
   "codemirror_mode": {
    "name": "ipython",
    "version": 3
   },
   "file_extension": ".py",
   "mimetype": "text/x-python",
   "name": "python",
   "nbconvert_exporter": "python",
   "pygments_lexer": "ipython3",
   "version": "3.7.1"
  }
 },
 "nbformat": 4,
 "nbformat_minor": 2
}
