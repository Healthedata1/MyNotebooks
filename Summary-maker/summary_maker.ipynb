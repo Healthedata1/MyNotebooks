{
 "cells": [
  {
   "cell_type": "markdown",
   "metadata": {},
   "source": [
    "## Make Profile summaries using Jinja2 and Python Modele\n",
    "\n",
    "*USE Python 3.7 to maintain order of Json files*\n",
    "\n",
    "- Fetch SD file from IG\n",
    "- Spec_internals from IG Package.tgz\n",
    "- Create and use import Title map from ?Package?\n",
    "- Transform to Python model\n",
    "- use Jinja2 template to create a summary markdown file\n",
    "- save markdown file\n",
    "\n",
    "\n",
    "\n",
    "*Note need a successful build to generate since based on ig output local file\n",
    "alternatively use package.files to generate*"
   ]
  },
  {
   "cell_type": "markdown",
   "metadata": {},
   "source": [
    "### import python modules including R4 fhirclient models"
   ]
  },
  {
   "cell_type": "code",
   "execution_count": 15,
   "metadata": {},
   "outputs": [],
   "source": [
    "from fhirclient.r4models import structuredefinition as SD\n",
    "from fhirclient.r4models import narrative as N\n",
    "from fhirclient.r4models import valueset as VS\n",
    "import fhirclient.r4models.identifier as I\n",
    "import fhirclient.r4models.coding as C\n",
    "import fhirclient.r4models.codeableconcept as CC\n",
    "import fhirclient.r4models.fhirdate as D\n",
    "import fhirclient.r4models.extension as X\n",
    "import fhirclient.r4models.contactdetail as CD\n",
    "import fhirclient.r4models.fhirreference as FR\n",
    "from json import dumps, loads, load\n",
    "from pprint import pprint\n",
    "from jinja2 import Environment, FileSystemLoader, select_autoescape\n",
    "from commonmark import commonmark\n",
    "from IPython.display import display, HTML, Markdown\n",
    "import title_map as tm\n",
    "import os\n",
    "from stringcase import snakecase, titlecase\n",
    "from pathlib import Path"
   ]
  },
  {
   "cell_type": "markdown",
   "metadata": {},
   "source": [
    "### Get file and return as dict"
   ]
  },
  {
   "cell_type": "code",
   "execution_count": 16,
   "metadata": {},
   "outputs": [],
   "source": [
    "#ig_package_path =  \"//ERICS-AIR-2/ehaas/Documents/FHIR/US-Core-R4/output\"\n",
    "ig_package_path =  \"/Users/ehaas/Documents/FHIR/US-Core-R4/output\"\n",
    "#ig_source_path = \"//ERICS-AIR-2/ehaas/Documents/FHIR/US-Core-R4/source/\"\n",
    "ig_source_path = \"/Users/ehaas/Documents/FHIR/US-Core-R4/source/\"\n",
    "#ig_source_path = ''\n",
    "\n",
    "def open_file(in_path, f_name): # get files\n",
    "    with open(f'{in_path}/{f_name}', encoding=\"utf8\") as f:\n",
    "        r = f.read()\n",
    "        return(loads(r))\n",
    "   "
   ]
  },
  {
   "cell_type": "markdown",
   "metadata": {},
   "source": [
    "### Get spec_internal from package.tgz a json file which includes canonical to local relative page links"
   ]
  },
  {
   "cell_type": "code",
   "execution_count": 17,
   "metadata": {},
   "outputs": [
    {
     "data": {
      "text/plain": [
       "'ValueSet-birthsex.html'"
      ]
     },
     "execution_count": 17,
     "metadata": {},
     "output_type": "execute_result"
    }
   ],
   "source": [
    "import tarfile\n",
    "from pprint import pprint\n",
    "def get_si(path):\n",
    "    with tarfile.open(name=os.path.join(path,'package.tgz'), mode='r') as tf:\n",
    "        #pprint(tf.getnames())\n",
    "        f = tf.extractfile('other/spec.internals')\n",
    "        r = f.read()\n",
    "        return(loads(r))\n",
    "        \n",
    "si = get_si(ig_package_path)\n",
    "path_map = si['paths']\n",
    "c = 'http://hl7.org/fhir/us/core/ValueSet/birthsex'\n",
    "path_map[c]\n"
   ]
  },
  {
   "cell_type": "markdown",
   "metadata": {},
   "source": [
    "### Using Jinja2 Template create md file for summary view \n",
    "*using Markdown instead of html for easier hand editing, the line spacing is resolved after template is rendered.*\n",
    "\n",
    "uses these elements:\n",
    " -   'label',\n",
    " -   'short',\n",
    " -  'min',\n",
    " -  'max',\n",
    " -   'type',\n",
    " -   'binding',\n",
    " \n",
    " plus:\n",
    " an invariant list\n",
    " a hash table of value set urls to valueset titles.\n"
   ]
  },
  {
   "cell_type": "code",
   "execution_count": 18,
   "metadata": {},
   "outputs": [],
   "source": [
    "def get_summary(profile_id,diff,constraints):\n",
    "\n",
    "    in_path = ''\n",
    "    template_path = 'summary-template.j2'\n",
    "    core_path = 'http://hl7.org/fhir/R4/'\n",
    "\n",
    "    bindings = dict(\n",
    "        required = f'{core_path}terminologies.html#required',\n",
    "        extensible = f'{core_path}terminologies.html#extensible',\n",
    "        preferred =f'{core_path}terminologies.html#preferred',\n",
    "        example = f'{core_path}terminologies.html#example',\n",
    "    )\n",
    "\n",
    "    def markdown(text, *args, **kwargs):\n",
    "        return commonmark(text, *args, **kwargs)\n",
    "\n",
    "    env = Environment(\n",
    "        loader=FileSystemLoader(searchpath = in_path),\n",
    "        autoescape=select_autoescape(['html','xml','xhtml','j2','md'])\n",
    "        )\n",
    "\n",
    "    env.filters['markdown'] = markdown\n",
    "\n",
    "    template = env.get_template(template_path)\n",
    "    d = template.render(elements = diff, title_map=tm.title_map, bindings=bindings, constraints=constraints, path_map = path_map)\n",
    "\n",
    "    print(f'============== file_name = {profile_id}-summary.md ================')\n",
    "    display(Markdown(d))\n",
    "    return d"
   ]
  },
  {
   "cell_type": "markdown",
   "metadata": {},
   "source": [
    "### Loop through profiles and update missing stuff in Differential with Snapshot then generate Markdown summary file and save"
   ]
  },
  {
   "cell_type": "code",
   "execution_count": 19,
   "metadata": {},
   "outputs": [
    {
     "data": {
      "text/plain": [
       "['StructureDefinition-us-core-observation-lab.json',\n",
       " 'StructureDefinition-us-core-careteam.json',\n",
       " 'StructureDefinition-us-core-medicationstatement.json',\n",
       " 'StructureDefinition-us-core-direct.json',\n",
       " 'StructureDefinition-us-core-profile-link.json',\n",
       " 'StructureDefinition-us-core-device.json',\n",
       " 'StructureDefinition-us-core-practitioner.json',\n",
       " 'StructureDefinition-us-core-patient.json',\n",
       " 'StructureDefinition-us-core-immunization.json',\n",
       " 'StructureDefinition-us-core-smokingstatus.json',\n",
       " 'StructureDefinition-us-core-documentreference.json',\n",
       " 'StructureDefinition-us-core-race.json',\n",
       " 'StructureDefinition-us-core-medicationrequest.json',\n",
       " 'StructureDefinition-us-core-condition.json',\n",
       " 'StructureDefinition-us-core-birthsex.json',\n",
       " 'StructureDefinition-us-core-encounter.json',\n",
       " 'StructureDefinition-us-core-organization.json',\n",
       " 'StructureDefinition-us-core-pediatric-weight.json',\n",
       " 'StructureDefinition-us-core-procedure.json',\n",
       " 'StructureDefinition-us-core-medication.json',\n",
       " 'StructureDefinition-us-core-diagnosticreport-note.json',\n",
       " 'StructureDefinition-us-core-practitionerrole.json',\n",
       " 'StructureDefinition-us-core-careplan.json',\n",
       " 'StructureDefinition-us-core-goal.json',\n",
       " 'StructureDefinition-us-core-ethnicity.json',\n",
       " 'StructureDefinition-us-core-location.json',\n",
       " 'StructureDefinition-us-core-pediatric-bmi.json',\n",
       " 'StructureDefinition-us-core-diagnosticreport-lab.json',\n",
       " 'StructureDefinition-us-core-allergyintolerance.json']"
      ]
     },
     "execution_count": 19,
     "metadata": {},
     "output_type": "execute_result"
    }
   ],
   "source": [
    "#in_path = '/Users/ehaas/Documents/FHIR/US-Core-R4/output/StructureDefinition-'\n",
    "#f_name = 'us-core-patient'\n",
    "#in_path = '/Users/ehaas/.fhir/packages/hl7.fhir.us.core.r4#dev/package/' # package file keeps disappearing\n",
    "in_path = '/Users/ehaas/Documents/FHIR/US-Core-R4/output'  # use local build dir.\n",
    "# in_path ='//ERICS-AIR-2/ehaas/Documents/FHIR/US-Core-R4/output'  # when working on PC\n",
    "#files = [x for x in os.listdir(in_path) if x.startswith(\"StructureDefinition\") and x.endswith('json')]\n",
    "files = [x for x in os.listdir(in_path) if x.startswith(\"StructureDefinition\") and x.endswith('json')]\n",
    "files"
   ]
  },
  {
   "cell_type": "code",
   "execution_count": 20,
   "metadata": {},
   "outputs": [],
   "source": [
    "summ_elements =[\n",
    "       'label',\n",
    "       'short',\n",
    "       'min',\n",
    "       'max',\n",
    "       'type',\n",
    "       'binding',\n",
    "        ]\n",
    "\n",
    "choice_types = {'valueQuantity': 'value[x]',\n",
    "                'valueCodeableConcept': 'value[x]',\n",
    "                'valueString': 'value[x]',\n",
    "                'valueInteger': 'value[x]',\n",
    "                'valueDecimal': 'value[x]',\n",
    "                'valueDateTime': 'value[x]',\n",
    "                'valueRange': 'value[x]',\n",
    "                'valuePeriod': 'value[x]',\n",
    "                'dueDuration': 'due[x]',\n",
    "                'dueDate': 'due[x]',\n",
    "                'effectivedateTime': 'effective[x]',\n",
    "                'effectivePeriod': 'effective[x]',\n",
    "               } "
   ]
  },
  {
   "cell_type": "code",
   "execution_count": 21,
   "metadata": {},
   "outputs": [
    {
     "name": "stdout",
     "output_type": "stream",
     "text": [
      "========us-core-careplan=======\n",
      "====Path = CarePlan =====\n",
      "differential = CarePlan.label = None\n",
      "snapshot = CarePlan.label = None\n",
      "differential = CarePlan.short = US Core CarePlan Profile\n",
      "differential = CarePlan.min = None\n",
      "snapshot = CarePlan.min = 0\n",
      "differential = CarePlan.max = None\n",
      "snapshot = CarePlan.max = *\n",
      "differential = CarePlan.type = None\n",
      "snapshot = CarePlan.type = None\n",
      "differential = CarePlan.binding = None\n",
      "snapshot = CarePlan.binding = None\n",
      "====Path = CarePlan.text =====\n",
      "differential = CarePlan.text.label = None\n",
      "snapshot = CarePlan.text.label = None\n",
      "differential = CarePlan.text.short = None\n",
      "snapshot = CarePlan.text.short = Text summary of the resource, for human interpretation\n",
      "differential = CarePlan.text.min = 1\n",
      "differential = CarePlan.text.max = 1\n",
      "differential = CarePlan.text.type = [<fhirclient.r4models.elementdefinition.ElementDefinitionType object at 0x10df43dd8>]\n",
      "differential = CarePlan.text.binding = None\n",
      "snapshot = CarePlan.text.binding = None\n",
      "====Path = CarePlan.text.status =====\n",
      "differential = CarePlan.text.status.label = None\n",
      "snapshot = CarePlan.text.status.label = None\n",
      "differential = CarePlan.text.status.short = None\n",
      "snapshot = CarePlan.text.status.short = generated | extensions | additional | empty\n",
      "differential = CarePlan.text.status.min = None\n",
      "snapshot = CarePlan.text.status.min = 1\n",
      "differential = CarePlan.text.status.max = None\n",
      "snapshot = CarePlan.text.status.max = 1\n",
      "differential = CarePlan.text.status.type = [<fhirclient.r4models.elementdefinition.ElementDefinitionType object at 0x10df43898>]\n",
      "differential = CarePlan.text.status.binding = <fhirclient.r4models.elementdefinition.ElementDefinitionBinding object at 0x10df43208>\n",
      "====Path = CarePlan.status =====\n",
      "differential = CarePlan.status.label = None\n",
      "snapshot = CarePlan.status.label = None\n",
      "differential = CarePlan.status.short = None\n",
      "snapshot = CarePlan.status.short = draft | active | suspended | completed | entered-in-error | cancelled | unknown\n",
      "differential = CarePlan.status.min = 1\n",
      "differential = CarePlan.status.max = 1\n",
      "differential = CarePlan.status.type = [<fhirclient.r4models.elementdefinition.ElementDefinitionType object at 0x10df432b0>]\n",
      "differential = CarePlan.status.binding = <fhirclient.r4models.elementdefinition.ElementDefinitionBinding object at 0x10df436d8>\n",
      "====Path = CarePlan.intent =====\n",
      "differential = CarePlan.intent.label = None\n",
      "snapshot = CarePlan.intent.label = None\n",
      "differential = CarePlan.intent.short = None\n",
      "snapshot = CarePlan.intent.short = proposal | plan | order | option\n",
      "differential = CarePlan.intent.min = 1\n",
      "differential = CarePlan.intent.max = 1\n",
      "differential = CarePlan.intent.type = [<fhirclient.r4models.elementdefinition.ElementDefinitionType object at 0x10df43470>]\n",
      "differential = CarePlan.intent.binding = <fhirclient.r4models.elementdefinition.ElementDefinitionBinding object at 0x10df434a8>\n",
      "====Path = CarePlan.category =====\n",
      "differential = CarePlan.category.label = None\n",
      "snapshot = CarePlan.category.label = None\n",
      "differential = CarePlan.category.short = None\n",
      "snapshot = CarePlan.category.short = Type of plan\n",
      "differential = CarePlan.category.min = 1\n",
      "differential = CarePlan.category.max = *\n",
      "differential = CarePlan.category.type = [<fhirclient.r4models.elementdefinition.ElementDefinitionType object at 0x10df43160>]\n",
      "differential = CarePlan.category.binding = None\n",
      "snapshot = CarePlan.category.binding = <fhirclient.r4models.elementdefinition.ElementDefinitionBinding object at 0x10e1cf320>\n",
      "====Path = CarePlan.category.coding =====\n",
      "differential = CarePlan.category.coding.label = None\n",
      "no snapshot element for CarePlan.category.coding.label = None assume is an choice data type\n",
      "CarePlan.category.coding CarePlan.category.coding\n"
     ]
    },
    {
     "ename": "StopIteration",
     "evalue": "",
     "output_type": "error",
     "traceback": [
      "\u001b[0;31m---------------------------------------------------------------------------\u001b[0m",
      "\u001b[0;31mStopIteration\u001b[0m                             Traceback (most recent call last)",
      "\u001b[0;32m<ipython-input-21-aa00e033da48>\u001b[0m in \u001b[0;36m<module>\u001b[0;34m\u001b[0m\n\u001b[1;32m     27\u001b[0m                     \u001b[0msnap_element\u001b[0m \u001b[0;34m=\u001b[0m \u001b[0;34m(\u001b[0m\u001b[0ms\u001b[0m \u001b[0;32mfor\u001b[0m \u001b[0ms\u001b[0m \u001b[0;32min\u001b[0m \u001b[0msd\u001b[0m\u001b[0;34m.\u001b[0m\u001b[0msnapshot\u001b[0m\u001b[0;34m.\u001b[0m\u001b[0melement\u001b[0m \u001b[0;32mif\u001b[0m \u001b[0ms\u001b[0m\u001b[0;34m.\u001b[0m\u001b[0mpath\u001b[0m \u001b[0;34m==\u001b[0m \u001b[0mpath\u001b[0m\u001b[0;34m)\u001b[0m\u001b[0;34m\u001b[0m\u001b[0;34m\u001b[0m\u001b[0m\n\u001b[0;32m---> 28\u001b[0;31m                     \u001b[0mnew_val\u001b[0m \u001b[0;34m=\u001b[0m \u001b[0mgetattr\u001b[0m\u001b[0;34m(\u001b[0m\u001b[0mnext\u001b[0m\u001b[0;34m(\u001b[0m\u001b[0msnap_element\u001b[0m\u001b[0;34m)\u001b[0m\u001b[0;34m,\u001b[0m\u001b[0mk\u001b[0m\u001b[0;34m)\u001b[0m\u001b[0;34m\u001b[0m\u001b[0;34m\u001b[0m\u001b[0m\n\u001b[0m\u001b[1;32m     29\u001b[0m                     \u001b[0mprint\u001b[0m\u001b[0;34m(\u001b[0m\u001b[0;34mf'snapshot = {path}.{k} = {new_val}'\u001b[0m\u001b[0;34m)\u001b[0m\u001b[0;34m\u001b[0m\u001b[0;34m\u001b[0m\u001b[0m\n",
      "\u001b[0;31mStopIteration\u001b[0m: ",
      "\nDuring handling of the above exception, another exception occurred:\n",
      "\u001b[0;31mStopIteration\u001b[0m                             Traceback (most recent call last)",
      "\u001b[0;32m<ipython-input-21-aa00e033da48>\u001b[0m in \u001b[0;36m<module>\u001b[0;34m\u001b[0m\n\u001b[1;32m     40\u001b[0m                     \u001b[0mprint\u001b[0m\u001b[0;34m(\u001b[0m\u001b[0mpath\u001b[0m\u001b[0;34m,\u001b[0m\u001b[0mnew_path\u001b[0m\u001b[0;34m)\u001b[0m\u001b[0;34m\u001b[0m\u001b[0;34m\u001b[0m\u001b[0m\n\u001b[1;32m     41\u001b[0m                     \u001b[0msnap_element\u001b[0m \u001b[0;34m=\u001b[0m \u001b[0;34m(\u001b[0m\u001b[0ms\u001b[0m \u001b[0;32mfor\u001b[0m \u001b[0ms\u001b[0m \u001b[0;32min\u001b[0m \u001b[0msd\u001b[0m\u001b[0;34m.\u001b[0m\u001b[0msnapshot\u001b[0m\u001b[0;34m.\u001b[0m\u001b[0melement\u001b[0m \u001b[0;32mif\u001b[0m \u001b[0ms\u001b[0m\u001b[0;34m.\u001b[0m\u001b[0mpath\u001b[0m \u001b[0;34m==\u001b[0m \u001b[0mnew_path\u001b[0m\u001b[0;34m)\u001b[0m\u001b[0;34m\u001b[0m\u001b[0;34m\u001b[0m\u001b[0m\n\u001b[0;32m---> 42\u001b[0;31m                     \u001b[0mnew_val\u001b[0m \u001b[0;34m=\u001b[0m \u001b[0mgetattr\u001b[0m\u001b[0;34m(\u001b[0m\u001b[0mnext\u001b[0m\u001b[0;34m(\u001b[0m\u001b[0msnap_element\u001b[0m\u001b[0;34m)\u001b[0m\u001b[0;34m,\u001b[0m\u001b[0mk\u001b[0m\u001b[0;34m)\u001b[0m\u001b[0;34m\u001b[0m\u001b[0;34m\u001b[0m\u001b[0m\n\u001b[0m\u001b[1;32m     43\u001b[0m                     \u001b[0mprint\u001b[0m\u001b[0;34m(\u001b[0m\u001b[0;34mf'snapshot = {path}.{k} = {new_val}'\u001b[0m\u001b[0;34m)\u001b[0m\u001b[0;34m\u001b[0m\u001b[0;34m\u001b[0m\u001b[0m\n\u001b[1;32m     44\u001b[0m                     \u001b[0msetattr\u001b[0m\u001b[0;34m(\u001b[0m\u001b[0mi\u001b[0m\u001b[0;34m,\u001b[0m\u001b[0mk\u001b[0m\u001b[0;34m,\u001b[0m\u001b[0mnew_val\u001b[0m\u001b[0;34m)\u001b[0m\u001b[0;34m\u001b[0m\u001b[0;34m\u001b[0m\u001b[0m\n",
      "\u001b[0;31mStopIteration\u001b[0m: "
     ]
    }
   ],
   "source": [
    "files = [i for i in files if i =='StructureDefinition-us-core-careplan.json']\n",
    "for i in files:\n",
    "    \n",
    "    constraints = {}\n",
    "    sd_dict = open_file(in_path,i)\n",
    "    sd = SD.StructureDefinition(sd_dict)\n",
    "    profile_id = sd.id\n",
    "    print(f'========{profile_id}=======')\n",
    "    for i in sd.differential.element:\n",
    "        path = i.path\n",
    "        print(f'====Path = {path} =====')\n",
    "        # GET Invariant Dict  path: human readable invariant list.\n",
    "        try:\n",
    "            k = next((k for k in sd.snapshot.element if k.path == path))\n",
    "            constraint = [j.human for j in k.constraint if 'dom-' not in j.key and 'ele-' not in j.key  and 'ext-' not in j.key]\n",
    "        except TypeError:\n",
    "            constraint = []\n",
    "        except StopIteration:\n",
    "            constraint = []\n",
    "        if constraint:\n",
    "            constraints[path]=constraint         \n",
    "\n",
    "        for k in summ_elements:\n",
    "            print(f'differential = {path}.{k} = {getattr(i,k)}')\n",
    "            if getattr(i,k) == None:\n",
    "                try:\n",
    "                    snap_element = (s for s in sd.snapshot.element if s.path == path)           \n",
    "                    new_val = getattr(next(snap_element),k)\n",
    "                    print(f'snapshot = {path}.{k} = {new_val}')\n",
    "                    setattr(i,k,new_val)\n",
    "                except StopIteration: # assume is an choice data type\n",
    "                    print(f'no snapshot element for {path}.{k} = {getattr(i,k)} assume is an choice data type')\n",
    "                    new_plist = []\n",
    "                    for p in path.split('.'):\n",
    "                        try:\n",
    "                            new_plist.append(choice_types[p])\n",
    "                        except KeyError:\n",
    "                            new_plist.append(p)\n",
    "                    new_path = '.'.join(new_plist)\n",
    "                    print(path,new_path)\n",
    "                    snap_element = (s for s in sd.snapshot.element if s.path == new_path)           \n",
    "                    new_val = getattr(next(snap_element),k)\n",
    "                    print(f'snapshot = {path}.{k} = {new_val}')\n",
    "                    setattr(i,k,new_val)\n",
    "            #print(f'differential post if = {path}.{k} = {getattr(i,k)}')\n",
    "    summ_file = get_summary(profile_id,sd.differential.element,constraints)\n",
    "    summ_file = os.linesep.join([s for s in summ_file.splitlines() if s]) # remove empty lines\n",
    "    summ_file = summ_file.replace('####', '\\n####')  #add a line before Must Supports\n",
    "\n",
    "    f_name = f'{profile_id}-summary.md'\n",
    "    # save in pages folder\n",
    "    #ig_source_path = ''  # temp folder\n",
    "    path = Path.cwd() / ig_source_path / 'pages' / '_includes' / f_name\n",
    "    path.write_text(summ_file, encoding='utf8')"
   ]
  }
 ],
 "metadata": {
  "kernelspec": {
   "display_name": "Python 3",
   "language": "python",
   "name": "python3"
  },
  "language_info": {
   "codemirror_mode": {
    "name": "ipython",
    "version": 3
   },
   "file_extension": ".py",
   "mimetype": "text/x-python",
   "name": "python",
   "nbconvert_exporter": "python",
   "pygments_lexer": "ipython3",
   "version": "3.7.3"
  }
 },
 "nbformat": 4,
 "nbformat_minor": 2
}
