{
 "cells": [
  {
   "cell_type": "markdown",
   "metadata": {},
   "source": [
    "## Make Profile summaries using Jinja2 and Python Modele\n",
    "\n",
    "*USE Python 3.7 to maintain order of Json files*\n",
    "\n",
    "- Fetch SD file from IG\n",
    "- Spec_internals from IG Package.tgz\n",
    "- Create and use import Title map from ?Package?\n",
    "- Transform to Python model\n",
    "- use Jinja2 template to create a summary markdown file\n",
    "- save markdown file\n",
    "\n",
    "\n",
    "\n",
    "*Note need a successful build to generate since based on ig output local file\n",
    "alternatively use package.files to generate*"
   ]
  },
  {
   "cell_type": "markdown",
   "metadata": {},
   "source": [
    "### import python modules including R4 fhirclient models"
   ]
  },
  {
   "cell_type": "code",
   "execution_count": 21,
   "metadata": {},
   "outputs": [],
   "source": [
    "from fhirclient.r4models import structuredefinition as SD\n",
    "from fhirclient.r4models import narrative as N\n",
    "from fhirclient.r4models import valueset as VS\n",
    "import fhirclient.r4models.identifier as I\n",
    "import fhirclient.r4models.coding as C\n",
    "import fhirclient.r4models.codeableconcept as CC\n",
    "import fhirclient.r4models.fhirdate as D\n",
    "import fhirclient.r4models.extension as X\n",
    "import fhirclient.r4models.contactdetail as CD\n",
    "import fhirclient.r4models.fhirreference as FR\n",
    "from json import dumps, loads, load\n",
    "from pprint import pprint\n",
    "from jinja2 import Environment, FileSystemLoader, select_autoescape\n",
    "from commonmark import commonmark\n",
    "from IPython.display import display, HTML, Markdown\n",
    "import title_map as tm\n",
    "import os\n",
    "from stringcase import snakecase, titlecase\n",
    "from pathlib import Path"
   ]
  },
  {
   "cell_type": "markdown",
   "metadata": {},
   "source": [
    "### Get file and return as dict"
   ]
  },
  {
   "cell_type": "code",
   "execution_count": 22,
   "metadata": {},
   "outputs": [],
   "source": [
    "ig_package_path =  \"//ERICS-AIR-2/ehaas/Documents/FHIR/US-Core-R4/output\"\n",
    "ig_source_path = \"//ERICS-AIR-2/ehaas/Documents/FHIR/US-Core-R4/source/\"\n",
    "#ig_source_path = \"/Users/ehaas/Documents/FHIR/US-Core-R4/source/\"\n",
    "#ig_source_path = ''\n",
    "\n",
    "def open_file(in_path, f_name): # get files\n",
    "    with open(f'{in_path}/{f_name}', encoding=\"utf8\") as f:\n",
    "        r = f.read()\n",
    "        return(loads(r))\n",
    "   "
   ]
  },
  {
   "cell_type": "markdown",
   "metadata": {},
   "source": [
    "### Get spec_internal from package.tgz a json file which includes canonical to local relative page links"
   ]
  },
  {
   "cell_type": "code",
   "execution_count": 23,
   "metadata": {},
   "outputs": [
    {
     "data": {
      "text/plain": [
       "'ValueSet-birthsex.html'"
      ]
     },
     "execution_count": 23,
     "metadata": {},
     "output_type": "execute_result"
    }
   ],
   "source": [
    "import tarfile\n",
    "from pprint import pprint\n",
    "def get_si(path):\n",
    "    with tarfile.open(name=os.path.join(path,'package.tgz'), mode='r') as tf:\n",
    "        #pprint(tf.getnames())\n",
    "        f = tf.extractfile('other/spec.internals')\n",
    "        r = f.read()\n",
    "        return(loads(r))\n",
    "        \n",
    "si = get_si(ig_package_path)\n",
    "path_map = si['paths']\n",
    "c = 'http://hl7.org/fhir/us/core/ValueSet/birthsex'\n",
    "path_map[c]\n"
   ]
  },
  {
   "cell_type": "markdown",
   "metadata": {},
   "source": [
    "### Using Jinja2 Template create md file for summary view \n",
    "*using Markdown instead of html for easier hand editing, the line spacing is resolved after template is rendered.*\n",
    "\n",
    "uses these elements:\n",
    " -   'label',\n",
    " -   'short',\n",
    " -  'min',\n",
    " -  'max',\n",
    " -   'type',\n",
    " -   'binding',\n",
    " \n",
    " plus:\n",
    " an invariant list\n",
    " a hash table of value set urls to valueset titles.\n"
   ]
  },
  {
   "cell_type": "code",
   "execution_count": 24,
   "metadata": {},
   "outputs": [],
   "source": [
    "def get_summary(profile_id,diff,constraints):\n",
    "\n",
    "    in_path = ''\n",
    "    template_path = 'summary-template.j2'\n",
    "    core_path = 'http://hl7.org/fhir/R4/'\n",
    "\n",
    "    bindings = dict(\n",
    "        required = f'{core_path}terminologies.html#required',\n",
    "        extensible = f'{core_path}terminologies.html#extensible',\n",
    "        preferred =f'{core_path}terminologies.html#preferred',\n",
    "        example = f'{core_path}terminologies.html#example',\n",
    "    )\n",
    "\n",
    "    def markdown(text, *args, **kwargs):\n",
    "        return commonmark(text, *args, **kwargs)\n",
    "\n",
    "    env = Environment(\n",
    "        loader=FileSystemLoader(searchpath = in_path),\n",
    "        autoescape=select_autoescape(['html','xml','xhtml','j2','md'])\n",
    "        )\n",
    "\n",
    "    env.filters['markdown'] = markdown\n",
    "\n",
    "    template = env.get_template(template_path)\n",
    "    d = template.render(elements = diff, title_map=tm.title_map, bindings=bindings, constraints=constraints, path_map = path_map)\n",
    "\n",
    "    print(f'============== file_name = {profile_id}-summary.md ================')\n",
    "    display(Markdown(d))\n",
    "    return d"
   ]
  },
  {
   "cell_type": "markdown",
   "metadata": {},
   "source": [
    "### Loop through profiles and update missing stuff in Differential with Snapshot then generate Markdown summary file and save"
   ]
  },
  {
   "cell_type": "code",
   "execution_count": 25,
   "metadata": {},
   "outputs": [
    {
     "data": {
      "text/plain": [
       "['StructureDefinition-us-core-careteam.json',\n",
       " 'StructureDefinition-us-core-medicationstatement.json',\n",
       " 'StructureDefinition-us-core-direct.json',\n",
       " 'StructureDefinition-us-core-profile-link.json',\n",
       " 'StructureDefinition-us-core-device.json',\n",
       " 'StructureDefinition-us-core-practitioner.json',\n",
       " 'StructureDefinition-us-core-patient.json',\n",
       " 'StructureDefinition-us-core-immunization.json',\n",
       " 'StructureDefinition-us-core-smokingstatus.json',\n",
       " 'StructureDefinition-us-core-documentreference.json',\n",
       " 'StructureDefinition-us-core-race.json',\n",
       " 'StructureDefinition-us-core-medicationrequest.json',\n",
       " 'StructureDefinition-us-core-condition.json',\n",
       " 'StructureDefinition-us-core-birthsex.json',\n",
       " 'StructureDefinition-us-core-encounter.json',\n",
       " 'StructureDefinition-us-core-organization.json',\n",
       " 'StructureDefinition-us-core-pediatric-weight.json',\n",
       " 'StructureDefinition-us-core-procedure.json',\n",
       " 'StructureDefinition-us-core-medication.json',\n",
       " 'StructureDefinition-us-core-observationresults.json',\n",
       " 'StructureDefinition-us-core-diagnosticreport-note.json',\n",
       " 'StructureDefinition-us-core-practitionerrole.json',\n",
       " 'StructureDefinition-us-core-careplan.json',\n",
       " 'StructureDefinition-us-core-goal.json',\n",
       " 'StructureDefinition-us-core-ethnicity.json',\n",
       " 'StructureDefinition-us-core-location.json',\n",
       " 'StructureDefinition-us-core-pediatric-bmi.json',\n",
       " 'StructureDefinition-us-core-diagnosticreport-lab.json',\n",
       " 'StructureDefinition-us-core-allergyintolerance.json']"
      ]
     },
     "execution_count": 25,
     "metadata": {},
     "output_type": "execute_result"
    }
   ],
   "source": [
    "#in_path = '/Users/ehaas/Documents/FHIR/US-Core-R4/output/StructureDefinition-'\n",
    "#f_name = 'us-core-patient'\n",
    "#in_path = '/Users/ehaas/.fhir/packages/hl7.fhir.us.core.r4#dev/package/' # package file keeps disappearing\n",
    "# in_path = '/Users/ehaas/Documents/FHIR/US-Core-R4/output'  # use local build dir.\n",
    "in_path ='//ERICS-AIR-2/ehaas/Documents/FHIR/US-Core-R4/output'  # when working on PC\n",
    "#files = [x for x in os.listdir(in_path) if x.startswith(\"StructureDefinition\") and x.endswith('json')]\n",
    "files = [x for x in os.listdir(in_path) if x.startswith(\"StructureDefinition\") and x.endswith('json')]\n",
    "files"
   ]
  },
  {
   "cell_type": "code",
   "execution_count": 26,
   "metadata": {},
   "outputs": [],
   "source": [
    "summ_elements =[\n",
    "       'label',\n",
    "       'short',\n",
    "       'min',\n",
    "       'max',\n",
    "       'type',\n",
    "       'binding',\n",
    "        ]\n",
    "\n",
    "choice_types = {'valueQuantity': 'value[x]',\n",
    "                'valueCodeableConcept': 'value[x]',\n",
    "                'valueString': 'value[x]',\n",
    "                'valueInteger': 'value[x]',\n",
    "                'valueDecimal': 'value[x]',\n",
    "                'valueDateTime': 'value[x]',\n",
    "                'valueRange': 'value[x]',\n",
    "                'valuePeriod': 'value[x]',\n",
    "                'dueDuration': 'due[x]',\n",
    "                'dueDate': 'due[x]',\n",
    "                'effectivedateTime': 'effective[x]',\n",
    "                'effectivePeriod': 'effective[x]',\n",
    "               } "
   ]
  },
  {
   "cell_type": "code",
   "execution_count": 27,
   "metadata": {},
   "outputs": [
    {
     "name": "stdout",
     "output_type": "stream",
     "text": [
      "no snapshot element for Goal.target.dueDate.label = None assume is an choice data type\n",
      "Goal.target.dueDate Goal.target.due[x]\n",
      "no snapshot element for Goal.target.dueDate.short = None assume is an choice data type\n",
      "Goal.target.dueDate Goal.target.due[x]\n",
      "no snapshot element for Goal.target.dueDate.type = None assume is an choice data type\n",
      "Goal.target.dueDate Goal.target.due[x]\n",
      "no snapshot element for Goal.target.dueDate.binding = None assume is an choice data type\n",
      "Goal.target.dueDate Goal.target.due[x]\n",
      "============== file_name = us-core-goal-summary.md ================\n"
     ]
    },
    {
     "data": {
      "text/markdown": [
       "\n",
       "\n",
       "**Goal**\n",
       "#### Summary of the Mandatory Requirements\n",
       "\n",
       "\n",
       "1.  A  code  in `Goal.lifecycleStatus`\n",
       "with a [required](http://hl7.org/fhir/R4/terminologies.html#required)\n",
       " binding to [GoalLifecycleStatus](http://hl7.org/fhir/ValueSet/goal-status)\n",
       "1.  A  CodeableConcept  in `Goal.description`\n",
       "with an [example](http://hl7.org/fhir/R4/terminologies.html#example)\n",
       " binding to [SNOMED CT Clinical Findings](http://hl7.org/fhir/ValueSet/clinical-findings)\n",
       "1.  A Patient Reference  in `Goal.subject`\n",
       "\n",
       "#### Summary of the Must Support Requirements\n",
       "\n",
       "\n",
       "1. One or more  Targets  in `Goal.target`\n",
       " with the following constraints: *Goal.target.measure is required if Goal.target.detail is populated*\n",
       "   - which should have a  date value  in `Goal.target.dueDate`\n",
       "\n",
       "#### Summary of Constraints\n",
       "1. Goal.target.measure is required if Goal.target.detail is populated"
      ],
      "text/plain": [
       "<IPython.core.display.Markdown object>"
      ]
     },
     "metadata": {},
     "output_type": "display_data"
    }
   ],
   "source": [
    "files = [i for i in files if i =='StructureDefinition-us-core-goal.json']\n",
    "for i in files:\n",
    "    \n",
    "    constraints = {}\n",
    "    sd_dict = open_file(in_path,i)\n",
    "    sd = SD.StructureDefinition(sd_dict)\n",
    "    profile_id = sd.id\n",
    "    #print(f'========{profile_id}=======')\n",
    "    for i in sd.differential.element:\n",
    "        path = i.path\n",
    "        #print(f'====Path = {path} =====')\n",
    "        # GET Invariant Dict  path: human readable invariant list.\n",
    "        try:\n",
    "            k = next((k for k in sd.snapshot.element if k.path == path))\n",
    "            constraint = [j.human for j in k.constraint if 'dom-' not in j.key and 'ele-' not in j.key  and 'ext-' not in j.key]\n",
    "        except TypeError:\n",
    "            constraint = []\n",
    "        except StopIteration:\n",
    "            constraint = []\n",
    "        if constraint:\n",
    "            constraints[path]=constraint         \n",
    "\n",
    "        for k in summ_elements:\n",
    "            #print(f'differential = {path}.{k} = {getattr(i,k)}')\n",
    "            if getattr(i,k) == None:\n",
    "                try:\n",
    "                    snap_element = (s for s in sd.snapshot.element if s.path == path)           \n",
    "                    new_val = getattr(next(snap_element),k)\n",
    "                    #print(f'snapshot = {path}.{k} = {new_val}')\n",
    "                    setattr(i,k,new_val)\n",
    "                except StopIteration: # assume is an choice data type\n",
    "                    print(f'no snapshot element for {path}.{k} = {getattr(i,k)} assume is an choice data type')\n",
    "                    new_plist = []\n",
    "                    for p in path.split('.'):\n",
    "                        try:\n",
    "                            new_plist.append(choice_types[p])\n",
    "                        except KeyError:\n",
    "                            new_plist.append(p)\n",
    "                    new_path = '.'.join(new_plist)\n",
    "                    print(path,new_path)\n",
    "                    snap_element = (s for s in sd.snapshot.element if s.path == new_path)           \n",
    "                    new_val = getattr(next(snap_element),k)\n",
    "                    #print(f'snapshot = {path}.{k} = {new_val}')\n",
    "                    setattr(i,k,new_val)\n",
    "            #print(f'differential post if = {path}.{k} = {getattr(i,k)}')\n",
    "    summ_file = get_summary(profile_id,sd.differential.element,constraints)\n",
    "    summ_file = os.linesep.join([s for s in summ_file.splitlines() if s]) # remove empty lines\n",
    "    summ_file = summ_file.replace('####', '\\n####')  #add a line before Must Supports\n",
    "\n",
    "    f_name = f'{profile_id}-summary.md'\n",
    "    # save in pages folder\n",
    "    #ig_source_path = ''  # temp folder\n",
    "    path = Path.cwd() / ig_source_path / 'pages' / '_includes' / f_name\n",
    "    path.write_text(summ_file, encoding='utf8')"
   ]
  }
 ],
 "metadata": {
  "kernelspec": {
   "display_name": "Python 3",
   "language": "python",
   "name": "python3"
  },
  "language_info": {
   "codemirror_mode": {
    "name": "ipython",
    "version": 3
   },
   "file_extension": ".py",
   "mimetype": "text/x-python",
   "name": "python",
   "nbconvert_exporter": "python",
   "pygments_lexer": "ipython3",
   "version": "3.7.1"
  }
 },
 "nbformat": 4,
 "nbformat_minor": 2
}
