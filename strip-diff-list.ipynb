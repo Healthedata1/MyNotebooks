{
 "cells": [
  {
   "cell_type": "markdown",
   "metadata": {},
   "source": [
    "\n",
    "## Search through Profile properties summaries using Jinja2 and Python Modele\n",
    "\n",
    "*USE Python 3.7 to maintain order of Json files*\n",
    "\n",
    "- Fetch SD file from IG\n",
    "- Spec_internals from IG Package.tgz\n",
    "- search for element properties\n",
    "\n",
    "\n",
    "\n",
    "*Note need a successful build to generate since based on ig output local file\n",
    "alternatively use package.files to generate*"
   ]
  },
  {
   "cell_type": "markdown",
   "metadata": {},
   "source": [
    "### import python modules including R4 fhirclient models"
   ]
  },
  {
   "cell_type": "code",
   "execution_count": 1,
   "metadata": {},
   "outputs": [],
   "source": [
    "from fhirclient.r4models import structuredefinition as SD\n",
    "import Summary_maker.title_map as tm\n",
    "import os, json, copy\n",
    "from pathlib import Path"
   ]
  },
  {
   "cell_type": "markdown",
   "metadata": {},
   "source": [
    "### Get file and return as dict"
   ]
  },
  {
   "cell_type": "markdown",
   "metadata": {},
   "source": [
    "### Write to file"
   ]
  },
  {
   "cell_type": "markdown",
   "metadata": {},
   "source": [
    "### Loop through profiles in source dir"
   ]
  },
  {
   "cell_type": "code",
   "execution_count": 2,
   "metadata": {},
   "outputs": [],
   "source": [
    "duplicate_elements = set()\n",
    "\n",
    "#us_core = '/Users/ehaas/.fhir/packages/hl7.fhir.us.core#dev/package'\n",
    "us_core = '/Users/ehaas/Documents/FHIR/US-Core-R4/input/resources'\n",
    "fhir_r4 = '/Users/ehaas/.fhir/packages/hl7.fhir.r4.core#4.0.1/package'\n",
    "#f_name = 'us-core-patient'\n",
    "#n_path = '/Users/ehaas/.fhir/packages/hl7.fhir.us.core#dev' # package file keeps disappearing\n",
    "#in_path = '//ERICS-AIR-2/ehaas/Documents/FHIR/US-Core-R4/output'  # use local build dir.\n",
    "us_core_files = [x for x in os.listdir(us_core) if x.startswith(\"StructureDefinition\")]\n",
    "us_core_files\n",
    "\n",
    "remove_list = ['alias', 'definition', 'isModifier', 'max', 'min', 'type']"
   ]
  },
  {
   "cell_type": "code",
   "execution_count": 3,
   "metadata": {},
   "outputs": [],
   "source": [
    "def open_file(in_path, f_name): # get files\n",
    "    with open(f'{in_path}/{f_name}', encoding=\"utf8\") as f:\n",
    "        r = f.read()\n",
    "        return(json.loads(r))"
   ]
  },
  {
   "cell_type": "code",
   "execution_count": 4,
   "metadata": {},
   "outputs": [],
   "source": [
    "def save_to_file(sd_dict,f_name): # save in resources folder\n",
    "\n",
    "    print('writing to file .......')\n",
    "    #write_path = '/Users/ehaas/Documents/FHIR/US-Core-R4/input/resources'\n",
    "    write_path = 'test_resources'\n",
    "    path = Path.cwd() / write_path  / f_name\n",
    "    path.write_text(json.dumps(sd_dict, indent=2))"
   ]
  },
  {
   "cell_type": "markdown",
   "metadata": {},
   "source": [
    "loop through all sd source files and compare to the fhir package snapshot\n",
    "\n",
    "print out the element the element you want to scrub out\n",
    "\n",
    "filter on the element properties you want"
   ]
  },
  {
   "cell_type": "code",
   "execution_count": 8,
   "metadata": {},
   "outputs": [
    {
     "name": "stdout",
     "output_type": "stream",
     "text": [
      "StructureDefinition-us-core-observation-lab.json\n",
      "*******************************************************************************\n",
      "******** US Core Laboratory Result Observation Profile ************\n",
      "*******************************************************************************\n",
      "base = http://hl7.org/fhir/StructureDefinition/Observation type = Observation\n",
      "******** Element = Observation ************\n",
      "******** Element = Observation.status ************\n",
      "******** Element = Observation.category ************\n",
      "******** Element = Observation.category ************\n",
      "e['id']=Observation.category:Laboratory, base_e['id']=Observation.category, base_e['type']=[{'code': 'CodeableConcept'}]\n",
      "CodeableConcept\n",
      "datatype_sd['id'] = CodeableConcept\n",
      "******** Element = Observation.code ************\n",
      "******** Element = Observation.subject ************\n",
      "******** Element = Observation.effective[x] ************\n",
      "******** Element = Observation.value[x] ************\n",
      "******** Element = Observation.dataAbsentReason ************\n",
      "StructureDefinition-us-core-careteam.json\n",
      "*******************************************************************************\n",
      "******** US Core CareTeam Profile ************\n",
      "*******************************************************************************\n",
      "base = http://hl7.org/fhir/StructureDefinition/CareTeam type = CareTeam\n",
      "******** Element = CareTeam ************\n",
      "******** Element = CareTeam.status ************\n",
      "******** Element = CareTeam.subject ************\n",
      "******** Element = CareTeam.participant ************\n",
      "******** Element = CareTeam.participant.role ************\n",
      "******** Element = CareTeam.participant.member ************\n",
      "StructureDefinition-us-core-direct.json\n",
      "StructureDefinition-us-core-respiratory-rate.json\n",
      "*******************************************************************************\n",
      "******** US Core Respiratory Rate Profile ************\n",
      "*******************************************************************************\n",
      "base = http://hl7.org/fhir/us/core/StructureDefinition/us-core-vital-signs type = Observation\n",
      "******** Element = Observation ************\n",
      "******** Element = Observation.code ************\n",
      "******** Element = Observation.valueQuantity ************\n",
      "datatype for Observation.valueQuantity = Quantity\n",
      "******** Element = Observation.valueQuantity.value ************\n",
      "datatype for Observation.valueQuantity.value = \n"
     ]
    },
    {
     "ename": "FileNotFoundError",
     "evalue": "[Errno 2] No such file or directory: '/Users/ehaas/.fhir/packages/hl7.fhir.r4.core#4.0.1/package/StructureDefinition-.json'",
     "output_type": "error",
     "traceback": [
      "\u001b[0;31m---------------------------------------------------------------------------\u001b[0m",
      "\u001b[0;31mKeyError\u001b[0m                                  Traceback (most recent call last)",
      "\u001b[0;32m<ipython-input-8-b4de4442ee8a>\u001b[0m in \u001b[0;36m<module>\u001b[0;34m\u001b[0m\n\u001b[1;32m     37\u001b[0m                 \u001b[0;32mtry\u001b[0m\u001b[0;34m:\u001b[0m\u001b[0;34m\u001b[0m\u001b[0;34m\u001b[0m\u001b[0m\n\u001b[0;32m---> 38\u001b[0;31m                     \u001b[0mprint\u001b[0m\u001b[0;34m(\u001b[0m\u001b[0;34mf\"e['id']={e['id']}, base_e['id']={base_e['id']}, base_e['type']={base_e['type']}\"\u001b[0m\u001b[0;34m)\u001b[0m\u001b[0;34m\u001b[0m\u001b[0;34m\u001b[0m\u001b[0m\n\u001b[0m\u001b[1;32m     39\u001b[0m                     \u001b[0;31m#get base datatype\u001b[0m\u001b[0;34m\u001b[0m\u001b[0;34m\u001b[0m\u001b[0;34m\u001b[0m\u001b[0m\n",
      "\u001b[0;31mKeyError\u001b[0m: 'type'",
      "\nDuring handling of the above exception, another exception occurred:\n",
      "\u001b[0;31mFileNotFoundError\u001b[0m                         Traceback (most recent call last)",
      "\u001b[0;32m<ipython-input-8-b4de4442ee8a>\u001b[0m in \u001b[0;36m<module>\u001b[0;34m\u001b[0m\n\u001b[1;32m     50\u001b[0m                       \u001b[0mprint\u001b[0m\u001b[0;34m(\u001b[0m\u001b[0;34mf\"datatype for {e['id']} = {datatype}\"\u001b[0m\u001b[0;34m)\u001b[0m\u001b[0;34m\u001b[0m\u001b[0;34m\u001b[0m\u001b[0m\n\u001b[1;32m     51\u001b[0m \u001b[0;34m\u001b[0m\u001b[0m\n\u001b[0;32m---> 52\u001b[0;31m                       \u001b[0mdatatype_sd\u001b[0m \u001b[0;34m=\u001b[0m \u001b[0mopen_file\u001b[0m\u001b[0;34m(\u001b[0m\u001b[0mfhir_r4\u001b[0m\u001b[0;34m,\u001b[0m\u001b[0;34mf'StructureDefinition-{datatype}.json'\u001b[0m\u001b[0;34m)\u001b[0m\u001b[0;34m\u001b[0m\u001b[0;34m\u001b[0m\u001b[0m\n\u001b[0m\u001b[1;32m     53\u001b[0m                       \u001b[0;31m#loop though elements in datatype\u001b[0m\u001b[0;34m\u001b[0m\u001b[0;34m\u001b[0m\u001b[0;34m\u001b[0m\u001b[0m\n\u001b[1;32m     54\u001b[0m \u001b[0;34m\u001b[0m\u001b[0m\n",
      "\u001b[0;32m<ipython-input-3-0d72df1c3422>\u001b[0m in \u001b[0;36mopen_file\u001b[0;34m(in_path, f_name)\u001b[0m\n\u001b[1;32m      1\u001b[0m \u001b[0;32mdef\u001b[0m \u001b[0mopen_file\u001b[0m\u001b[0;34m(\u001b[0m\u001b[0min_path\u001b[0m\u001b[0;34m,\u001b[0m \u001b[0mf_name\u001b[0m\u001b[0;34m)\u001b[0m\u001b[0;34m:\u001b[0m \u001b[0;31m# get files\u001b[0m\u001b[0;34m\u001b[0m\u001b[0;34m\u001b[0m\u001b[0m\n\u001b[0;32m----> 2\u001b[0;31m     \u001b[0;32mwith\u001b[0m \u001b[0mopen\u001b[0m\u001b[0;34m(\u001b[0m\u001b[0;34mf'{in_path}/{f_name}'\u001b[0m\u001b[0;34m,\u001b[0m \u001b[0mencoding\u001b[0m\u001b[0;34m=\u001b[0m\u001b[0;34m\"utf8\"\u001b[0m\u001b[0;34m)\u001b[0m \u001b[0;32mas\u001b[0m \u001b[0mf\u001b[0m\u001b[0;34m:\u001b[0m\u001b[0;34m\u001b[0m\u001b[0;34m\u001b[0m\u001b[0m\n\u001b[0m\u001b[1;32m      3\u001b[0m         \u001b[0mr\u001b[0m \u001b[0;34m=\u001b[0m \u001b[0mf\u001b[0m\u001b[0;34m.\u001b[0m\u001b[0mread\u001b[0m\u001b[0;34m(\u001b[0m\u001b[0;34m)\u001b[0m\u001b[0;34m\u001b[0m\u001b[0;34m\u001b[0m\u001b[0m\n\u001b[1;32m      4\u001b[0m         \u001b[0;32mreturn\u001b[0m\u001b[0;34m(\u001b[0m\u001b[0mjson\u001b[0m\u001b[0;34m.\u001b[0m\u001b[0mloads\u001b[0m\u001b[0;34m(\u001b[0m\u001b[0mr\u001b[0m\u001b[0;34m)\u001b[0m\u001b[0;34m)\u001b[0m\u001b[0;34m\u001b[0m\u001b[0;34m\u001b[0m\u001b[0m\n",
      "\u001b[0;31mFileNotFoundError\u001b[0m: [Errno 2] No such file or directory: '/Users/ehaas/.fhir/packages/hl7.fhir.r4.core#4.0.1/package/StructureDefinition-.json'"
     ]
    }
   ],
   "source": [
    "for i in us_core_files:\n",
    "    print(i)\n",
    "    constraints = {}\n",
    "    sd_dict = open_file(us_core,i)\n",
    "    if sd_dict['type'] != 'Extension':\n",
    "        print('*'*79)\n",
    "        print(f'******** {sd_dict[\"title\"]} ************')\n",
    "        print('*'*79)\n",
    "        print(f\"base = {sd_dict['baseDefinition']} type = {sd_dict['type']}\")\n",
    "        #get base SD\n",
    "        if sd_dict['baseDefinition'] == 'http://hl7.org/fhir/us/core/StructureDefinition/us-core-vital-signs':\n",
    "            base_dict = open_file(us_core,'StructureDefinition-us-core-vital-signs.json')\n",
    "            element_backbone = \"differential\"\n",
    "        elif sd_dict['baseDefinition'] == 'http://hl7.org/fhir/StructureDefinition/vitalsigns':\n",
    "            base_dict = open_file(fhir_r4,'StructureDefinition-vitalsigns.json')\n",
    "            element_backbone = \"snapshot\"\n",
    "            break\n",
    "        else:\n",
    "            base_dict = open_file(fhir_r4,f'StructureDefinition-{sd_dict[\"type\"]}.json')\n",
    "            element_backbone = \"snapshot\"\n",
    "        assert base_dict['url'] == sd_dict['baseDefinition']\n",
    "\n",
    "        #print(fhir_r4_sd.name,fhir_r4_sd.url) \n",
    "#         print(sd_dict['differential'].as_json())\n",
    "        diff_copy = copy.deepcopy(sd_dict['differential']['element'])\n",
    "        for el_index,e in enumerate(diff_copy):  #loop through all element properties in  and delete items from original\n",
    "            print(f'******** Element = {e[\"path\"]} ************')\n",
    "#             print(\"Before:\", json.dumps(e, indent=2))\n",
    "            for j in base_dict[element_backbone]['element']:  # loop through the base to find matching element\n",
    "                    if e['id'] == j['id']:\n",
    "                        base_e = j\n",
    "                        \n",
    "    \n",
    "            \n",
    "                        break     \n",
    "            if e['id'] != base_e[\"id\"]:\n",
    "                try:\n",
    "                    print(f\"e['id']={e['id']}, base_e['id']={base_e['id']}, base_e['type']={base_e['type']}\")\n",
    "                    #get base datatype\n",
    "                    for i in base_e[\"type\"]:\n",
    "                        datatype = i['code']\n",
    "                        print(datatype)\n",
    "                        datatype_sd = open_file(fhir_r4,f'StructureDefinition-{datatype}.json')\n",
    "                        print(f\"datatype_sd['id'] = {datatype_sd['id']}\")\n",
    "                        #loop though elements in datatype\n",
    "                        \n",
    "                except KeyError as r: # looking for datatype for polymorphs\n",
    "                      # assume valueX\n",
    "                      datatype =  e['id'].split('.')[-1].lstrip('value')\n",
    "                      print(f\"datatype for {e['id']} = {datatype}\")\n",
    "                        \n",
    "                      datatype_sd = open_file(fhir_r4,f'StructureDefinition-{datatype}.json')\n",
    "                      #loop though elements in datatype\n",
    "                            \n",
    "                      #print(f\"for {e['id']},  {base_e['id']}: no key base_e[{r}]\")\n",
    "                      #print(\"{e['id'].}\")\n",
    "            for k,v in e.items():\n",
    "     \n",
    "                #print(f'k={k}, base_e[k]= {base_e[k]}')\n",
    "                try:\n",
    "                    assert k not in ['id','path']\n",
    "                    assert k in remove_list\n",
    "                    assert v==base_e[k]\n",
    "                    print(f'{k} = {v} IS THE SAME AS BASE = {base_e[k]}')\n",
    "                    sd_dict['differential']['element'][el_index].pop(k)\n",
    "\n",
    "                except KeyError as r:\n",
    "                    pass\n",
    "#                     print(f'k={k} NOT THE SAME')\n",
    "#                     print(r)\n",
    "                except AssertionError as r:\n",
    "                    pass\n",
    "#                     print(f'k={k} NOT THE SAME')\n",
    "#                     print(r)\n",
    "                # loop through the base to see if different\n",
    "#             print(\"After\", json.dumps( sd_dict['differential']['element'][el_index], indent=2))\n",
    "#         save_to_file(sd_dict,i)\n",
    "\n"
   ]
  },
  {
   "cell_type": "code",
   "execution_count": null,
   "metadata": {},
   "outputs": [],
   "source": []
  }
 ],
 "metadata": {
  "kernelspec": {
   "display_name": "Python 3",
   "language": "python",
   "name": "python3"
  },
  "language_info": {
   "codemirror_mode": {
    "name": "ipython",
    "version": 3
   },
   "file_extension": ".py",
   "mimetype": "text/x-python",
   "name": "python",
   "nbconvert_exporter": "python",
   "pygments_lexer": "ipython3",
   "version": "3.7.3"
  }
 },
 "nbformat": 4,
 "nbformat_minor": 4
}
