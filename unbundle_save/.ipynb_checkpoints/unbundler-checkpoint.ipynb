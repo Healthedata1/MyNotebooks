{
 "cells": [
  {
   "cell_type": "markdown",
   "metadata": {},
   "source": [
    "## Script to load bundle and unbundle using dict\n",
    "\n",
    "for some reason the pyFHIRR4 models not working :-(\n",
    "\n",
    "- python version 3.6+\n",
    "- get data from folder\n",
    "- unbundle\n",
    "- display\n"
   ]
  },
  {
   "cell_type": "code",
   "execution_count": null,
   "metadata": {},
   "outputs": [],
   "source": [
    "from os import listdir\n",
    "from json import load, dumps, loads\n",
    "from IPython import display as D\n",
    "from requests import get, post, put\n",
    "from IPython.display import display, Markdown, HTML\n",
    "from fhirclient.r4models import bundle as B\n",
    "from fhirclient.r4models.fhirabstractbase import FHIRValidationError "
   ]
  },
  {
   "cell_type": "markdown",
   "metadata": {},
   "source": [
    "### globals"
   ]
  },
  {
   "cell_type": "code",
   "execution_count": null,
   "metadata": {},
   "outputs": [],
   "source": [
    " \n",
    "\n",
    "types =['Patient',\n",
    "'AllergyIntolerance',\n",
    "'CarePlan',\n",
    "'CareTeam',\n",
    "'Condition',\n",
    "'Device',\n",
    "'DiagnosticReport',\n",
    "'DocumentReference',\n",
    "'Encounter',\n",
    "'Goal',\n",
    "'Immunization',\n",
    "'Location',\n",
    "'Medication',\n",
    "'MedicationStatement',\n",
    "'MedicationRequest',\n",
    "'Observation',\n",
    "'Organization',\n",
    "'Practitioner',\n",
    "'PractitionerRole',\n",
    "'Procedure',]\n",
    "\n",
    "r_list =[]\n",
    "\n",
    "in_path = '/Users/ehaas/Documents/FHIR/synthea/output/fhir/'\n",
    "#in_path=''\n",
    "#f_name = 'Denisse335_Stracke611_e760e08d-a0ff-4cd7-83c0-36b27dae6ec3'\n",
    "#f_name='Alaina222_Gleichner915_0e83bdc3-52c5-4e7e-ba92-174e711ba95c'"
   ]
  },
  {
   "cell_type": "markdown",
   "metadata": {},
   "source": [
    "### Get files"
   ]
  },
  {
   "cell_type": "code",
   "execution_count": null,
   "metadata": {},
   "outputs": [],
   "source": [
    "def open_file(in_path,f_name): # get files\n",
    "    with open(f'{in_path}{f_name}',encoding='utf-8', errors='ignore') as f:\n",
    "        r = f.read()\n",
    "       \n",
    "        return(loads(r))"
   ]
  },
  {
   "cell_type": "markdown",
   "metadata": {},
   "source": [
    "### Write file to examples dir in IG"
   ]
  },
  {
   "cell_type": "code",
   "execution_count": null,
   "metadata": {},
   "outputs": [],
   "source": [
    "def write_file(r_json,type,id): # write file\n",
    "    out_path = '/Users/ehaas/Documents/FHIR/USCoreR4Validator/source/examples/'  # append forward slash\n",
    "    #out_path=''\n",
    "    with open(f'{out_path}{type}-{id}.json', 'w') as f:\n",
    "        f.write(r_json)"
   ]
  },
  {
   "cell_type": "markdown",
   "metadata": {},
   "source": [
    "### Loop through all entries and if US Core type change logical to literal reference and save\n",
    "\n",
    "#### Loop through entries and create literal to logical reference map"
   ]
  },
  {
   "cell_type": "code",
   "execution_count": null,
   "metadata": {},
   "outputs": [],
   "source": [
    "def select_entries(b):\n",
    "    log2lit = {e['fullUrl']:f'{e[\"resource\"][\"resourceType\"]}/{e[\"resource\"][\"id\"]}' for e in b[\"entry\"]} \n",
    "    for e in b[\"entry\"]:\n",
    "        r = e[\"resource\"]\n",
    "        t = r[\"resourceType\"]\n",
    "        i = r[\"id\"]\n",
    "        if t in types: #  change logical references to literal references and write to examples files for processing.\n",
    "           print(f' writing resource {t}-{i} to examples folder' )\n",
    "           r_list.append(t)\n",
    "           r_json = dumps(r, indent=4)\n",
    "           for k,v in log2lit.items():\n",
    "                 r_json = r_json.replace(k,v)                       \n",
    "           write_file(r_json,t,i)"
   ]
  },
  {
   "cell_type": "code",
   "execution_count": null,
   "metadata": {},
   "outputs": [],
   "source": [
    "'''for e in b[\"entry\"]:\n",
    "    r = e[\"resource\"]\n",
    "    t = r[\"resourceType\"]\n",
    "    if t == \"Procedure\" and 'implant' in r['code']['text']:\n",
    "        print(f'resource  = {t}-{i}')\n",
    "        print(dumps(r, indent=4))\n",
    "    elif t == \"Goal\":\n",
    "        print(f'resource  = {t}-{i}')\n",
    "        print(dumps(r, indent=4))'''"
   ]
  },
  {
   "cell_type": "markdown",
   "metadata": {},
   "source": [
    "## Main File call all the functions above"
   ]
  },
  {
   "cell_type": "code",
   "execution_count": null,
   "metadata": {},
   "outputs": [],
   "source": [
    "for file in listdir(in_path):\n",
    "    if file.endswith(\".json\"):\n",
    "        print(\"json file found:\\t\", file)\n",
    "        b = open_file(in_path,file)\n",
    "        select_entries(b)\n",
    "        \n",
    "print(f'US Core types = {types}')\n",
    "print(f'Synthea types {set(r_list)}')            \n",
    "print(f'What is missing {set(types)-set(r_list)}')\n",
    "\n",
    "print('======Fin======')"
   ]
  },
  {
   "cell_type": "code",
   "execution_count": null,
   "metadata": {},
   "outputs": [],
   "source": []
  }
 ],
 "metadata": {
  "kernelspec": {
   "display_name": "Python 3",
   "language": "python",
   "name": "python3"
  },
  "language_info": {
   "codemirror_mode": {
    "name": "ipython",
    "version": 3
   },
   "file_extension": ".py",
   "mimetype": "text/x-python",
   "name": "python",
   "nbconvert_exporter": "python",
   "pygments_lexer": "ipython3",
   "version": "3.6.2"
  }
 },
 "nbformat": 4,
 "nbformat_minor": 2
}
