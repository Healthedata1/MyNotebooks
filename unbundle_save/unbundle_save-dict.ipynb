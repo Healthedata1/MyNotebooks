{
 "cells": [
  {
   "cell_type": "markdown",
   "metadata": {},
   "source": [
    "## Script to fetch bundle from server unbundle and save as python dict\n",
    "\n",
    "- python version 3.6+\n",
    "- get data from from Server\n",
    "- unbundle\n",
    "- save each resource to file\n"
   ]
  },
  {
   "cell_type": "code",
   "execution_count": 73,
   "metadata": {},
   "outputs": [],
   "source": [
    "from json import load, dumps, loads\n",
    "from IPython import display as D\n",
    "from requests import get, post, put\n",
    "from IPython.display import display, Markdown, HTML\n",
    "from fhirclient.models import measurereport as MR\n"
   ]
  },
  {
   "cell_type": "code",
   "execution_count": null,
   "metadata": {},
   "outputs": [],
   "source": [
    "#type = ['Coverage','Library','Measure','MeasureReport','Organization','Practitioner','Subscription']\n",
    "\n",
    "type = ['Patient']\n",
    "\n",
    "def write_file(r): # write file\n",
    "    #out_path = '/Users/ehaas/Documents/FHIR/Davinci-DEQM/source/examples/' # append forward slash\n",
    "    out_path =''\n",
    "    with open(f'{out_path}{r[\"resourceType\"]}-{r[\"id\"]}.json', 'w') as f:\n",
    "        f.write(dumps(r,indent=3))\n",
    "\n",
    "def fetch(type):\n",
    "    # fhir_test_server = 'http://fhirtest.uhn.ca/baseDstu3'\n",
    "    fhir_test_server = 'https://api-v5-stu3.hspconsortium.org/DaVinciEHRDemo2/open/'  #EHR\n",
    "    # fhir_test_server = 'https://api-v5-stu3.hspconsortium.org/DaVinciDemoPayer/open'   #Payer\n",
    "\n",
    "    headers = {\n",
    "    'Accept':'application/fhir+json',\n",
    "    'Content-Type':'application/fhir+json'\n",
    "    }\n",
    "\n",
    "\n",
    "    params = dict(\n",
    "        _count = 75\n",
    "      # profile = 'http://hl7.org/fhir/us/core/StructureDefinition/us-core-patient' # The official URL for this profile is: http://hl7.org/fhir/us/core/StructureDefinition/us-core-patient\n",
    "        )\n",
    "    \n",
    "     r = post(f'{fhir_test_server}/{type}', params = params, headers = headers )\n",
    "    #r = get(f'{fhir_test_server}/{type}', params = params, headers = headers )\n",
    "    # view  output\n",
    "    # return (r.json()[\"text\"][\"div\"])\n",
    "    return r\n",
    "\n"
   ]
  },
  {
   "cell_type": "code",
   "execution_count": null,
   "metadata": {},
   "outputs": [],
   "source": [
    "for t in type:\n",
    "    print(f'...getting bundle for {t} resources')\n",
    "    r = fetch(t)\n",
    "    display(HTML(f'<h1>GET output</h1><h3>Status Code = {r.status_code}</h3>'))\n",
    "    b = r.json()\n",
    "    "
   ]
  },
  {
   "cell_type": "code",
   "execution_count": null,
   "metadata": {},
   "outputs": [],
   "source": [
    "    try:\n",
    "        for i,e in enumerate(b['entry']):\n",
    "            r = e['resource']\n",
    "            #x = r['evaluatedResources']['extension'][0]['valueReference']['reference']\n",
    "            print(f'''entry item = {i}\n",
    "                    r.resource_type={r[\"resourceType\"]}\n",
    "                    r.id={r[\"id\"]}\n",
    "                    \n",
    "                  ''')\n",
    "            if r[\"id\"].startswith('patient0'):\n",
    "                write_file(r)\n",
    "    except KeyError:\n",
    "        pass\n",
    "'''"
   ]
  },
  {
   "cell_type": "code",
   "execution_count": null,
   "metadata": {},
   "outputs": [],
   "source": []
  }
 ],
 "metadata": {
  "kernelspec": {
   "display_name": "Python 3",
   "language": "python",
   "name": "python3"
  },
  "language_info": {
   "codemirror_mode": {
    "name": "ipython",
    "version": 3
   },
   "file_extension": ".py",
   "mimetype": "text/x-python",
   "name": "python",
   "nbconvert_exporter": "python",
   "pygments_lexer": "ipython3",
   "version": "3.7.3"
  }
 },
 "nbformat": 4,
 "nbformat_minor": 4
}
