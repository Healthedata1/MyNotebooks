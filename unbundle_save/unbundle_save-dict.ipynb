{
 "cells": [
  {
   "cell_type": "markdown",
   "metadata": {},
   "source": [
    "## Script to fetch bundle from server unbundle and save as python dict\n",
    "\n",
    "- python version 3.6+\n",
    "- get data from from Server\n",
    "- unbundle\n",
    "- save each resource to file\n"
   ]
  },
  {
   "cell_type": "code",
   "execution_count": 11,
   "metadata": {},
   "outputs": [],
   "source": [
    "from json import load, dumps, loads\n",
    "from IPython import display as D\n",
    "from requests import get, post, put\n",
    "from IPython.display import display, Markdown, HTML\n"
   ]
  },
  {
   "cell_type": "code",
   "execution_count": 12,
   "metadata": {},
   "outputs": [
    {
     "name": "stdout",
     "output_type": "stream",
     "text": [
      "...getting bundle for Patient resources\n"
     ]
    },
    {
     "data": {
      "text/html": [
       "<h1>GET output</h1><h3>Status Code = 200</h3>"
      ],
      "text/plain": [
       "<IPython.core.display.HTML object>"
      ]
     },
     "metadata": {},
     "output_type": "display_data"
    },
    {
     "name": "stdout",
     "output_type": "stream",
     "text": [
      "entry item = 0\n",
      "                    r.resource_type=Patient\n",
      "                    r.id=patient01\n",
      "                  \n",
      "entry item = 1\n",
      "                    r.resource_type=Patient\n",
      "                    r.id=patient03\n",
      "                  \n",
      "entry item = 2\n",
      "                    r.resource_type=Patient\n",
      "                    r.id=patient02\n",
      "                  \n",
      "entry item = 3\n",
      "                    r.resource_type=Patient\n",
      "                    r.id=52\n",
      "                  \n",
      "entry item = 4\n",
      "                    r.resource_type=Patient\n",
      "                    r.id=53\n",
      "                  \n",
      "entry item = 5\n",
      "                    r.resource_type=Patient\n",
      "                    r.id=102\n",
      "                  \n",
      "entry item = 6\n",
      "                    r.resource_type=Patient\n",
      "                    r.id=cb8acdcc-3ded-4fa2-bd4d-31f1a25e0262\n",
      "                  \n",
      "entry item = 7\n",
      "                    r.resource_type=Patient\n",
      "                    r.id=Patient-2178\n",
      "                  \n",
      "entry item = 8\n",
      "                    r.resource_type=Patient\n",
      "                    r.id=Practitioner-2178\n",
      "                  \n",
      "entry item = 9\n",
      "                    r.resource_type=Patient\n",
      "                    r.id=OLqNdBzF-OLqNdBzF-8224\n",
      "                  \n",
      "entry item = 10\n",
      "                    r.resource_type=Patient\n",
      "                    r.id=Patient-21781\n",
      "                  \n",
      "entry item = 11\n",
      "                    r.resource_type=Patient\n",
      "                    r.id=Patient-1234\n",
      "                  \n",
      "entry item = 12\n",
      "                    r.resource_type=Patient\n",
      "                    r.id=Patient-4321\n",
      "                  \n",
      "entry item = 13\n",
      "                    r.resource_type=Patient\n",
      "                    r.id=Patient-9876\n",
      "                  \n",
      "entry item = 14\n",
      "                    r.resource_type=Patient\n",
      "                    r.id=cf-1548845717752\n",
      "                  \n"
     ]
    }
   ],
   "source": [
    "#type = ['Coverage','Library','Measure','MeasureReport','Organization','Practitioner','Subscription']\n",
    "\n",
    "type = ['Patient']\n",
    "\n",
    "def write_file(r): # write file\n",
    "    out_path = '/Users/ehaas/Documents/FHIR/Davinci-DEQM/source/examples/' # append forward slash\n",
    "    #out_path =''\n",
    "    with open(f'{out_path}{r[\"resourceType\"]}-{r[\"id\"]}.json', 'w') as f:\n",
    "        f.write(dumps(r,indent=3))\n",
    "\n",
    "def fetch(type):\n",
    "    # fhir_test_server = 'http://fhirtest.uhn.ca/baseDstu3'\n",
    "    # fhir_test_server = 'https://api-v5-stu3.hspconsortium.org/DaVinciEHRDemo2/open/'\n",
    "    fhir_test_server = 'https://api-v5-stu3.hspconsortium.org/DaVinciDemoPayer/open'\n",
    "\n",
    "    headers = {\n",
    "    'Accept':'application/fhir+json',\n",
    "    'Content-Type':'application/fhir+json'\n",
    "    }\n",
    "\n",
    "\n",
    "    params = dict(\n",
    "        _count = 75\n",
    "      # profile = 'http://hl7.org/fhir/us/core/StructureDefinition/us-core-patient' # The official URL for this profile is: http://hl7.org/fhir/us/core/StructureDefinition/us-core-patient\n",
    "        )\n",
    "    \n",
    "    #   r = requests.post('https://httpbin.org/post', data = {'key':'value'})\n",
    "    r = get(f'{fhir_test_server}/{type}', params = params, headers = headers )\n",
    "    # view  output\n",
    "    # return (r.json()[\"text\"][\"div\"])\n",
    "    return r\n",
    "\n",
    "for t in type:\n",
    "    print(f'...getting bundle for {t} resources')\n",
    "    r = fetch(t)\n",
    "    display(HTML(f'<h1>GET output</h1><h3>Status Code = {r.status_code}</h3>'))\n",
    "    b = r.json()\n",
    "    try:\n",
    "        for i,e in enumerate(b['entry']):\n",
    "            r = e['resource']\n",
    "            print(f'''entry item = {i}\n",
    "                    r.resource_type={r[\"resourceType\"]}\n",
    "                    r.id={r[\"id\"]}\n",
    "                  ''')\n",
    "            if r[\"id\"].startswith('patient0'):\n",
    "                write_file(r)\n",
    "    except KeyError:\n",
    "        pass"
   ]
  }
 ],
 "metadata": {
  "kernelspec": {
   "display_name": "Python 3",
   "language": "python",
   "name": "python3"
  },
  "language_info": {
   "codemirror_mode": {
    "name": "ipython",
    "version": 3
   },
   "file_extension": ".py",
   "mimetype": "text/x-python",
   "name": "python",
   "nbconvert_exporter": "python",
   "pygments_lexer": "ipython3",
   "version": "3.6.2"
  }
 },
 "nbformat": 4,
 "nbformat_minor": 2
}
