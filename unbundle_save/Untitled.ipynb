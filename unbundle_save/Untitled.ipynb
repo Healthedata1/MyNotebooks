{
 "cells": [
  {
   "cell_type": "markdown",
   "metadata": {},
   "source": [
    "### Test requests on FHIR Server"
   ]
  },
  {
   "cell_type": "code",
   "execution_count": 1,
   "metadata": {},
   "outputs": [],
   "source": [
    "from json import load, dumps, loads\n",
    "from IPython.display import display, Markdown, HTML\n",
    "from requests import get, post, put"
   ]
  },
  {
   "cell_type": "code",
   "execution_count": 3,
   "metadata": {},
   "outputs": [
    {
     "data": {
      "text/html": [
       "<h1>Server Repsonse</h1><h3>Status Code = 201</h3> {'resourceType': 'Provenance', 'id': '163687', 'meta': {'versionId': '1', 'lastUpdated': '2019-09-10T05:07:16.407+00:00', 'profile': ['http://hl7.org/fhir/us/core/StructureDefinition/us-core-provenance']}, 'target': [{'reference': 'Patient/8b42051b-e45b-4032-926a-747affe4e09d'}], 'recorded': '2019-09-10T04:20:43.342168Z', 'agent': [{'type': {'coding': [{'system': 'http://hl7.org/fhir/us/core/CodeSystem/us-core-provenance-participant-type', 'code': 'transmitter'}]}, 'who': {'reference': 'Organization/ccbd6376-81a6-35c8-93d1-d6d519e417d6'}}, {'type': {'coding': [{'system': 'http://terminology.hl7.org/CodeSystem/provenance-participant-type', 'code': 'author'}]}, 'who': {'reference': 'Organization/ccbd6376-81a6-35c8-93d1-d6d519e417d6'}}]}"
      ],
      "text/plain": [
       "<IPython.core.display.HTML object>"
      ]
     },
     "metadata": {},
     "output_type": "display_data"
    },
    {
     "data": {
      "text/html": [
       "<h1>Server Repsonse</h1><h3>Status Code = 201</h3> {'resourceType': 'Provenance', 'id': '163688', 'meta': {'versionId': '1', 'lastUpdated': '2019-09-10T05:07:16.679+00:00', 'profile': ['http://hl7.org/fhir/us/core/StructureDefinition/us-core-provenance']}, 'target': [{'reference': 'Patient/8b42051b-e45b-4032-926a-747affe4e09d'}], 'recorded': '2019-09-10T04:20:43.342168Z', 'agent': [{'type': {'coding': [{'system': 'http://hl7.org/fhir/us/core/CodeSystem/us-core-provenance-participant-type', 'code': 'transmitter'}]}, 'who': {'reference': 'Organization/ccbd6376-81a6-35c8-93d1-d6d519e417d6'}}, {'type': {'coding': [{'system': 'http://terminology.hl7.org/CodeSystem/provenance-participant-type', 'code': 'author'}]}, 'who': {'reference': 'Organization/ccbd6376-81a6-35c8-93d1-d6d519e417d6'}}]}"
      ],
      "text/plain": [
       "<IPython.core.display.HTML object>"
      ]
     },
     "metadata": {},
     "output_type": "display_data"
    },
    {
     "data": {
      "text/html": [
       "<h1>Server Repsonse</h1><h3>Status Code = 201</h3> {'resourceType': 'Provenance', 'id': '163689', 'meta': {'versionId': '1', 'lastUpdated': '2019-09-10T05:07:16.930+00:00', 'profile': ['http://hl7.org/fhir/us/core/StructureDefinition/us-core-provenance']}, 'target': [{'reference': 'Patient/8b42051b-e45b-4032-926a-747affe4e09d'}], 'recorded': '2019-09-10T04:20:43.342168Z', 'agent': [{'type': {'coding': [{'system': 'http://hl7.org/fhir/us/core/CodeSystem/us-core-provenance-participant-type', 'code': 'transmitter'}]}, 'who': {'reference': 'Organization/ccbd6376-81a6-35c8-93d1-d6d519e417d6'}}, {'type': {'coding': [{'system': 'http://terminology.hl7.org/CodeSystem/provenance-participant-type', 'code': 'author'}]}, 'who': {'reference': 'Organization/ccbd6376-81a6-35c8-93d1-d6d519e417d6'}}]}"
      ],
      "text/plain": [
       "<IPython.core.display.HTML object>"
      ]
     },
     "metadata": {},
     "output_type": "display_data"
    }
   ],
   "source": [
    "data = {\n",
    "  \"resourceType\": \"Provenance\",\n",
    "  \"meta\": {\n",
    "    \"profile\": [\n",
    "      \"http://hl7.org/fhir/us/core/StructureDefinition/us-core-provenance\"\n",
    "    ]\n",
    "  },\n",
    "  \"target\": [\n",
    "    {\n",
    "      \"reference\": \"Patient/8b42051b-e45b-4032-926a-747affe4e09d\"\n",
    "    }\n",
    "  ],\n",
    "  \"recorded\": \"2019-09-10T04:20:43.342168Z\",\n",
    "  \"agent\": [\n",
    "    {\n",
    "      \"type\": {\n",
    "        \"coding\": [\n",
    "          {\n",
    "            \"system\": \"http://hl7.org/fhir/us/core/CodeSystem/us-core-provenance-participant-type\",\n",
    "            \"code\": \"transmitter\"\n",
    "          }\n",
    "        ]\n",
    "      },\n",
    "      \"who\": {\n",
    "        \"reference\": \"Organization/ccbd6376-81a6-35c8-93d1-d6d519e417d6\"\n",
    "      }\n",
    "    },\n",
    "    {\n",
    "      \"type\": {\n",
    "        \"coding\": [\n",
    "          {\n",
    "            \"system\": \"http://terminology.hl7.org/CodeSystem/provenance-participant-type\",\n",
    "            \"code\": \"author\"\n",
    "          }\n",
    "        ]\n",
    "      },\n",
    "      \"who\": {\n",
    "        \"reference\": \"Organization/ccbd6376-81a6-35c8-93d1-d6d519e417d6\"\n",
    "      }\n",
    "    }\n",
    "  ]\n",
    "}\n",
    "\n",
    "#fhir_test_server = 'http://test.fhir.org/r4'\n",
    "fhir_test_server = 'http://hapi.fhir.org/baseR4'\n",
    "\n",
    "headers = {\n",
    "    'Accept':'application/fhir+json',\n",
    "    'Content-Type':'application/fhir+json',\n",
    "     'Connection':'close'\n",
    "    }\n",
    "\n",
    "# profile = 'http://hl7.org/fhir/us/core/StructureDefinition/us-core-patient' # The official URL for this profile is: http://hl7.org/fhir/us/core/StructureDefinition/us-core-patient\n",
    " \n",
    "params = dict(\n",
    "      # profile = 'http://hl7.org/fhir/us/core/StructureDefinition/us-core-patient' # The official URL for this profile is: http://hl7.org/fhir/us/core/StructureDefinition/us-core-patient\n",
    "        )\n",
    "for i in [1,2,3]:   \n",
    "    r = post(f'{fhir_test_server}/Provenance', params = params, headers = headers, data = dumps(data))\n",
    "\n",
    "    display(HTML(f'<h1>Server Repsonse</h1><h3>Status Code = {r.status_code}</h3> {r.json()}')) \n",
    "    \n"
   ]
  },
  {
   "cell_type": "code",
   "execution_count": null,
   "metadata": {},
   "outputs": [],
   "source": []
  }
 ],
 "metadata": {
  "kernelspec": {
   "display_name": "Python 3",
   "language": "python",
   "name": "python3"
  },
  "language_info": {
   "codemirror_mode": {
    "name": "ipython",
    "version": 3
   },
   "file_extension": ".py",
   "mimetype": "text/x-python",
   "name": "python",
   "nbconvert_exporter": "python",
   "pygments_lexer": "ipython3",
   "version": "3.7.3"
  }
 },
 "nbformat": 4,
 "nbformat_minor": 2
}
