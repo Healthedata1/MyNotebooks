{
 "cells": [
  {
   "cell_type": "code",
   "execution_count": 39,
   "metadata": {},
   "outputs": [
    {
     "data": {
      "text/plain": [
       "['5fe62cd5-bfcf-4d3b-a1e9-80d6f75d6f82/_history/54',\n",
       " '5fe62cd5-bfcf-4d3b-a1e9-80d6f75d6f82/_history/55',\n",
       " '5fe62cd5-bfcf-4d3b-a1e9-80d6f75d6f82/_history/56',\n",
       " '542f9e32-4309-4277-81ce-12419f0d1294/_history/54',\n",
       " '542f9e32-4309-4277-81ce-12419f0d1294/_history/55',\n",
       " '542f9e32-4309-4277-81ce-12419f0d1294/_history/56',\n",
       " '02ba9ec6-0712-4715-8ba4-5485fc571403/_history/54',\n",
       " '02ba9ec6-0712-4715-8ba4-5485fc571403/_history/55',\n",
       " '02ba9ec6-0712-4715-8ba4-5485fc571403/_history/56',\n",
       " 'foo/_history/54',\n",
       " 'foo/_history/55',\n",
       " 'foo/_history/56']"
      ]
     },
     "execution_count": 39,
     "metadata": {},
     "output_type": "execute_result"
    }
   ],
   "source": [
    "new_list = []\n",
    "enc_list = [  # id and version for admit, transfer, discharge\n",
    "            '5fe62cd5-bfcf-4d3b-a1e9-80d6f75d6f82',\n",
    "            '542f9e32-4309-4277-81ce-12419f0d1294',\n",
    "            '02ba9ec6-0712-4715-8ba4-5485fc571403',\n",
    "            'foo',\n",
    "            ]\n",
    "for j in enc_list:\n",
    "    for i in range(54,57):\n",
    "        new_list.append(f'{j}/_history/{i}')\n",
    "new_list"
   ]
  }
 ],
 "metadata": {
  "kernelspec": {
   "display_name": "Python 3",
   "language": "python",
   "name": "python3"
  },
  "language_info": {
   "codemirror_mode": {
    "name": "ipython",
    "version": 3
   },
   "file_extension": ".py",
   "mimetype": "text/x-python",
   "name": "python",
   "nbconvert_exporter": "python",
   "pygments_lexer": "ipython3",
   "version": "3.7.3"
  }
 },
 "nbformat": 4,
 "nbformat_minor": 4
}
