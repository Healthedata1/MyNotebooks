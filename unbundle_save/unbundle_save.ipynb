{
 "cells": [
  {
   "cell_type": "markdown",
   "metadata": {},
   "source": [
    "## Script to fetch bundle from server unbundle and save\n",
    "\n",
    "- python version 3.6+\n",
    "- get data from from Server\n",
    "- unbundle\n",
    "- save each resource to file\n"
   ]
  },
  {
   "cell_type": "code",
   "execution_count": 51,
   "metadata": {},
   "outputs": [],
   "source": [
    "from json import load, dumps, loads\n",
    "from IPython import display as D\n",
    "from requests import get, post, put\n",
    "from IPython.display import display, Markdown, HTML\n",
    "from fhir.resources.fhirtypesvalidators import ValidationError\n"
   ]
  },
  {
   "cell_type": "code",
   "execution_count": 52,
   "metadata": {},
   "outputs": [
    {
     "name": "stdout",
     "output_type": "stream",
     "text": [
      "...getting bundle for Observation resources and patient FHIR ID = 13db04df-0023-42dd-965c-a5c2b626b706\n",
      "https://api.logicahealth.org/DaVinciCDexPayer/open/Observation?patient=13db04df-0023-42dd-965c-a5c2b626b706\n"
     ]
    },
    {
     "data": {
      "text/html": [
       "<h1>GET output</h1><h3>Status Code = 200</h3>"
      ],
      "text/plain": [
       "<IPython.core.display.HTML object>"
      ]
     },
     "metadata": {},
     "output_type": "display_data"
    },
    {
     "name": "stdout",
     "output_type": "stream",
     "text": [
      "entry item = 0\n",
      "                    r.resource_type=Observation\n",
      "                    r.id=0000016f-64f5-9833-0000-0000000000c8\n",
      "                    r.subject=Patient/13db04df-0023-42dd-965c-a5c2b626b706\n",
      "                  \n",
      "writing Observation-0000016f-64f5-9833-0000-0000000000c8.json to /Users/ehaas/Documents/Python/Jupyter/MyNotebooks/unbundle_save/out\n",
      "entry item = 1\n",
      "                    r.resource_type=Observation\n",
      "                    r.id=13db04df-0023-42dd-965c-a5c2b626b706\n",
      "                    r.subject=Patient/13db04df-0023-42dd-965c-a5c2b626b706\n",
      "                  \n",
      "writing Observation-13db04df-0023-42dd-965c-a5c2b626b706.json to /Users/ehaas/Documents/Python/Jupyter/MyNotebooks/unbundle_save/out\n",
      "entry item = 2\n",
      "                    r.resource_type=Observation\n",
      "                    r.id=o2\n",
      "                    r.subject=Patient/13db04df-0023-42dd-965c-a5c2b626b706\n",
      "                  \n",
      "writing Observation-o2.json to /Users/ehaas/Documents/Python/Jupyter/MyNotebooks/unbundle_save/out\n",
      "entry item = 3\n",
      "                    r.resource_type=Observation\n",
      "                    r.id=observation-bloodpressure-2\n",
      "                    r.subject=Patient/13db04df-0023-42dd-965c-a5c2b626b706\n",
      "                  \n",
      "writing Observation-observation-bloodpressure-2.json to /Users/ehaas/Documents/Python/Jupyter/MyNotebooks/unbundle_save/out\n",
      "entry item = 4\n",
      "                    r.resource_type=Observation\n",
      "                    r.id=observation-glucose-2\n",
      "                    r.subject=Patient/13db04df-0023-42dd-965c-a5c2b626b706\n",
      "                  \n",
      "writing Observation-observation-glucose-2.json to /Users/ehaas/Documents/Python/Jupyter/MyNotebooks/unbundle_save/out\n",
      "entry item = 5\n",
      "                    r.resource_type=Observation\n",
      "                    r.id=observation-bmi-2\n",
      "                    r.subject=Patient/13db04df-0023-42dd-965c-a5c2b626b706\n",
      "                  \n",
      "writing Observation-observation-bmi-2.json to /Users/ehaas/Documents/Python/Jupyter/MyNotebooks/unbundle_save/out\n",
      "entry item = 6\n",
      "                    r.resource_type=Observation\n",
      "                    r.id=observation-weight-2\n",
      "                    r.subject=Patient/13db04df-0023-42dd-965c-a5c2b626b706\n",
      "                  \n",
      "writing Observation-observation-weight-2.json to /Users/ehaas/Documents/Python/Jupyter/MyNotebooks/unbundle_save/out\n",
      "...getting bundle for Condition resources and patient FHIR ID = 13db04df-0023-42dd-965c-a5c2b626b706\n",
      "https://api.logicahealth.org/DaVinciCDexPayer/open/Condition?patient=13db04df-0023-42dd-965c-a5c2b626b706\n"
     ]
    },
    {
     "data": {
      "text/html": [
       "<h1>GET output</h1><h3>Status Code = 200</h3>"
      ],
      "text/plain": [
       "<IPython.core.display.HTML object>"
      ]
     },
     "metadata": {},
     "output_type": "display_data"
    },
    {
     "name": "stdout",
     "output_type": "stream",
     "text": [
      "entry item = 0\n",
      "                    r.resource_type=Condition\n",
      "                    r.id=0000016f-64f5-9833-0000-0000000001ea\n",
      "                    r.subject=Patient/13db04df-0023-42dd-965c-a5c2b626b706\n",
      "                  \n",
      "writing Condition-0000016f-64f5-9833-0000-0000000001ea.json to /Users/ehaas/Documents/Python/Jupyter/MyNotebooks/unbundle_save/out\n",
      "entry item = 1\n",
      "                    r.resource_type=Condition\n",
      "                    r.id=c1\n",
      "                    r.subject=Patient/13db04df-0023-42dd-965c-a5c2b626b706\n",
      "                  \n",
      "writing Condition-c1.json to /Users/ehaas/Documents/Python/Jupyter/MyNotebooks/unbundle_save/out\n"
     ]
    }
   ],
   "source": [
    "type = ['Observation','Condition',] #['Coverage','Library','Measure','MeasureReport','Organization','Practitioner',\n",
    "#        'Subscription']\n",
    "\n",
    "# type = ['MeasureReport']\n",
    "patient = '13db04df-0023-42dd-965c-a5c2b626b706'\n",
    "\n",
    "def write_file(r): # write file\n",
    "    out_path = '/Users/ehaas/Documents/Python/Jupyter/MyNotebooks/unbundle_save/out'  # append forward slash\n",
    "    print(f'writing {r.resource_type}-{r.id}.json to {out_path}')\n",
    "    with open(f'{out_path}/{r.resource_type}-{r.id}.json', 'w') as f:\n",
    "        f.write(r.json(indent=2))\n",
    "\n",
    "def fetch(type):\n",
    "    # fhir_test_server = 'http://fhirtest.uhn.ca/baseDstu3'\n",
    "    # fhir_test_server = 'https://api-v5-stu3.hspconsortium.org/DaVinciEHRDemo2/open/'\n",
    "    # fhir_test_server = 'https://api-v5-stu3.hspconsortium.org/DaVinciDemoPayer/open'\n",
    "    fhir_test_server ='https://api.logicahealth.org/DaVinciCDexPayer/open'\n",
    "\n",
    "    headers = {\n",
    "    'Accept':'application/fhir+json',\n",
    "    'Content-Type':'application/fhir+json'\n",
    "    }\n",
    "\n",
    "\n",
    "    params = dict(\n",
    "      # profile = 'http://hl7.org/fhir/us/core/StructureDefinition/us-core-patient' # The official URL for this profile is: http://hl7.org/fhir/us/core/StructureDefinition/us-core-patient\n",
    "        )\n",
    "    \n",
    "    #   r = requests.post('https://httpbin.org/post', data = {'key':'value'})\n",
    "    print(f'{fhir_test_server}/{type}')\n",
    "    r = get(f'{fhir_test_server}/{type}', params = params, headers = headers )\n",
    "    # view  output\n",
    "    # return (r.json()[\"text\"][\"div\"])\n",
    "    return r\n",
    "\n",
    "for t in type:\n",
    "    print(f'...getting bundle for {t} resources and patient FHIR ID = {patient}')\n",
    "    r = fetch(f'{t}?patient={patient}')\n",
    "    display(HTML(f'<h1>GET output</h1><h3>Status Code = {r.status_code}</h3>'))\n",
    "    try:\n",
    "        b = B.parse_obj(r.json())\n",
    "    except ValidationError as e:\n",
    "        print(e)\n",
    "        print(r.json())\n",
    "        continue\n",
    "    b.resource_type\n",
    "    try:\n",
    "        for i,e in enumerate(b.entry):\n",
    "            r = e.resource\n",
    "            print(f'''entry item = {i}\n",
    "                    r.resource_type={r.resource_type}\n",
    "                    r.id={r.id}\n",
    "                    r.subject={r.subject.reference}\n",
    "                  ''')\n",
    "            write_file(r)\n",
    "    except TypeError:\n",
    "        pass\n",
    "    except ValidationError as e:\n",
    "        print(e)\n",
    "        print(r)\n",
    "\n"
   ]
  },
  {
   "cell_type": "markdown",
   "metadata": {},
   "source": [
    "https://api.logicahealth.org/DaVinciCDexPayer/open/Observation?patient=13db04df-0023-42dd-965c-a5c2b626b706\n",
    "https://api.logicahealth.org/DaVinciCDexPayer/open/Observation?patient=f079732b-460e-46bd-a20f-4987b6cbc202"
   ]
  }
 ],
 "metadata": {
  "kernelspec": {
   "display_name": "Python 3",
   "language": "python",
   "name": "python3"
  },
  "language_info": {
   "codemirror_mode": {
    "name": "ipython",
    "version": 3
   },
   "file_extension": ".py",
   "mimetype": "text/x-python",
   "name": "python",
   "nbconvert_exporter": "python",
   "pygments_lexer": "ipython3",
   "version": "3.10.2"
  }
 },
 "nbformat": 4,
 "nbformat_minor": 4
}
