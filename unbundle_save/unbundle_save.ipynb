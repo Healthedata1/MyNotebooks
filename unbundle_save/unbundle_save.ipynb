{
 "cells": [
  {
   "cell_type": "markdown",
   "metadata": {},
   "source": [
    "## Script to fetch bundle from server unbundle and save\n",
    "\n",
    "- python version 3.6+\n",
    "- get data from from Server\n",
    "- unbundle\n",
    "- save each resource to file\n"
   ]
  },
  {
   "cell_type": "code",
   "execution_count": 1,
   "metadata": {},
   "outputs": [],
   "source": [
    "from json import load, dumps, loads\n",
    "from IPython import display as D\n",
    "from requests import get, post, put\n",
    "from IPython.display import display, Markdown, HTML\n",
    "from fhirclient.models import bundle as B\n",
    "from fhirclient.models.fhirabstractbase import FHIRValidationError "
   ]
  },
  {
   "cell_type": "code",
   "execution_count": 2,
   "metadata": {},
   "outputs": [
    {
     "name": "stdout",
     "output_type": "stream",
     "text": [
      "...getting bundle for MeasureReport resources\n"
     ]
    },
    {
     "data": {
      "text/html": [
       "<h1>GET output</h1><h3>Status Code = 200</h3>"
      ],
      "text/plain": [
       "<IPython.core.display.HTML object>"
      ]
     },
     "metadata": {},
     "output_type": "display_data"
    },
    {
     "name": "stdout",
     "output_type": "stream",
     "text": [
      "{root}:\n",
      "  entry.0:\n",
      "    resource:\n",
      "      'Non-optional property \"period\" on <fhirclient.models.measurereport.MeasureReport object at 0x10ef5f9e8> is missing'\n",
      "{'resourceType': 'Bundle', 'id': '2d6b7124-d873-456c-9fb4-0a0a36862ea6', 'meta': {'lastUpdated': '2019-03-13T01:17:29.770+00:00'}, 'type': 'searchset', 'total': 95, 'link': [{'relation': 'self', 'url': 'https://api-v5-stu3.hspconsortium.org/DaVinciDemoPayer/open/MeasureReport'}, {'relation': 'next', 'url': 'https://api-v5-stu3.hspconsortium.org/DaVinciDemoPayer/open?_getpages=2d6b7124-d873-456c-9fb4-0a0a36862ea6&_getpagesoffset=10&_count=10&_pretty=true&_bundletype=searchset'}], 'entry': [{'fullUrl': 'https://api-v5-stu3.hspconsortium.org/DaVinciDemoPayer/open/MeasureReport/measure-mrp', 'resource': {'resourceType': 'MeasureReport', 'id': 'measure-mrp', 'meta': {'versionId': '1', 'lastUpdated': '2018-09-05T16:51:49.000+00:00'}, 'status': 'complete', 'type': 'individual', 'measure': {'reference': 'https://ncqa.org/fhir/ig/Measure/measure-mrp'}, 'date': '2018-07-15'}, 'search': {'mode': 'match'}}, {'fullUrl': 'https://api-v5-stu3.hspconsortium.org/DaVinciDemoPayer/open/MeasureReport/df855a58-dc65-289a-7446-f8c60174fa04', 'resource': {'resourceType': 'MeasureReport', 'id': 'df855a58-dc65-289a-7446-f8c60174fa04', 'meta': {'versionId': '1', 'lastUpdated': '2018-09-05T16:59:53.000+00:00', 'profile': ['http://hl7.org/fhir/ig/davinci/StructureDefinition/measurereport-mrp']}, 'status': 'complete', 'type': 'individual', 'measure': {'reference': 'https://ncqa.org/fhir/ig/Measure/measure-mrp'}, 'patient': {'reference': 'Patient/patient01'}, 'date': '2018-09-05T16:59:52.404Z', 'evaluatedResources': {'extension': [{'url': 'http://hl7.org/fhir/ig/davinci/StructureDefinition/extension-referenceAny', 'valueReference': {'reference': 'Task/bdf35f19-266b-02d5-ecde-32d5c4787046'}}]}}, 'search': {'mode': 'match'}}, {'fullUrl': 'https://api-v5-stu3.hspconsortium.org/DaVinciDemoPayer/open/MeasureReport/2c1ce2b9-1a9a-430b-98d9-58a5aa00d09c', 'resource': {'resourceType': 'MeasureReport', 'id': '2c1ce2b9-1a9a-430b-98d9-58a5aa00d09c', 'meta': {'versionId': '1', 'lastUpdated': '2018-09-05T18:00:04.000+00:00', 'profile': ['http://hl7.org/fhir/ig/davinci/StructureDefinition/measurereport-mrp']}, 'status': 'complete', 'type': 'individual', 'measure': {'reference': 'https://ncqa.org/fhir/ig/Measure/measure-mrp'}, 'patient': {'reference': 'Patient/patient03'}, 'date': '2018-09-05T18:00:03.018Z', 'evaluatedResources': {'extension': [{'url': 'http://hl7.org/fhir/ig/davinci/StructureDefinition/extension-referenceAny', 'valueReference': {'reference': 'Task/91474350-8b37-7553-d65b-479a0c39a8d1'}}]}}, 'search': {'mode': 'match'}}, {'fullUrl': 'https://api-v5-stu3.hspconsortium.org/DaVinciDemoPayer/open/MeasureReport/a8f6b30f-7909-f779-fa88-c988776d985c', 'resource': {'resourceType': 'MeasureReport', 'id': 'a8f6b30f-7909-f779-fa88-c988776d985c', 'meta': {'versionId': '1', 'lastUpdated': '2018-09-05T18:03:31.000+00:00', 'profile': ['http://hl7.org/fhir/ig/davinci/StructureDefinition/measurereport-mrp']}, 'status': 'complete', 'type': 'individual', 'measure': {'reference': 'https://ncqa.org/fhir/ig/Measure/measure-mrp'}, 'patient': {'reference': 'Patient/patient01'}, 'date': '2018-09-05T18:03:29.937Z', 'evaluatedResources': {'extension': [{'url': 'http://hl7.org/fhir/ig/davinci/StructureDefinition/extension-referenceAny', 'valueReference': {'reference': 'Task/06cd5916-c353-37bb-ed86-d6880bca4cc1'}}]}}, 'search': {'mode': 'match'}}, {'fullUrl': 'https://api-v5-stu3.hspconsortium.org/DaVinciDemoPayer/open/MeasureReport/a119c616-91f0-104e-43ef-7066d0b5156f', 'resource': {'resourceType': 'MeasureReport', 'id': 'a119c616-91f0-104e-43ef-7066d0b5156f', 'meta': {'versionId': '1', 'lastUpdated': '2018-09-05T18:15:53.000+00:00', 'profile': ['http://hl7.org/fhir/ig/davinci/StructureDefinition/measurereport-mrp']}, 'status': 'complete', 'type': 'individual', 'measure': {'reference': 'https://ncqa.org/fhir/ig/Measure/measure-mrp'}, 'patient': {'reference': 'Patient/patient02'}, 'date': '2018-09-05T18:15:51.915Z', 'evaluatedResources': {'extension': [{'url': 'http://hl7.org/fhir/ig/davinci/StructureDefinition/extension-referenceAny', 'valueReference': {'reference': 'Task/11f52061-607f-1887-88f7-ba10d628bf7a'}}]}}, 'search': {'mode': 'match'}}, {'fullUrl': 'https://api-v5-stu3.hspconsortium.org/DaVinciDemoPayer/open/MeasureReport/119d4bc0-b5e8-4dc3-9eff-dd68b822a0f3', 'resource': {'resourceType': 'MeasureReport', 'id': '119d4bc0-b5e8-4dc3-9eff-dd68b822a0f3', 'meta': {'versionId': '1', 'lastUpdated': '2018-11-13T17:00:47.000+00:00', 'profile': ['http://hl7.org/fhir/ig/davinci/StructureDefinition/measurereport-mrp']}, 'status': 'complete', 'type': 'individual', 'measure': {'reference': 'https://ncqa.org/fhir/ig/Measure/measure-mrp'}, 'patient': {'reference': 'Patient/cb8acdcc-3ded-4fa2-bd4d-31f1a25e0262'}, 'date': '2018-07-15', 'reportingOrganization': {'reference': 'Organization/b3cb2561-f4e8-4f66-bd5d-d02395aac9e6'}, 'evaluatedResources': {'extension': [{'url': 'http://hl7.org/fhir/ig/davinci/StructureDefinition/extension-referenceAny', 'valueReference': {'reference': 'Task/f317d807-4352-4005-9af5-532ddaff019a'}}]}}, 'search': {'mode': 'match'}}, {'fullUrl': 'https://api-v5-stu3.hspconsortium.org/DaVinciDemoPayer/open/MeasureReport/ace5605d-7abf-a83f-6c48-704c1ea9352f', 'resource': {'resourceType': 'MeasureReport', 'id': 'ace5605d-7abf-a83f-6c48-704c1ea9352f', 'meta': {'versionId': '1', 'lastUpdated': '2018-11-13T15:34:40.000+00:00', 'profile': ['http://hl7.org/fhir/us/davinci-deqm/STU3/StructureDefinition/measurereport-deqm']}, 'status': 'complete', 'type': 'individual', 'measure': {'reference': 'https://ncqa.org/fhir/ig/Measure/measure-mrp'}, 'patient': {'reference': 'Patient/patient01'}, 'date': '2018-11-13T15:34:18.234Z', 'period': {'start': '2018-11-13T15:34:18.234Z', 'end': '2018-11-13T15:34:18.234Z'}, 'evaluatedResources': {'extension': [{'url': 'http://hl7.org/fhir/ig/davinci/StructureDefinition/extension-referenceAny', 'valueReference': {'reference': 'Task/398c5447-55a3-c94f-ba13-c699f0fe5f11'}}]}}, 'search': {'mode': 'match'}}, {'fullUrl': 'https://api-v5-stu3.hspconsortium.org/DaVinciDemoPayer/open/MeasureReport/b142129d-9fa5-e9aa-e811-7598ab36c46c', 'resource': {'resourceType': 'MeasureReport', 'id': 'b142129d-9fa5-e9aa-e811-7598ab36c46c', 'meta': {'versionId': '1', 'lastUpdated': '2018-11-13T19:13:55.000+00:00', 'profile': ['http://hl7.org/fhir/us/davinci-deqm/STU3/StructureDefinition/measurereport-deqm']}, 'status': 'complete', 'type': 'individual', 'measure': {'reference': 'https://ncqa.org/fhir/ig/Measure/measure-mrp'}, 'patient': {'reference': 'Patient/patient01'}, 'date': '2018-11-13T19:11:47.160Z', 'period': {'start': '2018-11-13T19:11:47.160Z', 'end': '2018-11-13T19:11:47.160Z'}, 'evaluatedResources': {'extension': [{'url': 'http://hl7.org/fhir/ig/davinci/StructureDefinition/extension-referenceAny', 'valueReference': {'reference': 'Task/f7297bb9-2ade-43da-9212-3b8f54a34aeb'}}]}}, 'search': {'mode': 'match'}}, {'fullUrl': 'https://api-v5-stu3.hspconsortium.org/DaVinciDemoPayer/open/MeasureReport/041e3371-b4cd-a9e5-aa1d-ce8158ae116c', 'resource': {'resourceType': 'MeasureReport', 'id': '041e3371-b4cd-a9e5-aa1d-ce8158ae116c', 'meta': {'versionId': '1', 'lastUpdated': '2018-11-13T19:15:50.000+00:00', 'profile': ['http://hl7.org/fhir/us/davinci-deqm/STU3/StructureDefinition/measurereport-deqm']}, 'status': 'complete', 'type': 'individual', 'measure': {'reference': 'https://ncqa.org/fhir/ig/Measure/measure-mrp'}, 'patient': {'reference': 'Patient/patient01'}, 'date': '2018-11-13T19:15:42.989Z', 'period': {'start': '2018-11-13T19:15:42.989Z', 'end': '2018-11-13T19:15:42.989Z'}, 'evaluatedResources': {'extension': [{'url': 'http://hl7.org/fhir/ig/davinci/StructureDefinition/extension-referenceAny', 'valueReference': {'reference': 'Task/a5354bec-bd02-ef5e-e0c0-b689a694736e'}}]}}, 'search': {'mode': 'match'}}, {'fullUrl': 'https://api-v5-stu3.hspconsortium.org/DaVinciDemoPayer/open/MeasureReport/8f438599-4c43-b57c-72ab-b262c4283752', 'resource': {'resourceType': 'MeasureReport', 'id': '8f438599-4c43-b57c-72ab-b262c4283752', 'meta': {'versionId': '1', 'lastUpdated': '2018-11-13T19:17:55.000+00:00', 'profile': ['http://hl7.org/fhir/us/davinci-deqm/STU3/StructureDefinition/measurereport-deqm']}, 'status': 'complete', 'type': 'individual', 'measure': {'reference': 'https://ncqa.org/fhir/ig/Measure/measure-mrp'}, 'patient': {'reference': 'Patient/patient01'}, 'date': '2018-11-13T19:17:33.892Z', 'period': {'start': '2018-11-13T19:17:33.892Z', 'end': '2018-11-13T19:17:33.892Z'}, 'evaluatedResources': {'extension': [{'url': 'http://hl7.org/fhir/ig/davinci/StructureDefinition/extension-referenceAny', 'valueReference': {'reference': 'Task/96cf3cd4-2851-27c6-b670-109e8b40099f'}}]}}, 'search': {'mode': 'match'}}]}\n"
     ]
    }
   ],
   "source": [
    "type = ['Coverage','Library','Measure','MeasureReport','Organization','Practitioner',\n",
    "       'Subscription']\n",
    "\n",
    "type = ['MeasureReport']\n",
    "\n",
    "def write_file(r): # write file\n",
    "    out_path = '/Users/ehaas/Documents/FHIR/Davinci-DEQM/source/examples/'  # append forward slash\n",
    "    with open(f'{out_path}{r.resource_type}-{r.id}.json', 'w') as f:\n",
    "        f.write(dumps(r.as_json(), indent=3))\n",
    "\n",
    "def fetch(type):\n",
    "    # fhir_test_server = 'http://fhirtest.uhn.ca/baseDstu3'\n",
    "    # fhir_test_server = 'https://api-v5-stu3.hspconsortium.org/DaVinciEHRDemo2/open/'\n",
    "    fhir_test_server = 'https://api-v5-stu3.hspconsortium.org/DaVinciDemoPayer/open'\n",
    "\n",
    "    headers = {\n",
    "    'Accept':'application/fhir+json',\n",
    "    'Content-Type':'application/fhir+json'\n",
    "    }\n",
    "\n",
    "\n",
    "    params = dict(\n",
    "      # profile = 'http://hl7.org/fhir/us/core/StructureDefinition/us-core-patient' # The official URL for this profile is: http://hl7.org/fhir/us/core/StructureDefinition/us-core-patient\n",
    "        )\n",
    "    \n",
    "    #   r = requests.post('https://httpbin.org/post', data = {'key':'value'})\n",
    "    r = get(f'{fhir_test_server}/{type}', params = params, headers = headers )\n",
    "    # view  output\n",
    "    # return (r.json()[\"text\"][\"div\"])\n",
    "    return r\n",
    "\n",
    "for t in type:\n",
    "    print(f'...getting bundle for {t} resources')\n",
    "    r = fetch(t)\n",
    "    display(HTML(f'<h1>GET output</h1><h3>Status Code = {r.status_code}</h3>'))\n",
    "    try:\n",
    "        b = B.Bundle(r.json())\n",
    "    except FHIRValidationError as e:\n",
    "        print(e)\n",
    "        print(r.json())\n",
    "        continue\n",
    "    b.resource_type\n",
    "    try:\n",
    "        for i,e in enumerate(b.entry):\n",
    "            r = e.resource\n",
    "            print(f'''entry item = {i}\n",
    "                    r.resource_type={r.resource_type}\n",
    "                    r.id={r.id}\n",
    "                  ''')\n",
    "            write_file(r)\n",
    "    except TypeError:\n",
    "        pass\n",
    "    except FHIRValidationError as e:\n",
    "        print(e)\n",
    "        print(r)\n",
    "\n"
   ]
  }
 ],
 "metadata": {
  "kernelspec": {
   "display_name": "Python 3",
   "language": "python",
   "name": "python3"
  },
  "language_info": {
   "codemirror_mode": {
    "name": "ipython",
    "version": 3
   },
   "file_extension": ".py",
   "mimetype": "text/x-python",
   "name": "python",
   "nbconvert_exporter": "python",
   "pygments_lexer": "ipython3",
   "version": "3.7.3"
  }
 },
 "nbformat": 4,
 "nbformat_minor": 4
}
