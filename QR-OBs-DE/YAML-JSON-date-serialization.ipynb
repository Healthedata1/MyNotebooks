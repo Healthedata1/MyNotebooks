{
 "cells": [
  {
   "cell_type": "code",
   "execution_count": 19,
   "id": "f8eab8aa-9015-4cc4-ac77-dd8a105ebff2",
   "metadata": {},
   "outputs": [
    {
     "data": {
      "text/plain": [
       "Period(resource_type='Period', fhir_comments=None, extension=None, id=None, id__ext=None, end=datetime.date(2022, 4, 11), end__ext=None, start=datetime.datetime(2022, 4, 11, 1, 0, 10, 107139), start__ext=None)"
      ]
     },
     "execution_count": 19,
     "metadata": {},
     "output_type": "execute_result"
    }
   ],
   "source": [
    "from pathlib import Path\n",
    "from fhir.resources import construct_fhir_element\n",
    "from datetime import date, datetime, timedelta\n",
    "import yaml, json\n",
    "\n",
    "delta = timedelta(hours = 12)\n",
    "\n",
    "pd = construct_fhir_element('Period', {})\n",
    "\n",
    "\n",
    "pd.start = datetime.now() - delta\n",
    "pd.end = date.today()\n",
    "\n",
    "pd"
   ]
  },
  {
   "cell_type": "code",
   "execution_count": 20,
   "id": "d3f079fd-a787-43d0-b7ed-301d7d17f8f9",
   "metadata": {},
   "outputs": [
    {
     "data": {
      "text/plain": [
       "'{\"start\":\"2022-04-11T01:00:10.107139\",\"end\":\"2022-04-11\"}'"
      ]
     },
     "execution_count": 20,
     "metadata": {},
     "output_type": "execute_result"
    }
   ],
   "source": [
    "pd_json=pd.json()\n",
    "pd_json"
   ]
  },
  {
   "cell_type": "code",
   "execution_count": 21,
   "id": "a715ba4b-2ffa-425b-a639-ac9bfbc53389",
   "metadata": {},
   "outputs": [
    {
     "data": {
      "text/plain": [
       "\"end: '2022-04-11'\\nstart: '2022-04-11T01:00:10.107139'\\n\""
      ]
     },
     "execution_count": 21,
     "metadata": {},
     "output_type": "execute_result"
    }
   ],
   "source": [
    "pd_dict = json.loads(pd_json)\n",
    "yaml.dump(pd_dict)"
   ]
  },
  {
   "cell_type": "code",
   "execution_count": 22,
   "id": "28b604a7-3060-4654-8f24-46a1328af5e4",
   "metadata": {},
   "outputs": [
    {
     "data": {
      "text/plain": [
       "'start: 2022-04-11T01:00:10.107139\\nend: 2022-04-11\\n'"
      ]
     },
     "execution_count": 22,
     "metadata": {},
     "output_type": "execute_result"
    }
   ],
   "source": [
    "pd_yaml=pd.yaml()\n",
    "pd_yaml"
   ]
  },
  {
   "cell_type": "code",
   "execution_count": 30,
   "id": "65240a61-b737-4030-8ce4-a7c553264479",
   "metadata": {
    "tags": []
   },
   "outputs": [
    {
     "data": {
      "text/plain": [
       "'{\"start\": \"2022-04-11T01:00:10.107139\", \"end\": \"2022-04-11\"}'"
      ]
     },
     "execution_count": 30,
     "metadata": {},
     "output_type": "execute_result"
    }
   ],
   "source": [
    "pd_dict = yaml.safe_load(pd_yaml)\n",
    "\n",
    "\n",
    "#json.JSONEncoder.default = lambda self,obj: (obj.isoformat() if isinstance(obj, datetime.datetime) else None)\n",
    "json.dumps(pd_dict, default = lambda self: (self.isoformat() if isinstance(self, (datetime,date)) else f\"{self} not serializable\") )"
   ]
  },
  {
   "cell_type": "code",
   "execution_count": null,
   "id": "263cb28e-08e6-46ab-bfc7-84f4025dff12",
   "metadata": {},
   "outputs": [],
   "source": []
  }
 ],
 "metadata": {
  "kernelspec": {
   "display_name": "Python 3 (ipykernel)",
   "language": "python",
   "name": "python3"
  },
  "language_info": {
   "codemirror_mode": {
    "name": "ipython",
    "version": 3
   },
   "file_extension": ".py",
   "mimetype": "text/x-python",
   "name": "python",
   "nbconvert_exporter": "python",
   "pygments_lexer": "ipython3",
   "version": "3.10.2"
  }
 },
 "nbformat": 4,
 "nbformat_minor": 5
}
