{
 "cells": [
  {
   "cell_type": "code",
   "execution_count": 25,
   "id": "b17b5fda",
   "metadata": {},
   "outputs": [],
   "source": [
    "from json import dumps, loads\n",
    "import yaml\n",
    "from pathlib import Path\n",
    "from fhir.resources import construct_fhir_element\n",
    "from fhir.resources.observation import Observation as Obs\n",
    "from fhir.resources.questionnaireresponse import QuestionnaireResponse as QR\n",
    "from fhir.resources.codesystem import CodeSystem as CS\n",
    "from survey_obs import survey_obs"
   ]
  },
  {
   "cell_type": "code",
   "execution_count": 26,
   "id": "f6e6be58",
   "metadata": {},
   "outputs": [
    {
     "data": {
      "text/plain": [
       "'/Users/ehaas/Documents/FHIR/USCDI4-Sandbox/input/examples-yaml'"
      ]
     },
     "execution_count": 26,
     "metadata": {},
     "output_type": "execute_result"
    }
   ],
   "source": [
    "my_profile = \"http://hl7.org/fhir/us/core/StructureDefinition/us-core-observation-screening-assessment\"\n",
    "category = 'social-history' #'activity' #'disability-status'\n",
    "category_path = Path(f'/Users/ehaas/Documents/FHIR/US-Core/input/resources/CodeSystem-us-core-category.json')\n",
    "survey_name = 'TAPS' #'AUDIT-C' #'EVS' #'PHQ2' #'PHQ9' #'AHC-HRSN' #'PRAPARE' #'HVS' # \n",
    "survey_code = '96841-2' #72109-2' #'89574-8' #'55757-9' #'44249-1' #'96777-8' #'88121-9'  # don't need if already grouped like PRAPARE\n",
    "survey_code_name = 'Tobacco, Alcohol, Prescription medications, and other Substance use screen [TAPS]' #'Alcohol Use Disorder Identification Test - Consumption [AUDIT-C]' #'Exercise Vital Sign (EVS)' #'Patient Health Questionnaire 2 item (PHQ-2) [Reported]'  #'PHQ-2 quick depression assessment panel [Reported.PHQ]' #'Accountable health communities (AHC) health-related social needs screening (HRSN) tool' #Hunger Vital Sign [HVS]' # don't need if already grouped like PRAPARE\n",
    "create_survey_panel = True  #|False if already grouped in QR like PRAPARE\n",
    "# survey_path = r'/Users/ehaas/Documents/FHIR/SAIG/input/examples-yaml/Example1PHQ-2QuestionnaireResponse.yml'\n",
    "#survey_path = r'/Users/ehaas/Documents/FHIR/Healthedata1-Sandbox/input/examples-yaml/QuestionnaireResponse-5774968.yml'\n",
    "#survey_path = r'/Users/ehaas/Documents/FHIR/Healthedata1-Sandbox/input/examples-yaml/QuestionnaireResponse-AHC-HRSN-example.yml'\n",
    "#survey_path = r'/Users/ehaas/Documents/FHIR/Healthedata1-Sandbox/input/examples-yaml/QuestionnaireResponse-PRAPARE-example.yml'\n",
    "#survey_path = r'/Users/ehaas/Documents/FHIR/Healthedata1-Sandbox/input/examples-yaml/QuestionnaireResponse-hunger-vital-sign-example.yml'\n",
    "# survey_path = r'/Users/ehaas/Documents/FHIR/USCDI4-Sandbox/input/examples-yaml/QuestionnaireResponse-exercise-vital-sign.yml'\n",
    "# survey_path = r'/Users/ehaas/Documents/FHIR/USCDI4-Sandbox/input/examples-yaml/QuestionnaireResponse-AUDIT-C.yml'\n",
    "survey_path = r'/Users/ehaas/Documents/FHIR/USCDI4-Sandbox/input/examples-yaml/QuestionnaireResponse-TAPS.yml'\n",
    "# q_path = Path(r'/Users/ehaas/Documents/FHIR/USCDI4-Sandbox/input/examples-yaml/Questionnaire-AUDIT-C.yml')\n",
    "q_path = Path(r'/Users/ehaas/Documents/FHIR/USCDI4-Sandbox/input/examples-yaml/Questionnaire-TAPS.yml')\n",
    "#out_dir = Path.cwd() / 'output'\n",
    "# out_dir = r'/Users/ehaas/Documents/FHIR/Healthedata1-Sandbox/input/examples-yaml/'\n",
    "out_dir = r'/Users/ehaas/Documents/FHIR/SAIG/input/examples-yaml'\n",
    "out_dir = r'/Users/ehaas/Documents/FHIR/USCDI4-Sandbox/input/examples-yaml'\n",
    "qr_path = Path(survey_path)\n",
    "\n",
    "out_dir"
   ]
  },
  {
   "cell_type": "markdown",
   "id": "7feeef29",
   "metadata": {},
   "source": [
    "### Fetch Category and add to category"
   ]
  },
  {
   "cell_type": "code",
   "execution_count": 27,
   "id": "3b70906a",
   "metadata": {},
   "outputs": [
    {
     "data": {
      "text/plain": [
       "{'coding': [{'system': 'http://hl7.org/fhir/us/core/CodeSystem/us-core-category',\n",
       "   'code': 'sdoh',\n",
       "   'display': 'SDOH'}]}"
      ]
     },
     "execution_count": 27,
     "metadata": {},
     "output_type": "execute_result"
    }
   ],
   "source": [
    "def get_category(category):\n",
    "    cs_obj = CS.parse_file(category_path)\n",
    "    for cat in cs_obj.concept:\n",
    "        if cat.code == category:\n",
    "            return {'coding': [{'system': cs_obj.url, 'code': cat.code, 'display': cat.display}]}\n",
    "\n",
    "get_category('sdoh')   "
   ]
  },
  {
   "cell_type": "markdown",
   "id": "be89c3ed-3b49-44fb-a86a-f4f9c6fa56f1",
   "metadata": {},
   "source": [
    "### Fetch Panels Observations and add hasMembers"
   ]
  },
  {
   "cell_type": "code",
   "execution_count": 28,
   "id": "fcb82282-b7af-457d-85ac-5e1694f8f6ec",
   "metadata": {},
   "outputs": [],
   "source": [
    "def update_members(parent, members=[]):\n",
    "    try:\n",
    "        parent = parent.replace(\"/\", \"\")\n",
    "    except AttributeError:\n",
    "        pass\n",
    "    in_path = Path(out_dir) / f'Observation-{survey_name}-panel-example-{parent}.yml' #Path().cwd() / 'output' / f'Observation-{survey_name}-panel-example-{parent}.yml'\n",
    "    my_obj = Obs.parse_file(in_path)\n",
    "    # print(my_obj.yaml(indent=True))\n",
    "    my_obj.hasMember = []\n",
    "    for m in members:\n",
    "        new_member = dict(reference = f'Observation/{m}')\n",
    "        my_obj.hasMember.append(new_member)\n",
    "    # print('='*80)\n",
    "    # print(my_obj.yaml(indent=True))\n",
    "    # print('='*80)\n",
    "    write_out(my_obj)"
   ]
  },
  {
   "cell_type": "markdown",
   "id": "9e4a0723-ad08-428a-9947-1da64d80d18e",
   "metadata": {},
   "source": [
    "### Write Observations to file"
   ]
  },
  {
   "cell_type": "code",
   "execution_count": 29,
   "id": "04f78261-90f1-41cb-9279-35af4c1d749c",
   "metadata": {},
   "outputs": [],
   "source": [
    "def write_out(fhir_obj):\n",
    "    out_path = Path(out_dir) / f'Observation-{fhir_obj.id}.yml'\n",
    "    # note need to the date time format is not json serializabel out of the box see QR-OBs-DE/YAML-JSON-date-serialization.ipynb\n",
    "    out_path.write_text(fhir_obj.yaml())"
   ]
  },
  {
   "cell_type": "markdown",
   "id": "e2f81f83-664c-4026-b287-7ff479137fb3",
   "metadata": {},
   "source": [
    "### Fetch QuestionnaireResponse Instance from file"
   ]
  },
  {
   "cell_type": "code",
   "execution_count": 30,
   "id": "20e34e86-0e70-4c9f-b5e2-1acf77347d8f",
   "metadata": {},
   "outputs": [
    {
     "data": {
      "text/plain": [
       "('TAPS',\n",
       " 'Tobacco, Alcohol, Prescription medications, and other Substance use screen [TAPS]')"
      ]
     },
     "execution_count": 30,
     "metadata": {},
     "output_type": "execute_result"
    }
   ],
   "source": [
    "from fhir.resources.questionnaireresponse import QuestionnaireResponse as QR\n",
    "qr_obj = QR.parse_file(qr_path)\n",
    "from fhir.resources.questionnaire import Questionnaire as Q\n",
    "q_obj = Q.parse_file(q_path)\n",
    "qr_obj.id, q_obj.title"
   ]
  },
  {
   "cell_type": "markdown",
   "id": "77012360-c88c-46cf-91e9-9e8519879808",
   "metadata": {},
   "source": [
    "### Create Observation Instance with the metadata"
   ]
  },
  {
   "cell_type": "code",
   "execution_count": 31,
   "id": "c7ed49e0-8ffc-4eb9-b762-c1942daebae6",
   "metadata": {},
   "outputs": [],
   "source": [
    "def get_coding(my_code):\n",
    "    coding_obj = construct_fhir_element('Coding',my_code.valueCoding)\n",
    "    return coding_obj\n",
    "\n",
    "def get_ccode(my_coding):\n",
    "    ccode_obj = construct_fhir_element('CodeableConcept',{})\n",
    "    \n",
    "    ccode_obj.coding = [my_coding]\n",
    "    ccode_obj.text = my_coding.display\n",
    "\n",
    "    return(ccode_obj)\n",
    "\n",
    "\n",
    "def get_quantity(my_value, my_units): \n",
    "    quantity_obj = construct_fhir_element('Quantity',{})\n",
    "    quantity_obj.value = my_value\n",
    "    quantity_obj.system = 'http://unitsofmeasure.org'\n",
    "    quantity_obj.code = my_units\n",
    "    quantity_obj.unit = my_units.replace('{','').replace('}','').replace('/a',' per year')\n",
    "    return(quantity_obj)\n",
    "\n",
    "def get_units(my_link_id):\n",
    "    my_link_id = f'/{my_link_id}'\n",
    "    for item in q_obj.item:\n",
    "      if item.linkId == my_link_id:\n",
    "        my_units = item.extension[0].valueCoding.code\n",
    "        break\n",
    "    return(my_units)\n",
    "\n",
    "def get_text(my_link_id):\n",
    "    my_link_id = f'/{my_link_id}'\n",
    "    print(my_link_id)\n",
    "    for item in q_obj.item:\n",
    "      if item.linkId == my_link_id:\n",
    "        print(item.item[0].text)\n",
    "        my_text = [display.text for display in item.item if display.type == 'display'][0]\n",
    "        break\n",
    "    return(my_text)\n",
    "\n",
    "\n",
    "\n",
    "def get_answers(obs_obj, answer):\n",
    "    if answer.valueCoding:\n",
    "      # print(answer.valueCoding)  \n",
    "      obs_obj.valueCodeableConcept = get_ccode(answer.valueCoding)\n",
    "    elif answer.valueString:\n",
    "      obs_obj.valueString = answer.valueString \n",
    "    elif answer.valueDecimal or answer.valueDecimal == 0:\n",
    "      my_units = get_units(obs_obj.code.coding[0].code) # assumes units UCUM  use try /except when no extension an use default\n",
    "      obs_obj.valueQuantity  = get_quantity(answer.valueDecimal, my_units)\n",
    "    #print(obs_obj.json(indent=True))\n",
    "    return (obs_obj)\n",
    "\n",
    "\n",
    "def create_obs (obs_id, text, obs_type='item', answers = None):\n",
    "    obs_obj = Obs.parse_file(\"survey_obs.yml\")\n",
    "    print(f'{survey_name}-{obs_type}-example-{obs_id}')\n",
    "    obs_obj.id = f'{survey_name}-{obs_type}-example-{obs_id}'\n",
    "    obs_obj.meta.extension[0].valueString = f'{survey_name} {obs_type} Example {obs_id}'.title()\n",
    "    obs_obj.meta.extension[1].valueMarkdown = f'This is a {obs_obj.meta.extension[0].valueString} ({text}) \\\n",
    "for the *US Core Observation Screening Assessment Profile*'\n",
    "    obs_obj.meta.profile = [my_profile]\n",
    "    cat2 = get_category(category)\n",
    "    if cat2:\n",
    "      obs_obj.category.append(cat2)\n",
    "    # obs_obj.code.coding[0].system = 'http://loinc.org'\n",
    "    obs_obj.code.coding[0].code = obs_id\n",
    "    obs_obj.code.coding[0].display = text\n",
    "    obs_obj.code.text = text\n",
    "    if answers:\n",
    "        get_answers(obs_obj, answers)\n",
    "        obs_obj.hasMember = None\n",
    "    obs_obj.effectiveDateTime = qr_obj.authored.isoformat()\n",
    "    obs_obj.subject.reference = qr_obj.subject.reference\n",
    "    try:\n",
    "      obs_obj.performer[0].reference = qr_obj.author.reference\n",
    "    except AttributeError:\n",
    "       pass\n",
    "    obs_obj.derivedFrom[0].reference = f'QuestionnaireResponse/{qr_obj.id}'\n",
    "    try:\n",
    "      obs_obj.derivedFrom[0].display = qr_obj.meta.extension[0].valueString\n",
    "    except TypeError:\n",
    "      obs_obj.derivedFrom[0].display = None\n",
    "    try:\n",
    "      display_text = get_text(obs_obj.code.coding[0].code)\n",
    "    except Exception as e:\n",
    "       print(f'No display text: {e}')  # e.g., help text\n",
    "    else:\n",
    "      my_note = construct_fhir_element('Annotation',{'text': display_text})\n",
    "      obs_obj.note = []\n",
    "      obs_obj.note.append(my_note)\n",
    "       \n",
    "    return(obs_obj)"
   ]
  },
  {
   "cell_type": "markdown",
   "id": "856fbe78-f8df-4c6d-ac87-84da503c80af",
   "metadata": {},
   "source": [
    "### Use recursion to parse out the nested responses\n",
    "\n",
    "\n",
    "- Create Observations only from those with values"
   ]
  },
  {
   "cell_type": "code",
   "execution_count": 32,
   "id": "ae1fd0e6-a871-440e-859e-0774b3c393b8",
   "metadata": {},
   "outputs": [
    {
     "name": "stdout",
     "output_type": "stream",
     "text": [
      "/96842-0\n",
      "How often have you used any tobacco product in past 12 months\n",
      "Answer  - item!\n",
      "\n",
      "\n",
      "TAPS-item-example-96842-0\n",
      "/96842-0\n",
      "No display text: 'NoneType' object is not subscriptable\n",
      "/88037-7\n",
      "How often have you had five or more drinks in one day during the past year [Reported]\n",
      "Answer  - item!\n",
      "\n",
      "\n",
      "TAPS-item-example-88037-7\n",
      "/88037-7\n",
      "Some measures (like electronic Clinical Quality Measure (eCQM) used by CMS) define \"risky drinker\" differently based on gender: 4 or more drinks per day for women and 5 or more drinks per day for men. The LOINC for 4 or more drinks per day is [LOINC: 75889-6].\n",
      "/75889-6\n",
      "How often have you had four or more drinks in one day during the past year [Reported]\n",
      "Answer  - item!\n",
      "\n",
      "\n",
      "TAPS-item-example-75889-6\n",
      "/75889-6\n",
      "A question asked to determine if the patient is considered a 'risky drinker'. This term was created for, but not limited in use to, an electronic Clinical Quality Measure (eCQM) to be used in the CMS EHR Incentive Program for Meaningful Use. The eCQM allows for multiple ways to screen for alcohol misuse, including AUDIT-C [LOINC: 75626-2] or one of two questions that assess whether the patient consumes alcohol [LOINC: 75855-7] and the frequency of heavy drinking days (this LOINC). The LOINC for five (5) or more drinks per day is [LOINC: 88037-7].\n",
      "/96843-8\n",
      "How often have you used illegal or recreational drugs in past 12 months\n",
      "Answer  - item!\n",
      "\n",
      "\n",
      "TAPS-item-example-96843-8\n",
      "/96843-8\n",
      "No display text: 'NoneType' object is not subscriptable\n",
      "/96844-6\n",
      "How often have you used any prescription medications just for the feeling, more than prescribed or that were not prescribed for you in past 12 months [TAPS]\n",
      "Answer  - item!\n",
      "\n",
      "\n",
      "TAPS-item-example-96844-6\n",
      "/96844-6\n",
      "No display text: 'NoneType' object is not subscriptable\n",
      "my_list for None = ['TAPS-item-example-96842-0', 'TAPS-item-example-88037-7', 'TAPS-item-example-75889-6', 'TAPS-item-example-96843-8', 'TAPS-item-example-96844-6']\n",
      "\n",
      "\n",
      "[Errno 2] No such file or directory: '/Users/ehaas/Documents/FHIR/USCDI4-Sandbox/input/examples-yaml/Observation-TAPS-panel-example-None.yml'\n",
      "TAPS-panel-example-96841-2\n",
      "/96841-2\n",
      "No display text: local variable 'my_text' referenced before assignment\n"
     ]
    }
   ],
   "source": [
    "def get_items(my_item, parent = None):\n",
    "\n",
    "    try:\n",
    "      assert my_item.item\n",
    "    except (AttributeError, AssertionError):\n",
    "        return  # item observations !!\n",
    "\n",
    "    else: # groups observations !!\n",
    "\n",
    "      my_list = []\n",
    "      for i in my_item.item:  # <<< create new Observation here\n",
    "        new_item = construct_fhir_element('QuestionnaireResponseItem', i)\n",
    "        print(new_item.linkId)\n",
    "        print(new_item.text)\n",
    "        # get_answers(new_item.answer)\n",
    "        try:\n",
    "          assert new_item.answer\n",
    "        except AssertionError:\n",
    "            print ('NO Answer?  - group?\\n\\n')\n",
    "            survey_obs_type = \"panel\"\n",
    "            new_code = new_item.linkId.split(\"/\")[-1]\n",
    "            my_panel_obs = create_obs(new_code, new_item.text, survey_obs_type)\n",
    "            my_list.append(my_panel_obs.id)\n",
    "            write_out(my_panel_obs)\n",
    "\n",
    "        else:\n",
    "          print ('Answer  - item!\\n\\n')\n",
    "          if len(new_item.answer) > 1:\n",
    "            survey_obs_type = \"multiselect-item\"\n",
    "            for i, answer in enumerate(new_item.answer):\n",
    "                new_code = f'{new_item.linkId.split(\"/\")[-1]}-answer{i}'\n",
    "                my_item_obs = create_obs(new_code, new_item.text, survey_obs_type, answer)\n",
    "                my_list.append(my_item_obs.id)\n",
    "                write_out(my_item_obs)\n",
    "          else:\n",
    "            survey_obs_type = \"item\"\n",
    "            new_code = new_item.linkId.split(\"/\")[-1]\n",
    "            my_item_obs = create_obs(new_code, new_item.text, survey_obs_type, new_item.answer[0])\n",
    "            my_list.append(my_item_obs.id)\n",
    "            write_out(my_item_obs)\n",
    "          \n",
    "        get_items(i, new_item.linkId)\n",
    "        \n",
    "        \n",
    "      print(f'my_list for {parent} = {my_list}\\n\\n')\n",
    "      try:\n",
    "        update_members(parent, my_list)\n",
    "      except Exception as e:\n",
    "        print(e)\n",
    "        if create_survey_panel:\n",
    "            my_panel_obs = create_obs(survey_code, survey_code_name, \"panel\")\n",
    "            write_out(my_panel_obs)\n",
    "            update_members(survey_code, my_list)\n",
    "\n",
    "get_items(qr_obj)\n",
    "\n",
    "\n"
   ]
  },
  {
   "cell_type": "code",
   "execution_count": null,
   "id": "bb8e6da0",
   "metadata": {},
   "outputs": [],
   "source": []
  }
 ],
 "metadata": {
  "kernelspec": {
   "display_name": "Python 3.10.2 64-bit ('jupyter')",
   "language": "python",
   "name": "python3"
  },
  "language_info": {
   "codemirror_mode": {
    "name": "ipython",
    "version": 3
   },
   "file_extension": ".py",
   "mimetype": "text/x-python",
   "name": "python",
   "nbconvert_exporter": "python",
   "pygments_lexer": "ipython3",
   "version": "3.10.2"
  },
  "vscode": {
   "interpreter": {
    "hash": "18672f2fb81dcbb023a0ac48a86c775a19488782369d96ffbd3382a22fd285cf"
   }
  }
 },
 "nbformat": 4,
 "nbformat_minor": 5
}
