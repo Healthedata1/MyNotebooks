{
 "cells": [
  {
   "cell_type": "code",
   "execution_count": 49,
   "id": "b17b5fda",
   "metadata": {},
   "outputs": [],
   "source": [
    "from json import dumps, loads\n",
    "import yaml\n",
    "from pathlib import Path\n",
    "from fhir.resources import construct_fhir_element\n",
    "from fhir.resources.observation import Observation as Obs\n",
    "from fhir.resources.questionnaireresponse import QuestionnaireResponse as QR\n",
    "from fhir.resources.codesystem import CodeSystem as CS\n",
    "from survey_obs import survey_obs"
   ]
  },
  {
   "cell_type": "code",
   "execution_count": 50,
   "id": "f6e6be58",
   "metadata": {},
   "outputs": [
    {
     "data": {
      "text/plain": [
       "'/Users/ehaas/Documents/FHIR/Healthedata1-Sandbox/input/examples-yaml/'"
      ]
     },
     "execution_count": 50,
     "metadata": {},
     "output_type": "execute_result"
    }
   ],
   "source": [
    "my_profile = \"http://hl7.org/fhir/us/core/StructureDefinition/us-core-observation-screening-assessment\"\n",
    "category = 'disability-status'\n",
    "category_path = Path(f'/Users/ehaas/Documents/FHIR/US-Core/input/resources/CodeSystem-us-core-category.json')\n",
    "survey_name = 'PHQ9' #'AHC-HRSN' #'PRAPARE' #'HVS' # \n",
    "survey_code =  '44249-1' #'96777-8' #'88121-9'  # don't need if already grouped like PRAPARE\n",
    "survey_code_name ='PHQ-9 quick depression assessment panel [Reported.PHQ]' #'Accountable health communities (AHC) health-related social needs screening (HRSN) tool' #Hunger Vital Sign [HVS]' # don't need if already grouped like PRAPARE\n",
    "create_survey_panel = True  #|False if already grouped in QR like PRAPARE\n",
    "survey_path = r'/Users/ehaas/Documents/FHIR/Healthedata1-Sandbox/input/examples-yaml/QuestionnaireResponse-5774968.yml'\n",
    "#survey_path = r'/Users/ehaas/Documents/FHIR/Healthedata1-Sandbox/input/examples-yaml/QuestionnaireResponse-AHC-HRSN-example.yml'\n",
    "#survey_path = r'/Users/ehaas/Documents/FHIR/Healthedata1-Sandbox/input/examples-yaml/QuestionnaireResponse-PRAPARE-example.yml'\n",
    "#survey_path = r'/Users/ehaas/Documents/FHIR/Healthedata1-Sandbox/input/examples-yaml/QuestionnaireResponse-hunger-vital-sign-example.yml'\n",
    "#out_dir = Path.cwd() / 'output'\n",
    "out_dir = r'/Users/ehaas/Documents/FHIR/Healthedata1-Sandbox/input/examples-yaml/'\n",
    "path = Path(survey_path)\n",
    "\n",
    "out_dir"
   ]
  },
  {
   "cell_type": "markdown",
   "id": "7feeef29",
   "metadata": {},
   "source": [
    "### Fetch Category and add to category"
   ]
  },
  {
   "cell_type": "code",
   "execution_count": 51,
   "id": "3b70906a",
   "metadata": {},
   "outputs": [
    {
     "data": {
      "text/plain": [
       "{'coding': [{'system': 'http://hl7.org/fhir/us/core/CodeSystem/us-core-category',\n",
       "   'code': 'sdoh',\n",
       "   'display': 'SDOH'}]}"
      ]
     },
     "execution_count": 51,
     "metadata": {},
     "output_type": "execute_result"
    }
   ],
   "source": [
    "def get_category(category):\n",
    "    cs_obj = CS.parse_file(category_path)\n",
    "    for cat in cs_obj.concept:\n",
    "        if cat.code == category:\n",
    "            return {'coding': [{'system': cs_obj.url, 'code': cat.code, 'display': cat.display}]}\n",
    "\n",
    "get_category('sdoh')   "
   ]
  },
  {
   "cell_type": "markdown",
   "id": "be89c3ed-3b49-44fb-a86a-f4f9c6fa56f1",
   "metadata": {},
   "source": [
    "### Fetch Panels Observations and add hasMembers"
   ]
  },
  {
   "cell_type": "code",
   "execution_count": 52,
   "id": "fcb82282-b7af-457d-85ac-5e1694f8f6ec",
   "metadata": {},
   "outputs": [],
   "source": [
    "def update_members(parent, members=[]):\n",
    "    try:\n",
    "        parent = parent.replace(\"/\", \"\")\n",
    "    except AttributeError:\n",
    "        pass\n",
    "    in_path = Path(out_dir) / f'Observation-{survey_name}-panel-example-{parent}.yml' #Path().cwd() / 'output' / f'Observation-{survey_name}-panel-example-{parent}.yml'\n",
    "    my_obj = Obs.parse_file(in_path)\n",
    "    # print(my_obj.yaml(indent=True))\n",
    "    my_obj.hasMember = []\n",
    "    for m in members:\n",
    "        new_member = dict(reference = f'Observation/{m}')\n",
    "        my_obj.hasMember.append(new_member)\n",
    "    # print('='*80)\n",
    "    # print(my_obj.yaml(indent=True))\n",
    "    # print('='*80)\n",
    "    write_out(my_obj)"
   ]
  },
  {
   "cell_type": "markdown",
   "id": "9e4a0723-ad08-428a-9947-1da64d80d18e",
   "metadata": {},
   "source": [
    "### Write Observations to file"
   ]
  },
  {
   "cell_type": "code",
   "execution_count": 53,
   "id": "04f78261-90f1-41cb-9279-35af4c1d749c",
   "metadata": {},
   "outputs": [],
   "source": [
    "def write_out(fhir_obj):\n",
    "    out_path = Path(out_dir) / f'Observation-{fhir_obj.id}.yml'\n",
    "    # note need to the date time format is not json serializabel out of the box see QR-OBs-DE/YAML-JSON-date-serialization.ipynb\n",
    "    out_path.write_text(fhir_obj.yaml())"
   ]
  },
  {
   "cell_type": "markdown",
   "id": "e2f81f83-664c-4026-b287-7ff479137fb3",
   "metadata": {},
   "source": [
    "### Fetch QuestionnaireResponse Instance from file"
   ]
  },
  {
   "cell_type": "code",
   "execution_count": 54,
   "id": "20e34e86-0e70-4c9f-b5e2-1acf77347d8f",
   "metadata": {},
   "outputs": [
    {
     "data": {
      "text/plain": [
       "'2022-11-29T20:50:32.718000+00:00'"
      ]
     },
     "execution_count": 54,
     "metadata": {},
     "output_type": "execute_result"
    }
   ],
   "source": [
    "from fhir.resources.questionnaireresponse import QuestionnaireResponse as QR\n",
    "qr_obj = QR.parse_file(path)\n",
    "qr_obj.authored.isoformat()"
   ]
  },
  {
   "cell_type": "markdown",
   "id": "77012360-c88c-46cf-91e9-9e8519879808",
   "metadata": {},
   "source": [
    "### Create Observation Instance with the metadata"
   ]
  },
  {
   "cell_type": "code",
   "execution_count": 55,
   "id": "c7ed49e0-8ffc-4eb9-b762-c1942daebae6",
   "metadata": {},
   "outputs": [],
   "source": [
    "def get_coding(my_code):\n",
    "    coding_obj = construct_fhir_element('Coding',my_code.valueCoding)\n",
    "    return coding_obj\n",
    "\n",
    "def get_ccode(my_coding):\n",
    "    ccode_obj = construct_fhir_element('CodeableConcept',{})\n",
    "    \n",
    "    ccode_obj.coding = [my_coding]\n",
    "    ccode_obj.text = my_coding.display\n",
    "\n",
    "    return(ccode_obj)\n",
    "\n",
    "def get_answers(obs_obj, answer):\n",
    "    if answer.valueCoding:\n",
    "      # print(answer.valueCoding)  \n",
    "      obs_obj.valueCodeableConcept = get_ccode(answer.valueCoding)\n",
    "    elif answer.valueString:\n",
    "      obs_obj.valueString = answer.valueString \n",
    "    elif answer.valueDecimal:\n",
    "      obs_obj.valueString  = answer.valueDecimal \n",
    "    #print(obs_obj.json(indent=True))\n",
    "    return (obs_obj)\n",
    "\n",
    "\n",
    "def create_obs (obs_id, text, obs_type='item', answers = None):\n",
    "    obs_obj = Obs.parse_file(\"survey_obs.yml\")\n",
    "    print(f'{survey_name}-{obs_type}-example-{obs_id}')\n",
    "    obs_obj.id = f'{survey_name}-{obs_type}-example-{obs_id}'\n",
    "    obs_obj.meta.extension[0].valueString = f'{survey_name} {obs_type} Example {obs_id}'.title()\n",
    "    obs_obj.meta.extension[1].valueMarkdown = f'This is a {obs_obj.meta.extension[0].valueString} ({text}) \\\n",
    "for the *US Core Observation Screening Assessment Profile*'\n",
    "    obs_obj.meta.profile = [my_profile]\n",
    "    cat2 = get_category(category)\n",
    "    if cat2:\n",
    "      obs_obj.category.append(cat2)\n",
    "    # obs_obj.code.coding[0].system = 'http://loinc.org'\n",
    "    obs_obj.code.coding[0].code = obs_id\n",
    "    obs_obj.code.coding[0].display = text\n",
    "    obs_obj.code.text = text\n",
    "    if answers:\n",
    "        get_answers(obs_obj, answers)\n",
    "        obs_obj.hasMember = None\n",
    "    obs_obj.effectiveDateTime = qr_obj.authored.isoformat()\n",
    "    obs_obj.subject.reference = qr_obj.subject.reference\n",
    "    obs_obj.performer[0].reference = qr_obj.author.reference\n",
    "    obs_obj.derivedFrom[0].reference = f'QuestionnaireResponse/{qr_obj.id}'\n",
    "    try:\n",
    "      obs_obj.derivedFrom[0].display = qr_obj.meta.extension[0].valueString\n",
    "    except TypeError:\n",
    "      obs_obj.derivedFrom[0].display = None\n",
    "    return(obs_obj)"
   ]
  },
  {
   "cell_type": "markdown",
   "id": "856fbe78-f8df-4c6d-ac87-84da503c80af",
   "metadata": {},
   "source": [
    "### Use recursion to parse out the nested responses\n",
    "\n",
    "\n",
    "- Create Observations only from those with values"
   ]
  },
  {
   "cell_type": "code",
   "execution_count": 56,
   "id": "ae1fd0e6-a871-440e-859e-0774b3c393b8",
   "metadata": {},
   "outputs": [
    {
     "name": "stdout",
     "output_type": "stream",
     "text": [
      "/44250-9\n",
      "Little interest or pleasure in doing things in last 2 weeks\n",
      "Answer  - item!\n",
      "\n",
      "\n",
      "PHQ9-item-example-44250-9\n",
      "/44255-8\n",
      "Feeling down, depressed, or hopeless in last 2 weeks\n",
      "Answer  - item!\n",
      "\n",
      "\n",
      "PHQ9-item-example-44255-8\n",
      "/44259-0\n",
      "Trouble falling or staying asleep, or sleeping too much\n",
      "Answer  - item!\n",
      "\n",
      "\n",
      "PHQ9-item-example-44259-0\n",
      "/44254-1\n",
      "Feeling tired or having little energy\n",
      "Answer  - item!\n",
      "\n",
      "\n",
      "PHQ9-item-example-44254-1\n",
      "/44251-7\n",
      "Poor appetite or overeating\n",
      "Answer  - item!\n",
      "\n",
      "\n",
      "PHQ9-item-example-44251-7\n",
      "/44258-2\n",
      "Feeling bad about yourself-or that you are a failure or have let yourself or your family down\n",
      "Answer  - item!\n",
      "\n",
      "\n",
      "PHQ9-item-example-44258-2\n",
      "/44252-5\n",
      "Trouble concentrating on things, such as reading the newspaper or watching television\n",
      "Answer  - item!\n",
      "\n",
      "\n",
      "PHQ9-item-example-44252-5\n",
      "/44253-3\n",
      "Moving or speaking so slowly that other people could have noticed. Or the opposite-being so fidgety or restless that you have been moving around a lot more than usual\n",
      "Answer  - item!\n",
      "\n",
      "\n",
      "PHQ9-item-example-44253-3\n",
      "/44260-8\n",
      "Thoughts that you would be better off dead, or of hurting yourself in some way\n",
      "Answer  - item!\n",
      "\n",
      "\n",
      "PHQ9-item-example-44260-8\n",
      "/44261-6\n",
      "Patient Health Questionnaire 9 item (PHQ-9) total score [Reported]\n",
      "Answer  - item!\n",
      "\n",
      "\n",
      "PHQ9-item-example-44261-6\n",
      "/69722-7\n",
      "How difficult have these problems made it for you to do your work, take care of things at home, or get along with other people?\n",
      "Answer  - item!\n",
      "\n",
      "\n",
      "PHQ9-item-example-69722-7\n",
      "my_list for None = ['PHQ9-item-example-44250-9', 'PHQ9-item-example-44255-8', 'PHQ9-item-example-44259-0', 'PHQ9-item-example-44254-1', 'PHQ9-item-example-44251-7', 'PHQ9-item-example-44258-2', 'PHQ9-item-example-44252-5', 'PHQ9-item-example-44253-3', 'PHQ9-item-example-44260-8', 'PHQ9-item-example-44261-6', 'PHQ9-item-example-69722-7']\n",
      "\n",
      "\n",
      "[Errno 2] No such file or directory: '/Users/ehaas/Documents/FHIR/Healthedata1-Sandbox/input/examples-yaml/Observation-PHQ9-panel-example-None.yml'\n",
      "PHQ9-panel-example-44249-1\n"
     ]
    }
   ],
   "source": [
    "def get_items(my_item, parent = None):\n",
    "\n",
    "    try:\n",
    "      assert my_item.item\n",
    "    except (AttributeError, AssertionError):\n",
    "        return  # item observations !!\n",
    "\n",
    "    else: # groups observations !!\n",
    "\n",
    "      my_list = []\n",
    "      for i in my_item.item:  # <<< create new Observation here\n",
    "        new_item = construct_fhir_element('QuestionnaireResponseItem', i)\n",
    "        print(new_item.linkId)\n",
    "        print(new_item.text)\n",
    "        # get_answers(new_item.answer)\n",
    "        try:\n",
    "          assert new_item.answer\n",
    "        except AssertionError:\n",
    "            print ('NO Answer?  - group?\\n\\n')\n",
    "            survey_obs_type = \"panel\"\n",
    "            new_code = new_item.linkId.split(\"/\")[-1]\n",
    "            my_panel_obs = create_obs(new_code, new_item.text, survey_obs_type)\n",
    "            my_list.append(my_panel_obs.id)\n",
    "            write_out(my_panel_obs)\n",
    "\n",
    "        else:\n",
    "          print ('Answer  - item!\\n\\n')\n",
    "          if len(new_item.answer) > 1:\n",
    "            survey_obs_type = \"multiselect-item\"\n",
    "            for i, answer in enumerate(new_item.answer):\n",
    "                new_code = f'{new_item.linkId.split(\"/\")[-1]}-answer{i}'\n",
    "                my_item_obs = create_obs(new_code, new_item.text, survey_obs_type, answer)\n",
    "                my_list.append(my_item_obs.id)\n",
    "                write_out(my_item_obs)\n",
    "          else:\n",
    "            survey_obs_type = \"item\"\n",
    "            new_code = new_item.linkId.split(\"/\")[-1]\n",
    "            my_item_obs = create_obs(new_code, new_item.text, survey_obs_type, new_item.answer[0])\n",
    "            my_list.append(my_item_obs.id)\n",
    "            write_out(my_item_obs)\n",
    "          \n",
    "        get_items(i, new_item.linkId)\n",
    "        \n",
    "        \n",
    "      print(f'my_list for {parent} = {my_list}\\n\\n')\n",
    "      try:\n",
    "        update_members(parent, my_list)\n",
    "      except Exception as e:\n",
    "        print(e)\n",
    "        if create_survey_panel:\n",
    "            my_panel_obs = create_obs(survey_code, survey_code_name, \"panel\")\n",
    "            write_out(my_panel_obs)\n",
    "            update_members(survey_code, my_list)\n",
    "\n",
    "get_items(qr_obj)\n",
    "\n",
    "\n"
   ]
  },
  {
   "cell_type": "code",
   "execution_count": null,
   "id": "4a4d37f8-bfe9-45f6-89b7-29641350846b",
   "metadata": {},
   "outputs": [],
   "source": []
  },
  {
   "cell_type": "code",
   "execution_count": null,
   "id": "9b6f4fa3",
   "metadata": {},
   "outputs": [],
   "source": []
  }
 ],
 "metadata": {
  "kernelspec": {
   "display_name": "Python 3.10.2 64-bit ('jupyter')",
   "language": "python",
   "name": "python3"
  },
  "language_info": {
   "codemirror_mode": {
    "name": "ipython",
    "version": 3
   },
   "file_extension": ".py",
   "mimetype": "text/x-python",
   "name": "python",
   "nbconvert_exporter": "python",
   "pygments_lexer": "ipython3",
   "version": "3.10.2"
  },
  "vscode": {
   "interpreter": {
    "hash": "18672f2fb81dcbb023a0ac48a86c775a19488782369d96ffbd3382a22fd285cf"
   }
  }
 },
 "nbformat": 4,
 "nbformat_minor": 5
}
