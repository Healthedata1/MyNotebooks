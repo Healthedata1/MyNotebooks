{
 "cells": [
  {
   "cell_type": "code",
   "execution_count": 14,
   "metadata": {},
   "outputs": [
    {
     "name": "stdout",
     "output_type": "stream",
     "text": [
      "A.foo=None\n",
      "A.bar=None\n"
     ]
    }
   ],
   "source": [
    "class A(object):\n",
    "    def __init__(self):\n",
    "        self.foo = None\n",
    "        self.bar = None\n",
    "    def printme(self):\n",
    "        print (f'A.foo={self.foo}\\nA.bar={self.bar}')\n",
    "a = A()\n",
    "a.printme()"
   ]
  },
  {
   "cell_type": "code",
   "execution_count": 15,
   "metadata": {},
   "outputs": [
    {
     "name": "stdout",
     "output_type": "stream",
     "text": [
      "A.foo=a\n",
      "A.bar=None\n"
     ]
    }
   ],
   "source": [
    "a.foo = 'a'\n",
    "a.printme()"
   ]
  },
  {
   "cell_type": "code",
   "execution_count": 16,
   "metadata": {},
   "outputs": [
    {
     "name": "stdout",
     "output_type": "stream",
     "text": [
      "A.foo=a\n",
      "A.bar=b\n"
     ]
    }
   ],
   "source": [
    "a.bar = 'b'\n",
    "a.printme()"
   ]
  },
  {
   "cell_type": "code",
   "execution_count": 22,
   "metadata": {},
   "outputs": [
    {
     "name": "stdout",
     "output_type": "stream",
     "text": [
      "A.foo=a\n",
      "A.bar=b\n",
      "c\n",
      "{'foo': 'a', 'bar': 'b', 'baz': 'c'}\n",
      "{'foo': None, 'bar': None, 'baz': 'c'}\n",
      "{'foo': 'a', 'bar': 'b', 'baz': 'c'}\n"
     ]
    }
   ],
   "source": [
    "a.baz = 'c'\n",
    "a.printme()\n",
    "print(a.baz)\n",
    "print(a.__dict__)\n",
    "\n",
    "b = A()\n",
    "b.baz = 'c'\n",
    "print(b.__dict__)\n",
    "print(a.__dict__)"
   ]
  }
 ],
 "metadata": {
  "kernelspec": {
   "display_name": "Python 3",
   "language": "python",
   "name": "python3"
  },
  "language_info": {
   "codemirror_mode": {
    "name": "ipython",
    "version": 3
   },
   "file_extension": ".py",
   "mimetype": "text/x-python",
   "name": "python",
   "nbconvert_exporter": "python",
   "pygments_lexer": "ipython3",
   "version": "3.7.1"
  }
 },
 "nbformat": 4,
 "nbformat_minor": 2
}
