{
 "cells": [
  {
   "cell_type": "markdown",
   "metadata": {},
   "source": [
    "## Add Custom Narrative to FHIR Search Parameter\n",
    "\n",
    "- Get SP from file\n",
    "- Generate Narrative from Jinja2 Template\n",
    "- Strip out any null values\n",
    "- Save SP back to file"
   ]
  },
  {
   "cell_type": "code",
   "execution_count": 42,
   "metadata": {},
   "outputs": [],
   "source": [
    "from json import dumps, loads, load\n",
    "from pathlib import Path\n",
    "from IPython.display import display as Display, HTML, Markdown\n",
    "from jinja2 import Environment, FileSystemLoader, select_autoescape\n",
    "from lxml import etree\n",
    "from fhir.resources import construct_fhir_element\n",
    "from commonmark import commonmark\n",
    "from datetime import datetime\n",
    "\n",
    "def json_serial(obj):\n",
    "    \"\"\"JSON serializer for datetime objects not serializable by default json code\"\"\"\n",
    "\n",
    "    if isinstance(obj, (datetime)):\n",
    "        return obj.strftime('%Y-%m-%d')\n",
    "    raise TypeError (\"Type %s not serializable\" % type(obj))"
   ]
  },
  {
   "cell_type": "markdown",
   "metadata": {},
   "source": [
    "### Get SP from file"
   ]
  },
  {
   "cell_type": "code",
   "execution_count": 43,
   "metadata": {},
   "outputs": [
    {
     "data": {
      "text/plain": [
       "{'resourceType': 'SearchParameter',\n",
       " 'id': 'us-core-race',\n",
       " 'text': {'div': '<div xmlns=\"http://www.w3.org/1999/xhtml\"><!--<h2>SearchParameter: USCoreRace</h2>--><b> description</b> : <p>Returns patients with a race extension matching the specified code.</p>\\n\\n\\t\\t\\t<br></br>\\n\\t\\t\\t<p><b> id</b> us-core-race</p>\\n\\t\\t\\t<p><b> url</b> : <b> http://hl7.org/fhir/us/core/SearchParameter/us-core-race</b>\\n\\t\\t\\t</p>\\n\\t\\t\\t<p><b> version</b> : 4.1.0</p>\\n\\t\\t\\t<p><b> name</b> : USCoreRace</p>\\n\\t\\t\\t\\n\\t\\t\\t<p><b> status</b> : active</p>\\n\\t\\t\\t\\n\\t\\t\\t<p><b> date</b> : 2019-05-21</p>\\n\\t\\t\\t<p><b> publisher</b> : HL7 International - US Realm Steering Committee</p>\\n\\t\\t\\t<p><b> contact</b> : http://www.hl7.org/Special/committees/usrealm/index.cfm</p>\\n            <!--\\n\\t\\t\\t<p>\\n\\t\\t\\t\\t<b> useContext</b> : </p>\\n            -->\\n\\t\\t\\t<p><b> jurisdiction</b> : United States of America (the) <span> (Details : {urn:iso:std:iso:3166 code \\'US\\' = \\'United States of America\\', given as \\'United\\n           States of America (the)\\'})</span>\\n\\t\\t\\t</p>\\n\\t\\t\\t<!--\\n\\t<p>\\n\\t\\t<b> purpose</b> : Need to search by identifier for various infrastructural cases - mainly retrieving packages,\\n         and matching as part of a chain</p>\\n  -->\\n\\t\\t\\t<p><b> code</b> : <code>race</code>\\n\\t\\t\\t</p>\\n\\t\\t\\t<p><b> base</b> :Patient</p>\\n\\t\\t\\t<p><b> type</b> : token</p>\\n\\t\\t\\t<p><b> expression</b> : <code>Patient.extension.where(url = \\'http://hl7.org/fhir/us/core/StructureDefinition/us-core-race\\').extension.value.code</code>\\n\\t\\t\\t</p>\\n\\t\\t\\t<p><b> xpath</b> : <code>f:Patient/f:extension[@url=\\'http://hl7.org/fhir/us/core/StructureDefinition/us-core-race\\']/f:extension/f:valueCoding/f:code/@value</code>\\n\\t\\t\\t</p>\\n\\t\\t\\t<p><b> xpathUsage</b> : normal</p>\\n\\t\\t\\t<p><b> mulitpleOr</b> : True   (Conformance Expectation = MAY)</p>\\n\\t\\t\\t<p><b> mulitpleAnd</b> : True  ( Conformance Expectation = MAY)</p>\\n    \\n    \\n    \\n\\t\\t</div>',\n",
       "  'status': 'generated'},\n",
       " 'url': 'http://hl7.org/fhir/us/core/SearchParameter/us-core-race',\n",
       " 'name': 'USCoreRace',\n",
       " 'status': 'active',\n",
       " 'date': datetime.datetime(2022, 4, 14, 8, 47, 20, 599923),\n",
       " 'description': 'Returns patients with a race extension matching the specified code.',\n",
       " 'jurisdiction': [{'coding': [{'system': 'urn:iso:std:iso:3166',\n",
       "     'code': 'US'}]}],\n",
       " 'code': 'race',\n",
       " 'base': ['Patient'],\n",
       " 'type': 'token',\n",
       " 'expression': \"Patient.extension.where(url = 'http://hl7.org/fhir/us/core/StructureDefinition/us-core-race').extension.value.code\",\n",
       " 'xpath': \"f:Patient/f:extension[@url='http://hl7.org/fhir/us/core/StructureDefinition/us-core-race']/f:extension/f:valueCoding/f:code/@value\",\n",
       " 'xpathUsage': 'normal',\n",
       " 'multipleOr': True,\n",
       " '_multipleOr': {'extension': [{'url': 'http://hl7.org/fhir/StructureDefinition/capabilitystatement-expectation',\n",
       "    'valueCode': 'MAY'}]},\n",
       " 'multipleAnd': True,\n",
       " '_multipleAnd': {'extension': [{'url': 'http://hl7.org/fhir/StructureDefinition/capabilitystatement-expectation',\n",
       "    'valueCode': 'MAY'}]}}"
      ]
     },
     "execution_count": 43,
     "metadata": {},
     "output_type": "execute_result"
    }
   ],
   "source": [
    "in_path = Path() / 'test' / 'in_sp.json' # temp path\n",
    "sp = loads(\n",
    "        in_path.read_text()\n",
    "    )\n",
    "sp['date'] = datetime.utcnow()  #convert to dateime object\n",
    "sp"
   ]
  },
  {
   "cell_type": "markdown",
   "metadata": {},
   "source": [
    "### Generate Narrative from Jinja2 Template"
   ]
  },
  {
   "cell_type": "code",
   "execution_count": 44,
   "metadata": {},
   "outputs": [
    {
     "ename": "UndefinedError",
     "evalue": "'dict object' has no attribute 'contact'",
     "output_type": "error",
     "traceback": [
      "\u001b[0;31m---------------------------------------------------------------------------\u001b[0m",
      "\u001b[0;31mUndefinedError\u001b[0m                            Traceback (most recent call last)",
      "Input \u001b[0;32mIn [44]\u001b[0m, in \u001b[0;36m<cell line: 14>\u001b[0;34m()\u001b[0m\n\u001b[1;32m     10\u001b[0m env\u001b[38;5;241m.\u001b[39mfilters[\u001b[38;5;124m'\u001b[39m\u001b[38;5;124mmarkdown\u001b[39m\u001b[38;5;124m'\u001b[39m] \u001b[38;5;241m=\u001b[39m markdown\n\u001b[1;32m     12\u001b[0m template \u001b[38;5;241m=\u001b[39m env\u001b[38;5;241m.\u001b[39mget_template(\u001b[38;5;124m'\u001b[39m\u001b[38;5;124msp_narrative.j2\u001b[39m\u001b[38;5;124m'\u001b[39m)  \n\u001b[0;32m---> 14\u001b[0m rendered \u001b[38;5;241m=\u001b[39m \u001b[43mtemplate\u001b[49m\u001b[38;5;241;43m.\u001b[39;49m\u001b[43mrender\u001b[49m\u001b[43m(\u001b[49m\u001b[43msp\u001b[49m\u001b[38;5;241;43m=\u001b[39;49m\u001b[43msp\u001b[49m\u001b[43m)\u001b[49m\n\u001b[1;32m     15\u001b[0m display(HTML(rendered))\n\u001b[1;32m     18\u001b[0m parser \u001b[38;5;241m=\u001b[39m etree\u001b[38;5;241m.\u001b[39mXMLParser(remove_blank_text\u001b[38;5;241m=\u001b[39m\u001b[38;5;28;01mTrue\u001b[39;00m)\n",
      "File \u001b[0;32m~/.pyenv/versions/3.10.2/envs/jupyter/lib/python3.10/site-packages/jinja2/environment.py:1291\u001b[0m, in \u001b[0;36mTemplate.render\u001b[0;34m(self, *args, **kwargs)\u001b[0m\n\u001b[1;32m   1289\u001b[0m     \u001b[38;5;28;01mreturn\u001b[39;00m concat(\u001b[38;5;28mself\u001b[39m\u001b[38;5;241m.\u001b[39mroot_render_func(ctx))  \u001b[38;5;66;03m# type: ignore\u001b[39;00m\n\u001b[1;32m   1290\u001b[0m \u001b[38;5;28;01mexcept\u001b[39;00m \u001b[38;5;167;01mException\u001b[39;00m:\n\u001b[0;32m-> 1291\u001b[0m     \u001b[38;5;28;43mself\u001b[39;49m\u001b[38;5;241;43m.\u001b[39;49m\u001b[43menvironment\u001b[49m\u001b[38;5;241;43m.\u001b[39;49m\u001b[43mhandle_exception\u001b[49m\u001b[43m(\u001b[49m\u001b[43m)\u001b[49m\n",
      "File \u001b[0;32m~/.pyenv/versions/3.10.2/envs/jupyter/lib/python3.10/site-packages/jinja2/environment.py:925\u001b[0m, in \u001b[0;36mEnvironment.handle_exception\u001b[0;34m(self, source)\u001b[0m\n\u001b[1;32m    920\u001b[0m \u001b[38;5;124;03m\"\"\"Exception handling helper.  This is used internally to either raise\u001b[39;00m\n\u001b[1;32m    921\u001b[0m \u001b[38;5;124;03mrewritten exceptions or return a rendered traceback for the template.\u001b[39;00m\n\u001b[1;32m    922\u001b[0m \u001b[38;5;124;03m\"\"\"\u001b[39;00m\n\u001b[1;32m    923\u001b[0m \u001b[38;5;28;01mfrom\u001b[39;00m \u001b[38;5;21;01m.\u001b[39;00m\u001b[38;5;21;01mdebug\u001b[39;00m \u001b[38;5;28;01mimport\u001b[39;00m rewrite_traceback_stack\n\u001b[0;32m--> 925\u001b[0m \u001b[38;5;28;01mraise\u001b[39;00m rewrite_traceback_stack(source\u001b[38;5;241m=\u001b[39msource)\n",
      "File \u001b[0;32m~/Documents/Python/Jupyter/MyNotebooks/Search-maker/sp_narrative.j2:33\u001b[0m, in \u001b[0;36mtop-level template code\u001b[0;34m()\u001b[0m\n\u001b[1;32m     31\u001b[0m \t\t\t\t<b> publisher</b> : {{sp.publisher}}</p>\n\u001b[1;32m     32\u001b[0m \t\t\t<p>\n\u001b[0;32m---> 33\u001b[0m \t\t\t\t<b> contact</b> : {{sp.contact[0].telecom[0].value}}</p>\n\u001b[1;32m     34\u001b[0m             <!--\n\u001b[1;32m     35\u001b[0m \t\t\t<p>\n",
      "File \u001b[0;32m~/.pyenv/versions/3.10.2/envs/jupyter/lib/python3.10/site-packages/jinja2/environment.py:455\u001b[0m, in \u001b[0;36mEnvironment.getitem\u001b[0;34m(self, obj, argument)\u001b[0m\n\u001b[1;32m    453\u001b[0m \u001b[38;5;124;03m\"\"\"Get an item or attribute of an object but prefer the item.\"\"\"\u001b[39;00m\n\u001b[1;32m    454\u001b[0m \u001b[38;5;28;01mtry\u001b[39;00m:\n\u001b[0;32m--> 455\u001b[0m     \u001b[38;5;28;01mreturn\u001b[39;00m \u001b[43mobj\u001b[49m\u001b[43m[\u001b[49m\u001b[43margument\u001b[49m\u001b[43m]\u001b[49m\n\u001b[1;32m    456\u001b[0m \u001b[38;5;28;01mexcept\u001b[39;00m (\u001b[38;5;167;01mAttributeError\u001b[39;00m, \u001b[38;5;167;01mTypeError\u001b[39;00m, \u001b[38;5;167;01mLookupError\u001b[39;00m):\n\u001b[1;32m    457\u001b[0m     \u001b[38;5;28;01mif\u001b[39;00m \u001b[38;5;28misinstance\u001b[39m(argument, \u001b[38;5;28mstr\u001b[39m):\n",
      "\u001b[0;31mUndefinedError\u001b[0m: 'dict object' has no attribute 'contact'"
     ]
    }
   ],
   "source": [
    "def markdown(text, *args, **kwargs):\n",
    "    return commonmark(text, *args, **kwargs)\n",
    "\n",
    "env = Environment(\n",
    "    loader=FileSystemLoader(searchpath = ''),\n",
    "    autoescape=select_autoescape(['html','xml','xhtml','j2','md'])\n",
    "    )\n",
    "\n",
    "\n",
    "env.filters['markdown'] = markdown\n",
    "\n",
    "template = env.get_template('sp_narrative.j2')  \n",
    "\n",
    "rendered = template.render(sp=sp)\n",
    "display(HTML(rendered))\n",
    "\n",
    "\n",
    "parser = etree.XMLParser(remove_blank_text=True)\n",
    "root = etree.fromstring(rendered, parser=parser)\n",
    "\n",
    "div = (etree.tostring(root[1][0], encoding='unicode', method='html'))\n",
    "\n",
    "my_obj = dict(\n",
    "            status = 'generated',\n",
    "            div = div\n",
    "            )\n",
    "            \n",
    "narr = construct_fhir_element('Narrative', my_obj)\n",
    "\n",
    "sp['text'] = narr.dict()"
   ]
  },
  {
   "cell_type": "markdown",
   "metadata": {},
   "source": [
    "### Save SP back to file"
   ]
  },
  {
   "cell_type": "code",
   "execution_count": null,
   "metadata": {},
   "outputs": [],
   "source": [
    "out_path = Path() / 'test' / 'out_sp.json' # temp path\n",
    "out_path.write_text(dumps(sp, indent = 2, default=json_serial))"
   ]
  },
  {
   "cell_type": "code",
   "execution_count": null,
   "metadata": {},
   "outputs": [],
   "source": []
  }
 ],
 "metadata": {
  "kernelspec": {
   "display_name": "Python 3 (ipykernel)",
   "language": "python",
   "name": "python3"
  },
  "language_info": {
   "codemirror_mode": {
    "name": "ipython",
    "version": 3
   },
   "file_extension": ".py",
   "mimetype": "text/x-python",
   "name": "python",
   "nbconvert_exporter": "python",
   "pygments_lexer": "ipython3",
   "version": "3.10.2"
  }
 },
 "nbformat": 4,
 "nbformat_minor": 4
}
