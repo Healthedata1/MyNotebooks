{
 "cells": [
  {
   "cell_type": "markdown",
   "metadata": {},
   "source": [
    "## Create Markdown Text for SearchParameters Page\n",
    "\n",
    "- Using Jinja2 Template create markdown file for searchparameters page\n",
    "- Use spreadsheet as source \n",
    "- Omits custom SP expecting to be listed separately"
   ]
  },
  {
   "cell_type": "code",
   "execution_count": 1,
   "metadata": {},
   "outputs": [],
   "source": [
    "from pandas import *\n",
    "from pathlib import Path\n",
    "from openpyxl import load_workbook\n",
    "from jinja2 import Environment, FileSystemLoader, select_autoescape\n",
    "from IPython.display import display as Display, HTML, Markdown"
   ]
  },
  {
   "cell_type": "code",
   "execution_count": 2,
   "metadata": {},
   "outputs": [],
   "source": [
    "#ig_source_path = \"//ERICS-AIR-2/ehaas/Documents/FHIR/US-Core-R4/input/\"  # for pc\n",
    "in_path = \"/Users/ehaas/Documents/FHIR/US-Core/input/resources_spreadsheets/\"    # for mac\n",
    "in_file =\"uscore-server\"\n",
    "ig_base = \"us-core\"\n",
    "\n",
    "skip_types = ['Questionnaire',]\n",
    "custom_sp = ['race','ethnicity','gender-identity',]"
   ]
  },
  {
   "cell_type": "markdown",
   "metadata": {},
   "source": [
    "### Get spreadsheet data using Pandas"
   ]
  },
  {
   "cell_type": "code",
   "execution_count": 3,
   "metadata": {},
   "outputs": [],
   "source": [
    "xls = ExcelFile(f'{in_path}{in_file}.xlsx')\n",
    "df = read_excel(xls,'sps',na_filter = False)\n",
    "data = [i for i in df.itertuples(index=True) \n",
    "                  if '!' not in i.base]"
   ]
  },
  {
   "cell_type": "code",
   "execution_count": 4,
   "metadata": {},
   "outputs": [
    {
     "name": "stdout",
     "output_type": "stream",
     "text": [
      "##### AllergyIntolerance\n",
      "- [clinical-status](SearchParameter-us-core-allergyintolerance-clinical-status.html)\n",
      "- [patient](SearchParameter-us-core-allergyintolerance-patient.html)\n",
      "\n",
      "##### CarePlan\n",
      "- [category](SearchParameter-us-core-careplan-category.html)\n",
      "- [date](SearchParameter-us-core-careplan-date.html)\n",
      "- [patient](SearchParameter-us-core-careplan-patient.html)\n",
      "- [status](SearchParameter-us-core-careplan-status.html)\n",
      "\n",
      "##### CareTeam\n",
      "- [patient](SearchParameter-us-core-careteam-patient.html)\n",
      "- [status](SearchParameter-us-core-careteam-status.html)\n",
      "\n",
      "##### Condition\n",
      "- [category](SearchParameter-us-core-condition-category.html)\n",
      "- [clinical-status](SearchParameter-us-core-condition-clinical-status.html)\n",
      "- [patient](SearchParameter-us-core-condition-patient.html)\n",
      "- [onset-date](SearchParameter-us-core-condition-onset-date.html)\n",
      "- [recorded-date](SearchParameter-us-core-condition-recorded-date.html)\n",
      "- [abatement-date](SearchParameter-us-core-condition-abatement-date.html)\n",
      "- [code](SearchParameter-us-core-condition-code.html)\n",
      "- [encounter](SearchParameter-us-core-condition-encounter.html)\n",
      "\n",
      "##### Coverage\n",
      "- {:.new-content}[patient](SearchParameter-us-core-coverage-patient.html)\n",
      "\n",
      "##### Device\n",
      "- [patient](SearchParameter-us-core-device-patient.html)\n",
      "- [type](SearchParameter-us-core-device-type.html)\n",
      "- {:.new-content}[status](SearchParameter-us-core-device-status.html)\n",
      "\n",
      "##### DiagnosticReport\n",
      "- [status](SearchParameter-us-core-diagnosticreport-status.html)\n",
      "- [patient](SearchParameter-us-core-diagnosticreport-patient.html)\n",
      "- [category](SearchParameter-us-core-diagnosticreport-category.html)\n",
      "- [code](SearchParameter-us-core-diagnosticreport-code.html)\n",
      "- [date](SearchParameter-us-core-diagnosticreport-date.html)\n",
      "\n",
      "##### DocumentReference\n",
      "- [_id](SearchParameter-us-core-documentreference-id.html)\n",
      "- [status](SearchParameter-us-core-documentreference-status.html)\n",
      "- [patient](SearchParameter-us-core-documentreference-patient.html)\n",
      "- [category](SearchParameter-us-core-documentreference-category.html)\n",
      "- [type](SearchParameter-us-core-documentreference-type.html)\n",
      "- [date](SearchParameter-us-core-documentreference-date.html)\n",
      "- [period](SearchParameter-us-core-documentreference-period.html)\n",
      "\n",
      "##### Encounter\n",
      "- [_id](SearchParameter-us-core-encounter-id.html)\n",
      "- [class](SearchParameter-us-core-encounter-class.html)\n",
      "- [date](SearchParameter-us-core-encounter-date.html)\n",
      "- [identifier](SearchParameter-us-core-encounter-identifier.html)\n",
      "- [patient](SearchParameter-us-core-encounter-patient.html)\n",
      "- [location](SearchParameter-us-core-encounter-location.html)\n",
      "- [status](SearchParameter-us-core-encounter-status.html)\n",
      "- [type](SearchParameter-us-core-encounter-type.html)\n",
      "\n",
      "##### Goal\n",
      "- [lifecycle-status](SearchParameter-us-core-goal-lifecycle-status.html)\n",
      "- [patient](SearchParameter-us-core-goal-patient.html)\n",
      "- [target-date](SearchParameter-us-core-goal-target-date.html)\n",
      "\n",
      "##### Immunization\n",
      "- [patient](SearchParameter-us-core-immunization-patient.html)\n",
      "- [status](SearchParameter-us-core-immunization-status.html)\n",
      "- [date](SearchParameter-us-core-immunization-date.html)\n",
      "\n",
      "##### Location\n",
      "- [name](SearchParameter-us-core-location-name.html)\n",
      "- [address](SearchParameter-us-core-location-address.html)\n",
      "- [address-city](SearchParameter-us-core-location-address-city.html)\n",
      "- [address-state](SearchParameter-us-core-location-address-state.html)\n",
      "- [address-postalcode](SearchParameter-us-core-location-address-postalcode.html)\n",
      "\n",
      "##### MedicationDispense\n",
      "- {:.new-content}[status](SearchParameter-us-core-medicationdispense-status.html)\n",
      "- {:.new-content}[type](SearchParameter-us-core-medicationdispense-type.html)\n",
      "- {:.new-content}[patient](SearchParameter-us-core-medicationdispense-patient.html)\n",
      "\n",
      "##### MedicationRequest\n",
      "- [status](SearchParameter-us-core-medicationrequest-status.html)\n",
      "- [intent](SearchParameter-us-core-medicationrequest-intent.html)\n",
      "- [patient](SearchParameter-us-core-medicationrequest-patient.html)\n",
      "- [encounter](SearchParameter-us-core-medicationrequest-encounter.html)\n",
      "- [authoredon](SearchParameter-us-core-medicationrequest-authoredon.html)\n",
      "\n",
      "##### Observation\n",
      "- [status](SearchParameter-us-core-observation-status.html)\n",
      "- [category](SearchParameter-us-core-observation-category.html)\n",
      "- [code](SearchParameter-us-core-observation-code.html)\n",
      "- [date](SearchParameter-us-core-observation-date.html)\n",
      "- [patient](SearchParameter-us-core-observation-patient.html)\n",
      "\n",
      "##### Organization\n",
      "- [name](SearchParameter-us-core-organization-name.html)\n",
      "- [address](SearchParameter-us-core-organization-address.html)\n",
      "\n",
      "##### Patient\n",
      "- {:.new-content}[_id](SearchParameter-us-core-patient-id.html)\n",
      "- [birthdate](SearchParameter-us-core-patient-birthdate.html)\n",
      "- {:.new-content}[death-date](SearchParameter-us-core-patient-death-date.html)\n",
      "- [family](SearchParameter-us-core-patient-family.html)\n",
      "- [gender](SearchParameter-us-core-patient-gender.html)\n",
      "- [given](SearchParameter-us-core-patient-given.html)\n",
      "- [identifier](SearchParameter-us-core-patient-identifier.html)\n",
      "- [name](SearchParameter-us-core-patient-name.html)\n",
      "\n",
      "##### Practitioner\n",
      "- [_id](SearchParameter-us-core-practitioner-id.html)\n",
      "- [name](SearchParameter-us-core-practitioner-name.html)\n",
      "- [identifier](SearchParameter-us-core-practitioner-identifier.html)\n",
      "\n",
      "##### PractitionerRole\n",
      "- [specialty](SearchParameter-us-core-practitionerrole-specialty.html)\n",
      "- [practitioner](SearchParameter-us-core-practitionerrole-practitioner.html)\n",
      "\n",
      "##### Procedure\n",
      "- [status](SearchParameter-us-core-procedure-status.html)\n",
      "- [patient](SearchParameter-us-core-procedure-patient.html)\n",
      "- [date](SearchParameter-us-core-procedure-date.html)\n",
      "- [code](SearchParameter-us-core-procedure-code.html)\n",
      "\n",
      "##### RelatedPerson\n",
      "- [_id](SearchParameter-us-core-relatedperson-id.html)\n",
      "- [patient](SearchParameter-us-core-relatedperson-patient.html)\n",
      "- {:.new-content}[name](SearchParameter-us-core-relatedperson-name.html)\n",
      "\n",
      "##### ServiceRequest\n",
      "- [status](SearchParameter-us-core-servicerequest-status.html)\n",
      "- [patient](SearchParameter-us-core-servicerequest-patient.html)\n",
      "- [category](SearchParameter-us-core-servicerequest-category.html)\n",
      "- [code](SearchParameter-us-core-servicerequest-code.html)\n",
      "- [authored](SearchParameter-us-core-servicerequest-authored.html)\n",
      "- [_id](SearchParameter-us-core-servicerequest-id.html)\n",
      "\n",
      "\n"
     ]
    }
   ],
   "source": [
    "r_list = {r.base for r in data}\n",
    "my_string = ''''''\n",
    "\n",
    "def append_to_string(my_string,s):\n",
    "    my_string = my_string + '\\n' + s\n",
    "    return\n",
    "for r in sorted(r_list):\n",
    "    s = f'##### {r}\\n'\n",
    "    my_string = my_string + s\n",
    "    for d in data:\n",
    "        if d.base == r and d.exists == 'Y':  # d.exists == N for custom SP listed separately in US Core      \n",
    "            new_content_tag = '{:.new-content}' if d.is_new else ''\n",
    "            s = f'- { new_content_tag}[{d.code}](SearchParameter-{ig_base}-{r.lower()}-{d.code.replace(\"_\",\"\")}.html)\\n'\n",
    "            my_string = my_string + s\n",
    "    my_string = my_string + '\\n'     \n",
    "print(my_string)"
   ]
  },
  {
   "cell_type": "markdown",
   "metadata": {},
   "source": [
    "## write to file"
   ]
  },
  {
   "cell_type": "code",
   "execution_count": 5,
   "metadata": {},
   "outputs": [
    {
     "data": {
      "text/plain": [
       "6268"
      ]
     },
     "execution_count": 5,
     "metadata": {},
     "output_type": "execute_result"
    }
   ],
   "source": [
    "out_path = Path() / '_includes' / 'uscore_sp_list.md' # temp path\n",
    "out_path = Path(r'/Users/ehaas/Documents/FHIR/US-Core/input/includes/uscore_sp_list.md')\n",
    "out_path.write_text(my_string)"
   ]
  },
  {
   "cell_type": "code",
   "execution_count": null,
   "metadata": {},
   "outputs": [],
   "source": []
  }
 ],
 "metadata": {
  "kernelspec": {
   "display_name": "Python 3.10.2 64-bit ('jupyter')",
   "language": "python",
   "name": "python3"
  },
  "language_info": {
   "codemirror_mode": {
    "name": "ipython",
    "version": 3
   },
   "file_extension": ".py",
   "mimetype": "text/x-python",
   "name": "python",
   "nbconvert_exporter": "python",
   "pygments_lexer": "ipython3",
   "version": "3.10.2"
  },
  "vscode": {
   "interpreter": {
    "hash": "18672f2fb81dcbb023a0ac48a86c775a19488782369d96ffbd3382a22fd285cf"
   }
  }
 },
 "nbformat": 4,
 "nbformat_minor": 4
}
