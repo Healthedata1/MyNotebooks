{
 "cells": [
  {
   "cell_type": "code",
   "execution_count": 8,
   "metadata": {},
   "outputs": [
    {
     "ename": "JSONDecodeError",
     "evalue": "Invalid control character at: line 19 column 168 (char 634)",
     "output_type": "error",
     "traceback": [
      "\u001b[1;31m---------------------------------------------------------------------------\u001b[0m",
      "\u001b[1;31mJSONDecodeError\u001b[0m                           Traceback (most recent call last)",
      "\u001b[1;32m<ipython-input-8-c5fdd6593216>\u001b[0m in \u001b[0;36m<module>\u001b[1;34m\u001b[0m\n\u001b[0;32m     56\u001b[0m }'''\n\u001b[0;32m     57\u001b[0m \u001b[1;33m\u001b[0m\u001b[0m\n\u001b[1;32m---> 58\u001b[1;33m \u001b[0md\u001b[0m  \u001b[1;33m=\u001b[0m \u001b[0mloads\u001b[0m\u001b[1;33m(\u001b[0m\u001b[0mtest\u001b[0m\u001b[1;33m)\u001b[0m\u001b[1;33m\u001b[0m\u001b[1;33m\u001b[0m\u001b[0m\n\u001b[0m\u001b[0;32m     59\u001b[0m \u001b[1;33m\u001b[0m\u001b[0m\n\u001b[0;32m     60\u001b[0m \u001b[1;33m\u001b[0m\u001b[0m\n",
      "\u001b[1;32mc:\\users\\administrator\\appdata\\local\\programs\\python\\python37-32\\lib\\json\\__init__.py\u001b[0m in \u001b[0;36mloads\u001b[1;34m(s, encoding, cls, object_hook, parse_float, parse_int, parse_constant, object_pairs_hook, **kw)\u001b[0m\n\u001b[0;32m    346\u001b[0m             \u001b[0mparse_int\u001b[0m \u001b[1;32mis\u001b[0m \u001b[1;32mNone\u001b[0m \u001b[1;32mand\u001b[0m \u001b[0mparse_float\u001b[0m \u001b[1;32mis\u001b[0m \u001b[1;32mNone\u001b[0m \u001b[1;32mand\u001b[0m\u001b[1;33m\u001b[0m\u001b[1;33m\u001b[0m\u001b[0m\n\u001b[0;32m    347\u001b[0m             parse_constant is None and object_pairs_hook is None and not kw):\n\u001b[1;32m--> 348\u001b[1;33m         \u001b[1;32mreturn\u001b[0m \u001b[0m_default_decoder\u001b[0m\u001b[1;33m.\u001b[0m\u001b[0mdecode\u001b[0m\u001b[1;33m(\u001b[0m\u001b[0ms\u001b[0m\u001b[1;33m)\u001b[0m\u001b[1;33m\u001b[0m\u001b[1;33m\u001b[0m\u001b[0m\n\u001b[0m\u001b[0;32m    349\u001b[0m     \u001b[1;32mif\u001b[0m \u001b[0mcls\u001b[0m \u001b[1;32mis\u001b[0m \u001b[1;32mNone\u001b[0m\u001b[1;33m:\u001b[0m\u001b[1;33m\u001b[0m\u001b[1;33m\u001b[0m\u001b[0m\n\u001b[0;32m    350\u001b[0m         \u001b[0mcls\u001b[0m \u001b[1;33m=\u001b[0m \u001b[0mJSONDecoder\u001b[0m\u001b[1;33m\u001b[0m\u001b[1;33m\u001b[0m\u001b[0m\n",
      "\u001b[1;32mc:\\users\\administrator\\appdata\\local\\programs\\python\\python37-32\\lib\\json\\decoder.py\u001b[0m in \u001b[0;36mdecode\u001b[1;34m(self, s, _w)\u001b[0m\n\u001b[0;32m    335\u001b[0m \u001b[1;33m\u001b[0m\u001b[0m\n\u001b[0;32m    336\u001b[0m         \"\"\"\n\u001b[1;32m--> 337\u001b[1;33m         \u001b[0mobj\u001b[0m\u001b[1;33m,\u001b[0m \u001b[0mend\u001b[0m \u001b[1;33m=\u001b[0m \u001b[0mself\u001b[0m\u001b[1;33m.\u001b[0m\u001b[0mraw_decode\u001b[0m\u001b[1;33m(\u001b[0m\u001b[0ms\u001b[0m\u001b[1;33m,\u001b[0m \u001b[0midx\u001b[0m\u001b[1;33m=\u001b[0m\u001b[0m_w\u001b[0m\u001b[1;33m(\u001b[0m\u001b[0ms\u001b[0m\u001b[1;33m,\u001b[0m \u001b[1;36m0\u001b[0m\u001b[1;33m)\u001b[0m\u001b[1;33m.\u001b[0m\u001b[0mend\u001b[0m\u001b[1;33m(\u001b[0m\u001b[1;33m)\u001b[0m\u001b[1;33m)\u001b[0m\u001b[1;33m\u001b[0m\u001b[1;33m\u001b[0m\u001b[0m\n\u001b[0m\u001b[0;32m    338\u001b[0m         \u001b[0mend\u001b[0m \u001b[1;33m=\u001b[0m \u001b[0m_w\u001b[0m\u001b[1;33m(\u001b[0m\u001b[0ms\u001b[0m\u001b[1;33m,\u001b[0m \u001b[0mend\u001b[0m\u001b[1;33m)\u001b[0m\u001b[1;33m.\u001b[0m\u001b[0mend\u001b[0m\u001b[1;33m(\u001b[0m\u001b[1;33m)\u001b[0m\u001b[1;33m\u001b[0m\u001b[1;33m\u001b[0m\u001b[0m\n\u001b[0;32m    339\u001b[0m         \u001b[1;32mif\u001b[0m \u001b[0mend\u001b[0m \u001b[1;33m!=\u001b[0m \u001b[0mlen\u001b[0m\u001b[1;33m(\u001b[0m\u001b[0ms\u001b[0m\u001b[1;33m)\u001b[0m\u001b[1;33m:\u001b[0m\u001b[1;33m\u001b[0m\u001b[1;33m\u001b[0m\u001b[0m\n",
      "\u001b[1;32mc:\\users\\administrator\\appdata\\local\\programs\\python\\python37-32\\lib\\json\\decoder.py\u001b[0m in \u001b[0;36mraw_decode\u001b[1;34m(self, s, idx)\u001b[0m\n\u001b[0;32m    351\u001b[0m         \"\"\"\n\u001b[0;32m    352\u001b[0m         \u001b[1;32mtry\u001b[0m\u001b[1;33m:\u001b[0m\u001b[1;33m\u001b[0m\u001b[1;33m\u001b[0m\u001b[0m\n\u001b[1;32m--> 353\u001b[1;33m             \u001b[0mobj\u001b[0m\u001b[1;33m,\u001b[0m \u001b[0mend\u001b[0m \u001b[1;33m=\u001b[0m \u001b[0mself\u001b[0m\u001b[1;33m.\u001b[0m\u001b[0mscan_once\u001b[0m\u001b[1;33m(\u001b[0m\u001b[0ms\u001b[0m\u001b[1;33m,\u001b[0m \u001b[0midx\u001b[0m\u001b[1;33m)\u001b[0m\u001b[1;33m\u001b[0m\u001b[1;33m\u001b[0m\u001b[0m\n\u001b[0m\u001b[0;32m    354\u001b[0m         \u001b[1;32mexcept\u001b[0m \u001b[0mStopIteration\u001b[0m \u001b[1;32mas\u001b[0m \u001b[0merr\u001b[0m\u001b[1;33m:\u001b[0m\u001b[1;33m\u001b[0m\u001b[1;33m\u001b[0m\u001b[0m\n\u001b[0;32m    355\u001b[0m             \u001b[1;32mraise\u001b[0m \u001b[0mJSONDecodeError\u001b[0m\u001b[1;33m(\u001b[0m\u001b[1;34m\"Expecting value\"\u001b[0m\u001b[1;33m,\u001b[0m \u001b[0ms\u001b[0m\u001b[1;33m,\u001b[0m \u001b[0merr\u001b[0m\u001b[1;33m.\u001b[0m\u001b[0mvalue\u001b[0m\u001b[1;33m)\u001b[0m \u001b[1;32mfrom\u001b[0m \u001b[1;32mNone\u001b[0m\u001b[1;33m\u001b[0m\u001b[1;33m\u001b[0m\u001b[0m\n",
      "\u001b[1;31mJSONDecodeError\u001b[0m: Invalid control character at: line 19 column 168 (char 634)"
     ]
    }
   ],
   "source": [
    "from IPython.display import display as Display, HTML, Markdown\n",
    "from json import loads, dumps\n",
    "\n",
    "test= '''{\n",
    "    \"id\": \"us-core-practitioner-name\",\n",
    "    \"base\": [\n",
    "        \"Practitioner\"\n",
    "    ],\n",
    "    \"code\": \"name\",\n",
    "    \"contact\": [\n",
    "        {\n",
    "            \"telecom\": [\n",
    "                {\n",
    "                    \"system\": \"url\",\n",
    "                    \"value\": \"http://www.hl7.org/Special/committees/usrealm/index.cfm\"\n",
    "                }\n",
    "            ]\n",
    "        }\n",
    "    ],\n",
    "    \"date\": \"2020-11-20T03:14:24.644963Z\",\n",
    "    \"derivedFrom\": \"http://hl7.org/fhir/SearchParameter/Practitioner-name\",\n",
    "    \"description\": \"**A server defined search that may match any of the string fields in the HumanName, including family, give, prefix, suffix, suffix, and/or text**  \\n**NOTE**: This US Core SearchParameter definition extends the usage context of the\\n[Conformance expectation extension](http://hl7.org/fhir/R4/extension-capabilitystatement-expectation.html)\\n - multipleAnd\\n - multipleOr\\n - comparator\\n - modifier\\n - chain\",\n",
    "    \"experimental\": false,\n",
    "    \"expression\": \"Practitioner.name\",\n",
    "    \"name\": \"USCorePractitionerName\",\n",
    "    \"publisher\": \"HL7 International - US Realm Steering Committee\",\n",
    "    \"status\": \"active\",\n",
    "    \"type\": \"string\",\n",
    "    \"url\": \"http://hl7.org/fhir/us/core/SearchParameter/us-core-practitioner-name\",\n",
    "    \"version\": \"4.0.1\",\n",
    "    \"xpath\": \"f:Practitioner/f:name\",\n",
    "    \"xpathUsage\": \"normal\",\n",
    "    \"resourceType\": \"SearchParameter\",\n",
    "    \"multipleOr\": true,\n",
    "    \"_multipleOr\": {\n",
    "        \"extension\": [\n",
    "            {\n",
    "                \"url\": \"http://hl7.org/fhir/StructureDefinition/capabilitystatement-expectation\",\n",
    "                \"valueCode\": \"MAY\"\n",
    "            }\n",
    "        ]\n",
    "    },\n",
    "    \"multipleAnd\": true,\n",
    "    \"_multipleAnd\": {\n",
    "        \"extension\": [\n",
    "            {\n",
    "                \"url\": \"http://hl7.org/fhir/StructureDefinition/capabilitystatement-expectation\",\n",
    "                \"valueCode\": \"MAY\"\n",
    "            }\n",
    "        ]\n",
    "    },\n",
    "    \"text\": {\n",
    "        \"div\": \"<div xmlns=\\\"http://www.w3.org/1999/xhtml\\\"><!--<h2>SearchParameter: USCorePractitionerName</h2>--><b> description</b> : <p><strong>A server defined search that may match any of the string fields in the HumanName, including family, give, prefix, suffix, suffix, and/or text</strong><br></br><strong>NOTE</strong>: This US Core SearchParameter definition extends the usage context of the\\n<a href=\\\"http://hl7.org/fhir/R4/extension-capabilitystatement-expectation.html\\\">Conformance expectation extension</a></p>\\n<ul><li>multipleAnd</li><li>multipleOr</li><li>comparator</li><li>modifier</li><li>chain</li></ul>\\n\\n\\t\\t\\t<br></br>\\n\\t\\t\\t<p><b> id</b> us-core-practitioner-name</p>\\n\\t\\t\\t<p><b> url</b> : <b> http://hl7.org/fhir/us/core/SearchParameter/us-core-practitioner-name</b>\\n\\t\\t\\t</p>\\n\\t\\t\\t<p><b> version</b> : 4.0.1</p>\\n\\t\\t\\t<p><b> name</b> : USCorePractitionerName</p>\\n\\t\\t\\t<p><b> derivedFrom</b> : http://hl7.org/fhir/SearchParameter/Practitioner-name\\n\\t\\t\\t</p>\\n\\t\\t\\t<p><b> status</b> : active</p>\\n\\t\\t\\t<p><b> experimental</b>  False</p>\\n\\t\\t\\t<p><b> date</b> : 2020-11-20</p>\\n\\t\\t\\t<p><b> publisher</b> : HL7 International - US Realm Steering Committee</p>\\n\\t\\t\\t<p><b> contact</b> : http://www.hl7.org/Special/committees/usrealm/index.cfm</p>\\n\\t\\t\\t<p><b> useContext</b> : </p>\\n\\t\\t\\t<p><b> jurisdiction</b> : United States of America (the) <span> (Details : {urn:iso:std:iso:3166 code 'US' = 'United States of America', given as 'United\\n           States of America (the)'})</span>\\n\\t\\t\\t</p>\\n\\t\\t\\t<!--\\n\\t<p>\\n\\t\\t<b> purpose</b> : Need to search by identifier for various infrastructural cases - mainly retrieving packages,\\n         and matching as part of a chain</p>\\n  -->\\n\\t\\t\\t<p><b> code</b> : <code>name</code>\\n\\t\\t\\t</p>\\n\\t\\t\\t<p><b> base</b> :Practitioner</p>\\n\\t\\t\\t<p><b> type</b> : string</p>\\n\\t\\t\\t<p><b> expression</b> : <code>Practitioner.name</code>\\n\\t\\t\\t</p>\\n\\t\\t\\t<p><b> xpath</b> : <code>f:Practitioner/f:name</code>\\n\\t\\t\\t</p>\\n\\t\\t\\t<p><b> xpathUsage</b> : normal</p>\\n\\t\\t\\t<p><b> mulitpleOr</b> : True   (Conformance Expectation = MAY)</p>\\n\\t\\t\\t<p><b> mulitpleAnd</b> : True  ( Conformance Expectation = MAY)</p>\\n    \\n    \\n    \\n\\t\\t</div>\",\n",
    "        \"status\": \"generated\"\n",
    "    }\n",
    "}'''\n",
    "\n",
    "d  = loads(test)\n",
    "\n",
    "\n",
    "print(d['description'])\n",
    "\n",
    "Display(Markdown(d['description']))\n",
    "\n"
   ]
  }
 ],
 "metadata": {
  "kernelspec": {
   "display_name": "Python 3",
   "language": "python",
   "name": "python3"
  },
  "language_info": {
   "codemirror_mode": {
    "name": "ipython",
    "version": 3
   },
   "file_extension": ".py",
   "mimetype": "text/x-python",
   "name": "python",
   "nbconvert_exporter": "python",
   "pygments_lexer": "ipython3",
   "version": "3.7.1"
  }
 },
 "nbformat": 4,
 "nbformat_minor": 2
}
