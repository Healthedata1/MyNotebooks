{
 "cells": [
  {
   "cell_type": "code",
   "execution_count": 12,
   "metadata": {},
   "outputs": [
    {
     "name": "stdout",
     "output_type": "stream",
     "text": [
      "['Condition.onset.as(dateTime) ', ' Condition.onset.as(Period)']\n",
      "======================================\n",
      "['Condition.onset.as(dateTime)', 'Condition.onset.as(Period)']\n"
     ]
    }
   ],
   "source": [
    "\n",
    "s = 'Condition.onset.as(dateTime) | Condition.onset.as(Period)'\n",
    "print(s.split('|'))\n",
    "\n",
    "print('======================================')\n",
    "\n",
    "print([substring.strip() for substring in s.split('|')])"
   ]
  },
  {
   "cell_type": "code",
   "execution_count": null,
   "metadata": {},
   "outputs": [],
   "source": []
  }
 ],
 "metadata": {
  "kernelspec": {
   "display_name": "Python 3",
   "language": "python",
   "name": "python3"
  },
  "language_info": {
   "codemirror_mode": {
    "name": "ipython",
    "version": 3
   },
   "file_extension": ".py",
   "mimetype": "text/x-python",
   "name": "python",
   "nbconvert_exporter": "python",
   "pygments_lexer": "ipython3",
   "version": "3.7.1"
  }
 },
 "nbformat": 4,
 "nbformat_minor": 2
}
