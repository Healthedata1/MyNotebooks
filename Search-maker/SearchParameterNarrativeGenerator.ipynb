{
 "cells": [
  {
   "cell_type": "markdown",
   "metadata": {},
   "source": [
    "## Add Custom Narrative to FHIR Search Parameter\n",
    "\n",
    "- Get SP from file\n",
    "- Generate Narrative from Jinja2 Template\n",
    "- Strip out any null values\n",
    "- Save SP back to file"
   ]
  },
  {
   "cell_type": "code",
   "execution_count": 9,
   "metadata": {},
   "outputs": [],
   "source": [
    "from json import dumps, loads, load\n",
    "from pathlib import Path\n",
    "from IPython.display import display as Display, HTML, Markdown\n",
    "from jinja2 import Environment, FileSystemLoader, select_autoescape\n",
    "from lxml import etree\n",
    "from fhir.resources import construct_fhir_element\n",
    "from commonmark import commonmark\n",
    "from datetime import datetime\n",
    "\n",
    "def json_serial(obj):\n",
    "    \"\"\"JSON serializer for datetime objects not serializable by default json code\"\"\"\n",
    "\n",
    "    if isinstance(obj, (datetime)):\n",
    "        return obj.strftime('%Y-%m-%d')\n",
    "    raise TypeError (\"Type %s not serializable\" % type(obj))"
   ]
  },
  {
   "cell_type": "markdown",
   "metadata": {},
   "source": [
    "### Get SP from file"
   ]
  },
  {
   "cell_type": "code",
   "execution_count": 10,
   "metadata": {},
   "outputs": [
    {
     "data": {
      "text/plain": [
       "{'resourceType': 'SearchParameter',\n",
       " 'id': 'us-core-patient-gender-identity',\n",
       " 'url': 'http://hl7.org/fhir/us/core/SearchParameter/us-core-patient-gender-identity',\n",
       " 'version': '4.1.0',\n",
       " 'name': 'USCorePatientGenderIdentity',\n",
       " 'status': 'active',\n",
       " 'date': datetime.datetime(2023, 4, 6, 20, 40, 41, 835158),\n",
       " 'publisher': 'HL7 International - Cross-Group Projects',\n",
       " 'contact': [{'name': 'HL7 International - Cross-Group Projects',\n",
       "   'telecom': [{'system': 'url',\n",
       "     'value': 'http://www.hl7.org/Special/committees/cgp'},\n",
       "    {'system': 'email', 'value': 'cgp@lists.HL7.org'}]}],\n",
       " 'description': 'Returns patients with an gender-identity extension matching the specified code.',\n",
       " 'jurisdiction': [{'coding': [{'system': 'urn:iso:std:iso:3166',\n",
       "     'code': 'US'}]}],\n",
       " 'code': 'gender-identity',\n",
       " 'base': ['Patient'],\n",
       " 'type': 'token',\n",
       " 'expression': \"Patient.extension.where(url='http://hl7.org/fhir/us/core/StructureDefinition/us-core-genderIdentity').value.coding.code\",\n",
       " 'xpath': \"f:Patient/f:extension[@url='http://hl7.org/fhir/us/core/StructureDefinition/us-core-genderIdentity']/f:value/f:coding/f:code/@value\",\n",
       " 'xpathUsage': 'normal',\n",
       " 'multipleOr': True,\n",
       " '_multipleOr': {'extension': [{'url': 'http://hl7.org/fhir/StructureDefinition/capabilitystatement-expectation',\n",
       "    'valueCode': 'MAY'}]},\n",
       " 'multipleAnd': True,\n",
       " '_multipleAnd': {'extension': [{'url': 'http://hl7.org/fhir/StructureDefinition/capabilitystatement-expectation',\n",
       "    'valueCode': 'MAY'}]}}"
      ]
     },
     "execution_count": 10,
     "metadata": {},
     "output_type": "execute_result"
    }
   ],
   "source": [
    "in_path = Path() / 'test' / 'in_sp.json' # temp path\n",
    "sp = loads(\n",
    "        in_path.read_text()\n",
    "    )\n",
    "sp['date'] = datetime.utcnow()  #convert to dateime object\n",
    "sp"
   ]
  },
  {
   "cell_type": "markdown",
   "metadata": {},
   "source": [
    "### Generate Narrative from Jinja2 Template"
   ]
  },
  {
   "cell_type": "code",
   "execution_count": 11,
   "metadata": {},
   "outputs": [
    {
     "data": {
      "text/html": [
       "<?xml version=\"1.0\"?>\n",
       "<!DOCTYPE html PUBLIC \"-//W3C//DTD XHTML 1.0 Transitional//EN\" \n",
       "\t\"http://www.w3.org/TR/xhtml1/DTD/xhtml1-transitional.dtd\">\n",
       "<html xmlns=\"http://www.w3.org/1999/xhtml\" xml:lang=\"en\" lang=\"en\">\n",
       "\t<head>\n",
       "\t\t<title>Enter your title here</title>\n",
       "\t</head>\n",
       "\t<body>\n",
       "\t\t<div xmlns=\"http://www.w3.org/1999/xhtml\">\n",
       "\t\t\t<!--<h2>SearchParameter: USCorePatientGenderIdentity</h2>\n",
       "\t\t\t\t<b> description</b> : <p>Returns patients with an gender-identity extension matching the specified code.</p>\n",
       "\n",
       "\t\t\t<br/>-->\n",
       "\t\t\t<p>\n",
       "\t\t\t\t<b> id</b> us-core-patient-gender-identity</p>\n",
       "\t\t\t<p>\n",
       "\t\t\t\t<b> url</b> : <b> http://hl7.org/fhir/us/core/SearchParameter/us-core-patient-gender-identity</b>\n",
       "\t\t\t</p>\n",
       "\t\t\t<p>\n",
       "\t\t\t\t<b> version</b> : 4.1.0</p>\n",
       "\t\t\t<p>\n",
       "\t\t\t\t<b> name</b> : USCorePatientGenderIdentity</p>\n",
       "\t\t\t\n",
       "\t\t\t<p>\n",
       "\t\t\t\t<b> status</b> : active</p>\n",
       "\t\t\t\n",
       "\t\t\t<p>\n",
       "\t\t\t\t<b> date</b> : 04/06/2023</p>\n",
       "\t\t\t<p>\n",
       "\t\t\t\t<b> publisher</b> : HL7 International - Cross-Group Projects</p>\n",
       "\t\t\t<p>\n",
       "\t\t\t\t<b> contact</b> : http://www.hl7.org/Special/committees/cgp</p>\n",
       "            <!--\n",
       "\t\t\t<p>\n",
       "\t\t\t\t<b> useContext</b> : </p>\n",
       "            -->\n",
       "\t\t\t<p>\n",
       "\t\t\t\t<b> jurisdiction</b> : United States of America (the) <span> (Details : {urn:iso:std:iso:3166 code 'US' = 'United States of America', given as 'United\n",
       "           States of America (the)'})</span>\n",
       "\t\t\t</p>\n",
       "\t\t\t<!--\n",
       "\t<p>\n",
       "\t\t<b> purpose</b> : Need to search by identifier for various infrastructural cases - mainly retrieving packages,\n",
       "         and matching as part of a chain</p>\n",
       "  -->\n",
       "\t\t\t<p>\n",
       "\t\t\t\t<b> code</b> : <code>gender-identity</code>\n",
       "\t\t\t</p>\n",
       "\t\t\t<p>\n",
       "\t\t\t\t<b> base</b> :Patient</p>\n",
       "\t\t\t<p>\n",
       "\t\t\t\t<b> type</b> : token</p>\n",
       "\t\t\t<p>\n",
       "\t\t\t\t<b> expression</b> : <code>Patient.extension.where(url=&#39;http://hl7.org/fhir/us/core/StructureDefinition/us-core-genderIdentity&#39;).value.coding.code</code>\n",
       "\t\t\t</p>\n",
       "\t\t\t<p>\n",
       "\t\t\t\t<b> xpath</b> : <code>f:Patient/f:extension[@url=&#39;http://hl7.org/fhir/us/core/StructureDefinition/us-core-genderIdentity&#39;]/f:value/f:coding/f:code/@value</code>\n",
       "\t\t\t</p>\n",
       "\t\t\t<p>\n",
       "\t\t\t\t<b> xpathUsage</b> : normal</p>\n",
       "                     \n",
       "\t\t\t<p>\n",
       "\t\t\t\t<b> mulitpleOr</b> : True   (Conformance Expectation = MAY)</p>\n",
       "\t\t\t<p>\n",
       "\t\t\t\t<b> mulitpleAnd</b> : True  ( Conformance Expectation = MAY)</p>\n",
       "    \n",
       "    \n",
       "    \n",
       "\t\t</div>\n",
       "\t</body>\n",
       "</html>"
      ],
      "text/plain": [
       "<IPython.core.display.HTML object>"
      ]
     },
     "metadata": {},
     "output_type": "display_data"
    }
   ],
   "source": [
    "def markdown(text, *args, **kwargs):\n",
    "    return commonmark(text, *args, **kwargs)\n",
    "\n",
    "env = Environment(\n",
    "    loader=FileSystemLoader(searchpath = ''),\n",
    "    autoescape=select_autoescape(['html','xml','xhtml','j2','md'])\n",
    "    )\n",
    "\n",
    "\n",
    "env.filters['markdown'] = markdown\n",
    "\n",
    "template = env.get_template('sp_narrative.j2')  \n",
    "\n",
    "rendered = template.render(sp=sp)\n",
    "display(HTML(rendered))\n",
    "\n",
    "\n",
    "parser = etree.XMLParser(remove_blank_text=True)\n",
    "root = etree.fromstring(rendered, parser=parser)\n",
    "\n",
    "div = (etree.tostring(root[1][0], encoding='unicode', method='html'))\n",
    "\n",
    "my_obj = dict(\n",
    "            status = 'generated',\n",
    "            div = div\n",
    "            )\n",
    "            \n",
    "narr = construct_fhir_element('Narrative', my_obj)\n",
    "\n",
    "sp['text'] = narr.dict()"
   ]
  },
  {
   "cell_type": "markdown",
   "metadata": {},
   "source": [
    "### Save SP back to file"
   ]
  },
  {
   "cell_type": "code",
   "execution_count": 12,
   "metadata": {},
   "outputs": [
    {
     "data": {
      "text/plain": [
       "3521"
      ]
     },
     "execution_count": 12,
     "metadata": {},
     "output_type": "execute_result"
    }
   ],
   "source": [
    "out_path = Path() / 'test' / 'out_sp.json' # temp path\n",
    "out_path.write_text(dumps(sp, indent = 2, default=json_serial))"
   ]
  },
  {
   "cell_type": "code",
   "execution_count": null,
   "metadata": {},
   "outputs": [],
   "source": []
  }
 ],
 "metadata": {
  "kernelspec": {
   "display_name": "jupyter",
   "language": "python",
   "name": "python3"
  },
  "language_info": {
   "codemirror_mode": {
    "name": "ipython",
    "version": 3
   },
   "file_extension": ".py",
   "mimetype": "text/x-python",
   "name": "python",
   "nbconvert_exporter": "python",
   "pygments_lexer": "ipython3",
   "version": "3.10.2"
  },
  "vscode": {
   "interpreter": {
    "hash": "18672f2fb81dcbb023a0ac48a86c775a19488782369d96ffbd3382a22fd285cf"
   }
  }
 },
 "nbformat": 4,
 "nbformat_minor": 4
}
