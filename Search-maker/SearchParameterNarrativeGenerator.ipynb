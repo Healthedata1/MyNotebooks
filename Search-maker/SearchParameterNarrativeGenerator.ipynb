{
 "cells": [
  {
   "cell_type": "markdown",
   "metadata": {},
   "source": [
    "## Add Custom Narrative to FHIR Search Parameter\n",
    "\n",
    "- Get SP from file\n",
    "- Generate Narrative from Jinja2 Template\n",
    "- Strip out any null values\n",
    "- Save SP back to file"
   ]
  },
  {
   "cell_type": "code",
   "execution_count": 1,
   "metadata": {},
   "outputs": [],
   "source": [
    "from json import dumps, loads, load\n",
    "from pathlib import Path\n",
    "from IPython.display import display as Display, HTML, Markdown\n",
    "from jinja2 import Environment, FileSystemLoader, select_autoescape\n",
    "from lxml import etree\n",
    "from fhirclient.r4models import narrative as N\n",
    "from commonmark import commonmark"
   ]
  },
  {
   "cell_type": "markdown",
   "metadata": {},
   "source": [
    "### Get SP from file"
   ]
  },
  {
   "cell_type": "code",
   "execution_count": 2,
   "metadata": {},
   "outputs": [],
   "source": [
    "in_path = Path() / 'test' / 'in_sp.json' # temp path\n",
    "sp = loads(\n",
    "        in_path.read_text()\n",
    "    )"
   ]
  },
  {
   "cell_type": "markdown",
   "metadata": {},
   "source": [
    "### Generate Narrative from Jinja2 Template"
   ]
  },
  {
   "cell_type": "code",
   "execution_count": 3,
   "metadata": {},
   "outputs": [
    {
     "data": {
      "text/html": [
       "<?xml version=\"1.0\"?>\n",
       "<!DOCTYPE html PUBLIC \"-//W3C//DTD XHTML 1.0 Transitional//EN\" \n",
       "\t\"http://www.w3.org/TR/xhtml1/DTD/xhtml1-transitional.dtd\">\n",
       "<html xmlns=\"http://www.w3.org/1999/xhtml\" xml:lang=\"en\" lang=\"en\">\n",
       "\t<head>\n",
       "\t\t<title>Enter your title here</title>\n",
       "\t</head>\n",
       "\t<body>\n",
       "\t\t<div xmlns=\"http://www.w3.org/1999/xhtml\">\n",
       "\t\t\t<!--<h2>SearchParameter: USCoreGoalDescription</h2>-->\n",
       "\t\t\t\t<b> description</b> : <p><strong>The code or text describing the goal</strong>\n",
       "<strong>NOTE</strong>: This US Core SearchParameter definition extends the usage context of the\n",
       "<a href=\"http://hl7.org/fhir/R4/extension-capabilitystatement-expectation.html\">Conformance expectation extension</a></p>\n",
       "<ul>\n",
       "<li>multipleAnd</li>\n",
       "<li>multipleOr</li>\n",
       "<li>comparator</li>\n",
       "<li>modifier</li>\n",
       "<li>chain</li>\n",
       "</ul>\n",
       "\n",
       "\t\t\t<br/>\n",
       "\t\t\t<p>\n",
       "\t\t\t\t<b> id</b> us-core-goal-description</p>\n",
       "\t\t\t<p>\n",
       "\t\t\t\t<b> url</b> : <b> http://hl7.org/fhir/us/core/SearchParameter/us-core-goal-description</b>\n",
       "\t\t\t</p>\n",
       "\t\t\t<p>\n",
       "\t\t\t\t<b> version</b> : 4.1.0</p>\n",
       "\t\t\t<p>\n",
       "\t\t\t\t<b> name</b> : USCoreGoalDescription</p>\n",
       "\t\t\t\n",
       "\t\t\t<p>\n",
       "\t\t\t\t<b> status</b> : active</p>\n",
       "\t\t\t\n",
       "\t\t\t<p>\n",
       "\t\t\t\t<b> date</b> : 2021-11-12</p>\n",
       "\t\t\t<p>\n",
       "\t\t\t\t<b> publisher</b> : HL7 International - US Realm Steering Committee</p>\n",
       "\t\t\t<p>\n",
       "\t\t\t\t<b> contact</b> : http://www.hl7.org/Special/committees/usrealm/index.cfm</p>\n",
       "            <!--\n",
       "\t\t\t<p>\n",
       "\t\t\t\t<b> useContext</b> : </p>\n",
       "            -->\n",
       "\t\t\t<p>\n",
       "\t\t\t\t<b> jurisdiction</b> : United States of America (the) <span> (Details : {urn:iso:std:iso:3166 code 'US' = 'United States of America', given as 'United\n",
       "           States of America (the)'})</span>\n",
       "\t\t\t</p>\n",
       "\t\t\t<!--\n",
       "\t<p>\n",
       "\t\t<b> purpose</b> : Need to search by identifier for various infrastructural cases - mainly retrieving packages,\n",
       "         and matching as part of a chain</p>\n",
       "  -->\n",
       "\t\t\t<p>\n",
       "\t\t\t\t<b> code</b> : <code>description</code>\n",
       "\t\t\t</p>\n",
       "\t\t\t<p>\n",
       "\t\t\t\t<b> base</b> :Goal</p>\n",
       "\t\t\t<p>\n",
       "\t\t\t\t<b> type</b> : token</p>\n",
       "\t\t\t<p>\n",
       "\t\t\t\t<b> expression</b> : <code>Goal.description</code>\n",
       "\t\t\t</p>\n",
       "\t\t\t<p>\n",
       "\t\t\t\t<b> xpath</b> : <code>f:Goal/f:description</code>\n",
       "\t\t\t</p>\n",
       "\t\t\t<p>\n",
       "\t\t\t\t<b> xpathUsage</b> : normal</p>\n",
       "\t\t\t<p>\n",
       "\t\t\t\t<b> mulitpleOr</b> : True   (Conformance Expectation = MAY)</p>\n",
       "\t\t\t<p>\n",
       "\t\t\t\t<b> mulitpleAnd</b> : True  ( Conformance Expectation = MAY)</p>\n",
       "    \n",
       "    \n",
       "    \n",
       "\t\t</div>\n",
       "\t</body>\n",
       "</html>"
      ],
      "text/plain": [
       "<IPython.core.display.HTML object>"
      ]
     },
     "metadata": {},
     "output_type": "display_data"
    }
   ],
   "source": [
    "def markdown(text, *args, **kwargs):\n",
    "    return commonmark(text, *args, **kwargs)\n",
    "\n",
    "env = Environment(\n",
    "    loader=FileSystemLoader(searchpath = ''),\n",
    "    autoescape=select_autoescape(['html','xml','xhtml','j2','md'])\n",
    "    )\n",
    "\n",
    "\n",
    "env.filters['markdown'] = markdown\n",
    "\n",
    "template = env.get_template('sp_narrative.j2')  \n",
    "\n",
    "rendered = template.render(sp=sp)\n",
    "display(HTML(rendered))\n",
    "\n",
    "\n",
    "parser = etree.XMLParser(remove_blank_text=True)\n",
    "root = etree.fromstring(rendered, parser=parser)\n",
    "\n",
    "div = (etree.tostring(root[1][0], encoding='unicode', method='html'))\n",
    "\n",
    "narr = N.Narrative()\n",
    "narr.status = 'generated'\n",
    "narr.div = div\n",
    "\n",
    "sp['text'] = narr.as_json()"
   ]
  },
  {
   "cell_type": "markdown",
   "metadata": {},
   "source": [
    "### Save SP back to file"
   ]
  },
  {
   "cell_type": "code",
   "execution_count": 4,
   "metadata": {},
   "outputs": [
    {
     "data": {
      "text/plain": [
       "3722"
      ]
     },
     "execution_count": 4,
     "metadata": {},
     "output_type": "execute_result"
    }
   ],
   "source": [
    "out_path = Path() / 'test' / 'out_sp.json' # temp path\n",
    "out_path.write_text(dumps(sp, indent = 2))"
   ]
  },
  {
   "cell_type": "code",
   "execution_count": null,
   "metadata": {},
   "outputs": [],
   "source": []
  }
 ],
 "metadata": {
  "kernelspec": {
   "display_name": "Python 3.7.3 64-bit ('venv37': venv)",
   "language": "python",
   "name": "python37364bitvenv37venv2b400d68decb43d5b2206c004a019450"
  },
  "language_info": {
   "codemirror_mode": {
    "name": "ipython",
    "version": 3
   },
   "file_extension": ".py",
   "mimetype": "text/x-python",
   "name": "python",
   "nbconvert_exporter": "python",
   "pygments_lexer": "ipython3",
   "version": "3.7.3"
  }
 },
 "nbformat": 4,
 "nbformat_minor": 4
}
