{
 "cells": [
  {
   "attachments": {},
   "cell_type": "markdown",
   "metadata": {},
   "source": [
    "## Compare Profiles Between IGs\n",
    "\n",
    "This uses the validator to validate a set of profiles:\n",
    "\n",
    "- inputs:\n",
    "  - profiles to validate against\n",
    "  - example instances to validate\n",
    " \n",
    "- output are validation results\n",
    "\n",
    "---\n",
    "### Instructions (https://confluence.hl7.org/display/FHIR/Using+the+FHIR+Validator)\n",
    "\n",
    "- download the latest version of the validator from\n",
    "https://github.com/hapifhir/org.hl7.fhir.core/releases/latest/download/validator_cli.jar\n",
    "\n",
    "#### Running the validator\n",
    "\n",
    "The validator takes a series of parameters that indicate the resources to validator. There must be at at least one source param.\n",
    "\n",
    "Each source parameter can contain either:\n",
    "\n",
    "- a URL that returns the resource to validate (authentication is not supported)\n",
    "- a filename (relative to the current directory, or absolute)\n",
    "- a directory that contains resources to validate (all files are validated if they are recognised as resources)\n",
    "- a pattern: a directory followed by a filename with an embedded asterisk. E.g. foo*-examples.xml or someresource.*, etc\n",
    "\n",
    "   ~~~\n",
    "   java -jar validator_cli.jar\n",
    "   [source]\n",
    "   -version 4.0 \n",
    "   -ig hl7.fhir.us.core#1.0.1\n",
    "   -output c:\\temp\\validation.xml\n",
    "   ~~~\n",
    "\n",
    "   **Parameters Explanation:**\n",
    "\n",
    "   - -output: a file will be created to contain the output. The file will contain an OperationOutcome, or if more than one resource is found, a Bundle of OperationOutcome resources (You can specify an output style that changes the text that's displayed to std out using the -output-style parameter)\n",
    "   - -ig parameters: Validating against an implementation guide The validator can validate against an implementation guide. Do this involves 2 steps:\n",
    "\n",
    "#### What to validate against\n",
    "Use the -profile parameter to tell the validator what to validate against:\n",
    "\n",
    " java -jar validator_cli.jar c:\\temp\\patient.xml -version 3.0 -ig hl7.fhir.us.core#1.0.1 -profile http://hl7.org/fhir/us/core/StructureDefinition/us-core-patient\n",
    " \n",
    "The -profile parameter is the canonical URL for the profile you wish to validate against. This is usually clearly specified on the page where the profile is published. If the profile you specify has not been loaded through one of the implementation guides, the validator will try and load it directly from the canonical url, but it's better to load it with an -ig parameter first."
   ]
  },
  {
   "cell_type": "markdown",
   "metadata": {
    "vscode": {
     "languageId": "shellscript"
    }
   },
   "source": [
    "### convert this to python script using a csv as input\n",
    " - will need to iterate for each artifact to be compared \n"
   ]
  },
  {
   "cell_type": "code",
   "execution_count": 1,
   "metadata": {},
   "outputs": [
    {
     "data": {
      "text/plain": [
       "('/Users/ehaas/Documents/Python/Jupyter/MyNotebooks/Validator_Tools/out/validation.html',\n",
       " '/Users/ehaas/Downloads/validator_cli.jar',\n",
       " 'hl7.fhir.us.davinci-cdex#2.0.0',\n",
       " 'http://hl7.org/fhir/us/davinci-cdex/StructureDefinition/cdex-task-attachment-request')"
      ]
     },
     "execution_count": 1,
     "metadata": {},
     "output_type": "execute_result"
    }
   ],
   "source": [
    "\n",
    "\n",
    "path='/Users/ehaas/Downloads/validator_cli.jar' # path to publisher\n",
    "IN = 'in/PAS-Task.json' #path to the resource to validate\n",
    "#IG1='hl7.fhir.uv.ipa#current' # path to IG Package 1 = IPA CI build\n",
    "#IG2='hl7.fhir.us.core#3.1.1' # path to IG Package 2 = US Core\n",
    "# IG ='hl7.fhir.us.core#4.0.0' # path to IG = US Core\n",
    "IG = 'hl7.fhir.us.davinci-cdex#2.0.0' #  CDEX\n",
    "PROFILE = 'http://hl7.org/fhir/us/davinci-cdex/StructureDefinition/cdex-task-attachment-request'\n",
    "OUT='/Users/ehaas/Documents/Python/Jupyter/MyNotebooks/Validator_Tools/out/validation.html' # path to the root destination folder for individual compare folders\n",
    "VERSION='4.0.1' # version of FHIR to use\n",
    "# LEFT='http://hl7.org/fhir/uv/ipa/StructureDefinition/ipa-patient'\n",
    "# RIGHT='http://hl7.org/fhir/us/core/StructureDefinition/us-core-patient'\n",
    "# LFILENAME=LEFT.split('/')[-1]\n",
    "# RFILENAME=RIGHT.split('/')[-1]\n",
    "FILENAME='PAS=Task'\n",
    "\n",
    "OUT, path, IG, PROFILE"
   ]
  },
  {
   "attachments": {},
   "cell_type": "markdown",
   "metadata": {},
   "source": [
    "### run the validator to compare profiles\n",
    "\n",
    "~~~\n",
    "java -Xmx4G -jar $path -version $VERSION -ig $IG -profile $PROFILE -output  $OUT\n",
    "~~~\n",
    "\n",
    "### passing variables between bash and python\n",
    "\n",
    "~~~\n",
    "a=10\n",
    "b=20\n",
    "\n",
    "~~~\n",
    "\n",
    "~~~\n",
    "%%bash -s $a $b --out c\n",
    "echo \"this is displayed\"\n",
    "echo \"the last thing printed to stdout will be passed back in the variable c\"\n",
    "echo \"a + b = $(($1+$2))\"\n",
    "~~~~\n",
    "\n",
    "~~~\n",
    "print(c)\n",
    "~~~\n",
    "this is displayed\n",
    "the last thing printed to stdout will be passed back in the variable c\n",
    "a + b = 30"
   ]
  },
  {
   "cell_type": "code",
   "execution_count": 2,
   "metadata": {},
   "outputs": [
    {
     "name": "stdout",
     "output_type": "stream",
     "text": [
      "/Users/ehaas/Downloads/validator_cli.jar in/PAS-Task.json /Users/ehaas/Documents/Python/Jupyter/MyNotebooks/Validator_Tools/out/validation.html 4.0.1 hl7.fhir.us.davinci-cdex#2.0.0\n",
      "java -Xmx4G -jar /Users/ehaas/Downloads/validator_cli.jar in/PAS-Task.json -version 4.0.1 -ig hl7.fhir.us.davinci-cdex#2.0.0 -html-output /Users/ehaas/Documents/Python/Jupyter/MyNotebooks/Validator_Tools/out/validation.html\n",
      "FHIR Validation tool Version 6.2.0 (Git# 7c3863c6ad96). Built 2023-10-24T23:02:29.602Z (23 hours old)\n",
      "  Java:   17.0.2 from /Library/Java/JavaVirtualMachines/jdk-17.0.2.jdk/Contents/Home on aarch64 (64bit). 4096MB available\n",
      "  Paths:  Current = /Users/ehaas/Documents/Python/Jupyter/MyNotebooks/Validator_Tools, Package Cache = /Users/ehaas/.fhir/packages\n",
      "  Params: in/PAS-Task.json -version 4.0.1 -ig hl7.fhir.us.davinci-cdex#2.0.0 -html-output /Users/ehaas/Documents/Python/Jupyter/MyNotebooks/Validator_Tools/out/validation.html\n",
      "  Locale: United States/US\n",
      "  Jurisdiction: United States of America\n",
      "Loading\n",
      "  Load FHIR v4.0 from hl7.fhir.r4.core#4.0.1 - 4576 resources (00:04.208)\n",
      "  Load hl7.fhir.uv.extensions.r4#1.0.0 - 1328 resources (00:01.695)\n",
      "  Load hl7.terminology#5.3.0 - 4201 resources (00:01.072)\n",
      "  Load hl7.terminology.r5#5.0.0 - 4174 resources (00:00.614)\n",
      "  Load hl7.fhir.uv.extensions#1.0.0 - 1328 resources (00:01.236)\n",
      "  Terminology server http://tx.fhir.org - Version 3.0.0 (00:00.736)\n",
      "  Load hl7.terminology.r4#5.0.0 - 4174 resources (00:00.546)\n",
      "  Load hl7.fhir.us.core#3.1.1 - 145 resources (00:00.221)\n",
      "  Load hl7.fhir.us.udap-security#0.1.0 - 1 resources (00:00.014)\n",
      "  Load hl7.fhir.us.davinci-hrex#1.0.0 - 25 resources (00:00.101)\n",
      "  Load hl7.fhir.us.davinci-pas#1.2.0-ballot - 80 resources (00:00.363)\n",
      "  Load us.nlm.vsac#0.7.0 - 12403 resources (00:00.310)\n",
      "  Load hl7.fhir.us.carin-bb#2.0.0 - 90 resources (00:00.344)\n",
      "  Load hl7.fhir.r4.examples#4.0.1 - 4582 resources (00:02.887)\n",
      "  Load hl7.fhir.uv.sdc#3.0.0-preview - 137 resources (00:00.333)\n",
      "  Load hl7.fhir.us.davinci-dtr#1.1.0-ballot - 11 resources (00:00.053)\n",
      "  Load hl7.fhir.uv.sdc#3.0.0 - 137 resources (00:00.351)\n",
      "  Load hl7.fhir.us.davinci-cdex#2.0.0 - 21 resources (00:00.086)\n",
      "  Package Summary: [hl7.fhir.r4.core#4.0.1, hl7.fhir.xver-extensions#0.0.12, hl7.fhir.uv.extensions.r4#1.0.0, hl7.terminology#5.3.0, hl7.terminology.r5#5.0.0, hl7.fhir.uv.extensions#1.0.0, hl7.terminology.r4#5.0.0, hl7.fhir.us.core#3.1.1, hl7.fhir.us.udap-security#0.1.0, hl7.fhir.us.davinci-hrex#1.0.0, hl7.fhir.us.davinci-pas#1.2.0-ballot, us.nlm.vsac#0.7.0, hl7.fhir.us.carin-bb#2.0.0, hl7.fhir.r4.examples#4.0.1, hl7.fhir.uv.sdc#3.0.0-preview, hl7.fhir.us.davinci-dtr#1.1.0-ballot, hl7.fhir.uv.sdc#3.0.0, hl7.fhir.us.davinci-cdex#2.0.0]\n",
      "  Get set...  go (00:00.264)\n",
      "Validating\n",
      "  Validate in/PAS-Task.json\n",
      "Validate StructureDefinition against http://hl7.org/fhir/StructureDefinition/StructureDefinition|4.0.1.........Can't find Extension definition for http://hl7.org/fhir/us/davinci-pas/StructureDefinition/extension-paLineNumber but trying to go on\n",
      "Can't find Extension definition for http://hl7.org/fhir/us/davinci-pas/StructureDefinition/extension-paLineNumber but trying to go on\n",
      ".20......  Load hl7.fhir.us.davinci-pas#1.2.0-ballot - 0 resources (00:01.528)\n",
      "....40..........60..........80.........Can't find Extension definition for http://hl7.org/fhir/us/davinci-pas/StructureDefinition/extension-paLineNumber but trying to go on\n",
      "Can't find Extension definition for http://hl7.org/fhir/us/davinci-pas/StructureDefinition/extension-paLineNumber but trying to go on\n",
      "Unable to resolve value set \"http://hl7.org/fhir/us/davinci-pas/ValueSet/PASTaskCodes\"\n",
      "Unable to resolve value set \"http://hl7.org/fhir/us/davinci-pas/ValueSet/AttachmentRequestCodes\"\n",
      "|\n",
      " 00:01.057\n",
      "Done. Times: Loading: 00:15.612, validation: 00:02.585. Memory = 1Gb\n",
      "\n",
      "*FAILURE*: 9 errors, 7 warnings, 4 notes\n",
      "  Error @ StructureDefinition (line 1, col2): When HL7 is publishing a resource, the owning committee must be stated using the http://hl7.org/fhir/StructureDefinition/structuredefinition-wg extension\n",
      "  Error @ StructureDefinition.differential.element[11].pattern.ofType(CodeableConcept).coding[0] (line 167, col26): Unknown Code System 'http://hl7.org/fhir/us/davinci-pas/CodeSystem/PASTempCodes'\n",
      "  Error @ StructureDefinition.differential.element[16].pattern.ofType(CodeableConcept).coding[0] (line 222, col26): Unknown Code System 'http://hl7.org/fhir/us/davinci-pas/CodeSystem/PASTempCodes'\n",
      "  Error @ StructureDefinition.differential.element[21].pattern.ofType(CodeableConcept).coding[0] (line 280, col26): Unknown Code System 'http://hl7.org/fhir/us/davinci-pas/CodeSystem/PASTempCodes'\n",
      "  Error @ StructureDefinition.differential.element[26].pattern.ofType(CodeableConcept).coding[0] (line 342, col26): Unknown Code System 'http://hl7.org/fhir/us/davinci-pas/CodeSystem/PASTempCodes'\n",
      "  Error @ StructureDefinition.differential.element[11].pattern.ofType(CodeableConcept).coding[0].system (line 168, col99): URL value 'http://hl7.org/fhir/us/davinci-pas/CodeSystem/PASTempCodes' does not resolve\n",
      "  Error @ StructureDefinition.differential.element[16].pattern.ofType(CodeableConcept).coding[0].system (line 223, col99): URL value 'http://hl7.org/fhir/us/davinci-pas/CodeSystem/PASTempCodes' does not resolve\n",
      "  Error @ StructureDefinition.differential.element[21].pattern.ofType(CodeableConcept).coding[0].system (line 281, col99): URL value 'http://hl7.org/fhir/us/davinci-pas/CodeSystem/PASTempCodes' does not resolve\n",
      "  Error @ StructureDefinition.differential.element[26].pattern.ofType(CodeableConcept).coding[0].system (line 343, col99): URL value 'http://hl7.org/fhir/us/davinci-pas/CodeSystem/PASTempCodes' does not resolve\n",
      "  Information @ StructureDefinition.differential.element[5].binding.valueSet (line 118, col91): Canonical URL 'http://hl7.org/fhir/us/davinci-pas/ValueSet/PASTaskCodes' does not resolve\n",
      "  Information @ StructureDefinition.differential.element[20].type[0].profile[0] (line 270, col108): Canonical URL 'http://hl7.org/fhir/us/davinci-pas/StructureDefinition/extension-paLineNumber' does not resolve\n",
      "  Information @ StructureDefinition.differential.element[22].binding.valueSet (line 297, col101): Canonical URL 'http://hl7.org/fhir/us/davinci-pas/ValueSet/AttachmentRequestCodes' does not resolve\n",
      "  Information @ StructureDefinition.differential.element[25].type[0].profile[0] (line 332, col108): Canonical URL 'http://hl7.org/fhir/us/davinci-pas/StructureDefinition/extension-paLineNumber' does not resolve\n",
      "  Warning @ StructureDefinition.differential.element[22].binding: The valueSet reference http://hl7.org/fhir/us/davinci-pas/ValueSet/AttachmentRequestCodes on element Task.input.value[x] could not be resolved\n",
      "  Warning @ StructureDefinition.differential.element[5].binding: The valueSet reference http://hl7.org/fhir/us/davinci-pas/ValueSet/PASTaskCodes on element Task.code could not be resolved\n",
      "  Warning @ StructureDefinition.snapshot.element[71]: The type of profile http://hl7.org/fhir/us/davinci-pas/StructureDefinition/extension-paLineNumber cannot be checked as the profile is not known\n",
      "  Warning @ StructureDefinition.snapshot.element[78]: The type of profile http://hl7.org/fhir/us/davinci-pas/StructureDefinition/extension-paLineNumber cannot be checked as the profile is not known\n",
      "  Warning @ StructureDefinition.differential.element[20].type[0].profile[0]: Unable to resolve profile http://hl7.org/fhir/us/davinci-pas/StructureDefinition/extension-paLineNumber\n",
      "  Warning @ StructureDefinition.differential.element[25].type[0].profile[0]: Unable to resolve profile http://hl7.org/fhir/us/davinci-pas/StructureDefinition/extension-paLineNumber\n",
      "  Warning @ StructureDefinition (line 1, col2): Constraint failed: dom-6: 'A resource should have narrative for robust management' (defined in http://hl7.org/fhir/StructureDefinition/DomainResource) (Best Practice Recommendation)\n",
      "HTML Summary in /Users/ehaas/Documents/Python/Jupyter/MyNotebooks/Validator_Tools/out/validation.html\n",
      "Done. Times: Loading: 00:15.612, validation: 00:02.585. Max Memory = 4Gb\n"
     ]
    },
    {
     "ename": "CalledProcessError",
     "evalue": "Command 'b'echo $1 $2 $3 $4 $5\\necho \"java -Xmx4G -jar $1 $2 -version $4 -ig $5 -html-output $3\"\\njava -Xmx4G -jar $1 $2 -version $4 -ig $5 -html-output $3\\n'' returned non-zero exit status 1.",
     "output_type": "error",
     "traceback": [
      "\u001b[0;31m---------------------------------------------------------------------------\u001b[0m",
      "\u001b[0;31mCalledProcessError\u001b[0m                        Traceback (most recent call last)",
      "\u001b[1;32m/Users/ehaas/Documents/Python/Jupyter/MyNotebooks/Validator_Tools/profile-comparer-script.ipynb Cell 5\u001b[0m line \u001b[0;36m<cell line: 1>\u001b[0;34m()\u001b[0m\n\u001b[0;32m----> <a href='vscode-notebook-cell:/Users/ehaas/Documents/Python/Jupyter/MyNotebooks/Validator_Tools/profile-comparer-script.ipynb#W4sZmlsZQ%3D%3D?line=0'>1</a>\u001b[0m get_ipython()\u001b[39m.\u001b[39;49mrun_cell_magic(\u001b[39m'\u001b[39;49m\u001b[39mbash\u001b[39;49m\u001b[39m'\u001b[39;49m, \u001b[39m'\u001b[39;49m\u001b[39m-s $path $IN $OUT $VERSION $IG\u001b[39;49m\u001b[39m'\u001b[39;49m, \u001b[39m'\u001b[39;49m\u001b[39mecho $1 $2 $3 $4 $5\u001b[39;49m\u001b[39m\\n\u001b[39;49;00m\u001b[39mecho \u001b[39;49m\u001b[39m\"\u001b[39;49m\u001b[39mjava -Xmx4G -jar $1 $2 -version $4 -ig $5 -html-output $3\u001b[39;49m\u001b[39m\"\u001b[39;49m\u001b[39m\\n\u001b[39;49;00m\u001b[39mjava -Xmx4G -jar $1 $2 -version $4 -ig $5 -html-output $3\u001b[39;49m\u001b[39m\\n\u001b[39;49;00m\u001b[39m'\u001b[39;49m)\n",
      "File \u001b[0;32m~/.pyenv/versions/3.10.2/envs/jupyter/lib/python3.10/site-packages/IPython/core/interactiveshell.py:2338\u001b[0m, in \u001b[0;36mInteractiveShell.run_cell_magic\u001b[0;34m(self, magic_name, line, cell)\u001b[0m\n\u001b[1;32m   2336\u001b[0m \u001b[39mwith\u001b[39;00m \u001b[39mself\u001b[39m\u001b[39m.\u001b[39mbuiltin_trap:\n\u001b[1;32m   2337\u001b[0m     args \u001b[39m=\u001b[39m (magic_arg_s, cell)\n\u001b[0;32m-> 2338\u001b[0m     result \u001b[39m=\u001b[39m fn(\u001b[39m*\u001b[39;49margs, \u001b[39m*\u001b[39;49m\u001b[39m*\u001b[39;49mkwargs)\n\u001b[1;32m   2339\u001b[0m \u001b[39mreturn\u001b[39;00m result\n",
      "File \u001b[0;32m~/.pyenv/versions/3.10.2/envs/jupyter/lib/python3.10/site-packages/IPython/core/magics/script.py:153\u001b[0m, in \u001b[0;36mScriptMagics._make_script_magic.<locals>.named_script_magic\u001b[0;34m(line, cell)\u001b[0m\n\u001b[1;32m    151\u001b[0m \u001b[39melse\u001b[39;00m:\n\u001b[1;32m    152\u001b[0m     line \u001b[39m=\u001b[39m script\n\u001b[0;32m--> 153\u001b[0m \u001b[39mreturn\u001b[39;00m \u001b[39mself\u001b[39;49m\u001b[39m.\u001b[39;49mshebang(line, cell)\n",
      "File \u001b[0;32m~/.pyenv/versions/3.10.2/envs/jupyter/lib/python3.10/site-packages/IPython/core/magics/script.py:305\u001b[0m, in \u001b[0;36mScriptMagics.shebang\u001b[0;34m(self, line, cell)\u001b[0m\n\u001b[1;32m    300\u001b[0m \u001b[39mif\u001b[39;00m args\u001b[39m.\u001b[39mraise_error \u001b[39mand\u001b[39;00m p\u001b[39m.\u001b[39mreturncode \u001b[39m!=\u001b[39m \u001b[39m0\u001b[39m:\n\u001b[1;32m    301\u001b[0m     \u001b[39m# If we get here and p.returncode is still None, we must have\u001b[39;00m\n\u001b[1;32m    302\u001b[0m     \u001b[39m# killed it but not yet seen its return code. We don't wait for it,\u001b[39;00m\n\u001b[1;32m    303\u001b[0m     \u001b[39m# in case it's stuck in uninterruptible sleep. -9 = SIGKILL\u001b[39;00m\n\u001b[1;32m    304\u001b[0m     rc \u001b[39m=\u001b[39m p\u001b[39m.\u001b[39mreturncode \u001b[39mor\u001b[39;00m \u001b[39m-\u001b[39m\u001b[39m9\u001b[39m\n\u001b[0;32m--> 305\u001b[0m     \u001b[39mraise\u001b[39;00m CalledProcessError(rc, cell)\n",
      "\u001b[0;31mCalledProcessError\u001b[0m: Command 'b'echo $1 $2 $3 $4 $5\\necho \"java -Xmx4G -jar $1 $2 -version $4 -ig $5 -html-output $3\"\\njava -Xmx4G -jar $1 $2 -version $4 -ig $5 -html-output $3\\n'' returned non-zero exit status 1."
     ]
    }
   ],
   "source": [
    "%%bash -s $path $IN $OUT $VERSION $IG\n",
    "echo $1 $2 $3 $4 $5\n",
    "echo \"java -Xmx4G -jar $1 $2 -version $4 -ig $5 -html-output $3\"\n",
    "java -Xmx4G -jar $1 $2 -version $4 -ig $5 -html-output $3"
   ]
  },
  {
   "attachments": {},
   "cell_type": "markdown",
   "metadata": {},
   "source": [
    "### open output file will and display as HTML"
   ]
  },
  {
   "cell_type": "code",
   "execution_count": 3,
   "metadata": {},
   "outputs": [
    {
     "data": {
      "text/html": [
       "<!DOCTYPE HTML>\n",
       "<html xmlns=\"http://www.w3.org/1999/xhtml\" xml:lang=\"en\" lang=\"en\">\n",
       "<head>\n",
       "  <title>Validation Results</title>\n",
       "  <link href=\"http://hl7.org/fhir/fhir.css\" rel=\"stylesheet\"/>\n",
       "  <style>\n",
       "    span.flip  { background-color: #4CAF50; color: white; border: solid 1px #a6d8a8; padding: 2px }\n",
       "  </style>\n",
       "  <script>\n",
       "    function flip(id) {\n",
       "      var span = document.getElementById('s'+id);\n",
       "      var div = document.getElementById(id);\n",
       "      if (document.getElementById('s'+id).innerHTML == 'Show Reasoning') {\n",
       "        div.style.display = 'block';\n",
       "        span.innerHTML = 'Hide Reasoning';\n",
       "      } else {\n",
       "        div.style.display = 'none';\n",
       "        span.innerHTML = 'Show Reasoning';\n",
       "      }\n",
       "    }\n",
       "  </script>\n",
       "</head>\n",
       "<body style=\"margin: 20px; background-color: #ffffff\">\n",
       " <h1>Validation Results</h1>\n",
       " <p>9 errors, 7 warnings, 4 hints. Generated Oct 25, 2023, 3:15:59 PM by Validator Version 6.2.0 (Git# 7c3863c6ad96). Built 2023-10-24T23:02:29.602Z (23 hours old) (2594ms)</p>\n",
       " <table class=\"grid\">\n",
       "   <tr>\n",
       "     <td><b>Filename</b></td><td><b>Errors</b></td><td><b>Warnings</b></td><td><b>Hints</b></td>\n",
       "   </tr>\n",
       "   <tr style=\"background-color: #ffcccc\">\n",
       "     <td><a href=\"#;1\"><b>in/PAS-Task.json</b></a></td><td><b>9</b></td><td><b>7</b></td><td><b>4</b></td>\n",
       "   </tr>\n",
       "</table>\n",
       "<hr/>\n",
       "<a name=\"l1\"> </a>\n",
       "<h2><a href=\"file:in/PAS-Task.json\">in/PAS-Task.json</a></h2>\n",
       " <table class=\"grid\">\n",
       "   <tr>\n",
       "     <td><b>Path</b></td><td><b>Severity</b></td><td><b>Message</b></td>\n",
       "   </tr>\n",
       "   <tr style=\"background-color: #ffffe6\">\n",
       "     <td><b>StructureDefinition.differential.element[5].binding.valueSet (l118/c91)</b></td><td><b>information</b></td><td title=\"TYPE_SPECIFIC_CHECKS_DT_CANONICAL_RESOLVE\"><b>Canonical URL 'http://hl7.org/fhir/us/davinci-pas/ValueSet/PASTaskCodes' does not resolve</b></td>\n",
       "   </tr>\n",
       "   <tr style=\"background-color: #ffcccc\">\n",
       "     <td><b>StructureDefinition.differential.element[11].pattern.ofType(CodeableConcept).coding[0] (l167/c26)</b></td><td><b>error</b></td><td title=\"Terminology_TX_System_Unknown\"><b>Unknown Code System 'http://hl7.org/fhir/us/davinci-pas/CodeSystem/PASTempCodes'</b></td>\n",
       "   </tr>\n",
       "   <tr style=\"background-color: #ffcccc\">\n",
       "     <td><b>StructureDefinition.differential.element[11].pattern.ofType(CodeableConcept).coding[0].system (l168/c99)</b></td><td><b>error</b></td><td title=\"Type_Specific_Checks_DT_URL_Resolve\"><b>URL value 'http://hl7.org/fhir/us/davinci-pas/CodeSystem/PASTempCodes' does not resolve</b></td>\n",
       "   </tr>\n",
       "   <tr style=\"background-color: #ffcccc\">\n",
       "     <td><b>StructureDefinition.differential.element[16].pattern.ofType(CodeableConcept).coding[0] (l222/c26)</b></td><td><b>error</b></td><td title=\"Terminology_TX_System_Unknown\"><b>Unknown Code System 'http://hl7.org/fhir/us/davinci-pas/CodeSystem/PASTempCodes'</b></td>\n",
       "   </tr>\n",
       "   <tr style=\"background-color: #ffcccc\">\n",
       "     <td><b>StructureDefinition.differential.element[16].pattern.ofType(CodeableConcept).coding[0].system (l223/c99)</b></td><td><b>error</b></td><td title=\"Type_Specific_Checks_DT_URL_Resolve\"><b>URL value 'http://hl7.org/fhir/us/davinci-pas/CodeSystem/PASTempCodes' does not resolve</b></td>\n",
       "   </tr>\n",
       "   <tr style=\"background-color: #ffffe6\">\n",
       "     <td><b>StructureDefinition.differential.element[20].type[0].profile[0] (l270/c108)</b></td><td><b>information</b></td><td title=\"TYPE_SPECIFIC_CHECKS_DT_CANONICAL_RESOLVE\"><b>Canonical URL 'http://hl7.org/fhir/us/davinci-pas/StructureDefinition/extension-paLineNumber' does not resolve</b></td>\n",
       "   </tr>\n",
       "   <tr style=\"background-color: #ffcccc\">\n",
       "     <td><b>StructureDefinition.differential.element[21].pattern.ofType(CodeableConcept).coding[0] (l280/c26)</b></td><td><b>error</b></td><td title=\"Terminology_TX_System_Unknown\"><b>Unknown Code System 'http://hl7.org/fhir/us/davinci-pas/CodeSystem/PASTempCodes'</b></td>\n",
       "   </tr>\n",
       "   <tr style=\"background-color: #ffcccc\">\n",
       "     <td><b>StructureDefinition.differential.element[21].pattern.ofType(CodeableConcept).coding[0].system (l281/c99)</b></td><td><b>error</b></td><td title=\"Type_Specific_Checks_DT_URL_Resolve\"><b>URL value 'http://hl7.org/fhir/us/davinci-pas/CodeSystem/PASTempCodes' does not resolve</b></td>\n",
       "   </tr>\n",
       "   <tr style=\"background-color: #ffffe6\">\n",
       "     <td><b>StructureDefinition.differential.element[22].binding.valueSet (l297/c101)</b></td><td><b>information</b></td><td title=\"TYPE_SPECIFIC_CHECKS_DT_CANONICAL_RESOLVE\"><b>Canonical URL 'http://hl7.org/fhir/us/davinci-pas/ValueSet/AttachmentRequestCodes' does not resolve</b></td>\n",
       "   </tr>\n",
       "   <tr style=\"background-color: #ffffe6\">\n",
       "     <td><b>StructureDefinition.differential.element[25].type[0].profile[0] (l332/c108)</b></td><td><b>information</b></td><td title=\"TYPE_SPECIFIC_CHECKS_DT_CANONICAL_RESOLVE\"><b>Canonical URL 'http://hl7.org/fhir/us/davinci-pas/StructureDefinition/extension-paLineNumber' does not resolve</b></td>\n",
       "   </tr>\n",
       "   <tr style=\"background-color: #ffcccc\">\n",
       "     <td><b>StructureDefinition.differential.element[26].pattern.ofType(CodeableConcept).coding[0] (l342/c26)</b></td><td><b>error</b></td><td title=\"Terminology_TX_System_Unknown\"><b>Unknown Code System 'http://hl7.org/fhir/us/davinci-pas/CodeSystem/PASTempCodes'</b></td>\n",
       "   </tr>\n",
       "   <tr style=\"background-color: #ffcccc\">\n",
       "     <td><b>StructureDefinition.differential.element[26].pattern.ofType(CodeableConcept).coding[0].system (l343/c99)</b></td><td><b>error</b></td><td title=\"Type_Specific_Checks_DT_URL_Resolve\"><b>URL value 'http://hl7.org/fhir/us/davinci-pas/CodeSystem/PASTempCodes' does not resolve</b></td>\n",
       "   </tr>\n",
       "   <tr style=\"background-color: #ffebcc\">\n",
       "     <td><b>StructureDefinition (l1/c2)</b></td><td><b>warning</b></td><td title=\"Constraint failed: dom-6: 'A resource should have narrative for robust management' (defined in http://hl7.org/fhir/StructureDefinition/DomainResource) (Best Practice Recommendation)\"><b>Constraint failed: dom-6: 'A resource should have narrative for robust management' (defined in http://hl7.org/fhir/StructureDefinition/DomainResource) (Best Practice Recommendation)</b></td>\n",
       "   </tr>\n",
       "   <tr style=\"background-color: #ffcccc\">\n",
       "     <td><b>StructureDefinition (l1/c2)</b></td><td><b>error</b></td><td title=\"VALIDATION_HL7_WG_NEEDED\"><b>When HL7 is publishing a resource, the owning committee must be stated using the http://hl7.org/fhir/StructureDefinition/structuredefinition-wg extension</b></td>\n",
       "   </tr>\n",
       "   <tr style=\"background-color: #ffebcc\">\n",
       "     <td><b>StructureDefinition.snapshot.element[71]</b></td><td><b>warning</b></td><td title=\"null\"><b>The type of profile http://hl7.org/fhir/us/davinci-pas/StructureDefinition/extension-paLineNumber cannot be checked as the profile is not known</b></td>\n",
       "   </tr>\n",
       "   <tr style=\"background-color: #ffebcc\">\n",
       "     <td><b>StructureDefinition.snapshot.element[78]</b></td><td><b>warning</b></td><td title=\"null\"><b>The type of profile http://hl7.org/fhir/us/davinci-pas/StructureDefinition/extension-paLineNumber cannot be checked as the profile is not known</b></td>\n",
       "   </tr>\n",
       "   <tr style=\"background-color: #ffebcc\">\n",
       "     <td><b>StructureDefinition.differential.element[5].binding</b></td><td><b>warning</b></td><td title=\"null\"><b>The valueSet reference http://hl7.org/fhir/us/davinci-pas/ValueSet/PASTaskCodes on element Task.code could not be resolved</b></td>\n",
       "   </tr>\n",
       "   <tr style=\"background-color: #ffebcc\">\n",
       "     <td><b>StructureDefinition.differential.element[20].type[0].profile[0]</b></td><td><b>warning</b></td><td title=\"null\"><b>Unable to resolve profile http://hl7.org/fhir/us/davinci-pas/StructureDefinition/extension-paLineNumber</b></td>\n",
       "   </tr>\n",
       "   <tr style=\"background-color: #ffebcc\">\n",
       "     <td><b>StructureDefinition.differential.element[22].binding</b></td><td><b>warning</b></td><td title=\"null\"><b>The valueSet reference http://hl7.org/fhir/us/davinci-pas/ValueSet/AttachmentRequestCodes on element Task.input.value[x] could not be resolved</b></td>\n",
       "   </tr>\n",
       "   <tr style=\"background-color: #ffebcc\">\n",
       "     <td><b>StructureDefinition.differential.element[25].type[0].profile[0]</b></td><td><b>warning</b></td><td title=\"null\"><b>Unable to resolve profile http://hl7.org/fhir/us/davinci-pas/StructureDefinition/extension-paLineNumber</b></td>\n",
       "   </tr>\n",
       "</table>\n"
      ],
      "text/plain": [
       "<IPython.core.display.HTML object>"
      ]
     },
     "metadata": {},
     "output_type": "display_data"
    }
   ],
   "source": [
    "from pathlib import Path\n",
    "from IPython.display import display, Markdown, HTML\n",
    "\n",
    "# Path to the validator profile\n",
    "my_path = Path()/ OUT\n",
    "# my_path\n",
    "display(HTML(my_path.read_text()))"
   ]
  },
  {
   "cell_type": "code",
   "execution_count": null,
   "metadata": {
    "vscode": {
     "languageId": "shellscript"
    }
   },
   "outputs": [],
   "source": []
  }
 ],
 "metadata": {
  "kernelspec": {
   "display_name": "Python 3.10.2 64-bit ('3.10.2')",
   "language": "python",
   "name": "python3"
  },
  "language_info": {
   "codemirror_mode": {
    "name": "ipython",
    "version": 3
   },
   "file_extension": ".py",
   "mimetype": "text/x-python",
   "name": "python",
   "nbconvert_exporter": "python",
   "pygments_lexer": "ipython3",
   "version": "3.10.2"
  },
  "orig_nbformat": 4,
  "vscode": {
   "interpreter": {
    "hash": "bb8ac4d7b3820c0aa90a30c1b759ca2e95fae5fe8e398fc22d29664b70d4e4bb"
   }
  }
 },
 "nbformat": 4,
 "nbformat_minor": 2
}
