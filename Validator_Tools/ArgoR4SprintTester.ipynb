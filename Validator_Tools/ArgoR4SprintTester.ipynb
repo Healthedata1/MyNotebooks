{
 "cells": [
  {
   "cell_type": "markdown",
   "metadata": {},
   "source": [
    "## Validate ARGO R4 Resources from Servers\n",
    "\n",
    "- Get Resources\n",
    "- Load into R4 IG\n",
    "- Run IG \n",
    "- Review QA report for Examples\n",
    "\n",
    "(Python 3.7)"
   ]
  },
  {
   "cell_type": "markdown",
   "metadata": {},
   "source": [
    "### Import modules and asign globals"
   ]
  },
  {
   "cell_type": "code",
   "execution_count": null,
   "metadata": {},
   "outputs": [],
   "source": [
    "import os #os module imported here\n",
    "from json import load, dumps, loads\n",
    "from IPython import display as D\n",
    "from requests import get, post, put\n",
    "from IPython.display import display, Markdown, HTML\n",
    "from pathlib import Path\n",
    "from pandas import *\n",
    "from collections import namedtuple\n",
    "\n",
    "#Globals\n",
    "\n",
    "source_path = '/Users/ehaas/Documents/FHIR/USCoreR4Validator'\n",
    "examples_path = '/Users/ehaas/Documents/FHIR/USCoreR4Validator/source/examples'\n",
    "\n",
    "\n",
    "headers = {\n",
    "    'Accept':'application/fhir+json',\n",
    "    'Content-Type':'application/fhir+json'\n",
    "    }\n",
    "\n",
    "# US Core R4 Profiles\n",
    "profiles ={\n",
    "'CareTeam': 'http://hl7.org/fhir/us/core/StructureDefinition/us-core-careteam',\n",
    "'MedicationStatement': 'http://hl7.org/fhir/us/core/StructureDefinition/us-core-medicationstatement',\n",
    "'Device': 'http://hl7.org/fhir/us/core/StructureDefinition/us-core-device',\n",
    "'Practitioner': 'http://hl7.org/fhir/us/core/StructureDefinition/us-core-practitioner',\n",
    "'Patient': 'http://hl7.org/fhir/us/core/StructureDefinition/us-core-patient',\n",
    "'Immunization': 'http://hl7.org/fhir/us/core/StructureDefinition/us-core-immunization',\n",
    "'Observation1': 'http://hl7.org/fhir/us/core/StructureDefinition/us-core-smokingstatus',\n",
    "'DocumentReference': 'http://hl7.org/fhir/us/core/StructureDefinition/us-core-documentreference',\n",
    "'MedicationRequest': 'http://hl7.org/fhir/us/core/StructureDefinition/us-core-medicationrequest',\n",
    "'Condition': 'http://hl7.org/fhir/us/core/StructureDefinition/us-core-condition',\n",
    "'Encounter': 'http://hl7.org/fhir/us/core/StructureDefinition/us-core-encounter',\n",
    "'Organization': 'http://hl7.org/fhir/us/core/StructureDefinition/us-core-organization',\n",
    "'Observation2': 'http://hl7.org/fhir/us/core/StructureDefinition/pediatric-weight-for-height',\n",
    "'Procedure': 'http://hl7.org/fhir/us/core/StructureDefinition/us-core-procedure',\n",
    "'Medication': 'http://hl7.org/fhir/us/core/StructureDefinition/us-core-medication',\n",
    "'Observation3': 'http://hl7.org/fhir/us/core/StructureDefinition/us-core-observation-lab',\n",
    "'DiagnosticReport1': 'http://hl7.org/fhir/us/core/StructureDefinition/us-core-diagnosticreport-note',\n",
    "'PractitionerRole': 'http://hl7.org/fhir/us/core/StructureDefinition/us-core-practitionerrole',\n",
    "'CarePlan': 'http://hl7.org/fhir/us/core/StructureDefinition/us-core-careplan',\n",
    "'Goal': 'http://hl7.org/fhir/us/core/StructureDefinition/us-core-goal',\n",
    "'Location': 'http://hl7.org/fhir/us/core/StructureDefinition/us-core-location',\n",
    "'Observation4': 'http://hl7.org/fhir/us/core/StructureDefinition/pediatric-bmi-for-age',\n",
    "'DiagnosticReport2': 'http://hl7.org/fhir/us/core/StructureDefinition/us-core-diagnosticreport-lab',\n",
    "'AllergyIntolerance': 'http://hl7.org/fhir/us/core/StructureDefinition/us-core-allergyintolerance',\n",
    "}\n",
    "\n",
    "f_servers = dict(epic='https://connectathon.epic.com/Interconnect-Fhir-Unsecure/api/FHIR/R4/')"
   ]
  },
  {
   "cell_type": "markdown",
   "metadata": {},
   "source": [
    "### Optionally Clear example folder first...  (todo)"
   ]
  },
  {
   "cell_type": "code",
   "execution_count": null,
   "metadata": {},
   "outputs": [],
   "source": []
  },
  {
   "cell_type": "markdown",
   "metadata": {},
   "source": [
    "### Get examples from FHIR Server\n",
    "\n",
    "- import data from spreadsheet\n",
    "- convert to pandas df and access using dot notation\n"
   ]
  },
  {
   "cell_type": "code",
   "execution_count": null,
   "metadata": {},
   "outputs": [],
   "source": [
    "server = 'epic'  # sheet name = server\n",
    "xls = ExcelFile('test_resources.xlsx')\n",
    "df = read_excel(xls,server,na_false = False)\n",
    "\n",
    "df"
   ]
  },
  {
   "cell_type": "markdown",
   "metadata": {},
   "source": [
    "### Add meta profile to example\n",
    "\n",
    "- for each resource type fetching instance\n",
    "  - instance are comma separated list of ids\n",
    "- convert json to dict\n",
    "- insert profile\n",
    "- update all references to relative references using same server ids\n",
    "- convert back to json\n",
    "\n",
    "- save as example in examples folder in ig publisher \n",
    "- create a df file and export as csv data file for mapping the file name to id for ig publisher"
   ]
  },
  {
   "cell_type": "code",
   "execution_count": null,
   "metadata": {},
   "outputs": [],
   "source": [
    "def make_rel_ref(dictionary): # replace all absolute references with relative references\n",
    "    for k, v in dictionary.items():\n",
    "        if k == 'reference':    \n",
    "            \n",
    "            # make rel ref assuming is Type/id\n",
    "            ref_path = dictionary[k].split('/')\n",
    "            dictionary[k] = f'{ref_path[-2]}/{ref_path[-1]}'\n",
    "        elif isinstance(v, dict):\n",
    "            make_rel_ref(v)\n",
    "        elif isinstance(v, list):\n",
    "            for d in v:\n",
    "                if isinstance(d, dict):\n",
    "                    make_rel_ref(d)\n",
    "    return(dictionary)\n",
    "\n",
    "data_file = {'file_name': [],\n",
    "        'id': [],\n",
    "        }\n",
    "for i in df.itertuples(index=True):\n",
    "    for j in i.id.split(','):\n",
    "        print(i.resource_type,j)\n",
    "        params = dict(\n",
    "            _id = j\n",
    "            )\n",
    "        # Open Server\n",
    "        r = get(f'{f_servers[server]}{i.resource_type}/{j}', headers = headers)\n",
    "        fhir_d = r.json() if r.status_code==200 else None\n",
    "        print(r.status_code)\n",
    "\n",
    "        if r.status_code!=200:\n",
    "            print(f'Fetching of {f_servers[server]}{i.resource_type}/{j} failed: Status code= {r.status_code}')\n",
    "            r = get(f'{f_servers[server]}{i.resource_type}',params = params, headers = headers ) # try other syntax\n",
    "\n",
    "            fhir_d = r.json()['entry'][0]['resource'] if r.status_code==200 else None #unbundle\n",
    "            # wait for error to do try pattern\n",
    "            print(r.status_code)\n",
    "        if r.status_code!=200:\n",
    "            print(f'Seaching using {f_servers[server]}{i.resource_type}?_id={j} failed: Status code= {r.status_code}')     \n",
    "        else: # r.status_code==200\n",
    "            try:\n",
    "                fhir_d['meta']['profile'].append(profiles[i.resource_type])\n",
    "            except KeyError:\n",
    "                fhir_d['meta']= dict(profile = [profiles[i.resource_type]])\n",
    "            fhir_d = make_rel_ref(fhir_d)  # make rel ref assuming is Type/id\n",
    "            fhir_json = dumps(fhir_d, indent = 4)\n",
    "            print(f'{\"*\"*10} {server}-{fhir_d[\"resourceType\"].lower()}-{fhir_d[\"id\"]}.json {\"*\"*10}')\n",
    "            print(fhir_json)\n",
    "            p = Path(examples_path) / f'{server}-{fhir_d[\"resourceType\"].lower()}-{fhir_d[\"id\"]}.json'\n",
    "            #print(p)\n",
    "            p.write_text(fhir_json, encoding='utf-8')\n",
    "            print('writing to examples folder......')\n",
    "            \n",
    "            data_file['file_name'].append(f'{server}-{fhir_d[\"resourceType\"].lower()}-{fhir_d[\"id\"]}')\n",
    "            data_file['id'].append(fhir_d[\"id\"])\n",
    "  "
   ]
  },
  {
   "cell_type": "markdown",
   "metadata": {},
   "source": [
    "#### Save file name, id data as csv file"
   ]
  },
  {
   "cell_type": "code",
   "execution_count": null,
   "metadata": {},
   "outputs": [],
   "source": [
    "df_data = DataFrame(data_file, columns= ['file_name', 'id'])\n",
    "export_csv = df_data.to_csv(f'{source_path}/framework/_data/examples.csv', index = None, header=True) #Don't forget to add '.csv' at the end of the path\n",
    "print('saving csv .......')"
   ]
  },
  {
   "cell_type": "markdown",
   "metadata": {},
   "source": [
    "### Validate using IG Build\n",
    "\n",
    "1. run py script to update ig.json and ig.xml\n"
   ]
  },
  {
   "cell_type": "code",
   "execution_count": null,
   "metadata": {},
   "outputs": [],
   "source": [
    "%%bash\n",
    "set -e\n",
    "cd /Users/ehaas/Documents/FHIR/USCoreR4Validator/\n",
    "path1=/Users/ehaas/Downloads/org.hl7.fhir.igpublisher.jar\n",
    "source_path=/Users/ehaas/Documents/FHIR/USCoreR4Validator\n",
    "path3=/Users/ehaas/Documents/FHIR/IG-tools/\n",
    "echo \"=================================================================\"\n",
    "echo === use definition files from relative path ../$SOURCE ===\n",
    "echo \"=================================================================\"\n",
    "echo getting rid of .DS_Store files since they gum up the igpublisher....\n",
    "echo \"=================================================================\"\n",
    "echo === run definitions maker with optional source directory name as first argument ===\n",
    "echo === create ig.json and ig.xml in $PWD and ../$SOURCE ===\n",
    "echo \"=================================================================\"\n",
    "find . -name '.DS_Store' -type f -delete\n",
    "python3.5 ${path3}definitions.py"
   ]
  },
  {
   "cell_type": "markdown",
   "metadata": {},
   "source": [
    "### Strip out extra stuff stuff from ig.json to make run faster"
   ]
  },
  {
   "cell_type": "code",
   "execution_count": null,
   "metadata": {},
   "outputs": [],
   "source": [
    "remove_default_list = [\n",
    "                        'StructureDefinition',\n",
    "                        'CodeSystem',\n",
    "                        'ValueSet',\n",
    "                        'OperationDefinition',\n",
    "                        'ConceptMap',\n",
    "                        'CapabilityStatement',\n",
    "                        'SearchParameter',\n",
    "                        'StructureMap',\n",
    "                       ] \n",
    "p = Path(r'/Users/ehaas/Documents/FHIR/USCoreR4Validator/ig.json')\n",
    "ig_dict = loads(p.read_text())\n",
    "ig_defaults = ig_dict['defaults']\n",
    "# Using items() + dict comprehension to remove a dict. pair \n",
    "# removes  remove_defaults_list\n",
    "new_ig_defaults = {key:val for key, val in ig_defaults.items() if key not in remove_default_list} \n",
    "ig_dict['defaults'] = new_ig_defaults\n",
    "p.write_text(dumps(ig_dict,indent=4))"
   ]
  },
  {
   "cell_type": "markdown",
   "metadata": {},
   "source": [
    "### Run the ig publisher locally ( until can run and see on github )\n",
    "\n",
    "1. run ig publisher to validate examples **it will take a couple of minutes to run** ( until I can use a more stripped down template )"
   ]
  },
  {
   "cell_type": "code",
   "execution_count": null,
   "metadata": {},
   "outputs": [],
   "source": [
    "%%bash\n",
    "set -e\n",
    "cd /Users/ehaas/Documents/FHIR/USCoreR4Validator/\n",
    "path1=/Users/ehaas/Downloads/org.hl7.fhir.igpublisher.jar\n",
    "java -jar ${path1} -ig ig.json"
   ]
  },
  {
   "cell_type": "markdown",
   "metadata": {},
   "source": [
    "### Disabled...Get qa.html output and display\n",
    "(or alternatively go here: consider using autopublish to share)"
   ]
  },
  {
   "cell_type": "raw",
   "metadata": {},
   "source": [
    "p = Path(r'/Users/ehaas/Documents/FHIR/USCoreR4Validator/docs/all-examples.html')\n",
    "\n",
    "display(HTML(p.read_text()))"
   ]
  },
  {
   "cell_type": "markdown",
   "metadata": {},
   "source": [
    "### Commit to GitHub \n",
    "- for now create github pages here: https://healthedata1.github.io/USCoreR4Validator/\n",
    "- In future Will trigger autobuilder and a CI build"
   ]
  },
  {
   "cell_type": "code",
   "execution_count": null,
   "metadata": {},
   "outputs": [],
   "source": [
    "!git -C /Users/ehaas/Documents/FHIR/USCoreR4Validator add .\n",
    "!git -C /Users/ehaas/Documents/FHIR/USCoreR4Validator commit -m \"added new examples to validate\"\n",
    "!git -C /Users/ehaas/Documents/FHIR/USCoreR4Validator push"
   ]
  },
  {
   "cell_type": "code",
   "execution_count": null,
   "metadata": {},
   "outputs": [],
   "source": []
  }
 ],
 "metadata": {
  "kernelspec": {
   "display_name": "Python 3",
   "language": "python",
   "name": "python3"
  },
  "language_info": {
   "codemirror_mode": {
    "name": "ipython",
    "version": 3
   },
   "file_extension": ".py",
   "mimetype": "text/x-python",
   "name": "python",
   "nbconvert_exporter": "python",
   "pygments_lexer": "ipython3",
   "version": "3.7.3"
  }
 },
 "nbformat": 4,
 "nbformat_minor": 2
}
