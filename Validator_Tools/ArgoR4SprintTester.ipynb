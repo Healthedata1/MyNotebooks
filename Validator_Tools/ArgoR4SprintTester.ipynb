{
 "cells": [
  {
   "cell_type": "markdown",
   "metadata": {},
   "source": [
    "## Validate ARGO R4 Resources from Servers\n",
    "\n",
    "- Get Resources\n",
    "- Load into R4 IG\n",
    "- Run IG \n",
    "- Review QA report for Examples\n",
    "\n",
    "(Python 3.7) \n",
    "**Run in MAC local source directory**"
   ]
  },
  {
   "cell_type": "markdown",
   "metadata": {},
   "source": [
    "### Import modules and asign globals"
   ]
  },
  {
   "cell_type": "code",
   "execution_count": 1,
   "metadata": {},
   "outputs": [],
   "source": [
    "import os #os module imported here\n",
    "from json import load, dumps, loads\n",
    "from IPython import display as D\n",
    "from requests import get, post, put\n",
    "from IPython.display import display, Markdown, HTML\n",
    "from pathlib import Path\n",
    "from pandas import *\n",
    "from collections import namedtuple\n",
    "import bearer as b\n",
    "\n",
    "#Globals\n",
    "\n",
    "# if working on Mac '/Users/ehaas/...'\n",
    "# if working on PC '//ERICS-AIR-2/ehaas...'\n",
    "source_path = '/ehaas/Documents/FHIR/ArgoR4Validator'\n",
    "examples_path = '/ehaas/Documents/FHIR/ArgoR4Validator/source/examples'\n",
    "\n",
    "headers = {\n",
    "    'Accept':'application/fhir+json',\n",
    "    'Content-Type':'application/fhir+json',\n",
    "    'Authorization': b.bearer,\n",
    "    }\n",
    "\n",
    "# US Core R4 Profiles\n",
    "types = dict (\n",
    "Patient = 'http://hl7.org/fhir/us/core/StructureDefinition/us-core-patient',\n",
    "AllergyIntolerance = 'http://hl7.org/fhir/us/core/StructureDefinition/us-core-allergyintolerance',\n",
    "CarePlan = 'http://hl7.org/fhir/us/core/StructureDefinition/us-core-careplan',\n",
    "CareTeam = 'http://hl7.org/fhir/us/core/StructureDefinition/us-core-careteam',\n",
    "Condition = 'http://hl7.org/fhir/us/core/StructureDefinition/us-core-condition',\n",
    "Device = 'http://hl7.org/fhir/us/core/StructureDefinition/us-core-implantable-device',\n",
    "DiagnosticReport = ['http://hl7.org/fhir/us/core/StructureDefinition/us-core-diagnosticreport-lab',\n",
    "                    'http://hl7.org/fhir/us/core/StructureDefinition/us-core-diagnosticreport-note'],\n",
    "DocumentReference = 'http://hl7.org/fhir/us/core/StructureDefinition/us-core-documentreference',\n",
    "Encounter = 'http://hl7.org/fhir/us/core/StructureDefinition/us-core-encounter',\n",
    "Goal = 'http://hl7.org/fhir/us/core/StructureDefinition/us-core-goal',\n",
    "Immunization = 'http://hl7.org/fhir/us/core/StructureDefinition/us-core-immunization',\n",
    "Location = 'http://hl7.org/fhir/us/core/StructureDefinition/us-core-location',\n",
    "Medication = 'http://hl7.org/fhir/us/core/StructureDefinition/us-core-medication',\n",
    "MedicationRequest = 'http://hl7.org/fhir/us/core/StructureDefinition/us-core-medicationrequest',\n",
    "Observation = ['http://hl7.org/fhir/us/core/StructureDefinition/us-core-observation-lab',\n",
    "               'http://hl7.org/fhir/StructureDefinition/vitalsigns',\n",
    "                'http://hl7.org/fhir/us/core/StructureDefinition/us-core-smokingstatus',\n",
    "               'http://hl7.org/fhir/us/core/StructureDefinition/pediatric-weight-for-height',\n",
    "               'http://hl7.org/fhir/us/core/StructureDefinition/pediatric-bmi-for-age',\n",
    "               'http://hl7.org/fhir/us/core/StructureDefinition/us-core-pulse-oximetry',],\n",
    "Organization = 'http://hl7.org/fhir/us/core/StructureDefinition/us-core-organization',\n",
    "Practitioner = 'http://hl7.org/fhir/us/core/StructureDefinition/us-core-practitioner',\n",
    "PractitionerRole = 'http://hl7.org/fhir/us/core/StructureDefinition/us-core-practitionerrole',\n",
    "Procedure = 'http://hl7.org/fhir/us/core/StructureDefinition/us-core-procedure',\n",
    "Provenance = 'http://hl7.org/fhir/us/core/StructureDefinition/us-core-provenance',\n",
    ")\n",
    "\n",
    "f_servers = dict(epic='https://connectathon.epic.com/Interconnect-Fhir-Unsecure/api/FHIR/R4/',\n",
    "                cerner='https://fhir-ehr.sandboxcerner.com/r4/0b8a0111-e8e6-4c26-a91c-5069cbc6b1ca/',\n",
    "                )"
   ]
  },
  {
   "cell_type": "markdown",
   "metadata": {},
   "source": [
    "### Optionally Clear example folder first...  (todo)"
   ]
  },
  {
   "cell_type": "code",
   "execution_count": null,
   "metadata": {},
   "outputs": [],
   "source": []
  },
  {
   "cell_type": "markdown",
   "metadata": {},
   "source": [
    "### Get examples from FHIR Server\n",
    "\n",
    "- import data from spreadsheet\n",
    "- convert to pandas df and access using dot notation\n"
   ]
  },
  {
   "cell_type": "code",
   "execution_count": null,
   "metadata": {},
   "outputs": [],
   "source": [
    "server = 'cerner'  # sheet name = server\n",
    "xls = ExcelFile('test_resources.xlsx', dtype=str)\n",
    "df = read_excel(xls,server,na_false = False)\n",
    "\n",
    "df"
   ]
  },
  {
   "cell_type": "markdown",
   "metadata": {},
   "source": [
    "### Add meta profile to example\n",
    "\n",
    "- for each resource type fetching instance\n",
    "  - instance are comma separated list of ids\n",
    "- convert json to dict\n",
    "- insert profile\n",
    "- update all references to relative references using same server ids\n",
    "- convert back to json\n",
    "\n",
    "- save as example in examples folder in ig publisher \n",
    "- create a df file and export as csv data file for mapping the file name to id for ig publisher"
   ]
  },
  {
   "cell_type": "code",
   "execution_count": null,
   "metadata": {},
   "outputs": [],
   "source": [
    "\n",
    "def make_rel_ref(dictionary): # replace all absolute references with relative references\n",
    "    for k, v in dictionary.items():\n",
    "        if k == 'reference':    \n",
    "            \n",
    "            # make rel ref assuming is Type/id\n",
    "            ref_path = dictionary[k].split('/')\n",
    "            try:\n",
    "                dictionary[k] = f'{ref_path[-2]}/{ref_path[-1]}'\n",
    "            except IndexError:\n",
    "                pass\n",
    "        elif isinstance(v, dict):\n",
    "            make_rel_ref(v)\n",
    "        elif isinstance(v, list):\n",
    "            for d in v:\n",
    "                if isinstance(d, dict):\n",
    "                    make_rel_ref(d)\n",
    "    return(dictionary)\n",
    "\n",
    "data_file = {'file_name': [],\n",
    "        'id': [],\n",
    "        }\n",
    "for i in df.itertuples(index=True):\n",
    "    for j in i.id.split(','):\n",
    "        print(i.resource_type,j)\n",
    "        params = dict(\n",
    "            _id = j\n",
    "            )\n",
    "        # Open Server\n",
    "        r = get(f'{f_servers[server]}{i.resource_type}/{j}', headers = headers)\n",
    "        fhir_d = r.json() if r.status_code==200 else None\n",
    "        #print(r.request.body)\n",
    "        #for k,v in r.request.headers.items():\n",
    "        #    print(f'{k} {v}')\n",
    "        print(r.status_code)\n",
    "\n",
    "        if r.status_code!=200:\n",
    "            print(f'Fetching of {f_servers[server]}{i.resource_type}/{j} failed: Status code= {r.status_code}')\n",
    "            r = get(f'{f_servers[server]}{i.resource_type}',params = params, headers = headers ) # try other syntax\n",
    "\n",
    "            fhir_d = r.json()['entry'][0]['resource'] if r.status_code==200 else None #unbundle\n",
    "            # wait for error to do try pattern\n",
    "            print(r.status_code)\n",
    "        if r.status_code!=200:\n",
    "            print(f'Seaching using {f_servers[server]}{i.resource_type}?_id={j} failed: Status code= {r.status_code}')     \n",
    "        else: # r.status_code==200\n",
    "            try:\n",
    "                fhir_d['meta']['profile'].append(profiles[i.resource_type])\n",
    "            except KeyError:\n",
    "                fhir_d['meta']= dict(profile = [profiles[i.resource_type]])\n",
    "            fhir_d = make_rel_ref(fhir_d)  # make rel ref assuming is Type/id\n",
    "            fhir_json = dumps(fhir_d, indent = 4)\n",
    "            print(f'{\"*\"*10} {server}-{fhir_d[\"resourceType\"].lower()}-{fhir_d[\"id\"]}.json {\"*\"*10}')\n",
    "            print(fhir_json)\n",
    "            try:\n",
    "                p = Path(f'/Users{examples_path}') / f'{server}-{fhir_d[\"resourceType\"].lower()}-{fhir_d[\"id\"]}.json'\n",
    "                #print(p)\n",
    "                p.write_text(fhir_json, encoding='utf-8')\n",
    "                print('writing to examples folder......')\n",
    "            except FileNotFoundError: # try different path\n",
    "                p = Path(f'//ERICS-AIR-2{examples_path}') / f'{server}-{fhir_d[\"resourceType\"].lower()}-{fhir_d[\"id\"]}.json'\n",
    "                #print(p)\n",
    "                p.write_text(fhir_json, encoding='utf-8')\n",
    "                print('writing to examples folder......')        \n",
    "            data_file['file_name'].append(f'{server}-{fhir_d[\"resourceType\"].lower()}-{fhir_d[\"id\"]}')\n",
    "            data_file['id'].append(fhir_d[\"id\"])\n",
    "  "
   ]
  },
  {
   "cell_type": "markdown",
   "metadata": {},
   "source": [
    "#### Save file name, id data as csv file"
   ]
  },
  {
   "cell_type": "code",
   "execution_count": null,
   "metadata": {},
   "outputs": [],
   "source": [
    "df_data = DataFrame(data_file, columns= ['file_name', 'id'])\n",
    "try:\n",
    "    export_csv = df_data.to_csv(f'{source_path}/framework/_data/examples.csv', index = None, header=False, mode='a') #Don't forget to add '.csv' at the end of the path\n",
    "except FileNotFoundError:\n",
    "    export_csv = df_data.to_csv(f'//ERICS-AIR-2/{source_path}/framework/_data/examples.csv', index = None, header=False, mode='a') #Don't forget to add '.csv' at the end of the path    \n",
    "print('saving csv .......')"
   ]
  },
  {
   "cell_type": "markdown",
   "metadata": {},
   "source": [
    "## **** From Here on it only works on local machine ( MAC ) ****"
   ]
  },
  {
   "cell_type": "markdown",
   "metadata": {},
   "source": [
    "### Validate using IG Build\n",
    "\n",
    "1. run py script to update ig.json and ig.xml"
   ]
  },
  {
   "cell_type": "code",
   "execution_count": null,
   "metadata": {},
   "outputs": [],
   "source": [
    "%%bash\n",
    "set -e\n",
    "cd /Users/ehaas/Documents/FHIR/ArgoR4Validator/\n",
    "path1=/Users/ehaas/Downloads/org.hl7.fhir.igpublisher.jar\n",
    "source_path=/Users/ehaas/Documents/FHIR/ArgoR4Validator\n",
    "path3=/Users/ehaas/Documents/FHIR/IG-tools/\n",
    "echo \"=================================================================\"\n",
    "echo === use definition files from relative path ../$SOURCE ===\n",
    "echo \"=================================================================\"\n",
    "echo getting rid of .DS_Store files since they gum up the igpublisher....\n",
    "echo \"=================================================================\"\n",
    "echo === run definitions maker with optional source directory name as first argument ===\n",
    "echo === create ig.json and ig.xml in $PWD and ../$SOURCE ===\n",
    "echo \"=================================================================\"\n",
    "find . -name '.DS_Store' -type f -delete\n",
    "python3.5 ${path3}definitions.py"
   ]
  },
  {
   "cell_type": "markdown",
   "metadata": {},
   "source": [
    "### Replace ig.json \"Any\" object from template with the one below to speed up the build.\n",
    "\n",
    "-  All the templates except format.html and ex.html have been disabled\n",
    "-  The \"Any\" will suppress, the xml and ttl renderings."
   ]
  },
  {
   "cell_type": "code",
   "execution_count": 2,
   "metadata": {},
   "outputs": [
    {
     "data": {
      "text/plain": [
       "41734"
      ]
     },
     "execution_count": 2,
     "metadata": {},
     "output_type": "execute_result"
    }
   ],
   "source": [
    "new_any = {\n",
    "      \"xml\": False,\n",
    "      \"xml-html\": False,\n",
    "      \"template-base\": \"ex.html\",\n",
    "      \"swagger\": \"true\",\n",
    "      \"template-format\": \"format.html\",\n",
    "      \"ttl\": False,\n",
    "      \"ttl-html\": False\n",
    "    }\n",
    "\n",
    "p = Path(r'/Users/ehaas/Documents/FHIR/ArgoR4Validator/ig.json')\n",
    "ig_dict = loads(p.read_text())\n",
    "ig_dict['defaults']['Any'] = new_any\n",
    "p.write_text(dumps(ig_dict,indent=4))"
   ]
  },
  {
   "cell_type": "markdown",
   "metadata": {},
   "source": [
    "### Run the ig publisher locally ( until can run and see on github )\n",
    "\n",
    "1. run ig publisher to validate examples **it will take a couple of minutes to run** ( until I can use a more stripped down template )"
   ]
  },
  {
   "cell_type": "code",
   "execution_count": null,
   "metadata": {},
   "outputs": [],
   "source": [
    "%%bash\n",
    "set -e\n",
    "cd /Users/ehaas/Documents/FHIR/ArgoR4Validator/\n",
    "path1=/Users/ehaas/Downloads/org.hl7.fhir.igpublisher.jar\n",
    "java -jar ${path1} -ig ig.json"
   ]
  },
  {
   "cell_type": "markdown",
   "metadata": {},
   "source": [
    "### Disabled code .... Get qa.html output and display\n",
    "(or alternatively go here: consider using autopublish to share)"
   ]
  },
  {
   "cell_type": "raw",
   "metadata": {},
   "source": [
    "p = Path(r'/Users/ehaas/Documents/FHIR/USCoreR4Validator/docs/all-examples.html')\n",
    "\n",
    "display(HTML(p.read_text())"
   ]
  },
  {
   "cell_type": "markdown",
   "metadata": {},
   "source": [
    "### Commit to GitHub \n",
    "- for now can see the validation of examples here: https://healthedata1.github.io/USCoreR4Validator/all-examples.html\n",
    "- In future Will trigger autobuilder and a CI build"
   ]
  },
  {
   "cell_type": "code",
   "execution_count": null,
   "metadata": {},
   "outputs": [],
   "source": [
    "!git -C /Users/ehaas/Documents/FHIR/ArgoR4Validator add .\n",
    "!git -C /Users/ehaas/Documents/FHIR/ArgoR4Validator commit -m \"added new examples to validate\"\n",
    "!git -C /Users/ehaas/Documents/FHIR/ArgoR4Validator push"
   ]
  },
  {
   "cell_type": "code",
   "execution_count": null,
   "metadata": {},
   "outputs": [],
   "source": []
  }
 ],
 "metadata": {
  "kernelspec": {
   "display_name": "Python 3",
   "language": "python",
   "name": "python3"
  },
  "language_info": {
   "codemirror_mode": {
    "name": "ipython",
    "version": 3
   },
   "file_extension": ".py",
   "mimetype": "text/x-python",
   "name": "python",
   "nbconvert_exporter": "python",
   "pygments_lexer": "ipython3",
   "version": "3.7.3"
  }
 },
 "nbformat": 4,
 "nbformat_minor": 2
}
