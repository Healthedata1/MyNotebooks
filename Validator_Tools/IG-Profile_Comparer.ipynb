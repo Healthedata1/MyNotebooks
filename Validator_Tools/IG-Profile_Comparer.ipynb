{
 "cells": [
  {
   "cell_type": "markdown",
   "metadata": {},
   "source": [
    "## Compare Profiles Between IGs\n",
    "\n",
    "This uses the validators compare function to compare a set of profiles:\n",
    "\n",
    "- inputs a user supplied csv table of tuples of the profiles to compare\n",
    " \n",
    "- output are folders with the comparisons\n",
    "\n",
    "---\n",
    "### Instructions\n",
    "\n",
    "- download the latest version of the validator from\n",
    "https://github.com/hapifhir/org.hl7.fhir.core/releases/latest/download/validator_cli.jar\n",
    "Comparing Profiles\n",
    "   - The validator can compare profiles. To compare profiles, use the following\n",
    "parameters:\n",
    "\n",
    "   ~~~\n",
    "   java -jar validator_cli.jar -compare -dest /home/user/work/ig-comparison\n",
    "   -version 4.0\n",
    "   -ig hl7.fhir.us.carin-bb#1.1.0\n",
    "   -ig hl7.fhir.us.davinci-crd#1.0.0\n",
    "   -left http://hl7.org/fhir/us/carin-bb/StructureDefinition/C4BB-Patient\n",
    "   -right http://hl7.org/fhir/us/davinci-crd/StructureDefinition/profile-patient\n",
    "   ~~~\n",
    "\n",
    "   **Parameters Explanation:**\n",
    "\n",
    "   - -compare: tell the validator to rin the comparison logic\n",
    "   - -dest: folder to produce the output. This must exist, and the validator will\n",
    "   overwrite existing content if it needs to. The output isnt simple - see below\n",
    "   - -version Maj.Min - the version to use. You can leave this out and let the\n",
    "   validator infer this, but its there so that you can compare profiles across\n",
    "   versions. E.g. if you specify -version 4.0, the profiles will both be treated as\n",
    "   R4 profiles, even if they arent\n",
    "   - -ig - a repeating parameter that specifies the packages to load, that contain\n",
    "   the profiles you want to compare\n",
    "   - -left and -right - the two profiles to compare. Theres no functional difference\n",
    "   between left and right, except that the comparison will keep to left and right\n",
    "   consistently\n",
    "\n",
    "### Output\n",
    "\n",
    "- The output starts at index.html. The output isnt simple (and may take some time\n",
    "to generate)\n",
    "\n",
    "- For each pair of profiles, the comparison generates a union and an\n",
    "intersections. The union is that total set of things that are allowed by either\n",
    "profile - thats what you could expect to read as a consumer of resources\n",
    "conforming to both profiles. The intersection is the set of things that both\n",
    "implementation guides allow - this is what you are required/allowed to write\n",
    "into a resource if you are creating one that must conform to both profiles. Its\n",
    "possible that the intersection will be empty - theres no valid instance that\n",
    "can conform to both profiles. In that case, consult the IG authors.\n",
    "\n",
    "- The comparison will (must) compare the sub-profiles that the profiles refer to.\n",
    "E.g. if both profiles on a resource such as MedicationAdministration refer to a\n",
    "profile of patient, those profiles will also be compared.\n",
    "\n",
    "---\n"
   ]
  },
  {
   "cell_type": "code",
   "execution_count": 6,
   "metadata": {},
   "outputs": [
    {
     "data": {
      "text/plain": [
       "'/Users/ehaas/Documents/Python/Jupyter/MyNotebooks/utils/out/profile_compare/temp_out'"
      ]
     },
     "execution_count": 6,
     "metadata": {},
     "output_type": "execute_result"
    }
   ],
   "source": [
    "\n",
    "from pandas import read_csv\n",
    "from pandas import DataFrame as df\n",
    "\n",
    "# =======these globals change for each comparison =======\n",
    "path='/Users/ehaas/Downloads/validator_cli.jar' # path to publisher\n",
    "out_path='/Users/ehaas/Documents/Python/Jupyter/MyNotebooks/utils/out/profile_compare' # path to the root destination folder for individual compare folders\n",
    "OUT=f'{out_path}/temp_out'\n",
    "VERSION='4.0.1' # version of FHIR to use\n",
    "\n",
    "IG1='hl7.fhir.us.davinci-pas#2.0.0' # path to PAS CI build\n",
    "IG2='hl7.fhir.us.davinci-cdex#2.0.0 ' # path to path to CDex 2.0.0\n",
    "\n",
    "# IG1='fhir.argonaut.r2#1.0.0' # path to IG Package 1 = ARGONAUT DQ\n",
    "# IG2='hl7.fhir.us.core#current' # path to IG Package 2 = US Core 6.0.0\n",
    "\n",
    "# IG1='hl7.fhir.uv.ipa#current' # path to IPA \"hl7.fhir.uv.ipa\",\"version\" : \"1.0.0-preview\n",
    "# IG2='hl7.fhir.us.core#current' # path to IG Package 2 = US Core 6.0.0\n",
    "\n",
    "# LEFT =  'ARGONAUT DQ'\n",
    "# LEFT =  'IPA'\n",
    "LEFT = 'PAS'\n",
    "\n",
    "# RIGHT = 'US Core 6.0.0'\n",
    "RIGHT = 'CDEX'\n",
    "# ======================================================\n",
    "\n",
    "# =======these globals do not change for each comparison =======\n",
    "# target_folder = 'comparison-argo' #'comparison-ipa' # name of the folder to create in the out_path\n",
    "# target_folder = 'comparison-ipa' # name of the folder to create in the out_path\n",
    "target_folder = 'comparison-pas' # name of the folder to create in the out_path\n",
    "# ======================================================\n",
    "OUT"
   ]
  },
  {
   "cell_type": "markdown",
   "metadata": {},
   "source": [
    "### Fetch Profiles to compare from CSV table"
   ]
  },
  {
   "cell_type": "code",
   "execution_count": 7,
   "metadata": {},
   "outputs": [
    {
     "data": {
      "text/html": [
       "<div>\n",
       "<style scoped>\n",
       "    .dataframe tbody tr th:only-of-type {\n",
       "        vertical-align: middle;\n",
       "    }\n",
       "\n",
       "    .dataframe tbody tr th {\n",
       "        vertical-align: top;\n",
       "    }\n",
       "\n",
       "    .dataframe thead th {\n",
       "        text-align: right;\n",
       "    }\n",
       "</style>\n",
       "<table border=\"1\" class=\"dataframe\">\n",
       "  <thead>\n",
       "    <tr style=\"text-align: right;\">\n",
       "      <th></th>\n",
       "      <th>PAS</th>\n",
       "      <th>CDEX</th>\n",
       "    </tr>\n",
       "  </thead>\n",
       "  <tbody>\n",
       "    <tr>\n",
       "      <th>0</th>\n",
       "      <td>http://hl7.org/fhir/us/davinci-pas/StructureDe...</td>\n",
       "      <td>http://hl7.org/fhir/us/davinci-cdex/StructureD...</td>\n",
       "    </tr>\n",
       "  </tbody>\n",
       "</table>\n",
       "</div>"
      ],
      "text/plain": [
       "                                                 PAS  \\\n",
       "0  http://hl7.org/fhir/us/davinci-pas/StructureDe...   \n",
       "\n",
       "                                                CDEX  \n",
       "0  http://hl7.org/fhir/us/davinci-cdex/StructureD...  "
      ]
     },
     "execution_count": 7,
     "metadata": {},
     "output_type": "execute_result"
    }
   ],
   "source": [
    "# =======these map  change for each comparison =======\n",
    "# profile_map = '/Users/ehaas/Documents/FHIR/US-Core/input/images-source/ArgoDQ-USCore-ProfileMap.csv'\n",
    "# profile_map = '/Users/ehaas/Documents/FHIR/fhir-ipa/input/images/source/IPA-USCore-ProfileMap.csv'\n",
    "profile_map = 'in/PAS-CDEX-ProfileMap.csv'\n",
    "# ======================================================\n",
    "df = read_csv(profile_map,na_filter=False)\n",
    "\n",
    "df"
   ]
  },
  {
   "cell_type": "markdown",
   "metadata": {},
   "source": [
    "### run the validator to compare profiles\n",
    "\n",
    "~~~\n",
    "java -Xmx4G -jar $path -compare -dest $OUT -version $VERSION -ig $IG1 -ig $IG2 -left $LEFT -right $RIGHT\n",
    "~~~\n",
    "\n",
    "### passing variables between bash and python\n",
    "\n",
    "<!-- ~~~\n",
    "a=10\n",
    "b=20\n",
    "~~~\n",
    "\n",
    "~~~\n",
    "%%bash -s $a $b --out c\n",
    "echo \"this is displayed\"\n",
    "echo \"the last thing printed to stdout will be passed back in the variable c\"\n",
    "echo \"a + b = $(($1+$2))\"\n",
    "~~~~\n",
    "\n",
    "~~~\n",
    "print(c)\n",
    "~~~\n",
    "this is displayed\n",
    "the last thing printed to stdout will be passed back in the variable c\n",
    "a + b = 30 -->"
   ]
  },
  {
   "cell_type": "code",
   "execution_count": 8,
   "metadata": {},
   "outputs": [],
   "source": [
    "def compare(path, OUT, VERSION, IG1, IG2, LEFT, RIGHT):\n",
    "# %%bash -s $path $OUT $VERSION $IG1 $IG2 $LEFT $RIGHT \n",
    "# echo $1 $2 $3 $4 $5 $6 $7\n",
    "  print(f'OUT: {OUT}')\n",
    "  !mkdir -p {OUT}\n",
    "  !java -Xmx4G -jar {path} -compare -dest {OUT} -version {VERSION} -ig {IG1} -ig {IG2} -left {LEFT} -right {RIGHT}\n",
    "  print('============== on exit the output folder will open up your browser================')\n",
    "  return"
   ]
  },
  {
   "cell_type": "markdown",
   "metadata": {},
   "source": [
    "\n",
    "### clean up any old files\n"
   ]
  },
  {
   "cell_type": "code",
   "execution_count": 9,
   "metadata": {},
   "outputs": [
    {
     "name": "stdout",
     "output_type": "stream",
     "text": [
      "zsh:1: no matches found: /Users/ehaas/Documents/Python/Jupyter/MyNotebooks/utils/out/profile_compare/temp_out/vs-*.html\n",
      "/Users/ehaas/Documents/Python/Jupyter/MyNotebooks/utils/out/profile_compare/temp_out/vs-allergyintolerance-code-2.16.840.1.113762.1.4.1186.8-intersection.json\n",
      "/Users/ehaas/Documents/Python/Jupyter/MyNotebooks/utils/out/profile_compare/temp_out/vs-allergyintolerance-code-2.16.840.1.113762.1.4.1186.8-union.json\n",
      "/Users/ehaas/Documents/Python/Jupyter/MyNotebooks/utils/out/profile_compare/temp_out/vs-c80-doc-typecodes-us-core-documentreference-type-intersection.json\n",
      "/Users/ehaas/Documents/Python/Jupyter/MyNotebooks/utils/out/profile_compare/temp_out/vs-c80-doc-typecodes-us-core-documentreference-type-union.json\n",
      "/Users/ehaas/Documents/Python/Jupyter/MyNotebooks/utils/out/profile_compare/temp_out/vs-condition-category-condition-category-intersection.json\n",
      "/Users/ehaas/Documents/Python/Jupyter/MyNotebooks/utils/out/profile_compare/temp_out/vs-condition-category-condition-category-union.json\n",
      "/Users/ehaas/Documents/Python/Jupyter/MyNotebooks/utils/out/profile_compare/temp_out/vs-condition-code-us-core-condition-code-intersection.json\n",
      "/Users/ehaas/Documents/Python/Jupyter/MyNotebooks/utils/out/profile_compare/temp_out/vs-condition-code-us-core-condition-code-union.json\n",
      "/Users/ehaas/Documents/Python/Jupyter/MyNotebooks/utils/out/profile_compare/temp_out/vs-device-kind-device-kind-intersection.json\n",
      "/Users/ehaas/Documents/Python/Jupyter/MyNotebooks/utils/out/profile_compare/temp_out/vs-device-kind-device-kind-union.json\n",
      "/Users/ehaas/Documents/Python/Jupyter/MyNotebooks/utils/out/profile_compare/temp_out/vs-languages-simple-language-intersection.json\n",
      "/Users/ehaas/Documents/Python/Jupyter/MyNotebooks/utils/out/profile_compare/temp_out/vs-languages-simple-language-union.json\n",
      "/Users/ehaas/Documents/Python/Jupyter/MyNotebooks/utils/out/profile_compare/temp_out/vs-medication-codes-2.16.840.1.113762.1.4.1010.4-intersection.json\n",
      "/Users/ehaas/Documents/Python/Jupyter/MyNotebooks/utils/out/profile_compare/temp_out/vs-medication-codes-2.16.840.1.113762.1.4.1010.4-union.json\n",
      "/Users/ehaas/Documents/Python/Jupyter/MyNotebooks/utils/out/profile_compare/temp_out/vs-narrative-status-us-core-narrative-status-intersection.json\n",
      "/Users/ehaas/Documents/Python/Jupyter/MyNotebooks/utils/out/profile_compare/temp_out/vs-narrative-status-us-core-narrative-status-union.json\n",
      "/Users/ehaas/Documents/Python/Jupyter/MyNotebooks/utils/out/profile_compare/temp_out/vs-observation-ccdavitalsignresult-us-core-vital-signs-intersection.json\n",
      "/Users/ehaas/Documents/Python/Jupyter/MyNotebooks/utils/out/profile_compare/temp_out/vs-observation-ccdavitalsignresult-us-core-vital-signs-union.json\n",
      "/Users/ehaas/Documents/Python/Jupyter/MyNotebooks/utils/out/profile_compare/temp_out/vs-observation-codes-us-core-laboratory-test-codes-intersection.json\n",
      "/Users/ehaas/Documents/Python/Jupyter/MyNotebooks/utils/out/profile_compare/temp_out/vs-observation-codes-us-core-laboratory-test-codes-union.json\n",
      "/Users/ehaas/Documents/Python/Jupyter/MyNotebooks/utils/out/profile_compare/temp_out/vs-observation-codes-us-core-smoking-status-observation-codes-intersection.json\n",
      "/Users/ehaas/Documents/Python/Jupyter/MyNotebooks/utils/out/profile_compare/temp_out/vs-observation-codes-us-core-smoking-status-observation-codes-union.json\n",
      "/Users/ehaas/Documents/Python/Jupyter/MyNotebooks/utils/out/profile_compare/temp_out/vs-observation-status-us-core-observation-smoking-status-status-intersection.json\n",
      "/Users/ehaas/Documents/Python/Jupyter/MyNotebooks/utils/out/profile_compare/temp_out/vs-observation-status-us-core-observation-smoking-status-status-union.json\n",
      "/Users/ehaas/Documents/Python/Jupyter/MyNotebooks/utils/out/profile_compare/temp_out/vs-procedure-type-us-core-procedure-code-intersection.json\n",
      "/Users/ehaas/Documents/Python/Jupyter/MyNotebooks/utils/out/profile_compare/temp_out/vs-procedure-type-us-core-procedure-code-union.json\n",
      "/Users/ehaas/Documents/Python/Jupyter/MyNotebooks/utils/out/profile_compare/temp_out/vs-report-codes-us-core-diagnosticreport-report-and-note-codes-intersection.json\n",
      "/Users/ehaas/Documents/Python/Jupyter/MyNotebooks/utils/out/profile_compare/temp_out/vs-report-codes-us-core-diagnosticreport-report-and-note-codes-union.json\n",
      "/Users/ehaas/Documents/Python/Jupyter/MyNotebooks/utils/out/profile_compare/temp_out/vs-report-codes-us-core-laboratory-test-codes-intersection.json\n",
      "/Users/ehaas/Documents/Python/Jupyter/MyNotebooks/utils/out/profile_compare/temp_out/vs-report-codes-us-core-laboratory-test-codes-union.json\n",
      "/Users/ehaas/Documents/Python/Jupyter/MyNotebooks/utils/out/profile_compare/temp_out/vs-vacc-status-immunization-status-intersection.json\n",
      "/Users/ehaas/Documents/Python/Jupyter/MyNotebooks/utils/out/profile_compare/temp_out/vs-vacc-status-immunization-status-union.json\n",
      "/Users/ehaas/Documents/Python/Jupyter/MyNotebooks/utils/out/profile_compare/temp_out/vs-vaccine-code-2.16.840.1.113762.1.4.1010.6-intersection.json\n",
      "/Users/ehaas/Documents/Python/Jupyter/MyNotebooks/utils/out/profile_compare/temp_out/vs-vaccine-code-2.16.840.1.113762.1.4.1010.6-union.json\n",
      "zsh:1: no matches found: /Users/ehaas/Documents/Python/Jupyter/MyNotebooks/utils/out/profile_compare/temp_out/vs-*.html\n",
      "zsh:1: no matches found: /Users/ehaas/Documents/Python/Jupyter/MyNotebooks/utils/out/profile_compare/temp_out/sd-*.html\n"
     ]
    }
   ],
   "source": [
    "!ls {OUT}/vs-*.html\n",
    "!ls {OUT}/vs-*.json\n",
    "!rm {OUT}/vs-*.html\n",
    "!rm {OUT}/sd-*.html\n"
   ]
  },
  {
   "cell_type": "markdown",
   "metadata": {},
   "source": [
    "### Iterate over the Rows and perform comparison using the validator\n",
    "\n",
    "- some rows have 1 -> many profiles to compare\n",
    "- some rows have no profile to compare 1-> 0  and 0 -> 1"
   ]
  },
  {
   "cell_type": "code",
   "execution_count": 11,
   "metadata": {},
   "outputs": [
    {
     "name": "stdout",
     "output_type": "stream",
     "text": [
      "0 http://hl7.org/fhir/us/davinci-pas/StructureDefinition/profile-task http://hl7.org/fhir/us/davinci-cdex/StructureDefinition/cdex-task-attachment-request\n",
      "OUT: /Users/ehaas/Documents/Python/Jupyter/MyNotebooks/utils/out/profile_compare/temp_out\n",
      "FHIR Validation tool Version 6.2.0 (Git# 7c3863c6ad96). Built 2023-10-24T23:02:29.602Z (23 hours old)\n",
      "  Java:   17.0.2 from /Library/Java/JavaVirtualMachines/jdk-17.0.2.jdk/Contents/Home on aarch64 (64bit). 4096MB available\n",
      "  Paths:  Current = /Users/ehaas/Documents/Python/Jupyter/MyNotebooks/Validator_Tools, Package Cache = /Users/ehaas/.fhir/packages\n",
      "  Params: -compare -dest /Users/ehaas/Documents/Python/Jupyter/MyNotebooks/utils/out/profile_compare/temp_out -version 4.0.1 -ig hl7.fhir.us.davinci-pas#2.0.0 -ig hl7.fhir.us.davinci-cdex#2.0.0 -left http://hl7.org/fhir/us/davinci-pas/StructureDefinition/profile-task -right http://hl7.org/fhir/us/davinci-cdex/StructureDefinition/cdex-task-attachment-request\n",
      "  Locale: United States/US\n",
      "  Jurisdiction: United States of America\n",
      "Loading\n",
      "  Load FHIR v4.0 from hl7.fhir.r4.core#4.0.1 - 4576 resources (00:04.065)\n",
      "  Load hl7.fhir.uv.extensions.r4#1.0.0 - 1328 resources (00:01.700)\n",
      "  Load hl7.terminology#5.3.0 - 4201 resources (00:01.027)\n",
      "  Load hl7.terminology.r5#5.0.0 - 4174 resources (00:00.653)\n",
      "  Load hl7.fhir.uv.extensions#1.0.0 - 1328 resources (00:01.289)\n",
      "  Terminology server http://tx.fhir.org - Version 3.0.0 (00:00.792)\n",
      "Installing hl7.fhir.us.davinci-pas#2.0.0 to the package cache\n",
      "  Fetching:\n",
      "2023-10-25 15:37:05.963 [main] INFO  o.h.f.u.npm.BasePackageCacheManager [BasePackageCacheManager.java:85] Failed to resolve package hl7.fhir.us.davinci-pas#2.0.0 from server: http://packages.fhir.org (Invalid HTTP response 404 from http://packages.fhir.org/hl7.fhir.us.davinci-pas/2.0.0 (Not Found) (content in /var/folders/q_/m2_r2plx69313_bzdypfs7440000gn/T/http-log/fhir-http-2.log))\n",
      "2023-10-25 15:37:06.579 [main] INFO  o.h.f.u.npm.BasePackageCacheManager [BasePackageCacheManager.java:85] Failed to resolve package hl7.fhir.us.davinci-pas#2.0.0 from server: https://packages2.fhir.org/packages (Invalid HTTP response 404 from https://packages2.fhir.org/packages/hl7.fhir.us.davinci-pas/2.0.0 (Not found) (content in /var/folders/q_/m2_r2plx69313_bzdypfs7440000gn/T/http-log/fhir-http-3.log))\n",
      "Exception in thread \"main\" org.hl7.fhir.exceptions.FHIRException: Cannot add package hl7.fhir.us.davinci-pas to the package cache - a version must be provided\n",
      "\tat org.hl7.fhir.utilities.npm.FilesystemPackageCacheManager.checkValidVersionString(FilesystemPackageCacheManager.java:291)\n",
      "\tat org.hl7.fhir.utilities.npm.FilesystemPackageCacheManager.addPackageToCache(FilesystemPackageCacheManager.java:472)\n",
      "\tat org.hl7.fhir.utilities.npm.FilesystemPackageCacheManager.loadPackage(FilesystemPackageCacheManager.java:636)\n",
      "\tat org.hl7.fhir.validation.IgLoader.loadIg(IgLoader.java:107)\n",
      "\tat org.hl7.fhir.validation.cli.services.ValidationService.loadIgsAndExtensions(ValidationService.java:526)\n",
      "\tat org.hl7.fhir.validation.cli.services.ValidationService.buildValidationEngine(ValidationService.java:469)\n",
      "\tat org.hl7.fhir.validation.cli.services.ValidationService.initializeValidator(ValidationService.java:450)\n",
      "\tat org.hl7.fhir.validation.cli.services.ValidationService.initializeValidator(ValidationService.java:440)\n",
      "\tat org.hl7.fhir.validation.ValidatorCli.getValidationEngine(ValidatorCli.java:413)\n",
      "\tat org.hl7.fhir.validation.ValidatorCli.readParamsAndExecuteTask(ValidatorCli.java:378)\n",
      "\tat org.hl7.fhir.validation.ValidatorCli.readParamsAndExecuteTask(ValidatorCli.java:188)\n",
      "\tat org.hl7.fhir.validation.ValidatorCli.main(ValidatorCli.java:223)\n",
      "============== on exit the output folder will open up your browser================\n"
     ]
    },
    {
     "ename": "IndexError",
     "evalue": "tuple index out of range",
     "output_type": "error",
     "traceback": [
      "\u001b[0;31m---------------------------------------------------------------------------\u001b[0m",
      "\u001b[0;31mIndexError\u001b[0m                                Traceback (most recent call last)",
      "\u001b[1;32m/Users/ehaas/Documents/Python/Jupyter/MyNotebooks/Validator_Tools/IG-Profile_Comparer.ipynb Cell 10\u001b[0m line \u001b[0;36m<cell line: 1>\u001b[0;34m()\u001b[0m\n\u001b[1;32m      <a href='vscode-notebook-cell:/Users/ehaas/Documents/Python/Jupyter/MyNotebooks/Validator_Tools/IG-Profile_Comparer.ipynb#X12sZmlsZQ%3D%3D?line=5'>6</a>\u001b[0m \u001b[39mif\u001b[39;00m r[\u001b[39m1\u001b[39m] \u001b[39mand\u001b[39;00m r[\u001b[39m2\u001b[39m]:\n\u001b[1;32m      <a href='vscode-notebook-cell:/Users/ehaas/Documents/Python/Jupyter/MyNotebooks/Validator_Tools/IG-Profile_Comparer.ipynb#X12sZmlsZQ%3D%3D?line=6'>7</a>\u001b[0m     compare(path, OUT, VERSION, IG1, IG2, r[\u001b[39m1\u001b[39m], r[\u001b[39m2\u001b[39m])\n\u001b[0;32m----> <a href='vscode-notebook-cell:/Users/ehaas/Documents/Python/Jupyter/MyNotebooks/Validator_Tools/IG-Profile_Comparer.ipynb#X12sZmlsZQ%3D%3D?line=7'>8</a>\u001b[0m \u001b[39mif\u001b[39;00m r[\u001b[39m3\u001b[39;49m]:\n\u001b[1;32m      <a href='vscode-notebook-cell:/Users/ehaas/Documents/Python/Jupyter/MyNotebooks/Validator_Tools/IG-Profile_Comparer.ipynb#X12sZmlsZQ%3D%3D?line=8'>9</a>\u001b[0m     RFILENAME\u001b[39m=\u001b[39mr[\u001b[39m3\u001b[39m]\u001b[39m.\u001b[39msplit(\u001b[39m'\u001b[39m\u001b[39m/\u001b[39m\u001b[39m'\u001b[39m)[\u001b[39m-\u001b[39m\u001b[39m1\u001b[39m]\n\u001b[1;32m     <a href='vscode-notebook-cell:/Users/ehaas/Documents/Python/Jupyter/MyNotebooks/Validator_Tools/IG-Profile_Comparer.ipynb#X12sZmlsZQ%3D%3D?line=9'>10</a>\u001b[0m     OUT\u001b[39m=\u001b[39m\u001b[39mf\u001b[39m\u001b[39m'\u001b[39m\u001b[39m{\u001b[39;00mout_path\u001b[39m}\u001b[39;00m\u001b[39m/temp_out\u001b[39m\u001b[39m'\u001b[39m\n",
      "\u001b[0;31mIndexError\u001b[0m: tuple index out of range"
     ]
    }
   ],
   "source": [
    "\n",
    "\n",
    "for r in df.itertuples():\n",
    "    print(r.Index, r[1], r[2])\n",
    "    \n",
    "\n",
    "\n",
    "    if r[1] and r[2]:\n",
    "        compare(path, OUT, VERSION, IG1, IG2, r[1], r[2])\n",
    "    if r[3]:\n",
    "        RFILENAME=r[3].split('/')[-1]\n",
    "        OUT=f'{out_path}/temp_out'\n",
    "        compare(path, OUT, VERSION, IG1, IG2, r[1], r[3])\n",
    "        # use bash to move the files to the r[2] place\n",
    "        # !cp {OUT}/*.html {out_path}\n",
    "        # !cp {OUT}/*.json {out_path}\n",
    "    # if r.Index == 2:\n",
    "    #     break\n",
    "\n",
    "    # pull out *json and *html files from the output folder and put them in the first folder with the name of the profile\n",
    "    # combine the html tables into a single html file\n"
   ]
  },
  {
   "cell_type": "markdown",
   "metadata": {},
   "source": [
    "### Create own index.html from the table"
   ]
  },
  {
   "cell_type": "code",
   "execution_count": null,
   "metadata": {},
   "outputs": [],
   "source": [
    "import jinja2\n",
    "from IPython.display import display as Display, HTML\n",
    "from pathlib import Path\n",
    "import re\n",
    "\n",
    "profcomp = Path(r'/Users/ehaas/Documents/Python/Jupyter/MyNotebooks/utils/out/profile_compare/profcomp')\n",
    "env = jinja2.Environment(loader=jinja2.FileSystemLoader(searchpath='.'), trim_blocks=True, lstrip_blocks=True)\n",
    "template = env.get_template('profcompare.j2',)\n",
    "\n",
    "# temporary override globals for testing and fixing US Core\n",
    "# profile_map = '/Users/ehaas/Documents/FHIR/US-Core/input/images-source/ArgoDQ-USCore-ProfileMap.csv'\n",
    "# df = read_csv(profile_map,na_filter=False)\n",
    "\n",
    "# LEFT =  'ARGONAUT DQ'\n",
    "# RIGHT = 'US Core 6.0.0'\n",
    "\n",
    "# OUT= '/Users/ehaas/Documents/FHIR/US-Core/input/images/comparison-argo'\n",
    "\n",
    "# code that fills in display_dictionary with the values to send to the template\n",
    "sd_complist = [f.name for f in Path(OUT).glob('sd-*.html')] # check if compare.html exists\n",
    "\n",
    "# get vs-*.html files\n",
    "# inspect the title of the html file to get the name of the value set\n",
    "# create a Dictionary of the value set name and the html file\n",
    "# create a template that will create a table of contents\n",
    "\n",
    "vs_dict = {f.name:re.findall(\"<title>(.*?)</title>\", f.read_text(),)[0] for f in Path(OUT).glob('vs-*.html')}\n",
    "\n",
    "my_index = template.render(LEFT=LEFT,\n",
    "                            RIGHT=RIGHT,\n",
    "                            profcomp=df.itertuples(),\n",
    "                            sd_complist=sd_complist,\n",
    "                            vs_dict=vs_dict)\n",
    "Display(HTML(my_index))\n",
    "# index_out = Path(r'/Users/ehaas/Documents/Python/Jupyter/MyNotebooks/utils/out/profile_compare/profcomp/index.html')\n",
    "# index_out.write_text(my_index)\n",
    "out = Path(f'{OUT}/index.html')    \n",
    "out.write_text(my_index)\n",
    "sd_complist"
   ]
  },
  {
   "cell_type": "markdown",
   "metadata": {},
   "source": [
    "### delete files for ig-publisher and create a list of file to exempt from headers,etc\n",
    "\n",
    "add output to sushi-config.yaml file as a \"html-exempt\" file"
   ]
  },
  {
   "cell_type": "code",
   "execution_count": null,
   "metadata": {},
   "outputs": [],
   "source": [
    "!rm {OUT}/template-*.html\n",
    "!rm {OUT}/redirect.*.*\n",
    "from pathlib import Path\n",
    "out = Path(OUT)\n",
    "print('=== add output to sushi-config.yaml file as a \"html-exempt\" file===')\n",
    "for f in out.glob('*.html'):\n",
    "    print(f'    - {target_folder}/{f.name}')\n",
    "print('==================================')"
   ]
  }
 ],
 "metadata": {
  "kernelspec": {
   "display_name": "Python 3.10.2 64-bit ('3.10.2')",
   "language": "python",
   "name": "python3"
  },
  "language_info": {
   "codemirror_mode": {
    "name": "ipython",
    "version": 3
   },
   "file_extension": ".py",
   "mimetype": "text/x-python",
   "name": "python",
   "nbconvert_exporter": "python",
   "pygments_lexer": "ipython3",
   "version": "3.10.2"
  },
  "orig_nbformat": 4,
  "vscode": {
   "interpreter": {
    "hash": "bb8ac4d7b3820c0aa90a30c1b759ca2e95fae5fe8e398fc22d29664b70d4e4bb"
   }
  }
 },
 "nbformat": 4,
 "nbformat_minor": 2
}
