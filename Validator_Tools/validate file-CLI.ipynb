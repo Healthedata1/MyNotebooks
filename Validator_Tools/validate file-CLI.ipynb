{
 "cells": [
  {
   "attachments": {},
   "cell_type": "markdown",
   "metadata": {},
   "source": [
    "## Script to fetch file and validate using CLI tool based on US Core profile\n",
    "\n",
    "- python version 3.6+\n",
    "\n",
    "- upload example\n",
    "- run US Core IG\n",
    "- print output as html\n",
    "\n",
    "### Instructions\n",
    "\n",
    "- download the latest version of the validator from\n",
    "- \n",
    "https://github.com/hapifhir/org.hl7.fhir.core/releases/latest/download/validator_cli.jar\n"
   ]
  },
  {
   "cell_type": "code",
   "execution_count": 9,
   "metadata": {},
   "outputs": [],
   "source": [
    "from pathlib import Path\n",
    "from json import load, dumps, loads\n",
    "from yaml import load as y_load, dump as y_dump, CLoader as Loader, CDumper as Dumper\n",
    "from IPython import display as D\n",
    "from requests import get, post, put\n",
    "from IPython.display import display, Markdown, HTML\n",
    "\n",
    "\n",
    "#Globals\n",
    "\n",
    "headers = {\n",
    "    'Accept':'application/fhir+json',\n",
    "    'Content-Type':'application/fhir+json'\n",
    "    }\n",
    "\n",
    "profiles ={\n",
    "'CareTeam': 'http://hl7.org/fhir/us/core/StructureDefinition/us-core-careteam',\n",
    "'MedicationStatement': 'http://hl7.org/fhir/us/core/StructureDefinition/us-core-medicationstatement',\n",
    "'Device': 'http://hl7.org/fhir/us/core/StructureDefinition/us-core-device',\n",
    "'Practitioner': 'http://hl7.org/fhir/us/core/StructureDefinition/us-core-practitioner',\n",
    "'Patient': 'http://hl7.org/fhir/us/core/StructureDefinition/us-core-patient',\n",
    "'Immunization': 'http://hl7.org/fhir/us/core/StructureDefinition/us-core-immunization',\n",
    "'Observation1': 'http://hl7.org/fhir/us/core/StructureDefinition/us-core-smokingstatus',\n",
    "'DocumentReference': 'http://hl7.org/fhir/us/core/StructureDefinition/us-core-documentreference',\n",
    "'MedicationRequest': 'http://hl7.org/fhir/us/core/StructureDefinition/us-core-medicationrequest',\n",
    "'Condition': 'http://hl7.org/fhir/us/core/StructureDefinition/us-core-condition',\n",
    "'Encounter': 'http://hl7.org/fhir/us/core/StructureDefinition/us-core-encounter',\n",
    "'Organization': 'http://hl7.org/fhir/us/core/StructureDefinition/us-core-organization',\n",
    "'Observation2': 'http://hl7.org/fhir/us/core/StructureDefinition/pediatric-weight-for-height',\n",
    "'Procedure': 'http://hl7.org/fhir/us/core/StructureDefinition/us-core-procedure',\n",
    "'Medication': 'http://hl7.org/fhir/us/core/StructureDefinition/us-core-medication',\n",
    "'Observation3': 'http://hl7.org/fhir/us/core/StructureDefinition/us-core-observation-lab',\n",
    "'DiagnosticReport1': 'http://hl7.org/fhir/us/core/StructureDefinition/us-core-diagnosticreport-note',\n",
    "'PractitionerRole': 'http://hl7.org/fhir/us/core/StructureDefinition/us-core-practitionerrole',\n",
    "'CarePlan': 'http://hl7.org/fhir/us/core/StructureDefinition/us-core-careplan',\n",
    "'Goal': 'http://hl7.org/fhir/us/core/StructureDefinition/us-core-goal',\n",
    "'Location': 'http://hl7.org/fhir/us/core/StructureDefinition/us-core-location',\n",
    "'Observation4': 'http://hl7.org/fhir/us/core/StructureDefinition/pediatric-bmi-for-age',\n",
    "'DiagnosticReport2': 'http://hl7.org/fhir/us/core/StructureDefinition/us-core-diagnosticreport-lab',\n",
    "'AllergyIntolerance': 'http://hl7.org/fhir/us/core/StructureDefinition/us-core-allergyintolerance',\n",
    "}"
   ]
  },
  {
   "attachments": {},
   "cell_type": "markdown",
   "metadata": {},
   "source": [
    "### Get example from test folder\n",
    "\n",
    "- hard code in file\n",
    "- detect type"
   ]
  },
  {
   "cell_type": "code",
   "execution_count": 10,
   "metadata": {},
   "outputs": [
    {
     "name": "stdout",
     "output_type": "stream",
     "text": [
      "java -Xmx4G -jar /Users/ehaas/Downloads/validator_cli.jar /Users/ehaas/Documents/Python/Jupyter/MyNotebooks/Validator_Tools/test_file.json -version 4.0.1 -ig hl7.fhir.us.davinci-pas#2.0.1 -profile http://hl7.org/fhir/us/davinci-pas/StructureDefinition/profile-task\n"
     ]
    },
    {
     "data": {
      "text/plain": [
       "('/Users/ehaas/Downloads/validator_cli.jar',\n",
       " PosixPath('/Users/ehaas/Documents/Python/Jupyter/MyNotebooks/Validator_Tools/in/PAS-Task.json'),\n",
       " 'Task',\n",
       " 'AdditionalInformationTaskExample',\n",
       " 'http://hl7.org/fhir/us/davinci-pas/StructureDefinition/profile-task',\n",
       " '4.0.1',\n",
       " '2.0.1',\n",
       " 'hl7.fhir.us.davinci-pas#2.0.1',\n",
       " PosixPath('/Users/ehaas/Documents/Python/Jupyter/MyNotebooks/Validator_Tools/test_file.json'),\n",
       " '/Users/ehaas/Documents/Python/Jupyter/MyNotebooks/Validator_Tools/test_file.json')"
      ]
     },
     "execution_count": 10,
     "metadata": {},
     "output_type": "execute_result"
    }
   ],
   "source": [
    "VALIDATOR = '/Users/ehaas/Downloads/validator_cli.jar' # path to validator cli jar file\n",
    "\n",
    "#Functions\n",
    "\n",
    "path = Path(r'/Users/ehaas/Documents/FHIR/US-Core/input/examples-yaml/weight.yml')\n",
    "path = Path(r'/Users/ehaas/Documents/FHIR/davinci-ecdx/input/examples-yaml/cdex-task-example20.yml')\n",
    "path = Path(r'/Users/ehaas/Documents/Python/Jupyter/MyNotebooks/Validator_Tools/in/PAS-Task.json')\n",
    "IN = y_load(path.read_text(), Loader=Loader) # yaml to dict\n",
    "fhir_type=IN[\"resourceType\"]\n",
    "r_id = IN[\"id\"]\n",
    "PROFILE = IN['meta']['profile'][0]  # using example defined profile\n",
    "# PROFILE = 'http://hl7.org/fhir/us/davinci-pas/StructureDefinition/profile-task' # using defined profile\n",
    "# PROFILE = 'http://hl7.org/fhir/us/davinci-cdex/StructureDefinition/cdex-task-attachment-request' # using defined profile\n",
    "IG_VERSION = '2.0.1'\n",
    "VERSION = '4.0.1'\n",
    "IG =  'hl7.fhir.us.davinci-pas#2.0.1' #f'hl7.fhir.us.davinci-cdex#{IG_VERSION}' #f'hl7.fhir.us.core#{IG_VERSION}'\n",
    "test_path = Path(r\"/Users/ehaas/Documents/Python/Jupyter/MyNotebooks/Validator_Tools/test_file.json\")\n",
    "test_path.write_text(dumps(IN, indent=4, sort_keys=False))\n",
    "RESOURCE = test_path.as_posix()\n",
    "\n",
    "print (f'java -Xmx4G -jar {VALIDATOR} {RESOURCE} -version {VERSION} -ig {IG} -profile {PROFILE}')\n",
    "\n",
    "VALIDATOR, path, fhir_type, r_id, PROFILE, VERSION, IG_VERSION, IG, test_path, RESOURCE"
   ]
  },
  {
   "attachments": {},
   "cell_type": "markdown",
   "metadata": {},
   "source": [
    "### run the validator\n",
    "(https://confluence.hl7.org/display/FHIR/Using+the+FHIR+Validator#UsingtheFHIRValidator-Usingthevalidator)\n",
    " \n",
    "sends output to standard out\n",
    "\n",
    "~~~\n",
    "java -Xmx4G -jar $VALIDATOR $RESOURCE -version $VERSION -ig $IG -profile #PROFILE\n",
    "~~~\n",
    "\n",
    "### passing variables between bash and python\n",
    "\n",
    "~~~\n",
    "a=10\n",
    "b=20\n",
    "~~~\n",
    "\n",
    "~~~\n",
    "%%bash -s $a $b --out c\n",
    "echo \"this is displayed\"\n",
    "echo \"the last thing printed to stdout will be passed back in the variable c\"\n",
    "echo \"a + b = $(($1+$2))\"\n",
    "~~~~\n",
    "\n",
    "~~~\n",
    "print(c)\n",
    "~~~\n",
    "this is displayed\n",
    "the last thing printed to stdout will be passed back in the variable c\n",
    "a + b = 30\n"
   ]
  },
  {
   "cell_type": "code",
   "execution_count": 11,
   "metadata": {},
   "outputs": [
    {
     "name": "stdout",
     "output_type": "stream",
     "text": [
      "/Users/ehaas/Downloads/validator_cli.jar /Users/ehaas/Documents/Python/Jupyter/MyNotebooks/Validator_Tools/test_file.json 4.0.1 hl7.fhir.us.davinci-pas#2.0.1 http://hl7.org/fhir/us/davinci-pas/StructureDefinition/profile-task\n",
      "java -Xmx4G -jar /Users/ehaas/Downloads/validator_cli.jar /Users/ehaas/Documents/Python/Jupyter/MyNotebooks/Validator_Tools/test_file.json -version 4.0.1 -ig hl7.fhir.us.davinci-pas#2.0.1 -profile http://hl7.org/fhir/us/davinci-pas/StructureDefinition/profile-task\n"
     ]
    },
    {
     "name": "stderr",
     "output_type": "stream",
     "text": [
      "SLF4J: No SLF4J providers were found.\n",
      "SLF4J: Defaulting to no-operation (NOP) logger implementation\n",
      "SLF4J: See https://www.slf4j.org/codes.html#noProviders for further details.\n",
      "SLF4J: Class path contains SLF4J bindings targeting slf4j-api versions 1.7.x or earlier.\n",
      "SLF4J: Ignoring binding found at [jar:file:/Users/ehaas/Downloads/validator_cli.jar!/org/slf4j/impl/StaticLoggerBinder.class]\n",
      "SLF4J: See https://www.slf4j.org/codes.html#ignoredBindings for an explanation.\n"
     ]
    },
    {
     "name": "stdout",
     "output_type": "stream",
     "text": [
      "FHIR Validation tool Version 6.2.15 (Git# 0bb2010409ad). Built 2024-01-30T11:13:28.136Z (12 days old)\n",
      "  Java:   17.0.2 from /Library/Java/JavaVirtualMachines/jdk-17.0.2.jdk/Contents/Home on aarch64 (64bit). 4096MB available\n",
      "  Paths:  Current = /Users/ehaas/Documents/Python/Jupyter/MyNotebooks/Validator_Tools, Package Cache = /Users/ehaas/.fhir/packages\n",
      "  Params: /Users/ehaas/Documents/Python/Jupyter/MyNotebooks/Validator_Tools/test_file.json -version 4.0.1 -ig hl7.fhir.us.davinci-pas#2.0.1 -profile http://hl7.org/fhir/us/davinci-pas/StructureDefinition/profile-task\n",
      "  Locale: United States/US\n",
      "  Jurisdiction: United States of America\n",
      "Loading\n",
      "  Load FHIR v4.0 from hl7.fhir.r4.core#4.0.1 - 4576 resources (00:03.201)\n",
      "  Load hl7.fhir.uv.extensions.r4#1.0.0 - 1328 resources (00:02.237)\n",
      "  Load hl7.terminology#5.4.0 - 4202 resources (00:00.846)\n",
      "  Load hl7.terminology.r5#5.0.0 - 4174 resources (00:00.783)\n",
      "  Load hl7.fhir.uv.extensions#1.0.0 - 1328 resources (00:00.923)\n",
      "  Terminology server http://tx.fhir.org - Version Connected to Terminology Server at http://tx.fhir.org (00:00.648)\n",
      "  Load hl7.terminology.r4#5.3.0 - 4201 resources (00:00.576)\n",
      "  Load hl7.fhir.us.core#3.1.1 - 145 resources (00:00.151)\n",
      "  Load hl7.fhir.r4.examples#4.0.1 - 4582 resources (00:01.476)\n",
      "  Load hl7.fhir.uv.sdc#3.0.0 - 137 resources (00:00.213)\n",
      "  Load hl7.fhir.us.udap-security#0.1.0 - 1 resources (00:00.015)\n",
      "  Load hl7.fhir.us.davinci-hrex#1.0.0 - 25 resources (00:00.060)\n",
      "  Load us.nlm.vsac#0.11.0 - 14323 resources (00:00.174)\n",
      "  Load hl7.fhir.us.davinci-crd#2.0.0 - 41 resources (00:00.106)\n",
      "  Load hl7.terminology.r4#5.0.0 - 4174 resources (00:02.123)\n",
      "  Load hl7.fhir.uv.subscriptions-backport.r4#1.1.0 - 23 resources (00:00.024)\n",
      "  Load hl7.fhir.us.davinci-pas#2.0.1 - 96 resources (00:00.198)\n",
      "  Package Summary: [hl7.fhir.r4.core#4.0.1, hl7.fhir.xver-extensions#0.1.0, hl7.fhir.uv.extensions.r4#1.0.0, hl7.terminology#5.4.0, hl7.terminology.r5#5.0.0, hl7.fhir.uv.extensions#1.0.0, hl7.terminology.r4#5.3.0, hl7.fhir.us.core#3.1.1, hl7.fhir.r4.examples#4.0.1, hl7.fhir.uv.sdc#3.0.0, hl7.fhir.us.udap-security#0.1.0, hl7.fhir.us.davinci-hrex#1.0.0, us.nlm.vsac#0.11.0, hl7.fhir.us.davinci-crd#2.0.0, hl7.terminology.r4#5.0.0, hl7.fhir.uv.subscriptions-backport.r4#1.1.0, hl7.fhir.us.davinci-pas#2.0.1]\n",
      "  Get set...  go (00:00.168)\n",
      "Validating\n",
      "  Profiles: [http://hl7.org/fhir/us/davinci-pas/StructureDefinition/profile-task]\n",
      "  Validate /Users/ehaas/Documents/Python/Jupyter/MyNotebooks/Validator_Tools/test_file.json\n",
      "Validate Task against http://hl7.org/fhir/us/davinci-pas/StructureDefinition/profile-task|2.0.1..........20..........40..........60..........80.........|\n",
      " 00:01.689\n",
      "Done. Times: Loading: 00:14.039, validation: 00:01.689. Memory = 524Mb\n",
      "\n",
      "*FAILURE*: 2 errors, 1 warnings, 7 notes\n",
      "  Error @ Task.identifier[0].system (line 11, col61): Example URLs are not allowed in this context (http://example.org/ITEM_TRACE_NUMBER)\n",
      "  Error @ Task.input[0].value.ofType(url) (line 61, col54): Example URLs are not allowed in this context (http://example.org/payerURL)\n",
      "  Information @ Task.code (line 17, col6): Reference to draft CodeSystem http://hl7.org/fhir/us/davinci-pas/CodeSystem/PASTempCodes|2.0.1\n",
      "  Information @ Task.reasonCode (line 40, col6): Reference to draft CodeSystem http://hl7.org/fhir/us/davinci-pas/CodeSystem/PASTempCodes|2.0.1\n",
      "  Information @ Task.input[0].type (line 53, col14): Reference to draft CodeSystem http://hl7.org/fhir/us/davinci-pas/CodeSystem/PASTempCodes|2.0.1\n",
      "  Information @ Task.input[1].type (line 70, col14): Reference to draft CodeSystem http://hl7.org/fhir/us/davinci-pas/CodeSystem/PASTempCodes|2.0.1\n",
      "  Information @ Task.reasonCode (line 40, col6): Binding for path Task.reasonCode has no source, so can't be checked\n",
      "  Information @ Task.input[0].type (line 53, col14): Binding for path Task.input[0].type has no source, so can't be checked\n",
      "  Information @ Task.input[1].type (line 70, col14): Binding for path Task.input[1].type has no source, so can't be checked\n",
      "  Warning @ Task (line 1, col2): Constraint failed: dom-6: 'A resource should have narrative for robust management' (defined in http://hl7.org/fhir/StructureDefinition/DomainResource) (Best Practice Recommendation)\n",
      "Done. Times: Loading: 00:14.039, validation: 00:01.689. Max Memory = 4Gb\n"
     ]
    },
    {
     "ename": "CalledProcessError",
     "evalue": "Command 'b'echo $1 $2 $3 $4 $5\\necho \"java -Xmx4G -jar $1 $2 -version $3 -ig $4 -profile $5\"\\njava -Xmx4G -jar $1 $2 -version $3 -ig $4 -profile $5\\n'' returned non-zero exit status 1.",
     "output_type": "error",
     "traceback": [
      "\u001b[0;31m---------------------------------------------------------------------------\u001b[0m",
      "\u001b[0;31mCalledProcessError\u001b[0m                        Traceback (most recent call last)",
      "Input \u001b[0;32mIn [11]\u001b[0m, in \u001b[0;36m<cell line: 1>\u001b[0;34m()\u001b[0m\n\u001b[0;32m----> 1\u001b[0m \u001b[43mget_ipython\u001b[49m\u001b[43m(\u001b[49m\u001b[43m)\u001b[49m\u001b[38;5;241;43m.\u001b[39;49m\u001b[43mrun_cell_magic\u001b[49m\u001b[43m(\u001b[49m\u001b[38;5;124;43m'\u001b[39;49m\u001b[38;5;124;43mbash\u001b[39;49m\u001b[38;5;124;43m'\u001b[39;49m\u001b[43m,\u001b[49m\u001b[43m \u001b[49m\u001b[38;5;124;43m'\u001b[39;49m\u001b[38;5;124;43m-s $VALIDATOR $RESOURCE $VERSION $IG $PROFILE\u001b[39;49m\u001b[38;5;124;43m'\u001b[39;49m\u001b[43m,\u001b[49m\u001b[43m \u001b[49m\u001b[38;5;124;43m'\u001b[39;49m\u001b[38;5;124;43mecho $1 $2 $3 $4 $5\u001b[39;49m\u001b[38;5;130;43;01m\\n\u001b[39;49;00m\u001b[38;5;124;43mecho \u001b[39;49m\u001b[38;5;124;43m\"\u001b[39;49m\u001b[38;5;124;43mjava -Xmx4G -jar $1 $2 -version $3 -ig $4 -profile $5\u001b[39;49m\u001b[38;5;124;43m\"\u001b[39;49m\u001b[38;5;130;43;01m\\n\u001b[39;49;00m\u001b[38;5;124;43mjava -Xmx4G -jar $1 $2 -version $3 -ig $4 -profile $5\u001b[39;49m\u001b[38;5;130;43;01m\\n\u001b[39;49;00m\u001b[38;5;124;43m'\u001b[39;49m\u001b[43m)\u001b[49m\n",
      "File \u001b[0;32m~/.pyenv/versions/3.10.2/envs/jupyter/lib/python3.10/site-packages/IPython/core/interactiveshell.py:2338\u001b[0m, in \u001b[0;36mInteractiveShell.run_cell_magic\u001b[0;34m(self, magic_name, line, cell)\u001b[0m\n\u001b[1;32m   2336\u001b[0m \u001b[38;5;28;01mwith\u001b[39;00m \u001b[38;5;28mself\u001b[39m\u001b[38;5;241m.\u001b[39mbuiltin_trap:\n\u001b[1;32m   2337\u001b[0m     args \u001b[38;5;241m=\u001b[39m (magic_arg_s, cell)\n\u001b[0;32m-> 2338\u001b[0m     result \u001b[38;5;241m=\u001b[39m \u001b[43mfn\u001b[49m\u001b[43m(\u001b[49m\u001b[38;5;241;43m*\u001b[39;49m\u001b[43margs\u001b[49m\u001b[43m,\u001b[49m\u001b[43m \u001b[49m\u001b[38;5;241;43m*\u001b[39;49m\u001b[38;5;241;43m*\u001b[39;49m\u001b[43mkwargs\u001b[49m\u001b[43m)\u001b[49m\n\u001b[1;32m   2339\u001b[0m \u001b[38;5;28;01mreturn\u001b[39;00m result\n",
      "File \u001b[0;32m~/.pyenv/versions/3.10.2/envs/jupyter/lib/python3.10/site-packages/IPython/core/magics/script.py:153\u001b[0m, in \u001b[0;36mScriptMagics._make_script_magic.<locals>.named_script_magic\u001b[0;34m(line, cell)\u001b[0m\n\u001b[1;32m    151\u001b[0m \u001b[38;5;28;01melse\u001b[39;00m:\n\u001b[1;32m    152\u001b[0m     line \u001b[38;5;241m=\u001b[39m script\n\u001b[0;32m--> 153\u001b[0m \u001b[38;5;28;01mreturn\u001b[39;00m \u001b[38;5;28;43mself\u001b[39;49m\u001b[38;5;241;43m.\u001b[39;49m\u001b[43mshebang\u001b[49m\u001b[43m(\u001b[49m\u001b[43mline\u001b[49m\u001b[43m,\u001b[49m\u001b[43m \u001b[49m\u001b[43mcell\u001b[49m\u001b[43m)\u001b[49m\n",
      "File \u001b[0;32m~/.pyenv/versions/3.10.2/envs/jupyter/lib/python3.10/site-packages/IPython/core/magics/script.py:305\u001b[0m, in \u001b[0;36mScriptMagics.shebang\u001b[0;34m(self, line, cell)\u001b[0m\n\u001b[1;32m    300\u001b[0m \u001b[38;5;28;01mif\u001b[39;00m args\u001b[38;5;241m.\u001b[39mraise_error \u001b[38;5;129;01mand\u001b[39;00m p\u001b[38;5;241m.\u001b[39mreturncode \u001b[38;5;241m!=\u001b[39m \u001b[38;5;241m0\u001b[39m:\n\u001b[1;32m    301\u001b[0m     \u001b[38;5;66;03m# If we get here and p.returncode is still None, we must have\u001b[39;00m\n\u001b[1;32m    302\u001b[0m     \u001b[38;5;66;03m# killed it but not yet seen its return code. We don't wait for it,\u001b[39;00m\n\u001b[1;32m    303\u001b[0m     \u001b[38;5;66;03m# in case it's stuck in uninterruptible sleep. -9 = SIGKILL\u001b[39;00m\n\u001b[1;32m    304\u001b[0m     rc \u001b[38;5;241m=\u001b[39m p\u001b[38;5;241m.\u001b[39mreturncode \u001b[38;5;129;01mor\u001b[39;00m \u001b[38;5;241m-\u001b[39m\u001b[38;5;241m9\u001b[39m\n\u001b[0;32m--> 305\u001b[0m     \u001b[38;5;28;01mraise\u001b[39;00m CalledProcessError(rc, cell)\n",
      "\u001b[0;31mCalledProcessError\u001b[0m: Command 'b'echo $1 $2 $3 $4 $5\\necho \"java -Xmx4G -jar $1 $2 -version $3 -ig $4 -profile $5\"\\njava -Xmx4G -jar $1 $2 -version $3 -ig $4 -profile $5\\n'' returned non-zero exit status 1."
     ]
    }
   ],
   "source": [
    "%%bash -s $VALIDATOR $RESOURCE $VERSION $IG $PROFILE\n",
    "echo $1 $2 $3 $4 $5\n",
    "echo \"java -Xmx4G -jar $1 $2 -version $3 -ig $4 -profile $5\"\n",
    "java -Xmx4G -jar $1 $2 -version $3 -ig $4 -profile $5"
   ]
  }
 ],
 "metadata": {
  "kernelspec": {
   "display_name": "Python 3",
   "language": "python",
   "name": "python3"
  },
  "language_info": {
   "codemirror_mode": {
    "name": "ipython",
    "version": 3
   },
   "file_extension": ".py",
   "mimetype": "text/x-python",
   "name": "python",
   "nbconvert_exporter": "python",
   "pygments_lexer": "ipython3",
   "version": "3.10.2"
  }
 },
 "nbformat": 4,
 "nbformat_minor": 2
}
