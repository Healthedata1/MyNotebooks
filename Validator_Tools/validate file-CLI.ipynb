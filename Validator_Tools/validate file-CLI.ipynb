{
 "cells": [
  {
   "attachments": {},
   "cell_type": "markdown",
   "metadata": {},
   "source": [
    "## Script to fetch file and validate using CLI tool based on US Core profile\n",
    "\n",
    "- python version 3.6+\n",
    "\n",
    "- upload example\n",
    "- run US Core IG\n",
    "- print output as html\n",
    "\n",
    "### Instructions\n",
    "\n",
    "- download the latest version of the validator from\n",
    "- \n",
    "https://github.com/hapifhir/org.hl7.fhir.core/releases/latest/download/validator_cli.jar\n"
   ]
  },
  {
   "cell_type": "code",
   "execution_count": 1,
   "metadata": {},
   "outputs": [],
   "source": [
    "from pathlib import Path\n",
    "from json import load, dumps, loads\n",
    "from yaml import load as y_load, dump as y_dump, CLoader as Loader, CDumper as Dumper\n",
    "from IPython import display as D\n",
    "from requests import get, post, put\n",
    "from IPython.display import display, Markdown, HTML\n",
    "\n",
    "\n",
    "#Globals\n",
    "\n",
    "headers = {\n",
    "    'Accept':'application/fhir+json',\n",
    "    'Content-Type':'application/fhir+json'\n",
    "    }\n",
    "\n",
    "profiles ={\n",
    "'CareTeam': 'http://hl7.org/fhir/us/core/StructureDefinition/us-core-careteam',\n",
    "'MedicationStatement': 'http://hl7.org/fhir/us/core/StructureDefinition/us-core-medicationstatement',\n",
    "'Device': 'http://hl7.org/fhir/us/core/StructureDefinition/us-core-device',\n",
    "'Practitioner': 'http://hl7.org/fhir/us/core/StructureDefinition/us-core-practitioner',\n",
    "'Patient': 'http://hl7.org/fhir/us/core/StructureDefinition/us-core-patient',\n",
    "'Immunization': 'http://hl7.org/fhir/us/core/StructureDefinition/us-core-immunization',\n",
    "'Observation1': 'http://hl7.org/fhir/us/core/StructureDefinition/us-core-smokingstatus',\n",
    "'DocumentReference': 'http://hl7.org/fhir/us/core/StructureDefinition/us-core-documentreference',\n",
    "'MedicationRequest': 'http://hl7.org/fhir/us/core/StructureDefinition/us-core-medicationrequest',\n",
    "'Condition': 'http://hl7.org/fhir/us/core/StructureDefinition/us-core-condition',\n",
    "'Encounter': 'http://hl7.org/fhir/us/core/StructureDefinition/us-core-encounter',\n",
    "'Organization': 'http://hl7.org/fhir/us/core/StructureDefinition/us-core-organization',\n",
    "'Observation2': 'http://hl7.org/fhir/us/core/StructureDefinition/pediatric-weight-for-height',\n",
    "'Procedure': 'http://hl7.org/fhir/us/core/StructureDefinition/us-core-procedure',\n",
    "'Medication': 'http://hl7.org/fhir/us/core/StructureDefinition/us-core-medication',\n",
    "'Observation3': 'http://hl7.org/fhir/us/core/StructureDefinition/us-core-observation-lab',\n",
    "'DiagnosticReport1': 'http://hl7.org/fhir/us/core/StructureDefinition/us-core-diagnosticreport-note',\n",
    "'PractitionerRole': 'http://hl7.org/fhir/us/core/StructureDefinition/us-core-practitionerrole',\n",
    "'CarePlan': 'http://hl7.org/fhir/us/core/StructureDefinition/us-core-careplan',\n",
    "'Goal': 'http://hl7.org/fhir/us/core/StructureDefinition/us-core-goal',\n",
    "'Location': 'http://hl7.org/fhir/us/core/StructureDefinition/us-core-location',\n",
    "'Observation4': 'http://hl7.org/fhir/us/core/StructureDefinition/pediatric-bmi-for-age',\n",
    "'DiagnosticReport2': 'http://hl7.org/fhir/us/core/StructureDefinition/us-core-diagnosticreport-lab',\n",
    "'AllergyIntolerance': 'http://hl7.org/fhir/us/core/StructureDefinition/us-core-allergyintolerance',\n",
    "}"
   ]
  },
  {
   "attachments": {},
   "cell_type": "markdown",
   "metadata": {},
   "source": [
    "### Get example from test folder\n",
    "\n",
    "- hard code in file\n",
    "- detect type"
   ]
  },
  {
   "cell_type": "code",
   "execution_count": 2,
   "metadata": {},
   "outputs": [
    {
     "name": "stdout",
     "output_type": "stream",
     "text": [
      "java -Xmx4G -jar /Users/ehaas/Downloads/validator_cli.jar /Users/ehaas/Documents/Python/Jupyter/MyNotebooks/Validator_Tools/test_file.json -version 4.0.1 -ig hl7.fhir.us.core#6.0.0 -profile http://hl7.org/fhir/us/core/StructureDefinition/us-core-body-weight\n"
     ]
    },
    {
     "data": {
      "text/plain": [
       "('/Users/ehaas/Downloads/validator_cli.jar',\n",
       " PosixPath('/Users/ehaas/Documents/FHIR/US-Core/input/examples-yaml/weight.yml'),\n",
       " 'Observation',\n",
       " 'weight',\n",
       " 'http://hl7.org/fhir/us/core/StructureDefinition/us-core-body-weight',\n",
       " '4.0.1',\n",
       " '6.0.0',\n",
       " 'hl7.fhir.us.core#6.0.0',\n",
       " PosixPath('/Users/ehaas/Documents/Python/Jupyter/MyNotebooks/Validator_Tools/test_file.json'),\n",
       " '/Users/ehaas/Documents/Python/Jupyter/MyNotebooks/Validator_Tools/test_file.json')"
      ]
     },
     "execution_count": 2,
     "metadata": {},
     "output_type": "execute_result"
    }
   ],
   "source": [
    "VALIDATOR = '/Users/ehaas/Downloads/validator_cli.jar' # path to validator cli jar file\n",
    "path = Path(r'/Users/ehaas/Documents/FHIR/US-Core/input/examples-yaml/weight.yml')\n",
    "IN = y_load(path.read_text(), Loader=Loader)\n",
    "fhir_type=IN[\"resourceType\"]\n",
    "r_id = IN[\"id\"]\n",
    "PROFILE = IN['meta']['profile'][0]\n",
    "USCORE_VERSION = '6.0.0'\n",
    "VERSION = '4.0.1'\n",
    "IG = f'hl7.fhir.us.core#{USCORE_VERSION}'\n",
    "test_path = Path(r\"/Users/ehaas/Documents/Python/Jupyter/MyNotebooks/Validator_Tools/test_file.json\")\n",
    "test_path.write_text(dumps(IN, indent=4, sort_keys=False))\n",
    "RESOURCE = test_path.as_posix()\n",
    "\n",
    "print (f'java -Xmx4G -jar {VALIDATOR} {RESOURCE} -version {VERSION} -ig {IG} -profile {PROFILE}')\n",
    "\n",
    "VALIDATOR, path, fhir_type, r_id, PROFILE, VERSION, USCORE_VERSION, IG, test_path, RESOURCE"
   ]
  },
  {
   "attachments": {},
   "cell_type": "markdown",
   "metadata": {},
   "source": [
    "### run the validator\n",
    "(https://confluence.hl7.org/display/FHIR/Using+the+FHIR+Validator#UsingtheFHIRValidator-Usingthevalidator)\n",
    " \n",
    "sends output to standard out\n",
    "\n",
    "~~~\n",
    "java -Xmx4G -jar $VALIDATOR $RESOURCE -version $VERSION -ig $IG -profile #PROFILE\n",
    "~~~\n",
    "\n",
    "### passing variables between bash and python\n",
    "\n",
    "~~~\n",
    "a=10\n",
    "b=20\n",
    "~~~\n",
    "\n",
    "~~~\n",
    "%%bash -s $a $b --out c\n",
    "echo \"this is displayed\"\n",
    "echo \"the last thing printed to stdout will be passed back in the variable c\"\n",
    "echo \"a + b = $(($1+$2))\"\n",
    "~~~~\n",
    "\n",
    "~~~\n",
    "print(c)\n",
    "~~~\n",
    "this is displayed\n",
    "the last thing printed to stdout will be passed back in the variable c\n",
    "a + b = 30\n"
   ]
  },
  {
   "cell_type": "code",
   "execution_count": 7,
   "metadata": {},
   "outputs": [
    {
     "name": "stdout",
     "output_type": "stream",
     "text": [
      "/Users/ehaas/Downloads/validator_cli.jar /Users/ehaas/Documents/Python/Jupyter/MyNotebooks/Validator_Tools/test_file.json 4.0.1 hl7.fhir.us.core#6.0.0 http://hl7.org/fhir/us/core/StructureDefinition/us-core-body-weight\n",
      "java -Xmx4G -jar /Users/ehaas/Downloads/validator_cli.jar /Users/ehaas/Documents/Python/Jupyter/MyNotebooks/Validator_Tools/test_file.json -version 4.0.1 -ig hl7.fhir.us.core#6.0.0 -profile http://hl7.org/fhir/us/core/StructureDefinition/us-core-body-weight\n",
      "FHIR Validation tool Version 5.6.76 (Git# cc634aecd5f0). Built 2022-11-06T12:51:07.733Z (233 days old)\n",
      "  Java:   17.0.2 from /Library/Java/JavaVirtualMachines/jdk-17.0.2.jdk/Contents/Home on aarch64 (64bit). 4096MB available\n",
      "  Paths:  Current = /Users/ehaas/Documents/Python/Jupyter/MyNotebooks/Validator_Tools, Package Cache = /Users/ehaas/.fhir/packages\n",
      "  Params: /Users/ehaas/Documents/Python/Jupyter/MyNotebooks/Validator_Tools/test_file.json -version 4.0.1 -ig hl7.fhir.us.core#6.0.0 -profile http://hl7.org/fhir/us/core/StructureDefinition/us-core-body-weight\n",
      "  Jurisdiction: No Jurisdiction\n",
      "Loading\n",
      "  Load FHIR v4.0 from hl7.fhir.r4.core#4.0.1  Load hl7.terminology.r4#5.0.0 - 4174 resources (00:03.928)\n",
      " - 7394 resources (00:00.000)\n",
      "  Load hl7.terminology#5.1.0 - 4180 resources (00:00.631)\n",
      "  Load R5 ExtensionsError connecting to build server - running without build (class com.google.gson.JsonNull cannot be cast to class com.google.gson.JsonArray (com.google.gson.JsonNull and com.google.gson.JsonArray are in unnamed module of loader 'app'))\n"
     ]
    },
    {
     "name": "stderr",
     "output_type": "stream",
     "text": [
      "java.lang.ClassCastException: class com.google.gson.JsonNull cannot be cast to class com.google.gson.JsonArray (com.google.gson.JsonNull and com.google.gson.JsonArray are in unnamed module of loader 'app')\n",
      "\tat org.hl7.fhir.utilities.npm.FilesystemPackageCacheManager.loadFromBuildServer(FilesystemPackageCacheManager.java:681)\n",
      "\tat org.hl7.fhir.utilities.npm.FilesystemPackageCacheManager.checkBuildLoaded(FilesystemPackageCacheManager.java:667)\n",
      "\tat org.hl7.fhir.utilities.npm.FilesystemPackageCacheManager.checkCurrency(FilesystemPackageCacheManager.java:648)\n",
      "\tat org.hl7.fhir.utilities.npm.FilesystemPackageCacheManager.loadPackage(FilesystemPackageCacheManager.java:506)\n",
      "\tat org.hl7.fhir.r5.conformance.R5ExtensionsLoader.load(R5ExtensionsLoader.java:52)\n",
      "\tat org.hl7.fhir.validation.cli.services.ValidationService.initializeValidator(ValidationService.java:377)\n",
      "\tat org.hl7.fhir.validation.cli.services.ValidationService.initializeValidator(ValidationService.java:356)\n",
      "\tat org.hl7.fhir.validation.ValidatorCli.doValidation(ValidatorCli.java:269)\n",
      "\tat org.hl7.fhir.validation.ValidatorCli.main(ValidatorCli.java:174)\n"
     ]
    },
    {
     "name": "stdout",
     "output_type": "stream",
     "text": [
      " - 0 resources (00:04.907)\n",
      "  Terminology server http://tx.fhir.org - Version 2.1.0 (00:00.804)\n",
      "  Load hl7.fhir.uv.bulkdata#2.0.0 - 6 resources (00:00.014)\n",
      "  Load hl7.fhir.uv.smart-app-launch#2.1.0 - 7 resources (00:00.004)\n",
      "  Load us.nlm.vsac#0.9.0 - 13259 resources (00:01.246)\n",
      "  Load hl7.fhir.r4.examples#4.0.1 - 4582 resources (00:05.659)\n",
      "  Load hl7.fhir.uv.sdc#3.0.0 - 137 resources (00:00.020)\n",
      "  Load us.cdc.phinvads#0.12.0 - 1967 resources (00:06.016)\n",
      "  Load ihe.formatcode.fhir#1.1.0 - 2 resources (00:00.005)\n",
      "  Load hl7.fhir.us.core#6.0.0 - 211 resources (00:00.025)\n",
      "  Package Summary: [hl7.fhir.r4.core#4.0.1, hl7.fhir.xver-extensions#0.0.11, hl7.terminology.r4#5.0.0, hl7.terminology#5.1.0, hl7.fhir.uv.bulkdata#2.0.0, hl7.fhir.uv.smart-app-launch#2.1.0, us.nlm.vsac#0.9.0, hl7.fhir.r4.examples#4.0.1, hl7.fhir.uv.sdc#3.0.0, us.cdc.phinvads#0.12.0, ihe.formatcode.fhir#1.1.0, hl7.fhir.us.core#6.0.0]\n",
      "  Get set...  go (00:01.093)\n",
      "Validating\n",
      "  Profiles: [http://hl7.org/fhir/us/core/StructureDefinition/us-core-body-weight]\n",
      "  Validate /Users/ehaas/Documents/Python/Jupyter/MyNotebooks/Validator_Tools/test_file.json\n",
      "Validate Observation against http://hl7.org/fhir/us/core/StructureDefinition/us-core-body-weight..........20..........40..........60..........80.........|\n",
      " 00:00.938\n",
      "Done. Times: Loading: 00:24.507, validation: 00:00.938. Memory = 1Gb\n",
      "\n",
      "*FAILURE*: 2 errors, 4 warnings, 0 notes\n",
      "  Error @ Observation.code (line 16, col26): class org.hl7.fhir.r5.model.UriType cannot be cast to class org.hl7.fhir.r5.model.StringType (org.hl7.fhir.r5.model.UriType and org.hl7.fhir.r5.model.StringType are in unnamed module of loader 'app')\n",
      "  Error @ Observation.value.ofType(Quantity).code (line 27, col22): The value provided ('kg') is not in the value set 'Body Weight Units' (http://hl7.org/fhir/ValueSet/ucum-bodyweight|4.0.1), and a code is required from this value set) (error message = class org.hl7.fhir.r5.model.UriType cannot be cast to class org.hl7.fhir.r5.model.StringType (org.hl7.fhir.r5.model.UriType and org.hl7.fhir.r5.model.StringType are in unnamed module of loader 'app'))\n",
      "  Warning @ Observation.code (line 16, col26): [Unable to determine whether the provided codes are in the value set http://hl7.org/fhir/us/core/ValueSet/us-core-vital-signs because the value set or a code system it depends on is not known to the validator]\n",
      "  Warning @ Observation.code.coding[0] (line 18, col14): class org.hl7.fhir.r5.model.UriType cannot be cast to class org.hl7.fhir.r5.model.StringType (org.hl7.fhir.r5.model.UriType and org.hl7.fhir.r5.model.StringType are in unnamed module of loader 'app')\n",
      "  Warning @ Observation.value.ofType(Quantity) (line 27, col22): Code found in include, however: null\n",
      "  Warning @ Observation.value.ofType(Quantity) (line 27, col22): class org.hl7.fhir.r5.model.UriType cannot be cast to class org.hl7.fhir.r5.model.StringType (org.hl7.fhir.r5.model.UriType and org.hl7.fhir.r5.model.StringType are in unnamed module of loader 'app')\n"
     ]
    },
    {
     "ename": "CalledProcessError",
     "evalue": "Command 'b'echo $1 $2 $3 $4 $5\\necho \"java -Xmx4G -jar $1 $2 -version $3 -ig $4 -profile $5\"\\njava -Xmx4G -jar $1 $2 -version $3 -ig $4 -profile $5\\n'' returned non-zero exit status 1.",
     "output_type": "error",
     "traceback": [
      "\u001b[0;31m---------------------------------------------------------------------------\u001b[0m",
      "\u001b[0;31mCalledProcessError\u001b[0m                        Traceback (most recent call last)",
      "\u001b[1;32m/Users/ehaas/Documents/Python/Jupyter/MyNotebooks/Validator_Tools/validate file-CLI.ipynb Cell 6\u001b[0m in \u001b[0;36m<cell line: 1>\u001b[0;34m()\u001b[0m\n\u001b[0;32m----> <a href='vscode-notebook-cell:/Users/ehaas/Documents/Python/Jupyter/MyNotebooks/Validator_Tools/validate%20file-CLI.ipynb#W5sZmlsZQ%3D%3D?line=0'>1</a>\u001b[0m get_ipython()\u001b[39m.\u001b[39;49mrun_cell_magic(\u001b[39m'\u001b[39;49m\u001b[39mbash\u001b[39;49m\u001b[39m'\u001b[39;49m, \u001b[39m'\u001b[39;49m\u001b[39m-s $VALIDATOR $RESOURCE $VERSION $IG $PROFILE\u001b[39;49m\u001b[39m'\u001b[39;49m, \u001b[39m'\u001b[39;49m\u001b[39mecho $1 $2 $3 $4 $5\u001b[39;49m\u001b[39m\\n\u001b[39;49;00m\u001b[39mecho \u001b[39;49m\u001b[39m\"\u001b[39;49m\u001b[39mjava -Xmx4G -jar $1 $2 -version $3 -ig $4 -profile $5\u001b[39;49m\u001b[39m\"\u001b[39;49m\u001b[39m\\n\u001b[39;49;00m\u001b[39mjava -Xmx4G -jar $1 $2 -version $3 -ig $4 -profile $5\u001b[39;49m\u001b[39m\\n\u001b[39;49;00m\u001b[39m'\u001b[39;49m)\n",
      "File \u001b[0;32m~/.pyenv/versions/3.10.2/envs/jupyter/lib/python3.10/site-packages/IPython/core/interactiveshell.py:2338\u001b[0m, in \u001b[0;36mInteractiveShell.run_cell_magic\u001b[0;34m(self, magic_name, line, cell)\u001b[0m\n\u001b[1;32m   2336\u001b[0m \u001b[39mwith\u001b[39;00m \u001b[39mself\u001b[39m\u001b[39m.\u001b[39mbuiltin_trap:\n\u001b[1;32m   2337\u001b[0m     args \u001b[39m=\u001b[39m (magic_arg_s, cell)\n\u001b[0;32m-> 2338\u001b[0m     result \u001b[39m=\u001b[39m fn(\u001b[39m*\u001b[39;49margs, \u001b[39m*\u001b[39;49m\u001b[39m*\u001b[39;49mkwargs)\n\u001b[1;32m   2339\u001b[0m \u001b[39mreturn\u001b[39;00m result\n",
      "File \u001b[0;32m~/.pyenv/versions/3.10.2/envs/jupyter/lib/python3.10/site-packages/IPython/core/magics/script.py:153\u001b[0m, in \u001b[0;36mScriptMagics._make_script_magic.<locals>.named_script_magic\u001b[0;34m(line, cell)\u001b[0m\n\u001b[1;32m    151\u001b[0m \u001b[39melse\u001b[39;00m:\n\u001b[1;32m    152\u001b[0m     line \u001b[39m=\u001b[39m script\n\u001b[0;32m--> 153\u001b[0m \u001b[39mreturn\u001b[39;00m \u001b[39mself\u001b[39;49m\u001b[39m.\u001b[39;49mshebang(line, cell)\n",
      "File \u001b[0;32m~/.pyenv/versions/3.10.2/envs/jupyter/lib/python3.10/site-packages/IPython/core/magics/script.py:305\u001b[0m, in \u001b[0;36mScriptMagics.shebang\u001b[0;34m(self, line, cell)\u001b[0m\n\u001b[1;32m    300\u001b[0m \u001b[39mif\u001b[39;00m args\u001b[39m.\u001b[39mraise_error \u001b[39mand\u001b[39;00m p\u001b[39m.\u001b[39mreturncode \u001b[39m!=\u001b[39m \u001b[39m0\u001b[39m:\n\u001b[1;32m    301\u001b[0m     \u001b[39m# If we get here and p.returncode is still None, we must have\u001b[39;00m\n\u001b[1;32m    302\u001b[0m     \u001b[39m# killed it but not yet seen its return code. We don't wait for it,\u001b[39;00m\n\u001b[1;32m    303\u001b[0m     \u001b[39m# in case it's stuck in uninterruptible sleep. -9 = SIGKILL\u001b[39;00m\n\u001b[1;32m    304\u001b[0m     rc \u001b[39m=\u001b[39m p\u001b[39m.\u001b[39mreturncode \u001b[39mor\u001b[39;00m \u001b[39m-\u001b[39m\u001b[39m9\u001b[39m\n\u001b[0;32m--> 305\u001b[0m     \u001b[39mraise\u001b[39;00m CalledProcessError(rc, cell)\n",
      "\u001b[0;31mCalledProcessError\u001b[0m: Command 'b'echo $1 $2 $3 $4 $5\\necho \"java -Xmx4G -jar $1 $2 -version $3 -ig $4 -profile $5\"\\njava -Xmx4G -jar $1 $2 -version $3 -ig $4 -profile $5\\n'' returned non-zero exit status 1."
     ]
    }
   ],
   "source": [
    "%%bash -s $VALIDATOR $RESOURCE $VERSION $IG $PROFILE\n",
    "echo $1 $2 $3 $4 $5\n",
    "echo \"java -Xmx4G -jar $1 $2 -version $3 -ig $4 -profile $5\"\n",
    "java -Xmx4G -jar $1 $2 -version $3 -ig $4 -profile $5"
   ]
  },
  {
   "cell_type": "code",
   "execution_count": null,
   "metadata": {},
   "outputs": [],
   "source": []
  }
 ],
 "metadata": {
  "kernelspec": {
   "display_name": "Python 3",
   "language": "python",
   "name": "python3"
  },
  "language_info": {
   "codemirror_mode": {
    "name": "ipython",
    "version": 3
   },
   "file_extension": ".py",
   "mimetype": "text/x-python",
   "name": "python",
   "nbconvert_exporter": "python",
   "pygments_lexer": "ipython3",
   "version": "3.10.2"
  }
 },
 "nbformat": 4,
 "nbformat_minor": 2
}
