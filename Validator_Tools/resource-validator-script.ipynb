{
 "cells": [
  {
   "attachments": {},
   "cell_type": "markdown",
   "metadata": {},
   "source": [
    "## Validate Profiles Using CLI Tool\n",
    "\n",
    "This uses the validators compare function to compare a set of profiles:\n",
    "\n",
    "- inputs a user supplied csv table of tuples of the profiles to compare\n",
    " \n",
    "- output are folders with the comparisons\n",
    "\n",
    "---\n",
    "### Instructions\n",
    "\n",
    "- download the latest version of the validator from\n",
    "https://github.com/hapifhir/org.hl7.fhir.core/releases/latest/download/validator_cli.jar\n",
    "Comparing Profiles\n",
    "   - The validator can compare profiles. To compare profiles, use the following\n",
    "parameters:\n",
    "\n",
    "   ~~~\n",
    "   java -jar validator_cli.jar -compare -dest /home/user/work/ig-comparison\n",
    "   -version 4.0\n",
    "   -ig hl7.fhir.us.carin-bb#1.1.0\n",
    "   -ig hl7.fhir.us.davinci-crd#1.0.0\n",
    "   -left http://hl7.org/fhir/us/carin-bb/StructureDefinition/C4BB-Patient\n",
    "   -right http://hl7.org/fhir/us/davinci-crd/StructureDefinition/profile-patient\n",
    "   ~~~\n",
    "\n",
    "   **Parameters Explanation:**\n",
    "\n",
    "   - -compare: tell the validator to rin the comparison logic\n",
    "   - -dest: folder to produce the output. This must exist, and the validator will\n",
    "   overwrite existing content if it needs to. The output isnt simple - see below\n",
    "   - -version Maj.Min - the version to use. You can leave this out and let the\n",
    "   validator infer this, but its there so that you can compare profiles across\n",
    "   versions. E.g. if you specify -version 4.0, the profiles will both be treated as\n",
    "   R4 profiles, even if they arent\n",
    "   - -ig - a repeating parameter that specifies the packages to load, that contain\n",
    "   the profiles you want to compare\n",
    "   - -left and -right - the two profiles to compare. Theres no functional difference\n",
    "   between left and right, except that the comparison will keep to left and right\n",
    "   consistently\n",
    "\n",
    "### Output\n",
    "\n",
    "- The output starts at index.html. The output isnt simple (and may take some time\n",
    "to generate)\n",
    "\n",
    "- For each pair of profiles, the comparison generates a union and an\n",
    "intersections. The union is that total set of things that are allowed by either\n",
    "profile - thats what you could expect to read as a consumer of resources\n",
    "conforming to both profiles. The intersection is the set of things that both\n",
    "implementation guides allow - this is what you are required/allowed to write\n",
    "into a resource if you are creating one that must conform to both profiles. Its\n",
    "possible that the intersection will be empty - theres no valid instance that\n",
    "can conform to both profiles. In that case, consult the IG authors.\n",
    "\n",
    "- The comparison will (must) compare the sub-profiles that the profiles refer to.\n",
    "E.g. if both profiles on a resource such as MedicationAdministration refer to a\n",
    "profile of patient, those profiles will also be compared.\n",
    "\n",
    "---\n"
   ]
  },
  {
   "cell_type": "markdown",
   "metadata": {
    "vscode": {
     "languageId": "shellscript"
    }
   },
   "source": [
    "### convert this to python script using a csv as input\n",
    " - will need to iterate for each artifact to be compared \n"
   ]
  },
  {
   "cell_type": "code",
   "execution_count": 3,
   "metadata": {},
   "outputs": [
    {
     "data": {
      "text/plain": [
       "('out/profile_compare/ipa-patient-us-core-patient',\n",
       " '/Users/ehaas/Downloads/validator_cli.jar')"
      ]
     },
     "execution_count": 3,
     "metadata": {},
     "output_type": "execute_result"
    }
   ],
   "source": [
    "\n",
    "\n",
    "path='/Users/ehaas/Downloads/validator_cli.jar' # path to publisher\n",
    "IG1='hl7.fhir.uv.ipa#current' # path to IG Package 1 = IPA CI build\n",
    "IG2='hl7.fhir.us.core#3.1.1' # path to IG Package 2 = US Core\n",
    "OUT='out/profile_compare' # path to the root destination folder for individual compare folders\n",
    "VERSION='4.0.1' # version of FHIR to use\n",
    "LEFT='http://hl7.org/fhir/uv/ipa/StructureDefinition/ipa-patient'\n",
    "RIGHT='http://hl7.org/fhir/us/core/StructureDefinition/us-core-patient'\n",
    "LFILENAME=LEFT.split('/')[-1]\n",
    "RFILENAME=RIGHT.split('/')[-1]\n",
    "OUT=f'{OUT}/{LFILENAME}-{RFILENAME}' # path to the destination folder it will overwrite existing content\n",
    "%mkdir -p $OUT\n",
    "\n",
    "OUT, path"
   ]
  },
  {
   "cell_type": "markdown",
   "metadata": {},
   "source": [
    "### run the validator to compare profiles\n",
    "\n",
    "~~~\n",
    "java -Xmx4G -jar $path -compare -dest $OUT -version $VERSION -ig $IG1 -ig $IG2 -left $LEFT -right $RIGHT\n",
    "~~~\n",
    "\n",
    "### passing variables between bash and python\n",
    "\n",
    "~~~\n",
    "a=10\n",
    "b=20\n",
    "~~~\n",
    "\n",
    "~~~\n",
    "%%bash -s $a $b --out c\n",
    "echo \"this is displayed\"\n",
    "echo \"the last thing printed to stdout will be passed back in the variable c\"\n",
    "echo \"a + b = $(($1+$2))\"\n",
    "~~~~\n",
    "\n",
    "~~~\n",
    "print(c)\n",
    "~~~\n",
    "this is displayed\n",
    "the last thing printed to stdout will be passed back in the variable c\n",
    "a + b = 30"
   ]
  },
  {
   "cell_type": "code",
   "execution_count": 5,
   "metadata": {},
   "outputs": [
    {
     "name": "stdout",
     "output_type": "stream",
     "text": [
      "/Users/ehaas/Downloads/validator_cli.jar out/profile_compare/ipa-patient-us-core-patient 4.0.1 hl7.fhir.uv.ipa#current hl7.fhir.us.core#3.1.1 http://hl7.org/fhir/uv/ipa/StructureDefinition/ipa-patient http://hl7.org/fhir/us/core/StructureDefinition/us-core-patient\n"
     ]
    }
   ],
   "source": [
    "%%bash -s $path $OUT $VERSION $IG1 $IG2 $LEFT $RIGHT \n",
    "echo $1 $2 $3 $4 $5 $6 $7\n",
    "#java -Xmx4G -jar $1 -compare -dest $2 -version $3 -ig $4 -ig $5 -left $6 -right $7\n"
   ]
  },
  {
   "cell_type": "markdown",
   "metadata": {},
   "source": [
    "### on exit the output folder will open up your browse...."
   ]
  },
  {
   "cell_type": "code",
   "execution_count": 17,
   "metadata": {
    "vscode": {
     "languageId": "shellscript"
    }
   },
   "outputs": [
    {
     "name": "stdout",
     "output_type": "stream",
     "text": [
      "\n"
     ]
    }
   ],
   "source": [
    "\n",
    "\n"
   ]
  }
 ],
 "metadata": {
  "kernelspec": {
   "display_name": "Python 3.10.2 64-bit ('3.10.2')",
   "language": "python",
   "name": "python3"
  },
  "language_info": {
   "codemirror_mode": {
    "name": "ipython",
    "version": 3
   },
   "file_extension": ".py",
   "mimetype": "text/x-python",
   "name": "python",
   "nbconvert_exporter": "python",
   "pygments_lexer": "ipython3",
   "version": "3.10.2"
  },
  "orig_nbformat": 4,
  "vscode": {
   "interpreter": {
    "hash": "bb8ac4d7b3820c0aa90a30c1b759ca2e95fae5fe8e398fc22d29664b70d4e4bb"
   }
  }
 },
 "nbformat": 4,
 "nbformat_minor": 2
}
