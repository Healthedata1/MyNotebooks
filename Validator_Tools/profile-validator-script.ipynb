{
 "cells": [
  {
   "attachments": {},
   "cell_type": "markdown",
   "metadata": {},
   "source": [
    "## Compare Profiles Between IGs\n",
    "\n",
    "This uses the validator to validate a set of profiles:\n",
    "\n",
    "- inputs:\n",
    "  - profiles to validate against\n",
    "  - example instances to validate\n",
    " \n",
    "- output are validation results\n",
    "\n",
    "---\n",
    "### Instructions (https://confluence.hl7.org/display/FHIR/Using+the+FHIR+Validator)\n",
    "\n",
    "- download the latest version of the validator from\n",
    "https://github.com/hapifhir/org.hl7.fhir.core/releases/latest/download/validator_cli.jar\n",
    "\n",
    "#### Running the validator\n",
    "\n",
    "The validator takes a series of parameters that indicate the resources to validator. There must be at at least one source param.\n",
    "\n",
    "Each source parameter can contain either:\n",
    "\n",
    "- a URL that returns the resource to validate (authentication is not supported)\n",
    "- a filename (relative to the current directory, or absolute)\n",
    "- a directory that contains resources to validate (all files are validated if they are recognised as resources)\n",
    "- a pattern: a directory followed by a filename with an embedded asterisk. E.g. foo*-examples.xml or someresource.*, etc\n",
    "\n",
    "   ~~~\n",
    "   java -jar validator_cli.jar\n",
    "   [source]\n",
    "   -version 4.0 \n",
    "   -ig hl7.fhir.us.core#1.0.1\n",
    "   -output c:\\temp\\validation.xml\n",
    "   ~~~\n",
    "\n",
    "   **Parameters Explanation:**\n",
    "\n",
    "   - -output: a file will be created to contain the output. The file will contain an OperationOutcome, or if more than one resource is found, a Bundle of OperationOutcome resources (You can specify an output style that changes the text that's displayed to std out using the -output-style parameter)\n",
    "   - -ig parameters: Validating against an implementation guide The validator can validate against an implementation guide. Do this involves 2 steps:\n",
    "\n",
    "#### What to validate against\n",
    "Use the -profile parameter to tell the validator what to validate against:\n",
    "\n",
    " java -jar validator_cli.jar c:\\temp\\patient.xml -version 3.0 -ig hl7.fhir.us.core#1.0.1 -profile http://hl7.org/fhir/us/core/StructureDefinition/us-core-patient\n",
    " \n",
    "The -profile parameter is the canonical URL for the profile you wish to validate against. This is usually clearly specified on the page where the profile is published. If the profile you specify has not been loaded through one of the implementation guides, the validator will try and load it directly from the canonical url, but it's better to load it with an -ig parameter first."
   ]
  },
  {
   "cell_type": "markdown",
   "metadata": {
    "vscode": {
     "languageId": "shellscript"
    }
   },
   "source": [
    "### convert this to python script using a csv as input\n",
    " - will need to iterate for each artifact to be compared \n"
   ]
  },
  {
   "cell_type": "code",
   "execution_count": 1,
   "metadata": {},
   "outputs": [
    {
     "data": {
      "text/plain": [
       "('/Users/ehaas/Documents/Python/Jupyter/MyNotebooks/Validator_Tools/out/validation.html',\n",
       " '/Users/ehaas/Downloads/validator_cli.jar')"
      ]
     },
     "execution_count": 1,
     "metadata": {},
     "output_type": "execute_result"
    }
   ],
   "source": [
    "\n",
    "\n",
    "path='/Users/ehaas/Downloads/validator_cli.jar' # path to publisher\n",
    "IN = '/Users/ehaas/Downloads/Untitled-1' #path to the resource to validate\n",
    "#IG1='hl7.fhir.uv.ipa#current' # path to IG Package 1 = IPA CI build\n",
    "#IG2='hl7.fhir.us.core#3.1.1' # path to IG Package 2 = US Core\n",
    "IG ='hl7.fhir.us.core#4.0.0' # path to IG = US Core\n",
    "OUT='/Users/ehaas/Documents/Python/Jupyter/MyNotebooks/Validator_Tools/out/validation.html' # path to the root destination folder for individual compare folders\n",
    "VERSION='4.0.1' # version of FHIR to use\n",
    "# LEFT='http://hl7.org/fhir/uv/ipa/StructureDefinition/ipa-patient'\n",
    "# RIGHT='http://hl7.org/fhir/us/core/StructureDefinition/us-core-patient'\n",
    "# LFILENAME=LEFT.split('/')[-1]\n",
    "# RFILENAME=RIGHT.split('/')[-1]\n",
    "FILENAME='us-core-condition'\n",
    "\n",
    "OUT, path"
   ]
  },
  {
   "attachments": {},
   "cell_type": "markdown",
   "metadata": {},
   "source": [
    "### run the validator to compare profiles\n",
    "\n",
    "~~~\n",
    "java -Xmx4G -jar $path -version $VERSION -ig $IG -output $OUT\n",
    "~~~\n",
    "\n",
    "### passing variables between bash and python\n",
    "\n",
    "~~~\n",
    "a=10\n",
    "b=20\n",
    "~~~\n",
    "\n",
    "~~~\n",
    "%%bash -s $a $b --out c\n",
    "echo \"this is displayed\"\n",
    "echo \"the last thing printed to stdout will be passed back in the variable c\"\n",
    "echo \"a + b = $(($1+$2))\"\n",
    "~~~~\n",
    "\n",
    "~~~\n",
    "print(c)\n",
    "~~~\n",
    "this is displayed\n",
    "the last thing printed to stdout will be passed back in the variable c\n",
    "a + b = 30"
   ]
  },
  {
   "cell_type": "code",
   "execution_count": 4,
   "metadata": {},
   "outputs": [
    {
     "name": "stdout",
     "output_type": "stream",
     "text": [
      "/Users/ehaas/Downloads/validator_cli.jar /Users/ehaas/Downloads/Untitled-1 /Users/ehaas/Documents/Python/Jupyter/MyNotebooks/Validator_Tools/out/validation.html 4.0.1 hl7.fhir.us.core#4.0.0\n",
      "java -Xmx4G -jar /Users/ehaas/Downloads/validator_cli.jar /Users/ehaas/Downloads/Untitled-1 -version 4.0.1 -ig hl7.fhir.us.core#4.0.0 -html-output /Users/ehaas/Documents/Python/Jupyter/MyNotebooks/Validator_Tools/out/validation.html\n",
      "FHIR Validation tool Version 5.6.76 (Git# cc634aecd5f0). Built 2022-11-06T12:51:07.733Z (103 days old)\n",
      "  Java:   17.0.2 from /Library/Java/JavaVirtualMachines/jdk-17.0.2.jdk/Contents/Home on aarch64 (64bit). 4096MB available\n",
      "  Paths:  Current = /Users/ehaas/Documents/Python/Jupyter/MyNotebooks/Validator_Tools, Package Cache = /Users/ehaas/.fhir/packages\n",
      "  Params: /Users/ehaas/Downloads/Untitled-1 -version 4.0.1 -ig hl7.fhir.us.core#4.0.0 -html-output /Users/ehaas/Documents/Python/Jupyter/MyNotebooks/Validator_Tools/out/validation.html\n",
      "  Jurisdiction: No Jurisdiction\n",
      "Loading\n",
      "  Load FHIR v4.0 from hl7.fhir.r4.core#4.0.1  Load hl7.terminology.r4#5.0.0 - 4174 resources (00:08.268)\n",
      " - 7394 resources (00:00.001)\n",
      "  Load hl7.terminology#4.0.0 - 4164 resources (00:00.639)\n",
      "  Load R5 Extensions - 123 resources (00:08.125)\n",
      "  Terminology server http://tx.fhir.org - Version 2.0.14 (00:00.853)\n",
      "  Load hl7.fhir.uv.bulkdata#1.0.1 - 4 resources (00:00.019)\n",
      "  Load us.nlm.vsac#0.3.0 - 8916 resources (00:07.895)\n",
      "  Load hl7.fhir.us.core#4.0.0 - 146 resources (00:00.007)\n",
      "  Package Summary: [hl7.fhir.r4.core#4.0.1, hl7.fhir.xver-extensions#0.0.11, hl7.terminology.r4#5.0.0, hl7.terminology#4.0.0, hl7.fhir.uv.bulkdata#1.0.1, us.nlm.vsac#0.3.0, hl7.fhir.us.core#4.0.0]\n",
      "  Get set...  go (00:00.331)\n",
      "Validating\n",
      "  Validate /Users/ehaas/Downloads/Untitled-1\n",
      "Validate Condition against http://hl7.org/fhir/StructureDefinition/Condition..........20..........40..........60..........80.........|\n",
      "Validate Condition against http://hl7.org/fhir/us/core/StructureDefinition/us-core-condition..........20..........40..........60..........80..........100.|\n",
      " 00:01.053\n",
      "Done. Times: Loading: 00:26.365, validation: 00:01.053. Memory = 1Gb\n",
      "\n",
      "Success: 0 errors, 0 warnings, 1 notes\n",
      "  Information: All OK\n",
      "HTML Summary in /Users/ehaas/Documents/Python/Jupyter/MyNotebooks/Validator_Tools/out/validation.html\n"
     ]
    }
   ],
   "source": [
    "%%bash -s $path $IN $OUT $VERSION $IG\n",
    "echo $1 $2 $3 $4 $5\n",
    "echo \"java -Xmx4G -jar $1 $2 -version $4 -ig $5 -html-output $3\"\n",
    "java -Xmx4G -jar $1 $2 -version $4 -ig $5 -html-output $3"
   ]
  },
  {
   "attachments": {},
   "cell_type": "markdown",
   "metadata": {},
   "source": [
    "### open output file will and display as HTML"
   ]
  },
  {
   "cell_type": "code",
   "execution_count": 5,
   "metadata": {},
   "outputs": [
    {
     "data": {
      "text/html": [
       "<!DOCTYPE HTML>\n",
       "<html xmlns=\"http://www.w3.org/1999/xhtml\" xml:lang=\"en\" lang=\"en\">\n",
       "<head>\n",
       "  <title>Validation Results</title>\n",
       "  <link href=\"http://hl7.org/fhir/fhir.css\" rel=\"stylesheet\"/>\n",
       "  <style>\n",
       "    span.flip  { background-color: #4CAF50; color: white; border: solid 1px #a6d8a8; padding: 2px }\n",
       "  </style>\n",
       "  <script>\n",
       "    function flip(id) {\n",
       "      var span = document.getElementById('s'+id);\n",
       "      var div = document.getElementById(id);\n",
       "      if (document.getElementById('s'+id).innerHTML == 'Show Reasoning') {\n",
       "        div.style.display = 'block';\n",
       "        span.innerHTML = 'Hide Reasoning';\n",
       "      } else {\n",
       "        div.style.display = 'none';\n",
       "        span.innerHTML = 'Show Reasoning';\n",
       "      }\n",
       "    }\n",
       "  </script>\n",
       "</head>\n",
       "<body style=\"margin: 20px; background-color: #ffffff\">\n",
       " <h1>Validation Results</h1>\n",
       " <p>0 errors, 0 warnings, 0 hints. Generated Feb 17, 2023, 2:41:48 PM by Validator Version 5.6.76 (Git# cc634aecd5f0). Built 2022-11-06T12:51:07.733Z (103 days old) (1108ms)</p>\n",
       " <table class=\"grid\">\n",
       "   <tr>\n",
       "     <td><b>Filename</b></td><td><b>Errors</b></td><td><b>Warnings</b></td><td><b>Hints</b></td>\n",
       "   </tr>\n",
       "   <tr style=\"background-color: #EFFFEF\">\n",
       "     <td><a href=\"#;1\"><b>/Users/ehaas/Downloads/Untitled-1</b></a></td><td><b>0</b></td><td><b>0</b></td><td><b>0</b></td>\n",
       "   </tr>\n",
       "</table>\n",
       "<hr/>\n",
       "<a name=\"l1\"> </a>\n",
       "<h2><a href=\"file:/Users/ehaas/Downloads/Untitled-1\">/Users/ehaas/Downloads/Untitled-1</a></h2>\n",
       "<p>No Issues detected</p>\n"
      ],
      "text/plain": [
       "<IPython.core.display.HTML object>"
      ]
     },
     "metadata": {},
     "output_type": "display_data"
    }
   ],
   "source": [
    "from pathlib import Path\n",
    "from IPython.display import display, Markdown, HTML\n",
    "\n",
    "# Path to the validator profile\n",
    "my_path = Path()/ OUT\n",
    "# my_path\n",
    "display(HTML(my_path.read_text()))"
   ]
  },
  {
   "cell_type": "code",
   "execution_count": null,
   "metadata": {
    "vscode": {
     "languageId": "shellscript"
    }
   },
   "outputs": [],
   "source": []
  }
 ],
 "metadata": {
  "kernelspec": {
   "display_name": "Python 3.10.2 64-bit ('3.10.2')",
   "language": "python",
   "name": "python3"
  },
  "language_info": {
   "codemirror_mode": {
    "name": "ipython",
    "version": 3
   },
   "file_extension": ".py",
   "mimetype": "text/x-python",
   "name": "python",
   "nbconvert_exporter": "python",
   "pygments_lexer": "ipython3",
   "version": "3.10.2"
  },
  "orig_nbformat": 4,
  "vscode": {
   "interpreter": {
    "hash": "bb8ac4d7b3820c0aa90a30c1b759ca2e95fae5fe8e398fc22d29664b70d4e4bb"
   }
  }
 },
 "nbformat": 4,
 "nbformat_minor": 2
}
