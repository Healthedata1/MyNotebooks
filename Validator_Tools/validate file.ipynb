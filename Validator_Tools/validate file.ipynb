{
 "cells": [
  {
   "cell_type": "markdown",
   "metadata": {},
   "source": [
    "## Script to validate file on test server\n",
    "\n",
    "- python version 3.6+\n",
    "\n",
    "- upload example\n",
    "- run $validate on test server\n",
    "- print output as html\n"
   ]
  },
  {
   "cell_type": "code",
   "execution_count": 24,
   "metadata": {},
   "outputs": [],
   "source": [
    "import os #os module imported here\n",
    "from json import load, dumps, loads\n",
    "from IPython import display as D\n",
    "from requests import get, post, put\n",
    "from IPython.display import display, Markdown, HTML"
   ]
  },
  {
   "cell_type": "markdown",
   "metadata": {},
   "source": [
    "### Get files from folder"
   ]
  },
  {
   "cell_type": "code",
   "execution_count": 25,
   "metadata": {},
   "outputs": [],
   "source": [
    "#in_path = '/Users/ehaas/Documents/FHIR/Argo-Questionnaire/source/examples/'  # <=== append backslash\n",
    "#in_path = '/Users/ehaas/Documents/Python/MyNotebooks/unbundle_save/'\n",
    "#in_path = '/Users/ehaas/Documents/FHIR/synthea/output/fhir/'\n",
    "in_path ='./'\n",
    "\n",
    "#f_name = 'discharge-summary-note'\n",
    "#f_name = 'Denisse335_Stracke611_e760e08d-a0ff-4cd7-83c0-36b27dae6ec3'\n",
    "f_name = 'my_file'"
   ]
  },
  {
   "cell_type": "code",
   "execution_count": 26,
   "metadata": {},
   "outputs": [],
   "source": [
    "def open_file(f_name): # get files\n",
    "    with open(f'{in_path}{f_name}',encoding='utf-8', errors='ignore') as f:\n",
    "        r = f.read()\n",
    "        return(r)"
   ]
  },
  {
   "cell_type": "code",
   "execution_count": 27,
   "metadata": {},
   "outputs": [],
   "source": [
    "def validate(r):\n",
    "    #fhir_test_server = 'http://fhirtest.uhn.ca/baseDstu3'\n",
    "    #fhir_test_server = 'http://test.fhir.org/r3'\n",
    "    #fhir_test_server = 'http://test.fhir.org/r4'\n",
    "    fhir_test_server ='http://wildfhir4.aegis.net/fhir4-0-0'\n",
    "\n",
    "    headers = {\n",
    "    'Accept':'application/fhir+json',\n",
    "    'Content-Type':'application/fhir+json'\n",
    "    }\n",
    "\n",
    "    # profile = 'http://hl7.org/fhir/us/core/StructureDefinition/us-core-patient' # The official URL for this profile is: http://hl7.org/fhir/us/core/StructureDefinition/us-core-patient\n",
    " \n",
    "    params = dict(\n",
    "      #profile = 'http://hl7.org/fhir/us/core/StructureDefinition/us-core-patient' # The official URL for this profile is: http://hl7.org/fhir/us/core/StructureDefinition/us-core-patient\n",
    "        )\n",
    "    \n",
    "    #   r = requests.post('https://httpbin.org/post', data = {'key':'value'})\n",
    "    r = post(f'{fhir_test_server}/{loads(r)[\"resourceType\"]}/$validate', params = params, headers = headers, data = r.encode('utf-8') )   # return r.status_code\n",
    "    # view  output\n",
    "    # return (r.json()[\"text\"][\"div\"])\n",
    "    return r"
   ]
  },
  {
   "cell_type": "code",
   "execution_count": 28,
   "metadata": {},
   "outputs": [
    {
     "name": "stdout",
     "output_type": "stream",
     "text": [
      "json file found:\t my_file\n",
      "Patient\n",
      "...validating file \"my_file\" as Patient\n"
     ]
    },
    {
     "data": {
      "text/html": [
       "<h1>Validation output</h1><h3>Status Code = 200</h3> <div xmlns=\"http://www.w3.org/1999/xhtml\"><table class=\"grid\"><tr><td><b>Severity</b></td><td><b>Location</b></td><td><b>Code</b></td><td><b>Details</b></td><td><b>Diagnostics</b></td><td><b>Source</b></td></tr><tr><td>ERROR</td><td>Patient.communication.language</td><td>Invalid Code</td><td>None of the codes provided are in the maximum value set http://hl7.org/fhir/us/core/ValueSet/simple-language (http://hl7.org/fhir/us/core/ValueSet/simple-language, and a code from this value set is required) (codes = http://hl7.org/fhir/ValueSet/languages#en)</td><td/><td>TerminologyEngine</td></tr><tr><td>ERROR</td><td>Patient.extension[3].extension[1].valueCoding</td><td>Invalid Code</td><td>The Coding references a value set, not a code system (&quot;http://hl7.org/fhir/us/core/ValueSet/omb-ethnicity-category&quot;)</td><td/><td>InstanceValidator</td></tr><tr><td>ERROR</td><td>Patient.extension[2].extension[1].valueCoding</td><td>Invalid Code</td><td>The Coding references a value set, not a code system (&quot;http://hl7.org/fhir/us/core/ValueSet/omb-race-category&quot;)</td><td/><td>InstanceValidator</td></tr><tr><td>ERROR</td><td>Patient.extension[3].extension[1].valueCoding</td><td>Invalid Code</td><td>Unknown Code System http://hl7.org/fhir/us/core/ValueSet/omb-ethnicity-category</td><td/><td>InstanceValidator</td></tr><tr><td>ERROR</td><td>Patient.extension[2].extension[1].valueCoding</td><td>Invalid Code</td><td>Unknown Code System http://hl7.org/fhir/us/core/ValueSet/omb-race-category</td><td/><td>InstanceValidator</td></tr><tr><td>ERROR</td><td>Patient.communication.language.coding (line 124, col22)</td><td>Invalid Code</td><td>The Coding references a value set, not a code system (&quot;http://hl7.org/fhir/ValueSet/languages&quot;)</td><td/><td>InstanceValidator</td></tr><tr><td>ERROR</td><td>Patient.communication.language.coding (line 124, col22)</td><td>Invalid Code</td><td>Unknown Code System http://hl7.org/fhir/ValueSet/languages</td><td/><td>InstanceValidator</td></tr><tr><td>ERROR</td><td>Patient.identifier[2] (line 57, col10)</td><td>Structural Issue</td><td>Profile http://hl7.org/fhir/us/core/StructureDefinition/us-core-patient, Element 'Patient.identifier[2].system': minimum required = 1, but only found 0</td><td/><td>InstanceValidator</td></tr><tr><td>ERROR</td><td>Patient.identifier[3] (line 64, col10)</td><td>Structural Issue</td><td>Profile http://hl7.org/fhir/us/core/StructureDefinition/us-core-patient, Element 'Patient.identifier[3].value': minimum required = 1, but only found 0</td><td/><td>InstanceValidator</td></tr><tr><td>WARNING</td><td>Patient.identifier[1].type</td><td>Invalid Code</td><td>No code provided, and a code should be provided from the value set http://hl7.org/fhir/ValueSet/identifier-type (http://hl7.org/fhir/ValueSet/identifier-type</td><td/><td>InstanceValidator</td></tr><tr><td>WARNING</td><td>Patient.identifier[2].type</td><td>Invalid Code</td><td>No code provided, and a code should be provided from the value set http://hl7.org/fhir/ValueSet/identifier-type (http://hl7.org/fhir/ValueSet/identifier-type</td><td/><td>InstanceValidator</td></tr><tr><td>WARNING</td><td>Patient (line 1, col1)</td><td>Validation rule failed</td><td>A resource should have narrative for robust management [text.div.exists()]</td><td/><td>InstanceValidator</td></tr></table></div>"
      ],
      "text/plain": [
       "<IPython.core.display.HTML object>"
      ]
     },
     "metadata": {},
     "output_type": "display_data"
    }
   ],
   "source": [
    "for file in os.listdir(in_path):\n",
    "\n",
    "        #if file.endswith(\".json\"):\n",
    "        if file == f_name:\n",
    "            print(\"json file found:\\t\", file)\n",
    "            r = open_file(file)\n",
    "\n",
    "            try:\n",
    "                print(loads(r)['resourceType'])\n",
    "                # print(r)\n",
    "\n",
    "\n",
    "                print(f'...validating file \\\"{file}\\\" as {loads(r)[\"resourceType\"]}')\n",
    "                  \n",
    "                r = validate(r)\n",
    "                \n",
    "                if r.status_code < 300:\n",
    "                    display(HTML(f'<h1>Validation output</h1><h3>Status Code = {r.status_code}</h3> {r.json()[\"text\"][\"div\"]}'))\n",
    "            except Exception as e: print(e)\n",
    "                "
   ]
  }
 ],
 "metadata": {
  "kernelspec": {
   "display_name": "Python 3",
   "language": "python",
   "name": "python3"
  },
  "language_info": {
   "codemirror_mode": {
    "name": "ipython",
    "version": 3
   },
   "file_extension": ".py",
   "mimetype": "text/x-python",
   "name": "python",
   "nbconvert_exporter": "python",
   "pygments_lexer": "ipython3",
   "version": "3.7.1"
  }
 },
 "nbformat": 4,
 "nbformat_minor": 2
}
