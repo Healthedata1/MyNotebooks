{
 "cells": [
  {
   "cell_type": "markdown",
   "metadata": {},
   "source": [
    "## Script to validate file on test server\n",
    "\n",
    "- python version 3.6+\n",
    "\n",
    "- upload example\n",
    "- run $validate on test server\n",
    "- print output as html\n"
   ]
  },
  {
   "cell_type": "code",
   "execution_count": 1,
   "metadata": {},
   "outputs": [],
   "source": [
    "import os #os module imported here\n",
    "from json import load, dumps, loads\n",
    "from IPython import display as D\n",
    "from requests import get, post, put\n",
    "from IPython.display import display, Markdown, HTML"
   ]
  },
  {
   "cell_type": "markdown",
   "metadata": {},
   "source": [
    "### Get files from folder"
   ]
  },
  {
   "cell_type": "code",
   "execution_count": 2,
   "metadata": {},
   "outputs": [],
   "source": [
    "#in_path = '/Users/ehaas/Documents/FHIR/Argo-Questionnaire/source/examples/'  # <=== append backslash\n",
    "#in_path = '/Users/ehaas/Documents/Python/MyNotebooks/unbundle_save/'\n",
    "#in_path = '/Users/ehaas/Documents/FHIR/synthea/output/fhir/'\n",
    "#in_path = '/Users/ehaas/Documents/FHIR/US-Core-R4/source/resources/'\n",
    "in_path = '/Users/ehaas/.fhir/packages/hl7.fhir.us.core#dev/package/'\n",
    "     /Users/ehaas/.fhir/packages/hl7.fhir.us.core#dev/package/SearchParameter-us-core-observation-status.json\n",
    "#in_path ='./'\n",
    "\n",
    "#f_name = 'discharge-summary-note'\n",
    "#f_name = 'Denisse335_Stracke611_e760e08d-a0ff-4cd7-83c0-36b27dae6ec3'\n",
    "f_name = 'my_file'\n",
    "\n",
    "type = 'searchparameter'"
   ]
  },
  {
   "cell_type": "code",
   "execution_count": 3,
   "metadata": {},
   "outputs": [],
   "source": [
    "def open_file(f_name): # get files\n",
    "    with open(f'{in_path}{f_name}',encoding='utf-8', errors='ignore') as f:\n",
    "        r = f.read()\n",
    "        return(r)"
   ]
  },
  {
   "cell_type": "code",
   "execution_count": 4,
   "metadata": {},
   "outputs": [],
   "source": [
    "def validate(r):\n",
    "    #fhir_test_server = 'http://fhirtest.uhn.ca/baseDstu3'\n",
    "    #fhir_test_server = 'http://test.fhir.org/r3'\n",
    "    #fhir_test_server = 'http://test.fhir.org/r4'\n",
    "    #fhir_test_server ='http://wildfhir4.aegis.net/fhir4-0-0'\n",
    "    #fhir_test_server ='http://wildfhir4.aegis.net/fhir4-0-0'\n",
    "    fhir_test_server ='http://hapi.fhir.org/baseR4'\n",
    "  \n",
    "\n",
    "    headers = {\n",
    "    'Accept':'application/fhir+json',\n",
    "    'Content-Type':'application/fhir+json'\n",
    "    }\n",
    "\n",
    "    # profile = 'http://hl7.org/fhir/us/core/StructureDefinition/us-core-patient' # The official URL for this profile is: http://hl7.org/fhir/us/core/StructureDefinition/us-core-patient\n",
    " \n",
    "    params = dict(\n",
    "      #profile = 'http://hl7.org/fhir/us/core/StructureDefinition/us-core-patient' # The official URL for this profile is: http://hl7.org/fhir/us/core/StructureDefinition/us-core-patient\n",
    "        )\n",
    "    \n",
    "    #   r = requests.post('https://httpbin.org/post', data = {'key':'value'})\n",
    "    r = post(f'{fhir_test_server}/{loads(r)[\"resourceType\"]}/$validate', params = params, headers = headers, data = r.encode('utf-8') )   # return r.status_code\n",
    "    # view  output\n",
    "    # return (r.json()[\"text\"][\"div\"])\n",
    "    return r"
   ]
  },
  {
   "cell_type": "code",
   "execution_count": 6,
   "metadata": {},
   "outputs": [
    {
     "name": "stdout",
     "output_type": "stream",
     "text": [
      "json file found:\t SearchParameter-us-core-immunization-status.json\n",
      "SearchParameter\n",
      "...validating file \"SearchParameter-us-core-immunization-status.json\" as SearchParameter\n"
     ]
    },
    {
     "data": {
      "text/html": [
       "<h1>Validation output</h1><h3>Status Code = 400</h3> <div xmlns=\"http://www.w3.org/1999/xhtml\"><h1>Operation Outcome</h1><table border=\"0\"><tr><td style=\"font-weight: bold;\">ERROR</td><td>[]</td><td><pre>Failed to parse request body as JSON resource. Error was: Invalid attribute value \"?\": Unknown SearchModifierCode code '?'</pre></td>\n",
       "\t\t\t\t\t\n",
       "\t\t\t\t\n",
       "\t\t\t</tr>\n",
       "\t\t</table>\n",
       "\t</div>"
      ],
      "text/plain": [
       "<IPython.core.display.HTML object>"
      ]
     },
     "metadata": {},
     "output_type": "display_data"
    },
    {
     "name": "stdout",
     "output_type": "stream",
     "text": [
      "json file found:\t SearchParameter-us-core-condition-category.json\n",
      "SearchParameter\n",
      "...validating file \"SearchParameter-us-core-condition-category.json\" as SearchParameter\n"
     ]
    },
    {
     "data": {
      "text/html": [
       "<h1>Validation output</h1><h3>Status Code = 400</h3> <div xmlns=\"http://www.w3.org/1999/xhtml\"><h1>Operation Outcome</h1><table border=\"0\"><tr><td style=\"font-weight: bold;\">ERROR</td><td>[]</td><td><pre>Failed to parse request body as JSON resource. Error was: Invalid attribute value \"?\": Unknown SearchModifierCode code '?'</pre></td>\n",
       "\t\t\t\t\t\n",
       "\t\t\t\t\n",
       "\t\t\t</tr>\n",
       "\t\t</table>\n",
       "\t</div>"
      ],
      "text/plain": [
       "<IPython.core.display.HTML object>"
      ]
     },
     "metadata": {},
     "output_type": "display_data"
    },
    {
     "name": "stdout",
     "output_type": "stream",
     "text": [
      "json file found:\t SearchParameter-us-core-patient-identifier.json\n",
      "SearchParameter\n",
      "...validating file \"SearchParameter-us-core-patient-identifier.json\" as SearchParameter\n"
     ]
    },
    {
     "data": {
      "text/html": [
       "<h1>Validation output</h1><h3>Status Code = 400</h3> <div xmlns=\"http://www.w3.org/1999/xhtml\"><h1>Operation Outcome</h1><table border=\"0\"><tr><td style=\"font-weight: bold;\">ERROR</td><td>[]</td><td><pre>Failed to parse request body as JSON resource. Error was: Invalid attribute value \"?\": Unknown SearchModifierCode code '?'</pre></td>\n",
       "\t\t\t\t\t\n",
       "\t\t\t\t\n",
       "\t\t\t</tr>\n",
       "\t\t</table>\n",
       "\t</div>"
      ],
      "text/plain": [
       "<IPython.core.display.HTML object>"
      ]
     },
     "metadata": {},
     "output_type": "display_data"
    },
    {
     "name": "stdout",
     "output_type": "stream",
     "text": [
      "json file found:\t SearchParameter-us-core-practitioner-identifier.json\n",
      "SearchParameter\n",
      "...validating file \"SearchParameter-us-core-practitioner-identifier.json\" as SearchParameter\n"
     ]
    },
    {
     "data": {
      "text/html": [
       "<h1>Validation output</h1><h3>Status Code = 400</h3> <div xmlns=\"http://www.w3.org/1999/xhtml\"><h1>Operation Outcome</h1><table border=\"0\"><tr><td style=\"font-weight: bold;\">ERROR</td><td>[]</td><td><pre>Failed to parse request body as JSON resource. Error was: Invalid attribute value \"?\": Unknown SearchModifierCode code '?'</pre></td>\n",
       "\t\t\t\t\t\n",
       "\t\t\t\t\n",
       "\t\t\t</tr>\n",
       "\t\t</table>\n",
       "\t</div>"
      ],
      "text/plain": [
       "<IPython.core.display.HTML object>"
      ]
     },
     "metadata": {},
     "output_type": "display_data"
    },
    {
     "name": "stdout",
     "output_type": "stream",
     "text": [
      "json file found:\t SearchParameter-us-core-documentreference-category.json\n",
      "SearchParameter\n",
      "...validating file \"SearchParameter-us-core-documentreference-category.json\" as SearchParameter\n"
     ]
    },
    {
     "data": {
      "text/html": [
       "<h1>Validation output</h1><h3>Status Code = 400</h3> <div xmlns=\"http://www.w3.org/1999/xhtml\"><h1>Operation Outcome</h1><table border=\"0\"><tr><td style=\"font-weight: bold;\">ERROR</td><td>[]</td><td><pre>Failed to parse request body as JSON resource. Error was: Invalid attribute value \"?\": Unknown SearchModifierCode code '?'</pre></td>\n",
       "\t\t\t\t\t\n",
       "\t\t\t\t\n",
       "\t\t\t</tr>\n",
       "\t\t</table>\n",
       "\t</div>"
      ],
      "text/plain": [
       "<IPython.core.display.HTML object>"
      ]
     },
     "metadata": {},
     "output_type": "display_data"
    },
    {
     "name": "stdout",
     "output_type": "stream",
     "text": [
      "json file found:\t SearchParameter-us-core-careteam-status.json\n",
      "SearchParameter\n",
      "...validating file \"SearchParameter-us-core-careteam-status.json\" as SearchParameter\n"
     ]
    },
    {
     "data": {
      "text/html": [
       "<h1>Validation output</h1><h3>Status Code = 400</h3> <div xmlns=\"http://www.w3.org/1999/xhtml\"><h1>Operation Outcome</h1><table border=\"0\"><tr><td style=\"font-weight: bold;\">ERROR</td><td>[]</td><td><pre>Failed to parse request body as JSON resource. Error was: Invalid attribute value \"?\": Unknown SearchModifierCode code '?'</pre></td>\n",
       "\t\t\t\t\t\n",
       "\t\t\t\t\n",
       "\t\t\t</tr>\n",
       "\t\t</table>\n",
       "\t</div>"
      ],
      "text/plain": [
       "<IPython.core.display.HTML object>"
      ]
     },
     "metadata": {},
     "output_type": "display_data"
    },
    {
     "name": "stdout",
     "output_type": "stream",
     "text": [
      "json file found:\t SearchParameter-us-core-location-address-city.json\n",
      "SearchParameter\n",
      "...validating file \"SearchParameter-us-core-location-address-city.json\" as SearchParameter\n"
     ]
    },
    {
     "data": {
      "text/html": [
       "<h1>Validation output</h1><h3>Status Code = 400</h3> <div xmlns=\"http://www.w3.org/1999/xhtml\"><h1>Operation Outcome</h1><table border=\"0\"><tr><td style=\"font-weight: bold;\">ERROR</td><td>[]</td><td><pre>Failed to parse request body as JSON resource. Error was: Invalid attribute value \"?\": Unknown SearchModifierCode code '?'</pre></td>\n",
       "\t\t\t\t\t\n",
       "\t\t\t\t\n",
       "\t\t\t</tr>\n",
       "\t\t</table>\n",
       "\t</div>"
      ],
      "text/plain": [
       "<IPython.core.display.HTML object>"
      ]
     },
     "metadata": {},
     "output_type": "display_data"
    },
    {
     "name": "stdout",
     "output_type": "stream",
     "text": [
      "json file found:\t SearchParameter-us-core-patient-id.json\n",
      "SearchParameter\n",
      "...validating file \"SearchParameter-us-core-patient-id.json\" as SearchParameter\n"
     ]
    },
    {
     "data": {
      "text/html": [
       "<h1>Validation output</h1><h3>Status Code = 400</h3> <div xmlns=\"http://www.w3.org/1999/xhtml\"><h1>Operation Outcome</h1><table border=\"0\"><tr><td style=\"font-weight: bold;\">ERROR</td><td>[]</td><td><pre>Failed to parse request body as JSON resource. Error was: Invalid attribute value \"?\": Unknown SearchModifierCode code '?'</pre></td>\n",
       "\t\t\t\t\t\n",
       "\t\t\t\t\n",
       "\t\t\t</tr>\n",
       "\t\t</table>\n",
       "\t</div>"
      ],
      "text/plain": [
       "<IPython.core.display.HTML object>"
      ]
     },
     "metadata": {},
     "output_type": "display_data"
    },
    {
     "name": "stdout",
     "output_type": "stream",
     "text": [
      "json file found:\t SearchParameter-us-core-immunization-patient.json\n",
      "SearchParameter\n",
      "...validating file \"SearchParameter-us-core-immunization-patient.json\" as SearchParameter\n"
     ]
    },
    {
     "data": {
      "text/html": [
       "<h1>Validation output</h1><h3>Status Code = 400</h3> <div xmlns=\"http://www.w3.org/1999/xhtml\"><h1>Operation Outcome</h1><table border=\"0\"><tr><td style=\"font-weight: bold;\">ERROR</td><td>[]</td><td><pre>Failed to parse request body as JSON resource. Error was: Invalid attribute value \"?\": Unknown SearchModifierCode code '?'</pre></td>\n",
       "\t\t\t\t\t\n",
       "\t\t\t\t\n",
       "\t\t\t</tr>\n",
       "\t\t</table>\n",
       "\t</div>"
      ],
      "text/plain": [
       "<IPython.core.display.HTML object>"
      ]
     },
     "metadata": {},
     "output_type": "display_data"
    },
    {
     "name": "stdout",
     "output_type": "stream",
     "text": [
      "json file found:\t SearchParameter-us-core-goal-patient.json\n",
      "SearchParameter\n",
      "...validating file \"SearchParameter-us-core-goal-patient.json\" as SearchParameter\n"
     ]
    },
    {
     "data": {
      "text/html": [
       "<h1>Validation output</h1><h3>Status Code = 400</h3> <div xmlns=\"http://www.w3.org/1999/xhtml\"><h1>Operation Outcome</h1><table border=\"0\"><tr><td style=\"font-weight: bold;\">ERROR</td><td>[]</td><td><pre>Failed to parse request body as JSON resource. Error was: Invalid attribute value \"?\": Unknown SearchModifierCode code '?'</pre></td>\n",
       "\t\t\t\t\t\n",
       "\t\t\t\t\n",
       "\t\t\t</tr>\n",
       "\t\t</table>\n",
       "\t</div>"
      ],
      "text/plain": [
       "<IPython.core.display.HTML object>"
      ]
     },
     "metadata": {},
     "output_type": "display_data"
    },
    {
     "name": "stdout",
     "output_type": "stream",
     "text": [
      "json file found:\t SearchParameter-us-core-device-type.json\n",
      "SearchParameter\n",
      "...validating file \"SearchParameter-us-core-device-type.json\" as SearchParameter\n"
     ]
    },
    {
     "data": {
      "text/html": [
       "<h1>Validation output</h1><h3>Status Code = 400</h3> <div xmlns=\"http://www.w3.org/1999/xhtml\"><h1>Operation Outcome</h1><table border=\"0\"><tr><td style=\"font-weight: bold;\">ERROR</td><td>[]</td><td><pre>Failed to parse request body as JSON resource. Error was: Invalid attribute value \"?\": Unknown SearchModifierCode code '?'</pre></td>\n",
       "\t\t\t\t\t\n",
       "\t\t\t\t\n",
       "\t\t\t</tr>\n",
       "\t\t</table>\n",
       "\t</div>"
      ],
      "text/plain": [
       "<IPython.core.display.HTML object>"
      ]
     },
     "metadata": {},
     "output_type": "display_data"
    },
    {
     "name": "stdout",
     "output_type": "stream",
     "text": [
      "json file found:\t SearchParameter-us-core-patient-name.json\n",
      "SearchParameter\n",
      "...validating file \"SearchParameter-us-core-patient-name.json\" as SearchParameter\n"
     ]
    },
    {
     "data": {
      "text/html": [
       "<h1>Validation output</h1><h3>Status Code = 400</h3> <div xmlns=\"http://www.w3.org/1999/xhtml\"><h1>Operation Outcome</h1><table border=\"0\"><tr><td style=\"font-weight: bold;\">ERROR</td><td>[]</td><td><pre>Failed to parse request body as JSON resource. Error was: Invalid attribute value \"?\": Unknown SearchModifierCode code '?'</pre></td>\n",
       "\t\t\t\t\t\n",
       "\t\t\t\t\n",
       "\t\t\t</tr>\n",
       "\t\t</table>\n",
       "\t</div>"
      ],
      "text/plain": [
       "<IPython.core.display.HTML object>"
      ]
     },
     "metadata": {},
     "output_type": "display_data"
    },
    {
     "name": "stdout",
     "output_type": "stream",
     "text": [
      "json file found:\t SearchParameter-us-core-practitionerrole-specialty.json\n",
      "SearchParameter\n",
      "...validating file \"SearchParameter-us-core-practitionerrole-specialty.json\" as SearchParameter\n"
     ]
    },
    {
     "data": {
      "text/html": [
       "<h1>Validation output</h1><h3>Status Code = 400</h3> <div xmlns=\"http://www.w3.org/1999/xhtml\"><h1>Operation Outcome</h1><table border=\"0\"><tr><td style=\"font-weight: bold;\">ERROR</td><td>[]</td><td><pre>Failed to parse request body as JSON resource. Error was: Invalid attribute value \"?\": Unknown SearchModifierCode code '?'</pre></td>\n",
       "\t\t\t\t\t\n",
       "\t\t\t\t\n",
       "\t\t\t</tr>\n",
       "\t\t</table>\n",
       "\t</div>"
      ],
      "text/plain": [
       "<IPython.core.display.HTML object>"
      ]
     },
     "metadata": {},
     "output_type": "display_data"
    },
    {
     "name": "stdout",
     "output_type": "stream",
     "text": [
      "json file found:\t SearchParameter-us-core-encounter-identifier.json\n",
      "SearchParameter\n",
      "...validating file \"SearchParameter-us-core-encounter-identifier.json\" as SearchParameter\n"
     ]
    },
    {
     "data": {
      "text/html": [
       "<h1>Validation output</h1><h3>Status Code = 400</h3> <div xmlns=\"http://www.w3.org/1999/xhtml\"><h1>Operation Outcome</h1><table border=\"0\"><tr><td style=\"font-weight: bold;\">ERROR</td><td>[]</td><td><pre>Failed to parse request body as JSON resource. Error was: Invalid attribute value \"?\": Unknown SearchModifierCode code '?'</pre></td>\n",
       "\t\t\t\t\t\n",
       "\t\t\t\t\n",
       "\t\t\t</tr>\n",
       "\t\t</table>\n",
       "\t</div>"
      ],
      "text/plain": [
       "<IPython.core.display.HTML object>"
      ]
     },
     "metadata": {},
     "output_type": "display_data"
    },
    {
     "name": "stdout",
     "output_type": "stream",
     "text": [
      "json file found:\t SearchParameter-us-core-immunization-date.json\n",
      "SearchParameter\n",
      "...validating file \"SearchParameter-us-core-immunization-date.json\" as SearchParameter\n"
     ]
    },
    {
     "data": {
      "text/html": [
       "<h1>Validation output</h1><h3>Status Code = 400</h3> <div xmlns=\"http://www.w3.org/1999/xhtml\"><h1>Operation Outcome</h1><table border=\"0\"><tr><td style=\"font-weight: bold;\">ERROR</td><td>[]</td><td><pre>Failed to parse request body as JSON resource. Error was: Invalid attribute value \"?\": Unknown SearchModifierCode code '?'</pre></td>\n",
       "\t\t\t\t\t\n",
       "\t\t\t\t\n",
       "\t\t\t</tr>\n",
       "\t\t</table>\n",
       "\t</div>"
      ],
      "text/plain": [
       "<IPython.core.display.HTML object>"
      ]
     },
     "metadata": {},
     "output_type": "display_data"
    },
    {
     "name": "stdout",
     "output_type": "stream",
     "text": [
      "json file found:\t SearchParameter-us-core-careteam-patient.json\n",
      "SearchParameter\n",
      "...validating file \"SearchParameter-us-core-careteam-patient.json\" as SearchParameter\n"
     ]
    },
    {
     "data": {
      "text/html": [
       "<h1>Validation output</h1><h3>Status Code = 400</h3> <div xmlns=\"http://www.w3.org/1999/xhtml\"><h1>Operation Outcome</h1><table border=\"0\"><tr><td style=\"font-weight: bold;\">ERROR</td><td>[]</td><td><pre>Failed to parse request body as JSON resource. Error was: Invalid attribute value \"?\": Unknown SearchModifierCode code '?'</pre></td>\n",
       "\t\t\t\t\t\n",
       "\t\t\t\t\n",
       "\t\t\t</tr>\n",
       "\t\t</table>\n",
       "\t</div>"
      ],
      "text/plain": [
       "<IPython.core.display.HTML object>"
      ]
     },
     "metadata": {},
     "output_type": "display_data"
    },
    {
     "name": "stdout",
     "output_type": "stream",
     "text": [
      "json file found:\t SearchParameter-us-core-careplan-date.json\n",
      "SearchParameter\n",
      "...validating file \"SearchParameter-us-core-careplan-date.json\" as SearchParameter\n"
     ]
    },
    {
     "data": {
      "text/html": [
       "<h1>Validation output</h1><h3>Status Code = 400</h3> <div xmlns=\"http://www.w3.org/1999/xhtml\"><h1>Operation Outcome</h1><table border=\"0\"><tr><td style=\"font-weight: bold;\">ERROR</td><td>[]</td><td><pre>Failed to parse request body as JSON resource. Error was: Invalid attribute value \"?\": Unknown SearchModifierCode code '?'</pre></td>\n",
       "\t\t\t\t\t\n",
       "\t\t\t\t\n",
       "\t\t\t</tr>\n",
       "\t\t</table>\n",
       "\t</div>"
      ],
      "text/plain": [
       "<IPython.core.display.HTML object>"
      ]
     },
     "metadata": {},
     "output_type": "display_data"
    },
    {
     "name": "stdout",
     "output_type": "stream",
     "text": [
      "json file found:\t SearchParameter-us-core-diagnosticreport-patient.json\n",
      "SearchParameter\n",
      "...validating file \"SearchParameter-us-core-diagnosticreport-patient.json\" as SearchParameter\n"
     ]
    },
    {
     "data": {
      "text/html": [
       "<h1>Validation output</h1><h3>Status Code = 400</h3> <div xmlns=\"http://www.w3.org/1999/xhtml\"><h1>Operation Outcome</h1><table border=\"0\"><tr><td style=\"font-weight: bold;\">ERROR</td><td>[]</td><td><pre>Failed to parse request body as JSON resource. Error was: Invalid attribute value \"?\": Unknown SearchModifierCode code '?'</pre></td>\n",
       "\t\t\t\t\t\n",
       "\t\t\t\t\n",
       "\t\t\t</tr>\n",
       "\t\t</table>\n",
       "\t</div>"
      ],
      "text/plain": [
       "<IPython.core.display.HTML object>"
      ]
     },
     "metadata": {},
     "output_type": "display_data"
    },
    {
     "name": "stdout",
     "output_type": "stream",
     "text": [
      "json file found:\t SearchParameter-us-core-goal-target-date.json\n",
      "SearchParameter\n",
      "...validating file \"SearchParameter-us-core-goal-target-date.json\" as SearchParameter\n"
     ]
    },
    {
     "data": {
      "text/html": [
       "<h1>Validation output</h1><h3>Status Code = 400</h3> <div xmlns=\"http://www.w3.org/1999/xhtml\"><h1>Operation Outcome</h1><table border=\"0\"><tr><td style=\"font-weight: bold;\">ERROR</td><td>[]</td><td><pre>Failed to parse request body as JSON resource. Error was: Invalid attribute value \"?\": Unknown SearchModifierCode code '?'</pre></td>\n",
       "\t\t\t\t\t\n",
       "\t\t\t\t\n",
       "\t\t\t</tr>\n",
       "\t\t</table>\n",
       "\t</div>"
      ],
      "text/plain": [
       "<IPython.core.display.HTML object>"
      ]
     },
     "metadata": {},
     "output_type": "display_data"
    },
    {
     "name": "stdout",
     "output_type": "stream",
     "text": [
      "json file found:\t SearchParameter-us-core-procedure-patient.json\n",
      "SearchParameter\n",
      "...validating file \"SearchParameter-us-core-procedure-patient.json\" as SearchParameter\n"
     ]
    },
    {
     "data": {
      "text/html": [
       "<h1>Validation output</h1><h3>Status Code = 400</h3> <div xmlns=\"http://www.w3.org/1999/xhtml\"><h1>Operation Outcome</h1><table border=\"0\"><tr><td style=\"font-weight: bold;\">ERROR</td><td>[]</td><td><pre>Failed to parse request body as JSON resource. Error was: Invalid attribute value \"?\": Unknown SearchModifierCode code '?'</pre></td>\n",
       "\t\t\t\t\t\n",
       "\t\t\t\t\n",
       "\t\t\t</tr>\n",
       "\t\t</table>\n",
       "\t</div>"
      ],
      "text/plain": [
       "<IPython.core.display.HTML object>"
      ]
     },
     "metadata": {},
     "output_type": "display_data"
    },
    {
     "name": "stdout",
     "output_type": "stream",
     "text": [
      "json file found:\t SearchParameter-us-core-documentreference-status.json\n",
      "SearchParameter\n",
      "...validating file \"SearchParameter-us-core-documentreference-status.json\" as SearchParameter\n"
     ]
    },
    {
     "data": {
      "text/html": [
       "<h1>Validation output</h1><h3>Status Code = 400</h3> <div xmlns=\"http://www.w3.org/1999/xhtml\"><h1>Operation Outcome</h1><table border=\"0\"><tr><td style=\"font-weight: bold;\">ERROR</td><td>[]</td><td><pre>Failed to parse request body as JSON resource. Error was: Invalid attribute value \"?\": Unknown SearchModifierCode code '?'</pre></td>\n",
       "\t\t\t\t\t\n",
       "\t\t\t\t\n",
       "\t\t\t</tr>\n",
       "\t\t</table>\n",
       "\t</div>"
      ],
      "text/plain": [
       "<IPython.core.display.HTML object>"
      ]
     },
     "metadata": {},
     "output_type": "display_data"
    },
    {
     "name": "stdout",
     "output_type": "stream",
     "text": [
      "json file found:\t SearchParameter-us-core-medicationrequest-authoredon.json\n",
      "SearchParameter\n",
      "...validating file \"SearchParameter-us-core-medicationrequest-authoredon.json\" as SearchParameter\n"
     ]
    },
    {
     "data": {
      "text/html": [
       "<h1>Validation output</h1><h3>Status Code = 400</h3> <div xmlns=\"http://www.w3.org/1999/xhtml\"><h1>Operation Outcome</h1><table border=\"0\"><tr><td style=\"font-weight: bold;\">ERROR</td><td>[]</td><td><pre>Failed to parse request body as JSON resource. Error was: Invalid attribute value \"?\": Unknown SearchModifierCode code '?'</pre></td>\n",
       "\t\t\t\t\t\n",
       "\t\t\t\t\n",
       "\t\t\t</tr>\n",
       "\t\t</table>\n",
       "\t</div>"
      ],
      "text/plain": [
       "<IPython.core.display.HTML object>"
      ]
     },
     "metadata": {},
     "output_type": "display_data"
    },
    {
     "name": "stdout",
     "output_type": "stream",
     "text": [
      "json file found:\t SearchParameter-us-core-encounter-id.json\n",
      "SearchParameter\n",
      "...validating file \"SearchParameter-us-core-encounter-id.json\" as SearchParameter\n"
     ]
    },
    {
     "data": {
      "text/html": [
       "<h1>Validation output</h1><h3>Status Code = 400</h3> <div xmlns=\"http://www.w3.org/1999/xhtml\"><h1>Operation Outcome</h1><table border=\"0\"><tr><td style=\"font-weight: bold;\">ERROR</td><td>[]</td><td><pre>Failed to parse request body as JSON resource. Error was: Invalid attribute value \"?\": Unknown SearchModifierCode code '?'</pre></td>\n",
       "\t\t\t\t\t\n",
       "\t\t\t\t\n",
       "\t\t\t</tr>\n",
       "\t\t</table>\n",
       "\t</div>"
      ],
      "text/plain": [
       "<IPython.core.display.HTML object>"
      ]
     },
     "metadata": {},
     "output_type": "display_data"
    },
    {
     "name": "stdout",
     "output_type": "stream",
     "text": [
      "json file found:\t SearchParameter-us-core-location-address-postalcode.json\n",
      "SearchParameter\n",
      "...validating file \"SearchParameter-us-core-location-address-postalcode.json\" as SearchParameter\n"
     ]
    },
    {
     "data": {
      "text/html": [
       "<h1>Validation output</h1><h3>Status Code = 400</h3> <div xmlns=\"http://www.w3.org/1999/xhtml\"><h1>Operation Outcome</h1><table border=\"0\"><tr><td style=\"font-weight: bold;\">ERROR</td><td>[]</td><td><pre>Failed to parse request body as JSON resource. Error was: Invalid attribute value \"?\": Unknown SearchModifierCode code '?'</pre></td>\n",
       "\t\t\t\t\t\n",
       "\t\t\t\t\n",
       "\t\t\t</tr>\n",
       "\t\t</table>\n",
       "\t</div>"
      ],
      "text/plain": [
       "<IPython.core.display.HTML object>"
      ]
     },
     "metadata": {},
     "output_type": "display_data"
    },
    {
     "name": "stdout",
     "output_type": "stream",
     "text": [
      "json file found:\t SearchParameter-us-core-medicationstatement-patient.json\n",
      "SearchParameter\n",
      "...validating file \"SearchParameter-us-core-medicationstatement-patient.json\" as SearchParameter\n"
     ]
    },
    {
     "data": {
      "text/html": [
       "<h1>Validation output</h1><h3>Status Code = 400</h3> <div xmlns=\"http://www.w3.org/1999/xhtml\"><h1>Operation Outcome</h1><table border=\"0\"><tr><td style=\"font-weight: bold;\">ERROR</td><td>[]</td><td><pre>Failed to parse request body as JSON resource. Error was: Invalid attribute value \"?\": Unknown SearchModifierCode code '?'</pre></td>\n",
       "\t\t\t\t\t\n",
       "\t\t\t\t\n",
       "\t\t\t</tr>\n",
       "\t\t</table>\n",
       "\t</div>"
      ],
      "text/plain": [
       "<IPython.core.display.HTML object>"
      ]
     },
     "metadata": {},
     "output_type": "display_data"
    },
    {
     "name": "stdout",
     "output_type": "stream",
     "text": [
      "json file found:\t SearchParameter-us-core-medicationstatement-effective.json\n",
      "SearchParameter\n",
      "...validating file \"SearchParameter-us-core-medicationstatement-effective.json\" as SearchParameter\n"
     ]
    },
    {
     "data": {
      "text/html": [
       "<h1>Validation output</h1><h3>Status Code = 400</h3> <div xmlns=\"http://www.w3.org/1999/xhtml\"><h1>Operation Outcome</h1><table border=\"0\"><tr><td style=\"font-weight: bold;\">ERROR</td><td>[]</td><td><pre>Failed to parse request body as JSON resource. Error was: Invalid attribute value \"?\": Unknown SearchModifierCode code '?'</pre></td>\n",
       "\t\t\t\t\t\n",
       "\t\t\t\t\n",
       "\t\t\t</tr>\n",
       "\t\t</table>\n",
       "\t</div>"
      ],
      "text/plain": [
       "<IPython.core.display.HTML object>"
      ]
     },
     "metadata": {},
     "output_type": "display_data"
    },
    {
     "name": "stdout",
     "output_type": "stream",
     "text": [
      "json file found:\t SearchParameter-us-core-medicationrequest-status.json\n",
      "SearchParameter\n",
      "...validating file \"SearchParameter-us-core-medicationrequest-status.json\" as SearchParameter\n"
     ]
    },
    {
     "data": {
      "text/html": [
       "<h1>Validation output</h1><h3>Status Code = 400</h3> <div xmlns=\"http://www.w3.org/1999/xhtml\"><h1>Operation Outcome</h1><table border=\"0\"><tr><td style=\"font-weight: bold;\">ERROR</td><td>[]</td><td><pre>Failed to parse request body as JSON resource. Error was: Invalid attribute value \"?\": Unknown SearchModifierCode code '?'</pre></td>\n",
       "\t\t\t\t\t\n",
       "\t\t\t\t\n",
       "\t\t\t</tr>\n",
       "\t\t</table>\n",
       "\t</div>"
      ],
      "text/plain": [
       "<IPython.core.display.HTML object>"
      ]
     },
     "metadata": {},
     "output_type": "display_data"
    },
    {
     "name": "stdout",
     "output_type": "stream",
     "text": [
      "json file found:\t SearchParameter-us-core-race.json\n",
      "SearchParameter\n",
      "...validating file \"SearchParameter-us-core-race.json\" as SearchParameter\n",
      "OK\n",
      "json file found:\t SearchParameter-us-core-patient-family.json\n",
      "SearchParameter\n",
      "...validating file \"SearchParameter-us-core-patient-family.json\" as SearchParameter\n"
     ]
    },
    {
     "data": {
      "text/html": [
       "<h1>Validation output</h1><h3>Status Code = 400</h3> <div xmlns=\"http://www.w3.org/1999/xhtml\"><h1>Operation Outcome</h1><table border=\"0\"><tr><td style=\"font-weight: bold;\">ERROR</td><td>[]</td><td><pre>Failed to parse request body as JSON resource. Error was: Invalid attribute value \"?\": Unknown SearchModifierCode code '?'</pre></td>\n",
       "\t\t\t\t\t\n",
       "\t\t\t\t\n",
       "\t\t\t</tr>\n",
       "\t\t</table>\n",
       "\t</div>"
      ],
      "text/plain": [
       "<IPython.core.display.HTML object>"
      ]
     },
     "metadata": {},
     "output_type": "display_data"
    },
    {
     "name": "stdout",
     "output_type": "stream",
     "text": [
      "json file found:\t SearchParameter-us-core-careplan-patient.json\n",
      "SearchParameter\n",
      "...validating file \"SearchParameter-us-core-careplan-patient.json\" as SearchParameter\n"
     ]
    },
    {
     "data": {
      "text/html": [
       "<h1>Validation output</h1><h3>Status Code = 400</h3> <div xmlns=\"http://www.w3.org/1999/xhtml\"><h1>Operation Outcome</h1><table border=\"0\"><tr><td style=\"font-weight: bold;\">ERROR</td><td>[]</td><td><pre>Failed to parse request body as JSON resource. Error was: Invalid attribute value \"?\": Unknown SearchModifierCode code '?'</pre></td>\n",
       "\t\t\t\t\t\n",
       "\t\t\t\t\n",
       "\t\t\t</tr>\n",
       "\t\t</table>\n",
       "\t</div>"
      ],
      "text/plain": [
       "<IPython.core.display.HTML object>"
      ]
     },
     "metadata": {},
     "output_type": "display_data"
    },
    {
     "name": "stdout",
     "output_type": "stream",
     "text": [
      "json file found:\t SearchParameter-us-core-observation-patient.json\n",
      "SearchParameter\n",
      "...validating file \"SearchParameter-us-core-observation-patient.json\" as SearchParameter\n"
     ]
    },
    {
     "data": {
      "text/html": [
       "<h1>Validation output</h1><h3>Status Code = 400</h3> <div xmlns=\"http://www.w3.org/1999/xhtml\"><h1>Operation Outcome</h1><table border=\"0\"><tr><td style=\"font-weight: bold;\">ERROR</td><td>[]</td><td><pre>Failed to parse request body as JSON resource. Error was: Invalid attribute value \"?\": Unknown SearchModifierCode code '?'</pre></td>\n",
       "\t\t\t\t\t\n",
       "\t\t\t\t\n",
       "\t\t\t</tr>\n",
       "\t\t</table>\n",
       "\t</div>"
      ],
      "text/plain": [
       "<IPython.core.display.HTML object>"
      ]
     },
     "metadata": {},
     "output_type": "display_data"
    },
    {
     "name": "stdout",
     "output_type": "stream",
     "text": [
      "json file found:\t SearchParameter-us-core-condition-code.json\n",
      "SearchParameter\n",
      "...validating file \"SearchParameter-us-core-condition-code.json\" as SearchParameter\n"
     ]
    },
    {
     "data": {
      "text/html": [
       "<h1>Validation output</h1><h3>Status Code = 400</h3> <div xmlns=\"http://www.w3.org/1999/xhtml\"><h1>Operation Outcome</h1><table border=\"0\"><tr><td style=\"font-weight: bold;\">ERROR</td><td>[]</td><td><pre>Failed to parse request body as JSON resource. Error was: Invalid attribute value \"?\": Unknown SearchModifierCode code '?'</pre></td>\n",
       "\t\t\t\t\t\n",
       "\t\t\t\t\n",
       "\t\t\t</tr>\n",
       "\t\t</table>\n",
       "\t</div>"
      ],
      "text/plain": [
       "<IPython.core.display.HTML object>"
      ]
     },
     "metadata": {},
     "output_type": "display_data"
    },
    {
     "name": "stdout",
     "output_type": "stream",
     "text": [
      "json file found:\t SearchParameter-us-core-device-patient.json\n",
      "SearchParameter\n",
      "...validating file \"SearchParameter-us-core-device-patient.json\" as SearchParameter\n"
     ]
    },
    {
     "data": {
      "text/html": [
       "<h1>Validation output</h1><h3>Status Code = 400</h3> <div xmlns=\"http://www.w3.org/1999/xhtml\"><h1>Operation Outcome</h1><table border=\"0\"><tr><td style=\"font-weight: bold;\">ERROR</td><td>[]</td><td><pre>Failed to parse request body as JSON resource. Error was: Invalid attribute value \"?\": Unknown SearchModifierCode code '?'</pre></td>\n",
       "\t\t\t\t\t\n",
       "\t\t\t\t\n",
       "\t\t\t</tr>\n",
       "\t\t</table>\n",
       "\t</div>"
      ],
      "text/plain": [
       "<IPython.core.display.HTML object>"
      ]
     },
     "metadata": {},
     "output_type": "display_data"
    },
    {
     "name": "stdout",
     "output_type": "stream",
     "text": [
      "json file found:\t SearchParameter-us-core-allergyintolerance-patient.json\n",
      "SearchParameter\n",
      "...validating file \"SearchParameter-us-core-allergyintolerance-patient.json\" as SearchParameter\n"
     ]
    },
    {
     "data": {
      "text/html": [
       "<h1>Validation output</h1><h3>Status Code = 400</h3> <div xmlns=\"http://www.w3.org/1999/xhtml\"><h1>Operation Outcome</h1><table border=\"0\"><tr><td style=\"font-weight: bold;\">ERROR</td><td>[]</td><td><pre>Failed to parse request body as JSON resource. Error was: Invalid attribute value \"?\": Unknown SearchModifierCode code '?'</pre></td>\n",
       "\t\t\t\t\t\n",
       "\t\t\t\t\n",
       "\t\t\t</tr>\n",
       "\t\t</table>\n",
       "\t</div>"
      ],
      "text/plain": [
       "<IPython.core.display.HTML object>"
      ]
     },
     "metadata": {},
     "output_type": "display_data"
    },
    {
     "name": "stdout",
     "output_type": "stream",
     "text": [
      "json file found:\t SearchParameter-us-core-condition-patient.json\n",
      "SearchParameter\n",
      "...validating file \"SearchParameter-us-core-condition-patient.json\" as SearchParameter\n"
     ]
    },
    {
     "data": {
      "text/html": [
       "<h1>Validation output</h1><h3>Status Code = 400</h3> <div xmlns=\"http://www.w3.org/1999/xhtml\"><h1>Operation Outcome</h1><table border=\"0\"><tr><td style=\"font-weight: bold;\">ERROR</td><td>[]</td><td><pre>Failed to parse request body as JSON resource. Error was: Invalid attribute value \"?\": Unknown SearchModifierCode code '?'</pre></td>\n",
       "\t\t\t\t\t\n",
       "\t\t\t\t\n",
       "\t\t\t</tr>\n",
       "\t\t</table>\n",
       "\t</div>"
      ],
      "text/plain": [
       "<IPython.core.display.HTML object>"
      ]
     },
     "metadata": {},
     "output_type": "display_data"
    },
    {
     "name": "stdout",
     "output_type": "stream",
     "text": [
      "json file found:\t SearchParameter-us-core-careplan-status.json\n",
      "SearchParameter\n",
      "...validating file \"SearchParameter-us-core-careplan-status.json\" as SearchParameter\n"
     ]
    },
    {
     "data": {
      "text/html": [
       "<h1>Validation output</h1><h3>Status Code = 400</h3> <div xmlns=\"http://www.w3.org/1999/xhtml\"><h1>Operation Outcome</h1><table border=\"0\"><tr><td style=\"font-weight: bold;\">ERROR</td><td>[]</td><td><pre>Failed to parse request body as JSON resource. Error was: Invalid attribute value \"?\": Unknown SearchModifierCode code '?'</pre></td>\n",
       "\t\t\t\t\t\n",
       "\t\t\t\t\n",
       "\t\t\t</tr>\n",
       "\t\t</table>\n",
       "\t</div>"
      ],
      "text/plain": [
       "<IPython.core.display.HTML object>"
      ]
     },
     "metadata": {},
     "output_type": "display_data"
    },
    {
     "name": "stdout",
     "output_type": "stream",
     "text": [
      "json file found:\t SearchParameter-us-core-encounter-status.json\n",
      "SearchParameter\n",
      "...validating file \"SearchParameter-us-core-encounter-status.json\" as SearchParameter\n"
     ]
    },
    {
     "data": {
      "text/html": [
       "<h1>Validation output</h1><h3>Status Code = 400</h3> <div xmlns=\"http://www.w3.org/1999/xhtml\"><h1>Operation Outcome</h1><table border=\"0\"><tr><td style=\"font-weight: bold;\">ERROR</td><td>[]</td><td><pre>Failed to parse request body as JSON resource. Error was: Invalid attribute value \"?\": Unknown SearchModifierCode code '?'</pre></td>\n",
       "\t\t\t\t\t\n",
       "\t\t\t\t\n",
       "\t\t\t</tr>\n",
       "\t\t</table>\n",
       "\t</div>"
      ],
      "text/plain": [
       "<IPython.core.display.HTML object>"
      ]
     },
     "metadata": {},
     "output_type": "display_data"
    },
    {
     "name": "stdout",
     "output_type": "stream",
     "text": [
      "json file found:\t SearchParameter-us-core-procedure-status.json\n",
      "SearchParameter\n",
      "...validating file \"SearchParameter-us-core-procedure-status.json\" as SearchParameter\n"
     ]
    },
    {
     "data": {
      "text/html": [
       "<h1>Validation output</h1><h3>Status Code = 400</h3> <div xmlns=\"http://www.w3.org/1999/xhtml\"><h1>Operation Outcome</h1><table border=\"0\"><tr><td style=\"font-weight: bold;\">ERROR</td><td>[]</td><td><pre>Failed to parse request body as JSON resource. Error was: Invalid attribute value \"?\": Unknown SearchModifierCode code '?'</pre></td>\n",
       "\t\t\t\t\t\n",
       "\t\t\t\t\n",
       "\t\t\t</tr>\n",
       "\t\t</table>\n",
       "\t</div>"
      ],
      "text/plain": [
       "<IPython.core.display.HTML object>"
      ]
     },
     "metadata": {},
     "output_type": "display_data"
    },
    {
     "name": "stdout",
     "output_type": "stream",
     "text": [
      "json file found:\t SearchParameter-us-core-patient-birthdate.json\n",
      "SearchParameter\n",
      "...validating file \"SearchParameter-us-core-patient-birthdate.json\" as SearchParameter\n"
     ]
    },
    {
     "data": {
      "text/html": [
       "<h1>Validation output</h1><h3>Status Code = 400</h3> <div xmlns=\"http://www.w3.org/1999/xhtml\"><h1>Operation Outcome</h1><table border=\"0\"><tr><td style=\"font-weight: bold;\">ERROR</td><td>[]</td><td><pre>Failed to parse request body as JSON resource. Error was: Invalid attribute value \"?\": Unknown SearchModifierCode code '?'</pre></td>\n",
       "\t\t\t\t\t\n",
       "\t\t\t\t\n",
       "\t\t\t</tr>\n",
       "\t\t</table>\n",
       "\t</div>"
      ],
      "text/plain": [
       "<IPython.core.display.HTML object>"
      ]
     },
     "metadata": {},
     "output_type": "display_data"
    },
    {
     "name": "stdout",
     "output_type": "stream",
     "text": [
      "json file found:\t SearchParameter-us-core-encounter-date.json\n",
      "SearchParameter\n",
      "...validating file \"SearchParameter-us-core-encounter-date.json\" as SearchParameter\n"
     ]
    },
    {
     "data": {
      "text/html": [
       "<h1>Validation output</h1><h3>Status Code = 400</h3> <div xmlns=\"http://www.w3.org/1999/xhtml\"><h1>Operation Outcome</h1><table border=\"0\"><tr><td style=\"font-weight: bold;\">ERROR</td><td>[]</td><td><pre>Failed to parse request body as JSON resource. Error was: Invalid attribute value \"?\": Unknown SearchModifierCode code '?'</pre></td>\n",
       "\t\t\t\t\t\n",
       "\t\t\t\t\n",
       "\t\t\t</tr>\n",
       "\t\t</table>\n",
       "\t</div>"
      ],
      "text/plain": [
       "<IPython.core.display.HTML object>"
      ]
     },
     "metadata": {},
     "output_type": "display_data"
    },
    {
     "name": "stdout",
     "output_type": "stream",
     "text": [
      "json file found:\t SearchParameter-us-core-documentreference-type.json\n",
      "SearchParameter\n",
      "...validating file \"SearchParameter-us-core-documentreference-type.json\" as SearchParameter\n"
     ]
    },
    {
     "data": {
      "text/html": [
       "<h1>Validation output</h1><h3>Status Code = 400</h3> <div xmlns=\"http://www.w3.org/1999/xhtml\"><h1>Operation Outcome</h1><table border=\"0\"><tr><td style=\"font-weight: bold;\">ERROR</td><td>[]</td><td><pre>Failed to parse request body as JSON resource. Error was: Invalid attribute value \"?\": Unknown SearchModifierCode code '?'</pre></td>\n",
       "\t\t\t\t\t\n",
       "\t\t\t\t\n",
       "\t\t\t</tr>\n",
       "\t\t</table>\n",
       "\t</div>"
      ],
      "text/plain": [
       "<IPython.core.display.HTML object>"
      ]
     },
     "metadata": {},
     "output_type": "display_data"
    },
    {
     "name": "stdout",
     "output_type": "stream",
     "text": [
      "json file found:\t SearchParameter-us-core-observation-status.json\n",
      "SearchParameter\n",
      "...validating file \"SearchParameter-us-core-observation-status.json\" as SearchParameter\n"
     ]
    },
    {
     "data": {
      "text/html": [
       "<h1>Validation output</h1><h3>Status Code = 400</h3> <div xmlns=\"http://www.w3.org/1999/xhtml\"><h1>Operation Outcome</h1><table border=\"0\"><tr><td style=\"font-weight: bold;\">ERROR</td><td>[]</td><td><pre>Failed to parse request body as JSON resource. Error was: Invalid attribute value \"?\": Unknown SearchModifierCode code '?'</pre></td>\n",
       "\t\t\t\t\t\n",
       "\t\t\t\t\n",
       "\t\t\t</tr>\n",
       "\t\t</table>\n",
       "\t</div>"
      ],
      "text/plain": [
       "<IPython.core.display.HTML object>"
      ]
     },
     "metadata": {},
     "output_type": "display_data"
    },
    {
     "name": "stdout",
     "output_type": "stream",
     "text": [
      "json file found:\t SearchParameter-us-core-diagnosticreport-category.json\n",
      "SearchParameter\n",
      "...validating file \"SearchParameter-us-core-diagnosticreport-category.json\" as SearchParameter\n"
     ]
    },
    {
     "data": {
      "text/html": [
       "<h1>Validation output</h1><h3>Status Code = 400</h3> <div xmlns=\"http://www.w3.org/1999/xhtml\"><h1>Operation Outcome</h1><table border=\"0\"><tr><td style=\"font-weight: bold;\">ERROR</td><td>[]</td><td><pre>Failed to parse request body as JSON resource. Error was: Invalid attribute value \"?\": Unknown SearchModifierCode code '?'</pre></td>\n",
       "\t\t\t\t\t\n",
       "\t\t\t\t\n",
       "\t\t\t</tr>\n",
       "\t\t</table>\n",
       "\t</div>"
      ],
      "text/plain": [
       "<IPython.core.display.HTML object>"
      ]
     },
     "metadata": {},
     "output_type": "display_data"
    },
    {
     "name": "stdout",
     "output_type": "stream",
     "text": [
      "json file found:\t SearchParameter-us-core-observation-date.json\n",
      "SearchParameter\n",
      "...validating file \"SearchParameter-us-core-observation-date.json\" as SearchParameter\n"
     ]
    },
    {
     "data": {
      "text/html": [
       "<h1>Validation output</h1><h3>Status Code = 400</h3> <div xmlns=\"http://www.w3.org/1999/xhtml\"><h1>Operation Outcome</h1><table border=\"0\"><tr><td style=\"font-weight: bold;\">ERROR</td><td>[]</td><td><pre>Failed to parse request body as JSON resource. Error was: Invalid attribute value \"?\": Unknown SearchModifierCode code '?'</pre></td>\n",
       "\t\t\t\t\t\n",
       "\t\t\t\t\n",
       "\t\t\t</tr>\n",
       "\t\t</table>\n",
       "\t</div>"
      ],
      "text/plain": [
       "<IPython.core.display.HTML object>"
      ]
     },
     "metadata": {},
     "output_type": "display_data"
    },
    {
     "name": "stdout",
     "output_type": "stream",
     "text": [
      "json file found:\t SearchParameter-us-core-diagnosticreport-status.json\n",
      "SearchParameter\n",
      "...validating file \"SearchParameter-us-core-diagnosticreport-status.json\" as SearchParameter\n"
     ]
    },
    {
     "data": {
      "text/html": [
       "<h1>Validation output</h1><h3>Status Code = 400</h3> <div xmlns=\"http://www.w3.org/1999/xhtml\"><h1>Operation Outcome</h1><table border=\"0\"><tr><td style=\"font-weight: bold;\">ERROR</td><td>[]</td><td><pre>Failed to parse request body as JSON resource. Error was: Invalid attribute value \"?\": Unknown SearchModifierCode code '?'</pre></td>\n",
       "\t\t\t\t\t\n",
       "\t\t\t\t\n",
       "\t\t\t</tr>\n",
       "\t\t</table>\n",
       "\t</div>"
      ],
      "text/plain": [
       "<IPython.core.display.HTML object>"
      ]
     },
     "metadata": {},
     "output_type": "display_data"
    },
    {
     "name": "stdout",
     "output_type": "stream",
     "text": [
      "json file found:\t SearchParameter-us-core-observation-category.json\n",
      "SearchParameter\n",
      "...validating file \"SearchParameter-us-core-observation-category.json\" as SearchParameter\n"
     ]
    },
    {
     "data": {
      "text/html": [
       "<h1>Validation output</h1><h3>Status Code = 400</h3> <div xmlns=\"http://www.w3.org/1999/xhtml\"><h1>Operation Outcome</h1><table border=\"0\"><tr><td style=\"font-weight: bold;\">ERROR</td><td>[]</td><td><pre>Failed to parse request body as JSON resource. Error was: Invalid attribute value \"?\": Unknown SearchModifierCode code '?'</pre></td>\n",
       "\t\t\t\t\t\n",
       "\t\t\t\t\n",
       "\t\t\t</tr>\n",
       "\t\t</table>\n",
       "\t</div>"
      ],
      "text/plain": [
       "<IPython.core.display.HTML object>"
      ]
     },
     "metadata": {},
     "output_type": "display_data"
    },
    {
     "name": "stdout",
     "output_type": "stream",
     "text": [
      "json file found:\t SearchParameter-us-core-organization-address.json\n",
      "SearchParameter\n",
      "...validating file \"SearchParameter-us-core-organization-address.json\" as SearchParameter\n"
     ]
    },
    {
     "data": {
      "text/html": [
       "<h1>Validation output</h1><h3>Status Code = 400</h3> <div xmlns=\"http://www.w3.org/1999/xhtml\"><h1>Operation Outcome</h1><table border=\"0\"><tr><td style=\"font-weight: bold;\">ERROR</td><td>[]</td><td><pre>Failed to parse request body as JSON resource. Error was: Invalid attribute value \"?\": Unknown SearchModifierCode code '?'</pre></td>\n",
       "\t\t\t\t\t\n",
       "\t\t\t\t\n",
       "\t\t\t</tr>\n",
       "\t\t</table>\n",
       "\t</div>"
      ],
      "text/plain": [
       "<IPython.core.display.HTML object>"
      ]
     },
     "metadata": {},
     "output_type": "display_data"
    },
    {
     "name": "stdout",
     "output_type": "stream",
     "text": [
      "json file found:\t SearchParameter-us-core-encounter-patient.json\n",
      "SearchParameter\n",
      "...validating file \"SearchParameter-us-core-encounter-patient.json\" as SearchParameter\n"
     ]
    },
    {
     "data": {
      "text/html": [
       "<h1>Validation output</h1><h3>Status Code = 400</h3> <div xmlns=\"http://www.w3.org/1999/xhtml\"><h1>Operation Outcome</h1><table border=\"0\"><tr><td style=\"font-weight: bold;\">ERROR</td><td>[]</td><td><pre>Failed to parse request body as JSON resource. Error was: Invalid attribute value \"?\": Unknown SearchModifierCode code '?'</pre></td>\n",
       "\t\t\t\t\t\n",
       "\t\t\t\t\n",
       "\t\t\t</tr>\n",
       "\t\t</table>\n",
       "\t</div>"
      ],
      "text/plain": [
       "<IPython.core.display.HTML object>"
      ]
     },
     "metadata": {},
     "output_type": "display_data"
    },
    {
     "name": "stdout",
     "output_type": "stream",
     "text": [
      "json file found:\t SearchParameter-us-core-encounter-type.json\n",
      "SearchParameter\n",
      "...validating file \"SearchParameter-us-core-encounter-type.json\" as SearchParameter\n"
     ]
    },
    {
     "data": {
      "text/html": [
       "<h1>Validation output</h1><h3>Status Code = 400</h3> <div xmlns=\"http://www.w3.org/1999/xhtml\"><h1>Operation Outcome</h1><table border=\"0\"><tr><td style=\"font-weight: bold;\">ERROR</td><td>[]</td><td><pre>Failed to parse request body as JSON resource. Error was: Invalid attribute value \"?\": Unknown SearchModifierCode code '?'</pre></td>\n",
       "\t\t\t\t\t\n",
       "\t\t\t\t\n",
       "\t\t\t</tr>\n",
       "\t\t</table>\n",
       "\t</div>"
      ],
      "text/plain": [
       "<IPython.core.display.HTML object>"
      ]
     },
     "metadata": {},
     "output_type": "display_data"
    },
    {
     "name": "stdout",
     "output_type": "stream",
     "text": [
      "json file found:\t SearchParameter-us-core-patient-given.json\n",
      "SearchParameter\n",
      "...validating file \"SearchParameter-us-core-patient-given.json\" as SearchParameter\n"
     ]
    },
    {
     "data": {
      "text/html": [
       "<h1>Validation output</h1><h3>Status Code = 400</h3> <div xmlns=\"http://www.w3.org/1999/xhtml\"><h1>Operation Outcome</h1><table border=\"0\"><tr><td style=\"font-weight: bold;\">ERROR</td><td>[]</td><td><pre>Failed to parse request body as JSON resource. Error was: Invalid attribute value \"?\": Unknown SearchModifierCode code '?'</pre></td>\n",
       "\t\t\t\t\t\n",
       "\t\t\t\t\n",
       "\t\t\t</tr>\n",
       "\t\t</table>\n",
       "\t</div>"
      ],
      "text/plain": [
       "<IPython.core.display.HTML object>"
      ]
     },
     "metadata": {},
     "output_type": "display_data"
    },
    {
     "name": "stdout",
     "output_type": "stream",
     "text": [
      "json file found:\t SearchParameter-us-core-condition-onset-date.json\n",
      "SearchParameter\n",
      "...validating file \"SearchParameter-us-core-condition-onset-date.json\" as SearchParameter\n"
     ]
    },
    {
     "data": {
      "text/html": [
       "<h1>Validation output</h1><h3>Status Code = 400</h3> <div xmlns=\"http://www.w3.org/1999/xhtml\"><h1>Operation Outcome</h1><table border=\"0\"><tr><td style=\"font-weight: bold;\">ERROR</td><td>[]</td><td><pre>Failed to parse request body as JSON resource. Error was: Invalid attribute value \"?\": Unknown SearchModifierCode code '?'</pre></td>\n",
       "\t\t\t\t\t\n",
       "\t\t\t\t\n",
       "\t\t\t</tr>\n",
       "\t\t</table>\n",
       "\t</div>"
      ],
      "text/plain": [
       "<IPython.core.display.HTML object>"
      ]
     },
     "metadata": {},
     "output_type": "display_data"
    },
    {
     "name": "stdout",
     "output_type": "stream",
     "text": [
      "json file found:\t SearchParameter-us-core-location-name.json\n",
      "SearchParameter\n",
      "...validating file \"SearchParameter-us-core-location-name.json\" as SearchParameter\n"
     ]
    },
    {
     "data": {
      "text/html": [
       "<h1>Validation output</h1><h3>Status Code = 400</h3> <div xmlns=\"http://www.w3.org/1999/xhtml\"><h1>Operation Outcome</h1><table border=\"0\"><tr><td style=\"font-weight: bold;\">ERROR</td><td>[]</td><td><pre>Failed to parse request body as JSON resource. Error was: Invalid attribute value \"?\": Unknown SearchModifierCode code '?'</pre></td>\n",
       "\t\t\t\t\t\n",
       "\t\t\t\t\n",
       "\t\t\t</tr>\n",
       "\t\t</table>\n",
       "\t</div>"
      ],
      "text/plain": [
       "<IPython.core.display.HTML object>"
      ]
     },
     "metadata": {},
     "output_type": "display_data"
    },
    {
     "name": "stdout",
     "output_type": "stream",
     "text": [
      "json file found:\t SearchParameter-us-core-observation-code.json\n",
      "SearchParameter\n",
      "...validating file \"SearchParameter-us-core-observation-code.json\" as SearchParameter\n"
     ]
    },
    {
     "data": {
      "text/html": [
       "<h1>Validation output</h1><h3>Status Code = 400</h3> <div xmlns=\"http://www.w3.org/1999/xhtml\"><h1>Operation Outcome</h1><table border=\"0\"><tr><td style=\"font-weight: bold;\">ERROR</td><td>[]</td><td><pre>Failed to parse request body as JSON resource. Error was: Invalid attribute value \"?\": Unknown SearchModifierCode code '?'</pre></td>\n",
       "\t\t\t\t\t\n",
       "\t\t\t\t\n",
       "\t\t\t</tr>\n",
       "\t\t</table>\n",
       "\t</div>"
      ],
      "text/plain": [
       "<IPython.core.display.HTML object>"
      ]
     },
     "metadata": {},
     "output_type": "display_data"
    },
    {
     "name": "stdout",
     "output_type": "stream",
     "text": [
      "json file found:\t SearchParameter-us-core-documentreference-period.json\n",
      "SearchParameter\n",
      "...validating file \"SearchParameter-us-core-documentreference-period.json\" as SearchParameter\n"
     ]
    },
    {
     "data": {
      "text/html": [
       "<h1>Validation output</h1><h3>Status Code = 400</h3> <div xmlns=\"http://www.w3.org/1999/xhtml\"><h1>Operation Outcome</h1><table border=\"0\"><tr><td style=\"font-weight: bold;\">ERROR</td><td>[]</td><td><pre>Failed to parse request body as JSON resource. Error was: Invalid attribute value \"?\": Unknown SearchModifierCode code '?'</pre></td>\n",
       "\t\t\t\t\t\n",
       "\t\t\t\t\n",
       "\t\t\t</tr>\n",
       "\t\t</table>\n",
       "\t</div>"
      ],
      "text/plain": [
       "<IPython.core.display.HTML object>"
      ]
     },
     "metadata": {},
     "output_type": "display_data"
    },
    {
     "name": "stdout",
     "output_type": "stream",
     "text": [
      "json file found:\t SearchParameter-us-core-practitioner-name.json\n",
      "SearchParameter\n",
      "...validating file \"SearchParameter-us-core-practitioner-name.json\" as SearchParameter\n"
     ]
    },
    {
     "data": {
      "text/html": [
       "<h1>Validation output</h1><h3>Status Code = 400</h3> <div xmlns=\"http://www.w3.org/1999/xhtml\"><h1>Operation Outcome</h1><table border=\"0\"><tr><td style=\"font-weight: bold;\">ERROR</td><td>[]</td><td><pre>Failed to parse request body as JSON resource. Error was: Invalid attribute value \"?\": Unknown SearchModifierCode code '?'</pre></td>\n",
       "\t\t\t\t\t\n",
       "\t\t\t\t\n",
       "\t\t\t</tr>\n",
       "\t\t</table>\n",
       "\t</div>"
      ],
      "text/plain": [
       "<IPython.core.display.HTML object>"
      ]
     },
     "metadata": {},
     "output_type": "display_data"
    },
    {
     "name": "stdout",
     "output_type": "stream",
     "text": [
      "json file found:\t SearchParameter-us-core-location-address.json\n",
      "SearchParameter\n",
      "...validating file \"SearchParameter-us-core-location-address.json\" as SearchParameter\n"
     ]
    },
    {
     "data": {
      "text/html": [
       "<h1>Validation output</h1><h3>Status Code = 400</h3> <div xmlns=\"http://www.w3.org/1999/xhtml\"><h1>Operation Outcome</h1><table border=\"0\"><tr><td style=\"font-weight: bold;\">ERROR</td><td>[]</td><td><pre>Failed to parse request body as JSON resource. Error was: Invalid attribute value \"?\": Unknown SearchModifierCode code '?'</pre></td>\n",
       "\t\t\t\t\t\n",
       "\t\t\t\t\n",
       "\t\t\t</tr>\n",
       "\t\t</table>\n",
       "\t</div>"
      ],
      "text/plain": [
       "<IPython.core.display.HTML object>"
      ]
     },
     "metadata": {},
     "output_type": "display_data"
    },
    {
     "name": "stdout",
     "output_type": "stream",
     "text": [
      "json file found:\t SearchParameter-us-core-documentreference-date.json\n",
      "SearchParameter\n",
      "...validating file \"SearchParameter-us-core-documentreference-date.json\" as SearchParameter\n"
     ]
    },
    {
     "data": {
      "text/html": [
       "<h1>Validation output</h1><h3>Status Code = 400</h3> <div xmlns=\"http://www.w3.org/1999/xhtml\"><h1>Operation Outcome</h1><table border=\"0\"><tr><td style=\"font-weight: bold;\">ERROR</td><td>[]</td><td><pre>Failed to parse request body as JSON resource. Error was: Invalid attribute value \"?\": Unknown SearchModifierCode code '?'</pre></td>\n",
       "\t\t\t\t\t\n",
       "\t\t\t\t\n",
       "\t\t\t</tr>\n",
       "\t\t</table>\n",
       "\t</div>"
      ],
      "text/plain": [
       "<IPython.core.display.HTML object>"
      ]
     },
     "metadata": {},
     "output_type": "display_data"
    },
    {
     "name": "stdout",
     "output_type": "stream",
     "text": [
      "json file found:\t SearchParameter-us-core-allergyintolerance-clinical-status.json\n",
      "SearchParameter\n",
      "...validating file \"SearchParameter-us-core-allergyintolerance-clinical-status.json\" as SearchParameter\n"
     ]
    },
    {
     "data": {
      "text/html": [
       "<h1>Validation output</h1><h3>Status Code = 400</h3> <div xmlns=\"http://www.w3.org/1999/xhtml\"><h1>Operation Outcome</h1><table border=\"0\"><tr><td style=\"font-weight: bold;\">ERROR</td><td>[]</td><td><pre>Failed to parse request body as JSON resource. Error was: Invalid attribute value \"?\": Unknown SearchModifierCode code '?'</pre></td>\n",
       "\t\t\t\t\t\n",
       "\t\t\t\t\n",
       "\t\t\t</tr>\n",
       "\t\t</table>\n",
       "\t</div>"
      ],
      "text/plain": [
       "<IPython.core.display.HTML object>"
      ]
     },
     "metadata": {},
     "output_type": "display_data"
    },
    {
     "name": "stdout",
     "output_type": "stream",
     "text": [
      "json file found:\t SearchParameter-us-core-ethnicity.json\n",
      "SearchParameter\n",
      "...validating file \"SearchParameter-us-core-ethnicity.json\" as SearchParameter\n",
      "OK\n",
      "json file found:\t SearchParameter-us-core-procedure-date.json\n",
      "SearchParameter\n",
      "...validating file \"SearchParameter-us-core-procedure-date.json\" as SearchParameter\n"
     ]
    },
    {
     "data": {
      "text/html": [
       "<h1>Validation output</h1><h3>Status Code = 400</h3> <div xmlns=\"http://www.w3.org/1999/xhtml\"><h1>Operation Outcome</h1><table border=\"0\"><tr><td style=\"font-weight: bold;\">ERROR</td><td>[]</td><td><pre>Failed to parse request body as JSON resource. Error was: Invalid attribute value \"?\": Unknown SearchModifierCode code '?'</pre></td>\n",
       "\t\t\t\t\t\n",
       "\t\t\t\t\n",
       "\t\t\t</tr>\n",
       "\t\t</table>\n",
       "\t</div>"
      ],
      "text/plain": [
       "<IPython.core.display.HTML object>"
      ]
     },
     "metadata": {},
     "output_type": "display_data"
    },
    {
     "name": "stdout",
     "output_type": "stream",
     "text": [
      "json file found:\t SearchParameter-us-core-diagnosticreport-date.json\n",
      "SearchParameter\n",
      "...validating file \"SearchParameter-us-core-diagnosticreport-date.json\" as SearchParameter\n"
     ]
    },
    {
     "data": {
      "text/html": [
       "<h1>Validation output</h1><h3>Status Code = 400</h3> <div xmlns=\"http://www.w3.org/1999/xhtml\"><h1>Operation Outcome</h1><table border=\"0\"><tr><td style=\"font-weight: bold;\">ERROR</td><td>[]</td><td><pre>Failed to parse request body as JSON resource. Error was: Invalid attribute value \"?\": Unknown SearchModifierCode code '?'</pre></td>\n",
       "\t\t\t\t\t\n",
       "\t\t\t\t\n",
       "\t\t\t</tr>\n",
       "\t\t</table>\n",
       "\t</div>"
      ],
      "text/plain": [
       "<IPython.core.display.HTML object>"
      ]
     },
     "metadata": {},
     "output_type": "display_data"
    },
    {
     "name": "stdout",
     "output_type": "stream",
     "text": [
      "json file found:\t SearchParameter-us-core-documentreference-patient.json\n",
      "SearchParameter\n",
      "...validating file \"SearchParameter-us-core-documentreference-patient.json\" as SearchParameter\n"
     ]
    },
    {
     "data": {
      "text/html": [
       "<h1>Validation output</h1><h3>Status Code = 400</h3> <div xmlns=\"http://www.w3.org/1999/xhtml\"><h1>Operation Outcome</h1><table border=\"0\"><tr><td style=\"font-weight: bold;\">ERROR</td><td>[]</td><td><pre>Failed to parse request body as JSON resource. Error was: Invalid attribute value \"?\": Unknown SearchModifierCode code '?'</pre></td>\n",
       "\t\t\t\t\t\n",
       "\t\t\t\t\n",
       "\t\t\t</tr>\n",
       "\t\t</table>\n",
       "\t</div>"
      ],
      "text/plain": [
       "<IPython.core.display.HTML object>"
      ]
     },
     "metadata": {},
     "output_type": "display_data"
    },
    {
     "name": "stdout",
     "output_type": "stream",
     "text": [
      "json file found:\t SearchParameter-us-core-medicationrequest-patient.json\n",
      "SearchParameter\n",
      "...validating file \"SearchParameter-us-core-medicationrequest-patient.json\" as SearchParameter\n"
     ]
    },
    {
     "data": {
      "text/html": [
       "<h1>Validation output</h1><h3>Status Code = 400</h3> <div xmlns=\"http://www.w3.org/1999/xhtml\"><h1>Operation Outcome</h1><table border=\"0\"><tr><td style=\"font-weight: bold;\">ERROR</td><td>[]</td><td><pre>Failed to parse request body as JSON resource. Error was: Invalid attribute value \"?\": Unknown SearchModifierCode code '?'</pre></td>\n",
       "\t\t\t\t\t\n",
       "\t\t\t\t\n",
       "\t\t\t</tr>\n",
       "\t\t</table>\n",
       "\t</div>"
      ],
      "text/plain": [
       "<IPython.core.display.HTML object>"
      ]
     },
     "metadata": {},
     "output_type": "display_data"
    },
    {
     "name": "stdout",
     "output_type": "stream",
     "text": [
      "json file found:\t SearchParameter-us-core-encounter-class.json\n",
      "SearchParameter\n",
      "...validating file \"SearchParameter-us-core-encounter-class.json\" as SearchParameter\n"
     ]
    },
    {
     "data": {
      "text/html": [
       "<h1>Validation output</h1><h3>Status Code = 400</h3> <div xmlns=\"http://www.w3.org/1999/xhtml\"><h1>Operation Outcome</h1><table border=\"0\"><tr><td style=\"font-weight: bold;\">ERROR</td><td>[]</td><td><pre>Failed to parse request body as JSON resource. Error was: Invalid attribute value \"?\": Unknown SearchModifierCode code '?'</pre></td>\n",
       "\t\t\t\t\t\n",
       "\t\t\t\t\n",
       "\t\t\t</tr>\n",
       "\t\t</table>\n",
       "\t</div>"
      ],
      "text/plain": [
       "<IPython.core.display.HTML object>"
      ]
     },
     "metadata": {},
     "output_type": "display_data"
    },
    {
     "name": "stdout",
     "output_type": "stream",
     "text": [
      "json file found:\t SearchParameter-us-core-careplan-category.json\n",
      "SearchParameter\n",
      "...validating file \"SearchParameter-us-core-careplan-category.json\" as SearchParameter\n"
     ]
    },
    {
     "data": {
      "text/html": [
       "<h1>Validation output</h1><h3>Status Code = 400</h3> <div xmlns=\"http://www.w3.org/1999/xhtml\"><h1>Operation Outcome</h1><table border=\"0\"><tr><td style=\"font-weight: bold;\">ERROR</td><td>[]</td><td><pre>Failed to parse request body as JSON resource. Error was: Invalid attribute value \"?\": Unknown SearchModifierCode code '?'</pre></td>\n",
       "\t\t\t\t\t\n",
       "\t\t\t\t\n",
       "\t\t\t</tr>\n",
       "\t\t</table>\n",
       "\t</div>"
      ],
      "text/plain": [
       "<IPython.core.display.HTML object>"
      ]
     },
     "metadata": {},
     "output_type": "display_data"
    },
    {
     "name": "stdout",
     "output_type": "stream",
     "text": [
      "json file found:\t SearchParameter-us-core-documentreference-id.json\n",
      "SearchParameter\n",
      "...validating file \"SearchParameter-us-core-documentreference-id.json\" as SearchParameter\n"
     ]
    },
    {
     "data": {
      "text/html": [
       "<h1>Validation output</h1><h3>Status Code = 400</h3> <div xmlns=\"http://www.w3.org/1999/xhtml\"><h1>Operation Outcome</h1><table border=\"0\"><tr><td style=\"font-weight: bold;\">ERROR</td><td>[]</td><td><pre>Failed to parse request body as JSON resource. Error was: Invalid attribute value \"?\": Unknown SearchModifierCode code '?'</pre></td>\n",
       "\t\t\t\t\t\n",
       "\t\t\t\t\n",
       "\t\t\t</tr>\n",
       "\t\t</table>\n",
       "\t</div>"
      ],
      "text/plain": [
       "<IPython.core.display.HTML object>"
      ]
     },
     "metadata": {},
     "output_type": "display_data"
    },
    {
     "name": "stdout",
     "output_type": "stream",
     "text": [
      "json file found:\t SearchParameter-us-core-condition-clinical-status.json\n",
      "SearchParameter\n",
      "...validating file \"SearchParameter-us-core-condition-clinical-status.json\" as SearchParameter\n"
     ]
    },
    {
     "data": {
      "text/html": [
       "<h1>Validation output</h1><h3>Status Code = 400</h3> <div xmlns=\"http://www.w3.org/1999/xhtml\"><h1>Operation Outcome</h1><table border=\"0\"><tr><td style=\"font-weight: bold;\">ERROR</td><td>[]</td><td><pre>Failed to parse request body as JSON resource. Error was: Invalid attribute value \"?\": Unknown SearchModifierCode code '?'</pre></td>\n",
       "\t\t\t\t\t\n",
       "\t\t\t\t\n",
       "\t\t\t</tr>\n",
       "\t\t</table>\n",
       "\t</div>"
      ],
      "text/plain": [
       "<IPython.core.display.HTML object>"
      ]
     },
     "metadata": {},
     "output_type": "display_data"
    },
    {
     "name": "stdout",
     "output_type": "stream",
     "text": [
      "json file found:\t SearchParameter-us-core-patient-gender.json\n",
      "SearchParameter\n",
      "...validating file \"SearchParameter-us-core-patient-gender.json\" as SearchParameter\n"
     ]
    },
    {
     "data": {
      "text/html": [
       "<h1>Validation output</h1><h3>Status Code = 400</h3> <div xmlns=\"http://www.w3.org/1999/xhtml\"><h1>Operation Outcome</h1><table border=\"0\"><tr><td style=\"font-weight: bold;\">ERROR</td><td>[]</td><td><pre>Failed to parse request body as JSON resource. Error was: Invalid attribute value \"?\": Unknown SearchModifierCode code '?'</pre></td>\n",
       "\t\t\t\t\t\n",
       "\t\t\t\t\n",
       "\t\t\t</tr>\n",
       "\t\t</table>\n",
       "\t</div>"
      ],
      "text/plain": [
       "<IPython.core.display.HTML object>"
      ]
     },
     "metadata": {},
     "output_type": "display_data"
    },
    {
     "name": "stdout",
     "output_type": "stream",
     "text": [
      "json file found:\t SearchParameter-us-core-procedure-code.json\n",
      "SearchParameter\n",
      "...validating file \"SearchParameter-us-core-procedure-code.json\" as SearchParameter\n"
     ]
    },
    {
     "data": {
      "text/html": [
       "<h1>Validation output</h1><h3>Status Code = 400</h3> <div xmlns=\"http://www.w3.org/1999/xhtml\"><h1>Operation Outcome</h1><table border=\"0\"><tr><td style=\"font-weight: bold;\">ERROR</td><td>[]</td><td><pre>Failed to parse request body as JSON resource. Error was: Invalid attribute value \"?\": Unknown SearchModifierCode code '?'</pre></td>\n",
       "\t\t\t\t\t\n",
       "\t\t\t\t\n",
       "\t\t\t</tr>\n",
       "\t\t</table>\n",
       "\t</div>"
      ],
      "text/plain": [
       "<IPython.core.display.HTML object>"
      ]
     },
     "metadata": {},
     "output_type": "display_data"
    },
    {
     "name": "stdout",
     "output_type": "stream",
     "text": [
      "json file found:\t SearchParameter-us-core-goal-lifecycle-status.json\n",
      "SearchParameter\n",
      "...validating file \"SearchParameter-us-core-goal-lifecycle-status.json\" as SearchParameter\n"
     ]
    },
    {
     "data": {
      "text/html": [
       "<h1>Validation output</h1><h3>Status Code = 400</h3> <div xmlns=\"http://www.w3.org/1999/xhtml\"><h1>Operation Outcome</h1><table border=\"0\"><tr><td style=\"font-weight: bold;\">ERROR</td><td>[]</td><td><pre>Failed to parse request body as JSON resource. Error was: Invalid attribute value \"?\": Unknown SearchModifierCode code '?'</pre></td>\n",
       "\t\t\t\t\t\n",
       "\t\t\t\t\n",
       "\t\t\t</tr>\n",
       "\t\t</table>\n",
       "\t</div>"
      ],
      "text/plain": [
       "<IPython.core.display.HTML object>"
      ]
     },
     "metadata": {},
     "output_type": "display_data"
    },
    {
     "name": "stdout",
     "output_type": "stream",
     "text": [
      "json file found:\t SearchParameter-us-core-diagnosticreport-code.json\n",
      "SearchParameter\n",
      "...validating file \"SearchParameter-us-core-diagnosticreport-code.json\" as SearchParameter\n"
     ]
    },
    {
     "data": {
      "text/html": [
       "<h1>Validation output</h1><h3>Status Code = 400</h3> <div xmlns=\"http://www.w3.org/1999/xhtml\"><h1>Operation Outcome</h1><table border=\"0\"><tr><td style=\"font-weight: bold;\">ERROR</td><td>[]</td><td><pre>Failed to parse request body as JSON resource. Error was: Invalid attribute value \"?\": Unknown SearchModifierCode code '?'</pre></td>\n",
       "\t\t\t\t\t\n",
       "\t\t\t\t\n",
       "\t\t\t</tr>\n",
       "\t\t</table>\n",
       "\t</div>"
      ],
      "text/plain": [
       "<IPython.core.display.HTML object>"
      ]
     },
     "metadata": {},
     "output_type": "display_data"
    },
    {
     "name": "stdout",
     "output_type": "stream",
     "text": [
      "json file found:\t SearchParameter-us-core-organization-name.json\n",
      "SearchParameter\n",
      "...validating file \"SearchParameter-us-core-organization-name.json\" as SearchParameter\n"
     ]
    },
    {
     "data": {
      "text/html": [
       "<h1>Validation output</h1><h3>Status Code = 400</h3> <div xmlns=\"http://www.w3.org/1999/xhtml\"><h1>Operation Outcome</h1><table border=\"0\"><tr><td style=\"font-weight: bold;\">ERROR</td><td>[]</td><td><pre>Failed to parse request body as JSON resource. Error was: Invalid attribute value \"?\": Unknown SearchModifierCode code '?'</pre></td>\n",
       "\t\t\t\t\t\n",
       "\t\t\t\t\n",
       "\t\t\t</tr>\n",
       "\t\t</table>\n",
       "\t</div>"
      ],
      "text/plain": [
       "<IPython.core.display.HTML object>"
      ]
     },
     "metadata": {},
     "output_type": "display_data"
    },
    {
     "name": "stdout",
     "output_type": "stream",
     "text": [
      "json file found:\t SearchParameter-us-core-medicationstatement-status.json\n",
      "SearchParameter\n",
      "...validating file \"SearchParameter-us-core-medicationstatement-status.json\" as SearchParameter\n"
     ]
    },
    {
     "data": {
      "text/html": [
       "<h1>Validation output</h1><h3>Status Code = 400</h3> <div xmlns=\"http://www.w3.org/1999/xhtml\"><h1>Operation Outcome</h1><table border=\"0\"><tr><td style=\"font-weight: bold;\">ERROR</td><td>[]</td><td><pre>Failed to parse request body as JSON resource. Error was: Invalid attribute value \"?\": Unknown SearchModifierCode code '?'</pre></td>\n",
       "\t\t\t\t\t\n",
       "\t\t\t\t\n",
       "\t\t\t</tr>\n",
       "\t\t</table>\n",
       "\t</div>"
      ],
      "text/plain": [
       "<IPython.core.display.HTML object>"
      ]
     },
     "metadata": {},
     "output_type": "display_data"
    },
    {
     "name": "stdout",
     "output_type": "stream",
     "text": [
      "json file found:\t SearchParameter-us-core-practitionerrole-practitioner.json\n",
      "SearchParameter\n",
      "...validating file \"SearchParameter-us-core-practitionerrole-practitioner.json\" as SearchParameter\n"
     ]
    },
    {
     "data": {
      "text/html": [
       "<h1>Validation output</h1><h3>Status Code = 400</h3> <div xmlns=\"http://www.w3.org/1999/xhtml\"><h1>Operation Outcome</h1><table border=\"0\"><tr><td style=\"font-weight: bold;\">ERROR</td><td>[]</td><td><pre>Failed to parse request body as JSON resource. Error was: Invalid attribute value \"?\": Unknown SearchModifierCode code '?'</pre></td>\n",
       "\t\t\t\t\t\n",
       "\t\t\t\t\n",
       "\t\t\t</tr>\n",
       "\t\t</table>\n",
       "\t</div>"
      ],
      "text/plain": [
       "<IPython.core.display.HTML object>"
      ]
     },
     "metadata": {},
     "output_type": "display_data"
    },
    {
     "name": "stdout",
     "output_type": "stream",
     "text": [
      "json file found:\t SearchParameter-us-core-location-address-state.json\n",
      "SearchParameter\n",
      "...validating file \"SearchParameter-us-core-location-address-state.json\" as SearchParameter\n"
     ]
    },
    {
     "data": {
      "text/html": [
       "<h1>Validation output</h1><h3>Status Code = 400</h3> <div xmlns=\"http://www.w3.org/1999/xhtml\"><h1>Operation Outcome</h1><table border=\"0\"><tr><td style=\"font-weight: bold;\">ERROR</td><td>[]</td><td><pre>Failed to parse request body as JSON resource. Error was: Invalid attribute value \"?\": Unknown SearchModifierCode code '?'</pre></td>\n",
       "\t\t\t\t\t\n",
       "\t\t\t\t\n",
       "\t\t\t</tr>\n",
       "\t\t</table>\n",
       "\t</div>"
      ],
      "text/plain": [
       "<IPython.core.display.HTML object>"
      ]
     },
     "metadata": {},
     "output_type": "display_data"
    }
   ],
   "source": [
    "for file in os.listdir(in_path):\n",
    "\n",
    "        if type in file.lower() and file.endswith(\".json\"):\n",
    "        #if file == f_name:\n",
    "            print(\"json file found:\\t\", file)\n",
    "            r = open_file(file)\n",
    "\n",
    "            try:\n",
    "                print(loads(r)['resourceType'])\n",
    "                # print(r)\n",
    "\n",
    "\n",
    "                print(f'...validating file \\\"{file}\\\" as {loads(r)[\"resourceType\"]}')\n",
    "                  \n",
    "                r = validate(r)\n",
    "                \n",
    "                if r.status_code < 300:\n",
    "                    print(\"OK\")\n",
    "                else:\n",
    "                    display(HTML(f'<h1>Validation output</h1><h3>Status Code = {r.status_code}</h3> {r.json()[\"text\"][\"div\"]}'))\n",
    "            except Exception as e: print(e)\n",
    "                "
   ]
  }
 ],
 "metadata": {
  "kernelspec": {
   "display_name": "Python 3",
   "language": "python",
   "name": "python3"
  },
  "language_info": {
   "codemirror_mode": {
    "name": "ipython",
    "version": 3
   },
   "file_extension": ".py",
   "mimetype": "text/x-python",
   "name": "python",
   "nbconvert_exporter": "python",
   "pygments_lexer": "ipython3",
   "version": "3.7.3"
  }
 },
 "nbformat": 4,
 "nbformat_minor": 2
}
