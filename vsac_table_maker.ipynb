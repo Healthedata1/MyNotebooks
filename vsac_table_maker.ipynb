{
 "cells": [
  {
   "cell_type": "markdown",
   "metadata": {},
   "source": [
    "# make table from vsac valuesets\n",
    "\n",
    "1. get valueset from vsac\n",
    "2. convert expansion to markdown table\n",
    "3. print and save"
   ]
  },
  {
   "cell_type": "code",
   "execution_count": 36,
   "metadata": {},
   "outputs": [],
   "source": [
    "from requests import get\n",
    "from requests.auth import HTTPBasicAuth\n",
    "from json import dumps, loads\n",
    "from pathlib import Path\n",
    "from IPython.display import display, Markdown, HTML"
   ]
  },
  {
   "cell_type": "code",
   "execution_count": 69,
   "metadata": {},
   "outputs": [
    {
     "name": "stdout",
     "output_type": "stream",
     "text": [
      "Code|System|Display|Definition\n",
      "---|---|---|---\n",
      "446131000124102|http://snomed.info/sct|Identifies as non-conforming gender (finding)|-\n",
      "446141000124107|http://snomed.info/sct|Identifies as female gender (finding)|-\n",
      "446151000124109|http://snomed.info/sct|Identifies as male gender (finding)|-\n",
      "ASKU|http://terminology.hl7.org/CodeSystem/v3-NullFlavor|asked but unknown|-\n",
      "OTH|http://terminology.hl7.org/CodeSystem/v3-NullFlavor|other|-\n",
      "UNK|http://terminology.hl7.org/CodeSystem/v3-NullFlavor|unknown|-\n",
      "writing......\n"
     ]
    },
    {
     "data": {
      "text/plain": [
       "496"
      ]
     },
     "execution_count": 69,
     "metadata": {},
     "output_type": "execute_result"
    }
   ],
   "source": [
    "not_in_urls = [] # for excludes if needed\n",
    "exclude = []\n",
    "out_path = '' # for testing\n",
    "out_path = '/Users/ehaas/Documents/FHIR/US-Core-R4/input/includes'\n",
    "# out_file = \"http://hl7.org/fhir/us/core/ValueSet/birthsex\"\n",
    "# in_urls = [\"http://cts.nlm.nih.gov/fhir/ValueSet/2.16.840.1.113762.1.4.1\",\n",
    "#            \"https://cts.nlm.nih.gov/fhir/res/ValueSet/2.16.840.1.113762.1.4.1021.103\"\n",
    "#           ]\n",
    "# out_file = \"http://hl7.org/fhir/us/core/ValueSet/omb-ethnicity-category\"\n",
    "# in_urls = [\"http://cts.nlm.nih.gov/fhir/ValueSet/2.16.840.1.114222.4.11.837\",\n",
    "#            \"http://cts.nlm.nih.gov/fhir/ValueSet/2.16.840.1.113762.1.4.1021.102\"\n",
    "#           ]\n",
    "\n",
    "# out_file = \"http://hl7.org/fhir/us/core/ValueSet/detailed-ethnicity\"\n",
    "# in_urls = [\"http://cts.nlm.nih.gov/fhir/ValueSet/2.16.840.1.114222.4.11.877\",\n",
    "#            \"http://cts.nlm.nih.gov/fhir/ValueSet/2.16.840.1.113762.1.4.1021.103\"\n",
    "#           ]\n",
    "\n",
    "# out_file = \"http://hl7.org/fhir/us/core/ValueSet/omb-race-category\"\n",
    "# in_urls = [\"http://cts.nlm.nih.gov/fhir/ValueSet/2.16.840.1.113883.3.2074.1.1.3\",\n",
    "#            \"http://cts.nlm.nih.gov/fhir/ValueSet/2.16.840.1.113762.1.4.1021.103\"\n",
    "#           ]\n",
    "\n",
    "# out_file = \"http://hl7.org/fhir/us/core/ValueSet/detailed-race\"\n",
    "# in_urls = [\"http://cts.nlm.nih.gov/fhir/ValueSet/2.16.840.1.113883.1.11.14914\",\n",
    "#            \"http://cts.nlm.nih.gov/fhir/ValueSet/2.16.840.1.113762.1.4.1021.103\"\n",
    "#           ]\n",
    "# not_in_urls = [\"http://cts.nlm.nih.gov/fhir/ValueSet/2.16.840.1.113883.3.2074.1.1.3\",\n",
    "#           ]\n",
    "\n",
    "out_file = \"http://hl7.org/fhir/us/core/ValueSet/gender-id\"\n",
    "in_urls = [\"http://cts.nlm.nih.gov/fhir/ValueSet/2.16.840.1.113762.1.4.1021.32\",\n",
    "          ]\n",
    "\n",
    "out_file_name = f\"{'-'.join(out_file.split('/')[-2:])}-table.md\"\n",
    "\n",
    "\n",
    "api_key = \"5a96c64e-2156-43c0-a9b3-1c2c8d914bb5\"\n",
    "login_url = \"https://cts.nlm.nih.gov/fhir/login.html\"\n",
    "\n",
    "headers = {\n",
    "    'Accept':'application/fhir+json',\n",
    "    'Content-Type':'application/fhir+json',\n",
    "    }\n",
    "    \n",
    "params = {\n",
    "    }\n",
    "\n",
    "auth = HTTPBasicAuth('apikey', api_key)\n",
    "\n",
    "out_file = \"Code|System|Display|Definition\\n---|---|---|---\"\n",
    "   \n",
    "for not_in_url in not_in_urls:\n",
    "    r = get(f'{not_in_url}/$expand', params = params, headers = headers, auth=auth)\n",
    "    exclude = [concept['code'] for concept in r.json()['expansion']['contains']]\n",
    "    print(exclude)\n",
    "for in_url in in_urls:\n",
    "    r = get(f'{in_url}/$expand', params = params, headers = headers, auth=auth)\n",
    "    #print(r.status_code, dumps(r.json(), indent =2))\n",
    "\n",
    "    for concept in r.json()['expansion']['contains']:\n",
    "        if concept['code'] not in exclude:\n",
    "            try:\n",
    "                out_file = f\"{out_file}\\n{concept['code']}|{concept['system']}|{concept['display']}|{concept['definition']}\"\n",
    "            except KeyError:\n",
    "                out_file = f\"{out_file}\\n{concept['code']}|{concept['system']}|{concept['display']}|-\"\n",
    "print(out_file)                \n",
    "print('writing......')\n",
    "out_path = Path() / out_path / out_file_name\n",
    "out_path.write_text(out_file)"
   ]
  },
  {
   "cell_type": "code",
   "execution_count": null,
   "metadata": {},
   "outputs": [],
   "source": []
  }
 ],
 "metadata": {
  "kernelspec": {
   "display_name": "Python 3.7.3 64-bit ('venv37': venv)",
   "language": "python",
   "name": "python37364bitvenv37venv2b400d68decb43d5b2206c004a019450"
  },
  "language_info": {
   "codemirror_mode": {
    "name": "ipython",
    "version": 3
   },
   "file_extension": ".py",
   "mimetype": "text/x-python",
   "name": "python",
   "nbconvert_exporter": "python",
   "pygments_lexer": "ipython3",
   "version": "3.7.3"
  }
 },
 "nbformat": 4,
 "nbformat_minor": 4
}
