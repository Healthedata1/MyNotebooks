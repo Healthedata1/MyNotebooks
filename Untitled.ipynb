{
 "cells": [
  {
   "cell_type": "markdown",
   "id": "f048575f-c492-44cc-a983-138da88d1e3e",
   "metadata": {
    "tags": []
   },
   "source": [
    "### Create New DataFrame with My Custom Column Headers"
   ]
  },
  {
   "cell_type": "code",
   "execution_count": 12,
   "id": "feaf61e1-04c4-42d4-a11a-97ec9d265f51",
   "metadata": {},
   "outputs": [
    {
     "data": {
      "text/html": [
       "<div>\n",
       "<style scoped>\n",
       "    .dataframe tbody tr th:only-of-type {\n",
       "        vertical-align: middle;\n",
       "    }\n",
       "\n",
       "    .dataframe tbody tr th {\n",
       "        vertical-align: top;\n",
       "    }\n",
       "\n",
       "    .dataframe thead th {\n",
       "        text-align: right;\n",
       "    }\n",
       "</style>\n",
       "<table border=\"1\" class=\"dataframe\">\n",
       "  <thead>\n",
       "    <tr style=\"text-align: right;\">\n",
       "      <th></th>\n",
       "      <th>Profile Title</th>\n",
       "      <th>Category Slices</th>\n",
       "      <th>Code Binding</th>\n",
       "      <th>Time Types</th>\n",
       "      <th>Value Types</th>\n",
       "      <th>Quantity Unit Binding</th>\n",
       "      <th>Is Data Absent Reason</th>\n",
       "      <th>Is Component</th>\n",
       "      <th>Component Code Binding</th>\n",
       "      <th>Component Value Type</th>\n",
       "      <th>Has Member References</th>\n",
       "      <th>Derived From References</th>\n",
       "    </tr>\n",
       "  </thead>\n",
       "  <tbody>\n",
       "  </tbody>\n",
       "</table>\n",
       "</div>"
      ],
      "text/plain": [
       "Empty DataFrame\n",
       "Columns: [Profile Title, Category Slices, Code Binding, Time Types, Value Types, Quantity Unit Binding, Is Data Absent Reason, Is Component, Component Code Binding, Component Value Type, Has Member References, Derived From References]\n",
       "Index: []"
      ]
     },
     "execution_count": 12,
     "metadata": {},
     "output_type": "execute_result"
    }
   ],
   "source": [
    "\n",
    "import pandas as pd\n",
    "\n",
    "my_index = [\n",
    "'Profile Title',\n",
    "'Category Slices',\n",
    "'Code Binding',\n",
    "'Time Types',\n",
    "'Value Types',\n",
    "'Quantity Unit Binding',\n",
    "'Is Data Absent Reason',\n",
    "'Is Component',\n",
    "'Component Code Binding',\n",
    "'Component Value Type',\n",
    "'Has Member References',\n",
    "'Derived From References',\n",
    "]\n",
    "\n",
    "df = pd.DataFrame(data={}, columns=my_index)\n",
    "df"
   ]
  },
  {
   "cell_type": "markdown",
   "id": "d38b0214-2cb6-4918-9dd2-7cecaa433123",
   "metadata": {},
   "source": [
    "### Add Row of Data"
   ]
  },
  {
   "cell_type": "code",
   "execution_count": 32,
   "id": "5d77f6b8-2523-466f-8716-3dccfafeaf03",
   "metadata": {},
   "outputs": [
    {
     "data": {
      "text/html": [
       "<div>\n",
       "<style scoped>\n",
       "    .dataframe tbody tr th:only-of-type {\n",
       "        vertical-align: middle;\n",
       "    }\n",
       "\n",
       "    .dataframe tbody tr th {\n",
       "        vertical-align: top;\n",
       "    }\n",
       "\n",
       "    .dataframe thead th {\n",
       "        text-align: right;\n",
       "    }\n",
       "</style>\n",
       "<table border=\"1\" class=\"dataframe\">\n",
       "  <thead>\n",
       "    <tr style=\"text-align: right;\">\n",
       "      <th></th>\n",
       "      <th>Profile Title</th>\n",
       "      <th>Category Slices</th>\n",
       "      <th>Code Binding</th>\n",
       "      <th>Time Types</th>\n",
       "      <th>Value Types</th>\n",
       "      <th>Quantity Unit Binding</th>\n",
       "      <th>Is Data Absent Reason</th>\n",
       "      <th>Is Component</th>\n",
       "      <th>Component Code Binding</th>\n",
       "      <th>Component Value Type</th>\n",
       "      <th>Has Member References</th>\n",
       "      <th>Derived From References</th>\n",
       "    </tr>\n",
       "  </thead>\n",
       "  <tbody>\n",
       "    <tr>\n",
       "      <th>0</th>\n",
       "      <td>1</td>\n",
       "      <td>2</td>\n",
       "      <td>foo</td>\n",
       "      <td>bar</td>\n",
       "      <td>None</td>\n",
       "      <td>None</td>\n",
       "      <td>None</td>\n",
       "      <td>None</td>\n",
       "      <td>None</td>\n",
       "      <td>None</td>\n",
       "      <td>None</td>\n",
       "      <td>None</td>\n",
       "    </tr>\n",
       "    <tr>\n",
       "      <th>1</th>\n",
       "      <td>1</td>\n",
       "      <td>2</td>\n",
       "      <td>foo</td>\n",
       "      <td>bar</td>\n",
       "      <td>None</td>\n",
       "      <td>None</td>\n",
       "      <td>None</td>\n",
       "      <td>None</td>\n",
       "      <td>None</td>\n",
       "      <td>None</td>\n",
       "      <td>None</td>\n",
       "      <td>None</td>\n",
       "    </tr>\n",
       "  </tbody>\n",
       "</table>\n",
       "</div>"
      ],
      "text/plain": [
       "   Profile Title  Category Slices Code Binding Time Types Value Types  \\\n",
       "0              1                2          foo        bar        None   \n",
       "1              1                2          foo        bar        None   \n",
       "\n",
       "  Quantity Unit Binding Is Data Absent Reason Is Component  \\\n",
       "0                  None                  None         None   \n",
       "1                  None                  None         None   \n",
       "\n",
       "  Component Code Binding Component Value Type Has Member References  \\\n",
       "0                   None                 None                  None   \n",
       "1                   None                 None                  None   \n",
       "\n",
       "  Derived From References  \n",
       "0                    None  \n",
       "1                    None  "
      ]
     },
     "execution_count": 32,
     "metadata": {},
     "output_type": "execute_result"
    }
   ],
   "source": [
    "row1= [\n",
    "    1,\n",
    "    2,\n",
    "    'foo',\n",
    "    'bar',\n",
    "    None, \n",
    "    None,\n",
    "    None,\n",
    "    None,\n",
    "    None,\n",
    "    None,\n",
    "    None,\n",
    "    None,\n",
    "]\n",
    "\n",
    "\n",
    "\n",
    "to_append = [5, 6]\n",
    "df_length = len(df)\n",
    "df.loc[df_length] = row1\n",
    "df"
   ]
  },
  {
   "cell_type": "code",
   "execution_count": null,
   "id": "74ddf0f3-4b38-4d67-8111-99d3ca884c8f",
   "metadata": {},
   "outputs": [],
   "source": []
  }
 ],
 "metadata": {
  "kernelspec": {
   "display_name": "Python 3 (ipykernel)",
   "language": "python",
   "name": "python3"
  },
  "language_info": {
   "codemirror_mode": {
    "name": "ipython",
    "version": 3
   },
   "file_extension": ".py",
   "mimetype": "text/x-python",
   "name": "python",
   "nbconvert_exporter": "python",
   "pygments_lexer": "ipython3",
   "version": "3.10.2"
  }
 },
 "nbformat": 4,
 "nbformat_minor": 5
}
