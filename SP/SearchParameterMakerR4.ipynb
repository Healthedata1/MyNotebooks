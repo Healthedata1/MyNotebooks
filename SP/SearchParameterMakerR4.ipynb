{
 "cells": [
  {
   "cell_type": "markdown",
   "metadata": {},
   "source": [
    "# TODO :  change from sorting by resource type to profile\n",
    "\n",
    "## Create FHIR R4 SearchParameter Resource\n",
    "\n",
    "Create FHIR R4 SearchParameter Resource, Quick start text, and Searchparameter list using the python fhir client\n",
    "\n",
    "Source data is in excel file\n",
    "\n",
    "### Prerequisites:\n",
    "\n",
    "- Python 3.7 or greater\n"
   ]
  },
  {
   "cell_type": "markdown",
   "metadata": {},
   "source": [
    "### Import FHIRR4Client and other libraries"
   ]
  },
  {
   "cell_type": "code",
   "execution_count": 1,
   "metadata": {},
   "outputs": [],
   "source": [
    "%config IPCompleter.greedy=True"
   ]
  },
  {
   "cell_type": "code",
   "execution_count": 2,
   "metadata": {},
   "outputs": [],
   "source": [
    "from fhirclient.r4models.fhirabstractbase import FHIRValidationError\n",
    "from fhirclient.r4models import searchparameter as SP\n",
    "from fhirclient.r4models import capabilitystatement as CS\n",
    "from fhirclient.r4models import bundle as B\n",
    "import fhirclient.r4models.identifier as I\n",
    "import fhirclient.r4models.coding as C\n",
    "import fhirclient.r4models.codeableconcept as CC\n",
    "import fhirclient.r4models.fhirdate as D\n",
    "import fhirclient.r4models.extension as X\n",
    "import fhirclient.r4models.contactdetail as CD\n",
    "from json import dumps, loads, load\n",
    "from requests import get, post, put\n",
    "import os\n",
    "from pathlib import Path\n",
    "from csv import reader as csvreader\n",
    "from IPython.display import display as Display, HTML, Markdown\n",
    "from pprint import pprint\n",
    "from collections import namedtuple\n",
    "from pandas import *\n",
    "from datetime import datetime\n",
    "from jinja2 import Environment, FileSystemLoader, select_autoescape\n",
    "import R4sp_summary_list as sp_map\n",
    "from stringcase import snakecase, titlecase, pascalcase\n",
    "from itertools import zip_longest\n",
    "from openpyxl import load_workbook"
   ]
  },
  {
   "cell_type": "markdown",
   "metadata": {},
   "source": [
    "####  Assign Global Variables\n",
    "\n",
    "\n",
    "Here is where we assign all the global variables for this example such as the local paths for file input and output\n",
    "\n",
    "##### Need to update:\n",
    "- base_id\n",
    "- paths\n",
    "- canonical"
   ]
  },
  {
   "cell_type": "code",
   "execution_count": 3,
   "metadata": {},
   "outputs": [],
   "source": [
    "#******************** Need to update *************************************************\n",
    "fhir_base_url = 'http://hl7.org/fhir/'\n",
    "base_id = \"US-Core\"\n",
    "canon_base = \"http://hl7.org/fhir/us/core/\"\n",
    "ig_folder = 'US-Core'\n",
    "publisher = 'HL7 International - Structured Documents Work Group'\n",
    "publisher_endpoint = dict(\n",
    "                        system = 'url',\n",
    "                        value = 'http://www.hl7.org/Special/committees/structure/index.cfm'\n",
    "                        ) \n",
    "#ig_source_path = \"//ERICS-AIR-2/ehaas/Documents/FHIR/US-Core-R4/source/\"\n",
    "ig_source_path = \"/Users/ehaas/Documents/FHIR/US-Core-R4/source/\"\n",
    "#ig_source_path = ''\n",
    "ig_pages_path= '/Users/ehaas/Documents/FHIR/US-Core-R4/source/pages/_includes'\n",
    "skip_types = ['Questionnaire']\n",
    "#***********************************************************************************\n",
    "\n",
    "env = Environment(\n",
    "    loader=FileSystemLoader(searchpath = ''),\n",
    "    autoescape=select_autoescape(['html','xml','xhtml','j2','md'])\n",
    "    )\n",
    "\n",
    "md_template = ['quick_start.j2', 'sp_list_page.j2', 'cs_search_documentation.j2','sp_narrative.j2']\n",
    "\n",
    "\n",
    "fhir_term_server = 'http://test.fhir.org/r3'\n",
    "\n",
    "# profile = 'http://hl7.org/fhir/us/core/StructureDefinition/us-core-patient' # The official URL for this profile is: http://hl7.org/fhir/us/core/StructureDefinition/us-core-patient\n",
    "\n",
    "\n",
    "\n",
    "none_list = ['', ' ', 'none', 'n/a', 'N/A', 'N', 'False', 'FALSE']\n",
    "sep_list = (',', ';', ' ', ', ', '; ')\n",
    "\n"
   ]
  },
  {
   "cell_type": "markdown",
   "metadata": {},
   "source": [
    "### validate"
   ]
  },
  {
   "cell_type": "code",
   "execution_count": 4,
   "metadata": {},
   "outputs": [],
   "source": [
    "# *********************** validate Resource as Dict ********************************\n",
    "\n",
    "def validate(r):\n",
    "\n",
    "    fhir_test_server = 'http://test.fhir.org/r4'\n",
    "\n",
    "    headers = {\n",
    "    'Accept':'application/fhir+json',\n",
    "    'Content-Type':'application/fhir+json'\n",
    "    }\n",
    "    \n",
    "    params = {\n",
    "    }\n",
    "    \n",
    "    r = post(f'{fhir_test_server}/{r[\"resourceType\"]}/$validate', params = params, headers = headers, data = dumps(r))\n",
    "    # return r.status_code\n",
    "    # view  output\n",
    "    # return (r.json()[\"text\"][\"div\"])\n",
    "    return r"
   ]
  },
  {
   "cell_type": "markdown",
   "metadata": {},
   "source": [
    "### Get Search Parameter input data"
   ]
  },
  {
   "cell_type": "code",
   "execution_count": 5,
   "metadata": {},
   "outputs": [
    {
     "data": {
      "text/html": [
       "<div>\n",
       "<style scoped>\n",
       "    .dataframe tbody tr th:only-of-type {\n",
       "        vertical-align: middle;\n",
       "    }\n",
       "\n",
       "    .dataframe tbody tr th {\n",
       "        vertical-align: top;\n",
       "    }\n",
       "\n",
       "    .dataframe thead th {\n",
       "        text-align: right;\n",
       "    }\n",
       "</style>\n",
       "<table border=\"1\" class=\"dataframe\">\n",
       "  <thead>\n",
       "    <tr style=\"text-align: right;\">\n",
       "      <th></th>\n",
       "      <th>index</th>\n",
       "      <th>base</th>\n",
       "      <th>combo</th>\n",
       "      <th>combo_conf</th>\n",
       "      <th>types</th>\n",
       "      <th>description</th>\n",
       "      <th>example</th>\n",
       "      <th>imp_note</th>\n",
       "    </tr>\n",
       "  </thead>\n",
       "  <tbody>\n",
       "    <tr>\n",
       "      <th>0</th>\n",
       "      <td>1</td>\n",
       "      <td>Encounter</td>\n",
       "      <td>class,date</td>\n",
       "      <td>SHOULD</td>\n",
       "      <td>date,token</td>\n",
       "      <td></td>\n",
       "      <td></td>\n",
       "      <td></td>\n",
       "    </tr>\n",
       "    <tr>\n",
       "      <th>1</th>\n",
       "      <td>2</td>\n",
       "      <td>!Encounter</td>\n",
       "      <td>class,date,patient</td>\n",
       "      <td>SHOULD</td>\n",
       "      <td>date,reference,token</td>\n",
       "      <td></td>\n",
       "      <td></td>\n",
       "      <td></td>\n",
       "    </tr>\n",
       "    <tr>\n",
       "      <th>2</th>\n",
       "      <td>3</td>\n",
       "      <td>!Encounter</td>\n",
       "      <td>class,date,patient,type</td>\n",
       "      <td>SHOULD</td>\n",
       "      <td>date,reference,token</td>\n",
       "      <td></td>\n",
       "      <td></td>\n",
       "      <td></td>\n",
       "    </tr>\n",
       "    <tr>\n",
       "      <th>3</th>\n",
       "      <td>4</td>\n",
       "      <td>!Encounter</td>\n",
       "      <td>class,date,type</td>\n",
       "      <td>SHOULD</td>\n",
       "      <td>date,token</td>\n",
       "      <td></td>\n",
       "      <td></td>\n",
       "      <td></td>\n",
       "    </tr>\n",
       "    <tr>\n",
       "      <th>4</th>\n",
       "      <td>5</td>\n",
       "      <td>Encounter</td>\n",
       "      <td>class,patient</td>\n",
       "      <td>SHOULD</td>\n",
       "      <td>reference,token</td>\n",
       "      <td></td>\n",
       "      <td></td>\n",
       "      <td></td>\n",
       "    </tr>\n",
       "    <tr>\n",
       "      <th>5</th>\n",
       "      <td>6</td>\n",
       "      <td>!Encounter</td>\n",
       "      <td>class,patient,status</td>\n",
       "      <td>SHOULD</td>\n",
       "      <td>reference,token</td>\n",
       "      <td></td>\n",
       "      <td></td>\n",
       "      <td></td>\n",
       "    </tr>\n",
       "    <tr>\n",
       "      <th>6</th>\n",
       "      <td>7</td>\n",
       "      <td>!Encounter</td>\n",
       "      <td>class,patient,status,type</td>\n",
       "      <td>SHOULD</td>\n",
       "      <td>reference,token</td>\n",
       "      <td></td>\n",
       "      <td></td>\n",
       "      <td></td>\n",
       "    </tr>\n",
       "    <tr>\n",
       "      <th>7</th>\n",
       "      <td>8</td>\n",
       "      <td>!Encounter</td>\n",
       "      <td>class,patient,type</td>\n",
       "      <td>SHOULD</td>\n",
       "      <td>reference,token</td>\n",
       "      <td></td>\n",
       "      <td></td>\n",
       "      <td></td>\n",
       "    </tr>\n",
       "    <tr>\n",
       "      <th>8</th>\n",
       "      <td>9</td>\n",
       "      <td>!Encounter</td>\n",
       "      <td>class,status</td>\n",
       "      <td>SHOULD</td>\n",
       "      <td>token</td>\n",
       "      <td></td>\n",
       "      <td></td>\n",
       "      <td></td>\n",
       "    </tr>\n",
       "    <tr>\n",
       "      <th>9</th>\n",
       "      <td>10</td>\n",
       "      <td>!Encounter</td>\n",
       "      <td>class,status,type</td>\n",
       "      <td>SHOULD</td>\n",
       "      <td>token</td>\n",
       "      <td></td>\n",
       "      <td></td>\n",
       "      <td></td>\n",
       "    </tr>\n",
       "    <tr>\n",
       "      <th>10</th>\n",
       "      <td>11</td>\n",
       "      <td>!Encounter</td>\n",
       "      <td>class,type</td>\n",
       "      <td>SHOULD</td>\n",
       "      <td>token</td>\n",
       "      <td></td>\n",
       "      <td></td>\n",
       "      <td></td>\n",
       "    </tr>\n",
       "    <tr>\n",
       "      <th>11</th>\n",
       "      <td>12</td>\n",
       "      <td>Encounter</td>\n",
       "      <td>date,patient</td>\n",
       "      <td>SHALL</td>\n",
       "      <td>date,reference</td>\n",
       "      <td></td>\n",
       "      <td></td>\n",
       "      <td></td>\n",
       "    </tr>\n",
       "    <tr>\n",
       "      <th>12</th>\n",
       "      <td>13</td>\n",
       "      <td>!Encounter</td>\n",
       "      <td>date,patient,type</td>\n",
       "      <td>SHOULD</td>\n",
       "      <td>date,reference,token</td>\n",
       "      <td></td>\n",
       "      <td></td>\n",
       "      <td></td>\n",
       "    </tr>\n",
       "    <tr>\n",
       "      <th>13</th>\n",
       "      <td>14</td>\n",
       "      <td>!Encounter</td>\n",
       "      <td>date,type</td>\n",
       "      <td>SHOULD</td>\n",
       "      <td>date,token</td>\n",
       "      <td></td>\n",
       "      <td></td>\n",
       "      <td></td>\n",
       "    </tr>\n",
       "    <tr>\n",
       "      <th>14</th>\n",
       "      <td>15</td>\n",
       "      <td>Encounter</td>\n",
       "      <td>patient,status</td>\n",
       "      <td>SHOULD</td>\n",
       "      <td>reference,token</td>\n",
       "      <td></td>\n",
       "      <td></td>\n",
       "      <td></td>\n",
       "    </tr>\n",
       "    <tr>\n",
       "      <th>15</th>\n",
       "      <td>16</td>\n",
       "      <td>!Encounter</td>\n",
       "      <td>patient,status,type</td>\n",
       "      <td>SHOULD</td>\n",
       "      <td>reference,token</td>\n",
       "      <td></td>\n",
       "      <td></td>\n",
       "      <td></td>\n",
       "    </tr>\n",
       "    <tr>\n",
       "      <th>16</th>\n",
       "      <td>17</td>\n",
       "      <td>Encounter</td>\n",
       "      <td>patient,type</td>\n",
       "      <td>SHOULD</td>\n",
       "      <td>reference,token</td>\n",
       "      <td></td>\n",
       "      <td></td>\n",
       "      <td></td>\n",
       "    </tr>\n",
       "    <tr>\n",
       "      <th>17</th>\n",
       "      <td>18</td>\n",
       "      <td>!Encounter</td>\n",
       "      <td>status,type</td>\n",
       "      <td>SHOULD</td>\n",
       "      <td>token</td>\n",
       "      <td></td>\n",
       "      <td></td>\n",
       "      <td></td>\n",
       "    </tr>\n",
       "    <tr>\n",
       "      <th>18</th>\n",
       "      <td>19</td>\n",
       "      <td>!Questionnaire</td>\n",
       "      <td>context-type-value,publisher</td>\n",
       "      <td>SHOULD</td>\n",
       "      <td>composite,string</td>\n",
       "      <td></td>\n",
       "      <td></td>\n",
       "      <td></td>\n",
       "    </tr>\n",
       "    <tr>\n",
       "      <th>19</th>\n",
       "      <td>20</td>\n",
       "      <td>!Questionnaire</td>\n",
       "      <td>context-type-value,publisher,status</td>\n",
       "      <td>SHOULD</td>\n",
       "      <td>composite,string,token</td>\n",
       "      <td></td>\n",
       "      <td></td>\n",
       "      <td></td>\n",
       "    </tr>\n",
       "    <tr>\n",
       "      <th>20</th>\n",
       "      <td>21</td>\n",
       "      <td>!Questionnaire</td>\n",
       "      <td>context-type-value,status</td>\n",
       "      <td>SHOULD</td>\n",
       "      <td>composite,token</td>\n",
       "      <td></td>\n",
       "      <td></td>\n",
       "      <td></td>\n",
       "    </tr>\n",
       "    <tr>\n",
       "      <th>21</th>\n",
       "      <td>22</td>\n",
       "      <td>!Questionnaire</td>\n",
       "      <td>publisher,status</td>\n",
       "      <td>SHALL</td>\n",
       "      <td>string,token</td>\n",
       "      <td></td>\n",
       "      <td></td>\n",
       "      <td></td>\n",
       "    </tr>\n",
       "    <tr>\n",
       "      <th>22</th>\n",
       "      <td>23</td>\n",
       "      <td>!Questionnaire</td>\n",
       "      <td>publisher,status,version</td>\n",
       "      <td>SHOULD</td>\n",
       "      <td>string,token</td>\n",
       "      <td></td>\n",
       "      <td></td>\n",
       "      <td></td>\n",
       "    </tr>\n",
       "    <tr>\n",
       "      <th>23</th>\n",
       "      <td>24</td>\n",
       "      <td>!Questionnaire</td>\n",
       "      <td>publisher,version</td>\n",
       "      <td>SHOULD</td>\n",
       "      <td>string,token</td>\n",
       "      <td></td>\n",
       "      <td></td>\n",
       "      <td></td>\n",
       "    </tr>\n",
       "    <tr>\n",
       "      <th>24</th>\n",
       "      <td>25</td>\n",
       "      <td>!Questionnaire</td>\n",
       "      <td>status,title,version</td>\n",
       "      <td>SHOULD</td>\n",
       "      <td>string,token</td>\n",
       "      <td></td>\n",
       "      <td></td>\n",
       "      <td></td>\n",
       "    </tr>\n",
       "    <tr>\n",
       "      <th>25</th>\n",
       "      <td>26</td>\n",
       "      <td>!Questionnaire</td>\n",
       "      <td>status,version</td>\n",
       "      <td>SHOULD</td>\n",
       "      <td>token</td>\n",
       "      <td></td>\n",
       "      <td></td>\n",
       "      <td></td>\n",
       "    </tr>\n",
       "    <tr>\n",
       "      <th>26</th>\n",
       "      <td>27</td>\n",
       "      <td>!Questionnaire</td>\n",
       "      <td>title,version</td>\n",
       "      <td>SHOULD</td>\n",
       "      <td>string,token</td>\n",
       "      <td></td>\n",
       "      <td></td>\n",
       "      <td></td>\n",
       "    </tr>\n",
       "    <tr>\n",
       "      <th>27</th>\n",
       "      <td>28</td>\n",
       "      <td>Patient</td>\n",
       "      <td>birthdate,family</td>\n",
       "      <td>SHOULD</td>\n",
       "      <td>date,string</td>\n",
       "      <td>support searching for a patient by birthdate a...</td>\n",
       "      <td>GET [base]/Patient?family=Shaw&amp;birthdate=2007-...</td>\n",
       "      <td>Fetches a bundle of all Patient resources matc...</td>\n",
       "    </tr>\n",
       "    <tr>\n",
       "      <th>28</th>\n",
       "      <td>29</td>\n",
       "      <td>Patient</td>\n",
       "      <td>birthdate,name</td>\n",
       "      <td>SHALL</td>\n",
       "      <td>date,string</td>\n",
       "      <td>support searching for a patient by birthdate a...</td>\n",
       "      <td>GET [base]/Patient?name=Shaw&amp;birthdate=2007-03-20</td>\n",
       "      <td>Fetches a bundle of all Patient resources matc...</td>\n",
       "    </tr>\n",
       "    <tr>\n",
       "      <th>29</th>\n",
       "      <td>30</td>\n",
       "      <td>Patient</td>\n",
       "      <td>family,gender</td>\n",
       "      <td>SHOULD</td>\n",
       "      <td>string,token</td>\n",
       "      <td>support searching for a patient by family name...</td>\n",
       "      <td>GET [base]/Patient?family=Shaw&amp;gender=female</td>\n",
       "      <td>Fetches a bundle of all Patient resources matc...</td>\n",
       "    </tr>\n",
       "    <tr>\n",
       "      <th>30</th>\n",
       "      <td>31</td>\n",
       "      <td>Patient</td>\n",
       "      <td>gender,name</td>\n",
       "      <td>SHALL</td>\n",
       "      <td>string,token</td>\n",
       "      <td>support searching for a patient by a string ma...</td>\n",
       "      <td>GET [base]/Patient?name=Shaw&amp;gender=female</td>\n",
       "      <td>Fetches a bundle of all Patient resources matc...</td>\n",
       "    </tr>\n",
       "    <tr>\n",
       "      <th>31</th>\n",
       "      <td>32</td>\n",
       "      <td>Condition</td>\n",
       "      <td>patient,clinical-status</td>\n",
       "      <td>SHOULD</td>\n",
       "      <td>reference,token</td>\n",
       "      <td>support searching for all *active* conditions ...</td>\n",
       "      <td>GET [base/Condition?patient=[id]&amp;clinical-stat...</td>\n",
       "      <td>Fetches a bundle of all Condition resources fo...</td>\n",
       "    </tr>\n",
       "    <tr>\n",
       "      <th>32</th>\n",
       "      <td>33</td>\n",
       "      <td>Condition</td>\n",
       "      <td>patient,category</td>\n",
       "      <td>SHOULD</td>\n",
       "      <td>reference,token</td>\n",
       "      <td>support searching for all problems or health c...</td>\n",
       "      <td>GET [base]/Condition?patient=1032702&amp;category=...</td>\n",
       "      <td>Fetches a bundle of all Condition resources fo...</td>\n",
       "    </tr>\n",
       "    <tr>\n",
       "      <th>33</th>\n",
       "      <td>34</td>\n",
       "      <td>Condition</td>\n",
       "      <td>patient,code</td>\n",
       "      <td>SHOULD</td>\n",
       "      <td>reference,token</td>\n",
       "      <td>support searching for a particular condition f...</td>\n",
       "      <td>GET [base]/Condition?patient=[id]&amp;code=[system...</td>\n",
       "      <td>Fetches a bundle of all Condition resources fo...</td>\n",
       "    </tr>\n",
       "    <tr>\n",
       "      <th>34</th>\n",
       "      <td>34</td>\n",
       "      <td>Condition</td>\n",
       "      <td>patient,onset-date</td>\n",
       "      <td>SHOULD</td>\n",
       "      <td>reference,date</td>\n",
       "      <td>support searching for all conditions for a pat...</td>\n",
       "      <td>GET [base]Condition?patient=555580&amp;date=ge2018...</td>\n",
       "      <td>Fetches a bundle of all Condition resources fo...</td>\n",
       "    </tr>\n",
       "    <tr>\n",
       "      <th>35</th>\n",
       "      <td>35</td>\n",
       "      <td>AllergyIntolerance</td>\n",
       "      <td>patient,clinical-status</td>\n",
       "      <td>SHOULD</td>\n",
       "      <td>reference,token</td>\n",
       "      <td>support searching for all *active*  or *inacti...</td>\n",
       "      <td>GET [base]/AllergyIntolerance?patient=[id]&amp;cli...</td>\n",
       "      <td>Fetches a bundle of all Condition resources fo...</td>\n",
       "    </tr>\n",
       "    <tr>\n",
       "      <th>36</th>\n",
       "      <td>36</td>\n",
       "      <td>Immunization</td>\n",
       "      <td>patient,date</td>\n",
       "      <td>SHOULD</td>\n",
       "      <td>date,reference</td>\n",
       "      <td>support searching for all immunizations for a ...</td>\n",
       "      <td>GET [base]/Immunization?patient=1137192&amp;date=g...</td>\n",
       "      <td>Fetches a bundle of all Immunization resources...</td>\n",
       "    </tr>\n",
       "    <tr>\n",
       "      <th>37</th>\n",
       "      <td>37</td>\n",
       "      <td>Immunization</td>\n",
       "      <td>patient,status</td>\n",
       "      <td>SHOULD</td>\n",
       "      <td>reference,token</td>\n",
       "      <td>support searching for all completed immunizati...</td>\n",
       "      <td>GET [base]/Immunization?patient=1137192&amp;status...</td>\n",
       "      <td>Fetches a bundle of all Immunization resources...</td>\n",
       "    </tr>\n",
       "  </tbody>\n",
       "</table>\n",
       "</div>"
      ],
      "text/plain": [
       "    index                base                                combo combo_conf  \\\n",
       "0       1           Encounter                           class,date     SHOULD   \n",
       "1       2          !Encounter                   class,date,patient     SHOULD   \n",
       "2       3          !Encounter              class,date,patient,type     SHOULD   \n",
       "3       4          !Encounter                      class,date,type     SHOULD   \n",
       "4       5           Encounter                        class,patient     SHOULD   \n",
       "5       6          !Encounter                 class,patient,status     SHOULD   \n",
       "6       7          !Encounter            class,patient,status,type     SHOULD   \n",
       "7       8          !Encounter                   class,patient,type     SHOULD   \n",
       "8       9          !Encounter                         class,status     SHOULD   \n",
       "9      10          !Encounter                    class,status,type     SHOULD   \n",
       "10     11          !Encounter                           class,type     SHOULD   \n",
       "11     12           Encounter                         date,patient      SHALL   \n",
       "12     13          !Encounter                    date,patient,type     SHOULD   \n",
       "13     14          !Encounter                            date,type     SHOULD   \n",
       "14     15           Encounter                       patient,status     SHOULD   \n",
       "15     16          !Encounter                  patient,status,type     SHOULD   \n",
       "16     17           Encounter                         patient,type     SHOULD   \n",
       "17     18          !Encounter                          status,type     SHOULD   \n",
       "18     19      !Questionnaire         context-type-value,publisher     SHOULD   \n",
       "19     20      !Questionnaire  context-type-value,publisher,status     SHOULD   \n",
       "20     21      !Questionnaire            context-type-value,status     SHOULD   \n",
       "21     22      !Questionnaire                     publisher,status      SHALL   \n",
       "22     23      !Questionnaire             publisher,status,version     SHOULD   \n",
       "23     24      !Questionnaire                    publisher,version     SHOULD   \n",
       "24     25      !Questionnaire                 status,title,version     SHOULD   \n",
       "25     26      !Questionnaire                       status,version     SHOULD   \n",
       "26     27      !Questionnaire                        title,version     SHOULD   \n",
       "27     28             Patient                     birthdate,family     SHOULD   \n",
       "28     29             Patient                       birthdate,name      SHALL   \n",
       "29     30             Patient                        family,gender     SHOULD   \n",
       "30     31             Patient                          gender,name      SHALL   \n",
       "31     32           Condition              patient,clinical-status     SHOULD   \n",
       "32     33           Condition                     patient,category     SHOULD   \n",
       "33     34           Condition                         patient,code     SHOULD   \n",
       "34     34           Condition                   patient,onset-date     SHOULD   \n",
       "35     35  AllergyIntolerance              patient,clinical-status     SHOULD   \n",
       "36     36        Immunization                         patient,date     SHOULD   \n",
       "37     37        Immunization                       patient,status     SHOULD   \n",
       "\n",
       "                     types                                        description  \\\n",
       "0               date,token                                                      \n",
       "1     date,reference,token                                                      \n",
       "2     date,reference,token                                                      \n",
       "3               date,token                                                      \n",
       "4          reference,token                                                      \n",
       "5          reference,token                                                      \n",
       "6          reference,token                                                      \n",
       "7          reference,token                                                      \n",
       "8                    token                                                      \n",
       "9                    token                                                      \n",
       "10                   token                                                      \n",
       "11          date,reference                                                      \n",
       "12    date,reference,token                                                      \n",
       "13              date,token                                                      \n",
       "14         reference,token                                                      \n",
       "15         reference,token                                                      \n",
       "16         reference,token                                                      \n",
       "17                   token                                                      \n",
       "18        composite,string                                                      \n",
       "19  composite,string,token                                                      \n",
       "20         composite,token                                                      \n",
       "21            string,token                                                      \n",
       "22            string,token                                                      \n",
       "23            string,token                                                      \n",
       "24            string,token                                                      \n",
       "25                   token                                                      \n",
       "26            string,token                                                      \n",
       "27             date,string  support searching for a patient by birthdate a...   \n",
       "28             date,string  support searching for a patient by birthdate a...   \n",
       "29            string,token  support searching for a patient by family name...   \n",
       "30            string,token  support searching for a patient by a string ma...   \n",
       "31         reference,token  support searching for all *active* conditions ...   \n",
       "32         reference,token  support searching for all problems or health c...   \n",
       "33         reference,token  support searching for a particular condition f...   \n",
       "34          reference,date  support searching for all conditions for a pat...   \n",
       "35         reference,token  support searching for all *active*  or *inacti...   \n",
       "36          date,reference  support searching for all immunizations for a ...   \n",
       "37         reference,token  support searching for all completed immunizati...   \n",
       "\n",
       "                                              example  \\\n",
       "0                                                       \n",
       "1                                                       \n",
       "2                                                       \n",
       "3                                                       \n",
       "4                                                       \n",
       "5                                                       \n",
       "6                                                       \n",
       "7                                                       \n",
       "8                                                       \n",
       "9                                                       \n",
       "10                                                      \n",
       "11                                                      \n",
       "12                                                      \n",
       "13                                                      \n",
       "14                                                      \n",
       "15                                                      \n",
       "16                                                      \n",
       "17                                                      \n",
       "18                                                      \n",
       "19                                                      \n",
       "20                                                      \n",
       "21                                                      \n",
       "22                                                      \n",
       "23                                                      \n",
       "24                                                      \n",
       "25                                                      \n",
       "26                                                      \n",
       "27  GET [base]/Patient?family=Shaw&birthdate=2007-...   \n",
       "28  GET [base]/Patient?name=Shaw&birthdate=2007-03-20   \n",
       "29       GET [base]/Patient?family=Shaw&gender=female   \n",
       "30         GET [base]/Patient?name=Shaw&gender=female   \n",
       "31  GET [base/Condition?patient=[id]&clinical-stat...   \n",
       "32  GET [base]/Condition?patient=1032702&category=...   \n",
       "33  GET [base]/Condition?patient=[id]&code=[system...   \n",
       "34  GET [base]Condition?patient=555580&date=ge2018...   \n",
       "35  GET [base]/AllergyIntolerance?patient=[id]&cli...   \n",
       "36  GET [base]/Immunization?patient=1137192&date=g...   \n",
       "37  GET [base]/Immunization?patient=1137192&status...   \n",
       "\n",
       "                                             imp_note  \n",
       "0                                                      \n",
       "1                                                      \n",
       "2                                                      \n",
       "3                                                      \n",
       "4                                                      \n",
       "5                                                      \n",
       "6                                                      \n",
       "7                                                      \n",
       "8                                                      \n",
       "9                                                      \n",
       "10                                                     \n",
       "11                                                     \n",
       "12                                                     \n",
       "13                                                     \n",
       "14                                                     \n",
       "15                                                     \n",
       "16                                                     \n",
       "17                                                     \n",
       "18                                                     \n",
       "19                                                     \n",
       "20                                                     \n",
       "21                                                     \n",
       "22                                                     \n",
       "23                                                     \n",
       "24                                                     \n",
       "25                                                     \n",
       "26                                                     \n",
       "27  Fetches a bundle of all Patient resources matc...  \n",
       "28  Fetches a bundle of all Patient resources matc...  \n",
       "29  Fetches a bundle of all Patient resources matc...  \n",
       "30  Fetches a bundle of all Patient resources matc...  \n",
       "31  Fetches a bundle of all Condition resources fo...  \n",
       "32  Fetches a bundle of all Condition resources fo...  \n",
       "33  Fetches a bundle of all Condition resources fo...  \n",
       "34  Fetches a bundle of all Condition resources fo...  \n",
       "35  Fetches a bundle of all Condition resources fo...  \n",
       "36  Fetches a bundle of all Immunization resources...  \n",
       "37  Fetches a bundle of all Immunization resources...  "
      ]
     },
     "execution_count": 5,
     "metadata": {},
     "output_type": "execute_result"
    }
   ],
   "source": [
    "#in_path = '/Users/ehaas/Documents/FHIR/pyfhir/test/'\n",
    "in_path =''\n",
    "\n",
    "in_file =\"uscore-server\"\n",
    "\n",
    "xls = ExcelFile(f'{in_path}{in_file}.xlsx')\n",
    "df = read_excel(xls,'sps',na_filter = False)\n",
    "df_combos = read_excel(xls,'sp_combos',na_filter = False)\n",
    "\n",
    "df_combos"
   ]
  },
  {
   "cell_type": "code",
   "execution_count": 6,
   "metadata": {},
   "outputs": [
    {
     "name": "stdout",
     "output_type": "stream",
     "text": [
      "Resource = !Patient, Search Parameter = address, Exists = Y\n",
      "Resource = !Patient, Search Parameter = telecom, Exists = Y\n",
      "Resource = AllergyIntolerance, Search Parameter = clinical-status, Exists = Y\n",
      "Resource = AllergyIntolerance, Search Parameter = patient, Exists = Y\n",
      "Resource = Condition, Search Parameter = category, Exists = Y\n",
      "Resource = Condition, Search Parameter = clinical-status, Exists = Y\n",
      "Resource = Condition, Search Parameter = patient, Exists = Y\n",
      "Resource = Encounter, Search Parameter = _id, Exists = Y\n",
      "Resource = Encounter, Search Parameter = class, Exists = Y\n",
      "Resource = Encounter, Search Parameter = date, Exists = Y\n",
      "Resource = Encounter, Search Parameter = identifier, Exists = Y\n",
      "Resource = Encounter, Search Parameter = patient, Exists = Y\n",
      "Resource = Encounter, Search Parameter = status, Exists = Y\n",
      "Resource = Encounter, Search Parameter = type, Exists = Y\n",
      "Resource = Patient, Search Parameter = _id, Exists = Y\n",
      "Resource = Patient, Search Parameter = birthdate, Exists = Y\n",
      "Resource = Patient, Search Parameter = family, Exists = Y\n",
      "Resource = Patient, Search Parameter = gender, Exists = Y\n",
      "Resource = Patient, Search Parameter = given, Exists = Y\n",
      "Resource = Patient, Search Parameter = identifier, Exists = Y\n",
      "Resource = Patient, Search Parameter = name, Exists = Y\n",
      "Resource = Questionnaire, Search Parameter = _id, Exists = Y\n",
      "Resource = Questionnaire, Search Parameter = context-type-value, Exists = N\n",
      "Resource = Questionnaire, Search Parameter = publisher, Exists = Y\n",
      "Resource = Questionnaire, Search Parameter = status, Exists = Y\n",
      "Resource = Questionnaire, Search Parameter = title, Exists = Y\n",
      "Resource = Questionnaire, Search Parameter = url, Exists = Y\n",
      "Resource = Questionnaire, Search Parameter = version, Exists = Y\n",
      "Resource = Condition, Search Parameter = onset-date, Exists = Y\n",
      "Resource = Condition, Search Parameter = code, Exists = Y\n",
      "Resource = Immunization, Search Parameter = patient, Exists = Y\n",
      "Resource = Immunization, Search Parameter = status, Exists = Y\n",
      "Resource = Immunization, Search Parameter = date, Exists = Y\n",
      "Resource = !EXAMPLE PATIENT SEARCH, Search Parameter = patient, Exists = Y\n",
      "Resource = Encounter, Combo Search Parameter = class,date\n",
      "Resource = !Encounter, Combo Search Parameter = class,date,patient\n",
      "Resource = !Encounter, Combo Search Parameter = class,date,patient,type\n",
      "Resource = !Encounter, Combo Search Parameter = class,date,type\n",
      "Resource = Encounter, Combo Search Parameter = class,patient\n",
      "Resource = !Encounter, Combo Search Parameter = class,patient,status\n",
      "Resource = !Encounter, Combo Search Parameter = class,patient,status,type\n",
      "Resource = !Encounter, Combo Search Parameter = class,patient,type\n",
      "Resource = !Encounter, Combo Search Parameter = class,status\n",
      "Resource = !Encounter, Combo Search Parameter = class,status,type\n",
      "Resource = !Encounter, Combo Search Parameter = class,type\n",
      "Resource = Encounter, Combo Search Parameter = date,patient\n",
      "Resource = !Encounter, Combo Search Parameter = date,patient,type\n",
      "Resource = !Encounter, Combo Search Parameter = date,type\n",
      "Resource = Encounter, Combo Search Parameter = patient,status\n",
      "Resource = !Encounter, Combo Search Parameter = patient,status,type\n",
      "Resource = Encounter, Combo Search Parameter = patient,type\n",
      "Resource = !Encounter, Combo Search Parameter = status,type\n",
      "Resource = !Questionnaire, Combo Search Parameter = context-type-value,publisher\n",
      "Resource = !Questionnaire, Combo Search Parameter = context-type-value,publisher,status\n",
      "Resource = !Questionnaire, Combo Search Parameter = context-type-value,status\n",
      "Resource = !Questionnaire, Combo Search Parameter = publisher,status\n",
      "Resource = !Questionnaire, Combo Search Parameter = publisher,status,version\n",
      "Resource = !Questionnaire, Combo Search Parameter = publisher,version\n",
      "Resource = !Questionnaire, Combo Search Parameter = status,title,version\n",
      "Resource = !Questionnaire, Combo Search Parameter = status,version\n",
      "Resource = !Questionnaire, Combo Search Parameter = title,version\n",
      "Resource = Patient, Combo Search Parameter = birthdate,family\n",
      "Resource = Patient, Combo Search Parameter = birthdate,name\n",
      "Resource = Patient, Combo Search Parameter = family,gender\n",
      "Resource = Patient, Combo Search Parameter = gender,name\n",
      "Resource = Condition, Combo Search Parameter = patient,clinical-status\n",
      "Resource = Condition, Combo Search Parameter = patient,category\n",
      "Resource = Condition, Combo Search Parameter = patient,code\n",
      "Resource = Condition, Combo Search Parameter = patient,onset-date\n",
      "Resource = AllergyIntolerance, Combo Search Parameter = patient,clinical-status\n",
      "Resource = Immunization, Combo Search Parameter = patient,date\n",
      "Resource = Immunization, Combo Search Parameter = patient,status\n"
     ]
    }
   ],
   "source": [
    "data = [i for i in df.itertuples(index=True)]\n",
    "r_type =  {d.base for d in data if '!' not in d.base}\n",
    "combo_data = [i for i in df_combos.itertuples(index=True)]\n",
    "\n",
    "for d in data:\n",
    "    print(f'Resource = {d.base}, Search Parameter = {d.code}, Exists = {d.exists}')\n",
    "for c in combo_data:\n",
    "    print(f'Resource = {c.base}, Combo Search Parameter = {c.combo}')"
   ]
  },
  {
   "cell_type": "markdown",
   "metadata": {},
   "source": [
    "### update core SP with additional capabiliities"
   ]
  },
  {
   "cell_type": "markdown",
   "metadata": {},
   "source": [
    "\n",
    "- Get definitions bundle and convert to python object for ease of notation\n",
    "- use sp_map to map to Type + parameter\n",
    "- If need to update SP Extract the SP based on the excel file"
   ]
  },
  {
   "cell_type": "markdown",
   "metadata": {},
   "source": [
    "### load SP Mapping dictionary\n",
    "\n",
    "output shows a single SP entry for a sanity check"
   ]
  },
  {
   "cell_type": "code",
   "execution_count": 7,
   "metadata": {},
   "outputs": [
    {
     "name": "stdout",
     "output_type": "stream",
     "text": [
      "{\n",
      "    \"id\": \"Resource-id\",\n",
      "    \"extension\": [\n",
      "        {\n",
      "            \"url\": \"http://hl7.org/fhir/StructureDefinition/structuredefinition-standards-status\",\n",
      "            \"valueCode\": \"trial-use\"\n",
      "        }\n",
      "    ],\n",
      "    \"base\": [\n",
      "        \"Resource\"\n",
      "    ],\n",
      "    \"code\": \"_id\",\n",
      "    \"contact\": [\n",
      "        {\n",
      "            \"telecom\": [\n",
      "                {\n",
      "                    \"system\": \"url\",\n",
      "                    \"value\": \"http://hl7.org/fhir\"\n",
      "                }\n",
      "            ]\n",
      "        },\n",
      "        {\n",
      "            \"telecom\": [\n",
      "                {\n",
      "                    \"system\": \"url\",\n",
      "                    \"value\": \"http://www.hl7.org/Special/committees/fiwg/index.cfm\"\n",
      "                }\n",
      "            ]\n",
      "        }\n",
      "    ],\n",
      "    \"date\": \"2018-12-27T22:37:54+11:00\",\n",
      "    \"description\": \"Logical id of this artifact\",\n",
      "    \"experimental\": false,\n",
      "    \"expression\": \"Resource.id\",\n",
      "    \"modifier\": [\n",
      "        \"missing\",\n",
      "        \"text\",\n",
      "        \"not\",\n",
      "        \"in\",\n",
      "        \"not-in\",\n",
      "        \"below\",\n",
      "        \"above\",\n",
      "        \"ofType\"\n",
      "    ],\n",
      "    \"multipleAnd\": true,\n",
      "    \"multipleOr\": true,\n",
      "    \"name\": \"_id\",\n",
      "    \"publisher\": \"Health Level Seven International (FHIR Infrastructure)\",\n",
      "    \"status\": \"draft\",\n",
      "    \"type\": \"token\",\n",
      "    \"url\": \"http://hl7.org/fhir/SearchParameter/Resource-id\",\n",
      "    \"version\": \"4.0.0\",\n",
      "    \"xpath\": \"f:Resource/f:id\",\n",
      "    \"xpathUsage\": \"normal\",\n",
      "    \"resourceType\": \"SearchParameter\"\n",
      "}\n"
     ]
    }
   ],
   "source": [
    "#p = Path('C:/Users/Eric/Documents/HL7/FHIR/BUILD_EDIT_FILES/R4_Definitions/search-parameters.json')\n",
    "p = Path('/Users/ehaas/Downloads/definitionsR4.json/search-parameters.json')\n",
    "b = B.Bundle(loads(p.read_text()), strict = False)\n",
    "sp = (i.resource for i in b.entry if i.resource.url == 'http://hl7.org/fhir/SearchParameter/Resource-id')\n",
    "sp_for_id = next(sp)\n",
    "print(dumps(sp_for_id.as_json(), indent = 4))"
   ]
  },
  {
   "cell_type": "markdown",
   "metadata": {},
   "source": [
    "## create updated SPs\n",
    "sp optional 'modifier' elements are listed as comma separated list of shalls and shoulds for each:\n",
    "- multipleOr\n",
    "- multipleOr_conf\n",
    "- multipleAnd\n",
    "- multipleAnd_conf\n",
    "- shall_modifier\n",
    "- should_modifier\n",
    "- shall_comparator\n",
    "- should_comparator\n",
    "- shall_chain\n",
    "\n",
    "if not spedified then conformance is MAY \n",
    "\n",
    "*note that it starts out using the FHIRClient models but the switches to a dict structure to add the FHIR primitive type extensions.*"
   ]
  },
  {
   "cell_type": "code",
   "execution_count": 8,
   "metadata": {},
   "outputs": [
    {
     "name": "stdout",
     "output_type": "stream",
     "text": [
      "=========!Patient,address==============\n",
      "=========!Patient,telecom==============\n",
      "=========AllergyIntolerance,clinical-status==============\n",
      "AllergyIntolerance.clinicalStatus\n",
      "======================= SP = us-core-allergyintolerance-clinical-status =====================\n"
     ]
    },
    {
     "data": {
      "text/html": [
       "<div xmlns=\"http://www.w3.org/1999/xhtml\"><p><b> Generated Narrative with Details</b></p><p><b> id</b> us-core-allergyintolerance-clinical-status</p><p><b> url</b> : <b> http://hl7.org/fhir/us/core/SearchParameter/us-core-allergyintolerance-clinical-status</b></p><p><b> version</b> : 4.0.0</p><p><b> name</b> : USCoreAllergyintoleranceClinicalStatus</p><p><b> derivedFrom</b> : <a> http://hl7.org/fhir/SearchParameter/AllergyIntolerance-clinical-status</a></p><p><b> status</b> : active</p><p><b> experimental</b>  False</p><p><b> date</b> : 2019-04-29</p><p><b> publisher</b> : HL7 International - Structured Documents Work Group</p><p><b> contact</b> : http://www.hl7.org/Special/committees/structure/index.cfm</p><p><b> description</b> : active | inactive | resolved</p><p><b> useContext</b> : </p><p><b> jurisdiction</b> : United States of America (the) <span> (Details : {urn:iso:std:iso:3166 code 'US' = 'United States of America', given as 'United\n",
       "           States of America (the)'})</span></p><!--\n",
       "\t<p>\n",
       "\t\t<b> purpose</b> : Need to search by identifier for various infrastructural cases - mainly retrieving packages,\n",
       "         and matching as part of a chain</p>\n",
       "  --><p><b> code</b> : <code>clinical-status</code></p><p><b> base</b> :AllergyIntolerance</p><p><b> type</b> : token</p><p><b> expression</b> : <code>AllergyIntolerance.clinicalStatus</code></p><p><b> xpath</b> : <code>f:AllergyIntolerance/f:clinicalStatus</code></p><p><b> xpathUsage</b> : normal</p><p><b> mulitpleOr</b> : True   (Conformance Expectation = MAY)</p><p><b> mulitpleAnd</b> : True  ( Conformance Expectation = MAY)</p>\n",
       "    \n",
       "    \n",
       "    \n",
       "    <p><b> modifier</b> : <code>missing</code>  (Conformance Expectation =  MAY)</p>\n",
       "    \n",
       "    <p><b> modifier</b> : <code>text</code>  (Conformance Expectation =  MAY)</p>\n",
       "    \n",
       "    <p><b> modifier</b> : <code>not</code>  (Conformance Expectation =  MAY)</p>\n",
       "    \n",
       "    <p><b> modifier</b> : <code>in</code>  (Conformance Expectation =  MAY)</p>\n",
       "    \n",
       "    <p><b> modifier</b> : <code>not-in</code>  (Conformance Expectation =  MAY)</p>\n",
       "    \n",
       "    <p><b> modifier</b> : <code>below</code>  (Conformance Expectation =  MAY)</p>\n",
       "    \n",
       "    <p><b> modifier</b> : <code>above</code>  (Conformance Expectation =  MAY)</p>\n",
       "    \n",
       "    <p><b> modifier</b> : <code>ofType</code>  (Conformance Expectation =  MAY)</p>\n",
       "    \n",
       "    \n",
       "    \n",
       "\t\t</div>"
      ],
      "text/plain": [
       "<IPython.core.display.HTML object>"
      ]
     },
     "metadata": {},
     "output_type": "display_data"
    },
    {
     "name": "stdout",
     "output_type": "stream",
     "text": [
      "=========AllergyIntolerance,patient==============\n",
      "======================= SP = us-core-allergyintolerance-patient =====================\n"
     ]
    },
    {
     "data": {
      "text/html": [
       "<div xmlns=\"http://www.w3.org/1999/xhtml\"><p><b> Generated Narrative with Details</b></p><p><b> id</b> us-core-allergyintolerance-patient</p><p><b> url</b> : <b> http://hl7.org/fhir/us/core/SearchParameter/us-core-allergyintolerance-patient</b></p><p><b> version</b> : 4.0.0</p><p><b> name</b> : USCoreAllergyintolerancePatient</p><p><b> derivedFrom</b> : <a> http://hl7.org/fhir/SearchParameter/clinical-patient</a></p><p><b> status</b> : active</p><p><b> experimental</b>  False</p><p><b> date</b> : 2019-04-29</p><p><b> publisher</b> : HL7 International - Structured Documents Work Group</p><p><b> contact</b> : http://www.hl7.org/Special/committees/structure/index.cfm</p><p><b> description</b> : Who the sensitivity is for</p><p><b> useContext</b> : </p><p><b> jurisdiction</b> : United States of America (the) <span> (Details : {urn:iso:std:iso:3166 code 'US' = 'United States of America', given as 'United\n",
       "           States of America (the)'})</span></p><!--\n",
       "\t<p>\n",
       "\t\t<b> purpose</b> : Need to search by identifier for various infrastructural cases - mainly retrieving packages,\n",
       "         and matching as part of a chain</p>\n",
       "  --><p><b> code</b> : <code>patient</code></p><p><b> base</b> :AllergyIntolerance</p><p><b> type</b> : reference</p><p><b> expression</b> : <code>AllergyIntolerance.patient</code></p><p><b> xpath</b> : <code>f:AllergyIntolerance/f:patient</code></p><p><b> xpathUsage</b> : normal</p><p><b> mulitpleOr</b> : True   (Conformance Expectation = MAY)</p><p><b> mulitpleAnd</b> : True  ( Conformance Expectation = MAY)</p>\n",
       "    \n",
       "    \n",
       "    \n",
       "    <p><b> modifier</b> : <code>missing</code>  (Conformance Expectation =  MAY)</p>\n",
       "    \n",
       "    <p><b> modifier</b> : <code>type</code>  (Conformance Expectation =  MAY)</p>\n",
       "    \n",
       "    <p><b> modifier</b> : <code>identifier</code>  (Conformance Expectation =  MAY)</p>\n",
       "    \n",
       "    \n",
       "    \n",
       "\t\t</div>"
      ],
      "text/plain": [
       "<IPython.core.display.HTML object>"
      ]
     },
     "metadata": {},
     "output_type": "display_data"
    },
    {
     "name": "stdout",
     "output_type": "stream",
     "text": [
      "=========Condition,category==============\n",
      "Condition.category\n",
      "======================= SP = us-core-condition-category =====================\n"
     ]
    },
    {
     "data": {
      "text/html": [
       "<div xmlns=\"http://www.w3.org/1999/xhtml\"><p><b> Generated Narrative with Details</b></p><p><b> id</b> us-core-condition-category</p><p><b> url</b> : <b> http://hl7.org/fhir/us/core/SearchParameter/us-core-condition-category</b></p><p><b> version</b> : 4.0.0</p><p><b> name</b> : USCoreConditionCategory</p><p><b> derivedFrom</b> : <a> http://hl7.org/fhir/SearchParameter/Condition-category</a></p><p><b> status</b> : active</p><p><b> experimental</b>  False</p><p><b> date</b> : 2019-04-29</p><p><b> publisher</b> : HL7 International - Structured Documents Work Group</p><p><b> contact</b> : http://www.hl7.org/Special/committees/structure/index.cfm</p><p><b> description</b> : The category of the condition</p><p><b> useContext</b> : </p><p><b> jurisdiction</b> : United States of America (the) <span> (Details : {urn:iso:std:iso:3166 code 'US' = 'United States of America', given as 'United\n",
       "           States of America (the)'})</span></p><!--\n",
       "\t<p>\n",
       "\t\t<b> purpose</b> : Need to search by identifier for various infrastructural cases - mainly retrieving packages,\n",
       "         and matching as part of a chain</p>\n",
       "  --><p><b> code</b> : <code>category</code></p><p><b> base</b> :Condition</p><p><b> type</b> : token</p><p><b> expression</b> : <code>Condition.category</code></p><p><b> xpath</b> : <code>f:Condition/f:category</code></p><p><b> xpathUsage</b> : normal</p><p><b> mulitpleOr</b> : True   (Conformance Expectation = MAY)</p><p><b> mulitpleAnd</b> : True  ( Conformance Expectation = MAY)</p>\n",
       "    \n",
       "    \n",
       "    \n",
       "    <p><b> modifier</b> : <code>missing</code>  (Conformance Expectation =  MAY)</p>\n",
       "    \n",
       "    <p><b> modifier</b> : <code>text</code>  (Conformance Expectation =  MAY)</p>\n",
       "    \n",
       "    <p><b> modifier</b> : <code>not</code>  (Conformance Expectation =  MAY)</p>\n",
       "    \n",
       "    <p><b> modifier</b> : <code>in</code>  (Conformance Expectation =  MAY)</p>\n",
       "    \n",
       "    <p><b> modifier</b> : <code>not-in</code>  (Conformance Expectation =  MAY)</p>\n",
       "    \n",
       "    <p><b> modifier</b> : <code>below</code>  (Conformance Expectation =  MAY)</p>\n",
       "    \n",
       "    <p><b> modifier</b> : <code>above</code>  (Conformance Expectation =  MAY)</p>\n",
       "    \n",
       "    <p><b> modifier</b> : <code>ofType</code>  (Conformance Expectation =  MAY)</p>\n",
       "    \n",
       "    \n",
       "    \n",
       "\t\t</div>"
      ],
      "text/plain": [
       "<IPython.core.display.HTML object>"
      ]
     },
     "metadata": {},
     "output_type": "display_data"
    },
    {
     "name": "stdout",
     "output_type": "stream",
     "text": [
      "=========Condition,clinical-status==============\n",
      "Condition.clinicalStatus\n",
      "======================= SP = us-core-condition-clinical-status =====================\n"
     ]
    },
    {
     "data": {
      "text/html": [
       "<div xmlns=\"http://www.w3.org/1999/xhtml\"><p><b> Generated Narrative with Details</b></p><p><b> id</b> us-core-condition-clinical-status</p><p><b> url</b> : <b> http://hl7.org/fhir/us/core/SearchParameter/us-core-condition-clinical-status</b></p><p><b> version</b> : 4.0.0</p><p><b> name</b> : USCoreConditionClinicalStatus</p><p><b> derivedFrom</b> : <a> http://hl7.org/fhir/SearchParameter/Condition-clinical-status</a></p><p><b> status</b> : active</p><p><b> experimental</b>  False</p><p><b> date</b> : 2019-04-29</p><p><b> publisher</b> : HL7 International - Structured Documents Work Group</p><p><b> contact</b> : http://www.hl7.org/Special/committees/structure/index.cfm</p><p><b> description</b> : The clinical status of the condition</p><p><b> useContext</b> : </p><p><b> jurisdiction</b> : United States of America (the) <span> (Details : {urn:iso:std:iso:3166 code 'US' = 'United States of America', given as 'United\n",
       "           States of America (the)'})</span></p><!--\n",
       "\t<p>\n",
       "\t\t<b> purpose</b> : Need to search by identifier for various infrastructural cases - mainly retrieving packages,\n",
       "         and matching as part of a chain</p>\n",
       "  --><p><b> code</b> : <code>clinical-status</code></p><p><b> base</b> :Condition</p><p><b> type</b> : token</p><p><b> expression</b> : <code>Condition.clinicalStatus</code></p><p><b> xpath</b> : <code>f:Condition/f:clinicalStatus</code></p><p><b> xpathUsage</b> : normal</p><p><b> mulitpleOr</b> : True   (Conformance Expectation = MAY)</p><p><b> mulitpleAnd</b> : True  ( Conformance Expectation = MAY)</p>\n",
       "    \n",
       "    \n",
       "    \n",
       "    <p><b> modifier</b> : <code>missing</code>  (Conformance Expectation =  MAY)</p>\n",
       "    \n",
       "    <p><b> modifier</b> : <code>text</code>  (Conformance Expectation =  MAY)</p>\n",
       "    \n",
       "    <p><b> modifier</b> : <code>not</code>  (Conformance Expectation =  MAY)</p>\n",
       "    \n",
       "    <p><b> modifier</b> : <code>in</code>  (Conformance Expectation =  MAY)</p>\n",
       "    \n",
       "    <p><b> modifier</b> : <code>not-in</code>  (Conformance Expectation =  MAY)</p>\n",
       "    \n",
       "    <p><b> modifier</b> : <code>below</code>  (Conformance Expectation =  MAY)</p>\n",
       "    \n",
       "    <p><b> modifier</b> : <code>above</code>  (Conformance Expectation =  MAY)</p>\n",
       "    \n",
       "    <p><b> modifier</b> : <code>ofType</code>  (Conformance Expectation =  MAY)</p>\n",
       "    \n",
       "    \n",
       "    \n",
       "\t\t</div>"
      ],
      "text/plain": [
       "<IPython.core.display.HTML object>"
      ]
     },
     "metadata": {},
     "output_type": "display_data"
    },
    {
     "name": "stdout",
     "output_type": "stream",
     "text": [
      "=========Condition,patient==============\n",
      "======================= SP = us-core-condition-patient =====================\n"
     ]
    },
    {
     "data": {
      "text/html": [
       "<div xmlns=\"http://www.w3.org/1999/xhtml\"><p><b> Generated Narrative with Details</b></p><p><b> id</b> us-core-condition-patient</p><p><b> url</b> : <b> http://hl7.org/fhir/us/core/SearchParameter/us-core-condition-patient</b></p><p><b> version</b> : 4.0.0</p><p><b> name</b> : USCoreConditionPatient</p><p><b> derivedFrom</b> : <a> http://hl7.org/fhir/SearchParameter/clinical-patient</a></p><p><b> status</b> : active</p><p><b> experimental</b>  False</p><p><b> date</b> : 2019-04-29</p><p><b> publisher</b> : HL7 International - Structured Documents Work Group</p><p><b> contact</b> : http://www.hl7.org/Special/committees/structure/index.cfm</p><p><b> description</b> : Who has the condition?</p><p><b> useContext</b> : </p><p><b> jurisdiction</b> : United States of America (the) <span> (Details : {urn:iso:std:iso:3166 code 'US' = 'United States of America', given as 'United\n",
       "           States of America (the)'})</span></p><!--\n",
       "\t<p>\n",
       "\t\t<b> purpose</b> : Need to search by identifier for various infrastructural cases - mainly retrieving packages,\n",
       "         and matching as part of a chain</p>\n",
       "  --><p><b> code</b> : <code>patient</code></p><p><b> base</b> :Condition</p><p><b> type</b> : reference</p><p><b> expression</b> : <code>Condition.subject.where(resolve() is Patient)</code></p><p><b> xpath</b> : <code>f:Condition/f:subject</code></p><p><b> xpathUsage</b> : normal</p><p><b> mulitpleOr</b> : True   (Conformance Expectation = MAY)</p><p><b> mulitpleAnd</b> : True  ( Conformance Expectation = MAY)</p>\n",
       "    \n",
       "    \n",
       "    \n",
       "    <p><b> modifier</b> : <code>missing</code>  (Conformance Expectation =  MAY)</p>\n",
       "    \n",
       "    <p><b> modifier</b> : <code>type</code>  (Conformance Expectation =  MAY)</p>\n",
       "    \n",
       "    <p><b> modifier</b> : <code>identifier</code>  (Conformance Expectation =  MAY)</p>\n",
       "    \n",
       "    \n",
       "    \n",
       "\t\t</div>"
      ],
      "text/plain": [
       "<IPython.core.display.HTML object>"
      ]
     },
     "metadata": {},
     "output_type": "display_data"
    },
    {
     "name": "stdout",
     "output_type": "stream",
     "text": [
      "=========Encounter,_id==============\n",
      "Encounter.id\n",
      "======================= SP = us-core-encounter-id =====================\n"
     ]
    },
    {
     "data": {
      "text/html": [
       "<div xmlns=\"http://www.w3.org/1999/xhtml\"><p><b> Generated Narrative with Details</b></p><p><b> id</b> us-core-encounter-id</p><p><b> url</b> : <b> http://hl7.org/fhir/us/core/SearchParameter/us-core-encounter-id</b></p><p><b> version</b> : 4.0.0</p><p><b> name</b> : USCoreEncounterId</p><p><b> derivedFrom</b> : <a> http://hl7.org/fhir/SearchParameter/Resource-id</a></p><p><b> status</b> : active</p><p><b> experimental</b>  False</p><p><b> date</b> : 2019-04-29</p><p><b> publisher</b> : HL7 International - Structured Documents Work Group</p><p><b> contact</b> : http://www.hl7.org/Special/committees/structure/index.cfm</p><p><b> description</b> : Logical id of this artifact</p><p><b> useContext</b> : </p><p><b> jurisdiction</b> : United States of America (the) <span> (Details : {urn:iso:std:iso:3166 code 'US' = 'United States of America', given as 'United\n",
       "           States of America (the)'})</span></p><!--\n",
       "\t<p>\n",
       "\t\t<b> purpose</b> : Need to search by identifier for various infrastructural cases - mainly retrieving packages,\n",
       "         and matching as part of a chain</p>\n",
       "  --><p><b> code</b> : <code>_id</code></p><p><b> base</b> :Encounter</p><p><b> type</b> : token</p><p><b> expression</b> : <code>Encounter.id</code></p><p><b> xpath</b> : <code>Encounter.id</code></p><p><b> xpathUsage</b> : normal</p><p><b> mulitpleOr</b> : True   (Conformance Expectation = MAY)</p><p><b> mulitpleAnd</b> : True  ( Conformance Expectation = MAY)</p>\n",
       "    \n",
       "    \n",
       "    \n",
       "    <p><b> modifier</b> : <code>missing</code>  (Conformance Expectation =  MAY)</p>\n",
       "    \n",
       "    <p><b> modifier</b> : <code>text</code>  (Conformance Expectation =  MAY)</p>\n",
       "    \n",
       "    <p><b> modifier</b> : <code>not</code>  (Conformance Expectation =  MAY)</p>\n",
       "    \n",
       "    <p><b> modifier</b> : <code>in</code>  (Conformance Expectation =  MAY)</p>\n",
       "    \n",
       "    <p><b> modifier</b> : <code>not-in</code>  (Conformance Expectation =  MAY)</p>\n",
       "    \n",
       "    <p><b> modifier</b> : <code>below</code>  (Conformance Expectation =  MAY)</p>\n",
       "    \n",
       "    <p><b> modifier</b> : <code>above</code>  (Conformance Expectation =  MAY)</p>\n",
       "    \n",
       "    <p><b> modifier</b> : <code>ofType</code>  (Conformance Expectation =  MAY)</p>\n",
       "    \n",
       "    \n",
       "    \n",
       "\t\t</div>"
      ],
      "text/plain": [
       "<IPython.core.display.HTML object>"
      ]
     },
     "metadata": {},
     "output_type": "display_data"
    },
    {
     "name": "stdout",
     "output_type": "stream",
     "text": [
      "=========Encounter,class==============\n",
      "Encounter.class\n",
      "======================= SP = us-core-encounter-class =====================\n"
     ]
    },
    {
     "data": {
      "text/html": [
       "<div xmlns=\"http://www.w3.org/1999/xhtml\"><p><b> Generated Narrative with Details</b></p><p><b> id</b> us-core-encounter-class</p><p><b> url</b> : <b> http://hl7.org/fhir/us/core/SearchParameter/us-core-encounter-class</b></p><p><b> version</b> : 4.0.0</p><p><b> name</b> : USCoreEncounterClass</p><p><b> derivedFrom</b> : <a> http://hl7.org/fhir/SearchParameter/Encounter-class</a></p><p><b> status</b> : active</p><p><b> experimental</b>  False</p><p><b> date</b> : 2019-04-29</p><p><b> publisher</b> : HL7 International - Structured Documents Work Group</p><p><b> contact</b> : http://www.hl7.org/Special/committees/structure/index.cfm</p><p><b> description</b> : Classification of patient encounter</p><p><b> useContext</b> : </p><p><b> jurisdiction</b> : United States of America (the) <span> (Details : {urn:iso:std:iso:3166 code 'US' = 'United States of America', given as 'United\n",
       "           States of America (the)'})</span></p><!--\n",
       "\t<p>\n",
       "\t\t<b> purpose</b> : Need to search by identifier for various infrastructural cases - mainly retrieving packages,\n",
       "         and matching as part of a chain</p>\n",
       "  --><p><b> code</b> : <code>class</code></p><p><b> base</b> :Encounter</p><p><b> type</b> : token</p><p><b> expression</b> : <code>Encounter.class</code></p><p><b> xpath</b> : <code>f:Encounter/f:class</code></p><p><b> xpathUsage</b> : normal</p><p><b> mulitpleOr</b> : True   (Conformance Expectation = MAY)</p><p><b> mulitpleAnd</b> : True  ( Conformance Expectation = MAY)</p>\n",
       "    \n",
       "    \n",
       "    \n",
       "    <p><b> modifier</b> : <code>missing</code>  (Conformance Expectation =  MAY)</p>\n",
       "    \n",
       "    <p><b> modifier</b> : <code>text</code>  (Conformance Expectation =  MAY)</p>\n",
       "    \n",
       "    <p><b> modifier</b> : <code>not</code>  (Conformance Expectation =  MAY)</p>\n",
       "    \n",
       "    <p><b> modifier</b> : <code>in</code>  (Conformance Expectation =  MAY)</p>\n",
       "    \n",
       "    <p><b> modifier</b> : <code>not-in</code>  (Conformance Expectation =  MAY)</p>\n",
       "    \n",
       "    <p><b> modifier</b> : <code>below</code>  (Conformance Expectation =  MAY)</p>\n",
       "    \n",
       "    <p><b> modifier</b> : <code>above</code>  (Conformance Expectation =  MAY)</p>\n",
       "    \n",
       "    <p><b> modifier</b> : <code>ofType</code>  (Conformance Expectation =  MAY)</p>\n",
       "    \n",
       "    \n",
       "    \n",
       "\t\t</div>"
      ],
      "text/plain": [
       "<IPython.core.display.HTML object>"
      ]
     },
     "metadata": {},
     "output_type": "display_data"
    },
    {
     "name": "stdout",
     "output_type": "stream",
     "text": [
      "=========Encounter,date==============\n",
      "======================= SP = us-core-encounter-date =====================\n"
     ]
    },
    {
     "data": {
      "text/html": [
       "<div xmlns=\"http://www.w3.org/1999/xhtml\"><p><b> Generated Narrative with Details</b></p><p><b> id</b> us-core-encounter-date</p><p><b> url</b> : <b> http://hl7.org/fhir/us/core/SearchParameter/us-core-encounter-date</b></p><p><b> version</b> : 4.0.0</p><p><b> name</b> : USCoreEncounterDate</p><p><b> derivedFrom</b> : <a> http://hl7.org/fhir/SearchParameter/clinical-date</a></p><p><b> status</b> : active</p><p><b> experimental</b>  False</p><p><b> date</b> : 2019-04-29</p><p><b> publisher</b> : HL7 International - Structured Documents Work Group</p><p><b> contact</b> : http://www.hl7.org/Special/committees/structure/index.cfm</p><p><b> description</b> : A date within the period the Encounter lasted</p><p><b> useContext</b> : </p><p><b> jurisdiction</b> : United States of America (the) <span> (Details : {urn:iso:std:iso:3166 code 'US' = 'United States of America', given as 'United\n",
       "           States of America (the)'})</span></p><!--\n",
       "\t<p>\n",
       "\t\t<b> purpose</b> : Need to search by identifier for various infrastructural cases - mainly retrieving packages,\n",
       "         and matching as part of a chain</p>\n",
       "  --><p><b> code</b> : <code>date</code></p><p><b> base</b> :Encounter</p><p><b> type</b> : date</p><p><b> expression</b> : <code>Encounter.period</code></p><p><b> xpath</b> : <code>f:Encounter/f:period</code></p><p><b> xpathUsage</b> : normal</p><p><b> mulitpleOr</b> : True   (Conformance Expectation = MAY)</p><p><b> mulitpleAnd</b> : True  ( Conformance Expectation = MAY)</p>\n",
       "    \n",
       "    \n",
       "    <p><b> comparator</b> : <code>eq</code> ( Conformance Expectation = MAY)</p>\n",
       "    \n",
       "    <p><b> comparator</b> : <code>ne</code> ( Conformance Expectation = MAY)</p>\n",
       "    \n",
       "    <p><b> comparator</b> : <code>gt</code> ( Conformance Expectation = SHALL)</p>\n",
       "    \n",
       "    <p><b> comparator</b> : <code>lt</code> ( Conformance Expectation = SHALL)</p>\n",
       "    \n",
       "    <p><b> comparator</b> : <code>le</code> ( Conformance Expectation = SHALL)</p>\n",
       "    \n",
       "    <p><b> comparator</b> : <code>sa</code> ( Conformance Expectation = MAY)</p>\n",
       "    \n",
       "    <p><b> comparator</b> : <code>eb</code> ( Conformance Expectation = MAY)</p>\n",
       "    \n",
       "    <p><b> comparator</b> : <code>ap</code> ( Conformance Expectation = MAY)</p>\n",
       "    \n",
       "    \n",
       "    \n",
       "    \n",
       "    <p><b> modifier</b> : <code>missing</code>  (Conformance Expectation =  MAY)</p>\n",
       "    \n",
       "    \n",
       "    \n",
       "\t\t</div>"
      ],
      "text/plain": [
       "<IPython.core.display.HTML object>"
      ]
     },
     "metadata": {},
     "output_type": "display_data"
    },
    {
     "name": "stdout",
     "output_type": "stream",
     "text": [
      "=========Encounter,identifier==============\n",
      "======================= SP = us-core-encounter-identifier =====================\n"
     ]
    },
    {
     "data": {
      "text/html": [
       "<div xmlns=\"http://www.w3.org/1999/xhtml\"><p><b> Generated Narrative with Details</b></p><p><b> id</b> us-core-encounter-identifier</p><p><b> url</b> : <b> http://hl7.org/fhir/us/core/SearchParameter/us-core-encounter-identifier</b></p><p><b> version</b> : 4.0.0</p><p><b> name</b> : USCoreEncounterIdentifier</p><p><b> derivedFrom</b> : <a> http://hl7.org/fhir/SearchParameter/clinical-identifier</a></p><p><b> status</b> : active</p><p><b> experimental</b>  False</p><p><b> date</b> : 2019-04-29</p><p><b> publisher</b> : HL7 International - Structured Documents Work Group</p><p><b> contact</b> : http://www.hl7.org/Special/committees/structure/index.cfm</p><p><b> description</b> : Identifier(s) by which this encounter is known</p><p><b> useContext</b> : </p><p><b> jurisdiction</b> : United States of America (the) <span> (Details : {urn:iso:std:iso:3166 code 'US' = 'United States of America', given as 'United\n",
       "           States of America (the)'})</span></p><!--\n",
       "\t<p>\n",
       "\t\t<b> purpose</b> : Need to search by identifier for various infrastructural cases - mainly retrieving packages,\n",
       "         and matching as part of a chain</p>\n",
       "  --><p><b> code</b> : <code>identifier</code></p><p><b> base</b> :Encounter</p><p><b> type</b> : token</p><p><b> expression</b> : <code>Encounter.identifier</code></p><p><b> xpath</b> : <code>f:Encounter/f:identifier</code></p><p><b> xpathUsage</b> : normal</p><p><b> mulitpleOr</b> : True   (Conformance Expectation = MAY)</p><p><b> mulitpleAnd</b> : True  ( Conformance Expectation = MAY)</p>\n",
       "    \n",
       "    \n",
       "    \n",
       "    <p><b> modifier</b> : <code>missing</code>  (Conformance Expectation =  MAY)</p>\n",
       "    \n",
       "    <p><b> modifier</b> : <code>text</code>  (Conformance Expectation =  MAY)</p>\n",
       "    \n",
       "    <p><b> modifier</b> : <code>not</code>  (Conformance Expectation =  MAY)</p>\n",
       "    \n",
       "    <p><b> modifier</b> : <code>in</code>  (Conformance Expectation =  MAY)</p>\n",
       "    \n",
       "    <p><b> modifier</b> : <code>not-in</code>  (Conformance Expectation =  MAY)</p>\n",
       "    \n",
       "    <p><b> modifier</b> : <code>below</code>  (Conformance Expectation =  MAY)</p>\n",
       "    \n",
       "    <p><b> modifier</b> : <code>above</code>  (Conformance Expectation =  MAY)</p>\n",
       "    \n",
       "    <p><b> modifier</b> : <code>ofType</code>  (Conformance Expectation =  MAY)</p>\n",
       "    \n",
       "    \n",
       "    \n",
       "\t\t</div>"
      ],
      "text/plain": [
       "<IPython.core.display.HTML object>"
      ]
     },
     "metadata": {},
     "output_type": "display_data"
    },
    {
     "name": "stdout",
     "output_type": "stream",
     "text": [
      "=========Encounter,patient==============\n",
      "======================= SP = us-core-encounter-patient =====================\n"
     ]
    },
    {
     "data": {
      "text/html": [
       "<div xmlns=\"http://www.w3.org/1999/xhtml\"><p><b> Generated Narrative with Details</b></p><p><b> id</b> us-core-encounter-patient</p><p><b> url</b> : <b> http://hl7.org/fhir/us/core/SearchParameter/us-core-encounter-patient</b></p><p><b> version</b> : 4.0.0</p><p><b> name</b> : USCoreEncounterPatient</p><p><b> derivedFrom</b> : <a> http://hl7.org/fhir/SearchParameter/clinical-patient</a></p><p><b> status</b> : active</p><p><b> experimental</b>  False</p><p><b> date</b> : 2019-04-29</p><p><b> publisher</b> : HL7 International - Structured Documents Work Group</p><p><b> contact</b> : http://www.hl7.org/Special/committees/structure/index.cfm</p><p><b> description</b> : The patient or group present at the encounter</p><p><b> useContext</b> : </p><p><b> jurisdiction</b> : United States of America (the) <span> (Details : {urn:iso:std:iso:3166 code 'US' = 'United States of America', given as 'United\n",
       "           States of America (the)'})</span></p><!--\n",
       "\t<p>\n",
       "\t\t<b> purpose</b> : Need to search by identifier for various infrastructural cases - mainly retrieving packages,\n",
       "         and matching as part of a chain</p>\n",
       "  --><p><b> code</b> : <code>patient</code></p><p><b> base</b> :Encounter</p><p><b> type</b> : reference</p><p><b> expression</b> : <code>Encounter.subject.where(resolve() is Patient)</code></p><p><b> xpath</b> : <code>f:Encounter/f:subject</code></p><p><b> xpathUsage</b> : normal</p><p><b> mulitpleOr</b> : True   (Conformance Expectation = MAY)</p><p><b> mulitpleAnd</b> : True  ( Conformance Expectation = MAY)</p>\n",
       "    \n",
       "    \n",
       "    \n",
       "    <p><b> modifier</b> : <code>missing</code>  (Conformance Expectation =  MAY)</p>\n",
       "    \n",
       "    <p><b> modifier</b> : <code>type</code>  (Conformance Expectation =  MAY)</p>\n",
       "    \n",
       "    <p><b> modifier</b> : <code>identifier</code>  (Conformance Expectation =  MAY)</p>\n",
       "    \n",
       "    \n",
       "    \n",
       "\t\t</div>"
      ],
      "text/plain": [
       "<IPython.core.display.HTML object>"
      ]
     },
     "metadata": {},
     "output_type": "display_data"
    },
    {
     "name": "stdout",
     "output_type": "stream",
     "text": [
      "=========Encounter,status==============\n",
      "Encounter.status\n",
      "======================= SP = us-core-encounter-status =====================\n"
     ]
    },
    {
     "data": {
      "text/html": [
       "<div xmlns=\"http://www.w3.org/1999/xhtml\"><p><b> Generated Narrative with Details</b></p><p><b> id</b> us-core-encounter-status</p><p><b> url</b> : <b> http://hl7.org/fhir/us/core/SearchParameter/us-core-encounter-status</b></p><p><b> version</b> : 4.0.0</p><p><b> name</b> : USCoreEncounterStatus</p><p><b> derivedFrom</b> : <a> http://hl7.org/fhir/SearchParameter/Encounter-status</a></p><p><b> status</b> : active</p><p><b> experimental</b>  False</p><p><b> date</b> : 2019-04-29</p><p><b> publisher</b> : HL7 International - Structured Documents Work Group</p><p><b> contact</b> : http://www.hl7.org/Special/committees/structure/index.cfm</p><p><b> description</b> : planned | arrived | triaged | in-progress | onleave | finished | cancelled +</p><p><b> useContext</b> : </p><p><b> jurisdiction</b> : United States of America (the) <span> (Details : {urn:iso:std:iso:3166 code 'US' = 'United States of America', given as 'United\n",
       "           States of America (the)'})</span></p><!--\n",
       "\t<p>\n",
       "\t\t<b> purpose</b> : Need to search by identifier for various infrastructural cases - mainly retrieving packages,\n",
       "         and matching as part of a chain</p>\n",
       "  --><p><b> code</b> : <code>status</code></p><p><b> base</b> :Encounter</p><p><b> type</b> : token</p><p><b> expression</b> : <code>Encounter.status</code></p><p><b> xpath</b> : <code>f:Encounter/f:status</code></p><p><b> xpathUsage</b> : normal</p><p><b> mulitpleOr</b> : True   (Conformance Expectation = MAY)</p><p><b> mulitpleAnd</b> : True  ( Conformance Expectation = MAY)</p>\n",
       "    \n",
       "    \n",
       "    \n",
       "    <p><b> modifier</b> : <code>missing</code>  (Conformance Expectation =  MAY)</p>\n",
       "    \n",
       "    <p><b> modifier</b> : <code>text</code>  (Conformance Expectation =  MAY)</p>\n",
       "    \n",
       "    <p><b> modifier</b> : <code>not</code>  (Conformance Expectation =  MAY)</p>\n",
       "    \n",
       "    <p><b> modifier</b> : <code>in</code>  (Conformance Expectation =  MAY)</p>\n",
       "    \n",
       "    <p><b> modifier</b> : <code>not-in</code>  (Conformance Expectation =  MAY)</p>\n",
       "    \n",
       "    <p><b> modifier</b> : <code>below</code>  (Conformance Expectation =  MAY)</p>\n",
       "    \n",
       "    <p><b> modifier</b> : <code>above</code>  (Conformance Expectation =  MAY)</p>\n",
       "    \n",
       "    <p><b> modifier</b> : <code>ofType</code>  (Conformance Expectation =  MAY)</p>\n",
       "    \n",
       "    \n",
       "    \n",
       "\t\t</div>"
      ],
      "text/plain": [
       "<IPython.core.display.HTML object>"
      ]
     },
     "metadata": {},
     "output_type": "display_data"
    },
    {
     "name": "stdout",
     "output_type": "stream",
     "text": [
      "=========Encounter,type==============\n",
      "======================= SP = us-core-encounter-type =====================\n"
     ]
    },
    {
     "data": {
      "text/html": [
       "<div xmlns=\"http://www.w3.org/1999/xhtml\"><p><b> Generated Narrative with Details</b></p><p><b> id</b> us-core-encounter-type</p><p><b> url</b> : <b> http://hl7.org/fhir/us/core/SearchParameter/us-core-encounter-type</b></p><p><b> version</b> : 4.0.0</p><p><b> name</b> : USCoreEncounterType</p><p><b> derivedFrom</b> : <a> http://hl7.org/fhir/SearchParameter/clinical-type</a></p><p><b> status</b> : active</p><p><b> experimental</b>  False</p><p><b> date</b> : 2019-04-29</p><p><b> publisher</b> : HL7 International - Structured Documents Work Group</p><p><b> contact</b> : http://www.hl7.org/Special/committees/structure/index.cfm</p><p><b> description</b> : Specific type of encounter</p><p><b> useContext</b> : </p><p><b> jurisdiction</b> : United States of America (the) <span> (Details : {urn:iso:std:iso:3166 code 'US' = 'United States of America', given as 'United\n",
       "           States of America (the)'})</span></p><!--\n",
       "\t<p>\n",
       "\t\t<b> purpose</b> : Need to search by identifier for various infrastructural cases - mainly retrieving packages,\n",
       "         and matching as part of a chain</p>\n",
       "  --><p><b> code</b> : <code>type</code></p><p><b> base</b> :Encounter</p><p><b> type</b> : token</p><p><b> expression</b> : <code>Encounter.type</code></p><p><b> xpath</b> : <code>f:Encounter/f:type</code></p><p><b> xpathUsage</b> : normal</p><p><b> mulitpleOr</b> : True   (Conformance Expectation = MAY)</p><p><b> mulitpleAnd</b> : True  ( Conformance Expectation = MAY)</p>\n",
       "    \n",
       "    \n",
       "    \n",
       "    <p><b> modifier</b> : <code>missing</code>  (Conformance Expectation =  MAY)</p>\n",
       "    \n",
       "    <p><b> modifier</b> : <code>text</code>  (Conformance Expectation =  MAY)</p>\n",
       "    \n",
       "    <p><b> modifier</b> : <code>not</code>  (Conformance Expectation =  MAY)</p>\n",
       "    \n",
       "    <p><b> modifier</b> : <code>in</code>  (Conformance Expectation =  MAY)</p>\n",
       "    \n",
       "    <p><b> modifier</b> : <code>not-in</code>  (Conformance Expectation =  MAY)</p>\n",
       "    \n",
       "    <p><b> modifier</b> : <code>below</code>  (Conformance Expectation =  MAY)</p>\n",
       "    \n",
       "    <p><b> modifier</b> : <code>above</code>  (Conformance Expectation =  MAY)</p>\n",
       "    \n",
       "    <p><b> modifier</b> : <code>ofType</code>  (Conformance Expectation =  MAY)</p>\n",
       "    \n",
       "    \n",
       "    \n",
       "\t\t</div>"
      ],
      "text/plain": [
       "<IPython.core.display.HTML object>"
      ]
     },
     "metadata": {},
     "output_type": "display_data"
    },
    {
     "name": "stdout",
     "output_type": "stream",
     "text": [
      "=========Patient,_id==============\n",
      "Patient.id\n",
      "======================= SP = us-core-patient-id =====================\n"
     ]
    },
    {
     "data": {
      "text/html": [
       "<div xmlns=\"http://www.w3.org/1999/xhtml\"><p><b> Generated Narrative with Details</b></p><p><b> id</b> us-core-patient-id</p><p><b> url</b> : <b> http://hl7.org/fhir/us/core/SearchParameter/us-core-patient-id</b></p><p><b> version</b> : 4.0.0</p><p><b> name</b> : USCorePatientId</p><p><b> derivedFrom</b> : <a> http://hl7.org/fhir/SearchParameter/Resource-id</a></p><p><b> status</b> : active</p><p><b> experimental</b>  False</p><p><b> date</b> : 2019-04-29</p><p><b> publisher</b> : HL7 International - Structured Documents Work Group</p><p><b> contact</b> : http://www.hl7.org/Special/committees/structure/index.cfm</p><p><b> description</b> : Logical id of this artifact</p><p><b> useContext</b> : </p><p><b> jurisdiction</b> : United States of America (the) <span> (Details : {urn:iso:std:iso:3166 code 'US' = 'United States of America', given as 'United\n",
       "           States of America (the)'})</span></p><!--\n",
       "\t<p>\n",
       "\t\t<b> purpose</b> : Need to search by identifier for various infrastructural cases - mainly retrieving packages,\n",
       "         and matching as part of a chain</p>\n",
       "  --><p><b> code</b> : <code>_id</code></p><p><b> base</b> :Patient</p><p><b> type</b> : token</p><p><b> expression</b> : <code>Patient.id</code></p><p><b> xpath</b> : <code>Patient.id</code></p><p><b> xpathUsage</b> : normal</p><p><b> mulitpleOr</b> : True   (Conformance Expectation = MAY)</p><p><b> mulitpleAnd</b> : True  ( Conformance Expectation = MAY)</p>\n",
       "    \n",
       "    \n",
       "    \n",
       "    <p><b> modifier</b> : <code>missing</code>  (Conformance Expectation =  MAY)</p>\n",
       "    \n",
       "    <p><b> modifier</b> : <code>text</code>  (Conformance Expectation =  MAY)</p>\n",
       "    \n",
       "    <p><b> modifier</b> : <code>not</code>  (Conformance Expectation =  MAY)</p>\n",
       "    \n",
       "    <p><b> modifier</b> : <code>in</code>  (Conformance Expectation =  MAY)</p>\n",
       "    \n",
       "    <p><b> modifier</b> : <code>not-in</code>  (Conformance Expectation =  MAY)</p>\n",
       "    \n",
       "    <p><b> modifier</b> : <code>below</code>  (Conformance Expectation =  MAY)</p>\n",
       "    \n",
       "    <p><b> modifier</b> : <code>above</code>  (Conformance Expectation =  MAY)</p>\n",
       "    \n",
       "    <p><b> modifier</b> : <code>ofType</code>  (Conformance Expectation =  MAY)</p>\n",
       "    \n",
       "    \n",
       "    \n",
       "\t\t</div>"
      ],
      "text/plain": [
       "<IPython.core.display.HTML object>"
      ]
     },
     "metadata": {},
     "output_type": "display_data"
    },
    {
     "name": "stdout",
     "output_type": "stream",
     "text": [
      "=========Patient,birthdate==============\n",
      "======================= SP = us-core-patient-birthdate =====================\n"
     ]
    },
    {
     "data": {
      "text/html": [
       "<div xmlns=\"http://www.w3.org/1999/xhtml\"><p><b> Generated Narrative with Details</b></p><p><b> id</b> us-core-patient-birthdate</p><p><b> url</b> : <b> http://hl7.org/fhir/us/core/SearchParameter/us-core-patient-birthdate</b></p><p><b> version</b> : 4.0.0</p><p><b> name</b> : USCorePatientBirthdate</p><p><b> derivedFrom</b> : <a> http://hl7.org/fhir/SearchParameter/individual-birthdate</a></p><p><b> status</b> : active</p><p><b> experimental</b>  False</p><p><b> date</b> : 2019-04-29</p><p><b> publisher</b> : HL7 International - Structured Documents Work Group</p><p><b> contact</b> : http://www.hl7.org/Special/committees/structure/index.cfm</p><p><b> description</b> : The patient&#39;s date of birth</p><p><b> useContext</b> : </p><p><b> jurisdiction</b> : United States of America (the) <span> (Details : {urn:iso:std:iso:3166 code 'US' = 'United States of America', given as 'United\n",
       "           States of America (the)'})</span></p><!--\n",
       "\t<p>\n",
       "\t\t<b> purpose</b> : Need to search by identifier for various infrastructural cases - mainly retrieving packages,\n",
       "         and matching as part of a chain</p>\n",
       "  --><p><b> code</b> : <code>birthdate</code></p><p><b> base</b> :Patient</p><p><b> type</b> : date</p><p><b> expression</b> : <code>Patient.birthDate</code></p><p><b> xpath</b> : <code>f:Patient/f:birthDate</code></p><p><b> xpathUsage</b> : normal</p><p><b> mulitpleOr</b> : True   (Conformance Expectation = MAY)</p><p><b> mulitpleAnd</b> : True  ( Conformance Expectation = MAY)</p>\n",
       "    \n",
       "    \n",
       "    <p><b> comparator</b> : <code>eq</code> ( Conformance Expectation = MAY)</p>\n",
       "    \n",
       "    <p><b> comparator</b> : <code>ne</code> ( Conformance Expectation = MAY)</p>\n",
       "    \n",
       "    <p><b> comparator</b> : <code>gt</code> ( Conformance Expectation = MAY)</p>\n",
       "    \n",
       "    <p><b> comparator</b> : <code>lt</code> ( Conformance Expectation = MAY)</p>\n",
       "    \n",
       "    <p><b> comparator</b> : <code>le</code> ( Conformance Expectation = MAY)</p>\n",
       "    \n",
       "    <p><b> comparator</b> : <code>sa</code> ( Conformance Expectation = MAY)</p>\n",
       "    \n",
       "    <p><b> comparator</b> : <code>eb</code> ( Conformance Expectation = MAY)</p>\n",
       "    \n",
       "    <p><b> comparator</b> : <code>ap</code> ( Conformance Expectation = MAY)</p>\n",
       "    \n",
       "    \n",
       "    \n",
       "    \n",
       "    <p><b> modifier</b> : <code>missing</code>  (Conformance Expectation =  MAY)</p>\n",
       "    \n",
       "    \n",
       "    \n",
       "\t\t</div>"
      ],
      "text/plain": [
       "<IPython.core.display.HTML object>"
      ]
     },
     "metadata": {},
     "output_type": "display_data"
    },
    {
     "name": "stdout",
     "output_type": "stream",
     "text": [
      "=========Patient,family==============\n",
      "======================= SP = us-core-patient-family =====================\n"
     ]
    },
    {
     "data": {
      "text/html": [
       "<div xmlns=\"http://www.w3.org/1999/xhtml\"><p><b> Generated Narrative with Details</b></p><p><b> id</b> us-core-patient-family</p><p><b> url</b> : <b> http://hl7.org/fhir/us/core/SearchParameter/us-core-patient-family</b></p><p><b> version</b> : 4.0.0</p><p><b> name</b> : USCorePatientFamily</p><p><b> derivedFrom</b> : <a> http://hl7.org/fhir/SearchParameter/individual-family</a></p><p><b> status</b> : active</p><p><b> experimental</b>  False</p><p><b> date</b> : 2019-04-29</p><p><b> publisher</b> : HL7 International - Structured Documents Work Group</p><p><b> contact</b> : http://www.hl7.org/Special/committees/structure/index.cfm</p><p><b> description</b> : A portion of the family name of the patient</p><p><b> useContext</b> : </p><p><b> jurisdiction</b> : United States of America (the) <span> (Details : {urn:iso:std:iso:3166 code 'US' = 'United States of America', given as 'United\n",
       "           States of America (the)'})</span></p><!--\n",
       "\t<p>\n",
       "\t\t<b> purpose</b> : Need to search by identifier for various infrastructural cases - mainly retrieving packages,\n",
       "         and matching as part of a chain</p>\n",
       "  --><p><b> code</b> : <code>family</code></p><p><b> base</b> :Patient</p><p><b> type</b> : string</p><p><b> expression</b> : <code>Patient.name.family</code></p><p><b> xpath</b> : <code>f:Patient/f:name/f:family</code></p><p><b> xpathUsage</b> : normal</p><p><b> mulitpleOr</b> : True   (Conformance Expectation = MAY)</p><p><b> mulitpleAnd</b> : True  ( Conformance Expectation = MAY)</p>\n",
       "    \n",
       "    \n",
       "    \n",
       "    <p><b> modifier</b> : <code>missing</code>  (Conformance Expectation =  MAY)</p>\n",
       "    \n",
       "    <p><b> modifier</b> : <code>exact</code>  (Conformance Expectation =  MAY)</p>\n",
       "    \n",
       "    <p><b> modifier</b> : <code>contains</code>  (Conformance Expectation =  MAY)</p>\n",
       "    \n",
       "    \n",
       "    \n",
       "\t\t</div>"
      ],
      "text/plain": [
       "<IPython.core.display.HTML object>"
      ]
     },
     "metadata": {},
     "output_type": "display_data"
    },
    {
     "name": "stdout",
     "output_type": "stream",
     "text": [
      "=========Patient,gender==============\n",
      "======================= SP = us-core-patient-gender =====================\n"
     ]
    },
    {
     "data": {
      "text/html": [
       "<div xmlns=\"http://www.w3.org/1999/xhtml\"><p><b> Generated Narrative with Details</b></p><p><b> id</b> us-core-patient-gender</p><p><b> url</b> : <b> http://hl7.org/fhir/us/core/SearchParameter/us-core-patient-gender</b></p><p><b> version</b> : 4.0.0</p><p><b> name</b> : USCorePatientGender</p><p><b> derivedFrom</b> : <a> http://hl7.org/fhir/SearchParameter/individual-gender</a></p><p><b> status</b> : active</p><p><b> experimental</b>  False</p><p><b> date</b> : 2019-04-29</p><p><b> publisher</b> : HL7 International - Structured Documents Work Group</p><p><b> contact</b> : http://www.hl7.org/Special/committees/structure/index.cfm</p><p><b> description</b> : Gender of the patient</p><p><b> useContext</b> : </p><p><b> jurisdiction</b> : United States of America (the) <span> (Details : {urn:iso:std:iso:3166 code 'US' = 'United States of America', given as 'United\n",
       "           States of America (the)'})</span></p><!--\n",
       "\t<p>\n",
       "\t\t<b> purpose</b> : Need to search by identifier for various infrastructural cases - mainly retrieving packages,\n",
       "         and matching as part of a chain</p>\n",
       "  --><p><b> code</b> : <code>gender</code></p><p><b> base</b> :Patient</p><p><b> type</b> : token</p><p><b> expression</b> : <code>Patient.gender</code></p><p><b> xpath</b> : <code>f:Patient/f:gender</code></p><p><b> xpathUsage</b> : normal</p><p><b> mulitpleOr</b> : True   (Conformance Expectation = MAY)</p><p><b> mulitpleAnd</b> : True  ( Conformance Expectation = MAY)</p>\n",
       "    \n",
       "    \n",
       "    \n",
       "    <p><b> modifier</b> : <code>missing</code>  (Conformance Expectation =  MAY)</p>\n",
       "    \n",
       "    <p><b> modifier</b> : <code>text</code>  (Conformance Expectation =  MAY)</p>\n",
       "    \n",
       "    <p><b> modifier</b> : <code>not</code>  (Conformance Expectation =  MAY)</p>\n",
       "    \n",
       "    <p><b> modifier</b> : <code>in</code>  (Conformance Expectation =  MAY)</p>\n",
       "    \n",
       "    <p><b> modifier</b> : <code>not-in</code>  (Conformance Expectation =  MAY)</p>\n",
       "    \n",
       "    <p><b> modifier</b> : <code>below</code>  (Conformance Expectation =  MAY)</p>\n",
       "    \n",
       "    <p><b> modifier</b> : <code>above</code>  (Conformance Expectation =  MAY)</p>\n",
       "    \n",
       "    <p><b> modifier</b> : <code>ofType</code>  (Conformance Expectation =  MAY)</p>\n",
       "    \n",
       "    \n",
       "    \n",
       "\t\t</div>"
      ],
      "text/plain": [
       "<IPython.core.display.HTML object>"
      ]
     },
     "metadata": {},
     "output_type": "display_data"
    },
    {
     "name": "stdout",
     "output_type": "stream",
     "text": [
      "=========Patient,given==============\n",
      "======================= SP = us-core-patient-given =====================\n"
     ]
    },
    {
     "data": {
      "text/html": [
       "<div xmlns=\"http://www.w3.org/1999/xhtml\"><p><b> Generated Narrative with Details</b></p><p><b> id</b> us-core-patient-given</p><p><b> url</b> : <b> http://hl7.org/fhir/us/core/SearchParameter/us-core-patient-given</b></p><p><b> version</b> : 4.0.0</p><p><b> name</b> : USCorePatientGiven</p><p><b> derivedFrom</b> : <a> http://hl7.org/fhir/SearchParameter/individual-given</a></p><p><b> status</b> : active</p><p><b> experimental</b>  False</p><p><b> date</b> : 2019-04-29</p><p><b> publisher</b> : HL7 International - Structured Documents Work Group</p><p><b> contact</b> : http://www.hl7.org/Special/committees/structure/index.cfm</p><p><b> description</b> : A portion of the given name of the patient</p><p><b> useContext</b> : </p><p><b> jurisdiction</b> : United States of America (the) <span> (Details : {urn:iso:std:iso:3166 code 'US' = 'United States of America', given as 'United\n",
       "           States of America (the)'})</span></p><!--\n",
       "\t<p>\n",
       "\t\t<b> purpose</b> : Need to search by identifier for various infrastructural cases - mainly retrieving packages,\n",
       "         and matching as part of a chain</p>\n",
       "  --><p><b> code</b> : <code>given</code></p><p><b> base</b> :Patient</p><p><b> type</b> : string</p><p><b> expression</b> : <code>Patient.name.given</code></p><p><b> xpath</b> : <code>f:Patient/f:name/f:given</code></p><p><b> xpathUsage</b> : normal</p><p><b> mulitpleOr</b> : True   (Conformance Expectation = MAY)</p><p><b> mulitpleAnd</b> : True  ( Conformance Expectation = MAY)</p>\n",
       "    \n",
       "    \n",
       "    \n",
       "    <p><b> modifier</b> : <code>missing</code>  (Conformance Expectation =  MAY)</p>\n",
       "    \n",
       "    <p><b> modifier</b> : <code>exact</code>  (Conformance Expectation =  MAY)</p>\n",
       "    \n",
       "    <p><b> modifier</b> : <code>contains</code>  (Conformance Expectation =  MAY)</p>\n",
       "    \n",
       "    \n",
       "    \n",
       "\t\t</div>"
      ],
      "text/plain": [
       "<IPython.core.display.HTML object>"
      ]
     },
     "metadata": {},
     "output_type": "display_data"
    },
    {
     "name": "stdout",
     "output_type": "stream",
     "text": [
      "=========Patient,identifier==============\n",
      "Patient.identifier\n",
      "======================= SP = us-core-patient-identifier =====================\n"
     ]
    },
    {
     "data": {
      "text/html": [
       "<div xmlns=\"http://www.w3.org/1999/xhtml\"><p><b> Generated Narrative with Details</b></p><p><b> id</b> us-core-patient-identifier</p><p><b> url</b> : <b> http://hl7.org/fhir/us/core/SearchParameter/us-core-patient-identifier</b></p><p><b> version</b> : 4.0.0</p><p><b> name</b> : USCorePatientIdentifier</p><p><b> derivedFrom</b> : <a> http://hl7.org/fhir/SearchParameter/Patient-identifier</a></p><p><b> status</b> : active</p><p><b> experimental</b>  False</p><p><b> date</b> : 2019-04-29</p><p><b> publisher</b> : HL7 International - Structured Documents Work Group</p><p><b> contact</b> : http://www.hl7.org/Special/committees/structure/index.cfm</p><p><b> description</b> : A patient identifier</p><p><b> useContext</b> : </p><p><b> jurisdiction</b> : United States of America (the) <span> (Details : {urn:iso:std:iso:3166 code 'US' = 'United States of America', given as 'United\n",
       "           States of America (the)'})</span></p><!--\n",
       "\t<p>\n",
       "\t\t<b> purpose</b> : Need to search by identifier for various infrastructural cases - mainly retrieving packages,\n",
       "         and matching as part of a chain</p>\n",
       "  --><p><b> code</b> : <code>identifier</code></p><p><b> base</b> :Patient</p><p><b> type</b> : token</p><p><b> expression</b> : <code>Patient.identifier</code></p><p><b> xpath</b> : <code>f:Patient/f:identifier</code></p><p><b> xpathUsage</b> : normal</p><p><b> mulitpleOr</b> : True   (Conformance Expectation = MAY)</p><p><b> mulitpleAnd</b> : True  ( Conformance Expectation = MAY)</p>\n",
       "    \n",
       "    \n",
       "    \n",
       "    <p><b> modifier</b> : <code>missing</code>  (Conformance Expectation =  MAY)</p>\n",
       "    \n",
       "    <p><b> modifier</b> : <code>text</code>  (Conformance Expectation =  MAY)</p>\n",
       "    \n",
       "    <p><b> modifier</b> : <code>not</code>  (Conformance Expectation =  MAY)</p>\n",
       "    \n",
       "    <p><b> modifier</b> : <code>in</code>  (Conformance Expectation =  MAY)</p>\n",
       "    \n",
       "    <p><b> modifier</b> : <code>not-in</code>  (Conformance Expectation =  MAY)</p>\n",
       "    \n",
       "    <p><b> modifier</b> : <code>below</code>  (Conformance Expectation =  MAY)</p>\n",
       "    \n",
       "    <p><b> modifier</b> : <code>above</code>  (Conformance Expectation =  MAY)</p>\n",
       "    \n",
       "    <p><b> modifier</b> : <code>ofType</code>  (Conformance Expectation =  MAY)</p>\n",
       "    \n",
       "    \n",
       "    \n",
       "\t\t</div>"
      ],
      "text/plain": [
       "<IPython.core.display.HTML object>"
      ]
     },
     "metadata": {},
     "output_type": "display_data"
    },
    {
     "name": "stdout",
     "output_type": "stream",
     "text": [
      "=========Patient,name==============\n",
      "Patient.name\n",
      "======================= SP = us-core-patient-name =====================\n"
     ]
    },
    {
     "data": {
      "text/html": [
       "<div xmlns=\"http://www.w3.org/1999/xhtml\"><p><b> Generated Narrative with Details</b></p><p><b> id</b> us-core-patient-name</p><p><b> url</b> : <b> http://hl7.org/fhir/us/core/SearchParameter/us-core-patient-name</b></p><p><b> version</b> : 4.0.0</p><p><b> name</b> : USCorePatientName</p><p><b> derivedFrom</b> : <a> http://hl7.org/fhir/SearchParameter/Patient-name</a></p><p><b> status</b> : active</p><p><b> experimental</b>  False</p><p><b> date</b> : 2019-04-29</p><p><b> publisher</b> : HL7 International - Structured Documents Work Group</p><p><b> contact</b> : http://www.hl7.org/Special/committees/structure/index.cfm</p><p><b> description</b> : A server defined search that may match any of the string fields in the HumanName, including family, give, prefix, suffix, suffix, and/or text</p><p><b> useContext</b> : </p><p><b> jurisdiction</b> : United States of America (the) <span> (Details : {urn:iso:std:iso:3166 code 'US' = 'United States of America', given as 'United\n",
       "           States of America (the)'})</span></p><!--\n",
       "\t<p>\n",
       "\t\t<b> purpose</b> : Need to search by identifier for various infrastructural cases - mainly retrieving packages,\n",
       "         and matching as part of a chain</p>\n",
       "  --><p><b> code</b> : <code>name</code></p><p><b> base</b> :Patient</p><p><b> type</b> : string</p><p><b> expression</b> : <code>Patient.name</code></p><p><b> xpath</b> : <code>f:Patient/f:name</code></p><p><b> xpathUsage</b> : normal</p><p><b> mulitpleOr</b> : True   (Conformance Expectation = MAY)</p><p><b> mulitpleAnd</b> : True  ( Conformance Expectation = MAY)</p>\n",
       "    \n",
       "    \n",
       "    \n",
       "    <p><b> modifier</b> : <code>missing</code>  (Conformance Expectation =  MAY)</p>\n",
       "    \n",
       "    <p><b> modifier</b> : <code>exact</code>  (Conformance Expectation =  MAY)</p>\n",
       "    \n",
       "    <p><b> modifier</b> : <code>contains</code>  (Conformance Expectation =  MAY)</p>\n",
       "    \n",
       "    \n",
       "    \n",
       "\t\t</div>"
      ],
      "text/plain": [
       "<IPython.core.display.HTML object>"
      ]
     },
     "metadata": {},
     "output_type": "display_data"
    },
    {
     "name": "stdout",
     "output_type": "stream",
     "text": [
      "=========Questionnaire,_id==============\n",
      "Questionnaire.id\n",
      "======================= SP = us-core-questionnaire-id =====================\n"
     ]
    },
    {
     "data": {
      "text/html": [
       "<div xmlns=\"http://www.w3.org/1999/xhtml\"><p><b> Generated Narrative with Details</b></p><p><b> id</b> us-core-questionnaire-id</p><p><b> url</b> : <b> http://hl7.org/fhir/us/core/SearchParameter/us-core-questionnaire-id</b></p><p><b> version</b> : 4.0.0</p><p><b> name</b> : USCoreQuestionnaireId</p><p><b> derivedFrom</b> : <a> http://hl7.org/fhir/SearchParameter/Resource-id</a></p><p><b> status</b> : active</p><p><b> experimental</b>  False</p><p><b> date</b> : 2019-04-29</p><p><b> publisher</b> : HL7 International - Structured Documents Work Group</p><p><b> contact</b> : http://www.hl7.org/Special/committees/structure/index.cfm</p><p><b> description</b> : Logical id of this artifact</p><p><b> useContext</b> : </p><p><b> jurisdiction</b> : United States of America (the) <span> (Details : {urn:iso:std:iso:3166 code 'US' = 'United States of America', given as 'United\n",
       "           States of America (the)'})</span></p><!--\n",
       "\t<p>\n",
       "\t\t<b> purpose</b> : Need to search by identifier for various infrastructural cases - mainly retrieving packages,\n",
       "         and matching as part of a chain</p>\n",
       "  --><p><b> code</b> : <code>_id</code></p><p><b> base</b> :Questionnaire</p><p><b> type</b> : token</p><p><b> expression</b> : <code>Questionnaire.id</code></p><p><b> xpath</b> : <code>Questionnaire.id</code></p><p><b> xpathUsage</b> : normal</p><p><b> mulitpleOr</b> : True   (Conformance Expectation = MAY)</p><p><b> mulitpleAnd</b> : True  ( Conformance Expectation = MAY)</p>\n",
       "    \n",
       "    \n",
       "    \n",
       "    <p><b> modifier</b> : <code>missing</code>  (Conformance Expectation =  MAY)</p>\n",
       "    \n",
       "    <p><b> modifier</b> : <code>text</code>  (Conformance Expectation =  MAY)</p>\n",
       "    \n",
       "    <p><b> modifier</b> : <code>not</code>  (Conformance Expectation =  MAY)</p>\n",
       "    \n",
       "    <p><b> modifier</b> : <code>in</code>  (Conformance Expectation =  MAY)</p>\n",
       "    \n",
       "    <p><b> modifier</b> : <code>not-in</code>  (Conformance Expectation =  MAY)</p>\n",
       "    \n",
       "    <p><b> modifier</b> : <code>below</code>  (Conformance Expectation =  MAY)</p>\n",
       "    \n",
       "    <p><b> modifier</b> : <code>above</code>  (Conformance Expectation =  MAY)</p>\n",
       "    \n",
       "    <p><b> modifier</b> : <code>ofType</code>  (Conformance Expectation =  MAY)</p>\n",
       "    \n",
       "    \n",
       "    \n",
       "\t\t</div>"
      ],
      "text/plain": [
       "<IPython.core.display.HTML object>"
      ]
     },
     "metadata": {},
     "output_type": "display_data"
    },
    {
     "name": "stdout",
     "output_type": "stream",
     "text": [
      "=========Questionnaire,context-type-value==============\n",
      "Questionnaire.useContext\n",
      "======================= SP = us-core-questionnaire-context-type-value =====================\n"
     ]
    },
    {
     "data": {
      "text/html": [
       "<div xmlns=\"http://www.w3.org/1999/xhtml\"><p><b> Generated Narrative with Details</b></p><p><b> id</b> us-core-questionnaire-context-type-value</p><p><b> url</b> : <b> http://hl7.org/fhir/us/core/SearchParameter/us-core-questionnaire-context-type-value</b></p><p><b> version</b> : 4.0.0</p><p><b> name</b> : USCoreQuestionnaireContextTypeValue</p><p><b> derivedFrom</b> : <a> http://hl7.org/fhir/SearchParameter/Questionnaire-context-type-value</a></p><p><b> status</b> : active</p><p><b> experimental</b>  False</p><p><b> date</b> : 2019-04-29</p><p><b> publisher</b> : HL7 International - Structured Documents Work Group</p><p><b> contact</b> : http://www.hl7.org/Special/committees/structure/index.cfm</p><p><b> description</b> : A use context type and value assigned to the questionnaire</p><p><b> useContext</b> : </p><p><b> jurisdiction</b> : United States of America (the) <span> (Details : {urn:iso:std:iso:3166 code 'US' = 'United States of America', given as 'United\n",
       "           States of America (the)'})</span></p><!--\n",
       "\t<p>\n",
       "\t\t<b> purpose</b> : Need to search by identifier for various infrastructural cases - mainly retrieving packages,\n",
       "         and matching as part of a chain</p>\n",
       "  --><p><b> code</b> : <code>context-type-value</code></p><p><b> base</b> :Questionnaire</p><p><b> type</b> : composite</p><p><b> expression</b> : <code>Questionnaire.useContext</code></p><p><b> xpath</b> : <code></code></p><p><b> xpathUsage</b> : normal</p><p><b> mulitpleOr</b> : True   (Conformance Expectation = MAY)</p><p><b> mulitpleAnd</b> : True  ( Conformance Expectation = MAY)</p>\n",
       "    \n",
       "    \n",
       "    \n",
       "    <p><b> modifier</b> : <code>missing</code>  (Conformance Expectation =  MAY)</p>\n",
       "    \n",
       "    \n",
       "    \n",
       "\t\t</div>"
      ],
      "text/plain": [
       "<IPython.core.display.HTML object>"
      ]
     },
     "metadata": {},
     "output_type": "display_data"
    },
    {
     "name": "stdout",
     "output_type": "stream",
     "text": [
      "=========Questionnaire,publisher==============\n",
      "Questionnaire.publisher\n",
      "======================= SP = us-core-questionnaire-publisher =====================\n"
     ]
    },
    {
     "data": {
      "text/html": [
       "<div xmlns=\"http://www.w3.org/1999/xhtml\"><p><b> Generated Narrative with Details</b></p><p><b> id</b> us-core-questionnaire-publisher</p><p><b> url</b> : <b> http://hl7.org/fhir/us/core/SearchParameter/us-core-questionnaire-publisher</b></p><p><b> version</b> : 4.0.0</p><p><b> name</b> : USCoreQuestionnairePublisher</p><p><b> derivedFrom</b> : <a> http://hl7.org/fhir/SearchParameter/Questionnaire-publisher</a></p><p><b> status</b> : active</p><p><b> experimental</b>  False</p><p><b> date</b> : 2019-04-29</p><p><b> publisher</b> : HL7 International - Structured Documents Work Group</p><p><b> contact</b> : http://www.hl7.org/Special/committees/structure/index.cfm</p><p><b> description</b> : Name of the publisher of the questionnaire</p><p><b> useContext</b> : </p><p><b> jurisdiction</b> : United States of America (the) <span> (Details : {urn:iso:std:iso:3166 code 'US' = 'United States of America', given as 'United\n",
       "           States of America (the)'})</span></p><!--\n",
       "\t<p>\n",
       "\t\t<b> purpose</b> : Need to search by identifier for various infrastructural cases - mainly retrieving packages,\n",
       "         and matching as part of a chain</p>\n",
       "  --><p><b> code</b> : <code>publisher</code></p><p><b> base</b> :Questionnaire</p><p><b> type</b> : string</p><p><b> expression</b> : <code>Questionnaire.publisher</code></p><p><b> xpath</b> : <code>f:Questionnaire/f:publisher</code></p><p><b> xpathUsage</b> : normal</p><p><b> mulitpleOr</b> : True   (Conformance Expectation = MAY)</p><p><b> mulitpleAnd</b> : True  ( Conformance Expectation = MAY)</p>\n",
       "    \n",
       "    \n",
       "    \n",
       "    <p><b> modifier</b> : <code>missing</code>  (Conformance Expectation =  MAY)</p>\n",
       "    \n",
       "    <p><b> modifier</b> : <code>exact</code>  (Conformance Expectation =  MAY)</p>\n",
       "    \n",
       "    <p><b> modifier</b> : <code>contains</code>  (Conformance Expectation =  SHALL)</p>\n",
       "    \n",
       "    \n",
       "    \n",
       "\t\t</div>"
      ],
      "text/plain": [
       "<IPython.core.display.HTML object>"
      ]
     },
     "metadata": {},
     "output_type": "display_data"
    },
    {
     "name": "stdout",
     "output_type": "stream",
     "text": [
      "=========Questionnaire,status==============\n",
      "Questionnaire.status\n",
      "======================= SP = us-core-questionnaire-status =====================\n"
     ]
    },
    {
     "data": {
      "text/html": [
       "<div xmlns=\"http://www.w3.org/1999/xhtml\"><p><b> Generated Narrative with Details</b></p><p><b> id</b> us-core-questionnaire-status</p><p><b> url</b> : <b> http://hl7.org/fhir/us/core/SearchParameter/us-core-questionnaire-status</b></p><p><b> version</b> : 4.0.0</p><p><b> name</b> : USCoreQuestionnaireStatus</p><p><b> derivedFrom</b> : <a> http://hl7.org/fhir/SearchParameter/Questionnaire-status</a></p><p><b> status</b> : active</p><p><b> experimental</b>  False</p><p><b> date</b> : 2019-04-29</p><p><b> publisher</b> : HL7 International - Structured Documents Work Group</p><p><b> contact</b> : http://www.hl7.org/Special/committees/structure/index.cfm</p><p><b> description</b> : The current status of the questionnaire</p><p><b> useContext</b> : </p><p><b> jurisdiction</b> : United States of America (the) <span> (Details : {urn:iso:std:iso:3166 code 'US' = 'United States of America', given as 'United\n",
       "           States of America (the)'})</span></p><!--\n",
       "\t<p>\n",
       "\t\t<b> purpose</b> : Need to search by identifier for various infrastructural cases - mainly retrieving packages,\n",
       "         and matching as part of a chain</p>\n",
       "  --><p><b> code</b> : <code>status</code></p><p><b> base</b> :Questionnaire</p><p><b> type</b> : token</p><p><b> expression</b> : <code>Questionnaire.status</code></p><p><b> xpath</b> : <code>f:Questionnaire/f:status</code></p><p><b> xpathUsage</b> : normal</p><p><b> mulitpleOr</b> : True   (Conformance Expectation = MAY)</p><p><b> mulitpleAnd</b> : True  ( Conformance Expectation = MAY)</p>\n",
       "    \n",
       "    \n",
       "    \n",
       "    <p><b> modifier</b> : <code>missing</code>  (Conformance Expectation =  MAY)</p>\n",
       "    \n",
       "    <p><b> modifier</b> : <code>text</code>  (Conformance Expectation =  MAY)</p>\n",
       "    \n",
       "    <p><b> modifier</b> : <code>not</code>  (Conformance Expectation =  MAY)</p>\n",
       "    \n",
       "    <p><b> modifier</b> : <code>in</code>  (Conformance Expectation =  MAY)</p>\n",
       "    \n",
       "    <p><b> modifier</b> : <code>not-in</code>  (Conformance Expectation =  MAY)</p>\n",
       "    \n",
       "    <p><b> modifier</b> : <code>below</code>  (Conformance Expectation =  MAY)</p>\n",
       "    \n",
       "    <p><b> modifier</b> : <code>above</code>  (Conformance Expectation =  MAY)</p>\n",
       "    \n",
       "    <p><b> modifier</b> : <code>ofType</code>  (Conformance Expectation =  MAY)</p>\n",
       "    \n",
       "    \n",
       "    \n",
       "\t\t</div>"
      ],
      "text/plain": [
       "<IPython.core.display.HTML object>"
      ]
     },
     "metadata": {},
     "output_type": "display_data"
    },
    {
     "name": "stdout",
     "output_type": "stream",
     "text": [
      "=========Questionnaire,title==============\n",
      "Questionnaire.title\n",
      "======================= SP = us-core-questionnaire-title =====================\n"
     ]
    },
    {
     "data": {
      "text/html": [
       "<div xmlns=\"http://www.w3.org/1999/xhtml\"><p><b> Generated Narrative with Details</b></p><p><b> id</b> us-core-questionnaire-title</p><p><b> url</b> : <b> http://hl7.org/fhir/us/core/SearchParameter/us-core-questionnaire-title</b></p><p><b> version</b> : 4.0.0</p><p><b> name</b> : USCoreQuestionnaireTitle</p><p><b> derivedFrom</b> : <a> http://hl7.org/fhir/SearchParameter/Questionnaire-title</a></p><p><b> status</b> : active</p><p><b> experimental</b>  False</p><p><b> date</b> : 2019-04-29</p><p><b> publisher</b> : HL7 International - Structured Documents Work Group</p><p><b> contact</b> : http://www.hl7.org/Special/committees/structure/index.cfm</p><p><b> description</b> : The human-friendly name of the questionnaire</p><p><b> useContext</b> : </p><p><b> jurisdiction</b> : United States of America (the) <span> (Details : {urn:iso:std:iso:3166 code 'US' = 'United States of America', given as 'United\n",
       "           States of America (the)'})</span></p><!--\n",
       "\t<p>\n",
       "\t\t<b> purpose</b> : Need to search by identifier for various infrastructural cases - mainly retrieving packages,\n",
       "         and matching as part of a chain</p>\n",
       "  --><p><b> code</b> : <code>title</code></p><p><b> base</b> :Questionnaire</p><p><b> type</b> : string</p><p><b> expression</b> : <code>Questionnaire.title</code></p><p><b> xpath</b> : <code>f:Questionnaire/f:title</code></p><p><b> xpathUsage</b> : normal</p><p><b> mulitpleOr</b> : True   (Conformance Expectation = MAY)</p><p><b> mulitpleAnd</b> : True  ( Conformance Expectation = MAY)</p>\n",
       "    \n",
       "    \n",
       "    \n",
       "    <p><b> modifier</b> : <code>missing</code>  (Conformance Expectation =  MAY)</p>\n",
       "    \n",
       "    <p><b> modifier</b> : <code>exact</code>  (Conformance Expectation =  MAY)</p>\n",
       "    \n",
       "    <p><b> modifier</b> : <code>contains</code>  (Conformance Expectation =  MAY)</p>\n",
       "    \n",
       "    \n",
       "    \n",
       "    \n",
       "    <p><b> chain</b> : <code>foo</code>  (Conformance Expectation = SHALL)</p>\n",
       "    \n",
       "    <p><b> chain</b> : <code>bar2</code>  (Conformance Expectation = SHALL)</p>\n",
       "    \n",
       "\t\t\n",
       "\t\t</div>"
      ],
      "text/plain": [
       "<IPython.core.display.HTML object>"
      ]
     },
     "metadata": {},
     "output_type": "display_data"
    },
    {
     "name": "stdout",
     "output_type": "stream",
     "text": [
      "=========Questionnaire,url==============\n",
      "Questionnaire.url\n",
      "======================= SP = us-core-questionnaire-url =====================\n"
     ]
    },
    {
     "data": {
      "text/html": [
       "<div xmlns=\"http://www.w3.org/1999/xhtml\"><p><b> Generated Narrative with Details</b></p><p><b> id</b> us-core-questionnaire-url</p><p><b> url</b> : <b> http://hl7.org/fhir/us/core/SearchParameter/us-core-questionnaire-url</b></p><p><b> version</b> : 4.0.0</p><p><b> name</b> : USCoreQuestionnaireUrl</p><p><b> derivedFrom</b> : <a> http://hl7.org/fhir/SearchParameter/Questionnaire-url</a></p><p><b> status</b> : active</p><p><b> experimental</b>  False</p><p><b> date</b> : 2019-04-29</p><p><b> publisher</b> : HL7 International - Structured Documents Work Group</p><p><b> contact</b> : http://www.hl7.org/Special/committees/structure/index.cfm</p><p><b> description</b> : The uri that identifies the questionnaire</p><p><b> useContext</b> : </p><p><b> jurisdiction</b> : United States of America (the) <span> (Details : {urn:iso:std:iso:3166 code 'US' = 'United States of America', given as 'United\n",
       "           States of America (the)'})</span></p><!--\n",
       "\t<p>\n",
       "\t\t<b> purpose</b> : Need to search by identifier for various infrastructural cases - mainly retrieving packages,\n",
       "         and matching as part of a chain</p>\n",
       "  --><p><b> code</b> : <code>url</code></p><p><b> base</b> :Questionnaire</p><p><b> type</b> : uri</p><p><b> expression</b> : <code>Questionnaire.url</code></p><p><b> xpath</b> : <code>f:Questionnaire/f:url</code></p><p><b> xpathUsage</b> : normal</p><p><b> mulitpleOr</b> : True   (Conformance Expectation = MAY)</p><p><b> mulitpleAnd</b> : True  ( Conformance Expectation = MAY)</p>\n",
       "    \n",
       "    \n",
       "    \n",
       "    <p><b> modifier</b> : <code>missing</code>  (Conformance Expectation =  MAY)</p>\n",
       "    \n",
       "    <p><b> modifier</b> : <code>below</code>  (Conformance Expectation =  MAY)</p>\n",
       "    \n",
       "    <p><b> modifier</b> : <code>above</code>  (Conformance Expectation =  MAY)</p>\n",
       "    \n",
       "    \n",
       "    \n",
       "\t\t</div>"
      ],
      "text/plain": [
       "<IPython.core.display.HTML object>"
      ]
     },
     "metadata": {},
     "output_type": "display_data"
    },
    {
     "name": "stdout",
     "output_type": "stream",
     "text": [
      "=========Questionnaire,version==============\n",
      "Questionnaire.version\n",
      "======================= SP = us-core-questionnaire-version =====================\n"
     ]
    },
    {
     "data": {
      "text/html": [
       "<div xmlns=\"http://www.w3.org/1999/xhtml\"><p><b> Generated Narrative with Details</b></p><p><b> id</b> us-core-questionnaire-version</p><p><b> url</b> : <b> http://hl7.org/fhir/us/core/SearchParameter/us-core-questionnaire-version</b></p><p><b> version</b> : 4.0.0</p><p><b> name</b> : USCoreQuestionnaireVersion</p><p><b> derivedFrom</b> : <a> http://hl7.org/fhir/SearchParameter/Questionnaire-version</a></p><p><b> status</b> : active</p><p><b> experimental</b>  False</p><p><b> date</b> : 2019-04-29</p><p><b> publisher</b> : HL7 International - Structured Documents Work Group</p><p><b> contact</b> : http://www.hl7.org/Special/committees/structure/index.cfm</p><p><b> description</b> : The business version of the questionnaire</p><p><b> useContext</b> : </p><p><b> jurisdiction</b> : United States of America (the) <span> (Details : {urn:iso:std:iso:3166 code 'US' = 'United States of America', given as 'United\n",
       "           States of America (the)'})</span></p><!--\n",
       "\t<p>\n",
       "\t\t<b> purpose</b> : Need to search by identifier for various infrastructural cases - mainly retrieving packages,\n",
       "         and matching as part of a chain</p>\n",
       "  --><p><b> code</b> : <code>version</code></p><p><b> base</b> :Questionnaire</p><p><b> type</b> : token</p><p><b> expression</b> : <code>Questionnaire.version</code></p><p><b> xpath</b> : <code>f:Questionnaire/f:version</code></p><p><b> xpathUsage</b> : normal</p><p><b> mulitpleOr</b> : True   (Conformance Expectation = MAY)</p><p><b> mulitpleAnd</b> : True  ( Conformance Expectation = MAY)</p>\n",
       "    \n",
       "    \n",
       "    \n",
       "    <p><b> modifier</b> : <code>missing</code>  (Conformance Expectation =  MAY)</p>\n",
       "    \n",
       "    <p><b> modifier</b> : <code>text</code>  (Conformance Expectation =  MAY)</p>\n",
       "    \n",
       "    <p><b> modifier</b> : <code>not</code>  (Conformance Expectation =  MAY)</p>\n",
       "    \n",
       "    <p><b> modifier</b> : <code>in</code>  (Conformance Expectation =  MAY)</p>\n",
       "    \n",
       "    <p><b> modifier</b> : <code>not-in</code>  (Conformance Expectation =  MAY)</p>\n",
       "    \n",
       "    <p><b> modifier</b> : <code>below</code>  (Conformance Expectation =  MAY)</p>\n",
       "    \n",
       "    <p><b> modifier</b> : <code>above</code>  (Conformance Expectation =  MAY)</p>\n",
       "    \n",
       "    <p><b> modifier</b> : <code>ofType</code>  (Conformance Expectation =  MAY)</p>\n",
       "    \n",
       "    \n",
       "    \n",
       "\t\t</div>"
      ],
      "text/plain": [
       "<IPython.core.display.HTML object>"
      ]
     },
     "metadata": {},
     "output_type": "display_data"
    },
    {
     "name": "stdout",
     "output_type": "stream",
     "text": [
      "=========Condition,onset-date==============\n",
      "Condition.onset.as(dateTime) \n",
      "======================= SP = us-core-condition-onset-date =====================\n"
     ]
    },
    {
     "data": {
      "text/html": [
       "<div xmlns=\"http://www.w3.org/1999/xhtml\"><p><b> Generated Narrative with Details</b></p><p><b> id</b> us-core-condition-onset-date</p><p><b> url</b> : <b> http://hl7.org/fhir/us/core/SearchParameter/us-core-condition-onset-date</b></p><p><b> version</b> : 4.0.0</p><p><b> name</b> : USCoreConditionOnsetDate</p><p><b> derivedFrom</b> : <a> http://hl7.org/fhir/SearchParameter/Condition-onset-date</a></p><p><b> status</b> : active</p><p><b> experimental</b>  False</p><p><b> date</b> : 2019-04-29</p><p><b> publisher</b> : HL7 International - Structured Documents Work Group</p><p><b> contact</b> : http://www.hl7.org/Special/committees/structure/index.cfm</p><p><b> description</b> : Date related onsets (dateTime and Period)</p><p><b> useContext</b> : </p><p><b> jurisdiction</b> : United States of America (the) <span> (Details : {urn:iso:std:iso:3166 code 'US' = 'United States of America', given as 'United\n",
       "           States of America (the)'})</span></p><!--\n",
       "\t<p>\n",
       "\t\t<b> purpose</b> : Need to search by identifier for various infrastructural cases - mainly retrieving packages,\n",
       "         and matching as part of a chain</p>\n",
       "  --><p><b> code</b> : <code>onset-date</code></p><p><b> base</b> :Condition</p><p><b> type</b> : date</p><p><b> expression</b> : <code>Condition.onset.as(dateTime)</code></p><p><b> xpath</b> : <code>f:Condition/f:onsetDateTime</code></p><p><b> xpathUsage</b> : normal</p><p><b> mulitpleOr</b> : True   (Conformance Expectation = MAY)</p><p><b> mulitpleAnd</b> : True  ( Conformance Expectation = MAY)</p>\n",
       "    \n",
       "    \n",
       "    <p><b> comparator</b> : <code>eq</code> ( Conformance Expectation = MAY)</p>\n",
       "    \n",
       "    <p><b> comparator</b> : <code>ne</code> ( Conformance Expectation = MAY)</p>\n",
       "    \n",
       "    <p><b> comparator</b> : <code>gt</code> ( Conformance Expectation = SHALL)</p>\n",
       "    \n",
       "    <p><b> comparator</b> : <code>lt</code> ( Conformance Expectation = SHALL)</p>\n",
       "    \n",
       "    <p><b> comparator</b> : <code>le</code> ( Conformance Expectation = SHALL)</p>\n",
       "    \n",
       "    <p><b> comparator</b> : <code>sa</code> ( Conformance Expectation = MAY)</p>\n",
       "    \n",
       "    <p><b> comparator</b> : <code>eb</code> ( Conformance Expectation = MAY)</p>\n",
       "    \n",
       "    <p><b> comparator</b> : <code>ap</code> ( Conformance Expectation = MAY)</p>\n",
       "    \n",
       "    \n",
       "    \n",
       "    \n",
       "    <p><b> modifier</b> : <code>missing</code>  (Conformance Expectation =  MAY)</p>\n",
       "    \n",
       "    \n",
       "    \n",
       "\t\t</div>"
      ],
      "text/plain": [
       "<IPython.core.display.HTML object>"
      ]
     },
     "metadata": {},
     "output_type": "display_data"
    },
    {
     "name": "stdout",
     "output_type": "stream",
     "text": [
      "=========Condition,code==============\n",
      "======================= SP = us-core-condition-code =====================\n"
     ]
    },
    {
     "data": {
      "text/html": [
       "<div xmlns=\"http://www.w3.org/1999/xhtml\"><p><b> Generated Narrative with Details</b></p><p><b> id</b> us-core-condition-code</p><p><b> url</b> : <b> http://hl7.org/fhir/us/core/SearchParameter/us-core-condition-code</b></p><p><b> version</b> : 4.0.0</p><p><b> name</b> : USCoreConditionCode</p><p><b> derivedFrom</b> : <a> http://hl7.org/fhir/SearchParameter/clinical-code</a></p><p><b> status</b> : active</p><p><b> experimental</b>  False</p><p><b> date</b> : 2019-04-29</p><p><b> publisher</b> : HL7 International - Structured Documents Work Group</p><p><b> contact</b> : http://www.hl7.org/Special/committees/structure/index.cfm</p><p><b> description</b> : Code for the condition</p><p><b> useContext</b> : </p><p><b> jurisdiction</b> : United States of America (the) <span> (Details : {urn:iso:std:iso:3166 code 'US' = 'United States of America', given as 'United\n",
       "           States of America (the)'})</span></p><!--\n",
       "\t<p>\n",
       "\t\t<b> purpose</b> : Need to search by identifier for various infrastructural cases - mainly retrieving packages,\n",
       "         and matching as part of a chain</p>\n",
       "  --><p><b> code</b> : <code>code</code></p><p><b> base</b> :Condition</p><p><b> type</b> : token</p><p><b> expression</b> : <code>Condition.code</code></p><p><b> xpath</b> : <code>f:Condition/f:code</code></p><p><b> xpathUsage</b> : normal</p><p><b> mulitpleOr</b> : True   (Conformance Expectation = MAY)</p><p><b> mulitpleAnd</b> : True  ( Conformance Expectation = MAY)</p>\n",
       "    \n",
       "    \n",
       "    \n",
       "    <p><b> modifier</b> : <code>missing</code>  (Conformance Expectation =  MAY)</p>\n",
       "    \n",
       "    <p><b> modifier</b> : <code>text</code>  (Conformance Expectation =  MAY)</p>\n",
       "    \n",
       "    <p><b> modifier</b> : <code>not</code>  (Conformance Expectation =  MAY)</p>\n",
       "    \n",
       "    <p><b> modifier</b> : <code>in</code>  (Conformance Expectation =  MAY)</p>\n",
       "    \n",
       "    <p><b> modifier</b> : <code>not-in</code>  (Conformance Expectation =  MAY)</p>\n",
       "    \n",
       "    <p><b> modifier</b> : <code>below</code>  (Conformance Expectation =  MAY)</p>\n",
       "    \n",
       "    <p><b> modifier</b> : <code>above</code>  (Conformance Expectation =  MAY)</p>\n",
       "    \n",
       "    <p><b> modifier</b> : <code>ofType</code>  (Conformance Expectation =  MAY)</p>\n",
       "    \n",
       "    \n",
       "    \n",
       "\t\t</div>"
      ],
      "text/plain": [
       "<IPython.core.display.HTML object>"
      ]
     },
     "metadata": {},
     "output_type": "display_data"
    },
    {
     "name": "stdout",
     "output_type": "stream",
     "text": [
      "=========Immunization,patient==============\n",
      "======================= SP = us-core-immunization-patient =====================\n"
     ]
    },
    {
     "data": {
      "text/html": [
       "<div xmlns=\"http://www.w3.org/1999/xhtml\"><p><b> Generated Narrative with Details</b></p><p><b> id</b> us-core-immunization-patient</p><p><b> url</b> : <b> http://hl7.org/fhir/us/core/SearchParameter/us-core-immunization-patient</b></p><p><b> version</b> : 4.0.0</p><p><b> name</b> : USCoreImmunizationPatient</p><p><b> derivedFrom</b> : <a> http://hl7.org/fhir/SearchParameter/clinical-patient</a></p><p><b> status</b> : active</p><p><b> experimental</b>  False</p><p><b> date</b> : 2019-04-29</p><p><b> publisher</b> : HL7 International - Structured Documents Work Group</p><p><b> contact</b> : http://www.hl7.org/Special/committees/structure/index.cfm</p><p><b> description</b> : The patient for the vaccination record</p><p><b> useContext</b> : </p><p><b> jurisdiction</b> : United States of America (the) <span> (Details : {urn:iso:std:iso:3166 code 'US' = 'United States of America', given as 'United\n",
       "           States of America (the)'})</span></p><!--\n",
       "\t<p>\n",
       "\t\t<b> purpose</b> : Need to search by identifier for various infrastructural cases - mainly retrieving packages,\n",
       "         and matching as part of a chain</p>\n",
       "  --><p><b> code</b> : <code>patient</code></p><p><b> base</b> :Immunization</p><p><b> type</b> : reference</p><p><b> expression</b> : <code>Immunization.patient</code></p><p><b> xpath</b> : <code>f:Immunization/f:patient</code></p><p><b> xpathUsage</b> : normal</p><p><b> mulitpleOr</b> : True   (Conformance Expectation = MAY)</p><p><b> mulitpleAnd</b> : True  ( Conformance Expectation = MAY)</p>\n",
       "    \n",
       "    \n",
       "    \n",
       "    <p><b> modifier</b> : <code>missing</code>  (Conformance Expectation =  MAY)</p>\n",
       "    \n",
       "    <p><b> modifier</b> : <code>type</code>  (Conformance Expectation =  MAY)</p>\n",
       "    \n",
       "    <p><b> modifier</b> : <code>identifier</code>  (Conformance Expectation =  MAY)</p>\n",
       "    \n",
       "    \n",
       "    \n",
       "\t\t</div>"
      ],
      "text/plain": [
       "<IPython.core.display.HTML object>"
      ]
     },
     "metadata": {},
     "output_type": "display_data"
    },
    {
     "name": "stdout",
     "output_type": "stream",
     "text": [
      "=========Immunization,status==============\n",
      "Immunization.status\n",
      "======================= SP = us-core-immunization-status =====================\n"
     ]
    },
    {
     "data": {
      "text/html": [
       "<div xmlns=\"http://www.w3.org/1999/xhtml\"><p><b> Generated Narrative with Details</b></p><p><b> id</b> us-core-immunization-status</p><p><b> url</b> : <b> http://hl7.org/fhir/us/core/SearchParameter/us-core-immunization-status</b></p><p><b> version</b> : 4.0.0</p><p><b> name</b> : USCoreImmunizationStatus</p><p><b> derivedFrom</b> : <a> http://hl7.org/fhir/SearchParameter/Immunization-status</a></p><p><b> status</b> : active</p><p><b> experimental</b>  False</p><p><b> date</b> : 2019-04-29</p><p><b> publisher</b> : HL7 International - Structured Documents Work Group</p><p><b> contact</b> : http://www.hl7.org/Special/committees/structure/index.cfm</p><p><b> description</b> : Immunization event status</p><p><b> useContext</b> : </p><p><b> jurisdiction</b> : United States of America (the) <span> (Details : {urn:iso:std:iso:3166 code 'US' = 'United States of America', given as 'United\n",
       "           States of America (the)'})</span></p><!--\n",
       "\t<p>\n",
       "\t\t<b> purpose</b> : Need to search by identifier for various infrastructural cases - mainly retrieving packages,\n",
       "         and matching as part of a chain</p>\n",
       "  --><p><b> code</b> : <code>status</code></p><p><b> base</b> :Immunization</p><p><b> type</b> : token</p><p><b> expression</b> : <code>Immunization.status</code></p><p><b> xpath</b> : <code>f:Immunization/f:status</code></p><p><b> xpathUsage</b> : normal</p><p><b> mulitpleOr</b> : True   (Conformance Expectation = MAY)</p><p><b> mulitpleAnd</b> : True  ( Conformance Expectation = MAY)</p>\n",
       "    \n",
       "    \n",
       "    \n",
       "    <p><b> modifier</b> : <code>missing</code>  (Conformance Expectation =  MAY)</p>\n",
       "    \n",
       "    <p><b> modifier</b> : <code>text</code>  (Conformance Expectation =  MAY)</p>\n",
       "    \n",
       "    <p><b> modifier</b> : <code>not</code>  (Conformance Expectation =  MAY)</p>\n",
       "    \n",
       "    <p><b> modifier</b> : <code>in</code>  (Conformance Expectation =  MAY)</p>\n",
       "    \n",
       "    <p><b> modifier</b> : <code>not-in</code>  (Conformance Expectation =  MAY)</p>\n",
       "    \n",
       "    <p><b> modifier</b> : <code>below</code>  (Conformance Expectation =  MAY)</p>\n",
       "    \n",
       "    <p><b> modifier</b> : <code>above</code>  (Conformance Expectation =  MAY)</p>\n",
       "    \n",
       "    <p><b> modifier</b> : <code>ofType</code>  (Conformance Expectation =  MAY)</p>\n",
       "    \n",
       "    \n",
       "    \n",
       "\t\t</div>"
      ],
      "text/plain": [
       "<IPython.core.display.HTML object>"
      ]
     },
     "metadata": {},
     "output_type": "display_data"
    },
    {
     "name": "stdout",
     "output_type": "stream",
     "text": [
      "=========Immunization,date==============\n",
      "======================= SP = us-core-immunization-date =====================\n"
     ]
    },
    {
     "data": {
      "text/html": [
       "<div xmlns=\"http://www.w3.org/1999/xhtml\"><p><b> Generated Narrative with Details</b></p><p><b> id</b> us-core-immunization-date</p><p><b> url</b> : <b> http://hl7.org/fhir/us/core/SearchParameter/us-core-immunization-date</b></p><p><b> version</b> : 4.0.0</p><p><b> name</b> : USCoreImmunizationDate</p><p><b> derivedFrom</b> : <a> http://hl7.org/fhir/SearchParameter/clinical-date</a></p><p><b> status</b> : active</p><p><b> experimental</b>  False</p><p><b> date</b> : 2019-04-29</p><p><b> publisher</b> : HL7 International - Structured Documents Work Group</p><p><b> contact</b> : http://www.hl7.org/Special/committees/structure/index.cfm</p><p><b> description</b> : Vaccination  (non)-Administration Date</p><p><b> useContext</b> : </p><p><b> jurisdiction</b> : United States of America (the) <span> (Details : {urn:iso:std:iso:3166 code 'US' = 'United States of America', given as 'United\n",
       "           States of America (the)'})</span></p><!--\n",
       "\t<p>\n",
       "\t\t<b> purpose</b> : Need to search by identifier for various infrastructural cases - mainly retrieving packages,\n",
       "         and matching as part of a chain</p>\n",
       "  --><p><b> code</b> : <code>date</code></p><p><b> base</b> :Immunization</p><p><b> type</b> : date</p><p><b> expression</b> : <code>Immunization.occurrence</code></p><p><b> xpath</b> : <code>f:Immunization/f:occurrenceDateTime</code></p><p><b> xpathUsage</b> : normal</p><p><b> mulitpleOr</b> : True   (Conformance Expectation = MAY)</p><p><b> mulitpleAnd</b> : True  ( Conformance Expectation = MAY)</p>\n",
       "    \n",
       "    \n",
       "    <p><b> comparator</b> : <code>eq</code> ( Conformance Expectation = MAY)</p>\n",
       "    \n",
       "    <p><b> comparator</b> : <code>ne</code> ( Conformance Expectation = MAY)</p>\n",
       "    \n",
       "    <p><b> comparator</b> : <code>gt</code> ( Conformance Expectation = SHALL)</p>\n",
       "    \n",
       "    <p><b> comparator</b> : <code>lt</code> ( Conformance Expectation = SHALL)</p>\n",
       "    \n",
       "    <p><b> comparator</b> : <code>le</code> ( Conformance Expectation = SHALL)</p>\n",
       "    \n",
       "    <p><b> comparator</b> : <code>sa</code> ( Conformance Expectation = MAY)</p>\n",
       "    \n",
       "    <p><b> comparator</b> : <code>eb</code> ( Conformance Expectation = MAY)</p>\n",
       "    \n",
       "    <p><b> comparator</b> : <code>ap</code> ( Conformance Expectation = MAY)</p>\n",
       "    \n",
       "    \n",
       "    \n",
       "    \n",
       "    <p><b> modifier</b> : <code>missing</code>  (Conformance Expectation =  MAY)</p>\n",
       "    \n",
       "    \n",
       "    \n",
       "\t\t</div>"
      ],
      "text/plain": [
       "<IPython.core.display.HTML object>"
      ]
     },
     "metadata": {},
     "output_type": "display_data"
    },
    {
     "name": "stdout",
     "output_type": "stream",
     "text": [
      "=========!EXAMPLE PATIENT SEARCH,patient==============\n"
     ]
    }
   ],
   "source": [
    "def sp_expectation(conf=None):\n",
    "    if not conf:\n",
    "        conf = \"MAY\"\n",
    " \n",
    "    x = X.Extension(dict(\n",
    "    url = f'http://hl7.org/fhir/StructureDefinition/capabilitystatement-expectation',\n",
    "    valueCode = conf\n",
    "    ))\n",
    "    x_dict = dict(\n",
    "    extension = [x.as_json()]\n",
    "    ) \n",
    "    return x_dict\n",
    "\n",
    "def find_base_sp(d):\n",
    "    if '!' not in d.base and d.update =='Y':\n",
    "        #print(d.base, d.code)\n",
    "        if d.code == '_id':\n",
    "            sp = SP.SearchParameter(sp_for_id.as_json())\n",
    "        else:\n",
    "            sp = next(i.resource for i in b.entry if i.resource.code == d.code and d.base in i.resource.base)       \n",
    "            sp = SP.SearchParameter(sp.as_json())\n",
    "        return sp\n",
    "\n",
    "\n",
    "sp_list=[]\n",
    "for d in data:\n",
    "        print(f'========={d.base},{d.code}==============')\n",
    "        sp = find_base_sp(d)\n",
    "        #print(type(sp))\n",
    "        if sp:\n",
    "            #print(sp.url)\n",
    "            # change id and url, publisher, and contact, draft etc\n",
    "            sp.id = f'{base_id.lower()}-{d.base.lower()}-{d.code.replace(\"_\",\"\")}'  \n",
    "            sp.extension = []\n",
    "            sp.derivedFrom =sp.url\n",
    "            sp.url = f'{canon_base}SearchParameter/{sp.id}'\n",
    "            sp.publisher = publisher\n",
    "            sp.contact = [CD.ContactDetail( {\"telecom\" : [ publisher_endpoint ] })]\n",
    "            sp.date = D.FHIRDate(f'{datetime.utcnow().isoformat()}Z')\n",
    "            sp.name = pascalcase(sp.id.replace('-','_'))\n",
    "            sp.name = sp.name.replace('UsCore','USCore')\n",
    "            sp.status = 'active'\n",
    "\n",
    "            sp.base = [d.base]\n",
    "            \n",
    "            try:\n",
    "                sp.expression = [i for i in sp.expression.split('|') if i.startswith(f'{d.base}.')][0]\n",
    "            except IndexError:\n",
    "                try:\n",
    "                    sp.expression = [i for i in sp.expression.split(' | ') if i.startswith(f'{d.base}.')][0]\n",
    "                except IndexError:\n",
    "                    sp.expression = f'{d.base}.id'\n",
    "            try:\n",
    "                sp.xpath = [i for i in sp.xpath.split('|') if i.startswith(f'f:{d.base}/')][0]\n",
    "                sp.xpath = sp.xpath.strip()\n",
    "            except IndexError:\n",
    "                try:\n",
    "                    sp.xpath = [i for i in sp.xpath.split(' | ') if i.startswith(f'f:{d.base}/')][0]\n",
    "                    sp.xpath = sp.xpath.strip()\n",
    "                except IndexError:\n",
    "                    sp.xpath = f'{d.base}.id'\n",
    "            except AttributeError:\n",
    "                pass\n",
    "            try:   \n",
    "                sp.description = [i for i in sp.description.split('\\r\\n* ') if i.startswith(f'[{d.base}]')][0]\n",
    "                sp.description = sp.description.split(': ')[1:]\n",
    "                sp.description = ''.join(sp.description)\n",
    "            except IndexError:   \n",
    "                print(sp.expression)\n",
    "            sp.expression = sp.expression.strip()\n",
    "            sp.description = sp.description.strip() \n",
    "\n",
    "  \n",
    "            #convert to dict since model can't handle primitive extensions\n",
    "            sp_dict = sp.as_json()\n",
    "\n",
    "            sp_dict['multipleOr'] = False if d.multipleOr in none_list else True\n",
    "            sp_dict['_multipleOr'] = sp_expectation(d.multipleOr_conf)\n",
    "            \n",
    "            sp_dict['multipleAnd'] = False if d.multipleAnd in none_list else True\n",
    "            sp_dict['_multipleAnd'] = sp_expectation(d.multipleAnd_conf)\n",
    "\n",
    "            try:\n",
    "                sp_dict['_modifier'] = []\n",
    "                for m in sp_dict['modifier']: # list all modifiers in sp and assign an expectation.\n",
    "                    if d.shall_modifier not in none_list and m in d.shall_modifier.split(','):\n",
    "                       sp_dict['_modifier'].append(sp_expectation('SHALL'))\n",
    "                    elif  d.should_modifier not in none_list and m in d.should_modifier.split(','):\n",
    "                        sp_dict['_modifier'].append(sp_expectation('SHOULD'))               \n",
    "                    else:\n",
    "                        sp_dict['_modifier'].append(sp_expectation('MAY'))\n",
    "            except KeyError:\n",
    "                del(sp_dict['_modifier'])\n",
    "\n",
    "            try:\n",
    "                sp_dict['_comparator'] = []\n",
    "                for m in sp_dict['comparator']: # list all comparators in sp and assign an expectation.\n",
    "                   if d.shall_comparator not in none_list and m in d.shall_comparator.split(','):\n",
    "                       sp_dict['_comparator'].append(sp_expectation('SHALL'))\n",
    "                   elif  d.should_comparator not in none_list and m in d.should_comparator.split(','):\n",
    "                        sp_dict['_comparator'].append(sp_expectation('SHOULD'))               \n",
    "                   else:\n",
    "                        sp_dict['_comparator'].append(sp_expectation('MAY'))\n",
    "            except KeyError:\n",
    "                del(sp_dict['_comparator'])\n",
    "\n",
    "            if d.shall_chain not in none_list:\n",
    "               sp_dict['chain'] = d.shall_chain.split(',')\n",
    "               sp_dict['_chain'] = [sp_expectation('SHALL') for c in d.shall_chain.split(',')]\n",
    "\n",
    "            if d.should_chain not in none_list:\n",
    "               sp_dict['chain'] = d.should_chain.split(',')\n",
    "               sp_dict['_chain'] = [sp_expectation('SHALL') for c in d.should_chain.split(',')]\n",
    "\n",
    "            print(f'======================= SP = {sp_dict[\"id\"]} =====================')\n",
    "            #print(dumps(sp_dict,indent=4))\n",
    "                  \n",
    "            #================ add narrative =======================\n",
    "            template = env.get_template(md_template[3])   \n",
    "            sp_text = template.render(sp=sp_dict)\n",
    "            #print(sp_text)     \n",
    "            display(HTML(sp_text))\n",
    "                  \n",
    "            sp_dict['text'] = {}\n",
    "            sp_dict['text']['status'] = \"generated\"\n",
    "            sp_dict['text']['div'] = sp_text      \n",
    "                  \n",
    "            # ================ save files as resource ======================\n",
    "           #save in ig_source folder\n",
    "            path = Path.cwd() / ig_source_path / 'resources' / f'searchparameter-{sp_dict[\"id\"]}.json'\n",
    "            if d.base not in skip_types:    #don't write test types  \n",
    "                path.write_text(dumps(sp_dict,indent=4))\n",
    "            sp_list.append(sp_dict)"
   ]
  },
  {
   "cell_type": "markdown",
   "metadata": {},
   "source": [
    "### Validate"
   ]
  },
  {
   "cell_type": "code",
   "execution_count": 9,
   "metadata": {},
   "outputs": [
    {
     "name": "stdout",
     "output_type": "stream",
     "text": [
      "Validating us-core-allergyintolerance-clinical-status...........\n"
     ]
    },
    {
     "data": {
      "text/html": [
       "<h1>Validation output</h1><h3>Status Code = 200</h3> <div><p><b>Operation Outcome for :Validate resource </b></p><table class=\"grid\"><tr><td><b>Severity</b></td><td><b>Location</b></td><td><b>Details</b></td><td><b>Diagnostics</b></td><td><b>Type</b></td></tr><tr><td>warning</td><td/><td>ValueSet http://hl7.org/fhir/ValueSet/narrative-status|4.0.0 not found</td><td/><td>code-invalid</td></tr><tr><td>warning</td><td/><td>ValueSet http://hl7.org/fhir/ValueSet/publication-status|4.0.0 not found</td><td/><td>code-invalid</td></tr><tr><td>warning</td><td/><td>ValueSet http://hl7.org/fhir/ValueSet/contact-point-system|4.0.0 not found</td><td/><td>code-invalid</td></tr><tr><td>warning</td><td/><td>ValueSet http://hl7.org/fhir/ValueSet/resource-types|4.0.0 not found</td><td/><td>code-invalid</td></tr><tr><td>warning</td><td/><td>ValueSet http://hl7.org/fhir/ValueSet/search-param-type|4.0.0 not found</td><td/><td>code-invalid</td></tr><tr><td>warning</td><td/><td>ValueSet http://hl7.org/fhir/ValueSet/search-xpath-usage|4.0.0 not found</td><td/><td>code-invalid</td></tr><tr><td>warning</td><td/><td>ValueSet http://hl7.org/fhir/ValueSet/search-modifier-code|4.0.0 not found</td><td/><td>code-invalid</td></tr><tr><td>warning</td><td/><td>ValueSet http://hl7.org/fhir/ValueSet/search-modifier-code|4.0.0 not found</td><td/><td>code-invalid</td></tr><tr><td>warning</td><td/><td>ValueSet http://hl7.org/fhir/ValueSet/search-modifier-code|4.0.0 not found</td><td/><td>code-invalid</td></tr><tr><td>warning</td><td/><td>ValueSet http://hl7.org/fhir/ValueSet/search-modifier-code|4.0.0 not found</td><td/><td>code-invalid</td></tr><tr><td>warning</td><td/><td>ValueSet http://hl7.org/fhir/ValueSet/search-modifier-code|4.0.0 not found</td><td/><td>code-invalid</td></tr><tr><td>warning</td><td/><td>ValueSet http://hl7.org/fhir/ValueSet/search-modifier-code|4.0.0 not found</td><td/><td>code-invalid</td></tr><tr><td>warning</td><td/><td>ValueSet http://hl7.org/fhir/ValueSet/search-modifier-code|4.0.0 not found</td><td/><td>code-invalid</td></tr><tr><td>warning</td><td/><td>ValueSet http://hl7.org/fhir/ValueSet/search-modifier-code|4.0.0 not found</td><td/><td>code-invalid</td></tr></table></div>"
      ],
      "text/plain": [
       "<IPython.core.display.HTML object>"
      ]
     },
     "metadata": {},
     "output_type": "display_data"
    },
    {
     "name": "stdout",
     "output_type": "stream",
     "text": [
      "Validating us-core-allergyintolerance-patient...........\n"
     ]
    },
    {
     "data": {
      "text/html": [
       "<h1>Validation output</h1><h3>Status Code = 200</h3> <div><p><b>Operation Outcome for :Validate resource </b></p><table class=\"grid\"><tr><td><b>Severity</b></td><td><b>Location</b></td><td><b>Details</b></td><td><b>Diagnostics</b></td><td><b>Type</b></td></tr><tr><td>warning</td><td/><td>ValueSet http://hl7.org/fhir/ValueSet/narrative-status|4.0.0 not found</td><td/><td>code-invalid</td></tr><tr><td>warning</td><td/><td>ValueSet http://hl7.org/fhir/ValueSet/publication-status|4.0.0 not found</td><td/><td>code-invalid</td></tr><tr><td>warning</td><td/><td>ValueSet http://hl7.org/fhir/ValueSet/contact-point-system|4.0.0 not found</td><td/><td>code-invalid</td></tr><tr><td>warning</td><td/><td>ValueSet http://hl7.org/fhir/ValueSet/resource-types|4.0.0 not found</td><td/><td>code-invalid</td></tr><tr><td>warning</td><td/><td>ValueSet http://hl7.org/fhir/ValueSet/search-param-type|4.0.0 not found</td><td/><td>code-invalid</td></tr><tr><td>warning</td><td/><td>ValueSet http://hl7.org/fhir/ValueSet/search-xpath-usage|4.0.0 not found</td><td/><td>code-invalid</td></tr><tr><td>warning</td><td/><td>ValueSet http://hl7.org/fhir/ValueSet/resource-types|4.0.0 not found</td><td/><td>code-invalid</td></tr><tr><td>warning</td><td/><td>ValueSet http://hl7.org/fhir/ValueSet/resource-types|4.0.0 not found</td><td/><td>code-invalid</td></tr><tr><td>warning</td><td/><td>ValueSet http://hl7.org/fhir/ValueSet/search-modifier-code|4.0.0 not found</td><td/><td>code-invalid</td></tr><tr><td>warning</td><td/><td>ValueSet http://hl7.org/fhir/ValueSet/search-modifier-code|4.0.0 not found</td><td/><td>code-invalid</td></tr><tr><td>warning</td><td/><td>ValueSet http://hl7.org/fhir/ValueSet/search-modifier-code|4.0.0 not found</td><td/><td>code-invalid</td></tr></table></div>"
      ],
      "text/plain": [
       "<IPython.core.display.HTML object>"
      ]
     },
     "metadata": {},
     "output_type": "display_data"
    },
    {
     "name": "stdout",
     "output_type": "stream",
     "text": [
      "Validating us-core-condition-category...........\n"
     ]
    },
    {
     "data": {
      "text/html": [
       "<h1>Validation output</h1><h3>Status Code = 200</h3> <div><p><b>Operation Outcome for :Validate resource </b></p><table class=\"grid\"><tr><td><b>Severity</b></td><td><b>Location</b></td><td><b>Details</b></td><td><b>Diagnostics</b></td><td><b>Type</b></td></tr><tr><td>warning</td><td/><td>ValueSet http://hl7.org/fhir/ValueSet/narrative-status|4.0.0 not found</td><td/><td>code-invalid</td></tr><tr><td>warning</td><td/><td>ValueSet http://hl7.org/fhir/ValueSet/publication-status|4.0.0 not found</td><td/><td>code-invalid</td></tr><tr><td>warning</td><td/><td>ValueSet http://hl7.org/fhir/ValueSet/contact-point-system|4.0.0 not found</td><td/><td>code-invalid</td></tr><tr><td>warning</td><td/><td>ValueSet http://hl7.org/fhir/ValueSet/resource-types|4.0.0 not found</td><td/><td>code-invalid</td></tr><tr><td>warning</td><td/><td>ValueSet http://hl7.org/fhir/ValueSet/search-param-type|4.0.0 not found</td><td/><td>code-invalid</td></tr><tr><td>warning</td><td/><td>ValueSet http://hl7.org/fhir/ValueSet/search-xpath-usage|4.0.0 not found</td><td/><td>code-invalid</td></tr><tr><td>warning</td><td/><td>ValueSet http://hl7.org/fhir/ValueSet/search-modifier-code|4.0.0 not found</td><td/><td>code-invalid</td></tr><tr><td>warning</td><td/><td>ValueSet http://hl7.org/fhir/ValueSet/search-modifier-code|4.0.0 not found</td><td/><td>code-invalid</td></tr><tr><td>warning</td><td/><td>ValueSet http://hl7.org/fhir/ValueSet/search-modifier-code|4.0.0 not found</td><td/><td>code-invalid</td></tr><tr><td>warning</td><td/><td>ValueSet http://hl7.org/fhir/ValueSet/search-modifier-code|4.0.0 not found</td><td/><td>code-invalid</td></tr><tr><td>warning</td><td/><td>ValueSet http://hl7.org/fhir/ValueSet/search-modifier-code|4.0.0 not found</td><td/><td>code-invalid</td></tr><tr><td>warning</td><td/><td>ValueSet http://hl7.org/fhir/ValueSet/search-modifier-code|4.0.0 not found</td><td/><td>code-invalid</td></tr><tr><td>warning</td><td/><td>ValueSet http://hl7.org/fhir/ValueSet/search-modifier-code|4.0.0 not found</td><td/><td>code-invalid</td></tr><tr><td>warning</td><td/><td>ValueSet http://hl7.org/fhir/ValueSet/search-modifier-code|4.0.0 not found</td><td/><td>code-invalid</td></tr></table></div>"
      ],
      "text/plain": [
       "<IPython.core.display.HTML object>"
      ]
     },
     "metadata": {},
     "output_type": "display_data"
    },
    {
     "name": "stdout",
     "output_type": "stream",
     "text": [
      "Validating us-core-condition-clinical-status...........\n"
     ]
    },
    {
     "data": {
      "text/html": [
       "<h1>Validation output</h1><h3>Status Code = 200</h3> <div><p><b>Operation Outcome for :Validate resource </b></p><table class=\"grid\"><tr><td><b>Severity</b></td><td><b>Location</b></td><td><b>Details</b></td><td><b>Diagnostics</b></td><td><b>Type</b></td></tr><tr><td>warning</td><td/><td>ValueSet http://hl7.org/fhir/ValueSet/narrative-status|4.0.0 not found</td><td/><td>code-invalid</td></tr><tr><td>warning</td><td/><td>ValueSet http://hl7.org/fhir/ValueSet/publication-status|4.0.0 not found</td><td/><td>code-invalid</td></tr><tr><td>warning</td><td/><td>ValueSet http://hl7.org/fhir/ValueSet/contact-point-system|4.0.0 not found</td><td/><td>code-invalid</td></tr><tr><td>warning</td><td/><td>ValueSet http://hl7.org/fhir/ValueSet/resource-types|4.0.0 not found</td><td/><td>code-invalid</td></tr><tr><td>warning</td><td/><td>ValueSet http://hl7.org/fhir/ValueSet/search-param-type|4.0.0 not found</td><td/><td>code-invalid</td></tr><tr><td>warning</td><td/><td>ValueSet http://hl7.org/fhir/ValueSet/search-xpath-usage|4.0.0 not found</td><td/><td>code-invalid</td></tr><tr><td>warning</td><td/><td>ValueSet http://hl7.org/fhir/ValueSet/search-modifier-code|4.0.0 not found</td><td/><td>code-invalid</td></tr><tr><td>warning</td><td/><td>ValueSet http://hl7.org/fhir/ValueSet/search-modifier-code|4.0.0 not found</td><td/><td>code-invalid</td></tr><tr><td>warning</td><td/><td>ValueSet http://hl7.org/fhir/ValueSet/search-modifier-code|4.0.0 not found</td><td/><td>code-invalid</td></tr><tr><td>warning</td><td/><td>ValueSet http://hl7.org/fhir/ValueSet/search-modifier-code|4.0.0 not found</td><td/><td>code-invalid</td></tr><tr><td>warning</td><td/><td>ValueSet http://hl7.org/fhir/ValueSet/search-modifier-code|4.0.0 not found</td><td/><td>code-invalid</td></tr><tr><td>warning</td><td/><td>ValueSet http://hl7.org/fhir/ValueSet/search-modifier-code|4.0.0 not found</td><td/><td>code-invalid</td></tr><tr><td>warning</td><td/><td>ValueSet http://hl7.org/fhir/ValueSet/search-modifier-code|4.0.0 not found</td><td/><td>code-invalid</td></tr><tr><td>warning</td><td/><td>ValueSet http://hl7.org/fhir/ValueSet/search-modifier-code|4.0.0 not found</td><td/><td>code-invalid</td></tr></table></div>"
      ],
      "text/plain": [
       "<IPython.core.display.HTML object>"
      ]
     },
     "metadata": {},
     "output_type": "display_data"
    },
    {
     "name": "stdout",
     "output_type": "stream",
     "text": [
      "Validating us-core-condition-patient...........\n"
     ]
    },
    {
     "data": {
      "text/html": [
       "<h1>Validation output</h1><h3>Status Code = 200</h3> <div><p><b>Operation Outcome for :Validate resource </b></p><table class=\"grid\"><tr><td><b>Severity</b></td><td><b>Location</b></td><td><b>Details</b></td><td><b>Diagnostics</b></td><td><b>Type</b></td></tr><tr><td>warning</td><td/><td>ValueSet http://hl7.org/fhir/ValueSet/narrative-status|4.0.0 not found</td><td/><td>code-invalid</td></tr><tr><td>warning</td><td/><td>ValueSet http://hl7.org/fhir/ValueSet/publication-status|4.0.0 not found</td><td/><td>code-invalid</td></tr><tr><td>warning</td><td/><td>ValueSet http://hl7.org/fhir/ValueSet/contact-point-system|4.0.0 not found</td><td/><td>code-invalid</td></tr><tr><td>warning</td><td/><td>ValueSet http://hl7.org/fhir/ValueSet/resource-types|4.0.0 not found</td><td/><td>code-invalid</td></tr><tr><td>warning</td><td/><td>ValueSet http://hl7.org/fhir/ValueSet/search-param-type|4.0.0 not found</td><td/><td>code-invalid</td></tr><tr><td>warning</td><td/><td>ValueSet http://hl7.org/fhir/ValueSet/search-xpath-usage|4.0.0 not found</td><td/><td>code-invalid</td></tr><tr><td>warning</td><td/><td>ValueSet http://hl7.org/fhir/ValueSet/resource-types|4.0.0 not found</td><td/><td>code-invalid</td></tr><tr><td>warning</td><td/><td>ValueSet http://hl7.org/fhir/ValueSet/resource-types|4.0.0 not found</td><td/><td>code-invalid</td></tr><tr><td>warning</td><td/><td>ValueSet http://hl7.org/fhir/ValueSet/search-modifier-code|4.0.0 not found</td><td/><td>code-invalid</td></tr><tr><td>warning</td><td/><td>ValueSet http://hl7.org/fhir/ValueSet/search-modifier-code|4.0.0 not found</td><td/><td>code-invalid</td></tr><tr><td>warning</td><td/><td>ValueSet http://hl7.org/fhir/ValueSet/search-modifier-code|4.0.0 not found</td><td/><td>code-invalid</td></tr></table></div>"
      ],
      "text/plain": [
       "<IPython.core.display.HTML object>"
      ]
     },
     "metadata": {},
     "output_type": "display_data"
    },
    {
     "name": "stdout",
     "output_type": "stream",
     "text": [
      "Validating us-core-encounter-id...........\n"
     ]
    },
    {
     "data": {
      "text/html": [
       "<h1>Validation output</h1><h3>Status Code = 200</h3> <div><p><b>Operation Outcome for :Validate resource </b></p><table class=\"grid\"><tr><td><b>Severity</b></td><td><b>Location</b></td><td><b>Details</b></td><td><b>Diagnostics</b></td><td><b>Type</b></td></tr><tr><td>warning</td><td/><td>ValueSet http://hl7.org/fhir/ValueSet/narrative-status|4.0.0 not found</td><td/><td>code-invalid</td></tr><tr><td>warning</td><td/><td>ValueSet http://hl7.org/fhir/ValueSet/publication-status|4.0.0 not found</td><td/><td>code-invalid</td></tr><tr><td>warning</td><td/><td>ValueSet http://hl7.org/fhir/ValueSet/contact-point-system|4.0.0 not found</td><td/><td>code-invalid</td></tr><tr><td>warning</td><td/><td>ValueSet http://hl7.org/fhir/ValueSet/resource-types|4.0.0 not found</td><td/><td>code-invalid</td></tr><tr><td>warning</td><td/><td>ValueSet http://hl7.org/fhir/ValueSet/search-param-type|4.0.0 not found</td><td/><td>code-invalid</td></tr><tr><td>warning</td><td/><td>ValueSet http://hl7.org/fhir/ValueSet/search-xpath-usage|4.0.0 not found</td><td/><td>code-invalid</td></tr><tr><td>warning</td><td/><td>ValueSet http://hl7.org/fhir/ValueSet/search-modifier-code|4.0.0 not found</td><td/><td>code-invalid</td></tr><tr><td>warning</td><td/><td>ValueSet http://hl7.org/fhir/ValueSet/search-modifier-code|4.0.0 not found</td><td/><td>code-invalid</td></tr><tr><td>warning</td><td/><td>ValueSet http://hl7.org/fhir/ValueSet/search-modifier-code|4.0.0 not found</td><td/><td>code-invalid</td></tr><tr><td>warning</td><td/><td>ValueSet http://hl7.org/fhir/ValueSet/search-modifier-code|4.0.0 not found</td><td/><td>code-invalid</td></tr><tr><td>warning</td><td/><td>ValueSet http://hl7.org/fhir/ValueSet/search-modifier-code|4.0.0 not found</td><td/><td>code-invalid</td></tr><tr><td>warning</td><td/><td>ValueSet http://hl7.org/fhir/ValueSet/search-modifier-code|4.0.0 not found</td><td/><td>code-invalid</td></tr><tr><td>warning</td><td/><td>ValueSet http://hl7.org/fhir/ValueSet/search-modifier-code|4.0.0 not found</td><td/><td>code-invalid</td></tr><tr><td>warning</td><td/><td>ValueSet http://hl7.org/fhir/ValueSet/search-modifier-code|4.0.0 not found</td><td/><td>code-invalid</td></tr></table></div>"
      ],
      "text/plain": [
       "<IPython.core.display.HTML object>"
      ]
     },
     "metadata": {},
     "output_type": "display_data"
    },
    {
     "name": "stdout",
     "output_type": "stream",
     "text": [
      "Validating us-core-encounter-class...........\n"
     ]
    },
    {
     "data": {
      "text/html": [
       "<h1>Validation output</h1><h3>Status Code = 200</h3> <div><p><b>Operation Outcome for :Validate resource </b></p><table class=\"grid\"><tr><td><b>Severity</b></td><td><b>Location</b></td><td><b>Details</b></td><td><b>Diagnostics</b></td><td><b>Type</b></td></tr><tr><td>warning</td><td/><td>ValueSet http://hl7.org/fhir/ValueSet/narrative-status|4.0.0 not found</td><td/><td>code-invalid</td></tr><tr><td>warning</td><td/><td>ValueSet http://hl7.org/fhir/ValueSet/publication-status|4.0.0 not found</td><td/><td>code-invalid</td></tr><tr><td>warning</td><td/><td>ValueSet http://hl7.org/fhir/ValueSet/contact-point-system|4.0.0 not found</td><td/><td>code-invalid</td></tr><tr><td>warning</td><td/><td>ValueSet http://hl7.org/fhir/ValueSet/resource-types|4.0.0 not found</td><td/><td>code-invalid</td></tr><tr><td>warning</td><td/><td>ValueSet http://hl7.org/fhir/ValueSet/search-param-type|4.0.0 not found</td><td/><td>code-invalid</td></tr><tr><td>warning</td><td/><td>ValueSet http://hl7.org/fhir/ValueSet/search-xpath-usage|4.0.0 not found</td><td/><td>code-invalid</td></tr><tr><td>warning</td><td/><td>ValueSet http://hl7.org/fhir/ValueSet/search-modifier-code|4.0.0 not found</td><td/><td>code-invalid</td></tr><tr><td>warning</td><td/><td>ValueSet http://hl7.org/fhir/ValueSet/search-modifier-code|4.0.0 not found</td><td/><td>code-invalid</td></tr><tr><td>warning</td><td/><td>ValueSet http://hl7.org/fhir/ValueSet/search-modifier-code|4.0.0 not found</td><td/><td>code-invalid</td></tr><tr><td>warning</td><td/><td>ValueSet http://hl7.org/fhir/ValueSet/search-modifier-code|4.0.0 not found</td><td/><td>code-invalid</td></tr><tr><td>warning</td><td/><td>ValueSet http://hl7.org/fhir/ValueSet/search-modifier-code|4.0.0 not found</td><td/><td>code-invalid</td></tr><tr><td>warning</td><td/><td>ValueSet http://hl7.org/fhir/ValueSet/search-modifier-code|4.0.0 not found</td><td/><td>code-invalid</td></tr><tr><td>warning</td><td/><td>ValueSet http://hl7.org/fhir/ValueSet/search-modifier-code|4.0.0 not found</td><td/><td>code-invalid</td></tr><tr><td>warning</td><td/><td>ValueSet http://hl7.org/fhir/ValueSet/search-modifier-code|4.0.0 not found</td><td/><td>code-invalid</td></tr></table></div>"
      ],
      "text/plain": [
       "<IPython.core.display.HTML object>"
      ]
     },
     "metadata": {},
     "output_type": "display_data"
    },
    {
     "name": "stdout",
     "output_type": "stream",
     "text": [
      "Validating us-core-encounter-date...........\n"
     ]
    },
    {
     "data": {
      "text/html": [
       "<h1>Validation output</h1><h3>Status Code = 200</h3> <div><p><b>Operation Outcome for :Validate resource </b></p><table class=\"grid\"><tr><td><b>Severity</b></td><td><b>Location</b></td><td><b>Details</b></td><td><b>Diagnostics</b></td><td><b>Type</b></td></tr><tr><td>warning</td><td/><td>ValueSet http://hl7.org/fhir/ValueSet/narrative-status|4.0.0 not found</td><td/><td>code-invalid</td></tr><tr><td>warning</td><td/><td>ValueSet http://hl7.org/fhir/ValueSet/publication-status|4.0.0 not found</td><td/><td>code-invalid</td></tr><tr><td>warning</td><td/><td>ValueSet http://hl7.org/fhir/ValueSet/contact-point-system|4.0.0 not found</td><td/><td>code-invalid</td></tr><tr><td>warning</td><td/><td>ValueSet http://hl7.org/fhir/ValueSet/resource-types|4.0.0 not found</td><td/><td>code-invalid</td></tr><tr><td>warning</td><td/><td>ValueSet http://hl7.org/fhir/ValueSet/search-param-type|4.0.0 not found</td><td/><td>code-invalid</td></tr><tr><td>warning</td><td/><td>ValueSet http://hl7.org/fhir/ValueSet/search-xpath-usage|4.0.0 not found</td><td/><td>code-invalid</td></tr><tr><td>warning</td><td/><td>ValueSet http://hl7.org/fhir/ValueSet/search-comparator|4.0.0 not found</td><td/><td>code-invalid</td></tr><tr><td>warning</td><td/><td>ValueSet http://hl7.org/fhir/ValueSet/search-comparator|4.0.0 not found</td><td/><td>code-invalid</td></tr><tr><td>warning</td><td/><td>ValueSet http://hl7.org/fhir/ValueSet/search-comparator|4.0.0 not found</td><td/><td>code-invalid</td></tr><tr><td>warning</td><td/><td>ValueSet http://hl7.org/fhir/ValueSet/search-comparator|4.0.0 not found</td><td/><td>code-invalid</td></tr><tr><td>warning</td><td/><td>ValueSet http://hl7.org/fhir/ValueSet/search-comparator|4.0.0 not found</td><td/><td>code-invalid</td></tr><tr><td>warning</td><td/><td>ValueSet http://hl7.org/fhir/ValueSet/search-comparator|4.0.0 not found</td><td/><td>code-invalid</td></tr><tr><td>warning</td><td/><td>ValueSet http://hl7.org/fhir/ValueSet/search-comparator|4.0.0 not found</td><td/><td>code-invalid</td></tr><tr><td>warning</td><td/><td>ValueSet http://hl7.org/fhir/ValueSet/search-comparator|4.0.0 not found</td><td/><td>code-invalid</td></tr><tr><td>warning</td><td/><td>ValueSet http://hl7.org/fhir/ValueSet/search-modifier-code|4.0.0 not found</td><td/><td>code-invalid</td></tr></table></div>"
      ],
      "text/plain": [
       "<IPython.core.display.HTML object>"
      ]
     },
     "metadata": {},
     "output_type": "display_data"
    },
    {
     "name": "stdout",
     "output_type": "stream",
     "text": [
      "Validating us-core-encounter-identifier...........\n"
     ]
    },
    {
     "data": {
      "text/html": [
       "<h1>Validation output</h1><h3>Status Code = 200</h3> <div><p><b>Operation Outcome for :Validate resource </b></p><table class=\"grid\"><tr><td><b>Severity</b></td><td><b>Location</b></td><td><b>Details</b></td><td><b>Diagnostics</b></td><td><b>Type</b></td></tr><tr><td>warning</td><td/><td>ValueSet http://hl7.org/fhir/ValueSet/narrative-status|4.0.0 not found</td><td/><td>code-invalid</td></tr><tr><td>warning</td><td/><td>ValueSet http://hl7.org/fhir/ValueSet/publication-status|4.0.0 not found</td><td/><td>code-invalid</td></tr><tr><td>warning</td><td/><td>ValueSet http://hl7.org/fhir/ValueSet/contact-point-system|4.0.0 not found</td><td/><td>code-invalid</td></tr><tr><td>warning</td><td/><td>ValueSet http://hl7.org/fhir/ValueSet/resource-types|4.0.0 not found</td><td/><td>code-invalid</td></tr><tr><td>warning</td><td/><td>ValueSet http://hl7.org/fhir/ValueSet/search-param-type|4.0.0 not found</td><td/><td>code-invalid</td></tr><tr><td>warning</td><td/><td>ValueSet http://hl7.org/fhir/ValueSet/search-xpath-usage|4.0.0 not found</td><td/><td>code-invalid</td></tr><tr><td>warning</td><td/><td>ValueSet http://hl7.org/fhir/ValueSet/search-modifier-code|4.0.0 not found</td><td/><td>code-invalid</td></tr><tr><td>warning</td><td/><td>ValueSet http://hl7.org/fhir/ValueSet/search-modifier-code|4.0.0 not found</td><td/><td>code-invalid</td></tr><tr><td>warning</td><td/><td>ValueSet http://hl7.org/fhir/ValueSet/search-modifier-code|4.0.0 not found</td><td/><td>code-invalid</td></tr><tr><td>warning</td><td/><td>ValueSet http://hl7.org/fhir/ValueSet/search-modifier-code|4.0.0 not found</td><td/><td>code-invalid</td></tr><tr><td>warning</td><td/><td>ValueSet http://hl7.org/fhir/ValueSet/search-modifier-code|4.0.0 not found</td><td/><td>code-invalid</td></tr><tr><td>warning</td><td/><td>ValueSet http://hl7.org/fhir/ValueSet/search-modifier-code|4.0.0 not found</td><td/><td>code-invalid</td></tr><tr><td>warning</td><td/><td>ValueSet http://hl7.org/fhir/ValueSet/search-modifier-code|4.0.0 not found</td><td/><td>code-invalid</td></tr><tr><td>warning</td><td/><td>ValueSet http://hl7.org/fhir/ValueSet/search-modifier-code|4.0.0 not found</td><td/><td>code-invalid</td></tr></table></div>"
      ],
      "text/plain": [
       "<IPython.core.display.HTML object>"
      ]
     },
     "metadata": {},
     "output_type": "display_data"
    },
    {
     "name": "stdout",
     "output_type": "stream",
     "text": [
      "Validating us-core-encounter-patient...........\n"
     ]
    },
    {
     "data": {
      "text/html": [
       "<h1>Validation output</h1><h3>Status Code = 200</h3> <div><p><b>Operation Outcome for :Validate resource </b></p><table class=\"grid\"><tr><td><b>Severity</b></td><td><b>Location</b></td><td><b>Details</b></td><td><b>Diagnostics</b></td><td><b>Type</b></td></tr><tr><td>warning</td><td/><td>ValueSet http://hl7.org/fhir/ValueSet/narrative-status|4.0.0 not found</td><td/><td>code-invalid</td></tr><tr><td>warning</td><td/><td>ValueSet http://hl7.org/fhir/ValueSet/publication-status|4.0.0 not found</td><td/><td>code-invalid</td></tr><tr><td>warning</td><td/><td>ValueSet http://hl7.org/fhir/ValueSet/contact-point-system|4.0.0 not found</td><td/><td>code-invalid</td></tr><tr><td>warning</td><td/><td>ValueSet http://hl7.org/fhir/ValueSet/resource-types|4.0.0 not found</td><td/><td>code-invalid</td></tr><tr><td>warning</td><td/><td>ValueSet http://hl7.org/fhir/ValueSet/search-param-type|4.0.0 not found</td><td/><td>code-invalid</td></tr><tr><td>warning</td><td/><td>ValueSet http://hl7.org/fhir/ValueSet/search-xpath-usage|4.0.0 not found</td><td/><td>code-invalid</td></tr><tr><td>warning</td><td/><td>ValueSet http://hl7.org/fhir/ValueSet/resource-types|4.0.0 not found</td><td/><td>code-invalid</td></tr><tr><td>warning</td><td/><td>ValueSet http://hl7.org/fhir/ValueSet/resource-types|4.0.0 not found</td><td/><td>code-invalid</td></tr><tr><td>warning</td><td/><td>ValueSet http://hl7.org/fhir/ValueSet/search-modifier-code|4.0.0 not found</td><td/><td>code-invalid</td></tr><tr><td>warning</td><td/><td>ValueSet http://hl7.org/fhir/ValueSet/search-modifier-code|4.0.0 not found</td><td/><td>code-invalid</td></tr><tr><td>warning</td><td/><td>ValueSet http://hl7.org/fhir/ValueSet/search-modifier-code|4.0.0 not found</td><td/><td>code-invalid</td></tr></table></div>"
      ],
      "text/plain": [
       "<IPython.core.display.HTML object>"
      ]
     },
     "metadata": {},
     "output_type": "display_data"
    },
    {
     "name": "stdout",
     "output_type": "stream",
     "text": [
      "Validating us-core-encounter-status...........\n"
     ]
    },
    {
     "data": {
      "text/html": [
       "<h1>Validation output</h1><h3>Status Code = 200</h3> <div><p><b>Operation Outcome for :Validate resource </b></p><table class=\"grid\"><tr><td><b>Severity</b></td><td><b>Location</b></td><td><b>Details</b></td><td><b>Diagnostics</b></td><td><b>Type</b></td></tr><tr><td>warning</td><td/><td>ValueSet http://hl7.org/fhir/ValueSet/narrative-status|4.0.0 not found</td><td/><td>code-invalid</td></tr><tr><td>warning</td><td/><td>ValueSet http://hl7.org/fhir/ValueSet/publication-status|4.0.0 not found</td><td/><td>code-invalid</td></tr><tr><td>warning</td><td/><td>ValueSet http://hl7.org/fhir/ValueSet/contact-point-system|4.0.0 not found</td><td/><td>code-invalid</td></tr><tr><td>warning</td><td/><td>ValueSet http://hl7.org/fhir/ValueSet/resource-types|4.0.0 not found</td><td/><td>code-invalid</td></tr><tr><td>warning</td><td/><td>ValueSet http://hl7.org/fhir/ValueSet/search-param-type|4.0.0 not found</td><td/><td>code-invalid</td></tr><tr><td>warning</td><td/><td>ValueSet http://hl7.org/fhir/ValueSet/search-xpath-usage|4.0.0 not found</td><td/><td>code-invalid</td></tr><tr><td>warning</td><td/><td>ValueSet http://hl7.org/fhir/ValueSet/search-modifier-code|4.0.0 not found</td><td/><td>code-invalid</td></tr><tr><td>warning</td><td/><td>ValueSet http://hl7.org/fhir/ValueSet/search-modifier-code|4.0.0 not found</td><td/><td>code-invalid</td></tr><tr><td>warning</td><td/><td>ValueSet http://hl7.org/fhir/ValueSet/search-modifier-code|4.0.0 not found</td><td/><td>code-invalid</td></tr><tr><td>warning</td><td/><td>ValueSet http://hl7.org/fhir/ValueSet/search-modifier-code|4.0.0 not found</td><td/><td>code-invalid</td></tr><tr><td>warning</td><td/><td>ValueSet http://hl7.org/fhir/ValueSet/search-modifier-code|4.0.0 not found</td><td/><td>code-invalid</td></tr><tr><td>warning</td><td/><td>ValueSet http://hl7.org/fhir/ValueSet/search-modifier-code|4.0.0 not found</td><td/><td>code-invalid</td></tr><tr><td>warning</td><td/><td>ValueSet http://hl7.org/fhir/ValueSet/search-modifier-code|4.0.0 not found</td><td/><td>code-invalid</td></tr><tr><td>warning</td><td/><td>ValueSet http://hl7.org/fhir/ValueSet/search-modifier-code|4.0.0 not found</td><td/><td>code-invalid</td></tr></table></div>"
      ],
      "text/plain": [
       "<IPython.core.display.HTML object>"
      ]
     },
     "metadata": {},
     "output_type": "display_data"
    },
    {
     "name": "stdout",
     "output_type": "stream",
     "text": [
      "Validating us-core-encounter-type...........\n"
     ]
    },
    {
     "data": {
      "text/html": [
       "<h1>Validation output</h1><h3>Status Code = 200</h3> <div><p><b>Operation Outcome for :Validate resource </b></p><table class=\"grid\"><tr><td><b>Severity</b></td><td><b>Location</b></td><td><b>Details</b></td><td><b>Diagnostics</b></td><td><b>Type</b></td></tr><tr><td>warning</td><td/><td>ValueSet http://hl7.org/fhir/ValueSet/narrative-status|4.0.0 not found</td><td/><td>code-invalid</td></tr><tr><td>warning</td><td/><td>ValueSet http://hl7.org/fhir/ValueSet/publication-status|4.0.0 not found</td><td/><td>code-invalid</td></tr><tr><td>warning</td><td/><td>ValueSet http://hl7.org/fhir/ValueSet/contact-point-system|4.0.0 not found</td><td/><td>code-invalid</td></tr><tr><td>warning</td><td/><td>ValueSet http://hl7.org/fhir/ValueSet/resource-types|4.0.0 not found</td><td/><td>code-invalid</td></tr><tr><td>warning</td><td/><td>ValueSet http://hl7.org/fhir/ValueSet/search-param-type|4.0.0 not found</td><td/><td>code-invalid</td></tr><tr><td>warning</td><td/><td>ValueSet http://hl7.org/fhir/ValueSet/search-xpath-usage|4.0.0 not found</td><td/><td>code-invalid</td></tr><tr><td>warning</td><td/><td>ValueSet http://hl7.org/fhir/ValueSet/search-modifier-code|4.0.0 not found</td><td/><td>code-invalid</td></tr><tr><td>warning</td><td/><td>ValueSet http://hl7.org/fhir/ValueSet/search-modifier-code|4.0.0 not found</td><td/><td>code-invalid</td></tr><tr><td>warning</td><td/><td>ValueSet http://hl7.org/fhir/ValueSet/search-modifier-code|4.0.0 not found</td><td/><td>code-invalid</td></tr><tr><td>warning</td><td/><td>ValueSet http://hl7.org/fhir/ValueSet/search-modifier-code|4.0.0 not found</td><td/><td>code-invalid</td></tr><tr><td>warning</td><td/><td>ValueSet http://hl7.org/fhir/ValueSet/search-modifier-code|4.0.0 not found</td><td/><td>code-invalid</td></tr><tr><td>warning</td><td/><td>ValueSet http://hl7.org/fhir/ValueSet/search-modifier-code|4.0.0 not found</td><td/><td>code-invalid</td></tr><tr><td>warning</td><td/><td>ValueSet http://hl7.org/fhir/ValueSet/search-modifier-code|4.0.0 not found</td><td/><td>code-invalid</td></tr><tr><td>warning</td><td/><td>ValueSet http://hl7.org/fhir/ValueSet/search-modifier-code|4.0.0 not found</td><td/><td>code-invalid</td></tr></table></div>"
      ],
      "text/plain": [
       "<IPython.core.display.HTML object>"
      ]
     },
     "metadata": {},
     "output_type": "display_data"
    },
    {
     "name": "stdout",
     "output_type": "stream",
     "text": [
      "Validating us-core-patient-id...........\n"
     ]
    },
    {
     "data": {
      "text/html": [
       "<h1>Validation output</h1><h3>Status Code = 200</h3> <div><p><b>Operation Outcome for :Validate resource </b></p><table class=\"grid\"><tr><td><b>Severity</b></td><td><b>Location</b></td><td><b>Details</b></td><td><b>Diagnostics</b></td><td><b>Type</b></td></tr><tr><td>warning</td><td/><td>ValueSet http://hl7.org/fhir/ValueSet/narrative-status|4.0.0 not found</td><td/><td>code-invalid</td></tr><tr><td>warning</td><td/><td>ValueSet http://hl7.org/fhir/ValueSet/publication-status|4.0.0 not found</td><td/><td>code-invalid</td></tr><tr><td>warning</td><td/><td>ValueSet http://hl7.org/fhir/ValueSet/contact-point-system|4.0.0 not found</td><td/><td>code-invalid</td></tr><tr><td>warning</td><td/><td>ValueSet http://hl7.org/fhir/ValueSet/resource-types|4.0.0 not found</td><td/><td>code-invalid</td></tr><tr><td>warning</td><td/><td>ValueSet http://hl7.org/fhir/ValueSet/search-param-type|4.0.0 not found</td><td/><td>code-invalid</td></tr><tr><td>warning</td><td/><td>ValueSet http://hl7.org/fhir/ValueSet/search-xpath-usage|4.0.0 not found</td><td/><td>code-invalid</td></tr><tr><td>warning</td><td/><td>ValueSet http://hl7.org/fhir/ValueSet/search-modifier-code|4.0.0 not found</td><td/><td>code-invalid</td></tr><tr><td>warning</td><td/><td>ValueSet http://hl7.org/fhir/ValueSet/search-modifier-code|4.0.0 not found</td><td/><td>code-invalid</td></tr><tr><td>warning</td><td/><td>ValueSet http://hl7.org/fhir/ValueSet/search-modifier-code|4.0.0 not found</td><td/><td>code-invalid</td></tr><tr><td>warning</td><td/><td>ValueSet http://hl7.org/fhir/ValueSet/search-modifier-code|4.0.0 not found</td><td/><td>code-invalid</td></tr><tr><td>warning</td><td/><td>ValueSet http://hl7.org/fhir/ValueSet/search-modifier-code|4.0.0 not found</td><td/><td>code-invalid</td></tr><tr><td>warning</td><td/><td>ValueSet http://hl7.org/fhir/ValueSet/search-modifier-code|4.0.0 not found</td><td/><td>code-invalid</td></tr><tr><td>warning</td><td/><td>ValueSet http://hl7.org/fhir/ValueSet/search-modifier-code|4.0.0 not found</td><td/><td>code-invalid</td></tr><tr><td>warning</td><td/><td>ValueSet http://hl7.org/fhir/ValueSet/search-modifier-code|4.0.0 not found</td><td/><td>code-invalid</td></tr></table></div>"
      ],
      "text/plain": [
       "<IPython.core.display.HTML object>"
      ]
     },
     "metadata": {},
     "output_type": "display_data"
    },
    {
     "name": "stdout",
     "output_type": "stream",
     "text": [
      "Validating us-core-patient-birthdate...........\n"
     ]
    },
    {
     "data": {
      "text/html": [
       "<h1>Validation output</h1><h3>Status Code = 200</h3> <div><p><b>Operation Outcome for :Validate resource </b></p><table class=\"grid\"><tr><td><b>Severity</b></td><td><b>Location</b></td><td><b>Details</b></td><td><b>Diagnostics</b></td><td><b>Type</b></td></tr><tr><td>warning</td><td/><td>ValueSet http://hl7.org/fhir/ValueSet/narrative-status|4.0.0 not found</td><td/><td>code-invalid</td></tr><tr><td>warning</td><td/><td>ValueSet http://hl7.org/fhir/ValueSet/publication-status|4.0.0 not found</td><td/><td>code-invalid</td></tr><tr><td>warning</td><td/><td>ValueSet http://hl7.org/fhir/ValueSet/contact-point-system|4.0.0 not found</td><td/><td>code-invalid</td></tr><tr><td>warning</td><td/><td>ValueSet http://hl7.org/fhir/ValueSet/resource-types|4.0.0 not found</td><td/><td>code-invalid</td></tr><tr><td>warning</td><td/><td>ValueSet http://hl7.org/fhir/ValueSet/search-param-type|4.0.0 not found</td><td/><td>code-invalid</td></tr><tr><td>warning</td><td/><td>ValueSet http://hl7.org/fhir/ValueSet/search-xpath-usage|4.0.0 not found</td><td/><td>code-invalid</td></tr><tr><td>warning</td><td/><td>ValueSet http://hl7.org/fhir/ValueSet/search-comparator|4.0.0 not found</td><td/><td>code-invalid</td></tr><tr><td>warning</td><td/><td>ValueSet http://hl7.org/fhir/ValueSet/search-comparator|4.0.0 not found</td><td/><td>code-invalid</td></tr><tr><td>warning</td><td/><td>ValueSet http://hl7.org/fhir/ValueSet/search-comparator|4.0.0 not found</td><td/><td>code-invalid</td></tr><tr><td>warning</td><td/><td>ValueSet http://hl7.org/fhir/ValueSet/search-comparator|4.0.0 not found</td><td/><td>code-invalid</td></tr><tr><td>warning</td><td/><td>ValueSet http://hl7.org/fhir/ValueSet/search-comparator|4.0.0 not found</td><td/><td>code-invalid</td></tr><tr><td>warning</td><td/><td>ValueSet http://hl7.org/fhir/ValueSet/search-comparator|4.0.0 not found</td><td/><td>code-invalid</td></tr><tr><td>warning</td><td/><td>ValueSet http://hl7.org/fhir/ValueSet/search-comparator|4.0.0 not found</td><td/><td>code-invalid</td></tr><tr><td>warning</td><td/><td>ValueSet http://hl7.org/fhir/ValueSet/search-comparator|4.0.0 not found</td><td/><td>code-invalid</td></tr><tr><td>warning</td><td/><td>ValueSet http://hl7.org/fhir/ValueSet/search-modifier-code|4.0.0 not found</td><td/><td>code-invalid</td></tr></table></div>"
      ],
      "text/plain": [
       "<IPython.core.display.HTML object>"
      ]
     },
     "metadata": {},
     "output_type": "display_data"
    },
    {
     "name": "stdout",
     "output_type": "stream",
     "text": [
      "Validating us-core-patient-family...........\n"
     ]
    },
    {
     "data": {
      "text/html": [
       "<h1>Validation output</h1><h3>Status Code = 200</h3> <div><p><b>Operation Outcome for :Validate resource </b></p><table class=\"grid\"><tr><td><b>Severity</b></td><td><b>Location</b></td><td><b>Details</b></td><td><b>Diagnostics</b></td><td><b>Type</b></td></tr><tr><td>warning</td><td/><td>ValueSet http://hl7.org/fhir/ValueSet/narrative-status|4.0.0 not found</td><td/><td>code-invalid</td></tr><tr><td>warning</td><td/><td>ValueSet http://hl7.org/fhir/ValueSet/publication-status|4.0.0 not found</td><td/><td>code-invalid</td></tr><tr><td>warning</td><td/><td>ValueSet http://hl7.org/fhir/ValueSet/contact-point-system|4.0.0 not found</td><td/><td>code-invalid</td></tr><tr><td>warning</td><td/><td>ValueSet http://hl7.org/fhir/ValueSet/resource-types|4.0.0 not found</td><td/><td>code-invalid</td></tr><tr><td>warning</td><td/><td>ValueSet http://hl7.org/fhir/ValueSet/search-param-type|4.0.0 not found</td><td/><td>code-invalid</td></tr><tr><td>warning</td><td/><td>ValueSet http://hl7.org/fhir/ValueSet/search-xpath-usage|4.0.0 not found</td><td/><td>code-invalid</td></tr><tr><td>warning</td><td/><td>ValueSet http://hl7.org/fhir/ValueSet/search-modifier-code|4.0.0 not found</td><td/><td>code-invalid</td></tr><tr><td>warning</td><td/><td>ValueSet http://hl7.org/fhir/ValueSet/search-modifier-code|4.0.0 not found</td><td/><td>code-invalid</td></tr><tr><td>warning</td><td/><td>ValueSet http://hl7.org/fhir/ValueSet/search-modifier-code|4.0.0 not found</td><td/><td>code-invalid</td></tr></table></div>"
      ],
      "text/plain": [
       "<IPython.core.display.HTML object>"
      ]
     },
     "metadata": {},
     "output_type": "display_data"
    },
    {
     "name": "stdout",
     "output_type": "stream",
     "text": [
      "Validating us-core-patient-gender...........\n"
     ]
    },
    {
     "data": {
      "text/html": [
       "<h1>Validation output</h1><h3>Status Code = 200</h3> <div><p><b>Operation Outcome for :Validate resource </b></p><table class=\"grid\"><tr><td><b>Severity</b></td><td><b>Location</b></td><td><b>Details</b></td><td><b>Diagnostics</b></td><td><b>Type</b></td></tr><tr><td>warning</td><td/><td>ValueSet http://hl7.org/fhir/ValueSet/narrative-status|4.0.0 not found</td><td/><td>code-invalid</td></tr><tr><td>warning</td><td/><td>ValueSet http://hl7.org/fhir/ValueSet/publication-status|4.0.0 not found</td><td/><td>code-invalid</td></tr><tr><td>warning</td><td/><td>ValueSet http://hl7.org/fhir/ValueSet/contact-point-system|4.0.0 not found</td><td/><td>code-invalid</td></tr><tr><td>warning</td><td/><td>ValueSet http://hl7.org/fhir/ValueSet/resource-types|4.0.0 not found</td><td/><td>code-invalid</td></tr><tr><td>warning</td><td/><td>ValueSet http://hl7.org/fhir/ValueSet/search-param-type|4.0.0 not found</td><td/><td>code-invalid</td></tr><tr><td>warning</td><td/><td>ValueSet http://hl7.org/fhir/ValueSet/search-xpath-usage|4.0.0 not found</td><td/><td>code-invalid</td></tr><tr><td>warning</td><td/><td>ValueSet http://hl7.org/fhir/ValueSet/search-modifier-code|4.0.0 not found</td><td/><td>code-invalid</td></tr><tr><td>warning</td><td/><td>ValueSet http://hl7.org/fhir/ValueSet/search-modifier-code|4.0.0 not found</td><td/><td>code-invalid</td></tr><tr><td>warning</td><td/><td>ValueSet http://hl7.org/fhir/ValueSet/search-modifier-code|4.0.0 not found</td><td/><td>code-invalid</td></tr><tr><td>warning</td><td/><td>ValueSet http://hl7.org/fhir/ValueSet/search-modifier-code|4.0.0 not found</td><td/><td>code-invalid</td></tr><tr><td>warning</td><td/><td>ValueSet http://hl7.org/fhir/ValueSet/search-modifier-code|4.0.0 not found</td><td/><td>code-invalid</td></tr><tr><td>warning</td><td/><td>ValueSet http://hl7.org/fhir/ValueSet/search-modifier-code|4.0.0 not found</td><td/><td>code-invalid</td></tr><tr><td>warning</td><td/><td>ValueSet http://hl7.org/fhir/ValueSet/search-modifier-code|4.0.0 not found</td><td/><td>code-invalid</td></tr><tr><td>warning</td><td/><td>ValueSet http://hl7.org/fhir/ValueSet/search-modifier-code|4.0.0 not found</td><td/><td>code-invalid</td></tr></table></div>"
      ],
      "text/plain": [
       "<IPython.core.display.HTML object>"
      ]
     },
     "metadata": {},
     "output_type": "display_data"
    },
    {
     "name": "stdout",
     "output_type": "stream",
     "text": [
      "Validating us-core-patient-given...........\n"
     ]
    },
    {
     "data": {
      "text/html": [
       "<h1>Validation output</h1><h3>Status Code = 200</h3> <div><p><b>Operation Outcome for :Validate resource </b></p><table class=\"grid\"><tr><td><b>Severity</b></td><td><b>Location</b></td><td><b>Details</b></td><td><b>Diagnostics</b></td><td><b>Type</b></td></tr><tr><td>warning</td><td/><td>ValueSet http://hl7.org/fhir/ValueSet/narrative-status|4.0.0 not found</td><td/><td>code-invalid</td></tr><tr><td>warning</td><td/><td>ValueSet http://hl7.org/fhir/ValueSet/publication-status|4.0.0 not found</td><td/><td>code-invalid</td></tr><tr><td>warning</td><td/><td>ValueSet http://hl7.org/fhir/ValueSet/contact-point-system|4.0.0 not found</td><td/><td>code-invalid</td></tr><tr><td>warning</td><td/><td>ValueSet http://hl7.org/fhir/ValueSet/resource-types|4.0.0 not found</td><td/><td>code-invalid</td></tr><tr><td>warning</td><td/><td>ValueSet http://hl7.org/fhir/ValueSet/search-param-type|4.0.0 not found</td><td/><td>code-invalid</td></tr><tr><td>warning</td><td/><td>ValueSet http://hl7.org/fhir/ValueSet/search-xpath-usage|4.0.0 not found</td><td/><td>code-invalid</td></tr><tr><td>warning</td><td/><td>ValueSet http://hl7.org/fhir/ValueSet/search-modifier-code|4.0.0 not found</td><td/><td>code-invalid</td></tr><tr><td>warning</td><td/><td>ValueSet http://hl7.org/fhir/ValueSet/search-modifier-code|4.0.0 not found</td><td/><td>code-invalid</td></tr><tr><td>warning</td><td/><td>ValueSet http://hl7.org/fhir/ValueSet/search-modifier-code|4.0.0 not found</td><td/><td>code-invalid</td></tr></table></div>"
      ],
      "text/plain": [
       "<IPython.core.display.HTML object>"
      ]
     },
     "metadata": {},
     "output_type": "display_data"
    },
    {
     "name": "stdout",
     "output_type": "stream",
     "text": [
      "Validating us-core-patient-identifier...........\n"
     ]
    },
    {
     "data": {
      "text/html": [
       "<h1>Validation output</h1><h3>Status Code = 200</h3> <div><p><b>Operation Outcome for :Validate resource </b></p><table class=\"grid\"><tr><td><b>Severity</b></td><td><b>Location</b></td><td><b>Details</b></td><td><b>Diagnostics</b></td><td><b>Type</b></td></tr><tr><td>warning</td><td/><td>ValueSet http://hl7.org/fhir/ValueSet/narrative-status|4.0.0 not found</td><td/><td>code-invalid</td></tr><tr><td>warning</td><td/><td>ValueSet http://hl7.org/fhir/ValueSet/publication-status|4.0.0 not found</td><td/><td>code-invalid</td></tr><tr><td>warning</td><td/><td>ValueSet http://hl7.org/fhir/ValueSet/contact-point-system|4.0.0 not found</td><td/><td>code-invalid</td></tr><tr><td>warning</td><td/><td>ValueSet http://hl7.org/fhir/ValueSet/resource-types|4.0.0 not found</td><td/><td>code-invalid</td></tr><tr><td>warning</td><td/><td>ValueSet http://hl7.org/fhir/ValueSet/search-param-type|4.0.0 not found</td><td/><td>code-invalid</td></tr><tr><td>warning</td><td/><td>ValueSet http://hl7.org/fhir/ValueSet/search-xpath-usage|4.0.0 not found</td><td/><td>code-invalid</td></tr><tr><td>warning</td><td/><td>ValueSet http://hl7.org/fhir/ValueSet/search-modifier-code|4.0.0 not found</td><td/><td>code-invalid</td></tr><tr><td>warning</td><td/><td>ValueSet http://hl7.org/fhir/ValueSet/search-modifier-code|4.0.0 not found</td><td/><td>code-invalid</td></tr><tr><td>warning</td><td/><td>ValueSet http://hl7.org/fhir/ValueSet/search-modifier-code|4.0.0 not found</td><td/><td>code-invalid</td></tr><tr><td>warning</td><td/><td>ValueSet http://hl7.org/fhir/ValueSet/search-modifier-code|4.0.0 not found</td><td/><td>code-invalid</td></tr><tr><td>warning</td><td/><td>ValueSet http://hl7.org/fhir/ValueSet/search-modifier-code|4.0.0 not found</td><td/><td>code-invalid</td></tr><tr><td>warning</td><td/><td>ValueSet http://hl7.org/fhir/ValueSet/search-modifier-code|4.0.0 not found</td><td/><td>code-invalid</td></tr><tr><td>warning</td><td/><td>ValueSet http://hl7.org/fhir/ValueSet/search-modifier-code|4.0.0 not found</td><td/><td>code-invalid</td></tr><tr><td>warning</td><td/><td>ValueSet http://hl7.org/fhir/ValueSet/search-modifier-code|4.0.0 not found</td><td/><td>code-invalid</td></tr></table></div>"
      ],
      "text/plain": [
       "<IPython.core.display.HTML object>"
      ]
     },
     "metadata": {},
     "output_type": "display_data"
    },
    {
     "name": "stdout",
     "output_type": "stream",
     "text": [
      "Validating us-core-patient-name...........\n"
     ]
    },
    {
     "data": {
      "text/html": [
       "<h1>Validation output</h1><h3>Status Code = 200</h3> <div><p><b>Operation Outcome for :Validate resource </b></p><table class=\"grid\"><tr><td><b>Severity</b></td><td><b>Location</b></td><td><b>Details</b></td><td><b>Diagnostics</b></td><td><b>Type</b></td></tr><tr><td>warning</td><td/><td>ValueSet http://hl7.org/fhir/ValueSet/narrative-status|4.0.0 not found</td><td/><td>code-invalid</td></tr><tr><td>warning</td><td/><td>ValueSet http://hl7.org/fhir/ValueSet/publication-status|4.0.0 not found</td><td/><td>code-invalid</td></tr><tr><td>warning</td><td/><td>ValueSet http://hl7.org/fhir/ValueSet/contact-point-system|4.0.0 not found</td><td/><td>code-invalid</td></tr><tr><td>warning</td><td/><td>ValueSet http://hl7.org/fhir/ValueSet/resource-types|4.0.0 not found</td><td/><td>code-invalid</td></tr><tr><td>warning</td><td/><td>ValueSet http://hl7.org/fhir/ValueSet/search-param-type|4.0.0 not found</td><td/><td>code-invalid</td></tr><tr><td>warning</td><td/><td>ValueSet http://hl7.org/fhir/ValueSet/search-xpath-usage|4.0.0 not found</td><td/><td>code-invalid</td></tr><tr><td>warning</td><td/><td>ValueSet http://hl7.org/fhir/ValueSet/search-modifier-code|4.0.0 not found</td><td/><td>code-invalid</td></tr><tr><td>warning</td><td/><td>ValueSet http://hl7.org/fhir/ValueSet/search-modifier-code|4.0.0 not found</td><td/><td>code-invalid</td></tr><tr><td>warning</td><td/><td>ValueSet http://hl7.org/fhir/ValueSet/search-modifier-code|4.0.0 not found</td><td/><td>code-invalid</td></tr></table></div>"
      ],
      "text/plain": [
       "<IPython.core.display.HTML object>"
      ]
     },
     "metadata": {},
     "output_type": "display_data"
    },
    {
     "name": "stdout",
     "output_type": "stream",
     "text": [
      "Validating us-core-questionnaire-id...........\n"
     ]
    },
    {
     "data": {
      "text/html": [
       "<h1>Validation output</h1><h3>Status Code = 200</h3> <div><p><b>Operation Outcome for :Validate resource </b></p><table class=\"grid\"><tr><td><b>Severity</b></td><td><b>Location</b></td><td><b>Details</b></td><td><b>Diagnostics</b></td><td><b>Type</b></td></tr><tr><td>warning</td><td/><td>ValueSet http://hl7.org/fhir/ValueSet/narrative-status|4.0.0 not found</td><td/><td>code-invalid</td></tr><tr><td>warning</td><td/><td>ValueSet http://hl7.org/fhir/ValueSet/publication-status|4.0.0 not found</td><td/><td>code-invalid</td></tr><tr><td>warning</td><td/><td>ValueSet http://hl7.org/fhir/ValueSet/contact-point-system|4.0.0 not found</td><td/><td>code-invalid</td></tr><tr><td>warning</td><td/><td>ValueSet http://hl7.org/fhir/ValueSet/resource-types|4.0.0 not found</td><td/><td>code-invalid</td></tr><tr><td>warning</td><td/><td>ValueSet http://hl7.org/fhir/ValueSet/search-param-type|4.0.0 not found</td><td/><td>code-invalid</td></tr><tr><td>warning</td><td/><td>ValueSet http://hl7.org/fhir/ValueSet/search-xpath-usage|4.0.0 not found</td><td/><td>code-invalid</td></tr><tr><td>warning</td><td/><td>ValueSet http://hl7.org/fhir/ValueSet/search-modifier-code|4.0.0 not found</td><td/><td>code-invalid</td></tr><tr><td>warning</td><td/><td>ValueSet http://hl7.org/fhir/ValueSet/search-modifier-code|4.0.0 not found</td><td/><td>code-invalid</td></tr><tr><td>warning</td><td/><td>ValueSet http://hl7.org/fhir/ValueSet/search-modifier-code|4.0.0 not found</td><td/><td>code-invalid</td></tr><tr><td>warning</td><td/><td>ValueSet http://hl7.org/fhir/ValueSet/search-modifier-code|4.0.0 not found</td><td/><td>code-invalid</td></tr><tr><td>warning</td><td/><td>ValueSet http://hl7.org/fhir/ValueSet/search-modifier-code|4.0.0 not found</td><td/><td>code-invalid</td></tr><tr><td>warning</td><td/><td>ValueSet http://hl7.org/fhir/ValueSet/search-modifier-code|4.0.0 not found</td><td/><td>code-invalid</td></tr><tr><td>warning</td><td/><td>ValueSet http://hl7.org/fhir/ValueSet/search-modifier-code|4.0.0 not found</td><td/><td>code-invalid</td></tr><tr><td>warning</td><td/><td>ValueSet http://hl7.org/fhir/ValueSet/search-modifier-code|4.0.0 not found</td><td/><td>code-invalid</td></tr></table></div>"
      ],
      "text/plain": [
       "<IPython.core.display.HTML object>"
      ]
     },
     "metadata": {},
     "output_type": "display_data"
    },
    {
     "name": "stdout",
     "output_type": "stream",
     "text": [
      "Validating us-core-questionnaire-context-type-value...........\n"
     ]
    },
    {
     "data": {
      "text/html": [
       "<h1>Validation output</h1><h3>Status Code = 200</h3> <div><p><b>Operation Outcome for :Validate resource </b></p><table class=\"grid\"><tr><td><b>Severity</b></td><td><b>Location</b></td><td><b>Details</b></td><td><b>Diagnostics</b></td><td><b>Type</b></td></tr><tr><td>warning</td><td/><td>ValueSet http://hl7.org/fhir/ValueSet/narrative-status|4.0.0 not found</td><td/><td>code-invalid</td></tr><tr><td>warning</td><td/><td>ValueSet http://hl7.org/fhir/ValueSet/publication-status|4.0.0 not found</td><td/><td>code-invalid</td></tr><tr><td>warning</td><td/><td>ValueSet http://hl7.org/fhir/ValueSet/contact-point-system|4.0.0 not found</td><td/><td>code-invalid</td></tr><tr><td>warning</td><td/><td>ValueSet http://hl7.org/fhir/ValueSet/resource-types|4.0.0 not found</td><td/><td>code-invalid</td></tr><tr><td>warning</td><td/><td>ValueSet http://hl7.org/fhir/ValueSet/search-param-type|4.0.0 not found</td><td/><td>code-invalid</td></tr><tr><td>warning</td><td/><td>ValueSet http://hl7.org/fhir/ValueSet/search-xpath-usage|4.0.0 not found</td><td/><td>code-invalid</td></tr><tr><td>warning</td><td/><td>ValueSet http://hl7.org/fhir/ValueSet/search-modifier-code|4.0.0 not found</td><td/><td>code-invalid</td></tr></table></div>"
      ],
      "text/plain": [
       "<IPython.core.display.HTML object>"
      ]
     },
     "metadata": {},
     "output_type": "display_data"
    },
    {
     "name": "stdout",
     "output_type": "stream",
     "text": [
      "Validating us-core-questionnaire-publisher...........\n"
     ]
    },
    {
     "data": {
      "text/html": [
       "<h1>Validation output</h1><h3>Status Code = 200</h3> <div><p><b>Operation Outcome for :Validate resource </b></p><table class=\"grid\"><tr><td><b>Severity</b></td><td><b>Location</b></td><td><b>Details</b></td><td><b>Diagnostics</b></td><td><b>Type</b></td></tr><tr><td>warning</td><td/><td>ValueSet http://hl7.org/fhir/ValueSet/narrative-status|4.0.0 not found</td><td/><td>code-invalid</td></tr><tr><td>warning</td><td/><td>ValueSet http://hl7.org/fhir/ValueSet/publication-status|4.0.0 not found</td><td/><td>code-invalid</td></tr><tr><td>warning</td><td/><td>ValueSet http://hl7.org/fhir/ValueSet/contact-point-system|4.0.0 not found</td><td/><td>code-invalid</td></tr><tr><td>warning</td><td/><td>ValueSet http://hl7.org/fhir/ValueSet/resource-types|4.0.0 not found</td><td/><td>code-invalid</td></tr><tr><td>warning</td><td/><td>ValueSet http://hl7.org/fhir/ValueSet/search-param-type|4.0.0 not found</td><td/><td>code-invalid</td></tr><tr><td>warning</td><td/><td>ValueSet http://hl7.org/fhir/ValueSet/search-xpath-usage|4.0.0 not found</td><td/><td>code-invalid</td></tr><tr><td>warning</td><td/><td>ValueSet http://hl7.org/fhir/ValueSet/search-modifier-code|4.0.0 not found</td><td/><td>code-invalid</td></tr><tr><td>warning</td><td/><td>ValueSet http://hl7.org/fhir/ValueSet/search-modifier-code|4.0.0 not found</td><td/><td>code-invalid</td></tr><tr><td>warning</td><td/><td>ValueSet http://hl7.org/fhir/ValueSet/search-modifier-code|4.0.0 not found</td><td/><td>code-invalid</td></tr></table></div>"
      ],
      "text/plain": [
       "<IPython.core.display.HTML object>"
      ]
     },
     "metadata": {},
     "output_type": "display_data"
    },
    {
     "name": "stdout",
     "output_type": "stream",
     "text": [
      "Validating us-core-questionnaire-status...........\n"
     ]
    },
    {
     "data": {
      "text/html": [
       "<h1>Validation output</h1><h3>Status Code = 200</h3> <div><p><b>Operation Outcome for :Validate resource </b></p><table class=\"grid\"><tr><td><b>Severity</b></td><td><b>Location</b></td><td><b>Details</b></td><td><b>Diagnostics</b></td><td><b>Type</b></td></tr><tr><td>warning</td><td/><td>ValueSet http://hl7.org/fhir/ValueSet/narrative-status|4.0.0 not found</td><td/><td>code-invalid</td></tr><tr><td>warning</td><td/><td>ValueSet http://hl7.org/fhir/ValueSet/publication-status|4.0.0 not found</td><td/><td>code-invalid</td></tr><tr><td>warning</td><td/><td>ValueSet http://hl7.org/fhir/ValueSet/contact-point-system|4.0.0 not found</td><td/><td>code-invalid</td></tr><tr><td>warning</td><td/><td>ValueSet http://hl7.org/fhir/ValueSet/resource-types|4.0.0 not found</td><td/><td>code-invalid</td></tr><tr><td>warning</td><td/><td>ValueSet http://hl7.org/fhir/ValueSet/search-param-type|4.0.0 not found</td><td/><td>code-invalid</td></tr><tr><td>warning</td><td/><td>ValueSet http://hl7.org/fhir/ValueSet/search-xpath-usage|4.0.0 not found</td><td/><td>code-invalid</td></tr><tr><td>warning</td><td/><td>ValueSet http://hl7.org/fhir/ValueSet/search-modifier-code|4.0.0 not found</td><td/><td>code-invalid</td></tr><tr><td>warning</td><td/><td>ValueSet http://hl7.org/fhir/ValueSet/search-modifier-code|4.0.0 not found</td><td/><td>code-invalid</td></tr><tr><td>warning</td><td/><td>ValueSet http://hl7.org/fhir/ValueSet/search-modifier-code|4.0.0 not found</td><td/><td>code-invalid</td></tr><tr><td>warning</td><td/><td>ValueSet http://hl7.org/fhir/ValueSet/search-modifier-code|4.0.0 not found</td><td/><td>code-invalid</td></tr><tr><td>warning</td><td/><td>ValueSet http://hl7.org/fhir/ValueSet/search-modifier-code|4.0.0 not found</td><td/><td>code-invalid</td></tr><tr><td>warning</td><td/><td>ValueSet http://hl7.org/fhir/ValueSet/search-modifier-code|4.0.0 not found</td><td/><td>code-invalid</td></tr><tr><td>warning</td><td/><td>ValueSet http://hl7.org/fhir/ValueSet/search-modifier-code|4.0.0 not found</td><td/><td>code-invalid</td></tr><tr><td>warning</td><td/><td>ValueSet http://hl7.org/fhir/ValueSet/search-modifier-code|4.0.0 not found</td><td/><td>code-invalid</td></tr></table></div>"
      ],
      "text/plain": [
       "<IPython.core.display.HTML object>"
      ]
     },
     "metadata": {},
     "output_type": "display_data"
    },
    {
     "name": "stdout",
     "output_type": "stream",
     "text": [
      "Validating us-core-questionnaire-title...........\n"
     ]
    },
    {
     "data": {
      "text/html": [
       "<h1>Validation output</h1><h3>Status Code = 400</h3> <div><p><b>Operation Outcome for :Validate resource </b></p><table class=\"grid\"><tr><td><b>Severity</b></td><td><b>Location</b></td><td><b>Details</b></td><td><b>Diagnostics</b></td><td><b>Type</b></td></tr><tr><td>error</td><td>SearchParameter</td><td>Search parameters can only have chain names when the search parameter type is 'reference' () chain.empty() or type = 'reference'</td><td/><td>invariant</td></tr><tr><td>warning</td><td/><td>ValueSet http://hl7.org/fhir/ValueSet/narrative-status|4.0.0 not found</td><td/><td>code-invalid</td></tr><tr><td>warning</td><td/><td>ValueSet http://hl7.org/fhir/ValueSet/publication-status|4.0.0 not found</td><td/><td>code-invalid</td></tr><tr><td>warning</td><td/><td>ValueSet http://hl7.org/fhir/ValueSet/contact-point-system|4.0.0 not found</td><td/><td>code-invalid</td></tr><tr><td>warning</td><td/><td>ValueSet http://hl7.org/fhir/ValueSet/resource-types|4.0.0 not found</td><td/><td>code-invalid</td></tr><tr><td>warning</td><td/><td>ValueSet http://hl7.org/fhir/ValueSet/search-param-type|4.0.0 not found</td><td/><td>code-invalid</td></tr><tr><td>warning</td><td/><td>ValueSet http://hl7.org/fhir/ValueSet/search-xpath-usage|4.0.0 not found</td><td/><td>code-invalid</td></tr><tr><td>warning</td><td/><td>ValueSet http://hl7.org/fhir/ValueSet/search-modifier-code|4.0.0 not found</td><td/><td>code-invalid</td></tr><tr><td>warning</td><td/><td>ValueSet http://hl7.org/fhir/ValueSet/search-modifier-code|4.0.0 not found</td><td/><td>code-invalid</td></tr><tr><td>warning</td><td/><td>ValueSet http://hl7.org/fhir/ValueSet/search-modifier-code|4.0.0 not found</td><td/><td>code-invalid</td></tr></table></div>"
      ],
      "text/plain": [
       "<IPython.core.display.HTML object>"
      ]
     },
     "metadata": {},
     "output_type": "display_data"
    },
    {
     "name": "stdout",
     "output_type": "stream",
     "text": [
      "Validating us-core-questionnaire-url...........\n"
     ]
    },
    {
     "data": {
      "text/html": [
       "<h1>Validation output</h1><h3>Status Code = 200</h3> <div><p><b>Operation Outcome for :Validate resource </b></p><table class=\"grid\"><tr><td><b>Severity</b></td><td><b>Location</b></td><td><b>Details</b></td><td><b>Diagnostics</b></td><td><b>Type</b></td></tr><tr><td>warning</td><td/><td>ValueSet http://hl7.org/fhir/ValueSet/narrative-status|4.0.0 not found</td><td/><td>code-invalid</td></tr><tr><td>warning</td><td/><td>ValueSet http://hl7.org/fhir/ValueSet/publication-status|4.0.0 not found</td><td/><td>code-invalid</td></tr><tr><td>warning</td><td/><td>ValueSet http://hl7.org/fhir/ValueSet/contact-point-system|4.0.0 not found</td><td/><td>code-invalid</td></tr><tr><td>warning</td><td/><td>ValueSet http://hl7.org/fhir/ValueSet/resource-types|4.0.0 not found</td><td/><td>code-invalid</td></tr><tr><td>warning</td><td/><td>ValueSet http://hl7.org/fhir/ValueSet/search-param-type|4.0.0 not found</td><td/><td>code-invalid</td></tr><tr><td>warning</td><td/><td>ValueSet http://hl7.org/fhir/ValueSet/search-xpath-usage|4.0.0 not found</td><td/><td>code-invalid</td></tr><tr><td>warning</td><td/><td>ValueSet http://hl7.org/fhir/ValueSet/search-modifier-code|4.0.0 not found</td><td/><td>code-invalid</td></tr><tr><td>warning</td><td/><td>ValueSet http://hl7.org/fhir/ValueSet/search-modifier-code|4.0.0 not found</td><td/><td>code-invalid</td></tr><tr><td>warning</td><td/><td>ValueSet http://hl7.org/fhir/ValueSet/search-modifier-code|4.0.0 not found</td><td/><td>code-invalid</td></tr></table></div>"
      ],
      "text/plain": [
       "<IPython.core.display.HTML object>"
      ]
     },
     "metadata": {},
     "output_type": "display_data"
    },
    {
     "name": "stdout",
     "output_type": "stream",
     "text": [
      "Validating us-core-questionnaire-version...........\n"
     ]
    },
    {
     "data": {
      "text/html": [
       "<h1>Validation output</h1><h3>Status Code = 200</h3> <div><p><b>Operation Outcome for :Validate resource </b></p><table class=\"grid\"><tr><td><b>Severity</b></td><td><b>Location</b></td><td><b>Details</b></td><td><b>Diagnostics</b></td><td><b>Type</b></td></tr><tr><td>warning</td><td/><td>ValueSet http://hl7.org/fhir/ValueSet/narrative-status|4.0.0 not found</td><td/><td>code-invalid</td></tr><tr><td>warning</td><td/><td>ValueSet http://hl7.org/fhir/ValueSet/publication-status|4.0.0 not found</td><td/><td>code-invalid</td></tr><tr><td>warning</td><td/><td>ValueSet http://hl7.org/fhir/ValueSet/contact-point-system|4.0.0 not found</td><td/><td>code-invalid</td></tr><tr><td>warning</td><td/><td>ValueSet http://hl7.org/fhir/ValueSet/resource-types|4.0.0 not found</td><td/><td>code-invalid</td></tr><tr><td>warning</td><td/><td>ValueSet http://hl7.org/fhir/ValueSet/search-param-type|4.0.0 not found</td><td/><td>code-invalid</td></tr><tr><td>warning</td><td/><td>ValueSet http://hl7.org/fhir/ValueSet/search-xpath-usage|4.0.0 not found</td><td/><td>code-invalid</td></tr><tr><td>warning</td><td/><td>ValueSet http://hl7.org/fhir/ValueSet/search-modifier-code|4.0.0 not found</td><td/><td>code-invalid</td></tr><tr><td>warning</td><td/><td>ValueSet http://hl7.org/fhir/ValueSet/search-modifier-code|4.0.0 not found</td><td/><td>code-invalid</td></tr><tr><td>warning</td><td/><td>ValueSet http://hl7.org/fhir/ValueSet/search-modifier-code|4.0.0 not found</td><td/><td>code-invalid</td></tr><tr><td>warning</td><td/><td>ValueSet http://hl7.org/fhir/ValueSet/search-modifier-code|4.0.0 not found</td><td/><td>code-invalid</td></tr><tr><td>warning</td><td/><td>ValueSet http://hl7.org/fhir/ValueSet/search-modifier-code|4.0.0 not found</td><td/><td>code-invalid</td></tr><tr><td>warning</td><td/><td>ValueSet http://hl7.org/fhir/ValueSet/search-modifier-code|4.0.0 not found</td><td/><td>code-invalid</td></tr><tr><td>warning</td><td/><td>ValueSet http://hl7.org/fhir/ValueSet/search-modifier-code|4.0.0 not found</td><td/><td>code-invalid</td></tr><tr><td>warning</td><td/><td>ValueSet http://hl7.org/fhir/ValueSet/search-modifier-code|4.0.0 not found</td><td/><td>code-invalid</td></tr></table></div>"
      ],
      "text/plain": [
       "<IPython.core.display.HTML object>"
      ]
     },
     "metadata": {},
     "output_type": "display_data"
    },
    {
     "name": "stdout",
     "output_type": "stream",
     "text": [
      "Validating us-core-condition-onset-date...........\n"
     ]
    },
    {
     "data": {
      "text/html": [
       "<h1>Validation output</h1><h3>Status Code = 200</h3> <div><p><b>Operation Outcome for :Validate resource </b></p><table class=\"grid\"><tr><td><b>Severity</b></td><td><b>Location</b></td><td><b>Details</b></td><td><b>Diagnostics</b></td><td><b>Type</b></td></tr><tr><td>warning</td><td/><td>ValueSet http://hl7.org/fhir/ValueSet/narrative-status|4.0.0 not found</td><td/><td>code-invalid</td></tr><tr><td>warning</td><td/><td>ValueSet http://hl7.org/fhir/ValueSet/publication-status|4.0.0 not found</td><td/><td>code-invalid</td></tr><tr><td>warning</td><td/><td>ValueSet http://hl7.org/fhir/ValueSet/contact-point-system|4.0.0 not found</td><td/><td>code-invalid</td></tr><tr><td>warning</td><td/><td>ValueSet http://hl7.org/fhir/ValueSet/resource-types|4.0.0 not found</td><td/><td>code-invalid</td></tr><tr><td>warning</td><td/><td>ValueSet http://hl7.org/fhir/ValueSet/search-param-type|4.0.0 not found</td><td/><td>code-invalid</td></tr><tr><td>warning</td><td/><td>ValueSet http://hl7.org/fhir/ValueSet/search-xpath-usage|4.0.0 not found</td><td/><td>code-invalid</td></tr><tr><td>warning</td><td/><td>ValueSet http://hl7.org/fhir/ValueSet/search-comparator|4.0.0 not found</td><td/><td>code-invalid</td></tr><tr><td>warning</td><td/><td>ValueSet http://hl7.org/fhir/ValueSet/search-comparator|4.0.0 not found</td><td/><td>code-invalid</td></tr><tr><td>warning</td><td/><td>ValueSet http://hl7.org/fhir/ValueSet/search-comparator|4.0.0 not found</td><td/><td>code-invalid</td></tr><tr><td>warning</td><td/><td>ValueSet http://hl7.org/fhir/ValueSet/search-comparator|4.0.0 not found</td><td/><td>code-invalid</td></tr><tr><td>warning</td><td/><td>ValueSet http://hl7.org/fhir/ValueSet/search-comparator|4.0.0 not found</td><td/><td>code-invalid</td></tr><tr><td>warning</td><td/><td>ValueSet http://hl7.org/fhir/ValueSet/search-comparator|4.0.0 not found</td><td/><td>code-invalid</td></tr><tr><td>warning</td><td/><td>ValueSet http://hl7.org/fhir/ValueSet/search-comparator|4.0.0 not found</td><td/><td>code-invalid</td></tr><tr><td>warning</td><td/><td>ValueSet http://hl7.org/fhir/ValueSet/search-comparator|4.0.0 not found</td><td/><td>code-invalid</td></tr><tr><td>warning</td><td/><td>ValueSet http://hl7.org/fhir/ValueSet/search-modifier-code|4.0.0 not found</td><td/><td>code-invalid</td></tr></table></div>"
      ],
      "text/plain": [
       "<IPython.core.display.HTML object>"
      ]
     },
     "metadata": {},
     "output_type": "display_data"
    },
    {
     "name": "stdout",
     "output_type": "stream",
     "text": [
      "Validating us-core-condition-code...........\n"
     ]
    },
    {
     "data": {
      "text/html": [
       "<h1>Validation output</h1><h3>Status Code = 200</h3> <div><p><b>Operation Outcome for :Validate resource </b></p><table class=\"grid\"><tr><td><b>Severity</b></td><td><b>Location</b></td><td><b>Details</b></td><td><b>Diagnostics</b></td><td><b>Type</b></td></tr><tr><td>warning</td><td/><td>ValueSet http://hl7.org/fhir/ValueSet/narrative-status|4.0.0 not found</td><td/><td>code-invalid</td></tr><tr><td>warning</td><td/><td>ValueSet http://hl7.org/fhir/ValueSet/publication-status|4.0.0 not found</td><td/><td>code-invalid</td></tr><tr><td>warning</td><td/><td>ValueSet http://hl7.org/fhir/ValueSet/contact-point-system|4.0.0 not found</td><td/><td>code-invalid</td></tr><tr><td>warning</td><td/><td>ValueSet http://hl7.org/fhir/ValueSet/resource-types|4.0.0 not found</td><td/><td>code-invalid</td></tr><tr><td>warning</td><td/><td>ValueSet http://hl7.org/fhir/ValueSet/search-param-type|4.0.0 not found</td><td/><td>code-invalid</td></tr><tr><td>warning</td><td/><td>ValueSet http://hl7.org/fhir/ValueSet/search-xpath-usage|4.0.0 not found</td><td/><td>code-invalid</td></tr><tr><td>warning</td><td/><td>ValueSet http://hl7.org/fhir/ValueSet/search-modifier-code|4.0.0 not found</td><td/><td>code-invalid</td></tr><tr><td>warning</td><td/><td>ValueSet http://hl7.org/fhir/ValueSet/search-modifier-code|4.0.0 not found</td><td/><td>code-invalid</td></tr><tr><td>warning</td><td/><td>ValueSet http://hl7.org/fhir/ValueSet/search-modifier-code|4.0.0 not found</td><td/><td>code-invalid</td></tr><tr><td>warning</td><td/><td>ValueSet http://hl7.org/fhir/ValueSet/search-modifier-code|4.0.0 not found</td><td/><td>code-invalid</td></tr><tr><td>warning</td><td/><td>ValueSet http://hl7.org/fhir/ValueSet/search-modifier-code|4.0.0 not found</td><td/><td>code-invalid</td></tr><tr><td>warning</td><td/><td>ValueSet http://hl7.org/fhir/ValueSet/search-modifier-code|4.0.0 not found</td><td/><td>code-invalid</td></tr><tr><td>warning</td><td/><td>ValueSet http://hl7.org/fhir/ValueSet/search-modifier-code|4.0.0 not found</td><td/><td>code-invalid</td></tr><tr><td>warning</td><td/><td>ValueSet http://hl7.org/fhir/ValueSet/search-modifier-code|4.0.0 not found</td><td/><td>code-invalid</td></tr></table></div>"
      ],
      "text/plain": [
       "<IPython.core.display.HTML object>"
      ]
     },
     "metadata": {},
     "output_type": "display_data"
    },
    {
     "name": "stdout",
     "output_type": "stream",
     "text": [
      "Validating us-core-immunization-patient...........\n"
     ]
    },
    {
     "data": {
      "text/html": [
       "<h1>Validation output</h1><h3>Status Code = 200</h3> <div><p><b>Operation Outcome for :Validate resource </b></p><table class=\"grid\"><tr><td><b>Severity</b></td><td><b>Location</b></td><td><b>Details</b></td><td><b>Diagnostics</b></td><td><b>Type</b></td></tr><tr><td>warning</td><td/><td>ValueSet http://hl7.org/fhir/ValueSet/narrative-status|4.0.0 not found</td><td/><td>code-invalid</td></tr><tr><td>warning</td><td/><td>ValueSet http://hl7.org/fhir/ValueSet/publication-status|4.0.0 not found</td><td/><td>code-invalid</td></tr><tr><td>warning</td><td/><td>ValueSet http://hl7.org/fhir/ValueSet/contact-point-system|4.0.0 not found</td><td/><td>code-invalid</td></tr><tr><td>warning</td><td/><td>ValueSet http://hl7.org/fhir/ValueSet/resource-types|4.0.0 not found</td><td/><td>code-invalid</td></tr><tr><td>warning</td><td/><td>ValueSet http://hl7.org/fhir/ValueSet/search-param-type|4.0.0 not found</td><td/><td>code-invalid</td></tr><tr><td>warning</td><td/><td>ValueSet http://hl7.org/fhir/ValueSet/search-xpath-usage|4.0.0 not found</td><td/><td>code-invalid</td></tr><tr><td>warning</td><td/><td>ValueSet http://hl7.org/fhir/ValueSet/resource-types|4.0.0 not found</td><td/><td>code-invalid</td></tr><tr><td>warning</td><td/><td>ValueSet http://hl7.org/fhir/ValueSet/resource-types|4.0.0 not found</td><td/><td>code-invalid</td></tr><tr><td>warning</td><td/><td>ValueSet http://hl7.org/fhir/ValueSet/search-modifier-code|4.0.0 not found</td><td/><td>code-invalid</td></tr><tr><td>warning</td><td/><td>ValueSet http://hl7.org/fhir/ValueSet/search-modifier-code|4.0.0 not found</td><td/><td>code-invalid</td></tr><tr><td>warning</td><td/><td>ValueSet http://hl7.org/fhir/ValueSet/search-modifier-code|4.0.0 not found</td><td/><td>code-invalid</td></tr></table></div>"
      ],
      "text/plain": [
       "<IPython.core.display.HTML object>"
      ]
     },
     "metadata": {},
     "output_type": "display_data"
    },
    {
     "name": "stdout",
     "output_type": "stream",
     "text": [
      "Validating us-core-immunization-status...........\n"
     ]
    },
    {
     "data": {
      "text/html": [
       "<h1>Validation output</h1><h3>Status Code = 200</h3> <div><p><b>Operation Outcome for :Validate resource </b></p><table class=\"grid\"><tr><td><b>Severity</b></td><td><b>Location</b></td><td><b>Details</b></td><td><b>Diagnostics</b></td><td><b>Type</b></td></tr><tr><td>warning</td><td/><td>ValueSet http://hl7.org/fhir/ValueSet/narrative-status|4.0.0 not found</td><td/><td>code-invalid</td></tr><tr><td>warning</td><td/><td>ValueSet http://hl7.org/fhir/ValueSet/publication-status|4.0.0 not found</td><td/><td>code-invalid</td></tr><tr><td>warning</td><td/><td>ValueSet http://hl7.org/fhir/ValueSet/contact-point-system|4.0.0 not found</td><td/><td>code-invalid</td></tr><tr><td>warning</td><td/><td>ValueSet http://hl7.org/fhir/ValueSet/resource-types|4.0.0 not found</td><td/><td>code-invalid</td></tr><tr><td>warning</td><td/><td>ValueSet http://hl7.org/fhir/ValueSet/search-param-type|4.0.0 not found</td><td/><td>code-invalid</td></tr><tr><td>warning</td><td/><td>ValueSet http://hl7.org/fhir/ValueSet/search-xpath-usage|4.0.0 not found</td><td/><td>code-invalid</td></tr><tr><td>warning</td><td/><td>ValueSet http://hl7.org/fhir/ValueSet/search-modifier-code|4.0.0 not found</td><td/><td>code-invalid</td></tr><tr><td>warning</td><td/><td>ValueSet http://hl7.org/fhir/ValueSet/search-modifier-code|4.0.0 not found</td><td/><td>code-invalid</td></tr><tr><td>warning</td><td/><td>ValueSet http://hl7.org/fhir/ValueSet/search-modifier-code|4.0.0 not found</td><td/><td>code-invalid</td></tr><tr><td>warning</td><td/><td>ValueSet http://hl7.org/fhir/ValueSet/search-modifier-code|4.0.0 not found</td><td/><td>code-invalid</td></tr><tr><td>warning</td><td/><td>ValueSet http://hl7.org/fhir/ValueSet/search-modifier-code|4.0.0 not found</td><td/><td>code-invalid</td></tr><tr><td>warning</td><td/><td>ValueSet http://hl7.org/fhir/ValueSet/search-modifier-code|4.0.0 not found</td><td/><td>code-invalid</td></tr><tr><td>warning</td><td/><td>ValueSet http://hl7.org/fhir/ValueSet/search-modifier-code|4.0.0 not found</td><td/><td>code-invalid</td></tr><tr><td>warning</td><td/><td>ValueSet http://hl7.org/fhir/ValueSet/search-modifier-code|4.0.0 not found</td><td/><td>code-invalid</td></tr></table></div>"
      ],
      "text/plain": [
       "<IPython.core.display.HTML object>"
      ]
     },
     "metadata": {},
     "output_type": "display_data"
    },
    {
     "name": "stdout",
     "output_type": "stream",
     "text": [
      "Validating us-core-immunization-date...........\n"
     ]
    },
    {
     "data": {
      "text/html": [
       "<h1>Validation output</h1><h3>Status Code = 200</h3> <div><p><b>Operation Outcome for :Validate resource </b></p><table class=\"grid\"><tr><td><b>Severity</b></td><td><b>Location</b></td><td><b>Details</b></td><td><b>Diagnostics</b></td><td><b>Type</b></td></tr><tr><td>warning</td><td/><td>ValueSet http://hl7.org/fhir/ValueSet/narrative-status|4.0.0 not found</td><td/><td>code-invalid</td></tr><tr><td>warning</td><td/><td>ValueSet http://hl7.org/fhir/ValueSet/publication-status|4.0.0 not found</td><td/><td>code-invalid</td></tr><tr><td>warning</td><td/><td>ValueSet http://hl7.org/fhir/ValueSet/contact-point-system|4.0.0 not found</td><td/><td>code-invalid</td></tr><tr><td>warning</td><td/><td>ValueSet http://hl7.org/fhir/ValueSet/resource-types|4.0.0 not found</td><td/><td>code-invalid</td></tr><tr><td>warning</td><td/><td>ValueSet http://hl7.org/fhir/ValueSet/search-param-type|4.0.0 not found</td><td/><td>code-invalid</td></tr><tr><td>warning</td><td/><td>ValueSet http://hl7.org/fhir/ValueSet/search-xpath-usage|4.0.0 not found</td><td/><td>code-invalid</td></tr><tr><td>warning</td><td/><td>ValueSet http://hl7.org/fhir/ValueSet/search-comparator|4.0.0 not found</td><td/><td>code-invalid</td></tr><tr><td>warning</td><td/><td>ValueSet http://hl7.org/fhir/ValueSet/search-comparator|4.0.0 not found</td><td/><td>code-invalid</td></tr><tr><td>warning</td><td/><td>ValueSet http://hl7.org/fhir/ValueSet/search-comparator|4.0.0 not found</td><td/><td>code-invalid</td></tr><tr><td>warning</td><td/><td>ValueSet http://hl7.org/fhir/ValueSet/search-comparator|4.0.0 not found</td><td/><td>code-invalid</td></tr><tr><td>warning</td><td/><td>ValueSet http://hl7.org/fhir/ValueSet/search-comparator|4.0.0 not found</td><td/><td>code-invalid</td></tr><tr><td>warning</td><td/><td>ValueSet http://hl7.org/fhir/ValueSet/search-comparator|4.0.0 not found</td><td/><td>code-invalid</td></tr><tr><td>warning</td><td/><td>ValueSet http://hl7.org/fhir/ValueSet/search-comparator|4.0.0 not found</td><td/><td>code-invalid</td></tr><tr><td>warning</td><td/><td>ValueSet http://hl7.org/fhir/ValueSet/search-comparator|4.0.0 not found</td><td/><td>code-invalid</td></tr><tr><td>warning</td><td/><td>ValueSet http://hl7.org/fhir/ValueSet/search-modifier-code|4.0.0 not found</td><td/><td>code-invalid</td></tr></table></div>"
      ],
      "text/plain": [
       "<IPython.core.display.HTML object>"
      ]
     },
     "metadata": {},
     "output_type": "display_data"
    }
   ],
   "source": [
    "for i in sp_list:\n",
    "    print(f'Validating {i[\"id\"]}...........')\n",
    "    r = validate(i)\n",
    "    display(HTML(f'<h1>Validation output</h1><h3>Status Code = {r.status_code}</h3> {r.json()[\"text\"][\"div\"]}'))               "
   ]
  },
  {
   "cell_type": "markdown",
   "metadata": {},
   "source": [
    "### Create Quick Start pages using Jinja\n",
    " \n",
    "- spreadsheet for sp and combos"
   ]
  },
  {
   "cell_type": "code",
   "execution_count": 10,
   "metadata": {},
   "outputs": [
    {
     "name": "stdout",
     "output_type": "stream",
     "text": [
      "{'Patient', 'Condition', 'Questionnaire', 'Immunization', 'AllergyIntolerance', 'Encounter'}\n"
     ]
    },
    {
     "data": {
      "text/markdown": [
       "\n",
       "#### Mandatory Search Parameters:\n",
       "\n",
       "The following search parameters, search parameter combinations and search parameter [modifiers], [comparators] and [chained parameters] SHALL be supported.  the  modifiers, comparators and chained parameters that are listed as optional SHOULD be supported.:\n",
       "\n",
       "\n",
       "1. **SHALL** support fetching a Patient using the **[`_id`](SearchParameter-us-core-patient-_id.html)** search parameter:\n",
       "\n",
       "    `GET [base]/Patient[id]`\n",
       "\n",
       "    Example: GET [base]/Patient/1032702\n",
       "\n",
       "    *Implementation Notes:* Fetches a single Patient (how to search by the [logical id] of the resource)\n",
       "\n",
       "1. **SHALL** support searching a Patient by an identifier such as a MPI using the **[`identifier`](SearchParameter-us-core-patient-identifier.html)** search parameter:\n",
       "\n",
       "    `GET [base]/Patient?identifier={[system]}|[code]`\n",
       "\n",
       "    Example: GET [base]/Patient?identifier=http://hospital.smarthealthit.org\\|1032702\n",
       "\n",
       "    *Implementation Notes:* Fetches a bundle containing any Patient resources matching the identifier (how to search by [token])\n",
       "\n",
       "1. **SHALL** support searching for a patient by a string match of any part of name using the **[`name`](SearchParameter-us-core-patient-name.html)** search parameter:\n",
       "\n",
       "    `GET [base]/Patient?name=[string]`\n",
       "\n",
       "    Example: GET [base]/Patient?name=Shaw\n",
       "\n",
       "    *Implementation Notes:* Fetches a bundle of all Patient resources matching the name (how to search by [string])\n",
       "\n",
       "1. **SHOULD** support searching using the combination of the **[`birthdate`](SearchParameter-us-core-patient-birthdate.html)** and **[`name`](SearchParameter-us-core-patient-name.html)** search parameters:\n",
       "\n",
       "    `GET [base]/Patient?birthdate=[date]&name=[string]`\n",
       "\n",
       "    Example: GET [base]/Patient?name=Shaw&amp;birthdate=2007-03-20\n",
       "\n",
       "    *Implementation Notes:* Fetches a bundle of all Patient resources matching the specified birthdate and name (how to search by [birthdate] and [name])\n",
       "\n",
       "1. **SHOULD** support searching using the combination of the **[`gender`](SearchParameter-us-core-patient-gender.html)** and **[`name`](SearchParameter-us-core-patient-name.html)** search parameters:\n",
       "\n",
       "    `GET [base]/Patient?gender=[token]&name=[string]`\n",
       "\n",
       "    Example: GET [base]/Patient?name=Shaw&amp;gender=female\n",
       "\n",
       "    *Implementation Notes:* Fetches a bundle of all Patient resources matching the specified gender and name (how to search by [gender] and [name])\n",
       "\n",
       "\n",
       "\n",
       "#### Optional Search Parameters:\n",
       "\n",
       "The following search parameters, search parameter combinations and search parameter [modifiers], [comparators] and [chained parameters] SHOULD be supported.\n",
       "\n",
       "1. **SHOULD** support searching using the combination of the **[`birthdate`](SearchParameter-us-core-patient-birthdate.html)** and **[`family`](SearchParameter-us-core-patient-family.html)** search parameters:\n",
       "\n",
       "    `GET [base]/Patient?birthdate=[date]&family=[string]`\n",
       "\n",
       "    Example: GET [base]/Patient?family=Shaw&amp;birthdate=2007-03-20\n",
       "\n",
       "    *Implementation Notes:* Fetches a bundle of all Patient resources matching the specified birthdate and family (how to search by [date] and [string])\n",
       "\n",
       "1. **SHOULD** support searching using the combination of the **[`family`](SearchParameter-us-core-patient-family.html)** and **[`gender`](SearchParameter-us-core-patient-gender.html)** search parameters:\n",
       "\n",
       "    `GET [base]/Patient?family=[string]&gender=[token]`\n",
       "\n",
       "    Example: GET [base]/Patient?family=Shaw&amp;gender=female\n",
       "\n",
       "    *Implementation Notes:* Fetches a bundle of all Patient resources matching the specified family and gender (how to search by [string] and [token])\n",
       "\n",
       "\n",
       "{% include link-list.md %}"
      ],
      "text/plain": [
       "<IPython.core.display.Markdown object>"
      ]
     },
     "metadata": {},
     "output_type": "display_data"
    },
    {
     "data": {
      "text/markdown": [
       "\n",
       "#### Mandatory Search Parameters:\n",
       "\n",
       "The following search parameters, search parameter combinations and search parameter [modifiers], [comparators] and [chained parameters] SHALL be supported.  the  modifiers, comparators and chained parameters that are listed as optional SHOULD be supported.:\n",
       "\n",
       "\n",
       "1. **SHALL** support searching for all conditions including problems, health concerns, and encounter diagnosis for a patient using the **[`patient`](SearchParameter-us-core-condition-patient.html)** search parameter:\n",
       "\n",
       "    `GET [base]/Condition?patient=[reference]`\n",
       "\n",
       "    Example: GET [base]/Condition?patient=1137192\n",
       "\n",
       "    *Implementation Notes:* Fetches a bundle of all Condition resources for the specified patient (how to search by [reference])\n",
       "\n",
       "\n",
       "\n",
       "#### Optional Search Parameters:\n",
       "\n",
       "The following search parameters, search parameter combinations and search parameter [modifiers], [comparators] and [chained parameters] SHOULD be supported.\n",
       "\n",
       "1. **SHOULD** support searching using the combination of the **[`patient`](SearchParameter-us-core-condition-patient.html)** and **[`clinical-status`](SearchParameter-us-core-condition-clinical-status.html)** search parameters:\n",
       "\n",
       "    `GET [base]/Condition?patient=[reference]&clinical-status=[token]`\n",
       "\n",
       "    Example: GET [base/Condition?patient=[id]&amp;clinical-status=active,recurrance,remission\n",
       "\n",
       "    *Implementation Notes:* Fetches a bundle of all Condition resources for the specified patient and all “active” statuses (active,relapse,remission). This will not return any “entered in error” resources because of the conditional presence of the clinicalStatus element. (how to search by [reference] and [token])\n",
       "\n",
       "1. **SHOULD** support searching using the combination of the **[`patient`](SearchParameter-us-core-condition-patient.html)** and **[`category`](SearchParameter-us-core-condition-category.html)** search parameters:\n",
       "\n",
       "    `GET [base]/Condition?patient=[reference]&category=[token]`\n",
       "\n",
       "    Example: GET [base]/Condition?patient=1032702&amp;category=problem,GET [base]/Condition?patient=1032702&amp;category=health-concern,GET [base]/Condition?patient=1032702&amp;category=encounter-diagnosis\n",
       "\n",
       "    *Implementation Notes:* Fetches a bundle of all Condition resources for the specified patient and category. (how to search by [reference] and [token])\n",
       "\n",
       "1. **SHOULD** support searching using the combination of the **[`patient`](SearchParameter-us-core-condition-patient.html)** and **[`code`](SearchParameter-us-core-condition-code.html)** search parameters:\n",
       "\n",
       "    `GET [base]/Condition?patient=[reference]&code=[token]`\n",
       "\n",
       "    Example: GET [base]/Condition?patient=[id]&amp;code=[system\\|code]\n",
       "\n",
       "    *Implementation Notes:* Fetches a bundle of all Condition resources for the specified patient and code. (how to search by [reference] and [token])\n",
       "\n",
       "1. **SHOULD** support searching using the combination of the **[`patient`](SearchParameter-us-core-condition-patient.html)** and **[`onset-date`](SearchParameter-us-core-condition-onset-date.html)** search parameters:\n",
       "\n",
       "    `GET [base]/Condition?patient=[reference]&onset-date={gt|lt|ge|le}[date]`\n",
       "\n",
       "    Example: GET [base]Condition?patient=555580&amp;date=ge2018-01-14\n",
       "\n",
       "    *Implementation Notes:* Fetches a bundle of all Condition resources for the specified patient and date.  (how to search by [reference] and [date])\n",
       "\n",
       "\n",
       "{% include link-list.md %}"
      ],
      "text/plain": [
       "<IPython.core.display.Markdown object>"
      ]
     },
     "metadata": {},
     "output_type": "display_data"
    },
    {
     "data": {
      "text/markdown": [
       "\n",
       "#### Mandatory Search Parameters:\n",
       "\n",
       "The following search parameters, search parameter combinations and search parameter [modifiers], [comparators] and [chained parameters] SHALL be supported.  the  modifiers, comparators and chained parameters that are listed as optional SHOULD be supported.:\n",
       "\n",
       "\n",
       "\n",
       "\n",
       "#### Optional Search Parameters:\n",
       "\n",
       "The following search parameters, search parameter combinations and search parameter [modifiers], [comparators] and [chained parameters] SHOULD be supported.\n",
       "\n",
       "\n",
       "{% include link-list.md %}"
      ],
      "text/plain": [
       "<IPython.core.display.Markdown object>"
      ]
     },
     "metadata": {},
     "output_type": "display_data"
    },
    {
     "data": {
      "text/markdown": [
       "\n",
       "#### Mandatory Search Parameters:\n",
       "\n",
       "The following search parameters, search parameter combinations and search parameter [modifiers], [comparators] and [chained parameters] SHALL be supported.  the  modifiers, comparators and chained parameters that are listed as optional SHOULD be supported.:\n",
       "\n",
       "\n",
       "1. **SHALL** support searching for all immunizations for a patient using the **[`patient`](SearchParameter-us-core-immunization-patient.html)** search parameter:\n",
       "\n",
       "    `GET [base]/Immunization?patient=[reference]`\n",
       "\n",
       "    Example: GET [base]/Immunization?patient=1137192\n",
       "\n",
       "    *Implementation Notes:* Fetches a bundle of all Immunization resources for the specified patient (how to search by [reference])\n",
       "\n",
       "\n",
       "\n",
       "#### Optional Search Parameters:\n",
       "\n",
       "The following search parameters, search parameter combinations and search parameter [modifiers], [comparators] and [chained parameters] SHOULD be supported.\n",
       "\n",
       "1. **SHOULD** support searching using the combination of the **[`patient`](SearchParameter-us-core-immunization-patient.html)** and **[`date`](SearchParameter-us-core-immunization-date.html)** search parameters:\n",
       "\n",
       "    `GET [base]/Immunization?patient=[reference]&date={gt|lt|ge|le}[date]`\n",
       "\n",
       "    Example: GET [base]/Immunization?patient=1137192&amp;date=ge2019-01-14\n",
       "\n",
       "    *Implementation Notes:* Fetches a bundle of all Immunization resources for the specified patient and date (how to search by [date] and [reference])\n",
       "\n",
       "1. **SHOULD** support searching using the combination of the **[`patient`](SearchParameter-us-core-immunization-patient.html)** and **[`status`](SearchParameter-us-core-immunization-status.html)** search parameters:\n",
       "\n",
       "    `GET [base]/Immunization?patient=[reference]&status=[token]`\n",
       "\n",
       "    Example: GET [base]/Immunization?patient=1137192&amp;status=completed\n",
       "\n",
       "    *Implementation Notes:* Fetches a bundle of all Immunization resources for the specified patient and status (how to search by [reference] and [token])\n",
       "\n",
       "\n",
       "{% include link-list.md %}"
      ],
      "text/plain": [
       "<IPython.core.display.Markdown object>"
      ]
     },
     "metadata": {},
     "output_type": "display_data"
    },
    {
     "data": {
      "text/markdown": [
       "\n",
       "#### Mandatory Search Parameters:\n",
       "\n",
       "The following search parameters, search parameter combinations and search parameter [modifiers], [comparators] and [chained parameters] SHALL be supported.  the  modifiers, comparators and chained parameters that are listed as optional SHOULD be supported.:\n",
       "\n",
       "\n",
       "1. **SHALL** support searching for all allergies for a patient using the **[`patient`](SearchParameter-us-core-allergyintolerance-patient.html)** search parameter:\n",
       "\n",
       "    `GET [base]/AllergyIntolerance?patient=[reference]`\n",
       "\n",
       "    Example: GET [base]/AllergyIntolerance?patient=1137192\n",
       "\n",
       "    *Implementation Notes:* Fetches a bundle of all AllergyIntolerance resources for the specified patient (how to search by [reference])\n",
       "\n",
       "\n",
       "\n",
       "#### Optional Search Parameters:\n",
       "\n",
       "The following search parameters, search parameter combinations and search parameter [modifiers], [comparators] and [chained parameters] SHOULD be supported.\n",
       "\n",
       "1. **SHOULD** support searching using the combination of the **[`patient`](SearchParameter-us-core-allergyintolerance-patient.html)** and **[`clinical-status`](SearchParameter-us-core-allergyintolerance-clinical-status.html)** search parameters:\n",
       "\n",
       "    `GET [base]/AllergyIntolerance?patient=[reference]&clinical-status=[token]`\n",
       "\n",
       "    Example: GET [base]/AllergyIntolerance?patient=[id]&amp;clinical-status=active\n",
       "\n",
       "    *Implementation Notes:* Fetches a bundle of all Condition resources for the specified patient and status code.  This will not return any “entered in error” resources because of the conditional presence of the clinicalStatus element. (how to search by [reference] and [token])\n",
       "\n",
       "\n",
       "{% include link-list.md %}"
      ],
      "text/plain": [
       "<IPython.core.display.Markdown object>"
      ]
     },
     "metadata": {},
     "output_type": "display_data"
    },
    {
     "data": {
      "text/markdown": [
       "\n",
       "#### Mandatory Search Parameters:\n",
       "\n",
       "The following search parameters, search parameter combinations and search parameter [modifiers], [comparators] and [chained parameters] SHALL be supported.  the  modifiers, comparators and chained parameters that are listed as optional SHOULD be supported.:\n",
       "\n",
       "\n",
       "1. **SHALL** support fetching an Encounter using the **[`_id`](SearchParameter-us-core-encounter-_id.html)** search parameter:\n",
       "\n",
       "    `GET [base]/Encounter[id]`\n",
       "\n",
       "    Example: GET [base]/Encounter/12354\n",
       "\n",
       "    *Implementation Notes:* Fetches a single Encounter (how to search by the [logical id] of the resource)\n",
       "\n",
       "1. **SHALL** support searching for all encounters for a patient using the **[`patient`](SearchParameter-us-core-encounter-patient.html)** search parameter:\n",
       "\n",
       "    `GET [base]/Encounter?patient=[reference]`\n",
       "\n",
       "    Example: GET [base]/Encounter?patient=1137192\n",
       "\n",
       "    *Implementation Notes:* Fetches a bundle of all Encounter resources for the specified patient (how to search by [reference])\n",
       "\n",
       "1. **SHOULD** support searching using the combination of the **[`date`](SearchParameter-us-core-encounter-date.html)** and **[`patient`](SearchParameter-us-core-encounter-patient.html)** search parameters:\n",
       "\n",
       "    `GET [base]/Encounter?date={gt|lt|ge|le}[date]&patient=[reference]`\n",
       "\n",
       "    *Implementation Notes:*  (how to search by [date] and [patient])\n",
       "\n",
       "\n",
       "\n",
       "#### Optional Search Parameters:\n",
       "\n",
       "The following search parameters, search parameter combinations and search parameter [modifiers], [comparators] and [chained parameters] SHOULD be supported.\n",
       "\n",
       "1. **SHOULD** support searching using the **[`identifier`](i.rel_url)** search parameter:\n",
       "\n",
       "    `GET [base]/Encounter?identifier={[system]}|[code]`\n",
       "\n",
       "    Example: GET [base]/Encounter?identifier=http://hospital.smarthealthit.org\\|1032702\n",
       "\n",
       "    *Implementation Notes:* Fetches a bundle containing any Encounter resources matching the identifier (how to search by [token])\n",
       "\n",
       "1. **SHOULD** support searching using the combination of the **[`class`](SearchParameter-us-core-encounter-class.html)** and **[`date`](SearchParameter-us-core-encounter-date.html)** search parameters:\n",
       "\n",
       "    `GET [base]/Encounter?class=[token]&date={gt|lt|ge|le}[date]`\n",
       "\n",
       "    *Implementation Notes:*  (how to search by [date] and [token])\n",
       "\n",
       "1. **SHOULD** support searching using the combination of the **[`class`](SearchParameter-us-core-encounter-class.html)** and **[`patient`](SearchParameter-us-core-encounter-patient.html)** search parameters:\n",
       "\n",
       "    `GET [base]/Encounter?class=[token]&patient=[reference]`\n",
       "\n",
       "    *Implementation Notes:*  (how to search by [reference] and [token])\n",
       "\n",
       "1. **SHOULD** support searching using the combination of the **[`patient`](SearchParameter-us-core-encounter-patient.html)** and **[`status`](SearchParameter-us-core-encounter-status.html)** search parameters:\n",
       "\n",
       "    `GET [base]/Encounter?patient=[reference]&status=[token]`\n",
       "\n",
       "    *Implementation Notes:*  (how to search by [reference] and [token])\n",
       "\n",
       "1. **SHOULD** support searching using the combination of the **[`patient`](SearchParameter-us-core-encounter-patient.html)** and **[`type`](SearchParameter-us-core-encounter-type.html)** search parameters:\n",
       "\n",
       "    `GET [base]/Encounter?patient=[reference]&type=[token]`\n",
       "\n",
       "    *Implementation Notes:*  (how to search by [reference] and [token])\n",
       "\n",
       "\n",
       "{% include link-list.md %}"
      ],
      "text/plain": [
       "<IPython.core.display.Markdown object>"
      ]
     },
     "metadata": {},
     "output_type": "display_data"
    }
   ],
   "source": [
    "search_type = dict(\n",
    "    token = '{[system]}|[code]',\n",
    "    id = '[id]',\n",
    "    reference = '[reference]',\n",
    "    string = '[string]',\n",
    "    uri = '[uri]',\n",
    "    date = '[date]',\n",
    "    )\n",
    "\n",
    "\n",
    "\n",
    "template = env.get_template(md_template[0])\n",
    "\n",
    "print(r_type)   \n",
    "for t in r_type:  # preprocess the for jinja templates\n",
    "    #t = 'AllergyIntolerance'\n",
    "\n",
    "    sp = [d for d in data if d.base == t]\n",
    "    sp_combos = [d for d in combo_data if d.base == t]\n",
    "    #print(sp_combos[0].base)\n",
    "    mods= {}\n",
    "    rels = {}\n",
    "    for s in sp:\n",
    "            l1=s.shall_modifier.split(',') if s.shall_modifier else []\n",
    "            l2=s.should_modifier.split(',') if s.should_modifier else []\n",
    "            l3=s.shall_comparator.split(',') if s.shall_comparator else []\n",
    "            l4=s.should_comparator.split(',') if s.should_comparator else []\n",
    "            l5=s.shall_chain.split(',') if s.shall_chain else []\n",
    "            l6=s.should_chain.split(',') if s.should_chain else []\n",
    "            mods[s.code] = (l2+l2,l3+l4,l5+l6)\n",
    "            rels[s.code] = s.rel_url\n",
    "    \n",
    "    #print(mods, rels)\n",
    "    \n",
    "\n",
    "    shalls = \"SHALL\" in [i.base_conf for i in sp] + [i.combo_conf for i in sp_combos]  # TODO need to search both singles and combos\n",
    "    shoulds = \"SHOULD\" in [i.base_conf for i in sp] + [i.combo_conf for i in sp_combos]\n",
    "    #pprint(rels)\n",
    "  \n",
    "    search_md = template.render(\n",
    "                    r_type=t,\n",
    "                    sp=sp,\n",
    "                    search_type=search_type,\n",
    "                    combos=sp_combos,\n",
    "                    shalls=shalls,\n",
    "                    shoulds=shoulds,\n",
    "                    mods = mods,\n",
    "                    rels = rels,\n",
    "                    )\n",
    "\n",
    "    \n",
    "    display(Markdown(search_md))\n",
    "    # save\n",
    "    if d.base not in skip_types:\n",
    "        path = Path.cwd() / ig_source_path / 'pages' / '_includes' / f'us-core-{t.lower()}-search.md'\n",
    "        path.write_text(search_md)"
   ]
  },
  {
   "cell_type": "markdown",
   "metadata": {},
   "source": [
    "### Create Markdown Text for SearchParameters Page\n",
    "\n",
    "- Using Jinja2 Template create markdown file for searchparameters page\n",
    "- Use spreadsheet as source"
   ]
  },
  {
   "cell_type": "code",
   "execution_count": 11,
   "metadata": {},
   "outputs": [
    {
     "name": "stdout",
     "output_type": "stream",
     "text": [
      "!Patient True\n",
      "!Patient True\n",
      "!EXAMPLE PATIENT SEARCH True\n"
     ]
    },
    {
     "data": {
      "text/markdown": [
       "---\n",
       "title: Operations and Search Parameters\n",
       "layout: default\n",
       "topofpage: true\n",
       "sectionnumbering: true\n",
       "---\n",
       "\n",
       "The following operations and search parameters have been defined for the US Core Implementation Guide.  For more information on the [FHIR RESTful operations], [FHIR RESTful search api] and the standard [Search Param Registry] see the FHIR specification.\n",
       "\n",
       "### Operations\n",
       "\n",
       "\n",
       "  {% include list-simple-operationdefinitions.xhtml %}\n",
       "\n",
       "\n",
       "<br />\n",
       "\n",
       "### Search Parameters\n",
       "\n",
       "NOTE: These search parameters **SHALL NOT** be interpreted on their own as requirements for server:\n",
       "This section lists the search parameters definitions that are used within the capability statement to define the search capabilities expectations for the US Core Server.  This is not a list of search requirements for the client or server.\n",
       "\n",
       "\n",
       "**Patient**\n",
       "  - [_id](SearchParameter-us-core-patient-id.html)\n",
       "  - [birthdate](SearchParameter-us-core-patient-birthdate.html)\n",
       "  - [family](SearchParameter-us-core-patient-family.html)\n",
       "  - [gender](SearchParameter-us-core-patient-gender.html)\n",
       "  - [given](SearchParameter-us-core-patient-given.html)\n",
       "  - [identifier](SearchParameter-us-core-patient-identifier.html)\n",
       "  - [name](SearchParameter-us-core-patient-name.html)\n",
       "\n",
       "**Condition**\n",
       "  - [category](SearchParameter-us-core-condition-category.html)\n",
       "  - [clinical-status](SearchParameter-us-core-condition-clinical-status.html)\n",
       "  - [patient](SearchParameter-us-core-condition-patient.html)\n",
       "  - [onset-date](SearchParameter-us-core-condition-onset-date.html)\n",
       "  - [code](SearchParameter-us-core-condition-code.html)\n",
       "\n",
       "**Immunization**\n",
       "  - [patient](SearchParameter-us-core-immunization-patient.html)\n",
       "  - [status](SearchParameter-us-core-immunization-status.html)\n",
       "  - [date](SearchParameter-us-core-immunization-date.html)\n",
       "\n",
       "**AllergyIntolerance**\n",
       "  - [clinical-status](SearchParameter-us-core-allergyintolerance-clinical-status.html)\n",
       "  - [patient](SearchParameter-us-core-allergyintolerance-patient.html)\n",
       "\n",
       "**Encounter**\n",
       "  - [_id](SearchParameter-us-core-encounter-id.html)\n",
       "  - [class](SearchParameter-us-core-encounter-class.html)\n",
       "  - [date](SearchParameter-us-core-encounter-date.html)\n",
       "  - [identifier](SearchParameter-us-core-encounter-identifier.html)\n",
       "  - [patient](SearchParameter-us-core-encounter-patient.html)\n",
       "  - [status](SearchParameter-us-core-encounter-status.html)\n",
       "  - [type](SearchParameter-us-core-encounter-type.html)\n",
       "\n",
       "\n",
       "\n",
       "Editors note : append these to Patient\n",
       "  - [us-core-race]\n",
       "  - [us-core-ethnicity]\n",
       "\n",
       "{% include link-list.md %}"
      ],
      "text/plain": [
       "<IPython.core.display.Markdown object>"
      ]
     },
     "metadata": {},
     "output_type": "display_data"
    },
    {
     "data": {
      "text/plain": [
       "2494"
      ]
     },
     "execution_count": 11,
     "metadata": {},
     "output_type": "execute_result"
    }
   ],
   "source": [
    "for d in data:\n",
    "    if '!' in d.base:\n",
    "        print(d.base,True)\n",
    "\n",
    "# get id for each row in spreadsheet:\n",
    "r_list={ d.base for d in data if '!' not in d.base and d.base not in skip_types}\n",
    "d_tup = []\n",
    "for d in data:\n",
    "    if d.base in r_list:\n",
    "        sp_id= [sp['id'] for sp in sp_list if d.base in sp['base'] and sp['code'] in [d.code,'id'] ]\n",
    "        d_tup.append((sp_id[0] if sp_id else None,d))\n",
    "\n",
    "template = env.get_template(md_template[1])   \n",
    "\n",
    "searchparameters_md = template.render(sp_list=d_tup,r_list=r_list)\n",
    "\n",
    "display(Markdown(searchparameters_md))\n",
    "# save in pages folder\n",
    "path = Path.cwd() / ig_source_path / 'pages' / 'searchparameters.md'\n",
    "path.write_text(searchparameters_md)"
   ]
  }
 ],
 "metadata": {
  "kernelspec": {
   "display_name": "Python 3",
   "language": "python",
   "name": "python3"
  },
  "language_info": {
   "codemirror_mode": {
    "name": "ipython",
    "version": 3
   },
   "file_extension": ".py",
   "mimetype": "text/x-python",
   "name": "python",
   "nbconvert_exporter": "python",
   "pygments_lexer": "ipython3",
   "version": "3.7.3"
  }
 },
 "nbformat": 4,
 "nbformat_minor": 2
}
