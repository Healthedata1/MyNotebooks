{
 "cells": [
  {
   "cell_type": "markdown",
   "metadata": {},
   "source": [
    "# TODO :  change from sorting by resource type to profile\n",
    "\n",
    "## Create FHIR R4 SearchParameter Resource\n",
    "\n",
    "Create FHIR R4 SearchParameter Resource, Quick start text, and Searchparameter list using the python fhir client\n",
    "\n",
    "Source data is in excel file\n",
    "\n",
    "### Prerequisites:\n",
    "\n",
    "- Python 3.7 or greater\n"
   ]
  },
  {
   "cell_type": "markdown",
   "metadata": {},
   "source": [
    "### Import FHIRR4Client and other libraries"
   ]
  },
  {
   "cell_type": "code",
   "execution_count": 47,
   "metadata": {},
   "outputs": [],
   "source": [
    "%config IPCompleter.greedy=True"
   ]
  },
  {
   "cell_type": "code",
   "execution_count": 48,
   "metadata": {},
   "outputs": [],
   "source": [
    "from fhirclient.r4models.fhirabstractbase import FHIRValidationError\n",
    "from fhirclient.r4models import searchparameter as SP\n",
    "from fhirclient.r4models import capabilitystatement as CS\n",
    "from fhirclient.r4models import bundle as B\n",
    "import fhirclient.r4models.identifier as I\n",
    "import fhirclient.r4models.coding as C\n",
    "import fhirclient.r4models.codeableconcept as CC\n",
    "import fhirclient.r4models.fhirdate as D\n",
    "import fhirclient.r4models.extension as X\n",
    "import fhirclient.r4models.contactdetail as CD\n",
    "from json import dumps, loads, load\n",
    "from requests import get, post, put\n",
    "import os\n",
    "from pathlib import Path\n",
    "from csv import reader as csvreader\n",
    "from IPython.display import display as Display, HTML, Markdown\n",
    "from pprint import pprint\n",
    "from collections import namedtuple\n",
    "from pandas import *\n",
    "from datetime import datetime\n",
    "from jinja2 import Environment, FileSystemLoader, select_autoescape\n",
    "import R4sp_summary_list as sp_map\n",
    "from stringcase import snakecase, titlecase, pascalcase\n",
    "from itertools import zip_longest\n",
    "from openpyxl import load_workbook"
   ]
  },
  {
   "cell_type": "markdown",
   "metadata": {},
   "source": [
    "####  Assign Global Variables\n",
    "\n",
    "\n",
    "Here is where we assign all the global variables for this example such as the local paths for file input and output\n",
    "\n",
    "##### Need to update:\n",
    "- base_id\n",
    "- paths\n",
    "- canonical"
   ]
  },
  {
   "cell_type": "code",
   "execution_count": 49,
   "metadata": {},
   "outputs": [],
   "source": [
    "#******************** Need to update *************************************************\n",
    "fhir_base_url = 'http://hl7.org/fhir/'\n",
    "base_id = \"US-Core\"\n",
    "canon_base = \"http://hl7.org/fhir/us/core/\"\n",
    "ig_folder = 'US-Core'\n",
    "publisher = 'HL7 International - Structured Documents Work Group'\n",
    "publisher_endpoint = dict(\n",
    "                        system = 'url',\n",
    "                        value = 'http://www.hl7.org/Special/committees/structure/index.cfm'\n",
    "                        ) \n",
    "#ig_source_path = \"//ERICS-AIR-2/ehaas/Documents/FHIR/US-Core-R4/source/\"\n",
    "ig_source_path = ''\n",
    "#ig_pages_path= '/Users/ehaas/Documents/FHIR/US-Core-R4/source/pages/_includes'\n",
    "#***********************************************************************************\n",
    "\n",
    "env = Environment(\n",
    "    loader=FileSystemLoader(searchpath = ''),\n",
    "    autoescape=select_autoescape(['html','xml','xhtml','j2','md'])\n",
    "    )\n",
    "\n",
    "md_template = ['quick_start.j2', 'sp_list_page.j2', 'cs_search_documentation.j2','sp_narrative.j2']\n",
    "\n",
    "\n",
    "fhir_term_server = 'http://test.fhir.org/r3'\n",
    "\n",
    "# profile = 'http://hl7.org/fhir/us/core/StructureDefinition/us-core-patient' # The official URL for this profile is: http://hl7.org/fhir/us/core/StructureDefinition/us-core-patient\n",
    "\n",
    "\n",
    "\n",
    "none_list = ['', ' ', 'none', 'n/a', 'N/A', 'N', 'False', 'FALSE']\n",
    "sep_list = (',', ';', ' ', ', ', '; ')\n",
    "\n"
   ]
  },
  {
   "cell_type": "markdown",
   "metadata": {},
   "source": [
    "### validate"
   ]
  },
  {
   "cell_type": "code",
   "execution_count": 50,
   "metadata": {},
   "outputs": [],
   "source": [
    "# *********************** validate Resource as Dict ********************************\n",
    "\n",
    "def validate(r):\n",
    "\n",
    "    fhir_test_server = 'http://test.fhir.org/r4'\n",
    "\n",
    "    headers = {\n",
    "    'Accept':'application/fhir+json',\n",
    "    'Content-Type':'application/fhir+json'\n",
    "    }\n",
    "    \n",
    "    params = {\n",
    "    }\n",
    "    \n",
    "    r = post(f'{fhir_test_server}/{r[\"resourceType\"]}/$validate', params = params, headers = headers, data = dumps(r))\n",
    "    # return r.status_code\n",
    "    # view  output\n",
    "    # return (r.json()[\"text\"][\"div\"])\n",
    "    return r"
   ]
  },
  {
   "cell_type": "markdown",
   "metadata": {},
   "source": [
    "### Write to File"
   ]
  },
  {
   "cell_type": "code",
   "execution_count": 51,
   "metadata": {},
   "outputs": [],
   "source": [
    "def write_file(f_name, data): # write file\n",
    "    path = Path.cwd() / 'search_md' / f_name\n",
    "    #path = pathlib.Path(r'/Users/ehaas/Documents/FHIR/US-Core-R4/source/pages/_includes')\n",
    "    path.write_text(data)\n",
    "\n",
    "write_file('foo.md', '## foo')"
   ]
  },
  {
   "cell_type": "markdown",
   "metadata": {},
   "source": [
    "### Get Search Parameter input data"
   ]
  },
  {
   "cell_type": "code",
   "execution_count": 52,
   "metadata": {},
   "outputs": [
    {
     "data": {
      "text/html": [
       "<div>\n",
       "<style scoped>\n",
       "    .dataframe tbody tr th:only-of-type {\n",
       "        vertical-align: middle;\n",
       "    }\n",
       "\n",
       "    .dataframe tbody tr th {\n",
       "        vertical-align: top;\n",
       "    }\n",
       "\n",
       "    .dataframe thead th {\n",
       "        text-align: right;\n",
       "    }\n",
       "</style>\n",
       "<table border=\"1\" class=\"dataframe\">\n",
       "  <thead>\n",
       "    <tr style=\"text-align: right;\">\n",
       "      <th></th>\n",
       "      <th>base</th>\n",
       "      <th>combo</th>\n",
       "      <th>combo_conf</th>\n",
       "      <th>types</th>\n",
       "      <th>description</th>\n",
       "      <th>example</th>\n",
       "      <th>imp_note</th>\n",
       "    </tr>\n",
       "  </thead>\n",
       "  <tbody>\n",
       "    <tr>\n",
       "      <th>0</th>\n",
       "      <td>Encounter</td>\n",
       "      <td>class,date</td>\n",
       "      <td>SHOULD</td>\n",
       "      <td>date,token</td>\n",
       "      <td></td>\n",
       "      <td></td>\n",
       "      <td></td>\n",
       "    </tr>\n",
       "    <tr>\n",
       "      <th>1</th>\n",
       "      <td>Encounter</td>\n",
       "      <td>class,date,patient</td>\n",
       "      <td>SHOULD</td>\n",
       "      <td>date,reference,token</td>\n",
       "      <td></td>\n",
       "      <td></td>\n",
       "      <td></td>\n",
       "    </tr>\n",
       "    <tr>\n",
       "      <th>2</th>\n",
       "      <td>Encounter</td>\n",
       "      <td>class,date,patient,type</td>\n",
       "      <td>SHOULD</td>\n",
       "      <td>date,reference,token</td>\n",
       "      <td></td>\n",
       "      <td></td>\n",
       "      <td></td>\n",
       "    </tr>\n",
       "    <tr>\n",
       "      <th>3</th>\n",
       "      <td>Encounter</td>\n",
       "      <td>class,date,type</td>\n",
       "      <td>SHOULD</td>\n",
       "      <td>date,token</td>\n",
       "      <td></td>\n",
       "      <td></td>\n",
       "      <td></td>\n",
       "    </tr>\n",
       "    <tr>\n",
       "      <th>4</th>\n",
       "      <td>Encounter</td>\n",
       "      <td>class,patient</td>\n",
       "      <td>SHOULD</td>\n",
       "      <td>reference,token</td>\n",
       "      <td></td>\n",
       "      <td></td>\n",
       "      <td></td>\n",
       "    </tr>\n",
       "    <tr>\n",
       "      <th>5</th>\n",
       "      <td>Encounter</td>\n",
       "      <td>class,patient,status</td>\n",
       "      <td>SHOULD</td>\n",
       "      <td>reference,token</td>\n",
       "      <td></td>\n",
       "      <td></td>\n",
       "      <td></td>\n",
       "    </tr>\n",
       "    <tr>\n",
       "      <th>6</th>\n",
       "      <td>Encounter</td>\n",
       "      <td>class,patient,status,type</td>\n",
       "      <td>SHOULD</td>\n",
       "      <td>reference,token</td>\n",
       "      <td></td>\n",
       "      <td></td>\n",
       "      <td></td>\n",
       "    </tr>\n",
       "    <tr>\n",
       "      <th>7</th>\n",
       "      <td>Encounter</td>\n",
       "      <td>class,patient,type</td>\n",
       "      <td>SHOULD</td>\n",
       "      <td>reference,token</td>\n",
       "      <td></td>\n",
       "      <td></td>\n",
       "      <td></td>\n",
       "    </tr>\n",
       "    <tr>\n",
       "      <th>8</th>\n",
       "      <td>Encounter</td>\n",
       "      <td>class,status</td>\n",
       "      <td>SHOULD</td>\n",
       "      <td>token</td>\n",
       "      <td></td>\n",
       "      <td></td>\n",
       "      <td></td>\n",
       "    </tr>\n",
       "    <tr>\n",
       "      <th>9</th>\n",
       "      <td>Encounter</td>\n",
       "      <td>class,status,type</td>\n",
       "      <td>SHOULD</td>\n",
       "      <td>token</td>\n",
       "      <td></td>\n",
       "      <td></td>\n",
       "      <td></td>\n",
       "    </tr>\n",
       "    <tr>\n",
       "      <th>10</th>\n",
       "      <td>Encounter</td>\n",
       "      <td>class,type</td>\n",
       "      <td>SHOULD</td>\n",
       "      <td>token</td>\n",
       "      <td></td>\n",
       "      <td></td>\n",
       "      <td></td>\n",
       "    </tr>\n",
       "    <tr>\n",
       "      <th>11</th>\n",
       "      <td>Encounter</td>\n",
       "      <td>date,patient</td>\n",
       "      <td>SHALL</td>\n",
       "      <td>date,reference</td>\n",
       "      <td></td>\n",
       "      <td></td>\n",
       "      <td></td>\n",
       "    </tr>\n",
       "    <tr>\n",
       "      <th>12</th>\n",
       "      <td>Encounter</td>\n",
       "      <td>date,patient,type</td>\n",
       "      <td>SHOULD</td>\n",
       "      <td>date,reference,token</td>\n",
       "      <td></td>\n",
       "      <td></td>\n",
       "      <td></td>\n",
       "    </tr>\n",
       "    <tr>\n",
       "      <th>13</th>\n",
       "      <td>Encounter</td>\n",
       "      <td>date,type</td>\n",
       "      <td>SHOULD</td>\n",
       "      <td>date,token</td>\n",
       "      <td></td>\n",
       "      <td></td>\n",
       "      <td></td>\n",
       "    </tr>\n",
       "    <tr>\n",
       "      <th>14</th>\n",
       "      <td>Encounter</td>\n",
       "      <td>patient,status</td>\n",
       "      <td>SHOULD</td>\n",
       "      <td>reference,token</td>\n",
       "      <td></td>\n",
       "      <td></td>\n",
       "      <td></td>\n",
       "    </tr>\n",
       "    <tr>\n",
       "      <th>15</th>\n",
       "      <td>Encounter</td>\n",
       "      <td>patient,status,type</td>\n",
       "      <td>SHOULD</td>\n",
       "      <td>reference,token</td>\n",
       "      <td></td>\n",
       "      <td></td>\n",
       "      <td></td>\n",
       "    </tr>\n",
       "    <tr>\n",
       "      <th>16</th>\n",
       "      <td>Encounter</td>\n",
       "      <td>patient,type</td>\n",
       "      <td>SHOULD</td>\n",
       "      <td>reference,token</td>\n",
       "      <td></td>\n",
       "      <td></td>\n",
       "      <td></td>\n",
       "    </tr>\n",
       "    <tr>\n",
       "      <th>17</th>\n",
       "      <td>Encounter</td>\n",
       "      <td>status,type</td>\n",
       "      <td>SHOULD</td>\n",
       "      <td>token</td>\n",
       "      <td></td>\n",
       "      <td></td>\n",
       "      <td></td>\n",
       "    </tr>\n",
       "    <tr>\n",
       "      <th>18</th>\n",
       "      <td>Questionnaire</td>\n",
       "      <td>context-type-value,publisher</td>\n",
       "      <td>SHOULD</td>\n",
       "      <td>composite,string</td>\n",
       "      <td></td>\n",
       "      <td></td>\n",
       "      <td></td>\n",
       "    </tr>\n",
       "    <tr>\n",
       "      <th>19</th>\n",
       "      <td>Questionnaire</td>\n",
       "      <td>context-type-value,publisher,status</td>\n",
       "      <td>SHOULD</td>\n",
       "      <td>composite,string,token</td>\n",
       "      <td></td>\n",
       "      <td></td>\n",
       "      <td></td>\n",
       "    </tr>\n",
       "    <tr>\n",
       "      <th>20</th>\n",
       "      <td>Questionnaire</td>\n",
       "      <td>context-type-value,status</td>\n",
       "      <td>SHOULD</td>\n",
       "      <td>composite,token</td>\n",
       "      <td></td>\n",
       "      <td></td>\n",
       "      <td></td>\n",
       "    </tr>\n",
       "    <tr>\n",
       "      <th>21</th>\n",
       "      <td>Questionnaire</td>\n",
       "      <td>publisher,status</td>\n",
       "      <td>SHALL</td>\n",
       "      <td>string,token</td>\n",
       "      <td></td>\n",
       "      <td></td>\n",
       "      <td></td>\n",
       "    </tr>\n",
       "    <tr>\n",
       "      <th>22</th>\n",
       "      <td>Questionnaire</td>\n",
       "      <td>publisher,status,version</td>\n",
       "      <td>SHOULD</td>\n",
       "      <td>string,token</td>\n",
       "      <td></td>\n",
       "      <td></td>\n",
       "      <td></td>\n",
       "    </tr>\n",
       "    <tr>\n",
       "      <th>23</th>\n",
       "      <td>Questionnaire</td>\n",
       "      <td>publisher,version</td>\n",
       "      <td>SHOULD</td>\n",
       "      <td>string,token</td>\n",
       "      <td></td>\n",
       "      <td></td>\n",
       "      <td></td>\n",
       "    </tr>\n",
       "    <tr>\n",
       "      <th>24</th>\n",
       "      <td>Questionnaire</td>\n",
       "      <td>status,title,version</td>\n",
       "      <td>SHOULD</td>\n",
       "      <td>string,token</td>\n",
       "      <td></td>\n",
       "      <td></td>\n",
       "      <td></td>\n",
       "    </tr>\n",
       "    <tr>\n",
       "      <th>25</th>\n",
       "      <td>Questionnaire</td>\n",
       "      <td>status,version</td>\n",
       "      <td>SHOULD</td>\n",
       "      <td>token</td>\n",
       "      <td></td>\n",
       "      <td></td>\n",
       "      <td></td>\n",
       "    </tr>\n",
       "    <tr>\n",
       "      <th>26</th>\n",
       "      <td>Questionnaire</td>\n",
       "      <td>title,version</td>\n",
       "      <td>SHOULD</td>\n",
       "      <td>string,token</td>\n",
       "      <td></td>\n",
       "      <td></td>\n",
       "      <td></td>\n",
       "    </tr>\n",
       "    <tr>\n",
       "      <th>27</th>\n",
       "      <td>Patient</td>\n",
       "      <td>birthdate,family</td>\n",
       "      <td>SHOULD</td>\n",
       "      <td>date,string</td>\n",
       "      <td></td>\n",
       "      <td></td>\n",
       "      <td></td>\n",
       "    </tr>\n",
       "    <tr>\n",
       "      <th>28</th>\n",
       "      <td>Patient</td>\n",
       "      <td>birthdate,name</td>\n",
       "      <td>SHALL</td>\n",
       "      <td>date,string</td>\n",
       "      <td></td>\n",
       "      <td></td>\n",
       "      <td></td>\n",
       "    </tr>\n",
       "    <tr>\n",
       "      <th>29</th>\n",
       "      <td>Patient</td>\n",
       "      <td>family,gender</td>\n",
       "      <td>SHOULD</td>\n",
       "      <td>string,token</td>\n",
       "      <td></td>\n",
       "      <td></td>\n",
       "      <td></td>\n",
       "    </tr>\n",
       "    <tr>\n",
       "      <th>30</th>\n",
       "      <td>Patient</td>\n",
       "      <td>gender,name</td>\n",
       "      <td>SHALL</td>\n",
       "      <td>string,token</td>\n",
       "      <td></td>\n",
       "      <td></td>\n",
       "      <td></td>\n",
       "    </tr>\n",
       "  </tbody>\n",
       "</table>\n",
       "</div>"
      ],
      "text/plain": [
       "             base                                combo combo_conf  \\\n",
       "0       Encounter                           class,date     SHOULD   \n",
       "1       Encounter                   class,date,patient     SHOULD   \n",
       "2       Encounter              class,date,patient,type     SHOULD   \n",
       "3       Encounter                      class,date,type     SHOULD   \n",
       "4       Encounter                        class,patient     SHOULD   \n",
       "5       Encounter                 class,patient,status     SHOULD   \n",
       "6       Encounter            class,patient,status,type     SHOULD   \n",
       "7       Encounter                   class,patient,type     SHOULD   \n",
       "8       Encounter                         class,status     SHOULD   \n",
       "9       Encounter                    class,status,type     SHOULD   \n",
       "10      Encounter                           class,type     SHOULD   \n",
       "11      Encounter                         date,patient      SHALL   \n",
       "12      Encounter                    date,patient,type     SHOULD   \n",
       "13      Encounter                            date,type     SHOULD   \n",
       "14      Encounter                       patient,status     SHOULD   \n",
       "15      Encounter                  patient,status,type     SHOULD   \n",
       "16      Encounter                         patient,type     SHOULD   \n",
       "17      Encounter                          status,type     SHOULD   \n",
       "18  Questionnaire         context-type-value,publisher     SHOULD   \n",
       "19  Questionnaire  context-type-value,publisher,status     SHOULD   \n",
       "20  Questionnaire            context-type-value,status     SHOULD   \n",
       "21  Questionnaire                     publisher,status      SHALL   \n",
       "22  Questionnaire             publisher,status,version     SHOULD   \n",
       "23  Questionnaire                    publisher,version     SHOULD   \n",
       "24  Questionnaire                 status,title,version     SHOULD   \n",
       "25  Questionnaire                       status,version     SHOULD   \n",
       "26  Questionnaire                        title,version     SHOULD   \n",
       "27        Patient                     birthdate,family     SHOULD   \n",
       "28        Patient                       birthdate,name      SHALL   \n",
       "29        Patient                        family,gender     SHOULD   \n",
       "30        Patient                          gender,name      SHALL   \n",
       "\n",
       "                     types description example imp_note  \n",
       "0               date,token                               \n",
       "1     date,reference,token                               \n",
       "2     date,reference,token                               \n",
       "3               date,token                               \n",
       "4          reference,token                               \n",
       "5          reference,token                               \n",
       "6          reference,token                               \n",
       "7          reference,token                               \n",
       "8                    token                               \n",
       "9                    token                               \n",
       "10                   token                               \n",
       "11          date,reference                               \n",
       "12    date,reference,token                               \n",
       "13              date,token                               \n",
       "14         reference,token                               \n",
       "15         reference,token                               \n",
       "16         reference,token                               \n",
       "17                   token                               \n",
       "18        composite,string                               \n",
       "19  composite,string,token                               \n",
       "20         composite,token                               \n",
       "21            string,token                               \n",
       "22            string,token                               \n",
       "23            string,token                               \n",
       "24            string,token                               \n",
       "25                   token                               \n",
       "26            string,token                               \n",
       "27             date,string                               \n",
       "28             date,string                               \n",
       "29            string,token                               \n",
       "30            string,token                               "
      ]
     },
     "execution_count": 52,
     "metadata": {},
     "output_type": "execute_result"
    }
   ],
   "source": [
    "#in_path = '/Users/ehaas/Documents/FHIR/pyfhir/test/'\n",
    "in_path =''\n",
    "\n",
    "in_file =\"uscore-server\"\n",
    "\n",
    "xls = ExcelFile(f'{in_path}{in_file}.xlsx')\n",
    "df = read_excel(xls,'sps',na_filter = False)\n",
    "df_combos = read_excel(xls,'sp_combos',na_filter = False)\n",
    "\n",
    "df_combos"
   ]
  },
  {
   "cell_type": "code",
   "execution_count": 53,
   "metadata": {},
   "outputs": [
    {
     "name": "stdout",
     "output_type": "stream",
     "text": [
      "Resource = Questionnaire, Search Parameter = _id, Exists = Y\n",
      "Resource = Questionnaire, Search Parameter = url, Exists = Y\n",
      "Resource = Questionnaire, Search Parameter = status, Exists = Y\n",
      "Resource = Questionnaire, Search Parameter = title, Exists = Y\n",
      "Resource = Questionnaire, Search Parameter = publisher, Exists = Y\n",
      "Resource = Questionnaire, Search Parameter = version, Exists = Y\n",
      "Resource = Questionnaire, Search Parameter = context-type-value, Exists = N\n",
      "Resource = AllergyIntolerance, Search Parameter = _id, Exists = Y\n",
      "Resource = Patient, Search Parameter = _id, Exists = Y\n",
      "Resource = Patient, Search Parameter = identifier, Exists = Y\n",
      "Resource = Patient, Search Parameter = name, Exists = Y\n",
      "Resource = Patient, Search Parameter = birthdate, Exists = Y\n",
      "Resource = Patient, Search Parameter = gender, Exists = Y\n",
      "Resource = Patient, Search Parameter = family, Exists = Y\n",
      "Resource = Patient, Search Parameter = given, Exists = Y\n",
      "Resource = !Patient, Search Parameter = address, Exists = Y\n",
      "Resource = !Patient, Search Parameter = telecom, Exists = Y\n",
      "Resource = Encounter, Search Parameter = _id, Exists = Y\n",
      "Resource = Encounter, Search Parameter = patient, Exists = Y\n",
      "Resource = Encounter, Search Parameter = date, Exists = Y\n",
      "Resource = Encounter, Search Parameter = identifier, Exists = Y\n",
      "Resource = Encounter, Search Parameter = status, Exists = Y\n",
      "Resource = Encounter, Search Parameter = class, Exists = Y\n",
      "Resource = Encounter, Search Parameter = type, Exists = Y\n",
      "Resource = Encounter, Combo Search Parameter = class,date\n",
      "Resource = Encounter, Combo Search Parameter = class,date,patient\n",
      "Resource = Encounter, Combo Search Parameter = class,date,patient,type\n",
      "Resource = Encounter, Combo Search Parameter = class,date,type\n",
      "Resource = Encounter, Combo Search Parameter = class,patient\n",
      "Resource = Encounter, Combo Search Parameter = class,patient,status\n",
      "Resource = Encounter, Combo Search Parameter = class,patient,status,type\n",
      "Resource = Encounter, Combo Search Parameter = class,patient,type\n",
      "Resource = Encounter, Combo Search Parameter = class,status\n",
      "Resource = Encounter, Combo Search Parameter = class,status,type\n",
      "Resource = Encounter, Combo Search Parameter = class,type\n",
      "Resource = Encounter, Combo Search Parameter = date,patient\n",
      "Resource = Encounter, Combo Search Parameter = date,patient,type\n",
      "Resource = Encounter, Combo Search Parameter = date,type\n",
      "Resource = Encounter, Combo Search Parameter = patient,status\n",
      "Resource = Encounter, Combo Search Parameter = patient,status,type\n",
      "Resource = Encounter, Combo Search Parameter = patient,type\n",
      "Resource = Encounter, Combo Search Parameter = status,type\n",
      "Resource = Questionnaire, Combo Search Parameter = context-type-value,publisher\n",
      "Resource = Questionnaire, Combo Search Parameter = context-type-value,publisher,status\n",
      "Resource = Questionnaire, Combo Search Parameter = context-type-value,status\n",
      "Resource = Questionnaire, Combo Search Parameter = publisher,status\n",
      "Resource = Questionnaire, Combo Search Parameter = publisher,status,version\n",
      "Resource = Questionnaire, Combo Search Parameter = publisher,version\n",
      "Resource = Questionnaire, Combo Search Parameter = status,title,version\n",
      "Resource = Questionnaire, Combo Search Parameter = status,version\n",
      "Resource = Questionnaire, Combo Search Parameter = title,version\n",
      "Resource = Patient, Combo Search Parameter = birthdate,family\n",
      "Resource = Patient, Combo Search Parameter = birthdate,name\n",
      "Resource = Patient, Combo Search Parameter = family,gender\n",
      "Resource = Patient, Combo Search Parameter = gender,name\n"
     ]
    }
   ],
   "source": [
    "data = [i for i in df.itertuples(index=True)]\n",
    "r_type =  {d.base for d in data if '!' not in d.base}\n",
    "combo_data = [i for i in df_combos.itertuples(index=True)]\n",
    "\n",
    "for d in data:\n",
    "    print(f'Resource = {d.base}, Search Parameter = {d.code}, Exists = {d.exists}')\n",
    "for c in combo_data:\n",
    "    print(f'Resource = {c.base}, Combo Search Parameter = {c.combo}')"
   ]
  },
  {
   "cell_type": "markdown",
   "metadata": {},
   "source": [
    "### update core SP with additional capabiliities"
   ]
  },
  {
   "cell_type": "markdown",
   "metadata": {},
   "source": [
    "\n",
    "- Get definitions bundle and convert to python object for ease of notation\n",
    "- use sp_map to map to Type + parameter\n",
    "- If need to update SP Extract the SP based on the excel file"
   ]
  },
  {
   "cell_type": "markdown",
   "metadata": {},
   "source": [
    "### load SP Mapping dictionary\n",
    "\n",
    "output shows a single SP entry for a sanity check"
   ]
  },
  {
   "cell_type": "code",
   "execution_count": 54,
   "metadata": {},
   "outputs": [
    {
     "name": "stdout",
     "output_type": "stream",
     "text": [
      "http://hl7.org/fhir/SearchParameter/DomainResource-text\n",
      "[('Observation', 'code', 'http://hl7.org/fhir/SearchParameter/clinical-code')]\n"
     ]
    },
    {
     "data": {
      "text/plain": [
       "{'fullUrl': 'http://hl7.org/fhir/SearchParameter/DomainResource-text',\n",
       " 'resource': {'id': 'DomainResource-text',\n",
       "  'extension': [{'url': 'http://hl7.org/fhir/StructureDefinition/structuredefinition-standards-status',\n",
       "    'valueCode': 'trial-use'}],\n",
       "  'base': ['DomainResource'],\n",
       "  'code': '_text',\n",
       "  'contact': [{'telecom': [{'system': 'url', 'value': 'http://hl7.org/fhir'}]},\n",
       "   {'telecom': [{'system': 'url',\n",
       "      'value': 'http://www.hl7.org/Special/committees/fiwg/index.cfm'}]}],\n",
       "  'date': '2019-04-18T15:23:58+00:00',\n",
       "  'description': 'Search on the narrative of the resource',\n",
       "  'experimental': False,\n",
       "  'modifier': ['missing', 'exact', 'contains'],\n",
       "  'multipleAnd': True,\n",
       "  'multipleOr': True,\n",
       "  'name': '_text',\n",
       "  'publisher': 'Health Level Seven International (FHIR Infrastructure)',\n",
       "  'status': 'draft',\n",
       "  'type': 'string',\n",
       "  'url': 'http://hl7.org/fhir/SearchParameter/DomainResource-text',\n",
       "  'version': '4.1.0',\n",
       "  'xpathUsage': 'normal',\n",
       "  'resourceType': 'SearchParameter'}}"
      ]
     },
     "execution_count": 54,
     "metadata": {},
     "output_type": "execute_result"
    }
   ],
   "source": [
    "p = Path('C:/Users/Eric/Documents/HL7/FHIR/BUILD_EDIT_FILES/R4_Definitions/search-parameters.json')\n",
    "\n",
    "b = B.Bundle(loads(p.read_text()), strict = False)\n",
    "sp = b.entry[0]\n",
    "print(sp.fullUrl)\n",
    "pprint([i for i in sp_map.sp_list2 if i[0]==\"Observation\" and i[1] == 'code'])\n",
    "sp.as_json()"
   ]
  },
  {
   "cell_type": "markdown",
   "metadata": {},
   "source": [
    "## create updated SPs\n",
    "sp optional 'modifier' elements are listed as comma separated list of shalls and shoulds for each:\n",
    "- multipleOr\n",
    "- multipleOr_conf\n",
    "- multipleAnd\n",
    "- multipleAnd_conf\n",
    "- shall_modifier\n",
    "- should_modifier\n",
    "- shall_comparator\n",
    "- should_comparator\n",
    "- shall_chain\n",
    "\n",
    "if not spedified then conformance is MAY \n",
    "\n",
    "*note that it starts out using the FHIRClient models but the switches to a dict structure to add the FHIR primitive type extensions.*"
   ]
  },
  {
   "cell_type": "code",
   "execution_count": 55,
   "metadata": {},
   "outputs": [
    {
     "name": "stdout",
     "output_type": "stream",
     "text": [
      "=========Questionnaire,_id==============\n",
      "=========Questionnaire,url==============\n",
      "Questionnaire.url\n",
      "======================= SP = us-core-questionnaire-url =====================\n"
     ]
    },
    {
     "data": {
      "text/html": [
       "<div xmlns=\"http://www.w3.org/1999/xhtml\"><p><b> Generated Narrative with Details</b></p><p><b> id</b> us-core-questionnaire-url</p><p><b> url</b> : <b> http://hl7.org/fhir/us/core/SearchParameter/us-core-questionnaire-url</b></p><p><b> version</b> : 4.1.0</p><p><b> name</b> : USCoreQuestionnaireUrl</p><p><b> derivedFrom</b> : <a> http://hl7.org/fhir/SearchParameter/Questionnaire-url</a></p><p><b> status</b> : active</p><p><b> experimental</b>  False</p><p><b> date</b> : 2019-04-25</p><p><b> publisher</b> : HL7 International - Structured Documents Work Group</p><p><b> contact</b> : http://www.hl7.org/Special/committees/structure/index.cfm</p><p><b> description</b> : The uri that identifies the questionnaire</p><p><b> useContext</b> : </p><p><b> jurisdiction</b> : United States of America (the) <span> (Details : {urn:iso:std:iso:3166 code 'US' = 'United States of America', given as 'United\n",
       "           States of America (the)'})</span></p><!--\n",
       "\t<p>\n",
       "\t\t<b> purpose</b> : Need to search by identifier for various infrastructural cases - mainly retrieving packages,\n",
       "         and matching as part of a chain</p>\n",
       "  --><p><b> code</b> : <code>url</code></p><p><b> base</b> :Questionnaire</p><p><b> type</b> : uri</p><p><b> expression</b> : <code>Questionnaire.url</code></p><p><b> xpath</b> : <code>f:Questionnaire/f:url</code></p><p><b> xpathUsage</b> : normal</p><p><b> mulitpleOr</b> : False   (Conformance Expectation = MAY)</p><p><b> mulitpleAnd</b> : False  ( Conformance Expectation = MAY)</p>\n",
       "    \n",
       "    \n",
       "    \n",
       "    <p><b> modifier</b> : <code>missing</code>  (Conformance Expectation =  MAY)</p>\n",
       "    \n",
       "    <p><b> modifier</b> : <code>below</code>  (Conformance Expectation =  MAY)</p>\n",
       "    \n",
       "    <p><b> modifier</b> : <code>above</code>  (Conformance Expectation =  MAY)</p>\n",
       "    \n",
       "    \n",
       "    \n",
       "\t\t</div>"
      ],
      "text/plain": [
       "<IPython.core.display.HTML object>"
      ]
     },
     "metadata": {},
     "output_type": "display_data"
    },
    {
     "name": "stdout",
     "output_type": "stream",
     "text": [
      "=========Questionnaire,status==============\n",
      "Questionnaire.status\n",
      "======================= SP = us-core-questionnaire-status =====================\n"
     ]
    },
    {
     "data": {
      "text/html": [
       "<div xmlns=\"http://www.w3.org/1999/xhtml\"><p><b> Generated Narrative with Details</b></p><p><b> id</b> us-core-questionnaire-status</p><p><b> url</b> : <b> http://hl7.org/fhir/us/core/SearchParameter/us-core-questionnaire-status</b></p><p><b> version</b> : 4.1.0</p><p><b> name</b> : USCoreQuestionnaireStatus</p><p><b> derivedFrom</b> : <a> http://hl7.org/fhir/SearchParameter/Questionnaire-status</a></p><p><b> status</b> : active</p><p><b> experimental</b>  False</p><p><b> date</b> : 2019-04-25</p><p><b> publisher</b> : HL7 International - Structured Documents Work Group</p><p><b> contact</b> : http://www.hl7.org/Special/committees/structure/index.cfm</p><p><b> description</b> : The current status of the questionnaire</p><p><b> useContext</b> : </p><p><b> jurisdiction</b> : United States of America (the) <span> (Details : {urn:iso:std:iso:3166 code 'US' = 'United States of America', given as 'United\n",
       "           States of America (the)'})</span></p><!--\n",
       "\t<p>\n",
       "\t\t<b> purpose</b> : Need to search by identifier for various infrastructural cases - mainly retrieving packages,\n",
       "         and matching as part of a chain</p>\n",
       "  --><p><b> code</b> : <code>status</code></p><p><b> base</b> :Questionnaire</p><p><b> type</b> : token</p><p><b> expression</b> : <code>Questionnaire.status</code></p><p><b> xpath</b> : <code>f:Questionnaire/f:status</code></p><p><b> xpathUsage</b> : normal</p><p><b> mulitpleOr</b> : True   (Conformance Expectation = MAY)</p><p><b> mulitpleAnd</b> : True  ( Conformance Expectation = MAY)</p>\n",
       "    \n",
       "    \n",
       "    \n",
       "    <p><b> modifier</b> : <code>missing</code>  (Conformance Expectation =  MAY)</p>\n",
       "    \n",
       "    <p><b> modifier</b> : <code>text</code>  (Conformance Expectation =  MAY)</p>\n",
       "    \n",
       "    <p><b> modifier</b> : <code>not</code>  (Conformance Expectation =  MAY)</p>\n",
       "    \n",
       "    <p><b> modifier</b> : <code>in</code>  (Conformance Expectation =  MAY)</p>\n",
       "    \n",
       "    <p><b> modifier</b> : <code>not-in</code>  (Conformance Expectation =  MAY)</p>\n",
       "    \n",
       "    <p><b> modifier</b> : <code>below</code>  (Conformance Expectation =  MAY)</p>\n",
       "    \n",
       "    <p><b> modifier</b> : <code>above</code>  (Conformance Expectation =  MAY)</p>\n",
       "    \n",
       "    <p><b> modifier</b> : <code>ofType</code>  (Conformance Expectation =  MAY)</p>\n",
       "    \n",
       "    \n",
       "    \n",
       "\t\t</div>"
      ],
      "text/plain": [
       "<IPython.core.display.HTML object>"
      ]
     },
     "metadata": {},
     "output_type": "display_data"
    },
    {
     "name": "stdout",
     "output_type": "stream",
     "text": [
      "=========Questionnaire,title==============\n",
      "Questionnaire.title\n",
      "======================= SP = us-core-questionnaire-title =====================\n"
     ]
    },
    {
     "data": {
      "text/html": [
       "<div xmlns=\"http://www.w3.org/1999/xhtml\"><p><b> Generated Narrative with Details</b></p><p><b> id</b> us-core-questionnaire-title</p><p><b> url</b> : <b> http://hl7.org/fhir/us/core/SearchParameter/us-core-questionnaire-title</b></p><p><b> version</b> : 4.1.0</p><p><b> name</b> : USCoreQuestionnaireTitle</p><p><b> derivedFrom</b> : <a> http://hl7.org/fhir/SearchParameter/Questionnaire-title</a></p><p><b> status</b> : active</p><p><b> experimental</b>  False</p><p><b> date</b> : 2019-04-25</p><p><b> publisher</b> : HL7 International - Structured Documents Work Group</p><p><b> contact</b> : http://www.hl7.org/Special/committees/structure/index.cfm</p><p><b> description</b> : The human-friendly name of the questionnaire</p><p><b> useContext</b> : </p><p><b> jurisdiction</b> : United States of America (the) <span> (Details : {urn:iso:std:iso:3166 code 'US' = 'United States of America', given as 'United\n",
       "           States of America (the)'})</span></p><!--\n",
       "\t<p>\n",
       "\t\t<b> purpose</b> : Need to search by identifier for various infrastructural cases - mainly retrieving packages,\n",
       "         and matching as part of a chain</p>\n",
       "  --><p><b> code</b> : <code>title</code></p><p><b> base</b> :Questionnaire</p><p><b> type</b> : string</p><p><b> expression</b> : <code>Questionnaire.title</code></p><p><b> xpath</b> : <code>f:Questionnaire/f:title</code></p><p><b> xpathUsage</b> : normal</p><p><b> mulitpleOr</b> : True   (Conformance Expectation = MAY)</p><p><b> mulitpleAnd</b> : True  ( Conformance Expectation = MAY)</p>\n",
       "    \n",
       "    \n",
       "    \n",
       "    <p><b> modifier</b> : <code>missing</code>  (Conformance Expectation =  MAY)</p>\n",
       "    \n",
       "    <p><b> modifier</b> : <code>exact</code>  (Conformance Expectation =  MAY)</p>\n",
       "    \n",
       "    <p><b> modifier</b> : <code>contains</code>  (Conformance Expectation =  MAY)</p>\n",
       "    \n",
       "    \n",
       "    \n",
       "    \n",
       "    <p><b> chain</b> : <code>foo</code>  (Conformance Expectation = SHALL)</p>\n",
       "    \n",
       "    <p><b> chain</b> : <code>bar2</code>  (Conformance Expectation = SHALL)</p>\n",
       "    \n",
       "\t\t\n",
       "\t\t</div>"
      ],
      "text/plain": [
       "<IPython.core.display.HTML object>"
      ]
     },
     "metadata": {},
     "output_type": "display_data"
    },
    {
     "name": "stdout",
     "output_type": "stream",
     "text": [
      "=========Questionnaire,publisher==============\n",
      "Questionnaire.publisher\n",
      "======================= SP = us-core-questionnaire-publisher =====================\n"
     ]
    },
    {
     "data": {
      "text/html": [
       "<div xmlns=\"http://www.w3.org/1999/xhtml\"><p><b> Generated Narrative with Details</b></p><p><b> id</b> us-core-questionnaire-publisher</p><p><b> url</b> : <b> http://hl7.org/fhir/us/core/SearchParameter/us-core-questionnaire-publisher</b></p><p><b> version</b> : 4.1.0</p><p><b> name</b> : USCoreQuestionnairePublisher</p><p><b> derivedFrom</b> : <a> http://hl7.org/fhir/SearchParameter/Questionnaire-publisher</a></p><p><b> status</b> : active</p><p><b> experimental</b>  False</p><p><b> date</b> : 2019-04-25</p><p><b> publisher</b> : HL7 International - Structured Documents Work Group</p><p><b> contact</b> : http://www.hl7.org/Special/committees/structure/index.cfm</p><p><b> description</b> : Name of the publisher of the questionnaire</p><p><b> useContext</b> : </p><p><b> jurisdiction</b> : United States of America (the) <span> (Details : {urn:iso:std:iso:3166 code 'US' = 'United States of America', given as 'United\n",
       "           States of America (the)'})</span></p><!--\n",
       "\t<p>\n",
       "\t\t<b> purpose</b> : Need to search by identifier for various infrastructural cases - mainly retrieving packages,\n",
       "         and matching as part of a chain</p>\n",
       "  --><p><b> code</b> : <code>publisher</code></p><p><b> base</b> :Questionnaire</p><p><b> type</b> : string</p><p><b> expression</b> : <code>Questionnaire.publisher</code></p><p><b> xpath</b> : <code>f:Questionnaire/f:publisher</code></p><p><b> xpathUsage</b> : normal</p><p><b> mulitpleOr</b> : True   (Conformance Expectation = MAY)</p><p><b> mulitpleAnd</b> : True  ( Conformance Expectation = MAY)</p>\n",
       "    \n",
       "    \n",
       "    \n",
       "    <p><b> modifier</b> : <code>missing</code>  (Conformance Expectation =  MAY)</p>\n",
       "    \n",
       "    <p><b> modifier</b> : <code>exact</code>  (Conformance Expectation =  MAY)</p>\n",
       "    \n",
       "    <p><b> modifier</b> : <code>contains</code>  (Conformance Expectation =  SHALL)</p>\n",
       "    \n",
       "    \n",
       "    \n",
       "\t\t</div>"
      ],
      "text/plain": [
       "<IPython.core.display.HTML object>"
      ]
     },
     "metadata": {},
     "output_type": "display_data"
    },
    {
     "name": "stdout",
     "output_type": "stream",
     "text": [
      "=========Questionnaire,version==============\n",
      "Questionnaire.version\n",
      "======================= SP = us-core-questionnaire-version =====================\n"
     ]
    },
    {
     "data": {
      "text/html": [
       "<div xmlns=\"http://www.w3.org/1999/xhtml\"><p><b> Generated Narrative with Details</b></p><p><b> id</b> us-core-questionnaire-version</p><p><b> url</b> : <b> http://hl7.org/fhir/us/core/SearchParameter/us-core-questionnaire-version</b></p><p><b> version</b> : 4.1.0</p><p><b> name</b> : USCoreQuestionnaireVersion</p><p><b> derivedFrom</b> : <a> http://hl7.org/fhir/SearchParameter/Questionnaire-version</a></p><p><b> status</b> : active</p><p><b> experimental</b>  False</p><p><b> date</b> : 2019-04-25</p><p><b> publisher</b> : HL7 International - Structured Documents Work Group</p><p><b> contact</b> : http://www.hl7.org/Special/committees/structure/index.cfm</p><p><b> description</b> : The business version of the questionnaire</p><p><b> useContext</b> : </p><p><b> jurisdiction</b> : United States of America (the) <span> (Details : {urn:iso:std:iso:3166 code 'US' = 'United States of America', given as 'United\n",
       "           States of America (the)'})</span></p><!--\n",
       "\t<p>\n",
       "\t\t<b> purpose</b> : Need to search by identifier for various infrastructural cases - mainly retrieving packages,\n",
       "         and matching as part of a chain</p>\n",
       "  --><p><b> code</b> : <code>version</code></p><p><b> base</b> :Questionnaire</p><p><b> type</b> : token</p><p><b> expression</b> : <code>Questionnaire.version</code></p><p><b> xpath</b> : <code>f:Questionnaire/f:version</code></p><p><b> xpathUsage</b> : normal</p><p><b> mulitpleOr</b> : True   (Conformance Expectation = MAY)</p><p><b> mulitpleAnd</b> : True  ( Conformance Expectation = MAY)</p>\n",
       "    \n",
       "    \n",
       "    \n",
       "    <p><b> modifier</b> : <code>missing</code>  (Conformance Expectation =  MAY)</p>\n",
       "    \n",
       "    <p><b> modifier</b> : <code>text</code>  (Conformance Expectation =  MAY)</p>\n",
       "    \n",
       "    <p><b> modifier</b> : <code>not</code>  (Conformance Expectation =  MAY)</p>\n",
       "    \n",
       "    <p><b> modifier</b> : <code>in</code>  (Conformance Expectation =  MAY)</p>\n",
       "    \n",
       "    <p><b> modifier</b> : <code>not-in</code>  (Conformance Expectation =  MAY)</p>\n",
       "    \n",
       "    <p><b> modifier</b> : <code>below</code>  (Conformance Expectation =  MAY)</p>\n",
       "    \n",
       "    <p><b> modifier</b> : <code>above</code>  (Conformance Expectation =  MAY)</p>\n",
       "    \n",
       "    <p><b> modifier</b> : <code>ofType</code>  (Conformance Expectation =  MAY)</p>\n",
       "    \n",
       "    \n",
       "    \n",
       "\t\t</div>"
      ],
      "text/plain": [
       "<IPython.core.display.HTML object>"
      ]
     },
     "metadata": {},
     "output_type": "display_data"
    },
    {
     "name": "stdout",
     "output_type": "stream",
     "text": [
      "=========Questionnaire,context-type-value==============\n",
      "Questionnaire.useContext\n",
      "======================= SP = us-core-questionnaire-context-type-value =====================\n"
     ]
    },
    {
     "data": {
      "text/html": [
       "<div xmlns=\"http://www.w3.org/1999/xhtml\"><p><b> Generated Narrative with Details</b></p><p><b> id</b> us-core-questionnaire-context-type-value</p><p><b> url</b> : <b> http://hl7.org/fhir/us/core/SearchParameter/us-core-questionnaire-context-type-value</b></p><p><b> version</b> : 4.1.0</p><p><b> name</b> : USCoreQuestionnaireContextTypeValue</p><p><b> derivedFrom</b> : <a> http://hl7.org/fhir/SearchParameter/Questionnaire-context-type-value</a></p><p><b> status</b> : active</p><p><b> experimental</b>  False</p><p><b> date</b> : 2019-04-25</p><p><b> publisher</b> : HL7 International - Structured Documents Work Group</p><p><b> contact</b> : http://www.hl7.org/Special/committees/structure/index.cfm</p><p><b> description</b> : A use context type and value assigned to the questionnaire</p><p><b> useContext</b> : </p><p><b> jurisdiction</b> : United States of America (the) <span> (Details : {urn:iso:std:iso:3166 code 'US' = 'United States of America', given as 'United\n",
       "           States of America (the)'})</span></p><!--\n",
       "\t<p>\n",
       "\t\t<b> purpose</b> : Need to search by identifier for various infrastructural cases - mainly retrieving packages,\n",
       "         and matching as part of a chain</p>\n",
       "  --><p><b> code</b> : <code>context-type-value</code></p><p><b> base</b> :Questionnaire</p><p><b> type</b> : composite</p><p><b> expression</b> : <code>Questionnaire.useContext</code></p><p><b> xpath</b> : <code></code></p><p><b> xpathUsage</b> : normal</p><p><b> mulitpleOr</b> : False   (Conformance Expectation = MAY)</p><p><b> mulitpleAnd</b> : False  ( Conformance Expectation = MAY)</p>\n",
       "    \n",
       "    \n",
       "    \n",
       "    <p><b> modifier</b> : <code>missing</code>  (Conformance Expectation =  MAY)</p>\n",
       "    \n",
       "    \n",
       "    \n",
       "\t\t</div>"
      ],
      "text/plain": [
       "<IPython.core.display.HTML object>"
      ]
     },
     "metadata": {},
     "output_type": "display_data"
    },
    {
     "name": "stdout",
     "output_type": "stream",
     "text": [
      "=========AllergyIntolerance,_id==============\n",
      "=========Patient,_id==============\n",
      "=========Patient,identifier==============\n",
      "Patient.identifier\n",
      "======================= SP = us-core-patient-identifier =====================\n"
     ]
    },
    {
     "data": {
      "text/html": [
       "<div xmlns=\"http://www.w3.org/1999/xhtml\"><p><b> Generated Narrative with Details</b></p><p><b> id</b> us-core-patient-identifier</p><p><b> url</b> : <b> http://hl7.org/fhir/us/core/SearchParameter/us-core-patient-identifier</b></p><p><b> version</b> : 4.1.0</p><p><b> name</b> : USCorePatientIdentifier</p><p><b> derivedFrom</b> : <a> http://hl7.org/fhir/SearchParameter/Patient-identifier</a></p><p><b> status</b> : active</p><p><b> experimental</b>  False</p><p><b> date</b> : 2019-04-25</p><p><b> publisher</b> : HL7 International - Structured Documents Work Group</p><p><b> contact</b> : http://www.hl7.org/Special/committees/structure/index.cfm</p><p><b> description</b> : A patient identifier</p><p><b> useContext</b> : </p><p><b> jurisdiction</b> : United States of America (the) <span> (Details : {urn:iso:std:iso:3166 code 'US' = 'United States of America', given as 'United\n",
       "           States of America (the)'})</span></p><!--\n",
       "\t<p>\n",
       "\t\t<b> purpose</b> : Need to search by identifier for various infrastructural cases - mainly retrieving packages,\n",
       "         and matching as part of a chain</p>\n",
       "  --><p><b> code</b> : <code>identifier</code></p><p><b> base</b> :Patient</p><p><b> type</b> : token</p><p><b> expression</b> : <code>Patient.identifier</code></p><p><b> xpath</b> : <code>f:Patient/f:identifier</code></p><p><b> xpathUsage</b> : normal</p><p><b> mulitpleOr</b> : True   (Conformance Expectation = MAY)</p><p><b> mulitpleAnd</b> : True  ( Conformance Expectation = MAY)</p>\n",
       "    \n",
       "    \n",
       "    \n",
       "    <p><b> modifier</b> : <code>missing</code>  (Conformance Expectation =  MAY)</p>\n",
       "    \n",
       "    <p><b> modifier</b> : <code>text</code>  (Conformance Expectation =  MAY)</p>\n",
       "    \n",
       "    <p><b> modifier</b> : <code>not</code>  (Conformance Expectation =  MAY)</p>\n",
       "    \n",
       "    <p><b> modifier</b> : <code>in</code>  (Conformance Expectation =  MAY)</p>\n",
       "    \n",
       "    <p><b> modifier</b> : <code>not-in</code>  (Conformance Expectation =  MAY)</p>\n",
       "    \n",
       "    <p><b> modifier</b> : <code>below</code>  (Conformance Expectation =  MAY)</p>\n",
       "    \n",
       "    <p><b> modifier</b> : <code>above</code>  (Conformance Expectation =  MAY)</p>\n",
       "    \n",
       "    <p><b> modifier</b> : <code>ofType</code>  (Conformance Expectation =  MAY)</p>\n",
       "    \n",
       "    \n",
       "    \n",
       "\t\t</div>"
      ],
      "text/plain": [
       "<IPython.core.display.HTML object>"
      ]
     },
     "metadata": {},
     "output_type": "display_data"
    },
    {
     "name": "stdout",
     "output_type": "stream",
     "text": [
      "=========Patient,name==============\n",
      "Patient.name\n",
      "======================= SP = us-core-patient-name =====================\n"
     ]
    },
    {
     "data": {
      "text/html": [
       "<div xmlns=\"http://www.w3.org/1999/xhtml\"><p><b> Generated Narrative with Details</b></p><p><b> id</b> us-core-patient-name</p><p><b> url</b> : <b> http://hl7.org/fhir/us/core/SearchParameter/us-core-patient-name</b></p><p><b> version</b> : 4.1.0</p><p><b> name</b> : USCorePatientName</p><p><b> derivedFrom</b> : <a> http://hl7.org/fhir/SearchParameter/Patient-name</a></p><p><b> status</b> : active</p><p><b> experimental</b>  False</p><p><b> date</b> : 2019-04-25</p><p><b> publisher</b> : HL7 International - Structured Documents Work Group</p><p><b> contact</b> : http://www.hl7.org/Special/committees/structure/index.cfm</p><p><b> description</b> : A server defined search that may match any of the string fields in the HumanName, including family, give, prefix, suffix, suffix, and/or text</p><p><b> useContext</b> : </p><p><b> jurisdiction</b> : United States of America (the) <span> (Details : {urn:iso:std:iso:3166 code 'US' = 'United States of America', given as 'United\n",
       "           States of America (the)'})</span></p><!--\n",
       "\t<p>\n",
       "\t\t<b> purpose</b> : Need to search by identifier for various infrastructural cases - mainly retrieving packages,\n",
       "         and matching as part of a chain</p>\n",
       "  --><p><b> code</b> : <code>name</code></p><p><b> base</b> :Patient</p><p><b> type</b> : string</p><p><b> expression</b> : <code>Patient.name</code></p><p><b> xpath</b> : <code>f:Patient/f:name</code></p><p><b> xpathUsage</b> : normal</p><p><b> mulitpleOr</b> : True   (Conformance Expectation = MAY)</p><p><b> mulitpleAnd</b> : True  ( Conformance Expectation = MAY)</p>\n",
       "    \n",
       "    \n",
       "    \n",
       "    <p><b> modifier</b> : <code>missing</code>  (Conformance Expectation =  MAY)</p>\n",
       "    \n",
       "    <p><b> modifier</b> : <code>exact</code>  (Conformance Expectation =  MAY)</p>\n",
       "    \n",
       "    <p><b> modifier</b> : <code>contains</code>  (Conformance Expectation =  MAY)</p>\n",
       "    \n",
       "    \n",
       "    \n",
       "\t\t</div>"
      ],
      "text/plain": [
       "<IPython.core.display.HTML object>"
      ]
     },
     "metadata": {},
     "output_type": "display_data"
    },
    {
     "name": "stdout",
     "output_type": "stream",
     "text": [
      "=========Patient,birthdate==============\n",
      "======================= SP = us-core-patient-birthdate =====================\n"
     ]
    },
    {
     "data": {
      "text/html": [
       "<div xmlns=\"http://www.w3.org/1999/xhtml\"><p><b> Generated Narrative with Details</b></p><p><b> id</b> us-core-patient-birthdate</p><p><b> url</b> : <b> http://hl7.org/fhir/us/core/SearchParameter/us-core-patient-birthdate</b></p><p><b> version</b> : 4.1.0</p><p><b> name</b> : USCorePatientBirthdate</p><p><b> derivedFrom</b> : <a> http://hl7.org/fhir/SearchParameter/individual-birthdate</a></p><p><b> status</b> : active</p><p><b> experimental</b>  False</p><p><b> date</b> : 2019-04-25</p><p><b> publisher</b> : HL7 International - Structured Documents Work Group</p><p><b> contact</b> : http://www.hl7.org/Special/committees/structure/index.cfm</p><p><b> description</b> : The patient&#39;s date of birth</p><p><b> useContext</b> : </p><p><b> jurisdiction</b> : United States of America (the) <span> (Details : {urn:iso:std:iso:3166 code 'US' = 'United States of America', given as 'United\n",
       "           States of America (the)'})</span></p><!--\n",
       "\t<p>\n",
       "\t\t<b> purpose</b> : Need to search by identifier for various infrastructural cases - mainly retrieving packages,\n",
       "         and matching as part of a chain</p>\n",
       "  --><p><b> code</b> : <code>birthdate</code></p><p><b> base</b> :Patient</p><p><b> type</b> : date</p><p><b> expression</b> : <code>Patient.birthDate </code></p><p><b> xpath</b> : <code>f:Patient/f:birthDate </code></p><p><b> xpathUsage</b> : normal</p><p><b> mulitpleOr</b> : True   (Conformance Expectation = MAY)</p><p><b> mulitpleAnd</b> : False  ( Conformance Expectation = MAY)</p>\n",
       "    \n",
       "    \n",
       "    <p><b> comparator</b> : <code>eq</code> ( Conformance Expectation = MAY)</p>\n",
       "    \n",
       "    <p><b> comparator</b> : <code>ne</code> ( Conformance Expectation = MAY)</p>\n",
       "    \n",
       "    <p><b> comparator</b> : <code>gt</code> ( Conformance Expectation = MAY)</p>\n",
       "    \n",
       "    <p><b> comparator</b> : <code>lt</code> ( Conformance Expectation = MAY)</p>\n",
       "    \n",
       "    <p><b> comparator</b> : <code>le</code> ( Conformance Expectation = MAY)</p>\n",
       "    \n",
       "    <p><b> comparator</b> : <code>sa</code> ( Conformance Expectation = MAY)</p>\n",
       "    \n",
       "    <p><b> comparator</b> : <code>eb</code> ( Conformance Expectation = MAY)</p>\n",
       "    \n",
       "    <p><b> comparator</b> : <code>ap</code> ( Conformance Expectation = MAY)</p>\n",
       "    \n",
       "    \n",
       "    \n",
       "    \n",
       "    <p><b> modifier</b> : <code>missing</code>  (Conformance Expectation =  MAY)</p>\n",
       "    \n",
       "    \n",
       "    \n",
       "\t\t</div>"
      ],
      "text/plain": [
       "<IPython.core.display.HTML object>"
      ]
     },
     "metadata": {},
     "output_type": "display_data"
    },
    {
     "name": "stdout",
     "output_type": "stream",
     "text": [
      "=========Patient,gender==============\n",
      "======================= SP = us-core-patient-gender =====================\n"
     ]
    },
    {
     "data": {
      "text/html": [
       "<div xmlns=\"http://www.w3.org/1999/xhtml\"><p><b> Generated Narrative with Details</b></p><p><b> id</b> us-core-patient-gender</p><p><b> url</b> : <b> http://hl7.org/fhir/us/core/SearchParameter/us-core-patient-gender</b></p><p><b> version</b> : 4.1.0</p><p><b> name</b> : USCorePatientGender</p><p><b> derivedFrom</b> : <a> http://hl7.org/fhir/SearchParameter/individual-gender</a></p><p><b> status</b> : active</p><p><b> experimental</b>  False</p><p><b> date</b> : 2019-04-25</p><p><b> publisher</b> : HL7 International - Structured Documents Work Group</p><p><b> contact</b> : http://www.hl7.org/Special/committees/structure/index.cfm</p><p><b> description</b> : Gender of the patient</p><p><b> useContext</b> : </p><p><b> jurisdiction</b> : United States of America (the) <span> (Details : {urn:iso:std:iso:3166 code 'US' = 'United States of America', given as 'United\n",
       "           States of America (the)'})</span></p><!--\n",
       "\t<p>\n",
       "\t\t<b> purpose</b> : Need to search by identifier for various infrastructural cases - mainly retrieving packages,\n",
       "         and matching as part of a chain</p>\n",
       "  --><p><b> code</b> : <code>gender</code></p><p><b> base</b> :Patient</p><p><b> type</b> : token</p><p><b> expression</b> : <code>Patient.gender </code></p><p><b> xpath</b> : <code>f:Patient/f:gender </code></p><p><b> xpathUsage</b> : normal</p><p><b> mulitpleOr</b> : True   (Conformance Expectation = MAY)</p><p><b> mulitpleAnd</b> : False  ( Conformance Expectation = MAY)</p>\n",
       "    \n",
       "    \n",
       "    \n",
       "    <p><b> modifier</b> : <code>missing</code>  (Conformance Expectation =  MAY)</p>\n",
       "    \n",
       "    <p><b> modifier</b> : <code>text</code>  (Conformance Expectation =  MAY)</p>\n",
       "    \n",
       "    <p><b> modifier</b> : <code>not</code>  (Conformance Expectation =  MAY)</p>\n",
       "    \n",
       "    <p><b> modifier</b> : <code>in</code>  (Conformance Expectation =  MAY)</p>\n",
       "    \n",
       "    <p><b> modifier</b> : <code>not-in</code>  (Conformance Expectation =  MAY)</p>\n",
       "    \n",
       "    <p><b> modifier</b> : <code>below</code>  (Conformance Expectation =  MAY)</p>\n",
       "    \n",
       "    <p><b> modifier</b> : <code>above</code>  (Conformance Expectation =  MAY)</p>\n",
       "    \n",
       "    <p><b> modifier</b> : <code>ofType</code>  (Conformance Expectation =  MAY)</p>\n",
       "    \n",
       "    \n",
       "    \n",
       "\t\t</div>"
      ],
      "text/plain": [
       "<IPython.core.display.HTML object>"
      ]
     },
     "metadata": {},
     "output_type": "display_data"
    },
    {
     "name": "stdout",
     "output_type": "stream",
     "text": [
      "=========Patient,family==============\n",
      "======================= SP = us-core-patient-family =====================\n"
     ]
    },
    {
     "data": {
      "text/html": [
       "<div xmlns=\"http://www.w3.org/1999/xhtml\"><p><b> Generated Narrative with Details</b></p><p><b> id</b> us-core-patient-family</p><p><b> url</b> : <b> http://hl7.org/fhir/us/core/SearchParameter/us-core-patient-family</b></p><p><b> version</b> : 4.1.0</p><p><b> name</b> : USCorePatientFamily</p><p><b> derivedFrom</b> : <a> http://hl7.org/fhir/SearchParameter/individual-family</a></p><p><b> status</b> : active</p><p><b> experimental</b>  False</p><p><b> date</b> : 2019-04-25</p><p><b> publisher</b> : HL7 International - Structured Documents Work Group</p><p><b> contact</b> : http://www.hl7.org/Special/committees/structure/index.cfm</p><p><b> description</b> : A portion of the family name of the patient</p><p><b> useContext</b> : </p><p><b> jurisdiction</b> : United States of America (the) <span> (Details : {urn:iso:std:iso:3166 code 'US' = 'United States of America', given as 'United\n",
       "           States of America (the)'})</span></p><!--\n",
       "\t<p>\n",
       "\t\t<b> purpose</b> : Need to search by identifier for various infrastructural cases - mainly retrieving packages,\n",
       "         and matching as part of a chain</p>\n",
       "  --><p><b> code</b> : <code>family</code></p><p><b> base</b> :Patient</p><p><b> type</b> : string</p><p><b> expression</b> : <code>Patient.name.family </code></p><p><b> xpath</b> : <code>f:Patient/f:name/f:family </code></p><p><b> xpathUsage</b> : normal</p><p><b> mulitpleOr</b> : True   (Conformance Expectation = MAY)</p><p><b> mulitpleAnd</b> : False  ( Conformance Expectation = MAY)</p>\n",
       "    \n",
       "    \n",
       "    \n",
       "    <p><b> modifier</b> : <code>missing</code>  (Conformance Expectation =  MAY)</p>\n",
       "    \n",
       "    <p><b> modifier</b> : <code>exact</code>  (Conformance Expectation =  MAY)</p>\n",
       "    \n",
       "    <p><b> modifier</b> : <code>contains</code>  (Conformance Expectation =  MAY)</p>\n",
       "    \n",
       "    \n",
       "    \n",
       "\t\t</div>"
      ],
      "text/plain": [
       "<IPython.core.display.HTML object>"
      ]
     },
     "metadata": {},
     "output_type": "display_data"
    },
    {
     "name": "stdout",
     "output_type": "stream",
     "text": [
      "=========Patient,given==============\n",
      "======================= SP = us-core-patient-given =====================\n"
     ]
    },
    {
     "data": {
      "text/html": [
       "<div xmlns=\"http://www.w3.org/1999/xhtml\"><p><b> Generated Narrative with Details</b></p><p><b> id</b> us-core-patient-given</p><p><b> url</b> : <b> http://hl7.org/fhir/us/core/SearchParameter/us-core-patient-given</b></p><p><b> version</b> : 4.1.0</p><p><b> name</b> : USCorePatientGiven</p><p><b> derivedFrom</b> : <a> http://hl7.org/fhir/SearchParameter/individual-given</a></p><p><b> status</b> : active</p><p><b> experimental</b>  False</p><p><b> date</b> : 2019-04-25</p><p><b> publisher</b> : HL7 International - Structured Documents Work Group</p><p><b> contact</b> : http://www.hl7.org/Special/committees/structure/index.cfm</p><p><b> description</b> : A portion of the given name of the patient</p><p><b> useContext</b> : </p><p><b> jurisdiction</b> : United States of America (the) <span> (Details : {urn:iso:std:iso:3166 code 'US' = 'United States of America', given as 'United\n",
       "           States of America (the)'})</span></p><!--\n",
       "\t<p>\n",
       "\t\t<b> purpose</b> : Need to search by identifier for various infrastructural cases - mainly retrieving packages,\n",
       "         and matching as part of a chain</p>\n",
       "  --><p><b> code</b> : <code>given</code></p><p><b> base</b> :Patient</p><p><b> type</b> : string</p><p><b> expression</b> : <code>Patient.name.given </code></p><p><b> xpath</b> : <code>f:Patient/f:name/f:given </code></p><p><b> xpathUsage</b> : normal</p><p><b> mulitpleOr</b> : True   (Conformance Expectation = MAY)</p><p><b> mulitpleAnd</b> : False  ( Conformance Expectation = MAY)</p>\n",
       "    \n",
       "    \n",
       "    \n",
       "    <p><b> modifier</b> : <code>missing</code>  (Conformance Expectation =  MAY)</p>\n",
       "    \n",
       "    <p><b> modifier</b> : <code>exact</code>  (Conformance Expectation =  MAY)</p>\n",
       "    \n",
       "    <p><b> modifier</b> : <code>contains</code>  (Conformance Expectation =  MAY)</p>\n",
       "    \n",
       "    \n",
       "    \n",
       "\t\t</div>"
      ],
      "text/plain": [
       "<IPython.core.display.HTML object>"
      ]
     },
     "metadata": {},
     "output_type": "display_data"
    },
    {
     "name": "stdout",
     "output_type": "stream",
     "text": [
      "=========!Patient,address==============\n",
      "=========!Patient,telecom==============\n",
      "=========Encounter,_id==============\n",
      "=========Encounter,patient==============\n",
      "======================= SP = us-core-encounter-patient =====================\n"
     ]
    },
    {
     "data": {
      "text/html": [
       "<div xmlns=\"http://www.w3.org/1999/xhtml\"><p><b> Generated Narrative with Details</b></p><p><b> id</b> us-core-encounter-patient</p><p><b> url</b> : <b> http://hl7.org/fhir/us/core/SearchParameter/us-core-encounter-patient</b></p><p><b> version</b> : 4.1.0</p><p><b> name</b> : USCoreEncounterPatient</p><p><b> derivedFrom</b> : <a> http://hl7.org/fhir/SearchParameter/clinical-patient</a></p><p><b> status</b> : active</p><p><b> experimental</b>  False</p><p><b> date</b> : 2019-04-25</p><p><b> publisher</b> : HL7 International - Structured Documents Work Group</p><p><b> contact</b> : http://www.hl7.org/Special/committees/structure/index.cfm</p><p><b> description</b> : The patient or group present at the encounter</p><p><b> useContext</b> : </p><p><b> jurisdiction</b> : United States of America (the) <span> (Details : {urn:iso:std:iso:3166 code 'US' = 'United States of America', given as 'United\n",
       "           States of America (the)'})</span></p><!--\n",
       "\t<p>\n",
       "\t\t<b> purpose</b> : Need to search by identifier for various infrastructural cases - mainly retrieving packages,\n",
       "         and matching as part of a chain</p>\n",
       "  --><p><b> code</b> : <code>patient</code></p><p><b> base</b> :Encounter</p><p><b> type</b> : reference</p><p><b> expression</b> : <code>Encounter.subject.where(resolve() is Patient)</code></p><p><b> xpath</b> : <code>f:Encounter/f:subject</code></p><p><b> xpathUsage</b> : normal</p><p><b> mulitpleOr</b> : True   (Conformance Expectation = MAY)</p><p><b> mulitpleAnd</b> : False  ( Conformance Expectation = MAY)</p>\n",
       "    \n",
       "    \n",
       "    \n",
       "    <p><b> modifier</b> : <code>missing</code>  (Conformance Expectation =  MAY)</p>\n",
       "    \n",
       "    <p><b> modifier</b> : <code>type</code>  (Conformance Expectation =  MAY)</p>\n",
       "    \n",
       "    <p><b> modifier</b> : <code>identifier</code>  (Conformance Expectation =  MAY)</p>\n",
       "    \n",
       "    \n",
       "    \n",
       "\t\t</div>"
      ],
      "text/plain": [
       "<IPython.core.display.HTML object>"
      ]
     },
     "metadata": {},
     "output_type": "display_data"
    },
    {
     "name": "stdout",
     "output_type": "stream",
     "text": [
      "=========Encounter,date==============\n",
      "======================= SP = us-core-encounter-date =====================\n"
     ]
    },
    {
     "data": {
      "text/html": [
       "<div xmlns=\"http://www.w3.org/1999/xhtml\"><p><b> Generated Narrative with Details</b></p><p><b> id</b> us-core-encounter-date</p><p><b> url</b> : <b> http://hl7.org/fhir/us/core/SearchParameter/us-core-encounter-date</b></p><p><b> version</b> : 4.1.0</p><p><b> name</b> : USCoreEncounterDate</p><p><b> derivedFrom</b> : <a> http://hl7.org/fhir/SearchParameter/clinical-date</a></p><p><b> status</b> : active</p><p><b> experimental</b>  False</p><p><b> date</b> : 2019-04-25</p><p><b> publisher</b> : HL7 International - Structured Documents Work Group</p><p><b> contact</b> : http://www.hl7.org/Special/committees/structure/index.cfm</p><p><b> description</b> : A date within the period the Encounter lasted</p><p><b> useContext</b> : </p><p><b> jurisdiction</b> : United States of America (the) <span> (Details : {urn:iso:std:iso:3166 code 'US' = 'United States of America', given as 'United\n",
       "           States of America (the)'})</span></p><!--\n",
       "\t<p>\n",
       "\t\t<b> purpose</b> : Need to search by identifier for various infrastructural cases - mainly retrieving packages,\n",
       "         and matching as part of a chain</p>\n",
       "  --><p><b> code</b> : <code>date</code></p><p><b> base</b> :Encounter</p><p><b> type</b> : date</p><p><b> expression</b> : <code>Encounter.period</code></p><p><b> xpath</b> : <code>f:Encounter/f:period</code></p><p><b> xpathUsage</b> : normal</p><p><b> mulitpleOr</b> : True   (Conformance Expectation = MAY)</p><p><b> mulitpleAnd</b> : True  ( Conformance Expectation = MAY)</p>\n",
       "    \n",
       "    \n",
       "    <p><b> comparator</b> : <code>eq</code> ( Conformance Expectation = MAY)</p>\n",
       "    \n",
       "    <p><b> comparator</b> : <code>ne</code> ( Conformance Expectation = MAY)</p>\n",
       "    \n",
       "    <p><b> comparator</b> : <code>gt</code> ( Conformance Expectation = SHALL)</p>\n",
       "    \n",
       "    <p><b> comparator</b> : <code>lt</code> ( Conformance Expectation = SHALL)</p>\n",
       "    \n",
       "    <p><b> comparator</b> : <code>le</code> ( Conformance Expectation = SHALL)</p>\n",
       "    \n",
       "    <p><b> comparator</b> : <code>sa</code> ( Conformance Expectation = MAY)</p>\n",
       "    \n",
       "    <p><b> comparator</b> : <code>eb</code> ( Conformance Expectation = MAY)</p>\n",
       "    \n",
       "    <p><b> comparator</b> : <code>ap</code> ( Conformance Expectation = MAY)</p>\n",
       "    \n",
       "    \n",
       "    \n",
       "    \n",
       "    <p><b> modifier</b> : <code>missing</code>  (Conformance Expectation =  MAY)</p>\n",
       "    \n",
       "    \n",
       "    \n",
       "\t\t</div>"
      ],
      "text/plain": [
       "<IPython.core.display.HTML object>"
      ]
     },
     "metadata": {},
     "output_type": "display_data"
    },
    {
     "name": "stdout",
     "output_type": "stream",
     "text": [
      "=========Encounter,identifier==============\n",
      "======================= SP = us-core-encounter-identifier =====================\n"
     ]
    },
    {
     "data": {
      "text/html": [
       "<div xmlns=\"http://www.w3.org/1999/xhtml\"><p><b> Generated Narrative with Details</b></p><p><b> id</b> us-core-encounter-identifier</p><p><b> url</b> : <b> http://hl7.org/fhir/us/core/SearchParameter/us-core-encounter-identifier</b></p><p><b> version</b> : 4.1.0</p><p><b> name</b> : USCoreEncounterIdentifier</p><p><b> derivedFrom</b> : <a> http://hl7.org/fhir/SearchParameter/clinical-identifier</a></p><p><b> status</b> : active</p><p><b> experimental</b>  False</p><p><b> date</b> : 2019-04-25</p><p><b> publisher</b> : HL7 International - Structured Documents Work Group</p><p><b> contact</b> : http://www.hl7.org/Special/committees/structure/index.cfm</p><p><b> description</b> : Identifier(s) by which this encounter is known</p><p><b> useContext</b> : </p><p><b> jurisdiction</b> : United States of America (the) <span> (Details : {urn:iso:std:iso:3166 code 'US' = 'United States of America', given as 'United\n",
       "           States of America (the)'})</span></p><!--\n",
       "\t<p>\n",
       "\t\t<b> purpose</b> : Need to search by identifier for various infrastructural cases - mainly retrieving packages,\n",
       "         and matching as part of a chain</p>\n",
       "  --><p><b> code</b> : <code>identifier</code></p><p><b> base</b> :Encounter</p><p><b> type</b> : token</p><p><b> expression</b> : <code>Encounter.identifier</code></p><p><b> xpath</b> : <code>f:Encounter/f:identifier</code></p><p><b> xpathUsage</b> : normal</p><p><b> mulitpleOr</b> : True   (Conformance Expectation = MAY)</p><p><b> mulitpleAnd</b> : True  ( Conformance Expectation = MAY)</p>\n",
       "    \n",
       "    \n",
       "    \n",
       "    <p><b> modifier</b> : <code>missing</code>  (Conformance Expectation =  MAY)</p>\n",
       "    \n",
       "    <p><b> modifier</b> : <code>text</code>  (Conformance Expectation =  MAY)</p>\n",
       "    \n",
       "    <p><b> modifier</b> : <code>not</code>  (Conformance Expectation =  MAY)</p>\n",
       "    \n",
       "    <p><b> modifier</b> : <code>in</code>  (Conformance Expectation =  MAY)</p>\n",
       "    \n",
       "    <p><b> modifier</b> : <code>not-in</code>  (Conformance Expectation =  MAY)</p>\n",
       "    \n",
       "    <p><b> modifier</b> : <code>below</code>  (Conformance Expectation =  MAY)</p>\n",
       "    \n",
       "    <p><b> modifier</b> : <code>above</code>  (Conformance Expectation =  MAY)</p>\n",
       "    \n",
       "    <p><b> modifier</b> : <code>ofType</code>  (Conformance Expectation =  MAY)</p>\n",
       "    \n",
       "    \n",
       "    \n",
       "\t\t</div>"
      ],
      "text/plain": [
       "<IPython.core.display.HTML object>"
      ]
     },
     "metadata": {},
     "output_type": "display_data"
    },
    {
     "name": "stdout",
     "output_type": "stream",
     "text": [
      "=========Encounter,status==============\n",
      "Encounter.status\n",
      "======================= SP = us-core-encounter-status =====================\n"
     ]
    },
    {
     "data": {
      "text/html": [
       "<div xmlns=\"http://www.w3.org/1999/xhtml\"><p><b> Generated Narrative with Details</b></p><p><b> id</b> us-core-encounter-status</p><p><b> url</b> : <b> http://hl7.org/fhir/us/core/SearchParameter/us-core-encounter-status</b></p><p><b> version</b> : 4.1.0</p><p><b> name</b> : USCoreEncounterStatus</p><p><b> derivedFrom</b> : <a> http://hl7.org/fhir/SearchParameter/Encounter-status</a></p><p><b> status</b> : active</p><p><b> experimental</b>  False</p><p><b> date</b> : 2019-04-25</p><p><b> publisher</b> : HL7 International - Structured Documents Work Group</p><p><b> contact</b> : http://www.hl7.org/Special/committees/structure/index.cfm</p><p><b> description</b> : planned | in-progress | onhold | completed | cancelled | entered-in-error | unknown</p><p><b> useContext</b> : </p><p><b> jurisdiction</b> : United States of America (the) <span> (Details : {urn:iso:std:iso:3166 code 'US' = 'United States of America', given as 'United\n",
       "           States of America (the)'})</span></p><!--\n",
       "\t<p>\n",
       "\t\t<b> purpose</b> : Need to search by identifier for various infrastructural cases - mainly retrieving packages,\n",
       "         and matching as part of a chain</p>\n",
       "  --><p><b> code</b> : <code>status</code></p><p><b> base</b> :Encounter</p><p><b> type</b> : token</p><p><b> expression</b> : <code>Encounter.status</code></p><p><b> xpath</b> : <code>f:Encounter/f:status</code></p><p><b> xpathUsage</b> : normal</p><p><b> mulitpleOr</b> : True   (Conformance Expectation = MAY)</p><p><b> mulitpleAnd</b> : False  ( Conformance Expectation = MAY)</p>\n",
       "    \n",
       "    \n",
       "    \n",
       "    <p><b> modifier</b> : <code>missing</code>  (Conformance Expectation =  MAY)</p>\n",
       "    \n",
       "    <p><b> modifier</b> : <code>text</code>  (Conformance Expectation =  MAY)</p>\n",
       "    \n",
       "    <p><b> modifier</b> : <code>not</code>  (Conformance Expectation =  MAY)</p>\n",
       "    \n",
       "    <p><b> modifier</b> : <code>in</code>  (Conformance Expectation =  MAY)</p>\n",
       "    \n",
       "    <p><b> modifier</b> : <code>not-in</code>  (Conformance Expectation =  MAY)</p>\n",
       "    \n",
       "    <p><b> modifier</b> : <code>below</code>  (Conformance Expectation =  MAY)</p>\n",
       "    \n",
       "    <p><b> modifier</b> : <code>above</code>  (Conformance Expectation =  MAY)</p>\n",
       "    \n",
       "    <p><b> modifier</b> : <code>ofType</code>  (Conformance Expectation =  MAY)</p>\n",
       "    \n",
       "    \n",
       "    \n",
       "\t\t</div>"
      ],
      "text/plain": [
       "<IPython.core.display.HTML object>"
      ]
     },
     "metadata": {},
     "output_type": "display_data"
    },
    {
     "name": "stdout",
     "output_type": "stream",
     "text": [
      "=========Encounter,class==============\n",
      "Encounter.class\n",
      "======================= SP = us-core-encounter-class =====================\n"
     ]
    },
    {
     "data": {
      "text/html": [
       "<div xmlns=\"http://www.w3.org/1999/xhtml\"><p><b> Generated Narrative with Details</b></p><p><b> id</b> us-core-encounter-class</p><p><b> url</b> : <b> http://hl7.org/fhir/us/core/SearchParameter/us-core-encounter-class</b></p><p><b> version</b> : 4.1.0</p><p><b> name</b> : USCoreEncounterClass</p><p><b> derivedFrom</b> : <a> http://hl7.org/fhir/SearchParameter/Encounter-class</a></p><p><b> status</b> : active</p><p><b> experimental</b>  False</p><p><b> date</b> : 2019-04-25</p><p><b> publisher</b> : HL7 International - Structured Documents Work Group</p><p><b> contact</b> : http://www.hl7.org/Special/committees/structure/index.cfm</p><p><b> description</b> : Classification of patient encounter</p><p><b> useContext</b> : </p><p><b> jurisdiction</b> : United States of America (the) <span> (Details : {urn:iso:std:iso:3166 code 'US' = 'United States of America', given as 'United\n",
       "           States of America (the)'})</span></p><!--\n",
       "\t<p>\n",
       "\t\t<b> purpose</b> : Need to search by identifier for various infrastructural cases - mainly retrieving packages,\n",
       "         and matching as part of a chain</p>\n",
       "  --><p><b> code</b> : <code>class</code></p><p><b> base</b> :Encounter</p><p><b> type</b> : token</p><p><b> expression</b> : <code>Encounter.class</code></p><p><b> xpath</b> : <code>f:Encounter/f:class</code></p><p><b> xpathUsage</b> : normal</p><p><b> mulitpleOr</b> : True   (Conformance Expectation = MAY)</p><p><b> mulitpleAnd</b> : True  ( Conformance Expectation = MAY)</p>\n",
       "    \n",
       "    \n",
       "    \n",
       "    <p><b> modifier</b> : <code>missing</code>  (Conformance Expectation =  MAY)</p>\n",
       "    \n",
       "    <p><b> modifier</b> : <code>text</code>  (Conformance Expectation =  MAY)</p>\n",
       "    \n",
       "    <p><b> modifier</b> : <code>not</code>  (Conformance Expectation =  MAY)</p>\n",
       "    \n",
       "    <p><b> modifier</b> : <code>in</code>  (Conformance Expectation =  MAY)</p>\n",
       "    \n",
       "    <p><b> modifier</b> : <code>not-in</code>  (Conformance Expectation =  MAY)</p>\n",
       "    \n",
       "    <p><b> modifier</b> : <code>below</code>  (Conformance Expectation =  MAY)</p>\n",
       "    \n",
       "    <p><b> modifier</b> : <code>above</code>  (Conformance Expectation =  MAY)</p>\n",
       "    \n",
       "    <p><b> modifier</b> : <code>ofType</code>  (Conformance Expectation =  MAY)</p>\n",
       "    \n",
       "    \n",
       "    \n",
       "\t\t</div>"
      ],
      "text/plain": [
       "<IPython.core.display.HTML object>"
      ]
     },
     "metadata": {},
     "output_type": "display_data"
    },
    {
     "name": "stdout",
     "output_type": "stream",
     "text": [
      "=========Encounter,type==============\n",
      "======================= SP = us-core-encounter-type =====================\n"
     ]
    },
    {
     "data": {
      "text/html": [
       "<div xmlns=\"http://www.w3.org/1999/xhtml\"><p><b> Generated Narrative with Details</b></p><p><b> id</b> us-core-encounter-type</p><p><b> url</b> : <b> http://hl7.org/fhir/us/core/SearchParameter/us-core-encounter-type</b></p><p><b> version</b> : 4.1.0</p><p><b> name</b> : USCoreEncounterType</p><p><b> derivedFrom</b> : <a> http://hl7.org/fhir/SearchParameter/clinical-type</a></p><p><b> status</b> : active</p><p><b> experimental</b>  False</p><p><b> date</b> : 2019-04-25</p><p><b> publisher</b> : HL7 International - Structured Documents Work Group</p><p><b> contact</b> : http://www.hl7.org/Special/committees/structure/index.cfm</p><p><b> description</b> : Specific type of encounter</p><p><b> useContext</b> : </p><p><b> jurisdiction</b> : United States of America (the) <span> (Details : {urn:iso:std:iso:3166 code 'US' = 'United States of America', given as 'United\n",
       "           States of America (the)'})</span></p><!--\n",
       "\t<p>\n",
       "\t\t<b> purpose</b> : Need to search by identifier for various infrastructural cases - mainly retrieving packages,\n",
       "         and matching as part of a chain</p>\n",
       "  --><p><b> code</b> : <code>type</code></p><p><b> base</b> :Encounter</p><p><b> type</b> : token</p><p><b> expression</b> : <code>Encounter.type</code></p><p><b> xpath</b> : <code>f:Encounter/f:type</code></p><p><b> xpathUsage</b> : normal</p><p><b> mulitpleOr</b> : True   (Conformance Expectation = MAY)</p><p><b> mulitpleAnd</b> : True  ( Conformance Expectation = MAY)</p>\n",
       "    \n",
       "    \n",
       "    \n",
       "    <p><b> modifier</b> : <code>missing</code>  (Conformance Expectation =  MAY)</p>\n",
       "    \n",
       "    <p><b> modifier</b> : <code>text</code>  (Conformance Expectation =  MAY)</p>\n",
       "    \n",
       "    <p><b> modifier</b> : <code>not</code>  (Conformance Expectation =  MAY)</p>\n",
       "    \n",
       "    <p><b> modifier</b> : <code>in</code>  (Conformance Expectation =  MAY)</p>\n",
       "    \n",
       "    <p><b> modifier</b> : <code>not-in</code>  (Conformance Expectation =  MAY)</p>\n",
       "    \n",
       "    <p><b> modifier</b> : <code>below</code>  (Conformance Expectation =  MAY)</p>\n",
       "    \n",
       "    <p><b> modifier</b> : <code>above</code>  (Conformance Expectation =  MAY)</p>\n",
       "    \n",
       "    <p><b> modifier</b> : <code>ofType</code>  (Conformance Expectation =  MAY)</p>\n",
       "    \n",
       "    \n",
       "    \n",
       "\t\t</div>"
      ],
      "text/plain": [
       "<IPython.core.display.HTML object>"
      ]
     },
     "metadata": {},
     "output_type": "display_data"
    }
   ],
   "source": [
    "def sp_expectation(conf=None):\n",
    "    if not conf:\n",
    "        conf = \"MAY\"\n",
    " \n",
    "    x = X.Extension(dict(\n",
    "    url = f'http://hl7.org/fhir/StructureDefinition/capabilitystatement-expectation',\n",
    "    valueCode = conf\n",
    "    ))\n",
    "    x_dict = dict(\n",
    "    extension = [x.as_json()]\n",
    "    )\n",
    " \n",
    "    \n",
    "    return x_dict\n",
    "\n",
    "prefix = 'us-core-'\n",
    "\n",
    "sp_list=[]\n",
    "for d in data:\n",
    "    print(f'========={d.base},{d.code}==============')\n",
    "    for i in b.entry:\n",
    "        sp = i.resource\n",
    "        if '!' not in d.base and d.update =='Y' and d.base in sp.base and d.code == sp.code: #update sp\n",
    "            # print(dumps(i.resource.as_json(),indent = 3))\n",
    "            # change id and url, publisher, and contact, draft etc\n",
    "            sp.id = f'{base_id.lower()}-{d.base.lower()}-{d.code}'\n",
    "            sp.extension = []\n",
    "            sp.derivedFrom =sp.url\n",
    "            sp.url = f'{canon_base}SearchParameter/{sp.id}'\n",
    "            sp.publisher = publisher\n",
    "            sp.contact = [CD.ContactDetail( {\"telecom\" : [ publisher_endpoint ] })]\n",
    "            sp.date = D.FHIRDate(f'{datetime.utcnow().isoformat()}Z')\n",
    "            sp.name = pascalcase(sp.id.replace('-','_'))\n",
    "            sp.name = sp.name.replace('UsCore','USCore')\n",
    "            sp.status = 'active'\n",
    "            sp.base = [d.base]\n",
    "            try:\n",
    "                sp.expression = [i for i in sp.expression.split('|') if i.startswith(f'{d.base}.')][0]\n",
    "            except IndexError:\n",
    "                sp.expression = [i for i in sp.expression.split(' | ') if i.startswith(f'{d.base}.')][0]\n",
    "            try:\n",
    "                sp.xpath = [i for i in sp.xpath.split('|') if i.startswith(f'f:{d.base}/')][0]\n",
    "            except IndexError:\n",
    "                sp.xpath = [i for i in sp.xpath.split(' | ') if i.startswith(f'f:{d.base}/')][0]\n",
    "            except AttributeError:\n",
    "                pass\n",
    "            try:   \n",
    "                sp.description = [i for i in sp.description.split('\\r\\n* ') if i.startswith(f'[{d.base}]')][0]\n",
    "                sp.description = sp.description.split(': ')[1:]\n",
    "                sp.description = ''.join(sp.description)\n",
    "            except IndexError:   \n",
    "                print(sp.expression)\n",
    "      \n",
    "            #convert to dict since model can't handle primitive extensions\n",
    "            sp_dict = sp.as_json()\n",
    "\n",
    "            sp_dict['multipleOr'] = False if d.multipleOr in none_list else True\n",
    "            sp_dict['_multipleOr'] = sp_expectation(d.multipleOr_conf)\n",
    "            \n",
    "            sp_dict['multipleAnd'] = False if d.multipleAnd in none_list else True\n",
    "            sp_dict['_multipleAnd'] = sp_expectation(d.multipleAnd_conf)\n",
    "\n",
    "            try:\n",
    "                sp_dict['_modifier'] = []\n",
    "                for m in sp_dict['modifier']: # list all modifiers in sp and assign an expectation.\n",
    "                    if d.shall_modifier not in none_list and m in d.shall_modifier.split(','):\n",
    "                       sp_dict['_modifier'].append(sp_expectation('SHALL'))\n",
    "                    elif  d.should_modifier not in none_list and m in d.should_modifier.split(','):\n",
    "                        sp_dict['_modifier'].append(sp_expectation('SHOULD'))               \n",
    "                    else:\n",
    "                        sp_dict['_modifier'].append(sp_expectation('MAY'))\n",
    "            except KeyError:\n",
    "                del(sp_dict['_modifier'])\n",
    "\n",
    "            try:\n",
    "                sp_dict['_comparator'] = []\n",
    "                for m in sp_dict['comparator']: # list all comparators in sp and assign an expectation.\n",
    "                   if d.shall_comparator not in none_list and m in d.shall_comparator.split(','):\n",
    "                       sp_dict['_comparator'].append(sp_expectation('SHALL'))\n",
    "                   elif  d.should_comparator not in none_list and m in d.should_comparator.split(','):\n",
    "                        sp_dict['_comparator'].append(sp_expectation('SHOULD'))               \n",
    "                   else:\n",
    "                        sp_dict['_comparator'].append(sp_expectation('MAY'))\n",
    "            except KeyError:\n",
    "                del(sp_dict['_comparator'])\n",
    "\n",
    "            if d.shall_chain not in none_list:\n",
    "               sp_dict['chain'] = d.shall_chain.split(',')\n",
    "               sp_dict['_chain'] = [sp_expectation('SHALL') for c in d.shall_chain.split(',')]\n",
    "\n",
    "            if d.should_chain not in none_list:\n",
    "               sp_dict['chain'] = d.should_chain.split(',')\n",
    "               sp_dict['_chain'] = [sp_expectation('SHALL') for c in d.should_chain.split(',')]\n",
    "\n",
    "            print(f'======================= SP = {sp_dict[\"id\"]} =====================')\n",
    "            #print(dumps(sp_dict,indent=4))\n",
    "                  \n",
    "            #================ add narrative =======================\n",
    "            template = env.get_template(md_template[3])   \n",
    "            sp_text = template.render(sp=sp_dict)\n",
    "            #print(sp_text)     \n",
    "            display(HTML(sp_text))\n",
    "                  \n",
    "            sp_dict['text'] = {}\n",
    "            sp_dict['text']['status'] = \"generated\"\n",
    "            sp_dict['text']['div'] = sp_text      \n",
    "                  \n",
    "            # ================ save files as resource ======================\n",
    "            # save in temp folder\n",
    "            path = Path.cwd() / 'sp_json' / f'searchparameter-{sp_dict[\"id\"]}.json'\n",
    "            # save in ig_source folder\n",
    "            #path = Path.cwd() / ig_source_path / 'resources' / f'searchparameter-{sp_dict[\"id\"]}.json'\n",
    " \n",
    "            path.write_text(dumps(sp_dict,indent=4))\n",
    "            sp_list.append(sp_dict)"
   ]
  },
  {
   "cell_type": "markdown",
   "metadata": {},
   "source": [
    "### Validate"
   ]
  },
  {
   "cell_type": "code",
   "execution_count": 56,
   "metadata": {},
   "outputs": [
    {
     "name": "stdout",
     "output_type": "stream",
     "text": [
      "Validating us-core-questionnaire-url...........\n"
     ]
    },
    {
     "data": {
      "text/html": [
       "<h1>Validation output</h1><h3>Status Code = 200</h3> <div><p><b>Operation Outcome for :Validate resource </b></p><table class=\"grid\"><tr><td><b>Severity</b></td><td><b>Location</b></td><td><b>Details</b></td><td><b>Diagnostics</b></td><td><b>Type</b></td></tr><tr><td>warning</td><td/><td>ValueSet http://hl7.org/fhir/ValueSet/narrative-status|4.0.0 not found</td><td/><td>code-invalid</td></tr><tr><td>warning</td><td/><td>ValueSet http://hl7.org/fhir/ValueSet/publication-status|4.0.0 not found</td><td/><td>code-invalid</td></tr><tr><td>warning</td><td/><td>ValueSet http://hl7.org/fhir/ValueSet/contact-point-system|4.0.0 not found</td><td/><td>code-invalid</td></tr><tr><td>warning</td><td/><td>ValueSet http://hl7.org/fhir/ValueSet/resource-types|4.0.0 not found</td><td/><td>code-invalid</td></tr><tr><td>warning</td><td/><td>ValueSet http://hl7.org/fhir/ValueSet/search-param-type|4.0.0 not found</td><td/><td>code-invalid</td></tr><tr><td>warning</td><td/><td>ValueSet http://hl7.org/fhir/ValueSet/search-xpath-usage|4.0.0 not found</td><td/><td>code-invalid</td></tr><tr><td>warning</td><td/><td>ValueSet http://hl7.org/fhir/ValueSet/search-modifier-code|4.0.0 not found</td><td/><td>code-invalid</td></tr><tr><td>warning</td><td/><td>ValueSet http://hl7.org/fhir/ValueSet/search-modifier-code|4.0.0 not found</td><td/><td>code-invalid</td></tr><tr><td>warning</td><td/><td>ValueSet http://hl7.org/fhir/ValueSet/search-modifier-code|4.0.0 not found</td><td/><td>code-invalid</td></tr></table></div>"
      ],
      "text/plain": [
       "<IPython.core.display.HTML object>"
      ]
     },
     "metadata": {},
     "output_type": "display_data"
    },
    {
     "name": "stdout",
     "output_type": "stream",
     "text": [
      "Validating us-core-questionnaire-status...........\n"
     ]
    },
    {
     "data": {
      "text/html": [
       "<h1>Validation output</h1><h3>Status Code = 200</h3> <div><p><b>Operation Outcome for :Validate resource </b></p><table class=\"grid\"><tr><td><b>Severity</b></td><td><b>Location</b></td><td><b>Details</b></td><td><b>Diagnostics</b></td><td><b>Type</b></td></tr><tr><td>warning</td><td/><td>ValueSet http://hl7.org/fhir/ValueSet/narrative-status|4.0.0 not found</td><td/><td>code-invalid</td></tr><tr><td>warning</td><td/><td>ValueSet http://hl7.org/fhir/ValueSet/publication-status|4.0.0 not found</td><td/><td>code-invalid</td></tr><tr><td>warning</td><td/><td>ValueSet http://hl7.org/fhir/ValueSet/contact-point-system|4.0.0 not found</td><td/><td>code-invalid</td></tr><tr><td>warning</td><td/><td>ValueSet http://hl7.org/fhir/ValueSet/resource-types|4.0.0 not found</td><td/><td>code-invalid</td></tr><tr><td>warning</td><td/><td>ValueSet http://hl7.org/fhir/ValueSet/search-param-type|4.0.0 not found</td><td/><td>code-invalid</td></tr><tr><td>warning</td><td/><td>ValueSet http://hl7.org/fhir/ValueSet/search-xpath-usage|4.0.0 not found</td><td/><td>code-invalid</td></tr><tr><td>warning</td><td/><td>ValueSet http://hl7.org/fhir/ValueSet/search-modifier-code|4.0.0 not found</td><td/><td>code-invalid</td></tr><tr><td>warning</td><td/><td>ValueSet http://hl7.org/fhir/ValueSet/search-modifier-code|4.0.0 not found</td><td/><td>code-invalid</td></tr><tr><td>warning</td><td/><td>ValueSet http://hl7.org/fhir/ValueSet/search-modifier-code|4.0.0 not found</td><td/><td>code-invalid</td></tr><tr><td>warning</td><td/><td>ValueSet http://hl7.org/fhir/ValueSet/search-modifier-code|4.0.0 not found</td><td/><td>code-invalid</td></tr><tr><td>warning</td><td/><td>ValueSet http://hl7.org/fhir/ValueSet/search-modifier-code|4.0.0 not found</td><td/><td>code-invalid</td></tr><tr><td>warning</td><td/><td>ValueSet http://hl7.org/fhir/ValueSet/search-modifier-code|4.0.0 not found</td><td/><td>code-invalid</td></tr><tr><td>warning</td><td/><td>ValueSet http://hl7.org/fhir/ValueSet/search-modifier-code|4.0.0 not found</td><td/><td>code-invalid</td></tr><tr><td>warning</td><td/><td>ValueSet http://hl7.org/fhir/ValueSet/search-modifier-code|4.0.0 not found</td><td/><td>code-invalid</td></tr></table></div>"
      ],
      "text/plain": [
       "<IPython.core.display.HTML object>"
      ]
     },
     "metadata": {},
     "output_type": "display_data"
    },
    {
     "name": "stdout",
     "output_type": "stream",
     "text": [
      "Validating us-core-questionnaire-title...........\n"
     ]
    },
    {
     "data": {
      "text/html": [
       "<h1>Validation output</h1><h3>Status Code = 400</h3> <div><p><b>Operation Outcome for :Validate resource </b></p><table class=\"grid\"><tr><td><b>Severity</b></td><td><b>Location</b></td><td><b>Details</b></td><td><b>Diagnostics</b></td><td><b>Type</b></td></tr><tr><td>error</td><td>SearchParameter</td><td>Search parameters can only have chain names when the search parameter type is 'reference' () chain.empty() or type = 'reference'</td><td/><td>invariant</td></tr><tr><td>warning</td><td/><td>ValueSet http://hl7.org/fhir/ValueSet/narrative-status|4.0.0 not found</td><td/><td>code-invalid</td></tr><tr><td>warning</td><td/><td>ValueSet http://hl7.org/fhir/ValueSet/publication-status|4.0.0 not found</td><td/><td>code-invalid</td></tr><tr><td>warning</td><td/><td>ValueSet http://hl7.org/fhir/ValueSet/contact-point-system|4.0.0 not found</td><td/><td>code-invalid</td></tr><tr><td>warning</td><td/><td>ValueSet http://hl7.org/fhir/ValueSet/resource-types|4.0.0 not found</td><td/><td>code-invalid</td></tr><tr><td>warning</td><td/><td>ValueSet http://hl7.org/fhir/ValueSet/search-param-type|4.0.0 not found</td><td/><td>code-invalid</td></tr><tr><td>warning</td><td/><td>ValueSet http://hl7.org/fhir/ValueSet/search-xpath-usage|4.0.0 not found</td><td/><td>code-invalid</td></tr><tr><td>warning</td><td/><td>ValueSet http://hl7.org/fhir/ValueSet/search-modifier-code|4.0.0 not found</td><td/><td>code-invalid</td></tr><tr><td>warning</td><td/><td>ValueSet http://hl7.org/fhir/ValueSet/search-modifier-code|4.0.0 not found</td><td/><td>code-invalid</td></tr><tr><td>warning</td><td/><td>ValueSet http://hl7.org/fhir/ValueSet/search-modifier-code|4.0.0 not found</td><td/><td>code-invalid</td></tr></table></div>"
      ],
      "text/plain": [
       "<IPython.core.display.HTML object>"
      ]
     },
     "metadata": {},
     "output_type": "display_data"
    },
    {
     "name": "stdout",
     "output_type": "stream",
     "text": [
      "Validating us-core-questionnaire-publisher...........\n"
     ]
    },
    {
     "data": {
      "text/html": [
       "<h1>Validation output</h1><h3>Status Code = 200</h3> <div><p><b>Operation Outcome for :Validate resource </b></p><table class=\"grid\"><tr><td><b>Severity</b></td><td><b>Location</b></td><td><b>Details</b></td><td><b>Diagnostics</b></td><td><b>Type</b></td></tr><tr><td>warning</td><td/><td>ValueSet http://hl7.org/fhir/ValueSet/narrative-status|4.0.0 not found</td><td/><td>code-invalid</td></tr><tr><td>warning</td><td/><td>ValueSet http://hl7.org/fhir/ValueSet/publication-status|4.0.0 not found</td><td/><td>code-invalid</td></tr><tr><td>warning</td><td/><td>ValueSet http://hl7.org/fhir/ValueSet/contact-point-system|4.0.0 not found</td><td/><td>code-invalid</td></tr><tr><td>warning</td><td/><td>ValueSet http://hl7.org/fhir/ValueSet/resource-types|4.0.0 not found</td><td/><td>code-invalid</td></tr><tr><td>warning</td><td/><td>ValueSet http://hl7.org/fhir/ValueSet/search-param-type|4.0.0 not found</td><td/><td>code-invalid</td></tr><tr><td>warning</td><td/><td>ValueSet http://hl7.org/fhir/ValueSet/search-xpath-usage|4.0.0 not found</td><td/><td>code-invalid</td></tr><tr><td>warning</td><td/><td>ValueSet http://hl7.org/fhir/ValueSet/search-modifier-code|4.0.0 not found</td><td/><td>code-invalid</td></tr><tr><td>warning</td><td/><td>ValueSet http://hl7.org/fhir/ValueSet/search-modifier-code|4.0.0 not found</td><td/><td>code-invalid</td></tr><tr><td>warning</td><td/><td>ValueSet http://hl7.org/fhir/ValueSet/search-modifier-code|4.0.0 not found</td><td/><td>code-invalid</td></tr></table></div>"
      ],
      "text/plain": [
       "<IPython.core.display.HTML object>"
      ]
     },
     "metadata": {},
     "output_type": "display_data"
    },
    {
     "name": "stdout",
     "output_type": "stream",
     "text": [
      "Validating us-core-questionnaire-version...........\n"
     ]
    },
    {
     "data": {
      "text/html": [
       "<h1>Validation output</h1><h3>Status Code = 200</h3> <div><p><b>Operation Outcome for :Validate resource </b></p><table class=\"grid\"><tr><td><b>Severity</b></td><td><b>Location</b></td><td><b>Details</b></td><td><b>Diagnostics</b></td><td><b>Type</b></td></tr><tr><td>warning</td><td/><td>ValueSet http://hl7.org/fhir/ValueSet/narrative-status|4.0.0 not found</td><td/><td>code-invalid</td></tr><tr><td>warning</td><td/><td>ValueSet http://hl7.org/fhir/ValueSet/publication-status|4.0.0 not found</td><td/><td>code-invalid</td></tr><tr><td>warning</td><td/><td>ValueSet http://hl7.org/fhir/ValueSet/contact-point-system|4.0.0 not found</td><td/><td>code-invalid</td></tr><tr><td>warning</td><td/><td>ValueSet http://hl7.org/fhir/ValueSet/resource-types|4.0.0 not found</td><td/><td>code-invalid</td></tr><tr><td>warning</td><td/><td>ValueSet http://hl7.org/fhir/ValueSet/search-param-type|4.0.0 not found</td><td/><td>code-invalid</td></tr><tr><td>warning</td><td/><td>ValueSet http://hl7.org/fhir/ValueSet/search-xpath-usage|4.0.0 not found</td><td/><td>code-invalid</td></tr><tr><td>warning</td><td/><td>ValueSet http://hl7.org/fhir/ValueSet/search-modifier-code|4.0.0 not found</td><td/><td>code-invalid</td></tr><tr><td>warning</td><td/><td>ValueSet http://hl7.org/fhir/ValueSet/search-modifier-code|4.0.0 not found</td><td/><td>code-invalid</td></tr><tr><td>warning</td><td/><td>ValueSet http://hl7.org/fhir/ValueSet/search-modifier-code|4.0.0 not found</td><td/><td>code-invalid</td></tr><tr><td>warning</td><td/><td>ValueSet http://hl7.org/fhir/ValueSet/search-modifier-code|4.0.0 not found</td><td/><td>code-invalid</td></tr><tr><td>warning</td><td/><td>ValueSet http://hl7.org/fhir/ValueSet/search-modifier-code|4.0.0 not found</td><td/><td>code-invalid</td></tr><tr><td>warning</td><td/><td>ValueSet http://hl7.org/fhir/ValueSet/search-modifier-code|4.0.0 not found</td><td/><td>code-invalid</td></tr><tr><td>warning</td><td/><td>ValueSet http://hl7.org/fhir/ValueSet/search-modifier-code|4.0.0 not found</td><td/><td>code-invalid</td></tr><tr><td>warning</td><td/><td>ValueSet http://hl7.org/fhir/ValueSet/search-modifier-code|4.0.0 not found</td><td/><td>code-invalid</td></tr></table></div>"
      ],
      "text/plain": [
       "<IPython.core.display.HTML object>"
      ]
     },
     "metadata": {},
     "output_type": "display_data"
    },
    {
     "name": "stdout",
     "output_type": "stream",
     "text": [
      "Validating us-core-questionnaire-context-type-value...........\n"
     ]
    },
    {
     "data": {
      "text/html": [
       "<h1>Validation output</h1><h3>Status Code = 200</h3> <div><p><b>Operation Outcome for :Validate resource </b></p><table class=\"grid\"><tr><td><b>Severity</b></td><td><b>Location</b></td><td><b>Details</b></td><td><b>Diagnostics</b></td><td><b>Type</b></td></tr><tr><td>warning</td><td/><td>ValueSet http://hl7.org/fhir/ValueSet/narrative-status|4.0.0 not found</td><td/><td>code-invalid</td></tr><tr><td>warning</td><td/><td>ValueSet http://hl7.org/fhir/ValueSet/publication-status|4.0.0 not found</td><td/><td>code-invalid</td></tr><tr><td>warning</td><td/><td>ValueSet http://hl7.org/fhir/ValueSet/contact-point-system|4.0.0 not found</td><td/><td>code-invalid</td></tr><tr><td>warning</td><td/><td>ValueSet http://hl7.org/fhir/ValueSet/resource-types|4.0.0 not found</td><td/><td>code-invalid</td></tr><tr><td>warning</td><td/><td>ValueSet http://hl7.org/fhir/ValueSet/search-param-type|4.0.0 not found</td><td/><td>code-invalid</td></tr><tr><td>warning</td><td/><td>ValueSet http://hl7.org/fhir/ValueSet/search-xpath-usage|4.0.0 not found</td><td/><td>code-invalid</td></tr><tr><td>warning</td><td/><td>ValueSet http://hl7.org/fhir/ValueSet/search-modifier-code|4.0.0 not found</td><td/><td>code-invalid</td></tr></table></div>"
      ],
      "text/plain": [
       "<IPython.core.display.HTML object>"
      ]
     },
     "metadata": {},
     "output_type": "display_data"
    },
    {
     "name": "stdout",
     "output_type": "stream",
     "text": [
      "Validating us-core-patient-identifier...........\n"
     ]
    },
    {
     "data": {
      "text/html": [
       "<h1>Validation output</h1><h3>Status Code = 200</h3> <div><p><b>Operation Outcome for :Validate resource </b></p><table class=\"grid\"><tr><td><b>Severity</b></td><td><b>Location</b></td><td><b>Details</b></td><td><b>Diagnostics</b></td><td><b>Type</b></td></tr><tr><td>warning</td><td/><td>ValueSet http://hl7.org/fhir/ValueSet/narrative-status|4.0.0 not found</td><td/><td>code-invalid</td></tr><tr><td>warning</td><td/><td>ValueSet http://hl7.org/fhir/ValueSet/publication-status|4.0.0 not found</td><td/><td>code-invalid</td></tr><tr><td>warning</td><td/><td>ValueSet http://hl7.org/fhir/ValueSet/contact-point-system|4.0.0 not found</td><td/><td>code-invalid</td></tr><tr><td>warning</td><td/><td>ValueSet http://hl7.org/fhir/ValueSet/resource-types|4.0.0 not found</td><td/><td>code-invalid</td></tr><tr><td>warning</td><td/><td>ValueSet http://hl7.org/fhir/ValueSet/search-param-type|4.0.0 not found</td><td/><td>code-invalid</td></tr><tr><td>warning</td><td/><td>ValueSet http://hl7.org/fhir/ValueSet/search-xpath-usage|4.0.0 not found</td><td/><td>code-invalid</td></tr><tr><td>warning</td><td/><td>ValueSet http://hl7.org/fhir/ValueSet/search-modifier-code|4.0.0 not found</td><td/><td>code-invalid</td></tr><tr><td>warning</td><td/><td>ValueSet http://hl7.org/fhir/ValueSet/search-modifier-code|4.0.0 not found</td><td/><td>code-invalid</td></tr><tr><td>warning</td><td/><td>ValueSet http://hl7.org/fhir/ValueSet/search-modifier-code|4.0.0 not found</td><td/><td>code-invalid</td></tr><tr><td>warning</td><td/><td>ValueSet http://hl7.org/fhir/ValueSet/search-modifier-code|4.0.0 not found</td><td/><td>code-invalid</td></tr><tr><td>warning</td><td/><td>ValueSet http://hl7.org/fhir/ValueSet/search-modifier-code|4.0.0 not found</td><td/><td>code-invalid</td></tr><tr><td>warning</td><td/><td>ValueSet http://hl7.org/fhir/ValueSet/search-modifier-code|4.0.0 not found</td><td/><td>code-invalid</td></tr><tr><td>warning</td><td/><td>ValueSet http://hl7.org/fhir/ValueSet/search-modifier-code|4.0.0 not found</td><td/><td>code-invalid</td></tr><tr><td>warning</td><td/><td>ValueSet http://hl7.org/fhir/ValueSet/search-modifier-code|4.0.0 not found</td><td/><td>code-invalid</td></tr></table></div>"
      ],
      "text/plain": [
       "<IPython.core.display.HTML object>"
      ]
     },
     "metadata": {},
     "output_type": "display_data"
    },
    {
     "name": "stdout",
     "output_type": "stream",
     "text": [
      "Validating us-core-patient-name...........\n"
     ]
    },
    {
     "data": {
      "text/html": [
       "<h1>Validation output</h1><h3>Status Code = 200</h3> <div><p><b>Operation Outcome for :Validate resource </b></p><table class=\"grid\"><tr><td><b>Severity</b></td><td><b>Location</b></td><td><b>Details</b></td><td><b>Diagnostics</b></td><td><b>Type</b></td></tr><tr><td>warning</td><td/><td>ValueSet http://hl7.org/fhir/ValueSet/narrative-status|4.0.0 not found</td><td/><td>code-invalid</td></tr><tr><td>warning</td><td/><td>ValueSet http://hl7.org/fhir/ValueSet/publication-status|4.0.0 not found</td><td/><td>code-invalid</td></tr><tr><td>warning</td><td/><td>ValueSet http://hl7.org/fhir/ValueSet/contact-point-system|4.0.0 not found</td><td/><td>code-invalid</td></tr><tr><td>warning</td><td/><td>ValueSet http://hl7.org/fhir/ValueSet/resource-types|4.0.0 not found</td><td/><td>code-invalid</td></tr><tr><td>warning</td><td/><td>ValueSet http://hl7.org/fhir/ValueSet/search-param-type|4.0.0 not found</td><td/><td>code-invalid</td></tr><tr><td>warning</td><td/><td>ValueSet http://hl7.org/fhir/ValueSet/search-xpath-usage|4.0.0 not found</td><td/><td>code-invalid</td></tr><tr><td>warning</td><td/><td>ValueSet http://hl7.org/fhir/ValueSet/search-modifier-code|4.0.0 not found</td><td/><td>code-invalid</td></tr><tr><td>warning</td><td/><td>ValueSet http://hl7.org/fhir/ValueSet/search-modifier-code|4.0.0 not found</td><td/><td>code-invalid</td></tr><tr><td>warning</td><td/><td>ValueSet http://hl7.org/fhir/ValueSet/search-modifier-code|4.0.0 not found</td><td/><td>code-invalid</td></tr></table></div>"
      ],
      "text/plain": [
       "<IPython.core.display.HTML object>"
      ]
     },
     "metadata": {},
     "output_type": "display_data"
    },
    {
     "name": "stdout",
     "output_type": "stream",
     "text": [
      "Validating us-core-patient-birthdate...........\n"
     ]
    },
    {
     "data": {
      "text/html": [
       "<h1>Validation output</h1><h3>Status Code = 200</h3> <div><p><b>Operation Outcome for :Validate resource </b></p><table class=\"grid\"><tr><td><b>Severity</b></td><td><b>Location</b></td><td><b>Details</b></td><td><b>Diagnostics</b></td><td><b>Type</b></td></tr><tr><td>warning</td><td/><td>ValueSet http://hl7.org/fhir/ValueSet/narrative-status|4.0.0 not found</td><td/><td>code-invalid</td></tr><tr><td>warning</td><td/><td>ValueSet http://hl7.org/fhir/ValueSet/publication-status|4.0.0 not found</td><td/><td>code-invalid</td></tr><tr><td>warning</td><td/><td>ValueSet http://hl7.org/fhir/ValueSet/contact-point-system|4.0.0 not found</td><td/><td>code-invalid</td></tr><tr><td>warning</td><td/><td>ValueSet http://hl7.org/fhir/ValueSet/resource-types|4.0.0 not found</td><td/><td>code-invalid</td></tr><tr><td>warning</td><td/><td>ValueSet http://hl7.org/fhir/ValueSet/search-param-type|4.0.0 not found</td><td/><td>code-invalid</td></tr><tr><td>warning</td><td/><td>ValueSet http://hl7.org/fhir/ValueSet/search-xpath-usage|4.0.0 not found</td><td/><td>code-invalid</td></tr><tr><td>warning</td><td/><td>ValueSet http://hl7.org/fhir/ValueSet/search-comparator|4.0.0 not found</td><td/><td>code-invalid</td></tr><tr><td>warning</td><td/><td>ValueSet http://hl7.org/fhir/ValueSet/search-comparator|4.0.0 not found</td><td/><td>code-invalid</td></tr><tr><td>warning</td><td/><td>ValueSet http://hl7.org/fhir/ValueSet/search-comparator|4.0.0 not found</td><td/><td>code-invalid</td></tr><tr><td>warning</td><td/><td>ValueSet http://hl7.org/fhir/ValueSet/search-comparator|4.0.0 not found</td><td/><td>code-invalid</td></tr><tr><td>warning</td><td/><td>ValueSet http://hl7.org/fhir/ValueSet/search-comparator|4.0.0 not found</td><td/><td>code-invalid</td></tr><tr><td>warning</td><td/><td>ValueSet http://hl7.org/fhir/ValueSet/search-comparator|4.0.0 not found</td><td/><td>code-invalid</td></tr><tr><td>warning</td><td/><td>ValueSet http://hl7.org/fhir/ValueSet/search-comparator|4.0.0 not found</td><td/><td>code-invalid</td></tr><tr><td>warning</td><td/><td>ValueSet http://hl7.org/fhir/ValueSet/search-comparator|4.0.0 not found</td><td/><td>code-invalid</td></tr><tr><td>warning</td><td/><td>ValueSet http://hl7.org/fhir/ValueSet/search-modifier-code|4.0.0 not found</td><td/><td>code-invalid</td></tr></table></div>"
      ],
      "text/plain": [
       "<IPython.core.display.HTML object>"
      ]
     },
     "metadata": {},
     "output_type": "display_data"
    },
    {
     "name": "stdout",
     "output_type": "stream",
     "text": [
      "Validating us-core-patient-gender...........\n"
     ]
    },
    {
     "data": {
      "text/html": [
       "<h1>Validation output</h1><h3>Status Code = 200</h3> <div><p><b>Operation Outcome for :Validate resource </b></p><table class=\"grid\"><tr><td><b>Severity</b></td><td><b>Location</b></td><td><b>Details</b></td><td><b>Diagnostics</b></td><td><b>Type</b></td></tr><tr><td>warning</td><td/><td>ValueSet http://hl7.org/fhir/ValueSet/narrative-status|4.0.0 not found</td><td/><td>code-invalid</td></tr><tr><td>warning</td><td/><td>ValueSet http://hl7.org/fhir/ValueSet/publication-status|4.0.0 not found</td><td/><td>code-invalid</td></tr><tr><td>warning</td><td/><td>ValueSet http://hl7.org/fhir/ValueSet/contact-point-system|4.0.0 not found</td><td/><td>code-invalid</td></tr><tr><td>warning</td><td/><td>ValueSet http://hl7.org/fhir/ValueSet/resource-types|4.0.0 not found</td><td/><td>code-invalid</td></tr><tr><td>warning</td><td/><td>ValueSet http://hl7.org/fhir/ValueSet/search-param-type|4.0.0 not found</td><td/><td>code-invalid</td></tr><tr><td>warning</td><td/><td>ValueSet http://hl7.org/fhir/ValueSet/search-xpath-usage|4.0.0 not found</td><td/><td>code-invalid</td></tr><tr><td>warning</td><td/><td>ValueSet http://hl7.org/fhir/ValueSet/search-modifier-code|4.0.0 not found</td><td/><td>code-invalid</td></tr><tr><td>warning</td><td/><td>ValueSet http://hl7.org/fhir/ValueSet/search-modifier-code|4.0.0 not found</td><td/><td>code-invalid</td></tr><tr><td>warning</td><td/><td>ValueSet http://hl7.org/fhir/ValueSet/search-modifier-code|4.0.0 not found</td><td/><td>code-invalid</td></tr><tr><td>warning</td><td/><td>ValueSet http://hl7.org/fhir/ValueSet/search-modifier-code|4.0.0 not found</td><td/><td>code-invalid</td></tr><tr><td>warning</td><td/><td>ValueSet http://hl7.org/fhir/ValueSet/search-modifier-code|4.0.0 not found</td><td/><td>code-invalid</td></tr><tr><td>warning</td><td/><td>ValueSet http://hl7.org/fhir/ValueSet/search-modifier-code|4.0.0 not found</td><td/><td>code-invalid</td></tr><tr><td>warning</td><td/><td>ValueSet http://hl7.org/fhir/ValueSet/search-modifier-code|4.0.0 not found</td><td/><td>code-invalid</td></tr><tr><td>warning</td><td/><td>ValueSet http://hl7.org/fhir/ValueSet/search-modifier-code|4.0.0 not found</td><td/><td>code-invalid</td></tr></table></div>"
      ],
      "text/plain": [
       "<IPython.core.display.HTML object>"
      ]
     },
     "metadata": {},
     "output_type": "display_data"
    },
    {
     "name": "stdout",
     "output_type": "stream",
     "text": [
      "Validating us-core-patient-family...........\n"
     ]
    },
    {
     "data": {
      "text/html": [
       "<h1>Validation output</h1><h3>Status Code = 200</h3> <div><p><b>Operation Outcome for :Validate resource </b></p><table class=\"grid\"><tr><td><b>Severity</b></td><td><b>Location</b></td><td><b>Details</b></td><td><b>Diagnostics</b></td><td><b>Type</b></td></tr><tr><td>warning</td><td/><td>ValueSet http://hl7.org/fhir/ValueSet/narrative-status|4.0.0 not found</td><td/><td>code-invalid</td></tr><tr><td>warning</td><td/><td>ValueSet http://hl7.org/fhir/ValueSet/publication-status|4.0.0 not found</td><td/><td>code-invalid</td></tr><tr><td>warning</td><td/><td>ValueSet http://hl7.org/fhir/ValueSet/contact-point-system|4.0.0 not found</td><td/><td>code-invalid</td></tr><tr><td>warning</td><td/><td>ValueSet http://hl7.org/fhir/ValueSet/resource-types|4.0.0 not found</td><td/><td>code-invalid</td></tr><tr><td>warning</td><td/><td>ValueSet http://hl7.org/fhir/ValueSet/search-param-type|4.0.0 not found</td><td/><td>code-invalid</td></tr><tr><td>warning</td><td/><td>ValueSet http://hl7.org/fhir/ValueSet/search-xpath-usage|4.0.0 not found</td><td/><td>code-invalid</td></tr><tr><td>warning</td><td/><td>ValueSet http://hl7.org/fhir/ValueSet/search-modifier-code|4.0.0 not found</td><td/><td>code-invalid</td></tr><tr><td>warning</td><td/><td>ValueSet http://hl7.org/fhir/ValueSet/search-modifier-code|4.0.0 not found</td><td/><td>code-invalid</td></tr><tr><td>warning</td><td/><td>ValueSet http://hl7.org/fhir/ValueSet/search-modifier-code|4.0.0 not found</td><td/><td>code-invalid</td></tr></table></div>"
      ],
      "text/plain": [
       "<IPython.core.display.HTML object>"
      ]
     },
     "metadata": {},
     "output_type": "display_data"
    },
    {
     "name": "stdout",
     "output_type": "stream",
     "text": [
      "Validating us-core-patient-given...........\n"
     ]
    },
    {
     "data": {
      "text/html": [
       "<h1>Validation output</h1><h3>Status Code = 200</h3> <div><p><b>Operation Outcome for :Validate resource </b></p><table class=\"grid\"><tr><td><b>Severity</b></td><td><b>Location</b></td><td><b>Details</b></td><td><b>Diagnostics</b></td><td><b>Type</b></td></tr><tr><td>warning</td><td/><td>ValueSet http://hl7.org/fhir/ValueSet/narrative-status|4.0.0 not found</td><td/><td>code-invalid</td></tr><tr><td>warning</td><td/><td>ValueSet http://hl7.org/fhir/ValueSet/publication-status|4.0.0 not found</td><td/><td>code-invalid</td></tr><tr><td>warning</td><td/><td>ValueSet http://hl7.org/fhir/ValueSet/contact-point-system|4.0.0 not found</td><td/><td>code-invalid</td></tr><tr><td>warning</td><td/><td>ValueSet http://hl7.org/fhir/ValueSet/resource-types|4.0.0 not found</td><td/><td>code-invalid</td></tr><tr><td>warning</td><td/><td>ValueSet http://hl7.org/fhir/ValueSet/search-param-type|4.0.0 not found</td><td/><td>code-invalid</td></tr><tr><td>warning</td><td/><td>ValueSet http://hl7.org/fhir/ValueSet/search-xpath-usage|4.0.0 not found</td><td/><td>code-invalid</td></tr><tr><td>warning</td><td/><td>ValueSet http://hl7.org/fhir/ValueSet/search-modifier-code|4.0.0 not found</td><td/><td>code-invalid</td></tr><tr><td>warning</td><td/><td>ValueSet http://hl7.org/fhir/ValueSet/search-modifier-code|4.0.0 not found</td><td/><td>code-invalid</td></tr><tr><td>warning</td><td/><td>ValueSet http://hl7.org/fhir/ValueSet/search-modifier-code|4.0.0 not found</td><td/><td>code-invalid</td></tr></table></div>"
      ],
      "text/plain": [
       "<IPython.core.display.HTML object>"
      ]
     },
     "metadata": {},
     "output_type": "display_data"
    },
    {
     "name": "stdout",
     "output_type": "stream",
     "text": [
      "Validating us-core-encounter-patient...........\n"
     ]
    },
    {
     "data": {
      "text/html": [
       "<h1>Validation output</h1><h3>Status Code = 200</h3> <div><p><b>Operation Outcome for :Validate resource </b></p><table class=\"grid\"><tr><td><b>Severity</b></td><td><b>Location</b></td><td><b>Details</b></td><td><b>Diagnostics</b></td><td><b>Type</b></td></tr><tr><td>warning</td><td/><td>ValueSet http://hl7.org/fhir/ValueSet/narrative-status|4.0.0 not found</td><td/><td>code-invalid</td></tr><tr><td>warning</td><td/><td>ValueSet http://hl7.org/fhir/ValueSet/publication-status|4.0.0 not found</td><td/><td>code-invalid</td></tr><tr><td>warning</td><td/><td>ValueSet http://hl7.org/fhir/ValueSet/contact-point-system|4.0.0 not found</td><td/><td>code-invalid</td></tr><tr><td>warning</td><td/><td>ValueSet http://hl7.org/fhir/ValueSet/resource-types|4.0.0 not found</td><td/><td>code-invalid</td></tr><tr><td>warning</td><td/><td>ValueSet http://hl7.org/fhir/ValueSet/search-param-type|4.0.0 not found</td><td/><td>code-invalid</td></tr><tr><td>warning</td><td/><td>ValueSet http://hl7.org/fhir/ValueSet/search-xpath-usage|4.0.0 not found</td><td/><td>code-invalid</td></tr><tr><td>warning</td><td/><td>ValueSet http://hl7.org/fhir/ValueSet/resource-types|4.0.0 not found</td><td/><td>code-invalid</td></tr><tr><td>warning</td><td/><td>ValueSet http://hl7.org/fhir/ValueSet/resource-types|4.0.0 not found</td><td/><td>code-invalid</td></tr><tr><td>warning</td><td/><td>ValueSet http://hl7.org/fhir/ValueSet/search-modifier-code|4.0.0 not found</td><td/><td>code-invalid</td></tr><tr><td>warning</td><td/><td>ValueSet http://hl7.org/fhir/ValueSet/search-modifier-code|4.0.0 not found</td><td/><td>code-invalid</td></tr><tr><td>warning</td><td/><td>ValueSet http://hl7.org/fhir/ValueSet/search-modifier-code|4.0.0 not found</td><td/><td>code-invalid</td></tr></table></div>"
      ],
      "text/plain": [
       "<IPython.core.display.HTML object>"
      ]
     },
     "metadata": {},
     "output_type": "display_data"
    },
    {
     "name": "stdout",
     "output_type": "stream",
     "text": [
      "Validating us-core-encounter-date...........\n"
     ]
    },
    {
     "data": {
      "text/html": [
       "<h1>Validation output</h1><h3>Status Code = 200</h3> <div><p><b>Operation Outcome for :Validate resource </b></p><table class=\"grid\"><tr><td><b>Severity</b></td><td><b>Location</b></td><td><b>Details</b></td><td><b>Diagnostics</b></td><td><b>Type</b></td></tr><tr><td>warning</td><td/><td>ValueSet http://hl7.org/fhir/ValueSet/narrative-status|4.0.0 not found</td><td/><td>code-invalid</td></tr><tr><td>warning</td><td/><td>ValueSet http://hl7.org/fhir/ValueSet/publication-status|4.0.0 not found</td><td/><td>code-invalid</td></tr><tr><td>warning</td><td/><td>ValueSet http://hl7.org/fhir/ValueSet/contact-point-system|4.0.0 not found</td><td/><td>code-invalid</td></tr><tr><td>warning</td><td/><td>ValueSet http://hl7.org/fhir/ValueSet/resource-types|4.0.0 not found</td><td/><td>code-invalid</td></tr><tr><td>warning</td><td/><td>ValueSet http://hl7.org/fhir/ValueSet/search-param-type|4.0.0 not found</td><td/><td>code-invalid</td></tr><tr><td>warning</td><td/><td>ValueSet http://hl7.org/fhir/ValueSet/search-xpath-usage|4.0.0 not found</td><td/><td>code-invalid</td></tr><tr><td>warning</td><td/><td>ValueSet http://hl7.org/fhir/ValueSet/search-comparator|4.0.0 not found</td><td/><td>code-invalid</td></tr><tr><td>warning</td><td/><td>ValueSet http://hl7.org/fhir/ValueSet/search-comparator|4.0.0 not found</td><td/><td>code-invalid</td></tr><tr><td>warning</td><td/><td>ValueSet http://hl7.org/fhir/ValueSet/search-comparator|4.0.0 not found</td><td/><td>code-invalid</td></tr><tr><td>warning</td><td/><td>ValueSet http://hl7.org/fhir/ValueSet/search-comparator|4.0.0 not found</td><td/><td>code-invalid</td></tr><tr><td>warning</td><td/><td>ValueSet http://hl7.org/fhir/ValueSet/search-comparator|4.0.0 not found</td><td/><td>code-invalid</td></tr><tr><td>warning</td><td/><td>ValueSet http://hl7.org/fhir/ValueSet/search-comparator|4.0.0 not found</td><td/><td>code-invalid</td></tr><tr><td>warning</td><td/><td>ValueSet http://hl7.org/fhir/ValueSet/search-comparator|4.0.0 not found</td><td/><td>code-invalid</td></tr><tr><td>warning</td><td/><td>ValueSet http://hl7.org/fhir/ValueSet/search-comparator|4.0.0 not found</td><td/><td>code-invalid</td></tr><tr><td>warning</td><td/><td>ValueSet http://hl7.org/fhir/ValueSet/search-modifier-code|4.0.0 not found</td><td/><td>code-invalid</td></tr></table></div>"
      ],
      "text/plain": [
       "<IPython.core.display.HTML object>"
      ]
     },
     "metadata": {},
     "output_type": "display_data"
    },
    {
     "name": "stdout",
     "output_type": "stream",
     "text": [
      "Validating us-core-encounter-identifier...........\n"
     ]
    },
    {
     "data": {
      "text/html": [
       "<h1>Validation output</h1><h3>Status Code = 200</h3> <div><p><b>Operation Outcome for :Validate resource </b></p><table class=\"grid\"><tr><td><b>Severity</b></td><td><b>Location</b></td><td><b>Details</b></td><td><b>Diagnostics</b></td><td><b>Type</b></td></tr><tr><td>warning</td><td/><td>ValueSet http://hl7.org/fhir/ValueSet/narrative-status|4.0.0 not found</td><td/><td>code-invalid</td></tr><tr><td>warning</td><td/><td>ValueSet http://hl7.org/fhir/ValueSet/publication-status|4.0.0 not found</td><td/><td>code-invalid</td></tr><tr><td>warning</td><td/><td>ValueSet http://hl7.org/fhir/ValueSet/contact-point-system|4.0.0 not found</td><td/><td>code-invalid</td></tr><tr><td>warning</td><td/><td>ValueSet http://hl7.org/fhir/ValueSet/resource-types|4.0.0 not found</td><td/><td>code-invalid</td></tr><tr><td>warning</td><td/><td>ValueSet http://hl7.org/fhir/ValueSet/search-param-type|4.0.0 not found</td><td/><td>code-invalid</td></tr><tr><td>warning</td><td/><td>ValueSet http://hl7.org/fhir/ValueSet/search-xpath-usage|4.0.0 not found</td><td/><td>code-invalid</td></tr><tr><td>warning</td><td/><td>ValueSet http://hl7.org/fhir/ValueSet/search-modifier-code|4.0.0 not found</td><td/><td>code-invalid</td></tr><tr><td>warning</td><td/><td>ValueSet http://hl7.org/fhir/ValueSet/search-modifier-code|4.0.0 not found</td><td/><td>code-invalid</td></tr><tr><td>warning</td><td/><td>ValueSet http://hl7.org/fhir/ValueSet/search-modifier-code|4.0.0 not found</td><td/><td>code-invalid</td></tr><tr><td>warning</td><td/><td>ValueSet http://hl7.org/fhir/ValueSet/search-modifier-code|4.0.0 not found</td><td/><td>code-invalid</td></tr><tr><td>warning</td><td/><td>ValueSet http://hl7.org/fhir/ValueSet/search-modifier-code|4.0.0 not found</td><td/><td>code-invalid</td></tr><tr><td>warning</td><td/><td>ValueSet http://hl7.org/fhir/ValueSet/search-modifier-code|4.0.0 not found</td><td/><td>code-invalid</td></tr><tr><td>warning</td><td/><td>ValueSet http://hl7.org/fhir/ValueSet/search-modifier-code|4.0.0 not found</td><td/><td>code-invalid</td></tr><tr><td>warning</td><td/><td>ValueSet http://hl7.org/fhir/ValueSet/search-modifier-code|4.0.0 not found</td><td/><td>code-invalid</td></tr></table></div>"
      ],
      "text/plain": [
       "<IPython.core.display.HTML object>"
      ]
     },
     "metadata": {},
     "output_type": "display_data"
    },
    {
     "name": "stdout",
     "output_type": "stream",
     "text": [
      "Validating us-core-encounter-status...........\n"
     ]
    },
    {
     "data": {
      "text/html": [
       "<h1>Validation output</h1><h3>Status Code = 200</h3> <div><p><b>Operation Outcome for :Validate resource </b></p><table class=\"grid\"><tr><td><b>Severity</b></td><td><b>Location</b></td><td><b>Details</b></td><td><b>Diagnostics</b></td><td><b>Type</b></td></tr><tr><td>warning</td><td/><td>ValueSet http://hl7.org/fhir/ValueSet/narrative-status|4.0.0 not found</td><td/><td>code-invalid</td></tr><tr><td>warning</td><td/><td>ValueSet http://hl7.org/fhir/ValueSet/publication-status|4.0.0 not found</td><td/><td>code-invalid</td></tr><tr><td>warning</td><td/><td>ValueSet http://hl7.org/fhir/ValueSet/contact-point-system|4.0.0 not found</td><td/><td>code-invalid</td></tr><tr><td>warning</td><td/><td>ValueSet http://hl7.org/fhir/ValueSet/resource-types|4.0.0 not found</td><td/><td>code-invalid</td></tr><tr><td>warning</td><td/><td>ValueSet http://hl7.org/fhir/ValueSet/search-param-type|4.0.0 not found</td><td/><td>code-invalid</td></tr><tr><td>warning</td><td/><td>ValueSet http://hl7.org/fhir/ValueSet/search-xpath-usage|4.0.0 not found</td><td/><td>code-invalid</td></tr><tr><td>warning</td><td/><td>ValueSet http://hl7.org/fhir/ValueSet/search-modifier-code|4.0.0 not found</td><td/><td>code-invalid</td></tr><tr><td>warning</td><td/><td>ValueSet http://hl7.org/fhir/ValueSet/search-modifier-code|4.0.0 not found</td><td/><td>code-invalid</td></tr><tr><td>warning</td><td/><td>ValueSet http://hl7.org/fhir/ValueSet/search-modifier-code|4.0.0 not found</td><td/><td>code-invalid</td></tr><tr><td>warning</td><td/><td>ValueSet http://hl7.org/fhir/ValueSet/search-modifier-code|4.0.0 not found</td><td/><td>code-invalid</td></tr><tr><td>warning</td><td/><td>ValueSet http://hl7.org/fhir/ValueSet/search-modifier-code|4.0.0 not found</td><td/><td>code-invalid</td></tr><tr><td>warning</td><td/><td>ValueSet http://hl7.org/fhir/ValueSet/search-modifier-code|4.0.0 not found</td><td/><td>code-invalid</td></tr><tr><td>warning</td><td/><td>ValueSet http://hl7.org/fhir/ValueSet/search-modifier-code|4.0.0 not found</td><td/><td>code-invalid</td></tr><tr><td>warning</td><td/><td>ValueSet http://hl7.org/fhir/ValueSet/search-modifier-code|4.0.0 not found</td><td/><td>code-invalid</td></tr></table></div>"
      ],
      "text/plain": [
       "<IPython.core.display.HTML object>"
      ]
     },
     "metadata": {},
     "output_type": "display_data"
    },
    {
     "name": "stdout",
     "output_type": "stream",
     "text": [
      "Validating us-core-encounter-class...........\n"
     ]
    },
    {
     "data": {
      "text/html": [
       "<h1>Validation output</h1><h3>Status Code = 200</h3> <div><p><b>Operation Outcome for :Validate resource </b></p><table class=\"grid\"><tr><td><b>Severity</b></td><td><b>Location</b></td><td><b>Details</b></td><td><b>Diagnostics</b></td><td><b>Type</b></td></tr><tr><td>warning</td><td/><td>ValueSet http://hl7.org/fhir/ValueSet/narrative-status|4.0.0 not found</td><td/><td>code-invalid</td></tr><tr><td>warning</td><td/><td>ValueSet http://hl7.org/fhir/ValueSet/publication-status|4.0.0 not found</td><td/><td>code-invalid</td></tr><tr><td>warning</td><td/><td>ValueSet http://hl7.org/fhir/ValueSet/contact-point-system|4.0.0 not found</td><td/><td>code-invalid</td></tr><tr><td>warning</td><td/><td>ValueSet http://hl7.org/fhir/ValueSet/resource-types|4.0.0 not found</td><td/><td>code-invalid</td></tr><tr><td>warning</td><td/><td>ValueSet http://hl7.org/fhir/ValueSet/search-param-type|4.0.0 not found</td><td/><td>code-invalid</td></tr><tr><td>warning</td><td/><td>ValueSet http://hl7.org/fhir/ValueSet/search-xpath-usage|4.0.0 not found</td><td/><td>code-invalid</td></tr><tr><td>warning</td><td/><td>ValueSet http://hl7.org/fhir/ValueSet/search-modifier-code|4.0.0 not found</td><td/><td>code-invalid</td></tr><tr><td>warning</td><td/><td>ValueSet http://hl7.org/fhir/ValueSet/search-modifier-code|4.0.0 not found</td><td/><td>code-invalid</td></tr><tr><td>warning</td><td/><td>ValueSet http://hl7.org/fhir/ValueSet/search-modifier-code|4.0.0 not found</td><td/><td>code-invalid</td></tr><tr><td>warning</td><td/><td>ValueSet http://hl7.org/fhir/ValueSet/search-modifier-code|4.0.0 not found</td><td/><td>code-invalid</td></tr><tr><td>warning</td><td/><td>ValueSet http://hl7.org/fhir/ValueSet/search-modifier-code|4.0.0 not found</td><td/><td>code-invalid</td></tr><tr><td>warning</td><td/><td>ValueSet http://hl7.org/fhir/ValueSet/search-modifier-code|4.0.0 not found</td><td/><td>code-invalid</td></tr><tr><td>warning</td><td/><td>ValueSet http://hl7.org/fhir/ValueSet/search-modifier-code|4.0.0 not found</td><td/><td>code-invalid</td></tr><tr><td>warning</td><td/><td>ValueSet http://hl7.org/fhir/ValueSet/search-modifier-code|4.0.0 not found</td><td/><td>code-invalid</td></tr></table></div>"
      ],
      "text/plain": [
       "<IPython.core.display.HTML object>"
      ]
     },
     "metadata": {},
     "output_type": "display_data"
    },
    {
     "name": "stdout",
     "output_type": "stream",
     "text": [
      "Validating us-core-encounter-type...........\n"
     ]
    },
    {
     "data": {
      "text/html": [
       "<h1>Validation output</h1><h3>Status Code = 200</h3> <div><p><b>Operation Outcome for :Validate resource </b></p><table class=\"grid\"><tr><td><b>Severity</b></td><td><b>Location</b></td><td><b>Details</b></td><td><b>Diagnostics</b></td><td><b>Type</b></td></tr><tr><td>warning</td><td/><td>ValueSet http://hl7.org/fhir/ValueSet/narrative-status|4.0.0 not found</td><td/><td>code-invalid</td></tr><tr><td>warning</td><td/><td>ValueSet http://hl7.org/fhir/ValueSet/publication-status|4.0.0 not found</td><td/><td>code-invalid</td></tr><tr><td>warning</td><td/><td>ValueSet http://hl7.org/fhir/ValueSet/contact-point-system|4.0.0 not found</td><td/><td>code-invalid</td></tr><tr><td>warning</td><td/><td>ValueSet http://hl7.org/fhir/ValueSet/resource-types|4.0.0 not found</td><td/><td>code-invalid</td></tr><tr><td>warning</td><td/><td>ValueSet http://hl7.org/fhir/ValueSet/search-param-type|4.0.0 not found</td><td/><td>code-invalid</td></tr><tr><td>warning</td><td/><td>ValueSet http://hl7.org/fhir/ValueSet/search-xpath-usage|4.0.0 not found</td><td/><td>code-invalid</td></tr><tr><td>warning</td><td/><td>ValueSet http://hl7.org/fhir/ValueSet/search-modifier-code|4.0.0 not found</td><td/><td>code-invalid</td></tr><tr><td>warning</td><td/><td>ValueSet http://hl7.org/fhir/ValueSet/search-modifier-code|4.0.0 not found</td><td/><td>code-invalid</td></tr><tr><td>warning</td><td/><td>ValueSet http://hl7.org/fhir/ValueSet/search-modifier-code|4.0.0 not found</td><td/><td>code-invalid</td></tr><tr><td>warning</td><td/><td>ValueSet http://hl7.org/fhir/ValueSet/search-modifier-code|4.0.0 not found</td><td/><td>code-invalid</td></tr><tr><td>warning</td><td/><td>ValueSet http://hl7.org/fhir/ValueSet/search-modifier-code|4.0.0 not found</td><td/><td>code-invalid</td></tr><tr><td>warning</td><td/><td>ValueSet http://hl7.org/fhir/ValueSet/search-modifier-code|4.0.0 not found</td><td/><td>code-invalid</td></tr><tr><td>warning</td><td/><td>ValueSet http://hl7.org/fhir/ValueSet/search-modifier-code|4.0.0 not found</td><td/><td>code-invalid</td></tr><tr><td>warning</td><td/><td>ValueSet http://hl7.org/fhir/ValueSet/search-modifier-code|4.0.0 not found</td><td/><td>code-invalid</td></tr></table></div>"
      ],
      "text/plain": [
       "<IPython.core.display.HTML object>"
      ]
     },
     "metadata": {},
     "output_type": "display_data"
    }
   ],
   "source": [
    "for i in sp_list:\n",
    "    print(f'Validating {i[\"id\"]}...........')\n",
    "    r = validate(i)\n",
    "    display(HTML(f'<h1>Validation output</h1><h3>Status Code = {r.status_code}</h3> {r.json()[\"text\"][\"div\"]}'))               "
   ]
  },
  {
   "cell_type": "markdown",
   "metadata": {},
   "source": [
    "### Create Ad Hoc Structure for listing all the required combination Search Parameters\n",
    "\n",
    "- uses Spreadsheet\n",
    "- uses set theory and math to enumarate combinations\n",
    "- uses exclude list to remove prohibited combination\n",
    "- uses least strong Conformance of members of combot to determine conformance\n",
    "\n",
    "\n",
    "create a Dict with key = Resource_type and value equal to a sorted list of tuples with combonent parameter list, conformance  e.g. {Type:[(p_combo-1,c1),(p_combo2,c2...]}\n",
    "\n",
    "add new sheet to spreadsheet for manual review"
   ]
  },
  {
   "cell_type": "code",
   "execution_count": 57,
   "metadata": {},
   "outputs": [
    {
     "name": "stdout",
     "output_type": "stream",
     "text": [
      "AllergyIntolerance\n",
      "0 combos = []\n",
      "Encounter\n",
      "18 combos = [['class', 'date'], ['class', 'date', 'patient'], ['class', 'date', 'patient', 'type'], ['class', 'date', 'type'], ['class', 'patient'], ['class', 'patient', 'status'], ['class', 'patient', 'status', 'type'], ['class', 'patient', 'type'], ['class', 'status'], ['class', 'status', 'type'], ['class', 'type'], ['date', 'patient'], ['date', 'patient', 'type'], ['date', 'type'], ['patient', 'status'], ['patient', 'status', 'type'], ['patient', 'type'], ['status', 'type']]\n",
      "{'date', 'token'}\n",
      "{'date', 'reference', 'token'}\n",
      "{'date', 'reference', 'token'}\n",
      "{'date', 'token'}\n",
      "{'reference', 'token'}\n",
      "{'reference', 'token'}\n",
      "{'reference', 'token'}\n",
      "{'reference', 'token'}\n",
      "{'token'}\n",
      "{'token'}\n",
      "{'token'}\n",
      "{'date', 'reference'}\n",
      "{'date', 'reference', 'token'}\n",
      "{'date', 'token'}\n",
      "{'reference', 'token'}\n",
      "{'reference', 'token'}\n",
      "{'reference', 'token'}\n",
      "{'token'}\n",
      "Questionnaire\n",
      "9 combos = [['context-type-value', 'publisher'], ['context-type-value', 'publisher', 'status'], ['context-type-value', 'status'], ['publisher', 'status'], ['publisher', 'status', 'version'], ['publisher', 'version'], ['status', 'title', 'version'], ['status', 'version'], ['title', 'version']]\n",
      "{'composite', 'string'}\n",
      "{'composite', 'string', 'token'}\n",
      "{'composite', 'token'}\n",
      "{'string', 'token'}\n",
      "{'string', 'token'}\n",
      "{'string', 'token'}\n",
      "{'string', 'token'}\n",
      "{'token'}\n",
      "{'string', 'token'}\n",
      "Patient\n",
      "4 combos = [['birthdate', 'family'], ['birthdate', 'name'], ['family', 'gender'], ['gender', 'name']]\n",
      "{'date', 'string'}\n",
      "{'date', 'string'}\n",
      "{'string', 'token'}\n",
      "{'string', 'token'}\n"
     ]
    }
   ],
   "source": [
    "def get_conf_str(combo, r_type):\n",
    "    conf_str = ''\n",
    "    for k in df.itertuples(index=True):\n",
    "        if k.base == r_type and k.code in combo:\n",
    "            if  k.base_conf == 'MAY' or k.base_conf in none_list:\n",
    "                conf_str = 'MAY'\n",
    "                break\n",
    "            elif k.base_conf == 'SHOULD':\n",
    "                conf_str = 'SHOULD' \n",
    "            elif k.base_conf == 'SHALL' and conf_str not in ['SHALL','MAY']:\n",
    "                conf_str ='SHALL' \n",
    "    return conf_str\n",
    "\n",
    "def get_type_list(combo, r_type):\n",
    "    t = {i.type for i in df.itertuples(index=True) if i.code in combo and i.base == r_type}\n",
    "    print(t)\n",
    "    return list(t)\n",
    "\n",
    "\n",
    "def get_combos(pairs,c_list):\n",
    "    a_list =[]\n",
    "    for i in c_list:\n",
    "        for j in c_list:\n",
    "            #print(f'i={i} j = {j}, i&j= {i&j} i^j= {i^j}')\n",
    "            if i & j and i != j:\n",
    "                #print(f'i={i}, j = {j}, i&j= {i&j},i^j= {i^j} i|j = {i|j}')\n",
    "                if i^j in pairs:\n",
    "                    \n",
    "                    if i|j not in a_list + c_list:\n",
    "                        a_list.append(i|j)\n",
    "    return a_list\n",
    "\n",
    "          \n",
    "\n",
    "combo_list = []\n",
    "combo_dict = {}\n",
    "for base in r_type:\n",
    "    print(base)\n",
    "    pairs = []\n",
    "    sp_len = len([d for d in data if d.base== base])\n",
    "          \n",
    "    for d in data:\n",
    "        if d.base == base and d.combo_pairs not in none_list: \n",
    "            pairs.extend([{d.code, p} for p in d.combo_pairs.split(',') if p != d.code])  # get allowed pairs\n",
    "            #print(f'pairs = {pairs}')\n",
    "          \n",
    "    combo_list = pairs\n",
    "    for j in range(sp_len-1):\n",
    "         combo_list = combo_list + get_combos(pairs,combo_list)\n",
    "          \n",
    "    # convert to sorted tuples\n",
    "    combo_list = [sorted(tuple(i)) for i in combo_list]\n",
    "    combo_list = sorted(combo_list)\n",
    "          \n",
    "    try: #subtract forbidden combos\n",
    "        f_combos = []\n",
    "        df_r = read_excel(xls,'resources',na_filter = False)\n",
    "        for r in df_r.itertuples(index=True):\n",
    "            if  r.type == base:\n",
    "                f_combos = r.forbidden_s_combos.split(',')\n",
    "                #print(f_combos)\n",
    "                f_combos = [sorted(i.split('|')) for i in f_combos]\n",
    "                #print(f_combos)\n",
    "        combo_list = [i for i in combo_list if sorted(i) not in f_combos]\n",
    "    except AttributeError:\n",
    "        print('forbidden_s_combos is missing')\n",
    "          \n",
    "    print(f'{len(combo_list)} combos = {combo_list}')\n",
    "    #combo_list.extend(combo_list)\n",
    "    combo_dict[base]=[(c, get_conf_str(combo = c, r_type = base), get_type_list(combo = c, r_type = base)) for c in combo_list]\n",
    "# print(dumps(combo_dict, indent = 4))"
   ]
  },
  {
   "cell_type": "markdown",
   "metadata": {},
   "source": [
    "### Convert combo_dict to dataframe and add to spreadsheet for review"
   ]
  },
  {
   "cell_type": "code",
   "execution_count": 58,
   "metadata": {},
   "outputs": [],
   "source": [
    "rows=[]\n",
    "for k,v in combo_dict.items():\n",
    "    for i in v:\n",
    "        rows.append([k, *i])\n",
    "        \n",
    "generated_combos= DataFrame(rows, columns = ['Base Type',\"Combo\",'Conformance','Parameter Types',] )\n",
    "\n",
    "book = load_workbook(f'{in_path}{in_file}.xlsx')\n",
    "std = book['generated_combos']  # remove sheet first if  exists\n",
    "book.remove(std)\n",
    "#update information\n",
    "with ExcelWriter(f'{in_path}{in_file}.xlsx', engine = 'openpyxl') as writer:\n",
    "    writer.book = book\n",
    "    \n",
    "    generated_combos.to_excel(writer, sheet_name = 'generated_combos')"
   ]
  },
  {
   "cell_type": "markdown",
   "metadata": {},
   "source": [
    "### Create Markdown Text for Search.\n",
    "\n",
    "- Using Jinja2 Template create markdown file for search section in profiles profiles\n",
    "- use spreadhsheet as input data  ( could use the sp too )\n",
    "- get combos from spreadsheet\n",
    "  - update parameter types if needed\n",
    "  "
   ]
  },
  {
   "cell_type": "code",
   "execution_count": 59,
   "metadata": {},
   "outputs": [
    {
     "name": "stdout",
     "output_type": "stream",
     "text": [
      "{'AllergyIntolerance', 'Encounter', 'Questionnaire', 'Patient'}\n",
      "[]\n"
     ]
    },
    {
     "data": {
      "text/markdown": [
       "\n",
       "#### Mandatory Search Parameters:\n",
       "\n",
       "The following search parameters, search parameter combinations and search parameter [modifiers], [comparators] and [chained parameters] SHALL be supported.  the  modifiers, comparators and chained parameters that are listed as optional SHOULD be supported.:\n",
       "\n",
       "\n",
       "1. **SHALL** support searching for all allergies for a patient using the **`_id`** search parameter:\n",
       "\n",
       "  `GET [base]/AllergyIntolerance[id]`\n",
       "\n",
       "  Example: GET [base]/AllergyIntolerance?patient=1137192\n",
       "\n",
       "  *Implementation Notes:* Fetches a bundle of all AllergyIntolerance resources for the specified patient (how to search by the [logical id] of the resource)\n",
       "\n",
       "\n",
       "\n",
       "\n",
       "\n",
       "{% include link-list.md %}"
      ],
      "text/plain": [
       "<IPython.core.display.Markdown object>"
      ]
     },
     "metadata": {},
     "output_type": "display_data"
    },
    {
     "name": "stdout",
     "output_type": "stream",
     "text": [
      "[(['class', 'date'], 'SHOULD', ['date', 'token']), (['class', 'date', 'patient'], 'SHOULD', ['date', 'reference', 'token']), (['class', 'date', 'patient', 'type'], 'SHOULD', ['date', 'reference', 'token']), (['class', 'date', 'type'], 'SHOULD', ['date', 'token']), (['class', 'patient'], 'SHOULD', ['reference', 'token']), (['class', 'patient', 'status'], 'SHOULD', ['reference', 'token']), (['class', 'patient', 'status', 'type'], 'SHOULD', ['reference', 'token']), (['class', 'patient', 'type'], 'SHOULD', ['reference', 'token']), (['class', 'status'], 'SHOULD', ['token']), (['class', 'status', 'type'], 'SHOULD', ['token']), (['class', 'type'], 'SHOULD', ['token']), (['date', 'patient'], 'SHALL', ['date', 'reference']), (['date', 'patient', 'type'], 'SHOULD', ['date', 'reference', 'token']), (['date', 'type'], 'SHOULD', ['date', 'token']), (['patient', 'status'], 'SHOULD', ['reference', 'token']), (['patient', 'status', 'type'], 'SHOULD', ['reference', 'token']), (['patient', 'type'], 'SHOULD', ['reference', 'token']), (['status', 'type'], 'SHOULD', ['token'])]\n"
     ]
    },
    {
     "data": {
      "text/markdown": [
       "\n",
       "#### Mandatory Search Parameters:\n",
       "\n",
       "The following search parameters, search parameter combinations and search parameter [modifiers], [comparators] and [chained parameters] SHALL be supported.  the  modifiers, comparators and chained parameters that are listed as optional SHOULD be supported.:\n",
       "\n",
       "\n",
       "1. **SHALL** support fetching an Encounter using the **`_id`** search parameter:\n",
       "\n",
       "  `GET [base]/Encounter[id]`\n",
       "\n",
       "  Example: GET [base]/Encounter/12354\n",
       "\n",
       "  *Implementation Notes:*  (how to search by the [logical id] of the resource)\n",
       "\n",
       "1. **SHALL** support searching for all encounters for a patient using the **`patient`** search parameter:\n",
       "\n",
       "  `GET [base]/Encounter?patient=[reference]`\n",
       "\n",
       "  Example: GET [base]/Encounter?patient=1137192\n",
       "\n",
       "  *Implementation Notes:* Fetches a bundle of all Encounter resources for the specified patient (how to search by [reference])\n",
       "\n",
       "1. **SHALL** support searching for all encounters by date using the **`date`** search parameter:\n",
       "  - including support for these comparators: `gt, lt, ge, le`\n",
       "\n",
       "  `GET [base]/Encounter?date={gt|lt|ge|le}[date]`\n",
       "\n",
       "  Example: See combination searches below\n",
       "\n",
       "  *Implementation Notes:* Search based on date and patient parameter (how to search by [date])\n",
       "\n",
       "1. **SHALL**  using the combination of the  **`date and patient`** search parameters:\n",
       "\n",
       "  `GET [base]/Encounter?date={gt|lt|ge|le}[date]&patient=[reference]`\n",
       "\n",
       "  Example: \n",
       "\n",
       "  *Implementation Notes:*  (how to search by [date] and [reference])\n",
       "\n",
       "\n",
       "\n",
       "#### Optional Search Parameters:\n",
       "\n",
       "The following search parameters, search parameter combinations and search parameter [modifiers], [comparators] and [chained parameters] SHOULD be supported.\n",
       "\n",
       "1. **SHOULD** support searching using the **`identifier`** search parameter:\n",
       "\n",
       "  `GET [base]/Encounter?identifier={[system]}|[code]`\n",
       "\n",
       "  Example: GET [base]/Encounter?identifier=http://hospital.smarthealthit.org|1032702\n",
       "\n",
       "  *Implementation Notes:*  (how to search by [token])\n",
       "\n",
       "1. **SHOULD** support searching using the **`status`** search parameter:\n",
       "\n",
       "  `GET [base]/Encounter?status={[system]}|[code]`\n",
       "\n",
       "  Example: GET [base]/Encounter?status=completed\n",
       "\n",
       "  *Implementation Notes:* Fetches a bundle of all Encounter resources for the specified patient (how to search by [token])\n",
       "\n",
       "1. **SHOULD** support searching using the **`class`** search parameter:\n",
       "\n",
       "  `GET [base]/Encounter?class={[system]}|[code]`\n",
       "\n",
       "  Example: GET [base]/Encounter?status=http://terminology.hl7.org/CodeSystem/v3-ActCode|AMB\n",
       "\n",
       "  *Implementation Notes:* Fetches a bundle of all Encounter resources for the specified patient (how to search by [token])\n",
       "\n",
       "1. **SHOULD** support searching using the **`type`** search parameter:\n",
       "\n",
       "  `GET [base]/Encounter?type={[system]}|[code]`\n",
       "\n",
       "  Example: GET [base]/Encounter?http://www.ama-assn.org/go/cpt|99201\n",
       "\n",
       "  *Implementation Notes:* Fetches a bundle of all Encounter resources for the specified patient (how to search by [token])\n",
       "\n",
       "1. **SHOULD** support searching using the combination of the  **`class and date`** search parameters:\n",
       "\n",
       "  `GET [base]/Encounter?class=[token]&date={gt|lt|ge|le}[date]`\n",
       "\n",
       "  Example: \n",
       "\n",
       "  *Implementation Notes:* . (how to search by [date] and [token])\n",
       "\n",
       "1. **SHOULD** support searching using the combination of the  **`class and date and patient`** search parameters:\n",
       "\n",
       "  `GET [base]/Encounter?class=[token]&date={gt|lt|ge|le}[date]&patient=[reference]`\n",
       "\n",
       "  Example: \n",
       "\n",
       "  *Implementation Notes:* . (how to search by [date] and [reference] and [token])\n",
       "\n",
       "1. **SHOULD** support searching using the combination of the  **`class and date and patient and type`** search parameters:\n",
       "\n",
       "  `GET [base]/Encounter?class=[token]&date={gt|lt|ge|le}[date]&patient=[reference]&type=[token]`\n",
       "\n",
       "  Example: \n",
       "\n",
       "  *Implementation Notes:* . (how to search by [date] and [reference] and [token])\n",
       "\n",
       "1. **SHOULD** support searching using the combination of the  **`class and date and type`** search parameters:\n",
       "\n",
       "  `GET [base]/Encounter?class=[token]&date={gt|lt|ge|le}[date]&type=[token]`\n",
       "\n",
       "  Example: \n",
       "\n",
       "  *Implementation Notes:* . (how to search by [date] and [token])\n",
       "\n",
       "1. **SHOULD** support searching using the combination of the  **`class and patient`** search parameters:\n",
       "\n",
       "  `GET [base]/Encounter?class=[token]&patient=[reference]`\n",
       "\n",
       "  Example: \n",
       "\n",
       "  *Implementation Notes:* . (how to search by [reference] and [token])\n",
       "\n",
       "1. **SHOULD** support searching using the combination of the  **`class and patient and status`** search parameters:\n",
       "\n",
       "  `GET [base]/Encounter?class=[token]&patient=[reference]&status=[token]`\n",
       "\n",
       "  Example: \n",
       "\n",
       "  *Implementation Notes:* . (how to search by [reference] and [token])\n",
       "\n",
       "1. **SHOULD** support searching using the combination of the  **`class and patient and status and type`** search parameters:\n",
       "\n",
       "  `GET [base]/Encounter?class=[token]&patient=[reference]&status=[token]&type=[token]`\n",
       "\n",
       "  Example: \n",
       "\n",
       "  *Implementation Notes:* . (how to search by [reference] and [token])\n",
       "\n",
       "1. **SHOULD** support searching using the combination of the  **`class and patient and type`** search parameters:\n",
       "\n",
       "  `GET [base]/Encounter?class=[token]&patient=[reference]&type=[token]`\n",
       "\n",
       "  Example: \n",
       "\n",
       "  *Implementation Notes:* . (how to search by [reference] and [token])\n",
       "\n",
       "1. **SHOULD** support searching using the combination of the  **`class and status`** search parameters:\n",
       "\n",
       "  `GET [base]/Encounter?class=[token]&status=[token]`\n",
       "\n",
       "  Example: \n",
       "\n",
       "  *Implementation Notes:* . (how to search by [token])\n",
       "\n",
       "1. **SHOULD** support searching using the combination of the  **`class and status and type`** search parameters:\n",
       "\n",
       "  `GET [base]/Encounter?class=[token]&status=[token]&type=[token]`\n",
       "\n",
       "  Example: \n",
       "\n",
       "  *Implementation Notes:* . (how to search by [token])\n",
       "\n",
       "1. **SHOULD** support searching using the combination of the  **`class and type`** search parameters:\n",
       "\n",
       "  `GET [base]/Encounter?class=[token]&type=[token]`\n",
       "\n",
       "  Example: \n",
       "\n",
       "  *Implementation Notes:* . (how to search by [token])\n",
       "\n",
       "1. **SHOULD** support searching using the combination of the  **`date and patient and type`** search parameters:\n",
       "\n",
       "  `GET [base]/Encounter?date={gt|lt|ge|le}[date]&patient=[reference]&type=[token]`\n",
       "\n",
       "  Example: \n",
       "\n",
       "  *Implementation Notes:* . (how to search by [date] and [reference] and [token])\n",
       "\n",
       "1. **SHOULD** support searching using the combination of the  **`date and type`** search parameters:\n",
       "\n",
       "  `GET [base]/Encounter?date={gt|lt|ge|le}[date]&type=[token]`\n",
       "\n",
       "  Example: \n",
       "\n",
       "  *Implementation Notes:* . (how to search by [date] and [token])\n",
       "\n",
       "1. **SHOULD** support searching using the combination of the  **`patient and status`** search parameters:\n",
       "\n",
       "  `GET [base]/Encounter?patient=[reference]&status=[token]`\n",
       "\n",
       "  Example: \n",
       "\n",
       "  *Implementation Notes:* . (how to search by [reference] and [token])\n",
       "\n",
       "1. **SHOULD** support searching using the combination of the  **`patient and status and type`** search parameters:\n",
       "\n",
       "  `GET [base]/Encounter?patient=[reference]&status=[token]&type=[token]`\n",
       "\n",
       "  Example: \n",
       "\n",
       "  *Implementation Notes:* . (how to search by [reference] and [token])\n",
       "\n",
       "1. **SHOULD** support searching using the combination of the  **`patient and type`** search parameters:\n",
       "\n",
       "  `GET [base]/Encounter?patient=[reference]&type=[token]`\n",
       "\n",
       "  Example: \n",
       "\n",
       "  *Implementation Notes:* . (how to search by [reference] and [token])\n",
       "\n",
       "1. **SHOULD** support searching using the combination of the  **`status and type`** search parameters:\n",
       "\n",
       "  `GET [base]/Encounter?status=[token]&type=[token]`\n",
       "\n",
       "  Example: \n",
       "\n",
       "  *Implementation Notes:* . (how to search by [token])\n",
       "\n",
       "\n",
       "{% include link-list.md %}"
      ],
      "text/plain": [
       "<IPython.core.display.Markdown object>"
      ]
     },
     "metadata": {},
     "output_type": "display_data"
    },
    {
     "name": "stdout",
     "output_type": "stream",
     "text": [
      "[(['context-type-value', 'publisher'], 'SHOULD', ['composite', 'string']), (['context-type-value', 'publisher', 'status'], 'SHOULD', ['composite', 'string', 'token']), (['context-type-value', 'status'], 'SHOULD', ['composite', 'token']), (['publisher', 'status'], 'SHALL', ['string', 'token']), (['publisher', 'status', 'version'], 'SHOULD', ['string', 'token']), (['publisher', 'version'], 'SHOULD', ['string', 'token']), (['status', 'title', 'version'], 'SHOULD', ['string', 'token']), (['status', 'version'], 'SHOULD', ['token']), (['title', 'version'], 'SHOULD', ['string', 'token'])]\n"
     ]
    },
    {
     "data": {
      "text/markdown": [
       "\n",
       "#### Mandatory Search Parameters:\n",
       "\n",
       "The following search parameters, search parameter combinations and search parameter [modifiers], [comparators] and [chained parameters] SHALL be supported.  the  modifiers, comparators and chained parameters that are listed as optional SHOULD be supported.:\n",
       "\n",
       "\n",
       "1. **SHALL** support searching using the **`_id`** search parameter:\n",
       "\n",
       "  `GET [base]/Questionnaire[id]`\n",
       "\n",
       "  *Implementation Notes:* example for testing (how to search by the [logical id] of the resource)\n",
       "\n",
       "1. **SHALL** support searching using the **`url`** search parameter:\n",
       "\n",
       "  `GET [base]/Questionnaire?url=[uri]`\n",
       "\n",
       "  *Implementation Notes:* example for testing (how to search by [uri])\n",
       "\n",
       "1. **SHALL** support searching using the **`status`** search parameter:\n",
       "\n",
       "  `GET [base]/Questionnaire?status={[system]}|[code]`\n",
       "\n",
       "  *Implementation Notes:* example for testing (how to search by [token])\n",
       "\n",
       "1. **SHALL** support searching using the **`title`** search parameter:\n",
       "  - including optional support these modifiers: `foo, bar2`\n",
       "  - including support for these comparators: `contains, foo, bar`\n",
       "  - including support for these chained parameters: `contains, foo, bar`\n",
       "    - and optional support these chained parameter: `foo, bar2`\n",
       "\n",
       "  `GET [base]/Questionnaire?title{:foo|bar2|foo|bar2}={contains|foo|bar}[string]`\n",
       "\n",
       "  *Implementation Notes:* example for testing (how to search by [string])\n",
       "\n",
       "1. **SHALL** support searching using the **`publisher`** search parameter:\n",
       "  - including support for these modifiers: `contains`\n",
       "\n",
       "  `GET [base]/Questionnaire?publisher=[string]`\n",
       "\n",
       "  *Implementation Notes:* example for testing (how to search by [string])\n",
       "\n",
       "1. **SHALL**  using the combination of the  **`publisher and status`** search parameters:\n",
       "\n",
       "  `GET [base]/Questionnaire?publisher=[string]&status=[token]`\n",
       "\n",
       "  Example: \n",
       "\n",
       "  *Implementation Notes:*  (how to search by [string] and [token])\n",
       "\n",
       "\n",
       "\n",
       "#### Optional Search Parameters:\n",
       "\n",
       "The following search parameters, search parameter combinations and search parameter [modifiers], [comparators] and [chained parameters] SHOULD be supported.\n",
       "\n",
       "1. **SHOULD** support searching using the **`version`** search parameter:\n",
       "\n",
       "  `GET [base]/Questionnaire?version={[system]}|[code]`\n",
       "\n",
       "  *Implementation Notes:* example for testing (how to search by [token])\n",
       "\n",
       "1. **SHOULD** support searching using the **`context-type-value`** search parameter:\n",
       "\n",
       "  `GET [base]/Questionnaire?context-type-value=`\n",
       "\n",
       "  *Implementation Notes:* example for testing (how to search by [composite])\n",
       "\n",
       "1. **SHOULD** support searching using the combination of the  **`context-type-value and publisher`** search parameters:\n",
       "\n",
       "  `GET [base]/Questionnaire?context-type-value=[composite]&publisher=[string]`\n",
       "\n",
       "  Example: \n",
       "\n",
       "  *Implementation Notes:* . (how to search by [composite] and [string])\n",
       "\n",
       "1. **SHOULD** support searching using the combination of the  **`context-type-value and publisher and status`** search parameters:\n",
       "\n",
       "  `GET [base]/Questionnaire?context-type-value=[composite]&publisher=[string]&status=[token]`\n",
       "\n",
       "  Example: \n",
       "\n",
       "  *Implementation Notes:* . (how to search by [composite] and [string] and [token])\n",
       "\n",
       "1. **SHOULD** support searching using the combination of the  **`context-type-value and status`** search parameters:\n",
       "\n",
       "  `GET [base]/Questionnaire?context-type-value=[composite]&status=[token]`\n",
       "\n",
       "  Example: \n",
       "\n",
       "  *Implementation Notes:* . (how to search by [composite] and [token])\n",
       "\n",
       "1. **SHOULD** support searching using the combination of the  **`publisher and status and version`** search parameters:\n",
       "\n",
       "  `GET [base]/Questionnaire?publisher=[string]&status=[token]&version=[token]`\n",
       "\n",
       "  Example: \n",
       "\n",
       "  *Implementation Notes:* . (how to search by [string] and [token])\n",
       "\n",
       "1. **SHOULD** support searching using the combination of the  **`publisher and version`** search parameters:\n",
       "\n",
       "  `GET [base]/Questionnaire?publisher=[string]&version=[token]`\n",
       "\n",
       "  Example: \n",
       "\n",
       "  *Implementation Notes:* . (how to search by [string] and [token])\n",
       "\n",
       "1. **SHOULD** support searching using the combination of the  **`status and title and version`** search parameters:\n",
       "\n",
       "  `GET [base]/Questionnaire?status=[token]&title{:foo|bar2|foo|bar2}={contains|foo|bar}[string]&version=[token]`\n",
       "\n",
       "  Example: \n",
       "\n",
       "  *Implementation Notes:* . (how to search by [string] and [token])\n",
       "\n",
       "1. **SHOULD** support searching using the combination of the  **`status and version`** search parameters:\n",
       "\n",
       "  `GET [base]/Questionnaire?status=[token]&version=[token]`\n",
       "\n",
       "  Example: \n",
       "\n",
       "  *Implementation Notes:* . (how to search by [token])\n",
       "\n",
       "1. **SHOULD** support searching using the combination of the  **`title and version`** search parameters:\n",
       "\n",
       "  `GET [base]/Questionnaire?title{:foo|bar2|foo|bar2}={contains|foo|bar}[string]&version=[token]`\n",
       "\n",
       "  Example: \n",
       "\n",
       "  *Implementation Notes:* . (how to search by [string] and [token])\n",
       "\n",
       "\n",
       "{% include link-list.md %}"
      ],
      "text/plain": [
       "<IPython.core.display.Markdown object>"
      ]
     },
     "metadata": {},
     "output_type": "display_data"
    },
    {
     "name": "stdout",
     "output_type": "stream",
     "text": [
      "[(['birthdate', 'family'], 'SHOULD', ['date', 'string']), (['birthdate', 'name'], 'SHALL', ['date', 'string']), (['family', 'gender'], 'SHOULD', ['string', 'token']), (['gender', 'name'], 'SHALL', ['string', 'token'])]\n"
     ]
    },
    {
     "data": {
      "text/markdown": [
       "\n",
       "#### Mandatory Search Parameters:\n",
       "\n",
       "The following search parameters, search parameter combinations and search parameter [modifiers], [comparators] and [chained parameters] SHALL be supported.  the  modifiers, comparators and chained parameters that are listed as optional SHOULD be supported.:\n",
       "\n",
       "\n",
       "1. **SHALL** support fetching a Patient using the **`_id`** search parameter:\n",
       "\n",
       "  `GET [base]/Patient[id]`\n",
       "\n",
       "  Example: GET [base]/Patient/1032702\n",
       "\n",
       "  *Implementation Notes:*  (how to search by the [logical id] of the resource)\n",
       "\n",
       "1. **SHALL** support searching a Patient by an identifier such as a MPI using the **`identifier`** search parameter:\n",
       "\n",
       "  `GET [base]/Patient?identifier={[system]}|[code]`\n",
       "\n",
       "  Example: GET [base]/Patient?identifier=http://hospital.smarthealthit.org|1032702\n",
       "\n",
       "  *Implementation Notes:*  (how to search by [token])\n",
       "\n",
       "1. **SHALL** support searching using the **`name`** search parameter:\n",
       "\n",
       "  `GET [base]/Patient?name=[string]`\n",
       "\n",
       "  Example: See combination searches below\n",
       "\n",
       "  *Implementation Notes:* Search based on at least name and another patient element  (how to search by [string])\n",
       "\n",
       "1. **SHALL**  using the combination of the  **`birthdate and name`** search parameters:\n",
       "\n",
       "  `GET [base]/Patient?birthdate=[date]&name=[string]`\n",
       "\n",
       "  Example: \n",
       "\n",
       "  *Implementation Notes:*  (how to search by [date] and [string])\n",
       "\n",
       "1. **SHALL**  using the combination of the  **`gender and name`** search parameters:\n",
       "\n",
       "  `GET [base]/Patient?gender=[token]&name=[string]`\n",
       "\n",
       "  Example: \n",
       "\n",
       "  *Implementation Notes:*  (how to search by [string] and [token])\n",
       "\n",
       "\n",
       "\n",
       "#### Optional Search Parameters:\n",
       "\n",
       "The following search parameters, search parameter combinations and search parameter [modifiers], [comparators] and [chained parameters] SHOULD be supported.\n",
       "\n",
       "1. **SHOULD** support searching using the combination of the  **`birthdate and family`** search parameters:\n",
       "\n",
       "  `GET [base]/Patient?birthdate=[date]&family=[string]`\n",
       "\n",
       "  Example: \n",
       "\n",
       "  *Implementation Notes:* . (how to search by [date] and [string])\n",
       "\n",
       "1. **SHOULD** support searching using the combination of the  **`family and gender`** search parameters:\n",
       "\n",
       "  `GET [base]/Patient?family=[string]&gender=[token]`\n",
       "\n",
       "  Example: \n",
       "\n",
       "  *Implementation Notes:* . (how to search by [string] and [token])\n",
       "\n",
       "\n",
       "{% include link-list.md %}"
      ],
      "text/plain": [
       "<IPython.core.display.Markdown object>"
      ]
     },
     "metadata": {},
     "output_type": "display_data"
    }
   ],
   "source": [
    "\n",
    "search_type = dict(\n",
    "    token = '{[system]}|[code]',\n",
    "    id = '[id]',\n",
    "    reference = '[reference]',\n",
    "    string = '[string]',\n",
    "    uri = '[uri]',\n",
    "    date = '[date]',\n",
    "    )\n",
    "\n",
    "template = env.get_template(md_template[0])\n",
    "\n",
    "print(r_type)   \n",
    "for t in r_type:  # preprocess the for jinja templates\n",
    "    #t = 'AllergyIntolerance'\n",
    "\n",
    "    sp = [d for d in data if d.base == t]\n",
    "    mods= {}\n",
    "    for s in sp:\n",
    "            l1=s.shall_modifier.split(',') if s.shall_modifier else []\n",
    "            l2=s.should_modifier.split(',') if s.should_modifier else []\n",
    "            l3=s.shall_comparator.split(',') if s.shall_comparator else []\n",
    "            l4=s.should_comparator.split(',') if s.should_comparator else []\n",
    "            l5=s.shall_chain.split(',') if s.shall_chain else []\n",
    "            l6=s.should_chain.split(',') if s.should_chain else []\n",
    "            mods[s.code] = (l2+l2,l3+l4,l5+l6)\n",
    "    \n",
    "    #print(mods)\n",
    "    print(combo_dict[t])\n",
    "    shalls = \"SHALL\" in [i.base_conf for i in sp if i.base == t] + combo_dict[t]  # TODO need to search both singles and combos\n",
    "    shoulds = \"SHOULD\" in [i.base_conf for i in sp if i.base == t] + combo_dict[t]\n",
    "    #print(t)\n",
    "    \n",
    "    search_md = template.render(\n",
    "                    r_type=t,\n",
    "                    sp=sp,\n",
    "                    search_type=search_type,\n",
    "                    combos=combo_dict[t],\n",
    "                    shalls=shalls,\n",
    "                    shoulds=shoulds,\n",
    "                    mods = mods,\n",
    "                    )\n",
    "\n",
    "    \n",
    "    display(Markdown(search_md))\n",
    "    # save in temp folder\n",
    "    path = Path.cwd() / 'search_md' / f'us-core-{t.lower()}-search.md'\n",
    "    #path = pathlib.Path(r'/Users/ehaas/Documents/FHIR/US-Core-R4/source/pages/_includes')\n",
    "    path.write_text(search_md)"
   ]
  },
  {
   "cell_type": "markdown",
   "metadata": {},
   "source": [
    "### Create Markdown Text for SearchParameters Page\n",
    "\n",
    "- Using Jinja2 Template create markdown file for searchparameters page\n",
    "- Use spreadsheet as source"
   ]
  },
  {
   "cell_type": "code",
   "execution_count": 60,
   "metadata": {},
   "outputs": [
    {
     "name": "stdout",
     "output_type": "stream",
     "text": [
      "!Patient True\n",
      "!Patient True\n"
     ]
    },
    {
     "data": {
      "text/markdown": [
       "---\n",
       "title: Operations and Search Parameters\n",
       "layout: default\n",
       "topofpage: true\n",
       "sectionnumbering: true\n",
       "---\n",
       "\n",
       "The following operations and search parameters have been defined for the US Core Implementation Guide.  For more information on the [FHIR RESTful operations], [FHIR RESTful search api] and the standard [Search Param Registry] see the FHIR specification.\n",
       "\n",
       "### Operations\n",
       "\n",
       "\n",
       "  { % include list-simple-operationdefinitions.xhtml % }\n",
       "\n",
       "\n",
       "<br />\n",
       "\n",
       "### Search Parameters\n",
       "\n",
       "\n",
       "**AllergyIntolerance**\n",
       "  - [_id](SearchParameter-None.html)\n",
       "\n",
       "**Encounter**\n",
       "  - [_id](SearchParameter-None.html)\n",
       "  - [patient](SearchParameter-us-core-encounter-patient.html)\n",
       "  - [date](SearchParameter-us-core-encounter-date.html)\n",
       "  - [identifier](SearchParameter-us-core-encounter-identifier.html)\n",
       "  - [status](SearchParameter-us-core-encounter-status.html)\n",
       "  - [class](SearchParameter-us-core-encounter-class.html)\n",
       "  - [type](SearchParameter-us-core-encounter-type.html)\n",
       "\n",
       "**Questionnaire**\n",
       "  - [_id](SearchParameter-None.html)\n",
       "  - [url](SearchParameter-us-core-questionnaire-url.html)\n",
       "  - [status](SearchParameter-us-core-questionnaire-status.html)\n",
       "  - [title](SearchParameter-us-core-questionnaire-title.html)\n",
       "  - [publisher](SearchParameter-us-core-questionnaire-publisher.html)\n",
       "  - [version](SearchParameter-us-core-questionnaire-version.html)\n",
       "  - [context-type-value](SearchParameter-us-core-questionnaire-context-type-value.html)\n",
       "\n",
       "**Patient**\n",
       "  - [_id](SearchParameter-None.html)\n",
       "  - [identifier](SearchParameter-us-core-patient-identifier.html)\n",
       "  - [name](SearchParameter-us-core-patient-name.html)\n",
       "  - [birthdate](SearchParameter-us-core-patient-birthdate.html)\n",
       "  - [gender](SearchParameter-us-core-patient-gender.html)\n",
       "  - [family](SearchParameter-us-core-patient-family.html)\n",
       "  - [given](SearchParameter-us-core-patient-given.html)\n",
       "\n",
       "\n",
       "{% include link_list.md %}"
      ],
      "text/plain": [
       "<IPython.core.display.Markdown object>"
      ]
     },
     "metadata": {},
     "output_type": "display_data"
    },
    {
     "data": {
      "text/plain": [
       "1837"
      ]
     },
     "execution_count": 60,
     "metadata": {},
     "output_type": "execute_result"
    }
   ],
   "source": [
    "for d in data:\n",
    "    if '!' in d.base:\n",
    "        print(d.base,True)\n",
    "\n",
    "# get id for each row in spreadsheet:\n",
    "d_tup = []\n",
    "for d in data:\n",
    "    if '!' not in d.base:\n",
    "        sp_id= [sp['id'] for sp in sp_list if d.base in sp['base'] and sp['code'] in [d.code,'id'] ]\n",
    "        d_tup.append((sp_id[0] if sp_id else None,d))\n",
    "\n",
    "template = env.get_template(md_template[1])   \n",
    "\n",
    "searchparameters_md = template.render(sp_list=d_tup,r_list={d.base for d in data if '!' not in d.base })\n",
    "\n",
    "display(Markdown(searchparameters_md))\n",
    "# save in temp folder\n",
    "path = Path.cwd() / 'sp_page_md' / 'searchparameters.md'\n",
    "#path = pathlib.Path(r'/Users/ehaas/Documents/FHIR/US-Core-R4/source/pages/_includes')\n",
    "path.write_text(searchparameters_md)"
   ]
  }
 ],
 "metadata": {
  "kernelspec": {
   "display_name": "Python 3",
   "language": "python",
   "name": "python3"
  },
  "language_info": {
   "codemirror_mode": {
    "name": "ipython",
    "version": 3
   },
   "file_extension": ".py",
   "mimetype": "text/x-python",
   "name": "python",
   "nbconvert_exporter": "python",
   "pygments_lexer": "ipython3",
   "version": "3.7.1"
  }
 },
 "nbformat": 4,
 "nbformat_minor": 2
}
