{
 "cells": [
  {
   "cell_type": "code",
   "execution_count": null,
   "metadata": {},
   "outputs": [],
   "source": []
  },
  {
   "cell_type": "markdown",
   "metadata": {},
   "source": [
    "### Create Ad Hoc Structure for listing all the required combination Search Parameters\n",
    "\n",
    "- uses Spreadsheet\n",
    "- uses set theory and math to enumarate combinations\n",
    "- uses exclude list to remove prohibited combination\n",
    "- uses least strong Conformance of members of combot to determine conformance\n",
    "\n",
    "\n",
    "create a Dict with key = Resource_type and value equal to a sorted list of tuples with combonent parameter list, conformance  e.g. {Type:[(p_combo-1,c1),(p_combo2,c2...]}\n",
    "\n",
    "add new sheet to spreadsheet for manual review"
   ]
  },
  {
   "cell_type": "markdown",
   "metadata": {},
   "source": [
    "### Create Markdown Text for Search.\n",
    "\n",
    "- Using Jinja2 Template create markdown file for search section in profiles profiles\n",
    "- use spreadhsheet as input data  ( could use the sp too )\n",
    "- get combos from spreadsheet\n",
    "  - update parameter types if needed\n",
    "  "
   ]
  },
  {
   "cell_type": "code",
   "execution_count": null,
   "metadata": {},
   "outputs": [],
   "source": [
    "def get_conf_str(combo, r_type):\n",
    "    conf_str = ''\n",
    "    for k in df.itertuples(index=True):\n",
    "        if k.base == r_type and k.code in combo:\n",
    "            if  k.base_conf == 'MAY' or k.base_conf in none_list:\n",
    "                conf_str = 'MAY'\n",
    "                break\n",
    "            elif k.base_conf == 'SHOULD':\n",
    "                conf_str = 'SHOULD' \n",
    "            elif k.base_conf == 'SHALL' and conf_str not in ['SHALL','MAY']:\n",
    "                conf_str ='SHALL' \n",
    "    return conf_str\n",
    "\n",
    "def get_type_list(combo, r_type):\n",
    "    t = {i.type for i in df.itertuples(index=True) if i.code in combo and i.base == r_type}\n",
    "    print(t)\n",
    "    return list(t)\n",
    "\n",
    "\n",
    "def get_combos(pairs,c_list):\n",
    "    a_list =[]\n",
    "    for i in c_list:\n",
    "        for j in c_list:\n",
    "            #print(f'i={i} j = {j}, i&j= {i&j} i^j= {i^j}')\n",
    "            if i & j and i != j:\n",
    "                #print(f'i={i}, j = {j}, i&j= {i&j},i^j= {i^j} i|j = {i|j}')\n",
    "                if i^j in pairs:\n",
    "                    \n",
    "                    if i|j not in a_list + c_list:\n",
    "                        a_list.append(i|j)\n",
    "    return a_list\n",
    "\n",
    "          \n",
    "\n",
    "combo_list = []\n",
    "combo_dict = {}\n",
    "for base in r_type:\n",
    "    print(base)\n",
    "    pairs = []\n",
    "    sp_len = len([d for d in data if d.base== base])\n",
    "          \n",
    "    for d in data:\n",
    "        if d.base == base and d.combo_pairs not in none_list: \n",
    "            pairs.extend([{d.code, p} for p in d.combo_pairs.split(',') if p != d.code])  # get allowed pairs\n",
    "            #print(f'pairs = {pairs}')\n",
    "          \n",
    "    combo_list = pairs\n",
    "    for j in range(sp_len-1):\n",
    "         combo_list = combo_list + get_combos(pairs,combo_list)\n",
    "          \n",
    "    # convert to sorted tuples\n",
    "    combo_list = [sorted(tuple(i)) for i in combo_list]\n",
    "    combo_list = sorted(combo_list)\n",
    "          \n",
    "    try: #subtract forbidden combos\n",
    "        f_combos = []\n",
    "        df_r = read_excel(xls,'resources',na_filter = False)\n",
    "        for r in df_r.itertuples(index=True):\n",
    "            if  r.type == base:\n",
    "                f_combos = r.forbidden_s_combos.split(',')\n",
    "                #print(f_combos)\n",
    "                f_combos = [sorted(i.split('|')) for i in f_combos]\n",
    "                #print(f_combos)\n",
    "        combo_list = [i for i in combo_list if sorted(i) not in f_combos]\n",
    "    except AttributeError:\n",
    "        print('forbidden_s_combos is missing')\n",
    "          \n",
    "    print(f'{len(combo_list)} combos = {combo_list}')\n",
    "    #combo_list.extend(combo_list)\n",
    "    combo_dict[base]=[(c, get_conf_str(combo = c, r_type = base), get_type_list(combo = c, r_type = base)) for c in combo_list]\n",
    "# print(dumps(combo_dict, indent = 4))"
   ]
  },
  {
   "cell_type": "markdown",
   "metadata": {},
   "source": [
    "### Convert combo_dict to dataframe and add to spreadsheet for review"
   ]
  },
  {
   "cell_type": "code",
   "execution_count": null,
   "metadata": {},
   "outputs": [],
   "source": [
    "rows=[]\n",
    "for k,v in combo_dict.items():\n",
    "    for i in v:\n",
    "        rows.append([k, *i])\n",
    "        \n",
    "generated_combos= DataFrame(rows, columns = ['Base Type',\"Combo\",'Conformance','Parameter Types',] )\n",
    "\n",
    "book = load_workbook(f'{in_path}{in_file}.xlsx')\n",
    "std = book['generated_combos']  # remove sheet first if  exists\n",
    "book.remove(std)\n",
    "#update information\n",
    "with ExcelWriter(f'{in_path}{in_file}.xlsx', engine = 'openpyxl') as writer:\n",
    "    writer.book = book\n",
    "    \n",
    "    generated_combos.to_excel(writer, sheet_name = 'generated_combos')"
   ]
  }
 ],
 "metadata": {
  "kernelspec": {
   "display_name": "Python 3",
   "language": "python",
   "name": "python3"
  },
  "language_info": {
   "codemirror_mode": {
    "name": "ipython",
    "version": 3
   },
   "file_extension": ".py",
   "mimetype": "text/x-python",
   "name": "python",
   "nbconvert_exporter": "python",
   "pygments_lexer": "ipython3",
   "version": "3.7.1"
  }
 },
 "nbformat": 4,
 "nbformat_minor": 2
}
