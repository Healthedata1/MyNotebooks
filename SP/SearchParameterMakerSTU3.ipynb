{
 "cells": [
  {
   "cell_type": "markdown",
   "metadata": {},
   "source": [
    "## **TODO** - move to xlsx files\n",
    "\n",
    "## Create FHIRSTU3 SearchParameter Resource, CababilityStatement and Quick start text, and Searchparameter list. Using the Python FHIRClient Module and SearchParameter CSV file with source data.\n",
    "\n",
    "### Prerequisites:\n",
    "\n",
    "- Python 3.6 or greater\n",
    "\n",
    "\n",
    "### Import FHIRClient and other libraries"
   ]
  },
  {
   "cell_type": "code",
   "execution_count": null,
   "metadata": {},
   "outputs": [],
   "source": [
    "%config IPCompleter.greedy=True"
   ]
  },
  {
   "cell_type": "code",
   "execution_count": null,
   "metadata": {},
   "outputs": [],
   "source": [
    "from fhirclient.models import searchparameter as SP\n",
    "from fhirclient.models import capabilitystatement as CS\n",
    "from fhirclient.models import bundle as B\n",
    "import fhirclient.models.identifier as I\n",
    "import fhirclient.models.coding as C\n",
    "import fhirclient.models.codeableconcept as CC\n",
    "import fhirclient.models.fhirdate as D\n",
    "import fhirclient.models.extension as X\n",
    "import fhirclient.models.contactdetail as CD\n",
    "from json import dumps, loads, load\n",
    "from requests import get, post, put\n",
    "import os\n",
    "from pathlib import Path\n",
    "from csv import reader as csvreader\n",
    "from IPython import display as Display\n",
    "from pprint import pprint\n",
    "from collections import namedtuple\n",
    "from pandas import read_csv\n",
    "from datetime import datetime\n",
    "from jinja2 import Environment, FileSystemLoader, select_autoescape"
   ]
  },
  {
   "cell_type": "markdown",
   "metadata": {},
   "source": [
    "#### Inspect ElementProperties as reference"
   ]
  },
  {
   "cell_type": "markdown",
   "metadata": {},
   "source": [
    "####  Assign Global Variables\n",
    "\n",
    "\n",
    "Here is where we assign all the global variables for this example such as the local paths for file input and output\n",
    "\n",
    "##### Need to update:\n",
    "- base_id\n",
    "- paths\n",
    "- canonical"
   ]
  },
  {
   "cell_type": "code",
   "execution_count": null,
   "metadata": {},
   "outputs": [],
   "source": [
    "#******************** Need to update *************************************************\n",
    "base_id = \"argo-q\"\n",
    "canon_base = \"http://fhir.org/guides/argonaut-questionnaire/\"\n",
    "\n",
    "publisher = 'The Argonaut Project'\n",
    "publisher_endpoint = dict(\n",
    "                        system = 'url',\n",
    "                        value = 'https://github.com/argonautproject/questionnaire/issues'\n",
    "                        ) \n",
    "\n",
    "#in_path = '/Users/ehaas/Documents/FHIR/pyfhir/test/'\n",
    "in_path =''\n",
    "#out_path = '/Users/ehaas/Documents/FHIR/pyfhir/test/'\n",
    "out_path=''\n",
    "#out_path = \"C:/Users/Eric/Documents/Jan_2019_FHIR_Experience\"\n",
    "#sp_csv = 'SearchParams.csv'\n",
    "#sp_csv = 'Q_SearchParam.csv'\n",
    "sp_csv = 'Argonaut__Clinical_Notes_SearchParameters'\n",
    "\n",
    "#***********************************************************************************\n",
    "\n",
    "md_template = ['search_narrative.j2', 'sp_list_page.j2', 'cs_search_documentation.j2']\n",
    "\n",
    "env = Environment(\n",
    "    loader=FileSystemLoader(searchpath = in_path),\n",
    "    autoescape=select_autoescape(['html','xml','xhtml','j2','md'])\n",
    "    )\n",
    "\n",
    "fhir_term_server = 'http://test.fhir.org/r3'\n",
    "fhir_test_server = 'http://test.fhir.org/r3'\n",
    "\n",
    "headers = {\n",
    "'Accept':'application/fhir+json',\n",
    "'Content-Type':'application/fhir+json'\n",
    "}\n",
    "\n",
    "# profile = 'http://hl7.org/fhir/us/core/StructureDefinition/us-core-patient' # The official URL for this profile is: http://hl7.org/fhir/us/core/StructureDefinition/us-core-patient\n",
    "fhir_base_url = 'http://hl7.org/fhir/'\n",
    "\n",
    "\n",
    "none_list = ['', ' ', 'none', 'n/a', 'N/A', 'N', 'False']\n",
    "sep_list = (',', ';', ' ', ', ', '; ')\n",
    "search_type = dict(\n",
    "    token = '{[system]}|[code]',\n",
    "    id = '[id]',\n",
    "    reference = '[url]',\n",
    "    string = '[string]'\n",
    "    )\n"
   ]
  },
  {
   "cell_type": "markdown",
   "metadata": {},
   "source": [
    "### validate"
   ]
  },
  {
   "cell_type": "code",
   "execution_count": null,
   "metadata": {},
   "outputs": [],
   "source": [
    "# *********************** validate Resource ********************************\n",
    "\n",
    "def validate(r):\n",
    "    fhir_test_server = 'http://fhirtest.uhn.ca/baseDstu3'\n",
    "    #fhir_test_server = 'http://test.fhir.org/r3'\n",
    "\n",
    "    headers = {\n",
    "    'Accept':'application/fhir+json',\n",
    "    'Content-Type':'application/fhir+json'\n",
    "    }\n",
    "    \n",
    "    params = {\n",
    "  \n",
    "    }\n",
    "    #   r = requests.post('https://httpbin.org/post', data = {'key':'value'})\n",
    "    r = post(f'{fhir_test_server}/Questionnaire/$validate', params = params, headers = headers, data = dumps(r.as_json()))\n",
    "    # return r.status_code\n",
    "    # view  output\n",
    "    # return (r.json()[\"text\"][\"div\"])\n",
    "    return r"
   ]
  },
  {
   "cell_type": "markdown",
   "metadata": {},
   "source": [
    "### Write to File"
   ]
  },
  {
   "cell_type": "code",
   "execution_count": null,
   "metadata": {},
   "outputs": [],
   "source": [
    " def write_file(name, data): # write file\n",
    "    # out_path = ''\n",
    "    out_path = '//ERICS-AIR-2/ehaas/Documents/FHIR/Argo-Questionnaire/source/resources/'\n",
    "    with open(f'{Path(out_path)}/{name}.json', 'w') as f:\n",
    "        f.write(data)"
   ]
  },
  {
   "cell_type": "markdown",
   "metadata": {},
   "source": [
    "### Get Search Parameter input data"
   ]
  },
  {
   "cell_type": "code",
   "execution_count": null,
   "metadata": {},
   "outputs": [],
   "source": [
    "data = read_csv(f'{in_path}{sp_csv}')\n",
    "data"
   ]
  },
  {
   "cell_type": "code",
   "execution_count": null,
   "metadata": {},
   "outputs": [],
   "source": [
    "with open(f'{in_path}{sp_csv}') as f:\n",
    "    reader = csvreader(f)\n",
    "    top_row = next(reader)\n",
    "    top_row = [t.lower().split(' ') for t in top_row]\n",
    "    top_row = ['_'.join(t) for t in top_row]\n",
    "\n",
    "    Data = namedtuple(\"Data\", top_row)\n",
    "    data = [Data(*r) for r in reader]\n",
    "    \n",
    "for d in data:\n",
    "    print(f'Resource = {d.resource}, Search Parameter = {d.parameter}, Exists = {d.exists}')\n",
    "    "
   ]
  },
  {
   "cell_type": "markdown",
   "metadata": {},
   "source": [
    "### update core SP with additional capabiliities"
   ]
  },
  {
   "cell_type": "markdown",
   "metadata": {},
   "source": [
    "#### Get core SP (d.exists == 'Y')\n",
    "\n",
    "- Get definitions bundle\n",
    "- If need to update SP Extract the SP based on the csv file"
   ]
  },
  {
   "cell_type": "code",
   "execution_count": null,
   "metadata": {},
   "outputs": [],
   "source": [
    "def_path = 'C:/Users/Eric/Documents/HL7/FHIR/BUILD_EDIT_FILES/STU3_Definitions/search-parameters.json'  # use '/' !\n",
    "\n",
    "print(Path(def_path))\n",
    "\n",
    "with open(Path(def_path)) as f:\n",
    "    b = B.Bundle(load(f))\n",
    "\n",
    "b.id\n"
   ]
  },
  {
   "cell_type": "code",
   "execution_count": null,
   "metadata": {},
   "outputs": [],
   "source": [
    "def sp_multipleAnd(sp):\n",
    "    x = X.Extension(dict(\n",
    "    url = f'{canon_base}multipleAnd',\n",
    "    valueBoolean = True\n",
    "    ))\n",
    "    try:\n",
    "        sp.extension.append(x)\n",
    "    except AttributeError:\n",
    "        sp.extension = [x]\n",
    "    # print('add adds extension')\n",
    "    return sp\n",
    "    \n",
    "  \n",
    "def sp_multipleOr(sp):\n",
    "    x = X.Extension(dict(\n",
    "    url = f'{canon_base}multipleOr',\n",
    "    valueBoolean = True\n",
    "    ))\n",
    "    try:\n",
    "        sp.extension.append(x)\n",
    "    except AttributeError:\n",
    "        sp.extension = [x]\n",
    "    # print('add ors extension')\n",
    "    return sp\n",
    "\n",
    "\n",
    "new_constraints = {\n",
    "    'ands': sp_multipleAnd,\n",
    "    'ors': sp_multipleOr,\n",
    "    'modifiers': 'modifier',\n",
    "    'comparators': 'comparator',\n",
    "    'references': 'target',\n",
    "    'chains': 'chain'\n",
    "    }\n",
    "\n",
    "sp_list=[]\n",
    "for d in data:\n",
    "    fullUrl = f'http://hl7.org/fhir/SearchParameter/{d.resource}-{d.parameter}'\n",
    "    for i in b.entry:\n",
    "        if i.fullUrl == fullUrl and d.update == 'Y': #update sp\n",
    "            # print(dumps(i.resource.as_json(),indent = 3))\n",
    "            sp = i.resource\n",
    "            # change id and url, publisher, and contact, draft etc\n",
    "            sp.derivedFrom =sp.url\n",
    "            #sp.id = f'{base_id}-{sp.id}'\n",
    "            sp.url = f'{canon_base}/SearchParameter/{sp.id}'\n",
    "            sp.publisher = publisher\n",
    "            sp.contact = [CD.ContactDetail( {\"telecom\" : [ publisher_endpoint ] })]\n",
    "            sp.date = D.FHIRDate(f'{datetime.utcnow().isoformat()}Z')\n",
    "            sp.name = sp.id.replace('-','_').lower()\n",
    "            sp.status = 'active'\n",
    "\n",
    "            for k,v in new_constraints.items():\n",
    "                print(getattr(d,k))\n",
    "                if getattr(d,k) =='Y':\n",
    "                    v(sp)\n",
    "                elif getattr(d,k) not in none_list:\n",
    "                    a_list = getattr(d,k).split(',')\n",
    "                    # print(a_list)\n",
    "                    setattr(sp,v,a_list)\n",
    "\n",
    "\n",
    "\n",
    "            print(dumps(sp.as_json(),indent = 3))\n",
    "\n",
    "            #validate and write to file\n",
    "\n",
    "            print('...validating')\n",
    "            # print(validate(sp))\n",
    "            #r = validate(sp)\n",
    "            #display(Display.HTML(f'<h1>Validation output</h1><h3>Status Code = {r.status_code}</h3> {r.json()[\"text\"][\"div\"]}'))\n",
    "\n",
    "\n",
    "            # save to file\n",
    "\n",
    "            rjson = dumps(sp.as_json(), indent=3)\n",
    "            name =f'searchparameter-{sp.id.lower()}'\n",
    "            print(name)\n",
    "            # write files as json\n",
    "            # write_file(name, rjson)\n",
    "            sp_list.append(sp)\n",
    "            break\n",
    "\n",
    "        elif i.fullUrl == fullUrl:\n",
    "            sp = i.resource\n",
    "            sp_list.append(sp)\n",
    "            break\n",
    "\n",
    "\n",
    "for i in sp_list:\n",
    "    print(i.id, i.name, i.url)\n",
    "\n",
    "                             \n",
    "                 "
   ]
  },
  {
   "cell_type": "code",
   "execution_count": null,
   "metadata": {},
   "outputs": [],
   "source": []
  },
  {
   "cell_type": "markdown",
   "metadata": {},
   "source": [
    "### Create SP Resources by assigning CSV data to SP elements"
   ]
  },
  {
   "cell_type": "markdown",
   "metadata": {},
   "source": [
    "sp_list = []\n",
    "\n",
    "\n",
    "\n",
    "def split_string(s):\n",
    "    for r in sep_list:\n",
    "        s = s.replace(r, ' ')\n",
    "    return s.split()\n",
    "\n",
    "for d in data:\n",
    "    #initiliaze\n",
    "    sp = SP.SearchParameter()\n",
    "    sp.date = D.FHIRDate(datetime.utcnow().isoformat())\n",
    "    sp.publisher = publisher\n",
    "    sp.contact = [CD.ContactDetail( {\"telecom\" : [ publisher_endpoint ] })]\n",
    "    # print(d.parameter)\n",
    "    sp.id = f'{base_id}-{d.resource.lower()}-{d.parameter}'\n",
    "    sp.url = f'{canon_base}{sp.id}'\n",
    "    sp.name = sp.id.replace('-','_')\n",
    "    sp.derivedFrom = f'http://hl7.org/fhir/SearchParameter/{d.resource}-{d.parameter.lower()}' if d.exists == 'Y' else None\n",
    "    # print(sp.derivedFrom)\n",
    "    sp.status = 'active'\n",
    "    sp.description = d.description\n",
    "    sp.code = d.parameter.lower()\n",
    "    sp.base = [d.resource]  # list\n",
    "    sp.type = d.type.lower()\n",
    "    # print(sp.type)\n",
    "    sp.expression = d.expression\n",
    "    sp.target = [] if d.reference in none_list else split_string(d.reference) # string as space separated list in csv\n",
    "    # print(sp.target)\n",
    "    # sp.multipleOr = True  add columns to csv for where needed or used otherwise leave blank\n",
    "    # sp.multipleAnd = True  add columns to csv for where needed or used\n",
    "    sp.comparator = [] if d.comparators in none_list else split_string(d.comparators) # string as space separated list in csv\n",
    "    # print(sp.comparator)\n",
    "    sp.modifier = [] if d.modifiers in none_list else split_string(d.modifiers) # string as space separated list in csv\n",
    "    # print(sp.modifier)\n",
    "    sp.chain = [] if d.chains in none_list else split_string(d.chains) # string as space separated list in csv\n",
    "    # print(sp.chain)\n",
    "    # TODO sp.combo = [] if d.combos in none_list else split_string(d.chains) # string as space separated list in csv\n",
    "    # print(sp.combo)\n",
    "    sp.conformance = d.conformance_server.upper()\n",
    "    \n",
    "    sp_list.append(sp)\n",
    "    \n",
    "    \n"
   ]
  },
  {
   "cell_type": "markdown",
   "metadata": {},
   "source": [
    "### Display SP resources"
   ]
  },
  {
   "cell_type": "markdown",
   "metadata": {},
   "source": [
    "for row,i in enumerate(sp_list):\n",
    "    print(row,i.base)\n",
    "    print(dumps(sp_list[1].as_json(), indent = 3))\n",
    "\n"
   ]
  },
  {
   "cell_type": "markdown",
   "metadata": {},
   "source": [
    "### Create Markdown Text for Search.\n",
    "\n",
    "- Using Jinja2 Template create markdown file for search section in profiles profiles"
   ]
  },
  {
   "cell_type": "code",
   "execution_count": null,
   "metadata": {},
   "outputs": [],
   "source": [
    "r_type = ['Questionnaire', 'QuestionnaireResponse', 'Patient']  # TODO  loop over all types in sp_list\n",
    "\n",
    "template = env.get_template(md_template[0])\n",
    "for t in r_type:\n",
    "    sp_bytype = [i for i in sp_list if i.base[0] == r_type]\n",
    "    display(Markdown(template.render(sp_bytype=sp_bytype,search_type=search_type)))\n",
    "    search_md = template.render(sp_bytype=sp_bytype,search_type=search_type)\n",
    "\n",
    "with open(f'{out_path}{r_type}-search.md','w') as f:\n",
    "    f.write(search_md)\n",
    "\n"
   ]
  },
  {
   "cell_type": "markdown",
   "metadata": {},
   "source": [
    "### Create Markdown Text for SearchParameters Page\n",
    "\n",
    "- Using Jinja2 Template create markdown file for searchparameters page"
   ]
  },
  {
   "cell_type": "code",
   "execution_count": null,
   "metadata": {},
   "outputs": [],
   "source": [
    "# get types:\n",
    "r_list = []\n",
    "for i in sp_list:\n",
    "    for j in i.base:\n",
    "        r_list.append(j)\n",
    "\n",
    "r_list = sorted(set(r_list))\n",
    "\n",
    "# md_template = 'sp_list_page.j2'\n",
    "\n",
    "template = env.get_template(md_template[1])\n",
    "display(Markdown(template.render(sp_list=sp_list,r_list=r_list)))\n",
    "searchparameters_md = template.render(sp_list=sp_list,r_list=r_list)\n",
    "with open(f'{out_path}searchparameters.md','w') as f:\n",
    "    f.write(searchparameters_md)"
   ]
  },
  {
   "cell_type": "markdown",
   "metadata": {},
   "source": [
    "### Update CapabilityStatement for Search\n",
    "- instantiate new or existing CapStatement as fhir model\n",
    "- add combination extensions\n",
    "- add markdown descriptions from above"
   ]
  },
  {
   "cell_type": "code",
   "execution_count": null,
   "metadata": {},
   "outputs": [],
   "source": [
    "# instantiate new or existing CapStatement:\n",
    "\n",
    "def interaction(code):\n",
    "    return CS.CapabilityStatementRestResourceInteraction({'code' : code})\n",
    "\n",
    "def search_cs(sp):\n",
    "    template = env.get_template(md_template[2])\n",
    "    return CS.CapabilityStatementRestResourceSearchParam(\n",
    "    dict(\n",
    "    name = sp.code,\n",
    "    definition = sp.url,\n",
    "    type = sp.type,\n",
    "    documentation = template.render(sp=sp, search_type=search_type)\n",
    "    )\n",
    "    )\n",
    "\n",
    "cs = CS.CapabilityStatement(dict(\n",
    "                            date = now,\n",
    "                            status = 'active',\n",
    "                            acceptUnknown = 'both',\n",
    "                            format = ['json','xml'],\n",
    "                            fhirVersion = '3.0.1',\n",
    "                            kind = 'requirements'     \n",
    "                            ))\n",
    "\n",
    "\n",
    "\n",
    "cs.rest = [CS.CapabilityStatementRest()]  \n",
    "cs.rest[0].mode = 'server'\n",
    "cs.rest[0].resource = []\n",
    "\n",
    "\n",
    "\n",
    "print(r_list)    \n",
    "for r in r_list:\n",
    "    rest_resource = CS.CapabilityStatementRestResource()\n",
    "    rest_resource.type = r\n",
    "    rest_resource.interaction = [interaction(code) for code in ['read','vread', 'history-instance', 'search-type']]\n",
    "    cs.rest[0].resource.append(rest_resource)\n",
    "    rest_resource.searchParam = [search_cs(sp=sp) for sp in sp_list if sp.base[0] == r]\n",
    "print(dumps(cs.as_json(),indent = 3))\n",
    "    \n",
    "    \n",
    "\n"
   ]
  },
  {
   "cell_type": "markdown",
   "metadata": {},
   "source": [
    "### TODO\n",
    "\n",
    "- Save SearchParameters and CapabilityStatements.\n",
    "- Cycle through the quick starts\n",
    "- Update the CSV files"
   ]
  },
  {
   "cell_type": "code",
   "execution_count": null,
   "metadata": {},
   "outputs": [],
   "source": []
  },
  {
   "cell_type": "code",
   "execution_count": null,
   "metadata": {},
   "outputs": [],
   "source": []
  }
 ],
 "metadata": {
  "kernelspec": {
   "display_name": "Python 3",
   "language": "python",
   "name": "python3"
  },
  "language_info": {
   "codemirror_mode": {
    "name": "ipython",
    "version": 3
   },
   "file_extension": ".py",
   "mimetype": "text/x-python",
   "name": "python",
   "nbconvert_exporter": "python",
   "pygments_lexer": "ipython3",
   "version": "3.7.1"
  }
 },
 "nbformat": 4,
 "nbformat_minor": 2
}
