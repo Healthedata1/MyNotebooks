{
 "cells": [
  {
   "cell_type": "markdown",
   "metadata": {},
   "source": [
    "## Create FHIRSTU3 SearchParameter Resource, CababilityStatement and Quick start text, and Searchparameter list. Using the Python FHIRClient Module and SearchParameter CSV file with source data.\n",
    "\n",
    "### Prerequisites:\n",
    "\n",
    "- Python 3.6 or greater\n",
    "\n",
    "\n",
    "### Import FHIRClient and other libraries"
   ]
  },
  {
   "cell_type": "code",
   "execution_count": 9,
   "metadata": {},
   "outputs": [],
   "source": [
    "%config IPCompleter.greedy=True"
   ]
  },
  {
   "cell_type": "code",
   "execution_count": 10,
   "metadata": {},
   "outputs": [],
   "source": [
    "from fhirclient.models import searchparameter as SP\n",
    "from fhirclient.models import capabilitystatement as CS\n",
    "import fhirclient.models.identifier as I\n",
    "import fhirclient.models.coding as C\n",
    "import fhirclient.models.codeableconcept as CC\n",
    "import fhirclient.models.fhirdate as D\n",
    "import fhirclient.models.extension as X\n",
    "import fhirclient.models.contactdetail as CD\n",
    "from json import dumps\n",
    "from requests import get, post, put\n",
    "import os\n",
    "from csv import reader as csvreader\n",
    "from IPython.display import display, Markdown, HTML\n",
    "from pprint import pprint\n",
    "from collections import namedtuple\n",
    "from pandas import read_csv\n",
    "from datetime import datetime\n",
    "from jinja2 import Environment, FileSystemLoader, select_autoescape"
   ]
  },
  {
   "cell_type": "markdown",
   "metadata": {},
   "source": [
    "#### Inspect ElementProperties as reference"
   ]
  },
  {
   "cell_type": "markdown",
   "metadata": {},
   "source": [
    "####  Assign Global Variables\n",
    "\n",
    "\n",
    "Here is where we assign all the global variables for this example such as the local paths for file input and output"
   ]
  },
  {
   "cell_type": "code",
   "execution_count": 23,
   "metadata": {},
   "outputs": [],
   "source": [
    "#in_path = '/Users/ehaas/Documents/FHIR/pyfhir/test/'\n",
    "in_path =''\n",
    "out_path = '/Users/ehaas/Documents/FHIR/pyfhir/test/'\n",
    "#out_path = \"C:/Users/Eric/Documents/Jan_2019_FHIR_Experience\"\n",
    "#sp_csv = 'SearchParams.csv'\n",
    "sp_csv = 'Q_SearchParam.csv'\n",
    "md_template = ['search_narrative.j2', 'sp_list_page.j2', 'cs_search_documentation.j2']\n",
    "\n",
    "env = Environment(\n",
    "    loader=FileSystemLoader(searchpath = in_path),\n",
    "    autoescape=select_autoescape(['html','xml','xhtml','j2','md'])\n",
    "    )\n",
    "\n",
    "fhir_term_server = 'http://test.fhir.org/r3'\n",
    "fhir_test_server = 'http://test.fhir.org/r3'\n",
    "\n",
    "headers = {\n",
    "'Accept':'application/fhir+json',\n",
    "'Content-Type':'application/fhir+json'\n",
    "}\n",
    "\n",
    "# profile = 'http://hl7.org/fhir/us/core/StructureDefinition/us-core-patient' # The official URL for this profile is: http://hl7.org/fhir/us/core/StructureDefinition/us-core-patient\n",
    "fhir_base_url = 'http://hl7.org/fhir/'\n",
    "base_id = \"argo-q\"\n",
    "canon_base = \"canon_base-for-argo-q/\"\n",
    "publisher = 'The Argonaut Project'\n",
    "publisher_endpoint = dict(\n",
    "                        system = 'url',\n",
    "                        value = 'https://github.com/argonautproject/questionnaire/issues'\n",
    "                        )\n",
    "none_list = ['', ' ', 'none', 'n/a', 'N/A']\n",
    "sep_list = (',', ';', ' ', ', ', '; ')\n",
    "search_type = dict(\n",
    "    token = '{[system]}|[code]',\n",
    "    id = '[id]',\n",
    "    reference = '[url]',\n",
    "    string = '[string]'\n",
    "    )\n"
   ]
  },
  {
   "cell_type": "markdown",
   "metadata": {},
   "source": [
    "### Get Search Parameter input data"
   ]
  },
  {
   "cell_type": "code",
   "execution_count": 26,
   "metadata": {},
   "outputs": [
    {
     "data": {
      "text/html": [
       "<div>\n",
       "<style scoped>\n",
       "    .dataframe tbody tr th:only-of-type {\n",
       "        vertical-align: middle;\n",
       "    }\n",
       "\n",
       "    .dataframe tbody tr th {\n",
       "        vertical-align: top;\n",
       "    }\n",
       "\n",
       "    .dataframe thead th {\n",
       "        text-align: right;\n",
       "    }\n",
       "</style>\n",
       "<table border=\"1\" class=\"dataframe\">\n",
       "  <thead>\n",
       "    <tr style=\"text-align: right;\">\n",
       "      <th></th>\n",
       "      <th>Resource</th>\n",
       "      <th>Conformance Server</th>\n",
       "      <th>Parameter</th>\n",
       "      <th>Exists</th>\n",
       "      <th>Type</th>\n",
       "      <th>Expression</th>\n",
       "      <th>Modifiers</th>\n",
       "      <th>Comparators</th>\n",
       "      <th>Reference</th>\n",
       "      <th>Chains</th>\n",
       "      <th>Description</th>\n",
       "      <th>Example Query</th>\n",
       "      <th>foo</th>\n",
       "    </tr>\n",
       "  </thead>\n",
       "  <tbody>\n",
       "    <tr>\n",
       "      <th>0</th>\n",
       "      <td>HealthcareService</td>\n",
       "      <td>SHALL</td>\n",
       "      <td>active</td>\n",
       "      <td>Y</td>\n",
       "      <td>token</td>\n",
       "      <td>HealthcareService.active</td>\n",
       "      <td>NaN</td>\n",
       "      <td>NaN</td>\n",
       "      <td>NaN</td>\n",
       "      <td>NaN</td>\n",
       "      <td>The Healthcare Service is currently marked as ...</td>\n",
       "      <td>GET [base]/HealthcareService?active=[code]</td>\n",
       "      <td>NaN</td>\n",
       "    </tr>\n",
       "    <tr>\n",
       "      <th>1</th>\n",
       "      <td>Questionnaire</td>\n",
       "      <td>SHOULD</td>\n",
       "      <td>context-type-value</td>\n",
       "      <td>N</td>\n",
       "      <td>composite</td>\n",
       "      <td>On Questionnaire.useContext: context-type: cod...</td>\n",
       "      <td>NaN</td>\n",
       "      <td>NaN</td>\n",
       "      <td>NaN</td>\n",
       "      <td>NaN</td>\n",
       "      <td>�use context type and value assigned to the qu...</td>\n",
       "      <td>GET [base]/Questionnaire?context-type-value=[U...</td>\n",
       "      <td>NaN</td>\n",
       "    </tr>\n",
       "  </tbody>\n",
       "</table>\n",
       "</div>"
      ],
      "text/plain": [
       "            Resource Conformance Server           Parameter Exists       Type  \\\n",
       "0  HealthcareService              SHALL              active      Y      token   \n",
       "1      Questionnaire             SHOULD  context-type-value      N  composite   \n",
       "\n",
       "                                          Expression  Modifiers  Comparators  \\\n",
       "0                           HealthcareService.active        NaN          NaN   \n",
       "1  On Questionnaire.useContext: context-type: cod...        NaN          NaN   \n",
       "\n",
       "   Reference  Chains                                        Description  \\\n",
       "0        NaN     NaN  The Healthcare Service is currently marked as ...   \n",
       "1        NaN     NaN  �use context type and value assigned to the qu...   \n",
       "\n",
       "                                       Example Query  foo  \n",
       "0         GET [base]/HealthcareService?active=[code]  NaN  \n",
       "1  GET [base]/Questionnaire?context-type-value=[U...  NaN  "
      ]
     },
     "execution_count": 26,
     "metadata": {},
     "output_type": "execute_result"
    }
   ],
   "source": [
    "data = read_csv(f'{in_path}{sp_csv}')\n",
    "data"
   ]
  },
  {
   "cell_type": "code",
   "execution_count": 27,
   "metadata": {},
   "outputs": [
    {
     "name": "stdout",
     "output_type": "stream",
     "text": [
      "Resource = HealthcareService, Search Parameter = active\n",
      "Resource = Questionnaire, Search Parameter = context-type-value\n"
     ]
    }
   ],
   "source": [
    "with open(f'{in_path}{sp_csv}') as f:\n",
    "    reader = csvreader(f)\n",
    "    top_row = next(reader)\n",
    "    top_row = [t.lower().split(' ') for t in top_row]\n",
    "    top_row = ['_'.join(t) for t in top_row]\n",
    "\n",
    "    Data = namedtuple(\"Data\", top_row)\n",
    "    data = [Data(*r) for r in reader]\n",
    "    \n",
    "for d in data:\n",
    "    print(f'Resource = {d.resource}, Search Parameter = {d.parameter}')\n",
    "    "
   ]
  },
  {
   "cell_type": "markdown",
   "metadata": {},
   "source": [
    "### Create SP Resources by assigning CSV data to SP elements"
   ]
  },
  {
   "cell_type": "code",
   "execution_count": 28,
   "metadata": {},
   "outputs": [],
   "source": [
    "sp_list = []\n",
    "\n",
    "\n",
    "\n",
    "def split_string(s):\n",
    "    for r in sep_list:\n",
    "        s = s.replace(r, ' ')\n",
    "    return s.split()\n",
    "\n",
    "for d in data:\n",
    "    #initiliaze\n",
    "    sp = SP.SearchParameter()\n",
    "    sp.date = D.FHIRDate(datetime.utcnow().isoformat())\n",
    "    sp.publisher = publisher\n",
    "    sp.contact = [CD.ContactDetail( {\"telecom\" : [ publisher_endpoint ] })]\n",
    "    # print(d.parameter)\n",
    "    sp.id = f'{base_id}-{d.resource.lower()}-{d.parameter}'\n",
    "    sp.url = f'{canon_base}{sp.id}'\n",
    "    sp.name = sp.id.replace('-','_')\n",
    "    sp.derivedFrom = f'http://hl7.org/fhir/SearchParameter/{d.resource}-{d.parameter.lower()}' if d.exists == 'Y' else None\n",
    "    # print(sp.derivedFrom)\n",
    "    sp.status = 'active'\n",
    "    sp.description = d.description\n",
    "    sp.code = d.parameter.lower()\n",
    "    sp.base = [d.resource]  # list\n",
    "    sp.type = d.type.lower()\n",
    "    # print(sp.type)\n",
    "    sp.expression = d.expression\n",
    "    sp.target = [] if d.reference in none_list else split_string(d.reference) # string as space separated list in csv\n",
    "    # print(sp.target)\n",
    "    # sp.multipleOr = True  add columns to csv for where needed or used otherwise leave blank\n",
    "    # sp.multipleAnd = True  add columns to csv for where needed or used\n",
    "    sp.comparator = [] if d.comparators in none_list else split_string(d.comparators) # string as space separated list in csv\n",
    "    # print(sp.comparator)\n",
    "    sp.modifier = [] if d.modifiers in none_list else split_string(d.modifiers) # string as space separated list in csv\n",
    "    # print(sp.modifier)\n",
    "    sp.chain = [] if d.chains in none_list else split_string(d.chains) # string as space separated list in csv\n",
    "    # print(sp.chain)\n",
    "    # TODO sp.combo = [] if d.combos in none_list else split_string(d.chains) # string as space separated list in csv\n",
    "    # print(sp.combo)\n",
    "    sp.conformance = d.conformance_server.upper()\n",
    "    \n",
    "    sp_list.append(sp)\n",
    "    \n",
    "    \n"
   ]
  },
  {
   "cell_type": "markdown",
   "metadata": {},
   "source": [
    "### Display SP resources"
   ]
  },
  {
   "cell_type": "code",
   "execution_count": 30,
   "metadata": {},
   "outputs": [
    {
     "name": "stdout",
     "output_type": "stream",
     "text": [
      "0 ['HealthcareService']\n",
      "{\n",
      "   \"id\": \"argo-q-questionnaire-context-type-value\",\n",
      "   \"base\": [\n",
      "      \"Questionnaire\"\n",
      "   ],\n",
      "   \"code\": \"context-type-value\",\n",
      "   \"contact\": [\n",
      "      {\n",
      "         \"telecom\": [\n",
      "            {\n",
      "               \"system\": \"url\",\n",
      "               \"value\": \"https://github.com/argonautproject/questionnaire/issues\"\n",
      "            }\n",
      "         ]\n",
      "      }\n",
      "   ],\n",
      "   \"date\": \"2019-02-16T09:32:33.619803\",\n",
      "   \"description\": \"\\ufffduse context type and value assigned to the questionnaire\",\n",
      "   \"expression\": \"On Questionnaire.useContext: context-type: code context: value.as(CodeableConcept)\",\n",
      "   \"name\": \"argo_q_questionnaire_context_type_value\",\n",
      "   \"publisher\": \"The Argonaut Project\",\n",
      "   \"status\": \"active\",\n",
      "   \"type\": \"composite\",\n",
      "   \"url\": \"canon_base-for-argo-q/argo-q-questionnaire-context-type-value\",\n",
      "   \"resourceType\": \"SearchParameter\"\n",
      "}\n",
      "1 ['Questionnaire']\n",
      "{\n",
      "   \"id\": \"argo-q-questionnaire-context-type-value\",\n",
      "   \"base\": [\n",
      "      \"Questionnaire\"\n",
      "   ],\n",
      "   \"code\": \"context-type-value\",\n",
      "   \"contact\": [\n",
      "      {\n",
      "         \"telecom\": [\n",
      "            {\n",
      "               \"system\": \"url\",\n",
      "               \"value\": \"https://github.com/argonautproject/questionnaire/issues\"\n",
      "            }\n",
      "         ]\n",
      "      }\n",
      "   ],\n",
      "   \"date\": \"2019-02-16T09:32:33.619803\",\n",
      "   \"description\": \"\\ufffduse context type and value assigned to the questionnaire\",\n",
      "   \"expression\": \"On Questionnaire.useContext: context-type: code context: value.as(CodeableConcept)\",\n",
      "   \"name\": \"argo_q_questionnaire_context_type_value\",\n",
      "   \"publisher\": \"The Argonaut Project\",\n",
      "   \"status\": \"active\",\n",
      "   \"type\": \"composite\",\n",
      "   \"url\": \"canon_base-for-argo-q/argo-q-questionnaire-context-type-value\",\n",
      "   \"resourceType\": \"SearchParameter\"\n",
      "}\n"
     ]
    }
   ],
   "source": [
    "for row,i in enumerate(sp_list):\n",
    "    print(row,i.base)\n",
    "    print(dumps(sp_list[1].as_json(), indent = 3))\n",
    "\n"
   ]
  },
  {
   "cell_type": "markdown",
   "metadata": {},
   "source": [
    "### Create Markdown Text for Search.\n",
    "\n",
    "- Using Jinja2 Template create markdown file for search section in profiles profiles"
   ]
  },
  {
   "cell_type": "code",
   "execution_count": 31,
   "metadata": {},
   "outputs": [
    {
     "data": {
      "text/markdown": [
       "### Quick Start\n",
       "Below is an overview of the required set of RESTful FHIR interactions - for\n",
       "example, search and read operations - for this profile. See the [Conformance requirements]\n",
       "for a complete list of supported RESTful interactions for this IG.\n",
       "\n",
       "#### Supported Searches\n",
       "\n",
       "{% include link-list.md %}"
      ],
      "text/plain": [
       "<IPython.core.display.Markdown object>"
      ]
     },
     "metadata": {},
     "output_type": "display_data"
    }
   ],
   "source": [
    "r_type = \"CareTeam\"  # TODO  loop over all types in sp_list\n",
    "\n",
    "template = env.get_template(md_template[0])\n",
    "sp_bytype = [i for i in sp_list if i.base[0] == r_type]\n",
    "display(Markdown(template.render(sp_bytype=sp_bytype,search_type=search_type)))\n",
    "search_md = template.render(sp_bytype=sp_bytype,search_type=search_type)\n",
    "\n",
    "with open(f'{out_path}{r_type}-search.md','w') as f:\n",
    "    f.write(search_md)\n",
    "\n"
   ]
  },
  {
   "cell_type": "markdown",
   "metadata": {},
   "source": [
    "### Create Markdown Text for SearchParameters Page\n",
    "\n",
    "- Using Jinja2 Template create markdown file for searchparameters page"
   ]
  },
  {
   "cell_type": "code",
   "execution_count": 32,
   "metadata": {},
   "outputs": [
    {
     "data": {
      "text/markdown": [
       "---\n",
       "title: Operations and Search Parameters\n",
       "layout: default\n",
       "topofpage: true\n",
       "sectionnumbering: true\n",
       "---\n",
       "\n",
       "The following search parameters have been defined for the {{site.data.fhir.igName}} Implementation Guide.  For more information on the [FHIR RESTful search api]and the standard [Search Param Registry] see the FHIR specification.\n",
       "\n",
       "<!-- Operations\n",
       "\n",
       "\n",
       "  { % include list-simple-operationdefinitions.xhtml % }\n",
       "\n",
       "\n",
       "-->\n",
       "\n",
       "Search Parameter\n",
       "\n",
       "\n",
       "**HealthcareService**\n",
       "  - [active](SearchParameter-argo-q-healthcareservice-active.html)\n",
       "\n",
       "**Questionnaire**\n",
       "  - [context-type-value](SearchParameter-argo-q-questionnaire-context-type-value.html)\n",
       "\n",
       "{% include link_list.md %}"
      ],
      "text/plain": [
       "<IPython.core.display.Markdown object>"
      ]
     },
     "metadata": {},
     "output_type": "display_data"
    }
   ],
   "source": [
    "# get types:\n",
    "r_list = []\n",
    "for i in sp_list:\n",
    "    for j in i.base:\n",
    "        r_list.append(j)\n",
    "\n",
    "r_list = sorted(set(r_list))\n",
    "\n",
    "# md_template = 'sp_list_page.j2'\n",
    "\n",
    "template = env.get_template(md_template[1])\n",
    "display(Markdown(template.render(sp_list=sp_list,r_list=r_list)))\n",
    "searchparameters_md = template.render(sp_list=sp_list,r_list=r_list)\n",
    "with open(f'{out_path}searchparameters.md','w') as f:\n",
    "    f.write(searchparameters_md)"
   ]
  },
  {
   "cell_type": "markdown",
   "metadata": {},
   "source": [
    "### Update CapabilityStatement for Search\n",
    "- instantiate new or existing CapStatement as fhir model\n",
    "- add combination extensions\n",
    "- add markdown descriptions from above"
   ]
  },
  {
   "cell_type": "code",
   "execution_count": 33,
   "metadata": {},
   "outputs": [
    {
     "ename": "NameError",
     "evalue": "name 'now' is not defined",
     "output_type": "error",
     "traceback": [
      "\u001b[0;31m---------------------------------------------------------------------------\u001b[0m",
      "\u001b[0;31mNameError\u001b[0m                                 Traceback (most recent call last)",
      "\u001b[0;32m<ipython-input-33-75f6aef2f550>\u001b[0m in \u001b[0;36m<module>\u001b[0;34m\u001b[0m\n\u001b[1;32m     16\u001b[0m \u001b[0;34m\u001b[0m\u001b[0m\n\u001b[1;32m     17\u001b[0m cs = CS.CapabilityStatement(dict(\n\u001b[0;32m---> 18\u001b[0;31m                             \u001b[0mdate\u001b[0m \u001b[0;34m=\u001b[0m \u001b[0mnow\u001b[0m\u001b[0;34m,\u001b[0m\u001b[0;34m\u001b[0m\u001b[0m\n\u001b[0m\u001b[1;32m     19\u001b[0m                             \u001b[0mstatus\u001b[0m \u001b[0;34m=\u001b[0m \u001b[0;34m'active'\u001b[0m\u001b[0;34m,\u001b[0m\u001b[0;34m\u001b[0m\u001b[0m\n\u001b[1;32m     20\u001b[0m                             \u001b[0macceptUnknown\u001b[0m \u001b[0;34m=\u001b[0m \u001b[0;34m'both'\u001b[0m\u001b[0;34m,\u001b[0m\u001b[0;34m\u001b[0m\u001b[0m\n",
      "\u001b[0;31mNameError\u001b[0m: name 'now' is not defined"
     ]
    }
   ],
   "source": [
    "# instantiate new or existing CapStatement:\n",
    "\n",
    "def interaction(code):\n",
    "    return CS.CapabilityStatementRestResourceInteraction({'code' : code})\n",
    "\n",
    "def search_cs(sp):\n",
    "    template = env.get_template(md_template[2])\n",
    "    return CS.CapabilityStatementRestResourceSearchParam(\n",
    "    dict(\n",
    "    name = sp.code,\n",
    "    definition = sp.url,\n",
    "    type = sp.type,\n",
    "    documentation = template.render(sp=sp, search_type=search_type)\n",
    "    )\n",
    "    )\n",
    "\n",
    "cs = CS.CapabilityStatement(dict(\n",
    "                            date = now,\n",
    "                            status = 'active',\n",
    "                            acceptUnknown = 'both',\n",
    "                            format = ['json','xml'],\n",
    "                            fhirVersion = '3.0.1',\n",
    "                            kind = 'requirements'     \n",
    "                            ))\n",
    "\n",
    "\n",
    "\n",
    "cs.rest = [CS.CapabilityStatementRest()]  \n",
    "cs.rest[0].mode = 'server'\n",
    "cs.rest[0].resource = []\n",
    "\n",
    "\n",
    "\n",
    "print(r_list)    \n",
    "for r in r_list:\n",
    "    rest_resource = CS.CapabilityStatementRestResource()\n",
    "    rest_resource.type = r\n",
    "    rest_resource.interaction = [interaction(code) for code in ['read','vread', 'history-instance', 'search-type']]\n",
    "    cs.rest[0].resource.append(rest_resource)\n",
    "    rest_resource.searchParam = [search_cs(sp=sp) for sp in sp_list if sp.base[0] == r]\n",
    "print(dumps(cs.as_json(),indent = 3))\n",
    "    \n",
    "    \n",
    "\n"
   ]
  },
  {
   "cell_type": "markdown",
   "metadata": {},
   "source": [
    "### TODO\n",
    "\n",
    "- Save SearchParameters and CapabilityStatements.\n",
    "- Cycle through the quick starts\n",
    "- Update the CSV files"
   ]
  },
  {
   "cell_type": "code",
   "execution_count": null,
   "metadata": {},
   "outputs": [],
   "source": []
  },
  {
   "cell_type": "code",
   "execution_count": null,
   "metadata": {},
   "outputs": [],
   "source": []
  }
 ],
 "metadata": {
  "kernelspec": {
   "display_name": "Python 3",
   "language": "python",
   "name": "python3"
  },
  "language_info": {
   "codemirror_mode": {
    "name": "ipython",
    "version": 3
   },
   "file_extension": ".py",
   "mimetype": "text/x-python",
   "name": "python",
   "nbconvert_exporter": "python",
   "pygments_lexer": "ipython3",
   "version": "3.6.2"
  }
 },
 "nbformat": 4,
 "nbformat_minor": 2
}
