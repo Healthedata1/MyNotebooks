{
 "cells": [
  {
   "cell_type": "markdown",
   "metadata": {},
   "source": [
    "# Resource Maker\n",
    "\n",
    "- creates resources using fhir.resources library\n",
    "     1. load a skeleton yaml instance of a resource of type r_type\n",
    "     2. create pymodel using costruct method\n",
    "     3. update resource with elements defined elswhere like in a csv file based on:\n",
    "         - element name\n",
    "         - value\n",
    "         \n",
    "*step three is a work in progress*\n"
   ]
  },
  {
   "cell_type": "markdown",
   "metadata": {},
   "source": [
    "### Set the current working directory"
   ]
  },
  {
   "cell_type": "code",
   "execution_count": 1,
   "metadata": {},
   "outputs": [
    {
     "name": "stdout",
     "output_type": "stream",
     "text": [
      "/Users/ehaas/Documents/Python/MyNotebooks/Obs_maker\n"
     ]
    }
   ],
   "source": [
    "%cd '/Users/ehaas/Documents/Python/MyNotebooks/Obs_maker'"
   ]
  },
  {
   "cell_type": "markdown",
   "metadata": {},
   "source": [
    "### Import modules"
   ]
  },
  {
   "cell_type": "code",
   "execution_count": 2,
   "metadata": {},
   "outputs": [],
   "source": [
    "from pathlib import Path\n",
    "from fhir.resources import construct_fhir_element\n",
    "from fhir.resources.fhirabstractmodel import ValidationError\n",
    "from utils import new_dict, update_obj, validate, get_element_type, get_template\n",
    "from datetime import datetime, date, timezone, timedelta"
   ]
  },
  {
   "cell_type": "markdown",
   "metadata": {},
   "source": [
    "### Provide test data\n",
    "\n",
    "get data from csv file instead of cell below\n",
    "\n",
    "(need to start doing unit testing !!!)"
   ]
  },
  {
   "cell_type": "raw",
   "metadata": {},
   "source": [
    "timezone_offset = -8.0  # Pacific Standard Time (UTC−08:00)\n",
    "tzinfo = timezone(timedelta(hours=timezone_offset))\n",
    "f_now = datetime.now(tzinfo)\n",
    "\n",
    "'''class Row:\n",
    "    def __init__(self):\n",
    "        self.device_fhirid = 'Device/123'\n",
    "        self.device_identifier = 'dev456'\n",
    "        self.device_display = 'My Measuring Device'\n",
    "        self.gateway_fhirid = 'Device/789'\n",
    "        self.gateway_identifier = 'gateway2000'\n",
    "        self.gateway_display = 'My Phone App'\n",
    "'''\n",
    "        \n",
    "class Row:\n",
    "    def __init__(self):\n",
    "        self.author_fhirid = \"Practitioner/practitioner-1\"\n",
    "        self.author_identifier = 'practitioner-1'\n",
    "        self.author_display = 'Dr Able'\n",
    "        self.onBehalfOf_fhirid = \"Organization/organization-1\"\n",
    "        self.onBehalfOf_identifier = 'organization-1'\n",
    "        self.onBehalfOf_display = 'Health eClinic Inc'\n",
    "        self.transmitter_fhirid =  None\n",
    "        self.transmitter_identifier = None\n",
    "        self.transmitter_display =  None \n",
    "        self.target_fhirid = None\n",
    "        self.target_identifier = '19000100T000000-2'\n",
    "        self.target_display = 'my_patient_app'\n",
    "        \n",
    "        \n",
    "row = Row()\n",
    "\n",
    "row.transmitter_fhirid, f_now"
   ]
  },
  {
   "cell_type": "code",
   "execution_count": 3,
   "metadata": {},
   "outputs": [
    {
     "ename": "NameError",
     "evalue": "name 'row' is not defined",
     "output_type": "error",
     "traceback": [
      "\u001b[0;31m---------------------------------------------------------------------------\u001b[0m",
      "\u001b[0;31mNameError\u001b[0m                                 Traceback (most recent call last)",
      "\u001b[0;32m<ipython-input-3-1a738e56b275>\u001b[0m in \u001b[0;36m<module>\u001b[0;34m\u001b[0m\n\u001b[0;32m----> 1\u001b[0;31m \u001b[0mprint\u001b[0m\u001b[0;34m(\u001b[0m\u001b[0;34mf\"===================================MY DATA:====================================\\n {row}\\n=============================================================================\"\u001b[0m\u001b[0;34m)\u001b[0m\u001b[0;34m\u001b[0m\u001b[0;34m\u001b[0m\u001b[0m\n\u001b[0m",
      "\u001b[0;31mNameError\u001b[0m: name 'row' is not defined"
     ]
    }
   ],
   "source": [
    "print(f\"===================================MY DATA:====================================\\n {row}\\n=============================================================================\")"
   ]
  },
  {
   "cell_type": "code",
   "execution_count": null,
   "metadata": {},
   "outputs": [],
   "source": [
    "extensions = {'instance_name': 'http://hl7.org/fhir/StructureDefinition/instance-name',\n",
    " 'instance_description': 'http://hl7.org/fhir/StructureDefinition/instance-description'\n",
    "             }"
   ]
  },
  {
   "cell_type": "markdown",
   "metadata": {},
   "source": [
    "### Get skeleton resource to create resource model\n",
    "\n",
    "this is a short cut to get started instead of building from the ground up."
   ]
  },
  {
   "cell_type": "code",
   "execution_count": null,
   "metadata": {},
   "outputs": [],
   "source": [
    "r_obj = get_template(\"Provenance\")\n",
    "print(r_obj.yaml())\n",
    "print('-'*80)"
   ]
  },
  {
   "cell_type": "markdown",
   "metadata": {},
   "source": [
    "### Add meta extensions"
   ]
  },
  {
   "cell_type": "code",
   "execution_count": null,
   "metadata": {},
   "outputs": [],
   "source": [
    "extensions = {'instance_name': 'http://hl7.org/fhir/StructureDefinition/instance-name',\n",
    " 'instance_description': 'http://hl7.org/fhir/StructureDefinition/instance-description'\n",
    "             }\n",
    "\n",
    "element = 'extension'\n",
    "for k,v in extensions.items():\n",
    "    value_x = 'valueString' if k == 'instance_name' else 'valueMarkdown'\n",
    "    element_dict = new_dict(\n",
    "                url = v,\n",
    "                valueString = getattr(row,k) \n",
    "                )\n",
    "    if k == 'instance_description' :\n",
    "        element_dict['valueMarkdown'] = element_dict.pop('valueString') \n",
    "    update_obj(element,element_dict,r_obj)\n",
    "    print(r_obj.yaml())\n",
    "    print('-'*80)"
   ]
  },
  {
   "cell_type": "markdown",
   "metadata": {},
   "source": [
    "### update the effective data"
   ]
  },
  {
   "cell_type": "code",
   "execution_count": null,
   "metadata": {},
   "outputs": [],
   "source": [
    "r_obj.recorded = row.recorded\n",
    "print(r_obj.yaml())\n",
    "print('-'*80)"
   ]
  },
  {
   "cell_type": "markdown",
   "metadata": {},
   "source": [
    "### Add the target"
   ]
  },
  {
   "cell_type": "code",
   "execution_count": null,
   "metadata": {},
   "outputs": [],
   "source": [
    "element = 'target'\n",
    "element_dict = new_dict(\n",
    "            reference = row.target_fhirid,\n",
    "            identifier = new_dict(value = row.target_identifier),  # business identifier\n",
    "            display = row.target_display,\n",
    "            )\n",
    "update_obj(element,element_dict,r_obj,replace=True)\n",
    "print(r_obj.yaml())\n",
    "print('-'*80)"
   ]
  },
  {
   "cell_type": "markdown",
   "metadata": {},
   "source": [
    "### Add the Author"
   ]
  },
  {
   "cell_type": "code",
   "execution_count": null,
   "metadata": {},
   "outputs": [],
   "source": [
    "element = 'who'\n",
    "element_dict = new_dict(\n",
    "            reference = row.author_fhirid,\n",
    "            identifier = new_dict(value = row.author_identifier, system = row.author_identifier_system ),  # business identifier\n",
    "            display = row.author_display,\n",
    "            )\n",
    "print(element_dict)\n",
    "update_obj(element,element_dict,r_obj.agent[0])\n",
    "print(r_obj.yaml())\n",
    "print('-'*80)"
   ]
  },
  {
   "cell_type": "markdown",
   "metadata": {},
   "source": [
    "### Add the onBehalfOf"
   ]
  },
  {
   "cell_type": "code",
   "execution_count": null,
   "metadata": {},
   "outputs": [],
   "source": [
    "element = 'onBehalfOf'\n",
    "try:\n",
    "    element_dict = new_dict(\n",
    "                reference = row.onbehalfof_fhirid,\n",
    "                identifier = new_dict(value = row.onbehalfof_identifier, system = row.onbehalfof_identifier_system),  # business identifier\n",
    "                display = row.onbehalfof_display,\n",
    "                )\n",
    "except AttributeError as e:\n",
    "    print(e)\n",
    "else:\n",
    "    update_obj(element,element_dict,r_obj.agent[0])\n",
    "    print(r_obj.yaml())\n",
    "    print('-'*80)"
   ]
  },
  {
   "cell_type": "markdown",
   "metadata": {},
   "source": [
    "### Add the gateway as transmitter\n",
    "\n",
    "use transmitter for now and consider other types later"
   ]
  },
  {
   "cell_type": "code",
   "execution_count": null,
   "metadata": {},
   "outputs": [],
   "source": [
    "element = 'agent'\n",
    "agent_type_system = \"http://hl7.org/fhir/us/core/CodeSystem/us-core-provenance-participant-type\"\n",
    "agent_type_code = \"transmitter\"\n",
    "agent_type_display = \"Transmitter\"\n",
    "\n",
    "who_dict = new_dict(\n",
    "            reference = row.transmitter_fhirid,\n",
    "            identifier = new_dict(value = row.transmitter_identifier),  # business identifier\n",
    "            display = row.transmitter_display,\n",
    "            )\n",
    "\n",
    "coding_dict = new_dict(\n",
    "            system = agent_type_system,\n",
    "            code = agent_type_code,\n",
    "            display = agent_type_display,\n",
    "            )\n",
    "\n",
    "element_dict =  new_dict(\n",
    "      type = new_dict(coding = [coding_dict],\n",
    "             text='Transmitter'),\n",
    "      who = who_dict,\n",
    "    )\n",
    "\n",
    "try:\n",
    "    update_obj(element,element_dict,r_obj)\n",
    "except ValidationError as e:\n",
    "    print(e)\n",
    "print('-'*80)\n",
    "print(r_obj.yaml())\n",
    "print('-'*80)"
   ]
  },
  {
   "cell_type": "markdown",
   "metadata": {},
   "source": [
    "### Validate"
   ]
  },
  {
   "cell_type": "code",
   "execution_count": null,
   "metadata": {},
   "outputs": [],
   "source": [
    "validate(r_obj)"
   ]
  },
  {
   "cell_type": "markdown",
   "metadata": {},
   "source": [
    "### Save Locally"
   ]
  },
  {
   "cell_type": "code",
   "execution_count": null,
   "metadata": {},
   "outputs": [],
   "source": [
    "ig_source_path = f'examples/{row.r_type}'\n",
    "path = Path.cwd() / ig_source_path / f'example.yaml' \n",
    "print(f'...........saving to file {path}............')\n",
    "path.write_text(r_obj.yaml())"
   ]
  },
  {
   "cell_type": "markdown",
   "metadata": {},
   "source": [
    "Testing implicitly building resource based upon the labels:\n",
    "    \n",
    "    maybe use a template with nones and scrub the null values."
   ]
  },
  {
   "cell_type": "raw",
   "metadata": {},
   "source": [
    "for i,value in enumerate(row):\n",
    "    label = row.index[i]\n",
    "    print(label)\n",
    "    if label == 'r_type':\n",
    "        r_obj = get_template(value)\n",
    "        types = [(i.type_,i.name) for i in r_obj.element_properties()]\n",
    "        for i in types:\n",
    "            try: \n",
    "                print(i[1], i[0].__resource_type__)\n",
    "            except AttributeError as e:\n",
    "                print(i[1], e)\n",
    "    elif label in extensions.keys():\n",
    "        element_dict = new_dict(\n",
    "                    valueString = value,\n",
    "                    url = extensions[label],\n",
    "                    )\n",
    "        if not r_obj.meta:\n",
    "            r_obj.meta={}\n",
    "        update_obj('extension',element_dict,resource = r_obj.meta)\n",
    "    else: \n",
    "        element  = label.split('_')[0]\n",
    "        print(element)\n",
    "        element_type = get_element_type(r_obj,label)\n",
    "        print(element_type)"
   ]
  }
 ],
 "metadata": {
  "kernelspec": {
   "display_name": "Python 3.7.3 64-bit ('venv37': venv)",
   "language": "python",
   "name": "python37364bitvenv37venv2b400d68decb43d5b2206c004a019450"
  },
  "language_info": {
   "codemirror_mode": {
    "name": "ipython",
    "version": 3
   },
   "file_extension": ".py",
   "mimetype": "text/x-python",
   "name": "python",
   "nbconvert_exporter": "python",
   "pygments_lexer": "ipython3",
   "version": "3.7.3"
  }
 },
 "nbformat": 4,
 "nbformat_minor": 4
}
