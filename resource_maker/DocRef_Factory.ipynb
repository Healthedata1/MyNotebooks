{
 "cells": [
  {
   "cell_type": "markdown",
   "metadata": {},
   "source": [
    "# DocumentReference factory\n",
    "\n",
    "create a bunch of DopcumentReference objects from a csv file and save them to a folder and create Bundle objects from the conditions and save them to a folder\n",
    "\n",
    "1. Load DocumentReference Template\n",
    "2. get csv in form\n",
    "\n",
    "|DocumentReference #|_id|_datetime|_code|_file|\n",
    "|---|---|---|---|---|\n",
    "|Foo|foo|2023-08-21T20:16:25.019Z|12345678|Examplitis|\n",
    "\n",
    "4. Convert csv to DataFrame\n",
    "<!-- 2. Create a transaction Bundle\n",
    "1. Load Patient into Bundle\n",
    "2. Load the data row into the DocumentReference template\n",
    "3. Add to the Bundler -->\n",
    "5. Create DocumentReference Instance\n",
    "5. Validate "
   ]
  },
  {
   "cell_type": "markdown",
   "metadata": {},
   "source": [
    "### Define Globals and Imports"
   ]
  },
  {
   "cell_type": "code",
   "execution_count": 21,
   "metadata": {},
   "outputs": [
    {
     "name": "stdout",
     "output_type": "stream",
     "text": [
      "/Users/ehaas/Documents/Python/Jupyter/MyNotebooks/resource_maker/source_data/docref.csv\n",
      "/Users/ehaas/Documents/Python/Jupyter/MyNotebooks/resource_maker/examples\n",
      "2023-08-23T19:06:42.450492-07:00\n"
     ]
    }
   ],
   "source": [
    "from hashlib import sha1\n",
    "import base64\n",
    "from pathlib import Path\n",
    "from IPython.display import display, Markdown as md, HTML\n",
    "from yaml import load as y_load, dump as y_dump, FullLoader\n",
    "from fhir.resources.documentreference import DocumentReference\n",
    "from json import dumps, loads\n",
    "import pandas as pd\n",
    "from requests import get, post\n",
    "from datetime import datetime\n",
    "from dateutil import tz\n",
    "\n",
    "in_path = Path.cwd() / 'source_data' /'docref.csv'\n",
    "out_path = Path.cwd() /'examples'\n",
    "print(in_path)\n",
    "print(out_path)\n",
    "# _system = 'http://snomed.info/sct'\n",
    "_system = 'http://loinc.org'\n",
    "fhir_test_server = 'https://r4.ontoserver.csiro.au/fhir'\n",
    "\n",
    "_now = datetime.now(tz=tz.tzlocal()).isoformat()\n",
    "print(_now)\n",
    "\n",
    "headers = {\n",
    "'Accept':'application/fhir+json',\n",
    "'Content-Type':'application/fhir+json',\n",
    "}\n",
    "# profile = 'http://hl7.org/fhir/us/core/StructureDefinition/us-core-documentreference' # The official URL for this profile is: http://hl7.org/fhir/us/core/StructureDefinition/us-core-patient\n"
   ]
  },
  {
   "cell_type": "code",
   "execution_count": 22,
   "metadata": {},
   "outputs": [],
   "source": [
    "# my_path = Path(r\"/Users/ehaas/Documents/FHIR/SAIG/input/images/PatientHealthQuestionnaire-2_v1.0_2014Jul2.pdf\")\n",
    "# my_path = Path(r\"/Users/ehaas/Documents/FHIR/SAIG/input/images/AHCM-HealthSocialNeedsScreeningTool-rev-8_10_2021.pdf\")\n",
    "# my_path = Path(r\"/Users/ehaas/Documents/FHIR/SAIG/input/images/Example3PRAPARE-English.pdf\")"
   ]
  },
  {
   "cell_type": "markdown",
   "metadata": {},
   "source": [
    "### Load Docref Template"
   ]
  },
  {
   "cell_type": "code",
   "execution_count": 23,
   "metadata": {},
   "outputs": [
    {
     "data": {
      "text/plain": [
       "'docref'"
      ]
     },
     "execution_count": 23,
     "metadata": {},
     "output_type": "execute_result"
    }
   ],
   "source": [
    "# title ='Example3PRAPAREQuestionnaire' #'Example2AHN-HRSNQuestionnaire' #'Example1PHQ-2Questionnaire'\n",
    "docref  = DocumentReference.parse_file('/Users/ehaas/Documents/Python/Jupyter/MyNotebooks/QR-OBs-DE/docref.yml')\n",
    "docref.id"
   ]
  },
  {
   "cell_type": "markdown",
   "metadata": {},
   "source": [
    "###  Get CSV File ( hard coded for now) and Convert to DF"
   ]
  },
  {
   "cell_type": "code",
   "execution_count": 24,
   "metadata": {},
   "outputs": [
    {
     "data": {
      "text/html": [
       "<div>\n",
       "<style scoped>\n",
       "    .dataframe tbody tr th:only-of-type {\n",
       "        vertical-align: middle;\n",
       "    }\n",
       "\n",
       "    .dataframe tbody tr th {\n",
       "        vertical-align: top;\n",
       "    }\n",
       "\n",
       "    .dataframe thead th {\n",
       "        text-align: right;\n",
       "    }\n",
       "</style>\n",
       "<table border=\"1\" class=\"dataframe\">\n",
       "  <thead>\n",
       "    <tr style=\"text-align: right;\">\n",
       "      <th></th>\n",
       "      <th>_title</th>\n",
       "      <th>_id</th>\n",
       "      <th>_datetime</th>\n",
       "      <th>_code</th>\n",
       "      <th>_file</th>\n",
       "    </tr>\n",
       "  </thead>\n",
       "  <tbody>\n",
       "    <tr>\n",
       "      <th>0</th>\n",
       "      <td>Progress Note</td>\n",
       "      <td>progress-note</td>\n",
       "      <td>2023-08-21T20:16:25.019Z</td>\n",
       "      <td>11506-3</td>\n",
       "      <td>/Users/ehaas/Downloads/progress-note.pdf</td>\n",
       "    </tr>\n",
       "    <tr>\n",
       "      <th>1</th>\n",
       "      <td>Imaging Study</td>\n",
       "      <td>imaging-study</td>\n",
       "      <td>2021-01-21</td>\n",
       "      <td>18748-4</td>\n",
       "      <td>/Users/ehaas/Downloads/imaging-study.pdf</td>\n",
       "    </tr>\n",
       "    <tr>\n",
       "      <th>2</th>\n",
       "      <td>Surgical Note</td>\n",
       "      <td>surgical-note</td>\n",
       "      <td>2018-02-02</td>\n",
       "      <td>11504-8</td>\n",
       "      <td>/Users/ehaas/Downloads/surgical-note.pdf</td>\n",
       "    </tr>\n",
       "    <tr>\n",
       "      <th>3</th>\n",
       "      <td>CCD</td>\n",
       "      <td>ccd</td>\n",
       "      <td>2023-08-22</td>\n",
       "      <td>34133-9</td>\n",
       "      <td>/Users/ehaas/Downloads/example-1-ccd.xml</td>\n",
       "    </tr>\n",
       "  </tbody>\n",
       "</table>\n",
       "</div>"
      ],
      "text/plain": [
       "          _title            _id                 _datetime    _code  \\\n",
       "0  Progress Note  progress-note  2023-08-21T20:16:25.019Z  11506-3   \n",
       "1  Imaging Study  imaging-study                2021-01-21  18748-4   \n",
       "2  Surgical Note  surgical-note                2018-02-02  11504-8   \n",
       "3            CCD            ccd                2023-08-22  34133-9   \n",
       "\n",
       "                                      _file  \n",
       "0  /Users/ehaas/Downloads/progress-note.pdf  \n",
       "1  /Users/ehaas/Downloads/imaging-study.pdf  \n",
       "2  /Users/ehaas/Downloads/surgical-note.pdf  \n",
       "3  /Users/ehaas/Downloads/example-1-ccd.xml  "
      ]
     },
     "execution_count": 24,
     "metadata": {},
     "output_type": "execute_result"
    }
   ],
   "source": [
    "from io import StringIO  # for hardcoded csv only\n",
    "my_csv = '''_title,_id,_datetime,_code,_file\n",
    "\n",
    "Progress Note,progress-note,2023-08-21T20:16:25.019Z,11506-3,/Users/ehaas/Downloads/progress-note.pdf\n",
    "Imaging Study,imaging-study,2021-01-21,18748-4,/Users/ehaas/Downloads/imaging-study.pdf\n",
    "Surgical Note,surgical-note,2018-02-02,11504-8,/Users/ehaas/Downloads/surgical-note.pdf\n",
    "CCD,ccd,2023-08-22,34133-9,/Users/ehaas/Downloads/example-1-ccd.xml\n",
    "'''\n",
    "\n",
    "df = pd.read_csv(StringIO(my_csv), sep=\",\", dtype='str')\n",
    "\n",
    "df"
   ]
  },
  {
   "cell_type": "markdown",
   "metadata": {},
   "source": [
    "### Create Condition Instance\n",
    "\n",
    "1. Get Data Element row by row from DF"
   ]
  },
  {
   "cell_type": "code",
   "execution_count": 25,
   "metadata": {},
   "outputs": [],
   "source": [
    "def get_display(_system,_code,_version=None):\n",
    "    \"\"\"for example Looking up a code/system\n",
    "       GET [base]/CodeSystem/$lookup?system=http://loinc.org&code=1963-8\n",
    "    \"\"\"\n",
    "    params = dict(\n",
    "       system = _system,\n",
    "      # system = 'http://loinc.org',\n",
    "      code = _code,\n",
    "      # code = '1963-8'\n",
    "        )\n",
    "    r = get(f'{fhir_test_server}/CodeSystem/$lookup', params = params, headers = headers)\n",
    "    print(r.status_code, r.reason)\n",
    "    print(r.json())\n",
    "    if r.status_code != 200:\n",
    "        return 'examplitis'\n",
    "    else:\n",
    "      return r.json()['parameter'][1]['valueString']"
   ]
  },
  {
   "cell_type": "code",
   "execution_count": 26,
   "metadata": {},
   "outputs": [],
   "source": [
    "def get_binary(file_path):\n",
    "    \"\"\"get binary from file path\"\"\"\n",
    "    with open(file_path, 'rb') as f:\n",
    "        binary = base64.b64encode(f.read()).decode('utf-8')\n",
    "    return binary"
   ]
  },
  {
   "cell_type": "code",
   "execution_count": 27,
   "metadata": {},
   "outputs": [
    {
     "name": "stdout",
     "output_type": "stream",
     "text": [
      "200 OK\n",
      "{'resourceType': 'Parameters', 'parameter': [{'name': 'code', 'valueCode': '11506-3'}, {'name': 'display', 'valueString': 'Progress note'}, {'name': 'name', 'valueString': 'LOINC v2.74'}, {'name': 'system', 'valueUri': 'http://loinc.org'}, {'name': 'version', 'valueString': '2.74'}, {'name': 'property', 'part': [{'name': 'code', 'valueCode': 'parent'}, {'name': 'value', 'valueCode': 'LP416685-8'}]}, {'name': 'property', 'part': [{'name': 'code', 'valueCode': 'inactive'}, {'name': 'value', 'valueBoolean': False}, {'name': 'valueBoolean', 'valueBoolean': False}]}, {'name': 'designation', 'part': [{'name': 'language', 'valueCode': 'es-MX'}, {'name': 'use', 'valueCoding': {'system': 'http://terminology.hl7.org/CodeSystem/hl7TermMaintInfra', 'code': 'preferredForLanguage', 'display': 'Preferred For Language'}}, {'name': 'value', 'valueString': 'Nota de progreso:{Configuración} :Punto temporal:Tipo:Documento:{Role}'}]}, {'name': 'designation', 'part': [{'name': 'language', 'valueCode': 'en'}, {'name': 'use', 'valueCoding': {'system': 'http://snomed.info/sct', 'code': '900000000000013009', 'display': 'Synonym'}}, {'name': 'value', 'valueString': 'Prog note'}]}, {'name': 'designation', 'part': [{'name': 'language', 'valueCode': 'en'}, {'name': 'use', 'valueCoding': {'system': 'http://terminology.hl7.org/CodeSystem/designation-usage', 'code': 'display'}}, {'name': 'value', 'valueString': 'Progress note'}]}, {'name': 'designation', 'part': [{'name': 'language', 'valueCode': 'en'}, {'name': 'use', 'valueCoding': {'system': 'http://snomed.info/sct', 'code': '900000000000003001', 'display': 'Fully specified name'}}, {'name': 'value', 'valueString': 'Progress note:Find:Pt:{Setting}:Doc:{Role}'}]}]}\n",
      "200 OK\n",
      "{'resourceType': 'Parameters', 'parameter': [{'name': 'code', 'valueCode': '18748-4'}, {'name': 'display', 'valueString': 'Diagnostic imaging study'}, {'name': 'name', 'valueString': 'LOINC v2.74'}, {'name': 'system', 'valueUri': 'http://loinc.org'}, {'name': 'version', 'valueString': '2.74'}, {'name': 'property', 'part': [{'name': 'code', 'valueCode': 'parent'}, {'name': 'value', 'valueCode': 'LP248771-0'}]}, {'name': 'property', 'part': [{'name': 'code', 'valueCode': 'inactive'}, {'name': 'value', 'valueBoolean': False}, {'name': 'valueBoolean', 'valueBoolean': False}]}, {'name': 'designation', 'part': [{'name': 'language', 'valueCode': 'en'}, {'name': 'use', 'valueCoding': {'system': 'http://snomed.info/sct', 'code': '900000000000003001', 'display': 'Fully specified name'}}, {'name': 'value', 'valueString': 'Diagnostic Imaging study:Find:Pt:^Patient:Doc:Diagnostic imaging'}]}, {'name': 'designation', 'part': [{'name': 'language', 'valueCode': 'en'}, {'name': 'use', 'valueCoding': {'system': 'http://snomed.info/sct', 'code': '900000000000013009', 'display': 'Synonym'}}, {'name': 'value', 'valueString': 'Diagnostic imaging study'}]}, {'name': 'designation', 'part': [{'name': 'language', 'valueCode': 'en'}, {'name': 'use', 'valueCoding': {'system': 'http://terminology.hl7.org/CodeSystem/designation-usage', 'code': 'display'}}, {'name': 'value', 'valueString': 'Diagnostic imaging study'}]}, {'name': 'designation', 'part': [{'name': 'language', 'valueCode': 'de-DE'}, {'name': 'use', 'valueCoding': {'system': 'http://terminology.hl7.org/CodeSystem/hl7TermMaintInfra', 'code': 'preferredForLanguage', 'display': 'Preferred For Language'}}, {'name': 'value', 'valueString': 'Diagnostische Bildgebung - Untersuchung'}]}, {'name': 'designation', 'part': [{'name': 'language', 'valueCode': 'es-MX'}, {'name': 'use', 'valueCoding': {'system': 'http://terminology.hl7.org/CodeSystem/hl7TermMaintInfra', 'code': 'preferredForLanguage', 'display': 'Preferred For Language'}}, {'name': 'value', 'valueString': 'Informe de estudio:No especificado :Punto temporal:Tipo:Documento:Diagnostic imaging'}]}]}\n",
      "200 OK\n",
      "{'resourceType': 'Parameters', 'parameter': [{'name': 'code', 'valueCode': '11504-8'}, {'name': 'display', 'valueString': 'Surgical operation note'}, {'name': 'name', 'valueString': 'LOINC v2.74'}, {'name': 'system', 'valueUri': 'http://loinc.org'}, {'name': 'version', 'valueString': '2.74'}, {'name': 'property', 'part': [{'name': 'code', 'valueCode': 'parent'}, {'name': 'value', 'valueCode': 'LP416696-5'}]}, {'name': 'property', 'part': [{'name': 'code', 'valueCode': 'inactive'}, {'name': 'value', 'valueBoolean': False}, {'name': 'valueBoolean', 'valueBoolean': False}]}, {'name': 'designation', 'part': [{'name': 'language', 'valueCode': 'es-MX'}, {'name': 'use', 'valueCoding': {'system': 'http://terminology.hl7.org/CodeSystem/hl7TermMaintInfra', 'code': 'preferredForLanguage', 'display': 'Preferred For Language'}}, {'name': 'value', 'valueString': 'Nota de operación quirúrgica:{Configuración} :Punto temporal:Tipo:Documento:{Role}'}]}, {'name': 'designation', 'part': [{'name': 'language', 'valueCode': 'en'}, {'name': 'use', 'valueCoding': {'system': 'http://snomed.info/sct', 'code': '900000000000013009', 'display': 'Synonym'}}, {'name': 'value', 'valueString': 'Operative note'}]}, {'name': 'designation', 'part': [{'name': 'language', 'valueCode': 'en'}, {'name': 'use', 'valueCoding': {'system': 'http://terminology.hl7.org/CodeSystem/designation-usage', 'code': 'display'}}, {'name': 'value', 'valueString': 'Surgical operation note'}]}, {'name': 'designation', 'part': [{'name': 'language', 'valueCode': 'en'}, {'name': 'use', 'valueCoding': {'system': 'http://snomed.info/sct', 'code': '900000000000003001', 'display': 'Fully specified name'}}, {'name': 'value', 'valueString': 'Surgical operation note:Find:Pt:{Setting}:Doc:{Role}'}]}]}\n",
      "200 OK\n",
      "{'resourceType': 'Parameters', 'parameter': [{'name': 'code', 'valueCode': '34133-9'}, {'name': 'display', 'valueString': 'Summary of episode note'}, {'name': 'name', 'valueString': 'LOINC v2.74'}, {'name': 'system', 'valueUri': 'http://loinc.org'}, {'name': 'version', 'valueString': '2.74'}, {'name': 'property', 'part': [{'name': 'code', 'valueCode': 'parent'}, {'name': 'value', 'valueCode': 'LP416725-2'}]}, {'name': 'property', 'part': [{'name': 'code', 'valueCode': 'inactive'}, {'name': 'value', 'valueBoolean': False}, {'name': 'valueBoolean', 'valueBoolean': False}]}, {'name': 'designation', 'part': [{'name': 'language', 'valueCode': 'es-MX'}, {'name': 'use', 'valueCoding': {'system': 'http://terminology.hl7.org/CodeSystem/hl7TermMaintInfra', 'code': 'preferredForLanguage', 'display': 'Preferred For Language'}}, {'name': 'value', 'valueString': 'Resumen de la nota del episodio:{Configuración} :Punto temporal:Tipo:Documento:{Role}'}]}, {'name': 'designation', 'part': [{'name': 'language', 'valueCode': 'en'}, {'name': 'use', 'valueCoding': {'system': 'http://terminology.hl7.org/CodeSystem/designation-usage', 'code': 'display'}}, {'name': 'value', 'valueString': 'Summary of episode note'}]}, {'name': 'designation', 'part': [{'name': 'language', 'valueCode': 'en'}, {'name': 'use', 'valueCoding': {'system': 'http://snomed.info/sct', 'code': '900000000000013009', 'display': 'Synonym'}}, {'name': 'value', 'valueString': 'Summary of episode note'}]}, {'name': 'designation', 'part': [{'name': 'language', 'valueCode': 'en'}, {'name': 'use', 'valueCoding': {'system': 'http://snomed.info/sct', 'code': '900000000000003001', 'display': 'Fully specified name'}}, {'name': 'value', 'valueString': 'Summary of episode note:Find:Pt:{Setting}:Doc:{Role}'}]}, {'name': 'designation', 'part': [{'name': 'language', 'valueCode': 'de-DE'}, {'name': 'use', 'valueCoding': {'system': 'http://terminology.hl7.org/CodeSystem/hl7TermMaintInfra', 'code': 'preferredForLanguage', 'display': 'Preferred For Language'}}, {'name': 'value', 'valueString': 'Zusammenfassung der Behandlungsepisode - Notiz'}]}]}\n"
     ]
    }
   ],
   "source": [
    "for i in range(len(df)):\n",
    "    # print(i, df.iloc[i])\n",
    "    docref.meta.extension = None  #remove title and description\n",
    "    # docref.meta.extension[0].valueString = f'DocRef {title}'\n",
    "    # docref.meta.extension[1].valueMarkdown = f'This is a an example of {title}  \\\n",
    "    # for the *US Core DocumentReference Profile*'\n",
    "    _title,_id,_datetime,_code,_file = df.iloc[i]\n",
    "    _display = get_display(_system,_code)\n",
    "    docref.id = _id\n",
    "    docref.date = _now\n",
    "    docref.type.coding[0].code = _code\n",
    "    docref.type.coding[0].display = _display\n",
    "    docref.type.text = _display.title()\n",
    "    docref.content[0].attachment.title = _title\n",
    "    docref.content[0].attachment.contentType = \"application/pdf\" if _file.endswith('pdf') else \"text/xml\"\n",
    "    docref.content[0].attachment.creation = _datetime\n",
    "    docref.content[0].attachment.data = get_binary(_file)\n",
    "    docref.content[0].attachment.creation = _datetime\n",
    "    out_file = out_path / f'DocumentReference-{_title}.json'\n",
    "    out_file.write_text(docref.json(indent=2))"
   ]
  }
 ],
 "metadata": {
  "kernelspec": {
   "display_name": "jupyter",
   "language": "python",
   "name": "python3"
  },
  "language_info": {
   "codemirror_mode": {
    "name": "ipython",
    "version": 3
   },
   "file_extension": ".py",
   "mimetype": "text/x-python",
   "name": "python",
   "nbconvert_exporter": "python",
   "pygments_lexer": "ipython3",
   "version": "3.10.2"
  },
  "orig_nbformat": 4,
  "vscode": {
   "interpreter": {
    "hash": "18672f2fb81dcbb023a0ac48a86c775a19488782369d96ffbd3382a22fd285cf"
   }
  }
 },
 "nbformat": 4,
 "nbformat_minor": 2
}
