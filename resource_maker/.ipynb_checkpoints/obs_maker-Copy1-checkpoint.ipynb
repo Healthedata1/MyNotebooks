{
 "cells": [
  {
   "cell_type": "markdown",
   "metadata": {},
   "source": [
    "## Observation Maker from QR\n",
    "\n",
    "1.  Enter source data in QR file to simulate patient generated  observations\n",
    "\n",
    "\n",
    "Patient use existing US Core patient:\n",
    "\n",
    "- Add example name and description\n",
    "- Validate\n",
    "- Save"
   ]
  },
  {
   "cell_type": "code",
   "execution_count": 28,
   "metadata": {},
   "outputs": [
    {
     "name": "stdout",
     "output_type": "stream",
     "text": [
      "/Users/ehaas/Documents/Python/MyNotebooks/Obs_maker\n"
     ]
    }
   ],
   "source": [
    "%cd '/Users/ehaas/Documents/Python/MyNotebooks/Obs_maker'"
   ]
  },
  {
   "cell_type": "code",
   "execution_count": 29,
   "metadata": {},
   "outputs": [],
   "source": [
    "from fhir.resources.observation import Observation\n",
    "from fhir.resources.questionnaireresponse import QuestionnaireResponse\n",
    "from fhir.resources import construct_fhir_element\n",
    "\n",
    "from datetime import datetime, date, timezone, timedelta\n",
    "timezone_offset = -8.0  # Pacific Standard Time (UTC−08:00)\n",
    "tzinfo = timezone(timedelta(hours=timezone_offset))\n",
    "f_now = datetime.now(tzinfo)\n",
    "from stringcase import snakecase, titlecase, spinalcase\n",
    "\n",
    "\n",
    "none_list = [None,{}]"
   ]
  },
  {
   "cell_type": "markdown",
   "metadata": {},
   "source": [
    "###  Import completed QR YAML file"
   ]
  },
  {
   "cell_type": "code",
   "execution_count": 30,
   "metadata": {},
   "outputs": [
    {
     "name": "stdout",
     "output_type": "stream",
     "text": [
      "resourceType: QuestionnaireResponse\n",
      "id: '5770422'\n",
      "meta:\n",
      "  versionId: '1'\n",
      "  lastUpdated: 2021-11-09 23:37:48-05:00\n",
      "  source: '#w5yZwMfpEcrTjhfg'\n",
      "  profile:\n",
      "  - http://hl7.org/fhir/uv/sdc/StructureDefinition/sdc-questionnaireresponse|2.7\n",
      "  tag:\n",
      "  - code: 'lformsVersion: 29.1.0'\n",
      "questionnaire: Questionnaire/5770419\n",
      "status: completed\n",
      "subject:\n",
      "  reference: Patient/pat-10044\n",
      "  display: LLOYD ABBOUD\n",
      "authored: 2021-11-10 04:37:44.830000+00:00\n",
      "item:\n",
      "- linkId: /44974-4\n",
      "  text: Pulse intensity Palpation\n",
      "  answer:\n",
      "  - valueCoding:\n",
      "      code: LA11841-6\n",
      "      display: 1+\n",
      "- linkId: /44963-7\n",
      "  text: Capillary refill Time Nail Bed\n",
      "  answer:\n",
      "  - valueDecimal: 1.0\n",
      "- linkId: /8601-7\n",
      "  text: EKG impression\n",
      "  answer:\n",
      "  - valueString: Normal Sinus Rhythm (NSR)\n",
      "- linkId: /44967-8\n",
      "  text: EKG lead\n",
      "  answer:\n",
      "  - valueString: II\n",
      "- linkId: /8884-9\n",
      "  text: Heart rate rhythm\n",
      "  answer:\n",
      "  - valueString: Regular (R)\n",
      "- linkId: /69428-1\n",
      "  text: Jugular vein distension\n",
      "  answer:\n",
      "  - valueCoding:\n",
      "      code: LA9634-2\n",
      "      display: Absent\n",
      "- linkId: /44976-9\n",
      "  text: P-R interval {EKG lead}\n",
      "  answer:\n",
      "  - valueDecimal: 0.2\n",
      "- linkId: /44973-6\n",
      "  text: QRS dur {EKG lead}\n",
      "  answer:\n",
      "  - valueDecimal: 60.0\n",
      "- linkId: /44975-1\n",
      "  text: Q-T interval {EKG lead}\n",
      "  answer:\n",
      "  - valueDecimal: 0.4\n",
      "\n"
     ]
    }
   ],
   "source": [
    "qr_obj = QuestionnaireResponse.parse_file(\"source_data/cardio_qr.yml\")#\"Observation_wt.yml\")\n",
    "print(qr_obj.yaml())"
   ]
  },
  {
   "cell_type": "markdown",
   "metadata": {},
   "source": [
    "###  Import from YAML file Observation template\n",
    "\n",
    "for now fixed:\n",
    "\n",
    "- patient\n",
    "- code\n",
    "- category\n",
    "- status\n",
    "- valueQuantiry units, code"
   ]
  },
  {
   "cell_type": "code",
   "execution_count": null,
   "metadata": {},
   "outputs": [],
   "source": [
    "obs_obj = Observation.parse_file(\"fhir_templates/Obs_clintest.yml\")#\"Observation_wt.yml\")\n",
    "#print(obs_obj.yaml())\n",
    "\n",
    "def kebab(s):\n",
    "    '''\n",
    "    change to kebab case\n",
    "    '''\n",
    "    s=s.replace('(','').replace(')','').replace('{','').replace('}','')\n",
    "    s_list = s.lower().split()\n",
    "    s = '-'.join(s_list)\n",
    "    return(s)\n",
    "\n",
    "for i in qr_obj.item:\n",
    "    print((i.text), kebab(i.text))\n",
    "    obs_obj.id = kebab(i.text)\n",
    "    obs_obj.effectiveDateTime = f_now\n",
    "    obs_obj.meta.extension[0].valueString = f'{i.text} Example'\n",
    "    obs_obj.meta.extension[1].valueMarkdown = f'This is a {i.text} Example for the *Clinical Test Result Observation Profile*.'\n",
    "    cat = input(f\"What category is {i.text}?  exam|procedure|activity?\")\n",
    "    obs_obj.category[0].coding[0].code = cat\n",
    "    obs_obj.category[0].coding[0].display = cat.capitalize()\n",
    "    obs_obj.display = cat.captialize()\n",
    "    print(obs_obj.yaml())\n",
    "    "
   ]
  },
  {
   "cell_type": "markdown",
   "metadata": {},
   "source": [
    "### Get Data from CSV"
   ]
  },
  {
   "cell_type": "markdown",
   "metadata": {},
   "source": [
    "### Functions to create fhir type dicts from data\n",
    "\n",
    "scrubs null from data too\n",
    "\n",
    "return only if object not empty else return None\n",
    "\n",
    "datatypes covered:\n",
    "\n",
    "- Identifier\n",
    "- Reference\n",
    "- Coding\n",
    "- Extension"
   ]
  },
  {
   "cell_type": "code",
   "execution_count": 32,
   "metadata": {},
   "outputs": [],
   "source": [
    "def new_dict(**kwargs):\n",
    "    none_list = [None,{}]\n",
    "    new_dict = {}\n",
    "    for k,v in kwargs.items():\n",
    "        #print(k,v)\n",
    "        new_dict[k] = v\n",
    "        #print(new_dict)\n",
    "    new_dict = {k: v for k, v in new_dict.items() if v==v and v not in none_list} # scrub dict of None   \n",
    "    if new_dict:\n",
    "        return new_dict"
   ]
  },
  {
   "cell_type": "markdown",
   "metadata": {},
   "source": [
    "### function to add complex elements to resource"
   ]
  },
  {
   "cell_type": "code",
   "execution_count": 33,
   "metadata": {},
   "outputs": [],
   "source": [
    "def update_obs(element,element_dict, resource = obs_obj):\n",
    "    element_type = next(i.type_.__resource_type__ for i in resource.element_properties() if i.name == element)\n",
    "    #print(f'element={element}\\nelement_dict={element_dict}\\nelement_type={element_type}')\n",
    "    if element_dict:\n",
    "        new_element=construct_fhir_element(element_type,element_dict)\n",
    "    else:\n",
    "        return\n",
    "    try: # assume not a list \n",
    "        setattr(resource,element,new_element) # not a list \n",
    "        #print(getattr(resource,element).yaml())\n",
    "    except: # treat as list\n",
    "        try: # assume list already exists\n",
    "            getattr(resource,element).append(new_element)\n",
    "        except: # list does not exist\n",
    "            setattr(resource,element,[new_element])\n",
    "        #print(getattr(resource,element)[0].yaml())"
   ]
  },
  {
   "cell_type": "markdown",
   "metadata": {},
   "source": [
    "### update the observation with data from the QR:\n",
    "- iterate over items\n",
    "- use link id for code\n",
    "- use label for id etc\n",
    "- use redult for value"
   ]
  },
  {
   "cell_type": "code",
   "execution_count": 34,
   "metadata": {},
   "outputs": [
    {
     "name": "stdout",
     "output_type": "stream",
     "text": [
      "pulse-intensity-palpation <class 'str'>\n",
      "pulse-intensity-palpation <class 'str'>\n",
      "pulse-intensity-palpation 25\n",
      "pulse-intensity-palpation <class 'str'>\n",
      "capillary-refill-time-nail-bed <class 'str'>\n",
      "capillary-refill-time-nail-bed <class 'str'>\n",
      "capillary-refill-time-nail-bed 30\n",
      "capillary-refill-time-nail-bed <class 'str'>\n",
      "ekg-impression <class 'str'>\n",
      "ekg-impression <class 'str'>\n",
      "ekg-impression 14\n",
      "ekg-impression <class 'str'>\n",
      "ekg-lead <class 'str'>\n",
      "ekg-lead <class 'str'>\n",
      "ekg-lead 8\n",
      "ekg-lead <class 'str'>\n",
      "heart-rate-rhythm <class 'str'>\n",
      "heart-rate-rhythm <class 'str'>\n",
      "heart-rate-rhythm 17\n",
      "heart-rate-rhythm <class 'str'>\n",
      "jugular-vein-distension <class 'str'>\n",
      "jugular-vein-distension <class 'str'>\n",
      "jugular-vein-distension 23\n",
      "jugular-vein-distension <class 'str'>\n",
      "p-r-interval-{ekg-lead} <class 'str'>\n",
      "p-r-interval-{ekg-lead} <class 'str'>\n",
      "p-r-interval-{ekg-lead} 23\n",
      "p-r-interval-{ekg-lead} <class 'str'>\n"
     ]
    },
    {
     "ename": "ValidationError",
     "evalue": "1 validation error for Observation\nid\n  string does not match regex \"^[A-Za-z0-9\\-.]+$\" (type=value_error.str.regex; pattern=^[A-Za-z0-9\\-.]+$)",
     "output_type": "error",
     "traceback": [
      "\u001b[0;31m---------------------------------------------------------------------------\u001b[0m",
      "\u001b[0;31mValidationError\u001b[0m                           Traceback (most recent call last)",
      "\u001b[0;32m<ipython-input-34-10404774a92c>\u001b[0m in \u001b[0;36m<module>\u001b[0;34m\u001b[0m\n\u001b[1;32m     16\u001b[0m \u001b[0;34m\u001b[0m\u001b[0m\n\u001b[1;32m     17\u001b[0m     \u001b[0mobs_obj\u001b[0m\u001b[0;34m.\u001b[0m\u001b[0mid\u001b[0m \u001b[0;34m=\u001b[0m \u001b[0mmy_id\u001b[0m\u001b[0;34m\u001b[0m\u001b[0;34m\u001b[0m\u001b[0m\n\u001b[0;32m---> 18\u001b[0;31m     \u001b[0mobs_obj\u001b[0m\u001b[0;34m.\u001b[0m\u001b[0mid\u001b[0m \u001b[0;34m=\u001b[0m \u001b[0mkebab\u001b[0m\u001b[0;34m(\u001b[0m\u001b[0mi\u001b[0m\u001b[0;34m.\u001b[0m\u001b[0mtext\u001b[0m\u001b[0;34m)\u001b[0m\u001b[0;34m\u001b[0m\u001b[0;34m\u001b[0m\u001b[0m\n\u001b[0m\u001b[1;32m     19\u001b[0m \u001b[0;34m\u001b[0m\u001b[0m\n\u001b[1;32m     20\u001b[0m \u001b[0;31m#     print(obs_obj.id, type(obs_obj.id))\u001b[0m\u001b[0;34m\u001b[0m\u001b[0;34m\u001b[0m\u001b[0;34m\u001b[0m\u001b[0m\n",
      "\u001b[0;32m~/Documents/Python/Venv/venv37/lib/python3.7/site-packages/pydantic/main.cpython-37m-darwin.so\u001b[0m in \u001b[0;36mpydantic.main.BaseModel.__setattr__\u001b[0;34m()\u001b[0m\n",
      "\u001b[0;31mValidationError\u001b[0m: 1 validation error for Observation\nid\n  string does not match regex \"^[A-Za-z0-9\\-.]+$\" (type=value_error.str.regex; pattern=^[A-Za-z0-9\\-.]+$)"
     ]
    }
   ],
   "source": []
  },
  {
   "cell_type": "markdown",
   "metadata": {},
   "source": [
    "### update the encounter\n",
    "\n",
    "what code or codes should be used for this  ( \"at home measuremet\")?\n",
    "\n",
    "todo ... review patent empowerment work."
   ]
  },
  {
   "cell_type": "code",
   "execution_count": null,
   "metadata": {},
   "outputs": [],
   "source": [
    "obs_obj.encounter.display = f_nowencounter'\n",
    "element_dict = new_dict(\n",
    "            reference = row.encounter_fhirid,\n",
    "            identifier = new_dict(value = row.encounter_identifier),  # business identifier\n",
    "            display = row.encounter_display,\n",
    "            )\n",
    "update_obs(element,element_dict)"
   ]
  },
  {
   "cell_type": "markdown",
   "metadata": {},
   "source": [
    "### update the value\n",
    "\n",
    " for now assume in pounds and only update the decimal value"
   ]
  },
  {
   "cell_type": "code",
   "execution_count": null,
   "metadata": {},
   "outputs": [],
   "source": [
    "\n",
    "obs_obj.valueQuantity.value = row.value\n",
    "#print(obs_obj.valueQuantity.yaml())"
   ]
  },
  {
   "cell_type": "markdown",
   "metadata": {},
   "source": [
    "### Add Device info which provides data provenance\n",
    "\n",
    "options\n",
    "\n",
    "- fhir id\n",
    "- identifier  ( can this be overloaded to indicate the identifier for device without doing a reference ? )\n",
    "- string "
   ]
  },
  {
   "cell_type": "code",
   "execution_count": null,
   "metadata": {},
   "outputs": [],
   "source": [
    "element = 'device'\n",
    "element_dict = new_dict(\n",
    "            reference = row.device_fhirid,\n",
    "            identifier = new_dict(value = row.device_identifier),  # business identifier\n",
    "            display = row.device_display,\n",
    "            )\n",
    "update_obs(element,element_dict)"
   ]
  },
  {
   "cell_type": "markdown",
   "metadata": {},
   "source": [
    "### Add SR Key to `basedOn` element\n",
    "\n",
    "options \n",
    "\n",
    "- fhir id\n",
    "- identifier ( can this be overloaded to indicate the identifier for device without doing a reference ? )\n",
    "- string\n"
   ]
  },
  {
   "cell_type": "code",
   "execution_count": null,
   "metadata": {},
   "outputs": [],
   "source": [
    "element = 'basedOn'\n",
    "element_dict = new_dict(\n",
    "            reference = row.servicerequest_fhirid,\n",
    "            identifier = new_dict(value = row.servicerequest_identifier),  # business identifier\n",
    "            display = row.servicerequest_display,\n",
    "            )\n",
    "update_obs(element,element_dict)"
   ]
  },
  {
   "cell_type": "markdown",
   "metadata": {},
   "source": [
    "### Add any device/gateway/service created identifier to observation\n",
    "\n",
    "see OMH for examples"
   ]
  },
  {
   "cell_type": "code",
   "execution_count": null,
   "metadata": {},
   "outputs": [],
   "source": [
    "element ='identifier'\n",
    "element_dict = new_dict(\n",
    "                value = row.identifier,\n",
    "                assigner = new_dict(display=row.assigner,)\n",
    "                )\n",
    "update_obs(element,element_dict)"
   ]
  },
  {
   "cell_type": "markdown",
   "metadata": {},
   "source": [
    "\n",
    "### Add source to observation\n",
    "\n",
    "[meta.source](http://build.fhir.org/resource-definitions.html#Meta.source) is one way to provide a simple provenance using for example, a business identifier\n",
    "\n",
    "this one option for providing provenance in addition to or instead of Device, basedOn, Identifier, Encounter or a full Provenance resource."
   ]
  },
  {
   "cell_type": "code",
   "execution_count": null,
   "metadata": {},
   "outputs": [],
   "source": [
    "if row.source == row.source:\n",
    "    obs_obj.meta.source = row.source"
   ]
  },
  {
   "cell_type": "markdown",
   "metadata": {},
   "source": [
    "### Add modality extension observation\n",
    "\n",
    "uri: `http://www.fhir.org/guides/omhtofhir/StructureDefinition/extension-modality`\n",
    "\n",
    "see [OMH](https://healthedata1.github.io/mFHIR/StructureDefinition-extension-modality.html)\n",
    "\n",
    "*NOTE: This extension was originally defined to go on the device element, but think is better on the Obervation*\n",
    "\n",
    "|Code|Display|Definition|\n",
    "|---|---|---|\n",
    "|sensed|Sensed|Device measurement is sensed directly by the device|\n",
    "|self-reported|Self Reported|Device measurement is entered by the user|\n",
    "\n"
   ]
  },
  {
   "cell_type": "code",
   "execution_count": null,
   "metadata": {},
   "outputs": [],
   "source": [
    "element = 'extension'\n",
    "if row.modality==row.modality:\n",
    "    element_dict = new_dict(\n",
    "                    valueCode = row.modality,\n",
    "                    url = 'http://www.fhir.org/guides/omhtofhir/StructureDefinition/extension-modality',\n",
    "                    )\n",
    "    update_obs(element,element_dict)"
   ]
  },
  {
   "cell_type": "markdown",
   "metadata": {},
   "source": [
    "### Add reliability tags to observation\n",
    "\n",
    "Using Josh's suggested codes as a starting point...\n",
    "\n",
    ">All data coming via the patient are submitted with a tag like {\"system\": \"http://terminology.hl7.org/CodeSystem/common-tags\", \"code\": \"patient-supplied\"}\n",
    "FHIR searches find resources with this tag by default; clients that don't want them can filter them out, through search params\n",
    "Providers and EHRs can do what they want with these data (e.g., leaving them tagged; reviewing and adding a provider-reviewed tag; reviewing and stripping the patient-supplied tag; deleting them...)\n",
    "\n",
    "for now need own system:\n",
    "\n",
    "url = `http://www.fhir.org/guides/argonaut/argo-write/CodeSystem/tags`\n",
    "\n",
    "|Code|Display|Definition|\n",
    "|---|---|---|\n",
    "|patient-supplied|Patient Supplied Data|Data is supplied by patient - either patient generated data or data generated elsewhere and forwarded by patient (todo get references to definitions of PGD)|\n",
    "|provider-reviewed|Provider Reviewed Data|Data is supplied by patient and has been reviewed by provider ( either manully or through some automated fashion)|"
   ]
  },
  {
   "cell_type": "code",
   "execution_count": null,
   "metadata": {},
   "outputs": [],
   "source": [
    "if tag:\n",
    "    url = 'http://www.fhir.org/guides/argonaut/argo-write/CodeSystem/tags'\n",
    "    tag = \"patient-supplied\"\n",
    "    element = 'tag'\n",
    "    element_dict = new_dict(system = 'http://www.fhir.org/guides/argonaut/argo-write/CodeSystem/tags',\n",
    "                        code = tag,\n",
    "                                   )\n",
    "\n",
    "    update_obs(element,element_dict,resource = obs_obj.meta)"
   ]
  },
  {
   "cell_type": "markdown",
   "metadata": {},
   "source": [
    "### Add description and example name extension to observation\n",
    "\n",
    "this annotates each example for future documentation"
   ]
  },
  {
   "cell_type": "code",
   "execution_count": null,
   "metadata": {},
   "outputs": [],
   "source": [
    "element = 'extension'\n",
    "if row.instance_name==row.instance_name:\n",
    "    element_dict = new_dict(\n",
    "                    valueString = row.instance_name,\n",
    "                    url = 'http://hl7.org/fhir/StructureDefinition/instance-name',\n",
    "                    )\n",
    "    update_obs(element,element_dict,resource = obs_obj.meta)"
   ]
  },
  {
   "cell_type": "code",
   "execution_count": null,
   "metadata": {},
   "outputs": [],
   "source": [
    "element = 'extension'\n",
    "if row.instance_description==row.instance_description:\n",
    "    element_dict = dict(\n",
    "                    valueMarkdown = row.instance_description,\n",
    "                    url = 'http://hl7.org/fhir/StructureDefinition/instance-description',\n",
    "                    )\n",
    "    update_obs(element,element_dict,resource = obs_obj.meta)"
   ]
  },
  {
   "cell_type": "code",
   "execution_count": null,
   "metadata": {},
   "outputs": [],
   "source": [
    "print(obs_obj.yaml())"
   ]
  },
  {
   "cell_type": "markdown",
   "metadata": {},
   "source": [
    "### Validate"
   ]
  },
  {
   "cell_type": "code",
   "execution_count": null,
   "metadata": {},
   "outputs": [],
   "source": [
    "from requests import post\n",
    "from IPython.display import display as Display, HTML\n",
    "def validate(data):\n",
    "\n",
    "    #fhir_test_server = 'http://test.fhir.org/r4'\n",
    "    #fhir_test_server = 'http://hapi.fhir.org/baseR4'\n",
    "    fhir_test_server = 'http://wildfhir4.aegis.net/fhir4-0-1'\n",
    "    \n",
    "    headers = {\n",
    "    'Accept':'application/fhir+json',\n",
    "    'Content-Type':'application/fhir+json'\n",
    "    }\n",
    "    r = post(f'{fhir_test_server}/Observation/$validate', headers = headers, data = data)\n",
    "    return r\n",
    "\n",
    "print('...validating')\n",
    "r = validate(obs_obj.json())\n",
    "r.status_code, r.json()\n",
    "Display(HTML(f'<h1>Validation output</h1><h3>Status Code = {r.status_code}</h3> {r.json()[\"text\"][\"div\"]}'))"
   ]
  },
  {
   "cell_type": "markdown",
   "metadata": {},
   "source": [
    "### Save Locally"
   ]
  },
  {
   "cell_type": "code",
   "execution_count": null,
   "metadata": {},
   "outputs": [],
   "source": [
    "from pathlib import Path\n",
    "ig_source_path = 'examples'\n",
    "if tag:\n",
    "    path = Path.cwd() / ig_source_path / f'{obs_obj.meta.extension[0].valueString}_tagged.yaml'\n",
    "else:\n",
    "    path = Path.cwd() / ig_source_path / f'{obs_obj.meta.extension[0].valueString}.yaml'   \n",
    "print(f'...........saving to file {path}............')\n",
    "path.write_text(obs_obj.yaml())"
   ]
  },
  {
   "cell_type": "code",
   "execution_count": null,
   "metadata": {},
   "outputs": [],
   "source": []
  }
 ],
 "metadata": {
  "kernelspec": {
   "display_name": "Python 3.7.3 64-bit ('venv37': venv)",
   "language": "python",
   "name": "python37364bitvenv37venv2b400d68decb43d5b2206c004a019450"
  },
  "language_info": {
   "codemirror_mode": {
    "name": "ipython",
    "version": 3
   },
   "file_extension": ".py",
   "mimetype": "text/x-python",
   "name": "python",
   "nbconvert_exporter": "python",
   "pygments_lexer": "ipython3",
   "version": "3.7.3"
  }
 },
 "nbformat": 4,
 "nbformat_minor": 4
}
