{
 "cells": [
  {
   "cell_type": "markdown",
   "metadata": {},
   "source": [
    "# Get wt data from csv using Pandas\n",
    "\n",
    "- loop through rows and create observations for each one and validate and save"
   ]
  },
  {
   "cell_type": "code",
   "execution_count": 2,
   "metadata": {},
   "outputs": [
    {
     "data": {
      "text/html": [
       "<div>\n",
       "<style scoped>\n",
       "    .dataframe tbody tr th:only-of-type {\n",
       "        vertical-align: middle;\n",
       "    }\n",
       "\n",
       "    .dataframe tbody tr th {\n",
       "        vertical-align: top;\n",
       "    }\n",
       "\n",
       "    .dataframe thead th {\n",
       "        text-align: right;\n",
       "    }\n",
       "</style>\n",
       "<table border=\"1\" class=\"dataframe\">\n",
       "  <thead>\n",
       "    <tr style=\"text-align: right;\">\n",
       "      <th></th>\n",
       "      <th>r_type</th>\n",
       "      <th>instance_name</th>\n",
       "      <th>instance_description</th>\n",
       "      <th>identifier</th>\n",
       "      <th>assigner</th>\n",
       "      <th>Unnamed: 5</th>\n",
       "      <th>recorded</th>\n",
       "      <th>target_fhirid</th>\n",
       "      <th>target_identifier</th>\n",
       "      <th>target_display</th>\n",
       "      <th>author_fhirid</th>\n",
       "      <th>author_identifier</th>\n",
       "      <th>author_display</th>\n",
       "      <th>onbehalfof_fhirid</th>\n",
       "      <th>onbehalfof_identifier</th>\n",
       "      <th>onbehalfof_display</th>\n",
       "      <th>transmitter_fhirid</th>\n",
       "      <th>transmitter_identifier</th>\n",
       "      <th>transmitter_display</th>\n",
       "    </tr>\n",
       "  </thead>\n",
       "  <tbody>\n",
       "    <tr>\n",
       "      <th>0</th>\n",
       "      <td>Provenance</td>\n",
       "      <td>Use-Case2</td>\n",
       "      <td>Example Provenance resource with a target of a...</td>\n",
       "      <td>NaN</td>\n",
       "      <td>NaN</td>\n",
       "      <td>7/21/21 12:40</td>\n",
       "      <td>2021-07-21T12:40:08Z</td>\n",
       "      <td>NaN</td>\n",
       "      <td>19000100T000000-2</td>\n",
       "      <td>my_patient_app</td>\n",
       "      <td>Practitioner/practitioner-1</td>\n",
       "      <td>practitioner-1</td>\n",
       "      <td>Dr Able</td>\n",
       "      <td>Organization/organization-1</td>\n",
       "      <td>organization-1</td>\n",
       "      <td>Health eClinic Inc</td>\n",
       "      <td>NaN</td>\n",
       "      <td>NaN</td>\n",
       "      <td>NaN</td>\n",
       "    </tr>\n",
       "  </tbody>\n",
       "</table>\n",
       "</div>"
      ],
      "text/plain": [
       "       r_type instance_name  \\\n",
       "0  Provenance     Use-Case2   \n",
       "\n",
       "                                instance_description  identifier  assigner  \\\n",
       "0  Example Provenance resource with a target of a...         NaN       NaN   \n",
       "\n",
       "      Unnamed: 5              recorded  target_fhirid  target_identifier  \\\n",
       "0  7/21/21 12:40  2021-07-21T12:40:08Z            NaN  19000100T000000-2   \n",
       "\n",
       "   target_display                author_fhirid author_identifier  \\\n",
       "0  my_patient_app  Practitioner/practitioner-1    practitioner-1   \n",
       "\n",
       "  author_display            onbehalfof_fhirid onbehalfof_identifier  \\\n",
       "0        Dr Able  Organization/organization-1        organization-1   \n",
       "\n",
       "   onbehalfof_display  transmitter_fhirid  transmitter_identifier  \\\n",
       "0  Health eClinic Inc                 NaN                     NaN   \n",
       "\n",
       "   transmitter_display  \n",
       "0                  NaN  "
      ]
     },
     "execution_count": 2,
     "metadata": {},
     "output_type": "execute_result"
    }
   ],
   "source": [
    "import pandas as pd\n",
    "from pathlib import Path\n",
    "\n",
    "file_name = 'prov_data.csv'#'a1c_data.csv' #'wt_data.csv'\n",
    "path = Path.cwd() / 'source_data' / file_name\n",
    "\n",
    "#df = pd.read_csv('wt_data.csv', skip_blank_lines=True)\n",
    "df = pd.read_csv(path, skip_blank_lines=True)\n",
    "df.dropna(how=\"all\", inplace=True)\n",
    "df.head(3)"
   ]
  },
  {
   "cell_type": "code",
   "execution_count": 3,
   "metadata": {},
   "outputs": [
    {
     "data": {
      "text/plain": [
       "r_type                     object\n",
       "instance_name              object\n",
       "instance_description       object\n",
       "identifier                float64\n",
       "assigner                  float64\n",
       "Unnamed: 5                 object\n",
       "recorded                   object\n",
       "target_fhirid             float64\n",
       "target_identifier          object\n",
       "target_display             object\n",
       "author_fhirid              object\n",
       "author_identifier          object\n",
       "author_display             object\n",
       "onbehalfof_fhirid          object\n",
       "onbehalfof_identifier      object\n",
       "onbehalfof_display         object\n",
       "transmitter_fhirid        float64\n",
       "transmitter_identifier    float64\n",
       "transmitter_display       float64\n",
       "dtype: object"
      ]
     },
     "execution_count": 3,
     "metadata": {},
     "output_type": "execute_result"
    }
   ],
   "source": [
    "df.dtypes"
   ]
  },
  {
   "cell_type": "code",
   "execution_count": 5,
   "metadata": {},
   "outputs": [
    {
     "name": "stdout",
     "output_type": "stream",
     "text": [
      "Provenance\n",
      "/Users/ehaas/Documents/Python/MyNotebooks/Obs_maker\n",
      "===================================MY DATA:====================================\n",
      " r_type                                                           Provenance\n",
      "instance_name                                                     Use-Case2\n",
      "instance_description      Example Provenance resource with a target of a...\n",
      "identifier                                                              NaN\n",
      "assigner                                                                NaN\n",
      "Unnamed: 5                                                    7/21/21 12:40\n",
      "recorded                                               2021-07-21T12:40:08Z\n",
      "target_fhirid                                                           NaN\n",
      "target_identifier                                         19000100T000000-2\n",
      "target_display                                               my_patient_app\n",
      "author_fhirid                                   Practitioner/practitioner-1\n",
      "author_identifier                                            practitioner-1\n",
      "author_display                                                      Dr Able\n",
      "onbehalfof_fhirid                               Organization/organization-1\n",
      "onbehalfof_identifier                                        organization-1\n",
      "onbehalfof_display                                       Health eClinic Inc\n",
      "transmitter_fhirid                                                      NaN\n",
      "transmitter_identifier                                                  NaN\n",
      "transmitter_display                                                     NaN\n",
      "Name: 0, dtype: object\n",
      "=============================================================================\n",
      "resourceType: Provenance\n",
      "target:\n",
      "- reference: Observation/123\n",
      "recorded: 2019-07-09 15:26:23.217000+00:00\n",
      "agent:\n",
      "- type:\n",
      "    coding:\n",
      "    - system: http://terminology.hl7.org/CodeSystem/provenance-participant-type\n",
      "      code: author\n",
      "      display: Author\n",
      "  who:\n",
      "    reference: Device/123\n",
      "\n",
      "--------------------------------------------------------------------------------\n",
      "resourceType: Provenance\n",
      "target:\n",
      "- reference: Observation/123\n",
      "recorded: 2021-07-21 12:40:08+00:00\n",
      "agent:\n",
      "- type:\n",
      "    coding:\n",
      "    - system: http://terminology.hl7.org/CodeSystem/provenance-participant-type\n",
      "      code: author\n",
      "      display: Author\n",
      "  who:\n",
      "    reference: Device/123\n",
      "\n",
      "--------------------------------------------------------------------------------\n"
     ]
    },
    {
     "ename": "NameError",
     "evalue": "name 'element_dict' is not defined",
     "output_type": "error",
     "traceback": [
      "\u001b[0;31m---------------------------------------------------------------------------\u001b[0m",
      "\u001b[0;31mNameError\u001b[0m                                 Traceback (most recent call last)",
      "\u001b[0;32m~/Documents/Python/MyNotebooks/Obs_maker/r_maker.ipynb\u001b[0m in \u001b[0;36m<module>\u001b[0;34m\u001b[0m\n\u001b[1;32m      5\u001b[0m             \u001b[0mdisplay\u001b[0m \u001b[0;34m=\u001b[0m \u001b[0mrow\u001b[0m\u001b[0;34m.\u001b[0m\u001b[0mtarget_display\u001b[0m\u001b[0;34m,\u001b[0m\u001b[0;34m\u001b[0m\u001b[0;34m\u001b[0m\u001b[0m\n\u001b[1;32m      6\u001b[0m             )\n\u001b[0;32m----> 7\u001b[0;31m \u001b[0mupdate_obj\u001b[0m\u001b[0;34m(\u001b[0m\u001b[0melement\u001b[0m\u001b[0;34m,\u001b[0m\u001b[0melement_dict\u001b[0m\u001b[0;34m,\u001b[0m\u001b[0mr_obj\u001b[0m\u001b[0;34m,\u001b[0m\u001b[0mreplace\u001b[0m\u001b[0;34m=\u001b[0m\u001b[0;32mTrue\u001b[0m\u001b[0;34m)\u001b[0m\u001b[0;34m\u001b[0m\u001b[0;34m\u001b[0m\u001b[0m\n\u001b[0m\u001b[1;32m      8\u001b[0m \u001b[0mprint\u001b[0m\u001b[0;34m(\u001b[0m\u001b[0mr_obj\u001b[0m\u001b[0;34m.\u001b[0m\u001b[0myaml\u001b[0m\u001b[0;34m(\u001b[0m\u001b[0;34m)\u001b[0m\u001b[0;34m)\u001b[0m\u001b[0;34m\u001b[0m\u001b[0;34m\u001b[0m\u001b[0m\n\u001b[1;32m      9\u001b[0m \u001b[0mprint\u001b[0m\u001b[0;34m(\u001b[0m\u001b[0;34m'-'\u001b[0m\u001b[0;34m*\u001b[0m\u001b[0;36m80\u001b[0m\u001b[0;34m)\u001b[0m\u001b[0;34m\u001b[0m\u001b[0;34m\u001b[0m\u001b[0m\n",
      "\u001b[0;32m~/Documents/Python/MyNotebooks/Obs_maker/utils.py\u001b[0m in \u001b[0;36mupdate_obj\u001b[0;34m(element, element_dict, resource, replace)\u001b[0m\n\u001b[1;32m     53\u001b[0m \u001b[0;32mdef\u001b[0m \u001b[0mupdate_obj\u001b[0m\u001b[0;34m(\u001b[0m\u001b[0melement\u001b[0m\u001b[0;34m,\u001b[0m\u001b[0melement_dict\u001b[0m\u001b[0;34m,\u001b[0m\u001b[0mresource\u001b[0m\u001b[0;34m,\u001b[0m\u001b[0mreplace\u001b[0m\u001b[0;34m=\u001b[0m\u001b[0;32mFalse\u001b[0m\u001b[0;34m)\u001b[0m\u001b[0;34m:\u001b[0m\u001b[0;34m\u001b[0m\u001b[0;34m\u001b[0m\u001b[0m\n\u001b[1;32m     54\u001b[0m     \u001b[0;31m### function to add complex elements to resource\u001b[0m\u001b[0;34m\u001b[0m\u001b[0;34m\u001b[0m\u001b[0;34m\u001b[0m\u001b[0m\n\u001b[0;32m---> 55\u001b[0;31m     \u001b[0melement_type\u001b[0m \u001b[0;34m=\u001b[0m \u001b[0mget_element_type\u001b[0m\u001b[0;34m(\u001b[0m\u001b[0mresource\u001b[0m\u001b[0;34m,\u001b[0m\u001b[0melement\u001b[0m\u001b[0;34m)\u001b[0m\u001b[0;34m\u001b[0m\u001b[0;34m\u001b[0m\u001b[0m\n\u001b[0m\u001b[1;32m     56\u001b[0m     \u001b[0;32mif\u001b[0m \u001b[0melement_dict\u001b[0m\u001b[0;34m:\u001b[0m\u001b[0;34m\u001b[0m\u001b[0;34m\u001b[0m\u001b[0m\n\u001b[1;32m     57\u001b[0m         \u001b[0mnew_element\u001b[0m\u001b[0;34m=\u001b[0m\u001b[0mconstruct_fhir_element\u001b[0m\u001b[0;34m(\u001b[0m\u001b[0melement_type\u001b[0m\u001b[0;34m,\u001b[0m\u001b[0melement_dict\u001b[0m\u001b[0;34m)\u001b[0m\u001b[0;34m\u001b[0m\u001b[0;34m\u001b[0m\u001b[0m\n",
      "\u001b[0;32m~/Documents/Python/MyNotebooks/Obs_maker/utils.py\u001b[0m in \u001b[0;36mget_element_type\u001b[0;34m(resource, element)\u001b[0m\n\u001b[1;32m     22\u001b[0m         \u001b[0mprint\u001b[0m\u001b[0;34m(\u001b[0m\u001b[0me\u001b[0m\u001b[0;34m)\u001b[0m\u001b[0;34m\u001b[0m\u001b[0;34m\u001b[0m\u001b[0m\n\u001b[1;32m     23\u001b[0m \u001b[0;34m\u001b[0m\u001b[0m\n\u001b[0;32m---> 24\u001b[0;31m     \u001b[0mprint\u001b[0m\u001b[0;34m(\u001b[0m\u001b[0;34mf'element={element}\\nelement_dict={element_dict}\\nelement_type={element_type}'\u001b[0m\u001b[0;34m)\u001b[0m\u001b[0;34m\u001b[0m\u001b[0;34m\u001b[0m\u001b[0m\n\u001b[0m\u001b[1;32m     25\u001b[0m     \u001b[0;32mreturn\u001b[0m \u001b[0melement_type\u001b[0m\u001b[0;34m\u001b[0m\u001b[0;34m\u001b[0m\u001b[0m\n\u001b[1;32m     26\u001b[0m \u001b[0;34m\u001b[0m\u001b[0m\n",
      "\u001b[0;31mNameError\u001b[0m: name 'element_dict' is not defined"
     ]
    }
   ],
   "source": [
    "for i,row in df[0:].iterrows():\n",
    "    try:\n",
    "        print(row.r_type)\n",
    "        %run ./r_maker.ipynb\n",
    "    except AttributeError as e:\n",
    "        print(e)\n",
    "        %run ./obs_maker.ipynb"
   ]
  },
  {
   "cell_type": "code",
   "execution_count": null,
   "metadata": {},
   "outputs": [],
   "source": []
  }
 ],
 "metadata": {
  "kernelspec": {
   "display_name": "Python 3.7.3 64-bit ('venv37': venv)",
   "language": "python",
   "name": "python37364bitvenv37venv2b400d68decb43d5b2206c004a019450"
  },
  "language_info": {
   "codemirror_mode": {
    "name": "ipython",
    "version": 3
   },
   "file_extension": ".py",
   "mimetype": "text/x-python",
   "name": "python",
   "nbconvert_exporter": "python",
   "pygments_lexer": "ipython3",
   "version": "3.7.3"
  }
 },
 "nbformat": 4,
 "nbformat_minor": 4
}
