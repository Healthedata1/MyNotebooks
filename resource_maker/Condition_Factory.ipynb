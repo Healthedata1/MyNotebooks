{
 "cells": [
  {
   "cell_type": "markdown",
   "metadata": {},
   "source": [
    "## Condition Factory\n",
    "\n",
    "create a bunch of Condition objects from a csv file and save them to a folder and create Bundle objects from the conditions and save them to a folder\n",
    "\n",
    "1. Load Condition Template\n",
    "1. get csv in form\n",
    "\n",
    "|Condition #|_id|_datetime|_code|_display|\n",
    "|---|---|---|---|---|\n",
    "|Foo|foo|2023-08-21T20:16:25.019Z|12345678|Examplitis|\n",
    "\n",
    "4. Convert csv to DataFrame\n",
    "<!-- 2. Create a transaction Bundle\n",
    "1. Load Patient into Bundle\n",
    "2. Load the data row into the Condition template\n",
    "3. Add to the Bundler -->\n",
    "5. Create Condition Instance\n",
    "5. Validate"
   ]
  },
  {
   "cell_type": "markdown",
   "metadata": {},
   "source": [
    "### Define Globals and Imports"
   ]
  },
  {
   "cell_type": "code",
   "execution_count": 1,
   "metadata": {},
   "outputs": [
    {
     "name": "stdout",
     "output_type": "stream",
     "text": [
      "/Users/ehaas/Documents/Python/Jupyter/MyNotebooks/resource_maker/source_data/conditions.csv\n",
      "/Users/ehaas/Documents/Python/Jupyter/MyNotebooks/resource_maker/examples\n"
     ]
    }
   ],
   "source": [
    "    import pandas as pd\n",
    "    from requests import get, post\n",
    "    from pathlib import Path\n",
    "    from json import dumps, loads\n",
    "\n",
    "\n",
    "    in_path = Path.cwd() / 'source_data' /'conditions.csv'\n",
    "    out_path = Path.cwd() /'examples'\n",
    "    print(in_path)\n",
    "    print(out_path)\n",
    "    _system = 'http://snomed.info/sct'\n",
    "    fhir_test_server = 'https://r4.ontoserver.csiro.au/fhir'\n",
    "    # fhir_test_server = 'http://hapi.fhir.org/baseR4'\n",
    "    #fhir_test_server = 'http://wildfhir4.aegis.net/fhir4-0-1'\n",
    "    \n",
    "    headers = {\n",
    "    'Accept':'application/fhir+json',\n",
    "    'Content-Type':'application/fhir+json',\n",
    "    }\n",
    "    # profile = 'http://hl7.org/fhir/us/core/StructureDefinition/us-core-patient' # The official URL for this profile is: http://hl7.org/fhir/us/core/StructureDefinition/us-core-patient\n",
    " \n"
   ]
  },
  {
   "cell_type": "markdown",
   "metadata": {},
   "source": [
    "### Load Condition Template"
   ]
  },
  {
   "cell_type": "code",
   "execution_count": 2,
   "metadata": {},
   "outputs": [
    {
     "data": {
      "text/plain": [
       "'my_id'"
      ]
     },
     "execution_count": 2,
     "metadata": {},
     "output_type": "execute_result"
    }
   ],
   "source": [
    "%pwd\n",
    "from my_condition import get_condition_resource as get_condition\n",
    "\n",
    "my_condition = get_condition('My_Title','my_id','my_datetime','my_code','my_status','my_display')\n",
    "my_condition['id']"
   ]
  },
  {
   "cell_type": "markdown",
   "metadata": {},
   "source": [
    "###  Get CSV File ( hard coded for now) and Convert to DF"
   ]
  },
  {
   "cell_type": "code",
   "execution_count": 3,
   "metadata": {},
   "outputs": [
    {
     "data": {
      "text/html": [
       "<div>\n",
       "<style scoped>\n",
       "    .dataframe tbody tr th:only-of-type {\n",
       "        vertical-align: middle;\n",
       "    }\n",
       "\n",
       "    .dataframe tbody tr th {\n",
       "        vertical-align: top;\n",
       "    }\n",
       "\n",
       "    .dataframe thead th {\n",
       "        text-align: right;\n",
       "    }\n",
       "</style>\n",
       "<table border=\"1\" class=\"dataframe\">\n",
       "  <thead>\n",
       "    <tr style=\"text-align: right;\">\n",
       "      <th></th>\n",
       "      <th>_title</th>\n",
       "      <th>_id</th>\n",
       "      <th>_datetime</th>\n",
       "      <th>_code</th>\n",
       "      <th>_status</th>\n",
       "    </tr>\n",
       "  </thead>\n",
       "  <tbody>\n",
       "    <tr>\n",
       "      <th>0</th>\n",
       "      <td>Examplitis</td>\n",
       "      <td>examplitis</td>\n",
       "      <td>2023-08-21T20:16:25.019Z</td>\n",
       "      <td>123456789</td>\n",
       "      <td>active</td>\n",
       "    </tr>\n",
       "    <tr>\n",
       "      <th>1</th>\n",
       "      <td>Ear Burn</td>\n",
       "      <td>ear_burn</td>\n",
       "      <td>2021-01-21</td>\n",
       "      <td>39065001</td>\n",
       "      <td>resolved</td>\n",
       "    </tr>\n",
       "    <tr>\n",
       "      <th>2</th>\n",
       "      <td>Abscess</td>\n",
       "      <td>abscess</td>\n",
       "      <td>2018-02-02</td>\n",
       "      <td>18099001</td>\n",
       "      <td>resolved</td>\n",
       "    </tr>\n",
       "    <tr>\n",
       "      <th>3</th>\n",
       "      <td>COPD</td>\n",
       "      <td>copd</td>\n",
       "      <td>2023-08-22</td>\n",
       "      <td>13645005</td>\n",
       "      <td>active</td>\n",
       "    </tr>\n",
       "  </tbody>\n",
       "</table>\n",
       "</div>"
      ],
      "text/plain": [
       "       _title         _id                 _datetime      _code   _status\n",
       "0  Examplitis  examplitis  2023-08-21T20:16:25.019Z  123456789    active\n",
       "1    Ear Burn    ear_burn                2021-01-21   39065001  resolved\n",
       "2     Abscess     abscess                2018-02-02   18099001  resolved\n",
       "3        COPD        copd                2023-08-22   13645005    active"
      ]
     },
     "execution_count": 3,
     "metadata": {},
     "output_type": "execute_result"
    }
   ],
   "source": [
    "from io import StringIO  # for hardcoded csv only\n",
    "my_csv = '''_title,_id,_datetime,_code,_status\n",
    "\n",
    "Examplitis,examplitis,2023-08-21T20:16:25.019Z,123456789,active\n",
    "Ear Burn,ear_burn,2021-01-21,39065001,resolved\n",
    "Abscess,abscess,2018-02-02,18099001,resolved\n",
    "COPD,copd,2023-08-22,13645005,active\n",
    "'''\n",
    "\n",
    "df = pd.read_csv(StringIO(my_csv), sep=\",\", dtype='str')\n",
    "\n",
    "df"
   ]
  },
  {
   "cell_type": "markdown",
   "metadata": {},
   "source": [
    "### Create Condition Instance\n",
    "\n",
    "1. Get Data Element row by row from DF"
   ]
  },
  {
   "cell_type": "code",
   "execution_count": 4,
   "metadata": {},
   "outputs": [],
   "source": [
    "def get_display(_system,_code,_version=None):\n",
    "    \"\"\"for example Looking up a code/system\n",
    "       GET [base]/CodeSystem/$lookup?system=http://loinc.org&code=1963-8\n",
    "    \"\"\"\n",
    "    params = dict(\n",
    "       system = _system,\n",
    "      # system = 'http://loinc.org',\n",
    "      code = _code,\n",
    "      # code = '1963-8'\n",
    "        )\n",
    "    r = get(f'{fhir_test_server}/CodeSystem/$lookup', params = params, headers = headers)\n",
    "    print(r.status_code, r.reason)\n",
    "    print(r.json())\n",
    "    if r.status_code != 200:\n",
    "        return 'examplitis'\n",
    "    else:\n",
    "      return r.json()['parameter'][1]['valueString']"
   ]
  },
  {
   "cell_type": "code",
   "execution_count": 5,
   "metadata": {},
   "outputs": [
    {
     "name": "stdout",
     "output_type": "stream",
     "text": [
      "404 Not Found\n",
      "{'resourceType': 'OperationOutcome', 'issue': [{'severity': 'error', 'code': 'not-found', 'details': {'text': '[940f3ce8-5fb3-42bc-b9ca-9301309fe59f]: The code 123456789 (http://snomed.info/sct:http://snomed.info/sct/32506021000036107/version/20230731) was not found.'}, 'diagnostics': '[940f3ce8-5fb3-42bc-b9ca-9301309fe59f]: The code 123456789 (http://snomed.info/sct:http://snomed.info/sct/32506021000036107/version/20230731) was not found.'}]}\n",
      "200 OK\n",
      "{'resourceType': 'Parameters', 'parameter': [{'name': 'code', 'valueCode': '39065001'}, {'name': 'display', 'valueString': 'Burn of ear'}, {'name': 'name', 'valueString': 'SNOMED Clinical Terms Australian extension'}, {'name': 'system', 'valueUri': 'http://snomed.info/sct'}, {'name': 'version', 'valueString': 'http://snomed.info/sct/32506021000036107/version/20230731'}, {'name': 'property', 'part': [{'name': 'code', 'valueCode': 'parent'}, {'name': 'value', 'valueCode': '262581006'}]}, {'name': 'property', 'part': [{'name': 'code', 'valueCode': 'parent'}, {'name': 'value', 'valueCode': '2999009'}]}, {'name': 'property', 'part': [{'name': 'code', 'valueCode': 'parent'}, {'name': 'value', 'valueCode': '33391000119104'}]}, {'name': 'property', 'part': [{'name': 'code', 'valueCode': 'child'}, {'name': 'value', 'valueCode': '42066004'}]}, {'name': 'property', 'part': [{'name': 'code', 'valueCode': 'child'}, {'name': 'value', 'valueCode': '12065591000119100'}]}, {'name': 'property', 'part': [{'name': 'code', 'valueCode': 'child'}, {'name': 'value', 'valueCode': '36520004'}]}, {'name': 'property', 'part': [{'name': 'code', 'valueCode': 'child'}, {'name': 'value', 'valueCode': '12065631000119100'}]}, {'name': 'property', 'part': [{'name': 'code', 'valueCode': 'child'}, {'name': 'value', 'valueCode': '9269007'}]}, {'name': 'property', 'part': [{'name': 'code', 'valueCode': 'moduleId'}, {'name': 'value', 'valueCode': '900000000000207008'}]}, {'name': 'property', 'part': [{'name': 'code', 'valueCode': 'inactive'}, {'name': 'value', 'valueBoolean': False}, {'name': 'valueBoolean', 'valueBoolean': False}]}, {'name': 'property', 'part': [{'name': 'code', 'valueCode': 'sufficientlyDefined'}, {'name': 'valueBoolean', 'valueBoolean': True}, {'name': 'value', 'valueBoolean': True}]}, {'name': 'property', 'part': [{'name': 'code', 'valueCode': 'effectiveTime'}, {'name': 'valueString', 'valueString': '20020131'}, {'name': 'value', 'valueString': '20020131'}]}, {'name': 'designation', 'part': [{'name': 'language', 'valueCode': 'en'}, {'name': 'use', 'valueCoding': {'system': 'http://terminology.hl7.org/CodeSystem/designation-usage', 'code': 'display'}}, {'name': 'value', 'valueString': 'Burn of ear'}]}, {'name': 'designation', 'part': [{'name': 'language', 'valueCode': 'en-x-sctlang-32570271-00003610-6'}, {'name': 'use', 'valueCoding': {'system': 'http://terminology.hl7.org/CodeSystem/hl7TermMaintInfra', 'code': 'preferredForLanguage', 'display': 'Preferred For Language'}}, {'name': 'value', 'valueString': 'Burn of ear'}]}, {'name': 'designation', 'part': [{'name': 'language', 'valueCode': 'en'}, {'name': 'use', 'valueCoding': {'system': 'http://snomed.info/sct', 'code': '900000000000003001', 'display': 'Fully specified name'}}, {'name': 'value', 'valueString': 'Burn of ear (disorder)'}]}, {'name': 'designation', 'part': [{'name': 'language', 'valueCode': 'en'}, {'name': 'use', 'valueCoding': {'system': 'http://snomed.info/sct', 'code': '900000000000013009', 'display': 'Synonym'}}, {'name': 'value', 'valueString': 'Burn of ear structure'}]}]}\n",
      "200 OK\n",
      "{'resourceType': 'Parameters', 'parameter': [{'name': 'code', 'valueCode': '18099001'}, {'name': 'display', 'valueString': 'Retropharyngeal abscess'}, {'name': 'name', 'valueString': 'SNOMED Clinical Terms Australian extension'}, {'name': 'system', 'valueUri': 'http://snomed.info/sct'}, {'name': 'version', 'valueString': 'http://snomed.info/sct/32506021000036107/version/20230731'}, {'name': 'property', 'part': [{'name': 'code', 'valueCode': 'parent'}, {'name': 'value', 'valueCode': '274751001'}]}, {'name': 'property', 'part': [{'name': 'code', 'valueCode': 'parent'}, {'name': 'value', 'valueCode': '128477000'}]}, {'name': 'property', 'part': [{'name': 'code', 'valueCode': 'moduleId'}, {'name': 'value', 'valueCode': '900000000000207008'}]}, {'name': 'property', 'part': [{'name': 'code', 'valueCode': 'inactive'}, {'name': 'value', 'valueBoolean': False}, {'name': 'valueBoolean', 'valueBoolean': False}]}, {'name': 'property', 'part': [{'name': 'code', 'valueCode': 'sufficientlyDefined'}, {'name': 'valueBoolean', 'valueBoolean': True}, {'name': 'value', 'valueBoolean': True}]}, {'name': 'property', 'part': [{'name': 'code', 'valueCode': 'effectiveTime'}, {'name': 'valueString', 'valueString': '20020131'}, {'name': 'value', 'valueString': '20020131'}]}, {'name': 'designation', 'part': [{'name': 'language', 'valueCode': 'en'}, {'name': 'use', 'valueCoding': {'system': 'http://terminology.hl7.org/CodeSystem/designation-usage', 'code': 'display'}}, {'name': 'value', 'valueString': 'Retropharyngeal abscess'}]}, {'name': 'designation', 'part': [{'name': 'language', 'valueCode': 'en-x-sctlang-32570271-00003610-6'}, {'name': 'use', 'valueCoding': {'system': 'http://terminology.hl7.org/CodeSystem/hl7TermMaintInfra', 'code': 'preferredForLanguage', 'display': 'Preferred For Language'}}, {'name': 'value', 'valueString': 'Retropharyngeal abscess'}]}, {'name': 'designation', 'part': [{'name': 'language', 'valueCode': 'en'}, {'name': 'use', 'valueCoding': {'system': 'http://snomed.info/sct', 'code': '900000000000003001', 'display': 'Fully specified name'}}, {'name': 'value', 'valueString': 'Retropharyngeal abscess (disorder)'}]}]}\n",
      "200 OK\n",
      "{'resourceType': 'Parameters', 'parameter': [{'name': 'code', 'valueCode': '13645005'}, {'name': 'display', 'valueString': 'COPD'}, {'name': 'name', 'valueString': 'SNOMED Clinical Terms Australian extension'}, {'name': 'system', 'valueUri': 'http://snomed.info/sct'}, {'name': 'version', 'valueString': 'http://snomed.info/sct/32506021000036107/version/20230731'}, {'name': 'property', 'part': [{'name': 'code', 'valueCode': 'parent'}, {'name': 'value', 'valueCode': '68917000'}]}, {'name': 'property', 'part': [{'name': 'code', 'valueCode': 'parent'}, {'name': 'value', 'valueCode': '413839001'}]}, {'name': 'property', 'part': [{'name': 'code', 'valueCode': 'child'}, {'name': 'value', 'valueCode': '196001008'}]}, {'name': 'property', 'part': [{'name': 'code', 'valueCode': 'child'}, {'name': 'value', 'valueCode': '313299006'}]}, {'name': 'property', 'part': [{'name': 'code', 'valueCode': 'child'}, {'name': 'value', 'valueCode': '313297008'}]}, {'name': 'property', 'part': [{'name': 'code', 'valueCode': 'child'}, {'name': 'value', 'valueCode': '47938003'}]}, {'name': 'property', 'part': [{'name': 'code', 'valueCode': 'child'}, {'name': 'value', 'valueCode': '313296004'}]}, {'name': 'property', 'part': [{'name': 'code', 'valueCode': 'child'}, {'name': 'value', 'valueCode': '195951007'}]}, {'name': 'property', 'part': [{'name': 'code', 'valueCode': 'child'}, {'name': 'value', 'valueCode': '135836000'}]}, {'name': 'property', 'part': [{'name': 'code', 'valueCode': 'child'}, {'name': 'value', 'valueCode': '10692761000119107'}]}, {'name': 'property', 'part': [{'name': 'code', 'valueCode': 'child'}, {'name': 'value', 'valueCode': '87433001'}]}, {'name': 'property', 'part': [{'name': 'code', 'valueCode': 'moduleId'}, {'name': 'value', 'valueCode': '900000000000207008'}]}, {'name': 'property', 'part': [{'name': 'code', 'valueCode': 'inactive'}, {'name': 'value', 'valueBoolean': False}, {'name': 'valueBoolean', 'valueBoolean': False}]}, {'name': 'property', 'part': [{'name': 'code', 'valueCode': 'sufficientlyDefined'}, {'name': 'valueBoolean', 'valueBoolean': True}, {'name': 'value', 'valueBoolean': True}]}, {'name': 'property', 'part': [{'name': 'code', 'valueCode': 'effectiveTime'}, {'name': 'valueString', 'valueString': '20020131'}, {'name': 'value', 'valueString': '20020131'}]}, {'name': 'designation', 'part': [{'name': 'language', 'valueCode': 'en'}, {'name': 'use', 'valueCoding': {'system': 'http://snomed.info/sct', 'code': '900000000000013009', 'display': 'Synonym'}}, {'name': 'value', 'valueString': 'CAFL - Chronic airflow limitation'}]}, {'name': 'designation', 'part': [{'name': 'language', 'valueCode': 'en'}, {'name': 'use', 'valueCoding': {'system': 'http://snomed.info/sct', 'code': '900000000000013009', 'display': 'Synonym'}}, {'name': 'value', 'valueString': 'CAL - Chronic airflow limitation'}]}, {'name': 'designation', 'part': [{'name': 'language', 'valueCode': 'en'}, {'name': 'use', 'valueCoding': {'system': 'http://snomed.info/sct', 'code': '900000000000013009', 'display': 'Synonym'}}, {'name': 'value', 'valueString': 'CAO - Chronic airflow obstruction'}]}, {'name': 'designation', 'part': [{'name': 'language', 'valueCode': 'en'}, {'name': 'use', 'valueCoding': {'system': 'http://snomed.info/sct', 'code': '900000000000013009', 'display': 'Synonym'}}, {'name': 'value', 'valueString': 'COAD - Chronic obstructive airways disease'}]}, {'name': 'designation', 'part': [{'name': 'language', 'valueCode': 'en'}, {'name': 'use', 'valueCoding': {'system': 'http://snomed.info/sct', 'code': '900000000000013009', 'display': 'Synonym'}}, {'name': 'value', 'valueString': 'COLD - Chronic obstructive lung disease'}]}, {'name': 'designation', 'part': [{'name': 'language', 'valueCode': 'en'}, {'name': 'use', 'valueCoding': {'system': 'http://terminology.hl7.org/CodeSystem/designation-usage', 'code': 'display'}}, {'name': 'value', 'valueString': 'COPD'}]}, {'name': 'designation', 'part': [{'name': 'language', 'valueCode': 'en-x-sctlang-32570271-00003610-6'}, {'name': 'use', 'valueCoding': {'system': 'http://terminology.hl7.org/CodeSystem/hl7TermMaintInfra', 'code': 'preferredForLanguage', 'display': 'Preferred For Language'}}, {'name': 'value', 'valueString': 'COPD'}]}, {'name': 'designation', 'part': [{'name': 'language', 'valueCode': 'en'}, {'name': 'use', 'valueCoding': {'system': 'http://snomed.info/sct', 'code': '900000000000013009', 'display': 'Synonym'}}, {'name': 'value', 'valueString': 'COPD - Chronic obstructive pulmonary disease'}]}, {'name': 'designation', 'part': [{'name': 'language', 'valueCode': 'en'}, {'name': 'use', 'valueCoding': {'system': 'http://snomed.info/sct', 'code': '900000000000013009', 'display': 'Synonym'}}, {'name': 'value', 'valueString': 'Chronic airflow limitation'}]}, {'name': 'designation', 'part': [{'name': 'language', 'valueCode': 'en'}, {'name': 'use', 'valueCoding': {'system': 'http://snomed.info/sct', 'code': '900000000000013009', 'display': 'Synonym'}}, {'name': 'value', 'valueString': 'Chronic airflow obstruction'}]}, {'name': 'designation', 'part': [{'name': 'language', 'valueCode': 'en'}, {'name': 'use', 'valueCoding': {'system': 'http://snomed.info/sct', 'code': '900000000000013009', 'display': 'Synonym'}}, {'name': 'value', 'valueString': 'Chronic airway disease'}]}, {'name': 'designation', 'part': [{'name': 'language', 'valueCode': 'en'}, {'name': 'use', 'valueCoding': {'system': 'http://snomed.info/sct', 'code': '900000000000013009', 'display': 'Synonym'}}, {'name': 'value', 'valueString': 'Chronic airway obstruction'}]}, {'name': 'designation', 'part': [{'name': 'language', 'valueCode': 'en'}, {'name': 'use', 'valueCoding': {'system': 'http://snomed.info/sct', 'code': '900000000000013009', 'display': 'Synonym'}}, {'name': 'value', 'valueString': 'Chronic irreversible airway obstruction'}]}, {'name': 'designation', 'part': [{'name': 'language', 'valueCode': 'en'}, {'name': 'use', 'valueCoding': {'system': 'http://snomed.info/sct', 'code': '900000000000013009', 'display': 'Synonym'}}, {'name': 'value', 'valueString': 'Chronic obstructive airway disease'}]}, {'name': 'designation', 'part': [{'name': 'language', 'valueCode': 'en'}, {'name': 'use', 'valueCoding': {'system': 'http://snomed.info/sct', 'code': '900000000000013009', 'display': 'Synonym'}}, {'name': 'value', 'valueString': 'Chronic obstructive lung disease'}]}, {'name': 'designation', 'part': [{'name': 'language', 'valueCode': 'en'}, {'name': 'use', 'valueCoding': {'system': 'http://snomed.info/sct', 'code': '900000000000003001', 'display': 'Fully specified name'}}, {'name': 'value', 'valueString': 'Chronic obstructive lung disease (disorder)'}]}, {'name': 'designation', 'part': [{'name': 'language', 'valueCode': 'en'}, {'name': 'use', 'valueCoding': {'system': 'http://snomed.info/sct', 'code': '900000000000013009', 'display': 'Synonym'}}, {'name': 'value', 'valueString': 'Chronic obstructive pulmonary disease'}]}]}\n"
     ]
    }
   ],
   "source": [
    "for i in range(len(df)):\n",
    "    # print(i, df.iloc[i])\n",
    "    _title,_id,_datetime,_code,_status = df.iloc[i]\n",
    "    _display = get_display(_system,_code)\n",
    "    my_condition = get_condition(_title,_id,_datetime,_code,_status,_display)\n",
    "    # print(my_condition)\n",
    "    out_file = out_path / f'{_title}.json'\n",
    "    out_file.write_text(dumps(my_condition, indent=2))\n"
   ]
  },
  {
   "cell_type": "code",
   "execution_count": null,
   "metadata": {},
   "outputs": [],
   "source": []
  }
 ],
 "metadata": {
  "kernelspec": {
   "display_name": "jupyter",
   "language": "python",
   "name": "python3"
  },
  "language_info": {
   "codemirror_mode": {
    "name": "ipython",
    "version": 3
   },
   "file_extension": ".py",
   "mimetype": "text/x-python",
   "name": "python",
   "nbconvert_exporter": "python",
   "pygments_lexer": "ipython3",
   "version": "3.10.2"
  },
  "orig_nbformat": 4
 },
 "nbformat": 4,
 "nbformat_minor": 2
}
