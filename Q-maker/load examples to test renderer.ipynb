{
 "cells": [
  {
   "cell_type": "markdown",
   "metadata": {},
   "source": [
    "## Script to add new extensions to FHIR Questionnaires\n",
    "\n",
    "- python version 3.6+\n",
    "\n",
    "- upload example as python dict from file\n",
    "- add new extensions\n",
    "- write to ig folder as json with text elements\n",
    "- write to FHIR server as json without text elements"
   ]
  },
  {
   "cell_type": "code",
   "execution_count": 1,
   "metadata": {},
   "outputs": [],
   "source": [
    "from json import load, dumps\n",
    "from IPython import display as D\n",
    "from requests import get, post, put\n",
    "from IPython.display import display, Markdown\n",
    "from fhirclient.models import questionnaire as Q"
   ]
  },
  {
   "cell_type": "markdown",
   "metadata": {},
   "source": [
    "### Open Questionnaires as DICT files"
   ]
  },
  {
   "cell_type": "code",
   "execution_count": 2,
   "metadata": {},
   "outputs": [],
   "source": [
    "in_path = '/Users/ehaas/Documents/FHIR/Argo-Questionnaire/source/examples/'\n",
    "out_path = '/Users/ehaas/Documents/FHIR/Argo-Questionnaire/source/examples/'\n",
    "\n"
   ]
  },
  {
   "cell_type": "markdown",
   "metadata": {},
   "source": [
    "#### type in file name here"
   ]
  },
  {
   "cell_type": "code",
   "execution_count": 3,
   "metadata": {},
   "outputs": [],
   "source": [
    "#in_file = ['ASQ3','AUDIT','DAST','Housing','PHQ9','Sampler']\n",
    "in_file = ['questionnaire-example-dast',\n",
    "        'questionnaire-example-housing',\n",
    "        'questionnaire-example-phq9',\n",
    "        'questionnaire-example-audit-c',\n",
    "        'questionnaire-example-sampler',\n",
    "        ]"
   ]
  },
  {
   "cell_type": "code",
   "execution_count": 4,
   "metadata": {},
   "outputs": [],
   "source": [
    "def open_file(name): # get files\n",
    "    with open(f'{in_path}{name}.json') as f:\n",
    "        q = load(f)\n",
    "        return(Q.Questionnaire(q))"
   ]
  },
  {
   "cell_type": "markdown",
   "metadata": {},
   "source": [
    "### Update Resource to FHIR Server"
   ]
  },
  {
   "cell_type": "code",
   "execution_count": 5,
   "metadata": {},
   "outputs": [],
   "source": [
    "\n",
    "# *********************** update Resource on FHIR Server  ********************************\n",
    "def update(pyfhir):\n",
    "    \n",
    "    fhir_test_server = 'http://sqlonfhir-stu3.azurewebsites.net/fhir'\n",
    "    \n",
    "    headers = {\n",
    "            'Accept':'application/fhir+json',\n",
    "            'Content-Type':'application/fhir+json'\n",
    "            }\n",
    "    profile = 'http://fhir.org/guides/argonaut-questionnaire/StructureDefinition/argo-questionnaire'\n",
    "    params = {\n",
    "    'profile': profile\n",
    "    }\n",
    "    #   r = requests.post('https://httpbin.org/post', data = {'key':'value'})\n",
    "    r = put(f'{fhir_test_server}/{pyfhir.resource_type}/{pyfhir.id}',\n",
    "            params = params,\n",
    "            headers = headers,\n",
    "            data = dumps(pyfhir.as_json()))\n",
    "    # print(r.status_code)\n",
    "    # view  output\n",
    "    return r.status_code\n",
    "\n",
    "\n",
    "    "
   ]
  },
  {
   "cell_type": "code",
   "execution_count": 6,
   "metadata": {},
   "outputs": [
    {
     "name": "stdout",
     "output_type": "stream",
     "text": [
      "Questionnaire questionnaire-example-dast\n",
      "200\n",
      "Questionnaire questionnaire-example-housing\n",
      "200\n",
      "Questionnaire questionnaire-example-phq9\n",
      "200\n",
      "Questionnaire questionnaire-example-audit-c\n",
      "200\n",
      "Questionnaire questionnaire-example-sampler\n",
      "200\n"
     ]
    }
   ],
   "source": [
    "for i in in_file:\n",
    "    q = open_file(i)\n",
    "    q.text = None # scrub the narrative\n",
    "    print(q.resource_type, q.id)\n",
    "    print(update(q))"
   ]
  },
  {
   "cell_type": "code",
   "execution_count": null,
   "metadata": {},
   "outputs": [],
   "source": []
  }
 ],
 "metadata": {
  "kernelspec": {
   "display_name": "Python 3",
   "language": "python",
   "name": "python3"
  },
  "language_info": {
   "codemirror_mode": {
    "name": "ipython",
    "version": 3
   },
   "file_extension": ".py",
   "mimetype": "text/x-python",
   "name": "python",
   "nbconvert_exporter": "python",
   "pygments_lexer": "ipython3",
   "version": "3.6.2"
  }
 },
 "nbformat": 4,
 "nbformat_minor": 2
}
