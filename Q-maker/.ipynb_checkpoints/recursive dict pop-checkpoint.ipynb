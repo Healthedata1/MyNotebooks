{
 "cells": [
  {
   "cell_type": "code",
   "execution_count": 148,
   "metadata": {},
   "outputs": [],
   "source": [
    "mylist = []\n",
    "\n",
    "d = { 'a':1,\n",
    "     'foo':{\n",
    "      'a':2,\n",
    "     'foo':{\n",
    "        'a':3,\n",
    "     'foo': {\"a\":'bar'}}\n",
    "     }}\n",
    "\n",
    "    "
   ]
  },
  {
   "cell_type": "code",
   "execution_count": 149,
   "metadata": {},
   "outputs": [],
   "source": [
    "def get_d(d1, mylist):\n",
    "    \n",
    "    if d1:\n",
    "\n",
    "        mylist.append(d1)\n",
    "        get_d(d1.pop('foo',None),mylist)\n",
    "        return mylist\n",
    "        \n",
    "    else:\n",
    "        return mylist"
   ]
  },
  {
   "cell_type": "code",
   "execution_count": 150,
   "metadata": {},
   "outputs": [
    {
     "name": "stdout",
     "output_type": "stream",
     "text": [
      "[{'a': 1}, {'a': 2}, {'a': 3}, {'a': 'bar'}]\n"
     ]
    }
   ],
   "source": [
    "print(get_d(d, mylist))\n",
    "\n",
    "\n"
   ]
  },
  {
   "cell_type": "code",
   "execution_count": null,
   "metadata": {},
   "outputs": [],
   "source": []
  }
 ],
 "metadata": {
  "kernelspec": {
   "display_name": "Python 3",
   "language": "python",
   "name": "python3"
  },
  "language_info": {
   "codemirror_mode": {
    "name": "ipython",
    "version": 3
   },
   "file_extension": ".py",
   "mimetype": "text/x-python",
   "name": "python",
   "nbconvert_exporter": "python",
   "pygments_lexer": "ipython3",
   "version": "3.6.2"
  }
 },
 "nbformat": 4,
 "nbformat_minor": 2
}
