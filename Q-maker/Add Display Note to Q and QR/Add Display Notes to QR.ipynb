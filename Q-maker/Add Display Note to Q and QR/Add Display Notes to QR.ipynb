{
 "cells": [
  {
   "cell_type": "markdown",
   "metadata": {},
   "source": [
    "## Script to add display notes to FHIR Questionnaires\n",
    "\n",
    "- python version 3.7\n",
    "\n",
    "- upload example as python dict from file\n",
    "- create a list of python objects\n",
    "- add new display and extensions\n",
    "- write to ig folder as json with text elements\n",
    "- write to FHIR server as json without text elements"
   ]
  },
  {
   "cell_type": "code",
   "execution_count": null,
   "metadata": {},
   "outputs": [],
   "source": [
    "from json import load, dumps\n",
    "from flatten_json import flatten\n",
    "import pandas as pd\n",
    "from csv import writer\n",
    "import openpyxl\n",
    "from IPython import display as D\n",
    "from fhirclient.models import questionnaire as Q\n",
    "from fhirclient.models import questionnaireresponse as QR\n",
    "from fhirclient.models import patient as P\n",
    "from fhirclient.models import address as A\n",
    "from fhirclient.models import fhirdate as FD\n",
    "from fhirclient.models import extension as X\n",
    "from fhirclient.models import coding as C\n",
    "from fhirclient.models import fhirreference as FR\n",
    "from requests import get, post, put"
   ]
  },
  {
   "cell_type": "markdown",
   "metadata": {},
   "source": [
    "#### Open Questionnaires as python model"
   ]
  },
  {
   "cell_type": "code",
   "execution_count": null,
   "metadata": {},
   "outputs": [],
   "source": [
    "in_path = '/Users/ehaas/Documents/FHIR/Argo-Questionnaire/source/examples/'\n",
    "\n",
    "in_file = [\n",
    "           'questionnaire-example-audit-c',\n",
    "           'questionnaire-example-dast',\n",
    "           'questionnaire-example-housing',\n",
    "           'questionnaire-example-phq9',\n",
    "           'questionnaire-example-sampler'\n",
    "          ]\n",
    "\n",
    "\n",
    "def get_r(name): # get files\n",
    "    with open(f'{in_path}{name}.json') as f:\n",
    "        r = load(f)\n",
    "        return(Q.Questionnaire(r))\n",
    "   "
   ]
  },
  {
   "cell_type": "markdown",
   "metadata": {},
   "source": [
    "### get file and add to list for processing"
   ]
  },
  {
   "cell_type": "code",
   "execution_count": null,
   "metadata": {},
   "outputs": [],
   "source": [
    "q_list=[]\n",
    "for f in in_file:\n",
    "    print(f'==============={f}:================')\n",
    "    q_list.append(get_r(f))\n",
    "  "
   ]
  },
  {
   "cell_type": "markdown",
   "metadata": {},
   "source": [
    "### Instantiate designNote extension"
   ]
  },
  {
   "cell_type": "code",
   "execution_count": null,
   "metadata": {},
   "outputs": [],
   "source": [
    " \n",
    "hidden = 'http://hl7.org/fhir/StructureDefinition/questionnaire-hidden'\n",
    "display_note = 'this is hidden text/should not be displayed to the user'\n",
    "designNote = 'http://hl7.org/fhir/StructureDefinition/designNote'\n",
    "displayCategory = 'http://hl7.org/fhir/StructureDefinition/questionnaire-displayCategory'\n",
    "\n",
    "x = X.Extension(dict(\n",
    "                    url = designNote,\n",
    "                    valueMarkdown = display_note,\n",
    "                )\n",
    "               )\n"
   ]
  },
  {
   "cell_type": "code",
   "execution_count": null,
   "metadata": {},
   "outputs": [],
   "source": [
    "def add_x(item):\n",
    "     for e in item.extension:\n",
    "            if e.url == hidden:\n",
    "                print(f'=============== add design note to {item.linkId}================')\n",
    "                item.extension.append(x)\n",
    "                break\n"
   ]
  },
  {
   "cell_type": "markdown",
   "metadata": {},
   "source": [
    "###  add extension to Q\n",
    "\n",
    "- loop through files\n",
    "- loop through items to find hidden text\n",
    "- add extension to the item"
   ]
  },
  {
   "cell_type": "code",
   "execution_count": null,
   "metadata": {},
   "outputs": [],
   "source": [
    "for q in q_list:\n",
    "    print(q.id)\n",
    "    for i in q.item:\n",
    "        \n",
    "        try:\n",
    "            add_x(i)\n",
    "        except TypeError:\n",
    "             print('No hidden items')\n",
    "        try:\n",
    "            for j in i.item:\n",
    "                try:\n",
    "                    add_x(j)\n",
    "                except TypeError:\n",
    "                     print('No hidden items')\n",
    "                try:\n",
    "                    for k in j.item:\n",
    "                        try:\n",
    "                            add_x(k)\n",
    "                        except TypeError:\n",
    "                             print('No hidden items')\n",
    "                except TypeError:\n",
    "                     print('No sub items')\n",
    "        except TypeError:\n",
    "            print('No sub items')\n"
   ]
  },
  {
   "cell_type": "markdown",
   "metadata": {},
   "source": [
    "### Strip required for display items"
   ]
  },
  {
   "cell_type": "code",
   "execution_count": null,
   "metadata": {},
   "outputs": [],
   "source": [
    "for q in q_list:\n",
    "    print(q.id)\n",
    "    for i in q.item:\n",
    "        if i.required and i.type == 'display':\n",
    "            print(i.linkId,irequired,i.type)\n",
    "            i.required = None\n",
    "        try:\n",
    "            for j in i.item:\n",
    "                if j.required and j.type == 'display':\n",
    "                    print(j.linkId,j.required,j.type)\n",
    "                    j.required = None\n",
    "                try:\n",
    "                    for k in i.item:\n",
    "                        if k.required and k.type == 'display':\n",
    "                            print(k.linkId,k.required,j.type)\n",
    "                            k.required = None\n",
    "                except TypeError: \n",
    "                     print('No sub items')\n",
    "        except TypeError:\n",
    "            \n",
    "             print('No sub items')"
   ]
  },
  {
   "cell_type": "markdown",
   "metadata": {},
   "source": [
    "### Pretty print output"
   ]
  },
  {
   "cell_type": "code",
   "execution_count": null,
   "metadata": {},
   "outputs": [],
   "source": [
    "for q in q_list:\n",
    "    print(dumps(q.as_json(),indent =4))"
   ]
  },
  {
   "cell_type": "markdown",
   "metadata": {},
   "source": [
    "### Write to file"
   ]
  },
  {
   "cell_type": "code",
   "execution_count": 62,
   "metadata": {},
   "outputs": [],
   "source": [
    "out_path = '/Users/ehaas/Documents/FHIR/Argo-Questionnaire/source/examples/'\n",
    "#out_path = ''\n",
    "\n",
    "def write_file(path, name, data): # write file\n",
    "    with open(f'{path}{name}.json', 'w') as f:\n",
    "        f.write(data)\n",
    "        \n",
    "for q in q_list:\n",
    "    write_file(path=out_path,name = f'{q.id}',data = dumps(q.as_json(), indent = 4))\n"
   ]
  },
  {
   "cell_type": "markdown",
   "metadata": {},
   "source": [
    "\n",
    "### Validate the Resource\n",
    "Using the $validate operation, the example is validated by a FHIR Reference Server. The results are displayed below in the human readable text as xhtml.\n",
    "\n"
   ]
  },
  {
   "cell_type": "code",
   "execution_count": null,
   "metadata": {},
   "outputs": [],
   "source": [
    "val_server = 'http://fhirtest.uhn.ca/baseDstu3'\n",
    "fhir_test_server = 'http://sqlonfhir-stu3.azurewebsites.net/fhir'\n",
    "\n",
    "headers = {\n",
    "'Accept':'application/fhir+json',\n",
    "'Content-Type':'application/fhir+json'\n",
    "}\n",
    "\n",
    "profile = 'http://fhir.org/guides/argonaut-questionnaire/StructureDefinition/qr'\n",
    "\n",
    "\n",
    "# *********************** validate Resource ********************************\n",
    "def validate(pyfhir):\n",
    "    params = {\n",
    "    'profile': profile\n",
    "    }\n",
    "    #   r = requests.post('https://httpbin.org/post', data = {'key':'value'})\n",
    "    r = post(\n",
    "        f'{val_server}/{pyfhir.resource_type}/$validate',\n",
    "        params = params,\n",
    "        headers = headers,\n",
    "        data = dumps(pyfhir.as_json())\n",
    "        )\n",
    "    # print(r.status_code)\n",
    "    # view  output\n",
    "    return r.json()[\"text\"][\"div\"]\n",
    "\n",
    "display(D.HTML(f'<h1>Validation output</h1>{validate(qr)}'))    "
   ]
  },
  {
   "cell_type": "markdown",
   "metadata": {},
   "source": [
    "TODO:\n",
    "\n",
    "- run in rendering-tool\n",
    "- change to timelimit to timeLimit\n",
    "- not part of QR - edit this out\n",
    "- udpate comments change impossible to difficult"
   ]
  },
  {
   "cell_type": "code",
   "execution_count": null,
   "metadata": {},
   "outputs": [],
   "source": []
  }
 ],
 "metadata": {
  "kernelspec": {
   "display_name": "Python 3",
   "language": "python",
   "name": "python3"
  },
  "language_info": {
   "codemirror_mode": {
    "name": "ipython",
    "version": 3
   },
   "file_extension": ".py",
   "mimetype": "text/x-python",
   "name": "python",
   "nbconvert_exporter": "python",
   "pygments_lexer": "ipython3",
   "version": "3.7.3"
  }
 },
 "nbformat": 4,
 "nbformat_minor": 2
}
