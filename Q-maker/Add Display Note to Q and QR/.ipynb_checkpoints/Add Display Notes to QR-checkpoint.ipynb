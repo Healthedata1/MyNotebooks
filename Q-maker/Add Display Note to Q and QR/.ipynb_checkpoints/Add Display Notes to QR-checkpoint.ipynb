{
 "cells": [
  {
   "cell_type": "markdown",
   "metadata": {},
   "source": [
    "## Script to add new extensions to FHIR Questionnaires\n",
    "\n",
    "- python version 3.6+\n",
    "\n",
    "- upload example as python dict from file\n",
    "- add new extensions\n",
    "- write to ig folder as json with text elements\n",
    "- write to FHIR server as json without text elements"
   ]
  },
  {
   "cell_type": "code",
   "execution_count": 28,
   "metadata": {},
   "outputs": [],
   "source": [
    "from json import load, dumps\n",
    "from flatten_json import flatten\n",
    "import pandas as pd\n",
    "from csv import writer\n",
    "import openpyxl\n",
    "from IPython import display as D\n",
    "from fhirclient.models import questionnaireresponse as QR\n",
    "from fhirclient.models import patient as P\n",
    "from fhirclient.models import address as A\n",
    "from fhirclient.models import fhirdate as FD\n",
    "from fhirclient.models import extension as X\n",
    "from fhirclient.models import coding as C\n",
    "from fhirclient.models import fhirreference as FR\n",
    "from requests import get, post, put"
   ]
  },
  {
   "cell_type": "markdown",
   "metadata": {},
   "source": [
    "### created de-identified patient for this example"
   ]
  },
  {
   "cell_type": "code",
   "execution_count": 29,
   "metadata": {},
   "outputs": [
    {
     "data": {
      "text/plain": [
       "{'id': 'deid-p',\n",
       " 'address': [{'postalCode': '945'}],\n",
       " 'birthDate': '1969',\n",
       " 'gender': 'male',\n",
       " 'resourceType': 'Patient'}"
      ]
     },
     "execution_count": 29,
     "metadata": {},
     "output_type": "execute_result"
    }
   ],
   "source": [
    "p = P.Patient()\n",
    "p.id = 'deid-p'\n",
    "p.as_json()\n",
    "p.birthDate = FD.FHIRDate('1969')\n",
    "p.gender = 'male'\n",
    "\n",
    "p.address = [A.Address(dict(\n",
    "                            postalCode = '945'\n",
    "                           )              \n",
    "                      )]\n",
    "\n",
    "p.as_json()"
   ]
  },
  {
   "cell_type": "markdown",
   "metadata": {},
   "source": [
    "#### Add race extension"
   ]
  },
  {
   "cell_type": "code",
   "execution_count": 30,
   "metadata": {},
   "outputs": [
    {
     "data": {
      "text/plain": [
       "{'id': 'deid-p',\n",
       " 'extension': [{'extension': [{'url': 'text', 'valueString': 'Asian'},\n",
       "    {'url': 'ombCategory',\n",
       "     'valueCoding': {'code': 'asian',\n",
       "      'display': 'Asian',\n",
       "      'system': 'urn:oid:2.16.840.1.113883.6.238'}}],\n",
       "   'url': 'http://hl7.org/fhir/us/core/StructureDefinition/us-core-race'}],\n",
       " 'address': [{'postalCode': '945'}],\n",
       " 'birthDate': '1969',\n",
       " 'gender': 'male',\n",
       " 'resourceType': 'Patient'}"
      ]
     },
     "execution_count": 30,
     "metadata": {},
     "output_type": "execute_result"
    }
   ],
   "source": [
    "sys = 'urn:oid:2.16.840.1.113883.6.238'\n",
    "dis = 'Asian'\n",
    "url = 'http://hl7.org/fhir/us/core/StructureDefinition/us-core-race'  # canonical url for race\n",
    "\n",
    "r = X.Extension()\n",
    "r.url = url\n",
    "r.extension =[]\n",
    "\n",
    "r_text = X.Extension()\n",
    "r_text.url = 'text'  # url for \"subextension\"\n",
    "r_text.valueString = dis  # use display\n",
    "r.extension.append(r_text)\n",
    "\n",
    "r_ombcat = X.Extension()\n",
    "ombcat = C.Coding(dict(\n",
    "system = sys,\n",
    "code = dis.lower(),\n",
    "display = dis\n",
    "))\n",
    "r_ombcat.url = 'ombCategory'  # url for \"subextension\" \n",
    "r_ombcat.valueCoding = ombcat\n",
    "r.extension.append(r_ombcat)\n",
    "\n",
    "p.extension = [r]\n",
    "p.as_json()"
   ]
  },
  {
   "cell_type": "markdown",
   "metadata": {},
   "source": [
    "### Add *Contained* Patient to QR"
   ]
  },
  {
   "cell_type": "markdown",
   "metadata": {},
   "source": [
    "#### Open Questionnaires as DICT files"
   ]
  },
  {
   "cell_type": "code",
   "execution_count": 31,
   "metadata": {},
   "outputs": [
    {
     "data": {
      "text/plain": [
       "{'id': 'questionnaireresponse-example-sampler-contained-patient',\n",
       " 'meta': {'profile': ['http://fhir.org/guides/argonaut-questionnaire/StructureDefinition/argo-questionnaireresponse']},\n",
       " 'contained': [{'id': 'deid-p',\n",
       "   'extension': [{'extension': [{'url': 'text', 'valueString': 'Asian'},\n",
       "      {'url': 'ombCategory',\n",
       "       'valueCoding': {'code': 'asian',\n",
       "        'display': 'Asian',\n",
       "        'system': 'urn:oid:2.16.840.1.113883.6.238'}}],\n",
       "     'url': 'http://hl7.org/fhir/us/core/StructureDefinition/us-core-race'}],\n",
       "   'address': [{'postalCode': '945'}],\n",
       "   'birthDate': '1969',\n",
       "   'gender': 'male',\n",
       "   'resourceType': 'Patient'}],\n",
       " 'extension': [{'url': 'http://fhir.org/guides/argonaut-questionnaire/StructureDefinition/extension-responsePeriod',\n",
       "   'valuePeriod': {'end': '2019-02-13T00:39:38.320181Z',\n",
       "    'start': '2019-02-13T00:37:27.524361Z'}}],\n",
       " 'text': {'div': '<div xmlns=\"http://www.w3.org/1999/xhtml\">\\n    <h3>Response Summary</h3>\\n    <strong>Questionnaire URL:</strong> http://fhir.org/guides/argonaut-questionnaire/Questionnaire/questionnaire-example-sampler<br />\\n    <strong>Date Completed:</strong> 2019-02-13T00:39:38.320181Z<br />\\n    <hr /> <br /><strong>The Argonaut Questionnaire Sampler is designed to show all the question types that can be used in the Argonaut Questionnaire Project:\\n\\n1 boolean\\n2 decimal\\n3 integer\\n4 dateDate\\n5 dateTime\\n6 timeTime\\n7 string\\n8 textText\\n9 urlUrl\\n10 choice\\n11 open-choice\\n12 quantity\\n</strong><br /><br /> <strong>Question:</strong> (linkID=g2.q1) Check the box if the following statement is true.  The average air speed velocity of a laden European swallow is greater than a laden African swallow.<br /><strong>Response:</strong> False<br /><br /> <strong>Question:</strong> (linkID=g3.q1) What is the average air speed velocity of a laden swallow in m/sec?<br /><strong>Response:</strong> 11.0<br /><br /> <strong>Question:</strong> (linkID=g4.q1) What is the average air speed velocity of a laden swallow in m/sec?<br /><strong>Response:</strong> 11<br /><br /> <strong>Question:</strong> (linkID=g5.q1) If a laden swallow left Camelot on 7/5/2018 what day would it reach the Castle Anthrax?<br /><strong>Response:</strong> 2019-12-31<br /><br /> <strong>Question:</strong> (linkID=g6.q1) If a laden swallow left Camelot on 7/5/2018 and noon when would it reach Castle Anthrax?<br /><strong>Response:</strong> 2019-02-13T12:59<br /><br /> <strong>Question:</strong> (linkID=g7.q1) If a laden swallow left Camelot at noon what time would it reach Castle Anthrax?<br /><strong>Response:</strong> 12:59<br /><br /> <strong>Question:</strong> (linkID=g8.q1) Describe how to estimate the average air speed velocity of a laden swallow in 20 words or less.<br /><strong>Response:</strong> use a duck?<br /><br /> <strong>Question:</strong> (linkID=g9.q1) Describe in detal how to estimate the average air speed velocity of a laden swallow. Please cite your sources and give examples.<br /><strong>Response:</strong> use a duck!!  See https://en.wikipedia.org/wiki/Monty_Python_and_the_Holy_Grail<br /><br /> <strong>Question:</strong> (linkID=g10.q1) Provide a link to a video clip where the average air speed velocity of a laden swallow question is discussed.<br /><strong>Response:</strong> https://en.wikipedia.org/wiki/Monty_Python_and_the_Holy_Grail<br /><br /> <strong>Question:</strong> (linkID=g11.q1) What is the average air speed velocity of a laden swallow in m/sec?<br /><strong>Response:</strong> 11<br /><br /> <strong>Question:</strong> (linkID=g12.q1) What is the average air speed velocity of a laden swallow in m/sec?<br /><strong>Response:</strong> 11<br /><strong>Response:</strong> <br /><br /> <strong>Question:</strong> (linkID=g13.q1) What is the average air speed velocity of a laden swallow - please provide the units?<br /><strong>Response:</strong> 11<br /><strong>Response:</strong> m/sec<br /> <br /><br />\\n    </div>',\n",
       "  'status': 'generated'},\n",
       " 'author': {'reference': 'Practitioner/prov-admin1'},\n",
       " 'authored': '2019-02-13T00:39:38.320181Z',\n",
       " 'context': {'reference': 'Encounter/encounter1'},\n",
       " 'identifier': {'value': 'questionnaireresponse-example-sampler'},\n",
       " 'item': [{'item': [{'linkId': 'g1.d',\n",
       "     'text': 'The Argonaut Questionnaire Sampler is designed to show all the question types that can be used in the Argonaut Questionnaire Project:\\n\\n1 boolean\\n2 decimal\\n3 integer\\n4 dateDate\\n5 dateTime\\n6 timeTime\\n7 string\\n8 textText\\n9 urlUrl\\n10 choice\\n11 open-choice\\n12 quantity\\n'}],\n",
       "   'linkId': 'g1',\n",
       "   'text': 'Header Text'},\n",
       "  {'item': [{'answer': [{'valueBoolean': False}],\n",
       "     'linkId': 'g2.q1',\n",
       "     'text': 'Check the box if the following statement is true.  The average air speed velocity of a laden European swallow is greater than a laden African swallow.'}],\n",
       "   'linkId': 'g2',\n",
       "   'text': 'boolean'},\n",
       "  {'item': [{'answer': [{'valueDecimal': 11.0}],\n",
       "     'linkId': 'g3.q1',\n",
       "     'text': 'What is the average air speed velocity of a laden swallow in m/sec?'}],\n",
       "   'linkId': 'g3',\n",
       "   'text': 'decimal'},\n",
       "  {'item': [{'answer': [{'valueInteger': 11}],\n",
       "     'linkId': 'g4.q1',\n",
       "     'text': 'What is the average air speed velocity of a laden swallow in m/sec?'}],\n",
       "   'linkId': 'g4',\n",
       "   'text': 'integer'},\n",
       "  {'item': [{'answer': [{'valueDate': '2019-12-31'}],\n",
       "     'linkId': 'g5.q1',\n",
       "     'text': 'If a laden swallow left Camelot on 7/5/2018 what day would it reach the Castle Anthrax?'}],\n",
       "   'linkId': 'g5',\n",
       "   'text': 'date'},\n",
       "  {'item': [{'answer': [{'valueDateTime': '2019-02-13T12:59'}],\n",
       "     'linkId': 'g6.q1',\n",
       "     'text': 'If a laden swallow left Camelot on 7/5/2018 and noon when would it reach Castle Anthrax?'}],\n",
       "   'linkId': 'g6',\n",
       "   'text': 'dateTime'},\n",
       "  {'item': [{'answer': [{'valueTime': '12:59'}],\n",
       "     'linkId': 'g7.q1',\n",
       "     'text': 'If a laden swallow left Camelot at noon what time would it reach Castle Anthrax?'}],\n",
       "   'linkId': 'g7',\n",
       "   'text': 'time'},\n",
       "  {'item': [{'answer': [{'valueString': 'use a duck?'}],\n",
       "     'linkId': 'g8.q1',\n",
       "     'text': 'Describe how to estimate the average air speed velocity of a laden swallow in 20 words or less.'}],\n",
       "   'linkId': 'g8',\n",
       "   'text': 'string'},\n",
       "  {'item': [{'answer': [{'valueString': 'use a duck!!  See https://en.wikipedia.org/wiki/Monty_Python_and_the_Holy_Grail'}],\n",
       "     'linkId': 'g9.q1',\n",
       "     'text': 'Describe in detal how to estimate the average air speed velocity of a laden swallow. Please cite your sources and give examples.'}],\n",
       "   'linkId': 'g9',\n",
       "   'text': 'text'},\n",
       "  {'item': [{'answer': [{'valueUri': 'https://en.wikipedia.org/wiki/Monty_Python_and_the_Holy_Grail'}],\n",
       "     'linkId': 'g10.q1',\n",
       "     'text': 'Provide a link to a video clip where the average air speed velocity of a laden swallow question is discussed.'}],\n",
       "   'linkId': 'g10',\n",
       "   'text': 'url'},\n",
       "  {'item': [{'answer': [{'valueString': '11'}],\n",
       "     'linkId': 'g11.q1',\n",
       "     'text': 'What is the average air speed velocity of a laden swallow in m/sec?'}],\n",
       "   'linkId': 'g11',\n",
       "   'text': 'choice'},\n",
       "  {'item': [{'answer': [{'valueString': '11'}, {'valueString': ''}],\n",
       "     'linkId': 'g12.q1',\n",
       "     'text': 'What is the average air speed velocity of a laden swallow in m/sec?'}],\n",
       "   'linkId': 'g12',\n",
       "   'text': 'open-choice'},\n",
       "  {'item': [{'answer': [{'valueString': '11'}, {'valueString': 'm/sec'}],\n",
       "     'linkId': 'g13.q1',\n",
       "     'text': 'What is the average air speed velocity of a laden swallow - please provide the units?'}],\n",
       "   'linkId': 'g13',\n",
       "   'text': 'quantity'}],\n",
       " 'questionnaire': {'reference': 'http://fhir.org/guides/argonaut-questionnaire/Questionnaire/questionnaire-example-sampler'},\n",
       " 'source': {'reference': 'Patient/subject1'},\n",
       " 'status': 'completed',\n",
       " 'subject': {'reference': '#deid-p'},\n",
       " 'resourceType': 'QuestionnaireResponse'}"
      ]
     },
     "execution_count": 31,
     "metadata": {},
     "output_type": "execute_result"
    }
   ],
   "source": [
    "in_path = '/Users/ehaas/Documents/FHIR/Argo-Questionnaire/source/examples/'\n",
    "\n",
    "#in_file = ['ASQ3','AUDIT','DAST','Housing','PHQ9','Sampler']\n",
    "in_file = 'questionnaireresponse-example-sampler'\n",
    "\n",
    "def get_r(name): # get files\n",
    "    with open(f'{in_path}{name}.json') as f:\n",
    "        r = load(f)\n",
    "        return(QR.QuestionnaireResponse(r))\n",
    "    \n",
    "\n",
    "qr = get_r(in_file)\n",
    "qr.id = f'{qr.id}-contained-patient'\n",
    "qr.contained = [p]\n",
    "qr.subject = FR.FHIRReference(dict(\n",
    "    reference = f'#{p.id}'\n",
    "))\n",
    "qr.as_json()"
   ]
  },
  {
   "cell_type": "markdown",
   "metadata": {},
   "source": [
    "\n",
    "### Validate the Resource\n",
    "Using the $validate operation, the example is validated by a FHIR Reference Server. The results are displayed below in the human readable text as xhtml.\n",
    "\n"
   ]
  },
  {
   "cell_type": "code",
   "execution_count": 32,
   "metadata": {},
   "outputs": [
    {
     "data": {
      "text/html": [
       "<h1>Validation output</h1><div xmlns=\"http://www.w3.org/1999/xhtml\"><h1>Operation Outcome</h1><table border=\"0\"><tr><td style=\"font-weight: bold;\">ERROR</td><td>[]</td><td><pre>Failed to parse request body as JSON resource. Error was: Invalid attribute value \"2019-02-13T12:59\": Invalid date/time string (datatype DateTimeType does not support MINUTE precision): 2019-02-13T12:59</pre></td>\n",
       "\t\t\t\t\t\n",
       "\t\t\t\t\n",
       "\t\t\t</tr>\n",
       "\t\t</table>\n",
       "\t</div>"
      ],
      "text/plain": [
       "<IPython.core.display.HTML object>"
      ]
     },
     "metadata": {},
     "output_type": "display_data"
    }
   ],
   "source": [
    "val_server = 'http://fhirtest.uhn.ca/baseDstu3'\n",
    "fhir_test_server = 'http://sqlonfhir-stu3.azurewebsites.net/fhir'\n",
    "\n",
    "headers = {\n",
    "'Accept':'application/fhir+json',\n",
    "'Content-Type':'application/fhir+json'\n",
    "}\n",
    "\n",
    "profile = 'http://fhir.org/guides/argonaut-questionnaire/StructureDefinition/qr'\n",
    "\n",
    "\n",
    "# *********************** validate Resource ********************************\n",
    "def validate(pyfhir):\n",
    "    params = {\n",
    "    'profile': profile\n",
    "    }\n",
    "    #   r = requests.post('https://httpbin.org/post', data = {'key':'value'})\n",
    "    r = post(\n",
    "        f'{val_server}/{pyfhir.resource_type}/$validate',\n",
    "        params = params,\n",
    "        headers = headers,\n",
    "        data = dumps(pyfhir.as_json())\n",
    "        )\n",
    "    # print(r.status_code)\n",
    "    # view  output\n",
    "    return r.json()[\"text\"][\"div\"]\n",
    "\n",
    "display(D.HTML(f'<h1>Validation output</h1>{validate(qr)}'))    "
   ]
  },
  {
   "cell_type": "markdown",
   "metadata": {},
   "source": [
    "### Write to file"
   ]
  },
  {
   "cell_type": "code",
   "execution_count": 33,
   "metadata": {},
   "outputs": [],
   "source": [
    "out_path = '/Users/ehaas/Documents/FHIR/Argo-Questionnaire/source/examples/'\n",
    "\n",
    "def write_file(path, name, data): # write file\n",
    "    with open(f'{path}{name}.json', 'w') as f:\n",
    "        f.write(data)\n",
    "        \n",
    "write_file(path=out_path,name = f'{qr.id}',data = dumps(qr.as_json(), indent = 3))\n"
   ]
  },
  {
   "cell_type": "markdown",
   "metadata": {},
   "source": [
    "TODO:\n",
    "\n",
    "- run in rendering-tool\n",
    "- change to timelimit to timeLimit\n",
    "- not part of QR - edit this out\n",
    "- udpate comments change impossible to difficult"
   ]
  },
  {
   "cell_type": "code",
   "execution_count": null,
   "metadata": {},
   "outputs": [],
   "source": []
  }
 ],
 "metadata": {
  "kernelspec": {
   "display_name": "Python 3",
   "language": "python",
   "name": "python3"
  },
  "language_info": {
   "codemirror_mode": {
    "name": "ipython",
    "version": 3
   },
   "file_extension": ".py",
   "mimetype": "text/x-python",
   "name": "python",
   "nbconvert_exporter": "python",
   "pygments_lexer": "ipython3",
   "version": "3.6.2"
  }
 },
 "nbformat": 4,
 "nbformat_minor": 2
}
