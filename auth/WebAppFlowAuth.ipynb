{
 "cells": [
  {
   "cell_type": "markdown",
   "metadata": {},
   "source": [
    "## Web Application Flow"
   ]
  },
  {
   "cell_type": "markdown",
   "metadata": {},
   "source": [
    "Obtain credentials from your OAuth provider manually. At minimum you will need a client_id but likely also a client_secret. During this process you might also be required to register a default redirect URI to be used by your application. Save these things in your Python script:"
   ]
  },
  {
   "cell_type": "code",
   "execution_count": 29,
   "metadata": {},
   "outputs": [],
   "source": [
    "from requests_oauthlib import OAuth2Session\n",
    "from requests import get, post\n",
    "from urllib import parse\n",
    "from json import dumps\n",
    "from pprint import pprint\n",
    "from IPython.display import display as Display, HTML, Markdown\n",
    "import os\n",
    "from pathlib import Path\n",
    "os.environ['OAUTHLIB_INSECURE_TRANSPORT'] = 'true'"
   ]
  },
  {
   "cell_type": "code",
   "execution_count": 30,
   "metadata": {},
   "outputs": [],
   "source": [
    "client_id = 'ea1544df-3cb1-4b97-8c24-4f69142a2d71'\n",
    "client_secret = 'my_secret'\n",
    "redirect_uri = 'http://localhost/my/endpoint'\n",
    "auth_url ='https://authorization.sandboxcerner.com/tenants/0b8a0111-e8e6-4c26-a91c-5069cbc6b1ca/protocols/oauth2/profiles/smart-v1/personas/provider/authorize'\n",
    "aud='https://fhir-ehr.sandboxcerner.com/r4/0b8a0111-e8e6-4c26-a91c-5069cbc6b1ca'\n",
    "access_token_url = 'https://authorization.sandboxcerner.com/tenants/0b8a0111-e8e6-4c26-a91c-5069cbc6b1ca/protocols/oauth2/profiles/smart-v1/token'"
   ]
  },
  {
   "cell_type": "markdown",
   "metadata": {},
   "source": [
    "### Invoke the authorization workflow using requests_oauthlib OAuth2Session\n",
    "\n",
    "- set up the GET Authorization code encoded url\n",
    "- manually fetch the code and status from your web browser\n",
    "  should return something like this in the browser bar:\n",
    "  \n",
    "  `http://localhost/my/endpoint?code=78e3d6c1-9cfa-4a70-a9e9-83bce941ac29&state=7cVNUZbK5WY9m8SyuOTwBrfHfVlh6t`\n",
    "- enter the code and status in input boxes below...\n"
   ]
  },
  {
   "cell_type": "code",
   "execution_count": 31,
   "metadata": {},
   "outputs": [
    {
     "data": {
      "text/markdown": [
       "**Please go to:** <br />                    [this authorization endpoint](https://authorization.sandboxcerner.com/tenants/0b8a0111-e8e6-4c26-a91c-5069cbc6b1ca/protocols/oauth2/profiles/smart-v1/personas/provider/authorize?response_type=code&client_id=ea1544df-3cb1-4b97-8c24-4f69142a2d71&redirect_uri=http%3A%2F%2Flocalhost%2Fmy%2Fendpoint&scope=user%2FCapabilityStatement.read+user%2FAllergyIntolerance.read+user%2FAppointment.read+user%2FEncounter.read+user%2FPatient.read+user%2FPractitioner.read+user%2FRelatedPerson.read+user%2FAppointment.write+user%2FEncounter.write+user%2FPatient.write&state=0rVe3W4D95MSyIUjm6wzIeNBsI4cQK&aud=https%3A%2F%2Ffhir-ehr.sandboxcerner.com%2Fr4%2F0b8a0111-e8e6-4c26-a91c-5069cbc6b1ca) <br />                 **and authorize access.**"
      ],
      "text/plain": [
       "<IPython.core.display.Markdown object>"
      ]
     },
     "metadata": {},
     "output_type": "display_data"
    },
    {
     "name": "stdin",
     "output_type": "stream",
     "text": [
      "enter the url response from the browser bar http://localhost/my/endpoint?code=c758337c-3faf-4fd5-8840-189f0ba65dd8&state=0rVe3W4D95MSyIUjm6wzIeNBsI4cQK\n"
     ]
    }
   ],
   "source": [
    "scope = [\"user/CapabilityStatement.read\",\n",
    "            \"user/AllergyIntolerance.read\",\n",
    "            \"user/Appointment.read\",\n",
    "            \"user/Encounter.read\",\n",
    "            \"user/Patient.read\",\n",
    "            \"user/Practitioner.read\",\n",
    "            \"user/RelatedPerson.read\",\n",
    "            \"user/Appointment.write\",\n",
    "            \"user/Encounter.write\",\n",
    "            \"user/Patient.write\",]\n",
    "\n",
    "oauth = OAuth2Session(client_id, redirect_uri=redirect_uri,scope=scope)\n",
    "\n",
    "authorization_url, state = oauth.authorization_url(auth_url,\n",
    "                                                  aud=aud)\n",
    "\n",
    "Display(Markdown(f'**Please go to:** <br />\\\n",
    "                    [this authorization endpoint]({authorization_url}) <br />\\\n",
    "                 **and authorize access.**'))\n",
    "response_url = input('enter the url response from the browser bar')"
   ]
  },
  {
   "cell_type": "markdown",
   "metadata": {},
   "source": [
    "### parse out the authorization code and state from the response url"
   ]
  },
  {
   "cell_type": "code",
   "execution_count": 32,
   "metadata": {},
   "outputs": [
    {
     "data": {
      "text/plain": [
       "'c758337c-3faf-4fd5-8840-189f0ba65dd8'"
      ]
     },
     "execution_count": 32,
     "metadata": {},
     "output_type": "execute_result"
    }
   ],
   "source": [
    "authorization_code=parse.parse_qs(parse.urlparse(response_url).query)['code'][0]\n",
    "authorization_code"
   ]
  },
  {
   "cell_type": "code",
   "execution_count": 33,
   "metadata": {},
   "outputs": [
    {
     "data": {
      "text/plain": [
       "'0rVe3W4D95MSyIUjm6wzIeNBsI4cQK'"
      ]
     },
     "execution_count": 33,
     "metadata": {},
     "output_type": "execute_result"
    }
   ],
   "source": [
    "state=parse.parse_qs(parse.urlparse(response_url).query)['state'][0]\n",
    "state"
   ]
  },
  {
   "cell_type": "markdown",
   "metadata": {},
   "source": [
    "### Get Access token using the authorization code\n",
    "\n",
    "-  POST a request to the token endpoint by sending these\n",
    "   parameters using the \"application/x-www-form-urlencoded\":\n",
    "   - grant_type='authorization_code',\n",
    "     - code=authorization_code,\n",
    "     - client_id=client_id,\n",
    "     - state=state,\n",
    "     - redirect_uri = 'http://localhost/my/endpoint',"
   ]
  },
  {
   "cell_type": "code",
   "execution_count": 34,
   "metadata": {},
   "outputs": [
    {
     "name": "stdout",
     "output_type": "stream",
     "text": [
      "200\n",
      "https://authorization.sandboxcerner.com/tenants/0b8a0111-e8e6-4c26-a91c-5069cbc6b1ca/protocols/oauth2/profiles/smart-v1/token\n",
      "User-Agent=python-requests/2.21.0\n",
      "Accept-Encoding=gzip, deflate\n",
      "Accept=application/json\n",
      "Connection=keep-alive\n",
      "Content-Type=application/x-www-form-urlencoded\n",
      "Content-Length=207\n",
      "grant_type=authorization_code&code=c758337c-3faf-4fd5-8840-189f0ba65dd8&client_id=ea1544df-3cb1-4b97-8c24-4f69142a2d71&state=0rVe3W4D95MSyIUjm6wzIeNBsI4cQK&redirect_uri=http%3A%2F%2Flocalhost%2Fmy%2Fendpoint\n",
      "{\n",
      "    \"access_token\": \"eyJraWQiOiIyMDE5LTA3LTE5VDIzOjQ3OjQwLjY0NC5lYyIsInR5cCI6IkpXVCIsImFsZyI6IkVTMjU2In0.eyJzdWIiOiJwb3J0YWwiLCJ1cm46Y29tOmNlcm5lcjphdXRob3JpemF0aW9uOmNsYWltcyI6eyJ2ZXIiOiIxLjAiLCJ0bnQiOiIwYjhhMDExMS1lOGU2LTRjMjYtYTkxYy01MDY5Y2JjNmIxY2EiLCJhenMiOiJ1c2VyXC9DYXBhYmlsaXR5U3RhdGVtZW50LnJlYWQgdXNlclwvQWxsZXJneUludG9sZXJhbmNlLnJlYWQgdXNlclwvQXBwb2ludG1lbnQucmVhZCB1c2VyXC9FbmNvdW50ZXIucmVhZCB1c2VyXC9QYXRpZW50LnJlYWQgdXNlclwvUHJhY3RpdGlvbmVyLnJlYWQgdXNlclwvUmVsYXRlZFBlcnNvbi5yZWFkIn0sImF6cCI6ImVhMTU0NGRmLTNjYjEtNGI5Ny04YzI0LTRmNjkxNDJhMmQ3MSIsImlzcyI6Imh0dHBzOlwvXC9hdXRob3JpemF0aW9uLnNhbmRib3hjZXJuZXIuY29tXC8iLCJleHAiOjE1NjM2MDA1MjMsImlhdCI6MTU2MzU5OTkyMywianRpIjoiMGIyMzJhNDUtOGE2NS00ZjBhLTg1NGQtNzc5YzU4OWYzODJhIiwidXJuOmNlcm5lcjphdXRob3JpemF0aW9uOmNsYWltczp2ZXJzaW9uOjEiOnsidmVyIjoiMS4wIiwicHJvZmlsZXMiOnsic21hcnQtdjEiOnsiYXpzIjoidXNlclwvQ2FwYWJpbGl0eVN0YXRlbWVudC5yZWFkIHVzZXJcL0FsbGVyZ3lJbnRvbGVyYW5jZS5yZWFkIHVzZXJcL0FwcG9pbnRtZW50LnJlYWQgdXNlclwvRW5jb3VudGVyLnJlYWQgdXNlclwvUGF0aWVudC5yZWFkIHVzZXJcL1ByYWN0aXRpb25lci5yZWFkIHVzZXJcL1JlbGF0ZWRQZXJzb24ucmVhZCJ9fSwiY2xpZW50Ijp7Im5hbWUiOiJKdXB5dGVyIiwiaWQiOiJlYTE1NDRkZi0zY2IxLTRiOTctOGMyNC00ZjY5MTQyYTJkNzEifSwidXNlciI6eyJwcmluY2lwYWwiOiJwb3J0YWwiLCJwZXJzb25hIjoicHJvdmlkZXIiLCJpZHNwIjoiMGI4YTAxMTEtZThlNi00YzI2LWE5MWMtNTA2OWNiYzZiMWNhIiwic2Vzc2lvbl9pZCI6IjY1M2RhODNhLWUxNGEtNDg1MS1iNzA4LWQyZTdjN2RiNGJmMyIsInByaW5jaXBhbFR5cGUiOiJVTkRFRklORUQiLCJwcmluY2lwYWxVcmkiOiJodHRwczpcL1wvbWlsbGVubmlhLnNhbmRib3hjZXJuZXIuY29tXC9pbnN0YW5jZVwvMGI4YTAxMTEtZThlNi00YzI2LWE5MWMtNTA2OWNiYzZiMWNhXC9wcmluY2lwYWxcLzAwMDAuMDAwMC4wMDQ0LjFEODciLCJpZHNwVXJpIjoiaHR0cHM6XC9cL21pbGxlbm5pYS5zYW5kYm94Y2VybmVyLmNvbVwvYWNjb3VudHNcL2ZoaXJwbGF5LnRlbXBfcmhvLmNlcm5lcmFzcC5jb21cLzBiOGEwMTExLWU4ZTYtNGMyNi1hOTFjLTUwNjljYmM2YjFjYVwvbG9naW4ifSwidGVuYW50IjoiMGI4YTAxMTEtZThlNi00YzI2LWE5MWMtNTA2OWNiYzZiMWNhIn19.aGthuydUznaqEUicYQA1YYiImML8XO7zpvv0ZQIswLxQzKJYWclk-eTs9EEB_qbH2rhQsnR1fLdvMHRaOJY6gg\",\n",
      "    \"scope\": \"user/CapabilityStatement.read user/AllergyIntolerance.read user/Appointment.read user/Encounter.read user/Patient.read user/Practitioner.read user/RelatedPerson.read\",\n",
      "    \"token_type\": \"Bearer\",\n",
      "    \"expires_in\": 570\n",
      "}\n"
     ]
    }
   ],
   "source": [
    "headers = {\n",
    "        'Accept': 'application/json',\n",
    "        'Content-Type': 'application/x-www-form-urlencoded',\n",
    "        }\n",
    "             \n",
    "body = dict(\n",
    "        grant_type='authorization_code',\n",
    "        code=authorization_code,\n",
    "        client_id=client_id,\n",
    "        state=state,\n",
    "        redirect_uri = 'http://localhost/my/endpoint',\n",
    "            )\n",
    "\n",
    "r=post(access_token_url,headers=headers,data=body)\n",
    "print(r.status_code)\n",
    "print(r.request.url)\n",
    "for k,v in r.request.headers.items():\n",
    "    print(f'{k}={v}')\n",
    "print(r.request.body)    \n",
    "print(dumps(r.json(), indent=4))\n"
   ]
  },
  {
   "cell_type": "markdown",
   "metadata": {},
   "source": [
    "### copy access token to file"
   ]
  },
  {
   "cell_type": "code",
   "execution_count": 36,
   "metadata": {},
   "outputs": [
    {
     "name": "stdout",
     "output_type": "stream",
     "text": [
      "writing to examples folder......\n"
     ]
    }
   ],
   "source": [
    "p = Path(r'../Validator_Tools/bearer.py')\n",
    "#print(p)\n",
    "p.write_text(f\"bearer='{r.json()['token_type']} {r.json()['access_token']}'\", encoding='utf-8')\n",
    "print('writing to examples folder......')"
   ]
  },
  {
   "cell_type": "code",
   "execution_count": null,
   "metadata": {},
   "outputs": [],
   "source": []
  }
 ],
 "metadata": {
  "kernelspec": {
   "display_name": "Python 3",
   "language": "python",
   "name": "python3"
  },
  "language_info": {
   "codemirror_mode": {
    "name": "ipython",
    "version": 3
   },
   "file_extension": ".py",
   "mimetype": "text/x-python",
   "name": "python",
   "nbconvert_exporter": "python",
   "pygments_lexer": "ipython3",
   "version": "3.7.3"
  }
 },
 "nbformat": 4,
 "nbformat_minor": 2
}
