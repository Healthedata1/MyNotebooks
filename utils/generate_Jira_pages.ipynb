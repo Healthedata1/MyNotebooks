{
 "cells": [
  {
   "cell_type": "markdown",
   "metadata": {},
   "source": [
    "## get pages and artifact types from ig.xml  ( consider using package instead )\n",
    "\n",
    "- read file\n",
    "- print out"
   ]
  },
  {
   "cell_type": "code",
   "execution_count": null,
   "metadata": {},
   "outputs": [],
   "source": [
    "from pathlib import Path\n",
    "from json import loads\n"
   ]
  },
  {
   "cell_type": "code",
   "execution_count": 63,
   "metadata": {},
   "outputs": [
    {
     "data": {
      "text/plain": [
       "PosixPath('/Users/ehaas/Documents/FHIR/Davinci-Notifications/source/resources/ig-new.json')"
      ]
     },
     "execution_count": 63,
     "metadata": {},
     "output_type": "execute_result"
    }
   ],
   "source": [
    "# in_path = Path(r\"/Users/ehaas/Documents/FHIR/US-Core-R4/source/resources/ig-new.json\")\n",
    "in_path = Path(r\"/Users/ehaas/Documents/FHIR/Davinci-Notifications/source/resources/ig-new.json\")\n",
    "in_path"
   ]
  },
  {
   "cell_type": "code",
   "execution_count": 64,
   "metadata": {},
   "outputs": [],
   "source": [
    "ig_json = in_path.read_text() # as JSON\n",
    "ig_dict = loads(ig_json) #convert to dict"
   ]
  },
  {
   "cell_type": "code",
   "execution_count": 65,
   "metadata": {},
   "outputs": [
    {
     "name": "stdout",
     "output_type": "stream",
     "text": [
      "<artifact name=\"Bundle\" key=\"Bundle\" deprecated=\"true\"/>\n",
      "<artifact name=\"Coverage\" key=\"Coverage\" deprecated=\"true\"/>\n",
      "<artifact name=\"Condition\" key=\"Condition\" deprecated=\"true\"/>\n",
      "<artifact name=\"MessageDefinition\" key=\"MessageDefinition\" deprecated=\"true\"/>\n",
      "<artifact name=\"ValueSet\" key=\"ValueSet\" deprecated=\"true\"/>\n",
      "<artifact name=\"GraphDefinition\" key=\"GraphDefinition\" deprecated=\"true\"/>\n",
      "<artifact name=\"CodeSystem\" key=\"CodeSystem\" deprecated=\"true\"/>\n",
      "<artifact name=\"CapabilityStatement\" key=\"CapabilityStatement\" deprecated=\"true\"/>\n",
      "<artifact name=\"Encounter\" key=\"Encounter\" deprecated=\"true\"/>\n",
      "<artifact name=\"StructureDefinition\" key=\"StructureDefinition\" deprecated=\"true\"/>\n",
      "<artifact name=\"MessageHeader\" key=\"MessageHeader\" deprecated=\"true\"/>\n"
     ]
    }
   ],
   "source": [
    "rtypes = ig_dict[\"definition\"][\"resource\"]\n",
    "my_types = set() # get all types\n",
    "for t in rtypes:\n",
    "    new_type = t['reference']['reference'].split('/')[0]\n",
    "    my_types.add(f'<artifact name=\"{new_type}\" key=\"{new_type}\" deprecated=\"true\"/>')\n",
    "for i in my_types:\n",
    "    print(i)"
   ]
  },
  {
   "cell_type": "code",
   "execution_count": 67,
   "metadata": {},
   "outputs": [],
   "source": [
    "pages = ig_dict[\"definition\"][\"page\"]\n",
    "# pages"
   ]
  },
  {
   "cell_type": "code",
   "execution_count": 68,
   "metadata": {},
   "outputs": [
    {
     "name": "stdout",
     "output_type": "stream",
     "text": [
      "<page name=\"Framework\" key=\"guidance\" url=\"guidance\" deprecated=\"true\"/>\n",
      "<page name=\"Admit/Discharge Use Case\" key=\"profiles\" url=\"profiles\" deprecated=\"true\"/>\n",
      "<page name=\"StructureDefinition Admit Discharge Notification Condition\" key=\"StructureDefinition-admit-discharge-notification-condition\" url=\"StructureDefinition-admit-discharge-notification-condition\" deprecated=\"true\"/>\n",
      "<page name=\"StructureDefinition Notifications GraphDefinition\" key=\"StructureDefinition-notifications-graphdefinition\" url=\"StructureDefinition-notifications-graphdefinition\" deprecated=\"true\"/>\n",
      "<page name=\"StructureDefinition Admit Discharge Notification Encounter\" key=\"StructureDefinition-admit-discharge-notification-encounter\" url=\"StructureDefinition-admit-discharge-notification-encounter\" deprecated=\"true\"/>\n",
      "<page name=\"StructureDefinition Discharge Notification MessageHeader\" key=\"StructureDefinition-discharge-notification-messageheader\" url=\"StructureDefinition-discharge-notification-messageheader\" deprecated=\"true\"/>\n",
      "<page name=\"StructureDefinition Admit Discharge Notification Coverage\" key=\"StructureDefinition-admit-discharge-notification-coverage\" url=\"StructureDefinition-admit-discharge-notification-coverage\" deprecated=\"true\"/>\n",
      "<page name=\"StructureDefinition Admit Notification MessageHeader\" key=\"StructureDefinition-admit-notification-messageheader\" url=\"StructureDefinition-admit-notification-messageheader\" deprecated=\"true\"/>\n",
      "<page name=\"StructureDefinition Notifications Bundle\" key=\"StructureDefinition-notifications-bundle\" url=\"StructureDefinition-notifications-bundle\" deprecated=\"true\"/>\n",
      "<page name=\"StructureDefinition Notifications MessageDefinition\" key=\"StructureDefinition-notifications-messagedefinition\" url=\"StructureDefinition-notifications-messagedefinition\" deprecated=\"true\"/>\n",
      "<page name=\"StructureDefinition Notifications MessageHeader\" key=\"StructureDefinition-notifications-messageheader\" url=\"StructureDefinition-notifications-messageheader\" deprecated=\"true\"/>\n",
      "<page name=\"Bundle Definitions\" key=\"bundles\" url=\"bundles\" deprecated=\"true\"/>\n",
      "<page name=\"MessageDefinition Notification Admit\" key=\"MessageDefinition-notification-admit\" url=\"MessageDefinition-notification-admit\" deprecated=\"true\"/>\n",
      "<page name=\"MessageDefinition Notification Discharge\" key=\"MessageDefinition-notification-discharge\" url=\"MessageDefinition-notification-discharge\" deprecated=\"true\"/>\n",
      "<page name=\"GraphDefinition Admit Discharge\" key=\"GraphDefinition-admit-discharge\" url=\"GraphDefinition-admit-discharge\" deprecated=\"true\"/>\n",
      "<page name=\"Terminology\" key=\"terminology\" url=\"terminology\" deprecated=\"true\"/>\n",
      "<page name=\"ValueSet Notification Event\" key=\"ValueSet-notification-event\" url=\"ValueSet-notification-event\" deprecated=\"true\"/>\n",
      "<page name=\"CodeSystem Notification Event\" key=\"CodeSystem-notification-event\" url=\"CodeSystem-notification-event\" deprecated=\"true\"/>\n",
      "<page name=\"Capability Statements\" key=\"capstatements\" url=\"capstatements\" deprecated=\"true\"/>\n",
      "<page name=\"CapabilityStatement Notification Initiator\" key=\"CapabilityStatement-notification-sender\" url=\"CapabilityStatement-notification-sender\" deprecated=\"true\"/>\n",
      "<page name=\"CapabilityStatement Query Requester\" key=\"CapabilityStatement-query-requester\" url=\"CapabilityStatement-query-requester\" deprecated=\"true\"/>\n",
      "<page name=\"CapabilityStatement Notification Receiver\" key=\"CapabilityStatement-notification-receiver\" url=\"CapabilityStatement-notification-receiver\" deprecated=\"true\"/>\n",
      "<page name=\"CapabilityStatement Query Responder\" key=\"CapabilityStatement-query-responder\" url=\"CapabilityStatement-query-responder\" deprecated=\"true\"/>\n",
      "<page name=\"Security\" key=\"security\" url=\"security\" deprecated=\"true\"/>\n",
      "<page name=\"All Examples\" key=\"all-examples\" url=\"all-examples\" deprecated=\"true\"/>\n",
      "<page name=\"Downloads\" key=\"downloads\" url=\"downloads\" deprecated=\"true\"/>\n",
      "<page name=\"Table of Contents\" key=\"toc\" url=\"toc\" deprecated=\"true\"/>\n",
      "<page name=\"Change Log\" key=\"change-notes\" url=\"change-notes\" deprecated=\"true\"/>\n"
     ]
    }
   ],
   "source": [
    "\n",
    "def print_pages(pages):\n",
    "    for page in pages: # skip index and list all the pages\n",
    "        #print(page)\n",
    "        purl = page[\"nameUrl\"][0:-5]\n",
    "        pname = page[\"title\"]        \n",
    "        page_node = f'<page name=\"{pname}\" key=\"{purl}\" url=\"{purl}\" deprecated=\"true\"/>'     \n",
    "        print(page_node)\n",
    "        try: print_pages(page[\"page\"])\n",
    "        except KeyError:\n",
    "            pass\n",
    "                \n",
    "    \n",
    "print_pages(pages[\"page\"])"
   ]
  },
  {
   "cell_type": "code",
   "execution_count": null,
   "metadata": {},
   "outputs": [],
   "source": []
  }
 ],
 "metadata": {
  "kernelspec": {
   "display_name": "Python 3",
   "language": "python",
   "name": "python3"
  },
  "language_info": {
   "codemirror_mode": {
    "name": "ipython",
    "version": 3
   },
   "file_extension": ".py",
   "mimetype": "text/x-python",
   "name": "python",
   "nbconvert_exporter": "python",
   "pygments_lexer": "ipython3",
   "version": "3.7.3"
  }
 },
 "nbformat": 4,
 "nbformat_minor": 2
}
