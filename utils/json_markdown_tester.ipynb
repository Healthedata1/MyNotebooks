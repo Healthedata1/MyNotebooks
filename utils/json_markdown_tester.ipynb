{
 "cells": [
  {
   "cell_type": "code",
   "execution_count": 1,
   "metadata": {},
   "outputs": [
    {
     "data": {
      "text/markdown": [
       "The US Core Implementation Guide defines the minimum set of FHIR RESTful\n",
       "interactions for each of the US Core Profiles to access patient data. The US\n",
       "Core Profiles are informed by the prior Data Access Framework and the\n",
       "[Argonaut DSTU2](https://www.fhir.org/guides/argonaut/r2/) Implementation\n",
       "Guides. The profiles here are stand alone and support the latest requirements\n",
       "from [ONC U.S. Core Data for Interoperability\n",
       "(USCDI)](https://www.healthit.gov/isa/united-states-core-data-interoperability-uscdi).\n",
       "Fixes required between releases are managed by the [Cross Group Project patch\n",
       "process](https://confluence.hl7.org/display/CGP/US+Core+%27Patch%27+Process)\n",
       "with approved patches on\n",
       "[confluence](https://confluence.hl7.org/display/CGP/Approved+Patches+and+Additional+Guidance).\n",
       "For a detailed list of the changes between versions, see the [Change Notes](\n",
       "https://build.fhir.org/ig/HL7/US-Core/changes.html).\n",
       "\n",
       "USCDI Version          US Core Version  \n",
       "          v1                              3.1.1  \n",
       "          v1                              4.0.0 (improved Must support guidance)  \n",
       "          v2                              5.0.1  \n",
       "          v3                              6.1.0  \n",
       "          v4                              7.0.0  "
      ],
      "text/plain": [
       "<IPython.core.display.Markdown object>"
      ]
     },
     "metadata": {},
     "output_type": "display_data"
    }
   ],
   "source": [
    "from yaml import load, FullLoader\n",
    "from json import loads\n",
    "import commonmark\n",
    "from pathlib import Path\n",
    "from IPython.display import display as Display, HTML, Markdown\n",
    "\n",
    "my_path = Path(r'/Users/ehaas/Documents/FHIR/US-Core/history.json')\n",
    "\n",
    "# my_obj = load(my_path.read_text(), Loader=FullLoader)\n",
    "my_obj = loads(my_path.read_text())\n",
    "\n",
    "display(Markdown((my_obj['introduction'])))"
   ]
  }
 ],
 "metadata": {
  "kernelspec": {
   "display_name": "jupyter",
   "language": "python",
   "name": "python3"
  },
  "language_info": {
   "codemirror_mode": {
    "name": "ipython",
    "version": 3
   },
   "file_extension": ".py",
   "mimetype": "text/x-python",
   "name": "python",
   "nbconvert_exporter": "python",
   "pygments_lexer": "ipython3",
   "version": "3.10.2"
  }
 },
 "nbformat": 4,
 "nbformat_minor": 2
}
