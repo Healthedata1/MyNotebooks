{
 "cells": [
  {
   "cell_type": "markdown",
   "metadata": {},
   "source": [
    "## Add extension to example YAML resources\n",
    "\n",
    "- read file from folder\n",
    "- convert yaml to dict\n",
    "- add element\n",
    "    with data from file name\n",
    "    optionally user input - future\n",
    "- save file back to folder"
   ]
  },
  {
   "cell_type": "code",
   "execution_count": 1,
   "metadata": {},
   "outputs": [],
   "source": [
    "from pathlib import Path\n",
    "from json import dumps, loads\n",
    "from requests import post\n",
    "from yaml import load as y_load, dump as y_dump\n",
    "from IPython.display import display, Markdown, HTML"
   ]
  },
  {
   "cell_type": "code",
   "execution_count": 38,
   "metadata": {},
   "outputs": [
    {
     "name": "stderr",
     "output_type": "stream",
     "text": [
      "/Users/ehaas/Documents/Python/Venv/venv37/lib/python3.7/site-packages/ipykernel_launcher.py:72: YAMLLoadWarning: calling yaml.load() without Loader=... is deprecated, as the default Loader is unsafe. Please read https://msg.pyyaml.org/load for full details.\n",
      "/Users/ehaas/Documents/Python/Venv/venv37/lib/python3.7/site-packages/ipykernel_launcher.py:80: YAMLLoadWarning: calling yaml.load() without Loader=... is deprecated, as the default Loader is unsafe. Please read https://msg.pyyaml.org/load for full details.\n"
     ]
    },
    {
     "name": "stdout",
     "output_type": "stream",
     "text": [
      "/Users/ehaas/Documents/FHIR/Davinci-CDEX/input/examples-yaml/cdex-example1-free-text-request.yml Task\n",
      "no reasonCode\n"
     ]
    },
    {
     "data": {
      "text/markdown": [
       "### 412 Precondition Failed\n",
       "<div xmlns=\"http://www.w3.org/1999/xhtml\"><h1>Operation Outcome</h1><table border=\"0\"><tr><td style=\"font-weight: bold;\">WARNING</td><td>[Task, Line 1, Col 2]</td><td><pre>dom-6: 'A resource should have narrative for robust management' Rule 'A resource should have narrative for robust management' Failed</pre></td>\n",
       "\t\t\t</tr>\n",
       "\t\t\t<tr>\n",
       "\t\t\t\t<td style=\"font-weight: bold;\">ERROR</td>\n",
       "\t\t\t\t<td>[Task.meta.tag[0], Line 1, Col 473]</td>\n",
       "\t\t\t\t<td><pre>Unknown Code System 'http://hl7.org/fhir/us/davinci-cdex/CodeSystem/cdex-temp'</pre></td>\n",
       "\t\t\t</tr>\n",
       "\t\t\t<tr>\n",
       "\t\t\t\t<td style=\"font-weight: bold;\">ERROR</td>\n",
       "\t\t\t\t<td>[Task.code.coding[0], Line 1, Col 638]</td>\n",
       "\t\t\t\t<td><pre>Unknown Code System 'http://hl7.org/fhir/us/davinci-hrex/CodeSystem/hrex-temp'</pre></td>\n",
       "\t\t\t</tr>\n",
       "\t\t\t<tr>\n",
       "\t\t\t\t<td style=\"font-weight: bold;\">INFORMATION</td>\n",
       "\t\t\t\t<td>[Task.input[0].type, Line 1, Col 1189]</td>\n",
       "\t\t\t\t<td><pre>Binding for path Task.input[0].type has no source, so can't be checked</pre></td>\n",
       "\t\t\t</tr>\n",
       "\t\t\t<tr>\n",
       "\t\t\t\t<td style=\"font-weight: bold;\">ERROR</td>\n",
       "\t\t\t\t<td>[Task.input[0].type.coding[0], Line 1, Col 1190]</td>\n",
       "\t\t\t\t<td><pre>Unknown Code System 'http://hl7.org/fhir/us/davinci-hrex/CodeSystem/hrex-temp'</pre></td>\n",
       "\t\t\t</tr>\n",
       "\t\t\t<tr>\n",
       "\t\t\t\t<td style=\"font-weight: bold;\">INFORMATION</td>\n",
       "\t\t\t\t<td>[Task.input[1].type, Line 1, Col 1383]</td>\n",
       "\t\t\t\t<td><pre>Binding for path Task.input[1].type has no source, so can't be checked</pre></td>\n",
       "\t\t\t</tr>\n",
       "\t\t\t<tr>\n",
       "\t\t\t\t<td style=\"font-weight: bold;\">ERROR</td>\n",
       "\t\t\t\t<td>[Task.input[1].type.coding[0], Line 1, Col 1384]</td>\n",
       "\t\t\t\t<td><pre>Unknown Code System 'http://hl7.org/fhir/us/davinci-cdex/CodeSystem/cdex-temp'</pre></td>\n",
       "\t\t\t</tr>\n",
       "\t\t\t<tr>\n",
       "\t\t\t\t<td style=\"font-weight: bold;\">ERROR</td>\n",
       "\t\t\t\t<td>[Task.meta.profile[0], Line 1, Col 2]</td>\n",
       "\t\t\t\t<td><pre>Profile reference 'http://hl7.org/fhir/us/davinci-cdex/StructureDefinition/cdex-task-data-request' has not been checked because it is unknown, and the validator is set to not fetch unknown profiles</pre></td>\n",
       "\t\t\t</tr>\n",
       "\t\t</table>\n",
       "\t</div>"
      ],
      "text/plain": [
       "<IPython.core.display.Markdown object>"
      ]
     },
     "metadata": {},
     "output_type": "display_data"
    },
    {
     "data": {
      "text/markdown": [
       "### Writing to /Users/ehaas/Documents/FHIR/Davinci-CDEX/input/examples-yaml/cdex-example1-free-text-request.yml...."
      ],
      "text/plain": [
       "<IPython.core.display.Markdown object>"
      ]
     },
     "metadata": {},
     "output_type": "display_data"
    },
    {
     "name": "stdout",
     "output_type": "stream",
     "text": [
      "/Users/ehaas/Documents/FHIR/Davinci-CDEX/input/examples-yaml/cdex-example3-query-request.yml Task\n",
      "no reasonCode\n"
     ]
    },
    {
     "data": {
      "text/markdown": [
       "### 412 Precondition Failed\n",
       "<div xmlns=\"http://www.w3.org/1999/xhtml\"><h1>Operation Outcome</h1><table border=\"0\"><tr><td style=\"font-weight: bold;\">WARNING</td><td>[Task, Line 1, Col 2]</td><td><pre>dom-6: 'A resource should have narrative for robust management' Rule 'A resource should have narrative for robust management' Failed</pre></td>\n",
       "\t\t\t</tr>\n",
       "\t\t\t<tr>\n",
       "\t\t\t\t<td style=\"font-weight: bold;\">ERROR</td>\n",
       "\t\t\t\t<td>[Task.meta.tag[0], Line 1, Col 459]</td>\n",
       "\t\t\t\t<td><pre>Unknown Code System 'http://hl7.org/fhir/us/davinci-cdex/CodeSystem/cdex-temp'</pre></td>\n",
       "\t\t\t</tr>\n",
       "\t\t\t<tr>\n",
       "\t\t\t\t<td style=\"font-weight: bold;\">ERROR</td>\n",
       "\t\t\t\t<td>[Task.code.coding[0], Line 1, Col 624]</td>\n",
       "\t\t\t\t<td><pre>Unknown Code System 'http://hl7.org/fhir/us/davinci-hrex/CodeSystem/hrex-temp'</pre></td>\n",
       "\t\t\t</tr>\n",
       "\t\t\t<tr>\n",
       "\t\t\t\t<td style=\"font-weight: bold;\">INFORMATION</td>\n",
       "\t\t\t\t<td>[Task.input[0].type, Line 1, Col 1091]</td>\n",
       "\t\t\t\t<td><pre>Binding for path Task.input[0].type has no source, so can't be checked</pre></td>\n",
       "\t\t\t</tr>\n",
       "\t\t\t<tr>\n",
       "\t\t\t\t<td style=\"font-weight: bold;\">ERROR</td>\n",
       "\t\t\t\t<td>[Task.input[0].type.coding[0], Line 1, Col 1092]</td>\n",
       "\t\t\t\t<td><pre>Unknown Code System 'http://hl7.org/fhir/us/davinci-hrex/CodeSystem/hrex-temp'</pre></td>\n",
       "\t\t\t</tr>\n",
       "\t\t\t<tr>\n",
       "\t\t\t\t<td style=\"font-weight: bold;\">ERROR</td>\n",
       "\t\t\t\t<td>[Task.input[0].value.ofType(CodeableConcept).coding[0], Line 1, Col 1223]</td>\n",
       "\t\t\t\t<td><pre>Unable to validate code http://loinc.org#34117-2 - Code can not be found in CodeSystem for 'http://loinc.org#34117-2'</pre></td>\n",
       "\t\t\t</tr>\n",
       "\t\t\t<tr>\n",
       "\t\t\t\t<td style=\"font-weight: bold;\">INFORMATION</td>\n",
       "\t\t\t\t<td>[Task.input[1].type, Line 1, Col 1335]</td>\n",
       "\t\t\t\t<td><pre>Binding for path Task.input[1].type has no source, so can't be checked</pre></td>\n",
       "\t\t\t</tr>\n",
       "\t\t\t<tr>\n",
       "\t\t\t\t<td style=\"font-weight: bold;\">ERROR</td>\n",
       "\t\t\t\t<td>[Task.input[1].type.coding[0], Line 1, Col 1336]</td>\n",
       "\t\t\t\t<td><pre>Unknown Code System 'http://hl7.org/fhir/us/davinci-cdex/CodeSystem/cdex-temp'</pre></td>\n",
       "\t\t\t</tr>\n",
       "\t\t\t<tr>\n",
       "\t\t\t\t<td style=\"font-weight: bold;\">ERROR</td>\n",
       "\t\t\t\t<td>[Task.meta.profile[0], Line 1, Col 2]</td>\n",
       "\t\t\t\t<td><pre>Profile reference 'http://hl7.org/fhir/us/davinci-cdex/StructureDefinition/cdex-task-data-request' has not been checked because it is unknown, and the validator is set to not fetch unknown profiles</pre></td>\n",
       "\t\t\t</tr>\n",
       "\t\t</table>\n",
       "\t</div>"
      ],
      "text/plain": [
       "<IPython.core.display.Markdown object>"
      ]
     },
     "metadata": {},
     "output_type": "display_data"
    },
    {
     "data": {
      "text/markdown": [
       "### Writing to /Users/ehaas/Documents/FHIR/Davinci-CDEX/input/examples-yaml/cdex-example3-query-request.yml...."
      ],
      "text/plain": [
       "<IPython.core.display.Markdown object>"
      ]
     },
     "metadata": {},
     "output_type": "display_data"
    },
    {
     "name": "stdout",
     "output_type": "stream",
     "text": [
      "/Users/ehaas/Documents/FHIR/Davinci-CDEX/input/examples-yaml/cdex-example2-query-request.yml Task\n",
      "no reasonCode\n"
     ]
    },
    {
     "data": {
      "text/markdown": [
       "### 412 Precondition Failed\n",
       "<div xmlns=\"http://www.w3.org/1999/xhtml\"><h1>Operation Outcome</h1><table border=\"0\"><tr><td style=\"font-weight: bold;\">WARNING</td><td>[Task, Line 1, Col 2]</td><td><pre>dom-6: 'A resource should have narrative for robust management' Rule 'A resource should have narrative for robust management' Failed</pre></td>\n",
       "\t\t\t</tr>\n",
       "\t\t\t<tr>\n",
       "\t\t\t\t<td style=\"font-weight: bold;\">ERROR</td>\n",
       "\t\t\t\t<td>[Task.meta.tag[0], Line 1, Col 437]</td>\n",
       "\t\t\t\t<td><pre>Unknown Code System 'http://hl7.org/fhir/us/davinci-cdex/CodeSystem/cdex-temp'</pre></td>\n",
       "\t\t\t</tr>\n",
       "\t\t\t<tr>\n",
       "\t\t\t\t<td style=\"font-weight: bold;\">ERROR</td>\n",
       "\t\t\t\t<td>[Task.code.coding[0], Line 1, Col 602]</td>\n",
       "\t\t\t\t<td><pre>Unknown Code System 'http://hl7.org/fhir/us/davinci-hrex/CodeSystem/hrex-temp'</pre></td>\n",
       "\t\t\t</tr>\n",
       "\t\t\t<tr>\n",
       "\t\t\t\t<td style=\"font-weight: bold;\">INFORMATION</td>\n",
       "\t\t\t\t<td>[Task.input[0].type, Line 1, Col 1069]</td>\n",
       "\t\t\t\t<td><pre>Binding for path Task.input[0].type has no source, so can't be checked</pre></td>\n",
       "\t\t\t</tr>\n",
       "\t\t\t<tr>\n",
       "\t\t\t\t<td style=\"font-weight: bold;\">ERROR</td>\n",
       "\t\t\t\t<td>[Task.input[0].type.coding[0], Line 1, Col 1070]</td>\n",
       "\t\t\t\t<td><pre>Unknown Code System 'http://hl7.org/fhir/us/davinci-hrex/CodeSystem/hrex-temp'</pre></td>\n",
       "\t\t\t</tr>\n",
       "\t\t\t<tr>\n",
       "\t\t\t\t<td style=\"font-weight: bold;\">INFORMATION</td>\n",
       "\t\t\t\t<td>[Task.input[1].type, Line 1, Col 1276]</td>\n",
       "\t\t\t\t<td><pre>Binding for path Task.input[1].type has no source, so can't be checked</pre></td>\n",
       "\t\t\t</tr>\n",
       "\t\t\t<tr>\n",
       "\t\t\t\t<td style=\"font-weight: bold;\">ERROR</td>\n",
       "\t\t\t\t<td>[Task.input[1].type.coding[0], Line 1, Col 1277]</td>\n",
       "\t\t\t\t<td><pre>Unknown Code System 'http://hl7.org/fhir/us/davinci-cdex/CodeSystem/cdex-temp'</pre></td>\n",
       "\t\t\t</tr>\n",
       "\t\t\t<tr>\n",
       "\t\t\t\t<td style=\"font-weight: bold;\">ERROR</td>\n",
       "\t\t\t\t<td>[Task.meta.profile[0], Line 1, Col 2]</td>\n",
       "\t\t\t\t<td><pre>Profile reference 'http://hl7.org/fhir/us/davinci-cdex/StructureDefinition/cdex-task-data-request' has not been checked because it is unknown, and the validator is set to not fetch unknown profiles</pre></td>\n",
       "\t\t\t</tr>\n",
       "\t\t</table>\n",
       "\t</div>"
      ],
      "text/plain": [
       "<IPython.core.display.Markdown object>"
      ]
     },
     "metadata": {},
     "output_type": "display_data"
    },
    {
     "data": {
      "text/markdown": [
       "### Writing to /Users/ehaas/Documents/FHIR/Davinci-CDEX/input/examples-yaml/cdex-example2-query-request.yml...."
      ],
      "text/plain": [
       "<IPython.core.display.Markdown object>"
      ]
     },
     "metadata": {},
     "output_type": "display_data"
    },
    {
     "name": "stdout",
     "output_type": "stream",
     "text": [
      "/Users/ehaas/Documents/FHIR/Davinci-CDEX/input/examples-yaml/cdex-example1-query-request.yml Task\n",
      "no reasonCode\n"
     ]
    },
    {
     "data": {
      "text/markdown": [
       "### 412 Precondition Failed\n",
       "<div xmlns=\"http://www.w3.org/1999/xhtml\"><h1>Operation Outcome</h1><table border=\"0\"><tr><td style=\"font-weight: bold;\">WARNING</td><td>[Task, Line 1, Col 2]</td><td><pre>dom-6: 'A resource should have narrative for robust management' Rule 'A resource should have narrative for robust management' Failed</pre></td>\n",
       "\t\t\t</tr>\n",
       "\t\t\t<tr>\n",
       "\t\t\t\t<td style=\"font-weight: bold;\">ERROR</td>\n",
       "\t\t\t\t<td>[Task.meta.tag[0], Line 1, Col 431]</td>\n",
       "\t\t\t\t<td><pre>Unknown Code System 'http://hl7.org/fhir/us/davinci-cdex/CodeSystem/cdex-temp'</pre></td>\n",
       "\t\t\t</tr>\n",
       "\t\t\t<tr>\n",
       "\t\t\t\t<td style=\"font-weight: bold;\">ERROR</td>\n",
       "\t\t\t\t<td>[Task.code.coding[0], Line 1, Col 596]</td>\n",
       "\t\t\t\t<td><pre>Unknown Code System 'http://hl7.org/fhir/us/davinci-hrex/CodeSystem/hrex-temp'</pre></td>\n",
       "\t\t\t</tr>\n",
       "\t\t\t<tr>\n",
       "\t\t\t\t<td style=\"font-weight: bold;\">INFORMATION</td>\n",
       "\t\t\t\t<td>[Task.input[0].type, Line 1, Col 1147]</td>\n",
       "\t\t\t\t<td><pre>Binding for path Task.input[0].type has no source, so can't be checked</pre></td>\n",
       "\t\t\t</tr>\n",
       "\t\t\t<tr>\n",
       "\t\t\t\t<td style=\"font-weight: bold;\">ERROR</td>\n",
       "\t\t\t\t<td>[Task.input[0].type.coding[0], Line 1, Col 1148]</td>\n",
       "\t\t\t\t<td><pre>Unknown Code System 'http://hl7.org/fhir/us/davinci-hrex/CodeSystem/hrex-temp'</pre></td>\n",
       "\t\t\t</tr>\n",
       "\t\t\t<tr>\n",
       "\t\t\t\t<td style=\"font-weight: bold;\">INFORMATION</td>\n",
       "\t\t\t\t<td>[Task.input[1].type, Line 1, Col 1366]</td>\n",
       "\t\t\t\t<td><pre>Binding for path Task.input[1].type has no source, so can't be checked</pre></td>\n",
       "\t\t\t</tr>\n",
       "\t\t\t<tr>\n",
       "\t\t\t\t<td style=\"font-weight: bold;\">ERROR</td>\n",
       "\t\t\t\t<td>[Task.input[1].type.coding[0], Line 1, Col 1367]</td>\n",
       "\t\t\t\t<td><pre>Unknown Code System 'http://hl7.org/fhir/us/davinci-cdex/CodeSystem/cdex-temp'</pre></td>\n",
       "\t\t\t</tr>\n",
       "\t\t\t<tr>\n",
       "\t\t\t\t<td style=\"font-weight: bold;\">ERROR</td>\n",
       "\t\t\t\t<td>[Task.meta.profile[0], Line 1, Col 2]</td>\n",
       "\t\t\t\t<td><pre>Profile reference 'http://hl7.org/fhir/us/davinci-cdex/StructureDefinition/cdex-task-data-request' has not been checked because it is unknown, and the validator is set to not fetch unknown profiles</pre></td>\n",
       "\t\t\t</tr>\n",
       "\t\t</table>\n",
       "\t</div>"
      ],
      "text/plain": [
       "<IPython.core.display.Markdown object>"
      ]
     },
     "metadata": {},
     "output_type": "display_data"
    },
    {
     "data": {
      "text/markdown": [
       "### Writing to /Users/ehaas/Documents/FHIR/Davinci-CDEX/input/examples-yaml/cdex-example1-query-request.yml...."
      ],
      "text/plain": [
       "<IPython.core.display.Markdown object>"
      ]
     },
     "metadata": {},
     "output_type": "display_data"
    },
    {
     "name": "stdout",
     "output_type": "stream",
     "text": [
      "/Users/ehaas/Documents/FHIR/Davinci-CDEX/input/examples-yaml/cdex-example2-query-failed.yml Task\n",
      "no reasonCode\n"
     ]
    },
    {
     "data": {
      "text/markdown": [
       "### 412 Precondition Failed\n",
       "<div xmlns=\"http://www.w3.org/1999/xhtml\"><h1>Operation Outcome</h1><table border=\"0\"><tr><td style=\"font-weight: bold;\">WARNING</td><td>[Task, Line 1, Col 2]</td><td><pre>dom-6: 'A resource should have narrative for robust management' Rule 'A resource should have narrative for robust management' Failed</pre></td>\n",
       "\t\t\t</tr>\n",
       "\t\t\t<tr>\n",
       "\t\t\t\t<td style=\"font-weight: bold;\">ERROR</td>\n",
       "\t\t\t\t<td>[Task.meta.tag[0], Line 1, Col 443]</td>\n",
       "\t\t\t\t<td><pre>Unknown Code System 'http://hl7.org/fhir/us/davinci-cdex/CodeSystem/cdex-temp'</pre></td>\n",
       "\t\t\t</tr>\n",
       "\t\t\t<tr>\n",
       "\t\t\t\t<td style=\"font-weight: bold;\">INFORMATION</td>\n",
       "\t\t\t\t<td>[Task.statusReason, Line 1, Col 612]</td>\n",
       "\t\t\t\t<td><pre>Binding for path Task.statusReason has no source, so can't be checked</pre></td>\n",
       "\t\t\t</tr>\n",
       "\t\t\t<tr>\n",
       "\t\t\t\t<td style=\"font-weight: bold;\">ERROR</td>\n",
       "\t\t\t\t<td>[Task.code.coding[0], Line 1, Col 654]</td>\n",
       "\t\t\t\t<td><pre>Unknown Code System 'http://hl7.org/fhir/us/davinci-hrex/CodeSystem/hrex-temp'</pre></td>\n",
       "\t\t\t</tr>\n",
       "\t\t\t<tr>\n",
       "\t\t\t\t<td style=\"font-weight: bold;\">INFORMATION</td>\n",
       "\t\t\t\t<td>[Task.input[0].type, Line 1, Col 1121]</td>\n",
       "\t\t\t\t<td><pre>Binding for path Task.input[0].type has no source, so can't be checked</pre></td>\n",
       "\t\t\t</tr>\n",
       "\t\t\t<tr>\n",
       "\t\t\t\t<td style=\"font-weight: bold;\">ERROR</td>\n",
       "\t\t\t\t<td>[Task.input[0].type.coding[0], Line 1, Col 1122]</td>\n",
       "\t\t\t\t<td><pre>Unknown Code System 'http://hl7.org/fhir/us/davinci-hrex/CodeSystem/hrex-temp'</pre></td>\n",
       "\t\t\t</tr>\n",
       "\t\t\t<tr>\n",
       "\t\t\t\t<td style=\"font-weight: bold;\">INFORMATION</td>\n",
       "\t\t\t\t<td>[Task.input[1].type, Line 1, Col 1328]</td>\n",
       "\t\t\t\t<td><pre>Binding for path Task.input[1].type has no source, so can't be checked</pre></td>\n",
       "\t\t\t</tr>\n",
       "\t\t\t<tr>\n",
       "\t\t\t\t<td style=\"font-weight: bold;\">ERROR</td>\n",
       "\t\t\t\t<td>[Task.input[1].type.coding[0], Line 1, Col 1329]</td>\n",
       "\t\t\t\t<td><pre>Unknown Code System 'http://hl7.org/fhir/us/davinci-cdex/CodeSystem/cdex-temp'</pre></td>\n",
       "\t\t\t</tr>\n",
       "\t\t\t<tr>\n",
       "\t\t\t\t<td style=\"font-weight: bold;\">ERROR</td>\n",
       "\t\t\t\t<td>[Task.meta.profile[0], Line 1, Col 2]</td>\n",
       "\t\t\t\t<td><pre>Profile reference 'http://hl7.org/fhir/us/davinci-cdex/StructureDefinition/cdex-task-data-request' has not been checked because it is unknown, and the validator is set to not fetch unknown profiles</pre></td>\n",
       "\t\t\t</tr>\n",
       "\t\t</table>\n",
       "\t</div>"
      ],
      "text/plain": [
       "<IPython.core.display.Markdown object>"
      ]
     },
     "metadata": {},
     "output_type": "display_data"
    },
    {
     "data": {
      "text/markdown": [
       "### Writing to /Users/ehaas/Documents/FHIR/Davinci-CDEX/input/examples-yaml/cdex-example2-query-failed.yml...."
      ],
      "text/plain": [
       "<IPython.core.display.Markdown object>"
      ]
     },
     "metadata": {},
     "output_type": "display_data"
    },
    {
     "name": "stdout",
     "output_type": "stream",
     "text": [
      "/Users/ehaas/Documents/FHIR/Davinci-CDEX/input/examples-yaml/cdex-example1-authorized-completed.yml Task\n",
      "no reasonCode\n"
     ]
    },
    {
     "data": {
      "text/markdown": [
       "### 412 Precondition Failed\n",
       "<div xmlns=\"http://www.w3.org/1999/xhtml\"><h1>Operation Outcome</h1><table border=\"0\"><tr><td style=\"font-weight: bold;\">WARNING</td><td>[Task, Line 1, Col 2]</td><td><pre>dom-6: 'A resource should have narrative for robust management' Rule 'A resource should have narrative for robust management' Failed</pre></td>\n",
       "\t\t\t</tr>\n",
       "\t\t\t<tr>\n",
       "\t\t\t\t<td style=\"font-weight: bold;\">ERROR</td>\n",
       "\t\t\t\t<td>[Task.meta.tag[0], Line 1, Col 610]</td>\n",
       "\t\t\t\t<td><pre>Unknown Code System 'http://hl7.org/fhir/us/davinci-cdex/CodeSystem/cdex-temp'</pre></td>\n",
       "\t\t\t</tr>\n",
       "\t\t\t<tr>\n",
       "\t\t\t\t<td style=\"font-weight: bold;\">INFORMATION</td>\n",
       "\t\t\t\t<td>[Task.businessStatus, Line 1, Col 897]</td>\n",
       "\t\t\t\t<td><pre>Binding for path Task.businessStatus has no source, so can't be checked</pre></td>\n",
       "\t\t\t</tr>\n",
       "\t\t\t<tr>\n",
       "\t\t\t\t<td style=\"font-weight: bold;\">ERROR</td>\n",
       "\t\t\t\t<td>[Task.code.coding[0], Line 1, Col 939]</td>\n",
       "\t\t\t\t<td><pre>Unknown Code System 'http://hl7.org/fhir/us/davinci-hrex/CodeSystem/hrex-temp'</pre></td>\n",
       "\t\t\t</tr>\n",
       "\t\t\t<tr>\n",
       "\t\t\t\t<td style=\"font-weight: bold;\">INFORMATION</td>\n",
       "\t\t\t\t<td>[Task.input[0].type, Line 1, Col 1499]</td>\n",
       "\t\t\t\t<td><pre>Binding for path Task.input[0].type has no source, so can't be checked</pre></td>\n",
       "\t\t\t</tr>\n",
       "\t\t\t<tr>\n",
       "\t\t\t\t<td style=\"font-weight: bold;\">ERROR</td>\n",
       "\t\t\t\t<td>[Task.input[0].type.coding[0], Line 1, Col 1500]</td>\n",
       "\t\t\t\t<td><pre>Unknown Code System 'http://hl7.org/fhir/us/davinci-hrex/CodeSystem/hrex-temp'</pre></td>\n",
       "\t\t\t</tr>\n",
       "\t\t\t<tr>\n",
       "\t\t\t\t<td style=\"font-weight: bold;\">INFORMATION</td>\n",
       "\t\t\t\t<td>[Task.input[1].type, Line 1, Col 1697]</td>\n",
       "\t\t\t\t<td><pre>Binding for path Task.input[1].type has no source, so can't be checked</pre></td>\n",
       "\t\t\t</tr>\n",
       "\t\t\t<tr>\n",
       "\t\t\t\t<td style=\"font-weight: bold;\">ERROR</td>\n",
       "\t\t\t\t<td>[Task.input[1].type.coding[0], Line 1, Col 1698]</td>\n",
       "\t\t\t\t<td><pre>Unknown Code System 'http://hl7.org/fhir/us/davinci-cdex/CodeSystem/cdex-temp'</pre></td>\n",
       "\t\t\t</tr>\n",
       "\t\t\t<tr>\n",
       "\t\t\t\t<td style=\"font-weight: bold;\">INFORMATION</td>\n",
       "\t\t\t\t<td>[Task.output[0].type, Line 1, Col 1955]</td>\n",
       "\t\t\t\t<td><pre>Binding for path Task.output[0].type has no source, so can't be checked</pre></td>\n",
       "\t\t\t</tr>\n",
       "\t\t\t<tr>\n",
       "\t\t\t\t<td style=\"font-weight: bold;\">ERROR</td>\n",
       "\t\t\t\t<td>[Task.output[0].type.coding[0], Line 1, Col 1956]</td>\n",
       "\t\t\t\t<td><pre>Unknown Code System 'http://hl7.org/fhir/us/davinci-hrex/CodeSystem/hrex-temp'</pre></td>\n",
       "\t\t\t</tr>\n",
       "\t\t\t<tr>\n",
       "\t\t\t\t<td style=\"font-weight: bold;\">ERROR</td>\n",
       "\t\t\t\t<td>[Task.meta.profile[0], Line 1, Col 2]</td>\n",
       "\t\t\t\t<td><pre>Profile reference 'http://hl7.org/fhir/us/davinci-cdex/StructureDefinition/cdex-task-data-request' has not been checked because it is unknown, and the validator is set to not fetch unknown profiles</pre></td>\n",
       "\t\t\t</tr>\n",
       "\t\t</table>\n",
       "\t</div>"
      ],
      "text/plain": [
       "<IPython.core.display.Markdown object>"
      ]
     },
     "metadata": {},
     "output_type": "display_data"
    },
    {
     "data": {
      "text/markdown": [
       "### Writing to /Users/ehaas/Documents/FHIR/Davinci-CDEX/input/examples-yaml/cdex-example1-authorized-completed.yml...."
      ],
      "text/plain": [
       "<IPython.core.display.Markdown object>"
      ]
     },
     "metadata": {},
     "output_type": "display_data"
    },
    {
     "name": "stdout",
     "output_type": "stream",
     "text": [
      "/Users/ehaas/Documents/FHIR/Davinci-CDEX/input/examples-yaml/cdex-example1-authorized-request.yml Task\n",
      "no reasonCode\n"
     ]
    },
    {
     "data": {
      "text/markdown": [
       "### 412 Precondition Failed\n",
       "<div xmlns=\"http://www.w3.org/1999/xhtml\"><h1>Operation Outcome</h1><table border=\"0\"><tr><td style=\"font-weight: bold;\">WARNING</td><td>[Task, Line 1, Col 2]</td><td><pre>dom-6: 'A resource should have narrative for robust management' Rule 'A resource should have narrative for robust management' Failed</pre></td>\n",
       "\t\t\t</tr>\n",
       "\t\t\t<tr>\n",
       "\t\t\t\t<td style=\"font-weight: bold;\">ERROR</td>\n",
       "\t\t\t\t<td>[Task.meta.tag[0], Line 1, Col 491]</td>\n",
       "\t\t\t\t<td><pre>Unknown Code System 'http://hl7.org/fhir/us/davinci-cdex/CodeSystem/cdex-temp'</pre></td>\n",
       "\t\t\t</tr>\n",
       "\t\t\t<tr>\n",
       "\t\t\t\t<td style=\"font-weight: bold;\">ERROR</td>\n",
       "\t\t\t\t<td>[Task.code.coding[0], Line 1, Col 759]</td>\n",
       "\t\t\t\t<td><pre>Unknown Code System 'http://hl7.org/fhir/us/davinci-hrex/CodeSystem/hrex-temp'</pre></td>\n",
       "\t\t\t</tr>\n",
       "\t\t\t<tr>\n",
       "\t\t\t\t<td style=\"font-weight: bold;\">INFORMATION</td>\n",
       "\t\t\t\t<td>[Task.input[0].type, Line 1, Col 1337]</td>\n",
       "\t\t\t\t<td><pre>Binding for path Task.input[0].type has no source, so can't be checked</pre></td>\n",
       "\t\t\t</tr>\n",
       "\t\t\t<tr>\n",
       "\t\t\t\t<td style=\"font-weight: bold;\">ERROR</td>\n",
       "\t\t\t\t<td>[Task.input[0].type.coding[0], Line 1, Col 1338]</td>\n",
       "\t\t\t\t<td><pre>Unknown Code System 'http://hl7.org/fhir/us/davinci-hrex/CodeSystem/hrex-temp'</pre></td>\n",
       "\t\t\t</tr>\n",
       "\t\t\t<tr>\n",
       "\t\t\t\t<td style=\"font-weight: bold;\">INFORMATION</td>\n",
       "\t\t\t\t<td>[Task.input[1].type, Line 1, Col 1556]</td>\n",
       "\t\t\t\t<td><pre>Binding for path Task.input[1].type has no source, so can't be checked</pre></td>\n",
       "\t\t\t</tr>\n",
       "\t\t\t<tr>\n",
       "\t\t\t\t<td style=\"font-weight: bold;\">ERROR</td>\n",
       "\t\t\t\t<td>[Task.input[1].type.coding[0], Line 1, Col 1557]</td>\n",
       "\t\t\t\t<td><pre>Unknown Code System 'http://hl7.org/fhir/us/davinci-cdex/CodeSystem/cdex-temp'</pre></td>\n",
       "\t\t\t</tr>\n",
       "\t\t\t<tr>\n",
       "\t\t\t\t<td style=\"font-weight: bold;\">ERROR</td>\n",
       "\t\t\t\t<td>[Task.meta.profile[0], Line 1, Col 2]</td>\n",
       "\t\t\t\t<td><pre>Profile reference 'http://hl7.org/fhir/us/davinci-cdex/StructureDefinition/cdex-task-data-request' has not been checked because it is unknown, and the validator is set to not fetch unknown profiles</pre></td>\n",
       "\t\t\t</tr>\n",
       "\t\t</table>\n",
       "\t</div>"
      ],
      "text/plain": [
       "<IPython.core.display.Markdown object>"
      ]
     },
     "metadata": {},
     "output_type": "display_data"
    },
    {
     "data": {
      "text/markdown": [
       "### Writing to /Users/ehaas/Documents/FHIR/Davinci-CDEX/input/examples-yaml/cdex-example1-authorized-request.yml...."
      ],
      "text/plain": [
       "<IPython.core.display.Markdown object>"
      ]
     },
     "metadata": {},
     "output_type": "display_data"
    },
    {
     "name": "stdout",
     "output_type": "stream",
     "text": [
      "/Users/ehaas/Documents/FHIR/Davinci-CDEX/input/examples-yaml/cdex-example1-query-completed-contained.yml Task\n",
      "no reasonCode\n"
     ]
    },
    {
     "data": {
      "text/markdown": [
       "### 412 Precondition Failed\n",
       "<div xmlns=\"http://www.w3.org/1999/xhtml\"><h1>Operation Outcome</h1><table border=\"0\"><tr><td style=\"font-weight: bold;\">WARNING</td><td>[Task, Line 1, Col 2]</td><td><pre>dom-6: 'A resource should have narrative for robust management' Rule 'A resource should have narrative for robust management' Failed</pre></td>\n",
       "\t\t\t</tr>\n",
       "\t\t\t<tr>\n",
       "\t\t\t\t<td style=\"font-weight: bold;\">ERROR</td>\n",
       "\t\t\t\t<td>[Task.meta.tag[0], Line 1, Col 1518]</td>\n",
       "\t\t\t\t<td><pre>Unknown Code System 'http://hl7.org/fhir/us/davinci-cdex/CodeSystem/cdex-temp'</pre></td>\n",
       "\t\t\t</tr>\n",
       "\t\t\t<tr>\n",
       "\t\t\t\t<td style=\"font-weight: bold;\">WARNING</td>\n",
       "\t\t\t\t<td>[Task.contained[0].ofType(Bundle).entry[0].resource.ofType(Condition), Line 1, Col 901]</td>\n",
       "\t\t\t\t<td><pre>dom-6: 'A resource should have narrative for robust management' Rule 'A resource should have narrative for robust management' Failed</pre></td>\n",
       "\t\t\t</tr>\n",
       "\t\t\t<tr>\n",
       "\t\t\t\t<td style=\"font-weight: bold;\">WARNING</td>\n",
       "\t\t\t\t<td>[Task.contained[0].ofType(Bundle).entry[0].resource.ofType(Condition).category[0], Line 1, Col 495]</td>\n",
       "\t\t\t\t<td><pre>None of the codings provided are in the value set http://hl7.org/fhir/ValueSet/condition-category (http://hl7.org/fhir/ValueSet/condition-category), and a coding should come from this value set unless it has no suitable code (note that the validator cannot judge what is suitable) (codes = http://snomed.info/sct#55607006, http://loinc.org#75326-9)</pre></td>\n",
       "\t\t\t</tr>\n",
       "\t\t\t<tr>\n",
       "\t\t\t\t<td style=\"font-weight: bold;\">ERROR</td>\n",
       "\t\t\t\t<td>[Task.contained[0].ofType(Bundle).entry[0].resource.ofType(Condition).category[0].coding[0], Line 1, Col 507]</td>\n",
       "\t\t\t\t<td><pre>Unable to validate code http://snomed.info/sct#55607006 - Code can not be found in CodeSystem for 'http://snomed.info/sct#55607006'</pre></td>\n",
       "\t\t\t</tr>\n",
       "\t\t\t<tr>\n",
       "\t\t\t\t<td style=\"font-weight: bold;\">ERROR</td>\n",
       "\t\t\t\t<td>[Task.contained[0].ofType(Bundle).entry[0].resource.ofType(Condition).category[0].coding[1], Line 1, Col 587]</td>\n",
       "\t\t\t\t<td><pre>Unable to validate code http://loinc.org#75326-9 - Code can not be found in CodeSystem for 'http://loinc.org#75326-9'</pre></td>\n",
       "\t\t\t</tr>\n",
       "\t\t\t<tr>\n",
       "\t\t\t\t<td style=\"font-weight: bold;\">ERROR</td>\n",
       "\t\t\t\t<td>[Task.contained[0].ofType(Bundle).entry[0].resource.ofType(Condition).code.coding[0], Line 1, Col 683]</td>\n",
       "\t\t\t\t<td><pre>Unable to validate code http://snomed.info/sct#44054006 - Code can not be found in CodeSystem for 'http://snomed.info/sct#44054006'</pre></td>\n",
       "\t\t\t</tr>\n",
       "\t\t\t<tr>\n",
       "\t\t\t\t<td style=\"font-weight: bold;\">WARNING</td>\n",
       "\t\t\t\t<td>[Task.contained[0].ofType(Bundle), Line 1, Col 90]</td>\n",
       "\t\t\t\t<td><pre>SearchSet Bundles should have a self link that specifies what the search was</pre></td>\n",
       "\t\t\t</tr>\n",
       "\t\t\t<tr>\n",
       "\t\t\t\t<td style=\"font-weight: bold;\">INFORMATION</td>\n",
       "\t\t\t\t<td>[Task.businessStatus, Line 1, Col 1701]</td>\n",
       "\t\t\t\t<td><pre>Binding for path Task.businessStatus has no source, so can't be checked</pre></td>\n",
       "\t\t\t</tr>\n",
       "\t\t\t<tr>\n",
       "\t\t\t\t<td style=\"font-weight: bold;\">ERROR</td>\n",
       "\t\t\t\t<td>[Task.code.coding[0], Line 1, Col 1743]</td>\n",
       "\t\t\t\t<td><pre>Unknown Code System 'http://hl7.org/fhir/us/davinci-hrex/CodeSystem/hrex-temp'</pre></td>\n",
       "\t\t\t</tr>\n",
       "\t\t\t<tr>\n",
       "\t\t\t\t<td style=\"font-weight: bold;\">INFORMATION</td>\n",
       "\t\t\t\t<td>[Task.input[0].type, Line 1, Col 2294]</td>\n",
       "\t\t\t\t<td><pre>Binding for path Task.input[0].type has no source, so can't be checked</pre></td>\n",
       "\t\t\t</tr>\n",
       "\t\t\t<tr>\n",
       "\t\t\t\t<td style=\"font-weight: bold;\">ERROR</td>\n",
       "\t\t\t\t<td>[Task.input[0].type.coding[0], Line 1, Col 2295]</td>\n",
       "\t\t\t\t<td><pre>Unknown Code System 'http://hl7.org/fhir/us/davinci-hrex/CodeSystem/hrex-temp'</pre></td>\n",
       "\t\t\t</tr>\n",
       "\t\t\t<tr>\n",
       "\t\t\t\t<td style=\"font-weight: bold;\">INFORMATION</td>\n",
       "\t\t\t\t<td>[Task.input[1].type, Line 1, Col 2492]</td>\n",
       "\t\t\t\t<td><pre>Binding for path Task.input[1].type has no source, so can't be checked</pre></td>\n",
       "\t\t\t</tr>\n",
       "\t\t\t<tr>\n",
       "\t\t\t\t<td style=\"font-weight: bold;\">ERROR</td>\n",
       "\t\t\t\t<td>[Task.input[1].type.coding[0], Line 1, Col 2493]</td>\n",
       "\t\t\t\t<td><pre>Unknown Code System 'http://hl7.org/fhir/us/davinci-cdex/CodeSystem/cdex-temp'</pre></td>\n",
       "\t\t\t</tr>\n",
       "\t\t\t<tr>\n",
       "\t\t\t\t<td style=\"font-weight: bold;\">INFORMATION</td>\n",
       "\t\t\t\t<td>[Task.output[0].type, Line 1, Col 2750]</td>\n",
       "\t\t\t\t<td><pre>Binding for path Task.output[0].type has no source, so can't be checked</pre></td>\n",
       "\t\t\t</tr>\n",
       "\t\t\t<tr>\n",
       "\t\t\t\t<td style=\"font-weight: bold;\">ERROR</td>\n",
       "\t\t\t\t<td>[Task.output[0].type.coding[0], Line 1, Col 2751]</td>\n",
       "\t\t\t\t<td><pre>Unknown Code System 'http://hl7.org/fhir/us/davinci-hrex/CodeSystem/hrex-temp'</pre></td>\n",
       "\t\t\t</tr>\n",
       "\t\t\t<tr>\n",
       "\t\t\t\t<td style=\"font-weight: bold;\">ERROR</td>\n",
       "\t\t\t\t<td>[Task.meta.profile[0], Line 1, Col 2]</td>\n",
       "\t\t\t\t<td><pre>Profile reference 'http://hl7.org/fhir/us/davinci-cdex/StructureDefinition/cdex-task-data-request' has not been checked because it is unknown, and the validator is set to not fetch unknown profiles</pre></td>\n",
       "\t\t\t</tr>\n",
       "\t\t</table>\n",
       "\t</div>"
      ],
      "text/plain": [
       "<IPython.core.display.Markdown object>"
      ]
     },
     "metadata": {},
     "output_type": "display_data"
    },
    {
     "data": {
      "text/markdown": [
       "### Writing to /Users/ehaas/Documents/FHIR/Davinci-CDEX/input/examples-yaml/cdex-example1-query-completed-contained.yml...."
      ],
      "text/plain": [
       "<IPython.core.display.Markdown object>"
      ]
     },
     "metadata": {},
     "output_type": "display_data"
    },
    {
     "name": "stdout",
     "output_type": "stream",
     "text": [
      "/Users/ehaas/Documents/FHIR/Davinci-CDEX/input/examples-yaml/cdex-example1-query-completed.yml Task\n",
      "no reasonCode\n"
     ]
    },
    {
     "data": {
      "text/markdown": [
       "### 412 Precondition Failed\n",
       "<div xmlns=\"http://www.w3.org/1999/xhtml\"><h1>Operation Outcome</h1><table border=\"0\"><tr><td style=\"font-weight: bold;\">WARNING</td><td>[Task, Line 1, Col 2]</td><td><pre>dom-6: 'A resource should have narrative for robust management' Rule 'A resource should have narrative for robust management' Failed</pre></td>\n",
       "\t\t\t</tr>\n",
       "\t\t\t<tr>\n",
       "\t\t\t\t<td style=\"font-weight: bold;\">ERROR</td>\n",
       "\t\t\t\t<td>[Task.meta.tag[0], Line 1, Col 548]</td>\n",
       "\t\t\t\t<td><pre>Unknown Code System 'http://hl7.org/fhir/us/davinci-cdex/CodeSystem/cdex-temp'</pre></td>\n",
       "\t\t\t</tr>\n",
       "\t\t\t<tr>\n",
       "\t\t\t\t<td style=\"font-weight: bold;\">INFORMATION</td>\n",
       "\t\t\t\t<td>[Task.businessStatus, Line 1, Col 731]</td>\n",
       "\t\t\t\t<td><pre>Binding for path Task.businessStatus has no source, so can't be checked</pre></td>\n",
       "\t\t\t</tr>\n",
       "\t\t\t<tr>\n",
       "\t\t\t\t<td style=\"font-weight: bold;\">ERROR</td>\n",
       "\t\t\t\t<td>[Task.code.coding[0], Line 1, Col 773]</td>\n",
       "\t\t\t\t<td><pre>Unknown Code System 'http://hl7.org/fhir/us/davinci-hrex/CodeSystem/hrex-temp'</pre></td>\n",
       "\t\t\t</tr>\n",
       "\t\t\t<tr>\n",
       "\t\t\t\t<td style=\"font-weight: bold;\">INFORMATION</td>\n",
       "\t\t\t\t<td>[Task.input[0].type, Line 1, Col 1324]</td>\n",
       "\t\t\t\t<td><pre>Binding for path Task.input[0].type has no source, so can't be checked</pre></td>\n",
       "\t\t\t</tr>\n",
       "\t\t\t<tr>\n",
       "\t\t\t\t<td style=\"font-weight: bold;\">ERROR</td>\n",
       "\t\t\t\t<td>[Task.input[0].type.coding[0], Line 1, Col 1325]</td>\n",
       "\t\t\t\t<td><pre>Unknown Code System 'http://hl7.org/fhir/us/davinci-hrex/CodeSystem/hrex-temp'</pre></td>\n",
       "\t\t\t</tr>\n",
       "\t\t\t<tr>\n",
       "\t\t\t\t<td style=\"font-weight: bold;\">INFORMATION</td>\n",
       "\t\t\t\t<td>[Task.input[1].type, Line 1, Col 1522]</td>\n",
       "\t\t\t\t<td><pre>Binding for path Task.input[1].type has no source, so can't be checked</pre></td>\n",
       "\t\t\t</tr>\n",
       "\t\t\t<tr>\n",
       "\t\t\t\t<td style=\"font-weight: bold;\">ERROR</td>\n",
       "\t\t\t\t<td>[Task.input[1].type.coding[0], Line 1, Col 1523]</td>\n",
       "\t\t\t\t<td><pre>Unknown Code System 'http://hl7.org/fhir/us/davinci-cdex/CodeSystem/cdex-temp'</pre></td>\n",
       "\t\t\t</tr>\n",
       "\t\t\t<tr>\n",
       "\t\t\t\t<td style=\"font-weight: bold;\">INFORMATION</td>\n",
       "\t\t\t\t<td>[Task.output[0].type, Line 1, Col 1780]</td>\n",
       "\t\t\t\t<td><pre>Binding for path Task.output[0].type has no source, so can't be checked</pre></td>\n",
       "\t\t\t</tr>\n",
       "\t\t\t<tr>\n",
       "\t\t\t\t<td style=\"font-weight: bold;\">ERROR</td>\n",
       "\t\t\t\t<td>[Task.output[0].type.coding[0], Line 1, Col 1781]</td>\n",
       "\t\t\t\t<td><pre>Unknown Code System 'http://hl7.org/fhir/us/davinci-hrex/CodeSystem/hrex-temp'</pre></td>\n",
       "\t\t\t</tr>\n",
       "\t\t\t<tr>\n",
       "\t\t\t\t<td style=\"font-weight: bold;\">ERROR</td>\n",
       "\t\t\t\t<td>[Task.meta.profile[0], Line 1, Col 2]</td>\n",
       "\t\t\t\t<td><pre>Profile reference 'http://hl7.org/fhir/us/davinci-cdex/StructureDefinition/cdex-task-data-request' has not been checked because it is unknown, and the validator is set to not fetch unknown profiles</pre></td>\n",
       "\t\t\t</tr>\n",
       "\t\t</table>\n",
       "\t</div>"
      ],
      "text/plain": [
       "<IPython.core.display.Markdown object>"
      ]
     },
     "metadata": {},
     "output_type": "display_data"
    },
    {
     "data": {
      "text/markdown": [
       "### Writing to /Users/ehaas/Documents/FHIR/Davinci-CDEX/input/examples-yaml/cdex-example1-query-completed.yml...."
      ],
      "text/plain": [
       "<IPython.core.display.Markdown object>"
      ]
     },
     "metadata": {},
     "output_type": "display_data"
    },
    {
     "name": "stdout",
     "output_type": "stream",
     "text": [
      "/Users/ehaas/Documents/FHIR/Davinci-CDEX/input/examples-yaml/cdex-example3-query-completed.yml Task\n",
      "no reasonCode\n"
     ]
    },
    {
     "data": {
      "text/markdown": [
       "### 412 Precondition Failed\n",
       "<div xmlns=\"http://www.w3.org/1999/xhtml\"><h1>Operation Outcome</h1><table border=\"0\"><tr><td style=\"font-weight: bold;\">WARNING</td><td>[Task, Line 1, Col 2]</td><td><pre>dom-6: 'A resource should have narrative for robust management' Rule 'A resource should have narrative for robust management' Failed</pre></td>\n",
       "\t\t\t</tr>\n",
       "\t\t\t<tr>\n",
       "\t\t\t\t<td style=\"font-weight: bold;\">ERROR</td>\n",
       "\t\t\t\t<td>[Task.meta.tag[0], Line 1, Col 479]</td>\n",
       "\t\t\t\t<td><pre>Unknown Code System 'http://hl7.org/fhir/us/davinci-cdex/CodeSystem/cdex-temp'</pre></td>\n",
       "\t\t\t</tr>\n",
       "\t\t\t<tr>\n",
       "\t\t\t\t<td style=\"font-weight: bold;\">WARNING</td>\n",
       "\t\t\t\t<td>[Task.contained[0].ofType(Bundle).entry[0].resource.ofType(DocumentReference), Line 1, Col 882]</td>\n",
       "\t\t\t\t<td><pre>dom-6: 'A resource should have narrative for robust management' Rule 'A resource should have narrative for robust management' Failed</pre></td>\n",
       "\t\t\t</tr>\n",
       "\t\t\t<tr>\n",
       "\t\t\t\t<td style=\"font-weight: bold;\">ERROR</td>\n",
       "\t\t\t\t<td>[Task.contained[0].ofType(Bundle).entry[0].resource.ofType(DocumentReference).type.coding[0], Line 1, Col 894]</td>\n",
       "\t\t\t\t<td><pre>Unable to validate code http://loinc.org#34117-2 - Code can not be found in CodeSystem for 'http://loinc.org#34117-2'</pre></td>\n",
       "\t\t\t</tr>\n",
       "\t\t\t<tr>\n",
       "\t\t\t\t<td style=\"font-weight: bold;\">WARNING</td>\n",
       "\t\t\t\t<td>[Task.contained[0].ofType(Bundle).entry[1].resource.ofType(DocumentReference), Line 1, Col 114892]</td>\n",
       "\t\t\t\t<td><pre>dom-6: 'A resource should have narrative for robust management' Rule 'A resource should have narrative for robust management' Failed</pre></td>\n",
       "\t\t\t</tr>\n",
       "\t\t\t<tr>\n",
       "\t\t\t\t<td style=\"font-weight: bold;\">ERROR</td>\n",
       "\t\t\t\t<td>[Task.contained[0].ofType(Bundle).entry[1].resource.ofType(DocumentReference).type.coding[0], Line 1, Col 114904]</td>\n",
       "\t\t\t\t<td><pre>Unable to validate code http://loinc.org#34117-2 - Code can not be found in CodeSystem for 'http://loinc.org#34117-2'</pre></td>\n",
       "\t\t\t</tr>\n",
       "\t\t\t<tr>\n",
       "\t\t\t\t<td style=\"font-weight: bold;\">WARNING</td>\n",
       "\t\t\t\t<td>[Task.contained[0].ofType(Bundle), Line 1, Col 596]</td>\n",
       "\t\t\t\t<td><pre>SearchSet Bundles should have a self link that specifies what the search was</pre></td>\n",
       "\t\t\t</tr>\n",
       "\t\t\t<tr>\n",
       "\t\t\t\t<td style=\"font-weight: bold;\">ERROR</td>\n",
       "\t\t\t\t<td>[Task.code.coding[0], Line 1, Col 273792]</td>\n",
       "\t\t\t\t<td><pre>Unknown Code System 'http://hl7.org/fhir/us/davinci-hrex/CodeSystem/hrex-temp'</pre></td>\n",
       "\t\t\t</tr>\n",
       "\t\t\t<tr>\n",
       "\t\t\t\t<td style=\"font-weight: bold;\">INFORMATION</td>\n",
       "\t\t\t\t<td>[Task.input[0].type, Line 1, Col 274259]</td>\n",
       "\t\t\t\t<td><pre>Binding for path Task.input[0].type has no source, so can't be checked</pre></td>\n",
       "\t\t\t</tr>\n",
       "\t\t\t<tr>\n",
       "\t\t\t\t<td style=\"font-weight: bold;\">ERROR</td>\n",
       "\t\t\t\t<td>[Task.input[0].type.coding[0], Line 1, Col 274260]</td>\n",
       "\t\t\t\t<td><pre>Unknown Code System 'http://hl7.org/fhir/us/davinci-hrex/CodeSystem/hrex-temp'</pre></td>\n",
       "\t\t\t</tr>\n",
       "\t\t\t<tr>\n",
       "\t\t\t\t<td style=\"font-weight: bold;\">ERROR</td>\n",
       "\t\t\t\t<td>[Task.input[0].value.ofType(CodeableConcept).coding[0], Line 1, Col 274391]</td>\n",
       "\t\t\t\t<td><pre>Unable to validate code http://loinc.org#34117-2 - Code can not be found in CodeSystem for 'http://loinc.org#34117-2'</pre></td>\n",
       "\t\t\t</tr>\n",
       "\t\t\t<tr>\n",
       "\t\t\t\t<td style=\"font-weight: bold;\">INFORMATION</td>\n",
       "\t\t\t\t<td>[Task.input[1].type, Line 1, Col 274503]</td>\n",
       "\t\t\t\t<td><pre>Binding for path Task.input[1].type has no source, so can't be checked</pre></td>\n",
       "\t\t\t</tr>\n",
       "\t\t\t<tr>\n",
       "\t\t\t\t<td style=\"font-weight: bold;\">ERROR</td>\n",
       "\t\t\t\t<td>[Task.input[1].type.coding[0], Line 1, Col 274504]</td>\n",
       "\t\t\t\t<td><pre>Unknown Code System 'http://hl7.org/fhir/us/davinci-cdex/CodeSystem/cdex-temp'</pre></td>\n",
       "\t\t\t</tr>\n",
       "\t\t\t<tr>\n",
       "\t\t\t\t<td style=\"font-weight: bold;\">INFORMATION</td>\n",
       "\t\t\t\t<td>[Task.output[0].type, Line 1, Col 274756]</td>\n",
       "\t\t\t\t<td><pre>Binding for path Task.output[0].type has no source, so can't be checked</pre></td>\n",
       "\t\t\t</tr>\n",
       "\t\t\t<tr>\n",
       "\t\t\t\t<td style=\"font-weight: bold;\">ERROR</td>\n",
       "\t\t\t\t<td>[Task.output[0].type.coding[0], Line 1, Col 274757]</td>\n",
       "\t\t\t\t<td><pre>Unknown Code System 'http://hl7.org/fhir/us/davinci-hrex/CodeSystem/hrex-temp'</pre></td>\n",
       "\t\t\t</tr>\n",
       "\t\t\t<tr>\n",
       "\t\t\t\t<td style=\"font-weight: bold;\">ERROR</td>\n",
       "\t\t\t\t<td>[Task.meta.profile[0], Line 1, Col 2]</td>\n",
       "\t\t\t\t<td><pre>Profile reference 'http://hl7.org/fhir/us/davinci-cdex/StructureDefinition/cdex-task-data-request' has not been checked because it is unknown, and the validator is set to not fetch unknown profiles</pre></td>\n",
       "\t\t\t</tr>\n",
       "\t\t</table>\n",
       "\t</div>"
      ],
      "text/plain": [
       "<IPython.core.display.Markdown object>"
      ]
     },
     "metadata": {},
     "output_type": "display_data"
    },
    {
     "data": {
      "text/markdown": [
       "### Writing to /Users/ehaas/Documents/FHIR/Davinci-CDEX/input/examples-yaml/cdex-example3-query-completed.yml...."
      ],
      "text/plain": [
       "<IPython.core.display.Markdown object>"
      ]
     },
     "metadata": {},
     "output_type": "display_data"
    },
    {
     "name": "stdout",
     "output_type": "stream",
     "text": [
      "/Users/ehaas/Documents/FHIR/Davinci-CDEX/input/examples-yaml/cdex-example1-free-text-completed.yml Task\n",
      "no reasonCode\n"
     ]
    },
    {
     "data": {
      "text/markdown": [
       "### 412 Precondition Failed\n",
       "<div xmlns=\"http://www.w3.org/1999/xhtml\"><h1>Operation Outcome</h1><table border=\"0\"><tr><td style=\"font-weight: bold;\">WARNING</td><td>[Task, Line 1, Col 2]</td><td><pre>dom-6: 'A resource should have narrative for robust management' Rule 'A resource should have narrative for robust management' Failed</pre></td>\n",
       "\t\t\t</tr>\n",
       "\t\t\t<tr>\n",
       "\t\t\t\t<td style=\"font-weight: bold;\">ERROR</td>\n",
       "\t\t\t\t<td>[Task.meta.tag[0], Line 1, Col 592]</td>\n",
       "\t\t\t\t<td><pre>Unknown Code System 'http://hl7.org/fhir/us/davinci-cdex/CodeSystem/cdex-temp'</pre></td>\n",
       "\t\t\t</tr>\n",
       "\t\t\t<tr>\n",
       "\t\t\t\t<td style=\"font-weight: bold;\">INFORMATION</td>\n",
       "\t\t\t\t<td>[Task.businessStatus, Line 1, Col 775]</td>\n",
       "\t\t\t\t<td><pre>Binding for path Task.businessStatus has no source, so can't be checked</pre></td>\n",
       "\t\t\t</tr>\n",
       "\t\t\t<tr>\n",
       "\t\t\t\t<td style=\"font-weight: bold;\">ERROR</td>\n",
       "\t\t\t\t<td>[Task.code.coding[0], Line 1, Col 817]</td>\n",
       "\t\t\t\t<td><pre>Unknown Code System 'http://hl7.org/fhir/us/davinci-hrex/CodeSystem/hrex-temp'</pre></td>\n",
       "\t\t\t</tr>\n",
       "\t\t\t<tr>\n",
       "\t\t\t\t<td style=\"font-weight: bold;\">INFORMATION</td>\n",
       "\t\t\t\t<td>[Task.input[0].type, Line 1, Col 1368]</td>\n",
       "\t\t\t\t<td><pre>Binding for path Task.input[0].type has no source, so can't be checked</pre></td>\n",
       "\t\t\t</tr>\n",
       "\t\t\t<tr>\n",
       "\t\t\t\t<td style=\"font-weight: bold;\">ERROR</td>\n",
       "\t\t\t\t<td>[Task.input[0].type.coding[0], Line 1, Col 1369]</td>\n",
       "\t\t\t\t<td><pre>Unknown Code System 'http://hl7.org/fhir/us/davinci-hrex/CodeSystem/hrex-temp'</pre></td>\n",
       "\t\t\t</tr>\n",
       "\t\t\t<tr>\n",
       "\t\t\t\t<td style=\"font-weight: bold;\">INFORMATION</td>\n",
       "\t\t\t\t<td>[Task.input[1].type, Line 1, Col 1562]</td>\n",
       "\t\t\t\t<td><pre>Binding for path Task.input[1].type has no source, so can't be checked</pre></td>\n",
       "\t\t\t</tr>\n",
       "\t\t\t<tr>\n",
       "\t\t\t\t<td style=\"font-weight: bold;\">ERROR</td>\n",
       "\t\t\t\t<td>[Task.input[1].type.coding[0], Line 1, Col 1563]</td>\n",
       "\t\t\t\t<td><pre>Unknown Code System 'http://hl7.org/fhir/us/davinci-cdex/CodeSystem/cdex-temp'</pre></td>\n",
       "\t\t\t</tr>\n",
       "\t\t\t<tr>\n",
       "\t\t\t\t<td style=\"font-weight: bold;\">INFORMATION</td>\n",
       "\t\t\t\t<td>[Task.output[0].type, Line 1, Col 1820]</td>\n",
       "\t\t\t\t<td><pre>Binding for path Task.output[0].type has no source, so can't be checked</pre></td>\n",
       "\t\t\t</tr>\n",
       "\t\t\t<tr>\n",
       "\t\t\t\t<td style=\"font-weight: bold;\">ERROR</td>\n",
       "\t\t\t\t<td>[Task.output[0].type.coding[0], Line 1, Col 1821]</td>\n",
       "\t\t\t\t<td><pre>Unknown Code System 'http://hl7.org/fhir/us/davinci-hrex/CodeSystem/hrex-temp'</pre></td>\n",
       "\t\t\t</tr>\n",
       "\t\t\t<tr>\n",
       "\t\t\t\t<td style=\"font-weight: bold;\">ERROR</td>\n",
       "\t\t\t\t<td>[Task.meta.profile[0], Line 1, Col 2]</td>\n",
       "\t\t\t\t<td><pre>Profile reference 'http://hl7.org/fhir/us/davinci-cdex/StructureDefinition/cdex-task-data-request' has not been checked because it is unknown, and the validator is set to not fetch unknown profiles</pre></td>\n",
       "\t\t\t</tr>\n",
       "\t\t</table>\n",
       "\t</div>"
      ],
      "text/plain": [
       "<IPython.core.display.Markdown object>"
      ]
     },
     "metadata": {},
     "output_type": "display_data"
    },
    {
     "data": {
      "text/markdown": [
       "### Writing to /Users/ehaas/Documents/FHIR/Davinci-CDEX/input/examples-yaml/cdex-example1-free-text-completed.yml...."
      ],
      "text/plain": [
       "<IPython.core.display.Markdown object>"
      ]
     },
     "metadata": {},
     "output_type": "display_data"
    }
   ],
   "source": [
    "#in_path = Path(r'/Users/ehaas/Documents/FHIR/Davinci-CDEX/input/includes-yaml')\n",
    "in_path = Path(r'/Users/ehaas/Documents/FHIR/Davinci-CDEX/input/examples-yaml')\n",
    "\n",
    "fhir_test_server = 'http://test.fhir.org/r4'\n",
    "fhir_test_server = 'http://hapi.fhir.org/baseR4'\n",
    "#fhir_test_server = 'http://wildfhir4.aegis.net/fhir4-0-1' \n",
    "\n",
    "headers = {\n",
    "    'Accept':'application/fhir+json',\n",
    "    'Content-Type':'application/fhir+json'\n",
    "     }\n",
    "params = {}\n",
    "\n",
    "new_pou  = '''\n",
    "type:\n",
    "    coding:\n",
    "    - system: http://hl7.org/fhir/us/davinci-cdex/CodeSystem/cdex-temp\n",
    "      code: purpose-of-use\n",
    "valueCodeableConcept:\n",
    "    coding:\n",
    "    - system: http://terminology.hl7.org/CodeSystem/v3-ActReason\n",
    "      code: COVERAGE\n",
    "'''\n",
    "\n",
    "# print(new_pou)\n",
    "\n",
    "# y_load(new_pou)\n",
    "\n",
    "new_tag  = '''\n",
    "system: 'http://hl7.org/fhir/us/davinci-cdex/CodeSystem/cdex-temp'\n",
    "code: claims-processing\n",
    "'''\n",
    "def convert(r):\n",
    "    r = post(f'{fhir_test_server}/$convert', params = params, headers = headers, data = r)\n",
    "    print(r.status_code)\n",
    "    # view  output\n",
    "    # return (r.json()[\"text\"][\"div\"])\n",
    "    return r.json()\n",
    "\n",
    "def validate(r): #as dict\n",
    "    r = post(f'{fhir_test_server}/{r[\"resourceType\"]}/$validate', params = params, headers = headers, data = dumps(r))\n",
    "    display(Markdown(f'### {r.status_code} {r.reason}\\n{r.json()[\"text\"][\"div\"]}')) \n",
    "    return r.json()\n",
    "\n",
    "def write(data,f): #as dict \n",
    "    display(Markdown(f'### Writing to {f}....')) \n",
    "    #out= Path()/ \"test_files\" / \"test.yml\"\n",
    "    out = Path(f)\n",
    "    out.write_text(y_dump(data, sort_keys=False)) #as yaml\n",
    "\n",
    "def entitle(name):\n",
    "    x = name.split('-')\n",
    "    return(' '.join(i.title() for i in x if i != \"example\"))\n",
    "\n",
    "def enname(name):\n",
    "    x = name.split('-')\n",
    "    return(' '.join(i for i in x if i != \"example\"))\n",
    "\n",
    "def p_name(f):\n",
    "    #p = loads(f.open().read())\n",
    "    p=f\n",
    "    try:\n",
    "        profile_url = (p['meta']['profile'][0])\n",
    "        return profile_url.split('/')[-1]\n",
    "    except KeyError:\n",
    "        return p['resourceType']\n",
    "\n",
    "files = [x for x in Path(in_path).iterdir() if x.is_file() and x.name.endswith('yml')]\n",
    "#files = [x for x in Path(in_path).iterdir() if x.is_file() and x.name.endswith('xml')] # Get xml and convert and rename to json\n",
    "for f in files:\n",
    "\n",
    "    data = y_load(f.open().read()) #dict\n",
    "#     print(data['resourceType'])\n",
    "    try:\n",
    "        assert data['resourceType']==\"Task\"\n",
    "    except Exception as e:\n",
    "        pass\n",
    "    else:\n",
    "        print(f, data['resourceType'])\n",
    "        data['meta']['tag']=[y_load(new_tag)]  # add work queue\n",
    "#         try:  remove reasoncode and add pou\n",
    "#            print(f\"********{data['reasonCode']['text']}*********\")\n",
    "#            assert data['reasonCode']['text'] == 'Support performing requested service'\n",
    "#            data.pop(\"reasonCode\")\n",
    "#            data['input'].append(y_load(new_pou))\n",
    "#         except KeyError:\n",
    "#            try: \n",
    "#               print(data['reasonCode']['text'])\n",
    "#            except KeyError: \n",
    "#               print('no reasonCode')\n",
    "        data['input'][1]['type']['coding'][0]['system']='http://hl7.org/fhir/us/davinci-cdex/CodeSystem/cdex-temp'  # correct system url\n",
    "        #print(y_dump(data, sort_keys=False))\n",
    "        validate(data)\n",
    "        write(data,f)\n",
    "        \n",
    " "
   ]
  },
  {
   "cell_type": "code",
   "execution_count": null,
   "metadata": {},
   "outputs": [],
   "source": []
  }
 ],
 "metadata": {
  "kernelspec": {
   "display_name": "Python 3",
   "language": "python",
   "name": "python3"
  },
  "language_info": {
   "codemirror_mode": {
    "name": "ipython",
    "version": 3
   },
   "file_extension": ".py",
   "mimetype": "text/x-python",
   "name": "python",
   "nbconvert_exporter": "python",
   "pygments_lexer": "ipython3",
   "version": "3.7.3"
  }
 },
 "nbformat": 4,
 "nbformat_minor": 4
}
