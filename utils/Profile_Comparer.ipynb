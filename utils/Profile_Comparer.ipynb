{
 "cells": [
  {
   "cell_type": "markdown",
   "metadata": {},
   "source": [
    "## Compare Profiles Between IGs\n",
    "\n",
    "This uses the validators compare function to compare a set of profiles:\n",
    "\n",
    "- inputs a user supplied csv table of tuples of the profiles to compare\n",
    " \n",
    "- output are folders with the comparisons\n",
    "\n",
    "---\n",
    "### Instructions\n",
    "\n",
    "- download the latest version of the validator from\n",
    "https://github.com/hapifhir/org.hl7.fhir.core/releases/latest/download/validator_cli.jar\n",
    "Comparing Profiles\n",
    "   - The validator can compare profiles. To compare profiles, use the following\n",
    "parameters:\n",
    "\n",
    "   ~~~\n",
    "   java -jar validator_cli.jar -compare -dest /home/user/work/ig-comparison\n",
    "   -version 4.0\n",
    "   -ig hl7.fhir.us.carin-bb#1.1.0\n",
    "   -ig hl7.fhir.us.davinci-crd#1.0.0\n",
    "   -left http://hl7.org/fhir/us/carin-bb/StructureDefinition/C4BB-Patient\n",
    "   -right http://hl7.org/fhir/us/davinci-crd/StructureDefinition/profile-patient\n",
    "   ~~~\n",
    "\n",
    "   **Parameters Explanation:**\n",
    "\n",
    "   - -compare: tell the validator to rin the comparison logic\n",
    "   - -dest: folder to produce the output. This must exist, and the validator will\n",
    "   overwrite existing content if it needs to. The output isnt simple - see below\n",
    "   - -version Maj.Min - the version to use. You can leave this out and let the\n",
    "   validator infer this, but its there so that you can compare profiles across\n",
    "   versions. E.g. if you specify -version 4.0, the profiles will both be treated as\n",
    "   R4 profiles, even if they arent\n",
    "   - -ig - a repeating parameter that specifies the packages to load, that contain\n",
    "   the profiles you want to compare\n",
    "   - -left and -right - the two profiles to compare. Theres no functional difference\n",
    "   between left and right, except that the comparison will keep to left and right\n",
    "   consistently\n",
    "\n",
    "### Output\n",
    "\n",
    "- The output starts at index.html. The output isnt simple (and may take some time\n",
    "to generate)\n",
    "\n",
    "- For each pair of profiles, the comparison generates a union and an\n",
    "intersections. The union is that total set of things that are allowed by either\n",
    "profile - thats what you could expect to read as a consumer of resources\n",
    "conforming to both profiles. The intersection is the set of things that both\n",
    "implementation guides allow - this is what you are required/allowed to write\n",
    "into a resource if you are creating one that must conform to both profiles. Its\n",
    "possible that the intersection will be empty - theres no valid instance that\n",
    "can conform to both profiles. In that case, consult the IG authors.\n",
    "\n",
    "- The comparison will (must) compare the sub-profiles that the profiles refer to.\n",
    "E.g. if both profiles on a resource such as MedicationAdministration refer to a\n",
    "profile of patient, those profiles will also be compared.\n",
    "\n",
    "---\n"
   ]
  },
  {
   "cell_type": "code",
   "execution_count": null,
   "metadata": {},
   "outputs": [],
   "source": [
    "\n",
    "from pandas import read_csv\n",
    "from pandas import DataFrame as df\n",
    "\n",
    "\n",
    "path='/Users/ehaas/Downloads/validator_cli.jar' # path to publisher\n",
    "IG1='fhir.argonaut.r2#1.0.0' # path to IG Package 1 = ARGONAUT DQ\n",
    "IG2='hl7.fhir.us.core#current' # path to IG Package 2 = US Core 6.0.0\n",
    "out_path='/Users/ehaas/Documents/Python/Jupyter/MyNotebooks/utils/out/profile_compare' # path to the root destination folder for individual compare folders\n",
    "OUT=f'{out_path}/temp_out'\n",
    "VERSION='4.0.1' # version of FHIR to use\n",
    "LEFT = 'ARGONAUT DQ'\n",
    "RIGHT = 'US Core 6.0.0'\n",
    "target_folder = 'comparison-argo' # name of the folder to create in the out_path\n",
    "\n",
    "OUT"
   ]
  },
  {
   "cell_type": "markdown",
   "metadata": {},
   "source": [
    "### Fetch Profiles to compare from CSV table"
   ]
  },
  {
   "cell_type": "code",
   "execution_count": null,
   "metadata": {},
   "outputs": [],
   "source": [
    "\n",
    "profile_map = '/Users/ehaas/Documents/FHIR/US-Core/input/images-source/ArgoDQ-USCore-ProfileMap.csv'\n",
    "df = read_csv(profile_map,na_filter=False)\n",
    "\n",
    "df"
   ]
  },
  {
   "cell_type": "markdown",
   "metadata": {},
   "source": [
    "### run the validator to compare profiles\n",
    "\n",
    "~~~\n",
    "java -Xmx4G -jar $path -compare -dest $OUT -version $VERSION -ig $IG1 -ig $IG2 -left $LEFT -right $RIGHT\n",
    "~~~\n",
    "\n",
    "### passing variables between bash and python\n",
    "\n",
    "<!-- ~~~\n",
    "a=10\n",
    "b=20\n",
    "~~~\n",
    "\n",
    "~~~\n",
    "%%bash -s $a $b --out c\n",
    "echo \"this is displayed\"\n",
    "echo \"the last thing printed to stdout will be passed back in the variable c\"\n",
    "echo \"a + b = $(($1+$2))\"\n",
    "~~~~\n",
    "\n",
    "~~~\n",
    "print(c)\n",
    "~~~\n",
    "this is displayed\n",
    "the last thing printed to stdout will be passed back in the variable c\n",
    "a + b = 30 -->"
   ]
  },
  {
   "cell_type": "code",
   "execution_count": null,
   "metadata": {},
   "outputs": [],
   "source": [
    "def compare(path, OUT, VERSION, IG1, IG2, LEFT, RIGHT):\n",
    "# %%bash -s $path $OUT $VERSION $IG1 $IG2 $LEFT $RIGHT \n",
    "# echo $1 $2 $3 $4 $5 $6 $7\n",
    "  print(f'OUT: {OUT}')\n",
    "  !mkdir -p {OUT}\n",
    "  !java -Xmx4G -jar {path} -compare -dest {OUT} -version {VERSION} -ig {IG1} -ig {IG2} -left {LEFT} -right {RIGHT}\n",
    "  print('============== on exit the output folder will open up your browser================')\n",
    "  return"
   ]
  },
  {
   "cell_type": "markdown",
   "metadata": {},
   "source": [
    "\n",
    "### clean up any old files\n"
   ]
  },
  {
   "cell_type": "code",
   "execution_count": null,
   "metadata": {},
   "outputs": [],
   "source": [
    "!ls {OUT}/vs-*.html\n",
    "!ls {OUT}/vs-*.json\n",
    "!rm {OUT}/vs-*.html\n",
    "!rm {OUT}/sd-*.html\n"
   ]
  },
  {
   "cell_type": "markdown",
   "metadata": {},
   "source": [
    "### Iterate over the Rows and perform comparison using the validator\n",
    "\n",
    "- some rows have 1 -> many profiles to compare\n",
    "- some rows have no profile to compare 1-> 0  and 0 -> 1"
   ]
  },
  {
   "cell_type": "code",
   "execution_count": null,
   "metadata": {},
   "outputs": [],
   "source": [
    "\n",
    "\n",
    "for r in df.itertuples():\n",
    "    print(r.Index, r[1], r[2],r[3])\n",
    "    \n",
    "\n",
    "\n",
    "    if r[1] and r[2]:\n",
    "        compare(path, OUT, VERSION, IG1, IG2, r[1], r[2])\n",
    "    if r[3]:\n",
    "        RFILENAME=r[3].split('/')[-1]\n",
    "        OUT=f'{out_path}/temp_out'\n",
    "        compare(path, OUT, VERSION, IG1, IG2, r[1], r[3])\n",
    "        # use bash to move the files to the r[2] place\n",
    "        # !cp {OUT}/*.html {out_path}\n",
    "        # !cp {OUT}/*.json {out_path}\n",
    "    if r.Index == 2:\n",
    "        break\n",
    "\n",
    "    # pull out *json and *html files from the output folder and put them in the first folder with the name of the profile\n",
    "    # combine the html tables into a single html file\n"
   ]
  },
  {
   "cell_type": "markdown",
   "metadata": {},
   "source": [
    "### Create own index.html from the table"
   ]
  },
  {
   "cell_type": "code",
   "execution_count": null,
   "metadata": {},
   "outputs": [],
   "source": [
    "import jinja2\n",
    "from IPython.display import display as Display, HTML\n",
    "from pathlib import Path\n",
    "import re\n",
    "\n",
    "profcomp = Path(r'/Users/ehaas/Documents/Python/Jupyter/MyNotebooks/utils/out/profile_compare/profcomp')\n",
    "env = jinja2.Environment(loader=jinja2.FileSystemLoader(searchpath='.'), trim_blocks=True, lstrip_blocks=True)\n",
    "template = env.get_template('profcompare.j2',)\n",
    "\n",
    "# code that fills in display_dictionary with the values to send to the template\n",
    "sd_complist = [f.name for f in Path(OUT).glob('sd-*.html')] # check if compare.html exists\n",
    "# get vs-*.html files\n",
    "# inspect the title of the html file to get the name of the value set\n",
    "# create a Dictionary of the value set name and the html file\n",
    "# create a template that will create a table of contents\n",
    "\n",
    "vs_dict = {f.name:re.findall(\"<title>(.*?)</title>\", f.read_text(),)[0] for f in Path(OUT).glob('vs-*.html')}\n",
    "\n",
    "my_index = template.render(LEFT=LEFT,\n",
    "                            RIGHT=RIGHT,\n",
    "                            profcomp=df.itertuples(),\n",
    "                            sd_complist=sd_complist,\n",
    "                            vs_dict=vs_dict)\n",
    "Display(HTML(my_index))\n",
    "# index_out = Path(r'/Users/ehaas/Documents/Python/Jupyter/MyNotebooks/utils/out/profile_compare/profcomp/index.html')\n",
    "# index_out.write_text(my_index)\n",
    "out = Path(f'{OUT}/index.html')    \n",
    "out.write_text(my_index)\n"
   ]
  },
  {
   "cell_type": "markdown",
   "metadata": {},
   "source": [
    "### delete files for ig-publisher and create a list of file to exempt from headers,etc\n",
    "\n",
    "add output to sushi-config.yaml file as a \"html-exempt\" file"
   ]
  },
  {
   "cell_type": "code",
   "execution_count": null,
   "metadata": {},
   "outputs": [],
   "source": [
    "!rm {OUT}/template-*.html\n",
    "!rm {OUT}/redirect.*.*\n",
    "from pathlib import Path\n",
    "out = Path(OUT)\n",
    "print('=== add output to sushi-config.yaml file as a \"html-exempt\" file===')\n",
    "for f in out.glob('*.html'):\n",
    "    print(f'    - {target_folder}/{f.name}')\n",
    "print('==================================')"
   ]
  }
 ],
 "metadata": {
  "kernelspec": {
   "display_name": "Python 3.10.2 64-bit ('3.10.2')",
   "language": "python",
   "name": "python3"
  },
  "language_info": {
   "codemirror_mode": {
    "name": "ipython",
    "version": 3
   },
   "file_extension": ".py",
   "mimetype": "text/x-python",
   "name": "python",
   "nbconvert_exporter": "python",
   "pygments_lexer": "ipython3",
   "version": "3.10.2"
  },
  "orig_nbformat": 4,
  "vscode": {
   "interpreter": {
    "hash": "bb8ac4d7b3820c0aa90a30c1b759ca2e95fae5fe8e398fc22d29664b70d4e4bb"
   }
  }
 },
 "nbformat": 4,
 "nbformat_minor": 2
}
