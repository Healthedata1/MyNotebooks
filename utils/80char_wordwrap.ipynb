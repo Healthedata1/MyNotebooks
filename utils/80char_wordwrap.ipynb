{
 "cells": [
  {
   "cell_type": "code",
   "execution_count": 1,
   "metadata": {},
   "outputs": [
    {
     "name": "stdout",
     "output_type": "stream",
     "text": [
      "   FHIR is a standard for health care data exchange, published by HL7.  FHIR US\n",
      "  Core Implementation Guide uses that standard to support the latest\n",
      "  requirements from ONC U.S. Core Data for Interoperability (USCDI) and are\n",
      "  designed to meet the EHR certification criterion for Patient Selection\n",
      "  170.315(g)(7) and Application Access – Data Category Request.  US Core\n",
      "  selected the NAHDO SOP Code for representing USCDI Data element \"Coverage\n",
      "  type\" (https://www.healthit.gov/isa/taxonomy/term/2351/uscdi-v3) as\n",
      "  recommended by the ONC Submitters from the Centers for Medicare and Medicaid\n",
      "  Services (CMS) Center for Clinical Standards and Quality (CCSQ).  However\n",
      "  systems that are implementing the standard have approached us about how to\n",
      "  represent Medicare part A and Part B as discrete types.  As your guidance\n",
      "  documents these concepts are subsume by the single code 11 (Medicare)  Adding\n",
      "  these concepts would provide a standard way to represent them and promote\n",
      "  interoperability of patient coverage information.\n"
     ]
    }
   ],
   "source": [
    "from textwrap import fill, dedent\n",
    "my_text = '''\n",
    " FHIR is a standard for health care data exchange, published by HL7.  FHIR US Core Implementation Guide uses that standard to support the latest requirements from ONC U.S. Core Data for Interoperability (USCDI) and are designed to meet the EHR certification criterion for Patient Selection 170.315(g)(7) and Application Access – Data Category Request.  US Core selected the NAHDO SOP Code for representing USCDI Data element \"Coverage type\" (https://www.healthit.gov/isa/taxonomy/term/2351/uscdi-v3) as recommended by the ONC Submitters from the Centers for Medicare and Medicaid Services (CMS) Center for Clinical Standards and Quality (CCSQ).\n",
    "\n",
    "However systems that are implementing the standard have approached us about how to represent Medicare part A and Part B as discrete types.  As your guidance documents these concepts are subsume by the single code 11 (Medicare)  Adding these concepts would provide a standard way to represent them and promote interoperability of patient coverage information.\n",
    "'''\n",
    "\n",
    "wrapped_text = fill(dedent(my_text), width=80,initial_indent=' ', subsequent_indent=  '  ')\n",
    "print(wrapped_text)"
   ]
  }
 ],
 "metadata": {
  "kernelspec": {
   "display_name": "fhir_builds",
   "language": "python",
   "name": "python3"
  },
  "language_info": {
   "codemirror_mode": {
    "name": "ipython",
    "version": 3
   },
   "file_extension": ".py",
   "mimetype": "text/x-python",
   "name": "python",
   "nbconvert_exporter": "python",
   "pygments_lexer": "ipython3",
   "version": "3.7.12"
  },
  "orig_nbformat": 4
 },
 "nbformat": 4,
 "nbformat_minor": 2
}
