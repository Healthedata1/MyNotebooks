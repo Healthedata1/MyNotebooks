{
 "cells": [
  {
   "cell_type": "code",
   "execution_count": 2,
   "metadata": {},
   "outputs": [
    {
     "name": "stdout",
     "output_type": "stream",
     "text": [
      " In US Core there is no formal 1:1 relationship between Observation.category and\n",
      "  the Observation Profile. You could wrongly infer that from how some profiles\n",
      "  are constructed and how the USCDI data elements become categories. But that\n",
      "  inference quickly falls apart if you consider a category of \"social- history\"\n",
      "  for example, which is used across several US Core observation profiles.\n",
      "  Category code use is not restricted to a single category, so simple\n",
      "  observation with a survey category is acceptable. It is best to think of them\n",
      "  as a grouping element for filtering observations retrieved and displayed. We\n",
      "  also provide this caveat about the category element: \"Clients need to\n",
      "  understand that data categorization is somewhat subjective. The categorization\n",
      "  applied by the source may not align with the client’s expectations. Clients\n",
      "  may find it more beneficial to use queries based on a specific code or set of\n",
      "  codes or to perform additional client-side filtering of query results.\"\n"
     ]
    }
   ],
   "source": [
    "from textwrap import fill, dedent\n",
    "my_text = '''\n",
    "In US Core there is no formal 1:1 relationship between Observation.category and the Observation Profile. You could wrongly infer that from how some profiles are constructed and how the USCDI data elements become categories. But that inference quickly falls apart if you consider a category of \"social- history\" for example, which is used across several US Core observation profiles. Category code use is not restricted to a single category, so simple observation with a survey category is acceptable. It is best to think of them as a grouping element for filtering observations retrieved and displayed. We also provide this caveat about the category element: \"Clients need to understand that data categorization is somewhat subjective. The categorization applied by the source may not align with the client’s expectations. Clients may find it more beneficial to use queries based on a specific code or set of codes or to perform additional client-side filtering of query results.\"'''\n",
    "my_text = ' '.join(my_text.split())\n",
    "wrapped_text = fill(dedent(my_text), width=80,initial_indent=' ', subsequent_indent=  '  ')\n",
    "print(wrapped_text)"
   ]
  },
  {
   "cell_type": "markdown",
   "metadata": {},
   "source": []
  }
 ],
 "metadata": {
  "kernelspec": {
   "display_name": "fhir_builds",
   "language": "python",
   "name": "python3"
  },
  "language_info": {
   "codemirror_mode": {
    "name": "ipython",
    "version": 3
   },
   "file_extension": ".py",
   "mimetype": "text/x-python",
   "name": "python",
   "nbconvert_exporter": "python",
   "pygments_lexer": "ipython3",
   "version": "3.10.2"
  },
  "orig_nbformat": 4
 },
 "nbformat": 4,
 "nbformat_minor": 2
}
