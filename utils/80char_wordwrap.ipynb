{
 "cells": [
  {
   "cell_type": "code",
   "execution_count": 17,
   "metadata": {},
   "outputs": [
    {
     "name": "stdout",
     "output_type": "stream",
     "text": [
      " An extension to communicate the US state or local jurisdiction for individual\n",
      "  and entity identifiers. For example, a practitioner's state or local\n",
      "  jurisdiction for a license.\n"
     ]
    }
   ],
   "source": [
    "from textwrap import fill, dedent\n",
    "my_text = '''\n",
    "An extension to communicate the US state or local jurisdiction for individual and entity identifiers. For example, a practitioner's state or local jurisdiction for a license.\n",
    "'''\n",
    "my_text = ' '.join(my_text.split())\n",
    "wrapped_text = fill(dedent(my_text), width=80,initial_indent=' ', subsequent_indent=  '  ')\n",
    "print(wrapped_text)"
   ]
  }
 ],
 "metadata": {
  "kernelspec": {
   "display_name": "fhir_builds",
   "language": "python",
   "name": "python3"
  },
  "language_info": {
   "codemirror_mode": {
    "name": "ipython",
    "version": 3
   },
   "file_extension": ".py",
   "mimetype": "text/x-python",
   "name": "python",
   "nbconvert_exporter": "python",
   "pygments_lexer": "ipython3",
   "version": "3.10.2"
  },
  "orig_nbformat": 4
 },
 "nbformat": 4,
 "nbformat_minor": 2
}
