{
 "cells": [
  {
   "cell_type": "code",
   "execution_count": 6,
   "metadata": {},
   "outputs": [
    {
     "name": "stdout",
     "output_type": "stream",
     "text": [
      "  This profile uses the [US Core Medication Adherence Extension] to report\n",
      "  medication adherence. This extension communicates whether a medication has\n",
      "  been consumed according to instructions for discharge, community-prescribed,\n",
      "  and self-prescribed medications. It is not intended to track   adherence to\n",
      "  the Inpatient Medication Administration Record (MAR). In FHIR,   [MedicationAd\n",
      "  ministration](https://hl7.org/fhir/R4/medicationadministration.html) is\n",
      "  typically used   to monitor compliance with the MAR.\n"
     ]
    }
   ],
   "source": [
    "from textwrap import fill, dedent\n",
    "my_text = '''\n",
    "This profile uses the [US Core Medication Adherence Extension] to report medication adherence. This extension communicates whether a medication has\n",
    "  been consumed according to instructions for discharge, community-prescribed,\n",
    "  and self-prescribed medications. It is not intended to track\n",
    "  adherence to the Inpatient Medication Administration Record (MAR). In FHIR,\n",
    "  [MedicationAdministration](https://hl7.org/fhir/R4/medicationadministration.html) is typically used\n",
    "  to monitor compliance with the MAR.\n",
    "'''\n",
    "\n",
    "wrapped_text = fill(dedent(my_text), width=80,initial_indent=' ', subsequent_indent=  '  ')\n",
    "print(wrapped_text)"
   ]
  }
 ],
 "metadata": {
  "kernelspec": {
   "display_name": "fhir_builds",
   "language": "python",
   "name": "python3"
  },
  "language_info": {
   "codemirror_mode": {
    "name": "ipython",
    "version": 3
   },
   "file_extension": ".py",
   "mimetype": "text/x-python",
   "name": "python",
   "nbconvert_exporter": "python",
   "pygments_lexer": "ipython3",
   "version": "3.10.2"
  },
  "orig_nbformat": 4
 },
 "nbformat": 4,
 "nbformat_minor": 2
}
