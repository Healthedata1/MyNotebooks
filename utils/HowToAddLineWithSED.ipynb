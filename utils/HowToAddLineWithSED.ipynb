{
 "cells": [
  {
   "cell_type": "markdown",
   "metadata": {},
   "source": [
    "### Add Line to all html files\n"
   ]
  },
  {
   "cell_type": "code",
   "execution_count": null,
   "metadata": {},
   "outputs": [],
   "source": [
    "my_text = '\\<!--ReleaseHeader-\\>\\<p id=\"publish-box\">Publish Box goes here<\\/p\\>\\<!--EndReleaseHeader--\\>'\n",
    "!sed -i \"\" \"1s/^/{my_text}\\n/\" {OUT}/sd-*.html\n",
    "!sed -i \"\" \"1s/^/{my_text}\\n/\" {OUT}/vs-*.html"
   ]
  }
 ],
 "metadata": {
  "kernelspec": {
   "display_name": "Python 3.10.2 64-bit ('3.10.2')",
   "language": "python",
   "name": "python3"
  },
  "language_info": {
   "name": "python",
   "version": "3.10.2"
  },
  "orig_nbformat": 4,
  "vscode": {
   "interpreter": {
    "hash": "bb8ac4d7b3820c0aa90a30c1b759ca2e95fae5fe8e398fc22d29664b70d4e4bb"
   }
  }
 },
 "nbformat": 4,
 "nbformat_minor": 2
}
