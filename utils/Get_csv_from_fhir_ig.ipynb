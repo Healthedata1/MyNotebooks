{
 "cells": [
  {
   "cell_type": "markdown",
   "metadata": {},
   "source": [
    "## Get CSV files from website\n",
    "\n",
    "- read file\n",
    "- write file"
   ]
  },
  {
   "cell_type": "code",
   "execution_count": 5,
   "metadata": {},
   "outputs": [],
   "source": [
    "from pathlib import Path\n",
    "from requests import get\n",
    "from pyexcel import merge"
   ]
  },
  {
   "cell_type": "code",
   "execution_count": 33,
   "metadata": {},
   "outputs": [
    {
     "name": "stdout",
     "output_type": "stream",
     "text": [
      "0\n",
      "1\n",
      "2\n",
      "3\n",
      "4\n",
      "5\n",
      "6\n",
      "7\n",
      "8\n",
      "9\n",
      "10\n",
      "11\n",
      "12\n",
      "13\n",
      "14\n",
      "15\n",
      "16\n",
      "17\n",
      "18\n",
      "19\n",
      "20\n",
      "21\n"
     ]
    }
   ],
   "source": [
    "in_path = Path(r\"/Users/ehaas/Downloads/definitions.json\")\n",
    "out_parent = \"out/csv\"\n",
    "base_url = 'http://www.fhir.org/guides/argonaut/r2/'\n",
    "\n",
    "for i,f in enumerate(in_path.glob('*Struct*')):\n",
    "    print(i)\n",
    "    # print(i,f.stem.lower().replace('structuredefinition-',''), type(f.name))\n",
    "    my_stem = f.stem.lower().replace('structuredefinition-','')\n",
    "    out_path = Path() / out_parent / f'StructureDefinition-{my_stem}.csv'\n",
    "    # print(out_path)\n",
    "    r = get(f'{base_url}{my_stem}.csv')\n",
    "    # print(type(r.content))\n",
    "    out_path.write_bytes(r.content)\n",
    "  "
   ]
  },
  {
   "cell_type": "markdown",
   "metadata": {},
   "source": [
    "#### use bash to combine into one spreadsheet\n"
   ]
  },
  {
   "cell_type": "code",
   "execution_count": 38,
   "metadata": {},
   "outputs": [],
   "source": [
    "%%bash\n",
    "outpath=out/csv\n",
    "cp $outpath/headers.csv $outpath/all_profiles.csv\n",
    "find $outpath -name StructureDefinition-*.csv -exec tail -qn +2 {} + >> $outpath/all_profiles.csv"
   ]
  }
 ],
 "metadata": {
  "kernelspec": {
   "display_name": "Python 3 (ipykernel)",
   "language": "python",
   "name": "python3"
  },
  "language_info": {
   "codemirror_mode": {
    "name": "ipython",
    "version": 3
   },
   "file_extension": ".py",
   "mimetype": "text/x-python",
   "name": "python",
   "nbconvert_exporter": "python",
   "pygments_lexer": "ipython3",
   "version": "3.10.2"
  }
 },
 "nbformat": 4,
 "nbformat_minor": 4
}
