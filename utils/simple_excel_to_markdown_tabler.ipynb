{
 "cells": [
  {
   "cell_type": "markdown",
   "metadata": {},
   "source": [
    "### open excel workbook files from directory and create markdown tables\n",
    "\n",
    "- get .xlsx files from the local build input/image/source folder\n",
    "- convert links to external links.\n",
    "- print out markdown files\n",
    "- save files as input/includes files\n",
    "- !check out how I made excel files..."
   ]
  },
  {
   "cell_type": "markdown",
   "metadata": {},
   "source": []
  },
  {
   "cell_type": "code",
   "execution_count": 39,
   "metadata": {},
   "outputs": [],
   "source": [
    "from pathlib import Path\n",
    "import openpyxl\n",
    "import pandas as pd\n",
    "import csv\n",
    "from json import loads\n",
    "from IPython import display"
   ]
  },
  {
   "cell_type": "markdown",
   "metadata": {},
   "source": [
    "### get path from IG output dir"
   ]
  },
  {
   "cell_type": "code",
   "execution_count": 40,
   "metadata": {},
   "outputs": [
    {
     "data": {
      "text/plain": [
       "(PosixPath('/Users/ehaas/Documents/FHIR/US-Core/input/images-source/additional-uscdi-requirements.xlsx'),\n",
       " 'additional-uscdi-requirements',\n",
       " '<!-- source file = /Users/ehaas/Documents/FHIR/US-Core/input/images-source/additional-uscdi-requirements.xlsx, Do not edit directly.convert  using MyNotebooks/utils/simple_excel_to_markdown_tabler.ipynb -->',\n",
       " PosixPath('/Users/ehaas/Documents/FHIR/US-Core/input/includes'))"
      ]
     },
     "execution_count": 40,
     "metadata": {},
     "output_type": "execute_result"
    }
   ],
   "source": [
    "\n",
    "#in_path = Path(r'/Users/ehaas/Documents/FHIR/US-Core/input/images-source/dstu2-r4-table.xlsx')\n",
    "in_path = Path(r'/Users/ehaas/Documents/FHIR/US-Core/input/images-source/additional-uscdi-requirements.xlsx')\n",
    "comment = f\"<!-- source file = {in_path}, Do not edit directly.convert  using MyNotebooks/utils/simple_excel_to_markdown_tabler.ipynb -->\"\n",
    "\n",
    "out_path = Path(r'/Users/ehaas/Documents/Python/Jupyter/MyNotebooks/utils/out/includes/')\n",
    "out_path = Path(r'/Users/ehaas/Documents/FHIR/US-Core/input/includes')\n",
    "# out_path = Path(r'/Users/ehaas/Documents/FHIR/Healthedata1-Sandbox/input/includes')\n",
    "\n",
    "in_path, in_path.stem, comment, out_path"
   ]
  },
  {
   "cell_type": "markdown",
   "metadata": {},
   "source": [
    "### Get WB and list sheets"
   ]
  },
  {
   "cell_type": "markdown",
   "metadata": {},
   "source": []
  },
  {
   "cell_type": "markdown",
   "metadata": {},
   "source": []
  },
  {
   "cell_type": "code",
   "execution_count": 41,
   "metadata": {},
   "outputs": [
    {
     "data": {
      "text/html": [
       "<div>\n",
       "<style scoped>\n",
       "    .dataframe tbody tr th:only-of-type {\n",
       "        vertical-align: middle;\n",
       "    }\n",
       "\n",
       "    .dataframe tbody tr th {\n",
       "        vertical-align: top;\n",
       "    }\n",
       "\n",
       "    .dataframe thead th {\n",
       "        text-align: right;\n",
       "    }\n",
       "</style>\n",
       "<table border=\"1\" class=\"dataframe\">\n",
       "  <thead>\n",
       "    <tr style=\"text-align: right;\">\n",
       "      <th></th>\n",
       "      <th>Additional USCDI Requirements</th>\n",
       "      <th>Profile</th>\n",
       "      <th>FHIR Element</th>\n",
       "    </tr>\n",
       "  </thead>\n",
       "  <tbody>\n",
       "    <tr>\n",
       "      <th>0</th>\n",
       "      <td>Contact Detail</td>\n",
       "      <td>[US Core Patient Profile]</td>\n",
       "      <td>Patient.telecom</td>\n",
       "    </tr>\n",
       "    <tr>\n",
       "      <th>1</th>\n",
       "      <td>A Communication Language</td>\n",
       "      <td>[US Core Patient Profile]</td>\n",
       "      <td>Patient.communication</td>\n",
       "    </tr>\n",
       "    <tr>\n",
       "      <th>2</th>\n",
       "      <td>A Race</td>\n",
       "      <td>[US Core Patient Profile]</td>\n",
       "      <td>Patient.extension:race</td>\n",
       "    </tr>\n",
       "    <tr>\n",
       "      <th>3</th>\n",
       "      <td>An Ethnicity</td>\n",
       "      <td>[US Core Patient Profile]</td>\n",
       "      <td>Patient.extension:ethnicity</td>\n",
       "    </tr>\n",
       "    <tr>\n",
       "      <th>4</th>\n",
       "      <td>A Tribal Affiliation</td>\n",
       "      <td>[US Core Patient Profile]</td>\n",
       "      <td>Patient.extension:tribalAffiliation</td>\n",
       "    </tr>\n",
       "    <tr>\n",
       "      <th>5</th>\n",
       "      <td>A Birth Sex</td>\n",
       "      <td>[US Core Patient Profile]</td>\n",
       "      <td>Patient.extension:birthsex</td>\n",
       "    </tr>\n",
       "    <tr>\n",
       "      <th>6</th>\n",
       "      <td>Gender Identity</td>\n",
       "      <td>[US Core Patient Profile]</td>\n",
       "      <td>Patient.extension:genderIdentity</td>\n",
       "    </tr>\n",
       "    <tr>\n",
       "      <th>7</th>\n",
       "      <td>Date Of Death</td>\n",
       "      <td>[US Core Patient Profile]</td>\n",
       "      <td>Patient.deceased[x]</td>\n",
       "    </tr>\n",
       "    <tr>\n",
       "      <th>8</th>\n",
       "      <td>Previous Address</td>\n",
       "      <td>[US Core Patient Profile]</td>\n",
       "      <td>Patient.address.use</td>\n",
       "    </tr>\n",
       "    <tr>\n",
       "      <th>9</th>\n",
       "      <td>Previous Name</td>\n",
       "      <td>[US Core Patient Profile]</td>\n",
       "      <td>Patient.name.use</td>\n",
       "    </tr>\n",
       "    <tr>\n",
       "      <th>10</th>\n",
       "      <td>Suffix</td>\n",
       "      <td>[US Core Patient Profile]</td>\n",
       "      <td>Patient.name.suffix</td>\n",
       "    </tr>\n",
       "    <tr>\n",
       "      <th>11</th>\n",
       "      <td>A Reason Or Indication For Referral Or Consult...</td>\n",
       "      <td>[US Core ServiceRequest Profile]</td>\n",
       "      <td>ServiceRequest.reasonCode</td>\n",
       "    </tr>\n",
       "    <tr>\n",
       "      <th>12</th>\n",
       "      <td>A Reason Or Indication For Referral Or Consult...</td>\n",
       "      <td>[US Core ServiceRequest Profile]</td>\n",
       "      <td>ServiceRequest.reasonReference</td>\n",
       "    </tr>\n",
       "    <tr>\n",
       "      <th>13</th>\n",
       "      <td>The Reason Or Indication For The Prescription</td>\n",
       "      <td>[US Core MedicationRequest Profile]</td>\n",
       "      <td>MedicationRequest.reasonCode</td>\n",
       "    </tr>\n",
       "    <tr>\n",
       "      <th>14</th>\n",
       "      <td>The Reason Or Indication For The Prescription</td>\n",
       "      <td>[US Core MedicationRequest Profile]</td>\n",
       "      <td>MedicationRequest.reasonReference</td>\n",
       "    </tr>\n",
       "    <tr>\n",
       "      <th>15</th>\n",
       "      <td>A Reference To The Request For The Procedure</td>\n",
       "      <td>[US Core Procedure Profile]</td>\n",
       "      <td>Procedure.basedOn</td>\n",
       "    </tr>\n",
       "    <tr>\n",
       "      <th>16</th>\n",
       "      <td>US Core Document Category</td>\n",
       "      <td>[US Core DocumentReference Profile]</td>\n",
       "      <td>DocumentReference.category:uscore</td>\n",
       "    </tr>\n",
       "    <tr>\n",
       "      <th>17</th>\n",
       "      <td>References To An Associated Survey, Assessment...</td>\n",
       "      <td>[US Core Observation Profile]</td>\n",
       "      <td>Observation.derivedFrom</td>\n",
       "    </tr>\n",
       "  </tbody>\n",
       "</table>\n",
       "</div>"
      ],
      "text/plain": [
       "                        Additional USCDI Requirements  \\\n",
       "0                                      Contact Detail   \n",
       "1                            A Communication Language   \n",
       "2                                              A Race   \n",
       "3                                        An Ethnicity   \n",
       "4                                A Tribal Affiliation   \n",
       "5                                         A Birth Sex   \n",
       "6                                     Gender Identity   \n",
       "7                                       Date Of Death   \n",
       "8                                    Previous Address   \n",
       "9                                       Previous Name   \n",
       "10                                             Suffix   \n",
       "11  A Reason Or Indication For Referral Or Consult...   \n",
       "12  A Reason Or Indication For Referral Or Consult...   \n",
       "13      The Reason Or Indication For The Prescription   \n",
       "14      The Reason Or Indication For The Prescription   \n",
       "15       A Reference To The Request For The Procedure   \n",
       "16                          US Core Document Category   \n",
       "17  References To An Associated Survey, Assessment...   \n",
       "\n",
       "                                Profile                         FHIR Element  \n",
       "0             [US Core Patient Profile]                      Patient.telecom  \n",
       "1             [US Core Patient Profile]                Patient.communication  \n",
       "2             [US Core Patient Profile]               Patient.extension:race  \n",
       "3             [US Core Patient Profile]          Patient.extension:ethnicity  \n",
       "4             [US Core Patient Profile]  Patient.extension:tribalAffiliation  \n",
       "5             [US Core Patient Profile]           Patient.extension:birthsex  \n",
       "6             [US Core Patient Profile]     Patient.extension:genderIdentity  \n",
       "7             [US Core Patient Profile]                  Patient.deceased[x]  \n",
       "8             [US Core Patient Profile]                  Patient.address.use  \n",
       "9             [US Core Patient Profile]                     Patient.name.use  \n",
       "10            [US Core Patient Profile]                  Patient.name.suffix  \n",
       "11     [US Core ServiceRequest Profile]            ServiceRequest.reasonCode  \n",
       "12     [US Core ServiceRequest Profile]       ServiceRequest.reasonReference  \n",
       "13  [US Core MedicationRequest Profile]         MedicationRequest.reasonCode  \n",
       "14  [US Core MedicationRequest Profile]    MedicationRequest.reasonReference  \n",
       "15          [US Core Procedure Profile]                    Procedure.basedOn  \n",
       "16  [US Core DocumentReference Profile]    DocumentReference.category:uscore  \n",
       "17        [US Core Observation Profile]              Observation.derivedFrom  "
      ]
     },
     "execution_count": 41,
     "metadata": {},
     "output_type": "execute_result"
    }
   ],
   "source": [
    "# load Excel WB using pandas\n",
    "df = pd.read_excel(in_path, keep_default_na=False)\n",
    "# df['Additional USCDI Requirements'] = df['Additional USCDI Requirements'].str.title().str.replace('Us','US')\n",
    "# df.to_excel(in_path, index=False)\n",
    "df"
   ]
  },
  {
   "cell_type": "markdown",
   "metadata": {},
   "source": [
    "###  Create a markdown table\n",
    "    - create markdown table \n",
    "    - save"
   ]
  },
  {
   "cell_type": "code",
   "execution_count": 42,
   "metadata": {},
   "outputs": [
    {
     "name": "stdout",
     "output_type": "stream",
     "text": [
      "printing to /Users/ehaas/Documents/FHIR/US-Core/input/includes/additional-uscdi-requirements.md.....\n",
      "<!-- source file = /Users/ehaas/Documents/FHIR/US-Core/input/images-source/additional-uscdi-requirements.xlsx, Do not edit directly. Convert using MyNotebooks/utils/simple_excel_to_markdown_tabler.ipynb -->\n",
      "\n",
      "| Additional USCDI Requirements                                     | Profile                             | FHIR Element                        |\n",
      "|-------------------------------------------------------------------|-------------------------------------|-------------------------------------|\n",
      "| Contact Detail                                                    | [US Core Patient Profile]           | Patient.telecom                     |\n",
      "| A Communication Language                                          | [US Core Patient Profile]           | Patient.communication               |\n",
      "| A Race                                                            | [US Core Patient Profile]           | Patient.extension:race              |\n",
      "| An Ethnicity                                                      | [US Core Patient Profile]           | Patient.extension:ethnicity         |\n",
      "| A Tribal Affiliation                                              | [US Core Patient Profile]           | Patient.extension:tribalAffiliation |\n",
      "| A Birth Sex                                                       | [US Core Patient Profile]           | Patient.extension:birthsex          |\n",
      "| Gender Identity                                                   | [US Core Patient Profile]           | Patient.extension:genderIdentity    |\n",
      "| Date Of Death                                                     | [US Core Patient Profile]           | Patient.deceased[x]                 |\n",
      "| Previous Address                                                  | [US Core Patient Profile]           | Patient.address.use                 |\n",
      "| Previous Name                                                     | [US Core Patient Profile]           | Patient.name.use                    |\n",
      "| Suffix                                                            | [US Core Patient Profile]           | Patient.name.suffix                 |\n",
      "| A Reason Or Indication For Referral Or Consultation               | [US Core ServiceRequest Profile]    | ServiceRequest.reasonCode           |\n",
      "| A Reason Or Indication For Referral Or Consultation               | [US Core ServiceRequest Profile]    | ServiceRequest.reasonReference      |\n",
      "| The Reason Or Indication For The Prescription                     | [US Core MedicationRequest Profile] | MedicationRequest.reasonCode        |\n",
      "| The Reason Or Indication For The Prescription                     | [US Core MedicationRequest Profile] | MedicationRequest.reasonReference   |\n",
      "| A Reference To The Request For The Procedure                      | [US Core Procedure Profile]         | Procedure.basedOn                   |\n",
      "| US Core Document Category                                         | [US Core DocumentReference Profile] | DocumentReference.category:uscore   |\n",
      "| References To An Associated Survey, Assessment, Or Screening Tool | [US Core Observation Profile]       | Observation.derivedFrom             |\n",
      "{:.grid}\n"
     ]
    },
    {
     "data": {
      "text/markdown": [
       "<!-- source file = /Users/ehaas/Documents/FHIR/US-Core/input/images-source/additional-uscdi-requirements.xlsx, Do not edit directly. Convert using MyNotebooks/utils/simple_excel_to_markdown_tabler.ipynb -->\n",
       "\n",
       "| Additional USCDI Requirements                                     | Profile                             | FHIR Element                        |\n",
       "|-------------------------------------------------------------------|-------------------------------------|-------------------------------------|\n",
       "| Contact Detail                                                    | [US Core Patient Profile]           | Patient.telecom                     |\n",
       "| A Communication Language                                          | [US Core Patient Profile]           | Patient.communication               |\n",
       "| A Race                                                            | [US Core Patient Profile]           | Patient.extension:race              |\n",
       "| An Ethnicity                                                      | [US Core Patient Profile]           | Patient.extension:ethnicity         |\n",
       "| A Tribal Affiliation                                              | [US Core Patient Profile]           | Patient.extension:tribalAffiliation |\n",
       "| A Birth Sex                                                       | [US Core Patient Profile]           | Patient.extension:birthsex          |\n",
       "| Gender Identity                                                   | [US Core Patient Profile]           | Patient.extension:genderIdentity    |\n",
       "| Date Of Death                                                     | [US Core Patient Profile]           | Patient.deceased[x]                 |\n",
       "| Previous Address                                                  | [US Core Patient Profile]           | Patient.address.use                 |\n",
       "| Previous Name                                                     | [US Core Patient Profile]           | Patient.name.use                    |\n",
       "| Suffix                                                            | [US Core Patient Profile]           | Patient.name.suffix                 |\n",
       "| A Reason Or Indication For Referral Or Consultation               | [US Core ServiceRequest Profile]    | ServiceRequest.reasonCode           |\n",
       "| A Reason Or Indication For Referral Or Consultation               | [US Core ServiceRequest Profile]    | ServiceRequest.reasonReference      |\n",
       "| The Reason Or Indication For The Prescription                     | [US Core MedicationRequest Profile] | MedicationRequest.reasonCode        |\n",
       "| The Reason Or Indication For The Prescription                     | [US Core MedicationRequest Profile] | MedicationRequest.reasonReference   |\n",
       "| A Reference To The Request For The Procedure                      | [US Core Procedure Profile]         | Procedure.basedOn                   |\n",
       "| US Core Document Category                                         | [US Core DocumentReference Profile] | DocumentReference.category:uscore   |\n",
       "| References To An Associated Survey, Assessment, Or Screening Tool | [US Core Observation Profile]       | Observation.derivedFrom             |\n",
       "{:.grid}"
      ]
     },
     "metadata": {},
     "output_type": "display_data"
    }
   ],
   "source": [
    "def md_tabler(file_name, df):\n",
    "\n",
    "    my_table = df.to_markdown(index=False, tablefmt=\"github\")\n",
    "\n",
    "    # for i in range(1,10):\n",
    "    #   my_table = my_table.replace('----','---')\n",
    "    #   my_table = my_table.replace('  ',' ')\n",
    "    # add ' comment at  beginning and {:.grid}' to the end of the tablefmt to get a grid\n",
    "    my_table = f'<!-- source file = {in_path}, Do not edit directly. Convert using MyNotebooks/utils/simple_excel_to_markdown_tabler.ipynb -->\\n\\n{my_table}\\n{{:.grid}}'\n",
    "    md = Path()/ out_path / (file_name + '.md')\n",
    "    print(f'printing to {md}.....')\n",
    "    md.write_text(my_table)\n",
    "    print(my_table)\n",
    "    display.display_markdown(my_table, raw=True)\n",
    "\n",
    "\n",
    "md_tabler(in_path.stem, df)"
   ]
  }
 ],
 "metadata": {
  "kernelspec": {
   "display_name": "Python 3.10.2 64-bit ('jupyter')",
   "language": "python",
   "name": "python3"
  },
  "language_info": {
   "codemirror_mode": {
    "name": "ipython",
    "version": 3
   },
   "file_extension": ".py",
   "mimetype": "text/x-python",
   "name": "python",
   "nbconvert_exporter": "python",
   "pygments_lexer": "ipython3",
   "version": "3.10.2"
  },
  "vscode": {
   "interpreter": {
    "hash": "18672f2fb81dcbb023a0ac48a86c775a19488782369d96ffbd3382a22fd285cf"
   }
  }
 },
 "nbformat": 4,
 "nbformat_minor": 4
}
