{
 "cells": [
  {
   "cell_type": "markdown",
   "metadata": {},
   "source": [
    "## find and replace text in selected files in folder\n",
    "\n",
    "- nominate target directory\n",
    "- fetch file names from target directory using pathlib\n",
    "- display a choice list to choose file manually\n",
    "- open file using pathlib\n",
    "- run find an replace script (regex)\n",
    "- write back to directory using pathlib"
   ]
  },
  {
   "cell_type": "markdown",
   "metadata": {},
   "source": [
    "### Imports"
   ]
  },
  {
   "cell_type": "code",
   "execution_count": null,
   "metadata": {},
   "outputs": [],
   "source": [
    "from json import load, dumps, loads\n",
    "from requests import get, post, put\n",
    "from IPython.display import display, Markdown, HTML\n",
    "from pprint import pprint\n",
    "from pathlib import Path, WindowsPath"
   ]
  },
  {
   "cell_type": "markdown",
   "metadata": {},
   "source": [
    "### globals  (target_dir)\n",
    "  - todo make an user input"
   ]
  },
  {
   "cell_type": "code",
   "execution_count": null,
   "metadata": {},
   "outputs": [],
   "source": [
    "mac = '/Users'\n",
    "pc = '//ERICS-AIR-2'\n",
    "base = 'ehaas/Documents/FHIR/Davinci-DEQM'\n",
    "#base = ''\n",
    "target = 'input/pagecontent'\n",
    "#target = 'test_files'\n",
    "#mac  = ''"
   ]
  },
  {
   "cell_type": "markdown",
   "metadata": {},
   "source": [
    "### list all file in dir"
   ]
  },
  {
   "cell_type": "code",
   "execution_count": 80,
   "metadata": {},
   "outputs": [
    {
     "name": "stdout",
     "output_type": "stream",
     "text": [
      "/Users/ehaas/Documents/FHIR/Davinci-DEQM/input/pagecontent\n",
      "True\n"
     ]
    },
    {
     "data": {
      "application/vnd.jupyter.widget-view+json": {
       "model_id": "aec0e6f34bd64936821485100f0c8d31",
       "version_major": 2,
       "version_minor": 0
      },
      "text/plain": [
       "Dropdown(description='Choose target file', layout=Layout(width='initial'), options=(PosixPath('/Users/ehaas/Do…"
      ]
     },
     "metadata": {},
     "output_type": "display_data"
    }
   ],
   "source": [
    "p = Path() / mac / base / target\n",
    "print(p)\n",
    "print(p.is_dir())\n",
    "files = [x for x in p.glob('*.*') if x.is_file()]\n",
    "\n",
    "\n",
    "from ipywidgets import Dropdown\n",
    "menu = Dropdown(\n",
    "       options=files,\n",
    "       description='Choose target file',\n",
    "       style = {'description_width': 'initial',},\n",
    "       layout={'width': 'initial'},\n",
    "        )\n",
    "\n",
    "\n",
    "menu"
   ]
  },
  {
   "cell_type": "markdown",
   "metadata": {},
   "source": [
    "### open file"
   ]
  },
  {
   "cell_type": "code",
   "execution_count": 95,
   "metadata": {},
   "outputs": [],
   "source": [
    "def show(document):\n",
    "    display(Markdown(\n",
    "f\"\"\"{document}\n",
    "\n",
    "---\n",
    "\n",
    "~~~\n",
    "{document}\n",
    "~~~\n",
    "\"\"\")\n",
    ")"
   ]
  },
  {
   "cell_type": "code",
   "execution_count": 96,
   "metadata": {},
   "outputs": [
    {
     "name": "stdout",
     "output_type": "stream",
     "text": [
      "\n",
      "## Introduction\n",
      "\n",
      "The VTE-1 measure assesses the number of patients who received venous thromboembolism (VTE) prophylaxis or have documentation why no venous thromboembolism prophylaxis was given the day of or the day after hospital admission or surgery end date for surgeries that start the day of or the day after hospital admission. Note that the Individual Measure Reporting Interaction is the only interaction used for this measure.\n",
      "\n",
      "The example presented is based on the QDM version of [CMS 108v7], which has been represented using profiles derived from [QI Core].  Additional information regarding the measure specification can be found in the [Quality Measure Implementation Guide]\n",
      "\n",
      "## FHIR Resource Overview\n",
      "\n",
      "### Resources supported for this Use Case\n",
      "{:.no_toc}\n",
      "\n",
      "|Resource Type|Profile Name|Link to Profile|\n",
      "|---|---|---|\n",
      "|Condition|QI Core Condition Profile|[QI Core Condition]|\n",
      "|Coverage|QI Core Coverage Profile|[QI Core Coverage]|\n",
      "|DeviceRequest|QI Core DeviceRequest Profile|[QI Core DeviceRequest]|\n",
      "|DeviceUseStatement|QI Core DeviceUseStatement Profile|[QI Core DeviceUseStatement]|\n",
      "|Encounter|QI Core Encounter Profile|[QI Core Encounter]|\n",
      "|Library|CQFM Library Profile|[CQFM Library]|\n",
      "|Location|QI Core Location Profile|[QI Core Location]|\n",
      "|Measure|CQFM Measure Profile|[CQFM Measure]|\n",
      "|MeasureReport|DEQM Individual MeasureReport Profile|[DEQM Individual MeasureReport Profile]|\n",
      "|MeasureReport|DEQM Summary MeasureReport Profile|[DEQM Summary MeasureReport Profile]|\n",
      "|MedicationAdministration|DEQM MedicationAdministration Profile|[DEQM MedicationAdministration]|\n",
      "|MedicationRequest|DEQM MedicationRequest Profile|[DEQM MedicationRequest]|\n",
      "|Observation|QI Core Observation Profile|[QI Core Observation]|\n",
      "|Organization|DEQM Organization Profile|[DEQM Organization]|\n",
      "|Patient|QI Core Patient Profile|[QI Core Patient]|\n",
      "|Practitioner|DEQM Practitioner Profile|[DEQM Practitioner]|\n",
      "|Procedure|QI Core Procedure Profile|[QI Core Procedure]|\n",
      "|ServiceRequest|QI Core ServiceRequest Profile|[QI Core ServiceRequest]|\n",
      "\n",
      "\n",
      "## Graph of VTE-1 Resources\n",
      "\n",
      "In this section we list resource graph diagrams for 7 clinical scenarios that meet the VTE-1 measure.  Note that overlapping boxes in the diagrams represents a choice of one the resources.\n",
      "\n",
      "### Option 1: Measure Report Using MedicationAdministration\n",
      "{:.no_toc}\n",
      "\n",
      "VTE-1 has been met when a patient:\n",
      "\n",
      "1. has an inpatient encounter such as for a joint replacement procedure\n",
      "2. is not pregnant or currently diagnosed with a venous thromboembolism\n",
      "3. is administered either Heparin, a Factor Xa Inhibitor, or Warfarin on the calendar day of admission or the day after.\n",
      "\n",
      "The medications that qualify for the measure are listed in the value sets of codes in the measure documentation. The following resource graph diagram shows what would be included with a DEQM Individual MeasureReport when the patient has been administered one of these medications to meet the measure.\n",
      "\n",
      "{% include img.html img=\"DEQM Resource Diagram - VTE1.jpg\" caption = \"Figure 3-14 MeasureReport Using MedicationAdministration and Condition\" %}\n",
      "\n",
      "### Option 2:\u000b",
      "Measure Report Using DeviceUseStatement and Encounter\n",
      "{:.no_toc}\n",
      "\n",
      "VTE-1 has been met when a patient:\n",
      "\n",
      "1. has an inpatient encounter such as for a joint replacement procedure\n",
      "2. is not pregnant or currently diagnosed with a venous thromboembolism\n",
      "3. has a device to prevent venous thromboembolism prophylaxis on the calendar day of admission or the day after.\n",
      "\n",
      "The devices that qualify for the measure are listed in the value sets of codes in the measure documentation. The following resource graph diagram shows what would be included with a DEQM Individual MeasureReport when the patient has had one of these Devices applied to meet the measure.\n",
      "\n",
      "{% include img.html img=\"DEQM Resource Diagram - VTE2.jpg\" caption = \"Figure 3-15 MeasureReport Using DeviceUseStatement and Encounter\" %}\n",
      "\n",
      "### Option 3: Measure Report Using Observation\n",
      "{:.no_toc}\n",
      "\n",
      "VTE-1 has been met when a patient:\n",
      "\n",
      "1. has an inpatient encounter such as for a joint replacement procedure\n",
      "2. is not pregnant or currently diagnosed with a venous thromboembolism\n",
      "3. and has been assessed to have a low risk for venous thromboembolism prophylaxis typically through laboratory testing, on the calendar day of admission or the day after.\n",
      "\n",
      "The result codes that qualify as “low risk for VTE” are listed in the value sets of codes in the measure documentation. The following resource graph diagram shows what would be included with a DEQM Individual MeasureReport when the patient has had this Observation made to meet the measure.\n",
      "\n",
      "{% include img.html img=\"DEQM Resource Diagram - VTE3.jpg\" caption = \"Figure 3-16 MeasureReport Using Observation\" %}\n",
      "\n",
      "### Option 4: Measure Report Using Encounter\n",
      "{:.no_toc}\n",
      "\n",
      "When a patient has an inpatient encounter where the encounter is <2 days long, or when the encounter includes an ICU stay of 1 or more days, the patient can be can be *excluded* from the denominator of the measure. Codes for the ICU facility location will come from the HL7 ServiceDeliveryLocationRoleType valueset. The following resource graph diagram shows what would be included with a DEQM Individual MeasureReport when the patient when the patient has these types of encounters.\n",
      "\n",
      "{% include img.html img=\"DEQM Resource Diagram - VTE4.jpg\" caption = \"Figure 3-17 MeasureReport Using Encounter\" %}\n",
      "\n",
      "### Option 5: Measure Report Using Encounter and Principal Diagnosis\n",
      "{:.no_toc}\n",
      "\n",
      "When a patient has an inpatient encounter and is principally diagnosed with either a mental health condition, or a stroke (either hemorrhagic or ischemic), they are *excluded* from the denominator of the measure. Codes for the diagnoses will come from the respective valuesets from the measure. The following resource graph diagram shows what would be included with a DEQM Individual MeasureReport when the patient has had this Encounter with these principal diagnosis.\n",
      "\n",
      "{% include img.html img=\"DEQM Resource Diagram - VTE5.jpg\"  caption = \"Figure 3-18 MeasureReport Using Encounter with Principal Diagnosis\" %}\n",
      "\n",
      "### Option 6: Measure Report Using Procedure/ServiceRequest and Encounter\n",
      "{:.no_toc}\n",
      "\n",
      "When a patient has an inpatient encounter, during which they are provided Comfort Measures within 1 day of being admitted or 1 day of a surgical procedure for which they were admitted, these Comfort Measures are *excluded* from the denominator of the measure. for the measure. The surgical procedure is defined by the presence of a code from the “general or neuraxial anesthesia” value set present in the measure. The Comfort measures are represented by either a Procedure or a ServiceRequest with a code from the “Comfort Measures” value set present in the measure.  The following resource graph diagram shows what would be included with a DEQM Individual MeasureReport when the patient has had intervention comfort measures.\n",
      "\n",
      "{% include img.html img=\"DEQM Resource Diagram - VTE6.jpg\" caption = \"Figure 3-19 MeasureReport Using Procedure/ServiceRequest and Encounter\" %}\n",
      "\n",
      "### Option 7: Measure Report Using MedicationRequest, DeviceRequest, MedicationStatement or DeviceUseStatement\n",
      "{:.no_toc}\n",
      "\n",
      "When a patient has an inpatient encounter, during which they should be given venous thromboembolism prophylaxis, but they are not given said prophylaxis, the patient’s record must document a reason the medication/device was not provided. This reason must be coded, and must come from either the “medical reason” or “patient refusal” value sets, as stated in the measure logic. If these criteria are met, the patient will have been found to satisfy the requirements of the measure.  The following resource graph diagram shows what would be included with a DEQM Individual MeasureReport to meet the measure when the venous thromboembolism prophylaxis was not done, for example because of patient refusal.\n",
      "\n",
      "{% include img.html img=\"DEQM Resource Diagram - VTE7.jpg\" caption = \"Figure 3-20 MeasureReport Using MedicationRequest, DeviceRequest, MedicationStatement or DeviceUseStatement\" %}\n",
      "\n",
      "<!--\n",
      "## VTE-1 Data Exchange Interactions\n",
      "\n",
      "   Note to Balloters: We are actively seeking feedback on whether VTE-1 Data Exchange interactions are appropriate or useful for hospital systems.\n",
      "   {:.note-to-balloters}\n",
      "-->\n",
      "\n",
      "## VTE-1 Measure Reporting Interactions\n",
      "\n",
      "### Individual MeasureReport\n",
      "{:.no_toc}\n",
      "\n",
      "Reporter pushes the Bundle of supporting resource with VTE-1 Individual MeasureReport Bundle to the end user.\n",
      "\n",
      "{% include img-portrait.html img=\"vte_indv_report.jpg\" caption = \"Figure 3-21 Individual Reporting Technical Workflow\" %}\n",
      "\n",
      "{% include examplebutton.html example=\"vte-indv-report-example\" b_title = \"Click Here To See Post Bundle with VTE-1 Individual MeasureReport\" %}\n",
      "\n",
      "<!-- {%raw%}\n",
      "\n",
      "### Summary MeasureReport\n",
      "{:.no_toc}\n",
      "\n",
      "Note to Balloters: The Summary MeasureReport is not currently used for program level reporting.  We are actively seeking input on potential uses for the summary report for VTE-1 or other measures.\n",
      "{:.note-to-balloters}\n",
      "\n",
      "Reporter posts the VTE-1 Summary MeasureReport to the Receiver.\n",
      "\n",
      "Note to Balloters: We are actively seeking input on whether a technical workflow diagram would be of value for this use case\n",
      "{:.note-to-balloters}\n",
      "\n",
      "\n",
      "{% include examplebutton.html example=\"vte-summary-report-example\" b_title = \"Click Here To See Post VTE-1 Summary MeasureReport\" %}\n",
      "\n",
      "{%endraw%} -->\n",
      "___\n",
      "\n",
      "{% include link-list.md %}\n",
      "\n"
     ]
    }
   ],
   "source": [
    "document = menu.value.read_text()\n",
    "print(document)"
   ]
  },
  {
   "cell_type": "markdown",
   "metadata": {},
   "source": [
    "### update file using regex"
   ]
  },
  {
   "cell_type": "code",
   "execution_count": 97,
   "metadata": {},
   "outputs": [
    {
     "name": "stdout",
     "output_type": "stream",
     "text": [
      "\n",
      "### Introduction\n",
      "\n",
      "The VTE-1 measure assesses the number of patients who received venous thromboembolism (VTE) prophylaxis or have documentation why no venous thromboembolism prophylaxis was given the day of or the day after hospital admission or surgery end date for surgeries that start the day of or the day after hospital admission. Note that the Individual Measure Reporting Interaction is the only interaction used for this measure.\n",
      "\n",
      "The example presented is based on the QDM version of [CMS 108v7], which has been represented using profiles derived from [QI Core].  Additional information regarding the measure specification can be found in the [Quality Measure Implementation Guide]\n",
      "\n",
      "### FHIR Resource Overview\n",
      "\n",
      "#### Resources supported for this Use Case\n",
      "{:.no_toc}\n",
      "\n",
      "|Resource Type|Profile Name|Link to Profile|\n",
      "|---|---|---|\n",
      "|Condition|QI Core Condition Profile|[QI Core Condition]|\n",
      "|Coverage|QI Core Coverage Profile|[QI Core Coverage]|\n",
      "|DeviceRequest|QI Core DeviceRequest Profile|[QI Core DeviceRequest]|\n",
      "|DeviceUseStatement|QI Core DeviceUseStatement Profile|[QI Core DeviceUseStatement]|\n",
      "|Encounter|QI Core Encounter Profile|[QI Core Encounter]|\n",
      "|Library|CQFM Library Profile|[CQFM Library]|\n",
      "|Location|QI Core Location Profile|[QI Core Location]|\n",
      "|Measure|CQFM Measure Profile|[CQFM Measure]|\n",
      "|MeasureReport|DEQM Individual MeasureReport Profile|[DEQM Individual MeasureReport Profile]|\n",
      "|MeasureReport|DEQM Summary MeasureReport Profile|[DEQM Summary MeasureReport Profile]|\n",
      "|MedicationAdministration|DEQM MedicationAdministration Profile|[DEQM MedicationAdministration]|\n",
      "|MedicationRequest|DEQM MedicationRequest Profile|[DEQM MedicationRequest]|\n",
      "|Observation|QI Core Observation Profile|[QI Core Observation]|\n",
      "|Organization|DEQM Organization Profile|[DEQM Organization]|\n",
      "|Patient|QI Core Patient Profile|[QI Core Patient]|\n",
      "|Practitioner|DEQM Practitioner Profile|[DEQM Practitioner]|\n",
      "|Procedure|QI Core Procedure Profile|[QI Core Procedure]|\n",
      "|ServiceRequest|QI Core ServiceRequest Profile|[QI Core ServiceRequest]|\n",
      "\n",
      "\n",
      "### Graph of VTE-1 Resources\n",
      "\n",
      "In this section we list resource graph diagrams for 7 clinical scenarios that meet the VTE-1 measure.  Note that overlapping boxes in the diagrams represents a choice of one the resources.\n",
      "\n",
      "#### Option 1: Measure Report Using MedicationAdministration\n",
      "{:.no_toc}\n",
      "\n",
      "VTE-1 has been met when a patient:\n",
      "\n",
      "1. has an inpatient encounter such as for a joint replacement procedure\n",
      "2. is not pregnant or currently diagnosed with a venous thromboembolism\n",
      "3. is administered either Heparin, a Factor Xa Inhibitor, or Warfarin on the calendar day of admission or the day after.\n",
      "\n",
      "The medications that qualify for the measure are listed in the value sets of codes in the measure documentation. The following resource graph diagram shows what would be included with a DEQM Individual MeasureReport when the patient has been administered one of these medications to meet the measure.\n",
      "\n",
      "{% include img.html img=\"DEQM Resource Diagram - VTE1.jpg\" caption = \"Figure 3-14 MeasureReport Using MedicationAdministration and Condition\" %}\n",
      "\n",
      "#### Option 2:\u000b",
      "Measure Report Using DeviceUseStatement and Encounter\n",
      "{:.no_toc}\n",
      "\n",
      "VTE-1 has been met when a patient:\n",
      "\n",
      "1. has an inpatient encounter such as for a joint replacement procedure\n",
      "2. is not pregnant or currently diagnosed with a venous thromboembolism\n",
      "3. has a device to prevent venous thromboembolism prophylaxis on the calendar day of admission or the day after.\n",
      "\n",
      "The devices that qualify for the measure are listed in the value sets of codes in the measure documentation. The following resource graph diagram shows what would be included with a DEQM Individual MeasureReport when the patient has had one of these Devices applied to meet the measure.\n",
      "\n",
      "{% include img.html img=\"DEQM Resource Diagram - VTE2.jpg\" caption = \"Figure 3-15 MeasureReport Using DeviceUseStatement and Encounter\" %}\n",
      "\n",
      "#### Option 3: Measure Report Using Observation\n",
      "{:.no_toc}\n",
      "\n",
      "VTE-1 has been met when a patient:\n",
      "\n",
      "1. has an inpatient encounter such as for a joint replacement procedure\n",
      "2. is not pregnant or currently diagnosed with a venous thromboembolism\n",
      "3. and has been assessed to have a low risk for venous thromboembolism prophylaxis typically through laboratory testing, on the calendar day of admission or the day after.\n",
      "\n",
      "The result codes that qualify as “low risk for VTE” are listed in the value sets of codes in the measure documentation. The following resource graph diagram shows what would be included with a DEQM Individual MeasureReport when the patient has had this Observation made to meet the measure.\n",
      "\n",
      "{% include img.html img=\"DEQM Resource Diagram - VTE3.jpg\" caption = \"Figure 3-16 MeasureReport Using Observation\" %}\n",
      "\n",
      "#### Option 4: Measure Report Using Encounter\n",
      "{:.no_toc}\n",
      "\n",
      "When a patient has an inpatient encounter where the encounter is <2 days long, or when the encounter includes an ICU stay of 1 or more days, the patient can be can be *excluded* from the denominator of the measure. Codes for the ICU facility location will come from the HL7 ServiceDeliveryLocationRoleType valueset. The following resource graph diagram shows what would be included with a DEQM Individual MeasureReport when the patient when the patient has these types of encounters.\n",
      "\n",
      "{% include img.html img=\"DEQM Resource Diagram - VTE4.jpg\" caption = \"Figure 3-17 MeasureReport Using Encounter\" %}\n",
      "\n",
      "#### Option 5: Measure Report Using Encounter and Principal Diagnosis\n",
      "{:.no_toc}\n",
      "\n",
      "When a patient has an inpatient encounter and is principally diagnosed with either a mental health condition, or a stroke (either hemorrhagic or ischemic), they are *excluded* from the denominator of the measure. Codes for the diagnoses will come from the respective valuesets from the measure. The following resource graph diagram shows what would be included with a DEQM Individual MeasureReport when the patient has had this Encounter with these principal diagnosis.\n",
      "\n",
      "{% include img.html img=\"DEQM Resource Diagram - VTE5.jpg\"  caption = \"Figure 3-18 MeasureReport Using Encounter with Principal Diagnosis\" %}\n",
      "\n",
      "#### Option 6: Measure Report Using Procedure/ServiceRequest and Encounter\n",
      "{:.no_toc}\n",
      "\n",
      "When a patient has an inpatient encounter, during which they are provided Comfort Measures within 1 day of being admitted or 1 day of a surgical procedure for which they were admitted, these Comfort Measures are *excluded* from the denominator of the measure. for the measure. The surgical procedure is defined by the presence of a code from the “general or neuraxial anesthesia” value set present in the measure. The Comfort measures are represented by either a Procedure or a ServiceRequest with a code from the “Comfort Measures” value set present in the measure.  The following resource graph diagram shows what would be included with a DEQM Individual MeasureReport when the patient has had intervention comfort measures.\n",
      "\n",
      "{% include img.html img=\"DEQM Resource Diagram - VTE6.jpg\" caption = \"Figure 3-19 MeasureReport Using Procedure/ServiceRequest and Encounter\" %}\n",
      "\n",
      "#### Option 7: Measure Report Using MedicationRequest, DeviceRequest, MedicationStatement or DeviceUseStatement\n",
      "{:.no_toc}\n",
      "\n",
      "When a patient has an inpatient encounter, during which they should be given venous thromboembolism prophylaxis, but they are not given said prophylaxis, the patient’s record must document a reason the medication/device was not provided. This reason must be coded, and must come from either the “medical reason” or “patient refusal” value sets, as stated in the measure logic. If these criteria are met, the patient will have been found to satisfy the requirements of the measure.  The following resource graph diagram shows what would be included with a DEQM Individual MeasureReport to meet the measure when the venous thromboembolism prophylaxis was not done, for example because of patient refusal.\n",
      "\n",
      "{% include img.html img=\"DEQM Resource Diagram - VTE7.jpg\" caption = \"Figure 3-20 MeasureReport Using MedicationRequest, DeviceRequest, MedicationStatement or DeviceUseStatement\" %}\n",
      "\n",
      "<!--\n",
      "### VTE-1 Data Exchange Interactions\n",
      "\n",
      "   Note to Balloters: We are actively seeking feedback on whether VTE-1 Data Exchange interactions are appropriate or useful for hospital systems.\n",
      "   {:.note-to-balloters}\n",
      "-->\n",
      "\n",
      "### VTE-1 Measure Reporting Interactions\n",
      "\n",
      "#### Individual MeasureReport\n",
      "{:.no_toc}\n",
      "\n",
      "Reporter pushes the Bundle of supporting resource with VTE-1 Individual MeasureReport Bundle to the end user.\n",
      "\n",
      "{% include img-portrait.html img=\"vte_indv_report.jpg\" caption = \"Figure 3-21 Individual Reporting Technical Workflow\" %}\n",
      "\n",
      "{% include examplebutton.html example=\"vte-indv-report-example\" b_title = \"Click Here To See Post Bundle with VTE-1 Individual MeasureReport\" %}\n",
      "\n",
      "<!-- {%raw%}\n",
      "\n",
      "#### Summary MeasureReport\n",
      "{:.no_toc}\n",
      "\n",
      "Note to Balloters: The Summary MeasureReport is not currently used for program level reporting.  We are actively seeking input on potential uses for the summary report for VTE-1 or other measures.\n",
      "{:.note-to-balloters}\n",
      "\n",
      "Reporter posts the VTE-1 Summary MeasureReport to the Receiver.\n",
      "\n",
      "Note to Balloters: We are actively seeking input on whether a technical workflow diagram would be of value for this use case\n",
      "{:.note-to-balloters}\n",
      "\n",
      "\n",
      "{% include examplebutton.html example=\"vte-summary-report-example\" b_title = \"Click Here To See Post VTE-1 Summary MeasureReport\" %}\n",
      "\n",
      "{%endraw%} -->\n",
      "___\n",
      "\n",
      "{% include link-list.md %}\n",
      "\n"
     ]
    }
   ],
   "source": [
    "import re\n",
    "foo = document\n",
    "for i in reversed(range(1, 7)):\n",
    "    #print(i)\n",
    "    foo = re.sub(f'^{\"#\"*i} ', f'{\"#\"*(i+1)} ', foo, flags=re.M) # don't forget the multiline mode for anchors\n",
    "    #print(foo)\n",
    "print(foo)"
   ]
  },
  {
   "cell_type": "markdown",
   "metadata": {},
   "source": [
    "### write to file"
   ]
  },
  {
   "cell_type": "code",
   "execution_count": 98,
   "metadata": {},
   "outputs": [
    {
     "name": "stdout",
     "output_type": "stream",
     "text": [
      "writing file to /Users/ehaas/Documents/FHIR/Davinci-DEQM/input/pagecontent/vte1.md\n"
     ]
    },
    {
     "data": {
      "text/plain": [
       "9383"
      ]
     },
     "execution_count": 98,
     "metadata": {},
     "output_type": "execute_result"
    }
   ],
   "source": [
    "out = Path(r'test_files/out.md')\n",
    "out = menu.value\n",
    "print( f'writing file to {out}')\n",
    "out.write_text(foo)   "
   ]
  }
 ],
 "metadata": {
  "kernelspec": {
   "display_name": "Python 3",
   "language": "python",
   "name": "python3"
  },
  "language_info": {
   "codemirror_mode": {
    "name": "ipython",
    "version": 3
   },
   "file_extension": ".py",
   "mimetype": "text/x-python",
   "name": "python",
   "nbconvert_exporter": "python",
   "pygments_lexer": "ipython3",
   "version": "3.7.3"
  }
 },
 "nbformat": 4,
 "nbformat_minor": 4
}
