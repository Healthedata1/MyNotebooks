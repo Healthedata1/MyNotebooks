{
 "cells": [
  {
   "cell_type": "markdown",
   "metadata": {},
   "source": [
    "# Find choice element in folder of StructureDefinitions\n",
    "\n",
    "- for hard coded path search all SD for must support choice elments\n",
    "- list all choices in a md table format in std out"
   ]
  },
  {
   "cell_type": "code",
   "execution_count": 7,
   "metadata": {},
   "outputs": [],
   "source": [
    "from pathlib import Path\n",
    "from json import load, dumps\n",
    "my_path = Path('/Users/ehaas/Documents/FHIR/fhir-ipa/output')"
   ]
  },
  {
   "cell_type": "code",
   "execution_count": 8,
   "metadata": {},
   "outputs": [
    {
     "name": "stdout",
     "output_type": "stream",
     "text": [
      "IPA-Immunization|Immunization.occurrence[x]|dateTime,string\n",
      "IPA-MedicationRequest|MedicationRequest.reported[x]|boolean,Reference\n",
      "IPA-MedicationRequest|MedicationRequest.medication[x]|CodeableConcept,Reference\n",
      "IPA-Observation|Observation.effective[x]|dateTime,Period,Timing,instant\n",
      "IPA-Observation|Observation.value[x]|Quantity,CodeableConcept,string,boolean,integer,Range,Ratio,SampledData,time,dateTime,Period\n",
      "IPA-MedicationStatement|MedicationStatement.medication[x]|CodeableConcept,Reference\n",
      "IPA-MedicationStatement|MedicationStatement.effective[x]|dateTime,Period\n"
     ]
    }
   ],
   "source": [
    "for i in my_path.glob('Struct*.json'):\n",
    "    # print(i)\n",
    "    obj = load(i.open())\n",
    "    # print(obj['id'])\n",
    "    #find choice type elements in diff\n",
    "    for diff in obj['differential']['element']:\n",
    "        if '[x]' in diff['path'] and diff['mustSupport'] == True:\n",
    "            # print(i)\n",
    "            # print(diff['path'])\n",
    "            #list the choices\n",
    "            for snapshot in obj['snapshot']['element']:\n",
    "                if diff['path'] == snapshot['path']:\n",
    "                   # print(snapshot['path'])\n",
    "                    choices = [choice['code']for choice in snapshot['type']]\n",
    "                    print(f\"{obj['title']}|{diff['path']}|{', '.join(choices)}\")\n",
    "                    break"
   ]
  },
  {
   "cell_type": "markdown",
   "metadata": {},
   "source": [
    "# Find all element reference types in folder of StructureDefinitions\n",
    "\n",
    "- for hard coded path search all SD for must support choice elments\n",
    "- list all reference choices in a md table format in std out"
   ]
  },
  {
   "cell_type": "code",
   "execution_count": 12,
   "metadata": {},
   "outputs": [
    {
     "name": "stdout",
     "output_type": "stream",
     "text": [
      "IPA-MedicationRequest|MedicationRequest.reported[x]|http://hl7.org/fhir/uv/ipa/StructureDefinition/ipa-patient, http://hl7.org/fhir/uv/ipa/StructureDefinition/ipa-practitioner, http://hl7.org/fhir/uv/ipa/StructureDefinition/ipa-practitionerrole\n",
      "IPA-MedicationRequest|MedicationRequest.requester|http://hl7.org/fhir/uv/ipa/StructureDefinition/ipa-practitioner, http://hl7.org/fhir/uv/ipa/StructureDefinition/ipa-practitionerrole, http://hl7.org/fhir/uv/ipa/StructureDefinition/ipa-patient\n",
      "IPA-DocumentReference|DocumentReference.author|http://hl7.org/fhir/uv/ipa/StructureDefinition/ipa-practitioner, http://hl7.org/fhir/uv/ipa/StructureDefinition/ipa-practitionerrole, http://hl7.org/fhir/uv/ipa/StructureDefinition/ipa-patient\n",
      "IPA-DocumentReference|DocumentReference.context.encounter|http://hl7.org/fhir/StructureDefinition/Encounter, http://hl7.org/fhir/StructureDefinition/EpisodeOfCare\n",
      "IPA-MedicationStatement|MedicationStatement.context|http://hl7.org/fhir/StructureDefinition/Encounter, http://hl7.org/fhir/StructureDefinition/EpisodeOfCare\n",
      "IPA-MedicationStatement|MedicationStatement.informationSource|http://hl7.org/fhir/uv/ipa/StructureDefinition/ipa-practitioner, http://hl7.org/fhir/uv/ipa/StructureDefinition/ipa-practitionerrole, http://hl7.org/fhir/uv/ipa/StructureDefinition/ipa-patient, http://hl7.org/fhir/StructureDefinition/Organization, http://hl7.org/fhir/StructureDefinition/RelatedPerson\n"
     ]
    }
   ],
   "source": [
    "\n",
    "for i in my_path.glob('Struct*.json'):\n",
    "    # print(i)\n",
    "    obj = load(i.open())\n",
    "    # print(obj['id'])\n",
    "    #find reference type elements in diff\n",
    "    for diff in obj['differential']['element']:\n",
    "        try:\n",
    "          if diff['mustSupport'] == True:\n",
    "            # print(i)\n",
    "            # print(diff['path'])\n",
    "            #list the choices\n",
    "            for snapshot in obj['snapshot']['element']:\n",
    "                if diff['path'] == snapshot['path']:\n",
    "                   # print(snapshot['path'])\n",
    "                   for my_type in snapshot['type']:\n",
    "                        if my_type['code'] == \"Reference\" and len(my_type['targetProfile']) > 1:\n",
    "                            print(f\"{obj['title']}|{diff['path']}|{', '.join( my_type['targetProfile'])}\")\n",
    "                            break\n",
    "        except:\n",
    "            pass"
   ]
  },
  {
   "cell_type": "code",
   "execution_count": null,
   "metadata": {},
   "outputs": [],
   "source": []
  }
 ],
 "metadata": {
  "kernelspec": {
   "display_name": "Python 3.10.2 64-bit ('jupyter')",
   "language": "python",
   "name": "python3"
  },
  "language_info": {
   "codemirror_mode": {
    "name": "ipython",
    "version": 3
   },
   "file_extension": ".py",
   "mimetype": "text/x-python",
   "name": "python",
   "nbconvert_exporter": "python",
   "pygments_lexer": "ipython3",
   "version": "3.10.2"
  },
  "orig_nbformat": 4,
  "vscode": {
   "interpreter": {
    "hash": "18672f2fb81dcbb023a0ac48a86c775a19488782369d96ffbd3382a22fd285cf"
   }
  }
 },
 "nbformat": 4,
 "nbformat_minor": 2
}
