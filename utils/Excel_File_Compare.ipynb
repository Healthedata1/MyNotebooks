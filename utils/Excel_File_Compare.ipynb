{
 "cells": [
  {
   "cell_type": "markdown",
   "metadata": {},
   "source": [
    "#  Excel File Comparison\n",
    "\n",
    "Given Two Excel Files, We want to compare the values of each column row-wise after sorting the values and print the changed column name and row number and values change.\n",
    "\n",
    "~~~\n",
    "Input : \n",
    "Two Excel files\n",
    "\n",
    "Output :\n",
    "Column name : 'location' and Row Number : 0\n",
    "Column name : 'location' and Row Number : 3\n",
    "Column name : 'date' and Row Number     : 1\n",
    "~~~"
   ]
  },
  {
   "cell_type": "markdown",
   "metadata": {},
   "source": [
    "### importing Pandas and itertools"
   ]
  },
  {
   "cell_type": "code",
   "execution_count": 6,
   "metadata": {},
   "outputs": [],
   "source": [
    "import pandas as pd\n",
    "import itertools "
   ]
  },
  {
   "cell_type": "markdown",
   "metadata": {},
   "source": [
    "#### Reading two Excel Sheets"
   ]
  },
  {
   "cell_type": "code",
   "execution_count": 7,
   "metadata": {},
   "outputs": [
    {
     "data": {
      "text/html": [
       "<div>\n",
       "<style scoped>\n",
       "    .dataframe tbody tr th:only-of-type {\n",
       "        vertical-align: middle;\n",
       "    }\n",
       "\n",
       "    .dataframe tbody tr th {\n",
       "        vertical-align: top;\n",
       "    }\n",
       "\n",
       "    .dataframe thead tr th {\n",
       "        text-align: left;\n",
       "    }\n",
       "</style>\n",
       "<table border=\"1\" class=\"dataframe\">\n",
       "  <thead>\n",
       "    <tr>\n",
       "      <th></th>\n",
       "      <th colspan=\"2\" halign=\"left\">A</th>\n",
       "      <th colspan=\"2\" halign=\"left\">B</th>\n",
       "      <th colspan=\"2\" halign=\"left\">C</th>\n",
       "    </tr>\n",
       "    <tr>\n",
       "      <th></th>\n",
       "      <th>self</th>\n",
       "      <th>other</th>\n",
       "      <th>self</th>\n",
       "      <th>other</th>\n",
       "      <th>self</th>\n",
       "      <th>other</th>\n",
       "    </tr>\n",
       "  </thead>\n",
       "  <tbody>\n",
       "    <tr>\n",
       "      <th>1</th>\n",
       "      <td>NaN</td>\n",
       "      <td>NaN</td>\n",
       "      <td>I am  Sam</td>\n",
       "      <td>Sam I am</td>\n",
       "      <td>NaN</td>\n",
       "      <td>NaN</td>\n",
       "    </tr>\n",
       "    <tr>\n",
       "      <th>3</th>\n",
       "      <td>NaN</td>\n",
       "      <td>11.0</td>\n",
       "      <td>NaN</td>\n",
       "      <td>11</td>\n",
       "      <td>NaN</td>\n",
       "      <td>11.0</td>\n",
       "    </tr>\n",
       "  </tbody>\n",
       "</table>\n",
       "</div>"
      ],
      "text/plain": [
       "     A                B              C      \n",
       "  self other       self     other self other\n",
       "1  NaN   NaN  I am  Sam  Sam I am  NaN   NaN\n",
       "3  NaN  11.0        NaN        11  NaN  11.0"
      ]
     },
     "execution_count": 7,
     "metadata": {},
     "output_type": "execute_result"
    }
   ],
   "source": [
    "sheet1 = pd.read_excel(r'test_files/Book1.xlsx')\n",
    "sheet2 = pd.read_excel(r'test_files/Book2.xlsx')\n",
    "\n",
    "sheet1.compare(sheet2)"
   ]
  },
  {
   "cell_type": "code",
   "execution_count": 8,
   "metadata": {},
   "outputs": [
    {
     "ename": "NameError",
     "evalue": "name 'i' is not defined",
     "output_type": "error",
     "traceback": [
      "\u001b[0;31m---------------------------------------------------------------------------\u001b[0m",
      "\u001b[0;31mNameError\u001b[0m                                 Traceback (most recent call last)",
      "Input \u001b[0;32mIn [8]\u001b[0m, in \u001b[0;36m<module>\u001b[0;34m\u001b[0m\n\u001b[0;32m----> 1\u001b[0m \u001b[38;5;28mprint\u001b[39m(\u001b[38;5;28mlist\u001b[39m(\u001b[38;5;28mzip\u001b[39m(sheet1[\u001b[43mi\u001b[49m],sheet2[j])))\n\u001b[1;32m      2\u001b[0m \u001b[38;5;28mprint\u001b[39m(\u001b[38;5;28mlist\u001b[39m(itertools\u001b[38;5;241m.\u001b[39mzip_longest(sheet1[i],sheet2[j])))\n\u001b[1;32m      3\u001b[0m \u001b[38;5;28mprint\u001b[39m(\u001b[38;5;28mlist\u001b[39m(\u001b[38;5;28mzip\u001b[39m(sheet1,sheet2)))\n",
      "\u001b[0;31mNameError\u001b[0m: name 'i' is not defined"
     ]
    }
   ],
   "source": [
    "print(list(zip(sheet1[i],sheet2[j])))\n",
    "print(list(itertools.zip_longest(sheet1[i],sheet2[j])))\n",
    "print(list(zip(sheet1,sheet2)))"
   ]
  },
  {
   "cell_type": "code",
   "execution_count": null,
   "metadata": {},
   "outputs": [],
   "source": [
    "print('|Row|Column|Sheet1 Value|Sheet2 Value|')\n",
    "print('|---|---|---|---|')\n",
    "# Iterating the Columns Names of both Sheets\n",
    "for i,j in zip(sheet1,sheet2):\n",
    "    \n",
    "    # Creating empty lists to append the columns values\t\n",
    "    a,b =[],[]\n",
    "    # Iterating the columns values\n",
    "\n",
    "    for m, n in zip(sheet1[i],sheet2[j]):\n",
    "        # Appending values in lists\n",
    "        a.append(m)\n",
    "        b.append(n)\n",
    "\n",
    "    # Sorting the lists\n",
    "    #a.sort()\n",
    "    #b.sort()\n",
    "    \n",
    "    # Iterating the list's values and comparing them\n",
    "\n",
    "    for m, n in zip(range(len(a)), range(len(b))):\n",
    "        if a[m] != b[n]:\n",
    "            print(f'|{sheet1.index[m]}|{i}|{a[m]}|{b[n]}|')"
   ]
  },
  {
   "cell_type": "code",
   "execution_count": null,
   "metadata": {},
   "outputs": [],
   "source": [
    "help(zip)"
   ]
  }
 ],
 "metadata": {
  "kernelspec": {
   "display_name": "venv39",
   "language": "python",
   "name": "venv39"
  },
  "language_info": {
   "codemirror_mode": {
    "name": "ipython",
    "version": 3
   },
   "file_extension": ".py",
   "mimetype": "text/x-python",
   "name": "python",
   "nbconvert_exporter": "python",
   "pygments_lexer": "ipython3",
   "version": "3.9.4"
  }
 },
 "nbformat": 4,
 "nbformat_minor": 4
}
