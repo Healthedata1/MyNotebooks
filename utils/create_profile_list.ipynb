{
 "cells": [
  {
   "cell_type": "markdown",
   "metadata": {},
   "source": [
    "\n",
    "## Search through IG and list all profiles\n",
    "\n",
    "*USE Python 3.7 to maintain order of Json files*\n",
    "\n",
    "- Fetch package for IG\n",
    "- first pass : search package for all binding elements in differential\n",
    "\n",
    "*Note need a successful build to generate since based on ig output local file\n",
    "alternatively use package.files to generate*"
   ]
  },
  {
   "cell_type": "markdown",
   "metadata": {},
   "source": [
    "### import python modules"
   ]
  },
  {
   "cell_type": "code",
   "execution_count": 1,
   "metadata": {},
   "outputs": [],
   "source": [
    "from pathlib import Path\n",
    "from json import loads, dumps\n",
    "from fhir.resources.structuredefinition import StructureDefinition\n",
    "from fhir.resources.elementdefinition import ElementDefinition\n",
    "from pprint import pprint"
   ]
  },
  {
   "cell_type": "markdown",
   "metadata": {},
   "source": [
    "### get package"
   ]
  },
  {
   "cell_type": "code",
   "execution_count": 2,
   "metadata": {},
   "outputs": [
    {
     "name": "stdout",
     "output_type": "stream",
     "text": [
      "['US Core ADI DocumentReference Profile',\n",
      " 'US Core AllergyIntolerance Profile',\n",
      " 'US Core Average Blood Pressure Profile',\n",
      " 'US Core BMI Profile',\n",
      " 'US Core Blood Pressure Profile',\n",
      " 'US Core Body Height Profile',\n",
      " 'US Core Body Temperature Profile',\n",
      " 'US Core Body Weight Profile',\n",
      " 'US Core Care Experience Preference Profile',\n",
      " 'US Core CarePlan Profile',\n",
      " 'US Core CareTeam Profile',\n",
      " 'US Core Condition Encounter Diagnosis Profile',\n",
      " 'US Core Condition Problems and Health Concerns Profile',\n",
      " 'US Core Coverage Profile',\n",
      " 'US Core DiagnosticReport Profile for Laboratory Results Reporting',\n",
      " 'US Core DiagnosticReport Profile for Report and Note Exchange',\n",
      " 'US Core DocumentReference Profile',\n",
      " 'US Core Encounter Profile',\n",
      " 'US Core Goal Profile',\n",
      " 'US Core Head Circumference Profile',\n",
      " 'US Core Heart Rate Profile',\n",
      " 'US Core Immunization Profile',\n",
      " 'US Core Implantable Device Profile',\n",
      " 'US Core Laboratory Result Observation Profile',\n",
      " 'US Core Location Profile',\n",
      " 'US Core Medication Profile',\n",
      " 'US Core MedicationDispense Profile',\n",
      " 'US Core MedicationRequest Profile',\n",
      " 'US Core Observation ADI Documentation Profile',\n",
      " 'US Core Observation Clinical Result Profile',\n",
      " 'US Core Observation Occupation Profile',\n",
      " 'US Core Observation Pregnancy Intent Profile',\n",
      " 'US Core Observation Pregnancy Status Profile',\n",
      " 'US Core Observation Screening Assessment Profile',\n",
      " 'US Core Observation Sexual Orientation Profile',\n",
      " 'US Core Organization Profile',\n",
      " 'US Core Patient Profile',\n",
      " 'US Core Practitioner Profile',\n",
      " 'US Core PractitionerRole Profile',\n",
      " 'US Core Procedure Profile',\n",
      " 'US Core Provenance Profile',\n",
      " 'US Core Pulse Oximetry Profile',\n",
      " 'US Core QuestionnaireResponse Profile',\n",
      " 'US Core RelatedPerson Profile',\n",
      " 'US Core Respiratory Rate Profile',\n",
      " 'US Core ServiceRequest Profile',\n",
      " 'US Core Simple Observation Profile',\n",
      " 'US Core Smoking Status Observation Profile',\n",
      " 'US Core Specimen Profile',\n",
      " 'US Core Treatment Intervention Preference Profile',\n",
      " 'US Core Vital Signs Profile']\n"
     ]
    }
   ],
   "source": [
    "import warnings  #suppress pandas futures warnings\n",
    "warnings.filterwarnings(\"ignore\")\n",
    "\n",
    "ig_profiles = []\n",
    "\n",
    "us_core_pkg = Path(r'/Users/ehaas/.fhir/packages/hl7.fhir.us.core#dev/package')\n",
    "fhir_r4_pkg = Path(r'/Users/ehaas/.fhir/packages/hl7.fhir.r4.core#4.0.1/package')\n",
    "#f_name = 'us-core-patient'\n",
    "#n_path = '/Users/ehaas/.fhir/packages/hl7.fhir.us.core#dev' # package file keeps disappearing\n",
    "#in_path = '//ERICS-AIR-2/ehaas/Documents/FHIR/US-Core-R4/output'  # use local build dir.\n",
    "for i, sd in enumerate(us_core_pkg.glob('StructureDefinition-us-core-*.json')):\n",
    "    # print(i, sd.stem,)\n",
    "    sd_obj = loads(sd.read_text())  #get sd as fhir object\n",
    "    # print(sd_obj['title'])\n",
    "    if sd_obj['type'] !=  'Extension':\n",
    "      ig_profiles.append(sd_obj['title'])\n",
    "\n",
    "pprint(sorted(ig_profiles))\n"
   ]
  },
  {
   "cell_type": "markdown",
   "metadata": {},
   "source": [
    "compare to the p author list"
   ]
  },
  {
   "cell_type": "code",
   "execution_count": 3,
   "metadata": {},
   "outputs": [
    {
     "name": "stdout",
     "output_type": "stream",
     "text": [
      "['US Core ADI DocumentReference Profile',\n",
      " 'US Core AllergyIntolerance Profile',\n",
      " 'US Core Average Blood Pressure Profile',\n",
      " 'US Core BMI Profile',\n",
      " 'US Core Blood Pressure Profile',\n",
      " 'US Core Body Height Profile',\n",
      " 'US Core Body Temperature Profile',\n",
      " 'US Core Body Weight Profile',\n",
      " 'US Core Care Experience Preference Profile',\n",
      " 'US Core CarePlan Profile',\n",
      " 'US Core Condition Encounter Diagnosis Profile',\n",
      " 'US Core Condition Problems and Health Concerns Profile',\n",
      " 'US Core DiagnosticReport Profile for Laboratory Results Reporting',\n",
      " 'US Core DiagnosticReport Profile for Report and Note Exchange',\n",
      " 'US Core DocumentReference Profile',\n",
      " 'US Core Goal Profile',\n",
      " 'US Core Head Circumference Profile',\n",
      " 'US Core Heart Rate Profile',\n",
      " 'US Core Immunization Profile',\n",
      " 'US Core Laboratory Result Observation Profile',\n",
      " 'US Core MedicationDispense Profile',\n",
      " 'US Core MedicationRequest Profile',\n",
      " 'US Core Observation ADI Documentation Profile',\n",
      " 'US Core Observation Clinical Result Profile',\n",
      " 'US Core Observation Occupation Profile',\n",
      " 'US Core Observation Pregnancy Intent Profile',\n",
      " 'US Core Observation Pregnancy Status Profile',\n",
      " 'US Core Observation Screening Assessment Profile',\n",
      " 'US Core Observation Sexual Orientation Profile',\n",
      " 'US Core Pediatric BMI for Age Observation Profile',\n",
      " 'US Core Pediatric Head Occipital Frontal Circumference Percentile Profile',\n",
      " 'US Core Pediatric Weight for Height Observation Profile',\n",
      " 'US Core Procedure Profile',\n",
      " 'US Core Profile',\n",
      " 'US Core Pulse Oximetry Profile',\n",
      " 'US Core QuestionnaireResponse Profile',\n",
      " 'US Core Respiratory Rate Profile',\n",
      " 'US Core ServiceRequest Profile',\n",
      " 'US Core Simple Observation Profile',\n",
      " 'US Core Smoking Status Observation Profile',\n",
      " 'US Core Treatment Intervention Preference Profile',\n",
      " 'US Core Vital Signs Profile']\n"
     ]
    }
   ],
   "source": [
    "p_list = ['US Core Profile',\n",
    "'US Core AllergyIntolerance Profile',\n",
    "'US Core CarePlan Profile',\n",
    "'US Core Condition Encounter Diagnosis Profile',\n",
    "'US Core Condition Problems and Health Concerns Profile',\n",
    "'US Core DiagnosticReport Profile for Laboratory Results Reporting',\n",
    "'US Core DiagnosticReport Profile for Laboratory Results Reporting',\n",
    "'US Core DiagnosticReport Profile for Report and Note Exchange',\n",
    "'US Core DiagnosticReport Profile for Report and Note Exchange',\n",
    "'US Core ADI DocumentReference Profile',\n",
    "'US Core DocumentReference Profile',\n",
    "'US Core Goal Profile',\n",
    "'US Core Immunization Profile',\n",
    "'US Core MedicationDispense Profile',\n",
    "'US Core MedicationRequest Profile',\n",
    "'US Core MedicationRequest Profile',\n",
    "'US Core Average Blood Pressure Profile',\n",
    "'US Core Average Blood Pressure Profile',\n",
    "'US Core Blood Pressure Profile',\n",
    "'US Core Blood Pressure Profile',\n",
    "'US Core BMI Profile',\n",
    "'US Core BMI Profile',\n",
    "'US Core Body Height Profile',\n",
    "'US Core Body Height Profile',\n",
    "'US Core Body Temperature Profile',\n",
    "'US Core Body Temperature Profile',\n",
    "'US Core Body Weight Profile',\n",
    "'US Core Body Weight Profile',\n",
    "'US Core Care Experience Preference Profile',\n",
    "'US Core Care Experience Preference Profile',\n",
    "'US Core Head Circumference Profile',\n",
    "'US Core Head Circumference Profile',\n",
    "'US Core Heart Rate Profile',\n",
    "'US Core Heart Rate Profile',\n",
    "'US Core Laboratory Result Observation Profile',\n",
    "'US Core Laboratory Result Observation Profile',\n",
    "'US Core Observation ADI Documentation Profile',\n",
    "'US Core Observation ADI Documentation Profile',\n",
    "'US Core Observation Clinical Result Profile',\n",
    "'US Core Observation Clinical Result Profile',\n",
    "'US Core Observation Occupation Profile',\n",
    "'US Core Observation Occupation Profile',\n",
    "'US Core Observation Pregnancy Intent Profile',\n",
    "'US Core Observation Pregnancy Intent Profile',\n",
    "'US Core Observation Pregnancy Status Profile',\n",
    "'US Core Observation Pregnancy Status Profile',\n",
    "'US Core Observation Screening Assessment Profile',\n",
    "'US Core Observation Screening Assessment Profile',\n",
    "'US Core Observation Sexual Orientation Profile',\n",
    "'US Core Observation Sexual Orientation Profile',\n",
    "'US Core Pediatric BMI for Age Observation Profile',\n",
    "'US Core Pediatric BMI for Age Observation Profile',\n",
    "'US Core Pediatric Head Occipital Frontal Circumference Percentile Profile',\n",
    "'US Core Pediatric Head Occipital Frontal Circumference Percentile Profile',\n",
    "'US Core Pediatric Weight for Height Observation Profile',\n",
    "'US Core Pediatric Weight for Height Observation Profile',\n",
    "'US Core Pulse Oximetry Profile',\n",
    "'US Core Pulse Oximetry Profile',\n",
    "'US Core Respiratory Rate Profile',\n",
    "'US Core Respiratory Rate Profile',\n",
    "'US Core Simple Observation Profile',\n",
    "'US Core Simple Observation Profile',\n",
    "'US Core Smoking Status Observation Profile',\n",
    "'US Core Smoking Status Observation Profile',\n",
    "'US Core Treatment Intervention Preference Profile',\n",
    "'US Core Treatment Intervention Preference Profile',\n",
    "'US Core Vital Signs Profile',\n",
    "'US Core Vital Signs Profile',\n",
    "'US Core Procedure Profile',\n",
    "'US Core Procedure Profile',\n",
    "'US Core QuestionnaireResponse Profile',\n",
    "'US Core QuestionnaireResponse Profile',\n",
    "'US Core ServiceRequest Profile',]\n",
    "\n",
    "p_list = sorted(list(set(p_list)))\n",
    "pprint(p_list)"
   ]
  },
  {
   "cell_type": "markdown",
   "metadata": {},
   "source": [
    "compare p_list to ig_profiles"
   ]
  },
  {
   "cell_type": "code",
   "execution_count": 4,
   "metadata": {},
   "outputs": [
    {
     "name": "stdout",
     "output_type": "stream",
     "text": [
      "['US Core CareTeam Profile',\n",
      " 'US Core Coverage Profile',\n",
      " 'US Core Encounter Profile',\n",
      " 'US Core Implantable Device Profile',\n",
      " 'US Core Location Profile',\n",
      " 'US Core Medication Profile',\n",
      " 'US Core Organization Profile',\n",
      " 'US Core Patient Profile',\n",
      " 'US Core Practitioner Profile',\n",
      " 'US Core PractitionerRole Profile',\n",
      " 'US Core Provenance Profile',\n",
      " 'US Core RelatedPerson Profile',\n",
      " 'US Core Specimen Profile']\n"
     ]
    }
   ],
   "source": [
    "diff_list = [p for p in ig_profiles if p not in p_list]\n",
    "pprint(sorted(diff_list))"
   ]
  },
  {
   "cell_type": "markdown",
   "metadata": {},
   "source": [
    "compare this list to the exclude list"
   ]
  },
  {
   "cell_type": "code",
   "execution_count": 5,
   "metadata": {},
   "outputs": [
    {
     "name": "stdout",
     "output_type": "stream",
     "text": [
      "['US Core Implantable Device Profile', 'US Core Patient Profile']\n"
     ]
    }
   ],
   "source": [
    "exclude_list = [\n",
    "'US Core Encounter Profile',\n",
    "'US Core Location Profile',\n",
    "'US Core Organization Profile',\n",
    "'US Core Practitioner Profile',\n",
    "'US Core PractitionerRole Profile',\n",
    "'US Core RelatedPerson Profile',\n",
    "'US Core Medication Profile',\n",
    "'US Core Provenance Profile',\n",
    "'US Core CareTeam Profile',\n",
    "'US Core Coverage Profile',\n",
    "'US Core Specimen Profile'\n",
    "]\n",
    "\n",
    "diff_exclude_list = [p for p in diff_list if p not in exclude_list]\n",
    "pprint(sorted(diff_exclude_list))"
   ]
  },
  {
   "cell_type": "code",
   "execution_count": 19,
   "metadata": {},
   "outputs": [
    {
     "name": "stdout",
     "output_type": "stream",
     "text": [
      "- US Core CareTeam Profile\n",
      "- US Core Coverage Profile\n",
      "- US Core Encounter Profile\n",
      "- US Core Implantable Device Profile\n",
      "- US Core Location Profile\n",
      "- US Core Medication Profile\n",
      "- US Core Organization Profile\n",
      "- US Core Patient Profile\n",
      "- US Core Practitioner Profile\n",
      "- US Core PractitionerRole Profile\n",
      "- US Core Provenance Profile\n",
      "- US Core RelatedPerson Profile\n",
      "- US Core Specimen Profile\n"
     ]
    }
   ],
   "source": [
    "for i in sorted(diff_list):\n",
    "    print(f\"- {i}\")"
   ]
  }
 ],
 "metadata": {
  "kernelspec": {
   "display_name": "jupyter",
   "language": "python",
   "name": "python3"
  },
  "language_info": {
   "codemirror_mode": {
    "name": "ipython",
    "version": 3
   },
   "file_extension": ".py",
   "mimetype": "text/x-python",
   "name": "python",
   "nbconvert_exporter": "python",
   "pygments_lexer": "ipython3",
   "version": "3.10.2"
  }
 },
 "nbformat": 4,
 "nbformat_minor": 4
}
