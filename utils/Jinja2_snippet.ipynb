{
 "cells": [
  {
   "cell_type": "code",
   "execution_count": 4,
   "metadata": {},
   "outputs": [
    {
     "name": "stdout",
     "output_type": "stream",
     "text": [
      "                       \n",
      "  <li>a                                                         \n",
      "      Recursive a, {'b': {'c': {}}}                                        \n",
      "      <ul>                       \n",
      "  <li>b                                                         \n",
      "      Recursive b, {'c': {}}                                        \n",
      "      <ul>                       \n",
      "  <li>c                                                            \n",
      "  </li></ul>                                                            \n",
      "  </li></ul>                                                            \n",
      "  </li>                                                               \n"
     ]
    }
   ],
   "source": [
    "from jinja2 import Template\n",
    "\n",
    "template = Template(\"\"\"                                                     \n",
    "{%- for key, value in dictionary.items() recursive %}                       \n",
    "  <li>{{ key }}                                                             \n",
    "    {%- if value %}                                                         \n",
    "      Recursive {{ key }}, {{value}}                                        \n",
    "      <ul>{{ loop(value.items())}}</ul>                                     \n",
    "    {%- endif %}                                                            \n",
    "  </li>                                                                     \n",
    "{%- endfor %}                                                               \n",
    "\"\"\")\n",
    "\n",
    "print(template.render(dictionary={'a': {'b': {'c': {}}}}))"
   ]
  },
  {
   "cell_type": "code",
   "execution_count": 6,
   "metadata": {},
   "outputs": [
    {
     "name": "stdout",
     "output_type": "stream",
     "text": [
      "\n",
      "    <li>Bobby\n",
      "    </li>\n",
      "    <li>Jack\n",
      "        <ul>\n",
      "    <li>Jake\n",
      "    </li>\n",
      "    <li>Jill\n",
      "    </li></ul>\n",
      "    </li>\n",
      "    <li>Babby\n",
      "    </li>\n"
     ]
    }
   ],
   "source": [
    "import jinja2\n",
    "\n",
    "templ = \"\"\"\n",
    "{%- for item in items recursive %}\n",
    "    <li>{{item.name}}\n",
    "    {%- if item.children %}\n",
    "        <ul>{{- loop(item.children) }}</ul>\n",
    "    {%- endif %}\n",
    "    </li>\n",
    "{%- endfor %}\n",
    "\"\"\"\n",
    "\n",
    "items = [{'name': 'Bobby'},\n",
    "         {'name': 'Jack',\n",
    "          'children': [\n",
    "              {'name': 'Jake'},\n",
    "              {'name': 'Jill'}]},\n",
    "         {'name': 'Babby', 'children': []}]\n",
    "\n",
    "template = jinja2.Template(templ)\n",
    "print(template.render(items=items))"
   ]
  },
  {
   "cell_type": "code",
   "execution_count": null,
   "metadata": {},
   "outputs": [],
   "source": []
  },
  {
   "cell_type": "code",
   "execution_count": null,
   "metadata": {},
   "outputs": [],
   "source": []
  }
 ],
 "metadata": {
  "kernelspec": {
   "display_name": "Python 3",
   "language": "python",
   "name": "python3"
  },
  "language_info": {
   "codemirror_mode": {
    "name": "ipython",
    "version": 3
   },
   "file_extension": ".py",
   "mimetype": "text/x-python",
   "name": "python",
   "nbconvert_exporter": "python",
   "pygments_lexer": "ipython3",
   "version": "3.7.3"
  }
 },
 "nbformat": 4,
 "nbformat_minor": 4
}
