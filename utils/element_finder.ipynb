{
 "cells": [
  {
   "cell_type": "code",
   "execution_count": 1,
   "metadata": {},
   "outputs": [],
   "source": [
    "from ntpath import join\n",
    "from pathlib import Path\n",
    "from json import loads, dumps\n",
    "import zipfile\n",
    "\n",
    "Events =['AuditEvent', 'ChargeItem', 'ClaimResponse', 'ClinicalImpression', 'Communication', 'Composition', 'Consent', 'Coverage', 'CoverageEligibilityResponse', 'DetectedIssue', 'DeviceUsage', 'DiagnosticReport', 'DocumentManifest', 'DocumentReference', 'Encounter', 'EnrollmentResponse', 'EpisodeOfCare', 'ExplanationOfBenefit', 'FamilyMemberHistory', 'GuidanceResponse', 'ImagingSelection', 'ImagingStudy', 'Immunization', 'ImmunizationEvaluation', 'InventoryReport', 'MedicationAdministration', 'MedicationDispense', 'MedicationUsage', 'NutritionIntake', 'Observation', 'PaymentNotice', 'PaymentReconciliation', 'Procedure', 'Provenance', 'QuestionnaireResponse', 'RiskAssessment', 'SupplyDelivery', 'Transport']\n",
    "\n",
    "my_path = Path(r'/Users/ehaas/Documents/FHIR/fhir/publish/definitions.json.zip') #Core FHIR\n",
    "my_path = Path(r'/Users/ehaas/Documents/FHIR/US-Core/output/definitions.json.zip') #US Core\n",
    "with zipfile.ZipFile(my_path, 'r') as my_zip:\n",
    "    my_zip.extractall(Path())\n",
    "#     my_zip.extractall(Path()/'temp-definitions')\n",
    " \n"
   ]
  },
  {
   "cell_type": "code",
   "execution_count": 12,
   "metadata": {},
   "outputs": [],
   "source": [
    "\n",
    "\n",
    "# with open(Path()/'temp-definitions'/'profiles-resources.json', 'r') as my_file:\n",
    "#     my_json = loads(my_file.read())\n",
    "\n",
    "my_list = []\n",
    "for f in Path().glob('StructureDefinition-*.json'):\n",
    "    # print()\n",
    "    r_dict = loads(f.read_text())\n",
    "    # print(r_dict['title'])\n",
    "    for my_element in r_dict['snapshot']['element']:\n",
    "        try:\n",
    "            if my_element['mustSupport']: # for MS\n",
    "            # if my_element['extension'][0]['url'] =='http://hl7.org/fhir/us/core/StructureDefinition/uscdi-requirement': # for Add'l USCDI's\n",
    "                # print(r_dict['title'], my_element['path'])\n",
    "                try:\n",
    "                    for type in my_element['type']:\n",
    "                        if type['code'] == 'Reference':\n",
    "                            # print(r_dict['title'], my_element['path'],type)\n",
    "                            try:\n",
    "                                if type['_targetProfile']:\n",
    "                                   if not any(d['extension'][0]['valueBoolean'] == True for d in type['_targetProfile']):\n",
    "                                     print('1.',r_dict['title'], my_element['path'],type)\n",
    "                            except KeyError as e:\n",
    "                                if len(type['targetProfile']) > 1:\n",
    "                                    \n",
    "                                    print('1.',r_dict['title'], my_element['path'],type)\n",
    "                except KeyError as e:\n",
    "                    pass\n",
    "        except KeyError as e:\n",
    "            pass\n",
    "\n"
   ]
  },
  {
   "cell_type": "code",
   "execution_count": 3,
   "metadata": {},
   "outputs": [
    {
     "name": "stdout",
     "output_type": "stream",
     "text": [
      "==============================\n"
     ]
    }
   ],
   "source": [
    "\n",
    "            # if my_element.type == Reference:\n",
    "            #     print (my_element['path'])\n",
    "            \n",
    "            # my_list.append(r_dict['title'])\n",
    "            \n",
    "\n",
    "    # try:\n",
    "\n",
    "        # if my_entry['resource']['name'] in Events:\n",
    "        #     pass\n",
    "        #     print (my_entry['resource']['name'])\n",
    "        #     for my_element in my_entry['resource']['snapshot']['element']:\n",
    "        #         if 'basedOn' in my_element['path'].split('.'):\n",
    "        #             print (my_element['path'])\n",
    "        #             my_list.append(my_entry['resource']['name'])\n",
    "    # except KeyError:\n",
    "        # pass\n",
    "my_list = set(my_list)\n",
    "# not_found_list = [i for i in Events if i not in my_list and \"Response\" not in i]\n",
    "\n",
    "# print (f'Event list = {Events}')\n",
    "# print (f'my list = {my_list}')\n",
    "# print (f'not_found_list = {not_found_list}')\n",
    "print(\"==============================\")\n",
    "# print('; '.join(not_found_list))\n",
    "for i,j in enumerate(my_list):\n",
    "    print (f'{i+1}. {j}')"
   ]
  },
  {
   "cell_type": "code",
   "execution_count": null,
   "metadata": {},
   "outputs": [],
   "source": []
  }
 ],
 "metadata": {
  "kernelspec": {
   "display_name": "jupyter",
   "language": "python",
   "name": "python3"
  },
  "language_info": {
   "codemirror_mode": {
    "name": "ipython",
    "version": 3
   },
   "file_extension": ".py",
   "mimetype": "text/x-python",
   "name": "python",
   "nbconvert_exporter": "python",
   "pygments_lexer": "ipython3",
   "version": "3.10.2"
  },
  "orig_nbformat": 4
 },
 "nbformat": 4,
 "nbformat_minor": 2
}
