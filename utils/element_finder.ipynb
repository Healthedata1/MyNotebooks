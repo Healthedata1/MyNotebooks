{
 "cells": [
  {
   "cell_type": "code",
   "execution_count": 9,
   "metadata": {},
   "outputs": [],
   "source": [
    "from ntpath import join\n",
    "from pathlib import Path\n",
    "from json import loads, dumps\n",
    "import zipfile\n",
    "\n",
    "Events =['AuditEvent', 'ChargeItem', 'ClaimResponse', 'ClinicalImpression', 'Communication', 'Composition', 'Consent', 'Coverage', 'CoverageEligibilityResponse', 'DetectedIssue', 'DeviceUsage', 'DiagnosticReport', 'DocumentManifest', 'DocumentReference', 'Encounter', 'EnrollmentResponse', 'EpisodeOfCare', 'ExplanationOfBenefit', 'FamilyMemberHistory', 'GuidanceResponse', 'ImagingSelection', 'ImagingStudy', 'Immunization', 'ImmunizationEvaluation', 'InventoryReport', 'MedicationAdministration', 'MedicationDispense', 'MedicationUsage', 'NutritionIntake', 'Observation', 'PaymentNotice', 'PaymentReconciliation', 'Procedure', 'Provenance', 'QuestionnaireResponse', 'RiskAssessment', 'SupplyDelivery', 'Transport']\n",
    "\n",
    "my_path = Path(r'/Users/ehaas/Documents/FHIR/fhir/publish/definitions.json.zip') #Core FHIR\n",
    "my_path = Path(r'/Users/ehaas/Documents/FHIR/US-Core/output/definitions.json.zip') #US Core\n",
    "with zipfile.ZipFile(my_path, 'r') as my_zip:\n",
    "    my_zip.extractall(Path()) \n",
    "#     my_zip.extractall(Path()/'temp-definitions')\n"
   ]
  },
  {
   "cell_type": "code",
   "execution_count": 10,
   "metadata": {},
   "outputs": [
    {
     "name": "stdout",
     "output_type": "stream",
     "text": [
      "==============================\n",
      "1. US Core Encounter Profile\n",
      "2. US Core DiagnosticReport Profile for Report and Note Exchange\n",
      "3. US Core QuestionnaireResponse Profile\n",
      "4. US Core ServiceRequest Profile\n",
      "5. US Core Observation Pregnancy Status Profile\n",
      "6. US Core Simple Observation Profile\n",
      "7. US Core MedicationDispense Profile\n",
      "8. US Core Observation Clinical Result Profile\n",
      "9. US Core Condition Encounter Diagnosis Profile\n",
      "10. US Core Condition Problems and Health Concerns Profile\n",
      "11. US Core Observation Sexual Orientation Profile\n",
      "12. US Core Specimen Profile\n",
      "13. US Core DocumentReference Profile\n",
      "14. US Core MedicationRequest Profile\n",
      "15. US Core Smoking Status Observation Profile\n",
      "16. US Core Observation Occupation Profile\n",
      "17. US Core DiagnosticReport Profile for Laboratory Results Reporting\n",
      "18. US Core Observation Screening Assessment Profile\n",
      "19. US Core CarePlan Profile\n",
      "20. US Core Observation Pregnancy Intent Profile\n",
      "21. US Core Procedure Profile\n",
      "22. US Core Goal Profile\n",
      "23. US Core CareTeam Profile\n",
      "24. US Core Vital Signs Profile\n"
     ]
    }
   ],
   "source": [
    "\n",
    "\n",
    "# with open(Path()/'temp-definitions'/'profiles-resources.json', 'r') as my_file:\n",
    "#     my_json = loads(my_file.read())\n",
    "\n",
    "my_list = []\n",
    "for f in Path().glob('StructureDefinition-*.json'):\n",
    "    r_dict = loads(f.read_text())\n",
    "    for my_element in r_dict['differential']['element']:\n",
    "        if 'subject' in my_element['path'].split('.'):\n",
    "            # print (my_element['path'])\n",
    "            my_list.append(r_dict['title'])\n",
    "            \n",
    "\n",
    "    # try:\n",
    "\n",
    "        # if my_entry['resource']['name'] in Events:\n",
    "        #     pass\n",
    "        #     print (my_entry['resource']['name'])\n",
    "        #     for my_element in my_entry['resource']['snapshot']['element']:\n",
    "        #         if 'basedOn' in my_element['path'].split('.'):\n",
    "        #             print (my_element['path'])\n",
    "        #             my_list.append(my_entry['resource']['name'])\n",
    "    # except KeyError:\n",
    "        # pass\n",
    "my_list = set(my_list)\n",
    "# not_found_list = [i for i in Events if i not in my_list and \"Response\" not in i]\n",
    "\n",
    "# print (f'Event list = {Events}')\n",
    "# print (f'my list = {my_list}')\n",
    "# print (f'not_found_list = {not_found_list}')\n",
    "print(\"==============================\")\n",
    "# print('; '.join(not_found_list))\n",
    "for i,j in enumerate(my_list):\n",
    "    print (f'{i+1}. {j}')"
   ]
  },
  {
   "cell_type": "code",
   "execution_count": null,
   "metadata": {},
   "outputs": [],
   "source": []
  }
 ],
 "metadata": {
  "kernelspec": {
   "display_name": "Python 3.10.2 64-bit ('jupyter')",
   "language": "python",
   "name": "python3"
  },
  "language_info": {
   "codemirror_mode": {
    "name": "ipython",
    "version": 3
   },
   "file_extension": ".py",
   "mimetype": "text/x-python",
   "name": "python",
   "nbconvert_exporter": "python",
   "pygments_lexer": "ipython3",
   "version": "3.10.2"
  },
  "orig_nbformat": 4,
  "vscode": {
   "interpreter": {
    "hash": "18672f2fb81dcbb023a0ac48a86c775a19488782369d96ffbd3382a22fd285cf"
   }
  }
 },
 "nbformat": 4,
 "nbformat_minor": 2
}
