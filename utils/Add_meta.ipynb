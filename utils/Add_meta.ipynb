{
 "cells": [
  {
   "cell_type": "markdown",
   "metadata": {},
   "source": [
    "## add Meta to all resources\n",
    "\n",
    "- fetch json files from source directory using pathlib\n",
    "- add meta element\n",
    "- validate\n",
    "- write back to directory pathlib"
   ]
  },
  {
   "cell_type": "markdown",
   "metadata": {},
   "source": [
    "### Imports"
   ]
  },
  {
   "cell_type": "code",
   "execution_count": 131,
   "metadata": {},
   "outputs": [],
   "source": [
    "from json import load, dumps, loads\n",
    "from requests import get, post, put\n",
    "from IPython.display import display, Markdown, HTML\n",
    "from pprint import pprint\n",
    "from pathlib import Path, WindowsPath"
   ]
  },
  {
   "cell_type": "markdown",
   "metadata": {},
   "source": [
    "### globals  (target_dir)"
   ]
  },
  {
   "cell_type": "code",
   "execution_count": 132,
   "metadata": {},
   "outputs": [
    {
     "data": {
      "text/plain": [
       "'//ERICS-AIR-2/ehaas/Documents/FHIR/Davinci-DEQM/input/examples'"
      ]
     },
     "execution_count": 132,
     "metadata": {},
     "output_type": "execute_result"
    }
   ],
   "source": [
    "mac = '/Users'\n",
    "pc = '//ERICS-AIR-2'\n",
    "base = 'ehaas/Documents/FHIR/Davinci-DEQM'\n",
    "examples = 'input/examples'\n",
    "#out_path ='r4'  #local output dir\n",
    "out_path = f'{pc}/{base}/{examples}'  #DEQM source\n",
    "\n",
    "out_path"
   ]
  },
  {
   "cell_type": "markdown",
   "metadata": {},
   "source": [
    "### list all file in dir"
   ]
  },
  {
   "cell_type": "code",
   "execution_count": 133,
   "metadata": {},
   "outputs": [
    {
     "name": "stdout",
     "output_type": "stream",
     "text": [
      "\\\\ERICS-AIR-2\\ehaas\\Documents\\FHIR\\Davinci-DEQM\\input\\examples\n",
      "True\n"
     ]
    },
    {
     "data": {
      "text/plain": [
       "[WindowsPath('//ERICS-AIR-2/ehaas/Documents/FHIR/Davinci-DEQM/input/examples/Bundle-multiple-indv-mrp-obs-report.json'),\n",
       " WindowsPath('//ERICS-AIR-2/ehaas/Documents/FHIR/Davinci-DEQM/input/examples/Bundle-multiple-indv-mrp-task-report.json'),\n",
       " WindowsPath('//ERICS-AIR-2/ehaas/Documents/FHIR/Davinci-DEQM/input/examples/Bundle-multiple-summ-report.json'),\n",
       " WindowsPath('//ERICS-AIR-2/ehaas/Documents/FHIR/Davinci-DEQM/input/examples/Bundle-single-indv-col-measurereport.json'),\n",
       " WindowsPath('//ERICS-AIR-2/ehaas/Documents/FHIR/Davinci-DEQM/input/examples/Bundle-single-indv-mrp-obs-report.json'),\n",
       " WindowsPath('//ERICS-AIR-2/ehaas/Documents/FHIR/Davinci-DEQM/input/examples/Bundle-single-indv-mrp-task-report.json'),\n",
       " WindowsPath('//ERICS-AIR-2/ehaas/Documents/FHIR/Davinci-DEQM/input/examples/Bundle-single-indv-vte-measurereport.json'),\n",
       " WindowsPath('//ERICS-AIR-2/ehaas/Documents/FHIR/Davinci-DEQM/input/examples/Coverage-coverage01.json'),\n",
       " WindowsPath('//ERICS-AIR-2/ehaas/Documents/FHIR/Davinci-DEQM/input/examples/Coverage-coverage02.json'),\n",
       " WindowsPath('//ERICS-AIR-2/ehaas/Documents/FHIR/Davinci-DEQM/input/examples/Coverage-coverage03.json'),\n",
       " WindowsPath('//ERICS-AIR-2/ehaas/Documents/FHIR/Davinci-DEQM/input/examples/Device-deqm-software-system-example.json'),\n",
       " WindowsPath('//ERICS-AIR-2/ehaas/Documents/FHIR/Davinci-DEQM/input/examples/Encounter-encounter01.json'),\n",
       " WindowsPath('//ERICS-AIR-2/ehaas/Documents/FHIR/Davinci-DEQM/input/examples/Encounter-encounter02.json'),\n",
       " WindowsPath('//ERICS-AIR-2/ehaas/Documents/FHIR/Davinci-DEQM/input/examples/Encounter-encounter03.json'),\n",
       " WindowsPath('//ERICS-AIR-2/ehaas/Documents/FHIR/Davinci-DEQM/input/examples/Group-group01.json'),\n",
       " WindowsPath('//ERICS-AIR-2/ehaas/Documents/FHIR/Davinci-DEQM/input/examples/Library-library-mrp-example.json'),\n",
       " WindowsPath('//ERICS-AIR-2/ehaas/Documents/FHIR/Davinci-DEQM/input/examples/Location-location01.json'),\n",
       " WindowsPath('//ERICS-AIR-2/ehaas/Documents/FHIR/Davinci-DEQM/input/examples/Location-location02.json'),\n",
       " WindowsPath('//ERICS-AIR-2/ehaas/Documents/FHIR/Davinci-DEQM/input/examples/Location-location03.json'),\n",
       " WindowsPath('//ERICS-AIR-2/ehaas/Documents/FHIR/Davinci-DEQM/input/examples/Measure-date-of-last-power-outage.json'),\n",
       " WindowsPath('//ERICS-AIR-2/ehaas/Documents/FHIR/Davinci-DEQM/input/examples/Measure-measure-mrp-example.json'),\n",
       " WindowsPath('//ERICS-AIR-2/ehaas/Documents/FHIR/Davinci-DEQM/input/examples/MeasureReport-datax-measurereport01.json'),\n",
       " WindowsPath('//ERICS-AIR-2/ehaas/Documents/FHIR/Davinci-DEQM/input/examples/MeasureReport-datax-measurereport02.json'),\n",
       " WindowsPath('//ERICS-AIR-2/ehaas/Documents/FHIR/Davinci-DEQM/input/examples/MeasureReport-datax-measurereport03.json'),\n",
       " WindowsPath('//ERICS-AIR-2/ehaas/Documents/FHIR/Davinci-DEQM/input/examples/MeasureReport-date-of-last-power-outage.json'),\n",
       " WindowsPath('//ERICS-AIR-2/ehaas/Documents/FHIR/Davinci-DEQM/input/examples/MeasureReport-indv-measurereport01.json'),\n",
       " WindowsPath('//ERICS-AIR-2/ehaas/Documents/FHIR/Davinci-DEQM/input/examples/MeasureReport-indv-measurereport02.json'),\n",
       " WindowsPath('//ERICS-AIR-2/ehaas/Documents/FHIR/Davinci-DEQM/input/examples/MeasureReport-indv-measurereport03.json'),\n",
       " WindowsPath('//ERICS-AIR-2/ehaas/Documents/FHIR/Davinci-DEQM/input/examples/MeasureReport-summ-measurereport01.json'),\n",
       " WindowsPath('//ERICS-AIR-2/ehaas/Documents/FHIR/Davinci-DEQM/input/examples/MeasureReport-summ-measurereport02.json'),\n",
       " WindowsPath('//ERICS-AIR-2/ehaas/Documents/FHIR/Davinci-DEQM/input/examples/MeasureReport-summ-medicare-stratification-example.json'),\n",
       " WindowsPath('//ERICS-AIR-2/ehaas/Documents/FHIR/Davinci-DEQM/input/examples/Observation-observation01.json'),\n",
       " WindowsPath('//ERICS-AIR-2/ehaas/Documents/FHIR/Davinci-DEQM/input/examples/Observation-observation02.json'),\n",
       " WindowsPath('//ERICS-AIR-2/ehaas/Documents/FHIR/Davinci-DEQM/input/examples/Observation-observation03.json'),\n",
       " WindowsPath('//ERICS-AIR-2/ehaas/Documents/FHIR/Davinci-DEQM/input/examples/Organization-organization01.json'),\n",
       " WindowsPath('//ERICS-AIR-2/ehaas/Documents/FHIR/Davinci-DEQM/input/examples/Organization-organization02.json'),\n",
       " WindowsPath('//ERICS-AIR-2/ehaas/Documents/FHIR/Davinci-DEQM/input/examples/Organization-organization03.json'),\n",
       " WindowsPath('//ERICS-AIR-2/ehaas/Documents/FHIR/Davinci-DEQM/input/examples/Organization-organization04.json'),\n",
       " WindowsPath('//ERICS-AIR-2/ehaas/Documents/FHIR/Davinci-DEQM/input/examples/Parameters-col-submit-obs.json'),\n",
       " WindowsPath('//ERICS-AIR-2/ehaas/Documents/FHIR/Davinci-DEQM/input/examples/Parameters-mrp-submit-obs.json'),\n",
       " WindowsPath('//ERICS-AIR-2/ehaas/Documents/FHIR/Davinci-DEQM/input/examples/Parameters-mrp-submit-task.json'),\n",
       " WindowsPath('//ERICS-AIR-2/ehaas/Documents/FHIR/Davinci-DEQM/input/examples/Patient-patient01.json'),\n",
       " WindowsPath('//ERICS-AIR-2/ehaas/Documents/FHIR/Davinci-DEQM/input/examples/Patient-patient02.json'),\n",
       " WindowsPath('//ERICS-AIR-2/ehaas/Documents/FHIR/Davinci-DEQM/input/examples/Patient-patient03.json'),\n",
       " WindowsPath('//ERICS-AIR-2/ehaas/Documents/FHIR/Davinci-DEQM/input/examples/Practitioner-practitioner01.json'),\n",
       " WindowsPath('//ERICS-AIR-2/ehaas/Documents/FHIR/Davinci-DEQM/input/examples/Practitioner-practitioner02.json'),\n",
       " WindowsPath('//ERICS-AIR-2/ehaas/Documents/FHIR/Davinci-DEQM/input/examples/Practitioner-practitioner03.json'),\n",
       " WindowsPath('//ERICS-AIR-2/ehaas/Documents/FHIR/Davinci-DEQM/input/examples/Task-task01.json'),\n",
       " WindowsPath('//ERICS-AIR-2/ehaas/Documents/FHIR/Davinci-DEQM/input/examples/Task-task02.json'),\n",
       " WindowsPath('//ERICS-AIR-2/ehaas/Documents/FHIR/Davinci-DEQM/input/examples/Task-task03.json')]"
      ]
     },
     "execution_count": 133,
     "metadata": {},
     "output_type": "execute_result"
    }
   ],
   "source": [
    "\"\\\\ERICS-AIR-2\\ehaas\\Documents\\FHIR\\Davinci-DEQM\\input\\examples\"\n",
    "\n",
    "p= Path(out_path)\n",
    "print(p)\n",
    "print(p.is_dir())\n",
    "files = [x for x in p.glob('*.json') if x.is_file()]\n",
    "\n",
    "files"
   ]
  },
  {
   "cell_type": "markdown",
   "metadata": {},
   "source": [
    "### Write to file"
   ]
  },
  {
   "cell_type": "code",
   "execution_count": 134,
   "metadata": {},
   "outputs": [],
   "source": [
    " def write_out(name, r):\n",
    "    #out = Path() / 'out' / name\n",
    "    out = p / name\n",
    "    print( f'writing file to {out}')\n",
    "    out.write_text(dumps(r, indent = 4))   "
   ]
  },
  {
   "cell_type": "markdown",
   "metadata": {},
   "source": [
    "### Validate File"
   ]
  },
  {
   "cell_type": "code",
   "execution_count": 135,
   "metadata": {},
   "outputs": [],
   "source": [
    "# *********************** validate Resource ********************************\n",
    "\n",
    "def validate(r_dict):\n",
    "\n",
    "    #fhir_test_server = 'http://test.fhir.org/r4'\n",
    "    fhir_test_server = 'http://hapi.fhir.org/baseR4'\n",
    "    #fhir_test_server ='http://wildfhir4.aegis.net/fhir4-0-1'\n",
    "    headers = {\n",
    "    'Accept':'application/fhir+json',\n",
    "    'Content-Type':'application/fhir+json'\n",
    "    }\n",
    "\n",
    "    r = post(f'{fhir_test_server}/{r_dict[\"resourceType\"]}/$validate', headers = headers, data = dumps(r_dict))\n",
    "    display(HTML(f'<h1>Validation output</h1><h3>Status Code = {r.status_code}</h3> {r.json()[\"text\"][\"div\"]}'))"
   ]
  },
  {
   "cell_type": "markdown",
   "metadata": {},
   "source": [
    "### Add meta source\n",
    "\n",
    "- iterate\n",
    "- convert to dict\n",
    "- update meta if present else add meta and update\n",
    "  - Bundle iterate through \n",
    "  - Parameterss iterate through"
   ]
  },
  {
   "cell_type": "code",
   "execution_count": 136,
   "metadata": {},
   "outputs": [
    {
     "name": "stdout",
     "output_type": "stream",
     "text": [
      "file = \\\\ERICS-AIR-2\\ehaas\\Documents\\FHIR\\Davinci-DEQM\\input\\examples\\Bundle-multiple-indv-mrp-obs-report.json\n",
      " Type = Bundle\n",
      "Bundle missing meta\n",
      "\n",
      "Entry = Practitioner\n",
      " meta = {'profile': ['http://hl7.org/fhir/us/davinci-deqm/StructureDefinition/practitioner-deqm']}\n",
      "Entry = Patient\n",
      " meta = {'lastUpdated': '2019-03-06T19:03:03.000+00:00', 'profile': ['http://hl7.org/fhir/us/qicore/StructureDefinition/qicore-patient'], 'versionId': '4'}\n",
      "Entry = Coverage\n",
      " meta = {'lastUpdated': '2019-02-11T14:19:25.000+00:00', 'profile': ['http://hl7.org/fhir/us/davinci-deqm/StructureDefinition/coverage-deqm'], 'versionId': '2'}\n",
      "Entry = MeasureReport\n",
      " meta = {'profile': ['http://hl7.org/fhir/us/davinci-deqm/StructureDefinition/indv-measurereport-deqm']}\n",
      "Entry = MeasureReport\n",
      " meta = {'profile': ['http://hl7.org/fhir/us/davinci-deqm/StructureDefinition/indv-measurereport-deqm']}\n",
      "Entry = Organization\n",
      " meta = {'lastUpdated': '2019-03-06T19:03:03.000+00:00', 'profile': ['http://hl7.org/fhir/us/davinci-deqm/StructureDefinition/organization-deqm'], 'versionId': '3'}\n",
      "Entry = Encounter\n",
      " meta = {'profile': ['http://hl7.org/fhir/us/qicore/StructureDefinition/qicore-encounter']}\n",
      "Entry = MeasureReport\n",
      " meta = {'profile': ['http://hl7.org/fhir/us/davinci-deqm/StructureDefinition/indv-measurereport-deqm']}\n",
      "Entry = Observation\n",
      " meta = {'profile': ['http://hl7.org/fhir/us/qicore/StructureDefinition/qicore-observation']}\n",
      "Entry = Observation\n",
      " meta = {'profile': ['http://hl7.org/fhir/us/qicore/StructureDefinition/qicore-observation']}\n",
      "Entry = Encounter\n",
      " meta = {'profile': ['http://hl7.org/fhir/us/qicore/StructureDefinition/qicore-encounter']}\n",
      "Entry = Organization\n",
      " meta = {'lastUpdated': '2019-03-06T19:03:03.000+00:00', 'profile': ['http://hl7.org/fhir/us/davinci-deqm/StructureDefinition/organization-deqm'], 'versionId': '4'}\n",
      "Entry = Organization\n",
      " meta = {'lastUpdated': '2019-02-21T01:47:54.000+00:00', 'profile': ['http://hl7.org/fhir/us/davinci-deqm/StructureDefinition/organization-deqm'], 'versionId': '4'}\n",
      "Entry = Coverage\n",
      " meta = {'lastUpdated': '2019-03-06T19:03:03.000+00:00', 'profile': ['http://hl7.org/fhir/us/davinci-deqm/StructureDefinition/coverage-deqm'], 'versionId': '2'}\n",
      "Entry = Patient\n",
      " meta = {'lastUpdated': '2019-02-07T18:47:34.000+00:00', 'profile': ['http://hl7.org/fhir/us/qicore/StructureDefinition/qicore-patient'], 'versionId': '4'}\n",
      "Entry = Patient\n",
      " meta = {'lastUpdated': '2019-02-11T14:19:25.000+00:00', 'profile': ['http://hl7.org/fhir/us/qicore/StructureDefinition/qicore-patient'], 'versionId': '5'}\n",
      "Entry = Coverage\n",
      " meta = {'lastUpdated': '2019-02-07T18:47:34.000+00:00', 'profile': ['http://hl7.org/fhir/us/davinci-deqm/StructureDefinition/coverage-deqm'], 'versionId': '2'}\n"
     ]
    },
    {
     "data": {
      "text/html": [
       "<h1>Validation output</h1><h3>Status Code = 500</h3> <div xmlns=\"http://www.w3.org/1999/xhtml\"><h1>Operation Outcome</h1><table border=\"0\"><tr><td style=\"font-weight: bold;\">ERROR</td><td>[]</td><td><pre>Failed to call access method: org.springframework.dao.InvalidDataAccessApiUsageException: Can't fetch resource type: Measure; nested exception is java.lang.IllegalArgumentException: Can't fetch resource type: Measure</pre></td>\n",
       "\t\t\t\t\t\n",
       "\t\t\t\t\n",
       "\t\t\t</tr>\n",
       "\t\t</table>\n",
       "\t</div>"
      ],
      "text/plain": [
       "<IPython.core.display.HTML object>"
      ]
     },
     "metadata": {},
     "output_type": "display_data"
    },
    {
     "name": "stdout",
     "output_type": "stream",
     "text": [
      "writing file to \\\\ERICS-AIR-2\\ehaas\\Documents\\FHIR\\Davinci-DEQM\\input\\examples\\Bundle-multiple-indv-mrp-obs-report.json\n",
      "file = \\\\ERICS-AIR-2\\ehaas\\Documents\\FHIR\\Davinci-DEQM\\input\\examples\\Bundle-multiple-indv-mrp-task-report.json\n",
      " Type = Bundle\n",
      "Bundle missing meta\n",
      "\n",
      "Entry = MeasureReport\n",
      " meta = {'profile': ['http://hl7.org/fhir/us/davinci-deqm/StructureDefinition/indv-measurereport-deqm']}\n",
      "Entry = Encounter\n",
      " meta = {'profile': ['http://hl7.org/fhir/us/qicore/StructureDefinition/qicore-encounter']}\n",
      "Entry = Organization\n",
      " meta = {'lastUpdated': '2019-03-06T19:03:03.000+00:00', 'profile': ['http://hl7.org/fhir/us/davinci-deqm/StructureDefinition/organization-deqm'], 'versionId': '3'}\n",
      "Entry = MeasureReport\n",
      " meta = {'profile': ['http://hl7.org/fhir/us/davinci-deqm/StructureDefinition/indv-measurereport-deqm']}\n",
      "Entry = Practitioner\n",
      " meta = {'profile': ['http://hl7.org/fhir/us/davinci-deqm/StructureDefinition/practitioner-deqm']}\n",
      "Entry = Patient\n",
      " meta = {'lastUpdated': '2019-02-07T18:47:34.000+00:00', 'profile': ['http://hl7.org/fhir/us/qicore/StructureDefinition/qicore-patient'], 'versionId': '4'}\n",
      "Entry = Organization\n",
      " meta = {'lastUpdated': '2019-03-06T19:03:03.000+00:00', 'profile': ['http://hl7.org/fhir/us/davinci-deqm/StructureDefinition/organization-deqm'], 'versionId': '4'}\n",
      "Entry = Task\n",
      " meta = {'profile': ['http://hl7.org/fhir/us/qicore/StructureDefinition/qicore-task']}\n",
      "Entry = Coverage\n",
      " meta = {'lastUpdated': '2019-02-11T14:19:25.000+00:00', 'profile': ['http://hl7.org/fhir/us/davinci-deqm/StructureDefinition/coverage-deqm'], 'versionId': '2'}\n",
      "Entry = Organization\n",
      " meta = {'lastUpdated': '2019-02-21T01:47:54.000+00:00', 'profile': ['http://hl7.org/fhir/us/davinci-deqm/StructureDefinition/organization-deqm'], 'versionId': '4'}\n",
      "Entry = Patient\n",
      " meta = {'lastUpdated': '2019-02-11T14:19:25.000+00:00', 'profile': ['http://hl7.org/fhir/us/qicore/StructureDefinition/qicore-patient'], 'versionId': '5'}\n",
      "Entry = Coverage\n",
      " meta = {'lastUpdated': '2019-03-06T19:03:03.000+00:00', 'profile': ['http://hl7.org/fhir/us/davinci-deqm/StructureDefinition/coverage-deqm'], 'versionId': '2'}\n",
      "Entry = Coverage\n",
      " meta = {'lastUpdated': '2019-02-07T18:47:34.000+00:00', 'profile': ['http://hl7.org/fhir/us/davinci-deqm/StructureDefinition/coverage-deqm'], 'versionId': '2'}\n",
      "Entry = Task\n",
      " meta = {'profile': ['http://hl7.org/fhir/us/qicore/StructureDefinition/qicore-task']}\n",
      "Entry = Encounter\n",
      " meta = {'profile': ['http://hl7.org/fhir/us/qicore/StructureDefinition/qicore-encounter']}\n",
      "Entry = Patient\n",
      " meta = {'lastUpdated': '2019-03-06T19:03:03.000+00:00', 'profile': ['http://hl7.org/fhir/us/qicore/StructureDefinition/qicore-patient'], 'versionId': '4'}\n",
      "Entry = MeasureReport\n",
      " meta = {'profile': ['http://hl7.org/fhir/us/davinci-deqm/StructureDefinition/indv-measurereport-deqm']}\n"
     ]
    },
    {
     "data": {
      "text/html": [
       "<h1>Validation output</h1><h3>Status Code = 500</h3> <div xmlns=\"http://www.w3.org/1999/xhtml\"><h1>Operation Outcome</h1><table border=\"0\"><tr><td style=\"font-weight: bold;\">ERROR</td><td>[]</td><td><pre>Failed to call access method: org.springframework.dao.InvalidDataAccessApiUsageException: Can't fetch resource type: Measure; nested exception is java.lang.IllegalArgumentException: Can't fetch resource type: Measure</pre></td>\n",
       "\t\t\t\t\t\n",
       "\t\t\t\t\n",
       "\t\t\t</tr>\n",
       "\t\t</table>\n",
       "\t</div>"
      ],
      "text/plain": [
       "<IPython.core.display.HTML object>"
      ]
     },
     "metadata": {},
     "output_type": "display_data"
    },
    {
     "name": "stdout",
     "output_type": "stream",
     "text": [
      "writing file to \\\\ERICS-AIR-2\\ehaas\\Documents\\FHIR\\Davinci-DEQM\\input\\examples\\Bundle-multiple-indv-mrp-task-report.json\n",
      "file = \\\\ERICS-AIR-2\\ehaas\\Documents\\FHIR\\Davinci-DEQM\\input\\examples\\Bundle-multiple-summ-report.json\n",
      " Type = Bundle\n",
      "Bundle missing meta\n",
      "\n",
      "Entry = MeasureReport missing meta\n",
      "\n",
      "Entry = Organization\n",
      " meta = {'lastUpdated': '2019-02-21T01:47:54.000+00:00', 'profile': ['http://hl7.org/fhir/us/davinci-deqm/StructureDefinition/organization-deqm'], 'versionId': '4'}\n",
      "Entry = MeasureReport\n",
      " meta = {'profile': ['http://hl7.org/fhir/us/davinci-deqm/StructureDefinition/summary-measurereport-deqm']}\n",
      "Entry = MeasureReport\n",
      " meta = {'profile': ['http://hl7.org/fhir/us/davinci-deqm/StructureDefinition/summary-measurereport-deqm']}\n"
     ]
    },
    {
     "data": {
      "text/html": [
       "<h1>Validation output</h1><h3>Status Code = 500</h3> <div xmlns=\"http://www.w3.org/1999/xhtml\"><h1>Operation Outcome</h1><table border=\"0\"><tr><td style=\"font-weight: bold;\">ERROR</td><td>[]</td><td><pre>Failed to call access method: org.springframework.dao.InvalidDataAccessApiUsageException: Can't fetch resource type: Measure; nested exception is java.lang.IllegalArgumentException: Can't fetch resource type: Measure</pre></td>\n",
       "\t\t\t\t\t\n",
       "\t\t\t\t\n",
       "\t\t\t</tr>\n",
       "\t\t</table>\n",
       "\t</div>"
      ],
      "text/plain": [
       "<IPython.core.display.HTML object>"
      ]
     },
     "metadata": {},
     "output_type": "display_data"
    },
    {
     "name": "stdout",
     "output_type": "stream",
     "text": [
      "writing file to \\\\ERICS-AIR-2\\ehaas\\Documents\\FHIR\\Davinci-DEQM\\input\\examples\\Bundle-multiple-summ-report.json\n",
      "file = \\\\ERICS-AIR-2\\ehaas\\Documents\\FHIR\\Davinci-DEQM\\input\\examples\\Bundle-single-indv-col-measurereport.json\n",
      " Type = Bundle\n",
      "Bundle missing meta\n",
      "\n",
      "Entry = MeasureReport\n",
      " meta = {'profile': ['http://hl7.org/fhir/us/davinci-deqm/StructureDefinition/indv-measurereport-deqm']}\n",
      "Entry = Organization\n",
      " meta = {'profile': ['http://hl7.org/fhir/us/davinci-deqm/StructureDefinition/organization-deqm']}\n",
      "Entry = Patient\n",
      " meta = {'profile': ['http://hl7.org/fhir/us/qicore/StructureDefinition/qicore-patient']}\n",
      "Entry = Practitioner\n",
      " meta = {'profile': ['http://hl7.org/fhir/us/davinci-deqm/StructureDefinition/practitioner-deqm']}\n",
      "Entry = Observation\n",
      " meta = {'profile': ['http://hl7.org/fhir/us/qicore/StructureDefinition/qicore-observation']}\n"
     ]
    },
    {
     "data": {
      "text/html": [
       "<h1>Validation output</h1><h3>Status Code = 500</h3> <div xmlns=\"http://www.w3.org/1999/xhtml\"><h1>Operation Outcome</h1><table border=\"0\"><tr><td style=\"font-weight: bold;\">ERROR</td><td>[]</td><td><pre>Failed to call access method: org.springframework.dao.InvalidDataAccessApiUsageException: Can't fetch resource type: Measure; nested exception is java.lang.IllegalArgumentException: Can't fetch resource type: Measure</pre></td>\n",
       "\t\t\t\t\t\n",
       "\t\t\t\t\n",
       "\t\t\t</tr>\n",
       "\t\t</table>\n",
       "\t</div>"
      ],
      "text/plain": [
       "<IPython.core.display.HTML object>"
      ]
     },
     "metadata": {},
     "output_type": "display_data"
    },
    {
     "name": "stdout",
     "output_type": "stream",
     "text": [
      "writing file to \\\\ERICS-AIR-2\\ehaas\\Documents\\FHIR\\Davinci-DEQM\\input\\examples\\Bundle-single-indv-col-measurereport.json\n",
      "file = \\\\ERICS-AIR-2\\ehaas\\Documents\\FHIR\\Davinci-DEQM\\input\\examples\\Bundle-single-indv-mrp-obs-report.json\n",
      " Type = Bundle\n",
      "Bundle missing meta\n",
      "\n",
      "Entry = MeasureReport\n",
      " meta = {'profile': ['http://hl7.org/fhir/us/davinci-deqm/StructureDefinition/indv-measurereport-deqm']}\n",
      "Entry = Coverage\n",
      " meta = {'profile': ['http://hl7.org/fhir/us/davinci-deqm/StructureDefinition/coverage-deqm']}\n",
      "Entry = Organization\n",
      " meta = {'profile': ['http://hl7.org/fhir/us/davinci-deqm/StructureDefinition/organization-deqm']}\n",
      "Entry = Organization\n",
      " meta = {'profile': ['http://hl7.org/fhir/us/davinci-deqm/StructureDefinition/organization-deqm']}\n",
      "Entry = Observation\n",
      " meta = {'profile': ['http://hl7.org/fhir/us/qicore/StructureDefinition/qicore-observation']}\n",
      "Entry = Patient\n",
      " meta = {'profile': ['http://hl7.org/fhir/us/core/StructureDefinition/us-core-patient']}\n",
      "Entry = Encounter\n",
      " meta = {'profile': ['http://hl7.org/fhir/us/core/StructureDefinition/us-core-encounter']}\n",
      "Entry = Practitioner\n",
      " meta = {'profile': ['http://hl7.org/fhir/us/core/StructureDefinition/us-core-practitioner']}\n",
      "Entry = Organization\n",
      " meta = {'profile': ['http://hl7.org/fhir/us/core/StructureDefinition/us-core-organization']}\n",
      "Entry = Location\n",
      " meta = {'profile': ['http://hl7.org/fhir/us/core/StructureDefinition/us-core-location']}\n"
     ]
    },
    {
     "data": {
      "text/html": [
       "<h1>Validation output</h1><h3>Status Code = 500</h3> <div xmlns=\"http://www.w3.org/1999/xhtml\"><h1>Operation Outcome</h1><table border=\"0\"><tr><td style=\"font-weight: bold;\">ERROR</td><td>[]</td><td><pre>Failed to call access method: org.springframework.dao.InvalidDataAccessApiUsageException: Can't fetch resource type: Measure; nested exception is java.lang.IllegalArgumentException: Can't fetch resource type: Measure</pre></td>\n",
       "\t\t\t\t\t\n",
       "\t\t\t\t\n",
       "\t\t\t</tr>\n",
       "\t\t</table>\n",
       "\t</div>"
      ],
      "text/plain": [
       "<IPython.core.display.HTML object>"
      ]
     },
     "metadata": {},
     "output_type": "display_data"
    },
    {
     "name": "stdout",
     "output_type": "stream",
     "text": [
      "writing file to \\\\ERICS-AIR-2\\ehaas\\Documents\\FHIR\\Davinci-DEQM\\input\\examples\\Bundle-single-indv-mrp-obs-report.json\n",
      "file = \\\\ERICS-AIR-2\\ehaas\\Documents\\FHIR\\Davinci-DEQM\\input\\examples\\Bundle-single-indv-mrp-task-report.json\n",
      " Type = Bundle\n",
      "Bundle missing meta\n",
      "\n",
      "Entry = MeasureReport\n",
      " meta = {'profile': ['http://hl7.org/fhir/us/davinci-deqm/StructureDefinition/indv-measurereport-deqm']}\n",
      "Entry = Task\n",
      " meta = {'profile': ['http://hl7.org/fhir/us/qicore/StructureDefinition/qicore-task']}\n",
      "Entry = Coverage\n",
      " meta = {'profile': ['http://hl7.org/fhir/us/davinci-deqm/StructureDefinition/coverage-deqm']}\n",
      "Entry = Organization\n",
      " meta = {'profile': ['http://hl7.org/fhir/us/davinci-deqm/StructureDefinition/organization-deqm']}\n",
      "Entry = Organization\n",
      " meta = {'profile': ['http://hl7.org/fhir/us/davinci-deqm/StructureDefinition/organization-deqm']}\n",
      "Entry = Patient\n",
      " meta = {'profile': ['http://hl7.org/fhir/us/core/StructureDefinition/us-core-patient']}\n",
      "Entry = Encounter\n",
      " meta = {'profile': ['http://hl7.org/fhir/us/core/StructureDefinition/us-core-encounter']}\n",
      "Entry = Practitioner\n",
      " meta = {'profile': ['http://hl7.org/fhir/us/core/StructureDefinition/us-core-practitioner']}\n",
      "Entry = Organization\n",
      " meta = {'profile': ['http://hl7.org/fhir/us/core/StructureDefinition/us-core-organization']}\n",
      "Entry = Location\n",
      " meta = {'profile': ['http://hl7.org/fhir/us/core/StructureDefinition/us-core-location']}\n"
     ]
    },
    {
     "data": {
      "text/html": [
       "<h1>Validation output</h1><h3>Status Code = 500</h3> <div xmlns=\"http://www.w3.org/1999/xhtml\"><h1>Operation Outcome</h1><table border=\"0\"><tr><td style=\"font-weight: bold;\">ERROR</td><td>[]</td><td><pre>Failed to call access method: org.springframework.dao.InvalidDataAccessApiUsageException: Can't fetch resource type: Measure; nested exception is java.lang.IllegalArgumentException: Can't fetch resource type: Measure</pre></td>\n",
       "\t\t\t\t\t\n",
       "\t\t\t\t\n",
       "\t\t\t</tr>\n",
       "\t\t</table>\n",
       "\t</div>"
      ],
      "text/plain": [
       "<IPython.core.display.HTML object>"
      ]
     },
     "metadata": {},
     "output_type": "display_data"
    },
    {
     "name": "stdout",
     "output_type": "stream",
     "text": [
      "writing file to \\\\ERICS-AIR-2\\ehaas\\Documents\\FHIR\\Davinci-DEQM\\input\\examples\\Bundle-single-indv-mrp-task-report.json\n",
      "file = \\\\ERICS-AIR-2\\ehaas\\Documents\\FHIR\\Davinci-DEQM\\input\\examples\\Bundle-single-indv-vte-measurereport.json\n",
      " Type = Bundle\n",
      "Bundle missing meta\n",
      "\n",
      "Entry = MeasureReport\n",
      " meta = {'profile': ['http://hl7.org/fhir/us/davinci-deqm/StructureDefinition/indv-measurereport-deqm']}\n",
      "Entry = Organization\n",
      " meta = {'profile': ['http://hl7.org/fhir/us/davinci-deqm/StructureDefinition/organization-deqm']}\n",
      "Entry = Patient\n",
      " meta = {'profile': ['http://hl7.org/fhir/us/qicore/StructureDefinition/qicore-patient']}\n",
      "Entry = Encounter\n",
      " meta = {'profile': ['http://hl7.org/fhir/us/qicore/StructureDefinition/qicore-encounter']}\n",
      "Entry = Location missing meta\n",
      "\n",
      "Entry = MedicationAdministration missing meta\n",
      "\n"
     ]
    },
    {
     "data": {
      "text/html": [
       "<h1>Validation output</h1><h3>Status Code = 500</h3> <div xmlns=\"http://www.w3.org/1999/xhtml\"><h1>Operation Outcome</h1><table border=\"0\"><tr><td style=\"font-weight: bold;\">ERROR</td><td>[]</td><td><pre>Failed to call access method: org.springframework.dao.InvalidDataAccessApiUsageException: Can't fetch resource type: Measure; nested exception is java.lang.IllegalArgumentException: Can't fetch resource type: Measure</pre></td>\n",
       "\t\t\t\t\t\n",
       "\t\t\t\t\n",
       "\t\t\t</tr>\n",
       "\t\t</table>\n",
       "\t</div>"
      ],
      "text/plain": [
       "<IPython.core.display.HTML object>"
      ]
     },
     "metadata": {},
     "output_type": "display_data"
    },
    {
     "name": "stdout",
     "output_type": "stream",
     "text": [
      "writing file to \\\\ERICS-AIR-2\\ehaas\\Documents\\FHIR\\Davinci-DEQM\\input\\examples\\Bundle-single-indv-vte-measurereport.json\n",
      "file = \\\\ERICS-AIR-2\\ehaas\\Documents\\FHIR\\Davinci-DEQM\\input\\examples\\Coverage-coverage01.json\n",
      " Type = Coverage\n",
      "meta = {'lastUpdated': '2019-02-11T14:19:25.000+00:00', 'profile': ['http://hl7.org/fhir/us/davinci-deqm/StructureDefinition/coverage-deqm'], 'versionId': '2'}\n"
     ]
    },
    {
     "data": {
      "text/html": [
       "<h1>Validation output</h1><h3>Status Code = 412</h3> <div xmlns=\"http://www.w3.org/1999/xhtml\"><h1>Operation Outcome</h1><table border=\"0\"><tr><td style=\"font-weight: bold;\">WARNING</td><td>[Coverage, Line 1, Col 2]</td><td><pre>dom-6: A resource should have narrative for robust management [text.div.exists()]</pre></td>\n",
       "\t\t\t\t\t\n",
       "\t\t\t\t\n",
       "\t\t\t</tr>\n",
       "\t\t\t<tr>\n",
       "\t\t\t\t<td style=\"font-weight: bold;\">ERROR</td>\n",
       "\t\t\t\t<td>[Coverage.meta.profile[0], Line 1, Col 2]</td>\n",
       "\t\t\t\t\n",
       "\t\t\t\t\t\n",
       "\t\t\t\t\t\n",
       "\t\t\t\t\t\t<td><pre>Profile reference &quot;http://hl7.org/fhir/us/davinci-deqm/StructureDefinition/coverage-deqm&quot; could not be resolved, so has not been checked</pre></td>\n",
       "\t\t\t\t\t\n",
       "\t\t\t\t\n",
       "\t\t\t</tr>\n",
       "\t\t</table>\n",
       "\t</div>"
      ],
      "text/plain": [
       "<IPython.core.display.HTML object>"
      ]
     },
     "metadata": {},
     "output_type": "display_data"
    },
    {
     "name": "stdout",
     "output_type": "stream",
     "text": [
      "writing file to \\\\ERICS-AIR-2\\ehaas\\Documents\\FHIR\\Davinci-DEQM\\input\\examples\\Coverage-coverage01.json\n",
      "file = \\\\ERICS-AIR-2\\ehaas\\Documents\\FHIR\\Davinci-DEQM\\input\\examples\\Coverage-coverage02.json\n",
      " Type = Coverage\n",
      "meta = {'lastUpdated': '2019-03-06T19:03:03.000+00:00', 'profile': ['http://hl7.org/fhir/us/davinci-deqm/StructureDefinition/coverage-deqm'], 'versionId': '2'}\n"
     ]
    },
    {
     "data": {
      "text/html": [
       "<h1>Validation output</h1><h3>Status Code = 412</h3> <div xmlns=\"http://www.w3.org/1999/xhtml\"><h1>Operation Outcome</h1><table border=\"0\"><tr><td style=\"font-weight: bold;\">WARNING</td><td>[Coverage, Line 1, Col 2]</td><td><pre>dom-6: A resource should have narrative for robust management [text.div.exists()]</pre></td>\n",
       "\t\t\t\t\t\n",
       "\t\t\t\t\n",
       "\t\t\t</tr>\n",
       "\t\t\t<tr>\n",
       "\t\t\t\t<td style=\"font-weight: bold;\">ERROR</td>\n",
       "\t\t\t\t<td>[Coverage.meta.profile[0], Line 1, Col 2]</td>\n",
       "\t\t\t\t\n",
       "\t\t\t\t\t\n",
       "\t\t\t\t\t\n",
       "\t\t\t\t\t\t<td><pre>Profile reference &quot;http://hl7.org/fhir/us/davinci-deqm/StructureDefinition/coverage-deqm&quot; could not be resolved, so has not been checked</pre></td>\n",
       "\t\t\t\t\t\n",
       "\t\t\t\t\n",
       "\t\t\t</tr>\n",
       "\t\t</table>\n",
       "\t</div>"
      ],
      "text/plain": [
       "<IPython.core.display.HTML object>"
      ]
     },
     "metadata": {},
     "output_type": "display_data"
    },
    {
     "name": "stdout",
     "output_type": "stream",
     "text": [
      "writing file to \\\\ERICS-AIR-2\\ehaas\\Documents\\FHIR\\Davinci-DEQM\\input\\examples\\Coverage-coverage02.json\n",
      "file = \\\\ERICS-AIR-2\\ehaas\\Documents\\FHIR\\Davinci-DEQM\\input\\examples\\Coverage-coverage03.json\n",
      " Type = Coverage\n",
      "meta = {'lastUpdated': '2019-02-07T18:47:34.000+00:00', 'profile': ['http://hl7.org/fhir/us/davinci-deqm/StructureDefinition/coverage-deqm'], 'versionId': '2'}\n"
     ]
    },
    {
     "data": {
      "text/html": [
       "<h1>Validation output</h1><h3>Status Code = 412</h3> <div xmlns=\"http://www.w3.org/1999/xhtml\"><h1>Operation Outcome</h1><table border=\"0\"><tr><td style=\"font-weight: bold;\">WARNING</td><td>[Coverage, Line 1, Col 2]</td><td><pre>dom-6: A resource should have narrative for robust management [text.div.exists()]</pre></td>\n",
       "\t\t\t\t\t\n",
       "\t\t\t\t\n",
       "\t\t\t</tr>\n",
       "\t\t\t<tr>\n",
       "\t\t\t\t<td style=\"font-weight: bold;\">ERROR</td>\n",
       "\t\t\t\t<td>[Coverage.meta.profile[0], Line 1, Col 2]</td>\n",
       "\t\t\t\t\n",
       "\t\t\t\t\t\n",
       "\t\t\t\t\t\n",
       "\t\t\t\t\t\t<td><pre>Profile reference &quot;http://hl7.org/fhir/us/davinci-deqm/StructureDefinition/coverage-deqm&quot; could not be resolved, so has not been checked</pre></td>\n",
       "\t\t\t\t\t\n",
       "\t\t\t\t\n",
       "\t\t\t</tr>\n",
       "\t\t</table>\n",
       "\t</div>"
      ],
      "text/plain": [
       "<IPython.core.display.HTML object>"
      ]
     },
     "metadata": {},
     "output_type": "display_data"
    },
    {
     "name": "stdout",
     "output_type": "stream",
     "text": [
      "writing file to \\\\ERICS-AIR-2\\ehaas\\Documents\\FHIR\\Davinci-DEQM\\input\\examples\\Coverage-coverage03.json\n",
      "file = \\\\ERICS-AIR-2\\ehaas\\Documents\\FHIR\\Davinci-DEQM\\input\\examples\\Device-deqm-software-system-example.json\n",
      " Type = Device\n",
      "meta = {'profile': ['http://hl7.org/fhir/us/cqfmeasures/StructureDefinition/device-softwaresystem-cqfm']}\n"
     ]
    },
    {
     "data": {
      "text/html": [
       "<h1>Validation output</h1><h3>Status Code = 412</h3> <div xmlns=\"http://www.w3.org/1999/xhtml\"><h1>Operation Outcome</h1><table border=\"0\"><tr><td style=\"font-weight: bold;\">WARNING</td><td>[Device, Line 1, Col 2]</td><td><pre>dom-6: A resource should have narrative for robust management [text.div.exists()]</pre></td>\n",
       "\t\t\t\t\t\n",
       "\t\t\t\t\n",
       "\t\t\t</tr>\n",
       "\t\t\t<tr>\n",
       "\t\t\t\t<td style=\"font-weight: bold;\">ERROR</td>\n",
       "\t\t\t\t<td>[Device.type.coding[0], Line 1, Col 309]</td>\n",
       "\t\t\t\t\n",
       "\t\t\t\t\t\n",
       "\t\t\t\t\t\n",
       "\t\t\t\t\t\t<td><pre>Unknown Code System &quot;http://hl7.org/fhir/us/cqfmeasures/CodeSystem/software-system-type&quot;</pre></td>\n",
       "\t\t\t\t\t\n",
       "\t\t\t\t\n",
       "\t\t\t</tr>\n",
       "\t\t\t<tr>\n",
       "\t\t\t\t<td style=\"font-weight: bold;\">ERROR</td>\n",
       "\t\t\t\t<td>[Device.meta.profile[0], Line 1, Col 2]</td>\n",
       "\t\t\t\t\n",
       "\t\t\t\t\t\n",
       "\t\t\t\t\t\n",
       "\t\t\t\t\t\t<td><pre>Profile reference &quot;http://hl7.org/fhir/us/cqfmeasures/StructureDefinition/device-softwaresystem-cqfm&quot; could not be resolved, so has not been checked</pre></td>\n",
       "\t\t\t\t\t\n",
       "\t\t\t\t\n",
       "\t\t\t</tr>\n",
       "\t\t</table>\n",
       "\t</div>"
      ],
      "text/plain": [
       "<IPython.core.display.HTML object>"
      ]
     },
     "metadata": {},
     "output_type": "display_data"
    },
    {
     "name": "stdout",
     "output_type": "stream",
     "text": [
      "writing file to \\\\ERICS-AIR-2\\ehaas\\Documents\\FHIR\\Davinci-DEQM\\input\\examples\\Device-deqm-software-system-example.json\n",
      "file = \\\\ERICS-AIR-2\\ehaas\\Documents\\FHIR\\Davinci-DEQM\\input\\examples\\Encounter-encounter01.json\n",
      " Type = Encounter\n",
      "meta = {'profile': ['http://hl7.org/fhir/us/qicore/StructureDefinition/qicore-encounter']}\n"
     ]
    },
    {
     "data": {
      "text/html": [
       "<h1>Validation output</h1><h3>Status Code = 412</h3> <div xmlns=\"http://www.w3.org/1999/xhtml\"><h1>Operation Outcome</h1><table border=\"0\"><tr><td style=\"font-weight: bold;\">WARNING</td><td>[Encounter, Line 1, Col 2]</td><td><pre>dom-6: A resource should have narrative for robust management [text.div.exists()]</pre></td>\n",
       "\t\t\t\t\t\n",
       "\t\t\t\t\n",
       "\t\t\t</tr>\n",
       "\t\t\t<tr>\n",
       "\t\t\t\t<td style=\"font-weight: bold;\">ERROR</td>\n",
       "\t\t\t\t<td>[Encounter.meta.profile[0], Line 1, Col 2]</td>\n",
       "\t\t\t\t\n",
       "\t\t\t\t\t\n",
       "\t\t\t\t\t\n",
       "\t\t\t\t\t\t<td><pre>Profile reference &quot;http://hl7.org/fhir/us/qicore/StructureDefinition/qicore-encounter&quot; could not be resolved, so has not been checked</pre></td>\n",
       "\t\t\t\t\t\n",
       "\t\t\t\t\n",
       "\t\t\t</tr>\n",
       "\t\t</table>\n",
       "\t</div>"
      ],
      "text/plain": [
       "<IPython.core.display.HTML object>"
      ]
     },
     "metadata": {},
     "output_type": "display_data"
    },
    {
     "name": "stdout",
     "output_type": "stream",
     "text": [
      "writing file to \\\\ERICS-AIR-2\\ehaas\\Documents\\FHIR\\Davinci-DEQM\\input\\examples\\Encounter-encounter01.json\n",
      "file = \\\\ERICS-AIR-2\\ehaas\\Documents\\FHIR\\Davinci-DEQM\\input\\examples\\Encounter-encounter02.json\n",
      " Type = Encounter\n",
      "meta = {'profile': ['http://hl7.org/fhir/us/qicore/StructureDefinition/qicore-encounter']}\n"
     ]
    },
    {
     "data": {
      "text/html": [
       "<h1>Validation output</h1><h3>Status Code = 412</h3> <div xmlns=\"http://www.w3.org/1999/xhtml\"><h1>Operation Outcome</h1><table border=\"0\"><tr><td style=\"font-weight: bold;\">WARNING</td><td>[Encounter, Line 1, Col 2]</td><td><pre>dom-6: A resource should have narrative for robust management [text.div.exists()]</pre></td>\n",
       "\t\t\t\t\t\n",
       "\t\t\t\t\n",
       "\t\t\t</tr>\n",
       "\t\t\t<tr>\n",
       "\t\t\t\t<td style=\"font-weight: bold;\">ERROR</td>\n",
       "\t\t\t\t<td>[Encounter.meta.profile[0], Line 1, Col 2]</td>\n",
       "\t\t\t\t\n",
       "\t\t\t\t\t\n",
       "\t\t\t\t\t\n",
       "\t\t\t\t\t\t<td><pre>Profile reference &quot;http://hl7.org/fhir/us/qicore/StructureDefinition/qicore-encounter&quot; could not be resolved, so has not been checked</pre></td>\n",
       "\t\t\t\t\t\n",
       "\t\t\t\t\n",
       "\t\t\t</tr>\n",
       "\t\t</table>\n",
       "\t</div>"
      ],
      "text/plain": [
       "<IPython.core.display.HTML object>"
      ]
     },
     "metadata": {},
     "output_type": "display_data"
    },
    {
     "name": "stdout",
     "output_type": "stream",
     "text": [
      "writing file to \\\\ERICS-AIR-2\\ehaas\\Documents\\FHIR\\Davinci-DEQM\\input\\examples\\Encounter-encounter02.json\n",
      "file = \\\\ERICS-AIR-2\\ehaas\\Documents\\FHIR\\Davinci-DEQM\\input\\examples\\Encounter-encounter03.json\n",
      " Type = Encounter\n",
      "meta = {'profile': ['http://hl7.org/fhir/us/qicore/StructureDefinition/qicore-encounter']}\n"
     ]
    },
    {
     "data": {
      "text/html": [
       "<h1>Validation output</h1><h3>Status Code = 412</h3> <div xmlns=\"http://www.w3.org/1999/xhtml\"><h1>Operation Outcome</h1><table border=\"0\"><tr><td style=\"font-weight: bold;\">WARNING</td><td>[Encounter, Line 1, Col 2]</td><td><pre>dom-6: A resource should have narrative for robust management [text.div.exists()]</pre></td>\n",
       "\t\t\t\t\t\n",
       "\t\t\t\t\n",
       "\t\t\t</tr>\n",
       "\t\t\t<tr>\n",
       "\t\t\t\t<td style=\"font-weight: bold;\">ERROR</td>\n",
       "\t\t\t\t<td>[Encounter.meta.profile[0], Line 1, Col 2]</td>\n",
       "\t\t\t\t\n",
       "\t\t\t\t\t\n",
       "\t\t\t\t\t\n",
       "\t\t\t\t\t\t<td><pre>Profile reference &quot;http://hl7.org/fhir/us/qicore/StructureDefinition/qicore-encounter&quot; could not be resolved, so has not been checked</pre></td>\n",
       "\t\t\t\t\t\n",
       "\t\t\t\t\n",
       "\t\t\t</tr>\n",
       "\t\t</table>\n",
       "\t</div>"
      ],
      "text/plain": [
       "<IPython.core.display.HTML object>"
      ]
     },
     "metadata": {},
     "output_type": "display_data"
    },
    {
     "name": "stdout",
     "output_type": "stream",
     "text": [
      "writing file to \\\\ERICS-AIR-2\\ehaas\\Documents\\FHIR\\Davinci-DEQM\\input\\examples\\Encounter-encounter03.json\n",
      "file = \\\\ERICS-AIR-2\\ehaas\\Documents\\FHIR\\Davinci-DEQM\\input\\examples\\Group-group01.json\n",
      " Type = Group\n",
      "Group missing meta\n",
      "\n"
     ]
    },
    {
     "data": {
      "text/html": [
       "<h1>Validation output</h1><h3>Status Code = 200</h3> <div xmlns=\"http://www.w3.org/1999/xhtml\"><h1>Operation Outcome</h1><table border=\"0\"><tr><td style=\"font-weight: bold;\">WARNING</td><td>[Group, Line 1, Col 2]</td><td><pre>dom-6: A resource should have narrative for robust management [text.div.exists()]</pre></td>\n",
       "\t\t\t\t\t\n",
       "\t\t\t\t\n",
       "\t\t\t</tr>\n",
       "\t\t</table>\n",
       "\t</div>"
      ],
      "text/plain": [
       "<IPython.core.display.HTML object>"
      ]
     },
     "metadata": {},
     "output_type": "display_data"
    },
    {
     "name": "stdout",
     "output_type": "stream",
     "text": [
      "writing file to \\\\ERICS-AIR-2\\ehaas\\Documents\\FHIR\\Davinci-DEQM\\input\\examples\\Group-group01.json\n",
      "file = \\\\ERICS-AIR-2\\ehaas\\Documents\\FHIR\\Davinci-DEQM\\input\\examples\\Library-library-mrp-example.json\n",
      " Type = Library\n",
      "Library missing meta\n",
      "\n"
     ]
    },
    {
     "data": {
      "text/html": [
       "<h1>Validation output</h1><h3>Status Code = 200</h3> <div xmlns=\"http://www.w3.org/1999/xhtml\"><h1>Operation Outcome</h1><table border=\"0\"><tr><td style=\"font-weight: bold;\">WARNING</td><td>[Library, Line 1, Col 2]</td><td><pre>dom-6: A resource should have narrative for robust management [text.div.exists()]</pre></td>\n",
       "\t\t\t\t\t\n",
       "\t\t\t\t\n",
       "\t\t\t</tr>\n",
       "\t\t</table>\n",
       "\t</div>"
      ],
      "text/plain": [
       "<IPython.core.display.HTML object>"
      ]
     },
     "metadata": {},
     "output_type": "display_data"
    },
    {
     "name": "stdout",
     "output_type": "stream",
     "text": [
      "writing file to \\\\ERICS-AIR-2\\ehaas\\Documents\\FHIR\\Davinci-DEQM\\input\\examples\\Library-library-mrp-example.json\n",
      "file = \\\\ERICS-AIR-2\\ehaas\\Documents\\FHIR\\Davinci-DEQM\\input\\examples\\Location-location01.json\n",
      " Type = Location\n",
      "meta = {'profile': ['http://hl7.org/fhir/us/qicore/StructureDefinition/qicore-location']}\n"
     ]
    },
    {
     "data": {
      "text/html": [
       "<h1>Validation output</h1><h3>Status Code = 412</h3> <div xmlns=\"http://www.w3.org/1999/xhtml\"><h1>Operation Outcome</h1><table border=\"0\"><tr><td style=\"font-weight: bold;\">WARNING</td><td>[Location, Line 1, Col 2]</td><td><pre>dom-6: A resource should have narrative for robust management [text.div.exists()]</pre></td>\n",
       "\t\t\t\t\t\n",
       "\t\t\t\t\n",
       "\t\t\t</tr>\n",
       "\t\t\t<tr>\n",
       "\t\t\t\t<td style=\"font-weight: bold;\">ERROR</td>\n",
       "\t\t\t\t<td>[Location.meta.profile[0], Line 1, Col 2]</td>\n",
       "\t\t\t\t\n",
       "\t\t\t\t\t\n",
       "\t\t\t\t\t\n",
       "\t\t\t\t\t\t<td><pre>Profile reference &quot;http://hl7.org/fhir/us/qicore/StructureDefinition/qicore-location&quot; could not be resolved, so has not been checked</pre></td>\n",
       "\t\t\t\t\t\n",
       "\t\t\t\t\n",
       "\t\t\t</tr>\n",
       "\t\t</table>\n",
       "\t</div>"
      ],
      "text/plain": [
       "<IPython.core.display.HTML object>"
      ]
     },
     "metadata": {},
     "output_type": "display_data"
    },
    {
     "name": "stdout",
     "output_type": "stream",
     "text": [
      "writing file to \\\\ERICS-AIR-2\\ehaas\\Documents\\FHIR\\Davinci-DEQM\\input\\examples\\Location-location01.json\n",
      "file = \\\\ERICS-AIR-2\\ehaas\\Documents\\FHIR\\Davinci-DEQM\\input\\examples\\Location-location02.json\n",
      " Type = Location\n",
      "meta = {'profile': ['http://hl7.org/fhir/us/qicore/StructureDefinition/qicore-location']}\n"
     ]
    },
    {
     "data": {
      "text/html": [
       "<h1>Validation output</h1><h3>Status Code = 412</h3> <div xmlns=\"http://www.w3.org/1999/xhtml\"><h1>Operation Outcome</h1><table border=\"0\"><tr><td style=\"font-weight: bold;\">WARNING</td><td>[Location, Line 1, Col 2]</td><td><pre>dom-6: A resource should have narrative for robust management [text.div.exists()]</pre></td>\n",
       "\t\t\t\t\t\n",
       "\t\t\t\t\n",
       "\t\t\t</tr>\n",
       "\t\t\t<tr>\n",
       "\t\t\t\t<td style=\"font-weight: bold;\">ERROR</td>\n",
       "\t\t\t\t<td>[Location.meta.profile[0], Line 1, Col 2]</td>\n",
       "\t\t\t\t\n",
       "\t\t\t\t\t\n",
       "\t\t\t\t\t\n",
       "\t\t\t\t\t\t<td><pre>Profile reference &quot;http://hl7.org/fhir/us/qicore/StructureDefinition/qicore-location&quot; could not be resolved, so has not been checked</pre></td>\n",
       "\t\t\t\t\t\n",
       "\t\t\t\t\n",
       "\t\t\t</tr>\n",
       "\t\t</table>\n",
       "\t</div>"
      ],
      "text/plain": [
       "<IPython.core.display.HTML object>"
      ]
     },
     "metadata": {},
     "output_type": "display_data"
    },
    {
     "name": "stdout",
     "output_type": "stream",
     "text": [
      "writing file to \\\\ERICS-AIR-2\\ehaas\\Documents\\FHIR\\Davinci-DEQM\\input\\examples\\Location-location02.json\n",
      "file = \\\\ERICS-AIR-2\\ehaas\\Documents\\FHIR\\Davinci-DEQM\\input\\examples\\Location-location03.json\n",
      " Type = Location\n",
      "meta = {'profile': ['http://hl7.org/fhir/us/qicore/StructureDefinition/qicore-location']}\n"
     ]
    },
    {
     "data": {
      "text/html": [
       "<h1>Validation output</h1><h3>Status Code = 412</h3> <div xmlns=\"http://www.w3.org/1999/xhtml\"><h1>Operation Outcome</h1><table border=\"0\"><tr><td style=\"font-weight: bold;\">WARNING</td><td>[Location, Line 1, Col 2]</td><td><pre>dom-6: A resource should have narrative for robust management [text.div.exists()]</pre></td>\n",
       "\t\t\t\t\t\n",
       "\t\t\t\t\n",
       "\t\t\t</tr>\n",
       "\t\t\t<tr>\n",
       "\t\t\t\t<td style=\"font-weight: bold;\">ERROR</td>\n",
       "\t\t\t\t<td>[Location.meta.profile[0], Line 1, Col 2]</td>\n",
       "\t\t\t\t\n",
       "\t\t\t\t\t\n",
       "\t\t\t\t\t\n",
       "\t\t\t\t\t\t<td><pre>Profile reference &quot;http://hl7.org/fhir/us/qicore/StructureDefinition/qicore-location&quot; could not be resolved, so has not been checked</pre></td>\n",
       "\t\t\t\t\t\n",
       "\t\t\t\t\n",
       "\t\t\t</tr>\n",
       "\t\t</table>\n",
       "\t</div>"
      ],
      "text/plain": [
       "<IPython.core.display.HTML object>"
      ]
     },
     "metadata": {},
     "output_type": "display_data"
    },
    {
     "name": "stdout",
     "output_type": "stream",
     "text": [
      "writing file to \\\\ERICS-AIR-2\\ehaas\\Documents\\FHIR\\Davinci-DEQM\\input\\examples\\Location-location03.json\n",
      "file = \\\\ERICS-AIR-2\\ehaas\\Documents\\FHIR\\Davinci-DEQM\\input\\examples\\Measure-date-of-last-power-outage.json\n",
      " Type = Measure\n",
      "Measure missing meta\n",
      "\n"
     ]
    },
    {
     "data": {
      "text/html": [
       "<h1>Validation output</h1><h3>Status Code = 200</h3> <div xmlns=\"http://www.w3.org/1999/xhtml\"><h1>Operation Outcome</h1><table border=\"0\"><tr><td style=\"font-weight: bold;\">WARNING</td><td>[Measure, Line 1, Col 2]</td><td><pre>dom-6: A resource should have narrative for robust management [text.div.exists()]</pre></td>\n",
       "\t\t\t\t\t\n",
       "\t\t\t\t\n",
       "\t\t\t</tr>\n",
       "\t\t\t<tr>\n",
       "\t\t\t\t<td style=\"font-weight: bold;\">INFORMATION</td>\n",
       "\t\t\t\t<td>[Measure.extension[0], Line 1, Col 159]</td>\n",
       "\t\t\t\t\n",
       "\t\t\t\t\t\n",
       "\t\t\t\t\t\n",
       "\t\t\t\t\t\t<td><pre>Unknown extension http://hl7.org/fhir/us/cqfmeasures/StructureDefinition/cqfm-populationBasis</pre></td>\n",
       "\t\t\t\t\t\n",
       "\t\t\t\t\n",
       "\t\t\t</tr>\n",
       "\t\t\t<tr>\n",
       "\t\t\t\t<td style=\"font-weight: bold;\">WARNING</td>\n",
       "\t\t\t\t<td>[Measure.jurisdiction[0], Line 1, Col 1040]</td>\n",
       "\t\t\t\t\n",
       "\t\t\t\t\t\n",
       "\t\t\t\t\t\n",
       "\t\t\t\t\t\t<td><pre>None of the codes provided are in the value set http://hl7.org/fhir/ValueSet/jurisdiction (http://hl7.org/fhir/ValueSet/jurisdiction), and a code should come from this value set unless it has no suitable code) (codes = urn:iso:std:iso:3166#US)</pre></td>\n",
       "\t\t\t\t\t\n",
       "\t\t\t\t\n",
       "\t\t\t</tr>\n",
       "\t\t\t<tr>\n",
       "\t\t\t\t<td style=\"font-weight: bold;\">WARNING</td>\n",
       "\t\t\t\t<td>[Measure.group[0].population[0].criteria.language, Line 1, Col 2216]</td>\n",
       "\t\t\t\t\n",
       "\t\t\t\t\t\n",
       "\t\t\t\t\t\n",
       "\t\t\t\t\t\t<td><pre>ValueSet http://www.rfc-editor.org/bcp/bcp13.txt not found by validator</pre></td>\n",
       "\t\t\t\t\t\n",
       "\t\t\t\t\n",
       "\t\t\t</tr>\n",
       "\t\t</table>\n",
       "\t</div>"
      ],
      "text/plain": [
       "<IPython.core.display.HTML object>"
      ]
     },
     "metadata": {},
     "output_type": "display_data"
    },
    {
     "name": "stdout",
     "output_type": "stream",
     "text": [
      "writing file to \\\\ERICS-AIR-2\\ehaas\\Documents\\FHIR\\Davinci-DEQM\\input\\examples\\Measure-date-of-last-power-outage.json\n",
      "file = \\\\ERICS-AIR-2\\ehaas\\Documents\\FHIR\\Davinci-DEQM\\input\\examples\\Measure-measure-mrp-example.json\n",
      " Type = Measure\n",
      "meta = {'versionId': '1', 'lastUpdated': '2018-09-21T20:20:51.000+00:00'}\n"
     ]
    },
    {
     "data": {
      "text/html": [
       "<h1>Validation output</h1><h3>Status Code = 500</h3> <div xmlns=\"http://www.w3.org/1999/xhtml\"><h1>Operation Outcome</h1><table border=\"0\"><tr><td style=\"font-weight: bold;\">ERROR</td><td>[]</td><td><pre>Failed to call access method: org.springframework.dao.InvalidDataAccessApiUsageException: Can't fetch resource type: Library; nested exception is java.lang.IllegalArgumentException: Can't fetch resource type: Library</pre></td>\n",
       "\t\t\t\t\t\n",
       "\t\t\t\t\n",
       "\t\t\t</tr>\n",
       "\t\t</table>\n",
       "\t</div>"
      ],
      "text/plain": [
       "<IPython.core.display.HTML object>"
      ]
     },
     "metadata": {},
     "output_type": "display_data"
    },
    {
     "name": "stdout",
     "output_type": "stream",
     "text": [
      "writing file to \\\\ERICS-AIR-2\\ehaas\\Documents\\FHIR\\Davinci-DEQM\\input\\examples\\Measure-measure-mrp-example.json\n",
      "file = \\\\ERICS-AIR-2\\ehaas\\Documents\\FHIR\\Davinci-DEQM\\input\\examples\\MeasureReport-datax-measurereport01.json\n",
      " Type = MeasureReport\n",
      "meta = {'profile': ['http://hl7.org/fhir/us/davinci-deqm/StructureDefinition/datax-measurereport-deqm']}\n"
     ]
    },
    {
     "data": {
      "text/html": [
       "<h1>Validation output</h1><h3>Status Code = 500</h3> <div xmlns=\"http://www.w3.org/1999/xhtml\"><h1>Operation Outcome</h1><table border=\"0\"><tr><td style=\"font-weight: bold;\">ERROR</td><td>[]</td><td><pre>Failed to call access method: org.springframework.dao.InvalidDataAccessApiUsageException: Can't fetch resource type: Measure; nested exception is java.lang.IllegalArgumentException: Can't fetch resource type: Measure</pre></td>\n",
       "\t\t\t\t\t\n",
       "\t\t\t\t\n",
       "\t\t\t</tr>\n",
       "\t\t</table>\n",
       "\t</div>"
      ],
      "text/plain": [
       "<IPython.core.display.HTML object>"
      ]
     },
     "metadata": {},
     "output_type": "display_data"
    },
    {
     "name": "stdout",
     "output_type": "stream",
     "text": [
      "writing file to \\\\ERICS-AIR-2\\ehaas\\Documents\\FHIR\\Davinci-DEQM\\input\\examples\\MeasureReport-datax-measurereport01.json\n",
      "file = \\\\ERICS-AIR-2\\ehaas\\Documents\\FHIR\\Davinci-DEQM\\input\\examples\\MeasureReport-datax-measurereport02.json\n",
      " Type = MeasureReport\n",
      "meta = {'versionId': '1', 'lastUpdated': '2018-09-05T16:59:53.000+00:00', 'profile': ['http://hl7.org/fhir/us/davinci-deqm/StructureDefinition/datax-measurereport-deqm']}\n"
     ]
    },
    {
     "data": {
      "text/html": [
       "<h1>Validation output</h1><h3>Status Code = 500</h3> <div xmlns=\"http://www.w3.org/1999/xhtml\"><h1>Operation Outcome</h1><table border=\"0\"><tr><td style=\"font-weight: bold;\">ERROR</td><td>[]</td><td><pre>Failed to call access method: org.springframework.dao.InvalidDataAccessApiUsageException: Can't fetch resource type: Measure; nested exception is java.lang.IllegalArgumentException: Can't fetch resource type: Measure</pre></td>\n",
       "\t\t\t\t\t\n",
       "\t\t\t\t\n",
       "\t\t\t</tr>\n",
       "\t\t</table>\n",
       "\t</div>"
      ],
      "text/plain": [
       "<IPython.core.display.HTML object>"
      ]
     },
     "metadata": {},
     "output_type": "display_data"
    },
    {
     "name": "stdout",
     "output_type": "stream",
     "text": [
      "writing file to \\\\ERICS-AIR-2\\ehaas\\Documents\\FHIR\\Davinci-DEQM\\input\\examples\\MeasureReport-datax-measurereport02.json\n",
      "file = \\\\ERICS-AIR-2\\ehaas\\Documents\\FHIR\\Davinci-DEQM\\input\\examples\\MeasureReport-datax-measurereport03.json\n",
      " Type = MeasureReport\n",
      "meta = {'profile': ['http://hl7.org/fhir/us/davinci-deqm/StructureDefinition/datax-measurereport-deqm']}\n"
     ]
    },
    {
     "data": {
      "text/html": [
       "<h1>Validation output</h1><h3>Status Code = 500</h3> <div xmlns=\"http://www.w3.org/1999/xhtml\"><h1>Operation Outcome</h1><table border=\"0\"><tr><td style=\"font-weight: bold;\">ERROR</td><td>[]</td><td><pre>Failed to call access method: org.springframework.dao.InvalidDataAccessApiUsageException: Can't fetch resource type: Measure; nested exception is java.lang.IllegalArgumentException: Can't fetch resource type: Measure</pre></td>\n",
       "\t\t\t\t\t\n",
       "\t\t\t\t\n",
       "\t\t\t</tr>\n",
       "\t\t</table>\n",
       "\t</div>"
      ],
      "text/plain": [
       "<IPython.core.display.HTML object>"
      ]
     },
     "metadata": {},
     "output_type": "display_data"
    },
    {
     "name": "stdout",
     "output_type": "stream",
     "text": [
      "writing file to \\\\ERICS-AIR-2\\ehaas\\Documents\\FHIR\\Davinci-DEQM\\input\\examples\\MeasureReport-datax-measurereport03.json\n",
      "file = \\\\ERICS-AIR-2\\ehaas\\Documents\\FHIR\\Davinci-DEQM\\input\\examples\\MeasureReport-date-of-last-power-outage.json\n",
      " Type = MeasureReport\n",
      "meta = {'profile': ['http://hl7.org/fhir/us/davinci-deqm/StructureDefinition/summary-measurereport-deqm']}\n"
     ]
    },
    {
     "data": {
      "text/html": [
       "<h1>Validation output</h1><h3>Status Code = 500</h3> <div xmlns=\"http://www.w3.org/1999/xhtml\"><h1>Operation Outcome</h1><table border=\"0\"><tr><td style=\"font-weight: bold;\">ERROR</td><td>[]</td><td><pre>Failed to call access method: org.springframework.dao.InvalidDataAccessApiUsageException: Can't fetch resource type: Measure; nested exception is java.lang.IllegalArgumentException: Can't fetch resource type: Measure</pre></td>\n",
       "\t\t\t\t\t\n",
       "\t\t\t\t\n",
       "\t\t\t</tr>\n",
       "\t\t</table>\n",
       "\t</div>"
      ],
      "text/plain": [
       "<IPython.core.display.HTML object>"
      ]
     },
     "metadata": {},
     "output_type": "display_data"
    },
    {
     "name": "stdout",
     "output_type": "stream",
     "text": [
      "writing file to \\\\ERICS-AIR-2\\ehaas\\Documents\\FHIR\\Davinci-DEQM\\input\\examples\\MeasureReport-date-of-last-power-outage.json\n",
      "file = \\\\ERICS-AIR-2\\ehaas\\Documents\\FHIR\\Davinci-DEQM\\input\\examples\\MeasureReport-indv-measurereport01.json\n",
      " Type = MeasureReport\n",
      "meta = {'profile': ['http://hl7.org/fhir/us/davinci-deqm/StructureDefinition/indv-measurereport-deqm']}\n"
     ]
    },
    {
     "data": {
      "text/html": [
       "<h1>Validation output</h1><h3>Status Code = 500</h3> <div xmlns=\"http://www.w3.org/1999/xhtml\"><h1>Operation Outcome</h1><table border=\"0\"><tr><td style=\"font-weight: bold;\">ERROR</td><td>[]</td><td><pre>Failed to call access method: org.springframework.dao.InvalidDataAccessApiUsageException: Can't fetch resource type: Measure; nested exception is java.lang.IllegalArgumentException: Can't fetch resource type: Measure</pre></td>\n",
       "\t\t\t\t\t\n",
       "\t\t\t\t\n",
       "\t\t\t</tr>\n",
       "\t\t</table>\n",
       "\t</div>"
      ],
      "text/plain": [
       "<IPython.core.display.HTML object>"
      ]
     },
     "metadata": {},
     "output_type": "display_data"
    },
    {
     "name": "stdout",
     "output_type": "stream",
     "text": [
      "writing file to \\\\ERICS-AIR-2\\ehaas\\Documents\\FHIR\\Davinci-DEQM\\input\\examples\\MeasureReport-indv-measurereport01.json\n",
      "file = \\\\ERICS-AIR-2\\ehaas\\Documents\\FHIR\\Davinci-DEQM\\input\\examples\\MeasureReport-indv-measurereport02.json\n",
      " Type = MeasureReport\n",
      "meta = {'profile': ['http://hl7.org/fhir/us/davinci-deqm/StructureDefinition/indv-measurereport-deqm']}\n"
     ]
    },
    {
     "data": {
      "text/html": [
       "<h1>Validation output</h1><h3>Status Code = 500</h3> <div xmlns=\"http://www.w3.org/1999/xhtml\"><h1>Operation Outcome</h1><table border=\"0\"><tr><td style=\"font-weight: bold;\">ERROR</td><td>[]</td><td><pre>Failed to call access method: org.springframework.dao.InvalidDataAccessApiUsageException: Can't fetch resource type: Measure; nested exception is java.lang.IllegalArgumentException: Can't fetch resource type: Measure</pre></td>\n",
       "\t\t\t\t\t\n",
       "\t\t\t\t\n",
       "\t\t\t</tr>\n",
       "\t\t</table>\n",
       "\t</div>"
      ],
      "text/plain": [
       "<IPython.core.display.HTML object>"
      ]
     },
     "metadata": {},
     "output_type": "display_data"
    },
    {
     "name": "stdout",
     "output_type": "stream",
     "text": [
      "writing file to \\\\ERICS-AIR-2\\ehaas\\Documents\\FHIR\\Davinci-DEQM\\input\\examples\\MeasureReport-indv-measurereport02.json\n",
      "file = \\\\ERICS-AIR-2\\ehaas\\Documents\\FHIR\\Davinci-DEQM\\input\\examples\\MeasureReport-indv-measurereport03.json\n",
      " Type = MeasureReport\n",
      "meta = {'profile': ['http://hl7.org/fhir/us/davinci-deqm/StructureDefinition/indv-measurereport-deqm']}\n"
     ]
    },
    {
     "data": {
      "text/html": [
       "<h1>Validation output</h1><h3>Status Code = 500</h3> <div xmlns=\"http://www.w3.org/1999/xhtml\"><h1>Operation Outcome</h1><table border=\"0\"><tr><td style=\"font-weight: bold;\">ERROR</td><td>[]</td><td><pre>Failed to call access method: org.springframework.dao.InvalidDataAccessApiUsageException: Can't fetch resource type: Measure; nested exception is java.lang.IllegalArgumentException: Can't fetch resource type: Measure</pre></td>\n",
       "\t\t\t\t\t\n",
       "\t\t\t\t\n",
       "\t\t\t</tr>\n",
       "\t\t</table>\n",
       "\t</div>"
      ],
      "text/plain": [
       "<IPython.core.display.HTML object>"
      ]
     },
     "metadata": {},
     "output_type": "display_data"
    },
    {
     "name": "stdout",
     "output_type": "stream",
     "text": [
      "writing file to \\\\ERICS-AIR-2\\ehaas\\Documents\\FHIR\\Davinci-DEQM\\input\\examples\\MeasureReport-indv-measurereport03.json\n",
      "file = \\\\ERICS-AIR-2\\ehaas\\Documents\\FHIR\\Davinci-DEQM\\input\\examples\\MeasureReport-summ-measurereport01.json\n",
      " Type = MeasureReport\n",
      "meta = {'profile': ['http://hl7.org/fhir/us/davinci-deqm/StructureDefinition/summary-measurereport-deqm']}\n"
     ]
    },
    {
     "data": {
      "text/html": [
       "<h1>Validation output</h1><h3>Status Code = 500</h3> <div xmlns=\"http://www.w3.org/1999/xhtml\"><h1>Operation Outcome</h1><table border=\"0\"><tr><td style=\"font-weight: bold;\">ERROR</td><td>[]</td><td><pre>Failed to call access method: org.springframework.dao.InvalidDataAccessApiUsageException: Can't fetch resource type: Measure; nested exception is java.lang.IllegalArgumentException: Can't fetch resource type: Measure</pre></td>\n",
       "\t\t\t\t\t\n",
       "\t\t\t\t\n",
       "\t\t\t</tr>\n",
       "\t\t</table>\n",
       "\t</div>"
      ],
      "text/plain": [
       "<IPython.core.display.HTML object>"
      ]
     },
     "metadata": {},
     "output_type": "display_data"
    },
    {
     "name": "stdout",
     "output_type": "stream",
     "text": [
      "writing file to \\\\ERICS-AIR-2\\ehaas\\Documents\\FHIR\\Davinci-DEQM\\input\\examples\\MeasureReport-summ-measurereport01.json\n",
      "file = \\\\ERICS-AIR-2\\ehaas\\Documents\\FHIR\\Davinci-DEQM\\input\\examples\\MeasureReport-summ-measurereport02.json\n",
      " Type = MeasureReport\n",
      "meta = {'profile': ['http://hl7.org/fhir/us/davinci-deqm/StructureDefinition/summary-measurereport-deqm']}\n"
     ]
    },
    {
     "data": {
      "text/html": [
       "<h1>Validation output</h1><h3>Status Code = 500</h3> <div xmlns=\"http://www.w3.org/1999/xhtml\"><h1>Operation Outcome</h1><table border=\"0\"><tr><td style=\"font-weight: bold;\">ERROR</td><td>[]</td><td><pre>Failed to call access method: org.springframework.dao.InvalidDataAccessApiUsageException: Can't fetch resource type: Measure; nested exception is java.lang.IllegalArgumentException: Can't fetch resource type: Measure</pre></td>\n",
       "\t\t\t\t\t\n",
       "\t\t\t\t\n",
       "\t\t\t</tr>\n",
       "\t\t</table>\n",
       "\t</div>"
      ],
      "text/plain": [
       "<IPython.core.display.HTML object>"
      ]
     },
     "metadata": {},
     "output_type": "display_data"
    },
    {
     "name": "stdout",
     "output_type": "stream",
     "text": [
      "writing file to \\\\ERICS-AIR-2\\ehaas\\Documents\\FHIR\\Davinci-DEQM\\input\\examples\\MeasureReport-summ-measurereport02.json\n",
      "file = \\\\ERICS-AIR-2\\ehaas\\Documents\\FHIR\\Davinci-DEQM\\input\\examples\\MeasureReport-summ-medicare-stratification-example.json\n",
      " Type = MeasureReport\n",
      "meta = {'profile': ['http://hl7.org/fhir/us/davinci-deqm/StructureDefinition/summary-measurereport-deqm']}\n"
     ]
    },
    {
     "data": {
      "text/html": [
       "<h1>Validation output</h1><h3>Status Code = 500</h3> <div xmlns=\"http://www.w3.org/1999/xhtml\"><h1>Operation Outcome</h1><table border=\"0\"><tr><td style=\"font-weight: bold;\">ERROR</td><td>[]</td><td><pre>Failed to call access method: org.springframework.dao.InvalidDataAccessApiUsageException: Can't fetch resource type: Measure; nested exception is java.lang.IllegalArgumentException: Can't fetch resource type: Measure</pre></td>\n",
       "\t\t\t\t\t\n",
       "\t\t\t\t\n",
       "\t\t\t</tr>\n",
       "\t\t</table>\n",
       "\t</div>"
      ],
      "text/plain": [
       "<IPython.core.display.HTML object>"
      ]
     },
     "metadata": {},
     "output_type": "display_data"
    },
    {
     "name": "stdout",
     "output_type": "stream",
     "text": [
      "writing file to \\\\ERICS-AIR-2\\ehaas\\Documents\\FHIR\\Davinci-DEQM\\input\\examples\\MeasureReport-summ-medicare-stratification-example.json\n",
      "file = \\\\ERICS-AIR-2\\ehaas\\Documents\\FHIR\\Davinci-DEQM\\input\\examples\\Observation-observation01.json\n",
      " Type = Observation\n",
      "meta = {'profile': ['http://hl7.org/fhir/us/qicore/StructureDefinition/qicore-observation']}\n"
     ]
    },
    {
     "data": {
      "text/html": [
       "<h1>Validation output</h1><h3>Status Code = 412</h3> <div xmlns=\"http://www.w3.org/1999/xhtml\"><h1>Operation Outcome</h1><table border=\"0\"><tr><td style=\"font-weight: bold;\">WARNING</td><td>[Observation, Line 1, Col 2]</td><td><pre>dom-6: A resource should have narrative for robust management [text.div.exists()]</pre></td>\n",
       "\t\t\t\t\t\n",
       "\t\t\t\t\n",
       "\t\t\t</tr>\n",
       "\t\t\t<tr>\n",
       "\t\t\t\t<td style=\"font-weight: bold;\">ERROR</td>\n",
       "\t\t\t\t<td>[Observation.meta.profile[0], Line 1, Col 2]</td>\n",
       "\t\t\t\t\n",
       "\t\t\t\t\t\n",
       "\t\t\t\t\t\n",
       "\t\t\t\t\t\t<td><pre>Profile reference &quot;http://hl7.org/fhir/us/qicore/StructureDefinition/qicore-observation&quot; could not be resolved, so has not been checked</pre></td>\n",
       "\t\t\t\t\t\n",
       "\t\t\t\t\n",
       "\t\t\t</tr>\n",
       "\t\t</table>\n",
       "\t</div>"
      ],
      "text/plain": [
       "<IPython.core.display.HTML object>"
      ]
     },
     "metadata": {},
     "output_type": "display_data"
    },
    {
     "name": "stdout",
     "output_type": "stream",
     "text": [
      "writing file to \\\\ERICS-AIR-2\\ehaas\\Documents\\FHIR\\Davinci-DEQM\\input\\examples\\Observation-observation01.json\n",
      "file = \\\\ERICS-AIR-2\\ehaas\\Documents\\FHIR\\Davinci-DEQM\\input\\examples\\Observation-observation02.json\n",
      " Type = Observation\n",
      "meta = {'profile': ['http://hl7.org/fhir/us/qicore/StructureDefinition/qicore-observation']}\n"
     ]
    },
    {
     "data": {
      "text/html": [
       "<h1>Validation output</h1><h3>Status Code = 412</h3> <div xmlns=\"http://www.w3.org/1999/xhtml\"><h1>Operation Outcome</h1><table border=\"0\"><tr><td style=\"font-weight: bold;\">WARNING</td><td>[Observation, Line 1, Col 2]</td><td><pre>dom-6: A resource should have narrative for robust management [text.div.exists()]</pre></td>\n",
       "\t\t\t\t\t\n",
       "\t\t\t\t\n",
       "\t\t\t</tr>\n",
       "\t\t\t<tr>\n",
       "\t\t\t\t<td style=\"font-weight: bold;\">ERROR</td>\n",
       "\t\t\t\t<td>[Observation.meta.profile[0], Line 1, Col 2]</td>\n",
       "\t\t\t\t\n",
       "\t\t\t\t\t\n",
       "\t\t\t\t\t\n",
       "\t\t\t\t\t\t<td><pre>Profile reference &quot;http://hl7.org/fhir/us/qicore/StructureDefinition/qicore-observation&quot; could not be resolved, so has not been checked</pre></td>\n",
       "\t\t\t\t\t\n",
       "\t\t\t\t\n",
       "\t\t\t</tr>\n",
       "\t\t</table>\n",
       "\t</div>"
      ],
      "text/plain": [
       "<IPython.core.display.HTML object>"
      ]
     },
     "metadata": {},
     "output_type": "display_data"
    },
    {
     "name": "stdout",
     "output_type": "stream",
     "text": [
      "writing file to \\\\ERICS-AIR-2\\ehaas\\Documents\\FHIR\\Davinci-DEQM\\input\\examples\\Observation-observation02.json\n",
      "file = \\\\ERICS-AIR-2\\ehaas\\Documents\\FHIR\\Davinci-DEQM\\input\\examples\\Observation-observation03.json\n",
      " Type = Observation\n",
      "meta = {'profile': ['http://hl7.org/fhir/us/qicore/StructureDefinition/qicore-observation']}\n"
     ]
    },
    {
     "data": {
      "text/html": [
       "<h1>Validation output</h1><h3>Status Code = 412</h3> <div xmlns=\"http://www.w3.org/1999/xhtml\"><h1>Operation Outcome</h1><table border=\"0\"><tr><td style=\"font-weight: bold;\">WARNING</td><td>[Observation, Line 1, Col 2]</td><td><pre>dom-6: A resource should have narrative for robust management [text.div.exists()]</pre></td>\n",
       "\t\t\t\t\t\n",
       "\t\t\t\t\n",
       "\t\t\t</tr>\n",
       "\t\t\t<tr>\n",
       "\t\t\t\t<td style=\"font-weight: bold;\">ERROR</td>\n",
       "\t\t\t\t<td>[Observation.code.coding[0], Line 1, Col 384]</td>\n",
       "\t\t\t\t\n",
       "\t\t\t\t\t\n",
       "\t\t\t\t\t\n",
       "\t\t\t\t\t\t<td><pre>Unknown code {http://loinc.org}77353-1 for &quot;http://loinc.org#77353-1&quot;</pre></td>\n",
       "\t\t\t\t\t\n",
       "\t\t\t\t\n",
       "\t\t\t</tr>\n",
       "\t\t\t<tr>\n",
       "\t\t\t\t<td style=\"font-weight: bold;\">ERROR</td>\n",
       "\t\t\t\t<td>[Observation.meta.profile[0], Line 1, Col 2]</td>\n",
       "\t\t\t\t\n",
       "\t\t\t\t\t\n",
       "\t\t\t\t\t\n",
       "\t\t\t\t\t\t<td><pre>Profile reference &quot;http://hl7.org/fhir/us/qicore/StructureDefinition/qicore-observation&quot; could not be resolved, so has not been checked</pre></td>\n",
       "\t\t\t\t\t\n",
       "\t\t\t\t\n",
       "\t\t\t</tr>\n",
       "\t\t</table>\n",
       "\t</div>"
      ],
      "text/plain": [
       "<IPython.core.display.HTML object>"
      ]
     },
     "metadata": {},
     "output_type": "display_data"
    },
    {
     "name": "stdout",
     "output_type": "stream",
     "text": [
      "writing file to \\\\ERICS-AIR-2\\ehaas\\Documents\\FHIR\\Davinci-DEQM\\input\\examples\\Observation-observation03.json\n",
      "file = \\\\ERICS-AIR-2\\ehaas\\Documents\\FHIR\\Davinci-DEQM\\input\\examples\\Organization-organization01.json\n",
      " Type = Organization\n",
      "meta = {'lastUpdated': '2019-02-21T01:47:54.000+00:00', 'profile': ['http://hl7.org/fhir/us/davinci-deqm/StructureDefinition/organization-deqm'], 'versionId': '4'}\n"
     ]
    },
    {
     "data": {
      "text/html": [
       "<h1>Validation output</h1><h3>Status Code = 412</h3> <div xmlns=\"http://www.w3.org/1999/xhtml\"><h1>Operation Outcome</h1><table border=\"0\"><tr><td style=\"font-weight: bold;\">WARNING</td><td>[Organization, Line 1, Col 2]</td><td><pre>dom-6: A resource should have narrative for robust management [text.div.exists()]</pre></td>\n",
       "\t\t\t\t\t\n",
       "\t\t\t\t\n",
       "\t\t\t</tr>\n",
       "\t\t\t<tr>\n",
       "\t\t\t\t<td style=\"font-weight: bold;\">ERROR</td>\n",
       "\t\t\t\t<td>[Organization.meta.profile[0], Line 1, Col 2]</td>\n",
       "\t\t\t\t\n",
       "\t\t\t\t\t\n",
       "\t\t\t\t\t\n",
       "\t\t\t\t\t\t<td><pre>Profile reference &quot;http://hl7.org/fhir/us/davinci-deqm/StructureDefinition/organization-deqm&quot; could not be resolved, so has not been checked</pre></td>\n",
       "\t\t\t\t\t\n",
       "\t\t\t\t\n",
       "\t\t\t</tr>\n",
       "\t\t</table>\n",
       "\t</div>"
      ],
      "text/plain": [
       "<IPython.core.display.HTML object>"
      ]
     },
     "metadata": {},
     "output_type": "display_data"
    },
    {
     "name": "stdout",
     "output_type": "stream",
     "text": [
      "writing file to \\\\ERICS-AIR-2\\ehaas\\Documents\\FHIR\\Davinci-DEQM\\input\\examples\\Organization-organization01.json\n",
      "file = \\\\ERICS-AIR-2\\ehaas\\Documents\\FHIR\\Davinci-DEQM\\input\\examples\\Organization-organization02.json\n",
      " Type = Organization\n",
      "meta = {'lastUpdated': '2019-03-06T19:03:03.000+00:00', 'profile': ['http://hl7.org/fhir/us/davinci-deqm/StructureDefinition/organization-deqm'], 'versionId': '3'}\n"
     ]
    },
    {
     "data": {
      "text/html": [
       "<h1>Validation output</h1><h3>Status Code = 412</h3> <div xmlns=\"http://www.w3.org/1999/xhtml\"><h1>Operation Outcome</h1><table border=\"0\"><tr><td style=\"font-weight: bold;\">WARNING</td><td>[Organization, Line 1, Col 2]</td><td><pre>dom-6: A resource should have narrative for robust management [text.div.exists()]</pre></td>\n",
       "\t\t\t\t\t\n",
       "\t\t\t\t\n",
       "\t\t\t</tr>\n",
       "\t\t\t<tr>\n",
       "\t\t\t\t<td style=\"font-weight: bold;\">ERROR</td>\n",
       "\t\t\t\t<td>[Organization.meta.profile[0], Line 1, Col 2]</td>\n",
       "\t\t\t\t\n",
       "\t\t\t\t\t\n",
       "\t\t\t\t\t\n",
       "\t\t\t\t\t\t<td><pre>Profile reference &quot;http://hl7.org/fhir/us/davinci-deqm/StructureDefinition/organization-deqm&quot; could not be resolved, so has not been checked</pre></td>\n",
       "\t\t\t\t\t\n",
       "\t\t\t\t\n",
       "\t\t\t</tr>\n",
       "\t\t</table>\n",
       "\t</div>"
      ],
      "text/plain": [
       "<IPython.core.display.HTML object>"
      ]
     },
     "metadata": {},
     "output_type": "display_data"
    },
    {
     "name": "stdout",
     "output_type": "stream",
     "text": [
      "writing file to \\\\ERICS-AIR-2\\ehaas\\Documents\\FHIR\\Davinci-DEQM\\input\\examples\\Organization-organization02.json\n",
      "file = \\\\ERICS-AIR-2\\ehaas\\Documents\\FHIR\\Davinci-DEQM\\input\\examples\\Organization-organization03.json\n",
      " Type = Organization\n",
      "meta = {'lastUpdated': '2019-02-21T01:47:53.000+00:00', 'profile': ['http://hl7.org/fhir/us/davinci-deqm/StructureDefinition/organization-deqm'], 'versionId': '3'}\n"
     ]
    },
    {
     "data": {
      "text/html": [
       "<h1>Validation output</h1><h3>Status Code = 412</h3> <div xmlns=\"http://www.w3.org/1999/xhtml\"><h1>Operation Outcome</h1><table border=\"0\"><tr><td style=\"font-weight: bold;\">WARNING</td><td>[Organization, Line 1, Col 2]</td><td><pre>dom-6: A resource should have narrative for robust management [text.div.exists()]</pre></td>\n",
       "\t\t\t\t\t\n",
       "\t\t\t\t\n",
       "\t\t\t</tr>\n",
       "\t\t\t<tr>\n",
       "\t\t\t\t<td style=\"font-weight: bold;\">ERROR</td>\n",
       "\t\t\t\t<td>[Organization.meta.profile[0], Line 1, Col 2]</td>\n",
       "\t\t\t\t\n",
       "\t\t\t\t\t\n",
       "\t\t\t\t\t\n",
       "\t\t\t\t\t\t<td><pre>Profile reference &quot;http://hl7.org/fhir/us/davinci-deqm/StructureDefinition/organization-deqm&quot; could not be resolved, so has not been checked</pre></td>\n",
       "\t\t\t\t\t\n",
       "\t\t\t\t\n",
       "\t\t\t</tr>\n",
       "\t\t</table>\n",
       "\t</div>"
      ],
      "text/plain": [
       "<IPython.core.display.HTML object>"
      ]
     },
     "metadata": {},
     "output_type": "display_data"
    },
    {
     "name": "stdout",
     "output_type": "stream",
     "text": [
      "writing file to \\\\ERICS-AIR-2\\ehaas\\Documents\\FHIR\\Davinci-DEQM\\input\\examples\\Organization-organization03.json\n",
      "file = \\\\ERICS-AIR-2\\ehaas\\Documents\\FHIR\\Davinci-DEQM\\input\\examples\\Organization-organization04.json\n",
      " Type = Organization\n",
      "meta = {'lastUpdated': '2019-03-06T19:03:03.000+00:00', 'profile': ['http://hl7.org/fhir/us/davinci-deqm/StructureDefinition/organization-deqm'], 'versionId': '4'}\n"
     ]
    },
    {
     "data": {
      "text/html": [
       "<h1>Validation output</h1><h3>Status Code = 412</h3> <div xmlns=\"http://www.w3.org/1999/xhtml\"><h1>Operation Outcome</h1><table border=\"0\"><tr><td style=\"font-weight: bold;\">WARNING</td><td>[Organization, Line 1, Col 2]</td><td><pre>dom-6: A resource should have narrative for robust management [text.div.exists()]</pre></td>\n",
       "\t\t\t\t\t\n",
       "\t\t\t\t\n",
       "\t\t\t</tr>\n",
       "\t\t\t<tr>\n",
       "\t\t\t\t<td style=\"font-weight: bold;\">ERROR</td>\n",
       "\t\t\t\t<td>[Organization.meta.profile[0], Line 1, Col 2]</td>\n",
       "\t\t\t\t\n",
       "\t\t\t\t\t\n",
       "\t\t\t\t\t\n",
       "\t\t\t\t\t\t<td><pre>Profile reference &quot;http://hl7.org/fhir/us/davinci-deqm/StructureDefinition/organization-deqm&quot; could not be resolved, so has not been checked</pre></td>\n",
       "\t\t\t\t\t\n",
       "\t\t\t\t\n",
       "\t\t\t</tr>\n",
       "\t\t</table>\n",
       "\t</div>"
      ],
      "text/plain": [
       "<IPython.core.display.HTML object>"
      ]
     },
     "metadata": {},
     "output_type": "display_data"
    },
    {
     "name": "stdout",
     "output_type": "stream",
     "text": [
      "writing file to \\\\ERICS-AIR-2\\ehaas\\Documents\\FHIR\\Davinci-DEQM\\input\\examples\\Organization-organization04.json\n",
      "file = \\\\ERICS-AIR-2\\ehaas\\Documents\\FHIR\\Davinci-DEQM\\input\\examples\\Parameters-col-submit-obs.json\n",
      " Type = Parameters\n",
      "Parameters missing meta\n",
      "\n",
      "Entry = MeasureReport\n",
      " meta = {'source': 'http://example.org/fhir/server'}\n",
      "Entry = Patient\n",
      " meta = {'source': 'http://example.org/fhir/server'}\n",
      "Entry = Observation\n",
      " meta = {'source': 'http://example.org/fhir/server'}\n",
      "Entry = Practitioner\n",
      " meta = {'source': 'http://example.org/fhir/server'}\n",
      "Entry = Organization\n",
      " meta = {'source': 'http://example.org/fhir/server'}\n"
     ]
    },
    {
     "data": {
      "text/html": [
       "<h1>Validation output</h1><h3>Status Code = 500</h3> <div xmlns=\"http://www.w3.org/1999/xhtml\"><h1>Operation Outcome</h1><table border=\"0\"><tr><td style=\"font-weight: bold;\">ERROR</td><td>[]</td><td><pre>Failed to call access method: org.springframework.dao.InvalidDataAccessApiUsageException: Can't fetch resource type: Measure; nested exception is java.lang.IllegalArgumentException: Can't fetch resource type: Measure</pre></td>\n",
       "\t\t\t\t\t\n",
       "\t\t\t\t\n",
       "\t\t\t</tr>\n",
       "\t\t</table>\n",
       "\t</div>"
      ],
      "text/plain": [
       "<IPython.core.display.HTML object>"
      ]
     },
     "metadata": {},
     "output_type": "display_data"
    },
    {
     "name": "stdout",
     "output_type": "stream",
     "text": [
      "writing file to \\\\ERICS-AIR-2\\ehaas\\Documents\\FHIR\\Davinci-DEQM\\input\\examples\\Parameters-col-submit-obs.json\n",
      "file = \\\\ERICS-AIR-2\\ehaas\\Documents\\FHIR\\Davinci-DEQM\\input\\examples\\Parameters-mrp-submit-obs.json\n",
      " Type = Parameters\n",
      "Parameters missing meta\n",
      "\n",
      "Entry = MeasureReport\n",
      " meta = {'source': 'http://example.org/fhir/server'}\n",
      "Entry = Patient\n",
      " meta = {'source': 'http://example.org/fhir/server'}\n",
      "Entry = Observation\n",
      " meta = {'source': 'http://example.org/fhir/server'}\n",
      "Entry = Practitioner\n",
      " meta = {'source': 'http://example.org/fhir/server'}\n",
      "Entry = Encounter\n",
      " meta = {'source': 'http://example.org/fhir/server'}\n",
      "Entry = Coverage\n",
      " meta = {'source': 'http://example.org/fhir/server'}\n",
      "Entry = Location\n",
      " meta = {'source': 'http://example.org/fhir/server'}\n",
      "Entry = Organization\n",
      " meta = {'source': 'http://example.org/fhir/server'}\n",
      "Entry = Organization\n",
      " meta = {'source': 'http://example.org/fhir/server'}\n",
      "Entry = Organization\n",
      " meta = {'source': 'http://example.org/fhir/server'}\n"
     ]
    },
    {
     "data": {
      "text/html": [
       "<h1>Validation output</h1><h3>Status Code = 500</h3> <div xmlns=\"http://www.w3.org/1999/xhtml\"><h1>Operation Outcome</h1><table border=\"0\"><tr><td style=\"font-weight: bold;\">ERROR</td><td>[]</td><td><pre>Failed to call access method: org.springframework.dao.InvalidDataAccessApiUsageException: Can't fetch resource type: Measure; nested exception is java.lang.IllegalArgumentException: Can't fetch resource type: Measure</pre></td>\n",
       "\t\t\t\t\t\n",
       "\t\t\t\t\n",
       "\t\t\t</tr>\n",
       "\t\t</table>\n",
       "\t</div>"
      ],
      "text/plain": [
       "<IPython.core.display.HTML object>"
      ]
     },
     "metadata": {},
     "output_type": "display_data"
    },
    {
     "name": "stdout",
     "output_type": "stream",
     "text": [
      "writing file to \\\\ERICS-AIR-2\\ehaas\\Documents\\FHIR\\Davinci-DEQM\\input\\examples\\Parameters-mrp-submit-obs.json\n",
      "file = \\\\ERICS-AIR-2\\ehaas\\Documents\\FHIR\\Davinci-DEQM\\input\\examples\\Parameters-mrp-submit-task.json\n",
      " Type = Parameters\n",
      "Parameters missing meta\n",
      "\n",
      "Entry = MeasureReport\n",
      " meta = {'source': 'http://example.org/fhir/server'}\n",
      "Entry = Patient\n",
      " meta = {'source': 'http://example.org/fhir/server'}\n",
      "Entry = Task\n",
      " meta = {'source': 'http://example.org/fhir/server'}\n",
      "Entry = Practitioner\n",
      " meta = {'source': 'http://example.org/fhir/server'}\n",
      "Entry = Encounter\n",
      " meta = {'source': 'http://example.org/fhir/server'}\n",
      "Entry = Coverage\n",
      " meta = {'source': 'http://example.org/fhir/server'}\n",
      "Entry = Location\n",
      " meta = {'source': 'http://example.org/fhir/server'}\n",
      "Entry = Organization\n",
      " meta = {'source': 'http://example.org/fhir/server'}\n",
      "Entry = Organization\n",
      " meta = {'source': 'http://example.org/fhir/server'}\n",
      "Entry = Organization\n",
      " meta = {'source': 'http://example.org/fhir/server'}\n"
     ]
    },
    {
     "data": {
      "text/html": [
       "<h1>Validation output</h1><h3>Status Code = 500</h3> <div xmlns=\"http://www.w3.org/1999/xhtml\"><h1>Operation Outcome</h1><table border=\"0\"><tr><td style=\"font-weight: bold;\">ERROR</td><td>[]</td><td><pre>Failed to call access method: org.springframework.dao.InvalidDataAccessApiUsageException: Can't fetch resource type: Measure; nested exception is java.lang.IllegalArgumentException: Can't fetch resource type: Measure</pre></td>\n",
       "\t\t\t\t\t\n",
       "\t\t\t\t\n",
       "\t\t\t</tr>\n",
       "\t\t</table>\n",
       "\t</div>"
      ],
      "text/plain": [
       "<IPython.core.display.HTML object>"
      ]
     },
     "metadata": {},
     "output_type": "display_data"
    },
    {
     "name": "stdout",
     "output_type": "stream",
     "text": [
      "writing file to \\\\ERICS-AIR-2\\ehaas\\Documents\\FHIR\\Davinci-DEQM\\input\\examples\\Parameters-mrp-submit-task.json\n",
      "file = \\\\ERICS-AIR-2\\ehaas\\Documents\\FHIR\\Davinci-DEQM\\input\\examples\\Patient-patient01.json\n",
      " Type = Patient\n",
      "meta = {'versionId': '5', 'lastUpdated': '2019-02-11T14:19:25.000+00:00', 'profile': ['http://hl7.org/fhir/us/qicore/StructureDefinition/qicore-patient']}\n"
     ]
    },
    {
     "data": {
      "text/html": [
       "<h1>Validation output</h1><h3>Status Code = 412</h3> <div xmlns=\"http://www.w3.org/1999/xhtml\"><h1>Operation Outcome</h1><table border=\"0\"><tr><td style=\"font-weight: bold;\">ERROR</td><td>[Patient.meta.profile[0], Line 1, Col 2]</td><td><pre>Profile reference &quot;http://hl7.org/fhir/us/qicore/StructureDefinition/qicore-patient&quot; could not be resolved, so has not been checked</pre></td>\n",
       "\t\t\t\t\t\n",
       "\t\t\t\t\n",
       "\t\t\t</tr>\n",
       "\t\t</table>\n",
       "\t</div>"
      ],
      "text/plain": [
       "<IPython.core.display.HTML object>"
      ]
     },
     "metadata": {},
     "output_type": "display_data"
    },
    {
     "name": "stdout",
     "output_type": "stream",
     "text": [
      "writing file to \\\\ERICS-AIR-2\\ehaas\\Documents\\FHIR\\Davinci-DEQM\\input\\examples\\Patient-patient01.json\n",
      "file = \\\\ERICS-AIR-2\\ehaas\\Documents\\FHIR\\Davinci-DEQM\\input\\examples\\Patient-patient02.json\n",
      " Type = Patient\n",
      "meta = {'versionId': '4', 'lastUpdated': '2019-03-06T19:03:03.000+00:00', 'profile': ['http://hl7.org/fhir/us/qicore/StructureDefinition/qicore-patient']}\n"
     ]
    },
    {
     "data": {
      "text/html": [
       "<h1>Validation output</h1><h3>Status Code = 412</h3> <div xmlns=\"http://www.w3.org/1999/xhtml\"><h1>Operation Outcome</h1><table border=\"0\"><tr><td style=\"font-weight: bold;\">ERROR</td><td>[Patient.meta.profile[0], Line 1, Col 2]</td><td><pre>Profile reference &quot;http://hl7.org/fhir/us/qicore/StructureDefinition/qicore-patient&quot; could not be resolved, so has not been checked</pre></td>\n",
       "\t\t\t\t\t\n",
       "\t\t\t\t\n",
       "\t\t\t</tr>\n",
       "\t\t</table>\n",
       "\t</div>"
      ],
      "text/plain": [
       "<IPython.core.display.HTML object>"
      ]
     },
     "metadata": {},
     "output_type": "display_data"
    },
    {
     "name": "stdout",
     "output_type": "stream",
     "text": [
      "writing file to \\\\ERICS-AIR-2\\ehaas\\Documents\\FHIR\\Davinci-DEQM\\input\\examples\\Patient-patient02.json\n",
      "file = \\\\ERICS-AIR-2\\ehaas\\Documents\\FHIR\\Davinci-DEQM\\input\\examples\\Patient-patient03.json\n",
      " Type = Patient\n",
      "meta = {'versionId': '4', 'lastUpdated': '2019-02-07T18:47:34.000+00:00', 'profile': ['http://hl7.org/fhir/us/qicore/StructureDefinition/qicore-patient']}\n"
     ]
    },
    {
     "data": {
      "text/html": [
       "<h1>Validation output</h1><h3>Status Code = 412</h3> <div xmlns=\"http://www.w3.org/1999/xhtml\"><h1>Operation Outcome</h1><table border=\"0\"><tr><td style=\"font-weight: bold;\">ERROR</td><td>[Patient.meta.profile[0], Line 1, Col 2]</td><td><pre>Profile reference &quot;http://hl7.org/fhir/us/qicore/StructureDefinition/qicore-patient&quot; could not be resolved, so has not been checked</pre></td>\n",
       "\t\t\t\t\t\n",
       "\t\t\t\t\n",
       "\t\t\t</tr>\n",
       "\t\t</table>\n",
       "\t</div>"
      ],
      "text/plain": [
       "<IPython.core.display.HTML object>"
      ]
     },
     "metadata": {},
     "output_type": "display_data"
    },
    {
     "name": "stdout",
     "output_type": "stream",
     "text": [
      "writing file to \\\\ERICS-AIR-2\\ehaas\\Documents\\FHIR\\Davinci-DEQM\\input\\examples\\Patient-patient03.json\n",
      "file = \\\\ERICS-AIR-2\\ehaas\\Documents\\FHIR\\Davinci-DEQM\\input\\examples\\Practitioner-practitioner01.json\n",
      " Type = Practitioner\n",
      "meta = {'profile': ['http://hl7.org/fhir/us/davinci-deqm/StructureDefinition/practitioner-deqm']}\n"
     ]
    },
    {
     "data": {
      "text/html": [
       "<h1>Validation output</h1><h3>Status Code = 412</h3> <div xmlns=\"http://www.w3.org/1999/xhtml\"><h1>Operation Outcome</h1><table border=\"0\"><tr><td style=\"font-weight: bold;\">WARNING</td><td>[Practitioner, Line 1, Col 2]</td><td><pre>dom-6: A resource should have narrative for robust management [text.div.exists()]</pre></td>\n",
       "\t\t\t\t\t\n",
       "\t\t\t\t\n",
       "\t\t\t</tr>\n",
       "\t\t\t<tr>\n",
       "\t\t\t\t<td style=\"font-weight: bold;\">ERROR</td>\n",
       "\t\t\t\t<td>[Practitioner.meta.profile[0], Line 1, Col 2]</td>\n",
       "\t\t\t\t\n",
       "\t\t\t\t\t\n",
       "\t\t\t\t\t\n",
       "\t\t\t\t\t\t<td><pre>Profile reference &quot;http://hl7.org/fhir/us/davinci-deqm/StructureDefinition/practitioner-deqm&quot; could not be resolved, so has not been checked</pre></td>\n",
       "\t\t\t\t\t\n",
       "\t\t\t\t\n",
       "\t\t\t</tr>\n",
       "\t\t</table>\n",
       "\t</div>"
      ],
      "text/plain": [
       "<IPython.core.display.HTML object>"
      ]
     },
     "metadata": {},
     "output_type": "display_data"
    },
    {
     "name": "stdout",
     "output_type": "stream",
     "text": [
      "writing file to \\\\ERICS-AIR-2\\ehaas\\Documents\\FHIR\\Davinci-DEQM\\input\\examples\\Practitioner-practitioner01.json\n",
      "file = \\\\ERICS-AIR-2\\ehaas\\Documents\\FHIR\\Davinci-DEQM\\input\\examples\\Practitioner-practitioner02.json\n",
      " Type = Practitioner\n",
      "meta = {'profile': ['http://hl7.org/fhir/us/davinci-deqm/StructureDefinition/practitioner-deqm']}\n"
     ]
    },
    {
     "data": {
      "text/html": [
       "<h1>Validation output</h1><h3>Status Code = 412</h3> <div xmlns=\"http://www.w3.org/1999/xhtml\"><h1>Operation Outcome</h1><table border=\"0\"><tr><td style=\"font-weight: bold;\">WARNING</td><td>[Practitioner, Line 1, Col 2]</td><td><pre>dom-6: A resource should have narrative for robust management [text.div.exists()]</pre></td>\n",
       "\t\t\t\t\t\n",
       "\t\t\t\t\n",
       "\t\t\t</tr>\n",
       "\t\t\t<tr>\n",
       "\t\t\t\t<td style=\"font-weight: bold;\">ERROR</td>\n",
       "\t\t\t\t<td>[Practitioner.meta.profile[0], Line 1, Col 2]</td>\n",
       "\t\t\t\t\n",
       "\t\t\t\t\t\n",
       "\t\t\t\t\t\n",
       "\t\t\t\t\t\t<td><pre>Profile reference &quot;http://hl7.org/fhir/us/davinci-deqm/StructureDefinition/practitioner-deqm&quot; could not be resolved, so has not been checked</pre></td>\n",
       "\t\t\t\t\t\n",
       "\t\t\t\t\n",
       "\t\t\t</tr>\n",
       "\t\t</table>\n",
       "\t</div>"
      ],
      "text/plain": [
       "<IPython.core.display.HTML object>"
      ]
     },
     "metadata": {},
     "output_type": "display_data"
    },
    {
     "name": "stdout",
     "output_type": "stream",
     "text": [
      "writing file to \\\\ERICS-AIR-2\\ehaas\\Documents\\FHIR\\Davinci-DEQM\\input\\examples\\Practitioner-practitioner02.json\n",
      "file = \\\\ERICS-AIR-2\\ehaas\\Documents\\FHIR\\Davinci-DEQM\\input\\examples\\Practitioner-practitioner03.json\n",
      " Type = Practitioner\n",
      "meta = {'profile': ['http://hl7.org/fhir/us/davinci-deqm/StructureDefinition/practitioner-deqm']}\n"
     ]
    },
    {
     "data": {
      "text/html": [
       "<h1>Validation output</h1><h3>Status Code = 412</h3> <div xmlns=\"http://www.w3.org/1999/xhtml\"><h1>Operation Outcome</h1><table border=\"0\"><tr><td style=\"font-weight: bold;\">WARNING</td><td>[Practitioner, Line 1, Col 2]</td><td><pre>dom-6: A resource should have narrative for robust management [text.div.exists()]</pre></td>\n",
       "\t\t\t\t\t\n",
       "\t\t\t\t\n",
       "\t\t\t</tr>\n",
       "\t\t\t<tr>\n",
       "\t\t\t\t<td style=\"font-weight: bold;\">ERROR</td>\n",
       "\t\t\t\t<td>[Practitioner.meta.profile[0], Line 1, Col 2]</td>\n",
       "\t\t\t\t\n",
       "\t\t\t\t\t\n",
       "\t\t\t\t\t\n",
       "\t\t\t\t\t\t<td><pre>Profile reference &quot;http://hl7.org/fhir/us/davinci-deqm/StructureDefinition/practitioner-deqm&quot; could not be resolved, so has not been checked</pre></td>\n",
       "\t\t\t\t\t\n",
       "\t\t\t\t\n",
       "\t\t\t</tr>\n",
       "\t\t</table>\n",
       "\t</div>"
      ],
      "text/plain": [
       "<IPython.core.display.HTML object>"
      ]
     },
     "metadata": {},
     "output_type": "display_data"
    },
    {
     "name": "stdout",
     "output_type": "stream",
     "text": [
      "writing file to \\\\ERICS-AIR-2\\ehaas\\Documents\\FHIR\\Davinci-DEQM\\input\\examples\\Practitioner-practitioner03.json\n",
      "file = \\\\ERICS-AIR-2\\ehaas\\Documents\\FHIR\\Davinci-DEQM\\input\\examples\\Task-task01.json\n",
      " Type = Task\n",
      "meta = {'profile': ['http://hl7.org/fhir/us/qicore/StructureDefinition/qicore-task']}\n"
     ]
    },
    {
     "data": {
      "text/html": [
       "<h1>Validation output</h1><h3>Status Code = 412</h3> <div xmlns=\"http://www.w3.org/1999/xhtml\"><h1>Operation Outcome</h1><table border=\"0\"><tr><td style=\"font-weight: bold;\">WARNING</td><td>[Task, Line 1, Col 2]</td><td><pre>dom-6: A resource should have narrative for robust management [text.div.exists()]</pre></td>\n",
       "\t\t\t\t\t\n",
       "\t\t\t\t\n",
       "\t\t\t</tr>\n",
       "\t\t\t<tr>\n",
       "\t\t\t\t<td style=\"font-weight: bold;\">ERROR</td>\n",
       "\t\t\t\t<td>[Task.meta.profile[0], Line 1, Col 2]</td>\n",
       "\t\t\t\t\n",
       "\t\t\t\t\t\n",
       "\t\t\t\t\t\n",
       "\t\t\t\t\t\t<td><pre>Profile reference &quot;http://hl7.org/fhir/us/qicore/StructureDefinition/qicore-task&quot; could not be resolved, so has not been checked</pre></td>\n",
       "\t\t\t\t\t\n",
       "\t\t\t\t\n",
       "\t\t\t</tr>\n",
       "\t\t</table>\n",
       "\t</div>"
      ],
      "text/plain": [
       "<IPython.core.display.HTML object>"
      ]
     },
     "metadata": {},
     "output_type": "display_data"
    },
    {
     "name": "stdout",
     "output_type": "stream",
     "text": [
      "writing file to \\\\ERICS-AIR-2\\ehaas\\Documents\\FHIR\\Davinci-DEQM\\input\\examples\\Task-task01.json\n",
      "file = \\\\ERICS-AIR-2\\ehaas\\Documents\\FHIR\\Davinci-DEQM\\input\\examples\\Task-task02.json\n",
      " Type = Task\n",
      "meta = {'profile': ['http://hl7.org/fhir/us/qicore/StructureDefinition/qicore-task']}\n"
     ]
    },
    {
     "data": {
      "text/html": [
       "<h1>Validation output</h1><h3>Status Code = 412</h3> <div xmlns=\"http://www.w3.org/1999/xhtml\"><h1>Operation Outcome</h1><table border=\"0\"><tr><td style=\"font-weight: bold;\">WARNING</td><td>[Task, Line 1, Col 2]</td><td><pre>dom-6: A resource should have narrative for robust management [text.div.exists()]</pre></td>\n",
       "\t\t\t\t\t\n",
       "\t\t\t\t\n",
       "\t\t\t</tr>\n",
       "\t\t\t<tr>\n",
       "\t\t\t\t<td style=\"font-weight: bold;\">ERROR</td>\n",
       "\t\t\t\t<td>[Task.meta.profile[0], Line 1, Col 2]</td>\n",
       "\t\t\t\t\n",
       "\t\t\t\t\t\n",
       "\t\t\t\t\t\n",
       "\t\t\t\t\t\t<td><pre>Profile reference &quot;http://hl7.org/fhir/us/qicore/StructureDefinition/qicore-task&quot; could not be resolved, so has not been checked</pre></td>\n",
       "\t\t\t\t\t\n",
       "\t\t\t\t\n",
       "\t\t\t</tr>\n",
       "\t\t</table>\n",
       "\t</div>"
      ],
      "text/plain": [
       "<IPython.core.display.HTML object>"
      ]
     },
     "metadata": {},
     "output_type": "display_data"
    },
    {
     "name": "stdout",
     "output_type": "stream",
     "text": [
      "writing file to \\\\ERICS-AIR-2\\ehaas\\Documents\\FHIR\\Davinci-DEQM\\input\\examples\\Task-task02.json\n",
      "file = \\\\ERICS-AIR-2\\ehaas\\Documents\\FHIR\\Davinci-DEQM\\input\\examples\\Task-task03.json\n",
      " Type = Task\n",
      "meta = {'profile': ['http://hl7.org/fhir/us/qicore/StructureDefinition/qicore-task']}\n"
     ]
    },
    {
     "data": {
      "text/html": [
       "<h1>Validation output</h1><h3>Status Code = 412</h3> <div xmlns=\"http://www.w3.org/1999/xhtml\"><h1>Operation Outcome</h1><table border=\"0\"><tr><td style=\"font-weight: bold;\">WARNING</td><td>[Task, Line 1, Col 2]</td><td><pre>dom-6: A resource should have narrative for robust management [text.div.exists()]</pre></td>\n",
       "\t\t\t\t\t\n",
       "\t\t\t\t\n",
       "\t\t\t</tr>\n",
       "\t\t\t<tr>\n",
       "\t\t\t\t<td style=\"font-weight: bold;\">ERROR</td>\n",
       "\t\t\t\t<td>[Task.meta.profile[0], Line 1, Col 2]</td>\n",
       "\t\t\t\t\n",
       "\t\t\t\t\t\n",
       "\t\t\t\t\t\n",
       "\t\t\t\t\t\t<td><pre>Profile reference &quot;http://hl7.org/fhir/us/qicore/StructureDefinition/qicore-task&quot; could not be resolved, so has not been checked</pre></td>\n",
       "\t\t\t\t\t\n",
       "\t\t\t\t\n",
       "\t\t\t</tr>\n",
       "\t\t</table>\n",
       "\t</div>"
      ],
      "text/plain": [
       "<IPython.core.display.HTML object>"
      ]
     },
     "metadata": {},
     "output_type": "display_data"
    },
    {
     "name": "stdout",
     "output_type": "stream",
     "text": [
      "writing file to \\\\ERICS-AIR-2\\ehaas\\Documents\\FHIR\\Davinci-DEQM\\input\\examples\\Task-task03.json\n"
     ]
    }
   ],
   "source": [
    "def add_meta(r):\n",
    "    r['meta']={}\n",
    "    return r\n",
    "\n",
    "\n",
    "def update_meta(meta):\n",
    "    meta['source'] = 'http://example.org/fhir/server'\n",
    "    return meta\n",
    "\n",
    "\n",
    "\n",
    "for x in p.glob('*.json'):\n",
    "    if x.is_file():\n",
    "        r_dict = loads(x.read_text())\n",
    "        print(f\"file = {x}\\n Type = {r_dict['resourceType']}\")\n",
    "        try:\n",
    "            m = r_dict['meta']  \n",
    "            print(f\"meta = {m}\")\n",
    "        except KeyError:  # add meta\n",
    "            print(f\"{r_dict['resourceType']} missing meta\\n\")\n",
    "            r_dict = add_meta(r_dict)\n",
    "            m = r_dict['meta']  \n",
    "        m = update_meta(m)\n",
    "        if r_dict['resourceType'] == \"Bundle\":\n",
    "            for y in r_dict['entry']:\n",
    "                r_entry = y['resource']\n",
    "                try:\n",
    "                      m = r_entry['meta']  \n",
    "                      print(f\"Entry = {r_entry ['resourceType']}\\n meta = {r_entry['meta']}\")\n",
    "                except KeyError:  # add meta\n",
    "                      print(f\"Entry = {r_entry ['resourceType']} missing meta\\n\") \n",
    "                      r_entry = add_meta(r_entry)\n",
    "                      m = r_entry['meta']                   \n",
    "                m = update_meta(m)\n",
    "        if r_dict['resourceType'] == \"Parameters\":\n",
    "            for y in r_dict['parameter']:\n",
    "                r_param = y['resource']\n",
    "                try:\n",
    "                      m = r_param['meta']\n",
    "                      print(f\"Entry = {r_param ['resourceType']}\\n meta = {r_entry['meta']}\")\n",
    "                except KeyError:  # add meta\n",
    "                      print(f\"Entry = {r_param ['resourceType']} missing meta\\n\")  \n",
    "                      r_param = add_meta(r_param)\n",
    "                      m = r_param['meta']\n",
    "                m = update_meta(m)\n",
    "                            \n",
    "    validate(r_dict)  \n",
    "    write_out(x.name, r_dict)      "
   ]
  },
  {
   "cell_type": "code",
   "execution_count": null,
   "metadata": {},
   "outputs": [],
   "source": []
  },
  {
   "cell_type": "code",
   "execution_count": null,
   "metadata": {},
   "outputs": [],
   "source": []
  }
 ],
 "metadata": {
  "kernelspec": {
   "display_name": "Python 3",
   "language": "python",
   "name": "python3"
  },
  "language_info": {
   "codemirror_mode": {
    "name": "ipython",
    "version": 3
   },
   "file_extension": ".py",
   "mimetype": "text/x-python",
   "name": "python",
   "nbconvert_exporter": "python",
   "pygments_lexer": "ipython3",
   "version": "3.7.3"
  }
 },
 "nbformat": 4,
 "nbformat_minor": 4
}
