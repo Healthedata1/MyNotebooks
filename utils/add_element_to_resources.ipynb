{
 "cells": [
  {
   "cell_type": "markdown",
   "metadata": {},
   "source": [
    "## Add extension to example resources\n",
    "\n",
    "- read file from folder\n",
    "- convert to dict or model\n",
    "- add extension\n",
    "    with data from file name\n",
    "    optionally user input - future\n",
    "- save file back to folder"
   ]
  },
  {
   "cell_type": "code",
   "execution_count": 2,
   "metadata": {},
   "outputs": [
    {
     "name": "stdout",
     "output_type": "stream",
     "text": [
      "bone-density-report http://hl7.org/fhir/us/core/StructureDefinition/us-core-diagnosticreport-note\n",
      "metabolic-panel http://hl7.org/fhir/us/core/StructureDefinition/us-core-diagnosticreport-lab\n",
      "chest-xray-report http://hl7.org/fhir/us/core/StructureDefinition/us-core-diagnosticreport-note\n",
      "cardiology-report http://hl7.org/fhir/us/core/StructureDefinition/us-core-diagnosticreport-note\n"
     ]
    },
    {
     "ename": "ValidationError",
     "evalue": "1 validation error for DiagnosticReport\ntext -> __root__ -> div\n  field required (type=value_error.missing)",
     "output_type": "error",
     "traceback": [
      "\u001b[0;31m---------------------------------------------------------------------------\u001b[0m",
      "\u001b[0;31mValidationError\u001b[0m                           Traceback (most recent call last)",
      "Input \u001b[0;32mIn [2]\u001b[0m, in \u001b[0;36m<cell line: 53>\u001b[0;34m()\u001b[0m\n\u001b[1;32m     55\u001b[0m ex_obj \u001b[38;5;241m=\u001b[39m load(f\u001b[38;5;241m.\u001b[39mread_text(),Loader\u001b[38;5;241m=\u001b[39mSafeLoader)\n\u001b[1;32m     56\u001b[0m \u001b[38;5;28;01mif\u001b[39;00m ex_obj[\u001b[38;5;124m'\u001b[39m\u001b[38;5;124mresourceType\u001b[39m\u001b[38;5;124m'\u001b[39m] \u001b[38;5;241m==\u001b[39m \u001b[38;5;124m'\u001b[39m\u001b[38;5;124mDiagnosticReport\u001b[39m\u001b[38;5;124m'\u001b[39m:\n\u001b[0;32m---> 57\u001b[0m   ex_obj \u001b[38;5;241m=\u001b[39m  \u001b[43mconstruct_fhir_element\u001b[49m\u001b[43m(\u001b[49m\u001b[38;5;124;43m'\u001b[39;49m\u001b[38;5;124;43mDiagnosticReport\u001b[39;49m\u001b[38;5;124;43m'\u001b[39;49m\u001b[43m,\u001b[49m\u001b[43m \u001b[49m\u001b[43mex_obj\u001b[49m\u001b[43m)\u001b[49m\n\u001b[1;32m     58\u001b[0m   \u001b[38;5;66;03m# if not ex_obj.resultsInterpreter:\u001b[39;00m\n\u001b[1;32m     59\u001b[0m   \u001b[38;5;28mprint\u001b[39m (ex_obj\u001b[38;5;241m.\u001b[39mid, ex_obj\u001b[38;5;241m.\u001b[39mmeta\u001b[38;5;241m.\u001b[39mprofile[\u001b[38;5;241m0\u001b[39m])\n",
      "File \u001b[0;32m~/.pyenv/versions/3.10.2/envs/jupyter/lib/python3.10/site-packages/fhir/resources/__init__.py:27\u001b[0m, in \u001b[0;36mconstruct_fhir_element\u001b[0;34m(element_type, data)\u001b[0m\n\u001b[1;32m     25\u001b[0m \u001b[38;5;28;01melif\u001b[39;00m \u001b[38;5;28misinstance\u001b[39m(data, Path):\n\u001b[1;32m     26\u001b[0m     \u001b[38;5;28;01mreturn\u001b[39;00m klass\u001b[38;5;241m.\u001b[39mparse_file(data)\n\u001b[0;32m---> 27\u001b[0m \u001b[38;5;28;01mreturn\u001b[39;00m \u001b[43mklass\u001b[49m\u001b[38;5;241;43m.\u001b[39;49m\u001b[43mparse_obj\u001b[49m\u001b[43m(\u001b[49m\u001b[43mdata\u001b[49m\u001b[43m)\u001b[49m\n",
      "File \u001b[0;32m~/.pyenv/versions/3.10.2/envs/jupyter/lib/python3.10/site-packages/pydantic/main.py:511\u001b[0m, in \u001b[0;36mpydantic.main.BaseModel.parse_obj\u001b[0;34m()\u001b[0m\n",
      "File \u001b[0;32m~/.pyenv/versions/3.10.2/envs/jupyter/lib/python3.10/site-packages/fhir/resources/core/fhirabstractmodel.py:105\u001b[0m, in \u001b[0;36mFHIRAbstractModel.__init__\u001b[0;34m(__pydantic_self__, **data)\u001b[0m\n\u001b[1;32m    102\u001b[0m \u001b[38;5;28;01mif\u001b[39;00m errors:\n\u001b[1;32m    103\u001b[0m     \u001b[38;5;28;01mraise\u001b[39;00m ValidationError(errors, __pydantic_self__\u001b[38;5;241m.\u001b[39m\u001b[38;5;18m__class__\u001b[39m)\n\u001b[0;32m--> 105\u001b[0m \u001b[43mBaseModel\u001b[49m\u001b[38;5;241;43m.\u001b[39;49m\u001b[38;5;21;43m__init__\u001b[39;49m\u001b[43m(\u001b[49m\u001b[43m__pydantic_self__\u001b[49m\u001b[43m,\u001b[49m\u001b[43m \u001b[49m\u001b[38;5;241;43m*\u001b[39;49m\u001b[38;5;241;43m*\u001b[39;49m\u001b[43mdata\u001b[49m\u001b[43m)\u001b[49m\n",
      "File \u001b[0;32m~/.pyenv/versions/3.10.2/envs/jupyter/lib/python3.10/site-packages/pydantic/main.py:331\u001b[0m, in \u001b[0;36mpydantic.main.BaseModel.__init__\u001b[0;34m()\u001b[0m\n",
      "\u001b[0;31mValidationError\u001b[0m: 1 validation error for DiagnosticReport\ntext -> __root__ -> div\n  field required (type=value_error.missing)"
     ]
    }
   ],
   "source": [
    "from pathlib import Path\n",
    "from json import dumps, loads\n",
    "from yaml import load, dump, SafeLoader\n",
    "from fhir.resources import construct_fhir_element\n",
    "\n",
    "in_path = Path(r'/Users/ehaas/Documents/FHIR/US-Core/input/examples-yaml')\n",
    "\n",
    "\n",
    "pract_performer =  [\n",
    "        {\n",
    "            \"reference\": \"Practitioner/practitioner-1\",\n",
    "            \"display\": \"Dr Ronald Bone\"\n",
    "        }\n",
    "    ]\n",
    "\n",
    "\n",
    "\n",
    "\n",
    "# def convert(r):\n",
    "\n",
    "#     fhir_test_server = 'http://test.fhir.org/r4'\n",
    "#     #fhir_test_server = 'http://hapi.fhir.org/baseR4'\n",
    "#     #fhir_test_server = 'http://wildfhir4.aegis.net/fhir4-0-1'   \n",
    "#     headers = {\n",
    "#     'Accept':'application/fhir+json',\n",
    "#     'Content-Type':'application/fhir+xml'\n",
    "#     }\n",
    "#     params = {}\n",
    "#     r = post(f'{fhir_test_server}/$convert', params = params, headers = headers, data = r)\n",
    "#     print(r.status_code)\n",
    "#     # view  output\n",
    "#     # return (r.json()[\"text\"][\"div\"])\n",
    "#     return r.json()\n",
    "\n",
    "# def entitle(name):\n",
    "#     x = name.split('-')\n",
    "#     return(' '.join(i.title() for i in x if i != \"example\"))\n",
    "\n",
    "# def enname(name):\n",
    "#     x = name.split('-')\n",
    "#     return(' '.join(i for i in x if i != \"example\"))\n",
    "\n",
    "# def p_name(f):\n",
    "#     #p = loads(f.open().read())\n",
    "#     p=f\n",
    "#     try:\n",
    "#         profile_url = (p['meta']['profile'][0])\n",
    "#         return profile_url.split('/')[-1]\n",
    "#     except KeyError:\n",
    "#         return p['resourceType']\n",
    "\n",
    "\n",
    "for f in Path(in_path).glob('*.yml'):\n",
    "  # print(f)\n",
    "  ex_obj = load(f.read_text(),Loader=SafeLoader)\n",
    "  if ex_obj['resourceType'] == 'DiagnosticReport':\n",
    "    ex_obj =  construct_fhir_element('DiagnosticReport', ex_obj)\n",
    "    # if not ex_obj.resultsInterpreter:\n",
    "    print (ex_obj.id, ex_obj.meta.profile[0])\n",
    "      #  ex_obj.performer = pract_performer\n",
    "      #  f.write_text(ex_obj.yaml(indent=2))\n",
    "\n"
   ]
  },
  {
   "cell_type": "code",
   "execution_count": null,
   "metadata": {},
   "outputs": [],
   "source": [
    "    # print(f\"Observation: {ex_obj['meta']['extension'][0]['valueString']} conforms to {ex_obj['meta']['profile'][0]}\")\n",
    "    if \"performer\" in ex_obj.keys():\n",
    "       \n",
    "       pass\n",
    "        # print(f\"Observation: {ex_obj['meta']['extension'][0]['valueString']} conforms to {ex_obj['meta']['profile'][0]}. performer = {ex_obj['performer']}\")\n",
    "    else:\n",
    "        print(f\"Observation: {ex_obj['meta']['extension'][0]['valueString']} conforms to {ex_obj['meta']['profile'][0]}. no performer \")\n",
    "        ex_obj['performer'] = pract_performer\n",
    "        print(f\"Observation: {ex_obj['meta']['extension'][0]['valueString']} conforms to {ex_obj['meta']['profile'][0]}. performer = {ex_obj['performer']}\")\n",
    "        f.write_text(dump(ex_obj, indent=2, sort_keys=False))\n",
    "\n",
    "        break\n"
   ]
  },
  {
   "cell_type": "code",
   "execution_count": null,
   "metadata": {},
   "outputs": [],
   "source": [
    "  if ex_obj['resourceType'] ==\"Observation\":\n",
    "    # print(f\"Observation: {ex_obj['meta']['extension'][0]['valueString']} conforms to {ex_obj['meta']['profile'][0]}\")\n",
    "    if \"performer\" in ex_obj.keys():\n",
    "       \n",
    "       pass\n",
    "        # print(f\"Observation: {ex_obj['meta']['extension'][0]['valueString']} conforms to {ex_obj['meta']['profile'][0]}. performer = {ex_obj['performer']}\")\n",
    "    else:\n",
    "        print(f\"Observation: {ex_obj['meta']['extension'][0]['valueString']} conforms to {ex_obj['meta']['profile'][0]}. no performer \")\n",
    "        ex_obj['performer'] = pract_performer\n",
    "        print(f\"Observation: {ex_obj['meta']['extension'][0]['valueString']} conforms to {ex_obj['meta']['profile'][0]}. performer = {ex_obj['performer']}\")\n",
    "        f.write_text(dump(ex_obj, indent=2, sort_keys=False))\n",
    "\n",
    "        break\n"
   ]
  },
  {
   "cell_type": "code",
   "execution_count": null,
   "metadata": {},
   "outputs": [],
   "source": [
    "\n",
    "    try:\n",
    "     print(dumps(dict_data['meta'], indent=3 ))\n",
    "    except KeyError:\n",
    "        dict_data['meta'] = {}\n",
    "    \n",
    "    print(f, type(f), f.stem, entitle(f.stem) + ' Example')\n",
    "    ext_1[0]['valueString'] = entitle(f.stem) + ' Example'\n",
    "    print(ext_1)\n",
    "    ext_1[1]['valueMarkdown'] = f'This is a {enname(f.stem)} example for the *{entitle(p_name(dict_data))} Profile*.'\n",
    "    dict_data['meta']['extension'] = ext_1\n",
    "    print(dumps(dict_data['meta'], indent=3))\n",
    "    print(dumps(dict_data, indent=3))\n",
    "    print('===========================================================')\n",
    "    f.open('w').write(dumps(dict_data, indent=3))\n",
    "    '''\n",
    "    # change to json\n",
    "    print(dumps(convert(data),indent=3))\n",
    "    dict_data = convert(data)\n",
    "    f.open('w').write(dumps(dict_data, indent=3))\n",
    "    print(f.parent,type(f.parent), f.name,type(f.name), f.suffix)\n",
    "    new_name = f\"{str(f.parent)}\\{f.stem}.json\"\n",
    "    print(str(f),new_name)\n",
    "    f.rename(new_name)\n",
    "    '''    \n"
   ]
  },
  {
   "cell_type": "code",
   "execution_count": null,
   "metadata": {},
   "outputs": [],
   "source": []
  }
 ],
 "metadata": {
  "kernelspec": {
   "display_name": "jupyter",
   "language": "python",
   "name": "python3"
  },
  "language_info": {
   "codemirror_mode": {
    "name": "ipython",
    "version": 3
   },
   "file_extension": ".py",
   "mimetype": "text/x-python",
   "name": "python",
   "nbconvert_exporter": "python",
   "pygments_lexer": "ipython3",
   "version": "3.10.2"
  }
 },
 "nbformat": 4,
 "nbformat_minor": 4
}
