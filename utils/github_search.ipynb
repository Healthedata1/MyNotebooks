{
 "cells": [
  {
   "cell_type": "markdown",
   "metadata": {},
   "source": [
    "# Github API to Search for FHIR Profiles\n",
    "\n",
    "The Github API is documented here: https://docs.github.com/en/rest/search and the specific code (e.g, file) search here: https://docs.github.com/en/search-github/searching-on-github/searching-code\n",
    "\n",
    "This script uses the Github API to Search for FHIR Profiles. It is base on this [tutorial](https://python.gotrained.com/search-github-api/#Search_Files) which go over the setup and how to search for files in a repository using keywords. For searching for FHIR Profiles (Structurdefinition files) in Github the script hardcodes the organization to \"HL7\" and the typical Implementation Guide file paths as shown below.  The keywords are user input at runtime.  For searching for **xml and json** files the keywords and path I used are:\n",
    "\n",
    "- path: \"input/resources\"\n",
    "- keywords: \"differential\" {Type}(e.g., \"ServiceRequest)\n",
    "\n",
    "For searching for **fsh** files is separate search. The keywords and path I used are:\n",
    "\n",
    "- path: \"input/fsh\"\n",
    "- keywords: \"Profile\" {Type}(e.g., \"ServiceRequest)\n",
    "\n",
    "The result of the search is a list of URLs. This is a crude search casting a broad net that includes many more types of fhir resources than StructureDefinition files (Profiles).  You can use the URLS to download files and filter out what you want. I use the Requests library to download the files, create fhir_objects and filter out the Structuredefinition files that I am interested.  This is demonstrated here.\n",
    "\n",
    "If you try to search across all of GitHub you may get a \"secondary rate limit\" like I did.\n"
   ]
  },
  {
   "cell_type": "code",
   "execution_count": 24,
   "metadata": {
    "ExecuteTime": {
     "end_time": "2018-06-02T20:09:14.509720Z",
     "start_time": "2018-06-02T20:09:14.399008Z"
    }
   },
   "outputs": [],
   "source": [
    "# Import required modules\n",
    "import time\n",
    "# import csv\n",
    "# from json import dumps\n",
    "from github import Github"
   ]
  },
  {
   "cell_type": "code",
   "execution_count": 25,
   "metadata": {
    "ExecuteTime": {
     "end_time": "2018-06-02T20:09:15.866468Z",
     "start_time": "2018-06-02T20:09:15.863341Z"
    }
   },
   "outputs": [],
   "source": [
    "# Paste your Access token here\n",
    "# To create an access token - https://github.com/settings/tokens\n",
    "ACCESS_TOKEN =  \"--------------\"  #### don't save this to GitHub or it will be compromised and unusable\n",
    "\n",
    "g = Github(ACCESS_TOKEN)"
   ]
  },
  {
   "cell_type": "code",
   "execution_count": 26,
   "metadata": {},
   "outputs": [
    {
     "name": "stdout",
     "output_type": "stream",
     "text": [
      "<github.PaginatedList.PaginatedList object at 0x106cb39a0>\n"
     ]
    }
   ],
   "source": [
    "# check if the token is valid\n",
    "print(g.get_user().get_repos())"
   ]
  },
  {
   "cell_type": "code",
   "execution_count": 27,
   "metadata": {},
   "outputs": [
    {
     "name": "stdout",
     "output_type": "stream",
     "text": [
      "You have 27/30 API calls remaining\n",
      "Searching for Profile Coverage+ org:HL7 path:input/fsh\n",
      "Found 75 file(s)\n",
      "https://raw.githubusercontent.com/HL7/carin-bb/0759f4ee87cc738c312d9811d694fac6a3563b0d/input/fsh/CoverageProfile.fsh\n",
      "https://raw.githubusercontent.com/HL7/carin-digital-insurance-card/06ed9d9b9b99fba17e6cedd36d3722cc924b4d9b/input/fsh/CoverageProfile.fsh\n",
      "https://raw.githubusercontent.com/HL7/davinci-pct/6e5af9d97051035c417c683b78641add6c6d7f66/input/fsh/pct_coverage.fsh\n",
      "https://raw.githubusercontent.com/HL7/carin-digital-insurance-card/09247529534e7bb9704e2c54408c909e451d7946/input/fsh/scripts/capabilitystatement-c4dic.json\n",
      "https://raw.githubusercontent.com/HL7/carin-digital-insurance-card/09247529534e7bb9704e2c54408c909e451d7946/input/fsh/scripts/Narrative-capabilitystatement-c4dic.json\n",
      "https://raw.githubusercontent.com/HL7/carin-bb/2191ed033bb0997762a9adc47496dfadffe94cdc/input/fsh/DEF_VersionInvariants.fsh\n",
      "https://raw.githubusercontent.com/HL7/davinci-pdex-formulary/7b430f769cffcb09b54a3700a7fc90a4163b98af/input/fsh/Formulary.fsh\n",
      "https://raw.githubusercontent.com/HL7/davinci-epdx/f1c284705b6d1897cb4395e82763edcd1f6f7836/input/fsh/PDexCoverage.fsh\n",
      "https://raw.githubusercontent.com/HL7/carin-digital-insurance-card/4b01e73e99513ca711c935d55fc0c2bbde54234c/input/fsh/PatientProfile.fsh\n",
      "https://raw.githubusercontent.com/HL7/fhir-directory-query/e4ec683eaf840ae21ff2f7d1a5ca6e2a243e283a/input/fsh/cap-statements.fsh\n",
      "https://raw.githubusercontent.com/HL7/carin-bb/2191ed033bb0997762a9adc47496dfadffe94cdc/input/fsh/EOBBaseProfile.fsh\n",
      "https://raw.githubusercontent.com/HL7/fhir-directory-exchange/67efd1672547be50b87209fe42e91faaad8f0ecc/input/fsh/cap-statements.fsh\n",
      "https://raw.githubusercontent.com/HL7/carin-digital-insurance-card/907c96c943e0caf981d8b2681e0b04c1aff77e98/input/fsh/scripts/test.html\n",
      "https://raw.githubusercontent.com/HL7/davinci-pas/b23807354a98fdd54ee9eab8e9a7cf5ecab341a3/input/fsh/Coverage.fsh\n",
      "https://raw.githubusercontent.com/HL7/davinci-dtr/bf03a58434227a80a566bdc56a36d0211ef6e332/input/fsh/DTRCoverageR4.fsh\n",
      "https://raw.githubusercontent.com/HL7/carin-bb/2191ed033bb0997762a9adc47496dfadffe94cdc/input/fsh/examples/CoverageDental1.fsh\n",
      "https://raw.githubusercontent.com/HL7/carin-bb/0759f4ee87cc738c312d9811d694fac6a3563b0d/input/fsh/Examples.fsh.old\n",
      "https://raw.githubusercontent.com/HL7/davinci-pdex-formulary/4b4cf1df351efe84b192905fb0af2b2b6f482a47/input/fsh/ExamplesGraphDefinition.fsh\n",
      "https://raw.githubusercontent.com/HL7/carin-bb/2191ed033bb0997762a9adc47496dfadffe94cdc/input/fsh/examples/Coverage1.fsh\n",
      "https://raw.githubusercontent.com/HL7/carin-bb/2191ed033bb0997762a9adc47496dfadffe94cdc/input/fsh/examples/Coverage2.fsh\n",
      "https://raw.githubusercontent.com/HL7/fhir-directory-exchange/67efd1672547be50b87209fe42e91faaad8f0ecc/input/fsh/cap-statement-rulesets.fsh\n",
      "https://raw.githubusercontent.com/HL7/carin-bb/2191ed033bb0997762a9adc47496dfadffe94cdc/input/fsh/examples/Coverage3.fsh\n",
      "https://raw.githubusercontent.com/HL7/fhir-directory-query/b0d0b597bb619ed7da85cc8c17f2c78d2edff694/input/fsh/cap-statement-rulesets-complete.fsh\n",
      "https://raw.githubusercontent.com/HL7/davinci-pdex-plan-net/8e6f6ff02bad6481a26cbb3d58e094e2f609af8b/input/fsh/PlanNet.fsh\n",
      "https://raw.githubusercontent.com/HL7/fhir-directory-query/3a4ffab31a810e4ff28852fd4b63093e7032d91b/input/fsh/cap-statement-rulesets.fsh\n",
      "https://raw.githubusercontent.com/HL7/fhir-directory-exchange/5dd8c824bcb58a9e8cb41367544c411a6edc159b/input/fsh/cap-statement-rulesets-complete.fsh\n",
      "https://raw.githubusercontent.com/HL7/fhir-directory-query/b5ea4148a5a70f35608136f97e5a0ae1e5f71164/input/fsh/NatlDirectoryQueryCompleteProfiles.fsh\n",
      "https://raw.githubusercontent.com/HL7/davinci-epdx/d9d83d918cc146ffd151667411da731208fa2bec/input/fsh/HrexCoverageExample.fsh\n",
      "https://raw.githubusercontent.com/HL7/fhir-directory-query/79577607286dedd79a60cdaa20730ef4d6228ec3/input/fsh/NatlDirectoryQuery.fsh\n",
      "https://raw.githubusercontent.com/HL7/davinci-epdx/b3ac85bbf29ab434870133a5cddd2a420fd4015b/input/fsh/ProfilePdexPriorAuthorization.fsh\n",
      "https://raw.githubusercontent.com/HL7/davinci-epdx/c5992799e6605d464d19f46b1eaceb38be23c833/input/fsh/ExamplePriorAuthEOB.fsh\n",
      "https://raw.githubusercontent.com/HL7/davinci-epdx/f0a35f72e01cb9e6a807a60ee9dbacaf3ddc52e3/input/fsh/PdexCapabilityStatementClient.fsh.ignore\n",
      "https://raw.githubusercontent.com/HL7/davinci-epdx/dccefcc4fc8fd812c4f3b0fab8e8f2bfaaf9a06e/input/fsh/OperationPatient-payer-member-match.fsh.ignore\n",
      "https://raw.githubusercontent.com/HL7/genomics-reporting/aa820d53ffcd94885fcb3f0a6d6142b9cf7f38c5/input/fsh/CGFindings.fsh\n",
      "https://raw.githubusercontent.com/HL7/carin-bb/dd8738651f43a7c6faba6c4cff07524478c6a1ba/input/fsh/scripts/buildCPCDStables.rb\n",
      "https://raw.githubusercontent.com/HL7/carin-digital-insurance-card/0829b565654d8dd55f31b85bb6fcdfa73481a523/input/fsh/scripts/buildCPCDStables.rb\n",
      "https://raw.githubusercontent.com/HL7/carin-digital-insurance-card/57c635176d6aa8fef54b8f04758fcd124c833d3a/input/fsh/Examples.fsh\n",
      "https://raw.githubusercontent.com/HL7/davinci-pdex-formulary/4b4cf1df351efe84b192905fb0af2b2b6f482a47/input/fsh/scripts/Narrative-CapabilityStatement-usdf-server.json\n",
      "https://raw.githubusercontent.com/HL7/davinci-pdex-formulary/4b4cf1df351efe84b192905fb0af2b2b6f482a47/input/fsh/scripts/CapabilityStatement-usdf-server.json\n",
      "https://raw.githubusercontent.com/HL7/carin-digital-insurance-card/c87eedae102163f9ee1b180fc43d26c6bd4b75ed/input/fsh/OrganizationProfile.fsh\n",
      "https://raw.githubusercontent.com/HL7/davinci-epdx/f0a35f72e01cb9e6a807a60ee9dbacaf3ddc52e3/input/fsh/PdexCapabilityStatementServer.fsh.ignore\n",
      "https://raw.githubusercontent.com/HL7/davinci-epdx/f1c284705b6d1897cb4395e82763edcd1f6f7836/input/fsh/ExamplePDexServerCapabilityStatement.fsh\n",
      "https://raw.githubusercontent.com/HL7/fhir-directory-exchange/c889857f4bc07e60b0e2322d6bffaedb793df6f7/input/fsh/NatlDirectory.fsh\n",
      "https://raw.githubusercontent.com/HL7/davinci-pct/e6fd53b4d1395efdf09bf1ed5a6269d6eb936173/input/fsh/pct_gfe_professional.fsh\n",
      "https://raw.githubusercontent.com/HL7/fhir-directory-attestation/5302e6e0910502659902378a211bb1101f4bd027/input/fsh/examples/InsurancePlan-AcmeQHPBronze.fsh\n",
      "https://raw.githubusercontent.com/HL7/fhir-directory-attestation/4771c5e6cb42849a23aa6b2b14952e98dbffc355/input/fsh/examples/InsurancePlan-AcmeQHPGold.fsh\n",
      "https://raw.githubusercontent.com/HL7/fhir-directory-attestation/4771c5e6cb42849a23aa6b2b14952e98dbffc355/input/fsh/examples/InsurancePlan-AcmeQHPSilver.fsh\n",
      "https://raw.githubusercontent.com/HL7/carin-bb/2191ed033bb0997762a9adc47496dfadffe94cdc/input/fsh/examples/EOBOral1.fsh\n",
      "https://raw.githubusercontent.com/HL7/davinci-pct/e6fd53b4d1395efdf09bf1ed5a6269d6eb936173/input/fsh/pct_gfe_institutional.fsh\n",
      "https://raw.githubusercontent.com/HL7/carin-bb/2191ed033bb0997762a9adc47496dfadffe94cdc/input/fsh/examples/EOBOral2.fsh\n",
      "https://raw.githubusercontent.com/HL7/carin-bb/2191ed033bb0997762a9adc47496dfadffe94cdc/input/fsh/examples/EOBOutpatient2.fsh\n",
      "https://raw.githubusercontent.com/HL7/davinci-pdex-formulary/23650112c612c2dbfa907dc44999a8af626b3d1f/input/fsh/Examples3002.fsh\n",
      "https://raw.githubusercontent.com/HL7/davinci-pdex-formulary/23650112c612c2dbfa907dc44999a8af626b3d1f/input/fsh/Examples3001.fsh\n",
      "https://raw.githubusercontent.com/HL7/davinci-pas/f10a734cda36d1f3599b180ab82ad05aefe2d407/input/fsh/Claim.fsh\n",
      "https://raw.githubusercontent.com/HL7/carin-bb/2191ed033bb0997762a9adc47496dfadffe94cdc/input/fsh/examples/EOBProfessionalTransportation1.fsh\n",
      "https://raw.githubusercontent.com/HL7/davinci-pct/a22aa1dbef424542fac24d4e8b4c2a89275fe618/input/fsh/pct_advanced_eob.fsh\n",
      "https://raw.githubusercontent.com/HL7/carin-bb/2191ed033bb0997762a9adc47496dfadffe94cdc/input/fsh/EOBPharmacyProfile.fsh\n",
      "https://raw.githubusercontent.com/HL7/davinci-pdex-formulary/7b430f769cffcb09b54a3700a7fc90a4163b98af/input/fsh/Examples1002.fsh\n",
      "https://raw.githubusercontent.com/HL7/carin-bb/2191ed033bb0997762a9adc47496dfadffe94cdc/input/fsh/examples/EOBProfessional1.fsh\n",
      "https://raw.githubusercontent.com/HL7/davinci-pct/a22aa1dbef424542fac24d4e8b4c2a89275fe618/input/fsh/examples/pct_aeob_instances.fsh\n",
      "https://raw.githubusercontent.com/HL7/carin-bb/2191ed033bb0997762a9adc47496dfadffe94cdc/input/fsh/examples/EOBProfessional2.fsh\n",
      "https://raw.githubusercontent.com/HL7/davinci-pdex-plan-net/ff0e2cc3e3189dbaf833ccf91f428cf7b380e583/input/fsh/ValueSets.fsh\n",
      "https://raw.githubusercontent.com/HL7/fhir-directory-attestation/5302e6e0910502659902378a211bb1101f4bd027/input/fsh/NatlDirectory.fsh\n",
      "https://raw.githubusercontent.com/HL7/carin-bb/2191ed033bb0997762a9adc47496dfadffe94cdc/input/fsh/examples/EOBOutpatient1.fsh\n",
      "https://raw.githubusercontent.com/HL7/carin-bb/2191ed033bb0997762a9adc47496dfadffe94cdc/input/fsh/examples/EOBPharmacy1.fsh\n",
      "https://raw.githubusercontent.com/HL7/carin-bb/2191ed033bb0997762a9adc47496dfadffe94cdc/input/fsh/examples/EOBInpatient1.fsh\n",
      "https://raw.githubusercontent.com/HL7/fhir-directory-query/79577607286dedd79a60cdaa20730ef4d6228ec3/input/fsh/ValueSets.fsh\n",
      "https://raw.githubusercontent.com/HL7/genomics-reporting/e3ce5350320ba252da5595bfe8e615067b0113d3/input/fsh/CGExamples.fsh\n",
      "https://raw.githubusercontent.com/HL7/carin-bb/2191ed033bb0997762a9adc47496dfadffe94cdc/input/fsh/examples/EOBInpatient2.fsh\n",
      "https://raw.githubusercontent.com/HL7/davinci-dtr/cdff17a9decd7ffcb236c2f410f7f05bb863fb1b/input/fsh/examples/HomeOxygenQuestionnaireResponse.fsh\n",
      "https://raw.githubusercontent.com/HL7/FHIR-IG-Human-Services-Directory/9be95bc6a434e4b6fd290add64f021440197da2e/input/fsh/hsdshealthcareservice.fsh\n",
      "https://raw.githubusercontent.com/HL7/fhir-registry-protocols-ig/3fdda7e0ddf35897f7fa2a93bea569b4dfb839ff/input/fsh/Cath-PCI-SD-Example.fsh\n",
      "https://raw.githubusercontent.com/HL7/davinci-pdex-formulary/23650112c612c2dbfa907dc44999a8af626b3d1f/input/fsh/Examples3004t.fsh\n",
      "https://raw.githubusercontent.com/HL7/fhir-directory-query/1b3aa6f19191fb22a2a7cad8ce09a131b219c7a8/input/fsh/Extensions.fsh\n",
      "https://raw.githubusercontent.com/HL7/fhir-registry-protocols-ig/9ddeef37a722d60e2808856bfb22c38e3388ecee/input/fsh/Cath-PCI-SD-Example-detailed.fsh\n"
     ]
    }
   ],
   "source": [
    "def search_github(keywords):\n",
    "    rate_limit = g.get_rate_limit() # (For requests using Basic Authentication, OAuth, or client ID and secret, you can make up to 30 requests per minute)  \n",
    "    rate = rate_limit.search\n",
    "    if rate.remaining == 0:\n",
    "        print(f'You have 0/{rate.limit} API calls remaining. Reset time: {rate.reset}')\n",
    "        return\n",
    "    else:\n",
    "        print(f'You have {rate.remaining}/{rate.limit} API calls remaining')\n",
    "\n",
    "    #query = '+'.join(keywords) + '+ org:HL7 path:input/resources' # for xml and json\n",
    "    query = '+'.join(keywords) + '+ org:HL7 path:input/fsh' # for fsh\n",
    "    print(f'Searching for {query}')\n",
    "    result = g.search_code(query, order='desc')\n",
    "\n",
    "    max_size = 100\n",
    "    print(f'Found {result.totalCount} file(s)')\n",
    "    if result.totalCount > max_size:\n",
    "        result = result[:max_size]\n",
    " \n",
    "    for file in result:\n",
    "        print(f'{file.download_url}')\n",
    "\n",
    "keywords = input('Enter keyword(s)[e.g \"differential\", \"ServiceRequest\"]: ')\n",
    "keywords = [keyword.strip() for keyword in keywords.split(',')]\n",
    "search_github(keywords)"
   ]
  },
  {
   "cell_type": "code",
   "execution_count": null,
   "metadata": {},
   "outputs": [],
   "source": []
  }
 ],
 "metadata": {
  "kernelspec": {
   "display_name": "Python 3.10.2 64-bit ('jupyter')",
   "language": "python",
   "name": "python3"
  },
  "language_info": {
   "codemirror_mode": {
    "name": "ipython",
    "version": 3
   },
   "file_extension": ".py",
   "mimetype": "text/x-python",
   "name": "python",
   "nbconvert_exporter": "python",
   "pygments_lexer": "ipython3",
   "version": "3.10.2"
  },
  "notify_time": "5",
  "vscode": {
   "interpreter": {
    "hash": "18672f2fb81dcbb023a0ac48a86c775a19488782369d96ffbd3382a22fd285cf"
   }
  }
 },
 "nbformat": 4,
 "nbformat_minor": 2
}
