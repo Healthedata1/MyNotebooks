{
 "cells": [
  {
   "cell_type": "markdown",
   "metadata": {},
   "source": [
    "### remove duplicate items from link list\n",
    "\n",
    "- fetch link list files from in_path\n",
    "- deduplicate items from link list\n",
    "- save back to in_path\n"
   ]
  },
  {
   "cell_type": "code",
   "execution_count": 1,
   "metadata": {},
   "outputs": [
    {
     "data": {
      "text/plain": [
       "(103,\n",
       " ['<!-- FHIR Core Resources -->',\n",
       "  '{% include r4-link-list.md %}',\n",
       "  '<!-- IG Pages (Including IG Artifacts -->',\n",
       "  '{% include page-link-list.md %}'])"
      ]
     },
     "execution_count": 1,
     "metadata": {},
     "output_type": "execute_result"
    }
   ],
   "source": [
    "from pathlib import Path\n",
    "\n",
    "#'/Users/ehaas/Documents/FHIR/US-Core/input/includes/link-list.md'\n",
    "\n",
    "# in_path = Path(r'/Users/ehaas/Documents/FHIR/US-Core/input/includes/')\n",
    "in_path = Path(r'/Users/ehaas/Documents/FHIR/davinci-alerts/input/includes/')\n",
    "\n",
    "link_list = in_path / \"link-list.md\"\n",
    "link_list = link_list.read_text()\n",
    "includes = link_list.split(\"\\n\")[0:4]\n",
    "link_list = link_list.split(\"\\n\")[4:]\n",
    "\n",
    "len(link_list), includes"
   ]
  },
  {
   "cell_type": "code",
   "execution_count": null,
   "metadata": {},
   "outputs": [
    {
     "data": {
      "text/plain": [
       "133"
      ]
     },
     "execution_count": 7,
     "metadata": {},
     "output_type": "execute_result"
    }
   ],
   "source": [
    "page_link_list = in_path / \"page-link-list.md\"\n",
    "page_link_list = page_link_list.read_text()\n",
    "page_link_list = page_link_list.split(\"\\n\")\n",
    "len(page_link_list)"
   ]
  },
  {
   "cell_type": "code",
   "execution_count": 8,
   "metadata": {},
   "outputs": [
    {
     "data": {
      "text/plain": [
       "145"
      ]
     },
     "execution_count": 8,
     "metadata": {},
     "output_type": "execute_result"
    }
   ],
   "source": [
    "r4_link_list = in_path / \"r4-link-list.md\"\n",
    "r4_link_list = r4_link_list.read_text()\n",
    "r4_link_list = r4_link_list.split(\"\\n\")\n",
    "\n",
    "len(r4_link_list)"
   ]
  },
  {
   "cell_type": "code",
   "execution_count": 14,
   "metadata": {},
   "outputs": [
    {
     "name": "stdout",
     "output_type": "stream",
     "text": [
      "<!-- FHIR Core Resources -->\n",
      "{% include r4-link-list.md %}\n",
      "<!-- IG Pages (Including IG Artifacts -->\n",
      "{% include page-link-list.md %}\n",
      "[\"black box\"]: https://en.wikipedia.org/wiki/Black_box\n",
      "[2019 CMS 45 CFR Part 156 NPRM]: https://www.federalregister.gov/d/2020-05050\n",
      "[Admit Notification Intermediate Transmit Bundle]:Bundle-admit-notification-intermediate-transmit-bundle.html\n",
      "[Alternate Reference]: http://hl7.org/fhir/StructureDefinition/alternate-reference\n",
      "[Argonaut Clinical Data Subscriptions]: http://argonautwiki.hl7.org/index.php?title=Argonaut_2019_Projects#Clinical_Data_Subscriptions\n",
      "[Basic Provenance for HIE Redistribution and Transformation]: {{site.data.fhir.uscore7}}/basic-provenance.html#hie-redistribution\n",
      "[Bundle Admit Notification Message Bundle 01]: Bundle-admit-notification-message-bundle-01.html\n",
      "[Bundle Discharge Notification Message Bundle 01]: Bundle-discharge-notification-message-bundle-01.html\n",
      "[Bundle]: {{site.data.fhir.path}}bundle.html\n",
      "[Capability Statements]: artifacts.html#1\n",
      "[Da Vinci Admit Notification Message Definition]: MessageDefinition-notification-admit.html\n",
      "[Da Vinci Discharge Notification Message Definition]: MessageDefinition-notification-discharge.html\n",
      "[Da Vinci Health Record Exchange (HRex)]: http://hl7.org/fhir/us/davinci-hrex/index.html\n",
      "[Da Vinci Notification Event CodeSystem]: CodeSystem-notification-event.html\n",
      "[Da Vinci Notifications CapabilityStatements]: capstatements.html\n",
      "[Da Vinci Notifications GraphDefinition Profile]: StructureDefinition-notifications-graphdefinition.html\n",
      "[Da Vinci Notifications MessageDefinition Profile]: StructureDefinition-notifications-messagedefinition.html\n",
      "[Da Vinci Notifications Must Support Extension]: StructureDefinition-extension-mustSupport.html\n",
      "[Da Vinci]: http://www.hl7.org/about/davinci/index.cfm?ref=common\n",
      "[Discharge disposition]: http://hl7.org/fhir/ValueSet/encounter-discharge-disposition\n",
      "[Downloads]: downloads.html \"Downloads Page\"\n",
      "[Dynamic Registration for SMART Apps]: http://www.udap.org/udap-dynamic-client-registration.html\n",
      "[ElementDefinition.mustSupport]: {{site.data.fhir.path}}elementdefinition-definitions.html#ElementDefinition.mustSupport\n",
      "[Endpoint]: {{site.data.fhir.path}}bundle.html\n",
      "[Example Transaction]: usecases.html#example-transaction\n",
      "[Examples Transactions]: usecases.html#example-transactions\n",
      "[Examples]: artifacts.html#5\n",
      "[FHIR Artifacts]: artifacts.html\n",
      "[FHIR Bulk Data Access (Flat FHIR)]: http://hl7.org/fhir/uv/bulkdata/STU1/\n",
      "[FHIR Data Segmentation for Privacy project]: https://www.hl7.org/special/Committees/projman/searchableProjectIndex.cfm?action=edit&ProjectNumber=1549\n",
      "[FHIR Messaging paradigm]: {{site.data.fhir.path}}messaging.html\n",
      "[FHIR R4 core]: {{site.data.fhir.path}}fhir-spec.zip\n",
      "[FHIR R5 MessageHeader]: http://hl7.org/fhir/R5/messageheader.html\n",
      "[FHIR RESTful operation]: {{site.data.fhir.path}}operations.html\n",
      "[FHIR Subscription Based Notification]: guidance.html#fhir-subscription-based-notification\n",
      "[FHIR at Scale Taskforce (FAST)]: https://confluence.hl7.org/display/FAST/FAST+Projects\n",
      "[FHIR core downloads]: {{site.data.fhir.path}}downloads.html\n",
      "[FHIR message Bundle]: {{site.data.fhir.path}}bundle.html#message\n",
      "[FHIR messaging]: {{site.data.fhir.path}}messaging.html\n",
      "[FHIR security guidance]:{{site.data.fhir.path}}security.html\n",
      "[Formal Profile Definition]: #profile\n",
      "[Framework]: guidance.html  \"General Framework Page\"\n",
      "[HL7 Da Vinci Guiding Principles]: https://confluence.hl7.org/display/DVP/Da+Vinci+Clinical+Advisory+Council+Members?preview=/66940155/66942916/Guiding%20Principles%20for%20Da%20Vinci%20Implementation%20Guides.pdf\n",
      "[HRex Organization Profile]: {{site.data.fhir.hrex}}/StructureDefinition-hrex-organization.html\n",
      "[HRex Security and Privacy]: {{site.data.fhir.hrex}}/security.html\n",
      "[Hybrid/Intermediary Exchange Implementation Guide]: http://hl7.org/fhir/us/exchange-routing/index.html\n",
      "[IG Home]: index.html \"Home Page\"\n",
      "[Infrastructure and Messaging (INM)]: http://www.hl7.org/Special/committees/inm/index.cfm\n",
      "[Message Definitions]: bundles.html \"Bundle Definitions Page\"\n",
      "[Messageheader Admit Notification Messageheader 01]: MessageHeader-admit-notification-messageheader-01.html\n",
      "[Messageheader Discharge Notification Messageheader 01]: MessageHeader-discharge-notification-messageheader-01.html\n",
      "[Must Support]: guidance.html#must-support\n",
      "[MustSupport flag]: {{site.data.fhir.path}}profiling.html#mustsupport\n",
      "[NotificationAdmitDischarge]: GraphDefinition-admit-discharge.html\n",
      "[Operations]: artifacts.html\n",
      "[Profiles]: artifacts.html#2\n",
      "[Profiling]: {{site.data.fhir.path}}profiling.html\n",
      "[Propose a Change]: https://jira.hl7.org/issues/?filter=12844&jql=project%20%3D%20FHIR%20AND%20Specification%20%3D%20%22US%20Da%20Vinci%20Alerts%20(FHIR)%20%5BFHIR-us-davinci-alerts%5D%22\n",
      "[Push Alert Notification]: guidance.html#push-alert-notification\n",
      "[R5 cross-version extension]: {{site.data.fhir.path}}security.html\n",
      "[SMART Application Launch Framework Implementation Guide Release 1.0.0]: http://www.hl7.org/fhir/smart-app-launch/\n",
      "[SMART Backend Services]: https://www.hl7.org/fhir/smart-app-launch/backend-services.html#backend-services\n",
      "[Standard error responses]: {{site.data.fhir.path}}messageheader-operation-process-message.html\n",
      "[Terminology]: artifacts.html#3\n",
      "[US Core Condition Encounter Diagnosis Profile]: {{site.data.fhir.uscore7}}StructureDefinition-us-core-condition-encounter-diagnosis.html\n",
      "[US Core Encounter Profile]: {{site.data.fhir.uscore7}}StructureDefinition-us-core-encounter.html\n",
      "[US Core Location Profile]: {{site.data.fhir.uscore7}}StructureDefinition-us-core-location.html\n",
      "[US Core Must Support]: {{site.data.fhir.uscore7}}/must-support.html\n",
      "[US Core Patient Profile]: {{site.data.fhir.uscore7}}StructureDefinition-us-core-patient.html\n",
      "[US Core Provenance Profile]: {{site.data.fhir.uscore7}}/StructureDefinition-us-core-provenance.html\n",
      "[US Core guidance]: {{site.data.fhir.uscore7}}/StructureDefinition-us-core-condition-encounter-diagnosis.html#mandatory-and-must-support-data-elements\n",
      "[US Core]: {{site.data.fhir.uscore7}}/index.html\n",
      "[V3 Value SetActEncounterCode]: http://terminology.hl7.org/ValueSet/v3-ActEncounterCode\n",
      "[`$process-message`]: {{site.data.fhir.path}}messageheader-operation-process-message.html\n",
      "[`collection`]: {{site.data.fhir.path}}http.html#collection\n",
      "[aggregation]: {{site.data.fhir.path}}elementdefinition-definitions.html#ElementDefinition.type.aggregation\n",
      "[figure 9]: usecases.html#figure-9\n",
      "[instructions on how to use it]: https://confluence.hl7.org/display/FHIR/Using+the+FHIR+Validator\n",
      "[notifications by messaging]: {{site.data.fhir.path}}subscription.html#messaging\n",
      "[operation]: {{site.data.fhir.path}}operations.html\n",
      "[reliable delivery]: {{site.data.fhir.path}}messaging.html#reliable\n",
      "[validator]: https://fhir.github.io/latest-ig-validator/org.hl7.fhir.validator.jar\n"
     ]
    }
   ],
   "source": [
    "new_link_list = [x for x in link_list if x not in page_link_list] #or x not in r4_link_list]\n",
    "new_link_list = [x for x in new_link_list if x not in r4_link_list]\n",
    "new_link_list = includes + sorted(new_link_list)\n",
    "# print(len(new_link_list))\n",
    "print('\\n'.join(new_link_list))"
   ]
  },
  {
   "cell_type": "code",
   "execution_count": 12,
   "metadata": {},
   "outputs": [
    {
     "data": {
      "text/plain": [
       "['<!-- FHIR Core Resources -->',\n",
       " '{% include r4-link-list.md %}',\n",
       " '<!-- IG Pages (Including IG Artifacts -->',\n",
       " '{% include page-link-list.md %}',\n",
       " '[\"black box\"]: https://en.wikipedia.org/wiki/Black_box',\n",
       " '[2019 CMS 45 CFR Part 156 NPRM]: https://www.federalregister.gov/d/2020-05050',\n",
       " '[Admit Notification Intermediate Transmit Bundle]:Bundle-admit-notification-intermediate-transmit-bundle.html',\n",
       " '[Alternate Reference]: http://hl7.org/fhir/StructureDefinition/alternate-reference',\n",
       " '[Argonaut Clinical Data Subscriptions]: http://argonautwiki.hl7.org/index.php?title=Argonaut_2019_Projects#Clinical_Data_Subscriptions',\n",
       " '[Basic Provenance for HIE Redistribution and Transformation]: {{site.data.fhir.uscore7}}/basic-provenance.html#hie-redistribution',\n",
       " '[Bundle Admit Notification Message Bundle 01]: Bundle-admit-notification-message-bundle-01.html',\n",
       " '[Bundle Discharge Notification Message Bundle 01]: Bundle-discharge-notification-message-bundle-01.html',\n",
       " '[Bundle]: {{site.data.fhir.path}}bundle.html',\n",
       " '[Capability Statements]: artifacts.html#1',\n",
       " '[Da Vinci Admit Notification Message Definition]: MessageDefinition-notification-admit.html',\n",
       " '[Da Vinci Discharge Notification Message Definition]: MessageDefinition-notification-discharge.html',\n",
       " '[Da Vinci Health Record Exchange (HRex)]: http://hl7.org/fhir/us/davinci-hrex/index.html',\n",
       " '[Da Vinci Notification Event CodeSystem]: CodeSystem-notification-event.html',\n",
       " '[Da Vinci Notifications CapabilityStatements]: capstatements.html',\n",
       " '[Da Vinci Notifications GraphDefinition Profile]: StructureDefinition-notifications-graphdefinition.html',\n",
       " '[Da Vinci Notifications MessageDefinition Profile]: StructureDefinition-notifications-messagedefinition.html',\n",
       " '[Da Vinci Notifications Must Support Extension]: StructureDefinition-extension-mustSupport.html',\n",
       " '[Da Vinci]: http://www.hl7.org/about/davinci/index.cfm?ref=common',\n",
       " '[Discharge disposition]: http://hl7.org/fhir/ValueSet/encounter-discharge-disposition',\n",
       " '[Downloads]: downloads.html \"Downloads Page\"',\n",
       " '[Dynamic Registration for SMART Apps]: http://www.udap.org/udap-dynamic-client-registration.html',\n",
       " '[ElementDefinition.mustSupport]: {{site.data.fhir.path}}elementdefinition-definitions.html#ElementDefinition.mustSupport',\n",
       " '[Endpoint]: {{site.data.fhir.path}}bundle.html',\n",
       " '[Example Transaction]: usecases.html#example-transaction',\n",
       " '[Examples Transactions]: usecases.html#example-transactions',\n",
       " '[Examples]: artifacts.html#5',\n",
       " '[FHIR Artifacts]: artifacts.html',\n",
       " '[FHIR Bulk Data Access (Flat FHIR)]: http://hl7.org/fhir/uv/bulkdata/STU1/',\n",
       " '[FHIR Data Segmentation for Privacy project]: https://www.hl7.org/special/Committees/projman/searchableProjectIndex.cfm?action=edit&ProjectNumber=1549',\n",
       " '[FHIR Messaging paradigm]: {{site.data.fhir.path}}messaging.html',\n",
       " '[FHIR R4 core]: {{site.data.fhir.path}}fhir-spec.zip',\n",
       " '[FHIR R5 MessageHeader]: http://hl7.org/fhir/R5/messageheader.html',\n",
       " '[FHIR RESTful operation]: {{site.data.fhir.path}}operations.html',\n",
       " '[FHIR Subscription Based Notification]: guidance.html#fhir-subscription-based-notification',\n",
       " '[FHIR at Scale Taskforce (FAST)]: https://confluence.hl7.org/display/FAST/FAST+Projects',\n",
       " '[FHIR core downloads]: {{site.data.fhir.path}}downloads.html',\n",
       " '[FHIR message Bundle]: {{site.data.fhir.path}}bundle.html#message',\n",
       " '[FHIR messaging]: {{site.data.fhir.path}}messaging.html',\n",
       " '[FHIR security guidance]:{{site.data.fhir.path}}security.html',\n",
       " '[Formal Profile Definition]: #profile',\n",
       " '[Framework]: guidance.html  \"General Framework Page\"',\n",
       " '[HL7 Da Vinci Guiding Principles]: https://confluence.hl7.org/display/DVP/Da+Vinci+Clinical+Advisory+Council+Members?preview=/66940155/66942916/Guiding%20Principles%20for%20Da%20Vinci%20Implementation%20Guides.pdf',\n",
       " '[HRex Organization Profile]: {{site.data.fhir.hrex}}/StructureDefinition-hrex-organization.html',\n",
       " '[HRex Security and Privacy]: {{site.data.fhir.hrex}}/security.html',\n",
       " '[Hybrid/Intermediary Exchange Implementation Guide]: http://hl7.org/fhir/us/exchange-routing/index.html',\n",
       " '[IG Home]: index.html \"Home Page\"',\n",
       " '[Infrastructure and Messaging (INM)]: http://www.hl7.org/Special/committees/inm/index.cfm',\n",
       " '[Message Definitions]: bundles.html \"Bundle Definitions Page\"',\n",
       " '[Messageheader Admit Notification Messageheader 01]: MessageHeader-admit-notification-messageheader-01.html',\n",
       " '[Messageheader Discharge Notification Messageheader 01]: MessageHeader-discharge-notification-messageheader-01.html',\n",
       " '[Must Support]: guidance.html#must-support',\n",
       " '[MustSupport flag]: {{site.data.fhir.path}}profiling.html#mustsupport',\n",
       " '[NotificationAdmitDischarge]: GraphDefinition-admit-discharge.html',\n",
       " '[Operations]: artifacts.html',\n",
       " '[Profiles]: artifacts.html#2',\n",
       " '[Profiling]: {{site.data.fhir.path}}profiling.html',\n",
       " '[Propose a Change]: https://jira.hl7.org/issues/?filter=12844&jql=project%20%3D%20FHIR%20AND%20Specification%20%3D%20%22US%20Da%20Vinci%20Alerts%20(FHIR)%20%5BFHIR-us-davinci-alerts%5D%22',\n",
       " '[Push Alert Notification]: guidance.html#push-alert-notification',\n",
       " '[R5 cross-version extension]: {{site.data.fhir.path}}security.html',\n",
       " '[SMART Application Launch Framework Implementation Guide Release 1.0.0]: http://www.hl7.org/fhir/smart-app-launch/',\n",
       " '[SMART Backend Services]: https://www.hl7.org/fhir/smart-app-launch/backend-services.html#backend-services',\n",
       " '[Standard error responses]: {{site.data.fhir.path}}messageheader-operation-process-message.html',\n",
       " '[Terminology]: artifacts.html#3',\n",
       " '[US Core Condition Encounter Diagnosis Profile]: {{site.data.fhir.uscore7}}StructureDefinition-us-core-condition-encounter-diagnosis.html',\n",
       " '[US Core Encounter Profile]: {{site.data.fhir.uscore7}}StructureDefinition-us-core-encounter.html',\n",
       " '[US Core Location Profile]: {{site.data.fhir.uscore7}}StructureDefinition-us-core-location.html',\n",
       " '[US Core Must Support]: {{site.data.fhir.uscore7}}/must-support.html',\n",
       " '[US Core Patient Profile]: {{site.data.fhir.uscore7}}StructureDefinition-us-core-patient.html',\n",
       " '[US Core Provenance Profile]: {{site.data.fhir.uscore7}}/StructureDefinition-us-core-provenance.html',\n",
       " '[US Core guidance]: {{site.data.fhir.uscore7}}/StructureDefinition-us-core-condition-encounter-diagnosis.html#mandatory-and-must-support-data-elements',\n",
       " '[US Core]: {{site.data.fhir.uscore7}}/index.html',\n",
       " '[V3 Value SetActEncounterCode]: http://terminology.hl7.org/ValueSet/v3-ActEncounterCode',\n",
       " '[`$process-message`]: {{site.data.fhir.path}}messageheader-operation-process-message.html',\n",
       " '[`collection`]: {{site.data.fhir.path}}http.html#collection',\n",
       " '[aggregation]: {{site.data.fhir.path}}elementdefinition-definitions.html#ElementDefinition.type.aggregation',\n",
       " '[figure 9]: usecases.html#figure-9',\n",
       " '[instructions on how to use it]: https://confluence.hl7.org/display/FHIR/Using+the+FHIR+Validator',\n",
       " '[notifications by messaging]: {{site.data.fhir.path}}subscription.html#messaging',\n",
       " '[operation]: {{site.data.fhir.path}}operations.html',\n",
       " '[reliable delivery]: {{site.data.fhir.path}}messaging.html#reliable',\n",
       " '[validator]: https://fhir.github.io/latest-ig-validator/org.hl7.fhir.validator.jar']"
      ]
     },
     "execution_count": 12,
     "metadata": {},
     "output_type": "execute_result"
    }
   ],
   "source": [
    "new_link_list"
   ]
  },
  {
   "cell_type": "code",
   "execution_count": 6,
   "metadata": {},
   "outputs": [
    {
     "data": {
      "text/plain": [
       "107"
      ]
     },
     "execution_count": 6,
     "metadata": {},
     "output_type": "execute_result"
    }
   ],
   "source": [
    "len(new_link_list)"
   ]
  }
 ],
 "metadata": {
  "kernelspec": {
   "display_name": "jupyter",
   "language": "python",
   "name": "python3"
  },
  "language_info": {
   "codemirror_mode": {
    "name": "ipython",
    "version": 3
   },
   "file_extension": ".py",
   "mimetype": "text/x-python",
   "name": "python",
   "nbconvert_exporter": "python",
   "pygments_lexer": "ipython3",
   "version": "3.10.2"
  }
 },
 "nbformat": 4,
 "nbformat_minor": 2
}
