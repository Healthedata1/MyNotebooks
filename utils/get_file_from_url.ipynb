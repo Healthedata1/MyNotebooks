{
 "cells": [
  {
   "cell_type": "markdown",
   "metadata": {},
   "source": [
    "## Prepend a line to an existing file\n",
    "\n",
    "- read file\n",
    "- write file"
   ]
  },
  {
   "cell_type": "code",
   "execution_count": 1,
   "metadata": {},
   "outputs": [],
   "source": [
    "from pathlib import Path"
   ]
  },
  {
   "cell_type": "code",
   "execution_count": 12,
   "metadata": {},
   "outputs": [
    {
     "name": "stdout",
     "output_type": "stream",
     "text": [
      "\\\\ERICS-AIR-2\\ehaas\\Documents\\FHIR\\Argo-R4\\source\\pages\\_includes\\pediatric-bmi-for-age-search.md\n",
      "\\\\ERICS-AIR-2\\ehaas\\Documents\\FHIR\\Argo-R4\\source\\pages\\_includes\\pediatric-weight-for-height-search.md\n",
      "\\\\ERICS-AIR-2\\ehaas\\Documents\\FHIR\\Argo-R4\\source\\pages\\_includes\\us-core-allergyintolerance-search.md\n",
      "\\\\ERICS-AIR-2\\ehaas\\Documents\\FHIR\\Argo-R4\\source\\pages\\_includes\\us-core-birthsex-search.md\n",
      "\\\\ERICS-AIR-2\\ehaas\\Documents\\FHIR\\Argo-R4\\source\\pages\\_includes\\us-core-careplan-search.md\n",
      "\\\\ERICS-AIR-2\\ehaas\\Documents\\FHIR\\Argo-R4\\source\\pages\\_includes\\us-core-careteam-search.md\n",
      "\\\\ERICS-AIR-2\\ehaas\\Documents\\FHIR\\Argo-R4\\source\\pages\\_includes\\us-core-condition-search.md\n",
      "\\\\ERICS-AIR-2\\ehaas\\Documents\\FHIR\\Argo-R4\\source\\pages\\_includes\\us-core-device-search.md\n",
      "\\\\ERICS-AIR-2\\ehaas\\Documents\\FHIR\\Argo-R4\\source\\pages\\_includes\\us-core-diagnosticreport-lab-search.md\n",
      "\\\\ERICS-AIR-2\\ehaas\\Documents\\FHIR\\Argo-R4\\source\\pages\\_includes\\us-core-diagnosticreport-note-search.md\n",
      "\\\\ERICS-AIR-2\\ehaas\\Documents\\FHIR\\Argo-R4\\source\\pages\\_includes\\us-core-direct-search.md\n",
      "\\\\ERICS-AIR-2\\ehaas\\Documents\\FHIR\\Argo-R4\\source\\pages\\_includes\\us-core-documentreference-search.md\n",
      "\\\\ERICS-AIR-2\\ehaas\\Documents\\FHIR\\Argo-R4\\source\\pages\\_includes\\us-core-encounter-search.md\n",
      "\\\\ERICS-AIR-2\\ehaas\\Documents\\FHIR\\Argo-R4\\source\\pages\\_includes\\us-core-ethnicity-search.md\n",
      "\\\\ERICS-AIR-2\\ehaas\\Documents\\FHIR\\Argo-R4\\source\\pages\\_includes\\us-core-goal-search.md\n",
      "\\\\ERICS-AIR-2\\ehaas\\Documents\\FHIR\\Argo-R4\\source\\pages\\_includes\\us-core-immunization-search.md\n",
      "\\\\ERICS-AIR-2\\ehaas\\Documents\\FHIR\\Argo-R4\\source\\pages\\_includes\\us-core-location-search.md\n",
      "\\\\ERICS-AIR-2\\ehaas\\Documents\\FHIR\\Argo-R4\\source\\pages\\_includes\\us-core-medication-search.md\n",
      "\\\\ERICS-AIR-2\\ehaas\\Documents\\FHIR\\Argo-R4\\source\\pages\\_includes\\us-core-medicationrequest-search.md\n",
      "\\\\ERICS-AIR-2\\ehaas\\Documents\\FHIR\\Argo-R4\\source\\pages\\_includes\\us-core-medicationstatement-search.md\n",
      "\\\\ERICS-AIR-2\\ehaas\\Documents\\FHIR\\Argo-R4\\source\\pages\\_includes\\us-core-observation-lab-search.md\n",
      "\\\\ERICS-AIR-2\\ehaas\\Documents\\FHIR\\Argo-R4\\source\\pages\\_includes\\us-core-organization-search.md\n",
      "\\\\ERICS-AIR-2\\ehaas\\Documents\\FHIR\\Argo-R4\\source\\pages\\_includes\\us-core-patient-search.md\n",
      "\\\\ERICS-AIR-2\\ehaas\\Documents\\FHIR\\Argo-R4\\source\\pages\\_includes\\us-core-practitioner-search.md\n",
      "\\\\ERICS-AIR-2\\ehaas\\Documents\\FHIR\\Argo-R4\\source\\pages\\_includes\\us-core-practitionerrole-search.md\n",
      "\\\\ERICS-AIR-2\\ehaas\\Documents\\FHIR\\Argo-R4\\source\\pages\\_includes\\us-core-procedure-search.md\n",
      "\\\\ERICS-AIR-2\\ehaas\\Documents\\FHIR\\Argo-R4\\source\\pages\\_includes\\us-core-pulse-oximetry-search.md\n",
      "\\\\ERICS-AIR-2\\ehaas\\Documents\\FHIR\\Argo-R4\\source\\pages\\_includes\\us-core-race-search.md\n",
      "\\\\ERICS-AIR-2\\ehaas\\Documents\\FHIR\\Argo-R4\\source\\pages\\_includes\\us-core-smokingstatus-search.md\n",
      "\\\\ERICS-AIR-2\\ehaas\\Documents\\FHIR\\Argo-R4\\source\\pages\\_includes\\us-core-vitalsigns-search.md\n"
     ]
    }
   ],
   "source": [
    "in_path = Path(r\"\\\\ERICS-AIR-2\\ehaas\\Documents\\FHIR\\Argo-R4\\source\\pages\\_includes\")\n",
    "\n",
    "new_line = 'See the [General Guidance] section for a discussion of how Servers expose \"Hidden Server Default Values\".'\n",
    "\n",
    "files = [x for x in Path(in_path).iterdir() if x.is_file() and x.name.endswith('-search.md')]\n",
    "\n",
    "for f in files:\n",
    "    print(f)\n",
    "    with open(f, 'r', encoding='utf-8') as original: data = original.read()\n",
    "    with open(f, 'w') as modified: modified.write(f'{new_line}\\n\\n{data}')"
   ]
  },
  {
   "cell_type": "code",
   "execution_count": null,
   "metadata": {},
   "outputs": [],
   "source": []
  }
 ],
 "metadata": {
  "kernelspec": {
   "display_name": "Python 3",
   "language": "python",
   "name": "python3"
  },
  "language_info": {
   "codemirror_mode": {
    "name": "ipython",
    "version": 3
   },
   "file_extension": ".py",
   "mimetype": "text/x-python",
   "name": "python",
   "nbconvert_exporter": "python",
   "pygments_lexer": "ipython3",
   "version": "3.7.3"
  }
 },
 "nbformat": 4,
 "nbformat_minor": 2
}
