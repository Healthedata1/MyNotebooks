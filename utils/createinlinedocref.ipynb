{
 "cells": [
  {
   "cell_type": "markdown",
   "metadata": {},
   "source": [
    "# create Document Reference using inline base64 encoded data"
   ]
  },
  {
   "cell_type": "markdown",
   "metadata": {},
   "source": []
  },
  {
   "cell_type": "code",
   "execution_count": 18,
   "metadata": {},
   "outputs": [],
   "source": [
    "from hashlib import sha1\n",
    "import base64\n",
    "from pathlib import Path\n",
    "from IPython.display import display, Markdown as md, HTML\n",
    "from yaml import load as y_load, dump as y_dump, FullLoader\n",
    "from fhir.resources.documentreference import DocumentReference"
   ]
  },
  {
   "cell_type": "code",
   "execution_count": 19,
   "metadata": {},
   "outputs": [],
   "source": [
    "my_path = Path(r\"/Users/ehaas/Documents/FHIR/SAIG/input/images/PatientHealthQuestionnaire-2_v1.0_2014Jul2.pdf\")\n",
    "my_path = Path(r\"/Users/ehaas/Documents/FHIR/SAIG/input/images/AHCM-HealthSocialNeedsScreeningTool-rev-8_10_2021.pdf\")\n",
    "my_path = Path(r\"/Users/ehaas/Documents/FHIR/SAIG/input/images/Example3PRAPARE-English.pdf\")"
   ]
  },
  {
   "cell_type": "code",
   "execution_count": 20,
   "metadata": {},
   "outputs": [],
   "source": [
    "title ='Example3PRAPAREQuestionnaire' #'Example2AHN-HRSNQuestionnaire' #'Example1PHQ-2Questionnaire'\n",
    "docref  = DocumentReference.parse_file('/Users/ehaas/Documents/Python/Jupyter/MyNotebooks/QR-OBs-DE/docref.yml')\n",
    "docref.meta.extension[0].valueString = f'DocRef {title}'\n",
    "docref.meta.extension[1].valueMarkdown = f'This is a an example of {title}  \\\n",
    "for the *US Core DocumentReference Profile*'\n",
    "docref.id = title.lower()\n",
    "docref.type.coding[0].code = \"100698-0\" #\"78305-0\"\n",
    "docref.type.coding[0].display = \"Social Determinants of Health screening report Document\"\n",
    "docref.content[0].attachment.title = \"my_path.stem\"\n",
    "docref.content[0].attachment.contentType = \"application/pdf\"\n",
    "b64 = base64.b64encode(my_path.read_bytes()).decode(\"ascii\")\n",
    "docref.content[0].attachment.data = b64"
   ]
  },
  {
   "cell_type": "code",
   "execution_count": 21,
   "metadata": {},
   "outputs": [
    {
     "data": {
      "text/plain": [
       "549554"
      ]
     },
     "execution_count": 21,
     "metadata": {},
     "output_type": "execute_result"
    }
   ],
   "source": [
    "out_path = Path(r\"/Users/ehaas/Documents/FHIR/SAIG/input/examples\")\n",
    "out_path = out_path / f'DocumentReference-{title}.json'\n",
    "out_path.write_text(docref.json(indent=2))"
   ]
  }
 ],
 "metadata": {
  "kernelspec": {
   "display_name": "jupyter",
   "language": "python",
   "name": "python3"
  },
  "language_info": {
   "codemirror_mode": {
    "name": "ipython",
    "version": 3
   },
   "file_extension": ".py",
   "mimetype": "text/x-python",
   "name": "python",
   "nbconvert_exporter": "python",
   "pygments_lexer": "ipython3",
   "version": "3.10.2"
  },
  "orig_nbformat": 4,
  "vscode": {
   "interpreter": {
    "hash": "18672f2fb81dcbb023a0ac48a86c775a19488782369d96ffbd3382a22fd285cf"
   }
  }
 },
 "nbformat": 4,
 "nbformat_minor": 2
}
