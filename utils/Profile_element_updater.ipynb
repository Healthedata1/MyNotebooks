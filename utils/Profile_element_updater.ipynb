{
 "cells": [
  {
   "attachments": {},
   "cell_type": "markdown",
   "metadata": {},
   "source": [
    "#  Update element in StructureDefinitions\n",
    "\n",
    "- Get all SDs (in YAML)\n",
    "- find parameter and get value\n",
    "- update with updated value\n",
    "- Write back to YAML"
   ]
  },
  {
   "cell_type": "code",
   "execution_count": 42,
   "metadata": {},
   "outputs": [
    {
     "data": {
      "text/plain": [
       "PosixPath('/Users/ehaas/Documents/FHIR/US-Core/input/resources-yaml')"
      ]
     },
     "execution_count": 42,
     "metadata": {},
     "output_type": "execute_result"
    }
   ],
   "source": [
    "from pathlib import Path\n",
    "from json import load, dumps\n",
    "from yaml import load as y_load, dump as y_dump, FullLoader\n",
    "from fhir.resources import construct_fhir_element\n",
    "from IPython.display import display as Display, HTML, Markdown\n",
    "from pprint import pprint\n",
    "from textwrap import fill, dedent\n",
    "\n",
    "my_path = Path('/Users/ehaas/Documents/FHIR/US-Core/input/resources-yaml')\n",
    "snapshot_path =  Path('/Users/ehaas/Documents/FHIR/US-Core/output')\n",
    "my_path"
   ]
  },
  {
   "cell_type": "code",
   "execution_count": 43,
   "metadata": {},
   "outputs": [],
   "source": [
    "\n",
    "\n",
    "#exclude_list = ['us-core-location','us-core-organization','us-core-practitioner','us-core-practitionerrole','us-core-direct','us-core-extension-questionnaire-uri','us-core-jurisdiction', 'uscdi-requirement']\n",
    "exclude_list= []\n",
    "#include_list = ['us-core-location']  # for updating a single resource\n",
    "include_list = []  # for updating a single resource\n",
    "prepend_me = \"foo [bar](#.html) baz\"\n",
    "fhir_release_map = {  # update as new releases are published - will error if\n",
    "    '5.0.0': 'R5',\n",
    "    '4.3.0': '4B',\n",
    "    '4.0.1': 'R4',\n",
    "    '3.0.1': 'R3'\n",
    "    }\n"
   ]
  }
 ],
 "metadata": {
  "kernelspec": {
   "display_name": "Python 3.10.2 64-bit ('jupyter')",
   "language": "python",
   "name": "python3"
  },
  "language_info": {
   "codemirror_mode": {
    "name": "ipython",
    "version": 3
   },
   "file_extension": ".py",
   "mimetype": "text/x-python",
   "name": "python",
   "nbconvert_exporter": "python",
   "pygments_lexer": "ipython3",
   "version": "3.10.2"
  },
  "orig_nbformat": 4,
  "vscode": {
   "interpreter": {
    "hash": "18672f2fb81dcbb023a0ac48a86c775a19488782369d96ffbd3382a22fd285cf"
   }
  }
 },
 "nbformat": 4,
 "nbformat_minor": 2
}
