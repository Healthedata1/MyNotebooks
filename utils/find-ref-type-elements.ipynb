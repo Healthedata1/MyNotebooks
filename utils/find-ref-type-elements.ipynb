{
 "cells": [
  {
   "cell_type": "markdown",
   "metadata": {},
   "source": [
    "### Read all FHIR SD and find all binding strengths\n",
    "\n",
    "- load package data to inspect\n",
    "- read SDs\n",
    "- print binding by strength\n"
   ]
  },
  {
   "cell_type": "code",
   "execution_count": 1,
   "metadata": {},
   "outputs": [],
   "source": [
    "from pathlib import Path\n",
    "from json import load, dumps, loads\n",
    "from IPython.display import display, Markdown, HTML "
   ]
  },
  {
   "cell_type": "markdown",
   "metadata": {},
   "source": [
    "### get package and create obj and find all references types\n"
   ]
  },
  {
   "cell_type": "code",
   "execution_count": 27,
   "metadata": {},
   "outputs": [
    {
     "name": "stdout",
     "output_type": "stream",
     "text": [
      "1. US Core Profile US Core CareTeam Profile\n",
      "   - Reference element: CareTeam.participant.member\n",
      "     - 3.1.1 Reference element Must Support targets profiles: ['http://hl7.org/fhir/us/core/StructureDefinition/us-core-patient', 'http://hl7.org/fhir/us/core/StructureDefinition/us-core-practitioner', 'http://hl7.org/fhir/us/core/StructureDefinition/us-core-organization']\n",
      "     - 3.2.0 Reference element additional optional target profiles : ['http://hl7.org/fhir/us/core/StructureDefinition/us-core-practitionerrole', 'http://hl7.org/fhir/us/core/StructureDefinition/us-core-careteam', 'http://hl7.org/fhir/StructureDefinition/RelatedPerson']\n",
      "2. US Core Profile US Core Provenance Profile\n",
      "   - Reference element: Provenance.agent.who\n",
      "     - 3.1.1 Reference element Must Support targets profiles: ['http://hl7.org/fhir/us/core/StructureDefinition/us-core-practitioner', 'http://hl7.org/fhir/us/core/StructureDefinition/us-core-patient', 'http://hl7.org/fhir/us/core/StructureDefinition/us-core-organization']\n",
      "     - 3.2.0 Reference element additional optional target profiles : ['http://hl7.org/fhir/us/core/StructureDefinition/us-core-practitionerrole', 'http://hl7.org/fhir/StructureDefinition/RelatedPerson', 'http://hl7.org/fhir/StructureDefinition/Device']\n",
      "3. US Core Profile US Core DocumentReference Profile\n",
      "   - Reference element: DocumentReference.author\n",
      "     - 3.1.1 Reference element Must Support targets profiles: ['http://hl7.org/fhir/us/core/StructureDefinition/us-core-practitioner', 'http://hl7.org/fhir/us/core/StructureDefinition/us-core-organization', 'http://hl7.org/fhir/us/core/StructureDefinition/us-core-patient']\n",
      "     - 3.2.0 Reference element additional optional target profiles : ['http://hl7.org/fhir/us/core/StructureDefinition/us-core-practitionerrole', 'http://hl7.org/fhir/StructureDefinition/RelatedPerson', 'http://hl7.org/fhir/StructureDefinition/Device']\n",
      "4. US Core Profile US Core MedicationRequest Profile\n",
      "   - Reference element: MedicationRequest.reported[x]\n",
      "     - 3.1.1 Reference element Must Support targets profiles: ['http://hl7.org/fhir/us/core/StructureDefinition/us-core-patient', 'http://hl7.org/fhir/us/core/StructureDefinition/us-core-practitioner', 'http://hl7.org/fhir/us/core/StructureDefinition/us-core-organization']\n",
      "     - 3.2.0 Reference element additional optional target profiles : ['http://hl7.org/fhir/us/core/StructureDefinition/us-core-practitionerrole', 'http://hl7.org/fhir/StructureDefinition/RelatedPerson']\n",
      "5. US Core Profile US Core MedicationRequest Profile\n",
      "   - Reference element: MedicationRequest.requester\n",
      "     - 3.1.1 Reference element Must Support targets profiles: ['http://hl7.org/fhir/us/core/StructureDefinition/us-core-practitioner', 'http://hl7.org/fhir/us/core/StructureDefinition/us-core-organization', 'http://hl7.org/fhir/us/core/StructureDefinition/us-core-patient']\n",
      "     - 3.2.0 Reference element additional optional target profiles : ['http://hl7.org/fhir/us/core/StructureDefinition/us-core-practitionerrole', 'http://hl7.org/fhir/StructureDefinition/RelatedPerson', 'http://hl7.org/fhir/StructureDefinition/Device']\n",
      "6. US Core Profile US Core Encounter Profile\n",
      "   - Reference element: Encounter.participant.individual\n",
      "     - 3.1.1 Reference element Must Support targets profiles: ['http://hl7.org/fhir/us/core/StructureDefinition/us-core-practitioner']\n",
      "     - 3.2.0 Reference element additional optional target profiles : ['http://hl7.org/fhir/us/core/StructureDefinition/us-core-practitionerrole', 'http://hl7.org/fhir/StructureDefinition/RelatedPerson']\n",
      "7. US Core Profile US Core DiagnosticReport Profile for Report and Note exchange\n",
      "   - Reference element: DiagnosticReport.performer\n",
      "     - 3.1.1 Reference element Must Support targets profiles: ['http://hl7.org/fhir/us/core/StructureDefinition/us-core-practitioner', 'http://hl7.org/fhir/us/core/StructureDefinition/us-core-organization']\n",
      "     - 3.2.0 Reference element additional optional target profiles : ['http://hl7.org/fhir/us/core/StructureDefinition/us-core-practitionerrole', 'http://hl7.org/fhir/us/core/StructureDefinition/us-core-careteam']\n",
      "8. US Core Profile US Core DiagnosticReport Profile for Laboratory Results Reporting\n",
      "   - Reference element: DiagnosticReport.performer\n",
      "     - 3.1.1 Reference element Must Support targets profiles: ['http://hl7.org/fhir/us/core/StructureDefinition/us-core-practitioner', 'http://hl7.org/fhir/us/core/StructureDefinition/us-core-organization']\n",
      "     - 3.2.0 Reference element additional optional target profiles : ['http://hl7.org/fhir/us/core/StructureDefinition/us-core-careteam', 'http://hl7.org/fhir/us/core/StructureDefinition/us-core-practitionerrole']\n"
     ]
    }
   ],
   "source": [
    "us_core_311 = Path(r'/Users/ehaas/.fhir/packages/hl7.fhir.us.core#3.1.1') / 'package'\n",
    "us_core_320 = Path(r'/Users/ehaas/.fhir/packages/hl7.fhir.us.core#3.2.0') / 'package'\n",
    "\n",
    "\n",
    "def get_320(f,id):\n",
    "    # print(f, id)\n",
    "    f320 = us_core_320 / f.name\n",
    "    obj320 = loads(f320.read_text())\n",
    "    # print(f'obj320 = {obj320[\"id\"]}')\n",
    "    try:\n",
    "      element320 = [element for element in obj320['differential']['element'] if element['id'] == id][0]\n",
    "    except IndexError:\n",
    "        return\n",
    "    # print(f'element320 = {element320[\"id\"]}')\n",
    "    my_type = [t for t in element320['type'] if t['code'] == 'Reference'][0]\n",
    "    # print(f'my_type = {my_type}')\n",
    "    targets = [t for t in my_type['targetProfile']]\n",
    "    # print(f'all_targets = {targets}')\n",
    "    return targets\n",
    "\n",
    "\n",
    "i = 1\n",
    "for f in us_core_311.glob('StructureDefinition*.json'):\n",
    "  # print(f)\n",
    "  obj = loads(f.read_text())\n",
    "  # print(f\"{i}. {obj['id']}\")\n",
    "  for element in obj['differential']['element']:\n",
    "      try:\n",
    "          for my_type in element['type']:\n",
    "              if my_type['code'] == 'Reference':\n",
    "                  # print(f''' - Reference element: {element['path']}''')\n",
    "                  ms_targets = [t for t in my_type['targetProfile']]\n",
    "                  # print(f''' - 3.1.1 Reference element MS targets: {ms_targets}''')\n",
    "                  all_targets = get_320(f,element['id'])\n",
    "                  try:\n",
    "                    optional_targets = [item for item in all_targets if item not in ms_targets]\n",
    "                  except TypeError:\n",
    "                     optional_targets = [] \n",
    "                  if optional_targets:\n",
    "                    print(f\"{i}. US Core Profile {obj['title']}\")\n",
    "                    # print(obj['id'])\n",
    "                    print(f'''   - Reference element: {element['path']}''') \n",
    "                    print(f'''     - 3.1.1 Reference element Must Support targets profiles: {ms_targets}''')\n",
    "                    print(f'''     - 3.2.0 Reference element additional optional target profiles : {optional_targets}''')\n",
    "                    i+=1\n",
    "      except KeyError:\n",
    "          # print(f\"no type in {element['path']}\")\n",
    "          pass\n",
    "  # i+=1"
   ]
  },
  {
   "cell_type": "markdown",
   "metadata": {},
   "source": [
    "### Get SDs"
   ]
  },
  {
   "cell_type": "code",
   "execution_count": 79,
   "metadata": {},
   "outputs": [],
   "source": [
    "def inherited(strength,element_path,sd_type):\n",
    "    print(strength,element_path,sd_type)\n",
    "    for f in fhir_path.iterdir():\n",
    "        if str(f.name)==f'StructureDefinition-{sd_type}.json':\n",
    "            print(f'### {f.name}')\n",
    "            sd_dict=loads(f.read_text())\n",
    "            for element in sd_dict['differential']['element']:\n",
    "                if element.get('path')==element_path:\n",
    "                    try:\n",
    "                        base_strength=element['binding'].get('strength','no_strength')  \n",
    "                    except KeyError:\n",
    "                        base_strength=\"no binding!\"\n",
    "                    print(base_strength)\n",
    "    try:\n",
    "        return base_strength==strength\n",
    "    except UnboundLocalError:\n",
    "        return False"
   ]
  },
  {
   "cell_type": "code",
   "execution_count": null,
   "metadata": {},
   "outputs": [],
   "source": [
    "for f in uscore_path.iterdir():\n",
    "    if str(f.name).startswith('StructureDefinition'):\n",
    "        #print(f'### {f.name}')\n",
    "        sd_dict=loads(f.read_text())\n",
    "        #print(sd_dict['type'])\n",
    "        for element in sd_dict['differential']['element']:\n",
    "            if element.get('binding'):\n",
    "                vs = element['binding'].get('valueSet','No ValueSet')\n",
    "                vs = vs.split('|')[0] #strip version\n",
    "                strength = element['binding'].get('strength','no_strength')\n",
    "                print('foo')\n",
    "                is_inherited = inherited(strength=strength,element_path=element[\"path\"],sd_type=sd_dict['type'])\n",
    "                bindings[strength]= f'{bindings[strength]}\\n|{sd_dict[\"title\"]}|{element[\"path\"]}|{vs}|{f\"**{is_inherited}**\" if is_inherited == False else is_inherited}|'"
   ]
  },
  {
   "cell_type": "code",
   "execution_count": null,
   "metadata": {},
   "outputs": [],
   "source": [
    "for strength,binding in bindings.items():\n",
    "    print(f'### {strength.upper()}')\n",
    "    print(bindings[strength])\n",
    "    #display(Markdown(f'### {strength.upper()}'))\n",
    "    #display(Markdown(bindings[strength]))   "
   ]
  },
  {
   "cell_type": "code",
   "execution_count": null,
   "metadata": {},
   "outputs": [],
   "source": []
  }
 ],
 "metadata": {
  "kernelspec": {
   "display_name": "jupyter",
   "language": "python",
   "name": "python3"
  },
  "language_info": {
   "codemirror_mode": {
    "name": "ipython",
    "version": 3
   },
   "file_extension": ".py",
   "mimetype": "text/x-python",
   "name": "python",
   "nbconvert_exporter": "python",
   "pygments_lexer": "ipython3",
   "version": "3.10.2"
  }
 },
 "nbformat": 4,
 "nbformat_minor": 4
}
