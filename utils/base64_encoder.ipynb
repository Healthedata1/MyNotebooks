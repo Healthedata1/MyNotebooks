{
 "cells": [
  {
   "cell_type": "markdown",
   "metadata": {},
   "source": [
    "### Image data from [Wikipedia][1]"
   ]
  },
  {
   "cell_type": "code",
   "execution_count": 12,
   "metadata": {},
   "outputs": [],
   "source": [
    "from hashlib import sha1\n",
    "import base64\n",
    "from pathlib import Path\n",
    "from IPython.display import display, Markdown as md, HTML\n",
    "from yaml import load as y_load, dump as y_dump, FullLoader\n",
    "\n",
    "# in_path = Path() / 'test_files' / 'Scraped_Knee.png'\n",
    "# out_path = Path() / 'test_files' / 'Scraped_Knee.base64'\n",
    "# out_path2 = Path() / 'test_files' / 'Scraped_Knee_copy.png'\n",
    "in_path = Path(r'/Users/ehaas/Documents/FHIR/davinci-ecdx/input/images/source/Structured CDA Test File.txt')\n",
    "out_path = Path() / 'test_files' / 'example_ccda.b64'\n",
    "out_path2 = Path() / 'test_files' / 'example_ccda.txt'\n",
    "example_path =  Path(r'/Users/ehaas/Documents/FHIR/davinci-ecdx/input/examples-yaml/cdex-task-example8.yml')\n",
    "includes_path =  Path(r'/Users/ehaas/Documents/FHIR/davinci-ecdx/input/includes-yaml/cdex-task-example8.yml')"
   ]
  },
  {
   "cell_type": "code",
   "execution_count": 13,
   "metadata": {},
   "outputs": [],
   "source": [
    "#data = b'\\x89PNG\\r\\n\\x1a\\n\\x00\\x00\\x00\\rIHDR\\x00\\x00\\x00\\x05\\x00\\x00\\x00\\x05\\x08\\x06\\x00\\x00\\x00\\x8do&\\xe5\\x00\\x00\\x00\\x1cIDAT\\x08\\xd7c\\xf8\\xff\\xff?\\xc3\\x7f\\x06 \\x05\\xc3 \\x12\\x84\\xd01\\xf1\\x82X\\xcd\\x04\\x00\\x0e\\xf55\\xcb\\xd1\\x8e\\x0e\\x1f\\x00\\x00\\x00\\x00IEND\\xaeB`\\x82'\n",
    "data = in_path.read_bytes()\n",
    "\n",
    "# data"
   ]
  },
  {
   "cell_type": "code",
   "execution_count": 14,
   "metadata": {},
   "outputs": [
    {
     "data": {
      "text/plain": [
       "'cdex-task-example8'"
      ]
     },
     "execution_count": 14,
     "metadata": {},
     "output_type": "execute_result"
    }
   ],
   "source": [
    "\n",
    "my_example = y_load(example_path.read_text(),Loader=FullLoader) #dict\n",
    "my_example['id']"
   ]
  },
  {
   "cell_type": "markdown",
   "metadata": {},
   "source": [
    "### create sha1 hash and b64 for ccda\n",
    "\n",
    "- get cda as text\n",
    "- create sha1 hash\n",
    "- create b64\n",
    "- update DocumentReference\n",
    "  "
   ]
  },
  {
   "cell_type": "code",
   "execution_count": 15,
   "metadata": {},
   "outputs": [
    {
     "data": {
      "text/plain": [
       "19075"
      ]
     },
     "execution_count": 15,
     "metadata": {},
     "output_type": "execute_result"
    }
   ],
   "source": [
    "m = sha1(data)\n",
    "dr = my_example['contained'][0]['entry']\n",
    "# dr.pop(1)\n",
    "\n",
    "\n",
    "attachment = dr[0]['resource']['content'][0]['attachment']\n",
    "# attachment.pop('date')\n",
    "attachment['hash'] = m.hexdigest()\n",
    "attachment['title'] ='Example CCDA'\n",
    "attachment['contentType'] = 'text/xml'\n",
    "\n",
    "encoded = base64.b64encode(data).decode('ascii')\n",
    "# encoded_data_string= f'data:application/hl7-sda+xml;base64{encoded}'\n",
    "attachment['data'] = encoded\n",
    "\n",
    "out = y_dump(my_example, indent=2, sort_keys=False)\n",
    "example_path.write_text(out)\n",
    "try:\n",
    "    out.pop('id')\n",
    "    out['meta'].pop('extension')\n",
    "except AttributeError:\n",
    "    pass\n",
    "includes_path.write_text(out)"
   ]
  },
  {
   "cell_type": "markdown",
   "metadata": {},
   "source": [
    "### String representation of bytes object includes leading \"b\" and quotes,  \n",
    "\n",
    "making the uri invalid."
   ]
  },
  {
   "cell_type": "markdown",
   "metadata": {},
   "source": [
    "### Creates a bytes object"
   ]
  },
  {
   "cell_type": "markdown",
   "metadata": {},
   "source": []
  },
  {
   "cell_type": "code",
   "execution_count": null,
   "metadata": {},
   "outputs": [],
   "source": [
    "encoded = base64.b64encode(data)\n",
    "#encoded_data_bytes = f'data:image/png;base64{encoded}'\n",
    "#encoded_data_bytes\n",
    "encoded\n",
    "\n",
    "out_path.write_bytes(encoded)"
   ]
  },
  {
   "cell_type": "code",
   "execution_count": null,
   "metadata": {},
   "outputs": [],
   "source": [
    "encoded = b'data:image/png;base64,' + encoded\n",
    "\n",
    "encoded"
   ]
  },
  {
   "cell_type": "markdown",
   "metadata": {},
   "source": [
    "### Calling .decode() gets us the string representation"
   ]
  },
  {
   "cell_type": "code",
   "execution_count": null,
   "metadata": {
    "collapsed": true,
    "jupyter": {
     "outputs_hidden": true
    }
   },
   "outputs": [],
   "source": [
    "encoded = base64.b64encode(data).decode('ascii')\n",
    "#encoded_data_string= f'data:image/png;base64{encoded}'\n",
    "#encoded_data_string\n",
    "encoded"
   ]
  },
  {
   "cell_type": "markdown",
   "metadata": {},
   "source": [
    "### adding Mime type gets us the  html string"
   ]
  },
  {
   "cell_type": "code",
   "execution_count": null,
   "metadata": {
    "collapsed": true,
    "jupyter": {
     "outputs_hidden": true
    }
   },
   "outputs": [],
   "source": [
    "# encoded = 'data:image/png;base64,' + encoded\n",
    "encoded = 'data:application/ccda;base64,' + encoded\n",
    "encoded"
   ]
  },
  {
   "cell_type": "code",
   "execution_count": null,
   "metadata": {},
   "outputs": [],
   "source": [
    "display(md(f\"### foo ![alt text]({encoded} 'test')\"))"
   ]
  },
  {
   "cell_type": "markdown",
   "metadata": {},
   "source": [
    "### Get base64 from file decode save and display"
   ]
  },
  {
   "cell_type": "code",
   "execution_count": null,
   "metadata": {},
   "outputs": [],
   "source": [
    "b64_file = out_path.read_bytes()\n",
    "decoded = base64.b64decode(b64_file)\n",
    "out_path2.write_bytes(decoded)\n",
    "# md(f\"### foo ![alt text](test_files/Scraped_Knee_copy.png 'test')\")\n",
    "md(f\"### foo \\n~~~\\n{decoded}\\n~~~\")\n"
   ]
  }
 ],
 "metadata": {
  "kernelspec": {
   "display_name": "Python 3.10.2 64-bit ('jupyter')",
   "language": "python",
   "name": "python3"
  },
  "language_info": {
   "codemirror_mode": {
    "name": "ipython",
    "version": 3
   },
   "file_extension": ".py",
   "mimetype": "text/x-python",
   "name": "python",
   "nbconvert_exporter": "python",
   "pygments_lexer": "ipython3",
   "version": "3.10.2"
  },
  "vscode": {
   "interpreter": {
    "hash": "18672f2fb81dcbb023a0ac48a86c775a19488782369d96ffbd3382a22fd285cf"
   }
  }
 },
 "nbformat": 4,
 "nbformat_minor": 4
}
