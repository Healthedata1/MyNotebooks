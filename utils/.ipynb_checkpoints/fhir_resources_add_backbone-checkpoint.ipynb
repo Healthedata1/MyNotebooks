{
 "cells": [
  {
   "cell_type": "markdown",
   "metadata": {},
   "source": [
    "### Toy code to see if can add FHIR Backbone element with a single fhir.resources  `construct_fhir_element` method"
   ]
  },
  {
   "cell_type": "markdown",
   "metadata": {},
   "source": [
    "- Choose FHIR resource to test\n",
    "- import fhir.resources\n",
    "- create data file with backbone data\n",
    "- use  `construct_fhir_element` method a see what happens"
   ]
  },
  {
   "cell_type": "code",
   "execution_count": 26,
   "metadata": {},
   "outputs": [
    {
     "name": "stdout",
     "output_type": "stream",
     "text": [
      "org = {\n",
      "  \"resourceType\": \"Organization\",\n",
      "  \"id\": \"mmanu\",\n",
      "  \"active\": true,\n",
      "  \"name\": \"Acme Corporation\",\n",
      "  \"address\": [\n",
      "    {\n",
      "      \"country\": \"Switzerland\"\n",
      "    }\n",
      "  ],\n",
      "  \"contact\": [\n",
      "    {\n",
      "      \"telecom\": [\n",
      "        {\n",
      "          \"system\": \"phone\",\n",
      "          \"value\": \"022-655 2334\"\n",
      "        }\n",
      "      ]\n",
      "    }\n",
      "  ]\n",
      "}\n"
     ]
    }
   ],
   "source": [
    "from fhir.resources import construct_fhir_element\n",
    "\n",
    "\n",
    "data = {\"resourceType\": \"Organization\",\n",
    "     \"id\": \"mmanu\",\n",
    "     \"active\": True,\n",
    "     \"name\": \"Acme Corporation\",\n",
    "    \"address\": [{\"country\": \"Switzerland\"}]\n",
    "}\n",
    "\n",
    "telecom = {\"telecom\": [\n",
    "        {\n",
    "          \"system\": \"phone\",\n",
    "          \"value\": \"022-655 2334\"\n",
    "        }\n",
    "      ]}\n",
    "\n",
    "org = construct_fhir_element('Organization', data)\n",
    "org.contact = []\n",
    "org.contact.append(telecom)\n",
    "print(f'org = {org.json(indent=2)}')"
   ]
  },
  {
   "cell_type": "code",
   "execution_count": null,
   "metadata": {},
   "outputs": [],
   "source": [
    "contact = {\n",
    "      \"contact\": [\n",
    "    {\n",
    "      \"purpose\": {\n",
    "        \"coding\": [\n",
    "          {\n",
    "            \"system\": \"http://terminology.hl7.org/CodeSystem/contactentity-type\",\n",
    "            \"code\": \"PRESS\"\n",
    "          }\n",
    "        ]\n",
    "      },\n",
    "      \"telecom\": [\n",
    "        {\n",
    "          \"system\": \"phone\",\n",
    "          \"value\": \"022-655 2334\"\n",
    "        }\n",
    "      ]\n",
    "    },\n",
    "    {\n",
    "      \"purpose\": {\n",
    "        \"coding\": [\n",
    "          {\n",
    "            \"system\": \"http://terminology.hl7.org/CodeSystem/contactentity-type\",\n",
    "            \"code\": \"PATINF\"\n",
    "          }\n",
    "        ]\n",
    "      },\n",
    "      \"telecom\": [\n",
    "        {\n",
    "          \"system\": \"phone\",\n",
    "          \"value\": \"022-655 2335\"\n",
    "        }\n",
    "      ]\n",
    "    }\n",
    "  ]\n",
    "}\n",
    "\n",
    "\n",
    "org.contact = []\n",
    "org.contact.append(contact)\n",
    "print(f'org = {org.json(indent=2)}')\n"
   ]
  },
  {
   "cell_type": "code",
   "execution_count": 25,
   "metadata": {},
   "outputs": [
    {
     "name": "stdout",
     "output_type": "stream",
     "text": [
      "org = {\n",
      "  \"resourceType\": \"Organization\",\n",
      "  \"id\": \"mmanu\",\n",
      "  \"active\": true,\n",
      "  \"name\": \"Acme Corporation\",\n",
      "  \"address\": [\n",
      "    {\n",
      "      \"country\": \"Switzerland\"\n",
      "    }\n",
      "  ],\n",
      "  \"contact\": [\n",
      "    {\n",
      "      \"telecom\": [\n",
      "        {\n",
      "          \"system\": \"phone\",\n",
      "          \"value\": \"022-655 2334\"\n",
      "        }\n",
      "      ]\n",
      "    }\n",
      "  ]\n",
      "}\n"
     ]
    }
   ],
   "source": [
    "telecom = {\"telecom\": [\n",
    "        {\n",
    "          \"system\": \"phone\",\n",
    "          \"value\": \"022-655 2334\"\n",
    "        }\n",
    "      ]}\n",
    "\n",
    "org.contact = []\n",
    "org.contact.append(telecom)\n",
    "print(f'org = {org.json(indent=2)}')\n"
   ]
  },
  {
   "cell_type": "code",
   "execution_count": null,
   "metadata": {},
   "outputs": [],
   "source": []
  }
 ],
 "metadata": {
  "kernelspec": {
   "display_name": "jupyter",
   "language": "python",
   "name": "python3"
  },
  "language_info": {
   "codemirror_mode": {
    "name": "ipython",
    "version": 3
   },
   "file_extension": ".py",
   "mimetype": "text/x-python",
   "name": "python",
   "nbconvert_exporter": "python",
   "pygments_lexer": "ipython3",
   "version": "3.10.2"
  }
 },
 "nbformat": 4,
 "nbformat_minor": 2
}
