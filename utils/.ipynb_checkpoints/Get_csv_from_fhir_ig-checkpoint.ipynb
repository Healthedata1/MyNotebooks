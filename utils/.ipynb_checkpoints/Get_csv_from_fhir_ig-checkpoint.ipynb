{
 "cells": [
  {
   "cell_type": "markdown",
   "metadata": {},
   "source": [
    "## Prepend a line to an existing file\n",
    "\n",
    "- read file\n",
    "- write file"
   ]
  },
  {
   "cell_type": "code",
   "execution_count": null,
   "metadata": {},
   "outputs": [],
   "source": [
    "in_file = r\"C:\\Users\\Administrator\\Desktop\\foo.md\".replace('\\','/')\n",
    "print(in_file)\n",
    "files = [in_file]\n",
    "print(files)\n",
    "\n",
    "for in_file in files:\n",
    "    with open('in_file', 'r') as original: data = original.read()\n",
    "    with open('in_file', 'w') as modified: modified.write(\"new first line\\n\" + data)"
   ]
  },
  {
   "cell_type": "code",
   "execution_count": null,
   "metadata": {},
   "outputs": [],
   "source": []
  }
 ],
 "metadata": {
  "kernelspec": {
   "display_name": "Python 3",
   "language": "python",
   "name": "python3"
  },
  "language_info": {
   "name": ""
  }
 },
 "nbformat": 4,
 "nbformat_minor": 2
}
