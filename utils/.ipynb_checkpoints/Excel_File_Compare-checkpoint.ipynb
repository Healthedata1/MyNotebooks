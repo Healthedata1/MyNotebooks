{
 "cells": [
  {
   "cell_type": "markdown",
   "metadata": {},
   "source": [
    "#  Excel File Comparison\n",
    "\n",
    "Given Two Excel Files, We want to compare the values of each column row-wise after sorting the values and print the changed column name and row number and values change.\n",
    "\n",
    "~~~\n",
    "Input : \n",
    "Two Excel files\n",
    "\n",
    "Output :\n",
    "Column name : 'location' and Row Number : 0\n",
    "Column name : 'location' and Row Number : 3\n",
    "Column name : 'date' and Row Number     : 1\n",
    "~~~"
   ]
  },
  {
   "cell_type": "markdown",
   "metadata": {},
   "source": [
    "### importing Pandas and itertools"
   ]
  },
  {
   "cell_type": "code",
   "execution_count": 98,
   "metadata": {},
   "outputs": [],
   "source": [
    "import pandas as pd\n",
    "import itertools "
   ]
  },
  {
   "cell_type": "markdown",
   "metadata": {},
   "source": [
    "#### Reading two Excel Sheets"
   ]
  },
  {
   "cell_type": "code",
   "execution_count": 103,
   "metadata": {},
   "outputs": [
    {
     "name": "stdout",
     "output_type": "stream",
     "text": [
      "0.25.3\n"
     ]
    }
   ],
   "source": [
    "sheet1 = pd.read_excel(r'test_files/Book1.xlsx')\n",
    "sheet2 = pd.read_excel(r'test_files/Book2.xlsx')\n",
    "\n",
    "# Set index on a Dataframe\n",
    "sheet1.set_index(\"row\", \n",
    "              inplace = True)\n",
    "sheet2.set_index(\"row\", \n",
    "              inplace = True)\n",
    "print(pd.__version__)"
   ]
  },
  {
   "cell_type": "code",
   "execution_count": 100,
   "metadata": {},
   "outputs": [
    {
     "name": "stdout",
     "output_type": "stream",
     "text": [
      "[(7, 7), (8, 8), (10, 10)]\n",
      "[(7, 7), (8, 8), (10, 10), (None, 11)]\n",
      "[('A', 'A'), ('B', 'B'), ('C', 'C')]\n"
     ]
    }
   ],
   "source": [
    "print(list(zip(sheet1[i],sheet2[j])))\n",
    "print(list(itertools.zip_longest(sheet1[i],sheet2[j])))\n",
    "print(list(zip(sheet1,sheet2)))"
   ]
  },
  {
   "cell_type": "code",
   "execution_count": 101,
   "metadata": {},
   "outputs": [
    {
     "name": "stdout",
     "output_type": "stream",
     "text": [
      "|Row|Column|Sheet1 Value|Sheet2 Value|\n",
      "|---|---|---|---|\n",
      "|bar|B|I am  Sam|Sam I am|\n"
     ]
    }
   ],
   "source": [
    "print('|Row|Column|Sheet1 Value|Sheet2 Value|')\n",
    "print('|---|---|---|---|')\n",
    "# Iterating the Columns Names of both Sheets\n",
    "for i,j in zip(sheet1,sheet2):\n",
    "    \n",
    "    # Creating empty lists to append the columns values\t\n",
    "    a,b =[],[]\n",
    "    # Iterating the columns values\n",
    "\n",
    "    for m, n in zip(sheet1[i],sheet2[j]):\n",
    "        # Appending values in lists\n",
    "        a.append(m)\n",
    "        b.append(n)\n",
    "\n",
    "    # Sorting the lists\n",
    "    #a.sort()\n",
    "    #b.sort()\n",
    "    \n",
    "    # Iterating the list's values and comparing them\n",
    "\n",
    "    for m, n in zip(range(len(a)), range(len(b))):\n",
    "        if a[m] != b[n]:\n",
    "            print(f'|{sheet1.index[m]}|{i}|{a[m]}|{b[n]}|')"
   ]
  },
  {
   "cell_type": "code",
   "execution_count": 102,
   "metadata": {},
   "outputs": [
    {
     "name": "stdout",
     "output_type": "stream",
     "text": [
      "Help on class zip in module builtins:\n",
      "\n",
      "class zip(object)\n",
      " |  zip(iter1 [,iter2 [...]]) --> zip object\n",
      " |  \n",
      " |  Return a zip object whose .__next__() method returns a tuple where\n",
      " |  the i-th element comes from the i-th iterable argument.  The .__next__()\n",
      " |  method continues until the shortest iterable in the argument sequence\n",
      " |  is exhausted and then it raises StopIteration.\n",
      " |  \n",
      " |  Methods defined here:\n",
      " |  \n",
      " |  __getattribute__(self, name, /)\n",
      " |      Return getattr(self, name).\n",
      " |  \n",
      " |  __iter__(self, /)\n",
      " |      Implement iter(self).\n",
      " |  \n",
      " |  __next__(self, /)\n",
      " |      Implement next(self).\n",
      " |  \n",
      " |  __reduce__(...)\n",
      " |      Return state information for pickling.\n",
      " |  \n",
      " |  ----------------------------------------------------------------------\n",
      " |  Static methods defined here:\n",
      " |  \n",
      " |  __new__(*args, **kwargs) from builtins.type\n",
      " |      Create and return a new object.  See help(type) for accurate signature.\n",
      "\n"
     ]
    }
   ],
   "source": [
    "help(zip)"
   ]
  }
 ],
 "metadata": {
  "kernelspec": {
   "display_name": "Python 3.7.3 64-bit ('venv37': venv)",
   "language": "python",
   "name": "python37364bitvenv37venv2b400d68decb43d5b2206c004a019450"
  },
  "language_info": {
   "codemirror_mode": {
    "name": "ipython",
    "version": 3
   },
   "file_extension": ".py",
   "mimetype": "text/x-python",
   "name": "python",
   "nbconvert_exporter": "python",
   "pygments_lexer": "ipython3",
   "version": "3.7.3"
  }
 },
 "nbformat": 4,
 "nbformat_minor": 4
}
