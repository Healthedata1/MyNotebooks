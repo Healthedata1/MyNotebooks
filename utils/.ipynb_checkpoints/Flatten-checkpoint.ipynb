{
 "cells": [
  {
   "cell_type": "code",
   "execution_count": null,
   "metadata": {},
   "outputs": [],
   "source": [
    "import os\n",
    "import sys\n",
    "#import string\n",
    "import shutil"
   ]
  },
  {
   "cell_type": "markdown",
   "metadata": {},
   "source": [
    "### Generate the file paths to traverse, or a single path if a file name was given"
   ]
  },
  {
   "cell_type": "code",
   "execution_count": null,
   "metadata": {},
   "outputs": [],
   "source": [
    "def getfiles(path):\n",
    "    if os.path.isdir(path):\n",
    "        for root, dirs, files in os.walk(path):\n",
    "            for name in files:\n",
    "                yield os.path.join(root, name)\n",
    "    else:\n",
    "        yield path"
   ]
  },
  {
   "cell_type": "markdown",
   "metadata": {},
   "source": [
    "### get source folder"
   ]
  },
  {
   "cell_type": "code",
   "execution_count": null,
   "metadata": {},
   "outputs": [],
   "source": [
    "#fromdir = \"/Users/ehaas/Documents/FHIR/test_template/pages/\"\n",
    "fromdir = input()\n",
    "print(fromdir)"
   ]
  },
  {
   "cell_type": "markdown",
   "metadata": {},
   "source": [
    "### get destination folder"
   ]
  },
  {
   "cell_type": "code",
   "execution_count": 93,
   "metadata": {},
   "outputs": [],
   "source": [
    "destination = \"/Users/ehaas/Documents/FHIR/test_template/test/\""
   ]
  },
  {
   "cell_type": "markdown",
   "metadata": {},
   "source": [
    "### Flatten Directory and Replace 'index.md' with [Directory name].md"
   ]
  },
  {
   "cell_type": "code",
   "execution_count": 94,
   "metadata": {},
   "outputs": [
    {
     "name": "stdout",
     "output_type": "stream",
     "text": [
      "/Users/ehaas/Documents/FHIR/test_template/test/index.md\n",
      "/Users/ehaas/Documents/FHIR/test_template/test/index.md\n",
      "/Users/ehaas/Documents/FHIR/test_template/test/index.md\n",
      "/Users/ehaas/Documents/FHIR/test_template/test/index.md\n",
      "/Users/ehaas/Documents/FHIR/test_template/test/index.md\n",
      "/Users/ehaas/Documents/FHIR/test_template/test/index.md\n",
      "/Users/ehaas/Documents/FHIR/test_template/test/index.md\n",
      "/Users/ehaas/Documents/FHIR/test_template/test/index.md\n",
      "/Users/ehaas/Documents/FHIR/test_template/test/index.md\n",
      "/Users/ehaas/Documents/FHIR/test_template/test/index.md\n"
     ]
    }
   ],
   "source": [
    "for f in getfiles(fromdir):\n",
    "    \n",
    "    filename = f.split('/')[-1]\n",
    "    \n",
    "    if filename != '.DS_Store':\n",
    "        print(destination+filename)\n",
    "        if os.path.isfile(destination+filename):\n",
    "            filename = f.split('/')[-2] + '.md'\n",
    "        #os.rename(f, destination+filename)\n",
    "        shutil.copy(f, destination+filename)"
   ]
  },
  {
   "cell_type": "code",
   "execution_count": null,
   "metadata": {},
   "outputs": [],
   "source": []
  }
 ],
 "metadata": {
  "kernelspec": {
   "display_name": "Python 3",
   "language": "python",
   "name": "python3"
  },
  "language_info": {
   "codemirror_mode": {
    "name": "ipython",
    "version": 3
   },
   "file_extension": ".py",
   "mimetype": "text/x-python",
   "name": "python",
   "nbconvert_exporter": "python",
   "pygments_lexer": "ipython3",
   "version": "3.7.3"
  }
 },
 "nbformat": 4,
 "nbformat_minor": 2
}
