{
 "cells": [
  {
   "attachments": {},
   "cell_type": "markdown",
   "metadata": {},
   "source": [
    "# Find all must support elements in StructureDefinitions\n",
    "\n",
    "- for hard coded path search all SD (in YAML) for must support = true elements\n",
    "- list em in a md table format in std out\n",
    "- update em with with teh USCDI extension and write back to YAML"
   ]
  },
  {
   "cell_type": "code",
   "execution_count": 28,
   "metadata": {},
   "outputs": [
    {
     "data": {
      "text/plain": [
       "PosixPath('/Users/ehaas/Documents/FHIR/US-Core/input/examples-yaml')"
      ]
     },
     "execution_count": 28,
     "metadata": {},
     "output_type": "execute_result"
    }
   ],
   "source": [
    "from pathlib import Path\n",
    "from json import load, dumps\n",
    "from yaml import load as y_load, dump as y_dump, FullLoader\n",
    "from fhir.resources import construct_fhir_element\n",
    "from pprint import pprint\n",
    "my_path = Path('/Users/ehaas/Documents/FHIR/US-Core/input/examples-yaml')\n",
    "# snapshot_path =  Path('/Users/ehaas/Documents/FHIR/US-Core/output')\n",
    "my_path"
   ]
  },
  {
   "cell_type": "code",
   "execution_count": 29,
   "metadata": {},
   "outputs": [
    {
     "name": "stdout",
     "output_type": "stream",
     "text": [
      "0 /Users/ehaas/Documents/FHIR/US-Core/input/examples-yaml/allergyintolerance-provenance-example.yml Bundle\n",
      "c887e62f-6166-419f-8268-b5ecd6c7b901\n",
      "Found test at: ['entry', 0, 'resource', 'code', 'coding', 0, 'system']\n",
      "inserted new_element at ['entry', 0, 'resource', 'code', 'coding', 0, 'system']\n",
      "Found test at: ['entry', 0, 'resource', 'code', 'reaction', 0, 'manifestation', 0, 'coding', 0, 'system']\n",
      "inserted new_element at ['entry', 0, 'resource', 'code', 'reaction', 0, 'manifestation', 0, 'coding', 0, 'system']\n",
      "-----------------\n",
      "writing to /Users/ehaas/Documents/FHIR/US-Core/input/examples-yaml/allergyintolerance-provenance-example.yml...\n",
      "1 /Users/ehaas/Documents/FHIR/US-Core/input/examples-yaml/allergyintolerance-example.yml AllergyIntolerance\n",
      "example\n",
      "Found test at: ['code', 'coding', 0, 'system']\n",
      "inserted new_element at ['code', 'coding', 0, 'system']\n",
      "Found test at: ['code', 'reaction', 0, 'manifestation', 0, 'coding', 0, 'system']\n",
      "inserted new_element at ['code', 'reaction', 0, 'manifestation', 0, 'coding', 0, 'system']\n",
      "-----------------\n",
      "writing to /Users/ehaas/Documents/FHIR/US-Core/input/examples-yaml/allergyintolerance-example.yml...\n"
     ]
    }
   ],
   "source": [
    "#find  where to insert new element\n",
    "# search recursively for a value = test and return the path to the value\n",
    "# add an element as a sibling to the path\n",
    "\n",
    "\n",
    "def find_and_insert(my_dict, path, new_element):\n",
    "    test = 'http://snomed.info/sct'\n",
    "    new_key = 'version'\n",
    "    new_element = \"http://snomed.info/sct/731000124108\"\n",
    "    for k, v in my_dict.items():\n",
    "        path.append(k)\n",
    "        if isinstance(v, dict):\n",
    "            find_and_insert(v, path, new_element)\n",
    "        elif isinstance(v, list):\n",
    "            for i, item in enumerate(v):\n",
    "                if isinstance(item, dict):\n",
    "                    path.append(i)\n",
    "                    find_and_insert(item, path, new_element)\n",
    "                    path.pop()\n",
    "        elif v == test:\n",
    "            print('Found test at:', path)\n",
    "            #insert new element\n",
    "            my_dict[new_key] = new_element\n",
    "            print(f'inserted new_element at {path}')\n",
    "            return\n",
    "        path.pop()\n",
    "        # print(y_dump(my_dict,indent=2,sort_keys=False))\n",
    "\n",
    "\n",
    "for enum,i in enumerate(my_path.glob('allergy*.yml')):\n",
    "    # print(i.read_text())\n",
    "    obj = y_load(i.read_text(),Loader=FullLoader) #dict\n",
    "    # if obj['id'] not in []:\n",
    "    #     continue\n",
    "    print(enum,i,obj['resourceType'])\n",
    "    print(obj['id'])\n",
    "    find_and_insert(obj, [], 'new_element')\n",
    "    print('-----------------')\n",
    "    print(f'writing to {i}...')\n",
    "    i.write_text(y_dump(obj,indent=2,sort_keys=False))\n",
    "\n",
    "\n",
    "\n"
   ]
  },
  {
   "cell_type": "code",
   "execution_count": 30,
   "metadata": {},
   "outputs": [
    {
     "ename": "TypeError",
     "evalue": "string indices must be integers",
     "output_type": "error",
     "traceback": [
      "\u001b[0;31m---------------------------------------------------------------------------\u001b[0m",
      "\u001b[0;31mTypeError\u001b[0m                                 Traceback (most recent call last)",
      "\u001b[1;32m/Users/ehaas/Documents/Python/Jupyter/MyNotebooks/utils/element_adder.ipynb Cell 4\u001b[0m in \u001b[0;36m<cell line: 1>\u001b[0;34m()\u001b[0m\n\u001b[1;32m      <a href='vscode-notebook-cell:/Users/ehaas/Documents/Python/Jupyter/MyNotebooks/utils/element_adder.ipynb#W4sZmlsZQ%3D%3D?line=0'>1</a>\u001b[0m \u001b[39mfor\u001b[39;00m e \u001b[39min\u001b[39;00m obj:\n\u001b[1;32m      <a href='vscode-notebook-cell:/Users/ehaas/Documents/Python/Jupyter/MyNotebooks/utils/element_adder.ipynb#W4sZmlsZQ%3D%3D?line=1'>2</a>\u001b[0m     \u001b[39mtry\u001b[39;00m:\n\u001b[0;32m----> <a href='vscode-notebook-cell:/Users/ehaas/Documents/Python/Jupyter/MyNotebooks/utils/element_adder.ipynb#W4sZmlsZQ%3D%3D?line=2'>3</a>\u001b[0m         \u001b[39mif\u001b[39;00m  e[\u001b[39m'\u001b[39;49m\u001b[39mid\u001b[39;49m\u001b[39m'\u001b[39;49m] \u001b[39min\u001b[39;00m uscdi_whitelist \u001b[39mor\u001b[39;00m e[\u001b[39m'\u001b[39m\u001b[39mmustSupport\u001b[39m\u001b[39m'\u001b[39m]:\n\u001b[1;32m      <a href='vscode-notebook-cell:/Users/ehaas/Documents/Python/Jupyter/MyNotebooks/utils/element_adder.ipynb#W4sZmlsZQ%3D%3D?line=3'>4</a>\u001b[0m             count \u001b[39m+\u001b[39m\u001b[39m=\u001b[39m \u001b[39m1\u001b[39m\n\u001b[1;32m      <a href='vscode-notebook-cell:/Users/ehaas/Documents/Python/Jupyter/MyNotebooks/utils/element_adder.ipynb#W4sZmlsZQ%3D%3D?line=4'>5</a>\u001b[0m             \u001b[39m# print(f\"e['id'] = {e['id']}\")\u001b[39;00m\n\u001b[1;32m      <a href='vscode-notebook-cell:/Users/ehaas/Documents/Python/Jupyter/MyNotebooks/utils/element_adder.ipynb#W4sZmlsZQ%3D%3D?line=5'>6</a>\u001b[0m             \u001b[39m# add extension to the element\u001b[39;00m\n\u001b[1;32m      <a href='vscode-notebook-cell:/Users/ehaas/Documents/Python/Jupyter/MyNotebooks/utils/element_adder.ipynb#W4sZmlsZQ%3D%3D?line=6'>7</a>\u001b[0m             \u001b[39m# print(dumps(e, indent=2))\u001b[39;00m\n",
      "\u001b[0;31mTypeError\u001b[0m: string indices must be integers"
     ]
    }
   ],
   "source": [
    "\n",
    "\n",
    "\n",
    "    for e in obj:\n",
    "        try:\n",
    "            if  e['id'] in uscdi_whitelist or e['mustSupport']:\n",
    "                count += 1\n",
    "                # print(f\"e['id'] = {e['id']}\")\n",
    "                # add extension to the element\n",
    "                # print(dumps(e, indent=2))\n",
    "                try:\n",
    "                    e['extension'].append(my_ext)\n",
    "                except KeyError:\n",
    "                    e['extension'] = [my_ext]\n",
    "                # need to add to the short from the snapshot\n",
    "                #get snapshot_short\n",
    "                try:\n",
    "                    snapshot_short = (s for s in snapshot['snapshot']['element'] if s['id'] == e['id']).__next__()['short']\n",
    "                except StopIteration:\n",
    "                    try:\n",
    "                        snapshot_short = (s for s in snapshot['snapshot']['element'] if s['id'] == ms_id_map[e['id']]).__next__()['short']\n",
    "                    except StopIteration:\n",
    "                        cant_match_path.append((e['id'],e['path']))\n",
    "                print(\".\", end='')\n",
    "                # print(snapshot_short)\n",
    "                try:\n",
    "                    e['short'] = f\"(USCDI Requirement) {snapshot_short}\"\n",
    "                except KeyError:\n",
    "                    e['short'] = '(USCDI Requirement)'\n",
    "\n",
    "                # print(yaml.dump(e, indent=2))\n",
    "                # list the choices\n",
    "                # for snapshot in obj['snapshot']['element']:\n",
    "                #     if e['path'] == snapshot['path']:\n",
    "                #     # print(snapshot['path'])\n",
    "                #         types = [type['code'] for type in snapshot['type'] if type['code'] in \n",
    "                #                  ['code',\"Coding\",\"CodeableConcept\"]]\n",
    "                #         if types and snapshot['binding']['strength']=='extensible':\n",
    "                #             print(f\"{obj['title']}|{e['path']}|e min: {e['min']}|{types}|{snapshot['binding']['strength']}\")\n",
    "                #         break\n",
    "                # print( f'writing file to {i}')\n",
    "                # fhir_obj = construct_fhir_element(obj['resourceType'], obj) # sort elements and validate\n",
    "                # # i.write_text(fhir_obj.yaml(indent=True))\n",
    "\n",
    "                # print(fhir_obj.yaml(indent=True))\n",
    "                \n",
    "\n",
    "        except KeyError:\n",
    "            pass\n",
    "    print()\n",
    "    print( f\"writing {obj['id']} to {i}\\n\\n\")\n",
    "    fhir_obj = construct_fhir_element(obj['resourceType'], obj) # sort elements and validate\n",
    "    i.write_text(fhir_obj.yaml(indent=True))\n",
    "\n",
    "    # print(fhir_obj.yaml(indent=True))\n",
    "    # if count > 25 : break\n",
    "print(f'{enum} profiles with {count} mustSupport elements added to the differential')\n",
    "\n",
    "print(f'cant_match_path = {set(cant_match_path)}')"
   ]
  }
 ],
 "metadata": {
  "kernelspec": {
   "display_name": "Python 3.10.2 64-bit ('jupyter')",
   "language": "python",
   "name": "python3"
  },
  "language_info": {
   "codemirror_mode": {
    "name": "ipython",
    "version": 3
   },
   "file_extension": ".py",
   "mimetype": "text/x-python",
   "name": "python",
   "nbconvert_exporter": "python",
   "pygments_lexer": "ipython3",
   "version": "3.10.2"
  },
  "orig_nbformat": 4,
  "vscode": {
   "interpreter": {
    "hash": "18672f2fb81dcbb023a0ac48a86c775a19488782369d96ffbd3382a22fd285cf"
   }
  }
 },
 "nbformat": 4,
 "nbformat_minor": 2
}
