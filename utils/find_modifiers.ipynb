{
 "cells": [
  {
   "attachments": {},
   "cell_type": "markdown",
   "metadata": {},
   "source": [
    "### Find all not must support modifier elements in FHIR US Core\n",
    "\n",
    "A Python script to find all modifier elements in FHIR US Core that are not marked as \"must support,\" you would need to first access the FHIR US Core specification. This can be done by downloading the specification from the HL7 website or by accessing it through a web API that provides access to the FHIR specification.\n",
    "\n",
    "Once you have access to the specification, you would need to parse through the structure definitions for each resource and extract the elements that have the \"modifier\" flag set to \"true.\" Then, for each of these elements, you would need to check if the \"mustSupport\" flag is set to \"true.\" If the \"mustSupport\" flag is not set to \"true,\" then you would add the element to a list of elements that are not marked as \"must support.\""
   ]
  },
  {
   "cell_type": "code",
   "execution_count": 42,
   "metadata": {},
   "outputs": [
    {
     "name": "stdout",
     "output_type": "stream",
     "text": [
      "|    | profile                                                                   | element                                   |\n",
      "|---:|:--------------------------------------------------------------------------|:------------------------------------------|\n",
      "|  0 | US Core Respiratory Rate Profile                                          | Observation.value[x].comparator           |\n",
      "|  1 | US Core Heart Rate Profile                                                | Observation.value[x].comparator           |\n",
      "|  2 | US Core Body Temperature Profile                                          | Observation.value[x].comparator           |\n",
      "|  3 | US Core Practitioner Profile                                              | Practitioner.identifier.use               |\n",
      "|  4 | US Core Practitioner Profile                                              | Practitioner.name.use                     |\n",
      "|  5 | US Core Practitioner Profile                                              | Practitioner.telecom.use                  |\n",
      "|  6 | US Core Practitioner Profile                                              | Practitioner.address.use                  |\n",
      "|  7 | US Core Pediatric BMI for Age Observation Profile                         | Observation.value[x].comparator           |\n",
      "|  8 | US Core Pediatric Weight for Height Observation Profile                   | Observation.value[x].comparator           |\n",
      "|  9 | US Core Patient Profile                                                   | Patient.identifier.use                    |\n",
      "| 10 | US Core Patient Profile                                                   | Patient.active                            |\n",
      "| 11 | US Core Patient Profile                                                   | Patient.name.use                          |\n",
      "| 12 | US Core Patient Profile                                                   | Patient.deceased[x]                       |\n",
      "| 13 | US Core Patient Profile                                                   | Patient.address.use                       |\n",
      "| 14 | US Core Patient Profile                                                   | Patient.link                              |\n",
      "| 15 | US Core Pulse Oximetry Profile                                            | Observation.value[x].comparator           |\n",
      "| 16 | US Core Pulse Oximetry Profile                                            | Observation.component.value[x].comparator |\n",
      "| 17 | US Core Pulse Oximetry Profile                                            | Observation.component.value[x].comparator |\n",
      "| 18 | US Core Immunization Profile                                              | Immunization.isSubpotent                  |\n",
      "| 19 | US Core Head Circumference Profile                                        | Observation.value[x].comparator           |\n",
      "| 20 | US Core MedicationRequest Profile                                         | MedicationRequest.doNotPerform            |\n",
      "| 21 | US Core Specimen Profile                                                  | Specimen.status                           |\n",
      "| 22 | US Core Encounter Profile                                                 | Encounter.identifier.use                  |\n",
      "| 23 | US Core Body Height Profile                                               | Observation.value[x].comparator           |\n",
      "| 24 | US Core BMI Profile                                                       | Observation.value[x].comparator           |\n",
      "| 25 | US Core Organization Profile                                              | Organization.identifier.use               |\n",
      "| 26 | US Core Organization Profile                                              | Organization.telecom.use                  |\n",
      "| 27 | US Core Organization Profile                                              | Organization.address.use                  |\n",
      "| 28 | US Core Medication Profile                                                | Medication.status                         |\n",
      "| 29 | US Core Blood Pressure Profile                                            | Observation.component.value[x].comparator |\n",
      "| 30 | US Core Blood Pressure Profile                                            | Observation.component.value[x].comparator |\n",
      "| 31 | US Core PractitionerRole Profile                                          | PractitionerRole.telecom.use              |\n",
      "| 32 | US Core CarePlan Profile                                                  | CarePlan.activity.detail.status           |\n",
      "| 33 | US Core CarePlan Profile                                                  | CarePlan.activity.detail.doNotPerform     |\n",
      "| 34 | US Core ServiceRequest Profile                                            | ServiceRequest.doNotPerform               |\n",
      "| 35 | US Core Location Profile                                                  | Location.address.use                      |\n",
      "| 36 | US Core Implantable Device Profile                                        | Device.status                             |\n",
      "| 37 | US Core Pediatric Head Occipital Frontal Circumference Percentile Profile | Observation.value[x].comparator           |\n",
      "| 38 | US Core Body Weight Profile                                               | Observation.value[x].comparator           |\n"
     ]
    }
   ],
   "source": [
    "\n",
    "from pathlib import Path\n",
    "from json import loads\n",
    "import pandas as pd\n",
    "\n",
    "mods = ['implicitRules', 'modifierExtension']\n",
    "def find_not_must_support_modifiers(my_path):\n",
    "    not_must_support = []\n",
    "    \n",
    "    # Get the structure definitions from the specification\n",
    "    # response = requests.get(spec_url + \"/StructureDefinition\")\n",
    "    # if response.status_code == 200:\n",
    "    #     structure_definitions = response.json()[\"entry\"]\n",
    "        \n",
    "        # Iterate through each structure definition\n",
    "    for my_file in my_path.glob('StructureDefinition*.json'):\n",
    "        structure_definition = loads(my_file.read_text())\n",
    "        profile = structure_definition[\"title\"]\n",
    "\n",
    "        elements = structure_definition[\"snapshot\"][\"element\"]\n",
    "        \n",
    "        # Iterate through each element in the structure definition\n",
    "        for element in elements:\n",
    "            # print(element[\"path\"])\n",
    "            # Check if the element is a modifier\n",
    "            if element[\"isModifier\"] and not any(mod in element[\"path\"] for mod in mods):\n",
    "                # print(f'{element[\"path\"]} is a modifier!!!')\n",
    "                # Check if the element is marked as must support\n",
    "                try:\n",
    "                    if not element[\"mustSupport\"]:\n",
    "                      not_must_support.append({\"profile\": profile, \"element\": element[\"path\"]})\n",
    "                except KeyError:\n",
    "                    not_must_support.append({\"profile\": profile, \"element\": element[\"path\"]})\n",
    "    return not_must_support\n",
    "\n",
    "my_path = Path(r\"/Users/ehaas/.fhir/packages/hl7.fhir.us.core#dev/package\")\n",
    "my_path\n",
    "\n",
    "not_must_support = find_not_must_support_modifiers(my_path=my_path)\n",
    "# print(not_must_support)\n",
    "df = pd.DataFrame(not_must_support)\n",
    "markdown_table = df.to_markdown()\n",
    "print(markdown_table)"
   ]
  }
 ],
 "metadata": {
  "kernelspec": {
   "display_name": "jupyter",
   "language": "python",
   "name": "python3"
  },
  "language_info": {
   "codemirror_mode": {
    "name": "ipython",
    "version": 3
   },
   "file_extension": ".py",
   "mimetype": "text/x-python",
   "name": "python",
   "nbconvert_exporter": "python",
   "pygments_lexer": "ipython3",
   "version": "3.10.2 (main, Mar  9 2022, 02:06:45) [Clang 13.0.0 (clang-1300.0.29.30)]"
  },
  "orig_nbformat": 4,
  "vscode": {
   "interpreter": {
    "hash": "18672f2fb81dcbb023a0ac48a86c775a19488782369d96ffbd3382a22fd285cf"
   }
  }
 },
 "nbformat": 4,
 "nbformat_minor": 2
}
