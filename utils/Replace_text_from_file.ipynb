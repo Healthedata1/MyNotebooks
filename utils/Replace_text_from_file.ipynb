{
 "cells": [
  {
   "cell_type": "markdown",
   "id": "3c7bcca1-d995-49bd-89d5-121441502b49",
   "metadata": {},
   "source": [
    "### Replace or Remove Text from file\n",
    "\n",
    "- get file(s) from path\n",
    "- assign replace or removed string to variable\n",
    "- replace string in file\n",
    "- save file (overwriting old)"
   ]
  },
  {
   "cell_type": "code",
   "execution_count": 1,
   "id": "cb1e90d0-1f86-4694-a74c-c4c23ee150b5",
   "metadata": {},
   "outputs": [],
   "source": [
    "from json import dumps, loads\n",
    "import yaml\n",
    "from pathlib import Path"
   ]
  },
  {
   "cell_type": "code",
   "execution_count": 14,
   "id": "fc1c867c-e20b-4817-94e9-2d6e710267b3",
   "metadata": {},
   "outputs": [
    {
     "data": {
      "text/plain": [
       "PosixPath('/Users/ehaas/Documents/FHIR/US-Core/input/intro-notes')"
      ]
     },
     "execution_count": 14,
     "metadata": {},
     "output_type": "execute_result"
    }
   ],
   "source": [
    "s1 = \"\"\"\n",
    "- The syntax used to describe the interactions is described [here](general-guidance.html#search-syntax).\n",
    "- See the [General Guidance] section for additional rules and expectations when a server requires status parameters.\n",
    "- See the [General Guidance] section for additional guidance on searching for multiple patients.\n",
    "\"\"\"\n",
    "\n",
    "\n",
    "path = Path(r'/Users/ehaas/Documents/FHIR/US-Core/input/intro-notes')\n",
    "path"
   ]
  },
  {
   "cell_type": "code",
   "execution_count": 18,
   "id": "1fbb3911-dc05-4eba-9577-7d72b86f1021",
   "metadata": {},
   "outputs": [
    {
     "name": "stdout",
     "output_type": "stream",
     "text": [
      "StructureDefinition-us-core-vital-signs-notes.md\n",
      "StructureDefinition-us-core-observation-clinical-test-notes.md\n",
      "StructureDefinition-us-core-bmi-notes.md\n",
      "StructureDefinition-us-core-procedure-notes.md\n",
      "StructureDefinition-us-core-medicationrequest-notes.md\n",
      "StructureDefinition-pediatric-weight-for-height-notes.md\n",
      "StructureDefinition-us-core-pulse-oximetry-notes.md\n",
      "StructureDefinition-us-core-observation-social-history-notes.md\n",
      "StructureDefinition-us-core-immunization-notes.md\n",
      "StructureDefinition-us-core-goal-notes.md\n",
      "StructureDefinition-us-core-servicerequest-notes.md\n",
      "StructureDefinition-us-core-provenance-notes.md\n",
      "StructureDefinition-us-core-condition-problems-health-concerns-notes.md\n",
      "StructureDefinition-us-core-observation-SDOH-assessment-notes.md\n",
      "StructureDefinition-us-core-blood-pressure-notes.md\n",
      "StructureDefinition-pediatric-bmi-for-age-notes.md\n",
      "StructureDefinition-us-core-relatedperson-notes.md\n",
      "StructureDefinition-us-core-patient-notes.md\n",
      "StructureDefinition-us-core-careplan-notes.md\n",
      "StructureDefinition-us-core-heart-rate-notes.md\n",
      "StructureDefinition-us-core-smokingstatus-notes.md\n",
      "StructureDefinition-us-core-body-temperature-notes.md\n",
      "StructureDefinition-us-core-documentreference-notes.md\n",
      "StructureDefinition-us-core-condition-encounter-diagnosis-notes.md\n",
      "StructureDefinition-head-occipital-frontal-circumference-percentile-notes.md\n",
      "StructureDefinition-us-core-observation-lab-notes.md\n",
      "StructureDefinition-us-core-medication-notes.md\n",
      "StructureDefinition-us-core-practitioner-notes.md\n",
      "StructureDefinition-us-core-observation-imaging-notes.md\n",
      "StructureDefinition-us-core-encounter-notes.md\n",
      "StructureDefinition-us-core-body-weight-notes.md\n",
      "StructureDefinition-us-core-practitionerrole-notes.md\n",
      "StructureDefinition-us-core-head-circumference-notes.md\n",
      "StructureDefinition-us-core-questionnaireresponse-notes.md\n",
      "StructureDefinition-us-core-observation-sexual-orientation-notes.md\n",
      "StructureDefinition-us-core-respiratory-rate-notes.md\n",
      "StructureDefinition-us-core-organization-notes.md\n",
      "StructureDefinition-us-core-diagnosticreport-lab-notes.md\n",
      "StructureDefinition-us-core-body-height-notes.md\n",
      "StructureDefinition-us-core-location-notes.md\n",
      "StructureDefinition-us-core-direct-notes.md\n",
      "StructureDefinition-us-core-careteam-notes.md\n",
      "StructureDefinition-us-core-implantable-device-notes.md\n",
      "StructureDefinition-us-core-allergyintolerance-notes.md\n",
      "StructureDefinition-us-core-diagnosticreport-note-notes.md\n",
      "StructureDefinition-us-core-birthsex-notes.md\n",
      "StructureDefinition-us-core-observation-survey-notes.md\n"
     ]
    }
   ],
   "source": [
    "for p in path.glob(\"StructureDefinition-*-notes.md\"):\n",
    "    print(p.name)\n",
    "    in_text = p.read_text()\n",
    "    #print(in_text)\n",
    "    #print(\"*\"*80)\n",
    "    out_text = in_text.replace(s1,'')\n",
    "    #print(\"*\"*80)\n",
    "    #print(out_text)\n",
    "    p.write_text(out_text)\n"
   ]
  },
  {
   "cell_type": "code",
   "execution_count": null,
   "id": "c19a097b-c77a-4eab-9fe0-7714f302f6cb",
   "metadata": {},
   "outputs": [],
   "source": []
  }
 ],
 "metadata": {
  "kernelspec": {
   "display_name": "Python 3 (ipykernel)",
   "language": "python",
   "name": "python3"
  },
  "language_info": {
   "codemirror_mode": {
    "name": "ipython",
    "version": 3
   },
   "file_extension": ".py",
   "mimetype": "text/x-python",
   "name": "python",
   "nbconvert_exporter": "python",
   "pygments_lexer": "ipython3",
   "version": "3.10.2"
  }
 },
 "nbformat": 4,
 "nbformat_minor": 5
}
