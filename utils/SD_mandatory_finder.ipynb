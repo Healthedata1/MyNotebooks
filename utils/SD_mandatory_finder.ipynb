{
 "cells": [
  {
   "cell_type": "markdown",
   "metadata": {},
   "source": [
    "# Find mandatory elements in folder of StructureDefinitions\n",
    "\n",
    "- for hard coded path search all SD for mandatory (min=1) elements\n",
    "- list em in a md table format in std out"
   ]
  },
  {
   "cell_type": "code",
   "execution_count": 19,
   "metadata": {},
   "outputs": [
    {
     "data": {
      "text/plain": [
       "PosixPath('/Users/ehaas/Documents/FHIR/US-Core/output')"
      ]
     },
     "execution_count": 19,
     "metadata": {},
     "output_type": "execute_result"
    }
   ],
   "source": [
    "from pathlib import Path\n",
    "from json import load, dumps\n",
    "my_path = Path('/Users/ehaas/Documents/FHIR/US-Core/output')\n",
    "my_path"
   ]
  },
  {
   "cell_type": "code",
   "execution_count": 31,
   "metadata": {},
   "outputs": [
    {
     "name": "stdout",
     "output_type": "stream",
     "text": [
      "|Profile|Path|Min|DataType|Binding\n",
      "|---|---|---|---|---|\n",
      "US Core CareTeam Profile|CareTeam.participant.role|diff min: 1|['CodeableConcept']|extensible\n",
      "US Core Pediatric Weight for Height Observation Profile|Observation.code|diff min: 1|['CodeableConcept']|extensible\n",
      "US Core Condition Encounter Diagnosis Profile|Condition.category|diff min: 1|['CodeableConcept']|extensible\n",
      "US Core Condition Encounter Diagnosis Profile|Condition.category|diff min: 1|['CodeableConcept']|extensible\n",
      "US Core Condition Encounter Diagnosis Profile|Condition.code|diff min: 1|['CodeableConcept']|extensible\n",
      "US Core Coverage Profile|Coverage.relationship|diff min: 1|['CodeableConcept']|extensible\n",
      "US Core Provenance Profile|Provenance.agent.type|diff min: 1|['CodeableConcept']|extensible\n",
      "US Core Provenance Profile|Provenance.agent.type|diff min: 1|['CodeableConcept']|extensible\n",
      "US Core Tribal Affiliation Extension|Extension.extension.value[x]|diff min: 1|['CodeableConcept']|extensible\n",
      "US Core Tribal Affiliation Extension|Extension.extension.value[x]|diff min: 1|['CodeableConcept']|extensible\n",
      "US Core Specimen Profile|Specimen.type|diff min: 1|['CodeableConcept']|extensible\n",
      "US Core Encounter Profile|Encounter.type|diff min: 1|['CodeableConcept']|extensible\n",
      "US Core Procedure Profile|Procedure.code|diff min: 1|['CodeableConcept']|extensible\n",
      "US Core Medication Profile|Medication.code|diff min: 1|['CodeableConcept']|extensible\n",
      "US Core Blood Pressure Profile|Observation.component.code|diff min: 1|['CodeableConcept']|extensible\n",
      "US Core Blood Pressure Profile|Observation.component.code|diff min: 1|['CodeableConcept']|extensible\n",
      "US Core Condition Problems and Health Concerns Profile|Condition.category|diff min: 1|['CodeableConcept']|extensible\n",
      "US Core Condition Problems and Health Concerns Profile|Condition.category|diff min: 1|['CodeableConcept']|extensible\n",
      "US Core Condition Problems and Health Concerns Profile|Condition.code|diff min: 1|['CodeableConcept']|extensible\n",
      "US Core Jurisdiction Extension|Extension.value[x]|diff min: 1|['CodeableConcept']|extensible\n",
      "US Core ServiceRequest Profile|ServiceRequest.code|diff min: 1|['CodeableConcept']|extensible\n",
      "US Core Implantable Device Profile|Device.type|diff min: 1|['CodeableConcept']|extensible\n",
      "US Core AllergyIntolerance Profile|AllergyIntolerance.code|diff min: 1|['CodeableConcept']|extensible\n"
     ]
    }
   ],
   "source": [
    "print('|Profile|Path|Min|DataType|Binding')\n",
    "print('|---|---|---|---|---|')\n",
    "for i in my_path.glob('Struct*.json'):\n",
    "    # print(i)\n",
    "    obj = load(i.open())\n",
    "    # print(obj['id'])\n",
    "    #find choice type elements in diff\n",
    "    for diff in obj['differential']['element']:\n",
    "        try:\n",
    "            if diff['min'] > 0:\n",
    "                # print(i)\n",
    "                # print(diff['path'])\n",
    "                #list the choices\n",
    "                for snapshot in obj['snapshot']['element']:\n",
    "                    if diff['path'] == snapshot['path']:\n",
    "                    # print(snapshot['path'])\n",
    "                        types = [type['code'] for type in snapshot['type'] if type['code'] in \n",
    "                                 ['code',\"Coding\",\"CodeableConcept\"]]\n",
    "                        if types and snapshot['binding']['strength']=='extensible':\n",
    "                            print(f\"{obj['title']}|{diff['path']}|diff min: {diff['min']}|{types}|{snapshot['binding']['strength']}\")\n",
    "                        break\n",
    "        except KeyError:\n",
    "            pass"
   ]
  },
  {
   "cell_type": "markdown",
   "metadata": {},
   "source": [
    "# Find all element reference types in folder of StructureDefinitions\n",
    "\n",
    "- for hard coded path search all SD for must support choice elments\n",
    "- list all reference choices in a md table format in std out"
   ]
  },
  {
   "cell_type": "code",
   "execution_count": 5,
   "metadata": {},
   "outputs": [],
   "source": [
    "\n",
    "for i in my_path.glob('Struct*.json'):\n",
    "    # print(i)\n",
    "    obj = load(i.open())\n",
    "    # print(obj['id'])\n",
    "    #find reference type elements in diff\n",
    "    for diff in obj['differential']['element']:\n",
    "        try:\n",
    "          if diff['mustSupport'] == True:\n",
    "            # print(i)\n",
    "            # print(diff['path'])\n",
    "            #list the choices\n",
    "            for snapshot in obj['snapshot']['element']:\n",
    "                if diff['path'] == snapshot['path']:\n",
    "                   # print(snapshot['path'])\n",
    "                   for my_type in snapshot['type']:\n",
    "                        if my_type['code'] == \"Reference\" and len(my_type['targetProfile']) > 1:\n",
    "                            print(f\"{obj['title']}|{diff['path']}|{', '.join( my_type['targetProfile'])}\")\n",
    "                            break\n",
    "        except:\n",
    "            pass"
   ]
  },
  {
   "cell_type": "code",
   "execution_count": null,
   "metadata": {},
   "outputs": [],
   "source": []
  }
 ],
 "metadata": {
  "kernelspec": {
   "display_name": "Python 3.10.2 64-bit ('jupyter')",
   "language": "python",
   "name": "python3"
  },
  "language_info": {
   "codemirror_mode": {
    "name": "ipython",
    "version": 3
   },
   "file_extension": ".py",
   "mimetype": "text/x-python",
   "name": "python",
   "nbconvert_exporter": "python",
   "pygments_lexer": "ipython3",
   "version": "3.10.2"
  },
  "orig_nbformat": 4,
  "vscode": {
   "interpreter": {
    "hash": "18672f2fb81dcbb023a0ac48a86c775a19488782369d96ffbd3382a22fd285cf"
   }
  }
 },
 "nbformat": 4,
 "nbformat_minor": 2
}
