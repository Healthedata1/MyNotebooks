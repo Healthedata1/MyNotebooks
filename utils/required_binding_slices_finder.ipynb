{
 "cells": [
  {
   "attachments": {},
   "cell_type": "markdown",
   "metadata": {},
   "source": [
    "# Find required binding slices in folder of StructureDefinitions\n",
    "\n",
    "- for hard coded path search all SD for mandatory (min=1) elements\n",
    "- list em in a md table format in std out"
   ]
  },
  {
   "cell_type": "code",
   "execution_count": 1,
   "metadata": {},
   "outputs": [
    {
     "data": {
      "text/plain": [
       "PosixPath('/Users/ehaas/Documents/FHIR/US-Core/input/resources-yaml')"
      ]
     },
     "execution_count": 1,
     "metadata": {},
     "output_type": "execute_result"
    }
   ],
   "source": [
    "from pathlib import Path\n",
    "from json import load, dumps\n",
    "from yaml import load as y_load, dump as y_dump, FullLoader\n",
    "from fhir.resources import construct_fhir_element\n",
    "my_path = Path('/Users/ehaas/Documents/FHIR/US-Core/input/resources-yaml')\n",
    "my_path"
   ]
  },
  {
   "cell_type": "code",
   "execution_count": 4,
   "metadata": {},
   "outputs": [
    {
     "name": "stdout",
     "output_type": "stream",
     "text": [
      "/Users/ehaas/Documents/FHIR/US-Core/input/resources-yaml/StructureDefinition-us-core-diagnosticreport-note.yml\n",
      "DiagnosticReport.category\n",
      "writing file to /Users/ehaas/Documents/FHIR/US-Core/input/resources-yaml/StructureDefinition-us-core-diagnosticreport-note.yml\n",
      "/Users/ehaas/Documents/FHIR/US-Core/input/resources-yaml/StructureDefinition-us-core-servicerequest.yml\n",
      "ServiceRequest.category\n",
      "writing file to /Users/ehaas/Documents/FHIR/US-Core/input/resources-yaml/StructureDefinition-us-core-servicerequest.yml\n",
      "/Users/ehaas/Documents/FHIR/US-Core/input/resources-yaml/StructureDefinition-us-core-medicationrequest.yml\n",
      "MedicationRequest.category\n",
      "writing file to /Users/ehaas/Documents/FHIR/US-Core/input/resources-yaml/StructureDefinition-us-core-medicationrequest.yml\n",
      "/Users/ehaas/Documents/FHIR/US-Core/input/resources-yaml/StructureDefinition-us-core-simple-observation.yml\n",
      "Observation.category\n",
      "writing file to /Users/ehaas/Documents/FHIR/US-Core/input/resources-yaml/StructureDefinition-us-core-simple-observation.yml\n",
      "/Users/ehaas/Documents/FHIR/US-Core/input/resources-yaml/StructureDefinition-us-core-documentreference.yml\n",
      "DocumentReference.category\n",
      "writing file to /Users/ehaas/Documents/FHIR/US-Core/input/resources-yaml/StructureDefinition-us-core-documentreference.yml\n",
      "/Users/ehaas/Documents/FHIR/US-Core/input/resources-yaml/StructureDefinition-us-core-observation-clinical-result.yml\n",
      "Observation.category\n",
      "writing file to /Users/ehaas/Documents/FHIR/US-Core/input/resources-yaml/StructureDefinition-us-core-observation-clinical-result.yml\n",
      "/Users/ehaas/Documents/FHIR/US-Core/input/resources-yaml/StructureDefinition-us-core-condition-problems-health-concerns.yml\n",
      "Condition.category\n",
      "writing file to /Users/ehaas/Documents/FHIR/US-Core/input/resources-yaml/StructureDefinition-us-core-condition-problems-health-concerns.yml\n",
      "/Users/ehaas/Documents/FHIR/US-Core/input/resources-yaml/StructureDefinition-us-core-observation-screening-assessment.yml\n",
      "Observation.category\n",
      "writing file to /Users/ehaas/Documents/FHIR/US-Core/input/resources-yaml/StructureDefinition-us-core-observation-screening-assessment.yml\n"
     ]
    }
   ],
   "source": [
    "\n",
    "for i in my_path.glob('Struct*.yml'):\n",
    "    # print(i)\n",
    "    obj = y_load(i.read_text(),Loader=FullLoader) #dict\n",
    "    # print(obj['id'])\n",
    "    \n",
    "\n",
    "    #find choice type elements in diff\n",
    "    for diff in obj['differential']['element']:\n",
    "        try:\n",
    "            if diff['sliceName'] and diff['binding']['strength'] == 'required':\n",
    "                print(i)\n",
    "                print(diff['path'])\n",
    "\n",
    "                # # print(dumps(diff, indent=2))\n",
    "                # try:\n",
    "                #     diff['binding']['description'] = f'{diff[\"binding\"][\"description\"]} Note that other codes are permitted, see [Required Bindings When Slicing by Value Sets](http://hl7.org/fhir/us/core/general-requirements.html#required-bindings-when-slicing-by-value-sets)'\n",
    "                # except KeyError:\n",
    "                #     diff['binding']['description'] = 'Note that other codes are permitted, see [Required Bindings When Slicing by Value Sets](http://hl7.org/fhir/us/core/general-requirements.html#required-bindings-when-slicing-by-value-sets)'\n",
    "                # print(\"===================\")\n",
    "                # print(yaml.dump(diff, indent=2))\n",
    "                # list the choices\n",
    "                # for snapshot in obj['snapshot']['element']:\n",
    "                #     if diff['path'] == snapshot['path']:\n",
    "                #     # print(snapshot['path'])\n",
    "                #         types = [type['code'] for type in snapshot['type'] if type['code'] in \n",
    "                #                  ['code',\"Coding\",\"CodeableConcept\"]]\n",
    "                #         if types and snapshot['binding']['strength']=='extensible':\n",
    "                #             print(f\"{obj['title']}|{diff['path']}|diff min: {diff['min']}|{types}|{snapshot['binding']['strength']}\")\n",
    "                #         break\n",
    "                print( f'writing file to {i}')\n",
    "                fhir_obj = construct_fhir_element(obj['resourceType'], obj) # sort elements and validate\n",
    "                i.write_text(fhir_obj.yaml(indent=True))\n",
    "\n",
    "        except KeyError:\n",
    "            pass\n"
   ]
  },
  {
   "attachments": {},
   "cell_type": "markdown",
   "metadata": {},
   "source": [
    "### Write to file"
   ]
  },
  {
   "cell_type": "code",
   "execution_count": null,
   "metadata": {},
   "outputs": [],
   "source": [
    "out = my_path\n",
    "print( f'writing file to {out}')\n",
    "out.write_text(f)  "
   ]
  },
  {
   "cell_type": "markdown",
   "metadata": {},
   "source": [
    "# Find all element reference types in folder of StructureDefinitions\n",
    "\n",
    "- for hard coded path search all SD for must support choice elments\n",
    "- list all reference choices in a md table format in std out"
   ]
  },
  {
   "cell_type": "code",
   "execution_count": 5,
   "metadata": {},
   "outputs": [],
   "source": [
    "\n",
    "for i in my_path.glob('Struct*.json'):\n",
    "    # print(i)\n",
    "    obj = load(i.open())\n",
    "    # print(obj['id'])\n",
    "    #find reference type elements in diff\n",
    "    for diff in obj['differential']['element']:\n",
    "        try:\n",
    "          if diff['mustSupport'] == True:\n",
    "            # print(i)\n",
    "            # print(diff['path'])\n",
    "            #list the choices\n",
    "            for snapshot in obj['snapshot']['element']:\n",
    "                if diff['path'] == snapshot['path']:\n",
    "                   # print(snapshot['path'])\n",
    "                   for my_type in snapshot['type']:\n",
    "                        if my_type['code'] == \"Reference\" and len(my_type['targetProfile']) > 1:\n",
    "                            print(f\"{obj['title']}|{diff['path']}|{', '.join( my_type['targetProfile'])}\")\n",
    "                            break\n",
    "        except:\n",
    "            pass"
   ]
  },
  {
   "cell_type": "code",
   "execution_count": null,
   "metadata": {},
   "outputs": [],
   "source": []
  }
 ],
 "metadata": {
  "kernelspec": {
   "display_name": "Python 3.10.2 64-bit ('jupyter')",
   "language": "python",
   "name": "python3"
  },
  "language_info": {
   "codemirror_mode": {
    "name": "ipython",
    "version": 3
   },
   "file_extension": ".py",
   "mimetype": "text/x-python",
   "name": "python",
   "nbconvert_exporter": "python",
   "pygments_lexer": "ipython3",
   "version": "3.10.2"
  },
  "orig_nbformat": 4,
  "vscode": {
   "interpreter": {
    "hash": "18672f2fb81dcbb023a0ac48a86c775a19488782369d96ffbd3382a22fd285cf"
   }
  }
 },
 "nbformat": 4,
 "nbformat_minor": 2
}
