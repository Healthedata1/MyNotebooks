{
 "cells": [
  {
   "cell_type": "markdown",
   "metadata": {},
   "source": [
    "### Read all FHIR SD and find all binding strengths\n",
    "\n",
    "- load package data to inspect\n",
    "- read SDs\n",
    "- print binding by strength\n"
   ]
  },
  {
   "cell_type": "code",
   "execution_count": 1,
   "metadata": {},
   "outputs": [],
   "source": [
    "from pathlib import Path\n",
    "from json import load, dumps, loads\n",
    "from IPython.display import display, Markdown, HTML "
   ]
  },
  {
   "cell_type": "markdown",
   "metadata": {},
   "source": [
    "### get package and create obj and find all references types\n"
   ]
  },
  {
   "cell_type": "code",
   "execution_count": 17,
   "metadata": {},
   "outputs": [
    {
     "name": "stdout",
     "output_type": "stream",
     "text": [
      "/Users/ehaas/.fhir/packages/hl7.fhir.us.core#3.1.1/package/StructureDefinition-us-core-observation-lab.json\n",
      "1. us-core-observation-lab\n",
      " - Reference element: Observation.subject\n",
      " - 3.1.1 Reference element MS targets: ['http://hl7.org/fhir/us/core/StructureDefinition/us-core-patient']\n",
      "/Users/ehaas/.fhir/packages/hl7.fhir.us.core#3.1.1/package/StructureDefinition-us-core-observation-lab.json Observation.subject\n",
      "all_targets = ['http://hl7.org/fhir/us/core/StructureDefinition/us-core-patient']\n",
      " - 3.2.0 Reference element addition targets targets: []\n",
      "/Users/ehaas/.fhir/packages/hl7.fhir.us.core#3.1.1/package/StructureDefinition-us-core-careteam.json\n",
      "2. us-core-careteam\n",
      " - Reference element: CareTeam.subject\n",
      " - 3.1.1 Reference element MS targets: ['http://hl7.org/fhir/us/core/StructureDefinition/us-core-patient']\n",
      "/Users/ehaas/.fhir/packages/hl7.fhir.us.core#3.1.1/package/StructureDefinition-us-core-careteam.json CareTeam.subject\n",
      "all_targets = ['http://hl7.org/fhir/us/core/StructureDefinition/us-core-patient']\n",
      " - 3.2.0 Reference element addition targets targets: []\n",
      " - Reference element: CareTeam.participant.member\n",
      " - 3.1.1 Reference element MS targets: ['http://hl7.org/fhir/us/core/StructureDefinition/us-core-patient', 'http://hl7.org/fhir/us/core/StructureDefinition/us-core-practitioner', 'http://hl7.org/fhir/us/core/StructureDefinition/us-core-organization']\n",
      "/Users/ehaas/.fhir/packages/hl7.fhir.us.core#3.1.1/package/StructureDefinition-us-core-careteam.json CareTeam.participant.member\n",
      "all_targets = ['http://hl7.org/fhir/us/core/StructureDefinition/us-core-practitioner', 'http://hl7.org/fhir/us/core/StructureDefinition/us-core-organization', 'http://hl7.org/fhir/us/core/StructureDefinition/us-core-patient', 'http://hl7.org/fhir/us/core/StructureDefinition/us-core-practitionerrole', 'http://hl7.org/fhir/us/core/StructureDefinition/us-core-careteam', 'http://hl7.org/fhir/StructureDefinition/RelatedPerson']\n",
      " - 3.2.0 Reference element addition targets targets: ['http://hl7.org/fhir/us/core/StructureDefinition/us-core-practitionerrole', 'http://hl7.org/fhir/us/core/StructureDefinition/us-core-careteam', 'http://hl7.org/fhir/StructureDefinition/RelatedPerson']\n",
      "/Users/ehaas/.fhir/packages/hl7.fhir.us.core#3.1.1/package/StructureDefinition-us-core-direct.json\n",
      "3. us-core-direct\n",
      "/Users/ehaas/.fhir/packages/hl7.fhir.us.core#3.1.1/package/StructureDefinition-us-core-practitioner.json\n",
      "4. us-core-practitioner\n",
      "/Users/ehaas/.fhir/packages/hl7.fhir.us.core#3.1.1/package/StructureDefinition-pediatric-bmi-for-age.json\n",
      "5. pediatric-bmi-for-age\n",
      " - Reference element: Observation.subject\n",
      " - 3.1.1 Reference element MS targets: ['http://hl7.org/fhir/us/core/StructureDefinition/us-core-patient']\n",
      "/Users/ehaas/.fhir/packages/hl7.fhir.us.core#3.1.1/package/StructureDefinition-pediatric-bmi-for-age.json Observation.subject\n"
     ]
    },
    {
     "ename": "TypeError",
     "evalue": "'NoneType' object is not iterable",
     "output_type": "error",
     "traceback": [
      "\u001b[0;31m---------------------------------------------------------------------------\u001b[0m",
      "\u001b[0;31mTypeError\u001b[0m                                 Traceback (most recent call last)",
      "Input \u001b[0;32mIn [17]\u001b[0m, in \u001b[0;36m<cell line: 23>\u001b[0;34m()\u001b[0m\n\u001b[1;32m     33\u001b[0m             \u001b[38;5;28mprint\u001b[39m(\u001b[38;5;124mf\u001b[39m\u001b[38;5;124m'''\u001b[39m\u001b[38;5;124m - 3.1.1 Reference element MS targets: \u001b[39m\u001b[38;5;132;01m{\u001b[39;00mms_targets\u001b[38;5;132;01m}\u001b[39;00m\u001b[38;5;124m'''\u001b[39m)\n\u001b[1;32m     34\u001b[0m             all_targets \u001b[38;5;241m=\u001b[39m get_320(f,element[\u001b[38;5;124m'\u001b[39m\u001b[38;5;124mid\u001b[39m\u001b[38;5;124m'\u001b[39m])\n\u001b[0;32m---> 35\u001b[0m             optional_targets \u001b[38;5;241m=\u001b[39m [item \u001b[38;5;28;01mfor\u001b[39;00m item \u001b[38;5;129;01min\u001b[39;00m all_targets \u001b[38;5;28;01mif\u001b[39;00m item \u001b[38;5;129;01mnot\u001b[39;00m \u001b[38;5;129;01min\u001b[39;00m ms_targets]\n\u001b[1;32m     36\u001b[0m             \u001b[38;5;28mprint\u001b[39m(\u001b[38;5;124mf\u001b[39m\u001b[38;5;124m'''\u001b[39m\u001b[38;5;124m - 3.2.0 Reference element addition targets targets: \u001b[39m\u001b[38;5;132;01m{\u001b[39;00moptional_targets\u001b[38;5;132;01m}\u001b[39;00m\u001b[38;5;124m'''\u001b[39m)\n\u001b[1;32m     37\u001b[0m \u001b[38;5;28;01mexcept\u001b[39;00m \u001b[38;5;167;01mKeyError\u001b[39;00m:\n\u001b[1;32m     38\u001b[0m     \u001b[38;5;66;03m# print(f\"no type in {element['path']}\")\u001b[39;00m\n",
      "\u001b[0;31mTypeError\u001b[0m: 'NoneType' object is not iterable"
     ]
    }
   ],
   "source": [
    "us_core_311 = Path(r'/Users/ehaas/.fhir/packages/hl7.fhir.us.core#3.1.1') / 'package'\n",
    "us_core_320 = Path(r'/Users/ehaas/.fhir/packages/hl7.fhir.us.core#3.2.0') / 'package'\n",
    "\n",
    "\n",
    "def get_320(f,id):\n",
    "    print(f, id)\n",
    "    f320 = us_core_320 / f.name\n",
    "    obj320 = loads(f320.read_text())\n",
    "    # print(f'obj320 = {obj320[\"id\"]}')\n",
    "    try:\n",
    "      element320 = [element for element in obj320['differential']['element'] if element['id'] == id][0]\n",
    "    except IndexError:\n",
    "        return\n",
    "    # print(f'element320 = {element320[\"id\"]}')\n",
    "    my_type = [t for t in element320['type'] if t['code'] == 'Reference'][0]\n",
    "    # print(f'my_type = {my_type}')\n",
    "    targets = [t for t in my_type['targetProfile']]\n",
    "    print(f'all_targets = {targets}')\n",
    "    return targets\n",
    "\n",
    "\n",
    "i = 1\n",
    "for f in us_core_311.glob('StructureDefinition*.json'):\n",
    "  print(f)\n",
    "  obj = loads(f.read_text())\n",
    "  print(f\"{i}. {obj['id']}\")\n",
    "  for element in obj['differential']['element']:\n",
    "      try:\n",
    "          for my_type in element['type']:\n",
    "              if my_type['code'] == 'Reference':\n",
    "                  print(f''' - Reference element: {element['path']}''')\n",
    "                  ms_targets = [t for t in my_type['targetProfile']]\n",
    "                  print(f''' - 3.1.1 Reference element MS targets: {ms_targets}''')\n",
    "                  all_targets = get_320(f,element['id'])\n",
    "                  try:\n",
    "                    optional_targets = [item for item in all_targets if item not in ms_targets]\n",
    "                  except TypeError:\n",
    "                     optional_targets = []\n",
    "                     \n",
    "                  print(f''' - 3.2.0 Reference element addition targets targets: {optional_targets}''')\n",
    "      except KeyError:\n",
    "          # print(f\"no type in {element['path']}\")\n",
    "          pass\n",
    "  i+=1"
   ]
  },
  {
   "cell_type": "markdown",
   "metadata": {},
   "source": [
    "### Get SDs"
   ]
  },
  {
   "cell_type": "code",
   "execution_count": 79,
   "metadata": {},
   "outputs": [],
   "source": [
    "def inherited(strength,element_path,sd_type):\n",
    "    print(strength,element_path,sd_type)\n",
    "    for f in fhir_path.iterdir():\n",
    "        if str(f.name)==f'StructureDefinition-{sd_type}.json':\n",
    "            print(f'### {f.name}')\n",
    "            sd_dict=loads(f.read_text())\n",
    "            for element in sd_dict['differential']['element']:\n",
    "                if element.get('path')==element_path:\n",
    "                    try:\n",
    "                        base_strength=element['binding'].get('strength','no_strength')  \n",
    "                    except KeyError:\n",
    "                        base_strength=\"no binding!\"\n",
    "                    print(base_strength)\n",
    "    try:\n",
    "        return base_strength==strength\n",
    "    except UnboundLocalError:\n",
    "        return False"
   ]
  },
  {
   "cell_type": "code",
   "execution_count": null,
   "metadata": {},
   "outputs": [],
   "source": [
    "for f in uscore_path.iterdir():\n",
    "    if str(f.name).startswith('StructureDefinition'):\n",
    "        #print(f'### {f.name}')\n",
    "        sd_dict=loads(f.read_text())\n",
    "        #print(sd_dict['type'])\n",
    "        for element in sd_dict['differential']['element']:\n",
    "            if element.get('binding'):\n",
    "                vs = element['binding'].get('valueSet','No ValueSet')\n",
    "                vs = vs.split('|')[0] #strip version\n",
    "                strength = element['binding'].get('strength','no_strength')\n",
    "                print('foo')\n",
    "                is_inherited = inherited(strength=strength,element_path=element[\"path\"],sd_type=sd_dict['type'])\n",
    "                bindings[strength]= f'{bindings[strength]}\\n|{sd_dict[\"title\"]}|{element[\"path\"]}|{vs}|{f\"**{is_inherited}**\" if is_inherited == False else is_inherited}|'"
   ]
  },
  {
   "cell_type": "code",
   "execution_count": null,
   "metadata": {},
   "outputs": [],
   "source": [
    "for strength,binding in bindings.items():\n",
    "    print(f'### {strength.upper()}')\n",
    "    print(bindings[strength])\n",
    "    #display(Markdown(f'### {strength.upper()}'))\n",
    "    #display(Markdown(bindings[strength]))   "
   ]
  },
  {
   "cell_type": "code",
   "execution_count": null,
   "metadata": {},
   "outputs": [],
   "source": []
  }
 ],
 "metadata": {
  "kernelspec": {
   "display_name": "jupyter",
   "language": "python",
   "name": "python3"
  },
  "language_info": {
   "codemirror_mode": {
    "name": "ipython",
    "version": 3
   },
   "file_extension": ".py",
   "mimetype": "text/x-python",
   "name": "python",
   "nbconvert_exporter": "python",
   "pygments_lexer": "ipython3",
   "version": "3.10.2"
  }
 },
 "nbformat": 4,
 "nbformat_minor": 4
}
