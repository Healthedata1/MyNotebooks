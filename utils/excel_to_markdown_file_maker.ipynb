{
 "cells": [
  {
   "cell_type": "markdown",
   "metadata": {},
   "source": [
    "### open excel workbook files from directory and create markdown tables\n",
    "\n",
    "- get .xlsx files from the local build input/image/source folder\n",
    "- convert links to external links.\n",
    "- print out markdown files\n",
    "- save files as input/includes files\n",
    "- !check out how I made excel files..."
   ]
  },
  {
   "cell_type": "markdown",
   "metadata": {},
   "source": []
  },
  {
   "cell_type": "code",
   "execution_count": 23,
   "metadata": {},
   "outputs": [],
   "source": [
    "from pathlib import Path\n",
    "import openpyxl\n",
    "import pandas as pd\n",
    "import csv\n",
    "from json import loads\n",
    "from IPython import display"
   ]
  },
  {
   "cell_type": "code",
   "execution_count": 24,
   "metadata": {},
   "outputs": [
    {
     "data": {
      "text/plain": [
       "(PosixPath('/Users/ehaas/Documents/FHIR/US-Core/my-notes/USCDIV3/USCDIv3-Tables.xlsx'),\n",
       " \"skip_me = ['USCDI v3', 'Unmerge Macro', 'Full Table'], skip_search = True\")"
      ]
     },
     "execution_count": 24,
     "metadata": {},
     "output_type": "execute_result"
    }
   ],
   "source": [
    "# get path from IG output dir\n",
    "#in_path = Path(r'/Users/ehaas/Documents/FHIR/davinci-ecdx/input/images/data-element-mapping.csv')\n",
    "in_path = Path(r'/Users/ehaas/Documents/FHIR/US-Core/my-notes/USCDIV3/USCDIv3-Tables.xlsx')\n",
    "#in_path = Path(r'/Users/ehaas/Documents/FHIR/US-Core/my-notes/USCDIV3/FM Working List of Definitions.xlsx')\n",
    "out_path = Path(r'/Users/ehaas/Documents/Python/Jupyter/MyNotebooks/test_resources/')\n",
    "\n",
    "\n",
    "\n",
    "skip_me = ['USCDI v3',\n",
    "#  'Procedures',\n",
    "#  'Medications',\n",
    "#  'Patient Demographics',\n",
    "#  'Health Status Assessments',\n",
    "#  'Health Insurance Information',\n",
    "#  'Allergies and Intolerances',\n",
    " 'Unmerge Macro',\n",
    "#  'Laboratory',\n",
    " 'Full Table',\n",
    "    ]\n",
    "\n",
    "skip_search = True # don't display the search column\n",
    "\n",
    "in_path, f'skip_me = {skip_me}, skip_search = {skip_search}'"
   ]
  },
  {
   "cell_type": "markdown",
   "metadata": {},
   "source": [
    "### Get WB and list sheets"
   ]
  },
  {
   "cell_type": "code",
   "execution_count": 25,
   "metadata": {},
   "outputs": [
    {
     "data": {
      "text/plain": [
       "['USCDI v3',\n",
       " 'Sheet3',\n",
       " 'Procedures',\n",
       " 'Medications',\n",
       " 'Patient Demographics',\n",
       " 'Health Status Assessments',\n",
       " 'Health Insurance Information',\n",
       " 'Allergies and Intolerances',\n",
       " 'Unmerge Macro',\n",
       " 'Laboratory']"
      ]
     },
     "execution_count": 25,
     "metadata": {},
     "output_type": "execute_result"
    }
   ],
   "source": [
    "wb = openpyxl.load_workbook(in_path)\n",
    "# load Excel WB using pandas\n",
    "# xls = pd.ExcelFile(in_path)\n",
    "sheets = wb.sheetnames\n",
    "sheets"
   ]
  },
  {
   "cell_type": "markdown",
   "metadata": {},
   "source": [
    "###  Convert links to markdown then create a markdown table\n",
    "    - convert links\n",
    "    - create dataframe\n",
    "    - remove line returns\n",
    "    - create markdown table \n",
    "    - save"
   ]
  },
  {
   "cell_type": "code",
   "execution_count": 26,
   "metadata": {},
   "outputs": [
    {
     "name": "stdout",
     "output_type": "stream",
     "text": [
      "Sheet3\n",
      "None\n",
      "None\n",
      "None\n",
      "/Users/ehaas/Documents/Python/Jupyter/MyNotebooks/test_resources/Sheet3.md\n",
      "| None   | None   | None   |\n",
      "|--------|--------|--------|\n"
     ]
    },
    {
     "data": {
      "text/markdown": [
       "| None   | None   | None   |\n",
       "|--------|--------|--------|"
      ]
     },
     "metadata": {},
     "output_type": "display_data"
    },
    {
     "name": "stdout",
     "output_type": "stream",
     "text": [
      "Procedures\n",
      "APPLICABLE VOCABULARY STANDARD(S) (binding, notes)\n",
      "   SNOMED International, Systematized Nomenclature of Medicine Clinical Terms (SNOMED CT®) U.S. Edition,\n",
      "March 2022 Release\n",
      "   Current Procedural Terminology (CPT®) 2022, as maintained and distributed by the American Medical Association, for physician services and other health care services, and Healthcare Common Procedure Coding System (HCPCS) July 2022, as maintained and distributed by HHS.\n",
      "   For technology developed to record dental procedures: Code on Dental Procedures and Nomenclature (CDT) 2022, maintained and distributed by the American Dental Association, for dental services.\n",
      "Optional:\n",
      "   2022 International Classification of Diseases ICD-10-PCS\n",
      "   SNOMED International, Systematized Nomenclature of Medicine Clinical Terms (SNOMED CT®) U.S. Edition,\n",
      "March 2022 Release\n",
      "   Current Procedural Terminology (CPT®) 2022, as maintained and distributed by the American Medical Association, for physician services and other health care services.\n",
      "   Healthcare Common Procedure Coding System (HCPCS) Level II July 2022, as maintained and distributed by HHS.\n",
      "??? Procedure Reason Codes (extensible, SNOMED CT vs  Billing-related  ICD codes)\n",
      "[??? Procedure Reason Codes (extensible, SNOMED CT vs  Billing-related  ICD codes)](http://hl7.org/fhir/R4B/valueset-procedure-reason.html)\n",
      "FHIRPath (minimum cardinality, MS Flag, notes)\n",
      "See the US Core Procedure Profile\n",
      "[See the US Core Procedure Profile](http://hl7.org/fhir/us/core/StructureDefinition-us-core-procedure.html)\n",
      "See the US Core Procedure Profile\n",
      "[See the US Core Procedure Profile](http://hl7.org/fhir/us/core/StructureDefinition-us-core-procedure.html)\n",
      "ServiceRequest.reasonCode ( Min = 0, MS, )\n",
      "[ServiceRequest.reasonCode ( Min = 0, MS, )](http://hl7.org/fhir/us/core/StructureDefinition-us-core-servicerequest-definitions.html)\n",
      "Search (conformance expectation, notes)\n",
      "None\n",
      "None\n",
      "Procedure reason-code (SHOULD)\n",
      "/Users/ehaas/Documents/Python/Jupyter/MyNotebooks/test_resources/Procedures.md\n",
      "| DATA ELEMENT                                                                                                                                                                                                                                              | APPLICABLE VOCABULARY STANDARD(S) (binding, notes)                                                                                                                                                                                                                                                                                                                                                                                                                                                                                                                                                                                                                                                                 | FHIRPath (minimum cardinality, MS Flag, notes)                                                                                        |\n",
      "|-----------------------------------------------------------------------------------------------------------------------------------------------------------------------------------------------------------------------------------------------------------|--------------------------------------------------------------------------------------------------------------------------------------------------------------------------------------------------------------------------------------------------------------------------------------------------------------------------------------------------------------------------------------------------------------------------------------------------------------------------------------------------------------------------------------------------------------------------------------------------------------------------------------------------------------------------------------------------------------------|---------------------------------------------------------------------------------------------------------------------------------------|\n",
      "| Procedures                                                                                                                                                                                                                                                | ☛   SNOMED International, Systematized Nomenclature of Medicine Clinical Terms (SNOMED CT®) U.S. Edition,<br />March 2022 Release<br />☛   Current Procedural Terminology (CPT®) 2022, as maintained and distributed by the American Medical Association, for physician services and other health care services, and Healthcare Common Procedure Coding System (HCPCS) July 2022, as maintained and distributed by HHS.<br />☛   For technology developed to record dental procedures: Code on Dental Procedures and Nomenclature (CDT) 2022, maintained and distributed by the American Dental Association, for dental services.<br />Optional:<br />☛   2022 International Classification of Diseases ICD-10-PCS | [See the US Core Procedure Profile](http://hl7.org/fhir/us/core/StructureDefinition-us-core-procedure.html)                           |\n",
      "| SDOH Interventions<br />Actions or services to address an identified Social Determinants of Health-related health concern, condition, or diagnosis. (e.g., education about food pantry program, referral to non-emergency medical transportation program) | ☛   SNOMED International, Systematized Nomenclature of Medicine Clinical Terms (SNOMED CT®) U.S. Edition,<br />March 2022 Release<br />☛   Current Procedural Terminology (CPT®) 2022, as maintained and distributed by the American Medical Association, for physician services and other health care services.<br />☛   Healthcare Common Procedure Coding System (HCPCS) Level II July 2022, as maintained and distributed by HHS.                                                                                                                                                                                                                                                                              | [See the US Core Procedure Profile](http://hl7.org/fhir/us/core/StructureDefinition-us-core-procedure.html)                           |\n",
      "| Reason for Referral<br />Explanation or justification for a referral or consultation.                                                                                                                                                                     | [??? Procedure Reason Codes (extensible, SNOMED CT vs  Billing-related  ICD codes)](http://hl7.org/fhir/R4B/valueset-procedure-reason.html)                                                                                                                                                                                                                                                                                                                                                                                                                                                                                                                                                                        | [ServiceRequest.reasonCode ( Min = 0, MS, )](http://hl7.org/fhir/us/core/StructureDefinition-us-core-servicerequest-definitions.html) |\n"
     ]
    },
    {
     "data": {
      "text/markdown": [
       "| DATA ELEMENT                                                                                                                                                                                                                                              | APPLICABLE VOCABULARY STANDARD(S) (binding, notes)                                                                                                                                                                                                                                                                                                                                                                                                                                                                                                                                                                                                                                                                 | FHIRPath (minimum cardinality, MS Flag, notes)                                                                                        |\n",
       "|-----------------------------------------------------------------------------------------------------------------------------------------------------------------------------------------------------------------------------------------------------------|--------------------------------------------------------------------------------------------------------------------------------------------------------------------------------------------------------------------------------------------------------------------------------------------------------------------------------------------------------------------------------------------------------------------------------------------------------------------------------------------------------------------------------------------------------------------------------------------------------------------------------------------------------------------------------------------------------------------|---------------------------------------------------------------------------------------------------------------------------------------|\n",
       "| Procedures                                                                                                                                                                                                                                                | ☛   SNOMED International, Systematized Nomenclature of Medicine Clinical Terms (SNOMED CT®) U.S. Edition,<br />March 2022 Release<br />☛   Current Procedural Terminology (CPT®) 2022, as maintained and distributed by the American Medical Association, for physician services and other health care services, and Healthcare Common Procedure Coding System (HCPCS) July 2022, as maintained and distributed by HHS.<br />☛   For technology developed to record dental procedures: Code on Dental Procedures and Nomenclature (CDT) 2022, maintained and distributed by the American Dental Association, for dental services.<br />Optional:<br />☛   2022 International Classification of Diseases ICD-10-PCS | [See the US Core Procedure Profile](http://hl7.org/fhir/us/core/StructureDefinition-us-core-procedure.html)                           |\n",
       "| SDOH Interventions<br />Actions or services to address an identified Social Determinants of Health-related health concern, condition, or diagnosis. (e.g., education about food pantry program, referral to non-emergency medical transportation program) | ☛   SNOMED International, Systematized Nomenclature of Medicine Clinical Terms (SNOMED CT®) U.S. Edition,<br />March 2022 Release<br />☛   Current Procedural Terminology (CPT®) 2022, as maintained and distributed by the American Medical Association, for physician services and other health care services.<br />☛   Healthcare Common Procedure Coding System (HCPCS) Level II July 2022, as maintained and distributed by HHS.                                                                                                                                                                                                                                                                              | [See the US Core Procedure Profile](http://hl7.org/fhir/us/core/StructureDefinition-us-core-procedure.html)                           |\n",
       "| Reason for Referral<br />Explanation or justification for a referral or consultation.                                                                                                                                                                     | [??? Procedure Reason Codes (extensible, SNOMED CT vs  Billing-related  ICD codes)](http://hl7.org/fhir/R4B/valueset-procedure-reason.html)                                                                                                                                                                                                                                                                                                                                                                                                                                                                                                                                                                        | [ServiceRequest.reasonCode ( Min = 0, MS, )](http://hl7.org/fhir/us/core/StructureDefinition-us-core-servicerequest-definitions.html) |"
      ]
     },
     "metadata": {},
     "output_type": "display_data"
    },
    {
     "name": "stdout",
     "output_type": "stream",
     "text": [
      "Medications\n",
      "APPLICABLE VOCABULARY STANDARD(S) (binding, notes)\n",
      "   RxNorm Full Monthly Release, July 5, 2022\n",
      "Optional:\n",
      "   [National Drug Code (NDC) Directory, July 19, 2022](http://hl7.org/fhir/us/davinci-pdex/STU1/ValueSet-FDANationalDrugCode.html)\n",
      "None\n",
      "   The Unified Code for Units of Measure, Revision 2.1\n",
      "US Core Condition Codes\n",
      "[US Core Condition Codes](http://hl7.org/fhir/us/core/ValueSet-us-core-condition-code.html)\n",
      "MedicationDispense Status Codes (required, HL7)\n",
      "[MedicationDispense Status Codes (required, HL7)](http://hl7.org/fhir/R4/valueset-medicationdispense-status.html)\n",
      "FHIRPath (minimum cardinality, MS Flag, notes)\n",
      "MedicationRequest.medication[x] ( see question below\n",
      "MedicationRequest.dosageInstruction.doseAndRate (Min=0,  MS)\n",
      "[MedicationRequest.dosageInstruction.doseAndRate (Min=0,  MS)](http://hl7.org/fhir/us/core/StructureDefinition-us-core-medicationrequest-definitions.html)\n",
      "MedicationRequest.dosageInstruction.doseAndRate (Min=0,  MS)\n",
      "[MedicationRequest.dosageInstruction.doseAndRate (Min=0,  MS)](http://hl7.org/fhir/us/core/StructureDefinition-us-core-medicationrequest-definitions.html)\n",
      "MedicationRequest.reasonCode + MedicationRequest.reasonReference (min=0, MS, Server Choice of which to MS)\n",
      "NEW US Core Medication Dispense Profile. ( see prior art below)\n",
      "Search (conformance expectation, notes)\n",
      "NA\n",
      "NA\n",
      "NA\n",
      "MedicationRequest reasonCode +  reasonReference (SHOULD, Custom SP!) \n",
      "TBD\n",
      "/Users/ehaas/Documents/Python/Jupyter/MyNotebooks/test_resources/Medications.md\n",
      "| DATA ELEMENT                                                                                                                               | APPLICABLE VOCABULARY STANDARD(S) (binding, notes)                                                                                                                                                    | FHIRPath (minimum cardinality, MS Flag, notes)                                                                                                             |\n",
      "|--------------------------------------------------------------------------------------------------------------------------------------------|-------------------------------------------------------------------------------------------------------------------------------------------------------------------------------------------------------|------------------------------------------------------------------------------------------------------------------------------------------------------------|\n",
      "| Medications<br />Pharmacologic agent used in the diagnosis, cure, mitigation, treatment, or prevention of disease.                         | ☛   RxNorm Full Monthly Release, July 5, 2022<br />Optional:<br />☛   [National Drug Code (NDC) Directory, July 19, 2022](http://hl7.org/fhir/us/davinci-pdex/STU1/ValueSet-FDANationalDrugCode.html) | MedicationRequest.medication[x] ( see question below                                                                                                       |\n",
      "| Dose<br />Amount of a medication for each administration.                                                                                  |                                                                                                                                                                                                       | [MedicationRequest.dosageInstruction.doseAndRate (Min=0,  MS)](http://hl7.org/fhir/us/core/StructureDefinition-us-core-medicationrequest-definitions.html) |\n",
      "| Dose Units of Measure<br />Units of measure of a medication. (e.g., milligrams, milliliters)                                               | ☛   The Unified Code for Units of Measure, Revision 2.1                                                                                                                                               | [MedicationRequest.dosageInstruction.doseAndRate (Min=0,  MS)](http://hl7.org/fhir/us/core/StructureDefinition-us-core-medicationrequest-definitions.html) |\n",
      "| Indication<br />Sign, symptom, or medical condition that leads to the recommendation of a treatment, test, or procedure.                   | [US Core Condition Codes](http://hl7.org/fhir/us/core/ValueSet-us-core-condition-code.html)                                                                                                           | MedicationRequest.reasonCode + MedicationRequest.reasonReference (min=0, MS, Server Choice of which to MS)                                                 |\n",
      "| Fill Status<br />State of a medication with regards to dispensing or other activity. (e.g., dispensed, partially dispensed, not dispensed) | [MedicationDispense Status Codes (required, HL7)](http://hl7.org/fhir/R4/valueset-medicationdispense-status.html)                                                                                     | NEW US Core Medication Dispense Profile. ( see prior art below)                                                                                            |\n"
     ]
    },
    {
     "data": {
      "text/markdown": [
       "| DATA ELEMENT                                                                                                                               | APPLICABLE VOCABULARY STANDARD(S) (binding, notes)                                                                                                                                                    | FHIRPath (minimum cardinality, MS Flag, notes)                                                                                                             |\n",
       "|--------------------------------------------------------------------------------------------------------------------------------------------|-------------------------------------------------------------------------------------------------------------------------------------------------------------------------------------------------------|------------------------------------------------------------------------------------------------------------------------------------------------------------|\n",
       "| Medications<br />Pharmacologic agent used in the diagnosis, cure, mitigation, treatment, or prevention of disease.                         | ☛   RxNorm Full Monthly Release, July 5, 2022<br />Optional:<br />☛   [National Drug Code (NDC) Directory, July 19, 2022](http://hl7.org/fhir/us/davinci-pdex/STU1/ValueSet-FDANationalDrugCode.html) | MedicationRequest.medication[x] ( see question below                                                                                                       |\n",
       "| Dose<br />Amount of a medication for each administration.                                                                                  |                                                                                                                                                                                                       | [MedicationRequest.dosageInstruction.doseAndRate (Min=0,  MS)](http://hl7.org/fhir/us/core/StructureDefinition-us-core-medicationrequest-definitions.html) |\n",
       "| Dose Units of Measure<br />Units of measure of a medication. (e.g., milligrams, milliliters)                                               | ☛   The Unified Code for Units of Measure, Revision 2.1                                                                                                                                               | [MedicationRequest.dosageInstruction.doseAndRate (Min=0,  MS)](http://hl7.org/fhir/us/core/StructureDefinition-us-core-medicationrequest-definitions.html) |\n",
       "| Indication<br />Sign, symptom, or medical condition that leads to the recommendation of a treatment, test, or procedure.                   | [US Core Condition Codes](http://hl7.org/fhir/us/core/ValueSet-us-core-condition-code.html)                                                                                                           | MedicationRequest.reasonCode + MedicationRequest.reasonReference (min=0, MS, Server Choice of which to MS)                                                 |\n",
       "| Fill Status<br />State of a medication with regards to dispensing or other activity. (e.g., dispensed, partially dispensed, not dispensed) | [MedicationDispense Status Codes (required, HL7)](http://hl7.org/fhir/R4/valueset-medicationdispense-status.html)                                                                                     | NEW US Core Medication Dispense Profile. ( see prior art below)                                                                                            |"
      ]
     },
     "metadata": {},
     "output_type": "display_data"
    },
    {
     "name": "stdout",
     "output_type": "stream",
     "text": [
      "Patient Demographics\n",
      "APPLICABLE VOCABULARY STANDARD(S) (binding, notes)\n",
      "NA\n",
      "TribalEntityUS (required, HL7)\n",
      "[TribalEntityUS (required, HL7)](http://hl7.org/fhir/us/ecr/StructureDefinition/us-ph-tribal-affiliation-extension)\n",
      "   SNOMED International, Systematized Nomenclature of Medicine Clinical Terms (SNOMED CT®) U.S. Edition, March 2022 Release\n",
      "None\n",
      "None\n",
      "Occupational Data for Health, version 20201030 (extensible, PHINVADS)\n",
      "[Occupational Data for Health, version 20201030 (extensible, PHINVADS)](https://phinvads.cdc.gov/vads/ViewCodeSystem.action?id=2.16.840.1.114222.4.5.327)\n",
      "Occupational Data for Health, version 20201030 (extensible, PHINVADS)\n",
      "[Occupational Data for Health, version 20201030 (extensible, PHINVADS)](https://phinvads.cdc.gov/vads/ViewCodeSystem.action?id=2.16.840.1.114222.4.5.327)\n",
      "FHIRPath (minimum cardinality, MS Flag, notes)\n",
      "Patient.deceased[x] (Min = 0 , MS  = False, Additional USCDI Requirements)\n",
      "[Patient.deceased[x] (Min = 0 , MS  = False, Additional USCDI Requirements)](http://hl7.org/fhir/us/core/StructureDefinition-us-core-patient-definitions.html)\n",
      " US Public Health Tribal Affiliation Extension (Min = 0 , MS  = False, Additional USCDI Requirements ValueCode)\n",
      "[ US Public Health Tribal Affiliation Extension (Min = 0 , MS  = False, Additional USCDI Requirements ValueCode)](http://hl7.org/fhir/us/ecr/StructureDefinition/us-ph-tribal-affiliation-extension)\n",
      "Retire BirthSex extension and Create new Sex Extension (Min = 0, MS  = False, Additional USCDI Requirements ValueCode)\n",
      "See US Core RelatedPerson Profile\n",
      "[See US Core RelatedPerson Profile](https://hackmd.io/K1vV2HnKSHiftA8L4DMQfQ)\n",
      "See US Core RelatedPerson Profile\n",
      "[See US Core RelatedPerson Profile](https://hackmd.io/K1vV2HnKSHiftA8L4DMQfQ)\n",
      "Observation. valueCodeableConcept (Min = 0, MS, code =21843-8 Hx of Usual occupation and category = social history)\n",
      "[Observation. valueCodeableConcept (Min = 0, MS, code =21843-8 Hx of Usual occupation and category = social history)](http://build.fhir.org/ig/HL7/us-odh/StructureDefinition-odh-UsualWork.html)\n",
      "Observation.component. valueCodeableConcept (Min = 0, MS, code = 21844-6  Hx of Usual industry and category = social history))\n",
      "[Observation.component. valueCodeableConcept (Min = 0, MS, code = 21844-6  Hx of Usual industry and category = social history))](http://build.fhir.org/ig/HL7/us-odh/StructureDefinition-odh-UsualWork.html)\n",
      "Search (conformance expectation, notes)\n",
      "Patient death-date (SHOULD)\n",
      "Patient Tribal Affiliation (Optional, Custom!)\n",
      "None\n",
      "None Needed?\n",
      "None Needed?\n",
      "Same as other US Core Observations\n",
      "[Same as other US Core Observations](http://hl7.org/fhir/us/core/CapabilityStatement-us-core-server.html)\n",
      "Same as other US Core Observations\n",
      "[Same as other US Core Observations](http://hl7.org/fhir/us/core/CapabilityStatement-us-core-server.html)\n",
      "/Users/ehaas/Documents/Python/Jupyter/MyNotebooks/test_resources/Patient Demographics.md\n",
      "| DATA ELEMENT                                                                                                                                                                               | APPLICABLE VOCABULARY STANDARD(S) (binding, notes)                                                                                                        | FHIRPath (minimum cardinality, MS Flag, notes)                                                                                                                                                               |\n",
      "|--------------------------------------------------------------------------------------------------------------------------------------------------------------------------------------------|-----------------------------------------------------------------------------------------------------------------------------------------------------------|--------------------------------------------------------------------------------------------------------------------------------------------------------------------------------------------------------------|\n",
      "| Date of Death<br />Known or estimated year, month, and day of the patient's death.                                                                                                         | NA                                                                                                                                                        | [Patient.deceased[x] (Min = 0 , MS  = False, Additional USCDI Requirements)](http://hl7.org/fhir/us/core/StructureDefinition-us-core-patient-definitions.html)                                               |\n",
      "| Tribal Affiliation<br />Tribe or band with which an individual associates.                                                                                                                 | [TribalEntityUS (required, HL7)](http://hl7.org/fhir/us/ecr/StructureDefinition/us-ph-tribal-affiliation-extension)                                       | [ US Public Health Tribal Affiliation Extension (Min = 0 , MS  = False, Additional USCDI Requirements ValueCode)](http://hl7.org/fhir/us/ecr/StructureDefinition/us-ph-tribal-affiliation-extension)         |\n",
      "| Sex<br />Documentation of a specific instance of sex and/or gender information.                                                                                                            | ☛   SNOMED International, Systematized Nomenclature of Medicine Clinical Terms (SNOMED CT®) U.S. Edition, March 2022 Release                              | Retire BirthSex extension and Create new Sex Extension (Min = 0, MS  = False, Additional USCDI Requirements ValueCode)                                                                                       |\n",
      "| Related Person’s Name<br />Name of a person with a legal or familial relationship to a patient.                                                                                            |                                                                                                                                                           | [See US Core RelatedPerson Profile](https://hackmd.io/K1vV2HnKSHiftA8L4DMQfQ)                                                                                                                                |\n",
      "| Related Person’s Relationship<br />Relationship of a person to a patient. (e.g., parent, next-of-kin, guardian, custodian)                                                                 |                                                                                                                                                           | [See US Core RelatedPerson Profile](https://hackmd.io/K1vV2HnKSHiftA8L4DMQfQ)                                                                                                                                |\n",
      "| Occupation<br />Type of work of a person. (e.g., infantry, business analyst, social worker)                                                                                                | [Occupational Data for Health, version 20201030 (extensible, PHINVADS)](https://phinvads.cdc.gov/vads/ViewCodeSystem.action?id=2.16.840.1.114222.4.5.327) | [Observation. valueCodeableConcept (Min = 0, MS, code =21843-8 Hx of Usual occupation and category = social history)](http://build.fhir.org/ig/HL7/us-odh/StructureDefinition-odh-UsualWork.html)            |\n",
      "| Occupation Industry<br />Type of business that compensates for work or assigns work to an unpaid worker or volunteer. (e.g., U.S. Army, cement manufacturing, children and youth services) | [Occupational Data for Health, version 20201030 (extensible, PHINVADS)](https://phinvads.cdc.gov/vads/ViewCodeSystem.action?id=2.16.840.1.114222.4.5.327) | [Observation.component. valueCodeableConcept (Min = 0, MS, code = 21844-6  Hx of Usual industry and category = social history))](http://build.fhir.org/ig/HL7/us-odh/StructureDefinition-odh-UsualWork.html) |\n"
     ]
    },
    {
     "data": {
      "text/markdown": [
       "| DATA ELEMENT                                                                                                                                                                               | APPLICABLE VOCABULARY STANDARD(S) (binding, notes)                                                                                                        | FHIRPath (minimum cardinality, MS Flag, notes)                                                                                                                                                               |\n",
       "|--------------------------------------------------------------------------------------------------------------------------------------------------------------------------------------------|-----------------------------------------------------------------------------------------------------------------------------------------------------------|--------------------------------------------------------------------------------------------------------------------------------------------------------------------------------------------------------------|\n",
       "| Date of Death<br />Known or estimated year, month, and day of the patient's death.                                                                                                         | NA                                                                                                                                                        | [Patient.deceased[x] (Min = 0 , MS  = False, Additional USCDI Requirements)](http://hl7.org/fhir/us/core/StructureDefinition-us-core-patient-definitions.html)                                               |\n",
       "| Tribal Affiliation<br />Tribe or band with which an individual associates.                                                                                                                 | [TribalEntityUS (required, HL7)](http://hl7.org/fhir/us/ecr/StructureDefinition/us-ph-tribal-affiliation-extension)                                       | [ US Public Health Tribal Affiliation Extension (Min = 0 , MS  = False, Additional USCDI Requirements ValueCode)](http://hl7.org/fhir/us/ecr/StructureDefinition/us-ph-tribal-affiliation-extension)         |\n",
       "| Sex<br />Documentation of a specific instance of sex and/or gender information.                                                                                                            | ☛   SNOMED International, Systematized Nomenclature of Medicine Clinical Terms (SNOMED CT®) U.S. Edition, March 2022 Release                              | Retire BirthSex extension and Create new Sex Extension (Min = 0, MS  = False, Additional USCDI Requirements ValueCode)                                                                                       |\n",
       "| Related Person’s Name<br />Name of a person with a legal or familial relationship to a patient.                                                                                            |                                                                                                                                                           | [See US Core RelatedPerson Profile](https://hackmd.io/K1vV2HnKSHiftA8L4DMQfQ)                                                                                                                                |\n",
       "| Related Person’s Relationship<br />Relationship of a person to a patient. (e.g., parent, next-of-kin, guardian, custodian)                                                                 |                                                                                                                                                           | [See US Core RelatedPerson Profile](https://hackmd.io/K1vV2HnKSHiftA8L4DMQfQ)                                                                                                                                |\n",
       "| Occupation<br />Type of work of a person. (e.g., infantry, business analyst, social worker)                                                                                                | [Occupational Data for Health, version 20201030 (extensible, PHINVADS)](https://phinvads.cdc.gov/vads/ViewCodeSystem.action?id=2.16.840.1.114222.4.5.327) | [Observation. valueCodeableConcept (Min = 0, MS, code =21843-8 Hx of Usual occupation and category = social history)](http://build.fhir.org/ig/HL7/us-odh/StructureDefinition-odh-UsualWork.html)            |\n",
       "| Occupation Industry<br />Type of business that compensates for work or assigns work to an unpaid worker or volunteer. (e.g., U.S. Army, cement manufacturing, children and youth services) | [Occupational Data for Health, version 20201030 (extensible, PHINVADS)](https://phinvads.cdc.gov/vads/ViewCodeSystem.action?id=2.16.840.1.114222.4.5.327) | [Observation.component. valueCodeableConcept (Min = 0, MS, code = 21844-6  Hx of Usual industry and category = social history))](http://build.fhir.org/ig/HL7/us-odh/StructureDefinition-odh-UsualWork.html) |"
      ]
     },
     "metadata": {},
     "output_type": "display_data"
    },
    {
     "name": "stdout",
     "output_type": "stream",
     "text": [
      "Health Status Assessments\n",
      "APPLICABLE VOCABULARY STANDARD(S) (binding, notes)\n",
      "None\n",
      "   Logical Observation Identifiers Names and Codes (LOINC®) version 2.72\n",
      "   Logical Observation Identifiers Names and Codes (LOINC®) version 2.72\n",
      "   Logical Observation Identifiers Names and Codes (LOINC®) version 2.72\n",
      " US Public Health Pregnancy Status (extensible)\n",
      "[ US Public Health Pregnancy Status (extensible)](http://hl7.org/fhir/us/ecr/STU2/ValueSet-us-ph-pregnancy-status.html)\n",
      "   SNOMED International, Systematized Nomenclature of Medicine Clinical Terms (SNOMED CT®) U.S. Edition,\n",
      "March 2022 Release\n",
      "FHIRPath (minimum cardinality, MS Flag, notes)\n",
      "See US Core Condition Problems and Health Concerns Profile\n",
      "[See US Core Condition Problems and Health Concerns Profile](http://hl7.org/fhir/us/core/StructureDefinition-us-core-condition-problems-health-concerns.html)\n",
      "TBD (see notes below)\n",
      "TBD (see notes below)\n",
      "TBD (see notes below)\n",
      "(see notes below)\n",
      "See US Core Smoking Status Observation Profile\n",
      "[See US Core Smoking Status Observation Profile](http://hl7.org/fhir/us/core/StructureDefinition-us-core-smokingstatus.html)\n",
      "Search (conformance expectation, notes)\n",
      "None\n",
      "Same as other US Core Observations\n",
      "[Same as other US Core Observations](http://hl7.org/fhir/us/core/CapabilityStatement-us-core-server.html)\n",
      "Same as other US Core Observations\n",
      "[Same as other US Core Observations](http://hl7.org/fhir/us/core/CapabilityStatement-us-core-server.html)\n",
      "Same as other US Core Observations\n",
      "[Same as other US Core Observations](http://hl7.org/fhir/us/core/CapabilityStatement-us-core-server.html)\n",
      "Same as other US Core Observations\n",
      "[Same as other US Core Observations](http://hl7.org/fhir/us/core/CapabilityStatement-us-core-server.html)\n",
      "None\n",
      "/Users/ehaas/Documents/Python/Jupyter/MyNotebooks/test_resources/Health Status Assessments.md\n",
      "| DATA ELEMENT                                                                                                                                                                                  | APPLICABLE VOCABULARY STANDARD(S) (binding, notes)                                                                                | FHIRPath (minimum cardinality, MS Flag, notes)                                                                                                                |\n",
      "|-----------------------------------------------------------------------------------------------------------------------------------------------------------------------------------------------|-----------------------------------------------------------------------------------------------------------------------------------|---------------------------------------------------------------------------------------------------------------------------------------------------------------|\n",
      "| Health Concerns<br />Health-related issue or worry. (e.g., weight gain, cancer risk)                                                                                                          |                                                                                                                                   | [See US Core Condition Problems and Health Concerns Profile](http://hl7.org/fhir/us/core/StructureDefinition-us-core-condition-problems-health-concerns.html) |\n",
      "| Functional Status<br />Assessment of a patient’s capabilities, or their risks of development or worsening of a condition or problem. (e.g., fall risk, pressure ulcer risk, alcohol use)      | ☛   Logical Observation Identifiers Names and Codes (LOINC®) version 2.72                                                         | TBD (see notes below)                                                                                                                                         |\n",
      "| Disability Status<br />Assessments of a patient’s physical, cognitive, intellectual, or psychiatric disabilities. (e.g., vision, hearing, memory, activities of daily living)                 | ☛   Logical Observation Identifiers Names and Codes (LOINC®) version 2.72                                                         | TBD (see notes below)                                                                                                                                         |\n",
      "| Mental/Cognitive Status<br />Assessment of a patient's level of cognitive functioning. (e.g., alertness, orientation, comprehension, concentration, and immediate memory for simple commands) | ☛   Logical Observation Identifiers Names and Codes (LOINC®) version 2.72                                                         | TBD (see notes below)                                                                                                                                         |\n",
      "| Pregnancy Status<br />State or condition of being pregnant or intent to become pregnant. (e.g., pregnant, not pregnant, intent to become pregnant, unknown)                                   | [ US Public Health Pregnancy Status (extensible)](http://hl7.org/fhir/us/ecr/STU2/ValueSet-us-ph-pregnancy-status.html)           | (see notes below)                                                                                                                                             |\n",
      "| Smoking Status<br />Assessment of a patient’s smoking behaviors.                                                                                                                              | ☛   SNOMED International, Systematized Nomenclature of Medicine Clinical Terms (SNOMED CT®) U.S. Edition,<br />March 2022 Release | [See US Core Smoking Status Observation Profile](http://hl7.org/fhir/us/core/StructureDefinition-us-core-smokingstatus.html)                                  |\n"
     ]
    },
    {
     "data": {
      "text/markdown": [
       "| DATA ELEMENT                                                                                                                                                                                  | APPLICABLE VOCABULARY STANDARD(S) (binding, notes)                                                                                | FHIRPath (minimum cardinality, MS Flag, notes)                                                                                                                |\n",
       "|-----------------------------------------------------------------------------------------------------------------------------------------------------------------------------------------------|-----------------------------------------------------------------------------------------------------------------------------------|---------------------------------------------------------------------------------------------------------------------------------------------------------------|\n",
       "| Health Concerns<br />Health-related issue or worry. (e.g., weight gain, cancer risk)                                                                                                          |                                                                                                                                   | [See US Core Condition Problems and Health Concerns Profile](http://hl7.org/fhir/us/core/StructureDefinition-us-core-condition-problems-health-concerns.html) |\n",
       "| Functional Status<br />Assessment of a patient’s capabilities, or their risks of development or worsening of a condition or problem. (e.g., fall risk, pressure ulcer risk, alcohol use)      | ☛   Logical Observation Identifiers Names and Codes (LOINC®) version 2.72                                                         | TBD (see notes below)                                                                                                                                         |\n",
       "| Disability Status<br />Assessments of a patient’s physical, cognitive, intellectual, or psychiatric disabilities. (e.g., vision, hearing, memory, activities of daily living)                 | ☛   Logical Observation Identifiers Names and Codes (LOINC®) version 2.72                                                         | TBD (see notes below)                                                                                                                                         |\n",
       "| Mental/Cognitive Status<br />Assessment of a patient's level of cognitive functioning. (e.g., alertness, orientation, comprehension, concentration, and immediate memory for simple commands) | ☛   Logical Observation Identifiers Names and Codes (LOINC®) version 2.72                                                         | TBD (see notes below)                                                                                                                                         |\n",
       "| Pregnancy Status<br />State or condition of being pregnant or intent to become pregnant. (e.g., pregnant, not pregnant, intent to become pregnant, unknown)                                   | [ US Public Health Pregnancy Status (extensible)](http://hl7.org/fhir/us/ecr/STU2/ValueSet-us-ph-pregnancy-status.html)           | (see notes below)                                                                                                                                             |\n",
       "| Smoking Status<br />Assessment of a patient’s smoking behaviors.                                                                                                                              | ☛   SNOMED International, Systematized Nomenclature of Medicine Clinical Terms (SNOMED CT®) U.S. Edition,<br />March 2022 Release | [See US Core Smoking Status Observation Profile](http://hl7.org/fhir/us/core/StructureDefinition-us-core-smokingstatus.html)                                  |"
      ]
     },
     "metadata": {},
     "output_type": "display_data"
    },
    {
     "name": "stdout",
     "output_type": "stream",
     "text": [
      "Health Insurance Information\n",
      "APPLICABLE VOCABULARY STANDARD(S) (binding, notes)\n",
      "FinancialResource StatusCodes (required)\n",
      "[FinancialResource StatusCodes (required)](http://hl7.org/fhir/R4/valueset-fm-status.html)\n",
      " https://cts.nlm.nih.gov /fhir/ValueSet/ 2.16.840.1.114222. 4.11.3591 (extensible, Categories of types of health care payor entities as defined by the US Public Health Data Consortium SOP code system QI CORE)\n",
      "[ https://cts.nlm.nih.gov /fhir/ValueSet/ 2.16.840.1.114222. 4.11.3591 (extensible, Categories of types of health care payor entities as defined by the US Public Health Data Consortium SOP code system QI CORE)](https://vsac.nlm.nih.gov/valueset/2.16.840.1.114222.4.11.3591/expansion/Latest)\n",
      "Subscriber RelationshipCodes (extensible, HL7)\n",
      "[Subscriber RelationshipCodes (extensible, HL7)](http://hl7.org/fhir/R4/valueset-subscriber-relationship.html)\n",
      "identifier.type:\n",
      "MB\\|http://terminology.hl7.org/CodeSystem/v2-0203\n",
      "UMB \\| http://hl7.org/fhir/us/davinci-hrex/CodeSystem/hrex-temp)\n",
      "NA\n",
      "NA\n",
      "NAIC, or Other Payer ID used in HIPAA transaction [BB], CCN or TIN [HREX, QICORE]\n",
      "None\n",
      "NA\n",
      "NA\n",
      "NA\n",
      "FHIRPath (minimum cardinality, MS Flag, notes)\n",
      "Coverage.status (min =1, MS , inherited from Base FHIR) + Coverage.period ( min = 0, MS)\n",
      "Coverage.type (min = 0, MS)\n",
      "[Coverage.type (min = 0, MS)](http://build.fhir.org/ig/HL7/carin-bb/StructureDefinition-C4BB-Coverage-definitions.html)\n",
      "Coverage,relationship (min =1, MS )\n",
      "[Coverage,relationship (min =1, MS )](http://build.fhir.org/ig/HL7/carin-bb/StructureDefinition-C4BB-Coverage-definitions.html)\n",
      "Coverage.identifier (min=0, MS, invariant: Coverage.identifier or Coverage.subscriberId SHALL be present) [HRex, DIC]\n",
      "or\n",
      "Patient.identifier(Min = 0, MS)[BB]\n",
      "or both\n",
      "Coverage.subscriberId (min=0, MS, for Hrex same invariant as above)\n",
      "[Coverage.subscriberId (min=0, MS, for Hrex same invariant as above)](http://build.fhir.org/ig/HL7/carin-bb/StructureDefinition-C4BB-Coverage-definitions.html)\n",
      "Coverage.class (min=0, MS, \"plan\" slice)+ Coverage.class.value (min=1, MS)\n",
      "[Coverage.class (min=0, MS, \"plan\" slice)+ Coverage.class.value (min=1, MS)](http://build.fhir.org/ig/HL7/carin-bb/StructureDefinition-C4BB-Coverage-definitions.html)\n",
      "Coverage.payor (min =1, MS) \n",
      "Plus Either:\n",
      "Coverage.payor.identifier (min =0, MS)\n",
      "or \n",
      "Organization.identifier min = 0, MS)[BB,HREX,DIC]\n",
      "or\n",
      "both\n",
      "None\n",
      "Coverage.beneficiary (min =1, MS, mandatory in base FHIR resource. Reference to US Core Patient)\n",
      "[Coverage.beneficiary (min =1, MS, mandatory in base FHIR resource. Reference to US Core Patient)](http://hl7.org/fhir/us/davinci-hrex/STU1/StructureDefinition-hrex-coverage-definitions.html)\n",
      " Coverage.subscriber ( :thinking_face: Is this needed for patient/provider access )\n",
      "[ Coverage.subscriber ( :thinking_face: Is this needed for patient/provider access )](http://hl7.org/fhir/us/davinci-hrex/STU1/StructureDefinition-hrex-coverage-definitions.html)\n",
      " Coverage.dependent ( :thinking_face: Is this needed for patient/provider access )\n",
      "[ Coverage.dependent ( :thinking_face: Is this needed for patient/provider access )](http://hl7.org/fhir/us/davinci-hrex/STU1/StructureDefinition-hrex-coverage-definitions.html)\n",
      "Search (conformance expectation, notes)\n",
      "None\n",
      "None\n",
      "None\n",
      "Coverage identifier (SHOULD (see comment below))\n",
      "Coverage subscriberID (SHOULD (see comment) , custom SP!)\n",
      "[Coverage subscriberID (SHOULD (see comment) , custom SP!)](http://hl7.org/fhir/us/davinci-hrex/STU1/SearchParameter-hrex-coverage-subscriberId.html)\n",
      "None\n",
      "None\n",
      "None\n",
      "Coverage patient (SHALL)\n",
      "None\n",
      "None\n",
      "/Users/ehaas/Documents/Python/Jupyter/MyNotebooks/test_resources/Health Insurance Information.md\n",
      "| DATA ELEMENT                                                                                                                              | APPLICABLE VOCABULARY STANDARD(S) (binding, notes)                                                                                                                                                                                                                                                 | FHIRPath (minimum cardinality, MS Flag, notes)                                                                                                                                                  |\n",
      "|-------------------------------------------------------------------------------------------------------------------------------------------|----------------------------------------------------------------------------------------------------------------------------------------------------------------------------------------------------------------------------------------------------------------------------------------------------|-------------------------------------------------------------------------------------------------------------------------------------------------------------------------------------------------|\n",
      "| Coverage Status<br />Presence or absence of health care insurance.                                                                        | [FinancialResource StatusCodes (required)](http://hl7.org/fhir/R4/valueset-fm-status.html)                                                                                                                                                                                                         | Coverage.status (min =1, MS , inherited from Base FHIR) + Coverage.period ( min = 0, MS)                                                                                                        |\n",
      "| Coverage Type<br />Category of health care payer. (e.g., Medicare, TRICARE, Commercial Managed Care - PPO)                                | [ https://cts.nlm.nih.gov /fhir/ValueSet/ 2.16.840.1.114222. 4.11.3591 (extensible, Categories of types of health care payor entities as defined by the US Public Health Data Consortium SOP code system QI CORE)](https://vsac.nlm.nih.gov/valueset/2.16.840.1.114222.4.11.3591/expansion/Latest) | [Coverage.type (min = 0, MS)](http://build.fhir.org/ig/HL7/carin-bb/StructureDefinition-C4BB-Coverage-definitions.html)                                                                         |\n",
      "| Relationship to Subscriber<br />Relationship of a patient to the primary insured person.                                                  | [Subscriber RelationshipCodes (extensible, HL7)](http://hl7.org/fhir/R4/valueset-subscriber-relationship.html)                                                                                                                                                                                     | [Coverage,relationship (min =1, MS )](http://build.fhir.org/ig/HL7/carin-bb/StructureDefinition-C4BB-Coverage-definitions.html)                                                                 |\n",
      "| Member Identifier<br />Sequence of characters used to uniquely refer to an individual with respect to their insurance.                    | identifier.type:<br />MB\\|http://terminology.hl7.org/CodeSystem/v2-0203<br />UMB \\| http://hl7.org/fhir/us/davinci-hrex/CodeSystem/hrex-temp)                                                                                                                                                      | Coverage.identifier (min=0, MS, invariant: Coverage.identifier or Coverage.subscriberId SHALL be present) [HRex, DIC]<br />or<br />Patient.identifier(Min = 0, MS)[BB]<br />or both             |\n",
      "| Subscriber Identifier<br />Sequence of characters used to uniquely refer to the individual that selects insurance benefits.               | NA                                                                                                                                                                                                                                                                                                 | [Coverage.subscriberId (min=0, MS, for Hrex same invariant as above)](http://build.fhir.org/ig/HL7/carin-bb/StructureDefinition-C4BB-Coverage-definitions.html)                                 |\n",
      "| Group Identifier<br />Sequence of characters used to uniquely refer to a specific health insurance plan.                                  | NA                                                                                                                                                                                                                                                                                                 | [Coverage.class (min=0, MS, \"plan\" slice)+ Coverage.class.value (min=1, MS)](http://build.fhir.org/ig/HL7/carin-bb/StructureDefinition-C4BB-Coverage-definitions.html)                          |\n",
      "| Payer Identifier<br />Sequence of characters used to uniquely refer to an insurance payer.                                                | NAIC, or Other Payer ID used in HIPAA transaction [BB], CCN or TIN [HREX, QICORE]                                                                                                                                                                                                                  | Coverage.payor (min =1, MS) <br />Plus Either:<br />Coverage.payor.identifier (min =0, MS)<br />or <br />Organization.identifier min = 0, MS)[BB,HREX,DIC]<br />or<br />both                    |\n",
      "| **NOT Part of USCDI**                                                                                                                     |                                                                                                                                                                                                                                                                                                    |                                                                                                                                                                                                 |\n",
      "| Beneficiary<br />Patient who receives treatment for which the costs are reimbursed under the coverage.                                    | NA                                                                                                                                                                                                                                                                                                 | [Coverage.beneficiary (min =1, MS, mandatory in base FHIR resource. Reference to US Core Patient)](http://hl7.org/fhir/us/davinci-hrex/STU1/StructureDefinition-hrex-coverage-definitions.html) |\n",
      "| Subscriber<br />This is the party who is entitled to the benfits under the policy. May be patient  or a parent in the case of dependants. | NA                                                                                                                                                                                                                                                                                                 | [ Coverage.subscriber ( :thinking_face: Is this needed for patient/provider access )](http://hl7.org/fhir/us/davinci-hrex/STU1/StructureDefinition-hrex-coverage-definitions.html)              |\n",
      "| Dependent<br />A unique identifier for a dependent under the coverage.<br />                                                              | NA                                                                                                                                                                                                                                                                                                 | [ Coverage.dependent ( :thinking_face: Is this needed for patient/provider access )](http://hl7.org/fhir/us/davinci-hrex/STU1/StructureDefinition-hrex-coverage-definitions.html)               |\n"
     ]
    },
    {
     "data": {
      "text/markdown": [
       "| DATA ELEMENT                                                                                                                              | APPLICABLE VOCABULARY STANDARD(S) (binding, notes)                                                                                                                                                                                                                                                 | FHIRPath (minimum cardinality, MS Flag, notes)                                                                                                                                                  |\n",
       "|-------------------------------------------------------------------------------------------------------------------------------------------|----------------------------------------------------------------------------------------------------------------------------------------------------------------------------------------------------------------------------------------------------------------------------------------------------|-------------------------------------------------------------------------------------------------------------------------------------------------------------------------------------------------|\n",
       "| Coverage Status<br />Presence or absence of health care insurance.                                                                        | [FinancialResource StatusCodes (required)](http://hl7.org/fhir/R4/valueset-fm-status.html)                                                                                                                                                                                                         | Coverage.status (min =1, MS , inherited from Base FHIR) + Coverage.period ( min = 0, MS)                                                                                                        |\n",
       "| Coverage Type<br />Category of health care payer. (e.g., Medicare, TRICARE, Commercial Managed Care - PPO)                                | [ https://cts.nlm.nih.gov /fhir/ValueSet/ 2.16.840.1.114222. 4.11.3591 (extensible, Categories of types of health care payor entities as defined by the US Public Health Data Consortium SOP code system QI CORE)](https://vsac.nlm.nih.gov/valueset/2.16.840.1.114222.4.11.3591/expansion/Latest) | [Coverage.type (min = 0, MS)](http://build.fhir.org/ig/HL7/carin-bb/StructureDefinition-C4BB-Coverage-definitions.html)                                                                         |\n",
       "| Relationship to Subscriber<br />Relationship of a patient to the primary insured person.                                                  | [Subscriber RelationshipCodes (extensible, HL7)](http://hl7.org/fhir/R4/valueset-subscriber-relationship.html)                                                                                                                                                                                     | [Coverage,relationship (min =1, MS )](http://build.fhir.org/ig/HL7/carin-bb/StructureDefinition-C4BB-Coverage-definitions.html)                                                                 |\n",
       "| Member Identifier<br />Sequence of characters used to uniquely refer to an individual with respect to their insurance.                    | identifier.type:<br />MB\\|http://terminology.hl7.org/CodeSystem/v2-0203<br />UMB \\| http://hl7.org/fhir/us/davinci-hrex/CodeSystem/hrex-temp)                                                                                                                                                      | Coverage.identifier (min=0, MS, invariant: Coverage.identifier or Coverage.subscriberId SHALL be present) [HRex, DIC]<br />or<br />Patient.identifier(Min = 0, MS)[BB]<br />or both             |\n",
       "| Subscriber Identifier<br />Sequence of characters used to uniquely refer to the individual that selects insurance benefits.               | NA                                                                                                                                                                                                                                                                                                 | [Coverage.subscriberId (min=0, MS, for Hrex same invariant as above)](http://build.fhir.org/ig/HL7/carin-bb/StructureDefinition-C4BB-Coverage-definitions.html)                                 |\n",
       "| Group Identifier<br />Sequence of characters used to uniquely refer to a specific health insurance plan.                                  | NA                                                                                                                                                                                                                                                                                                 | [Coverage.class (min=0, MS, \"plan\" slice)+ Coverage.class.value (min=1, MS)](http://build.fhir.org/ig/HL7/carin-bb/StructureDefinition-C4BB-Coverage-definitions.html)                          |\n",
       "| Payer Identifier<br />Sequence of characters used to uniquely refer to an insurance payer.                                                | NAIC, or Other Payer ID used in HIPAA transaction [BB], CCN or TIN [HREX, QICORE]                                                                                                                                                                                                                  | Coverage.payor (min =1, MS) <br />Plus Either:<br />Coverage.payor.identifier (min =0, MS)<br />or <br />Organization.identifier min = 0, MS)[BB,HREX,DIC]<br />or<br />both                    |\n",
       "| **NOT Part of USCDI**                                                                                                                     |                                                                                                                                                                                                                                                                                                    |                                                                                                                                                                                                 |\n",
       "| Beneficiary<br />Patient who receives treatment for which the costs are reimbursed under the coverage.                                    | NA                                                                                                                                                                                                                                                                                                 | [Coverage.beneficiary (min =1, MS, mandatory in base FHIR resource. Reference to US Core Patient)](http://hl7.org/fhir/us/davinci-hrex/STU1/StructureDefinition-hrex-coverage-definitions.html) |\n",
       "| Subscriber<br />This is the party who is entitled to the benfits under the policy. May be patient  or a parent in the case of dependants. | NA                                                                                                                                                                                                                                                                                                 | [ Coverage.subscriber ( :thinking_face: Is this needed for patient/provider access )](http://hl7.org/fhir/us/davinci-hrex/STU1/StructureDefinition-hrex-coverage-definitions.html)              |\n",
       "| Dependent<br />A unique identifier for a dependent under the coverage.<br />                                                              | NA                                                                                                                                                                                                                                                                                                 | [ Coverage.dependent ( :thinking_face: Is this needed for patient/provider access )](http://hl7.org/fhir/us/davinci-hrex/STU1/StructureDefinition-hrex-coverage-definitions.html)               |"
      ]
     },
     "metadata": {},
     "output_type": "display_data"
    },
    {
     "name": "stdout",
     "output_type": "stream",
     "text": [
      "Allergies and Intolerances\n",
      "APPLICABLE VOCABULARY STANDARD(S) (binding, notes)\n",
      "   RxNorm Full Monthly Release, July 5, 2022\n",
      "   SNOMED International, Systematized Nomenclature of Medicine Clinical Terms (SNOMED CT®) U.S. Edition,\n",
      "March 2022 Release\n",
      "   SNOMED International, Systematized Nomenclature of Medicine Clinical Terms (SNOMED CT®) U.S. Edition,\n",
      "March 2022 Release\n",
      "FHIRPath (minimum cardinality, MS Flag, notes)\n",
      "None\n",
      "None\n",
      "None\n",
      "Search (conformance expectation, notes)\n",
      "None\n",
      "None\n",
      "None\n",
      "/Users/ehaas/Documents/Python/Jupyter/MyNotebooks/test_resources/Allergies and Intolerances.md\n",
      "| DATA ELEMENT                                                                                                                                      | APPLICABLE VOCABULARY STANDARD(S) (binding, notes)                                                                                | FHIRPath (minimum cardinality, MS Flag, notes)   |\n",
      "|---------------------------------------------------------------------------------------------------------------------------------------------------|-----------------------------------------------------------------------------------------------------------------------------------|--------------------------------------------------|\n",
      "| Substance (Medication)<br />Pharmacologic agent believed to cause a harmful or undesired physiologic response following exposure.                 | ☛   RxNorm Full Monthly Release, July 5, 2022                                                                                     |                                                  |\n",
      "| Substance (Drug Class)<br />Pharmacologic category for an agent believed to cause a harmful or undesired physiologic response following exposure. | ☛   SNOMED International, Systematized Nomenclature of Medicine Clinical Terms (SNOMED CT®) U.S. Edition,<br />March 2022 Release |                                                  |\n",
      "| Reaction<br />Harmful or undesired physiologic response following exposure to a pharmacologic agent or class of agents.                           | ☛   SNOMED International, Systematized Nomenclature of Medicine Clinical Terms (SNOMED CT®) U.S. Edition,<br />March 2022 Release |                                                  |\n"
     ]
    },
    {
     "data": {
      "text/markdown": [
       "| DATA ELEMENT                                                                                                                                      | APPLICABLE VOCABULARY STANDARD(S) (binding, notes)                                                                                | FHIRPath (minimum cardinality, MS Flag, notes)   |\n",
       "|---------------------------------------------------------------------------------------------------------------------------------------------------|-----------------------------------------------------------------------------------------------------------------------------------|--------------------------------------------------|\n",
       "| Substance (Medication)<br />Pharmacologic agent believed to cause a harmful or undesired physiologic response following exposure.                 | ☛   RxNorm Full Monthly Release, July 5, 2022                                                                                     |                                                  |\n",
       "| Substance (Drug Class)<br />Pharmacologic category for an agent believed to cause a harmful or undesired physiologic response following exposure. | ☛   SNOMED International, Systematized Nomenclature of Medicine Clinical Terms (SNOMED CT®) U.S. Edition,<br />March 2022 Release |                                                  |\n",
       "| Reaction<br />Harmful or undesired physiologic response following exposure to a pharmacologic agent or class of agents.                           | ☛   SNOMED International, Systematized Nomenclature of Medicine Clinical Terms (SNOMED CT®) U.S. Edition,<br />March 2022 Release |                                                  |"
      ]
     },
     "metadata": {},
     "output_type": "display_data"
    },
    {
     "name": "stdout",
     "output_type": "stream",
     "text": [
      "Laboratory\n",
      "APPLICABLE VOCABULARY STANDARD(S) (binding, notes)\n",
      "   Logical Observation Identifiers Names and Codes (LOINC®) version 2.72\n",
      "**NEW** Both standards are required.\n",
      "   SNOMED International, Systematized Nomenclature of Medicine Clinical Terms (SNOMED CT®) U.S. Edition,\n",
      "March 2022 Release\n",
      "   The Unified Code of Units for Measure, Revision 2.1\n",
      "SNOMED International, Systematized Nomenclature of Medicine Clinical Terms (SNOMED CT®) U.S. Edition,\n",
      "March 2022 Release (extensional, link is to VSAC FHIM code set)\n",
      "[SNOMED International, Systematized Nomenclature of Medicine Clinical Terms (SNOMED CT®) U.S. Edition,\n",
      "March 2022 Release (extensional, link is to VSAC FHIM code set)](https://vsac.nlm.nih.gov/valueset/2.16.840.1.113883.3.2074.1.1.38/expansion/Latest)\n",
      "None\n",
      "FHIRPath (minimum cardinality, MS Flag, notes)\n",
      "See US Core Laboratory Result Observation Profile.\n",
      "[See US Core Laboratory Result Observation Profile.](http://hl7.org/fhir/us/core/StructureDefinition-us-core-observation-lab.html)\n",
      "See US Core Laboratory Result Observation Profile. ( note: us-core-4: SHOULD use Snomed CT for coded Results)\n",
      "[See US Core Laboratory Result Observation Profile. ( note: us-core-4: SHOULD use Snomed CT for coded Results)](http://hl7.org/fhir/us/core/StructureDefinition-us-core-observation-lab.html)\n",
      "Observation.extension (Min=0, MS,extension using v2 code system)\n",
      "[Observation.extension (Min=0, MS,extension using v2 code system)](http://hl7.org/fhir/StructureDefinition/observation-specimenCode)\n",
      "See US Core Laboratory Result Observation Profile.\n",
      "[See US Core Laboratory Result Observation Profile.](http://hl7.org/fhir/us/core/StructureDefinition-us-core-observation-lab.html)\n",
      "Search (conformance expectation, notes)\n",
      "None\n",
      "None\n",
      "Custom SP?\n",
      "None\n",
      "/Users/ehaas/Documents/Python/Jupyter/MyNotebooks/test_resources/Laboratory.md\n",
      "| DATA ELEMENT                                                                                                                                                 | APPLICABLE VOCABULARY STANDARD(S) (binding, notes)                                                                                                                                                                                                               | FHIRPath (minimum cardinality, MS Flag, notes)                                                                                                                                                |\n",
      "|--------------------------------------------------------------------------------------------------------------------------------------------------------------|------------------------------------------------------------------------------------------------------------------------------------------------------------------------------------------------------------------------------------------------------------------|-----------------------------------------------------------------------------------------------------------------------------------------------------------------------------------------------|\n",
      "| Tests<br />Analysis of specimens derived from humans which provide information for the diagnosis, prevention, treatment of disease, or assessment of health. | ☛   Logical Observation Identifiers Names and Codes (LOINC®) version 2.72                                                                                                                                                                                        | [See US Core Laboratory Result Observation Profile.](http://hl7.org/fhir/us/core/StructureDefinition-us-core-observation-lab.html)                                                            |\n",
      "| Values/Results<br />Documented findings of a tested specimen including structured and unstructured components.                                               | **NEW** Both standards are required.<br />☛   SNOMED International, Systematized Nomenclature of Medicine Clinical Terms (SNOMED CT®) U.S. Edition,<br />March 2022 Release<br />☛   The Unified Code of Units for Measure, Revision 2.1                         | [See US Core Laboratory Result Observation Profile. ( note: us-core-4: SHOULD use Snomed CT for coded Results)](http://hl7.org/fhir/us/core/StructureDefinition-us-core-observation-lab.html) |\n",
      "| Specimen Type<br />Substance being sampled or tested. (e.g., nasopharyngeal swab, whole blood, serum, urine, wound swab)                                     | [SNOMED International, Systematized Nomenclature of Medicine Clinical Terms (SNOMED CT®) U.S. Edition,<br />March 2022 Release (extensional, link is to VSAC FHIM code set)](https://vsac.nlm.nih.gov/valueset/2.16.840.1.113883.3.2074.1.1.38/expansion/Latest) | [Observation.extension (Min=0, MS,extension using v2 code system)](http://hl7.org/fhir/StructureDefinition/observation-specimenCode)                                                          |\n",
      "| Result Status<br />State or condition of a laboratory test.                                                                                                  |                                                                                                                                                                                                                                                                  | [See US Core Laboratory Result Observation Profile.](http://hl7.org/fhir/us/core/StructureDefinition-us-core-observation-lab.html)                                                            |\n"
     ]
    },
    {
     "data": {
      "text/markdown": [
       "| DATA ELEMENT                                                                                                                                                 | APPLICABLE VOCABULARY STANDARD(S) (binding, notes)                                                                                                                                                                                                               | FHIRPath (minimum cardinality, MS Flag, notes)                                                                                                                                                |\n",
       "|--------------------------------------------------------------------------------------------------------------------------------------------------------------|------------------------------------------------------------------------------------------------------------------------------------------------------------------------------------------------------------------------------------------------------------------|-----------------------------------------------------------------------------------------------------------------------------------------------------------------------------------------------|\n",
       "| Tests<br />Analysis of specimens derived from humans which provide information for the diagnosis, prevention, treatment of disease, or assessment of health. | ☛   Logical Observation Identifiers Names and Codes (LOINC®) version 2.72                                                                                                                                                                                        | [See US Core Laboratory Result Observation Profile.](http://hl7.org/fhir/us/core/StructureDefinition-us-core-observation-lab.html)                                                            |\n",
       "| Values/Results<br />Documented findings of a tested specimen including structured and unstructured components.                                               | **NEW** Both standards are required.<br />☛   SNOMED International, Systematized Nomenclature of Medicine Clinical Terms (SNOMED CT®) U.S. Edition,<br />March 2022 Release<br />☛   The Unified Code of Units for Measure, Revision 2.1                         | [See US Core Laboratory Result Observation Profile. ( note: us-core-4: SHOULD use Snomed CT for coded Results)](http://hl7.org/fhir/us/core/StructureDefinition-us-core-observation-lab.html) |\n",
       "| Specimen Type<br />Substance being sampled or tested. (e.g., nasopharyngeal swab, whole blood, serum, urine, wound swab)                                     | [SNOMED International, Systematized Nomenclature of Medicine Clinical Terms (SNOMED CT®) U.S. Edition,<br />March 2022 Release (extensional, link is to VSAC FHIM code set)](https://vsac.nlm.nih.gov/valueset/2.16.840.1.113883.3.2074.1.1.38/expansion/Latest) | [Observation.extension (Min=0, MS,extension using v2 code system)](http://hl7.org/fhir/StructureDefinition/observation-specimenCode)                                                          |\n",
       "| Result Status<br />State or condition of a laboratory test.                                                                                                  |                                                                                                                                                                                                                                                                  | [See US Core Laboratory Result Observation Profile.](http://hl7.org/fhir/us/core/StructureDefinition-us-core-observation-lab.html)                                                            |"
      ]
     },
     "metadata": {},
     "output_type": "display_data"
    }
   ],
   "source": [
    "def convert_links(ws):\n",
    "    for col in ws['B:D']:\n",
    "        for i in col:\n",
    "            print(i.value)\n",
    "            try:\n",
    "                md_link = f'[{i.value}]({i.hyperlink.target})'\n",
    "                print(md_link)\n",
    "                i.value = md_link\n",
    "            except AttributeError as e:\n",
    "                # print(i.value)\n",
    "                pass\n",
    "    return ws.values\n",
    "\n",
    "\n",
    "def md_tabler(file_name, df):\n",
    "\n",
    "    if skip_me:\n",
    "        df = df.iloc[: , :-1]\n",
    "    my_table = df.to_markdown(index=False, tablefmt=\"github\")\n",
    "\n",
    "    # for i in range(1,10):\n",
    "    #   my_table = my_table.replace('----','---')\n",
    "    #   my_table = my_table.replace('  ',' ')\n",
    "    my_table = my_table.replace('',u\"\\u261B\")\n",
    "    md = Path()/ out_path / (file_name + '.md')\n",
    "    print(md)\n",
    "    md.write_text(my_table)\n",
    "    print(my_table)\n",
    "    display.display_markdown(my_table, raw=True)\n",
    "\n",
    "for s in sheets:\n",
    "    if s not in skip_me:\n",
    "        print(s)\n",
    "        # convert_links(s)\n",
    "        data = convert_links(wb[s])\n",
    "        columns = next(data)[0:]\n",
    "        df = pd.DataFrame(data, columns=columns)\n",
    "        df.replace(to_replace ='\\n',\n",
    "                 value ='<br />', regex=True, inplace=True)\n",
    "        md_tabler(s, df)"
   ]
  },
  {
   "cell_type": "code",
   "execution_count": null,
   "metadata": {},
   "outputs": [],
   "source": []
  }
 ],
 "metadata": {
  "kernelspec": {
   "display_name": "Python 3.10.2 64-bit ('jupyter')",
   "language": "python",
   "name": "python3"
  },
  "language_info": {
   "codemirror_mode": {
    "name": "ipython",
    "version": 3
   },
   "file_extension": ".py",
   "mimetype": "text/x-python",
   "name": "python",
   "nbconvert_exporter": "python",
   "pygments_lexer": "ipython3",
   "version": "3.10.2"
  },
  "vscode": {
   "interpreter": {
    "hash": "18672f2fb81dcbb023a0ac48a86c775a19488782369d96ffbd3382a22fd285cf"
   }
  }
 },
 "nbformat": 4,
 "nbformat_minor": 4
}
