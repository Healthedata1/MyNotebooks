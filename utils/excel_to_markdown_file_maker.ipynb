{
 "cells": [
  {
   "cell_type": "markdown",
   "metadata": {},
   "source": [
    "### open excel workbook files from directory and create markdown tables\n",
    "\n",
    "- get .xlsx files from the local build input/image/source folder\n",
    "- convert links to external links.\n",
    "- print out markdown files\n",
    "- save files as input/includes files\n",
    "- !check out how I made excel files..."
   ]
  },
  {
   "cell_type": "markdown",
   "metadata": {},
   "source": []
  },
  {
   "cell_type": "code",
   "execution_count": null,
   "metadata": {},
   "outputs": [],
   "source": [
    "from pathlib import Path\n",
    "import openpyxl\n",
    "import pandas as pd\n",
    "import csv\n",
    "from json import loads\n",
    "from IPython import display"
   ]
  },
  {
   "cell_type": "code",
   "execution_count": null,
   "metadata": {},
   "outputs": [],
   "source": [
    "# get path from IG output dir\n",
    "#in_path = Path(r'/Users/ehaas/Documents/FHIR/davinci-ecdx/input/images/data-element-mapping.csv')\n",
    "in_path = Path(r'/Users/ehaas/Documents/FHIR/US-Core/my-notes/USCDIV3/USCDIv3-Tables.xlsx')\n",
    "out_path = Path(r'/Users/ehaas/Documents/Python/Jupyter/MyNotebooks/test_resources/')\n",
    "\n",
    "\n",
    "\n",
    "skip_me = ['USCDI v3',\n",
    "#  'Procedures',\n",
    "#  'Medications',\n",
    "#  'Patient Demographics',\n",
    "#  'Health Status Assessments',\n",
    "#  'Health Insurance Information',\n",
    "#  'Allergies and Intolerances',\n",
    " 'Unmerge Macro',\n",
    "#  'Laboratory'\n",
    "    ]\n",
    "\n",
    "in_path, skip_me"
   ]
  },
  {
   "cell_type": "markdown",
   "metadata": {},
   "source": [
    "### Get WB and list sheets"
   ]
  },
  {
   "cell_type": "code",
   "execution_count": null,
   "metadata": {},
   "outputs": [],
   "source": [
    "wb = openpyxl.load_workbook(in_path)\n",
    "# load Excel WB using pandas\n",
    "# xls = pd.ExcelFile(in_path)\n",
    "sheets = wb.sheetnames\n",
    "sheets"
   ]
  },
  {
   "cell_type": "markdown",
   "metadata": {},
   "source": [
    "###  Convert links to markdown then create a markdown table\n",
    "    - convert links\n",
    "    - create dataframe\n",
    "    - remove line returns\n",
    "    - create markdown table \n",
    "    - save"
   ]
  },
  {
   "cell_type": "code",
   "execution_count": null,
   "metadata": {},
   "outputs": [],
   "source": [
    "def convert_links(ws):\n",
    "    for col in ws['B:D']:\n",
    "        for i in col:\n",
    "            print(i.value)\n",
    "            try:\n",
    "                md_link = f'[{i.value}]({i.hyperlink.target})'\n",
    "                print(md_link)\n",
    "                i.value = md_link\n",
    "            except AttributeError as e:\n",
    "                # print(i.value)\n",
    "                pass\n",
    "    return ws.values\n",
    "\n",
    "\n",
    "def md_tabler(file_name, df):\n",
    "\n",
    "    my_table = df.to_markdown(index=False, tablefmt=\"github\")\n",
    "\n",
    "    # for i in range(1,10):\n",
    "    #   my_table = my_table.replace('----','---')\n",
    "    #   my_table = my_table.replace('  ',' ')\n",
    "    my_table = my_table.replace('',u\"\\u261B\")\n",
    "    md = Path()/ out_path / (file_name + '.md')\n",
    "    print(md)\n",
    "    md.write_text(my_table)\n",
    "    print(my_table)\n",
    "    display.display_markdown(my_table, raw=True)\n",
    "\n",
    "for s in sheets:\n",
    "    if s not in skip_me:\n",
    "        print(s)\n",
    "        # convert_links(s)\n",
    "        data = convert_links(wb[s])\n",
    "        columns = next(data)[0:]\n",
    "        df = pd.DataFrame(data, columns=columns)\n",
    "        df.replace(to_replace ='\\n',\n",
    "                 value ='<br />', regex=True, inplace=True)\n",
    "        md_tabler(s, df)"
   ]
  },
  {
   "cell_type": "code",
   "execution_count": null,
   "metadata": {},
   "outputs": [],
   "source": []
  }
 ],
 "metadata": {
  "kernelspec": {
   "display_name": "Python 3.10.2 64-bit ('jupyter')",
   "language": "python",
   "name": "python3"
  },
  "language_info": {
   "codemirror_mode": {
    "name": "ipython",
    "version": 3
   },
   "file_extension": ".py",
   "mimetype": "text/x-python",
   "name": "python",
   "nbconvert_exporter": "python",
   "pygments_lexer": "ipython3",
   "version": "3.10.2"
  },
  "vscode": {
   "interpreter": {
    "hash": "18672f2fb81dcbb023a0ac48a86c775a19488782369d96ffbd3382a22fd285cf"
   }
  }
 },
 "nbformat": 4,
 "nbformat_minor": 4
}
