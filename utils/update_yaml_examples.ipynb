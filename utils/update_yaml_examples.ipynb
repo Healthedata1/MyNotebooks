{
 "cells": [
  {
   "cell_type": "markdown",
   "metadata": {},
   "source": [
    "## Create and update example YAML resources\n",
    "\n",
    "- read files from local folder\n",
    "- convert yaml to dict\n",
    "- find examples of interest\n",
    "- add/remove element\n",
    "- validate\n",
    "- save files back to folder as yaml file"
   ]
  },
  {
   "cell_type": "markdown",
   "metadata": {},
   "source": []
  },
  {
   "cell_type": "code",
   "execution_count": 51,
   "metadata": {},
   "outputs": [],
   "source": [
    "from pathlib import Path\n",
    "import pandas as pd\n",
    "from json import dumps, loads\n",
    "from requests import post\n",
    "from yaml import load as y_load, dump as y_dump, FullLoader\n",
    "from IPython.display import display, Markdown, HTML\n"
   ]
  },
  {
   "cell_type": "code",
   "execution_count": 52,
   "metadata": {},
   "outputs": [
    {
     "data": {
      "text/plain": [
       "(PosixPath('/Users/ehaas/Documents/FHIR/USCDI4-Sandbox/input/examples-yaml'),\n",
       " PosixPath('/Users/ehaas/Documents/FHIR/US-Core/input/examples-yaml'))"
      ]
     },
     "execution_count": 52,
     "metadata": {},
     "output_type": "execute_result"
    }
   ],
   "source": [
    "\n",
    "fhir_test_server = 'http://test.fhir.org/r4'\n",
    "fhir_test_server = 'http://hapi.fhir.org/baseR4'\n",
    "fhir_test_server = 'http://wildfhir4.aegis.net/fhir4-0-1' \n",
    "\n",
    "headers = {\n",
    "    'Accept':'application/fhir+json',\n",
    "    'Content-Type':'application/fhir+json'\n",
    "     }\n",
    "params = {}\n",
    "\n",
    "examples_yaml_path = Path(r'/Users/ehaas/Documents/FHIR/US-Core/input/examples-yaml')\n",
    "examples_yaml_out = Path(r'/Users/ehaas/Documents/FHIR/USCDI4-Sandbox/input/examples-yaml')\n",
    "examples_yaml_out, examples_yaml_path"
   ]
  },
  {
   "cell_type": "code",
   "execution_count": 53,
   "metadata": {},
   "outputs": [
    {
     "name": "stdout",
     "output_type": "stream",
     "text": [
      "f.name = observation-cbc-erythrocytes.yml\n",
      "VID = no VID!\n",
      "last_updated = 2005-07-05T15:29:58.597Z\n",
      "### Writing to /Users/ehaas/Documents/FHIR/USCDI4-Sandbox/input/examples-yaml/observation-cbc-erythrocytes.yml....\n",
      "f.name = observation-cbc-leukocytes.yml\n",
      "VID = no VID!\n",
      "last_updated = 2005-07-05T15:29:58.597Z\n",
      "### Writing to /Users/ehaas/Documents/FHIR/USCDI4-Sandbox/input/examples-yaml/observation-cbc-leukocytes.yml....\n",
      "f.name = observation-cbc-mch.yml\n",
      "VID = no VID!\n",
      "last_updated = 2005-07-05T15:29:58.597Z\n",
      "### Writing to /Users/ehaas/Documents/FHIR/USCDI4-Sandbox/input/examples-yaml/observation-cbc-mch.yml....\n",
      "!!!!!!!no profile for allergyintolerance-provenance-example.yml\n",
      "!!!!!!!no profile for media-chest-xray.yml\n",
      "f.name = observation-serum-co2.yml\n",
      "VID = 962\n",
      "last_updated = 2005-07-05T15:29:58.597Z\n",
      "### Writing to /Users/ehaas/Documents/FHIR/USCDI4-Sandbox/input/examples-yaml/observation-serum-co2.yml....\n",
      "f.name = observation-serum-calcium.yml\n",
      "VID = 902\n",
      "last_updated = 2005-07-05T15:29:58.597Z\n",
      "### Writing to /Users/ehaas/Documents/FHIR/USCDI4-Sandbox/input/examples-yaml/observation-serum-calcium.yml....\n",
      "!!!!!!!no profile for PractitionerRole_Practitioner_Endpoint_Bundle_Example.yml\n",
      "f.name = observation-serum-potassium.yml\n",
      "VID = 938\n",
      "last_updated = 2005-07-05T15:29:58.597Z\n",
      "### Writing to /Users/ehaas/Documents/FHIR/USCDI4-Sandbox/input/examples-yaml/observation-serum-potassium.yml....\n",
      "f.name = observation-cbc-hematocrit.yml\n",
      "VID = no VID!\n",
      "last_updated = 2005-07-05T15:29:58.597Z\n",
      "### Writing to /Users/ehaas/Documents/FHIR/USCDI4-Sandbox/input/examples-yaml/observation-cbc-hematocrit.yml....\n",
      "f.name = observation-cbc-platelets.yml\n",
      "VID = no VID!\n",
      "last_updated = 2005-07-05T15:29:58.597Z\n",
      "### Writing to /Users/ehaas/Documents/FHIR/USCDI4-Sandbox/input/examples-yaml/observation-cbc-platelets.yml....\n",
      "f.name = observation-serum-bun.yml\n",
      "VID = 1237\n",
      "last_updated = 2005-07-05T15:29:58.597Z\n",
      "### Writing to /Users/ehaas/Documents/FHIR/USCDI4-Sandbox/input/examples-yaml/observation-serum-bun.yml....\n",
      "f.name = observation-serum-total-bilirubin.yml\n",
      "VID = 1364\n",
      "last_updated = 2005-07-07T15:29:58.597Z\n",
      "### Writing to /Users/ehaas/Documents/FHIR/USCDI4-Sandbox/input/examples-yaml/observation-serum-total-bilirubin.yml....\n",
      "!!!!!!!no profile for bundle-docref-example2.yml\n",
      "f.name = urobilinogen.yml\n",
      "VID = 206612\n",
      "last_updated = 2005-07-05T15:29:58.597Z\n",
      "### Writing to /Users/ehaas/Documents/FHIR/USCDI4-Sandbox/input/examples-yaml/urobilinogen.yml....\n",
      "!!!!!!!no profile for bundle-docref-example1.yml\n",
      "f.name = observation-serum-sodium.yml\n",
      "VID = 914\n",
      "last_updated = 2005-07-05T15:29:58.597Z\n",
      "### Writing to /Users/ehaas/Documents/FHIR/USCDI4-Sandbox/input/examples-yaml/observation-serum-sodium.yml....\n",
      "f.name = observation-cbc-mchc.yml\n",
      "VID = no VID!\n",
      "last_updated = 2005-07-05T15:29:58.597Z\n",
      "### Writing to /Users/ehaas/Documents/FHIR/USCDI4-Sandbox/input/examples-yaml/observation-cbc-mchc.yml....\n",
      "f.name = observation-serum-chloride.yml\n",
      "VID = 950\n",
      "last_updated = 2005-07-05T15:29:58.597Z\n",
      "### Writing to /Users/ehaas/Documents/FHIR/USCDI4-Sandbox/input/examples-yaml/observation-serum-chloride.yml....\n",
      "f.name = observation-serum-glucose.yml\n",
      "VID = 1165\n",
      "last_updated = 2005-07-05T15:29:58.597Z\n",
      "### Writing to /Users/ehaas/Documents/FHIR/USCDI4-Sandbox/input/examples-yaml/observation-serum-glucose.yml....\n",
      "f.name = observation-serum-creatinine.yml\n",
      "VID = 926\n",
      "last_updated = 2005-07-05T15:29:58.597Z\n",
      "### Writing to /Users/ehaas/Documents/FHIR/USCDI4-Sandbox/input/examples-yaml/observation-serum-creatinine.yml....\n",
      "f.name = at-home-in-vitro-test.yml\n",
      "VID = no VID!\n",
      "last_updated = 2021-01-28T15:29:58.597Z\n",
      "### Writing to /Users/ehaas/Documents/FHIR/USCDI4-Sandbox/input/examples-yaml/at-home-in-vitro-test.yml....\n",
      "f.name = observation-cbc-mcv.yml\n",
      "VID = no VID!\n",
      "last_updated = 2005-07-05T15:29:58.597Z\n",
      "### Writing to /Users/ehaas/Documents/FHIR/USCDI4-Sandbox/input/examples-yaml/observation-cbc-mcv.yml....\n",
      "!!!!!!!no profile for media-ekg-strip.yml\n",
      "f.name = observation-cbc-hemoglobin.yml\n",
      "VID = no VID!\n",
      "last_updated = 2005-07-05T15:29:58.597Z\n",
      "### Writing to /Users/ehaas/Documents/FHIR/USCDI4-Sandbox/input/examples-yaml/observation-cbc-hemoglobin.yml....\n"
     ]
    }
   ],
   "source": [
    "for f in examples_yaml_path.glob('*.yml'):\n",
    "    # print(f.name)\n",
    "    with open(f) as file:\n",
    "        example = y_load(file, Loader=FullLoader)\n",
    "        try:\n",
    "            profile = example['meta']['profile']\n",
    "        except KeyError:\n",
    "            print(f\"!!!!!!!no profile for {f.name}\")\n",
    "            continue\n",
    "        # print(f\"profile = {profile}\")\n",
    "        if 'http://hl7.org/fhir/us/core/StructureDefinition/us-core-observation-lab' in profile:\n",
    "            print(f'f.name = {f.name}')\n",
    "            VID = example['meta'].pop('versionId',\"no VID!\")\n",
    "            print(f\"VID = {VID}\")\n",
    "            last_updated = f\"{example['effectiveDateTime'][0:10]}T15:29:58.597Z\"\n",
    "            print(f\"last_updated = {last_updated}\")\n",
    "            example['meta']['lastUpdated'] = last_updated\n",
    "            # print(f\"example['meta'] = {dumps(example['meta'],indent=2)}\") \n",
    "            out_file = examples_yaml_out / f.name\n",
    "            print(f'### Writing to {out_file}....')\n",
    "            out_file.write_text(y_dump(example, sort_keys=False)) #as yaml\n"
   ]
  }
 ],
 "metadata": {
  "kernelspec": {
   "display_name": "Python 3.10.2 64-bit ('jupyter')",
   "language": "python",
   "name": "python3"
  },
  "language_info": {
   "codemirror_mode": {
    "name": "ipython",
    "version": 3
   },
   "file_extension": ".py",
   "mimetype": "text/x-python",
   "name": "python",
   "nbconvert_exporter": "python",
   "pygments_lexer": "ipython3",
   "version": "3.10.2"
  },
  "vscode": {
   "interpreter": {
    "hash": "18672f2fb81dcbb023a0ac48a86c775a19488782369d96ffbd3382a22fd285cf"
   }
  }
 },
 "nbformat": 4,
 "nbformat_minor": 4
}
