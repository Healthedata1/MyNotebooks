{
 "cells": [
  {
   "cell_type": "code",
   "execution_count": 61,
   "metadata": {},
   "outputs": [],
   "source": [
    "import os\n",
    "import sys\n",
    "#import string\n",
    "import shutil"
   ]
  },
  {
   "cell_type": "markdown",
   "metadata": {},
   "source": [
    "### Generate the file paths to traverse, or a single path if a file name was given"
   ]
  },
  {
   "cell_type": "code",
   "execution_count": 62,
   "metadata": {},
   "outputs": [],
   "source": [
    "def getfiles(path):\n",
    "    if os.path.isdir(path):\n",
    "        for root, dirs, files in os.walk(path):\n",
    "            for name in files:\n",
    "                yield os.path.join(root, name)\n",
    "    else:\n",
    "        yield path"
   ]
  },
  {
   "cell_type": "markdown",
   "metadata": {},
   "source": [
    "### get source folder"
   ]
  },
  {
   "cell_type": "code",
   "execution_count": 63,
   "metadata": {},
   "outputs": [
    {
     "name": "stdout",
     "output_type": "stream",
     "text": [
      "/Users/ehaas/Documents/FHIR/test_template/pages\n"
     ]
    }
   ],
   "source": [
    "fromdir = \"/Users/ehaas/Documents/FHIR/test_template/pages\"\n",
    "#fromdir = input('enter the source folder: ')\n",
    "print(fromdir)"
   ]
  },
  {
   "cell_type": "markdown",
   "metadata": {},
   "source": [
    "### get destination folder"
   ]
  },
  {
   "cell_type": "code",
   "execution_count": 64,
   "metadata": {},
   "outputs": [
    {
     "name": "stdout",
     "output_type": "stream",
     "text": [
      "/Users/ehaas/Documents/FHIR/test_template/test\n"
     ]
    }
   ],
   "source": [
    "destination = \"/Users/ehaas/Documents/FHIR/test_template/test\"\n",
    "#destination = input('enter the destination folder: ')\n",
    "print(destination)"
   ]
  },
  {
   "cell_type": "markdown",
   "metadata": {},
   "source": [
    "### First Clear the directory"
   ]
  },
  {
   "cell_type": "code",
   "execution_count": 67,
   "metadata": {},
   "outputs": [],
   "source": [
    "for filename in os.listdir(destination):\n",
    "    file_path = os.path.join(destination,filename)\n",
    "    try:\n",
    "        if os.path.isfile(file_path):\n",
    "            os.unlink(file_path)\n",
    "        #elif os.path.isdir(file_path): shutil.rmtree(file_path)\n",
    "    except Exception as e:\n",
    "        print(e)"
   ]
  },
  {
   "cell_type": "markdown",
   "metadata": {},
   "source": [
    "### Flatten Directory and Replace 'index.md' with [Directory name].md"
   ]
  },
  {
   "cell_type": "code",
   "execution_count": 68,
   "metadata": {},
   "outputs": [
    {
     "name": "stdout",
     "output_type": "stream",
     "text": [
      "new_filepath before check: /Users/ehaas/Documents/FHIR/test_template/test/index.md\n",
      "new_filepath after check: /Users/ehaas/Documents/FHIR/test_template/test/index.md\n",
      "new_filepath before check: /Users/ehaas/Documents/FHIR/test_template/test/index.md\n",
      "new_filepath after check: /Users/ehaas/Documents/FHIR/test_template/test/Security.md\n",
      "new_filepath before check: /Users/ehaas/Documents/FHIR/test_template/test/index.md\n",
      "new_filepath after check: /Users/ehaas/Documents/FHIR/test_template/test/More Guidance.md\n",
      "new_filepath before check: /Users/ehaas/Documents/FHIR/test_template/test/index.md\n",
      "new_filepath after check: /Users/ehaas/Documents/FHIR/test_template/test/General Guidance.md\n",
      "new_filepath before check: /Users/ehaas/Documents/FHIR/test_template/test/index.md\n",
      "new_filepath after check: /Users/ehaas/Documents/FHIR/test_template/test/Operations and Search Parameters.md\n",
      "new_filepath before check: /Users/ehaas/Documents/FHIR/test_template/test/index.md\n",
      "new_filepath after check: /Users/ehaas/Documents/FHIR/test_template/test/Terminology.md\n",
      "new_filepath before check: /Users/ehaas/Documents/FHIR/test_template/test/index.md\n",
      "new_filepath after check: /Users/ehaas/Documents/FHIR/test_template/test/Capability Statements.md\n",
      "new_filepath before check: /Users/ehaas/Documents/FHIR/test_template/test/index.md\n",
      "new_filepath after check: /Users/ehaas/Documents/FHIR/test_template/test/Profiles and Extensions.md\n",
      "new_filepath before check: /Users/ehaas/Documents/FHIR/test_template/test/index.md\n",
      "new_filepath after check: /Users/ehaas/Documents/FHIR/test_template/test/Examples.md\n",
      "new_filepath before check: /Users/ehaas/Documents/FHIR/test_template/test/index.md\n",
      "new_filepath after check: /Users/ehaas/Documents/FHIR/test_template/test/Downloads.md\n"
     ]
    }
   ],
   "source": [
    "for f in getfiles(fromdir):\n",
    "    \n",
    "    filename = f.split('/')[-1]\n",
    "    \n",
    "    if filename != '.DS_Store':\n",
    "        new_filepath = os.path.join(destination,filename)\n",
    "        print(f'new_filepath before check: {new_filepath}')\n",
    "        if os.path.isfile(new_filepath):\n",
    "            filename = f.split('/')[-2] + '.md'\n",
    "        new_filepath = os.path.join(destination,filename)\n",
    "        print(f'new_filepath after check: {new_filepath}')\n",
    "        shutil.copy(f, new_filepath)"
   ]
  },
  {
   "cell_type": "code",
   "execution_count": null,
   "metadata": {},
   "outputs": [],
   "source": []
  }
 ],
 "metadata": {
  "kernelspec": {
   "display_name": "Python 3",
   "language": "python",
   "name": "python3"
  },
  "language_info": {
   "codemirror_mode": {
    "name": "ipython",
    "version": 3
   },
   "file_extension": ".py",
   "mimetype": "text/x-python",
   "name": "python",
   "nbconvert_exporter": "python",
   "pygments_lexer": "ipython3",
   "version": "3.7.3"
  }
 },
 "nbformat": 4,
 "nbformat_minor": 2
}
