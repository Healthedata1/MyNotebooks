{
 "cells": [
  {
   "cell_type": "markdown",
   "metadata": {},
   "source": [
    "## Demonstrate how to set up file tree so the ig-pub can create the page heirarchy correctly in the IG resource and flatted the tree for Jekyll\n",
    "\n",
    "so from this ...\n",
    "\n",
    "~~~\n",
    ".\n",
    "├── Downloads\n",
    "│   └── index.md\n",
    "├── Examples\n",
    "│   └── index.md\n",
    "├── FHIR\\ Artifacts\n",
    "│   ├── Capability\\ Statements\n",
    "│   │   └── index.md\n",
    "│   ├── Operations\\ and\\ Search\\ Parameters\n",
    "│   │   └── index.md\n",
    "│   ├── Profiles\\ and\\ Extensions\n",
    "│   │   └── index.md\n",
    "│   └── Terminology\n",
    "│       └── index.md\n",
    "├── Guidance\n",
    "│   ├── General\\ Guidance\n",
    "│   │   └── index.md\n",
    "│   └── More\\ Guidance\n",
    "│       └── index.md\n",
    "├── Security\n",
    "│   └── index.md\n",
    "├── images\n",
    "├── includes\n",
    "└── index.md\n",
    "~~~\n",
    "\n",
    "to this ...\n",
    "\n",
    "~~~\n",
    ".\n",
    "├── Capability\\ Statements.md\n",
    "├── Downloads.md\n",
    "├── Examples.md\n",
    "├── General\\ Guidance.md\n",
    "├── More\\ Guidance.md\n",
    "├── Operations\\ and\\ Search\\ Parameters.md\n",
    "├── Profiles\\ and\\ Extensions.md\n",
    "├── Security.md\n",
    "├── Terminology.md\n",
    "└── index.md\n",
    "\n",
    "~~~"
   ]
  },
  {
   "cell_type": "code",
   "execution_count": 21,
   "metadata": {},
   "outputs": [],
   "source": [
    "import os\n",
    "import sys\n",
    "#import string\n",
    "import shutil\n",
    "from pprint import pprint"
   ]
  },
  {
   "cell_type": "markdown",
   "metadata": {},
   "source": [
    "### Generate the file paths to traverse, or a single path if a file name was given"
   ]
  },
  {
   "cell_type": "code",
   "execution_count": 28,
   "metadata": {},
   "outputs": [],
   "source": [
    "def getfiles(path):\n",
    "    if os.path.isdir(path):\n",
    "        for root, dirs, files in os.walk(path):\n",
    "            print('*'*25)\n",
    "            print(f'root= {root}')\n",
    "            print(f'dirs= {dirs}')\n",
    "            print(f'files= {files}')\n",
    "            print('*'*25)\n",
    "            yield os.path.join(root, name)\n",
    "    else:\n",
    "        yield"
   ]
  },
  {
   "cell_type": "markdown",
   "metadata": {},
   "source": [
    "### Generate the menu dictionary for making html menu"
   ]
  },
  {
   "cell_type": "code",
   "execution_count": 208,
   "metadata": {},
   "outputs": [],
   "source": [
    "def path_to_dict(path, d):\n",
    "\n",
    "    name = os.path.basename(path)  \n",
    "\n",
    "    if os.path.isdir(path):\n",
    "        if name not in d['dirs']:\n",
    "            d['dirs'][name] = {'dirs':{}}\n",
    "        for x in os.listdir(path):\n",
    "            path_to_dict(os.path.join(path,x), d['dirs'][name])\n",
    "    return d"
   ]
  },
  {
   "cell_type": "markdown",
   "metadata": {},
   "source": [
    "### get source folder"
   ]
  },
  {
   "cell_type": "code",
   "execution_count": 179,
   "metadata": {},
   "outputs": [
    {
     "name": "stdout",
     "output_type": "stream",
     "text": [
      "/Users/ehaas/Documents/FHIR/test_template/pages\n"
     ]
    }
   ],
   "source": [
    "fromdir = \"/Users/ehaas/Documents/FHIR/test_template/pages\"\n",
    "#fromdir = input('enter the source folder: ')\n",
    "print(fromdir)"
   ]
  },
  {
   "cell_type": "markdown",
   "metadata": {},
   "source": [
    "### get destination folder"
   ]
  },
  {
   "cell_type": "code",
   "execution_count": 180,
   "metadata": {},
   "outputs": [
    {
     "name": "stdout",
     "output_type": "stream",
     "text": [
      "/Users/ehaas/Documents/FHIR/test_template/test\n"
     ]
    }
   ],
   "source": [
    "destination = \"/Users/ehaas/Documents/FHIR/test_template/test\"\n",
    "#destination = input('enter the destination folder: ')\n",
    "print(destination)"
   ]
  },
  {
   "cell_type": "markdown",
   "metadata": {},
   "source": [
    "### First Clear the directory"
   ]
  },
  {
   "cell_type": "code",
   "execution_count": 181,
   "metadata": {},
   "outputs": [],
   "source": [
    "for filename in os.listdir(destination):\n",
    "    file_path = os.path.join(destination,filename)\n",
    "    try:\n",
    "        if os.path.isfile(file_path):\n",
    "            os.unlink(file_path)\n",
    "        #elif os.path.isdir(file_path): shutil.rmtree(file_path)\n",
    "    except Exception as e:\n",
    "        print(e)"
   ]
  },
  {
   "cell_type": "markdown",
   "metadata": {},
   "source": [
    "### Create Dict to make html menu"
   ]
  },
  {
   "cell_type": "code",
   "execution_count": 211,
   "metadata": {},
   "outputs": [
    {
     "name": "stdout",
     "output_type": "stream",
     "text": [
      "{'dirs': {'pages': {'dirs': {'Downloads': {'dirs': {}},\n",
      "                             'Examples': {'dirs': {}},\n",
      "                             'FHIR Artifacts': {'dirs': {'Capability Statements': {'dirs': {}},\n",
      "                                                         'Operations and Search Parameters': {'dirs': {}},\n",
      "                                                         'Profiles and Extensions': {'dirs': {}},\n",
      "                                                         'Terminology': {'dirs': {}}}},\n",
      "                             'Guidance': {'dirs': {'General Guidance': {'dirs': {}},\n",
      "                                                   'More Guidance': {'dirs': {}}}},\n",
      "                             'Security': {'dirs': {}},\n",
      "                             'images': {'dirs': {}},\n",
      "                             'includes': {'dirs': {}}}}}}\n"
     ]
    }
   ],
   "source": [
    "tree = path_to_dict(fromdir, d = {'dirs':{}})\n",
    "\n",
    "\n",
    "pprint(tree)"
   ]
  },
  {
   "cell_type": "markdown",
   "metadata": {},
   "source": [
    "### Use Jinja2 template to create html"
   ]
  },
  {
   "cell_type": "code",
   "execution_count": 242,
   "metadata": {},
   "outputs": [
    {
     "data": {
      "text/html": [
       "<!-- Create Menu xhtml from directory -->\n",
       "<!doctype xhtml>\n",
       "<title>Menu from File Tree</title>\n",
       "<h1>Menu</h1>\n",
       "<ul>\n",
       "      <li><a href=\"index.md\">Home</a></li>\n",
       "      <li><a href=\"Security.md\">Security</a></li>\n",
       "      <li><a href=\"images.md\">images</a></li>\n",
       "      <li><a href=\"Guidance.md\">Guidance</a></li>\n",
       "       <ul>\n",
       "       \n",
       "      <li><a href=\"More Guidance.md\">More Guidance</a></li>\n",
       "      <li><a href=\"General Guidance.md\">General Guidance</a></li>\n",
       "       </ul>\n",
       "      <li><a href=\"includes.md\">includes</a></li>\n",
       "      <li><a href=\"FHIR Artifacts.md\">FHIR Artifacts</a></li>\n",
       "       <ul>\n",
       "       \n",
       "      <li><a href=\"Operations and Search Parameters.md\">Operations and Search Parameters</a></li>\n",
       "      <li><a href=\"Terminology.md\">Terminology</a></li>\n",
       "      <li><a href=\"Capability Statements.md\">Capability Statements</a></li>\n",
       "      <li><a href=\"Profiles and Extensions.md\">Profiles and Extensions</a></li>\n",
       "       </ul>\n",
       "      <li><a href=\"Examples.md\">Examples</a></li>\n",
       "      <li><a href=\"Downloads.md\">Downloads</a></li>\n",
       "</ul>\n",
       "\n",
       "\n",
       " \n",
       "<!--\n",
       "{'dirs': {'pages': {'dirs': {'Downloads': {'dirs': {}},\n",
       "                             'Examples': {'dirs': {}},\n",
       "                             'FHIR Artifacts': {'dirs': {'Capability Statements': {'dirs': {}},\n",
       "                                                         'Operations and Search Parameters': {'dirs': {}},\n",
       "                                                         'Profiles and Extensions': {'dirs': {}},\n",
       "                                                         'Terminology': {'dirs': {}}}},\n",
       "                             'Guidance': {'dirs': {'General Guidance': {'dirs': {}},\n",
       "                                                   'More Guidance': {'dirs': {}}}},\n",
       "                             'Security': {'dirs': {}},\n",
       "                             'images': {'dirs': {}},\n",
       "                             'includes': {'dirs': {}}}}}}\n",
       "-->"
      ],
      "text/plain": [
       "<IPython.core.display.HTML object>"
      ]
     },
     "metadata": {},
     "output_type": "display_data"
    },
    {
     "name": "stdout",
     "output_type": "stream",
     "text": [
      "<!-- Create Menu xhtml from directory -->\n",
      "<!doctype xhtml>\n",
      "<title>Menu from File Tree</title>\n",
      "<h1>Menu</h1>\n",
      "<ul>\n",
      "      <li><a href=\"index.md\">Home</a></li>\n",
      "      <li><a href=\"Security.md\">Security</a></li>\n",
      "      <li><a href=\"images.md\">images</a></li>\n",
      "      <li><a href=\"Guidance.md\">Guidance</a></li>\n",
      "       <ul>\n",
      "       \n",
      "      <li><a href=\"More Guidance.md\">More Guidance</a></li>\n",
      "      <li><a href=\"General Guidance.md\">General Guidance</a></li>\n",
      "       </ul>\n",
      "      <li><a href=\"includes.md\">includes</a></li>\n",
      "      <li><a href=\"FHIR Artifacts.md\">FHIR Artifacts</a></li>\n",
      "       <ul>\n",
      "       \n",
      "      <li><a href=\"Operations and Search Parameters.md\">Operations and Search Parameters</a></li>\n",
      "      <li><a href=\"Terminology.md\">Terminology</a></li>\n",
      "      <li><a href=\"Capability Statements.md\">Capability Statements</a></li>\n",
      "      <li><a href=\"Profiles and Extensions.md\">Profiles and Extensions</a></li>\n",
      "       </ul>\n",
      "      <li><a href=\"Examples.md\">Examples</a></li>\n",
      "      <li><a href=\"Downloads.md\">Downloads</a></li>\n",
      "</ul>\n",
      "\n",
      "\n",
      " \n",
      "<!--\n",
      "{'dirs': {'pages': {'dirs': {'Downloads': {'dirs': {}},\n",
      "                             'Examples': {'dirs': {}},\n",
      "                             'FHIR Artifacts': {'dirs': {'Capability Statements': {'dirs': {}},\n",
      "                                                         'Operations and Search Parameters': {'dirs': {}},\n",
      "                                                         'Profiles and Extensions': {'dirs': {}},\n",
      "                                                         'Terminology': {'dirs': {}}}},\n",
      "                             'Guidance': {'dirs': {'General Guidance': {'dirs': {}},\n",
      "                                                   'More Guidance': {'dirs': {}}}},\n",
      "                             'Security': {'dirs': {}},\n",
      "                             'images': {'dirs': {}},\n",
      "                             'includes': {'dirs': {}}}}}}\n",
      "-->\n"
     ]
    }
   ],
   "source": [
    "from jinja2 import Environment, FileSystemLoader, select_autoescape\n",
    "from commonmark import commonmark\n",
    "from IPython.display import display, HTML, Markdown\n",
    "\n",
    "template_path = 'menu_html.j2'\n",
    "in_path =''\n",
    "\n",
    "def markdown(text, *args, **kwargs):\n",
    "    return commonmark(text, *args, **kwargs)\n",
    "\n",
    "env = Environment(\n",
    "    loader=FileSystemLoader(searchpath = in_path),\n",
    "    autoescape=select_autoescape(['html','xml','xhtml','j2','md'])\n",
    "    )\n",
    "\n",
    "env.filters['markdown'] = markdown\n",
    "\n",
    "template = env.get_template(template_path)\n",
    "\n",
    "d = template.render(tree=tree)\n",
    "display(HTML(d))\n",
    "\n",
    "print(d)"
   ]
  },
  {
   "cell_type": "markdown",
   "metadata": {},
   "source": [
    "### Flatten Directory and Replace 'index.md' with [Directory name].md"
   ]
  },
  {
   "cell_type": "code",
   "execution_count": 238,
   "metadata": {},
   "outputs": [
    {
     "name": "stdout",
     "output_type": "stream",
     "text": [
      "*************************\n",
      "root= /Users/ehaas/Documents/FHIR/test_template/pages\n",
      "dirs= ['Security', 'images', 'Guidance', 'includes', 'FHIR Artifacts', 'Examples', 'Downloads']\n",
      "files= ['.DS_Store', 'index.md']\n",
      "*************************\n"
     ]
    },
    {
     "ename": "NameError",
     "evalue": "name 'name' is not defined",
     "output_type": "error",
     "traceback": [
      "\u001b[0;31m---------------------------------------------------------------------------\u001b[0m",
      "\u001b[0;31mNameError\u001b[0m                                 Traceback (most recent call last)",
      "\u001b[0;32m<ipython-input-238-a4d7c9d0824d>\u001b[0m in \u001b[0;36m<module>\u001b[0;34m\u001b[0m\n\u001b[0;32m----> 1\u001b[0;31m \u001b[0;32mfor\u001b[0m \u001b[0mf\u001b[0m \u001b[0;32min\u001b[0m \u001b[0mgetfiles\u001b[0m\u001b[0;34m(\u001b[0m\u001b[0mfromdir\u001b[0m\u001b[0;34m)\u001b[0m\u001b[0;34m:\u001b[0m\u001b[0;34m\u001b[0m\u001b[0;34m\u001b[0m\u001b[0m\n\u001b[0m\u001b[1;32m      2\u001b[0m     \u001b[0mprint\u001b[0m\u001b[0;34m(\u001b[0m\u001b[0;34mf'f={f}'\u001b[0m\u001b[0;34m)\u001b[0m\u001b[0;34m\u001b[0m\u001b[0;34m\u001b[0m\u001b[0m\n\u001b[1;32m      3\u001b[0m     \u001b[0mfilename\u001b[0m \u001b[0;34m=\u001b[0m \u001b[0mf\u001b[0m\u001b[0;34m.\u001b[0m\u001b[0msplit\u001b[0m\u001b[0;34m(\u001b[0m\u001b[0;34m'/'\u001b[0m\u001b[0;34m)\u001b[0m\u001b[0;34m[\u001b[0m\u001b[0;34m-\u001b[0m\u001b[0;36m1\u001b[0m\u001b[0;34m]\u001b[0m\u001b[0;34m\u001b[0m\u001b[0;34m\u001b[0m\u001b[0m\n\u001b[1;32m      4\u001b[0m \u001b[0;34m\u001b[0m\u001b[0m\n\u001b[1;32m      5\u001b[0m     \u001b[0;32mif\u001b[0m \u001b[0mfilename\u001b[0m \u001b[0;34m!=\u001b[0m \u001b[0;34m'.DS_Store'\u001b[0m\u001b[0;34m:\u001b[0m\u001b[0;34m\u001b[0m\u001b[0;34m\u001b[0m\u001b[0m\n",
      "\u001b[0;32m<ipython-input-28-ff77bdb525ba>\u001b[0m in \u001b[0;36mgetfiles\u001b[0;34m(path)\u001b[0m\n\u001b[1;32m      7\u001b[0m             \u001b[0mprint\u001b[0m\u001b[0;34m(\u001b[0m\u001b[0;34mf'files= {files}'\u001b[0m\u001b[0;34m)\u001b[0m\u001b[0;34m\u001b[0m\u001b[0;34m\u001b[0m\u001b[0m\n\u001b[1;32m      8\u001b[0m             \u001b[0mprint\u001b[0m\u001b[0;34m(\u001b[0m\u001b[0;34m'*'\u001b[0m\u001b[0;34m*\u001b[0m\u001b[0;36m25\u001b[0m\u001b[0;34m)\u001b[0m\u001b[0;34m\u001b[0m\u001b[0;34m\u001b[0m\u001b[0m\n\u001b[0;32m----> 9\u001b[0;31m             \u001b[0;32myield\u001b[0m \u001b[0mos\u001b[0m\u001b[0;34m.\u001b[0m\u001b[0mpath\u001b[0m\u001b[0;34m.\u001b[0m\u001b[0mjoin\u001b[0m\u001b[0;34m(\u001b[0m\u001b[0mroot\u001b[0m\u001b[0;34m,\u001b[0m \u001b[0mname\u001b[0m\u001b[0;34m)\u001b[0m\u001b[0;34m\u001b[0m\u001b[0;34m\u001b[0m\u001b[0m\n\u001b[0m\u001b[1;32m     10\u001b[0m     \u001b[0;32melse\u001b[0m\u001b[0;34m:\u001b[0m\u001b[0;34m\u001b[0m\u001b[0;34m\u001b[0m\u001b[0m\n\u001b[1;32m     11\u001b[0m         \u001b[0;32myield\u001b[0m\u001b[0;34m\u001b[0m\u001b[0;34m\u001b[0m\u001b[0m\n",
      "\u001b[0;31mNameError\u001b[0m: name 'name' is not defined"
     ]
    }
   ],
   "source": [
    "for f in getfiles(fromdir):\n",
    "    print(f'f={f}')\n",
    "    filename = f.split('/')[-1]\n",
    "    \n",
    "    if filename != '.DS_Store':\n",
    "        new_filepath = os.path.join(destination,filename)\n",
    "        print(f'new_filepath before check: {new_filepath}')\n",
    "        if os.path.isfile(new_filepath):\n",
    "            filename = f.split('/')[-2] + '.md'\n",
    "        new_filepath = os.path.join(destination,filename)\n",
    "        print(f'new_filepath after check: {new_filepath}')\n",
    "        shutil.copy(f, new_filepath)"
   ]
  },
  {
   "cell_type": "code",
   "execution_count": null,
   "metadata": {},
   "outputs": [],
   "source": []
  },
  {
   "cell_type": "code",
   "execution_count": null,
   "metadata": {},
   "outputs": [],
   "source": []
  }
 ],
 "metadata": {
  "kernelspec": {
   "display_name": "Python 3",
   "language": "python",
   "name": "python3"
  },
  "language_info": {
   "codemirror_mode": {
    "name": "ipython",
    "version": 3
   },
   "file_extension": ".py",
   "mimetype": "text/x-python",
   "name": "python",
   "nbconvert_exporter": "python",
   "pygments_lexer": "ipython3",
   "version": "3.7.3"
  }
 },
 "nbformat": 4,
 "nbformat_minor": 2
}
