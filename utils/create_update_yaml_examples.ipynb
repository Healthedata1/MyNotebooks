{
 "cells": [
  {
   "cell_type": "markdown",
   "metadata": {},
   "source": [
    "## Create and update example YAML resources\n",
    "\n",
    "- read files from local folder\n",
    "- convert yaml to dict\n",
    "- create table of elements\n",
    "    with data from file name\n",
    "- update resources with table data\n",
    "- update signatures\n",
    "- validate\n",
    "- create include-yaml files\n",
    "- save files back to folder"
   ]
  },
  {
   "cell_type": "markdown",
   "metadata": {},
   "source": []
  },
  {
   "cell_type": "code",
   "execution_count": null,
   "metadata": {},
   "outputs": [],
   "source": [
    "from pathlib import Path\n",
    "import pandas as pd\n",
    "from json import dumps, loads\n",
    "from requests import post\n",
    "from yaml import load as y_load, dump as y_dump, FullLoader\n",
    "from IPython.display import display, Markdown, HTML\n"
   ]
  },
  {
   "cell_type": "code",
   "execution_count": null,
   "metadata": {},
   "outputs": [],
   "source": [
    "\n",
    "fhir_test_server = 'http://test.fhir.org/r4'\n",
    "fhir_test_server = 'http://hapi.fhir.org/baseR4'\n",
    "fhir_test_server = 'http://wildfhir4.aegis.net/fhir4-0-1' \n",
    "\n",
    "headers = {\n",
    "    'Accept':'application/fhir+json',\n",
    "    'Content-Type':'application/fhir+json'\n",
    "     }\n",
    "params = {}\n",
    "\n",
    "includes_path = Path(r'/Users/ehaas/Documents/FHIR/davinci-ecdx/input/includes')\n",
    "includes_yaml_path = Path(r'/Users/ehaas/Documents/FHIR/davinci-ecdx/input/includes-yaml')\n",
    "examples_yaml_path = Path(r'/Users/ehaas/Documents/FHIR/davinci-ecdx/input/examples-yaml')\n",
    "# examples_yaml_out = Path() / 'out' / 'examples-yaml'\n",
    "# includes_yaml_out = Path() / 'out' / 'includes-yaml'\n",
    "includes_out = Path() / 'out' / 'includes'\n",
    "pagecontent_out = Path() / 'out' / 'pagecontent'"
   ]
  },
  {
   "cell_type": "code",
   "execution_count": null,
   "metadata": {},
   "outputs": [],
   "source": [
    "infile = examples_yaml_path / 'cdex-task-example8.yml' #task\n",
    "data = y_load(infile.read_text(),Loader=FullLoader) #dict\n",
    "#get DR from task\n",
    "dr = data['contained'][0]['entry'][0]['resource']\n",
    "# dr['id']\n",
    "dr.pop('id')\n",
    "dr"
   ]
  },
  {
   "cell_type": "code",
   "execution_count": 58,
   "metadata": {},
   "outputs": [
    {
     "data": {
      "text/plain": [
       "[{'name': 'LineItem', 'valueString': '1'},\n",
       " {'name': 'LineItem', 'valueString': '2'},\n",
       " {'name': 'LineItem', 'valueString': '3'},\n",
       " {'name': 'Code',\n",
       "  'valueCodeableConcept': {'coding': [{'system': 'http://loinc.org',\n",
       "     'code': '11504-8',\n",
       "     'display': 'Surgical operation note'}],\n",
       "   'text': 'Surgical operation note'}}]"
      ]
     },
     "execution_count": 58,
     "metadata": {},
     "output_type": "execute_result"
    }
   ],
   "source": [
    "infile = examples_yaml_path / 'cdex-parameters-example1.yml' #param\n",
    "\n",
    "param = y_load(infile.read_text(),Loader=FullLoader) #dict\n",
    "param['parameter'][7]['part'].pop(4)\n",
    "param['parameter'][7]['part']"
   ]
  },
  {
   "cell_type": "code",
   "execution_count": 59,
   "metadata": {},
   "outputs": [
    {
     "data": {
      "text/plain": [
       "18261"
      ]
     },
     "execution_count": 59,
     "metadata": {},
     "output_type": "execute_result"
    }
   ],
   "source": [
    "\n",
    "param['parameter'][7]['part'].append({\"name\":\"Content\",\"resource\": dr})\n",
    "param['parameter'][7]['part']\n",
    "# param\n",
    "infile.write_text(y_dump(param, indent=2, sort_keys=False))\n"
   ]
  },
  {
   "cell_type": "code",
   "execution_count": 63,
   "metadata": {},
   "outputs": [
    {
     "data": {
      "text/plain": [
       "17756"
      ]
     },
     "execution_count": 63,
     "metadata": {},
     "output_type": "execute_result"
    }
   ],
   "source": [
    "outfile = includes_yaml_path/infile.name\n",
    "try:\n",
    "    param.pop('id')\n",
    "except  KeyError:\n",
    "    pass\n",
    "try:\n",
    "    param.pop('meta')\n",
    "except  KeyError:\n",
    "    pass\n",
    "outfile.write_text(y_dump(param, indent=2, sort_keys=False))\n"
   ]
  },
  {
   "cell_type": "markdown",
   "metadata": {},
   "source": [
    "### Write and Validate Functions"
   ]
  },
  {
   "cell_type": "code",
   "execution_count": null,
   "metadata": {},
   "outputs": [],
   "source": [
    "\n",
    "def validate(r): #as dict\n",
    "    r = post(f'{fhir_test_server}/{r[\"resourceType\"]}/$validate', params = params, headers = headers, data = dumps(r))\n",
    "    display(Markdown(f'{r.status_code} {r.reason} \\n{r.json()[\"text\"][\"div\"]}'))\n",
    "    return r.status_code\n",
    "\n",
    "def write(data,f): #as dict \n",
    "    display(Markdown(f'### Writing to {f}....')) \n",
    "    #out= Path()/ \"test_files\" / \"test.yml\"\n",
    "    out = Path(f)\n",
    "    out.write_text(y_dump(data, sort_keys=False)) #as yaml\n",
    "\n",
    "def write_includes(data,f): # write to include-yaml too  pop off title, description, id\n",
    "    data.pop('id')\n",
    "    data['meta'].pop('extension')\n",
    "    display(Markdown(f'### Writing to {includes_yaml_path / f}....'))\n",
    "    #out= Path()/ \"test_files\" / \"test.yml\"\n",
    "    out = Path(includes_yaml_path / f)\n",
    "    out.write_text(y_dump(data, sort_keys=False)) #as yaml   "
   ]
  },
  {
   "cell_type": "markdown",
   "metadata": {},
   "source": [
    "### Read Examples CSV file\n",
    "\n",
    "- read master csv file for instructions and update to file names and changes to resources etc."
   ]
  },
  {
   "cell_type": "code",
   "execution_count": null,
   "metadata": {},
   "outputs": [],
   "source": [
    "my_file = 'cdex-task-examples.csv'\n",
    "#my_file = 'cdex-parameters-examples.csv'\n",
    "\n",
    "my_df = pd.read_csv(examples_yaml_path / my_file)\n",
    "my_df.head(1)"
   ]
  },
  {
   "cell_type": "markdown",
   "metadata": {},
   "source": [
    "### change file names for examples and includes\n",
    "\n",
    "- get file - old name, new name\n",
    "  - create map\n",
    "- update example id, Title\n",
    "- save as new example-yaml in temp folder\n",
    "- strip id and meta and save as new includes-yaml files in temp folder\n",
    "- update includes file referencing them\n",
    "- rename includes file\n",
    "  - create map\n",
    "- write includes file"
   ]
  },
  {
   "cell_type": "markdown",
   "metadata": {},
   "source": [
    "### create includes file mapping"
   ]
  },
  {
   "cell_type": "code",
   "execution_count": null,
   "metadata": {},
   "outputs": [],
   "source": [
    "includes_file_map = {}\n",
    "for index,row in my_df.iterrows():\n",
    "   old_scenario_file = row.scenario_file\n",
    "   new_scenario_file = row.scenario_no\n",
    "\n",
    "   if \"|\" in old_scenario_file:\n",
    "      # print(old_scenario_file, new_scenario_file)\n",
    "      for j,k in enumerate(old_scenario_file.split('|')):\n",
    "         # print(j, k)\n",
    "         includes_file_map[k]=f'task-scenario-{new_scenario_file.split(\"|\")[j]}'\n",
    "   else:\n",
    "      includes_file_map[old_scenario_file]=f'task-scenario-{new_scenario_file}'\n",
    "for k in includes_file_map:\n",
    "   print(k, includes_file_map[k])"
   ]
  },
  {
   "cell_type": "code",
   "execution_count": null,
   "metadata": {},
   "outputs": [],
   "source": [
    "file_name_map = {}\n",
    "for index,row in my_df.iterrows():\n",
    "   old_name = row.file_name\n",
    "   # print(old_name)\n",
    "   new_name = row.new_file_name\n",
    "   file_name_map[old_name]=new_name\n",
    "   #print (file_name_map )\n",
    "   infile = examples_yaml_path /f'{row.file_name}.yml'\n",
    "   print(infile)\n",
    "   data = y_load(infile.read_text(),Loader=FullLoader) #dict\n",
    "   data['id'] = new_name\n",
    "   data['meta']['extension'][0]['valueString'] = row.title\n",
    "   oo = validate(data)\n",
    "   if 'error' in [i['severity'] for i in oo['issue']]:\n",
    "      display(Markdown(f'{oo[\"text\"][\"div\"]}'))\n",
    "   write(data,f'{examples_yaml_out}/{new_name}.yml')\n",
    "   data.pop('id')\n",
    "   data.pop('meta')\n",
    "   write(data,f'{includes_yaml_out}/{new_name}.yml')\n",
    "   # print(includes_path)\n",
    "\n",
    "print (file_name_map )\n"
   ]
  },
  {
   "cell_type": "code",
   "execution_count": null,
   "metadata": {},
   "outputs": [],
   "source": [
    "for i in includes_path.glob('*scenario*.md'):\n",
    "   # print (i.stem)\n",
    "   page = i.read_text()\n",
    "   # print(old_page.find(old_name))\n",
    "   for k,v in file_name_map.items():\n",
    "      # print(k,v)\n",
    "      if page.find(k) != -1:\n",
    "         # print(k,v)\n",
    "         # print(page.find(k) != -1)\n",
    "         page = page.replace(k,v)\n",
    "         # print(page)\n",
    "         # break\n",
    "   try:\n",
    "      new_scenario_file_name = includes_file_map[i.stem]\n",
    "   except KeyError as e:\n",
    "      pass\n",
    "   else:\n",
    "      write(page,f'{includes_out}/{new_scenario_file_name}.md')"
   ]
  },
  {
   "cell_type": "code",
   "execution_count": null,
   "metadata": {},
   "outputs": [],
   "source": [
    "page_path = Path(r'out/pagecontent/task-based-approach.md')\n",
    "print(includes_file_map)\n",
    "fin = open(page_path, \"rt\")\n",
    "#output file to write the result to\n",
    "fout = open(pagecontent_out / 'test.md', \"wt\")\n",
    "#for each line in the input file\n",
    "for line in fin:\n",
    "    for k,v in includes_file_map.items():\n",
    "    \n",
    "        #read replace the string and write to output file\n",
    "        line = line.replace(k, v)\n",
    "    fout.write(line)   \n",
    "#close input and output files\n",
    "fin.close()\n",
    "fout.close()\n"
   ]
  },
  {
   "cell_type": "markdown",
   "metadata": {},
   "source": [
    "### update profile declaration in examples\n"
   ]
  },
  {
   "cell_type": "code",
   "execution_count": null,
   "metadata": {},
   "outputs": [],
   "source": [
    "for i in examples_yaml_path.glob('*.yml'):\n",
    "    data = y_load(i.read_text(),Loader=FullLoader) #dict\n",
    "    if data['resourceType']==\"Bundle\":\n",
    "        print(i)\n",
    "        file_name = i.name\n",
    "        try:\n",
    "            profile = data['meta']['profile']\n",
    "        except KeyError as e:\n",
    "            profile = \"no profile declared\"\n",
    "        print(f'file_name = {file_name}, profile = {profile}')\n",
    "        new_profile = 'http://hl7.org/fhir/us/davinci-cdex/StructureDefinition/cdex-signature-bundle'\n",
    "        data['meta']['profile'] = [new_profile]\n",
    "\n",
    "        print(y_dump(data, indent=2, sort_keys=False)[0:1000])\n",
    "        v = validate(data)\n",
    "        # break\n",
    "        if v == 200:\n",
    "            write(data,i)\n",
    "            # break\n",
    "            # write to include-yaml too\n",
    "            write_includes(data,i.name)"
   ]
  },
  {
   "cell_type": "markdown",
   "metadata": {},
   "source": [
    "### update elements:\n",
    "- Title\n",
    "- Description\n",
    "- POU\n",
    "- WQ"
   ]
  },
  {
   "cell_type": "code",
   "execution_count": null,
   "metadata": {},
   "outputs": [],
   "source": [
    "for index,row in my_df.iterrows():\n",
    "    my_file = examples_yaml_path / f'{row.new_file_name}.yml'\n",
    "    data = y_load(my_file.read_text(),Loader=FullLoader) #dict\n",
    "    # print('resourceType')#==\"Task\":\n",
    "    # old_title = data['meta']['extension'][0]['valueString']\n",
    "    # print(f'old title = {old_title}')\n",
    "    # new_title = row.new_title\n",
    "    # print(f'new title = {new_title}')\n",
    "    # data['meta']['extension'][0]['valueString'] = new_title\n",
    "    # desc = data['meta']['extension'][1]['valueMarkdown'].split(':')\n",
    "    # data['meta']['extension'][1]['valueMarkdown'] = f'**{desc[0]}:** {desc[1]}'\n",
    "    try:\n",
    "        data['meta']['tag'][0]['code'] = row.work_queue\n",
    "    except:\n",
    "        pass\n",
    "    for input in data['input']:\n",
    "        input_type = input['type']['coding'][0]['code']\n",
    "        if input_type == 'purpose-of-use':\n",
    "            input['valueCodeableConcept']['coding'][0]['code'] = row.POU\n",
    "            input['valueCodeableConcept']['coding'][0]['system'] = 'http://terminology.hl7.org/CodeSystem/v3-ActReason'\n",
    "    # break\n",
    "    write(data,my_file)\n",
    "# data"
   ]
  },
  {
   "cell_type": "code",
   "execution_count": null,
   "metadata": {},
   "outputs": [],
   "source": [
    "my_df = pd.DataFrame(columns = list(my_df.columns))\n",
    "\n",
    "my_df"
   ]
  },
  {
   "cell_type": "code",
   "execution_count": null,
   "metadata": {},
   "outputs": [],
   "source": [
    "\n",
    "# new_pou  = '''\n",
    "# type:\n",
    "#     coding:\n",
    "#     - system: http://hl7.org/fhir/us/davinci-cdex/CodeSystem/cdex-temp\n",
    "#       code: purpose-of-use\n",
    "# valueCodeableConcept:\n",
    "#     coding:\n",
    "#     - system: http://terminology.hl7.org/CodeSystem/v3-ActReason\n",
    "#       code: COVERAGE\n",
    "# '''\n",
    "\n",
    "new_pou  = '''\n",
    "system: 'http://hl7.org/fhir/us/davinci-cdex/CodeSystem/cdex-temp'\n",
    "code: operations-nos\n",
    "'''\n",
    "\n",
    "# print(new_pou)\n",
    "\n",
    "# y_load(new_pou)\n",
    "\n",
    "# new_tag  = '''\n",
    "# system: 'http://hl7.org/fhir/us/davinci-cdex/CodeSystem/cdex-temp'\n",
    "# code: claims-processing\n",
    "# '''\n",
    "new_tag  = '''\n",
    "system: 'http://hl7.org/fhir/us/davinci-cdex/CodeSystem/cdex-temp'\n",
    "code: authorization-other\n",
    "'''\n",
    "\n",
    "new_reasonref= '''\n",
    "#  reference: http://example.org/fhir/Claim/cdex-example-claim\n",
    "identifier: # ms 0..1 in data profile\n",
    "    type:  # could add FILL=Payer or PLAC=Provider types\n",
    "        coding:\n",
    "            -  system: \"http://terminology.hl7.org/CodeSystem/v2-0203\"\n",
    "               code: FILL \n",
    "               display: Filler Identifier\n",
    "        text: Payer Claim ID \n",
    "    system: \"http://example.org/cdex/payer/claim-ids\"\n",
    "    value: Claim123\n",
    "'''\n",
    "new_patientref= '''\n",
    "#  reference: http://example.org/fhir/Patient/cdex-example-patient\n",
    "identifier:\n",
    "        type:\n",
    "          coding:\n",
    "            - system: \"http://hl7.org/fhir/us/davinci-hrex/CodeSystem/hrex-temp\" # vs http://hl7.org/fhir/us/carin-bb/CodeSystem/C4BBIdentifierType - um\n",
    "              code: UMB\n",
    "              display: Member Number\n",
    "          text: Member Number\n",
    "        system: \"http://example.org/cdex/payer/member-ids\"\n",
    "        value: Member123\n",
    "'''\n",
    "\n",
    "new_payerref= '''\n",
    "identifier:\n",
    "    system: http://example.org/cdex/payer/payer-ids\n",
    "    value: \"Payer123\"\n",
    "'''\n",
    "new_providerref= '''\n",
    "identifier:\n",
    "    system: http://hl7.org/fhir/sid/us-npi #NPI\n",
    "    value: \"9941339108\"\n",
    "'''\n",
    "\n",
    "new_description = 'foo'\n",
    "\n",
    "def convert(r):\n",
    "    r = post(f'{fhir_test_server}/$convert', params = params, headers = headers, data = r)\n",
    "    print(r.status_code)\n",
    "    # view  output\n",
    "    # return (r.json()[\"text\"][\"div\"])\n",
    "    return r.json()\n",
    "\n"
   ]
  },
  {
   "cell_type": "code",
   "execution_count": null,
   "metadata": {},
   "outputs": [],
   "source": [
    "\n",
    "\n",
    "def entitle(name):\n",
    "    x = name.split('-')\n",
    "    return(' '.join(i.title() for i in x if i != \"example\"))\n",
    "\n",
    "def enname(name):\n",
    "    x = name.split('-')\n",
    "    return(' '.join(i for i in x if i != \"example\"))\n",
    "\n",
    "def p_name(f):\n",
    "    #p = loads(f.open().read())\n",
    "    p=f\n",
    "    try:\n",
    "        profile_url = (p['meta']['profile'][0])\n",
    "        return profile_url.split('/')[-1]\n",
    "    except KeyError:\n",
    "        return p['resourceType']\n",
    "\n",
    "#files = [x for x in Path(in_path).iterdir() if x.is_file() and x.name.endswith('yml')]\n",
    "#files = [x for x in Path(in_path).iterdir() if x.is_file() and x.name.endswith('xml')] # Get xml and convert and rename to json\n",
    "\n",
    "for i in examples_yaml_path.glob('*.yml'):\n",
    "    data = y_load(i.read_text(),Loader=FullLoader) #dict\n",
    "    if data['resourceType']==\"Task\":\n",
    "\n",
    "        file_name = i.name\n",
    "        print(f'file_name = {file_name}')\n",
    "        data.pop('id')\n",
    "        data['meta'].pop('extension')\n",
    "        data['meta'].pop('profile')\n",
    "        # break\n",
    "        write(data,includes_yaml_path / i.name)\n",
    "# print(y_dump(data, indent=2, sort_keys=False))\n"
   ]
  },
  {
   "cell_type": "code",
   "execution_count": null,
   "metadata": {},
   "outputs": [],
   "source": [
    "        \n",
    "        example_id = data['id']\n",
    "        print(f'example_id= {example_id}') \n",
    "        is_same =  i.stem == data['id']\n",
    "        print(f'is_same = {is_same}')\n",
    "        title = data['meta']['extension'][0]['valueString']\n",
    "        print(f'title = {title}') \n",
    "        # desc = data['meta']['extension'][1]['valueMarkdown']\n",
    "        # print(f'desc = {desc}')\n",
    "\n",
    "\n",
    "        try:\n",
    "            wq =  data['meta']['tag'][0]['code']\n",
    "        except KeyError as e:\n",
    "            wq = None\n",
    "        else:\n",
    "            print(f'wq={wq}')\n",
    "        \n",
    "        try:\n",
    "            'identifier' in data['reasonReference']\n",
    "        except KeyError as e:\n",
    "            is_identifier = False\n",
    "        else:\n",
    "            is_identifier = True\n",
    "        print (f'identifier = {is_identifier}')\n",
    "        is_query = False\n",
    "        pou = None\n",
    "        loinc = None\n",
    "        for input in data['input']:\n",
    "            input_type = input['type']['coding'][0]['code']\n",
    "            if input_type == 'purpose-of-use':\n",
    "                pou =input['valueCodeableConcept']['coding'][0]['code']\n",
    "            elif input_type == 'data-code':\n",
    "                try:\n",
    "                   loinc =input['valueCodeableConcept']['coding'][0]['code']\n",
    "                except KeyError as e:\n",
    "                   loinc = 'text only!'\n",
    "            elif input_type == 'data-query':\n",
    "                is_query = True\n",
    "        print(f'pou ={pou}')\n",
    "        print(f'loinc = {loinc}')\n",
    "        print(f'is_query={is_query}')\n",
    "        \n",
    "        my_df.loc[len(my_df.index)] = [file_name, example_id,is_same, title, desc, example_id ,None ,pou , wq,is_identifier, loinc, is_query, None] \n",
    "\n",
    "my_df\n"
   ]
  },
  {
   "cell_type": "markdown",
   "metadata": {},
   "source": [
    "### save df as csv"
   ]
  },
  {
   "cell_type": "code",
   "execution_count": null,
   "metadata": {},
   "outputs": [],
   "source": [
    "my_df.to_csv(examples_table, index=False)"
   ]
  },
  {
   "cell_type": "code",
   "execution_count": null,
   "metadata": {},
   "outputs": [],
   "source": [
    "\n",
    "    try:\n",
    "        wq =  data['meta']['tag'][0]['code']\n",
    "    except KeyError as e:\n",
    "        pass\n",
    "    else:\n",
    "        print(f'wq={wq}')\n",
    "\n",
    "    try:\n",
    "      'identifier' in data['reasonReference']\n",
    "    except KeyError as e:\n",
    "        print = False\n",
    "    \n",
    "    for input in data['input']:\n",
    "        input_type = input['type']['coding'][0]['code']\n",
    "        if input_type == 'POU':\n",
    "            pou =input['valueCodeableConcept']['coding'][0]['code']\n",
    "            print(f'pou ={pou}')\n",
    "        elif input_type == 'data-code':\n",
    "            try:\n",
    "              loinc =input['valueCodeableConcept']['coding'][0]['code']\n",
    "              print(loinc)\n",
    "            except KeyError as e:\n",
    "                print(f'loinc = text only!')\n",
    "\n",
    "        elif input_type == 'data-query':\n",
    "            is_query = True\n",
    "            print(f'is_query={is_query}')\n",
    "\n",
    "\n",
    "    \n",
    "\n",
    "\n"
   ]
  },
  {
   "cell_type": "markdown",
   "metadata": {},
   "source": [
    "### fill table with existing values"
   ]
  },
  {
   "cell_type": "code",
   "execution_count": null,
   "metadata": {},
   "outputs": [],
   "source": [
    "for i in example_path.glob('*.yml'):\n",
    "\n",
    "    data = y_load(i.read_text(),Loader=FullLoader) #dict\n",
    "\n",
    "\n",
    "    my_df.example_id = i.parent\n",
    "\n",
    "my_df"
   ]
  },
  {
   "cell_type": "code",
   "execution_count": null,
   "metadata": {},
   "outputs": [],
   "source": [
    "\n",
    "    if data['resourceType'] == 'Task':\n",
    "        #print(f\"old tag = { data['meta']['tag'][0]}\")\n",
    "        data['meta']['tag'][0]=y_load(new_tag,Loader=FullLoader)  # update work queue\n",
    "        #print(f\"new tag = { data['meta']['tag'][0]}\")\n",
    "        # update pou\n",
    "        #print(f\"old pou = { data['input'][1]['valueCodeableConcept']['coding'][0]}\")\n",
    "        data['input'][1]['valueCodeableConcept']['coding'][0]=y_load(new_pou,Loader=FullLoader)\n",
    "        #print(f\"new pou= { data['input'][1]['valueCodeableConcept']['coding'][0]}\")\n",
    "        # update reasonref\n",
    "        #print(f\"old reasonref = { data['reasonReference']}\")\n",
    "        data['reasonReference']=y_load(new_reasonref,Loader=FullLoader)\n",
    "        #print(f\"new reasonref= { data['reasonReference']}\")\n",
    "        # update reasonref\n",
    "        #print(f\"old patientref= { data['for']}\")\n",
    "        data['for']=y_load(new_patientref,Loader=FullLoader)\n",
    "        #print(f\"new patientref= { data['for']}\")\n",
    "        # update payerref\n",
    "        #print(f\"old payerref= { data['requester']}\")\n",
    "        data['requester']=y_load(new_payerref,Loader=FullLoader)\n",
    "        #print(f\"new payerref= { data['requester']}\")\n",
    "        # update providerref\n",
    "        #print(f\"old providerref= { data['owner']}\")\n",
    "        data['owner']=y_load(new_providerref,Loader=FullLoader)\n",
    "        #print(f\"new providerref= { data['owner']}\")\n",
    "        #print(y_dump(data, sort_keys=False))\n",
    "        # validate(data)\n",
    "        # data['meta']['extension'][1]['valueMarkdown'] += ' This example illustrates the use of business identifiers (instead of pointing to a FHIR resource) to references the various actors.' \n",
    "        # print(y_dump(data, sort_keys=False)) \n",
    "        # break\n",
    "        write(data,i)"
   ]
  }
 ],
 "metadata": {
  "kernelspec": {
   "display_name": "Python 3.10.2 64-bit ('jupyter')",
   "language": "python",
   "name": "python3"
  },
  "language_info": {
   "codemirror_mode": {
    "name": "ipython",
    "version": 3
   },
   "file_extension": ".py",
   "mimetype": "text/x-python",
   "name": "python",
   "nbconvert_exporter": "python",
   "pygments_lexer": "ipython3",
   "version": "3.10.2"
  },
  "vscode": {
   "interpreter": {
    "hash": "18672f2fb81dcbb023a0ac48a86c775a19488782369d96ffbd3382a22fd285cf"
   }
  }
 },
 "nbformat": 4,
 "nbformat_minor": 4
}
