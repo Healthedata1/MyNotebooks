{
 "cells": [
  {
   "attachments": {},
   "cell_type": "markdown",
   "metadata": {},
   "source": [
    "# Find all valuesets in differential of StructureDefinitions\n",
    "\n",
    "- for hard coded path search all SD for binding and list the valuesets\n",
    "- list em in a md table format in std out"
   ]
  },
  {
   "cell_type": "code",
   "execution_count": 1,
   "metadata": {},
   "outputs": [
    {
     "data": {
      "text/plain": [
       "(PosixPath('/Users/ehaas/Documents/FHIR/US-Core/output'),\n",
       " PosixPath('/Users/ehaas/.fhir/packages/hl7.fhir.us.core#dev'),\n",
       " PosixPath('/Users/ehaas/.fhir/packages/hl7.fhir.r4.core#4.0.1'))"
      ]
     },
     "execution_count": 1,
     "metadata": {},
     "output_type": "execute_result"
    }
   ],
   "source": [
    "from pathlib import Path\n",
    "from json import load, dumps, loads\n",
    "from yaml import load as y_load, dump as y_dump, FullLoader\n",
    "from fhir.resources import construct_fhir_element\n",
    "from requests import get\n",
    "\n",
    "headers = {'Accept': 'application/json+fhir',}\n",
    "auth = ('apikey','5a96c64e-2156-43c0-a9b3-1c2c8d914bb5')\n",
    "my_path = Path(r'/Users/ehaas/Documents/FHIR/US-Core/output')\n",
    "data_path = Path(r'/Users/ehaas/Documents/FHIR/US-Core/input/data')\n",
    "uscore_package_path = Path(r'/Users/ehaas/.fhir/packages/hl7.fhir.us.core#dev')\n",
    "fhir_package_path = Path(r'/Users/ehaas/.fhir/packages/hl7.fhir.r4.core#4.0.1')\n",
    "my_path, uscore_package_path, fhir_package_path"
   ]
  },
  {
   "cell_type": "code",
   "execution_count": 2,
   "metadata": {},
   "outputs": [
    {
     "data": {
      "text/plain": [
       "{'http://cts.nlm.nih.gov/fhir/ValueSet/2.16.840.1.113762.1.4.1010.4',\n",
       " 'http://cts.nlm.nih.gov/fhir/ValueSet/2.16.840.1.113762.1.4.1010.6',\n",
       " 'http://cts.nlm.nih.gov/fhir/ValueSet/2.16.840.1.113762.1.4.1021.32',\n",
       " 'http://cts.nlm.nih.gov/fhir/ValueSet/2.16.840.1.113762.1.4.1099.30',\n",
       " 'http://cts.nlm.nih.gov/fhir/ValueSet/2.16.840.1.113762.1.4.1099.54',\n",
       " 'http://cts.nlm.nih.gov/fhir/ValueSet/2.16.840.1.113762.1.4.1186.8',\n",
       " 'http://cts.nlm.nih.gov/fhir/ValueSet/2.16.840.1.113883.11.20.9.38',\n",
       " 'http://cts.nlm.nih.gov/fhir/ValueSet/2.16.840.1.114222.4.11.1066',\n",
       " 'http://cts.nlm.nih.gov/fhir/ValueSet/2.16.840.1.114222.4.11.3591',\n",
       " 'http://hl7.org/fhir/ValueSet/address-use|4.0.1',\n",
       " 'http://hl7.org/fhir/ValueSet/administrative-gender',\n",
       " 'http://hl7.org/fhir/ValueSet/allergyintolerance-clinical',\n",
       " 'http://hl7.org/fhir/ValueSet/allergyintolerance-verification',\n",
       " 'http://hl7.org/fhir/ValueSet/care-plan-category',\n",
       " 'http://hl7.org/fhir/ValueSet/care-plan-intent',\n",
       " 'http://hl7.org/fhir/ValueSet/care-team-status',\n",
       " 'http://hl7.org/fhir/ValueSet/clinical-findings',\n",
       " 'http://hl7.org/fhir/ValueSet/condition-category',\n",
       " 'http://hl7.org/fhir/ValueSet/condition-clinical',\n",
       " 'http://hl7.org/fhir/ValueSet/condition-ver-status',\n",
       " 'http://hl7.org/fhir/ValueSet/contact-point-system',\n",
       " 'http://hl7.org/fhir/ValueSet/contact-point-system|4.0.1',\n",
       " 'http://hl7.org/fhir/ValueSet/contact-point-use',\n",
       " 'http://hl7.org/fhir/ValueSet/coverage-class',\n",
       " 'http://hl7.org/fhir/ValueSet/data-absent-reason',\n",
       " 'http://hl7.org/fhir/ValueSet/device-kind',\n",
       " 'http://hl7.org/fhir/ValueSet/diagnostic-report-status',\n",
       " 'http://hl7.org/fhir/ValueSet/diagnostic-service-sections',\n",
       " 'http://hl7.org/fhir/ValueSet/document-classcodes',\n",
       " 'http://hl7.org/fhir/ValueSet/document-reference-status',\n",
       " 'http://hl7.org/fhir/ValueSet/encounter-participant-type',\n",
       " 'http://hl7.org/fhir/ValueSet/encounter-reason',\n",
       " 'http://hl7.org/fhir/ValueSet/encounter-status|4.0.1',\n",
       " 'http://hl7.org/fhir/ValueSet/event-status',\n",
       " 'http://hl7.org/fhir/ValueSet/fm-status|4.0.1',\n",
       " 'http://hl7.org/fhir/ValueSet/formatcodes',\n",
       " 'http://hl7.org/fhir/ValueSet/goal-start-event',\n",
       " 'http://hl7.org/fhir/ValueSet/goal-status',\n",
       " 'http://hl7.org/fhir/ValueSet/identifier-type',\n",
       " 'http://hl7.org/fhir/ValueSet/immunization-status',\n",
       " 'http://hl7.org/fhir/ValueSet/immunization-status-reason',\n",
       " 'http://hl7.org/fhir/ValueSet/location-status|4.0.1',\n",
       " 'http://hl7.org/fhir/ValueSet/medicationdispense-status|4.0.1',\n",
       " 'http://hl7.org/fhir/ValueSet/medicationrequest-category',\n",
       " 'http://hl7.org/fhir/ValueSet/medicationrequest-intent',\n",
       " 'http://hl7.org/fhir/ValueSet/medicationrequest-status',\n",
       " 'http://hl7.org/fhir/ValueSet/mimetypes|4.0.1',\n",
       " 'http://hl7.org/fhir/ValueSet/name-use|4.0.1',\n",
       " 'http://hl7.org/fhir/ValueSet/observation-category',\n",
       " 'http://hl7.org/fhir/ValueSet/observation-codes',\n",
       " 'http://hl7.org/fhir/ValueSet/observation-status',\n",
       " 'http://hl7.org/fhir/ValueSet/observation-status|4.0.1',\n",
       " 'http://hl7.org/fhir/ValueSet/provenance-agent-type',\n",
       " 'http://hl7.org/fhir/ValueSet/questionnaire-answers',\n",
       " 'http://hl7.org/fhir/ValueSet/questionnaire-answers-status|4.0.1',\n",
       " 'http://hl7.org/fhir/ValueSet/relatedperson-relationshiptype',\n",
       " 'http://hl7.org/fhir/ValueSet/request-intent|4.0.1',\n",
       " 'http://hl7.org/fhir/ValueSet/request-status',\n",
       " 'http://hl7.org/fhir/ValueSet/request-status|4.0.1',\n",
       " 'http://hl7.org/fhir/ValueSet/servicerequest-category',\n",
       " 'http://hl7.org/fhir/ValueSet/subscriber-relationship',\n",
       " 'http://hl7.org/fhir/ValueSet/ucum-common',\n",
       " 'http://hl7.org/fhir/ValueSet/ucum-vitals-common|4.0.1',\n",
       " 'http://hl7.org/fhir/us/core/ValueSet/birthsex',\n",
       " 'http://hl7.org/fhir/us/core/ValueSet/detailed-ethnicity',\n",
       " 'http://hl7.org/fhir/us/core/ValueSet/detailed-race',\n",
       " 'http://hl7.org/fhir/us/core/ValueSet/omb-ethnicity-category',\n",
       " 'http://hl7.org/fhir/us/core/ValueSet/omb-race-category',\n",
       " 'http://hl7.org/fhir/us/core/ValueSet/simple-language',\n",
       " 'http://hl7.org/fhir/us/core/ValueSet/us-core-condition-code',\n",
       " 'http://hl7.org/fhir/us/core/ValueSet/us-core-diagnosticreport-category',\n",
       " 'http://hl7.org/fhir/us/core/ValueSet/us-core-diagnosticreport-report-and-note-codes',\n",
       " 'http://hl7.org/fhir/us/core/ValueSet/us-core-discharge-disposition',\n",
       " 'http://hl7.org/fhir/us/core/ValueSet/us-core-documentreference-category',\n",
       " 'http://hl7.org/fhir/us/core/ValueSet/us-core-documentreference-type',\n",
       " 'http://hl7.org/fhir/us/core/ValueSet/us-core-encounter-type',\n",
       " 'http://hl7.org/fhir/us/core/ValueSet/us-core-goal-description',\n",
       " 'http://hl7.org/fhir/us/core/ValueSet/us-core-laboratory-test-codes',\n",
       " 'http://hl7.org/fhir/us/core/ValueSet/us-core-narrative-status',\n",
       " 'http://hl7.org/fhir/us/core/ValueSet/us-core-observation-smoking-status-status',\n",
       " 'http://hl7.org/fhir/us/core/ValueSet/us-core-problem-or-health-concern',\n",
       " 'http://hl7.org/fhir/us/core/ValueSet/us-core-procedure-code',\n",
       " 'http://hl7.org/fhir/us/core/ValueSet/us-core-provenance-participant-type',\n",
       " 'http://hl7.org/fhir/us/core/ValueSet/us-core-screening-assessment-condition-category',\n",
       " 'http://hl7.org/fhir/us/core/ValueSet/us-core-screening-assessment-observation-category',\n",
       " 'http://hl7.org/fhir/us/core/ValueSet/us-core-servicerequest-category',\n",
       " 'http://hl7.org/fhir/us/core/ValueSet/us-core-simple-observation-category',\n",
       " 'http://hl7.org/fhir/us/core/ValueSet/us-core-smoking-status-observation-codes',\n",
       " 'http://hl7.org/fhir/us/core/ValueSet/us-core-survey-codes',\n",
       " 'http://hl7.org/fhir/us/core/ValueSet/us-core-usps-state',\n",
       " 'http://hl7.org/fhir/us/core/ValueSet/us-core-vital-signs',\n",
       " 'http://terminology.hl7.org/ValueSet/v3-ActEncounterCode',\n",
       " 'http://terminology.hl7.org/ValueSet/v3-ActPharmacySupplyType',\n",
       " 'http://terminology.hl7.org/ValueSet/v3-TribalEntityUS'}"
      ]
     },
     "execution_count": 2,
     "metadata": {},
     "output_type": "execute_result"
    }
   ],
   "source": [
    "my_valuesets = set()\n",
    "for i in my_path.glob('Struct*.json'):\n",
    "    # print(i)\n",
    "    obj = load(i.open())\n",
    "    # print(obj['id'])\n",
    "    #find reference type elements in diff\n",
    "    for diff in obj['differential']['element']:\n",
    "        # print(f\"diff['id']= {diff['id']}\")\n",
    "        for snapshot in obj['snapshot']['element']:\n",
    "            if snapshot['id'] == diff['id']:\n",
    "                try:\n",
    "                    # print(f'snapshot[\"binding\"][\"valueSet\"] = {snapshot[\"binding\"][\"valueSet\"]}')\n",
    "                    my_valuesets.add(snapshot[\"binding\"][\"valueSet\"])\n",
    "\n",
    "                except KeyError:\n",
    "                    # print(f\"key error\")\n",
    "                    pass\n",
    "\n",
    "my_valuesets\n"
   ]
  },
  {
   "attachments": {},
   "cell_type": "markdown",
   "metadata": {},
   "source": [
    "### get codesystems by looking up valuesets  package or VSAC\n"
   ]
  },
  {
   "cell_type": "code",
   "execution_count": 3,
   "metadata": {},
   "outputs": [
    {
     "data": {
      "text/plain": [
       "{'http://hl7.org/fhir/CodeSystem/medicationrequest-intent',\n",
       " 'http://hl7.org/fhir/CodeSystem/medicationrequest-status',\n",
       " 'http://hl7.org/fhir/address-use',\n",
       " 'http://hl7.org/fhir/administrative-gender',\n",
       " 'http://hl7.org/fhir/care-team-status',\n",
       " 'http://hl7.org/fhir/contact-point-system',\n",
       " 'http://hl7.org/fhir/contact-point-use',\n",
       " 'http://hl7.org/fhir/diagnostic-report-status',\n",
       " 'http://hl7.org/fhir/document-reference-status',\n",
       " 'http://hl7.org/fhir/encounter-status',\n",
       " 'http://hl7.org/fhir/event-status',\n",
       " 'http://hl7.org/fhir/fm-status',\n",
       " 'http://hl7.org/fhir/goal-status',\n",
       " 'http://hl7.org/fhir/location-status',\n",
       " 'http://hl7.org/fhir/name-use',\n",
       " 'http://hl7.org/fhir/narrative-status',\n",
       " 'http://hl7.org/fhir/observation-status',\n",
       " 'http://hl7.org/fhir/questionnaire-answers-status',\n",
       " 'http://hl7.org/fhir/request-intent',\n",
       " 'http://hl7.org/fhir/request-status',\n",
       " 'http://hl7.org/fhir/sid/cvx',\n",
       " 'http://hl7.org/fhir/sid/icd-10-cm',\n",
       " 'http://hl7.org/fhir/sid/icd-9-cm',\n",
       " 'http://hl7.org/fhir/us/core/CodeSystem/condition-category',\n",
       " 'http://hl7.org/fhir/us/core/CodeSystem/us-core-category',\n",
       " 'http://hl7.org/fhir/us/core/CodeSystem/us-core-documentreference-category',\n",
       " 'http://hl7.org/fhir/us/core/CodeSystem/us-core-provenance-participant-type',\n",
       " 'http://ihe.net/fhir/ValueSet/IHE.FormatCode.codesystem',\n",
       " 'http://loinc.org',\n",
       " 'http://nucc.org/provider-taxonomy',\n",
       " 'http://snomed.info/sct',\n",
       " 'http://terminology.hl7.org/CodeSystem/allergyintolerance-clinical',\n",
       " 'http://terminology.hl7.org/CodeSystem/allergyintolerance-verification',\n",
       " 'http://terminology.hl7.org/CodeSystem/condition-category',\n",
       " 'http://terminology.hl7.org/CodeSystem/condition-clinical',\n",
       " 'http://terminology.hl7.org/CodeSystem/condition-ver-status',\n",
       " 'http://terminology.hl7.org/CodeSystem/coverage-class',\n",
       " 'http://terminology.hl7.org/CodeSystem/data-absent-reason',\n",
       " 'http://terminology.hl7.org/CodeSystem/medicationdispense-status',\n",
       " 'http://terminology.hl7.org/CodeSystem/medicationrequest-category',\n",
       " 'http://terminology.hl7.org/CodeSystem/observation-category',\n",
       " 'http://terminology.hl7.org/CodeSystem/participant-type',\n",
       " 'http://terminology.hl7.org/CodeSystem/provenance-participant-type',\n",
       " 'http://terminology.hl7.org/CodeSystem/subscriber-relationship',\n",
       " 'http://terminology.hl7.org/CodeSystem/v2-0074',\n",
       " 'http://terminology.hl7.org/CodeSystem/v2-0131',\n",
       " 'http://terminology.hl7.org/CodeSystem/v2-0203',\n",
       " 'http://terminology.hl7.org/CodeSystem/v3-ActCode',\n",
       " 'http://terminology.hl7.org/CodeSystem/v3-ActReason',\n",
       " 'http://terminology.hl7.org/CodeSystem/v3-AdministrativeGender',\n",
       " 'http://terminology.hl7.org/CodeSystem/v3-NullFlavor',\n",
       " 'http://terminology.hl7.org/CodeSystem/v3-ParticipationFunction',\n",
       " 'http://terminology.hl7.org/CodeSystem/v3-ParticipationType',\n",
       " 'http://terminology.hl7.org/CodeSystem/v3-RoleCode',\n",
       " 'http://terminology.hl7.org/CodeSystem/v3-TribalEntityUS',\n",
       " 'http://unitsofmeasure.org',\n",
       " 'http://www.ada.org/cdt',\n",
       " 'http://www.ama-assn.org/go/cpt',\n",
       " 'http://www.cms.gov/Medicare/Coding/ICD10',\n",
       " 'http://www.nlm.nih.gov/research/umls/rxnorm',\n",
       " 'http://www.nubc.org/patient-discharge',\n",
       " 'https://nahdo.org/sopt',\n",
       " 'https://www.cms.gov/Medicare/Coding/HCPCSReleaseCodeSets',\n",
       " 'https://www.usps.com/',\n",
       " 'urn:ietf:bcp:13',\n",
       " 'urn:ietf:bcp:47',\n",
       " 'urn:oid:2.16.840.1.113883.6.238'}"
      ]
     },
     "execution_count": 3,
     "metadata": {},
     "output_type": "execute_result"
    }
   ],
   "source": [
    "my_codesystems = set()\n",
    "\n",
    "def get_vs_obj(vs_url,vs_filename):\n",
    "    try:\n",
    "        vs_file = fhir_package_path / 'package' / vs_filename\n",
    "        vs_obj = loads(vs_file.read_text())\n",
    "    except:\n",
    "        try:\n",
    "            vs_file = uscore_package_path / 'package' / vs_filename\n",
    "            vs_obj = loads(vs_file.read_text())\n",
    "        except:\n",
    "            # print(\"-----------------\")\n",
    "            # print(vs)\n",
    "            vs_obj = get(vs_url, headers=headers, auth=auth).json()\n",
    "    return vs_obj\n",
    "\n",
    "def get_system(vs_obj):\n",
    "    for cs in vs_obj['compose']['include']:\n",
    "        try:\n",
    "            my_codesystems.add(cs['system'])\n",
    "        except KeyError:\n",
    "            # print(vs_obj['id'])\n",
    "            # print(\"==============\")\n",
    "            # print(cs['valueSet'])\n",
    "            for vs in cs['valueSet']:\n",
    "                vs_filename = f\"ValueSet-{vs.split('/')[-1].split('|')[0]}.json\"\n",
    "                # print(vs_filename)\n",
    "                new_vs_obj = get_vs_obj(vs,vs_filename)\n",
    "                # print(\"++++++++++++++++++++++\")\n",
    "                # print(new_vs_obj['id'], new_vs_obj['compose']['include'])\n",
    "                get_system(new_vs_obj)\n",
    "\n",
    "for i,vs in enumerate(my_valuesets):\n",
    "    # print(vs)\n",
    "    vs_filename = f\"ValueSet-{vs.split('/')[-1].split('|')[0]}.json\"\n",
    "    vs_obj = get_vs_obj(vs,vs_filename)\n",
    "    get_system(vs_obj)\n",
    "\n",
    "\n",
    "my_codesystems\n"
   ]
  },
  {
   "attachments": {},
   "cell_type": "markdown",
   "metadata": {},
   "source": [
    "### Write to file"
   ]
  },
  {
   "cell_type": "code",
   "execution_count": 4,
   "metadata": {},
   "outputs": [
    {
     "name": "stdout",
     "output_type": "stream",
     "text": [
      "writing file to /Users/ehaas/Documents/FHIR/US-Core/input/data/codesystems.yml\n"
     ]
    },
    {
     "data": {
      "text/plain": [
       "3145"
      ]
     },
     "execution_count": 4,
     "metadata": {},
     "output_type": "execute_result"
    }
   ],
   "source": [
    "out = data_path / 'codesystems.yml'\n",
    "print( f'writing file to {out}')\n",
    "out.write_text(y_dump(sorted(my_codesystems), default_flow_style=False, sort_keys=False))\n"
   ]
  }
 ],
 "metadata": {
  "kernelspec": {
   "display_name": "Python 3.10.2 64-bit ('jupyter')",
   "language": "python",
   "name": "python3"
  },
  "language_info": {
   "codemirror_mode": {
    "name": "ipython",
    "version": 3
   },
   "file_extension": ".py",
   "mimetype": "text/x-python",
   "name": "python",
   "nbconvert_exporter": "python",
   "pygments_lexer": "ipython3",
   "version": "3.10.2"
  },
  "orig_nbformat": 4,
  "vscode": {
   "interpreter": {
    "hash": "18672f2fb81dcbb023a0ac48a86c775a19488782369d96ffbd3382a22fd285cf"
   }
  }
 },
 "nbformat": 4,
 "nbformat_minor": 2
}
