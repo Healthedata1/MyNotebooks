{
 "cells": [
  {
   "attachments": {},
   "cell_type": "markdown",
   "metadata": {},
   "source": [
    "# Find all valuesets in differential of StructureDefinitions\n",
    "\n",
    "- for hard coded path search all SD for binding and list the valuesets\n",
    "- list em in a md table format in std out"
   ]
  },
  {
   "cell_type": "code",
   "execution_count": 1,
   "metadata": {},
   "outputs": [
    {
     "data": {
      "text/plain": [
       "PosixPath('/Users/ehaas/Documents/FHIR/US-Core/output')"
      ]
     },
     "execution_count": 1,
     "metadata": {},
     "output_type": "execute_result"
    }
   ],
   "source": [
    "from pathlib import Path\n",
    "from json import load, dumps\n",
    "from yaml import load as y_load, dump as y_dump, FullLoader\n",
    "from fhir.resources import construct_fhir_element\n",
    "my_path = Path('/Users/ehaas/Documents/FHIR/US-Core/output')\n",
    "my_path"
   ]
  },
  {
   "cell_type": "code",
   "execution_count": 5,
   "metadata": {},
   "outputs": [],
   "source": [
    "\n",
    "for i in my_path.glob('Struct*.json'):\n",
    "    # print(i)\n",
    "    obj = load(i.open())\n",
    "    # print(obj['id'])\n",
    "    #find reference type elements in diff\n",
    "    for diff in obj['differential']['element']:\n",
    "        try:\n",
    "          if diff['mustSupport'] == True:\n",
    "            # print(i)\n",
    "            # print(diff['path'])\n",
    "            #list the choices\n",
    "            for snapshot in obj['snapshot']['element']:\n",
    "                if diff['path'] == snapshot['path']:\n",
    "                   # print(snapshot['path'])\n",
    "                   for my_type in snapshot['type']:\n",
    "                        if my_type['code'] == \"Reference\" and len(my_type['targetProfile']) > 1:\n",
    "                            print(f\"{obj['title']}|{diff['path']}|{', '.join( my_type['targetProfile'])}\")\n",
    "                            break\n",
    "        except:\n",
    "            pass"
   ]
  },
  {
   "attachments": {},
   "cell_type": "markdown",
   "metadata": {},
   "source": [
    "### Write to file"
   ]
  },
  {
   "cell_type": "code",
   "execution_count": null,
   "metadata": {},
   "outputs": [],
   "source": [
    "out = my_path\n",
    "print( f'writing file to {out}')\n",
    "out.write_text(f)  "
   ]
  }
 ],
 "metadata": {
  "kernelspec": {
   "display_name": "Python 3.10.2 64-bit ('jupyter')",
   "language": "python",
   "name": "python3"
  },
  "language_info": {
   "codemirror_mode": {
    "name": "ipython",
    "version": 3
   },
   "file_extension": ".py",
   "mimetype": "text/x-python",
   "name": "python",
   "nbconvert_exporter": "python",
   "pygments_lexer": "ipython3",
   "version": "3.10.2"
  },
  "orig_nbformat": 4,
  "vscode": {
   "interpreter": {
    "hash": "18672f2fb81dcbb023a0ac48a86c775a19488782369d96ffbd3382a22fd285cf"
   }
  }
 },
 "nbformat": 4,
 "nbformat_minor": 2
}
