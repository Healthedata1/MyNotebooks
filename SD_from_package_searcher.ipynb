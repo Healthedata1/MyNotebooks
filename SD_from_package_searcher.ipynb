{
 "cells": [
  {
   "cell_type": "markdown",
   "metadata": {},
   "source": [
    "\n",
    "## Search through US Core SD to find all Vocabulary\n",
    "\n",
    "*USE Python 3.7 to maintain order of Json files*\n",
    "\n",
    "- Fetch package for IG\n",
    "- Fetch package for core\n",
    "- first pass : search package for all binding elements in differential\n",
    "    - what about inherited bindings??\n",
    "    - second pass: search for all path and look in the snapshot for that path  \n",
    "\n",
    "\n",
    "*Note need a successful build to generate since based on ig output local file\n",
    "alternatively use package.files to generate*"
   ]
  },
  {
   "cell_type": "markdown",
   "metadata": {},
   "source": [
    "### import python modules"
   ]
  },
  {
   "cell_type": "code",
   "execution_count": 1,
   "metadata": {},
   "outputs": [],
   "source": [
    "import Summary_maker.title_map as tm\n",
    "from pathlib import Path\n",
    "from json import loads, dumps\n",
    "from fhir.resources.structuredefinition import StructureDefinition\n",
    "from fhir.resources.elementdefinition import ElementDefinition\n",
    "from pprint import pprint"
   ]
  },
  {
   "cell_type": "markdown",
   "metadata": {},
   "source": [
    "### create dataframe"
   ]
  },
  {
   "cell_type": "code",
   "execution_count": 17,
   "metadata": {},
   "outputs": [
    {
     "data": {
      "text/html": [
       "<div>\n",
       "<style scoped>\n",
       "    .dataframe tbody tr th:only-of-type {\n",
       "        vertical-align: middle;\n",
       "    }\n",
       "\n",
       "    .dataframe tbody tr th {\n",
       "        vertical-align: top;\n",
       "    }\n",
       "\n",
       "    .dataframe thead th {\n",
       "        text-align: right;\n",
       "    }\n",
       "</style>\n",
       "<table border=\"1\" class=\"dataframe\">\n",
       "  <thead>\n",
       "    <tr style=\"text-align: right;\">\n",
       "      <th></th>\n",
       "      <th>element_path</th>\n",
       "      <th>resource_type</th>\n",
       "      <th>fhir_comments</th>\n",
       "      <th>extension</th>\n",
       "      <th>id</th>\n",
       "      <th>description</th>\n",
       "      <th>description__ext</th>\n",
       "      <th>strength</th>\n",
       "      <th>strength__ext</th>\n",
       "      <th>valueSet</th>\n",
       "      <th>valueSet__ext</th>\n",
       "    </tr>\n",
       "  </thead>\n",
       "  <tbody>\n",
       "  </tbody>\n",
       "</table>\n",
       "</div>"
      ],
      "text/plain": [
       "Empty DataFrame\n",
       "Columns: [element_path, resource_type, fhir_comments, extension, id, description, description__ext, strength, strength__ext, valueSet, valueSet__ext]\n",
       "Index: []"
      ]
     },
     "execution_count": 17,
     "metadata": {},
     "output_type": "execute_result"
    }
   ],
   "source": [
    "import pandas as pd\n",
    "binding_cols = [\n",
    "\"element_path\",\n",
    "\"resource_type\",\n",
    "\"fhir_comments\",\n",
    "\"extension\",\n",
    "\"id\",\n",
    "\"description\",\n",
    "\"description__ext\",\n",
    "\"strength\",\n",
    "\"strength__ext\",\n",
    "\"valueSet\",\n",
    "\"valueSet__ext\",\n",
    "]\n",
    "df = pd.DataFrame(columns=binding_cols, dtype=str)\n",
    "df"
   ]
  },
  {
   "cell_type": "markdown",
   "metadata": {},
   "source": [
    "### Fetch package and loop through SDs"
   ]
  },
  {
   "cell_type": "code",
   "execution_count": 22,
   "metadata": {},
   "outputs": [
    {
     "name": "stdout",
     "output_type": "stream",
     "text": [
      "0 StructureDefinition-us-core-observation-lab\n",
      "    4 bindings\n",
      "1 StructureDefinition-us-core-careteam\n",
      "    3 bindings\n",
      "2 StructureDefinition-us-core-direct\n",
      "    1 bindings\n",
      "3 StructureDefinition-us-core-observation-sdoh-assessment\n",
      "    2 bindings\n",
      "4 StructureDefinition-us-core-respiratory-rate\n",
      "    1 bindings\n",
      "5 StructureDefinition-us-core-observation-social-history\n",
      "    2 bindings\n",
      "6 StructureDefinition-us-core-heart-rate\n",
      "    1 bindings\n",
      "7 StructureDefinition-us-core-body-temperature\n",
      "    2 bindings\n",
      "8 StructureDefinition-us-core-practitioner\n",
      "    2 bindings\n",
      "9 StructureDefinition-us-core-patient\n",
      "    6 bindings\n",
      "10 StructureDefinition-us-core-pulse-oximetry\n",
      "    1 bindings\n",
      "11 StructureDefinition-us-core-condition-encounter-diagnosis\n",
      "    4 bindings\n",
      "12 StructureDefinition-us-core-immunization\n",
      "    4 bindings\n",
      "13 StructureDefinition-us-core-provenance\n",
      "    2 bindings\n",
      "14 StructureDefinition-us-core-smokingstatus\n",
      "    4 bindings\n",
      "15 StructureDefinition-us-core-relatedperson\n",
      "    1 bindings\n",
      "16 StructureDefinition-us-core-observation-sexual-orientation\n",
      "    3 bindings\n",
      "17 StructureDefinition-us-core-documentreference\n",
      "    5 bindings\n",
      "18 StructureDefinition-us-core-head-circumference\n",
      "    2 bindings\n",
      "19 StructureDefinition-us-core-race\n",
      "    3 bindings\n",
      "20 StructureDefinition-us-core-extension-questionnaire-uri\n",
      "    1 bindings\n",
      "21 StructureDefinition-us-core-medicationrequest\n",
      "    5 bindings\n",
      "22 StructureDefinition-us-core-birthsex\n",
      "    2 bindings\n",
      "23 StructureDefinition-us-core-encounter\n",
      "    3 bindings\n",
      "24 StructureDefinition-us-core-body-height\n",
      "    2 bindings\n",
      "25 StructureDefinition-us-core-bmi\n",
      "    1 bindings\n",
      "26 StructureDefinition-us-core-observation-survey\n",
      "    2 bindings\n",
      "27 StructureDefinition-us-core-organization\n",
      "    2 bindings\n",
      "28 StructureDefinition-us-core-genderIdentity\n",
      "    2 bindings\n",
      "29 StructureDefinition-us-core-procedure\n",
      "    3 bindings\n",
      "30 StructureDefinition-us-core-medication\n",
      "    2 bindings\n",
      "31 StructureDefinition-us-core-blood-pressure\n",
      "    1 bindings\n",
      "32 StructureDefinition-us-core-condition-problems-health-concerns\n",
      "    5 bindings\n",
      "33 StructureDefinition-us-core-diagnosticreport-note\n",
      "    4 bindings\n",
      "34 StructureDefinition-us-core-practitionerrole\n",
      "    3 bindings\n",
      "35 StructureDefinition-us-core-careplan\n",
      "    4 bindings\n",
      "36 StructureDefinition-us-core-servicerequest\n",
      "    3 bindings\n",
      "37 StructureDefinition-us-core-goal\n",
      "    3 bindings\n",
      "38 StructureDefinition-us-core-ethnicity\n",
      "    3 bindings\n",
      "39 StructureDefinition-us-core-location\n",
      "    2 bindings\n",
      "40 StructureDefinition-us-core-diagnosticreport-lab\n",
      "    3 bindings\n",
      "41 StructureDefinition-us-core-implantable-device\n",
      "    2 bindings\n",
      "42 StructureDefinition-us-core-observation-imaging\n",
      "    2 bindings\n",
      "43 StructureDefinition-us-core-observation-clinical-test\n",
      "    2 bindings\n",
      "44 StructureDefinition-us-core-allergyintolerance\n",
      "    5 bindings\n",
      "45 StructureDefinition-us-core-questionnaireresponse\n",
      "    2 bindings\n",
      "46 StructureDefinition-us-core-body-weight\n",
      "    2 bindings\n",
      "47 StructureDefinition-us-core-vital-signs\n",
      "    5 bindings\n"
     ]
    }
   ],
   "source": [
    "import warnings  #suppress pandas futures warnings\n",
    "warnings.filterwarnings(\"ignore\")\n",
    "\n",
    "test_element = \"binding\"\n",
    "\n",
    "us_core_pkg = Path(r'/Users/ehaas/.fhir/packages/hl7.fhir.us.core#dev/package')\n",
    "fhir_r4_pkg = Path(r'/Users/ehaas/.fhir/packages/hl7.fhir.r4.core#4.0.1/package')\n",
    "#f_name = 'us-core-patient'\n",
    "#n_path = '/Users/ehaas/.fhir/packages/hl7.fhir.us.core#dev' # package file keeps disappearing\n",
    "#in_path = '//ERICS-AIR-2/ehaas/Documents/FHIR/US-Core-R4/output'  # use local build dir.\n",
    "for i, sd in enumerate(us_core_pkg.glob('StructureDefinition-us-core-*.json')):\n",
    "    print(i, sd.stem,)\n",
    "    sd_obj = StructureDefinition.parse_raw(sd.read_text())  #get sd as fhir object\n",
    "    # print(sd_obj.id)\n",
    "    b_count = 1\n",
    "    for element in sd_obj.differential.element:\n",
    "        # print(element.path)\n",
    "        # print(element.binding)\n",
    "\n",
    "        try:\n",
    "            new_dict = dict(element.binding.dict())\n",
    "            new_dict['element_path'] = element.path\n",
    "            new_row = pd.Series(new_dict, name=sd.stem)\n",
    "            b_count += 1\n",
    "        except AttributeError:\n",
    "            new_row = pd.Series({\"element_path\": element.path}, name=sd.stem, dtype=str)\n",
    "        finally:\n",
    "            df = df.append(new_row)\n",
    "    print(f'    {b_count} bindings')\n",
    "    # break\n",
    "df.fillna(\"\")\n",
    "df.to_csv('/Users/ehaas/Documents/Python/Jupyter/MyNotebooks/utils/test_files/us_core_bindings.csv', index=True)"
   ]
  }
 ],
 "metadata": {
  "kernelspec": {
   "display_name": "Python 3.10.2 64-bit ('3.10.2')",
   "language": "python",
   "name": "python3"
  },
  "language_info": {
   "codemirror_mode": {
    "name": "ipython",
    "version": 3
   },
   "file_extension": ".py",
   "mimetype": "text/x-python",
   "name": "python",
   "nbconvert_exporter": "python",
   "pygments_lexer": "ipython3",
   "version": "3.10.2"
  },
  "vscode": {
   "interpreter": {
    "hash": "bb8ac4d7b3820c0aa90a30c1b759ca2e95fae5fe8e398fc22d29664b70d4e4bb"
   }
  }
 },
 "nbformat": 4,
 "nbformat_minor": 4
}
